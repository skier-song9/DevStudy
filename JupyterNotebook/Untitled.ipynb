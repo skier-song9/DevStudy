{
 "cells": [
  {
   "cell_type": "code",
   "execution_count": 5,
   "id": "5d0f73db",
   "metadata": {
    "ExecuteTime": {
     "end_time": "2023-12-20T07:31:05.775169Z",
     "start_time": "2023-12-20T07:31:05.766818Z"
    }
   },
   "outputs": [
    {
     "data": {
      "text/plain": [
       "[2, 3, 4, 4, 6, 8]"
      ]
     },
     "execution_count": 5,
     "metadata": {},
     "output_type": "execute_result"
    }
   ],
   "source": [
    "list_3 = [i*k for i in range(1,3) for k in range(2,5)] # >> [2,3,4,4,6,8]\n",
    "list_3"
   ]
  },
  {
   "cell_type": "code",
   "execution_count": 1,
   "id": "4cdf50c9",
   "metadata": {
    "ExecuteTime": {
     "end_time": "2023-12-20T04:12:01.747857Z",
     "start_time": "2023-12-20T04:11:59.362432Z"
    }
   },
   "outputs": [],
   "source": [
    "import numpy as np\n",
    "import pandas as pd"
   ]
  },
  {
   "cell_type": "code",
   "execution_count": 2,
   "id": "ec53e196",
   "metadata": {
    "ExecuteTime": {
     "end_time": "2023-12-20T04:17:02.508351Z",
     "start_time": "2023-12-20T04:17:02.491368Z"
    }
   },
   "outputs": [],
   "source": [
    "frost_neuroptics = {\n",
    "    'alloy_plate':150,\n",
    "    'neural_sensors':{\n",
    "        'alloy_plate':50000,\n",
    "        'nano_spores':50000,\n",
    "        'salvage':25000\n",
    "    },\n",
    "    'polymer_bundle':150,\n",
    "    'rubedo':500\n",
    "}\n",
    "\n",
    "frost_chassis = {\n",
    "    'morphics':{\n",
    "        'salvage':10000,\n",
    "        'nano_spores':25000,\n",
    "        'ferrite':10000,\n",
    "        'polymer_bundle':5000\n",
    "    },\n",
    "    'ferrite':1000,\n",
    "    'rubedo':300\n",
    "}\n",
    "\n",
    "frost_systems = {\n",
    "    'control_module':{\n",
    "        'salvage':10000,\n",
    "        'nano_spores':25000,\n",
    "        'ferrite':10000,\n",
    "        'alloy_plate':10000\n",
    "    },\n",
    "    'morphics':{\n",
    "        'salvage':10000,\n",
    "        'nano_spores':25000,\n",
    "        'ferrite':10000,\n",
    "        'polymer_bundle':5000\n",
    "    },\n",
    "    'salvage':500,\n",
    "    'plastids':500\n",
    "}\n",
    "\n",
    "orokin_cell = {\n",
    "    'alloy_plate':50000,\n",
    "    'nano_spores':50000,\n",
    "    'salvage':25000\n",
    "}"
   ]
  },
  {
   "cell_type": "code",
   "execution_count": 3,
   "id": "42e9b3dd",
   "metadata": {
    "ExecuteTime": {
     "end_time": "2023-12-20T04:43:30.716124Z",
     "start_time": "2023-12-20T04:43:30.706754Z"
    }
   },
   "outputs": [],
   "source": [
    "alloy_plate = ['Venus', 'Phobos', 'Ceres', 'Jupiter', 'Pluto', 'Sedna']\n",
    "salvage = ['Mars', 'Jupiter','Sedna']\n",
    "nano_spores = ['Saturn', 'Neptune', 'Eris', 'Deimos']\n",
    "ferrite = ['Mercury', 'Earth', 'Lua', 'Neptune', 'Void']\n",
    "polymer_bundle = ['Mercury', 'Venus', 'Uranus']\n",
    "rubedo = ['Earth', 'Lua', 'Phobos', 'Europa', 'Pluto', 'Sedna', 'Void']\n",
    "plastids = ['Phobos', 'Saturn', 'Uranus', 'Pluto', 'Eris']"
   ]
  },
  {
   "cell_type": "code",
   "execution_count": null,
   "id": "cce77471",
   "metadata": {},
   "outputs": [],
   "source": []
  },
  {
   "cell_type": "code",
   "execution_count": 1,
   "id": "bf1e2c81",
   "metadata": {
    "ExecuteTime": {
     "end_time": "2024-01-06T06:43:34.494597Z",
     "start_time": "2024-01-06T06:43:34.038595Z"
    }
   },
   "outputs": [
    {
     "name": "stdout",
     "output_type": "stream",
     "text": [
      "b'<OpenAPI_ServiceResponse>\\n\\t<cmmMsgHeader>\\n\\t\\t<errMsg>SERVICE ERROR</errMsg>\\n\\t\\t<returnAuthMsg>SERVICE_KEY_IS_NOT_REGISTERED_ERROR</returnAuthMsg>\\n\\t\\t<returnReasonCode>30</returnReasonCode>\\n\\t</cmmMsgHeader>\\n</OpenAPI_ServiceResponse>'\n"
     ]
    }
   ],
   "source": [
    "import requests\n",
    "\n",
    "servicekey = 'CCheX9s71QKkrT2WtKCYBn2Cxh%2BiryON7nqh5qi3LoT8ihI9pzqq3tDKxsubgkNwhJxTvmwdi1Bq671Cp4eIzg%3D%3D'\n",
    "numofrows = 30\n",
    "\n",
    "url = 'http://apis.data.go.kr/1360000/WthrRadarInfoService/getCompCappiQcdAll'\n",
    "params ={'serviceKey' : servicekey, 'pageNo' : '1', 'numOfRows' : numofrows, 'dataType' : 'XML', 'dateTime' : '202011120300', 'compType' : 'CPP', 'dataTypeCd' : 'CZ' }\n",
    "\n",
    "response = requests.get(url, params=params)\n",
    "print(response.content)"
   ]
  },
  {
   "cell_type": "code",
   "execution_count": 6,
   "id": "295fb2d6",
   "metadata": {
    "ExecuteTime": {
     "end_time": "2024-01-06T11:04:57.232121Z",
     "start_time": "2024-01-06T11:04:57.135809Z"
    }
   },
   "outputs": [
    {
     "name": "stdout",
     "output_type": "stream",
     "text": [
      "b'{\"response\":{\"header\":{\"resultCode\":\"99\",\"resultMsg\":\"\\xec\\xb5\\x9c\\xeb\\x8c\\x80 \\xec\\xa1\\xb0\\xed\\x9a\\x8c \\xea\\xb8\\xb0\\xea\\xb0\\x84\\xec\\x9d\\x80 \\xec\\x98\\xa4\\xeb\\x8a\\x98 \\xea\\xb8\\xb0\\xec\\xa4\\x80\\xec\\x9c\\xbc\\xeb\\xa1\\x9c 1\\xec\\x9d\\xbc \\xec\\xa0\\x84\\xea\\xb9\\x8c\\xec\\xa7\\x80\\xec\\x9e\\x85\\xeb\\x8b\\x88\\xeb\\x8b\\xa4.\"}}}'\n"
     ]
    }
   ],
   "source": [
    "import requests\n",
    "\n",
    "# 기상청 레이더영상 조회서비스\n",
    "# servicekey = 'CCheX9s71QKkrT2WtKCYBn2Cxh%2BiryON7nqh5qi3LoT8ihI9pzqq3tDKxsubgkNwhJxTvmwdi1Bq671Cp4eIzg%3D%3D' # URL Encode\n",
    "servicekey = 'CCheX9s71QKkrT2WtKCYBn2Cxh+iryON7nqh5qi3LoT8ihI9pzqq3tDKxsubgkNwhJxTvmwdi1Bq671Cp4eIzg==' # URL Decode\n",
    "\n",
    "url = 'http://apis.data.go.kr/1360000/RadarImgInfoService/getCmpImg'\n",
    "params ={'serviceKey' : servicekey, 'pageNo' : '1', 'numOfRows' : '10', 'dataType' : 'JSON', 'data' : 'CMP_WRC', 'time' : '20151013' }\n",
    "\n",
    "response = requests.get(url, params=params)\n",
    "print(response.content)"
   ]
  },
  {
   "cell_type": "code",
   "execution_count": 8,
   "id": "1ec06cf5",
   "metadata": {
    "ExecuteTime": {
     "end_time": "2024-01-09T07:23:00.871829Z",
     "start_time": "2024-01-09T07:23:00.857138Z"
    }
   },
   "outputs": [
    {
     "name": "stdout",
     "output_type": "stream",
     "text": [
      "0 XOR 0 -> 0\n",
      "0 XOR 1 -> 1\n",
      "1 XOR 0 -> 1\n",
      "1 XOR 1 -> 0\n"
     ]
    }
   ],
   "source": [
    "import numpy as np\n",
    "def AND(x1,x2):\n",
    "    x = np.array([x1,x2])\n",
    "    w = np.array([0.5,0.5])\n",
    "    b = -0.7\n",
    "    y = np.sum(w*x) + b\n",
    "    if y > 0: return 1;\n",
    "    else: return 0;\n",
    "def OR(x1,x2):\n",
    "    x = np.array([x1,x2])\n",
    "    w = np.array([0.5,0.5])\n",
    "    b = -0.2\n",
    "    y = np.sum(w*x) + b\n",
    "    if y > 0: return 1;\n",
    "    else: return 0;\n",
    "def NAND(x1,x2):\n",
    "    x = np.array([x1,x2])\n",
    "    w = np.array([-0.5,-0.5])\n",
    "    b = 0.7\n",
    "    y = np.sum(w*x) + b\n",
    "    if y > 0: return 1;\n",
    "    else: return 0;\n",
    "    \n",
    "def XOR(x1,x2):\n",
    "    s1 = NAND(x1,x2)\n",
    "    s2 = OR(x1,x2)\n",
    "    y = AND(s1,s2)\n",
    "    return y\n",
    "    \n",
    "cases = [[0,0],[0,1],[1,0],[1,1]]\n",
    "for c in cases:\n",
    "    x1,x2 = c\n",
    "    result = XOR(x1,x2)\n",
    "    print(f'{x1} XOR {x2} -> {result}')"
   ]
  },
  {
   "cell_type": "code",
   "execution_count": 4,
   "id": "702f68d0",
   "metadata": {
    "ExecuteTime": {
     "end_time": "2024-01-16T08:44:21.454340Z",
     "start_time": "2024-01-16T08:44:21.445249Z"
    }
   },
   "outputs": [
    {
     "name": "stdout",
     "output_type": "stream",
     "text": [
      "0 AND 0 -> 0\n",
      "0 AND 1 -> 0\n",
      "1 AND 0 -> 0\n",
      "1 AND 1 -> 1\n"
     ]
    }
   ],
   "source": [
    "import numpy as np\n",
    "def AND(x1,x2):\n",
    "    x = np.array([x1,x2])\n",
    "    w = np.array([0.5,0.5])\n",
    "    b = -0.7\n",
    "    y = np.sum(w*x) + b\n",
    "    if y > 0: return 1;\n",
    "    else: return 0;\n",
    "cases = [[0,0],[0,1],[1,0],[1,1]]\n",
    "for c in cases:\n",
    "    x1,x2 = c\n",
    "    result = AND(x1,x2)\n",
    "    print(f'{x1} AND {x2} -> {result}')"
   ]
  },
  {
   "cell_type": "code",
   "execution_count": 1,
   "id": "66d0fdc6",
   "metadata": {
    "ExecuteTime": {
     "end_time": "2024-01-20T06:45:16.312358Z",
     "start_time": "2024-01-20T06:45:14.578158Z"
    }
   },
   "outputs": [],
   "source": [
    "import torch\n",
    "import torchvision\n",
    "import torch.nn.functional as F\n",
    "from torchvision import transforms\n",
    "from torch.utils.data.dataloader import DataLoader"
   ]
  },
  {
   "cell_type": "code",
   "execution_count": 2,
   "id": "92366c15",
   "metadata": {
    "ExecuteTime": {
     "end_time": "2024-01-20T06:45:30.254762Z",
     "start_time": "2024-01-20T06:45:28.598932Z"
    }
   },
   "outputs": [],
   "source": [
    "device = 'cuda' if torch.cuda.is_available() else 'cpu'"
   ]
  },
  {
   "cell_type": "code",
   "execution_count": null,
   "id": "f3ae7896",
   "metadata": {},
   "outputs": [],
   "source": [
    "torch.manual_seed(123)\n",
    "if device = 'cuda':\n",
    "    torch.cuda.manual_seed_all(123)\n",
    "trans = transforms.Compose([\n",
    "    transforms.ToTensor(),\n",
    "    transforms.Normalize((0.1307),(0.3081))\n",
    "])\n",
    "\n",
    "train_X = torchvision.datasets.MNIST()"
   ]
  }
 ],
 "metadata": {
  "kernelspec": {
   "display_name": "Python 3 (ipykernel)",
   "language": "python",
   "name": "python3"
  },
  "language_info": {
   "codemirror_mode": {
    "name": "ipython",
    "version": 3
   },
   "file_extension": ".py",
   "mimetype": "text/x-python",
   "name": "python",
   "nbconvert_exporter": "python",
   "pygments_lexer": "ipython3",
   "version": "3.9.6"
  },
  "toc": {
   "base_numbering": 1,
   "nav_menu": {},
   "number_sections": false,
   "sideBar": true,
   "skip_h1_title": false,
   "title_cell": "Table of Contents",
   "title_sidebar": "Contents",
   "toc_cell": false,
   "toc_position": {},
   "toc_section_display": true,
   "toc_window_display": false
  }
 },
 "nbformat": 4,
 "nbformat_minor": 5
}
