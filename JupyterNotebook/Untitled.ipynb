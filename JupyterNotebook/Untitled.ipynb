{
 "cells": [
  {
   "cell_type": "code",
   "execution_count": 2,
   "id": "f0abcd0b-dc19-4d34-a16c-973bc3c38f51",
   "metadata": {},
   "outputs": [],
   "source": [
    "import cudf as pd\n",
    "from cuml import train_test_split\n",
    "from cuml.ensemble import RandomForestRegressor\n",
    "from cuml.metrics import mean_squared_error\n",
    "from cuml.preprocessing import StandardScaler"
   ]
  },
  {
   "cell_type": "code",
   "execution_count": null,
   "id": "db0faea4-9062-4e27-92e1-53fd7a5402fa",
   "metadata": {},
   "outputs": [],
   "source": []
  },
  {
   "cell_type": "code",
   "execution_count": null,
   "id": "87a93f90-cfb6-45bb-872e-b713dd449ae0",
   "metadata": {},
   "outputs": [],
   "source": []
  },
  {
   "cell_type": "code",
   "execution_count": null,
   "id": "c1dd36ce-2977-43bb-883c-8f96b2397fb5",
   "metadata": {},
   "outputs": [],
   "source": []
  },
  {
   "cell_type": "code",
   "execution_count": 2,
   "id": "c0f164ea-0be3-4ac1-9083-769a304e8143",
   "metadata": {
    "ExecuteTime": {
     "end_time": "2024-02-24T14:02:54.841998Z",
     "start_time": "2024-02-24T14:02:52.200029Z"
    }
   },
   "outputs": [
    {
     "name": "stdout",
     "output_type": "stream",
     "text": [
      "Python version: 3.9.6 (default, Aug 18 2021, 15:44:49) [MSC v.1916 64 bit (AMD64)]\n",
      "PyTorch version: 2.1.0+cu121\n",
      "scikit-learn version: 1.3.2\n",
      "Matplotlib version: 3.7.2\n"
     ]
    }
   ],
   "source": [
    "import sys\n",
    "import torch\n",
    "import sklearn\n",
    "import matplotlib\n",
    "\n",
    "print(\"Python version:\", sys.version)\n",
    "print(\"PyTorch version:\", torch.__version__)\n",
    "# print(\"Selenium version:\", selenium.__version__)\n",
    "print(\"scikit-learn version:\", sklearn.__version__)\n",
    "print(\"Matplotlib version:\", matplotlib.__version__)\n"
   ]
  },
  {
   "cell_type": "code",
   "execution_count": null,
   "id": "e9d2b54c-6896-4e7e-8c9b-e3d5a78aff40",
   "metadata": {},
   "outputs": [],
   "source": []
  },
  {
   "cell_type": "code",
   "execution_count": null,
   "id": "c814ca6b-92d2-4ebd-9981-8d6df0bbfa4d",
   "metadata": {},
   "outputs": [],
   "source": []
  },
  {
   "cell_type": "code",
   "execution_count": null,
   "id": "f434f71d-d1e7-4640-9120-415978aee51b",
   "metadata": {},
   "outputs": [],
   "source": []
  },
  {
   "cell_type": "code",
   "execution_count": null,
   "id": "f349fd48-86ef-481f-b85f-ae0b7c8c7a7b",
   "metadata": {},
   "outputs": [],
   "source": []
  }
 ],
 "metadata": {
  "kernelspec": {
   "display_name": "Python 3 (ipykernel)",
   "language": "python",
   "name": "python3"
  },
  "language_info": {
   "codemirror_mode": {
    "name": "ipython",
    "version": 3
   },
   "file_extension": ".py",
   "mimetype": "text/x-python",
   "name": "python",
   "nbconvert_exporter": "python",
   "pygments_lexer": "ipython3",
   "version": "3.9.6"
  },
  "toc": {
   "base_numbering": 1,
   "nav_menu": {},
   "number_sections": false,
   "sideBar": true,
   "skip_h1_title": false,
   "title_cell": "Table of Contents",
   "title_sidebar": "Contents",
   "toc_cell": false,
   "toc_position": {},
   "toc_section_display": true,
   "toc_window_display": false
  }
 },
 "nbformat": 4,
 "nbformat_minor": 5
}
