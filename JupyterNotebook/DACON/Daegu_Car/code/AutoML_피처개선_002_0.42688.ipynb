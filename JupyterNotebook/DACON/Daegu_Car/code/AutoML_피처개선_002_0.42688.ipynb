{
 "cells": [
  {
   "cell_type": "code",
   "execution_count": 1,
   "id": "qOczQMBWT2fZ",
   "metadata": {
    "ExecuteTime": {
     "end_time": "2023-12-08T14:10:00.804723Z",
     "start_time": "2023-12-08T14:10:00.793355Z"
    },
    "colab": {
     "base_uri": "https://localhost:8080/"
    },
    "executionInfo": {
     "elapsed": 19409,
     "status": "ok",
     "timestamp": 1701853102966,
     "user": {
      "displayName": "skiersong9",
      "userId": "11108221763786546299"
     },
     "user_tz": -540
    },
    "id": "qOczQMBWT2fZ",
    "outputId": "63869dea-d6c0-4bbc-b61f-1a79bfd6fc7f"
   },
   "outputs": [],
   "source": [
    "# from google.colab import drive\n",
    "# drive.mount('/content/drive')"
   ]
  },
  {
   "cell_type": "code",
   "execution_count": 2,
   "id": "4kXpWiNET2Xg",
   "metadata": {
    "ExecuteTime": {
     "end_time": "2023-12-08T14:10:00.820799Z",
     "start_time": "2023-12-08T14:10:00.807380Z"
    },
    "colab": {
     "base_uri": "https://localhost:8080/"
    },
    "executionInfo": {
     "elapsed": 24262,
     "status": "ok",
     "timestamp": 1701853127222,
     "user": {
      "displayName": "skiersong9",
      "userId": "11108221763786546299"
     },
     "user_tz": -540
    },
    "id": "4kXpWiNET2Xg",
    "outputId": "01951975-3e3f-4bc2-c112-fd532ddf256d"
   },
   "outputs": [],
   "source": [
    "# !pip install category_encoders\n",
    "# !pip install dacon_submit_api-0.0.4-py3-none-any.whl\n",
    "# !pip install mljar-supervised"
   ]
  },
  {
   "cell_type": "code",
   "execution_count": 3,
   "id": "H9h_njVYT2Na",
   "metadata": {
    "ExecuteTime": {
     "end_time": "2023-12-08T14:10:09.286155Z",
     "start_time": "2023-12-08T14:10:00.823305Z"
    },
    "executionInfo": {
     "elapsed": 4402,
     "status": "ok",
     "timestamp": 1701853233903,
     "user": {
      "displayName": "skiersong9",
      "userId": "11108221763786546299"
     },
     "user_tz": -540
    },
    "id": "H9h_njVYT2Na"
   },
   "outputs": [],
   "source": [
    "## import \n",
    "import pandas as pd\n",
    "import numpy as np\n",
    "from supervised.automl import AutoML\n",
    "\n",
    "# vis\n",
    "import matplotlib.pylab as plt\n",
    "from matplotlib import font_manager, rc\n",
    "import matplotlib\n",
    "%matplotlib inline\n",
    "# matplotlib.rcParams['font.family'] = 'Malgun Gothic' # 한글 패치. 코랩에선 주석하셈\n",
    "import seaborn as sns\n",
    "\n",
    "# sklearn\n",
    "from sklearn.model_selection import train_test_split\n",
    "from sklearn.preprocessing import MinMaxScaler, LabelEncoder, OneHotEncoder\n",
    "from sklearn.impute import SimpleImputer \n",
    "from sklearn.preprocessing import StandardScaler\n",
    "from sklearn.preprocessing import PowerTransformer\n",
    "from sklearn.feature_selection import SelectPercentile\n",
    "from sklearn.model_selection import GridSearchCV\n",
    "from sklearn.model_selection import RandomizedSearchCV\n",
    "# Modeling\n",
    "from sklearn.dummy import DummyClassifier\n",
    "from sklearn.linear_model import LogisticRegression,LinearRegression\n",
    "from sklearn.neighbors import KNeighborsClassifier\n",
    "from sklearn.ensemble import RandomForestClassifier\n",
    "from sklearn.neural_network import MLPClassifier\n",
    "from sklearn.tree import DecisionTreeClassifier\n",
    "from sklearn.ensemble import ExtraTreesClassifier\n",
    "from sklearn.ensemble import GradientBoostingClassifier\n",
    "from xgboost import XGBClassifier, XGBRegressor, XGBRFRegressor\n",
    "from lightgbm import LGBMClassifier, LGBMRegressor\n",
    "from sklearn.svm import SVC\n",
    "from sklearn.ensemble import VotingClassifier, VotingRegressor \n",
    "from sklearn.ensemble import StackingClassifier, StackingRegressor\n",
    "from sklearn.base import ClassifierMixin\n",
    "# Evaluation\n",
    "from sklearn.metrics import roc_auc_score\n",
    "from sklearn.metrics import accuracy_score\n",
    "from sklearn.model_selection import cross_val_score\n",
    "from sklearn.metrics import log_loss,mean_squared_error\n",
    "\n",
    "# CatBoost\n",
    "from catboost import CatBoostRegressor\n",
    "\n",
    "# Utility\n",
    "import os\n",
    "import time\n",
    "import datetime # ⚠️2019년 12월30일과 31일의 week of year가 1인 오류가 있음\n",
    "import random\n",
    "import warnings; warnings.filterwarnings(\"ignore\")\n",
    "from IPython.display import Image\n",
    "# import pickle\n",
    "from tqdm import tqdm\n",
    "import platform\n",
    "from itertools import combinations\n",
    "from scipy.stats.mstats import gmean\n",
    "import holidays\n",
    "\n",
    "# 시드값 고정\n",
    "def seed_everything(seed):\n",
    "    random.seed(seed)\n",
    "    os.environ['PYTHONHASHSEED'] = str(seed)\n",
    "    np.random.seed(seed)\n",
    "\n",
    "seed_everything(2023)\n",
    "\n",
    "# 데이터프레임 컬럼 전체 보기\n",
    "pd.set_option('display.max_columns', None)"
   ]
  },
  {
   "cell_type": "code",
   "execution_count": 4,
   "id": "bc61c7b3",
   "metadata": {
    "ExecuteTime": {
     "end_time": "2023-12-08T14:10:09.552959Z",
     "start_time": "2023-12-08T14:10:09.289658Z"
    },
    "executionInfo": {
     "elapsed": 712,
     "status": "ok",
     "timestamp": 1701853289826,
     "user": {
      "displayName": "skiersong9",
      "userId": "11108221763786546299"
     },
     "user_tz": -540
    },
    "id": "bc61c7b3"
   },
   "outputs": [],
   "source": [
    "# 데이터 로드\n",
    "\n",
    "path = '../data/daegu/automl/'\n",
    "\n",
    "train_org = pd.read_csv(path+'train.csv')\n",
    "test_org = pd.read_csv(path+'test.csv')"
   ]
  },
  {
   "cell_type": "code",
   "execution_count": 5,
   "id": "5ffcb5b0",
   "metadata": {
    "ExecuteTime": {
     "end_time": "2023-12-08T14:10:10.312901Z",
     "start_time": "2023-12-08T14:10:09.555072Z"
    }
   },
   "outputs": [],
   "source": [
    "# 이희원님 코드 그대로 사용\n",
    "for df in [train_org, test_org]:\n",
    "    # 날짜 데이터\n",
    "    time_pattern = r'(\\d{4})-(\\d{1,2})-(\\d{1,2}) (\\d{1,2})'\n",
    "\n",
    "    df[['연', '월', '일', '시간']] = df['사고일시'].str.extract(time_pattern)\n",
    "    df[['연', '월', '일', '시간']] = df[['연', '월', '일', '시간']].apply(pd.to_numeric) # 추출된 문자열을 수치화해줍니다\n",
    "    df['사고일시'] = pd.to_datetime(df['사고일시'])\n",
    "    # df= df.drop(columns=['사고일시']) # 일단 냄겨두자\n",
    "\n",
    "    # 도시/구/동 분리\n",
    "    location_pattern = r'(\\S+) (\\S+) (\\S+)'\n",
    "\n",
    "    df[['도시', '구', '동']] = df['시군구'].str.extract(location_pattern)\n",
    "    # df= df.drop(columns=['시군구']) # 얘도 일단 냄겨놔\n",
    "\n",
    "    # 도로형태도 분류 코드\n",
    "    #road_pattern = r'(.+) - (.+)'\n",
    "\n",
    "    #df[['도로형태1', '도로형태2']] = df['도로형태'].str.extract(road_pattern)\n",
    "    #df= df.drop(columns=['도로형태']) # 얘는 드롭함\n",
    "\n",
    "    # 시간 >> 코사인 변환\n",
    "#     df['cos_hour'] = np.cos(2 * np.pi * df['시간'] / 24)\n",
    "    # 📢송규헌) 사인-코사인 변환\n",
    "    df['cos_hour'] = np.sign(np.pi*2*df['시간']/24) + np.cos(np.pi*2*df['시간']/24) + np.sign(np.pi*4*df['시간']/24) + np.cos(np.pi*4*df['시간']/24)\n",
    "\n",
    "    # 월 >> 코사인 변환\n",
    "    df['cos_month'] = -np.cos(np.pi*2*df['월']/12) + np.cos(np.pi*2*df['월']/12) - np.cos(np.pi*4*df['월']/12) + np.sign(np.pi*5*df['월']/12) + np.cos(np.pi*1*df['월']/12) + 2\n",
    "\n",
    "    \n",
    "    # 공휴일 (주말과 공휴일을 묶음)\n",
    "    # 공휴일 = 1, 비공휴일 = 0\n",
    "    holi_weekday = ['2019-01-01', '2019-02-04', '2019-02-05', '2019-02-06', '2019-03-01', '2019-05-05', '2019-05-12', '2019-06-06', '2019-08-15', '2019-09-12', '2019-09-13', '2019-09-14', '2019-10-03', '2019-10-09', '2019-12-25',\n",
    "                '2020-01-01' ,'2020-01-24' ,'2020-01-25', '2020-01-26', '2020-03-01', '2020-04-30', '2020-05-05', '2020-06-06', '2020-08-15', '2020-08-17', '2020-09-30', '2020-10-01', '2020-10-02', '2020-10-03', '2020-10-09', '2020-12-25',\n",
    "                '2021-01-01' ,'2021-02-11' ,'2021-02-12', '2021-02-13', '2021-03-01', '2021-05-05', '2021-05-19', '2021-06-06', '2021-08-15', '2021-09-20', '2021-09-21', '2021-09-22', '2021-10-03', '2021-10-09', '2021-12-25',\n",
    "                '2022-01-01' ,'2022-01-31' ,'2022-02-01', '2022-02-02', '2022-03-01', '2022-05-05', '2022-05-08', '2022-06-06', '2022-08-15', '2022-09-09', '2022-09-10', '2022-09-11', '2022-09-12', '2022-10-03', '2022-10-09', '2020-10-10', '2022-12-25',\n",
    "                '2023-01-01' ,'2023-01-21' ,'2023-01-22', '2023-01-23', '2023-01-24', '2023-03-01']\n",
    "    df['dow'] = df['사고일시'].dt.dayofweek #임시로 만든 컬럼\n",
    "    df['holiday'] = np.where((df['dow']>=5) | (df['사고일시'].dt.strftime('%Y-%m-%d').isin(holi_weekday)),1,0)\n",
    "    df.drop('dow',axis=1,inplace=True)\n",
    "    \n",
    "    # 계절 >> cos_month 사용할 때는 season은 생략\n",
    "#     def group_season(df):\n",
    "#         df.loc[(df['월'] == 3) | (df['월'] == 4) | (df['월'] == 5), 'season'] = '봄'\n",
    "#         df.loc[(df['월'] == 6) | (df['월'] == 7) | (df['월'] == 8), 'season'] = '여름'\n",
    "#         df.loc[(df['월'] == 9) | (df['월'] == 10) | (df['월'] == 11), 'season'] = '가을'\n",
    "#         df.loc[(df['월'] == 12) | (df['월'] == 1) | (df['월'] == 2), 'season'] = '겨울'\n",
    "#         return df['season']\n",
    "#     df['season'] = group_season(df)"
   ]
  },
  {
   "cell_type": "code",
   "execution_count": 6,
   "id": "1d72751f",
   "metadata": {
    "ExecuteTime": {
     "end_time": "2023-12-08T14:10:10.328322Z",
     "start_time": "2023-12-08T14:10:10.315082Z"
    }
   },
   "outputs": [],
   "source": [
    "train_df = train_org\n",
    "test_df = test_org"
   ]
  },
  {
   "cell_type": "code",
   "execution_count": 7,
   "id": "8f2015e9",
   "metadata": {
    "ExecuteTime": {
     "end_time": "2023-12-08T14:10:10.543402Z",
     "start_time": "2023-12-08T14:10:10.331335Z"
    }
   },
   "outputs": [],
   "source": [
    "# load data\n",
    "light_df = pd.read_csv(path+'동별_보안등개수.csv').rename(columns={'설치개수':'보안등개수'})\n",
    "parking_df = pd.read_csv(path+'주차장급지구분별개수.csv')\n",
    "speed_df = pd.read_csv(path+'동별_제한속도.csv')\n",
    "cross_walk_df = pd.read_csv(path+'동별_횡단보도개수.csv')\n",
    "child_area_df = pd.read_csv(path+'동별_어린이보호구역개수.csv')\n",
    "\n",
    "\n",
    "# merge data\n",
    "train_df = pd.merge(train_df, light_df, how='left', on=['구','동'])\n",
    "train_df = pd.merge(train_df, parking_df, how='left', on=['구','동'])\n",
    "train_df = pd.merge(train_df, speed_df, how='left', on='동')\n",
    "train_df = pd.merge(train_df, cross_walk_df, how='left', on='동')\n",
    "train_df = pd.merge(train_df, child_area_df, how='left', on=['구','동'])\n",
    "\n",
    "test_df = pd.merge(test_df, light_df, how='left', on=['구','동'])\n",
    "test_df = pd.merge(test_df, parking_df, how='left', on=['구','동'])\n",
    "test_df = pd.merge(test_df, speed_df, how='left', on='동')\n",
    "test_df = pd.merge(test_df, cross_walk_df, how='left', on='동')\n",
    "test_df = pd.merge(test_df, child_area_df, how='left', on=['구','동'])\n"
   ]
  },
  {
   "cell_type": "code",
   "execution_count": 8,
   "id": "7d7d8c9e",
   "metadata": {
    "ExecuteTime": {
     "end_time": "2023-12-08T14:10:10.574826Z",
     "start_time": "2023-12-08T14:10:10.546413Z"
    }
   },
   "outputs": [],
   "source": [
    "### 피처 추가...\n",
    "\n",
    "# 시군구별 사고횟수 >> 기본 코드 사용\n",
    "accident_counts = train_df['시군구'].value_counts().reset_index()\n",
    "accident_counts.columns = ['시군구', '사고횟수']\n",
    "# '시군구'별 사고 횟수를 train_df에 매핑하기 위해 '시군구' 컬럼을 기준으로 사고 횟수를 가져옵니다.\n",
    "train_df['사고발생횟수'] = train_df['시군구'].map(accident_counts.set_index('시군구')['사고횟수'])\n",
    "test_df['사고발생횟수'] = test_df['시군구'].map(accident_counts.set_index('시군구')['사고횟수'])\n",
    "\n",
    "\n"
   ]
  },
  {
   "cell_type": "code",
   "execution_count": 9,
   "id": "c4e1bfa4",
   "metadata": {
    "ExecuteTime": {
     "end_time": "2023-12-08T14:10:10.606116Z",
     "start_time": "2023-12-08T14:10:10.578201Z"
    }
   },
   "outputs": [],
   "source": [
    "# 📢송규헌) 연도값을 연도별 eclo평균값으로 변경\n",
    "# 선형추세\n",
    "yearly_eclo_avg = train_df.groupby('연')['ECLO'].mean()\n",
    "x = np.array(yearly_eclo_avg.index)\n",
    "y = yearly_eclo_avg.values\n",
    "lr = LinearRegression()\n",
    "lr.fit(x.reshape(-1,1),y.reshape(-1,1))\n",
    "pred = lr.predict(np.array([2022]).reshape(-1,1))\n",
    "yearly_eclo_avg[2022] = pred.reshape(1)[0]\n",
    "\n",
    "train_df['연'] =  train_df['연'].map(yearly_eclo_avg)\n",
    "test_df['연'] =  test_df['연'].map(yearly_eclo_avg)"
   ]
  },
  {
   "cell_type": "code",
   "execution_count": null,
   "id": "d8cb9435",
   "metadata": {},
   "outputs": [],
   "source": []
  },
  {
   "cell_type": "code",
   "execution_count": 10,
   "id": "ec61143f",
   "metadata": {
    "ExecuteTime": {
     "end_time": "2023-12-08T14:10:10.684264Z",
     "start_time": "2023-12-08T14:10:10.611139Z"
    }
   },
   "outputs": [
    {
     "data": {
      "text/html": [
       "<div>\n",
       "<style scoped>\n",
       "    .dataframe tbody tr th:only-of-type {\n",
       "        vertical-align: middle;\n",
       "    }\n",
       "\n",
       "    .dataframe tbody tr th {\n",
       "        vertical-align: top;\n",
       "    }\n",
       "\n",
       "    .dataframe thead th {\n",
       "        text-align: right;\n",
       "    }\n",
       "</style>\n",
       "<table border=\"1\" class=\"dataframe\">\n",
       "  <thead>\n",
       "    <tr style=\"text-align: right;\">\n",
       "      <th></th>\n",
       "      <th>ID</th>\n",
       "      <th>사고일시</th>\n",
       "      <th>요일</th>\n",
       "      <th>기상상태</th>\n",
       "      <th>시군구</th>\n",
       "      <th>도로형태</th>\n",
       "      <th>노면상태</th>\n",
       "      <th>사고유형</th>\n",
       "      <th>사고유형 - 세부분류</th>\n",
       "      <th>법규위반</th>\n",
       "      <th>가해운전자 차종</th>\n",
       "      <th>가해운전자 성별</th>\n",
       "      <th>가해운전자 연령</th>\n",
       "      <th>가해운전자 상해정도</th>\n",
       "      <th>피해운전자 차종</th>\n",
       "      <th>피해운전자 성별</th>\n",
       "      <th>피해운전자 연령</th>\n",
       "      <th>피해운전자 상해정도</th>\n",
       "      <th>사망자수</th>\n",
       "      <th>중상자수</th>\n",
       "      <th>경상자수</th>\n",
       "      <th>부상자수</th>\n",
       "      <th>ECLO</th>\n",
       "      <th>연</th>\n",
       "      <th>월</th>\n",
       "      <th>일</th>\n",
       "      <th>시간</th>\n",
       "      <th>도시</th>\n",
       "      <th>구</th>\n",
       "      <th>동</th>\n",
       "      <th>cos_hour</th>\n",
       "      <th>cos_month</th>\n",
       "      <th>holiday</th>\n",
       "      <th>보안등개수</th>\n",
       "      <th>급지구분_1</th>\n",
       "      <th>급지구분_2</th>\n",
       "      <th>급지구분_3</th>\n",
       "      <th>제한속도</th>\n",
       "      <th>횡단보도개수</th>\n",
       "      <th>어린이보호구역개수</th>\n",
       "      <th>사고발생횟수</th>\n",
       "    </tr>\n",
       "  </thead>\n",
       "  <tbody>\n",
       "    <tr>\n",
       "      <th>0</th>\n",
       "      <td>ACCIDENT_00000</td>\n",
       "      <td>2019-01-01</td>\n",
       "      <td>화요일</td>\n",
       "      <td>맑음</td>\n",
       "      <td>대구광역시 중구 대신동</td>\n",
       "      <td>단일로 - 기타</td>\n",
       "      <td>건조</td>\n",
       "      <td>차대사람</td>\n",
       "      <td>길가장자리구역통행중</td>\n",
       "      <td>안전운전불이행</td>\n",
       "      <td>승용</td>\n",
       "      <td>여</td>\n",
       "      <td>51세</td>\n",
       "      <td>상해없음</td>\n",
       "      <td>보행자</td>\n",
       "      <td>여</td>\n",
       "      <td>70세</td>\n",
       "      <td>중상</td>\n",
       "      <td>0</td>\n",
       "      <td>1</td>\n",
       "      <td>0</td>\n",
       "      <td>0</td>\n",
       "      <td>5</td>\n",
       "      <td>4.842185</td>\n",
       "      <td>1</td>\n",
       "      <td>1</td>\n",
       "      <td>0</td>\n",
       "      <td>대구광역시</td>\n",
       "      <td>중구</td>\n",
       "      <td>대신동</td>\n",
       "      <td>2.0</td>\n",
       "      <td>3.465926</td>\n",
       "      <td>1</td>\n",
       "      <td>391.0</td>\n",
       "      <td>11.0</td>\n",
       "      <td>0.0</td>\n",
       "      <td>0.0</td>\n",
       "      <td>40.0</td>\n",
       "      <td>5929.0</td>\n",
       "      <td>2.0</td>\n",
       "      <td>131</td>\n",
       "    </tr>\n",
       "    <tr>\n",
       "      <th>1</th>\n",
       "      <td>ACCIDENT_00001</td>\n",
       "      <td>2019-01-01</td>\n",
       "      <td>화요일</td>\n",
       "      <td>흐림</td>\n",
       "      <td>대구광역시 달서구 감삼동</td>\n",
       "      <td>단일로 - 기타</td>\n",
       "      <td>건조</td>\n",
       "      <td>차대사람</td>\n",
       "      <td>보도통행중</td>\n",
       "      <td>기타</td>\n",
       "      <td>승용</td>\n",
       "      <td>남</td>\n",
       "      <td>39세</td>\n",
       "      <td>상해없음</td>\n",
       "      <td>보행자</td>\n",
       "      <td>남</td>\n",
       "      <td>61세</td>\n",
       "      <td>경상</td>\n",
       "      <td>0</td>\n",
       "      <td>0</td>\n",
       "      <td>1</td>\n",
       "      <td>0</td>\n",
       "      <td>3</td>\n",
       "      <td>4.842185</td>\n",
       "      <td>1</td>\n",
       "      <td>1</td>\n",
       "      <td>0</td>\n",
       "      <td>대구광역시</td>\n",
       "      <td>달서구</td>\n",
       "      <td>감삼동</td>\n",
       "      <td>2.0</td>\n",
       "      <td>3.465926</td>\n",
       "      <td>1</td>\n",
       "      <td>941.0</td>\n",
       "      <td>0.0</td>\n",
       "      <td>1.0</td>\n",
       "      <td>3.0</td>\n",
       "      <td>52.5</td>\n",
       "      <td>10000.0</td>\n",
       "      <td>NaN</td>\n",
       "      <td>678</td>\n",
       "    </tr>\n",
       "  </tbody>\n",
       "</table>\n",
       "</div>"
      ],
      "text/plain": [
       "               ID       사고일시   요일 기상상태            시군구      도로형태 노면상태  사고유형  \\\n",
       "0  ACCIDENT_00000 2019-01-01  화요일   맑음   대구광역시 중구 대신동  단일로 - 기타   건조  차대사람   \n",
       "1  ACCIDENT_00001 2019-01-01  화요일   흐림  대구광역시 달서구 감삼동  단일로 - 기타   건조  차대사람   \n",
       "\n",
       "  사고유형 - 세부분류     법규위반 가해운전자 차종 가해운전자 성별 가해운전자 연령 가해운전자 상해정도 피해운전자 차종  \\\n",
       "0  길가장자리구역통행중  안전운전불이행       승용        여      51세       상해없음      보행자   \n",
       "1       보도통행중       기타       승용        남      39세       상해없음      보행자   \n",
       "\n",
       "  피해운전자 성별 피해운전자 연령 피해운전자 상해정도  사망자수  중상자수  경상자수  부상자수  ECLO         연  월  일  \\\n",
       "0        여      70세         중상     0     1     0     0     5  4.842185  1  1   \n",
       "1        남      61세         경상     0     0     1     0     3  4.842185  1  1   \n",
       "\n",
       "   시간     도시    구    동  cos_hour  cos_month  holiday  보안등개수  급지구분_1  급지구분_2  \\\n",
       "0   0  대구광역시   중구  대신동       2.0   3.465926        1  391.0    11.0     0.0   \n",
       "1   0  대구광역시  달서구  감삼동       2.0   3.465926        1  941.0     0.0     1.0   \n",
       "\n",
       "   급지구분_3  제한속도   횡단보도개수  어린이보호구역개수  사고발생횟수  \n",
       "0     0.0  40.0   5929.0        2.0     131  \n",
       "1     3.0  52.5  10000.0        NaN     678  "
      ]
     },
     "metadata": {},
     "output_type": "display_data"
    },
    {
     "data": {
      "text/html": [
       "<div>\n",
       "<style scoped>\n",
       "    .dataframe tbody tr th:only-of-type {\n",
       "        vertical-align: middle;\n",
       "    }\n",
       "\n",
       "    .dataframe tbody tr th {\n",
       "        vertical-align: top;\n",
       "    }\n",
       "\n",
       "    .dataframe thead th {\n",
       "        text-align: right;\n",
       "    }\n",
       "</style>\n",
       "<table border=\"1\" class=\"dataframe\">\n",
       "  <thead>\n",
       "    <tr style=\"text-align: right;\">\n",
       "      <th></th>\n",
       "      <th>ID</th>\n",
       "      <th>사고일시</th>\n",
       "      <th>요일</th>\n",
       "      <th>기상상태</th>\n",
       "      <th>시군구</th>\n",
       "      <th>도로형태</th>\n",
       "      <th>노면상태</th>\n",
       "      <th>사고유형</th>\n",
       "      <th>연</th>\n",
       "      <th>월</th>\n",
       "      <th>일</th>\n",
       "      <th>시간</th>\n",
       "      <th>도시</th>\n",
       "      <th>구</th>\n",
       "      <th>동</th>\n",
       "      <th>cos_hour</th>\n",
       "      <th>cos_month</th>\n",
       "      <th>holiday</th>\n",
       "      <th>보안등개수</th>\n",
       "      <th>급지구분_1</th>\n",
       "      <th>급지구분_2</th>\n",
       "      <th>급지구분_3</th>\n",
       "      <th>제한속도</th>\n",
       "      <th>횡단보도개수</th>\n",
       "      <th>어린이보호구역개수</th>\n",
       "      <th>사고발생횟수</th>\n",
       "    </tr>\n",
       "  </thead>\n",
       "  <tbody>\n",
       "    <tr>\n",
       "      <th>0</th>\n",
       "      <td>ACCIDENT_39609</td>\n",
       "      <td>2022-01-01 01:00:00</td>\n",
       "      <td>토요일</td>\n",
       "      <td>맑음</td>\n",
       "      <td>대구광역시 수성구 상동</td>\n",
       "      <td>교차로 - 교차로안</td>\n",
       "      <td>건조</td>\n",
       "      <td>차대사람</td>\n",
       "      <td>4.474125</td>\n",
       "      <td>1</td>\n",
       "      <td>1</td>\n",
       "      <td>1</td>\n",
       "      <td>대구광역시</td>\n",
       "      <td>수성구</td>\n",
       "      <td>상동</td>\n",
       "      <td>3.831951</td>\n",
       "      <td>3.465926</td>\n",
       "      <td>1</td>\n",
       "      <td>700.0</td>\n",
       "      <td>NaN</td>\n",
       "      <td>NaN</td>\n",
       "      <td>NaN</td>\n",
       "      <td>52.500000</td>\n",
       "      <td>9025.0</td>\n",
       "      <td>5.0</td>\n",
       "      <td>338</td>\n",
       "    </tr>\n",
       "    <tr>\n",
       "      <th>1</th>\n",
       "      <td>ACCIDENT_39610</td>\n",
       "      <td>2022-01-01 01:00:00</td>\n",
       "      <td>토요일</td>\n",
       "      <td>맑음</td>\n",
       "      <td>대구광역시 수성구 지산동</td>\n",
       "      <td>단일로 - 기타</td>\n",
       "      <td>건조</td>\n",
       "      <td>차대사람</td>\n",
       "      <td>4.474125</td>\n",
       "      <td>1</td>\n",
       "      <td>1</td>\n",
       "      <td>1</td>\n",
       "      <td>대구광역시</td>\n",
       "      <td>수성구</td>\n",
       "      <td>지산동</td>\n",
       "      <td>3.831951</td>\n",
       "      <td>3.465926</td>\n",
       "      <td>1</td>\n",
       "      <td>NaN</td>\n",
       "      <td>0.0</td>\n",
       "      <td>0.0</td>\n",
       "      <td>2.0</td>\n",
       "      <td>47.142857</td>\n",
       "      <td>52441.0</td>\n",
       "      <td>10.0</td>\n",
       "      <td>492</td>\n",
       "    </tr>\n",
       "  </tbody>\n",
       "</table>\n",
       "</div>"
      ],
      "text/plain": [
       "               ID                사고일시   요일 기상상태            시군구        도로형태  \\\n",
       "0  ACCIDENT_39609 2022-01-01 01:00:00  토요일   맑음   대구광역시 수성구 상동  교차로 - 교차로안   \n",
       "1  ACCIDENT_39610 2022-01-01 01:00:00  토요일   맑음  대구광역시 수성구 지산동    단일로 - 기타   \n",
       "\n",
       "  노면상태  사고유형         연  월  일  시간     도시    구    동  cos_hour  cos_month  \\\n",
       "0   건조  차대사람  4.474125  1  1   1  대구광역시  수성구   상동  3.831951   3.465926   \n",
       "1   건조  차대사람  4.474125  1  1   1  대구광역시  수성구  지산동  3.831951   3.465926   \n",
       "\n",
       "   holiday  보안등개수  급지구분_1  급지구분_2  급지구분_3       제한속도   횡단보도개수  어린이보호구역개수  \\\n",
       "0        1  700.0     NaN     NaN     NaN  52.500000   9025.0        5.0   \n",
       "1        1    NaN     0.0     0.0     2.0  47.142857  52441.0       10.0   \n",
       "\n",
       "   사고발생횟수  \n",
       "0     338  \n",
       "1     492  "
      ]
     },
     "metadata": {},
     "output_type": "display_data"
    }
   ],
   "source": [
    "# 점검\n",
    "display(train_df.head(2))\n",
    "display(test_df.head(2))"
   ]
  },
  {
   "cell_type": "code",
   "execution_count": null,
   "id": "f61bcd72",
   "metadata": {
    "ExecuteTime": {
     "start_time": "2023-12-07T05:14:13.489Z"
    }
   },
   "outputs": [],
   "source": []
  },
  {
   "cell_type": "code",
   "execution_count": 11,
   "id": "595eac16",
   "metadata": {
    "ExecuteTime": {
     "end_time": "2023-12-08T14:10:10.715804Z",
     "start_time": "2023-12-08T14:10:10.687671Z"
    }
   },
   "outputs": [],
   "source": [
    "# 불필요 컬럼 제거\n",
    "drop_columns = ['ID','도시','시간','시군구','사고일시','사고유형 - 세부분류','법규위반','가해운전자 차종','가해운전자 성별','가해운전자 연령',\n",
    "       '가해운전자 상해정도','사망자수','중상자수','피해운전자 차종','피해운전자 성별',\n",
    "      '피해운전자 연령','피해운전자 상해정도','경상자수','부상자수',\n",
    "       '월'\n",
    "]\n",
    "train_df.drop(columns = drop_columns,inplace=True)\n",
    "test_df.drop(columns=['ID','도시','시간','사고일시','시군구','월'\n",
    "                     \n",
    "                     \n",
    "                     \n",
    "                     ],inplace=True)"
   ]
  },
  {
   "cell_type": "markdown",
   "id": "f17dfb75",
   "metadata": {},
   "source": [
    "### 이상치 처리 및 결측값 처리"
   ]
  },
  {
   "cell_type": "code",
   "execution_count": 12,
   "id": "b84a482a",
   "metadata": {
    "ExecuteTime": {
     "end_time": "2023-12-08T14:10:10.746567Z",
     "start_time": "2023-12-08T14:10:10.718918Z"
    }
   },
   "outputs": [
    {
     "data": {
      "text/plain": [
       "어린이보호구역개수    18426\n",
       "보안등개수        13813\n",
       "급지구분_3        6543\n",
       "급지구분_2        6543\n",
       "급지구분_1        6543\n",
       "제한속도          2442\n",
       "횡단보도개수          62\n",
       "요일               0\n",
       "cos_month        0\n",
       "holiday          0\n",
       "cos_hour         0\n",
       "dtype: int64"
      ]
     },
     "execution_count": 12,
     "metadata": {},
     "output_type": "execute_result"
    }
   ],
   "source": [
    "# 결측값 확인 \n",
    "train_df.isnull().sum().sort_values(ascending=False)[:11]"
   ]
  },
  {
   "cell_type": "code",
   "execution_count": 13,
   "id": "6f8231ef",
   "metadata": {
    "ExecuteTime": {
     "end_time": "2023-12-08T14:10:10.777515Z",
     "start_time": "2023-12-08T14:10:10.748828Z"
    }
   },
   "outputs": [
    {
     "data": {
      "text/plain": [
       "어린이보호구역개수    4961\n",
       "보안등개수        4029\n",
       "급지구분_3       1928\n",
       "급지구분_2       1928\n",
       "급지구분_1       1928\n",
       "제한속도          729\n",
       "횡단보도개수         21\n",
       "요일              0\n",
       "기상상태            0\n",
       "holiday         0\n",
       "cos_month       0\n",
       "dtype: int64"
      ]
     },
     "execution_count": 13,
     "metadata": {},
     "output_type": "execute_result"
    }
   ],
   "source": [
    "test_df.isnull().sum().sort_values(ascending=False)[:11]"
   ]
  },
  {
   "cell_type": "code",
   "execution_count": 14,
   "id": "e3847645",
   "metadata": {
    "ExecuteTime": {
     "end_time": "2023-12-08T14:10:10.792838Z",
     "start_time": "2023-12-08T14:10:10.780709Z"
    }
   },
   "outputs": [],
   "source": [
    "# # 일단 interpolate\n",
    "# for df in [train_df,test_df]:\n",
    "#     df['어린이보호구역개수'] = df['어린이보호구역개수'].interpolate()\n",
    "#     df['급지구분_1'] = df['급지구분_1'].interpolate()\n",
    "#     df['급지구분_2'] = df['급지구분_2'].interpolate()\n",
    "#     df['급지구분_3'] = df['급지구분_3'].interpolate()\n",
    "#     df['제한속도'] = df['제한속도'].interpolate()\n",
    "#     df['횡단보도개수'] = df['횡단보도개수'].interpolate()\n",
    "    \n",
    "# # 급지구분 interpolate하면 안 채워지는 게 1개 있어서 0으로 대체\n",
    "# test_df['급지구분_1'] = test_df['급지구분_1'].fillna(0)\n",
    "# test_df['급지구분_2'] = test_df['급지구분_2'].fillna(0)\n",
    "# test_df['급지구분_3'] = test_df['급지구분_3'].fillna(0)"
   ]
  },
  {
   "cell_type": "code",
   "execution_count": 15,
   "id": "4c51715d",
   "metadata": {
    "ExecuteTime": {
     "end_time": "2023-12-08T14:10:39.149674Z",
     "start_time": "2023-12-08T14:10:10.795853Z"
    }
   },
   "outputs": [],
   "source": [
    "# 결측값을 '구' 별 평균으로 처리\n",
    "na_columns = ['어린이보호구역개수','급지구분_1','급지구분_1','급지구분_1'\n",
    "             ,'제한속도','횡단보도개수','보안등개수']\n",
    "\n",
    "\n",
    "### 어린이보호구역개수 결측값 처리\n",
    "child_area_mean = train_df.groupby('구')['어린이보호구역개수'].mean()\n",
    "# 달서구와 동구가 아예 어린이보호구역개수가 nan임.\n",
    "child_mean_sum = child_area_mean.sum()/len(child_area_mean)\n",
    "# 전체평균으로 대체 # 동구와 달성군 모두 면적이 넓음\n",
    "child_area_mean['달서구'] = child_mean_sum\n",
    "child_area_mean['동구'] = child_mean_sum\n",
    "def fillna_with_mean_child(row):\n",
    "    if np.isnan(row['어린이보호구역개수']):\n",
    "        row['어린이보호구역개수'] = child_area_mean[row['구']]\n",
    "    return row\n",
    "train_df = train_df.apply(fillna_with_mean_child,axis=1)\n",
    "test_df = test_df.apply(fillna_with_mean_child,axis=1)\n",
    "\n",
    "\n",
    "### 급지구분 결측값 처리\n",
    "parking_mean = train_df.groupby('구')[['급지구분_1','급지구분_2',\n",
    "                          '급지구분_3']].mean()\n",
    "cols = ['급지구분_1','급지구분_2','급지구분_3']\n",
    "for col in cols:\n",
    "    def fillna_with_mean_parking(row):\n",
    "        if np.isnan(row[col]):\n",
    "            row[col] = parking_mean.loc[row['구'],col]\n",
    "        return row\n",
    "    train_df = train_df.apply(fillna_with_mean_parking,axis=1)\n",
    "    test_df = test_df.apply(fillna_with_mean_parking,axis=1)\n",
    "\n",
    "    \n",
    "### 보안등개수 결측값 처리\n",
    "light_mean = train_df.groupby('구')['보안등개수'].mean()\n",
    "# 달성군과 서구가 NaN >> 달성군은 면적이 크므로 전체평균값을 활용, \n",
    "# 서구는 작으므로 Q1 사용\n",
    "light_total_mean = light_mean.sum()/len(light_mean)\n",
    "light_mean['달성군'] = light_total_mean\n",
    "light_mean['서구'] = light_total_mean * 0.25\n",
    "def fillna_with_mean_light(row):\n",
    "    if np.isnan(row['보안등개수']):\n",
    "        row['보안등개수'] = light_mean[row['구']]\n",
    "    return row\n",
    "train_df = train_df.apply(fillna_with_mean_light,axis=1)\n",
    "test_df = test_df.apply(fillna_with_mean_light,axis=1)\n",
    "\n",
    " \n",
    "### 제한속도 결측값 처리\n",
    "speed_mean = train_df.groupby('구')['제한속도'].mean()\n",
    "def fillna_with_mean_speed(row):\n",
    "    if np.isnan(row['제한속도']):\n",
    "        row['제한속도'] = speed_mean[row['구']]\n",
    "    return row\n",
    "train_df = train_df.apply(fillna_with_mean_speed,axis=1)\n",
    "test_df = test_df.apply(fillna_with_mean_speed,axis=1)\n",
    "\n",
    "\n",
    "### 횡단보도개수 결측값 처리\n",
    "cross_mean = train_df.groupby('구')['횡단보도개수'].mean()\n",
    "def fillna_with_mean_cross(row):\n",
    "    if np.isnan(row['횡단보도개수']):\n",
    "        row['횡단보도개수'] = cross_mean[row['구']]\n",
    "    return row\n",
    "train_df = train_df.apply(fillna_with_mean_cross,axis=1)\n",
    "test_df = test_df.apply(fillna_with_mean_cross,axis=1)"
   ]
  },
  {
   "cell_type": "code",
   "execution_count": 16,
   "id": "61acd48a",
   "metadata": {
    "ExecuteTime": {
     "end_time": "2023-12-08T14:10:39.164818Z",
     "start_time": "2023-12-08T14:10:39.152396Z"
    }
   },
   "outputs": [],
   "source": [
    "# 연습용 코드\n",
    "\n",
    "# ### 제한속도 결측값 처리\n",
    "# cross_mean = train_df.groupby('구')['횡단보도개수'].mean()\n",
    "# def fillna_with_mean_speed(row):\n",
    "#     if np.isnan(row['횡단보도개수']):\n",
    "#         row['횡단보도개수'] = light_mean[row['구']]\n",
    "#     return row\n",
    "# train_df = train_df.apply(fillna_with_mean_speed,axis=1)\n",
    "# test_df = test_df.apply(fillna_with_mean_speed,axis=1)\n",
    "\n"
   ]
  },
  {
   "cell_type": "code",
   "execution_count": null,
   "id": "0e15df65",
   "metadata": {},
   "outputs": [],
   "source": []
  },
  {
   "cell_type": "code",
   "execution_count": null,
   "id": "7d73f9f9",
   "metadata": {},
   "outputs": [],
   "source": []
  },
  {
   "cell_type": "code",
   "execution_count": 17,
   "id": "791fcb93",
   "metadata": {
    "ExecuteTime": {
     "end_time": "2023-12-08T14:10:39.211437Z",
     "start_time": "2023-12-08T14:10:39.168069Z"
    }
   },
   "outputs": [
    {
     "data": {
      "text/plain": [
       "(요일           0\n",
       " cos_month    0\n",
       " 어린이보호구역개수    0\n",
       " 횡단보도개수       0\n",
       " 제한속도         0\n",
       " dtype: int64,\n",
       " ' ---- ',\n",
       " 요일           0\n",
       " 기상상태         0\n",
       " 어린이보호구역개수    0\n",
       " 횡단보도개수       0\n",
       " 제한속도         0\n",
       " dtype: int64)"
      ]
     },
     "execution_count": 17,
     "metadata": {},
     "output_type": "execute_result"
    }
   ],
   "source": [
    "# 결측값 확인 \n",
    "train_df.isnull().sum().sort_values(ascending=False)[:5],\" ---- \" , test_df.isnull().sum().sort_values(ascending=False)[:5]"
   ]
  },
  {
   "cell_type": "markdown",
   "id": "a788fe8c",
   "metadata": {},
   "source": [
    "### 인코딩 및 스케일링"
   ]
  },
  {
   "cell_type": "code",
   "execution_count": 18,
   "id": "d3a8faf5",
   "metadata": {
    "ExecuteTime": {
     "end_time": "2023-12-08T14:10:39.304878Z",
     "start_time": "2023-12-08T14:10:39.214526Z"
    }
   },
   "outputs": [],
   "source": [
    "# 원핫 : 구\n",
    "\n",
    "# train_df와 test_df의 기상상태 및 노면상태 열 선택\n",
    "train_categorical_data = train_df[['구']]\n",
    "test_categorical_data = test_df[['구']]\n",
    "\n",
    "# OneHotEncoder 인스턴스 생성 및 fit_transform 수행\n",
    "encoder = OneHotEncoder()\n",
    "train_encoded = encoder.fit_transform(train_categorical_data)\n",
    "test_encoded = encoder.transform(test_categorical_data)\n",
    "\n",
    "# OneHotEncoder가 사용한 카테고리 목록을 가져와서 카테고리 이름을 열 이름으로 변환\n",
    "feature_names = encoder.get_feature_names_out(['구'])\n",
    "\n",
    "# 밀집 행렬로 변환 (선택 사항)\n",
    "train_encoded_dense = train_encoded.toarray()\n",
    "test_encoded_dense = test_encoded.toarray()\n",
    "\n",
    "# 데이터프레임으로 변환 (선택 사항)\n",
    "import pandas as pd\n",
    "\n",
    "train_encoded_df = pd.DataFrame(train_encoded_dense, columns=feature_names, index=train_df.index)\n",
    "test_encoded_df = pd.DataFrame(test_encoded_dense, columns=feature_names, index=test_df.index)\n",
    "\n",
    "# 기존 열 제거\n",
    "train_df = train_df.drop(['구'], axis=1)\n",
    "test_df = test_df.drop(['구'], axis=1)\n",
    "\n",
    "# 인코딩된 열 추가\n",
    "train_df = pd.concat([train_df, train_encoded_df], axis=1)\n",
    "test_df = pd.concat([test_df, test_encoded_df], axis=1)\n"
   ]
  },
  {
   "cell_type": "code",
   "execution_count": null,
   "id": "927fe428",
   "metadata": {},
   "outputs": [],
   "source": []
  },
  {
   "cell_type": "code",
   "execution_count": 19,
   "id": "c11a65c8",
   "metadata": {
    "ExecuteTime": {
     "end_time": "2023-12-08T14:10:39.773826Z",
     "start_time": "2023-12-08T14:10:39.307873Z"
    }
   },
   "outputs": [],
   "source": [
    "# 타겟 인코딩 : 나머지\n",
    "# Target encoding\n",
    "from category_encoders.target_encoder import TargetEncoder\n",
    "\n",
    "categorical_features = ['요일','도로형태','사고유형','동','기상상태', '노면상태']\n",
    "\n",
    "for i in categorical_features:\n",
    "    tr_encoder = TargetEncoder(cols=[i])\n",
    "    train_df[i] = tr_encoder.fit_transform(train_df[i], train_df['ECLO'])\n",
    "    test_df[i] = tr_encoder.transform(test_df[i])"
   ]
  },
  {
   "cell_type": "code",
   "execution_count": null,
   "id": "a074bba4",
   "metadata": {
    "ExecuteTime": {
     "end_time": "2023-12-06T20:14:12.252697Z",
     "start_time": "2023-12-06T20:14:11.818924Z"
    }
   },
   "outputs": [],
   "source": []
  },
  {
   "cell_type": "markdown",
   "id": "17be14f8",
   "metadata": {},
   "source": [
    "### 기타 전처리"
   ]
  },
  {
   "cell_type": "code",
   "execution_count": null,
   "id": "0b5b9444",
   "metadata": {
    "ExecuteTime": {
     "end_time": "2023-12-06T20:37:39.687707Z",
     "start_time": "2023-12-06T20:37:39.674193Z"
    }
   },
   "outputs": [],
   "source": []
  },
  {
   "cell_type": "markdown",
   "id": "f2127f9c",
   "metadata": {},
   "source": [
    "### 데이터셋 분할"
   ]
  },
  {
   "cell_type": "code",
   "execution_count": 20,
   "id": "968668c1",
   "metadata": {
    "ExecuteTime": {
     "end_time": "2023-12-08T14:10:39.789733Z",
     "start_time": "2023-12-08T14:10:39.776827Z"
    }
   },
   "outputs": [],
   "source": [
    "train_x = train_df[test_df.columns] # test 셋에만 있는 컬럼만 추출\n",
    "train_y = np.log1p(train_df['ECLO'])\n",
    "test_x = test_df"
   ]
  },
  {
   "cell_type": "code",
   "execution_count": 21,
   "id": "8ea1cd32",
   "metadata": {
    "ExecuteTime": {
     "end_time": "2023-12-08T14:10:39.820607Z",
     "start_time": "2023-12-08T14:10:39.792865Z"
    },
    "executionInfo": {
     "elapsed": 515,
     "status": "ok",
     "timestamp": 1701855021501,
     "user": {
      "displayName": "skiersong9",
      "userId": "11108221763786546299"
     },
     "user_tz": -540
    },
    "id": "8ea1cd32"
   },
   "outputs": [],
   "source": [
    "x_train, x_valid, y_train, y_valid = train_test_split(train_x, train_y, test_size=0.2, random_state=42)"
   ]
  },
  {
   "cell_type": "markdown",
   "id": "e0eaed4c",
   "metadata": {
    "id": "e0eaed4c"
   },
   "source": [
    "### AUTOML"
   ]
  },
  {
   "cell_type": "code",
   "execution_count": 23,
   "id": "984e92f9",
   "metadata": {
    "ExecuteTime": {
     "end_time": "2023-12-08T14:13:26.948809Z",
     "start_time": "2023-12-08T14:13:26.940296Z"
    },
    "executionInfo": {
     "elapsed": 334,
     "status": "ok",
     "timestamp": 1701855024449,
     "user": {
      "displayName": "skiersong9",
      "userId": "11108221763786546299"
     },
     "user_tz": -540
    },
    "id": "984e92f9"
   },
   "outputs": [],
   "source": [
    "import matplotlib\n",
    "matplotlib.use('Agg')"
   ]
  },
  {
   "cell_type": "code",
   "execution_count": 24,
   "id": "6d9f3df9",
   "metadata": {
    "ExecuteTime": {
     "end_time": "2023-12-08T14:13:27.196879Z",
     "start_time": "2023-12-08T14:13:27.163576Z"
    }
   },
   "outputs": [
    {
     "ename": "NameError",
     "evalue": "name 'stop' is not defined",
     "output_type": "error",
     "traceback": [
      "\u001b[1;31m---------------------------------------------------------------------------\u001b[0m",
      "\u001b[1;31mNameError\u001b[0m                                 Traceback (most recent call last)",
      "Cell \u001b[1;32mIn[24], line 1\u001b[0m\n\u001b[1;32m----> 1\u001b[0m \u001b[43mstop\u001b[49m\n",
      "\u001b[1;31mNameError\u001b[0m: name 'stop' is not defined"
     ]
    }
   ],
   "source": [
    "stop"
   ]
  },
  {
   "cell_type": "code",
   "execution_count": 26,
   "id": "d7a6805c",
   "metadata": {
    "ExecuteTime": {
     "end_time": "2023-12-08T14:14:16.538457Z",
     "start_time": "2023-12-08T14:14:16.532988Z"
    },
    "executionInfo": {
     "elapsed": 1,
     "status": "ok",
     "timestamp": 1701855026810,
     "user": {
      "displayName": "skiersong9",
      "userId": "11108221763786546299"
     },
     "user_tz": -540
    },
    "id": "d7a6805c"
   },
   "outputs": [],
   "source": [
    "from supervised.automl import AutoML\n",
    "automl = AutoML(mode=\"Compete\",\n",
    "                algorithms = ['Random Forest', 'LightGBM', 'Xgboost', 'CatBoost'],\n",
    "                n_jobs = -1,total_time_limit=60000, eval_metric=\"rmse\", ml_task = \"regression\",\n",
    "               stack_models=True\n",
    "               )"
   ]
  },
  {
   "cell_type": "code",
   "execution_count": null,
   "id": "bd80bdc7",
   "metadata": {
    "ExecuteTime": {
     "end_time": "2023-12-08T14:10:40.529691Z",
     "start_time": "2023-12-08T14:10:40.529691Z"
    },
    "colab": {
     "base_uri": "https://localhost:8080/"
    },
    "id": "bd80bdc7",
    "outputId": "d6275027-5eb7-425c-8a42-39d15130c154"
   },
   "outputs": [],
   "source": [
    "automl.fit(train_x, train_y)"
   ]
  },
  {
   "cell_type": "code",
   "execution_count": null,
   "id": "38ced85f",
   "metadata": {
    "ExecuteTime": {
     "end_time": "2023-12-08T14:10:40.533203Z",
     "start_time": "2023-12-08T14:10:40.533203Z"
    },
    "id": "38ced85f"
   },
   "outputs": [],
   "source": [
    "pred = automl.predict(test_x)"
   ]
  },
  {
   "cell_type": "markdown",
   "id": "b712b5fa-db4b-439e-9ac6-63a243156c8a",
   "metadata": {
    "id": "b712b5fa-db4b-439e-9ac6-63a243156c8a"
   },
   "source": [
    "## 제출"
   ]
  },
  {
   "cell_type": "code",
   "execution_count": null,
   "id": "7ccdf382",
   "metadata": {
    "ExecuteTime": {
     "end_time": "2023-12-08T14:10:40.535471Z",
     "start_time": "2023-12-08T14:10:40.535471Z"
    },
    "id": "7ccdf382"
   },
   "outputs": [],
   "source": [
    "submission = pd.read_csv(path+'sample_submission.csv')"
   ]
  },
  {
   "cell_type": "code",
   "execution_count": null,
   "id": "053b6fb3",
   "metadata": {
    "ExecuteTime": {
     "end_time": "2023-12-08T14:10:40.537127Z",
     "start_time": "2023-12-08T14:10:40.537127Z"
    },
    "id": "053b6fb3"
   },
   "outputs": [],
   "source": [
    "submission['ECLO'] = np.expm1(pred)"
   ]
  },
  {
   "cell_type": "code",
   "execution_count": null,
   "id": "11fb21af",
   "metadata": {
    "ExecuteTime": {
     "end_time": "2023-12-08T14:10:40.539739Z",
     "start_time": "2023-12-08T14:10:40.539739Z"
    },
    "id": "11fb21af"
   },
   "outputs": [],
   "source": [
    "submission.loc[ submission['ECLO'] < 0.0, 'ECLO'] = 0.0"
   ]
  },
  {
   "cell_type": "code",
   "execution_count": null,
   "id": "ad53d39e",
   "metadata": {
    "ExecuteTime": {
     "end_time": "2023-12-08T14:10:40.541207Z",
     "start_time": "2023-12-08T14:10:40.541207Z"
    },
    "id": "ad53d39e",
    "outputId": "3d32d49a-d715-4a2f-ba0a-a453824ace96"
   },
   "outputs": [],
   "source": [
    "min(submission['ECLO'])"
   ]
  },
  {
   "cell_type": "code",
   "execution_count": null,
   "id": "hcQ4JFVReWcj",
   "metadata": {
    "ExecuteTime": {
     "end_time": "2023-12-08T14:10:40.543862Z",
     "start_time": "2023-12-08T14:10:40.543862Z"
    },
    "id": "hcQ4JFVReWcj"
   },
   "outputs": [],
   "source": [
    "submission"
   ]
  },
  {
   "cell_type": "code",
   "execution_count": null,
   "id": "31606475",
   "metadata": {
    "ExecuteTime": {
     "end_time": "2023-12-08T14:10:40.545970Z",
     "start_time": "2023-12-08T14:10:40.545970Z"
    },
    "id": "31606475"
   },
   "outputs": [],
   "source": [
    "# submission.to_csv('submit.csv', index=False)\n",
    "\n",
    "submit_path = \"../data/submits/automl_1207_002.csv\"\n",
    "submission.to_csv(submit_path, index=False)"
   ]
  },
  {
   "cell_type": "code",
   "execution_count": null,
   "id": "451d1e07",
   "metadata": {
    "ExecuteTime": {
     "end_time": "2023-12-08T14:10:40.548329Z",
     "start_time": "2023-12-08T14:10:40.548329Z"
    },
    "id": "451d1e07",
    "outputId": "0ed1ec89-ea86-40e9-a02d-cbd501f451e3"
   },
   "outputs": [],
   "source": [
    "# 데이콘 api 제출\n",
    "\n",
    "from dacon_submit_api import dacon_submit_api\n",
    "\n",
    "result = dacon_submit_api.post_submission_file(\n",
    "  submit_path,  # 제출 파일의 저장경로\n",
    "  '99e503e9d7311db9f4167d982d5823d7ef9427cc628aa63b96cf79d2920ba916', # API 토큰\n",
    "  '236193', # 대구공모전 ID\n",
    "  'song999', # 맘대루\n",
    "  '12.07 - 002. automl_some_updates' )  # 제출 메모"
   ]
  },
  {
   "cell_type": "code",
   "execution_count": null,
   "id": "0c684519-ed25-4fea-98b3-522a12e37672",
   "metadata": {
    "id": "0c684519-ed25-4fea-98b3-522a12e37672"
   },
   "outputs": [],
   "source": []
  }
 ],
 "metadata": {
  "colab": {
   "provenance": []
  },
  "kernelspec": {
   "display_name": "Python 3 (ipykernel)",
   "language": "python",
   "name": "python3"
  },
  "language_info": {
   "codemirror_mode": {
    "name": "ipython",
    "version": 3
   },
   "file_extension": ".py",
   "mimetype": "text/x-python",
   "name": "python",
   "nbconvert_exporter": "python",
   "pygments_lexer": "ipython3",
   "version": "3.9.6"
  },
  "toc": {
   "base_numbering": 1,
   "nav_menu": {},
   "number_sections": false,
   "sideBar": true,
   "skip_h1_title": false,
   "title_cell": "Table of Contents",
   "title_sidebar": "Contents",
   "toc_cell": false,
   "toc_position": {},
   "toc_section_display": true,
   "toc_window_display": false
  }
 },
 "nbformat": 4,
 "nbformat_minor": 5
}
