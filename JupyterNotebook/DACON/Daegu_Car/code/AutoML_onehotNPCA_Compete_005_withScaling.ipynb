{
 "cells": [
  {
   "cell_type": "code",
   "execution_count": null,
   "id": "qOczQMBWT2fZ",
   "metadata": {
    "ExecuteTime": {
     "start_time": "2023-12-10T04:38:49.915Z"
    },
    "colab": {
     "base_uri": "https://localhost:8080/"
    },
    "executionInfo": {
     "elapsed": 19409,
     "status": "ok",
     "timestamp": 1701853102966,
     "user": {
      "displayName": "skiersong9",
      "userId": "11108221763786546299"
     },
     "user_tz": -540
    },
    "id": "qOczQMBWT2fZ",
    "outputId": "63869dea-d6c0-4bbc-b61f-1a79bfd6fc7f"
   },
   "outputs": [],
   "source": [
    "# from google.colab import drive\n",
    "# drive.mount('/content/drive')"
   ]
  },
  {
   "cell_type": "code",
   "execution_count": 2,
   "id": "4kXpWiNET2Xg",
   "metadata": {
    "ExecuteTime": {
     "end_time": "2023-12-10T04:38:49.945274Z",
     "start_time": "2023-12-10T04:38:49.932011Z"
    },
    "colab": {
     "base_uri": "https://localhost:8080/"
    },
    "executionInfo": {
     "elapsed": 24262,
     "status": "ok",
     "timestamp": 1701853127222,
     "user": {
      "displayName": "skiersong9",
      "userId": "11108221763786546299"
     },
     "user_tz": -540
    },
    "id": "4kXpWiNET2Xg",
    "outputId": "01951975-3e3f-4bc2-c112-fd532ddf256d"
   },
   "outputs": [],
   "source": [
    "# !pip install category_encoders\n",
    "# !pip install dacon_submit_api-0.0.4-py3-none-any.whl\n",
    "# !pip install mljar-supervised"
   ]
  },
  {
   "cell_type": "code",
   "execution_count": 3,
   "id": "H9h_njVYT2Na",
   "metadata": {
    "ExecuteTime": {
     "end_time": "2023-12-10T04:39:00.469105Z",
     "start_time": "2023-12-10T04:38:49.947281Z"
    },
    "executionInfo": {
     "elapsed": 4402,
     "status": "ok",
     "timestamp": 1701853233903,
     "user": {
      "displayName": "skiersong9",
      "userId": "11108221763786546299"
     },
     "user_tz": -540
    },
    "id": "H9h_njVYT2Na"
   },
   "outputs": [],
   "source": [
    "## import \n",
    "import pandas as pd\n",
    "import numpy as np\n",
    "from supervised.automl import AutoML\n",
    "\n",
    "# vis\n",
    "import matplotlib.pylab as plt\n",
    "from matplotlib import font_manager, rc\n",
    "import matplotlib\n",
    "%matplotlib inline\n",
    "matplotlib.rcParams['font.family'] = 'Malgun Gothic' # 한글 패치. 코랩에선 주석하셈\n",
    "import seaborn as sns\n",
    "\n",
    "# sklearn\n",
    "from sklearn.model_selection import train_test_split\n",
    "from sklearn.preprocessing import MinMaxScaler, LabelEncoder, OneHotEncoder\n",
    "from sklearn.impute import SimpleImputer \n",
    "from sklearn.preprocessing import StandardScaler\n",
    "from sklearn.preprocessing import PowerTransformer\n",
    "from sklearn.feature_selection import SelectPercentile\n",
    "from sklearn.model_selection import GridSearchCV\n",
    "from sklearn.model_selection import RandomizedSearchCV\n",
    "from sklearn.decomposition import PCA\n",
    "# Modeling\n",
    "from sklearn.dummy import DummyClassifier\n",
    "from sklearn.linear_model import LogisticRegression,LinearRegression\n",
    "from sklearn.neighbors import KNeighborsClassifier\n",
    "from sklearn.ensemble import RandomForestClassifier\n",
    "from sklearn.neural_network import MLPClassifier\n",
    "from sklearn.tree import DecisionTreeClassifier\n",
    "from sklearn.ensemble import ExtraTreesClassifier\n",
    "from sklearn.ensemble import GradientBoostingClassifier\n",
    "from xgboost import XGBClassifier, XGBRegressor, XGBRFRegressor\n",
    "from lightgbm import LGBMClassifier, LGBMRegressor\n",
    "from sklearn.svm import SVC\n",
    "from sklearn.ensemble import VotingClassifier, VotingRegressor \n",
    "from sklearn.ensemble import StackingClassifier, StackingRegressor\n",
    "from sklearn.base import ClassifierMixin\n",
    "# Evaluation\n",
    "from sklearn.metrics import roc_auc_score\n",
    "from sklearn.metrics import accuracy_score\n",
    "from sklearn.model_selection import cross_val_score\n",
    "from sklearn.metrics import log_loss,mean_squared_error\n",
    "\n",
    "# CatBoost\n",
    "from catboost import CatBoostRegressor\n",
    "\n",
    "# Utility\n",
    "import os\n",
    "import time\n",
    "import datetime # ⚠️2019년 12월30일과 31일의 week of year가 1인 오류가 있음\n",
    "import random\n",
    "import warnings; warnings.filterwarnings(\"ignore\")\n",
    "from IPython.display import Image\n",
    "# import pickle\n",
    "from tqdm import tqdm\n",
    "import platform\n",
    "from itertools import combinations\n",
    "from scipy.stats.mstats import gmean\n",
    "import holidays\n",
    "\n",
    "# 시드값 고정\n",
    "def seed_everything(seed):\n",
    "    random.seed(seed)\n",
    "    os.environ['PYTHONHASHSEED'] = str(seed)\n",
    "    np.random.seed(seed)\n",
    "\n",
    "seed_everything(2023)\n",
    "\n",
    "# 데이터프레임 컬럼 전체 보기\n",
    "pd.set_option('display.max_columns', None)"
   ]
  },
  {
   "cell_type": "code",
   "execution_count": 4,
   "id": "bc61c7b3",
   "metadata": {
    "ExecuteTime": {
     "end_time": "2023-12-10T04:39:00.640214Z",
     "start_time": "2023-12-10T04:39:00.472562Z"
    },
    "executionInfo": {
     "elapsed": 712,
     "status": "ok",
     "timestamp": 1701853289826,
     "user": {
      "displayName": "skiersong9",
      "userId": "11108221763786546299"
     },
     "user_tz": -540
    },
    "id": "bc61c7b3"
   },
   "outputs": [],
   "source": [
    "# 데이터 로드\n",
    "\n",
    "path = '../data/daegu/automl/'\n",
    "\n",
    "train_org = pd.read_csv(path+'train.csv')\n",
    "test_org = pd.read_csv(path+'test.csv')"
   ]
  },
  {
   "cell_type": "code",
   "execution_count": null,
   "id": "5ffcb5b0",
   "metadata": {
    "ExecuteTime": {
     "start_time": "2023-12-10T04:38:49.922Z"
    }
   },
   "outputs": [],
   "source": [
    "# 이희원님 코드 그대로 사용\n",
    "for df in [train_org, test_org]:\n",
    "    # 날짜 데이터\n",
    "    time_pattern = r'(\\d{4})-(\\d{1,2})-(\\d{1,2}) (\\d{1,2})'\n",
    "\n",
    "    df[['연', '월', '일', '시간']] = df['사고일시'].str.extract(time_pattern)\n",
    "    df[['연', '월', '일', '시간']] = df[['연', '월', '일', '시간']].apply(pd.to_numeric) # 추출된 문자열을 수치화해줍니다\n",
    "    df['사고일시'] = pd.to_datetime(df['사고일시'])\n",
    "    # df= df.drop(columns=['사고일시']) # 일단 냄겨두자\n",
    "\n",
    "    # 도시/구/동 분리\n",
    "    location_pattern = r'(\\S+) (\\S+) (\\S+)'\n",
    "\n",
    "    df[['도시', '구', '동']] = df['시군구'].str.extract(location_pattern)\n",
    "    # df= df.drop(columns=['시군구']) # 얘도 일단 냄겨놔\n",
    "\n",
    "    # 도로형태도 분류 코드\n",
    "    #road_pattern = r'(.+) - (.+)'\n",
    "\n",
    "    #df[['도로형태1', '도로형태2']] = df['도로형태'].str.extract(road_pattern)\n",
    "    #df= df.drop(columns=['도로형태']) # 얘는 드롭함\n",
    "\n",
    "    # 시간 >> 코사인 변환\n",
    "#     df['cos_hour'] = np.cos(2 * np.pi * df['시간'] / 24)\n",
    "    # 📢송규헌) 사인-코사인 변환\n",
    "    df['cos_hour'] = np.sign(np.pi*2*df['시간']/24) + np.cos(np.pi*2*df['시간']/24) + np.sign(np.pi*4*df['시간']/24) + np.cos(np.pi*4*df['시간']/24)\n",
    "\n",
    "    # 월 >> 코사인 변환\n",
    "#     df['cos_month'] = -np.cos(np.pi*2*df['월']/12) + np.cos(np.pi*2*df['월']/12) - np.cos(np.pi*4*df['월']/12) + np.sign(np.pi*5*df['월']/12) + np.cos(np.pi*1*df['월']/12) + 2\n",
    "\n",
    "    \n",
    "    # 공휴일 (주말과 공휴일을 묶음)\n",
    "    # 공휴일 = 1, 비공휴일 = 0\n",
    "    holi_weekday = ['2019-01-01', '2019-02-04', '2019-02-05', '2019-02-06', '2019-03-01', '2019-05-05', '2019-05-12', '2019-06-06', '2019-08-15', '2019-09-12', '2019-09-13', '2019-09-14', '2019-10-03', '2019-10-09', '2019-12-25',\n",
    "                '2020-01-01' ,'2020-01-24' ,'2020-01-25', '2020-01-26', '2020-03-01', '2020-04-30', '2020-05-05', '2020-06-06', '2020-08-15', '2020-08-17', '2020-09-30', '2020-10-01', '2020-10-02', '2020-10-03', '2020-10-09', '2020-12-25',\n",
    "                '2021-01-01' ,'2021-02-11' ,'2021-02-12', '2021-02-13', '2021-03-01', '2021-05-05', '2021-05-19', '2021-06-06', '2021-08-15', '2021-09-20', '2021-09-21', '2021-09-22', '2021-10-03', '2021-10-09', '2021-12-25',\n",
    "                '2022-01-01' ,'2022-01-31' ,'2022-02-01', '2022-02-02', '2022-03-01', '2022-05-05', '2022-05-08', '2022-06-06', '2022-08-15', '2022-09-09', '2022-09-10', '2022-09-11', '2022-09-12', '2022-10-03', '2022-10-09', '2020-10-10', '2022-12-25',\n",
    "                '2023-01-01' ,'2023-01-21' ,'2023-01-22', '2023-01-23', '2023-01-24', '2023-03-01']\n",
    "    df['dow'] = df['사고일시'].dt.dayofweek #임시로 만든 컬럼\n",
    "    df['holiday'] = np.where((df['dow']>=5) | (df['사고일시'].dt.strftime('%Y-%m-%d').isin(holi_weekday)),1,0)\n",
    "    df.drop('dow',axis=1,inplace=True)\n",
    "    \n",
    "    # 계절 >> cos_month 사용할 때는 season은 생략\n",
    "    def group_season(df):\n",
    "        df.loc[(df['월'] == 3) | (df['월'] == 4) | (df['월'] == 5), 'season'] = '봄'\n",
    "        df.loc[(df['월'] == 6) | (df['월'] == 7) | (df['월'] == 8), 'season'] = '여름'\n",
    "        df.loc[(df['월'] == 9) | (df['월'] == 10) | (df['월'] == 11), 'season'] = '가을'\n",
    "        df.loc[(df['월'] == 12) | (df['월'] == 1) | (df['월'] == 2), 'season'] = '겨울'\n",
    "        return df['season']\n",
    "    df['season'] = group_season(df)"
   ]
  },
  {
   "cell_type": "code",
   "execution_count": null,
   "id": "1d72751f",
   "metadata": {
    "ExecuteTime": {
     "start_time": "2023-12-10T04:38:49.924Z"
    }
   },
   "outputs": [],
   "source": [
    "train_df = train_org\n",
    "test_df = test_org"
   ]
  },
  {
   "cell_type": "code",
   "execution_count": null,
   "id": "8f2015e9",
   "metadata": {
    "ExecuteTime": {
     "start_time": "2023-12-10T04:38:49.925Z"
    }
   },
   "outputs": [],
   "source": [
    "# load data\n",
    "light_df = pd.read_csv(path+'동별_보안등개수.csv').rename(columns={'설치개수':'보안등개수'})\n",
    "parking_df = pd.read_csv(path+'주차장급지구분별개수.csv')\n",
    "speed_df = pd.read_csv(path+'동별_제한속도_2.csv').drop(columns='Unnamed: 0')\n",
    "cross_walk_df = pd.read_csv(path+'동별_횡단보도개수.csv')\n",
    "child_area_df = pd.read_csv(path+'동별_어린이보호구역개수_2.csv').rename(columns={'시설종류':'어린이보호구역개수'})\n",
    "\n",
    "\n",
    "# merge data\n",
    "train_df = pd.merge(train_df, light_df, how='left', on=['구','동'])\n",
    "train_df = pd.merge(train_df, parking_df, how='left', on=['구','동'])\n",
    "train_df = pd.merge(train_df, speed_df, how='left', on='동')\n",
    "train_df = pd.merge(train_df, cross_walk_df, how='left', on='동')\n",
    "train_df = pd.merge(train_df, child_area_df, how='left', on=['동'])\n",
    "\n",
    "test_df = pd.merge(test_df, light_df, how='left', on=['구','동'])\n",
    "test_df = pd.merge(test_df, parking_df, how='left', on=['구','동'])\n",
    "test_df = pd.merge(test_df, speed_df, how='left', on='동')\n",
    "test_df = pd.merge(test_df, cross_walk_df, how='left', on='동')\n",
    "test_df = pd.merge(test_df, child_area_df, how='left', on=['동'])\n"
   ]
  },
  {
   "cell_type": "code",
   "execution_count": null,
   "id": "7d7d8c9e",
   "metadata": {
    "ExecuteTime": {
     "start_time": "2023-12-10T04:38:49.927Z"
    }
   },
   "outputs": [],
   "source": [
    "### 피처 추가...\n",
    "\n",
    "# 시군구별 사고횟수 >> 기본 코드 사용\n",
    "accident_counts = train_df['시군구'].value_counts().reset_index()\n",
    "accident_counts.columns = ['시군구', '사고횟수']\n",
    "# '시군구'별 사고 횟수를 train_df에 매핑하기 위해 '시군구' 컬럼을 기준으로 사고 횟수를 가져옵니다.\n",
    "train_df['사고발생횟수'] = train_df['시군구'].map(accident_counts.set_index('시군구')['사고횟수'])\n",
    "test_df['사고발생횟수'] = test_df['시군구'].map(accident_counts.set_index('시군구')['사고횟수'])\n",
    "\n",
    "\n"
   ]
  },
  {
   "cell_type": "code",
   "execution_count": null,
   "id": "c4e1bfa4",
   "metadata": {
    "ExecuteTime": {
     "start_time": "2023-12-10T04:38:49.929Z"
    }
   },
   "outputs": [],
   "source": [
    "###⚠️연도 그냥 타겟 인코딩할래\n",
    "# # 📢송규헌) 연도값을 연도별 eclo평균값으로 변경\n",
    "# # 선형추세\n",
    "# yearly_eclo_avg = train_df.groupby('연')['ECLO'].mean()\n",
    "# x = np.array(yearly_eclo_avg.index)\n",
    "# y = yearly_eclo_avg.values\n",
    "# lr = LinearRegression()\n",
    "# lr.fit(x.reshape(-1,1),y.reshape(-1,1))\n",
    "# pred = lr.predict(np.array([2022]).reshape(-1,1))\n",
    "# yearly_eclo_avg[2022] = pred.reshape(1)[0]\n",
    "\n",
    "# train_df['연'] =  train_df['연'].map(yearly_eclo_avg)\n",
    "# test_df['연'] =  test_df['연'].map(yearly_eclo_avg)"
   ]
  },
  {
   "cell_type": "code",
   "execution_count": null,
   "id": "d8cb9435",
   "metadata": {},
   "outputs": [],
   "source": []
  },
  {
   "cell_type": "code",
   "execution_count": null,
   "id": "ec61143f",
   "metadata": {
    "ExecuteTime": {
     "start_time": "2023-12-10T04:38:49.933Z"
    }
   },
   "outputs": [],
   "source": [
    "# 점검\n",
    "display(train_df.head(2))\n",
    "display(test_df.head(2))"
   ]
  },
  {
   "cell_type": "code",
   "execution_count": null,
   "id": "5f36b2a3",
   "metadata": {
    "ExecuteTime": {
     "start_time": "2023-12-07T05:14:13.489Z"
    }
   },
   "outputs": [],
   "source": []
  },
  {
   "cell_type": "code",
   "execution_count": null,
   "id": "595eac16",
   "metadata": {
    "ExecuteTime": {
     "start_time": "2023-12-10T04:38:49.939Z"
    }
   },
   "outputs": [],
   "source": [
    "# 불필요 컬럼 제거\n",
    "drop_columns = ['ID','도시','시간','시군구','사고일시','사고유형 - 세부분류','법규위반','가해운전자 차종','가해운전자 성별','가해운전자 연령',\n",
    "       '가해운전자 상해정도','사망자수','중상자수','피해운전자 차종','피해운전자 성별',\n",
    "      '피해운전자 연령','피해운전자 상해정도','경상자수','부상자수'\n",
    "]\n",
    "train_df.drop(columns = drop_columns,inplace=True)\n",
    "test_df.drop(columns=['ID','도시','시간','사고일시','시군구'\n",
    "                     \n",
    "                     \n",
    "                     \n",
    "                     ],inplace=True)"
   ]
  },
  {
   "cell_type": "markdown",
   "id": "f17dfb75",
   "metadata": {},
   "source": [
    "### 이상치 처리 및 결측값 처리"
   ]
  },
  {
   "cell_type": "code",
   "execution_count": null,
   "id": "b84a482a",
   "metadata": {
    "ExecuteTime": {
     "start_time": "2023-12-10T04:38:49.953Z"
    }
   },
   "outputs": [],
   "source": [
    "# 결측값 확인 \n",
    "train_df.isnull().sum().sort_values(ascending=False)[:11]"
   ]
  },
  {
   "cell_type": "code",
   "execution_count": null,
   "id": "6f8231ef",
   "metadata": {
    "ExecuteTime": {
     "start_time": "2023-12-10T04:38:49.954Z"
    }
   },
   "outputs": [],
   "source": [
    "test_df.isnull().sum().sort_values(ascending=False)[:11]"
   ]
  },
  {
   "cell_type": "code",
   "execution_count": null,
   "id": "e3847645",
   "metadata": {
    "ExecuteTime": {
     "start_time": "2023-12-10T04:38:49.955Z"
    }
   },
   "outputs": [],
   "source": [
    "# # 일단 interpolate\n",
    "# for df in [train_df,test_df]:\n",
    "#     df['어린이보호구역개수'] = df['어린이보호구역개수'].interpolate()\n",
    "#     df['급지구분_1'] = df['급지구분_1'].interpolate()\n",
    "#     df['급지구분_2'] = df['급지구분_2'].interpolate()\n",
    "#     df['급지구분_3'] = df['급지구분_3'].interpolate()\n",
    "#     df['제한속도'] = df['제한속도'].interpolate()\n",
    "#     df['횡단보도개수'] = df['횡단보도개수'].interpolate()\n",
    "    \n",
    "# # 급지구분 interpolate하면 안 채워지는 게 1개 있어서 0으로 대체\n",
    "# test_df['급지구분_1'] = test_df['급지구분_1'].fillna(0)\n",
    "# test_df['급지구분_2'] = test_df['급지구분_2'].fillna(0)\n",
    "# test_df['급지구분_3'] = test_df['급지구분_3'].fillna(0)"
   ]
  },
  {
   "cell_type": "code",
   "execution_count": null,
   "id": "6da84f98",
   "metadata": {
    "ExecuteTime": {
     "start_time": "2023-12-10T04:38:49.957Z"
    }
   },
   "outputs": [],
   "source": [
    "# 결측값을 '구' 별 평균으로 처리\n",
    "na_columns = ['어린이보호구역개수','급지구분_1','급지구분_1','급지구분_1'\n",
    "             ,'제한속도','횡단보도개수','보안등개수']\n",
    "\n",
    "\n",
    "### 어린이보호구역개수 결측값 처리\n",
    "child_area_mean = train_df.groupby('구')['어린이보호구역개수'].mean()\n",
    "# 달서구와 동구가 아예 어린이보호구역개수가 nan임.\n",
    "child_mean_sum = child_area_mean.sum()/len(child_area_mean)\n",
    "# 전체평균으로 대체 # 동구와 달성군 모두 면적이 넓음\n",
    "child_area_mean['달서구'] = child_mean_sum\n",
    "child_area_mean['동구'] = child_mean_sum\n",
    "def fillna_with_mean_child(row):\n",
    "    if np.isnan(row['어린이보호구역개수']):\n",
    "        row['어린이보호구역개수'] = child_area_mean[row['구']]\n",
    "    return row\n",
    "train_df = train_df.apply(fillna_with_mean_child,axis=1)\n",
    "test_df = test_df.apply(fillna_with_mean_child,axis=1)\n",
    "\n",
    "\n",
    "### 급지구분 결측값 처리\n",
    "parking_mean = train_df.groupby('구')[['급지구분_1','급지구분_2',\n",
    "                          '급지구분_3']].mean()\n",
    "cols = ['급지구분_1','급지구분_2','급지구분_3']\n",
    "for col in cols:\n",
    "    def fillna_with_mean_parking(row):\n",
    "        if np.isnan(row[col]):\n",
    "            row[col] = parking_mean.loc[row['구'],col]\n",
    "        return row\n",
    "    train_df = train_df.apply(fillna_with_mean_parking,axis=1)\n",
    "    test_df = test_df.apply(fillna_with_mean_parking,axis=1)\n",
    "### 급지구분_1,2,3 컬럼을 주차장지수로 변경 >> 1급지*4 + 2급지*2 + 3급지\n",
    "# train_df['주차장지수'] = train_df['급지구분_1']*4+train_df['급지구분_2']*2+train_df['급지구분_3']\n",
    "# test_df['주차장지수'] = test_df['급지구분_1']*4+test_df['급지구분_2']*2+test_df['급지구분_3']    \n",
    "# train_df.drop(columns=['급지구분_1','급지구분_2','급지구분_3'],inplace=True)\n",
    "# test_df.drop(columns=['급지구분_1','급지구분_2','급지구분_3'],inplace=True)\n",
    "    \n",
    "\n",
    "### 보안등개수 결측값 처리\n",
    "light_mean = train_df.groupby('구')['보안등개수'].mean()\n",
    "# 달성군과 서구가 NaN >> 달성군은 면적이 크므로 전체평균값을 활용, \n",
    "# 서구는 작으므로 Q1 사용\n",
    "light_total_mean = light_mean.sum()/len(light_mean)\n",
    "light_mean['달성군'] = light_total_mean\n",
    "light_mean['서구'] = light_total_mean * 0.25\n",
    "def fillna_with_mean_light(row):\n",
    "    if np.isnan(row['보안등개수']):\n",
    "        row['보안등개수'] = light_mean[row['구']]\n",
    "    return row\n",
    "train_df = train_df.apply(fillna_with_mean_light,axis=1)\n",
    "test_df = test_df.apply(fillna_with_mean_light,axis=1)\n",
    "\n",
    " \n",
    "### 제한속도 결측값 처리\n",
    "speed_mean = train_df.groupby('구')['제한속도'].mean()\n",
    "def fillna_with_mean_speed(row):\n",
    "    if np.isnan(row['제한속도']):\n",
    "        row['제한속도'] = speed_mean[row['구']]\n",
    "    return row\n",
    "train_df = train_df.apply(fillna_with_mean_speed,axis=1)\n",
    "test_df = test_df.apply(fillna_with_mean_speed,axis=1)\n",
    "\n",
    "\n",
    "### 횡단보도개수 결측값 처리\n",
    "# cross_mean = train_df.groupby('구')['횡단보도개수'].mean()\n",
    "# def fillna_with_mean_cross(row):\n",
    "#     if np.isnan(row['횡단보도개수']):\n",
    "#         row['횡단보도개수'] = cross_mean[row['구']]\n",
    "#     return row\n",
    "# train_df = train_df.apply(fillna_with_mean_cross,axis=1)\n",
    "# test_df = test_df.apply(fillna_with_mean_cross,axis=1)\n",
    "bookgu_cross = train_df[train_df['구']=='북구']['횡단보도개수'].mean()\n",
    "donggu_cross = train_df[train_df['구']=='동구']['횡단보도개수'].mean()\n",
    "junggu_cross = train_df[train_df['구']=='중구']['횡단보도개수'].mean()\n",
    "\n",
    "cross_dict = {'중구': junggu_cross, '동구': donggu_cross, '북구': bookgu_cross}\n",
    "\n",
    "for i in ['중구', '동구', '북구']:\n",
    "    train_df.loc[(train_df['구']==i) & (train_df['횡단보도개수'].isnull()), '횡단보도개수'] = cross_dict[i]\n",
    "    test_df.loc[(test_df['구']==i) & (test_df['횡단보도개수'].isnull()), '횡단보도개수'] = cross_dict[i]\n"
   ]
  },
  {
   "cell_type": "code",
   "execution_count": null,
   "id": "27afe7f2",
   "metadata": {
    "ExecuteTime": {
     "start_time": "2023-12-10T04:38:49.959Z"
    }
   },
   "outputs": [],
   "source": [
    "# 연습용 코드\n",
    "\n",
    "# ### 제한속도 결측값 처리\n",
    "# cross_mean = train_df.groupby('구')['횡단보도개수'].mean()\n",
    "# def fillna_with_mean_speed(row):\n",
    "#     if np.isnan(row['횡단보도개수']):\n",
    "#         row['횡단보도개수'] = light_mean[row['구']]\n",
    "#     return row\n",
    "# train_df = train_df.apply(fillna_with_mean_speed,axis=1)\n",
    "# test_df = test_df.apply(fillna_with_mean_speed,axis=1)\n",
    "\n"
   ]
  },
  {
   "cell_type": "code",
   "execution_count": null,
   "id": "791fcb93",
   "metadata": {
    "ExecuteTime": {
     "start_time": "2023-12-10T04:38:49.960Z"
    }
   },
   "outputs": [],
   "source": [
    "# 결측값 확인 \n",
    "train_df.isnull().sum().sort_values(ascending=False)[:5],\" ---- \" , test_df.isnull().sum().sort_values(ascending=False)[:5]"
   ]
  },
  {
   "cell_type": "code",
   "execution_count": null,
   "id": "6a90c0a8",
   "metadata": {
    "ExecuteTime": {
     "start_time": "2023-12-10T04:38:49.962Z"
    }
   },
   "outputs": [],
   "source": [
    "### 이상치 처리 시각화 코드 무지성 boxplot\n",
    "i = 0 \n",
    "outlier_columns = ['보안등개수','횡단보도개수','어린이보호구역개수',\n",
    "           '사고발생횟수','급지구분_1','급지구분_2','급지구분_3'] # 확인하고픈 수치형 컬럼 넣기\n",
    "sub_cols = 2\n",
    "sub_rows = (len(outlier_columns)+1) // 2\n",
    "width = len(outlier_columns) * 2 ### width, height 곱하는 숫자 조정해서 플롯 사이즈 조정\n",
    "height = sub_rows * 4\n",
    "\n",
    "plt.figure(figsize=(width, height)) # figure의 width height는 맘대로\n",
    "for col in outlier_columns:\n",
    "    i += 1\n",
    "    plt.subplot(sub_rows,sub_cols,i)\n",
    "    sns.boxplot(data=train_df,x=col,gap=.1)\n",
    "#     plt.xticks(rotation=45)\n",
    "plt.tight_layout()"
   ]
  },
  {
   "cell_type": "code",
   "execution_count": null,
   "id": "09ab1a54",
   "metadata": {
    "ExecuteTime": {
     "start_time": "2023-12-10T04:38:49.964Z"
    }
   },
   "outputs": [],
   "source": [
    "### 이상치 처리 함수 정의\n",
    "import numpy as np\n",
    "def tukey_fences(data): # data는 1차원 배열\n",
    "    q1,q3 = np.percentile(data,[25,75])\n",
    "    iqr = q3-q1\n",
    "    lf = q1 - (iqr*1.5)\n",
    "    uf = q3 + (iqr*1.5)\n",
    "    idxs = np.where((data>uf) | (data<lf))[0] # condition이 True일 때, data의 인덱스를 반환\n",
    "    return idxs, lf, uf\n",
    "\n",
    "def outlier_to_lf_uf(data, outlier_function=tukey_fences): # data는 Series객체\n",
    "    idxs, lf, uf = outlier_function(data)\n",
    "    for i in idxs:\n",
    "        if data.iloc[i] <= lf:\n",
    "            data.iloc[i] = lf\n",
    "        elif data.iloc[i] >= uf:\n",
    "            data.iloc[i] = uf\n",
    "            \n",
    "    return data"
   ]
  },
  {
   "cell_type": "code",
   "execution_count": null,
   "id": "ca1293df",
   "metadata": {
    "ExecuteTime": {
     "start_time": "2023-12-10T04:38:49.966Z"
    }
   },
   "outputs": [],
   "source": [
    "train_df.columns"
   ]
  },
  {
   "cell_type": "code",
   "execution_count": null,
   "id": "356feb59",
   "metadata": {
    "ExecuteTime": {
     "start_time": "2023-12-10T04:38:49.970Z"
    }
   },
   "outputs": [],
   "source": [
    "### 이상치 처리 수행\n",
    "for col in outlier_columns:\n",
    "    train_df[col] = outlier_to_lf_uf(train_df[col], tukey_fences)\n",
    "    test_df[col] = outlier_to_lf_uf(test_df[col], tukey_fences)"
   ]
  },
  {
   "cell_type": "code",
   "execution_count": null,
   "id": "4215a933",
   "metadata": {
    "ExecuteTime": {
     "start_time": "2023-12-10T04:38:49.972Z"
    }
   },
   "outputs": [],
   "source": [
    "### 이상치 처리가 완료된 데이터 시각화\n",
    "i = 0 \n",
    "\n",
    "sub_cols = 2\n",
    "sub_rows = (len(outlier_columns)+1) // 2\n",
    "width = len(outlier_columns) * 2 ### width, height 곱하는 숫자 조정해서 플롯 사이즈 조정\n",
    "height = sub_rows * 4\n",
    "\n",
    "plt.figure(figsize=(width, height)) # figure의 width height는 맘대로\n",
    "for col in outlier_columns:\n",
    "    i += 1\n",
    "    plt.subplot(sub_rows,sub_cols,i)\n",
    "    sns.boxplot(data=train_df,x=col,gap=.1)\n",
    "#     plt.xticks(rotation=45)\n",
    "plt.tight_layout()"
   ]
  },
  {
   "cell_type": "code",
   "execution_count": null,
   "id": "e539688d",
   "metadata": {
    "ExecuteTime": {
     "start_time": "2023-12-10T04:38:49.973Z"
    }
   },
   "outputs": [],
   "source": [
    "train_df.columns"
   ]
  },
  {
   "cell_type": "markdown",
   "id": "a788fe8c",
   "metadata": {},
   "source": [
    "### 인코딩 및 스케일링"
   ]
  },
  {
   "cell_type": "code",
   "execution_count": null,
   "id": "d3a8faf5",
   "metadata": {
    "ExecuteTime": {
     "start_time": "2023-12-10T04:38:49.985Z"
    }
   },
   "outputs": [],
   "source": [
    "# 원핫 : 사고유형, 도로형태, 동\n",
    "\n",
    "onehot_columns = ['사고유형', '도로형태', '동']\n",
    "\n",
    "# train_df와 test_df의 기상상태 및 노면상태 열 선택\n",
    "train_categorical_data = train_df[onehot_columns]\n",
    "test_categorical_data = test_df[onehot_columns]\n",
    "\n",
    "# OneHotEncoder 인스턴스 생성 및 fit_transform 수행\n",
    "encoder = OneHotEncoder()\n",
    "train_encoded = encoder.fit_transform(train_categorical_data)\n",
    "test_encoded = encoder.transform(test_categorical_data)\n",
    "\n",
    "# OneHotEncoder가 사용한 카테고리 목록을 가져와서 카테고리 이름을 열 이름으로 변환\n",
    "feature_names = encoder.get_feature_names_out(onehot_columns)\n",
    "\n",
    "# 밀집 행렬로 변환 (선택 사항)\n",
    "train_encoded_dense = train_encoded.toarray()\n",
    "test_encoded_dense = test_encoded.toarray()\n",
    "\n",
    "# 데이터프레임으로 변환 (선택 사항)\n",
    "import pandas as pd\n",
    "\n",
    "train_encoded_df = pd.DataFrame(train_encoded_dense, columns=feature_names, index=train_df.index)\n",
    "test_encoded_df = pd.DataFrame(test_encoded_dense, columns=feature_names, index=test_df.index)\n",
    "\n",
    "### PCA \n",
    "pca = PCA(n_components=98)\n",
    "train_encoded_df_pca = pd.DataFrame(pca.fit_transform(train_encoded_df))\n",
    "test_encoded_df_pca = pd.DataFrame(pca.transform(test_encoded_df))\n",
    "\n",
    "new_col_list = list(map(lambda x:'pca_'+str(x),[i for i in range(98)]))\n",
    "old_col_list = [i for i in range(98)]\n",
    "rename_dict = dict(zip(old_col_list, new_col_list))\n",
    "train_encoded_df_pca.rename(columns=rename_dict,inplace=True)\n",
    "test_encoded_df_pca.rename(columns=rename_dict,inplace=True)\n",
    "\n",
    "# 기존 열 제거\n",
    "train_df = train_df.drop(onehot_columns, axis=1)\n",
    "test_df = test_df.drop(onehot_columns, axis=1)\n",
    "\n",
    "# 인코딩된 열 추가\n",
    "train_df = pd.concat([train_df, train_encoded_df_pca], axis=1)\n",
    "test_df = pd.concat([test_df, test_encoded_df_pca], axis=1)\n"
   ]
  },
  {
   "cell_type": "code",
   "execution_count": null,
   "id": "927fe428",
   "metadata": {
    "ExecuteTime": {
     "start_time": "2023-12-10T04:38:49.987Z"
    }
   },
   "outputs": [],
   "source": [
    "pca_practice = PCA()\n",
    "X = train_encoded_df.copy()\n",
    "pca_practice.fit(X)\n",
    "\n",
    "# 누적 설명된 분산 비율 계산\n",
    "cumulative_variance = np.cumsum(pca_practice.explained_variance_ratio_)\n",
    "\n",
    "# 90% 이상 설명력을 갖는 주성분 개수 계산\n",
    "n_components = np.argmax(cumulative_variance >= 0.95) + 1\n",
    "\n",
    "# 설명된 분산 비율 시각화\n",
    "plt.figure(figsize=(10, 6))\n",
    "plt.plot(cumulative_variance, marker='o', linestyle='--', color='b')\n",
    "plt.xlabel('Number of Components')\n",
    "plt.ylabel('Cumulative Explained Variance')\n",
    "plt.title('Cumulative Explained Variance by Number of Components')\n",
    "plt.axvline(x=n_components, color='r', linestyle=':', label=f'{n_components} components (95% explained variance)')\n",
    "plt.legend()\n",
    "plt.grid()\n",
    "plt.show()\n",
    "\n",
    "print(f\"95% 이상의 설명력을 갖기 위해 {n_components}개의 주성분으로 나누어야 합니다.\")\n"
   ]
  },
  {
   "cell_type": "code",
   "execution_count": null,
   "id": "36ed8163",
   "metadata": {
    "ExecuteTime": {
     "end_time": "2023-12-09T11:42:59.495430Z",
     "start_time": "2023-12-09T11:42:59.403320Z"
    }
   },
   "outputs": [],
   "source": []
  },
  {
   "cell_type": "code",
   "execution_count": null,
   "id": "c11a65c8",
   "metadata": {
    "ExecuteTime": {
     "start_time": "2023-12-10T04:38:49.989Z"
    }
   },
   "outputs": [],
   "source": [
    "# 타겟 인코딩 : '요일', '기상상태', '노면상태', '연', '구', season\n",
    "#        \n",
    "# Target encoding\n",
    "from category_encoders.target_encoder import TargetEncoder\n",
    "\n",
    "### ✔️ 타겟 인코딩하기 전에 eclo 로그 변환해주기\n",
    "train_df['ECLO'] = np.log1p(train_df['ECLO'])\n",
    "\n",
    "categorical_features = ['요일', '기상상태', '노면상태', '연', '구','season']\n",
    "\n",
    "for i in categorical_features:\n",
    "    tr_encoder = TargetEncoder(cols=[i])\n",
    "    train_df[i] = tr_encoder.fit_transform(train_df[i], train_df['ECLO'])\n",
    "    test_df[i] = tr_encoder.transform(test_df[i])"
   ]
  },
  {
   "cell_type": "code",
   "execution_count": null,
   "id": "a074bba4",
   "metadata": {
    "ExecuteTime": {
     "start_time": "2023-12-10T04:38:49.994Z"
    }
   },
   "outputs": [],
   "source": [
    "\n",
    "train_df"
   ]
  },
  {
   "cell_type": "code",
   "execution_count": null,
   "id": "32099d5a",
   "metadata": {
    "ExecuteTime": {
     "start_time": "2023-12-10T04:38:50.000Z"
    }
   },
   "outputs": [],
   "source": [
    "# 스케일링 전 전처리\n",
    "# 일 필요 없을 듯?\n",
    "# train_df.drop(columns=['일'],inplace=True)\n",
    "# test_df.drop(columns=['일'],inplace=True)"
   ]
  },
  {
   "cell_type": "code",
   "execution_count": null,
   "id": "30befc4c",
   "metadata": {
    "ExecuteTime": {
     "start_time": "2023-12-10T04:38:50.001Z"
    },
    "scrolled": false
   },
   "outputs": [],
   "source": [
    "# 스케일링 전 분포 시각화\n",
    "i = 0 \n",
    "columns = ['어린이보호구역개수','급지구분_1','급지구분_2','급지구분_3',\n",
    "          '제한속도','횡단보도개수','사고발생횟수','보안등개수']\n",
    "sub_cols = 2\n",
    "sub_rows = (len(columns)+1) // 2\n",
    "width = len(columns)\n",
    "height = sub_rows * 4\n",
    "\n",
    "plt.figure(figsize=(width, height)) # figure의 width height는 맘대로\n",
    "for col in columns:\n",
    "    i += 1\n",
    "    plt.subplot(sub_rows,sub_cols,i)\n",
    "    sns.histplot(data=train_df,x=col,kde=True)\n",
    "plt.tight_layout()"
   ]
  },
  {
   "cell_type": "code",
   "execution_count": null,
   "id": "d91ffffa",
   "metadata": {
    "ExecuteTime": {
     "start_time": "2023-12-10T04:38:50.003Z"
    }
   },
   "outputs": [],
   "source": [
    "columns"
   ]
  },
  {
   "cell_type": "code",
   "execution_count": null,
   "id": "244dc459",
   "metadata": {
    "ExecuteTime": {
     "start_time": "2023-12-10T04:38:50.006Z"
    }
   },
   "outputs": [],
   "source": [
    "## 스케일링\n",
    "scaling_columns = ['어린이보호구역개수',\n",
    "#  '급지구분_1',\n",
    "#  '급지구분_2',\n",
    "#  '급지구분_3',\n",
    " '제한속도',\n",
    " '횡단보도개수',\n",
    " '사고발생횟수',\n",
    " '보안등개수']\n",
    "\n",
    "log_scaling_columns = ['급지구분_1','급지구분_2','급지구분_3'] # ECLO는 이미 로그변환 완료\n",
    "\n",
    "for c in log_scaling_columns:\n",
    "    train_df[c] = np.log1p(train_df[c])\n",
    "    test_df[c] = np.log1p(test_df[c])\n",
    "\n",
    "# scaler = MinMaxScaler()\n",
    "scaler = StandardScaler()\n",
    "for c in scaling_columns:\n",
    "    train_df[c] = scaler.fit_transform(np.reshape(train_df[c],(-1,1)))\n",
    "    test_df[c] = scaler.transform(np.reshape(test_df[c],(-1,1)))"
   ]
  },
  {
   "cell_type": "code",
   "execution_count": null,
   "id": "d8677dd3",
   "metadata": {
    "ExecuteTime": {
     "start_time": "2023-12-10T04:38:50.007Z"
    },
    "scrolled": true
   },
   "outputs": [],
   "source": [
    "# 스케일링 후 분포 시각화\n",
    "i = 0 \n",
    "sub_cols = 2\n",
    "sub_rows = (len(columns)+1) // 2\n",
    "width = len(columns)\n",
    "height = sub_rows * 4\n",
    "\n",
    "plt.figure(figsize=(width, height)) # figure의 width height는 맘대로\n",
    "for col in columns:\n",
    "    i += 1\n",
    "    plt.subplot(sub_rows,sub_cols,i)\n",
    "    sns.histplot(data=train_df,x=col,kde=True)\n",
    "plt.tight_layout()"
   ]
  },
  {
   "cell_type": "code",
   "execution_count": null,
   "id": "fb4b6fa4",
   "metadata": {
    "ExecuteTime": {
     "start_time": "2023-12-09T12:17:28.274Z"
    }
   },
   "outputs": [],
   "source": []
  },
  {
   "cell_type": "markdown",
   "id": "17be14f8",
   "metadata": {},
   "source": [
    "### 기타 전처리"
   ]
  },
  {
   "cell_type": "code",
   "execution_count": null,
   "id": "0b5b9444",
   "metadata": {
    "ExecuteTime": {
     "end_time": "2023-12-08T07:59:13.345306Z",
     "start_time": "2023-12-08T07:59:13.332304Z"
    }
   },
   "outputs": [],
   "source": []
  },
  {
   "cell_type": "code",
   "execution_count": null,
   "id": "256536c3",
   "metadata": {
    "ExecuteTime": {
     "start_time": "2023-12-10T04:38:50.030Z"
    }
   },
   "outputs": [],
   "source": [
    "train_df"
   ]
  },
  {
   "cell_type": "code",
   "execution_count": null,
   "id": "2d4c3d58",
   "metadata": {
    "ExecuteTime": {
     "start_time": "2023-12-10T04:38:50.032Z"
    }
   },
   "outputs": [],
   "source": [
    "# train_df.to_csv('./train_df.csv',index=False)\n",
    "# test_df.to_csv('./test_df.csv',index=False)"
   ]
  },
  {
   "cell_type": "markdown",
   "id": "f2127f9c",
   "metadata": {},
   "source": [
    "### 데이터셋 분할"
   ]
  },
  {
   "cell_type": "code",
   "execution_count": null,
   "id": "6a4797f2",
   "metadata": {
    "ExecuteTime": {
     "start_time": "2023-12-10T04:38:50.047Z"
    }
   },
   "outputs": [],
   "source": [
    "train_df.head(1)"
   ]
  },
  {
   "cell_type": "code",
   "execution_count": null,
   "id": "26a4001a",
   "metadata": {
    "ExecuteTime": {
     "start_time": "2023-12-10T04:38:50.048Z"
    },
    "scrolled": true
   },
   "outputs": [],
   "source": [
    "# 컬럼명 영어로 바꾸기\n",
    "kr2eng = {'요일':'dayofweek', '기상상태':'weather', '도로형태':'road_type',\n",
    "          '노면상태':'road_state', '사고유형':'accident_type', '연':'year',\n",
    "          '동':'dong', '보안등개수':'light_count', '제한속도':'speed_limit',\n",
    "          '횡단보도개수':'cross_count', '어린이보호구역개수':'child_count',\n",
    "          '사고발생횟수':'accident_count', '주차장지수':'parking_index',\n",
    "          '구_남구':'gu_namgu', '구_달서구':'gu_dalseogu', \n",
    "          '구_달성군':'gu_dalsunggun', '구_동구':'gu_donggu', \n",
    "          '구_북구':'gu_bookgu', '구_서구':'gu_seogu',\n",
    "       '구_수성구':'gu_suseonggu', '구_중구':'gu_junggu',\n",
    "         '월':'month','일':'day','구':'gu',\n",
    "         '급지구분':'park_1','급지구분_2':'park_2','급지구분_3':'park_3'}\n",
    "\n",
    "train_df.rename(columns=kr2eng,inplace=True)\n",
    "test_df.rename(columns=kr2eng,inplace=True)"
   ]
  },
  {
   "cell_type": "code",
   "execution_count": null,
   "id": "968668c1",
   "metadata": {
    "ExecuteTime": {
     "start_time": "2023-12-10T04:38:50.050Z"
    }
   },
   "outputs": [],
   "source": [
    "train_x = train_df[test_df.columns] # test 셋에만 있는 컬럼만 추출\n",
    "train_y = train_df['ECLO']\n",
    "test_x = test_df"
   ]
  },
  {
   "cell_type": "code",
   "execution_count": null,
   "id": "8ea1cd32",
   "metadata": {
    "ExecuteTime": {
     "start_time": "2023-12-10T04:38:50.055Z"
    },
    "executionInfo": {
     "elapsed": 515,
     "status": "ok",
     "timestamp": 1701855021501,
     "user": {
      "displayName": "skiersong9",
      "userId": "11108221763786546299"
     },
     "user_tz": -540
    },
    "id": "8ea1cd32"
   },
   "outputs": [],
   "source": [
    "# x_train, x_valid, y_train, y_valid = train_test_split(train_x, train_y, test_size=0.2, random_state=42)"
   ]
  },
  {
   "cell_type": "markdown",
   "id": "e0eaed4c",
   "metadata": {
    "id": "e0eaed4c"
   },
   "source": [
    "### AUTOML"
   ]
  },
  {
   "cell_type": "code",
   "execution_count": null,
   "id": "984e92f9",
   "metadata": {
    "ExecuteTime": {
     "start_time": "2023-12-10T04:38:50.073Z"
    },
    "executionInfo": {
     "elapsed": 334,
     "status": "ok",
     "timestamp": 1701855024449,
     "user": {
      "displayName": "skiersong9",
      "userId": "11108221763786546299"
     },
     "user_tz": -540
    },
    "id": "984e92f9"
   },
   "outputs": [],
   "source": [
    "import matplotlib\n",
    "matplotlib.use('Agg')"
   ]
  },
  {
   "cell_type": "code",
   "execution_count": null,
   "id": "d7a6805c",
   "metadata": {
    "ExecuteTime": {
     "start_time": "2023-12-10T04:38:50.074Z"
    },
    "executionInfo": {
     "elapsed": 1,
     "status": "ok",
     "timestamp": 1701855026810,
     "user": {
      "displayName": "skiersong9",
      "userId": "11108221763786546299"
     },
     "user_tz": -540
    },
    "id": "d7a6805c"
   },
   "outputs": [],
   "source": [
    "from supervised.automl import AutoML\n",
    "automl = AutoML(\n",
    "                algorithms = ['Random Forest', 'LightGBM', 'Xgboost', 'CatBoost'],\n",
    "                n_jobs = -1,total_time_limit=40000, eval_metric=\"rmse\", ml_task = \"regression\",\n",
    "               results_path = './AutoML_005_withScale_Compete/',\n",
    "                explain_level=2,\n",
    "                mode='Compete',\n",
    "                random_state=42,\n",
    "                stack_models=False\n",
    "               )"
   ]
  },
  {
   "cell_type": "code",
   "execution_count": null,
   "id": "bd80bdc7",
   "metadata": {
    "ExecuteTime": {
     "start_time": "2023-12-10T04:38:50.076Z"
    },
    "colab": {
     "base_uri": "https://localhost:8080/"
    },
    "id": "bd80bdc7",
    "outputId": "d6275027-5eb7-425c-8a42-39d15130c154",
    "scrolled": true
   },
   "outputs": [],
   "source": [
    "automl.fit(train_x, train_y)"
   ]
  },
  {
   "cell_type": "code",
   "execution_count": null,
   "id": "38ced85f",
   "metadata": {
    "ExecuteTime": {
     "start_time": "2023-12-10T04:38:50.078Z"
    },
    "id": "38ced85f"
   },
   "outputs": [],
   "source": [
    "pred = automl.predict(test_x)"
   ]
  },
  {
   "cell_type": "markdown",
   "id": "b712b5fa-db4b-439e-9ac6-63a243156c8a",
   "metadata": {
    "id": "b712b5fa-db4b-439e-9ac6-63a243156c8a"
   },
   "source": [
    "## 제출"
   ]
  },
  {
   "cell_type": "code",
   "execution_count": null,
   "id": "7ccdf382",
   "metadata": {
    "ExecuteTime": {
     "start_time": "2023-12-10T04:38:50.098Z"
    },
    "id": "7ccdf382"
   },
   "outputs": [],
   "source": [
    "submission = pd.read_csv(path+'sample_submission.csv')"
   ]
  },
  {
   "cell_type": "code",
   "execution_count": null,
   "id": "053b6fb3",
   "metadata": {
    "ExecuteTime": {
     "start_time": "2023-12-10T04:38:50.101Z"
    },
    "id": "053b6fb3"
   },
   "outputs": [],
   "source": [
    "submission['ECLO'] = np.expm1(pred)"
   ]
  },
  {
   "cell_type": "code",
   "execution_count": null,
   "id": "11fb21af",
   "metadata": {
    "ExecuteTime": {
     "start_time": "2023-12-10T04:38:50.102Z"
    },
    "id": "11fb21af"
   },
   "outputs": [],
   "source": [
    "submission.loc[ submission['ECLO'] < 0.0, 'ECLO'] = 0.0"
   ]
  },
  {
   "cell_type": "code",
   "execution_count": null,
   "id": "ad53d39e",
   "metadata": {
    "ExecuteTime": {
     "start_time": "2023-12-10T04:38:50.104Z"
    },
    "id": "ad53d39e",
    "outputId": "3d32d49a-d715-4a2f-ba0a-a453824ace96"
   },
   "outputs": [],
   "source": [
    "min(submission['ECLO'])"
   ]
  },
  {
   "cell_type": "code",
   "execution_count": null,
   "id": "f26b7743",
   "metadata": {
    "ExecuteTime": {
     "start_time": "2023-12-10T04:38:50.106Z"
    }
   },
   "outputs": [],
   "source": [
    "max(submission['ECLO'])"
   ]
  },
  {
   "cell_type": "code",
   "execution_count": null,
   "id": "hcQ4JFVReWcj",
   "metadata": {
    "ExecuteTime": {
     "start_time": "2023-12-10T04:38:50.108Z"
    },
    "id": "hcQ4JFVReWcj"
   },
   "outputs": [],
   "source": [
    "submission"
   ]
  },
  {
   "cell_type": "code",
   "execution_count": null,
   "id": "31606475",
   "metadata": {
    "ExecuteTime": {
     "start_time": "2023-12-10T04:38:50.110Z"
    },
    "id": "31606475"
   },
   "outputs": [],
   "source": [
    "submission.to_csv('submit.csv', index=False)\n",
    "\n",
    "submit_path = \"../data/submits/automl_1209_005_withScale_Compete_noStacking.csv\"\n",
    "submission.to_csv(submit_path, index=False)"
   ]
  },
  {
   "cell_type": "code",
   "execution_count": null,
   "id": "451d1e07",
   "metadata": {
    "ExecuteTime": {
     "start_time": "2023-12-10T04:38:50.112Z"
    },
    "id": "451d1e07",
    "outputId": "0ed1ec89-ea86-40e9-a02d-cbd501f451e3"
   },
   "outputs": [],
   "source": [
    "# 데이콘 api 제출\n",
    "\n",
    "from dacon_submit_api import dacon_submit_api\n",
    "\n",
    "result = dacon_submit_api.post_submission_file(\n",
    "  submit_path,  # 제출 파일의 저장경로\n",
    "  '99e503e9d7311db9f4167d982d5823d7ef9427cc628aa63b96cf79d2920ba916', # API 토큰\n",
    "  '236193', # 대구공모전 ID\n",
    "  'song999', # 맘대루\n",
    "  '12.09 - 005_withScale. automl_compete_noStacking' )  # 제출 메모"
   ]
  },
  {
   "cell_type": "code",
   "execution_count": null,
   "id": "30f95ae4",
   "metadata": {},
   "outputs": [],
   "source": []
  },
  {
   "cell_type": "code",
   "execution_count": null,
   "id": "0c684519-ed25-4fea-98b3-522a12e37672",
   "metadata": {
    "id": "0c684519-ed25-4fea-98b3-522a12e37672"
   },
   "outputs": [],
   "source": []
  }
 ],
 "metadata": {
  "colab": {
   "provenance": []
  },
  "kernelspec": {
   "display_name": "Python 3 (ipykernel)",
   "language": "python",
   "name": "python3"
  },
  "language_info": {
   "codemirror_mode": {
    "name": "ipython",
    "version": 3
   },
   "file_extension": ".py",
   "mimetype": "text/x-python",
   "name": "python",
   "nbconvert_exporter": "python",
   "pygments_lexer": "ipython3",
   "version": "3.9.6"
  },
  "toc": {
   "base_numbering": 1,
   "nav_menu": {},
   "number_sections": false,
   "sideBar": true,
   "skip_h1_title": false,
   "title_cell": "Table of Contents",
   "title_sidebar": "Contents",
   "toc_cell": false,
   "toc_position": {},
   "toc_section_display": true,
   "toc_window_display": false
  }
 },
 "nbformat": 4,
 "nbformat_minor": 5
}
