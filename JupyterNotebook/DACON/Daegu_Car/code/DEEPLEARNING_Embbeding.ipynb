{
 "cells": [
  {
   "cell_type": "code",
   "execution_count": 1,
   "metadata": {
    "ExecuteTime": {
     "end_time": "2023-12-04T10:02:09.804949Z",
     "start_time": "2023-12-04T10:02:09.023743Z"
    },
    "id": "2LCQOBBRAF09"
   },
   "outputs": [],
   "source": [
    "import pandas as pd\n",
    "import numpy as np\n",
    "import warnings\n",
    "import matplotlib.pyplot as plt\n",
    "warnings.filterwarnings(action='ignore')"
   ]
  },
  {
   "cell_type": "code",
   "execution_count": 2,
   "metadata": {
    "ExecuteTime": {
     "end_time": "2023-12-04T10:02:11.986874Z",
     "start_time": "2023-12-04T10:02:09.808051Z"
    },
    "id": "rLdSYtjeAMV1"
   },
   "outputs": [],
   "source": [
    "train_df = pd.read_csv('./sh/train.csv')\n",
    "test_df = pd.read_csv('./sh/train.csv')\n",
    "train_df_all = pd.read_csv('./sh/countrywide_accident.csv')"
   ]
  },
  {
   "cell_type": "code",
   "execution_count": 3,
   "metadata": {
    "ExecuteTime": {
     "end_time": "2023-12-04T10:02:12.050260Z",
     "start_time": "2023-12-04T10:02:11.988940Z"
    },
    "id": "HKrqxlg0ZSLz"
   },
   "outputs": [],
   "source": [
    "train_df=pd.concat([train_df,train_df_all], axis=0)"
   ]
  },
  {
   "cell_type": "code",
   "execution_count": 4,
   "metadata": {
    "ExecuteTime": {
     "end_time": "2023-12-04T10:02:12.081216Z",
     "start_time": "2023-12-04T10:02:12.053266Z"
    },
    "colab": {
     "base_uri": "https://localhost:8080/",
     "height": 206
    },
    "id": "jimA6FomTk6M",
    "outputId": "a66941ad-bba7-4e26-c86f-a8854464bb79"
   },
   "outputs": [
    {
     "data": {
      "text/html": [
       "<div>\n",
       "<style scoped>\n",
       "    .dataframe tbody tr th:only-of-type {\n",
       "        vertical-align: middle;\n",
       "    }\n",
       "\n",
       "    .dataframe tbody tr th {\n",
       "        vertical-align: top;\n",
       "    }\n",
       "\n",
       "    .dataframe thead th {\n",
       "        text-align: right;\n",
       "    }\n",
       "</style>\n",
       "<table border=\"1\" class=\"dataframe\">\n",
       "  <thead>\n",
       "    <tr style=\"text-align: right;\">\n",
       "      <th></th>\n",
       "      <th>ID</th>\n",
       "      <th>사고일시</th>\n",
       "      <th>요일</th>\n",
       "      <th>기상상태</th>\n",
       "      <th>시군구</th>\n",
       "      <th>도로형태</th>\n",
       "      <th>노면상태</th>\n",
       "      <th>사고유형</th>\n",
       "      <th>사고유형 - 세부분류</th>\n",
       "      <th>법규위반</th>\n",
       "      <th>...</th>\n",
       "      <th>가해운전자 상해정도</th>\n",
       "      <th>피해운전자 차종</th>\n",
       "      <th>피해운전자 성별</th>\n",
       "      <th>피해운전자 연령</th>\n",
       "      <th>피해운전자 상해정도</th>\n",
       "      <th>사망자수</th>\n",
       "      <th>중상자수</th>\n",
       "      <th>경상자수</th>\n",
       "      <th>부상자수</th>\n",
       "      <th>ECLO</th>\n",
       "    </tr>\n",
       "  </thead>\n",
       "  <tbody>\n",
       "    <tr>\n",
       "      <th>0</th>\n",
       "      <td>ACCIDENT_00000</td>\n",
       "      <td>2019-01-01 00</td>\n",
       "      <td>화요일</td>\n",
       "      <td>맑음</td>\n",
       "      <td>대구광역시 중구 대신동</td>\n",
       "      <td>단일로 - 기타</td>\n",
       "      <td>건조</td>\n",
       "      <td>차대사람</td>\n",
       "      <td>길가장자리구역통행중</td>\n",
       "      <td>안전운전불이행</td>\n",
       "      <td>...</td>\n",
       "      <td>상해없음</td>\n",
       "      <td>보행자</td>\n",
       "      <td>여</td>\n",
       "      <td>70세</td>\n",
       "      <td>중상</td>\n",
       "      <td>0</td>\n",
       "      <td>1</td>\n",
       "      <td>0</td>\n",
       "      <td>0</td>\n",
       "      <td>5</td>\n",
       "    </tr>\n",
       "    <tr>\n",
       "      <th>1</th>\n",
       "      <td>ACCIDENT_00001</td>\n",
       "      <td>2019-01-01 00</td>\n",
       "      <td>화요일</td>\n",
       "      <td>흐림</td>\n",
       "      <td>대구광역시 달서구 감삼동</td>\n",
       "      <td>단일로 - 기타</td>\n",
       "      <td>건조</td>\n",
       "      <td>차대사람</td>\n",
       "      <td>보도통행중</td>\n",
       "      <td>기타</td>\n",
       "      <td>...</td>\n",
       "      <td>상해없음</td>\n",
       "      <td>보행자</td>\n",
       "      <td>남</td>\n",
       "      <td>61세</td>\n",
       "      <td>경상</td>\n",
       "      <td>0</td>\n",
       "      <td>0</td>\n",
       "      <td>1</td>\n",
       "      <td>0</td>\n",
       "      <td>3</td>\n",
       "    </tr>\n",
       "    <tr>\n",
       "      <th>2</th>\n",
       "      <td>ACCIDENT_00002</td>\n",
       "      <td>2019-01-01 01</td>\n",
       "      <td>화요일</td>\n",
       "      <td>맑음</td>\n",
       "      <td>대구광역시 수성구 두산동</td>\n",
       "      <td>단일로 - 기타</td>\n",
       "      <td>건조</td>\n",
       "      <td>차대사람</td>\n",
       "      <td>차도통행중</td>\n",
       "      <td>안전운전불이행</td>\n",
       "      <td>...</td>\n",
       "      <td>상해없음</td>\n",
       "      <td>보행자</td>\n",
       "      <td>남</td>\n",
       "      <td>38세</td>\n",
       "      <td>경상</td>\n",
       "      <td>0</td>\n",
       "      <td>0</td>\n",
       "      <td>1</td>\n",
       "      <td>0</td>\n",
       "      <td>3</td>\n",
       "    </tr>\n",
       "    <tr>\n",
       "      <th>3</th>\n",
       "      <td>ACCIDENT_00003</td>\n",
       "      <td>2019-01-01 02</td>\n",
       "      <td>화요일</td>\n",
       "      <td>맑음</td>\n",
       "      <td>대구광역시 북구 복현동</td>\n",
       "      <td>단일로 - 기타</td>\n",
       "      <td>건조</td>\n",
       "      <td>차대차</td>\n",
       "      <td>추돌</td>\n",
       "      <td>안전운전불이행</td>\n",
       "      <td>...</td>\n",
       "      <td>상해없음</td>\n",
       "      <td>승용</td>\n",
       "      <td>남</td>\n",
       "      <td>36세</td>\n",
       "      <td>중상</td>\n",
       "      <td>0</td>\n",
       "      <td>1</td>\n",
       "      <td>0</td>\n",
       "      <td>0</td>\n",
       "      <td>5</td>\n",
       "    </tr>\n",
       "    <tr>\n",
       "      <th>4</th>\n",
       "      <td>ACCIDENT_00004</td>\n",
       "      <td>2019-01-01 04</td>\n",
       "      <td>화요일</td>\n",
       "      <td>맑음</td>\n",
       "      <td>대구광역시 동구 신암동</td>\n",
       "      <td>단일로 - 기타</td>\n",
       "      <td>건조</td>\n",
       "      <td>차대차</td>\n",
       "      <td>추돌</td>\n",
       "      <td>안전운전불이행</td>\n",
       "      <td>...</td>\n",
       "      <td>상해없음</td>\n",
       "      <td>승용</td>\n",
       "      <td>남</td>\n",
       "      <td>52세</td>\n",
       "      <td>경상</td>\n",
       "      <td>0</td>\n",
       "      <td>0</td>\n",
       "      <td>1</td>\n",
       "      <td>0</td>\n",
       "      <td>3</td>\n",
       "    </tr>\n",
       "  </tbody>\n",
       "</table>\n",
       "<p>5 rows × 23 columns</p>\n",
       "</div>"
      ],
      "text/plain": [
       "               ID           사고일시   요일 기상상태            시군구      도로형태 노면상태  \\\n",
       "0  ACCIDENT_00000  2019-01-01 00  화요일   맑음   대구광역시 중구 대신동  단일로 - 기타   건조   \n",
       "1  ACCIDENT_00001  2019-01-01 00  화요일   흐림  대구광역시 달서구 감삼동  단일로 - 기타   건조   \n",
       "2  ACCIDENT_00002  2019-01-01 01  화요일   맑음  대구광역시 수성구 두산동  단일로 - 기타   건조   \n",
       "3  ACCIDENT_00003  2019-01-01 02  화요일   맑음   대구광역시 북구 복현동  단일로 - 기타   건조   \n",
       "4  ACCIDENT_00004  2019-01-01 04  화요일   맑음   대구광역시 동구 신암동  단일로 - 기타   건조   \n",
       "\n",
       "   사고유형 사고유형 - 세부분류     법규위반  ... 가해운전자 상해정도 피해운전자 차종 피해운전자 성별 피해운전자 연령  \\\n",
       "0  차대사람  길가장자리구역통행중  안전운전불이행  ...       상해없음      보행자        여      70세   \n",
       "1  차대사람       보도통행중       기타  ...       상해없음      보행자        남      61세   \n",
       "2  차대사람       차도통행중  안전운전불이행  ...       상해없음      보행자        남      38세   \n",
       "3   차대차          추돌  안전운전불이행  ...       상해없음       승용        남      36세   \n",
       "4   차대차          추돌  안전운전불이행  ...       상해없음       승용        남      52세   \n",
       "\n",
       "  피해운전자 상해정도 사망자수 중상자수 경상자수  부상자수  ECLO  \n",
       "0         중상    0    1    0     0     5  \n",
       "1         경상    0    0    1     0     3  \n",
       "2         경상    0    0    1     0     3  \n",
       "3         중상    0    1    0     0     5  \n",
       "4         경상    0    0    1     0     3  \n",
       "\n",
       "[5 rows x 23 columns]"
      ]
     },
     "execution_count": 4,
     "metadata": {},
     "output_type": "execute_result"
    }
   ],
   "source": [
    "test_df.head()"
   ]
  },
  {
   "cell_type": "code",
   "execution_count": 5,
   "metadata": {
    "ExecuteTime": {
     "end_time": "2023-12-04T10:02:12.097764Z",
     "start_time": "2023-12-04T10:02:12.086599Z"
    },
    "colab": {
     "base_uri": "https://localhost:8080/"
    },
    "id": "L_SPnx1MS7Kw",
    "outputId": "233dcca4-5d17-40f9-85ff-46efc66a2a00"
   },
   "outputs": [
    {
     "data": {
      "text/plain": [
       "도로형태\n",
       "단일로 - 기타           19485\n",
       "교차로 - 교차로안          9931\n",
       "교차로 - 교차로부근         5746\n",
       "기타 - 기타             1986\n",
       "교차로 - 교차로횡단보도내      1474\n",
       "단일로 - 지하차도(도로)내      309\n",
       "주차장 - 주차장            236\n",
       "단일로 - 교량             232\n",
       "단일로 - 고가도로위          138\n",
       "단일로 - 터널              64\n",
       "미분류 - 미분류              8\n",
       "Name: count, dtype: int64"
      ]
     },
     "execution_count": 5,
     "metadata": {},
     "output_type": "execute_result"
    }
   ],
   "source": [
    "test_df['도로형태'].value_counts()"
   ]
  },
  {
   "cell_type": "code",
   "execution_count": 6,
   "metadata": {
    "ExecuteTime": {
     "end_time": "2023-12-04T10:02:12.144818Z",
     "start_time": "2023-12-04T10:02:12.101227Z"
    },
    "colab": {
     "base_uri": "https://localhost:8080/"
    },
    "id": "S1wTk_saSoyb",
    "outputId": "3367cee8-7bce-468f-f7e5-c98ec262a1fe"
   },
   "outputs": [
    {
     "data": {
      "text/plain": [
       "도로형태\n",
       "단일로 - 기타           273386\n",
       "교차로 - 교차로안         200543\n",
       "교차로 - 교차로부근         96104\n",
       "기타 - 기타             30521\n",
       "교차로 - 교차로횡단보도내      21766\n",
       "단일로 - 지하차도(도로)내      7091\n",
       "단일로 - 교량             4411\n",
       "주차장 - 주차장            3914\n",
       "단일로 - 터널             2391\n",
       "단일로 - 고가도로위          1909\n",
       "미분류 - 미분류             336\n",
       "단일로 - 철길건널목            12\n",
       "Name: count, dtype: int64"
      ]
     },
     "execution_count": 6,
     "metadata": {},
     "output_type": "execute_result"
    }
   ],
   "source": [
    "train_df['도로형태'].value_counts()"
   ]
  },
  {
   "cell_type": "code",
   "execution_count": 7,
   "metadata": {
    "ExecuteTime": {
     "end_time": "2023-12-04T10:02:12.284840Z",
     "start_time": "2023-12-04T10:02:12.150016Z"
    },
    "id": "yOk03u5wTDwV"
   },
   "outputs": [],
   "source": [
    "train_df=train_df[train_df['도로형태']!=\"단일로 - 철길건널목\"]"
   ]
  },
  {
   "cell_type": "code",
   "execution_count": 8,
   "metadata": {
    "ExecuteTime": {
     "end_time": "2023-12-04T10:02:12.424152Z",
     "start_time": "2023-12-04T10:02:12.285846Z"
    },
    "id": "TWFxuYUtT_uV"
   },
   "outputs": [],
   "source": [
    "train_df=train_df[train_df['노면상태']!=\"해빙\"]"
   ]
  },
  {
   "cell_type": "code",
   "execution_count": 9,
   "metadata": {
    "ExecuteTime": {
     "end_time": "2023-12-04T10:02:12.439637Z",
     "start_time": "2023-12-04T10:02:12.426575Z"
    },
    "id": "8-TAYdDf9R_B"
   },
   "outputs": [],
   "source": [
    "def remove_outliers(df, column_name, threshold=1.5):\n",
    "    \"\"\"\n",
    "    데이터프레임의 특정 열에서 IQR을 기반으로 이상치를 제거하는 함수.\n",
    "\n",
    "    Parameters:\n",
    "    - df: 데이터프레임\n",
    "    - column_name: 이상치를 제거할 열의 이름\n",
    "    - threshold: IQR을 계산할 때 사용할 상한값 (기본값은 1.5)\n",
    "\n",
    "    Returns:\n",
    "    - 이상치가 제거된 데이터프레임\n",
    "    \"\"\"\n",
    "    # 특정 열의 값들을 추출\n",
    "    column_values = df[column_name]\n",
    "\n",
    "    # IQR 계산\n",
    "    Q1 = column_values.quantile(0.25)\n",
    "    Q3 = column_values.quantile(0.75)\n",
    "    IQR = Q3 - Q1\n",
    "\n",
    "    # 이상치의 상한과 하한 값 계산\n",
    "    lower_bound = Q1 - threshold * IQR\n",
    "    upper_bound = Q3 + threshold * IQR\n",
    "\n",
    "    # 이상치 제거\n",
    "    df_no_outliers = df[(df[column_name] >= lower_bound) & (df[column_name] <= upper_bound)]\n",
    "\n",
    "    return df_no_outliers\n"
   ]
  },
  {
   "cell_type": "code",
   "execution_count": 10,
   "metadata": {
    "ExecuteTime": {
     "end_time": "2023-12-04T10:02:12.455172Z",
     "start_time": "2023-12-04T10:02:12.446021Z"
    },
    "id": "N8z9MayKCYIZ"
   },
   "outputs": [],
   "source": [
    "#train_df=remove_outliers(train_df,'ECLO')"
   ]
  },
  {
   "cell_type": "code",
   "execution_count": 11,
   "metadata": {
    "ExecuteTime": {
     "end_time": "2023-12-04T10:02:14.872178Z",
     "start_time": "2023-12-04T10:02:12.458174Z"
    },
    "id": "fAL5MOYtAMYq"
   },
   "outputs": [],
   "source": [
    "train_df['도로형태_1'] = train_df['도로형태'].str.split(' - ', expand=True)[0]\n",
    "train_df['도로형태_2'] = train_df['도로형태'].str.split(' - ', expand=True)[1]\n",
    "train_df.drop(['도로형태'], axis = 1, inplace = True)\n",
    "\n",
    "test_df['도로형태_1'] = test_df['도로형태'].str.split(' - ', expand=True)[0]\n",
    "test_df['도로형태_2'] = test_df['도로형태'].str.split(' - ', expand=True)[1]\n",
    "test_df.drop(['도로형태'], axis = 1, inplace = True)"
   ]
  },
  {
   "cell_type": "code",
   "execution_count": 12,
   "metadata": {
    "ExecuteTime": {
     "end_time": "2023-12-04T10:02:16.135564Z",
     "start_time": "2023-12-04T10:02:14.874178Z"
    },
    "id": "z75-B6ZfAMi4"
   },
   "outputs": [],
   "source": [
    "train_df[['시','구','동']] = train_df.시군구.str.split(' ',n=2,expand=True)\n",
    "test_df[['시','구','동']] = test_df.시군구.str.split(' ',n=2,expand=True)"
   ]
  },
  {
   "cell_type": "code",
   "execution_count": 13,
   "metadata": {
    "ExecuteTime": {
     "end_time": "2023-12-04T10:02:16.290557Z",
     "start_time": "2023-12-04T10:02:16.137922Z"
    },
    "id": "WnbXvglpAMlw"
   },
   "outputs": [],
   "source": [
    "train_df['사고일시'] = pd.to_datetime(train_df['사고일시'])\n",
    "train_df[\"사고년\"] = train_df[\"사고일시\"].dt.year\n",
    "train_df[\"사고월\"] = train_df[\"사고일시\"].dt.month\n",
    "train_df['사고일'] = train_df['사고일시'].dt.day\n",
    "train_df['사고시간'] = train_df[\"사고일시\"].dt.hour\n",
    "\n",
    "\n",
    "test_df['사고일시'] = pd.to_datetime(test_df['사고일시'])\n",
    "test_df['사고년'] = test_df['사고일시'].dt.year\n",
    "test_df['사고월'] = test_df['사고일시'].dt.month\n",
    "test_df['사고일'] = test_df['사고일시'].dt.day\n",
    "test_df['사고시간'] = test_df['사고일시'].dt.hour"
   ]
  },
  {
   "cell_type": "code",
   "execution_count": 14,
   "metadata": {
    "ExecuteTime": {
     "end_time": "2023-12-04T10:02:16.306584Z",
     "start_time": "2023-12-04T10:02:16.292570Z"
    },
    "id": "wIbgGIePAMoQ"
   },
   "outputs": [],
   "source": [
    "timeline = {5:'새벽',6:\"새벽\",7:\"출근\",8:\"출근\",18:\"퇴근\",19:\"퇴근\",20:\"퇴근\",\n",
    "            9:\"주간\",10:\"주간\",11:\"주간\",12:\"주간\",13:\"주간\",14:\"주간\",15:\"주간\",16:\"주간\",\n",
    "            17:\"주간\",21:\"심야\",22:\"심야\",23:\"심야\",0:\"심야\",1:\"심야\",2:\"심야\",3:\"심야\",4:\"심야\"}\n",
    "\n",
    "season = {3:\"봄\", 4:\"봄\",5:\"봄\",\n",
    "          6:\"여름\",7:\"여름\",8:\"여름\",\n",
    "          9:\"가을\",10:\"가을\",11:\"가을\",\n",
    "          1:\"겨울\",2:\"겨울\",12:\"겨울\"}\n"
   ]
  },
  {
   "cell_type": "code",
   "execution_count": 15,
   "metadata": {
    "ExecuteTime": {
     "end_time": "2023-12-04T10:02:16.353590Z",
     "start_time": "2023-12-04T10:02:16.308676Z"
    },
    "id": "qx46rcusAMq3"
   },
   "outputs": [],
   "source": [
    "train_df['사고시간대'] = train_df['사고시간'].map(timeline)\n",
    "train_df['계절'] = train_df[\"사고월\"].map(season)\n",
    "test_df['사고시간대'] = test_df['사고시간'].map(timeline)\n",
    "test_df['계절'] = test_df[\"사고월\"].map(season)"
   ]
  },
  {
   "cell_type": "code",
   "execution_count": 16,
   "metadata": {
    "ExecuteTime": {
     "end_time": "2023-12-04T10:02:16.430936Z",
     "start_time": "2023-12-04T10:02:16.355702Z"
    },
    "colab": {
     "base_uri": "https://localhost:8080/"
    },
    "id": "7kJodQYbUndm",
    "outputId": "f9da03a8-8d65-4584-f796-4934d22aa84d"
   },
   "outputs": [
    {
     "data": {
      "text/plain": [
       "시\n",
       "경기도        161168\n",
       "서울특별시      108389\n",
       "대구광역시       39609\n",
       "경상북도        39415\n",
       "부산광역시       36243\n",
       "경상남도        35626\n",
       "전라남도        29371\n",
       "충청남도        26776\n",
       "충청북도        25917\n",
       "인천광역시       25113\n",
       "광주광역시       23429\n",
       "대전광역시       22577\n",
       "강원도         21194\n",
       "전라북도        20172\n",
       "제주특별자치도     12815\n",
       "울산광역시       11980\n",
       "세종특별자치시      2523\n",
       "미분류            28\n",
       "Name: count, dtype: int64"
      ]
     },
     "execution_count": 16,
     "metadata": {},
     "output_type": "execute_result"
    }
   ],
   "source": [
    "train_df['시'].value_counts()"
   ]
  },
  {
   "cell_type": "code",
   "execution_count": 17,
   "metadata": {
    "ExecuteTime": {
     "end_time": "2023-12-04T10:02:16.446391Z",
     "start_time": "2023-12-04T10:02:16.432454Z"
    },
    "colab": {
     "base_uri": "https://localhost:8080/"
    },
    "id": "BLmXzosBY99K",
    "outputId": "f2e33548-5e0a-4e1e-ef5c-85e9fa565501"
   },
   "outputs": [
    {
     "data": {
      "text/plain": [
       "Index(['ID', '사고일시', '요일', '기상상태', '시군구', '노면상태', '사고유형', '사고유형 - 세부분류',\n",
       "       '법규위반', '가해운전자 차종', '가해운전자 성별', '가해운전자 연령', '가해운전자 상해정도', '피해운전자 차종',\n",
       "       '피해운전자 성별', '피해운전자 연령', '피해운전자 상해정도', '사망자수', '중상자수', '경상자수', '부상자수',\n",
       "       'ECLO', '도로형태_1', '도로형태_2', '시', '구', '동', '사고년', '사고월', '사고일', '사고시간',\n",
       "       '사고시간대', '계절'],\n",
       "      dtype='object')"
      ]
     },
     "execution_count": 17,
     "metadata": {},
     "output_type": "execute_result"
    }
   ],
   "source": [
    "train_df.columns"
   ]
  },
  {
   "cell_type": "code",
   "execution_count": 18,
   "metadata": {
    "ExecuteTime": {
     "end_time": "2023-12-04T10:02:16.996017Z",
     "start_time": "2023-12-04T10:02:16.449633Z"
    },
    "id": "tIXKPrQsUSb1"
   },
   "outputs": [],
   "source": [
    "train_df=train_df.loc[(train_df['시']==\"울산광역시\" ) | ( train_df['시']==\"경상남도\") | (train_df['시']==\"경상북도\") | (train_df['시']==\"부산광역시\") | (train_df['시']==\"대구광역시\") | (train_df['시']==\"경상북도\")].reset_index(drop = True)"
   ]
  },
  {
   "cell_type": "code",
   "execution_count": null,
   "metadata": {
    "id": "aiqeOE_6aG2j"
   },
   "outputs": [],
   "source": []
  },
  {
   "cell_type": "markdown",
   "metadata": {
    "id": "V8ugwPtkAMwM"
   },
   "source": [
    "#공휴일\n"
   ]
  },
  {
   "cell_type": "code",
   "execution_count": 19,
   "metadata": {
    "ExecuteTime": {
     "end_time": "2023-12-04T10:02:17.012137Z",
     "start_time": "2023-12-04T10:02:16.998153Z"
    },
    "colab": {
     "base_uri": "https://localhost:8080/"
    },
    "id": "ugD5XM_JAM1U",
    "outputId": "91b2016e-02db-47bc-890a-a77422727508"
   },
   "outputs": [],
   "source": [
    "# pip install holidays"
   ]
  },
  {
   "cell_type": "code",
   "execution_count": 20,
   "metadata": {
    "ExecuteTime": {
     "end_time": "2023-12-04T10:02:17.152124Z",
     "start_time": "2023-12-04T10:02:17.014136Z"
    },
    "id": "gtlLdSrtAM32"
   },
   "outputs": [],
   "source": [
    "import holidays\n",
    "kr_holidays = holidays.KR()"
   ]
  },
  {
   "cell_type": "code",
   "execution_count": 21,
   "metadata": {
    "ExecuteTime": {
     "end_time": "2023-12-04T10:02:17.619829Z",
     "start_time": "2023-12-04T10:02:17.154057Z"
    },
    "id": "BdASFbRJAM6Z"
   },
   "outputs": [],
   "source": [
    "train_df['공휴일'] = train_df['사고일시'].apply(lambda x: 'holiday' if x in kr_holidays else 'non-holiday')\n",
    "test_df['공휴일'] = test_df['사고일시'].apply(lambda x: 'holiday' if x in kr_holidays else 'non-holiday')"
   ]
  },
  {
   "cell_type": "code",
   "execution_count": 22,
   "metadata": {
    "ExecuteTime": {
     "end_time": "2023-12-04T10:02:17.635908Z",
     "start_time": "2023-12-04T10:02:17.622214Z"
    },
    "id": "U3Ri6y7CAM8_"
   },
   "outputs": [],
   "source": [
    "holiday = {'토요일':\"O\", \"일요일\":\"O\",\"월요일\":\"X\",\"화요일\":\"X\",\"수요일\":\"X\",\"목요일\":\"X\",\"금요일\":\"X\"}"
   ]
  },
  {
   "cell_type": "code",
   "execution_count": 23,
   "metadata": {
    "ExecuteTime": {
     "end_time": "2023-12-04T10:02:17.667245Z",
     "start_time": "2023-12-04T10:02:17.639379Z"
    },
    "id": "WeMlbRvnAM_f"
   },
   "outputs": [],
   "source": [
    "train_df['주말여부']=train_df['요일'].map(holiday)\n",
    "test_df['주말여부']=test_df['요일'].map(holiday)"
   ]
  },
  {
   "cell_type": "code",
   "execution_count": 24,
   "metadata": {
    "ExecuteTime": {
     "end_time": "2023-12-04T10:02:17.760087Z",
     "start_time": "2023-12-04T10:02:17.669326Z"
    },
    "id": "58iPUV6nANCQ"
   },
   "outputs": [],
   "source": [
    "train_df = train_df.drop(['ID','사고일시','시군구'], axis =1 )\n",
    "test_df=test_df.drop(['ID','사고일시','시군구'], axis =1 )"
   ]
  },
  {
   "cell_type": "code",
   "execution_count": 25,
   "metadata": {
    "ExecuteTime": {
     "end_time": "2023-12-04T10:02:17.931903Z",
     "start_time": "2023-12-04T10:02:17.762486Z"
    },
    "colab": {
     "base_uri": "https://localhost:8080/"
    },
    "id": "qzVvm8GzZzmQ",
    "outputId": "6c73eccb-2a89-4439-9ccb-e6d92fdd6f59"
   },
   "outputs": [
    {
     "data": {
      "text/plain": [
       "요일                0\n",
       "기상상태              0\n",
       "노면상태              1\n",
       "사고유형              0\n",
       "사고유형 - 세부분류       0\n",
       "법규위반              0\n",
       "가해운전자 차종          0\n",
       "가해운전자 성별          0\n",
       "가해운전자 연령          0\n",
       "가해운전자 상해정도        0\n",
       "피해운전자 차종       7697\n",
       "피해운전자 성별       7697\n",
       "피해운전자 연령       7696\n",
       "피해운전자 상해정도     7697\n",
       "사망자수              0\n",
       "중상자수              0\n",
       "경상자수              0\n",
       "부상자수              0\n",
       "ECLO              0\n",
       "도로형태_1            0\n",
       "도로형태_2            0\n",
       "시                 0\n",
       "구                 0\n",
       "동                 0\n",
       "사고년               0\n",
       "사고월               0\n",
       "사고일               0\n",
       "사고시간              0\n",
       "사고시간대             0\n",
       "계절                0\n",
       "공휴일               0\n",
       "주말여부              0\n",
       "dtype: int64"
      ]
     },
     "execution_count": 25,
     "metadata": {},
     "output_type": "execute_result"
    }
   ],
   "source": [
    "train_df.isna().sum()"
   ]
  },
  {
   "cell_type": "code",
   "execution_count": 26,
   "metadata": {
    "ExecuteTime": {
     "end_time": "2023-12-04T10:02:18.196957Z",
     "start_time": "2023-12-04T10:02:17.934905Z"
    },
    "id": "SNFYCkq9HPoq"
   },
   "outputs": [],
   "source": [
    "train_df=train_df.fillna('없음')"
   ]
  },
  {
   "cell_type": "code",
   "execution_count": null,
   "metadata": {
    "id": "TritVj7EalAG"
   },
   "outputs": [],
   "source": []
  },
  {
   "cell_type": "code",
   "execution_count": null,
   "metadata": {
    "id": "5g9D89jgalCm"
   },
   "outputs": [],
   "source": []
  },
  {
   "cell_type": "code",
   "execution_count": 27,
   "metadata": {
    "ExecuteTime": {
     "end_time": "2023-12-04T10:02:18.353100Z",
     "start_time": "2023-12-04T10:02:18.198960Z"
    },
    "colab": {
     "base_uri": "https://localhost:8080/"
    },
    "id": "fAIiKHagB--W",
    "outputId": "9eef6f18-d942-42dd-a14e-0c5b5a6488d6"
   },
   "outputs": [
    {
     "name": "stdout",
     "output_type": "stream",
     "text": [
      "<class 'pandas.core.frame.DataFrame'>\n",
      "RangeIndex: 162873 entries, 0 to 162872\n",
      "Data columns (total 32 columns):\n",
      " #   Column       Non-Null Count   Dtype \n",
      "---  ------       --------------   ----- \n",
      " 0   요일           162873 non-null  object\n",
      " 1   기상상태         162873 non-null  object\n",
      " 2   노면상태         162873 non-null  object\n",
      " 3   사고유형         162873 non-null  object\n",
      " 4   사고유형 - 세부분류  162873 non-null  object\n",
      " 5   법규위반         162873 non-null  object\n",
      " 6   가해운전자 차종     162873 non-null  object\n",
      " 7   가해운전자 성별     162873 non-null  object\n",
      " 8   가해운전자 연령     162873 non-null  object\n",
      " 9   가해운전자 상해정도   162873 non-null  object\n",
      " 10  피해운전자 차종     162873 non-null  object\n",
      " 11  피해운전자 성별     162873 non-null  object\n",
      " 12  피해운전자 연령     162873 non-null  object\n",
      " 13  피해운전자 상해정도   162873 non-null  object\n",
      " 14  사망자수         162873 non-null  int64 \n",
      " 15  중상자수         162873 non-null  int64 \n",
      " 16  경상자수         162873 non-null  int64 \n",
      " 17  부상자수         162873 non-null  int64 \n",
      " 18  ECLO         162873 non-null  int64 \n",
      " 19  도로형태_1       162873 non-null  object\n",
      " 20  도로형태_2       162873 non-null  object\n",
      " 21  시            162873 non-null  object\n",
      " 22  구            162873 non-null  object\n",
      " 23  동            162873 non-null  object\n",
      " 24  사고년          162873 non-null  int32 \n",
      " 25  사고월          162873 non-null  int32 \n",
      " 26  사고일          162873 non-null  int32 \n",
      " 27  사고시간         162873 non-null  int32 \n",
      " 28  사고시간대        162873 non-null  object\n",
      " 29  계절           162873 non-null  object\n",
      " 30  공휴일          162873 non-null  object\n",
      " 31  주말여부         162873 non-null  object\n",
      "dtypes: int32(4), int64(5), object(23)\n",
      "memory usage: 37.3+ MB\n"
     ]
    }
   ],
   "source": [
    "train_df.info()"
   ]
  },
  {
   "cell_type": "code",
   "execution_count": 28,
   "metadata": {
    "ExecuteTime": {
     "end_time": "2023-12-04T10:02:18.383409Z",
     "start_time": "2023-12-04T10:02:18.358185Z"
    },
    "colab": {
     "base_uri": "https://localhost:8080/"
    },
    "id": "J4LOyfo1BR1t",
    "outputId": "f7f688e8-182f-48e8-d187-7a3d1a3aca83"
   },
   "outputs": [
    {
     "data": {
      "text/plain": [
       "기상상태\n",
       "맑음    145669\n",
       "비      12038\n",
       "흐림      4210\n",
       "기타       784\n",
       "안개        93\n",
       "눈         79\n",
       "Name: count, dtype: int64"
      ]
     },
     "execution_count": 28,
     "metadata": {},
     "output_type": "execute_result"
    }
   ],
   "source": [
    "train_df['기상상태'].value_counts()"
   ]
  },
  {
   "cell_type": "code",
   "execution_count": 29,
   "metadata": {
    "ExecuteTime": {
     "end_time": "2023-12-04T10:02:18.430763Z",
     "start_time": "2023-12-04T10:02:18.385074Z"
    },
    "id": "iMRbqDuxUhb_"
   },
   "outputs": [],
   "source": [
    "b_train_y = train_df['ECLO']\n",
    "b_test_x = test_df\n",
    "b_train_x = train_df[test_df.columns]\n",
    "b_train_x['ECLO'] = train_df['ECLO']"
   ]
  },
  {
   "cell_type": "code",
   "execution_count": 30,
   "metadata": {
    "ExecuteTime": {
     "end_time": "2023-12-04T10:02:18.446082Z",
     "start_time": "2023-12-04T10:02:18.432253Z"
    },
    "colab": {
     "base_uri": "https://localhost:8080/"
    },
    "id": "oKndr3I0v8MD",
    "outputId": "5650e125-9fdc-4bb8-c483-96cdb75e4855"
   },
   "outputs": [
    {
     "data": {
      "text/plain": [
       "['요일',\n",
       " '기상상태',\n",
       " '노면상태',\n",
       " '사고유형',\n",
       " '사고유형 - 세부분류',\n",
       " '법규위반',\n",
       " '가해운전자 차종',\n",
       " '가해운전자 성별',\n",
       " '가해운전자 연령',\n",
       " '가해운전자 상해정도',\n",
       " '피해운전자 차종',\n",
       " '피해운전자 성별',\n",
       " '피해운전자 연령',\n",
       " '피해운전자 상해정도',\n",
       " '사망자수',\n",
       " '중상자수',\n",
       " '경상자수',\n",
       " '부상자수',\n",
       " 'ECLO',\n",
       " '도로형태_1',\n",
       " '도로형태_2',\n",
       " '시',\n",
       " '구',\n",
       " '동',\n",
       " '사고년',\n",
       " '사고월',\n",
       " '사고일',\n",
       " '사고시간',\n",
       " '사고시간대',\n",
       " '계절',\n",
       " '공휴일',\n",
       " '주말여부']"
      ]
     },
     "execution_count": 30,
     "metadata": {},
     "output_type": "execute_result"
    }
   ],
   "source": [
    "b_train_x.columns.tolist()"
   ]
  },
  {
   "cell_type": "code",
   "execution_count": 31,
   "metadata": {
    "ExecuteTime": {
     "end_time": "2023-12-04T10:02:20.761154Z",
     "start_time": "2023-12-04T10:02:18.448501Z"
    },
    "id": "5G_g0puvvgWn"
   },
   "outputs": [],
   "source": [
    "import torch\n",
    "from torch.utils.data import Dataset, DataLoader\n",
    "import torch.nn as nn\n",
    "import torch.optim as optim\n",
    "import pandas as pd\n",
    "\n",
    "class LinearRegressionWithEmbeddingMultiCategory(nn.Module):\n",
    "    def __init__(self, num_numeric_features, category_dimensions, embedding_dim):\n",
    "        super(LinearRegressionWithEmbeddingMultiCategory, self).__init__()\n",
    "\n",
    "        # 여러 개의 임베딩 레이어\n",
    "        self.embedding_layers = nn.ModuleList([\n",
    "            nn.Embedding(num_categories, embedding_dim) for num_categories in category_dimensions\n",
    "        ])\n",
    "        self.batch_norm = nn.BatchNorm1d(num_numeric_features + len(category_dimensions) * embedding_dim)\n",
    "\n",
    "        # 선형 회귀 레이어\n",
    "        total_embedding_dim = len(category_dimensions) * embedding_dim\n",
    "        self.linear_layer = nn.Linear(num_numeric_features + total_embedding_dim, 1)\n",
    "\n",
    "\n",
    "\n",
    "    def forward(self, numeric_data, category_data_list):\n",
    "        # 각 카테고리형 변수에 대한 임베딩\n",
    "        embedded_category_data_list = [embedding_layer(category_data) for embedding_layer, category_data in zip(self.embedding_layers, category_data_list)]\n",
    "\n",
    "        # 임베딩된 벡터들을 연결\n",
    "        combined_embedding_data = torch.cat(embedded_category_data_list, dim=1)\n",
    "\n",
    "        # 임베딩된 벡터와 수치형 데이터를 결합\n",
    "        combined_data = torch.cat([numeric_data, combined_embedding_data], dim=1)\n",
    "\n",
    "        # 선형 회귀 모델의 순전파\n",
    "        output = self.linear_layer(combined_data)\n",
    "\n",
    "        return output.squeeze()\n",
    "\n",
    "\n"
   ]
  },
  {
   "cell_type": "code",
   "execution_count": 32,
   "metadata": {
    "ExecuteTime": {
     "end_time": "2023-12-04T10:02:20.776231Z",
     "start_time": "2023-12-04T10:02:20.764243Z"
    },
    "id": "MiMY1s0nvgZG"
   },
   "outputs": [],
   "source": [
    "class LinearRegressionDatasetMultiCategory(Dataset):\n",
    "    def __init__(self, dataframe, numeric_columns, category_columns, target_column):\n",
    "        self.numeric_data = dataframe[numeric_columns].values\n",
    "        self.category_data_list = [dataframe[column].astype('category').cat.codes.values for column in category_columns]\n",
    "        self.target_data = dataframe[target_column].values\n",
    "\n",
    "    def __len__(self):\n",
    "        return len(self.target_data)\n",
    "\n",
    "    def __getitem__(self, idx):\n",
    "        numeric_sample = torch.tensor(np.asarray(self.numeric_data[idx], dtype=np.float32), dtype=torch.float32)\n",
    "        category_samples = [torch.tensor(category_data[idx], dtype=torch.long) for category_data in self.category_data_list]\n",
    "        target_sample = torch.tensor(self.target_data[idx], dtype=torch.float32)\n",
    "        return numeric_sample, category_samples, target_sample"
   ]
  },
  {
   "cell_type": "code",
   "execution_count": 33,
   "metadata": {
    "ExecuteTime": {
     "end_time": "2023-12-04T10:02:20.791888Z",
     "start_time": "2023-12-04T10:02:20.778454Z"
    },
    "colab": {
     "base_uri": "https://localhost:8080/"
    },
    "id": "MSXWu8ogTlgA",
    "outputId": "3673c281-9ecd-4797-9c2b-028be305bc9d",
    "scrolled": true
   },
   "outputs": [
    {
     "name": "stdout",
     "output_type": "stream",
     "text": [
      "['사고유형 - 세부분류', '법규위반', '가해운전자 차종', '가해운전자 성별', '가해운전자 연령', '가해운전자 상해정도', '피해운전자 차종', '피해운전자 성별', '피해운전자 연령', '피해운전자 상해정도', '사망자수', '중상자수', '경상자수', '부상자수', '사고시간']\n"
     ]
    }
   ],
   "source": [
    "train_list = b_train_x.columns.tolist()\n",
    "remove_cat_list = ['요일',\n",
    " '기상상태',\n",
    " '노면상태',\n",
    " '사고유형',\n",
    " '도로형태_1',\n",
    " '도로형태_2',\n",
    " '시',\n",
    " '구',\n",
    " '동',\n",
    " '사고년',\n",
    " '사고월',\n",
    " '사고일',\n",
    " '사고시간대',\n",
    " '계절',\n",
    " '공휴일',\n",
    " '주말여부',\n",
    " 'ECLO']\n",
    "train_list = [i for i in train_list if i not in remove_cat_list]\n",
    "print(train_list)"
   ]
  },
  {
   "cell_type": "code",
   "execution_count": 34,
   "metadata": {
    "ExecuteTime": {
     "end_time": "2023-12-04T10:02:21.352182Z",
     "start_time": "2023-12-04T10:02:20.793895Z"
    },
    "id": "rFh3Nd8Dvv3G"
   },
   "outputs": [],
   "source": [
    "# 데이터셋 및 데이터로더 생성\n",
    "category_columns = test_df.columns.tolist()\n",
    "numeric_columns = train_list\n",
    "target_column = 'ECLO'\n",
    "\n",
    "category_dimensions = [len(b_train_x[column].unique()) for column in category_columns]\n",
    "\n",
    "dataset = LinearRegressionDatasetMultiCategory(b_train_x, numeric_columns, category_columns, target_column)\n",
    "train_loader = DataLoader(dataset, batch_size=256, shuffle=True)\n"
   ]
  },
  {
   "cell_type": "code",
   "execution_count": 35,
   "metadata": {
    "ExecuteTime": {
     "end_time": "2023-12-04T10:02:21.367343Z",
     "start_time": "2023-12-04T10:02:21.354698Z"
    },
    "id": "iQ835ZuQvv5K"
   },
   "outputs": [],
   "source": [
    "def rmsle(y_true, y_pred):\n",
    "    y_true = torch.max(y_true.float(), torch.tensor(0.0))\n",
    "    y_pred = torch.max(y_pred.float(), torch.tensor(0.0))\n",
    "    squared_error = torch.square(torch.log1p(y_pred) - torch.log1p(y_true))\n",
    "    return torch.sqrt(torch.mean(squared_error))\n",
    "\n",
    "def loss_fn(y_true, y_pred):\n",
    "    return rmsle(y_true, y_pred)"
   ]
  },
  {
   "cell_type": "code",
   "execution_count": 36,
   "metadata": {
    "ExecuteTime": {
     "end_time": "2023-12-04T10:02:22.272008Z",
     "start_time": "2023-12-04T10:02:21.370334Z"
    },
    "colab": {
     "base_uri": "https://localhost:8080/"
    },
    "id": "Aq7OQY9Fvv7Y",
    "outputId": "db4b1b2e-6c9b-4dbd-ada3-9bf6f2039c88"
   },
   "outputs": [
    {
     "name": "stderr",
     "output_type": "stream",
     "text": [
      "  0%|                                                        | 0/100 [00:00<?, ?it/s]\n"
     ]
    },
    {
     "ename": "ValueError",
     "evalue": "could not convert string to float: '측면충돌'",
     "output_type": "error",
     "traceback": [
      "\u001b[1;31m---------------------------------------------------------------------------\u001b[0m",
      "\u001b[1;31mValueError\u001b[0m                                Traceback (most recent call last)",
      "Cell \u001b[1;32mIn[36], line 18\u001b[0m\n\u001b[0;32m     16\u001b[0m \u001b[38;5;28;01mfor\u001b[39;00m epoch \u001b[38;5;129;01min\u001b[39;00m tqdm(\u001b[38;5;28mrange\u001b[39m(epochs)):\n\u001b[0;32m     17\u001b[0m     total_loss \u001b[38;5;241m=\u001b[39m \u001b[38;5;241m0.0\u001b[39m\n\u001b[1;32m---> 18\u001b[0m     \u001b[38;5;28;01mfor\u001b[39;00m numeric_data, category_data_list, target_data \u001b[38;5;129;01min\u001b[39;00m train_loader:\n\u001b[0;32m     19\u001b[0m         numeric_data , target_data \u001b[38;5;241m=\u001b[39m numeric_data\u001b[38;5;241m.\u001b[39mto(device) ,target_data\u001b[38;5;241m.\u001b[39mto(device)\n\u001b[0;32m     20\u001b[0m         \u001b[38;5;28;01mfor\u001b[39;00m i \u001b[38;5;129;01min\u001b[39;00m \u001b[38;5;28mrange\u001b[39m(\u001b[38;5;28mlen\u001b[39m(category_data_list)):\n",
      "File \u001b[1;32m~\\anaconda3\\envs\\py39\\lib\\site-packages\\torch\\utils\\data\\dataloader.py:630\u001b[0m, in \u001b[0;36m_BaseDataLoaderIter.__next__\u001b[1;34m(self)\u001b[0m\n\u001b[0;32m    627\u001b[0m \u001b[38;5;28;01mif\u001b[39;00m \u001b[38;5;28mself\u001b[39m\u001b[38;5;241m.\u001b[39m_sampler_iter \u001b[38;5;129;01mis\u001b[39;00m \u001b[38;5;28;01mNone\u001b[39;00m:\n\u001b[0;32m    628\u001b[0m     \u001b[38;5;66;03m# TODO(https://github.com/pytorch/pytorch/issues/76750)\u001b[39;00m\n\u001b[0;32m    629\u001b[0m     \u001b[38;5;28mself\u001b[39m\u001b[38;5;241m.\u001b[39m_reset()  \u001b[38;5;66;03m# type: ignore[call-arg]\u001b[39;00m\n\u001b[1;32m--> 630\u001b[0m data \u001b[38;5;241m=\u001b[39m \u001b[38;5;28;43mself\u001b[39;49m\u001b[38;5;241;43m.\u001b[39;49m\u001b[43m_next_data\u001b[49m\u001b[43m(\u001b[49m\u001b[43m)\u001b[49m\n\u001b[0;32m    631\u001b[0m \u001b[38;5;28mself\u001b[39m\u001b[38;5;241m.\u001b[39m_num_yielded \u001b[38;5;241m+\u001b[39m\u001b[38;5;241m=\u001b[39m \u001b[38;5;241m1\u001b[39m\n\u001b[0;32m    632\u001b[0m \u001b[38;5;28;01mif\u001b[39;00m \u001b[38;5;28mself\u001b[39m\u001b[38;5;241m.\u001b[39m_dataset_kind \u001b[38;5;241m==\u001b[39m _DatasetKind\u001b[38;5;241m.\u001b[39mIterable \u001b[38;5;129;01mand\u001b[39;00m \\\n\u001b[0;32m    633\u001b[0m         \u001b[38;5;28mself\u001b[39m\u001b[38;5;241m.\u001b[39m_IterableDataset_len_called \u001b[38;5;129;01mis\u001b[39;00m \u001b[38;5;129;01mnot\u001b[39;00m \u001b[38;5;28;01mNone\u001b[39;00m \u001b[38;5;129;01mand\u001b[39;00m \\\n\u001b[0;32m    634\u001b[0m         \u001b[38;5;28mself\u001b[39m\u001b[38;5;241m.\u001b[39m_num_yielded \u001b[38;5;241m>\u001b[39m \u001b[38;5;28mself\u001b[39m\u001b[38;5;241m.\u001b[39m_IterableDataset_len_called:\n",
      "File \u001b[1;32m~\\anaconda3\\envs\\py39\\lib\\site-packages\\torch\\utils\\data\\dataloader.py:674\u001b[0m, in \u001b[0;36m_SingleProcessDataLoaderIter._next_data\u001b[1;34m(self)\u001b[0m\n\u001b[0;32m    672\u001b[0m \u001b[38;5;28;01mdef\u001b[39;00m \u001b[38;5;21m_next_data\u001b[39m(\u001b[38;5;28mself\u001b[39m):\n\u001b[0;32m    673\u001b[0m     index \u001b[38;5;241m=\u001b[39m \u001b[38;5;28mself\u001b[39m\u001b[38;5;241m.\u001b[39m_next_index()  \u001b[38;5;66;03m# may raise StopIteration\u001b[39;00m\n\u001b[1;32m--> 674\u001b[0m     data \u001b[38;5;241m=\u001b[39m \u001b[38;5;28;43mself\u001b[39;49m\u001b[38;5;241;43m.\u001b[39;49m\u001b[43m_dataset_fetcher\u001b[49m\u001b[38;5;241;43m.\u001b[39;49m\u001b[43mfetch\u001b[49m\u001b[43m(\u001b[49m\u001b[43mindex\u001b[49m\u001b[43m)\u001b[49m  \u001b[38;5;66;03m# may raise StopIteration\u001b[39;00m\n\u001b[0;32m    675\u001b[0m     \u001b[38;5;28;01mif\u001b[39;00m \u001b[38;5;28mself\u001b[39m\u001b[38;5;241m.\u001b[39m_pin_memory:\n\u001b[0;32m    676\u001b[0m         data \u001b[38;5;241m=\u001b[39m _utils\u001b[38;5;241m.\u001b[39mpin_memory\u001b[38;5;241m.\u001b[39mpin_memory(data, \u001b[38;5;28mself\u001b[39m\u001b[38;5;241m.\u001b[39m_pin_memory_device)\n",
      "File \u001b[1;32m~\\anaconda3\\envs\\py39\\lib\\site-packages\\torch\\utils\\data\\_utils\\fetch.py:51\u001b[0m, in \u001b[0;36m_MapDatasetFetcher.fetch\u001b[1;34m(self, possibly_batched_index)\u001b[0m\n\u001b[0;32m     49\u001b[0m         data \u001b[38;5;241m=\u001b[39m \u001b[38;5;28mself\u001b[39m\u001b[38;5;241m.\u001b[39mdataset\u001b[38;5;241m.\u001b[39m__getitems__(possibly_batched_index)\n\u001b[0;32m     50\u001b[0m     \u001b[38;5;28;01melse\u001b[39;00m:\n\u001b[1;32m---> 51\u001b[0m         data \u001b[38;5;241m=\u001b[39m [\u001b[38;5;28mself\u001b[39m\u001b[38;5;241m.\u001b[39mdataset[idx] \u001b[38;5;28;01mfor\u001b[39;00m idx \u001b[38;5;129;01min\u001b[39;00m possibly_batched_index]\n\u001b[0;32m     52\u001b[0m \u001b[38;5;28;01melse\u001b[39;00m:\n\u001b[0;32m     53\u001b[0m     data \u001b[38;5;241m=\u001b[39m \u001b[38;5;28mself\u001b[39m\u001b[38;5;241m.\u001b[39mdataset[possibly_batched_index]\n",
      "File \u001b[1;32m~\\anaconda3\\envs\\py39\\lib\\site-packages\\torch\\utils\\data\\_utils\\fetch.py:51\u001b[0m, in \u001b[0;36m<listcomp>\u001b[1;34m(.0)\u001b[0m\n\u001b[0;32m     49\u001b[0m         data \u001b[38;5;241m=\u001b[39m \u001b[38;5;28mself\u001b[39m\u001b[38;5;241m.\u001b[39mdataset\u001b[38;5;241m.\u001b[39m__getitems__(possibly_batched_index)\n\u001b[0;32m     50\u001b[0m     \u001b[38;5;28;01melse\u001b[39;00m:\n\u001b[1;32m---> 51\u001b[0m         data \u001b[38;5;241m=\u001b[39m [\u001b[38;5;28;43mself\u001b[39;49m\u001b[38;5;241;43m.\u001b[39;49m\u001b[43mdataset\u001b[49m\u001b[43m[\u001b[49m\u001b[43midx\u001b[49m\u001b[43m]\u001b[49m \u001b[38;5;28;01mfor\u001b[39;00m idx \u001b[38;5;129;01min\u001b[39;00m possibly_batched_index]\n\u001b[0;32m     52\u001b[0m \u001b[38;5;28;01melse\u001b[39;00m:\n\u001b[0;32m     53\u001b[0m     data \u001b[38;5;241m=\u001b[39m \u001b[38;5;28mself\u001b[39m\u001b[38;5;241m.\u001b[39mdataset[possibly_batched_index]\n",
      "Cell \u001b[1;32mIn[32], line 11\u001b[0m, in \u001b[0;36mLinearRegressionDatasetMultiCategory.__getitem__\u001b[1;34m(self, idx)\u001b[0m\n\u001b[0;32m     10\u001b[0m \u001b[38;5;28;01mdef\u001b[39;00m \u001b[38;5;21m__getitem__\u001b[39m(\u001b[38;5;28mself\u001b[39m, idx):\n\u001b[1;32m---> 11\u001b[0m     numeric_sample \u001b[38;5;241m=\u001b[39m torch\u001b[38;5;241m.\u001b[39mtensor(\u001b[43mnp\u001b[49m\u001b[38;5;241;43m.\u001b[39;49m\u001b[43masarray\u001b[49m\u001b[43m(\u001b[49m\u001b[38;5;28;43mself\u001b[39;49m\u001b[38;5;241;43m.\u001b[39;49m\u001b[43mnumeric_data\u001b[49m\u001b[43m[\u001b[49m\u001b[43midx\u001b[49m\u001b[43m]\u001b[49m\u001b[43m,\u001b[49m\u001b[43m \u001b[49m\u001b[43mdtype\u001b[49m\u001b[38;5;241;43m=\u001b[39;49m\u001b[43mnp\u001b[49m\u001b[38;5;241;43m.\u001b[39;49m\u001b[43mfloat32\u001b[49m\u001b[43m)\u001b[49m, dtype\u001b[38;5;241m=\u001b[39mtorch\u001b[38;5;241m.\u001b[39mfloat32)\n\u001b[0;32m     12\u001b[0m     category_samples \u001b[38;5;241m=\u001b[39m [torch\u001b[38;5;241m.\u001b[39mtensor(category_data[idx], dtype\u001b[38;5;241m=\u001b[39mtorch\u001b[38;5;241m.\u001b[39mlong) \u001b[38;5;28;01mfor\u001b[39;00m category_data \u001b[38;5;129;01min\u001b[39;00m \u001b[38;5;28mself\u001b[39m\u001b[38;5;241m.\u001b[39mcategory_data_list]\n\u001b[0;32m     13\u001b[0m     target_sample \u001b[38;5;241m=\u001b[39m torch\u001b[38;5;241m.\u001b[39mtensor(\u001b[38;5;28mself\u001b[39m\u001b[38;5;241m.\u001b[39mtarget_data[idx], dtype\u001b[38;5;241m=\u001b[39mtorch\u001b[38;5;241m.\u001b[39mfloat32)\n",
      "\u001b[1;31mValueError\u001b[0m: could not convert string to float: '측면충돌'"
     ]
    }
   ],
   "source": [
    "from tqdm import tqdm\n",
    "device = torch.device('cuda' if torch.cuda.is_available() else 'cpu')\n",
    "model = LinearRegressionWithEmbeddingMultiCategory(\n",
    "    num_numeric_features=len(numeric_columns),\n",
    "    category_dimensions=category_dimensions,\n",
    "    embedding_dim=50\n",
    ").to(device)\n",
    "\n",
    "\n",
    "# 손실 함수 및 옵티마이저 설정\n",
    "criterion = loss_fn\n",
    "optimizer = optim.Adam(model.parameters(), lr=0.001)\n",
    "scheduler = optim.lr_scheduler.StepLR(optimizer, step_size=100, gamma=0.1)\n",
    "# 훈련\n",
    "epochs = 100\n",
    "for epoch in tqdm(range(epochs)):\n",
    "    total_loss = 0.0\n",
    "    for numeric_data, category_data_list, target_data in train_loader:\n",
    "        numeric_data , target_data = numeric_data.to(device) ,target_data.to(device)\n",
    "        for i in range(len(category_data_list)):\n",
    "            category_data_list[i] = category_data_list[i].to(device)\n",
    "        # Forward pass\n",
    "        output = model(numeric_data, category_data_list)\n",
    "\n",
    "        # Compute loss\n",
    "        loss = criterion(output, target_data)\n",
    "\n",
    "        # Backward pass and optimization\n",
    "        optimizer.zero_grad()\n",
    "        loss.backward()\n",
    "        optimizer.step()\n",
    "        scheduler.step()\n",
    "        # Accumulate total loss\n",
    "        total_loss += loss.item()\n",
    "\n",
    "    # Print average loss during epoch\n",
    "    average_loss = total_loss / len(train_loader)\n",
    "    print(f'Epoch {epoch+1}/{epochs}, Average Loss: {average_loss}')\n",
    "\n"
   ]
  },
  {
   "cell_type": "code",
   "execution_count": 37,
   "metadata": {
    "ExecuteTime": {
     "end_time": "2023-12-04T10:02:31.618642Z",
     "start_time": "2023-12-04T10:02:31.561144Z"
    },
    "id": "LXF_OaQDDKB5"
   },
   "outputs": [
    {
     "data": {
      "text/html": [
       "<div>\n",
       "<style scoped>\n",
       "    .dataframe tbody tr th:only-of-type {\n",
       "        vertical-align: middle;\n",
       "    }\n",
       "\n",
       "    .dataframe tbody tr th {\n",
       "        vertical-align: top;\n",
       "    }\n",
       "\n",
       "    .dataframe thead th {\n",
       "        text-align: right;\n",
       "    }\n",
       "</style>\n",
       "<table border=\"1\" class=\"dataframe\">\n",
       "  <thead>\n",
       "    <tr style=\"text-align: right;\">\n",
       "      <th></th>\n",
       "      <th>요일</th>\n",
       "      <th>기상상태</th>\n",
       "      <th>노면상태</th>\n",
       "      <th>사고유형</th>\n",
       "      <th>사고유형 - 세부분류</th>\n",
       "      <th>법규위반</th>\n",
       "      <th>가해운전자 차종</th>\n",
       "      <th>가해운전자 성별</th>\n",
       "      <th>가해운전자 연령</th>\n",
       "      <th>가해운전자 상해정도</th>\n",
       "      <th>...</th>\n",
       "      <th>구</th>\n",
       "      <th>동</th>\n",
       "      <th>사고년</th>\n",
       "      <th>사고월</th>\n",
       "      <th>사고일</th>\n",
       "      <th>사고시간</th>\n",
       "      <th>사고시간대</th>\n",
       "      <th>계절</th>\n",
       "      <th>공휴일</th>\n",
       "      <th>주말여부</th>\n",
       "    </tr>\n",
       "  </thead>\n",
       "  <tbody>\n",
       "    <tr>\n",
       "      <th>0</th>\n",
       "      <td>화요일</td>\n",
       "      <td>맑음</td>\n",
       "      <td>건조</td>\n",
       "      <td>차대사람</td>\n",
       "      <td>길가장자리구역통행중</td>\n",
       "      <td>안전운전불이행</td>\n",
       "      <td>승용</td>\n",
       "      <td>여</td>\n",
       "      <td>51세</td>\n",
       "      <td>상해없음</td>\n",
       "      <td>...</td>\n",
       "      <td>중구</td>\n",
       "      <td>대신동</td>\n",
       "      <td>2019</td>\n",
       "      <td>1</td>\n",
       "      <td>1</td>\n",
       "      <td>0</td>\n",
       "      <td>심야</td>\n",
       "      <td>겨울</td>\n",
       "      <td>holiday</td>\n",
       "      <td>X</td>\n",
       "    </tr>\n",
       "    <tr>\n",
       "      <th>1</th>\n",
       "      <td>화요일</td>\n",
       "      <td>흐림</td>\n",
       "      <td>건조</td>\n",
       "      <td>차대사람</td>\n",
       "      <td>보도통행중</td>\n",
       "      <td>기타</td>\n",
       "      <td>승용</td>\n",
       "      <td>남</td>\n",
       "      <td>39세</td>\n",
       "      <td>상해없음</td>\n",
       "      <td>...</td>\n",
       "      <td>달서구</td>\n",
       "      <td>감삼동</td>\n",
       "      <td>2019</td>\n",
       "      <td>1</td>\n",
       "      <td>1</td>\n",
       "      <td>0</td>\n",
       "      <td>심야</td>\n",
       "      <td>겨울</td>\n",
       "      <td>holiday</td>\n",
       "      <td>X</td>\n",
       "    </tr>\n",
       "    <tr>\n",
       "      <th>2</th>\n",
       "      <td>화요일</td>\n",
       "      <td>맑음</td>\n",
       "      <td>건조</td>\n",
       "      <td>차대사람</td>\n",
       "      <td>차도통행중</td>\n",
       "      <td>안전운전불이행</td>\n",
       "      <td>승용</td>\n",
       "      <td>남</td>\n",
       "      <td>70세</td>\n",
       "      <td>상해없음</td>\n",
       "      <td>...</td>\n",
       "      <td>수성구</td>\n",
       "      <td>두산동</td>\n",
       "      <td>2019</td>\n",
       "      <td>1</td>\n",
       "      <td>1</td>\n",
       "      <td>1</td>\n",
       "      <td>심야</td>\n",
       "      <td>겨울</td>\n",
       "      <td>holiday</td>\n",
       "      <td>X</td>\n",
       "    </tr>\n",
       "    <tr>\n",
       "      <th>3</th>\n",
       "      <td>화요일</td>\n",
       "      <td>맑음</td>\n",
       "      <td>건조</td>\n",
       "      <td>차대차</td>\n",
       "      <td>추돌</td>\n",
       "      <td>안전운전불이행</td>\n",
       "      <td>승용</td>\n",
       "      <td>남</td>\n",
       "      <td>49세</td>\n",
       "      <td>상해없음</td>\n",
       "      <td>...</td>\n",
       "      <td>북구</td>\n",
       "      <td>복현동</td>\n",
       "      <td>2019</td>\n",
       "      <td>1</td>\n",
       "      <td>1</td>\n",
       "      <td>2</td>\n",
       "      <td>심야</td>\n",
       "      <td>겨울</td>\n",
       "      <td>holiday</td>\n",
       "      <td>X</td>\n",
       "    </tr>\n",
       "    <tr>\n",
       "      <th>4</th>\n",
       "      <td>화요일</td>\n",
       "      <td>맑음</td>\n",
       "      <td>건조</td>\n",
       "      <td>차대차</td>\n",
       "      <td>추돌</td>\n",
       "      <td>안전운전불이행</td>\n",
       "      <td>승용</td>\n",
       "      <td>남</td>\n",
       "      <td>30세</td>\n",
       "      <td>상해없음</td>\n",
       "      <td>...</td>\n",
       "      <td>동구</td>\n",
       "      <td>신암동</td>\n",
       "      <td>2019</td>\n",
       "      <td>1</td>\n",
       "      <td>1</td>\n",
       "      <td>4</td>\n",
       "      <td>심야</td>\n",
       "      <td>겨울</td>\n",
       "      <td>holiday</td>\n",
       "      <td>X</td>\n",
       "    </tr>\n",
       "    <tr>\n",
       "      <th>...</th>\n",
       "      <td>...</td>\n",
       "      <td>...</td>\n",
       "      <td>...</td>\n",
       "      <td>...</td>\n",
       "      <td>...</td>\n",
       "      <td>...</td>\n",
       "      <td>...</td>\n",
       "      <td>...</td>\n",
       "      <td>...</td>\n",
       "      <td>...</td>\n",
       "      <td>...</td>\n",
       "      <td>...</td>\n",
       "      <td>...</td>\n",
       "      <td>...</td>\n",
       "      <td>...</td>\n",
       "      <td>...</td>\n",
       "      <td>...</td>\n",
       "      <td>...</td>\n",
       "      <td>...</td>\n",
       "      <td>...</td>\n",
       "      <td>...</td>\n",
       "    </tr>\n",
       "    <tr>\n",
       "      <th>39604</th>\n",
       "      <td>금요일</td>\n",
       "      <td>맑음</td>\n",
       "      <td>건조</td>\n",
       "      <td>차대차</td>\n",
       "      <td>측면충돌</td>\n",
       "      <td>신호위반</td>\n",
       "      <td>승용</td>\n",
       "      <td>여</td>\n",
       "      <td>52세</td>\n",
       "      <td>상해없음</td>\n",
       "      <td>...</td>\n",
       "      <td>수성구</td>\n",
       "      <td>수성동3가</td>\n",
       "      <td>2021</td>\n",
       "      <td>12</td>\n",
       "      <td>31</td>\n",
       "      <td>19</td>\n",
       "      <td>퇴근</td>\n",
       "      <td>겨울</td>\n",
       "      <td>non-holiday</td>\n",
       "      <td>X</td>\n",
       "    </tr>\n",
       "    <tr>\n",
       "      <th>39605</th>\n",
       "      <td>금요일</td>\n",
       "      <td>맑음</td>\n",
       "      <td>건조</td>\n",
       "      <td>차대차</td>\n",
       "      <td>측면충돌</td>\n",
       "      <td>안전거리미확보</td>\n",
       "      <td>승용</td>\n",
       "      <td>여</td>\n",
       "      <td>60세</td>\n",
       "      <td>상해없음</td>\n",
       "      <td>...</td>\n",
       "      <td>달서구</td>\n",
       "      <td>상인동</td>\n",
       "      <td>2021</td>\n",
       "      <td>12</td>\n",
       "      <td>31</td>\n",
       "      <td>19</td>\n",
       "      <td>퇴근</td>\n",
       "      <td>겨울</td>\n",
       "      <td>non-holiday</td>\n",
       "      <td>X</td>\n",
       "    </tr>\n",
       "    <tr>\n",
       "      <th>39606</th>\n",
       "      <td>금요일</td>\n",
       "      <td>맑음</td>\n",
       "      <td>건조</td>\n",
       "      <td>차대차</td>\n",
       "      <td>측면충돌</td>\n",
       "      <td>교차로운행방법위반</td>\n",
       "      <td>승용</td>\n",
       "      <td>남</td>\n",
       "      <td>60세</td>\n",
       "      <td>중상</td>\n",
       "      <td>...</td>\n",
       "      <td>달서구</td>\n",
       "      <td>월성동</td>\n",
       "      <td>2021</td>\n",
       "      <td>12</td>\n",
       "      <td>31</td>\n",
       "      <td>21</td>\n",
       "      <td>심야</td>\n",
       "      <td>겨울</td>\n",
       "      <td>non-holiday</td>\n",
       "      <td>X</td>\n",
       "    </tr>\n",
       "    <tr>\n",
       "      <th>39607</th>\n",
       "      <td>금요일</td>\n",
       "      <td>맑음</td>\n",
       "      <td>건조</td>\n",
       "      <td>차대차</td>\n",
       "      <td>추돌</td>\n",
       "      <td>안전운전불이행</td>\n",
       "      <td>승용</td>\n",
       "      <td>남</td>\n",
       "      <td>40세</td>\n",
       "      <td>상해없음</td>\n",
       "      <td>...</td>\n",
       "      <td>달서구</td>\n",
       "      <td>장동</td>\n",
       "      <td>2021</td>\n",
       "      <td>12</td>\n",
       "      <td>31</td>\n",
       "      <td>22</td>\n",
       "      <td>심야</td>\n",
       "      <td>겨울</td>\n",
       "      <td>non-holiday</td>\n",
       "      <td>X</td>\n",
       "    </tr>\n",
       "    <tr>\n",
       "      <th>39608</th>\n",
       "      <td>금요일</td>\n",
       "      <td>맑음</td>\n",
       "      <td>건조</td>\n",
       "      <td>차대차</td>\n",
       "      <td>측면충돌</td>\n",
       "      <td>안전운전불이행</td>\n",
       "      <td>승용</td>\n",
       "      <td>남</td>\n",
       "      <td>27세</td>\n",
       "      <td>상해없음</td>\n",
       "      <td>...</td>\n",
       "      <td>서구</td>\n",
       "      <td>비산동</td>\n",
       "      <td>2021</td>\n",
       "      <td>12</td>\n",
       "      <td>31</td>\n",
       "      <td>23</td>\n",
       "      <td>심야</td>\n",
       "      <td>겨울</td>\n",
       "      <td>non-holiday</td>\n",
       "      <td>X</td>\n",
       "    </tr>\n",
       "  </tbody>\n",
       "</table>\n",
       "<p>39609 rows × 32 columns</p>\n",
       "</div>"
      ],
      "text/plain": [
       "        요일 기상상태 노면상태  사고유형 사고유형 - 세부분류       법규위반 가해운전자 차종 가해운전자 성별 가해운전자 연령  \\\n",
       "0      화요일   맑음   건조  차대사람  길가장자리구역통행중    안전운전불이행       승용        여      51세   \n",
       "1      화요일   흐림   건조  차대사람       보도통행중         기타       승용        남      39세   \n",
       "2      화요일   맑음   건조  차대사람       차도통행중    안전운전불이행       승용        남      70세   \n",
       "3      화요일   맑음   건조   차대차          추돌    안전운전불이행       승용        남      49세   \n",
       "4      화요일   맑음   건조   차대차          추돌    안전운전불이행       승용        남      30세   \n",
       "...    ...  ...  ...   ...         ...        ...      ...      ...      ...   \n",
       "39604  금요일   맑음   건조   차대차        측면충돌       신호위반       승용        여      52세   \n",
       "39605  금요일   맑음   건조   차대차        측면충돌    안전거리미확보       승용        여      60세   \n",
       "39606  금요일   맑음   건조   차대차        측면충돌  교차로운행방법위반       승용        남      60세   \n",
       "39607  금요일   맑음   건조   차대차          추돌    안전운전불이행       승용        남      40세   \n",
       "39608  금요일   맑음   건조   차대차        측면충돌    안전운전불이행       승용        남      27세   \n",
       "\n",
       "      가해운전자 상해정도  ...    구      동   사고년 사고월  사고일  사고시간  사고시간대  계절  \\\n",
       "0           상해없음  ...   중구    대신동  2019   1    1     0     심야  겨울   \n",
       "1           상해없음  ...  달서구    감삼동  2019   1    1     0     심야  겨울   \n",
       "2           상해없음  ...  수성구    두산동  2019   1    1     1     심야  겨울   \n",
       "3           상해없음  ...   북구    복현동  2019   1    1     2     심야  겨울   \n",
       "4           상해없음  ...   동구    신암동  2019   1    1     4     심야  겨울   \n",
       "...          ...  ...  ...    ...   ...  ..  ...   ...    ...  ..   \n",
       "39604       상해없음  ...  수성구  수성동3가  2021  12   31    19     퇴근  겨울   \n",
       "39605       상해없음  ...  달서구    상인동  2021  12   31    19     퇴근  겨울   \n",
       "39606         중상  ...  달서구    월성동  2021  12   31    21     심야  겨울   \n",
       "39607       상해없음  ...  달서구     장동  2021  12   31    22     심야  겨울   \n",
       "39608       상해없음  ...   서구    비산동  2021  12   31    23     심야  겨울   \n",
       "\n",
       "               공휴일 주말여부  \n",
       "0          holiday    X  \n",
       "1          holiday    X  \n",
       "2          holiday    X  \n",
       "3          holiday    X  \n",
       "4          holiday    X  \n",
       "...            ...  ...  \n",
       "39604  non-holiday    X  \n",
       "39605  non-holiday    X  \n",
       "39606  non-holiday    X  \n",
       "39607  non-holiday    X  \n",
       "39608  non-holiday    X  \n",
       "\n",
       "[39609 rows x 32 columns]"
      ]
     },
     "execution_count": 37,
     "metadata": {},
     "output_type": "execute_result"
    }
   ],
   "source": [
    "b_test_x"
   ]
  },
  {
   "cell_type": "code",
   "execution_count": null,
   "metadata": {
    "ExecuteTime": {
     "end_time": "2023-12-04T10:02:22.274255Z",
     "start_time": "2023-12-04T10:02:22.274255Z"
    },
    "id": "ZzYGBXbo7vcp"
   },
   "outputs": [],
   "source": [
    "model.eval()\n",
    "with torch.no_grad():\n",
    "  pred = model(torch.tensor(b_test_x.values, dtype=torch.float32).to(device))"
   ]
  },
  {
   "cell_type": "markdown",
   "metadata": {
    "id": "zxnLp24tF1a2"
   },
   "source": [
    "# 인코딩 (oversampling목표로 label encoding)"
   ]
  },
  {
   "cell_type": "code",
   "execution_count": null,
   "metadata": {
    "ExecuteTime": {
     "end_time": "2023-12-04T10:02:22.275254Z",
     "start_time": "2023-12-04T10:02:22.275254Z"
    },
    "id": "MX13HyslqARZ"
   },
   "outputs": [],
   "source": [
    "test_x = test_df.copy()\n",
    "train_x = train_df[test_x.columns].copy()\n",
    "train_y = train_df['ECLO'].copy()"
   ]
  },
  {
   "cell_type": "code",
   "execution_count": null,
   "metadata": {
    "ExecuteTime": {
     "end_time": "2023-12-04T10:02:22.276254Z",
     "start_time": "2023-12-04T10:02:22.276254Z"
    },
    "colab": {
     "base_uri": "https://localhost:8080/"
    },
    "id": "2yHmlj9iWJiM",
    "outputId": "efedd940-c971-495c-b5a5-0436130c6d0c"
   },
   "outputs": [],
   "source": [
    "pip install category_encoders"
   ]
  },
  {
   "cell_type": "code",
   "execution_count": null,
   "metadata": {
    "ExecuteTime": {
     "end_time": "2023-12-04T10:02:22.277623Z",
     "start_time": "2023-12-04T10:02:22.277623Z"
    },
    "colab": {
     "base_uri": "https://localhost:8080/",
     "height": 634
    },
    "id": "j7dMZeS6F1eE",
    "outputId": "f466a909-8030-4d7b-e80a-1a74b12ecdf2"
   },
   "outputs": [],
   "source": [
    "from sklearn.preprocessing import LabelEncoder\n",
    "from category_encoders.target_encoder import TargetEncoder\n",
    "\n",
    "categorical_features = list(train_x.dtypes[train_x.dtypes == \"object\"].index)\n",
    "# 추출된 문자열 변수 확인\n",
    "display(categorical_features)\n",
    "\n",
    "for i in categorical_features:\n",
    "    le = TargetEncoder(cols=[i])\n",
    "    train_x[i] = le.fit_transform(train_x[i], train_y)\n",
    "    test_x[i] = le.transform(test_x[i])\n",
    "\n",
    "display(train_x.head())\n",
    "display(test_x.head())"
   ]
  },
  {
   "cell_type": "code",
   "execution_count": null,
   "metadata": {
    "ExecuteTime": {
     "end_time": "2023-12-04T10:02:22.278765Z",
     "start_time": "2023-12-04T10:02:22.278765Z"
    },
    "id": "DICW1eAeIn69"
   },
   "outputs": [],
   "source": [
    "train_x.drop(['도로형태_1','시'],axis =1 , inplace=True)\n",
    "test_x.drop(['도로형태_1','시'],axis =1 , inplace=True)"
   ]
  },
  {
   "cell_type": "code",
   "execution_count": null,
   "metadata": {
    "id": "ldyGEAKSdG4W"
   },
   "outputs": [],
   "source": []
  },
  {
   "cell_type": "code",
   "execution_count": null,
   "metadata": {
    "id": "yFz0r9NxdG6r"
   },
   "outputs": [],
   "source": []
  },
  {
   "cell_type": "code",
   "execution_count": null,
   "metadata": {
    "id": "3cGYUdVLdG9C"
   },
   "outputs": [],
   "source": []
  },
  {
   "cell_type": "code",
   "execution_count": null,
   "metadata": {
    "id": "xbGl-VjcdG_O"
   },
   "outputs": [],
   "source": []
  },
  {
   "cell_type": "code",
   "execution_count": null,
   "metadata": {
    "id": "Fz1AdCJBdHB0"
   },
   "outputs": [],
   "source": []
  },
  {
   "cell_type": "code",
   "execution_count": null,
   "metadata": {
    "id": "188tNqJddHEp"
   },
   "outputs": [],
   "source": []
  },
  {
   "cell_type": "markdown",
   "metadata": {
    "id": "w3OFyoO2TL_8"
   },
   "source": [
    "#딥러닝 파이토치 모델 생성을 목표로 (속도를 보장 못함) -> 공부필요"
   ]
  },
  {
   "cell_type": "code",
   "execution_count": null,
   "metadata": {
    "ExecuteTime": {
     "end_time": "2023-12-04T10:02:22.279831Z",
     "start_time": "2023-12-04T10:02:22.279831Z"
    },
    "id": "GyOGG-EUANiI"
   },
   "outputs": [],
   "source": [
    "import torch\n",
    "import torch.nn as nn\n",
    "import torch.optim as optim\n",
    "from torch.utils.data import DataLoader , TensorDataset\n",
    "import torch.nn.functional as F"
   ]
  },
  {
   "cell_type": "code",
   "execution_count": null,
   "metadata": {
    "ExecuteTime": {
     "end_time": "2023-12-04T10:02:22.281217Z",
     "start_time": "2023-12-04T10:02:22.281217Z"
    },
    "id": "-NMlH-4rANk6"
   },
   "outputs": [],
   "source": [
    "from sklearn.model_selection import train_test_split\n",
    "\n",
    "x_train, x_test, y_train, y_test = train_test_split(train_x,train_y, test_size = 0.2, random_state = 48)"
   ]
  },
  {
   "cell_type": "code",
   "execution_count": null,
   "metadata": {
    "ExecuteTime": {
     "end_time": "2023-12-04T10:02:22.282230Z",
     "start_time": "2023-12-04T10:02:22.282230Z"
    },
    "id": "OV-_AJpNO0br"
   },
   "outputs": [],
   "source": [
    "X_train_torch=torch.Tensor(x_train.values)\n",
    "X_test_torch=torch.Tensor(x_test.values)\n",
    "y_train_torch=torch.Tensor(y_train.values)\n",
    "y_test_torch=torch.Tensor(y_test.values)"
   ]
  },
  {
   "cell_type": "code",
   "execution_count": null,
   "metadata": {
    "ExecuteTime": {
     "end_time": "2023-12-04T10:02:22.283329Z",
     "start_time": "2023-12-04T10:02:22.283329Z"
    },
    "id": "quxxBspiANni"
   },
   "outputs": [],
   "source": [
    "train_dataset = TensorDataset(X_train_torch, y_train_torch)\n",
    "test_dataset = TensorDataset(X_test_torch, y_test_torch)\n"
   ]
  },
  {
   "cell_type": "code",
   "execution_count": null,
   "metadata": {
    "ExecuteTime": {
     "end_time": "2023-12-04T10:02:22.285868Z",
     "start_time": "2023-12-04T10:02:22.285868Z"
    },
    "id": "8cxNP3OUJXSb"
   },
   "outputs": [],
   "source": [
    "train_loader = torch.utils.data.DataLoader(dataset=train_dataset,\n",
    "                                          batch_size=32,\n",
    "                                          shuffle=True,\n",
    "                                          )\n",
    "\n",
    "test_loader = torch.utils.data.DataLoader(dataset=test_dataset,\n",
    "                                          batch_size=32,\n",
    "                                          shuffle=False,\n",
    "                                          )"
   ]
  },
  {
   "cell_type": "code",
   "execution_count": null,
   "metadata": {
    "ExecuteTime": {
     "end_time": "2023-12-04T10:02:22.287052Z",
     "start_time": "2023-12-04T10:02:22.287052Z"
    },
    "id": "oRdxPD4pANqE"
   },
   "outputs": [],
   "source": [
    "def rmsle(y_true, y_pred):\n",
    "    y_true = torch.max(y_true.float(), torch.tensor(0.0))\n",
    "    y_pred = torch.max(y_pred.float(), torch.tensor(0.0))\n",
    "    squared_error = torch.square(torch.log1p(y_pred) - torch.log1p(y_true))\n",
    "    return torch.sqrt(torch.mean(squared_error))\n",
    "\n",
    "def loss_fn(y_true, y_pred):\n",
    "    return rmsle(y_true, y_pred)\n",
    "\n",
    "def metric_fn(y_true, y_pred):\n",
    "    return rmsle(y_true, y_pred)"
   ]
  },
  {
   "cell_type": "code",
   "execution_count": null,
   "metadata": {
    "ExecuteTime": {
     "end_time": "2023-12-04T10:02:22.288683Z",
     "start_time": "2023-12-04T10:02:22.288683Z"
    },
    "id": "cjlSvanuOMuy"
   },
   "outputs": [],
   "source": [
    "class Model(nn.Module):\n",
    "    def __init__(self):\n",
    "        super(Model, self).__init__()\n",
    "        self.fc1 = nn.Linear(15, 32)\n",
    "        self.bn1 = nn.BatchNorm1d(num_features=32)\n",
    "        self.relu = nn.ReLU()\n",
    "        self.fc2 = nn.Linear(32, 64)\n",
    "        self.bn2 = nn.BatchNorm1d(num_features=64)\n",
    "        self.fc3 = nn.Linear(64,1)\n",
    "        self.dropout = nn.Dropout(0.2)\n",
    "\n",
    "    def forward(self, x):\n",
    "        x = self.fc1(x)\n",
    "        x = self.bn1(x)\n",
    "        x = self.relu(x)\n",
    "        x = self.fc2(x)\n",
    "        x = self.bn2(x)\n",
    "        x = self.relu(x)\n",
    "        x = self.dropout(x)\n",
    "        x = self.fc3(x)\n",
    "        return x"
   ]
  },
  {
   "cell_type": "code",
   "execution_count": null,
   "metadata": {
    "ExecuteTime": {
     "end_time": "2023-12-04T10:02:22.289881Z",
     "start_time": "2023-12-04T10:02:22.289881Z"
    },
    "colab": {
     "base_uri": "https://localhost:8080/"
    },
    "id": "iS6amqBAOMx_",
    "outputId": "1c3bbcc0-eb9d-46c5-a9e8-81be1419ac88"
   },
   "outputs": [],
   "source": [
    "from tqdm import tqdm\n",
    "device = torch.device('cuda' if torch.cuda.is_available() else 'cpu')\n",
    "\n",
    "# 모델 및 데이터를 GPU로 이동\n",
    "model = Model().to(device)\n",
    "\n",
    "optimizer = optim.Adam(model.parameters(), lr=0.01)\n",
    "\n",
    "#스케쥴러 100 epoch 마다 10%만큼 학습률 감소\n",
    "scheduler = optim.lr_scheduler.StepLR(optimizer, step_size=100, gamma=0.1)\n",
    "\n",
    "best_loss = 10 ** 9 # 매우 큰 값으로 초기값 가정\n",
    "patience_limit = 20 # 몇 번의 epoch까지 지켜볼지를 결정\n",
    "patience_check = 0 # 현재 몇 epoch 연속으로 loss 개선이 안되는지를 기록\n",
    "\n",
    "\n",
    "model.train()  # 모델을 훈련 모드로 전환\n",
    "\n",
    "num_epochs = 1000\n",
    "for epoch in tqdm(range(num_epochs)):\n",
    "    for batch_X, batch_y in train_loader:\n",
    "        batch_X, batch_y = batch_X.to(device), batch_y.to(device)\n",
    "\n",
    "        # Forward pass\n",
    "        y_pred = model(batch_X)\n",
    "\n",
    "        # 손실 계산\n",
    "        loss = loss_fn(y_pred, batch_y)\n",
    "\n",
    "        # 역전파 및 최적화\n",
    "        optimizer.zero_grad()\n",
    "        loss.backward()\n",
    "        optimizer.step()\n",
    "        scheduler.step()\n",
    "\n",
    "\n",
    "    # 로그 출력\n",
    "    if (epoch+1) % 100 == 0:\n",
    "        print(f'Epoch [{epoch+1}/{num_epochs}], Loss: {loss.item():.4f}')\n",
    "\n",
    "  # 평가\n",
    "    model.eval()  # 모델을 평가 모드로 전환\n",
    "\n",
    "  # 데이터로더를 사용한 평가\n",
    "    total_loss = 0\n",
    "    with torch.no_grad():\n",
    "        for batch_X, batch_y in test_loader:\n",
    "            batch_X, batch_y = batch_X.to(device), batch_y.to(device)\n",
    "\n",
    "            # Forward pass\n",
    "            y_pred = model(batch_X)\n",
    "\n",
    "           # 손실 계산\n",
    "            total_loss += loss_fn(y_pred, batch_y)\n",
    "\n",
    "            total_loss += loss.item()\n",
    "\n",
    "    ### total_loss stopping 여부를 체크하는 부분 ###\n",
    "        if total_loss > best_loss: # loss가 개선되지 않은 경우\n",
    "            patience_check += 1\n",
    "\n",
    "            if patience_check >= patience_limit: # early stopping 조건 만족 시 조기 종료\n",
    "                break\n",
    "\n",
    "        else: # loss가 개선된 경우\n",
    "            best_loss = total_loss\n",
    "            patience_check = 0\n",
    "\n",
    "    average_loss = total_loss / len(test_loader)\n",
    "\n",
    "print(f'Average Loss on Evaluation Data: {average_loss:.4f}')\n",
    "\n"
   ]
  },
  {
   "cell_type": "code",
   "execution_count": null,
   "metadata": {
    "ExecuteTime": {
     "end_time": "2023-12-04T10:02:22.292341Z",
     "start_time": "2023-12-04T10:02:22.292341Z"
    },
    "id": "9M5t6pYwOM0t"
   },
   "outputs": [],
   "source": [
    "model.eval()\n",
    "with torch.no_grad():\n",
    "  pred = model(torch.tensor(test_x.values, dtype=torch.float32).to(device))"
   ]
  },
  {
   "cell_type": "code",
   "execution_count": null,
   "metadata": {
    "ExecuteTime": {
     "end_time": "2023-12-04T10:02:22.293341Z",
     "start_time": "2023-12-04T10:02:22.293341Z"
    },
    "colab": {
     "base_uri": "https://localhost:8080/"
    },
    "id": "5Ow6Tdn2OMFw",
    "outputId": "0f1b524d-e776-4ef9-8899-7990c503cd1a"
   },
   "outputs": [],
   "source": [
    "pred"
   ]
  },
  {
   "cell_type": "code",
   "execution_count": null,
   "metadata": {
    "id": "0HRrwVSoOMJZ"
   },
   "outputs": [],
   "source": []
  }
 ],
 "metadata": {
  "accelerator": "GPU",
  "colab": {
   "gpuType": "T4",
   "provenance": []
  },
  "kernelspec": {
   "display_name": "Python 3 (ipykernel)",
   "language": "python",
   "name": "python3"
  },
  "language_info": {
   "codemirror_mode": {
    "name": "ipython",
    "version": 3
   },
   "file_extension": ".py",
   "mimetype": "text/x-python",
   "name": "python",
   "nbconvert_exporter": "python",
   "pygments_lexer": "ipython3",
   "version": "3.9.6"
  },
  "toc": {
   "base_numbering": 1,
   "nav_menu": {},
   "number_sections": false,
   "sideBar": true,
   "skip_h1_title": false,
   "title_cell": "Table of Contents",
   "title_sidebar": "Contents",
   "toc_cell": false,
   "toc_position": {},
   "toc_section_display": true,
   "toc_window_display": false
  }
 },
 "nbformat": 4,
 "nbformat_minor": 1
}
