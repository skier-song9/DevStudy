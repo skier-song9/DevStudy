{
 "cells": [
  {
   "cell_type": "code",
   "execution_count": 1,
   "id": "qOczQMBWT2fZ",
   "metadata": {
    "ExecuteTime": {
     "end_time": "2023-12-08T09:43:57.832557Z",
     "start_time": "2023-12-08T09:43:57.811935Z"
    },
    "colab": {
     "base_uri": "https://localhost:8080/"
    },
    "executionInfo": {
     "elapsed": 19409,
     "status": "ok",
     "timestamp": 1701853102966,
     "user": {
      "displayName": "skiersong9",
      "userId": "11108221763786546299"
     },
     "user_tz": -540
    },
    "id": "qOczQMBWT2fZ",
    "outputId": "63869dea-d6c0-4bbc-b61f-1a79bfd6fc7f"
   },
   "outputs": [],
   "source": [
    "# from google.colab import drive\n",
    "# drive.mount('/content/drive')"
   ]
  },
  {
   "cell_type": "code",
   "execution_count": 2,
   "id": "4kXpWiNET2Xg",
   "metadata": {
    "ExecuteTime": {
     "end_time": "2023-12-08T09:43:57.844620Z",
     "start_time": "2023-12-08T09:43:57.836560Z"
    },
    "colab": {
     "base_uri": "https://localhost:8080/"
    },
    "executionInfo": {
     "elapsed": 24262,
     "status": "ok",
     "timestamp": 1701853127222,
     "user": {
      "displayName": "skiersong9",
      "userId": "11108221763786546299"
     },
     "user_tz": -540
    },
    "id": "4kXpWiNET2Xg",
    "outputId": "01951975-3e3f-4bc2-c112-fd532ddf256d"
   },
   "outputs": [],
   "source": [
    "# !pip install category_encoders\n",
    "# !pip install dacon_submit_api-0.0.4-py3-none-any.whl\n",
    "# !pip install mljar-supervised"
   ]
  },
  {
   "cell_type": "code",
   "execution_count": 3,
   "id": "H9h_njVYT2Na",
   "metadata": {
    "ExecuteTime": {
     "end_time": "2023-12-08T09:44:11.815083Z",
     "start_time": "2023-12-08T09:43:57.844620Z"
    },
    "executionInfo": {
     "elapsed": 4402,
     "status": "ok",
     "timestamp": 1701853233903,
     "user": {
      "displayName": "skiersong9",
      "userId": "11108221763786546299"
     },
     "user_tz": -540
    },
    "id": "H9h_njVYT2Na"
   },
   "outputs": [],
   "source": [
    "## import \n",
    "import pandas as pd\n",
    "import numpy as np\n",
    "from supervised.automl import AutoML\n",
    "\n",
    "# vis\n",
    "import matplotlib.pylab as plt\n",
    "from matplotlib import font_manager, rc\n",
    "import matplotlib\n",
    "%matplotlib inline\n",
    "matplotlib.rcParams['font.family'] = 'Malgun Gothic' # 한글 패치. 코랩에선 주석하셈\n",
    "import seaborn as sns\n",
    "\n",
    "# sklearn\n",
    "from sklearn.model_selection import train_test_split\n",
    "from sklearn.preprocessing import MinMaxScaler, LabelEncoder, OneHotEncoder\n",
    "from sklearn.impute import SimpleImputer \n",
    "from sklearn.preprocessing import StandardScaler\n",
    "from sklearn.preprocessing import PowerTransformer\n",
    "from sklearn.feature_selection import SelectPercentile\n",
    "from sklearn.model_selection import GridSearchCV\n",
    "from sklearn.model_selection import RandomizedSearchCV\n",
    "from sklearn.decomposition import PCA\n",
    "# Modeling\n",
    "from sklearn.dummy import DummyClassifier\n",
    "from sklearn.linear_model import LogisticRegression,LinearRegression\n",
    "from sklearn.neighbors import KNeighborsClassifier\n",
    "from sklearn.ensemble import RandomForestClassifier\n",
    "from sklearn.neural_network import MLPClassifier\n",
    "from sklearn.tree import DecisionTreeClassifier\n",
    "from sklearn.ensemble import ExtraTreesClassifier\n",
    "from sklearn.ensemble import GradientBoostingClassifier\n",
    "from xgboost import XGBClassifier, XGBRegressor, XGBRFRegressor\n",
    "from lightgbm import LGBMClassifier, LGBMRegressor\n",
    "from sklearn.svm import SVC\n",
    "from sklearn.ensemble import VotingClassifier, VotingRegressor \n",
    "from sklearn.ensemble import StackingClassifier, StackingRegressor\n",
    "from sklearn.base import ClassifierMixin\n",
    "# Evaluation\n",
    "from sklearn.metrics import roc_auc_score\n",
    "from sklearn.metrics import accuracy_score\n",
    "from sklearn.model_selection import cross_val_score\n",
    "from sklearn.metrics import log_loss,mean_squared_error\n",
    "\n",
    "# CatBoost\n",
    "from catboost import CatBoostRegressor\n",
    "\n",
    "# Utility\n",
    "import os\n",
    "import time\n",
    "import datetime # ⚠️2019년 12월30일과 31일의 week of year가 1인 오류가 있음\n",
    "import random\n",
    "import warnings; warnings.filterwarnings(\"ignore\")\n",
    "from IPython.display import Image\n",
    "# import pickle\n",
    "from tqdm import tqdm\n",
    "import platform\n",
    "from itertools import combinations\n",
    "from scipy.stats.mstats import gmean\n",
    "import holidays\n",
    "\n",
    "# 시드값 고정\n",
    "def seed_everything(seed):\n",
    "    random.seed(seed)\n",
    "    os.environ['PYTHONHASHSEED'] = str(seed)\n",
    "    np.random.seed(seed)\n",
    "\n",
    "seed_everything(2023)\n",
    "\n",
    "# 데이터프레임 컬럼 전체 보기\n",
    "pd.set_option('display.max_columns', None)"
   ]
  },
  {
   "cell_type": "code",
   "execution_count": 4,
   "id": "bc61c7b3",
   "metadata": {
    "ExecuteTime": {
     "end_time": "2023-12-08T09:44:12.124096Z",
     "start_time": "2023-12-08T09:44:11.819085Z"
    },
    "executionInfo": {
     "elapsed": 712,
     "status": "ok",
     "timestamp": 1701853289826,
     "user": {
      "displayName": "skiersong9",
      "userId": "11108221763786546299"
     },
     "user_tz": -540
    },
    "id": "bc61c7b3"
   },
   "outputs": [],
   "source": [
    "# 데이터 로드\n",
    "\n",
    "path = '../data/daegu/automl/'\n",
    "\n",
    "train_org = pd.read_csv(path+'train.csv')\n",
    "test_org = pd.read_csv(path+'test.csv')"
   ]
  },
  {
   "cell_type": "code",
   "execution_count": 5,
   "id": "5ffcb5b0",
   "metadata": {
    "ExecuteTime": {
     "end_time": "2023-12-08T09:44:12.843857Z",
     "start_time": "2023-12-08T09:44:12.128099Z"
    }
   },
   "outputs": [],
   "source": [
    "# 이희원님 코드 그대로 사용\n",
    "for df in [train_org, test_org]:\n",
    "    # 날짜 데이터\n",
    "    time_pattern = r'(\\d{4})-(\\d{1,2})-(\\d{1,2}) (\\d{1,2})'\n",
    "\n",
    "    df[['연', '월', '일', '시간']] = df['사고일시'].str.extract(time_pattern)\n",
    "    df[['연', '월', '일', '시간']] = df[['연', '월', '일', '시간']].apply(pd.to_numeric) # 추출된 문자열을 수치화해줍니다\n",
    "    df['사고일시'] = pd.to_datetime(df['사고일시'])\n",
    "    # df= df.drop(columns=['사고일시']) # 일단 냄겨두자\n",
    "\n",
    "    # 도시/구/동 분리\n",
    "    location_pattern = r'(\\S+) (\\S+) (\\S+)'\n",
    "\n",
    "    df[['도시', '구', '동']] = df['시군구'].str.extract(location_pattern)\n",
    "    # df= df.drop(columns=['시군구']) # 얘도 일단 냄겨놔\n",
    "\n",
    "    # 도로형태도 분류 코드\n",
    "    #road_pattern = r'(.+) - (.+)'\n",
    "\n",
    "    #df[['도로형태1', '도로형태2']] = df['도로형태'].str.extract(road_pattern)\n",
    "    #df= df.drop(columns=['도로형태']) # 얘는 드롭함\n",
    "\n",
    "    # 시간 >> 코사인 변환\n",
    "#     df['cos_hour'] = np.cos(2 * np.pi * df['시간'] / 24)\n",
    "    # 📢송규헌) 사인-코사인 변환\n",
    "    df['cos_hour'] = np.sign(np.pi*2*df['시간']/24) + np.cos(np.pi*2*df['시간']/24) + np.sign(np.pi*4*df['시간']/24) + np.cos(np.pi*4*df['시간']/24)\n",
    "\n",
    "    # 월 >> 코사인 변환\n",
    "    df['cos_month'] = -np.cos(np.pi*2*df['월']/12) + np.cos(np.pi*2*df['월']/12) - np.cos(np.pi*4*df['월']/12) + np.sign(np.pi*5*df['월']/12) + np.cos(np.pi*1*df['월']/12) + 2\n",
    "\n",
    "    \n",
    "    # 공휴일 (주말과 공휴일을 묶음)\n",
    "    # 공휴일 = 1, 비공휴일 = 0\n",
    "    holi_weekday = ['2019-01-01', '2019-02-04', '2019-02-05', '2019-02-06', '2019-03-01', '2019-05-05', '2019-05-12', '2019-06-06', '2019-08-15', '2019-09-12', '2019-09-13', '2019-09-14', '2019-10-03', '2019-10-09', '2019-12-25',\n",
    "                '2020-01-01' ,'2020-01-24' ,'2020-01-25', '2020-01-26', '2020-03-01', '2020-04-30', '2020-05-05', '2020-06-06', '2020-08-15', '2020-08-17', '2020-09-30', '2020-10-01', '2020-10-02', '2020-10-03', '2020-10-09', '2020-12-25',\n",
    "                '2021-01-01' ,'2021-02-11' ,'2021-02-12', '2021-02-13', '2021-03-01', '2021-05-05', '2021-05-19', '2021-06-06', '2021-08-15', '2021-09-20', '2021-09-21', '2021-09-22', '2021-10-03', '2021-10-09', '2021-12-25',\n",
    "                '2022-01-01' ,'2022-01-31' ,'2022-02-01', '2022-02-02', '2022-03-01', '2022-05-05', '2022-05-08', '2022-06-06', '2022-08-15', '2022-09-09', '2022-09-10', '2022-09-11', '2022-09-12', '2022-10-03', '2022-10-09', '2020-10-10', '2022-12-25',\n",
    "                '2023-01-01' ,'2023-01-21' ,'2023-01-22', '2023-01-23', '2023-01-24', '2023-03-01']\n",
    "    df['dow'] = df['사고일시'].dt.dayofweek #임시로 만든 컬럼\n",
    "    df['holiday'] = np.where((df['dow']>=5) | (df['사고일시'].dt.strftime('%Y-%m-%d').isin(holi_weekday)),1,0)\n",
    "    df.drop('dow',axis=1,inplace=True)\n",
    "    \n",
    "    # 계절 >> cos_month 사용할 때는 season은 생략\n",
    "#     def group_season(df):\n",
    "#         df.loc[(df['월'] == 3) | (df['월'] == 4) | (df['월'] == 5), 'season'] = '봄'\n",
    "#         df.loc[(df['월'] == 6) | (df['월'] == 7) | (df['월'] == 8), 'season'] = '여름'\n",
    "#         df.loc[(df['월'] == 9) | (df['월'] == 10) | (df['월'] == 11), 'season'] = '가을'\n",
    "#         df.loc[(df['월'] == 12) | (df['월'] == 1) | (df['월'] == 2), 'season'] = '겨울'\n",
    "#         return df['season']\n",
    "#     df['season'] = group_season(df)"
   ]
  },
  {
   "cell_type": "code",
   "execution_count": 6,
   "id": "1d72751f",
   "metadata": {
    "ExecuteTime": {
     "end_time": "2023-12-08T09:44:12.859106Z",
     "start_time": "2023-12-08T09:44:12.847866Z"
    }
   },
   "outputs": [],
   "source": [
    "train_df = train_org\n",
    "test_df = test_org"
   ]
  },
  {
   "cell_type": "code",
   "execution_count": 7,
   "id": "8f2015e9",
   "metadata": {
    "ExecuteTime": {
     "end_time": "2023-12-08T09:44:13.064408Z",
     "start_time": "2023-12-08T09:44:12.860120Z"
    }
   },
   "outputs": [],
   "source": [
    "# load data\n",
    "light_df = pd.read_csv(path+'동별_보안등개수.csv').rename(columns={'설치개수':'보안등개수'})\n",
    "parking_df = pd.read_csv(path+'주차장급지구분별개수.csv')\n",
    "speed_df = pd.read_csv(path+'동별_제한속도.csv')\n",
    "cross_walk_df = pd.read_csv(path+'동별_횡단보도개수.csv')\n",
    "child_area_df = pd.read_csv(path+'동별_어린이보호구역개수.csv')\n",
    "\n",
    "\n",
    "# merge data\n",
    "train_df = pd.merge(train_df, light_df, how='left', on=['구','동'])\n",
    "train_df = pd.merge(train_df, parking_df, how='left', on=['구','동'])\n",
    "train_df = pd.merge(train_df, speed_df, how='left', on='동')\n",
    "train_df = pd.merge(train_df, cross_walk_df, how='left', on='동')\n",
    "train_df = pd.merge(train_df, child_area_df, how='left', on=['구','동'])\n",
    "\n",
    "test_df = pd.merge(test_df, light_df, how='left', on=['구','동'])\n",
    "test_df = pd.merge(test_df, parking_df, how='left', on=['구','동'])\n",
    "test_df = pd.merge(test_df, speed_df, how='left', on='동')\n",
    "test_df = pd.merge(test_df, cross_walk_df, how='left', on='동')\n",
    "test_df = pd.merge(test_df, child_area_df, how='left', on=['구','동'])\n"
   ]
  },
  {
   "cell_type": "code",
   "execution_count": 8,
   "id": "7d7d8c9e",
   "metadata": {
    "ExecuteTime": {
     "end_time": "2023-12-08T09:44:13.093222Z",
     "start_time": "2023-12-08T09:44:13.064408Z"
    }
   },
   "outputs": [],
   "source": [
    "### 피처 추가...\n",
    "\n",
    "# 시군구별 사고횟수 >> 기본 코드 사용\n",
    "accident_counts = train_df['시군구'].value_counts().reset_index()\n",
    "accident_counts.columns = ['시군구', '사고횟수']\n",
    "# '시군구'별 사고 횟수를 train_df에 매핑하기 위해 '시군구' 컬럼을 기준으로 사고 횟수를 가져옵니다.\n",
    "train_df['사고발생횟수'] = train_df['시군구'].map(accident_counts.set_index('시군구')['사고횟수'])\n",
    "test_df['사고발생횟수'] = test_df['시군구'].map(accident_counts.set_index('시군구')['사고횟수'])\n",
    "\n",
    "\n"
   ]
  },
  {
   "cell_type": "code",
   "execution_count": 9,
   "id": "c4e1bfa4",
   "metadata": {
    "ExecuteTime": {
     "end_time": "2023-12-08T09:44:13.105220Z",
     "start_time": "2023-12-08T09:44:13.093222Z"
    }
   },
   "outputs": [],
   "source": [
    "###⚠️연도 그냥 타겟 인코딩할래\n",
    "# # 📢송규헌) 연도값을 연도별 eclo평균값으로 변경\n",
    "# # 선형추세\n",
    "# yearly_eclo_avg = train_df.groupby('연')['ECLO'].mean()\n",
    "# x = np.array(yearly_eclo_avg.index)\n",
    "# y = yearly_eclo_avg.values\n",
    "# lr = LinearRegression()\n",
    "# lr.fit(x.reshape(-1,1),y.reshape(-1,1))\n",
    "# pred = lr.predict(np.array([2022]).reshape(-1,1))\n",
    "# yearly_eclo_avg[2022] = pred.reshape(1)[0]\n",
    "\n",
    "# train_df['연'] =  train_df['연'].map(yearly_eclo_avg)\n",
    "# test_df['연'] =  test_df['연'].map(yearly_eclo_avg)"
   ]
  },
  {
   "cell_type": "code",
   "execution_count": null,
   "id": "d8cb9435",
   "metadata": {},
   "outputs": [],
   "source": []
  },
  {
   "cell_type": "code",
   "execution_count": 10,
   "id": "ec61143f",
   "metadata": {
    "ExecuteTime": {
     "end_time": "2023-12-08T09:44:13.177752Z",
     "start_time": "2023-12-08T09:44:13.109221Z"
    }
   },
   "outputs": [
    {
     "data": {
      "text/html": [
       "<div>\n",
       "<style scoped>\n",
       "    .dataframe tbody tr th:only-of-type {\n",
       "        vertical-align: middle;\n",
       "    }\n",
       "\n",
       "    .dataframe tbody tr th {\n",
       "        vertical-align: top;\n",
       "    }\n",
       "\n",
       "    .dataframe thead th {\n",
       "        text-align: right;\n",
       "    }\n",
       "</style>\n",
       "<table border=\"1\" class=\"dataframe\">\n",
       "  <thead>\n",
       "    <tr style=\"text-align: right;\">\n",
       "      <th></th>\n",
       "      <th>ID</th>\n",
       "      <th>사고일시</th>\n",
       "      <th>요일</th>\n",
       "      <th>기상상태</th>\n",
       "      <th>시군구</th>\n",
       "      <th>도로형태</th>\n",
       "      <th>노면상태</th>\n",
       "      <th>사고유형</th>\n",
       "      <th>사고유형 - 세부분류</th>\n",
       "      <th>법규위반</th>\n",
       "      <th>가해운전자 차종</th>\n",
       "      <th>가해운전자 성별</th>\n",
       "      <th>가해운전자 연령</th>\n",
       "      <th>가해운전자 상해정도</th>\n",
       "      <th>피해운전자 차종</th>\n",
       "      <th>피해운전자 성별</th>\n",
       "      <th>피해운전자 연령</th>\n",
       "      <th>피해운전자 상해정도</th>\n",
       "      <th>사망자수</th>\n",
       "      <th>중상자수</th>\n",
       "      <th>경상자수</th>\n",
       "      <th>부상자수</th>\n",
       "      <th>ECLO</th>\n",
       "      <th>연</th>\n",
       "      <th>월</th>\n",
       "      <th>일</th>\n",
       "      <th>시간</th>\n",
       "      <th>도시</th>\n",
       "      <th>구</th>\n",
       "      <th>동</th>\n",
       "      <th>cos_hour</th>\n",
       "      <th>cos_month</th>\n",
       "      <th>holiday</th>\n",
       "      <th>보안등개수</th>\n",
       "      <th>급지구분_1</th>\n",
       "      <th>급지구분_2</th>\n",
       "      <th>급지구분_3</th>\n",
       "      <th>제한속도</th>\n",
       "      <th>횡단보도개수</th>\n",
       "      <th>어린이보호구역개수</th>\n",
       "      <th>사고발생횟수</th>\n",
       "    </tr>\n",
       "  </thead>\n",
       "  <tbody>\n",
       "    <tr>\n",
       "      <th>0</th>\n",
       "      <td>ACCIDENT_00000</td>\n",
       "      <td>2019-01-01</td>\n",
       "      <td>화요일</td>\n",
       "      <td>맑음</td>\n",
       "      <td>대구광역시 중구 대신동</td>\n",
       "      <td>단일로 - 기타</td>\n",
       "      <td>건조</td>\n",
       "      <td>차대사람</td>\n",
       "      <td>길가장자리구역통행중</td>\n",
       "      <td>안전운전불이행</td>\n",
       "      <td>승용</td>\n",
       "      <td>여</td>\n",
       "      <td>51세</td>\n",
       "      <td>상해없음</td>\n",
       "      <td>보행자</td>\n",
       "      <td>여</td>\n",
       "      <td>70세</td>\n",
       "      <td>중상</td>\n",
       "      <td>0</td>\n",
       "      <td>1</td>\n",
       "      <td>0</td>\n",
       "      <td>0</td>\n",
       "      <td>5</td>\n",
       "      <td>2019</td>\n",
       "      <td>1</td>\n",
       "      <td>1</td>\n",
       "      <td>0</td>\n",
       "      <td>대구광역시</td>\n",
       "      <td>중구</td>\n",
       "      <td>대신동</td>\n",
       "      <td>2.0</td>\n",
       "      <td>3.465926</td>\n",
       "      <td>1</td>\n",
       "      <td>391.0</td>\n",
       "      <td>11.0</td>\n",
       "      <td>0.0</td>\n",
       "      <td>0.0</td>\n",
       "      <td>40.0</td>\n",
       "      <td>5929.0</td>\n",
       "      <td>2.0</td>\n",
       "      <td>131</td>\n",
       "    </tr>\n",
       "    <tr>\n",
       "      <th>1</th>\n",
       "      <td>ACCIDENT_00001</td>\n",
       "      <td>2019-01-01</td>\n",
       "      <td>화요일</td>\n",
       "      <td>흐림</td>\n",
       "      <td>대구광역시 달서구 감삼동</td>\n",
       "      <td>단일로 - 기타</td>\n",
       "      <td>건조</td>\n",
       "      <td>차대사람</td>\n",
       "      <td>보도통행중</td>\n",
       "      <td>기타</td>\n",
       "      <td>승용</td>\n",
       "      <td>남</td>\n",
       "      <td>39세</td>\n",
       "      <td>상해없음</td>\n",
       "      <td>보행자</td>\n",
       "      <td>남</td>\n",
       "      <td>61세</td>\n",
       "      <td>경상</td>\n",
       "      <td>0</td>\n",
       "      <td>0</td>\n",
       "      <td>1</td>\n",
       "      <td>0</td>\n",
       "      <td>3</td>\n",
       "      <td>2019</td>\n",
       "      <td>1</td>\n",
       "      <td>1</td>\n",
       "      <td>0</td>\n",
       "      <td>대구광역시</td>\n",
       "      <td>달서구</td>\n",
       "      <td>감삼동</td>\n",
       "      <td>2.0</td>\n",
       "      <td>3.465926</td>\n",
       "      <td>1</td>\n",
       "      <td>941.0</td>\n",
       "      <td>0.0</td>\n",
       "      <td>1.0</td>\n",
       "      <td>3.0</td>\n",
       "      <td>52.5</td>\n",
       "      <td>10000.0</td>\n",
       "      <td>NaN</td>\n",
       "      <td>678</td>\n",
       "    </tr>\n",
       "  </tbody>\n",
       "</table>\n",
       "</div>"
      ],
      "text/plain": [
       "               ID       사고일시   요일 기상상태            시군구      도로형태 노면상태  사고유형  \\\n",
       "0  ACCIDENT_00000 2019-01-01  화요일   맑음   대구광역시 중구 대신동  단일로 - 기타   건조  차대사람   \n",
       "1  ACCIDENT_00001 2019-01-01  화요일   흐림  대구광역시 달서구 감삼동  단일로 - 기타   건조  차대사람   \n",
       "\n",
       "  사고유형 - 세부분류     법규위반 가해운전자 차종 가해운전자 성별 가해운전자 연령 가해운전자 상해정도 피해운전자 차종  \\\n",
       "0  길가장자리구역통행중  안전운전불이행       승용        여      51세       상해없음      보행자   \n",
       "1       보도통행중       기타       승용        남      39세       상해없음      보행자   \n",
       "\n",
       "  피해운전자 성별 피해운전자 연령 피해운전자 상해정도  사망자수  중상자수  경상자수  부상자수  ECLO     연  월  일  시간  \\\n",
       "0        여      70세         중상     0     1     0     0     5  2019  1  1   0   \n",
       "1        남      61세         경상     0     0     1     0     3  2019  1  1   0   \n",
       "\n",
       "      도시    구    동  cos_hour  cos_month  holiday  보안등개수  급지구분_1  급지구분_2  \\\n",
       "0  대구광역시   중구  대신동       2.0   3.465926        1  391.0    11.0     0.0   \n",
       "1  대구광역시  달서구  감삼동       2.0   3.465926        1  941.0     0.0     1.0   \n",
       "\n",
       "   급지구분_3  제한속도   횡단보도개수  어린이보호구역개수  사고발생횟수  \n",
       "0     0.0  40.0   5929.0        2.0     131  \n",
       "1     3.0  52.5  10000.0        NaN     678  "
      ]
     },
     "metadata": {},
     "output_type": "display_data"
    },
    {
     "data": {
      "text/html": [
       "<div>\n",
       "<style scoped>\n",
       "    .dataframe tbody tr th:only-of-type {\n",
       "        vertical-align: middle;\n",
       "    }\n",
       "\n",
       "    .dataframe tbody tr th {\n",
       "        vertical-align: top;\n",
       "    }\n",
       "\n",
       "    .dataframe thead th {\n",
       "        text-align: right;\n",
       "    }\n",
       "</style>\n",
       "<table border=\"1\" class=\"dataframe\">\n",
       "  <thead>\n",
       "    <tr style=\"text-align: right;\">\n",
       "      <th></th>\n",
       "      <th>ID</th>\n",
       "      <th>사고일시</th>\n",
       "      <th>요일</th>\n",
       "      <th>기상상태</th>\n",
       "      <th>시군구</th>\n",
       "      <th>도로형태</th>\n",
       "      <th>노면상태</th>\n",
       "      <th>사고유형</th>\n",
       "      <th>연</th>\n",
       "      <th>월</th>\n",
       "      <th>일</th>\n",
       "      <th>시간</th>\n",
       "      <th>도시</th>\n",
       "      <th>구</th>\n",
       "      <th>동</th>\n",
       "      <th>cos_hour</th>\n",
       "      <th>cos_month</th>\n",
       "      <th>holiday</th>\n",
       "      <th>보안등개수</th>\n",
       "      <th>급지구분_1</th>\n",
       "      <th>급지구분_2</th>\n",
       "      <th>급지구분_3</th>\n",
       "      <th>제한속도</th>\n",
       "      <th>횡단보도개수</th>\n",
       "      <th>어린이보호구역개수</th>\n",
       "      <th>사고발생횟수</th>\n",
       "    </tr>\n",
       "  </thead>\n",
       "  <tbody>\n",
       "    <tr>\n",
       "      <th>0</th>\n",
       "      <td>ACCIDENT_39609</td>\n",
       "      <td>2022-01-01 01:00:00</td>\n",
       "      <td>토요일</td>\n",
       "      <td>맑음</td>\n",
       "      <td>대구광역시 수성구 상동</td>\n",
       "      <td>교차로 - 교차로안</td>\n",
       "      <td>건조</td>\n",
       "      <td>차대사람</td>\n",
       "      <td>2022</td>\n",
       "      <td>1</td>\n",
       "      <td>1</td>\n",
       "      <td>1</td>\n",
       "      <td>대구광역시</td>\n",
       "      <td>수성구</td>\n",
       "      <td>상동</td>\n",
       "      <td>3.831951</td>\n",
       "      <td>3.465926</td>\n",
       "      <td>1</td>\n",
       "      <td>700.0</td>\n",
       "      <td>NaN</td>\n",
       "      <td>NaN</td>\n",
       "      <td>NaN</td>\n",
       "      <td>52.500000</td>\n",
       "      <td>9025.0</td>\n",
       "      <td>5.0</td>\n",
       "      <td>338</td>\n",
       "    </tr>\n",
       "    <tr>\n",
       "      <th>1</th>\n",
       "      <td>ACCIDENT_39610</td>\n",
       "      <td>2022-01-01 01:00:00</td>\n",
       "      <td>토요일</td>\n",
       "      <td>맑음</td>\n",
       "      <td>대구광역시 수성구 지산동</td>\n",
       "      <td>단일로 - 기타</td>\n",
       "      <td>건조</td>\n",
       "      <td>차대사람</td>\n",
       "      <td>2022</td>\n",
       "      <td>1</td>\n",
       "      <td>1</td>\n",
       "      <td>1</td>\n",
       "      <td>대구광역시</td>\n",
       "      <td>수성구</td>\n",
       "      <td>지산동</td>\n",
       "      <td>3.831951</td>\n",
       "      <td>3.465926</td>\n",
       "      <td>1</td>\n",
       "      <td>NaN</td>\n",
       "      <td>0.0</td>\n",
       "      <td>0.0</td>\n",
       "      <td>2.0</td>\n",
       "      <td>47.142857</td>\n",
       "      <td>52441.0</td>\n",
       "      <td>10.0</td>\n",
       "      <td>492</td>\n",
       "    </tr>\n",
       "  </tbody>\n",
       "</table>\n",
       "</div>"
      ],
      "text/plain": [
       "               ID                사고일시   요일 기상상태            시군구        도로형태  \\\n",
       "0  ACCIDENT_39609 2022-01-01 01:00:00  토요일   맑음   대구광역시 수성구 상동  교차로 - 교차로안   \n",
       "1  ACCIDENT_39610 2022-01-01 01:00:00  토요일   맑음  대구광역시 수성구 지산동    단일로 - 기타   \n",
       "\n",
       "  노면상태  사고유형     연  월  일  시간     도시    구    동  cos_hour  cos_month  holiday  \\\n",
       "0   건조  차대사람  2022  1  1   1  대구광역시  수성구   상동  3.831951   3.465926        1   \n",
       "1   건조  차대사람  2022  1  1   1  대구광역시  수성구  지산동  3.831951   3.465926        1   \n",
       "\n",
       "   보안등개수  급지구분_1  급지구분_2  급지구분_3       제한속도   횡단보도개수  어린이보호구역개수  사고발생횟수  \n",
       "0  700.0     NaN     NaN     NaN  52.500000   9025.0        5.0     338  \n",
       "1    NaN     0.0     0.0     2.0  47.142857  52441.0       10.0     492  "
      ]
     },
     "metadata": {},
     "output_type": "display_data"
    }
   ],
   "source": [
    "# 점검\n",
    "display(train_df.head(2))\n",
    "display(test_df.head(2))"
   ]
  },
  {
   "cell_type": "code",
   "execution_count": null,
   "id": "5f36b2a3",
   "metadata": {
    "ExecuteTime": {
     "start_time": "2023-12-07T05:14:13.489Z"
    }
   },
   "outputs": [],
   "source": []
  },
  {
   "cell_type": "code",
   "execution_count": 11,
   "id": "595eac16",
   "metadata": {
    "ExecuteTime": {
     "end_time": "2023-12-08T09:44:13.205766Z",
     "start_time": "2023-12-08T09:44:13.181770Z"
    }
   },
   "outputs": [],
   "source": [
    "# 불필요 컬럼 제거\n",
    "drop_columns = ['ID','도시','시간','시군구','사고일시','사고유형 - 세부분류','법규위반','가해운전자 차종','가해운전자 성별','가해운전자 연령',\n",
    "       '가해운전자 상해정도','사망자수','중상자수','피해운전자 차종','피해운전자 성별',\n",
    "      '피해운전자 연령','피해운전자 상해정도','경상자수','부상자수',\n",
    "       '월'\n",
    "]\n",
    "train_df.drop(columns = drop_columns,inplace=True)\n",
    "test_df.drop(columns=['ID','도시','시간','사고일시','시군구','월'\n",
    "                     \n",
    "                     \n",
    "                     \n",
    "                     ],inplace=True)"
   ]
  },
  {
   "cell_type": "markdown",
   "id": "f17dfb75",
   "metadata": {},
   "source": [
    "### 이상치 처리 및 결측값 처리"
   ]
  },
  {
   "cell_type": "code",
   "execution_count": 12,
   "id": "b84a482a",
   "metadata": {
    "ExecuteTime": {
     "end_time": "2023-12-08T09:44:13.237773Z",
     "start_time": "2023-12-08T09:44:13.205766Z"
    }
   },
   "outputs": [
    {
     "data": {
      "text/plain": [
       "어린이보호구역개수    18426\n",
       "보안등개수        13813\n",
       "급지구분_3        6543\n",
       "급지구분_2        6543\n",
       "급지구분_1        6543\n",
       "제한속도          2442\n",
       "횡단보도개수          62\n",
       "요일               0\n",
       "cos_month        0\n",
       "holiday          0\n",
       "cos_hour         0\n",
       "dtype: int64"
      ]
     },
     "execution_count": 12,
     "metadata": {},
     "output_type": "execute_result"
    }
   ],
   "source": [
    "# 결측값 확인 \n",
    "train_df.isnull().sum().sort_values(ascending=False)[:11]"
   ]
  },
  {
   "cell_type": "code",
   "execution_count": 13,
   "id": "6f8231ef",
   "metadata": {
    "ExecuteTime": {
     "end_time": "2023-12-08T09:44:13.269792Z",
     "start_time": "2023-12-08T09:44:13.237773Z"
    }
   },
   "outputs": [
    {
     "data": {
      "text/plain": [
       "어린이보호구역개수    4961\n",
       "보안등개수        4029\n",
       "급지구분_3       1928\n",
       "급지구분_2       1928\n",
       "급지구분_1       1928\n",
       "제한속도          729\n",
       "횡단보도개수         21\n",
       "요일              0\n",
       "기상상태            0\n",
       "holiday         0\n",
       "cos_month       0\n",
       "dtype: int64"
      ]
     },
     "execution_count": 13,
     "metadata": {},
     "output_type": "execute_result"
    }
   ],
   "source": [
    "test_df.isnull().sum().sort_values(ascending=False)[:11]"
   ]
  },
  {
   "cell_type": "code",
   "execution_count": 14,
   "id": "e3847645",
   "metadata": {
    "ExecuteTime": {
     "end_time": "2023-12-08T09:44:13.285837Z",
     "start_time": "2023-12-08T09:44:13.273793Z"
    }
   },
   "outputs": [],
   "source": [
    "# # 일단 interpolate\n",
    "# for df in [train_df,test_df]:\n",
    "#     df['어린이보호구역개수'] = df['어린이보호구역개수'].interpolate()\n",
    "#     df['급지구분_1'] = df['급지구분_1'].interpolate()\n",
    "#     df['급지구분_2'] = df['급지구분_2'].interpolate()\n",
    "#     df['급지구분_3'] = df['급지구분_3'].interpolate()\n",
    "#     df['제한속도'] = df['제한속도'].interpolate()\n",
    "#     df['횡단보도개수'] = df['횡단보도개수'].interpolate()\n",
    "    \n",
    "# # 급지구분 interpolate하면 안 채워지는 게 1개 있어서 0으로 대체\n",
    "# test_df['급지구분_1'] = test_df['급지구분_1'].fillna(0)\n",
    "# test_df['급지구분_2'] = test_df['급지구분_2'].fillna(0)\n",
    "# test_df['급지구분_3'] = test_df['급지구분_3'].fillna(0)"
   ]
  },
  {
   "cell_type": "code",
   "execution_count": 15,
   "id": "6da84f98",
   "metadata": {
    "ExecuteTime": {
     "end_time": "2023-12-08T09:44:40.063016Z",
     "start_time": "2023-12-08T09:44:13.285837Z"
    }
   },
   "outputs": [],
   "source": [
    "# 결측값을 '구' 별 평균으로 처리\n",
    "na_columns = ['어린이보호구역개수','급지구분_1','급지구분_1','급지구분_1'\n",
    "             ,'제한속도','횡단보도개수','보안등개수']\n",
    "\n",
    "\n",
    "### 어린이보호구역개수 결측값 처리\n",
    "child_area_mean = train_df.groupby('구')['어린이보호구역개수'].mean()\n",
    "# 달서구와 동구가 아예 어린이보호구역개수가 nan임.\n",
    "child_mean_sum = child_area_mean.sum()/len(child_area_mean)\n",
    "# 전체평균으로 대체 # 동구와 달성군 모두 면적이 넓음\n",
    "child_area_mean['달서구'] = child_mean_sum\n",
    "child_area_mean['동구'] = child_mean_sum\n",
    "def fillna_with_mean_child(row):\n",
    "    if np.isnan(row['어린이보호구역개수']):\n",
    "        row['어린이보호구역개수'] = child_area_mean[row['구']]\n",
    "    return row\n",
    "train_df = train_df.apply(fillna_with_mean_child,axis=1)\n",
    "test_df = test_df.apply(fillna_with_mean_child,axis=1)\n",
    "\n",
    "\n",
    "### 급지구분 결측값 처리\n",
    "parking_mean = train_df.groupby('구')[['급지구분_1','급지구분_2',\n",
    "                          '급지구분_3']].mean()\n",
    "cols = ['급지구분_1','급지구분_2','급지구분_3']\n",
    "for col in cols:\n",
    "    def fillna_with_mean_parking(row):\n",
    "        if np.isnan(row[col]):\n",
    "            row[col] = parking_mean.loc[row['구'],col]\n",
    "        return row\n",
    "    train_df = train_df.apply(fillna_with_mean_parking,axis=1)\n",
    "    test_df = test_df.apply(fillna_with_mean_parking,axis=1)\n",
    "### 급지구분_1,2,3 컬럼을 주차장지수로 변경 >> 1급지*4 + 2급지*2 + 3급지\n",
    "train_df['주차장지수'] = train_df['급지구분_1']*4+train_df['급지구분_2']*2+train_df['급지구분_3']\n",
    "test_df['주차장지수'] = test_df['급지구분_1']*4+test_df['급지구분_2']*2+test_df['급지구분_3']    \n",
    "train_df.drop(columns=['급지구분_1','급지구분_2','급지구분_3'],inplace=True)\n",
    "test_df.drop(columns=['급지구분_1','급지구분_2','급지구분_3'],inplace=True)\n",
    "    \n",
    "\n",
    "### 보안등개수 결측값 처리\n",
    "light_mean = train_df.groupby('구')['보안등개수'].mean()\n",
    "# 달성군과 서구가 NaN >> 달성군은 면적이 크므로 전체평균값을 활용, \n",
    "# 서구는 작으므로 Q1 사용\n",
    "light_total_mean = light_mean.sum()/len(light_mean)\n",
    "light_mean['달성군'] = light_total_mean\n",
    "light_mean['서구'] = light_total_mean * 0.25\n",
    "def fillna_with_mean_light(row):\n",
    "    if np.isnan(row['보안등개수']):\n",
    "        row['보안등개수'] = light_mean[row['구']]\n",
    "    return row\n",
    "train_df = train_df.apply(fillna_with_mean_light,axis=1)\n",
    "test_df = test_df.apply(fillna_with_mean_light,axis=1)\n",
    "\n",
    " \n",
    "### 제한속도 결측값 처리\n",
    "speed_mean = train_df.groupby('구')['제한속도'].mean()\n",
    "def fillna_with_mean_speed(row):\n",
    "    if np.isnan(row['제한속도']):\n",
    "        row['제한속도'] = speed_mean[row['구']]\n",
    "    return row\n",
    "train_df = train_df.apply(fillna_with_mean_speed,axis=1)\n",
    "test_df = test_df.apply(fillna_with_mean_speed,axis=1)\n",
    "\n",
    "\n",
    "### 횡단보도개수 결측값 처리\n",
    "# cross_mean = train_df.groupby('구')['횡단보도개수'].mean()\n",
    "# def fillna_with_mean_cross(row):\n",
    "#     if np.isnan(row['횡단보도개수']):\n",
    "#         row['횡단보도개수'] = cross_mean[row['구']]\n",
    "#     return row\n",
    "# train_df = train_df.apply(fillna_with_mean_cross,axis=1)\n",
    "# test_df = test_df.apply(fillna_with_mean_cross,axis=1)\n",
    "bookgu_cross = train_df[train_df['구']=='북구']['횡단보도개수'].mean()\n",
    "donggu_cross = train_df[train_df['구']=='동구']['횡단보도개수'].mean()\n",
    "junggu_cross = train_df[train_df['구']=='중구']['횡단보도개수'].mean()\n",
    "\n",
    "cross_dict = {'중구': junggu_cross, '동구': donggu_cross, '북구': bookgu_cross}\n",
    "\n",
    "for i in ['중구', '동구', '북구']:\n",
    "    train_df.loc[(train_df['구']==i) & (train_df['횡단보도개수'].isnull()), '횡단보도개수'] = cross_dict[i]\n",
    "    test_df.loc[(test_df['구']==i) & (test_df['횡단보도개수'].isnull()), '횡단보도개수'] = cross_dict[i]\n"
   ]
  },
  {
   "cell_type": "code",
   "execution_count": 16,
   "id": "27afe7f2",
   "metadata": {
    "ExecuteTime": {
     "end_time": "2023-12-08T09:44:40.079022Z",
     "start_time": "2023-12-08T09:44:40.067017Z"
    }
   },
   "outputs": [],
   "source": [
    "# 연습용 코드\n",
    "\n",
    "# ### 제한속도 결측값 처리\n",
    "# cross_mean = train_df.groupby('구')['횡단보도개수'].mean()\n",
    "# def fillna_with_mean_speed(row):\n",
    "#     if np.isnan(row['횡단보도개수']):\n",
    "#         row['횡단보도개수'] = light_mean[row['구']]\n",
    "#     return row\n",
    "# train_df = train_df.apply(fillna_with_mean_speed,axis=1)\n",
    "# test_df = test_df.apply(fillna_with_mean_speed,axis=1)\n",
    "\n"
   ]
  },
  {
   "cell_type": "code",
   "execution_count": 17,
   "id": "791fcb93",
   "metadata": {
    "ExecuteTime": {
     "end_time": "2023-12-08T09:44:40.127069Z",
     "start_time": "2023-12-08T09:44:40.079022Z"
    }
   },
   "outputs": [
    {
     "data": {
      "text/plain": [
       "(요일           0\n",
       " cos_hour     0\n",
       " 사고발생횟수       0\n",
       " 어린이보호구역개수    0\n",
       " 횡단보도개수       0\n",
       " dtype: int64,\n",
       " ' ---- ',\n",
       " 요일           0\n",
       " 기상상태         0\n",
       " 사고발생횟수       0\n",
       " 어린이보호구역개수    0\n",
       " 횡단보도개수       0\n",
       " dtype: int64)"
      ]
     },
     "execution_count": 17,
     "metadata": {},
     "output_type": "execute_result"
    }
   ],
   "source": [
    "# 결측값 확인 \n",
    "train_df.isnull().sum().sort_values(ascending=False)[:5],\" ---- \" , test_df.isnull().sum().sort_values(ascending=False)[:5]"
   ]
  },
  {
   "cell_type": "code",
   "execution_count": 18,
   "id": "6a90c0a8",
   "metadata": {
    "ExecuteTime": {
     "end_time": "2023-12-08T09:44:41.655017Z",
     "start_time": "2023-12-08T09:44:40.127069Z"
    }
   },
   "outputs": [
    {
     "data": {
      "image/png": "[encoded data removed]",
      "text/plain": [
       "<Figure size 1000x1200 with 5 Axes>"
      ]
     },
     "metadata": {},
     "output_type": "display_data"
    }
   ],
   "source": [
    "### 이상치 처리 시각화 코드 무지성 boxplot\n",
    "i = 0 \n",
    "outlier_columns = ['보안등개수','횡단보도개수','어린이보호구역개수',\n",
    "           '사고발생횟수','주차장지수'] # 확인하고픈 수치형 컬럼 넣기\n",
    "sub_cols = 2\n",
    "sub_rows = (len(outlier_columns)+1) // 2\n",
    "width = len(outlier_columns) * 2 ### width, height 곱하는 숫자 조정해서 플롯 사이즈 조정\n",
    "height = sub_rows * 4\n",
    "\n",
    "plt.figure(figsize=(width, height)) # figure의 width height는 맘대로\n",
    "for col in outlier_columns:\n",
    "    i += 1\n",
    "    plt.subplot(sub_rows,sub_cols,i)\n",
    "    sns.boxplot(data=train_df,x=col,gap=.1)\n",
    "#     plt.xticks(rotation=45)\n",
    "plt.tight_layout()"
   ]
  },
  {
   "cell_type": "code",
   "execution_count": 19,
   "id": "09ab1a54",
   "metadata": {
    "ExecuteTime": {
     "end_time": "2023-12-08T09:44:41.670458Z",
     "start_time": "2023-12-08T09:44:41.659021Z"
    }
   },
   "outputs": [],
   "source": [
    "### 이상치 처리 함수 정의\n",
    "import numpy as np\n",
    "def tukey_fences(data): # data는 1차원 배열\n",
    "    q1,q3 = np.percentile(data,[25,75])\n",
    "    iqr = q3-q1\n",
    "    lf = q1 - (iqr*1.5)\n",
    "    uf = q3 + (iqr*1.5)\n",
    "    idxs = np.where((data>uf) | (data<lf))[0] # condition이 True일 때, data의 인덱스를 반환\n",
    "    return idxs, lf, uf\n",
    "\n",
    "def outlier_to_lf_uf(data, outlier_function=tukey_fences): # data는 Series객체\n",
    "    idxs, lf, uf = outlier_function(data)\n",
    "    for i in idxs:\n",
    "        if data.iloc[i] <= lf:\n",
    "            data.iloc[i] = lf\n",
    "        elif data.iloc[i] >= uf:\n",
    "            data.iloc[i] = uf\n",
    "            \n",
    "    return data"
   ]
  },
  {
   "cell_type": "code",
   "execution_count": 20,
   "id": "ca1293df",
   "metadata": {
    "ExecuteTime": {
     "end_time": "2023-12-08T09:44:41.699532Z",
     "start_time": "2023-12-08T09:44:41.673964Z"
    }
   },
   "outputs": [
    {
     "data": {
      "text/plain": [
       "Index(['요일', '기상상태', '도로형태', '노면상태', '사고유형', 'ECLO', '연', '일', '구', '동',\n",
       "       'cos_hour', 'cos_month', 'holiday', '보안등개수', '제한속도', '횡단보도개수',\n",
       "       '어린이보호구역개수', '사고발생횟수', '주차장지수'],\n",
       "      dtype='object')"
      ]
     },
     "execution_count": 20,
     "metadata": {},
     "output_type": "execute_result"
    }
   ],
   "source": [
    "train_df.columns"
   ]
  },
  {
   "cell_type": "code",
   "execution_count": 21,
   "id": "356feb59",
   "metadata": {
    "ExecuteTime": {
     "end_time": "2023-12-08T09:44:59.816278Z",
     "start_time": "2023-12-08T09:44:41.699532Z"
    }
   },
   "outputs": [],
   "source": [
    "### 이상치 처리 수행\n",
    "for col in outlier_columns:\n",
    "    train_df[col] = outlier_to_lf_uf(train_df[col], tukey_fences)\n",
    "    test_df[col] = outlier_to_lf_uf(test_df[col], tukey_fences)"
   ]
  },
  {
   "cell_type": "code",
   "execution_count": 22,
   "id": "4215a933",
   "metadata": {
    "ExecuteTime": {
     "end_time": "2023-12-08T09:45:01.586239Z",
     "start_time": "2023-12-08T09:44:59.816278Z"
    }
   },
   "outputs": [
    {
     "data": {
      "image/png": "[encoded data removed]",
      "text/plain": [
       "<Figure size 1000x1200 with 5 Axes>"
      ]
     },
     "metadata": {},
     "output_type": "display_data"
    }
   ],
   "source": [
    "### 이상치 처리가 완료된 데이터 시각화\n",
    "i = 0 \n",
    "outlier_columns = ['보안등개수','횡단보도개수','어린이보호구역개수',\n",
    "           '사고발생횟수','주차장지수'] # 확인하고픈 수치형 컬럼 넣기\n",
    "sub_cols = 2\n",
    "sub_rows = (len(outlier_columns)+1) // 2\n",
    "width = len(outlier_columns) * 2 ### width, height 곱하는 숫자 조정해서 플롯 사이즈 조정\n",
    "height = sub_rows * 4\n",
    "\n",
    "plt.figure(figsize=(width, height)) # figure의 width height는 맘대로\n",
    "for col in outlier_columns:\n",
    "    i += 1\n",
    "    plt.subplot(sub_rows,sub_cols,i)\n",
    "    sns.boxplot(data=train_df,x=col,gap=.1)\n",
    "#     plt.xticks(rotation=45)\n",
    "plt.tight_layout()"
   ]
  },
  {
   "cell_type": "code",
   "execution_count": null,
   "id": "e539688d",
   "metadata": {},
   "outputs": [],
   "source": []
  },
  {
   "cell_type": "markdown",
   "id": "a788fe8c",
   "metadata": {},
   "source": [
    "### 인코딩 및 스케일링"
   ]
  },
  {
   "cell_type": "code",
   "execution_count": 23,
   "id": "d3a8faf5",
   "metadata": {
    "ExecuteTime": {
     "end_time": "2023-12-08T09:45:01.711259Z",
     "start_time": "2023-12-08T09:45:01.590243Z"
    }
   },
   "outputs": [],
   "source": [
    "# 원핫 : 구\n",
    "\n",
    "# train_df와 test_df의 기상상태 및 노면상태 열 선택\n",
    "train_categorical_data = train_df[['구']]\n",
    "test_categorical_data = test_df[['구']]\n",
    "\n",
    "# OneHotEncoder 인스턴스 생성 및 fit_transform 수행\n",
    "encoder = OneHotEncoder()\n",
    "train_encoded = encoder.fit_transform(train_categorical_data)\n",
    "test_encoded = encoder.transform(test_categorical_data)\n",
    "\n",
    "# OneHotEncoder가 사용한 카테고리 목록을 가져와서 카테고리 이름을 열 이름으로 변환\n",
    "feature_names = encoder.get_feature_names_out(['구'])\n",
    "\n",
    "# 밀집 행렬로 변환 (선택 사항)\n",
    "train_encoded_dense = train_encoded.toarray()\n",
    "test_encoded_dense = test_encoded.toarray()\n",
    "\n",
    "# 데이터프레임으로 변환 (선택 사항)\n",
    "import pandas as pd\n",
    "\n",
    "train_encoded_df = pd.DataFrame(train_encoded_dense, columns=feature_names, index=train_df.index)\n",
    "test_encoded_df = pd.DataFrame(test_encoded_dense, columns=feature_names, index=test_df.index)\n",
    "\n",
    "# 기존 열 제거\n",
    "train_df = train_df.drop(['구'], axis=1)\n",
    "test_df = test_df.drop(['구'], axis=1)\n",
    "\n",
    "# 인코딩된 열 추가\n",
    "train_df = pd.concat([train_df, train_encoded_df], axis=1)\n",
    "test_df = pd.concat([test_df, test_encoded_df], axis=1)\n"
   ]
  },
  {
   "cell_type": "code",
   "execution_count": null,
   "id": "927fe428",
   "metadata": {
    "ExecuteTime": {
     "end_time": "2023-12-08T07:07:55.203622Z",
     "start_time": "2023-12-08T07:07:54.700993Z"
    }
   },
   "outputs": [],
   "source": []
  },
  {
   "cell_type": "code",
   "execution_count": 24,
   "id": "c11a65c8",
   "metadata": {
    "ExecuteTime": {
     "end_time": "2023-12-08T09:45:02.549933Z",
     "start_time": "2023-12-08T09:45:01.715261Z"
    }
   },
   "outputs": [],
   "source": [
    "# 타겟 인코딩 : 나머지\n",
    "# Target encoding\n",
    "from category_encoders.target_encoder import TargetEncoder\n",
    "\n",
    "### ✔️ 타겟 인코딩하기 전에 eclo 로그 변환해주기\n",
    "train_df['ECLO'] = np.log1p(train_df['ECLO'])\n",
    "\n",
    "categorical_features = ['연','요일','도로형태','사고유형','동','기상상태', '노면상태']\n",
    "\n",
    "for i in categorical_features:\n",
    "    tr_encoder = TargetEncoder(cols=[i])\n",
    "    train_df[i] = tr_encoder.fit_transform(train_df[i], train_df['ECLO'])\n",
    "    test_df[i] = tr_encoder.transform(test_df[i])"
   ]
  },
  {
   "cell_type": "code",
   "execution_count": 25,
   "id": "a074bba4",
   "metadata": {
    "ExecuteTime": {
     "end_time": "2023-12-08T09:45:02.614196Z",
     "start_time": "2023-12-08T09:45:02.553949Z"
    }
   },
   "outputs": [
    {
     "data": {
      "text/html": [
       "<div>\n",
       "<style scoped>\n",
       "    .dataframe tbody tr th:only-of-type {\n",
       "        vertical-align: middle;\n",
       "    }\n",
       "\n",
       "    .dataframe tbody tr th {\n",
       "        vertical-align: top;\n",
       "    }\n",
       "\n",
       "    .dataframe thead th {\n",
       "        text-align: right;\n",
       "    }\n",
       "</style>\n",
       "<table border=\"1\" class=\"dataframe\">\n",
       "  <thead>\n",
       "    <tr style=\"text-align: right;\">\n",
       "      <th></th>\n",
       "      <th>요일</th>\n",
       "      <th>기상상태</th>\n",
       "      <th>도로형태</th>\n",
       "      <th>노면상태</th>\n",
       "      <th>사고유형</th>\n",
       "      <th>ECLO</th>\n",
       "      <th>연</th>\n",
       "      <th>일</th>\n",
       "      <th>동</th>\n",
       "      <th>cos_hour</th>\n",
       "      <th>cos_month</th>\n",
       "      <th>holiday</th>\n",
       "      <th>보안등개수</th>\n",
       "      <th>제한속도</th>\n",
       "      <th>횡단보도개수</th>\n",
       "      <th>어린이보호구역개수</th>\n",
       "      <th>사고발생횟수</th>\n",
       "      <th>주차장지수</th>\n",
       "      <th>구_남구</th>\n",
       "      <th>구_달서구</th>\n",
       "      <th>구_달성군</th>\n",
       "      <th>구_동구</th>\n",
       "      <th>구_북구</th>\n",
       "      <th>구_서구</th>\n",
       "      <th>구_수성구</th>\n",
       "      <th>구_중구</th>\n",
       "    </tr>\n",
       "  </thead>\n",
       "  <tbody>\n",
       "    <tr>\n",
       "      <th>0</th>\n",
       "      <td>1.620570</td>\n",
       "      <td>1.632169</td>\n",
       "      <td>1.618762</td>\n",
       "      <td>1.6324</td>\n",
       "      <td>1.510543</td>\n",
       "      <td>1.791759</td>\n",
       "      <td>1.647741</td>\n",
       "      <td>1</td>\n",
       "      <td>1.570475</td>\n",
       "      <td>2.000000</td>\n",
       "      <td>3.465926</td>\n",
       "      <td>1</td>\n",
       "      <td>391.000000</td>\n",
       "      <td>40.000000</td>\n",
       "      <td>5929.0</td>\n",
       "      <td>4.606549</td>\n",
       "      <td>131</td>\n",
       "      <td>44.000000</td>\n",
       "      <td>0.0</td>\n",
       "      <td>0.0</td>\n",
       "      <td>0.0</td>\n",
       "      <td>0.0</td>\n",
       "      <td>0.0</td>\n",
       "      <td>0.0</td>\n",
       "      <td>0.0</td>\n",
       "      <td>1.0</td>\n",
       "    </tr>\n",
       "    <tr>\n",
       "      <th>1</th>\n",
       "      <td>1.620570</td>\n",
       "      <td>1.644549</td>\n",
       "      <td>1.618762</td>\n",
       "      <td>1.6324</td>\n",
       "      <td>1.510543</td>\n",
       "      <td>1.386294</td>\n",
       "      <td>1.647741</td>\n",
       "      <td>1</td>\n",
       "      <td>1.649966</td>\n",
       "      <td>2.000000</td>\n",
       "      <td>3.465926</td>\n",
       "      <td>1</td>\n",
       "      <td>941.000000</td>\n",
       "      <td>52.500000</td>\n",
       "      <td>10000.0</td>\n",
       "      <td>9.162847</td>\n",
       "      <td>678</td>\n",
       "      <td>5.000000</td>\n",
       "      <td>0.0</td>\n",
       "      <td>1.0</td>\n",
       "      <td>0.0</td>\n",
       "      <td>0.0</td>\n",
       "      <td>0.0</td>\n",
       "      <td>0.0</td>\n",
       "      <td>0.0</td>\n",
       "      <td>0.0</td>\n",
       "    </tr>\n",
       "    <tr>\n",
       "      <th>2</th>\n",
       "      <td>1.620570</td>\n",
       "      <td>1.632169</td>\n",
       "      <td>1.618762</td>\n",
       "      <td>1.6324</td>\n",
       "      <td>1.510543</td>\n",
       "      <td>1.386294</td>\n",
       "      <td>1.647741</td>\n",
       "      <td>1</td>\n",
       "      <td>1.650353</td>\n",
       "      <td>3.831951</td>\n",
       "      <td>3.465926</td>\n",
       "      <td>1</td>\n",
       "      <td>473.000000</td>\n",
       "      <td>55.000000</td>\n",
       "      <td>14641.0</td>\n",
       "      <td>5.000000</td>\n",
       "      <td>604</td>\n",
       "      <td>5.088215</td>\n",
       "      <td>0.0</td>\n",
       "      <td>0.0</td>\n",
       "      <td>0.0</td>\n",
       "      <td>0.0</td>\n",
       "      <td>0.0</td>\n",
       "      <td>0.0</td>\n",
       "      <td>1.0</td>\n",
       "      <td>0.0</td>\n",
       "    </tr>\n",
       "    <tr>\n",
       "      <th>3</th>\n",
       "      <td>1.620570</td>\n",
       "      <td>1.632169</td>\n",
       "      <td>1.618762</td>\n",
       "      <td>1.6324</td>\n",
       "      <td>1.665521</td>\n",
       "      <td>1.791759</td>\n",
       "      <td>1.647741</td>\n",
       "      <td>1</td>\n",
       "      <td>1.543196</td>\n",
       "      <td>3.366025</td>\n",
       "      <td>3.465926</td>\n",
       "      <td>1</td>\n",
       "      <td>534.000000</td>\n",
       "      <td>38.000000</td>\n",
       "      <td>29929.0</td>\n",
       "      <td>11.000000</td>\n",
       "      <td>426</td>\n",
       "      <td>23.000000</td>\n",
       "      <td>0.0</td>\n",
       "      <td>0.0</td>\n",
       "      <td>0.0</td>\n",
       "      <td>0.0</td>\n",
       "      <td>1.0</td>\n",
       "      <td>0.0</td>\n",
       "      <td>0.0</td>\n",
       "      <td>0.0</td>\n",
       "    </tr>\n",
       "    <tr>\n",
       "      <th>4</th>\n",
       "      <td>1.620570</td>\n",
       "      <td>1.632169</td>\n",
       "      <td>1.618762</td>\n",
       "      <td>1.6324</td>\n",
       "      <td>1.665521</td>\n",
       "      <td>1.386294</td>\n",
       "      <td>1.647741</td>\n",
       "      <td>1</td>\n",
       "      <td>1.611041</td>\n",
       "      <td>2.000000</td>\n",
       "      <td>3.465926</td>\n",
       "      <td>1</td>\n",
       "      <td>1810.217749</td>\n",
       "      <td>40.000000</td>\n",
       "      <td>58564.0</td>\n",
       "      <td>9.162847</td>\n",
       "      <td>825</td>\n",
       "      <td>2.000000</td>\n",
       "      <td>0.0</td>\n",
       "      <td>0.0</td>\n",
       "      <td>0.0</td>\n",
       "      <td>1.0</td>\n",
       "      <td>0.0</td>\n",
       "      <td>0.0</td>\n",
       "      <td>0.0</td>\n",
       "      <td>0.0</td>\n",
       "    </tr>\n",
       "    <tr>\n",
       "      <th>...</th>\n",
       "      <td>...</td>\n",
       "      <td>...</td>\n",
       "      <td>...</td>\n",
       "      <td>...</td>\n",
       "      <td>...</td>\n",
       "      <td>...</td>\n",
       "      <td>...</td>\n",
       "      <td>...</td>\n",
       "      <td>...</td>\n",
       "      <td>...</td>\n",
       "      <td>...</td>\n",
       "      <td>...</td>\n",
       "      <td>...</td>\n",
       "      <td>...</td>\n",
       "      <td>...</td>\n",
       "      <td>...</td>\n",
       "      <td>...</td>\n",
       "      <td>...</td>\n",
       "      <td>...</td>\n",
       "      <td>...</td>\n",
       "      <td>...</td>\n",
       "      <td>...</td>\n",
       "      <td>...</td>\n",
       "      <td>...</td>\n",
       "      <td>...</td>\n",
       "      <td>...</td>\n",
       "    </tr>\n",
       "    <tr>\n",
       "      <th>39604</th>\n",
       "      <td>1.617119</td>\n",
       "      <td>1.632169</td>\n",
       "      <td>1.679938</td>\n",
       "      <td>1.6324</td>\n",
       "      <td>1.665521</td>\n",
       "      <td>1.386294</td>\n",
       "      <td>1.620280</td>\n",
       "      <td>31</td>\n",
       "      <td>1.656281</td>\n",
       "      <td>1.392794</td>\n",
       "      <td>1.000000</td>\n",
       "      <td>0</td>\n",
       "      <td>610.885185</td>\n",
       "      <td>40.000000</td>\n",
       "      <td>2809.0</td>\n",
       "      <td>4.606549</td>\n",
       "      <td>104</td>\n",
       "      <td>5.088215</td>\n",
       "      <td>0.0</td>\n",
       "      <td>0.0</td>\n",
       "      <td>0.0</td>\n",
       "      <td>0.0</td>\n",
       "      <td>0.0</td>\n",
       "      <td>0.0</td>\n",
       "      <td>1.0</td>\n",
       "      <td>0.0</td>\n",
       "    </tr>\n",
       "    <tr>\n",
       "      <th>39605</th>\n",
       "      <td>1.617119</td>\n",
       "      <td>1.632169</td>\n",
       "      <td>1.618762</td>\n",
       "      <td>1.6324</td>\n",
       "      <td>1.665521</td>\n",
       "      <td>1.386294</td>\n",
       "      <td>1.620280</td>\n",
       "      <td>31</td>\n",
       "      <td>1.570879</td>\n",
       "      <td>1.392794</td>\n",
       "      <td>1.000000</td>\n",
       "      <td>0</td>\n",
       "      <td>844.000000</td>\n",
       "      <td>44.444444</td>\n",
       "      <td>100489.0</td>\n",
       "      <td>9.162847</td>\n",
       "      <td>1143</td>\n",
       "      <td>5.000000</td>\n",
       "      <td>0.0</td>\n",
       "      <td>1.0</td>\n",
       "      <td>0.0</td>\n",
       "      <td>0.0</td>\n",
       "      <td>0.0</td>\n",
       "      <td>0.0</td>\n",
       "      <td>0.0</td>\n",
       "      <td>0.0</td>\n",
       "    </tr>\n",
       "    <tr>\n",
       "      <th>39606</th>\n",
       "      <td>1.617119</td>\n",
       "      <td>1.632169</td>\n",
       "      <td>1.679938</td>\n",
       "      <td>1.6324</td>\n",
       "      <td>1.665521</td>\n",
       "      <td>2.397895</td>\n",
       "      <td>1.620280</td>\n",
       "      <td>31</td>\n",
       "      <td>1.628808</td>\n",
       "      <td>2.707107</td>\n",
       "      <td>1.000000</td>\n",
       "      <td>0</td>\n",
       "      <td>167.000000</td>\n",
       "      <td>41.111111</td>\n",
       "      <td>79524.0</td>\n",
       "      <td>9.162847</td>\n",
       "      <td>618</td>\n",
       "      <td>2.000000</td>\n",
       "      <td>0.0</td>\n",
       "      <td>1.0</td>\n",
       "      <td>0.0</td>\n",
       "      <td>0.0</td>\n",
       "      <td>0.0</td>\n",
       "      <td>0.0</td>\n",
       "      <td>0.0</td>\n",
       "      <td>0.0</td>\n",
       "    </tr>\n",
       "    <tr>\n",
       "      <th>39607</th>\n",
       "      <td>1.617119</td>\n",
       "      <td>1.632169</td>\n",
       "      <td>1.544846</td>\n",
       "      <td>1.6324</td>\n",
       "      <td>1.665521</td>\n",
       "      <td>1.386294</td>\n",
       "      <td>1.620280</td>\n",
       "      <td>31</td>\n",
       "      <td>1.651521</td>\n",
       "      <td>3.366025</td>\n",
       "      <td>1.000000</td>\n",
       "      <td>0</td>\n",
       "      <td>210.000000</td>\n",
       "      <td>60.000000</td>\n",
       "      <td>7921.0</td>\n",
       "      <td>9.162847</td>\n",
       "      <td>125</td>\n",
       "      <td>1.000000</td>\n",
       "      <td>0.0</td>\n",
       "      <td>1.0</td>\n",
       "      <td>0.0</td>\n",
       "      <td>0.0</td>\n",
       "      <td>0.0</td>\n",
       "      <td>0.0</td>\n",
       "      <td>0.0</td>\n",
       "      <td>0.0</td>\n",
       "    </tr>\n",
       "    <tr>\n",
       "      <th>39608</th>\n",
       "      <td>1.617119</td>\n",
       "      <td>1.632169</td>\n",
       "      <td>1.606306</td>\n",
       "      <td>1.6324</td>\n",
       "      <td>1.665521</td>\n",
       "      <td>1.945910</td>\n",
       "      <td>1.620280</td>\n",
       "      <td>31</td>\n",
       "      <td>1.599280</td>\n",
       "      <td>3.831951</td>\n",
       "      <td>1.000000</td>\n",
       "      <td>0</td>\n",
       "      <td>221.971775</td>\n",
       "      <td>47.857143</td>\n",
       "      <td>91204.0</td>\n",
       "      <td>13.236071</td>\n",
       "      <td>968</td>\n",
       "      <td>66.500000</td>\n",
       "      <td>0.0</td>\n",
       "      <td>0.0</td>\n",
       "      <td>0.0</td>\n",
       "      <td>0.0</td>\n",
       "      <td>0.0</td>\n",
       "      <td>1.0</td>\n",
       "      <td>0.0</td>\n",
       "      <td>0.0</td>\n",
       "    </tr>\n",
       "  </tbody>\n",
       "</table>\n",
       "<p>39609 rows × 26 columns</p>\n",
       "</div>"
      ],
      "text/plain": [
       "             요일      기상상태      도로형태    노면상태      사고유형      ECLO         연   일  \\\n",
       "0      1.620570  1.632169  1.618762  1.6324  1.510543  1.791759  1.647741   1   \n",
       "1      1.620570  1.644549  1.618762  1.6324  1.510543  1.386294  1.647741   1   \n",
       "2      1.620570  1.632169  1.618762  1.6324  1.510543  1.386294  1.647741   1   \n",
       "3      1.620570  1.632169  1.618762  1.6324  1.665521  1.791759  1.647741   1   \n",
       "4      1.620570  1.632169  1.618762  1.6324  1.665521  1.386294  1.647741   1   \n",
       "...         ...       ...       ...     ...       ...       ...       ...  ..   \n",
       "39604  1.617119  1.632169  1.679938  1.6324  1.665521  1.386294  1.620280  31   \n",
       "39605  1.617119  1.632169  1.618762  1.6324  1.665521  1.386294  1.620280  31   \n",
       "39606  1.617119  1.632169  1.679938  1.6324  1.665521  2.397895  1.620280  31   \n",
       "39607  1.617119  1.632169  1.544846  1.6324  1.665521  1.386294  1.620280  31   \n",
       "39608  1.617119  1.632169  1.606306  1.6324  1.665521  1.945910  1.620280  31   \n",
       "\n",
       "              동  cos_hour  cos_month  holiday        보안등개수       제한속도  \\\n",
       "0      1.570475  2.000000   3.465926        1   391.000000  40.000000   \n",
       "1      1.649966  2.000000   3.465926        1   941.000000  52.500000   \n",
       "2      1.650353  3.831951   3.465926        1   473.000000  55.000000   \n",
       "3      1.543196  3.366025   3.465926        1   534.000000  38.000000   \n",
       "4      1.611041  2.000000   3.465926        1  1810.217749  40.000000   \n",
       "...         ...       ...        ...      ...          ...        ...   \n",
       "39604  1.656281  1.392794   1.000000        0   610.885185  40.000000   \n",
       "39605  1.570879  1.392794   1.000000        0   844.000000  44.444444   \n",
       "39606  1.628808  2.707107   1.000000        0   167.000000  41.111111   \n",
       "39607  1.651521  3.366025   1.000000        0   210.000000  60.000000   \n",
       "39608  1.599280  3.831951   1.000000        0   221.971775  47.857143   \n",
       "\n",
       "         횡단보도개수  어린이보호구역개수  사고발생횟수      주차장지수  구_남구  구_달서구  구_달성군  구_동구  구_북구  \\\n",
       "0        5929.0   4.606549     131  44.000000   0.0    0.0    0.0   0.0   0.0   \n",
       "1       10000.0   9.162847     678   5.000000   0.0    1.0    0.0   0.0   0.0   \n",
       "2       14641.0   5.000000     604   5.088215   0.0    0.0    0.0   0.0   0.0   \n",
       "3       29929.0  11.000000     426  23.000000   0.0    0.0    0.0   0.0   1.0   \n",
       "4       58564.0   9.162847     825   2.000000   0.0    0.0    0.0   1.0   0.0   \n",
       "...         ...        ...     ...        ...   ...    ...    ...   ...   ...   \n",
       "39604    2809.0   4.606549     104   5.088215   0.0    0.0    0.0   0.0   0.0   \n",
       "39605  100489.0   9.162847    1143   5.000000   0.0    1.0    0.0   0.0   0.0   \n",
       "39606   79524.0   9.162847     618   2.000000   0.0    1.0    0.0   0.0   0.0   \n",
       "39607    7921.0   9.162847     125   1.000000   0.0    1.0    0.0   0.0   0.0   \n",
       "39608   91204.0  13.236071     968  66.500000   0.0    0.0    0.0   0.0   0.0   \n",
       "\n",
       "       구_서구  구_수성구  구_중구  \n",
       "0       0.0    0.0   1.0  \n",
       "1       0.0    0.0   0.0  \n",
       "2       0.0    1.0   0.0  \n",
       "3       0.0    0.0   0.0  \n",
       "4       0.0    0.0   0.0  \n",
       "...     ...    ...   ...  \n",
       "39604   0.0    1.0   0.0  \n",
       "39605   0.0    0.0   0.0  \n",
       "39606   0.0    0.0   0.0  \n",
       "39607   0.0    0.0   0.0  \n",
       "39608   1.0    0.0   0.0  \n",
       "\n",
       "[39609 rows x 26 columns]"
      ]
     },
     "execution_count": 25,
     "metadata": {},
     "output_type": "execute_result"
    }
   ],
   "source": [
    "train_df"
   ]
  },
  {
   "cell_type": "code",
   "execution_count": 26,
   "id": "32099d5a",
   "metadata": {
    "ExecuteTime": {
     "end_time": "2023-12-08T09:45:02.646178Z",
     "start_time": "2023-12-08T09:45:02.618183Z"
    }
   },
   "outputs": [],
   "source": [
    "# 스케일링 전 전처리\n",
    "# 일 필요 없을 듯?\n",
    "train_df.drop(columns=['일'],inplace=True)\n",
    "test_df.drop(columns=['일'],inplace=True)"
   ]
  },
  {
   "cell_type": "code",
   "execution_count": 27,
   "id": "30befc4c",
   "metadata": {
    "ExecuteTime": {
     "end_time": "2023-12-08T09:45:02.661709Z",
     "start_time": "2023-12-08T09:45:02.650214Z"
    },
    "scrolled": true
   },
   "outputs": [],
   "source": [
    "# # 스케일링 전 분포 시각화\n",
    "# i = 0 \n",
    "# columns = train_df.columns\n",
    "# sub_cols = 2\n",
    "# sub_rows = (len(columns)+1) // 2\n",
    "# width = len(columns)\n",
    "# height = sub_rows * 8\n",
    "\n",
    "# plt.figure(figsize=(width, height)) # figure의 width height는 맘대로\n",
    "# for col in columns:\n",
    "#     i += 1\n",
    "#     plt.subplot(sub_rows,sub_cols,i)\n",
    "#     sns.histplot(data=train_df,x=col,kde=True)\n",
    "# plt.tight_layout()"
   ]
  },
  {
   "cell_type": "code",
   "execution_count": 28,
   "id": "d91ffffa",
   "metadata": {
    "ExecuteTime": {
     "end_time": "2023-12-08T09:45:02.693736Z",
     "start_time": "2023-12-08T09:45:02.673773Z"
    }
   },
   "outputs": [
    {
     "data": {
      "text/plain": [
       "Index(['요일', '기상상태', '도로형태', '노면상태', '사고유형', 'ECLO', '연', '동', 'cos_hour',\n",
       "       'cos_month', 'holiday', '보안등개수', '제한속도', '횡단보도개수', '어린이보호구역개수',\n",
       "       '사고발생횟수', '주차장지수', '구_남구', '구_달서구', '구_달성군', '구_동구', '구_북구', '구_서구',\n",
       "       '구_수성구', '구_중구'],\n",
       "      dtype='object')"
      ]
     },
     "execution_count": 28,
     "metadata": {},
     "output_type": "execute_result"
    }
   ],
   "source": [
    "train_df.columns"
   ]
  },
  {
   "cell_type": "code",
   "execution_count": 29,
   "id": "244dc459",
   "metadata": {
    "ExecuteTime": {
     "end_time": "2023-12-08T09:45:02.773853Z",
     "start_time": "2023-12-08T09:45:02.697730Z"
    }
   },
   "outputs": [],
   "source": [
    "### 스케일링\n",
    "scaling_columns = [\n",
    "    '요일', '기상상태', '도로형태', '노면상태', '사고유형', \n",
    "   '연','동','cos_hour','cos_month',\n",
    "   '보안등개수','어린이보호구역개수',\n",
    "   '사고발생횟수'\n",
    "]\n",
    "\n",
    "log_scaling_columns = ['주차장지수','제한속도','횡단보도개수'] # ECLO는 이미 로그변환 완료\n",
    "\n",
    "for c in log_scaling_columns:\n",
    "    train_df[c] = np.log1p(train_df[c])\n",
    "    test_df[c] = np.log1p(test_df[c])\n",
    "\n",
    "# mms = MinMaxScaler()\n",
    "ssc = StandardScaler()\n",
    "for c in scaling_columns+log_scaling_columns:\n",
    "    train_df[c] = ssc.fit_transform(np.reshape(train_df[c],(-1,1)))\n",
    "    test_df[c] = ssc.transform(np.reshape(test_df[c],(-1,1)))"
   ]
  },
  {
   "cell_type": "code",
   "execution_count": 30,
   "id": "d8677dd3",
   "metadata": {
    "ExecuteTime": {
     "end_time": "2023-12-08T09:45:02.789851Z",
     "start_time": "2023-12-08T09:45:02.777849Z"
    },
    "scrolled": true
   },
   "outputs": [],
   "source": [
    "# # 스케일링 후 분포 시각화\n",
    "# i = 0 \n",
    "# columns = train_df.columns\n",
    "# sub_cols = 2\n",
    "# sub_rows = (len(columns)+1) // 2\n",
    "# width = len(columns)\n",
    "# height = sub_rows * 8\n",
    "\n",
    "# plt.figure(figsize=(width, height)) # figure의 width height는 맘대로\n",
    "# for col in columns:\n",
    "#     i += 1\n",
    "#     plt.subplot(sub_rows,sub_cols,i)\n",
    "#     sns.histplot(data=train_df,x=col,kde=True)\n",
    "# plt.tight_layout()"
   ]
  },
  {
   "cell_type": "code",
   "execution_count": null,
   "id": "fb4b6fa4",
   "metadata": {},
   "outputs": [],
   "source": []
  },
  {
   "cell_type": "markdown",
   "id": "17be14f8",
   "metadata": {},
   "source": [
    "### 기타 전처리"
   ]
  },
  {
   "cell_type": "code",
   "execution_count": null,
   "id": "0b5b9444",
   "metadata": {
    "ExecuteTime": {
     "end_time": "2023-12-08T07:59:13.345306Z",
     "start_time": "2023-12-08T07:59:13.332304Z"
    }
   },
   "outputs": [],
   "source": []
  },
  {
   "cell_type": "code",
   "execution_count": 31,
   "id": "256536c3",
   "metadata": {
    "ExecuteTime": {
     "end_time": "2023-12-08T09:45:02.866160Z",
     "start_time": "2023-12-08T09:45:02.797857Z"
    }
   },
   "outputs": [
    {
     "data": {
      "text/html": [
       "<div>\n",
       "<style scoped>\n",
       "    .dataframe tbody tr th:only-of-type {\n",
       "        vertical-align: middle;\n",
       "    }\n",
       "\n",
       "    .dataframe tbody tr th {\n",
       "        vertical-align: top;\n",
       "    }\n",
       "\n",
       "    .dataframe thead th {\n",
       "        text-align: right;\n",
       "    }\n",
       "</style>\n",
       "<table border=\"1\" class=\"dataframe\">\n",
       "  <thead>\n",
       "    <tr style=\"text-align: right;\">\n",
       "      <th></th>\n",
       "      <th>요일</th>\n",
       "      <th>기상상태</th>\n",
       "      <th>도로형태</th>\n",
       "      <th>노면상태</th>\n",
       "      <th>사고유형</th>\n",
       "      <th>ECLO</th>\n",
       "      <th>연</th>\n",
       "      <th>동</th>\n",
       "      <th>cos_hour</th>\n",
       "      <th>cos_month</th>\n",
       "      <th>holiday</th>\n",
       "      <th>보안등개수</th>\n",
       "      <th>제한속도</th>\n",
       "      <th>횡단보도개수</th>\n",
       "      <th>어린이보호구역개수</th>\n",
       "      <th>사고발생횟수</th>\n",
       "      <th>주차장지수</th>\n",
       "      <th>구_남구</th>\n",
       "      <th>구_달서구</th>\n",
       "      <th>구_달성군</th>\n",
       "      <th>구_동구</th>\n",
       "      <th>구_북구</th>\n",
       "      <th>구_서구</th>\n",
       "      <th>구_수성구</th>\n",
       "      <th>구_중구</th>\n",
       "    </tr>\n",
       "  </thead>\n",
       "  <tbody>\n",
       "    <tr>\n",
       "      <th>0</th>\n",
       "      <td>-0.516329</td>\n",
       "      <td>-0.301961</td>\n",
       "      <td>-0.378072</td>\n",
       "      <td>-0.200957</td>\n",
       "      <td>-1.908097</td>\n",
       "      <td>1.791759</td>\n",
       "      <td>1.227690</td>\n",
       "      <td>-1.310522</td>\n",
       "      <td>0.398684</td>\n",
       "      <td>0.564705</td>\n",
       "      <td>1</td>\n",
       "      <td>-0.566911</td>\n",
       "      <td>-1.090231</td>\n",
       "      <td>-0.798251</td>\n",
       "      <td>-1.600299</td>\n",
       "      <td>-1.102130</td>\n",
       "      <td>1.303299</td>\n",
       "      <td>0.0</td>\n",
       "      <td>0.0</td>\n",
       "      <td>0.0</td>\n",
       "      <td>0.0</td>\n",
       "      <td>0.0</td>\n",
       "      <td>0.0</td>\n",
       "      <td>0.0</td>\n",
       "      <td>1.0</td>\n",
       "    </tr>\n",
       "    <tr>\n",
       "      <th>1</th>\n",
       "      <td>-0.516329</td>\n",
       "      <td>2.179605</td>\n",
       "      <td>-0.378072</td>\n",
       "      <td>-0.200957</td>\n",
       "      <td>-1.908097</td>\n",
       "      <td>1.386294</td>\n",
       "      <td>1.227690</td>\n",
       "      <td>0.351467</td>\n",
       "      <td>0.398684</td>\n",
       "      <td>0.564705</td>\n",
       "      <td>1</td>\n",
       "      <td>0.640717</td>\n",
       "      <td>0.766941</td>\n",
       "      <td>-0.494121</td>\n",
       "      <td>0.028909</td>\n",
       "      <td>0.281504</td>\n",
       "      <td>-0.594707</td>\n",
       "      <td>0.0</td>\n",
       "      <td>1.0</td>\n",
       "      <td>0.0</td>\n",
       "      <td>0.0</td>\n",
       "      <td>0.0</td>\n",
       "      <td>0.0</td>\n",
       "      <td>0.0</td>\n",
       "      <td>0.0</td>\n",
       "    </tr>\n",
       "    <tr>\n",
       "      <th>2</th>\n",
       "      <td>-0.516329</td>\n",
       "      <td>-0.301961</td>\n",
       "      <td>-0.378072</td>\n",
       "      <td>-0.200957</td>\n",
       "      <td>-1.908097</td>\n",
       "      <td>1.386294</td>\n",
       "      <td>1.227690</td>\n",
       "      <td>0.359571</td>\n",
       "      <td>2.734617</td>\n",
       "      <td>0.564705</td>\n",
       "      <td>1</td>\n",
       "      <td>-0.386865</td>\n",
       "      <td>1.085670</td>\n",
       "      <td>-0.272299</td>\n",
       "      <td>-1.459612</td>\n",
       "      <td>0.094321</td>\n",
       "      <td>-0.580958</td>\n",
       "      <td>0.0</td>\n",
       "      <td>0.0</td>\n",
       "      <td>0.0</td>\n",
       "      <td>0.0</td>\n",
       "      <td>0.0</td>\n",
       "      <td>0.0</td>\n",
       "      <td>1.0</td>\n",
       "      <td>0.0</td>\n",
       "    </tr>\n",
       "    <tr>\n",
       "      <th>3</th>\n",
       "      <td>-0.516329</td>\n",
       "      <td>-0.301961</td>\n",
       "      <td>-0.378072</td>\n",
       "      <td>-0.200957</td>\n",
       "      <td>0.493078</td>\n",
       "      <td>1.791759</td>\n",
       "      <td>1.227690</td>\n",
       "      <td>-1.880876</td>\n",
       "      <td>2.140512</td>\n",
       "      <td>0.564705</td>\n",
       "      <td>1</td>\n",
       "      <td>-0.252928</td>\n",
       "      <td>-1.439252</td>\n",
       "      <td>0.143732</td>\n",
       "      <td>0.685825</td>\n",
       "      <td>-0.355929</td>\n",
       "      <td>0.711160</td>\n",
       "      <td>0.0</td>\n",
       "      <td>0.0</td>\n",
       "      <td>0.0</td>\n",
       "      <td>0.0</td>\n",
       "      <td>1.0</td>\n",
       "      <td>0.0</td>\n",
       "      <td>0.0</td>\n",
       "      <td>0.0</td>\n",
       "    </tr>\n",
       "    <tr>\n",
       "      <th>4</th>\n",
       "      <td>-0.516329</td>\n",
       "      <td>-0.301961</td>\n",
       "      <td>-0.378072</td>\n",
       "      <td>-0.200957</td>\n",
       "      <td>0.493078</td>\n",
       "      <td>1.386294</td>\n",
       "      <td>1.227690</td>\n",
       "      <td>-0.462378</td>\n",
       "      <td>0.398684</td>\n",
       "      <td>0.564705</td>\n",
       "      <td>1</td>\n",
       "      <td>2.549249</td>\n",
       "      <td>-1.090231</td>\n",
       "      <td>0.534340</td>\n",
       "      <td>0.028909</td>\n",
       "      <td>0.653340</td>\n",
       "      <td>-1.247640</td>\n",
       "      <td>0.0</td>\n",
       "      <td>0.0</td>\n",
       "      <td>0.0</td>\n",
       "      <td>1.0</td>\n",
       "      <td>0.0</td>\n",
       "      <td>0.0</td>\n",
       "      <td>0.0</td>\n",
       "      <td>0.0</td>\n",
       "    </tr>\n",
       "    <tr>\n",
       "      <th>...</th>\n",
       "      <td>...</td>\n",
       "      <td>...</td>\n",
       "      <td>...</td>\n",
       "      <td>...</td>\n",
       "      <td>...</td>\n",
       "      <td>...</td>\n",
       "      <td>...</td>\n",
       "      <td>...</td>\n",
       "      <td>...</td>\n",
       "      <td>...</td>\n",
       "      <td>...</td>\n",
       "      <td>...</td>\n",
       "      <td>...</td>\n",
       "      <td>...</td>\n",
       "      <td>...</td>\n",
       "      <td>...</td>\n",
       "      <td>...</td>\n",
       "      <td>...</td>\n",
       "      <td>...</td>\n",
       "      <td>...</td>\n",
       "      <td>...</td>\n",
       "      <td>...</td>\n",
       "      <td>...</td>\n",
       "      <td>...</td>\n",
       "      <td>...</td>\n",
       "    </tr>\n",
       "    <tr>\n",
       "      <th>39604</th>\n",
       "      <td>-0.652098</td>\n",
       "      <td>-0.301961</td>\n",
       "      <td>1.168726</td>\n",
       "      <td>-0.200957</td>\n",
       "      <td>0.493078</td>\n",
       "      <td>1.386294</td>\n",
       "      <td>-1.172847</td>\n",
       "      <td>0.483511</td>\n",
       "      <td>-0.375568</td>\n",
       "      <td>-1.764252</td>\n",
       "      <td>0</td>\n",
       "      <td>-0.084112</td>\n",
       "      <td>-1.090231</td>\n",
       "      <td>-1.232829</td>\n",
       "      <td>-1.600299</td>\n",
       "      <td>-1.170427</td>\n",
       "      <td>-0.580958</td>\n",
       "      <td>0.0</td>\n",
       "      <td>0.0</td>\n",
       "      <td>0.0</td>\n",
       "      <td>0.0</td>\n",
       "      <td>0.0</td>\n",
       "      <td>0.0</td>\n",
       "      <td>1.0</td>\n",
       "      <td>0.0</td>\n",
       "    </tr>\n",
       "    <tr>\n",
       "      <th>39605</th>\n",
       "      <td>-0.652098</td>\n",
       "      <td>-0.301961</td>\n",
       "      <td>-0.378072</td>\n",
       "      <td>-0.200957</td>\n",
       "      <td>0.493078</td>\n",
       "      <td>1.386294</td>\n",
       "      <td>-1.172847</td>\n",
       "      <td>-1.302072</td>\n",
       "      <td>-0.375568</td>\n",
       "      <td>-1.764252</td>\n",
       "      <td>0</td>\n",
       "      <td>0.427736</td>\n",
       "      <td>-0.371966</td>\n",
       "      <td>0.848514</td>\n",
       "      <td>0.028909</td>\n",
       "      <td>1.457720</td>\n",
       "      <td>-0.594707</td>\n",
       "      <td>0.0</td>\n",
       "      <td>1.0</td>\n",
       "      <td>0.0</td>\n",
       "      <td>0.0</td>\n",
       "      <td>0.0</td>\n",
       "      <td>0.0</td>\n",
       "      <td>0.0</td>\n",
       "      <td>0.0</td>\n",
       "    </tr>\n",
       "    <tr>\n",
       "      <th>39606</th>\n",
       "      <td>-0.652098</td>\n",
       "      <td>-0.301961</td>\n",
       "      <td>1.168726</td>\n",
       "      <td>-0.200957</td>\n",
       "      <td>0.493078</td>\n",
       "      <td>2.397895</td>\n",
       "      <td>-1.172847</td>\n",
       "      <td>-0.090887</td>\n",
       "      <td>1.300321</td>\n",
       "      <td>-1.764252</td>\n",
       "      <td>0</td>\n",
       "      <td>-1.058745</td>\n",
       "      <td>-0.903616</td>\n",
       "      <td>0.712360</td>\n",
       "      <td>0.028909</td>\n",
       "      <td>0.129734</td>\n",
       "      <td>-1.247640</td>\n",
       "      <td>0.0</td>\n",
       "      <td>1.0</td>\n",
       "      <td>0.0</td>\n",
       "      <td>0.0</td>\n",
       "      <td>0.0</td>\n",
       "      <td>0.0</td>\n",
       "      <td>0.0</td>\n",
       "      <td>0.0</td>\n",
       "    </tr>\n",
       "    <tr>\n",
       "      <th>39607</th>\n",
       "      <td>-0.652098</td>\n",
       "      <td>-0.301961</td>\n",
       "      <td>-2.246999</td>\n",
       "      <td>-0.200957</td>\n",
       "      <td>0.493078</td>\n",
       "      <td>1.386294</td>\n",
       "      <td>-1.172847</td>\n",
       "      <td>0.383991</td>\n",
       "      <td>2.140512</td>\n",
       "      <td>-1.764252</td>\n",
       "      <td>0</td>\n",
       "      <td>-0.964331</td>\n",
       "      <td>1.682527</td>\n",
       "      <td>-0.629725</td>\n",
       "      <td>0.028909</td>\n",
       "      <td>-1.117307</td>\n",
       "      <td>-1.629581</td>\n",
       "      <td>0.0</td>\n",
       "      <td>1.0</td>\n",
       "      <td>0.0</td>\n",
       "      <td>0.0</td>\n",
       "      <td>0.0</td>\n",
       "      <td>0.0</td>\n",
       "      <td>0.0</td>\n",
       "      <td>0.0</td>\n",
       "    </tr>\n",
       "    <tr>\n",
       "      <th>39608</th>\n",
       "      <td>-0.652098</td>\n",
       "      <td>-0.301961</td>\n",
       "      <td>-0.693007</td>\n",
       "      <td>-0.200957</td>\n",
       "      <td>0.493078</td>\n",
       "      <td>1.945910</td>\n",
       "      <td>-1.172847</td>\n",
       "      <td>-0.708268</td>\n",
       "      <td>2.734617</td>\n",
       "      <td>-1.764252</td>\n",
       "      <td>0</td>\n",
       "      <td>-0.938045</td>\n",
       "      <td>0.133382</td>\n",
       "      <td>0.792101</td>\n",
       "      <td>1.485383</td>\n",
       "      <td>1.015058</td>\n",
       "      <td>1.685240</td>\n",
       "      <td>0.0</td>\n",
       "      <td>0.0</td>\n",
       "      <td>0.0</td>\n",
       "      <td>0.0</td>\n",
       "      <td>0.0</td>\n",
       "      <td>1.0</td>\n",
       "      <td>0.0</td>\n",
       "      <td>0.0</td>\n",
       "    </tr>\n",
       "  </tbody>\n",
       "</table>\n",
       "<p>39609 rows × 25 columns</p>\n",
       "</div>"
      ],
      "text/plain": [
       "             요일      기상상태      도로형태      노면상태      사고유형      ECLO         연  \\\n",
       "0     -0.516329 -0.301961 -0.378072 -0.200957 -1.908097  1.791759  1.227690   \n",
       "1     -0.516329  2.179605 -0.378072 -0.200957 -1.908097  1.386294  1.227690   \n",
       "2     -0.516329 -0.301961 -0.378072 -0.200957 -1.908097  1.386294  1.227690   \n",
       "3     -0.516329 -0.301961 -0.378072 -0.200957  0.493078  1.791759  1.227690   \n",
       "4     -0.516329 -0.301961 -0.378072 -0.200957  0.493078  1.386294  1.227690   \n",
       "...         ...       ...       ...       ...       ...       ...       ...   \n",
       "39604 -0.652098 -0.301961  1.168726 -0.200957  0.493078  1.386294 -1.172847   \n",
       "39605 -0.652098 -0.301961 -0.378072 -0.200957  0.493078  1.386294 -1.172847   \n",
       "39606 -0.652098 -0.301961  1.168726 -0.200957  0.493078  2.397895 -1.172847   \n",
       "39607 -0.652098 -0.301961 -2.246999 -0.200957  0.493078  1.386294 -1.172847   \n",
       "39608 -0.652098 -0.301961 -0.693007 -0.200957  0.493078  1.945910 -1.172847   \n",
       "\n",
       "              동  cos_hour  cos_month  holiday     보안등개수      제한속도    횡단보도개수  \\\n",
       "0     -1.310522  0.398684   0.564705        1 -0.566911 -1.090231 -0.798251   \n",
       "1      0.351467  0.398684   0.564705        1  0.640717  0.766941 -0.494121   \n",
       "2      0.359571  2.734617   0.564705        1 -0.386865  1.085670 -0.272299   \n",
       "3     -1.880876  2.140512   0.564705        1 -0.252928 -1.439252  0.143732   \n",
       "4     -0.462378  0.398684   0.564705        1  2.549249 -1.090231  0.534340   \n",
       "...         ...       ...        ...      ...       ...       ...       ...   \n",
       "39604  0.483511 -0.375568  -1.764252        0 -0.084112 -1.090231 -1.232829   \n",
       "39605 -1.302072 -0.375568  -1.764252        0  0.427736 -0.371966  0.848514   \n",
       "39606 -0.090887  1.300321  -1.764252        0 -1.058745 -0.903616  0.712360   \n",
       "39607  0.383991  2.140512  -1.764252        0 -0.964331  1.682527 -0.629725   \n",
       "39608 -0.708268  2.734617  -1.764252        0 -0.938045  0.133382  0.792101   \n",
       "\n",
       "       어린이보호구역개수    사고발생횟수     주차장지수  구_남구  구_달서구  구_달성군  구_동구  구_북구  구_서구  \\\n",
       "0      -1.600299 -1.102130  1.303299   0.0    0.0    0.0   0.0   0.0   0.0   \n",
       "1       0.028909  0.281504 -0.594707   0.0    1.0    0.0   0.0   0.0   0.0   \n",
       "2      -1.459612  0.094321 -0.580958   0.0    0.0    0.0   0.0   0.0   0.0   \n",
       "3       0.685825 -0.355929  0.711160   0.0    0.0    0.0   0.0   1.0   0.0   \n",
       "4       0.028909  0.653340 -1.247640   0.0    0.0    0.0   1.0   0.0   0.0   \n",
       "...          ...       ...       ...   ...    ...    ...   ...   ...   ...   \n",
       "39604  -1.600299 -1.170427 -0.580958   0.0    0.0    0.0   0.0   0.0   0.0   \n",
       "39605   0.028909  1.457720 -0.594707   0.0    1.0    0.0   0.0   0.0   0.0   \n",
       "39606   0.028909  0.129734 -1.247640   0.0    1.0    0.0   0.0   0.0   0.0   \n",
       "39607   0.028909 -1.117307 -1.629581   0.0    1.0    0.0   0.0   0.0   0.0   \n",
       "39608   1.485383  1.015058  1.685240   0.0    0.0    0.0   0.0   0.0   1.0   \n",
       "\n",
       "       구_수성구  구_중구  \n",
       "0        0.0   1.0  \n",
       "1        0.0   0.0  \n",
       "2        1.0   0.0  \n",
       "3        0.0   0.0  \n",
       "4        0.0   0.0  \n",
       "...      ...   ...  \n",
       "39604    1.0   0.0  \n",
       "39605    0.0   0.0  \n",
       "39606    0.0   0.0  \n",
       "39607    0.0   0.0  \n",
       "39608    0.0   0.0  \n",
       "\n",
       "[39609 rows x 25 columns]"
      ]
     },
     "execution_count": 31,
     "metadata": {},
     "output_type": "execute_result"
    }
   ],
   "source": [
    "train_df"
   ]
  },
  {
   "cell_type": "code",
   "execution_count": 32,
   "id": "2d4c3d58",
   "metadata": {
    "ExecuteTime": {
     "end_time": "2023-12-08T09:45:05.624619Z",
     "start_time": "2023-12-08T09:45:02.870162Z"
    }
   },
   "outputs": [],
   "source": [
    "train_df.to_csv('./train_df.csv',index=False)\n",
    "test_df.to_csv('./test_df.csv',index=False)"
   ]
  },
  {
   "cell_type": "markdown",
   "id": "f2127f9c",
   "metadata": {},
   "source": [
    "### 데이터셋 분할"
   ]
  },
  {
   "cell_type": "code",
   "execution_count": 33,
   "id": "968668c1",
   "metadata": {
    "ExecuteTime": {
     "end_time": "2023-12-08T09:45:05.656633Z",
     "start_time": "2023-12-08T09:45:05.628605Z"
    }
   },
   "outputs": [],
   "source": [
    "train_x = train_df[test_df.columns] # test 셋에만 있는 컬럼만 추출\n",
    "train_y = np.log1p(train_df['ECLO'])\n",
    "test_x = test_df"
   ]
  },
  {
   "cell_type": "code",
   "execution_count": 34,
   "id": "8ea1cd32",
   "metadata": {
    "ExecuteTime": {
     "end_time": "2023-12-08T09:45:05.712719Z",
     "start_time": "2023-12-08T09:45:05.660634Z"
    },
    "executionInfo": {
     "elapsed": 515,
     "status": "ok",
     "timestamp": 1701855021501,
     "user": {
      "displayName": "skiersong9",
      "userId": "11108221763786546299"
     },
     "user_tz": -540
    },
    "id": "8ea1cd32"
   },
   "outputs": [],
   "source": [
    "x_train, x_valid, y_train, y_valid = train_test_split(train_x, train_y, test_size=0.2, random_state=42)"
   ]
  },
  {
   "cell_type": "code",
   "execution_count": null,
   "id": "0051ba3c",
   "metadata": {},
   "outputs": [],
   "source": []
  },
  {
   "cell_type": "markdown",
   "id": "e0eaed4c",
   "metadata": {
    "id": "e0eaed4c"
   },
   "source": [
    "### AUTOML"
   ]
  },
  {
   "cell_type": "code",
   "execution_count": 35,
   "id": "984e92f9",
   "metadata": {
    "ExecuteTime": {
     "end_time": "2023-12-08T09:45:05.740715Z",
     "start_time": "2023-12-08T09:45:05.716682Z"
    },
    "executionInfo": {
     "elapsed": 334,
     "status": "ok",
     "timestamp": 1701855024449,
     "user": {
      "displayName": "skiersong9",
      "userId": "11108221763786546299"
     },
     "user_tz": -540
    },
    "id": "984e92f9"
   },
   "outputs": [],
   "source": [
    "import matplotlib\n",
    "matplotlib.use('Agg')"
   ]
  },
  {
   "cell_type": "code",
   "execution_count": 43,
   "id": "d7a6805c",
   "metadata": {
    "ExecuteTime": {
     "end_time": "2023-12-08T09:57:33.040912Z",
     "start_time": "2023-12-08T09:57:33.032919Z"
    },
    "executionInfo": {
     "elapsed": 1,
     "status": "ok",
     "timestamp": 1701855026810,
     "user": {
      "displayName": "skiersong9",
      "userId": "11108221763786546299"
     },
     "user_tz": -540
    },
    "id": "d7a6805c"
   },
   "outputs": [],
   "source": [
    "from supervised.automl import AutoML\n",
    "automl = AutoML(\n",
    "                algorithms = ['Random Forest', 'LightGBM', 'Xgboost', 'CatBoost'],\n",
    "                n_jobs = -1,total_time_limit=60000, eval_metric=\"rmse\", ml_task = \"regression\",\n",
    "               results_path = './AutoML_003_preprocessed/',\n",
    "                explain_level=2,\n",
    "                mode='Perform',\n",
    "                random_state=42\n",
    "               )"
   ]
  },
  {
   "cell_type": "code",
   "execution_count": 44,
   "id": "bd80bdc7",
   "metadata": {
    "ExecuteTime": {
     "end_time": "2023-12-08T10:28:15.365988Z",
     "start_time": "2023-12-08T09:57:34.020911Z"
    },
    "colab": {
     "base_uri": "https://localhost:8080/"
    },
    "id": "bd80bdc7",
    "outputId": "d6275027-5eb7-425c-8a42-39d15130c154",
    "scrolled": true
   },
   "outputs": [
    {
     "name": "stdout",
     "output_type": "stream",
     "text": [
      "AutoML directory: ./AutoML_003_preprocessed/\n",
      "The task is regression with evaluation metric rmse\n",
      "AutoML will use algorithms: ['Random Forest', 'LightGBM', 'Xgboost', 'CatBoost']\n",
      "AutoML will ensemble available models\n",
      "AutoML steps: ['simple_algorithms', 'default_algorithms', 'not_so_random', 'golden_features', 'insert_random_feature', 'features_selection', 'hill_climbing_1', 'hill_climbing_2', 'ensemble']\n",
      "Skip simple_algorithms because no parameters were generated.\n",
      "* Step default_algorithms will try to check up to 4 models\n",
      "1_Default_LightGBM rmse 0.170254 trained in 39.43 seconds (1-sample predict time 0.08 seconds)\n",
      "2_Default_Xgboost rmse 0.170166 trained in 32.24 seconds (1-sample predict time 0.1085 seconds)\n",
      "3_Default_CatBoost rmse 0.169978 trained in 9.8 seconds (1-sample predict time 0.0801 seconds)\n",
      "4_Default_RandomForest rmse 0.170369 trained in 44.91 seconds (1-sample predict time 0.236 seconds)\n",
      "* Step not_so_random will try to check up to 16 models\n",
      "9_LightGBM rmse 0.170536 trained in 30.64 seconds (1-sample predict time 0.072 seconds)\n",
      "5_Xgboost rmse 0.170603 trained in 37.15 seconds (1-sample predict time 0.1213 seconds)\n",
      "13_CatBoost rmse 0.170008 trained in 10.03 seconds (1-sample predict time 0.08 seconds)\n",
      "17_RandomForest rmse 0.170332 trained in 40.74 seconds (1-sample predict time 0.2485 seconds)\n",
      "10_LightGBM rmse 0.1701 trained in 31.15 seconds (1-sample predict time 0.084 seconds)\n",
      "6_Xgboost rmse 0.170418 trained in 35.77 seconds (1-sample predict time 0.1043 seconds)\n",
      "14_CatBoost rmse 0.169969 trained in 10.59 seconds (1-sample predict time 0.0798 seconds)\n",
      "18_RandomForest rmse 0.170071 trained in 50.88 seconds (1-sample predict time 0.2187 seconds)\n",
      "11_LightGBM rmse 0.170087 trained in 34.42 seconds (1-sample predict time 0.1258 seconds)\n",
      "7_Xgboost rmse 0.170516 trained in 47.53 seconds (1-sample predict time 0.1394 seconds)\n",
      "15_CatBoost rmse 0.18012 trained in 105.88 seconds (1-sample predict time 0.0863 seconds)\n",
      "19_RandomForest rmse 0.17064 trained in 42.96 seconds (1-sample predict time 0.1992 seconds)\n",
      "12_LightGBM rmse 0.170364 trained in 38.17 seconds (1-sample predict time 0.0735 seconds)\n",
      "8_Xgboost rmse 0.170078 trained in 33.52 seconds (1-sample predict time 0.0983 seconds)\n",
      "16_CatBoost rmse 0.185105 trained in 22.02 seconds (1-sample predict time 0.0744 seconds)\n",
      "20_RandomForest rmse 0.17035 trained in 51.87 seconds (1-sample predict time 0.2195 seconds)\n",
      "* Step golden_features will try to check up to 3 models\n",
      "None 10\n",
      "Add Golden Feature: 동_sum_사고유형\n",
      "Add Golden Feature: 사고유형_diff_holiday\n",
      "Add Golden Feature: 사고유형_diff_구_달성군\n",
      "Add Golden Feature: 구_달성군_sum_사고유형\n",
      "Add Golden Feature: holiday_sum_사고유형\n",
      "Add Golden Feature: 사고유형_diff_구_북구\n",
      "Add Golden Feature: 구_북구_sum_사고유형\n",
      "Add Golden Feature: 구_달서구_sum_사고유형\n",
      "Add Golden Feature: 사고유형_diff_구_수성구\n",
      "Add Golden Feature: 구_수성구_sum_사고유형\n",
      "Created 10 Golden Features in 1.32 seconds.\n",
      "14_CatBoost_GoldenFeatures rmse 0.169978 trained in 13.39 seconds (1-sample predict time 0.1458 seconds)\n",
      "3_Default_CatBoost_GoldenFeatures rmse 0.169986 trained in 11.91 seconds (1-sample predict time 0.1416 seconds)\n",
      "13_CatBoost_GoldenFeatures rmse 0.169976 trained in 14.54 seconds (1-sample predict time 0.3195 seconds)\n",
      "* Step insert_random_feature will try to check up to 1 model\n",
      "14_CatBoost_RandomFeature rmse 0.170017 trained in 9.7 seconds (1-sample predict time 0.096 seconds)\n",
      "Drop features ['cos_month', '횡단보도개수', 'random_feature', '어린이보호구역개수', '구_중구', '주차장지수', '구_북구', '기상상태', '구_남구', '제한속도', '구_동구', '구_서구', '구_달서구', '보안등개수', '구_달성군', '구_수성구']\n",
      "* Step features_selection will try to check up to 4 models\n",
      "14_CatBoost_SelectedFeatures rmse 0.169936 trained in 7.8 seconds (1-sample predict time 0.0606 seconds)\n",
      "18_RandomForest_SelectedFeatures rmse 0.17001 trained in 37.7 seconds (1-sample predict time 0.2351 seconds)\n",
      "8_Xgboost_SelectedFeatures rmse 0.169972 trained in 25.29 seconds (1-sample predict time 0.0938 seconds)\n",
      "11_LightGBM_SelectedFeatures rmse 0.170006 trained in 25.49 seconds (1-sample predict time 0.0469 seconds)\n",
      "* Step hill_climbing_1 will try to check up to 14 models\n",
      "21_CatBoost_SelectedFeatures rmse 0.169915 trained in 9.14 seconds (1-sample predict time 0.108 seconds)\n",
      "22_CatBoost rmse 0.170011 trained in 12.8 seconds (1-sample predict time 0.094 seconds)\n",
      "23_Xgboost_SelectedFeatures rmse 0.170011 trained in 28.68 seconds (1-sample predict time 0.0908 seconds)\n",
      "24_Xgboost_SelectedFeatures rmse 0.170004 trained in 28.06 seconds (1-sample predict time 0.1094 seconds)\n",
      "25_LightGBM_SelectedFeatures rmse 0.170006 trained in 32.42 seconds (1-sample predict time 0.1024 seconds)\n",
      "26_LightGBM_SelectedFeatures rmse 0.170006 trained in 33.36 seconds (1-sample predict time 0.0625 seconds)\n",
      "27_RandomForest_SelectedFeatures rmse 0.170127 trained in 42.1 seconds (1-sample predict time 0.2735 seconds)\n",
      "28_RandomForest_SelectedFeatures rmse 0.169944 trained in 48.79 seconds (1-sample predict time 0.2615 seconds)\n",
      "29_RandomForest rmse 0.170176 trained in 49.6 seconds (1-sample predict time 0.2193 seconds)\n",
      "30_RandomForest rmse 0.170037 trained in 75.26 seconds (1-sample predict time 0.8132 seconds)\n",
      "31_Xgboost rmse 0.170073 trained in 32.18 seconds (1-sample predict time 0.1094 seconds)\n",
      "32_Xgboost rmse 0.170053 trained in 35.09 seconds (1-sample predict time 0.1094 seconds)\n",
      "33_LightGBM rmse 0.170087 trained in 36.17 seconds (1-sample predict time 0.065 seconds)\n",
      "34_LightGBM rmse 0.170087 trained in 39.85 seconds (1-sample predict time 0.0784 seconds)\n",
      "* Step hill_climbing_2 will try to check up to 10 models\n",
      "35_CatBoost_SelectedFeatures rmse 0.179474 trained in 12.95 seconds (1-sample predict time 0.0469 seconds)\n",
      "36_CatBoost_SelectedFeatures rmse 0.179251 trained in 12.34 seconds (1-sample predict time 0.0471 seconds)\n",
      "37_Xgboost_SelectedFeatures rmse 0.169968 trained in 27.76 seconds (1-sample predict time 0.1094 seconds)\n",
      "38_Xgboost_SelectedFeatures rmse 0.170021 trained in 28.16 seconds (1-sample predict time 0.0895 seconds)\n",
      "39_Xgboost_SelectedFeatures rmse 0.169951 trained in 25.92 seconds (1-sample predict time 0.092 seconds)\n",
      "40_Xgboost_SelectedFeatures rmse 0.170001 trained in 26.0 seconds (1-sample predict time 0.0938 seconds)\n",
      "41_LightGBM_SelectedFeatures rmse 0.16999 trained in 24.81 seconds (1-sample predict time 0.0469 seconds)\n",
      "42_LightGBM_SelectedFeatures rmse 0.170107 trained in 28.83 seconds (1-sample predict time 0.0625 seconds)\n",
      "43_LightGBM_SelectedFeatures rmse 0.16999 trained in 26.55 seconds (1-sample predict time 0.0469 seconds)\n",
      "44_LightGBM_SelectedFeatures rmse 0.170107 trained in 27.65 seconds (1-sample predict time 0.0468 seconds)\n",
      "* Step ensemble will try to check up to 1 model\n",
      "Ensemble rmse 0.169855 trained in 0.68 seconds (1-sample predict time 0.3751 seconds)\n",
      "AutoML fit time: 1841.3 seconds\n",
      "AutoML best model: Ensemble\n"
     ]
    },
    {
     "data": {
      "text/html": [
       "<style>#sk-container-id-1 {color: black;}#sk-container-id-1 pre{padding: 0;}#sk-container-id-1 div.sk-toggleable {background-color: white;}#sk-container-id-1 label.sk-toggleable__label {cursor: pointer;display: block;width: 100%;margin-bottom: 0;padding: 0.3em;box-sizing: border-box;text-align: center;}#sk-container-id-1 label.sk-toggleable__label-arrow:before {content: \"▸\";float: left;margin-right: 0.25em;color: #696969;}#sk-container-id-1 label.sk-toggleable__label-arrow:hover:before {color: black;}#sk-container-id-1 div.sk-estimator:hover label.sk-toggleable__label-arrow:before {color: black;}#sk-container-id-1 div.sk-toggleable__content {max-height: 0;max-width: 0;overflow: hidden;text-align: left;background-color: #f0f8ff;}#sk-container-id-1 div.sk-toggleable__content pre {margin: 0.2em;color: black;border-radius: 0.25em;background-color: #f0f8ff;}#sk-container-id-1 input.sk-toggleable__control:checked~div.sk-toggleable__content {max-height: 200px;max-width: 100%;overflow: auto;}#sk-container-id-1 input.sk-toggleable__control:checked~label.sk-toggleable__label-arrow:before {content: \"▾\";}#sk-container-id-1 div.sk-estimator input.sk-toggleable__control:checked~label.sk-toggleable__label {background-color: #d4ebff;}#sk-container-id-1 div.sk-label input.sk-toggleable__control:checked~label.sk-toggleable__label {background-color: #d4ebff;}#sk-container-id-1 input.sk-hidden--visually {border: 0;clip: rect(1px 1px 1px 1px);clip: rect(1px, 1px, 1px, 1px);height: 1px;margin: -1px;overflow: hidden;padding: 0;position: absolute;width: 1px;}#sk-container-id-1 div.sk-estimator {font-family: monospace;background-color: #f0f8ff;border: 1px dotted black;border-radius: 0.25em;box-sizing: border-box;margin-bottom: 0.5em;}#sk-container-id-1 div.sk-estimator:hover {background-color: #d4ebff;}#sk-container-id-1 div.sk-parallel-item::after {content: \"\";width: 100%;border-bottom: 1px solid gray;flex-grow: 1;}#sk-container-id-1 div.sk-label:hover label.sk-toggleable__label {background-color: #d4ebff;}#sk-container-id-1 div.sk-serial::before {content: \"\";position: absolute;border-left: 1px solid gray;box-sizing: border-box;top: 0;bottom: 0;left: 50%;z-index: 0;}#sk-container-id-1 div.sk-serial {display: flex;flex-direction: column;align-items: center;background-color: white;padding-right: 0.2em;padding-left: 0.2em;position: relative;}#sk-container-id-1 div.sk-item {position: relative;z-index: 1;}#sk-container-id-1 div.sk-parallel {display: flex;align-items: stretch;justify-content: center;background-color: white;position: relative;}#sk-container-id-1 div.sk-item::before, #sk-container-id-1 div.sk-parallel-item::before {content: \"\";position: absolute;border-left: 1px solid gray;box-sizing: border-box;top: 0;bottom: 0;left: 50%;z-index: -1;}#sk-container-id-1 div.sk-parallel-item {display: flex;flex-direction: column;z-index: 1;position: relative;background-color: white;}#sk-container-id-1 div.sk-parallel-item:first-child::after {align-self: flex-end;width: 50%;}#sk-container-id-1 div.sk-parallel-item:last-child::after {align-self: flex-start;width: 50%;}#sk-container-id-1 div.sk-parallel-item:only-child::after {width: 0;}#sk-container-id-1 div.sk-dashed-wrapped {border: 1px dashed gray;margin: 0 0.4em 0.5em 0.4em;box-sizing: border-box;padding-bottom: 0.4em;background-color: white;}#sk-container-id-1 div.sk-label label {font-family: monospace;font-weight: bold;display: inline-block;line-height: 1.2em;}#sk-container-id-1 div.sk-label-container {text-align: center;}#sk-container-id-1 div.sk-container {/* jupyter's `normalize.less` sets `[hidden] { display: none; }` but bootstrap.min.css set `[hidden] { display: none !important; }` so we also need the `!important` here to be able to override the default hidden behavior on the sphinx rendered scikit-learn.org. See: https://github.com/scikit-learn/scikit-learn/issues/21755 */display: inline-block !important;position: relative;}#sk-container-id-1 div.sk-text-repr-fallback {display: none;}</style><div id=\"sk-container-id-1\" class=\"sk-top-container\"><div class=\"sk-text-repr-fallback\"><pre>AutoML(algorithms=[&#x27;Random Forest&#x27;, &#x27;LightGBM&#x27;, &#x27;Xgboost&#x27;, &#x27;CatBoost&#x27;],\n",
       "       eval_metric=&#x27;rmse&#x27;, explain_level=2, ml_task=&#x27;regression&#x27;,\n",
       "       mode=&#x27;Perform&#x27;, random_state=42,\n",
       "       results_path=&#x27;./AutoML_003_preprocessed/&#x27;, total_time_limit=60000)</pre><b>In a Jupyter environment, please rerun this cell to show the HTML representation or trust the notebook. <br />On GitHub, the HTML representation is unable to render, please try loading this page with nbviewer.org.</b></div><div class=\"sk-container\" hidden><div class=\"sk-item\"><div class=\"sk-estimator sk-toggleable\"><input class=\"sk-toggleable__control sk-hidden--visually\" id=\"sk-estimator-id-1\" type=\"checkbox\" checked><label for=\"sk-estimator-id-1\" class=\"sk-toggleable__label sk-toggleable__label-arrow\">AutoML</label><div class=\"sk-toggleable__content\"><pre>AutoML(algorithms=[&#x27;Random Forest&#x27;, &#x27;LightGBM&#x27;, &#x27;Xgboost&#x27;, &#x27;CatBoost&#x27;],\n",
       "       eval_metric=&#x27;rmse&#x27;, explain_level=2, ml_task=&#x27;regression&#x27;,\n",
       "       mode=&#x27;Perform&#x27;, random_state=42,\n",
       "       results_path=&#x27;./AutoML_003_preprocessed/&#x27;, total_time_limit=60000)</pre></div></div></div></div></div>"
      ],
      "text/plain": [
       "AutoML(algorithms=['Random Forest', 'LightGBM', 'Xgboost', 'CatBoost'],\n",
       "       eval_metric='rmse', explain_level=2, ml_task='regression',\n",
       "       mode='Perform', random_state=42,\n",
       "       results_path='./AutoML_003_preprocessed/', total_time_limit=60000)"
      ]
     },
     "execution_count": 44,
     "metadata": {},
     "output_type": "execute_result"
    }
   ],
   "source": [
    "automl.fit(train_x, train_y)"
   ]
  },
  {
   "cell_type": "code",
   "execution_count": 45,
   "id": "38ced85f",
   "metadata": {
    "ExecuteTime": {
     "end_time": "2023-12-08T10:28:16.214196Z",
     "start_time": "2023-12-08T10:28:15.374365Z"
    },
    "id": "38ced85f"
   },
   "outputs": [],
   "source": [
    "pred = automl.predict(test_x)"
   ]
  },
  {
   "cell_type": "markdown",
   "id": "b712b5fa-db4b-439e-9ac6-63a243156c8a",
   "metadata": {
    "id": "b712b5fa-db4b-439e-9ac6-63a243156c8a"
   },
   "source": [
    "## 제출"
   ]
  },
  {
   "cell_type": "code",
   "execution_count": 55,
   "id": "7ccdf382",
   "metadata": {
    "ExecuteTime": {
     "end_time": "2023-12-08T10:43:11.973332Z",
     "start_time": "2023-12-08T10:43:11.943464Z"
    },
    "id": "7ccdf382"
   },
   "outputs": [],
   "source": [
    "submission = pd.read_csv(path+'sample_submission.csv')"
   ]
  },
  {
   "cell_type": "code",
   "execution_count": 56,
   "id": "053b6fb3",
   "metadata": {
    "ExecuteTime": {
     "end_time": "2023-12-08T10:43:12.819215Z",
     "start_time": "2023-12-08T10:43:12.803468Z"
    },
    "id": "053b6fb3"
   },
   "outputs": [],
   "source": [
    "submission['ECLO'] = np.expm1(np.expm1(pred))"
   ]
  },
  {
   "cell_type": "code",
   "execution_count": 57,
   "id": "11fb21af",
   "metadata": {
    "ExecuteTime": {
     "end_time": "2023-12-08T10:43:13.658110Z",
     "start_time": "2023-12-08T10:43:13.633739Z"
    },
    "id": "11fb21af"
   },
   "outputs": [],
   "source": [
    "submission.loc[ submission['ECLO'] < 0.0, 'ECLO'] = 0.0"
   ]
  },
  {
   "cell_type": "code",
   "execution_count": 58,
   "id": "ad53d39e",
   "metadata": {
    "ExecuteTime": {
     "end_time": "2023-12-08T10:43:14.389241Z",
     "start_time": "2023-12-08T10:43:14.367375Z"
    },
    "id": "ad53d39e",
    "outputId": "3d32d49a-d715-4a2f-ba0a-a453824ace96"
   },
   "outputs": [
    {
     "data": {
      "text/plain": [
       "2.6109911763989557"
      ]
     },
     "execution_count": 58,
     "metadata": {},
     "output_type": "execute_result"
    }
   ],
   "source": [
    "min(submission['ECLO'])"
   ]
  },
  {
   "cell_type": "code",
   "execution_count": 54,
   "id": "f131e64f",
   "metadata": {
    "ExecuteTime": {
     "end_time": "2023-12-08T10:42:57.549537Z",
     "start_time": "2023-12-08T10:42:57.537449Z"
    }
   },
   "outputs": [
    {
     "data": {
      "text/plain": [
       "array([3.68068757, 3.34549998, 4.6282194 , ..., 4.63318312, 4.46813835,\n",
       "       4.44136121])"
      ]
     },
     "execution_count": 54,
     "metadata": {},
     "output_type": "execute_result"
    }
   ],
   "source": [
    "np.expm1(np.expm1(pred))"
   ]
  },
  {
   "cell_type": "code",
   "execution_count": 59,
   "id": "hcQ4JFVReWcj",
   "metadata": {
    "ExecuteTime": {
     "end_time": "2023-12-08T10:43:15.894046Z",
     "start_time": "2023-12-08T10:43:15.869284Z"
    },
    "id": "hcQ4JFVReWcj"
   },
   "outputs": [
    {
     "data": {
      "text/html": [
       "<div>\n",
       "<style scoped>\n",
       "    .dataframe tbody tr th:only-of-type {\n",
       "        vertical-align: middle;\n",
       "    }\n",
       "\n",
       "    .dataframe tbody tr th {\n",
       "        vertical-align: top;\n",
       "    }\n",
       "\n",
       "    .dataframe thead th {\n",
       "        text-align: right;\n",
       "    }\n",
       "</style>\n",
       "<table border=\"1\" class=\"dataframe\">\n",
       "  <thead>\n",
       "    <tr style=\"text-align: right;\">\n",
       "      <th></th>\n",
       "      <th>ID</th>\n",
       "      <th>ECLO</th>\n",
       "    </tr>\n",
       "  </thead>\n",
       "  <tbody>\n",
       "    <tr>\n",
       "      <th>0</th>\n",
       "      <td>ACCIDENT_39609</td>\n",
       "      <td>3.680688</td>\n",
       "    </tr>\n",
       "    <tr>\n",
       "      <th>1</th>\n",
       "      <td>ACCIDENT_39610</td>\n",
       "      <td>3.345500</td>\n",
       "    </tr>\n",
       "    <tr>\n",
       "      <th>2</th>\n",
       "      <td>ACCIDENT_39611</td>\n",
       "      <td>4.628219</td>\n",
       "    </tr>\n",
       "    <tr>\n",
       "      <th>3</th>\n",
       "      <td>ACCIDENT_39612</td>\n",
       "      <td>4.028034</td>\n",
       "    </tr>\n",
       "    <tr>\n",
       "      <th>4</th>\n",
       "      <td>ACCIDENT_39613</td>\n",
       "      <td>4.325003</td>\n",
       "    </tr>\n",
       "    <tr>\n",
       "      <th>...</th>\n",
       "      <td>...</td>\n",
       "      <td>...</td>\n",
       "    </tr>\n",
       "    <tr>\n",
       "      <th>10958</th>\n",
       "      <td>ACCIDENT_50567</td>\n",
       "      <td>4.703836</td>\n",
       "    </tr>\n",
       "    <tr>\n",
       "      <th>10959</th>\n",
       "      <td>ACCIDENT_50568</td>\n",
       "      <td>4.142955</td>\n",
       "    </tr>\n",
       "    <tr>\n",
       "      <th>10960</th>\n",
       "      <td>ACCIDENT_50569</td>\n",
       "      <td>4.633183</td>\n",
       "    </tr>\n",
       "    <tr>\n",
       "      <th>10961</th>\n",
       "      <td>ACCIDENT_50570</td>\n",
       "      <td>4.468138</td>\n",
       "    </tr>\n",
       "    <tr>\n",
       "      <th>10962</th>\n",
       "      <td>ACCIDENT_50571</td>\n",
       "      <td>4.441361</td>\n",
       "    </tr>\n",
       "  </tbody>\n",
       "</table>\n",
       "<p>10963 rows × 2 columns</p>\n",
       "</div>"
      ],
      "text/plain": [
       "                   ID      ECLO\n",
       "0      ACCIDENT_39609  3.680688\n",
       "1      ACCIDENT_39610  3.345500\n",
       "2      ACCIDENT_39611  4.628219\n",
       "3      ACCIDENT_39612  4.028034\n",
       "4      ACCIDENT_39613  4.325003\n",
       "...               ...       ...\n",
       "10958  ACCIDENT_50567  4.703836\n",
       "10959  ACCIDENT_50568  4.142955\n",
       "10960  ACCIDENT_50569  4.633183\n",
       "10961  ACCIDENT_50570  4.468138\n",
       "10962  ACCIDENT_50571  4.441361\n",
       "\n",
       "[10963 rows x 2 columns]"
      ]
     },
     "execution_count": 59,
     "metadata": {},
     "output_type": "execute_result"
    }
   ],
   "source": [
    "submission"
   ]
  },
  {
   "cell_type": "code",
   "execution_count": 60,
   "id": "31606475",
   "metadata": {
    "ExecuteTime": {
     "end_time": "2023-12-08T10:43:29.003135Z",
     "start_time": "2023-12-08T10:43:28.956326Z"
    },
    "id": "31606475"
   },
   "outputs": [],
   "source": [
    "# submission.to_csv('submit.csv', index=False)\n",
    "\n",
    "submit_path = \"../data/submits/automl_1208_001_preprocessed_double_expm1.csv\"\n",
    "submission.to_csv(submit_path, index=False)"
   ]
  },
  {
   "cell_type": "code",
   "execution_count": 61,
   "id": "451d1e07",
   "metadata": {
    "ExecuteTime": {
     "end_time": "2023-12-08T10:43:50.754002Z",
     "start_time": "2023-12-08T10:43:33.142712Z"
    },
    "id": "451d1e07",
    "outputId": "0ed1ec89-ea86-40e9-a02d-cbd501f451e3"
   },
   "outputs": [
    {
     "name": "stdout",
     "output_type": "stream",
     "text": [
      "{'isSubmitted': True, 'detail': 'Success'}\n"
     ]
    }
   ],
   "source": [
    "# # 데이콘 api 제출\n",
    "\n",
    "# from dacon_submit_api import dacon_submit_api\n",
    "\n",
    "# result = dacon_submit_api.post_submission_file(\n",
    "#   submit_path,  # 제출 파일의 저장경로\n",
    "#   '99e503e9d7311db9f4167d982d5823d7ef9427cc628aa63b96cf79d2920ba916', # API 토큰\n",
    "#   '236193', # 대구공모전 ID\n",
    "#   'song999', # 맘대루\n",
    "#   '12.08 - 001. automl_preprocessing_finished' )  # 제출 메모"
   ]
  },
  {
   "cell_type": "code",
   "execution_count": null,
   "id": "30f95ae4",
   "metadata": {},
   "outputs": [],
   "source": []
  },
  {
   "cell_type": "code",
   "execution_count": null,
   "id": "0c684519-ed25-4fea-98b3-522a12e37672",
   "metadata": {
    "id": "0c684519-ed25-4fea-98b3-522a12e37672"
   },
   "outputs": [],
   "source": []
  }
 ],
 "metadata": {
  "colab": {
   "provenance": []
  },
  "kernelspec": {
   "display_name": "Python 3 (ipykernel)",
   "language": "python",
   "name": "python3"
  },
  "language_info": {
   "codemirror_mode": {
    "name": "ipython",
    "version": 3
   },
   "file_extension": ".py",
   "mimetype": "text/x-python",
   "name": "python",
   "nbconvert_exporter": "python",
   "pygments_lexer": "ipython3",
   "version": "3.9.6"
  },
  "toc": {
   "base_numbering": 1,
   "nav_menu": {},
   "number_sections": false,
   "sideBar": true,
   "skip_h1_title": false,
   "title_cell": "Table of Contents",
   "title_sidebar": "Contents",
   "toc_cell": false,
   "toc_position": {},
   "toc_section_display": true,
   "toc_window_display": false
  }
 },
 "nbformat": 4,
 "nbformat_minor": 5
}
