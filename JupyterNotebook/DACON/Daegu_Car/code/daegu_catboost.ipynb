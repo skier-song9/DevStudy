{
 "cells": [
  {
   "cell_type": "code",
   "execution_count": 1,
   "id": "e92516d7",
   "metadata": {
    "ExecuteTime": {
     "end_time": "2023-11-27T02:50:15.800280Z",
     "start_time": "2023-11-27T02:50:08.018921Z"
    }
   },
   "outputs": [],
   "source": [
    "# from pycaret.time_series import *\n",
    "\n",
    "import pandas as pd\n",
    "from pandas import Series, DataFrame\n",
    "import numpy as np\n",
    "import category_encoders as ce\n",
    "\n",
    "# Visualization\n",
    "import matplotlib.pylab as plt\n",
    "from matplotlib import font_manager, rc\n",
    "import matplotlib\n",
    "import seaborn as sns\n",
    "import plotly.express as px\n",
    "%matplotlib inline\n",
    "matplotlib.rcParams['font.family'] = 'Malgun Gothic' # 한글 패치\n",
    "# Preprocessing & Feature Engineering\n",
    "from sklearn.model_selection import train_test_split\n",
    "from sklearn.preprocessing import MinMaxScaler, LabelEncoder\n",
    "from sklearn.impute import SimpleImputer \n",
    "from sklearn.preprocessing import StandardScaler\n",
    "from sklearn.preprocessing import MinMaxScaler\n",
    "from sklearn.preprocessing import PowerTransformer\n",
    "from sklearn.feature_selection import SelectPercentile\n",
    "\n",
    "# Hyperparameter Optimization\n",
    "from sklearn.model_selection import GridSearchCV\n",
    "from sklearn.model_selection import RandomizedSearchCV\n",
    "\n",
    "# Modeling\n",
    "from sklearn.dummy import DummyClassifier\n",
    "from sklearn.linear_model import LogisticRegression\n",
    "from sklearn.neighbors import KNeighborsClassifier\n",
    "from sklearn.ensemble import RandomForestClassifier\n",
    "from sklearn.neural_network import MLPClassifier\n",
    "from sklearn.tree import DecisionTreeClassifier\n",
    "from sklearn.ensemble import ExtraTreesClassifier\n",
    "from sklearn.ensemble import GradientBoostingClassifier\n",
    "from xgboost import XGBClassifier, XGBRegressor, XGBRFRegressor\n",
    "from lightgbm import LGBMClassifier\n",
    "from sklearn.svm import SVC\n",
    "from sklearn.ensemble import VotingClassifier\n",
    "from sklearn.ensemble import StackingClassifier\n",
    "from sklearn.base import ClassifierMixin\n",
    "\n",
    "# CatBoost\n",
    "from catboost import CatBoostRegressor\n",
    "\n",
    "# PyTorch\n",
    "# import torch\n",
    "# from torch.utils.data import Dataset, DataLoader, TensorDataset\n",
    "# import torch.nn as nn\n",
    "# import torch.nn.functional as F\n",
    "# import torch.optim as optim\n",
    "# from torch.autograd import Variable\n",
    "# from torch.nn import Parameter\n",
    "# from torch import Tensor\n",
    "# from torch.utils.data import DataLoader\n",
    "\n",
    "# Evaluation\n",
    "from sklearn.metrics import roc_auc_score\n",
    "from sklearn.metrics import accuracy_score\n",
    "from sklearn.model_selection import cross_val_score\n",
    "from sklearn.metrics import log_loss\n",
    "\n",
    "# Utility\n",
    "import os\n",
    "import time\n",
    "import datetime\n",
    "import random\n",
    "import warnings; warnings.filterwarnings(\"ignore\")\n",
    "from IPython.display import Image\n",
    "import pickle\n",
    "from tqdm import tqdm\n",
    "import platform\n",
    "from itertools import combinations\n",
    "from scipy.stats.mstats import gmean\n",
    "import holidays\n",
    "\n",
    "# from bayes_opt import BayesianOptimization\n",
    "# from num2words import num2words\n",
    "import statsmodels.api as sm\n",
    "import statsmodels.formula.api as smf\n",
    "from statsmodels.stats.outliers_influence import OLSInfluence"
   ]
  },
  {
   "cell_type": "code",
   "execution_count": 2,
   "id": "ccd2ec5f",
   "metadata": {
    "ExecuteTime": {
     "end_time": "2023-11-27T02:50:15.816143Z",
     "start_time": "2023-11-27T02:50:15.802281Z"
    }
   },
   "outputs": [],
   "source": [
    "def seed_everything(seed):\n",
    "    random.seed(seed)\n",
    "    os.environ['PYTHONHASHSEED'] = str(seed)\n",
    "    np.random.seed(seed)\n",
    "\n",
    "seed_everything(2023)\n",
    "\n",
    "import warnings\n",
    "warnings.filterwarnings('ignore')"
   ]
  },
  {
   "cell_type": "markdown",
   "id": "3e2eedd9",
   "metadata": {},
   "source": [
    "### target\n",
    " ECLO(Equivalent Casualty Loss Only) : 인명피해 심각도\n",
    "\n",
    "ECLO = 사망자수 * 10 + 중상자수 * 5 + 경상자수 * 3 + 부상자수 * 1\n",
    "본 대회에서는 사고의 위험도를 인명피해 심각도로 측정\n",
    "\n",
    "### 사고유형\n",
    "- 충돌 : 다른 방향에서 달리는 차끼리 부딪힘\n",
    "- 추돌 : 같은 방향으로 달리는 차끼리 부딪힘\n",
    "- 전복 : 180도 뒤집어짐 >> 차의 윗면이 바닥에 닿음\n",
    "- 전도 : 90도 뒤집어짐 >> 차의 측면이 바닥에 닿음\n",
    "\n",
    "### 도로형태\n",
    "- '단일로 \n",
    "    - '기타' , 터널' , 지하차도(도로)내 , 교량 , 고가도로위\n",
    "- '교차로 \n",
    "    - 교차로안', 교차로횡단보도내 , 교차로부근\n",
    "- '기타 \n",
    "    - 기타', \n",
    "- '주차장 - 주차장\n",
    "- '미분류 - 미분류'\n",
    "\n",
    "### 주차장 급지구분\n",
    "- 1,2,3 급지가 있음. -> merge한 거는 시군구별 해당 급지의 주차장 개수 합임\n",
    "- 1급지 = 철도 환승역 300m, 단일역 100m 이내\n",
    "- 2급지 = \" 500m, \" 300m 이내\n",
    "- 3급지 = 그외\n",
    "> 1급지일수록 좋은 주차장\n",
    "\n",
    "### Insights\n",
    "1. 공휴일 및 주말에 높다\n",
    "2.  사고 시간대(20~03시)에높다\n",
    "3.  연도에 따른 평균값은 낮아지는 추세이다\n",
    "4.  가해자가 젊을수록 과속을 많이한다+ 속도에 대한 법규위반일수록 eclo가 높다\n",
    "5.  특정 동에서 사고가 많이 발생하는데 도로형태(고속도로?)와 관련되어 있을 수 있다\n",
    "    - 단일로 중에서 (터널, 고가도로) 처럼 '과속' 가능성이 높은 도로형태에서 평균 ECLO가 최상위권, 나머지 단일로는 평균이 낮음\n",
    "    - 교차로는 전체 평균 eclo가 5점대로 중상위권.  \n",
    "6.  나머지는 eda ㅋㄷ공유 참고\n"
   ]
  },
  {
   "cell_type": "code",
   "execution_count": 21,
   "id": "fc69cae2",
   "metadata": {
    "ExecuteTime": {
     "end_time": "2023-11-27T04:44:25.003582Z",
     "start_time": "2023-11-27T04:44:24.850544Z"
    }
   },
   "outputs": [],
   "source": [
    "path = '../data/daegu/'\n",
    "train_org = pd.read_csv(path+'train.csv')\n",
    "test_org = pd.read_csv(path+'test.csv')\n",
    "submit = pd.read_csv(path+'sample_submission.csv')"
   ]
  },
  {
   "cell_type": "code",
   "execution_count": 22,
   "id": "d93580a9",
   "metadata": {
    "ExecuteTime": {
     "end_time": "2023-11-27T04:44:26.458283Z",
     "start_time": "2023-11-27T04:44:26.112087Z"
    }
   },
   "outputs": [],
   "source": [
    "# Baseline code 2\n",
    "### train, test의 시간정보와 공간정보를 분류하고\n",
    "### 공간정보를 기준으로 위에서 만든 데이터셋과 merge\n",
    "\n",
    "train_df = train_org.copy()\n",
    "test_df = test_org.copy()\n",
    "\n",
    "time_pattern = r'(\\d{4})-(\\d{1,2})-(\\d{1,2}) (\\d{1,2})'\n",
    "\n",
    "train_df[['연', '월', '일', '시간']] = train_org['사고일시'].str.extract(time_pattern)\n",
    "train_df[['연', '월', '일', '시간']] = train_df[['연', '월', '일', '시간']].apply(pd.to_numeric) # 추출된 문자열을 수치화해줍니다\n",
    "train_df = train_df.drop(columns=['사고일시']) # 정보 추출이 완료된 '사고일시' 컬럼은 제거합니다\n",
    "\n",
    "# 해당 과정을 test_x에 대해서도 반복해줍니다\n",
    "test_df[['연', '월', '일', '시간']] = test_org['사고일시'].str.extract(time_pattern)\n",
    "test_df[['연', '월', '일', '시간']] = test_df[['연', '월', '일', '시간']].apply(pd.to_numeric)\n",
    "test_df = test_df.drop(columns=['사고일시'])\n",
    "\n",
    "location_pattern = r'(\\S+) (\\S+) (\\S+)'\n",
    "\n",
    "train_df[['도시', '구', '동']] = train_org['시군구'].str.extract(location_pattern)\n",
    "train_df = train_df.drop(columns=['시군구'])\n",
    "\n",
    "test_df[['도시', '구', '동']] = test_org['시군구'].str.extract(location_pattern)\n",
    "test_df = test_df.drop(columns=['시군구'])\n",
    "\n",
    "# 도로형태 나누지 말자.\n",
    "# road_pattern = r'(.+) - (.+)'\n",
    "\n",
    "# train_df[['도로형태1', '도로형태2']] = train_org['도로형태'].str.extract(road_pattern)\n",
    "# train_df = train_df.drop(columns=['도로형태'])\n",
    "\n",
    "# test_df[['도로형태1', '도로형태2']] = test_org['도로형태'].str.extract(road_pattern)\n",
    "# test_df = test_df.drop(columns=['도로형태'])"
   ]
  },
  {
   "cell_type": "code",
   "execution_count": 23,
   "id": "569cf478",
   "metadata": {
    "ExecuteTime": {
     "end_time": "2023-11-27T04:44:28.089859Z",
     "start_time": "2023-11-27T04:44:27.658234Z"
    }
   },
   "outputs": [],
   "source": [
    "# Baseline code 1\n",
    "### 보안등, 어린이 보호구역, 주차장 정보를 주소 기준으로 분류\n",
    "light_df = pd.read_csv(path+'external_open/대구 보안등 정보.csv', encoding='cp949')[['설치개수', '소재지지번주소']]\n",
    "location_pattern = r'(\\S+) (\\S+) (\\S+) (\\S+)'\n",
    "light_df[['도시', '구', '동', '번지']] = light_df['소재지지번주소'].str.extract(location_pattern)\n",
    "light_df = light_df.drop(columns=['소재지지번주소', '번지'])\n",
    "light_df = light_df.groupby(['도시', '구', '동']).sum().reset_index()\n",
    "light_df.reset_index(inplace=True, drop=True)\n",
    "light_df = light_df.rename({'설치개수':'보안등개수'})\n",
    "train_df = pd.merge(train_df, light_df, how='left', on=['도시', '구', '동'])\n",
    "test_df = pd.merge(test_df, light_df, how='left', on=['도시', '구', '동'])"
   ]
  },
  {
   "cell_type": "code",
   "execution_count": 25,
   "id": "9eced2d8",
   "metadata": {
    "ExecuteTime": {
     "end_time": "2023-11-27T04:46:41.101697Z",
     "start_time": "2023-11-27T04:46:41.056230Z"
    }
   },
   "outputs": [],
   "source": [
    "child_area_df = pd.read_csv(path+'external_open/대구 어린이 보호 구역 정보.csv', encoding='cp949').drop_duplicates()[['소재지지번주소']]\n",
    "child_area_df['cnt'] = 1\n",
    "location_pattern = r'(\\S+) (\\S+) (\\S+) (\\S+)'\n",
    "child_area_df[['도시', '구', '동', '번지']] = child_area_df['소재지지번주소'].str.extract(location_pattern)\n",
    "child_area_df = child_area_df.drop(columns=['소재지지번주소', '번지'])\n",
    "child_area_df = child_area_df.groupby(['도시', '구', '동']).sum().reset_index()\n",
    "child_area_df.reset_index(inplace=True, drop=True)\n",
    "train_df = pd.merge(train_df, child_area_df, how='left', on=['도시', '구', '동'])\n",
    "test_df = pd.merge(test_df, child_area_df, how='left', on=['도시', '구', '동'])"
   ]
  },
  {
   "cell_type": "code",
   "execution_count": 27,
   "id": "135f558d",
   "metadata": {
    "ExecuteTime": {
     "end_time": "2023-11-27T05:16:39.150700Z",
     "start_time": "2023-11-27T05:16:39.103138Z"
    }
   },
   "outputs": [],
   "source": [
    "### ??? 주차장 정보가 필요할까? \n",
    "# 가설 : 주차장이 많을수록 도로변 \"불법주정차\" 수가 줄어 \n",
    "# 시야 확보에 도움이 될 수 있다. -> ECLO가 낮을 것\n",
    "# 📢가설 기각... 의미 없음.\n",
    "parking_df = pd.read_csv(path+'external_open/대구 주차장 정보.csv', encoding='cp949')[['소재지지번주소', '급지구분']]\n",
    "parking_df = pd.get_dummies(parking_df, columns=['급지구분'])\n",
    "location_pattern = r'(\\S+) (\\S+) (\\S+) (\\S+)'\n",
    "parking_df[['도시', '구', '동', '번지']] = parking_df['소재지지번주소'].str.extract(location_pattern)\n",
    "parking_df = parking_df.drop(columns=['소재지지번주소', '번지'])\n",
    "parking_df = parking_df.groupby(['도시', '구', '동']).sum().reset_index()\n",
    "parking_df.reset_index(inplace=True, drop=True)\n",
    "train_df = pd.merge(train_df, parking_df, how='left', on=['도시', '구', '동'])\n",
    "test_df = pd.merge(test_df, parking_df, how='left', on=['도시', '구', '동'])"
   ]
  },
  {
   "cell_type": "code",
   "execution_count": 26,
   "id": "fd107f34",
   "metadata": {
    "ExecuteTime": {
     "end_time": "2023-11-27T04:46:50.874194Z",
     "start_time": "2023-11-27T04:46:50.864481Z"
    }
   },
   "outputs": [
    {
     "data": {
      "text/plain": [
       "(Index(['ID', '요일', '기상상태', '도로형태', '노면상태', '사고유형', '사고유형 - 세부분류', '법규위반',\n",
       "        '가해운전자 차종', '가해운전자 성별', '가해운전자 연령', '가해운전자 상해정도', '피해운전자 차종',\n",
       "        '피해운전자 성별', '피해운전자 연령', '피해운전자 상해정도', '사망자수', '중상자수', '경상자수', '부상자수',\n",
       "        'ECLO', '연', '월', '일', '시간', '도시', '구', '동', '설치개수', '급지구분_1', '급지구분_2',\n",
       "        '급지구분_3', 'cnt'],\n",
       "       dtype='object'),\n",
       " Index(['ID', '사고일시', '요일', '기상상태', '시군구', '도로형태', '노면상태', '사고유형',\n",
       "        '사고유형 - 세부분류', '법규위반', '가해운전자 차종', '가해운전자 성별', '가해운전자 연령', '가해운전자 상해정도',\n",
       "        '피해운전자 차종', '피해운전자 성별', '피해운전자 연령', '피해운전자 상해정도', '사망자수', '중상자수',\n",
       "        '경상자수', '부상자수', 'ECLO'],\n",
       "       dtype='object'))"
      ]
     },
     "execution_count": 26,
     "metadata": {},
     "output_type": "execute_result"
    }
   ],
   "source": [
    "train_df.columns, train_org.columns"
   ]
  },
  {
   "cell_type": "code",
   "execution_count": 7,
   "id": "e9a6ec7d",
   "metadata": {
    "ExecuteTime": {
     "end_time": "2023-11-27T02:50:19.098374Z",
     "start_time": "2023-11-27T02:50:19.061809Z"
    }
   },
   "outputs": [
    {
     "name": "stdout",
     "output_type": "stream",
     "text": [
      "<class 'pandas.core.frame.DataFrame'>\n",
      "RangeIndex: 39609 entries, 0 to 39608\n",
      "Data columns (total 34 columns):\n",
      " #   Column       Non-Null Count  Dtype  \n",
      "---  ------       --------------  -----  \n",
      " 0   ID           39609 non-null  object \n",
      " 1   요일           39609 non-null  object \n",
      " 2   기상상태         39609 non-null  object \n",
      " 3   노면상태         39609 non-null  object \n",
      " 4   사고유형         39609 non-null  object \n",
      " 5   사고유형 - 세부분류  39609 non-null  object \n",
      " 6   법규위반         39609 non-null  object \n",
      " 7   가해운전자 차종     39609 non-null  object \n",
      " 8   가해운전자 성별     39609 non-null  object \n",
      " 9   가해운전자 연령     39609 non-null  object \n",
      " 10  가해운전자 상해정도   39609 non-null  object \n",
      " 11  피해운전자 차종     38618 non-null  object \n",
      " 12  피해운전자 성별     38618 non-null  object \n",
      " 13  피해운전자 연령     38618 non-null  object \n",
      " 14  피해운전자 상해정도   38618 non-null  object \n",
      " 15  사망자수         39609 non-null  int64  \n",
      " 16  중상자수         39609 non-null  int64  \n",
      " 17  경상자수         39609 non-null  int64  \n",
      " 18  부상자수         39609 non-null  int64  \n",
      " 19  ECLO         39609 non-null  int64  \n",
      " 20  연            39609 non-null  int64  \n",
      " 21  월            39609 non-null  int64  \n",
      " 22  일            39609 non-null  int64  \n",
      " 23  시간           39609 non-null  int64  \n",
      " 24  도시           39609 non-null  object \n",
      " 25  구            39609 non-null  object \n",
      " 26  동            39609 non-null  object \n",
      " 27  도로형태1        39609 non-null  object \n",
      " 28  도로형태2        39609 non-null  object \n",
      " 29  설치개수         30096 non-null  float64\n",
      " 30  cnt          21183 non-null  float64\n",
      " 31  급지구분_1       33066 non-null  float64\n",
      " 32  급지구분_2       33066 non-null  float64\n",
      " 33  급지구분_3       33066 non-null  float64\n",
      "dtypes: float64(5), int64(9), object(20)\n",
      "memory usage: 10.3+ MB\n"
     ]
    }
   ],
   "source": [
    "train_df.info()"
   ]
  },
  {
   "cell_type": "code",
   "execution_count": null,
   "id": "eb3145a6",
   "metadata": {},
   "outputs": [],
   "source": []
  },
  {
   "cell_type": "code",
   "execution_count": null,
   "id": "90d92d9f",
   "metadata": {},
   "outputs": [],
   "source": []
  },
  {
   "cell_type": "code",
   "execution_count": null,
   "id": "aa628df2",
   "metadata": {},
   "outputs": [],
   "source": []
  },
  {
   "cell_type": "code",
   "execution_count": null,
   "id": "44f797cc",
   "metadata": {},
   "outputs": [],
   "source": []
  },
  {
   "cell_type": "code",
   "execution_count": null,
   "id": "ab95fa76",
   "metadata": {},
   "outputs": [],
   "source": []
  },
  {
   "cell_type": "code",
   "execution_count": null,
   "id": "9b9a7aba",
   "metadata": {},
   "outputs": [],
   "source": []
  },
  {
   "cell_type": "code",
   "execution_count": null,
   "id": "8a62438a",
   "metadata": {},
   "outputs": [],
   "source": []
  },
  {
   "cell_type": "code",
   "execution_count": null,
   "id": "1cc667fc",
   "metadata": {},
   "outputs": [],
   "source": []
  },
  {
   "cell_type": "code",
   "execution_count": null,
   "id": "d48f8d84",
   "metadata": {},
   "outputs": [],
   "source": []
  },
  {
   "cell_type": "code",
   "execution_count": null,
   "id": "95612f48",
   "metadata": {},
   "outputs": [],
   "source": []
  }
 ],
 "metadata": {
  "kernelspec": {
   "display_name": "Python 3 (ipykernel)",
   "language": "python",
   "name": "python3"
  },
  "language_info": {
   "codemirror_mode": {
    "name": "ipython",
    "version": 3
   },
   "file_extension": ".py",
   "mimetype": "text/x-python",
   "name": "python",
   "nbconvert_exporter": "python",
   "pygments_lexer": "ipython3",
   "version": "3.9.6"
  },
  "toc": {
   "base_numbering": 1,
   "nav_menu": {},
   "number_sections": false,
   "sideBar": true,
   "skip_h1_title": false,
   "title_cell": "Table of Contents",
   "title_sidebar": "Contents",
   "toc_cell": false,
   "toc_position": {},
   "toc_section_display": true,
   "toc_window_display": false
  }
 },
 "nbformat": 4,
 "nbformat_minor": 5
}
