{
 "cells": [
  {
   "cell_type": "code",
   "execution_count": 1,
   "metadata": {
    "ExecuteTime": {
     "end_time": "2023-12-06T18:49:07.496062Z",
     "start_time": "2023-12-06T18:49:02.316826Z"
    },
    "executionInfo": {
     "elapsed": 335,
     "status": "ok",
     "timestamp": 1701200384624,
     "user": {
      "displayName": "서은서",
      "userId": "08795597860961939533"
     },
     "user_tz": -540
    },
    "id": "0p1wWUpS_5Ea"
   },
   "outputs": [],
   "source": [
    "# from pycaret.time_series import *\n",
    "\n",
    "import pandas as pd\n",
    "from pandas import Series, DataFrame\n",
    "import numpy as np\n",
    "import category_encoders as ce\n",
    "\n",
    "# Visualization\n",
    "import matplotlib.pylab as plt\n",
    "from matplotlib import font_manager, rc\n",
    "import matplotlib\n",
    "import seaborn as sns\n",
    "# import plotly.express as px\n",
    "%matplotlib inline\n",
    "matplotlib.rcParams['font.family'] = 'Malgun Gothic' # 한글 패치\n",
    "# Preprocessing & Feature Engineering\n",
    "from sklearn.model_selection import train_test_split\n",
    "from sklearn.preprocessing import MinMaxScaler, LabelEncoder\n",
    "from sklearn.impute import SimpleImputer \n",
    "from sklearn.preprocessing import StandardScaler\n",
    "from sklearn.preprocessing import MinMaxScaler\n",
    "from sklearn.preprocessing import PowerTransformer\n",
    "from sklearn.feature_selection import SelectPercentile\n",
    "from sklearn.model_selection import KFold\n",
    "\n",
    "# Hyperparameter Optimization\n",
    "from sklearn.model_selection import GridSearchCV\n",
    "from sklearn.model_selection import RandomizedSearchCV\n",
    "\n",
    "# Modeling\n",
    "# from sklearn.dummy import DummyClassifier\n",
    "from sklearn.linear_model import LogisticRegression\n",
    "# from sklearn.neighbors import KNeighborsClassifier\n",
    "# from sklearn.ensemble import RandomForestClassifier\n",
    "# from sklearn.neural_network import MLPClassifier\n",
    "# from sklearn.tree import DecisionTreeClassifier\n",
    "# from sklearn.ensemble import ExtraTreesClassifier\n",
    "# from sklearn.ensemble import GradientBoostingClassifier\n",
    "from xgboost import XGBClassifier, XGBRegressor, XGBRFRegressor\n",
    "from lightgbm import LGBMClassifier, LGBMRegressor\n",
    "from sklearn.svm import SVC\n",
    "from sklearn.ensemble import VotingClassifier, VotingRegressor \n",
    "from sklearn.ensemble import StackingClassifier, StackingRegressor\n",
    "# from sklearn.base import ClassifierMixin\n",
    "\n",
    "# CatBoost\n",
    "# from catboost import CatBoostRegressor\n",
    "\n",
    "# PyTorch\n",
    "import torch\n",
    "from torch.utils.data import Dataset, DataLoader, TensorDataset\n",
    "import torch.nn as nn\n",
    "import torch.nn.functional as F\n",
    "import torch.optim as optim\n",
    "from torch.autograd import Variable\n",
    "from torch.nn import Parameter\n",
    "from torch import Tensor\n",
    "from torch.utils.data import DataLoader\n",
    "\n",
    "# for Torch hyper parameter tuning\n",
    "from functools import partial\n",
    "from torch.utils.data import random_split\n",
    "import torchvision\n",
    "import torchvision.transforms as transforms\n",
    "# from ray import tune\n",
    "# from ray.tune import CLIReporter\n",
    "# from ray.tune.schedulers import ASHAScheduler\n",
    "\n",
    "# Evaluation\n",
    "from sklearn.metrics import roc_auc_score\n",
    "from sklearn.metrics import accuracy_score\n",
    "from sklearn.model_selection import cross_val_score\n",
    "from sklearn.metrics import log_loss,mean_squared_error\n",
    "\n",
    "# Utility\n",
    "import os\n",
    "import time\n",
    "import datetime # ⚠️2019년 12월30일과 31일의 week of year가 1인 오류가 있음\n",
    "import random\n",
    "import warnings; warnings.filterwarnings(\"ignore\")\n",
    "from IPython.display import Image\n",
    "import pickle\n",
    "from tqdm import tqdm\n",
    "import platform\n",
    "from itertools import combinations\n",
    "from scipy.stats.mstats import gmean\n",
    "import holidays\n",
    "\n",
    "# from bayes_opt import BayesianOptimization\n",
    "# from num2words import num2words\n",
    "import statsmodels.api as sm\n",
    "import statsmodels.formula.api as smf\n",
    "from statsmodels.stats.outliers_influence import OLSInfluence\n",
    "\n",
    "pd.set_option('display.max_columns', None)"
   ]
  },
  {
   "cell_type": "code",
   "execution_count": 2,
   "metadata": {
    "ExecuteTime": {
     "end_time": "2023-12-06T18:49:07.512318Z",
     "start_time": "2023-12-06T18:49:07.508133Z"
    },
    "colab": {
     "base_uri": "https://localhost:8080/"
    },
    "executionInfo": {
     "elapsed": 2892,
     "status": "ok",
     "timestamp": 1701200388289,
     "user": {
      "displayName": "서은서",
      "userId": "08795597860961939533"
     },
     "user_tz": -540
    },
    "id": "0N5oedM0ADtD",
    "outputId": "899fa55f-bf4b-48ef-910d-d1f49d275050"
   },
   "outputs": [],
   "source": [
    "# from google.colab import drive\n",
    "# drive.mount('/content/drive')"
   ]
  },
  {
   "cell_type": "code",
   "execution_count": 3,
   "metadata": {
    "ExecuteTime": {
     "end_time": "2023-12-06T18:49:07.543012Z",
     "start_time": "2023-12-06T18:49:07.514339Z"
    },
    "executionInfo": {
     "elapsed": 4,
     "status": "ok",
     "timestamp": 1701200388289,
     "user": {
      "displayName": "서은서",
      "userId": "08795597860961939533"
     },
     "user_tz": -540
    },
    "id": "xUzfxvjUMtsT"
   },
   "outputs": [],
   "source": [
    "import os\n",
    "import random\n",
    "\n",
    "def seed_everything(seed):\n",
    "    random.seed(seed)\n",
    "    os.environ['PYTHONHASHSEED'] = str(seed)\n",
    "    np.random.seed(seed)\n",
    "\n",
    "seed_everything(42) # Seed 고정"
   ]
  },
  {
   "cell_type": "code",
   "execution_count": 4,
   "metadata": {
    "ExecuteTime": {
     "end_time": "2023-12-06T18:49:07.745205Z",
     "start_time": "2023-12-06T18:49:07.548108Z"
    },
    "colab": {
     "base_uri": "https://localhost:8080/",
     "height": 616
    },
    "executionInfo": {
     "elapsed": 430,
     "status": "ok",
     "timestamp": 1701200388716,
     "user": {
      "displayName": "서은서",
      "userId": "08795597860961939533"
     },
     "user_tz": -540
    },
    "id": "jCsXGwNI_5Ed",
    "outputId": "37055362-c8a0-42a7-83a6-d602722fd7df"
   },
   "outputs": [
    {
     "data": {
      "text/html": [
       "<div>\n",
       "<style scoped>\n",
       "    .dataframe tbody tr th:only-of-type {\n",
       "        vertical-align: middle;\n",
       "    }\n",
       "\n",
       "    .dataframe tbody tr th {\n",
       "        vertical-align: top;\n",
       "    }\n",
       "\n",
       "    .dataframe thead th {\n",
       "        text-align: right;\n",
       "    }\n",
       "</style>\n",
       "<table border=\"1\" class=\"dataframe\">\n",
       "  <thead>\n",
       "    <tr style=\"text-align: right;\">\n",
       "      <th></th>\n",
       "      <th>ID</th>\n",
       "      <th>사고일시</th>\n",
       "      <th>요일</th>\n",
       "      <th>기상상태</th>\n",
       "      <th>시군구</th>\n",
       "      <th>도로형태</th>\n",
       "      <th>노면상태</th>\n",
       "      <th>사고유형</th>\n",
       "      <th>사고유형 - 세부분류</th>\n",
       "      <th>법규위반</th>\n",
       "      <th>가해운전자 차종</th>\n",
       "      <th>가해운전자 성별</th>\n",
       "      <th>가해운전자 연령</th>\n",
       "      <th>가해운전자 상해정도</th>\n",
       "      <th>피해운전자 차종</th>\n",
       "      <th>피해운전자 성별</th>\n",
       "      <th>피해운전자 연령</th>\n",
       "      <th>피해운전자 상해정도</th>\n",
       "      <th>사망자수</th>\n",
       "      <th>중상자수</th>\n",
       "      <th>경상자수</th>\n",
       "      <th>부상자수</th>\n",
       "      <th>ECLO</th>\n",
       "    </tr>\n",
       "  </thead>\n",
       "  <tbody>\n",
       "    <tr>\n",
       "      <th>0</th>\n",
       "      <td>ACCIDENT_00000</td>\n",
       "      <td>2019-01-01 00</td>\n",
       "      <td>화요일</td>\n",
       "      <td>맑음</td>\n",
       "      <td>대구광역시 중구 대신동</td>\n",
       "      <td>단일로 - 기타</td>\n",
       "      <td>건조</td>\n",
       "      <td>차대사람</td>\n",
       "      <td>길가장자리구역통행중</td>\n",
       "      <td>안전운전불이행</td>\n",
       "      <td>승용</td>\n",
       "      <td>여</td>\n",
       "      <td>51세</td>\n",
       "      <td>상해없음</td>\n",
       "      <td>보행자</td>\n",
       "      <td>여</td>\n",
       "      <td>70세</td>\n",
       "      <td>중상</td>\n",
       "      <td>0</td>\n",
       "      <td>1</td>\n",
       "      <td>0</td>\n",
       "      <td>0</td>\n",
       "      <td>5</td>\n",
       "    </tr>\n",
       "    <tr>\n",
       "      <th>1</th>\n",
       "      <td>ACCIDENT_00001</td>\n",
       "      <td>2019-01-01 00</td>\n",
       "      <td>화요일</td>\n",
       "      <td>흐림</td>\n",
       "      <td>대구광역시 달서구 감삼동</td>\n",
       "      <td>단일로 - 기타</td>\n",
       "      <td>건조</td>\n",
       "      <td>차대사람</td>\n",
       "      <td>보도통행중</td>\n",
       "      <td>기타</td>\n",
       "      <td>승용</td>\n",
       "      <td>남</td>\n",
       "      <td>39세</td>\n",
       "      <td>상해없음</td>\n",
       "      <td>보행자</td>\n",
       "      <td>남</td>\n",
       "      <td>61세</td>\n",
       "      <td>경상</td>\n",
       "      <td>0</td>\n",
       "      <td>0</td>\n",
       "      <td>1</td>\n",
       "      <td>0</td>\n",
       "      <td>3</td>\n",
       "    </tr>\n",
       "    <tr>\n",
       "      <th>2</th>\n",
       "      <td>ACCIDENT_00002</td>\n",
       "      <td>2019-01-01 01</td>\n",
       "      <td>화요일</td>\n",
       "      <td>맑음</td>\n",
       "      <td>대구광역시 수성구 두산동</td>\n",
       "      <td>단일로 - 기타</td>\n",
       "      <td>건조</td>\n",
       "      <td>차대사람</td>\n",
       "      <td>차도통행중</td>\n",
       "      <td>안전운전불이행</td>\n",
       "      <td>승용</td>\n",
       "      <td>남</td>\n",
       "      <td>70세</td>\n",
       "      <td>상해없음</td>\n",
       "      <td>보행자</td>\n",
       "      <td>남</td>\n",
       "      <td>38세</td>\n",
       "      <td>경상</td>\n",
       "      <td>0</td>\n",
       "      <td>0</td>\n",
       "      <td>1</td>\n",
       "      <td>0</td>\n",
       "      <td>3</td>\n",
       "    </tr>\n",
       "    <tr>\n",
       "      <th>3</th>\n",
       "      <td>ACCIDENT_00003</td>\n",
       "      <td>2019-01-01 02</td>\n",
       "      <td>화요일</td>\n",
       "      <td>맑음</td>\n",
       "      <td>대구광역시 북구 복현동</td>\n",
       "      <td>단일로 - 기타</td>\n",
       "      <td>건조</td>\n",
       "      <td>차대차</td>\n",
       "      <td>추돌</td>\n",
       "      <td>안전운전불이행</td>\n",
       "      <td>승용</td>\n",
       "      <td>남</td>\n",
       "      <td>49세</td>\n",
       "      <td>상해없음</td>\n",
       "      <td>승용</td>\n",
       "      <td>남</td>\n",
       "      <td>36세</td>\n",
       "      <td>중상</td>\n",
       "      <td>0</td>\n",
       "      <td>1</td>\n",
       "      <td>0</td>\n",
       "      <td>0</td>\n",
       "      <td>5</td>\n",
       "    </tr>\n",
       "    <tr>\n",
       "      <th>4</th>\n",
       "      <td>ACCIDENT_00004</td>\n",
       "      <td>2019-01-01 04</td>\n",
       "      <td>화요일</td>\n",
       "      <td>맑음</td>\n",
       "      <td>대구광역시 동구 신암동</td>\n",
       "      <td>단일로 - 기타</td>\n",
       "      <td>건조</td>\n",
       "      <td>차대차</td>\n",
       "      <td>추돌</td>\n",
       "      <td>안전운전불이행</td>\n",
       "      <td>승용</td>\n",
       "      <td>남</td>\n",
       "      <td>30세</td>\n",
       "      <td>상해없음</td>\n",
       "      <td>승용</td>\n",
       "      <td>남</td>\n",
       "      <td>52세</td>\n",
       "      <td>경상</td>\n",
       "      <td>0</td>\n",
       "      <td>0</td>\n",
       "      <td>1</td>\n",
       "      <td>0</td>\n",
       "      <td>3</td>\n",
       "    </tr>\n",
       "  </tbody>\n",
       "</table>\n",
       "</div>"
      ],
      "text/plain": [
       "               ID           사고일시   요일 기상상태            시군구      도로형태 노면상태  \\\n",
       "0  ACCIDENT_00000  2019-01-01 00  화요일   맑음   대구광역시 중구 대신동  단일로 - 기타   건조   \n",
       "1  ACCIDENT_00001  2019-01-01 00  화요일   흐림  대구광역시 달서구 감삼동  단일로 - 기타   건조   \n",
       "2  ACCIDENT_00002  2019-01-01 01  화요일   맑음  대구광역시 수성구 두산동  단일로 - 기타   건조   \n",
       "3  ACCIDENT_00003  2019-01-01 02  화요일   맑음   대구광역시 북구 복현동  단일로 - 기타   건조   \n",
       "4  ACCIDENT_00004  2019-01-01 04  화요일   맑음   대구광역시 동구 신암동  단일로 - 기타   건조   \n",
       "\n",
       "   사고유형 사고유형 - 세부분류     법규위반 가해운전자 차종 가해운전자 성별 가해운전자 연령 가해운전자 상해정도 피해운전자 차종  \\\n",
       "0  차대사람  길가장자리구역통행중  안전운전불이행       승용        여      51세       상해없음      보행자   \n",
       "1  차대사람       보도통행중       기타       승용        남      39세       상해없음      보행자   \n",
       "2  차대사람       차도통행중  안전운전불이행       승용        남      70세       상해없음      보행자   \n",
       "3   차대차          추돌  안전운전불이행       승용        남      49세       상해없음       승용   \n",
       "4   차대차          추돌  안전운전불이행       승용        남      30세       상해없음       승용   \n",
       "\n",
       "  피해운전자 성별 피해운전자 연령 피해운전자 상해정도  사망자수  중상자수  경상자수  부상자수  ECLO  \n",
       "0        여      70세         중상     0     1     0     0     5  \n",
       "1        남      61세         경상     0     0     1     0     3  \n",
       "2        남      38세         경상     0     0     1     0     3  \n",
       "3        남      36세         중상     0     1     0     0     5  \n",
       "4        남      52세         경상     0     0     1     0     3  "
      ]
     },
     "metadata": {},
     "output_type": "display_data"
    },
    {
     "data": {
      "text/html": [
       "<div>\n",
       "<style scoped>\n",
       "    .dataframe tbody tr th:only-of-type {\n",
       "        vertical-align: middle;\n",
       "    }\n",
       "\n",
       "    .dataframe tbody tr th {\n",
       "        vertical-align: top;\n",
       "    }\n",
       "\n",
       "    .dataframe thead th {\n",
       "        text-align: right;\n",
       "    }\n",
       "</style>\n",
       "<table border=\"1\" class=\"dataframe\">\n",
       "  <thead>\n",
       "    <tr style=\"text-align: right;\">\n",
       "      <th></th>\n",
       "      <th>ID</th>\n",
       "      <th>사고일시</th>\n",
       "      <th>요일</th>\n",
       "      <th>기상상태</th>\n",
       "      <th>시군구</th>\n",
       "      <th>도로형태</th>\n",
       "      <th>노면상태</th>\n",
       "      <th>사고유형</th>\n",
       "    </tr>\n",
       "  </thead>\n",
       "  <tbody>\n",
       "    <tr>\n",
       "      <th>0</th>\n",
       "      <td>ACCIDENT_39609</td>\n",
       "      <td>2022-01-01 01</td>\n",
       "      <td>토요일</td>\n",
       "      <td>맑음</td>\n",
       "      <td>대구광역시 수성구 상동</td>\n",
       "      <td>교차로 - 교차로안</td>\n",
       "      <td>건조</td>\n",
       "      <td>차대사람</td>\n",
       "    </tr>\n",
       "    <tr>\n",
       "      <th>1</th>\n",
       "      <td>ACCIDENT_39610</td>\n",
       "      <td>2022-01-01 01</td>\n",
       "      <td>토요일</td>\n",
       "      <td>맑음</td>\n",
       "      <td>대구광역시 수성구 지산동</td>\n",
       "      <td>단일로 - 기타</td>\n",
       "      <td>건조</td>\n",
       "      <td>차대사람</td>\n",
       "    </tr>\n",
       "    <tr>\n",
       "      <th>2</th>\n",
       "      <td>ACCIDENT_39611</td>\n",
       "      <td>2022-01-01 04</td>\n",
       "      <td>토요일</td>\n",
       "      <td>맑음</td>\n",
       "      <td>대구광역시 수성구 수성동2가</td>\n",
       "      <td>교차로 - 교차로안</td>\n",
       "      <td>건조</td>\n",
       "      <td>차대차</td>\n",
       "    </tr>\n",
       "    <tr>\n",
       "      <th>3</th>\n",
       "      <td>ACCIDENT_39612</td>\n",
       "      <td>2022-01-01 04</td>\n",
       "      <td>토요일</td>\n",
       "      <td>맑음</td>\n",
       "      <td>대구광역시 수성구 신매동</td>\n",
       "      <td>단일로 - 기타</td>\n",
       "      <td>건조</td>\n",
       "      <td>차대차</td>\n",
       "    </tr>\n",
       "    <tr>\n",
       "      <th>4</th>\n",
       "      <td>ACCIDENT_39613</td>\n",
       "      <td>2022-01-01 06</td>\n",
       "      <td>토요일</td>\n",
       "      <td>맑음</td>\n",
       "      <td>대구광역시 달서구 감삼동</td>\n",
       "      <td>교차로 - 교차로안</td>\n",
       "      <td>건조</td>\n",
       "      <td>차대차</td>\n",
       "    </tr>\n",
       "  </tbody>\n",
       "</table>\n",
       "</div>"
      ],
      "text/plain": [
       "               ID           사고일시   요일 기상상태              시군구        도로형태 노면상태  \\\n",
       "0  ACCIDENT_39609  2022-01-01 01  토요일   맑음     대구광역시 수성구 상동  교차로 - 교차로안   건조   \n",
       "1  ACCIDENT_39610  2022-01-01 01  토요일   맑음    대구광역시 수성구 지산동    단일로 - 기타   건조   \n",
       "2  ACCIDENT_39611  2022-01-01 04  토요일   맑음  대구광역시 수성구 수성동2가  교차로 - 교차로안   건조   \n",
       "3  ACCIDENT_39612  2022-01-01 04  토요일   맑음    대구광역시 수성구 신매동    단일로 - 기타   건조   \n",
       "4  ACCIDENT_39613  2022-01-01 06  토요일   맑음    대구광역시 달서구 감삼동  교차로 - 교차로안   건조   \n",
       "\n",
       "   사고유형  \n",
       "0  차대사람  \n",
       "1  차대사람  \n",
       "2   차대차  \n",
       "3   차대차  \n",
       "4   차대차  "
      ]
     },
     "metadata": {},
     "output_type": "display_data"
    }
   ],
   "source": [
    "path = '../data/daegu/automl/'\n",
    "train = pd.read_csv(path+'train.csv')\n",
    "test = pd.read_csv(path+'test.csv')\n",
    "\n",
    "display(train.head())\n",
    "display(test.head())"
   ]
  },
  {
   "cell_type": "code",
   "execution_count": 5,
   "metadata": {
    "ExecuteTime": {
     "end_time": "2023-12-06T18:49:07.760786Z",
     "start_time": "2023-12-06T18:49:07.747204Z"
    },
    "colab": {
     "base_uri": "https://localhost:8080/"
    },
    "executionInfo": {
     "elapsed": 16,
     "status": "ok",
     "timestamp": 1701200388716,
     "user": {
      "displayName": "서은서",
      "userId": "08795597860961939533"
     },
     "user_tz": -540
    },
    "id": "F_OY0FPm_5Ed",
    "outputId": "a3976bb5-7297-49ad-eb86-654fb623975b"
   },
   "outputs": [
    {
     "name": "stdout",
     "output_type": "stream",
     "text": [
      "Index(['ID', '사고일시', '요일', '기상상태', '시군구', '도로형태', '노면상태', '사고유형',\n",
      "       '사고유형 - 세부분류', '법규위반', '가해운전자 차종', '가해운전자 성별', '가해운전자 연령', '가해운전자 상해정도',\n",
      "       '피해운전자 차종', '피해운전자 성별', '피해운전자 연령', '피해운전자 상해정도', '사망자수', '중상자수',\n",
      "       '경상자수', '부상자수', 'ECLO'],\n",
      "      dtype='object')\n",
      "Index(['ID', '사고일시', '요일', '기상상태', '시군구', '도로형태', '노면상태', '사고유형'], dtype='object')\n"
     ]
    }
   ],
   "source": [
    "print(train.columns)\n",
    "print(test.columns)"
   ]
  },
  {
   "cell_type": "code",
   "execution_count": 6,
   "metadata": {
    "ExecuteTime": {
     "end_time": "2023-12-06T18:49:08.398824Z",
     "start_time": "2023-12-06T18:49:08.391260Z"
    },
    "executionInfo": {
     "elapsed": 9,
     "status": "ok",
     "timestamp": 1701200388716,
     "user": {
      "displayName": "서은서",
      "userId": "08795597860961939533"
     },
     "user_tz": -540
    },
    "id": "ajfzqoT9_5Ee"
   },
   "outputs": [],
   "source": [
    "# train_df = train.drop(['ID'],axis=1)\n",
    "# test_df = test.drop(['ID'],axis=1)\n",
    "\n",
    "train_df = train\n",
    "test_df = test\n"
   ]
  },
  {
   "cell_type": "code",
   "execution_count": 7,
   "metadata": {
    "ExecuteTime": {
     "end_time": "2023-12-06T18:49:09.354194Z",
     "start_time": "2023-12-06T18:49:09.324957Z"
    },
    "colab": {
     "base_uri": "https://localhost:8080/",
     "height": 340
    },
    "executionInfo": {
     "elapsed": 8,
     "status": "ok",
     "timestamp": 1701200388716,
     "user": {
      "displayName": "서은서",
      "userId": "08795597860961939533"
     },
     "user_tz": -540
    },
    "id": "j7GWfZT0_5Ee",
    "outputId": "3bee29fc-894f-443d-c33d-c66dbba3bf5e"
   },
   "outputs": [
    {
     "data": {
      "text/html": [
       "<div>\n",
       "<style scoped>\n",
       "    .dataframe tbody tr th:only-of-type {\n",
       "        vertical-align: middle;\n",
       "    }\n",
       "\n",
       "    .dataframe tbody tr th {\n",
       "        vertical-align: top;\n",
       "    }\n",
       "\n",
       "    .dataframe thead th {\n",
       "        text-align: right;\n",
       "    }\n",
       "</style>\n",
       "<table border=\"1\" class=\"dataframe\">\n",
       "  <thead>\n",
       "    <tr style=\"text-align: right;\">\n",
       "      <th></th>\n",
       "      <th>ID</th>\n",
       "      <th>사고일시</th>\n",
       "      <th>요일</th>\n",
       "      <th>기상상태</th>\n",
       "      <th>시군구</th>\n",
       "      <th>도로형태</th>\n",
       "      <th>노면상태</th>\n",
       "      <th>사고유형</th>\n",
       "      <th>사고유형 - 세부분류</th>\n",
       "      <th>법규위반</th>\n",
       "      <th>가해운전자 차종</th>\n",
       "      <th>가해운전자 성별</th>\n",
       "      <th>가해운전자 연령</th>\n",
       "      <th>가해운전자 상해정도</th>\n",
       "      <th>피해운전자 차종</th>\n",
       "      <th>피해운전자 성별</th>\n",
       "      <th>피해운전자 연령</th>\n",
       "      <th>피해운전자 상해정도</th>\n",
       "      <th>사망자수</th>\n",
       "      <th>중상자수</th>\n",
       "      <th>경상자수</th>\n",
       "      <th>부상자수</th>\n",
       "      <th>ECLO</th>\n",
       "    </tr>\n",
       "  </thead>\n",
       "  <tbody>\n",
       "    <tr>\n",
       "      <th>0</th>\n",
       "      <td>ACCIDENT_00000</td>\n",
       "      <td>2019-01-01 00</td>\n",
       "      <td>화요일</td>\n",
       "      <td>맑음</td>\n",
       "      <td>대구광역시 중구 대신동</td>\n",
       "      <td>단일로 - 기타</td>\n",
       "      <td>건조</td>\n",
       "      <td>차대사람</td>\n",
       "      <td>길가장자리구역통행중</td>\n",
       "      <td>안전운전불이행</td>\n",
       "      <td>승용</td>\n",
       "      <td>여</td>\n",
       "      <td>51세</td>\n",
       "      <td>상해없음</td>\n",
       "      <td>보행자</td>\n",
       "      <td>여</td>\n",
       "      <td>70세</td>\n",
       "      <td>중상</td>\n",
       "      <td>0</td>\n",
       "      <td>1</td>\n",
       "      <td>0</td>\n",
       "      <td>0</td>\n",
       "      <td>5</td>\n",
       "    </tr>\n",
       "    <tr>\n",
       "      <th>1</th>\n",
       "      <td>ACCIDENT_00001</td>\n",
       "      <td>2019-01-01 00</td>\n",
       "      <td>화요일</td>\n",
       "      <td>흐림</td>\n",
       "      <td>대구광역시 달서구 감삼동</td>\n",
       "      <td>단일로 - 기타</td>\n",
       "      <td>건조</td>\n",
       "      <td>차대사람</td>\n",
       "      <td>보도통행중</td>\n",
       "      <td>기타</td>\n",
       "      <td>승용</td>\n",
       "      <td>남</td>\n",
       "      <td>39세</td>\n",
       "      <td>상해없음</td>\n",
       "      <td>보행자</td>\n",
       "      <td>남</td>\n",
       "      <td>61세</td>\n",
       "      <td>경상</td>\n",
       "      <td>0</td>\n",
       "      <td>0</td>\n",
       "      <td>1</td>\n",
       "      <td>0</td>\n",
       "      <td>3</td>\n",
       "    </tr>\n",
       "    <tr>\n",
       "      <th>2</th>\n",
       "      <td>ACCIDENT_00002</td>\n",
       "      <td>2019-01-01 01</td>\n",
       "      <td>화요일</td>\n",
       "      <td>맑음</td>\n",
       "      <td>대구광역시 수성구 두산동</td>\n",
       "      <td>단일로 - 기타</td>\n",
       "      <td>건조</td>\n",
       "      <td>차대사람</td>\n",
       "      <td>차도통행중</td>\n",
       "      <td>안전운전불이행</td>\n",
       "      <td>승용</td>\n",
       "      <td>남</td>\n",
       "      <td>70세</td>\n",
       "      <td>상해없음</td>\n",
       "      <td>보행자</td>\n",
       "      <td>남</td>\n",
       "      <td>38세</td>\n",
       "      <td>경상</td>\n",
       "      <td>0</td>\n",
       "      <td>0</td>\n",
       "      <td>1</td>\n",
       "      <td>0</td>\n",
       "      <td>3</td>\n",
       "    </tr>\n",
       "    <tr>\n",
       "      <th>3</th>\n",
       "      <td>ACCIDENT_00003</td>\n",
       "      <td>2019-01-01 02</td>\n",
       "      <td>화요일</td>\n",
       "      <td>맑음</td>\n",
       "      <td>대구광역시 북구 복현동</td>\n",
       "      <td>단일로 - 기타</td>\n",
       "      <td>건조</td>\n",
       "      <td>차대차</td>\n",
       "      <td>추돌</td>\n",
       "      <td>안전운전불이행</td>\n",
       "      <td>승용</td>\n",
       "      <td>남</td>\n",
       "      <td>49세</td>\n",
       "      <td>상해없음</td>\n",
       "      <td>승용</td>\n",
       "      <td>남</td>\n",
       "      <td>36세</td>\n",
       "      <td>중상</td>\n",
       "      <td>0</td>\n",
       "      <td>1</td>\n",
       "      <td>0</td>\n",
       "      <td>0</td>\n",
       "      <td>5</td>\n",
       "    </tr>\n",
       "    <tr>\n",
       "      <th>4</th>\n",
       "      <td>ACCIDENT_00004</td>\n",
       "      <td>2019-01-01 04</td>\n",
       "      <td>화요일</td>\n",
       "      <td>맑음</td>\n",
       "      <td>대구광역시 동구 신암동</td>\n",
       "      <td>단일로 - 기타</td>\n",
       "      <td>건조</td>\n",
       "      <td>차대차</td>\n",
       "      <td>추돌</td>\n",
       "      <td>안전운전불이행</td>\n",
       "      <td>승용</td>\n",
       "      <td>남</td>\n",
       "      <td>30세</td>\n",
       "      <td>상해없음</td>\n",
       "      <td>승용</td>\n",
       "      <td>남</td>\n",
       "      <td>52세</td>\n",
       "      <td>경상</td>\n",
       "      <td>0</td>\n",
       "      <td>0</td>\n",
       "      <td>1</td>\n",
       "      <td>0</td>\n",
       "      <td>3</td>\n",
       "    </tr>\n",
       "  </tbody>\n",
       "</table>\n",
       "</div>"
      ],
      "text/plain": [
       "               ID           사고일시   요일 기상상태            시군구      도로형태 노면상태  \\\n",
       "0  ACCIDENT_00000  2019-01-01 00  화요일   맑음   대구광역시 중구 대신동  단일로 - 기타   건조   \n",
       "1  ACCIDENT_00001  2019-01-01 00  화요일   흐림  대구광역시 달서구 감삼동  단일로 - 기타   건조   \n",
       "2  ACCIDENT_00002  2019-01-01 01  화요일   맑음  대구광역시 수성구 두산동  단일로 - 기타   건조   \n",
       "3  ACCIDENT_00003  2019-01-01 02  화요일   맑음   대구광역시 북구 복현동  단일로 - 기타   건조   \n",
       "4  ACCIDENT_00004  2019-01-01 04  화요일   맑음   대구광역시 동구 신암동  단일로 - 기타   건조   \n",
       "\n",
       "   사고유형 사고유형 - 세부분류     법규위반 가해운전자 차종 가해운전자 성별 가해운전자 연령 가해운전자 상해정도 피해운전자 차종  \\\n",
       "0  차대사람  길가장자리구역통행중  안전운전불이행       승용        여      51세       상해없음      보행자   \n",
       "1  차대사람       보도통행중       기타       승용        남      39세       상해없음      보행자   \n",
       "2  차대사람       차도통행중  안전운전불이행       승용        남      70세       상해없음      보행자   \n",
       "3   차대차          추돌  안전운전불이행       승용        남      49세       상해없음       승용   \n",
       "4   차대차          추돌  안전운전불이행       승용        남      30세       상해없음       승용   \n",
       "\n",
       "  피해운전자 성별 피해운전자 연령 피해운전자 상해정도  사망자수  중상자수  경상자수  부상자수  ECLO  \n",
       "0        여      70세         중상     0     1     0     0     5  \n",
       "1        남      61세         경상     0     0     1     0     3  \n",
       "2        남      38세         경상     0     0     1     0     3  \n",
       "3        남      36세         중상     0     1     0     0     5  \n",
       "4        남      52세         경상     0     0     1     0     3  "
      ]
     },
     "execution_count": 7,
     "metadata": {},
     "output_type": "execute_result"
    }
   ],
   "source": [
    "train_df.head()"
   ]
  },
  {
   "cell_type": "markdown",
   "metadata": {
    "id": "L5i3-M8g_5Ee"
   },
   "source": [
    "## train, test 데이터 기간 확인하기"
   ]
  },
  {
   "cell_type": "code",
   "execution_count": 8,
   "metadata": {
    "ExecuteTime": {
     "end_time": "2023-12-06T18:49:11.834717Z",
     "start_time": "2023-12-06T18:49:11.812928Z"
    },
    "colab": {
     "base_uri": "https://localhost:8080/",
     "height": 55
    },
    "executionInfo": {
     "elapsed": 7,
     "status": "ok",
     "timestamp": 1701200388716,
     "user": {
      "displayName": "서은서",
      "userId": "08795597860961939533"
     },
     "user_tz": -540
    },
    "id": "2sCoix7B_5Eg",
    "outputId": "28af5388-3eab-4de9-9932-4dc5a77bf876"
   },
   "outputs": [
    {
     "data": {
      "text/plain": [
       "'train : 2019-01-01 00 ~ 2021-12-31 23'"
      ]
     },
     "metadata": {},
     "output_type": "display_data"
    },
    {
     "data": {
      "text/plain": [
       "'test : 2022-01-01 01 ~ 2022-12-31 21'"
      ]
     },
     "metadata": {},
     "output_type": "display_data"
    }
   ],
   "source": [
    "display(f\"train : {train_df.iloc[0]['사고일시']} ~ {train_df.iloc[-1]['사고일시']}\")\n",
    "display(f\"test : {test_df.iloc[0]['사고일시']} ~ {test_df.iloc[-1]['사고일시']}\")"
   ]
  },
  {
   "cell_type": "markdown",
   "metadata": {
    "id": "jpBCJ73B_5Eg"
   },
   "source": [
    "## **데이터 전처리**  \n",
    "\n",
    "현재 '사고일시', '시군구', '도로형태' 컬럼은 반복되는 패턴으로 여러 정보를 포함하고 있습니다\n",
    "이런 반복되는 패턴을 일반화하면 pandas에서 제공하는 str.extract를 통해 한 번에 추출 가능합니다  \n",
    "\n",
    "## **파생 변수 생성 1 : 날짜, 시간정보 생성**\n",
    "\n",
    "'사고일시' 컬럼으로 부터 연도, 월, 일, 시간 정보 추출 및 변환 합니다"
   ]
  },
  {
   "cell_type": "code",
   "execution_count": 9,
   "metadata": {
    "ExecuteTime": {
     "end_time": "2023-12-06T18:49:12.969702Z",
     "start_time": "2023-12-06T18:49:12.651804Z"
    },
    "colab": {
     "base_uri": "https://localhost:8080/",
     "height": 90
    },
    "executionInfo": {
     "elapsed": 1162,
     "status": "ok",
     "timestamp": 1701200389871,
     "user": {
      "displayName": "서은서",
      "userId": "08795597860961939533"
     },
     "user_tz": -540
    },
    "id": "Csv0hsMr_5Eg",
    "outputId": "ddb9011d-b60a-4b63-b9e3-d4654bee62ef"
   },
   "outputs": [
    {
     "data": {
      "text/plain": [
       "\"columns of train_df : Index(['ID', '사고일시', '요일', '기상상태', '시군구', '도로형태', '노면상태', '사고유형',\\n       '사고유형 - 세부분류', '법규위반', '가해운전자 차종', '가해운전자 성별', '가해운전자 연령', '가해운전자 상해정도',\\n       '피해운전자 차종', '피해운전자 성별', '피해운전자 연령', '피해운전자 상해정도', '사망자수', '중상자수',\\n       '경상자수', '부상자수', 'ECLO', '연', '월', '일', '시간'],\\n      dtype='object')\""
      ]
     },
     "metadata": {},
     "output_type": "display_data"
    },
    {
     "data": {
      "text/plain": [
       "\"columns of test_df : Index(['ID', '사고일시', '요일', '기상상태', '시군구', '도로형태', '노면상태', '사고유형', '연', '월',\\n       '일', '시간'],\\n      dtype='object')\""
      ]
     },
     "metadata": {},
     "output_type": "display_data"
    }
   ],
   "source": [
    "time_pattern = r'(\\d{4})-(\\d{1,2})-(\\d{1,2}) (\\d{1,2})'\n",
    "\n",
    "train_df[['연', '월', '일', '시간']] = train['사고일시'].str.extract(time_pattern)\n",
    "train_df[['연', '월', '일', '시간']] = train_df[['연', '월', '일', '시간']].apply(pd.to_numeric) # 추출된 문자열을 수치화해줍니다\n",
    "# train_df = train_df.drop(columns=['사고일시']) # 정보 추출이 완료된 '사고일시' 컬럼은 제거합니다\n",
    "\n",
    "# 해당 과정을 test_x에 대해서도 반복해줍니다\n",
    "test_df[['연', '월', '일', '시간']] = test['사고일시'].str.extract(time_pattern)\n",
    "test_df[['연', '월', '일', '시간']] = test_df[['연', '월', '일', '시간']].apply(pd.to_numeric)\n",
    "# test_df = test_df.drop(columns=['사고일시'])\n",
    "\n",
    "display(f\"columns of train_df : {train_df.columns}\")\n",
    "display(f\"columns of test_df : {test_df.columns}\")"
   ]
  },
  {
   "cell_type": "markdown",
   "metadata": {
    "id": "PrybfCSq_5Eh"
   },
   "source": [
    "## **파생 변수 생성 2 : 공간(위치) 정보 생성**\n",
    "\n",
    "'시군구' 컬럼으로부터 의미 있는 공산 정보를 추출 및 변환 합니다"
   ]
  },
  {
   "cell_type": "code",
   "execution_count": 10,
   "metadata": {
    "ExecuteTime": {
     "end_time": "2023-12-06T18:49:14.862819Z",
     "start_time": "2023-12-06T18:49:14.771875Z"
    },
    "colab": {
     "base_uri": "https://localhost:8080/",
     "height": 90
    },
    "executionInfo": {
     "elapsed": 699,
     "status": "ok",
     "timestamp": 1701200390567,
     "user": {
      "displayName": "서은서",
      "userId": "08795597860961939533"
     },
     "user_tz": -540
    },
    "id": "aX9UoJIZ_5Eh",
    "outputId": "84e6e5b9-d4f6-4c14-d84c-717ac4120384"
   },
   "outputs": [
    {
     "data": {
      "text/plain": [
       "\"columns of train_df : Index(['ID', '사고일시', '요일', '기상상태', '도로형태', '노면상태', '사고유형', '사고유형 - 세부분류',\\n       '법규위반', '가해운전자 차종', '가해운전자 성별', '가해운전자 연령', '가해운전자 상해정도', '피해운전자 차종',\\n       '피해운전자 성별', '피해운전자 연령', '피해운전자 상해정도', '사망자수', '중상자수', '경상자수', '부상자수',\\n       'ECLO', '연', '월', '일', '시간', '도시', '구', '동'],\\n      dtype='object')\""
      ]
     },
     "metadata": {},
     "output_type": "display_data"
    },
    {
     "data": {
      "text/plain": [
       "\"columns of test_df : Index(['ID', '사고일시', '요일', '기상상태', '도로형태', '노면상태', '사고유형', '연', '월', '일', '시간',\\n       '도시', '구', '동'],\\n      dtype='object')\""
      ]
     },
     "metadata": {},
     "output_type": "display_data"
    }
   ],
   "source": [
    "location_pattern = r'(\\S+) (\\S+) (\\S+)'\n",
    "\n",
    "train_df[['도시', '구', '동']] = train['시군구'].str.extract(location_pattern)\n",
    "train_df = train_df.drop(columns=['시군구'])\n",
    "\n",
    "test_df[['도시', '구', '동']] = test['시군구'].str.extract(location_pattern)\n",
    "test_df = test_df.drop(columns=['시군구'])\n",
    "\n",
    "display(f\"columns of train_df : {train_df.columns}\")\n",
    "display(f\"columns of test_df : {test_df.columns}\")"
   ]
  },
  {
   "cell_type": "markdown",
   "metadata": {
    "id": "AhxpwdCc_5Eh"
   },
   "source": [
    "## **파생 변수 추출 3 : 도로 형태 정보 추출**  \n",
    "\n",
    "'도로형태' 컬럼은 '단일로 - 기타'와 같은 패턴으로 구성되어 있습니다. 이를 두종류의 독립된 정보로 보고 두개의 컬럼으로 분리하여 생성합니다."
   ]
  },
  {
   "cell_type": "code",
   "execution_count": 11,
   "metadata": {
    "ExecuteTime": {
     "end_time": "2023-12-06T18:49:17.462680Z",
     "start_time": "2023-12-06T18:49:17.452412Z"
    },
    "colab": {
     "base_uri": "https://localhost:8080/",
     "height": 108
    },
    "executionInfo": {
     "elapsed": 13,
     "status": "ok",
     "timestamp": 1701200390567,
     "user": {
      "displayName": "서은서",
      "userId": "08795597860961939533"
     },
     "user_tz": -540
    },
    "id": "SphMa7pT_5Ei",
    "outputId": "374ae51d-1318-4e8e-d8db-6268d909f2c2"
   },
   "outputs": [
    {
     "data": {
      "text/plain": [
       "\"columns of train_df : Index(['ID', '사고일시', '요일', '기상상태', '도로형태', '노면상태', '사고유형', '사고유형 - 세부분류',\\n       '법규위반', '가해운전자 차종', '가해운전자 성별', '가해운전자 연령', '가해운전자 상해정도', '피해운전자 차종',\\n       '피해운전자 성별', '피해운전자 연령', '피해운전자 상해정도', '사망자수', '중상자수', '경상자수', '부상자수',\\n       'ECLO', '연', '월', '일', '시간', '도시', '구', '동'],\\n      dtype='object')\""
      ]
     },
     "metadata": {},
     "output_type": "display_data"
    },
    {
     "data": {
      "text/plain": [
       "\"columns of test_df : Index(['ID', '사고일시', '요일', '기상상태', '도로형태', '노면상태', '사고유형', '연', '월', '일', '시간',\\n       '도시', '구', '동'],\\n      dtype='object')\""
      ]
     },
     "metadata": {},
     "output_type": "display_data"
    }
   ],
   "source": [
    "road_pattern = r'(.+) - (.+)'\n",
    "\n",
    "# train_df[['도로형태1', '도로형태2']] = train['도로형태'].str.extract(road_pattern)\n",
    "# train_df = train_df.drop(columns=['도로형태'])\n",
    "\n",
    "# test_df[['도로형태1', '도로형태2']] = test['도로형태'].str.extract(road_pattern)\n",
    "# test_df = test_df.drop(columns=['도로형태'])\n",
    "\n",
    "display(f\"columns of train_df : {train_df.columns}\")\n",
    "display(f\"columns of test_df : {test_df.columns}\")"
   ]
  },
  {
   "cell_type": "markdown",
   "metadata": {
    "id": "btwuBAk8_5Ei"
   },
   "source": [
    "## **전처리 결과 확인**\n",
    "\n",
    "지금까지 전처리한 결과를 확인해 봅시다"
   ]
  },
  {
   "cell_type": "code",
   "execution_count": 12,
   "metadata": {
    "ExecuteTime": {
     "end_time": "2023-12-06T18:49:20.008290Z",
     "start_time": "2023-12-06T18:49:19.980138Z"
    },
    "colab": {
     "base_uri": "https://localhost:8080/",
     "height": 529
    },
    "executionInfo": {
     "elapsed": 12,
     "status": "ok",
     "timestamp": 1701200390568,
     "user": {
      "displayName": "서은서",
      "userId": "08795597860961939533"
     },
     "user_tz": -540
    },
    "id": "5mPo09HR_5Ei",
    "outputId": "fdee3d20-3aee-4a84-c90e-4f9b7ce185bd"
   },
   "outputs": [
    {
     "data": {
      "text/html": [
       "<div>\n",
       "<style scoped>\n",
       "    .dataframe tbody tr th:only-of-type {\n",
       "        vertical-align: middle;\n",
       "    }\n",
       "\n",
       "    .dataframe tbody tr th {\n",
       "        vertical-align: top;\n",
       "    }\n",
       "\n",
       "    .dataframe thead th {\n",
       "        text-align: right;\n",
       "    }\n",
       "</style>\n",
       "<table border=\"1\" class=\"dataframe\">\n",
       "  <thead>\n",
       "    <tr style=\"text-align: right;\">\n",
       "      <th></th>\n",
       "      <th>ID</th>\n",
       "      <th>사고일시</th>\n",
       "      <th>요일</th>\n",
       "      <th>기상상태</th>\n",
       "      <th>도로형태</th>\n",
       "      <th>노면상태</th>\n",
       "      <th>사고유형</th>\n",
       "      <th>사고유형 - 세부분류</th>\n",
       "      <th>법규위반</th>\n",
       "      <th>가해운전자 차종</th>\n",
       "      <th>가해운전자 성별</th>\n",
       "      <th>가해운전자 연령</th>\n",
       "      <th>가해운전자 상해정도</th>\n",
       "      <th>피해운전자 차종</th>\n",
       "      <th>피해운전자 성별</th>\n",
       "      <th>피해운전자 연령</th>\n",
       "      <th>피해운전자 상해정도</th>\n",
       "      <th>사망자수</th>\n",
       "      <th>중상자수</th>\n",
       "      <th>경상자수</th>\n",
       "      <th>부상자수</th>\n",
       "      <th>ECLO</th>\n",
       "      <th>연</th>\n",
       "      <th>월</th>\n",
       "      <th>일</th>\n",
       "      <th>시간</th>\n",
       "      <th>도시</th>\n",
       "      <th>구</th>\n",
       "      <th>동</th>\n",
       "    </tr>\n",
       "  </thead>\n",
       "  <tbody>\n",
       "    <tr>\n",
       "      <th>0</th>\n",
       "      <td>ACCIDENT_00000</td>\n",
       "      <td>2019-01-01 00</td>\n",
       "      <td>화요일</td>\n",
       "      <td>맑음</td>\n",
       "      <td>단일로 - 기타</td>\n",
       "      <td>건조</td>\n",
       "      <td>차대사람</td>\n",
       "      <td>길가장자리구역통행중</td>\n",
       "      <td>안전운전불이행</td>\n",
       "      <td>승용</td>\n",
       "      <td>여</td>\n",
       "      <td>51세</td>\n",
       "      <td>상해없음</td>\n",
       "      <td>보행자</td>\n",
       "      <td>여</td>\n",
       "      <td>70세</td>\n",
       "      <td>중상</td>\n",
       "      <td>0</td>\n",
       "      <td>1</td>\n",
       "      <td>0</td>\n",
       "      <td>0</td>\n",
       "      <td>5</td>\n",
       "      <td>2019</td>\n",
       "      <td>1</td>\n",
       "      <td>1</td>\n",
       "      <td>0</td>\n",
       "      <td>대구광역시</td>\n",
       "      <td>중구</td>\n",
       "      <td>대신동</td>\n",
       "    </tr>\n",
       "    <tr>\n",
       "      <th>1</th>\n",
       "      <td>ACCIDENT_00001</td>\n",
       "      <td>2019-01-01 00</td>\n",
       "      <td>화요일</td>\n",
       "      <td>흐림</td>\n",
       "      <td>단일로 - 기타</td>\n",
       "      <td>건조</td>\n",
       "      <td>차대사람</td>\n",
       "      <td>보도통행중</td>\n",
       "      <td>기타</td>\n",
       "      <td>승용</td>\n",
       "      <td>남</td>\n",
       "      <td>39세</td>\n",
       "      <td>상해없음</td>\n",
       "      <td>보행자</td>\n",
       "      <td>남</td>\n",
       "      <td>61세</td>\n",
       "      <td>경상</td>\n",
       "      <td>0</td>\n",
       "      <td>0</td>\n",
       "      <td>1</td>\n",
       "      <td>0</td>\n",
       "      <td>3</td>\n",
       "      <td>2019</td>\n",
       "      <td>1</td>\n",
       "      <td>1</td>\n",
       "      <td>0</td>\n",
       "      <td>대구광역시</td>\n",
       "      <td>달서구</td>\n",
       "      <td>감삼동</td>\n",
       "    </tr>\n",
       "    <tr>\n",
       "      <th>2</th>\n",
       "      <td>ACCIDENT_00002</td>\n",
       "      <td>2019-01-01 01</td>\n",
       "      <td>화요일</td>\n",
       "      <td>맑음</td>\n",
       "      <td>단일로 - 기타</td>\n",
       "      <td>건조</td>\n",
       "      <td>차대사람</td>\n",
       "      <td>차도통행중</td>\n",
       "      <td>안전운전불이행</td>\n",
       "      <td>승용</td>\n",
       "      <td>남</td>\n",
       "      <td>70세</td>\n",
       "      <td>상해없음</td>\n",
       "      <td>보행자</td>\n",
       "      <td>남</td>\n",
       "      <td>38세</td>\n",
       "      <td>경상</td>\n",
       "      <td>0</td>\n",
       "      <td>0</td>\n",
       "      <td>1</td>\n",
       "      <td>0</td>\n",
       "      <td>3</td>\n",
       "      <td>2019</td>\n",
       "      <td>1</td>\n",
       "      <td>1</td>\n",
       "      <td>1</td>\n",
       "      <td>대구광역시</td>\n",
       "      <td>수성구</td>\n",
       "      <td>두산동</td>\n",
       "    </tr>\n",
       "    <tr>\n",
       "      <th>3</th>\n",
       "      <td>ACCIDENT_00003</td>\n",
       "      <td>2019-01-01 02</td>\n",
       "      <td>화요일</td>\n",
       "      <td>맑음</td>\n",
       "      <td>단일로 - 기타</td>\n",
       "      <td>건조</td>\n",
       "      <td>차대차</td>\n",
       "      <td>추돌</td>\n",
       "      <td>안전운전불이행</td>\n",
       "      <td>승용</td>\n",
       "      <td>남</td>\n",
       "      <td>49세</td>\n",
       "      <td>상해없음</td>\n",
       "      <td>승용</td>\n",
       "      <td>남</td>\n",
       "      <td>36세</td>\n",
       "      <td>중상</td>\n",
       "      <td>0</td>\n",
       "      <td>1</td>\n",
       "      <td>0</td>\n",
       "      <td>0</td>\n",
       "      <td>5</td>\n",
       "      <td>2019</td>\n",
       "      <td>1</td>\n",
       "      <td>1</td>\n",
       "      <td>2</td>\n",
       "      <td>대구광역시</td>\n",
       "      <td>북구</td>\n",
       "      <td>복현동</td>\n",
       "    </tr>\n",
       "    <tr>\n",
       "      <th>4</th>\n",
       "      <td>ACCIDENT_00004</td>\n",
       "      <td>2019-01-01 04</td>\n",
       "      <td>화요일</td>\n",
       "      <td>맑음</td>\n",
       "      <td>단일로 - 기타</td>\n",
       "      <td>건조</td>\n",
       "      <td>차대차</td>\n",
       "      <td>추돌</td>\n",
       "      <td>안전운전불이행</td>\n",
       "      <td>승용</td>\n",
       "      <td>남</td>\n",
       "      <td>30세</td>\n",
       "      <td>상해없음</td>\n",
       "      <td>승용</td>\n",
       "      <td>남</td>\n",
       "      <td>52세</td>\n",
       "      <td>경상</td>\n",
       "      <td>0</td>\n",
       "      <td>0</td>\n",
       "      <td>1</td>\n",
       "      <td>0</td>\n",
       "      <td>3</td>\n",
       "      <td>2019</td>\n",
       "      <td>1</td>\n",
       "      <td>1</td>\n",
       "      <td>4</td>\n",
       "      <td>대구광역시</td>\n",
       "      <td>동구</td>\n",
       "      <td>신암동</td>\n",
       "    </tr>\n",
       "  </tbody>\n",
       "</table>\n",
       "</div>"
      ],
      "text/plain": [
       "               ID           사고일시   요일 기상상태      도로형태 노면상태  사고유형 사고유형 - 세부분류  \\\n",
       "0  ACCIDENT_00000  2019-01-01 00  화요일   맑음  단일로 - 기타   건조  차대사람  길가장자리구역통행중   \n",
       "1  ACCIDENT_00001  2019-01-01 00  화요일   흐림  단일로 - 기타   건조  차대사람       보도통행중   \n",
       "2  ACCIDENT_00002  2019-01-01 01  화요일   맑음  단일로 - 기타   건조  차대사람       차도통행중   \n",
       "3  ACCIDENT_00003  2019-01-01 02  화요일   맑음  단일로 - 기타   건조   차대차          추돌   \n",
       "4  ACCIDENT_00004  2019-01-01 04  화요일   맑음  단일로 - 기타   건조   차대차          추돌   \n",
       "\n",
       "      법규위반 가해운전자 차종 가해운전자 성별 가해운전자 연령 가해운전자 상해정도 피해운전자 차종 피해운전자 성별 피해운전자 연령  \\\n",
       "0  안전운전불이행       승용        여      51세       상해없음      보행자        여      70세   \n",
       "1       기타       승용        남      39세       상해없음      보행자        남      61세   \n",
       "2  안전운전불이행       승용        남      70세       상해없음      보행자        남      38세   \n",
       "3  안전운전불이행       승용        남      49세       상해없음       승용        남      36세   \n",
       "4  안전운전불이행       승용        남      30세       상해없음       승용        남      52세   \n",
       "\n",
       "  피해운전자 상해정도  사망자수  중상자수  경상자수  부상자수  ECLO     연  월  일  시간     도시    구    동  \n",
       "0         중상     0     1     0     0     5  2019  1  1   0  대구광역시   중구  대신동  \n",
       "1         경상     0     0     1     0     3  2019  1  1   0  대구광역시  달서구  감삼동  \n",
       "2         경상     0     0     1     0     3  2019  1  1   1  대구광역시  수성구  두산동  \n",
       "3         중상     0     1     0     0     5  2019  1  1   2  대구광역시   북구  복현동  \n",
       "4         경상     0     0     1     0     3  2019  1  1   4  대구광역시   동구  신암동  "
      ]
     },
     "metadata": {},
     "output_type": "display_data"
    },
    {
     "data": {
      "text/html": [
       "<div>\n",
       "<style scoped>\n",
       "    .dataframe tbody tr th:only-of-type {\n",
       "        vertical-align: middle;\n",
       "    }\n",
       "\n",
       "    .dataframe tbody tr th {\n",
       "        vertical-align: top;\n",
       "    }\n",
       "\n",
       "    .dataframe thead th {\n",
       "        text-align: right;\n",
       "    }\n",
       "</style>\n",
       "<table border=\"1\" class=\"dataframe\">\n",
       "  <thead>\n",
       "    <tr style=\"text-align: right;\">\n",
       "      <th></th>\n",
       "      <th>ID</th>\n",
       "      <th>사고일시</th>\n",
       "      <th>요일</th>\n",
       "      <th>기상상태</th>\n",
       "      <th>도로형태</th>\n",
       "      <th>노면상태</th>\n",
       "      <th>사고유형</th>\n",
       "      <th>연</th>\n",
       "      <th>월</th>\n",
       "      <th>일</th>\n",
       "      <th>시간</th>\n",
       "      <th>도시</th>\n",
       "      <th>구</th>\n",
       "      <th>동</th>\n",
       "    </tr>\n",
       "  </thead>\n",
       "  <tbody>\n",
       "    <tr>\n",
       "      <th>0</th>\n",
       "      <td>ACCIDENT_39609</td>\n",
       "      <td>2022-01-01 01</td>\n",
       "      <td>토요일</td>\n",
       "      <td>맑음</td>\n",
       "      <td>교차로 - 교차로안</td>\n",
       "      <td>건조</td>\n",
       "      <td>차대사람</td>\n",
       "      <td>2022</td>\n",
       "      <td>1</td>\n",
       "      <td>1</td>\n",
       "      <td>1</td>\n",
       "      <td>대구광역시</td>\n",
       "      <td>수성구</td>\n",
       "      <td>상동</td>\n",
       "    </tr>\n",
       "    <tr>\n",
       "      <th>1</th>\n",
       "      <td>ACCIDENT_39610</td>\n",
       "      <td>2022-01-01 01</td>\n",
       "      <td>토요일</td>\n",
       "      <td>맑음</td>\n",
       "      <td>단일로 - 기타</td>\n",
       "      <td>건조</td>\n",
       "      <td>차대사람</td>\n",
       "      <td>2022</td>\n",
       "      <td>1</td>\n",
       "      <td>1</td>\n",
       "      <td>1</td>\n",
       "      <td>대구광역시</td>\n",
       "      <td>수성구</td>\n",
       "      <td>지산동</td>\n",
       "    </tr>\n",
       "    <tr>\n",
       "      <th>2</th>\n",
       "      <td>ACCIDENT_39611</td>\n",
       "      <td>2022-01-01 04</td>\n",
       "      <td>토요일</td>\n",
       "      <td>맑음</td>\n",
       "      <td>교차로 - 교차로안</td>\n",
       "      <td>건조</td>\n",
       "      <td>차대차</td>\n",
       "      <td>2022</td>\n",
       "      <td>1</td>\n",
       "      <td>1</td>\n",
       "      <td>4</td>\n",
       "      <td>대구광역시</td>\n",
       "      <td>수성구</td>\n",
       "      <td>수성동2가</td>\n",
       "    </tr>\n",
       "    <tr>\n",
       "      <th>3</th>\n",
       "      <td>ACCIDENT_39612</td>\n",
       "      <td>2022-01-01 04</td>\n",
       "      <td>토요일</td>\n",
       "      <td>맑음</td>\n",
       "      <td>단일로 - 기타</td>\n",
       "      <td>건조</td>\n",
       "      <td>차대차</td>\n",
       "      <td>2022</td>\n",
       "      <td>1</td>\n",
       "      <td>1</td>\n",
       "      <td>4</td>\n",
       "      <td>대구광역시</td>\n",
       "      <td>수성구</td>\n",
       "      <td>신매동</td>\n",
       "    </tr>\n",
       "    <tr>\n",
       "      <th>4</th>\n",
       "      <td>ACCIDENT_39613</td>\n",
       "      <td>2022-01-01 06</td>\n",
       "      <td>토요일</td>\n",
       "      <td>맑음</td>\n",
       "      <td>교차로 - 교차로안</td>\n",
       "      <td>건조</td>\n",
       "      <td>차대차</td>\n",
       "      <td>2022</td>\n",
       "      <td>1</td>\n",
       "      <td>1</td>\n",
       "      <td>6</td>\n",
       "      <td>대구광역시</td>\n",
       "      <td>달서구</td>\n",
       "      <td>감삼동</td>\n",
       "    </tr>\n",
       "  </tbody>\n",
       "</table>\n",
       "</div>"
      ],
      "text/plain": [
       "               ID           사고일시   요일 기상상태        도로형태 노면상태  사고유형     연  월  일  \\\n",
       "0  ACCIDENT_39609  2022-01-01 01  토요일   맑음  교차로 - 교차로안   건조  차대사람  2022  1  1   \n",
       "1  ACCIDENT_39610  2022-01-01 01  토요일   맑음    단일로 - 기타   건조  차대사람  2022  1  1   \n",
       "2  ACCIDENT_39611  2022-01-01 04  토요일   맑음  교차로 - 교차로안   건조   차대차  2022  1  1   \n",
       "3  ACCIDENT_39612  2022-01-01 04  토요일   맑음    단일로 - 기타   건조   차대차  2022  1  1   \n",
       "4  ACCIDENT_39613  2022-01-01 06  토요일   맑음  교차로 - 교차로안   건조   차대차  2022  1  1   \n",
       "\n",
       "   시간     도시    구      동  \n",
       "0   1  대구광역시  수성구     상동  \n",
       "1   1  대구광역시  수성구    지산동  \n",
       "2   4  대구광역시  수성구  수성동2가  \n",
       "3   4  대구광역시  수성구    신매동  \n",
       "4   6  대구광역시  달서구    감삼동  "
      ]
     },
     "metadata": {},
     "output_type": "display_data"
    }
   ],
   "source": [
    "display(train_df.head())\n",
    "display(test_df.head())"
   ]
  },
  {
   "cell_type": "code",
   "execution_count": 13,
   "metadata": {
    "ExecuteTime": {
     "end_time": "2023-12-06T18:49:20.474699Z",
     "start_time": "2023-12-06T18:49:20.452784Z"
    },
    "executionInfo": {
     "elapsed": 11,
     "status": "ok",
     "timestamp": 1701200390568,
     "user": {
      "displayName": "서은서",
      "userId": "08795597860961939533"
     },
     "user_tz": -540
    },
    "id": "A-botQme_5Ei"
   },
   "outputs": [],
   "source": [
    "train_df.drop('도시',axis=1,inplace=True)\n",
    "test_df.drop('도시',axis=1,inplace=True)"
   ]
  },
  {
   "cell_type": "markdown",
   "metadata": {
    "id": "P-2YFsdE_5Ei"
   },
   "source": [
    "## 추가 데이터 불러오기"
   ]
  },
  {
   "cell_type": "markdown",
   "metadata": {
    "id": "pQe7XGCc_5Ei"
   },
   "source": [
    "- 대구 보안등 정보\n",
    "- 대구 어린이 보호 구역 정보\n",
    "- 대구 주차장 정보\n",
    "- 대구 CCTV 정보\n",
    "- countrywide_accident"
   ]
  },
  {
   "cell_type": "code",
   "execution_count": 14,
   "metadata": {
    "ExecuteTime": {
     "end_time": "2023-12-06T18:49:24.999164Z",
     "start_time": "2023-12-06T18:49:24.813164Z"
    },
    "colab": {
     "base_uri": "https://localhost:8080/",
     "height": 206
    },
    "executionInfo": {
     "elapsed": 634,
     "status": "ok",
     "timestamp": 1701200391192,
     "user": {
      "displayName": "서은서",
      "userId": "08795597860961939533"
     },
     "user_tz": -540
    },
    "id": "M41rsTmC_5Ei",
    "outputId": "4d4c2966-ae75-4adf-b7b0-4423c04eeb61"
   },
   "outputs": [
    {
     "data": {
      "text/html": [
       "<div>\n",
       "<style scoped>\n",
       "    .dataframe tbody tr th:only-of-type {\n",
       "        vertical-align: middle;\n",
       "    }\n",
       "\n",
       "    .dataframe tbody tr th {\n",
       "        vertical-align: top;\n",
       "    }\n",
       "\n",
       "    .dataframe thead th {\n",
       "        text-align: right;\n",
       "    }\n",
       "</style>\n",
       "<table border=\"1\" class=\"dataframe\">\n",
       "  <thead>\n",
       "    <tr style=\"text-align: right;\">\n",
       "      <th></th>\n",
       "      <th>보안등위치명</th>\n",
       "      <th>설치개수</th>\n",
       "      <th>소재지도로명주소</th>\n",
       "      <th>소재지지번주소</th>\n",
       "      <th>위도</th>\n",
       "      <th>경도</th>\n",
       "      <th>설치연도</th>\n",
       "      <th>설치형태</th>\n",
       "    </tr>\n",
       "  </thead>\n",
       "  <tbody>\n",
       "    <tr>\n",
       "      <th>0</th>\n",
       "      <td>대명1동1</td>\n",
       "      <td>1</td>\n",
       "      <td>대구광역시 남구 현충로 155</td>\n",
       "      <td>대구광역시 남구 대명동 1722-4</td>\n",
       "      <td>35.846703</td>\n",
       "      <td>128.579803</td>\n",
       "      <td>2016.0</td>\n",
       "      <td>한전주</td>\n",
       "    </tr>\n",
       "    <tr>\n",
       "      <th>1</th>\n",
       "      <td>대명1동2</td>\n",
       "      <td>1</td>\n",
       "      <td>대구광역시 남구 현충로31길 10-1</td>\n",
       "      <td>대구광역시 남구 대명동 1723-11</td>\n",
       "      <td>35.846863</td>\n",
       "      <td>128.579406</td>\n",
       "      <td>2016.0</td>\n",
       "      <td>한전주</td>\n",
       "    </tr>\n",
       "    <tr>\n",
       "      <th>2</th>\n",
       "      <td>대명1동3</td>\n",
       "      <td>1</td>\n",
       "      <td>대구광역시 남구 현충로31길 9-8</td>\n",
       "      <td>대구광역시 남구 대명동 1722-56</td>\n",
       "      <td>35.846341</td>\n",
       "      <td>128.579342</td>\n",
       "      <td>2017.0</td>\n",
       "      <td>건축물</td>\n",
       "    </tr>\n",
       "    <tr>\n",
       "      <th>3</th>\n",
       "      <td>대명1동4</td>\n",
       "      <td>2</td>\n",
       "      <td>대구광역시 남구 현충로31길 19-11</td>\n",
       "      <td>대구광역시 남구 대명동 1722-41</td>\n",
       "      <td>35.846368</td>\n",
       "      <td>128.578922</td>\n",
       "      <td>2016.0</td>\n",
       "      <td>한전주</td>\n",
       "    </tr>\n",
       "    <tr>\n",
       "      <th>4</th>\n",
       "      <td>대명1동5</td>\n",
       "      <td>1</td>\n",
       "      <td>대구광역시 남구 현충로29길 22-2</td>\n",
       "      <td>대구광역시 남구 대명동 1721-22</td>\n",
       "      <td>35.845995</td>\n",
       "      <td>128.578858</td>\n",
       "      <td>2016.0</td>\n",
       "      <td>한전주</td>\n",
       "    </tr>\n",
       "  </tbody>\n",
       "</table>\n",
       "</div>"
      ],
      "text/plain": [
       "  보안등위치명  설치개수               소재지도로명주소               소재지지번주소         위도  \\\n",
       "0  대명1동1     1       대구광역시 남구 현충로 155   대구광역시 남구 대명동 1722-4  35.846703   \n",
       "1  대명1동2     1   대구광역시 남구 현충로31길 10-1  대구광역시 남구 대명동 1723-11  35.846863   \n",
       "2  대명1동3     1    대구광역시 남구 현충로31길 9-8  대구광역시 남구 대명동 1722-56  35.846341   \n",
       "3  대명1동4     2  대구광역시 남구 현충로31길 19-11  대구광역시 남구 대명동 1722-41  35.846368   \n",
       "4  대명1동5     1   대구광역시 남구 현충로29길 22-2  대구광역시 남구 대명동 1721-22  35.845995   \n",
       "\n",
       "           경도    설치연도 설치형태  \n",
       "0  128.579803  2016.0  한전주  \n",
       "1  128.579406  2016.0  한전주  \n",
       "2  128.579342  2017.0  건축물  \n",
       "3  128.578922  2016.0  한전주  \n",
       "4  128.578858  2016.0  한전주  "
      ]
     },
     "execution_count": 14,
     "metadata": {},
     "output_type": "execute_result"
    }
   ],
   "source": [
    "light = pd.read_csv(path+'대구 보안등 정보.csv',encoding='cp949')\n",
    "light.head()"
   ]
  },
  {
   "cell_type": "code",
   "execution_count": 15,
   "metadata": {
    "ExecuteTime": {
     "end_time": "2023-12-06T18:49:25.857478Z",
     "start_time": "2023-12-06T18:49:25.844666Z"
    },
    "executionInfo": {
     "elapsed": 10,
     "status": "ok",
     "timestamp": 1701200391192,
     "user": {
      "displayName": "서은서",
      "userId": "08795597860961939533"
     },
     "user_tz": -540
    },
    "id": "qUVTKWwE_5Ei"
   },
   "outputs": [],
   "source": [
    "def black_split_1(x):\n",
    "    return x.split(' ')[1]"
   ]
  },
  {
   "cell_type": "code",
   "execution_count": 16,
   "metadata": {
    "ExecuteTime": {
     "end_time": "2023-12-06T18:49:26.321868Z",
     "start_time": "2023-12-06T18:49:26.308870Z"
    },
    "executionInfo": {
     "elapsed": 10,
     "status": "ok",
     "timestamp": 1701200391192,
     "user": {
      "displayName": "서은서",
      "userId": "08795597860961939533"
     },
     "user_tz": -540
    },
    "id": "5hFyxKck_5Ei"
   },
   "outputs": [],
   "source": [
    "def black_split_2(x):\n",
    "    try:\n",
    "        return x.split(' ')[2]\n",
    "    except:\n",
    "        return x"
   ]
  },
  {
   "cell_type": "code",
   "execution_count": 17,
   "metadata": {
    "ExecuteTime": {
     "end_time": "2023-12-06T18:49:26.900298Z",
     "start_time": "2023-12-06T18:49:26.821346Z"
    },
    "colab": {
     "base_uri": "https://localhost:8080/",
     "height": 206
    },
    "executionInfo": {
     "elapsed": 10,
     "status": "ok",
     "timestamp": 1701200391192,
     "user": {
      "displayName": "서은서",
      "userId": "08795597860961939533"
     },
     "user_tz": -540
    },
    "id": "8cp5XPaw_5Ei",
    "outputId": "1d1ba06a-4655-45da-f869-18e29dc0254d"
   },
   "outputs": [
    {
     "data": {
      "text/html": [
       "<div>\n",
       "<style scoped>\n",
       "    .dataframe tbody tr th:only-of-type {\n",
       "        vertical-align: middle;\n",
       "    }\n",
       "\n",
       "    .dataframe tbody tr th {\n",
       "        vertical-align: top;\n",
       "    }\n",
       "\n",
       "    .dataframe thead th {\n",
       "        text-align: right;\n",
       "    }\n",
       "</style>\n",
       "<table border=\"1\" class=\"dataframe\">\n",
       "  <thead>\n",
       "    <tr style=\"text-align: right;\">\n",
       "      <th></th>\n",
       "      <th>보안등위치명</th>\n",
       "      <th>설치개수</th>\n",
       "      <th>소재지도로명주소</th>\n",
       "      <th>소재지지번주소</th>\n",
       "      <th>위도</th>\n",
       "      <th>경도</th>\n",
       "      <th>설치연도</th>\n",
       "      <th>설치형태</th>\n",
       "      <th>구</th>\n",
       "      <th>동</th>\n",
       "    </tr>\n",
       "  </thead>\n",
       "  <tbody>\n",
       "    <tr>\n",
       "      <th>0</th>\n",
       "      <td>대명1동1</td>\n",
       "      <td>1</td>\n",
       "      <td>대구광역시 남구 현충로 155</td>\n",
       "      <td>대구광역시 남구 대명동 1722-4</td>\n",
       "      <td>35.846703</td>\n",
       "      <td>128.579803</td>\n",
       "      <td>2016.0</td>\n",
       "      <td>한전주</td>\n",
       "      <td>남구</td>\n",
       "      <td>대명동</td>\n",
       "    </tr>\n",
       "    <tr>\n",
       "      <th>1</th>\n",
       "      <td>대명1동2</td>\n",
       "      <td>1</td>\n",
       "      <td>대구광역시 남구 현충로31길 10-1</td>\n",
       "      <td>대구광역시 남구 대명동 1723-11</td>\n",
       "      <td>35.846863</td>\n",
       "      <td>128.579406</td>\n",
       "      <td>2016.0</td>\n",
       "      <td>한전주</td>\n",
       "      <td>남구</td>\n",
       "      <td>대명동</td>\n",
       "    </tr>\n",
       "    <tr>\n",
       "      <th>2</th>\n",
       "      <td>대명1동3</td>\n",
       "      <td>1</td>\n",
       "      <td>대구광역시 남구 현충로31길 9-8</td>\n",
       "      <td>대구광역시 남구 대명동 1722-56</td>\n",
       "      <td>35.846341</td>\n",
       "      <td>128.579342</td>\n",
       "      <td>2017.0</td>\n",
       "      <td>건축물</td>\n",
       "      <td>남구</td>\n",
       "      <td>대명동</td>\n",
       "    </tr>\n",
       "    <tr>\n",
       "      <th>3</th>\n",
       "      <td>대명1동4</td>\n",
       "      <td>2</td>\n",
       "      <td>대구광역시 남구 현충로31길 19-11</td>\n",
       "      <td>대구광역시 남구 대명동 1722-41</td>\n",
       "      <td>35.846368</td>\n",
       "      <td>128.578922</td>\n",
       "      <td>2016.0</td>\n",
       "      <td>한전주</td>\n",
       "      <td>남구</td>\n",
       "      <td>대명동</td>\n",
       "    </tr>\n",
       "    <tr>\n",
       "      <th>4</th>\n",
       "      <td>대명1동5</td>\n",
       "      <td>1</td>\n",
       "      <td>대구광역시 남구 현충로29길 22-2</td>\n",
       "      <td>대구광역시 남구 대명동 1721-22</td>\n",
       "      <td>35.845995</td>\n",
       "      <td>128.578858</td>\n",
       "      <td>2016.0</td>\n",
       "      <td>한전주</td>\n",
       "      <td>남구</td>\n",
       "      <td>대명동</td>\n",
       "    </tr>\n",
       "  </tbody>\n",
       "</table>\n",
       "</div>"
      ],
      "text/plain": [
       "  보안등위치명  설치개수               소재지도로명주소               소재지지번주소         위도  \\\n",
       "0  대명1동1     1       대구광역시 남구 현충로 155   대구광역시 남구 대명동 1722-4  35.846703   \n",
       "1  대명1동2     1   대구광역시 남구 현충로31길 10-1  대구광역시 남구 대명동 1723-11  35.846863   \n",
       "2  대명1동3     1    대구광역시 남구 현충로31길 9-8  대구광역시 남구 대명동 1722-56  35.846341   \n",
       "3  대명1동4     2  대구광역시 남구 현충로31길 19-11  대구광역시 남구 대명동 1722-41  35.846368   \n",
       "4  대명1동5     1   대구광역시 남구 현충로29길 22-2  대구광역시 남구 대명동 1721-22  35.845995   \n",
       "\n",
       "           경도    설치연도 설치형태   구    동  \n",
       "0  128.579803  2016.0  한전주  남구  대명동  \n",
       "1  128.579406  2016.0  한전주  남구  대명동  \n",
       "2  128.579342  2017.0  건축물  남구  대명동  \n",
       "3  128.578922  2016.0  한전주  남구  대명동  \n",
       "4  128.578858  2016.0  한전주  남구  대명동  "
      ]
     },
     "execution_count": 17,
     "metadata": {},
     "output_type": "execute_result"
    }
   ],
   "source": [
    "light['구'] = light['소재지지번주소'].apply(black_split_1)\n",
    "light['동'] = light['소재지지번주소'].apply(black_split_2)\n",
    "light.head()"
   ]
  },
  {
   "cell_type": "code",
   "execution_count": 18,
   "metadata": {
    "ExecuteTime": {
     "end_time": "2023-12-06T18:49:27.506909Z",
     "start_time": "2023-12-06T18:49:27.319273Z"
    },
    "executionInfo": {
     "elapsed": 9,
     "status": "ok",
     "timestamp": 1701200391193,
     "user": {
      "displayName": "서은서",
      "userId": "08795597860961939533"
     },
     "user_tz": -540
    },
    "id": "Pqi5HYlW_5Ei"
   },
   "outputs": [],
   "source": [
    "pattern = r'(\\w+동)'\n",
    "light['동'] = light['동'].str.extract(pattern)"
   ]
  },
  {
   "cell_type": "code",
   "execution_count": 19,
   "metadata": {
    "ExecuteTime": {
     "end_time": "2023-12-06T18:49:27.742612Z",
     "start_time": "2023-12-06T18:49:27.719833Z"
    },
    "colab": {
     "base_uri": "https://localhost:8080/",
     "height": 455
    },
    "executionInfo": {
     "elapsed": 590,
     "status": "ok",
     "timestamp": 1701200391774,
     "user": {
      "displayName": "서은서",
      "userId": "08795597860961939533"
     },
     "user_tz": -540
    },
    "id": "I_xOHU74_5Ei",
    "outputId": "d52ca765-cff5-4a97-93e4-766b7b1ec227"
   },
   "outputs": [
    {
     "data": {
      "text/html": [
       "<div>\n",
       "<style scoped>\n",
       "    .dataframe tbody tr th:only-of-type {\n",
       "        vertical-align: middle;\n",
       "    }\n",
       "\n",
       "    .dataframe tbody tr th {\n",
       "        vertical-align: top;\n",
       "    }\n",
       "\n",
       "    .dataframe thead th {\n",
       "        text-align: right;\n",
       "    }\n",
       "</style>\n",
       "<table border=\"1\" class=\"dataframe\">\n",
       "  <thead>\n",
       "    <tr style=\"text-align: right;\">\n",
       "      <th></th>\n",
       "      <th>보안등개수</th>\n",
       "    </tr>\n",
       "    <tr>\n",
       "      <th>동</th>\n",
       "      <th></th>\n",
       "    </tr>\n",
       "  </thead>\n",
       "  <tbody>\n",
       "    <tr>\n",
       "      <th>3가동</th>\n",
       "      <td>491</td>\n",
       "    </tr>\n",
       "    <tr>\n",
       "      <th>3동</th>\n",
       "      <td>1636</td>\n",
       "    </tr>\n",
       "    <tr>\n",
       "      <th>각산동</th>\n",
       "      <td>139</td>\n",
       "    </tr>\n",
       "    <tr>\n",
       "      <th>갈산동</th>\n",
       "      <td>351</td>\n",
       "    </tr>\n",
       "    <tr>\n",
       "      <th>감삼동</th>\n",
       "      <td>941</td>\n",
       "    </tr>\n",
       "    <tr>\n",
       "      <th>...</th>\n",
       "      <td>...</td>\n",
       "    </tr>\n",
       "    <tr>\n",
       "      <th>호산동</th>\n",
       "      <td>214</td>\n",
       "    </tr>\n",
       "    <tr>\n",
       "      <th>화전동</th>\n",
       "      <td>22</td>\n",
       "    </tr>\n",
       "    <tr>\n",
       "      <th>황금1동</th>\n",
       "      <td>153</td>\n",
       "    </tr>\n",
       "    <tr>\n",
       "      <th>황금2동</th>\n",
       "      <td>590</td>\n",
       "    </tr>\n",
       "    <tr>\n",
       "      <th>효목동</th>\n",
       "      <td>1164</td>\n",
       "    </tr>\n",
       "  </tbody>\n",
       "</table>\n",
       "<p>179 rows × 1 columns</p>\n",
       "</div>"
      ],
      "text/plain": [
       "      보안등개수\n",
       "동          \n",
       "3가동     491\n",
       "3동     1636\n",
       "각산동     139\n",
       "갈산동     351\n",
       "감삼동     941\n",
       "...     ...\n",
       "호산동     214\n",
       "화전동      22\n",
       "황금1동    153\n",
       "황금2동    590\n",
       "효목동    1164\n",
       "\n",
       "[179 rows x 1 columns]"
      ]
     },
     "execution_count": 19,
     "metadata": {},
     "output_type": "execute_result"
    }
   ],
   "source": [
    "# dong_install = light.groupby(['동'])[['설치개수']].mean()\n",
    "light.rename(columns={'설치개수':'보안등개수'},inplace = True)\n",
    "dong_install = light.groupby(['동'])[['보안등개수']].sum() #📢sum으로 바꿈\n",
    "dong_install"
   ]
  },
  {
   "cell_type": "code",
   "execution_count": 20,
   "metadata": {
    "ExecuteTime": {
     "end_time": "2023-12-06T18:49:29.712087Z",
     "start_time": "2023-12-06T18:49:29.693088Z"
    }
   },
   "outputs": [],
   "source": [
    "# dong_install.to_csv('../data/daegu/automl/동별_보안등설치개수.csv',encoding='utf-8')"
   ]
  },
  {
   "cell_type": "code",
   "execution_count": 22,
   "metadata": {
    "ExecuteTime": {
     "end_time": "2023-12-06T18:49:38.610209Z",
     "start_time": "2023-12-06T18:49:38.588907Z"
    }
   },
   "outputs": [
    {
     "data": {
      "text/html": [
       "<div>\n",
       "<style scoped>\n",
       "    .dataframe tbody tr th:only-of-type {\n",
       "        vertical-align: middle;\n",
       "    }\n",
       "\n",
       "    .dataframe tbody tr th {\n",
       "        vertical-align: top;\n",
       "    }\n",
       "\n",
       "    .dataframe thead th {\n",
       "        text-align: right;\n",
       "    }\n",
       "</style>\n",
       "<table border=\"1\" class=\"dataframe\">\n",
       "  <thead>\n",
       "    <tr style=\"text-align: right;\">\n",
       "      <th></th>\n",
       "      <th>구</th>\n",
       "      <th>동</th>\n",
       "      <th>어린이보호구역개수</th>\n",
       "    </tr>\n",
       "  </thead>\n",
       "  <tbody>\n",
       "    <tr>\n",
       "      <th>0</th>\n",
       "      <td>남구</td>\n",
       "      <td>대명동</td>\n",
       "      <td>26</td>\n",
       "    </tr>\n",
       "    <tr>\n",
       "      <th>1</th>\n",
       "      <td>남구</td>\n",
       "      <td>봉덕동</td>\n",
       "      <td>8</td>\n",
       "    </tr>\n",
       "    <tr>\n",
       "      <th>2</th>\n",
       "      <td>남구</td>\n",
       "      <td>이천동</td>\n",
       "      <td>6</td>\n",
       "    </tr>\n",
       "    <tr>\n",
       "      <th>3</th>\n",
       "      <td>달성군</td>\n",
       "      <td>가창면</td>\n",
       "      <td>4</td>\n",
       "    </tr>\n",
       "    <tr>\n",
       "      <th>4</th>\n",
       "      <td>달성군</td>\n",
       "      <td>구지면</td>\n",
       "      <td>3</td>\n",
       "    </tr>\n",
       "    <tr>\n",
       "      <th>...</th>\n",
       "      <td>...</td>\n",
       "      <td>...</td>\n",
       "      <td>...</td>\n",
       "    </tr>\n",
       "    <tr>\n",
       "      <th>66</th>\n",
       "      <td>중구</td>\n",
       "      <td>봉산동</td>\n",
       "      <td>2</td>\n",
       "    </tr>\n",
       "    <tr>\n",
       "      <th>67</th>\n",
       "      <td>중구</td>\n",
       "      <td>삼덕동2가</td>\n",
       "      <td>1</td>\n",
       "    </tr>\n",
       "    <tr>\n",
       "      <th>68</th>\n",
       "      <td>중구</td>\n",
       "      <td>삼덕동3가</td>\n",
       "      <td>1</td>\n",
       "    </tr>\n",
       "    <tr>\n",
       "      <th>69</th>\n",
       "      <td>중구</td>\n",
       "      <td>서문로1가</td>\n",
       "      <td>1</td>\n",
       "    </tr>\n",
       "    <tr>\n",
       "      <th>70</th>\n",
       "      <td>중구</td>\n",
       "      <td>수창동</td>\n",
       "      <td>1</td>\n",
       "    </tr>\n",
       "  </tbody>\n",
       "</table>\n",
       "<p>71 rows × 3 columns</p>\n",
       "</div>"
      ],
      "text/plain": [
       "      구      동  어린이보호구역개수\n",
       "0    남구    대명동         26\n",
       "1    남구    봉덕동          8\n",
       "2    남구    이천동          6\n",
       "3   달성군    가창면          4\n",
       "4   달성군    구지면          3\n",
       "..  ...    ...        ...\n",
       "66   중구    봉산동          2\n",
       "67   중구  삼덕동2가          1\n",
       "68   중구  삼덕동3가          1\n",
       "69   중구  서문로1가          1\n",
       "70   중구    수창동          1\n",
       "\n",
       "[71 rows x 3 columns]"
      ]
     },
     "execution_count": 22,
     "metadata": {},
     "output_type": "execute_result"
    }
   ],
   "source": [
    "pd.read_csv(path+'동별_보안등개수.csv')"
   ]
  },
  {
   "cell_type": "code",
   "execution_count": 23,
   "metadata": {
    "ExecuteTime": {
     "end_time": "2023-12-06T18:49:42.312564Z",
     "start_time": "2023-12-06T18:49:42.278018Z"
    },
    "colab": {
     "base_uri": "https://localhost:8080/",
     "height": 206
    },
    "executionInfo": {
     "elapsed": 21,
     "status": "ok",
     "timestamp": 1701200391774,
     "user": {
      "displayName": "서은서",
      "userId": "08795597860961939533"
     },
     "user_tz": -540
    },
    "id": "SkqXtIF6_5Ej",
    "outputId": "66064194-1f12-47ee-c316-42de57a276e4"
   },
   "outputs": [
    {
     "data": {
      "text/html": [
       "<div>\n",
       "<style scoped>\n",
       "    .dataframe tbody tr th:only-of-type {\n",
       "        vertical-align: middle;\n",
       "    }\n",
       "\n",
       "    .dataframe tbody tr th {\n",
       "        vertical-align: top;\n",
       "    }\n",
       "\n",
       "    .dataframe thead th {\n",
       "        text-align: right;\n",
       "    }\n",
       "</style>\n",
       "<table border=\"1\" class=\"dataframe\">\n",
       "  <thead>\n",
       "    <tr style=\"text-align: right;\">\n",
       "      <th></th>\n",
       "      <th>시설종류</th>\n",
       "      <th>대상시설명</th>\n",
       "      <th>소재지도로명주소</th>\n",
       "      <th>소재지지번주소</th>\n",
       "      <th>위도</th>\n",
       "      <th>경도</th>\n",
       "      <th>관리기관명</th>\n",
       "      <th>관할경찰서명</th>\n",
       "      <th>CCTV설치여부</th>\n",
       "      <th>CCTV설치대수</th>\n",
       "      <th>보호구역도로폭</th>\n",
       "      <th>데이터기준일자</th>\n",
       "    </tr>\n",
       "  </thead>\n",
       "  <tbody>\n",
       "    <tr>\n",
       "      <th>0</th>\n",
       "      <td>초등학교</td>\n",
       "      <td>남도초등학교</td>\n",
       "      <td>대구광역시 남구 현충동길 74(대명동)</td>\n",
       "      <td>대구광역시 남구 대명동 1709</td>\n",
       "      <td>35.845027</td>\n",
       "      <td>128.581402</td>\n",
       "      <td>대구광역시</td>\n",
       "      <td>남부경찰서</td>\n",
       "      <td>Y</td>\n",
       "      <td>7.0</td>\n",
       "      <td>6~8</td>\n",
       "      <td>2020-03-23</td>\n",
       "    </tr>\n",
       "    <tr>\n",
       "      <th>1</th>\n",
       "      <td>초등학교</td>\n",
       "      <td>영선초등학교</td>\n",
       "      <td>대구광역시 남구 영선길96(이천동)</td>\n",
       "      <td>대구광역시 남구 이천동 477</td>\n",
       "      <td>35.852901</td>\n",
       "      <td>128.596014</td>\n",
       "      <td>대구광역시</td>\n",
       "      <td>남부경찰서</td>\n",
       "      <td>Y</td>\n",
       "      <td>8.0</td>\n",
       "      <td>6~10</td>\n",
       "      <td>2020-03-23</td>\n",
       "    </tr>\n",
       "    <tr>\n",
       "      <th>2</th>\n",
       "      <td>초등학교</td>\n",
       "      <td>성명초등학교</td>\n",
       "      <td>대구광역시 남구 성당로 30길 55(대명동)</td>\n",
       "      <td>대구광역시 남구 대명동 3050</td>\n",
       "      <td>35.845152</td>\n",
       "      <td>128.570825</td>\n",
       "      <td>대구광역시</td>\n",
       "      <td>남부경찰서</td>\n",
       "      <td>Y</td>\n",
       "      <td>14.0</td>\n",
       "      <td>8~12</td>\n",
       "      <td>2020-03-23</td>\n",
       "    </tr>\n",
       "    <tr>\n",
       "      <th>3</th>\n",
       "      <td>초등학교</td>\n",
       "      <td>남덕초등학교</td>\n",
       "      <td>대구광역시 남구 앞산순환로 93길 33</td>\n",
       "      <td>대구광역시 남구 대명동 531-1</td>\n",
       "      <td>35.833042</td>\n",
       "      <td>128.573949</td>\n",
       "      <td>대구광역시</td>\n",
       "      <td>남부경찰서</td>\n",
       "      <td>Y</td>\n",
       "      <td>6.0</td>\n",
       "      <td>6~8</td>\n",
       "      <td>2020-03-23</td>\n",
       "    </tr>\n",
       "    <tr>\n",
       "      <th>4</th>\n",
       "      <td>초등학교</td>\n",
       "      <td>대명초등학교</td>\n",
       "      <td>대구광역시 남구 대명로 110</td>\n",
       "      <td>대구광역시 남구 대명동 960</td>\n",
       "      <td>35.838869</td>\n",
       "      <td>128.568889</td>\n",
       "      <td>대구광역시</td>\n",
       "      <td>남부경찰서</td>\n",
       "      <td>Y</td>\n",
       "      <td>5.0</td>\n",
       "      <td>6~10</td>\n",
       "      <td>2020-03-23</td>\n",
       "    </tr>\n",
       "  </tbody>\n",
       "</table>\n",
       "</div>"
      ],
      "text/plain": [
       "   시설종류   대상시설명                  소재지도로명주소             소재지지번주소         위도  \\\n",
       "0  초등학교  남도초등학교     대구광역시 남구 현충동길 74(대명동)   대구광역시 남구 대명동 1709  35.845027   \n",
       "1  초등학교  영선초등학교       대구광역시 남구 영선길96(이천동)    대구광역시 남구 이천동 477  35.852901   \n",
       "2  초등학교  성명초등학교  대구광역시 남구 성당로 30길 55(대명동)   대구광역시 남구 대명동 3050  35.845152   \n",
       "3  초등학교  남덕초등학교     대구광역시 남구 앞산순환로 93길 33  대구광역시 남구 대명동 531-1  35.833042   \n",
       "4  초등학교  대명초등학교          대구광역시 남구 대명로 110    대구광역시 남구 대명동 960  35.838869   \n",
       "\n",
       "           경도  관리기관명 관할경찰서명 CCTV설치여부  CCTV설치대수 보호구역도로폭     데이터기준일자  \n",
       "0  128.581402  대구광역시  남부경찰서        Y       7.0     6~8  2020-03-23  \n",
       "1  128.596014  대구광역시  남부경찰서        Y       8.0    6~10  2020-03-23  \n",
       "2  128.570825  대구광역시  남부경찰서        Y      14.0    8~12  2020-03-23  \n",
       "3  128.573949  대구광역시  남부경찰서        Y       6.0     6~8  2020-03-23  \n",
       "4  128.568889  대구광역시  남부경찰서        Y       5.0    6~10  2020-03-23  "
      ]
     },
     "execution_count": 23,
     "metadata": {},
     "output_type": "execute_result"
    }
   ],
   "source": [
    "chil_info = pd.read_csv(path+'대구 어린이 보호 구역 정보.csv',encoding='cp949')\n",
    "chil_info.head()"
   ]
  },
  {
   "cell_type": "code",
   "execution_count": 24,
   "metadata": {
    "ExecuteTime": {
     "end_time": "2023-12-06T18:49:42.951108Z",
     "start_time": "2023-12-06T18:49:42.942826Z"
    },
    "executionInfo": {
     "elapsed": 20,
     "status": "ok",
     "timestamp": 1701200391775,
     "user": {
      "displayName": "서은서",
      "userId": "08795597860961939533"
     },
     "user_tz": -540
    },
    "id": "b2YlS_m8_5Ej"
   },
   "outputs": [],
   "source": [
    "def black_split_1(x):\n",
    "    try:\n",
    "        return x.split(' ')[1]\n",
    "    except:\n",
    "        return x"
   ]
  },
  {
   "cell_type": "code",
   "execution_count": 25,
   "metadata": {
    "ExecuteTime": {
     "end_time": "2023-12-06T18:49:43.606501Z",
     "start_time": "2023-12-06T18:49:43.598262Z"
    },
    "executionInfo": {
     "elapsed": 19,
     "status": "ok",
     "timestamp": 1701200391775,
     "user": {
      "displayName": "서은서",
      "userId": "08795597860961939533"
     },
     "user_tz": -540
    },
    "id": "V9I4wpQJ_5Ej"
   },
   "outputs": [],
   "source": [
    "def black_split_2(x):\n",
    "    try:\n",
    "        return x.split(' ')[2]\n",
    "    except:\n",
    "        return x"
   ]
  },
  {
   "cell_type": "code",
   "execution_count": 26,
   "metadata": {
    "ExecuteTime": {
     "end_time": "2023-12-06T18:49:45.187156Z",
     "start_time": "2023-12-06T18:49:45.165476Z"
    },
    "colab": {
     "base_uri": "https://localhost:8080/",
     "height": 310
    },
    "executionInfo": {
     "elapsed": 19,
     "status": "ok",
     "timestamp": 1701200391775,
     "user": {
      "displayName": "서은서",
      "userId": "08795597860961939533"
     },
     "user_tz": -540
    },
    "id": "PWgSo4KI_5Ej",
    "outputId": "588706f9-b0ae-4f38-a9f0-fe98d66d801e"
   },
   "outputs": [
    {
     "data": {
      "text/html": [
       "<div>\n",
       "<style scoped>\n",
       "    .dataframe tbody tr th:only-of-type {\n",
       "        vertical-align: middle;\n",
       "    }\n",
       "\n",
       "    .dataframe tbody tr th {\n",
       "        vertical-align: top;\n",
       "    }\n",
       "\n",
       "    .dataframe thead th {\n",
       "        text-align: right;\n",
       "    }\n",
       "</style>\n",
       "<table border=\"1\" class=\"dataframe\">\n",
       "  <thead>\n",
       "    <tr style=\"text-align: right;\">\n",
       "      <th></th>\n",
       "      <th>시설종류</th>\n",
       "      <th>대상시설명</th>\n",
       "      <th>소재지도로명주소</th>\n",
       "      <th>소재지지번주소</th>\n",
       "      <th>위도</th>\n",
       "      <th>경도</th>\n",
       "      <th>관리기관명</th>\n",
       "      <th>관할경찰서명</th>\n",
       "      <th>CCTV설치여부</th>\n",
       "      <th>CCTV설치대수</th>\n",
       "      <th>보호구역도로폭</th>\n",
       "      <th>데이터기준일자</th>\n",
       "      <th>구</th>\n",
       "      <th>동</th>\n",
       "    </tr>\n",
       "  </thead>\n",
       "  <tbody>\n",
       "    <tr>\n",
       "      <th>0</th>\n",
       "      <td>초등학교</td>\n",
       "      <td>남도초등학교</td>\n",
       "      <td>대구광역시 남구 현충동길 74(대명동)</td>\n",
       "      <td>대구광역시 남구 대명동 1709</td>\n",
       "      <td>35.845027</td>\n",
       "      <td>128.581402</td>\n",
       "      <td>대구광역시</td>\n",
       "      <td>남부경찰서</td>\n",
       "      <td>Y</td>\n",
       "      <td>7.0</td>\n",
       "      <td>6~8</td>\n",
       "      <td>2020-03-23</td>\n",
       "      <td>남구</td>\n",
       "      <td>대명동</td>\n",
       "    </tr>\n",
       "    <tr>\n",
       "      <th>1</th>\n",
       "      <td>초등학교</td>\n",
       "      <td>영선초등학교</td>\n",
       "      <td>대구광역시 남구 영선길96(이천동)</td>\n",
       "      <td>대구광역시 남구 이천동 477</td>\n",
       "      <td>35.852901</td>\n",
       "      <td>128.596014</td>\n",
       "      <td>대구광역시</td>\n",
       "      <td>남부경찰서</td>\n",
       "      <td>Y</td>\n",
       "      <td>8.0</td>\n",
       "      <td>6~10</td>\n",
       "      <td>2020-03-23</td>\n",
       "      <td>남구</td>\n",
       "      <td>이천동</td>\n",
       "    </tr>\n",
       "    <tr>\n",
       "      <th>2</th>\n",
       "      <td>초등학교</td>\n",
       "      <td>성명초등학교</td>\n",
       "      <td>대구광역시 남구 성당로 30길 55(대명동)</td>\n",
       "      <td>대구광역시 남구 대명동 3050</td>\n",
       "      <td>35.845152</td>\n",
       "      <td>128.570825</td>\n",
       "      <td>대구광역시</td>\n",
       "      <td>남부경찰서</td>\n",
       "      <td>Y</td>\n",
       "      <td>14.0</td>\n",
       "      <td>8~12</td>\n",
       "      <td>2020-03-23</td>\n",
       "      <td>남구</td>\n",
       "      <td>대명동</td>\n",
       "    </tr>\n",
       "    <tr>\n",
       "      <th>3</th>\n",
       "      <td>초등학교</td>\n",
       "      <td>남덕초등학교</td>\n",
       "      <td>대구광역시 남구 앞산순환로 93길 33</td>\n",
       "      <td>대구광역시 남구 대명동 531-1</td>\n",
       "      <td>35.833042</td>\n",
       "      <td>128.573949</td>\n",
       "      <td>대구광역시</td>\n",
       "      <td>남부경찰서</td>\n",
       "      <td>Y</td>\n",
       "      <td>6.0</td>\n",
       "      <td>6~8</td>\n",
       "      <td>2020-03-23</td>\n",
       "      <td>남구</td>\n",
       "      <td>대명동</td>\n",
       "    </tr>\n",
       "    <tr>\n",
       "      <th>4</th>\n",
       "      <td>초등학교</td>\n",
       "      <td>대명초등학교</td>\n",
       "      <td>대구광역시 남구 대명로 110</td>\n",
       "      <td>대구광역시 남구 대명동 960</td>\n",
       "      <td>35.838869</td>\n",
       "      <td>128.568889</td>\n",
       "      <td>대구광역시</td>\n",
       "      <td>남부경찰서</td>\n",
       "      <td>Y</td>\n",
       "      <td>5.0</td>\n",
       "      <td>6~10</td>\n",
       "      <td>2020-03-23</td>\n",
       "      <td>남구</td>\n",
       "      <td>대명동</td>\n",
       "    </tr>\n",
       "  </tbody>\n",
       "</table>\n",
       "</div>"
      ],
      "text/plain": [
       "   시설종류   대상시설명                  소재지도로명주소             소재지지번주소         위도  \\\n",
       "0  초등학교  남도초등학교     대구광역시 남구 현충동길 74(대명동)   대구광역시 남구 대명동 1709  35.845027   \n",
       "1  초등학교  영선초등학교       대구광역시 남구 영선길96(이천동)    대구광역시 남구 이천동 477  35.852901   \n",
       "2  초등학교  성명초등학교  대구광역시 남구 성당로 30길 55(대명동)   대구광역시 남구 대명동 3050  35.845152   \n",
       "3  초등학교  남덕초등학교     대구광역시 남구 앞산순환로 93길 33  대구광역시 남구 대명동 531-1  35.833042   \n",
       "4  초등학교  대명초등학교          대구광역시 남구 대명로 110    대구광역시 남구 대명동 960  35.838869   \n",
       "\n",
       "           경도  관리기관명 관할경찰서명 CCTV설치여부  CCTV설치대수 보호구역도로폭     데이터기준일자   구    동  \n",
       "0  128.581402  대구광역시  남부경찰서        Y       7.0     6~8  2020-03-23  남구  대명동  \n",
       "1  128.596014  대구광역시  남부경찰서        Y       8.0    6~10  2020-03-23  남구  이천동  \n",
       "2  128.570825  대구광역시  남부경찰서        Y      14.0    8~12  2020-03-23  남구  대명동  \n",
       "3  128.573949  대구광역시  남부경찰서        Y       6.0     6~8  2020-03-23  남구  대명동  \n",
       "4  128.568889  대구광역시  남부경찰서        Y       5.0    6~10  2020-03-23  남구  대명동  "
      ]
     },
     "execution_count": 26,
     "metadata": {},
     "output_type": "execute_result"
    }
   ],
   "source": [
    "chil_info['구'] = chil_info['소재지지번주소'].apply(black_split_1)\n",
    "chil_info['동'] = chil_info['소재지지번주소'].apply(black_split_2)\n",
    "\n",
    "chil_info.head()"
   ]
  },
  {
   "cell_type": "code",
   "execution_count": 27,
   "metadata": {
    "ExecuteTime": {
     "end_time": "2023-12-06T18:49:45.871039Z",
     "start_time": "2023-12-06T18:49:45.862482Z"
    },
    "executionInfo": {
     "elapsed": 18,
     "status": "ok",
     "timestamp": 1701200391775,
     "user": {
      "displayName": "서은서",
      "userId": "08795597860961939533"
     },
     "user_tz": -540
    },
    "id": "CXYohTSZ_5Ej"
   },
   "outputs": [],
   "source": [
    "pattern = r'(\\w+동)'\n",
    "chil_info['동'] = chil_info['동'].str.extract(pattern)"
   ]
  },
  {
   "cell_type": "code",
   "execution_count": 28,
   "metadata": {
    "ExecuteTime": {
     "end_time": "2023-12-06T18:49:46.511302Z",
     "start_time": "2023-12-06T18:49:46.485419Z"
    },
    "colab": {
     "base_uri": "https://localhost:8080/",
     "height": 1000
    },
    "executionInfo": {
     "elapsed": 18,
     "status": "ok",
     "timestamp": 1701200391775,
     "user": {
      "displayName": "서은서",
      "userId": "08795597860961939533"
     },
     "user_tz": -540
    },
    "id": "Vg6p8rKt_5Ej",
    "outputId": "10e770a5-d1d0-489f-8ba3-b9de024e4b1d"
   },
   "outputs": [
    {
     "data": {
      "text/html": [
       "<div>\n",
       "<style scoped>\n",
       "    .dataframe tbody tr th:only-of-type {\n",
       "        vertical-align: middle;\n",
       "    }\n",
       "\n",
       "    .dataframe tbody tr th {\n",
       "        vertical-align: top;\n",
       "    }\n",
       "\n",
       "    .dataframe thead th {\n",
       "        text-align: right;\n",
       "    }\n",
       "</style>\n",
       "<table border=\"1\" class=\"dataframe\">\n",
       "  <thead>\n",
       "    <tr style=\"text-align: right;\">\n",
       "      <th></th>\n",
       "      <th>CCTV설치대수</th>\n",
       "    </tr>\n",
       "    <tr>\n",
       "      <th>동</th>\n",
       "      <th></th>\n",
       "    </tr>\n",
       "  </thead>\n",
       "  <tbody>\n",
       "    <tr>\n",
       "      <th>검단동</th>\n",
       "      <td>4.0</td>\n",
       "    </tr>\n",
       "    <tr>\n",
       "      <th>고성동</th>\n",
       "      <td>4.0</td>\n",
       "    </tr>\n",
       "    <tr>\n",
       "      <th>관음동</th>\n",
       "      <td>22.0</td>\n",
       "    </tr>\n",
       "    <tr>\n",
       "      <th>구암동</th>\n",
       "      <td>36.0</td>\n",
       "    </tr>\n",
       "    <tr>\n",
       "      <th>국우동</th>\n",
       "      <td>16.0</td>\n",
       "    </tr>\n",
       "    <tr>\n",
       "      <th>남산동</th>\n",
       "      <td>61.0</td>\n",
       "    </tr>\n",
       "    <tr>\n",
       "      <th>남일동</th>\n",
       "      <td>1.0</td>\n",
       "    </tr>\n",
       "    <tr>\n",
       "      <th>노원동</th>\n",
       "      <td>6.0</td>\n",
       "    </tr>\n",
       "    <tr>\n",
       "      <th>대명동</th>\n",
       "      <td>106.0</td>\n",
       "    </tr>\n",
       "    <tr>\n",
       "      <th>대신동</th>\n",
       "      <td>13.0</td>\n",
       "    </tr>\n",
       "    <tr>\n",
       "      <th>대현동</th>\n",
       "      <td>9.0</td>\n",
       "    </tr>\n",
       "    <tr>\n",
       "      <th>덕산동</th>\n",
       "      <td>1.0</td>\n",
       "    </tr>\n",
       "    <tr>\n",
       "      <th>도남동</th>\n",
       "      <td>2.0</td>\n",
       "    </tr>\n",
       "    <tr>\n",
       "      <th>동변동</th>\n",
       "      <td>10.0</td>\n",
       "    </tr>\n",
       "    <tr>\n",
       "      <th>동산동</th>\n",
       "      <td>2.0</td>\n",
       "    </tr>\n",
       "    <tr>\n",
       "      <th>동인동</th>\n",
       "      <td>12.0</td>\n",
       "    </tr>\n",
       "    <tr>\n",
       "      <th>동천동</th>\n",
       "      <td>14.0</td>\n",
       "    </tr>\n",
       "    <tr>\n",
       "      <th>매천동</th>\n",
       "      <td>14.0</td>\n",
       "    </tr>\n",
       "    <tr>\n",
       "      <th>복현동</th>\n",
       "      <td>32.0</td>\n",
       "    </tr>\n",
       "    <tr>\n",
       "      <th>봉덕동</th>\n",
       "      <td>34.0</td>\n",
       "    </tr>\n",
       "    <tr>\n",
       "      <th>봉산동</th>\n",
       "      <td>18.0</td>\n",
       "    </tr>\n",
       "    <tr>\n",
       "      <th>사수동</th>\n",
       "      <td>7.0</td>\n",
       "    </tr>\n",
       "    <tr>\n",
       "      <th>산격동</th>\n",
       "      <td>34.0</td>\n",
       "    </tr>\n",
       "    <tr>\n",
       "      <th>삼덕동</th>\n",
       "      <td>20.0</td>\n",
       "    </tr>\n",
       "    <tr>\n",
       "      <th>서변동</th>\n",
       "      <td>17.0</td>\n",
       "    </tr>\n",
       "    <tr>\n",
       "      <th>수창동</th>\n",
       "      <td>12.0</td>\n",
       "    </tr>\n",
       "    <tr>\n",
       "      <th>읍내동</th>\n",
       "      <td>49.0</td>\n",
       "    </tr>\n",
       "    <tr>\n",
       "      <th>이천동</th>\n",
       "      <td>22.0</td>\n",
       "    </tr>\n",
       "    <tr>\n",
       "      <th>조야동</th>\n",
       "      <td>5.0</td>\n",
       "    </tr>\n",
       "    <tr>\n",
       "      <th>칠성동</th>\n",
       "      <td>20.0</td>\n",
       "    </tr>\n",
       "    <tr>\n",
       "      <th>침산동</th>\n",
       "      <td>23.0</td>\n",
       "    </tr>\n",
       "    <tr>\n",
       "      <th>태전동</th>\n",
       "      <td>50.0</td>\n",
       "    </tr>\n",
       "    <tr>\n",
       "      <th>팔달동</th>\n",
       "      <td>6.0</td>\n",
       "    </tr>\n",
       "    <tr>\n",
       "      <th>학정동</th>\n",
       "      <td>19.0</td>\n",
       "    </tr>\n",
       "  </tbody>\n",
       "</table>\n",
       "</div>"
      ],
      "text/plain": [
       "     CCTV설치대수\n",
       "동            \n",
       "검단동       4.0\n",
       "고성동       4.0\n",
       "관음동      22.0\n",
       "구암동      36.0\n",
       "국우동      16.0\n",
       "남산동      61.0\n",
       "남일동       1.0\n",
       "노원동       6.0\n",
       "대명동     106.0\n",
       "대신동      13.0\n",
       "대현동       9.0\n",
       "덕산동       1.0\n",
       "도남동       2.0\n",
       "동변동      10.0\n",
       "동산동       2.0\n",
       "동인동      12.0\n",
       "동천동      14.0\n",
       "매천동      14.0\n",
       "복현동      32.0\n",
       "봉덕동      34.0\n",
       "봉산동      18.0\n",
       "사수동       7.0\n",
       "산격동      34.0\n",
       "삼덕동      20.0\n",
       "서변동      17.0\n",
       "수창동      12.0\n",
       "읍내동      49.0\n",
       "이천동      22.0\n",
       "조야동       5.0\n",
       "칠성동      20.0\n",
       "침산동      23.0\n",
       "태전동      50.0\n",
       "팔달동       6.0\n",
       "학정동      19.0"
      ]
     },
     "execution_count": 28,
     "metadata": {},
     "output_type": "execute_result"
    }
   ],
   "source": [
    "# cctv_count = chil_info[chil_info['CCTV설치대수'].notnull()].groupby(['동'])[['CCTV설치대수']].mean()\n",
    "cctv_count = chil_info[chil_info['CCTV설치대수'].notnull()].groupby(['동'])[['CCTV설치대수']].sum() #📢sum으로 바꿈\n",
    "cctv_count"
   ]
  },
  {
   "cell_type": "code",
   "execution_count": 29,
   "metadata": {
    "ExecuteTime": {
     "end_time": "2023-12-06T18:49:51.407194Z",
     "start_time": "2023-12-06T18:49:51.358049Z"
    },
    "colab": {
     "base_uri": "https://localhost:8080/",
     "height": 652
    },
    "executionInfo": {
     "elapsed": 17,
     "status": "ok",
     "timestamp": 1701200391775,
     "user": {
      "displayName": "서은서",
      "userId": "08795597860961939533"
     },
     "user_tz": -540
    },
    "id": "CBuHFqHa_5Ej",
    "outputId": "45be3857-c55c-467f-8e63-e6e9fa57029f"
   },
   "outputs": [],
   "source": [
    "parking_df = pd.read_csv(path+'대구 주차장 정보.csv', encoding='cp949')[['소재지지번주소', '급지구분']]\n",
    "parking_df = pd.get_dummies(parking_df, columns=['급지구분'])\n",
    "location_pattern = r'(\\S+) (\\S+) (\\S+) (\\S+)'\n",
    "parking_df[['도시', '구', '동', '번지']] = parking_df['소재지지번주소'].str.extract(location_pattern)\n",
    "parking_df = parking_df.drop(columns=['소재지지번주소', '번지'])\n",
    "parking_df = parking_df.groupby(['도시', '구', '동']).sum().reset_index()\n",
    "parking_df.reset_index(inplace=True, drop=True)"
   ]
  },
  {
   "cell_type": "code",
   "execution_count": 30,
   "metadata": {
    "ExecuteTime": {
     "end_time": "2023-12-06T18:49:57.052194Z",
     "start_time": "2023-12-06T18:49:57.029873Z"
    },
    "colab": {
     "base_uri": "https://localhost:8080/"
    },
    "executionInfo": {
     "elapsed": 16,
     "status": "ok",
     "timestamp": 1701200391775,
     "user": {
      "displayName": "서은서",
      "userId": "08795597860961939533"
     },
     "user_tz": -540
    },
    "id": "iDkDJSKS_5Ej",
    "outputId": "3a527dde-f958-4500-ee83-41a98c0c8a4c"
   },
   "outputs": [
    {
     "data": {
      "text/html": [
       "<div>\n",
       "<style scoped>\n",
       "    .dataframe tbody tr th:only-of-type {\n",
       "        vertical-align: middle;\n",
       "    }\n",
       "\n",
       "    .dataframe tbody tr th {\n",
       "        vertical-align: top;\n",
       "    }\n",
       "\n",
       "    .dataframe thead th {\n",
       "        text-align: right;\n",
       "    }\n",
       "</style>\n",
       "<table border=\"1\" class=\"dataframe\">\n",
       "  <thead>\n",
       "    <tr style=\"text-align: right;\">\n",
       "      <th></th>\n",
       "      <th>도시</th>\n",
       "      <th>구</th>\n",
       "      <th>동</th>\n",
       "      <th>급지구분_1</th>\n",
       "      <th>급지구분_2</th>\n",
       "      <th>급지구분_3</th>\n",
       "    </tr>\n",
       "  </thead>\n",
       "  <tbody>\n",
       "    <tr>\n",
       "      <th>0</th>\n",
       "      <td>대구광역시</td>\n",
       "      <td>남구</td>\n",
       "      <td>대명동</td>\n",
       "      <td>20</td>\n",
       "      <td>1</td>\n",
       "      <td>0</td>\n",
       "    </tr>\n",
       "    <tr>\n",
       "      <th>1</th>\n",
       "      <td>대구광역시</td>\n",
       "      <td>남구</td>\n",
       "      <td>봉덕동</td>\n",
       "      <td>9</td>\n",
       "      <td>3</td>\n",
       "      <td>0</td>\n",
       "    </tr>\n",
       "    <tr>\n",
       "      <th>2</th>\n",
       "      <td>대구광역시</td>\n",
       "      <td>남구</td>\n",
       "      <td>이천동</td>\n",
       "      <td>3</td>\n",
       "      <td>0</td>\n",
       "      <td>0</td>\n",
       "    </tr>\n",
       "  </tbody>\n",
       "</table>\n",
       "</div>"
      ],
      "text/plain": [
       "      도시   구    동  급지구분_1  급지구분_2  급지구분_3\n",
       "0  대구광역시  남구  대명동      20       1       0\n",
       "1  대구광역시  남구  봉덕동       9       3       0\n",
       "2  대구광역시  남구  이천동       3       0       0"
      ]
     },
     "execution_count": 30,
     "metadata": {},
     "output_type": "execute_result"
    }
   ],
   "source": [
    "parking_df.head(3)"
   ]
  },
  {
   "cell_type": "code",
   "execution_count": 31,
   "metadata": {
    "ExecuteTime": {
     "end_time": "2023-12-06T18:50:02.033545Z",
     "start_time": "2023-12-06T18:50:02.022548Z"
    }
   },
   "outputs": [
    {
     "data": {
      "text/html": [
       "<div>\n",
       "<style scoped>\n",
       "    .dataframe tbody tr th:only-of-type {\n",
       "        vertical-align: middle;\n",
       "    }\n",
       "\n",
       "    .dataframe tbody tr th {\n",
       "        vertical-align: top;\n",
       "    }\n",
       "\n",
       "    .dataframe thead th {\n",
       "        text-align: right;\n",
       "    }\n",
       "</style>\n",
       "<table border=\"1\" class=\"dataframe\">\n",
       "  <thead>\n",
       "    <tr style=\"text-align: right;\">\n",
       "      <th></th>\n",
       "      <th>구</th>\n",
       "      <th>동</th>\n",
       "      <th>급지구분_1</th>\n",
       "      <th>급지구분_2</th>\n",
       "      <th>급지구분_3</th>\n",
       "    </tr>\n",
       "  </thead>\n",
       "  <tbody>\n",
       "    <tr>\n",
       "      <th>0</th>\n",
       "      <td>남구</td>\n",
       "      <td>대명동</td>\n",
       "      <td>20</td>\n",
       "      <td>1</td>\n",
       "      <td>0</td>\n",
       "    </tr>\n",
       "    <tr>\n",
       "      <th>1</th>\n",
       "      <td>남구</td>\n",
       "      <td>봉덕동</td>\n",
       "      <td>9</td>\n",
       "      <td>3</td>\n",
       "      <td>0</td>\n",
       "    </tr>\n",
       "    <tr>\n",
       "      <th>2</th>\n",
       "      <td>남구</td>\n",
       "      <td>이천동</td>\n",
       "      <td>3</td>\n",
       "      <td>0</td>\n",
       "      <td>0</td>\n",
       "    </tr>\n",
       "    <tr>\n",
       "      <th>3</th>\n",
       "      <td>달서구</td>\n",
       "      <td>갈산동</td>\n",
       "      <td>0</td>\n",
       "      <td>0</td>\n",
       "      <td>4</td>\n",
       "    </tr>\n",
       "    <tr>\n",
       "      <th>4</th>\n",
       "      <td>달서구</td>\n",
       "      <td>감삼동</td>\n",
       "      <td>0</td>\n",
       "      <td>1</td>\n",
       "      <td>3</td>\n",
       "    </tr>\n",
       "    <tr>\n",
       "      <th>...</th>\n",
       "      <td>...</td>\n",
       "      <td>...</td>\n",
       "      <td>...</td>\n",
       "      <td>...</td>\n",
       "      <td>...</td>\n",
       "    </tr>\n",
       "    <tr>\n",
       "      <th>131</th>\n",
       "      <td>중구</td>\n",
       "      <td>태평로2가</td>\n",
       "      <td>5</td>\n",
       "      <td>0</td>\n",
       "      <td>0</td>\n",
       "    </tr>\n",
       "    <tr>\n",
       "      <th>132</th>\n",
       "      <td>중구</td>\n",
       "      <td>태평로3가</td>\n",
       "      <td>1</td>\n",
       "      <td>0</td>\n",
       "      <td>0</td>\n",
       "    </tr>\n",
       "    <tr>\n",
       "      <th>133</th>\n",
       "      <td>중구</td>\n",
       "      <td>포정동</td>\n",
       "      <td>4</td>\n",
       "      <td>0</td>\n",
       "      <td>0</td>\n",
       "    </tr>\n",
       "    <tr>\n",
       "      <th>134</th>\n",
       "      <td>중구</td>\n",
       "      <td>향촌동</td>\n",
       "      <td>2</td>\n",
       "      <td>0</td>\n",
       "      <td>0</td>\n",
       "    </tr>\n",
       "    <tr>\n",
       "      <th>135</th>\n",
       "      <td>중구</td>\n",
       "      <td>화전동</td>\n",
       "      <td>1</td>\n",
       "      <td>0</td>\n",
       "      <td>0</td>\n",
       "    </tr>\n",
       "  </tbody>\n",
       "</table>\n",
       "<p>136 rows × 5 columns</p>\n",
       "</div>"
      ],
      "text/plain": [
       "       구      동  급지구분_1  급지구분_2  급지구분_3\n",
       "0     남구    대명동      20       1       0\n",
       "1     남구    봉덕동       9       3       0\n",
       "2     남구    이천동       3       0       0\n",
       "3    달서구    갈산동       0       0       4\n",
       "4    달서구    감삼동       0       1       3\n",
       "..   ...    ...     ...     ...     ...\n",
       "131   중구  태평로2가       5       0       0\n",
       "132   중구  태평로3가       1       0       0\n",
       "133   중구    포정동       4       0       0\n",
       "134   중구    향촌동       2       0       0\n",
       "135   중구    화전동       1       0       0\n",
       "\n",
       "[136 rows x 5 columns]"
      ]
     },
     "execution_count": 31,
     "metadata": {},
     "output_type": "execute_result"
    }
   ],
   "source": [
    "pd.read_csv(path+'주차장급지구분별개수.csv')"
   ]
  },
  {
   "cell_type": "code",
   "execution_count": 32,
   "metadata": {
    "ExecuteTime": {
     "end_time": "2023-12-06T18:50:09.012127Z",
     "start_time": "2023-12-06T18:50:08.974509Z"
    },
    "colab": {
     "base_uri": "https://localhost:8080/",
     "height": 310
    },
    "executionInfo": {
     "elapsed": 13,
     "status": "ok",
     "timestamp": 1701200391776,
     "user": {
      "displayName": "서은서",
      "userId": "08795597860961939533"
     },
     "user_tz": -540
    },
    "id": "o1_I3dTd_5Ej",
    "outputId": "38e8340a-cc8f-46c4-d599-81c7877e786b"
   },
   "outputs": [
    {
     "data": {
      "text/html": [
       "<div>\n",
       "<style scoped>\n",
       "    .dataframe tbody tr th:only-of-type {\n",
       "        vertical-align: middle;\n",
       "    }\n",
       "\n",
       "    .dataframe tbody tr th {\n",
       "        vertical-align: top;\n",
       "    }\n",
       "\n",
       "    .dataframe thead th {\n",
       "        text-align: right;\n",
       "    }\n",
       "</style>\n",
       "<table border=\"1\" class=\"dataframe\">\n",
       "  <thead>\n",
       "    <tr style=\"text-align: right;\">\n",
       "      <th></th>\n",
       "      <th>무인교통단속카메라관리번호</th>\n",
       "      <th>시도명</th>\n",
       "      <th>시군구명</th>\n",
       "      <th>도로종류</th>\n",
       "      <th>도로노선번호</th>\n",
       "      <th>도로노선명</th>\n",
       "      <th>도로노선방향</th>\n",
       "      <th>소재지도로명주소</th>\n",
       "      <th>소재지지번주소</th>\n",
       "      <th>위도</th>\n",
       "      <th>경도</th>\n",
       "      <th>설치장소</th>\n",
       "      <th>단속구분</th>\n",
       "      <th>제한속도</th>\n",
       "      <th>단속구간위치구분</th>\n",
       "      <th>과속단속구간길이</th>\n",
       "      <th>보호구역구분</th>\n",
       "      <th>설치연도</th>\n",
       "    </tr>\n",
       "  </thead>\n",
       "  <tbody>\n",
       "    <tr>\n",
       "      <th>0</th>\n",
       "      <td>주차12</td>\n",
       "      <td>대구광역시</td>\n",
       "      <td>남구</td>\n",
       "      <td>시도</td>\n",
       "      <td>NaN</td>\n",
       "      <td>대명로</td>\n",
       "      <td>3</td>\n",
       "      <td>대구광역시 남구 대명로 162</td>\n",
       "      <td>대구광역시 남구 대명동 903-13</td>\n",
       "      <td>35.838857</td>\n",
       "      <td>128.575418</td>\n",
       "      <td>안지랑네거리1 버스정류장</td>\n",
       "      <td>4</td>\n",
       "      <td>0</td>\n",
       "      <td>NaN</td>\n",
       "      <td>NaN</td>\n",
       "      <td>99.0</td>\n",
       "      <td>2010.0</td>\n",
       "    </tr>\n",
       "    <tr>\n",
       "      <th>1</th>\n",
       "      <td>주차13</td>\n",
       "      <td>대구광역시</td>\n",
       "      <td>남구</td>\n",
       "      <td>시도</td>\n",
       "      <td>NaN</td>\n",
       "      <td>봉덕로</td>\n",
       "      <td>3</td>\n",
       "      <td>대구광역시 남구 봉덕로 135</td>\n",
       "      <td>대구광역시 남구 봉덕동 853-8</td>\n",
       "      <td>35.844653</td>\n",
       "      <td>128.604619</td>\n",
       "      <td>효성백년가약</td>\n",
       "      <td>4</td>\n",
       "      <td>0</td>\n",
       "      <td>NaN</td>\n",
       "      <td>NaN</td>\n",
       "      <td>99.0</td>\n",
       "      <td>2013.0</td>\n",
       "    </tr>\n",
       "    <tr>\n",
       "      <th>2</th>\n",
       "      <td>주차14</td>\n",
       "      <td>대구광역시</td>\n",
       "      <td>남구</td>\n",
       "      <td>시도</td>\n",
       "      <td>NaN</td>\n",
       "      <td>대봉로</td>\n",
       "      <td>3</td>\n",
       "      <td>대구광역시 남구 봉덕로 134</td>\n",
       "      <td>대구광역시 남구 봉덕동 866-46</td>\n",
       "      <td>35.844183</td>\n",
       "      <td>128.604815</td>\n",
       "      <td>강변코오롱하늘채</td>\n",
       "      <td>4</td>\n",
       "      <td>0</td>\n",
       "      <td>NaN</td>\n",
       "      <td>NaN</td>\n",
       "      <td>99.0</td>\n",
       "      <td>2013.0</td>\n",
       "    </tr>\n",
       "    <tr>\n",
       "      <th>3</th>\n",
       "      <td>주차15</td>\n",
       "      <td>대구광역시</td>\n",
       "      <td>남구</td>\n",
       "      <td>시도</td>\n",
       "      <td>NaN</td>\n",
       "      <td>큰골길</td>\n",
       "      <td>3</td>\n",
       "      <td>대구광역시 남구 큰골길 200</td>\n",
       "      <td>대구광역시 남구 대명동 2680-17</td>\n",
       "      <td>35.834798</td>\n",
       "      <td>128.585284</td>\n",
       "      <td>보성청록타운</td>\n",
       "      <td>4</td>\n",
       "      <td>0</td>\n",
       "      <td>NaN</td>\n",
       "      <td>NaN</td>\n",
       "      <td>99.0</td>\n",
       "      <td>2014.0</td>\n",
       "    </tr>\n",
       "    <tr>\n",
       "      <th>4</th>\n",
       "      <td>주차16</td>\n",
       "      <td>대구광역시</td>\n",
       "      <td>남구</td>\n",
       "      <td>시도</td>\n",
       "      <td>NaN</td>\n",
       "      <td>큰골길</td>\n",
       "      <td>3</td>\n",
       "      <td>대구광역시 남구 큰골길 243</td>\n",
       "      <td>대구광역시 남구 봉덕동 1616</td>\n",
       "      <td>35.832728</td>\n",
       "      <td>128.588324</td>\n",
       "      <td>환경차고지</td>\n",
       "      <td>4</td>\n",
       "      <td>0</td>\n",
       "      <td>NaN</td>\n",
       "      <td>NaN</td>\n",
       "      <td>99.0</td>\n",
       "      <td>2014.0</td>\n",
       "    </tr>\n",
       "  </tbody>\n",
       "</table>\n",
       "</div>"
      ],
      "text/plain": [
       "  무인교통단속카메라관리번호    시도명 시군구명 도로종류 도로노선번호 도로노선명  도로노선방향          소재지도로명주소  \\\n",
       "0          주차12  대구광역시   남구   시도    NaN   대명로       3  대구광역시 남구 대명로 162   \n",
       "1          주차13  대구광역시   남구   시도    NaN   봉덕로       3  대구광역시 남구 봉덕로 135   \n",
       "2          주차14  대구광역시   남구   시도    NaN   대봉로       3  대구광역시 남구 봉덕로 134   \n",
       "3          주차15  대구광역시   남구   시도    NaN   큰골길       3  대구광역시 남구 큰골길 200   \n",
       "4          주차16  대구광역시   남구   시도    NaN   큰골길       3  대구광역시 남구 큰골길 243   \n",
       "\n",
       "                소재지지번주소         위도          경도           설치장소  단속구분  제한속도  \\\n",
       "0   대구광역시 남구 대명동 903-13  35.838857  128.575418  안지랑네거리1 버스정류장     4     0   \n",
       "1    대구광역시 남구 봉덕동 853-8  35.844653  128.604619         효성백년가약     4     0   \n",
       "2   대구광역시 남구 봉덕동 866-46  35.844183  128.604815       강변코오롱하늘채     4     0   \n",
       "3  대구광역시 남구 대명동 2680-17  35.834798  128.585284         보성청록타운     4     0   \n",
       "4     대구광역시 남구 봉덕동 1616  35.832728  128.588324          환경차고지     4     0   \n",
       "\n",
       "   단속구간위치구분  과속단속구간길이  보호구역구분    설치연도  \n",
       "0       NaN       NaN    99.0  2010.0  \n",
       "1       NaN       NaN    99.0  2013.0  \n",
       "2       NaN       NaN    99.0  2013.0  \n",
       "3       NaN       NaN    99.0  2014.0  \n",
       "4       NaN       NaN    99.0  2014.0  "
      ]
     },
     "execution_count": 32,
     "metadata": {},
     "output_type": "execute_result"
    }
   ],
   "source": [
    "cctv = pd.read_csv(path+'대구 CCTV 정보.csv',encoding='cp949')\n",
    "cctv.head()"
   ]
  },
  {
   "cell_type": "code",
   "execution_count": 33,
   "metadata": {
    "ExecuteTime": {
     "end_time": "2023-12-06T18:50:10.200261Z",
     "start_time": "2023-12-06T18:50:10.175026Z"
    },
    "colab": {
     "base_uri": "https://localhost:8080/",
     "height": 414
    },
    "executionInfo": {
     "elapsed": 12,
     "status": "ok",
     "timestamp": 1701200391776,
     "user": {
      "displayName": "서은서",
      "userId": "08795597860961939533"
     },
     "user_tz": -540
    },
    "id": "yE7WhL8A_5Ej",
    "outputId": "12c72c68-e5f0-4520-e6f9-fb191a36ef14"
   },
   "outputs": [
    {
     "data": {
      "text/html": [
       "<div>\n",
       "<style scoped>\n",
       "    .dataframe tbody tr th:only-of-type {\n",
       "        vertical-align: middle;\n",
       "    }\n",
       "\n",
       "    .dataframe tbody tr th {\n",
       "        vertical-align: top;\n",
       "    }\n",
       "\n",
       "    .dataframe thead th {\n",
       "        text-align: right;\n",
       "    }\n",
       "</style>\n",
       "<table border=\"1\" class=\"dataframe\">\n",
       "  <thead>\n",
       "    <tr style=\"text-align: right;\">\n",
       "      <th></th>\n",
       "      <th>무인교통단속카메라관리번호</th>\n",
       "      <th>시도명</th>\n",
       "      <th>시군구명</th>\n",
       "      <th>도로종류</th>\n",
       "      <th>도로노선번호</th>\n",
       "      <th>도로노선명</th>\n",
       "      <th>도로노선방향</th>\n",
       "      <th>소재지도로명주소</th>\n",
       "      <th>소재지지번주소</th>\n",
       "      <th>위도</th>\n",
       "      <th>경도</th>\n",
       "      <th>설치장소</th>\n",
       "      <th>단속구분</th>\n",
       "      <th>제한속도</th>\n",
       "      <th>단속구간위치구분</th>\n",
       "      <th>과속단속구간길이</th>\n",
       "      <th>보호구역구분</th>\n",
       "      <th>설치연도</th>\n",
       "      <th>구</th>\n",
       "      <th>동</th>\n",
       "    </tr>\n",
       "  </thead>\n",
       "  <tbody>\n",
       "    <tr>\n",
       "      <th>0</th>\n",
       "      <td>주차12</td>\n",
       "      <td>대구광역시</td>\n",
       "      <td>남구</td>\n",
       "      <td>시도</td>\n",
       "      <td>NaN</td>\n",
       "      <td>대명로</td>\n",
       "      <td>3</td>\n",
       "      <td>대구광역시 남구 대명로 162</td>\n",
       "      <td>대구광역시 남구 대명동 903-13</td>\n",
       "      <td>35.838857</td>\n",
       "      <td>128.575418</td>\n",
       "      <td>안지랑네거리1 버스정류장</td>\n",
       "      <td>4</td>\n",
       "      <td>0</td>\n",
       "      <td>NaN</td>\n",
       "      <td>NaN</td>\n",
       "      <td>99.0</td>\n",
       "      <td>2010.0</td>\n",
       "      <td>남구</td>\n",
       "      <td>대명동</td>\n",
       "    </tr>\n",
       "    <tr>\n",
       "      <th>1</th>\n",
       "      <td>주차13</td>\n",
       "      <td>대구광역시</td>\n",
       "      <td>남구</td>\n",
       "      <td>시도</td>\n",
       "      <td>NaN</td>\n",
       "      <td>봉덕로</td>\n",
       "      <td>3</td>\n",
       "      <td>대구광역시 남구 봉덕로 135</td>\n",
       "      <td>대구광역시 남구 봉덕동 853-8</td>\n",
       "      <td>35.844653</td>\n",
       "      <td>128.604619</td>\n",
       "      <td>효성백년가약</td>\n",
       "      <td>4</td>\n",
       "      <td>0</td>\n",
       "      <td>NaN</td>\n",
       "      <td>NaN</td>\n",
       "      <td>99.0</td>\n",
       "      <td>2013.0</td>\n",
       "      <td>남구</td>\n",
       "      <td>봉덕동</td>\n",
       "    </tr>\n",
       "    <tr>\n",
       "      <th>2</th>\n",
       "      <td>주차14</td>\n",
       "      <td>대구광역시</td>\n",
       "      <td>남구</td>\n",
       "      <td>시도</td>\n",
       "      <td>NaN</td>\n",
       "      <td>대봉로</td>\n",
       "      <td>3</td>\n",
       "      <td>대구광역시 남구 봉덕로 134</td>\n",
       "      <td>대구광역시 남구 봉덕동 866-46</td>\n",
       "      <td>35.844183</td>\n",
       "      <td>128.604815</td>\n",
       "      <td>강변코오롱하늘채</td>\n",
       "      <td>4</td>\n",
       "      <td>0</td>\n",
       "      <td>NaN</td>\n",
       "      <td>NaN</td>\n",
       "      <td>99.0</td>\n",
       "      <td>2013.0</td>\n",
       "      <td>남구</td>\n",
       "      <td>봉덕동</td>\n",
       "    </tr>\n",
       "    <tr>\n",
       "      <th>3</th>\n",
       "      <td>주차15</td>\n",
       "      <td>대구광역시</td>\n",
       "      <td>남구</td>\n",
       "      <td>시도</td>\n",
       "      <td>NaN</td>\n",
       "      <td>큰골길</td>\n",
       "      <td>3</td>\n",
       "      <td>대구광역시 남구 큰골길 200</td>\n",
       "      <td>대구광역시 남구 대명동 2680-17</td>\n",
       "      <td>35.834798</td>\n",
       "      <td>128.585284</td>\n",
       "      <td>보성청록타운</td>\n",
       "      <td>4</td>\n",
       "      <td>0</td>\n",
       "      <td>NaN</td>\n",
       "      <td>NaN</td>\n",
       "      <td>99.0</td>\n",
       "      <td>2014.0</td>\n",
       "      <td>남구</td>\n",
       "      <td>대명동</td>\n",
       "    </tr>\n",
       "    <tr>\n",
       "      <th>4</th>\n",
       "      <td>주차16</td>\n",
       "      <td>대구광역시</td>\n",
       "      <td>남구</td>\n",
       "      <td>시도</td>\n",
       "      <td>NaN</td>\n",
       "      <td>큰골길</td>\n",
       "      <td>3</td>\n",
       "      <td>대구광역시 남구 큰골길 243</td>\n",
       "      <td>대구광역시 남구 봉덕동 1616</td>\n",
       "      <td>35.832728</td>\n",
       "      <td>128.588324</td>\n",
       "      <td>환경차고지</td>\n",
       "      <td>4</td>\n",
       "      <td>0</td>\n",
       "      <td>NaN</td>\n",
       "      <td>NaN</td>\n",
       "      <td>99.0</td>\n",
       "      <td>2014.0</td>\n",
       "      <td>남구</td>\n",
       "      <td>봉덕동</td>\n",
       "    </tr>\n",
       "  </tbody>\n",
       "</table>\n",
       "</div>"
      ],
      "text/plain": [
       "  무인교통단속카메라관리번호    시도명 시군구명 도로종류 도로노선번호 도로노선명  도로노선방향          소재지도로명주소  \\\n",
       "0          주차12  대구광역시   남구   시도    NaN   대명로       3  대구광역시 남구 대명로 162   \n",
       "1          주차13  대구광역시   남구   시도    NaN   봉덕로       3  대구광역시 남구 봉덕로 135   \n",
       "2          주차14  대구광역시   남구   시도    NaN   대봉로       3  대구광역시 남구 봉덕로 134   \n",
       "3          주차15  대구광역시   남구   시도    NaN   큰골길       3  대구광역시 남구 큰골길 200   \n",
       "4          주차16  대구광역시   남구   시도    NaN   큰골길       3  대구광역시 남구 큰골길 243   \n",
       "\n",
       "                소재지지번주소         위도          경도           설치장소  단속구분  제한속도  \\\n",
       "0   대구광역시 남구 대명동 903-13  35.838857  128.575418  안지랑네거리1 버스정류장     4     0   \n",
       "1    대구광역시 남구 봉덕동 853-8  35.844653  128.604619         효성백년가약     4     0   \n",
       "2   대구광역시 남구 봉덕동 866-46  35.844183  128.604815       강변코오롱하늘채     4     0   \n",
       "3  대구광역시 남구 대명동 2680-17  35.834798  128.585284         보성청록타운     4     0   \n",
       "4     대구광역시 남구 봉덕동 1616  35.832728  128.588324          환경차고지     4     0   \n",
       "\n",
       "   단속구간위치구분  과속단속구간길이  보호구역구분    설치연도   구    동  \n",
       "0       NaN       NaN    99.0  2010.0  남구  대명동  \n",
       "1       NaN       NaN    99.0  2013.0  남구  봉덕동  \n",
       "2       NaN       NaN    99.0  2013.0  남구  봉덕동  \n",
       "3       NaN       NaN    99.0  2014.0  남구  대명동  \n",
       "4       NaN       NaN    99.0  2014.0  남구  봉덕동  "
      ]
     },
     "execution_count": 33,
     "metadata": {},
     "output_type": "execute_result"
    }
   ],
   "source": [
    "cctv['구'] = cctv['소재지지번주소'].apply(black_split_1)\n",
    "cctv['동'] = cctv['소재지지번주소'].apply(black_split_2)\n",
    "cctv.head()"
   ]
  },
  {
   "cell_type": "code",
   "execution_count": 34,
   "metadata": {
    "ExecuteTime": {
     "end_time": "2023-12-06T18:50:10.979477Z",
     "start_time": "2023-12-06T18:50:10.963502Z"
    },
    "colab": {
     "base_uri": "https://localhost:8080/",
     "height": 455
    },
    "executionInfo": {
     "elapsed": 11,
     "status": "ok",
     "timestamp": 1701200391776,
     "user": {
      "displayName": "서은서",
      "userId": "08795597860961939533"
     },
     "user_tz": -540
    },
    "id": "yfHaYoSk_5Ej",
    "outputId": "423cb898-04ac-42e3-80b3-1dec3b9a1c77"
   },
   "outputs": [
    {
     "data": {
      "text/html": [
       "<div>\n",
       "<style scoped>\n",
       "    .dataframe tbody tr th:only-of-type {\n",
       "        vertical-align: middle;\n",
       "    }\n",
       "\n",
       "    .dataframe tbody tr th {\n",
       "        vertical-align: top;\n",
       "    }\n",
       "\n",
       "    .dataframe thead th {\n",
       "        text-align: right;\n",
       "    }\n",
       "</style>\n",
       "<table border=\"1\" class=\"dataframe\">\n",
       "  <thead>\n",
       "    <tr style=\"text-align: right;\">\n",
       "      <th></th>\n",
       "      <th>제한속도</th>\n",
       "    </tr>\n",
       "    <tr>\n",
       "      <th>동</th>\n",
       "      <th></th>\n",
       "    </tr>\n",
       "  </thead>\n",
       "  <tbody>\n",
       "    <tr>\n",
       "      <th>가창면</th>\n",
       "      <td>54.117647</td>\n",
       "    </tr>\n",
       "    <tr>\n",
       "      <th>가천동</th>\n",
       "      <td>60.000000</td>\n",
       "    </tr>\n",
       "    <tr>\n",
       "      <th>각산동</th>\n",
       "      <td>40.000000</td>\n",
       "    </tr>\n",
       "    <tr>\n",
       "      <th>갈산동</th>\n",
       "      <td>50.000000</td>\n",
       "    </tr>\n",
       "    <tr>\n",
       "      <th>감삼동</th>\n",
       "      <td>52.500000</td>\n",
       "    </tr>\n",
       "    <tr>\n",
       "      <th>...</th>\n",
       "      <td>...</td>\n",
       "    </tr>\n",
       "    <tr>\n",
       "      <th>호산동</th>\n",
       "      <td>45.000000</td>\n",
       "    </tr>\n",
       "    <tr>\n",
       "      <th>화원읍</th>\n",
       "      <td>50.512821</td>\n",
       "    </tr>\n",
       "    <tr>\n",
       "      <th>황금동</th>\n",
       "      <td>52.222222</td>\n",
       "    </tr>\n",
       "    <tr>\n",
       "      <th>효령면</th>\n",
       "      <td>60.000000</td>\n",
       "    </tr>\n",
       "    <tr>\n",
       "      <th>효목동</th>\n",
       "      <td>42.500000</td>\n",
       "    </tr>\n",
       "  </tbody>\n",
       "</table>\n",
       "<p>158 rows × 1 columns</p>\n",
       "</div>"
      ],
      "text/plain": [
       "          제한속도\n",
       "동             \n",
       "가창면  54.117647\n",
       "가천동  60.000000\n",
       "각산동  40.000000\n",
       "갈산동  50.000000\n",
       "감삼동  52.500000\n",
       "..         ...\n",
       "호산동  45.000000\n",
       "화원읍  50.512821\n",
       "황금동  52.222222\n",
       "효령면  60.000000\n",
       "효목동  42.500000\n",
       "\n",
       "[158 rows x 1 columns]"
      ]
     },
     "execution_count": 34,
     "metadata": {},
     "output_type": "execute_result"
    }
   ],
   "source": [
    "speed_cctv = cctv[cctv['제한속도'] > 0].groupby(['동'])[['제한속도']].mean()\n",
    "speed_cctv"
   ]
  },
  {
   "cell_type": "code",
   "execution_count": 35,
   "metadata": {
    "ExecuteTime": {
     "end_time": "2023-12-06T18:50:13.613504Z",
     "start_time": "2023-12-06T18:50:13.598241Z"
    }
   },
   "outputs": [
    {
     "data": {
      "text/html": [
       "<div>\n",
       "<style scoped>\n",
       "    .dataframe tbody tr th:only-of-type {\n",
       "        vertical-align: middle;\n",
       "    }\n",
       "\n",
       "    .dataframe tbody tr th {\n",
       "        vertical-align: top;\n",
       "    }\n",
       "\n",
       "    .dataframe thead th {\n",
       "        text-align: right;\n",
       "    }\n",
       "</style>\n",
       "<table border=\"1\" class=\"dataframe\">\n",
       "  <thead>\n",
       "    <tr style=\"text-align: right;\">\n",
       "      <th></th>\n",
       "      <th>동</th>\n",
       "      <th>제한속도</th>\n",
       "    </tr>\n",
       "  </thead>\n",
       "  <tbody>\n",
       "    <tr>\n",
       "      <th>0</th>\n",
       "      <td>가창면</td>\n",
       "      <td>54.117647</td>\n",
       "    </tr>\n",
       "    <tr>\n",
       "      <th>1</th>\n",
       "      <td>가천동</td>\n",
       "      <td>60.000000</td>\n",
       "    </tr>\n",
       "    <tr>\n",
       "      <th>2</th>\n",
       "      <td>각산동</td>\n",
       "      <td>40.000000</td>\n",
       "    </tr>\n",
       "    <tr>\n",
       "      <th>3</th>\n",
       "      <td>갈산동</td>\n",
       "      <td>50.000000</td>\n",
       "    </tr>\n",
       "    <tr>\n",
       "      <th>4</th>\n",
       "      <td>감삼동</td>\n",
       "      <td>52.500000</td>\n",
       "    </tr>\n",
       "    <tr>\n",
       "      <th>...</th>\n",
       "      <td>...</td>\n",
       "      <td>...</td>\n",
       "    </tr>\n",
       "    <tr>\n",
       "      <th>153</th>\n",
       "      <td>호산동</td>\n",
       "      <td>45.000000</td>\n",
       "    </tr>\n",
       "    <tr>\n",
       "      <th>154</th>\n",
       "      <td>화원읍</td>\n",
       "      <td>50.512821</td>\n",
       "    </tr>\n",
       "    <tr>\n",
       "      <th>155</th>\n",
       "      <td>황금동</td>\n",
       "      <td>52.222222</td>\n",
       "    </tr>\n",
       "    <tr>\n",
       "      <th>156</th>\n",
       "      <td>효령면</td>\n",
       "      <td>60.000000</td>\n",
       "    </tr>\n",
       "    <tr>\n",
       "      <th>157</th>\n",
       "      <td>효목동</td>\n",
       "      <td>42.500000</td>\n",
       "    </tr>\n",
       "  </tbody>\n",
       "</table>\n",
       "<p>158 rows × 2 columns</p>\n",
       "</div>"
      ],
      "text/plain": [
       "       동       제한속도\n",
       "0    가창면  54.117647\n",
       "1    가천동  60.000000\n",
       "2    각산동  40.000000\n",
       "3    갈산동  50.000000\n",
       "4    감삼동  52.500000\n",
       "..   ...        ...\n",
       "153  호산동  45.000000\n",
       "154  화원읍  50.512821\n",
       "155  황금동  52.222222\n",
       "156  효령면  60.000000\n",
       "157  효목동  42.500000\n",
       "\n",
       "[158 rows x 2 columns]"
      ]
     },
     "execution_count": 35,
     "metadata": {},
     "output_type": "execute_result"
    }
   ],
   "source": [
    "# speed_cctv.to_csv(path+'동별_제한속도.csv')\n",
    "pd.read_csv(path+'동별_제한속도.csv')"
   ]
  },
  {
   "cell_type": "code",
   "execution_count": 86,
   "metadata": {
    "ExecuteTime": {
     "end_time": "2023-12-06T17:58:02.356647Z",
     "start_time": "2023-12-06T17:58:02.269007Z"
    },
    "colab": {
     "base_uri": "https://localhost:8080/",
     "height": 444
    },
    "executionInfo": {
     "elapsed": 4559,
     "status": "ok",
     "timestamp": 1701200396325,
     "user": {
      "displayName": "서은서",
      "userId": "08795597860961939533"
     },
     "user_tz": -540
    },
    "id": "bwfsYqSO_5Ej",
    "outputId": "270433d5-532f-4694-fe14-0796dbd36113"
   },
   "outputs": [
    {
     "ename": "FileNotFoundError",
     "evalue": "[Errno 2] No such file or directory: '../data/daegu/automl/external_open/countrywide_accident.csv'",
     "output_type": "error",
     "traceback": [
      "\u001b[1;31m---------------------------------------------------------------------------\u001b[0m",
      "\u001b[1;31mFileNotFoundError\u001b[0m                         Traceback (most recent call last)",
      "Cell \u001b[1;32mIn[86], line 1\u001b[0m\n\u001b[1;32m----> 1\u001b[0m countrywide \u001b[38;5;241m=\u001b[39m \u001b[43mpd\u001b[49m\u001b[38;5;241;43m.\u001b[39;49m\u001b[43mread_csv\u001b[49m\u001b[43m(\u001b[49m\u001b[43mpath\u001b[49m\u001b[38;5;241;43m+\u001b[39;49m\u001b[38;5;124;43m'\u001b[39;49m\u001b[38;5;124;43mexternal_open/countrywide_accident.csv\u001b[39;49m\u001b[38;5;124;43m'\u001b[39;49m\u001b[43m)\u001b[49m\n\u001b[0;32m      2\u001b[0m countrywide\u001b[38;5;241m.\u001b[39mhead()\n",
      "File \u001b[1;32m~\\anaconda3\\envs\\py39\\lib\\site-packages\\pandas\\io\\parsers\\readers.py:948\u001b[0m, in \u001b[0;36mread_csv\u001b[1;34m(filepath_or_buffer, sep, delimiter, header, names, index_col, usecols, dtype, engine, converters, true_values, false_values, skipinitialspace, skiprows, skipfooter, nrows, na_values, keep_default_na, na_filter, verbose, skip_blank_lines, parse_dates, infer_datetime_format, keep_date_col, date_parser, date_format, dayfirst, cache_dates, iterator, chunksize, compression, thousands, decimal, lineterminator, quotechar, quoting, doublequote, escapechar, comment, encoding, encoding_errors, dialect, on_bad_lines, delim_whitespace, low_memory, memory_map, float_precision, storage_options, dtype_backend)\u001b[0m\n\u001b[0;32m    935\u001b[0m kwds_defaults \u001b[38;5;241m=\u001b[39m _refine_defaults_read(\n\u001b[0;32m    936\u001b[0m     dialect,\n\u001b[0;32m    937\u001b[0m     delimiter,\n\u001b[1;32m   (...)\u001b[0m\n\u001b[0;32m    944\u001b[0m     dtype_backend\u001b[38;5;241m=\u001b[39mdtype_backend,\n\u001b[0;32m    945\u001b[0m )\n\u001b[0;32m    946\u001b[0m kwds\u001b[38;5;241m.\u001b[39mupdate(kwds_defaults)\n\u001b[1;32m--> 948\u001b[0m \u001b[38;5;28;01mreturn\u001b[39;00m \u001b[43m_read\u001b[49m\u001b[43m(\u001b[49m\u001b[43mfilepath_or_buffer\u001b[49m\u001b[43m,\u001b[49m\u001b[43m \u001b[49m\u001b[43mkwds\u001b[49m\u001b[43m)\u001b[49m\n",
      "File \u001b[1;32m~\\anaconda3\\envs\\py39\\lib\\site-packages\\pandas\\io\\parsers\\readers.py:611\u001b[0m, in \u001b[0;36m_read\u001b[1;34m(filepath_or_buffer, kwds)\u001b[0m\n\u001b[0;32m    608\u001b[0m _validate_names(kwds\u001b[38;5;241m.\u001b[39mget(\u001b[38;5;124m\"\u001b[39m\u001b[38;5;124mnames\u001b[39m\u001b[38;5;124m\"\u001b[39m, \u001b[38;5;28;01mNone\u001b[39;00m))\n\u001b[0;32m    610\u001b[0m \u001b[38;5;66;03m# Create the parser.\u001b[39;00m\n\u001b[1;32m--> 611\u001b[0m parser \u001b[38;5;241m=\u001b[39m TextFileReader(filepath_or_buffer, \u001b[38;5;241m*\u001b[39m\u001b[38;5;241m*\u001b[39mkwds)\n\u001b[0;32m    613\u001b[0m \u001b[38;5;28;01mif\u001b[39;00m chunksize \u001b[38;5;129;01mor\u001b[39;00m iterator:\n\u001b[0;32m    614\u001b[0m     \u001b[38;5;28;01mreturn\u001b[39;00m parser\n",
      "File \u001b[1;32m~\\anaconda3\\envs\\py39\\lib\\site-packages\\pandas\\io\\parsers\\readers.py:1448\u001b[0m, in \u001b[0;36mTextFileReader.__init__\u001b[1;34m(self, f, engine, **kwds)\u001b[0m\n\u001b[0;32m   1445\u001b[0m     \u001b[38;5;28mself\u001b[39m\u001b[38;5;241m.\u001b[39moptions[\u001b[38;5;124m\"\u001b[39m\u001b[38;5;124mhas_index_names\u001b[39m\u001b[38;5;124m\"\u001b[39m] \u001b[38;5;241m=\u001b[39m kwds[\u001b[38;5;124m\"\u001b[39m\u001b[38;5;124mhas_index_names\u001b[39m\u001b[38;5;124m\"\u001b[39m]\n\u001b[0;32m   1447\u001b[0m \u001b[38;5;28mself\u001b[39m\u001b[38;5;241m.\u001b[39mhandles: IOHandles \u001b[38;5;241m|\u001b[39m \u001b[38;5;28;01mNone\u001b[39;00m \u001b[38;5;241m=\u001b[39m \u001b[38;5;28;01mNone\u001b[39;00m\n\u001b[1;32m-> 1448\u001b[0m \u001b[38;5;28mself\u001b[39m\u001b[38;5;241m.\u001b[39m_engine \u001b[38;5;241m=\u001b[39m \u001b[38;5;28;43mself\u001b[39;49m\u001b[38;5;241;43m.\u001b[39;49m\u001b[43m_make_engine\u001b[49m\u001b[43m(\u001b[49m\u001b[43mf\u001b[49m\u001b[43m,\u001b[49m\u001b[43m \u001b[49m\u001b[38;5;28;43mself\u001b[39;49m\u001b[38;5;241;43m.\u001b[39;49m\u001b[43mengine\u001b[49m\u001b[43m)\u001b[49m\n",
      "File \u001b[1;32m~\\anaconda3\\envs\\py39\\lib\\site-packages\\pandas\\io\\parsers\\readers.py:1705\u001b[0m, in \u001b[0;36mTextFileReader._make_engine\u001b[1;34m(self, f, engine)\u001b[0m\n\u001b[0;32m   1703\u001b[0m     \u001b[38;5;28;01mif\u001b[39;00m \u001b[38;5;124m\"\u001b[39m\u001b[38;5;124mb\u001b[39m\u001b[38;5;124m\"\u001b[39m \u001b[38;5;129;01mnot\u001b[39;00m \u001b[38;5;129;01min\u001b[39;00m mode:\n\u001b[0;32m   1704\u001b[0m         mode \u001b[38;5;241m+\u001b[39m\u001b[38;5;241m=\u001b[39m \u001b[38;5;124m\"\u001b[39m\u001b[38;5;124mb\u001b[39m\u001b[38;5;124m\"\u001b[39m\n\u001b[1;32m-> 1705\u001b[0m \u001b[38;5;28mself\u001b[39m\u001b[38;5;241m.\u001b[39mhandles \u001b[38;5;241m=\u001b[39m \u001b[43mget_handle\u001b[49m\u001b[43m(\u001b[49m\n\u001b[0;32m   1706\u001b[0m \u001b[43m    \u001b[49m\u001b[43mf\u001b[49m\u001b[43m,\u001b[49m\n\u001b[0;32m   1707\u001b[0m \u001b[43m    \u001b[49m\u001b[43mmode\u001b[49m\u001b[43m,\u001b[49m\n\u001b[0;32m   1708\u001b[0m \u001b[43m    \u001b[49m\u001b[43mencoding\u001b[49m\u001b[38;5;241;43m=\u001b[39;49m\u001b[38;5;28;43mself\u001b[39;49m\u001b[38;5;241;43m.\u001b[39;49m\u001b[43moptions\u001b[49m\u001b[38;5;241;43m.\u001b[39;49m\u001b[43mget\u001b[49m\u001b[43m(\u001b[49m\u001b[38;5;124;43m\"\u001b[39;49m\u001b[38;5;124;43mencoding\u001b[39;49m\u001b[38;5;124;43m\"\u001b[39;49m\u001b[43m,\u001b[49m\u001b[43m \u001b[49m\u001b[38;5;28;43;01mNone\u001b[39;49;00m\u001b[43m)\u001b[49m\u001b[43m,\u001b[49m\n\u001b[0;32m   1709\u001b[0m \u001b[43m    \u001b[49m\u001b[43mcompression\u001b[49m\u001b[38;5;241;43m=\u001b[39;49m\u001b[38;5;28;43mself\u001b[39;49m\u001b[38;5;241;43m.\u001b[39;49m\u001b[43moptions\u001b[49m\u001b[38;5;241;43m.\u001b[39;49m\u001b[43mget\u001b[49m\u001b[43m(\u001b[49m\u001b[38;5;124;43m\"\u001b[39;49m\u001b[38;5;124;43mcompression\u001b[39;49m\u001b[38;5;124;43m\"\u001b[39;49m\u001b[43m,\u001b[49m\u001b[43m \u001b[49m\u001b[38;5;28;43;01mNone\u001b[39;49;00m\u001b[43m)\u001b[49m\u001b[43m,\u001b[49m\n\u001b[0;32m   1710\u001b[0m \u001b[43m    \u001b[49m\u001b[43mmemory_map\u001b[49m\u001b[38;5;241;43m=\u001b[39;49m\u001b[38;5;28;43mself\u001b[39;49m\u001b[38;5;241;43m.\u001b[39;49m\u001b[43moptions\u001b[49m\u001b[38;5;241;43m.\u001b[39;49m\u001b[43mget\u001b[49m\u001b[43m(\u001b[49m\u001b[38;5;124;43m\"\u001b[39;49m\u001b[38;5;124;43mmemory_map\u001b[39;49m\u001b[38;5;124;43m\"\u001b[39;49m\u001b[43m,\u001b[49m\u001b[43m \u001b[49m\u001b[38;5;28;43;01mFalse\u001b[39;49;00m\u001b[43m)\u001b[49m\u001b[43m,\u001b[49m\n\u001b[0;32m   1711\u001b[0m \u001b[43m    \u001b[49m\u001b[43mis_text\u001b[49m\u001b[38;5;241;43m=\u001b[39;49m\u001b[43mis_text\u001b[49m\u001b[43m,\u001b[49m\n\u001b[0;32m   1712\u001b[0m \u001b[43m    \u001b[49m\u001b[43merrors\u001b[49m\u001b[38;5;241;43m=\u001b[39;49m\u001b[38;5;28;43mself\u001b[39;49m\u001b[38;5;241;43m.\u001b[39;49m\u001b[43moptions\u001b[49m\u001b[38;5;241;43m.\u001b[39;49m\u001b[43mget\u001b[49m\u001b[43m(\u001b[49m\u001b[38;5;124;43m\"\u001b[39;49m\u001b[38;5;124;43mencoding_errors\u001b[39;49m\u001b[38;5;124;43m\"\u001b[39;49m\u001b[43m,\u001b[49m\u001b[43m \u001b[49m\u001b[38;5;124;43m\"\u001b[39;49m\u001b[38;5;124;43mstrict\u001b[39;49m\u001b[38;5;124;43m\"\u001b[39;49m\u001b[43m)\u001b[49m\u001b[43m,\u001b[49m\n\u001b[0;32m   1713\u001b[0m \u001b[43m    \u001b[49m\u001b[43mstorage_options\u001b[49m\u001b[38;5;241;43m=\u001b[39;49m\u001b[38;5;28;43mself\u001b[39;49m\u001b[38;5;241;43m.\u001b[39;49m\u001b[43moptions\u001b[49m\u001b[38;5;241;43m.\u001b[39;49m\u001b[43mget\u001b[49m\u001b[43m(\u001b[49m\u001b[38;5;124;43m\"\u001b[39;49m\u001b[38;5;124;43mstorage_options\u001b[39;49m\u001b[38;5;124;43m\"\u001b[39;49m\u001b[43m,\u001b[49m\u001b[43m \u001b[49m\u001b[38;5;28;43;01mNone\u001b[39;49;00m\u001b[43m)\u001b[49m\u001b[43m,\u001b[49m\n\u001b[0;32m   1714\u001b[0m \u001b[43m\u001b[49m\u001b[43m)\u001b[49m\n\u001b[0;32m   1715\u001b[0m \u001b[38;5;28;01massert\u001b[39;00m \u001b[38;5;28mself\u001b[39m\u001b[38;5;241m.\u001b[39mhandles \u001b[38;5;129;01mis\u001b[39;00m \u001b[38;5;129;01mnot\u001b[39;00m \u001b[38;5;28;01mNone\u001b[39;00m\n\u001b[0;32m   1716\u001b[0m f \u001b[38;5;241m=\u001b[39m \u001b[38;5;28mself\u001b[39m\u001b[38;5;241m.\u001b[39mhandles\u001b[38;5;241m.\u001b[39mhandle\n",
      "File \u001b[1;32m~\\anaconda3\\envs\\py39\\lib\\site-packages\\pandas\\io\\common.py:863\u001b[0m, in \u001b[0;36mget_handle\u001b[1;34m(path_or_buf, mode, encoding, compression, memory_map, is_text, errors, storage_options)\u001b[0m\n\u001b[0;32m    858\u001b[0m \u001b[38;5;28;01melif\u001b[39;00m \u001b[38;5;28misinstance\u001b[39m(handle, \u001b[38;5;28mstr\u001b[39m):\n\u001b[0;32m    859\u001b[0m     \u001b[38;5;66;03m# Check whether the filename is to be opened in binary mode.\u001b[39;00m\n\u001b[0;32m    860\u001b[0m     \u001b[38;5;66;03m# Binary mode does not support 'encoding' and 'newline'.\u001b[39;00m\n\u001b[0;32m    861\u001b[0m     \u001b[38;5;28;01mif\u001b[39;00m ioargs\u001b[38;5;241m.\u001b[39mencoding \u001b[38;5;129;01mand\u001b[39;00m \u001b[38;5;124m\"\u001b[39m\u001b[38;5;124mb\u001b[39m\u001b[38;5;124m\"\u001b[39m \u001b[38;5;129;01mnot\u001b[39;00m \u001b[38;5;129;01min\u001b[39;00m ioargs\u001b[38;5;241m.\u001b[39mmode:\n\u001b[0;32m    862\u001b[0m         \u001b[38;5;66;03m# Encoding\u001b[39;00m\n\u001b[1;32m--> 863\u001b[0m         handle \u001b[38;5;241m=\u001b[39m \u001b[38;5;28;43mopen\u001b[39;49m\u001b[43m(\u001b[49m\n\u001b[0;32m    864\u001b[0m \u001b[43m            \u001b[49m\u001b[43mhandle\u001b[49m\u001b[43m,\u001b[49m\n\u001b[0;32m    865\u001b[0m \u001b[43m            \u001b[49m\u001b[43mioargs\u001b[49m\u001b[38;5;241;43m.\u001b[39;49m\u001b[43mmode\u001b[49m\u001b[43m,\u001b[49m\n\u001b[0;32m    866\u001b[0m \u001b[43m            \u001b[49m\u001b[43mencoding\u001b[49m\u001b[38;5;241;43m=\u001b[39;49m\u001b[43mioargs\u001b[49m\u001b[38;5;241;43m.\u001b[39;49m\u001b[43mencoding\u001b[49m\u001b[43m,\u001b[49m\n\u001b[0;32m    867\u001b[0m \u001b[43m            \u001b[49m\u001b[43merrors\u001b[49m\u001b[38;5;241;43m=\u001b[39;49m\u001b[43merrors\u001b[49m\u001b[43m,\u001b[49m\n\u001b[0;32m    868\u001b[0m \u001b[43m            \u001b[49m\u001b[43mnewline\u001b[49m\u001b[38;5;241;43m=\u001b[39;49m\u001b[38;5;124;43m\"\u001b[39;49m\u001b[38;5;124;43m\"\u001b[39;49m\u001b[43m,\u001b[49m\n\u001b[0;32m    869\u001b[0m \u001b[43m        \u001b[49m\u001b[43m)\u001b[49m\n\u001b[0;32m    870\u001b[0m     \u001b[38;5;28;01melse\u001b[39;00m:\n\u001b[0;32m    871\u001b[0m         \u001b[38;5;66;03m# Binary mode\u001b[39;00m\n\u001b[0;32m    872\u001b[0m         handle \u001b[38;5;241m=\u001b[39m \u001b[38;5;28mopen\u001b[39m(handle, ioargs\u001b[38;5;241m.\u001b[39mmode)\n",
      "\u001b[1;31mFileNotFoundError\u001b[0m: [Errno 2] No such file or directory: '../data/daegu/automl/external_open/countrywide_accident.csv'"
     ]
    }
   ],
   "source": [
    "countrywide = pd.read_csv(path+'external_open/countrywide_accident.csv')\n",
    "countrywide.head()"
   ]
  },
  {
   "cell_type": "code",
   "execution_count": null,
   "metadata": {
    "ExecuteTime": {
     "start_time": "2023-12-06T12:31:59.562Z"
    },
    "colab": {
     "base_uri": "https://localhost:8080/",
     "height": 340
    },
    "executionInfo": {
     "elapsed": 24,
     "status": "ok",
     "timestamp": 1701200396325,
     "user": {
      "displayName": "서은서",
      "userId": "08795597860961939533"
     },
     "user_tz": -540
    },
    "id": "sIe_HNN3_5Ej",
    "outputId": "69a24f9a-b3a1-4a17-bc9a-e44cf1d283ff"
   },
   "outputs": [],
   "source": [
    "countrywide_df = countrywide.drop(['ID'],axis=1)\n",
    "countrywide_df.head()"
   ]
  },
  {
   "cell_type": "markdown",
   "metadata": {
    "id": "cvmFOAFT_5Ej"
   },
   "source": [
    "### 데이터 합치기"
   ]
  },
  {
   "cell_type": "markdown",
   "metadata": {
    "id": "MIHurQM0_5Ej"
   },
   "source": [
    "- dong_install\n",
    "- cctv_count\n",
    "- speed_cctv\n",
    "- parking_df"
   ]
  },
  {
   "cell_type": "code",
   "execution_count": null,
   "metadata": {
    "ExecuteTime": {
     "start_time": "2023-12-06T12:31:59.624Z"
    },
    "colab": {
     "base_uri": "https://localhost:8080/",
     "height": 340
    },
    "executionInfo": {
     "elapsed": 23,
     "status": "ok",
     "timestamp": 1701200396326,
     "user": {
      "displayName": "서은서",
      "userId": "08795597860961939533"
     },
     "user_tz": -540
    },
    "id": "jfoMzuoh_5Eo",
    "outputId": "ff3429c3-3a7f-4501-c02f-d639dc7063db"
   },
   "outputs": [],
   "source": [
    "# train_df.tail()"
   ]
  },
  {
   "cell_type": "code",
   "execution_count": 93,
   "metadata": {
    "ExecuteTime": {
     "end_time": "2023-12-06T18:02:12.522208Z",
     "start_time": "2023-12-06T18:02:12.508029Z"
    },
    "colab": {
     "base_uri": "https://localhost:8080/"
    },
    "executionInfo": {
     "elapsed": 21,
     "status": "ok",
     "timestamp": 1701200396326,
     "user": {
      "displayName": "서은서",
      "userId": "08795597860961939533"
     },
     "user_tz": -540
    },
    "id": "o2F9yIz1_5Eo",
    "outputId": "3af8ac82-c539-4e61-eb72-f8bf88312c8d"
   },
   "outputs": [
    {
     "data": {
      "text/plain": [
       "Index(['ID', '사고일시', '요일', '기상상태', '도로형태', '노면상태', '사고유형', '사고유형 - 세부분류',\n",
       "       '법규위반', '가해운전자 차종', '가해운전자 성별', '가해운전자 연령', '가해운전자 상해정도', '피해운전자 차종',\n",
       "       '피해운전자 성별', '피해운전자 연령', '피해운전자 상해정도', '사망자수', '중상자수', '경상자수', '부상자수',\n",
       "       'ECLO', '연', '월', '일', '시간', '구', '동'],\n",
       "      dtype='object')"
      ]
     },
     "execution_count": 93,
     "metadata": {},
     "output_type": "execute_result"
    }
   ],
   "source": [
    "train_df.columns"
   ]
  },
  {
   "cell_type": "code",
   "execution_count": 94,
   "metadata": {
    "ExecuteTime": {
     "end_time": "2023-12-06T18:02:12.941862Z",
     "start_time": "2023-12-06T18:02:12.927654Z"
    },
    "colab": {
     "base_uri": "https://localhost:8080/",
     "height": 424
    },
    "executionInfo": {
     "elapsed": 14,
     "status": "ok",
     "timestamp": 1701200396326,
     "user": {
      "displayName": "서은서",
      "userId": "08795597860961939533"
     },
     "user_tz": -540
    },
    "id": "dmaQnu8M_5Eo",
    "outputId": "d4d86a9f-db03-471a-f064-0eb5ad48abb4"
   },
   "outputs": [
    {
     "data": {
      "text/html": [
       "<div>\n",
       "<style scoped>\n",
       "    .dataframe tbody tr th:only-of-type {\n",
       "        vertical-align: middle;\n",
       "    }\n",
       "\n",
       "    .dataframe tbody tr th {\n",
       "        vertical-align: top;\n",
       "    }\n",
       "\n",
       "    .dataframe thead th {\n",
       "        text-align: right;\n",
       "    }\n",
       "</style>\n",
       "<table border=\"1\" class=\"dataframe\">\n",
       "  <thead>\n",
       "    <tr style=\"text-align: right;\">\n",
       "      <th></th>\n",
       "      <th>동</th>\n",
       "      <th>보안등개수</th>\n",
       "    </tr>\n",
       "  </thead>\n",
       "  <tbody>\n",
       "    <tr>\n",
       "      <th>0</th>\n",
       "      <td>3가동</td>\n",
       "      <td>491</td>\n",
       "    </tr>\n",
       "    <tr>\n",
       "      <th>1</th>\n",
       "      <td>3동</td>\n",
       "      <td>1636</td>\n",
       "    </tr>\n",
       "    <tr>\n",
       "      <th>2</th>\n",
       "      <td>각산동</td>\n",
       "      <td>139</td>\n",
       "    </tr>\n",
       "    <tr>\n",
       "      <th>3</th>\n",
       "      <td>갈산동</td>\n",
       "      <td>351</td>\n",
       "    </tr>\n",
       "    <tr>\n",
       "      <th>4</th>\n",
       "      <td>감삼동</td>\n",
       "      <td>941</td>\n",
       "    </tr>\n",
       "  </tbody>\n",
       "</table>\n",
       "</div>"
      ],
      "text/plain": [
       "     동  보안등개수\n",
       "0  3가동    491\n",
       "1   3동   1636\n",
       "2  각산동    139\n",
       "3  갈산동    351\n",
       "4  감삼동    941"
      ]
     },
     "execution_count": 94,
     "metadata": {},
     "output_type": "execute_result"
    }
   ],
   "source": [
    "dong_install = dong_install.reset_index()\n",
    "dong_install.head()"
   ]
  },
  {
   "cell_type": "code",
   "execution_count": 36,
   "metadata": {
    "ExecuteTime": {
     "end_time": "2023-12-06T18:50:28.037733Z",
     "start_time": "2023-12-06T18:50:28.014840Z"
    },
    "colab": {
     "base_uri": "https://localhost:8080/",
     "height": 1000
    },
    "executionInfo": {
     "elapsed": 13,
     "status": "ok",
     "timestamp": 1701200396326,
     "user": {
      "displayName": "서은서",
      "userId": "08795597860961939533"
     },
     "user_tz": -540
    },
    "id": "sCzRvMeF_5Eo",
    "outputId": "67283219-6d4c-4272-bc8b-fe62c97dedd5"
   },
   "outputs": [
    {
     "data": {
      "text/html": [
       "<div>\n",
       "<style scoped>\n",
       "    .dataframe tbody tr th:only-of-type {\n",
       "        vertical-align: middle;\n",
       "    }\n",
       "\n",
       "    .dataframe tbody tr th {\n",
       "        vertical-align: top;\n",
       "    }\n",
       "\n",
       "    .dataframe thead th {\n",
       "        text-align: right;\n",
       "    }\n",
       "</style>\n",
       "<table border=\"1\" class=\"dataframe\">\n",
       "  <thead>\n",
       "    <tr style=\"text-align: right;\">\n",
       "      <th></th>\n",
       "      <th>동</th>\n",
       "      <th>CCTV설치대수</th>\n",
       "    </tr>\n",
       "  </thead>\n",
       "  <tbody>\n",
       "    <tr>\n",
       "      <th>0</th>\n",
       "      <td>검단동</td>\n",
       "      <td>4.0</td>\n",
       "    </tr>\n",
       "    <tr>\n",
       "      <th>1</th>\n",
       "      <td>고성동</td>\n",
       "      <td>4.0</td>\n",
       "    </tr>\n",
       "    <tr>\n",
       "      <th>2</th>\n",
       "      <td>관음동</td>\n",
       "      <td>22.0</td>\n",
       "    </tr>\n",
       "    <tr>\n",
       "      <th>3</th>\n",
       "      <td>구암동</td>\n",
       "      <td>36.0</td>\n",
       "    </tr>\n",
       "    <tr>\n",
       "      <th>4</th>\n",
       "      <td>국우동</td>\n",
       "      <td>16.0</td>\n",
       "    </tr>\n",
       "  </tbody>\n",
       "</table>\n",
       "</div>"
      ],
      "text/plain": [
       "     동  CCTV설치대수\n",
       "0  검단동       4.0\n",
       "1  고성동       4.0\n",
       "2  관음동      22.0\n",
       "3  구암동      36.0\n",
       "4  국우동      16.0"
      ]
     },
     "execution_count": 36,
     "metadata": {},
     "output_type": "execute_result"
    }
   ],
   "source": [
    "cctv_count = cctv_count.reset_index()\n",
    "cctv_count.head()"
   ]
  },
  {
   "cell_type": "code",
   "execution_count": 37,
   "metadata": {
    "ExecuteTime": {
     "end_time": "2023-12-06T18:50:28.598257Z",
     "start_time": "2023-12-06T18:50:28.583343Z"
    },
    "colab": {
     "base_uri": "https://localhost:8080/",
     "height": 424
    },
    "executionInfo": {
     "elapsed": 12,
     "status": "ok",
     "timestamp": 1701200396326,
     "user": {
      "displayName": "서은서",
      "userId": "08795597860961939533"
     },
     "user_tz": -540
    },
    "id": "2bibCHgq_5Eo",
    "outputId": "32198d41-9c96-4064-96db-94be2cca38c3"
   },
   "outputs": [
    {
     "data": {
      "text/html": [
       "<div>\n",
       "<style scoped>\n",
       "    .dataframe tbody tr th:only-of-type {\n",
       "        vertical-align: middle;\n",
       "    }\n",
       "\n",
       "    .dataframe tbody tr th {\n",
       "        vertical-align: top;\n",
       "    }\n",
       "\n",
       "    .dataframe thead th {\n",
       "        text-align: right;\n",
       "    }\n",
       "</style>\n",
       "<table border=\"1\" class=\"dataframe\">\n",
       "  <thead>\n",
       "    <tr style=\"text-align: right;\">\n",
       "      <th></th>\n",
       "      <th>제한속도</th>\n",
       "    </tr>\n",
       "    <tr>\n",
       "      <th>동</th>\n",
       "      <th></th>\n",
       "    </tr>\n",
       "  </thead>\n",
       "  <tbody>\n",
       "    <tr>\n",
       "      <th>가창면</th>\n",
       "      <td>54.117647</td>\n",
       "    </tr>\n",
       "    <tr>\n",
       "      <th>가천동</th>\n",
       "      <td>60.000000</td>\n",
       "    </tr>\n",
       "    <tr>\n",
       "      <th>각산동</th>\n",
       "      <td>40.000000</td>\n",
       "    </tr>\n",
       "    <tr>\n",
       "      <th>갈산동</th>\n",
       "      <td>50.000000</td>\n",
       "    </tr>\n",
       "    <tr>\n",
       "      <th>감삼동</th>\n",
       "      <td>52.500000</td>\n",
       "    </tr>\n",
       "  </tbody>\n",
       "</table>\n",
       "</div>"
      ],
      "text/plain": [
       "          제한속도\n",
       "동             \n",
       "가창면  54.117647\n",
       "가천동  60.000000\n",
       "각산동  40.000000\n",
       "갈산동  50.000000\n",
       "감삼동  52.500000"
      ]
     },
     "execution_count": 37,
     "metadata": {},
     "output_type": "execute_result"
    }
   ],
   "source": [
    "speed_cctv  = speed_cctv\n",
    "speed_cctv.head()"
   ]
  },
  {
   "cell_type": "code",
   "execution_count": 38,
   "metadata": {
    "ExecuteTime": {
     "end_time": "2023-12-06T18:50:31.664705Z",
     "start_time": "2023-12-06T18:50:31.646814Z"
    },
    "colab": {
     "base_uri": "https://localhost:8080/"
    },
    "executionInfo": {
     "elapsed": 11,
     "status": "ok",
     "timestamp": 1701200396326,
     "user": {
      "displayName": "서은서",
      "userId": "08795597860961939533"
     },
     "user_tz": -540
    },
    "id": "7QpLTOtp_5Eo",
    "outputId": "fb53a699-0675-4c23-ee9d-a86bd1ee7f69"
   },
   "outputs": [
    {
     "data": {
      "text/plain": [
       "(39609, 28)"
      ]
     },
     "execution_count": 38,
     "metadata": {},
     "output_type": "execute_result"
    }
   ],
   "source": [
    "train_df.shape"
   ]
  },
  {
   "cell_type": "code",
   "execution_count": 39,
   "metadata": {
    "ExecuteTime": {
     "end_time": "2023-12-06T18:50:42.990846Z",
     "start_time": "2023-12-06T18:50:42.937284Z"
    },
    "colab": {
     "base_uri": "https://localhost:8080/",
     "height": 615
    },
    "executionInfo": {
     "elapsed": 441,
     "status": "ok",
     "timestamp": 1701200396757,
     "user": {
      "displayName": "서은서",
      "userId": "08795597860961939533"
     },
     "user_tz": -540
    },
    "id": "-J9gT_ex_5Eo",
    "outputId": "6d6884c3-dce5-4814-a06d-5785da51ad56"
   },
   "outputs": [
    {
     "data": {
      "text/html": [
       "<div>\n",
       "<style scoped>\n",
       "    .dataframe tbody tr th:only-of-type {\n",
       "        vertical-align: middle;\n",
       "    }\n",
       "\n",
       "    .dataframe tbody tr th {\n",
       "        vertical-align: top;\n",
       "    }\n",
       "\n",
       "    .dataframe thead th {\n",
       "        text-align: right;\n",
       "    }\n",
       "</style>\n",
       "<table border=\"1\" class=\"dataframe\">\n",
       "  <thead>\n",
       "    <tr style=\"text-align: right;\">\n",
       "      <th></th>\n",
       "      <th>ID</th>\n",
       "      <th>사고일시</th>\n",
       "      <th>요일</th>\n",
       "      <th>기상상태</th>\n",
       "      <th>도로형태</th>\n",
       "      <th>노면상태</th>\n",
       "      <th>사고유형</th>\n",
       "      <th>사고유형 - 세부분류</th>\n",
       "      <th>법규위반</th>\n",
       "      <th>가해운전자 차종</th>\n",
       "      <th>가해운전자 성별</th>\n",
       "      <th>가해운전자 연령</th>\n",
       "      <th>가해운전자 상해정도</th>\n",
       "      <th>피해운전자 차종</th>\n",
       "      <th>피해운전자 성별</th>\n",
       "      <th>피해운전자 연령</th>\n",
       "      <th>피해운전자 상해정도</th>\n",
       "      <th>사망자수</th>\n",
       "      <th>중상자수</th>\n",
       "      <th>경상자수</th>\n",
       "      <th>부상자수</th>\n",
       "      <th>ECLO</th>\n",
       "      <th>연</th>\n",
       "      <th>월</th>\n",
       "      <th>일</th>\n",
       "      <th>시간</th>\n",
       "      <th>구</th>\n",
       "      <th>동</th>\n",
       "      <th>보안등개수</th>\n",
       "    </tr>\n",
       "  </thead>\n",
       "  <tbody>\n",
       "    <tr>\n",
       "      <th>0</th>\n",
       "      <td>ACCIDENT_00000</td>\n",
       "      <td>2019-01-01 00</td>\n",
       "      <td>화요일</td>\n",
       "      <td>맑음</td>\n",
       "      <td>단일로 - 기타</td>\n",
       "      <td>건조</td>\n",
       "      <td>차대사람</td>\n",
       "      <td>길가장자리구역통행중</td>\n",
       "      <td>안전운전불이행</td>\n",
       "      <td>승용</td>\n",
       "      <td>여</td>\n",
       "      <td>51세</td>\n",
       "      <td>상해없음</td>\n",
       "      <td>보행자</td>\n",
       "      <td>여</td>\n",
       "      <td>70세</td>\n",
       "      <td>중상</td>\n",
       "      <td>0</td>\n",
       "      <td>1</td>\n",
       "      <td>0</td>\n",
       "      <td>0</td>\n",
       "      <td>5</td>\n",
       "      <td>2019</td>\n",
       "      <td>1</td>\n",
       "      <td>1</td>\n",
       "      <td>0</td>\n",
       "      <td>중구</td>\n",
       "      <td>대신동</td>\n",
       "      <td>391.0</td>\n",
       "    </tr>\n",
       "    <tr>\n",
       "      <th>1</th>\n",
       "      <td>ACCIDENT_00001</td>\n",
       "      <td>2019-01-01 00</td>\n",
       "      <td>화요일</td>\n",
       "      <td>흐림</td>\n",
       "      <td>단일로 - 기타</td>\n",
       "      <td>건조</td>\n",
       "      <td>차대사람</td>\n",
       "      <td>보도통행중</td>\n",
       "      <td>기타</td>\n",
       "      <td>승용</td>\n",
       "      <td>남</td>\n",
       "      <td>39세</td>\n",
       "      <td>상해없음</td>\n",
       "      <td>보행자</td>\n",
       "      <td>남</td>\n",
       "      <td>61세</td>\n",
       "      <td>경상</td>\n",
       "      <td>0</td>\n",
       "      <td>0</td>\n",
       "      <td>1</td>\n",
       "      <td>0</td>\n",
       "      <td>3</td>\n",
       "      <td>2019</td>\n",
       "      <td>1</td>\n",
       "      <td>1</td>\n",
       "      <td>0</td>\n",
       "      <td>달서구</td>\n",
       "      <td>감삼동</td>\n",
       "      <td>941.0</td>\n",
       "    </tr>\n",
       "    <tr>\n",
       "      <th>2</th>\n",
       "      <td>ACCIDENT_00002</td>\n",
       "      <td>2019-01-01 01</td>\n",
       "      <td>화요일</td>\n",
       "      <td>맑음</td>\n",
       "      <td>단일로 - 기타</td>\n",
       "      <td>건조</td>\n",
       "      <td>차대사람</td>\n",
       "      <td>차도통행중</td>\n",
       "      <td>안전운전불이행</td>\n",
       "      <td>승용</td>\n",
       "      <td>남</td>\n",
       "      <td>70세</td>\n",
       "      <td>상해없음</td>\n",
       "      <td>보행자</td>\n",
       "      <td>남</td>\n",
       "      <td>38세</td>\n",
       "      <td>경상</td>\n",
       "      <td>0</td>\n",
       "      <td>0</td>\n",
       "      <td>1</td>\n",
       "      <td>0</td>\n",
       "      <td>3</td>\n",
       "      <td>2019</td>\n",
       "      <td>1</td>\n",
       "      <td>1</td>\n",
       "      <td>1</td>\n",
       "      <td>수성구</td>\n",
       "      <td>두산동</td>\n",
       "      <td>473.0</td>\n",
       "    </tr>\n",
       "    <tr>\n",
       "      <th>3</th>\n",
       "      <td>ACCIDENT_00003</td>\n",
       "      <td>2019-01-01 02</td>\n",
       "      <td>화요일</td>\n",
       "      <td>맑음</td>\n",
       "      <td>단일로 - 기타</td>\n",
       "      <td>건조</td>\n",
       "      <td>차대차</td>\n",
       "      <td>추돌</td>\n",
       "      <td>안전운전불이행</td>\n",
       "      <td>승용</td>\n",
       "      <td>남</td>\n",
       "      <td>49세</td>\n",
       "      <td>상해없음</td>\n",
       "      <td>승용</td>\n",
       "      <td>남</td>\n",
       "      <td>36세</td>\n",
       "      <td>중상</td>\n",
       "      <td>0</td>\n",
       "      <td>1</td>\n",
       "      <td>0</td>\n",
       "      <td>0</td>\n",
       "      <td>5</td>\n",
       "      <td>2019</td>\n",
       "      <td>1</td>\n",
       "      <td>1</td>\n",
       "      <td>2</td>\n",
       "      <td>북구</td>\n",
       "      <td>복현동</td>\n",
       "      <td>534.0</td>\n",
       "    </tr>\n",
       "    <tr>\n",
       "      <th>4</th>\n",
       "      <td>ACCIDENT_00004</td>\n",
       "      <td>2019-01-01 04</td>\n",
       "      <td>화요일</td>\n",
       "      <td>맑음</td>\n",
       "      <td>단일로 - 기타</td>\n",
       "      <td>건조</td>\n",
       "      <td>차대차</td>\n",
       "      <td>추돌</td>\n",
       "      <td>안전운전불이행</td>\n",
       "      <td>승용</td>\n",
       "      <td>남</td>\n",
       "      <td>30세</td>\n",
       "      <td>상해없음</td>\n",
       "      <td>승용</td>\n",
       "      <td>남</td>\n",
       "      <td>52세</td>\n",
       "      <td>경상</td>\n",
       "      <td>0</td>\n",
       "      <td>0</td>\n",
       "      <td>1</td>\n",
       "      <td>0</td>\n",
       "      <td>3</td>\n",
       "      <td>2019</td>\n",
       "      <td>1</td>\n",
       "      <td>1</td>\n",
       "      <td>4</td>\n",
       "      <td>동구</td>\n",
       "      <td>신암동</td>\n",
       "      <td>2064.0</td>\n",
       "    </tr>\n",
       "  </tbody>\n",
       "</table>\n",
       "</div>"
      ],
      "text/plain": [
       "               ID           사고일시   요일 기상상태      도로형태 노면상태  사고유형 사고유형 - 세부분류  \\\n",
       "0  ACCIDENT_00000  2019-01-01 00  화요일   맑음  단일로 - 기타   건조  차대사람  길가장자리구역통행중   \n",
       "1  ACCIDENT_00001  2019-01-01 00  화요일   흐림  단일로 - 기타   건조  차대사람       보도통행중   \n",
       "2  ACCIDENT_00002  2019-01-01 01  화요일   맑음  단일로 - 기타   건조  차대사람       차도통행중   \n",
       "3  ACCIDENT_00003  2019-01-01 02  화요일   맑음  단일로 - 기타   건조   차대차          추돌   \n",
       "4  ACCIDENT_00004  2019-01-01 04  화요일   맑음  단일로 - 기타   건조   차대차          추돌   \n",
       "\n",
       "      법규위반 가해운전자 차종 가해운전자 성별 가해운전자 연령 가해운전자 상해정도 피해운전자 차종 피해운전자 성별 피해운전자 연령  \\\n",
       "0  안전운전불이행       승용        여      51세       상해없음      보행자        여      70세   \n",
       "1       기타       승용        남      39세       상해없음      보행자        남      61세   \n",
       "2  안전운전불이행       승용        남      70세       상해없음      보행자        남      38세   \n",
       "3  안전운전불이행       승용        남      49세       상해없음       승용        남      36세   \n",
       "4  안전운전불이행       승용        남      30세       상해없음       승용        남      52세   \n",
       "\n",
       "  피해운전자 상해정도  사망자수  중상자수  경상자수  부상자수  ECLO     연  월  일  시간    구    동   보안등개수  \n",
       "0         중상     0     1     0     0     5  2019  1  1   0   중구  대신동   391.0  \n",
       "1         경상     0     0     1     0     3  2019  1  1   0  달서구  감삼동   941.0  \n",
       "2         경상     0     0     1     0     3  2019  1  1   1  수성구  두산동   473.0  \n",
       "3         중상     0     1     0     0     5  2019  1  1   2   북구  복현동   534.0  \n",
       "4         경상     0     0     1     0     3  2019  1  1   4   동구  신암동  2064.0  "
      ]
     },
     "execution_count": 39,
     "metadata": {},
     "output_type": "execute_result"
    }
   ],
   "source": [
    "tr_df = pd.merge(train_df,dong_install,how='left',on='동')\n",
    "tr_df.head()"
   ]
  },
  {
   "cell_type": "code",
   "execution_count": 40,
   "metadata": {
    "ExecuteTime": {
     "end_time": "2023-12-06T18:50:48.615300Z",
     "start_time": "2023-12-06T18:50:48.545240Z"
    },
    "colab": {
     "base_uri": "https://localhost:8080/",
     "height": 615
    },
    "executionInfo": {
     "elapsed": 9,
     "status": "ok",
     "timestamp": 1701200396757,
     "user": {
      "displayName": "서은서",
      "userId": "08795597860961939533"
     },
     "user_tz": -540
    },
    "id": "oHgxR6qn_5Ep",
    "outputId": "d995258a-64ea-45c5-f512-bbf819808251"
   },
   "outputs": [
    {
     "data": {
      "text/html": [
       "<div>\n",
       "<style scoped>\n",
       "    .dataframe tbody tr th:only-of-type {\n",
       "        vertical-align: middle;\n",
       "    }\n",
       "\n",
       "    .dataframe tbody tr th {\n",
       "        vertical-align: top;\n",
       "    }\n",
       "\n",
       "    .dataframe thead th {\n",
       "        text-align: right;\n",
       "    }\n",
       "</style>\n",
       "<table border=\"1\" class=\"dataframe\">\n",
       "  <thead>\n",
       "    <tr style=\"text-align: right;\">\n",
       "      <th></th>\n",
       "      <th>ID</th>\n",
       "      <th>사고일시</th>\n",
       "      <th>요일</th>\n",
       "      <th>기상상태</th>\n",
       "      <th>도로형태</th>\n",
       "      <th>노면상태</th>\n",
       "      <th>사고유형</th>\n",
       "      <th>사고유형 - 세부분류</th>\n",
       "      <th>법규위반</th>\n",
       "      <th>가해운전자 차종</th>\n",
       "      <th>가해운전자 성별</th>\n",
       "      <th>가해운전자 연령</th>\n",
       "      <th>가해운전자 상해정도</th>\n",
       "      <th>피해운전자 차종</th>\n",
       "      <th>피해운전자 성별</th>\n",
       "      <th>피해운전자 연령</th>\n",
       "      <th>피해운전자 상해정도</th>\n",
       "      <th>사망자수</th>\n",
       "      <th>중상자수</th>\n",
       "      <th>경상자수</th>\n",
       "      <th>부상자수</th>\n",
       "      <th>ECLO</th>\n",
       "      <th>연</th>\n",
       "      <th>월</th>\n",
       "      <th>일</th>\n",
       "      <th>시간</th>\n",
       "      <th>구</th>\n",
       "      <th>동</th>\n",
       "      <th>보안등개수</th>\n",
       "      <th>CCTV설치대수</th>\n",
       "      <th>제한속도</th>\n",
       "      <th>급지구분_1</th>\n",
       "      <th>급지구분_2</th>\n",
       "      <th>급지구분_3</th>\n",
       "    </tr>\n",
       "  </thead>\n",
       "  <tbody>\n",
       "    <tr>\n",
       "      <th>0</th>\n",
       "      <td>ACCIDENT_00000</td>\n",
       "      <td>2019-01-01 00</td>\n",
       "      <td>화요일</td>\n",
       "      <td>맑음</td>\n",
       "      <td>단일로 - 기타</td>\n",
       "      <td>건조</td>\n",
       "      <td>차대사람</td>\n",
       "      <td>길가장자리구역통행중</td>\n",
       "      <td>안전운전불이행</td>\n",
       "      <td>승용</td>\n",
       "      <td>여</td>\n",
       "      <td>51세</td>\n",
       "      <td>상해없음</td>\n",
       "      <td>보행자</td>\n",
       "      <td>여</td>\n",
       "      <td>70세</td>\n",
       "      <td>중상</td>\n",
       "      <td>0</td>\n",
       "      <td>1</td>\n",
       "      <td>0</td>\n",
       "      <td>0</td>\n",
       "      <td>5</td>\n",
       "      <td>2019</td>\n",
       "      <td>1</td>\n",
       "      <td>1</td>\n",
       "      <td>0</td>\n",
       "      <td>중구</td>\n",
       "      <td>대신동</td>\n",
       "      <td>391.0</td>\n",
       "      <td>13.0</td>\n",
       "      <td>40.0</td>\n",
       "      <td>11.0</td>\n",
       "      <td>0.0</td>\n",
       "      <td>0.0</td>\n",
       "    </tr>\n",
       "    <tr>\n",
       "      <th>1</th>\n",
       "      <td>ACCIDENT_00001</td>\n",
       "      <td>2019-01-01 00</td>\n",
       "      <td>화요일</td>\n",
       "      <td>흐림</td>\n",
       "      <td>단일로 - 기타</td>\n",
       "      <td>건조</td>\n",
       "      <td>차대사람</td>\n",
       "      <td>보도통행중</td>\n",
       "      <td>기타</td>\n",
       "      <td>승용</td>\n",
       "      <td>남</td>\n",
       "      <td>39세</td>\n",
       "      <td>상해없음</td>\n",
       "      <td>보행자</td>\n",
       "      <td>남</td>\n",
       "      <td>61세</td>\n",
       "      <td>경상</td>\n",
       "      <td>0</td>\n",
       "      <td>0</td>\n",
       "      <td>1</td>\n",
       "      <td>0</td>\n",
       "      <td>3</td>\n",
       "      <td>2019</td>\n",
       "      <td>1</td>\n",
       "      <td>1</td>\n",
       "      <td>0</td>\n",
       "      <td>달서구</td>\n",
       "      <td>감삼동</td>\n",
       "      <td>941.0</td>\n",
       "      <td>NaN</td>\n",
       "      <td>52.5</td>\n",
       "      <td>0.0</td>\n",
       "      <td>1.0</td>\n",
       "      <td>3.0</td>\n",
       "    </tr>\n",
       "    <tr>\n",
       "      <th>2</th>\n",
       "      <td>ACCIDENT_00002</td>\n",
       "      <td>2019-01-01 01</td>\n",
       "      <td>화요일</td>\n",
       "      <td>맑음</td>\n",
       "      <td>단일로 - 기타</td>\n",
       "      <td>건조</td>\n",
       "      <td>차대사람</td>\n",
       "      <td>차도통행중</td>\n",
       "      <td>안전운전불이행</td>\n",
       "      <td>승용</td>\n",
       "      <td>남</td>\n",
       "      <td>70세</td>\n",
       "      <td>상해없음</td>\n",
       "      <td>보행자</td>\n",
       "      <td>남</td>\n",
       "      <td>38세</td>\n",
       "      <td>경상</td>\n",
       "      <td>0</td>\n",
       "      <td>0</td>\n",
       "      <td>1</td>\n",
       "      <td>0</td>\n",
       "      <td>3</td>\n",
       "      <td>2019</td>\n",
       "      <td>1</td>\n",
       "      <td>1</td>\n",
       "      <td>1</td>\n",
       "      <td>수성구</td>\n",
       "      <td>두산동</td>\n",
       "      <td>473.0</td>\n",
       "      <td>NaN</td>\n",
       "      <td>55.0</td>\n",
       "      <td>NaN</td>\n",
       "      <td>NaN</td>\n",
       "      <td>NaN</td>\n",
       "    </tr>\n",
       "    <tr>\n",
       "      <th>3</th>\n",
       "      <td>ACCIDENT_00003</td>\n",
       "      <td>2019-01-01 02</td>\n",
       "      <td>화요일</td>\n",
       "      <td>맑음</td>\n",
       "      <td>단일로 - 기타</td>\n",
       "      <td>건조</td>\n",
       "      <td>차대차</td>\n",
       "      <td>추돌</td>\n",
       "      <td>안전운전불이행</td>\n",
       "      <td>승용</td>\n",
       "      <td>남</td>\n",
       "      <td>49세</td>\n",
       "      <td>상해없음</td>\n",
       "      <td>승용</td>\n",
       "      <td>남</td>\n",
       "      <td>36세</td>\n",
       "      <td>중상</td>\n",
       "      <td>0</td>\n",
       "      <td>1</td>\n",
       "      <td>0</td>\n",
       "      <td>0</td>\n",
       "      <td>5</td>\n",
       "      <td>2019</td>\n",
       "      <td>1</td>\n",
       "      <td>1</td>\n",
       "      <td>2</td>\n",
       "      <td>북구</td>\n",
       "      <td>복현동</td>\n",
       "      <td>534.0</td>\n",
       "      <td>32.0</td>\n",
       "      <td>38.0</td>\n",
       "      <td>0.0</td>\n",
       "      <td>9.0</td>\n",
       "      <td>5.0</td>\n",
       "    </tr>\n",
       "    <tr>\n",
       "      <th>4</th>\n",
       "      <td>ACCIDENT_00004</td>\n",
       "      <td>2019-01-01 04</td>\n",
       "      <td>화요일</td>\n",
       "      <td>맑음</td>\n",
       "      <td>단일로 - 기타</td>\n",
       "      <td>건조</td>\n",
       "      <td>차대차</td>\n",
       "      <td>추돌</td>\n",
       "      <td>안전운전불이행</td>\n",
       "      <td>승용</td>\n",
       "      <td>남</td>\n",
       "      <td>30세</td>\n",
       "      <td>상해없음</td>\n",
       "      <td>승용</td>\n",
       "      <td>남</td>\n",
       "      <td>52세</td>\n",
       "      <td>경상</td>\n",
       "      <td>0</td>\n",
       "      <td>0</td>\n",
       "      <td>1</td>\n",
       "      <td>0</td>\n",
       "      <td>3</td>\n",
       "      <td>2019</td>\n",
       "      <td>1</td>\n",
       "      <td>1</td>\n",
       "      <td>4</td>\n",
       "      <td>동구</td>\n",
       "      <td>신암동</td>\n",
       "      <td>2064.0</td>\n",
       "      <td>NaN</td>\n",
       "      <td>40.0</td>\n",
       "      <td>0.0</td>\n",
       "      <td>1.0</td>\n",
       "      <td>0.0</td>\n",
       "    </tr>\n",
       "  </tbody>\n",
       "</table>\n",
       "</div>"
      ],
      "text/plain": [
       "               ID           사고일시   요일 기상상태      도로형태 노면상태  사고유형 사고유형 - 세부분류  \\\n",
       "0  ACCIDENT_00000  2019-01-01 00  화요일   맑음  단일로 - 기타   건조  차대사람  길가장자리구역통행중   \n",
       "1  ACCIDENT_00001  2019-01-01 00  화요일   흐림  단일로 - 기타   건조  차대사람       보도통행중   \n",
       "2  ACCIDENT_00002  2019-01-01 01  화요일   맑음  단일로 - 기타   건조  차대사람       차도통행중   \n",
       "3  ACCIDENT_00003  2019-01-01 02  화요일   맑음  단일로 - 기타   건조   차대차          추돌   \n",
       "4  ACCIDENT_00004  2019-01-01 04  화요일   맑음  단일로 - 기타   건조   차대차          추돌   \n",
       "\n",
       "      법규위반 가해운전자 차종 가해운전자 성별 가해운전자 연령 가해운전자 상해정도 피해운전자 차종 피해운전자 성별 피해운전자 연령  \\\n",
       "0  안전운전불이행       승용        여      51세       상해없음      보행자        여      70세   \n",
       "1       기타       승용        남      39세       상해없음      보행자        남      61세   \n",
       "2  안전운전불이행       승용        남      70세       상해없음      보행자        남      38세   \n",
       "3  안전운전불이행       승용        남      49세       상해없음       승용        남      36세   \n",
       "4  안전운전불이행       승용        남      30세       상해없음       승용        남      52세   \n",
       "\n",
       "  피해운전자 상해정도  사망자수  중상자수  경상자수  부상자수  ECLO     연  월  일  시간    구    동   보안등개수  \\\n",
       "0         중상     0     1     0     0     5  2019  1  1   0   중구  대신동   391.0   \n",
       "1         경상     0     0     1     0     3  2019  1  1   0  달서구  감삼동   941.0   \n",
       "2         경상     0     0     1     0     3  2019  1  1   1  수성구  두산동   473.0   \n",
       "3         중상     0     1     0     0     5  2019  1  1   2   북구  복현동   534.0   \n",
       "4         경상     0     0     1     0     3  2019  1  1   4   동구  신암동  2064.0   \n",
       "\n",
       "   CCTV설치대수  제한속도  급지구분_1  급지구분_2  급지구분_3  \n",
       "0      13.0  40.0    11.0     0.0     0.0  \n",
       "1       NaN  52.5     0.0     1.0     3.0  \n",
       "2       NaN  55.0     NaN     NaN     NaN  \n",
       "3      32.0  38.0     0.0     9.0     5.0  \n",
       "4       NaN  40.0     0.0     1.0     0.0  "
      ]
     },
     "execution_count": 40,
     "metadata": {},
     "output_type": "execute_result"
    }
   ],
   "source": [
    "tr_df = pd.merge(tr_df,cctv_count,how='left',on='동')\n",
    "tr_df = pd.merge(tr_df,speed_cctv,how='left',on='동')\n",
    "tr_df = pd.merge(tr_df,parking_df.drop(columns='도시'),how='left',on=['구','동'])\n",
    "tr_df.head()"
   ]
  },
  {
   "cell_type": "code",
   "execution_count": null,
   "metadata": {},
   "outputs": [],
   "source": []
  },
  {
   "cell_type": "code",
   "execution_count": 100,
   "metadata": {
    "ExecuteTime": {
     "end_time": "2023-12-06T18:02:19.680944Z",
     "start_time": "2023-12-06T18:02:19.674015Z"
    },
    "colab": {
     "base_uri": "https://localhost:8080/"
    },
    "executionInfo": {
     "elapsed": 8,
     "status": "ok",
     "timestamp": 1701200396757,
     "user": {
      "displayName": "서은서",
      "userId": "08795597860961939533"
     },
     "user_tz": -540
    },
    "id": "zdK2V7MR_5Ep",
    "outputId": "2cc7c7be-82ca-4d42-8804-f487554757e6"
   },
   "outputs": [
    {
     "data": {
      "text/plain": [
       "(10963, 13)"
      ]
     },
     "execution_count": 100,
     "metadata": {},
     "output_type": "execute_result"
    }
   ],
   "source": [
    "test_df.shape"
   ]
  },
  {
   "cell_type": "code",
   "execution_count": 41,
   "metadata": {
    "ExecuteTime": {
     "end_time": "2023-12-06T18:51:27.299327Z",
     "start_time": "2023-12-06T18:51:27.256812Z"
    },
    "colab": {
     "base_uri": "https://localhost:8080/",
     "height": 424
    },
    "executionInfo": {
     "elapsed": 6,
     "status": "ok",
     "timestamp": 1701200396757,
     "user": {
      "displayName": "서은서",
      "userId": "08795597860961939533"
     },
     "user_tz": -540
    },
    "id": "CLIc3lmx_5Ep",
    "outputId": "36d4acd7-5a6c-4273-f9bc-9e0f324175f1"
   },
   "outputs": [
    {
     "data": {
      "text/html": [
       "<div>\n",
       "<style scoped>\n",
       "    .dataframe tbody tr th:only-of-type {\n",
       "        vertical-align: middle;\n",
       "    }\n",
       "\n",
       "    .dataframe tbody tr th {\n",
       "        vertical-align: top;\n",
       "    }\n",
       "\n",
       "    .dataframe thead th {\n",
       "        text-align: right;\n",
       "    }\n",
       "</style>\n",
       "<table border=\"1\" class=\"dataframe\">\n",
       "  <thead>\n",
       "    <tr style=\"text-align: right;\">\n",
       "      <th></th>\n",
       "      <th>ID</th>\n",
       "      <th>사고일시</th>\n",
       "      <th>요일</th>\n",
       "      <th>기상상태</th>\n",
       "      <th>도로형태</th>\n",
       "      <th>노면상태</th>\n",
       "      <th>사고유형</th>\n",
       "      <th>연</th>\n",
       "      <th>월</th>\n",
       "      <th>일</th>\n",
       "      <th>시간</th>\n",
       "      <th>구</th>\n",
       "      <th>동</th>\n",
       "      <th>보안등개수</th>\n",
       "      <th>CCTV설치대수</th>\n",
       "      <th>제한속도</th>\n",
       "      <th>도시</th>\n",
       "      <th>급지구분_1</th>\n",
       "      <th>급지구분_2</th>\n",
       "      <th>급지구분_3</th>\n",
       "    </tr>\n",
       "  </thead>\n",
       "  <tbody>\n",
       "    <tr>\n",
       "      <th>0</th>\n",
       "      <td>ACCIDENT_39609</td>\n",
       "      <td>2022-01-01 01</td>\n",
       "      <td>토요일</td>\n",
       "      <td>맑음</td>\n",
       "      <td>교차로 - 교차로안</td>\n",
       "      <td>건조</td>\n",
       "      <td>차대사람</td>\n",
       "      <td>2022</td>\n",
       "      <td>1</td>\n",
       "      <td>1</td>\n",
       "      <td>1</td>\n",
       "      <td>수성구</td>\n",
       "      <td>상동</td>\n",
       "      <td>700.0</td>\n",
       "      <td>NaN</td>\n",
       "      <td>52.500000</td>\n",
       "      <td>NaN</td>\n",
       "      <td>NaN</td>\n",
       "      <td>NaN</td>\n",
       "      <td>NaN</td>\n",
       "    </tr>\n",
       "    <tr>\n",
       "      <th>1</th>\n",
       "      <td>ACCIDENT_39610</td>\n",
       "      <td>2022-01-01 01</td>\n",
       "      <td>토요일</td>\n",
       "      <td>맑음</td>\n",
       "      <td>단일로 - 기타</td>\n",
       "      <td>건조</td>\n",
       "      <td>차대사람</td>\n",
       "      <td>2022</td>\n",
       "      <td>1</td>\n",
       "      <td>1</td>\n",
       "      <td>1</td>\n",
       "      <td>수성구</td>\n",
       "      <td>지산동</td>\n",
       "      <td>NaN</td>\n",
       "      <td>NaN</td>\n",
       "      <td>47.142857</td>\n",
       "      <td>대구광역시</td>\n",
       "      <td>0.0</td>\n",
       "      <td>0.0</td>\n",
       "      <td>2.0</td>\n",
       "    </tr>\n",
       "    <tr>\n",
       "      <th>2</th>\n",
       "      <td>ACCIDENT_39611</td>\n",
       "      <td>2022-01-01 04</td>\n",
       "      <td>토요일</td>\n",
       "      <td>맑음</td>\n",
       "      <td>교차로 - 교차로안</td>\n",
       "      <td>건조</td>\n",
       "      <td>차대차</td>\n",
       "      <td>2022</td>\n",
       "      <td>1</td>\n",
       "      <td>1</td>\n",
       "      <td>4</td>\n",
       "      <td>수성구</td>\n",
       "      <td>수성동2가</td>\n",
       "      <td>NaN</td>\n",
       "      <td>NaN</td>\n",
       "      <td>40.000000</td>\n",
       "      <td>NaN</td>\n",
       "      <td>NaN</td>\n",
       "      <td>NaN</td>\n",
       "      <td>NaN</td>\n",
       "    </tr>\n",
       "    <tr>\n",
       "      <th>3</th>\n",
       "      <td>ACCIDENT_39612</td>\n",
       "      <td>2022-01-01 04</td>\n",
       "      <td>토요일</td>\n",
       "      <td>맑음</td>\n",
       "      <td>단일로 - 기타</td>\n",
       "      <td>건조</td>\n",
       "      <td>차대차</td>\n",
       "      <td>2022</td>\n",
       "      <td>1</td>\n",
       "      <td>1</td>\n",
       "      <td>4</td>\n",
       "      <td>수성구</td>\n",
       "      <td>신매동</td>\n",
       "      <td>NaN</td>\n",
       "      <td>NaN</td>\n",
       "      <td>42.727273</td>\n",
       "      <td>대구광역시</td>\n",
       "      <td>0.0</td>\n",
       "      <td>2.0</td>\n",
       "      <td>1.0</td>\n",
       "    </tr>\n",
       "    <tr>\n",
       "      <th>4</th>\n",
       "      <td>ACCIDENT_39613</td>\n",
       "      <td>2022-01-01 06</td>\n",
       "      <td>토요일</td>\n",
       "      <td>맑음</td>\n",
       "      <td>교차로 - 교차로안</td>\n",
       "      <td>건조</td>\n",
       "      <td>차대차</td>\n",
       "      <td>2022</td>\n",
       "      <td>1</td>\n",
       "      <td>1</td>\n",
       "      <td>6</td>\n",
       "      <td>달서구</td>\n",
       "      <td>감삼동</td>\n",
       "      <td>941.0</td>\n",
       "      <td>NaN</td>\n",
       "      <td>52.500000</td>\n",
       "      <td>대구광역시</td>\n",
       "      <td>0.0</td>\n",
       "      <td>1.0</td>\n",
       "      <td>3.0</td>\n",
       "    </tr>\n",
       "    <tr>\n",
       "      <th>...</th>\n",
       "      <td>...</td>\n",
       "      <td>...</td>\n",
       "      <td>...</td>\n",
       "      <td>...</td>\n",
       "      <td>...</td>\n",
       "      <td>...</td>\n",
       "      <td>...</td>\n",
       "      <td>...</td>\n",
       "      <td>...</td>\n",
       "      <td>...</td>\n",
       "      <td>...</td>\n",
       "      <td>...</td>\n",
       "      <td>...</td>\n",
       "      <td>...</td>\n",
       "      <td>...</td>\n",
       "      <td>...</td>\n",
       "      <td>...</td>\n",
       "      <td>...</td>\n",
       "      <td>...</td>\n",
       "      <td>...</td>\n",
       "    </tr>\n",
       "    <tr>\n",
       "      <th>10958</th>\n",
       "      <td>ACCIDENT_50567</td>\n",
       "      <td>2022-12-31 18</td>\n",
       "      <td>토요일</td>\n",
       "      <td>맑음</td>\n",
       "      <td>단일로 - 터널</td>\n",
       "      <td>건조</td>\n",
       "      <td>차대차</td>\n",
       "      <td>2022</td>\n",
       "      <td>12</td>\n",
       "      <td>31</td>\n",
       "      <td>18</td>\n",
       "      <td>남구</td>\n",
       "      <td>대명동</td>\n",
       "      <td>5377.0</td>\n",
       "      <td>106.0</td>\n",
       "      <td>47.037037</td>\n",
       "      <td>대구광역시</td>\n",
       "      <td>20.0</td>\n",
       "      <td>1.0</td>\n",
       "      <td>0.0</td>\n",
       "    </tr>\n",
       "    <tr>\n",
       "      <th>10959</th>\n",
       "      <td>ACCIDENT_50568</td>\n",
       "      <td>2022-12-31 18</td>\n",
       "      <td>토요일</td>\n",
       "      <td>맑음</td>\n",
       "      <td>단일로 - 기타</td>\n",
       "      <td>건조</td>\n",
       "      <td>차대차</td>\n",
       "      <td>2022</td>\n",
       "      <td>12</td>\n",
       "      <td>31</td>\n",
       "      <td>18</td>\n",
       "      <td>수성구</td>\n",
       "      <td>시지동</td>\n",
       "      <td>NaN</td>\n",
       "      <td>NaN</td>\n",
       "      <td>52.500000</td>\n",
       "      <td>NaN</td>\n",
       "      <td>NaN</td>\n",
       "      <td>NaN</td>\n",
       "      <td>NaN</td>\n",
       "    </tr>\n",
       "    <tr>\n",
       "      <th>10960</th>\n",
       "      <td>ACCIDENT_50569</td>\n",
       "      <td>2022-12-31 20</td>\n",
       "      <td>토요일</td>\n",
       "      <td>맑음</td>\n",
       "      <td>단일로 - 기타</td>\n",
       "      <td>건조</td>\n",
       "      <td>차대차</td>\n",
       "      <td>2022</td>\n",
       "      <td>12</td>\n",
       "      <td>31</td>\n",
       "      <td>20</td>\n",
       "      <td>수성구</td>\n",
       "      <td>연호동</td>\n",
       "      <td>NaN</td>\n",
       "      <td>NaN</td>\n",
       "      <td>NaN</td>\n",
       "      <td>NaN</td>\n",
       "      <td>NaN</td>\n",
       "      <td>NaN</td>\n",
       "      <td>NaN</td>\n",
       "    </tr>\n",
       "    <tr>\n",
       "      <th>10961</th>\n",
       "      <td>ACCIDENT_50570</td>\n",
       "      <td>2022-12-31 20</td>\n",
       "      <td>토요일</td>\n",
       "      <td>맑음</td>\n",
       "      <td>교차로 - 교차로부근</td>\n",
       "      <td>건조</td>\n",
       "      <td>차대차</td>\n",
       "      <td>2022</td>\n",
       "      <td>12</td>\n",
       "      <td>31</td>\n",
       "      <td>20</td>\n",
       "      <td>수성구</td>\n",
       "      <td>범물동</td>\n",
       "      <td>NaN</td>\n",
       "      <td>NaN</td>\n",
       "      <td>44.285714</td>\n",
       "      <td>NaN</td>\n",
       "      <td>NaN</td>\n",
       "      <td>NaN</td>\n",
       "      <td>NaN</td>\n",
       "    </tr>\n",
       "    <tr>\n",
       "      <th>10962</th>\n",
       "      <td>ACCIDENT_50571</td>\n",
       "      <td>2022-12-31 21</td>\n",
       "      <td>토요일</td>\n",
       "      <td>맑음</td>\n",
       "      <td>교차로 - 교차로부근</td>\n",
       "      <td>건조</td>\n",
       "      <td>차대차</td>\n",
       "      <td>2022</td>\n",
       "      <td>12</td>\n",
       "      <td>31</td>\n",
       "      <td>21</td>\n",
       "      <td>동구</td>\n",
       "      <td>효목동</td>\n",
       "      <td>1164.0</td>\n",
       "      <td>NaN</td>\n",
       "      <td>42.500000</td>\n",
       "      <td>NaN</td>\n",
       "      <td>NaN</td>\n",
       "      <td>NaN</td>\n",
       "      <td>NaN</td>\n",
       "    </tr>\n",
       "  </tbody>\n",
       "</table>\n",
       "<p>10963 rows × 20 columns</p>\n",
       "</div>"
      ],
      "text/plain": [
       "                   ID           사고일시   요일 기상상태         도로형태 노면상태  사고유형     연  \\\n",
       "0      ACCIDENT_39609  2022-01-01 01  토요일   맑음   교차로 - 교차로안   건조  차대사람  2022   \n",
       "1      ACCIDENT_39610  2022-01-01 01  토요일   맑음     단일로 - 기타   건조  차대사람  2022   \n",
       "2      ACCIDENT_39611  2022-01-01 04  토요일   맑음   교차로 - 교차로안   건조   차대차  2022   \n",
       "3      ACCIDENT_39612  2022-01-01 04  토요일   맑음     단일로 - 기타   건조   차대차  2022   \n",
       "4      ACCIDENT_39613  2022-01-01 06  토요일   맑음   교차로 - 교차로안   건조   차대차  2022   \n",
       "...               ...            ...  ...  ...          ...  ...   ...   ...   \n",
       "10958  ACCIDENT_50567  2022-12-31 18  토요일   맑음     단일로 - 터널   건조   차대차  2022   \n",
       "10959  ACCIDENT_50568  2022-12-31 18  토요일   맑음     단일로 - 기타   건조   차대차  2022   \n",
       "10960  ACCIDENT_50569  2022-12-31 20  토요일   맑음     단일로 - 기타   건조   차대차  2022   \n",
       "10961  ACCIDENT_50570  2022-12-31 20  토요일   맑음  교차로 - 교차로부근   건조   차대차  2022   \n",
       "10962  ACCIDENT_50571  2022-12-31 21  토요일   맑음  교차로 - 교차로부근   건조   차대차  2022   \n",
       "\n",
       "        월   일  시간    구      동   보안등개수  CCTV설치대수       제한속도     도시  급지구분_1  \\\n",
       "0       1   1   1  수성구     상동   700.0       NaN  52.500000    NaN     NaN   \n",
       "1       1   1   1  수성구    지산동     NaN       NaN  47.142857  대구광역시     0.0   \n",
       "2       1   1   4  수성구  수성동2가     NaN       NaN  40.000000    NaN     NaN   \n",
       "3       1   1   4  수성구    신매동     NaN       NaN  42.727273  대구광역시     0.0   \n",
       "4       1   1   6  달서구    감삼동   941.0       NaN  52.500000  대구광역시     0.0   \n",
       "...    ..  ..  ..  ...    ...     ...       ...        ...    ...     ...   \n",
       "10958  12  31  18   남구    대명동  5377.0     106.0  47.037037  대구광역시    20.0   \n",
       "10959  12  31  18  수성구    시지동     NaN       NaN  52.500000    NaN     NaN   \n",
       "10960  12  31  20  수성구    연호동     NaN       NaN        NaN    NaN     NaN   \n",
       "10961  12  31  20  수성구    범물동     NaN       NaN  44.285714    NaN     NaN   \n",
       "10962  12  31  21   동구    효목동  1164.0       NaN  42.500000    NaN     NaN   \n",
       "\n",
       "       급지구분_2  급지구분_3  \n",
       "0         NaN     NaN  \n",
       "1         0.0     2.0  \n",
       "2         NaN     NaN  \n",
       "3         2.0     1.0  \n",
       "4         1.0     3.0  \n",
       "...       ...     ...  \n",
       "10958     1.0     0.0  \n",
       "10959     NaN     NaN  \n",
       "10960     NaN     NaN  \n",
       "10961     NaN     NaN  \n",
       "10962     NaN     NaN  \n",
       "\n",
       "[10963 rows x 20 columns]"
      ]
     },
     "execution_count": 41,
     "metadata": {},
     "output_type": "execute_result"
    }
   ],
   "source": [
    "te_df = pd.merge(test_df,dong_install,how='left',on='동')\n",
    "te_df = pd.merge(te_df ,cctv_count,how='left',on='동')\n",
    "te_df = pd.merge(te_df ,speed_cctv,how='left',on='동')\n",
    "te_df = pd.merge(te_df, parking_df,how='left',on=['구','동'])\n",
    "te_df"
   ]
  },
  {
   "cell_type": "code",
   "execution_count": 102,
   "metadata": {
    "ExecuteTime": {
     "end_time": "2023-12-06T18:02:20.788902Z",
     "start_time": "2023-12-06T18:02:20.691417Z"
    }
   },
   "outputs": [],
   "source": [
    "# 내 데이터 merge 하기\n",
    "# read_csv\n",
    "patho = '../data/daegu/'\n",
    "cross_walk = pd.read_csv(patho+'reverse_geocoding/cross_walk.csv',encoding='cp949')\n",
    "daegu_geo = pd.read_csv(patho+'reverse_geocoding/daegu_geo.csv',encoding='cp949')\n",
    "publictraffic = pd.read_csv(patho+'reverse_geocoding/동별_시간별_통행량.csv',encoding='utf-8')"
   ]
  },
  {
   "cell_type": "code",
   "execution_count": 103,
   "metadata": {
    "ExecuteTime": {
     "end_time": "2023-12-06T18:02:21.409878Z",
     "start_time": "2023-12-06T18:02:21.395455Z"
    }
   },
   "outputs": [
    {
     "data": {
      "text/html": [
       "<div>\n",
       "<style scoped>\n",
       "    .dataframe tbody tr th:only-of-type {\n",
       "        vertical-align: middle;\n",
       "    }\n",
       "\n",
       "    .dataframe tbody tr th {\n",
       "        vertical-align: top;\n",
       "    }\n",
       "\n",
       "    .dataframe thead th {\n",
       "        text-align: right;\n",
       "    }\n",
       "</style>\n",
       "<table border=\"1\" class=\"dataframe\">\n",
       "  <thead>\n",
       "    <tr style=\"text-align: right;\">\n",
       "      <th></th>\n",
       "      <th>동</th>\n",
       "      <th>시간</th>\n",
       "      <th>통행량</th>\n",
       "    </tr>\n",
       "  </thead>\n",
       "  <tbody>\n",
       "    <tr>\n",
       "      <th>0</th>\n",
       "      <td>가창면</td>\n",
       "      <td>0</td>\n",
       "      <td>1</td>\n",
       "    </tr>\n",
       "    <tr>\n",
       "      <th>1</th>\n",
       "      <td>가창면</td>\n",
       "      <td>1</td>\n",
       "      <td>0</td>\n",
       "    </tr>\n",
       "    <tr>\n",
       "      <th>2</th>\n",
       "      <td>가창면</td>\n",
       "      <td>2</td>\n",
       "      <td>0</td>\n",
       "    </tr>\n",
       "    <tr>\n",
       "      <th>3</th>\n",
       "      <td>가창면</td>\n",
       "      <td>3</td>\n",
       "      <td>0</td>\n",
       "    </tr>\n",
       "    <tr>\n",
       "      <th>4</th>\n",
       "      <td>가창면</td>\n",
       "      <td>4</td>\n",
       "      <td>0</td>\n",
       "    </tr>\n",
       "    <tr>\n",
       "      <th>...</th>\n",
       "      <td>...</td>\n",
       "      <td>...</td>\n",
       "      <td>...</td>\n",
       "    </tr>\n",
       "    <tr>\n",
       "      <th>4027</th>\n",
       "      <td>효목동</td>\n",
       "      <td>19</td>\n",
       "      <td>275421</td>\n",
       "    </tr>\n",
       "    <tr>\n",
       "      <th>4028</th>\n",
       "      <td>효목동</td>\n",
       "      <td>20</td>\n",
       "      <td>206502</td>\n",
       "    </tr>\n",
       "    <tr>\n",
       "      <th>4029</th>\n",
       "      <td>효목동</td>\n",
       "      <td>21</td>\n",
       "      <td>199679</td>\n",
       "    </tr>\n",
       "    <tr>\n",
       "      <th>4030</th>\n",
       "      <td>효목동</td>\n",
       "      <td>22</td>\n",
       "      <td>148972</td>\n",
       "    </tr>\n",
       "    <tr>\n",
       "      <th>4031</th>\n",
       "      <td>효목동</td>\n",
       "      <td>23</td>\n",
       "      <td>55779</td>\n",
       "    </tr>\n",
       "  </tbody>\n",
       "</table>\n",
       "<p>4032 rows × 3 columns</p>\n",
       "</div>"
      ],
      "text/plain": [
       "        동  시간     통행량\n",
       "0     가창면   0       1\n",
       "1     가창면   1       0\n",
       "2     가창면   2       0\n",
       "3     가창면   3       0\n",
       "4     가창면   4       0\n",
       "...   ...  ..     ...\n",
       "4027  효목동  19  275421\n",
       "4028  효목동  20  206502\n",
       "4029  효목동  21  199679\n",
       "4030  효목동  22  148972\n",
       "4031  효목동  23   55779\n",
       "\n",
       "[4032 rows x 3 columns]"
      ]
     },
     "execution_count": 103,
     "metadata": {},
     "output_type": "execute_result"
    }
   ],
   "source": [
    "publictraffic.groupby(['동','시간'])['통행량'].sum().reset_index()"
   ]
  },
  {
   "cell_type": "code",
   "execution_count": 104,
   "metadata": {
    "ExecuteTime": {
     "end_time": "2023-12-06T18:02:22.252846Z",
     "start_time": "2023-12-06T18:02:22.227332Z"
    }
   },
   "outputs": [
    {
     "data": {
      "text/html": [
       "<div>\n",
       "<style scoped>\n",
       "    .dataframe tbody tr th:only-of-type {\n",
       "        vertical-align: middle;\n",
       "    }\n",
       "\n",
       "    .dataframe tbody tr th {\n",
       "        vertical-align: top;\n",
       "    }\n",
       "\n",
       "    .dataframe thead th {\n",
       "        text-align: right;\n",
       "    }\n",
       "</style>\n",
       "<table border=\"1\" class=\"dataframe\">\n",
       "  <thead>\n",
       "    <tr style=\"text-align: right;\">\n",
       "      <th></th>\n",
       "      <th>동</th>\n",
       "      <th>시간</th>\n",
       "      <th>통행량</th>\n",
       "    </tr>\n",
       "  </thead>\n",
       "  <tbody>\n",
       "    <tr>\n",
       "      <th>0</th>\n",
       "      <td>가창면</td>\n",
       "      <td>0</td>\n",
       "      <td>1</td>\n",
       "    </tr>\n",
       "    <tr>\n",
       "      <th>1</th>\n",
       "      <td>가창면</td>\n",
       "      <td>1</td>\n",
       "      <td>0</td>\n",
       "    </tr>\n",
       "    <tr>\n",
       "      <th>2</th>\n",
       "      <td>가창면</td>\n",
       "      <td>2</td>\n",
       "      <td>0</td>\n",
       "    </tr>\n",
       "  </tbody>\n",
       "</table>\n",
       "</div>"
      ],
      "text/plain": [
       "     동  시간  통행량\n",
       "0  가창면   0    1\n",
       "1  가창면   1    0\n",
       "2  가창면   2    0"
      ]
     },
     "metadata": {},
     "output_type": "display_data"
    },
    {
     "data": {
      "text/html": [
       "<div>\n",
       "<style scoped>\n",
       "    .dataframe tbody tr th:only-of-type {\n",
       "        vertical-align: middle;\n",
       "    }\n",
       "\n",
       "    .dataframe tbody tr th {\n",
       "        vertical-align: top;\n",
       "    }\n",
       "\n",
       "    .dataframe thead th {\n",
       "        text-align: right;\n",
       "    }\n",
       "</style>\n",
       "<table border=\"1\" class=\"dataframe\">\n",
       "  <thead>\n",
       "    <tr style=\"text-align: right;\">\n",
       "      <th></th>\n",
       "      <th>동</th>\n",
       "      <th>횡단보도개수</th>\n",
       "    </tr>\n",
       "  </thead>\n",
       "  <tbody>\n",
       "    <tr>\n",
       "      <th>0</th>\n",
       "      <td>가창면</td>\n",
       "      <td>11664</td>\n",
       "    </tr>\n",
       "    <tr>\n",
       "      <th>1</th>\n",
       "      <td>가천동</td>\n",
       "      <td>400</td>\n",
       "    </tr>\n",
       "    <tr>\n",
       "      <th>2</th>\n",
       "      <td>각산동</td>\n",
       "      <td>45369</td>\n",
       "    </tr>\n",
       "  </tbody>\n",
       "</table>\n",
       "</div>"
      ],
      "text/plain": [
       "     동  횡단보도개수\n",
       "0  가창면   11664\n",
       "1  가천동     400\n",
       "2  각산동   45369"
      ]
     },
     "metadata": {},
     "output_type": "display_data"
    },
    {
     "name": "stdout",
     "output_type": "stream",
     "text": [
      "(4032, 3) (195, 2)\n"
     ]
    }
   ],
   "source": [
    "publictraffic_per_dong_hour = publictraffic.groupby(['동','시간'])['통행량'].sum().reset_index()\n",
    "display(publictraffic_per_dong_hour.head(3))\n",
    "cross_walk_per_dong = cross_walk[['동','횡단보도개수']]\n",
    "cross_walk_per_dong = pd.DataFrame(cross_walk_per_dong.groupby('동')['횡단보도개수'].sum()).reset_index()\n",
    "display(cross_walk_per_dong.head(3))\n",
    "\n",
    "print(publictraffic_per_dong_hour.shape, cross_walk_per_dong.shape)"
   ]
  },
  {
   "cell_type": "code",
   "execution_count": 105,
   "metadata": {
    "ExecuteTime": {
     "end_time": "2023-12-06T18:02:23.392822Z",
     "start_time": "2023-12-06T18:02:23.363017Z"
    }
   },
   "outputs": [],
   "source": [
    "temp_tr = tr_df.copy()\n",
    "temp_te = te_df.copy()"
   ]
  },
  {
   "cell_type": "code",
   "execution_count": 106,
   "metadata": {
    "ExecuteTime": {
     "end_time": "2023-12-06T18:02:24.208760Z",
     "start_time": "2023-12-06T18:02:24.137910Z"
    }
   },
   "outputs": [
    {
     "data": {
      "text/html": [
       "<div>\n",
       "<style scoped>\n",
       "    .dataframe tbody tr th:only-of-type {\n",
       "        vertical-align: middle;\n",
       "    }\n",
       "\n",
       "    .dataframe tbody tr th {\n",
       "        vertical-align: top;\n",
       "    }\n",
       "\n",
       "    .dataframe thead th {\n",
       "        text-align: right;\n",
       "    }\n",
       "</style>\n",
       "<table border=\"1\" class=\"dataframe\">\n",
       "  <thead>\n",
       "    <tr style=\"text-align: right;\">\n",
       "      <th></th>\n",
       "      <th>ID</th>\n",
       "      <th>사고일시</th>\n",
       "      <th>요일</th>\n",
       "      <th>기상상태</th>\n",
       "      <th>도로형태</th>\n",
       "      <th>노면상태</th>\n",
       "      <th>사고유형</th>\n",
       "      <th>사고유형 - 세부분류</th>\n",
       "      <th>법규위반</th>\n",
       "      <th>가해운전자 차종</th>\n",
       "      <th>가해운전자 성별</th>\n",
       "      <th>가해운전자 연령</th>\n",
       "      <th>가해운전자 상해정도</th>\n",
       "      <th>피해운전자 차종</th>\n",
       "      <th>피해운전자 성별</th>\n",
       "      <th>피해운전자 연령</th>\n",
       "      <th>피해운전자 상해정도</th>\n",
       "      <th>사망자수</th>\n",
       "      <th>중상자수</th>\n",
       "      <th>경상자수</th>\n",
       "      <th>부상자수</th>\n",
       "      <th>ECLO</th>\n",
       "      <th>연</th>\n",
       "      <th>월</th>\n",
       "      <th>일</th>\n",
       "      <th>시간</th>\n",
       "      <th>구</th>\n",
       "      <th>동</th>\n",
       "      <th>보안등개수</th>\n",
       "      <th>CCTV설치대수</th>\n",
       "      <th>제한속도</th>\n",
       "      <th>급지구분_1</th>\n",
       "      <th>급지구분_2</th>\n",
       "      <th>급지구분_3</th>\n",
       "      <th>횡단보도개수</th>\n",
       "      <th>통행량</th>\n",
       "    </tr>\n",
       "  </thead>\n",
       "  <tbody>\n",
       "    <tr>\n",
       "      <th>0</th>\n",
       "      <td>ACCIDENT_00000</td>\n",
       "      <td>2019-01-01 00</td>\n",
       "      <td>화요일</td>\n",
       "      <td>맑음</td>\n",
       "      <td>단일로 - 기타</td>\n",
       "      <td>건조</td>\n",
       "      <td>차대사람</td>\n",
       "      <td>길가장자리구역통행중</td>\n",
       "      <td>안전운전불이행</td>\n",
       "      <td>승용</td>\n",
       "      <td>여</td>\n",
       "      <td>51세</td>\n",
       "      <td>상해없음</td>\n",
       "      <td>보행자</td>\n",
       "      <td>여</td>\n",
       "      <td>70세</td>\n",
       "      <td>중상</td>\n",
       "      <td>0</td>\n",
       "      <td>1</td>\n",
       "      <td>0</td>\n",
       "      <td>0</td>\n",
       "      <td>5</td>\n",
       "      <td>2019</td>\n",
       "      <td>1</td>\n",
       "      <td>1</td>\n",
       "      <td>0</td>\n",
       "      <td>중구</td>\n",
       "      <td>대신동</td>\n",
       "      <td>391.0</td>\n",
       "      <td>13.0</td>\n",
       "      <td>40.0</td>\n",
       "      <td>11.0</td>\n",
       "      <td>0.0</td>\n",
       "      <td>0.0</td>\n",
       "      <td>5929.0</td>\n",
       "      <td>40.0</td>\n",
       "    </tr>\n",
       "    <tr>\n",
       "      <th>1</th>\n",
       "      <td>ACCIDENT_00001</td>\n",
       "      <td>2019-01-01 00</td>\n",
       "      <td>화요일</td>\n",
       "      <td>흐림</td>\n",
       "      <td>단일로 - 기타</td>\n",
       "      <td>건조</td>\n",
       "      <td>차대사람</td>\n",
       "      <td>보도통행중</td>\n",
       "      <td>기타</td>\n",
       "      <td>승용</td>\n",
       "      <td>남</td>\n",
       "      <td>39세</td>\n",
       "      <td>상해없음</td>\n",
       "      <td>보행자</td>\n",
       "      <td>남</td>\n",
       "      <td>61세</td>\n",
       "      <td>경상</td>\n",
       "      <td>0</td>\n",
       "      <td>0</td>\n",
       "      <td>1</td>\n",
       "      <td>0</td>\n",
       "      <td>3</td>\n",
       "      <td>2019</td>\n",
       "      <td>1</td>\n",
       "      <td>1</td>\n",
       "      <td>0</td>\n",
       "      <td>달서구</td>\n",
       "      <td>감삼동</td>\n",
       "      <td>941.0</td>\n",
       "      <td>NaN</td>\n",
       "      <td>52.5</td>\n",
       "      <td>0.0</td>\n",
       "      <td>1.0</td>\n",
       "      <td>3.0</td>\n",
       "      <td>10000.0</td>\n",
       "      <td>214.0</td>\n",
       "    </tr>\n",
       "    <tr>\n",
       "      <th>2</th>\n",
       "      <td>ACCIDENT_00002</td>\n",
       "      <td>2019-01-01 01</td>\n",
       "      <td>화요일</td>\n",
       "      <td>맑음</td>\n",
       "      <td>단일로 - 기타</td>\n",
       "      <td>건조</td>\n",
       "      <td>차대사람</td>\n",
       "      <td>차도통행중</td>\n",
       "      <td>안전운전불이행</td>\n",
       "      <td>승용</td>\n",
       "      <td>남</td>\n",
       "      <td>70세</td>\n",
       "      <td>상해없음</td>\n",
       "      <td>보행자</td>\n",
       "      <td>남</td>\n",
       "      <td>38세</td>\n",
       "      <td>경상</td>\n",
       "      <td>0</td>\n",
       "      <td>0</td>\n",
       "      <td>1</td>\n",
       "      <td>0</td>\n",
       "      <td>3</td>\n",
       "      <td>2019</td>\n",
       "      <td>1</td>\n",
       "      <td>1</td>\n",
       "      <td>1</td>\n",
       "      <td>수성구</td>\n",
       "      <td>두산동</td>\n",
       "      <td>473.0</td>\n",
       "      <td>NaN</td>\n",
       "      <td>55.0</td>\n",
       "      <td>NaN</td>\n",
       "      <td>NaN</td>\n",
       "      <td>NaN</td>\n",
       "      <td>14641.0</td>\n",
       "      <td>84.0</td>\n",
       "    </tr>\n",
       "  </tbody>\n",
       "</table>\n",
       "</div>"
      ],
      "text/plain": [
       "               ID           사고일시   요일 기상상태      도로형태 노면상태  사고유형 사고유형 - 세부분류  \\\n",
       "0  ACCIDENT_00000  2019-01-01 00  화요일   맑음  단일로 - 기타   건조  차대사람  길가장자리구역통행중   \n",
       "1  ACCIDENT_00001  2019-01-01 00  화요일   흐림  단일로 - 기타   건조  차대사람       보도통행중   \n",
       "2  ACCIDENT_00002  2019-01-01 01  화요일   맑음  단일로 - 기타   건조  차대사람       차도통행중   \n",
       "\n",
       "      법규위반 가해운전자 차종 가해운전자 성별 가해운전자 연령 가해운전자 상해정도 피해운전자 차종 피해운전자 성별 피해운전자 연령  \\\n",
       "0  안전운전불이행       승용        여      51세       상해없음      보행자        여      70세   \n",
       "1       기타       승용        남      39세       상해없음      보행자        남      61세   \n",
       "2  안전운전불이행       승용        남      70세       상해없음      보행자        남      38세   \n",
       "\n",
       "  피해운전자 상해정도  사망자수  중상자수  경상자수  부상자수  ECLO     연  월  일  시간    구    동  보안등개수  \\\n",
       "0         중상     0     1     0     0     5  2019  1  1   0   중구  대신동  391.0   \n",
       "1         경상     0     0     1     0     3  2019  1  1   0  달서구  감삼동  941.0   \n",
       "2         경상     0     0     1     0     3  2019  1  1   1  수성구  두산동  473.0   \n",
       "\n",
       "   CCTV설치대수  제한속도  급지구분_1  급지구분_2  급지구분_3   횡단보도개수    통행량  \n",
       "0      13.0  40.0    11.0     0.0     0.0   5929.0   40.0  \n",
       "1       NaN  52.5     0.0     1.0     3.0  10000.0  214.0  \n",
       "2       NaN  55.0     NaN     NaN     NaN  14641.0   84.0  "
      ]
     },
     "metadata": {},
     "output_type": "display_data"
    },
    {
     "data": {
      "text/html": [
       "<div>\n",
       "<style scoped>\n",
       "    .dataframe tbody tr th:only-of-type {\n",
       "        vertical-align: middle;\n",
       "    }\n",
       "\n",
       "    .dataframe tbody tr th {\n",
       "        vertical-align: top;\n",
       "    }\n",
       "\n",
       "    .dataframe thead th {\n",
       "        text-align: right;\n",
       "    }\n",
       "</style>\n",
       "<table border=\"1\" class=\"dataframe\">\n",
       "  <thead>\n",
       "    <tr style=\"text-align: right;\">\n",
       "      <th></th>\n",
       "      <th>ID</th>\n",
       "      <th>사고일시</th>\n",
       "      <th>요일</th>\n",
       "      <th>기상상태</th>\n",
       "      <th>도로형태</th>\n",
       "      <th>노면상태</th>\n",
       "      <th>사고유형</th>\n",
       "      <th>연</th>\n",
       "      <th>월</th>\n",
       "      <th>일</th>\n",
       "      <th>시간</th>\n",
       "      <th>구</th>\n",
       "      <th>동</th>\n",
       "      <th>보안등개수</th>\n",
       "      <th>CCTV설치대수</th>\n",
       "      <th>제한속도</th>\n",
       "      <th>도시</th>\n",
       "      <th>급지구분_1</th>\n",
       "      <th>급지구분_2</th>\n",
       "      <th>급지구분_3</th>\n",
       "      <th>횡단보도개수</th>\n",
       "      <th>통행량</th>\n",
       "    </tr>\n",
       "  </thead>\n",
       "  <tbody>\n",
       "    <tr>\n",
       "      <th>0</th>\n",
       "      <td>ACCIDENT_39609</td>\n",
       "      <td>2022-01-01 01</td>\n",
       "      <td>토요일</td>\n",
       "      <td>맑음</td>\n",
       "      <td>교차로 - 교차로안</td>\n",
       "      <td>건조</td>\n",
       "      <td>차대사람</td>\n",
       "      <td>2022</td>\n",
       "      <td>1</td>\n",
       "      <td>1</td>\n",
       "      <td>1</td>\n",
       "      <td>수성구</td>\n",
       "      <td>상동</td>\n",
       "      <td>700.0</td>\n",
       "      <td>NaN</td>\n",
       "      <td>52.500000</td>\n",
       "      <td>NaN</td>\n",
       "      <td>NaN</td>\n",
       "      <td>NaN</td>\n",
       "      <td>NaN</td>\n",
       "      <td>9025.0</td>\n",
       "      <td>2.0</td>\n",
       "    </tr>\n",
       "    <tr>\n",
       "      <th>1</th>\n",
       "      <td>ACCIDENT_39610</td>\n",
       "      <td>2022-01-01 01</td>\n",
       "      <td>토요일</td>\n",
       "      <td>맑음</td>\n",
       "      <td>단일로 - 기타</td>\n",
       "      <td>건조</td>\n",
       "      <td>차대사람</td>\n",
       "      <td>2022</td>\n",
       "      <td>1</td>\n",
       "      <td>1</td>\n",
       "      <td>1</td>\n",
       "      <td>수성구</td>\n",
       "      <td>지산동</td>\n",
       "      <td>NaN</td>\n",
       "      <td>NaN</td>\n",
       "      <td>47.142857</td>\n",
       "      <td>대구광역시</td>\n",
       "      <td>0.0</td>\n",
       "      <td>0.0</td>\n",
       "      <td>2.0</td>\n",
       "      <td>52441.0</td>\n",
       "      <td>38.0</td>\n",
       "    </tr>\n",
       "    <tr>\n",
       "      <th>2</th>\n",
       "      <td>ACCIDENT_39611</td>\n",
       "      <td>2022-01-01 04</td>\n",
       "      <td>토요일</td>\n",
       "      <td>맑음</td>\n",
       "      <td>교차로 - 교차로안</td>\n",
       "      <td>건조</td>\n",
       "      <td>차대차</td>\n",
       "      <td>2022</td>\n",
       "      <td>1</td>\n",
       "      <td>1</td>\n",
       "      <td>4</td>\n",
       "      <td>수성구</td>\n",
       "      <td>수성동2가</td>\n",
       "      <td>NaN</td>\n",
       "      <td>NaN</td>\n",
       "      <td>40.000000</td>\n",
       "      <td>NaN</td>\n",
       "      <td>NaN</td>\n",
       "      <td>NaN</td>\n",
       "      <td>NaN</td>\n",
       "      <td>1764.0</td>\n",
       "      <td>1.0</td>\n",
       "    </tr>\n",
       "  </tbody>\n",
       "</table>\n",
       "</div>"
      ],
      "text/plain": [
       "               ID           사고일시   요일 기상상태        도로형태 노면상태  사고유형     연  월  일  \\\n",
       "0  ACCIDENT_39609  2022-01-01 01  토요일   맑음  교차로 - 교차로안   건조  차대사람  2022  1  1   \n",
       "1  ACCIDENT_39610  2022-01-01 01  토요일   맑음    단일로 - 기타   건조  차대사람  2022  1  1   \n",
       "2  ACCIDENT_39611  2022-01-01 04  토요일   맑음  교차로 - 교차로안   건조   차대차  2022  1  1   \n",
       "\n",
       "   시간    구      동  보안등개수  CCTV설치대수       제한속도     도시  급지구분_1  급지구분_2  급지구분_3  \\\n",
       "0   1  수성구     상동  700.0       NaN  52.500000    NaN     NaN     NaN     NaN   \n",
       "1   1  수성구    지산동    NaN       NaN  47.142857  대구광역시     0.0     0.0     2.0   \n",
       "2   4  수성구  수성동2가    NaN       NaN  40.000000    NaN     NaN     NaN     NaN   \n",
       "\n",
       "    횡단보도개수   통행량  \n",
       "0   9025.0   2.0  \n",
       "1  52441.0  38.0  \n",
       "2   1764.0   1.0  "
      ]
     },
     "metadata": {},
     "output_type": "display_data"
    },
    {
     "name": "stdout",
     "output_type": "stream",
     "text": [
      "(39609, 36) (10963, 22)\n"
     ]
    }
   ],
   "source": [
    "# merge\n",
    "temp_tr = pd.merge(temp_tr, cross_walk_per_dong,how='left',on='동')\n",
    "temp_tr = pd.merge(temp_tr, publictraffic_per_dong_hour,how='left',on=['동','시간'])\n",
    "display(temp_tr.head(3))\n",
    "\n",
    "temp_te = pd.merge(temp_te ,cross_walk_per_dong,how='left',on='동')\n",
    "temp_te = pd.merge(temp_te ,publictraffic_per_dong_hour,how='left',on=['동','시간'])\n",
    "display(temp_te.head(3))\n",
    "\n",
    "print(temp_tr.shape, temp_te.shape)"
   ]
  },
  {
   "cell_type": "code",
   "execution_count": 107,
   "metadata": {
    "ExecuteTime": {
     "end_time": "2023-12-06T18:02:30.757843Z",
     "start_time": "2023-12-06T18:02:30.696266Z"
    }
   },
   "outputs": [
    {
     "name": "stdout",
     "output_type": "stream",
     "text": [
      "?1\n",
      "?2\n",
      "?3\n",
      "?4\n",
      "?5\n",
      "?6\n",
      "?1\n",
      "?2\n",
      "?3\n",
      "?4\n",
      "?5\n",
      "?6\n"
     ]
    }
   ],
   "source": [
    "##################################### 🔻피처 추가\n",
    "import holidays\n",
    "def make_holi(x):\n",
    "    kr_holi = holidays.KR()\n",
    "    if x in kr_holi:\n",
    "        # 공휴일vs비공휴일 eclo가 큰 차이를 보이지 않기 때문에 0.5만\n",
    "        return 0.5\n",
    "    else:\n",
    "        return 0\n",
    "\n",
    "for df in [temp_tr,temp_te]:\n",
    "    print('?1')\n",
    "    # 제주감귤 공휴일 추출 코드 참고\n",
    "    # 공휴일 변수 추가\n",
    "#     df[\"공휴일\"] = df[\"사고일시\"].map(lambda x : make_holi(x))\n",
    "    print('?2')\n",
    "    # 주말 컬럼 추가\n",
    "    # 주말vs평일 eclo가 큰 차이를 보이지 않기 때문에 0.5만\n",
    "    df['주말'] = df['요일'].map(lambda x:0.5 if x in ['토요일','일요일'] else 0)\n",
    "    print('?3')\n",
    "    # 연평균 eclo의 감소 추세 반영\n",
    "    # 일단 대충 넣어두기\n",
    "    years = dict(zip([2019,2020,2021,2022,2023],[4.8,4.7,4.6,4.5,4.4]))\n",
    "    df['연평균추세']=df['연'].map(lambda x:years.get(x))\n",
    "    print('?4')\n",
    "    # 시야감소 컬럼 추가 (시간이 20시~04시 사이인 경우)\n",
    "    # 이 시간대와 이 시간대 외의 eclo가 0.5~1.4 차이가 나므로 1값을 준다.\n",
    "    df['시야지수'] = df['시간'].map(lambda x:1 if (x>=20)|(x<=4) else 0)\n",
    "    print('?5')\n",
    "    # 주차장 급지구분 일단 주차장 지수로 계산해서 컬럼 수를 줄임\n",
    "    # 주차장지수 = (1급지 * 4) + (2급지 * 2) + (3급지 * 1)\n",
    "    df[['급지구분_1','급지구분_2','급지구분_3']] = df[['급지구분_1','급지구분_2','급지구분_3']].fillna(0)\n",
    "    df['주차장지수'] = df['급지구분_1']*4 + df['급지구분_2']*2 + df['급지구분_3']\n",
    "    print('?6')\n",
    "\n"
   ]
  },
  {
   "cell_type": "code",
   "execution_count": 108,
   "metadata": {
    "ExecuteTime": {
     "end_time": "2023-12-06T18:02:33.316912Z",
     "start_time": "2023-12-06T18:02:33.299207Z"
    }
   },
   "outputs": [],
   "source": [
    "tr_df = temp_tr\n",
    "te_df = temp_te"
   ]
  },
  {
   "cell_type": "code",
   "execution_count": null,
   "metadata": {
    "ExecuteTime": {
     "start_time": "2023-12-06T12:31:59.676Z"
    }
   },
   "outputs": [],
   "source": [
    "멈춰"
   ]
  },
  {
   "cell_type": "code",
   "execution_count": 115,
   "metadata": {
    "ExecuteTime": {
     "end_time": "2023-12-06T18:04:47.161862Z",
     "start_time": "2023-12-06T18:04:47.140253Z"
    }
   },
   "outputs": [
    {
     "data": {
      "text/html": [
       "<div>\n",
       "<style scoped>\n",
       "    .dataframe tbody tr th:only-of-type {\n",
       "        vertical-align: middle;\n",
       "    }\n",
       "\n",
       "    .dataframe tbody tr th {\n",
       "        vertical-align: top;\n",
       "    }\n",
       "\n",
       "    .dataframe thead th {\n",
       "        text-align: right;\n",
       "    }\n",
       "</style>\n",
       "<table border=\"1\" class=\"dataframe\">\n",
       "  <thead>\n",
       "    <tr style=\"text-align: right;\">\n",
       "      <th></th>\n",
       "      <th>동</th>\n",
       "      <th>횡단보도개수</th>\n",
       "    </tr>\n",
       "  </thead>\n",
       "  <tbody>\n",
       "    <tr>\n",
       "      <th>0</th>\n",
       "      <td>가창면</td>\n",
       "      <td>11664</td>\n",
       "    </tr>\n",
       "    <tr>\n",
       "      <th>1</th>\n",
       "      <td>가천동</td>\n",
       "      <td>400</td>\n",
       "    </tr>\n",
       "    <tr>\n",
       "      <th>2</th>\n",
       "      <td>각산동</td>\n",
       "      <td>45369</td>\n",
       "    </tr>\n",
       "    <tr>\n",
       "      <th>3</th>\n",
       "      <td>갈산동</td>\n",
       "      <td>6084</td>\n",
       "    </tr>\n",
       "    <tr>\n",
       "      <th>4</th>\n",
       "      <td>감삼동</td>\n",
       "      <td>10000</td>\n",
       "    </tr>\n",
       "    <tr>\n",
       "      <th>...</th>\n",
       "      <td>...</td>\n",
       "      <td>...</td>\n",
       "    </tr>\n",
       "    <tr>\n",
       "      <th>190</th>\n",
       "      <td>호산동</td>\n",
       "      <td>57600</td>\n",
       "    </tr>\n",
       "    <tr>\n",
       "      <th>191</th>\n",
       "      <td>화원읍</td>\n",
       "      <td>104976</td>\n",
       "    </tr>\n",
       "    <tr>\n",
       "      <th>192</th>\n",
       "      <td>화전동</td>\n",
       "      <td>1</td>\n",
       "    </tr>\n",
       "    <tr>\n",
       "      <th>193</th>\n",
       "      <td>황금동</td>\n",
       "      <td>8100</td>\n",
       "    </tr>\n",
       "    <tr>\n",
       "      <th>194</th>\n",
       "      <td>효목동</td>\n",
       "      <td>33856</td>\n",
       "    </tr>\n",
       "  </tbody>\n",
       "</table>\n",
       "<p>195 rows × 2 columns</p>\n",
       "</div>"
      ],
      "text/plain": [
       "       동  횡단보도개수\n",
       "0    가창면   11664\n",
       "1    가천동     400\n",
       "2    각산동   45369\n",
       "3    갈산동    6084\n",
       "4    감삼동   10000\n",
       "..   ...     ...\n",
       "190  호산동   57600\n",
       "191  화원읍  104976\n",
       "192  화전동       1\n",
       "193  황금동    8100\n",
       "194  효목동   33856\n",
       "\n",
       "[195 rows x 2 columns]"
      ]
     },
     "execution_count": 115,
     "metadata": {},
     "output_type": "execute_result"
    }
   ],
   "source": [
    "cross_walk_per_dong.to_csv(path+'동별_횡단보도개수.csv',index=False)\n",
    "pd.read_csv(path+'동별_횡단보도개수.csv')"
   ]
  },
  {
   "cell_type": "markdown",
   "metadata": {
    "id": "urtM9BxY_5Ep"
   },
   "source": [
    "# null 값 처리하기"
   ]
  },
  {
   "cell_type": "code",
   "execution_count": 109,
   "metadata": {
    "ExecuteTime": {
     "end_time": "2023-12-06T18:02:36.138107Z",
     "start_time": "2023-12-06T18:02:36.126027Z"
    }
   },
   "outputs": [
    {
     "data": {
      "text/plain": [
       "(Index(['ID', '사고일시', '요일', '기상상태', '도로형태', '노면상태', '사고유형', '사고유형 - 세부분류',\n",
       "        '법규위반', '가해운전자 차종', '가해운전자 성별', '가해운전자 연령', '가해운전자 상해정도', '피해운전자 차종',\n",
       "        '피해운전자 성별', '피해운전자 연령', '피해운전자 상해정도', '사망자수', '중상자수', '경상자수', '부상자수',\n",
       "        'ECLO', '연', '월', '일', '시간', '구', '동', '보안등개수', 'CCTV설치대수', '제한속도',\n",
       "        '급지구분_1', '급지구분_2', '급지구분_3', '횡단보도개수', '통행량', '주말', '연평균추세', '시야지수',\n",
       "        '주차장지수'],\n",
       "       dtype='object'),\n",
       " Index(['ID', '사고일시', '요일', '기상상태', '도로형태', '노면상태', '사고유형', '연', '월', '일', '시간',\n",
       "        '구', '동', '보안등개수', 'CCTV설치대수', '제한속도', '도시', '급지구분_1', '급지구분_2',\n",
       "        '급지구분_3', '횡단보도개수', '통행량', '주말', '연평균추세', '시야지수', '주차장지수'],\n",
       "       dtype='object'))"
      ]
     },
     "execution_count": 109,
     "metadata": {},
     "output_type": "execute_result"
    }
   ],
   "source": [
    "tr_df.columns, te_df.columns"
   ]
  },
  {
   "cell_type": "markdown",
   "metadata": {
    "id": "lOp9TFFw_5Ep"
   },
   "source": [
    "#### Columns\n",
    "##### Time feature\n",
    "    - 사고일시 : year / month(season / quarter / half) / day(월초 / 월말) / hour(morning) / weekday(주말여부)\n",
    "    \n",
    "##### Numeric feature\n",
    "    - 가해운전자 연령 / 피해운전자 연령 / 사망자수 / 중상자수 / 경상자수 / 부상자수\n",
    "    \n",
    "##### Categorical feature - high cardinality"
   ]
  },
  {
   "cell_type": "markdown",
   "metadata": {
    "id": "9LxN_fUn_5Ep"
   },
   "source": [
    "## train"
   ]
  },
  {
   "cell_type": "code",
   "execution_count": null,
   "metadata": {
    "ExecuteTime": {
     "start_time": "2023-12-06T12:31:59.744Z"
    },
    "colab": {
     "base_uri": "https://localhost:8080/"
    },
    "executionInfo": {
     "elapsed": 424,
     "status": "ok",
     "timestamp": 1701200397176,
     "user": {
      "displayName": "서은서",
      "userId": "08795597860961939533"
     },
     "user_tz": -540
    },
    "id": "QLuhu6to_5Ep",
    "outputId": "701da4c3-393a-408d-89b8-15fed15c2a92"
   },
   "outputs": [],
   "source": [
    "tr_df.info()"
   ]
  },
  {
   "cell_type": "code",
   "execution_count": 110,
   "metadata": {
    "ExecuteTime": {
     "end_time": "2023-12-06T18:02:39.229316Z",
     "start_time": "2023-12-06T18:02:39.191959Z"
    },
    "colab": {
     "base_uri": "https://localhost:8080/"
    },
    "executionInfo": {
     "elapsed": 423,
     "status": "ok",
     "timestamp": 1701200397176,
     "user": {
      "displayName": "서은서",
      "userId": "08795597860961939533"
     },
     "user_tz": -540
    },
    "id": "fsEY-iol_5Ep",
    "outputId": "e2ab9a18-a5cc-42b5-a833-f01ebbc7c00e"
   },
   "outputs": [
    {
     "data": {
      "text/plain": [
       "ID                 0\n",
       "사고일시               0\n",
       "요일                 0\n",
       "기상상태               0\n",
       "도로형태               0\n",
       "노면상태               0\n",
       "사고유형               0\n",
       "사고유형 - 세부분류        0\n",
       "법규위반               0\n",
       "가해운전자 차종           0\n",
       "가해운전자 성별           0\n",
       "가해운전자 연령           0\n",
       "가해운전자 상해정도         0\n",
       "피해운전자 차종         991\n",
       "피해운전자 성별         991\n",
       "피해운전자 연령         991\n",
       "피해운전자 상해정도       991\n",
       "사망자수               0\n",
       "중상자수               0\n",
       "경상자수               0\n",
       "부상자수               0\n",
       "ECLO               0\n",
       "연                  0\n",
       "월                  0\n",
       "일                  0\n",
       "시간                 0\n",
       "구                  0\n",
       "동                  0\n",
       "보안등개수          13740\n",
       "CCTV설치대수       30837\n",
       "제한속도            2442\n",
       "급지구분_1             0\n",
       "급지구분_2             0\n",
       "급지구분_3             0\n",
       "횡단보도개수            62\n",
       "통행량              300\n",
       "주말                 0\n",
       "연평균추세              0\n",
       "시야지수               0\n",
       "주차장지수              0\n",
       "dtype: int64"
      ]
     },
     "execution_count": 110,
     "metadata": {},
     "output_type": "execute_result"
    }
   ],
   "source": [
    "tr_df.isnull().sum()"
   ]
  },
  {
   "cell_type": "code",
   "execution_count": null,
   "metadata": {
    "ExecuteTime": {
     "start_time": "2023-12-06T12:31:59.749Z"
    },
    "executionInfo": {
     "elapsed": 15,
     "status": "ok",
     "timestamp": 1701200397176,
     "user": {
      "displayName": "서은서",
      "userId": "08795597860961939533"
     },
     "user_tz": -540
    },
    "id": "xSFyGzjF_5Ep"
   },
   "outputs": [],
   "source": [
    "#tr_df.drop(tr_df[tr_df['피해운전자 차종'].isnull() & tr_df['피해운전자 성별'].isnull() & tr_df['피해운전자 연령'].isnull() & tr_df['피해운전자 상해정도'].isnull() ].index,inplace=True)\n",
    "#tr_df"
   ]
  },
  {
   "cell_type": "code",
   "execution_count": null,
   "metadata": {
    "ExecuteTime": {
     "start_time": "2023-12-06T12:31:59.751Z"
    },
    "executionInfo": {
     "elapsed": 15,
     "status": "ok",
     "timestamp": 1701200397177,
     "user": {
      "displayName": "서은서",
      "userId": "08795597860961939533"
     },
     "user_tz": -540
    },
    "id": "nSBs6Mw2_5Ep"
   },
   "outputs": [],
   "source": [
    "#tr_df = tr_df.reset_index().iloc[:,1:]"
   ]
  },
  {
   "cell_type": "code",
   "execution_count": null,
   "metadata": {
    "ExecuteTime": {
     "start_time": "2023-12-06T12:31:59.753Z"
    },
    "executionInfo": {
     "elapsed": 15,
     "status": "ok",
     "timestamp": 1701200397177,
     "user": {
      "displayName": "서은서",
      "userId": "08795597860961939533"
     },
     "user_tz": -540
    },
    "id": "2GGU5Bdc_5Ep"
   },
   "outputs": [],
   "source": [
    "tr_df.rename(columns={'설치개수':'보안등 설치개수'},inplace=True)"
   ]
  },
  {
   "cell_type": "code",
   "execution_count": null,
   "metadata": {
    "ExecuteTime": {
     "start_time": "2023-12-06T12:31:59.756Z"
    },
    "colab": {
     "base_uri": "https://localhost:8080/"
    },
    "executionInfo": {
     "elapsed": 14,
     "status": "ok",
     "timestamp": 1701200397177,
     "user": {
      "displayName": "서은서",
      "userId": "08795597860961939533"
     },
     "user_tz": -540
    },
    "id": "Nf_mjcPi_5Ep",
    "outputId": "d9dc3ee7-c224-46cc-ee7a-3564e98294e5"
   },
   "outputs": [],
   "source": [
    "tr_df.isnull().sum().sort_values(ascending=False)"
   ]
  },
  {
   "cell_type": "code",
   "execution_count": null,
   "metadata": {
    "ExecuteTime": {
     "start_time": "2023-12-06T12:31:59.758Z"
    },
    "colab": {
     "base_uri": "https://localhost:8080/",
     "height": 143
    },
    "executionInfo": {
     "elapsed": 10,
     "status": "ok",
     "timestamp": 1701200397177,
     "user": {
      "displayName": "서은서",
      "userId": "08795597860961939533"
     },
     "user_tz": -540
    },
    "id": "0895PgpB_5Ep",
    "outputId": "c06f1944-18b3-4321-9649-d7a5ceb55710"
   },
   "outputs": [],
   "source": [
    "corr = tr_df[['CCTV설치대수','보안등 설치개수','제한속도']].corr(numeric_only=True)\n",
    "corr"
   ]
  },
  {
   "cell_type": "code",
   "execution_count": null,
   "metadata": {
    "ExecuteTime": {
     "start_time": "2023-12-06T12:31:59.760Z"
    },
    "colab": {
     "base_uri": "https://localhost:8080/",
     "height": 300
    },
    "executionInfo": {
     "elapsed": 8,
     "status": "ok",
     "timestamp": 1701200397177,
     "user": {
      "displayName": "서은서",
      "userId": "08795597860961939533"
     },
     "user_tz": -540
    },
    "id": "77FxD-wx_5Ep",
    "outputId": "f259d679-1ba1-4e09-e9c6-16b998c667a5"
   },
   "outputs": [],
   "source": [
    "tr_df[['CCTV설치대수','보안등 설치개수','제한속도']].describe()"
   ]
  },
  {
   "cell_type": "code",
   "execution_count": null,
   "metadata": {
    "ExecuteTime": {
     "start_time": "2023-12-06T12:31:59.762Z"
    },
    "executionInfo": {
     "elapsed": 7,
     "status": "ok",
     "timestamp": 1701200397177,
     "user": {
      "displayName": "서은서",
      "userId": "08795597860961939533"
     },
     "user_tz": -540
    },
    "id": "VqM4vPu0_5Eq"
   },
   "outputs": [],
   "source": [
    "tr_df['CCTV설치대수'] = tr_df['CCTV설치대수'].interpolate()\n",
    "tr_df['보안등 설치개수'] = tr_df['보안등 설치개수'].interpolate()\n",
    "tr_df['제한속도'] = tr_df['제한속도'].interpolate()\n",
    "tr_df['횡단보도개수'] = tr_df['횡단보도개수'].interpolate()\n",
    "tr_df['통행량'] = tr_df['통행량'].interpolate()"
   ]
  },
  {
   "cell_type": "code",
   "execution_count": null,
   "metadata": {
    "ExecuteTime": {
     "start_time": "2023-12-06T12:31:59.764Z"
    },
    "colab": {
     "base_uri": "https://localhost:8080/"
    },
    "executionInfo": {
     "elapsed": 336,
     "status": "ok",
     "timestamp": 1701200397506,
     "user": {
      "displayName": "서은서",
      "userId": "08795597860961939533"
     },
     "user_tz": -540
    },
    "id": "wycr7jHV_5Eq",
    "outputId": "559f407a-5cc3-4f07-fb56-baeb793af888"
   },
   "outputs": [],
   "source": [
    "# tr_df.isnull().sum().sort_values(ascending=False)"
   ]
  },
  {
   "cell_type": "code",
   "execution_count": null,
   "metadata": {
    "ExecuteTime": {
     "start_time": "2023-12-06T12:31:59.766Z"
    },
    "executionInfo": {
     "elapsed": 2,
     "status": "ok",
     "timestamp": 1701200397506,
     "user": {
      "displayName": "서은서",
      "userId": "08795597860961939533"
     },
     "user_tz": -540
    },
    "id": "NM-qvU3X_5Eq"
   },
   "outputs": [],
   "source": [
    "import matplotlib.pyplot as plt\n",
    "# warning 표시 무시\n",
    "import warnings\n",
    "warnings.filterwarnings('ignore')\n",
    "#!sudo apt-get install -y fonts-nanum\n",
    "#!sudo fc-cache -fv\n",
    "#!rm ~/.cache/matplotlib -rf\n",
    "# for Jupyter notebook # 한글폰트 설치\n",
    "import platform\n",
    "\n",
    "from matplotlib import font_manager, rc\n",
    "import matplotlib.pyplot as plt\n",
    "plt.rcParams['axes.unicode_minus']= False\n",
    "\n",
    "# if platform.system() == 'Darwin': # 맥os 사용자의 경우에\n",
    "#     rc('font', family = 'AppleGothic')\n",
    "\n",
    "# elif platform.system() == 'Windows': # 윈도우 사용자의 경우에\n",
    "#     path = 'c:/Windows/Fonts/malgun.ttf'\n",
    "#     font_name = font_manager.FontProperties(fname=path).get_name()\n",
    "#     rc('font', family=font_name)"
   ]
  },
  {
   "cell_type": "code",
   "execution_count": null,
   "metadata": {
    "ExecuteTime": {
     "start_time": "2023-12-06T12:31:59.768Z"
    },
    "colab": {
     "base_uri": "https://localhost:8080/",
     "height": 1000
    },
    "executionInfo": {
     "elapsed": 2301,
     "status": "ok",
     "timestamp": 1701200399805,
     "user": {
      "displayName": "서은서",
      "userId": "08795597860961939533"
     },
     "user_tz": -540
    },
    "id": "XJI4vZC8_5Eq",
    "outputId": "026acee6-a0c0-4a4c-a83e-aaf4847fd8c0"
   },
   "outputs": [],
   "source": [
    "# fig, axes = plt.subplots(4,3, figsize=(12,10))\n",
    "\n",
    "# x_order = tr_df['사고유형'].unique()\n",
    "\n",
    "# for (ax,k) in zip(axes.flatten(),tr_df['도로형태2'].unique()):\n",
    "#     sns.countplot(x='사고유형',data=tr_df[tr_df['도로형태2']==k],ax=ax,order=x_order)\n",
    "#     ax.set_title(f'도로 형태 : {k}')\n",
    "\n",
    "# plt.tight_layout()\n",
    "# plt.show()"
   ]
  },
  {
   "cell_type": "code",
   "execution_count": null,
   "metadata": {
    "ExecuteTime": {
     "start_time": "2023-12-06T12:31:59.770Z"
    },
    "colab": {
     "base_uri": "https://localhost:8080/"
    },
    "executionInfo": {
     "elapsed": 13,
     "status": "ok",
     "timestamp": 1701200399805,
     "user": {
      "displayName": "서은서",
      "userId": "08795597860961939533"
     },
     "user_tz": -540
    },
    "id": "xa3b_TQB_5Eq",
    "outputId": "c2e4f99e-15f2-4aa3-ace0-4c5e96ab44ed"
   },
   "outputs": [],
   "source": [
    "# tr_df[tr_df['피해운전자 상해정도'].isnull() & tr_df['피해운전자 연령'].isnull()  & tr_df['피해운전자 성별'].isnull()  & tr_df['피해운전자 차종'].isnull()]['사고유형'].value_counts()"
   ]
  },
  {
   "cell_type": "code",
   "execution_count": null,
   "metadata": {
    "ExecuteTime": {
     "start_time": "2023-12-06T12:31:59.773Z"
    },
    "executionInfo": {
     "elapsed": 9,
     "status": "ok",
     "timestamp": 1701200399806,
     "user": {
      "displayName": "서은서",
      "userId": "08795597860961939533"
     },
     "user_tz": -540
    },
    "id": "Xe5z-jNI_5Eq"
   },
   "outputs": [],
   "source": [
    "tr_df['피해운전자 상해정도'].fillna(tr_df['가해운전자 상해정도'],inplace=True)\n",
    "tr_df['피해운전자 연령'].fillna(tr_df['가해운전자 연령'],inplace=True)\n",
    "tr_df['피해운전자 성별'].fillna(tr_df['가해운전자 성별'],inplace=True)\n",
    "tr_df['피해운전자 차종'].fillna(tr_df['가해운전자 차종'],inplace=True)"
   ]
  },
  {
   "cell_type": "code",
   "execution_count": null,
   "metadata": {
    "ExecuteTime": {
     "start_time": "2023-12-06T12:31:59.775Z"
    },
    "colab": {
     "base_uri": "https://localhost:8080/"
    },
    "executionInfo": {
     "elapsed": 8,
     "status": "ok",
     "timestamp": 1701200399806,
     "user": {
      "displayName": "서은서",
      "userId": "08795597860961939533"
     },
     "user_tz": -540
    },
    "id": "D2YMUkH3_5Eq",
    "outputId": "af7da926-2faf-4b56-82aa-85505414c65c"
   },
   "outputs": [],
   "source": [
    "# tr_df.isnull().sum().sort_values()"
   ]
  },
  {
   "cell_type": "code",
   "execution_count": null,
   "metadata": {
    "ExecuteTime": {
     "start_time": "2023-12-06T12:31:59.778Z"
    },
    "colab": {
     "base_uri": "https://localhost:8080/"
    },
    "executionInfo": {
     "elapsed": 7,
     "status": "ok",
     "timestamp": 1701200399806,
     "user": {
      "displayName": "서은서",
      "userId": "08795597860961939533"
     },
     "user_tz": -540
    },
    "id": "akySphPi_5Eq",
    "outputId": "2d7a066d-0232-4144-8d87-ffef0be62132"
   },
   "outputs": [],
   "source": [
    "tr_df.shape"
   ]
  },
  {
   "cell_type": "markdown",
   "metadata": {
    "id": "xHpVI9rI_5Eq"
   },
   "source": [
    "### 시각화"
   ]
  },
  {
   "cell_type": "code",
   "execution_count": null,
   "metadata": {
    "ExecuteTime": {
     "start_time": "2023-12-06T12:31:59.835Z"
    },
    "colab": {
     "base_uri": "https://localhost:8080/"
    },
    "executionInfo": {
     "elapsed": 5,
     "status": "ok",
     "timestamp": 1701200399806,
     "user": {
      "displayName": "서은서",
      "userId": "08795597860961939533"
     },
     "user_tz": -540
    },
    "id": "IB6C-3ij_5Eq",
    "outputId": "b4ae9b8b-e366-4f14-8f07-67765fa30fb9"
   },
   "outputs": [],
   "source": [
    "# tr_df.columns"
   ]
  },
  {
   "cell_type": "code",
   "execution_count": null,
   "metadata": {
    "ExecuteTime": {
     "start_time": "2023-12-06T12:31:59.837Z"
    },
    "colab": {
     "base_uri": "https://localhost:8080/",
     "height": 407
    },
    "executionInfo": {
     "elapsed": 584,
     "status": "ok",
     "timestamp": 1701200400387,
     "user": {
      "displayName": "서은서",
      "userId": "08795597860961939533"
     },
     "user_tz": -540
    },
    "id": "ziUXG_ZX_5Eq",
    "outputId": "6c01f90a-3964-4108-e47a-78efd606a42c"
   },
   "outputs": [],
   "source": [
    "# # 요일에 따른 ECLO 변화\n",
    "# day_ECLO = tr_df.groupby('요일')['ECLO'].mean().sort_values()\n",
    "\n",
    "# plt.figure(figsize=(8,4))\n",
    "# plt.title(\"요일에 따른 ECLO 변화\")\n",
    "# pal = sns.color_palette(\"Blues_d\", len(day_ECLO))\n",
    "\n",
    "# sns.barplot(x=day_ECLO.index, y=day_ECLO.values, palette=pal)\n",
    "\n",
    "# plt.xlabel(\"WEEK\")\n",
    "# plt.ylabel(\"ECLO\")\n",
    "# plt.tight_layout()"
   ]
  },
  {
   "cell_type": "code",
   "execution_count": null,
   "metadata": {
    "ExecuteTime": {
     "start_time": "2023-12-06T12:31:59.839Z"
    },
    "colab": {
     "base_uri": "https://localhost:8080/",
     "height": 407
    },
    "executionInfo": {
     "elapsed": 941,
     "status": "ok",
     "timestamp": 1701200401322,
     "user": {
      "displayName": "서은서",
      "userId": "08795597860961939533"
     },
     "user_tz": -540
    },
    "id": "Qp91348N_5Eq",
    "outputId": "93317ce6-b412-49c8-d890-c7556ff27d3c"
   },
   "outputs": [],
   "source": [
    "# # 기상상태에 따른 ECLO 변화\n",
    "# day_ECLO = tr_df.groupby('기상상태')['ECLO'].mean().sort_values()\n",
    "\n",
    "# plt.figure(figsize=(8,4))\n",
    "# plt.title(\"기상상태에 따른 ECLO 변화\")\n",
    "# pal = sns.color_palette(\"Blues_d\", len(day_ECLO))\n",
    "\n",
    "# sns.barplot(x=day_ECLO.index, y=day_ECLO.values, palette=pal)\n",
    "\n",
    "# plt.xlabel(\"기상상태\")\n",
    "# plt.ylabel(\"ECLO\")\n",
    "# plt.tight_layout()"
   ]
  },
  {
   "cell_type": "code",
   "execution_count": null,
   "metadata": {
    "ExecuteTime": {
     "start_time": "2023-12-06T12:31:59.842Z"
    },
    "colab": {
     "base_uri": "https://localhost:8080/",
     "height": 407
    },
    "executionInfo": {
     "elapsed": 347,
     "status": "ok",
     "timestamp": 1701200401660,
     "user": {
      "displayName": "서은서",
      "userId": "08795597860961939533"
     },
     "user_tz": -540
    },
    "id": "L4e7tyBE_5Er",
    "outputId": "0cb8ff36-de1f-4777-9d08-57999732cea0"
   },
   "outputs": [],
   "source": [
    "# # 노면상태'에 따른 ECLO 변화\n",
    "# day_ECLO = tr_df.groupby('노면상태')['ECLO'].mean().sort_values()\n",
    "\n",
    "# plt.figure(figsize=(8,4))\n",
    "# plt.title(\"노면상태'에 따른 ECLO 변화\")\n",
    "# pal = sns.color_palette(\"Blues_d\", len(day_ECLO))\n",
    "\n",
    "# sns.barplot(x=day_ECLO.index, y=day_ECLO.values, palette=pal)\n",
    "\n",
    "# plt.xlabel(\"노면상태\")\n",
    "# plt.ylabel(\"ECLO\")\n",
    "# plt.tight_layout()"
   ]
  },
  {
   "cell_type": "code",
   "execution_count": null,
   "metadata": {
    "ExecuteTime": {
     "start_time": "2023-12-06T12:31:59.844Z"
    },
    "colab": {
     "base_uri": "https://localhost:8080/",
     "height": 311
    },
    "executionInfo": {
     "elapsed": 1172,
     "status": "ok",
     "timestamp": 1701200402830,
     "user": {
      "displayName": "서은서",
      "userId": "08795597860961939533"
     },
     "user_tz": -540
    },
    "id": "m8qAXQvp_5Er",
    "outputId": "c2587f28-cb6e-4cc5-8f2f-fd97cc39ff46"
   },
   "outputs": [],
   "source": [
    "# # 사고유형 - 세부분류에 따른 ECLO 변화\n",
    "# day_ECLO = tr_df.groupby('사고유형 - 세부분류')['ECLO'].mean().sort_values()\n",
    "\n",
    "# plt.figure(figsize=(18,4))\n",
    "# plt.title(\"사고유형 - 세부분류에 따른 ECLO 변화\")\n",
    "# pal = sns.color_palette(\"Blues_d\", len(day_ECLO))\n",
    "\n",
    "# sns.barplot(x=day_ECLO.index, y=day_ECLO.values, palette=pal)\n",
    "\n",
    "# plt.xlabel(\"사고유형 - 세부분류\")\n",
    "# plt.ylabel(\"ECLO\")\n",
    "# plt.tight_layout()"
   ]
  },
  {
   "cell_type": "code",
   "execution_count": null,
   "metadata": {
    "ExecuteTime": {
     "start_time": "2023-12-06T12:31:59.846Z"
    },
    "colab": {
     "base_uri": "https://localhost:8080/",
     "height": 410
    },
    "executionInfo": {
     "elapsed": 778,
     "status": "ok",
     "timestamp": 1701200403605,
     "user": {
      "displayName": "서은서",
      "userId": "08795597860961939533"
     },
     "user_tz": -540
    },
    "id": "JTGyVVAM_5Er",
    "outputId": "b9758423-7aee-406e-ec8f-77ed14dd8f90"
   },
   "outputs": [],
   "source": [
    "# Q1 = tr_df['ECLO'].quantile(0.25)\n",
    "# Q3 = tr_df['ECLO'].quantile(0.75)\n",
    "# IQR = Q3-Q1\n",
    "\n",
    "# upper_bound = Q3 + 1.5 * IQR\n",
    "\n",
    "\n",
    "\n",
    "# plt.figure(figsize=(6,4))\n",
    "# sns.boxplot(x='ECLO', data=tr_df)\n",
    "\n",
    "# plt.axvline(x=upper_bound, color='r', linestyle='--', label='Upper Bound')\n",
    "\n",
    "# plt.text(upper_bound+12, 0.5, f'Upper Bound: {upper_bound:.2f}', color='r', ha='center', va='bottom')\n",
    "\n",
    "# plt.legend()\n",
    "\n",
    "# plt.title(\"box plot of ECLO\")\n",
    "# plt.show()"
   ]
  },
  {
   "cell_type": "code",
   "execution_count": null,
   "metadata": {
    "ExecuteTime": {
     "start_time": "2023-12-06T12:31:59.848Z"
    },
    "executionInfo": {
     "elapsed": 5,
     "status": "ok",
     "timestamp": 1701200403605,
     "user": {
      "displayName": "서은서",
      "userId": "08795597860961939533"
     },
     "user_tz": -540
    },
    "id": "VWqGkZaz_5Er"
   },
   "outputs": [],
   "source": [
    "high_ECLO_df = tr_df[tr_df['ECLO'] > 10.5]\n",
    "no_high_ECLO_df = tr_df[tr_df['ECLO'] <= 10.5]"
   ]
  },
  {
   "cell_type": "code",
   "execution_count": null,
   "metadata": {
    "ExecuteTime": {
     "start_time": "2023-12-06T12:31:59.851Z"
    },
    "colab": {
     "base_uri": "https://localhost:8080/",
     "height": 407
    },
    "executionInfo": {
     "elapsed": 2591,
     "status": "ok",
     "timestamp": 1701200406191,
     "user": {
      "displayName": "서은서",
      "userId": "08795597860961939533"
     },
     "user_tz": -540
    },
    "id": "mSMcDkdx_5Er",
    "outputId": "b3a6a4fe-edb2-4e3e-dc6b-95a9a7132ce5"
   },
   "outputs": [],
   "source": [
    "# # ECLO 10.5 이상은 주말 발생 비율이 높다, 10.5 이하는 주말 사고 발생 비율이 더 낮다.\n",
    "\n",
    "# x_order = ['월요일', '화요일', '수요일', '목요일', '금요일', '토요일', '일요일']\n",
    "\n",
    "# fig, axes = plt.subplots(1, 2, figsize=(6,4))\n",
    "# sns.countplot(x='요일', data=high_ECLO_df, order=x_order, ax=axes[0])\n",
    "# sns.countplot(x='요일', data=no_high_ECLO_df, order=x_order, ax=axes[1])\n",
    "# axes[0].tick_params(axis='x', rotation=30)\n",
    "# axes[1].tick_params(axis='x', rotation=30)\n",
    "\n",
    "# axes[0].set_title(\"ECLO > 10.5\")\n",
    "# axes[1].set_title(\"ECLO <= 10.5 \")\n",
    "\n",
    "# plt.tight_layout()\n",
    "# plt.show()"
   ]
  },
  {
   "cell_type": "code",
   "execution_count": null,
   "metadata": {
    "ExecuteTime": {
     "start_time": "2023-12-06T12:31:59.853Z"
    },
    "colab": {
     "base_uri": "https://localhost:8080/",
     "height": 507
    },
    "executionInfo": {
     "elapsed": 2936,
     "status": "ok",
     "timestamp": 1701200409125,
     "user": {
      "displayName": "서은서",
      "userId": "08795597860961939533"
     },
     "user_tz": -540
    },
    "id": "8FMWtT4B_5Er",
    "outputId": "e8192bef-9c55-48d9-942c-1902c110c180"
   },
   "outputs": [],
   "source": [
    "# fig, axes = plt.subplots(1, 2, figsize=(10,5))\n",
    "# sns.countplot(x='시간', data=high_ECLO_df,  ax=axes[0])\n",
    "# sns.countplot(x='시간', data=no_high_ECLO_df,  ax=axes[1])\n",
    "# axes[0].tick_params(axis='x', rotation=30)\n",
    "# axes[1].tick_params(axis='x', rotation=30)\n",
    "\n",
    "# axes[0].set_title(\"ECLO > 10.5\")\n",
    "# axes[1].set_title(\"ECLO <= 10.5 \")\n",
    "\n",
    "# plt.tight_layout()\n",
    "# plt.show()"
   ]
  },
  {
   "cell_type": "code",
   "execution_count": null,
   "metadata": {
    "ExecuteTime": {
     "start_time": "2023-12-06T12:31:59.855Z"
    },
    "colab": {
     "base_uri": "https://localhost:8080/",
     "height": 449
    },
    "executionInfo": {
     "elapsed": 697,
     "status": "ok",
     "timestamp": 1701200409821,
     "user": {
      "displayName": "서은서",
      "userId": "08795597860961939533"
     },
     "user_tz": -540
    },
    "id": "mY0mW_fz_5Er",
    "outputId": "4ea65f54-18a5-4564-b2db-8d7d80d3bbe7"
   },
   "outputs": [],
   "source": [
    "# # 사고 발생 시간대별 ECLO median\n",
    "\n",
    "# sns.barplot(x='시간', y='ECLO', data=train_df, estimator=np.median, errorbar=None)\n",
    "# plt.show()"
   ]
  },
  {
   "cell_type": "code",
   "execution_count": null,
   "metadata": {
    "ExecuteTime": {
     "start_time": "2023-12-06T12:31:59.858Z"
    },
    "colab": {
     "base_uri": "https://localhost:8080/",
     "height": 372
    },
    "executionInfo": {
     "elapsed": 1447,
     "status": "ok",
     "timestamp": 1701200411266,
     "user": {
      "displayName": "서은서",
      "userId": "08795597860961939533"
     },
     "user_tz": -540
    },
    "id": "Ur8_uryf_5Er",
    "outputId": "bfa96d78-1930-4f7c-f43c-7e9875ec5d41"
   },
   "outputs": [],
   "source": [
    "# # 시간 / 사고형태 / 도로형태1\n",
    "# plt.figure(figsize=(25, 6))\n",
    "# sns.barplot(x='시간', y='ECLO', hue='도로형태1', data=tr_df, errorbar=None)\n",
    "# plt.legend(loc='upper right')\n",
    "# plt.show()"
   ]
  },
  {
   "cell_type": "code",
   "execution_count": null,
   "metadata": {
    "ExecuteTime": {
     "start_time": "2023-12-06T12:31:59.860Z"
    },
    "colab": {
     "base_uri": "https://localhost:8080/",
     "height": 370
    },
    "executionInfo": {
     "elapsed": 1755,
     "status": "ok",
     "timestamp": 1701200413020,
     "user": {
      "displayName": "서은서",
      "userId": "08795597860961939533"
     },
     "user_tz": -540
    },
    "id": "3y7OFIx-_5Er",
    "outputId": "d572f354-aa42-4883-a080-101a7b331224"
   },
   "outputs": [],
   "source": [
    "# # 시간 / 사고형태 / 도로형태2\n",
    "# plt.figure(figsize=(25, 6))\n",
    "# sns.barplot(x='시간', y='ECLO', hue='도로형태2', data=tr_df, errorbar=None)\n",
    "# plt.legend(loc='upper right')\n",
    "# plt.show()"
   ]
  },
  {
   "cell_type": "code",
   "execution_count": null,
   "metadata": {
    "ExecuteTime": {
     "start_time": "2023-12-06T12:31:59.863Z"
    },
    "colab": {
     "base_uri": "https://localhost:8080/",
     "height": 426
    },
    "executionInfo": {
     "elapsed": 9,
     "status": "ok",
     "timestamp": 1701200413020,
     "user": {
      "displayName": "서은서",
      "userId": "08795597860961939533"
     },
     "user_tz": -540
    },
    "id": "GbNWk1em_5Er",
    "outputId": "66f60e2b-b6eb-43e4-9a27-9276066ca6af"
   },
   "outputs": [],
   "source": [
    "# tr_df.groupby(['도로형태1','도로형태2'])[['ECLO']].mean()"
   ]
  },
  {
   "cell_type": "code",
   "execution_count": null,
   "metadata": {
    "ExecuteTime": {
     "start_time": "2023-12-06T12:31:59.866Z"
    },
    "colab": {
     "base_uri": "https://localhost:8080/"
    },
    "executionInfo": {
     "elapsed": 8,
     "status": "ok",
     "timestamp": 1701200413020,
     "user": {
      "displayName": "서은서",
      "userId": "08795597860961939533"
     },
     "user_tz": -540
    },
    "id": "siaQxIdK_5Er",
    "outputId": "ac845d96-2bed-48fd-b507-e6eaa57324c4"
   },
   "outputs": [],
   "source": [
    "# 도로형태2가 도로형태1의 내용을 포함하고 있음으로 제거함\n",
    "# tr_df.drop(['도로형태1'],axis=1,inplace=True)\n",
    "# tr_df.rename(columns={'도로형태2':'도로형태'},inplace=True)\n",
    "# tr_df.columns"
   ]
  },
  {
   "cell_type": "code",
   "execution_count": null,
   "metadata": {
    "ExecuteTime": {
     "start_time": "2023-12-06T12:31:59.868Z"
    },
    "executionInfo": {
     "elapsed": 7,
     "status": "ok",
     "timestamp": 1701200413020,
     "user": {
      "displayName": "서은서",
      "userId": "08795597860961939533"
     },
     "user_tz": -540
    },
    "id": "Lq4PClrc_5Er"
   },
   "outputs": [],
   "source": [
    "col_name = {'요일':'week','기상상태':'weather','노면상태':'surface',\n",
    "    '사고유형':'how_accident','사고유형 - 세부분류':'accident_detail',\n",
    "    '법규위반':'nolaw','가해운전자 연령':'perpetrator_age',\n",
    "    '가해운전자 상해정도':'perpetrator_injury','피해운전자 차종':'victim_car',\n",
    "    '가해운전자 차종':'perpetrator_car','가해운전자 성별':'perpetrator_sex',\n",
    "    '피해운전자 성별':'victim_sex','피해운전자 연령':'victim_age',\n",
    "    '피해운전자 상해정도':'victim_injury','사망자수':'dead',\n",
    "    '중상자수':'seriously_injured','경상자수':'minor_casualty',\n",
    "    '부상자수':'injured','연':'year','월':'month','일':'day','시간':'hour',\n",
    "    '구':'gu','동':'dong','도로형태':'road','보안등 설치개수':'light',\n",
    "    'CCTV설치대수':'CCTV','제한속도':'limitspeed',\n",
    "    '횡단보도개수':'cross_count','통행량':'public_traffic'}"
   ]
  },
  {
   "cell_type": "code",
   "execution_count": null,
   "metadata": {
    "ExecuteTime": {
     "start_time": "2023-12-06T12:31:59.870Z"
    },
    "colab": {
     "base_uri": "https://localhost:8080/"
    },
    "executionInfo": {
     "elapsed": 7,
     "status": "ok",
     "timestamp": 1701200413020,
     "user": {
      "displayName": "서은서",
      "userId": "08795597860961939533"
     },
     "user_tz": -540
    },
    "id": "pkKLxSUA_5Er",
    "outputId": "e7728188-9c24-470e-ae71-0c33d88091be"
   },
   "outputs": [],
   "source": [
    "tr_df.rename(columns=col_name,inplace=True)\n",
    "tr_df.columns"
   ]
  },
  {
   "cell_type": "code",
   "execution_count": null,
   "metadata": {
    "ExecuteTime": {
     "start_time": "2023-12-06T12:31:59.873Z"
    },
    "colab": {
     "base_uri": "https://localhost:8080/"
    },
    "executionInfo": {
     "elapsed": 7,
     "status": "ok",
     "timestamp": 1701200413021,
     "user": {
      "displayName": "서은서",
      "userId": "08795597860961939533"
     },
     "user_tz": -540
    },
    "id": "gTQ_q1RJ_5Es",
    "outputId": "6eb7dbf5-e1eb-421c-b527-aa14757f569f"
   },
   "outputs": [],
   "source": [
    "tr_df['accident_detail'].value_counts()"
   ]
  },
  {
   "cell_type": "code",
   "execution_count": null,
   "metadata": {
    "ExecuteTime": {
     "start_time": "2023-12-06T12:31:59.876Z"
    },
    "colab": {
     "base_uri": "https://localhost:8080/",
     "height": 409
    },
    "executionInfo": {
     "elapsed": 6,
     "status": "ok",
     "timestamp": 1701200413021,
     "user": {
      "displayName": "서은서",
      "userId": "08795597860961939533"
     },
     "user_tz": -540
    },
    "id": "zzUFgwE6_5Es",
    "outputId": "ef2aca5c-89e7-4f11-e8dc-ba4fd56f43c6"
   },
   "outputs": [],
   "source": [
    "plt.figure(figsize=(20,5))\n",
    "sns.scatterplot(data = tr_df, x = 'accident_detail', y = 'ECLO')"
   ]
  },
  {
   "cell_type": "code",
   "execution_count": null,
   "metadata": {
    "ExecuteTime": {
     "start_time": "2023-12-06T12:31:59.880Z"
    },
    "colab": {
     "base_uri": "https://localhost:8080/",
     "height": 404
    },
    "executionInfo": {
     "elapsed": 1057,
     "status": "ok",
     "timestamp": 1701200414073,
     "user": {
      "displayName": "서은서",
      "userId": "08795597860961939533"
     },
     "user_tz": -540
    },
    "id": "wT20btnJ_5Es",
    "outputId": "3990e505-878d-41a0-9156-0f7b0a726ca9"
   },
   "outputs": [],
   "source": [
    "plt.figure(figsize=(20,5))\n",
    "sns.scatterplot(data = tr_df, x = 'light', y = 'ECLO')"
   ]
  },
  {
   "cell_type": "markdown",
   "metadata": {
    "id": "EfVrI7d0_5Es"
   },
   "source": [
    "## test"
   ]
  },
  {
   "cell_type": "code",
   "execution_count": null,
   "metadata": {
    "ExecuteTime": {
     "start_time": "2023-12-06T12:31:59.971Z"
    },
    "colab": {
     "base_uri": "https://localhost:8080/"
    },
    "executionInfo": {
     "elapsed": 6,
     "status": "ok",
     "timestamp": 1701200414074,
     "user": {
      "displayName": "서은서",
      "userId": "08795597860961939533"
     },
     "user_tz": -540
    },
    "id": "Un681WrY_5Es",
    "outputId": "568df347-cebd-4c61-b49f-482bed5d0488"
   },
   "outputs": [],
   "source": [
    "te_df.isnull().sum()"
   ]
  },
  {
   "cell_type": "code",
   "execution_count": null,
   "metadata": {
    "ExecuteTime": {
     "start_time": "2023-12-06T12:31:59.975Z"
    },
    "executionInfo": {
     "elapsed": 5,
     "status": "ok",
     "timestamp": 1701200414074,
     "user": {
      "displayName": "서은서",
      "userId": "08795597860961939533"
     },
     "user_tz": -540
    },
    "id": "1a4pcQUk_5Es"
   },
   "outputs": [],
   "source": [
    "te_df.rename(columns={'설치개수':'보안등 설치개수'},inplace=True)"
   ]
  },
  {
   "cell_type": "code",
   "execution_count": null,
   "metadata": {
    "ExecuteTime": {
     "start_time": "2023-12-06T12:31:59.978Z"
    },
    "executionInfo": {
     "elapsed": 5,
     "status": "ok",
     "timestamp": 1701200414074,
     "user": {
      "displayName": "서은서",
      "userId": "08795597860961939533"
     },
     "user_tz": -540
    },
    "id": "vZaNmhjE_5Es"
   },
   "outputs": [],
   "source": [
    "te_df['CCTV설치대수'] = te_df['CCTV설치대수'].fillna(te_df['CCTV설치대수'].mean())\n",
    "te_df['보안등 설치개수'] = te_df['보안등 설치개수'].interpolate()\n",
    "te_df['제한속도'] = te_df['제한속도'].interpolate()"
   ]
  },
  {
   "cell_type": "code",
   "execution_count": null,
   "metadata": {
    "ExecuteTime": {
     "start_time": "2023-12-06T12:31:59.981Z"
    }
   },
   "outputs": [],
   "source": [
    "te_df['횡단보도개수'] = te_df['횡단보도개수'].interpolate()\n",
    "te_df['통행량'] = te_df['통행량'].interpolate()"
   ]
  },
  {
   "cell_type": "code",
   "execution_count": null,
   "metadata": {
    "ExecuteTime": {
     "start_time": "2023-12-06T12:31:59.983Z"
    },
    "colab": {
     "base_uri": "https://localhost:8080/"
    },
    "executionInfo": {
     "elapsed": 5,
     "status": "ok",
     "timestamp": 1701200414074,
     "user": {
      "displayName": "서은서",
      "userId": "08795597860961939533"
     },
     "user_tz": -540
    },
    "id": "CBjVGJag_5Es",
    "outputId": "404af035-1a77-4923-f871-5b3fe15424c6"
   },
   "outputs": [],
   "source": [
    "te_df.isnull().sum()"
   ]
  },
  {
   "cell_type": "code",
   "execution_count": null,
   "metadata": {
    "ExecuteTime": {
     "start_time": "2023-12-06T12:31:59.986Z"
    },
    "colab": {
     "base_uri": "https://localhost:8080/"
    },
    "executionInfo": {
     "elapsed": 4,
     "status": "ok",
     "timestamp": 1701200414074,
     "user": {
      "displayName": "서은서",
      "userId": "08795597860961939533"
     },
     "user_tz": -540
    },
    "id": "SQ4ZxKXI_5Es",
    "outputId": "eb71bc6a-5742-478e-f2d4-52e4f8756c05"
   },
   "outputs": [],
   "source": [
    "# 도로형태2가 도로형태1의 내용을 포함하고 있음으로 제거함\n",
    "# te_df.drop(['도로형태1'],axis=1,inplace=True)\n",
    "# te_df.rename(columns={'도로형태2':'도로형태'},inplace=True)\n",
    "# te_df.columns"
   ]
  },
  {
   "cell_type": "code",
   "execution_count": null,
   "metadata": {
    "ExecuteTime": {
     "start_time": "2023-12-06T12:31:59.989Z"
    },
    "executionInfo": {
     "elapsed": 4,
     "status": "ok",
     "timestamp": 1701200414074,
     "user": {
      "displayName": "서은서",
      "userId": "08795597860961939533"
     },
     "user_tz": -540
    },
    "id": "LE_bHNp7_5Es"
   },
   "outputs": [],
   "source": [
    "col_name = {'요일':'week','기상상태':'weather','노면상태':'surface','사고유형':'how_accident',\n",
    "                     '연':'year','월':'month','일':'day','시간':'hour','구':'gu','동':'dong','도로형태':'road','보안등 설치개수':'light','CCTV설치대수':'CCTV','제한속도':'limitspeed',\n",
    "           '횡단보도개수':'cross_count','통행량':'public_traffic'}"
   ]
  },
  {
   "cell_type": "code",
   "execution_count": null,
   "metadata": {
    "ExecuteTime": {
     "start_time": "2023-12-06T12:31:59.992Z"
    },
    "colab": {
     "base_uri": "https://localhost:8080/"
    },
    "executionInfo": {
     "elapsed": 4,
     "status": "ok",
     "timestamp": 1701200414074,
     "user": {
      "displayName": "서은서",
      "userId": "08795597860961939533"
     },
     "user_tz": -540
    },
    "id": "PrexCiA3_5Es",
    "outputId": "8ad7f8cb-9b14-4769-ef2a-1e3a855be764"
   },
   "outputs": [],
   "source": [
    "te_df.rename(columns=col_name,inplace=True)\n",
    "te_df.columns"
   ]
  },
  {
   "cell_type": "markdown",
   "metadata": {
    "id": "-mRanWiD_5Es"
   },
   "source": [
    "# 인코딩"
   ]
  },
  {
   "cell_type": "code",
   "execution_count": null,
   "metadata": {
    "ExecuteTime": {
     "start_time": "2023-12-06T12:32:00.064Z"
    },
    "colab": {
     "base_uri": "https://localhost:8080/"
    },
    "executionInfo": {
     "elapsed": 7046,
     "status": "ok",
     "timestamp": 1701200421117,
     "user": {
      "displayName": "서은서",
      "userId": "08795597860961939533"
     },
     "user_tz": -540
    },
    "id": "UdRkhaZvBKpl",
    "outputId": "218edb8f-d380-43c6-ae1c-2d4b0acfbd37"
   },
   "outputs": [],
   "source": [
    "pip install category_encoders"
   ]
  },
  {
   "cell_type": "code",
   "execution_count": null,
   "metadata": {
    "ExecuteTime": {
     "start_time": "2023-12-06T12:32:00.068Z"
    },
    "executionInfo": {
     "elapsed": 6,
     "status": "ok",
     "timestamp": 1701200421117,
     "user": {
      "displayName": "서은서",
      "userId": "08795597860961939533"
     },
     "user_tz": -540
    },
    "id": "TGroVFa5_5Es"
   },
   "outputs": [],
   "source": [
    "from sklearn.preprocessing import LabelEncoder\n",
    "from category_encoders.target_encoder import TargetEncoder"
   ]
  },
  {
   "cell_type": "code",
   "execution_count": null,
   "metadata": {
    "ExecuteTime": {
     "start_time": "2023-12-06T12:32:00.070Z"
    },
    "colab": {
     "base_uri": "https://localhost:8080/"
    },
    "executionInfo": {
     "elapsed": 6,
     "status": "ok",
     "timestamp": 1701200421117,
     "user": {
      "displayName": "서은서",
      "userId": "08795597860961939533"
     },
     "user_tz": -540
    },
    "id": "w5k02hLj_5Es",
    "outputId": "a5a711a3-daa7-4c31-d816-1c8587c2c517"
   },
   "outputs": [],
   "source": [
    "te_df.columns\n",
    "#카테고리 열이 아니면 그래프 그려서 분포 확인해보기"
   ]
  },
  {
   "cell_type": "code",
   "execution_count": null,
   "metadata": {
    "ExecuteTime": {
     "start_time": "2023-12-06T12:32:00.073Z"
    },
    "executionInfo": {
     "elapsed": 4,
     "status": "ok",
     "timestamp": 1701200421117,
     "user": {
      "displayName": "서은서",
      "userId": "08795597860961939533"
     },
     "user_tz": -540
    },
    "id": "Lm4i80Mc_5Es"
   },
   "outputs": [],
   "source": [
    "train_x = tr_df[te_df.columns].copy()\n",
    "train_y = tr_df['ECLO'].copy()"
   ]
  },
  {
   "cell_type": "code",
   "execution_count": null,
   "metadata": {
    "ExecuteTime": {
     "start_time": "2023-12-06T12:32:00.077Z"
    },
    "colab": {
     "base_uri": "https://localhost:8080/"
    },
    "executionInfo": {
     "elapsed": 4,
     "status": "ok",
     "timestamp": 1701200421117,
     "user": {
      "displayName": "서은서",
      "userId": "08795597860961939533"
     },
     "user_tz": -540
    },
    "id": "5veUezBt_5Es",
    "outputId": "6fa08666-9a72-437a-e5c1-757f9f6425cb"
   },
   "outputs": [],
   "source": [
    "categorical_features = list(train_x.dtypes[train_x.dtypes == \"object\"].index)\n",
    "categorical_features"
   ]
  },
  {
   "cell_type": "code",
   "execution_count": null,
   "metadata": {
    "ExecuteTime": {
     "start_time": "2023-12-06T12:32:00.079Z"
    },
    "colab": {
     "base_uri": "https://localhost:8080/"
    },
    "executionInfo": {
     "elapsed": 4,
     "status": "ok",
     "timestamp": 1701200421117,
     "user": {
      "displayName": "서은서",
      "userId": "08795597860961939533"
     },
     "user_tz": -540
    },
    "id": "U3Xm61AWNFhb",
    "outputId": "f99b3974-f304-4169-a26c-f6f7a8026925"
   },
   "outputs": [],
   "source": [
    "categorical_features_test = list(te_df.dtypes[te_df.dtypes == \"object\"].index)\n",
    "categorical_features_test"
   ]
  },
  {
   "cell_type": "code",
   "execution_count": null,
   "metadata": {
    "ExecuteTime": {
     "start_time": "2023-12-06T12:32:00.082Z"
    },
    "executionInfo": {
     "elapsed": 3,
     "status": "ok",
     "timestamp": 1701200421117,
     "user": {
      "displayName": "서은서",
      "userId": "08795597860961939533"
     },
     "user_tz": -540
    },
    "id": "HVPVaoBQBnjv"
   },
   "outputs": [],
   "source": [
    "numeric_features_test = list(te_df.dtypes[te_df.dtypes == \"int\"].index)\n",
    "numeric_features_test.extend(list(te_df.dtypes[te_df.dtypes == \"float\"].index))"
   ]
  },
  {
   "cell_type": "code",
   "execution_count": null,
   "metadata": {
    "ExecuteTime": {
     "start_time": "2023-12-06T12:32:00.085Z"
    },
    "colab": {
     "base_uri": "https://localhost:8080/"
    },
    "executionInfo": {
     "elapsed": 3,
     "status": "ok",
     "timestamp": 1701200421117,
     "user": {
      "displayName": "서은서",
      "userId": "08795597860961939533"
     },
     "user_tz": -540
    },
    "id": "P8ipOHfdCDym",
    "outputId": "5ed921ff-e698-4689-9277-6991acb3da15"
   },
   "outputs": [],
   "source": [
    "numeric_features_test"
   ]
  },
  {
   "cell_type": "code",
   "execution_count": null,
   "metadata": {
    "ExecuteTime": {
     "start_time": "2023-12-06T12:32:00.088Z"
    },
    "colab": {
     "base_uri": "https://localhost:8080/",
     "height": 452
    },
    "executionInfo": {
     "elapsed": 534,
     "status": "ok",
     "timestamp": 1701200421648,
     "user": {
      "displayName": "서은서",
      "userId": "08795597860961939533"
     },
     "user_tz": -540
    },
    "id": "pU1WZ-HWC6h7",
    "outputId": "b93eb2b8-9250-42bb-bbb3-aeeaf0780a36"
   },
   "outputs": [],
   "source": [
    "plt.hist(train_x['light'])\n",
    "plt.title('light')\n",
    "plt.show()"
   ]
  },
  {
   "cell_type": "code",
   "execution_count": null,
   "metadata": {
    "ExecuteTime": {
     "start_time": "2023-12-06T12:32:00.091Z"
    },
    "colab": {
     "base_uri": "https://localhost:8080/",
     "height": 452
    },
    "executionInfo": {
     "elapsed": 374,
     "status": "ok",
     "timestamp": 1701200422018,
     "user": {
      "displayName": "서은서",
      "userId": "08795597860961939533"
     },
     "user_tz": -540
    },
    "id": "ANuTSSENDrlJ",
    "outputId": "ca833d58-08e8-4f6a-b9dc-3e12b57ae7d1"
   },
   "outputs": [],
   "source": [
    "plt.hist(train_x['CCTV'])\n",
    "plt.title('CCTV')\n",
    "plt.show()"
   ]
  },
  {
   "cell_type": "code",
   "execution_count": null,
   "metadata": {
    "ExecuteTime": {
     "start_time": "2023-12-06T12:32:00.094Z"
    },
    "colab": {
     "base_uri": "https://localhost:8080/",
     "height": 452
    },
    "executionInfo": {
     "elapsed": 1359,
     "status": "ok",
     "timestamp": 1701200423372,
     "user": {
      "displayName": "서은서",
      "userId": "08795597860961939533"
     },
     "user_tz": -540
    },
    "id": "y2hTU1YfDv5_",
    "outputId": "503420c2-bb39-467a-9562-154aab3e271f"
   },
   "outputs": [],
   "source": [
    "plt.hist(train_x['limitspeed'])\n",
    "plt.title('limitspeed')\n",
    "plt.show()"
   ]
  },
  {
   "cell_type": "code",
   "execution_count": null,
   "metadata": {
    "ExecuteTime": {
     "start_time": "2023-12-06T12:32:00.097Z"
    },
    "colab": {
     "base_uri": "https://localhost:8080/",
     "height": 206
    },
    "executionInfo": {
     "elapsed": 6,
     "status": "ok",
     "timestamp": 1701200423373,
     "user": {
      "displayName": "서은서",
      "userId": "08795597860961939533"
     },
     "user_tz": -540
    },
    "id": "8MzW-s-7Nh_9",
    "outputId": "ee9d20bc-43b8-4d92-d6ef-95706f52416f"
   },
   "outputs": [],
   "source": [
    "train_x[train_x['limitspeed'] == train_x['limitspeed'].max()].head()"
   ]
  },
  {
   "cell_type": "code",
   "execution_count": null,
   "metadata": {
    "ExecuteTime": {
     "start_time": "2023-12-06T12:32:00.100Z"
    },
    "colab": {
     "base_uri": "https://localhost:8080/"
    },
    "executionInfo": {
     "elapsed": 5,
     "status": "ok",
     "timestamp": 1701200423373,
     "user": {
      "displayName": "서은서",
      "userId": "08795597860961939533"
     },
     "user_tz": -540
    },
    "id": "7b0dHJ3pGBwZ",
    "outputId": "f9d58b94-df59-499b-c8b6-56d37f3a4545"
   },
   "outputs": [],
   "source": [
    "train_x['light'].describe()"
   ]
  },
  {
   "cell_type": "code",
   "execution_count": null,
   "metadata": {
    "ExecuteTime": {
     "start_time": "2023-12-06T12:32:00.102Z"
    },
    "colab": {
     "base_uri": "https://localhost:8080/"
    },
    "executionInfo": {
     "elapsed": 4,
     "status": "ok",
     "timestamp": 1701200423373,
     "user": {
      "displayName": "서은서",
      "userId": "08795597860961939533"
     },
     "user_tz": -540
    },
    "id": "5mA-JGCCOKGw",
    "outputId": "5d657383-650d-47fd-aeb9-f560133a1d6e"
   },
   "outputs": [],
   "source": [
    "te_df['light'].describe()"
   ]
  },
  {
   "cell_type": "code",
   "execution_count": null,
   "metadata": {
    "ExecuteTime": {
     "start_time": "2023-12-06T12:32:00.106Z"
    },
    "executionInfo": {
     "elapsed": 4,
     "status": "ok",
     "timestamp": 1701200423373,
     "user": {
      "displayName": "서은서",
      "userId": "08795597860961939533"
     },
     "user_tz": -540
    },
    "id": "aILdG02sGdAU"
   },
   "outputs": [],
   "source": [
    "def change_range(x):\n",
    "  if x > train_x['light'].mean():\n",
    "    return 1\n",
    "  else:\n",
    "    return 0"
   ]
  },
  {
   "cell_type": "code",
   "execution_count": null,
   "metadata": {
    "ExecuteTime": {
     "start_time": "2023-12-06T12:32:00.110Z"
    },
    "executionInfo": {
     "elapsed": 7339,
     "status": "ok",
     "timestamp": 1701200430708,
     "user": {
      "displayName": "서은서",
      "userId": "08795597860961939533"
     },
     "user_tz": -540
    },
    "id": "UQEsN3p4HiCF"
   },
   "outputs": [],
   "source": [
    "train_x['light_range'] = train_x['light'].apply(change_range)"
   ]
  },
  {
   "cell_type": "code",
   "execution_count": null,
   "metadata": {
    "ExecuteTime": {
     "start_time": "2023-12-06T12:32:00.114Z"
    },
    "colab": {
     "base_uri": "https://localhost:8080/"
    },
    "executionInfo": {
     "elapsed": 3,
     "status": "ok",
     "timestamp": 1701200430709,
     "user": {
      "displayName": "서은서",
      "userId": "08795597860961939533"
     },
     "user_tz": -540
    },
    "id": "2HmxakqZHuz7",
    "outputId": "839ce408-aabb-4433-8bee-46a354c2fc49"
   },
   "outputs": [],
   "source": [
    "train_x['light_range'].value_counts()"
   ]
  },
  {
   "cell_type": "code",
   "execution_count": null,
   "metadata": {
    "ExecuteTime": {
     "start_time": "2023-12-06T12:32:00.117Z"
    },
    "executionInfo": {
     "elapsed": 2,
     "status": "ok",
     "timestamp": 1701200430709,
     "user": {
      "displayName": "서은서",
      "userId": "08795597860961939533"
     },
     "user_tz": -540
    },
    "id": "xbfo3fz7OX-H"
   },
   "outputs": [],
   "source": [
    "def change_range_test(x):\n",
    "  if x > te_df['light'].mean():\n",
    "    return 1\n",
    "  else:\n",
    "    return 0"
   ]
  },
  {
   "cell_type": "code",
   "execution_count": null,
   "metadata": {
    "ExecuteTime": {
     "start_time": "2023-12-06T12:32:00.120Z"
    },
    "colab": {
     "base_uri": "https://localhost:8080/"
    },
    "executionInfo": {
     "elapsed": 2364,
     "status": "ok",
     "timestamp": 1701200433071,
     "user": {
      "displayName": "서은서",
      "userId": "08795597860961939533"
     },
     "user_tz": -540
    },
    "id": "rxPxNvpxOa_C",
    "outputId": "e8c1b73c-f777-439c-fe8c-0925a68f5caa"
   },
   "outputs": [],
   "source": [
    "te_df['light_range'] = te_df['light'].apply(change_range_test)\n",
    "te_df['light_range'].value_counts()"
   ]
  },
  {
   "cell_type": "code",
   "execution_count": null,
   "metadata": {
    "ExecuteTime": {
     "start_time": "2023-12-06T12:32:00.123Z"
    },
    "colab": {
     "base_uri": "https://localhost:8080/",
     "height": 452
    },
    "executionInfo": {
     "elapsed": 694,
     "status": "ok",
     "timestamp": 1701200433761,
     "user": {
      "displayName": "서은서",
      "userId": "08795597860961939533"
     },
     "user_tz": -540
    },
    "id": "qQMj1-ULNUBa",
    "outputId": "8088eff6-95d6-4530-ddd9-a5435364a8d5"
   },
   "outputs": [],
   "source": [
    "plt.hist(te_df['light'])\n",
    "plt.title('light')\n",
    "plt.show()"
   ]
  },
  {
   "cell_type": "code",
   "execution_count": null,
   "metadata": {
    "ExecuteTime": {
     "start_time": "2023-12-06T12:32:00.126Z"
    },
    "colab": {
     "base_uri": "https://localhost:8080/",
     "height": 452
    },
    "executionInfo": {
     "elapsed": 747,
     "status": "ok",
     "timestamp": 1701200434502,
     "user": {
      "displayName": "서은서",
      "userId": "08795597860961939533"
     },
     "user_tz": -540
    },
    "id": "SK8MQR21NW1i",
    "outputId": "5edcff6a-e3dd-4502-afa5-b3434411e58e"
   },
   "outputs": [],
   "source": [
    "plt.hist(te_df['CCTV'])\n",
    "plt.title('CCTV')\n",
    "plt.show()"
   ]
  },
  {
   "cell_type": "code",
   "execution_count": null,
   "metadata": {
    "ExecuteTime": {
     "start_time": "2023-12-06T12:32:00.129Z"
    },
    "colab": {
     "base_uri": "https://localhost:8080/",
     "height": 452
    },
    "executionInfo": {
     "elapsed": 14,
     "status": "ok",
     "timestamp": 1701200434502,
     "user": {
      "displayName": "서은서",
      "userId": "08795597860961939533"
     },
     "user_tz": -540
    },
    "id": "6yiLBOqMNYqT",
    "outputId": "37977447-9afb-43c8-89ca-f48fa2f74ada"
   },
   "outputs": [],
   "source": [
    "plt.hist(te_df['limitspeed'])\n",
    "plt.title('limitspeed')\n",
    "plt.show()"
   ]
  },
  {
   "cell_type": "code",
   "execution_count": null,
   "metadata": {
    "ExecuteTime": {
     "start_time": "2023-12-06T12:32:00.132Z"
    },
    "executionInfo": {
     "elapsed": 12,
     "status": "ok",
     "timestamp": 1701200434502,
     "user": {
      "displayName": "서은서",
      "userId": "08795597860961939533"
     },
     "user_tz": -540
    },
    "id": "6hY0fHy1_5Et"
   },
   "outputs": [],
   "source": [
    "#for i in categorical_features:\n",
    "#    le = TargetEncoder(cols=[i])\n",
    "#    train_x[i] = le.fit_transform(train_x[i], train_y)\n",
    "#    te_df[i] = le.transform(te_df[i])\n",
    "\n",
    "#display(train_x.head())\n",
    "#display(te_df.head())"
   ]
  },
  {
   "cell_type": "code",
   "execution_count": null,
   "metadata": {
    "ExecuteTime": {
     "start_time": "2023-12-06T12:32:00.134Z"
    },
    "colab": {
     "base_uri": "https://localhost:8080/"
    },
    "executionInfo": {
     "elapsed": 12,
     "status": "ok",
     "timestamp": 1701200434503,
     "user": {
      "displayName": "서은서",
      "userId": "08795597860961939533"
     },
     "user_tz": -540
    },
    "id": "wjVrKjctI-lB",
    "outputId": "0d48bfa2-b7e7-4c7f-c9c1-c6d0b9a939c2"
   },
   "outputs": [],
   "source": [
    "categorical_features"
   ]
  },
  {
   "cell_type": "code",
   "execution_count": null,
   "metadata": {
    "ExecuteTime": {
     "start_time": "2023-12-06T12:32:00.137Z"
    },
    "executionInfo": {
     "elapsed": 569,
     "status": "ok",
     "timestamp": 1701200435065,
     "user": {
      "displayName": "서은서",
      "userId": "08795597860961939533"
     },
     "user_tz": -540
    },
    "id": "KslvFubkI7v_"
   },
   "outputs": [],
   "source": [
    "# Mean target encoding\n",
    "Week_mean_target_encoded = tr_df.groupby('week')['ECLO'].mean()\n",
    "Weather_mean_target_encoded = tr_df.groupby('weather')['ECLO'].mean()\n",
    "Surface_mean_target_encoded = tr_df.groupby('surface')['ECLO'].mean()\n",
    "How_accident_mean_target_encoded = tr_df.groupby('how_accident')['ECLO'].mean()\n",
    "Gu_mean_target_encoded = tr_df.groupby('gu')['ECLO'].mean()\n",
    "Dong_mean_target_encoded = tr_df.groupby('dong')['ECLO'].mean()\n",
    "Road_mean_target_encoded = tr_df.groupby('road')['ECLO'].mean()"
   ]
  },
  {
   "cell_type": "code",
   "execution_count": null,
   "metadata": {
    "ExecuteTime": {
     "start_time": "2023-12-06T12:32:00.139Z"
    },
    "executionInfo": {
     "elapsed": 9,
     "status": "ok",
     "timestamp": 1701200435065,
     "user": {
      "displayName": "서은서",
      "userId": "08795597860961939533"
     },
     "user_tz": -540
    },
    "id": "ncw0lPHXJZGW"
   },
   "outputs": [],
   "source": [
    "train_x['week_encoded']=train_x['week'].map(Week_mean_target_encoded)\n",
    "train_x['weather_encoded']=train_x['weather'].map(Weather_mean_target_encoded)\n",
    "train_x['surface_encoded']=train_x['surface'].map(Surface_mean_target_encoded)\n",
    "train_x['how_accident_encoded']=train_x['how_accident'].map(How_accident_mean_target_encoded)\n",
    "train_x['gu_encoded']=train_x['gu'].map(Gu_mean_target_encoded)\n",
    "train_x['dong_encoded']=train_x['dong'].map(Dong_mean_target_encoded)\n",
    "train_x['road_encoded']=train_x['road'].map(Road_mean_target_encoded)"
   ]
  },
  {
   "cell_type": "code",
   "execution_count": null,
   "metadata": {
    "ExecuteTime": {
     "start_time": "2023-12-06T12:32:00.142Z"
    },
    "colab": {
     "base_uri": "https://localhost:8080/"
    },
    "executionInfo": {
     "elapsed": 9,
     "status": "ok",
     "timestamp": 1701200435065,
     "user": {
      "displayName": "서은서",
      "userId": "08795597860961939533"
     },
     "user_tz": -540
    },
    "id": "Q8C8pCs5Yf7p",
    "outputId": "a1362ff6-5697-4f23-a769-cdc4d2207735"
   },
   "outputs": [],
   "source": [
    "train_x['weather'].value_counts()"
   ]
  },
  {
   "cell_type": "code",
   "execution_count": null,
   "metadata": {
    "ExecuteTime": {
     "start_time": "2023-12-06T12:32:00.144Z"
    },
    "colab": {
     "base_uri": "https://localhost:8080/"
    },
    "executionInfo": {
     "elapsed": 9,
     "status": "ok",
     "timestamp": 1701200435065,
     "user": {
      "displayName": "서은서",
      "userId": "08795597860961939533"
     },
     "user_tz": -540
    },
    "id": "-LXdQGmRLLqO",
    "outputId": "8b58b0ff-a0bf-463d-d39d-c2190ed584ef"
   },
   "outputs": [],
   "source": [
    "train_x['surface'].value_counts()"
   ]
  },
  {
   "cell_type": "code",
   "execution_count": null,
   "metadata": {
    "ExecuteTime": {
     "start_time": "2023-12-06T12:32:00.146Z"
    },
    "colab": {
     "base_uri": "https://localhost:8080/"
    },
    "executionInfo": {
     "elapsed": 8,
     "status": "ok",
     "timestamp": 1701200435065,
     "user": {
      "displayName": "서은서",
      "userId": "08795597860961939533"
     },
     "user_tz": -540
    },
    "id": "4jZj4VppLS-3",
    "outputId": "8a962e60-8ff3-47bc-8605-f9c366194a78"
   },
   "outputs": [],
   "source": [
    "train_x['how_accident'].value_counts()"
   ]
  },
  {
   "cell_type": "code",
   "execution_count": null,
   "metadata": {
    "ExecuteTime": {
     "start_time": "2023-12-06T12:32:00.149Z"
    },
    "colab": {
     "base_uri": "https://localhost:8080/"
    },
    "executionInfo": {
     "elapsed": 7,
     "status": "ok",
     "timestamp": 1701200435065,
     "user": {
      "displayName": "서은서",
      "userId": "08795597860961939533"
     },
     "user_tz": -540
    },
    "id": "geas3QokLbW0",
    "outputId": "a4553cbc-58ff-4a19-c462-3674ee822d8a"
   },
   "outputs": [],
   "source": [
    "train_x['gu'].value_counts()"
   ]
  },
  {
   "cell_type": "code",
   "execution_count": null,
   "metadata": {
    "ExecuteTime": {
     "start_time": "2023-12-06T12:32:00.152Z"
    },
    "colab": {
     "base_uri": "https://localhost:8080/"
    },
    "executionInfo": {
     "elapsed": 6,
     "status": "ok",
     "timestamp": 1701200435065,
     "user": {
      "displayName": "서은서",
      "userId": "08795597860961939533"
     },
     "user_tz": -540
    },
    "id": "nlSBnXV0LgCA",
    "outputId": "249b2fcf-2bf2-4cbe-e222-7ce47b00a0f5"
   },
   "outputs": [],
   "source": [
    "train_x['dong'].value_counts()"
   ]
  },
  {
   "cell_type": "code",
   "execution_count": null,
   "metadata": {
    "ExecuteTime": {
     "start_time": "2023-12-06T12:32:00.154Z"
    },
    "colab": {
     "base_uri": "https://localhost:8080/"
    },
    "executionInfo": {
     "elapsed": 5,
     "status": "ok",
     "timestamp": 1701200435065,
     "user": {
      "displayName": "서은서",
      "userId": "08795597860961939533"
     },
     "user_tz": -540
    },
    "id": "aNChzFKXLkT2",
    "outputId": "6c1e2bda-da20-4e91-d94e-87e4d422183e"
   },
   "outputs": [],
   "source": [
    "train_x['road'].value_counts()"
   ]
  },
  {
   "cell_type": "code",
   "execution_count": null,
   "metadata": {
    "ExecuteTime": {
     "start_time": "2023-12-06T12:32:00.157Z"
    },
    "colab": {
     "base_uri": "https://localhost:8080/"
    },
    "executionInfo": {
     "elapsed": 5,
     "status": "ok",
     "timestamp": 1701200435065,
     "user": {
      "displayName": "서은서",
      "userId": "08795597860961939533"
     },
     "user_tz": -540
    },
    "id": "Hr8dm78lOscN",
    "outputId": "29184fef-5c51-494b-f967-087acd6716c8"
   },
   "outputs": [],
   "source": [
    "categorical_features_test"
   ]
  },
  {
   "cell_type": "code",
   "execution_count": null,
   "metadata": {
    "ExecuteTime": {
     "start_time": "2023-12-06T12:32:00.159Z"
    },
    "colab": {
     "base_uri": "https://localhost:8080/"
    },
    "executionInfo": {
     "elapsed": 4,
     "status": "ok",
     "timestamp": 1701200435065,
     "user": {
      "displayName": "서은서",
      "userId": "08795597860961939533"
     },
     "user_tz": -540
    },
    "id": "zH7_8n5WOtEE",
    "outputId": "74437ff0-0375-4432-c97d-425638c198c5"
   },
   "outputs": [],
   "source": [
    "numeric_features_test"
   ]
  },
  {
   "cell_type": "code",
   "execution_count": null,
   "metadata": {
    "ExecuteTime": {
     "start_time": "2023-12-06T12:32:00.162Z"
    },
    "executionInfo": {
     "elapsed": 3,
     "status": "ok",
     "timestamp": 1701200435065,
     "user": {
      "displayName": "서은서",
      "userId": "08795597860961939533"
     },
     "user_tz": -540
    },
    "id": "PjY4jUmPSUz6"
   },
   "outputs": [],
   "source": [
    "te_df['week_encoded']=te_df['week'].map(Week_mean_target_encoded)\n",
    "te_df['weather_encoded']=te_df['weather'].map(Weather_mean_target_encoded)\n",
    "te_df['surface_encoded']=te_df['surface'].map(Surface_mean_target_encoded)\n",
    "te_df['how_accident_encoded']=te_df['how_accident'].map(How_accident_mean_target_encoded)\n",
    "te_df['gu_encoded']=te_df['gu'].map(Gu_mean_target_encoded)\n",
    "te_df['dong_encoded']=te_df['dong'].map(Dong_mean_target_encoded)\n",
    "te_df['road_encoded']=te_df['road'].map(Road_mean_target_encoded)"
   ]
  },
  {
   "cell_type": "markdown",
   "metadata": {
    "id": "OPzbXXkVLvKG"
   },
   "source": [
    "데이터 불균형 해소 필요해 보임!(train에만 적용)\n",
    "- SMOTE 이용"
   ]
  },
  {
   "cell_type": "code",
   "execution_count": null,
   "metadata": {
    "ExecuteTime": {
     "start_time": "2023-12-06T12:32:00.248Z"
    },
    "colab": {
     "base_uri": "https://localhost:8080/",
     "height": 196
    },
    "executionInfo": {
     "elapsed": 639,
     "status": "ok",
     "timestamp": 1701200435701,
     "user": {
      "displayName": "서은서",
      "userId": "08795597860961939533"
     },
     "user_tz": -540
    },
    "id": "S_pywDZETmg3",
    "outputId": "ec76f0db-ae5c-41b8-d5ad-0e077fb7f41e"
   },
   "outputs": [],
   "source": [
    "display(train_x.columns)\n",
    "display(te_df.columns)"
   ]
  },
  {
   "cell_type": "code",
   "execution_count": null,
   "metadata": {
    "ExecuteTime": {
     "start_time": "2023-12-06T12:32:00.251Z"
    },
    "colab": {
     "base_uri": "https://localhost:8080/",
     "height": 332
    },
    "executionInfo": {
     "elapsed": 4,
     "status": "ok",
     "timestamp": 1701200435701,
     "user": {
      "displayName": "서은서",
      "userId": "08795597860961939533"
     },
     "user_tz": -540
    },
    "id": "09JYWx6OOia2",
    "outputId": "73daebf6-598a-41a8-cff5-b62ab16eca85"
   },
   "outputs": [],
   "source": [
    "# train_df.corr()"
   ]
  },
  {
   "cell_type": "code",
   "execution_count": null,
   "metadata": {
    "ExecuteTime": {
     "start_time": "2023-12-06T12:32:00.253Z"
    },
    "colab": {
     "base_uri": "https://localhost:8080/",
     "height": 501
    },
    "executionInfo": {
     "elapsed": 601,
     "status": "ok",
     "timestamp": 1701200436299,
     "user": {
      "displayName": "서은서",
      "userId": "08795597860961939533"
     },
     "user_tz": -540
    },
    "id": "eSmzcEMMPdgQ",
    "outputId": "2d9ec1f2-c0bc-4b2c-9fbf-4e94ac82c0ae"
   },
   "outputs": [],
   "source": [
    "plt.hist(train_y)"
   ]
  },
  {
   "cell_type": "code",
   "execution_count": null,
   "metadata": {
    "ExecuteTime": {
     "start_time": "2023-12-06T12:32:00.256Z"
    },
    "colab": {
     "base_uri": "https://localhost:8080/",
     "height": 449
    },
    "executionInfo": {
     "elapsed": 2502,
     "status": "ok",
     "timestamp": 1701200438799,
     "user": {
      "displayName": "서은서",
      "userId": "08795597860961939533"
     },
     "user_tz": -540
    },
    "id": "Ng2FxZwPPsVE",
    "outputId": "692ecd97-5411-4cb3-c4b9-64d1ad684d11"
   },
   "outputs": [],
   "source": [
    "train_y_log = np.log1p(train_y)\n",
    "sns.distplot(train_y_log)\n",
    "plt.show()"
   ]
  },
  {
   "cell_type": "markdown",
   "metadata": {
    "id": "mkJn4ojEYMRr"
   },
   "source": [
    "# 모델링"
   ]
  },
  {
   "cell_type": "code",
   "execution_count": null,
   "metadata": {
    "ExecuteTime": {
     "start_time": "2023-12-06T12:32:00.329Z"
    },
    "executionInfo": {
     "elapsed": 3,
     "status": "ok",
     "timestamp": 1701200438799,
     "user": {
      "displayName": "서은서",
      "userId": "08795597860961939533"
     },
     "user_tz": -540
    },
    "id": "VC-xy4HCT0H2"
   },
   "outputs": [],
   "source": [
    "train_x_new = train_x[['week_encoded', 'weather_encoded', 'surface_encoded',\n",
    "       'how_accident_encoded', 'gu_encoded', 'dong_encoded', 'road_encoded','year', 'month', 'day','hour','CCTV', 'limitspeed',\n",
    "       'light_range','cross_count','public_traffic']]"
   ]
  },
  {
   "cell_type": "code",
   "execution_count": null,
   "metadata": {
    "ExecuteTime": {
     "start_time": "2023-12-06T12:32:00.332Z"
    },
    "executionInfo": {
     "elapsed": 3,
     "status": "ok",
     "timestamp": 1701200438799,
     "user": {
      "displayName": "서은서",
      "userId": "08795597860961939533"
     },
     "user_tz": -540
    },
    "id": "iqiF2A-IUFn-"
   },
   "outputs": [],
   "source": [
    "te_df_new = te_df[['week_encoded', 'weather_encoded', 'surface_encoded',\n",
    "       'how_accident_encoded', 'gu_encoded', 'dong_encoded', 'road_encoded','year', 'month', 'day','hour','CCTV', 'limitspeed',\n",
    "       'light_range','cross_count','public_traffic']]"
   ]
  },
  {
   "cell_type": "code",
   "execution_count": null,
   "metadata": {
    "ExecuteTime": {
     "start_time": "2023-12-06T12:32:00.334Z"
    },
    "executionInfo": {
     "elapsed": 3,
     "status": "ok",
     "timestamp": 1701200438799,
     "user": {
      "displayName": "서은서",
      "userId": "08795597860961939533"
     },
     "user_tz": -540
    },
    "id": "ctMBNGEZLxRl"
   },
   "outputs": [],
   "source": [
    "# 에러나서 보류\n",
    "#from imblearn.over_sampling import SMOTE\n",
    "#smote = SMOTE()\n",
    "#train_X_over, train_Y_over = smote.fit_resample(train_x_new,train_y)"
   ]
  },
  {
   "cell_type": "markdown",
   "metadata": {
    "id": "PD46r1ZoYm6G"
   },
   "source": [
    "파이토치를 이용해 모델 구현"
   ]
  },
  {
   "cell_type": "code",
   "execution_count": null,
   "metadata": {
    "ExecuteTime": {
     "start_time": "2023-12-06T12:32:00.411Z"
    },
    "executionInfo": {
     "elapsed": 313,
     "status": "ok",
     "timestamp": 1701200449099,
     "user": {
      "displayName": "서은서",
      "userId": "08795597860961939533"
     },
     "user_tz": -540
    },
    "id": "ThbUDCnubTr1"
   },
   "outputs": [],
   "source": [
    "#from sklearn.model_selection import GridsearchCV\n",
    "#from sklearn.linear_model import LinearRegreesion,Lasso,Ridge\n",
    "#from sklearn.metrics import mean_squared_error, mean_absolute_error"
   ]
  },
  {
   "cell_type": "code",
   "execution_count": null,
   "metadata": {
    "ExecuteTime": {
     "start_time": "2023-12-06T12:32:00.413Z"
    },
    "executionInfo": {
     "elapsed": 402,
     "status": "ok",
     "timestamp": 1701201298705,
     "user": {
      "displayName": "서은서",
      "userId": "08795597860961939533"
     },
     "user_tz": -540
    },
    "id": "s551lvaRY2On"
   },
   "outputs": [],
   "source": [
    "# from sklearn.preprocessing import StandardScaler\n",
    "from sklearn.preprocessing import MinMaxScaler #📢 minmax로 수정\n",
    "# scaler = StandardScaler()\n",
    "scaler = MinMaxScaler()\n",
    "\n",
    "normed_train_data = pd.DataFrame(scaler.fit_transform(train_x_new),columns=train_x_new.columns)\n",
    "normed_test_data = pd.DataFrame(scaler.transform(te_df_new),columns=te_df_new.columns)"
   ]
  },
  {
   "cell_type": "code",
   "execution_count": null,
   "metadata": {
    "ExecuteTime": {
     "start_time": "2023-12-06T12:32:00.416Z"
    },
    "executionInfo": {
     "elapsed": 3,
     "status": "aborted",
     "timestamp": 1701200439530,
     "user": {
      "displayName": "서은서",
      "userId": "08795597860961939533"
     },
     "user_tz": -540
    },
    "id": "-4waX9W6af2f"
   },
   "outputs": [],
   "source": [
    "'''\n",
    "def rmse(y,pred):\n",
    "  rmse = np.sqrt(mean_squared_error(y,pred))\n",
    "  return rmse\n",
    "\n",
    "def rmsle(y,pred):\n",
    "  log_y = np.log1p(y)\n",
    "  log_pred = np.log1p(pred)\n",
    "  squared_error = (log_y - log_pred)**2\n",
    "  rmsle = np.sqrt(np.mean(squared_error))\n",
    "  return rmsle\n",
    "\n",
    "def eval_reg(y,pred):\n",
    "  rmse_val = rmse(y,pred)\n",
    "  rmsle_val = rmsle(y,pred)\n",
    "  mae = mean_absolute_error(y,pred)\n",
    "  print('RMSLE : {0:3f} RMSE : {2:3f} MAE : {2:3f}',format(rmsle_val,rmse_val,mae))\n",
    "'''"
   ]
  },
  {
   "cell_type": "code",
   "execution_count": null,
   "metadata": {
    "ExecuteTime": {
     "start_time": "2023-12-06T12:32:00.419Z"
    },
    "executionInfo": {
     "elapsed": 16610,
     "status": "ok",
     "timestamp": 1701200477831,
     "user": {
      "displayName": "서은서",
      "userId": "08795597860961939533"
     },
     "user_tz": -540
    },
    "id": "G_Kqe8KMcT2Y"
   },
   "outputs": [],
   "source": [
    "# import tensorflow as tf"
   ]
  },
  {
   "cell_type": "code",
   "execution_count": null,
   "metadata": {
    "ExecuteTime": {
     "start_time": "2023-12-06T12:32:00.422Z"
    },
    "executionInfo": {
     "elapsed": 403,
     "status": "ok",
     "timestamp": 1701201334709,
     "user": {
      "displayName": "서은서",
      "userId": "08795597860961939533"
     },
     "user_tz": -540
    },
    "id": "gktSsulMbSUG"
   },
   "outputs": [],
   "source": [
    "# def rmsle(y_true, y_pred):\n",
    "#     y_true = tf.cast(y_true, tf.float32)\n",
    "#     y_pred = tf.cast(y_pred, tf.float32)\n",
    "\n",
    "#     squared_error = tf.square(tf.math.log1p(y_pred) - tf.math.log1p(y_true))\n",
    "\n",
    "#     return tf.sqrt(tf.reduce_mean(squared_error))\n",
    "\n",
    "# def loss_fn(y_true, y_pred):\n",
    "#     return rmsle(y_true, y_pred)\n",
    "\n",
    "# def metric_fn(y_true, y_pred):\n",
    "#     return rmsle(y_true, y_pred)"
   ]
  },
  {
   "cell_type": "code",
   "execution_count": null,
   "metadata": {
    "ExecuteTime": {
     "start_time": "2023-12-06T12:32:00.425Z"
    },
    "executionInfo": {
     "elapsed": 2,
     "status": "ok",
     "timestamp": 1701201336156,
     "user": {
      "displayName": "서은서",
      "userId": "08795597860961939533"
     },
     "user_tz": -540
    },
    "id": "9OBMUkOucJov"
   },
   "outputs": [],
   "source": [
    "# callbacks_list = [\n",
    "#     tf.keras.callbacks.EarlyStopping(monitor='val_loss', patience=30, verbose=2, mode='min',restore_best_weights=True),\n",
    "#     tf.keras.callbacks.ReduceLROnPlateau(monitor='val_loss', factor=0.8, patience=3, min_lr=0.00001),\n",
    "#     tf.keras.callbacks.TerminateOnNaN()\n",
    "# ]"
   ]
  },
  {
   "cell_type": "code",
   "execution_count": null,
   "metadata": {
    "ExecuteTime": {
     "start_time": "2023-12-06T12:32:00.428Z"
    },
    "colab": {
     "base_uri": "https://localhost:8080/"
    },
    "executionInfo": {
     "elapsed": 149771,
     "status": "ok",
     "timestamp": 1701201509870,
     "user": {
      "displayName": "서은서",
      "userId": "08795597860961939533"
     },
     "user_tz": -540
    },
    "id": "lMyMXiemcK98",
    "outputId": "1bac050a-e603-4a52-d632-f3515c3df36e"
   },
   "outputs": [],
   "source": [
    "# def create_model():\n",
    "\n",
    "#     input_layer = tf.keras.Input(shape=(len(normed_train_data.columns), ))\n",
    "#     x = tf.keras.layers.BatchNormalization(epsilon=0.00001)(input_layer)\n",
    "#     x = tf.keras.layers.Dense(16, activation='relu')(x)\n",
    "#     #x = tf.keras.layers.BatchNormalization(epsilon=0.00001)(x)\n",
    "#     x = tf.keras.layers.Dense(32, activation='relu')(x)\n",
    "#     #x = tf.keras.layers.BatchNormalization(epsilon=0.00001)(x)\n",
    "#     output_layer = tf.keras.layers.Dense(1)(x)\n",
    "\n",
    "#     model = tf.keras.Model(inputs=input_layer, outputs=output_layer)\n",
    "\n",
    "#     model.compile(optimizer=tf.keras.optimizers.Adam(0.001),\n",
    "#                   loss=loss_fn,\n",
    "#                   metrics=[metric_fn]\n",
    "#                   )\n",
    "\n",
    "#     return model\n",
    "\n",
    "# model = create_model()\n",
    "# history = model.fit(normed_train_data.astype('float32'), train_y_log.astype('float32'), #type 맞춰줘야함!!!!\n",
    "#                     epochs=100,\n",
    "#                     callbacks=callbacks_list,\n",
    "#                     validation_split=0.1)"
   ]
  },
  {
   "cell_type": "code",
   "execution_count": null,
   "metadata": {
    "ExecuteTime": {
     "start_time": "2023-12-06T12:32:00.431Z"
    },
    "colab": {
     "base_uri": "https://localhost:8080/"
    },
    "executionInfo": {
     "elapsed": 585,
     "status": "ok",
     "timestamp": 1701201272859,
     "user": {
      "displayName": "서은서",
      "userId": "08795597860961939533"
     },
     "user_tz": -540
    },
    "id": "SvsXw4ZVdIKt",
    "outputId": "d536095e-eeaf-4712-ced3-cd4b5ac4990b"
   },
   "outputs": [],
   "source": [
    "# # 이미 float64형\n",
    "# normed_train_data.info()"
   ]
  },
  {
   "cell_type": "code",
   "execution_count": null,
   "metadata": {
    "ExecuteTime": {
     "start_time": "2023-12-06T12:32:00.434Z"
    },
    "colab": {
     "base_uri": "https://localhost:8080/"
    },
    "executionInfo": {
     "elapsed": 509,
     "status": "ok",
     "timestamp": 1701200748152,
     "user": {
      "displayName": "서은서",
      "userId": "08795597860961939533"
     },
     "user_tz": -540
    },
    "id": "nzuXWuQkc8zq",
    "outputId": "f7b22083-f7a1-48f9-d116-1bc378e5ff17"
   },
   "outputs": [],
   "source": [
    "# train_y_log"
   ]
  },
  {
   "cell_type": "code",
   "execution_count": null,
   "metadata": {
    "ExecuteTime": {
     "start_time": "2023-12-06T12:32:00.437Z"
    },
    "colab": {
     "base_uri": "https://localhost:8080/",
     "height": 449
    },
    "executionInfo": {
     "elapsed": 44778,
     "status": "ok",
     "timestamp": 1701201563988,
     "user": {
      "displayName": "서은서",
      "userId": "08795597860961939533"
     },
     "user_tz": -540
    },
    "id": "QngBn_-ABv6B",
    "outputId": "9e5daca4-3903-456d-8477-c32d2dc90eda"
   },
   "outputs": [],
   "source": [
    "# # train loss, val loss 시각화\n",
    "# import matplotlib.pyplot as plt\n",
    "\n",
    "# plt.plot(history.history['loss'], 'b-', label='loss')\n",
    "# plt.plot(history.history['val_loss'], 'r--', label='val_loss')\n",
    "# plt.xlabel('Epoch')\n",
    "# plt.legend()\n",
    "# plt.show()"
   ]
  },
  {
   "cell_type": "code",
   "execution_count": null,
   "metadata": {
    "ExecuteTime": {
     "start_time": "2023-12-06T12:32:00.440Z"
    },
    "colab": {
     "base_uri": "https://localhost:8080/"
    },
    "executionInfo": {
     "elapsed": 3122,
     "status": "ok",
     "timestamp": 1701201617088,
     "user": {
      "displayName": "서은서",
      "userId": "08795597860961939533"
     },
     "user_tz": -540
    },
    "id": "dS0zlzi_BxOu",
    "outputId": "f7a96f34-2b5e-4854-9f85-78d5351987b8"
   },
   "outputs": [],
   "source": [
    "# sample_submission = pd.read_csv('/content/drive/Othercomputers/내 Mac/공모전 준비/sample_submission.csv')\n",
    "\n",
    "# sample_submission[\"ECLO\"] = np.expm1(model.predict(normed_test_data.astype('float32')))\n",
    "\n",
    "# sample_submission.to_csv(\"/content/drive/Othercomputers/내 Mac/공모전 준비/submission_ver8.csv\", index=False)"
   ]
  },
  {
   "cell_type": "code",
   "execution_count": null,
   "metadata": {
    "ExecuteTime": {
     "start_time": "2023-12-06T12:32:00.444Z"
    },
    "colab": {
     "base_uri": "https://localhost:8080/",
     "height": 424
    },
    "executionInfo": {
     "elapsed": 478,
     "status": "ok",
     "timestamp": 1701201620007,
     "user": {
      "displayName": "서은서",
      "userId": "08795597860961939533"
     },
     "user_tz": -540
    },
    "id": "fMknpCXGWT7Z",
    "outputId": "fe4f8616-478b-4413-af2b-7cedcfcd39f2"
   },
   "outputs": [],
   "source": [
    "# sample_submission"
   ]
  },
  {
   "cell_type": "code",
   "execution_count": null,
   "metadata": {
    "ExecuteTime": {
     "end_time": "2023-12-05T14:39:28.929658Z",
     "start_time": "2023-12-05T14:39:28.672338Z"
    }
   },
   "outputs": [],
   "source": []
  },
  {
   "cell_type": "code",
   "execution_count": null,
   "metadata": {
    "ExecuteTime": {
     "start_time": "2023-12-06T12:32:00.449Z"
    }
   },
   "outputs": [],
   "source": [
    "#📢토치 모델\n",
    "import copy\n",
    "\n",
    "# Early stopping (see module 3.4)\n",
    "class EarlyStopping:\n",
    "    def __init__(self, patience=5, min_delta=0, restore_best_weights=True):\n",
    "        self.patience = patience\n",
    "        self.min_delta = min_delta\n",
    "        self.restore_best_weights = restore_best_weights\n",
    "        self.best_model = None\n",
    "        self.best_loss = None\n",
    "        self.counter = 0\n",
    "        self.status = \"\"\n",
    "\n",
    "    def __call__(self, model, val_loss):\n",
    "        if self.best_loss is None:\n",
    "            self.best_loss = val_loss\n",
    "            self.best_model = copy.deepcopy(model.state_dict())\n",
    "        elif self.best_loss - val_loss >= self.min_delta:\n",
    "            self.best_model = copy.deepcopy(model.state_dict())\n",
    "            self.best_loss = val_loss\n",
    "            self.counter = 0\n",
    "            self.status = f\"Improvement found, counter reset to {self.counter}\"\n",
    "        else:\n",
    "            self.counter += 1\n",
    "            self.status = f\"No improvement in the last {self.counter} epochs\"\n",
    "            if self.counter >= self.patience:\n",
    "                self.status = f\"Early stopping triggered after {self.counter} epochs.\"\n",
    "                if self.restore_best_weights:\n",
    "                    model.load_state_dict(self.best_model)\n",
    "                return True\n",
    "        return False\n",
    "\n",
    "class RMSLELoss(nn.Module):\n",
    "    def __init__(self):\n",
    "        super().__init__()\n",
    "        self.mse = nn.MSELoss()\n",
    "        \n",
    "    def forward(self,y_pred,y_true):\n",
    "        rmsle = torch.sqrt(self.mse(torch.log1p(y_pred),torch.log1p(y_true)))\n",
    "        return rmsle\n",
    "    \n",
    "class Model(nn.Module):\n",
    "    def __init__(self, input_dim):\n",
    "        super(Model, self).__init__()\n",
    "        self.seq = nn.Sequential(nn.Linear(input_dim, 32, bias=True),\n",
    "                                nn.BatchNorm1d(1),\n",
    "                                nn.ReLU(),\n",
    "                                nn.Linear(32,64),\n",
    "#                                 nn.BatchNorm1d(1),\n",
    "                                nn.Dropout(0.25),\n",
    "                                nn.ReLU(),\n",
    "                                nn.Linear(64,1))\n",
    "    def forward(self, x):\n",
    "        out = self.seq(x)\n",
    "        return out\n",
    "    \n",
    "### random seed setting\n",
    "torch.manual_seed(42)"
   ]
  },
  {
   "cell_type": "code",
   "execution_count": null,
   "metadata": {
    "ExecuteTime": {
     "start_time": "2023-12-06T12:32:00.452Z"
    }
   },
   "outputs": [],
   "source": [
    "# GPU device\n",
    "# GPU 확인\n",
    "print(torch.cuda.is_available())\n",
    "device = torch.device('cuda:0') if torch.cuda.is_available() else torch.device('cpu')\n",
    "print(torch.cuda.get_device_name())\n",
    "print(torch.cuda.device_count())"
   ]
  },
  {
   "cell_type": "code",
   "execution_count": null,
   "metadata": {
    "ExecuteTime": {
     "start_time": "2023-12-06T12:32:00.456Z"
    }
   },
   "outputs": [],
   "source": [
    "# dataset\n",
    "'''\n",
    "normed_train_data, train_y_log\n",
    "normed_test_data\n",
    "'''"
   ]
  },
  {
   "cell_type": "code",
   "execution_count": null,
   "metadata": {
    "ExecuteTime": {
     "start_time": "2023-12-06T12:32:00.459Z"
    }
   },
   "outputs": [],
   "source": [
    "# prepare tensor data\n",
    "train_x_tensor = Variable(torch.Tensor(normed_train_data.values.astype('float64'))).unsqueeze(1).to(device)\n",
    "train_y_tensor = Variable(torch.Tensor(train_y_log.astype('float64'))).unsqueeze(1).to(device)\n",
    "test_x_tensor = Variable(torch.Tensor(normed_test_data.values.astype('float64'))).unsqueeze(1).to(device)"
   ]
  },
  {
   "cell_type": "code",
   "execution_count": null,
   "metadata": {
    "ExecuteTime": {
     "start_time": "2023-12-06T12:32:00.462Z"
    }
   },
   "outputs": [],
   "source": [
    "kf = KFold(n_splits=5, shuffle=True, random_state=42)\n",
    "patience = 50\n",
    "fold = 0\n",
    "for train_idx, val_idx in kf.split(train_x_tensor):\n",
    "    fold += 1\n",
    "    print(f'Fold #{fold}')\n",
    "    x_train, x_val = train_x_tensor[train_idx], train_x_tensor[val_idx]\n",
    "    y_train, y_val = train_y_tensor[train_idx], train_y_tensor[val_idx]\n",
    "    \n",
    "    # DataLoader\n",
    "    train_dataset = TensorDataset(x_train, y_train)\n",
    "    train_loader = DataLoader(train_dataset, batch_size=128, shuffle=True)\n",
    "    \n",
    "    # Create model\n",
    "    model = Model(train_x_tensor.size(2)).to(device) # = num_features\n",
    "    \n",
    "    # Optimizer, criterion\n",
    "    optimizer = optim.Adam(model.parameters())\n",
    "    loss_fn = RMSLELoss()\n",
    "    \n",
    "    # EarlyStopping\n",
    "    best_loss = float('inf')\n",
    "    early_stopping_counter = 0\n",
    "    \n",
    "    # Training loop\n",
    "    EPOCHS = 500\n",
    "    epoch = 0\n",
    "    done = False\n",
    "    es = EarlyStopping(patience=patience)\n",
    "    \n",
    "    while not done and epoch<EPOCHS:\n",
    "        epoch += 1\n",
    "        model.train() # set as train mode\n",
    "        for x_batch, y_batch in train_loader:\n",
    "            x_batch, y_batch = x_batch.to(device), y_batch.to(device)\n",
    "            optimizer.zero_grad()\n",
    "            output = model(x_batch)\n",
    "            loss = loss_fn(output,y_batch)\n",
    "            loss.backward()\n",
    "            optimizer.step()\n",
    "        \n",
    "        # Validation\n",
    "        model.eval() # set as test mode\n",
    "        with torch.no_grad():\n",
    "            val_output = model(x_val)\n",
    "            val_loss = loss_fn(val_output, y_val)\n",
    "        if es(model, val_loss):\n",
    "            done = True\n",
    "    \n",
    "    print(f\"Epoch: {epoch}/{EPOCHS}, Validation Loss: {val_loss.item()}, {es.status}\")"
   ]
  },
  {
   "cell_type": "code",
   "execution_count": null,
   "metadata": {
    "ExecuteTime": {
     "start_time": "2023-12-06T12:32:00.466Z"
    }
   },
   "outputs": [],
   "source": [
    "# Predict\n",
    "final_pred = model(test_x_tensor)"
   ]
  },
  {
   "cell_type": "code",
   "execution_count": null,
   "metadata": {
    "ExecuteTime": {
     "start_time": "2023-12-06T12:32:00.470Z"
    }
   },
   "outputs": [],
   "source": [
    "# check output\n",
    "final_pred_log = final_pred.detach().squeeze(1).to('cpu').numpy()\n",
    "final_pred = np.expm1(final_pred_log)\n",
    "print(final_pred.shape, final_pred[:10])"
   ]
  },
  {
   "cell_type": "code",
   "execution_count": null,
   "metadata": {
    "ExecuteTime": {
     "start_time": "2023-12-06T12:32:00.473Z"
    }
   },
   "outputs": [],
   "source": [
    "sample = pd.read_csv(path+'sample_submission.csv')\n",
    "sample['ECLO'] = final_pred\n",
    "sample"
   ]
  },
  {
   "cell_type": "code",
   "execution_count": null,
   "metadata": {
    "ExecuteTime": {
     "start_time": "2023-12-06T12:32:00.476Z"
    }
   },
   "outputs": [],
   "source": [
    "sample = pd.read_csv(path+'sample_submission.csv')\n",
    "sample['ECLO'] = final_pred\n",
    "sample"
   ]
  },
  {
   "cell_type": "code",
   "execution_count": null,
   "metadata": {
    "ExecuteTime": {
     "start_time": "2023-12-06T12:32:00.479Z"
    }
   },
   "outputs": [],
   "source": [
    "# save\n",
    "sample.to_csv(\"../data/submits/torch_basic_1204_001.csv\",index=False)"
   ]
  },
  {
   "cell_type": "code",
   "execution_count": null,
   "metadata": {},
   "outputs": [],
   "source": []
  }
 ],
 "metadata": {
  "colab": {
   "provenance": []
  },
  "kernelspec": {
   "display_name": "Python 3 (ipykernel)",
   "language": "python",
   "name": "python3"
  },
  "language_info": {
   "codemirror_mode": {
    "name": "ipython",
    "version": 3
   },
   "file_extension": ".py",
   "mimetype": "text/x-python",
   "name": "python",
   "nbconvert_exporter": "python",
   "pygments_lexer": "ipython3",
   "version": "3.9.6"
  },
  "toc": {
   "base_numbering": 1,
   "nav_menu": {},
   "number_sections": false,
   "sideBar": true,
   "skip_h1_title": false,
   "title_cell": "Table of Contents",
   "title_sidebar": "Contents",
   "toc_cell": false,
   "toc_position": {},
   "toc_section_display": true,
   "toc_window_display": false
  }
 },
 "nbformat": 4,
 "nbformat_minor": 1
}
