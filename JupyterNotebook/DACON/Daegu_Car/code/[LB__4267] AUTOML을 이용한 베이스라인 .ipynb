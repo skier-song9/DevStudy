{
 "cells": [
  {
   "cell_type": "code",
   "execution_count": 1,
   "id": "qOczQMBWT2fZ",
   "metadata": {
    "ExecuteTime": {
     "end_time": "2023-12-06T18:31:45.048755Z",
     "start_time": "2023-12-06T18:31:45.034757Z"
    },
    "colab": {
     "base_uri": "https://localhost:8080/"
    },
    "executionInfo": {
     "elapsed": 19409,
     "status": "ok",
     "timestamp": 1701853102966,
     "user": {
      "displayName": "skiersong9",
      "userId": "11108221763786546299"
     },
     "user_tz": -540
    },
    "id": "qOczQMBWT2fZ",
    "outputId": "63869dea-d6c0-4bbc-b61f-1a79bfd6fc7f"
   },
   "outputs": [],
   "source": [
    "# from google.colab import drive\n",
    "# drive.mount('/content/drive')"
   ]
  },
  {
   "cell_type": "code",
   "execution_count": 2,
   "id": "4kXpWiNET2Xg",
   "metadata": {
    "ExecuteTime": {
     "end_time": "2023-12-06T18:31:45.064756Z",
     "start_time": "2023-12-06T18:31:45.051756Z"
    },
    "colab": {
     "base_uri": "https://localhost:8080/"
    },
    "executionInfo": {
     "elapsed": 24262,
     "status": "ok",
     "timestamp": 1701853127222,
     "user": {
      "displayName": "skiersong9",
      "userId": "11108221763786546299"
     },
     "user_tz": -540
    },
    "id": "4kXpWiNET2Xg",
    "outputId": "01951975-3e3f-4bc2-c112-fd532ddf256d"
   },
   "outputs": [],
   "source": [
    "# # !pip install tensorflow\n",
    "# !pip install category_encoders\n",
    "# !pip install dacon_submit_api-0.0.4-py3-none-any.whl\n",
    "# !pip install mljar-supervised"
   ]
  },
  {
   "cell_type": "code",
   "execution_count": 1,
   "id": "H9h_njVYT2Na",
   "metadata": {
    "ExecuteTime": {
     "end_time": "2023-12-10T05:06:14.572277Z",
     "start_time": "2023-12-10T05:06:08.479856Z"
    },
    "executionInfo": {
     "elapsed": 4402,
     "status": "ok",
     "timestamp": 1701853233903,
     "user": {
      "displayName": "skiersong9",
      "userId": "11108221763786546299"
     },
     "user_tz": -540
    },
    "id": "H9h_njVYT2Na"
   },
   "outputs": [],
   "source": [
    "# from pycaret.time_series import *\n",
    "\n",
    "import pandas as pd\n",
    "from pandas import Series, DataFrame\n",
    "import numpy as np\n",
    "import category_encoders as ce\n",
    "\n",
    "# Visualization\n",
    "import matplotlib.pylab as plt\n",
    "from matplotlib import font_manager, rc\n",
    "import matplotlib\n",
    "import seaborn as sns\n",
    "# import plotly.express as px\n",
    "%matplotlib inline\n",
    "matplotlib.rcParams['font.family'] = 'Malgun Gothic' # 한글 패치\n",
    "# Preprocessing & Feature Engineering\n",
    "from sklearn.model_selection import train_test_split\n",
    "from sklearn.preprocessing import MinMaxScaler, LabelEncoder\n",
    "from sklearn.impute import SimpleImputer\n",
    "from sklearn.preprocessing import StandardScaler\n",
    "from sklearn.preprocessing import MinMaxScaler\n",
    "from sklearn.preprocessing import PowerTransformer\n",
    "from sklearn.feature_selection import SelectPercentile\n",
    "from sklearn.model_selection import KFold\n",
    "\n",
    "# Hyperparameter Optimization\n",
    "from sklearn.model_selection import GridSearchCV\n",
    "from sklearn.model_selection import RandomizedSearchCV\n",
    "\n",
    "# Modeling\n",
    "# from sklearn.dummy import DummyClassifier\n",
    "from sklearn.linear_model import LogisticRegression\n",
    "# from sklearn.neighbors import KNeighborsClassifier\n",
    "# from sklearn.ensemble import RandomForestClassifier\n",
    "# from sklearn.neural_network import MLPClassifier\n",
    "# from sklearn.tree import DecisionTreeClassifier\n",
    "# from sklearn.ensemble import ExtraTreesClassifier\n",
    "# from sklearn.ensemble import GradientBoostingClassifier\n",
    "from xgboost import XGBClassifier, XGBRegressor, XGBRFRegressor\n",
    "from lightgbm import LGBMClassifier, LGBMRegressor\n",
    "from sklearn.svm import SVC\n",
    "from sklearn.ensemble import VotingClassifier, VotingRegressor\n",
    "from sklearn.ensemble import StackingClassifier, StackingRegressor\n",
    "# from sklearn.base import ClassifierMixin\n",
    "\n",
    "# CatBoost\n",
    "# from catboost import CatBoostRegressor\n",
    "\n",
    "# PyTorch\n",
    "# import torch\n",
    "# from torch.utils.data import Dataset, DataLoader, TensorDataset\n",
    "# import torch.nn as nn\n",
    "# import torch.nn.functional as F\n",
    "# import torch.optim as optim\n",
    "# from torch.autograd import Variable\n",
    "# from torch.nn import Parameter\n",
    "# from torch import Tensor\n",
    "# from torch.utils.data import DataLoader\n",
    "\n",
    "# # for Torch hyper parameter tuning\n",
    "# from functools import partial\n",
    "# from torch.utils.data import random_split\n",
    "# import torchvision\n",
    "# import torchvision.transforms as transforms\n",
    "# from ray import tune\n",
    "# from ray.tune import CLIReporter\n",
    "# from ray.tune.schedulers import ASHAScheduler\n",
    "\n",
    "# Evaluation\n",
    "from sklearn.metrics import roc_auc_score\n",
    "from sklearn.metrics import accuracy_score\n",
    "from sklearn.model_selection import cross_val_score\n",
    "from sklearn.metrics import log_loss,mean_squared_error\n",
    "\n",
    "# Utility\n",
    "import os\n",
    "import time\n",
    "import datetime # ⚠️2019년 12월30일과 31일의 week of year가 1인 오류가 있음\n",
    "import random\n",
    "import warnings; warnings.filterwarnings(\"ignore\")\n",
    "from IPython.display import Image\n",
    "import pickle\n",
    "from tqdm import tqdm\n",
    "import platform\n",
    "from itertools import combinations\n",
    "from scipy.stats.mstats import gmean\n",
    "import holidays\n",
    "\n",
    "# from bayes_opt import BayesianOptimization\n",
    "# from num2words import num2words\n",
    "import statsmodels.api as sm\n",
    "import statsmodels.formula.api as smf\n",
    "from statsmodels.stats.outliers_influence import OLSInfluence\n",
    "\n",
    "pd.set_option('display.max_columns', None)"
   ]
  },
  {
   "cell_type": "code",
   "execution_count": 2,
   "id": "bc61c7b3",
   "metadata": {
    "ExecuteTime": {
     "end_time": "2023-12-10T05:06:14.745976Z",
     "start_time": "2023-12-10T05:06:14.574282Z"
    },
    "executionInfo": {
     "elapsed": 712,
     "status": "ok",
     "timestamp": 1701853289826,
     "user": {
      "displayName": "skiersong9",
      "userId": "11108221763786546299"
     },
     "user_tz": -540
    },
    "id": "bc61c7b3"
   },
   "outputs": [],
   "source": [
    "import os\n",
    "import random\n",
    "\n",
    "def seed_everything(seed):\n",
    "    random.seed(seed)\n",
    "    os.environ['PYTHONHASHSEED'] = str(seed)\n",
    "    np.random.seed(seed)\n",
    "\n",
    "seed_everything(42) # Seed 고정\n",
    "\n",
    "path = '../data/daegu/'\n",
    "# path = './drive/MyDrive/Colab Notebooks/data/daegu/'\n",
    "train_df = pd.read_csv(path+'train.csv')\n",
    "test_df = pd.read_csv(path+'test.csv')\n",
    "\n",
    "# display(train.head())\n",
    "# display(test.head())"
   ]
  },
  {
   "cell_type": "code",
   "execution_count": 3,
   "id": "f0b21402",
   "metadata": {
    "ExecuteTime": {
     "end_time": "2023-12-10T05:06:24.480738Z",
     "start_time": "2023-12-10T05:06:14.747979Z"
    },
    "executionInfo": {
     "elapsed": 7970,
     "status": "ok",
     "timestamp": 1701853274815,
     "user": {
      "displayName": "skiersong9",
      "userId": "11108221763786546299"
     },
     "user_tz": -540
    },
    "id": "f0b21402"
   },
   "outputs": [],
   "source": [
    "import numpy as np\n",
    "from supervised import AutoML"
   ]
  },
  {
   "cell_type": "code",
   "execution_count": 4,
   "id": "d77108cd",
   "metadata": {
    "ExecuteTime": {
     "end_time": "2023-12-10T05:06:24.512391Z",
     "start_time": "2023-12-10T05:06:24.483743Z"
    },
    "executionInfo": {
     "elapsed": 634,
     "status": "ok",
     "timestamp": 1701853293089,
     "user": {
      "displayName": "skiersong9",
      "userId": "11108221763786546299"
     },
     "user_tz": -540
    },
    "id": "d77108cd"
   },
   "outputs": [],
   "source": [
    "train_df['사고일시'] = pd.to_datetime(train_df['사고일시'])"
   ]
  },
  {
   "cell_type": "code",
   "execution_count": 5,
   "id": "9ebc6ad3",
   "metadata": {
    "ExecuteTime": {
     "end_time": "2023-12-10T05:06:24.527904Z",
     "start_time": "2023-12-10T05:06:24.514458Z"
    },
    "executionInfo": {
     "elapsed": 1,
     "status": "ok",
     "timestamp": 1701853294026,
     "user": {
      "displayName": "skiersong9",
      "userId": "11108221763786546299"
     },
     "user_tz": -540
    },
    "id": "9ebc6ad3"
   },
   "outputs": [],
   "source": [
    "test_df['사고일시'] = pd.to_datetime(test_df['사고일시'])"
   ]
  },
  {
   "cell_type": "markdown",
   "id": "5beb4fb1-5734-411c-8114-55da7dc6397f",
   "metadata": {
    "id": "5beb4fb1-5734-411c-8114-55da7dc6397f"
   },
   "source": [
    "# 군과 구를 나눠줍니다"
   ]
  },
  {
   "cell_type": "code",
   "execution_count": 6,
   "id": "6a04ad6a",
   "metadata": {
    "ExecuteTime": {
     "end_time": "2023-12-10T05:06:29.450686Z",
     "start_time": "2023-12-10T05:06:28.023158Z"
    },
    "colab": {
     "base_uri": "https://localhost:8080/"
    },
    "executionInfo": {
     "elapsed": 4291,
     "status": "ok",
     "timestamp": 1701853301335,
     "user": {
      "displayName": "skiersong9",
      "userId": "11108221763786546299"
     },
     "user_tz": -540
    },
    "id": "6a04ad6a",
    "outputId": "91360a21-e747-4e6a-8fa1-adffca4f867f",
    "scrolled": true
   },
   "outputs": [
    {
     "data": {
      "text/html": [
       "<div>\n",
       "<style scoped>\n",
       "    .dataframe tbody tr th:only-of-type {\n",
       "        vertical-align: middle;\n",
       "    }\n",
       "\n",
       "    .dataframe tbody tr th {\n",
       "        vertical-align: top;\n",
       "    }\n",
       "\n",
       "    .dataframe thead th {\n",
       "        text-align: right;\n",
       "    }\n",
       "</style>\n",
       "<table border=\"1\" class=\"dataframe\">\n",
       "  <thead>\n",
       "    <tr style=\"text-align: right;\">\n",
       "      <th></th>\n",
       "      <th>ID</th>\n",
       "      <th>사고일시</th>\n",
       "      <th>요일</th>\n",
       "      <th>기상상태</th>\n",
       "      <th>시군구</th>\n",
       "      <th>도로형태</th>\n",
       "      <th>노면상태</th>\n",
       "      <th>사고유형</th>\n",
       "      <th>사고유형 - 세부분류</th>\n",
       "      <th>법규위반</th>\n",
       "      <th>가해운전자 차종</th>\n",
       "      <th>가해운전자 성별</th>\n",
       "      <th>가해운전자 연령</th>\n",
       "      <th>가해운전자 상해정도</th>\n",
       "      <th>피해운전자 차종</th>\n",
       "      <th>피해운전자 성별</th>\n",
       "      <th>피해운전자 연령</th>\n",
       "      <th>피해운전자 상해정도</th>\n",
       "      <th>사망자수</th>\n",
       "      <th>중상자수</th>\n",
       "      <th>경상자수</th>\n",
       "      <th>부상자수</th>\n",
       "      <th>ECLO</th>\n",
       "      <th>군</th>\n",
       "      <th>구</th>\n",
       "    </tr>\n",
       "  </thead>\n",
       "  <tbody>\n",
       "    <tr>\n",
       "      <th>0</th>\n",
       "      <td>ACCIDENT_00000</td>\n",
       "      <td>2019-01-01 00:00:00</td>\n",
       "      <td>화요일</td>\n",
       "      <td>맑음</td>\n",
       "      <td>대구광역시 중구 대신동</td>\n",
       "      <td>단일로 - 기타</td>\n",
       "      <td>건조</td>\n",
       "      <td>차대사람</td>\n",
       "      <td>길가장자리구역통행중</td>\n",
       "      <td>안전운전불이행</td>\n",
       "      <td>승용</td>\n",
       "      <td>여</td>\n",
       "      <td>51세</td>\n",
       "      <td>상해없음</td>\n",
       "      <td>보행자</td>\n",
       "      <td>여</td>\n",
       "      <td>70세</td>\n",
       "      <td>중상</td>\n",
       "      <td>0</td>\n",
       "      <td>1</td>\n",
       "      <td>0</td>\n",
       "      <td>0</td>\n",
       "      <td>5</td>\n",
       "      <td>중구</td>\n",
       "      <td>대신동</td>\n",
       "    </tr>\n",
       "    <tr>\n",
       "      <th>1</th>\n",
       "      <td>ACCIDENT_00001</td>\n",
       "      <td>2019-01-01 00:00:00</td>\n",
       "      <td>화요일</td>\n",
       "      <td>흐림</td>\n",
       "      <td>대구광역시 달서구 감삼동</td>\n",
       "      <td>단일로 - 기타</td>\n",
       "      <td>건조</td>\n",
       "      <td>차대사람</td>\n",
       "      <td>보도통행중</td>\n",
       "      <td>기타</td>\n",
       "      <td>승용</td>\n",
       "      <td>남</td>\n",
       "      <td>39세</td>\n",
       "      <td>상해없음</td>\n",
       "      <td>보행자</td>\n",
       "      <td>남</td>\n",
       "      <td>61세</td>\n",
       "      <td>경상</td>\n",
       "      <td>0</td>\n",
       "      <td>0</td>\n",
       "      <td>1</td>\n",
       "      <td>0</td>\n",
       "      <td>3</td>\n",
       "      <td>달서구</td>\n",
       "      <td>감삼동</td>\n",
       "    </tr>\n",
       "    <tr>\n",
       "      <th>2</th>\n",
       "      <td>ACCIDENT_00002</td>\n",
       "      <td>2019-01-01 01:00:00</td>\n",
       "      <td>화요일</td>\n",
       "      <td>맑음</td>\n",
       "      <td>대구광역시 수성구 두산동</td>\n",
       "      <td>단일로 - 기타</td>\n",
       "      <td>건조</td>\n",
       "      <td>차대사람</td>\n",
       "      <td>차도통행중</td>\n",
       "      <td>안전운전불이행</td>\n",
       "      <td>승용</td>\n",
       "      <td>남</td>\n",
       "      <td>70세</td>\n",
       "      <td>상해없음</td>\n",
       "      <td>보행자</td>\n",
       "      <td>남</td>\n",
       "      <td>38세</td>\n",
       "      <td>경상</td>\n",
       "      <td>0</td>\n",
       "      <td>0</td>\n",
       "      <td>1</td>\n",
       "      <td>0</td>\n",
       "      <td>3</td>\n",
       "      <td>수성구</td>\n",
       "      <td>두산동</td>\n",
       "    </tr>\n",
       "    <tr>\n",
       "      <th>3</th>\n",
       "      <td>ACCIDENT_00003</td>\n",
       "      <td>2019-01-01 02:00:00</td>\n",
       "      <td>화요일</td>\n",
       "      <td>맑음</td>\n",
       "      <td>대구광역시 북구 복현동</td>\n",
       "      <td>단일로 - 기타</td>\n",
       "      <td>건조</td>\n",
       "      <td>차대차</td>\n",
       "      <td>추돌</td>\n",
       "      <td>안전운전불이행</td>\n",
       "      <td>승용</td>\n",
       "      <td>남</td>\n",
       "      <td>49세</td>\n",
       "      <td>상해없음</td>\n",
       "      <td>승용</td>\n",
       "      <td>남</td>\n",
       "      <td>36세</td>\n",
       "      <td>중상</td>\n",
       "      <td>0</td>\n",
       "      <td>1</td>\n",
       "      <td>0</td>\n",
       "      <td>0</td>\n",
       "      <td>5</td>\n",
       "      <td>북구</td>\n",
       "      <td>복현동</td>\n",
       "    </tr>\n",
       "    <tr>\n",
       "      <th>4</th>\n",
       "      <td>ACCIDENT_00004</td>\n",
       "      <td>2019-01-01 04:00:00</td>\n",
       "      <td>화요일</td>\n",
       "      <td>맑음</td>\n",
       "      <td>대구광역시 동구 신암동</td>\n",
       "      <td>단일로 - 기타</td>\n",
       "      <td>건조</td>\n",
       "      <td>차대차</td>\n",
       "      <td>추돌</td>\n",
       "      <td>안전운전불이행</td>\n",
       "      <td>승용</td>\n",
       "      <td>남</td>\n",
       "      <td>30세</td>\n",
       "      <td>상해없음</td>\n",
       "      <td>승용</td>\n",
       "      <td>남</td>\n",
       "      <td>52세</td>\n",
       "      <td>경상</td>\n",
       "      <td>0</td>\n",
       "      <td>0</td>\n",
       "      <td>1</td>\n",
       "      <td>0</td>\n",
       "      <td>3</td>\n",
       "      <td>동구</td>\n",
       "      <td>신암동</td>\n",
       "    </tr>\n",
       "  </tbody>\n",
       "</table>\n",
       "</div>"
      ],
      "text/plain": [
       "               ID                사고일시   요일 기상상태            시군구      도로형태 노면상태  \\\n",
       "0  ACCIDENT_00000 2019-01-01 00:00:00  화요일   맑음   대구광역시 중구 대신동  단일로 - 기타   건조   \n",
       "1  ACCIDENT_00001 2019-01-01 00:00:00  화요일   흐림  대구광역시 달서구 감삼동  단일로 - 기타   건조   \n",
       "2  ACCIDENT_00002 2019-01-01 01:00:00  화요일   맑음  대구광역시 수성구 두산동  단일로 - 기타   건조   \n",
       "3  ACCIDENT_00003 2019-01-01 02:00:00  화요일   맑음   대구광역시 북구 복현동  단일로 - 기타   건조   \n",
       "4  ACCIDENT_00004 2019-01-01 04:00:00  화요일   맑음   대구광역시 동구 신암동  단일로 - 기타   건조   \n",
       "\n",
       "   사고유형 사고유형 - 세부분류     법규위반 가해운전자 차종 가해운전자 성별 가해운전자 연령 가해운전자 상해정도 피해운전자 차종  \\\n",
       "0  차대사람  길가장자리구역통행중  안전운전불이행       승용        여      51세       상해없음      보행자   \n",
       "1  차대사람       보도통행중       기타       승용        남      39세       상해없음      보행자   \n",
       "2  차대사람       차도통행중  안전운전불이행       승용        남      70세       상해없음      보행자   \n",
       "3   차대차          추돌  안전운전불이행       승용        남      49세       상해없음       승용   \n",
       "4   차대차          추돌  안전운전불이행       승용        남      30세       상해없음       승용   \n",
       "\n",
       "  피해운전자 성별 피해운전자 연령 피해운전자 상해정도  사망자수  중상자수  경상자수  부상자수  ECLO    군    구  \n",
       "0        여      70세         중상     0     1     0     0     5   중구  대신동  \n",
       "1        남      61세         경상     0     0     1     0     3  달서구  감삼동  \n",
       "2        남      38세         경상     0     0     1     0     3  수성구  두산동  \n",
       "3        남      36세         중상     0     1     0     0     5   북구  복현동  \n",
       "4        남      52세         경상     0     0     1     0     3   동구  신암동  "
      ]
     },
     "metadata": {},
     "output_type": "display_data"
    }
   ],
   "source": [
    "train_df['군'] = ''\n",
    "train_df['구'] = ''\n",
    "\n",
    "test_df['군'] = ''\n",
    "test_df['구'] = ''\n",
    "\n",
    "# 주소 분리 및 군과 구 열에 저장\n",
    "for i in range(0, len(train_df)):\n",
    "    address = train_df['시군구'][i]\n",
    "    elements = address.split(\" \")\n",
    "    if len(elements) == 3:\n",
    "        city = elements[0]\n",
    "        county = elements[1]\n",
    "        district = elements[2]\n",
    "        train_df.at[i, '군'] = county\n",
    "        train_df.at[i, '구'] = district\n",
    "    else:\n",
    "        print(f\"잘못된 주소 형식입니다: {address}\")\n",
    "\n",
    "# 결과 출력\n",
    "display(train_df.head(5))"
   ]
  },
  {
   "cell_type": "code",
   "execution_count": 7,
   "id": "07b51529-b15f-414c-b520-bc6baac03fba",
   "metadata": {
    "ExecuteTime": {
     "end_time": "2023-12-10T05:06:30.030913Z",
     "start_time": "2023-12-10T05:06:29.620934Z"
    },
    "colab": {
     "base_uri": "https://localhost:8080/"
    },
    "executionInfo": {
     "elapsed": 817,
     "status": "ok",
     "timestamp": 1701853308379,
     "user": {
      "displayName": "skiersong9",
      "userId": "11108221763786546299"
     },
     "user_tz": -540
    },
    "id": "07b51529-b15f-414c-b520-bc6baac03fba",
    "outputId": "ab0df6ba-b8b9-41ae-c21c-12de0a8ae310"
   },
   "outputs": [
    {
     "data": {
      "text/html": [
       "<div>\n",
       "<style scoped>\n",
       "    .dataframe tbody tr th:only-of-type {\n",
       "        vertical-align: middle;\n",
       "    }\n",
       "\n",
       "    .dataframe tbody tr th {\n",
       "        vertical-align: top;\n",
       "    }\n",
       "\n",
       "    .dataframe thead th {\n",
       "        text-align: right;\n",
       "    }\n",
       "</style>\n",
       "<table border=\"1\" class=\"dataframe\">\n",
       "  <thead>\n",
       "    <tr style=\"text-align: right;\">\n",
       "      <th></th>\n",
       "      <th>ID</th>\n",
       "      <th>사고일시</th>\n",
       "      <th>요일</th>\n",
       "      <th>기상상태</th>\n",
       "      <th>시군구</th>\n",
       "      <th>도로형태</th>\n",
       "      <th>노면상태</th>\n",
       "      <th>사고유형</th>\n",
       "      <th>군</th>\n",
       "      <th>구</th>\n",
       "    </tr>\n",
       "  </thead>\n",
       "  <tbody>\n",
       "    <tr>\n",
       "      <th>0</th>\n",
       "      <td>ACCIDENT_39609</td>\n",
       "      <td>2022-01-01 01:00:00</td>\n",
       "      <td>토요일</td>\n",
       "      <td>맑음</td>\n",
       "      <td>대구광역시 수성구 상동</td>\n",
       "      <td>교차로 - 교차로안</td>\n",
       "      <td>건조</td>\n",
       "      <td>차대사람</td>\n",
       "      <td>수성구</td>\n",
       "      <td>상동</td>\n",
       "    </tr>\n",
       "    <tr>\n",
       "      <th>1</th>\n",
       "      <td>ACCIDENT_39610</td>\n",
       "      <td>2022-01-01 01:00:00</td>\n",
       "      <td>토요일</td>\n",
       "      <td>맑음</td>\n",
       "      <td>대구광역시 수성구 지산동</td>\n",
       "      <td>단일로 - 기타</td>\n",
       "      <td>건조</td>\n",
       "      <td>차대사람</td>\n",
       "      <td>수성구</td>\n",
       "      <td>지산동</td>\n",
       "    </tr>\n",
       "    <tr>\n",
       "      <th>2</th>\n",
       "      <td>ACCIDENT_39611</td>\n",
       "      <td>2022-01-01 04:00:00</td>\n",
       "      <td>토요일</td>\n",
       "      <td>맑음</td>\n",
       "      <td>대구광역시 수성구 수성동2가</td>\n",
       "      <td>교차로 - 교차로안</td>\n",
       "      <td>건조</td>\n",
       "      <td>차대차</td>\n",
       "      <td>수성구</td>\n",
       "      <td>수성동2가</td>\n",
       "    </tr>\n",
       "    <tr>\n",
       "      <th>3</th>\n",
       "      <td>ACCIDENT_39612</td>\n",
       "      <td>2022-01-01 04:00:00</td>\n",
       "      <td>토요일</td>\n",
       "      <td>맑음</td>\n",
       "      <td>대구광역시 수성구 신매동</td>\n",
       "      <td>단일로 - 기타</td>\n",
       "      <td>건조</td>\n",
       "      <td>차대차</td>\n",
       "      <td>수성구</td>\n",
       "      <td>신매동</td>\n",
       "    </tr>\n",
       "    <tr>\n",
       "      <th>4</th>\n",
       "      <td>ACCIDENT_39613</td>\n",
       "      <td>2022-01-01 06:00:00</td>\n",
       "      <td>토요일</td>\n",
       "      <td>맑음</td>\n",
       "      <td>대구광역시 달서구 감삼동</td>\n",
       "      <td>교차로 - 교차로안</td>\n",
       "      <td>건조</td>\n",
       "      <td>차대차</td>\n",
       "      <td>달서구</td>\n",
       "      <td>감삼동</td>\n",
       "    </tr>\n",
       "  </tbody>\n",
       "</table>\n",
       "</div>"
      ],
      "text/plain": [
       "               ID                사고일시   요일 기상상태              시군구        도로형태  \\\n",
       "0  ACCIDENT_39609 2022-01-01 01:00:00  토요일   맑음     대구광역시 수성구 상동  교차로 - 교차로안   \n",
       "1  ACCIDENT_39610 2022-01-01 01:00:00  토요일   맑음    대구광역시 수성구 지산동    단일로 - 기타   \n",
       "2  ACCIDENT_39611 2022-01-01 04:00:00  토요일   맑음  대구광역시 수성구 수성동2가  교차로 - 교차로안   \n",
       "3  ACCIDENT_39612 2022-01-01 04:00:00  토요일   맑음    대구광역시 수성구 신매동    단일로 - 기타   \n",
       "4  ACCIDENT_39613 2022-01-01 06:00:00  토요일   맑음    대구광역시 달서구 감삼동  교차로 - 교차로안   \n",
       "\n",
       "  노면상태  사고유형    군      구  \n",
       "0   건조  차대사람  수성구     상동  \n",
       "1   건조  차대사람  수성구    지산동  \n",
       "2   건조   차대차  수성구  수성동2가  \n",
       "3   건조   차대차  수성구    신매동  \n",
       "4   건조   차대차  달서구    감삼동  "
      ]
     },
     "metadata": {},
     "output_type": "display_data"
    }
   ],
   "source": [
    "for i in range(0, len(test_df)):\n",
    "    address = test_df['시군구'][i]\n",
    "    elements = address.split(\" \")\n",
    "    if len(elements) == 3:\n",
    "        city = elements[0]\n",
    "        county = elements[1]\n",
    "        district = elements[2]\n",
    "        test_df.at[i, '군'] = county\n",
    "        test_df.at[i, '구'] = district\n",
    "    else:\n",
    "        print(f\"잘못된 주소 형식입니다: {address}\")\n",
    "\n",
    "# 결과 출력\n",
    "display(test_df.head(5))"
   ]
  },
  {
   "cell_type": "markdown",
   "id": "6a874202-0597-4015-ac4f-300a61d94123",
   "metadata": {
    "id": "6a874202-0597-4015-ac4f-300a61d94123"
   },
   "source": [
    "# 외부 데이터 사용"
   ]
  },
  {
   "cell_type": "code",
   "execution_count": null,
   "id": "9a08cc67",
   "metadata": {
    "ExecuteTime": {
     "end_time": "2023-12-06T10:00:38.751222Z",
     "start_time": "2023-12-06T10:00:38.614487Z"
    }
   },
   "outputs": [],
   "source": []
  },
  {
   "cell_type": "code",
   "execution_count": null,
   "id": "b72b3d38",
   "metadata": {},
   "outputs": [],
   "source": []
  },
  {
   "cell_type": "code",
   "execution_count": null,
   "id": "a33e4cfe",
   "metadata": {},
   "outputs": [],
   "source": []
  },
  {
   "cell_type": "markdown",
   "id": "afefc388-1241-47ff-b92b-08f1ae666923",
   "metadata": {
    "id": "afefc388-1241-47ff-b92b-08f1ae666923"
   },
   "source": [
    "이 부분은 이희원님의 코드를 참고하였습니다."
   ]
  },
  {
   "cell_type": "code",
   "execution_count": 8,
   "id": "378ea03d-2c42-4b9b-b91a-179ee7b149fd",
   "metadata": {
    "ExecuteTime": {
     "end_time": "2023-12-10T05:06:35.186752Z",
     "start_time": "2023-12-10T05:06:34.752715Z"
    },
    "executionInfo": {
     "elapsed": 1795,
     "status": "ok",
     "timestamp": 1701853485802,
     "user": {
      "displayName": "skiersong9",
      "userId": "11108221763786546299"
     },
     "user_tz": -540
    },
    "id": "378ea03d-2c42-4b9b-b91a-179ee7b149fd"
   },
   "outputs": [],
   "source": [
    "light_df = pd.read_csv(path+'external_open/대구 보안등 정보.csv', encoding='cp949')[['설치개수', '소재지지번주소']]\n",
    "\n",
    "location_pattern = r'(\\S+) (\\S+) (\\S+) (\\S+)'\n",
    "\n",
    "light_df[['도시', '군', '구', '번지']] = light_df['소재지지번주소'].str.extract(location_pattern)\n",
    "light_df = light_df.drop(columns=['소재지지번주소', '번지'])\n",
    "\n",
    "light_df = light_df.groupby(['도시', '군', '구']).sum().reset_index()\n",
    "light_df.reset_index(inplace=True, drop=True)"
   ]
  },
  {
   "cell_type": "code",
   "execution_count": 9,
   "id": "d64f4a32-968a-4866-826f-db94d8969824",
   "metadata": {
    "ExecuteTime": {
     "end_time": "2023-12-10T05:06:35.606077Z",
     "start_time": "2023-12-10T05:06:35.566256Z"
    },
    "executionInfo": {
     "elapsed": 661,
     "status": "ok",
     "timestamp": 1701853494511,
     "user": {
      "displayName": "skiersong9",
      "userId": "11108221763786546299"
     },
     "user_tz": -540
    },
    "id": "d64f4a32-968a-4866-826f-db94d8969824"
   },
   "outputs": [],
   "source": [
    "parking_df = pd.read_csv(path+'external_open/대구 주차장 정보.csv', encoding='cp949')[['소재지지번주소', '급지구분']]\n",
    "parking_df = pd.get_dummies(parking_df, columns=['급지구분'])\n",
    "\n",
    "location_pattern = r'(\\S+) (\\S+) (\\S+) (\\S+)'\n",
    "\n",
    "parking_df[['도시', '군', '구', '번지']] = parking_df['소재지지번주소'].str.extract(location_pattern)\n",
    "parking_df = parking_df.drop(columns=['소재지지번주소', '번지'])\n",
    "\n",
    "parking_df = parking_df.groupby(['도시', '군', '구']).sum().reset_index()\n",
    "parking_df.reset_index(inplace=True, drop=True)"
   ]
  },
  {
   "cell_type": "code",
   "execution_count": 10,
   "id": "0e74c2de-f11f-40c5-84f8-807b2d991263",
   "metadata": {
    "ExecuteTime": {
     "end_time": "2023-12-10T05:06:36.478125Z",
     "start_time": "2023-12-10T05:06:36.451091Z"
    },
    "executionInfo": {
     "elapsed": 732,
     "status": "ok",
     "timestamp": 1701853499219,
     "user": {
      "displayName": "skiersong9",
      "userId": "11108221763786546299"
     },
     "user_tz": -540
    },
    "id": "0e74c2de-f11f-40c5-84f8-807b2d991263"
   },
   "outputs": [],
   "source": [
    "child_area_df = pd.read_csv(path+'external_open/대구 어린이 보호 구역 정보.csv', encoding='cp949').drop_duplicates()[['소재지지번주소']]\n",
    "child_area_df['cnt'] = 1\n",
    "\n",
    "location_pattern = r'(\\S+) (\\S+) (\\S+) (\\S+)'\n",
    "\n",
    "child_area_df[['도시', '군', '구', '번지']] = child_area_df['소재지지번주소'].str.extract(location_pattern)\n",
    "child_area_df = child_area_df.drop(columns=['소재지지번주소', '번지'])\n",
    "\n",
    "child_area_df = child_area_df.groupby(['도시', '군', '구']).sum().reset_index()\n",
    "child_area_df.reset_index(inplace=True, drop=True)"
   ]
  },
  {
   "cell_type": "code",
   "execution_count": 11,
   "id": "181e4df5-ba3e-4379-a404-f7d443a0fbdd",
   "metadata": {
    "ExecuteTime": {
     "end_time": "2023-12-10T05:06:37.743988Z",
     "start_time": "2023-12-10T05:06:37.649599Z"
    },
    "executionInfo": {
     "elapsed": 307,
     "status": "ok",
     "timestamp": 1701853501464,
     "user": {
      "displayName": "skiersong9",
      "userId": "11108221763786546299"
     },
     "user_tz": -540
    },
    "id": "181e4df5-ba3e-4379-a404-f7d443a0fbdd"
   },
   "outputs": [],
   "source": [
    "train_df = pd.merge(train_df, light_df, how='left', on=['군', '구'])\n",
    "train_df = pd.merge(train_df, child_area_df, how='left', on=['군', '구'])\n",
    "train_df = pd.merge(train_df, parking_df, how='left', on=['군', '구'])\n",
    "\n",
    "test_df = pd.merge(test_df, light_df, how='left', on=['군', '구'])\n",
    "test_df = pd.merge(test_df, child_area_df, how='left', on=['군', '구'])\n",
    "test_df = pd.merge(test_df, parking_df, how='left', on=['군', '구'])"
   ]
  },
  {
   "cell_type": "code",
   "execution_count": 12,
   "id": "2759c830-d43b-443e-b6a9-484d473691ba",
   "metadata": {
    "ExecuteTime": {
     "end_time": "2023-12-10T05:06:38.466016Z",
     "start_time": "2023-12-10T05:06:38.449068Z"
    },
    "colab": {
     "base_uri": "https://localhost:8080/"
    },
    "executionInfo": {
     "elapsed": 3,
     "status": "ok",
     "timestamp": 1701853502784,
     "user": {
      "displayName": "skiersong9",
      "userId": "11108221763786546299"
     },
     "user_tz": -540
    },
    "id": "2759c830-d43b-443e-b6a9-484d473691ba",
    "outputId": "6a299537-d009-4587-820d-1829d7086212"
   },
   "outputs": [
    {
     "data": {
      "text/plain": [
       "array(['수성구', '달서구', '중구', '동구', '서구', '북구', '남구', '달성군'], dtype=object)"
      ]
     },
     "execution_count": 12,
     "metadata": {},
     "output_type": "execute_result"
    }
   ],
   "source": [
    "test_df['군'].unique()"
   ]
  },
  {
   "cell_type": "code",
   "execution_count": 15,
   "id": "3283fba8",
   "metadata": {
    "ExecuteTime": {
     "end_time": "2023-12-06T18:31:54.179051Z",
     "start_time": "2023-12-06T18:31:53.915416Z"
    }
   },
   "outputs": [
    {
     "ename": "NameError",
     "evalue": "name '멈춰' is not defined",
     "output_type": "error",
     "traceback": [
      "\u001b[1;31m---------------------------------------------------------------------------\u001b[0m",
      "\u001b[1;31mNameError\u001b[0m                                 Traceback (most recent call last)",
      "Cell \u001b[1;32mIn[15], line 1\u001b[0m\n\u001b[1;32m----> 1\u001b[0m \u001b[43m멈춰\u001b[49m\n",
      "\u001b[1;31mNameError\u001b[0m: name '멈춰' is not defined"
     ]
    }
   ],
   "source": [
    "멈춰"
   ]
  },
  {
   "cell_type": "markdown",
   "id": "762fb8da-de65-4846-b538-06ee7370094d",
   "metadata": {
    "id": "762fb8da-de65-4846-b538-06ee7370094d"
   },
   "source": [
    "## One-hot-encoding"
   ]
  },
  {
   "cell_type": "code",
   "execution_count": 13,
   "id": "86ad37af-4123-4975-b938-72bfa74e21fe",
   "metadata": {
    "ExecuteTime": {
     "end_time": "2023-12-10T05:06:42.622120Z",
     "start_time": "2023-12-10T05:06:42.553468Z"
    },
    "executionInfo": {
     "elapsed": 305,
     "status": "ok",
     "timestamp": 1701853506966,
     "user": {
      "displayName": "skiersong9",
      "userId": "11108221763786546299"
     },
     "user_tz": -540
    },
    "id": "86ad37af-4123-4975-b938-72bfa74e21fe"
   },
   "outputs": [],
   "source": [
    "from sklearn.preprocessing import OneHotEncoder\n",
    "\n",
    "# train_df와 test_df의 기상상태 및 노면상태 열 선택\n",
    "train_categorical_data = train_df[['군']]\n",
    "test_categorical_data = test_df[['군']]\n",
    "\n",
    "# OneHotEncoder 인스턴스 생성 및 fit_transform 수행\n",
    "encoder = OneHotEncoder()\n",
    "train_encoded = encoder.fit_transform(train_categorical_data)\n",
    "test_encoded = encoder.transform(test_categorical_data)\n",
    "\n",
    "# OneHotEncoder가 사용한 카테고리 목록을 가져와서 카테고리 이름을 열 이름으로 변환\n",
    "feature_names = encoder.get_feature_names_out(['군'])\n",
    "\n",
    "# 밀집 행렬로 변환 (선택 사항)\n",
    "train_encoded_dense = train_encoded.toarray()\n",
    "test_encoded_dense = test_encoded.toarray()\n",
    "\n",
    "# 데이터프레임으로 변환 (선택 사항)\n",
    "import pandas as pd\n",
    "\n",
    "train_encoded_df = pd.DataFrame(train_encoded_dense, columns=feature_names, index=train_df.index)\n",
    "test_encoded_df = pd.DataFrame(test_encoded_dense, columns=feature_names, index=test_df.index)\n",
    "\n",
    "# 기존 열 제거\n",
    "train_df = train_df.drop(['군', ], axis=1)\n",
    "test_df = test_df.drop(['군'], axis=1)\n",
    "\n",
    "# 인코딩된 열 추가\n",
    "train_df = pd.concat([train_df, train_encoded_df], axis=1)\n",
    "test_df = pd.concat([test_df, test_encoded_df], axis=1)\n"
   ]
  },
  {
   "cell_type": "code",
   "execution_count": 14,
   "id": "401ace10-141e-4095-9989-a075aba273f5",
   "metadata": {
    "ExecuteTime": {
     "end_time": "2023-12-10T05:06:44.167391Z",
     "start_time": "2023-12-10T05:06:44.141020Z"
    },
    "id": "401ace10-141e-4095-9989-a075aba273f5",
    "outputId": "cc36e699-d06e-4d55-8f5b-6cef06397f29"
   },
   "outputs": [
    {
     "data": {
      "text/html": [
       "<div>\n",
       "<style scoped>\n",
       "    .dataframe tbody tr th:only-of-type {\n",
       "        vertical-align: middle;\n",
       "    }\n",
       "\n",
       "    .dataframe tbody tr th {\n",
       "        vertical-align: top;\n",
       "    }\n",
       "\n",
       "    .dataframe thead th {\n",
       "        text-align: right;\n",
       "    }\n",
       "</style>\n",
       "<table border=\"1\" class=\"dataframe\">\n",
       "  <thead>\n",
       "    <tr style=\"text-align: right;\">\n",
       "      <th></th>\n",
       "      <th>ID</th>\n",
       "      <th>사고일시</th>\n",
       "      <th>요일</th>\n",
       "      <th>기상상태</th>\n",
       "      <th>시군구</th>\n",
       "      <th>도로형태</th>\n",
       "      <th>노면상태</th>\n",
       "      <th>사고유형</th>\n",
       "      <th>사고유형 - 세부분류</th>\n",
       "      <th>법규위반</th>\n",
       "      <th>가해운전자 차종</th>\n",
       "      <th>가해운전자 성별</th>\n",
       "      <th>가해운전자 연령</th>\n",
       "      <th>가해운전자 상해정도</th>\n",
       "      <th>피해운전자 차종</th>\n",
       "      <th>피해운전자 성별</th>\n",
       "      <th>피해운전자 연령</th>\n",
       "      <th>피해운전자 상해정도</th>\n",
       "      <th>사망자수</th>\n",
       "      <th>중상자수</th>\n",
       "      <th>경상자수</th>\n",
       "      <th>부상자수</th>\n",
       "      <th>ECLO</th>\n",
       "      <th>구</th>\n",
       "      <th>도시_x</th>\n",
       "      <th>설치개수</th>\n",
       "      <th>도시_y</th>\n",
       "      <th>cnt</th>\n",
       "      <th>도시</th>\n",
       "      <th>급지구분_1</th>\n",
       "      <th>급지구분_2</th>\n",
       "      <th>급지구분_3</th>\n",
       "      <th>군_남구</th>\n",
       "      <th>군_달서구</th>\n",
       "      <th>군_달성군</th>\n",
       "      <th>군_동구</th>\n",
       "      <th>군_북구</th>\n",
       "      <th>군_서구</th>\n",
       "      <th>군_수성구</th>\n",
       "      <th>군_중구</th>\n",
       "    </tr>\n",
       "  </thead>\n",
       "  <tbody>\n",
       "    <tr>\n",
       "      <th>0</th>\n",
       "      <td>ACCIDENT_00000</td>\n",
       "      <td>2019-01-01 00:00:00</td>\n",
       "      <td>화요일</td>\n",
       "      <td>맑음</td>\n",
       "      <td>대구광역시 중구 대신동</td>\n",
       "      <td>단일로 - 기타</td>\n",
       "      <td>건조</td>\n",
       "      <td>차대사람</td>\n",
       "      <td>길가장자리구역통행중</td>\n",
       "      <td>안전운전불이행</td>\n",
       "      <td>승용</td>\n",
       "      <td>여</td>\n",
       "      <td>51세</td>\n",
       "      <td>상해없음</td>\n",
       "      <td>보행자</td>\n",
       "      <td>여</td>\n",
       "      <td>70세</td>\n",
       "      <td>중상</td>\n",
       "      <td>0</td>\n",
       "      <td>1</td>\n",
       "      <td>0</td>\n",
       "      <td>0</td>\n",
       "      <td>5</td>\n",
       "      <td>대신동</td>\n",
       "      <td>대구광역시</td>\n",
       "      <td>391.0</td>\n",
       "      <td>대구광역시</td>\n",
       "      <td>2.0</td>\n",
       "      <td>대구광역시</td>\n",
       "      <td>11.0</td>\n",
       "      <td>0.0</td>\n",
       "      <td>0.0</td>\n",
       "      <td>0.0</td>\n",
       "      <td>0.0</td>\n",
       "      <td>0.0</td>\n",
       "      <td>0.0</td>\n",
       "      <td>0.0</td>\n",
       "      <td>0.0</td>\n",
       "      <td>0.0</td>\n",
       "      <td>1.0</td>\n",
       "    </tr>\n",
       "    <tr>\n",
       "      <th>1</th>\n",
       "      <td>ACCIDENT_00001</td>\n",
       "      <td>2019-01-01 00:00:00</td>\n",
       "      <td>화요일</td>\n",
       "      <td>흐림</td>\n",
       "      <td>대구광역시 달서구 감삼동</td>\n",
       "      <td>단일로 - 기타</td>\n",
       "      <td>건조</td>\n",
       "      <td>차대사람</td>\n",
       "      <td>보도통행중</td>\n",
       "      <td>기타</td>\n",
       "      <td>승용</td>\n",
       "      <td>남</td>\n",
       "      <td>39세</td>\n",
       "      <td>상해없음</td>\n",
       "      <td>보행자</td>\n",
       "      <td>남</td>\n",
       "      <td>61세</td>\n",
       "      <td>경상</td>\n",
       "      <td>0</td>\n",
       "      <td>0</td>\n",
       "      <td>1</td>\n",
       "      <td>0</td>\n",
       "      <td>3</td>\n",
       "      <td>감삼동</td>\n",
       "      <td>대구광역시</td>\n",
       "      <td>932.0</td>\n",
       "      <td>NaN</td>\n",
       "      <td>NaN</td>\n",
       "      <td>대구광역시</td>\n",
       "      <td>0.0</td>\n",
       "      <td>1.0</td>\n",
       "      <td>3.0</td>\n",
       "      <td>0.0</td>\n",
       "      <td>1.0</td>\n",
       "      <td>0.0</td>\n",
       "      <td>0.0</td>\n",
       "      <td>0.0</td>\n",
       "      <td>0.0</td>\n",
       "      <td>0.0</td>\n",
       "      <td>0.0</td>\n",
       "    </tr>\n",
       "    <tr>\n",
       "      <th>2</th>\n",
       "      <td>ACCIDENT_00002</td>\n",
       "      <td>2019-01-01 01:00:00</td>\n",
       "      <td>화요일</td>\n",
       "      <td>맑음</td>\n",
       "      <td>대구광역시 수성구 두산동</td>\n",
       "      <td>단일로 - 기타</td>\n",
       "      <td>건조</td>\n",
       "      <td>차대사람</td>\n",
       "      <td>차도통행중</td>\n",
       "      <td>안전운전불이행</td>\n",
       "      <td>승용</td>\n",
       "      <td>남</td>\n",
       "      <td>70세</td>\n",
       "      <td>상해없음</td>\n",
       "      <td>보행자</td>\n",
       "      <td>남</td>\n",
       "      <td>38세</td>\n",
       "      <td>경상</td>\n",
       "      <td>0</td>\n",
       "      <td>0</td>\n",
       "      <td>1</td>\n",
       "      <td>0</td>\n",
       "      <td>3</td>\n",
       "      <td>두산동</td>\n",
       "      <td>대구광역시</td>\n",
       "      <td>473.0</td>\n",
       "      <td>대구광역시</td>\n",
       "      <td>5.0</td>\n",
       "      <td>NaN</td>\n",
       "      <td>NaN</td>\n",
       "      <td>NaN</td>\n",
       "      <td>NaN</td>\n",
       "      <td>0.0</td>\n",
       "      <td>0.0</td>\n",
       "      <td>0.0</td>\n",
       "      <td>0.0</td>\n",
       "      <td>0.0</td>\n",
       "      <td>0.0</td>\n",
       "      <td>1.0</td>\n",
       "      <td>0.0</td>\n",
       "    </tr>\n",
       "    <tr>\n",
       "      <th>3</th>\n",
       "      <td>ACCIDENT_00003</td>\n",
       "      <td>2019-01-01 02:00:00</td>\n",
       "      <td>화요일</td>\n",
       "      <td>맑음</td>\n",
       "      <td>대구광역시 북구 복현동</td>\n",
       "      <td>단일로 - 기타</td>\n",
       "      <td>건조</td>\n",
       "      <td>차대차</td>\n",
       "      <td>추돌</td>\n",
       "      <td>안전운전불이행</td>\n",
       "      <td>승용</td>\n",
       "      <td>남</td>\n",
       "      <td>49세</td>\n",
       "      <td>상해없음</td>\n",
       "      <td>승용</td>\n",
       "      <td>남</td>\n",
       "      <td>36세</td>\n",
       "      <td>중상</td>\n",
       "      <td>0</td>\n",
       "      <td>1</td>\n",
       "      <td>0</td>\n",
       "      <td>0</td>\n",
       "      <td>5</td>\n",
       "      <td>복현동</td>\n",
       "      <td>대구광역시</td>\n",
       "      <td>534.0</td>\n",
       "      <td>대구광역시</td>\n",
       "      <td>11.0</td>\n",
       "      <td>대구광역시</td>\n",
       "      <td>0.0</td>\n",
       "      <td>9.0</td>\n",
       "      <td>5.0</td>\n",
       "      <td>0.0</td>\n",
       "      <td>0.0</td>\n",
       "      <td>0.0</td>\n",
       "      <td>0.0</td>\n",
       "      <td>1.0</td>\n",
       "      <td>0.0</td>\n",
       "      <td>0.0</td>\n",
       "      <td>0.0</td>\n",
       "    </tr>\n",
       "    <tr>\n",
       "      <th>4</th>\n",
       "      <td>ACCIDENT_00004</td>\n",
       "      <td>2019-01-01 04:00:00</td>\n",
       "      <td>화요일</td>\n",
       "      <td>맑음</td>\n",
       "      <td>대구광역시 동구 신암동</td>\n",
       "      <td>단일로 - 기타</td>\n",
       "      <td>건조</td>\n",
       "      <td>차대차</td>\n",
       "      <td>추돌</td>\n",
       "      <td>안전운전불이행</td>\n",
       "      <td>승용</td>\n",
       "      <td>남</td>\n",
       "      <td>30세</td>\n",
       "      <td>상해없음</td>\n",
       "      <td>승용</td>\n",
       "      <td>남</td>\n",
       "      <td>52세</td>\n",
       "      <td>경상</td>\n",
       "      <td>0</td>\n",
       "      <td>0</td>\n",
       "      <td>1</td>\n",
       "      <td>0</td>\n",
       "      <td>3</td>\n",
       "      <td>신암동</td>\n",
       "      <td>대구광역시</td>\n",
       "      <td>2057.0</td>\n",
       "      <td>NaN</td>\n",
       "      <td>NaN</td>\n",
       "      <td>대구광역시</td>\n",
       "      <td>0.0</td>\n",
       "      <td>1.0</td>\n",
       "      <td>0.0</td>\n",
       "      <td>0.0</td>\n",
       "      <td>0.0</td>\n",
       "      <td>0.0</td>\n",
       "      <td>1.0</td>\n",
       "      <td>0.0</td>\n",
       "      <td>0.0</td>\n",
       "      <td>0.0</td>\n",
       "      <td>0.0</td>\n",
       "    </tr>\n",
       "    <tr>\n",
       "      <th>...</th>\n",
       "      <td>...</td>\n",
       "      <td>...</td>\n",
       "      <td>...</td>\n",
       "      <td>...</td>\n",
       "      <td>...</td>\n",
       "      <td>...</td>\n",
       "      <td>...</td>\n",
       "      <td>...</td>\n",
       "      <td>...</td>\n",
       "      <td>...</td>\n",
       "      <td>...</td>\n",
       "      <td>...</td>\n",
       "      <td>...</td>\n",
       "      <td>...</td>\n",
       "      <td>...</td>\n",
       "      <td>...</td>\n",
       "      <td>...</td>\n",
       "      <td>...</td>\n",
       "      <td>...</td>\n",
       "      <td>...</td>\n",
       "      <td>...</td>\n",
       "      <td>...</td>\n",
       "      <td>...</td>\n",
       "      <td>...</td>\n",
       "      <td>...</td>\n",
       "      <td>...</td>\n",
       "      <td>...</td>\n",
       "      <td>...</td>\n",
       "      <td>...</td>\n",
       "      <td>...</td>\n",
       "      <td>...</td>\n",
       "      <td>...</td>\n",
       "      <td>...</td>\n",
       "      <td>...</td>\n",
       "      <td>...</td>\n",
       "      <td>...</td>\n",
       "      <td>...</td>\n",
       "      <td>...</td>\n",
       "      <td>...</td>\n",
       "      <td>...</td>\n",
       "    </tr>\n",
       "    <tr>\n",
       "      <th>39604</th>\n",
       "      <td>ACCIDENT_39604</td>\n",
       "      <td>2021-12-31 19:00:00</td>\n",
       "      <td>금요일</td>\n",
       "      <td>맑음</td>\n",
       "      <td>대구광역시 수성구 수성동3가</td>\n",
       "      <td>교차로 - 교차로안</td>\n",
       "      <td>건조</td>\n",
       "      <td>차대차</td>\n",
       "      <td>측면충돌</td>\n",
       "      <td>신호위반</td>\n",
       "      <td>승용</td>\n",
       "      <td>여</td>\n",
       "      <td>52세</td>\n",
       "      <td>상해없음</td>\n",
       "      <td>이륜</td>\n",
       "      <td>남</td>\n",
       "      <td>28세</td>\n",
       "      <td>경상</td>\n",
       "      <td>0</td>\n",
       "      <td>0</td>\n",
       "      <td>1</td>\n",
       "      <td>0</td>\n",
       "      <td>3</td>\n",
       "      <td>수성동3가</td>\n",
       "      <td>NaN</td>\n",
       "      <td>NaN</td>\n",
       "      <td>대구광역시</td>\n",
       "      <td>1.0</td>\n",
       "      <td>NaN</td>\n",
       "      <td>NaN</td>\n",
       "      <td>NaN</td>\n",
       "      <td>NaN</td>\n",
       "      <td>0.0</td>\n",
       "      <td>0.0</td>\n",
       "      <td>0.0</td>\n",
       "      <td>0.0</td>\n",
       "      <td>0.0</td>\n",
       "      <td>0.0</td>\n",
       "      <td>1.0</td>\n",
       "      <td>0.0</td>\n",
       "    </tr>\n",
       "    <tr>\n",
       "      <th>39605</th>\n",
       "      <td>ACCIDENT_39605</td>\n",
       "      <td>2021-12-31 19:00:00</td>\n",
       "      <td>금요일</td>\n",
       "      <td>맑음</td>\n",
       "      <td>대구광역시 달서구 상인동</td>\n",
       "      <td>단일로 - 기타</td>\n",
       "      <td>건조</td>\n",
       "      <td>차대차</td>\n",
       "      <td>측면충돌</td>\n",
       "      <td>안전거리미확보</td>\n",
       "      <td>승용</td>\n",
       "      <td>여</td>\n",
       "      <td>60세</td>\n",
       "      <td>상해없음</td>\n",
       "      <td>승용</td>\n",
       "      <td>남</td>\n",
       "      <td>52세</td>\n",
       "      <td>경상</td>\n",
       "      <td>0</td>\n",
       "      <td>0</td>\n",
       "      <td>1</td>\n",
       "      <td>0</td>\n",
       "      <td>3</td>\n",
       "      <td>상인동</td>\n",
       "      <td>대구광역시</td>\n",
       "      <td>843.0</td>\n",
       "      <td>NaN</td>\n",
       "      <td>NaN</td>\n",
       "      <td>대구광역시</td>\n",
       "      <td>0.0</td>\n",
       "      <td>0.0</td>\n",
       "      <td>5.0</td>\n",
       "      <td>0.0</td>\n",
       "      <td>1.0</td>\n",
       "      <td>0.0</td>\n",
       "      <td>0.0</td>\n",
       "      <td>0.0</td>\n",
       "      <td>0.0</td>\n",
       "      <td>0.0</td>\n",
       "      <td>0.0</td>\n",
       "    </tr>\n",
       "    <tr>\n",
       "      <th>39606</th>\n",
       "      <td>ACCIDENT_39606</td>\n",
       "      <td>2021-12-31 21:00:00</td>\n",
       "      <td>금요일</td>\n",
       "      <td>맑음</td>\n",
       "      <td>대구광역시 달서구 월성동</td>\n",
       "      <td>교차로 - 교차로안</td>\n",
       "      <td>건조</td>\n",
       "      <td>차대차</td>\n",
       "      <td>측면충돌</td>\n",
       "      <td>교차로운행방법위반</td>\n",
       "      <td>승용</td>\n",
       "      <td>남</td>\n",
       "      <td>60세</td>\n",
       "      <td>중상</td>\n",
       "      <td>승용</td>\n",
       "      <td>남</td>\n",
       "      <td>73세</td>\n",
       "      <td>중상</td>\n",
       "      <td>0</td>\n",
       "      <td>2</td>\n",
       "      <td>0</td>\n",
       "      <td>0</td>\n",
       "      <td>10</td>\n",
       "      <td>월성동</td>\n",
       "      <td>대구광역시</td>\n",
       "      <td>164.0</td>\n",
       "      <td>NaN</td>\n",
       "      <td>NaN</td>\n",
       "      <td>대구광역시</td>\n",
       "      <td>0.0</td>\n",
       "      <td>1.0</td>\n",
       "      <td>0.0</td>\n",
       "      <td>0.0</td>\n",
       "      <td>1.0</td>\n",
       "      <td>0.0</td>\n",
       "      <td>0.0</td>\n",
       "      <td>0.0</td>\n",
       "      <td>0.0</td>\n",
       "      <td>0.0</td>\n",
       "      <td>0.0</td>\n",
       "    </tr>\n",
       "    <tr>\n",
       "      <th>39607</th>\n",
       "      <td>ACCIDENT_39607</td>\n",
       "      <td>2021-12-31 22:00:00</td>\n",
       "      <td>금요일</td>\n",
       "      <td>맑음</td>\n",
       "      <td>대구광역시 달서구 장동</td>\n",
       "      <td>기타 - 기타</td>\n",
       "      <td>건조</td>\n",
       "      <td>차대차</td>\n",
       "      <td>추돌</td>\n",
       "      <td>안전운전불이행</td>\n",
       "      <td>승용</td>\n",
       "      <td>남</td>\n",
       "      <td>40세</td>\n",
       "      <td>상해없음</td>\n",
       "      <td>승용</td>\n",
       "      <td>여</td>\n",
       "      <td>57세</td>\n",
       "      <td>경상</td>\n",
       "      <td>0</td>\n",
       "      <td>0</td>\n",
       "      <td>1</td>\n",
       "      <td>0</td>\n",
       "      <td>3</td>\n",
       "      <td>장동</td>\n",
       "      <td>대구광역시</td>\n",
       "      <td>210.0</td>\n",
       "      <td>NaN</td>\n",
       "      <td>NaN</td>\n",
       "      <td>대구광역시</td>\n",
       "      <td>0.0</td>\n",
       "      <td>0.0</td>\n",
       "      <td>1.0</td>\n",
       "      <td>0.0</td>\n",
       "      <td>1.0</td>\n",
       "      <td>0.0</td>\n",
       "      <td>0.0</td>\n",
       "      <td>0.0</td>\n",
       "      <td>0.0</td>\n",
       "      <td>0.0</td>\n",
       "      <td>0.0</td>\n",
       "    </tr>\n",
       "    <tr>\n",
       "      <th>39608</th>\n",
       "      <td>ACCIDENT_39608</td>\n",
       "      <td>2021-12-31 23:00:00</td>\n",
       "      <td>금요일</td>\n",
       "      <td>맑음</td>\n",
       "      <td>대구광역시 서구 비산동</td>\n",
       "      <td>단일로 - 지하차도(도로)내</td>\n",
       "      <td>건조</td>\n",
       "      <td>차대차</td>\n",
       "      <td>측면충돌</td>\n",
       "      <td>안전운전불이행</td>\n",
       "      <td>승용</td>\n",
       "      <td>남</td>\n",
       "      <td>27세</td>\n",
       "      <td>상해없음</td>\n",
       "      <td>승용</td>\n",
       "      <td>남</td>\n",
       "      <td>33세</td>\n",
       "      <td>경상</td>\n",
       "      <td>0</td>\n",
       "      <td>0</td>\n",
       "      <td>2</td>\n",
       "      <td>0</td>\n",
       "      <td>6</td>\n",
       "      <td>비산동</td>\n",
       "      <td>NaN</td>\n",
       "      <td>NaN</td>\n",
       "      <td>대구광역시</td>\n",
       "      <td>19.0</td>\n",
       "      <td>대구광역시</td>\n",
       "      <td>6.0</td>\n",
       "      <td>30.0</td>\n",
       "      <td>13.0</td>\n",
       "      <td>0.0</td>\n",
       "      <td>0.0</td>\n",
       "      <td>0.0</td>\n",
       "      <td>0.0</td>\n",
       "      <td>0.0</td>\n",
       "      <td>1.0</td>\n",
       "      <td>0.0</td>\n",
       "      <td>0.0</td>\n",
       "    </tr>\n",
       "  </tbody>\n",
       "</table>\n",
       "<p>39609 rows × 40 columns</p>\n",
       "</div>"
      ],
      "text/plain": [
       "                   ID                사고일시   요일 기상상태              시군구  \\\n",
       "0      ACCIDENT_00000 2019-01-01 00:00:00  화요일   맑음     대구광역시 중구 대신동   \n",
       "1      ACCIDENT_00001 2019-01-01 00:00:00  화요일   흐림    대구광역시 달서구 감삼동   \n",
       "2      ACCIDENT_00002 2019-01-01 01:00:00  화요일   맑음    대구광역시 수성구 두산동   \n",
       "3      ACCIDENT_00003 2019-01-01 02:00:00  화요일   맑음     대구광역시 북구 복현동   \n",
       "4      ACCIDENT_00004 2019-01-01 04:00:00  화요일   맑음     대구광역시 동구 신암동   \n",
       "...               ...                 ...  ...  ...              ...   \n",
       "39604  ACCIDENT_39604 2021-12-31 19:00:00  금요일   맑음  대구광역시 수성구 수성동3가   \n",
       "39605  ACCIDENT_39605 2021-12-31 19:00:00  금요일   맑음    대구광역시 달서구 상인동   \n",
       "39606  ACCIDENT_39606 2021-12-31 21:00:00  금요일   맑음    대구광역시 달서구 월성동   \n",
       "39607  ACCIDENT_39607 2021-12-31 22:00:00  금요일   맑음     대구광역시 달서구 장동   \n",
       "39608  ACCIDENT_39608 2021-12-31 23:00:00  금요일   맑음     대구광역시 서구 비산동   \n",
       "\n",
       "                  도로형태 노면상태  사고유형 사고유형 - 세부분류       법규위반 가해운전자 차종 가해운전자 성별  \\\n",
       "0             단일로 - 기타   건조  차대사람  길가장자리구역통행중    안전운전불이행       승용        여   \n",
       "1             단일로 - 기타   건조  차대사람       보도통행중         기타       승용        남   \n",
       "2             단일로 - 기타   건조  차대사람       차도통행중    안전운전불이행       승용        남   \n",
       "3             단일로 - 기타   건조   차대차          추돌    안전운전불이행       승용        남   \n",
       "4             단일로 - 기타   건조   차대차          추돌    안전운전불이행       승용        남   \n",
       "...                ...  ...   ...         ...        ...      ...      ...   \n",
       "39604       교차로 - 교차로안   건조   차대차        측면충돌       신호위반       승용        여   \n",
       "39605         단일로 - 기타   건조   차대차        측면충돌    안전거리미확보       승용        여   \n",
       "39606       교차로 - 교차로안   건조   차대차        측면충돌  교차로운행방법위반       승용        남   \n",
       "39607          기타 - 기타   건조   차대차          추돌    안전운전불이행       승용        남   \n",
       "39608  단일로 - 지하차도(도로)내   건조   차대차        측면충돌    안전운전불이행       승용        남   \n",
       "\n",
       "      가해운전자 연령 가해운전자 상해정도 피해운전자 차종 피해운전자 성별 피해운전자 연령 피해운전자 상해정도  사망자수  중상자수  \\\n",
       "0          51세       상해없음      보행자        여      70세         중상     0     1   \n",
       "1          39세       상해없음      보행자        남      61세         경상     0     0   \n",
       "2          70세       상해없음      보행자        남      38세         경상     0     0   \n",
       "3          49세       상해없음       승용        남      36세         중상     0     1   \n",
       "4          30세       상해없음       승용        남      52세         경상     0     0   \n",
       "...        ...        ...      ...      ...      ...        ...   ...   ...   \n",
       "39604      52세       상해없음       이륜        남      28세         경상     0     0   \n",
       "39605      60세       상해없음       승용        남      52세         경상     0     0   \n",
       "39606      60세         중상       승용        남      73세         중상     0     2   \n",
       "39607      40세       상해없음       승용        여      57세         경상     0     0   \n",
       "39608      27세       상해없음       승용        남      33세         경상     0     0   \n",
       "\n",
       "       경상자수  부상자수  ECLO      구   도시_x    설치개수   도시_y   cnt     도시  급지구분_1  \\\n",
       "0         0     0     5    대신동  대구광역시   391.0  대구광역시   2.0  대구광역시    11.0   \n",
       "1         1     0     3    감삼동  대구광역시   932.0    NaN   NaN  대구광역시     0.0   \n",
       "2         1     0     3    두산동  대구광역시   473.0  대구광역시   5.0    NaN     NaN   \n",
       "3         0     0     5    복현동  대구광역시   534.0  대구광역시  11.0  대구광역시     0.0   \n",
       "4         1     0     3    신암동  대구광역시  2057.0    NaN   NaN  대구광역시     0.0   \n",
       "...     ...   ...   ...    ...    ...     ...    ...   ...    ...     ...   \n",
       "39604     1     0     3  수성동3가    NaN     NaN  대구광역시   1.0    NaN     NaN   \n",
       "39605     1     0     3    상인동  대구광역시   843.0    NaN   NaN  대구광역시     0.0   \n",
       "39606     0     0    10    월성동  대구광역시   164.0    NaN   NaN  대구광역시     0.0   \n",
       "39607     1     0     3     장동  대구광역시   210.0    NaN   NaN  대구광역시     0.0   \n",
       "39608     2     0     6    비산동    NaN     NaN  대구광역시  19.0  대구광역시     6.0   \n",
       "\n",
       "       급지구분_2  급지구분_3  군_남구  군_달서구  군_달성군  군_동구  군_북구  군_서구  군_수성구  군_중구  \n",
       "0         0.0     0.0   0.0    0.0    0.0   0.0   0.0   0.0    0.0   1.0  \n",
       "1         1.0     3.0   0.0    1.0    0.0   0.0   0.0   0.0    0.0   0.0  \n",
       "2         NaN     NaN   0.0    0.0    0.0   0.0   0.0   0.0    1.0   0.0  \n",
       "3         9.0     5.0   0.0    0.0    0.0   0.0   1.0   0.0    0.0   0.0  \n",
       "4         1.0     0.0   0.0    0.0    0.0   1.0   0.0   0.0    0.0   0.0  \n",
       "...       ...     ...   ...    ...    ...   ...   ...   ...    ...   ...  \n",
       "39604     NaN     NaN   0.0    0.0    0.0   0.0   0.0   0.0    1.0   0.0  \n",
       "39605     0.0     5.0   0.0    1.0    0.0   0.0   0.0   0.0    0.0   0.0  \n",
       "39606     1.0     0.0   0.0    1.0    0.0   0.0   0.0   0.0    0.0   0.0  \n",
       "39607     0.0     1.0   0.0    1.0    0.0   0.0   0.0   0.0    0.0   0.0  \n",
       "39608    30.0    13.0   0.0    0.0    0.0   0.0   0.0   1.0    0.0   0.0  \n",
       "\n",
       "[39609 rows x 40 columns]"
      ]
     },
     "execution_count": 14,
     "metadata": {},
     "output_type": "execute_result"
    }
   ],
   "source": [
    "train_df"
   ]
  },
  {
   "cell_type": "markdown",
   "id": "ebfcfd72-3bba-4f08-be3e-d07a43c5b40c",
   "metadata": {
    "id": "ebfcfd72-3bba-4f08-be3e-d07a43c5b40c"
   },
   "source": [
    "# 시군구별 발생횟수 feature 추가"
   ]
  },
  {
   "cell_type": "code",
   "execution_count": 15,
   "id": "877a980f-19e0-4228-9082-b8b0467b34bf",
   "metadata": {
    "ExecuteTime": {
     "end_time": "2023-12-10T05:06:46.937514Z",
     "start_time": "2023-12-10T05:06:46.918208Z"
    },
    "executionInfo": {
     "elapsed": 4,
     "status": "ok",
     "timestamp": 1701854959471,
     "user": {
      "displayName": "skiersong9",
      "userId": "11108221763786546299"
     },
     "user_tz": -540
    },
    "id": "877a980f-19e0-4228-9082-b8b0467b34bf"
   },
   "outputs": [],
   "source": [
    "accident_counts = train_df['시군구'].value_counts().reset_index()\n",
    "accident_counts.columns = ['시군구', '사고횟수']"
   ]
  },
  {
   "cell_type": "code",
   "execution_count": 16,
   "id": "bb21a09f-69a4-48c0-91ff-14a20665a3c1",
   "metadata": {
    "ExecuteTime": {
     "end_time": "2023-12-10T05:06:47.338810Z",
     "start_time": "2023-12-10T05:06:47.328065Z"
    },
    "executionInfo": {
     "elapsed": 3,
     "status": "ok",
     "timestamp": 1701854959471,
     "user": {
      "displayName": "skiersong9",
      "userId": "11108221763786546299"
     },
     "user_tz": -540
    },
    "id": "bb21a09f-69a4-48c0-91ff-14a20665a3c1"
   },
   "outputs": [],
   "source": [
    "# '시군구'별 사고 횟수를 train_df에 매핑하기 위해 '시군구' 컬럼을 기준으로 사고 횟수를 가져옵니다.\n",
    "train_df['사고발생횟수'] = train_df['시군구'].map(accident_counts.set_index('시군구')['사고횟수'])\n"
   ]
  },
  {
   "cell_type": "code",
   "execution_count": 17,
   "id": "b484a206-225d-4324-97ed-ff7d4bc1fb36",
   "metadata": {
    "ExecuteTime": {
     "end_time": "2023-12-10T05:06:48.291791Z",
     "start_time": "2023-12-10T05:06:48.281202Z"
    },
    "executionInfo": {
     "elapsed": 2,
     "status": "ok",
     "timestamp": 1701854960855,
     "user": {
      "displayName": "skiersong9",
      "userId": "11108221763786546299"
     },
     "user_tz": -540
    },
    "id": "b484a206-225d-4324-97ed-ff7d4bc1fb36"
   },
   "outputs": [],
   "source": [
    "# '시군구'별 사고 횟수를 train_df에 매핑하기 위해 '시군구' 컬럼을 기준으로 사고 횟수를 가져옵니다.\n",
    "test_df['사고발생횟수'] = test_df['시군구'].map(accident_counts.set_index('시군구')['사고횟수'])\n"
   ]
  },
  {
   "cell_type": "code",
   "execution_count": 18,
   "id": "37e8c533",
   "metadata": {
    "ExecuteTime": {
     "end_time": "2023-12-10T05:06:49.131814Z",
     "start_time": "2023-12-10T05:06:49.096661Z"
    },
    "colab": {
     "base_uri": "https://localhost:8080/",
     "height": 1000
    },
    "executionInfo": {
     "elapsed": 5,
     "status": "ok",
     "timestamp": 1701854962372,
     "user": {
      "displayName": "skiersong9",
      "userId": "11108221763786546299"
     },
     "user_tz": -540
    },
    "id": "37e8c533",
    "outputId": "7ce6aea3-e039-467a-a189-d3f1cf66e12e"
   },
   "outputs": [
    {
     "data": {
      "text/html": [
       "<div>\n",
       "<style scoped>\n",
       "    .dataframe tbody tr th:only-of-type {\n",
       "        vertical-align: middle;\n",
       "    }\n",
       "\n",
       "    .dataframe tbody tr th {\n",
       "        vertical-align: top;\n",
       "    }\n",
       "\n",
       "    .dataframe thead th {\n",
       "        text-align: right;\n",
       "    }\n",
       "</style>\n",
       "<table border=\"1\" class=\"dataframe\">\n",
       "  <thead>\n",
       "    <tr style=\"text-align: right;\">\n",
       "      <th></th>\n",
       "      <th>ID</th>\n",
       "      <th>사고일시</th>\n",
       "      <th>요일</th>\n",
       "      <th>기상상태</th>\n",
       "      <th>시군구</th>\n",
       "      <th>도로형태</th>\n",
       "      <th>노면상태</th>\n",
       "      <th>사고유형</th>\n",
       "      <th>사고유형 - 세부분류</th>\n",
       "      <th>법규위반</th>\n",
       "      <th>가해운전자 차종</th>\n",
       "      <th>가해운전자 성별</th>\n",
       "      <th>가해운전자 연령</th>\n",
       "      <th>가해운전자 상해정도</th>\n",
       "      <th>피해운전자 차종</th>\n",
       "      <th>피해운전자 성별</th>\n",
       "      <th>피해운전자 연령</th>\n",
       "      <th>피해운전자 상해정도</th>\n",
       "      <th>사망자수</th>\n",
       "      <th>중상자수</th>\n",
       "      <th>경상자수</th>\n",
       "      <th>부상자수</th>\n",
       "      <th>ECLO</th>\n",
       "      <th>구</th>\n",
       "      <th>도시_x</th>\n",
       "      <th>설치개수</th>\n",
       "      <th>도시_y</th>\n",
       "      <th>cnt</th>\n",
       "      <th>도시</th>\n",
       "      <th>급지구분_1</th>\n",
       "      <th>급지구분_2</th>\n",
       "      <th>급지구분_3</th>\n",
       "      <th>군_남구</th>\n",
       "      <th>군_달서구</th>\n",
       "      <th>군_달성군</th>\n",
       "      <th>군_동구</th>\n",
       "      <th>군_북구</th>\n",
       "      <th>군_서구</th>\n",
       "      <th>군_수성구</th>\n",
       "      <th>군_중구</th>\n",
       "      <th>사고발생횟수</th>\n",
       "    </tr>\n",
       "  </thead>\n",
       "  <tbody>\n",
       "    <tr>\n",
       "      <th>0</th>\n",
       "      <td>ACCIDENT_00000</td>\n",
       "      <td>2019-01-01 00:00:00</td>\n",
       "      <td>화요일</td>\n",
       "      <td>맑음</td>\n",
       "      <td>대구광역시 중구 대신동</td>\n",
       "      <td>단일로 - 기타</td>\n",
       "      <td>건조</td>\n",
       "      <td>차대사람</td>\n",
       "      <td>길가장자리구역통행중</td>\n",
       "      <td>안전운전불이행</td>\n",
       "      <td>승용</td>\n",
       "      <td>여</td>\n",
       "      <td>51세</td>\n",
       "      <td>상해없음</td>\n",
       "      <td>보행자</td>\n",
       "      <td>여</td>\n",
       "      <td>70세</td>\n",
       "      <td>중상</td>\n",
       "      <td>0</td>\n",
       "      <td>1</td>\n",
       "      <td>0</td>\n",
       "      <td>0</td>\n",
       "      <td>5</td>\n",
       "      <td>대신동</td>\n",
       "      <td>대구광역시</td>\n",
       "      <td>391.0</td>\n",
       "      <td>대구광역시</td>\n",
       "      <td>2.0</td>\n",
       "      <td>대구광역시</td>\n",
       "      <td>11.0</td>\n",
       "      <td>0.0</td>\n",
       "      <td>0.0</td>\n",
       "      <td>0.0</td>\n",
       "      <td>0.0</td>\n",
       "      <td>0.0</td>\n",
       "      <td>0.0</td>\n",
       "      <td>0.0</td>\n",
       "      <td>0.0</td>\n",
       "      <td>0.0</td>\n",
       "      <td>1.0</td>\n",
       "      <td>131</td>\n",
       "    </tr>\n",
       "    <tr>\n",
       "      <th>1</th>\n",
       "      <td>ACCIDENT_00001</td>\n",
       "      <td>2019-01-01 00:00:00</td>\n",
       "      <td>화요일</td>\n",
       "      <td>흐림</td>\n",
       "      <td>대구광역시 달서구 감삼동</td>\n",
       "      <td>단일로 - 기타</td>\n",
       "      <td>건조</td>\n",
       "      <td>차대사람</td>\n",
       "      <td>보도통행중</td>\n",
       "      <td>기타</td>\n",
       "      <td>승용</td>\n",
       "      <td>남</td>\n",
       "      <td>39세</td>\n",
       "      <td>상해없음</td>\n",
       "      <td>보행자</td>\n",
       "      <td>남</td>\n",
       "      <td>61세</td>\n",
       "      <td>경상</td>\n",
       "      <td>0</td>\n",
       "      <td>0</td>\n",
       "      <td>1</td>\n",
       "      <td>0</td>\n",
       "      <td>3</td>\n",
       "      <td>감삼동</td>\n",
       "      <td>대구광역시</td>\n",
       "      <td>932.0</td>\n",
       "      <td>NaN</td>\n",
       "      <td>NaN</td>\n",
       "      <td>대구광역시</td>\n",
       "      <td>0.0</td>\n",
       "      <td>1.0</td>\n",
       "      <td>3.0</td>\n",
       "      <td>0.0</td>\n",
       "      <td>1.0</td>\n",
       "      <td>0.0</td>\n",
       "      <td>0.0</td>\n",
       "      <td>0.0</td>\n",
       "      <td>0.0</td>\n",
       "      <td>0.0</td>\n",
       "      <td>0.0</td>\n",
       "      <td>678</td>\n",
       "    </tr>\n",
       "    <tr>\n",
       "      <th>2</th>\n",
       "      <td>ACCIDENT_00002</td>\n",
       "      <td>2019-01-01 01:00:00</td>\n",
       "      <td>화요일</td>\n",
       "      <td>맑음</td>\n",
       "      <td>대구광역시 수성구 두산동</td>\n",
       "      <td>단일로 - 기타</td>\n",
       "      <td>건조</td>\n",
       "      <td>차대사람</td>\n",
       "      <td>차도통행중</td>\n",
       "      <td>안전운전불이행</td>\n",
       "      <td>승용</td>\n",
       "      <td>남</td>\n",
       "      <td>70세</td>\n",
       "      <td>상해없음</td>\n",
       "      <td>보행자</td>\n",
       "      <td>남</td>\n",
       "      <td>38세</td>\n",
       "      <td>경상</td>\n",
       "      <td>0</td>\n",
       "      <td>0</td>\n",
       "      <td>1</td>\n",
       "      <td>0</td>\n",
       "      <td>3</td>\n",
       "      <td>두산동</td>\n",
       "      <td>대구광역시</td>\n",
       "      <td>473.0</td>\n",
       "      <td>대구광역시</td>\n",
       "      <td>5.0</td>\n",
       "      <td>NaN</td>\n",
       "      <td>NaN</td>\n",
       "      <td>NaN</td>\n",
       "      <td>NaN</td>\n",
       "      <td>0.0</td>\n",
       "      <td>0.0</td>\n",
       "      <td>0.0</td>\n",
       "      <td>0.0</td>\n",
       "      <td>0.0</td>\n",
       "      <td>0.0</td>\n",
       "      <td>1.0</td>\n",
       "      <td>0.0</td>\n",
       "      <td>604</td>\n",
       "    </tr>\n",
       "    <tr>\n",
       "      <th>3</th>\n",
       "      <td>ACCIDENT_00003</td>\n",
       "      <td>2019-01-01 02:00:00</td>\n",
       "      <td>화요일</td>\n",
       "      <td>맑음</td>\n",
       "      <td>대구광역시 북구 복현동</td>\n",
       "      <td>단일로 - 기타</td>\n",
       "      <td>건조</td>\n",
       "      <td>차대차</td>\n",
       "      <td>추돌</td>\n",
       "      <td>안전운전불이행</td>\n",
       "      <td>승용</td>\n",
       "      <td>남</td>\n",
       "      <td>49세</td>\n",
       "      <td>상해없음</td>\n",
       "      <td>승용</td>\n",
       "      <td>남</td>\n",
       "      <td>36세</td>\n",
       "      <td>중상</td>\n",
       "      <td>0</td>\n",
       "      <td>1</td>\n",
       "      <td>0</td>\n",
       "      <td>0</td>\n",
       "      <td>5</td>\n",
       "      <td>복현동</td>\n",
       "      <td>대구광역시</td>\n",
       "      <td>534.0</td>\n",
       "      <td>대구광역시</td>\n",
       "      <td>11.0</td>\n",
       "      <td>대구광역시</td>\n",
       "      <td>0.0</td>\n",
       "      <td>9.0</td>\n",
       "      <td>5.0</td>\n",
       "      <td>0.0</td>\n",
       "      <td>0.0</td>\n",
       "      <td>0.0</td>\n",
       "      <td>0.0</td>\n",
       "      <td>1.0</td>\n",
       "      <td>0.0</td>\n",
       "      <td>0.0</td>\n",
       "      <td>0.0</td>\n",
       "      <td>426</td>\n",
       "    </tr>\n",
       "    <tr>\n",
       "      <th>4</th>\n",
       "      <td>ACCIDENT_00004</td>\n",
       "      <td>2019-01-01 04:00:00</td>\n",
       "      <td>화요일</td>\n",
       "      <td>맑음</td>\n",
       "      <td>대구광역시 동구 신암동</td>\n",
       "      <td>단일로 - 기타</td>\n",
       "      <td>건조</td>\n",
       "      <td>차대차</td>\n",
       "      <td>추돌</td>\n",
       "      <td>안전운전불이행</td>\n",
       "      <td>승용</td>\n",
       "      <td>남</td>\n",
       "      <td>30세</td>\n",
       "      <td>상해없음</td>\n",
       "      <td>승용</td>\n",
       "      <td>남</td>\n",
       "      <td>52세</td>\n",
       "      <td>경상</td>\n",
       "      <td>0</td>\n",
       "      <td>0</td>\n",
       "      <td>1</td>\n",
       "      <td>0</td>\n",
       "      <td>3</td>\n",
       "      <td>신암동</td>\n",
       "      <td>대구광역시</td>\n",
       "      <td>2057.0</td>\n",
       "      <td>NaN</td>\n",
       "      <td>NaN</td>\n",
       "      <td>대구광역시</td>\n",
       "      <td>0.0</td>\n",
       "      <td>1.0</td>\n",
       "      <td>0.0</td>\n",
       "      <td>0.0</td>\n",
       "      <td>0.0</td>\n",
       "      <td>0.0</td>\n",
       "      <td>1.0</td>\n",
       "      <td>0.0</td>\n",
       "      <td>0.0</td>\n",
       "      <td>0.0</td>\n",
       "      <td>0.0</td>\n",
       "      <td>825</td>\n",
       "    </tr>\n",
       "    <tr>\n",
       "      <th>...</th>\n",
       "      <td>...</td>\n",
       "      <td>...</td>\n",
       "      <td>...</td>\n",
       "      <td>...</td>\n",
       "      <td>...</td>\n",
       "      <td>...</td>\n",
       "      <td>...</td>\n",
       "      <td>...</td>\n",
       "      <td>...</td>\n",
       "      <td>...</td>\n",
       "      <td>...</td>\n",
       "      <td>...</td>\n",
       "      <td>...</td>\n",
       "      <td>...</td>\n",
       "      <td>...</td>\n",
       "      <td>...</td>\n",
       "      <td>...</td>\n",
       "      <td>...</td>\n",
       "      <td>...</td>\n",
       "      <td>...</td>\n",
       "      <td>...</td>\n",
       "      <td>...</td>\n",
       "      <td>...</td>\n",
       "      <td>...</td>\n",
       "      <td>...</td>\n",
       "      <td>...</td>\n",
       "      <td>...</td>\n",
       "      <td>...</td>\n",
       "      <td>...</td>\n",
       "      <td>...</td>\n",
       "      <td>...</td>\n",
       "      <td>...</td>\n",
       "      <td>...</td>\n",
       "      <td>...</td>\n",
       "      <td>...</td>\n",
       "      <td>...</td>\n",
       "      <td>...</td>\n",
       "      <td>...</td>\n",
       "      <td>...</td>\n",
       "      <td>...</td>\n",
       "      <td>...</td>\n",
       "    </tr>\n",
       "    <tr>\n",
       "      <th>39604</th>\n",
       "      <td>ACCIDENT_39604</td>\n",
       "      <td>2021-12-31 19:00:00</td>\n",
       "      <td>금요일</td>\n",
       "      <td>맑음</td>\n",
       "      <td>대구광역시 수성구 수성동3가</td>\n",
       "      <td>교차로 - 교차로안</td>\n",
       "      <td>건조</td>\n",
       "      <td>차대차</td>\n",
       "      <td>측면충돌</td>\n",
       "      <td>신호위반</td>\n",
       "      <td>승용</td>\n",
       "      <td>여</td>\n",
       "      <td>52세</td>\n",
       "      <td>상해없음</td>\n",
       "      <td>이륜</td>\n",
       "      <td>남</td>\n",
       "      <td>28세</td>\n",
       "      <td>경상</td>\n",
       "      <td>0</td>\n",
       "      <td>0</td>\n",
       "      <td>1</td>\n",
       "      <td>0</td>\n",
       "      <td>3</td>\n",
       "      <td>수성동3가</td>\n",
       "      <td>NaN</td>\n",
       "      <td>NaN</td>\n",
       "      <td>대구광역시</td>\n",
       "      <td>1.0</td>\n",
       "      <td>NaN</td>\n",
       "      <td>NaN</td>\n",
       "      <td>NaN</td>\n",
       "      <td>NaN</td>\n",
       "      <td>0.0</td>\n",
       "      <td>0.0</td>\n",
       "      <td>0.0</td>\n",
       "      <td>0.0</td>\n",
       "      <td>0.0</td>\n",
       "      <td>0.0</td>\n",
       "      <td>1.0</td>\n",
       "      <td>0.0</td>\n",
       "      <td>104</td>\n",
       "    </tr>\n",
       "    <tr>\n",
       "      <th>39605</th>\n",
       "      <td>ACCIDENT_39605</td>\n",
       "      <td>2021-12-31 19:00:00</td>\n",
       "      <td>금요일</td>\n",
       "      <td>맑음</td>\n",
       "      <td>대구광역시 달서구 상인동</td>\n",
       "      <td>단일로 - 기타</td>\n",
       "      <td>건조</td>\n",
       "      <td>차대차</td>\n",
       "      <td>측면충돌</td>\n",
       "      <td>안전거리미확보</td>\n",
       "      <td>승용</td>\n",
       "      <td>여</td>\n",
       "      <td>60세</td>\n",
       "      <td>상해없음</td>\n",
       "      <td>승용</td>\n",
       "      <td>남</td>\n",
       "      <td>52세</td>\n",
       "      <td>경상</td>\n",
       "      <td>0</td>\n",
       "      <td>0</td>\n",
       "      <td>1</td>\n",
       "      <td>0</td>\n",
       "      <td>3</td>\n",
       "      <td>상인동</td>\n",
       "      <td>대구광역시</td>\n",
       "      <td>843.0</td>\n",
       "      <td>NaN</td>\n",
       "      <td>NaN</td>\n",
       "      <td>대구광역시</td>\n",
       "      <td>0.0</td>\n",
       "      <td>0.0</td>\n",
       "      <td>5.0</td>\n",
       "      <td>0.0</td>\n",
       "      <td>1.0</td>\n",
       "      <td>0.0</td>\n",
       "      <td>0.0</td>\n",
       "      <td>0.0</td>\n",
       "      <td>0.0</td>\n",
       "      <td>0.0</td>\n",
       "      <td>0.0</td>\n",
       "      <td>1143</td>\n",
       "    </tr>\n",
       "    <tr>\n",
       "      <th>39606</th>\n",
       "      <td>ACCIDENT_39606</td>\n",
       "      <td>2021-12-31 21:00:00</td>\n",
       "      <td>금요일</td>\n",
       "      <td>맑음</td>\n",
       "      <td>대구광역시 달서구 월성동</td>\n",
       "      <td>교차로 - 교차로안</td>\n",
       "      <td>건조</td>\n",
       "      <td>차대차</td>\n",
       "      <td>측면충돌</td>\n",
       "      <td>교차로운행방법위반</td>\n",
       "      <td>승용</td>\n",
       "      <td>남</td>\n",
       "      <td>60세</td>\n",
       "      <td>중상</td>\n",
       "      <td>승용</td>\n",
       "      <td>남</td>\n",
       "      <td>73세</td>\n",
       "      <td>중상</td>\n",
       "      <td>0</td>\n",
       "      <td>2</td>\n",
       "      <td>0</td>\n",
       "      <td>0</td>\n",
       "      <td>10</td>\n",
       "      <td>월성동</td>\n",
       "      <td>대구광역시</td>\n",
       "      <td>164.0</td>\n",
       "      <td>NaN</td>\n",
       "      <td>NaN</td>\n",
       "      <td>대구광역시</td>\n",
       "      <td>0.0</td>\n",
       "      <td>1.0</td>\n",
       "      <td>0.0</td>\n",
       "      <td>0.0</td>\n",
       "      <td>1.0</td>\n",
       "      <td>0.0</td>\n",
       "      <td>0.0</td>\n",
       "      <td>0.0</td>\n",
       "      <td>0.0</td>\n",
       "      <td>0.0</td>\n",
       "      <td>0.0</td>\n",
       "      <td>618</td>\n",
       "    </tr>\n",
       "    <tr>\n",
       "      <th>39607</th>\n",
       "      <td>ACCIDENT_39607</td>\n",
       "      <td>2021-12-31 22:00:00</td>\n",
       "      <td>금요일</td>\n",
       "      <td>맑음</td>\n",
       "      <td>대구광역시 달서구 장동</td>\n",
       "      <td>기타 - 기타</td>\n",
       "      <td>건조</td>\n",
       "      <td>차대차</td>\n",
       "      <td>추돌</td>\n",
       "      <td>안전운전불이행</td>\n",
       "      <td>승용</td>\n",
       "      <td>남</td>\n",
       "      <td>40세</td>\n",
       "      <td>상해없음</td>\n",
       "      <td>승용</td>\n",
       "      <td>여</td>\n",
       "      <td>57세</td>\n",
       "      <td>경상</td>\n",
       "      <td>0</td>\n",
       "      <td>0</td>\n",
       "      <td>1</td>\n",
       "      <td>0</td>\n",
       "      <td>3</td>\n",
       "      <td>장동</td>\n",
       "      <td>대구광역시</td>\n",
       "      <td>210.0</td>\n",
       "      <td>NaN</td>\n",
       "      <td>NaN</td>\n",
       "      <td>대구광역시</td>\n",
       "      <td>0.0</td>\n",
       "      <td>0.0</td>\n",
       "      <td>1.0</td>\n",
       "      <td>0.0</td>\n",
       "      <td>1.0</td>\n",
       "      <td>0.0</td>\n",
       "      <td>0.0</td>\n",
       "      <td>0.0</td>\n",
       "      <td>0.0</td>\n",
       "      <td>0.0</td>\n",
       "      <td>0.0</td>\n",
       "      <td>125</td>\n",
       "    </tr>\n",
       "    <tr>\n",
       "      <th>39608</th>\n",
       "      <td>ACCIDENT_39608</td>\n",
       "      <td>2021-12-31 23:00:00</td>\n",
       "      <td>금요일</td>\n",
       "      <td>맑음</td>\n",
       "      <td>대구광역시 서구 비산동</td>\n",
       "      <td>단일로 - 지하차도(도로)내</td>\n",
       "      <td>건조</td>\n",
       "      <td>차대차</td>\n",
       "      <td>측면충돌</td>\n",
       "      <td>안전운전불이행</td>\n",
       "      <td>승용</td>\n",
       "      <td>남</td>\n",
       "      <td>27세</td>\n",
       "      <td>상해없음</td>\n",
       "      <td>승용</td>\n",
       "      <td>남</td>\n",
       "      <td>33세</td>\n",
       "      <td>경상</td>\n",
       "      <td>0</td>\n",
       "      <td>0</td>\n",
       "      <td>2</td>\n",
       "      <td>0</td>\n",
       "      <td>6</td>\n",
       "      <td>비산동</td>\n",
       "      <td>NaN</td>\n",
       "      <td>NaN</td>\n",
       "      <td>대구광역시</td>\n",
       "      <td>19.0</td>\n",
       "      <td>대구광역시</td>\n",
       "      <td>6.0</td>\n",
       "      <td>30.0</td>\n",
       "      <td>13.0</td>\n",
       "      <td>0.0</td>\n",
       "      <td>0.0</td>\n",
       "      <td>0.0</td>\n",
       "      <td>0.0</td>\n",
       "      <td>0.0</td>\n",
       "      <td>1.0</td>\n",
       "      <td>0.0</td>\n",
       "      <td>0.0</td>\n",
       "      <td>968</td>\n",
       "    </tr>\n",
       "  </tbody>\n",
       "</table>\n",
       "<p>39609 rows × 41 columns</p>\n",
       "</div>"
      ],
      "text/plain": [
       "                   ID                사고일시   요일 기상상태              시군구  \\\n",
       "0      ACCIDENT_00000 2019-01-01 00:00:00  화요일   맑음     대구광역시 중구 대신동   \n",
       "1      ACCIDENT_00001 2019-01-01 00:00:00  화요일   흐림    대구광역시 달서구 감삼동   \n",
       "2      ACCIDENT_00002 2019-01-01 01:00:00  화요일   맑음    대구광역시 수성구 두산동   \n",
       "3      ACCIDENT_00003 2019-01-01 02:00:00  화요일   맑음     대구광역시 북구 복현동   \n",
       "4      ACCIDENT_00004 2019-01-01 04:00:00  화요일   맑음     대구광역시 동구 신암동   \n",
       "...               ...                 ...  ...  ...              ...   \n",
       "39604  ACCIDENT_39604 2021-12-31 19:00:00  금요일   맑음  대구광역시 수성구 수성동3가   \n",
       "39605  ACCIDENT_39605 2021-12-31 19:00:00  금요일   맑음    대구광역시 달서구 상인동   \n",
       "39606  ACCIDENT_39606 2021-12-31 21:00:00  금요일   맑음    대구광역시 달서구 월성동   \n",
       "39607  ACCIDENT_39607 2021-12-31 22:00:00  금요일   맑음     대구광역시 달서구 장동   \n",
       "39608  ACCIDENT_39608 2021-12-31 23:00:00  금요일   맑음     대구광역시 서구 비산동   \n",
       "\n",
       "                  도로형태 노면상태  사고유형 사고유형 - 세부분류       법규위반 가해운전자 차종 가해운전자 성별  \\\n",
       "0             단일로 - 기타   건조  차대사람  길가장자리구역통행중    안전운전불이행       승용        여   \n",
       "1             단일로 - 기타   건조  차대사람       보도통행중         기타       승용        남   \n",
       "2             단일로 - 기타   건조  차대사람       차도통행중    안전운전불이행       승용        남   \n",
       "3             단일로 - 기타   건조   차대차          추돌    안전운전불이행       승용        남   \n",
       "4             단일로 - 기타   건조   차대차          추돌    안전운전불이행       승용        남   \n",
       "...                ...  ...   ...         ...        ...      ...      ...   \n",
       "39604       교차로 - 교차로안   건조   차대차        측면충돌       신호위반       승용        여   \n",
       "39605         단일로 - 기타   건조   차대차        측면충돌    안전거리미확보       승용        여   \n",
       "39606       교차로 - 교차로안   건조   차대차        측면충돌  교차로운행방법위반       승용        남   \n",
       "39607          기타 - 기타   건조   차대차          추돌    안전운전불이행       승용        남   \n",
       "39608  단일로 - 지하차도(도로)내   건조   차대차        측면충돌    안전운전불이행       승용        남   \n",
       "\n",
       "      가해운전자 연령 가해운전자 상해정도 피해운전자 차종 피해운전자 성별 피해운전자 연령 피해운전자 상해정도  사망자수  중상자수  \\\n",
       "0          51세       상해없음      보행자        여      70세         중상     0     1   \n",
       "1          39세       상해없음      보행자        남      61세         경상     0     0   \n",
       "2          70세       상해없음      보행자        남      38세         경상     0     0   \n",
       "3          49세       상해없음       승용        남      36세         중상     0     1   \n",
       "4          30세       상해없음       승용        남      52세         경상     0     0   \n",
       "...        ...        ...      ...      ...      ...        ...   ...   ...   \n",
       "39604      52세       상해없음       이륜        남      28세         경상     0     0   \n",
       "39605      60세       상해없음       승용        남      52세         경상     0     0   \n",
       "39606      60세         중상       승용        남      73세         중상     0     2   \n",
       "39607      40세       상해없음       승용        여      57세         경상     0     0   \n",
       "39608      27세       상해없음       승용        남      33세         경상     0     0   \n",
       "\n",
       "       경상자수  부상자수  ECLO      구   도시_x    설치개수   도시_y   cnt     도시  급지구분_1  \\\n",
       "0         0     0     5    대신동  대구광역시   391.0  대구광역시   2.0  대구광역시    11.0   \n",
       "1         1     0     3    감삼동  대구광역시   932.0    NaN   NaN  대구광역시     0.0   \n",
       "2         1     0     3    두산동  대구광역시   473.0  대구광역시   5.0    NaN     NaN   \n",
       "3         0     0     5    복현동  대구광역시   534.0  대구광역시  11.0  대구광역시     0.0   \n",
       "4         1     0     3    신암동  대구광역시  2057.0    NaN   NaN  대구광역시     0.0   \n",
       "...     ...   ...   ...    ...    ...     ...    ...   ...    ...     ...   \n",
       "39604     1     0     3  수성동3가    NaN     NaN  대구광역시   1.0    NaN     NaN   \n",
       "39605     1     0     3    상인동  대구광역시   843.0    NaN   NaN  대구광역시     0.0   \n",
       "39606     0     0    10    월성동  대구광역시   164.0    NaN   NaN  대구광역시     0.0   \n",
       "39607     1     0     3     장동  대구광역시   210.0    NaN   NaN  대구광역시     0.0   \n",
       "39608     2     0     6    비산동    NaN     NaN  대구광역시  19.0  대구광역시     6.0   \n",
       "\n",
       "       급지구분_2  급지구분_3  군_남구  군_달서구  군_달성군  군_동구  군_북구  군_서구  군_수성구  군_중구  \\\n",
       "0         0.0     0.0   0.0    0.0    0.0   0.0   0.0   0.0    0.0   1.0   \n",
       "1         1.0     3.0   0.0    1.0    0.0   0.0   0.0   0.0    0.0   0.0   \n",
       "2         NaN     NaN   0.0    0.0    0.0   0.0   0.0   0.0    1.0   0.0   \n",
       "3         9.0     5.0   0.0    0.0    0.0   0.0   1.0   0.0    0.0   0.0   \n",
       "4         1.0     0.0   0.0    0.0    0.0   1.0   0.0   0.0    0.0   0.0   \n",
       "...       ...     ...   ...    ...    ...   ...   ...   ...    ...   ...   \n",
       "39604     NaN     NaN   0.0    0.0    0.0   0.0   0.0   0.0    1.0   0.0   \n",
       "39605     0.0     5.0   0.0    1.0    0.0   0.0   0.0   0.0    0.0   0.0   \n",
       "39606     1.0     0.0   0.0    1.0    0.0   0.0   0.0   0.0    0.0   0.0   \n",
       "39607     0.0     1.0   0.0    1.0    0.0   0.0   0.0   0.0    0.0   0.0   \n",
       "39608    30.0    13.0   0.0    0.0    0.0   0.0   0.0   1.0    0.0   0.0   \n",
       "\n",
       "       사고발생횟수  \n",
       "0         131  \n",
       "1         678  \n",
       "2         604  \n",
       "3         426  \n",
       "4         825  \n",
       "...       ...  \n",
       "39604     104  \n",
       "39605    1143  \n",
       "39606     618  \n",
       "39607     125  \n",
       "39608     968  \n",
       "\n",
       "[39609 rows x 41 columns]"
      ]
     },
     "execution_count": 18,
     "metadata": {},
     "output_type": "execute_result"
    }
   ],
   "source": [
    "train_df"
   ]
  },
  {
   "cell_type": "code",
   "execution_count": null,
   "id": "96926c2b",
   "metadata": {
    "ExecuteTime": {
     "end_time": "2023-12-06T18:31:54.190051Z",
     "start_time": "2023-12-06T18:31:54.190051Z"
    },
    "colab": {
     "base_uri": "https://localhost:8080/",
     "height": 1000
    },
    "executionInfo": {
     "elapsed": 5,
     "status": "ok",
     "timestamp": 1701854964859,
     "user": {
      "displayName": "skiersong9",
      "userId": "11108221763786546299"
     },
     "user_tz": -540
    },
    "id": "96926c2b",
    "outputId": "a0246b65-ed48-49a8-e1e6-96cde04cea12"
   },
   "outputs": [],
   "source": [
    "test_df"
   ]
  },
  {
   "cell_type": "code",
   "execution_count": 19,
   "id": "c5fceb36",
   "metadata": {
    "ExecuteTime": {
     "end_time": "2023-12-10T05:06:53.244326Z",
     "start_time": "2023-12-10T05:06:53.205198Z"
    },
    "executionInfo": {
     "elapsed": 447,
     "status": "ok",
     "timestamp": 1701854967772,
     "user": {
      "displayName": "skiersong9",
      "userId": "11108221763786546299"
     },
     "user_tz": -540
    },
    "id": "c5fceb36"
   },
   "outputs": [],
   "source": [
    "# datetime 컬럼 처리\n",
    "train_df['사고일시'] = pd.to_datetime(train_df['사고일시'])\n",
    "test_df['사고일시'] = pd.to_datetime(test_df['사고일시'])\n",
    "\n",
    "# datetime을 여러 파생 변수로 변환\n",
    "for df in [train_df, test_df]:\n",
    "    df['year'] = df['사고일시'].dt.year\n",
    "    df['month'] = df['사고일시'].dt.month\n",
    "    df['day'] = df['사고일시'].dt.day\n",
    "    df['hour'] = df['사고일시'].dt.hour\n",
    "    df['minute'] = df['사고일시'].dt.minute\n",
    "    df['weekday'] = df['사고일시'].dt.weekday"
   ]
  },
  {
   "cell_type": "code",
   "execution_count": 20,
   "id": "52939ef0",
   "metadata": {
    "ExecuteTime": {
     "end_time": "2023-12-10T05:06:54.353417Z",
     "start_time": "2023-12-10T05:06:54.334710Z"
    },
    "executionInfo": {
     "elapsed": 2,
     "status": "ok",
     "timestamp": 1701854969103,
     "user": {
      "displayName": "skiersong9",
      "userId": "11108221763786546299"
     },
     "user_tz": -540
    },
    "id": "52939ef0"
   },
   "outputs": [],
   "source": [
    "holi_weekday = ['2019-01-01', '2019-02-04', '2019-02-05', '2019-02-06', '2019-03-01', '2019-05-05', '2019-05-12', '2019-06-06', '2019-08-15', '2019-09-12', '2019-09-13', '2019-09-14', '2019-10-03', '2019-10-09', '2019-12-25',\n",
    "                '2020-01-01' ,'2020-01-24' ,'2020-01-25', '2020-01-26', '2020-03-01', '2020-04-30', '2020-05-05', '2020-06-06', '2020-08-15', '2020-08-17', '2020-09-30', '2020-10-01', '2020-10-02', '2020-10-03', '2020-10-09', '2020-12-25',\n",
    "                '2021-01-01' ,'2021-02-11' ,'2021-02-12', '2021-02-13', '2021-03-01', '2021-05-05', '2021-05-19', '2021-06-06', '2021-08-15', '2021-09-20', '2021-09-21', '2021-09-22', '2021-10-03', '2021-10-09', '2021-12-25',\n",
    "                '2022-01-01' ,'2022-01-31' ,'2022-02-01', '2022-02-02', '2022-03-01', '2022-05-05', '2022-05-08', '2022-06-06', '2022-08-15', '2022-09-09', '2022-09-10', '2022-09-11', '2022-09-12', '2022-10-03', '2022-10-09', '2020-10-10', '2022-12-25',\n",
    "                '2023-01-01' ,'2023-01-21' ,'2023-01-22', '2023-01-23', '2023-01-24', '2023-03-01']"
   ]
  },
  {
   "cell_type": "code",
   "execution_count": 21,
   "id": "9c884a88",
   "metadata": {
    "ExecuteTime": {
     "end_time": "2023-12-10T05:06:55.039193Z",
     "start_time": "2023-12-10T05:06:55.002937Z"
    },
    "executionInfo": {
     "elapsed": 2,
     "status": "ok",
     "timestamp": 1701854970493,
     "user": {
      "displayName": "skiersong9",
      "userId": "11108221763786546299"
     },
     "user_tz": -540
    },
    "id": "9c884a88"
   },
   "outputs": [],
   "source": [
    "train_df['사고일시'] = pd.to_datetime(train_df['사고일시'])\n",
    "train_df['day_of_week'] = train_df['사고일시'].dt.dayofweek\n",
    "train_df['holiday'] = np.where((train_df.day_of_week >= 5) | (train_df.사고일시.dt.strftime('%Y-%m-%d').isin(holi_weekday)), 1, 0)"
   ]
  },
  {
   "cell_type": "code",
   "execution_count": 22,
   "id": "dbb2a999",
   "metadata": {
    "ExecuteTime": {
     "end_time": "2023-12-10T05:06:55.938785Z",
     "start_time": "2023-12-10T05:06:55.920566Z"
    },
    "executionInfo": {
     "elapsed": 2,
     "status": "ok",
     "timestamp": 1701854972122,
     "user": {
      "displayName": "skiersong9",
      "userId": "11108221763786546299"
     },
     "user_tz": -540
    },
    "id": "dbb2a999"
   },
   "outputs": [],
   "source": [
    "test_df['사고일시'] = pd.to_datetime(test_df['사고일시'])\n",
    "test_df['day_of_week'] = test_df['사고일시'].dt.dayofweek\n",
    "test_df['holiday'] = np.where((test_df.day_of_week >= 5) | (test_df.사고일시.dt.strftime('%Y-%m-%d').isin(holi_weekday)), 1, 0)"
   ]
  },
  {
   "cell_type": "code",
   "execution_count": 23,
   "id": "e192f5a8",
   "metadata": {
    "ExecuteTime": {
     "end_time": "2023-12-10T05:06:56.560327Z",
     "start_time": "2023-12-10T05:06:56.537744Z"
    },
    "executionInfo": {
     "elapsed": 2,
     "status": "ok",
     "timestamp": 1701854973340,
     "user": {
      "displayName": "skiersong9",
      "userId": "11108221763786546299"
     },
     "user_tz": -540
    },
    "id": "e192f5a8"
   },
   "outputs": [],
   "source": [
    "train_df = train_df.drop(columns=['사고유형 - 세부분류','법규위반','가해운전자 차종','가해운전자 성별','가해운전자 연령',\n",
    "                               '가해운전자 상해정도','사망자수','사망자수','중상자수','피해운전자 차종','피해운전자 성별',\n",
    "                      '피해운전자 연령','피해운전자 상해정도','경상자수','부상자수','사고유형 - 세부분류'])"
   ]
  },
  {
   "cell_type": "markdown",
   "id": "4d9496e7-9d4a-44a7-8c74-2e5420822c05",
   "metadata": {
    "id": "4d9496e7-9d4a-44a7-8c74-2e5420822c05"
   },
   "source": [
    "# 계절 변수 추가"
   ]
  },
  {
   "cell_type": "code",
   "execution_count": 24,
   "id": "9b6ff628-cccc-4c0b-a4eb-9254a753a9d5",
   "metadata": {
    "ExecuteTime": {
     "end_time": "2023-12-10T05:06:58.764199Z",
     "start_time": "2023-12-10T05:06:58.740303Z"
    },
    "executionInfo": {
     "elapsed": 2,
     "status": "ok",
     "timestamp": 1701854975441,
     "user": {
      "displayName": "skiersong9",
      "userId": "11108221763786546299"
     },
     "user_tz": -540
    },
    "id": "9b6ff628-cccc-4c0b-a4eb-9254a753a9d5"
   },
   "outputs": [],
   "source": [
    "def group_season(df):\n",
    "    df.loc[(df['month'] == 3) | (df['month'] == 4) | (df['month'] == 5), 'season'] = '봄'\n",
    "    df.loc[(df['month'] == 6) | (df['month'] == 7) | (df['month'] == 8), 'season'] = '여름'\n",
    "    df.loc[(df['month'] == 9) | (df['month'] == 10) | (df['month'] == 11), 'season'] = '가을'\n",
    "    df.loc[(df['month'] == 12) | (df['month'] == 1) | (df['month'] == 2), 'season'] = '겨울'\n",
    "    return df['season']\n",
    "\n",
    "train_df['Cosine_Time'] = np.cos(2 * np.pi * train_df['hour'] / 24)\n",
    "test_df['Cosine_Time'] = np.cos(2 * np.pi * test_df['hour'] / 24)\n",
    "train_df['season'] = group_season(train_df)\n",
    "test_df['season'] = group_season(test_df)"
   ]
  },
  {
   "cell_type": "code",
   "execution_count": 5,
   "id": "1aeb17e0",
   "metadata": {
    "ExecuteTime": {
     "end_time": "2023-12-08T16:50:46.806234Z",
     "start_time": "2023-12-08T16:50:46.466377Z"
    }
   },
   "outputs": [
    {
     "name": "stdout",
     "output_type": "stream",
     "text": [
      "(239,)\n"
     ]
    },
    {
     "data": {
      "image/png": "[encoded data removed]",
      "text/plain": [
       "<Figure size 1000x600 with 1 Axes>"
      ]
     },
     "metadata": {},
     "output_type": "display_data"
    }
   ],
   "source": [
    "x = np.arange(0.1,24, 0.1)\n",
    "# y = np.array(x) * 5\n",
    "cos_y = np.sign(np.pi*x/6) + np.cos(np.pi*x/6) +4 \n",
    "# cos_y = np.sign(np.pi*2*x/24) + np.cos(np.pi*2*x/24) + np.sign(np.pi*4*x/24) + np.cos(np.pi*4*x/24)\n",
    "\n",
    "print(cos_y.shape)\n",
    "\n",
    "fig,axs = plt.subplots(figsize=(10,6))\n",
    "sns.lineplot(x=x,y=cos_y, ax=axs)\n",
    "plt.show()"
   ]
  },
  {
   "cell_type": "code",
   "execution_count": 4,
   "id": "e5f12e69",
   "metadata": {
    "ExecuteTime": {
     "end_time": "2023-12-09T11:53:22.804922Z",
     "start_time": "2023-12-09T11:53:22.632219Z"
    }
   },
   "outputs": [
    {
     "name": "stdout",
     "output_type": "stream",
     "text": [
      "(239,)\n"
     ]
    },
    {
     "data": {
      "image/png": "[encoded data removed]",
      "text/plain": [
       "<Figure size 1000x600 with 1 Axes>"
      ]
     },
     "metadata": {},
     "output_type": "display_data"
    }
   ],
   "source": [
    "x = np.arange(0.1,24, 0.1)\n",
    "cos_y = np.sign(np.pi*2*x/24) + np.cos(np.pi*2*x/24) + np.sign(np.pi*4*x/24) + np.cos(np.pi*4*x/24)\n",
    "print(cos_y.shape)\n",
    "\n",
    "fig,axs = plt.subplots(figsize=(10,6))\n",
    "sns.lineplot(x=x,y=np.log1p(cos_y), ax=axs)\n",
    "plt.show()"
   ]
  },
  {
   "cell_type": "code",
   "execution_count": 157,
   "id": "711a1864",
   "metadata": {
    "ExecuteTime": {
     "end_time": "2023-12-07T04:49:12.502977Z",
     "start_time": "2023-12-07T04:49:12.326003Z"
    }
   },
   "outputs": [
    {
     "name": "stdout",
     "output_type": "stream",
     "text": [
      "(119,)\n"
     ]
    },
    {
     "data": {
      "image/png": "[encoded data removed]",
      "text/plain": [
       "<Figure size 1000x600 with 1 Axes>"
      ]
     },
     "metadata": {},
     "output_type": "display_data"
    }
   ],
   "source": [
    "x = np.arange(0.1,12, 0.1)\n",
    "cos_y = -np.cos(np.pi*2*x/12) + np.cos(np.pi*2*x/12) - np.cos(np.pi*4*x/12) + np.sign(np.pi*5*x/12) + np.cos(np.pi*1*x/12) \n",
    "cos_y = cos_y+2\n",
    "print(cos_y.shape)\n",
    "\n",
    "fig,axs = plt.subplots(figsize=(10,6))\n",
    "sns.lineplot(x=x,y=cos_y, ax=axs)\n",
    "plt.show()"
   ]
  },
  {
   "cell_type": "markdown",
   "id": "9174886f-c6b5-470b-9870-320173464ac7",
   "metadata": {
    "id": "9174886f-c6b5-470b-9870-320173464ac7"
   },
   "source": [
    "# Target-Encoding"
   ]
  },
  {
   "cell_type": "code",
   "execution_count": 25,
   "id": "ab25adf4",
   "metadata": {
    "ExecuteTime": {
     "end_time": "2023-12-10T05:07:05.013229Z",
     "start_time": "2023-12-10T05:07:04.706559Z"
    },
    "executionInfo": {
     "elapsed": 590,
     "status": "ok",
     "timestamp": 1701854978357,
     "user": {
      "displayName": "skiersong9",
      "userId": "11108221763786546299"
     },
     "user_tz": -540
    },
    "id": "ab25adf4"
   },
   "outputs": [],
   "source": [
    "# Target encoding\n",
    "from category_encoders.target_encoder import TargetEncoder\n",
    "\n",
    "categorical_features = ['ID','시군구','요일','도로형태','사고유형','구','기상상태', '노면상태','season']\n",
    "\n",
    "for i in categorical_features:\n",
    "    tr_encoder = TargetEncoder(cols=[i])\n",
    "    train_df[i] = tr_encoder.fit_transform(train_df[i], train_df['ECLO'])\n",
    "    test_df[i] = tr_encoder.transform(test_df[i])"
   ]
  },
  {
   "cell_type": "code",
   "execution_count": 26,
   "id": "891f5ec1",
   "metadata": {
    "ExecuteTime": {
     "end_time": "2023-12-10T05:07:05.929850Z",
     "start_time": "2023-12-10T05:07:05.919603Z"
    },
    "executionInfo": {
     "elapsed": 405,
     "status": "ok",
     "timestamp": 1701854980257,
     "user": {
      "displayName": "skiersong9",
      "userId": "11108221763786546299"
     },
     "user_tz": -540
    },
    "id": "891f5ec1"
   },
   "outputs": [],
   "source": [
    "target = train_df['ECLO']"
   ]
  },
  {
   "cell_type": "code",
   "execution_count": 27,
   "id": "f303aa87",
   "metadata": {
    "ExecuteTime": {
     "end_time": "2023-12-10T05:07:06.677264Z",
     "start_time": "2023-12-10T05:07:06.672674Z"
    },
    "executionInfo": {
     "elapsed": 2,
     "status": "ok",
     "timestamp": 1701854981225,
     "user": {
      "displayName": "skiersong9",
      "userId": "11108221763786546299"
     },
     "user_tz": -540
    },
    "id": "f303aa87"
   },
   "outputs": [],
   "source": [
    "train_df['ECLO'] = target"
   ]
  },
  {
   "cell_type": "code",
   "execution_count": null,
   "id": "dc1d7040-517e-498f-9d34-8076303503bc",
   "metadata": {
    "ExecuteTime": {
     "end_time": "2023-12-06T18:31:54.208951Z",
     "start_time": "2023-12-06T18:31:54.208951Z"
    },
    "colab": {
     "base_uri": "https://localhost:8080/",
     "height": 353
    },
    "executionInfo": {
     "elapsed": 4,
     "status": "error",
     "timestamp": 1701854982475,
     "user": {
      "displayName": "skiersong9",
      "userId": "11108221763786546299"
     },
     "user_tz": -540
    },
    "id": "dc1d7040-517e-498f-9d34-8076303503bc",
    "outputId": "ea252e40-c6f0-4662-e5a7-dee88713f3d2"
   },
   "outputs": [],
   "source": [
    "# train_df.corr()"
   ]
  },
  {
   "cell_type": "code",
   "execution_count": 28,
   "id": "b210d7a9",
   "metadata": {
    "ExecuteTime": {
     "end_time": "2023-12-10T05:07:15.596051Z",
     "start_time": "2023-12-10T05:07:15.578619Z"
    },
    "id": "b210d7a9"
   },
   "outputs": [],
   "source": [
    "train_df = train_df.drop(columns=['ECLO'])"
   ]
  },
  {
   "cell_type": "code",
   "execution_count": 29,
   "id": "33618ddc",
   "metadata": {
    "ExecuteTime": {
     "end_time": "2023-12-10T05:07:20.379391Z",
     "start_time": "2023-12-10T05:07:20.371101Z"
    },
    "id": "33618ddc"
   },
   "outputs": [],
   "source": [
    "test_df = test_df.drop(columns=['사고일시'])"
   ]
  },
  {
   "cell_type": "code",
   "execution_count": null,
   "id": "d553cb17-4ca0-4919-b149-6c2afb72e2ea",
   "metadata": {
    "ExecuteTime": {
     "end_time": "2023-12-06T18:31:54.213381Z",
     "start_time": "2023-12-06T18:31:54.213381Z"
    },
    "colab": {
     "base_uri": "https://localhost:8080/"
    },
    "executionInfo": {
     "elapsed": 533,
     "status": "ok",
     "timestamp": 1701854998263,
     "user": {
      "displayName": "skiersong9",
      "userId": "11108221763786546299"
     },
     "user_tz": -540
    },
    "id": "d553cb17-4ca0-4919-b149-6c2afb72e2ea",
    "outputId": "a3012218-6523-4b57-ddb6-eaa8392f872f"
   },
   "outputs": [],
   "source": [
    "train_df.columns"
   ]
  },
  {
   "cell_type": "code",
   "execution_count": 30,
   "id": "e28152e5",
   "metadata": {
    "ExecuteTime": {
     "end_time": "2023-12-10T05:07:23.568495Z",
     "start_time": "2023-12-10T05:07:23.531468Z"
    }
   },
   "outputs": [
    {
     "data": {
      "text/html": [
       "<div>\n",
       "<style scoped>\n",
       "    .dataframe tbody tr th:only-of-type {\n",
       "        vertical-align: middle;\n",
       "    }\n",
       "\n",
       "    .dataframe tbody tr th {\n",
       "        vertical-align: top;\n",
       "    }\n",
       "\n",
       "    .dataframe thead th {\n",
       "        text-align: right;\n",
       "    }\n",
       "</style>\n",
       "<table border=\"1\" class=\"dataframe\">\n",
       "  <thead>\n",
       "    <tr style=\"text-align: right;\">\n",
       "      <th></th>\n",
       "      <th>ID</th>\n",
       "      <th>사고일시</th>\n",
       "      <th>요일</th>\n",
       "      <th>기상상태</th>\n",
       "      <th>시군구</th>\n",
       "      <th>도로형태</th>\n",
       "      <th>노면상태</th>\n",
       "      <th>사고유형</th>\n",
       "      <th>구</th>\n",
       "      <th>도시_x</th>\n",
       "      <th>설치개수</th>\n",
       "      <th>도시_y</th>\n",
       "      <th>cnt</th>\n",
       "      <th>도시</th>\n",
       "      <th>급지구분_1</th>\n",
       "      <th>급지구분_2</th>\n",
       "      <th>급지구분_3</th>\n",
       "      <th>군_남구</th>\n",
       "      <th>군_달서구</th>\n",
       "      <th>군_달성군</th>\n",
       "      <th>군_동구</th>\n",
       "      <th>군_북구</th>\n",
       "      <th>군_서구</th>\n",
       "      <th>군_수성구</th>\n",
       "      <th>군_중구</th>\n",
       "      <th>사고발생횟수</th>\n",
       "      <th>year</th>\n",
       "      <th>month</th>\n",
       "      <th>day</th>\n",
       "      <th>hour</th>\n",
       "      <th>minute</th>\n",
       "      <th>weekday</th>\n",
       "      <th>day_of_week</th>\n",
       "      <th>holiday</th>\n",
       "      <th>Cosine_Time</th>\n",
       "      <th>season</th>\n",
       "    </tr>\n",
       "  </thead>\n",
       "  <tbody>\n",
       "    <tr>\n",
       "      <th>0</th>\n",
       "      <td>4.762262</td>\n",
       "      <td>2019-01-01 00:00:00</td>\n",
       "      <td>4.627926</td>\n",
       "      <td>4.712888</td>\n",
       "      <td>4.282449</td>\n",
       "      <td>4.653990</td>\n",
       "      <td>4.712878</td>\n",
       "      <td>3.817650</td>\n",
       "      <td>4.282449</td>\n",
       "      <td>대구광역시</td>\n",
       "      <td>391.0</td>\n",
       "      <td>대구광역시</td>\n",
       "      <td>2.0</td>\n",
       "      <td>대구광역시</td>\n",
       "      <td>11.0</td>\n",
       "      <td>0.0</td>\n",
       "      <td>0.0</td>\n",
       "      <td>0.0</td>\n",
       "      <td>0.0</td>\n",
       "      <td>0.0</td>\n",
       "      <td>0.0</td>\n",
       "      <td>0.0</td>\n",
       "      <td>0.0</td>\n",
       "      <td>0.0</td>\n",
       "      <td>1.0</td>\n",
       "      <td>131</td>\n",
       "      <td>2019</td>\n",
       "      <td>1</td>\n",
       "      <td>1</td>\n",
       "      <td>0</td>\n",
       "      <td>0</td>\n",
       "      <td>1</td>\n",
       "      <td>1</td>\n",
       "      <td>1</td>\n",
       "      <td>1.000000</td>\n",
       "      <td>4.659111</td>\n",
       "    </tr>\n",
       "    <tr>\n",
       "      <th>1</th>\n",
       "      <td>4.502045</td>\n",
       "      <td>2019-01-01 00:00:00</td>\n",
       "      <td>4.627926</td>\n",
       "      <td>4.779150</td>\n",
       "      <td>4.738938</td>\n",
       "      <td>4.653990</td>\n",
       "      <td>4.712878</td>\n",
       "      <td>3.817650</td>\n",
       "      <td>4.738938</td>\n",
       "      <td>대구광역시</td>\n",
       "      <td>932.0</td>\n",
       "      <td>NaN</td>\n",
       "      <td>NaN</td>\n",
       "      <td>대구광역시</td>\n",
       "      <td>0.0</td>\n",
       "      <td>1.0</td>\n",
       "      <td>3.0</td>\n",
       "      <td>0.0</td>\n",
       "      <td>1.0</td>\n",
       "      <td>0.0</td>\n",
       "      <td>0.0</td>\n",
       "      <td>0.0</td>\n",
       "      <td>0.0</td>\n",
       "      <td>0.0</td>\n",
       "      <td>0.0</td>\n",
       "      <td>678</td>\n",
       "      <td>2019</td>\n",
       "      <td>1</td>\n",
       "      <td>1</td>\n",
       "      <td>0</td>\n",
       "      <td>0</td>\n",
       "      <td>1</td>\n",
       "      <td>1</td>\n",
       "      <td>1</td>\n",
       "      <td>1.000000</td>\n",
       "      <td>4.659111</td>\n",
       "    </tr>\n",
       "    <tr>\n",
       "      <th>2</th>\n",
       "      <td>4.502045</td>\n",
       "      <td>2019-01-01 01:00:00</td>\n",
       "      <td>4.627926</td>\n",
       "      <td>4.712888</td>\n",
       "      <td>4.842715</td>\n",
       "      <td>4.653990</td>\n",
       "      <td>4.712878</td>\n",
       "      <td>3.817650</td>\n",
       "      <td>4.842715</td>\n",
       "      <td>대구광역시</td>\n",
       "      <td>473.0</td>\n",
       "      <td>대구광역시</td>\n",
       "      <td>5.0</td>\n",
       "      <td>NaN</td>\n",
       "      <td>NaN</td>\n",
       "      <td>NaN</td>\n",
       "      <td>NaN</td>\n",
       "      <td>0.0</td>\n",
       "      <td>0.0</td>\n",
       "      <td>0.0</td>\n",
       "      <td>0.0</td>\n",
       "      <td>0.0</td>\n",
       "      <td>0.0</td>\n",
       "      <td>1.0</td>\n",
       "      <td>0.0</td>\n",
       "      <td>604</td>\n",
       "      <td>2019</td>\n",
       "      <td>1</td>\n",
       "      <td>1</td>\n",
       "      <td>1</td>\n",
       "      <td>0</td>\n",
       "      <td>1</td>\n",
       "      <td>1</td>\n",
       "      <td>1</td>\n",
       "      <td>0.965926</td>\n",
       "      <td>4.659111</td>\n",
       "    </tr>\n",
       "    <tr>\n",
       "      <th>3</th>\n",
       "      <td>4.762262</td>\n",
       "      <td>2019-01-01 02:00:00</td>\n",
       "      <td>4.627926</td>\n",
       "      <td>4.712888</td>\n",
       "      <td>4.208920</td>\n",
       "      <td>4.653990</td>\n",
       "      <td>4.712878</td>\n",
       "      <td>4.944597</td>\n",
       "      <td>4.208920</td>\n",
       "      <td>대구광역시</td>\n",
       "      <td>534.0</td>\n",
       "      <td>대구광역시</td>\n",
       "      <td>11.0</td>\n",
       "      <td>대구광역시</td>\n",
       "      <td>0.0</td>\n",
       "      <td>9.0</td>\n",
       "      <td>5.0</td>\n",
       "      <td>0.0</td>\n",
       "      <td>0.0</td>\n",
       "      <td>0.0</td>\n",
       "      <td>0.0</td>\n",
       "      <td>1.0</td>\n",
       "      <td>0.0</td>\n",
       "      <td>0.0</td>\n",
       "      <td>0.0</td>\n",
       "      <td>426</td>\n",
       "      <td>2019</td>\n",
       "      <td>1</td>\n",
       "      <td>1</td>\n",
       "      <td>2</td>\n",
       "      <td>0</td>\n",
       "      <td>1</td>\n",
       "      <td>1</td>\n",
       "      <td>1</td>\n",
       "      <td>0.866025</td>\n",
       "      <td>4.659111</td>\n",
       "    </tr>\n",
       "    <tr>\n",
       "      <th>4</th>\n",
       "      <td>4.502045</td>\n",
       "      <td>2019-01-01 04:00:00</td>\n",
       "      <td>4.627926</td>\n",
       "      <td>4.712888</td>\n",
       "      <td>4.549091</td>\n",
       "      <td>4.653990</td>\n",
       "      <td>4.712878</td>\n",
       "      <td>4.944597</td>\n",
       "      <td>4.549091</td>\n",
       "      <td>대구광역시</td>\n",
       "      <td>2057.0</td>\n",
       "      <td>NaN</td>\n",
       "      <td>NaN</td>\n",
       "      <td>대구광역시</td>\n",
       "      <td>0.0</td>\n",
       "      <td>1.0</td>\n",
       "      <td>0.0</td>\n",
       "      <td>0.0</td>\n",
       "      <td>0.0</td>\n",
       "      <td>0.0</td>\n",
       "      <td>1.0</td>\n",
       "      <td>0.0</td>\n",
       "      <td>0.0</td>\n",
       "      <td>0.0</td>\n",
       "      <td>0.0</td>\n",
       "      <td>825</td>\n",
       "      <td>2019</td>\n",
       "      <td>1</td>\n",
       "      <td>1</td>\n",
       "      <td>4</td>\n",
       "      <td>0</td>\n",
       "      <td>1</td>\n",
       "      <td>1</td>\n",
       "      <td>1</td>\n",
       "      <td>0.500000</td>\n",
       "      <td>4.659111</td>\n",
       "    </tr>\n",
       "    <tr>\n",
       "      <th>...</th>\n",
       "      <td>...</td>\n",
       "      <td>...</td>\n",
       "      <td>...</td>\n",
       "      <td>...</td>\n",
       "      <td>...</td>\n",
       "      <td>...</td>\n",
       "      <td>...</td>\n",
       "      <td>...</td>\n",
       "      <td>...</td>\n",
       "      <td>...</td>\n",
       "      <td>...</td>\n",
       "      <td>...</td>\n",
       "      <td>...</td>\n",
       "      <td>...</td>\n",
       "      <td>...</td>\n",
       "      <td>...</td>\n",
       "      <td>...</td>\n",
       "      <td>...</td>\n",
       "      <td>...</td>\n",
       "      <td>...</td>\n",
       "      <td>...</td>\n",
       "      <td>...</td>\n",
       "      <td>...</td>\n",
       "      <td>...</td>\n",
       "      <td>...</td>\n",
       "      <td>...</td>\n",
       "      <td>...</td>\n",
       "      <td>...</td>\n",
       "      <td>...</td>\n",
       "      <td>...</td>\n",
       "      <td>...</td>\n",
       "      <td>...</td>\n",
       "      <td>...</td>\n",
       "      <td>...</td>\n",
       "      <td>...</td>\n",
       "      <td>...</td>\n",
       "    </tr>\n",
       "    <tr>\n",
       "      <th>39604</th>\n",
       "      <td>4.502045</td>\n",
       "      <td>2021-12-31 19:00:00</td>\n",
       "      <td>4.600906</td>\n",
       "      <td>4.712888</td>\n",
       "      <td>4.913420</td>\n",
       "      <td>5.006142</td>\n",
       "      <td>4.712878</td>\n",
       "      <td>4.944597</td>\n",
       "      <td>4.913420</td>\n",
       "      <td>NaN</td>\n",
       "      <td>NaN</td>\n",
       "      <td>대구광역시</td>\n",
       "      <td>1.0</td>\n",
       "      <td>NaN</td>\n",
       "      <td>NaN</td>\n",
       "      <td>NaN</td>\n",
       "      <td>NaN</td>\n",
       "      <td>0.0</td>\n",
       "      <td>0.0</td>\n",
       "      <td>0.0</td>\n",
       "      <td>0.0</td>\n",
       "      <td>0.0</td>\n",
       "      <td>0.0</td>\n",
       "      <td>1.0</td>\n",
       "      <td>0.0</td>\n",
       "      <td>104</td>\n",
       "      <td>2021</td>\n",
       "      <td>12</td>\n",
       "      <td>31</td>\n",
       "      <td>19</td>\n",
       "      <td>0</td>\n",
       "      <td>4</td>\n",
       "      <td>4</td>\n",
       "      <td>0</td>\n",
       "      <td>0.258819</td>\n",
       "      <td>4.659111</td>\n",
       "    </tr>\n",
       "    <tr>\n",
       "      <th>39605</th>\n",
       "      <td>4.502045</td>\n",
       "      <td>2021-12-31 19:00:00</td>\n",
       "      <td>4.600906</td>\n",
       "      <td>4.712888</td>\n",
       "      <td>4.293963</td>\n",
       "      <td>4.653990</td>\n",
       "      <td>4.712878</td>\n",
       "      <td>4.944597</td>\n",
       "      <td>4.293963</td>\n",
       "      <td>대구광역시</td>\n",
       "      <td>843.0</td>\n",
       "      <td>NaN</td>\n",
       "      <td>NaN</td>\n",
       "      <td>대구광역시</td>\n",
       "      <td>0.0</td>\n",
       "      <td>0.0</td>\n",
       "      <td>5.0</td>\n",
       "      <td>0.0</td>\n",
       "      <td>1.0</td>\n",
       "      <td>0.0</td>\n",
       "      <td>0.0</td>\n",
       "      <td>0.0</td>\n",
       "      <td>0.0</td>\n",
       "      <td>0.0</td>\n",
       "      <td>0.0</td>\n",
       "      <td>1143</td>\n",
       "      <td>2021</td>\n",
       "      <td>12</td>\n",
       "      <td>31</td>\n",
       "      <td>19</td>\n",
       "      <td>0</td>\n",
       "      <td>4</td>\n",
       "      <td>4</td>\n",
       "      <td>0</td>\n",
       "      <td>0.258819</td>\n",
       "      <td>4.659111</td>\n",
       "    </tr>\n",
       "    <tr>\n",
       "      <th>39606</th>\n",
       "      <td>5.412804</td>\n",
       "      <td>2021-12-31 21:00:00</td>\n",
       "      <td>4.600906</td>\n",
       "      <td>4.712888</td>\n",
       "      <td>4.648867</td>\n",
       "      <td>5.006142</td>\n",
       "      <td>4.712878</td>\n",
       "      <td>4.944597</td>\n",
       "      <td>4.648867</td>\n",
       "      <td>대구광역시</td>\n",
       "      <td>164.0</td>\n",
       "      <td>NaN</td>\n",
       "      <td>NaN</td>\n",
       "      <td>대구광역시</td>\n",
       "      <td>0.0</td>\n",
       "      <td>1.0</td>\n",
       "      <td>0.0</td>\n",
       "      <td>0.0</td>\n",
       "      <td>1.0</td>\n",
       "      <td>0.0</td>\n",
       "      <td>0.0</td>\n",
       "      <td>0.0</td>\n",
       "      <td>0.0</td>\n",
       "      <td>0.0</td>\n",
       "      <td>0.0</td>\n",
       "      <td>618</td>\n",
       "      <td>2021</td>\n",
       "      <td>12</td>\n",
       "      <td>31</td>\n",
       "      <td>21</td>\n",
       "      <td>0</td>\n",
       "      <td>4</td>\n",
       "      <td>4</td>\n",
       "      <td>0</td>\n",
       "      <td>0.707107</td>\n",
       "      <td>4.659111</td>\n",
       "    </tr>\n",
       "    <tr>\n",
       "      <th>39607</th>\n",
       "      <td>4.502045</td>\n",
       "      <td>2021-12-31 22:00:00</td>\n",
       "      <td>4.600906</td>\n",
       "      <td>4.712888</td>\n",
       "      <td>4.672002</td>\n",
       "      <td>4.065962</td>\n",
       "      <td>4.712878</td>\n",
       "      <td>4.944597</td>\n",
       "      <td>4.672002</td>\n",
       "      <td>대구광역시</td>\n",
       "      <td>210.0</td>\n",
       "      <td>NaN</td>\n",
       "      <td>NaN</td>\n",
       "      <td>대구광역시</td>\n",
       "      <td>0.0</td>\n",
       "      <td>0.0</td>\n",
       "      <td>1.0</td>\n",
       "      <td>0.0</td>\n",
       "      <td>1.0</td>\n",
       "      <td>0.0</td>\n",
       "      <td>0.0</td>\n",
       "      <td>0.0</td>\n",
       "      <td>0.0</td>\n",
       "      <td>0.0</td>\n",
       "      <td>0.0</td>\n",
       "      <td>125</td>\n",
       "      <td>2021</td>\n",
       "      <td>12</td>\n",
       "      <td>31</td>\n",
       "      <td>22</td>\n",
       "      <td>0</td>\n",
       "      <td>4</td>\n",
       "      <td>4</td>\n",
       "      <td>0</td>\n",
       "      <td>0.866025</td>\n",
       "      <td>4.659111</td>\n",
       "    </tr>\n",
       "    <tr>\n",
       "      <th>39608</th>\n",
       "      <td>4.892370</td>\n",
       "      <td>2021-12-31 23:00:00</td>\n",
       "      <td>4.600906</td>\n",
       "      <td>4.712888</td>\n",
       "      <td>4.555785</td>\n",
       "      <td>4.576052</td>\n",
       "      <td>4.712878</td>\n",
       "      <td>4.944597</td>\n",
       "      <td>4.555785</td>\n",
       "      <td>NaN</td>\n",
       "      <td>NaN</td>\n",
       "      <td>대구광역시</td>\n",
       "      <td>19.0</td>\n",
       "      <td>대구광역시</td>\n",
       "      <td>6.0</td>\n",
       "      <td>30.0</td>\n",
       "      <td>13.0</td>\n",
       "      <td>0.0</td>\n",
       "      <td>0.0</td>\n",
       "      <td>0.0</td>\n",
       "      <td>0.0</td>\n",
       "      <td>0.0</td>\n",
       "      <td>1.0</td>\n",
       "      <td>0.0</td>\n",
       "      <td>0.0</td>\n",
       "      <td>968</td>\n",
       "      <td>2021</td>\n",
       "      <td>12</td>\n",
       "      <td>31</td>\n",
       "      <td>23</td>\n",
       "      <td>0</td>\n",
       "      <td>4</td>\n",
       "      <td>4</td>\n",
       "      <td>0</td>\n",
       "      <td>0.965926</td>\n",
       "      <td>4.659111</td>\n",
       "    </tr>\n",
       "  </tbody>\n",
       "</table>\n",
       "<p>39609 rows × 36 columns</p>\n",
       "</div>"
      ],
      "text/plain": [
       "             ID                사고일시        요일      기상상태       시군구      도로형태  \\\n",
       "0      4.762262 2019-01-01 00:00:00  4.627926  4.712888  4.282449  4.653990   \n",
       "1      4.502045 2019-01-01 00:00:00  4.627926  4.779150  4.738938  4.653990   \n",
       "2      4.502045 2019-01-01 01:00:00  4.627926  4.712888  4.842715  4.653990   \n",
       "3      4.762262 2019-01-01 02:00:00  4.627926  4.712888  4.208920  4.653990   \n",
       "4      4.502045 2019-01-01 04:00:00  4.627926  4.712888  4.549091  4.653990   \n",
       "...         ...                 ...       ...       ...       ...       ...   \n",
       "39604  4.502045 2021-12-31 19:00:00  4.600906  4.712888  4.913420  5.006142   \n",
       "39605  4.502045 2021-12-31 19:00:00  4.600906  4.712888  4.293963  4.653990   \n",
       "39606  5.412804 2021-12-31 21:00:00  4.600906  4.712888  4.648867  5.006142   \n",
       "39607  4.502045 2021-12-31 22:00:00  4.600906  4.712888  4.672002  4.065962   \n",
       "39608  4.892370 2021-12-31 23:00:00  4.600906  4.712888  4.555785  4.576052   \n",
       "\n",
       "           노면상태      사고유형         구   도시_x    설치개수   도시_y   cnt     도시  \\\n",
       "0      4.712878  3.817650  4.282449  대구광역시   391.0  대구광역시   2.0  대구광역시   \n",
       "1      4.712878  3.817650  4.738938  대구광역시   932.0    NaN   NaN  대구광역시   \n",
       "2      4.712878  3.817650  4.842715  대구광역시   473.0  대구광역시   5.0    NaN   \n",
       "3      4.712878  4.944597  4.208920  대구광역시   534.0  대구광역시  11.0  대구광역시   \n",
       "4      4.712878  4.944597  4.549091  대구광역시  2057.0    NaN   NaN  대구광역시   \n",
       "...         ...       ...       ...    ...     ...    ...   ...    ...   \n",
       "39604  4.712878  4.944597  4.913420    NaN     NaN  대구광역시   1.0    NaN   \n",
       "39605  4.712878  4.944597  4.293963  대구광역시   843.0    NaN   NaN  대구광역시   \n",
       "39606  4.712878  4.944597  4.648867  대구광역시   164.0    NaN   NaN  대구광역시   \n",
       "39607  4.712878  4.944597  4.672002  대구광역시   210.0    NaN   NaN  대구광역시   \n",
       "39608  4.712878  4.944597  4.555785    NaN     NaN  대구광역시  19.0  대구광역시   \n",
       "\n",
       "       급지구분_1  급지구분_2  급지구분_3  군_남구  군_달서구  군_달성군  군_동구  군_북구  군_서구  군_수성구  \\\n",
       "0        11.0     0.0     0.0   0.0    0.0    0.0   0.0   0.0   0.0    0.0   \n",
       "1         0.0     1.0     3.0   0.0    1.0    0.0   0.0   0.0   0.0    0.0   \n",
       "2         NaN     NaN     NaN   0.0    0.0    0.0   0.0   0.0   0.0    1.0   \n",
       "3         0.0     9.0     5.0   0.0    0.0    0.0   0.0   1.0   0.0    0.0   \n",
       "4         0.0     1.0     0.0   0.0    0.0    0.0   1.0   0.0   0.0    0.0   \n",
       "...       ...     ...     ...   ...    ...    ...   ...   ...   ...    ...   \n",
       "39604     NaN     NaN     NaN   0.0    0.0    0.0   0.0   0.0   0.0    1.0   \n",
       "39605     0.0     0.0     5.0   0.0    1.0    0.0   0.0   0.0   0.0    0.0   \n",
       "39606     0.0     1.0     0.0   0.0    1.0    0.0   0.0   0.0   0.0    0.0   \n",
       "39607     0.0     0.0     1.0   0.0    1.0    0.0   0.0   0.0   0.0    0.0   \n",
       "39608     6.0    30.0    13.0   0.0    0.0    0.0   0.0   0.0   1.0    0.0   \n",
       "\n",
       "       군_중구  사고발생횟수  year  month  day  hour  minute  weekday  day_of_week  \\\n",
       "0       1.0     131  2019      1    1     0       0        1            1   \n",
       "1       0.0     678  2019      1    1     0       0        1            1   \n",
       "2       0.0     604  2019      1    1     1       0        1            1   \n",
       "3       0.0     426  2019      1    1     2       0        1            1   \n",
       "4       0.0     825  2019      1    1     4       0        1            1   \n",
       "...     ...     ...   ...    ...  ...   ...     ...      ...          ...   \n",
       "39604   0.0     104  2021     12   31    19       0        4            4   \n",
       "39605   0.0    1143  2021     12   31    19       0        4            4   \n",
       "39606   0.0     618  2021     12   31    21       0        4            4   \n",
       "39607   0.0     125  2021     12   31    22       0        4            4   \n",
       "39608   0.0     968  2021     12   31    23       0        4            4   \n",
       "\n",
       "       holiday  Cosine_Time    season  \n",
       "0            1     1.000000  4.659111  \n",
       "1            1     1.000000  4.659111  \n",
       "2            1     0.965926  4.659111  \n",
       "3            1     0.866025  4.659111  \n",
       "4            1     0.500000  4.659111  \n",
       "...        ...          ...       ...  \n",
       "39604        0     0.258819  4.659111  \n",
       "39605        0     0.258819  4.659111  \n",
       "39606        0     0.707107  4.659111  \n",
       "39607        0     0.866025  4.659111  \n",
       "39608        0     0.965926  4.659111  \n",
       "\n",
       "[39609 rows x 36 columns]"
      ]
     },
     "execution_count": 30,
     "metadata": {},
     "output_type": "execute_result"
    }
   ],
   "source": [
    "train_df"
   ]
  },
  {
   "cell_type": "markdown",
   "id": "0495f1c0-d5dc-4fc7-b415-568ace953d7a",
   "metadata": {
    "id": "0495f1c0-d5dc-4fc7-b415-568ace953d7a"
   },
   "source": [
    "## 비비드백님의 인사이트를 참고하였습니다"
   ]
  },
  {
   "cell_type": "code",
   "execution_count": null,
   "id": "667be35a",
   "metadata": {
    "ExecuteTime": {
     "end_time": "2023-12-06T18:31:54.216210Z",
     "start_time": "2023-12-06T18:31:54.216210Z"
    },
    "executionInfo": {
     "elapsed": 362,
     "status": "ok",
     "timestamp": 1701855007601,
     "user": {
      "displayName": "skiersong9",
      "userId": "11108221763786546299"
     },
     "user_tz": -540
    },
    "id": "667be35a"
   },
   "outputs": [],
   "source": [
    "test_x = test_df.drop(columns=['ID','도시_x','도시_y','도시','year','month','day','hour','minute','day_of_week','사고일시']).copy()\n",
    "train_x = train_df[test_x.columns].copy()\n",
    "train_y = train_df['ECLO'].copy()"
   ]
  },
  {
   "cell_type": "code",
   "execution_count": null,
   "id": "10b781f6-6ff3-4a5c-9b37-82cd854118e6",
   "metadata": {
    "ExecuteTime": {
     "end_time": "2023-12-06T18:31:54.218256Z",
     "start_time": "2023-12-06T18:31:54.218256Z"
    },
    "colab": {
     "base_uri": "https://localhost:8080/"
    },
    "executionInfo": {
     "elapsed": 373,
     "status": "ok",
     "timestamp": 1701855010274,
     "user": {
      "displayName": "skiersong9",
      "userId": "11108221763786546299"
     },
     "user_tz": -540
    },
    "id": "10b781f6-6ff3-4a5c-9b37-82cd854118e6",
    "outputId": "a68e7759-4d87-421b-8686-bc6b147b8329"
   },
   "outputs": [],
   "source": [
    "test_x.columns"
   ]
  },
  {
   "cell_type": "code",
   "execution_count": null,
   "id": "ca0d749e-23a6-41c7-9ef3-e2fd1720e583",
   "metadata": {
    "ExecuteTime": {
     "end_time": "2023-12-06T18:31:54.219265Z",
     "start_time": "2023-12-06T18:31:54.219265Z"
    },
    "colab": {
     "base_uri": "https://localhost:8080/",
     "height": 565
    },
    "executionInfo": {
     "elapsed": 595,
     "status": "ok",
     "timestamp": 1701855012037,
     "user": {
      "displayName": "skiersong9",
      "userId": "11108221763786546299"
     },
     "user_tz": -540
    },
    "id": "ca0d749e-23a6-41c7-9ef3-e2fd1720e583",
    "outputId": "30ca4fb7-8292-4d5a-a863-4c5af780bbd8"
   },
   "outputs": [],
   "source": [
    "test_x"
   ]
  },
  {
   "cell_type": "code",
   "execution_count": null,
   "id": "3b89a0f0",
   "metadata": {
    "ExecuteTime": {
     "end_time": "2023-12-06T18:31:54.220268Z",
     "start_time": "2023-12-06T18:31:54.220268Z"
    }
   },
   "outputs": [],
   "source": [
    "train_x['cnt'] = train_x['cnt'].interpolate()\n",
    "train_x['설치개수'] = train_x['설치개수'].interpolate()\n",
    "train_x['급지구분_1'] = train_x['급지구분_1'].interpolate()\n",
    "train_x['급지구분_2'] = train_x['급지구분_2'].interpolate()\n",
    "train_x['급지구분_3'] = train_x['급지구분_3'].interpolate()\n",
    "\n",
    "# ⚠️ 엄밀히 따지면 test 데이터셋에느 interpolate을 하면 안 될 것 같기두...\n",
    "test_x['cnt'] = test_x['cnt'].interpolate()\n",
    "test_x['설치개수'] = test_x['설치개수'].interpolate()\n",
    "test_x['급지구분_1'] = test_x['급지구분_1'].interpolate()\n",
    "test_x['급지구분_2'] = test_x['급지구분_2'].interpolate()\n",
    "test_x['급지구분_3'] = test_x['급지구분_3'].interpolate()\n",
    "\n",
    "test_x['급지구분_1'] = test_x['급지구분_1'].fillna(0)\n",
    "test_x['급지구분_2'] = test_x['급지구분_2'].fillna(0)\n",
    "test_x['급지구분_3'] = test_x['급지구분_3'].fillna(0)"
   ]
  },
  {
   "cell_type": "code",
   "execution_count": null,
   "id": "f393eef7",
   "metadata": {
    "ExecuteTime": {
     "end_time": "2023-12-06T18:31:54.222266Z",
     "start_time": "2023-12-06T18:31:54.222266Z"
    }
   },
   "outputs": [],
   "source": [
    "print(train_x.isnull().sum())\n",
    "print(test_x.isnull().sum())"
   ]
  },
  {
   "cell_type": "code",
   "execution_count": null,
   "id": "8ea1cd32",
   "metadata": {
    "ExecuteTime": {
     "end_time": "2023-12-06T18:31:54.223267Z",
     "start_time": "2023-12-06T18:31:54.223267Z"
    },
    "executionInfo": {
     "elapsed": 515,
     "status": "ok",
     "timestamp": 1701855021501,
     "user": {
      "displayName": "skiersong9",
      "userId": "11108221763786546299"
     },
     "user_tz": -540
    },
    "id": "8ea1cd32"
   },
   "outputs": [],
   "source": [
    "from sklearn.model_selection import train_test_split\n",
    "x_train, x_valid, y_train, y_valid = train_test_split(train_x, train_y, test_size=0.2, random_state=42)"
   ]
  },
  {
   "cell_type": "markdown",
   "id": "e0eaed4c",
   "metadata": {
    "id": "e0eaed4c"
   },
   "source": [
    "### AUTOML"
   ]
  },
  {
   "cell_type": "code",
   "execution_count": null,
   "id": "984e92f9",
   "metadata": {
    "ExecuteTime": {
     "end_time": "2023-12-06T18:31:54.225268Z",
     "start_time": "2023-12-06T18:31:54.225268Z"
    },
    "executionInfo": {
     "elapsed": 334,
     "status": "ok",
     "timestamp": 1701855024449,
     "user": {
      "displayName": "skiersong9",
      "userId": "11108221763786546299"
     },
     "user_tz": -540
    },
    "id": "984e92f9"
   },
   "outputs": [],
   "source": [
    "import matplotlib\n",
    "matplotlib.use('Agg')"
   ]
  },
  {
   "cell_type": "code",
   "execution_count": null,
   "id": "d7a6805c",
   "metadata": {
    "ExecuteTime": {
     "end_time": "2023-12-06T18:31:54.226672Z",
     "start_time": "2023-12-06T18:31:54.226672Z"
    },
    "executionInfo": {
     "elapsed": 1,
     "status": "ok",
     "timestamp": 1701855026810,
     "user": {
      "displayName": "skiersong9",
      "userId": "11108221763786546299"
     },
     "user_tz": -540
    },
    "id": "d7a6805c"
   },
   "outputs": [],
   "source": [
    "from supervised.automl import AutoML\n",
    "automl = AutoML(mode=\"Compete\",\n",
    "                algorithms = ['Random Forest', 'LightGBM', 'Xgboost', 'CatBoost'],\n",
    "                n_jobs = -1,total_time_limit=43200, eval_metric=\"rmse\", ml_task = \"regression\",)\n",
    "#3.209155"
   ]
  },
  {
   "cell_type": "code",
   "execution_count": null,
   "id": "bd80bdc7",
   "metadata": {
    "ExecuteTime": {
     "end_time": "2023-12-06T18:31:54.227682Z",
     "start_time": "2023-12-06T18:31:54.227682Z"
    },
    "colab": {
     "base_uri": "https://localhost:8080/"
    },
    "id": "bd80bdc7",
    "outputId": "d6275027-5eb7-425c-8a42-39d15130c154"
   },
   "outputs": [],
   "source": [
    "automl.fit(train_x, train_y)"
   ]
  },
  {
   "cell_type": "code",
   "execution_count": null,
   "id": "38ced85f",
   "metadata": {
    "ExecuteTime": {
     "end_time": "2023-12-06T18:31:54.229702Z",
     "start_time": "2023-12-06T18:31:54.229702Z"
    },
    "id": "38ced85f"
   },
   "outputs": [],
   "source": [
    "pred = automl.predict(test_x)"
   ]
  },
  {
   "cell_type": "code",
   "execution_count": null,
   "id": "7ecb7e84",
   "metadata": {
    "ExecuteTime": {
     "end_time": "2023-12-06T12:23:23.497266Z",
     "start_time": "2023-12-06T12:23:23.489148Z"
    }
   },
   "outputs": [],
   "source": []
  },
  {
   "cell_type": "markdown",
   "id": "b712b5fa-db4b-439e-9ac6-63a243156c8a",
   "metadata": {
    "id": "b712b5fa-db4b-439e-9ac6-63a243156c8a"
   },
   "source": [
    "## 제출"
   ]
  },
  {
   "cell_type": "code",
   "execution_count": null,
   "id": "7ccdf382",
   "metadata": {
    "ExecuteTime": {
     "end_time": "2023-12-06T18:31:54.230707Z",
     "start_time": "2023-12-06T18:31:54.230707Z"
    },
    "id": "7ccdf382"
   },
   "outputs": [],
   "source": [
    "submission = pd.read_csv(path+'sample_submission.csv')"
   ]
  },
  {
   "cell_type": "code",
   "execution_count": null,
   "id": "053b6fb3",
   "metadata": {
    "ExecuteTime": {
     "end_time": "2023-12-06T18:31:54.232799Z",
     "start_time": "2023-12-06T18:31:54.232799Z"
    },
    "id": "053b6fb3"
   },
   "outputs": [],
   "source": [
    "submission['ECLO'] = pred"
   ]
  },
  {
   "cell_type": "code",
   "execution_count": null,
   "id": "11fb21af",
   "metadata": {
    "ExecuteTime": {
     "end_time": "2023-12-06T18:31:54.233998Z",
     "start_time": "2023-12-06T18:31:54.233998Z"
    },
    "id": "11fb21af"
   },
   "outputs": [],
   "source": [
    "submission.loc[ submission['ECLO'] < 0.0, 'ECLO'] = 0.0"
   ]
  },
  {
   "cell_type": "code",
   "execution_count": null,
   "id": "ad53d39e",
   "metadata": {
    "ExecuteTime": {
     "end_time": "2023-12-06T18:31:54.236126Z",
     "start_time": "2023-12-06T18:31:54.236126Z"
    },
    "id": "ad53d39e",
    "outputId": "3d32d49a-d715-4a2f-ba0a-a453824ace96"
   },
   "outputs": [],
   "source": [
    "min(submission['ECLO'])"
   ]
  },
  {
   "cell_type": "code",
   "execution_count": null,
   "id": "hcQ4JFVReWcj",
   "metadata": {
    "ExecuteTime": {
     "end_time": "2023-12-06T18:31:54.237520Z",
     "start_time": "2023-12-06T18:31:54.237520Z"
    },
    "id": "hcQ4JFVReWcj"
   },
   "outputs": [],
   "source": [
    "submission"
   ]
  },
  {
   "cell_type": "code",
   "execution_count": null,
   "id": "31606475",
   "metadata": {
    "ExecuteTime": {
     "end_time": "2023-12-06T18:31:54.238682Z",
     "start_time": "2023-12-06T18:31:54.238682Z"
    },
    "id": "31606475"
   },
   "outputs": [],
   "source": [
    "# submission.to_csv('submit.csv', index=False)\n",
    "\n",
    "submit_path = \"../data/submits/automl_1206_001.csv\"\n",
    "submission.to_csv(submit_path, index=False)"
   ]
  },
  {
   "cell_type": "code",
   "execution_count": null,
   "id": "73036add",
   "metadata": {
    "ExecuteTime": {
     "end_time": "2023-12-06T18:31:54.240696Z",
     "start_time": "2023-12-06T18:31:54.240696Z"
    }
   },
   "outputs": [],
   "source": [
    "멈춰ㅏ!"
   ]
  },
  {
   "cell_type": "code",
   "execution_count": null,
   "id": "451d1e07",
   "metadata": {
    "ExecuteTime": {
     "end_time": "2023-12-06T18:31:54.242694Z",
     "start_time": "2023-12-06T18:31:54.242694Z"
    },
    "id": "451d1e07",
    "outputId": "0ed1ec89-ea86-40e9-a02d-cbd501f451e3"
   },
   "outputs": [],
   "source": [
    "from dacon_submit_api import dacon_submit_api\n",
    "\n",
    "result = dacon_submit_api.post_submission_file(\n",
    "  submit_path,\n",
    "  '99e503e9d7311db9f4167d982d5823d7ef9427cc628aa63b96cf79d2920ba916',\n",
    "  '236193',\n",
    "  'song999',\n",
    "  '12.06 - 001. automl' )"
   ]
  },
  {
   "cell_type": "code",
   "execution_count": null,
   "id": "0c684519-ed25-4fea-98b3-522a12e37672",
   "metadata": {
    "id": "0c684519-ed25-4fea-98b3-522a12e37672"
   },
   "outputs": [],
   "source": []
  }
 ],
 "metadata": {
  "colab": {
   "provenance": []
  },
  "kernelspec": {
   "display_name": "Python 3 (ipykernel)",
   "language": "python",
   "name": "python3"
  },
  "language_info": {
   "codemirror_mode": {
    "name": "ipython",
    "version": 3
   },
   "file_extension": ".py",
   "mimetype": "text/x-python",
   "name": "python",
   "nbconvert_exporter": "python",
   "pygments_lexer": "ipython3",
   "version": "3.9.6"
  },
  "toc": {
   "base_numbering": 1,
   "nav_menu": {},
   "number_sections": false,
   "sideBar": true,
   "skip_h1_title": false,
   "title_cell": "Table of Contents",
   "title_sidebar": "Contents",
   "toc_cell": false,
   "toc_position": {},
   "toc_section_display": true,
   "toc_window_display": false
  }
 },
 "nbformat": 4,
 "nbformat_minor": 5
}
