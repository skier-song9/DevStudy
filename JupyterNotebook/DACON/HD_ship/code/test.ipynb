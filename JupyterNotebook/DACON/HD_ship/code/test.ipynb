{
 "cells": [
  {
   "cell_type": "code",
   "execution_count": 9,
   "id": "24ef9036",
   "metadata": {
    "ExecuteTime": {
     "end_time": "2023-10-21T17:17:18.867137Z",
     "start_time": "2023-10-21T17:17:16.251023Z"
    }
   },
   "outputs": [],
   "source": [
    "import matplotlib.pyplot as plt\n",
    "import pandas as pd\n",
    "import numpy as np\n",
    "import os\n",
    "import io\n",
    "import zipfile\n",
    "from io import BytesIO\n",
    "from zipfile import ZipFile\n",
    "from sklearn.preprocessing import LabelEncoder\n",
    "import bisect\n",
    "\n",
    "# 데이터 로드\n",
    "# 특정 파일만 압축풀기\n",
    "with ZipFile('../data/open.zip','r') as zipObj:\n",
    "    list_filenames = zipObj.namelist()\n",
    "    for filename in list_filenames:\n",
    "        if filename.endswith('.csv'):\n",
    "            zipRead = zipObj.read(filename)\n",
    "            globals()[f'{filename[:-4]}'] = pd.read_csv(BytesIO(zipRead))\n",
    "# train.csv >> train , test.csv >> test\n",
    "\n",
    "# 날짜 데이터 전처리\n",
    "# datetime 컬럼 처리\n",
    "train['ATA'] = pd.to_datetime(train['ATA'])\n",
    "test['ATA'] = pd.to_datetime(test['ATA'])\n",
    "\n",
    "# datetime을 여러 파생 변수로 변환\n",
    "for df in [train, test]:\n",
    "    df['year'] = df['ATA'].dt.year\n",
    "    df['month'] = df['ATA'].dt.month\n",
    "    df['day'] = df['ATA'].dt.day\n",
    "    df['hour'] = df['ATA'].dt.hour\n",
    "    # ARI_CO와 ARI_PO 컬럼 병합\n",
    "    df['ARI'] = df['ARI_CO']+df['ARI_PO']\n",
    "\n",
    "# datetime 컬럼 제거\n",
    "train.drop(columns='ATA', inplace=True)\n",
    "test.drop(columns='ATA', inplace=True)\n",
    "\n",
    "# 불필요 컬럼 제거 = 'ATA_LT','ID','SHIPMANAGER','FLAG'\n",
    "train.drop(columns=['SAMPLE_ID','ATA_LT','ID','SHIPMANAGER','FLAG'], inplace=True)\n",
    "test.drop(columns=['SAMPLE_ID','ATA_LT','ID','SHIPMANAGER','FLAG'], inplace=True)\n",
    "# ARI_CO와 ARI_PO 컬럼 제거\n",
    "train.drop(columns=['ARI_CO','ARI_PO'],axis=1,inplace=True)\n",
    "test.drop(columns=['ARI_CO','ARI_PO'],axis=1,inplace=True)\n",
    "\n",
    "# 같은 종류의 SHIP_TYPE으로 결측치 처리\n",
    "Cargo_ships=train[train['SHIP_TYPE_CATEGORY']==train[train['BREADTH'].isnull()]['SHIP_TYPE_CATEGORY'].iloc[0]]\n",
    "# 결측치 채우기\n",
    "idx=train[train['BREADTH'].isnull()].index[0]\n",
    "train.loc[idx,['BREADTH','DEPTH','DRAUGHT','LENGTH']] = Cargo_ships[['BREADTH','DEPTH','DRAUGHT','LENGTH']].mean()\n",
    "\n",
    "# ARI와 SHIP_TYPE_CATEGORY 인코딩\n",
    "categorical_features = ['ARI','SHIP_TYPE_CATEGORY']\n",
    "encoders = {}\n",
    "for feature in categorical_features:\n",
    "    le = LabelEncoder()\n",
    "    train[feature] = le.fit_transform(train[feature].astype(str))\n",
    "    le_classes_set = set(le.classes_)\n",
    "    test[feature] = test[feature].map(lambda s: '-1' if s not in le_classes_set else s)\n",
    "    le_classes = le.classes_.tolist()\n",
    "    bisect.insort_left(le_classes, '-1')\n",
    "    le.classes_ = np.array(le_classes)\n",
    "    test[feature] = le.transform(test[feature].astype(str))\n",
    "    encoders[feature] = le\n",
    "\n"
   ]
  },
  {
   "cell_type": "code",
   "execution_count": 10,
   "id": "d8370475",
   "metadata": {
    "ExecuteTime": {
     "end_time": "2023-10-21T17:17:21.669519Z",
     "start_time": "2023-10-21T17:17:21.634131Z"
    }
   },
   "outputs": [
    {
     "name": "stdout",
     "output_type": "stream",
     "text": [
      "<class 'pandas.core.frame.DataFrame'>\n",
      "RangeIndex: 391939 entries, 0 to 391938\n",
      "Data columns (total 20 columns):\n",
      " #   Column              Non-Null Count   Dtype  \n",
      "---  ------              --------------   -----  \n",
      " 0   SHIP_TYPE_CATEGORY  391939 non-null  int32  \n",
      " 1   DIST                391939 non-null  float64\n",
      " 2   BREADTH             391939 non-null  float64\n",
      " 3   BUILT               391939 non-null  int64  \n",
      " 4   DEADWEIGHT          391939 non-null  int64  \n",
      " 5   DEPTH               391939 non-null  float64\n",
      " 6   DRAUGHT             391939 non-null  float64\n",
      " 7   GT                  391939 non-null  int64  \n",
      " 8   LENGTH              391939 non-null  float64\n",
      " 9   U_WIND              228251 non-null  float64\n",
      " 10  V_WIND              228251 non-null  float64\n",
      " 11  AIR_TEMPERATURE     227309 non-null  float64\n",
      " 12  BN                  228251 non-null  float64\n",
      " 13  PORT_SIZE           391939 non-null  float64\n",
      " 14  CI_HOUR             391939 non-null  float64\n",
      " 15  year                391939 non-null  int32  \n",
      " 16  month               391939 non-null  int32  \n",
      " 17  day                 391939 non-null  int32  \n",
      " 18  hour                391939 non-null  int32  \n",
      " 19  ARI                 391939 non-null  int32  \n",
      "dtypes: float64(11), int32(6), int64(3)\n",
      "memory usage: 50.8 MB\n"
     ]
    }
   ],
   "source": [
    "train.info()\n",
    "# SHIP_TYPE과 ARI만 인코딩하면 됨."
   ]
  },
  {
   "cell_type": "code",
   "execution_count": 13,
   "id": "d3071f49",
   "metadata": {
    "ExecuteTime": {
     "end_time": "2023-10-20T14:04:52.340474Z",
     "start_time": "2023-10-20T14:04:52.325567Z"
    }
   },
   "outputs": [
    {
     "data": {
      "text/plain": [
       "391939"
      ]
     },
     "execution_count": 13,
     "metadata": {},
     "output_type": "execute_result"
    }
   ],
   "source": [
    "len(train)"
   ]
  },
  {
   "cell_type": "code",
   "execution_count": 5,
   "id": "f9963087",
   "metadata": {
    "ExecuteTime": {
     "end_time": "2023-10-20T10:39:24.946301Z",
     "start_time": "2023-10-20T10:39:24.866864Z"
    },
    "scrolled": false
   },
   "outputs": [
    {
     "data": {
      "text/plain": [
       "SAMPLE_ID                  0\n",
       "ARI_CO                     0\n",
       "ARI_PO                     0\n",
       "SHIP_TYPE_CATEGORY         0\n",
       "DIST                       0\n",
       "ID                         0\n",
       "BREADTH                    0\n",
       "BUILT                      0\n",
       "DEADWEIGHT                 0\n",
       "DEPTH                      0\n",
       "DRAUGHT                    0\n",
       "GT                         0\n",
       "LENGTH                     0\n",
       "SHIPMANAGER                0\n",
       "FLAG                       0\n",
       "U_WIND                163688\n",
       "V_WIND                163688\n",
       "AIR_TEMPERATURE       164630\n",
       "BN                    163688\n",
       "PORT_SIZE                  0\n",
       "CI_HOUR                    0\n",
       "year                       0\n",
       "month                      0\n",
       "day                        0\n",
       "hour                       0\n",
       "dtype: int64"
      ]
     },
     "execution_count": 5,
     "metadata": {},
     "output_type": "execute_result"
    }
   ],
   "source": [
    "train.isnull().sum()"
   ]
  },
  {
   "cell_type": "code",
   "execution_count": 11,
   "id": "c3d7b6d9",
   "metadata": {
    "ExecuteTime": {
     "end_time": "2023-10-21T17:17:54.452417Z",
     "start_time": "2023-10-21T17:17:54.395779Z"
    }
   },
   "outputs": [],
   "source": [
    "wind_bn = train.drop(columns='AIR_TEMPERATURE',axis=1)\n",
    "air = train.drop(columns=['U_WIND','V_WIND','BN'],axis=1)"
   ]
  },
  {
   "cell_type": "code",
   "execution_count": 12,
   "id": "9f26937d",
   "metadata": {
    "ExecuteTime": {
     "end_time": "2023-10-21T17:17:56.036815Z",
     "start_time": "2023-10-21T17:17:55.994805Z"
    }
   },
   "outputs": [
    {
     "data": {
      "text/plain": [
       "163688"
      ]
     },
     "execution_count": 12,
     "metadata": {},
     "output_type": "execute_result"
    }
   ],
   "source": [
    "wind_bn_train = wind_bn[wind_bn['U_WIND'].notnull()]\n",
    "len(train)-len(wind_bn_train)"
   ]
  },
  {
   "cell_type": "code",
   "execution_count": 13,
   "id": "ac8c5fbb",
   "metadata": {
    "ExecuteTime": {
     "end_time": "2023-10-21T17:17:57.429517Z",
     "start_time": "2023-10-21T17:17:57.402960Z"
    }
   },
   "outputs": [
    {
     "data": {
      "text/plain": [
       "164630"
      ]
     },
     "execution_count": 13,
     "metadata": {},
     "output_type": "execute_result"
    }
   ],
   "source": [
    "air_train = air[air['AIR_TEMPERATURE'].notnull()]\n",
    "len(train)-len(air_train)"
   ]
  },
  {
   "cell_type": "code",
   "execution_count": 14,
   "id": "fda9556b",
   "metadata": {
    "ExecuteTime": {
     "end_time": "2023-10-21T17:18:01.103538Z",
     "start_time": "2023-10-21T17:18:00.412544Z"
    }
   },
   "outputs": [],
   "source": [
    "# fill nan by KNN prediction\n",
    "from sklearn.model_selection import train_test_split\n",
    "from sklearn.neighbors import KNeighborsClassifier\n",
    "from sklearn.metrics import accuracy_score"
   ]
  },
  {
   "cell_type": "code",
   "execution_count": 15,
   "id": "0c70cd10",
   "metadata": {
    "ExecuteTime": {
     "end_time": "2023-10-21T17:18:05.360790Z",
     "start_time": "2023-10-21T17:18:05.348124Z"
    }
   },
   "outputs": [],
   "source": [
    "knn = KNeighborsClassifier(n_neighbors=5,n_jobs=-1)"
   ]
  },
  {
   "cell_type": "code",
   "execution_count": 16,
   "id": "d3d6f331",
   "metadata": {
    "ExecuteTime": {
     "end_time": "2023-10-21T17:18:08.648773Z",
     "start_time": "2023-10-21T17:18:08.628599Z"
    }
   },
   "outputs": [
    {
     "data": {
      "text/plain": [
       "((228251, 16), (228251, 3))"
      ]
     },
     "execution_count": 16,
     "metadata": {},
     "output_type": "execute_result"
    }
   ],
   "source": [
    "# wind prediction\n",
    "x_wind_bn_train = wind_bn_train.drop(columns=['U_WIND','V_WIND','BN'],axis=1)\n",
    "y_wind_bn_train = wind_bn_train[['U_WIND','V_WIND','BN']]\n",
    "x_wind_bn_train.shape,y_wind_bn_train.shape"
   ]
  },
  {
   "cell_type": "code",
   "execution_count": 17,
   "id": "6cafc29e",
   "metadata": {
    "ExecuteTime": {
     "end_time": "2023-10-21T17:18:11.857444Z",
     "start_time": "2023-10-21T17:18:10.357452Z"
    }
   },
   "outputs": [
    {
     "ename": "ValueError",
     "evalue": "Unknown label type: continuous-multioutput. Maybe you are trying to fit a classifier, which expects discrete classes on a regression target with continuous values.",
     "output_type": "error",
     "traceback": [
      "\u001b[1;31m---------------------------------------------------------------------------\u001b[0m",
      "\u001b[1;31mValueError\u001b[0m                                Traceback (most recent call last)",
      "Cell \u001b[1;32mIn[17], line 1\u001b[0m\n\u001b[1;32m----> 1\u001b[0m \u001b[43mknn\u001b[49m\u001b[38;5;241;43m.\u001b[39;49m\u001b[43mfit\u001b[49m\u001b[43m(\u001b[49m\u001b[43mx_wind_bn_train\u001b[49m\u001b[43m,\u001b[49m\u001b[43my_wind_bn_train\u001b[49m\u001b[43m)\u001b[49m\n",
      "File \u001b[1;32m~\\anaconda3\\envs\\Python39_DA\\lib\\site-packages\\sklearn\\base.py:1151\u001b[0m, in \u001b[0;36m_fit_context.<locals>.decorator.<locals>.wrapper\u001b[1;34m(estimator, *args, **kwargs)\u001b[0m\n\u001b[0;32m   1144\u001b[0m     estimator\u001b[38;5;241m.\u001b[39m_validate_params()\n\u001b[0;32m   1146\u001b[0m \u001b[38;5;28;01mwith\u001b[39;00m config_context(\n\u001b[0;32m   1147\u001b[0m     skip_parameter_validation\u001b[38;5;241m=\u001b[39m(\n\u001b[0;32m   1148\u001b[0m         prefer_skip_nested_validation \u001b[38;5;129;01mor\u001b[39;00m global_skip_validation\n\u001b[0;32m   1149\u001b[0m     )\n\u001b[0;32m   1150\u001b[0m ):\n\u001b[1;32m-> 1151\u001b[0m     \u001b[38;5;28;01mreturn\u001b[39;00m fit_method(estimator, \u001b[38;5;241m*\u001b[39margs, \u001b[38;5;241m*\u001b[39m\u001b[38;5;241m*\u001b[39mkwargs)\n",
      "File \u001b[1;32m~\\anaconda3\\envs\\Python39_DA\\lib\\site-packages\\sklearn\\neighbors\\_classification.py:228\u001b[0m, in \u001b[0;36mKNeighborsClassifier.fit\u001b[1;34m(self, X, y)\u001b[0m\n\u001b[0;32m    206\u001b[0m \u001b[38;5;129m@_fit_context\u001b[39m(\n\u001b[0;32m    207\u001b[0m     \u001b[38;5;66;03m# KNeighborsClassifier.metric is not validated yet\u001b[39;00m\n\u001b[0;32m    208\u001b[0m     prefer_skip_nested_validation\u001b[38;5;241m=\u001b[39m\u001b[38;5;28;01mFalse\u001b[39;00m\n\u001b[0;32m    209\u001b[0m )\n\u001b[0;32m    210\u001b[0m \u001b[38;5;28;01mdef\u001b[39;00m \u001b[38;5;21mfit\u001b[39m(\u001b[38;5;28mself\u001b[39m, X, y):\n\u001b[0;32m    211\u001b[0m \u001b[38;5;250m    \u001b[39m\u001b[38;5;124;03m\"\"\"Fit the k-nearest neighbors classifier from the training dataset.\u001b[39;00m\n\u001b[0;32m    212\u001b[0m \n\u001b[0;32m    213\u001b[0m \u001b[38;5;124;03m    Parameters\u001b[39;00m\n\u001b[1;32m   (...)\u001b[0m\n\u001b[0;32m    226\u001b[0m \u001b[38;5;124;03m        The fitted k-nearest neighbors classifier.\u001b[39;00m\n\u001b[0;32m    227\u001b[0m \u001b[38;5;124;03m    \"\"\"\u001b[39;00m\n\u001b[1;32m--> 228\u001b[0m     \u001b[38;5;28;01mreturn\u001b[39;00m \u001b[38;5;28;43mself\u001b[39;49m\u001b[38;5;241;43m.\u001b[39;49m\u001b[43m_fit\u001b[49m\u001b[43m(\u001b[49m\u001b[43mX\u001b[49m\u001b[43m,\u001b[49m\u001b[43m \u001b[49m\u001b[43my\u001b[49m\u001b[43m)\u001b[49m\n",
      "File \u001b[1;32m~\\anaconda3\\envs\\Python39_DA\\lib\\site-packages\\sklearn\\neighbors\\_base.py:480\u001b[0m, in \u001b[0;36mNeighborsBase._fit\u001b[1;34m(self, X, y)\u001b[0m\n\u001b[0;32m    477\u001b[0m \u001b[38;5;28;01melse\u001b[39;00m:\n\u001b[0;32m    478\u001b[0m     \u001b[38;5;28mself\u001b[39m\u001b[38;5;241m.\u001b[39moutputs_2d_ \u001b[38;5;241m=\u001b[39m \u001b[38;5;28;01mTrue\u001b[39;00m\n\u001b[1;32m--> 480\u001b[0m \u001b[43mcheck_classification_targets\u001b[49m\u001b[43m(\u001b[49m\u001b[43my\u001b[49m\u001b[43m)\u001b[49m\n\u001b[0;32m    481\u001b[0m \u001b[38;5;28mself\u001b[39m\u001b[38;5;241m.\u001b[39mclasses_ \u001b[38;5;241m=\u001b[39m []\n\u001b[0;32m    482\u001b[0m \u001b[38;5;66;03m# Using `dtype=np.intp` is necessary since `np.bincount`\u001b[39;00m\n\u001b[0;32m    483\u001b[0m \u001b[38;5;66;03m# (called in _classification.py) fails when dealing\u001b[39;00m\n\u001b[0;32m    484\u001b[0m \u001b[38;5;66;03m# with a float64 array on 32bit systems.\u001b[39;00m\n",
      "File \u001b[1;32m~\\anaconda3\\envs\\Python39_DA\\lib\\site-packages\\sklearn\\utils\\multiclass.py:215\u001b[0m, in \u001b[0;36mcheck_classification_targets\u001b[1;34m(y)\u001b[0m\n\u001b[0;32m    207\u001b[0m y_type \u001b[38;5;241m=\u001b[39m type_of_target(y, input_name\u001b[38;5;241m=\u001b[39m\u001b[38;5;124m\"\u001b[39m\u001b[38;5;124my\u001b[39m\u001b[38;5;124m\"\u001b[39m)\n\u001b[0;32m    208\u001b[0m \u001b[38;5;28;01mif\u001b[39;00m y_type \u001b[38;5;129;01mnot\u001b[39;00m \u001b[38;5;129;01min\u001b[39;00m [\n\u001b[0;32m    209\u001b[0m     \u001b[38;5;124m\"\u001b[39m\u001b[38;5;124mbinary\u001b[39m\u001b[38;5;124m\"\u001b[39m,\n\u001b[0;32m    210\u001b[0m     \u001b[38;5;124m\"\u001b[39m\u001b[38;5;124mmulticlass\u001b[39m\u001b[38;5;124m\"\u001b[39m,\n\u001b[1;32m   (...)\u001b[0m\n\u001b[0;32m    213\u001b[0m     \u001b[38;5;124m\"\u001b[39m\u001b[38;5;124mmultilabel-sequences\u001b[39m\u001b[38;5;124m\"\u001b[39m,\n\u001b[0;32m    214\u001b[0m ]:\n\u001b[1;32m--> 215\u001b[0m     \u001b[38;5;28;01mraise\u001b[39;00m \u001b[38;5;167;01mValueError\u001b[39;00m(\n\u001b[0;32m    216\u001b[0m         \u001b[38;5;124mf\u001b[39m\u001b[38;5;124m\"\u001b[39m\u001b[38;5;124mUnknown label type: \u001b[39m\u001b[38;5;132;01m{\u001b[39;00my_type\u001b[38;5;132;01m}\u001b[39;00m\u001b[38;5;124m. Maybe you are trying to fit a \u001b[39m\u001b[38;5;124m\"\u001b[39m\n\u001b[0;32m    217\u001b[0m         \u001b[38;5;124m\"\u001b[39m\u001b[38;5;124mclassifier, which expects discrete classes on a \u001b[39m\u001b[38;5;124m\"\u001b[39m\n\u001b[0;32m    218\u001b[0m         \u001b[38;5;124m\"\u001b[39m\u001b[38;5;124mregression target with continuous values.\u001b[39m\u001b[38;5;124m\"\u001b[39m\n\u001b[0;32m    219\u001b[0m     )\n",
      "\u001b[1;31mValueError\u001b[0m: Unknown label type: continuous-multioutput. Maybe you are trying to fit a classifier, which expects discrete classes on a regression target with continuous values."
     ]
    }
   ],
   "source": [
    "knn.fit(x_wind_bn_train,y_wind_bn_train)"
   ]
  },
  {
   "cell_type": "code",
   "execution_count": null,
   "id": "da0e63af",
   "metadata": {},
   "outputs": [],
   "source": []
  },
  {
   "cell_type": "code",
   "execution_count": 23,
   "id": "5e54c538",
   "metadata": {
    "ExecuteTime": {
     "end_time": "2023-10-20T15:10:48.642660Z",
     "start_time": "2023-10-20T15:10:48.604280Z"
    }
   },
   "outputs": [
    {
     "data": {
      "text/plain": [
       "((227309, 21), (227309,))"
      ]
     },
     "execution_count": 23,
     "metadata": {},
     "output_type": "execute_result"
    }
   ],
   "source": [
    "# air_temperature prediction\n",
    "x_air_train = air_train.drop(columns=['AIR_TEMPERATURE'],axis=1)\n",
    "y_air_train = air_train['AIR_TEMPERATURE']\n",
    "x_air_train.shape,y_air_train.shape"
   ]
  },
  {
   "cell_type": "code",
   "execution_count": null,
   "id": "0eed933d",
   "metadata": {},
   "outputs": [],
   "source": []
  },
  {
   "cell_type": "code",
   "execution_count": null,
   "id": "ac75485c",
   "metadata": {},
   "outputs": [],
   "source": []
  }
 ],
 "metadata": {
  "kernelspec": {
   "display_name": "Python 3 (ipykernel)",
   "language": "python",
   "name": "python3"
  },
  "language_info": {
   "codemirror_mode": {
    "name": "ipython",
    "version": 3
   },
   "file_extension": ".py",
   "mimetype": "text/x-python",
   "name": "python",
   "nbconvert_exporter": "python",
   "pygments_lexer": "ipython3",
   "version": "3.9.17"
  }
 },
 "nbformat": 4,
 "nbformat_minor": 5
}
