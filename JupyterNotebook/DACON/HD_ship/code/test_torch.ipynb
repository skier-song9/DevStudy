{
 "cells": [
  {
   "cell_type": "code",
   "execution_count": 1,
   "id": "24ef9036",
   "metadata": {
    "ExecuteTime": {
     "end_time": "2023-10-24T06:34:16.225149Z",
     "start_time": "2023-10-24T06:34:09.354798Z"
    }
   },
   "outputs": [],
   "source": [
    "import matplotlib.pyplot as plt\n",
    "import pandas as pd\n",
    "import numpy as np\n",
    "import os\n",
    "import io\n",
    "import zipfile\n",
    "from io import BytesIO\n",
    "from zipfile import ZipFile\n",
    "from sklearn.preprocessing import LabelEncoder, StandardScaler\n",
    "import bisect\n",
    "\n",
    "# 데이터 로드\n",
    "# 특정 파일만 압축풀기\n",
    "with ZipFile('../data/open.zip','r') as zipObj:\n",
    "    list_filenames = zipObj.namelist()\n",
    "    for filename in list_filenames:\n",
    "        if filename.endswith('.csv'):\n",
    "            zipRead = zipObj.read(filename)\n",
    "            globals()[f'{filename[:-4]}'] = pd.read_csv(BytesIO(zipRead))\n",
    "# train.csv >> train , test.csv >> test\n",
    "\n",
    "# 날짜 데이터 전처리\n",
    "# datetime 컬럼 처리\n",
    "train['ATA'] = pd.to_datetime(train['ATA'])\n",
    "test['ATA'] = pd.to_datetime(test['ATA'])\n",
    "\n",
    "# datetime을 여러 파생 변수로 변환\n",
    "for df in [train, test]:\n",
    "    df['year'] = df['ATA'].dt.year\n",
    "    df['month'] = df['ATA'].dt.month\n",
    "    df['day'] = df['ATA'].dt.day\n",
    "    df['hour'] = df['ATA'].dt.hour\n",
    "    # ARI_CO와 ARI_PO 컬럼 병합\n",
    "    df['ARI'] = df['ARI_CO']+df['ARI_PO']\n",
    "\n",
    "# datetime 컬럼 제거\n",
    "train.drop(columns='ATA', inplace=True)\n",
    "test.drop(columns='ATA', inplace=True)\n",
    "\n",
    "# 불필요 컬럼 제거 = 'ATA_LT','ID','SHIPMANAGER','FLAG'\n",
    "train.drop(columns=['SAMPLE_ID','ATA_LT','ID','SHIPMANAGER','FLAG'], inplace=True)\n",
    "test.drop(columns=['SAMPLE_ID','ATA_LT','ID','SHIPMANAGER','FLAG'], inplace=True)\n",
    "# ARI_CO와 ARI_PO 컬럼 제거\n",
    "train.drop(columns=['ARI_CO','ARI_PO'],axis=1,inplace=True)\n",
    "test.drop(columns=['ARI_CO','ARI_PO'],axis=1,inplace=True)\n",
    "\n",
    "# 같은 종류의 SHIP_TYPE으로 결측치 처리\n",
    "Cargo_ships=train[train['SHIP_TYPE_CATEGORY']==train[train['BREADTH'].isnull()]['SHIP_TYPE_CATEGORY'].iloc[0]]\n",
    "# 결측치 채우기\n",
    "idx=train[train['BREADTH'].isnull()].index[0]\n",
    "for df in [train,test]:\n",
    "    for feature in ['BREADTH','DEADWEIGHT','DEPTH','DRAUGHT','LENGTH','GT']:\n",
    "        df[feature] = df[feature].astype(float)\n",
    "train.loc[idx,['BREADTH','DEADWEIGHT','DEPTH','DRAUGHT','LENGTH','GT']] = Cargo_ships[['BREADTH','DEADWEIGHT','DEPTH','DRAUGHT','LENGTH','GT']].mean().astype(float)\n",
    "\n",
    "# ARI와 SHIP_TYPE_CATEGORY 인코딩\n",
    "categorical_features = ['ARI','SHIP_TYPE_CATEGORY']\n",
    "encoders = {}\n",
    "for feature in categorical_features:\n",
    "    le = LabelEncoder()\n",
    "    train[feature] = le.fit_transform(train[feature].astype(str))\n",
    "    le_classes_set = set(le.classes_)\n",
    "    test[feature] = test[feature].map(lambda s: '-1' if s not in le_classes_set else s)\n",
    "    le_classes = le.classes_.tolist()\n",
    "    bisect.insort_left(le_classes, '-1')\n",
    "    le.classes_ = np.array(le_classes)\n",
    "    test[feature] = le.transform(test[feature].astype(str))\n",
    "    encoders[feature] = le"
   ]
  },
  {
   "cell_type": "code",
   "execution_count": 2,
   "id": "c01e83f2",
   "metadata": {
    "ExecuteTime": {
     "end_time": "2023-10-24T06:34:16.859675Z",
     "start_time": "2023-10-24T06:34:16.686918Z"
    }
   },
   "outputs": [],
   "source": [
    "from sklearn.model_selection import train_test_split\n",
    "from sklearn.metrics import accuracy_score, precision_score, recall_score"
   ]
  },
  {
   "cell_type": "code",
   "execution_count": 3,
   "id": "dd5ee266",
   "metadata": {
    "ExecuteTime": {
     "end_time": "2023-10-24T06:34:18.221341Z",
     "start_time": "2023-10-24T06:34:18.206664Z"
    }
   },
   "outputs": [
    {
     "name": "stdout",
     "output_type": "stream",
     "text": [
      "ARI ['-1' 'AUAIB7' 'AUKSF1' 'AUNQO4' 'AUPBQ1' 'AUPDL4' 'AUQGL7' 'AUTBL3'\n",
      " 'AUWHH4' 'AUWXQ2' 'AUYDP4' 'BRMMW5' 'BRTMW2' 'BRVFD8' 'BRXGX5' 'CABAZ5'\n",
      " 'CAFFM2' 'CAGRQ5' 'CAPUF3' 'CATYY2' 'CAXIU1' 'CLGQJ7' 'CNBGX4' 'CNEKP8'\n",
      " 'CNEUC8' 'CNFTQ1' 'CNJDG8' 'CNJEN5' 'CNJTD1' 'CNNCU8' 'CNNGG6' 'CNQQW1'\n",
      " 'CNRGT8' 'CNSXD2' 'CNTDA5' 'CNTXO3' 'CNUVK6' 'CNWAF5' 'CNWEY7' 'CNXVZ3'\n",
      " 'CNYRT6' 'FIDEJ2' 'IDDIN2' 'IDEVL6' 'IDPPM2' 'IDREJ1' 'IDURE2' 'IDXEO4'\n",
      " 'INEIA2' 'INJER7' 'INOBZ3' 'INQTU5' 'INSLZ5' 'INUJM2' 'JPCSP6' 'JPHYG5'\n",
      " 'JPIEW6' 'JPLXJ7' 'JPMIA8' 'JPMOC5' 'JPOOV8' 'JPQEA4' 'JPQYY1' 'JPSPG1'\n",
      " 'JPTMR7' 'JPURD4' 'JPVYJ1' 'JPZAG4' 'KRBGD2' 'KRDMD4' 'KROKM4' 'KRRKA2'\n",
      " 'LVMCG4' 'LVUEW5' 'MYEFG4' 'MYLHD1' 'MZOZD2' 'MZPAF4' 'PEHYV6' 'PEYFK5'\n",
      " 'PHXZF6' 'QAKIU2' 'RUAZU6' 'RUFAV3' 'RUFCD5' 'RUHGH2' 'RUNNC2' 'RUQXE2'\n",
      " 'RUUPI6' 'RUVXM8' 'RUZME5' 'SGGIW5' 'TTIVU2' 'TWEKP8' 'TWJWI3' 'UACEI5'\n",
      " 'UAPEL6' 'USEVX2' 'USQGN3' 'USUIR7' 'VEJEA6' 'VNJGL5' 'VNONW1' 'VNQRN3'\n",
      " 'ZACXL1']\n",
      "SHIP_TYPE_CATEGORY ['-1' 'Bulk' 'Cargo' 'Container' 'Tanker']\n"
     ]
    }
   ],
   "source": [
    "for key in encoders.keys():\n",
    "    le = encoders.get(key)\n",
    "    print(key,le.classes_)"
   ]
  },
  {
   "cell_type": "code",
   "execution_count": 4,
   "id": "d8370475",
   "metadata": {
    "ExecuteTime": {
     "end_time": "2023-10-23T07:47:28.555888Z",
     "start_time": "2023-10-23T07:47:28.510158Z"
    }
   },
   "outputs": [
    {
     "name": "stdout",
     "output_type": "stream",
     "text": [
      "<class 'pandas.core.frame.DataFrame'>\n",
      "RangeIndex: 391939 entries, 0 to 391938\n",
      "Data columns (total 20 columns):\n",
      " #   Column              Non-Null Count   Dtype  \n",
      "---  ------              --------------   -----  \n",
      " 0   SHIP_TYPE_CATEGORY  391939 non-null  float32\n",
      " 1   DIST                391939 non-null  float32\n",
      " 2   BREADTH             391939 non-null  float32\n",
      " 3   BUILT               391939 non-null  float32\n",
      " 4   DEADWEIGHT          391939 non-null  float32\n",
      " 5   DEPTH               391939 non-null  float32\n",
      " 6   DRAUGHT             391939 non-null  float32\n",
      " 7   GT                  391939 non-null  float32\n",
      " 8   LENGTH              391939 non-null  float32\n",
      " 9   U_WIND              228251 non-null  float32\n",
      " 10  V_WIND              228251 non-null  float32\n",
      " 11  AIR_TEMPERATURE     227309 non-null  float32\n",
      " 12  BN                  228251 non-null  float32\n",
      " 13  PORT_SIZE           391939 non-null  float32\n",
      " 14  CI_HOUR             391939 non-null  float32\n",
      " 15  year                391939 non-null  float32\n",
      " 16  month               391939 non-null  float32\n",
      " 17  day                 391939 non-null  float32\n",
      " 18  hour                391939 non-null  float32\n",
      " 19  ARI                 391939 non-null  float32\n",
      "dtypes: float32(20)\n",
      "memory usage: 29.9 MB\n"
     ]
    }
   ],
   "source": [
    "train = train.astype(np.float32)\n",
    "train.info()"
   ]
  },
  {
   "cell_type": "code",
   "execution_count": 5,
   "id": "d3071f49",
   "metadata": {
    "ExecuteTime": {
     "end_time": "2023-10-23T07:47:28.617910Z",
     "start_time": "2023-10-23T07:47:28.557889Z"
    },
    "scrolled": true
   },
   "outputs": [
    {
     "name": "stdout",
     "output_type": "stream",
     "text": [
      "157293\n"
     ]
    },
    {
     "data": {
      "text/html": [
       "<div>\n",
       "<style scoped>\n",
       "    .dataframe tbody tr th:only-of-type {\n",
       "        vertical-align: middle;\n",
       "    }\n",
       "\n",
       "    .dataframe tbody tr th {\n",
       "        vertical-align: top;\n",
       "    }\n",
       "\n",
       "    .dataframe thead th {\n",
       "        text-align: right;\n",
       "    }\n",
       "</style>\n",
       "<table border=\"1\" class=\"dataframe\">\n",
       "  <thead>\n",
       "    <tr style=\"text-align: right;\">\n",
       "      <th></th>\n",
       "      <th>SHIP_TYPE_CATEGORY</th>\n",
       "      <th>DIST</th>\n",
       "      <th>BREADTH</th>\n",
       "      <th>BUILT</th>\n",
       "      <th>DEADWEIGHT</th>\n",
       "      <th>DEPTH</th>\n",
       "      <th>DRAUGHT</th>\n",
       "      <th>GT</th>\n",
       "      <th>LENGTH</th>\n",
       "      <th>U_WIND</th>\n",
       "      <th>V_WIND</th>\n",
       "      <th>AIR_TEMPERATURE</th>\n",
       "      <th>BN</th>\n",
       "      <th>PORT_SIZE</th>\n",
       "      <th>CI_HOUR</th>\n",
       "      <th>year</th>\n",
       "      <th>month</th>\n",
       "      <th>day</th>\n",
       "      <th>hour</th>\n",
       "      <th>ARI</th>\n",
       "    </tr>\n",
       "  </thead>\n",
       "  <tbody>\n",
       "    <tr>\n",
       "      <th>2521</th>\n",
       "      <td>0.0</td>\n",
       "      <td>0.0</td>\n",
       "      <td>30.0</td>\n",
       "      <td>18.0</td>\n",
       "      <td>55600.0</td>\n",
       "      <td>20.0</td>\n",
       "      <td>10.0</td>\n",
       "      <td>31000.0</td>\n",
       "      <td>190.0</td>\n",
       "      <td>NaN</td>\n",
       "      <td>NaN</td>\n",
       "      <td>NaN</td>\n",
       "      <td>NaN</td>\n",
       "      <td>0.000103</td>\n",
       "      <td>280.732788</td>\n",
       "      <td>2017.0</td>\n",
       "      <td>9.0</td>\n",
       "      <td>17.0</td>\n",
       "      <td>16.0</td>\n",
       "      <td>50.0</td>\n",
       "    </tr>\n",
       "    <tr>\n",
       "      <th>6439</th>\n",
       "      <td>2.0</td>\n",
       "      <td>0.0</td>\n",
       "      <td>20.0</td>\n",
       "      <td>27.0</td>\n",
       "      <td>5220.0</td>\n",
       "      <td>10.0</td>\n",
       "      <td>10.0</td>\n",
       "      <td>4000.0</td>\n",
       "      <td>100.0</td>\n",
       "      <td>-3.82</td>\n",
       "      <td>-7.08</td>\n",
       "      <td>16.299999</td>\n",
       "      <td>4.524174</td>\n",
       "      <td>0.000399</td>\n",
       "      <td>0.748611</td>\n",
       "      <td>2021.0</td>\n",
       "      <td>10.0</td>\n",
       "      <td>1.0</td>\n",
       "      <td>10.0</td>\n",
       "      <td>83.0</td>\n",
       "    </tr>\n",
       "    <tr>\n",
       "      <th>24059</th>\n",
       "      <td>2.0</td>\n",
       "      <td>0.0</td>\n",
       "      <td>20.0</td>\n",
       "      <td>17.0</td>\n",
       "      <td>13800.0</td>\n",
       "      <td>10.0</td>\n",
       "      <td>10.0</td>\n",
       "      <td>9950.0</td>\n",
       "      <td>150.0</td>\n",
       "      <td>-0.33</td>\n",
       "      <td>-10.44</td>\n",
       "      <td>-10.400000</td>\n",
       "      <td>5.384442</td>\n",
       "      <td>0.000399</td>\n",
       "      <td>0.551389</td>\n",
       "      <td>2022.0</td>\n",
       "      <td>1.0</td>\n",
       "      <td>20.0</td>\n",
       "      <td>8.0</td>\n",
       "      <td>83.0</td>\n",
       "    </tr>\n",
       "    <tr>\n",
       "      <th>26501</th>\n",
       "      <td>2.0</td>\n",
       "      <td>0.0</td>\n",
       "      <td>30.0</td>\n",
       "      <td>7.0</td>\n",
       "      <td>23500.0</td>\n",
       "      <td>10.0</td>\n",
       "      <td>10.0</td>\n",
       "      <td>18800.0</td>\n",
       "      <td>170.0</td>\n",
       "      <td>-0.71</td>\n",
       "      <td>4.68</td>\n",
       "      <td>30.500000</td>\n",
       "      <td>3.176780</td>\n",
       "      <td>0.002615</td>\n",
       "      <td>0.049167</td>\n",
       "      <td>2020.0</td>\n",
       "      <td>7.0</td>\n",
       "      <td>2.0</td>\n",
       "      <td>7.0</td>\n",
       "      <td>90.0</td>\n",
       "    </tr>\n",
       "    <tr>\n",
       "      <th>36741</th>\n",
       "      <td>1.0</td>\n",
       "      <td>0.0</td>\n",
       "      <td>20.0</td>\n",
       "      <td>14.0</td>\n",
       "      <td>5200.0</td>\n",
       "      <td>10.0</td>\n",
       "      <td>10.0</td>\n",
       "      <td>2960.0</td>\n",
       "      <td>100.0</td>\n",
       "      <td>-5.65</td>\n",
       "      <td>-12.90</td>\n",
       "      <td>26.400000</td>\n",
       "      <td>6.571438</td>\n",
       "      <td>0.000068</td>\n",
       "      <td>10.000000</td>\n",
       "      <td>2020.0</td>\n",
       "      <td>10.0</td>\n",
       "      <td>8.0</td>\n",
       "      <td>13.0</td>\n",
       "      <td>102.0</td>\n",
       "    </tr>\n",
       "    <tr>\n",
       "      <th>39476</th>\n",
       "      <td>1.0</td>\n",
       "      <td>0.0</td>\n",
       "      <td>10.0</td>\n",
       "      <td>10.0</td>\n",
       "      <td>1270.0</td>\n",
       "      <td>0.0</td>\n",
       "      <td>0.0</td>\n",
       "      <td>670.0</td>\n",
       "      <td>70.0</td>\n",
       "      <td>-1.47</td>\n",
       "      <td>1.78</td>\n",
       "      <td>19.700001</td>\n",
       "      <td>1.968275</td>\n",
       "      <td>0.000356</td>\n",
       "      <td>634.015259</td>\n",
       "      <td>2022.0</td>\n",
       "      <td>3.0</td>\n",
       "      <td>30.0</td>\n",
       "      <td>16.0</td>\n",
       "      <td>66.0</td>\n",
       "    </tr>\n",
       "    <tr>\n",
       "      <th>59076</th>\n",
       "      <td>2.0</td>\n",
       "      <td>0.0</td>\n",
       "      <td>50.0</td>\n",
       "      <td>11.0</td>\n",
       "      <td>99800.0</td>\n",
       "      <td>20.0</td>\n",
       "      <td>10.0</td>\n",
       "      <td>90100.0</td>\n",
       "      <td>300.0</td>\n",
       "      <td>-2.14</td>\n",
       "      <td>-0.68</td>\n",
       "      <td>-4.000000</td>\n",
       "      <td>1.932250</td>\n",
       "      <td>0.000557</td>\n",
       "      <td>388.824432</td>\n",
       "      <td>2022.0</td>\n",
       "      <td>1.0</td>\n",
       "      <td>4.0</td>\n",
       "      <td>10.0</td>\n",
       "      <td>27.0</td>\n",
       "    </tr>\n",
       "    <tr>\n",
       "      <th>66864</th>\n",
       "      <td>2.0</td>\n",
       "      <td>0.0</td>\n",
       "      <td>20.0</td>\n",
       "      <td>27.0</td>\n",
       "      <td>5220.0</td>\n",
       "      <td>10.0</td>\n",
       "      <td>10.0</td>\n",
       "      <td>4000.0</td>\n",
       "      <td>100.0</td>\n",
       "      <td>0.93</td>\n",
       "      <td>-3.61</td>\n",
       "      <td>14.200000</td>\n",
       "      <td>2.709169</td>\n",
       "      <td>0.000399</td>\n",
       "      <td>1.748889</td>\n",
       "      <td>2021.0</td>\n",
       "      <td>10.0</td>\n",
       "      <td>1.0</td>\n",
       "      <td>14.0</td>\n",
       "      <td>83.0</td>\n",
       "    </tr>\n",
       "    <tr>\n",
       "      <th>69524</th>\n",
       "      <td>1.0</td>\n",
       "      <td>0.0</td>\n",
       "      <td>10.0</td>\n",
       "      <td>11.0</td>\n",
       "      <td>1600.0</td>\n",
       "      <td>10.0</td>\n",
       "      <td>0.0</td>\n",
       "      <td>500.0</td>\n",
       "      <td>60.0</td>\n",
       "      <td>4.78</td>\n",
       "      <td>-2.31</td>\n",
       "      <td>12.300000</td>\n",
       "      <td>3.429251</td>\n",
       "      <td>0.000069</td>\n",
       "      <td>21.300556</td>\n",
       "      <td>2022.0</td>\n",
       "      <td>2.0</td>\n",
       "      <td>14.0</td>\n",
       "      <td>6.0</td>\n",
       "      <td>63.0</td>\n",
       "    </tr>\n",
       "    <tr>\n",
       "      <th>73609</th>\n",
       "      <td>1.0</td>\n",
       "      <td>0.0</td>\n",
       "      <td>30.0</td>\n",
       "      <td>12.0</td>\n",
       "      <td>33500.0</td>\n",
       "      <td>10.0</td>\n",
       "      <td>10.0</td>\n",
       "      <td>21300.0</td>\n",
       "      <td>180.0</td>\n",
       "      <td>0.84</td>\n",
       "      <td>1.77</td>\n",
       "      <td>27.200001</td>\n",
       "      <td>1.764343</td>\n",
       "      <td>0.002615</td>\n",
       "      <td>191.500275</td>\n",
       "      <td>2021.0</td>\n",
       "      <td>5.0</td>\n",
       "      <td>10.0</td>\n",
       "      <td>1.0</td>\n",
       "      <td>90.0</td>\n",
       "    </tr>\n",
       "    <tr>\n",
       "      <th>77864</th>\n",
       "      <td>2.0</td>\n",
       "      <td>0.0</td>\n",
       "      <td>30.0</td>\n",
       "      <td>23.0</td>\n",
       "      <td>25600.0</td>\n",
       "      <td>20.0</td>\n",
       "      <td>10.0</td>\n",
       "      <td>20600.0</td>\n",
       "      <td>180.0</td>\n",
       "      <td>1.55</td>\n",
       "      <td>-6.26</td>\n",
       "      <td>28.400000</td>\n",
       "      <td>3.904144</td>\n",
       "      <td>0.000990</td>\n",
       "      <td>0.050000</td>\n",
       "      <td>2019.0</td>\n",
       "      <td>9.0</td>\n",
       "      <td>18.0</td>\n",
       "      <td>16.0</td>\n",
       "      <td>93.0</td>\n",
       "    </tr>\n",
       "    <tr>\n",
       "      <th>111963</th>\n",
       "      <td>1.0</td>\n",
       "      <td>0.0</td>\n",
       "      <td>10.0</td>\n",
       "      <td>2.0</td>\n",
       "      <td>1700.0</td>\n",
       "      <td>10.0</td>\n",
       "      <td>0.0</td>\n",
       "      <td>500.0</td>\n",
       "      <td>60.0</td>\n",
       "      <td>-1.92</td>\n",
       "      <td>0.37</td>\n",
       "      <td>22.900000</td>\n",
       "      <td>1.762011</td>\n",
       "      <td>0.000006</td>\n",
       "      <td>5.050000</td>\n",
       "      <td>2022.0</td>\n",
       "      <td>7.0</td>\n",
       "      <td>15.0</td>\n",
       "      <td>17.0</td>\n",
       "      <td>53.0</td>\n",
       "    </tr>\n",
       "    <tr>\n",
       "      <th>114363</th>\n",
       "      <td>1.0</td>\n",
       "      <td>0.0</td>\n",
       "      <td>10.0</td>\n",
       "      <td>15.0</td>\n",
       "      <td>1630.0</td>\n",
       "      <td>10.0</td>\n",
       "      <td>0.0</td>\n",
       "      <td>500.0</td>\n",
       "      <td>80.0</td>\n",
       "      <td>6.16</td>\n",
       "      <td>2.43</td>\n",
       "      <td>10.400000</td>\n",
       "      <td>3.973629</td>\n",
       "      <td>0.000264</td>\n",
       "      <td>57.998890</td>\n",
       "      <td>2022.0</td>\n",
       "      <td>2.0</td>\n",
       "      <td>13.0</td>\n",
       "      <td>0.0</td>\n",
       "      <td>65.0</td>\n",
       "    </tr>\n",
       "    <tr>\n",
       "      <th>130517</th>\n",
       "      <td>2.0</td>\n",
       "      <td>0.0</td>\n",
       "      <td>30.0</td>\n",
       "      <td>10.0</td>\n",
       "      <td>24200.0</td>\n",
       "      <td>10.0</td>\n",
       "      <td>10.0</td>\n",
       "      <td>20200.0</td>\n",
       "      <td>170.0</td>\n",
       "      <td>-1.87</td>\n",
       "      <td>2.11</td>\n",
       "      <td>27.900000</td>\n",
       "      <td>2.248882</td>\n",
       "      <td>0.002615</td>\n",
       "      <td>158.303329</td>\n",
       "      <td>2020.0</td>\n",
       "      <td>6.0</td>\n",
       "      <td>29.0</td>\n",
       "      <td>23.0</td>\n",
       "      <td>90.0</td>\n",
       "    </tr>\n",
       "    <tr>\n",
       "      <th>146884</th>\n",
       "      <td>0.0</td>\n",
       "      <td>0.0</td>\n",
       "      <td>20.0</td>\n",
       "      <td>7.0</td>\n",
       "      <td>10900.0</td>\n",
       "      <td>10.0</td>\n",
       "      <td>10.0</td>\n",
       "      <td>9940.0</td>\n",
       "      <td>110.0</td>\n",
       "      <td>0.97</td>\n",
       "      <td>-0.85</td>\n",
       "      <td>-3.500000</td>\n",
       "      <td>1.335144</td>\n",
       "      <td>0.000244</td>\n",
       "      <td>8.650278</td>\n",
       "      <td>2020.0</td>\n",
       "      <td>12.0</td>\n",
       "      <td>15.0</td>\n",
       "      <td>11.0</td>\n",
       "      <td>67.0</td>\n",
       "    </tr>\n",
       "    <tr>\n",
       "      <th>196830</th>\n",
       "      <td>1.0</td>\n",
       "      <td>0.0</td>\n",
       "      <td>10.0</td>\n",
       "      <td>2.0</td>\n",
       "      <td>1700.0</td>\n",
       "      <td>10.0</td>\n",
       "      <td>0.0</td>\n",
       "      <td>500.0</td>\n",
       "      <td>60.0</td>\n",
       "      <td>-0.68</td>\n",
       "      <td>-2.00</td>\n",
       "      <td>23.000000</td>\n",
       "      <td>1.855177</td>\n",
       "      <td>0.000006</td>\n",
       "      <td>11.499722</td>\n",
       "      <td>2021.0</td>\n",
       "      <td>8.0</td>\n",
       "      <td>12.0</td>\n",
       "      <td>18.0</td>\n",
       "      <td>53.0</td>\n",
       "    </tr>\n",
       "    <tr>\n",
       "      <th>212002</th>\n",
       "      <td>1.0</td>\n",
       "      <td>0.0</td>\n",
       "      <td>10.0</td>\n",
       "      <td>14.0</td>\n",
       "      <td>2200.0</td>\n",
       "      <td>10.0</td>\n",
       "      <td>0.0</td>\n",
       "      <td>740.0</td>\n",
       "      <td>80.0</td>\n",
       "      <td>4.35</td>\n",
       "      <td>-1.86</td>\n",
       "      <td>5.000000</td>\n",
       "      <td>3.175627</td>\n",
       "      <td>0.000069</td>\n",
       "      <td>95.951668</td>\n",
       "      <td>2020.0</td>\n",
       "      <td>12.0</td>\n",
       "      <td>13.0</td>\n",
       "      <td>22.0</td>\n",
       "      <td>63.0</td>\n",
       "    </tr>\n",
       "    <tr>\n",
       "      <th>215246</th>\n",
       "      <td>2.0</td>\n",
       "      <td>0.0</td>\n",
       "      <td>20.0</td>\n",
       "      <td>27.0</td>\n",
       "      <td>5220.0</td>\n",
       "      <td>10.0</td>\n",
       "      <td>10.0</td>\n",
       "      <td>4000.0</td>\n",
       "      <td>100.0</td>\n",
       "      <td>-0.37</td>\n",
       "      <td>-3.24</td>\n",
       "      <td>5.200000</td>\n",
       "      <td>2.478001</td>\n",
       "      <td>0.000399</td>\n",
       "      <td>0.751389</td>\n",
       "      <td>2021.0</td>\n",
       "      <td>11.0</td>\n",
       "      <td>16.0</td>\n",
       "      <td>19.0</td>\n",
       "      <td>83.0</td>\n",
       "    </tr>\n",
       "    <tr>\n",
       "      <th>237240</th>\n",
       "      <td>3.0</td>\n",
       "      <td>0.0</td>\n",
       "      <td>10.0</td>\n",
       "      <td>32.0</td>\n",
       "      <td>2180.0</td>\n",
       "      <td>10.0</td>\n",
       "      <td>10.0</td>\n",
       "      <td>1320.0</td>\n",
       "      <td>70.0</td>\n",
       "      <td>-0.61</td>\n",
       "      <td>0.53</td>\n",
       "      <td>25.500000</td>\n",
       "      <td>0.977613</td>\n",
       "      <td>0.002615</td>\n",
       "      <td>62.012779</td>\n",
       "      <td>2022.0</td>\n",
       "      <td>2.0</td>\n",
       "      <td>14.0</td>\n",
       "      <td>10.0</td>\n",
       "      <td>90.0</td>\n",
       "    </tr>\n",
       "    <tr>\n",
       "      <th>237396</th>\n",
       "      <td>2.0</td>\n",
       "      <td>0.0</td>\n",
       "      <td>10.0</td>\n",
       "      <td>17.0</td>\n",
       "      <td>1440.0</td>\n",
       "      <td>10.0</td>\n",
       "      <td>0.0</td>\n",
       "      <td>500.0</td>\n",
       "      <td>80.0</td>\n",
       "      <td>-0.88</td>\n",
       "      <td>-5.70</td>\n",
       "      <td>20.299999</td>\n",
       "      <td>3.624007</td>\n",
       "      <td>0.000061</td>\n",
       "      <td>0.099167</td>\n",
       "      <td>2020.0</td>\n",
       "      <td>6.0</td>\n",
       "      <td>19.0</td>\n",
       "      <td>4.0</td>\n",
       "      <td>58.0</td>\n",
       "    </tr>\n",
       "    <tr>\n",
       "      <th>270856</th>\n",
       "      <td>1.0</td>\n",
       "      <td>0.0</td>\n",
       "      <td>10.0</td>\n",
       "      <td>6.0</td>\n",
       "      <td>1750.0</td>\n",
       "      <td>10.0</td>\n",
       "      <td>0.0</td>\n",
       "      <td>500.0</td>\n",
       "      <td>70.0</td>\n",
       "      <td>1.44</td>\n",
       "      <td>-1.00</td>\n",
       "      <td>24.200001</td>\n",
       "      <td>1.638368</td>\n",
       "      <td>0.000006</td>\n",
       "      <td>1.201667</td>\n",
       "      <td>2021.0</td>\n",
       "      <td>7.0</td>\n",
       "      <td>30.0</td>\n",
       "      <td>16.0</td>\n",
       "      <td>53.0</td>\n",
       "    </tr>\n",
       "    <tr>\n",
       "      <th>297812</th>\n",
       "      <td>2.0</td>\n",
       "      <td>0.0</td>\n",
       "      <td>20.0</td>\n",
       "      <td>27.0</td>\n",
       "      <td>5220.0</td>\n",
       "      <td>10.0</td>\n",
       "      <td>10.0</td>\n",
       "      <td>4000.0</td>\n",
       "      <td>100.0</td>\n",
       "      <td>-3.82</td>\n",
       "      <td>-7.08</td>\n",
       "      <td>16.299999</td>\n",
       "      <td>4.524174</td>\n",
       "      <td>0.000399</td>\n",
       "      <td>7.299167</td>\n",
       "      <td>2021.0</td>\n",
       "      <td>10.0</td>\n",
       "      <td>1.0</td>\n",
       "      <td>2.0</td>\n",
       "      <td>83.0</td>\n",
       "    </tr>\n",
       "    <tr>\n",
       "      <th>306130</th>\n",
       "      <td>2.0</td>\n",
       "      <td>0.0</td>\n",
       "      <td>30.0</td>\n",
       "      <td>9.0</td>\n",
       "      <td>23600.0</td>\n",
       "      <td>10.0</td>\n",
       "      <td>10.0</td>\n",
       "      <td>18800.0</td>\n",
       "      <td>170.0</td>\n",
       "      <td>-1.85</td>\n",
       "      <td>1.28</td>\n",
       "      <td>26.299999</td>\n",
       "      <td>1.934662</td>\n",
       "      <td>0.002615</td>\n",
       "      <td>0.050000</td>\n",
       "      <td>2019.0</td>\n",
       "      <td>8.0</td>\n",
       "      <td>21.0</td>\n",
       "      <td>22.0</td>\n",
       "      <td>90.0</td>\n",
       "    </tr>\n",
       "    <tr>\n",
       "      <th>314316</th>\n",
       "      <td>0.0</td>\n",
       "      <td>0.0</td>\n",
       "      <td>30.0</td>\n",
       "      <td>11.0</td>\n",
       "      <td>80400.0</td>\n",
       "      <td>20.0</td>\n",
       "      <td>10.0</td>\n",
       "      <td>43800.0</td>\n",
       "      <td>230.0</td>\n",
       "      <td>NaN</td>\n",
       "      <td>NaN</td>\n",
       "      <td>NaN</td>\n",
       "      <td>NaN</td>\n",
       "      <td>0.000450</td>\n",
       "      <td>0.568611</td>\n",
       "      <td>2018.0</td>\n",
       "      <td>8.0</td>\n",
       "      <td>6.0</td>\n",
       "      <td>2.0</td>\n",
       "      <td>38.0</td>\n",
       "    </tr>\n",
       "    <tr>\n",
       "      <th>350939</th>\n",
       "      <td>2.0</td>\n",
       "      <td>0.0</td>\n",
       "      <td>20.0</td>\n",
       "      <td>27.0</td>\n",
       "      <td>5220.0</td>\n",
       "      <td>10.0</td>\n",
       "      <td>10.0</td>\n",
       "      <td>4000.0</td>\n",
       "      <td>100.0</td>\n",
       "      <td>0.10</td>\n",
       "      <td>4.39</td>\n",
       "      <td>7.400000</td>\n",
       "      <td>3.021672</td>\n",
       "      <td>0.000399</td>\n",
       "      <td>8.248333</td>\n",
       "      <td>2021.0</td>\n",
       "      <td>11.0</td>\n",
       "      <td>16.0</td>\n",
       "      <td>22.0</td>\n",
       "      <td>83.0</td>\n",
       "    </tr>\n",
       "    <tr>\n",
       "      <th>357643</th>\n",
       "      <td>3.0</td>\n",
       "      <td>0.0</td>\n",
       "      <td>10.0</td>\n",
       "      <td>21.0</td>\n",
       "      <td>1180.0</td>\n",
       "      <td>0.0</td>\n",
       "      <td>0.0</td>\n",
       "      <td>750.0</td>\n",
       "      <td>60.0</td>\n",
       "      <td>0.19</td>\n",
       "      <td>0.99</td>\n",
       "      <td>6.000000</td>\n",
       "      <td>1.132893</td>\n",
       "      <td>0.000356</td>\n",
       "      <td>25.999166</td>\n",
       "      <td>2022.0</td>\n",
       "      <td>3.0</td>\n",
       "      <td>8.0</td>\n",
       "      <td>10.0</td>\n",
       "      <td>66.0</td>\n",
       "    </tr>\n",
       "    <tr>\n",
       "      <th>378544</th>\n",
       "      <td>1.0</td>\n",
       "      <td>0.0</td>\n",
       "      <td>10.0</td>\n",
       "      <td>4.0</td>\n",
       "      <td>900.0</td>\n",
       "      <td>10.0</td>\n",
       "      <td>0.0</td>\n",
       "      <td>290.0</td>\n",
       "      <td>60.0</td>\n",
       "      <td>-4.07</td>\n",
       "      <td>7.57</td>\n",
       "      <td>21.100000</td>\n",
       "      <td>4.728080</td>\n",
       "      <td>0.000058</td>\n",
       "      <td>755.989441</td>\n",
       "      <td>2021.0</td>\n",
       "      <td>5.0</td>\n",
       "      <td>2.0</td>\n",
       "      <td>22.0</td>\n",
       "      <td>62.0</td>\n",
       "    </tr>\n",
       "    <tr>\n",
       "      <th>389245</th>\n",
       "      <td>0.0</td>\n",
       "      <td>0.0</td>\n",
       "      <td>30.0</td>\n",
       "      <td>7.0</td>\n",
       "      <td>81400.0</td>\n",
       "      <td>20.0</td>\n",
       "      <td>10.0</td>\n",
       "      <td>44400.0</td>\n",
       "      <td>230.0</td>\n",
       "      <td>NaN</td>\n",
       "      <td>NaN</td>\n",
       "      <td>NaN</td>\n",
       "      <td>NaN</td>\n",
       "      <td>0.000244</td>\n",
       "      <td>143.203888</td>\n",
       "      <td>2016.0</td>\n",
       "      <td>11.0</td>\n",
       "      <td>19.0</td>\n",
       "      <td>11.0</td>\n",
       "      <td>67.0</td>\n",
       "    </tr>\n",
       "  </tbody>\n",
       "</table>\n",
       "</div>"
      ],
      "text/plain": [
       "        SHIP_TYPE_CATEGORY  DIST  BREADTH  BUILT  DEADWEIGHT  DEPTH  DRAUGHT  \\\n",
       "2521                   0.0   0.0     30.0   18.0     55600.0   20.0     10.0   \n",
       "6439                   2.0   0.0     20.0   27.0      5220.0   10.0     10.0   \n",
       "24059                  2.0   0.0     20.0   17.0     13800.0   10.0     10.0   \n",
       "26501                  2.0   0.0     30.0    7.0     23500.0   10.0     10.0   \n",
       "36741                  1.0   0.0     20.0   14.0      5200.0   10.0     10.0   \n",
       "39476                  1.0   0.0     10.0   10.0      1270.0    0.0      0.0   \n",
       "59076                  2.0   0.0     50.0   11.0     99800.0   20.0     10.0   \n",
       "66864                  2.0   0.0     20.0   27.0      5220.0   10.0     10.0   \n",
       "69524                  1.0   0.0     10.0   11.0      1600.0   10.0      0.0   \n",
       "73609                  1.0   0.0     30.0   12.0     33500.0   10.0     10.0   \n",
       "77864                  2.0   0.0     30.0   23.0     25600.0   20.0     10.0   \n",
       "111963                 1.0   0.0     10.0    2.0      1700.0   10.0      0.0   \n",
       "114363                 1.0   0.0     10.0   15.0      1630.0   10.0      0.0   \n",
       "130517                 2.0   0.0     30.0   10.0     24200.0   10.0     10.0   \n",
       "146884                 0.0   0.0     20.0    7.0     10900.0   10.0     10.0   \n",
       "196830                 1.0   0.0     10.0    2.0      1700.0   10.0      0.0   \n",
       "212002                 1.0   0.0     10.0   14.0      2200.0   10.0      0.0   \n",
       "215246                 2.0   0.0     20.0   27.0      5220.0   10.0     10.0   \n",
       "237240                 3.0   0.0     10.0   32.0      2180.0   10.0     10.0   \n",
       "237396                 2.0   0.0     10.0   17.0      1440.0   10.0      0.0   \n",
       "270856                 1.0   0.0     10.0    6.0      1750.0   10.0      0.0   \n",
       "297812                 2.0   0.0     20.0   27.0      5220.0   10.0     10.0   \n",
       "306130                 2.0   0.0     30.0    9.0     23600.0   10.0     10.0   \n",
       "314316                 0.0   0.0     30.0   11.0     80400.0   20.0     10.0   \n",
       "350939                 2.0   0.0     20.0   27.0      5220.0   10.0     10.0   \n",
       "357643                 3.0   0.0     10.0   21.0      1180.0    0.0      0.0   \n",
       "378544                 1.0   0.0     10.0    4.0       900.0   10.0      0.0   \n",
       "389245                 0.0   0.0     30.0    7.0     81400.0   20.0     10.0   \n",
       "\n",
       "             GT  LENGTH  U_WIND  V_WIND  AIR_TEMPERATURE        BN  PORT_SIZE  \\\n",
       "2521    31000.0   190.0     NaN     NaN              NaN       NaN   0.000103   \n",
       "6439     4000.0   100.0   -3.82   -7.08        16.299999  4.524174   0.000399   \n",
       "24059    9950.0   150.0   -0.33  -10.44       -10.400000  5.384442   0.000399   \n",
       "26501   18800.0   170.0   -0.71    4.68        30.500000  3.176780   0.002615   \n",
       "36741    2960.0   100.0   -5.65  -12.90        26.400000  6.571438   0.000068   \n",
       "39476     670.0    70.0   -1.47    1.78        19.700001  1.968275   0.000356   \n",
       "59076   90100.0   300.0   -2.14   -0.68        -4.000000  1.932250   0.000557   \n",
       "66864    4000.0   100.0    0.93   -3.61        14.200000  2.709169   0.000399   \n",
       "69524     500.0    60.0    4.78   -2.31        12.300000  3.429251   0.000069   \n",
       "73609   21300.0   180.0    0.84    1.77        27.200001  1.764343   0.002615   \n",
       "77864   20600.0   180.0    1.55   -6.26        28.400000  3.904144   0.000990   \n",
       "111963    500.0    60.0   -1.92    0.37        22.900000  1.762011   0.000006   \n",
       "114363    500.0    80.0    6.16    2.43        10.400000  3.973629   0.000264   \n",
       "130517  20200.0   170.0   -1.87    2.11        27.900000  2.248882   0.002615   \n",
       "146884   9940.0   110.0    0.97   -0.85        -3.500000  1.335144   0.000244   \n",
       "196830    500.0    60.0   -0.68   -2.00        23.000000  1.855177   0.000006   \n",
       "212002    740.0    80.0    4.35   -1.86         5.000000  3.175627   0.000069   \n",
       "215246   4000.0   100.0   -0.37   -3.24         5.200000  2.478001   0.000399   \n",
       "237240   1320.0    70.0   -0.61    0.53        25.500000  0.977613   0.002615   \n",
       "237396    500.0    80.0   -0.88   -5.70        20.299999  3.624007   0.000061   \n",
       "270856    500.0    70.0    1.44   -1.00        24.200001  1.638368   0.000006   \n",
       "297812   4000.0   100.0   -3.82   -7.08        16.299999  4.524174   0.000399   \n",
       "306130  18800.0   170.0   -1.85    1.28        26.299999  1.934662   0.002615   \n",
       "314316  43800.0   230.0     NaN     NaN              NaN       NaN   0.000450   \n",
       "350939   4000.0   100.0    0.10    4.39         7.400000  3.021672   0.000399   \n",
       "357643    750.0    60.0    0.19    0.99         6.000000  1.132893   0.000356   \n",
       "378544    290.0    60.0   -4.07    7.57        21.100000  4.728080   0.000058   \n",
       "389245  44400.0   230.0     NaN     NaN              NaN       NaN   0.000244   \n",
       "\n",
       "           CI_HOUR    year  month   day  hour    ARI  \n",
       "2521    280.732788  2017.0    9.0  17.0  16.0   50.0  \n",
       "6439      0.748611  2021.0   10.0   1.0  10.0   83.0  \n",
       "24059     0.551389  2022.0    1.0  20.0   8.0   83.0  \n",
       "26501     0.049167  2020.0    7.0   2.0   7.0   90.0  \n",
       "36741    10.000000  2020.0   10.0   8.0  13.0  102.0  \n",
       "39476   634.015259  2022.0    3.0  30.0  16.0   66.0  \n",
       "59076   388.824432  2022.0    1.0   4.0  10.0   27.0  \n",
       "66864     1.748889  2021.0   10.0   1.0  14.0   83.0  \n",
       "69524    21.300556  2022.0    2.0  14.0   6.0   63.0  \n",
       "73609   191.500275  2021.0    5.0  10.0   1.0   90.0  \n",
       "77864     0.050000  2019.0    9.0  18.0  16.0   93.0  \n",
       "111963    5.050000  2022.0    7.0  15.0  17.0   53.0  \n",
       "114363   57.998890  2022.0    2.0  13.0   0.0   65.0  \n",
       "130517  158.303329  2020.0    6.0  29.0  23.0   90.0  \n",
       "146884    8.650278  2020.0   12.0  15.0  11.0   67.0  \n",
       "196830   11.499722  2021.0    8.0  12.0  18.0   53.0  \n",
       "212002   95.951668  2020.0   12.0  13.0  22.0   63.0  \n",
       "215246    0.751389  2021.0   11.0  16.0  19.0   83.0  \n",
       "237240   62.012779  2022.0    2.0  14.0  10.0   90.0  \n",
       "237396    0.099167  2020.0    6.0  19.0   4.0   58.0  \n",
       "270856    1.201667  2021.0    7.0  30.0  16.0   53.0  \n",
       "297812    7.299167  2021.0   10.0   1.0   2.0   83.0  \n",
       "306130    0.050000  2019.0    8.0  21.0  22.0   90.0  \n",
       "314316    0.568611  2018.0    8.0   6.0   2.0   38.0  \n",
       "350939    8.248333  2021.0   11.0  16.0  22.0   83.0  \n",
       "357643   25.999166  2022.0    3.0   8.0  10.0   66.0  \n",
       "378544  755.989441  2021.0    5.0   2.0  22.0   62.0  \n",
       "389245  143.203888  2016.0   11.0  19.0  11.0   67.0  "
      ]
     },
     "execution_count": 5,
     "metadata": {},
     "output_type": "execute_result"
    }
   ],
   "source": [
    "print(len(train[train['DIST']==0]))\n",
    "train[(train['DIST']==0) & (train['CI_HOUR']!=0)]\n",
    "#📢 DIST가 0이어도 대기시간이 존재하는 데이터가 있다"
   ]
  },
  {
   "cell_type": "code",
   "execution_count": 6,
   "id": "f9963087",
   "metadata": {
    "ExecuteTime": {
     "end_time": "2023-10-23T07:47:28.649175Z",
     "start_time": "2023-10-23T07:47:28.620894Z"
    }
   },
   "outputs": [
    {
     "data": {
      "text/plain": [
       "SHIP_TYPE_CATEGORY         0\n",
       "DIST                       0\n",
       "BREADTH                    0\n",
       "BUILT                      0\n",
       "DEADWEIGHT                 0\n",
       "DEPTH                      0\n",
       "DRAUGHT                    0\n",
       "GT                         0\n",
       "LENGTH                     0\n",
       "U_WIND                163688\n",
       "V_WIND                163688\n",
       "AIR_TEMPERATURE       164630\n",
       "BN                    163688\n",
       "PORT_SIZE                  0\n",
       "CI_HOUR                    0\n",
       "year                       0\n",
       "month                      0\n",
       "day                        0\n",
       "hour                       0\n",
       "ARI                        0\n",
       "dtype: int64"
      ]
     },
     "execution_count": 6,
     "metadata": {},
     "output_type": "execute_result"
    }
   ],
   "source": [
    "train.isnull().sum()\n",
    "# U_WIND, V_WIND, BN이 한 묶음\n",
    "# AIR_TEMPERATURE 따로"
   ]
  },
  {
   "cell_type": "markdown",
   "id": "e065b88b",
   "metadata": {
    "ExecuteTime": {
     "end_time": "2023-10-23T00:10:12.677599Z",
     "start_time": "2023-10-23T00:10:12.665109Z"
    }
   },
   "source": [
    "---"
   ]
  },
  {
   "cell_type": "code",
   "execution_count": 4,
   "id": "c3d7b6d9",
   "metadata": {
    "ExecuteTime": {
     "end_time": "2023-10-24T06:34:33.611250Z",
     "start_time": "2023-10-24T06:34:33.592258Z"
    }
   },
   "outputs": [],
   "source": [
    "# 바람 예측\n",
    "air = train[['ARI','year','month','day','hour','AIR_TEMPERATURE']]"
   ]
  },
  {
   "cell_type": "code",
   "execution_count": 5,
   "id": "9f26937d",
   "metadata": {
    "ExecuteTime": {
     "end_time": "2023-10-24T06:34:34.579148Z",
     "start_time": "2023-10-24T06:34:34.526364Z"
    }
   },
   "outputs": [
    {
     "data": {
      "text/plain": [
       "163688"
      ]
     },
     "execution_count": 5,
     "metadata": {},
     "output_type": "execute_result"
    }
   ],
   "source": [
    "wind_bn = train[['ARI','year','month','day','hour','U_WIND','V_WIND','BN']].copy()\n",
    "wind_bn_train = wind_bn[wind_bn['U_WIND'].notnull()]\n",
    "wind_bn_test = wind_bn[wind_bn['U_WIND'].isnull()]\n",
    "len(train)-len(wind_bn_train)"
   ]
  },
  {
   "cell_type": "code",
   "execution_count": 2,
   "id": "9c46130e",
   "metadata": {
    "ExecuteTime": {
     "end_time": "2023-10-24T06:34:42.634470Z",
     "start_time": "2023-10-24T06:34:37.390017Z"
    }
   },
   "outputs": [],
   "source": [
    "# LSTM을 사용하여 결측값 예측\n",
    "import torch\n",
    "import torch.nn as nn\n",
    "import torch.optim as optim\n",
    "from torch.utils.data import DataLoader, TensorDataset\n",
    "from sklearn.model_selection import train_test_split\n",
    "from sklearn.preprocessing import StandardScaler\n",
    "from sklearn.metrics import mean_squared_error\n",
    "import numpy as np"
   ]
  },
  {
   "cell_type": "code",
   "execution_count": 3,
   "id": "baeded2e",
   "metadata": {
    "ExecuteTime": {
     "end_time": "2023-10-24T06:45:58.131635Z",
     "start_time": "2023-10-24T06:45:56.433125Z"
    }
   },
   "outputs": [
    {
     "name": "stdout",
     "output_type": "stream",
     "text": [
      "True\n",
      "NVIDIA GeForce RTX 3050 Ti Laptop GPU\n",
      "1\n"
     ]
    }
   ],
   "source": [
    "# GPU 확인\n",
    "print(torch.cuda.is_available())\n",
    "device = torch.device('cuda:0') if torch.cuda.is_available() else torch.device('cpu')\n",
    "print(torch.cuda.get_device_name())\n",
    "print(torch.cuda.device_count())"
   ]
  },
  {
   "cell_type": "code",
   "execution_count": 8,
   "id": "eb519877",
   "metadata": {
    "ExecuteTime": {
     "end_time": "2023-10-24T06:46:00.137390Z",
     "start_time": "2023-10-24T06:46:00.009048Z"
    }
   },
   "outputs": [],
   "source": [
    "# data\n",
    "wind_bn = train[['ARI','year','month','day','hour','U_WIND','V_WIND','BN']].copy()\n",
    "wind_bn_ = wind_bn[wind_bn['U_WIND'].notnull()]\n",
    "wind_bn_for_pred = wind_bn[wind_bn['U_WIND'].isnull()]\n",
    "\n",
    "scaler = StandardScaler()\n",
    "scaled_data = scaler.fit_transform(wind_bn_.loc[:,['ARI','year','month','day','hour']].values)\n",
    "\n",
    "x = scaled_data\n",
    "y = wind_bn_.loc[:,['U_WIND','V_WIND','BN']].values\n",
    "\n",
    "x_train, x_val_test, y_train, y_val_test = train_test_split(x, y,\n",
    "                                                test_size=0.4)\n",
    "x_val, x_test, y_val, y_test = train_test_split(x_val_test, y_val_test,\n",
    "                                                test_size=0.5)\n"
   ]
  },
  {
   "cell_type": "code",
   "execution_count": 9,
   "id": "c1e752f2",
   "metadata": {
    "ExecuteTime": {
     "end_time": "2023-10-24T06:46:02.592007Z",
     "start_time": "2023-10-24T06:46:02.432619Z"
    }
   },
   "outputs": [],
   "source": [
    "# Convert the data into tensors\n",
    "x_train_tensor = torch.tensor(x_train, dtype=torch.float32).unsqueeze(1).to(device)\n",
    "y_train_tensor = torch.tensor(y_train, dtype=torch.float32).unsqueeze(1).to(device)\n",
    "x_val_tensor = torch.tensor(x_val, dtype=torch.float32).unsqueeze(1).to(device)\n",
    "y_val_tensor = torch.tensor(y_val, dtype=torch.float32).unsqueeze(1).to(device)\n",
    "x_test_tensor = torch.tensor(x_test, dtype=torch.float32).unsqueeze(1).to(device)\n",
    "y_test_tensor = torch.tensor(y_test, dtype=torch.float32).unsqueeze(1).to(device)\n",
    "\n",
    "# x_train_tensor = torch.tensor(x_train, dtype=torch.float32).to(device)\n",
    "# y_train_tensor = torch.tensor(y_train, dtype=torch.float32).to(device)\n",
    "# x_val_tensor = torch.tensor(x_val, dtype=torch.float32).to(device)\n",
    "# y_val_tensor = torch.tensor(y_val, dtype=torch.float32).to(device)\n",
    "# x_test_tensor = torch.tensor(x_test, dtype=torch.float32).to(device)\n",
    "# y_test_tensor = torch.tensor(y_test, dtype=torch.float32).to(device)"
   ]
  },
  {
   "cell_type": "code",
   "execution_count": 10,
   "id": "dd6f1e03",
   "metadata": {
    "ExecuteTime": {
     "end_time": "2023-10-24T06:46:04.346128Z",
     "start_time": "2023-10-24T06:46:04.321467Z"
    }
   },
   "outputs": [
    {
     "name": "stdout",
     "output_type": "stream",
     "text": [
      "torch.Size([136950, 1, 5])\n",
      "torch.Size([136950, 1, 3])\n",
      "torch.Size([45650, 1, 5])\n",
      "torch.Size([45650, 1, 3])\n",
      "torch.Size([45651, 1, 5])\n",
      "torch.Size([45651, 1, 3])\n"
     ]
    }
   ],
   "source": [
    "print(x_train_tensor.size())\n",
    "print(y_train_tensor.size())\n",
    "print(x_val_tensor.size())\n",
    "print(y_val_tensor.size())\n",
    "print(x_test_tensor.size())\n",
    "print(y_test_tensor.size())"
   ]
  },
  {
   "cell_type": "code",
   "execution_count": 11,
   "id": "8e0b62b6",
   "metadata": {
    "ExecuteTime": {
     "end_time": "2023-10-24T06:46:10.921611Z",
     "start_time": "2023-10-24T06:46:10.891156Z"
    }
   },
   "outputs": [],
   "source": [
    "# Create data loaders\n",
    "batch_size = 150\n",
    "\n",
    "train_dataset = TensorDataset(x_train_tensor, y_train_tensor)\n",
    "train_loader = DataLoader(train_dataset, batch_size=batch_size, shuffle=True)\n",
    "val_dataset = TensorDataset(x_val_tensor, y_val_tensor)\n",
    "val_loader = DataLoader(val_dataset, batch_size=batch_size, shuffle=False)"
   ]
  },
  {
   "cell_type": "code",
   "execution_count": 12,
   "id": "2bca48cd",
   "metadata": {
    "ExecuteTime": {
     "end_time": "2023-10-24T06:46:13.912368Z",
     "start_time": "2023-10-24T06:46:13.905731Z"
    }
   },
   "outputs": [],
   "source": [
    "# Define the training parameters\n",
    "input_size = x_train.shape[1]  # ARI, year, month, day, hour\n",
    "hidden_size = 128\n",
    "num_layers = 3\n",
    "output_size = y_train.shape[1]  # U_WIND, V_WIND, BN\n",
    "patience = 30"
   ]
  },
  {
   "cell_type": "code",
   "execution_count": 13,
   "id": "71484a7b",
   "metadata": {
    "ExecuteTime": {
     "end_time": "2023-10-24T06:46:22.330082Z",
     "start_time": "2023-10-24T06:46:22.321462Z"
    }
   },
   "outputs": [],
   "source": [
    "# Define the LSTM model\n",
    "class LSTM(nn.Module):\n",
    "  def __init__(self, input_size, hidden_size, num_layers, output_size):\n",
    "    super(LSTM, self).__init__()\n",
    "    self.hidden_size = hidden_size\n",
    "    self.num_layers = num_layers\n",
    "    self.lstm = nn.LSTM(input_size, hidden_size, num_layers, batch_first=True, dropout=0.2)\n",
    "    self.fc = nn.Linear(hidden_size, output_size)\n",
    "  def forward(self, x):\n",
    "    h0 = torch.zeros(self.num_layers, x.size(0), self.hidden_size).to(device)\n",
    "    c0 = torch.zeros(self.num_layers, x.size(0), self.hidden_size).to(device)\n",
    "    out, _ = self.lstm(x, (h0, c0))\n",
    "#     out, _ = self.lstm(x)\n",
    "    out = self.fc(out[:, -1, :])\n",
    "#     out = self.fc(out[:, -1])\n",
    "    return out"
   ]
  },
  {
   "cell_type": "code",
   "execution_count": 14,
   "id": "ed670dd4",
   "metadata": {
    "ExecuteTime": {
     "end_time": "2023-10-24T06:46:38.669607Z",
     "start_time": "2023-10-24T06:46:32.674702Z"
    }
   },
   "outputs": [],
   "source": [
    "# Create the LSTM model\n",
    "wind_model = LSTM(input_size, hidden_size, num_layers, output_size).to(device)"
   ]
  },
  {
   "cell_type": "code",
   "execution_count": 15,
   "id": "f48b7372",
   "metadata": {
    "ExecuteTime": {
     "end_time": "2023-10-24T06:46:39.478879Z",
     "start_time": "2023-10-24T06:46:39.467201Z"
    }
   },
   "outputs": [
    {
     "data": {
      "text/plain": [
       "LSTM(\n",
       "  (lstm): LSTM(5, 128, num_layers=3, batch_first=True, dropout=0.2)\n",
       "  (fc): Linear(in_features=128, out_features=3, bias=True)\n",
       ")"
      ]
     },
     "execution_count": 15,
     "metadata": {},
     "output_type": "execute_result"
    }
   ],
   "source": [
    "wind_model"
   ]
  },
  {
   "cell_type": "code",
   "execution_count": 17,
   "id": "5c465e2e",
   "metadata": {
    "ExecuteTime": {
     "end_time": "2023-10-24T06:47:08.769471Z",
     "start_time": "2023-10-24T06:47:08.202265Z"
    }
   },
   "outputs": [],
   "source": [
    "# Define the loss function and optimizer\n",
    "criterion = nn.MSELoss()\n",
    "optimizer = optim.Adam(wind_model.parameters(), lr=0.001)"
   ]
  },
  {
   "cell_type": "code",
   "execution_count": 19,
   "id": "ab00325c",
   "metadata": {
    "ExecuteTime": {
     "end_time": "2023-10-24T06:47:27.499568Z",
     "start_time": "2023-10-24T06:47:23.363732Z"
    }
   },
   "outputs": [
    {
     "name": "stderr",
     "output_type": "stream",
     "text": [
      "C:\\Users\\songkyu\\anaconda3\\envs\\Python39_DA\\lib\\site-packages\\torch\\nn\\modules\\loss.py:535: UserWarning: Using a target size (torch.Size([150, 1, 3])) that is different to the input size (torch.Size([150, 3])). This will likely lead to incorrect results due to broadcasting. Please ensure they have the same size.\n",
      "  return F.mse_loss(input, target, reduction=self.reduction)\n"
     ]
    },
    {
     "ename": "KeyboardInterrupt",
     "evalue": "",
     "output_type": "error",
     "traceback": [
      "\u001b[1;31m---------------------------------------------------------------------------\u001b[0m",
      "\u001b[1;31mKeyboardInterrupt\u001b[0m                         Traceback (most recent call last)",
      "Cell \u001b[1;32mIn[19], line 14\u001b[0m\n\u001b[0;32m     12\u001b[0m     output \u001b[38;5;241m=\u001b[39m wind_model(batch_x)\n\u001b[0;32m     13\u001b[0m     loss \u001b[38;5;241m=\u001b[39m criterion(output, batch_y)\n\u001b[1;32m---> 14\u001b[0m     \u001b[43mloss\u001b[49m\u001b[38;5;241;43m.\u001b[39;49m\u001b[43mbackward\u001b[49m\u001b[43m(\u001b[49m\u001b[43m)\u001b[49m\n\u001b[0;32m     15\u001b[0m     optimizer\u001b[38;5;241m.\u001b[39mstep()\n\u001b[0;32m     17\u001b[0m average_train_loss \u001b[38;5;241m=\u001b[39m train_loss \u001b[38;5;241m/\u001b[39m \u001b[38;5;28mlen\u001b[39m(train_loader\u001b[38;5;241m.\u001b[39mdataset)\n",
      "File \u001b[1;32m~\\anaconda3\\envs\\Python39_DA\\lib\\site-packages\\torch\\_tensor.py:492\u001b[0m, in \u001b[0;36mTensor.backward\u001b[1;34m(self, gradient, retain_graph, create_graph, inputs)\u001b[0m\n\u001b[0;32m    482\u001b[0m \u001b[38;5;28;01mif\u001b[39;00m has_torch_function_unary(\u001b[38;5;28mself\u001b[39m):\n\u001b[0;32m    483\u001b[0m     \u001b[38;5;28;01mreturn\u001b[39;00m handle_torch_function(\n\u001b[0;32m    484\u001b[0m         Tensor\u001b[38;5;241m.\u001b[39mbackward,\n\u001b[0;32m    485\u001b[0m         (\u001b[38;5;28mself\u001b[39m,),\n\u001b[1;32m   (...)\u001b[0m\n\u001b[0;32m    490\u001b[0m         inputs\u001b[38;5;241m=\u001b[39minputs,\n\u001b[0;32m    491\u001b[0m     )\n\u001b[1;32m--> 492\u001b[0m \u001b[43mtorch\u001b[49m\u001b[38;5;241;43m.\u001b[39;49m\u001b[43mautograd\u001b[49m\u001b[38;5;241;43m.\u001b[39;49m\u001b[43mbackward\u001b[49m\u001b[43m(\u001b[49m\n\u001b[0;32m    493\u001b[0m \u001b[43m    \u001b[49m\u001b[38;5;28;43mself\u001b[39;49m\u001b[43m,\u001b[49m\u001b[43m \u001b[49m\u001b[43mgradient\u001b[49m\u001b[43m,\u001b[49m\u001b[43m \u001b[49m\u001b[43mretain_graph\u001b[49m\u001b[43m,\u001b[49m\u001b[43m \u001b[49m\u001b[43mcreate_graph\u001b[49m\u001b[43m,\u001b[49m\u001b[43m \u001b[49m\u001b[43minputs\u001b[49m\u001b[38;5;241;43m=\u001b[39;49m\u001b[43minputs\u001b[49m\n\u001b[0;32m    494\u001b[0m \u001b[43m\u001b[49m\u001b[43m)\u001b[49m\n",
      "File \u001b[1;32m~\\anaconda3\\envs\\Python39_DA\\lib\\site-packages\\torch\\autograd\\__init__.py:251\u001b[0m, in \u001b[0;36mbackward\u001b[1;34m(tensors, grad_tensors, retain_graph, create_graph, grad_variables, inputs)\u001b[0m\n\u001b[0;32m    246\u001b[0m     retain_graph \u001b[38;5;241m=\u001b[39m create_graph\n\u001b[0;32m    248\u001b[0m \u001b[38;5;66;03m# The reason we repeat the same comment below is that\u001b[39;00m\n\u001b[0;32m    249\u001b[0m \u001b[38;5;66;03m# some Python versions print out the first line of a multi-line function\u001b[39;00m\n\u001b[0;32m    250\u001b[0m \u001b[38;5;66;03m# calls in the traceback and some print out the last line\u001b[39;00m\n\u001b[1;32m--> 251\u001b[0m \u001b[43mVariable\u001b[49m\u001b[38;5;241;43m.\u001b[39;49m\u001b[43m_execution_engine\u001b[49m\u001b[38;5;241;43m.\u001b[39;49m\u001b[43mrun_backward\u001b[49m\u001b[43m(\u001b[49m\u001b[43m  \u001b[49m\u001b[38;5;66;43;03m# Calls into the C++ engine to run the backward pass\u001b[39;49;00m\n\u001b[0;32m    252\u001b[0m \u001b[43m    \u001b[49m\u001b[43mtensors\u001b[49m\u001b[43m,\u001b[49m\n\u001b[0;32m    253\u001b[0m \u001b[43m    \u001b[49m\u001b[43mgrad_tensors_\u001b[49m\u001b[43m,\u001b[49m\n\u001b[0;32m    254\u001b[0m \u001b[43m    \u001b[49m\u001b[43mretain_graph\u001b[49m\u001b[43m,\u001b[49m\n\u001b[0;32m    255\u001b[0m \u001b[43m    \u001b[49m\u001b[43mcreate_graph\u001b[49m\u001b[43m,\u001b[49m\n\u001b[0;32m    256\u001b[0m \u001b[43m    \u001b[49m\u001b[43minputs\u001b[49m\u001b[43m,\u001b[49m\n\u001b[0;32m    257\u001b[0m \u001b[43m    \u001b[49m\u001b[43mallow_unreachable\u001b[49m\u001b[38;5;241;43m=\u001b[39;49m\u001b[38;5;28;43;01mTrue\u001b[39;49;00m\u001b[43m,\u001b[49m\n\u001b[0;32m    258\u001b[0m \u001b[43m    \u001b[49m\u001b[43maccumulate_grad\u001b[49m\u001b[38;5;241;43m=\u001b[39;49m\u001b[38;5;28;43;01mTrue\u001b[39;49;00m\u001b[43m,\u001b[49m\n\u001b[0;32m    259\u001b[0m \u001b[43m\u001b[49m\u001b[43m)\u001b[49m\n",
      "\u001b[1;31mKeyboardInterrupt\u001b[0m: "
     ]
    }
   ],
   "source": [
    "# Train the model\n",
    "best_loss = float('inf')\n",
    "early_stopping_counter = 0\n",
    "for epoch in range(1000):\n",
    "    wind_model.train()\n",
    "    train_loss = 0\n",
    "    \n",
    "    for batch_x, batch_y in train_loader:\n",
    "        batch_x = batch_x.to(device)\n",
    "        batch_y = batch_y.to(device)\n",
    "        optimizer.zero_grad()\n",
    "        output = wind_model(batch_x)\n",
    "        loss = criterion(output, batch_y)\n",
    "        loss.backward()\n",
    "        optimizer.step()\n",
    "\n",
    "    average_train_loss = train_loss / len(train_loader.dataset)\n",
    "        \n",
    "    wind_model.eval()\n",
    "    \n",
    "    with torch.no_grad():\n",
    "        for batch_x,batch_y in val_loader: ###📢여기 보던 중\n",
    "            batch_x = batch_x.to(device)\n",
    "            batch_y = batch_y.to(device)\n",
    "            output = wind_model(batch_x)\n",
    "            loss = criterion(output, batch_y)\n",
    "            val_loss += loss.item() * batch_x.size(0)\n",
    "        \n",
    "        average_val_loss = val_loss / len(val_loader.dataset)\n",
    "        \n",
    "        y_pred = wind_model(x_val_tensor)\n",
    "        y_pred = y_pred.unsqueeze(0).repeat(y_val_tensor.shape[0], 1, 1)\n",
    "        val_loss = criterion(y_pred, y_val_tensor)\n",
    "        if val_loss < best_loss:\n",
    "            best_loss = val_loss\n",
    "            torch.save(wind_model.state_dict(), 'best_model.pth')\n",
    "            early_stopping_counter = 0\n",
    "        else:\n",
    "            early_stopping_counter += 1\n",
    "            if early_stopping_counter >= patience:\n",
    "                break"
   ]
  },
  {
   "cell_type": "code",
   "execution_count": null,
   "id": "80993b56",
   "metadata": {},
   "outputs": [],
   "source": []
  },
  {
   "cell_type": "code",
   "execution_count": null,
   "id": "a561435e",
   "metadata": {},
   "outputs": [],
   "source": []
  },
  {
   "cell_type": "code",
   "execution_count": null,
   "id": "3f90ff71",
   "metadata": {},
   "outputs": [],
   "source": []
  },
  {
   "cell_type": "code",
   "execution_count": null,
   "id": "1989e195",
   "metadata": {},
   "outputs": [],
   "source": []
  },
  {
   "cell_type": "code",
   "execution_count": 71,
   "id": "b2586d06",
   "metadata": {
    "ExecuteTime": {
     "end_time": "2023-10-23T21:00:44.810136Z",
     "start_time": "2023-10-23T21:00:44.355297Z"
    }
   },
   "outputs": [
    {
     "ename": "RuntimeError",
     "evalue": "For unbatched 2-D input, hx and cx should also be 2-D but got (3-D, 3-D) tensors",
     "output_type": "error",
     "traceback": [
      "\u001b[1;31m---------------------------------------------------------------------------\u001b[0m",
      "\u001b[1;31mRuntimeError\u001b[0m                              Traceback (most recent call last)",
      "Cell \u001b[1;32mIn[71], line 74\u001b[0m\n\u001b[0;32m     72\u001b[0m \u001b[38;5;28;01mfor\u001b[39;00m batch_x, batch_y \u001b[38;5;129;01min\u001b[39;00m train_loader:\n\u001b[0;32m     73\u001b[0m   optimizer\u001b[38;5;241m.\u001b[39mzero_grad()\n\u001b[1;32m---> 74\u001b[0m   output \u001b[38;5;241m=\u001b[39m \u001b[43mmodel\u001b[49m\u001b[43m(\u001b[49m\u001b[43mbatch_x\u001b[49m\u001b[43m)\u001b[49m\n\u001b[0;32m     75\u001b[0m   loss \u001b[38;5;241m=\u001b[39m criterion(output, batch_y)\n\u001b[0;32m     76\u001b[0m   loss\u001b[38;5;241m.\u001b[39mbackward()\n",
      "File \u001b[1;32m~\\anaconda3\\envs\\Python39_DA\\lib\\site-packages\\torch\\nn\\modules\\module.py:1518\u001b[0m, in \u001b[0;36mModule._wrapped_call_impl\u001b[1;34m(self, *args, **kwargs)\u001b[0m\n\u001b[0;32m   1516\u001b[0m     \u001b[38;5;28;01mreturn\u001b[39;00m \u001b[38;5;28mself\u001b[39m\u001b[38;5;241m.\u001b[39m_compiled_call_impl(\u001b[38;5;241m*\u001b[39margs, \u001b[38;5;241m*\u001b[39m\u001b[38;5;241m*\u001b[39mkwargs)  \u001b[38;5;66;03m# type: ignore[misc]\u001b[39;00m\n\u001b[0;32m   1517\u001b[0m \u001b[38;5;28;01melse\u001b[39;00m:\n\u001b[1;32m-> 1518\u001b[0m     \u001b[38;5;28;01mreturn\u001b[39;00m \u001b[38;5;28mself\u001b[39m\u001b[38;5;241m.\u001b[39m_call_impl(\u001b[38;5;241m*\u001b[39margs, \u001b[38;5;241m*\u001b[39m\u001b[38;5;241m*\u001b[39mkwargs)\n",
      "File \u001b[1;32m~\\anaconda3\\envs\\Python39_DA\\lib\\site-packages\\torch\\nn\\modules\\module.py:1527\u001b[0m, in \u001b[0;36mModule._call_impl\u001b[1;34m(self, *args, **kwargs)\u001b[0m\n\u001b[0;32m   1522\u001b[0m \u001b[38;5;66;03m# If we don't have any hooks, we want to skip the rest of the logic in\u001b[39;00m\n\u001b[0;32m   1523\u001b[0m \u001b[38;5;66;03m# this function, and just call forward.\u001b[39;00m\n\u001b[0;32m   1524\u001b[0m \u001b[38;5;28;01mif\u001b[39;00m \u001b[38;5;129;01mnot\u001b[39;00m (\u001b[38;5;28mself\u001b[39m\u001b[38;5;241m.\u001b[39m_backward_hooks \u001b[38;5;129;01mor\u001b[39;00m \u001b[38;5;28mself\u001b[39m\u001b[38;5;241m.\u001b[39m_backward_pre_hooks \u001b[38;5;129;01mor\u001b[39;00m \u001b[38;5;28mself\u001b[39m\u001b[38;5;241m.\u001b[39m_forward_hooks \u001b[38;5;129;01mor\u001b[39;00m \u001b[38;5;28mself\u001b[39m\u001b[38;5;241m.\u001b[39m_forward_pre_hooks\n\u001b[0;32m   1525\u001b[0m         \u001b[38;5;129;01mor\u001b[39;00m _global_backward_pre_hooks \u001b[38;5;129;01mor\u001b[39;00m _global_backward_hooks\n\u001b[0;32m   1526\u001b[0m         \u001b[38;5;129;01mor\u001b[39;00m _global_forward_hooks \u001b[38;5;129;01mor\u001b[39;00m _global_forward_pre_hooks):\n\u001b[1;32m-> 1527\u001b[0m     \u001b[38;5;28;01mreturn\u001b[39;00m forward_call(\u001b[38;5;241m*\u001b[39margs, \u001b[38;5;241m*\u001b[39m\u001b[38;5;241m*\u001b[39mkwargs)\n\u001b[0;32m   1529\u001b[0m \u001b[38;5;28;01mtry\u001b[39;00m:\n\u001b[0;32m   1530\u001b[0m     result \u001b[38;5;241m=\u001b[39m \u001b[38;5;28;01mNone\u001b[39;00m\n",
      "Cell \u001b[1;32mIn[71], line 22\u001b[0m, in \u001b[0;36mLSTM.forward\u001b[1;34m(self, x)\u001b[0m\n\u001b[0;32m     20\u001b[0m h0 \u001b[38;5;241m=\u001b[39m torch\u001b[38;5;241m.\u001b[39mzeros(\u001b[38;5;28mself\u001b[39m\u001b[38;5;241m.\u001b[39mnum_layers, x\u001b[38;5;241m.\u001b[39msize(\u001b[38;5;241m0\u001b[39m), \u001b[38;5;28mself\u001b[39m\u001b[38;5;241m.\u001b[39mhidden_size)\u001b[38;5;241m.\u001b[39mto(device)\n\u001b[0;32m     21\u001b[0m c0 \u001b[38;5;241m=\u001b[39m torch\u001b[38;5;241m.\u001b[39mzeros(\u001b[38;5;28mself\u001b[39m\u001b[38;5;241m.\u001b[39mnum_layers, x\u001b[38;5;241m.\u001b[39msize(\u001b[38;5;241m0\u001b[39m), \u001b[38;5;28mself\u001b[39m\u001b[38;5;241m.\u001b[39mhidden_size)\u001b[38;5;241m.\u001b[39mto(device)\n\u001b[1;32m---> 22\u001b[0m out, _ \u001b[38;5;241m=\u001b[39m \u001b[38;5;28;43mself\u001b[39;49m\u001b[38;5;241;43m.\u001b[39;49m\u001b[43mlstm\u001b[49m\u001b[43m(\u001b[49m\u001b[43mx\u001b[49m\u001b[43m,\u001b[49m\u001b[43m \u001b[49m\u001b[43m(\u001b[49m\u001b[43mh0\u001b[49m\u001b[43m,\u001b[49m\u001b[43m \u001b[49m\u001b[43mc0\u001b[49m\u001b[43m)\u001b[49m\u001b[43m)\u001b[49m\n\u001b[0;32m     23\u001b[0m out \u001b[38;5;241m=\u001b[39m \u001b[38;5;28mself\u001b[39m\u001b[38;5;241m.\u001b[39mfc(out[:, \u001b[38;5;241m-\u001b[39m\u001b[38;5;241m1\u001b[39m, :])\n\u001b[0;32m     24\u001b[0m \u001b[38;5;28;01mreturn\u001b[39;00m out\n",
      "File \u001b[1;32m~\\anaconda3\\envs\\Python39_DA\\lib\\site-packages\\torch\\nn\\modules\\module.py:1518\u001b[0m, in \u001b[0;36mModule._wrapped_call_impl\u001b[1;34m(self, *args, **kwargs)\u001b[0m\n\u001b[0;32m   1516\u001b[0m     \u001b[38;5;28;01mreturn\u001b[39;00m \u001b[38;5;28mself\u001b[39m\u001b[38;5;241m.\u001b[39m_compiled_call_impl(\u001b[38;5;241m*\u001b[39margs, \u001b[38;5;241m*\u001b[39m\u001b[38;5;241m*\u001b[39mkwargs)  \u001b[38;5;66;03m# type: ignore[misc]\u001b[39;00m\n\u001b[0;32m   1517\u001b[0m \u001b[38;5;28;01melse\u001b[39;00m:\n\u001b[1;32m-> 1518\u001b[0m     \u001b[38;5;28;01mreturn\u001b[39;00m \u001b[38;5;28mself\u001b[39m\u001b[38;5;241m.\u001b[39m_call_impl(\u001b[38;5;241m*\u001b[39margs, \u001b[38;5;241m*\u001b[39m\u001b[38;5;241m*\u001b[39mkwargs)\n",
      "File \u001b[1;32m~\\anaconda3\\envs\\Python39_DA\\lib\\site-packages\\torch\\nn\\modules\\module.py:1527\u001b[0m, in \u001b[0;36mModule._call_impl\u001b[1;34m(self, *args, **kwargs)\u001b[0m\n\u001b[0;32m   1522\u001b[0m \u001b[38;5;66;03m# If we don't have any hooks, we want to skip the rest of the logic in\u001b[39;00m\n\u001b[0;32m   1523\u001b[0m \u001b[38;5;66;03m# this function, and just call forward.\u001b[39;00m\n\u001b[0;32m   1524\u001b[0m \u001b[38;5;28;01mif\u001b[39;00m \u001b[38;5;129;01mnot\u001b[39;00m (\u001b[38;5;28mself\u001b[39m\u001b[38;5;241m.\u001b[39m_backward_hooks \u001b[38;5;129;01mor\u001b[39;00m \u001b[38;5;28mself\u001b[39m\u001b[38;5;241m.\u001b[39m_backward_pre_hooks \u001b[38;5;129;01mor\u001b[39;00m \u001b[38;5;28mself\u001b[39m\u001b[38;5;241m.\u001b[39m_forward_hooks \u001b[38;5;129;01mor\u001b[39;00m \u001b[38;5;28mself\u001b[39m\u001b[38;5;241m.\u001b[39m_forward_pre_hooks\n\u001b[0;32m   1525\u001b[0m         \u001b[38;5;129;01mor\u001b[39;00m _global_backward_pre_hooks \u001b[38;5;129;01mor\u001b[39;00m _global_backward_hooks\n\u001b[0;32m   1526\u001b[0m         \u001b[38;5;129;01mor\u001b[39;00m _global_forward_hooks \u001b[38;5;129;01mor\u001b[39;00m _global_forward_pre_hooks):\n\u001b[1;32m-> 1527\u001b[0m     \u001b[38;5;28;01mreturn\u001b[39;00m forward_call(\u001b[38;5;241m*\u001b[39margs, \u001b[38;5;241m*\u001b[39m\u001b[38;5;241m*\u001b[39mkwargs)\n\u001b[0;32m   1529\u001b[0m \u001b[38;5;28;01mtry\u001b[39;00m:\n\u001b[0;32m   1530\u001b[0m     result \u001b[38;5;241m=\u001b[39m \u001b[38;5;28;01mNone\u001b[39;00m\n",
      "File \u001b[1;32m~\\anaconda3\\envs\\Python39_DA\\lib\\site-packages\\torch\\nn\\modules\\rnn.py:871\u001b[0m, in \u001b[0;36mLSTM.forward\u001b[1;34m(self, input, hx)\u001b[0m\n\u001b[0;32m    868\u001b[0m     \u001b[38;5;28;01mif\u001b[39;00m hx[\u001b[38;5;241m0\u001b[39m]\u001b[38;5;241m.\u001b[39mdim() \u001b[38;5;241m!=\u001b[39m \u001b[38;5;241m2\u001b[39m \u001b[38;5;129;01mor\u001b[39;00m hx[\u001b[38;5;241m1\u001b[39m]\u001b[38;5;241m.\u001b[39mdim() \u001b[38;5;241m!=\u001b[39m \u001b[38;5;241m2\u001b[39m:\n\u001b[0;32m    869\u001b[0m         msg \u001b[38;5;241m=\u001b[39m (\u001b[38;5;124m\"\u001b[39m\u001b[38;5;124mFor unbatched 2-D input, hx and cx should \u001b[39m\u001b[38;5;124m\"\u001b[39m\n\u001b[0;32m    870\u001b[0m                \u001b[38;5;124mf\u001b[39m\u001b[38;5;124m\"\u001b[39m\u001b[38;5;124malso be 2-D but got (\u001b[39m\u001b[38;5;132;01m{\u001b[39;00mhx[\u001b[38;5;241m0\u001b[39m]\u001b[38;5;241m.\u001b[39mdim()\u001b[38;5;132;01m}\u001b[39;00m\u001b[38;5;124m-D, \u001b[39m\u001b[38;5;132;01m{\u001b[39;00mhx[\u001b[38;5;241m1\u001b[39m]\u001b[38;5;241m.\u001b[39mdim()\u001b[38;5;132;01m}\u001b[39;00m\u001b[38;5;124m-D) tensors\u001b[39m\u001b[38;5;124m\"\u001b[39m)\n\u001b[1;32m--> 871\u001b[0m         \u001b[38;5;28;01mraise\u001b[39;00m \u001b[38;5;167;01mRuntimeError\u001b[39;00m(msg)\n\u001b[0;32m    872\u001b[0m     hx \u001b[38;5;241m=\u001b[39m (hx[\u001b[38;5;241m0\u001b[39m]\u001b[38;5;241m.\u001b[39munsqueeze(\u001b[38;5;241m1\u001b[39m), hx[\u001b[38;5;241m1\u001b[39m]\u001b[38;5;241m.\u001b[39munsqueeze(\u001b[38;5;241m1\u001b[39m))\n\u001b[0;32m    873\u001b[0m \u001b[38;5;66;03m# Each batch of the hidden state should match the input sequence that\u001b[39;00m\n\u001b[0;32m    874\u001b[0m \u001b[38;5;66;03m# the user believes he/she is passing in.\u001b[39;00m\n",
      "\u001b[1;31mRuntimeError\u001b[0m: For unbatched 2-D input, hx and cx should also be 2-D but got (3-D, 3-D) tensors"
     ]
    }
   ],
   "source": [
    "import torch\n",
    "import torch.nn as nn\n",
    "import torch.optim as optim\n",
    "from torch.utils.data import DataLoader, TensorDataset\n",
    "from sklearn.model_selection import train_test_split\n",
    "from sklearn.preprocessing import StandardScaler\n",
    "from sklearn.metrics import mean_squared_error\n",
    "import numpy as np\n",
    "\n",
    "# Define the LSTM model\n",
    "class LSTM(nn.Module):\n",
    "  def __init__(self, input_size, hidden_size, num_layers, output_size):\n",
    "    super(LSTM, self).__init__()\n",
    "    self.hidden_size = hidden_size\n",
    "    self.num_layers = num_layers\n",
    "    self.lstm = nn.LSTM(input_size, hidden_size, num_layers, batch_first=True, dropout=0.2)\n",
    "    self.fc = nn.Linear(hidden_size, output_size)\n",
    "\n",
    "  def forward(self, x):\n",
    "    h0 = torch.zeros(self.num_layers, x.size(0), self.hidden_size).to(device)\n",
    "    c0 = torch.zeros(self.num_layers, x.size(0), self.hidden_size).to(device)\n",
    "    out, _ = self.lstm(x, (h0, c0))\n",
    "    out = self.fc(out[:, -1, :])\n",
    "    return out\n",
    "\n",
    "# Set device\n",
    "device = torch.device('cuda' if torch.cuda.is_available() else 'cpu')\n",
    "\n",
    "# Define the training parameters\n",
    "input_size = 5  # ARI, year, month, day, hour\n",
    "hidden_size = 64\n",
    "num_layers = 2\n",
    "output_size = 3  # U_WIND, V_WIND, BN\n",
    "batch_size = 150\n",
    "patience = 30\n",
    "\n",
    "# Prepare the data\n",
    "data = train[['ARI', 'year', 'month', 'day', 'hour', 'U_WIND', 'V_WIND', 'BN']].copy()\n",
    "scaler = StandardScaler()\n",
    "scaled_data = scaler.fit_transform(data.values)\n",
    "x = scaled_data[:, :-3]\n",
    "y = scaled_data[:, -3:]\n",
    "x_train, x_val_test, y_train, y_val_test = train_test_split(x, y, test_size=0.4, random_state=42)\n",
    "x_val, x_test, y_val, y_test = train_test_split(x_val_test, y_val_test, test_size=0.5, random_state=42)\n",
    "\n",
    "# Convert the data into tensors\n",
    "x_train_tensor = torch.tensor(x_train, dtype=torch.float32).to(device)\n",
    "y_train_tensor = torch.tensor(y_train, dtype=torch.float32).to(device)\n",
    "x_val_tensor = torch.tensor(x_val, dtype=torch.float32).to(device)\n",
    "y_val_tensor = torch.tensor(y_val, dtype=torch.float32).to(device)\n",
    "x_test_tensor = torch.tensor(x_test, dtype=torch.float32).to(device)\n",
    "y_test_tensor = torch.tensor(y_test, dtype=torch.float32).to(device)\n",
    "\n",
    "# Create data loaders\n",
    "train_dataset = TensorDataset(x_train_tensor, y_train_tensor)\n",
    "train_loader = DataLoader(train_dataset, batch_size=batch_size, shuffle=True)\n",
    "val_dataset = TensorDataset(x_val_tensor, y_val_tensor)\n",
    "val_loader = DataLoader(val_dataset, batch_size=batch_size, shuffle=False)\n",
    "\n",
    "# Create the LSTM model\n",
    "model = LSTM(input_size, hidden_size, num_layers, output_size).to(device)\n",
    "\n",
    "# Define the loss function and optimizer\n",
    "criterion = nn.MSELoss()\n",
    "optimizer = optim.Adam(model.parameters())\n",
    "\n",
    "# Train the model\n",
    "best_loss = float('inf')\n",
    "early_stopping_counter = 0\n",
    "for epoch in range(1000):\n",
    "  model.train()\n",
    "  for batch_x, batch_y in train_loader:\n",
    "    optimizer.zero_grad()\n",
    "    output = model(batch_x)\n",
    "    loss = criterion(output, batch_y)\n",
    "    loss.backward()\n",
    "    optimizer.step()\n",
    "  \n",
    "  model.eval()\n",
    "  with torch.no_grad():\n",
    "    val_loss = criterion(model(x_val_tensor), y_val_tensor)\n",
    "    if val_loss < best_loss:\n",
    "      best_loss = val_loss\n",
    "      torch.save(model.state_dict(), 'best_model.pth')\n",
    "      early_stopping_counter = 0\n",
    "    else:\n",
    "      early_stopping_counter += 1\n",
    "      if early_stopping_counter >= patience:\n",
    "        break\n",
    "\n",
    "# Load the best model\n",
    "model.load_state_dict(torch.load('best_model.pth'))\n",
    "\n",
    "# Evaluate the model on the test set\n",
    "model.eval()\n",
    "y_pred = model(x_test_tensor)\n",
    "test_loss = criterion(y_pred, y_test_tensor)\n",
    "\n"
   ]
  },
  {
   "cell_type": "code",
   "execution_count": null,
   "id": "dad150b2",
   "metadata": {},
   "outputs": [],
   "source": []
  },
  {
   "cell_type": "code",
   "execution_count": null,
   "id": "e824defd",
   "metadata": {},
   "outputs": [],
   "source": []
  },
  {
   "cell_type": "code",
   "execution_count": null,
   "id": "225eae6d",
   "metadata": {},
   "outputs": [],
   "source": []
  },
  {
   "cell_type": "code",
   "execution_count": null,
   "id": "0442f241",
   "metadata": {},
   "outputs": [],
   "source": []
  },
  {
   "cell_type": "code",
   "execution_count": null,
   "id": "3d54f308",
   "metadata": {},
   "outputs": [],
   "source": []
  },
  {
   "cell_type": "code",
   "execution_count": null,
   "id": "26f8074f",
   "metadata": {},
   "outputs": [],
   "source": []
  },
  {
   "cell_type": "code",
   "execution_count": null,
   "id": "14e5dbf5",
   "metadata": {},
   "outputs": [],
   "source": []
  },
  {
   "cell_type": "code",
   "execution_count": null,
   "id": "3e39ff3e",
   "metadata": {},
   "outputs": [],
   "source": []
  },
  {
   "cell_type": "code",
   "execution_count": 11,
   "id": "3da2efaa",
   "metadata": {
    "ExecuteTime": {
     "end_time": "2023-10-23T09:15:54.380888Z",
     "start_time": "2023-10-23T09:15:54.355850Z"
    }
   },
   "outputs": [
    {
     "name": "stdout",
     "output_type": "stream",
     "text": [
      "(228251, 5) (228251, 3)\n"
     ]
    }
   ],
   "source": []
  },
  {
   "cell_type": "code",
   "execution_count": 13,
   "id": "3905e4fb",
   "metadata": {
    "ExecuteTime": {
     "end_time": "2023-10-23T09:15:56.755375Z",
     "start_time": "2023-10-23T09:15:56.724406Z"
    }
   },
   "outputs": [
    {
     "data": {
      "text/plain": [
       "(164340, 5)"
      ]
     },
     "execution_count": 13,
     "metadata": {},
     "output_type": "execute_result"
    }
   ],
   "source": []
  },
  {
   "cell_type": "code",
   "execution_count": 20,
   "id": "a4d7c70b",
   "metadata": {
    "ExecuteTime": {
     "end_time": "2023-10-23T08:24:33.014153Z",
     "start_time": "2023-10-23T08:24:32.859365Z"
    }
   },
   "outputs": [
    {
     "data": {
      "image/png": "[encoded data removed]",
      "text/plain": [
       "<Figure size 640x480 with 1 Axes>"
      ]
     },
     "metadata": {},
     "output_type": "display_data"
    }
   ],
   "source": [
    "fig, ax = plt.subplots()\n",
    "plt.plot(wind_training_record.history[\"loss\"], label=\"Training Loss\")\n",
    "plt.plot(wind_training_record.history[\"val_loss\"], label=\"Validation Loss\")\n",
    "plt.legend()\n",
    "fig.suptitle(\"Loss\")\n",
    "plt.show()"
   ]
  },
  {
   "cell_type": "code",
   "execution_count": 26,
   "id": "1292dc37",
   "metadata": {
    "ExecuteTime": {
     "end_time": "2023-10-23T08:24:35.754390Z",
     "start_time": "2023-10-23T08:24:35.726230Z"
    }
   },
   "outputs": [
    {
     "data": {
      "text/plain": [
       "164630"
      ]
     },
     "execution_count": 26,
     "metadata": {},
     "output_type": "execute_result"
    }
   ],
   "source": [
    "# 기온 예측\n",
    "air_train = air[air['AIR_TEMPERATURE'].notnull()]\n",
    "len(train)-len(air_train)"
   ]
  },
  {
   "cell_type": "code",
   "execution_count": 27,
   "id": "a60e0559",
   "metadata": {
    "ExecuteTime": {
     "end_time": "2023-10-23T08:24:35.786070Z",
     "start_time": "2023-10-23T08:24:35.757025Z"
    }
   },
   "outputs": [
    {
     "name": "stdout",
     "output_type": "stream",
     "text": [
      "(227309, 5) (227309,)\n"
     ]
    }
   ],
   "source": [
    "x_air_train = air_train.drop(columns=['AIR_TEMPERATURE'],axis=1)\n",
    "y_air_train = air_train['AIR_TEMPERATURE']\n",
    "print(x_air_train.shape,y_air_train.shape)"
   ]
  },
  {
   "cell_type": "code",
   "execution_count": 33,
   "id": "f1e9550d",
   "metadata": {
    "ExecuteTime": {
     "end_time": "2023-10-23T09:01:18.964449Z",
     "start_time": "2023-10-23T09:01:18.748727Z"
    }
   },
   "outputs": [
    {
     "data": {
      "image/png": "[encoded data removed]",
      "text/plain": [
       "<Figure size 640x480 with 1 Axes>"
      ]
     },
     "metadata": {},
     "output_type": "display_data"
    }
   ],
   "source": [
    "fig, ax = plt.subplots()\n",
    "plt.plot(air_training_record.history[\"loss\"], label=\"Training Loss\")\n",
    "plt.plot(air_training_record.history[\"val_loss\"], label=\"Validation Loss\")\n",
    "plt.legend()\n",
    "fig.suptitle(\"Loss\")\n",
    "plt.show()"
   ]
  },
  {
   "cell_type": "code",
   "execution_count": 34,
   "id": "4d1521b4",
   "metadata": {
    "ExecuteTime": {
     "end_time": "2023-10-23T09:01:22.829471Z",
     "start_time": "2023-10-23T09:01:18.969442Z"
    }
   },
   "outputs": [
    {
     "name": "stdout",
     "output_type": "stream",
     "text": [
      "711/711 [==============================] - 3s 3ms/step\n"
     ]
    },
    {
     "data": {
      "text/plain": [
       "array([[25.546644],\n",
       "       [29.761812],\n",
       "       [18.50464 ],\n",
       "       ...,\n",
       "       [28.05536 ],\n",
       "       [11.567489],\n",
       "       [28.61377 ]], dtype=float32)"
      ]
     },
     "execution_count": 34,
     "metadata": {},
     "output_type": "execute_result"
    }
   ],
   "source": [
    "air_pred = gpu_air_model.predict(X_test_ex)\n",
    "air_pred"
   ]
  },
  {
   "cell_type": "code",
   "execution_count": 35,
   "id": "3121ad6b",
   "metadata": {
    "ExecuteTime": {
     "end_time": "2023-10-23T09:01:22.844637Z",
     "start_time": "2023-10-23T09:01:22.831753Z"
    }
   },
   "outputs": [
    {
     "data": {
      "text/plain": [
       "2.615103"
      ]
     },
     "execution_count": 35,
     "metadata": {},
     "output_type": "execute_result"
    }
   ],
   "source": [
    "# MSLE\n",
    "mean_absolute_error(y_test,air_pred)"
   ]
  },
  {
   "cell_type": "code",
   "execution_count": 36,
   "id": "4dcb7dc8",
   "metadata": {
    "ExecuteTime": {
     "end_time": "2023-10-23T09:01:22.860527Z",
     "start_time": "2023-10-23T09:01:22.847159Z"
    }
   },
   "outputs": [
    {
     "data": {
      "text/html": [
       "<div>\n",
       "<style scoped>\n",
       "    .dataframe tbody tr th:only-of-type {\n",
       "        vertical-align: middle;\n",
       "    }\n",
       "\n",
       "    .dataframe tbody tr th {\n",
       "        vertical-align: top;\n",
       "    }\n",
       "\n",
       "    .dataframe thead th {\n",
       "        text-align: right;\n",
       "    }\n",
       "</style>\n",
       "<table border=\"1\" class=\"dataframe\">\n",
       "  <thead>\n",
       "    <tr style=\"text-align: right;\">\n",
       "      <th></th>\n",
       "      <th>AIR_TEMPERATURE</th>\n",
       "    </tr>\n",
       "  </thead>\n",
       "  <tbody>\n",
       "    <tr>\n",
       "      <th>159643</th>\n",
       "      <td>25.546644</td>\n",
       "    </tr>\n",
       "    <tr>\n",
       "      <th>172286</th>\n",
       "      <td>29.761812</td>\n",
       "    </tr>\n",
       "    <tr>\n",
       "      <th>84933</th>\n",
       "      <td>18.504641</td>\n",
       "    </tr>\n",
       "    <tr>\n",
       "      <th>362844</th>\n",
       "      <td>17.253052</td>\n",
       "    </tr>\n",
       "    <tr>\n",
       "      <th>216322</th>\n",
       "      <td>20.468185</td>\n",
       "    </tr>\n",
       "    <tr>\n",
       "      <th>...</th>\n",
       "      <td>...</td>\n",
       "    </tr>\n",
       "    <tr>\n",
       "      <th>136398</th>\n",
       "      <td>27.919235</td>\n",
       "    </tr>\n",
       "    <tr>\n",
       "      <th>49818</th>\n",
       "      <td>24.655596</td>\n",
       "    </tr>\n",
       "    <tr>\n",
       "      <th>113535</th>\n",
       "      <td>28.055361</td>\n",
       "    </tr>\n",
       "    <tr>\n",
       "      <th>320003</th>\n",
       "      <td>11.567489</td>\n",
       "    </tr>\n",
       "    <tr>\n",
       "      <th>13055</th>\n",
       "      <td>28.613770</td>\n",
       "    </tr>\n",
       "  </tbody>\n",
       "</table>\n",
       "<p>22731 rows × 1 columns</p>\n",
       "</div>"
      ],
      "text/plain": [
       "        AIR_TEMPERATURE\n",
       "159643        25.546644\n",
       "172286        29.761812\n",
       "84933         18.504641\n",
       "362844        17.253052\n",
       "216322        20.468185\n",
       "...                 ...\n",
       "136398        27.919235\n",
       "49818         24.655596\n",
       "113535        28.055361\n",
       "320003        11.567489\n",
       "13055         28.613770\n",
       "\n",
       "[22731 rows x 1 columns]"
      ]
     },
     "execution_count": 36,
     "metadata": {},
     "output_type": "execute_result"
    }
   ],
   "source": [
    "air_bn_prediction = pd.DataFrame(data=air_pred,index=air_index,columns=['AIR_TEMPERATURE'])\n",
    "air_bn_prediction"
   ]
  },
  {
   "cell_type": "markdown",
   "id": "c1bc5a7b",
   "metadata": {},
   "source": [
    "### 모델 저장\n",
    "https://velog.io/@yuns_u/%EB%A8%B8%EC%8B%A0%EB%9F%AC%EB%8B%9D-%EB%AA%A8%EB%8D%B8-%EC%A0%80%EC%9E%A5%ED%95%98%EA%B8%B0%ED%99%95%EC%9E%A5%EC%9E%90-%EC%B6%94%EA%B0%80-%EA%B3%B5%EB%B6%80-%ED%95%84%EC%9A%94"
   ]
  },
  {
   "cell_type": "code",
   "execution_count": 37,
   "id": "8221a926",
   "metadata": {
    "ExecuteTime": {
     "end_time": "2023-10-23T09:01:22.875914Z",
     "start_time": "2023-10-23T09:01:22.862687Z"
    }
   },
   "outputs": [],
   "source": [
    "import joblib"
   ]
  },
  {
   "cell_type": "code",
   "execution_count": 38,
   "id": "906c4870",
   "metadata": {
    "ExecuteTime": {
     "end_time": "2023-10-23T09:01:23.002304Z",
     "start_time": "2023-10-23T09:01:22.877912Z"
    }
   },
   "outputs": [
    {
     "data": {
      "text/plain": [
       "['../model/air_model.pkl']"
      ]
     },
     "execution_count": 38,
     "metadata": {},
     "output_type": "execute_result"
    }
   ],
   "source": [
    "joblib.dump(wind_model, '../model/wind_model.pkl')\n",
    "joblib.dump(gpu_air_model, '../model/air_model.pkl')"
   ]
  },
  {
   "cell_type": "code",
   "execution_count": null,
   "id": "124e1420",
   "metadata": {},
   "outputs": [],
   "source": []
  },
  {
   "cell_type": "code",
   "execution_count": null,
   "id": "ec1ed65c",
   "metadata": {},
   "outputs": [],
   "source": []
  },
  {
   "cell_type": "code",
   "execution_count": null,
   "id": "a7dbc78f",
   "metadata": {},
   "outputs": [],
   "source": []
  },
  {
   "cell_type": "code",
   "execution_count": null,
   "id": "308482b6",
   "metadata": {},
   "outputs": [],
   "source": []
  },
  {
   "cell_type": "code",
   "execution_count": null,
   "id": "da0e63af",
   "metadata": {},
   "outputs": [],
   "source": []
  },
  {
   "cell_type": "code",
   "execution_count": null,
   "id": "0eed933d",
   "metadata": {},
   "outputs": [],
   "source": []
  },
  {
   "cell_type": "code",
   "execution_count": null,
   "id": "ac75485c",
   "metadata": {},
   "outputs": [],
   "source": []
  }
 ],
 "metadata": {
  "kernelspec": {
   "display_name": "Python 3 (ipykernel)",
   "language": "python",
   "name": "python3"
  },
  "language_info": {
   "codemirror_mode": {
    "name": "ipython",
    "version": 3
   },
   "file_extension": ".py",
   "mimetype": "text/x-python",
   "name": "python",
   "nbconvert_exporter": "python",
   "pygments_lexer": "ipython3",
   "version": "3.9.18"
  },
  "toc": {
   "base_numbering": 1,
   "nav_menu": {},
   "number_sections": false,
   "sideBar": true,
   "skip_h1_title": false,
   "title_cell": "Table of Contents",
   "title_sidebar": "Contents",
   "toc_cell": false,
   "toc_position": {},
   "toc_section_display": true,
   "toc_window_display": false
  }
 },
 "nbformat": 4,
 "nbformat_minor": 5
}
