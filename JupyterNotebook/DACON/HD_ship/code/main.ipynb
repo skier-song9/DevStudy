{
 "cells": [
  {
   "cell_type": "code",
   "execution_count": 1,
   "id": "149ecb46",
   "metadata": {
    "ExecuteTime": {
     "end_time": "2023-10-21T17:09:07.120255Z",
     "start_time": "2023-10-21T17:09:06.343465Z"
    }
   },
   "outputs": [],
   "source": [
    "import matplotlib.pyplot as plt\n",
    "import pandas as pd\n",
    "import numpy as np\n",
    "\n",
    "# zip 파일을 위한 모듈\n",
    "import os\n",
    "import io\n",
    "import zipfile\n",
    "from io import BytesIO\n",
    "from zipfile import ZipFile"
   ]
  },
  {
   "cell_type": "code",
   "execution_count": 2,
   "id": "d7339fdd",
   "metadata": {
    "ExecuteTime": {
     "end_time": "2023-10-21T17:09:10.729076Z",
     "start_time": "2023-10-21T17:09:09.100213Z"
    }
   },
   "outputs": [],
   "source": [
    "# 데이터 로드\n",
    "# 특정 파일만 압축풀기\n",
    "with ZipFile('../data/open.zip','r') as zipObj:\n",
    "    list_filenames = zipObj.namelist()\n",
    "    for filename in list_filenames:\n",
    "        if filename.endswith('.csv'):\n",
    "            zipRead = zipObj.read(filename)\n",
    "            globals()[f'{filename[:-4]}'] = pd.read_csv(BytesIO(zipRead))\n",
    "# train.csv >> train , test.csv >> test"
   ]
  },
  {
   "cell_type": "markdown",
   "id": "d70433f5",
   "metadata": {},
   "source": [
    "<hr/>"
   ]
  },
  {
   "cell_type": "code",
   "execution_count": 13,
   "id": "c9e2fac1",
   "metadata": {
    "ExecuteTime": {
     "end_time": "2023-10-20T10:37:59.201808Z",
     "start_time": "2023-10-20T10:37:58.503602Z"
    }
   },
   "outputs": [],
   "source": [
    "# 날짜 데이터 전처리\n",
    "# datetime 컬럼 처리\n",
    "train['ATA'] = pd.to_datetime(train['ATA'])\n",
    "test['ATA'] = pd.to_datetime(test['ATA'])\n",
    "\n",
    "# datetime을 여러 파생 변수로 변환\n",
    "for df in [train, test]:\n",
    "    df['year'] = df['ATA'].dt.year\n",
    "    df['month'] = df['ATA'].dt.month\n",
    "    df['day'] = df['ATA'].dt.day\n",
    "    df['hour'] = df['ATA'].dt.hour\n",
    "\n",
    "# datetime 컬럼 제거\n",
    "train.drop(columns='ATA', inplace=True)\n",
    "test.drop(columns='ATA', inplace=True)\n",
    "\n",
    "# ATA_LT 컬럼도 불필요\n",
    "train.drop(columns='ATA_LT', inplace=True)\n",
    "test.drop(columns='ATA_LT', inplace=True)"
   ]
  },
  {
   "cell_type": "code",
   "execution_count": 5,
   "id": "a82197cb",
   "metadata": {
    "ExecuteTime": {
     "end_time": "2023-10-20T10:33:16.042447Z",
     "start_time": "2023-10-20T10:33:15.954605Z"
    }
   },
   "outputs": [
    {
     "data": {
      "text/plain": [
       "SAMPLE_ID                  0\n",
       "ARI_CO                     0\n",
       "ARI_PO                     0\n",
       "SHIP_TYPE_CATEGORY         0\n",
       "DIST                       0\n",
       "ID                         0\n",
       "BREADTH                    1\n",
       "BUILT                      0\n",
       "DEADWEIGHT                 0\n",
       "DEPTH                      1\n",
       "DRAUGHT                    1\n",
       "GT                         0\n",
       "LENGTH                     1\n",
       "SHIPMANAGER                0\n",
       "FLAG                       0\n",
       "U_WIND                163688\n",
       "V_WIND                163688\n",
       "AIR_TEMPERATURE       164630\n",
       "BN                    163688\n",
       "PORT_SIZE                  0\n",
       "CI_HOUR                    0\n",
       "year                       0\n",
       "month                      0\n",
       "day                        0\n",
       "hour                       0\n",
       "dtype: int64"
      ]
     },
     "execution_count": 5,
     "metadata": {},
     "output_type": "execute_result"
    }
   ],
   "source": [
    "# 결측치 처리\n",
    "train.isnull().sum()"
   ]
  },
  {
   "cell_type": "code",
   "execution_count": 6,
   "id": "f3302b80",
   "metadata": {
    "ExecuteTime": {
     "end_time": "2023-10-20T10:33:18.498986Z",
     "start_time": "2023-10-20T10:33:18.480151Z"
    }
   },
   "outputs": [
    {
     "data": {
      "text/plain": [
       "SAMPLE_ID             0\n",
       "ARI_CO                0\n",
       "ARI_PO                0\n",
       "SHIP_TYPE_CATEGORY    0\n",
       "DIST                  0\n",
       "ID                    0\n",
       "BREADTH               1\n",
       "BUILT                 0\n",
       "DEADWEIGHT            0\n",
       "DEPTH                 1\n",
       "DRAUGHT               1\n",
       "GT                    0\n",
       "LENGTH                1\n",
       "SHIPMANAGER           0\n",
       "FLAG                  0\n",
       "U_WIND                0\n",
       "V_WIND                0\n",
       "AIR_TEMPERATURE       0\n",
       "BN                    0\n",
       "PORT_SIZE             0\n",
       "CI_HOUR               0\n",
       "year                  0\n",
       "month                 0\n",
       "day                   0\n",
       "hour                  0\n",
       "dtype: int64"
      ]
     },
     "execution_count": 6,
     "metadata": {},
     "output_type": "execute_result"
    }
   ],
   "source": [
    "train[train['BREADTH'].isnull()].isnull().sum()\n",
    "# 'BREADTH' 가 nan인 행이 1개 있고, 그 행은 depth, draught, length가 모두 nan이다."
   ]
  },
  {
   "cell_type": "code",
   "execution_count": 7,
   "id": "25199d58",
   "metadata": {
    "ExecuteTime": {
     "end_time": "2023-10-20T10:33:22.844025Z",
     "start_time": "2023-10-20T10:33:22.806733Z"
    }
   },
   "outputs": [],
   "source": [
    "# 같은 종류의 SHIP_TYPE으로 결측치 처리\n",
    "Cargo_ships=train[train['SHIP_TYPE_CATEGORY']==train[train['BREADTH'].isnull()]['SHIP_TYPE_CATEGORY'].iloc[0]]"
   ]
  },
  {
   "cell_type": "code",
   "execution_count": 8,
   "id": "7cbb14ce",
   "metadata": {
    "ExecuteTime": {
     "end_time": "2023-10-20T10:33:26.138247Z",
     "start_time": "2023-10-20T10:33:26.113331Z"
    }
   },
   "outputs": [],
   "source": [
    "# 결측치 채우기\n",
    "idx=train[train['BREADTH'].isnull()].index[0]\n",
    "train.loc[idx,['BREADTH','DEPTH','DRAUGHT','LENGTH']] = Cargo_ships[['BREADTH','DEPTH','DRAUGHT','LENGTH']].mean()"
   ]
  },
  {
   "cell_type": "code",
   "execution_count": 9,
   "id": "c411c98c",
   "metadata": {
    "ExecuteTime": {
     "end_time": "2023-10-20T10:33:28.533612Z",
     "start_time": "2023-10-20T10:33:28.520197Z"
    }
   },
   "outputs": [
    {
     "data": {
      "text/plain": [
       "SAMPLE_ID             TRAIN_356484\n",
       "ARI_CO                          TW\n",
       "ARI_PO                        JWI3\n",
       "SHIP_TYPE_CATEGORY           Cargo\n",
       "DIST                           0.0\n",
       "ID                         A457875\n",
       "BREADTH                  17.286295\n",
       "BUILT                           28\n",
       "DEADWEIGHT                    1500\n",
       "DEPTH                    10.422017\n",
       "DRAUGHT                   6.659886\n",
       "GT                             500\n",
       "LENGTH                  107.555142\n",
       "SHIPMANAGER                 GVPJ58\n",
       "FLAG                         Japan\n",
       "U_WIND                       -0.34\n",
       "V_WIND                       -1.91\n",
       "AIR_TEMPERATURE               25.3\n",
       "BN                        1.752807\n",
       "PORT_SIZE                  0.00099\n",
       "CI_HOUR                        0.0\n",
       "year                          2022\n",
       "month                           11\n",
       "day                              8\n",
       "hour                             4\n",
       "Name: 356484, dtype: object"
      ]
     },
     "execution_count": 9,
     "metadata": {},
     "output_type": "execute_result"
    }
   ],
   "source": [
    "train.loc[idx] #완료"
   ]
  },
  {
   "cell_type": "markdown",
   "id": "d662480a",
   "metadata": {},
   "source": [
    "<hr/>"
   ]
  },
  {
   "cell_type": "code",
   "execution_count": 10,
   "id": "0b4b108b",
   "metadata": {
    "ExecuteTime": {
     "end_time": "2023-10-20T10:33:55.449799Z",
     "start_time": "2023-10-20T10:33:55.361446Z"
    },
    "scrolled": false
   },
   "outputs": [
    {
     "data": {
      "text/plain": [
       "SAMPLE_ID                  0\n",
       "ARI_CO                     0\n",
       "ARI_PO                     0\n",
       "SHIP_TYPE_CATEGORY         0\n",
       "DIST                       0\n",
       "ID                         0\n",
       "BREADTH                    0\n",
       "BUILT                      0\n",
       "DEADWEIGHT                 0\n",
       "DEPTH                      0\n",
       "DRAUGHT                    0\n",
       "GT                         0\n",
       "LENGTH                     0\n",
       "SHIPMANAGER                0\n",
       "FLAG                       0\n",
       "U_WIND                163688\n",
       "V_WIND                163688\n",
       "AIR_TEMPERATURE       164630\n",
       "BN                    163688\n",
       "PORT_SIZE                  0\n",
       "CI_HOUR                    0\n",
       "year                       0\n",
       "month                      0\n",
       "day                        0\n",
       "hour                       0\n",
       "dtype: int64"
      ]
     },
     "execution_count": 10,
     "metadata": {},
     "output_type": "execute_result"
    }
   ],
   "source": [
    "train.isnull().sum()\n",
    "# ARI와 ATA가 같거나 비슷한 데이터의 평균으로 대체"
   ]
  },
  {
   "cell_type": "code",
   "execution_count": null,
   "id": "fbe37d0d",
   "metadata": {},
   "outputs": [],
   "source": []
  },
  {
   "cell_type": "code",
   "execution_count": null,
   "id": "124253cb",
   "metadata": {
    "ExecuteTime": {
     "end_time": "2023-10-20T06:20:51.062446Z",
     "start_time": "2023-10-20T06:20:50.990802Z"
    },
    "scrolled": false
   },
   "outputs": [],
   "source": []
  },
  {
   "cell_type": "code",
   "execution_count": null,
   "id": "8c0245ab",
   "metadata": {},
   "outputs": [],
   "source": []
  },
  {
   "cell_type": "code",
   "execution_count": null,
   "id": "f346a1ba",
   "metadata": {},
   "outputs": [],
   "source": []
  },
  {
   "cell_type": "code",
   "execution_count": null,
   "id": "6fae5811",
   "metadata": {},
   "outputs": [],
   "source": []
  },
  {
   "cell_type": "code",
   "execution_count": null,
   "id": "61f2c4be",
   "metadata": {},
   "outputs": [],
   "source": []
  },
  {
   "cell_type": "code",
   "execution_count": null,
   "id": "ded2de8b",
   "metadata": {},
   "outputs": [],
   "source": []
  },
  {
   "cell_type": "code",
   "execution_count": null,
   "id": "a70bdb91",
   "metadata": {},
   "outputs": [],
   "source": []
  },
  {
   "cell_type": "code",
   "execution_count": null,
   "id": "aa429741",
   "metadata": {},
   "outputs": [],
   "source": []
  },
  {
   "cell_type": "code",
   "execution_count": null,
   "id": "621870ef",
   "metadata": {},
   "outputs": [],
   "source": []
  },
  {
   "cell_type": "code",
   "execution_count": null,
   "id": "b2075537",
   "metadata": {},
   "outputs": [],
   "source": []
  },
  {
   "cell_type": "code",
   "execution_count": null,
   "id": "a85717ad",
   "metadata": {},
   "outputs": [],
   "source": []
  }
 ],
 "metadata": {
  "kernelspec": {
   "display_name": "Python 3 (ipykernel)",
   "language": "python",
   "name": "python3"
  },
  "language_info": {
   "codemirror_mode": {
    "name": "ipython",
    "version": 3
   },
   "file_extension": ".py",
   "mimetype": "text/x-python",
   "name": "python",
   "nbconvert_exporter": "python",
   "pygments_lexer": "ipython3",
   "version": "3.9.17"
  }
 },
 "nbformat": 4,
 "nbformat_minor": 5
}
