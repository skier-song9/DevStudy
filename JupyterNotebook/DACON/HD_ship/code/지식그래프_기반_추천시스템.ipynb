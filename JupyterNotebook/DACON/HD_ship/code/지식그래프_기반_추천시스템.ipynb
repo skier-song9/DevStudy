{
 "cells": [
  {
   "cell_type": "markdown",
   "id": "820e7243-c1e3-4cea-aea9-657762f929aa",
   "metadata": {},
   "source": [
    "KG 1 : https://zzaebok.github.io/knowledge_graph/recommender_system/KG_recommend/\n",
    "<br/><br/>\n",
    "기존의 Collaborative filtering, Content-Based filtering 기반이 추천시스템은 각 entity가 가진 items, 그리고 entity 간의 관계를 동시에 고려하는 것이 아니라 따로따로 고려한다는 단점이 있다.(cf-based는 entity 간 관계에만 집중하고, content-based는 entity가 가진 items에만 집중한다)\n",
    "<br/><br/>\n",
    "이를 해결하기 위한 것이 지식그래프 : Knowledge Graph<br/>\n",
    "지식 그래프에서는 entity와 entity의 items(=attributes)가 'node'로 구성된다. 그리고 entity와 items 간의 관계를 'edge'로 나타낸다. entity와 entity 간에도 edge로 연결된다.<br/>\n",
    "( e.g. 김치찌개는 맵다 >> node(김치찌개) - edge(has_taste) - node(매운 맛) )<br/>\n",
    "<br/>\n",
    "KG 구현 방법은 다양한다. \n",
    "1. Embedding based method <br/>\n",
    "KG는 head(entity, node)-relation(edge)-tail(entity, node)와 같이 \"triple\"로 표현된다.<br/>\n",
    "이는 곧, head벡터와 tail벡터가 벡터공간 상에 존재하고, relation이 이 둘 사이의 거리를 나타낸다고 할 수 있다. >> 따라서 모델에 head와 tail을 embedding하여 입력하면 relation을 계산한다.<br/>\n",
    "각각의 items는 entity에 대해 comprehensive representation (=hidden vector) 를 갖게 된다. <br/>\n",
    "예측 시, 입력값들에 대한 hidden vector를 계산하고 이를 통해 score function(attention function과 같은 의미)을 계산하여 입력값 간의 유사성을 추론한다.\n",
    "\n",
    "2. Path based method<br/>\n",
    "직관적으로 KG그래프를 경로화하여 나타낸 것인데, 딥러닝과 결합할 수 있다.<br/>\n",
    "path는 순서를 가진 일련의 과정이므로 이는 sequence 데이터로 볼 수 있다. >> sequence 데이터를 분석하는 딥러닝 모델들을 그대로 사용 가능하다. <br/>\n",
    "LSTM을 예로 들면, LSTM의 인풋으로 path node를 입력하면 된다.\n",
    "\n",
    "<br/>\n",
    "<span style='color:green'>추천 논문 : KGCN 모델 ( https://arxiv.org/abs/1904.12575 )</span>"
   ]
  },
  {
   "cell_type": "markdown",
   "id": "415ccb67-1f0c-432d-9af6-07db8cdf9fa4",
   "metadata": {},
   "source": [
    "KG 2 : https://zzaebok.github.io/machine_learning/knowledge_graph/kge/"
   ]
  },
  {
   "cell_type": "code",
   "execution_count": null,
   "id": "c40c9142-8d15-4310-8c2b-727090c3eda0",
   "metadata": {},
   "outputs": [],
   "source": []
  },
  {
   "cell_type": "code",
   "execution_count": null,
   "id": "9ac0b4eb-5986-4edf-8ba6-e01a67bb05f4",
   "metadata": {},
   "outputs": [],
   "source": []
  },
  {
   "cell_type": "code",
   "execution_count": null,
   "id": "d6179736-2046-42b6-9f34-3fcf7bae9e63",
   "metadata": {},
   "outputs": [],
   "source": []
  },
  {
   "cell_type": "code",
   "execution_count": null,
   "id": "a867db1b-650f-4648-9a80-770a9847e50b",
   "metadata": {},
   "outputs": [],
   "source": []
  },
  {
   "cell_type": "code",
   "execution_count": null,
   "id": "55c07fa8-0ec3-457f-b9a5-691edc5b154b",
   "metadata": {},
   "outputs": [],
   "source": []
  },
  {
   "cell_type": "code",
   "execution_count": null,
   "id": "522330ee-2567-4230-b4b6-c4377c2787e3",
   "metadata": {},
   "outputs": [],
   "source": []
  },
  {
   "cell_type": "code",
   "execution_count": null,
   "id": "2bd20073-128c-439a-86e0-c6e4c78dc31e",
   "metadata": {},
   "outputs": [],
   "source": []
  },
  {
   "cell_type": "code",
   "execution_count": null,
   "id": "87777672-3c98-40c1-8731-0ca8349318f7",
   "metadata": {},
   "outputs": [],
   "source": []
  },
  {
   "cell_type": "code",
   "execution_count": null,
   "id": "12fcee8c-70a5-4105-a710-92d3a863bbf4",
   "metadata": {},
   "outputs": [],
   "source": []
  },
  {
   "cell_type": "code",
   "execution_count": null,
   "id": "d23e90db-aed2-4e1b-8c6c-9e6d6fefe7cd",
   "metadata": {},
   "outputs": [],
   "source": []
  }
 ],
 "metadata": {
  "kernelspec": {
   "display_name": "Python 3 (ipykernel)",
   "language": "python",
   "name": "python3"
  },
  "language_info": {
   "codemirror_mode": {
    "name": "ipython",
    "version": 3
   },
   "file_extension": ".py",
   "mimetype": "text/x-python",
   "name": "python",
   "nbconvert_exporter": "python",
   "pygments_lexer": "ipython3",
   "version": "3.9.18"
  }
 },
 "nbformat": 4,
 "nbformat_minor": 5
}
