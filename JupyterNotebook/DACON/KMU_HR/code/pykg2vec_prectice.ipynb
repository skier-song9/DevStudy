{
 "cells": [
  {
   "cell_type": "markdown",
   "id": "5e46900d",
   "metadata": {},
   "source": [
    "### pykg2vec 임베딩\n",
    "https://github.com/Sujit-O/pykg2vec : 다운 및 설명 깃헙\n",
    "https://pykg2vec.readthedocs.io/en/latest/ : Documentation"
   ]
  },
  {
   "cell_type": "markdown",
   "id": "21b63a16",
   "metadata": {},
   "source": [
    "#### pykg2vec Example code\n",
    "https://pykg2vec.readthedocs.io/en/latest/auto_examples/kgpipeline.html"
   ]
  },
  {
   "cell_type": "code",
   "execution_count": 3,
   "id": "d9ff604e",
   "metadata": {
    "ExecuteTime": {
     "end_time": "2023-10-19T11:26:30.597754Z",
     "start_time": "2023-10-19T11:26:30.592758Z"
    }
   },
   "outputs": [],
   "source": [
    "# GPU 변경\n",
    "import os\n",
    "\n",
    "os.environ[\"CUDA_DEVICE_ORDER\"]=\"PCI_BUS_ID\"   \n",
    "os.environ[\"CUDA_VISIBLE_DEVICES\"]='1'"
   ]
  },
  {
   "cell_type": "code",
   "execution_count": 15,
   "id": "c2e3d3e6",
   "metadata": {
    "ExecuteTime": {
     "end_time": "2023-10-19T11:39:03.196305Z",
     "start_time": "2023-10-19T11:39:03.178607Z"
    }
   },
   "outputs": [],
   "source": [
    "import pykg2vec\n",
    "from pykg2vec.common import Importer, KGEArgParser\n",
    "from pykg2vec.data.kgcontroller import KnowledgeGraph\n",
    "from pykg2vec.utils.bayesian_optimizer import BaysOptimizer\n",
    "from pykg2vec.utils.trainer import Trainer"
   ]
  },
  {
   "cell_type": "code",
   "execution_count": 19,
   "id": "0f31ed44",
   "metadata": {
    "ExecuteTime": {
     "end_time": "2023-10-19T11:41:11.907605Z",
     "start_time": "2023-10-19T11:41:11.889261Z"
    }
   },
   "outputs": [],
   "source": [
    "\n",
    "def main():\n",
    "    model_name = \"transe\"\n",
    "    dataset_name = \"Freebase15k\"\n",
    "    # dataset_path = \"path_to_dataset\"\n",
    "\n",
    "    # 1. Tune the hyper-parameters for the selected model and dataset.\n",
    "    # p.s. this is using training and validation set.\n",
    "    args = KGEArgParser().get_args(['-mn', model_name, '-ds', dataset_name])\n",
    "\n",
    "    # initializing bayesian optimizer and prepare data.\n",
    "    bays_opt = BaysOptimizer(args=args)\n",
    "\n",
    "    # perform the golden hyperparameter tuning.\n",
    "    bays_opt.optimize()\n",
    "    best = bays_opt.return_best()\n",
    "\n",
    "    # 2. Evaluate final model using the found best hyperparameters on testing set.\n",
    "    args = KGEArgParser().get_args(['-mn', model_name, '-ds', dataset_name])\n",
    "\n",
    "    # Preparing data and cache the data for later usage\n",
    "    knowledge_graph = KnowledgeGraph(dataset=args.dataset_name)\n",
    "    knowledge_graph.prepare_data()\n",
    "\n",
    "    # Extracting the corresponding model config and definition from Importer().\n",
    "    config_def, model_def = Importer().import_model_config(args.model_name.lower())\n",
    "    config = config_def(args)\n",
    "\n",
    "    # Update the config params with the golden hyperparameter\n",
    "    for k, v in best.items():\n",
    "        config.__dict__[k] = v\n",
    "    model = model_def(**config.__dict__)\n",
    "\n",
    "    # Create, Compile and Train the model.\n",
    "    trainer = Trainer(model, config)\n",
    "    trainer.build_model()\n",
    "    trainer.train_model()\n",
    "\n",
    "\n",
    "# if __name__ == \"__main__\":\n",
    "#     main()"
   ]
  },
  {
   "cell_type": "code",
   "execution_count": 20,
   "id": "fc386bb9",
   "metadata": {
    "ExecuteTime": {
     "end_time": "2023-10-19T11:41:22.345420Z",
     "start_time": "2023-10-19T11:41:22.244725Z"
    }
   },
   "outputs": [
    {
     "ename": "FileNotFoundError",
     "evalue": "[Errno 2] No such file or directory: 'D:\\\\SKH\\\\DevStudy\\\\JupyterNotebook\\\\DACON\\\\KMU_HR\\\\dataset\\\\FB15k\\\\FB15k\\\\freebase_mtr100_mte100-train.txt'",
     "output_type": "error",
     "traceback": [
      "\u001b[1;31m---------------------------------------------------------------------------\u001b[0m",
      "\u001b[1;31mFileNotFoundError\u001b[0m                         Traceback (most recent call last)",
      "Cell \u001b[1;32mIn[20], line 1\u001b[0m\n\u001b[1;32m----> 1\u001b[0m \u001b[43mmain\u001b[49m\u001b[43m(\u001b[49m\u001b[43m)\u001b[49m\n",
      "Cell \u001b[1;32mIn[19], line 11\u001b[0m, in \u001b[0;36mmain\u001b[1;34m()\u001b[0m\n\u001b[0;32m      8\u001b[0m args \u001b[38;5;241m=\u001b[39m KGEArgParser()\u001b[38;5;241m.\u001b[39mget_args([\u001b[38;5;124m'\u001b[39m\u001b[38;5;124m-mn\u001b[39m\u001b[38;5;124m'\u001b[39m, model_name, \u001b[38;5;124m'\u001b[39m\u001b[38;5;124m-ds\u001b[39m\u001b[38;5;124m'\u001b[39m, dataset_name])\n\u001b[0;32m     10\u001b[0m \u001b[38;5;66;03m# initializing bayesian optimizer and prepare data.\u001b[39;00m\n\u001b[1;32m---> 11\u001b[0m bays_opt \u001b[38;5;241m=\u001b[39m \u001b[43mBaysOptimizer\u001b[49m\u001b[43m(\u001b[49m\u001b[43margs\u001b[49m\u001b[38;5;241;43m=\u001b[39;49m\u001b[43margs\u001b[49m\u001b[43m)\u001b[49m\n\u001b[0;32m     13\u001b[0m \u001b[38;5;66;03m# perform the golden hyperparameter tuning.\u001b[39;00m\n\u001b[0;32m     14\u001b[0m bays_opt\u001b[38;5;241m.\u001b[39moptimize()\n",
      "File \u001b[1;32m~\\anaconda3\\envs\\Python39_DA\\lib\\site-packages\\pykg2vec\\utils\\bayesian_optimizer.py:43\u001b[0m, in \u001b[0;36mBaysOptimizer.__init__\u001b[1;34m(self, args)\u001b[0m\n\u001b[0;32m     40\u001b[0m     \u001b[38;5;28;01mraise\u001b[39;00m \u001b[38;5;167;01mException\u001b[39;00m(\u001b[38;5;124m\"\u001b[39m\u001b[38;5;124mModel \u001b[39m\u001b[38;5;132;01m%s\u001b[39;00m\u001b[38;5;124m has not been supported in tuning hyperparameters!\u001b[39m\u001b[38;5;124m\"\u001b[39m \u001b[38;5;241m%\u001b[39m args\u001b[38;5;241m.\u001b[39mmodel)\n\u001b[0;32m     42\u001b[0m \u001b[38;5;28mself\u001b[39m\u001b[38;5;241m.\u001b[39mmodel_name \u001b[38;5;241m=\u001b[39m args\u001b[38;5;241m.\u001b[39mmodel_name\n\u001b[1;32m---> 43\u001b[0m \u001b[38;5;28mself\u001b[39m\u001b[38;5;241m.\u001b[39mknowledge_graph \u001b[38;5;241m=\u001b[39m \u001b[43mKnowledgeGraph\u001b[49m\u001b[43m(\u001b[49m\u001b[43mdataset\u001b[49m\u001b[38;5;241;43m=\u001b[39;49m\u001b[43margs\u001b[49m\u001b[38;5;241;43m.\u001b[39;49m\u001b[43mdataset_name\u001b[49m\u001b[43m,\u001b[49m\u001b[43m \u001b[49m\u001b[43mcustom_dataset_path\u001b[49m\u001b[38;5;241;43m=\u001b[39;49m\u001b[43margs\u001b[49m\u001b[38;5;241;43m.\u001b[39;49m\u001b[43mdataset_path\u001b[49m\u001b[43m)\u001b[49m\n\u001b[0;32m     44\u001b[0m \u001b[38;5;28mself\u001b[39m\u001b[38;5;241m.\u001b[39mkge_args \u001b[38;5;241m=\u001b[39m args\n\u001b[0;32m     45\u001b[0m \u001b[38;5;28mself\u001b[39m\u001b[38;5;241m.\u001b[39mmax_evals \u001b[38;5;241m=\u001b[39m args\u001b[38;5;241m.\u001b[39mmax_number_trials \u001b[38;5;28;01mif\u001b[39;00m \u001b[38;5;129;01mnot\u001b[39;00m args\u001b[38;5;241m.\u001b[39mdebug \u001b[38;5;28;01melse\u001b[39;00m \u001b[38;5;241m3\u001b[39m\n",
      "File \u001b[1;32m~\\anaconda3\\envs\\Python39_DA\\lib\\site-packages\\pykg2vec\\data\\kgcontroller.py:190\u001b[0m, in \u001b[0;36mKnowledgeGraph.__init__\u001b[1;34m(self, dataset, custom_dataset_path)\u001b[0m\n\u001b[0;32m    188\u001b[0m \u001b[38;5;28;01melse\u001b[39;00m:\n\u001b[0;32m    189\u001b[0m     \u001b[38;5;28mself\u001b[39m\u001b[38;5;241m.\u001b[39mkg_meta \u001b[38;5;241m=\u001b[39m KGMetaData()\n\u001b[1;32m--> 190\u001b[0m     \u001b[38;5;28;43mself\u001b[39;49m\u001b[38;5;241;43m.\u001b[39;49m\u001b[43mprepare_data\u001b[49m\u001b[43m(\u001b[49m\u001b[43m)\u001b[49m\n",
      "File \u001b[1;32m~\\anaconda3\\envs\\Python39_DA\\lib\\site-packages\\pykg2vec\\data\\kgcontroller.py:204\u001b[0m, in \u001b[0;36mKnowledgeGraph.prepare_data\u001b[1;34m(self)\u001b[0m\n\u001b[0;32m    201\u001b[0m \u001b[38;5;28;01mif\u001b[39;00m \u001b[38;5;28mself\u001b[39m\u001b[38;5;241m.\u001b[39mdataset\u001b[38;5;241m.\u001b[39mis_meta_cache_exists():\n\u001b[0;32m    202\u001b[0m     \u001b[38;5;28;01mreturn\u001b[39;00m\n\u001b[1;32m--> 204\u001b[0m \u001b[38;5;28;43mself\u001b[39;49m\u001b[38;5;241;43m.\u001b[39;49m\u001b[43mread_entities\u001b[49m\u001b[43m(\u001b[49m\u001b[43m)\u001b[49m\n\u001b[0;32m    205\u001b[0m \u001b[38;5;28mself\u001b[39m\u001b[38;5;241m.\u001b[39mread_relations()\n\u001b[0;32m    206\u001b[0m \u001b[38;5;28mself\u001b[39m\u001b[38;5;241m.\u001b[39mread_mappings()\n",
      "File \u001b[1;32m~\\anaconda3\\envs\\Python39_DA\\lib\\site-packages\\pykg2vec\\data\\kgcontroller.py:356\u001b[0m, in \u001b[0;36mKnowledgeGraph.read_entities\u001b[1;34m(self)\u001b[0m\n\u001b[0;32m    353\u001b[0m \u001b[38;5;28;01mif\u001b[39;00m \u001b[38;5;28mlen\u001b[39m(\u001b[38;5;28mself\u001b[39m\u001b[38;5;241m.\u001b[39mentities) \u001b[38;5;241m==\u001b[39m \u001b[38;5;241m0\u001b[39m:\n\u001b[0;32m    354\u001b[0m     entities \u001b[38;5;241m=\u001b[39m \u001b[38;5;28mset\u001b[39m()\n\u001b[1;32m--> 356\u001b[0m     all_triplets \u001b[38;5;241m=\u001b[39m \u001b[38;5;28;43mself\u001b[39;49m\u001b[38;5;241;43m.\u001b[39;49m\u001b[43mread_triplets\u001b[49m\u001b[43m(\u001b[49m\u001b[38;5;124;43m'\u001b[39;49m\u001b[38;5;124;43mtrain\u001b[39;49m\u001b[38;5;124;43m'\u001b[39;49m\u001b[43m)\u001b[49m \u001b[38;5;241m+\u001b[39m \\\n\u001b[0;32m    357\u001b[0m                    \u001b[38;5;28mself\u001b[39m\u001b[38;5;241m.\u001b[39mread_triplets(\u001b[38;5;124m'\u001b[39m\u001b[38;5;124mvalid\u001b[39m\u001b[38;5;124m'\u001b[39m) \u001b[38;5;241m+\u001b[39m \\\n\u001b[0;32m    358\u001b[0m                    \u001b[38;5;28mself\u001b[39m\u001b[38;5;241m.\u001b[39mread_triplets(\u001b[38;5;124m'\u001b[39m\u001b[38;5;124mtest\u001b[39m\u001b[38;5;124m'\u001b[39m)\n\u001b[0;32m    360\u001b[0m     \u001b[38;5;28;01mfor\u001b[39;00m triplet \u001b[38;5;129;01min\u001b[39;00m all_triplets:\n\u001b[0;32m    361\u001b[0m         entities\u001b[38;5;241m.\u001b[39madd(triplet\u001b[38;5;241m.\u001b[39mh)\n",
      "File \u001b[1;32m~\\anaconda3\\envs\\Python39_DA\\lib\\site-packages\\pykg2vec\\data\\kgcontroller.py:344\u001b[0m, in \u001b[0;36mKnowledgeGraph.read_triplets\u001b[1;34m(self, set_type)\u001b[0m\n\u001b[0;32m    341\u001b[0m triplets \u001b[38;5;241m=\u001b[39m \u001b[38;5;28mself\u001b[39m\u001b[38;5;241m.\u001b[39mtriplets[set_type]\n\u001b[0;32m    343\u001b[0m \u001b[38;5;28;01mif\u001b[39;00m \u001b[38;5;28mlen\u001b[39m(triplets) \u001b[38;5;241m==\u001b[39m \u001b[38;5;241m0\u001b[39m:\n\u001b[1;32m--> 344\u001b[0m     \u001b[38;5;28;01mwith\u001b[39;00m \u001b[38;5;28;43mopen\u001b[39;49m\u001b[43m(\u001b[49m\u001b[38;5;28;43mstr\u001b[39;49m\u001b[43m(\u001b[49m\u001b[38;5;28;43mself\u001b[39;49m\u001b[38;5;241;43m.\u001b[39;49m\u001b[43mdataset\u001b[49m\u001b[38;5;241;43m.\u001b[39;49m\u001b[43mdata_paths\u001b[49m\u001b[43m[\u001b[49m\u001b[43mset_type\u001b[49m\u001b[43m]\u001b[49m\u001b[43m)\u001b[49m\u001b[43m,\u001b[49m\u001b[43m \u001b[49m\u001b[38;5;124;43m'\u001b[39;49m\u001b[38;5;124;43mr\u001b[39;49m\u001b[38;5;124;43m'\u001b[39;49m\u001b[43m,\u001b[49m\u001b[43m \u001b[49m\u001b[43mencoding\u001b[49m\u001b[38;5;241;43m=\u001b[39;49m\u001b[38;5;124;43m'\u001b[39;49m\u001b[38;5;124;43mutf-8\u001b[39;49m\u001b[38;5;124;43m'\u001b[39;49m\u001b[43m)\u001b[49m \u001b[38;5;28;01mas\u001b[39;00m file:\n\u001b[0;32m    345\u001b[0m         \u001b[38;5;28;01mfor\u001b[39;00m line \u001b[38;5;129;01min\u001b[39;00m file\u001b[38;5;241m.\u001b[39mreadlines():\n\u001b[0;32m    346\u001b[0m             s, p, o \u001b[38;5;241m=\u001b[39m line\u001b[38;5;241m.\u001b[39msplit(\u001b[38;5;124m'\u001b[39m\u001b[38;5;130;01m\\t\u001b[39;00m\u001b[38;5;124m'\u001b[39m)\n",
      "\u001b[1;31mFileNotFoundError\u001b[0m: [Errno 2] No such file or directory: 'D:\\\\SKH\\\\DevStudy\\\\JupyterNotebook\\\\DACON\\\\KMU_HR\\\\dataset\\\\FB15k\\\\FB15k\\\\freebase_mtr100_mte100-train.txt'"
     ]
    }
   ],
   "source": [
    "main()"
   ]
  },
  {
   "cell_type": "code",
   "execution_count": null,
   "id": "257ca448",
   "metadata": {},
   "outputs": [],
   "source": []
  },
  {
   "cell_type": "code",
   "execution_count": null,
   "id": "c0307f71",
   "metadata": {},
   "outputs": [],
   "source": []
  },
  {
   "cell_type": "code",
   "execution_count": null,
   "id": "0728d250",
   "metadata": {},
   "outputs": [],
   "source": []
  },
  {
   "cell_type": "code",
   "execution_count": null,
   "id": "6e35f067",
   "metadata": {},
   "outputs": [],
   "source": []
  },
  {
   "cell_type": "code",
   "execution_count": null,
   "id": "6bac3b45",
   "metadata": {},
   "outputs": [],
   "source": []
  },
  {
   "cell_type": "code",
   "execution_count": null,
   "id": "5aa5ca32",
   "metadata": {},
   "outputs": [],
   "source": []
  },
  {
   "cell_type": "code",
   "execution_count": null,
   "id": "0c0d8e25",
   "metadata": {},
   "outputs": [],
   "source": []
  },
  {
   "cell_type": "code",
   "execution_count": null,
   "id": "f82c70b5",
   "metadata": {},
   "outputs": [],
   "source": []
  },
  {
   "cell_type": "code",
   "execution_count": null,
   "id": "c46404f4",
   "metadata": {},
   "outputs": [],
   "source": []
  },
  {
   "cell_type": "code",
   "execution_count": null,
   "id": "d06a5a5a",
   "metadata": {},
   "outputs": [],
   "source": []
  }
 ],
 "metadata": {
  "kernelspec": {
   "display_name": "Python 3 (ipykernel)",
   "language": "python",
   "name": "python3"
  },
  "language_info": {
   "codemirror_mode": {
    "name": "ipython",
    "version": 3
   },
   "file_extension": ".py",
   "mimetype": "text/x-python",
   "name": "python",
   "nbconvert_exporter": "python",
   "pygments_lexer": "ipython3",
   "version": "3.9.17"
  }
 },
 "nbformat": 4,
 "nbformat_minor": 5
}
