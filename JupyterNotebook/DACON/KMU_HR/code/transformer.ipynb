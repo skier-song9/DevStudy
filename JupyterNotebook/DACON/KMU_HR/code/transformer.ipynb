{
 "cells": [
  {
   "cell_type": "markdown",
   "id": "752f2c63-121b-4b7d-8b5c-316e4373b5b9",
   "metadata": {},
   "source": [
    "https://zzaebok.github.io/deep_learning/nlp/Bert-for-classification/"
   ]
  },
  {
   "cell_type": "code",
   "execution_count": 4,
   "id": "3bc9772a-c34b-49ec-bfca-b8d19b0948cd",
   "metadata": {},
   "outputs": [],
   "source": [
    "import numpy as np\n",
    "import pandas as pd\n",
    "import torch\n",
    "from torch.utils.data import Dataset, DataLoader\n",
    "from transformers import AutoTokenizer, AutoModelForSequenceClassification\n",
    "from torch.optim import Adam\n",
    "import torch.nn.functional as F"
   ]
  },
  {
   "cell_type": "code",
   "execution_count": 5,
   "id": "8abf3ab8-a545-40eb-9a77-ff694164ad70",
   "metadata": {},
   "outputs": [
    {
     "name": "stdout",
     "output_type": "stream",
     "text": [
      "Cloning into 'nsmc'...\n",
      "remote: Enumerating objects: 14763, done.\u001b[K\n",
      "remote: Counting objects: 100% (14762/14762), done.\u001b[K\n",
      "remote: Compressing objects: 100% (13012/13012), done.\u001b[K\n",
      "remote: Total 14763 (delta 1748), reused 14762 (delta 1748), pack-reused 1\u001b[K\n",
      "Receiving objects: 100% (14763/14763), 56.19 MiB | 14.05 MiB/s, done.\n",
      "Resolving deltas: 100% (1748/1748), done.\n",
      "Updating files: 100% (14737/14737), done.\n"
     ]
    }
   ],
   "source": [
    "# !git clone https://github.com/e9t/nsmc.git"
   ]
  },
  {
   "cell_type": "code",
   "execution_count": 6,
   "id": "ce5f2f35-808d-444b-abc3-3747fbb00c67",
   "metadata": {},
   "outputs": [],
   "source": [
    "train_df = pd.read_csv('./nsmc/ratings_train.txt', sep='\\t')\n",
    "test_df = pd.read_csv('./nsmc/ratings_test.txt', sep='\\t')"
   ]
  },
  {
   "cell_type": "code",
   "execution_count": 7,
   "id": "7068ca75-927c-4eca-a6c5-af3d84d19bac",
   "metadata": {},
   "outputs": [],
   "source": [
    "# 결측값 제거, 시간 절약을 위해 샘플 수 줄이기\n",
    "train_df.dropna(inplace=True)\n",
    "test_df.dropna(inplace=True)\n",
    "\n",
    "train_df = train_df.sample(frac=0.4, random_state=999)\n",
    "test_df = test_df.sample(frac=0.4, random_state=999)"
   ]
  },
  {
   "cell_type": "code",
   "execution_count": 8,
   "id": "3f6ec341-54c5-403a-8f67-6d8286730f5d",
   "metadata": {},
   "outputs": [],
   "source": [
    "# Dataset Class\n",
    "class NsmcDataset(Dataset):\n",
    "    ''' Naver Sentiment Movie Corpus Dataset '''\n",
    "    def __init__(self,df):\n",
    "        self.df = df\n",
    "\n",
    "    def __len__(self):\n",
    "        return len(self.df)\n",
    "\n",
    "    def __getitem__(self, idx):\n",
    "        text = self.df.iloc[idx,1]\n",
    "        label = self.df.iloc[idx,2]\n",
    "        return text, label\n"
   ]
  },
  {
   "cell_type": "code",
   "execution_count": 10,
   "id": "70824333-cdd4-421e-89d3-ddb9719ea0c3",
   "metadata": {},
   "outputs": [],
   "source": [
    "nsmc_train_dataset = NsmcDataset(train_df)\n",
    "train_loader = DataLoader(nsmc_train_dataset, batch_size=4, shuffle=True)"
   ]
  },
  {
   "cell_type": "code",
   "execution_count": null,
   "id": "44cbbf08-bf9b-431d-9874-c546237bd50a",
   "metadata": {},
   "outputs": [],
   "source": []
  },
  {
   "cell_type": "code",
   "execution_count": null,
   "id": "5464525f-f089-433a-91be-58d777d0b3d5",
   "metadata": {},
   "outputs": [],
   "source": []
  },
  {
   "cell_type": "code",
   "execution_count": null,
   "id": "f7d5c27d-f6b8-4a04-81ee-02ce7bcfe0b6",
   "metadata": {},
   "outputs": [],
   "source": []
  },
  {
   "cell_type": "code",
   "execution_count": null,
   "id": "b677db1e-69ef-4c6b-9950-793bf335dbce",
   "metadata": {},
   "outputs": [],
   "source": []
  },
  {
   "cell_type": "code",
   "execution_count": null,
   "id": "54739a04-ce35-4607-bd2a-1b71e6ec760d",
   "metadata": {},
   "outputs": [],
   "source": []
  }
 ],
 "metadata": {
  "kernelspec": {
   "display_name": "Python 3 (ipykernel)",
   "language": "python",
   "name": "python3"
  },
  "language_info": {
   "codemirror_mode": {
    "name": "ipython",
    "version": 3
   },
   "file_extension": ".py",
   "mimetype": "text/x-python",
   "name": "python",
   "nbconvert_exporter": "python",
   "pygments_lexer": "ipython3",
   "version": "3.9.18"
  }
 },
 "nbformat": 4,
 "nbformat_minor": 5
}
