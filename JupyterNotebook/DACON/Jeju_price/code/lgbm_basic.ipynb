{
 "cells": [
  {
   "cell_type": "code",
   "execution_count": 1,
   "id": "5ff7bcbd",
   "metadata": {
    "ExecuteTime": {
     "end_time": "2023-11-03T14:45:13.205697Z",
     "start_time": "2023-11-03T14:45:11.130407Z"
    }
   },
   "outputs": [],
   "source": [
    "import pandas as pd\n",
    "from pandas import Series, DataFrame\n",
    "import numpy as np\n",
    "import category_encoders as ce\n",
    "\n",
    "# Visualization\n",
    "import matplotlib.pylab as plt\n",
    "from matplotlib import font_manager, rc\n",
    "import seaborn as sns\n",
    "%matplotlib inline\n",
    "\n",
    "# Preprocessing & Feature Engineering\n",
    "from sklearn.model_selection import train_test_split\n",
    "from sklearn.preprocessing import MinMaxScaler, LabelEncoder\n",
    "from sklearn.impute import SimpleImputer \n",
    "from sklearn.preprocessing import StandardScaler\n",
    "from sklearn.preprocessing import MinMaxScaler\n",
    "from sklearn.preprocessing import PowerTransformer\n",
    "from sklearn.feature_selection import SelectPercentile\n",
    "\n",
    "# Hyperparameter Optimization\n",
    "from sklearn.model_selection import GridSearchCV\n",
    "from sklearn.model_selection import RandomizedSearchCV\n",
    "\n",
    "# Modeling\n",
    "from sklearn.dummy import DummyClassifier\n",
    "from sklearn.linear_model import LogisticRegression\n",
    "from sklearn.neighbors import KNeighborsClassifier\n",
    "from sklearn.ensemble import RandomForestClassifier\n",
    "from sklearn.neural_network import MLPClassifier\n",
    "from sklearn.tree import DecisionTreeClassifier\n",
    "from sklearn.ensemble import ExtraTreesClassifier\n",
    "from sklearn.ensemble import GradientBoostingClassifier\n",
    "from xgboost import XGBClassifier\n",
    "from lightgbm import LGBMClassifier\n",
    "from sklearn.svm import SVC\n",
    "from sklearn.ensemble import VotingClassifier\n",
    "from sklearn.ensemble import StackingClassifier\n",
    "from sklearn.base import ClassifierMixin\n",
    "\n",
    "# Evaluation\n",
    "from sklearn.metrics import roc_auc_score\n",
    "from sklearn.metrics import accuracy_score\n",
    "from sklearn.model_selection import cross_val_score\n",
    "from sklearn.metrics import log_loss\n",
    "\n",
    "# Utility\n",
    "import os\n",
    "import time\n",
    "import datetime\n",
    "import random\n",
    "import warnings; warnings.filterwarnings(\"ignore\")\n",
    "from IPython.display import Image\n",
    "import pickle\n",
    "from tqdm import tqdm\n",
    "import platform\n",
    "from itertools import combinations\n",
    "from scipy.stats.mstats import gmean\n",
    "\n",
    "# !pip install bayesian-optimization\n",
    "from bayes_opt import BayesianOptimization\n",
    "from num2words import num2words\n",
    "import statsmodels.api as sm\n",
    "import statsmodels.formula.api as smf\n",
    "from statsmodels.stats.outliers_influence import OLSInfluence"
   ]
  },
  {
   "cell_type": "code",
   "execution_count": 2,
   "id": "69cfe188",
   "metadata": {
    "ExecuteTime": {
     "end_time": "2023-11-03T14:45:13.268272Z",
     "start_time": "2023-11-03T14:45:13.207700Z"
    }
   },
   "outputs": [],
   "source": [
    "train = pd.read_csv('../data/train.csv')\n",
    "test = pd.read_csv('../data/test.csv')\n",
    "international_trade = pd.read_csv('../data/international_trade.csv')\n",
    "train.drop(columns = 'ID', inplace = True)\n",
    "test.drop(columns = 'ID', inplace = True)"
   ]
  },
  {
   "cell_type": "code",
   "execution_count": 3,
   "id": "82c648c1",
   "metadata": {
    "ExecuteTime": {
     "end_time": "2023-11-03T14:45:13.284449Z",
     "start_time": "2023-11-03T14:45:13.270781Z"
    }
   },
   "outputs": [
    {
     "data": {
      "text/plain": [
       "Index(['timestamp', 'item', 'corporation', 'location', 'supply', 'price'], dtype='object')"
      ]
     },
     "execution_count": 3,
     "metadata": {},
     "output_type": "execute_result"
    }
   ],
   "source": [
    "train = train.rename(columns={'supply(kg)':'supply','price(원/kg)':'price'})\n",
    "train.columns"
   ]
  },
  {
   "cell_type": "code",
   "execution_count": 4,
   "id": "719a8693",
   "metadata": {
    "ExecuteTime": {
     "end_time": "2023-11-03T14:45:54.317575Z",
     "start_time": "2023-11-03T14:45:13.287873Z"
    }
   },
   "outputs": [],
   "source": [
    "# 시계열 데이터 처리\n",
    "train.timestamp = pd.to_datetime(train.timestamp)\n",
    "test.timestamp = pd.to_datetime(test.timestamp)\n",
    "\n",
    "########### test 데이터 supply 컬럼 추가\n",
    "test['supply'] = np.zeros((len(test),1))\n",
    "def find_lastyear_supply(row):\n",
    "    # date1 : 1년 전 같은 datetime\n",
    "    date1 = pd.to_datetime(f'{row[\"timestamp\"].year-1}-{row[\"timestamp\"].month}-{row[\"timestamp\"].day}').date()\n",
    "    # date2 : 2년 전 같은 datetime\n",
    "    date2 = pd.to_datetime(f'{row[\"timestamp\"].year-2}-{row[\"timestamp\"].month}-{row[\"timestamp\"].day}').date()\n",
    "#     print(date)\n",
    "    # 1,2년 전 같은 날짜 & 유통업체 & 지역 & 품목의 supply 평균값으로 test에 supply컬럼 추가\n",
    "    row['supply'] = train[((train['timestamp'].dt.date==date1)|(train['timestamp'].dt.date==date2))&\n",
    "                            (train['corporation']==row['corporation'])&\n",
    "                            (train['location']==row['location']) &\n",
    "                            (train['item']==row['item'])]['supply'].sum()\n",
    "#     print(row['supply'])\n",
    "    return row\n",
    "test = test.apply(find_lastyear_supply,axis=1)\n",
    "########### test 데이터 supply 컬럼 추가 -END-\n",
    "\n",
    "# year\n",
    "train['year'] = train.timestamp.dt.year\n",
    "test['year'] = test.timestamp.dt.year\n",
    "\n",
    "# month\n",
    "train['month'] = train.timestamp.dt.month\n",
    "test['month'] = test.timestamp.dt.month\n",
    "\n",
    "# day\n",
    "train['day'] = train.timestamp.dt.day\n",
    "test['day'] = test.timestamp.dt.day\n",
    "\n",
    "# week\n",
    "train['week'] = train.timestamp.dt.dayofweek\n",
    "test['week'] = test.timestamp.dt.dayofweek\n",
    "\n",
    "# 주말여부\n",
    "train['weekend'] = train.week.apply(lambda x : 1 if x in [5,6] else 0)\n",
    "test['weekend'] = test.week.apply(lambda x : 1 if x in [5,6] else 0)\n",
    "\n",
    "# date (월-일)\n",
    "train['date'] = train.timestamp.apply(lambda x : int(str(x)[5:7] + str(x)[8:10]))\n",
    "test['date'] = test.timestamp.apply(lambda x : int(str(x)[5:7] + str(x)[8:10]))\n",
    "\n",
    "# year_month\n",
    "train['year_month'] = train.timestamp.apply(lambda x : str(x)[0:7])\n",
    "test['year_month'] = test.timestamp.apply(lambda x : str(x)[0:7])"
   ]
  },
  {
   "cell_type": "code",
   "execution_count": 5,
   "id": "c137fc9d",
   "metadata": {
    "ExecuteTime": {
     "end_time": "2023-11-03T14:45:54.379815Z",
     "start_time": "2023-11-03T14:45:54.319141Z"
    }
   },
   "outputs": [
    {
     "name": "stdout",
     "output_type": "stream",
     "text": [
      "1087    296720.0\n",
      "Name: supply, dtype: float64\n",
      "58690    296720.0\n",
      "Name: supply, dtype: float64\n",
      "59055    0.0\n",
      "Name: supply, dtype: float64\n"
     ]
    }
   ],
   "source": [
    "# test에 supply 잘 들어갔는지 확인\n",
    "print(test[(test['timestamp']=='2023-03-27')&(test['item']=='RD')&(test['corporation']=='F')&(test['location']=='J')]['supply'])\n",
    "print(train[(train['timestamp']=='2021-03-27')&(train['item']=='RD')&(train['corporation']=='F')&(train['location']=='J')]['supply'])\n",
    "print(train[(train['timestamp']=='2022-03-27')&(train['item']=='RD')&(train['corporation']=='F')&(train['location']=='J')]['supply'])"
   ]
  },
  {
   "cell_type": "code",
   "execution_count": 6,
   "id": "71b49f35",
   "metadata": {
    "ExecuteTime": {
     "end_time": "2023-11-03T14:45:54.567376Z",
     "start_time": "2023-11-03T14:45:54.383337Z"
    }
   },
   "outputs": [],
   "source": [
    "# Encoding \n",
    "encoders = {}\n",
    "for col in ['item','corporation']:\n",
    "    encoder = ce.TargetEncoder()\n",
    "    train[col] = encoder.fit_transform(train[col],train['price'])\n",
    "    test[col] = encoder.transform(test[col])\n",
    "    encoders[col] = encoder\n",
    "\n",
    "encoder = LabelEncoder()\n",
    "train['location'] = encoder.fit_transform(train['location'])\n",
    "test['location'] = encoder.transform(test['location'])\n",
    "encoders['location'] = encoder"
   ]
  },
  {
   "cell_type": "code",
   "execution_count": 7,
   "id": "ff39dfb3",
   "metadata": {
    "ExecuteTime": {
     "end_time": "2023-11-03T14:45:54.597894Z",
     "start_time": "2023-11-03T14:45:54.570380Z"
    }
   },
   "outputs": [],
   "source": [
    "# drop unnecessary cols, define features and target\n",
    "train_ = train.drop(columns = ['timestamp', 'year_month'])\n",
    "test_ = test.drop(columns = ['timestamp', 'year_month'])\n",
    "feature = train_.drop(columns=['supply','price']) # 피처에 supply 미포함\n",
    "feature_te = test_.drop(columns=['supply']) # 피처에 supply 미포함\n",
    "# feature = train_.drop(columns=['price']) # 피처에 supply 포함하는 버전\n",
    "# feature_te = test_\n",
    "target = train_.price"
   ]
  },
  {
   "cell_type": "code",
   "execution_count": 8,
   "id": "cfc64565",
   "metadata": {
    "ExecuteTime": {
     "end_time": "2023-11-03T14:45:54.613633Z",
     "start_time": "2023-11-03T14:45:54.599893Z"
    }
   },
   "outputs": [],
   "source": [
    "from sklearn.metrics import make_scorer\n",
    "from sklearn.metrics import mean_squared_error\n",
    "from sklearn.model_selection import cross_val_score\n",
    "import lightgbm as lgb\n",
    "\n",
    "def get_MSE(feature,target):\n",
    "    # MSE를 스코어링 함수로 정의\n",
    "    mse_scorer = make_scorer(mean_squared_error, greater_is_better=False)\n",
    "\n",
    "    # LightGBM 모델 초기화\n",
    "    model = lgb.LGBMRegressor(verbose = -1,force_col_wise = True)\n",
    "    # force_col_wise = 메모리 이슈로 도중에 row-wise 탐색으로 바뀌는 것을 방지\n",
    "\n",
    "    # 교차 검증 수행\n",
    "    cross_val_scores = -cross_val_score(model, feature, target, cv=5, scoring=mse_scorer)\n",
    "    rmse = np.sqrt(cross_val_scores)\n",
    "\n",
    "    # 교차 검증 스코어 출력\n",
    "    print(\"MAE scores for each fold:\", rmse)  # Negative values are used because cross_val_score returns negated scores\n",
    "    print(\"Mean MAE:\", rmse.mean())"
   ]
  },
  {
   "cell_type": "code",
   "execution_count": 9,
   "id": "d9e995d8",
   "metadata": {
    "ExecuteTime": {
     "end_time": "2023-11-03T14:45:55.660404Z",
     "start_time": "2023-11-03T14:45:54.615735Z"
    }
   },
   "outputs": [
    {
     "name": "stdout",
     "output_type": "stream",
     "text": [
      "MAE scores for each fold: [2003.78342955 1082.28280031  381.24791795  601.36285585  943.10923828]\n",
      "Mean MAE: 1002.357248388386\n"
     ]
    }
   ],
   "source": [
    "get_MSE(feature,target)"
   ]
  },
  {
   "cell_type": "code",
   "execution_count": 10,
   "id": "4e23ca63",
   "metadata": {
    "ExecuteTime": {
     "end_time": "2023-11-03T14:45:55.676338Z",
     "start_time": "2023-11-03T14:45:55.664785Z"
    }
   },
   "outputs": [],
   "source": [
    "def lbgm_feature_importance(feature,target):\n",
    "    # LightGBM 모델 초기화\n",
    "    model = lgb.LGBMRegressor(verbose = 0,force_col_wise=True)\n",
    "\n",
    "    # 모델을 학습 , 중요도 계산\n",
    "    model.fit(feature, target)\n",
    "\n",
    "    # 피쳐 중요도 가져오기\n",
    "    feature_importance = model.feature_importances_\n",
    "\n",
    "    # 중요도가 높은 상위 20개 피쳐 인덱스 가져오기\n",
    "    top_20_feature_indices = feature_importance.argsort()[-25:][::-1]\n",
    "\n",
    "    # 상위 20개 피쳐의 중요도 가져오기\n",
    "    top_20_feature_importance = feature_importance[top_20_feature_indices]\n",
    "\n",
    "    # 상위 20개 피쳐의 이름 가져오기\n",
    "    top_20_feature_names = feature.columns[top_20_feature_indices]\n",
    "\n",
    "    # 중요도 시각화\n",
    "    plt.figure(figsize=(10, 6))\n",
    "    plt.barh(top_20_feature_names, top_20_feature_importance)\n",
    "    plt.xlabel('Feature Importance')\n",
    "    plt.title('Top 20 Feature Importance')\n",
    "    plt.show()\n",
    "    \n",
    "    return top_20_feature_importance,top_20_feature_names"
   ]
  },
  {
   "cell_type": "code",
   "execution_count": 11,
   "id": "738b166c",
   "metadata": {
    "ExecuteTime": {
     "end_time": "2023-11-03T14:45:56.190656Z",
     "start_time": "2023-11-03T14:45:55.679340Z"
    }
   },
   "outputs": [
    {
     "data": {
      "image/png": "[encoded data removed]",
      "text/plain": [
       "<Figure size 1000x600 with 1 Axes>"
      ]
     },
     "metadata": {},
     "output_type": "display_data"
    }
   ],
   "source": [
    "top_20_feature_importance,top_20_feature_names = lbgm_feature_importance(feature,target)"
   ]
  },
  {
   "cell_type": "code",
   "execution_count": 12,
   "id": "b20b95d0",
   "metadata": {
    "ExecuteTime": {
     "end_time": "2023-11-03T14:45:56.206596Z",
     "start_time": "2023-11-03T14:45:56.193693Z"
    }
   },
   "outputs": [
    {
     "data": {
      "text/plain": [
       "(array([977, 431, 406, 398, 273, 245, 197,  72,   1]),\n",
       " Index(['date', 'year', 'item', 'corporation', 'week', 'location', 'day',\n",
       "        'month', 'weekend'],\n",
       "       dtype='object'))"
      ]
     },
     "execution_count": 12,
     "metadata": {},
     "output_type": "execute_result"
    }
   ],
   "source": [
    "top_20_feature_importance, top_20_feature_names"
   ]
  },
  {
   "cell_type": "code",
   "execution_count": 13,
   "id": "63b9572f",
   "metadata": {
    "ExecuteTime": {
     "end_time": "2023-11-03T14:45:56.222300Z",
     "start_time": "2023-11-03T14:45:56.209117Z"
    }
   },
   "outputs": [],
   "source": [
    "# 피처 선택\n",
    "# 2가지 버전 준비 \n",
    "# 1. 피처 선택 버전\n",
    "threshold = 150\n",
    "low_importance_features_name = list(top_20_feature_names[np.where(top_20_feature_importance<150)[0]])\n",
    "feature_selected = feature.drop(columns=low_importance_features_name)\n",
    "feature_te_selected = feature_te.drop(columns=low_importance_features_name)\n",
    "# 2. 모든 피처로 학습 >> feature, feature_te 그대로 사용"
   ]
  },
  {
   "cell_type": "code",
   "execution_count": 14,
   "id": "efa41cc2",
   "metadata": {
    "ExecuteTime": {
     "end_time": "2023-11-03T14:45:57.369988Z",
     "start_time": "2023-11-03T14:45:56.224523Z"
    }
   },
   "outputs": [
    {
     "name": "stdout",
     "output_type": "stream",
     "text": [
      "MAE scores for each fold: [1994.73012672 1078.38556416  404.56709362  602.13347647  943.59073386]\n",
      "Mean MAE: 1004.6813989666829\n"
     ]
    }
   ],
   "source": [
    "# 1. 피처 선택 버전 \n",
    "# MSE 확인\n",
    "get_MSE(feature_selected,target)\n",
    "# 모델 학습 (아직 튜닝 미완료)\n",
    "v1_lgbm_model = lgb.LGBMRegressor(force_col_wise=True)\n",
    "v1_lgbm_model.fit(feature_selected,target)\n",
    "v1_pred = v1_lgbm_model.predict(feature_te_selected)"
   ]
  },
  {
   "cell_type": "code",
   "execution_count": 15,
   "id": "5282d70d",
   "metadata": {
    "ExecuteTime": {
     "end_time": "2023-11-03T14:45:58.739051Z",
     "start_time": "2023-11-03T14:45:57.372501Z"
    }
   },
   "outputs": [
    {
     "name": "stdout",
     "output_type": "stream",
     "text": [
      "MAE scores for each fold: [2003.78342955 1082.28280031  381.24791795  601.36285585  943.10923828]\n",
      "Mean MAE: 1002.357248388386\n"
     ]
    }
   ],
   "source": [
    "# 2. 피처 선택 버전 \n",
    "# MSE 확인\n",
    "get_MSE(feature,target)\n",
    "# 모델 학습 (아직 튜닝 미완료)\n",
    "v2_lgbm_model = lgb.LGBMRegressor(force_col_wise=True)\n",
    "v2_lgbm_model.fit(feature,target)\n",
    "v2_pred = v2_lgbm_model.predict(feature_te)"
   ]
  },
  {
   "cell_type": "code",
   "execution_count": 16,
   "id": "2cc3ed92",
   "metadata": {
    "ExecuteTime": {
     "end_time": "2023-11-03T14:45:58.770033Z",
     "start_time": "2023-11-03T14:45:58.741559Z"
    }
   },
   "outputs": [
    {
     "data": {
      "text/html": [
       "<div>\n",
       "<style scoped>\n",
       "    .dataframe tbody tr th:only-of-type {\n",
       "        vertical-align: middle;\n",
       "    }\n",
       "\n",
       "    .dataframe tbody tr th {\n",
       "        vertical-align: top;\n",
       "    }\n",
       "\n",
       "    .dataframe thead th {\n",
       "        text-align: right;\n",
       "    }\n",
       "</style>\n",
       "<table border=\"1\" class=\"dataframe\">\n",
       "  <thead>\n",
       "    <tr style=\"text-align: right;\">\n",
       "      <th></th>\n",
       "      <th>ID</th>\n",
       "      <th>answer</th>\n",
       "    </tr>\n",
       "  </thead>\n",
       "  <tbody>\n",
       "    <tr>\n",
       "      <th>0</th>\n",
       "      <td>TG_A_J_20230304</td>\n",
       "      <td>3306.544286</td>\n",
       "    </tr>\n",
       "    <tr>\n",
       "      <th>1</th>\n",
       "      <td>TG_A_J_20230305</td>\n",
       "      <td>67.059075</td>\n",
       "    </tr>\n",
       "    <tr>\n",
       "      <th>2</th>\n",
       "      <td>TG_A_J_20230306</td>\n",
       "      <td>3508.097672</td>\n",
       "    </tr>\n",
       "    <tr>\n",
       "      <th>3</th>\n",
       "      <td>TG_A_J_20230307</td>\n",
       "      <td>3508.097672</td>\n",
       "    </tr>\n",
       "    <tr>\n",
       "      <th>4</th>\n",
       "      <td>TG_A_J_20230308</td>\n",
       "      <td>3511.295365</td>\n",
       "    </tr>\n",
       "  </tbody>\n",
       "</table>\n",
       "</div>"
      ],
      "text/plain": [
       "                ID       answer\n",
       "0  TG_A_J_20230304  3306.544286\n",
       "1  TG_A_J_20230305    67.059075\n",
       "2  TG_A_J_20230306  3508.097672\n",
       "3  TG_A_J_20230307  3508.097672\n",
       "4  TG_A_J_20230308  3511.295365"
      ]
     },
     "execution_count": 16,
     "metadata": {},
     "output_type": "execute_result"
    }
   ],
   "source": [
    "# sample_submission으로 저장하기\n",
    "sample_submission = pd.read_csv('../data/sample_submission.csv')\n",
    "sample_submission['answer']=np.where(v2_pred<0,0,v2_pred) # 혹시 음수값이 있을까봐 조건부로 입력\n",
    "sample_submission.head()"
   ]
  },
  {
   "cell_type": "code",
   "execution_count": 17,
   "id": "37a2856c",
   "metadata": {
    "ExecuteTime": {
     "end_time": "2023-11-03T14:45:58.785531Z",
     "start_time": "2023-11-03T14:45:58.772554Z"
    }
   },
   "outputs": [],
   "source": [
    "# save sample_submission\n",
    "sample_submission.set_index('ID',inplace=True)\n",
    "sample_submission.to_csv('../data/sample_20231103_2343.csv')"
   ]
  },
  {
   "cell_type": "code",
   "execution_count": null,
   "id": "0fb91f1e",
   "metadata": {},
   "outputs": [],
   "source": []
  },
  {
   "cell_type": "code",
   "execution_count": null,
   "id": "0519ddae",
   "metadata": {},
   "outputs": [],
   "source": []
  },
  {
   "cell_type": "code",
   "execution_count": null,
   "id": "ca7196ae",
   "metadata": {
    "ExecuteTime": {
     "end_time": "2023-11-03T04:28:03.107335Z",
     "start_time": "2023-11-03T04:28:03.091339Z"
    }
   },
   "outputs": [],
   "source": []
  },
  {
   "cell_type": "code",
   "execution_count": null,
   "id": "5ffd6888",
   "metadata": {},
   "outputs": [],
   "source": []
  },
  {
   "cell_type": "code",
   "execution_count": null,
   "id": "944babe1",
   "metadata": {},
   "outputs": [],
   "source": []
  },
  {
   "cell_type": "code",
   "execution_count": 18,
   "id": "447ad714",
   "metadata": {
    "ExecuteTime": {
     "end_time": "2023-11-03T14:50:19.632357Z",
     "start_time": "2023-11-03T14:50:19.624097Z"
    }
   },
   "outputs": [
    {
     "data": {
      "text/plain": [
       "Index(['item', 'corporation', 'location', 'year', 'month', 'day', 'week',\n",
       "       'weekend', 'date'],\n",
       "      dtype='object')"
      ]
     },
     "execution_count": 18,
     "metadata": {},
     "output_type": "execute_result"
    }
   ],
   "source": [
    "feature.columns"
   ]
  },
  {
   "cell_type": "code",
   "execution_count": null,
   "id": "11a802e6",
   "metadata": {},
   "outputs": [],
   "source": []
  },
  {
   "cell_type": "code",
   "execution_count": null,
   "id": "062c1b58",
   "metadata": {},
   "outputs": [],
   "source": []
  },
  {
   "cell_type": "code",
   "execution_count": null,
   "id": "7d4432ad",
   "metadata": {},
   "outputs": [],
   "source": []
  }
 ],
 "metadata": {
  "kernelspec": {
   "display_name": "Python 3 (ipykernel)",
   "language": "python",
   "name": "python3"
  },
  "language_info": {
   "codemirror_mode": {
    "name": "ipython",
    "version": 3
   },
   "file_extension": ".py",
   "mimetype": "text/x-python",
   "name": "python",
   "nbconvert_exporter": "python",
   "pygments_lexer": "ipython3",
   "version": "3.9.0"
  },
  "toc": {
   "base_numbering": 1,
   "nav_menu": {},
   "number_sections": false,
   "sideBar": true,
   "skip_h1_title": false,
   "title_cell": "Table of Contents",
   "title_sidebar": "Contents",
   "toc_cell": false,
   "toc_position": {},
   "toc_section_display": true,
   "toc_window_display": false
  }
 },
 "nbformat": 4,
 "nbformat_minor": 5
}
