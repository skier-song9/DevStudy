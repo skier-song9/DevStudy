{
 "cells": [
  {
   "cell_type": "code",
   "execution_count": 2,
   "id": "5ff7bcbd",
   "metadata": {
    "ExecuteTime": {
     "end_time": "2023-11-13T18:43:36.217095Z",
     "start_time": "2023-11-13T18:43:35.743864Z"
    }
   },
   "outputs": [],
   "source": [
    "import pandas as pd\n",
    "from pandas import Series, DataFrame\n",
    "import numpy as np\n",
    "import category_encoders as ce\n",
    "\n",
    "# Visualization\n",
    "import matplotlib.pylab as plt\n",
    "from matplotlib import font_manager, rc\n",
    "import matplotlib\n",
    "import seaborn as sns\n",
    "%matplotlib inline\n",
    "matplotlib.rcParams['font.family'] = 'Malgun Gothic'\n",
    "# Preprocessing & Feature Engineering\n",
    "from sklearn.model_selection import train_test_split\n",
    "from sklearn.preprocessing import MinMaxScaler, LabelEncoder\n",
    "from sklearn.impute import SimpleImputer \n",
    "from sklearn.preprocessing import StandardScaler\n",
    "from sklearn.preprocessing import MinMaxScaler\n",
    "from sklearn.preprocessing import PowerTransformer\n",
    "from sklearn.feature_selection import SelectPercentile\n",
    "\n",
    "# Hyperparameter Optimization\n",
    "from sklearn.model_selection import GridSearchCV\n",
    "from sklearn.model_selection import RandomizedSearchCV\n",
    "\n",
    "# Modeling\n",
    "from sklearn.dummy import DummyClassifier\n",
    "from sklearn.linear_model import LogisticRegression\n",
    "from sklearn.neighbors import KNeighborsClassifier\n",
    "from sklearn.ensemble import RandomForestClassifier\n",
    "from sklearn.neural_network import MLPClassifier\n",
    "from sklearn.tree import DecisionTreeClassifier\n",
    "from sklearn.ensemble import ExtraTreesClassifier\n",
    "from sklearn.ensemble import GradientBoostingClassifier\n",
    "from xgboost import XGBClassifier\n",
    "from lightgbm import LGBMClassifier\n",
    "from sklearn.svm import SVC\n",
    "from sklearn.ensemble import VotingClassifier\n",
    "from sklearn.ensemble import StackingClassifier\n",
    "from sklearn.base import ClassifierMixin\n",
    "\n",
    "# PyTorch\n",
    "import torch\n",
    "from torch.utils.data import Dataset, DataLoader, TensorDataset\n",
    "import torch.nn as nn\n",
    "import torch.nn.functional as F\n",
    "import torch.optim as optim\n",
    "from torch.autograd import Variable\n",
    "from torch.nn import Parameter\n",
    "from torch import Tensor\n",
    "from torch.utils.data import DataLoader\n",
    "\n",
    "# Evaluation\n",
    "from sklearn.metrics import roc_auc_score\n",
    "from sklearn.metrics import accuracy_score\n",
    "from sklearn.model_selection import cross_val_score\n",
    "from sklearn.metrics import log_loss\n",
    "\n",
    "# Utility\n",
    "import os\n",
    "import time\n",
    "import datetime\n",
    "import random\n",
    "import warnings; warnings.filterwarnings(\"ignore\")\n",
    "from IPython.display import Image\n",
    "import pickle\n",
    "from tqdm import tqdm\n",
    "import platform\n",
    "from itertools import combinations\n",
    "from scipy.stats.mstats import gmean\n",
    "\n",
    "from bayes_opt import BayesianOptimization\n",
    "from num2words import num2words\n",
    "import statsmodels.api as sm\n",
    "import statsmodels.formula.api as smf\n",
    "from statsmodels.stats.outliers_influence import OLSInfluence"
   ]
  },
  {
   "cell_type": "code",
   "execution_count": 3,
   "id": "69cfe188",
   "metadata": {
    "ExecuteTime": {
     "end_time": "2023-11-13T18:43:41.097490Z",
     "start_time": "2023-11-13T18:43:41.004718Z"
    }
   },
   "outputs": [],
   "source": [
    "train = pd.read_csv('../data/train.csv')\n",
    "test = pd.read_csv('../data/test.csv')\n",
    "international_trade = pd.read_csv('../data/international_trade.csv')\n",
    "train.drop(columns = 'ID', inplace = True)\n",
    "test.drop(columns = 'ID', inplace = True)"
   ]
  },
  {
   "cell_type": "code",
   "execution_count": 5,
   "id": "82c648c1",
   "metadata": {
    "ExecuteTime": {
     "end_time": "2023-11-13T18:43:43.672009Z",
     "start_time": "2023-11-13T18:43:43.652326Z"
    }
   },
   "outputs": [
    {
     "data": {
      "text/plain": [
       "Index(['timestamp', 'item', 'corporation', 'location', 'supply', 'price'], dtype='object')"
      ]
     },
     "execution_count": 5,
     "metadata": {},
     "output_type": "execute_result"
    }
   ],
   "source": [
    "train = train.rename(columns={'supply(kg)':'supply','price(원/kg)':'price'})\n",
    "train.columns"
   ]
  },
  {
   "cell_type": "code",
   "execution_count": 6,
   "id": "719a8693",
   "metadata": {
    "ExecuteTime": {
     "end_time": "2023-11-13T18:43:44.863650Z",
     "start_time": "2023-11-13T18:43:44.515993Z"
    }
   },
   "outputs": [],
   "source": [
    "# 시계열 데이터 처리\n",
    "train.timestamp = pd.to_datetime(train.timestamp)\n",
    "test.timestamp = pd.to_datetime(test.timestamp)\n",
    "\n",
    "########### test 데이터 supply 컬럼 추가\n",
    "# test['supply'] = np.zeros((len(test),1))\n",
    "# def find_lastyear_supply(row):\n",
    "#     # date1 : 1년 전 같은 datetime\n",
    "#     date1 = pd.to_datetime(f'{row[\"timestamp\"].year-1}-{row[\"timestamp\"].month}-{row[\"timestamp\"].day}').date()\n",
    "#     # date2 : 2년 전 같은 datetime\n",
    "#     date2 = pd.to_datetime(f'{row[\"timestamp\"].year-2}-{row[\"timestamp\"].month}-{row[\"timestamp\"].day}').date()\n",
    "# #     print(date)\n",
    "#     # 1,2년 전 같은 날짜 & 유통업체 & 지역 & 품목의 supply 평균값으로 test에 supply컬럼 추가\n",
    "#     row['supply'] = train[((train['timestamp'].dt.date==date1)|(train['timestamp'].dt.date==date2))&\n",
    "#                             (train['corporation']==row['corporation'])&\n",
    "#                             (train['location']==row['location']) &\n",
    "#                             (train['item']==row['item'])]['supply'].sum()\n",
    "# #     print(row['supply'])\n",
    "#     return row\n",
    "# test = test.apply(find_lastyear_supply,axis=1)\n",
    "########### test 데이터 supply 컬럼 추가 -END-\n",
    "\n",
    "# year\n",
    "train['year'] = train.timestamp.dt.year\n",
    "test['year'] = test.timestamp.dt.year\n",
    "\n",
    "# month\n",
    "train['month'] = train.timestamp.dt.month\n",
    "test['month'] = test.timestamp.dt.month\n",
    "\n",
    "# day\n",
    "train['day'] = train.timestamp.dt.day\n",
    "test['day'] = test.timestamp.dt.day\n",
    "\n",
    "# week\n",
    "train['week'] = train.timestamp.dt.dayofweek\n",
    "test['week'] = test.timestamp.dt.dayofweek\n",
    "\n",
    "# 주말여부\n",
    "train['weekend'] = train.week.apply(lambda x : 1 if x in [1,2] else 0)\n",
    "test['weekend'] = test.week.apply(lambda x : 1 if x in [1,2] else 0)\n",
    "\n",
    "# date (월-일)\n",
    "# train['date'] = train.timestamp.apply(lambda x : int(str(x)[5:7] + str(x)[8:10]))\n",
    "# test['date'] = test.timestamp.apply(lambda x : int(str(x)[5:7] + str(x)[8:10]))\n",
    "\n",
    "# year_month\n",
    "train['year_month'] = train.timestamp.apply(lambda x : str(x)[0:7])\n",
    "test['year_month'] = test.timestamp.apply(lambda x : str(x)[0:7])"
   ]
  },
  {
   "cell_type": "code",
   "execution_count": 7,
   "id": "c137fc9d",
   "metadata": {
    "ExecuteTime": {
     "end_time": "2023-11-13T18:43:45.396141Z",
     "start_time": "2023-11-13T18:43:45.379263Z"
    }
   },
   "outputs": [],
   "source": [
    "# test에 supply 잘 들어갔는지 확인\n",
    "# print(test[(test['timestamp']=='2023-03-27')&(test['item']=='RD')&(test['corporation']=='F')&(test['location']=='J')]['supply'])\n",
    "# print(train[(train['timestamp']=='2021-03-27')&(train['item']=='RD')&(train['corporation']=='F')&(train['location']=='J')]['supply'])\n",
    "# print(train[(train['timestamp']=='2022-03-27')&(train['item']=='RD')&(train['corporation']=='F')&(train['location']=='J')]['supply'])"
   ]
  },
  {
   "cell_type": "code",
   "execution_count": 8,
   "id": "97f1b503",
   "metadata": {
    "ExecuteTime": {
     "end_time": "2023-11-13T18:43:46.121855Z",
     "start_time": "2023-11-13T18:43:46.095384Z"
    }
   },
   "outputs": [
    {
     "data": {
      "text/html": [
       "<div>\n",
       "<style scoped>\n",
       "    .dataframe tbody tr th:only-of-type {\n",
       "        vertical-align: middle;\n",
       "    }\n",
       "\n",
       "    .dataframe tbody tr th {\n",
       "        vertical-align: top;\n",
       "    }\n",
       "\n",
       "    .dataframe thead th {\n",
       "        text-align: right;\n",
       "    }\n",
       "</style>\n",
       "<table border=\"1\" class=\"dataframe\">\n",
       "  <thead>\n",
       "    <tr style=\"text-align: right;\">\n",
       "      <th></th>\n",
       "      <th>timestamp</th>\n",
       "      <th>item</th>\n",
       "      <th>corporation</th>\n",
       "      <th>location</th>\n",
       "      <th>supply</th>\n",
       "      <th>price</th>\n",
       "      <th>year</th>\n",
       "      <th>month</th>\n",
       "      <th>day</th>\n",
       "      <th>week</th>\n",
       "      <th>weekend</th>\n",
       "      <th>year_month</th>\n",
       "    </tr>\n",
       "  </thead>\n",
       "  <tbody>\n",
       "    <tr>\n",
       "      <th>0</th>\n",
       "      <td>2019-01-01</td>\n",
       "      <td>TG</td>\n",
       "      <td>A</td>\n",
       "      <td>J</td>\n",
       "      <td>0.0</td>\n",
       "      <td>0.0</td>\n",
       "      <td>2019</td>\n",
       "      <td>1</td>\n",
       "      <td>1</td>\n",
       "      <td>1</td>\n",
       "      <td>1</td>\n",
       "      <td>2019-01</td>\n",
       "    </tr>\n",
       "    <tr>\n",
       "      <th>1</th>\n",
       "      <td>2019-01-02</td>\n",
       "      <td>TG</td>\n",
       "      <td>A</td>\n",
       "      <td>J</td>\n",
       "      <td>0.0</td>\n",
       "      <td>0.0</td>\n",
       "      <td>2019</td>\n",
       "      <td>1</td>\n",
       "      <td>2</td>\n",
       "      <td>2</td>\n",
       "      <td>1</td>\n",
       "      <td>2019-01</td>\n",
       "    </tr>\n",
       "    <tr>\n",
       "      <th>2</th>\n",
       "      <td>2019-01-03</td>\n",
       "      <td>TG</td>\n",
       "      <td>A</td>\n",
       "      <td>J</td>\n",
       "      <td>60601.0</td>\n",
       "      <td>1728.0</td>\n",
       "      <td>2019</td>\n",
       "      <td>1</td>\n",
       "      <td>3</td>\n",
       "      <td>3</td>\n",
       "      <td>0</td>\n",
       "      <td>2019-01</td>\n",
       "    </tr>\n",
       "    <tr>\n",
       "      <th>3</th>\n",
       "      <td>2019-01-04</td>\n",
       "      <td>TG</td>\n",
       "      <td>A</td>\n",
       "      <td>J</td>\n",
       "      <td>25000.0</td>\n",
       "      <td>1408.0</td>\n",
       "      <td>2019</td>\n",
       "      <td>1</td>\n",
       "      <td>4</td>\n",
       "      <td>4</td>\n",
       "      <td>0</td>\n",
       "      <td>2019-01</td>\n",
       "    </tr>\n",
       "    <tr>\n",
       "      <th>4</th>\n",
       "      <td>2019-01-05</td>\n",
       "      <td>TG</td>\n",
       "      <td>A</td>\n",
       "      <td>J</td>\n",
       "      <td>32352.0</td>\n",
       "      <td>1250.0</td>\n",
       "      <td>2019</td>\n",
       "      <td>1</td>\n",
       "      <td>5</td>\n",
       "      <td>5</td>\n",
       "      <td>0</td>\n",
       "      <td>2019-01</td>\n",
       "    </tr>\n",
       "    <tr>\n",
       "      <th>...</th>\n",
       "      <td>...</td>\n",
       "      <td>...</td>\n",
       "      <td>...</td>\n",
       "      <td>...</td>\n",
       "      <td>...</td>\n",
       "      <td>...</td>\n",
       "      <td>...</td>\n",
       "      <td>...</td>\n",
       "      <td>...</td>\n",
       "      <td>...</td>\n",
       "      <td>...</td>\n",
       "      <td>...</td>\n",
       "    </tr>\n",
       "    <tr>\n",
       "      <th>59392</th>\n",
       "      <td>2023-02-27</td>\n",
       "      <td>RD</td>\n",
       "      <td>F</td>\n",
       "      <td>J</td>\n",
       "      <td>452440.0</td>\n",
       "      <td>468.0</td>\n",
       "      <td>2023</td>\n",
       "      <td>2</td>\n",
       "      <td>27</td>\n",
       "      <td>0</td>\n",
       "      <td>0</td>\n",
       "      <td>2023-02</td>\n",
       "    </tr>\n",
       "    <tr>\n",
       "      <th>59393</th>\n",
       "      <td>2023-02-28</td>\n",
       "      <td>RD</td>\n",
       "      <td>F</td>\n",
       "      <td>J</td>\n",
       "      <td>421980.0</td>\n",
       "      <td>531.0</td>\n",
       "      <td>2023</td>\n",
       "      <td>2</td>\n",
       "      <td>28</td>\n",
       "      <td>1</td>\n",
       "      <td>1</td>\n",
       "      <td>2023-02</td>\n",
       "    </tr>\n",
       "    <tr>\n",
       "      <th>59394</th>\n",
       "      <td>2023-03-01</td>\n",
       "      <td>RD</td>\n",
       "      <td>F</td>\n",
       "      <td>J</td>\n",
       "      <td>382980.0</td>\n",
       "      <td>574.0</td>\n",
       "      <td>2023</td>\n",
       "      <td>3</td>\n",
       "      <td>1</td>\n",
       "      <td>2</td>\n",
       "      <td>1</td>\n",
       "      <td>2023-03</td>\n",
       "    </tr>\n",
       "    <tr>\n",
       "      <th>59395</th>\n",
       "      <td>2023-03-02</td>\n",
       "      <td>RD</td>\n",
       "      <td>F</td>\n",
       "      <td>J</td>\n",
       "      <td>477220.0</td>\n",
       "      <td>523.0</td>\n",
       "      <td>2023</td>\n",
       "      <td>3</td>\n",
       "      <td>2</td>\n",
       "      <td>3</td>\n",
       "      <td>0</td>\n",
       "      <td>2023-03</td>\n",
       "    </tr>\n",
       "    <tr>\n",
       "      <th>59396</th>\n",
       "      <td>2023-03-03</td>\n",
       "      <td>RD</td>\n",
       "      <td>F</td>\n",
       "      <td>J</td>\n",
       "      <td>427520.0</td>\n",
       "      <td>529.0</td>\n",
       "      <td>2023</td>\n",
       "      <td>3</td>\n",
       "      <td>3</td>\n",
       "      <td>4</td>\n",
       "      <td>0</td>\n",
       "      <td>2023-03</td>\n",
       "    </tr>\n",
       "  </tbody>\n",
       "</table>\n",
       "<p>59397 rows × 12 columns</p>\n",
       "</div>"
      ],
      "text/plain": [
       "       timestamp item corporation location    supply   price  year  month  \\\n",
       "0     2019-01-01   TG           A        J       0.0     0.0  2019      1   \n",
       "1     2019-01-02   TG           A        J       0.0     0.0  2019      1   \n",
       "2     2019-01-03   TG           A        J   60601.0  1728.0  2019      1   \n",
       "3     2019-01-04   TG           A        J   25000.0  1408.0  2019      1   \n",
       "4     2019-01-05   TG           A        J   32352.0  1250.0  2019      1   \n",
       "...          ...  ...         ...      ...       ...     ...   ...    ...   \n",
       "59392 2023-02-27   RD           F        J  452440.0   468.0  2023      2   \n",
       "59393 2023-02-28   RD           F        J  421980.0   531.0  2023      2   \n",
       "59394 2023-03-01   RD           F        J  382980.0   574.0  2023      3   \n",
       "59395 2023-03-02   RD           F        J  477220.0   523.0  2023      3   \n",
       "59396 2023-03-03   RD           F        J  427520.0   529.0  2023      3   \n",
       "\n",
       "       day  week  weekend year_month  \n",
       "0        1     1        1    2019-01  \n",
       "1        2     2        1    2019-01  \n",
       "2        3     3        0    2019-01  \n",
       "3        4     4        0    2019-01  \n",
       "4        5     5        0    2019-01  \n",
       "...    ...   ...      ...        ...  \n",
       "59392   27     0        0    2023-02  \n",
       "59393   28     1        1    2023-02  \n",
       "59394    1     2        1    2023-03  \n",
       "59395    2     3        0    2023-03  \n",
       "59396    3     4        0    2023-03  \n",
       "\n",
       "[59397 rows x 12 columns]"
      ]
     },
     "execution_count": 8,
     "metadata": {},
     "output_type": "execute_result"
    }
   ],
   "source": [
    "# 나중에 international data 사용할 때 year-month 사용해서 컬럼 추가\n",
    "train\n",
    "\n"
   ]
  },
  {
   "cell_type": "code",
   "execution_count": null,
   "id": "2fa0b90d",
   "metadata": {},
   "outputs": [],
   "source": []
  },
  {
   "cell_type": "code",
   "execution_count": 9,
   "id": "d3afb9b9",
   "metadata": {
    "ExecuteTime": {
     "end_time": "2023-11-13T18:43:47.607847Z",
     "start_time": "2023-11-13T18:43:47.572689Z"
    }
   },
   "outputs": [],
   "source": [
    "# 감귤과 나머지로 데이터프레임 구분\n",
    "tg_train_index = train[train['item']=='TG'].index\n",
    "train_TG = train.iloc[tg_train_index,:]\n",
    "train_rest = train.drop(index=tg_train_index,axis=0)\n",
    "\n",
    "tg_test_index = test[test['item']=='TG'].index\n",
    "test_TG = test.iloc[tg_test_index,:]\n",
    "test_rest = test.drop(index=tg_test_index,axis=0)\n",
    "\n",
    "## 후에 사용할 test 데이터셋의 인덱스를 미리 저장\n",
    "org_test_TG_index = test_TG.index\n",
    "org_test_rest_index = test_rest.index"
   ]
  },
  {
   "cell_type": "code",
   "execution_count": 10,
   "id": "71b49f35",
   "metadata": {
    "ExecuteTime": {
     "end_time": "2023-11-13T18:43:48.591649Z",
     "start_time": "2023-11-13T18:43:48.076481Z"
    }
   },
   "outputs": [],
   "source": [
    "# Encoding \n",
    "encoders_TG = {}\n",
    "for col in ['item','corporation','location','year','month','day','week']:\n",
    "    encoder = ce.TargetEncoder()\n",
    "    train_TG[col] = encoder.fit_transform(train_TG[col].astype(str),train_TG['price'])\n",
    "    test_TG[col] = encoder.transform(test_TG[col].astype(str))\n",
    "    encoders_TG[col] = encoder\n",
    "# encoder = LabelEncoder()\n",
    "# train_TG['location'] = encoder.fit_transform(train_TG['location'])\n",
    "# test_TG['location'] = encoder.transform(test_TG['location'])\n",
    "# encoders_TG['location'] = encoder\n",
    "\n",
    "encoders_rest = {}\n",
    "for col in ['item','corporation','location','year','month','day','week']:\n",
    "    encoder = ce.TargetEncoder()\n",
    "    train_rest[col] = encoder.fit_transform(train_rest[col].astype(str),train_rest['price'])\n",
    "    test_rest[col] = encoder.transform(test_rest[col].astype(str))\n",
    "    encoders_rest[col] = encoder\n",
    "# encoder = LabelEncoder()\n",
    "# train_rest['location'] = encoder.fit_transform(train_rest['location'])\n",
    "# test_rest['location'] = encoder.transform(test_rest['location'])\n",
    "# encoders_rest['location'] = encoder\n",
    "\n",
    "###"
   ]
  },
  {
   "cell_type": "code",
   "execution_count": 11,
   "id": "75116989",
   "metadata": {
    "ExecuteTime": {
     "end_time": "2023-11-13T18:43:48.638027Z",
     "start_time": "2023-11-13T18:43:48.619401Z"
    }
   },
   "outputs": [],
   "source": [
    "# Scaling\n",
    "# price scaling\n",
    "TG_mms = MinMaxScaler()\n",
    "## 감귤만 일단 조정\n",
    "train_TG['price'] = TG_mms.fit_transform(np.reshape(train_TG['price'].values,(-1,1)))\n"
   ]
  },
  {
   "cell_type": "code",
   "execution_count": 12,
   "id": "ff39dfb3",
   "metadata": {
    "ExecuteTime": {
     "end_time": "2023-11-13T18:43:49.182704Z",
     "start_time": "2023-11-13T18:43:49.164717Z"
    }
   },
   "outputs": [],
   "source": [
    "# drop unnecessary cols, define features and target\n",
    "train_TG_ = train_TG.drop(columns = ['timestamp', 'year_month'])\n",
    "train_rest_ = train_rest.drop(columns = ['timestamp', 'year_month'])\n",
    "test_TG_ = test_TG.drop(columns = ['timestamp', 'year_month'])\n",
    "test_rest_ = test_rest.drop(columns = ['timestamp', 'year_month'])\n",
    "\n",
    "feature_TG = train_TG_.drop(columns=['supply','price']) # 피처에 supply 미포함\n",
    "feature_te_TG = test_TG_ #.drop(columns=['supply'])  피처에 supply 미포함\n",
    "feature_rest = train_rest_.drop(columns=['supply','price']) \n",
    "feature_te_rest = test_rest_ #.drop(columns=['supply']) \n",
    "# feature = train_.drop(columns=['price']) # 피처에 supply 포함하는 버전\n",
    "# feature_te = test_\n",
    "target_TG = train_TG_.price\n",
    "target_rest = train_rest_.price"
   ]
  },
  {
   "cell_type": "markdown",
   "id": "f737970d",
   "metadata": {},
   "source": [
    "여기서부터 lgbm전까지는 feature_TG, target_TG로 LSTM모델을 사용하여 학습 및 예측\n",
    "<br/>\n",
    "참고 : https://github.com/jungsungmoon/nongsan#eda"
   ]
  },
  {
   "cell_type": "code",
   "execution_count": 13,
   "id": "e3c109cc",
   "metadata": {
    "ExecuteTime": {
     "end_time": "2023-11-13T18:43:50.273755Z",
     "start_time": "2023-11-13T18:43:50.195841Z"
    }
   },
   "outputs": [
    {
     "name": "stdout",
     "output_type": "stream",
     "text": [
      "True\n",
      "NVIDIA GeForce RTX 3050 Ti Laptop GPU\n",
      "1\n"
     ]
    }
   ],
   "source": [
    "print(torch.cuda.is_available())\n",
    "device = torch.device('cuda:0') if torch.cuda.is_available() else torch.device('cpu')\n",
    "print(torch.cuda.get_device_name())\n",
    "print(torch.cuda.device_count())"
   ]
  },
  {
   "cell_type": "markdown",
   "id": "72611cd8",
   "metadata": {},
   "source": [
    "### LSTF과제에 대한 3가지 모델 : https://today-1.tistory.com/60\n",
    "\n",
    "#### Linear"
   ]
  },
  {
   "cell_type": "code",
   "execution_count": 14,
   "id": "a47d82dd",
   "metadata": {
    "ExecuteTime": {
     "end_time": "2023-11-13T18:43:52.089535Z",
     "start_time": "2023-11-13T18:43:52.068575Z"
    }
   },
   "outputs": [],
   "source": [
    "class LTSF_Linear(torch.nn.Module):\n",
    "    def __init__(self, window_size, forcast_size, individual, feature_size):\n",
    "        super(LTSF_Linear, self).__init__()\n",
    "        \n",
    "        # 입력 파라미터를 멤버 변수로 저장\n",
    "        self.window_size = window_size\n",
    "        self.forcast_size = forcast_size\n",
    "        self.individual = individual\n",
    "        self.channels = feature_size\n",
    "\n",
    "        # individual이 True인 경우, 각 채널에 대해 별도의 선형 레이어를 생성\n",
    "        if self.individual:\n",
    "            self.Linear = torch.nn.ModuleList()\n",
    "            for i in range(self.channels):\n",
    "                self.Linear.append(torch.nn.Linear(self.window_size, self.forcast_size))\n",
    "        # individual이 False인 경우, 하나의 선형 레이어만 생성\n",
    "        else:\n",
    "            self.Linear = torch.nn.Linear(self.window_size, self.forcast_size)\n",
    "\n",
    "    def forward(self, x):\n",
    "        # forward 메서드: 입력 데이터를 받아 예측값을 반환\n",
    "        if self.individual:\n",
    "            # individual이 True인 경우, 각 채널에 대해 별도의 선형 레이어를 통과시킨 후 결과를 합침\n",
    "            output = torch.zeros([x.size(0), self.forcast_size, x.size(2)], dtype=x.dtype).to(x.device)\n",
    "            for i in range(self.channels):\n",
    "                output[:, :, i] = self.Linear[i](x[:, :, i])\n",
    "            x = output\n",
    "        else:\n",
    "            # individual이 False인 경우, 전체 데이터에 대해 하나의 선형 레이어를 통과시킴\n",
    "            x = self.Linear(x.permute(0, 2, 1)).permute(0, 2, 1)\n",
    "        return x\n"
   ]
  },
  {
   "cell_type": "code",
   "execution_count": 57,
   "id": "c9cef1d8",
   "metadata": {
    "ExecuteTime": {
     "end_time": "2023-11-12T08:59:32.357304Z",
     "start_time": "2023-11-12T08:59:32.336975Z"
    }
   },
   "outputs": [],
   "source": [
    "# window_size = 365 (이전 1년을 입력받아)\n",
    "# forcast_size = 28 (28일의 price를 예측)\n",
    "# feature_size = 9개\n",
    "ltsf_linear = LTSF_Linear(365, 28, False, len(feature_TG.columns))\n",
    "criterion_ltsf_linear = nn.MSELoss()\n",
    "optim_ltsf_linear = optim.Adam(ltsf_linear.parameters(),lr=0.0002)"
   ]
  },
  {
   "cell_type": "code",
   "execution_count": 58,
   "id": "a0e6ed61",
   "metadata": {
    "ExecuteTime": {
     "end_time": "2023-11-12T08:59:37.838843Z",
     "start_time": "2023-11-12T08:59:37.802718Z"
    }
   },
   "outputs": [
    {
     "data": {
      "text/html": [
       "<div>\n",
       "<style scoped>\n",
       "    .dataframe tbody tr th:only-of-type {\n",
       "        vertical-align: middle;\n",
       "    }\n",
       "\n",
       "    .dataframe tbody tr th {\n",
       "        vertical-align: top;\n",
       "    }\n",
       "\n",
       "    .dataframe thead th {\n",
       "        text-align: right;\n",
       "    }\n",
       "</style>\n",
       "<table border=\"1\" class=\"dataframe\">\n",
       "  <thead>\n",
       "    <tr style=\"text-align: right;\">\n",
       "      <th></th>\n",
       "      <th>item</th>\n",
       "      <th>corporation</th>\n",
       "      <th>location</th>\n",
       "      <th>year</th>\n",
       "      <th>month</th>\n",
       "      <th>day</th>\n",
       "      <th>week</th>\n",
       "      <th>weekend</th>\n",
       "    </tr>\n",
       "  </thead>\n",
       "  <tbody>\n",
       "    <tr>\n",
       "      <th>0</th>\n",
       "      <td>0.0</td>\n",
       "      <td>0.405446</td>\n",
       "      <td>0.0</td>\n",
       "      <td>0.654886</td>\n",
       "      <td>0.077494</td>\n",
       "      <td>0.195701</td>\n",
       "      <td>1.000000</td>\n",
       "      <td>1</td>\n",
       "    </tr>\n",
       "    <tr>\n",
       "      <th>1</th>\n",
       "      <td>0.0</td>\n",
       "      <td>0.405446</td>\n",
       "      <td>0.0</td>\n",
       "      <td>0.654886</td>\n",
       "      <td>0.077494</td>\n",
       "      <td>0.129368</td>\n",
       "      <td>0.983033</td>\n",
       "      <td>1</td>\n",
       "    </tr>\n",
       "    <tr>\n",
       "      <th>2</th>\n",
       "      <td>0.0</td>\n",
       "      <td>0.405446</td>\n",
       "      <td>0.0</td>\n",
       "      <td>0.654886</td>\n",
       "      <td>0.077494</td>\n",
       "      <td>0.000000</td>\n",
       "      <td>0.983563</td>\n",
       "      <td>0</td>\n",
       "    </tr>\n",
       "    <tr>\n",
       "      <th>3</th>\n",
       "      <td>0.0</td>\n",
       "      <td>0.405446</td>\n",
       "      <td>0.0</td>\n",
       "      <td>0.654886</td>\n",
       "      <td>0.077494</td>\n",
       "      <td>0.796712</td>\n",
       "      <td>0.988603</td>\n",
       "      <td>0</td>\n",
       "    </tr>\n",
       "    <tr>\n",
       "      <th>4</th>\n",
       "      <td>0.0</td>\n",
       "      <td>0.405446</td>\n",
       "      <td>0.0</td>\n",
       "      <td>0.654886</td>\n",
       "      <td>0.077494</td>\n",
       "      <td>0.580131</td>\n",
       "      <td>0.892926</td>\n",
       "      <td>0</td>\n",
       "    </tr>\n",
       "    <tr>\n",
       "      <th>...</th>\n",
       "      <td>...</td>\n",
       "      <td>...</td>\n",
       "      <td>...</td>\n",
       "      <td>...</td>\n",
       "      <td>...</td>\n",
       "      <td>...</td>\n",
       "      <td>...</td>\n",
       "      <td>...</td>\n",
       "    </tr>\n",
       "    <tr>\n",
       "      <th>15225</th>\n",
       "      <td>0.0</td>\n",
       "      <td>0.000000</td>\n",
       "      <td>1.0</td>\n",
       "      <td>0.000000</td>\n",
       "      <td>0.184014</td>\n",
       "      <td>0.972893</td>\n",
       "      <td>0.989903</td>\n",
       "      <td>0</td>\n",
       "    </tr>\n",
       "    <tr>\n",
       "      <th>15226</th>\n",
       "      <td>0.0</td>\n",
       "      <td>0.000000</td>\n",
       "      <td>1.0</td>\n",
       "      <td>0.000000</td>\n",
       "      <td>0.184014</td>\n",
       "      <td>0.963286</td>\n",
       "      <td>1.000000</td>\n",
       "      <td>1</td>\n",
       "    </tr>\n",
       "    <tr>\n",
       "      <th>15227</th>\n",
       "      <td>0.0</td>\n",
       "      <td>0.000000</td>\n",
       "      <td>1.0</td>\n",
       "      <td>0.000000</td>\n",
       "      <td>0.489610</td>\n",
       "      <td>0.195701</td>\n",
       "      <td>0.983033</td>\n",
       "      <td>1</td>\n",
       "    </tr>\n",
       "    <tr>\n",
       "      <th>15228</th>\n",
       "      <td>0.0</td>\n",
       "      <td>0.000000</td>\n",
       "      <td>1.0</td>\n",
       "      <td>0.000000</td>\n",
       "      <td>0.489610</td>\n",
       "      <td>0.129368</td>\n",
       "      <td>0.983563</td>\n",
       "      <td>0</td>\n",
       "    </tr>\n",
       "    <tr>\n",
       "      <th>15229</th>\n",
       "      <td>0.0</td>\n",
       "      <td>0.000000</td>\n",
       "      <td>1.0</td>\n",
       "      <td>0.000000</td>\n",
       "      <td>0.489610</td>\n",
       "      <td>0.000000</td>\n",
       "      <td>0.988603</td>\n",
       "      <td>0</td>\n",
       "    </tr>\n",
       "  </tbody>\n",
       "</table>\n",
       "<p>15230 rows × 8 columns</p>\n",
       "</div>"
      ],
      "text/plain": [
       "       item  corporation  location      year     month       day      week  \\\n",
       "0       0.0     0.405446       0.0  0.654886  0.077494  0.195701  1.000000   \n",
       "1       0.0     0.405446       0.0  0.654886  0.077494  0.129368  0.983033   \n",
       "2       0.0     0.405446       0.0  0.654886  0.077494  0.000000  0.983563   \n",
       "3       0.0     0.405446       0.0  0.654886  0.077494  0.796712  0.988603   \n",
       "4       0.0     0.405446       0.0  0.654886  0.077494  0.580131  0.892926   \n",
       "...     ...          ...       ...       ...       ...       ...       ...   \n",
       "15225   0.0     0.000000       1.0  0.000000  0.184014  0.972893  0.989903   \n",
       "15226   0.0     0.000000       1.0  0.000000  0.184014  0.963286  1.000000   \n",
       "15227   0.0     0.000000       1.0  0.000000  0.489610  0.195701  0.983033   \n",
       "15228   0.0     0.000000       1.0  0.000000  0.489610  0.129368  0.983563   \n",
       "15229   0.0     0.000000       1.0  0.000000  0.489610  0.000000  0.988603   \n",
       "\n",
       "       weekend  \n",
       "0            1  \n",
       "1            1  \n",
       "2            0  \n",
       "3            0  \n",
       "4            0  \n",
       "...        ...  \n",
       "15225        0  \n",
       "15226        1  \n",
       "15227        1  \n",
       "15228        0  \n",
       "15229        0  \n",
       "\n",
       "[15230 rows x 8 columns]"
      ]
     },
     "execution_count": 58,
     "metadata": {},
     "output_type": "execute_result"
    }
   ],
   "source": [
    "# prepare dataset for linear\n",
    "\n",
    "# Scaling the target encoded data\n",
    "# ['item','corporation','location','year','month','day','week']\n",
    "mms_columns = ['item','corporation','location','year','month','day','week']\n",
    "mms_features = MinMaxScaler()\n",
    "features_TG_scaled = feature_TG.copy()\n",
    "features_TG_scaled[mms_columns] = mms_features.fit_transform(features_TG_scaled[mms_columns])\n",
    "features_TG_scaled"
   ]
  },
  {
   "cell_type": "code",
   "execution_count": 64,
   "id": "d80f2d9e",
   "metadata": {
    "ExecuteTime": {
     "end_time": "2023-11-12T09:01:53.015704Z",
     "start_time": "2023-11-12T09:01:52.911100Z"
    }
   },
   "outputs": [
    {
     "data": {
      "text/plain": [
       "(torch.Size([15230, 1, 8]), torch.Size([15230]))"
      ]
     },
     "execution_count": 64,
     "metadata": {},
     "output_type": "execute_result"
    }
   ],
   "source": [
    "# to tensor\n",
    "features_TG_scaled_tensor = torch.tensor(features_TG_scaled.values).unsqueeze(1)\n",
    "target_TG_tensor = torch.tensor(target_TG)\n",
    "\n",
    "features_TG_scaled_tensor.size(), target_TG_tensor.size()"
   ]
  },
  {
   "cell_type": "code",
   "execution_count": 65,
   "id": "94f3c418",
   "metadata": {
    "ExecuteTime": {
     "end_time": "2023-11-12T09:03:00.492082Z",
     "start_time": "2023-11-12T09:03:00.472123Z"
    }
   },
   "outputs": [
    {
     "data": {
      "text/plain": [
       "item\n",
       "0.0    15230\n",
       "Name: count, dtype: int64"
      ]
     },
     "execution_count": 65,
     "metadata": {},
     "output_type": "execute_result"
    }
   ],
   "source": []
  },
  {
   "cell_type": "code",
   "execution_count": null,
   "id": "7c547e30",
   "metadata": {},
   "outputs": [],
   "source": []
  },
  {
   "cell_type": "code",
   "execution_count": null,
   "id": "363dfe9a",
   "metadata": {},
   "outputs": [],
   "source": []
  },
  {
   "cell_type": "markdown",
   "id": "a59eafa3",
   "metadata": {},
   "source": [
    "### Basic LSTM forecasting TG"
   ]
  },
  {
   "cell_type": "code",
   "execution_count": 13,
   "id": "551fa389",
   "metadata": {
    "ExecuteTime": {
     "end_time": "2023-11-12T07:09:53.611316Z",
     "start_time": "2023-11-12T07:09:53.595343Z"
    }
   },
   "outputs": [],
   "source": [
    "# define LSTM Model\n",
    "class LSTM(nn.Module):\n",
    "    def __init__(self, input_dim, hidden_dim, num_layers,output_dim):\n",
    "        '''\n",
    "        input_dim = 피처의 개수\n",
    "        hidden_dim = hidden_state의 컬럼 개수 (아무값이나)\n",
    "        num_layers = lstm net의 개수 (보통 1로 지정)\n",
    "        output_dim = 가격만 예측하니까 1로 지정\n",
    "        '''\n",
    "        super(LSTM,self).__init__()\n",
    "        self.input_dim = input_dim \n",
    "        self.hidden_dim = hidden_dim \n",
    "        self.output_dim = output_dim \n",
    "        self.num_layers = num_layers \n",
    "        \n",
    "        \n",
    "        self.lstm = nn.LSTM(input_dim, hidden_dim, num_layers, \n",
    "                           batch_first=True)\n",
    "        self.fc0 = nn.Linear(hidden_dim,64)\n",
    "        self.fc1 = nn.Linear(64, 32)\n",
    "        self.fc2 = nn.Linear(32, output_dim)\n",
    "        self.dropout = nn.Dropout(0.2)\n",
    "        \n",
    "    def forward(self, x):\n",
    "        # lstm 셀 및 가중치 초기화\n",
    "        h_0 = Variable(torch.randn(self.num_layers,x.size(0),self.hidden_dim))\n",
    "        c_0 = Variable(torch.randn(self.num_layers,x.size(0),self.hidden_dim))\n",
    "        \n",
    "        out,(hn,cn) = self.lstm(x, (h_0,c_0))\n",
    "        hn = hn.view(-1,self.hidden_dim) # size = (x.size(0),hidden_dim)\n",
    "        out = self.fc0(hn)\n",
    "        out = self.dropout(out)\n",
    "        out = self.fc1(out)\n",
    "        out = self.dropout(out)\n",
    "        out = self.fc2(out)\n",
    "        return out\n",
    "    \n",
    "class RMSELoss(nn.Module):\n",
    "    def __init__(self):\n",
    "        super().__init__()\n",
    "        self.mse = nn.MSELoss()\n",
    "        \n",
    "    def forward(self,yhat,y):\n",
    "        return torch.sqrt(self.mse(yhat,y))"
   ]
  },
  {
   "cell_type": "code",
   "execution_count": 57,
   "id": "af2d6cb7",
   "metadata": {
    "ExecuteTime": {
     "end_time": "2023-11-11T20:53:35.595048Z",
     "start_time": "2023-11-11T20:53:35.585700Z"
    }
   },
   "outputs": [
    {
     "data": {
      "text/plain": [
       "Index(['item', 'corporation', 'location', 'year', 'month', 'day', 'week',\n",
       "       'weekend', 'date'],\n",
       "      dtype='object')"
      ]
     },
     "execution_count": 57,
     "metadata": {},
     "output_type": "execute_result"
    }
   ],
   "source": [
    "feature_TG.columns"
   ]
  },
  {
   "cell_type": "code",
   "execution_count": 14,
   "id": "2e38261f",
   "metadata": {
    "ExecuteTime": {
     "end_time": "2023-11-12T07:10:02.979440Z",
     "start_time": "2023-11-12T07:10:02.207224Z"
    }
   },
   "outputs": [],
   "source": [
    "# Model instance , criterion, optimizer\n",
    "batch_size = 365\n",
    "\n",
    "input_dim = len(feature_TG.columns) # 피처 개수\n",
    "hidden_dim = 128 # \n",
    "output_dim = 1\n",
    "num_layers = 1\n",
    "\n",
    "model = LSTM(input_dim, hidden_dim, num_layers, output_dim)\n",
    "\n",
    "criterion = RMSELoss() # RMSE\n",
    "optimizer = optim.Adam(model.parameters(), lr=0.0002)"
   ]
  },
  {
   "cell_type": "code",
   "execution_count": 15,
   "id": "3cb95572",
   "metadata": {
    "ExecuteTime": {
     "end_time": "2023-11-12T07:10:04.040762Z",
     "start_time": "2023-11-12T07:10:04.016478Z"
    }
   },
   "outputs": [
    {
     "data": {
      "text/plain": [
       "(15230, 9)"
      ]
     },
     "execution_count": 15,
     "metadata": {},
     "output_type": "execute_result"
    }
   ],
   "source": [
    "feature_TG.shape"
   ]
  },
  {
   "cell_type": "code",
   "execution_count": 16,
   "id": "5bc80fe4",
   "metadata": {
    "ExecuteTime": {
     "end_time": "2023-11-12T07:10:05.388413Z",
     "start_time": "2023-11-12T07:10:05.359907Z"
    }
   },
   "outputs": [],
   "source": [
    "# pandas data >> tensor data\n",
    "X_train = feature_TG\n",
    "y_train = target_TG\n",
    "\n",
    "# X_train = feature_TG[:-1500]\n",
    "# X_val   = feature_TG[-1500:]\n",
    "# y_train = target_TG[:-1500]\n",
    "# y_val   = target_TG[-1500:]\n",
    "\n",
    "X_train_tensors = Variable(torch.Tensor(X_train.values)).unsqueeze(1)\n",
    "# X_val_tensors = Variable(torch.Tensor(X_val.values)).unsqueeze(1)\n",
    "y_train_tensors = Variable(torch.Tensor(y_train.values)).unsqueeze(1)\n",
    "# y_val_tensors = Variable(torch.Tensor(y_val.values)).unsqueeze(1)\n",
    "\n",
    "train_dataset = TensorDataset(X_train_tensors, y_train_tensors)\n",
    "# val_dataset = TensorDataset(X_val_tensors, y_val_tensors)\n",
    "train_loader = DataLoader(train_dataset, batch_size=batch_size,shuffle=False)\n",
    "# val_loader = DataLoader(val_dataset, batch_size=batch_size,shuffle=False)"
   ]
  },
  {
   "cell_type": "code",
   "execution_count": 17,
   "id": "5fe931c3",
   "metadata": {
    "ExecuteTime": {
     "end_time": "2023-11-12T07:11:52.627503Z",
     "start_time": "2023-11-12T07:10:07.050898Z"
    },
    "scrolled": true
   },
   "outputs": [
    {
     "name": "stdout",
     "output_type": "stream",
     "text": [
      "epoch : 20 , train_loss : 0.12137973876040152\n",
      "epoch : 40 , train_loss : 0.11896002286028799\n",
      "epoch : 60 , train_loss : 0.11594119259276753\n",
      "epoch : 80 , train_loss : 0.11849993876794883\n",
      "epoch : 100 , train_loss : 0.11457680167724486\n",
      "epoch : 120 , train_loss : 0.1142556601260848\n",
      "epoch : 140 , train_loss : 0.11429510883942921\n",
      "epoch : 160 , train_loss : 0.11440431531359706\n",
      "epoch : 180 , train_loss : 0.11476243123196882\n",
      "epoch : 200 , train_loss : 0.11453162918866502\n"
     ]
    }
   ],
   "source": [
    "# Train the model\n",
    "best_loss = float('inf')\n",
    "early_stopping_counter = 0\n",
    "train_losses = []\n",
    "val_losses = []\n",
    "epoch_counter = 0 # epoch 횟수 카운팅용\n",
    "epochs = 500 # 훈련 횟수\n",
    "patience = 50 # early_stopping 기준\n",
    "\n",
    "for epoch in range(epochs):\n",
    "    model.train() # 모델을 '학습 모드'로 설정\n",
    "    train_loss = 0\n",
    "    \n",
    "    for batch_x, batch_y in train_loader: # 미니 배치 학습\n",
    "        optimizer.zero_grad() # optimizer의 가중치를 초기화\n",
    "        output = model(batch_x) # 순전파 진행\n",
    "#         print('밖에서 본 output : ',output.size())\n",
    "        loss = criterion(output, batch_y) # 평가(손실 계산)\n",
    "        train_loss += loss.item() * batch_x.size(0) # 손실 누적\n",
    "        loss.backward() # 역전파 진행\n",
    "        optimizer.step() # 모델의 가중치 업데이트\n",
    "\n",
    "    average_train_loss = train_loss / len(train_loader.dataset)\t# 평균 손실값\n",
    "    train_losses.append(average_train_loss)\n",
    "    \n",
    "    if (epoch>0) & (epoch % 20 == 0) :\n",
    "        print(f'epoch : {epoch} , train_loss : {average_train_loss}')\n",
    "        \n",
    "    # Early Stopping\n",
    "    if average_train_loss < best_loss: \n",
    "        best_loss = average_train_loss \n",
    "        torch.save(model.state_dict(), '../models/lstm_tg_model.pth') #모델 저장\n",
    "        early_stopping_counter = 0 # 카운팅 초기화\n",
    "    else: \n",
    "        early_stopping_counter += 1 \n",
    "        if early_stopping_counter >= patience: \n",
    "            break # 학습 종료\n",
    "    \n",
    "#     model.eval() # 모델을 '평가 모드'로 설정\n",
    "    \n",
    "#     with torch.no_grad(): # 그래디언트 계산 비활성화\n",
    "#         val_loss = 0\n",
    "        \n",
    "#         for batch_x,batch_y in val_loader: \n",
    "#             batch_x = batch_x\n",
    "#             batch_y = batch_y\n",
    "#             output = model(batch_x) # 예측을 생성\n",
    "#             loss = criterion(output.unsqueeze(1), batch_y) # 손실 계산\n",
    "#             val_loss += loss.item() * batch_x.size(0) # 검증 손실 누적\n",
    "        \n",
    "#         average_val_loss = val_loss / len(val_loader.dataset) # 평균 검증 손실 계산\n",
    "#         val_losses.append(average_val_loss)\n",
    "        \n",
    "#         epoch_counter+=1\n",
    "#         if epoch_counter%20 == 0:\n",
    "#             print('Epoch: {}, train_loss: {:.4f}, val_loss: {:.4f}'.format(\n",
    "#                 epoch_counter, average_train_loss, average_val_loss))\n",
    "        \n"
   ]
  },
  {
   "cell_type": "code",
   "execution_count": 18,
   "id": "8fb80c64",
   "metadata": {
    "ExecuteTime": {
     "end_time": "2023-11-12T07:11:53.277912Z",
     "start_time": "2023-11-12T07:11:52.631502Z"
    }
   },
   "outputs": [
    {
     "data": {
      "image/png": "[encoded data removed]",
      "text/plain": [
       "<Figure size 1000x800 with 2 Axes>"
      ]
     },
     "metadata": {},
     "output_type": "display_data"
    }
   ],
   "source": [
    "# 시각화\n",
    "fig,axs = plt.subplots(2,1,figsize=(10,8))\n",
    "plt.subplots_adjust(top=1.5,bottom=0.1)\n",
    "# 기존 감귤\n",
    "length = range(len(X_train))\n",
    "axs[0].plot(length, TG_mms.inverse_transform(np.reshape(y_train,(-1,1))),color='green')\n",
    "predict = model(X_train_tensors).detach().numpy()\n",
    "axs[0].plot(length, TG_mms.inverse_transform(predict),color='orange')\n",
    "\n",
    "\n",
    "plt.show()"
   ]
  },
  {
   "cell_type": "code",
   "execution_count": null,
   "id": "fd83b8e6",
   "metadata": {},
   "outputs": [],
   "source": []
  },
  {
   "cell_type": "code",
   "execution_count": 95,
   "id": "55d4722d",
   "metadata": {
    "ExecuteTime": {
     "end_time": "2023-11-11T21:13:36.717761Z",
     "start_time": "2023-11-11T21:13:36.696340Z"
    }
   },
   "outputs": [
    {
     "data": {
      "text/plain": [
       "array([[1400.50531786],\n",
       "       [1601.11594079],\n",
       "       [2721.11422148],\n",
       "       [2838.79328682],\n",
       "       [2101.71285598],\n",
       "       [1520.1619077 ],\n",
       "       [1720.72081028],\n",
       "       [1549.6233463 ],\n",
       "       [2011.80481501],\n",
       "       [2919.18789889],\n",
       "       [2956.0274325 ],\n",
       "       [2357.52841065],\n",
       "       [1732.76386285],\n",
       "       [1503.29717867],\n",
       "       [1523.48914642],\n",
       "       [1552.00139195],\n",
       "       [2869.07742172],\n",
       "       [3090.78137973],\n",
       "       [2583.44150168],\n",
       "       [1918.7371591 ],\n",
       "       [1404.86867723],\n",
       "       [1647.12259505],\n",
       "       [1842.40399664],\n",
       "       [3029.49182911],\n",
       "       [3113.81157963],\n",
       "       [2918.68222341],\n",
       "       [2228.60219418],\n",
       "       [1591.77745754],\n",
       "       [1336.78942849],\n",
       "       [1626.70941375],\n",
       "       [2942.54649186],\n",
       "       [3064.45478638],\n",
       "       [2671.29319134],\n",
       "       [1862.13390848],\n",
       "       [1306.75361358],\n",
       "       [1391.58495937],\n",
       "       [1473.37243789],\n",
       "       [3220.55833367],\n",
       "       [3021.9827196 ],\n",
       "       [2943.58650711],\n",
       "       [1471.23087263],\n",
       "       [1579.26876603],\n",
       "       [1681.49559759],\n",
       "       [1794.02693015],\n",
       "       [3113.84055549],\n",
       "       [3130.75124085],\n",
       "       [3085.86233816],\n",
       "       [2659.09092733],\n",
       "       [1682.49090277],\n",
       "       [1801.06011897],\n",
       "       [1313.12175968],\n",
       "       [3352.36920598],\n",
       "       [3181.38826858],\n",
       "       [2957.01011917],\n",
       "       [2706.90732652],\n",
       "       [2033.7719436 ],\n",
       "       [1537.44600776],\n",
       "       [1597.45018303],\n",
       "       [2440.13780655],\n",
       "       [2528.02766334],\n",
       "       [1867.46889384],\n",
       "       [1785.80931415],\n",
       "       [1527.73457716],\n",
       "       [1590.45095517],\n",
       "       [1544.12509911],\n",
       "       [2743.10658711],\n",
       "       [2960.78103127],\n",
       "       [2196.84605446],\n",
       "       [1680.49795564],\n",
       "       [1436.7838726 ],\n",
       "       [1588.89124386],\n",
       "       [1728.57513756],\n",
       "       [2953.30152075],\n",
       "       [2972.82283756],\n",
       "       [2528.15571795],\n",
       "       [1972.20914751],\n",
       "       [1428.06837033],\n",
       "       [1488.1149189 ],\n",
       "       [1686.1373433 ],\n",
       "       [3078.09711944],\n",
       "       [3162.41281956],\n",
       "       [2965.60317507],\n",
       "       [2239.82706818],\n",
       "       [1812.01408426],\n",
       "       [1238.22103284],\n",
       "       [1099.67000178],\n",
       "       [2893.24328837],\n",
       "       [2977.37204747],\n",
       "       [2101.61455616],\n",
       "       [1896.45565802],\n",
       "       [1266.63980787],\n",
       "       [1284.61356454],\n",
       "       [1542.22281837],\n",
       "       [2969.68253987],\n",
       "       [3019.81389211],\n",
       "       [2747.67854151],\n",
       "       [1630.00954603],\n",
       "       [1726.72831599],\n",
       "       [1503.59628431],\n",
       "       [1401.61029512],\n",
       "       [2910.68582095],\n",
       "       [3060.15202706],\n",
       "       [2837.87852205],\n",
       "       [1690.70898613],\n",
       "       [1215.66690943],\n",
       "       [1593.18808338],\n",
       "       [1649.90895107],\n",
       "       [3166.77913883],\n",
       "       [3146.37078685],\n",
       "       [2876.90526569],\n",
       "       [2188.75368894],\n",
       "       [1600.71183661],\n",
       "       [1542.78784762],\n",
       "       [1575.00027923],\n",
       "       [1613.48925585],\n",
       "       [1709.46446787],\n",
       "       [1711.23978449],\n",
       "       [1462.30521748],\n",
       "       [1419.83844737],\n",
       "       [1815.3746608 ],\n",
       "       [1611.51874163],\n",
       "       [1966.22672306],\n",
       "       [1875.55658583],\n",
       "       [1953.40708631],\n",
       "       [1186.74713245],\n",
       "       [1341.24329847],\n",
       "       [1664.83946359],\n",
       "       [1845.79308169],\n",
       "       [2253.79249765],\n",
       "       [2055.76960589],\n",
       "       [1689.40320306],\n",
       "       [1803.80503639],\n",
       "       [1587.39259996],\n",
       "       [1647.78296423],\n",
       "       [1672.90581315],\n",
       "       [2665.86473547],\n",
       "       [2493.10443105],\n",
       "       [1964.93387007],\n",
       "       [1815.36998728],\n",
       "       [1458.58851828],\n",
       "       [1538.34161106],\n",
       "       [1586.00721116],\n",
       "       [2222.20772054],\n",
       "       [1946.1511261 ],\n",
       "       [1369.12087922],\n",
       "       [1431.97356839],\n",
       "       [1561.86564685],\n",
       "       [1531.98296779],\n",
       "       [1549.52520226],\n",
       "       [2325.88256614],\n",
       "       [2249.55236357],\n",
       "       [1628.45450824],\n",
       "       [1561.11461127],\n",
       "       [1928.33938499],\n",
       "       [1447.75512995],\n",
       "       [1358.84145946],\n",
       "       [2709.5048721 ],\n",
       "       [2634.52376062],\n",
       "       [1847.79272754],\n",
       "       [1661.73935822],\n",
       "       [1398.33181684],\n",
       "       [1533.72541396],\n",
       "       [1390.06139   ],\n",
       "       [3005.3247162 ],\n",
       "       [3040.25153153],\n",
       "       [2657.64275751],\n",
       "       [1591.94445819],\n",
       "       [1868.43522317],\n",
       "       [1576.51076274],\n",
       "       [1665.03606324],\n",
       "       [2747.83307943],\n",
       "       [2766.57329431],\n",
       "       [2049.4978902 ],\n",
       "       [1583.67652389],\n",
       "       [1510.26587283],\n",
       "       [1532.61202435],\n",
       "       [1567.0076156 ],\n",
       "       [2952.65065441],\n",
       "       [2889.41754024],\n",
       "       [2572.78383791],\n",
       "       [1652.81105474],\n",
       "       [1661.78952073],\n",
       "       [1470.95762716],\n",
       "       [1535.98054589],\n",
       "       [2933.52502944],\n",
       "       [3010.38707922],\n",
       "       [2800.59593821],\n",
       "       [2031.39872725],\n",
       "       [1883.27958704],\n",
       "       [1463.26562701],\n",
       "       [1589.34177174],\n",
       "       [3066.96883163],\n",
       "       [3055.27130839],\n",
       "       [3038.35657264],\n",
       "       [2226.44458315],\n",
       "       [1597.32898293],\n",
       "       [1548.26521973],\n",
       "       [1554.52899043],\n",
       "       [3007.95217234],\n",
       "       [3115.38001485],\n",
       "       [2898.51222123],\n",
       "       [1916.94595249],\n",
       "       [1473.04793942],\n",
       "       [1240.23750339],\n",
       "       [1632.3687418 ],\n",
       "       [2909.34015712],\n",
       "       [2947.00005028],\n",
       "       [3073.28774993],\n",
       "       [1929.8763518 ],\n",
       "       [1479.93718364],\n",
       "       [1535.79422799],\n",
       "       [1732.50837678],\n",
       "       [3003.80114682],\n",
       "       [3222.69008452],\n",
       "       [2991.45930018],\n",
       "       [2300.33987883],\n",
       "       [1875.22990639],\n",
       "       [1779.01603299],\n",
       "       [1195.30248858],\n",
       "       [3196.49653086],\n",
       "       [3134.24485709],\n",
       "       [3084.25402218],\n",
       "       [2929.07676768],\n",
       "       [1860.2152704 ],\n",
       "       [2114.31844526],\n",
       "       [2313.61175708],\n",
       "       [3731.04474078],\n",
       "       [3856.7622703 ],\n",
       "       [3904.307605  ],\n",
       "       [2777.18032822],\n",
       "       [2545.16236637],\n",
       "       [2355.03461734],\n",
       "       [2445.28398147],\n",
       "       [3886.69900647],\n",
       "       [3915.36360894],\n",
       "       [3855.21876055],\n",
       "       [2966.13377602],\n",
       "       [2651.65160914],\n",
       "       [2301.45716304],\n",
       "       [2516.83207677],\n",
       "       [3978.83974645],\n",
       "       [3686.61851713],\n",
       "       [3801.62650675],\n",
       "       [3850.44615611],\n",
       "       [2860.32640065],\n",
       "       [2534.25949828],\n",
       "       [2265.53956026],\n",
       "       [4033.4178026 ],\n",
       "       [4007.17502114],\n",
       "       [4212.0558445 ],\n",
       "       [3828.92457031],\n",
       "       [3402.11795226],\n",
       "       [2391.85265274],\n",
       "       [2352.90567061],\n",
       "       [3625.22085229],\n",
       "       [3865.68776967],\n",
       "       [3840.00300717],\n",
       "       [3489.46022762],\n",
       "       [2618.82445312],\n",
       "       [2504.68729712],\n",
       "       [2249.31307906],\n",
       "       [3884.25911449],\n",
       "       [3657.86262512],\n",
       "       [4135.9072863 ],\n",
       "       [3777.37651664],\n",
       "       [3082.35532448],\n",
       "       [2541.01944163],\n",
       "       [2371.43666732],\n",
       "       [3588.34019165],\n",
       "       [3663.0003877 ],\n",
       "       [3750.41494693],\n",
       "       [3574.85520062],\n",
       "       [3333.43924595],\n",
       "       [2659.29313521],\n",
       "       [2403.70440232],\n",
       "       [4173.61578412],\n",
       "       [4146.04416353],\n",
       "       [4067.40305829],\n",
       "       [4028.72838692],\n",
       "       [3617.33256406]])"
      ]
     },
     "execution_count": 95,
     "metadata": {},
     "output_type": "execute_result"
    }
   ],
   "source": [
    "# test_TG 예측\n",
    "feature_te_TG_tensors = Variable(torch.Tensor(feature_te_TG.values)).unsqueeze(1)\n",
    "\n",
    "pred_test_TG = model(feature_te_TG_tensors).detach()\n",
    "\n",
    "pred_test_TG_inverse = TG_mms.inverse_transform(pred_test_TG)\n",
    "pred_test_TG_inverse"
   ]
  },
  {
   "cell_type": "code",
   "execution_count": null,
   "id": "167a6b77",
   "metadata": {},
   "outputs": [],
   "source": []
  },
  {
   "cell_type": "code",
   "execution_count": null,
   "id": "a88c321c",
   "metadata": {},
   "outputs": [],
   "source": []
  },
  {
   "cell_type": "code",
   "execution_count": null,
   "id": "f7d31ce9",
   "metadata": {},
   "outputs": [],
   "source": []
  },
  {
   "cell_type": "code",
   "execution_count": null,
   "id": "ffce5560",
   "metadata": {},
   "outputs": [],
   "source": []
  },
  {
   "cell_type": "markdown",
   "id": "b8a50e53",
   "metadata": {},
   "source": [
    "아래부터는 feature_rest, target_rest로 학습 및 예측"
   ]
  },
  {
   "cell_type": "code",
   "execution_count": 96,
   "id": "cfc64565",
   "metadata": {
    "ExecuteTime": {
     "end_time": "2023-11-11T21:13:48.476600Z",
     "start_time": "2023-11-11T21:13:48.457383Z"
    }
   },
   "outputs": [],
   "source": [
    "from sklearn.metrics import make_scorer\n",
    "from sklearn.metrics import mean_squared_error\n",
    "from sklearn.model_selection import cross_val_score\n",
    "import lightgbm as lgb\n",
    "\n",
    "def get_MSE(feature,target):\n",
    "    # MSE를 스코어링 함수로 정의\n",
    "    mse_scorer = make_scorer(mean_squared_error, greater_is_better=False)\n",
    "\n",
    "    # LightGBM 모델 초기화\n",
    "    model = lgb.LGBMRegressor(verbose = -1,force_col_wise = True)\n",
    "    # force_col_wise = 메모리 이슈로 도중에 row-wise 탐색으로 바뀌는 것을 방지\n",
    "\n",
    "    # 교차 검증 수행\n",
    "    cross_val_scores = -cross_val_score(model, feature, target, cv=5, scoring=mse_scorer)\n",
    "    rmse = np.sqrt(cross_val_scores)\n",
    "\n",
    "    # 교차 검증 스코어 출력\n",
    "    print(\"MAE scores for each fold:\", rmse)  # Negative values are used because cross_val_score returns negated scores\n",
    "    print(\"Mean MAE:\", rmse.mean())"
   ]
  },
  {
   "cell_type": "code",
   "execution_count": 97,
   "id": "d9e995d8",
   "metadata": {
    "ExecuteTime": {
     "end_time": "2023-11-11T21:13:50.284801Z",
     "start_time": "2023-11-11T21:13:49.455612Z"
    }
   },
   "outputs": [
    {
     "name": "stdout",
     "output_type": "stream",
     "text": [
      "MAE scores for each fold: [ 463.0224741   370.18996645  343.47780897 1053.67303197  942.78706218]\n",
      "Mean MAE: 634.6300687330363\n"
     ]
    }
   ],
   "source": [
    "get_MSE(feature_rest,target_rest)"
   ]
  },
  {
   "cell_type": "code",
   "execution_count": 98,
   "id": "4e23ca63",
   "metadata": {
    "ExecuteTime": {
     "end_time": "2023-11-11T21:13:50.364034Z",
     "start_time": "2023-11-11T21:13:50.344324Z"
    }
   },
   "outputs": [],
   "source": [
    "def lbgm_feature_importance(feature,target):\n",
    "    # LightGBM 모델 초기화\n",
    "    model = lgb.LGBMRegressor(verbose = 0,force_col_wise=True)\n",
    "\n",
    "    # 모델을 학습 , 중요도 계산\n",
    "    model.fit(feature, target)\n",
    "\n",
    "    # 피쳐 중요도 가져오기\n",
    "    feature_importance = model.feature_importances_\n",
    "\n",
    "    # 중요도가 높은 상위 20개 피쳐 인덱스 가져오기\n",
    "    top_20_feature_indices = feature_importance.argsort()[-25:][::-1]\n",
    "\n",
    "    # 상위 20개 피쳐의 중요도 가져오기\n",
    "    top_20_feature_importance = feature_importance[top_20_feature_indices]\n",
    "\n",
    "    # 상위 20개 피쳐의 이름 가져오기\n",
    "    top_20_feature_names = feature.columns[top_20_feature_indices]\n",
    "\n",
    "    # 중요도 시각화\n",
    "    plt.figure(figsize=(10, 6))\n",
    "    plt.barh(top_20_feature_names, top_20_feature_importance)\n",
    "    plt.xlabel('Feature Importance')\n",
    "    plt.title('Top 20 Feature Importance')\n",
    "    plt.show()\n",
    "    \n",
    "    return top_20_feature_importance,top_20_feature_names"
   ]
  },
  {
   "cell_type": "code",
   "execution_count": 99,
   "id": "738b166c",
   "metadata": {
    "ExecuteTime": {
     "end_time": "2023-11-11T21:13:51.490205Z",
     "start_time": "2023-11-11T21:13:51.128524Z"
    }
   },
   "outputs": [
    {
     "data": {
      "image/png": "[encoded data removed]",
      "text/plain": [
       "<Figure size 1000x600 with 1 Axes>"
      ]
     },
     "metadata": {},
     "output_type": "display_data"
    }
   ],
   "source": [
    "top_20_feature_importance,top_20_feature_names = lbgm_feature_importance(feature_rest,target_rest)"
   ]
  },
  {
   "cell_type": "code",
   "execution_count": 100,
   "id": "b20b95d0",
   "metadata": {
    "ExecuteTime": {
     "end_time": "2023-11-11T21:13:52.097407Z",
     "start_time": "2023-11-11T21:13:52.080446Z"
    }
   },
   "outputs": [
    {
     "data": {
      "text/plain": [
       "(array([858, 529, 415, 359, 305, 257, 221,  52,   4]),\n",
       " Index(['date', 'year', 'corporation', 'item', 'week', 'day', 'location',\n",
       "        'month', 'weekend'],\n",
       "       dtype='object'))"
      ]
     },
     "execution_count": 100,
     "metadata": {},
     "output_type": "execute_result"
    }
   ],
   "source": [
    "top_20_feature_importance, top_20_feature_names"
   ]
  },
  {
   "cell_type": "code",
   "execution_count": 101,
   "id": "63b9572f",
   "metadata": {
    "ExecuteTime": {
     "end_time": "2023-11-11T21:13:52.891255Z",
     "start_time": "2023-11-11T21:13:52.871745Z"
    }
   },
   "outputs": [],
   "source": [
    "# 피처 선택\n",
    "# 2가지 버전 준비 \n",
    "# 1. 피처 선택 버전\n",
    "threshold = 150\n",
    "low_importance_features_name = list(top_20_feature_names[np.where(top_20_feature_importance<150)[0]])\n",
    "feature_rest_selected = feature_rest.drop(columns=low_importance_features_name)\n",
    "feature_te_rest_selected = feature_te_rest.drop(columns=low_importance_features_name)\n",
    "# 2. 모든 피처로 학습 >> feature, feature_te 그대로 사용"
   ]
  },
  {
   "cell_type": "code",
   "execution_count": 102,
   "id": "efa41cc2",
   "metadata": {
    "ExecuteTime": {
     "end_time": "2023-11-11T21:13:54.779215Z",
     "start_time": "2023-11-11T21:13:53.856113Z"
    }
   },
   "outputs": [
    {
     "name": "stdout",
     "output_type": "stream",
     "text": [
      "MAE scores for each fold: [ 451.34364393  370.55940005  348.68843382 1050.39407015  937.47196615]\n",
      "Mean MAE: 631.6915028198136\n"
     ]
    }
   ],
   "source": [
    "# 1. 피처 선택 버전 \n",
    "# MSE 확인\n",
    "get_MSE(feature_rest_selected,target_rest)\n",
    "# 모델 학습 (아직 튜닝 미완료)\n",
    "v1_lgbm_model = lgb.LGBMRegressor(force_col_wise=True)\n",
    "v1_lgbm_model.fit(feature_rest_selected,target_rest)\n",
    "v1_pred = v1_lgbm_model.predict(feature_te_rest_selected)"
   ]
  },
  {
   "cell_type": "code",
   "execution_count": 137,
   "id": "5282d70d",
   "metadata": {
    "ExecuteTime": {
     "end_time": "2023-11-11T21:30:04.742014Z",
     "start_time": "2023-11-11T21:30:03.798943Z"
    }
   },
   "outputs": [
    {
     "name": "stdout",
     "output_type": "stream",
     "text": [
      "MAE scores for each fold: [ 463.0224741   370.18996645  343.47780897 1053.67303197  942.78706218]\n",
      "Mean MAE: 634.6300687330363\n"
     ]
    }
   ],
   "source": [
    "# 2. 피처 선택 버전 \n",
    "# MSE 확인\n",
    "get_MSE(feature_rest,target_rest)\n",
    "# 모델 학습 (아직 튜닝 미완료)\n",
    "v2_lgbm_model = lgb.LGBMRegressor(force_col_wise=True)\n",
    "v2_lgbm_model.fit(feature_rest,target_rest)\n",
    "v2_pred = v2_lgbm_model.predict(feature_te_rest)"
   ]
  },
  {
   "cell_type": "code",
   "execution_count": 138,
   "id": "aa207430",
   "metadata": {
    "ExecuteTime": {
     "end_time": "2023-11-11T21:30:08.694641Z",
     "start_time": "2023-11-11T21:30:08.679619Z"
    }
   },
   "outputs": [],
   "source": [
    "final_pred = np.concatenate([pred_test_TG_inverse.reshape(-1),\n",
    "              v2_pred])"
   ]
  },
  {
   "cell_type": "code",
   "execution_count": 140,
   "id": "0a12c493",
   "metadata": {
    "ExecuteTime": {
     "end_time": "2023-11-11T21:30:12.551893Z",
     "start_time": "2023-11-11T21:30:12.527369Z"
    },
    "scrolled": true
   },
   "outputs": [
    {
     "data": {
      "text/html": [
       "<div>\n",
       "<style scoped>\n",
       "    .dataframe tbody tr th:only-of-type {\n",
       "        vertical-align: middle;\n",
       "    }\n",
       "\n",
       "    .dataframe tbody tr th {\n",
       "        vertical-align: top;\n",
       "    }\n",
       "\n",
       "    .dataframe thead th {\n",
       "        text-align: right;\n",
       "    }\n",
       "</style>\n",
       "<table border=\"1\" class=\"dataframe\">\n",
       "  <thead>\n",
       "    <tr style=\"text-align: right;\">\n",
       "      <th></th>\n",
       "      <th>ID</th>\n",
       "      <th>answer</th>\n",
       "    </tr>\n",
       "  </thead>\n",
       "  <tbody>\n",
       "    <tr>\n",
       "      <th>0</th>\n",
       "      <td>TG_A_J_20230304</td>\n",
       "      <td>1400.505318</td>\n",
       "    </tr>\n",
       "    <tr>\n",
       "      <th>1</th>\n",
       "      <td>TG_A_J_20230305</td>\n",
       "      <td>1601.115941</td>\n",
       "    </tr>\n",
       "    <tr>\n",
       "      <th>2</th>\n",
       "      <td>TG_A_J_20230306</td>\n",
       "      <td>2721.114221</td>\n",
       "    </tr>\n",
       "    <tr>\n",
       "      <th>3</th>\n",
       "      <td>TG_A_J_20230307</td>\n",
       "      <td>2838.793287</td>\n",
       "    </tr>\n",
       "    <tr>\n",
       "      <th>4</th>\n",
       "      <td>TG_A_J_20230308</td>\n",
       "      <td>2101.712856</td>\n",
       "    </tr>\n",
       "    <tr>\n",
       "      <th>...</th>\n",
       "      <td>...</td>\n",
       "      <td>...</td>\n",
       "    </tr>\n",
       "    <tr>\n",
       "      <th>1087</th>\n",
       "      <td>RD_F_J_20230327</td>\n",
       "      <td>536.137093</td>\n",
       "    </tr>\n",
       "    <tr>\n",
       "      <th>1088</th>\n",
       "      <td>RD_F_J_20230328</td>\n",
       "      <td>498.531722</td>\n",
       "    </tr>\n",
       "    <tr>\n",
       "      <th>1089</th>\n",
       "      <td>RD_F_J_20230329</td>\n",
       "      <td>498.531722</td>\n",
       "    </tr>\n",
       "    <tr>\n",
       "      <th>1090</th>\n",
       "      <td>RD_F_J_20230330</td>\n",
       "      <td>498.531722</td>\n",
       "    </tr>\n",
       "    <tr>\n",
       "      <th>1091</th>\n",
       "      <td>RD_F_J_20230331</td>\n",
       "      <td>496.818836</td>\n",
       "    </tr>\n",
       "  </tbody>\n",
       "</table>\n",
       "<p>1092 rows × 2 columns</p>\n",
       "</div>"
      ],
      "text/plain": [
       "                   ID       answer\n",
       "0     TG_A_J_20230304  1400.505318\n",
       "1     TG_A_J_20230305  1601.115941\n",
       "2     TG_A_J_20230306  2721.114221\n",
       "3     TG_A_J_20230307  2838.793287\n",
       "4     TG_A_J_20230308  2101.712856\n",
       "...               ...          ...\n",
       "1087  RD_F_J_20230327   536.137093\n",
       "1088  RD_F_J_20230328   498.531722\n",
       "1089  RD_F_J_20230329   498.531722\n",
       "1090  RD_F_J_20230330   498.531722\n",
       "1091  RD_F_J_20230331   496.818836\n",
       "\n",
       "[1092 rows x 2 columns]"
      ]
     },
     "execution_count": 140,
     "metadata": {},
     "output_type": "execute_result"
    }
   ],
   "source": [
    "# TG 랑 rest 예측값 합치기\n",
    "# origin_index\n",
    "# -  org_test_TG_index\n",
    "# -  org_test_rest_index\n",
    "sample_submission = pd.read_csv('../data/sample_submission.csv')\n",
    "sample_submission['answer'] = final_pred\n",
    "\n",
    "sample_submission"
   ]
  },
  {
   "cell_type": "code",
   "execution_count": 143,
   "id": "2cc3ed92",
   "metadata": {
    "ExecuteTime": {
     "end_time": "2023-11-11T21:32:01.288927Z",
     "start_time": "2023-11-11T21:32:01.276797Z"
    }
   },
   "outputs": [],
   "source": [
    "# sample_submission으로 저장하기\n",
    "# sample_submission.set_index('ID',inplace=True)\n",
    "sample_submission.to_csv('../data/song9_sumbit_231112.csv')"
   ]
  },
  {
   "cell_type": "code",
   "execution_count": null,
   "id": "0fb91f1e",
   "metadata": {},
   "outputs": [],
   "source": []
  },
  {
   "cell_type": "code",
   "execution_count": null,
   "id": "0519ddae",
   "metadata": {},
   "outputs": [],
   "source": []
  },
  {
   "cell_type": "code",
   "execution_count": null,
   "id": "ca7196ae",
   "metadata": {
    "ExecuteTime": {
     "end_time": "2023-11-03T04:28:03.107335Z",
     "start_time": "2023-11-03T04:28:03.091339Z"
    }
   },
   "outputs": [],
   "source": []
  },
  {
   "cell_type": "code",
   "execution_count": null,
   "id": "5ffd6888",
   "metadata": {},
   "outputs": [],
   "source": []
  },
  {
   "cell_type": "code",
   "execution_count": null,
   "id": "944babe1",
   "metadata": {},
   "outputs": [],
   "source": []
  },
  {
   "cell_type": "code",
   "execution_count": null,
   "id": "447ad714",
   "metadata": {},
   "outputs": [],
   "source": []
  },
  {
   "cell_type": "code",
   "execution_count": null,
   "id": "11a802e6",
   "metadata": {},
   "outputs": [],
   "source": []
  },
  {
   "cell_type": "code",
   "execution_count": null,
   "id": "062c1b58",
   "metadata": {},
   "outputs": [],
   "source": []
  },
  {
   "cell_type": "code",
   "execution_count": null,
   "id": "7d4432ad",
   "metadata": {},
   "outputs": [],
   "source": []
  }
 ],
 "metadata": {
  "kernelspec": {
   "display_name": "Python 3 (ipykernel)",
   "language": "python",
   "name": "python3"
  },
  "language_info": {
   "codemirror_mode": {
    "name": "ipython",
    "version": 3
   },
   "file_extension": ".py",
   "mimetype": "text/x-python",
   "name": "python",
   "nbconvert_exporter": "python",
   "pygments_lexer": "ipython3",
   "version": "3.9.6"
  },
  "toc": {
   "base_numbering": 1,
   "nav_menu": {},
   "number_sections": false,
   "sideBar": true,
   "skip_h1_title": false,
   "title_cell": "Table of Contents",
   "title_sidebar": "Contents",
   "toc_cell": false,
   "toc_position": {},
   "toc_section_display": true,
   "toc_window_display": false
  }
 },
 "nbformat": 4,
 "nbformat_minor": 5
}
