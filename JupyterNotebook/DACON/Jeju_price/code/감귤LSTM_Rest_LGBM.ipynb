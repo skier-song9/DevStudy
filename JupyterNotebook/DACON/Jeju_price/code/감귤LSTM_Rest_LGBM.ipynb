{
 "cells": [
  {
   "cell_type": "code",
   "execution_count": 1,
   "id": "5ff7bcbd",
   "metadata": {
    "ExecuteTime": {
     "end_time": "2023-11-04T03:13:48.477600Z",
     "start_time": "2023-11-04T03:13:37.740168Z"
    }
   },
   "outputs": [],
   "source": [
    "import pandas as pd\n",
    "from pandas import Series, DataFrame\n",
    "import numpy as np\n",
    "import category_encoders as ce\n",
    "\n",
    "# Visualization\n",
    "import matplotlib.pylab as plt\n",
    "from matplotlib import font_manager, rc\n",
    "import seaborn as sns\n",
    "%matplotlib inline\n",
    "\n",
    "# Preprocessing & Feature Engineering\n",
    "from sklearn.model_selection import train_test_split\n",
    "from sklearn.preprocessing import MinMaxScaler, LabelEncoder\n",
    "from sklearn.impute import SimpleImputer \n",
    "from sklearn.preprocessing import StandardScaler\n",
    "from sklearn.preprocessing import MinMaxScaler\n",
    "from sklearn.preprocessing import PowerTransformer\n",
    "from sklearn.feature_selection import SelectPercentile\n",
    "\n",
    "# Hyperparameter Optimization\n",
    "from sklearn.model_selection import GridSearchCV\n",
    "from sklearn.model_selection import RandomizedSearchCV\n",
    "\n",
    "# Modeling\n",
    "from sklearn.dummy import DummyClassifier\n",
    "from sklearn.linear_model import LogisticRegression\n",
    "from sklearn.neighbors import KNeighborsClassifier\n",
    "from sklearn.ensemble import RandomForestClassifier\n",
    "from sklearn.neural_network import MLPClassifier\n",
    "from sklearn.tree import DecisionTreeClassifier\n",
    "from sklearn.ensemble import ExtraTreesClassifier\n",
    "from sklearn.ensemble import GradientBoostingClassifier\n",
    "from xgboost import XGBClassifier\n",
    "from lightgbm import LGBMClassifier\n",
    "from sklearn.svm import SVC\n",
    "from sklearn.ensemble import VotingClassifier\n",
    "from sklearn.ensemble import StackingClassifier\n",
    "from sklearn.base import ClassifierMixin\n",
    "\n",
    "# PyTorch\n",
    "import torch\n",
    "from torch.utils.data import Dataset, DataLoader, TensorDataset\n",
    "import torch.nn as nn\n",
    "import torch.nn.functional as F\n",
    "import torch.optim as optim\n",
    "from torch.autograd import Variable\n",
    "from torch.nn import Parameter\n",
    "from torch import Tensor\n",
    "from torch.utils.data import DataLoader\n",
    "\n",
    "# Evaluation\n",
    "from sklearn.metrics import roc_auc_score\n",
    "from sklearn.metrics import accuracy_score\n",
    "from sklearn.model_selection import cross_val_score\n",
    "from sklearn.metrics import log_loss\n",
    "\n",
    "# Utility\n",
    "import os\n",
    "import time\n",
    "import datetime\n",
    "import random\n",
    "import warnings; warnings.filterwarnings(\"ignore\")\n",
    "from IPython.display import Image\n",
    "import pickle\n",
    "from tqdm import tqdm\n",
    "import platform\n",
    "from itertools import combinations\n",
    "from scipy.stats.mstats import gmean\n",
    "\n",
    "from bayes_opt import BayesianOptimization\n",
    "from num2words import num2words\n",
    "import statsmodels.api as sm\n",
    "import statsmodels.formula.api as smf\n",
    "from statsmodels.stats.outliers_influence import OLSInfluence"
   ]
  },
  {
   "cell_type": "code",
   "execution_count": 2,
   "id": "69cfe188",
   "metadata": {
    "ExecuteTime": {
     "end_time": "2023-11-04T03:13:48.648376Z",
     "start_time": "2023-11-04T03:13:48.483603Z"
    }
   },
   "outputs": [],
   "source": [
    "train = pd.read_csv('../data/train.csv')\n",
    "test = pd.read_csv('../data/test.csv')\n",
    "international_trade = pd.read_csv('../data/international_trade.csv')\n",
    "train.drop(columns = 'ID', inplace = True)\n",
    "test.drop(columns = 'ID', inplace = True)"
   ]
  },
  {
   "cell_type": "code",
   "execution_count": 3,
   "id": "82c648c1",
   "metadata": {
    "ExecuteTime": {
     "end_time": "2023-11-04T03:13:50.545522Z",
     "start_time": "2023-11-04T03:13:50.533368Z"
    }
   },
   "outputs": [
    {
     "data": {
      "text/plain": [
       "Index(['timestamp', 'item', 'corporation', 'location', 'supply', 'price'], dtype='object')"
      ]
     },
     "execution_count": 3,
     "metadata": {},
     "output_type": "execute_result"
    }
   ],
   "source": [
    "train = train.rename(columns={'supply(kg)':'supply','price(원/kg)':'price'})\n",
    "train.columns"
   ]
  },
  {
   "cell_type": "code",
   "execution_count": 4,
   "id": "719a8693",
   "metadata": {
    "ExecuteTime": {
     "end_time": "2023-11-04T03:13:52.762202Z",
     "start_time": "2023-11-04T03:13:51.843877Z"
    }
   },
   "outputs": [],
   "source": [
    "# 시계열 데이터 처리\n",
    "train.timestamp = pd.to_datetime(train.timestamp)\n",
    "test.timestamp = pd.to_datetime(test.timestamp)\n",
    "\n",
    "########### test 데이터 supply 컬럼 추가\n",
    "# test['supply'] = np.zeros((len(test),1))\n",
    "# def find_lastyear_supply(row):\n",
    "#     # date1 : 1년 전 같은 datetime\n",
    "#     date1 = pd.to_datetime(f'{row[\"timestamp\"].year-1}-{row[\"timestamp\"].month}-{row[\"timestamp\"].day}').date()\n",
    "#     # date2 : 2년 전 같은 datetime\n",
    "#     date2 = pd.to_datetime(f'{row[\"timestamp\"].year-2}-{row[\"timestamp\"].month}-{row[\"timestamp\"].day}').date()\n",
    "# #     print(date)\n",
    "#     # 1,2년 전 같은 날짜 & 유통업체 & 지역 & 품목의 supply 평균값으로 test에 supply컬럼 추가\n",
    "#     row['supply'] = train[((train['timestamp'].dt.date==date1)|(train['timestamp'].dt.date==date2))&\n",
    "#                             (train['corporation']==row['corporation'])&\n",
    "#                             (train['location']==row['location']) &\n",
    "#                             (train['item']==row['item'])]['supply'].sum()\n",
    "# #     print(row['supply'])\n",
    "#     return row\n",
    "# test = test.apply(find_lastyear_supply,axis=1)\n",
    "########### test 데이터 supply 컬럼 추가 -END-\n",
    "\n",
    "# year\n",
    "train['year'] = train.timestamp.dt.year\n",
    "test['year'] = test.timestamp.dt.year\n",
    "\n",
    "# month\n",
    "train['month'] = train.timestamp.dt.month\n",
    "test['month'] = test.timestamp.dt.month\n",
    "\n",
    "# day\n",
    "train['day'] = train.timestamp.dt.day\n",
    "test['day'] = test.timestamp.dt.day\n",
    "\n",
    "# week\n",
    "train['week'] = train.timestamp.dt.dayofweek\n",
    "test['week'] = test.timestamp.dt.dayofweek\n",
    "\n",
    "# 주말여부\n",
    "train['weekend'] = train.week.apply(lambda x : 1 if x in [1,2] else 0)\n",
    "test['weekend'] = test.week.apply(lambda x : 1 if x in [1,2] else 0)\n",
    "\n",
    "# date (월-일)\n",
    "train['date'] = train.timestamp.apply(lambda x : int(str(x)[5:7] + str(x)[8:10]))\n",
    "test['date'] = test.timestamp.apply(lambda x : int(str(x)[5:7] + str(x)[8:10]))\n",
    "\n",
    "# year_month\n",
    "train['year_month'] = train.timestamp.apply(lambda x : str(x)[0:7])\n",
    "test['year_month'] = test.timestamp.apply(lambda x : str(x)[0:7])"
   ]
  },
  {
   "cell_type": "code",
   "execution_count": 5,
   "id": "c137fc9d",
   "metadata": {
    "ExecuteTime": {
     "end_time": "2023-11-04T03:13:53.932548Z",
     "start_time": "2023-11-04T03:13:53.927196Z"
    }
   },
   "outputs": [],
   "source": [
    "# test에 supply 잘 들어갔는지 확인\n",
    "# print(test[(test['timestamp']=='2023-03-27')&(test['item']=='RD')&(test['corporation']=='F')&(test['location']=='J')]['supply'])\n",
    "# print(train[(train['timestamp']=='2021-03-27')&(train['item']=='RD')&(train['corporation']=='F')&(train['location']=='J')]['supply'])\n",
    "# print(train[(train['timestamp']=='2022-03-27')&(train['item']=='RD')&(train['corporation']=='F')&(train['location']=='J')]['supply'])"
   ]
  },
  {
   "cell_type": "code",
   "execution_count": 6,
   "id": "d3afb9b9",
   "metadata": {
    "ExecuteTime": {
     "end_time": "2023-11-04T03:13:54.668945Z",
     "start_time": "2023-11-04T03:13:54.646795Z"
    }
   },
   "outputs": [],
   "source": [
    "# 감귤과 나머지로 데이터프레임 구분\n",
    "tg_train_index = train[train['item']=='TG'].index\n",
    "train_TG = train.iloc[tg_train_index,:]\n",
    "train_rest = train.drop(index=tg_train_index,axis=0)\n",
    "\n",
    "tg_test_index = test[test['item']=='TG'].index\n",
    "test_TG = test.iloc[tg_test_index,:]\n",
    "test_rest = test.drop(index=tg_test_index,axis=0)\n",
    "\n",
    "## 후에 사용할 test 데이터셋의 인덱스를 미리 저장\n",
    "org_test_TG_index = test_TG.index\n",
    "org_test_rest_index = test_rest.index"
   ]
  },
  {
   "cell_type": "code",
   "execution_count": 7,
   "id": "71b49f35",
   "metadata": {
    "ExecuteTime": {
     "end_time": "2023-11-04T03:13:57.383275Z",
     "start_time": "2023-11-04T03:13:57.166187Z"
    }
   },
   "outputs": [],
   "source": [
    "# Encoding \n",
    "encoders_TG = {}\n",
    "for col in ['item','corporation']:\n",
    "    encoder = ce.TargetEncoder()\n",
    "    train_TG[col] = encoder.fit_transform(train_TG[col],train_TG['price'])\n",
    "    test_TG[col] = encoder.transform(test_TG[col])\n",
    "    encoders_TG[col] = encoder\n",
    "encoder = LabelEncoder()\n",
    "train_TG['location'] = encoder.fit_transform(train_TG['location'])\n",
    "test_TG['location'] = encoder.transform(test_TG['location'])\n",
    "encoders_TG['location'] = encoder\n",
    "\n",
    "encoders_rest = {}\n",
    "for col in ['item','corporation']:\n",
    "    encoder = ce.TargetEncoder()\n",
    "    train_rest[col] = encoder.fit_transform(train_rest[col],train_rest['price'])\n",
    "    test_rest[col] = encoder.transform(test_rest[col])\n",
    "    encoders_rest[col] = encoder\n",
    "encoder = LabelEncoder()\n",
    "train_rest['location'] = encoder.fit_transform(train_rest['location'])\n",
    "test_rest['location'] = encoder.transform(test_rest['location'])\n",
    "encoders_rest['location'] = encoder"
   ]
  },
  {
   "cell_type": "code",
   "execution_count": 62,
   "id": "ff39dfb3",
   "metadata": {
    "ExecuteTime": {
     "end_time": "2023-11-04T07:47:22.273538Z",
     "start_time": "2023-11-04T07:47:22.234197Z"
    }
   },
   "outputs": [],
   "source": [
    "# drop unnecessary cols, define features and target\n",
    "train_TG_ = train_TG.drop(columns = ['timestamp', 'year_month'])\n",
    "train_rest_ = train_rest.drop(columns = ['timestamp', 'year_month'])\n",
    "test_TG_ = test_TG.drop(columns = ['timestamp', 'year_month'])\n",
    "test_rest_ = test_rest.drop(columns = ['timestamp', 'year_month'])\n",
    "\n",
    "feature_TG = train_TG_.drop(columns=['supply','price']) # 피처에 supply 미포함\n",
    "feature_te_TG = test_TG_ #.drop(columns=['supply'])  피처에 supply 미포함\n",
    "feature_rest = train_rest_.drop(columns=['supply','price']) \n",
    "feature_te_rest = test_rest_ #.drop(columns=['supply']) \n",
    "# feature = train_.drop(columns=['price']) # 피처에 supply 포함하는 버전\n",
    "# feature_te = test_\n",
    "target_TG = train_TG_.price\n",
    "target_rest = train_rest_.price"
   ]
  },
  {
   "cell_type": "markdown",
   "id": "f737970d",
   "metadata": {},
   "source": [
    "여기서부터 lgbm전까지는 feature_TG, target_TG로 LSTM모델을 사용하여 학습 및 예측\n",
    "<br/>\n",
    "참고 : https://github.com/jungsungmoon/nongsan#eda"
   ]
  },
  {
   "cell_type": "code",
   "execution_count": 45,
   "id": "e3c109cc",
   "metadata": {
    "ExecuteTime": {
     "end_time": "2023-11-04T07:35:18.334427Z",
     "start_time": "2023-11-04T07:35:18.292836Z"
    }
   },
   "outputs": [
    {
     "name": "stdout",
     "output_type": "stream",
     "text": [
      "True\n",
      "NVIDIA GeForce RTX 3050 Ti Laptop GPU\n",
      "1\n"
     ]
    }
   ],
   "source": [
    "print(torch.cuda.is_available())\n",
    "device = torch.device('cuda:0') if torch.cuda.is_available() else torch.device('cpu')\n",
    "print(torch.cuda.get_device_name())\n",
    "print(torch.cuda.device_count())"
   ]
  },
  {
   "cell_type": "code",
   "execution_count": 74,
   "id": "551fa389",
   "metadata": {
    "ExecuteTime": {
     "end_time": "2023-11-04T07:52:00.274422Z",
     "start_time": "2023-11-04T07:52:00.255705Z"
    }
   },
   "outputs": [],
   "source": [
    "# define LSTM Model\n",
    "class LSTM(nn.Module):\n",
    "    def __init__(self, input_dim, hidden_dim, output_dim,num_layers):\n",
    "        super(LSTM,self).__init__()\n",
    "        self.input_dim = input_dim,\n",
    "        self.hidden_dim = hidden_dim\n",
    "        self.output_dim = output_dim\n",
    "        self.num_layers = num_layers\n",
    "        \n",
    "        self.lstm = nn.LSTM(input_dim, hidden_dim, num_layers, \n",
    "                           batch_first=True).to(device)\n",
    "        self.pool = nn.AdaptiveAvgPool2d((1,1)).to(device)\n",
    "        self.fc0 = nn.Linear(num_layers,hidden_dim)\n",
    "        self.fc1 = nn.Linear(hidden_dim, 32).to(device)\n",
    "        self.fc2 = nn.Linear(32,output_dim).to(device)\n",
    "        self.dropout = nn.Dropout(0.2).to(device)\n",
    "        \n",
    "    def forward(self, x):\n",
    "        # lstm 셀 및 가중치 초기화\n",
    "        h_0 = Variable(torch.zeros(self.num_layers,x.size(0),self.hidden_dim)).to(device)\n",
    "        c_0 = Variable(torch.zeros(self.num_layers,x.size(0),self.hidden_dim)).to(device)\n",
    "        \n",
    "        out,(hn,cn) = self.lstm(x, (h_0,c_0))\n",
    "        out = self.pool(hn)\n",
    "        print(out.size())\n",
    "#         hn_ = hn.view(-1,self.hidden_dim)\n",
    "        out = self.fc1(out)\n",
    "        out = self.dropout(out)\n",
    "        out = self.fc2(out)\n",
    "        return out\n",
    "    \n",
    "class RMSELoss(nn.Module):\n",
    "    def __init__(self):\n",
    "        super().__init__()\n",
    "        self.mse = nn.MSELoss()\n",
    "        \n",
    "    def forward(self,yhat,y):\n",
    "        return torch.sqrt(self.mse(yhat,y))"
   ]
  },
  {
   "cell_type": "code",
   "execution_count": 64,
   "id": "af2d6cb7",
   "metadata": {
    "ExecuteTime": {
     "end_time": "2023-11-04T07:47:47.990202Z",
     "start_time": "2023-11-04T07:47:47.969980Z"
    }
   },
   "outputs": [
    {
     "data": {
      "text/plain": [
       "Index(['item', 'corporation', 'location', 'year', 'month', 'day', 'week',\n",
       "       'weekend', 'date'],\n",
       "      dtype='object')"
      ]
     },
     "execution_count": 64,
     "metadata": {},
     "output_type": "execute_result"
    }
   ],
   "source": [
    "feature_TG.columns"
   ]
  },
  {
   "cell_type": "code",
   "execution_count": 75,
   "id": "2e38261f",
   "metadata": {
    "ExecuteTime": {
     "end_time": "2023-11-04T07:52:01.719735Z",
     "start_time": "2023-11-04T07:52:01.703635Z"
    }
   },
   "outputs": [],
   "source": [
    "# Model instance , criterion, optimizer\n",
    "input_dim = feature_TG.shape[1]\n",
    "hidden_dim = 30\n",
    "output_dim = 1\n",
    "num_layers = 3\n",
    "\n",
    "model = LSTM(input_dim, hidden_dim, output_dim, num_layers).to(device)\n",
    "\n",
    "criterion = RMSELoss() # RMSE\n",
    "optimizer = optim.Adam(lstm_TG.parameters(), lr=0.003)"
   ]
  },
  {
   "cell_type": "code",
   "execution_count": 23,
   "id": "3cb95572",
   "metadata": {
    "ExecuteTime": {
     "end_time": "2023-11-04T07:13:33.817370Z",
     "start_time": "2023-11-04T07:13:33.803834Z"
    }
   },
   "outputs": [
    {
     "data": {
      "text/plain": [
       "(15230, 9)"
      ]
     },
     "execution_count": 23,
     "metadata": {},
     "output_type": "execute_result"
    }
   ],
   "source": [
    "feature_TG.shape"
   ]
  },
  {
   "cell_type": "code",
   "execution_count": 71,
   "id": "5bc80fe4",
   "metadata": {
    "ExecuteTime": {
     "end_time": "2023-11-04T07:50:13.672701Z",
     "start_time": "2023-11-04T07:50:13.651733Z"
    }
   },
   "outputs": [],
   "source": [
    "# pandas data >> tensor data\n",
    "batch_size = 128\n",
    "\n",
    "X_train = feature_TG[:-1500]\n",
    "X_val   = feature_TG[-1500:]\n",
    "y_train = target_TG[:-1500]\n",
    "y_val   = target_TG[-1500:]\n",
    "\n",
    "X_train_tensors = Variable(torch.Tensor(X_train.values)).unsqueeze(1).to(device)\n",
    "X_val_tensors = Variable(torch.Tensor(X_val.values)).unsqueeze(1).to(device)\n",
    "y_train_tensors = Variable(torch.Tensor(y_train.values)).unsqueeze(1).to(device)\n",
    "y_val_tensors = Variable(torch.Tensor(y_val.values)).unsqueeze(1).to(device)\n",
    "\n",
    "train_dataset = TensorDataset(X_train_tensors, y_train_tensors)\n",
    "val_dataset = TensorDataset(X_val_tensors, y_val_tensors)\n",
    "train_loader = DataLoader(train_dataset, batch_size=batch_size,shuffle=False)\n",
    "val_loader = DataLoader(val_dataset, batch_size=batch_size,shuffle=False)"
   ]
  },
  {
   "cell_type": "code",
   "execution_count": 77,
   "id": "5fe931c3",
   "metadata": {
    "ExecuteTime": {
     "end_time": "2023-11-04T07:53:23.151198Z",
     "start_time": "2023-11-04T07:53:22.408478Z"
    }
   },
   "outputs": [
    {
     "name": "stdout",
     "output_type": "stream",
     "text": [
      "torch.Size([3, 128, 30])\n",
      "output :  torch.Size([384, 1])\n",
      "torch.Size([3, 128, 30])\n",
      "output :  torch.Size([384, 1])\n",
      "torch.Size([3, 128, 30])\n",
      "output :  torch.Size([384, 1])\n",
      "torch.Size([3, 128, 30])\n",
      "output :  torch.Size([384, 1])\n",
      "torch.Size([3, 128, 30])\n",
      "output :  torch.Size([384, 1])\n",
      "torch.Size([3, 128, 30])\n",
      "output :  torch.Size([384, 1])\n",
      "torch.Size([3, 128, 30])\n",
      "output :  torch.Size([384, 1])\n",
      "torch.Size([3, 128, 30])\n",
      "output :  torch.Size([384, 1])\n",
      "torch.Size([3, 128, 30])\n",
      "output :  torch.Size([384, 1])\n",
      "torch.Size([3, 128, 30])\n",
      "output :  torch.Size([384, 1])\n",
      "torch.Size([3, 128, 30])\n",
      "output :  torch.Size([384, 1])\n",
      "torch.Size([3, 128, 30])\n",
      "output :  torch.Size([384, 1])\n",
      "torch.Size([3, 128, 30])\n",
      "output :  torch.Size([384, 1])\n",
      "torch.Size([3, 128, 30])\n",
      "output :  torch.Size([384, 1])\n",
      "torch.Size([3, 128, 30])\n",
      "output :  torch.Size([384, 1])\n",
      "torch.Size([3, 128, 30])\n",
      "output :  torch.Size([384, 1])\n",
      "torch.Size([3, 128, 30])\n",
      "output :  torch.Size([384, 1])\n",
      "torch.Size([3, 128, 30])\n",
      "output :  torch.Size([384, 1])\n",
      "torch.Size([3, 128, 30])\n",
      "output :  torch.Size([384, 1])\n",
      "torch.Size([3, 128, 30])\n",
      "output :  torch.Size([384, 1])\n",
      "torch.Size([3, 128, 30])\n",
      "output :  torch.Size([384, 1])\n",
      "torch.Size([3, 128, 30])\n",
      "output :  torch.Size([384, 1])\n",
      "torch.Size([3, 128, 30])\n",
      "output :  torch.Size([384, 1])\n",
      "torch.Size([3, 128, 30])\n",
      "output :  torch.Size([384, 1])\n",
      "torch.Size([3, 128, 30])\n",
      "output :  torch.Size([384, 1])\n",
      "torch.Size([3, 128, 30])\n",
      "output :  torch.Size([384, 1])\n",
      "torch.Size([3, 128, 30])\n",
      "output :  torch.Size([384, 1])\n",
      "torch.Size([3, 128, 30])\n",
      "output :  torch.Size([384, 1])\n",
      "torch.Size([3, 128, 30])\n",
      "output :  torch.Size([384, 1])\n",
      "torch.Size([3, 128, 30])\n",
      "output :  torch.Size([384, 1])\n",
      "torch.Size([3, 128, 30])\n",
      "output :  torch.Size([384, 1])\n",
      "torch.Size([3, 128, 30])\n",
      "output :  torch.Size([384, 1])\n",
      "torch.Size([3, 128, 30])\n",
      "output :  torch.Size([384, 1])\n",
      "torch.Size([3, 128, 30])\n",
      "output :  torch.Size([384, 1])\n",
      "torch.Size([3, 128, 30])\n",
      "output :  torch.Size([384, 1])\n",
      "torch.Size([3, 128, 30])\n",
      "output :  torch.Size([384, 1])\n",
      "torch.Size([3, 128, 30])\n",
      "output :  torch.Size([384, 1])\n",
      "torch.Size([3, 128, 30])\n",
      "output :  torch.Size([384, 1])\n",
      "torch.Size([3, 128, 30])\n",
      "output :  torch.Size([384, 1])\n",
      "torch.Size([3, 128, 30])\n",
      "output :  torch.Size([384, 1])\n",
      "torch.Size([3, 128, 30])\n",
      "output :  torch.Size([384, 1])\n",
      "torch.Size([3, 128, 30])\n",
      "output :  torch.Size([384, 1])\n",
      "torch.Size([3, 128, 30])\n",
      "output :  torch.Size([384, 1])\n",
      "torch.Size([3, 128, 30])\n",
      "output :  torch.Size([384, 1])\n",
      "torch.Size([3, 128, 30])\n",
      "output :  torch.Size([384, 1])\n",
      "torch.Size([3, 128, 30])\n",
      "output :  torch.Size([384, 1])\n",
      "torch.Size([3, 128, 30])\n",
      "output :  torch.Size([384, 1])\n",
      "torch.Size([3, 128, 30])\n",
      "output :  torch.Size([384, 1])\n",
      "torch.Size([3, 128, 30])\n",
      "output :  torch.Size([384, 1])\n",
      "torch.Size([3, 128, 30])\n",
      "output :  torch.Size([384, 1])\n",
      "torch.Size([3, 128, 30])\n",
      "output :  torch.Size([384, 1])\n",
      "torch.Size([3, 128, 30])\n",
      "output :  torch.Size([384, 1])\n",
      "torch.Size([3, 128, 30])\n",
      "output :  torch.Size([384, 1])\n",
      "torch.Size([3, 128, 30])\n",
      "output :  torch.Size([384, 1])\n",
      "torch.Size([3, 128, 30])\n",
      "output :  torch.Size([384, 1])\n",
      "torch.Size([3, 128, 30])\n",
      "output :  torch.Size([384, 1])\n",
      "torch.Size([3, 128, 30])\n",
      "output :  torch.Size([384, 1])\n",
      "torch.Size([3, 128, 30])\n",
      "output :  torch.Size([384, 1])\n",
      "torch.Size([3, 128, 30])\n",
      "output :  torch.Size([384, 1])\n",
      "torch.Size([3, 128, 30])\n",
      "output :  torch.Size([384, 1])\n",
      "torch.Size([3, 128, 30])\n",
      "output :  torch.Size([384, 1])\n",
      "torch.Size([3, 128, 30])\n",
      "output :  torch.Size([384, 1])\n",
      "torch.Size([3, 128, 30])\n",
      "output :  torch.Size([384, 1])\n",
      "torch.Size([3, 128, 30])\n",
      "output :  torch.Size([384, 1])\n",
      "torch.Size([3, 128, 30])\n",
      "output :  torch.Size([384, 1])\n",
      "torch.Size([3, 128, 30])\n",
      "output :  torch.Size([384, 1])\n",
      "torch.Size([3, 128, 30])\n",
      "output :  torch.Size([384, 1])\n",
      "torch.Size([3, 128, 30])\n",
      "output :  torch.Size([384, 1])\n",
      "torch.Size([3, 128, 30])\n",
      "output :  torch.Size([384, 1])\n",
      "torch.Size([3, 128, 30])\n",
      "output :  torch.Size([384, 1])\n",
      "torch.Size([3, 128, 30])\n",
      "output :  torch.Size([384, 1])\n",
      "torch.Size([3, 128, 30])\n",
      "output :  torch.Size([384, 1])\n",
      "torch.Size([3, 128, 30])\n",
      "output :  torch.Size([384, 1])\n",
      "torch.Size([3, 128, 30])\n",
      "output :  torch.Size([384, 1])\n",
      "torch.Size([3, 128, 30])\n",
      "output :  torch.Size([384, 1])\n",
      "torch.Size([3, 128, 30])\n",
      "output :  torch.Size([384, 1])\n",
      "torch.Size([3, 128, 30])\n",
      "output :  torch.Size([384, 1])\n",
      "torch.Size([3, 128, 30])\n",
      "output :  torch.Size([384, 1])\n",
      "torch.Size([3, 128, 30])\n",
      "output :  torch.Size([384, 1])\n",
      "torch.Size([3, 128, 30])\n",
      "output :  torch.Size([384, 1])\n",
      "torch.Size([3, 128, 30])\n",
      "output :  torch.Size([384, 1])\n",
      "torch.Size([3, 128, 30])\n",
      "output :  torch.Size([384, 1])\n",
      "torch.Size([3, 128, 30])\n",
      "output :  torch.Size([384, 1])\n",
      "torch.Size([3, 128, 30])\n",
      "output :  torch.Size([384, 1])\n",
      "torch.Size([3, 128, 30])\n",
      "output :  torch.Size([384, 1])\n",
      "torch.Size([3, 128, 30])\n",
      "output :  torch.Size([384, 1])\n",
      "torch.Size([3, 128, 30])\n",
      "output :  torch.Size([384, 1])\n",
      "torch.Size([3, 128, 30])\n",
      "output :  torch.Size([384, 1])\n",
      "torch.Size([3, 128, 30])\n",
      "output :  torch.Size([384, 1])\n",
      "torch.Size([3, 128, 30])\n",
      "output :  torch.Size([384, 1])\n",
      "torch.Size([3, 128, 30])\n",
      "output :  torch.Size([384, 1])\n",
      "torch.Size([3, 128, 30])\n",
      "output :  torch.Size([384, 1])\n",
      "torch.Size([3, 128, 30])\n",
      "output :  torch.Size([384, 1])\n",
      "torch.Size([3, 128, 30])\n",
      "output :  torch.Size([384, 1])\n",
      "torch.Size([3, 128, 30])\n",
      "output :  torch.Size([384, 1])\n",
      "torch.Size([3, 128, 30])\n",
      "output :  torch.Size([384, 1])\n",
      "torch.Size([3, 128, 30])\n",
      "output :  torch.Size([384, 1])\n",
      "torch.Size([3, 128, 30])\n",
      "output :  torch.Size([384, 1])\n",
      "torch.Size([3, 128, 30])\n",
      "output :  torch.Size([384, 1])\n",
      "torch.Size([3, 128, 30])\n",
      "output :  torch.Size([384, 1])\n",
      "torch.Size([3, 128, 30])\n",
      "output :  torch.Size([384, 1])\n",
      "torch.Size([3, 128, 30])\n",
      "output :  torch.Size([384, 1])\n",
      "torch.Size([3, 128, 30])\n",
      "output :  torch.Size([384, 1])\n",
      "torch.Size([3, 128, 30])\n",
      "output :  torch.Size([384, 1])\n",
      "torch.Size([3, 128, 30])\n",
      "output :  torch.Size([384, 1])\n",
      "torch.Size([3, 128, 30])\n",
      "output :  torch.Size([384, 1])\n",
      "torch.Size([3, 128, 30])\n",
      "output :  torch.Size([384, 1])\n",
      "torch.Size([3, 34, 30])\n",
      "output :  torch.Size([102, 1])\n",
      "torch.Size([3, 128, 30])\n",
      "torch.Size([3, 128, 30])\n",
      "torch.Size([3, 128, 30])\n",
      "torch.Size([3, 128, 30])\n",
      "torch.Size([3, 128, 30])\n",
      "torch.Size([3, 128, 30])\n",
      "torch.Size([3, 128, 30])\n",
      "torch.Size([3, 128, 30])\n",
      "torch.Size([3, 128, 30])\n",
      "torch.Size([3, 128, 30])\n",
      "torch.Size([3, 128, 30])\n",
      "torch.Size([3, 92, 30])\n",
      "torch.Size([3, 1500, 30])\n"
     ]
    },
    {
     "ename": "RuntimeError",
     "evalue": "The size of tensor a (4500) must match the size of tensor b (1500) at non-singleton dimension 1",
     "output_type": "error",
     "traceback": [
      "\u001b[1;31m---------------------------------------------------------------------------\u001b[0m",
      "\u001b[1;31mRuntimeError\u001b[0m                              Traceback (most recent call last)",
      "Cell \u001b[1;32mIn[77], line 51\u001b[0m\n\u001b[0;32m     49\u001b[0m         y_pred \u001b[38;5;241m=\u001b[39m model(X_val_tensors) \u001b[38;5;66;03m# Validation용 텐서 데이터셋으로 예측 수행\u001b[39;00m\n\u001b[0;32m     50\u001b[0m         y_pred \u001b[38;5;241m=\u001b[39m y_pred\u001b[38;5;241m.\u001b[39munsqueeze(\u001b[38;5;241m0\u001b[39m)\u001b[38;5;241m.\u001b[39mrepeat(y_val_tensors\u001b[38;5;241m.\u001b[39mshape[\u001b[38;5;241m0\u001b[39m],\u001b[38;5;241m1\u001b[39m,\u001b[38;5;241m1\u001b[39m) \u001b[38;5;66;03m# 예측값 차원 조정\u001b[39;00m\n\u001b[1;32m---> 51\u001b[0m         fin_val_loss \u001b[38;5;241m=\u001b[39m \u001b[43mcriterion\u001b[49m\u001b[43m(\u001b[49m\u001b[43my_pred\u001b[49m\u001b[43m,\u001b[49m\u001b[43m \u001b[49m\u001b[43my_val_tensors\u001b[49m\u001b[43m)\u001b[49m \u001b[38;5;66;03m# 손실 평가\u001b[39;00m\n\u001b[0;32m     52\u001b[0m \u001b[38;5;66;03m#         fin_val_loss = average_val_loss\u001b[39;00m\n\u001b[0;32m     53\u001b[0m         \u001b[38;5;28;01mif\u001b[39;00m fin_val_loss \u001b[38;5;241m<\u001b[39m best_loss: \u001b[38;5;66;03m# val_loss가 best_loss보다 작으면 \u001b[39;00m\n",
      "File \u001b[1;32m~\\anaconda3\\envs\\py39\\lib\\site-packages\\torch\\nn\\modules\\module.py:1518\u001b[0m, in \u001b[0;36mModule._wrapped_call_impl\u001b[1;34m(self, *args, **kwargs)\u001b[0m\n\u001b[0;32m   1516\u001b[0m     \u001b[38;5;28;01mreturn\u001b[39;00m \u001b[38;5;28mself\u001b[39m\u001b[38;5;241m.\u001b[39m_compiled_call_impl(\u001b[38;5;241m*\u001b[39margs, \u001b[38;5;241m*\u001b[39m\u001b[38;5;241m*\u001b[39mkwargs)  \u001b[38;5;66;03m# type: ignore[misc]\u001b[39;00m\n\u001b[0;32m   1517\u001b[0m \u001b[38;5;28;01melse\u001b[39;00m:\n\u001b[1;32m-> 1518\u001b[0m     \u001b[38;5;28;01mreturn\u001b[39;00m \u001b[38;5;28mself\u001b[39m\u001b[38;5;241m.\u001b[39m_call_impl(\u001b[38;5;241m*\u001b[39margs, \u001b[38;5;241m*\u001b[39m\u001b[38;5;241m*\u001b[39mkwargs)\n",
      "File \u001b[1;32m~\\anaconda3\\envs\\py39\\lib\\site-packages\\torch\\nn\\modules\\module.py:1527\u001b[0m, in \u001b[0;36mModule._call_impl\u001b[1;34m(self, *args, **kwargs)\u001b[0m\n\u001b[0;32m   1522\u001b[0m \u001b[38;5;66;03m# If we don't have any hooks, we want to skip the rest of the logic in\u001b[39;00m\n\u001b[0;32m   1523\u001b[0m \u001b[38;5;66;03m# this function, and just call forward.\u001b[39;00m\n\u001b[0;32m   1524\u001b[0m \u001b[38;5;28;01mif\u001b[39;00m \u001b[38;5;129;01mnot\u001b[39;00m (\u001b[38;5;28mself\u001b[39m\u001b[38;5;241m.\u001b[39m_backward_hooks \u001b[38;5;129;01mor\u001b[39;00m \u001b[38;5;28mself\u001b[39m\u001b[38;5;241m.\u001b[39m_backward_pre_hooks \u001b[38;5;129;01mor\u001b[39;00m \u001b[38;5;28mself\u001b[39m\u001b[38;5;241m.\u001b[39m_forward_hooks \u001b[38;5;129;01mor\u001b[39;00m \u001b[38;5;28mself\u001b[39m\u001b[38;5;241m.\u001b[39m_forward_pre_hooks\n\u001b[0;32m   1525\u001b[0m         \u001b[38;5;129;01mor\u001b[39;00m _global_backward_pre_hooks \u001b[38;5;129;01mor\u001b[39;00m _global_backward_hooks\n\u001b[0;32m   1526\u001b[0m         \u001b[38;5;129;01mor\u001b[39;00m _global_forward_hooks \u001b[38;5;129;01mor\u001b[39;00m _global_forward_pre_hooks):\n\u001b[1;32m-> 1527\u001b[0m     \u001b[38;5;28;01mreturn\u001b[39;00m forward_call(\u001b[38;5;241m*\u001b[39margs, \u001b[38;5;241m*\u001b[39m\u001b[38;5;241m*\u001b[39mkwargs)\n\u001b[0;32m   1529\u001b[0m \u001b[38;5;28;01mtry\u001b[39;00m:\n\u001b[0;32m   1530\u001b[0m     result \u001b[38;5;241m=\u001b[39m \u001b[38;5;28;01mNone\u001b[39;00m\n",
      "Cell \u001b[1;32mIn[74], line 35\u001b[0m, in \u001b[0;36mRMSELoss.forward\u001b[1;34m(self, yhat, y)\u001b[0m\n\u001b[0;32m     34\u001b[0m \u001b[38;5;28;01mdef\u001b[39;00m \u001b[38;5;21mforward\u001b[39m(\u001b[38;5;28mself\u001b[39m,yhat,y):\n\u001b[1;32m---> 35\u001b[0m     \u001b[38;5;28;01mreturn\u001b[39;00m torch\u001b[38;5;241m.\u001b[39msqrt(\u001b[38;5;28;43mself\u001b[39;49m\u001b[38;5;241;43m.\u001b[39;49m\u001b[43mmse\u001b[49m\u001b[43m(\u001b[49m\u001b[43myhat\u001b[49m\u001b[43m,\u001b[49m\u001b[43my\u001b[49m\u001b[43m)\u001b[49m)\n",
      "File \u001b[1;32m~\\anaconda3\\envs\\py39\\lib\\site-packages\\torch\\nn\\modules\\module.py:1518\u001b[0m, in \u001b[0;36mModule._wrapped_call_impl\u001b[1;34m(self, *args, **kwargs)\u001b[0m\n\u001b[0;32m   1516\u001b[0m     \u001b[38;5;28;01mreturn\u001b[39;00m \u001b[38;5;28mself\u001b[39m\u001b[38;5;241m.\u001b[39m_compiled_call_impl(\u001b[38;5;241m*\u001b[39margs, \u001b[38;5;241m*\u001b[39m\u001b[38;5;241m*\u001b[39mkwargs)  \u001b[38;5;66;03m# type: ignore[misc]\u001b[39;00m\n\u001b[0;32m   1517\u001b[0m \u001b[38;5;28;01melse\u001b[39;00m:\n\u001b[1;32m-> 1518\u001b[0m     \u001b[38;5;28;01mreturn\u001b[39;00m \u001b[38;5;28mself\u001b[39m\u001b[38;5;241m.\u001b[39m_call_impl(\u001b[38;5;241m*\u001b[39margs, \u001b[38;5;241m*\u001b[39m\u001b[38;5;241m*\u001b[39mkwargs)\n",
      "File \u001b[1;32m~\\anaconda3\\envs\\py39\\lib\\site-packages\\torch\\nn\\modules\\module.py:1527\u001b[0m, in \u001b[0;36mModule._call_impl\u001b[1;34m(self, *args, **kwargs)\u001b[0m\n\u001b[0;32m   1522\u001b[0m \u001b[38;5;66;03m# If we don't have any hooks, we want to skip the rest of the logic in\u001b[39;00m\n\u001b[0;32m   1523\u001b[0m \u001b[38;5;66;03m# this function, and just call forward.\u001b[39;00m\n\u001b[0;32m   1524\u001b[0m \u001b[38;5;28;01mif\u001b[39;00m \u001b[38;5;129;01mnot\u001b[39;00m (\u001b[38;5;28mself\u001b[39m\u001b[38;5;241m.\u001b[39m_backward_hooks \u001b[38;5;129;01mor\u001b[39;00m \u001b[38;5;28mself\u001b[39m\u001b[38;5;241m.\u001b[39m_backward_pre_hooks \u001b[38;5;129;01mor\u001b[39;00m \u001b[38;5;28mself\u001b[39m\u001b[38;5;241m.\u001b[39m_forward_hooks \u001b[38;5;129;01mor\u001b[39;00m \u001b[38;5;28mself\u001b[39m\u001b[38;5;241m.\u001b[39m_forward_pre_hooks\n\u001b[0;32m   1525\u001b[0m         \u001b[38;5;129;01mor\u001b[39;00m _global_backward_pre_hooks \u001b[38;5;129;01mor\u001b[39;00m _global_backward_hooks\n\u001b[0;32m   1526\u001b[0m         \u001b[38;5;129;01mor\u001b[39;00m _global_forward_hooks \u001b[38;5;129;01mor\u001b[39;00m _global_forward_pre_hooks):\n\u001b[1;32m-> 1527\u001b[0m     \u001b[38;5;28;01mreturn\u001b[39;00m forward_call(\u001b[38;5;241m*\u001b[39margs, \u001b[38;5;241m*\u001b[39m\u001b[38;5;241m*\u001b[39mkwargs)\n\u001b[0;32m   1529\u001b[0m \u001b[38;5;28;01mtry\u001b[39;00m:\n\u001b[0;32m   1530\u001b[0m     result \u001b[38;5;241m=\u001b[39m \u001b[38;5;28;01mNone\u001b[39;00m\n",
      "File \u001b[1;32m~\\anaconda3\\envs\\py39\\lib\\site-packages\\torch\\nn\\modules\\loss.py:535\u001b[0m, in \u001b[0;36mMSELoss.forward\u001b[1;34m(self, input, target)\u001b[0m\n\u001b[0;32m    534\u001b[0m \u001b[38;5;28;01mdef\u001b[39;00m \u001b[38;5;21mforward\u001b[39m(\u001b[38;5;28mself\u001b[39m, \u001b[38;5;28minput\u001b[39m: Tensor, target: Tensor) \u001b[38;5;241m-\u001b[39m\u001b[38;5;241m>\u001b[39m Tensor:\n\u001b[1;32m--> 535\u001b[0m     \u001b[38;5;28;01mreturn\u001b[39;00m \u001b[43mF\u001b[49m\u001b[38;5;241;43m.\u001b[39;49m\u001b[43mmse_loss\u001b[49m\u001b[43m(\u001b[49m\u001b[38;5;28;43minput\u001b[39;49m\u001b[43m,\u001b[49m\u001b[43m \u001b[49m\u001b[43mtarget\u001b[49m\u001b[43m,\u001b[49m\u001b[43m \u001b[49m\u001b[43mreduction\u001b[49m\u001b[38;5;241;43m=\u001b[39;49m\u001b[38;5;28;43mself\u001b[39;49m\u001b[38;5;241;43m.\u001b[39;49m\u001b[43mreduction\u001b[49m\u001b[43m)\u001b[49m\n",
      "File \u001b[1;32m~\\anaconda3\\envs\\py39\\lib\\site-packages\\torch\\nn\\functional.py:3328\u001b[0m, in \u001b[0;36mmse_loss\u001b[1;34m(input, target, size_average, reduce, reduction)\u001b[0m\n\u001b[0;32m   3325\u001b[0m \u001b[38;5;28;01mif\u001b[39;00m size_average \u001b[38;5;129;01mis\u001b[39;00m \u001b[38;5;129;01mnot\u001b[39;00m \u001b[38;5;28;01mNone\u001b[39;00m \u001b[38;5;129;01mor\u001b[39;00m reduce \u001b[38;5;129;01mis\u001b[39;00m \u001b[38;5;129;01mnot\u001b[39;00m \u001b[38;5;28;01mNone\u001b[39;00m:\n\u001b[0;32m   3326\u001b[0m     reduction \u001b[38;5;241m=\u001b[39m _Reduction\u001b[38;5;241m.\u001b[39mlegacy_get_string(size_average, reduce)\n\u001b[1;32m-> 3328\u001b[0m expanded_input, expanded_target \u001b[38;5;241m=\u001b[39m \u001b[43mtorch\u001b[49m\u001b[38;5;241;43m.\u001b[39;49m\u001b[43mbroadcast_tensors\u001b[49m\u001b[43m(\u001b[49m\u001b[38;5;28;43minput\u001b[39;49m\u001b[43m,\u001b[49m\u001b[43m \u001b[49m\u001b[43mtarget\u001b[49m\u001b[43m)\u001b[49m\n\u001b[0;32m   3329\u001b[0m \u001b[38;5;28;01mreturn\u001b[39;00m torch\u001b[38;5;241m.\u001b[39m_C\u001b[38;5;241m.\u001b[39m_nn\u001b[38;5;241m.\u001b[39mmse_loss(expanded_input, expanded_target, _Reduction\u001b[38;5;241m.\u001b[39mget_enum(reduction))\n",
      "File \u001b[1;32m~\\anaconda3\\envs\\py39\\lib\\site-packages\\torch\\functional.py:73\u001b[0m, in \u001b[0;36mbroadcast_tensors\u001b[1;34m(*tensors)\u001b[0m\n\u001b[0;32m     71\u001b[0m \u001b[38;5;28;01mif\u001b[39;00m has_torch_function(tensors):\n\u001b[0;32m     72\u001b[0m     \u001b[38;5;28;01mreturn\u001b[39;00m handle_torch_function(broadcast_tensors, tensors, \u001b[38;5;241m*\u001b[39mtensors)\n\u001b[1;32m---> 73\u001b[0m \u001b[38;5;28;01mreturn\u001b[39;00m \u001b[43m_VF\u001b[49m\u001b[38;5;241;43m.\u001b[39;49m\u001b[43mbroadcast_tensors\u001b[49m\u001b[43m(\u001b[49m\u001b[43mtensors\u001b[49m\u001b[43m)\u001b[49m\n",
      "\u001b[1;31mRuntimeError\u001b[0m: The size of tensor a (4500) must match the size of tensor b (1500) at non-singleton dimension 1"
     ]
    }
   ],
   "source": [
    "# Train the model\n",
    "best_loss = float('inf')\n",
    "early_stopping_counter = 0\n",
    "train_losses = []\n",
    "val_losses = []\n",
    "epoch_counter = 0 # epoch 횟수 카운팅용\n",
    "epochs = 10000 # 훈련 횟수\n",
    "patience = 500 # early_stopping 기준\n",
    "\n",
    "for epoch in range(epochs):\n",
    "    model.train() # 모델을 '학습 모드'로 설정\n",
    "    train_loss = 0\n",
    "    \n",
    "    for batch_x, batch_y in train_loader: # 미니 배치 학습\n",
    "        optimizer.zero_grad() # optimizer의 가중치를 초기화\n",
    "        output = model(batch_x) # 순전파 진행\n",
    "        print('output : ',output.size())\n",
    "        loss = criterion(output.unsqueeze(1), batch_y) # 평가(손실 계산)\n",
    "        # output shape이 (데이터포인트개수,channel개수,column개수)이기 때문에\n",
    "        # channel이 1개인 일반적인 데이터들은 unsqueeze해준다.\n",
    "        train_loss += loss.item() * batch_x.size(0) # 손실 누적\n",
    "        loss.backward() # 역전파 진행\n",
    "        optimizer.step() # 모델의 가중치 업데이트\n",
    "\n",
    "    average_train_loss = train_loss / len(train_loader.dataset)\t# 평균 손실값\n",
    "    train_losses.append(average_train_loss)\n",
    "        \n",
    "    model.eval() # 모델을 '평가 모드'로 설정\n",
    "    \n",
    "    with torch.no_grad(): # 그래디언트 계산 비활성화\n",
    "        val_loss = 0\n",
    "        \n",
    "        for batch_x,batch_y in val_loader: \n",
    "            batch_x = batch_x\n",
    "            batch_y = batch_y\n",
    "            output = model(batch_x) # 예측을 생성\n",
    "            loss = criterion(output.unsqueeze(1), batch_y) # 손실 계산\n",
    "            val_loss += loss.item() * batch_x.size(0) # 검증 손실 누적\n",
    "        \n",
    "        average_val_loss = val_loss / len(val_loader.dataset) # 평균 검증 손실 계산\n",
    "        val_losses.append(average_val_loss)\n",
    "        \n",
    "        epoch_counter+=1\n",
    "        if epoch_counter%20 == 0:\n",
    "            print('Epoch: {}, train_loss: {:.4f}, val_loss: {:.4f}'.format(\n",
    "                epoch_counter, average_train_loss, average_val_loss))\n",
    "        \n",
    "        # Early Stopping\n",
    "        y_pred = model(X_val_tensors) # Validation용 텐서 데이터셋으로 예측 수행\n",
    "        y_pred = y_pred.unsqueeze(0).repeat(y_val_tensors.shape[0],1,1) # 예측값 차원 조정\n",
    "        fin_val_loss = criterion(y_pred, y_val_tensors) # 손실 평가\n",
    "#         fin_val_loss = average_val_loss\n",
    "        if fin_val_loss < best_loss: # val_loss가 best_loss보다 작으면 \n",
    "            best_loss = fin_val_loss # best_loss를 val_loss로 갱신\n",
    "            torch.save(model.state_dict(), '../models/model.pth') #모델 저장\n",
    "            early_stopping_counter = 0 # 카운팅 초기화\n",
    "        else: # val_loss가 더이상 감소하지 않으면,\n",
    "            early_stopping_counter += 1 # 카운팅 시작\n",
    "            if early_stopping_counter >= patience: # 카운팅이 patience보다 커지면\n",
    "                break # 학습 종료"
   ]
  },
  {
   "cell_type": "code",
   "execution_count": 59,
   "id": "29481a82",
   "metadata": {
    "ExecuteTime": {
     "end_time": "2023-11-04T07:45:23.626005Z",
     "start_time": "2023-11-04T07:45:23.454333Z"
    }
   },
   "outputs": [
    {
     "data": {
      "image/png": "[encoded data removed]",
      "text/plain": [
       "<Figure size 640x480 with 1 Axes>"
      ]
     },
     "metadata": {},
     "output_type": "display_data"
    }
   ],
   "source": [
    "# to cpu\n",
    "train_losses_cpu = train_losses\n",
    "val_losses_cpu = val_losses\n",
    "\n",
    "plt.plot(range(len(train_losses_cpu)),train_losses_cpu,color='blue',label='train_loss')\n",
    "plt.plot(range(len(train_losses_cpu)),val_losses_cpu,color='red',label='val_loss')\n",
    "plt.legend()\n",
    "plt.show()"
   ]
  },
  {
   "cell_type": "code",
   "execution_count": 67,
   "id": "55d4722d",
   "metadata": {
    "ExecuteTime": {
     "end_time": "2023-11-04T07:48:37.450333Z",
     "start_time": "2023-11-04T07:48:37.435072Z"
    }
   },
   "outputs": [],
   "source": [
    "# test_TG 예측\n",
    "feature_te_TG_tensors = Variable(torch.Tensor(feature_te_TG.values)).unsqueeze(1).to(device)\n",
    "\n",
    "pred_test_TG = model(feature_te_TG_tensors).detach()\n",
    "\n",
    "pred_test_TG = pred_test_TG.to('cpu')"
   ]
  },
  {
   "cell_type": "code",
   "execution_count": 68,
   "id": "8435ef42",
   "metadata": {
    "ExecuteTime": {
     "end_time": "2023-11-04T07:48:38.416603Z",
     "start_time": "2023-11-04T07:48:38.391705Z"
    }
   },
   "outputs": [
    {
     "data": {
      "text/html": [
       "<div>\n",
       "<style scoped>\n",
       "    .dataframe tbody tr th:only-of-type {\n",
       "        vertical-align: middle;\n",
       "    }\n",
       "\n",
       "    .dataframe tbody tr th {\n",
       "        vertical-align: top;\n",
       "    }\n",
       "\n",
       "    .dataframe thead th {\n",
       "        text-align: right;\n",
       "    }\n",
       "</style>\n",
       "<table border=\"1\" class=\"dataframe\">\n",
       "  <thead>\n",
       "    <tr style=\"text-align: right;\">\n",
       "      <th></th>\n",
       "      <th>0</th>\n",
       "    </tr>\n",
       "  </thead>\n",
       "  <tbody>\n",
       "    <tr>\n",
       "      <th>0</th>\n",
       "      <td>0.111297</td>\n",
       "    </tr>\n",
       "    <tr>\n",
       "      <th>1</th>\n",
       "      <td>0.111297</td>\n",
       "    </tr>\n",
       "    <tr>\n",
       "      <th>2</th>\n",
       "      <td>0.111297</td>\n",
       "    </tr>\n",
       "    <tr>\n",
       "      <th>3</th>\n",
       "      <td>0.111297</td>\n",
       "    </tr>\n",
       "    <tr>\n",
       "      <th>4</th>\n",
       "      <td>0.111297</td>\n",
       "    </tr>\n",
       "    <tr>\n",
       "      <th>...</th>\n",
       "      <td>...</td>\n",
       "    </tr>\n",
       "    <tr>\n",
       "      <th>275</th>\n",
       "      <td>0.111297</td>\n",
       "    </tr>\n",
       "    <tr>\n",
       "      <th>276</th>\n",
       "      <td>0.111297</td>\n",
       "    </tr>\n",
       "    <tr>\n",
       "      <th>277</th>\n",
       "      <td>0.111297</td>\n",
       "    </tr>\n",
       "    <tr>\n",
       "      <th>278</th>\n",
       "      <td>0.111297</td>\n",
       "    </tr>\n",
       "    <tr>\n",
       "      <th>279</th>\n",
       "      <td>0.111297</td>\n",
       "    </tr>\n",
       "  </tbody>\n",
       "</table>\n",
       "<p>280 rows × 1 columns</p>\n",
       "</div>"
      ],
      "text/plain": [
       "            0\n",
       "0    0.111297\n",
       "1    0.111297\n",
       "2    0.111297\n",
       "3    0.111297\n",
       "4    0.111297\n",
       "..        ...\n",
       "275  0.111297\n",
       "276  0.111297\n",
       "277  0.111297\n",
       "278  0.111297\n",
       "279  0.111297\n",
       "\n",
       "[280 rows x 1 columns]"
      ]
     },
     "execution_count": 68,
     "metadata": {},
     "output_type": "execute_result"
    }
   ],
   "source": [
    "pd.DataFrame(pred_test_TG)"
   ]
  },
  {
   "cell_type": "code",
   "execution_count": null,
   "id": "167a6b77",
   "metadata": {},
   "outputs": [],
   "source": []
  },
  {
   "cell_type": "code",
   "execution_count": null,
   "id": "a88c321c",
   "metadata": {},
   "outputs": [],
   "source": []
  },
  {
   "cell_type": "code",
   "execution_count": null,
   "id": "f7d31ce9",
   "metadata": {},
   "outputs": [],
   "source": []
  },
  {
   "cell_type": "code",
   "execution_count": null,
   "id": "ffce5560",
   "metadata": {},
   "outputs": [],
   "source": []
  },
  {
   "cell_type": "markdown",
   "id": "b8a50e53",
   "metadata": {},
   "source": [
    "아래부터는 feature_rest, target_rest로 학습 및 예측"
   ]
  },
  {
   "cell_type": "code",
   "execution_count": 24,
   "id": "cfc64565",
   "metadata": {
    "ExecuteTime": {
     "end_time": "2023-11-03T07:31:34.182647Z",
     "start_time": "2023-11-03T07:31:34.164221Z"
    }
   },
   "outputs": [],
   "source": [
    "from sklearn.metrics import make_scorer\n",
    "from sklearn.metrics import mean_squared_error\n",
    "from sklearn.model_selection import cross_val_score\n",
    "import lightgbm as lgb\n",
    "\n",
    "def get_MSE(feature,target):\n",
    "    # MSE를 스코어링 함수로 정의\n",
    "    mse_scorer = make_scorer(mean_squared_error, greater_is_better=False)\n",
    "\n",
    "    # LightGBM 모델 초기화\n",
    "    model = lgb.LGBMRegressor(verbose = -1,force_col_wise = True)\n",
    "    # force_col_wise = 메모리 이슈로 도중에 row-wise 탐색으로 바뀌는 것을 방지\n",
    "\n",
    "    # 교차 검증 수행\n",
    "    cross_val_scores = -cross_val_score(model, feature, target, cv=5, scoring=mse_scorer)\n",
    "    rmse = np.sqrt(cross_val_scores)\n",
    "\n",
    "    # 교차 검증 스코어 출력\n",
    "    print(\"MAE scores for each fold:\", rmse)  # Negative values are used because cross_val_score returns negated scores\n",
    "    print(\"Mean MAE:\", rmse.mean())"
   ]
  },
  {
   "cell_type": "code",
   "execution_count": 25,
   "id": "d9e995d8",
   "metadata": {
    "ExecuteTime": {
     "end_time": "2023-11-03T07:31:35.748907Z",
     "start_time": "2023-11-03T07:31:34.963623Z"
    }
   },
   "outputs": [
    {
     "name": "stdout",
     "output_type": "stream",
     "text": [
      "MAE scores for each fold: [ 463.0224741   370.18996645  343.47780897 1053.67303197  942.78706218]\n",
      "Mean MAE: 634.6300687330363\n"
     ]
    }
   ],
   "source": [
    "get_MSE(feature_rest,target_rest)"
   ]
  },
  {
   "cell_type": "code",
   "execution_count": 26,
   "id": "4e23ca63",
   "metadata": {
    "ExecuteTime": {
     "end_time": "2023-11-03T07:31:36.626064Z",
     "start_time": "2023-11-03T07:31:36.603929Z"
    }
   },
   "outputs": [],
   "source": [
    "def lbgm_feature_importance(feature,target):\n",
    "    # LightGBM 모델 초기화\n",
    "    model = lgb.LGBMRegressor(verbose = 0,force_col_wise=True)\n",
    "\n",
    "    # 모델을 학습 , 중요도 계산\n",
    "    model.fit(feature, target)\n",
    "\n",
    "    # 피쳐 중요도 가져오기\n",
    "    feature_importance = model.feature_importances_\n",
    "\n",
    "    # 중요도가 높은 상위 20개 피쳐 인덱스 가져오기\n",
    "    top_20_feature_indices = feature_importance.argsort()[-25:][::-1]\n",
    "\n",
    "    # 상위 20개 피쳐의 중요도 가져오기\n",
    "    top_20_feature_importance = feature_importance[top_20_feature_indices]\n",
    "\n",
    "    # 상위 20개 피쳐의 이름 가져오기\n",
    "    top_20_feature_names = feature.columns[top_20_feature_indices]\n",
    "\n",
    "    # 중요도 시각화\n",
    "    plt.figure(figsize=(10, 6))\n",
    "    plt.barh(top_20_feature_names, top_20_feature_importance)\n",
    "    plt.xlabel('Feature Importance')\n",
    "    plt.title('Top 20 Feature Importance')\n",
    "    plt.show()\n",
    "    \n",
    "    return top_20_feature_importance,top_20_feature_names"
   ]
  },
  {
   "cell_type": "code",
   "execution_count": 27,
   "id": "738b166c",
   "metadata": {
    "ExecuteTime": {
     "end_time": "2023-11-03T07:31:37.688574Z",
     "start_time": "2023-11-03T07:31:37.348089Z"
    }
   },
   "outputs": [
    {
     "data": {
      "image/png": "[encoded data removed]",
      "text/plain": [
       "<Figure size 1000x600 with 1 Axes>"
      ]
     },
     "metadata": {},
     "output_type": "display_data"
    }
   ],
   "source": [
    "top_20_feature_importance,top_20_feature_names = lbgm_feature_importance(feature_rest,target_rest)"
   ]
  },
  {
   "cell_type": "code",
   "execution_count": 28,
   "id": "b20b95d0",
   "metadata": {
    "ExecuteTime": {
     "end_time": "2023-11-03T07:31:39.314188Z",
     "start_time": "2023-11-03T07:31:39.300189Z"
    }
   },
   "outputs": [
    {
     "data": {
      "text/plain": [
       "(array([858, 529, 415, 359, 305, 257, 221,  52,   4]),\n",
       " Index(['date', 'year', 'corporation', 'item', 'week', 'day', 'location',\n",
       "        'month', 'weekend'],\n",
       "       dtype='object'))"
      ]
     },
     "execution_count": 28,
     "metadata": {},
     "output_type": "execute_result"
    }
   ],
   "source": [
    "top_20_feature_importance, top_20_feature_names"
   ]
  },
  {
   "cell_type": "code",
   "execution_count": 29,
   "id": "63b9572f",
   "metadata": {
    "ExecuteTime": {
     "end_time": "2023-11-03T07:32:10.588791Z",
     "start_time": "2023-11-03T07:32:10.573580Z"
    }
   },
   "outputs": [],
   "source": [
    "# 피처 선택\n",
    "# 2가지 버전 준비 \n",
    "# 1. 피처 선택 버전\n",
    "threshold = 150\n",
    "low_importance_features_name = list(top_20_feature_names[np.where(top_20_feature_importance<150)[0]])\n",
    "feature_rest_selected = feature_rest.drop(columns=low_importance_features_name)\n",
    "feature_te_rest_selected = feature_te_rest.drop(columns=low_importance_features_name)\n",
    "# 2. 모든 피처로 학습 >> feature, feature_te 그대로 사용"
   ]
  },
  {
   "cell_type": "code",
   "execution_count": 30,
   "id": "efa41cc2",
   "metadata": {
    "ExecuteTime": {
     "end_time": "2023-11-03T07:32:39.902264Z",
     "start_time": "2023-11-03T07:32:38.974234Z"
    }
   },
   "outputs": [
    {
     "name": "stdout",
     "output_type": "stream",
     "text": [
      "MAE scores for each fold: [ 451.34364393  370.55940005  348.68843382 1050.39407015  937.47196615]\n",
      "Mean MAE: 631.6915028198136\n"
     ]
    }
   ],
   "source": [
    "# 1. 피처 선택 버전 \n",
    "# MSE 확인\n",
    "get_MSE(feature_rest_selected,target_rest)\n",
    "# 모델 학습 (아직 튜닝 미완료)\n",
    "v1_lgbm_model = lgb.LGBMRegressor(force_col_wise=True)\n",
    "v1_lgbm_model.fit(feature_rest_selected,target_rest)\n",
    "v1_pred = v1_lgbm_model.predict(feature_te_rest_selected)"
   ]
  },
  {
   "cell_type": "code",
   "execution_count": 31,
   "id": "5282d70d",
   "metadata": {
    "ExecuteTime": {
     "end_time": "2023-11-03T07:33:01.686916Z",
     "start_time": "2023-11-03T07:33:00.655539Z"
    }
   },
   "outputs": [
    {
     "name": "stdout",
     "output_type": "stream",
     "text": [
      "MAE scores for each fold: [ 463.0224741   370.18996645  343.47780897 1053.67303197  942.78706218]\n",
      "Mean MAE: 634.6300687330363\n"
     ]
    }
   ],
   "source": [
    "# 2. 피처 선택 버전 \n",
    "# MSE 확인\n",
    "get_MSE(feature_rest,target_rest)\n",
    "# 모델 학습 (아직 튜닝 미완료)\n",
    "v2_lgbm_model = lgb.LGBMRegressor(force_col_wise=True)\n",
    "v2_lgbm_model.fit(feature_rest,target_rest)\n",
    "v2_pred = v2_lgbm_model.predict(feature_rest)"
   ]
  },
  {
   "cell_type": "code",
   "execution_count": 40,
   "id": "0a12c493",
   "metadata": {
    "ExecuteTime": {
     "end_time": "2023-11-03T07:39:32.208460Z",
     "start_time": "2023-11-03T07:39:32.192307Z"
    },
    "scrolled": true
   },
   "outputs": [
    {
     "data": {
      "text/html": [
       "<div>\n",
       "<style scoped>\n",
       "    .dataframe tbody tr th:only-of-type {\n",
       "        vertical-align: middle;\n",
       "    }\n",
       "\n",
       "    .dataframe tbody tr th {\n",
       "        vertical-align: top;\n",
       "    }\n",
       "\n",
       "    .dataframe thead th {\n",
       "        text-align: right;\n",
       "    }\n",
       "</style>\n",
       "<table border=\"1\" class=\"dataframe\">\n",
       "  <thead>\n",
       "    <tr style=\"text-align: right;\">\n",
       "      <th></th>\n",
       "      <th>answer</th>\n",
       "    </tr>\n",
       "  </thead>\n",
       "  <tbody>\n",
       "    <tr>\n",
       "      <th>280</th>\n",
       "      <td>1126.855933</td>\n",
       "    </tr>\n",
       "    <tr>\n",
       "      <th>281</th>\n",
       "      <td>87.655600</td>\n",
       "    </tr>\n",
       "    <tr>\n",
       "      <th>282</th>\n",
       "      <td>1965.646652</td>\n",
       "    </tr>\n",
       "    <tr>\n",
       "      <th>283</th>\n",
       "      <td>1849.066870</td>\n",
       "    </tr>\n",
       "    <tr>\n",
       "      <th>284</th>\n",
       "      <td>1849.066870</td>\n",
       "    </tr>\n",
       "    <tr>\n",
       "      <th>...</th>\n",
       "      <td>...</td>\n",
       "    </tr>\n",
       "    <tr>\n",
       "      <th>1087</th>\n",
       "      <td>506.793664</td>\n",
       "    </tr>\n",
       "    <tr>\n",
       "      <th>1088</th>\n",
       "      <td>502.757791</td>\n",
       "    </tr>\n",
       "    <tr>\n",
       "      <th>1089</th>\n",
       "      <td>502.757791</td>\n",
       "    </tr>\n",
       "    <tr>\n",
       "      <th>1090</th>\n",
       "      <td>502.757791</td>\n",
       "    </tr>\n",
       "    <tr>\n",
       "      <th>1091</th>\n",
       "      <td>501.856888</td>\n",
       "    </tr>\n",
       "  </tbody>\n",
       "</table>\n",
       "<p>812 rows × 1 columns</p>\n",
       "</div>"
      ],
      "text/plain": [
       "           answer\n",
       "280   1126.855933\n",
       "281     87.655600\n",
       "282   1965.646652\n",
       "283   1849.066870\n",
       "284   1849.066870\n",
       "...           ...\n",
       "1087   506.793664\n",
       "1088   502.757791\n",
       "1089   502.757791\n",
       "1090   502.757791\n",
       "1091   501.856888\n",
       "\n",
       "[812 rows x 1 columns]"
      ]
     },
     "execution_count": 40,
     "metadata": {},
     "output_type": "execute_result"
    }
   ],
   "source": [
    "### LSTM 예측값과 LGBM 예측값을 합쳐야 한다.\n",
    "# LGBM 예측값\n",
    "v1_pred_ = np.where(v1_pred<0,0,v1_pred) # 혹시 모를 음수값 대비\n",
    "# index 정보 추가\n",
    "v1_pred_ = pd.DataFrame(data=v1_pred_,index=org_test_rest_index,columns=['answer'])\n",
    "\n",
    "# LSTM 예측값\n"
   ]
  },
  {
   "cell_type": "code",
   "execution_count": 39,
   "id": "2cc3ed92",
   "metadata": {
    "ExecuteTime": {
     "end_time": "2023-11-03T07:39:21.315963Z",
     "start_time": "2023-11-03T07:39:21.301368Z"
    }
   },
   "outputs": [
    {
     "data": {
      "text/html": [
       "<div>\n",
       "<style scoped>\n",
       "    .dataframe tbody tr th:only-of-type {\n",
       "        vertical-align: middle;\n",
       "    }\n",
       "\n",
       "    .dataframe tbody tr th {\n",
       "        vertical-align: top;\n",
       "    }\n",
       "\n",
       "    .dataframe thead th {\n",
       "        text-align: right;\n",
       "    }\n",
       "</style>\n",
       "<table border=\"1\" class=\"dataframe\">\n",
       "  <thead>\n",
       "    <tr style=\"text-align: right;\">\n",
       "      <th></th>\n",
       "      <th>ID</th>\n",
       "      <th>answer</th>\n",
       "    </tr>\n",
       "  </thead>\n",
       "  <tbody>\n",
       "    <tr>\n",
       "      <th>0</th>\n",
       "      <td>TG_A_J_20230304</td>\n",
       "      <td>0</td>\n",
       "    </tr>\n",
       "    <tr>\n",
       "      <th>1</th>\n",
       "      <td>TG_A_J_20230305</td>\n",
       "      <td>0</td>\n",
       "    </tr>\n",
       "    <tr>\n",
       "      <th>2</th>\n",
       "      <td>TG_A_J_20230306</td>\n",
       "      <td>0</td>\n",
       "    </tr>\n",
       "    <tr>\n",
       "      <th>3</th>\n",
       "      <td>TG_A_J_20230307</td>\n",
       "      <td>0</td>\n",
       "    </tr>\n",
       "    <tr>\n",
       "      <th>4</th>\n",
       "      <td>TG_A_J_20230308</td>\n",
       "      <td>0</td>\n",
       "    </tr>\n",
       "  </tbody>\n",
       "</table>\n",
       "</div>"
      ],
      "text/plain": [
       "                ID  answer\n",
       "0  TG_A_J_20230304       0\n",
       "1  TG_A_J_20230305       0\n",
       "2  TG_A_J_20230306       0\n",
       "3  TG_A_J_20230307       0\n",
       "4  TG_A_J_20230308       0"
      ]
     },
     "execution_count": 39,
     "metadata": {},
     "output_type": "execute_result"
    }
   ],
   "source": [
    "# sample_submission으로 저장하기\n",
    "sample_submission = pd.read_csv('../data/sample_submission.csv')\n",
    "\n",
    "\n",
    "sample_submission.head()"
   ]
  },
  {
   "cell_type": "code",
   "execution_count": 23,
   "id": "37a2856c",
   "metadata": {
    "ExecuteTime": {
     "end_time": "2023-11-03T04:07:38.498214Z",
     "start_time": "2023-11-03T04:07:38.466373Z"
    }
   },
   "outputs": [],
   "source": [
    "# save sample_submission\n",
    "sample_submission.set_index('ID',inplace=True)\n",
    "sample_submission.to_csv('../data/sample_20231103_1307.csv')"
   ]
  },
  {
   "cell_type": "code",
   "execution_count": null,
   "id": "0fb91f1e",
   "metadata": {},
   "outputs": [],
   "source": []
  },
  {
   "cell_type": "code",
   "execution_count": null,
   "id": "0519ddae",
   "metadata": {},
   "outputs": [],
   "source": []
  },
  {
   "cell_type": "code",
   "execution_count": null,
   "id": "ca7196ae",
   "metadata": {
    "ExecuteTime": {
     "end_time": "2023-11-03T04:28:03.107335Z",
     "start_time": "2023-11-03T04:28:03.091339Z"
    }
   },
   "outputs": [],
   "source": []
  },
  {
   "cell_type": "code",
   "execution_count": null,
   "id": "5ffd6888",
   "metadata": {},
   "outputs": [],
   "source": []
  },
  {
   "cell_type": "code",
   "execution_count": null,
   "id": "944babe1",
   "metadata": {},
   "outputs": [],
   "source": []
  },
  {
   "cell_type": "code",
   "execution_count": null,
   "id": "447ad714",
   "metadata": {},
   "outputs": [],
   "source": []
  },
  {
   "cell_type": "code",
   "execution_count": null,
   "id": "11a802e6",
   "metadata": {},
   "outputs": [],
   "source": []
  },
  {
   "cell_type": "code",
   "execution_count": null,
   "id": "062c1b58",
   "metadata": {},
   "outputs": [],
   "source": []
  },
  {
   "cell_type": "code",
   "execution_count": null,
   "id": "7d4432ad",
   "metadata": {},
   "outputs": [],
   "source": []
  }
 ],
 "metadata": {
  "kernelspec": {
   "display_name": "Python 3 (ipykernel)",
   "language": "python",
   "name": "python3"
  },
  "language_info": {
   "codemirror_mode": {
    "name": "ipython",
    "version": 3
   },
   "file_extension": ".py",
   "mimetype": "text/x-python",
   "name": "python",
   "nbconvert_exporter": "python",
   "pygments_lexer": "ipython3",
   "version": "3.9.0"
  },
  "toc": {
   "base_numbering": 1,
   "nav_menu": {},
   "number_sections": false,
   "sideBar": true,
   "skip_h1_title": false,
   "title_cell": "Table of Contents",
   "title_sidebar": "Contents",
   "toc_cell": false,
   "toc_position": {},
   "toc_section_display": true,
   "toc_window_display": false
  }
 },
 "nbformat": 4,
 "nbformat_minor": 5
}
