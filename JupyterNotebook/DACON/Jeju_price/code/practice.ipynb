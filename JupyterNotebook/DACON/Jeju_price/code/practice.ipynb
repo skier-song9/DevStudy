{
 "cells": [
  {
   "cell_type": "code",
   "execution_count": 22,
   "id": "847ba834",
   "metadata": {
    "ExecuteTime": {
     "end_time": "2023-11-02T19:00:36.825663Z",
     "start_time": "2023-11-02T19:00:36.731960Z"
    }
   },
   "outputs": [
    {
     "name": "stdout",
     "output_type": "stream",
     "text": [
      "df객체명 : international_trade\n",
      "df객체명 : sample_submission\n",
      "df객체명 : test\n",
      "df객체명 : train\n"
     ]
    }
   ],
   "source": [
    "import random\n",
    "import pandas as pd\n",
    "import numpy as np\n",
    "import os\n",
    "import matplotlib.pyplot as plt\n",
    "import matplotlib\n",
    "matplotlib.rcParams['font.family'] = 'Malgun Gothic'\n",
    "\n",
    "from sklearn.ensemble import RandomForestRegressor\n",
    "from sklearn.preprocessing import LabelEncoder\n",
    "\n",
    "import warnings\n",
    "warnings.filterwarnings(action='ignore') \n",
    "\n",
    "def seed_everything(seed):\n",
    "    random.seed(seed)\n",
    "    os.environ['PYTHONHASHSEED'] = str(seed)\n",
    "    np.random.seed(seed)\n",
    "\n",
    "seed_everything(42) # Seed 고정\n",
    "\n",
    "import zipfile\n",
    "from zipfile import ZipFile\n",
    "from io import BytesIO\n",
    "\n",
    "filepath_zip = '../data/open.zip'\n",
    "with ZipFile(filepath_zip,'r') as zipObj:\n",
    "    list_filenames = zipObj.namelist()\n",
    "    for filename in list_filenames:\n",
    "        if filename.endswith('.csv'):\n",
    "            zipRead = zipObj.read(filename)\n",
    "            globals()[f'{filename[5:-4]}'] = pd.read_csv(BytesIO(zipRead))\n",
    "            print('df객체명 :',filename[5:-4])"
   ]
  },
  {
   "cell_type": "code",
   "execution_count": 23,
   "id": "34235368",
   "metadata": {
    "ExecuteTime": {
     "end_time": "2023-11-02T19:00:38.468686Z",
     "start_time": "2023-11-02T19:00:38.456958Z"
    }
   },
   "outputs": [],
   "source": [
    "# pd.to_datetime(train['timestamp']).dt."
   ]
  },
  {
   "cell_type": "markdown",
   "id": "2ecc2ed7",
   "metadata": {},
   "source": [
    "preprocessing"
   ]
  },
  {
   "cell_type": "code",
   "execution_count": 24,
   "id": "2084f0a3",
   "metadata": {
    "ExecuteTime": {
     "end_time": "2023-11-02T19:00:47.573309Z",
     "start_time": "2023-11-02T19:00:47.209584Z"
    }
   },
   "outputs": [
    {
     "data": {
      "image/png": "[encoded data removed]",
      "text/plain": [
       "<Figure size 1000x1000 with 2 Axes>"
      ]
     },
     "metadata": {},
     "output_type": "display_data"
    }
   ],
   "source": [
    "# supply와 price의 분포 확인\n",
    "fig, ax = plt.subplots(1,2,figsize=(10,10))\n",
    "ax[0].hist(train['supply(kg)'].values,bins=10,label='supply')\n",
    "ax[1].hist(train['price(원/kg)'].values,bins=10, label='price')\n",
    "plt.legend()\n",
    "plt.show()\n",
    "### 둘 다 왼쪽으로 치우친 분포 >> log 변환"
   ]
  },
  {
   "cell_type": "code",
   "execution_count": 25,
   "id": "4d299793",
   "metadata": {
    "ExecuteTime": {
     "end_time": "2023-11-02T19:01:11.100265Z",
     "start_time": "2023-11-02T19:01:10.930772Z"
    }
   },
   "outputs": [
    {
     "data": {
      "text/html": [
       "<div>\n",
       "<style scoped>\n",
       "    .dataframe tbody tr th:only-of-type {\n",
       "        vertical-align: middle;\n",
       "    }\n",
       "\n",
       "    .dataframe tbody tr th {\n",
       "        vertical-align: top;\n",
       "    }\n",
       "\n",
       "    .dataframe thead th {\n",
       "        text-align: right;\n",
       "    }\n",
       "</style>\n",
       "<table border=\"1\" class=\"dataframe\">\n",
       "  <thead>\n",
       "    <tr style=\"text-align: right;\">\n",
       "      <th></th>\n",
       "      <th>item</th>\n",
       "      <th>corporation</th>\n",
       "      <th>location</th>\n",
       "      <th>supply</th>\n",
       "      <th>price</th>\n",
       "      <th>year</th>\n",
       "      <th>month</th>\n",
       "      <th>dayofweek</th>\n",
       "      <th>weekend</th>\n",
       "    </tr>\n",
       "  </thead>\n",
       "  <tbody>\n",
       "    <tr>\n",
       "      <th>0</th>\n",
       "      <td>1.00</td>\n",
       "      <td>0.0</td>\n",
       "      <td>0.0</td>\n",
       "      <td>0.000000</td>\n",
       "      <td>0.000000</td>\n",
       "      <td>0.0</td>\n",
       "      <td>0.000000</td>\n",
       "      <td>0.166667</td>\n",
       "      <td>0.000000</td>\n",
       "    </tr>\n",
       "    <tr>\n",
       "      <th>1</th>\n",
       "      <td>1.00</td>\n",
       "      <td>0.0</td>\n",
       "      <td>0.0</td>\n",
       "      <td>0.000000</td>\n",
       "      <td>0.000000</td>\n",
       "      <td>0.0</td>\n",
       "      <td>0.000000</td>\n",
       "      <td>0.333333</td>\n",
       "      <td>0.000000</td>\n",
       "    </tr>\n",
       "    <tr>\n",
       "      <th>2</th>\n",
       "      <td>1.00</td>\n",
       "      <td>0.0</td>\n",
       "      <td>0.0</td>\n",
       "      <td>11.012083</td>\n",
       "      <td>7.455298</td>\n",
       "      <td>0.0</td>\n",
       "      <td>0.000000</td>\n",
       "      <td>0.500000</td>\n",
       "      <td>0.000000</td>\n",
       "    </tr>\n",
       "    <tr>\n",
       "      <th>3</th>\n",
       "      <td>1.00</td>\n",
       "      <td>0.0</td>\n",
       "      <td>0.0</td>\n",
       "      <td>10.126671</td>\n",
       "      <td>7.250636</td>\n",
       "      <td>0.0</td>\n",
       "      <td>0.000000</td>\n",
       "      <td>0.666667</td>\n",
       "      <td>0.000000</td>\n",
       "    </tr>\n",
       "    <tr>\n",
       "      <th>4</th>\n",
       "      <td>1.00</td>\n",
       "      <td>0.0</td>\n",
       "      <td>0.0</td>\n",
       "      <td>10.384462</td>\n",
       "      <td>7.131699</td>\n",
       "      <td>0.0</td>\n",
       "      <td>0.000000</td>\n",
       "      <td>0.833333</td>\n",
       "      <td>0.693147</td>\n",
       "    </tr>\n",
       "    <tr>\n",
       "      <th>...</th>\n",
       "      <td>...</td>\n",
       "      <td>...</td>\n",
       "      <td>...</td>\n",
       "      <td>...</td>\n",
       "      <td>...</td>\n",
       "      <td>...</td>\n",
       "      <td>...</td>\n",
       "      <td>...</td>\n",
       "      <td>...</td>\n",
       "    </tr>\n",
       "    <tr>\n",
       "      <th>59392</th>\n",
       "      <td>0.75</td>\n",
       "      <td>1.0</td>\n",
       "      <td>0.0</td>\n",
       "      <td>13.022413</td>\n",
       "      <td>6.150603</td>\n",
       "      <td>1.0</td>\n",
       "      <td>0.090909</td>\n",
       "      <td>0.000000</td>\n",
       "      <td>0.000000</td>\n",
       "    </tr>\n",
       "    <tr>\n",
       "      <th>59393</th>\n",
       "      <td>0.75</td>\n",
       "      <td>1.0</td>\n",
       "      <td>0.0</td>\n",
       "      <td>12.952716</td>\n",
       "      <td>6.276643</td>\n",
       "      <td>1.0</td>\n",
       "      <td>0.090909</td>\n",
       "      <td>0.166667</td>\n",
       "      <td>0.000000</td>\n",
       "    </tr>\n",
       "    <tr>\n",
       "      <th>59394</th>\n",
       "      <td>0.75</td>\n",
       "      <td>1.0</td>\n",
       "      <td>0.0</td>\n",
       "      <td>12.855741</td>\n",
       "      <td>6.354370</td>\n",
       "      <td>1.0</td>\n",
       "      <td>0.181818</td>\n",
       "      <td>0.333333</td>\n",
       "      <td>0.000000</td>\n",
       "    </tr>\n",
       "    <tr>\n",
       "      <th>59395</th>\n",
       "      <td>0.75</td>\n",
       "      <td>1.0</td>\n",
       "      <td>0.0</td>\n",
       "      <td>13.075735</td>\n",
       "      <td>6.261492</td>\n",
       "      <td>1.0</td>\n",
       "      <td>0.181818</td>\n",
       "      <td>0.500000</td>\n",
       "      <td>0.000000</td>\n",
       "    </tr>\n",
       "    <tr>\n",
       "      <th>59396</th>\n",
       "      <td>0.75</td>\n",
       "      <td>1.0</td>\n",
       "      <td>0.0</td>\n",
       "      <td>12.965759</td>\n",
       "      <td>6.272877</td>\n",
       "      <td>1.0</td>\n",
       "      <td>0.181818</td>\n",
       "      <td>0.666667</td>\n",
       "      <td>0.000000</td>\n",
       "    </tr>\n",
       "  </tbody>\n",
       "</table>\n",
       "<p>59397 rows × 9 columns</p>\n",
       "</div>"
      ],
      "text/plain": [
       "       item  corporation  location     supply     price  year     month  \\\n",
       "0      1.00          0.0       0.0   0.000000  0.000000   0.0  0.000000   \n",
       "1      1.00          0.0       0.0   0.000000  0.000000   0.0  0.000000   \n",
       "2      1.00          0.0       0.0  11.012083  7.455298   0.0  0.000000   \n",
       "3      1.00          0.0       0.0  10.126671  7.250636   0.0  0.000000   \n",
       "4      1.00          0.0       0.0  10.384462  7.131699   0.0  0.000000   \n",
       "...     ...          ...       ...        ...       ...   ...       ...   \n",
       "59392  0.75          1.0       0.0  13.022413  6.150603   1.0  0.090909   \n",
       "59393  0.75          1.0       0.0  12.952716  6.276643   1.0  0.090909   \n",
       "59394  0.75          1.0       0.0  12.855741  6.354370   1.0  0.181818   \n",
       "59395  0.75          1.0       0.0  13.075735  6.261492   1.0  0.181818   \n",
       "59396  0.75          1.0       0.0  12.965759  6.272877   1.0  0.181818   \n",
       "\n",
       "       dayofweek   weekend  \n",
       "0       0.166667  0.000000  \n",
       "1       0.333333  0.000000  \n",
       "2       0.500000  0.000000  \n",
       "3       0.666667  0.000000  \n",
       "4       0.833333  0.693147  \n",
       "...          ...       ...  \n",
       "59392   0.000000  0.000000  \n",
       "59393   0.166667  0.000000  \n",
       "59394   0.333333  0.000000  \n",
       "59395   0.500000  0.000000  \n",
       "59396   0.666667  0.000000  \n",
       "\n",
       "[59397 rows x 9 columns]"
      ]
     },
     "execution_count": 25,
     "metadata": {},
     "output_type": "execute_result"
    }
   ],
   "source": [
    "# TargetEncoding\n",
    "from sklearn.preprocessing import TargetEncoder, LabelEncoder,MinMaxScaler\n",
    "\n",
    "train_ = train.copy()\n",
    "\n",
    "# drop columns\n",
    "drop_cols = ['ID']\n",
    "train_.drop(columns=drop_cols,inplace=True)\n",
    "\n",
    "# split time data to year, month, dayofweek(요일)\n",
    "train_['timestamp'] = pd.to_datetime(train_['timestamp'])\n",
    "train_['year'] = train_['timestamp'].dt.year\n",
    "train_['month'] = train_['timestamp'].dt.month\n",
    "train_['dayofweek'] = train_['timestamp'].dt.dayofweek\n",
    "train_['weekend'] = train_['dayofweek'].apply(lambda x: 1 if x in [5,6] else 0)\n",
    "train_.drop('timestamp',axis=1,inplace=True)\n",
    "\n",
    "# (Label or Target)Encoding & Scaling\n",
    "encoders = {}\n",
    "scalers = {}\n",
    "encoding_cols = ['item','corporation','location']\n",
    "for col in train_.columns:\n",
    "    if col in encoding_cols: \n",
    "        encoder = LabelEncoder()  # LabelEncoding용\n",
    "#         encoder = TargetEncoder(target_type='continuous',cv=5) # TargetEncoding용\n",
    "        train_[col] = encoder.fit_transform(train_[col].values) # LabelEncoding용\n",
    "#         train_[col] = encoder.fit_transform(train_[col].values.reshape(-1,1),   # TargetEncoding용\n",
    "#                                    train_['price(원/kg)'].values.reshape(-1,1)\n",
    "#                                    )\n",
    "        encoders[col] = encoder\n",
    "    if col in ['year','month','dayofweek','item','corporation','location']: # LabelEncoding용\n",
    "#     if col in ['year','month','dayofweek']: # TargetEncoding용\n",
    "        scaler = MinMaxScaler()\n",
    "        train_[col] = scaler.fit_transform(np.array(train_[col]).reshape(-1,1))\n",
    "        scalers[col] = scaler\n",
    "    else :\n",
    "        train_[col] = np.log1p(train_[col].values)\n",
    "        scalers[col] = 'log변환'\n",
    "\n",
    "# rename columns\n",
    "train_.rename(columns={'price(원/kg)':'price','supply(kg)':'supply'},inplace=True)\n",
    "\n",
    "train_"
   ]
  },
  {
   "cell_type": "code",
   "execution_count": 26,
   "id": "f7462426",
   "metadata": {
    "ExecuteTime": {
     "end_time": "2023-11-02T19:01:18.310890Z",
     "start_time": "2023-11-02T19:01:17.996129Z"
    }
   },
   "outputs": [
    {
     "data": {
      "image/png": "[encoded data removed]",
      "text/plain": [
       "<Figure size 1000x1000 with 2 Axes>"
      ]
     },
     "metadata": {},
     "output_type": "display_data"
    }
   ],
   "source": [
    "# supply와 price의 분포 확인\n",
    "fig, ax = plt.subplots(1,2,figsize=(10,10))\n",
    "ax[0].hist(train_['supply'].values,bins=10,label='supply')\n",
    "ax[1].hist(train_['price'].values,bins=10, label='price')\n",
    "plt.legend()\n",
    "plt.show()\n",
    "### 둘 다 왼쪽으로 치우친 분포 >> log 변환"
   ]
  },
  {
   "cell_type": "markdown",
   "id": "e6deb960",
   "metadata": {
    "ExecuteTime": {
     "end_time": "2023-11-01T11:00:02.424107Z",
     "start_time": "2023-11-01T11:00:02.400071Z"
    }
   },
   "source": [
    "모델 학습 및 특성 중요도 확인"
   ]
  },
  {
   "cell_type": "code",
   "execution_count": 6,
   "id": "a8e74ee9",
   "metadata": {
    "ExecuteTime": {
     "end_time": "2023-11-02T06:19:23.852296Z",
     "start_time": "2023-11-02T06:19:23.093107Z"
    }
   },
   "outputs": [],
   "source": [
    "import matplotlib.pyplot as plt\n",
    "import pandas as pd\n",
    "import numpy as np\n",
    "import lightgbm as lgb\n",
    "import bisect\n",
    "from hyperopt import hp\n",
    "from tqdm import tqdm\n",
    "from sklearn.metrics import mean_absolute_error, mean_squared_error\n",
    "from sklearn.preprocessing import LabelEncoder\n",
    "from sklearn.model_selection import KFold, train_test_split"
   ]
  },
  {
   "cell_type": "code",
   "execution_count": 7,
   "id": "6a78cf1d",
   "metadata": {
    "ExecuteTime": {
     "end_time": "2023-11-02T06:19:23.868285Z",
     "start_time": "2023-11-02T06:19:23.854323Z"
    }
   },
   "outputs": [],
   "source": [
    "# split data as x, y\n",
    "X = train_.drop('price',axis=1)\n",
    "y = train_['price']\n",
    "\n",
    "# X_train, X_val, y_train, y_val = train_test_split(X,y,\n",
    "#                                                    test_size=0.2,\n",
    "#                                                    random_state=156,\n",
    "#                                                    shuffle=True)\n",
    "\n",
    "X_train = X\n",
    "y_train = y"
   ]
  },
  {
   "cell_type": "code",
   "execution_count": 8,
   "id": "9845cc54",
   "metadata": {
    "ExecuteTime": {
     "end_time": "2023-11-02T06:27:36.824861Z",
     "start_time": "2023-11-02T06:19:23.870807Z"
    },
    "scrolled": false
   },
   "outputs": [
    {
     "name": "stdout",
     "output_type": "stream",
     "text": [
      "100%|█████████████████████████| 100/100 [08:12<00:00,  4.93s/trial, best loss: 0.020131433396202717]\n",
      "{'learning_rate': 0.009967797746703378, 'n_estimators': 4500.0, 'reg_alpha': 0.1, 'reg_lambda': 0.10799511145877227}\n"
     ]
    }
   ],
   "source": [
    "from hyperopt import hp,STATUS_OK, fmin, tpe, Trials\n",
    "\n",
    "# hyper parameter tuning\n",
    "search_space = {\n",
    "    'n_estimators':hp.quniform('n_estimators',1000,5000,500),\n",
    "    'learning_rate':hp.uniform('learning_rate',0.001,0.01),\n",
    "    'reg_alpha':hp.quniform('reg_alpha',0.1,1.5,0.1),\n",
    "    'reg_lambda':hp.uniform('reg_lambda',0.1,5)    \n",
    "}\n",
    "\n",
    "X_train, X_val, y_train, y_val = train_test_split(X,y,\n",
    "                                                   test_size=0.2,\n",
    "                                                   random_state=156,\n",
    "                                                   shuffle=True)\n",
    "\n",
    "def hyperopt_objective_func(search_space):\n",
    "    lgbm = lgb.LGBMRegressor(\n",
    "        n_estimators=int(search_space['n_estimators']),\n",
    "        boosting_type='goss',\n",
    "        learning_rate=search_space['learning_rate'],\n",
    "        reg_alpha=search_space['reg_alpha'],\n",
    "        reg_lambda=search_space['reg_lambda']\n",
    "    )\n",
    "    \n",
    "    lgbm.fit(X_train,y_train)\n",
    "    preds = lgbm.predict(X_val)\n",
    "    loss = mean_squared_error(y_val,preds,squared=False)\n",
    "    return {'loss':loss, 'status':STATUS_OK}\n",
    "\n",
    "trial_vals = Trials()\n",
    "\n",
    "best = fmin(fn=hyperopt_objective_func,\n",
    "            space=search_space,\n",
    "            algo=tpe.suggest,\n",
    "            max_evals=100,\n",
    "            rstate=np.random.default_rng(seed=156)\n",
    "           )\n",
    "print(best)"
   ]
  },
  {
   "cell_type": "code",
   "execution_count": 9,
   "id": "a30c3ef7",
   "metadata": {
    "ExecuteTime": {
     "end_time": "2023-11-02T06:27:45.469307Z",
     "start_time": "2023-11-02T06:27:36.826863Z"
    }
   },
   "outputs": [
    {
     "name": "stdout",
     "output_type": "stream",
     "text": [
      "Model Tune for LGBM.\n"
     ]
    },
    {
     "data": {
      "image/png": "[encoded data removed]",
      "text/plain": [
       "<Figure size 1000x700 with 1 Axes>"
      ]
     },
     "metadata": {},
     "output_type": "display_data"
    }
   ],
   "source": [
    "def train_and_evaluate(model, model_name, X_train, y_train):\n",
    "    print(f'Model Tune for {model_name}.')\n",
    "    model.fit(X_train, y_train)\n",
    "    \n",
    "    feature_importances = model.feature_importances_\n",
    "    sorted_idx = feature_importances.argsort()\n",
    "\n",
    "    plt.figure(figsize=(10, len(X_train.columns)))\n",
    "    plt.title(f\"Feature Importances ({model_name})\")\n",
    "    plt.barh(range(X_train.shape[1]), feature_importances[sorted_idx], align='center')\n",
    "    plt.yticks(range(X_train.shape[1]), X_train.columns[sorted_idx])\n",
    "    plt.xlabel('Importance')\n",
    "    plt.show()\n",
    "    \n",
    "    return model, feature_importances\n",
    "\n",
    "lgbm_model = lgb.LGBMRegressor(n_estimators=int(best['n_estimators']),\n",
    "                                boosting_type='goss',\n",
    "                                learning_rate=best['learning_rate'],\n",
    "                                reg_alpha=best['reg_alpha'],\n",
    "                                reg_lambda=best['reg_lambda']\n",
    "                              )\n",
    "lgbm_model, lgbm_feature_importances = train_and_evaluate(lgbm_model, 'LGBM', X, y)\n",
    "\n",
    "# lgbm_model, lgbm_feature_importances = train_and_evaluate(lgb.LGBMRegressor(), 'LGBM', X, y)"
   ]
  },
  {
   "cell_type": "code",
   "execution_count": null,
   "id": "43ef9d1f",
   "metadata": {},
   "outputs": [],
   "source": []
  },
  {
   "cell_type": "markdown",
   "id": "c84a35c8",
   "metadata": {},
   "source": [
    "Feature Selection"
   ]
  },
  {
   "cell_type": "code",
   "execution_count": 10,
   "id": "9c5bf6e8",
   "metadata": {
    "ExecuteTime": {
     "end_time": "2023-11-02T06:27:45.484694Z",
     "start_time": "2023-11-02T06:27:45.472347Z"
    }
   },
   "outputs": [
    {
     "name": "stdout",
     "output_type": "stream",
     "text": [
      "Index(['location'], dtype='object')\n"
     ]
    }
   ],
   "source": [
    "threshold = 12000\n",
    "low_importance_features = X_train.columns[lgbm_feature_importances < threshold]\n",
    "print(low_importance_features)\n",
    "X_train_reduced = X_train.drop(columns=low_importance_features)\n",
    "# X_val_reduced = X_val.drop(columns=low_importance_features)"
   ]
  },
  {
   "cell_type": "code",
   "execution_count": 11,
   "id": "b5ce9c5d",
   "metadata": {
    "ExecuteTime": {
     "end_time": "2023-11-02T06:27:45.500590Z",
     "start_time": "2023-11-02T06:27:45.487693Z"
    }
   },
   "outputs": [
    {
     "data": {
      "text/plain": [
       "Index(['item', 'corporation', 'supply', 'year', 'month', 'dayofweek'], dtype='object')"
      ]
     },
     "execution_count": 11,
     "metadata": {},
     "output_type": "execute_result"
    }
   ],
   "source": [
    "selected_columns = X_train_reduced.columns\n",
    "selected_columns"
   ]
  },
  {
   "cell_type": "markdown",
   "id": "3efa9794",
   "metadata": {},
   "source": [
    "Model Fitting & Validation"
   ]
  },
  {
   "cell_type": "code",
   "execution_count": 12,
   "id": "6bf85288",
   "metadata": {
    "ExecuteTime": {
     "end_time": "2023-11-02T06:27:46.047514Z",
     "start_time": "2023-11-02T06:27:45.503590Z"
    }
   },
   "outputs": [
    {
     "name": "stderr",
     "output_type": "stream",
     "text": [
      "Process folds: 100%|██████████████████████████████████████████████████| 5/5 [00:00<00:00,  9.53it/s]"
     ]
    },
    {
     "name": "stdout",
     "output_type": "stream",
     "text": [
      "Validation : RMSE scores for each fold: [0.03823265167073598, 0.023933411267018315, 0.02447308372414175, 0.03322468079961336, 0.026386291113260133]\n",
      "Validation : RMSE: 0.02925002371495391\n"
     ]
    },
    {
     "name": "stderr",
     "output_type": "stream",
     "text": [
      "\n"
     ]
    }
   ],
   "source": [
    "kf = KFold(n_splits=5, shuffle=True, random_state=156)\n",
    "lgbm_model = lgb.LGBMRegressor()\n",
    "\n",
    "preds = []\n",
    "idxs = []\n",
    "scores = []\n",
    "\n",
    "for train_idx,val_idx in tqdm(kf.split(X_train_reduced), total = 5, desc=\"Process folds\"):\n",
    "    X_tr, X_val = X_train_reduced.iloc[train_idx], X_train_reduced.iloc[val_idx]\n",
    "    y_tr, y_val = y_train.iloc[train_idx], y_train.iloc[val_idx]\n",
    "    \n",
    "    # fit model\n",
    "    lgbm_model.fit(X_tr, y_tr)\n",
    "    \n",
    "    # predicts validation data\n",
    "    val_pred = lgbm_model.predict(X_val)\n",
    "    preds.append(val_pred)\n",
    "    idxs.append(X_val.index)\n",
    "    scores.append(mean_squared_error(y_val,val_pred,squared=False))\n",
    "\n",
    "print(\"Validation : RMSE scores for each fold:\", scores)\n",
    "print(\"Validation : RMSE:\", np.mean(scores))"
   ]
  },
  {
   "cell_type": "code",
   "execution_count": null,
   "id": "3f54725f",
   "metadata": {
    "ExecuteTime": {
     "end_time": "2023-11-02T02:30:40.169777Z",
     "start_time": "2023-11-02T02:30:40.161226Z"
    }
   },
   "outputs": [],
   "source": []
  },
  {
   "cell_type": "code",
   "execution_count": null,
   "id": "6f32be4e",
   "metadata": {},
   "outputs": [],
   "source": []
  },
  {
   "cell_type": "markdown",
   "id": "69e77bd1",
   "metadata": {},
   "source": [
    "Test"
   ]
  },
  {
   "cell_type": "code",
   "execution_count": 13,
   "id": "38fe1f3d",
   "metadata": {
    "ExecuteTime": {
     "end_time": "2023-11-02T06:27:46.078321Z",
     "start_time": "2023-11-02T06:27:46.049518Z"
    }
   },
   "outputs": [
    {
     "data": {
      "text/html": [
       "<div>\n",
       "<style scoped>\n",
       "    .dataframe tbody tr th:only-of-type {\n",
       "        vertical-align: middle;\n",
       "    }\n",
       "\n",
       "    .dataframe tbody tr th {\n",
       "        vertical-align: top;\n",
       "    }\n",
       "\n",
       "    .dataframe thead th {\n",
       "        text-align: right;\n",
       "    }\n",
       "</style>\n",
       "<table border=\"1\" class=\"dataframe\">\n",
       "  <thead>\n",
       "    <tr style=\"text-align: right;\">\n",
       "      <th></th>\n",
       "      <th>ID</th>\n",
       "      <th>timestamp</th>\n",
       "      <th>item</th>\n",
       "      <th>corporation</th>\n",
       "      <th>location</th>\n",
       "    </tr>\n",
       "  </thead>\n",
       "  <tbody>\n",
       "    <tr>\n",
       "      <th>0</th>\n",
       "      <td>TG_A_J_20230304</td>\n",
       "      <td>2023-03-04</td>\n",
       "      <td>TG</td>\n",
       "      <td>A</td>\n",
       "      <td>J</td>\n",
       "    </tr>\n",
       "    <tr>\n",
       "      <th>1</th>\n",
       "      <td>TG_A_J_20230305</td>\n",
       "      <td>2023-03-05</td>\n",
       "      <td>TG</td>\n",
       "      <td>A</td>\n",
       "      <td>J</td>\n",
       "    </tr>\n",
       "    <tr>\n",
       "      <th>2</th>\n",
       "      <td>TG_A_J_20230306</td>\n",
       "      <td>2023-03-06</td>\n",
       "      <td>TG</td>\n",
       "      <td>A</td>\n",
       "      <td>J</td>\n",
       "    </tr>\n",
       "    <tr>\n",
       "      <th>3</th>\n",
       "      <td>TG_A_J_20230307</td>\n",
       "      <td>2023-03-07</td>\n",
       "      <td>TG</td>\n",
       "      <td>A</td>\n",
       "      <td>J</td>\n",
       "    </tr>\n",
       "    <tr>\n",
       "      <th>4</th>\n",
       "      <td>TG_A_J_20230308</td>\n",
       "      <td>2023-03-08</td>\n",
       "      <td>TG</td>\n",
       "      <td>A</td>\n",
       "      <td>J</td>\n",
       "    </tr>\n",
       "  </tbody>\n",
       "</table>\n",
       "</div>"
      ],
      "text/plain": [
       "                ID   timestamp item corporation location\n",
       "0  TG_A_J_20230304  2023-03-04   TG           A        J\n",
       "1  TG_A_J_20230305  2023-03-05   TG           A        J\n",
       "2  TG_A_J_20230306  2023-03-06   TG           A        J\n",
       "3  TG_A_J_20230307  2023-03-07   TG           A        J\n",
       "4  TG_A_J_20230308  2023-03-08   TG           A        J"
      ]
     },
     "execution_count": 13,
     "metadata": {},
     "output_type": "execute_result"
    }
   ],
   "source": [
    "test = pd.read_csv('../data/test.csv')\n",
    "sample_submission = pd.read_csv('../data/sample_submission.csv')\n",
    "test.head()"
   ]
  },
  {
   "cell_type": "code",
   "execution_count": 14,
   "id": "e46e2cc1",
   "metadata": {
    "ExecuteTime": {
     "end_time": "2023-11-02T06:27:46.094320Z",
     "start_time": "2023-11-02T06:27:46.080323Z"
    }
   },
   "outputs": [
    {
     "data": {
      "text/plain": [
       "(LabelEncoder(),\n",
       " {'item': MinMaxScaler(),\n",
       "  'corporation': MinMaxScaler(),\n",
       "  'location': MinMaxScaler(),\n",
       "  'supply(kg)': 'log변환',\n",
       "  'price(원/kg)': 'log변환',\n",
       "  'year': MinMaxScaler(),\n",
       "  'month': MinMaxScaler(),\n",
       "  'dayofweek': MinMaxScaler()})"
      ]
     },
     "execution_count": 14,
     "metadata": {},
     "output_type": "execute_result"
    }
   ],
   "source": [
    "encoder, scalers"
   ]
  },
  {
   "cell_type": "code",
   "execution_count": 15,
   "id": "e8a39f87",
   "metadata": {
    "ExecuteTime": {
     "end_time": "2023-11-02T06:28:04.445904Z",
     "start_time": "2023-11-02T06:27:46.096321Z"
    },
    "scrolled": false
   },
   "outputs": [
    {
     "data": {
      "text/html": [
       "<div>\n",
       "<style scoped>\n",
       "    .dataframe tbody tr th:only-of-type {\n",
       "        vertical-align: middle;\n",
       "    }\n",
       "\n",
       "    .dataframe tbody tr th {\n",
       "        vertical-align: top;\n",
       "    }\n",
       "\n",
       "    .dataframe thead th {\n",
       "        text-align: right;\n",
       "    }\n",
       "</style>\n",
       "<table border=\"1\" class=\"dataframe\">\n",
       "  <thead>\n",
       "    <tr style=\"text-align: right;\">\n",
       "      <th></th>\n",
       "      <th>item</th>\n",
       "      <th>corporation</th>\n",
       "      <th>location</th>\n",
       "      <th>supply</th>\n",
       "      <th>year</th>\n",
       "      <th>month</th>\n",
       "      <th>dayofweek</th>\n",
       "    </tr>\n",
       "  </thead>\n",
       "  <tbody>\n",
       "    <tr>\n",
       "      <th>0</th>\n",
       "      <td>1.00</td>\n",
       "      <td>0.0</td>\n",
       "      <td>0.0</td>\n",
       "      <td>8.258681</td>\n",
       "      <td>1.0</td>\n",
       "      <td>0.181818</td>\n",
       "      <td>0.833333</td>\n",
       "    </tr>\n",
       "    <tr>\n",
       "      <th>1</th>\n",
       "      <td>1.00</td>\n",
       "      <td>0.0</td>\n",
       "      <td>0.0</td>\n",
       "      <td>8.804325</td>\n",
       "      <td>1.0</td>\n",
       "      <td>0.181818</td>\n",
       "      <td>1.000000</td>\n",
       "    </tr>\n",
       "    <tr>\n",
       "      <th>2</th>\n",
       "      <td>1.00</td>\n",
       "      <td>0.0</td>\n",
       "      <td>0.0</td>\n",
       "      <td>0.000000</td>\n",
       "      <td>1.0</td>\n",
       "      <td>0.181818</td>\n",
       "      <td>0.000000</td>\n",
       "    </tr>\n",
       "    <tr>\n",
       "      <th>3</th>\n",
       "      <td>1.00</td>\n",
       "      <td>0.0</td>\n",
       "      <td>0.0</td>\n",
       "      <td>9.322061</td>\n",
       "      <td>1.0</td>\n",
       "      <td>0.181818</td>\n",
       "      <td>0.166667</td>\n",
       "    </tr>\n",
       "    <tr>\n",
       "      <th>4</th>\n",
       "      <td>1.00</td>\n",
       "      <td>0.0</td>\n",
       "      <td>0.0</td>\n",
       "      <td>8.908830</td>\n",
       "      <td>1.0</td>\n",
       "      <td>0.181818</td>\n",
       "      <td>0.333333</td>\n",
       "    </tr>\n",
       "    <tr>\n",
       "      <th>...</th>\n",
       "      <td>...</td>\n",
       "      <td>...</td>\n",
       "      <td>...</td>\n",
       "      <td>...</td>\n",
       "      <td>...</td>\n",
       "      <td>...</td>\n",
       "      <td>...</td>\n",
       "    </tr>\n",
       "    <tr>\n",
       "      <th>1087</th>\n",
       "      <td>0.75</td>\n",
       "      <td>1.0</td>\n",
       "      <td>0.0</td>\n",
       "      <td>0.000000</td>\n",
       "      <td>1.0</td>\n",
       "      <td>0.181818</td>\n",
       "      <td>0.000000</td>\n",
       "    </tr>\n",
       "    <tr>\n",
       "      <th>1088</th>\n",
       "      <td>0.75</td>\n",
       "      <td>1.0</td>\n",
       "      <td>0.0</td>\n",
       "      <td>13.109523</td>\n",
       "      <td>1.0</td>\n",
       "      <td>0.181818</td>\n",
       "      <td>0.166667</td>\n",
       "    </tr>\n",
       "    <tr>\n",
       "      <th>1089</th>\n",
       "      <td>0.75</td>\n",
       "      <td>1.0</td>\n",
       "      <td>0.0</td>\n",
       "      <td>13.160547</td>\n",
       "      <td>1.0</td>\n",
       "      <td>0.181818</td>\n",
       "      <td>0.333333</td>\n",
       "    </tr>\n",
       "    <tr>\n",
       "      <th>1090</th>\n",
       "      <td>0.75</td>\n",
       "      <td>1.0</td>\n",
       "      <td>0.0</td>\n",
       "      <td>13.170927</td>\n",
       "      <td>1.0</td>\n",
       "      <td>0.181818</td>\n",
       "      <td>0.500000</td>\n",
       "    </tr>\n",
       "    <tr>\n",
       "      <th>1091</th>\n",
       "      <td>0.75</td>\n",
       "      <td>1.0</td>\n",
       "      <td>0.0</td>\n",
       "      <td>12.978172</td>\n",
       "      <td>1.0</td>\n",
       "      <td>0.181818</td>\n",
       "      <td>0.666667</td>\n",
       "    </tr>\n",
       "  </tbody>\n",
       "</table>\n",
       "<p>1092 rows × 7 columns</p>\n",
       "</div>"
      ],
      "text/plain": [
       "      item  corporation  location     supply  year     month  dayofweek\n",
       "0     1.00          0.0       0.0   8.258681   1.0  0.181818   0.833333\n",
       "1     1.00          0.0       0.0   8.804325   1.0  0.181818   1.000000\n",
       "2     1.00          0.0       0.0   0.000000   1.0  0.181818   0.000000\n",
       "3     1.00          0.0       0.0   9.322061   1.0  0.181818   0.166667\n",
       "4     1.00          0.0       0.0   8.908830   1.0  0.181818   0.333333\n",
       "...    ...          ...       ...        ...   ...       ...        ...\n",
       "1087  0.75          1.0       0.0   0.000000   1.0  0.181818   0.000000\n",
       "1088  0.75          1.0       0.0  13.109523   1.0  0.181818   0.166667\n",
       "1089  0.75          1.0       0.0  13.160547   1.0  0.181818   0.333333\n",
       "1090  0.75          1.0       0.0  13.170927   1.0  0.181818   0.500000\n",
       "1091  0.75          1.0       0.0  12.978172   1.0  0.181818   0.666667\n",
       "\n",
       "[1092 rows x 7 columns]"
      ]
     },
     "execution_count": 15,
     "metadata": {},
     "output_type": "execute_result"
    }
   ],
   "source": [
    "test_ = test.copy()\n",
    "# drop columns\n",
    "drop_cols = ['ID']\n",
    "test_.drop(columns=drop_cols,inplace=True)\n",
    "\n",
    "# to_datetime\n",
    "test_['timestamp'] = pd.to_datetime(test_['timestamp'])\n",
    "\n",
    "# make supply column and fill with supply from train \n",
    "test_['supply'] = np.zeros((len(test_),1))\n",
    "train__ = train.copy()\n",
    "train__['timestamp'] = pd.to_datetime(train__['timestamp'])\n",
    "def find_lastyear_supply(row):\n",
    "    date = pd.to_datetime(f'{row[\"timestamp\"].year-1}-{row[\"timestamp\"].month}-{row[\"timestamp\"].day}').date()\n",
    "#     print(date)\n",
    "    row['supply'] = train__[(train__['timestamp'].dt.date==date)&\n",
    "                            (train__['corporation']==row['corporation'])&\n",
    "                            (train__['location']==row['location']) &\n",
    "                            (train__['item']==row['item'])]['supply(kg)'].sum()\n",
    "#     print(row['supply'])\n",
    "    return row\n",
    "test_ = test_.apply(find_lastyear_supply,axis=1)\n",
    "\n",
    "# split time data to year, month, dayofweek(요일)\n",
    "test_['year'] = test_['timestamp'].dt.year\n",
    "test_['month'] = test_['timestamp'].dt.month\n",
    "test_['dayofweek'] = test_['timestamp'].dt.dayofweek\n",
    "test_.drop('timestamp',axis=1,inplace=True)\n",
    "\n",
    "# LabelEncoding & Scaling\n",
    "\n",
    "encoding_cols = ['item','corporation','location']\n",
    "for col in test_.columns:\n",
    "    if col in encoding_cols:\n",
    "        if col in encoding_cols:\n",
    "            encoder = encoders[col]\n",
    "            test_[col] = encoder.transform(test_[col].values)\n",
    "#             test_[col] = encoder.transform(test_[col].values.reshape(-1,1))\n",
    "    if col in ['year','month','dayofweek','item','corporation','location']: # LabelEncoding용\n",
    "#     if col in ['year','month','dayofweek']: # TargetEncoding용\n",
    "        scaler = scalers[col]\n",
    "        test_[col] = scaler.transform(np.array(test_[col]).reshape(-1,1))\n",
    "    else :\n",
    "        test_[col] = np.log1p(test_[col].values)\n",
    "\n",
    "# rename columns\n",
    "test_.rename(columns={'price(원/kg)':'price','supply(kg)':'supply'},inplace=True)\n",
    "\n",
    "test_"
   ]
  },
  {
   "cell_type": "code",
   "execution_count": 16,
   "id": "be07dd14",
   "metadata": {
    "ExecuteTime": {
     "end_time": "2023-11-02T06:28:04.461465Z",
     "start_time": "2023-11-02T06:28:04.448913Z"
    }
   },
   "outputs": [
    {
     "data": {
      "text/plain": [
       "Index(['item', 'corporation', 'supply', 'year', 'month', 'dayofweek'], dtype='object')"
      ]
     },
     "execution_count": 16,
     "metadata": {},
     "output_type": "execute_result"
    }
   ],
   "source": [
    "test_reduced = test_.drop(columns=low_importance_features)\n",
    "test_reduced.columns"
   ]
  },
  {
   "cell_type": "code",
   "execution_count": 17,
   "id": "ad0e0e09",
   "metadata": {
    "ExecuteTime": {
     "end_time": "2023-11-02T06:28:04.477461Z",
     "start_time": "2023-11-02T06:28:04.463469Z"
    }
   },
   "outputs": [],
   "source": [
    "test_pred = lgbm_model.predict(test_reduced)"
   ]
  },
  {
   "cell_type": "code",
   "execution_count": 18,
   "id": "8c311ef6",
   "metadata": {
    "ExecuteTime": {
     "end_time": "2023-11-02T06:28:04.493468Z",
     "start_time": "2023-11-02T06:28:04.479463Z"
    }
   },
   "outputs": [
    {
     "data": {
      "text/html": [
       "<div>\n",
       "<style scoped>\n",
       "    .dataframe tbody tr th:only-of-type {\n",
       "        vertical-align: middle;\n",
       "    }\n",
       "\n",
       "    .dataframe tbody tr th {\n",
       "        vertical-align: top;\n",
       "    }\n",
       "\n",
       "    .dataframe thead th {\n",
       "        text-align: right;\n",
       "    }\n",
       "</style>\n",
       "<table border=\"1\" class=\"dataframe\">\n",
       "  <thead>\n",
       "    <tr style=\"text-align: right;\">\n",
       "      <th></th>\n",
       "      <th>ID</th>\n",
       "      <th>answer</th>\n",
       "    </tr>\n",
       "  </thead>\n",
       "  <tbody>\n",
       "    <tr>\n",
       "      <th>0</th>\n",
       "      <td>TG_A_J_20230304</td>\n",
       "      <td>3965.870577</td>\n",
       "    </tr>\n",
       "    <tr>\n",
       "      <th>1</th>\n",
       "      <td>TG_A_J_20230305</td>\n",
       "      <td>3922.570503</td>\n",
       "    </tr>\n",
       "    <tr>\n",
       "      <th>2</th>\n",
       "      <td>TG_A_J_20230306</td>\n",
       "      <td>0.005785</td>\n",
       "    </tr>\n",
       "    <tr>\n",
       "      <th>3</th>\n",
       "      <td>TG_A_J_20230307</td>\n",
       "      <td>4282.378436</td>\n",
       "    </tr>\n",
       "    <tr>\n",
       "      <th>4</th>\n",
       "      <td>TG_A_J_20230308</td>\n",
       "      <td>4054.643678</td>\n",
       "    </tr>\n",
       "    <tr>\n",
       "      <th>...</th>\n",
       "      <td>...</td>\n",
       "      <td>...</td>\n",
       "    </tr>\n",
       "    <tr>\n",
       "      <th>1087</th>\n",
       "      <td>RD_F_J_20230327</td>\n",
       "      <td>0.004558</td>\n",
       "    </tr>\n",
       "    <tr>\n",
       "      <th>1088</th>\n",
       "      <td>RD_F_J_20230328</td>\n",
       "      <td>460.256373</td>\n",
       "    </tr>\n",
       "    <tr>\n",
       "      <th>1089</th>\n",
       "      <td>RD_F_J_20230329</td>\n",
       "      <td>460.895123</td>\n",
       "    </tr>\n",
       "    <tr>\n",
       "      <th>1090</th>\n",
       "      <td>RD_F_J_20230330</td>\n",
       "      <td>461.812232</td>\n",
       "    </tr>\n",
       "    <tr>\n",
       "      <th>1091</th>\n",
       "      <td>RD_F_J_20230331</td>\n",
       "      <td>479.971010</td>\n",
       "    </tr>\n",
       "  </tbody>\n",
       "</table>\n",
       "<p>1092 rows × 2 columns</p>\n",
       "</div>"
      ],
      "text/plain": [
       "                   ID       answer\n",
       "0     TG_A_J_20230304  3965.870577\n",
       "1     TG_A_J_20230305  3922.570503\n",
       "2     TG_A_J_20230306     0.005785\n",
       "3     TG_A_J_20230307  4282.378436\n",
       "4     TG_A_J_20230308  4054.643678\n",
       "...               ...          ...\n",
       "1087  RD_F_J_20230327     0.004558\n",
       "1088  RD_F_J_20230328   460.256373\n",
       "1089  RD_F_J_20230329   460.895123\n",
       "1090  RD_F_J_20230330   461.812232\n",
       "1091  RD_F_J_20230331   479.971010\n",
       "\n",
       "[1092 rows x 2 columns]"
      ]
     },
     "execution_count": 18,
     "metadata": {},
     "output_type": "execute_result"
    }
   ],
   "source": [
    "test_pred = np.expm1(test_pred)\n",
    "sample_submission['answer']=np.where(test_pred<0,0,test_pred)\n",
    "sample_submission"
   ]
  },
  {
   "cell_type": "code",
   "execution_count": 19,
   "id": "913f53c6",
   "metadata": {
    "ExecuteTime": {
     "end_time": "2023-11-02T06:28:04.508984Z",
     "start_time": "2023-11-02T06:28:04.495470Z"
    }
   },
   "outputs": [
    {
     "data": {
      "text/plain": [
       "0       3965.870577\n",
       "1       3922.570503\n",
       "2          0.005785\n",
       "3       4282.378436\n",
       "4       4054.643678\n",
       "           ...     \n",
       "1087       0.004558\n",
       "1088     460.256373\n",
       "1089     460.895123\n",
       "1090     461.812232\n",
       "1091     479.971010\n",
       "Name: answer, Length: 1092, dtype: float64"
      ]
     },
     "execution_count": 19,
     "metadata": {},
     "output_type": "execute_result"
    }
   ],
   "source": [
    "sample_submission['answer']"
   ]
  },
  {
   "cell_type": "code",
   "execution_count": 20,
   "id": "8b643a5d",
   "metadata": {
    "ExecuteTime": {
     "end_time": "2023-11-02T06:28:04.524984Z",
     "start_time": "2023-11-02T06:28:04.509985Z"
    }
   },
   "outputs": [],
   "source": [
    "# save sample_submission\n",
    "sample_submission.set_index('ID',inplace=True)\n",
    "sample_submission.to_csv('../data/my_submission3.csv')"
   ]
  },
  {
   "cell_type": "code",
   "execution_count": null,
   "id": "09d9b86c",
   "metadata": {},
   "outputs": [],
   "source": []
  },
  {
   "cell_type": "code",
   "execution_count": null,
   "id": "f606f7c2",
   "metadata": {},
   "outputs": [],
   "source": []
  },
  {
   "cell_type": "code",
   "execution_count": null,
   "id": "5a547555",
   "metadata": {},
   "outputs": [],
   "source": []
  },
  {
   "cell_type": "code",
   "execution_count": null,
   "id": "40c18b77",
   "metadata": {},
   "outputs": [],
   "source": []
  }
 ],
 "metadata": {
  "kernelspec": {
   "display_name": "Python 3 (ipykernel)",
   "language": "python",
   "name": "python3"
  },
  "language_info": {
   "codemirror_mode": {
    "name": "ipython",
    "version": 3
   },
   "file_extension": ".py",
   "mimetype": "text/x-python",
   "name": "python",
   "nbconvert_exporter": "python",
   "pygments_lexer": "ipython3",
   "version": "3.9.0"
  },
  "toc": {
   "base_numbering": 1,
   "nav_menu": {},
   "number_sections": false,
   "sideBar": true,
   "skip_h1_title": false,
   "title_cell": "Table of Contents",
   "title_sidebar": "Contents",
   "toc_cell": false,
   "toc_position": {},
   "toc_section_display": true,
   "toc_window_display": false
  }
 },
 "nbformat": 4,
 "nbformat_minor": 5
}
