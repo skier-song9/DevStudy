{
 "cells": [
  {
   "cell_type": "markdown",
   "metadata": {},
   "source": [
    "# 8기 편입 테스트"
   ]
  },
  {
   "cell_type": "markdown",
   "metadata": {},
   "source": [
    "### 제공된 데이터는 심장병 발병 데이터셋입니다. 변수는 다음과 같습니다.  \n",
    "### 본인의 판단 하에 전처리와 모델링을 진행하고 성능을 평가해주세요.\n",
    "\n",
    "1. age : age in years\n",
    "2. sex : sex (1=male; 0=female)\n",
    "3. cp : chest pain type\n",
    "    - Value 1 : typical angina\n",
    "    - Value 2 : atypical angina\n",
    "    - Value 3 : non-anginal pain\n",
    "    - Value 4 : asymptomatic\n",
    "4. trestbps : resting blood pressure (in mm Hg on admission to the hospital)\n",
    "5. chol : serum cholestoral in mg/dl\n",
    "6. fbs : fasting blood sugar > 120 mg/dl (1=true; 0=false)\n",
    "7. restecg : resting electrocardiographic results\n",
    "    - Value 0 : normal\n",
    "    - Value 1 : having ST-T wave abnormally\n",
    "    - Value 2 : showing probable or definite left ventricular hypertrophy by Estes' criteria\n",
    "8. thalach : maximum heart rate achieved\n",
    "9. exang : exercise induced anggina (1=yes; 0=no)\n",
    "10. oldpeak : ST depression induced by exercise relative to rest\n",
    "11. slope : the slope of the peak exercise ST segment\n",
    "    - Value 1 : upsloping\n",
    "    - Value 2 : flat\n",
    "    - Value 3 : downsloping\n",
    "12. ca : number of major vesses(0-3) colored by flourosopy\n",
    "13. thal : 3=normal; 6=fixed defect; 7=reversable defect\n",
    "14. num(target) : diagnosis of heart disease (angiographic disease status)\n",
    "    - Value 0 : < 50% diameter narrowing\n",
    "    - Value 1 : > 50% diameter narrowing"
   ]
  },
  {
   "cell_type": "markdown",
   "metadata": {},
   "source": [
    "### 1. 제공됐던 데이터를 불러와서 파악하고 필요한 전처리를 진행하세요."
   ]
  },
  {
   "cell_type": "code",
   "execution_count": null,
   "metadata": {},
   "outputs": [],
   "source": []
  },
  {
   "cell_type": "markdown",
   "metadata": {},
   "source": [
    "### 2. 적절한 모델을 선택해 적합하고 성능을 평가해주세요"
   ]
  },
  {
   "cell_type": "code",
   "execution_count": null,
   "metadata": {},
   "outputs": [],
   "source": []
  },
  {
   "cell_type": "markdown",
   "metadata": {},
   "source": [
    "### 수고하셨습니다! 코딩테스트는 절대적인 평가기준이 아닙니다."
   ]
  },
  {
   "cell_type": "code",
   "execution_count": null,
   "metadata": {},
   "outputs": [],
   "source": []
  },
  {
   "cell_type": "code",
   "execution_count": null,
   "metadata": {},
   "outputs": [],
   "source": []
  },
  {
   "cell_type": "code",
   "execution_count": null,
   "metadata": {},
   "outputs": [],
   "source": []
  }
 ],
 "metadata": {
  "kernelspec": {
   "display_name": "Python 3",
   "language": "python",
   "name": "python3"
  },
  "language_info": {
   "codemirror_mode": {
    "name": "ipython",
    "version": 3
   },
   "file_extension": ".py",
   "mimetype": "text/x-python",
   "name": "python",
   "nbconvert_exporter": "python",
   "pygments_lexer": "ipython3",
   "version": "3.8.8"
  }
 },
 "nbformat": 4,
 "nbformat_minor": 4
}
