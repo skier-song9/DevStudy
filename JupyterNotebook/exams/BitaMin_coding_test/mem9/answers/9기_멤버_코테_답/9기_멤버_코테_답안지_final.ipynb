{
 "cells": [
  {
   "cell_type": "code",
   "execution_count": 1,
   "metadata": {
    "id": "W05-HpzAObWo"
   },
   "outputs": [],
   "source": [
    "import pandas as pd\n",
    "import numpy as np\n",
    "import seaborn as sns"
   ]
  },
  {
   "cell_type": "markdown",
   "metadata": {
    "id": "N1N1uL1WXS5g"
   },
   "source": [
    "# 문제 - 총 16점"
   ]
  },
  {
   "cell_type": "markdown",
   "metadata": {
    "id": "ZguPzl-IOb6s"
   },
   "source": [
    "### 문제 [1-1] - 8 점\n",
    "* 범위 0과 50 사이의 소수(prime number)을 출력하는 코드를 작성하세요.\n",
    "\n",
    "* Hint: for 반복문을 사용해주세요. \n",
    "\n",
    "<답안 예시>\n",
    "1 과 10 사이의 소수: \n",
    "2\n",
    "3\n",
    "5\n"
   ]
  },
  {
   "cell_type": "code",
   "execution_count": null,
   "metadata": {
    "id": "sk7yi95kO-HW"
   },
   "outputs": [],
   "source": [
    "print(\"0과 50 사이의 소수:\")\n",
    "\n",
    "for i in range(0, 50 + 1):\n",
    "  for j in range(2, i):\n",
    "    if (i % j) == 0:\n",
    "      break\n",
    "  else:\n",
    "    print(i)"
   ]
  },
  {
   "cell_type": "markdown",
   "metadata": {
    "id": "TPKAg2IMQmKX"
   },
   "source": [
    "### 문제 [1-2] - 8점\n",
    "* 범위 0과 50 사이의 소수(prime number)를 list 에 저장하고, 그 중에서 하나 수를 랜덤하게 뽑는 함수 rand_prime() 를 작성하세요. \n",
    "* Hint: import random "
   ]
  },
  {
   "cell_type": "code",
   "execution_count": null,
   "metadata": {
    "id": "lLKMqZLuRpn4"
   },
   "outputs": [],
   "source": [
    "import random \n",
    "\n",
    "def rand_prime():\n",
    "  primes = []\n",
    "  for i in range(0, 50+ 1):\n",
    "    for j in range(2, i):\n",
    "      if (i % j) == 0:\n",
    "        break\n",
    "    else:\n",
    "      primes.append(i)\n",
    "  \n",
    "  print(random.choice(primes))\n",
    "\n",
    "rand_prime()"
   ]
  },
  {
   "cell_type": "markdown",
   "metadata": {
    "id": "YgoeyccsRpU-"
   },
   "source": [
    "# 문제 2 - 총 24점\n",
    "* 다음 데이터를 사용하여 각 문항에 답해주세요.\n",
    "\n",
    "\n",
    "\n",
    "* Hint: https://www.kaggle.com/ranjeetjain3/seaborn-tips-dataset 데이터셋에 대한 설명입니다. "
   ]
  },
  {
   "cell_type": "code",
   "execution_count": null,
   "metadata": {
    "id": "IwJOoQF0TeHY"
   },
   "outputs": [],
   "source": [
    "tips=sns.load_dataset('tips')\n",
    "tips.head()"
   ]
  },
  {
   "cell_type": "markdown",
   "metadata": {
    "id": "KUvbUC0FZDPU"
   },
   "source": [
    "### 문제 [2-1] - 6점\n",
    "* tips 에서 day 열값 분포를 구하세요. \n",
    "* 수치형 데이터의 요약 (평균, 사분위 수 등)을 구하시오. "
   ]
  },
  {
   "cell_type": "code",
   "execution_count": null,
   "metadata": {
    "id": "BgsQERNpWbfY"
   },
   "outputs": [],
   "source": [
    "tips['day'].value_counts()\n",
    "tips.describe()"
   ]
  },
  {
   "cell_type": "markdown",
   "metadata": {
    "id": "h07K7z6JKMKh"
   },
   "source": [
    "### 문제 [2-2] - 6점\n",
    "* sex 별 tip 의 최댓값을 구하세요. \n",
    "* Hint: loc[ ]\n"
   ]
  },
  {
   "cell_type": "code",
   "execution_count": null,
   "metadata": {
    "id": "lJiNoF-gBX2b"
   },
   "outputs": [],
   "source": [
    "male = tips['sex']=='Male'\n",
    "female = tips['sex']=='Female'\n",
    "max_male = tips['tip'].loc[male].max()\n",
    "max_female = tips['tip'].loc[female].max()\n",
    "print(max_male)\n",
    "print(max_female)\n"
   ]
  },
  {
   "cell_type": "markdown",
   "metadata": {
    "id": "nJwwUKDHN3nz"
   },
   "source": [
    "### 문제 [2-3] - 6점\n",
    "* total_bill 과 tip 의 상관계수를 구하시오. \n",
    "* tip 을 total_bill 로 나눈 값을 float 타입으로 저장하여 tip_percent 칼럼에 저장하시오. "
   ]
  },
  {
   "cell_type": "code",
   "execution_count": 4,
   "metadata": {
    "id": "ssVlgmayPAJf"
   },
   "outputs": [],
   "source": [
    "tips['total_bill'].corr(tips['tip'])\n",
    "tips['tip_percent'] = tips['tip']/tips['total_bill'].astype('float')"
   ]
  },
  {
   "cell_type": "markdown",
   "metadata": {
    "id": "AzeiacUQN5oK"
   },
   "source": [
    "### 문제 [2-4] - 6점\n",
    "* 목요일에는 Tip 을 1 달러 더 받았지만, 데이터 작성에 문제가 있었다고 합니다. 올바른 목요일 Tip 값을 thur_new 에 저장하세요. \n",
    "* Hint: Apply, Lambda 사용\n"
   ]
  },
  {
   "cell_type": "code",
   "execution_count": null,
   "metadata": {
    "id": "FwKMUDGlPMcn"
   },
   "outputs": [],
   "source": [
    "thur = tips['day'] == 'Thur'\n",
    "thur_new = tips['tip'].loc[thur].apply(lambda x: x+1)"
   ]
  },
  {
   "cell_type": "markdown",
   "metadata": {
    "id": "cvrKPnOaOF6N"
   },
   "source": [
    "# 문제 3 - 총 45점"
   ]
  },
  {
   "cell_type": "code",
   "execution_count": null,
   "metadata": {
    "id": "B6ngBC7YQBrT"
   },
   "outputs": [],
   "source": [
    "#코랩 사용자는 아래의 코드로 파일을 불러와주세요.\n",
    "#해당되지 않는다면 아래 코드는 삭제해주세요.\n",
    "from google.colab import files\n",
    "uploaded = files.upload()"
   ]
  },
  {
   "cell_type": "markdown",
   "metadata": {
    "id": "fMQmmqLBXETA"
   },
   "source": [
    "### 문제 [3-1] - 5점\n",
    "* mpg.csv를 불러와 mpg에 저장한 후, 위에서부터 5행을 출력하세요."
   ]
  },
  {
   "cell_type": "code",
   "execution_count": null,
   "metadata": {},
   "outputs": [],
   "source": [
    "mpg=pd.read_csv('mpg.csv')\n",
    "mpg.head()"
   ]
  },
  {
   "cell_type": "markdown",
   "metadata": {
    "id": "TVlmUBXgOJdO"
   },
   "source": [
    "### 문제 [3-2] - 5점\n",
    "* fl 데이터 빈도수를 알파벳 순서대로(ex. a->b->c)  출력하세요."
   ]
  },
  {
   "cell_type": "code",
   "execution_count": null,
   "metadata": {},
   "outputs": [],
   "source": [
    "mpg['fl'].value_counts().sort_index()"
   ]
  },
  {
   "cell_type": "markdown",
   "metadata": {
    "id": "YWdQXEr3OVTz"
   },
   "source": [
    "### 문제 [3-3] - 5점\n",
    "* mpg1이라는 새로운 데이터 프레임을 생성 후, mpg1 데이터를 출력하세요. \n",
    "* 이 데이터 프레임은 fl, price_fl이라는 두 열을 가지고 있습니다.\n",
    "-------------------------------------------------------------------------\n",
    "* fl값이 c이면, price_fl 값은 2.66 \n",
    "* fl값이 d이면, price_fl 값은 2.23 \n",
    "* fl값이 e이면, price_fl 값은 2.11 \n",
    "* fl값이 p이면, price_fl 값은 2.89 \n",
    "* fl값이 r이면, price_fl 값은 2.49"
   ]
  },
  {
   "cell_type": "code",
   "execution_count": null,
   "metadata": {},
   "outputs": [],
   "source": [
    "mpg1 = pd.DataFrame({'fl': ['c', 'd', 'e','p','r'],\n",
    "                    'price_fl': [2.66,2.23,2.11,2.89,2.49]})\n",
    "mpg1"
   ]
  },
  {
   "cell_type": "markdown",
   "metadata": {
    "id": "8_hP7FTnO77M"
   },
   "source": [
    "### 문제 [3-4] - 5점\n",
    "* mpg 데이터와 mpg1 데이터를 fl열을 기준으로 병합한 후, mpg2에 저장하고 mpg2를 출력하세요."
   ]
  },
  {
   "cell_type": "code",
   "execution_count": null,
   "metadata": {},
   "outputs": [],
   "source": [
    "mpg2=pd.merge(mpg, mpg1, on='fl')\n",
    "mpg2"
   ]
  },
  {
   "cell_type": "markdown",
   "metadata": {
    "id": "SaXOs1LcOem9"
   },
   "source": [
    "### 문제 [3-5] - 5점\n",
    "* mpg2 데이터를 사용해주세요.\n",
    "* group 제조사(manufacturer)로 그룹화 한 후, 다시 클래스(class)별로 그룹화하여 평균을 구해주세요.\n",
    "* Hint: groupby()"
   ]
  },
  {
   "cell_type": "code",
   "execution_count": null,
   "metadata": {},
   "outputs": [],
   "source": [
    "mpg2.groupby(['manufacturer','class']).mean()"
   ]
  },
  {
   "cell_type": "markdown",
   "metadata": {
    "id": "mr1i-QJ5Oip6"
   },
   "source": [
    "### 문제 [3-6] - 5점\n",
    "* mpg2 데이터를 manufacturer 별로 그룹화하여, displ, price_fl의 count, max, min, mean 값을 구해주세요."
   ]
  },
  {
   "cell_type": "code",
   "execution_count": null,
   "metadata": {},
   "outputs": [],
   "source": [
    "mpg2.groupby('manufacturer')[['displ','price_fl']].agg(['count', 'max', 'min', 'mean'])"
   ]
  },
  {
   "cell_type": "markdown",
   "metadata": {
    "id": "NcS5jIQ9CfhL"
   },
   "source": [
    "### 문제 [3-7] - 15점\n",
    "* mpg2 데이터를 사용해주세요.\n",
    "* hwy(연비)가 가장 높은 상위 5개의 manufacturer을 추출하여, top5의 인덱스만 추출해, top5_manufacturer에 저장해주세요.\n",
    "* top5_manufacturer을 출력해주세요.\n",
    "-----------------------\n",
    "* top5_manufacturer을 출력 결과)  \n",
    "Index(['audi', 'chevrolet', 'dodge', 'ford', 'honda'], dtype='object', name='manufacturer') "
   ]
  },
  {
   "cell_type": "code",
   "execution_count": null,
   "metadata": {},
   "outputs": [],
   "source": [
    "top5_manufacturer=mpg2.groupby(['manufacturer']).sum().sort_values(by=['hwy'],ascending=[False]).index[:5]\n",
    "top5_manufacturer"
   ]
  },
  {
   "cell_type": "markdown",
   "metadata": {
    "id": "IYc5adLcCfhL"
   },
   "source": [
    "# 문제 4 - 총 15점"
   ]
  },
  {
   "cell_type": "code",
   "execution_count": null,
   "metadata": {
    "id": "w0p8e5TMCfhL"
   },
   "outputs": [],
   "source": [
    "import datetime"
   ]
  },
  {
   "cell_type": "markdown",
   "metadata": {
    "id": "UqzKyqOBCfhL"
   },
   "source": [
    "* 2022년 1월 ~ 12월의 각 월별 마지막 날짜 포함한 시계열 데이터프레임 happy2022을 만들어주세요.\n",
    "* happy2022 데이터프레임의 열 이름은 date로 지정해주세요.\n",
    "* happy2022를 출력해주세요\n",
    "* Hint: period, freq 사용"
   ]
  },
  {
   "cell_type": "code",
   "execution_count": null,
   "metadata": {},
   "outputs": [],
   "source": [
    "happy2022 = pd.DataFrame({'date': pd.date_range('2022-01-31', periods=12, freq='M')})\n",
    "happy2022"
   ]
  },
  {
   "cell_type": "markdown",
   "metadata": {
    "id": "JRDsY4tNCfhL"
   },
   "source": [
    "# END\n",
    "# 수고하셨습니다. 좋은 결과 있기를 바라며\n",
    "# 코딩 테스트는 절대적 평가기준이 아닙니다."
   ]
  },
  {
   "cell_type": "code",
   "execution_count": null,
   "metadata": {
    "id": "w_INryagCfhM"
   },
   "outputs": [],
   "source": []
  }
 ],
 "metadata": {
  "colab": {
   "name": "9기_멤버_코테_final.ipynb",
   "provenance": []
  },
  "kernelspec": {
   "display_name": "Python 3 (ipykernel)",
   "language": "python",
   "name": "python3"
  },
  "language_info": {
   "codemirror_mode": {
    "name": "ipython",
    "version": 3
   },
   "file_extension": ".py",
   "mimetype": "text/x-python",
   "name": "python",
   "nbconvert_exporter": "python",
   "pygments_lexer": "ipython3",
   "version": "3.9.7"
  }
 },
 "nbformat": 4,
 "nbformat_minor": 1
}
