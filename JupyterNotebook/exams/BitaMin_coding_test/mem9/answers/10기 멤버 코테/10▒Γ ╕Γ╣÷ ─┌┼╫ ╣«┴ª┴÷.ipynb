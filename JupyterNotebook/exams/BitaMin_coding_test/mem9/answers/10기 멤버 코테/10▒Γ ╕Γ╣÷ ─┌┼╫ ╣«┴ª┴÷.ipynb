{
 "cells": [
  {
   "cell_type": "markdown",
   "id": "fddd1782-2727-4e6c-868f-c952d31aed6a",
   "metadata": {},
   "source": [
    "아래 코드를 실행시키고 문제에 답하시오."
   ]
  },
  {
   "cell_type": "code",
   "execution_count": 1,
   "id": "481a3feb",
   "metadata": {},
   "outputs": [],
   "source": [
    "import pandas as pd\n",
    "import numpy as np\n",
    "import seaborn as sns\n",
    "import matplotlib.pyplot as plt"
   ]
  },
  {
   "cell_type": "markdown",
   "id": "4864dd06",
   "metadata": {},
   "source": [
    "# 문제1 - 10점"
   ]
  },
  {
   "cell_type": "markdown",
   "id": "ec7b7542",
   "metadata": {},
   "source": [
    "* 수학, 영어 점수의 평균을 구하고, 점수가 높은 순서대로 정렬한 후 결과값으로 **점수가 높은 5명의 점수를 출력**하세요.\n",
    "\n",
    "* 리스트 순서대로 학생 한 명의 점수입니다.\n",
    "* hint: for문 사용"
   ]
  },
  {
   "cell_type": "code",
   "execution_count": 2,
   "id": "68877a16",
   "metadata": {},
   "outputs": [],
   "source": [
    "english = [84, 76, 86, 90, 73, 85, 81, 71, 89, 100]\n",
    "math = [72, 76, 86, 71, 69, 96, 74, 83, 87, 68]\n"
   ]
  },
  {
   "cell_type": "markdown",
   "id": "387c6dd8",
   "metadata": {},
   "source": [
    "# 문제2 -15점"
   ]
  },
  {
   "cell_type": "markdown",
   "id": "7f52ef8c",
   "metadata": {},
   "source": [
    "* 다음은 2022년 7월 26일 오후 2시 기준, 원화 환율입니다.\n",
    "  (미국:1309.70$, 유럽연합:1339.30€, 중국:193.84¥, 영국:1579.96£)\n",
    "* 환전하려는 금액을 입력 받고, 나라를 입력 받아서 환율을 **소수점 2자리**로 출력하세요. \n",
    "* Hint: 환전 금액과 나라 입력 시 input 함수를, 국가별 환율 계산에는 조건문을 사용하세요.\n",
    "\n",
    "<답안 예시>\n",
    "\n",
    "환전 금액(원화):8000\n",
    "\n",
    "국가 선택(미국/유럽연합/중국/영국):미국\n",
    "\n",
    "6.11\n"
   ]
  },
  {
   "cell_type": "code",
   "execution_count": null,
   "id": "37f83cda",
   "metadata": {},
   "outputs": [],
   "source": []
  },
  {
   "cell_type": "markdown",
   "id": "14a312ab",
   "metadata": {},
   "source": [
    "# 문제3 - 25점"
   ]
  },
  {
   "cell_type": "markdown",
   "id": "04a95cfb",
   "metadata": {},
   "source": [
    "### 문제 [3-1] - 3점\n",
    "\n",
    "midwest.csv를 불러와 midwest에 저장하고, 위에서부터 10행까지 출력하시오."
   ]
  },
  {
   "cell_type": "code",
   "execution_count": null,
   "id": "3856533a",
   "metadata": {},
   "outputs": [],
   "source": []
  },
  {
   "cell_type": "markdown",
   "id": "fc0834cd",
   "metadata": {},
   "source": [
    "### 문제 [3-2] - 7점\n",
    "\n",
    "* popwhite는 해당 지역의 아시아인 인구, poptotal은 해당 지역의 전체 인구를 나타냅니다. \n",
    "\n",
    "* midwest 데이터에 '전체 인구 대비 아시아인 인구 백분율' 변수인 percent 열을 추가하세요."
   ]
  },
  {
   "cell_type": "code",
   "execution_count": null,
   "id": "ace7f474",
   "metadata": {},
   "outputs": [],
   "source": []
  },
  {
   "cell_type": "markdown",
   "id": "f42cd8ce",
   "metadata": {},
   "source": [
    "### 문제 [3-3] - 3점\n",
    "\n",
    "* percent 열의 값을 내림차순으로 정렬하세요."
   ]
  },
  {
   "cell_type": "code",
   "execution_count": null,
   "id": "01178afb",
   "metadata": {},
   "outputs": [],
   "source": []
  },
  {
   "cell_type": "markdown",
   "id": "0112b6e0",
   "metadata": {},
   "source": [
    "### 문제 [3-4] - 6점\n",
    "\n",
    "* percent를 아래의 분류 기준에 따라 새로운 변수를 추가해주시고, 각 분류에 해당하는 지역이 몇 개인지 확인해보시오.\n",
    "\n",
    "* large: 0.9% 이상 / middle: 0.4~0.9% 미만 / small: 0.4% 미만"
   ]
  },
  {
   "cell_type": "code",
   "execution_count": null,
   "id": "3ede31ee",
   "metadata": {},
   "outputs": [],
   "source": []
  },
  {
   "cell_type": "markdown",
   "id": "a354da3c",
   "metadata": {},
   "source": [
    "### 문제 [3-5] - 6점\n",
    "\n",
    "* county가 'SCOTT'인 경우와 county가 'PIATT'인 경우의 poptotal 열의 평균을 각각 구해서 출력하세요.\n",
    "\n",
    "* hint: query 함수와 mean 함수 사용"
   ]
  },
  {
   "cell_type": "code",
   "execution_count": null,
   "id": "99111ed9",
   "metadata": {},
   "outputs": [],
   "source": []
  },
  {
   "cell_type": "markdown",
   "id": "33735826",
   "metadata": {},
   "source": [
    "# 문제4 - 50점"
   ]
  },
  {
   "cell_type": "markdown",
   "id": "38491754",
   "metadata": {},
   "source": [
    "다음 데이터를 사용하여 각 문항에 답하세요."
   ]
  },
  {
   "cell_type": "code",
   "execution_count": 3,
   "id": "115046b9",
   "metadata": {},
   "outputs": [
    {
     "data": {
      "text/html": [
       "<div>\n",
       "<style scoped>\n",
       "    .dataframe tbody tr th:only-of-type {\n",
       "        vertical-align: middle;\n",
       "    }\n",
       "\n",
       "    .dataframe tbody tr th {\n",
       "        vertical-align: top;\n",
       "    }\n",
       "\n",
       "    .dataframe thead th {\n",
       "        text-align: right;\n",
       "    }\n",
       "</style>\n",
       "<table border=\"1\" class=\"dataframe\">\n",
       "  <thead>\n",
       "    <tr style=\"text-align: right;\">\n",
       "      <th></th>\n",
       "      <th>survived</th>\n",
       "      <th>pclass</th>\n",
       "      <th>sex</th>\n",
       "      <th>age</th>\n",
       "      <th>sibsp</th>\n",
       "      <th>parch</th>\n",
       "      <th>fare</th>\n",
       "      <th>embarked</th>\n",
       "      <th>class</th>\n",
       "      <th>who</th>\n",
       "      <th>adult_male</th>\n",
       "      <th>deck</th>\n",
       "      <th>embark_town</th>\n",
       "      <th>alive</th>\n",
       "      <th>alone</th>\n",
       "    </tr>\n",
       "  </thead>\n",
       "  <tbody>\n",
       "    <tr>\n",
       "      <th>0</th>\n",
       "      <td>0</td>\n",
       "      <td>3</td>\n",
       "      <td>male</td>\n",
       "      <td>22.0</td>\n",
       "      <td>1</td>\n",
       "      <td>0</td>\n",
       "      <td>7.2500</td>\n",
       "      <td>S</td>\n",
       "      <td>Third</td>\n",
       "      <td>man</td>\n",
       "      <td>True</td>\n",
       "      <td>NaN</td>\n",
       "      <td>Southampton</td>\n",
       "      <td>no</td>\n",
       "      <td>False</td>\n",
       "    </tr>\n",
       "    <tr>\n",
       "      <th>1</th>\n",
       "      <td>1</td>\n",
       "      <td>1</td>\n",
       "      <td>female</td>\n",
       "      <td>38.0</td>\n",
       "      <td>1</td>\n",
       "      <td>0</td>\n",
       "      <td>71.2833</td>\n",
       "      <td>C</td>\n",
       "      <td>First</td>\n",
       "      <td>woman</td>\n",
       "      <td>False</td>\n",
       "      <td>C</td>\n",
       "      <td>Cherbourg</td>\n",
       "      <td>yes</td>\n",
       "      <td>False</td>\n",
       "    </tr>\n",
       "    <tr>\n",
       "      <th>2</th>\n",
       "      <td>1</td>\n",
       "      <td>3</td>\n",
       "      <td>female</td>\n",
       "      <td>26.0</td>\n",
       "      <td>0</td>\n",
       "      <td>0</td>\n",
       "      <td>7.9250</td>\n",
       "      <td>S</td>\n",
       "      <td>Third</td>\n",
       "      <td>woman</td>\n",
       "      <td>False</td>\n",
       "      <td>NaN</td>\n",
       "      <td>Southampton</td>\n",
       "      <td>yes</td>\n",
       "      <td>True</td>\n",
       "    </tr>\n",
       "    <tr>\n",
       "      <th>3</th>\n",
       "      <td>1</td>\n",
       "      <td>1</td>\n",
       "      <td>female</td>\n",
       "      <td>35.0</td>\n",
       "      <td>1</td>\n",
       "      <td>0</td>\n",
       "      <td>53.1000</td>\n",
       "      <td>S</td>\n",
       "      <td>First</td>\n",
       "      <td>woman</td>\n",
       "      <td>False</td>\n",
       "      <td>C</td>\n",
       "      <td>Southampton</td>\n",
       "      <td>yes</td>\n",
       "      <td>False</td>\n",
       "    </tr>\n",
       "    <tr>\n",
       "      <th>4</th>\n",
       "      <td>0</td>\n",
       "      <td>3</td>\n",
       "      <td>male</td>\n",
       "      <td>35.0</td>\n",
       "      <td>0</td>\n",
       "      <td>0</td>\n",
       "      <td>8.0500</td>\n",
       "      <td>S</td>\n",
       "      <td>Third</td>\n",
       "      <td>man</td>\n",
       "      <td>True</td>\n",
       "      <td>NaN</td>\n",
       "      <td>Southampton</td>\n",
       "      <td>no</td>\n",
       "      <td>True</td>\n",
       "    </tr>\n",
       "  </tbody>\n",
       "</table>\n",
       "</div>"
      ],
      "text/plain": [
       "   survived  pclass     sex   age  sibsp  parch     fare embarked  class  \\\n",
       "0         0       3    male  22.0      1      0   7.2500        S  Third   \n",
       "1         1       1  female  38.0      1      0  71.2833        C  First   \n",
       "2         1       3  female  26.0      0      0   7.9250        S  Third   \n",
       "3         1       1  female  35.0      1      0  53.1000        S  First   \n",
       "4         0       3    male  35.0      0      0   8.0500        S  Third   \n",
       "\n",
       "     who  adult_male deck  embark_town alive  alone  \n",
       "0    man        True  NaN  Southampton    no  False  \n",
       "1  woman       False    C    Cherbourg   yes  False  \n",
       "2  woman       False  NaN  Southampton   yes   True  \n",
       "3  woman       False    C  Southampton   yes  False  \n",
       "4    man        True  NaN  Southampton    no   True  "
      ]
     },
     "execution_count": 3,
     "metadata": {},
     "output_type": "execute_result"
    }
   ],
   "source": [
    "titanic=sns.load_dataset('titanic')\n",
    "titanic.head()"
   ]
  },
  {
   "cell_type": "markdown",
   "id": "aaf76ff3",
   "metadata": {},
   "source": [
    "### 문제 [4-1] - 8점"
   ]
  },
  {
   "cell_type": "markdown",
   "id": "50aa4759",
   "metadata": {},
   "source": [
    "titanic에서 열별 결측치 여부를 확인하고, 결측치가 존재한다면 결측치를 해당 열의 평균값으로 채우세요."
   ]
  },
  {
   "cell_type": "code",
   "execution_count": null,
   "id": "59b4b449",
   "metadata": {},
   "outputs": [],
   "source": []
  },
  {
   "cell_type": "markdown",
   "id": "af010f1a",
   "metadata": {},
   "source": [
    "### 문제 [4-2] - 점수 7점\n",
    "titanic의 각 열에서 결측치가 아닌 데이터가 250개 이상이 되지 않는 경우, 이 열을 삭제한 후 df에 저장하세요."
   ]
  },
  {
   "cell_type": "code",
   "execution_count": null,
   "id": "242db391",
   "metadata": {},
   "outputs": [],
   "source": []
  },
  {
   "cell_type": "markdown",
   "id": "ac148480",
   "metadata": {},
   "source": [
    "### 문제 [4-3] - 5점\n",
    "\n",
    "* 수치형 데이터의 열별 분포를 간략히 요약해 나타내세요.\n",
    "\n",
    "* 평균, 최댓값, 사분위수 등"
   ]
  },
  {
   "cell_type": "code",
   "execution_count": null,
   "id": "df5c2a12",
   "metadata": {},
   "outputs": [],
   "source": []
  },
  {
   "cell_type": "markdown",
   "id": "20130a96",
   "metadata": {},
   "source": [
    "### 문제 [4-4] - 6점"
   ]
  },
  {
   "cell_type": "markdown",
   "id": "9f5bb31c",
   "metadata": {},
   "source": [
    "titanic에서 sex와 pclass 별 생존율을 구하세요."
   ]
  },
  {
   "cell_type": "code",
   "execution_count": null,
   "id": "d4596b19",
   "metadata": {},
   "outputs": [],
   "source": []
  },
  {
   "cell_type": "markdown",
   "id": "0559e325",
   "metadata": {},
   "source": [
    "### 문제 [4-5] - 8점\n",
    "\n",
    "* pclass 별 사망과 생존 수치를 막대그래프로 나타내세요.\n",
    "\n",
    "* sex 별 사망과 생존 수치를 막대그래프로 나타내세요.\n",
    "\n",
    "* hint: countplot 함수 사용"
   ]
  },
  {
   "cell_type": "code",
   "execution_count": 4,
   "id": "73c087f0",
   "metadata": {},
   "outputs": [
    {
     "data": {
      "image/png": "[encoded data removed]",
      "text/plain": [
       "<Figure size 432x432 with 1 Axes>"
      ]
     },
     "metadata": {
      "needs_background": "light"
     },
     "output_type": "display_data"
    }
   ],
   "source": [
    "fig,ax=plt.subplots(figsize=(6,6))"
   ]
  },
  {
   "cell_type": "markdown",
   "id": "6f13d342",
   "metadata": {},
   "source": [
    "### 문제 [4-6] - 8점\n",
    "\n",
    "* titanic에서 age가 20살 이상이면 adult로, 20살 미만이면 child로 나타내는 label열을 추가하세요.\n",
    "\n",
    "* hint: apply, lambda 함수 사용"
   ]
  },
  {
   "cell_type": "code",
   "execution_count": null,
   "id": "fbf30653",
   "metadata": {},
   "outputs": [],
   "source": []
  },
  {
   "cell_type": "markdown",
   "id": "95fe19e1",
   "metadata": {},
   "source": [
    "### 문제 [4-7] - 8점\n",
    "\n",
    "* titanic에서 pclass, sex, age, sibsp, parch, class 열만 뽑은 후, parch의 값이 0인 행만 titanic1에 저장하세요.\n",
    "\n",
    "* 이때 새롭게 만들어진 titanic1의 index는 0부터 다시 시작하도록 하세요.\n",
    "\n",
    "* hint: loc 함수 사용"
   ]
  },
  {
   "cell_type": "code",
   "execution_count": null,
   "id": "bce482a4",
   "metadata": {},
   "outputs": [],
   "source": []
  },
  {
   "cell_type": "markdown",
   "id": "9b82c726",
   "metadata": {},
   "source": [
    "# END\n",
    "\n",
    "## 수고하셨습니다:) 좋은 결과 있기를 바라며, 코딩테스트는 절대적 평가 기준이 아닙니다."
   ]
  }
 ],
 "metadata": {
  "kernelspec": {
   "display_name": "Python 3 (ipykernel)",
   "language": "python",
   "name": "python3"
  },
  "language_info": {
   "codemirror_mode": {
    "name": "ipython",
    "version": 3
   },
   "file_extension": ".py",
   "mimetype": "text/x-python",
   "name": "python",
   "nbconvert_exporter": "python",
   "pygments_lexer": "ipython3",
   "version": "3.9.7"
  }
 },
 "nbformat": 4,
 "nbformat_minor": 5
}
