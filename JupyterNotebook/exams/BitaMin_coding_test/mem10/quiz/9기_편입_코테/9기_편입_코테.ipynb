{
  "nbformat": 4,
  "nbformat_minor": 0,
  "metadata": {
    "colab": {
      "name": "9기 편입 코테.ipynb",
      "provenance": [],
      "collapsed_sections": []
    },
    "kernelspec": {
      "name": "python3",
      "display_name": "Python 3"
    },
    "language_info": {
      "name": "python"
    }
  },
  "cells": [
    {
      "cell_type": "markdown",
      "source": [
        "# 9기 편입 테스트"
      ],
      "metadata": {
        "id": "CD1ucBw5b3J_"
      }
    },
    {
      "cell_type": "markdown",
      "source": [
        "- 제공된 데이터는 인구조사 소득 데이터셋입니다. \n",
        "- target열은 Earings-Raw로, 해당 열의 값이 >50k 또는 <=50k 인지를 예측하는 모델을 만들어주세요.\n",
        "- 아래의 각 column별 설명을 참고하셔서, 본인의 판단 하에 전처리/모델링을 진행하고 성능을 평가해주시면 됩니다."
      ],
      "metadata": {
        "id": "xYNcssTAcLar"
      }
    },
    {
      "cell_type": "markdown",
      "source": [
        "   1. age: the age of an individual (Integer greater than 0)\n",
        "   2. workclass : a general term to represent the employment status of an individual\n",
        "   3. fnlwgt : final weight. In other words, this is the number of people the census believes the entry represents (Integer greater than 0)\n",
        "   4. education: the highest level of education achieved by an individual\n",
        "   5. education-num: the highest level of education achieved in numerical form (Integer greater than 0)\n",
        "   6. marital-status:  marital status of an individual. Married­civ­spouse corresponds to a civilian spouse while Married­AF­spouse is a spouse in the Armed Forces.\n",
        "   7. occupation: the general type of occupation of an individual\n",
        "   8. relationship: represents what this individual is relative to others. For example an individual could be a Husband. Each entry only has one relationship attribute and is somewhat redundant with marital status. We might not make use of this attribute at all\n",
        "   9. race: Descriptions of an individual’s race\n",
        "   10. sex: the biological sex of the individual (Male, Female)\n",
        "   11. capital-gain: capital gains for an individual (Integer greater than or equal to 0)\n",
        "   12. capital-loss: capital loss for an individual (Integer greater than or equal to 0)\n",
        "   13. hours-per-week: the hours an individual has reported to work per week (continuous)\n",
        "   14. native-country: country of origin for an individual\n",
        "   15. Earnings-Raw (target): whether or not an individual makes more than $50,000 annually (\\>50K, <=50K) \n",
        "\n",
        "\n"
      ],
      "metadata": {
        "id": "fsDq9A1vdx3H"
      }
    },
    {
      "cell_type": "code",
      "execution_count": null,
      "metadata": {
        "id": "RqaxvrwNViWO"
      },
      "outputs": [],
      "source": [
        "import pandas as pd\n",
        "df=pd.read_csv(\"adult.csv\")\n",
        "df.head()"
      ]
    },
    {
      "cell_type": "code",
      "source": [
        "# 아래부터 자유롭게 코드 작성해서 문제를 풀어주시면 됩니다."
      ],
      "metadata": {
        "id": "OUdFmh6jjoET"
      },
      "execution_count": null,
      "outputs": []
    },
    {
      "cell_type": "code",
      "source": [
        ""
      ],
      "metadata": {
        "id": "FeqovRN5jtl7"
      },
      "execution_count": null,
      "outputs": []
    },
    {
      "cell_type": "code",
      "source": [
        ""
      ],
      "metadata": {
        "id": "YiGgT0AyjtoX"
      },
      "execution_count": null,
      "outputs": []
    },
    {
      "cell_type": "code",
      "source": [
        ""
      ],
      "metadata": {
        "id": "iAkrFbX1jtq2"
      },
      "execution_count": null,
      "outputs": []
    },
    {
      "cell_type": "markdown",
      "source": [
        "# 수고하셨습니다. 코딩테스트는 절대적인 평가 기준이 아닙니다."
      ],
      "metadata": {
        "id": "Inxak_x2juIO"
      }
    }
  ]
}