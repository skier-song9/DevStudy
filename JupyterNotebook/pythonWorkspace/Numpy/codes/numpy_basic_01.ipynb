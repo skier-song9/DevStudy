{
 "cells": [
  {
   "cell_type": "code",
   "execution_count": 2,
   "id": "f6ab2b85",
   "metadata": {
    "ExecuteTime": {
     "end_time": "2023-08-18T09:50:38.049529Z",
     "start_time": "2023-08-18T09:50:37.935300Z"
    }
   },
   "outputs": [],
   "source": [
    "import numpy as np"
   ]
  },
  {
   "cell_type": "markdown",
   "id": "b1b3c592",
   "metadata": {},
   "source": [
    "# ndarray"
   ]
  },
  {
   "cell_type": "code",
   "execution_count": 2,
   "id": "6193991f",
   "metadata": {
    "ExecuteTime": {
     "end_time": "2023-08-18T07:47:47.647540Z",
     "start_time": "2023-08-18T07:47:47.639910Z"
    }
   },
   "outputs": [],
   "source": [
    "nda1 = np.array([1,2,3])"
   ]
  },
  {
   "cell_type": "code",
   "execution_count": 3,
   "id": "3caff728",
   "metadata": {
    "ExecuteTime": {
     "end_time": "2023-08-18T07:48:03.246870Z",
     "start_time": "2023-08-18T07:48:03.228260Z"
    }
   },
   "outputs": [
    {
     "name": "stdout",
     "output_type": "stream",
     "text": [
      "<class 'numpy.ndarray'>\n",
      "(3,)\n"
     ]
    }
   ],
   "source": [
    "print(type(nda1))\n",
    "print(nda1.shape)"
   ]
  },
  {
   "cell_type": "code",
   "execution_count": 5,
   "id": "68bba712",
   "metadata": {
    "ExecuteTime": {
     "end_time": "2023-08-18T07:52:10.742742Z",
     "start_time": "2023-08-18T07:52:10.723084Z"
    },
    "scrolled": true
   },
   "outputs": [
    {
     "name": "stderr",
     "output_type": "stream",
     "text": [
      "C:\\Users\\songkyu\\anaconda3\\envs\\ITConsulting\\lib\\site-packages\\ipykernel_launcher.py:1: VisibleDeprecationWarning: Creating an ndarray from ragged nested sequences (which is a list-or-tuple of lists-or-tuples-or ndarrays with different lengths or shapes) is deprecated. If you meant to do this, you must specify 'dtype=object' when creating the ndarray.\n",
      "  \"\"\"Entry point for launching an IPython kernel.\n"
     ]
    }
   ],
   "source": [
    "b = np.array([[1,2,3],[1,2]])"
   ]
  },
  {
   "cell_type": "code",
   "execution_count": 7,
   "id": "4ed0e1ae",
   "metadata": {
    "ExecuteTime": {
     "end_time": "2023-08-18T07:52:35.023617Z",
     "start_time": "2023-08-18T07:52:35.013391Z"
    },
    "scrolled": true
   },
   "outputs": [
    {
     "name": "stdout",
     "output_type": "stream",
     "text": [
      "[list([1, 2, 3]) list([1, 2])]\n",
      "(2,)\n"
     ]
    }
   ],
   "source": [
    "print(b)\n",
    "print(b.shape)"
   ]
  },
  {
   "cell_type": "code",
   "execution_count": 9,
   "id": "c0c4fe10",
   "metadata": {
    "ExecuteTime": {
     "end_time": "2023-08-18T07:53:11.781197Z",
     "start_time": "2023-08-18T07:53:11.762283Z"
    },
    "scrolled": true
   },
   "outputs": [
    {
     "name": "stdout",
     "output_type": "stream",
     "text": [
      "[[1 2 3]\n",
      " [1 2 3]]\n",
      "(2, 3)\n"
     ]
    }
   ],
   "source": [
    "c = np.array([[1,2,3],[1,2,3]])\n",
    "print(c)\n",
    "print(c.shape)"
   ]
  },
  {
   "cell_type": "code",
   "execution_count": 11,
   "id": "e53ef364",
   "metadata": {
    "ExecuteTime": {
     "end_time": "2023-08-18T07:55:34.453203Z",
     "start_time": "2023-08-18T07:55:34.429261Z"
    }
   },
   "outputs": [
    {
     "name": "stdout",
     "output_type": "stream",
     "text": [
      "[[1 2 3]\n",
      " [1 2 3]\n",
      " [1 2 3]]\n",
      "(3, 3)\n"
     ]
    }
   ],
   "source": [
    "d = np.array([[1,2,3],[1,2,3],[1,2,3]])\n",
    "print(d)\n",
    "print(d.shape)"
   ]
  },
  {
   "cell_type": "code",
   "execution_count": 6,
   "id": "7da0abb0",
   "metadata": {
    "ExecuteTime": {
     "end_time": "2023-08-18T09:58:26.281042Z",
     "start_time": "2023-08-18T09:58:26.263533Z"
    }
   },
   "outputs": [
    {
     "name": "stdout",
     "output_type": "stream",
     "text": [
      "[[[ 1  2]\n",
      "  [ 3  4]]\n",
      "\n",
      " [[ 5  6]\n",
      "  [ 7  8]]\n",
      "\n",
      " [[ 9 10]\n",
      "  [11 12]]]\n",
      "(3, 2, 2)\n"
     ]
    }
   ],
   "source": [
    "e = np.array([[[1,2],[3,4]],[[5,6],[7,8]],[[9,10],[11,12]]])\n",
    "print(e)\n",
    "print(e.shape)"
   ]
  },
  {
   "cell_type": "markdown",
   "id": "5ead41e2",
   "metadata": {},
   "source": [
    "# ndarray dtype"
   ]
  },
  {
   "cell_type": "code",
   "execution_count": 4,
   "id": "a63ee82a",
   "metadata": {
    "ExecuteTime": {
     "end_time": "2023-08-18T09:50:53.694382Z",
     "start_time": "2023-08-18T09:50:53.669685Z"
    },
    "scrolled": true
   },
   "outputs": [
    {
     "name": "stdout",
     "output_type": "stream",
     "text": [
      "['1' '2' 'hello']\n",
      "<U11\n"
     ]
    }
   ],
   "source": [
    "ndadtype = np.array([1,'2','hello'])\n",
    "print(ndadtype)\n",
    "print(ndadtype.dtype)"
   ]
  },
  {
   "cell_type": "code",
   "execution_count": 7,
   "id": "d55de89b",
   "metadata": {
    "ExecuteTime": {
     "end_time": "2023-08-18T09:58:27.315702Z",
     "start_time": "2023-08-18T09:58:27.297472Z"
    }
   },
   "outputs": [
    {
     "data": {
      "text/plain": [
       "array([[['1', '2'],\n",
       "        ['3', '4']],\n",
       "\n",
       "       [['5', '6'],\n",
       "        ['7', '8']],\n",
       "\n",
       "       [['9', '10'],\n",
       "        ['11', '12']]], dtype='<U11')"
      ]
     },
     "execution_count": 7,
     "metadata": {},
     "output_type": "execute_result"
    }
   ],
   "source": [
    "e.astype('str')"
   ]
  },
  {
   "cell_type": "markdown",
   "id": "f0e2b9f6",
   "metadata": {},
   "source": [
    "# ndarray 생성하기"
   ]
  },
  {
   "cell_type": "code",
   "execution_count": 8,
   "id": "cf2fbb7b",
   "metadata": {
    "ExecuteTime": {
     "end_time": "2023-08-18T10:06:39.617094Z",
     "start_time": "2023-08-18T10:06:39.598034Z"
    }
   },
   "outputs": [
    {
     "data": {
      "text/plain": [
       "array([0., 0.])"
      ]
     },
     "execution_count": 8,
     "metadata": {},
     "output_type": "execute_result"
    }
   ],
   "source": [
    "np.zeros(2)"
   ]
  },
  {
   "cell_type": "code",
   "execution_count": 11,
   "id": "0df1a707",
   "metadata": {
    "ExecuteTime": {
     "end_time": "2023-08-18T10:07:21.334395Z",
     "start_time": "2023-08-18T10:07:21.330102Z"
    }
   },
   "outputs": [
    {
     "data": {
      "text/plain": [
       "(0,)"
      ]
     },
     "execution_count": 11,
     "metadata": {},
     "output_type": "execute_result"
    }
   ],
   "source": [
    "np.zeros(0).shape"
   ]
  },
  {
   "cell_type": "markdown",
   "id": "88bb9f88",
   "metadata": {},
   "source": [
    "# reshaping"
   ]
  },
  {
   "cell_type": "code",
   "execution_count": 12,
   "id": "33f233e2",
   "metadata": {
    "ExecuteTime": {
     "end_time": "2023-08-18T10:32:44.202412Z",
     "start_time": "2023-08-18T10:32:44.192058Z"
    }
   },
   "outputs": [
    {
     "data": {
      "text/plain": [
       "array([0, 1, 2, 3, 4, 5, 6, 7, 8, 9])"
      ]
     },
     "execution_count": 12,
     "metadata": {},
     "output_type": "execute_result"
    }
   ],
   "source": [
    "re = np.arange(10)\n",
    "re"
   ]
  },
  {
   "cell_type": "code",
   "execution_count": 14,
   "id": "a540be4f",
   "metadata": {
    "ExecuteTime": {
     "end_time": "2023-08-18T12:14:19.347364Z",
     "start_time": "2023-08-18T12:14:19.331495Z"
    }
   },
   "outputs": [
    {
     "data": {
      "text/plain": [
       "array([[0, 1, 2, 3, 4],\n",
       "       [5, 6, 7, 8, 9]])"
      ]
     },
     "execution_count": 14,
     "metadata": {},
     "output_type": "execute_result"
    }
   ],
   "source": [
    "re2 = re.reshape((2,5))\n",
    "re2"
   ]
  },
  {
   "cell_type": "code",
   "execution_count": 15,
   "id": "2dc3319b",
   "metadata": {
    "ExecuteTime": {
     "end_time": "2023-08-18T12:14:45.075358Z",
     "start_time": "2023-08-18T12:14:45.064025Z"
    }
   },
   "outputs": [
    {
     "data": {
      "text/plain": [
       "array([[[0, 1, 2, 3, 4]],\n",
       "\n",
       "       [[5, 6, 7, 8, 9]]])"
      ]
     },
     "execution_count": 15,
     "metadata": {},
     "output_type": "execute_result"
    }
   ],
   "source": [
    "re3 = re2.reshape((2,1,5))\n",
    "re3"
   ]
  },
  {
   "cell_type": "code",
   "execution_count": 17,
   "id": "3ced32d1",
   "metadata": {
    "ExecuteTime": {
     "end_time": "2023-08-18T12:15:17.963491Z",
     "start_time": "2023-08-18T12:15:17.915262Z"
    }
   },
   "outputs": [
    {
     "ename": "ValueError",
     "evalue": "cannot reshape array of size 10 into shape (2,1,1)",
     "output_type": "error",
     "traceback": [
      "\u001b[1;31m---------------------------------------------------------------------------\u001b[0m",
      "\u001b[1;31mValueError\u001b[0m                                Traceback (most recent call last)",
      "\u001b[1;32m~\\AppData\\Local\\Temp\\ipykernel_1940\\2242643208.py\u001b[0m in \u001b[0;36m<module>\u001b[1;34m\u001b[0m\n\u001b[1;32m----> 1\u001b[1;33m \u001b[0mre2\u001b[0m\u001b[1;33m.\u001b[0m\u001b[0mreshape\u001b[0m\u001b[1;33m(\u001b[0m\u001b[1;33m(\u001b[0m\u001b[1;36m2\u001b[0m\u001b[1;33m,\u001b[0m\u001b[1;36m1\u001b[0m\u001b[1;33m,\u001b[0m\u001b[1;36m1\u001b[0m\u001b[1;33m)\u001b[0m\u001b[1;33m)\u001b[0m\u001b[1;33m\u001b[0m\u001b[1;33m\u001b[0m\u001b[0m\n\u001b[0m",
      "\u001b[1;31mValueError\u001b[0m: cannot reshape array of size 10 into shape (2,1,1)"
     ]
    }
   ],
   "source": [
    "# re2.reshape((2,1,1)) # [x]"
   ]
  },
  {
   "cell_type": "code",
   "execution_count": 18,
   "id": "d05a5fa3",
   "metadata": {
    "ExecuteTime": {
     "end_time": "2023-08-18T12:24:31.565363Z",
     "start_time": "2023-08-18T12:24:31.547613Z"
    }
   },
   "outputs": [
    {
     "data": {
      "text/plain": [
       "array([[[0, 1],\n",
       "        [2, 3]],\n",
       "\n",
       "       [[4, 5],\n",
       "        [6, 7]]])"
      ]
     },
     "execution_count": 18,
     "metadata": {},
     "output_type": "execute_result"
    }
   ],
   "source": [
    "array1 = np.arange(8)\n",
    "array3d = array1.reshape((2,2,2))\n",
    "array3d"
   ]
  },
  {
   "cell_type": "code",
   "execution_count": 26,
   "id": "268d5072",
   "metadata": {
    "ExecuteTime": {
     "end_time": "2023-08-18T12:26:08.418681Z",
     "start_time": "2023-08-18T12:26:08.398586Z"
    }
   },
   "outputs": [
    {
     "data": {
      "text/plain": [
       "array([[0],\n",
       "       [1],\n",
       "       [2],\n",
       "       [3],\n",
       "       [4],\n",
       "       [5],\n",
       "       [6],\n",
       "       [7]])"
      ]
     },
     "execution_count": 26,
     "metadata": {},
     "output_type": "execute_result"
    }
   ],
   "source": [
    "array2d = array3d.reshape(-1,1)\n",
    "array2d"
   ]
  },
  {
   "cell_type": "code",
   "execution_count": 23,
   "id": "ba8a79fc",
   "metadata": {
    "ExecuteTime": {
     "end_time": "2023-08-18T12:25:48.792056Z",
     "start_time": "2023-08-18T12:25:48.778962Z"
    }
   },
   "outputs": [
    {
     "data": {
      "text/plain": [
       "array([0, 1, 2, 3, 4, 5, 6, 7])"
      ]
     },
     "execution_count": 23,
     "metadata": {},
     "output_type": "execute_result"
    }
   ],
   "source": [
    "array1d = array2d.reshape(-1)\n",
    "array1d"
   ]
  },
  {
   "cell_type": "code",
   "execution_count": 30,
   "id": "17458457",
   "metadata": {
    "ExecuteTime": {
     "end_time": "2023-08-18T13:20:33.540735Z",
     "start_time": "2023-08-18T13:20:33.534050Z"
    },
    "scrolled": true
   },
   "outputs": [
    {
     "data": {
      "text/plain": [
       "[[0], [1], [2], [3], [4], [5], [6], [7], [8]]"
      ]
     },
     "execution_count": 30,
     "metadata": {},
     "output_type": "execute_result"
    }
   ],
   "source": [
    "np.arange(9).reshape((3,1,3)).reshape((-1,1)).tolist()"
   ]
  },
  {
   "cell_type": "markdown",
   "id": "bb1ed051",
   "metadata": {},
   "source": [
    "# indexing"
   ]
  },
  {
   "cell_type": "code",
   "execution_count": 31,
   "id": "06409ebb",
   "metadata": {
    "ExecuteTime": {
     "end_time": "2023-08-18T15:41:30.190242Z",
     "start_time": "2023-08-18T15:41:30.168468Z"
    }
   },
   "outputs": [
    {
     "data": {
      "text/plain": [
       "array([[0, 1, 2],\n",
       "       [3, 4, 5],\n",
       "       [6, 7, 8]])"
      ]
     },
     "execution_count": 31,
     "metadata": {},
     "output_type": "execute_result"
    }
   ],
   "source": [
    "array2ds = np.arange(9).reshape((3,3))\n",
    "array2ds"
   ]
  },
  {
   "cell_type": "code",
   "execution_count": 32,
   "id": "108d7fdd",
   "metadata": {
    "ExecuteTime": {
     "end_time": "2023-08-18T15:41:50.507030Z",
     "start_time": "2023-08-18T15:41:50.489894Z"
    }
   },
   "outputs": [
    {
     "data": {
      "text/plain": [
       "array([1, 5])"
      ]
     },
     "execution_count": 32,
     "metadata": {},
     "output_type": "execute_result"
    }
   ],
   "source": [
    "array2ds[[0,1],[1,2]]"
   ]
  },
  {
   "cell_type": "code",
   "execution_count": 35,
   "id": "2a933f16",
   "metadata": {
    "ExecuteTime": {
     "end_time": "2023-08-18T15:55:32.736980Z",
     "start_time": "2023-08-18T15:55:32.723334Z"
    }
   },
   "outputs": [
    {
     "data": {
      "text/plain": [
       "array([2, 3, 7])"
      ]
     },
     "execution_count": 35,
     "metadata": {},
     "output_type": "execute_result"
    }
   ],
   "source": [
    "array2ds[[0,1,2],[2,0,1]]"
   ]
  },
  {
   "cell_type": "code",
   "execution_count": 38,
   "id": "4ce93aa1",
   "metadata": {
    "ExecuteTime": {
     "end_time": "2023-08-18T15:56:10.933600Z",
     "start_time": "2023-08-18T15:56:10.918926Z"
    }
   },
   "outputs": [
    {
     "data": {
      "text/plain": [
       "[[3, 1, 2], [6, 4, 5], [9, 7, 8]]"
      ]
     },
     "execution_count": 38,
     "metadata": {},
     "output_type": "execute_result"
    }
   ],
   "source": [
    "arr2ds = np.arange(1,10).reshape((3,3))\n",
    "arr2ds[:,[2,0,1]].tolist()"
   ]
  },
  {
   "cell_type": "markdown",
   "id": "fff254a1",
   "metadata": {},
   "source": [
    "# sorting"
   ]
  },
  {
   "cell_type": "code",
   "execution_count": 41,
   "id": "b07a5f58",
   "metadata": {
    "ExecuteTime": {
     "end_time": "2023-08-18T16:03:06.605460Z",
     "start_time": "2023-08-18T16:03:06.589710Z"
    }
   },
   "outputs": [
    {
     "data": {
      "text/plain": [
       "array([0, 1, 2, 3, 4, 5, 6, 7, 8, 9])"
      ]
     },
     "execution_count": 41,
     "metadata": {},
     "output_type": "execute_result"
    }
   ],
   "source": [
    "sortarr = np.arange(10)\n",
    "sortarr"
   ]
  },
  {
   "cell_type": "code",
   "execution_count": 42,
   "id": "c76be054",
   "metadata": {
    "ExecuteTime": {
     "end_time": "2023-08-18T16:03:11.226855Z",
     "start_time": "2023-08-18T16:03:11.198605Z"
    }
   },
   "outputs": [
    {
     "data": {
      "text/plain": [
       "array([9, 8, 7, 6, 5, 4, 3, 2, 1, 0])"
      ]
     },
     "execution_count": 42,
     "metadata": {},
     "output_type": "execute_result"
    }
   ],
   "source": [
    "np.sort(sortarr,axis=0,kind='quicksort')[::-1]"
   ]
  },
  {
   "cell_type": "code",
   "execution_count": 47,
   "id": "01103ed0",
   "metadata": {
    "ExecuteTime": {
     "end_time": "2023-08-18T16:05:41.412576Z",
     "start_time": "2023-08-18T16:05:41.392887Z"
    }
   },
   "outputs": [
    {
     "data": {
      "text/plain": [
       "array([[0, 1, 2, 3, 4],\n",
       "       [5, 6, 7, 8, 9]])"
      ]
     },
     "execution_count": 47,
     "metadata": {},
     "output_type": "execute_result"
    }
   ],
   "source": [
    "sortarr2d = sortarr.reshape((2,-1))\n",
    "sortarr2d"
   ]
  },
  {
   "cell_type": "code",
   "execution_count": 57,
   "id": "f9fcfa4e",
   "metadata": {
    "ExecuteTime": {
     "end_time": "2023-08-18T16:14:58.677973Z",
     "start_time": "2023-08-18T16:14:58.667470Z"
    }
   },
   "outputs": [
    {
     "data": {
      "text/plain": [
       "array([[5, 6, 7, 8, 9],\n",
       "       [0, 1, 2, 3, 4]])"
      ]
     },
     "execution_count": 57,
     "metadata": {},
     "output_type": "execute_result"
    }
   ],
   "source": [
    "np.sort(sortarr2d,axis=0)[::-1]"
   ]
  },
  {
   "cell_type": "code",
   "execution_count": null,
   "id": "9ee3513f",
   "metadata": {},
   "outputs": [],
   "source": []
  },
  {
   "cell_type": "code",
   "execution_count": null,
   "id": "3a35d9cc",
   "metadata": {},
   "outputs": [],
   "source": []
  },
  {
   "cell_type": "code",
   "execution_count": null,
   "id": "93aa2900",
   "metadata": {},
   "outputs": [],
   "source": []
  },
  {
   "cell_type": "code",
   "execution_count": null,
   "id": "f2d0c211",
   "metadata": {},
   "outputs": [],
   "source": []
  }
 ],
 "metadata": {
  "kernelspec": {
   "display_name": "Python 3 (ipykernel)",
   "language": "python",
   "name": "python3"
  },
  "language_info": {
   "codemirror_mode": {
    "name": "ipython",
    "version": 3
   },
   "file_extension": ".py",
   "mimetype": "text/x-python",
   "name": "python",
   "nbconvert_exporter": "python",
   "pygments_lexer": "ipython3",
   "version": "3.7.16"
  }
 },
 "nbformat": 4,
 "nbformat_minor": 5
}
