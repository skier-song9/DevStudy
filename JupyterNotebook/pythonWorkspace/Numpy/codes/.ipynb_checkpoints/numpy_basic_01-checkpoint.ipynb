{
 "cells": [
  {
   "cell_type": "code",
   "execution_count": 2,
   "id": "f6ab2b85",
   "metadata": {
    "ExecuteTime": {
     "end_time": "2023-08-18T09:50:38.049529Z",
     "start_time": "2023-08-18T09:50:37.935300Z"
    }
   },
   "outputs": [],
   "source": [
    "import numpy as np"
   ]
  },
  {
   "cell_type": "markdown",
   "id": "6b102706",
   "metadata": {},
   "source": [
    "# ndarray"
   ]
  },
  {
   "cell_type": "code",
   "execution_count": 2,
   "id": "6193991f",
   "metadata": {
    "ExecuteTime": {
     "end_time": "2023-08-18T07:47:47.647540Z",
     "start_time": "2023-08-18T07:47:47.639910Z"
    }
   },
   "outputs": [],
   "source": [
    "nda1 = np.array([1,2,3])"
   ]
  },
  {
   "cell_type": "code",
   "execution_count": 3,
   "id": "3caff728",
   "metadata": {
    "ExecuteTime": {
     "end_time": "2023-08-18T07:48:03.246870Z",
     "start_time": "2023-08-18T07:48:03.228260Z"
    }
   },
   "outputs": [
    {
     "name": "stdout",
     "output_type": "stream",
     "text": [
      "<class 'numpy.ndarray'>\n",
      "(3,)\n"
     ]
    }
   ],
   "source": [
    "print(type(nda1))\n",
    "print(nda1.shape)"
   ]
  },
  {
   "cell_type": "code",
   "execution_count": 5,
   "id": "68bba712",
   "metadata": {
    "ExecuteTime": {
     "end_time": "2023-08-18T07:52:10.742742Z",
     "start_time": "2023-08-18T07:52:10.723084Z"
    },
    "scrolled": true
   },
   "outputs": [
    {
     "name": "stderr",
     "output_type": "stream",
     "text": [
      "C:\\Users\\songkyu\\anaconda3\\envs\\ITConsulting\\lib\\site-packages\\ipykernel_launcher.py:1: VisibleDeprecationWarning: Creating an ndarray from ragged nested sequences (which is a list-or-tuple of lists-or-tuples-or ndarrays with different lengths or shapes) is deprecated. If you meant to do this, you must specify 'dtype=object' when creating the ndarray.\n",
      "  \"\"\"Entry point for launching an IPython kernel.\n"
     ]
    }
   ],
   "source": [
    "b = np.array([[1,2,3],[1,2]])"
   ]
  },
  {
   "cell_type": "code",
   "execution_count": 7,
   "id": "4ed0e1ae",
   "metadata": {
    "ExecuteTime": {
     "end_time": "2023-08-18T07:52:35.023617Z",
     "start_time": "2023-08-18T07:52:35.013391Z"
    },
    "scrolled": true
   },
   "outputs": [
    {
     "name": "stdout",
     "output_type": "stream",
     "text": [
      "[list([1, 2, 3]) list([1, 2])]\n",
      "(2,)\n"
     ]
    }
   ],
   "source": [
    "print(b)\n",
    "print(b.shape)"
   ]
  },
  {
   "cell_type": "code",
   "execution_count": 9,
   "id": "c0c4fe10",
   "metadata": {
    "ExecuteTime": {
     "end_time": "2023-08-18T07:53:11.781197Z",
     "start_time": "2023-08-18T07:53:11.762283Z"
    },
    "scrolled": true
   },
   "outputs": [
    {
     "name": "stdout",
     "output_type": "stream",
     "text": [
      "[[1 2 3]\n",
      " [1 2 3]]\n",
      "(2, 3)\n"
     ]
    }
   ],
   "source": [
    "c = np.array([[1,2,3],[1,2,3]])\n",
    "print(c)\n",
    "print(c.shape)"
   ]
  },
  {
   "cell_type": "code",
   "execution_count": 11,
   "id": "e53ef364",
   "metadata": {
    "ExecuteTime": {
     "end_time": "2023-08-18T07:55:34.453203Z",
     "start_time": "2023-08-18T07:55:34.429261Z"
    }
   },
   "outputs": [
    {
     "name": "stdout",
     "output_type": "stream",
     "text": [
      "[[1 2 3]\n",
      " [1 2 3]\n",
      " [1 2 3]]\n",
      "(3, 3)\n"
     ]
    }
   ],
   "source": [
    "d = np.array([[1,2,3],[1,2,3],[1,2,3]])\n",
    "print(d)\n",
    "print(d.shape)"
   ]
  },
  {
   "cell_type": "code",
   "execution_count": 6,
   "id": "7da0abb0",
   "metadata": {
    "ExecuteTime": {
     "end_time": "2023-08-18T09:58:26.281042Z",
     "start_time": "2023-08-18T09:58:26.263533Z"
    }
   },
   "outputs": [
    {
     "name": "stdout",
     "output_type": "stream",
     "text": [
      "[[[ 1  2]\n",
      "  [ 3  4]]\n",
      "\n",
      " [[ 5  6]\n",
      "  [ 7  8]]\n",
      "\n",
      " [[ 9 10]\n",
      "  [11 12]]]\n",
      "(3, 2, 2)\n"
     ]
    }
   ],
   "source": [
    "e = np.array([[[1,2],[3,4]],[[5,6],[7,8]],[[9,10],[11,12]]])\n",
    "print(e)\n",
    "print(e.shape)"
   ]
  },
  {
   "cell_type": "markdown",
   "id": "751ce466",
   "metadata": {},
   "source": [
    "# ndarray dtype"
   ]
  },
  {
   "cell_type": "code",
   "execution_count": 4,
   "id": "a63ee82a",
   "metadata": {
    "ExecuteTime": {
     "end_time": "2023-08-18T09:50:53.694382Z",
     "start_time": "2023-08-18T09:50:53.669685Z"
    },
    "scrolled": true
   },
   "outputs": [
    {
     "name": "stdout",
     "output_type": "stream",
     "text": [
      "['1' '2' 'hello']\n",
      "<U11\n"
     ]
    }
   ],
   "source": [
    "ndadtype = np.array([1,'2','hello'])\n",
    "print(ndadtype)\n",
    "print(ndadtype.dtype)"
   ]
  },
  {
   "cell_type": "code",
   "execution_count": 7,
   "id": "d55de89b",
   "metadata": {
    "ExecuteTime": {
     "end_time": "2023-08-18T09:58:27.315702Z",
     "start_time": "2023-08-18T09:58:27.297472Z"
    }
   },
   "outputs": [
    {
     "data": {
      "text/plain": [
       "array([[['1', '2'],\n",
       "        ['3', '4']],\n",
       "\n",
       "       [['5', '6'],\n",
       "        ['7', '8']],\n",
       "\n",
       "       [['9', '10'],\n",
       "        ['11', '12']]], dtype='<U11')"
      ]
     },
     "execution_count": 7,
     "metadata": {},
     "output_type": "execute_result"
    }
   ],
   "source": [
    "e.astype('str')"
   ]
  },
  {
   "cell_type": "markdown",
   "id": "2b58c17f",
   "metadata": {},
   "source": [
    "# ndarray 생성하기"
   ]
  },
  {
   "cell_type": "code",
   "execution_count": 8,
   "id": "cc35f0d6",
   "metadata": {
    "ExecuteTime": {
     "end_time": "2023-08-18T10:06:39.617094Z",
     "start_time": "2023-08-18T10:06:39.598034Z"
    }
   },
   "outputs": [
    {
     "data": {
      "text/plain": [
       "array([0., 0.])"
      ]
     },
     "execution_count": 8,
     "metadata": {},
     "output_type": "execute_result"
    }
   ],
   "source": [
    "np.zeros(2)"
   ]
  },
  {
   "cell_type": "code",
   "execution_count": 11,
   "id": "6fefcc95",
   "metadata": {
    "ExecuteTime": {
     "end_time": "2023-08-18T10:07:21.334395Z",
     "start_time": "2023-08-18T10:07:21.330102Z"
    }
   },
   "outputs": [
    {
     "data": {
      "text/plain": [
       "(0,)"
      ]
     },
     "execution_count": 11,
     "metadata": {},
     "output_type": "execute_result"
    }
   ],
   "source": [
    "np.zeros(0).shape"
   ]
  },
  {
   "cell_type": "markdown",
   "id": "07e37f26",
   "metadata": {},
   "source": [
    "# reshaping"
   ]
  },
  {
   "cell_type": "code",
   "execution_count": 12,
   "id": "42ae050f",
   "metadata": {
    "ExecuteTime": {
     "end_time": "2023-08-18T10:32:44.202412Z",
     "start_time": "2023-08-18T10:32:44.192058Z"
    }
   },
   "outputs": [
    {
     "data": {
      "text/plain": [
       "array([0, 1, 2, 3, 4, 5, 6, 7, 8, 9])"
      ]
     },
     "execution_count": 12,
     "metadata": {},
     "output_type": "execute_result"
    }
   ],
   "source": [
    "re = np.arange(10)\n",
    "re"
   ]
  },
  {
   "cell_type": "code",
   "execution_count": null,
   "id": "64fd955a",
   "metadata": {},
   "outputs": [],
   "source": []
  },
  {
   "cell_type": "code",
   "execution_count": null,
   "id": "a2cf32bc",
   "metadata": {},
   "outputs": [],
   "source": []
  },
  {
   "cell_type": "code",
   "execution_count": null,
   "id": "90973104",
   "metadata": {},
   "outputs": [],
   "source": []
  },
  {
   "cell_type": "code",
   "execution_count": null,
   "id": "9a95f9b4",
   "metadata": {},
   "outputs": [],
   "source": []
  },
  {
   "cell_type": "code",
   "execution_count": null,
   "id": "319b43a3",
   "metadata": {},
   "outputs": [],
   "source": []
  }
 ],
 "metadata": {
  "kernelspec": {
   "display_name": "Python 3 (ipykernel)",
   "language": "python",
   "name": "python3"
  },
  "language_info": {
   "codemirror_mode": {
    "name": "ipython",
    "version": 3
   },
   "file_extension": ".py",
   "mimetype": "text/x-python",
   "name": "python",
   "nbconvert_exporter": "python",
   "pygments_lexer": "ipython3",
   "version": "3.7.16"
  }
 },
 "nbformat": 4,
 "nbformat_minor": 5
}
