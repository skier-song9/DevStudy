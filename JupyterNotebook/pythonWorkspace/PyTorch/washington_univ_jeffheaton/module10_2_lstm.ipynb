{
 "cells": [
  {
   "cell_type": "markdown",
   "id": "6d056a58",
   "metadata": {},
   "source": [
    "# Sun Spots Example"
   ]
  },
  {
   "cell_type": "code",
   "execution_count": 7,
   "id": "3ba9f9ee",
   "metadata": {
    "ExecuteTime": {
     "end_time": "2024-02-12T02:46:07.790916Z",
     "start_time": "2024-02-12T02:46:07.341602Z"
    }
   },
   "outputs": [
    {
     "name": "stdout",
     "output_type": "stream",
     "text": [
      "Using device: cuda\n"
     ]
    }
   ],
   "source": [
    "# Data Loading\n",
    "import numpy as np\n",
    "import pandas as pd\n",
    "import torch\n",
    "import torch.nn as nn\n",
    "from torch.utils.data import DataLoader, TensorDataset\n",
    "from sklearn.preprocessing import StandardScaler\n",
    "from torch.optim.lr_scheduler import ReduceLROnPlateau\n",
    "\n",
    "names = ['year', 'month', 'day', 'dec_year', 'sn_value',\n",
    "         'sn_error', 'obs_num', 'unused1']\n",
    "df = pd.read_csv(\n",
    "    \"https://data.heatonresearch.com/data/t81-558/SN_d_tot_V2.0.csv\",\n",
    "    sep=';', header=None, names=names,\n",
    "    na_values=['-1'], index_col=False)\n",
    "has_mps = torch.backends.mps.is_built()\n",
    "device = \"mps\" if has_mps else \"cuda\" if torch.cuda.is_available() else \"cpu\"\n",
    "print(f\"Using device: {device}\")"
   ]
  },
  {
   "cell_type": "code",
   "execution_count": 2,
   "id": "5ac4b134",
   "metadata": {
    "ExecuteTime": {
     "end_time": "2024-02-12T02:39:17.378575Z",
     "start_time": "2024-02-12T02:39:17.349868Z"
    }
   },
   "outputs": [],
   "source": [
    "# Data Preprocessing\n",
    "start_id = max(df[df['obs_num'] == 0].index.tolist()) + 1\n",
    "df = df[start_id:].copy()\n",
    "df['sn_value'] = df['sn_value'].astype(float)\n",
    "df_train = df[df['year'] < 2000]\n",
    "df_test = df[df['year'] >= 2000]\n",
    "\n",
    "spots_train = df_train['sn_value'].to_numpy().reshape(-1, 1)\n",
    "spots_test = df_test['sn_value'].to_numpy().reshape(-1, 1)\n",
    "\n",
    "scaler = StandardScaler()\n",
    "spots_train = scaler.fit_transform(spots_train).flatten().tolist()\n",
    "spots_test = scaler.transform(spots_test).flatten().tolist()"
   ]
  },
  {
   "cell_type": "code",
   "execution_count": 3,
   "id": "55a96867",
   "metadata": {
    "ExecuteTime": {
     "end_time": "2024-02-12T02:39:38.823834Z",
     "start_time": "2024-02-12T02:39:38.754579Z"
    }
   },
   "outputs": [
    {
     "name": "stdout",
     "output_type": "stream",
     "text": [
      "torch.Size([55150, 10, 1])\n",
      "torch.Size([55150, 1])\n"
     ]
    }
   ],
   "source": [
    "# Sequence Data Preparation\n",
    "SEQUENCE_SIZE = 10\n",
    "\n",
    "def to_sequences(seq_size, obs):\n",
    "    x = []\n",
    "    y = []\n",
    "    for i in range(len(obs) - seq_size):\n",
    "        window = obs[i:(i + seq_size)]\n",
    "        after_window = obs[i + seq_size]\n",
    "        x.append(window)\n",
    "        y.append(after_window)\n",
    "    return torch.tensor(x, dtype=torch.float32).view(-1, seq_size, 1), torch.tensor(y, dtype=torch.float32).view(-1, 1)\n",
    "\n",
    "x_train, y_train = to_sequences(SEQUENCE_SIZE, spots_train)\n",
    "x_test, y_test = to_sequences(SEQUENCE_SIZE, spots_test)\n",
    "print(x_train.shape, y_train.shape, sep='\\n')"
   ]
  },
  {
   "cell_type": "markdown",
   "id": "b31fe89e",
   "metadata": {},
   "source": [
    "- 총 55150개의 데이터가 있고, 각 데이터는 1개의 feature가 10개씩 모인 것. 즉, length가 10인 sequence가 55150개 존재 "
   ]
  },
  {
   "cell_type": "code",
   "execution_count": 5,
   "id": "4f439950",
   "metadata": {
    "ExecuteTime": {
     "end_time": "2024-02-12T02:45:27.526678Z",
     "start_time": "2024-02-12T02:45:27.514145Z"
    }
   },
   "outputs": [],
   "source": [
    "# Setup data loaders for batch\n",
    "train_dataset = TensorDataset(x_train, y_train)\n",
    "train_loader = DataLoader(train_dataset, batch_size=32, shuffle=True)\n",
    "\n",
    "test_dataset = TensorDataset(x_test, y_test)\n",
    "test_loader = DataLoader(test_dataset, batch_size=32, shuffle=False)"
   ]
  },
  {
   "cell_type": "code",
   "execution_count": 8,
   "id": "70c80e42",
   "metadata": {
    "ExecuteTime": {
     "end_time": "2024-02-12T02:46:11.280963Z",
     "start_time": "2024-02-12T02:46:11.006514Z"
    }
   },
   "outputs": [],
   "source": [
    "# Model definition\n",
    "class LSTMModel(nn.Module):\n",
    "    def __init__(self):\n",
    "        super(LSTMModel, self).__init__()\n",
    "        self.lstm = nn.LSTM(input_size=1, hidden_size=64, batch_first=True)\n",
    "        self.dropout = nn.Dropout(0.2)\n",
    "        self.fc1 = nn.Linear(64, 32)\n",
    "        self.fc2 = nn.Linear(32, 1)\n",
    "\n",
    "    def forward(self, x):\n",
    "        x, _ = self.lstm(x)\n",
    "        x = self.dropout(x[:, -1, :])\n",
    "        x = self.fc1(x)\n",
    "        x = self.fc2(x)\n",
    "        return x\n",
    "\n",
    "model = LSTMModel().to(device)"
   ]
  },
  {
   "cell_type": "code",
   "execution_count": 9,
   "id": "e82e7013",
   "metadata": {
    "ExecuteTime": {
     "end_time": "2024-02-12T02:47:14.848580Z",
     "start_time": "2024-02-12T02:46:26.804697Z"
    }
   },
   "outputs": [
    {
     "name": "stdout",
     "output_type": "stream",
     "text": [
      "Epoch 1/1000, Validation Loss: 0.0358\n",
      "Epoch 2/1000, Validation Loss: 0.0339\n",
      "Epoch 3/1000, Validation Loss: 0.0357\n",
      "Epoch 4/1000, Validation Loss: 0.0344\n",
      "Epoch 5/1000, Validation Loss: 0.0341\n",
      "Epoch 00006: reducing learning rate of group 0 to 5.0000e-04.\n",
      "Epoch 6/1000, Validation Loss: 0.0343\n",
      "Early stopping!\n"
     ]
    }
   ],
   "source": [
    "# Train the model\n",
    "criterion = nn.MSELoss()\n",
    "optimizer = torch.optim.Adam(model.parameters(), lr=0.001)\n",
    "scheduler = ReduceLROnPlateau(optimizer, 'min', factor=0.5, patience=3, verbose=True)\n",
    "\n",
    "epochs = 1000\n",
    "early_stop_count = 0\n",
    "min_val_loss = float('inf')\n",
    "\n",
    "for epoch in range(epochs):\n",
    "    model.train()\n",
    "    for batch in train_loader:\n",
    "        x_batch, y_batch = batch\n",
    "        x_batch, y_batch = x_batch.to(device), y_batch.to(device)\n",
    "\n",
    "        optimizer.zero_grad()\n",
    "        outputs = model(x_batch)\n",
    "        loss = criterion(outputs, y_batch)\n",
    "        loss.backward()\n",
    "        optimizer.step()\n",
    "\n",
    "    # Validation\n",
    "    model.eval()\n",
    "    val_losses = []\n",
    "    with torch.no_grad():\n",
    "        for batch in test_loader:\n",
    "            x_batch, y_batch = batch\n",
    "            x_batch, y_batch = x_batch.to(device), y_batch.to(device)\n",
    "            outputs = model(x_batch)\n",
    "            loss = criterion(outputs, y_batch)\n",
    "            val_losses.append(loss.item())\n",
    "\n",
    "    val_loss = np.mean(val_losses)\n",
    "    scheduler.step(val_loss)\n",
    "\n",
    "    if val_loss < min_val_loss:\n",
    "        min_val_loss = val_loss\n",
    "        early_stop_count = 0\n",
    "    else:\n",
    "        early_stop_count += 1\n",
    "\n",
    "    if early_stop_count >= 5:\n",
    "        print(\"Early stopping!\")\n",
    "        break\n",
    "    print(f\"Epoch {epoch + 1}/{epochs}, Validation Loss: {val_loss:.4f}\")"
   ]
  },
  {
   "cell_type": "code",
   "execution_count": 10,
   "id": "6d3d4a80",
   "metadata": {
    "ExecuteTime": {
     "end_time": "2024-02-12T02:47:15.207632Z",
     "start_time": "2024-02-12T02:47:14.852920Z"
    }
   },
   "outputs": [
    {
     "name": "stdout",
     "output_type": "stream",
     "text": [
      "Score (RMSE): 14.5703\n"
     ]
    }
   ],
   "source": [
    "# Evaluation\n",
    "model.eval()\n",
    "predictions = []\n",
    "with torch.no_grad():\n",
    "    for batch in test_loader:\n",
    "        x_batch, y_batch = batch\n",
    "        x_batch = x_batch.to(device)\n",
    "        outputs = model(x_batch)\n",
    "        predictions.extend(outputs.squeeze().tolist())\n",
    "\n",
    "rmse = np.sqrt(np.mean((scaler.inverse_transform(np.array(predictions).reshape(-1, 1)) - scaler.inverse_transform(y_test.numpy().reshape(-1, 1)))**2))\n",
    "print(f\"Score (RMSE): {rmse:.4f}\")"
   ]
  },
  {
   "cell_type": "code",
   "execution_count": null,
   "id": "d3f0347d",
   "metadata": {},
   "outputs": [],
   "source": []
  }
 ],
 "metadata": {
  "kernelspec": {
   "display_name": "Python 3 (ipykernel)",
   "language": "python",
   "name": "python3"
  },
  "language_info": {
   "codemirror_mode": {
    "name": "ipython",
    "version": 3
   },
   "file_extension": ".py",
   "mimetype": "text/x-python",
   "name": "python",
   "nbconvert_exporter": "python",
   "pygments_lexer": "ipython3",
   "version": "3.9.6"
  },
  "toc": {
   "base_numbering": 1,
   "nav_menu": {},
   "number_sections": false,
   "sideBar": true,
   "skip_h1_title": false,
   "title_cell": "Table of Contents",
   "title_sidebar": "Contents",
   "toc_cell": false,
   "toc_position": {},
   "toc_section_display": true,
   "toc_window_display": false
  }
 },
 "nbformat": 4,
 "nbformat_minor": 5
}
