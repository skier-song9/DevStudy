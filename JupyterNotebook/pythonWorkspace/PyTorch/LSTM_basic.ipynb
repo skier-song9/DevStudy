{
 "cells": [
  {
   "cell_type": "code",
   "execution_count": 1,
   "id": "1e54a108",
   "metadata": {
    "ExecuteTime": {
     "end_time": "2023-11-04T03:12:02.616470Z",
     "start_time": "2023-11-04T03:11:59.162713Z"
    }
   },
   "outputs": [],
   "source": [
    "import torch\n",
    "import torch.nn as nn\n",
    "import torchvision.transforms as transforms\n",
    "import torchvision.datasets as dataset\n",
    "from torch.autograd import Variable\n",
    "from torch.nn import Parameter\n",
    "from torch import Tensor\n",
    "import torch.nn.functional as F\n",
    "from torch.utils.data import DataLoader\n",
    "import math"
   ]
  },
  {
   "cell_type": "code",
   "execution_count": 2,
   "id": "d53a4927",
   "metadata": {
    "ExecuteTime": {
     "end_time": "2023-11-04T03:12:04.019738Z",
     "start_time": "2023-11-04T03:12:02.618991Z"
    }
   },
   "outputs": [],
   "source": [
    "device = torch.device('cuda:0' if torch.cuda.is_available() else 'cpu')\n",
    "cuda = True if torch.cuda.is_available() else False\n",
    "\n",
    "Tensor = torch.cuda.FloatTensor if cuda else torch.FloatTensor\n",
    "\n",
    "torch.manual_seed(125)\n",
    "if torch.cuda.is_available() : \n",
    "    torch.cuda.manual_seed_all(125)"
   ]
  },
  {
   "cell_type": "code",
   "execution_count": 3,
   "id": "7a60a5ba",
   "metadata": {
    "ExecuteTime": {
     "end_time": "2023-11-04T03:12:04.035112Z",
     "start_time": "2023-11-04T03:12:04.022461Z"
    }
   },
   "outputs": [],
   "source": [
    "import torchvision.transforms as transforms\n",
    "\n",
    "mnist_transform = transforms.Compose([\n",
    "    transforms.ToTensor(),\n",
    "    transforms.Normalize((0.5), (1.0,))\n",
    "])"
   ]
  },
  {
   "cell_type": "code",
   "execution_count": 4,
   "id": "9725a552",
   "metadata": {
    "ExecuteTime": {
     "end_time": "2023-11-04T03:12:04.114080Z",
     "start_time": "2023-11-04T03:12:04.037590Z"
    }
   },
   "outputs": [],
   "source": [
    "from torchvision.datasets import MNIST\n",
    "\n",
    "download_root = './080289-main/chap07/MNIST_DATASET'\n",
    "\n",
    "train_dataset = MNIST(download_root, transform=mnist_transform, \n",
    "                      train=True, download=True)\n",
    "valid_dataset = MNIST(download_root, transform=mnist_transform,\n",
    "                     train=False, download=True)\n",
    "test_dataset = MNIST(download_root, transform=mnist_transform,\n",
    "                    train=False, download=True)"
   ]
  },
  {
   "cell_type": "code",
   "execution_count": 5,
   "id": "b0926c66",
   "metadata": {
    "ExecuteTime": {
     "end_time": "2023-11-04T03:12:04.129764Z",
     "start_time": "2023-11-04T03:12:04.115607Z"
    }
   },
   "outputs": [],
   "source": [
    "batch_size = 64\n",
    "train_loader = DataLoader(dataset=train_dataset, \n",
    "                         batch_size=batch_size,\n",
    "                         shuffle=True)\n",
    "valid_loader = DataLoader(dataset=test_dataset, \n",
    "                         batch_size=batch_size,\n",
    "                         shuffle=True)\n",
    "test_loader = DataLoader(dataset=test_dataset, \n",
    "                         batch_size=batch_size,\n",
    "                         shuffle=True)"
   ]
  },
  {
   "cell_type": "code",
   "execution_count": 6,
   "id": "15b720ef",
   "metadata": {
    "ExecuteTime": {
     "end_time": "2023-11-04T03:12:04.145549Z",
     "start_time": "2023-11-04T03:12:04.131765Z"
    }
   },
   "outputs": [],
   "source": [
    "batch_size=100\n",
    "n_iters=6000\n",
    "num_epochs=n_iters/(len(train_dataset) / batch_size)\n",
    "num_epochs = int(num_epochs)"
   ]
  },
  {
   "cell_type": "code",
   "execution_count": 7,
   "id": "9bb46da0",
   "metadata": {
    "ExecuteTime": {
     "end_time": "2023-11-04T03:12:04.161556Z",
     "start_time": "2023-11-04T03:12:04.146607Z"
    }
   },
   "outputs": [],
   "source": [
    "class LSTMCell(nn.Module) :\n",
    "    def __init__(self, input_size, hidden_size, bias=True) :\n",
    "        super(LSTMCell, self).__init__()\n",
    "        self.input_size = input_size\n",
    "        self.hidden_size = hidden_size\n",
    "        self.bias = bias\n",
    "        self.x2h = nn.Linear(input_size, 4*hidden_size, bias=bias)\n",
    "        self.h2h = nn.Linear(hidden_size, 4*hidden_size, bias=bias)\n",
    "        self.reset_parameters()\n",
    "        \n",
    "    def reset_parameters(self) :\n",
    "        std = 1.0 / math.sqrt(self.hidden_size)\n",
    "        for w in self.parameters() :\n",
    "            w.data.uniform_(-std, std)\n",
    "            \n",
    "    def forward(self, x, hidden) :\n",
    "        hx, cx = hidden\n",
    "        x = x.view(-1, x.size(1))\n",
    "        \n",
    "        gates = self.x2h(x) + self.h2h(hx)\n",
    "        gates = gates.squeeze()\n",
    "        ingate, forgetgate, cellgate, outgate = gates.chunk(4, 1)\n",
    "        \n",
    "        ingate = F.sigmoid(ingate) # 입력 게이트에 시그모이드 적용\n",
    "        forgetgate = F.sigmoid(forgetgate) # 망각 게이트에 시그모이드 적용\n",
    "        cellgate = F.tanh(cellgate) # 셀 게이트에 탄젠트 적용\n",
    "        outgate = F.sigmoid(outgate) # 출력 게이트에 시그모이드 적용\n",
    "        \n",
    "        cy = torch.mul(cx, forgetgate) + torch.mul(ingate, cellgate)\n",
    "        hy = torch.mul(outgate, F.tanh(cy))\n",
    "        \n",
    "        return (hy, cy)"
   ]
  },
  {
   "cell_type": "code",
   "execution_count": 8,
   "id": "c08915fe",
   "metadata": {
    "ExecuteTime": {
     "end_time": "2023-11-04T03:12:04.177254Z",
     "start_time": "2023-11-04T03:12:04.163061Z"
    }
   },
   "outputs": [],
   "source": [
    "class LSTMModel(nn.Module) :\n",
    "   def __init__(self, input_dim, hidden_dim, layer_dim, output_dim, bias=True) :\n",
    "       super(LSTMModel, self).__init__()\n",
    "       self.hidden_dim = hidden_dim\n",
    "       \n",
    "       self.layer_dim = layer_dim\n",
    "       self.lstm = LSTMCell(input_dim, hidden_dim, layer_dim)\n",
    "       self.fc = nn.Linear(hidden_dim, output_dim)\n",
    "       \n",
    "   def forward(self, x) :\n",
    "       if torch.cuda.is_available() :\n",
    "           h0 = Variable(torch.zeros(self.layer_dim, x.size(0), self.hidden_dim).cuda())\n",
    "       else :\n",
    "           h0 = Variable(torch.zeros(self.layer_dim, x.size(0), self.hidden_dim))\n",
    "           \n",
    "       if torch.cuda.is_available() :\n",
    "           c0 = Variable(torch.zeros(self.layer_dim, x.size(0), self.hidden_dim).cuda())\n",
    "       else :\n",
    "           c0 = Variable(torch.zeros(self.layer_dim, x.size(0), hidden_dim))\n",
    "           \n",
    "       outs = []\n",
    "       cn =  c0[0,:,:]\n",
    "       hn = h0[0,:,:]\n",
    "       \n",
    "       for seq in range(x.size(1)) :\n",
    "           hn, cn = self.lstm(x[:, seq, :], (hn, cn))\n",
    "           outs.append(hn)\n",
    "           \n",
    "       out = outs[-1].squeeze()\n",
    "       out = self.fc(out)\n",
    "       return out"
   ]
  },
  {
   "cell_type": "code",
   "execution_count": 9,
   "id": "d9759f4c",
   "metadata": {
    "ExecuteTime": {
     "end_time": "2023-11-04T03:12:04.286126Z",
     "start_time": "2023-11-04T03:12:04.179253Z"
    }
   },
   "outputs": [],
   "source": [
    "input_dim=28\n",
    "hidden_dim=128\n",
    "layer_dim=1\n",
    "output_dim=18\n",
    "\n",
    "model =  LSTMModel(input_dim, hidden_dim, layer_dim, output_dim) \n",
    "if torch.cuda.is_available() :\n",
    "   model.cuda()\n",
    "   \n",
    "criterion = nn.CrossEntropyLoss()\n",
    "learning_rate =0.1\n",
    "optimizer = torch.optim.SGD(model.parameters(), lr=learning_rate)"
   ]
  },
  {
   "cell_type": "code",
   "execution_count": 10,
   "id": "4ed72401",
   "metadata": {
    "ExecuteTime": {
     "end_time": "2023-11-04T03:22:32.129001Z",
     "start_time": "2023-11-04T03:12:04.289650Z"
    }
   },
   "outputs": [
    {
     "name": "stdout",
     "output_type": "stream",
     "text": [
      "Iteration : 500 Loss : 2.1295971870422363 Accuracy : 27.780000686645508\n",
      "Iteration : 1000 Loss : 0.6974530220031738 Accuracy : 79.12999725341797\n",
      "Iteration : 1500 Loss : 0.2903708517551422 Accuracy : 90.27999877929688\n",
      "Iteration : 2000 Loss : 0.08802177011966705 Accuracy : 94.08999633789062\n",
      "Iteration : 2500 Loss : 0.10584364086389542 Accuracy : 95.37999725341797\n",
      "Iteration : 3000 Loss : 0.09053835272789001 Accuracy : 96.0199966430664\n",
      "Iteration : 3500 Loss : 0.15285265445709229 Accuracy : 95.0\n",
      "Iteration : 4000 Loss : 0.15412409603595734 Accuracy : 97.0999984741211\n",
      "Iteration : 4500 Loss : 0.05594610050320625 Accuracy : 97.05999755859375\n",
      "Iteration : 5000 Loss : 0.04239753633737564 Accuracy : 97.30999755859375\n",
      "Iteration : 5500 Loss : 0.014116190373897552 Accuracy : 97.48999786376953\n",
      "Iteration : 6000 Loss : 0.13781031966209412 Accuracy : 97.4000015258789\n",
      "Iteration : 6500 Loss : 0.031176889315247536 Accuracy : 97.5999984741211\n",
      "Iteration : 7000 Loss : 0.1805814504623413 Accuracy : 97.5\n",
      "Iteration : 7500 Loss : 0.17644870281219482 Accuracy : 97.52999877929688\n",
      "Iteration : 8000 Loss : 0.12920667231082916 Accuracy : 98.01000213623047\n",
      "Iteration : 8500 Loss : 0.09212607145309448 Accuracy : 98.06999969482422\n",
      "Iteration : 9000 Loss : 0.028232643380761147 Accuracy : 98.0999984741211\n"
     ]
    }
   ],
   "source": [
    "seq_dim=28\n",
    "loss_list = []\n",
    "iter = 0\n",
    "for epoch in range(num_epochs) :\n",
    "   for i, (images ,labels) in enumerate(train_loader) :\n",
    "       if torch.cuda.is_available() :\n",
    "           images = Variable(images.view(-1, seq_dim, input_dim).cuda())\n",
    "           labels = Variable(labels.cuda())\n",
    "       \n",
    "       else :\n",
    "           images = Variable(images.view(-1, seq_dim, input_dim))\n",
    "           labels = Variable(labels)\n",
    "           \n",
    "       optimizer.zero_grad()\n",
    "       outputs = model(images)\n",
    "       loss = criterion(outputs, labels)\n",
    "       \n",
    "       if torch.cuda.is_available() :\n",
    "           loss.cuda()\n",
    "           \n",
    "       loss.backward()\n",
    "       optimizer.step()\n",
    "       loss_list.append(loss.item())\n",
    "       iter += 1\n",
    "       \n",
    "       \n",
    "       if iter % 500 == 0 :\n",
    "           correct = 0\n",
    "           total = 0\n",
    "           \n",
    "           for images, labels in valid_loader :\n",
    "               \n",
    "               if torch.cuda.is_available() :\n",
    "                   images = Variable(images.view(-1, seq_dim, input_dim).cuda())\n",
    "               else :\n",
    "                   images = Variable(images.view(-1, seq_dim, input_dim))\n",
    "                   \n",
    "               outputs = model(images)\n",
    "               _, predicted = torch.max(outputs.data, 1)\n",
    "               \n",
    "               total += labels.size(0)\n",
    "               if torch.cuda.is_available() : \n",
    "                   correct += (predicted.cpu() == labels.cpu()).sum()\n",
    "                   \n",
    "               else :\n",
    "                   correct += (predicted == labels).sum()\n",
    "                   \n",
    "           accuracy = 100 * correct / total\n",
    "           print(f'Iteration : {iter} Loss : {loss.item()} Accuracy : {accuracy}')"
   ]
  },
  {
   "cell_type": "code",
   "execution_count": 11,
   "id": "3d2e014d",
   "metadata": {
    "ExecuteTime": {
     "end_time": "2023-11-04T03:22:32.610092Z",
     "start_time": "2023-11-04T03:22:32.131514Z"
    }
   },
   "outputs": [
    {
     "ename": "NameError",
     "evalue": "name 'pd' is not defined",
     "output_type": "error",
     "traceback": [
      "\u001b[1;31m---------------------------------------------------------------------------\u001b[0m",
      "\u001b[1;31mNameError\u001b[0m                                 Traceback (most recent call last)",
      "Cell \u001b[1;32mIn[11], line 3\u001b[0m\n\u001b[0;32m      1\u001b[0m device \u001b[38;5;241m=\u001b[39m torch\u001b[38;5;241m.\u001b[39mdevice(\u001b[38;5;124m'\u001b[39m\u001b[38;5;124mcuda:0\u001b[39m\u001b[38;5;124m'\u001b[39m \u001b[38;5;28;01mif\u001b[39;00m torch\u001b[38;5;241m.\u001b[39mcuda\u001b[38;5;241m.\u001b[39mis_available() \u001b[38;5;28;01melse\u001b[39;00m \u001b[38;5;124m'\u001b[39m\u001b[38;5;124mcpu\u001b[39m\u001b[38;5;124m'\u001b[39m)\n\u001b[1;32m----> 3\u001b[0m data \u001b[38;5;241m=\u001b[39m \u001b[43mpd\u001b[49m\u001b[38;5;241m.\u001b[39mread_csv(\u001b[38;5;124m'\u001b[39m\u001b[38;5;124m../080289-main/chap07/data/SBUX.csv\u001b[39m\u001b[38;5;124m'\u001b[39m)\n\u001b[0;32m      4\u001b[0m \u001b[38;5;28mprint\u001b[39m(data\u001b[38;5;241m.\u001b[39mdtypes)\n\u001b[0;32m      5\u001b[0m \u001b[38;5;28mprint\u001b[39m(data)\n",
      "\u001b[1;31mNameError\u001b[0m: name 'pd' is not defined"
     ]
    }
   ],
   "source": [
    "device = torch.device('cuda:0' if torch.cuda.is_available() else 'cpu')\n",
    "\n",
    "data = pd.read_csv('../080289-main/chap07/data/SBUX.csv')\n",
    "print(data.dtypes)\n",
    "print(data)"
   ]
  },
  {
   "cell_type": "code",
   "execution_count": null,
   "id": "e72b2d40",
   "metadata": {},
   "outputs": [],
   "source": []
  }
 ],
 "metadata": {
  "kernelspec": {
   "display_name": "Python 3 (ipykernel)",
   "language": "python",
   "name": "python3"
  },
  "language_info": {
   "codemirror_mode": {
    "name": "ipython",
    "version": 3
   },
   "file_extension": ".py",
   "mimetype": "text/x-python",
   "name": "python",
   "nbconvert_exporter": "python",
   "pygments_lexer": "ipython3",
   "version": "3.9.0"
  },
  "toc": {
   "base_numbering": 1,
   "nav_menu": {},
   "number_sections": false,
   "sideBar": true,
   "skip_h1_title": false,
   "title_cell": "Table of Contents",
   "title_sidebar": "Contents",
   "toc_cell": false,
   "toc_position": {},
   "toc_section_display": true,
   "toc_window_display": false
  }
 },
 "nbformat": 4,
 "nbformat_minor": 5
}
