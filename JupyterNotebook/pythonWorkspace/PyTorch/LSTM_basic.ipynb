{
 "cells": [
  {
   "cell_type": "markdown",
   "id": "5cf32e85",
   "metadata": {
    "ExecuteTime": {
     "end_time": "2023-11-10T00:12:45.570988Z",
     "start_time": "2023-11-10T00:12:45.531260Z"
    }
   },
   "source": [
    "https://arxiv.org/pdf/2205.13504.pdf"
   ]
  },
  {
   "cell_type": "markdown",
   "id": "d8902799",
   "metadata": {},
   "source": [
    "https://velog.io/@choonsik_mom/pytorch%EB%A1%9C-LSTM-%EA%B5%AC%ED%98%84%ED%95%98%EA%B8%B0"
   ]
  },
  {
   "cell_type": "code",
   "execution_count": 1,
   "id": "1e54a108",
   "metadata": {
    "ExecuteTime": {
     "end_time": "2024-02-11T04:03:59.330062Z",
     "start_time": "2024-02-11T04:03:46.999759Z"
    }
   },
   "outputs": [],
   "source": [
    "import torch\n",
    "import torch.nn as nn\n",
    "import torchvision.transforms as transforms\n",
    "import torchvision.datasets as dataset\n",
    "from torch.autograd import Variable\n",
    "from torch.nn import Parameter\n",
    "from torch import Tensor\n",
    "import torch.nn.functional as F\n",
    "from torch.utils.data import DataLoader\n",
    "import math"
   ]
  },
  {
   "cell_type": "code",
   "execution_count": 2,
   "id": "d53a4927",
   "metadata": {
    "ExecuteTime": {
     "end_time": "2024-02-11T04:03:59.377058Z",
     "start_time": "2024-02-11T04:03:59.333043Z"
    }
   },
   "outputs": [],
   "source": [
    "device = torch.device('cuda:0' if torch.cuda.is_available() else 'cpu')\n",
    "cuda = True if torch.cuda.is_available() else False\n",
    "\n",
    "Tensor = torch.cuda.FloatTensor if cuda else torch.FloatTensor\n",
    "\n",
    "torch.manual_seed(125)\n",
    "if torch.cuda.is_available() : \n",
    "    torch.cuda.manual_seed_all(125)"
   ]
  },
  {
   "cell_type": "code",
   "execution_count": 3,
   "id": "7a60a5ba",
   "metadata": {
    "ExecuteTime": {
     "end_time": "2024-02-11T04:03:59.392707Z",
     "start_time": "2024-02-11T04:03:59.379641Z"
    }
   },
   "outputs": [],
   "source": [
    "import torchvision.transforms as transforms\n",
    "\n",
    "mnist_transform = transforms.Compose([\n",
    "    transforms.ToTensor(),\n",
    "    transforms.Normalize((0.5), (1.0,))\n",
    "])"
   ]
  },
  {
   "cell_type": "code",
   "execution_count": 4,
   "id": "9725a552",
   "metadata": {
    "ExecuteTime": {
     "end_time": "2024-02-11T04:03:59.484390Z",
     "start_time": "2024-02-11T04:03:59.396212Z"
    }
   },
   "outputs": [],
   "source": [
    "from torchvision.datasets import MNIST\n",
    "\n",
    "download_root = './080289-main/chap07/MNIST_DATASET'\n",
    "\n",
    "train_dataset = MNIST(download_root, transform=mnist_transform, \n",
    "                      train=True, download=True)\n",
    "valid_dataset = MNIST(download_root, transform=mnist_transform,\n",
    "                     train=False, download=True)\n",
    "test_dataset = MNIST(download_root, transform=mnist_transform,\n",
    "                    train=False, download=True)"
   ]
  },
  {
   "cell_type": "code",
   "execution_count": 5,
   "id": "b0926c66",
   "metadata": {
    "ExecuteTime": {
     "end_time": "2024-02-11T04:04:03.269389Z",
     "start_time": "2024-02-11T04:04:03.249674Z"
    }
   },
   "outputs": [],
   "source": [
    "batch_size = 64\n",
    "train_loader = DataLoader(dataset=train_dataset, \n",
    "                         batch_size=batch_size,\n",
    "                         shuffle=True)\n",
    "valid_loader = DataLoader(dataset=test_dataset, \n",
    "                         batch_size=batch_size,\n",
    "                         shuffle=True)\n",
    "test_loader = DataLoader(dataset=test_dataset, \n",
    "                         batch_size=batch_size,\n",
    "                         shuffle=True)"
   ]
  },
  {
   "cell_type": "code",
   "execution_count": 6,
   "id": "15b720ef",
   "metadata": {
    "ExecuteTime": {
     "end_time": "2024-02-11T04:04:06.000361Z",
     "start_time": "2024-02-11T04:04:05.988516Z"
    }
   },
   "outputs": [],
   "source": [
    "batch_size=100\n",
    "n_iters=6000\n",
    "num_epochs=n_iters/(len(train_dataset) / batch_size)\n",
    "num_epochs = int(num_epochs)"
   ]
  },
  {
   "cell_type": "code",
   "execution_count": 7,
   "id": "9bb46da0",
   "metadata": {
    "ExecuteTime": {
     "end_time": "2023-11-09T10:29:14.141448Z",
     "start_time": "2023-11-09T10:29:14.127449Z"
    }
   },
   "outputs": [],
   "source": [
    "class LSTMCell(nn.Module) :\n",
    "    def __init__(self, input_size, hidden_size, bias=True) :\n",
    "        super(LSTMCell, self).__init__()\n",
    "        self.input_size = input_size\n",
    "        self.hidden_size = hidden_size\n",
    "        self.bias = bias\n",
    "        self.x2h = nn.Linear(input_size, 4*hidden_size, bias=bias)\n",
    "        self.h2h = nn.Linear(hidden_size, 4*hidden_size, bias=bias)\n",
    "        self.reset_parameters()\n",
    "        \n",
    "    def reset_parameters(self) :\n",
    "        std = 1.0 / math.sqrt(self.hidden_size)\n",
    "        for w in self.parameters() :\n",
    "            w.data.uniform_(-std, std)\n",
    "            \n",
    "    def forward(self, x, hidden) :\n",
    "        hx, cx = hidden\n",
    "        x = x.view(-1, x.size(1))\n",
    "        \n",
    "        gates = self.x2h(x) + self.h2h(hx)\n",
    "        gates = gates.squeeze()\n",
    "        ingate, forgetgate, cellgate, outgate = gates.chunk(4, 1)\n",
    "        \n",
    "        ingate = F.sigmoid(ingate) # 입력 게이트에 시그모이드 적용\n",
    "        forgetgate = F.sigmoid(forgetgate) # 망각 게이트에 시그모이드 적용\n",
    "        cellgate = F.tanh(cellgate) # 셀 게이트에 탄젠트 적용\n",
    "        outgate = F.sigmoid(outgate) # 출력 게이트에 시그모이드 적용\n",
    "        \n",
    "        cy = torch.mul(cx, forgetgate) + torch.mul(ingate, cellgate)\n",
    "        hy = torch.mul(outgate, F.tanh(cy))\n",
    "        \n",
    "        return (hy, cy)"
   ]
  },
  {
   "cell_type": "code",
   "execution_count": 8,
   "id": "c08915fe",
   "metadata": {
    "ExecuteTime": {
     "end_time": "2023-11-09T10:29:14.156729Z",
     "start_time": "2023-11-09T10:29:14.142452Z"
    }
   },
   "outputs": [],
   "source": [
    "class LSTMModel(nn.Module) :\n",
    "   def __init__(self, input_dim, hidden_dim, layer_dim, output_dim, bias=True) :\n",
    "       super(LSTMModel, self).__init__()\n",
    "       self.hidden_dim = hidden_dim\n",
    "       \n",
    "       self.layer_dim = layer_dim\n",
    "       self.lstm = LSTMCell(input_dim, hidden_dim, layer_dim)\n",
    "       self.fc = nn.Linear(hidden_dim, output_dim)\n",
    "       \n",
    "   def forward(self, x) :\n",
    "       if torch.cuda.is_available() :\n",
    "           h0 = Variable(torch.zeros(self.layer_dim, x.size(0), self.hidden_dim).cuda())\n",
    "       else :\n",
    "           h0 = Variable(torch.zeros(self.layer_dim, x.size(0), self.hidden_dim))\n",
    "           \n",
    "       if torch.cuda.is_available() :\n",
    "           c0 = Variable(torch.zeros(self.layer_dim, x.size(0), self.hidden_dim).cuda())\n",
    "       else :\n",
    "           c0 = Variable(torch.zeros(self.layer_dim, x.size(0), hidden_dim))\n",
    "           \n",
    "       outs = []\n",
    "       cn =  c0[0,:,:]\n",
    "       hn = h0[0,:,:]\n",
    "       \n",
    "       for seq in range(x.size(1)) :\n",
    "           hn, cn = self.lstm(x[:, seq, :], (hn, cn))\n",
    "           outs.append(hn)\n",
    "           \n",
    "       out = outs[-1].squeeze()\n",
    "       out = self.fc(out)\n",
    "       return out"
   ]
  },
  {
   "cell_type": "code",
   "execution_count": 9,
   "id": "ebee5137",
   "metadata": {
    "ExecuteTime": {
     "end_time": "2023-11-09T10:29:14.172738Z",
     "start_time": "2023-11-09T10:29:14.157730Z"
    }
   },
   "outputs": [
    {
     "data": {
      "text/plain": [
       "(1, 28, 28)"
      ]
     },
     "execution_count": 9,
     "metadata": {},
     "output_type": "execute_result"
    }
   ],
   "source": [
    "# 데이터 확인\n",
    "import numpy as np\n",
    "np.array(train_dataset[0][0]).shape"
   ]
  },
  {
   "cell_type": "code",
   "execution_count": 10,
   "id": "d9759f4c",
   "metadata": {
    "ExecuteTime": {
     "end_time": "2023-11-09T10:29:14.325886Z",
     "start_time": "2023-11-09T10:29:14.175742Z"
    }
   },
   "outputs": [],
   "source": [
    "input_dim=28\n",
    "hidden_dim=128\n",
    "layer_dim=1\n",
    "output_dim=18\n",
    "\n",
    "model =  LSTMModel(input_dim, hidden_dim, layer_dim, output_dim) \n",
    "if torch.cuda.is_available() :\n",
    "   model.cuda()\n",
    "   \n",
    "criterion = nn.CrossEntropyLoss()\n",
    "learning_rate =0.1\n",
    "optimizer = torch.optim.SGD(model.parameters(), lr=learning_rate)"
   ]
  },
  {
   "cell_type": "code",
   "execution_count": 11,
   "id": "4ed72401",
   "metadata": {
    "ExecuteTime": {
     "end_time": "2023-11-09T10:32:06.622543Z",
     "start_time": "2023-11-09T10:29:14.327888Z"
    }
   },
   "outputs": [
    {
     "name": "stdout",
     "output_type": "stream",
     "text": [
      "Iteration : 500 Loss : 2.1295971870422363 Accuracy : 27.780000686645508\n",
      "Iteration : 1000 Loss : 0.6974530220031738 Accuracy : 79.12999725341797\n",
      "Iteration : 1500 Loss : 0.2903708517551422 Accuracy : 90.27999877929688\n",
      "Iteration : 2000 Loss : 0.08802177011966705 Accuracy : 94.08999633789062\n",
      "Iteration : 2500 Loss : 0.10584364086389542 Accuracy : 95.37999725341797\n"
     ]
    },
    {
     "ename": "KeyboardInterrupt",
     "evalue": "",
     "output_type": "error",
     "traceback": [
      "\u001b[1;31m---------------------------------------------------------------------------\u001b[0m",
      "\u001b[1;31mKeyboardInterrupt\u001b[0m                         Traceback (most recent call last)",
      "Cell \u001b[1;32mIn[11], line 5\u001b[0m\n\u001b[0;32m      3\u001b[0m \u001b[38;5;28miter\u001b[39m \u001b[38;5;241m=\u001b[39m \u001b[38;5;241m0\u001b[39m\n\u001b[0;32m      4\u001b[0m \u001b[38;5;28;01mfor\u001b[39;00m epoch \u001b[38;5;129;01min\u001b[39;00m \u001b[38;5;28mrange\u001b[39m(num_epochs) :\n\u001b[1;32m----> 5\u001b[0m    \u001b[38;5;28;01mfor\u001b[39;00m i, (images ,labels) \u001b[38;5;129;01min\u001b[39;00m \u001b[38;5;28menumerate\u001b[39m(train_loader) :\n\u001b[0;32m      6\u001b[0m        \u001b[38;5;28;01mif\u001b[39;00m torch\u001b[38;5;241m.\u001b[39mcuda\u001b[38;5;241m.\u001b[39mis_available() :\n\u001b[0;32m      7\u001b[0m            images \u001b[38;5;241m=\u001b[39m Variable(images\u001b[38;5;241m.\u001b[39mview(\u001b[38;5;241m-\u001b[39m\u001b[38;5;241m1\u001b[39m, seq_dim, input_dim)\u001b[38;5;241m.\u001b[39mcuda())\n",
      "File \u001b[1;32m~\\anaconda3\\envs\\py39\\lib\\site-packages\\torch\\utils\\data\\dataloader.py:630\u001b[0m, in \u001b[0;36m_BaseDataLoaderIter.__next__\u001b[1;34m(self)\u001b[0m\n\u001b[0;32m    627\u001b[0m \u001b[38;5;28;01mif\u001b[39;00m \u001b[38;5;28mself\u001b[39m\u001b[38;5;241m.\u001b[39m_sampler_iter \u001b[38;5;129;01mis\u001b[39;00m \u001b[38;5;28;01mNone\u001b[39;00m:\n\u001b[0;32m    628\u001b[0m     \u001b[38;5;66;03m# TODO(https://github.com/pytorch/pytorch/issues/76750)\u001b[39;00m\n\u001b[0;32m    629\u001b[0m     \u001b[38;5;28mself\u001b[39m\u001b[38;5;241m.\u001b[39m_reset()  \u001b[38;5;66;03m# type: ignore[call-arg]\u001b[39;00m\n\u001b[1;32m--> 630\u001b[0m data \u001b[38;5;241m=\u001b[39m \u001b[38;5;28;43mself\u001b[39;49m\u001b[38;5;241;43m.\u001b[39;49m\u001b[43m_next_data\u001b[49m\u001b[43m(\u001b[49m\u001b[43m)\u001b[49m\n\u001b[0;32m    631\u001b[0m \u001b[38;5;28mself\u001b[39m\u001b[38;5;241m.\u001b[39m_num_yielded \u001b[38;5;241m+\u001b[39m\u001b[38;5;241m=\u001b[39m \u001b[38;5;241m1\u001b[39m\n\u001b[0;32m    632\u001b[0m \u001b[38;5;28;01mif\u001b[39;00m \u001b[38;5;28mself\u001b[39m\u001b[38;5;241m.\u001b[39m_dataset_kind \u001b[38;5;241m==\u001b[39m _DatasetKind\u001b[38;5;241m.\u001b[39mIterable \u001b[38;5;129;01mand\u001b[39;00m \\\n\u001b[0;32m    633\u001b[0m         \u001b[38;5;28mself\u001b[39m\u001b[38;5;241m.\u001b[39m_IterableDataset_len_called \u001b[38;5;129;01mis\u001b[39;00m \u001b[38;5;129;01mnot\u001b[39;00m \u001b[38;5;28;01mNone\u001b[39;00m \u001b[38;5;129;01mand\u001b[39;00m \\\n\u001b[0;32m    634\u001b[0m         \u001b[38;5;28mself\u001b[39m\u001b[38;5;241m.\u001b[39m_num_yielded \u001b[38;5;241m>\u001b[39m \u001b[38;5;28mself\u001b[39m\u001b[38;5;241m.\u001b[39m_IterableDataset_len_called:\n",
      "File \u001b[1;32m~\\anaconda3\\envs\\py39\\lib\\site-packages\\torch\\utils\\data\\dataloader.py:674\u001b[0m, in \u001b[0;36m_SingleProcessDataLoaderIter._next_data\u001b[1;34m(self)\u001b[0m\n\u001b[0;32m    672\u001b[0m \u001b[38;5;28;01mdef\u001b[39;00m \u001b[38;5;21m_next_data\u001b[39m(\u001b[38;5;28mself\u001b[39m):\n\u001b[0;32m    673\u001b[0m     index \u001b[38;5;241m=\u001b[39m \u001b[38;5;28mself\u001b[39m\u001b[38;5;241m.\u001b[39m_next_index()  \u001b[38;5;66;03m# may raise StopIteration\u001b[39;00m\n\u001b[1;32m--> 674\u001b[0m     data \u001b[38;5;241m=\u001b[39m \u001b[38;5;28;43mself\u001b[39;49m\u001b[38;5;241;43m.\u001b[39;49m\u001b[43m_dataset_fetcher\u001b[49m\u001b[38;5;241;43m.\u001b[39;49m\u001b[43mfetch\u001b[49m\u001b[43m(\u001b[49m\u001b[43mindex\u001b[49m\u001b[43m)\u001b[49m  \u001b[38;5;66;03m# may raise StopIteration\u001b[39;00m\n\u001b[0;32m    675\u001b[0m     \u001b[38;5;28;01mif\u001b[39;00m \u001b[38;5;28mself\u001b[39m\u001b[38;5;241m.\u001b[39m_pin_memory:\n\u001b[0;32m    676\u001b[0m         data \u001b[38;5;241m=\u001b[39m _utils\u001b[38;5;241m.\u001b[39mpin_memory\u001b[38;5;241m.\u001b[39mpin_memory(data, \u001b[38;5;28mself\u001b[39m\u001b[38;5;241m.\u001b[39m_pin_memory_device)\n",
      "File \u001b[1;32m~\\anaconda3\\envs\\py39\\lib\\site-packages\\torch\\utils\\data\\_utils\\fetch.py:51\u001b[0m, in \u001b[0;36m_MapDatasetFetcher.fetch\u001b[1;34m(self, possibly_batched_index)\u001b[0m\n\u001b[0;32m     49\u001b[0m         data \u001b[38;5;241m=\u001b[39m \u001b[38;5;28mself\u001b[39m\u001b[38;5;241m.\u001b[39mdataset\u001b[38;5;241m.\u001b[39m__getitems__(possibly_batched_index)\n\u001b[0;32m     50\u001b[0m     \u001b[38;5;28;01melse\u001b[39;00m:\n\u001b[1;32m---> 51\u001b[0m         data \u001b[38;5;241m=\u001b[39m [\u001b[38;5;28mself\u001b[39m\u001b[38;5;241m.\u001b[39mdataset[idx] \u001b[38;5;28;01mfor\u001b[39;00m idx \u001b[38;5;129;01min\u001b[39;00m possibly_batched_index]\n\u001b[0;32m     52\u001b[0m \u001b[38;5;28;01melse\u001b[39;00m:\n\u001b[0;32m     53\u001b[0m     data \u001b[38;5;241m=\u001b[39m \u001b[38;5;28mself\u001b[39m\u001b[38;5;241m.\u001b[39mdataset[possibly_batched_index]\n",
      "File \u001b[1;32m~\\anaconda3\\envs\\py39\\lib\\site-packages\\torch\\utils\\data\\_utils\\fetch.py:51\u001b[0m, in \u001b[0;36m<listcomp>\u001b[1;34m(.0)\u001b[0m\n\u001b[0;32m     49\u001b[0m         data \u001b[38;5;241m=\u001b[39m \u001b[38;5;28mself\u001b[39m\u001b[38;5;241m.\u001b[39mdataset\u001b[38;5;241m.\u001b[39m__getitems__(possibly_batched_index)\n\u001b[0;32m     50\u001b[0m     \u001b[38;5;28;01melse\u001b[39;00m:\n\u001b[1;32m---> 51\u001b[0m         data \u001b[38;5;241m=\u001b[39m [\u001b[38;5;28;43mself\u001b[39;49m\u001b[38;5;241;43m.\u001b[39;49m\u001b[43mdataset\u001b[49m\u001b[43m[\u001b[49m\u001b[43midx\u001b[49m\u001b[43m]\u001b[49m \u001b[38;5;28;01mfor\u001b[39;00m idx \u001b[38;5;129;01min\u001b[39;00m possibly_batched_index]\n\u001b[0;32m     52\u001b[0m \u001b[38;5;28;01melse\u001b[39;00m:\n\u001b[0;32m     53\u001b[0m     data \u001b[38;5;241m=\u001b[39m \u001b[38;5;28mself\u001b[39m\u001b[38;5;241m.\u001b[39mdataset[possibly_batched_index]\n",
      "File \u001b[1;32m~\\anaconda3\\envs\\py39\\lib\\site-packages\\torchvision\\datasets\\mnist.py:145\u001b[0m, in \u001b[0;36mMNIST.__getitem__\u001b[1;34m(self, index)\u001b[0m\n\u001b[0;32m    142\u001b[0m img \u001b[38;5;241m=\u001b[39m Image\u001b[38;5;241m.\u001b[39mfromarray(img\u001b[38;5;241m.\u001b[39mnumpy(), mode\u001b[38;5;241m=\u001b[39m\u001b[38;5;124m\"\u001b[39m\u001b[38;5;124mL\u001b[39m\u001b[38;5;124m\"\u001b[39m)\n\u001b[0;32m    144\u001b[0m \u001b[38;5;28;01mif\u001b[39;00m \u001b[38;5;28mself\u001b[39m\u001b[38;5;241m.\u001b[39mtransform \u001b[38;5;129;01mis\u001b[39;00m \u001b[38;5;129;01mnot\u001b[39;00m \u001b[38;5;28;01mNone\u001b[39;00m:\n\u001b[1;32m--> 145\u001b[0m     img \u001b[38;5;241m=\u001b[39m \u001b[38;5;28;43mself\u001b[39;49m\u001b[38;5;241;43m.\u001b[39;49m\u001b[43mtransform\u001b[49m\u001b[43m(\u001b[49m\u001b[43mimg\u001b[49m\u001b[43m)\u001b[49m\n\u001b[0;32m    147\u001b[0m \u001b[38;5;28;01mif\u001b[39;00m \u001b[38;5;28mself\u001b[39m\u001b[38;5;241m.\u001b[39mtarget_transform \u001b[38;5;129;01mis\u001b[39;00m \u001b[38;5;129;01mnot\u001b[39;00m \u001b[38;5;28;01mNone\u001b[39;00m:\n\u001b[0;32m    148\u001b[0m     target \u001b[38;5;241m=\u001b[39m \u001b[38;5;28mself\u001b[39m\u001b[38;5;241m.\u001b[39mtarget_transform(target)\n",
      "File \u001b[1;32m~\\anaconda3\\envs\\py39\\lib\\site-packages\\torchvision\\transforms\\transforms.py:95\u001b[0m, in \u001b[0;36mCompose.__call__\u001b[1;34m(self, img)\u001b[0m\n\u001b[0;32m     93\u001b[0m \u001b[38;5;28;01mdef\u001b[39;00m \u001b[38;5;21m__call__\u001b[39m(\u001b[38;5;28mself\u001b[39m, img):\n\u001b[0;32m     94\u001b[0m     \u001b[38;5;28;01mfor\u001b[39;00m t \u001b[38;5;129;01min\u001b[39;00m \u001b[38;5;28mself\u001b[39m\u001b[38;5;241m.\u001b[39mtransforms:\n\u001b[1;32m---> 95\u001b[0m         img \u001b[38;5;241m=\u001b[39m \u001b[43mt\u001b[49m\u001b[43m(\u001b[49m\u001b[43mimg\u001b[49m\u001b[43m)\u001b[49m\n\u001b[0;32m     96\u001b[0m     \u001b[38;5;28;01mreturn\u001b[39;00m img\n",
      "File \u001b[1;32m~\\anaconda3\\envs\\py39\\lib\\site-packages\\torch\\nn\\modules\\module.py:1518\u001b[0m, in \u001b[0;36mModule._wrapped_call_impl\u001b[1;34m(self, *args, **kwargs)\u001b[0m\n\u001b[0;32m   1516\u001b[0m     \u001b[38;5;28;01mreturn\u001b[39;00m \u001b[38;5;28mself\u001b[39m\u001b[38;5;241m.\u001b[39m_compiled_call_impl(\u001b[38;5;241m*\u001b[39margs, \u001b[38;5;241m*\u001b[39m\u001b[38;5;241m*\u001b[39mkwargs)  \u001b[38;5;66;03m# type: ignore[misc]\u001b[39;00m\n\u001b[0;32m   1517\u001b[0m \u001b[38;5;28;01melse\u001b[39;00m:\n\u001b[1;32m-> 1518\u001b[0m     \u001b[38;5;28;01mreturn\u001b[39;00m \u001b[38;5;28mself\u001b[39m\u001b[38;5;241m.\u001b[39m_call_impl(\u001b[38;5;241m*\u001b[39margs, \u001b[38;5;241m*\u001b[39m\u001b[38;5;241m*\u001b[39mkwargs)\n",
      "File \u001b[1;32m~\\anaconda3\\envs\\py39\\lib\\site-packages\\torch\\nn\\modules\\module.py:1527\u001b[0m, in \u001b[0;36mModule._call_impl\u001b[1;34m(self, *args, **kwargs)\u001b[0m\n\u001b[0;32m   1522\u001b[0m \u001b[38;5;66;03m# If we don't have any hooks, we want to skip the rest of the logic in\u001b[39;00m\n\u001b[0;32m   1523\u001b[0m \u001b[38;5;66;03m# this function, and just call forward.\u001b[39;00m\n\u001b[0;32m   1524\u001b[0m \u001b[38;5;28;01mif\u001b[39;00m \u001b[38;5;129;01mnot\u001b[39;00m (\u001b[38;5;28mself\u001b[39m\u001b[38;5;241m.\u001b[39m_backward_hooks \u001b[38;5;129;01mor\u001b[39;00m \u001b[38;5;28mself\u001b[39m\u001b[38;5;241m.\u001b[39m_backward_pre_hooks \u001b[38;5;129;01mor\u001b[39;00m \u001b[38;5;28mself\u001b[39m\u001b[38;5;241m.\u001b[39m_forward_hooks \u001b[38;5;129;01mor\u001b[39;00m \u001b[38;5;28mself\u001b[39m\u001b[38;5;241m.\u001b[39m_forward_pre_hooks\n\u001b[0;32m   1525\u001b[0m         \u001b[38;5;129;01mor\u001b[39;00m _global_backward_pre_hooks \u001b[38;5;129;01mor\u001b[39;00m _global_backward_hooks\n\u001b[0;32m   1526\u001b[0m         \u001b[38;5;129;01mor\u001b[39;00m _global_forward_hooks \u001b[38;5;129;01mor\u001b[39;00m _global_forward_pre_hooks):\n\u001b[1;32m-> 1527\u001b[0m     \u001b[38;5;28;01mreturn\u001b[39;00m forward_call(\u001b[38;5;241m*\u001b[39margs, \u001b[38;5;241m*\u001b[39m\u001b[38;5;241m*\u001b[39mkwargs)\n\u001b[0;32m   1529\u001b[0m \u001b[38;5;28;01mtry\u001b[39;00m:\n\u001b[0;32m   1530\u001b[0m     result \u001b[38;5;241m=\u001b[39m \u001b[38;5;28;01mNone\u001b[39;00m\n",
      "File \u001b[1;32m~\\anaconda3\\envs\\py39\\lib\\site-packages\\torchvision\\transforms\\transforms.py:277\u001b[0m, in \u001b[0;36mNormalize.forward\u001b[1;34m(self, tensor)\u001b[0m\n\u001b[0;32m    269\u001b[0m \u001b[38;5;28;01mdef\u001b[39;00m \u001b[38;5;21mforward\u001b[39m(\u001b[38;5;28mself\u001b[39m, tensor: Tensor) \u001b[38;5;241m-\u001b[39m\u001b[38;5;241m>\u001b[39m Tensor:\n\u001b[0;32m    270\u001b[0m \u001b[38;5;250m    \u001b[39m\u001b[38;5;124;03m\"\"\"\u001b[39;00m\n\u001b[0;32m    271\u001b[0m \u001b[38;5;124;03m    Args:\u001b[39;00m\n\u001b[0;32m    272\u001b[0m \u001b[38;5;124;03m        tensor (Tensor): Tensor image to be normalized.\u001b[39;00m\n\u001b[1;32m   (...)\u001b[0m\n\u001b[0;32m    275\u001b[0m \u001b[38;5;124;03m        Tensor: Normalized Tensor image.\u001b[39;00m\n\u001b[0;32m    276\u001b[0m \u001b[38;5;124;03m    \"\"\"\u001b[39;00m\n\u001b[1;32m--> 277\u001b[0m     \u001b[38;5;28;01mreturn\u001b[39;00m \u001b[43mF\u001b[49m\u001b[38;5;241;43m.\u001b[39;49m\u001b[43mnormalize\u001b[49m\u001b[43m(\u001b[49m\u001b[43mtensor\u001b[49m\u001b[43m,\u001b[49m\u001b[43m \u001b[49m\u001b[38;5;28;43mself\u001b[39;49m\u001b[38;5;241;43m.\u001b[39;49m\u001b[43mmean\u001b[49m\u001b[43m,\u001b[49m\u001b[43m \u001b[49m\u001b[38;5;28;43mself\u001b[39;49m\u001b[38;5;241;43m.\u001b[39;49m\u001b[43mstd\u001b[49m\u001b[43m,\u001b[49m\u001b[43m \u001b[49m\u001b[38;5;28;43mself\u001b[39;49m\u001b[38;5;241;43m.\u001b[39;49m\u001b[43minplace\u001b[49m\u001b[43m)\u001b[49m\n",
      "File \u001b[1;32m~\\anaconda3\\envs\\py39\\lib\\site-packages\\torchvision\\transforms\\functional.py:363\u001b[0m, in \u001b[0;36mnormalize\u001b[1;34m(tensor, mean, std, inplace)\u001b[0m\n\u001b[0;32m    360\u001b[0m \u001b[38;5;28;01mif\u001b[39;00m \u001b[38;5;129;01mnot\u001b[39;00m \u001b[38;5;28misinstance\u001b[39m(tensor, torch\u001b[38;5;241m.\u001b[39mTensor):\n\u001b[0;32m    361\u001b[0m     \u001b[38;5;28;01mraise\u001b[39;00m \u001b[38;5;167;01mTypeError\u001b[39;00m(\u001b[38;5;124mf\u001b[39m\u001b[38;5;124m\"\u001b[39m\u001b[38;5;124mimg should be Tensor Image. Got \u001b[39m\u001b[38;5;132;01m{\u001b[39;00m\u001b[38;5;28mtype\u001b[39m(tensor)\u001b[38;5;132;01m}\u001b[39;00m\u001b[38;5;124m\"\u001b[39m)\n\u001b[1;32m--> 363\u001b[0m \u001b[38;5;28;01mreturn\u001b[39;00m \u001b[43mF_t\u001b[49m\u001b[38;5;241;43m.\u001b[39;49m\u001b[43mnormalize\u001b[49m\u001b[43m(\u001b[49m\u001b[43mtensor\u001b[49m\u001b[43m,\u001b[49m\u001b[43m \u001b[49m\u001b[43mmean\u001b[49m\u001b[38;5;241;43m=\u001b[39;49m\u001b[43mmean\u001b[49m\u001b[43m,\u001b[49m\u001b[43m \u001b[49m\u001b[43mstd\u001b[49m\u001b[38;5;241;43m=\u001b[39;49m\u001b[43mstd\u001b[49m\u001b[43m,\u001b[49m\u001b[43m \u001b[49m\u001b[43minplace\u001b[49m\u001b[38;5;241;43m=\u001b[39;49m\u001b[43minplace\u001b[49m\u001b[43m)\u001b[49m\n",
      "File \u001b[1;32m~\\anaconda3\\envs\\py39\\lib\\site-packages\\torchvision\\transforms\\_functional_tensor.py:927\u001b[0m, in \u001b[0;36mnormalize\u001b[1;34m(tensor, mean, std, inplace)\u001b[0m\n\u001b[0;32m    925\u001b[0m     mean \u001b[38;5;241m=\u001b[39m mean\u001b[38;5;241m.\u001b[39mview(\u001b[38;5;241m-\u001b[39m\u001b[38;5;241m1\u001b[39m, \u001b[38;5;241m1\u001b[39m, \u001b[38;5;241m1\u001b[39m)\n\u001b[0;32m    926\u001b[0m \u001b[38;5;28;01mif\u001b[39;00m std\u001b[38;5;241m.\u001b[39mndim \u001b[38;5;241m==\u001b[39m \u001b[38;5;241m1\u001b[39m:\n\u001b[1;32m--> 927\u001b[0m     std \u001b[38;5;241m=\u001b[39m \u001b[43mstd\u001b[49m\u001b[38;5;241;43m.\u001b[39;49m\u001b[43mview\u001b[49m\u001b[43m(\u001b[49m\u001b[38;5;241;43m-\u001b[39;49m\u001b[38;5;241;43m1\u001b[39;49m\u001b[43m,\u001b[49m\u001b[43m \u001b[49m\u001b[38;5;241;43m1\u001b[39;49m\u001b[43m,\u001b[49m\u001b[43m \u001b[49m\u001b[38;5;241;43m1\u001b[39;49m\u001b[43m)\u001b[49m\n\u001b[0;32m    928\u001b[0m \u001b[38;5;28;01mreturn\u001b[39;00m tensor\u001b[38;5;241m.\u001b[39msub_(mean)\u001b[38;5;241m.\u001b[39mdiv_(std)\n",
      "\u001b[1;31mKeyboardInterrupt\u001b[0m: "
     ]
    }
   ],
   "source": [
    "seq_dim=28\n",
    "loss_list = []\n",
    "iter = 0\n",
    "for epoch in range(num_epochs) :\n",
    "   for i, (images ,labels) in enumerate(train_loader) :\n",
    "       if torch.cuda.is_available() :\n",
    "           images = Variable(images.view(-1, seq_dim, input_dim).cuda())\n",
    "           labels = Variable(labels.cuda())\n",
    "       \n",
    "       else :\n",
    "           images = Variable(images.view(-1, seq_dim, input_dim))\n",
    "           labels = Variable(labels)\n",
    "           \n",
    "       optimizer.zero_grad()\n",
    "       outputs = model(images)\n",
    "       loss = criterion(outputs, labels)\n",
    "       \n",
    "       if torch.cuda.is_available() :\n",
    "           loss.cuda()\n",
    "           \n",
    "       loss.backward()\n",
    "       optimizer.step()\n",
    "       loss_list.append(loss.item())\n",
    "       iter += 1\n",
    "       \n",
    "       \n",
    "       if iter % 500 == 0 :\n",
    "           correct = 0\n",
    "           total = 0\n",
    "           \n",
    "           for images, labels in valid_loader :\n",
    "               \n",
    "               if torch.cuda.is_available() :\n",
    "                   images = Variable(images.view(-1, seq_dim, input_dim).cuda())\n",
    "               else :\n",
    "                   images = Variable(images.view(-1, seq_dim, input_dim))\n",
    "                   \n",
    "               outputs = model(images)\n",
    "               _, predicted = torch.max(outputs.data, 1)\n",
    "               \n",
    "               total += labels.size(0)\n",
    "               if torch.cuda.is_available() : \n",
    "                   correct += (predicted.cpu() == labels.cpu()).sum()\n",
    "                   \n",
    "               else :\n",
    "                   correct += (predicted == labels).sum()\n",
    "                   \n",
    "           accuracy = 100 * correct / total\n",
    "           print(f'Iteration : {iter} Loss : {loss.item()} Accuracy : {accuracy}')"
   ]
  },
  {
   "cell_type": "code",
   "execution_count": null,
   "id": "3d2e014d",
   "metadata": {
    "ExecuteTime": {
     "end_time": "2023-11-09T10:32:06.623940Z",
     "start_time": "2023-11-09T10:32:06.623940Z"
    }
   },
   "outputs": [],
   "source": [
    "device = torch.device('cuda:0' if torch.cuda.is_available() else 'cpu')\n",
    "\n",
    "data = pd.read_csv('../080289-main/chap07/data/SBUX.csv')\n",
    "print(data.dtypes)\n",
    "print(data)"
   ]
  },
  {
   "cell_type": "code",
   "execution_count": null,
   "id": "e72b2d40",
   "metadata": {},
   "outputs": [],
   "source": [
    "def evaluate(model, val_iter) :\n",
    "    corrects, total, total_loss = 0, 0, 0\n",
    "    model.eval()\n",
    "    for images, labels in val_iter :\n",
    "        if torch.cuda.is_available() :\n",
    "            images = Variable(images.view(-1, seq_dim, input_dim).cuda())\n",
    "        else :\n",
    "            images = Variable(images.view(-1, seq_dim, input_dim).to(device))\n",
    "            \n",
    "        logit = model(images).to(device)\n",
    "        loss = F.cross_entropy(logit, labels, reduction='sum')\n",
    "        _, predicted = torch.max(logit.data, 1)\n",
    "        total += labels.size(0)\n",
    "        total_loss += loss.item()\n",
    "        corrects += (predicted == labels).sum()\n",
    "        \n",
    "    avg_loss = total_loss / len(val_iter.dataset)\n",
    "    avg_accuracy = corrects / total\n",
    "    return avg_loss, avg_accuracy"
   ]
  },
  {
   "cell_type": "code",
   "execution_count": null,
   "id": "f2f32ccb",
   "metadata": {},
   "outputs": [],
   "source": [
    "test_loss, test_acc = evaluate(model, test_loader)\n",
    "print(f'Test Loss : {test_loss:5.2f} | Test Accuracy : {test_acc:5.2f}')"
   ]
  },
  {
   "cell_type": "code",
   "execution_count": null,
   "id": "e8b98df0",
   "metadata": {},
   "outputs": [],
   "source": []
  },
  {
   "cell_type": "code",
   "execution_count": null,
   "id": "6f4c2cf6",
   "metadata": {},
   "outputs": [],
   "source": []
  },
  {
   "cell_type": "code",
   "execution_count": null,
   "id": "6ee7a883",
   "metadata": {},
   "outputs": [],
   "source": []
  },
  {
   "cell_type": "markdown",
   "id": "027697d8",
   "metadata": {},
   "source": [
    "## 스타벅스 실습"
   ]
  },
  {
   "cell_type": "code",
   "execution_count": 1,
   "id": "c8fff367",
   "metadata": {
    "ExecuteTime": {
     "end_time": "2023-11-11T19:23:39.461159Z",
     "start_time": "2023-11-11T19:23:35.660385Z"
    }
   },
   "outputs": [
    {
     "name": "stdout",
     "output_type": "stream",
     "text": [
      "Date          object\n",
      "Open         float64\n",
      "High         float64\n",
      "Low          float64\n",
      "Close        float64\n",
      "Adj Close    float64\n",
      "Volume         int64\n",
      "dtype: object\n",
      "           Date        Open        High         Low       Close   Adj Close  \\\n",
      "0    2019-12-11   86.260002   86.870003   85.849998   86.589996   84.145752   \n",
      "1    2019-12-12   88.000000   88.889999   87.540001   88.209999   85.720032   \n",
      "2    2019-12-13   88.019997   88.790001   87.580002   88.669998   86.167046   \n",
      "3    2019-12-16   89.139999   89.300003   88.430000   88.779999   86.273941   \n",
      "4    2019-12-17   88.870003   88.970001   87.470001   88.129997   85.642288   \n",
      "..          ...         ...         ...         ...         ...         ...   \n",
      "248  2020-12-04  101.349998  102.940002  101.070000  102.279999  101.442787   \n",
      "249  2020-12-07  102.010002  102.220001  100.690002  101.410004  100.579918   \n",
      "250  2020-12-08  100.370003  101.570000  100.010002  101.209999  100.381554   \n",
      "251  2020-12-09  101.940002  102.209999  100.099998  100.400002   99.578186   \n",
      "252  2020-12-10  103.510002  106.089996  102.750000  105.389999  104.527336   \n",
      "\n",
      "       Volume  \n",
      "0     4921900  \n",
      "1    10282100  \n",
      "2     6714100  \n",
      "3     6705600  \n",
      "4     7296900  \n",
      "..        ...  \n",
      "248   6952700  \n",
      "249   4514800  \n",
      "250   3911300  \n",
      "251   6629900  \n",
      "252  12939200  \n",
      "\n",
      "[253 rows x 7 columns]\n"
     ]
    }
   ],
   "source": [
    "import os\n",
    "import time\n",
    "\n",
    "import numpy as np\n",
    "import pandas as pd\n",
    "import matplotlib.pyplot as plt\n",
    "\n",
    "import torch\n",
    "import torch.nn as nn\n",
    "from torch.utils.data import TensorDataset, DataLoader\n",
    "from torch.autograd import Variable\n",
    "from tqdm import tqdm_notebook\n",
    "from sklearn.preprocessing import StandardScaler, MinMaxScaler\n",
    "from sklearn.model_selection import train_test_split\n",
    "\n",
    "device = torch.device('cuda:0' if torch.cuda.is_available() else 'cpu')\n",
    "\n",
    "data = pd.read_csv('./080289-main/chap07/data/SBUX.csv')\n",
    "print(data.dtypes)\n",
    "print(data)"
   ]
  },
  {
   "cell_type": "code",
   "execution_count": 2,
   "id": "a275f8cb",
   "metadata": {
    "ExecuteTime": {
     "end_time": "2023-11-11T19:23:41.164313Z",
     "start_time": "2023-11-11T19:23:41.147170Z"
    }
   },
   "outputs": [],
   "source": [
    "data['Date'] = pd.to_datetime(data['Date'])\n",
    "data.set_index('Date', inplace=True)\n",
    "data['Volume'] = data['Volume'].astype(float)"
   ]
  },
  {
   "cell_type": "code",
   "execution_count": 3,
   "id": "7bf9bda1",
   "metadata": {
    "ExecuteTime": {
     "end_time": "2023-11-11T19:23:42.551104Z",
     "start_time": "2023-11-11T19:23:42.531036Z"
    }
   },
   "outputs": [
    {
     "data": {
      "text/html": [
       "<div>\n",
       "<style scoped>\n",
       "    .dataframe tbody tr th:only-of-type {\n",
       "        vertical-align: middle;\n",
       "    }\n",
       "\n",
       "    .dataframe tbody tr th {\n",
       "        vertical-align: top;\n",
       "    }\n",
       "\n",
       "    .dataframe thead th {\n",
       "        text-align: right;\n",
       "    }\n",
       "</style>\n",
       "<table border=\"1\" class=\"dataframe\">\n",
       "  <thead>\n",
       "    <tr style=\"text-align: right;\">\n",
       "      <th></th>\n",
       "      <th>Open</th>\n",
       "      <th>High</th>\n",
       "      <th>Low</th>\n",
       "      <th>Close</th>\n",
       "      <th>Adj Close</th>\n",
       "    </tr>\n",
       "    <tr>\n",
       "      <th>Date</th>\n",
       "      <th></th>\n",
       "      <th></th>\n",
       "      <th></th>\n",
       "      <th></th>\n",
       "      <th></th>\n",
       "    </tr>\n",
       "  </thead>\n",
       "  <tbody>\n",
       "    <tr>\n",
       "      <th>2019-12-11</th>\n",
       "      <td>86.260002</td>\n",
       "      <td>86.870003</td>\n",
       "      <td>85.849998</td>\n",
       "      <td>86.589996</td>\n",
       "      <td>84.145752</td>\n",
       "    </tr>\n",
       "    <tr>\n",
       "      <th>2019-12-12</th>\n",
       "      <td>88.000000</td>\n",
       "      <td>88.889999</td>\n",
       "      <td>87.540001</td>\n",
       "      <td>88.209999</td>\n",
       "      <td>85.720032</td>\n",
       "    </tr>\n",
       "    <tr>\n",
       "      <th>2019-12-13</th>\n",
       "      <td>88.019997</td>\n",
       "      <td>88.790001</td>\n",
       "      <td>87.580002</td>\n",
       "      <td>88.669998</td>\n",
       "      <td>86.167046</td>\n",
       "    </tr>\n",
       "    <tr>\n",
       "      <th>2019-12-16</th>\n",
       "      <td>89.139999</td>\n",
       "      <td>89.300003</td>\n",
       "      <td>88.430000</td>\n",
       "      <td>88.779999</td>\n",
       "      <td>86.273941</td>\n",
       "    </tr>\n",
       "    <tr>\n",
       "      <th>2019-12-17</th>\n",
       "      <td>88.870003</td>\n",
       "      <td>88.970001</td>\n",
       "      <td>87.470001</td>\n",
       "      <td>88.129997</td>\n",
       "      <td>85.642288</td>\n",
       "    </tr>\n",
       "  </tbody>\n",
       "</table>\n",
       "</div>"
      ],
      "text/plain": [
       "                 Open       High        Low      Close  Adj Close\n",
       "Date                                                             \n",
       "2019-12-11  86.260002  86.870003  85.849998  86.589996  84.145752\n",
       "2019-12-12  88.000000  88.889999  87.540001  88.209999  85.720032\n",
       "2019-12-13  88.019997  88.790001  87.580002  88.669998  86.167046\n",
       "2019-12-16  89.139999  89.300003  88.430000  88.779999  86.273941\n",
       "2019-12-17  88.870003  88.970001  87.470001  88.129997  85.642288"
      ]
     },
     "execution_count": 3,
     "metadata": {},
     "output_type": "execute_result"
    }
   ],
   "source": [
    "X = data.iloc[:, :-1]\n",
    "y = data.iloc[:, 5:6]\n",
    "X.head() # feature data"
   ]
  },
  {
   "cell_type": "code",
   "execution_count": 4,
   "id": "ce541dbe",
   "metadata": {
    "ExecuteTime": {
     "end_time": "2023-11-11T19:23:47.235640Z",
     "start_time": "2023-11-11T19:23:47.219831Z"
    }
   },
   "outputs": [
    {
     "data": {
      "text/html": [
       "<div>\n",
       "<style scoped>\n",
       "    .dataframe tbody tr th:only-of-type {\n",
       "        vertical-align: middle;\n",
       "    }\n",
       "\n",
       "    .dataframe tbody tr th {\n",
       "        vertical-align: top;\n",
       "    }\n",
       "\n",
       "    .dataframe thead th {\n",
       "        text-align: right;\n",
       "    }\n",
       "</style>\n",
       "<table border=\"1\" class=\"dataframe\">\n",
       "  <thead>\n",
       "    <tr style=\"text-align: right;\">\n",
       "      <th></th>\n",
       "      <th>Volume</th>\n",
       "    </tr>\n",
       "    <tr>\n",
       "      <th>Date</th>\n",
       "      <th></th>\n",
       "    </tr>\n",
       "  </thead>\n",
       "  <tbody>\n",
       "    <tr>\n",
       "      <th>2019-12-11</th>\n",
       "      <td>4921900.0</td>\n",
       "    </tr>\n",
       "    <tr>\n",
       "      <th>2019-12-12</th>\n",
       "      <td>10282100.0</td>\n",
       "    </tr>\n",
       "    <tr>\n",
       "      <th>2019-12-13</th>\n",
       "      <td>6714100.0</td>\n",
       "    </tr>\n",
       "    <tr>\n",
       "      <th>2019-12-16</th>\n",
       "      <td>6705600.0</td>\n",
       "    </tr>\n",
       "    <tr>\n",
       "      <th>2019-12-17</th>\n",
       "      <td>7296900.0</td>\n",
       "    </tr>\n",
       "  </tbody>\n",
       "</table>\n",
       "</div>"
      ],
      "text/plain": [
       "                Volume\n",
       "Date                  \n",
       "2019-12-11   4921900.0\n",
       "2019-12-12  10282100.0\n",
       "2019-12-13   6714100.0\n",
       "2019-12-16   6705600.0\n",
       "2019-12-17   7296900.0"
      ]
     },
     "execution_count": 4,
     "metadata": {},
     "output_type": "execute_result"
    }
   ],
   "source": [
    "y.head() # target data"
   ]
  },
  {
   "cell_type": "markdown",
   "id": "66a86d21",
   "metadata": {},
   "source": [
    "### Scaling features & train/test split"
   ]
  },
  {
   "cell_type": "code",
   "execution_count": 5,
   "id": "085c5941",
   "metadata": {
    "ExecuteTime": {
     "end_time": "2023-11-11T19:24:02.695541Z",
     "start_time": "2023-11-11T19:24:02.675429Z"
    }
   },
   "outputs": [
    {
     "name": "stdout",
     "output_type": "stream",
     "text": [
      "Training Shape : (200, 5) (200, 1)\n",
      "Testing Shape : (53, 5) (53, 1)\n"
     ]
    }
   ],
   "source": [
    "ms = MinMaxScaler()\n",
    "ss = StandardScaler()\n",
    "\n",
    "X_ss = ss.fit_transform(X)\n",
    "y_ms = ms.fit_transform(y)\n",
    "\n",
    "X_train = X_ss[:200, :]\n",
    "X_test = X_ss[200:, :]\n",
    "\n",
    "y_train = y_ms[:200, :]\n",
    "y_test = y_ms[200:, :]\n",
    "\n",
    "print('Training Shape :', X_train.shape, y_train.shape)\n",
    "print('Testing Shape :', X_test.shape, y_test.shape)"
   ]
  },
  {
   "cell_type": "markdown",
   "id": "c131ff4b",
   "metadata": {},
   "source": [
    "### To Tensor format"
   ]
  },
  {
   "cell_type": "code",
   "execution_count": 6,
   "id": "56285bd3",
   "metadata": {
    "ExecuteTime": {
     "end_time": "2023-11-11T19:24:05.734797Z",
     "start_time": "2023-11-11T19:24:05.722773Z"
    }
   },
   "outputs": [
    {
     "name": "stdout",
     "output_type": "stream",
     "text": [
      "Training Shape : torch.Size([200, 1, 5]) torch.Size([200, 1])\n",
      "Testing Shape : torch.Size([53, 1, 5]) torch.Size([53, 1])\n"
     ]
    }
   ],
   "source": [
    "# 데이터셋 형태, 크기 조정\n",
    "X_train_tensors = Variable(torch.Tensor(X_train))\n",
    "X_test_tensors = Variable(torch.Tensor(X_test))\n",
    "\n",
    "y_train_tensors = Variable(torch.Tensor(y_train))\n",
    "y_test_tensors = Variable(torch.Tensor(y_test))\n",
    "\n",
    "X_train_tensors_f = torch.reshape(X_train_tensors, (X_train_tensors.shape[0],\n",
    "                                                  1, X_train_tensors.shape[1]))\n",
    "X_test_tensors_f = torch.reshape(X_test_tensors, (X_test_tensors.shape[0],\n",
    "                                                 1, X_test_tensors.shape[1]))\n",
    "\n",
    "print('Training Shape :', X_train_tensors_f.shape, y_train_tensors.shape)\n",
    "print('Testing Shape :', X_test_tensors_f.shape, y_test_tensors.shape)"
   ]
  },
  {
   "cell_type": "markdown",
   "id": "bba6b8ee",
   "metadata": {},
   "source": [
    "### train-val split & DataLoader"
   ]
  },
  {
   "cell_type": "code",
   "execution_count": 7,
   "id": "db90b2d6",
   "metadata": {
    "ExecuteTime": {
     "end_time": "2023-11-11T19:24:11.785686Z",
     "start_time": "2023-11-11T19:24:11.764264Z"
    }
   },
   "outputs": [
    {
     "name": "stdout",
     "output_type": "stream",
     "text": [
      "Training Shape : torch.Size([180, 1, 5]) torch.Size([180, 1])\n",
      "Testing Shape : torch.Size([53, 1, 5]) torch.Size([53, 1])\n"
     ]
    }
   ],
   "source": [
    "# train&val split\n",
    "X_train_tensors_f = X_train_tensors_f[:180,:,:]\n",
    "X_val_tensors_f = X_train_tensors_f[180:,:,:]\n",
    "\n",
    "y_train_tensors = y_train_tensors[:180,:]\n",
    "y_val_tensors = y_train_tensors[180:,:]\n",
    "\n",
    "\n",
    "# data loader에 저장하기\n",
    "batch_size = 40\n",
    "\n",
    "# train dataset & dataloader\n",
    "train_dataset = TensorDataset(X_train_tensors_f,y_train_tensors)\n",
    "train_loader = DataLoader(train_dataset,batch_size=batch_size,shuffle=False)\n",
    "\n",
    "# val dataset & dataloader\n",
    "val_dataset = TensorDataset(X_val_tensors_f, y_val_tensors)\n",
    "val_loader = DataLoader(val_dataset, batch_size=batch_size,shuffle=False)\n",
    "\n",
    "print('Training Shape :', X_train_tensors_f.shape, y_train_tensors.shape)\n",
    "print('Testing Shape :', X_test_tensors_f.shape, y_test_tensors.shape)"
   ]
  },
  {
   "cell_type": "markdown",
   "id": "97387dae",
   "metadata": {},
   "source": [
    "### LSTM Model"
   ]
  },
  {
   "cell_type": "code",
   "execution_count": 65,
   "id": "2ee37d04",
   "metadata": {
    "ExecuteTime": {
     "end_time": "2023-11-11T20:20:34.779415Z",
     "start_time": "2023-11-11T20:20:34.760916Z"
    }
   },
   "outputs": [],
   "source": [
    "class LSTM(nn.Module) :\n",
    "    def __init__(self, num_classes, input_size, hidden_size, num_layers) :\n",
    "        super(LSTM, self).__init__()\n",
    "        self.num_classes = num_classes # target 개수 (가격만 필요하니까 1)\n",
    "        self.num_layers = num_layers # LSTM Layer 개수\n",
    "        self.input_size = input_size # feature 개수\n",
    "        self.hidden_size = hidden_size\n",
    "#         self.seq_length = seq_length\n",
    "        \n",
    "        self.lstm = nn.LSTM(input_size=input_size, hidden_size=hidden_size,\n",
    "                           num_layers=num_layers, batch_first=True)\n",
    "        self.fc_1 = nn.Linear(hidden_size, 16)\n",
    "        self.fc = nn.Linear(16, num_classes)\n",
    "        self.relu = nn.ReLU()\n",
    "        \n",
    "    def forward(self, x) :\n",
    "        # 항상 (layer, 데이터 크기, hidden_size)로 초기화\n",
    "        h_0 = Variable(torch.zeros(self.num_layers, x.size(0), self.hidden_size)) \n",
    "        c_0 = Variable(torch.zeros(self.num_layers, x.size(0), self.hidden_size))\n",
    "#         print('forward내부 x사이즈:',x.size())\n",
    "        outs, (hn, cn) = self.lstm(x, (h_0, c_0))\n",
    "#         print('lstm output_hn size:',hn.size())\n",
    "#         print('outs.size :',outs.size())\n",
    "#         print(f'outs[:,-1,:].size(): {outs[:,-1,:].size()} ,outs[:,-1,:] :',outs[:,-1,:])\n",
    "#         print('hn.size :',hn.size())\n",
    "#         print('hn :',hn)\n",
    "        hn = hn.view(-1, self.hidden_size)\n",
    "        out = self.relu(hn)\n",
    "        out = self.fc_1(out)\n",
    "        out = self.relu(out)\n",
    "        out = self.fc(out)\n",
    "#         print('최종 아웃풋:',out.size())\n",
    "        return out"
   ]
  },
  {
   "cell_type": "code",
   "execution_count": 66,
   "id": "df59999d",
   "metadata": {
    "ExecuteTime": {
     "end_time": "2023-11-11T20:20:36.012428Z",
     "start_time": "2023-11-11T20:20:35.992938Z"
    }
   },
   "outputs": [],
   "source": [
    "# 변수값 설정\n",
    "num_epochs = 200\n",
    "lr = 0.0002\n",
    "\n",
    "number_of_features = next(iter(train_loader))[0].size(-1)\n",
    "input_size=number_of_features # input_dim = 피처 개수\n",
    "hidden_size=32 # hidden_dim \n",
    "num_layers=1 # LSTM net의 개수\n",
    "\n",
    "num_classes=1 # = output_dim = 타겟의 컬럼 개수 (가격만 예측하니까 1)\n",
    "model = LSTM(num_classes, input_size, hidden_size, num_layers)\n",
    "\n",
    "criterion = torch.nn.MSELoss()\n",
    "optimizer = torch.optim.Adam(model.parameters(), lr=lr)"
   ]
  },
  {
   "cell_type": "code",
   "execution_count": 67,
   "id": "d4538823",
   "metadata": {
    "ExecuteTime": {
     "end_time": "2023-11-11T20:20:37.500121Z",
     "start_time": "2023-11-11T20:20:37.487522Z"
    }
   },
   "outputs": [
    {
     "data": {
      "text/plain": [
       "torch.Size([180, 1, 5])"
      ]
     },
     "execution_count": 67,
     "metadata": {},
     "output_type": "execute_result"
    }
   ],
   "source": [
    "X_train_tensors_f.size()"
   ]
  },
  {
   "cell_type": "code",
   "execution_count": 37,
   "id": "f659725a",
   "metadata": {
    "ExecuteTime": {
     "end_time": "2023-11-11T20:07:56.409126Z",
     "start_time": "2023-11-11T20:07:56.391312Z"
    }
   },
   "outputs": [],
   "source": [
    "# for epoch in range(num_epochs) :\n",
    "    \n",
    "    \n",
    "#     outputs = model.forward(X_train_tensors_f)\n",
    "#     print('밖에서 본 output:',outputs.size())\n",
    "#     optimizer.zero_grad()\n",
    "#     loss = criterion(outputs, y_train_tensors)\n",
    "#     loss.backward()\n",
    "    \n",
    "#     optimizer.step()\n",
    "#     if epoch % 100 == 0 :\n",
    "#         print(f'Epoch : {epoch}, loss : {loss.item():1.5f}')"
   ]
  },
  {
   "cell_type": "code",
   "execution_count": 70,
   "id": "41d27836",
   "metadata": {
    "ExecuteTime": {
     "end_time": "2023-11-11T20:21:41.093787Z",
     "start_time": "2023-11-11T20:21:38.385948Z"
    }
   },
   "outputs": [],
   "source": [
    "# Train the model\n",
    "best_loss = float('inf')\n",
    "early_stopping_counter = 0\n",
    "train_losses = []\n",
    "val_losses = []\n",
    "epoch_counter = 0 # epoch 횟수 카운팅용\n",
    "patience = 50 # early_stopping 기준\n",
    "\n",
    "for epoch in range(num_epochs):\n",
    "    model.train() # 모델을 '학습 모드'로 설정\n",
    "    train_loss = 0\n",
    "    \n",
    "    for batch_x, batch_y in train_loader: # 미니 배치 학습\n",
    "        optimizer.zero_grad() # optimizer의 가중치를 초기화\n",
    "        output = model(batch_x) # 순전파 진행\n",
    "            \n",
    "        loss = criterion(output, batch_y) # 평가(손실 계산)\n",
    "        # output shape이 (데이터포인트개수,channel개수,column개수)이기 때문에\n",
    "        # channel이 1개인 일반적인 데이터들은 unsqueeze해준다.\n",
    "        train_loss += loss.item() * batch_x.size(0) # 손실 누적\n",
    "        loss.backward() # 역전파 진행\n",
    "        optimizer.step() # 모델의 가중치 업데이트\n",
    "\n",
    "    average_train_loss = train_loss / len(train_loader.dataset)\t# 평균 손실값\n",
    "    train_losses.append(average_train_loss)\n",
    "        \n",
    "#     model.eval() # 모델을 '평가 모드'로 설정\n",
    "    \n",
    "#     with torch.no_grad(): # 그래디언트 계산 비활성화\n",
    "#         val_loss = 0\n",
    "        \n",
    "#         for batch_x,batch_y in val_loader: \n",
    "#             batch_x = batch_x\n",
    "#             batch_y = batch_y\n",
    "#             output = model(batch_x) # 예측을 생성\n",
    "#             loss = criterion(output.unsqueeze(1), batch_y) # 손실 계산\n",
    "#             val_loss += loss.item() * batch_x.size(0) # 검증 손실 누적\n",
    "        \n",
    "#         average_val_loss = val_loss / len(val_loader.dataset) # 평균 검증 손실 계산\n",
    "#         val_losses.append(average_val_loss)\n",
    "        \n",
    "#         epoch_counter+=1\n",
    "#         if epoch_counter%20 == 0:\n",
    "#             print('Epoch: {}, train_loss: {:.4f}, val_loss: {:.4f}'.format(\n",
    "#                 epoch_counter, average_train_loss, average_val_loss))\n",
    "        \n",
    "#         # Early Stopping\n",
    "#         y_pred = model(X_val_tensors) # Validation용 텐서 데이터셋으로 예측 수행\n",
    "#         y_pred = y_pred.unsqueeze(0).repeat(y_val_tensors.shape[0],1,1) # 예측값 차원 조정\n",
    "#         fin_val_loss = criterion(y_pred, y_val_tensors) # 손실 평가\n",
    "#         if fin_val_loss < best_loss: # val_loss가 best_loss보다 작으면 \n",
    "#             best_loss = fin_val_loss # best_loss를 val_loss로 갱신\n",
    "#             torch.save(model.state_dict(), '../models/model.pth') #모델 저장\n",
    "#             early_stopping_counter = 0 # 카운팅 초기화\n",
    "#         else: # val_loss가 더이상 감소하지 않으면,\n",
    "#             early_stopping_counter += 1 # 카운팅 시작\n",
    "#             if early_stopping_counter >= patience: # 카운팅이 patience보다 커지면\n",
    "#                 break # 학습 종료"
   ]
  },
  {
   "cell_type": "code",
   "execution_count": 71,
   "id": "de30ec14",
   "metadata": {
    "ExecuteTime": {
     "end_time": "2023-11-11T20:21:47.080485Z",
     "start_time": "2023-11-11T20:21:47.066283Z"
    }
   },
   "outputs": [
    {
     "data": {
      "text/plain": [
       "tensor([[0.2185],\n",
       "        [0.2198],\n",
       "        [0.2144],\n",
       "        [0.2107],\n",
       "        [0.2186],\n",
       "        [0.2050],\n",
       "        [0.2035],\n",
       "        [0.2028],\n",
       "        [0.1984],\n",
       "        [0.1933],\n",
       "        [0.1900],\n",
       "        [0.1907],\n",
       "        [0.1937],\n",
       "        [0.2010],\n",
       "        [0.1972],\n",
       "        [0.2016],\n",
       "        [0.1995],\n",
       "        [0.2004],\n",
       "        [0.2005],\n",
       "        [0.1920],\n",
       "        [0.1934],\n",
       "        [0.1942],\n",
       "        [0.2034],\n",
       "        [0.2063],\n",
       "        [0.2084],\n",
       "        [0.2113],\n",
       "        [0.2080],\n",
       "        [0.1962],\n",
       "        [0.1896],\n",
       "        [0.1909],\n",
       "        [0.1574],\n",
       "        [0.1713],\n",
       "        [0.1675],\n",
       "        [0.1701],\n",
       "        [0.1660],\n",
       "        [0.1575],\n",
       "        [0.1569],\n",
       "        [0.1556],\n",
       "        [0.1571],\n",
       "        [0.1571],\n",
       "        [0.1568],\n",
       "        [0.1567],\n",
       "        [0.1560],\n",
       "        [0.1558],\n",
       "        [0.1562],\n",
       "        [0.1553],\n",
       "        [0.1558],\n",
       "        [0.1547],\n",
       "        [0.1522],\n",
       "        [0.1519],\n",
       "        [0.1534],\n",
       "        [0.1520],\n",
       "        [0.1495]], grad_fn=<AddmmBackward0>)"
      ]
     },
     "execution_count": 71,
     "metadata": {},
     "output_type": "execute_result"
    }
   ],
   "source": [
    "model(X_test_tensors_f)"
   ]
  },
  {
   "cell_type": "code",
   "execution_count": 64,
   "id": "d8a9336c",
   "metadata": {
    "ExecuteTime": {
     "end_time": "2023-11-11T20:20:21.001058Z",
     "start_time": "2023-11-11T20:20:20.986098Z"
    }
   },
   "outputs": [],
   "source": [
    "# y_test_tensors"
   ]
  },
  {
   "cell_type": "code",
   "execution_count": 62,
   "id": "9539e612",
   "metadata": {
    "ExecuteTime": {
     "end_time": "2023-11-11T20:20:02.413744Z",
     "start_time": "2023-11-11T20:20:02.394061Z"
    }
   },
   "outputs": [
    {
     "data": {
      "text/plain": [
       "torch.Size([253, 1, 5])"
      ]
     },
     "execution_count": 62,
     "metadata": {},
     "output_type": "execute_result"
    }
   ],
   "source": [
    "torch.tensor(X_ss, ).unsqueeze(1).float().size()"
   ]
  },
  {
   "cell_type": "code",
   "execution_count": 73,
   "id": "03a5953c",
   "metadata": {
    "ExecuteTime": {
     "end_time": "2023-11-11T20:22:27.142915Z",
     "start_time": "2023-11-11T20:22:26.917358Z"
    }
   },
   "outputs": [
    {
     "name": "stderr",
     "output_type": "stream",
     "text": [
      "C:\\Users\\songkyu\\anaconda3\\envs\\py39_DA\\lib\\site-packages\\sklearn\\base.py:465: UserWarning: X does not have valid feature names, but MinMaxScaler was fitted with feature names\n",
      "  warnings.warn(\n"
     ]
    },
    {
     "data": {
      "text/plain": [
       "[<matplotlib.lines.Line2D at 0x209b964a040>]"
      ]
     },
     "execution_count": 73,
     "metadata": {},
     "output_type": "execute_result"
    },
    {
     "data": {
      "image/png": "[encoded data removed]",
      "text/plain": [
       "<Figure size 640x480 with 1 Axes>"
      ]
     },
     "metadata": {},
     "output_type": "display_data"
    }
   ],
   "source": [
    "results = model(torch.tensor(X_ss, ).unsqueeze(1).float())\n",
    "results = results.detach().numpy()\n",
    "plt.plot(data.index,ms.transform(np.array(data[\"Volume\"]).reshape(-1,1)))\n",
    "plt.plot(data.index,results)"
   ]
  },
  {
   "cell_type": "markdown",
   "id": "1c7a7755",
   "metadata": {},
   "source": [
    "---"
   ]
  }
 ],
 "metadata": {
  "kernelspec": {
   "display_name": "Python 3 (ipykernel)",
   "language": "python",
   "name": "python3"
  },
  "language_info": {
   "codemirror_mode": {
    "name": "ipython",
    "version": 3
   },
   "file_extension": ".py",
   "mimetype": "text/x-python",
   "name": "python",
   "nbconvert_exporter": "python",
   "pygments_lexer": "ipython3",
   "version": "3.9.6"
  },
  "toc": {
   "base_numbering": 1,
   "nav_menu": {},
   "number_sections": false,
   "sideBar": true,
   "skip_h1_title": false,
   "title_cell": "Table of Contents",
   "title_sidebar": "Contents",
   "toc_cell": false,
   "toc_position": {},
   "toc_section_display": true,
   "toc_window_display": false
  }
 },
 "nbformat": 4,
 "nbformat_minor": 5
}
