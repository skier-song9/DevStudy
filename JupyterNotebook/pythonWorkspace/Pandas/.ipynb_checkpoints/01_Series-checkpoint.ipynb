{
 "cells": [
  {
   "cell_type": "markdown",
   "id": "53b976d0",
   "metadata": {},
   "source": [
    "# Pandas\n",
    "\n",
    "파이썬에서 사용하는 데이터 분석 라이브러리이다."
   ]
  },
  {
   "cell_type": "code",
   "execution_count": 1,
   "id": "cfa8b4a3",
   "metadata": {},
   "outputs": [],
   "source": [
    "import pandas as pd"
   ]
  },
  {
   "cell_type": "markdown",
   "id": "0552e565",
   "metadata": {},
   "source": [
    "# 1. Series\n",
    "\n",
    "1차원 데이터이다. (정수, 실수, 문자열 등)"
   ]
  },
  {
   "cell_type": "markdown",
   "id": "af4b63c3",
   "metadata": {},
   "source": [
    "## Series 객체 생성\n",
    "ex) 1월부터 4월까지 평균 온도 데이터. \n",
    "    1월: -20, 2월 -10, 3월 10, 4월 20도."
   ]
  },
  {
   "cell_type": "code",
   "execution_count": 7,
   "id": "5ad5fb64",
   "metadata": {},
   "outputs": [
    {
     "data": {
      "text/plain": [
       "0   -20\n",
       "1   -10\n",
       "2    10\n",
       "3    20\n",
       "dtype: int64"
      ]
     },
     "execution_count": 7,
     "metadata": {},
     "output_type": "execute_result"
    }
   ],
   "source": [
    "temp = pd.Series([-20,-10,10,20]);\n",
    "temp"
   ]
  },
  {
   "cell_type": "code",
   "execution_count": 4,
   "id": "b065ff70",
   "metadata": {},
   "outputs": [
    {
     "data": {
      "text/plain": [
       "-20"
      ]
     },
     "execution_count": 4,
     "metadata": {},
     "output_type": "execute_result"
    }
   ],
   "source": [
    "temp[0] # 1월 온도"
   ]
  },
  {
   "cell_type": "code",
   "execution_count": 8,
   "id": "d6741922",
   "metadata": {},
   "outputs": [
    {
     "data": {
      "text/plain": [
       "10"
      ]
     },
     "execution_count": 8,
     "metadata": {},
     "output_type": "execute_result"
    }
   ],
   "source": [
    "temp[2] # 3월 온도"
   ]
  },
  {
   "cell_type": "markdown",
   "id": "feba67bb",
   "metadata": {},
   "source": [
    "## Series 객체 생성 (index 지정)"
   ]
  },
  {
   "cell_type": "code",
   "execution_count": 10,
   "id": "c65ab31d",
   "metadata": {},
   "outputs": [
    {
     "data": {
      "text/plain": [
       "Jan   -20\n",
       "Feb   -10\n",
       "Mar    10\n",
       "Apr    20\n",
       "dtype: int64"
      ]
     },
     "execution_count": 10,
     "metadata": {},
     "output_type": "execute_result"
    }
   ],
   "source": [
    "temp = pd.Series([-20,-10,10,20],index=['Jan','Feb','Mar','Apr']);\n",
    "temp"
   ]
  },
  {
   "cell_type": "code",
   "execution_count": 11,
   "id": "7f7c4fdc",
   "metadata": {},
   "outputs": [
    {
     "data": {
      "text/plain": [
       "-20"
      ]
     },
     "execution_count": 11,
     "metadata": {},
     "output_type": "execute_result"
    }
   ],
   "source": [
    "temp['Jan'] # 1월 온도 >> 인덱스 이름으로 접근 가능"
   ]
  },
  {
   "cell_type": "code",
   "execution_count": 13,
   "id": "793b6312",
   "metadata": {},
   "outputs": [],
   "source": [
    "# temp[\"Jun\"] #[x] 존재하지 않는 index 이름으로 접근 시 KeyError 발생"
   ]
  }
 ],
 "metadata": {
  "kernelspec": {
   "display_name": "Python 3 (ipykernel)",
   "language": "python",
   "name": "python3"
  },
  "language_info": {
   "codemirror_mode": {
    "name": "ipython",
    "version": 3
   },
   "file_extension": ".py",
   "mimetype": "text/x-python",
   "name": "python",
   "nbconvert_exporter": "python",
   "pygments_lexer": "ipython3",
   "version": "3.10.9"
  }
 },
 "nbformat": 4,
 "nbformat_minor": 5
}
