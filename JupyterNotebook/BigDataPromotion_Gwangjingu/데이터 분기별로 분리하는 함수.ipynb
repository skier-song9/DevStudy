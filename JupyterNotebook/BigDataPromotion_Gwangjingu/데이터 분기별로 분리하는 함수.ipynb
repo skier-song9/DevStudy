{
 "cells": [
  {
   "cell_type": "code",
   "execution_count": 17,
   "id": "b4fac232",
   "metadata": {},
   "outputs": [],
   "source": [
    "import pandas as pd\n",
    "import numpy as np\n",
    "import math"
   ]
  },
  {
   "cell_type": "code",
   "execution_count": 2,
   "id": "e8154ac5",
   "metadata": {},
   "outputs": [],
   "source": [
    "hb_file_path = \"./data/gwangjingu_hostess_bar.csv\"\n",
    "eb_file_path = \"./data/gwangjingu_entertainment_bar.csv\""
   ]
  },
  {
   "cell_type": "code",
   "execution_count": 27,
   "id": "a2fdf6c4",
   "metadata": {
    "scrolled": true
   },
   "outputs": [
    {
     "name": "stdout",
     "output_type": "stream",
     "text": [
      "   개방자치단체코드                    관리번호     인허가일자  인허가취소일자  영업상태코드  영업상태명  \\\n",
      "0   3040000  3040000-103-1993-06863  19931030      NaN       1  영업/정상   \n",
      "1   3040000  3040000-103-1993-06865  19931122      NaN       3     폐업   \n",
      "2   3040000  3040000-103-1993-06871  19931026      NaN       3     폐업   \n",
      "\n",
      "   상세영업상태코드 상세영업상태명        폐업일자  휴업시작일자  ...  공장판매직종업원수  공장생산직종업원수 건물소유구분명  \\\n",
      "0         1      영업         NaN     NaN  ...        NaN        NaN     NaN   \n",
      "1         2      폐업  20001226.0     NaN  ...        NaN        NaN     NaN   \n",
      "2         2      폐업  19950403.0     NaN  ...        NaN        NaN     NaN   \n",
      "\n",
      "   보증액 월세액 다중이용업소여부   시설총규모  전통업소지정번호 전통업소주된음식 홈페이지  \n",
      "0  NaN NaN        Y   97.94       NaN      NaN  NaN  \n",
      "1  NaN NaN        N  113.82       NaN      NaN  NaN  \n",
      "2  NaN NaN        N   68.88       NaN      NaN  NaN  \n",
      "\n",
      "[3 rows x 44 columns]\n",
      "<bound method DataFrame.info of      개방자치단체코드                    관리번호     인허가일자  인허가취소일자  영업상태코드  영업상태명  \\\n",
      "0     3040000  3040000-103-1993-06863  19931030      NaN       1  영업/정상   \n",
      "1     3040000  3040000-103-1993-06865  19931122      NaN       3     폐업   \n",
      "2     3040000  3040000-103-1993-06871  19931026      NaN       3     폐업   \n",
      "3     3040000  3040000-103-1993-06877  19931227      NaN       3     폐업   \n",
      "4     3040000  3040000-103-1993-06886  19931110      NaN       3     폐업   \n",
      "..        ...                     ...       ...      ...     ...    ...   \n",
      "331   3040000  3040000-103-1998-07218  19981103      NaN       1  영업/정상   \n",
      "332   3040000  3040000-103-1998-08630  19980216      NaN       3     폐업   \n",
      "333   3040000  3040000-103-1998-08631  19980630      NaN       3     폐업   \n",
      "334   3040000  3040000-103-2005-00001  20050929      NaN       3     폐업   \n",
      "335   3040000  3040000-103-2012-00001  20120509      NaN       3     폐업   \n",
      "\n",
      "     상세영업상태코드 상세영업상태명        폐업일자  휴업시작일자  ...  공장판매직종업원수  공장생산직종업원수 건물소유구분명  \\\n",
      "0           1      영업         NaN     NaN  ...        NaN        NaN     NaN   \n",
      "1           2      폐업  20001226.0     NaN  ...        NaN        NaN     NaN   \n",
      "2           2      폐업  19950403.0     NaN  ...        NaN        NaN     NaN   \n",
      "3           2      폐업  19960708.0     NaN  ...        NaN        NaN     NaN   \n",
      "4           2      폐업  19941102.0     NaN  ...        NaN        NaN     NaN   \n",
      "..        ...     ...         ...     ...  ...        ...        ...     ...   \n",
      "331         1      영업         NaN     NaN  ...        NaN        NaN     NaN   \n",
      "332         2      폐업  20101229.0     NaN  ...        NaN        NaN     NaN   \n",
      "333         2      폐업  20050321.0     NaN  ...        NaN        NaN     NaN   \n",
      "334         2      폐업  20201013.0     NaN  ...        NaN        NaN     NaN   \n",
      "335         2      폐업  20190522.0     NaN  ...        NaN        NaN     NaN   \n",
      "\n",
      "     보증액 월세액 다중이용업소여부   시설총규모  전통업소지정번호 전통업소주된음식 홈페이지  \n",
      "0    NaN NaN        Y   97.94       NaN      NaN  NaN  \n",
      "1    NaN NaN        N  113.82       NaN      NaN  NaN  \n",
      "2    NaN NaN        N   68.88       NaN      NaN  NaN  \n",
      "3    NaN NaN        N  102.06       NaN      NaN  NaN  \n",
      "4    NaN NaN        N  104.14       NaN      NaN  NaN  \n",
      "..   ...  ..      ...     ...       ...      ...  ...  \n",
      "331  NaN NaN        Y  129.87       NaN      NaN  NaN  \n",
      "332  NaN NaN        N   78.82       NaN      NaN  NaN  \n",
      "333  NaN NaN        N    0.00       NaN      NaN  NaN  \n",
      "334  NaN NaN        Y  679.67       NaN      NaN  NaN  \n",
      "335  NaN NaN        Y  273.25       NaN      NaN  NaN  \n",
      "\n",
      "[336 rows x 44 columns]>\n"
     ]
    }
   ],
   "source": [
    "hb = pd.read_csv(hb_file_path,encoding=\"CP949\")\n",
    "print(hb.head(3))\n",
    "print(hb.info)"
   ]
  },
  {
   "cell_type": "code",
   "execution_count": 32,
   "id": "0e1df601",
   "metadata": {},
   "outputs": [],
   "source": [
    "eb = pd.read_csv(eb_file_path,encoding=\"CP949\")"
   ]
  },
  {
   "cell_type": "code",
   "execution_count": 22,
   "id": "c328da67",
   "metadata": {},
   "outputs": [
    {
     "data": {
      "text/plain": [
       "1"
      ]
     },
     "execution_count": 22,
     "metadata": {},
     "output_type": "execute_result"
    }
   ],
   "source": [
    "len(hb.loc[hb[\"관리번호\"]=='3040000-103-1993-06928',[\"좌표정보(X)\",\"좌표정보(Y)\"]][\"좌표정보(X)\"])\n",
    "# 좌표정보가 없는 없체들은 NaN."
   ]
  },
  {
   "cell_type": "code",
   "execution_count": 29,
   "id": "3aec9745",
   "metadata": {},
   "outputs": [],
   "source": [
    "hb_filter_no_location = hb[\"좌표정보(X)\"].notna() & hb[\"좌표정보(Y)\"].notna()\n",
    "eb_filter_no_location = eb[\"좌표정보(X)\"].notna() & eb[\"좌표정보(Y)\"].notna()"
   ]
  },
  {
   "cell_type": "code",
   "execution_count": 33,
   "id": "5e1dccac",
   "metadata": {},
   "outputs": [
    {
     "data": {
      "text/plain": [
       "<bound method DataFrame.info of      개방자치단체코드                    관리번호     인허가일자  인허가취소일자  영업상태코드  영업상태명  \\\n",
       "0     3040000  3040000-103-1993-06863  19931030      NaN       1  영업/정상   \n",
       "1     3040000  3040000-103-1993-06865  19931122      NaN       3     폐업   \n",
       "2     3040000  3040000-103-1993-06871  19931026      NaN       3     폐업   \n",
       "3     3040000  3040000-103-1993-06877  19931227      NaN       3     폐업   \n",
       "4     3040000  3040000-103-1993-06886  19931110      NaN       3     폐업   \n",
       "..        ...                     ...       ...      ...     ...    ...   \n",
       "331   3040000  3040000-103-1998-07218  19981103      NaN       1  영업/정상   \n",
       "332   3040000  3040000-103-1998-08630  19980216      NaN       3     폐업   \n",
       "333   3040000  3040000-103-1998-08631  19980630      NaN       3     폐업   \n",
       "334   3040000  3040000-103-2005-00001  20050929      NaN       3     폐업   \n",
       "335   3040000  3040000-103-2012-00001  20120509      NaN       3     폐업   \n",
       "\n",
       "     상세영업상태코드 상세영업상태명        폐업일자  휴업시작일자  ...  공장판매직종업원수  공장생산직종업원수 건물소유구분명  \\\n",
       "0           1      영업         NaN     NaN  ...        NaN        NaN     NaN   \n",
       "1           2      폐업  20001226.0     NaN  ...        NaN        NaN     NaN   \n",
       "2           2      폐업  19950403.0     NaN  ...        NaN        NaN     NaN   \n",
       "3           2      폐업  19960708.0     NaN  ...        NaN        NaN     NaN   \n",
       "4           2      폐업  19941102.0     NaN  ...        NaN        NaN     NaN   \n",
       "..        ...     ...         ...     ...  ...        ...        ...     ...   \n",
       "331         1      영업         NaN     NaN  ...        NaN        NaN     NaN   \n",
       "332         2      폐업  20101229.0     NaN  ...        NaN        NaN     NaN   \n",
       "333         2      폐업  20050321.0     NaN  ...        NaN        NaN     NaN   \n",
       "334         2      폐업  20201013.0     NaN  ...        NaN        NaN     NaN   \n",
       "335         2      폐업  20190522.0     NaN  ...        NaN        NaN     NaN   \n",
       "\n",
       "     보증액 월세액 다중이용업소여부   시설총규모  전통업소지정번호 전통업소주된음식 홈페이지  \n",
       "0    NaN NaN        Y   97.94       NaN      NaN  NaN  \n",
       "1    NaN NaN        N  113.82       NaN      NaN  NaN  \n",
       "2    NaN NaN        N   68.88       NaN      NaN  NaN  \n",
       "3    NaN NaN        N  102.06       NaN      NaN  NaN  \n",
       "4    NaN NaN        N  104.14       NaN      NaN  NaN  \n",
       "..   ...  ..      ...     ...       ...      ...  ...  \n",
       "331  NaN NaN        Y  129.87       NaN      NaN  NaN  \n",
       "332  NaN NaN        N   78.82       NaN      NaN  NaN  \n",
       "333  NaN NaN        N    0.00       NaN      NaN  NaN  \n",
       "334  NaN NaN        Y  679.67       NaN      NaN  NaN  \n",
       "335  NaN NaN        Y  273.25       NaN      NaN  NaN  \n",
       "\n",
       "[323 rows x 44 columns]>"
      ]
     },
     "execution_count": 33,
     "metadata": {},
     "output_type": "execute_result"
    }
   ],
   "source": [
    "hb_filtered1 = hb[hb_filter_no_location]\n",
    "eb_filtered1 = eb[eb_filter_no_location]\n",
    "hb_filtered.info"
   ]
  },
  {
   "cell_type": "markdown",
   "id": "e9cec477",
   "metadata": {},
   "source": [
    "### hb_filtered1이랑 eb_filtered1은 x,y 좌표정보가 없는 row는 삭제된 상태\n",
    "\n",
    "### 인허가일자, 폐업일자 컬럼의 날짜에 -가 포함되어 있으면 대쉬 삭제"
   ]
  },
  {
   "cell_type": "code",
   "execution_count": 34,
   "id": "5e821733",
   "metadata": {},
   "outputs": [],
   "source": [
    "def remove_dash(df):\n",
    "    df[\"인허가일자\"] = df[\"인허가일자\"].str.replace(\"-\",\"\")\n",
    "    df[\"폐업일자\"] = df['폐업일자'].str.replace(\"-\",\"\")\n",
    "    return df"
   ]
  },
  {
   "cell_type": "code",
   "execution_count": 39,
   "id": "2ceb6155",
   "metadata": {},
   "outputs": [],
   "source": [
    "hb_filtered1.loc[:,\"인허가일자\"] = hb_filtered1[\"인허가일자\"].str.replace(\"-\",\"\")"
   ]
  },
  {
   "cell_type": "code",
   "execution_count": null,
   "id": "b7c97c38",
   "metadata": {},
   "outputs": [],
   "source": []
  },
  {
   "cell_type": "code",
   "execution_count": null,
   "id": "02c9534c",
   "metadata": {},
   "outputs": [],
   "source": []
  },
  {
   "cell_type": "code",
   "execution_count": null,
   "id": "f64b2a41",
   "metadata": {},
   "outputs": [],
   "source": []
  },
  {
   "cell_type": "code",
   "execution_count": null,
   "id": "1cbe3e2d",
   "metadata": {},
   "outputs": [],
   "source": []
  },
  {
   "cell_type": "code",
   "execution_count": null,
   "id": "c144bf43",
   "metadata": {},
   "outputs": [],
   "source": []
  },
  {
   "cell_type": "code",
   "execution_count": null,
   "id": "b01f34cb",
   "metadata": {},
   "outputs": [],
   "source": []
  },
  {
   "cell_type": "code",
   "execution_count": null,
   "id": "20ae3295",
   "metadata": {},
   "outputs": [],
   "source": []
  },
  {
   "cell_type": "code",
   "execution_count": null,
   "id": "b9687a54",
   "metadata": {},
   "outputs": [],
   "source": []
  },
  {
   "cell_type": "code",
   "execution_count": null,
   "id": "0b04780e",
   "metadata": {},
   "outputs": [],
   "source": []
  },
  {
   "cell_type": "code",
   "execution_count": null,
   "id": "f357131f",
   "metadata": {},
   "outputs": [],
   "source": []
  },
  {
   "cell_type": "code",
   "execution_count": null,
   "id": "581e0a07",
   "metadata": {},
   "outputs": [],
   "source": []
  },
  {
   "cell_type": "code",
   "execution_count": null,
   "id": "66f9f2c2",
   "metadata": {},
   "outputs": [],
   "source": []
  },
  {
   "cell_type": "code",
   "execution_count": null,
   "id": "a58a4b05",
   "metadata": {},
   "outputs": [],
   "source": []
  },
  {
   "cell_type": "code",
   "execution_count": null,
   "id": "4097a6db",
   "metadata": {},
   "outputs": [],
   "source": []
  },
  {
   "cell_type": "code",
   "execution_count": null,
   "id": "5d5cb9b6",
   "metadata": {},
   "outputs": [],
   "source": []
  },
  {
   "cell_type": "code",
   "execution_count": null,
   "id": "507420b6",
   "metadata": {},
   "outputs": [],
   "source": []
  },
  {
   "cell_type": "code",
   "execution_count": null,
   "id": "ac2ad8f5",
   "metadata": {},
   "outputs": [],
   "source": []
  }
 ],
 "metadata": {
  "kernelspec": {
   "display_name": "Python 3 (ipykernel)",
   "language": "python",
   "name": "python3"
  },
  "language_info": {
   "codemirror_mode": {
    "name": "ipython",
    "version": 3
   },
   "file_extension": ".py",
   "mimetype": "text/x-python",
   "name": "python",
   "nbconvert_exporter": "python",
   "pygments_lexer": "ipython3",
   "version": "3.7.16"
  }
 },
 "nbformat": 4,
 "nbformat_minor": 5
}
