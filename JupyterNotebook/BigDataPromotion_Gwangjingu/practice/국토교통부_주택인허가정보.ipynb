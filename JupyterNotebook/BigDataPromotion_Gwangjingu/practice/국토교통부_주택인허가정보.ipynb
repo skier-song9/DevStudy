{
 "cells": [
  {
   "cell_type": "code",
   "execution_count": 13,
   "id": "cd90997c",
   "metadata": {},
   "outputs": [],
   "source": [
    "import requests\n",
    "import pprint\n",
    "import json"
   ]
  },
  {
   "cell_type": "code",
   "execution_count": 29,
   "id": "7076b614",
   "metadata": {},
   "outputs": [],
   "source": [
    "url = 'http://apis.data.go.kr/1611000/HsPmsService/getHpBasisOulnInfo'\n",
    "params ={'serviceKey' : 'rDXCeN2Hk/kCO+q5epV+ZWF+MuPCtRUNUCBQo663B/YOzn7rj/wQ3jxs7im7BbP4GDPRahe49n3kmsM3hhQziQ==',\n",
    "         'sigunguCd' : '1100011050', # 시군구코드 - 서울시=11000, 광진구 법정동코드= 11215\n",
    "         'bjdongCd' : '11215', \n",
    "         'platGbCd' : '0', #대지코드 - 0=대지, 1=산, 2=블록 \n",
    "         'bun' : '577', # 토지  \n",
    "         'ji' : '104', # 동 >> ex) 광장동, 구의동, ...\n",
    "# ex) 서울특별시 광진구 광장동 577 광장현대파크빌\n",
    "#     >> bun = 577 , ji = 광장동 = 104\n",
    "         'startDate' : '19720101', #YYYYMMDD \n",
    "         'endDate' : '20230421', #YYYYMMDD \n",
    "         'numOfRows' : '100', \n",
    "         'pageNo' : '1' }"
   ]
  },
  {
   "cell_type": "code",
   "execution_count": 30,
   "id": "67f47b3a",
   "metadata": {},
   "outputs": [
    {
     "name": "stdout",
     "output_type": "stream",
     "text": [
      "b'<?xml version=\"1.0\" encoding=\"UTF-8\" standalone=\"yes\"?><response><header><resultCode>00</resultCode><resultMsg>NORMAL SERVICE.</resultMsg></header><body><items/><numOfRows>100</numOfRows><pageNo>1</pageNo><totalCount>0</totalCount></body></response>'\n"
     ]
    }
   ],
   "source": [
    "response = requests.get(url, params=params)\n",
    "print(response.content)"
   ]
  },
  {
   "cell_type": "code",
   "execution_count": null,
   "id": "0ace7d10",
   "metadata": {},
   "outputs": [],
   "source": []
  },
  {
   "cell_type": "code",
   "execution_count": null,
   "id": "4a84db76",
   "metadata": {},
   "outputs": [],
   "source": []
  },
  {
   "cell_type": "code",
   "execution_count": null,
   "id": "46a34c86",
   "metadata": {},
   "outputs": [],
   "source": []
  },
  {
   "cell_type": "code",
   "execution_count": null,
   "id": "10b0be7b",
   "metadata": {},
   "outputs": [],
   "source": []
  },
  {
   "cell_type": "code",
   "execution_count": null,
   "id": "6145e950",
   "metadata": {},
   "outputs": [],
   "source": []
  }
 ],
 "metadata": {
  "kernelspec": {
   "display_name": "Python 3 (ipykernel)",
   "language": "python",
   "name": "python3"
  },
  "language_info": {
   "codemirror_mode": {
    "name": "ipython",
    "version": 3
   },
   "file_extension": ".py",
   "mimetype": "text/x-python",
   "name": "python",
   "nbconvert_exporter": "python",
   "pygments_lexer": "ipython3",
   "version": "3.7.16"
  }
 },
 "nbformat": 4,
 "nbformat_minor": 5
}
