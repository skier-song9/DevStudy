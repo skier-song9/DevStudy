{
 "cells": [
  {
   "cell_type": "code",
   "execution_count": 2,
   "id": "c94bc74d",
   "metadata": {},
   "outputs": [],
   "source": [
    "import csv\n",
    "\n",
    "# 텍스트 파일 경로\n",
    "input_file = '../data/지번_서울특별시.txt'\n",
    "\n",
    "# CSV 파일 경로\n",
    "output_file = '../data/지번_서울특별시.csv'\n",
    "\n",
    "# 텍스트 파일을 CSV 파일로 변환\n",
    "with open(input_file, 'r', encoding='cp949') as file_in, open(output_file, 'w', newline='', encoding='utf-8') as file_out:\n",
    "    reader = csv.reader(file_in, delimiter='|')\n",
    "    writer = csv.writer(file_out)\n",
    "    for row in reader:\n",
    "        writer.writerow(row)"
   ]
  },
  {
   "cell_type": "code",
   "execution_count": null,
   "id": "4d51c95e",
   "metadata": {},
   "outputs": [],
   "source": []
  }
 ],
 "metadata": {
  "kernelspec": {
   "display_name": "Python 3 (ipykernel)",
   "language": "python",
   "name": "python3"
  },
  "language_info": {
   "codemirror_mode": {
    "name": "ipython",
    "version": 3
   },
   "file_extension": ".py",
   "mimetype": "text/x-python",
   "name": "python",
   "nbconvert_exporter": "python",
   "pygments_lexer": "ipython3",
   "version": "3.11.3"
  }
 },
 "nbformat": 4,
 "nbformat_minor": 5
}
