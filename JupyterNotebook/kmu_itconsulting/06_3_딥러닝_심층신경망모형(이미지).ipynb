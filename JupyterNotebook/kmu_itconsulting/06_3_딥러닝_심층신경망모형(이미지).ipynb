{
 "cells": [
  {
   "cell_type": "markdown",
   "id": "835d19b0",
   "metadata": {},
   "source": [
    "# 이미지 처리"
   ]
  },
  {
   "cell_type": "code",
   "execution_count": 1,
   "id": "f7a9ab1d",
   "metadata": {},
   "outputs": [],
   "source": [
    "import pandas as pd\n",
    "import tensorflow as tf\n",
    "from sklearn.model_selection import train_test_split\n",
    "import numpy as np\n",
    "import matplotlib.pyplot as plt\n",
    "import os\n",
    "import sklearn.metrics as sm\n",
    "from sklearn.metrics import classification_report"
   ]
  },
  {
   "cell_type": "code",
   "execution_count": 2,
   "id": "40f06538",
   "metadata": {},
   "outputs": [],
   "source": [
    "(xTrain,yTrain),(xTest,yTest) = tf.keras.datasets.mnist.load_data()"
   ]
  },
  {
   "cell_type": "code",
   "execution_count": 3,
   "id": "14a3dea7",
   "metadata": {},
   "outputs": [
    {
     "data": {
      "text/plain": [
       "(60000, 28, 28)"
      ]
     },
     "execution_count": 3,
     "metadata": {},
     "output_type": "execute_result"
    }
   ],
   "source": [
    "xTrain.shape"
   ]
  },
  {
   "cell_type": "code",
   "execution_count": 4,
   "id": "1ef0877f",
   "metadata": {},
   "outputs": [
    {
     "data": {
      "text/plain": [
       "(10000, 28, 28)"
      ]
     },
     "execution_count": 4,
     "metadata": {},
     "output_type": "execute_result"
    }
   ],
   "source": [
    "xTest.shape"
   ]
  },
  {
   "cell_type": "markdown",
   "id": "b74e04c4",
   "metadata": {},
   "source": [
    "## 테스트 데이터 확인"
   ]
  },
  {
   "cell_type": "code",
   "execution_count": 5,
   "id": "5c4484ed",
   "metadata": {},
   "outputs": [
    {
     "data": {
      "image/png": "[encoded data removed]",
      "text/plain": [
       "<Figure size 200x200 with 1 Axes>"
      ]
     },
     "metadata": {},
     "output_type": "display_data"
    }
   ],
   "source": [
    "plt.figure(figsize=(2,2))\n",
    "plt.imshow(xTest[0])\n",
    "plt.show()"
   ]
  },
  {
   "cell_type": "code",
   "execution_count": 6,
   "id": "cd154abb",
   "metadata": {},
   "outputs": [
    {
     "data": {
      "text/plain": [
       "7"
      ]
     },
     "execution_count": 6,
     "metadata": {},
     "output_type": "execute_result"
    }
   ],
   "source": [
    "yTest[0] # xTest[0]에 대한 결과는 7임. xTest[1]은 2임."
   ]
  },
  {
   "cell_type": "markdown",
   "id": "bf32881e",
   "metadata": {},
   "source": [
    "## 데이터 전처리 1 (입력 데이터 변환: 2차원 -> 1차원)"
   ]
  },
  {
   "cell_type": "code",
   "execution_count": 7,
   "id": "96407ca4",
   "metadata": {},
   "outputs": [],
   "source": [
    "RESHAPE = 28*28"
   ]
  },
  {
   "cell_type": "code",
   "execution_count": 8,
   "id": "eca2e3b4",
   "metadata": {},
   "outputs": [
    {
     "data": {
      "text/plain": [
       "(28, 28)"
      ]
     },
     "execution_count": 8,
     "metadata": {},
     "output_type": "execute_result"
    }
   ],
   "source": [
    "xTrain[0].shape # 이미지 데이터를 2차원 배열로 표현되어 있음"
   ]
  },
  {
   "cell_type": "code",
   "execution_count": 9,
   "id": "2c4da47e",
   "metadata": {},
   "outputs": [],
   "source": [
    "xTrain = xTrain.reshape(-1,RESHAPE) / 255.0  # 1차원으로 변형 후 표준화하기(255로 나눔)\n",
    "xTest = xTest.reshape(-1,RESHAPE) / 255.0 "
   ]
  },
  {
   "cell_type": "markdown",
   "id": "159294fc",
   "metadata": {},
   "source": [
    "### 이미지 데이터를 정규화(표준화)하는 방법 : 255.0으로 나누기\n",
    "\n",
    "왜? 이미지 데이터가 일반적으로 0에서 255 사이의 값으로 표현되기 때문입니다. 이를 0과 1 사이의 값으로 스케일링하기 위해 255.0으로 나누는 것입니다.\n",
    "<br><br>\n",
    "예를 들어, 8비트 이미지(0~255의 값)를 정규화한다고 가정해보면, 최소값인 0을 0으로 만들고, 최대값인 255를 1로 만들기 위해서는 각각을 0으로 빼고, 255으로 나누어주면 됩니다. 따라서, 255.0으로 나누는 것입니다. 이렇게 정규화된 데이터는 모델 학습을 할 때 수렴 속도가 빨라지고, 성능도 좋아질 수 있습니다."
   ]
  },
  {
   "cell_type": "code",
   "execution_count": 10,
   "id": "563c7428",
   "metadata": {},
   "outputs": [
    {
     "data": {
      "text/plain": [
       "(784,)"
      ]
     },
     "execution_count": 10,
     "metadata": {},
     "output_type": "execute_result"
    }
   ],
   "source": [
    "xTrain[0].shape"
   ]
  },
  {
   "cell_type": "markdown",
   "id": "a68169cc",
   "metadata": {},
   "source": [
    "## 데이터 전처리 2 (출력 데이터 변환 : one-hot 인코딩)"
   ]
  },
  {
   "cell_type": "code",
   "execution_count": 11,
   "id": "d7c094d8",
   "metadata": {},
   "outputs": [],
   "source": [
    "yTrain = tf.keras.utils.to_categorical(yTrain,10)"
   ]
  },
  {
   "cell_type": "code",
   "execution_count": 12,
   "id": "0c9e00a4",
   "metadata": {},
   "outputs": [
    {
     "data": {
      "text/plain": [
       "array([0., 0., 0., 0., 0., 1., 0., 0., 0., 0.], dtype=float32)"
      ]
     },
     "execution_count": 12,
     "metadata": {},
     "output_type": "execute_result"
    }
   ],
   "source": [
    "yTest = tf.keras.utils.to_categorical(yTest,10)\n",
    "yTrain[0]"
   ]
  },
  {
   "cell_type": "markdown",
   "id": "e2d46c14",
   "metadata": {},
   "source": [
    "## 심층 신경망 모형 생성"
   ]
  },
  {
   "cell_type": "code",
   "execution_count": 13,
   "id": "1538aa5f",
   "metadata": {},
   "outputs": [],
   "source": [
    "os.environ['KMP_DUPLICATE_LIB_OK'] = 'TRUE' \n",
    "#OpenMP로 컴파일 된 라이브러리가 중복으로 링크되어서 발생하는 오류를 방지"
   ]
  },
  {
   "cell_type": "code",
   "execution_count": 14,
   "id": "d497c16c",
   "metadata": {},
   "outputs": [],
   "source": [
    "model = tf.keras.models.Sequential()"
   ]
  },
  {
   "cell_type": "code",
   "execution_count": 15,
   "id": "1943e0d7",
   "metadata": {},
   "outputs": [],
   "source": [
    "model.add(tf.keras.layers.Dense(256,\n",
    "                                input_shape=(RESHAPE,),\n",
    "                                name='dense_hidden_1',\n",
    "                                activation='relu'))\n",
    "model.add(tf.keras.layers.Dense(128,\n",
    "                                name='dense_hidden_2',\n",
    "                                activation='relu'))"
   ]
  },
  {
   "cell_type": "code",
   "execution_count": 16,
   "id": "becf7478",
   "metadata": {},
   "outputs": [],
   "source": [
    "model.add(tf.keras.layers.Dense(10,name='dense_outputs',activation='softmax'))"
   ]
  },
  {
   "cell_type": "code",
   "execution_count": 17,
   "id": "7db35888",
   "metadata": {},
   "outputs": [
    {
     "name": "stdout",
     "output_type": "stream",
     "text": [
      "Model: \"sequential\"\n",
      "_________________________________________________________________\n",
      " Layer (type)                Output Shape              Param #   \n",
      "=================================================================\n",
      " dense_hidden_1 (Dense)      (None, 256)               200960    \n",
      "                                                                 \n",
      " dense_hidden_2 (Dense)      (None, 128)               32896     \n",
      "                                                                 \n",
      " dense_outputs (Dense)       (None, 10)                1290      \n",
      "                                                                 \n",
      "=================================================================\n",
      "Total params: 235,146\n",
      "Trainable params: 235,146\n",
      "Non-trainable params: 0\n",
      "_________________________________________________________________\n"
     ]
    }
   ],
   "source": [
    "model.summary()"
   ]
  },
  {
   "cell_type": "markdown",
   "id": "172972b4",
   "metadata": {},
   "source": [
    "## 모형 컴파일"
   ]
  },
  {
   "cell_type": "code",
   "execution_count": 18,
   "id": "14b4cbd7",
   "metadata": {},
   "outputs": [],
   "source": [
    "model.compile(optimizer=tf.keras.optimizers.RMSprop(learning_rate=0.001),\n",
    "             loss='categorical_crossentropy',\n",
    "             metrics=['accuracy','mse'])"
   ]
  },
  {
   "cell_type": "markdown",
   "id": "f510324a",
   "metadata": {},
   "source": [
    "## 다층 신경망 모형 학습"
   ]
  },
  {
   "cell_type": "code",
   "execution_count": 19,
   "id": "09e8ff6f",
   "metadata": {},
   "outputs": [],
   "source": [
    "tensorboard = tf.keras.callbacks.TensorBoard(\n",
    "    log_dir='D:/SKH/DevStudy/JupyterNotebook/kmu_itconsulting/log/images_DNN/')"
   ]
  },
  {
   "cell_type": "code",
   "execution_count": 20,
   "id": "7f8d3b8b",
   "metadata": {
    "scrolled": true
   },
   "outputs": [
    {
     "name": "stdout",
     "output_type": "stream",
     "text": [
      "Epoch 1/20\n",
      "750/750 [==============================] - 5s 5ms/step - loss: 0.2463 - accuracy: 0.9268 - mse: 0.0112 - val_loss: 0.1298 - val_accuracy: 0.9599 - val_mse: 0.0060\n",
      "Epoch 2/20\n",
      "750/750 [==============================] - 4s 5ms/step - loss: 0.1010 - accuracy: 0.9694 - mse: 0.0048 - val_loss: 0.1122 - val_accuracy: 0.9674 - val_mse: 0.0051\n",
      "Epoch 3/20\n",
      "750/750 [==============================] - 3s 5ms/step - loss: 0.0699 - accuracy: 0.9788 - mse: 0.0033 - val_loss: 0.0903 - val_accuracy: 0.9754 - val_mse: 0.0038\n",
      "Epoch 4/20\n",
      "750/750 [==============================] - 3s 5ms/step - loss: 0.0524 - accuracy: 0.9837 - mse: 0.0025 - val_loss: 0.0945 - val_accuracy: 0.9742 - val_mse: 0.0039\n",
      "Epoch 5/20\n",
      "750/750 [==============================] - 3s 5ms/step - loss: 0.0391 - accuracy: 0.9880 - mse: 0.0019 - val_loss: 0.0990 - val_accuracy: 0.9762 - val_mse: 0.0039\n",
      "Epoch 6/20\n",
      "750/750 [==============================] - 4s 5ms/step - loss: 0.0301 - accuracy: 0.9909 - mse: 0.0014 - val_loss: 0.0997 - val_accuracy: 0.9777 - val_mse: 0.0036\n",
      "Epoch 7/20\n",
      "750/750 [==============================] - 3s 4ms/step - loss: 0.0226 - accuracy: 0.9928 - mse: 0.0011 - val_loss: 0.1097 - val_accuracy: 0.9781 - val_mse: 0.0036\n",
      "Epoch 8/20\n",
      "750/750 [==============================] - 3s 4ms/step - loss: 0.0204 - accuracy: 0.9944 - mse: 9.0660e-04 - val_loss: 0.1142 - val_accuracy: 0.9770 - val_mse: 0.0037\n"
     ]
    }
   ],
   "source": [
    "history = model.fit(x=xTrain,y=yTrain,\n",
    "                   batch_size=64,\n",
    "                   epochs=20,\n",
    "                   validation_split=0.2,\n",
    "                   callbacks=[tensorboard,\n",
    "                             tf.keras.callbacks.EarlyStopping(monitor='val_loss',patience=5)])"
   ]
  },
  {
   "cell_type": "markdown",
   "id": "6a11183d",
   "metadata": {},
   "source": [
    "## 모형 테스트"
   ]
  },
  {
   "cell_type": "code",
   "execution_count": 21,
   "id": "a6c9012b",
   "metadata": {},
   "outputs": [
    {
     "data": {
      "text/plain": [
       "['loss', 'accuracy', 'mse']"
      ]
     },
     "execution_count": 21,
     "metadata": {},
     "output_type": "execute_result"
    }
   ],
   "source": [
    "model.metrics_names"
   ]
  },
  {
   "cell_type": "code",
   "execution_count": 22,
   "id": "09dcc035",
   "metadata": {},
   "outputs": [
    {
     "name": "stdout",
     "output_type": "stream",
     "text": [
      "313/313 [==============================] - 1s 2ms/step - loss: 0.0986 - accuracy: 0.9790 - mse: 0.0034\n"
     ]
    }
   ],
   "source": [
    "test_loss,test_accuracy,test_mse = model.evaluate(x=xTest,y=yTest)"
   ]
  },
  {
   "cell_type": "code",
   "execution_count": 23,
   "id": "d49c4662",
   "metadata": {},
   "outputs": [
    {
     "name": "stdout",
     "output_type": "stream",
     "text": [
      "Test Accuracy: 0.9789999723434448\n"
     ]
    }
   ],
   "source": [
    "print(\"Test Accuracy:\",test_accuracy)"
   ]
  },
  {
   "cell_type": "code",
   "execution_count": 24,
   "id": "d223ba75",
   "metadata": {},
   "outputs": [
    {
     "data": {
      "image/png": "[encoded data removed]",
      "text/plain": [
       "<Figure size 800x400 with 2 Axes>"
      ]
     },
     "metadata": {},
     "output_type": "display_data"
    }
   ],
   "source": [
    "plt.figure(figsize=(8,4))\n",
    "plt.subplot(1,2,1)\n",
    "plt.plot(history.history['loss'],'b-',label='loss')\n",
    "plt.plot(history.history['val_loss'],'r--',label='val_loss')\n",
    "plt.xlabel('Epoch')\n",
    "plt.legend()\n",
    "\n",
    "plt.subplot(1,2,2)\n",
    "plt.plot(history.history['accuracy'],'g-',label='accuracy')\n",
    "plt.plot(history.history['val_accuracy'],'k--',label='val_accuracy')\n",
    "plt.xlabel('Epoch')\n",
    "plt.legend()\n",
    "\n",
    "plt.show()"
   ]
  },
  {
   "cell_type": "markdown",
   "id": "e9bcae55",
   "metadata": {},
   "source": [
    "# 지표의 의미\n",
    "- Accuracy (정확도): 모델이 올바르게 분류한 데이터의 비율입니다. Accuracy는 모델의 전반적인 성능을 평가하는 데 사용됩니다. 예를 들어, 이진 분류 문제에서, 정확도는 (True Positive + True Negative) / (True Positive + True Negative + False Positive + False Negative)로 계산됩니다.\n",
    "\n",
    "- Validation Accuracy (검증 정확도): 모델이 검증 데이터 세트에서 올바르게 분류한 데이터의 비율입니다. 검증 정확도는 모델의 과적합 여부를 판단하는 데 사용됩니다. 만약 모델이 훈련 데이터에서는 높은 정확도를 보이지만 검증 데이터에서는 낮은 정확도를 보인다면, 이는 모델이 훈련 데이터에 과적합 되었다는 신호일 수 있습니다.\n",
    "\n",
    "- Loss (손실): 모델이 예측한 값과 실제 값 사이의 차이를 나타내는 지표입니다. 손실은 모델의 성능을 평가하고 모델을 최적화하는 데 사용됩니다. 일반적으로, 손실은 평균 제곱 오차 (MSE)나 교차 엔트로피 (Cross-Entropy)와 같은 함수를 사용하여 계산됩니다.\n",
    "\n",
    "- Validation Loss (검증 손실): 모델이 검증 데이터 세트에서 예측한 값과 실제 값 사이의 차이를 나타내는 지표입니다. 검증 손실은 모델의 과적합 여부를 판단하는 데 사용됩니다. 만약 모델이 훈련 데이터에서는 낮은 손실을 보이지만 검증 데이터에서는 높은 손실을 보인다면, 이는 모델이 훈련 데이터에 과적합 되었다는 신호일 수 있습니다."
   ]
  },
  {
   "cell_type": "markdown",
   "id": "b0cd905f",
   "metadata": {},
   "source": [
    "## 실제값과 예측치 비교"
   ]
  },
  {
   "cell_type": "code",
   "execution_count": 25,
   "id": "d0594645",
   "metadata": {},
   "outputs": [
    {
     "name": "stdout",
     "output_type": "stream",
     "text": [
      "313/313 [==============================] - 1s 2ms/step\n"
     ]
    }
   ],
   "source": [
    "yPredicted = model.predict(x=xTest)"
   ]
  },
  {
   "cell_type": "code",
   "execution_count": 26,
   "id": "eea54022",
   "metadata": {
    "scrolled": true
   },
   "outputs": [
    {
     "data": {
      "text/plain": [
       "array([[2.9111675e-11, 1.3540363e-10, 5.5732134e-08, 1.4009154e-04,\n",
       "        1.6396975e-17, 2.0195025e-10, 6.5466124e-20, 9.9984193e-01,\n",
       "        3.9348397e-10, 1.8166671e-05]], dtype=float32)"
      ]
     },
     "execution_count": 26,
     "metadata": {},
     "output_type": "execute_result"
    }
   ],
   "source": [
    "yPredicted[:1]"
   ]
  },
  {
   "cell_type": "code",
   "execution_count": 38,
   "id": "98c1a506",
   "metadata": {},
   "outputs": [
    {
     "data": {
      "text/plain": [
       "array([[0., 0., 0., 0., 0., 0., 0., 1., 0., 0.]], dtype=float32)"
      ]
     },
     "execution_count": 38,
     "metadata": {},
     "output_type": "execute_result"
    }
   ],
   "source": [
    "yPredicted01 = yPredicted.round()\n",
    "yPredicted01[:1]"
   ]
  },
  {
   "cell_type": "markdown",
   "id": "8b0ff2d1",
   "metadata": {},
   "source": [
    "## Confusion Matrix 만들기\n",
    "\n",
    "#### np.argmax()함수를 사용하여 one-hot인코딩된 데이터를 다시 원래대로 디코딩"
   ]
  },
  {
   "cell_type": "code",
   "execution_count": 39,
   "id": "611badc5",
   "metadata": {},
   "outputs": [],
   "source": [
    "yTest_decoded=np.argmax(yTest,axis=1)\n",
    "yPredicted_decoded=np.argmax(yPredicted,axis=1)"
   ]
  },
  {
   "cell_type": "code",
   "execution_count": 40,
   "id": "77640d36",
   "metadata": {},
   "outputs": [
    {
     "name": "stdout",
     "output_type": "stream",
     "text": [
      "[[ 972    0    6    1    2    3    4    2    2    3]\n",
      " [   0 1127    1    0    0    0    2    4    0    3]\n",
      " [   1    1 1007    1    0    0    0   10    2    0]\n",
      " [   0    0    6  993    1    7    1    5   10    2]\n",
      " [   0    0    2    0  962    1    1    2    2    4]\n",
      " [   1    0    0    2    0  870    4    0    5    5]\n",
      " [   3    3    5    0    6    6  946    0    5    1]\n",
      " [   0    0    1    1    1    0    0  986    1    2]\n",
      " [   2    4    4    5    1    3    0    5  940    2]\n",
      " [   1    0    0    7    9    2    0   14    7  987]]\n"
     ]
    }
   ],
   "source": [
    "cm = sm.confusion_matrix(yPredicted_decoded,yTest_decoded)\n",
    "print(cm)"
   ]
  },
  {
   "cell_type": "code",
   "execution_count": 41,
   "id": "87a80bc4",
   "metadata": {},
   "outputs": [
    {
     "name": "stdout",
     "output_type": "stream",
     "text": [
      "              precision    recall  f1-score   support\n",
      "\n",
      "           0       0.98      0.99      0.98       980\n",
      "           1       0.99      0.99      0.99      1135\n",
      "           2       0.99      0.98      0.98      1032\n",
      "           3       0.97      0.98      0.98      1010\n",
      "           4       0.99      0.98      0.98       982\n",
      "           5       0.98      0.98      0.98       892\n",
      "           6       0.97      0.99      0.98       958\n",
      "           7       0.99      0.96      0.98      1028\n",
      "           8       0.97      0.97      0.97       974\n",
      "           9       0.96      0.98      0.97      1009\n",
      "\n",
      "    accuracy                           0.98     10000\n",
      "   macro avg       0.98      0.98      0.98     10000\n",
      "weighted avg       0.98      0.98      0.98     10000\n",
      "\n"
     ]
    }
   ],
   "source": [
    "report = classification_report(yTest_decoded,yPredicted_decoded)\n",
    "print(report)"
   ]
  },
  {
   "cell_type": "code",
   "execution_count": null,
   "id": "0d71b2f9",
   "metadata": {},
   "outputs": [],
   "source": []
  }
 ],
 "metadata": {
  "kernelspec": {
   "display_name": "Python 3 (ipykernel)",
   "language": "python",
   "name": "python3"
  },
  "language_info": {
   "codemirror_mode": {
    "name": "ipython",
    "version": 3
   },
   "file_extension": ".py",
   "mimetype": "text/x-python",
   "name": "python",
   "nbconvert_exporter": "python",
   "pygments_lexer": "ipython3",
   "version": "3.7.16"
  }
 },
 "nbformat": 4,
 "nbformat_minor": 5
}
