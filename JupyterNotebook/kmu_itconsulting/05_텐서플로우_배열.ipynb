{
 "cells": [
  {
   "cell_type": "code",
   "execution_count": 1,
   "id": "877f7597",
   "metadata": {},
   "outputs": [],
   "source": [
    "import tensorflow as tf"
   ]
  },
  {
   "cell_type": "code",
   "execution_count": 2,
   "id": "af177c78",
   "metadata": {},
   "outputs": [],
   "source": [
    "import pandas as pd\n",
    "import numpy as np"
   ]
  },
  {
   "cell_type": "markdown",
   "id": "3a890637",
   "metadata": {},
   "source": [
    "## 배열의 곱셈"
   ]
  },
  {
   "cell_type": "code",
   "execution_count": 3,
   "id": "dfdf84e5",
   "metadata": {},
   "outputs": [
    {
     "data": {
      "text/plain": [
       "[[1.0, 2.0], [3.0, 4.0]]"
      ]
     },
     "execution_count": 3,
     "metadata": {},
     "output_type": "execute_result"
    }
   ],
   "source": [
    "la = [[1.,2.],[3.,4.]] # 파이썬 리스트\n",
    "la"
   ]
  },
  {
   "cell_type": "markdown",
   "id": "7517fd1f",
   "metadata": {},
   "source": [
    "### 파이썬 리스트에 곱연산을 하면 배열을 복사한다."
   ]
  },
  {
   "cell_type": "code",
   "execution_count": 4,
   "id": "e342c152",
   "metadata": {},
   "outputs": [
    {
     "data": {
      "text/plain": [
       "[[1.0, 2.0], [3.0, 4.0], [1.0, 2.0], [3.0, 4.0], [1.0, 2.0], [3.0, 4.0]]"
      ]
     },
     "execution_count": 4,
     "metadata": {},
     "output_type": "execute_result"
    }
   ],
   "source": [
    "la*3"
   ]
  },
  {
   "cell_type": "code",
   "execution_count": 5,
   "id": "7039b868",
   "metadata": {},
   "outputs": [
    {
     "data": {
      "text/plain": [
       "array([[1., 2.],\n",
       "       [3., 4.]])"
      ]
     },
     "execution_count": 5,
     "metadata": {},
     "output_type": "execute_result"
    }
   ],
   "source": [
    "aa = np.array(la)\n",
    "aa"
   ]
  },
  {
   "cell_type": "markdown",
   "id": "64e94871",
   "metadata": {},
   "source": [
    "### numpy 배열에 곱연산을 하면 각 요소에 곱셈을 한다\n",
    "#### >> 병렬적으로 빠르고 쉽게 연산이 가능하다"
   ]
  },
  {
   "cell_type": "code",
   "execution_count": 6,
   "id": "79fbafd0",
   "metadata": {},
   "outputs": [
    {
     "data": {
      "text/plain": [
       "array([[ 3.,  6.],\n",
       "       [ 9., 12.]])"
      ]
     },
     "execution_count": 6,
     "metadata": {},
     "output_type": "execute_result"
    }
   ],
   "source": [
    "aa*3"
   ]
  },
  {
   "cell_type": "markdown",
   "id": "19a3e552",
   "metadata": {},
   "source": [
    "## 배열의 덧셈/뺄셈"
   ]
  },
  {
   "cell_type": "code",
   "execution_count": 7,
   "id": "71dc775b",
   "metadata": {},
   "outputs": [
    {
     "data": {
      "text/plain": [
       "array([[1., 2., 3.],\n",
       "       [3., 4., 5.]])"
      ]
     },
     "execution_count": 7,
     "metadata": {},
     "output_type": "execute_result"
    }
   ],
   "source": [
    "aa = np.array([[1.,2.,3.,],[3.,4.,5.]])\n",
    "aa"
   ]
  },
  {
   "cell_type": "code",
   "execution_count": 8,
   "id": "6a41ee66",
   "metadata": {},
   "outputs": [
    {
     "data": {
      "text/plain": [
       "array([[11., 12., 13.],\n",
       "       [13., 14., 15.]])"
      ]
     },
     "execution_count": 8,
     "metadata": {},
     "output_type": "execute_result"
    }
   ],
   "source": [
    "aa + 10"
   ]
  },
  {
   "cell_type": "code",
   "execution_count": 9,
   "id": "e393c350",
   "metadata": {},
   "outputs": [
    {
     "data": {
      "text/plain": [
       "array([[11., 22., 33.],\n",
       "       [13., 24., 35.]])"
      ]
     },
     "execution_count": 9,
     "metadata": {},
     "output_type": "execute_result"
    }
   ],
   "source": [
    "aa + np.array([10,20,30]) # 각 열에 10, 20, 30씩 더한다 >> Broadcast된 것"
   ]
  },
  {
   "cell_type": "code",
   "execution_count": 10,
   "id": "4bd93797",
   "metadata": {},
   "outputs": [
    {
     "data": {
      "text/plain": [
       "array([[11., 12., 13.],\n",
       "       [33., 34., 35.]])"
      ]
     },
     "execution_count": 10,
     "metadata": {},
     "output_type": "execute_result"
    }
   ],
   "source": [
    "aa + np.array([[10],[30]]) # 1행에 10, 2행에 30씩 더한다  >> Broadcast된 것"
   ]
  },
  {
   "cell_type": "code",
   "execution_count": 11,
   "id": "cfe4f7c9",
   "metadata": {},
   "outputs": [],
   "source": [
    "# aa + np.array([10,10]) # [x] 확장(Broadcast)이 불가능하기 때문에 에러 발생"
   ]
  },
  {
   "cell_type": "markdown",
   "id": "a379e5c3",
   "metadata": {},
   "source": [
    "## 행렬의 곱셈 : 내적 : np.dot(arr1,arr2)\n",
    "\n",
    "## 이 때, arr1의 열의 수와 arr2의 행의 수가 무조건 같아야 한다."
   ]
  },
  {
   "cell_type": "code",
   "execution_count": 12,
   "id": "56a3bfe4",
   "metadata": {},
   "outputs": [],
   "source": [
    "aa = np.array([[1,10],[2,20],[3,30]])\n",
    "bb = np.array([[1,2,3],[1,2,3]])"
   ]
  },
  {
   "cell_type": "code",
   "execution_count": 14,
   "id": "8f67a176",
   "metadata": {},
   "outputs": [
    {
     "data": {
      "text/plain": [
       "array([[11, 22, 33],\n",
       "       [22, 44, 66],\n",
       "       [33, 66, 99]])"
      ]
     },
     "execution_count": 14,
     "metadata": {},
     "output_type": "execute_result"
    }
   ],
   "source": [
    "np.dot(aa,bb)"
   ]
  },
  {
   "cell_type": "markdown",
   "id": "8e2a3eba",
   "metadata": {},
   "source": [
    "# Tensor 생성하기\n",
    "## - tf.constant() : Tensor 타입 객체 생성 >> 배열의 원소 변경이 불가능\n",
    "## - tf.Variable() : Variable 생성 >> assign()함수로 배열 원소 변경 가능\n",
    "\n",
    "(배열 전체 갱신은 둘 다 가능)"
   ]
  },
  {
   "cell_type": "code",
   "execution_count": 16,
   "id": "f9712c1d",
   "metadata": {},
   "outputs": [
    {
     "name": "stdout",
     "output_type": "stream",
     "text": [
      "tf.Tensor(\n",
      "[[1 2]\n",
      " [3 4]], shape=(2, 2), dtype=int32) ,  <class 'tensorflow.python.framework.ops.EagerTensor'>\n"
     ]
    }
   ],
   "source": [
    "tc = tf.constant([[1,2],[3,4]])\n",
    "print(tc,\", \",type(tc))"
   ]
  },
  {
   "cell_type": "code",
   "execution_count": 27,
   "id": "58416d7a",
   "metadata": {},
   "outputs": [
    {
     "name": "stdout",
     "output_type": "stream",
     "text": [
      "tf.Tensor(\n",
      "[[-99 -98]\n",
      " [-97 -96]], shape=(2, 2), dtype=int32) ,  <class 'tensorflow.python.framework.ops.EagerTensor'>\n"
     ]
    }
   ],
   "source": [
    "ta = tf.Variable([[1,2],[3,4]])\n",
    "print(tc,\", \",type(tc))"
   ]
  },
  {
   "cell_type": "code",
   "execution_count": 19,
   "id": "57343d15",
   "metadata": {},
   "outputs": [
    {
     "data": {
      "text/plain": [
       "<tf.Tensor: shape=(2, 2), dtype=int32, numpy=\n",
       "array([[10, 20],\n",
       "       [30, 40]])>"
      ]
     },
     "execution_count": 19,
     "metadata": {},
     "output_type": "execute_result"
    }
   ],
   "source": [
    "t2 = ta * 10\n",
    "t2"
   ]
  },
  {
   "cell_type": "markdown",
   "id": "40aaeb53",
   "metadata": {},
   "source": [
    "### 배열 전체 갱신"
   ]
  },
  {
   "cell_type": "code",
   "execution_count": 20,
   "id": "3154dc87",
   "metadata": {},
   "outputs": [],
   "source": [
    "ta = ta+100\n",
    "tc = tc-100"
   ]
  },
  {
   "cell_type": "markdown",
   "id": "ab14aa13",
   "metadata": {},
   "source": [
    "### 배열 원소 변경 - Variable 객체만 가능"
   ]
  },
  {
   "cell_type": "code",
   "execution_count": 25,
   "id": "75c515af",
   "metadata": {},
   "outputs": [],
   "source": [
    "#ta[0,0] = -1 #[x] 할당 연산자는 사용 불가"
   ]
  },
  {
   "cell_type": "code",
   "execution_count": 30,
   "id": "d7c53e1a",
   "metadata": {},
   "outputs": [
    {
     "data": {
      "text/plain": [
       "<tf.Variable 'UnreadVariable' shape=(2, 2) dtype=int32, numpy=\n",
       "array([[-1,  2],\n",
       "       [ 3,  4]])>"
      ]
     },
     "execution_count": 30,
     "metadata": {},
     "output_type": "execute_result"
    }
   ],
   "source": [
    "ta[0,0].assign(-1) # assign() 함수로만 변경 가능"
   ]
  },
  {
   "cell_type": "code",
   "execution_count": 32,
   "id": "0fa8a3b1",
   "metadata": {},
   "outputs": [],
   "source": [
    "# tc[0,0] = -1 #[x]\n",
    "# tc[0,0].assign(-1) #[x]"
   ]
  },
  {
   "cell_type": "markdown",
   "id": "42527fde",
   "metadata": {},
   "source": [
    "## Tensor의 연산\n",
    "\n",
    "덧셈/뺄셈 : tf.add(), tf.subtract or +, -\n",
    "\n",
    "곱셈 : tf.multiply() or *\n",
    "\n",
    "내적 : tf.matmul()\n",
    "\n",
    "등등..."
   ]
  },
  {
   "cell_type": "code",
   "execution_count": 35,
   "id": "45a35fe2",
   "metadata": {},
   "outputs": [
    {
     "data": {
      "text/plain": [
       "<tf.Tensor: shape=(2, 3), dtype=int32, numpy=\n",
       "array([[ 0,  1,  1],\n",
       "       [10, 17, 17]])>"
      ]
     },
     "execution_count": 35,
     "metadata": {},
     "output_type": "execute_result"
    }
   ],
   "source": [
    "tb = tf.Variable([[2,3,3],[1,2,2]])\n",
    "tf.matmul(ta,tb)"
   ]
  }
 ],
 "metadata": {
  "kernelspec": {
   "display_name": "Python 3 (ipykernel)",
   "language": "python",
   "name": "python3"
  },
  "language_info": {
   "codemirror_mode": {
    "name": "ipython",
    "version": 3
   },
   "file_extension": ".py",
   "mimetype": "text/x-python",
   "name": "python",
   "nbconvert_exporter": "python",
   "pygments_lexer": "ipython3",
   "version": "3.7.16"
  }
 },
 "nbformat": 4,
 "nbformat_minor": 5
}
