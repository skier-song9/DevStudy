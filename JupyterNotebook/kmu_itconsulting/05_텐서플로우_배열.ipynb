{
 "cells": [
  {
   "cell_type": "code",
   "execution_count": 1,
   "id": "877f7597",
   "metadata": {},
   "outputs": [],
   "source": [
    "import tensorflow as tf"
   ]
  },
  {
   "cell_type": "code",
   "execution_count": 6,
   "id": "af177c78",
   "metadata": {},
   "outputs": [],
   "source": [
    "import pandas as pd\n",
    "import numpy as np"
   ]
  },
  {
   "cell_type": "markdown",
   "id": "3a890637",
   "metadata": {},
   "source": [
    "## 배열의 곱셈"
   ]
  },
  {
   "cell_type": "code",
   "execution_count": 12,
   "id": "dfdf84e5",
   "metadata": {},
   "outputs": [
    {
     "data": {
      "text/plain": [
       "[[1.0, 2.0], [3.0, 4.0]]"
      ]
     },
     "execution_count": 12,
     "metadata": {},
     "output_type": "execute_result"
    }
   ],
   "source": [
    "la = [[1.,2.],[3.,4.]] # 파이썬 리스트\n",
    "la"
   ]
  },
  {
   "cell_type": "markdown",
   "id": "7517fd1f",
   "metadata": {},
   "source": [
    "### 파이썬 리스트에 곱연산을 하면 배열을 복사한다."
   ]
  },
  {
   "cell_type": "code",
   "execution_count": 8,
   "id": "e342c152",
   "metadata": {},
   "outputs": [
    {
     "data": {
      "text/plain": [
       "[[1.0, 2.0], [3.0, 4.0], [1.0, 2.0], [3.0, 4.0], [1.0, 2.0], [3.0, 4.0]]"
      ]
     },
     "execution_count": 8,
     "metadata": {},
     "output_type": "execute_result"
    }
   ],
   "source": [
    "la*3"
   ]
  },
  {
   "cell_type": "code",
   "execution_count": 9,
   "id": "7039b868",
   "metadata": {},
   "outputs": [
    {
     "data": {
      "text/plain": [
       "array([[1., 2.],\n",
       "       [3., 4.]])"
      ]
     },
     "execution_count": 9,
     "metadata": {},
     "output_type": "execute_result"
    }
   ],
   "source": [
    "aa = np.array(la)\n",
    "aa"
   ]
  },
  {
   "cell_type": "markdown",
   "id": "64e94871",
   "metadata": {},
   "source": [
    "### numpy 배열에 곱연산을 하면 각 요소에 곱셈을 한다\n",
    "#### >> 병렬적으로 빠르고 쉽게 연산이 가능하다"
   ]
  },
  {
   "cell_type": "code",
   "execution_count": 10,
   "id": "79fbafd0",
   "metadata": {},
   "outputs": [
    {
     "data": {
      "text/plain": [
       "array([[ 3.,  6.],\n",
       "       [ 9., 12.]])"
      ]
     },
     "execution_count": 10,
     "metadata": {},
     "output_type": "execute_result"
    }
   ],
   "source": [
    "aa*3"
   ]
  },
  {
   "cell_type": "markdown",
   "id": "19a3e552",
   "metadata": {},
   "source": [
    "## 배열의 덧셈/뺄셈"
   ]
  },
  {
   "cell_type": "code",
   "execution_count": 13,
   "id": "71dc775b",
   "metadata": {},
   "outputs": [
    {
     "data": {
      "text/plain": [
       "array([[1., 2., 3.],\n",
       "       [3., 4., 5.]])"
      ]
     },
     "execution_count": 13,
     "metadata": {},
     "output_type": "execute_result"
    }
   ],
   "source": [
    "aa = np.array([[1.,2.,3.,],[3.,4.,5.]])\n",
    "aa"
   ]
  },
  {
   "cell_type": "code",
   "execution_count": 14,
   "id": "6a41ee66",
   "metadata": {},
   "outputs": [
    {
     "data": {
      "text/plain": [
       "array([[11., 12., 13.],\n",
       "       [13., 14., 15.]])"
      ]
     },
     "execution_count": 14,
     "metadata": {},
     "output_type": "execute_result"
    }
   ],
   "source": [
    "aa + 10"
   ]
  },
  {
   "cell_type": "code",
   "execution_count": 22,
   "id": "e393c350",
   "metadata": {},
   "outputs": [
    {
     "data": {
      "text/plain": [
       "array([[11., 22., 33.],\n",
       "       [13., 24., 35.]])"
      ]
     },
     "execution_count": 22,
     "metadata": {},
     "output_type": "execute_result"
    }
   ],
   "source": [
    "aa + np.array([10,20,30]) # 각 열에 10, 20, 30씩 더한다 >> Broadcast된 것"
   ]
  },
  {
   "cell_type": "code",
   "execution_count": 23,
   "id": "4bd93797",
   "metadata": {},
   "outputs": [
    {
     "data": {
      "text/plain": [
       "array([[11., 12., 13.],\n",
       "       [33., 34., 35.]])"
      ]
     },
     "execution_count": 23,
     "metadata": {},
     "output_type": "execute_result"
    }
   ],
   "source": [
    "aa + np.array([[10],[30]]) # 1행에 10, 2행에 30씩 더한다  >> Broadcast된 것"
   ]
  },
  {
   "cell_type": "code",
   "execution_count": 21,
   "id": "cfe4f7c9",
   "metadata": {},
   "outputs": [],
   "source": [
    "# aa + np.array([10,10]) # [x] 확장(Broadcast)이 불가능하기 때문에 에러 발생"
   ]
  },
  {
   "cell_type": "markdown",
   "id": "a379e5c3",
   "metadata": {},
   "source": [
    "## 행렬의 곱셈 : 내적"
   ]
  },
  {
   "cell_type": "code",
   "execution_count": null,
   "id": "56a3bfe4",
   "metadata": {},
   "outputs": [],
   "source": []
  },
  {
   "cell_type": "code",
   "execution_count": null,
   "id": "67739309",
   "metadata": {},
   "outputs": [],
   "source": []
  },
  {
   "cell_type": "code",
   "execution_count": null,
   "id": "58416d7a",
   "metadata": {},
   "outputs": [],
   "source": []
  },
  {
   "cell_type": "code",
   "execution_count": null,
   "id": "57343d15",
   "metadata": {},
   "outputs": [],
   "source": []
  },
  {
   "cell_type": "code",
   "execution_count": null,
   "id": "3154dc87",
   "metadata": {},
   "outputs": [],
   "source": []
  },
  {
   "cell_type": "code",
   "execution_count": null,
   "id": "841ca3c6",
   "metadata": {},
   "outputs": [],
   "source": []
  },
  {
   "cell_type": "code",
   "execution_count": null,
   "id": "75c515af",
   "metadata": {},
   "outputs": [],
   "source": []
  },
  {
   "cell_type": "code",
   "execution_count": null,
   "id": "a7ac49e6",
   "metadata": {},
   "outputs": [],
   "source": []
  },
  {
   "cell_type": "code",
   "execution_count": null,
   "id": "0fa8a3b1",
   "metadata": {},
   "outputs": [],
   "source": []
  },
  {
   "cell_type": "code",
   "execution_count": null,
   "id": "67d53246",
   "metadata": {},
   "outputs": [],
   "source": []
  },
  {
   "cell_type": "code",
   "execution_count": null,
   "id": "ba80a372",
   "metadata": {},
   "outputs": [],
   "source": []
  },
  {
   "cell_type": "code",
   "execution_count": null,
   "id": "b89fcff6",
   "metadata": {},
   "outputs": [],
   "source": []
  },
  {
   "cell_type": "code",
   "execution_count": null,
   "id": "6a434b3c",
   "metadata": {},
   "outputs": [],
   "source": []
  },
  {
   "cell_type": "code",
   "execution_count": null,
   "id": "878a41b6",
   "metadata": {},
   "outputs": [],
   "source": []
  },
  {
   "cell_type": "code",
   "execution_count": null,
   "id": "be103042",
   "metadata": {},
   "outputs": [],
   "source": []
  },
  {
   "cell_type": "code",
   "execution_count": null,
   "id": "faa83dfe",
   "metadata": {},
   "outputs": [],
   "source": []
  },
  {
   "cell_type": "code",
   "execution_count": null,
   "id": "7606e8bf",
   "metadata": {},
   "outputs": [],
   "source": []
  }
 ],
 "metadata": {
  "kernelspec": {
   "display_name": "Python 3 (ipykernel)",
   "language": "python",
   "name": "python3"
  },
  "language_info": {
   "codemirror_mode": {
    "name": "ipython",
    "version": 3
   },
   "file_extension": ".py",
   "mimetype": "text/x-python",
   "name": "python",
   "nbconvert_exporter": "python",
   "pygments_lexer": "ipython3",
   "version": "3.7.16"
  }
 },
 "nbformat": 4,
 "nbformat_minor": 5
}
