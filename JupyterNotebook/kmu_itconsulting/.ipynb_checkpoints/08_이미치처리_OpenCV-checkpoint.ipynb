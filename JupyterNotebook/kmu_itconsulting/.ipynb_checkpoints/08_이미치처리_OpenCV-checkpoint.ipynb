{
 "cells": [
  {
   "cell_type": "code",
   "execution_count": 3,
   "id": "dea22da1",
   "metadata": {},
   "outputs": [
    {
     "data": {
      "text/plain": [
       "'4.6.0'"
      ]
     },
     "execution_count": 3,
     "metadata": {},
     "output_type": "execute_result"
    }
   ],
   "source": [
    "import cv2\n",
    "import matplotlib.pyplot as plt\n",
    "cv2.__version__"
   ]
  },
  {
   "cell_type": "markdown",
   "id": "3b74a832",
   "metadata": {},
   "source": [
    "# 이미지 읽어 들이고 출력하기"
   ]
  },
  {
   "cell_type": "code",
   "execution_count": 16,
   "id": "886a47a2",
   "metadata": {},
   "outputs": [],
   "source": [
    "img1 = cv2.imread(\"./data/cat2.jpg\")\n",
    "img2 = plt.imread(\"./data/cat2.jpg\")"
   ]
  },
  {
   "cell_type": "code",
   "execution_count": 18,
   "id": "e99ec7a9",
   "metadata": {},
   "outputs": [
    {
     "name": "stdout",
     "output_type": "stream",
     "text": [
      "(183, 275, 3)\n",
      "(183, 275, 3)\n"
     ]
    }
   ],
   "source": [
    " # 183x275px 이미지, 3차원(=컬러) \n",
    "print(img1.shape)\n",
    "print(img2.shape)"
   ]
  },
  {
   "cell_type": "markdown",
   "id": "ee707687",
   "metadata": {},
   "source": [
    "### cv2로 읽으면 BGR 순서로 읽고 출력할 때도 BGR로 읽어서 출력 \n",
    "### plt.imread()로 읽으면 RGB 순서로 읽음. \n",
    "## 주의) cv2와 plt를 읽고 쓸때 혼용하면 B와 R이 바뀐다."
   ]
  },
  {
   "cell_type": "code",
   "execution_count": 19,
   "id": "0e24b9d7",
   "metadata": {},
   "outputs": [
    {
     "name": "stdout",
     "output_type": "stream",
     "text": [
      "[[ 36  71  97]\n",
      " [ 38  73  99]\n",
      " [ 42  77 103]\n",
      " [ 47  82 108]\n",
      " [ 52  87 113]]\n",
      "[[ 97  71  36]\n",
      " [ 99  73  38]\n",
      " [103  77  42]\n",
      " [108  82  47]\n",
      " [113  87  52]]\n"
     ]
    }
   ],
   "source": [
    "print(img1[0][:5])\n",
    "print(img2[0][:5]) # 1열부터 RGB 순서 (cv2.imread()하면 컬럼을 BGR순서로 저장함)"
   ]
  },
  {
   "cell_type": "code",
   "execution_count": null,
   "id": "f70f4e5d",
   "metadata": {},
   "outputs": [],
   "source": []
  },
  {
   "cell_type": "code",
   "execution_count": null,
   "id": "6afbf1b9",
   "metadata": {},
   "outputs": [],
   "source": []
  },
  {
   "cell_type": "code",
   "execution_count": null,
   "id": "d9b43134",
   "metadata": {},
   "outputs": [],
   "source": []
  },
  {
   "cell_type": "code",
   "execution_count": null,
   "id": "ea758764",
   "metadata": {},
   "outputs": [],
   "source": []
  },
  {
   "cell_type": "code",
   "execution_count": null,
   "id": "b0f6aa3b",
   "metadata": {},
   "outputs": [],
   "source": []
  },
  {
   "cell_type": "code",
   "execution_count": null,
   "id": "b3abee4f",
   "metadata": {},
   "outputs": [],
   "source": []
  },
  {
   "cell_type": "code",
   "execution_count": null,
   "id": "230ebf1d",
   "metadata": {},
   "outputs": [],
   "source": []
  },
  {
   "cell_type": "code",
   "execution_count": null,
   "id": "926de2b6",
   "metadata": {},
   "outputs": [],
   "source": []
  }
 ],
 "metadata": {
  "kernelspec": {
   "display_name": "Python 3 (ipykernel)",
   "language": "python",
   "name": "python3"
  },
  "language_info": {
   "codemirror_mode": {
    "name": "ipython",
    "version": 3
   },
   "file_extension": ".py",
   "mimetype": "text/x-python",
   "name": "python",
   "nbconvert_exporter": "python",
   "pygments_lexer": "ipython3",
   "version": "3.7.16"
  }
 },
 "nbformat": 4,
 "nbformat_minor": 5
}
