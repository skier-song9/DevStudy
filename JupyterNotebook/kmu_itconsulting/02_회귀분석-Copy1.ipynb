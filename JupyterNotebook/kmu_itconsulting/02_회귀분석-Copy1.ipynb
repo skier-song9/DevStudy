{
 "cells": [
  {
   "cell_type": "markdown",
   "id": "61a7b858",
   "metadata": {},
   "source": [
    "# 회귀분석"
   ]
  },
  {
   "cell_type": "code",
   "execution_count": 1,
   "id": "47ba703e",
   "metadata": {},
   "outputs": [
    {
     "data": {
      "text/html": [
       "<div>\n",
       "<style scoped>\n",
       "    .dataframe tbody tr th:only-of-type {\n",
       "        vertical-align: middle;\n",
       "    }\n",
       "\n",
       "    .dataframe tbody tr th {\n",
       "        vertical-align: top;\n",
       "    }\n",
       "\n",
       "    .dataframe thead th {\n",
       "        text-align: right;\n",
       "    }\n",
       "</style>\n",
       "<table border=\"1\" class=\"dataframe\">\n",
       "  <thead>\n",
       "    <tr style=\"text-align: right;\">\n",
       "      <th></th>\n",
       "      <th>date</th>\n",
       "      <th>risk</th>\n",
       "    </tr>\n",
       "  </thead>\n",
       "  <tbody>\n",
       "    <tr>\n",
       "      <th>0</th>\n",
       "      <td>1975-01-01</td>\n",
       "      <td>0.147749</td>\n",
       "    </tr>\n",
       "    <tr>\n",
       "      <th>1</th>\n",
       "      <td>1975-04-01</td>\n",
       "      <td>0.266388</td>\n",
       "    </tr>\n",
       "    <tr>\n",
       "      <th>2</th>\n",
       "      <td>1975-07-01</td>\n",
       "      <td>0.266388</td>\n",
       "    </tr>\n",
       "  </tbody>\n",
       "</table>\n",
       "</div>"
      ],
      "text/plain": [
       "         date      risk\n",
       "0  1975-01-01  0.147749\n",
       "1  1975-04-01  0.266388\n",
       "2  1975-07-01  0.266388"
      ]
     },
     "execution_count": 1,
     "metadata": {},
     "output_type": "execute_result"
    }
   ],
   "source": [
    "import numpy as np\n",
    "import pandas as pd\n",
    "import matplotlib.pyplot as plt\n",
    "\n",
    "w = pd.read_csv('D:/SKH/DevStudy/JupyterNotebook/BigDataPromotion_Gwangjingu/data/outputs/광장동1.csv',header=0)\n",
    "w.head(3)"
   ]
  },
  {
   "cell_type": "code",
   "execution_count": 11,
   "id": "703ab01f",
   "metadata": {},
   "outputs": [],
   "source": [
    "x = pd.to_datetime(w['date'])\n",
    "x = x.map(lambda x: x.timestamp())\n",
    "y = w['risk']"
   ]
  },
  {
   "cell_type": "code",
   "execution_count": 13,
   "id": "5451707d",
   "metadata": {},
   "outputs": [
    {
     "data": {
      "text/plain": [
       "(191,)"
      ]
     },
     "execution_count": 13,
     "metadata": {},
     "output_type": "execute_result"
    }
   ],
   "source": [
    "x.shape"
   ]
  },
  {
   "cell_type": "markdown",
   "id": "e3a9c98d",
   "metadata": {},
   "source": [
    "## 훈련데이터, 테스트 데이터 분리 + 회귀 모형 훈련"
   ]
  },
  {
   "cell_type": "code",
   "execution_count": 4,
   "id": "104d3a40",
   "metadata": {},
   "outputs": [],
   "source": [
    "from sklearn.model_selection import train_test_split"
   ]
  },
  {
   "cell_type": "code",
   "execution_count": 5,
   "id": "c21df603",
   "metadata": {},
   "outputs": [],
   "source": [
    "x_train, x_test, y_train, y_test = train_test_split(x,y,test_size=0.2,random_state=0)"
   ]
  },
  {
   "cell_type": "code",
   "execution_count": 14,
   "id": "55c0341b",
   "metadata": {},
   "outputs": [],
   "source": [
    "x_train,x_test,y_train,y_test = x[:153],x[153:],y[:153],y[153:]"
   ]
  },
  {
   "cell_type": "code",
   "execution_count": 21,
   "id": "3143c532",
   "metadata": {},
   "outputs": [
    {
     "name": "stdout",
     "output_type": "stream",
     "text": [
      "(153,)\n",
      "(153,)\n"
     ]
    }
   ],
   "source": [
    "print(x_train.shape)\n",
    "x_train = np.reshape(x_train,(-1))\n",
    "print(x_train.shape)"
   ]
  },
  {
   "cell_type": "code",
   "execution_count": 17,
   "id": "8b16151d",
   "metadata": {},
   "outputs": [
    {
     "data": {
      "text/plain": [
       "(153,)"
      ]
     },
     "execution_count": 17,
     "metadata": {},
     "output_type": "execute_result"
    }
   ],
   "source": [
    "y_train.shape"
   ]
  },
  {
   "cell_type": "code",
   "execution_count": 22,
   "id": "39b31f23",
   "metadata": {},
   "outputs": [
    {
     "ename": "ValueError",
     "evalue": "Expected 2D array, got 1D array instead:\narray=[1.5776640e+08 1.6554240e+08 1.7340480e+08 1.8135360e+08 1.8930240e+08\n 1.9716480e+08 2.0502720e+08 2.1297600e+08 2.2092480e+08 2.2870080e+08\n 2.3656320e+08 2.4451200e+08 2.5246080e+08 2.6023680e+08 2.6809920e+08\n 2.7604800e+08 2.8399680e+08 2.9177280e+08 2.9963520e+08 3.0758400e+08\n 3.1553280e+08 3.2339520e+08 3.3125760e+08 3.3920640e+08 3.4715520e+08\n 3.5493120e+08 3.6279360e+08 3.7074240e+08 3.7869120e+08 3.8646720e+08\n 3.9432960e+08 4.0227840e+08 4.1022720e+08 4.1800320e+08 4.2586560e+08\n 4.3381440e+08 4.4176320e+08 4.4962560e+08 4.5748800e+08 4.6543680e+08\n 4.7338560e+08 4.8116160e+08 4.8902400e+08 4.9697280e+08 5.0492160e+08\n 5.1269760e+08 5.2056000e+08 5.2850880e+08 5.3645760e+08 5.4423360e+08\n 5.5209600e+08 5.6004480e+08 5.6799360e+08 5.7585600e+08 5.8371840e+08\n 5.9166720e+08 5.9961600e+08 6.0739200e+08 6.1525440e+08 6.2320320e+08\n 6.3115200e+08 6.3892800e+08 6.4679040e+08 6.5473920e+08 6.6268800e+08\n 6.7046400e+08 6.7832640e+08 6.8627520e+08 6.9422400e+08 7.0208640e+08\n 7.0994880e+08 7.1789760e+08 7.2584640e+08 7.3362240e+08 7.4148480e+08\n 7.4943360e+08 7.5738240e+08 7.6515840e+08 7.7302080e+08 7.8096960e+08\n 7.8891840e+08 7.9669440e+08 8.0455680e+08 8.1250560e+08 8.2045440e+08\n 8.2831680e+08 8.3617920e+08 8.4412800e+08 8.5207680e+08 8.5985280e+08\n 8.6771520e+08 8.7566400e+08 8.8361280e+08 8.9138880e+08 8.9925120e+08\n 9.0720000e+08 9.1514880e+08 9.2292480e+08 9.3078720e+08 9.3873600e+08\n 9.4668480e+08 9.5454720e+08 9.6240960e+08 9.7035840e+08 9.7830720e+08\n 9.8608320e+08 9.9394560e+08 1.0018944e+09 1.0098432e+09 1.0176192e+09\n 1.0254816e+09 1.0334304e+09 1.0413792e+09 1.0491552e+09 1.0570176e+09\n 1.0649664e+09 1.0729152e+09 1.0807776e+09 1.0886400e+09 1.0965888e+09\n 1.1045376e+09 1.1123136e+09 1.1201760e+09 1.1281248e+09 1.1360736e+09\n 1.1438496e+09 1.1517120e+09 1.1596608e+09 1.1676096e+09 1.1753856e+09\n 1.1832480e+09 1.1911968e+09 1.1991456e+09 1.2070080e+09 1.2148704e+09\n 1.2228192e+09 1.2307680e+09 1.2385440e+09 1.2464064e+09 1.2543552e+09\n 1.2623040e+09 1.2700800e+09 1.2779424e+09 1.2858912e+09 1.2938400e+09\n 1.3016160e+09 1.3094784e+09 1.3174272e+09 1.3253760e+09 1.3332384e+09\n 1.3411008e+09 1.3490496e+09 1.3569984e+09].\nReshape your data either using array.reshape(-1, 1) if your data has a single feature or array.reshape(1, -1) if it contains a single sample.",
     "output_type": "error",
     "traceback": [
      "\u001b[1;31m---------------------------------------------------------------------------\u001b[0m",
      "\u001b[1;31mValueError\u001b[0m                                Traceback (most recent call last)",
      "\u001b[1;32m~\\AppData\\Local\\Temp\\ipykernel_23464\\2684291894.py\u001b[0m in \u001b[0;36m<module>\u001b[1;34m\u001b[0m\n\u001b[0;32m      1\u001b[0m \u001b[1;32mfrom\u001b[0m \u001b[0msklearn\u001b[0m \u001b[1;32mimport\u001b[0m \u001b[0mlinear_model\u001b[0m\u001b[1;33m\u001b[0m\u001b[1;33m\u001b[0m\u001b[0m\n\u001b[0;32m      2\u001b[0m \u001b[0mlr\u001b[0m \u001b[1;33m=\u001b[0m \u001b[0mlinear_model\u001b[0m\u001b[1;33m.\u001b[0m\u001b[0mLinearRegression\u001b[0m\u001b[1;33m(\u001b[0m\u001b[1;33m)\u001b[0m\u001b[1;33m\u001b[0m\u001b[1;33m\u001b[0m\u001b[0m\n\u001b[1;32m----> 3\u001b[1;33m \u001b[0mlr\u001b[0m\u001b[1;33m.\u001b[0m\u001b[0mfit\u001b[0m\u001b[1;33m(\u001b[0m\u001b[0mx_train\u001b[0m\u001b[1;33m,\u001b[0m\u001b[0my_train\u001b[0m\u001b[1;33m)\u001b[0m\u001b[1;33m\u001b[0m\u001b[1;33m\u001b[0m\u001b[0m\n\u001b[0m",
      "\u001b[1;32m~\\anaconda3\\envs\\ITConsulting\\lib\\site-packages\\sklearn\\linear_model\\_base.py\u001b[0m in \u001b[0;36mfit\u001b[1;34m(self, X, y, sample_weight)\u001b[0m\n\u001b[0;32m    661\u001b[0m \u001b[1;33m\u001b[0m\u001b[0m\n\u001b[0;32m    662\u001b[0m         X, y = self._validate_data(\n\u001b[1;32m--> 663\u001b[1;33m             \u001b[0mX\u001b[0m\u001b[1;33m,\u001b[0m \u001b[0my\u001b[0m\u001b[1;33m,\u001b[0m \u001b[0maccept_sparse\u001b[0m\u001b[1;33m=\u001b[0m\u001b[0maccept_sparse\u001b[0m\u001b[1;33m,\u001b[0m \u001b[0my_numeric\u001b[0m\u001b[1;33m=\u001b[0m\u001b[1;32mTrue\u001b[0m\u001b[1;33m,\u001b[0m \u001b[0mmulti_output\u001b[0m\u001b[1;33m=\u001b[0m\u001b[1;32mTrue\u001b[0m\u001b[1;33m\u001b[0m\u001b[1;33m\u001b[0m\u001b[0m\n\u001b[0m\u001b[0;32m    664\u001b[0m         )\n\u001b[0;32m    665\u001b[0m \u001b[1;33m\u001b[0m\u001b[0m\n",
      "\u001b[1;32m~\\anaconda3\\envs\\ITConsulting\\lib\\site-packages\\sklearn\\base.py\u001b[0m in \u001b[0;36m_validate_data\u001b[1;34m(self, X, y, reset, validate_separately, **check_params)\u001b[0m\n\u001b[0;32m    579\u001b[0m                 \u001b[0my\u001b[0m \u001b[1;33m=\u001b[0m \u001b[0mcheck_array\u001b[0m\u001b[1;33m(\u001b[0m\u001b[0my\u001b[0m\u001b[1;33m,\u001b[0m \u001b[1;33m**\u001b[0m\u001b[0mcheck_y_params\u001b[0m\u001b[1;33m)\u001b[0m\u001b[1;33m\u001b[0m\u001b[1;33m\u001b[0m\u001b[0m\n\u001b[0;32m    580\u001b[0m             \u001b[1;32melse\u001b[0m\u001b[1;33m:\u001b[0m\u001b[1;33m\u001b[0m\u001b[1;33m\u001b[0m\u001b[0m\n\u001b[1;32m--> 581\u001b[1;33m                 \u001b[0mX\u001b[0m\u001b[1;33m,\u001b[0m \u001b[0my\u001b[0m \u001b[1;33m=\u001b[0m \u001b[0mcheck_X_y\u001b[0m\u001b[1;33m(\u001b[0m\u001b[0mX\u001b[0m\u001b[1;33m,\u001b[0m \u001b[0my\u001b[0m\u001b[1;33m,\u001b[0m \u001b[1;33m**\u001b[0m\u001b[0mcheck_params\u001b[0m\u001b[1;33m)\u001b[0m\u001b[1;33m\u001b[0m\u001b[1;33m\u001b[0m\u001b[0m\n\u001b[0m\u001b[0;32m    582\u001b[0m             \u001b[0mout\u001b[0m \u001b[1;33m=\u001b[0m \u001b[0mX\u001b[0m\u001b[1;33m,\u001b[0m \u001b[0my\u001b[0m\u001b[1;33m\u001b[0m\u001b[1;33m\u001b[0m\u001b[0m\n\u001b[0;32m    583\u001b[0m \u001b[1;33m\u001b[0m\u001b[0m\n",
      "\u001b[1;32m~\\anaconda3\\envs\\ITConsulting\\lib\\site-packages\\sklearn\\utils\\validation.py\u001b[0m in \u001b[0;36mcheck_X_y\u001b[1;34m(X, y, accept_sparse, accept_large_sparse, dtype, order, copy, force_all_finite, ensure_2d, allow_nd, multi_output, ensure_min_samples, ensure_min_features, y_numeric, estimator)\u001b[0m\n\u001b[0;32m    974\u001b[0m         \u001b[0mensure_min_samples\u001b[0m\u001b[1;33m=\u001b[0m\u001b[0mensure_min_samples\u001b[0m\u001b[1;33m,\u001b[0m\u001b[1;33m\u001b[0m\u001b[1;33m\u001b[0m\u001b[0m\n\u001b[0;32m    975\u001b[0m         \u001b[0mensure_min_features\u001b[0m\u001b[1;33m=\u001b[0m\u001b[0mensure_min_features\u001b[0m\u001b[1;33m,\u001b[0m\u001b[1;33m\u001b[0m\u001b[1;33m\u001b[0m\u001b[0m\n\u001b[1;32m--> 976\u001b[1;33m         \u001b[0mestimator\u001b[0m\u001b[1;33m=\u001b[0m\u001b[0mestimator\u001b[0m\u001b[1;33m,\u001b[0m\u001b[1;33m\u001b[0m\u001b[1;33m\u001b[0m\u001b[0m\n\u001b[0m\u001b[0;32m    977\u001b[0m     )\n\u001b[0;32m    978\u001b[0m \u001b[1;33m\u001b[0m\u001b[0m\n",
      "\u001b[1;32m~\\anaconda3\\envs\\ITConsulting\\lib\\site-packages\\sklearn\\utils\\validation.py\u001b[0m in \u001b[0;36mcheck_array\u001b[1;34m(array, accept_sparse, accept_large_sparse, dtype, order, copy, force_all_finite, ensure_2d, allow_nd, ensure_min_samples, ensure_min_features, estimator)\u001b[0m\n\u001b[0;32m    771\u001b[0m                     \u001b[1;34m\"Reshape your data either using array.reshape(-1, 1) if \"\u001b[0m\u001b[1;33m\u001b[0m\u001b[1;33m\u001b[0m\u001b[0m\n\u001b[0;32m    772\u001b[0m                     \u001b[1;34m\"your data has a single feature or array.reshape(1, -1) \"\u001b[0m\u001b[1;33m\u001b[0m\u001b[1;33m\u001b[0m\u001b[0m\n\u001b[1;32m--> 773\u001b[1;33m                     \u001b[1;34m\"if it contains a single sample.\"\u001b[0m\u001b[1;33m.\u001b[0m\u001b[0mformat\u001b[0m\u001b[1;33m(\u001b[0m\u001b[0marray\u001b[0m\u001b[1;33m)\u001b[0m\u001b[1;33m\u001b[0m\u001b[1;33m\u001b[0m\u001b[0m\n\u001b[0m\u001b[0;32m    774\u001b[0m                 )\n\u001b[0;32m    775\u001b[0m \u001b[1;33m\u001b[0m\u001b[0m\n",
      "\u001b[1;31mValueError\u001b[0m: Expected 2D array, got 1D array instead:\narray=[1.5776640e+08 1.6554240e+08 1.7340480e+08 1.8135360e+08 1.8930240e+08\n 1.9716480e+08 2.0502720e+08 2.1297600e+08 2.2092480e+08 2.2870080e+08\n 2.3656320e+08 2.4451200e+08 2.5246080e+08 2.6023680e+08 2.6809920e+08\n 2.7604800e+08 2.8399680e+08 2.9177280e+08 2.9963520e+08 3.0758400e+08\n 3.1553280e+08 3.2339520e+08 3.3125760e+08 3.3920640e+08 3.4715520e+08\n 3.5493120e+08 3.6279360e+08 3.7074240e+08 3.7869120e+08 3.8646720e+08\n 3.9432960e+08 4.0227840e+08 4.1022720e+08 4.1800320e+08 4.2586560e+08\n 4.3381440e+08 4.4176320e+08 4.4962560e+08 4.5748800e+08 4.6543680e+08\n 4.7338560e+08 4.8116160e+08 4.8902400e+08 4.9697280e+08 5.0492160e+08\n 5.1269760e+08 5.2056000e+08 5.2850880e+08 5.3645760e+08 5.4423360e+08\n 5.5209600e+08 5.6004480e+08 5.6799360e+08 5.7585600e+08 5.8371840e+08\n 5.9166720e+08 5.9961600e+08 6.0739200e+08 6.1525440e+08 6.2320320e+08\n 6.3115200e+08 6.3892800e+08 6.4679040e+08 6.5473920e+08 6.6268800e+08\n 6.7046400e+08 6.7832640e+08 6.8627520e+08 6.9422400e+08 7.0208640e+08\n 7.0994880e+08 7.1789760e+08 7.2584640e+08 7.3362240e+08 7.4148480e+08\n 7.4943360e+08 7.5738240e+08 7.6515840e+08 7.7302080e+08 7.8096960e+08\n 7.8891840e+08 7.9669440e+08 8.0455680e+08 8.1250560e+08 8.2045440e+08\n 8.2831680e+08 8.3617920e+08 8.4412800e+08 8.5207680e+08 8.5985280e+08\n 8.6771520e+08 8.7566400e+08 8.8361280e+08 8.9138880e+08 8.9925120e+08\n 9.0720000e+08 9.1514880e+08 9.2292480e+08 9.3078720e+08 9.3873600e+08\n 9.4668480e+08 9.5454720e+08 9.6240960e+08 9.7035840e+08 9.7830720e+08\n 9.8608320e+08 9.9394560e+08 1.0018944e+09 1.0098432e+09 1.0176192e+09\n 1.0254816e+09 1.0334304e+09 1.0413792e+09 1.0491552e+09 1.0570176e+09\n 1.0649664e+09 1.0729152e+09 1.0807776e+09 1.0886400e+09 1.0965888e+09\n 1.1045376e+09 1.1123136e+09 1.1201760e+09 1.1281248e+09 1.1360736e+09\n 1.1438496e+09 1.1517120e+09 1.1596608e+09 1.1676096e+09 1.1753856e+09\n 1.1832480e+09 1.1911968e+09 1.1991456e+09 1.2070080e+09 1.2148704e+09\n 1.2228192e+09 1.2307680e+09 1.2385440e+09 1.2464064e+09 1.2543552e+09\n 1.2623040e+09 1.2700800e+09 1.2779424e+09 1.2858912e+09 1.2938400e+09\n 1.3016160e+09 1.3094784e+09 1.3174272e+09 1.3253760e+09 1.3332384e+09\n 1.3411008e+09 1.3490496e+09 1.3569984e+09].\nReshape your data either using array.reshape(-1, 1) if your data has a single feature or array.reshape(1, -1) if it contains a single sample."
     ]
    }
   ],
   "source": [
    "from sklearn import linear_model\n",
    "lr = linear_model.LinearRegression()\n",
    "lr.fit(x_train,y_train)"
   ]
  },
  {
   "cell_type": "code",
   "execution_count": 23,
   "id": "2ebae1ab",
   "metadata": {},
   "outputs": [
    {
     "ename": "AttributeError",
     "evalue": "'LinearRegression' object has no attribute 'intercept_'",
     "output_type": "error",
     "traceback": [
      "\u001b[1;31m---------------------------------------------------------------------------\u001b[0m",
      "\u001b[1;31mAttributeError\u001b[0m                            Traceback (most recent call last)",
      "\u001b[1;32m~\\AppData\\Local\\Temp\\ipykernel_23464\\4019365595.py\u001b[0m in \u001b[0;36m<module>\u001b[1;34m\u001b[0m\n\u001b[1;32m----> 1\u001b[1;33m \u001b[0mprint\u001b[0m\u001b[1;33m(\u001b[0m\u001b[0mlr\u001b[0m\u001b[1;33m.\u001b[0m\u001b[0mintercept_\u001b[0m\u001b[1;33m,\u001b[0m\u001b[0mlr\u001b[0m\u001b[1;33m.\u001b[0m\u001b[0mcoef_\u001b[0m\u001b[1;33m,\u001b[0m\u001b[0mlr\u001b[0m\u001b[1;33m.\u001b[0m\u001b[0mscore\u001b[0m\u001b[1;33m(\u001b[0m\u001b[0mx_train\u001b[0m\u001b[1;33m,\u001b[0m\u001b[0my_train\u001b[0m\u001b[1;33m)\u001b[0m\u001b[1;33m)\u001b[0m\u001b[1;33m\u001b[0m\u001b[1;33m\u001b[0m\u001b[0m\n\u001b[0m",
      "\u001b[1;31mAttributeError\u001b[0m: 'LinearRegression' object has no attribute 'intercept_'"
     ]
    }
   ],
   "source": [
    "print(lr.intercept_,lr.coef_,lr.score(x_train,y_train))"
   ]
  },
  {
   "cell_type": "code",
   "execution_count": 8,
   "id": "94f3bc1e",
   "metadata": {},
   "outputs": [
    {
     "data": {
      "text/plain": [
       "0.7525750678490845"
      ]
     },
     "execution_count": 8,
     "metadata": {},
     "output_type": "execute_result"
    }
   ],
   "source": [
    "lr.score(x_test,y_test)"
   ]
  },
  {
   "cell_type": "code",
   "execution_count": 20,
   "id": "bc5dca78",
   "metadata": {},
   "outputs": [],
   "source": [
    "y_pred=lr.predict(x_test)"
   ]
  },
  {
   "cell_type": "code",
   "execution_count": 10,
   "id": "54d580c4",
   "metadata": {},
   "outputs": [],
   "source": [
    "import statsmodels.api as sm"
   ]
  },
  {
   "cell_type": "code",
   "execution_count": 11,
   "id": "a6f15b11",
   "metadata": {},
   "outputs": [],
   "source": [
    "x_train_add_constant = sm.add_constant(x_train)"
   ]
  },
  {
   "cell_type": "code",
   "execution_count": 13,
   "id": "d784de71",
   "metadata": {},
   "outputs": [
    {
     "data": {
      "text/plain": [
       "<statsmodels.regression.linear_model.RegressionResultsWrapper at 0x21926368190>"
      ]
     },
     "execution_count": 13,
     "metadata": {},
     "output_type": "execute_result"
    }
   ],
   "source": [
    "sm_lr_ac = sm.OLS(y_train,x_train_add_constant).fit()\n",
    "sm_lr_ac"
   ]
  },
  {
   "cell_type": "markdown",
   "id": "dbee713f",
   "metadata": {},
   "source": [
    "## 훈련 결과 검증"
   ]
  },
  {
   "cell_type": "code",
   "execution_count": 14,
   "id": "941ea638",
   "metadata": {},
   "outputs": [
    {
     "data": {
      "text/plain": [
       "const        -0.344694\n",
       "egg_weight    1.866991\n",
       "movement     -0.012033\n",
       "food          1.396466\n",
       "dtype: float64"
      ]
     },
     "execution_count": 14,
     "metadata": {},
     "output_type": "execute_result"
    }
   ],
   "source": [
    "sm_lr_ac.params"
   ]
  },
  {
   "cell_type": "code",
   "execution_count": 15,
   "id": "9899e119",
   "metadata": {},
   "outputs": [
    {
     "data": {
      "text/plain": [
       "0.9578266238508792"
      ]
     },
     "execution_count": 15,
     "metadata": {},
     "output_type": "execute_result"
    }
   ],
   "source": [
    "sm_lr_ac.rsquared"
   ]
  },
  {
   "cell_type": "code",
   "execution_count": 16,
   "id": "74017a3d",
   "metadata": {},
   "outputs": [
    {
     "data": {
      "text/html": [
       "<table class=\"simpletable\">\n",
       "<caption>OLS Regression Results</caption>\n",
       "<tr>\n",
       "  <th>Dep. Variable:</th>         <td>weight</td>      <th>  R-squared:         </th> <td>   0.958</td>\n",
       "</tr>\n",
       "<tr>\n",
       "  <th>Model:</th>                   <td>OLS</td>       <th>  Adj. R-squared:    </th> <td>   0.952</td>\n",
       "</tr>\n",
       "<tr>\n",
       "  <th>Method:</th>             <td>Least Squares</td>  <th>  F-statistic:       </th> <td>   151.4</td>\n",
       "</tr>\n",
       "<tr>\n",
       "  <th>Date:</th>             <td>Wed, 29 Mar 2023</td> <th>  Prob (F-statistic):</th> <td>6.46e-14</td>\n",
       "</tr>\n",
       "<tr>\n",
       "  <th>Time:</th>                 <td>12:32:07</td>     <th>  Log-Likelihood:    </th> <td> -44.064</td>\n",
       "</tr>\n",
       "<tr>\n",
       "  <th>No. Observations:</th>      <td>    24</td>      <th>  AIC:               </th> <td>   96.13</td>\n",
       "</tr>\n",
       "<tr>\n",
       "  <th>Df Residuals:</th>          <td>    20</td>      <th>  BIC:               </th> <td>   100.8</td>\n",
       "</tr>\n",
       "<tr>\n",
       "  <th>Df Model:</th>              <td>     3</td>      <th>                     </th>     <td> </td>   \n",
       "</tr>\n",
       "<tr>\n",
       "  <th>Covariance Type:</th>      <td>nonrobust</td>    <th>                     </th>     <td> </td>   \n",
       "</tr>\n",
       "</table>\n",
       "<table class=\"simpletable\">\n",
       "<tr>\n",
       "       <td></td>         <th>coef</th>     <th>std err</th>      <th>t</th>      <th>P>|t|</th>  <th>[0.025</th>    <th>0.975]</th>  \n",
       "</tr>\n",
       "<tr>\n",
       "  <th>const</th>      <td>   -0.3447</td> <td>    9.866</td> <td>   -0.035</td> <td> 0.972</td> <td>  -20.925</td> <td>   20.236</td>\n",
       "</tr>\n",
       "<tr>\n",
       "  <th>egg_weight</th> <td>    1.8670</td> <td>    0.240</td> <td>    7.794</td> <td> 0.000</td> <td>    1.367</td> <td>    2.367</td>\n",
       "</tr>\n",
       "<tr>\n",
       "  <th>movement</th>   <td>   -0.0120</td> <td>    0.020</td> <td>   -0.590</td> <td> 0.562</td> <td>   -0.055</td> <td>    0.030</td>\n",
       "</tr>\n",
       "<tr>\n",
       "  <th>food</th>       <td>    1.3965</td> <td>    0.457</td> <td>    3.054</td> <td> 0.006</td> <td>    0.443</td> <td>    2.350</td>\n",
       "</tr>\n",
       "</table>\n",
       "<table class=\"simpletable\">\n",
       "<tr>\n",
       "  <th>Omnibus:</th>       <td> 0.750</td> <th>  Durbin-Watson:     </th> <td>   2.690</td>\n",
       "</tr>\n",
       "<tr>\n",
       "  <th>Prob(Omnibus):</th> <td> 0.687</td> <th>  Jarque-Bera (JB):  </th> <td>   0.786</td>\n",
       "</tr>\n",
       "<tr>\n",
       "  <th>Skew:</th>          <td>-0.274</td> <th>  Prob(JB):          </th> <td>   0.675</td>\n",
       "</tr>\n",
       "<tr>\n",
       "  <th>Kurtosis:</th>      <td> 2.303</td> <th>  Cond. No.          </th> <td>4.49e+03</td>\n",
       "</tr>\n",
       "</table><br/><br/>Notes:<br/>[1] Standard Errors assume that the covariance matrix of the errors is correctly specified.<br/>[2] The condition number is large, 4.49e+03. This might indicate that there are<br/>strong multicollinearity or other numerical problems."
      ],
      "text/plain": [
       "<class 'statsmodels.iolib.summary.Summary'>\n",
       "\"\"\"\n",
       "                            OLS Regression Results                            \n",
       "==============================================================================\n",
       "Dep. Variable:                 weight   R-squared:                       0.958\n",
       "Model:                            OLS   Adj. R-squared:                  0.952\n",
       "Method:                 Least Squares   F-statistic:                     151.4\n",
       "Date:                Wed, 29 Mar 2023   Prob (F-statistic):           6.46e-14\n",
       "Time:                        12:32:07   Log-Likelihood:                -44.064\n",
       "No. Observations:                  24   AIC:                             96.13\n",
       "Df Residuals:                      20   BIC:                             100.8\n",
       "Df Model:                           3                                         \n",
       "Covariance Type:            nonrobust                                         \n",
       "==============================================================================\n",
       "                 coef    std err          t      P>|t|      [0.025      0.975]\n",
       "------------------------------------------------------------------------------\n",
       "const         -0.3447      9.866     -0.035      0.972     -20.925      20.236\n",
       "egg_weight     1.8670      0.240      7.794      0.000       1.367       2.367\n",
       "movement      -0.0120      0.020     -0.590      0.562      -0.055       0.030\n",
       "food           1.3965      0.457      3.054      0.006       0.443       2.350\n",
       "==============================================================================\n",
       "Omnibus:                        0.750   Durbin-Watson:                   2.690\n",
       "Prob(Omnibus):                  0.687   Jarque-Bera (JB):                0.786\n",
       "Skew:                          -0.274   Prob(JB):                        0.675\n",
       "Kurtosis:                       2.303   Cond. No.                     4.49e+03\n",
       "==============================================================================\n",
       "\n",
       "Notes:\n",
       "[1] Standard Errors assume that the covariance matrix of the errors is correctly specified.\n",
       "[2] The condition number is large, 4.49e+03. This might indicate that there are\n",
       "strong multicollinearity or other numerical problems.\n",
       "\"\"\""
      ]
     },
     "execution_count": 16,
     "metadata": {},
     "output_type": "execute_result"
    }
   ],
   "source": [
    "sm_lr_ac.summary()"
   ]
  },
  {
   "cell_type": "markdown",
   "id": "93419fb4",
   "metadata": {},
   "source": [
    "## 테스트 데이터 적용"
   ]
  },
  {
   "cell_type": "code",
   "execution_count": 18,
   "id": "90f3f507",
   "metadata": {},
   "outputs": [
    {
     "data": {
      "text/plain": [
       "86.0"
      ]
     },
     "execution_count": 18,
     "metadata": {},
     "output_type": "execute_result"
    }
   ],
   "source": [
    "# SST = Total Sum of Squares\n",
    "SST = np.sum((y_test - y_test.mean())**2)\n",
    "SST"
   ]
  },
  {
   "cell_type": "code",
   "execution_count": 22,
   "id": "f193731c",
   "metadata": {},
   "outputs": [
    {
     "data": {
      "text/plain": [
       "21.27854416497874"
      ]
     },
     "execution_count": 22,
     "metadata": {},
     "output_type": "execute_result"
    }
   ],
   "source": [
    "# Residual Sum of Squares\n",
    "SSR = np.sum((y_pred - y_test)**2)\n",
    "SSR"
   ]
  },
  {
   "cell_type": "code",
   "execution_count": null,
   "id": "597140b3",
   "metadata": {},
   "outputs": [],
   "source": []
  },
  {
   "cell_type": "code",
   "execution_count": null,
   "id": "5ea1371d",
   "metadata": {},
   "outputs": [],
   "source": []
  }
 ],
 "metadata": {
  "kernelspec": {
   "display_name": "Python 3 (ipykernel)",
   "language": "python",
   "name": "python3"
  },
  "language_info": {
   "codemirror_mode": {
    "name": "ipython",
    "version": 3
   },
   "file_extension": ".py",
   "mimetype": "text/x-python",
   "name": "python",
   "nbconvert_exporter": "python",
   "pygments_lexer": "ipython3",
   "version": "3.7.16"
  }
 },
 "nbformat": 4,
 "nbformat_minor": 5
}
