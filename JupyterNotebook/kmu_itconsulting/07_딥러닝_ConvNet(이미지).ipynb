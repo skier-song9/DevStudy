{
 "cells": [
  {
   "cell_type": "code",
   "execution_count": 1,
   "id": "12ffe853",
   "metadata": {},
   "outputs": [],
   "source": [
    "import pandas as pd\n",
    "import tensorflow as tf\n",
    "from sklearn.model_selection import train_test_split\n",
    "import numpy as np\n",
    "import matplotlib.pyplot as plt\n",
    "import os\n",
    "import sklearn.metrics as sm\n",
    "from sklearn.metrics import classification_report"
   ]
  },
  {
   "cell_type": "markdown",
   "id": "9185614d",
   "metadata": {},
   "source": [
    "## 데이터 로드"
   ]
  },
  {
   "cell_type": "code",
   "execution_count": 2,
   "id": "0a27395c",
   "metadata": {},
   "outputs": [],
   "source": [
    "(xTrain,yTrain),(xTest,yTest) = tf.keras.datasets.mnist.load_data()"
   ]
  },
  {
   "cell_type": "code",
   "execution_count": 3,
   "id": "b9dc2abf",
   "metadata": {},
   "outputs": [
    {
     "data": {
      "image/png": "[encoded data removed]",
      "text/plain": [
       "<Figure size 200x200 with 1 Axes>"
      ]
     },
     "metadata": {},
     "output_type": "display_data"
    }
   ],
   "source": [
    "plt.figure(figsize=(2,2))\n",
    "plt.imshow(xTest[0])\n",
    "plt.show()"
   ]
  },
  {
   "cell_type": "markdown",
   "id": "216ffb53",
   "metadata": {},
   "source": [
    "## 데이터 전처리 1 (입력 데이터 변환)"
   ]
  },
  {
   "cell_type": "code",
   "execution_count": 4,
   "id": "47c466ac",
   "metadata": {},
   "outputs": [],
   "source": [
    "# 정규화(표준화)\n",
    "xTrain = xTrain/255.0\n",
    "xTest = xTest/255.0"
   ]
  },
  {
   "cell_type": "code",
   "execution_count": 5,
   "id": "1c3ec7be",
   "metadata": {},
   "outputs": [],
   "source": [
    "xTrain = xTrain.reshape((-1,28,28,1)) #(샘플수, 행수, 열수, 채널 수)\n",
    "xTest = xTest.reshape((-1,28,28,1))"
   ]
  },
  {
   "cell_type": "markdown",
   "id": "05c628fb",
   "metadata": {},
   "source": [
    "## 데이터 전처리 2 (출력 데이터 변환 : one-hot 인코딩)"
   ]
  },
  {
   "cell_type": "code",
   "execution_count": 6,
   "id": "3a7ab732",
   "metadata": {},
   "outputs": [],
   "source": [
    "yTrain = tf.keras.utils.to_categorical(yTrain,10)\n",
    "yTest = tf.keras.utils.to_categorical(yTest,10)"
   ]
  },
  {
   "cell_type": "code",
   "execution_count": 7,
   "id": "0ce975d4",
   "metadata": {},
   "outputs": [
    {
     "data": {
      "text/plain": [
       "array([0., 0., 0., 0., 0., 0., 0., 1., 0., 0.], dtype=float32)"
      ]
     },
     "execution_count": 7,
     "metadata": {},
     "output_type": "execute_result"
    }
   ],
   "source": [
    "yTest[0] # 7"
   ]
  },
  {
   "cell_type": "markdown",
   "id": "778fb775",
   "metadata": {},
   "source": [
    "## 모형 설계"
   ]
  },
  {
   "cell_type": "markdown",
   "id": "2434e405",
   "metadata": {},
   "source": [
    "Conv2D 레이어의 kernel_size와 filters, 그리고 MaxPool2D 레이어의 pool_size는 딥러닝 모델의 구조와 크기를 조절하는 하이퍼파라미터입니다. 이들 하이퍼파라미터의 값은 모델의 성능과 크기에 영향을 미칩니다.[chatGPT]\n",
    "\n",
    "- 일반적으로, kernel_size를 크게하면 더 넓은 영역을 커버하게 되어 모델의 성능이 향상될 수 있습니다. 그러나 커널의 크기가 너무 커지면 모델이 과도하게 복잡해져 학습 시간이 길어지거나, 모델의 크기가 커져 메모리 문제가 발생할 수 있습니다. 보통 kernel_size는 3x3 또는 5x5 정도로 설정하는 경우가 많습니다.\n",
    "\n",
    "- filters는 모델이 학습하는 특징 맵(feature map)의 개수입니다. 이 값이 클수록 모델이 더 복잡한 특징을 학습할 수 있습니다. 그러나 filters가 많을수록 모델의 크기가 커져 메모리 문제가 발생할 수 있습니다. 또한, filters의 개수가 너무 작으면 모델이 감지할 수 있는 패턴의 다양성이 부족해져 모델의 성능이 저하될 수 있습니다.\n",
    "\n",
    "- pool_size는 MaxPool2D 레이어에서 사용되는 필터의 크기입니다. Max pooling은 입력 이미지를 작게 축소시켜 불필요한 정보를 제거하고, 이미지의 중요한 특징만을 남기는 역할을 합니다. pool_size를 크게하면 모델의 크기가 줄어들어 계산량을 줄일 수 있지만, 이미지의 세부 정보가 손실될 수 있습니다. 일반적으로 pool_size는 2x2 또는 3x3으로 설정하는 경우가 많습니다.\n",
    "\n",
    "- padding 키워드 인자 : 'same'인 경우, convolution을 할 때 차원을 유지하기 위해 0을 추가한다(zero padding). 'valid'인 경우, 필터를 그대로 적용하여 kernel_size에 따라 차원이 줄어든다. "
   ]
  },
  {
   "cell_type": "code",
   "execution_count": 8,
   "id": "7315fb90",
   "metadata": {},
   "outputs": [],
   "source": [
    "model = tf.keras.models.Sequential()"
   ]
  },
  {
   "cell_type": "code",
   "execution_count": 9,
   "id": "44fe7fc8",
   "metadata": {},
   "outputs": [],
   "source": [
    "model.add(tf.keras.layers.Conv2D(input_shape=(28,28,1),\n",
    "                                kernel_size=[3,3],\n",
    "                                filters=32,\n",
    "                                activation='relu'))"
   ]
  },
  {
   "cell_type": "code",
   "execution_count": 10,
   "id": "925ea374",
   "metadata": {},
   "outputs": [],
   "source": [
    "model.add(tf.keras.layers.MaxPool2D(pool_size=(2,2)))"
   ]
  },
  {
   "cell_type": "code",
   "execution_count": 11,
   "id": "9d05c046",
   "metadata": {},
   "outputs": [],
   "source": [
    "model.add(tf.keras.layers.Conv2D(kernel_size=[3,3],\n",
    "                                filters=64,\n",
    "                                activation='relu'))"
   ]
  },
  {
   "cell_type": "code",
   "execution_count": 12,
   "id": "375279c5",
   "metadata": {},
   "outputs": [],
   "source": [
    "model.add(tf.keras.layers.MaxPool2D(pool_size=(2,2)))"
   ]
  },
  {
   "cell_type": "code",
   "execution_count": 13,
   "id": "e8f6746f",
   "metadata": {},
   "outputs": [],
   "source": [
    "model.add(tf.keras.layers.Conv2D(kernel_size=[3,3],\n",
    "                                filters=64,\n",
    "                                activation='relu'))"
   ]
  },
  {
   "cell_type": "code",
   "execution_count": 14,
   "id": "bb21976e",
   "metadata": {},
   "outputs": [],
   "source": [
    "model.add(tf.keras.layers.Flatten())"
   ]
  },
  {
   "cell_type": "code",
   "execution_count": 15,
   "id": "800c2718",
   "metadata": {},
   "outputs": [],
   "source": [
    "model.add(tf.keras.layers.Dense(units=64,activation='relu'))"
   ]
  },
  {
   "cell_type": "code",
   "execution_count": 16,
   "id": "8b19eb7a",
   "metadata": {},
   "outputs": [],
   "source": [
    "model.add(tf.keras.layers.Dense(units=10,activation='softmax'))"
   ]
  },
  {
   "cell_type": "markdown",
   "id": "7d77f04c",
   "metadata": {},
   "source": [
    "## 모형 컴파일"
   ]
  },
  {
   "cell_type": "code",
   "execution_count": 17,
   "id": "5905e181",
   "metadata": {},
   "outputs": [],
   "source": [
    "model.compile(optimizer='rmsprop',\n",
    "             loss='categorical_crossentropy',\n",
    "             metrics=['accuracy'])"
   ]
  },
  {
   "cell_type": "markdown",
   "id": "90866b65",
   "metadata": {},
   "source": [
    "## 모형 학습"
   ]
  },
  {
   "cell_type": "code",
   "execution_count": 18,
   "id": "f111e8f5",
   "metadata": {},
   "outputs": [],
   "source": [
    "BATCH_SIZE = 64\n",
    "VALIDATION_SPLIT=0.2"
   ]
  },
  {
   "cell_type": "code",
   "execution_count": 19,
   "id": "bc0eaa42",
   "metadata": {},
   "outputs": [],
   "source": [
    "tensorboard = tf.keras.callbacks.TensorBoard(\n",
    "    log_dir=\"D:/SKH/DevStudy/JupyterNotebook/kmu_itconsulting/log/images_CNN/\")"
   ]
  },
  {
   "cell_type": "code",
   "execution_count": 20,
   "id": "8d1a87ba",
   "metadata": {},
   "outputs": [
    {
     "name": "stdout",
     "output_type": "stream",
     "text": [
      "Epoch 1/20\n",
      "750/750 [==============================] - 14s 17ms/step - loss: 0.2028 - accuracy: 0.9351 - val_loss: 0.0675 - val_accuracy: 0.9814\n",
      "Epoch 2/20\n",
      "750/750 [==============================] - 14s 19ms/step - loss: 0.0538 - accuracy: 0.9833 - val_loss: 0.0735 - val_accuracy: 0.9764\n",
      "Epoch 3/20\n",
      "750/750 [==============================] - 15s 21ms/step - loss: 0.0359 - accuracy: 0.9888 - val_loss: 0.0440 - val_accuracy: 0.9872\n",
      "Epoch 4/20\n",
      "750/750 [==============================] - 16s 21ms/step - loss: 0.0263 - accuracy: 0.9916 - val_loss: 0.0437 - val_accuracy: 0.9885\n",
      "Epoch 5/20\n",
      "750/750 [==============================] - 16s 21ms/step - loss: 0.0202 - accuracy: 0.9937 - val_loss: 0.0451 - val_accuracy: 0.9881\n",
      "Epoch 6/20\n",
      "750/750 [==============================] - 14s 19ms/step - loss: 0.0170 - accuracy: 0.9947 - val_loss: 0.0347 - val_accuracy: 0.9909\n",
      "Epoch 7/20\n",
      "750/750 [==============================] - 14s 18ms/step - loss: 0.0127 - accuracy: 0.9958 - val_loss: 0.0484 - val_accuracy: 0.9883\n",
      "Epoch 8/20\n",
      "750/750 [==============================] - 14s 18ms/step - loss: 0.0107 - accuracy: 0.9965 - val_loss: 0.0437 - val_accuracy: 0.9908\n",
      "Epoch 9/20\n",
      "750/750 [==============================] - 14s 19ms/step - loss: 0.0094 - accuracy: 0.9969 - val_loss: 0.0459 - val_accuracy: 0.9902\n",
      "Epoch 10/20\n",
      "750/750 [==============================] - 14s 19ms/step - loss: 0.0076 - accuracy: 0.9978 - val_loss: 0.0549 - val_accuracy: 0.9898\n",
      "Epoch 11/20\n",
      "750/750 [==============================] - 14s 18ms/step - loss: 0.0072 - accuracy: 0.9977 - val_loss: 0.0509 - val_accuracy: 0.9910\n"
     ]
    }
   ],
   "source": [
    "history = model.fit(x=xTrain,y=yTrain,\n",
    "                   batch_size=BATCH_SIZE,\n",
    "                   epochs=20,\n",
    "                   validation_split=VALIDATION_SPLIT,\n",
    "                   callbacks=[tensorboard,\n",
    "                     tf.keras.callbacks.EarlyStopping(monitor='val_loss',patience=5)])"
   ]
  },
  {
   "cell_type": "markdown",
   "id": "0ab9112a",
   "metadata": {},
   "source": [
    "## 모형 테스트"
   ]
  },
  {
   "cell_type": "code",
   "execution_count": 21,
   "id": "118313e6",
   "metadata": {},
   "outputs": [
    {
     "name": "stdout",
     "output_type": "stream",
     "text": [
      "313/313 [==============================] - 1s 3ms/step - loss: 0.0405 - accuracy: 0.9915\n"
     ]
    }
   ],
   "source": [
    "test_loss, test_accuracy = model.evaluate(x=xTest,y=yTest)"
   ]
  },
  {
   "cell_type": "code",
   "execution_count": 22,
   "id": "65b83a31",
   "metadata": {},
   "outputs": [
    {
     "data": {
      "image/png": "[encoded data removed]",
      "text/plain": [
       "<Figure size 800x400 with 2 Axes>"
      ]
     },
     "metadata": {},
     "output_type": "display_data"
    }
   ],
   "source": [
    "plt.figure(figsize=(8,4))\n",
    "plt.subplot(1,2,1)\n",
    "plt.plot(history.history['loss'],'b-',label='loss')\n",
    "plt.plot(history.history['val_loss'],'r--',label='val_loss')\n",
    "plt.xlabel('Epoch')\n",
    "plt.legend()\n",
    "\n",
    "plt.subplot(1,2,2)\n",
    "plt.plot(history.history['accuracy'],'g-',label='accuracy')\n",
    "plt.plot(history.history['val_accuracy'],'k--',label='val_accuracy')\n",
    "plt.xlabel('Epoch')\n",
    "plt.legend()\n",
    "\n",
    "plt.show()"
   ]
  },
  {
   "cell_type": "markdown",
   "id": "e40cd8da",
   "metadata": {},
   "source": [
    "## Confusion Matrix를 활용해 실제값, 예측값 비교"
   ]
  },
  {
   "cell_type": "code",
   "execution_count": 23,
   "id": "dcf5bdba",
   "metadata": {},
   "outputs": [
    {
     "name": "stdout",
     "output_type": "stream",
     "text": [
      "313/313 [==============================] - 1s 3ms/step\n"
     ]
    }
   ],
   "source": [
    "yPredicted = model.predict(x=xTest)"
   ]
  },
  {
   "cell_type": "code",
   "execution_count": 25,
   "id": "01222868",
   "metadata": {},
   "outputs": [
    {
     "data": {
      "text/plain": [
       "array([[0., 0., 0., ..., 1., 0., 0.],\n",
       "       [0., 0., 1., ..., 0., 0., 0.],\n",
       "       [0., 1., 0., ..., 0., 0., 0.],\n",
       "       ...,\n",
       "       [0., 0., 0., ..., 0., 0., 0.],\n",
       "       [0., 0., 0., ..., 0., 0., 0.],\n",
       "       [0., 0., 0., ..., 0., 0., 0.]], dtype=float32)"
      ]
     },
     "execution_count": 25,
     "metadata": {},
     "output_type": "execute_result"
    }
   ],
   "source": [
    "yPredicted.round()"
   ]
  },
  {
   "cell_type": "code",
   "execution_count": 26,
   "id": "3dcc4b67",
   "metadata": {},
   "outputs": [],
   "source": [
    "yTest_decoded = np.argmax(yTest,axis=1)\n",
    "yPredicted_decoded = np.argmax(yPredicted,axis=1)"
   ]
  },
  {
   "cell_type": "code",
   "execution_count": 27,
   "id": "fb9ff6a4",
   "metadata": {},
   "outputs": [
    {
     "name": "stdout",
     "output_type": "stream",
     "text": [
      "[[ 978    0    1    0    0    1    3    0    4    1]\n",
      " [   0 1131    0    0    0    0    3    4    0    0]\n",
      " [   0    1 1027    2    0    0    1    5    2    0]\n",
      " [   0    1    0 1003    0    4    0    0    0    1]\n",
      " [   0    0    0    0  973    0    2    0    0    3]\n",
      " [   0    1    0    4    0  883    1    0    1    3]\n",
      " [   0    1    1    0    2    1  948    0    0    0]\n",
      " [   1    0    3    0    0    1    0 1016    1    4]\n",
      " [   1    0    0    1    2    1    0    2  964    5]\n",
      " [   0    0    0    0    5    1    0    1    2  992]]\n"
     ]
    }
   ],
   "source": [
    "cm = sm.confusion_matrix(yPredicted_decoded,yTest_decoded)\n",
    "print(cm)"
   ]
  },
  {
   "cell_type": "code",
   "execution_count": 30,
   "id": "f0eb3899",
   "metadata": {},
   "outputs": [
    {
     "name": "stdout",
     "output_type": "stream",
     "text": [
      "              precision    recall  f1-score   support\n",
      "\n",
      "           0       0.99      1.00      0.99       980\n",
      "           1       0.99      1.00      1.00      1135\n",
      "           2       0.99      1.00      0.99      1032\n",
      "           3       0.99      0.99      0.99      1010\n",
      "           4       0.99      0.99      0.99       982\n",
      "           5       0.99      0.99      0.99       892\n",
      "           6       0.99      0.99      0.99       958\n",
      "           7       0.99      0.99      0.99      1028\n",
      "           8       0.99      0.99      0.99       974\n",
      "           9       0.99      0.98      0.99      1009\n",
      "\n",
      "    accuracy                           0.99     10000\n",
      "   macro avg       0.99      0.99      0.99     10000\n",
      "weighted avg       0.99      0.99      0.99     10000\n",
      "\n"
     ]
    }
   ],
   "source": [
    "report = classification_report(yTest_decoded,yPredicted_decoded)\n",
    "print(report)"
   ]
  },
  {
   "cell_type": "code",
   "execution_count": null,
   "id": "b1dd0135",
   "metadata": {},
   "outputs": [],
   "source": []
  },
  {
   "cell_type": "markdown",
   "id": "58043728",
   "metadata": {},
   "source": [
    "# Max_pooling 2D "
   ]
  },
  {
   "cell_type": "code",
   "execution_count": 31,
   "id": "aae787fb",
   "metadata": {},
   "outputs": [],
   "source": [
    "x = tf.constant([[-7,2,2,-2,5],\n",
    "                [-11,-1,3,3,8],\n",
    "                [-10,0,-1,5,11],\n",
    "                [-14,4,3,1,11],\n",
    "                [-10,7,2,-4,8]])"
   ]
  },
  {
   "cell_type": "code",
   "execution_count": 32,
   "id": "ef71e32c",
   "metadata": {},
   "outputs": [
    {
     "data": {
      "text/plain": [
       "<tf.Tensor: shape=(5, 5), dtype=int32, numpy=\n",
       "array([[ -7,   2,   2,  -2,   5],\n",
       "       [-11,  -1,   3,   3,   8],\n",
       "       [-10,   0,  -1,   5,  11],\n",
       "       [-14,   4,   3,   1,  11],\n",
       "       [-10,   7,   2,  -4,   8]])>"
      ]
     },
     "execution_count": 32,
     "metadata": {},
     "output_type": "execute_result"
    }
   ],
   "source": [
    "x"
   ]
  },
  {
   "cell_type": "code",
   "execution_count": 33,
   "id": "b17dd420",
   "metadata": {},
   "outputs": [],
   "source": [
    "x = tf.reshape(x,[1,5,5,1])"
   ]
  },
  {
   "cell_type": "code",
   "execution_count": 35,
   "id": "16525540",
   "metadata": {},
   "outputs": [],
   "source": [
    "max_pool_2d = tf.keras.layers.MaxPooling2D(pool_size=(2,2),strides=2,padding='same')"
   ]
  },
  {
   "cell_type": "code",
   "execution_count": 38,
   "id": "7842b41d",
   "metadata": {},
   "outputs": [
    {
     "data": {
      "text/plain": [
       "<tf.Tensor: shape=(1, 3, 3, 1), dtype=int32, numpy=\n",
       "array([[[[ 2],\n",
       "         [ 3],\n",
       "         [ 8]],\n",
       "\n",
       "        [[ 4],\n",
       "         [ 5],\n",
       "         [11]],\n",
       "\n",
       "        [[ 7],\n",
       "         [ 2],\n",
       "         [ 8]]]])>"
      ]
     },
     "execution_count": 38,
     "metadata": {},
     "output_type": "execute_result"
    }
   ],
   "source": [
    "max_pool_2d(x)"
   ]
  },
  {
   "cell_type": "markdown",
   "id": "da551509",
   "metadata": {},
   "source": [
    "# Convolution"
   ]
  },
  {
   "cell_type": "code",
   "execution_count": 85,
   "id": "faf66f77",
   "metadata": {},
   "outputs": [],
   "source": [
    "x = tf.constant([[2.0,3.0,1.0,0.0,5.0],\n",
    "                [3.0,4.0,2.0,5.0,0.0],\n",
    "                [3.0,4.0,6.0,3.0,1.0],\n",
    "                [7.0,2.0,5.0,3.0,7.0],\n",
    "                [9.0,8.0,4.0,5.0,6.0]])"
   ]
  },
  {
   "cell_type": "code",
   "execution_count": 86,
   "id": "67fbb820",
   "metadata": {},
   "outputs": [],
   "source": [
    "x = tf.reshape(x,[1,5,5,1])"
   ]
  },
  {
   "cell_type": "code",
   "execution_count": 87,
   "id": "2d3d6877",
   "metadata": {},
   "outputs": [],
   "source": [
    "convolution = tf.keras.layers.Conv2D(filters=1,\n",
    "                                    kernel_size=(3, 3), \n",
    "                                    padding='same', \n",
    "                                    strides=1\n",
    "                                    )"
   ]
  },
  {
   "cell_type": "code",
   "execution_count": 88,
   "id": "fc5e40c4",
   "metadata": {},
   "outputs": [],
   "source": [
    "result = convolution(x)"
   ]
  },
  {
   "cell_type": "code",
   "execution_count": 89,
   "id": "afbd8de1",
   "metadata": {},
   "outputs": [
    {
     "data": {
      "text/plain": [
       "array([[[[-2.],\n",
       "         [-0.],\n",
       "         [ 1.],\n",
       "         [-2.],\n",
       "         [ 3.]],\n",
       "\n",
       "        [[-1.],\n",
       "         [ 1.],\n",
       "         [ 0.],\n",
       "         [ 3.],\n",
       "         [ 2.]],\n",
       "\n",
       "        [[-2.],\n",
       "         [ 4.],\n",
       "         [ 2.],\n",
       "         [ 3.],\n",
       "         [ 1.]],\n",
       "\n",
       "        [[-3.],\n",
       "         [ 2.],\n",
       "         [ 5.],\n",
       "         [ 2.],\n",
       "         [ 2.]],\n",
       "\n",
       "        [[ 2.],\n",
       "         [ 7.],\n",
       "         [ 3.],\n",
       "         [ 5.],\n",
       "         [ 4.]]]], dtype=float32)"
      ]
     },
     "execution_count": 89,
     "metadata": {},
     "output_type": "execute_result"
    }
   ],
   "source": [
    "np.round(result)"
   ]
  },
  {
   "cell_type": "code",
   "execution_count": null,
   "id": "7a1aa4ab",
   "metadata": {},
   "outputs": [],
   "source": []
  },
  {
   "cell_type": "code",
   "execution_count": null,
   "id": "b6d2f129",
   "metadata": {},
   "outputs": [],
   "source": []
  }
 ],
 "metadata": {
  "kernelspec": {
   "display_name": "Python 3 (ipykernel)",
   "language": "python",
   "name": "python3"
  },
  "language_info": {
   "codemirror_mode": {
    "name": "ipython",
    "version": 3
   },
   "file_extension": ".py",
   "mimetype": "text/x-python",
   "name": "python",
   "nbconvert_exporter": "python",
   "pygments_lexer": "ipython3",
   "version": "3.7.16"
  }
 },
 "nbformat": 4,
 "nbformat_minor": 5
}
