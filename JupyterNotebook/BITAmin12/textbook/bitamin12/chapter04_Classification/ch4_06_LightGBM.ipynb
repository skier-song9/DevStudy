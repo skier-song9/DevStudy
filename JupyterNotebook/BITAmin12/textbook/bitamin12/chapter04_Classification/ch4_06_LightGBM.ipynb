{
 "cells": [
  {
   "cell_type": "code",
   "execution_count": 1,
   "id": "8d12afd6",
   "metadata": {
    "ExecuteTime": {
     "end_time": "2023-09-08T01:45:04.168203Z",
     "start_time": "2023-09-08T01:45:03.107342Z"
    }
   },
   "outputs": [],
   "source": [
    "import lightgbm as lgbm"
   ]
  },
  {
   "cell_type": "code",
   "execution_count": 2,
   "id": "71455ba6",
   "metadata": {
    "ExecuteTime": {
     "end_time": "2023-09-08T01:45:04.186195Z",
     "start_time": "2023-09-08T01:45:04.170303Z"
    }
   },
   "outputs": [],
   "source": [
    "from lightgbm import LGBMClassifier"
   ]
  },
  {
   "cell_type": "code",
   "execution_count": 3,
   "id": "0d078e2f",
   "metadata": {
    "ExecuteTime": {
     "end_time": "2023-09-08T01:45:04.249235Z",
     "start_time": "2023-09-08T01:45:04.187738Z"
    }
   },
   "outputs": [],
   "source": [
    "import pandas as pd\n",
    "import numpy as np\n",
    "from sklearn.datasets import load_breast_cancer\n",
    "from sklearn.model_selection import train_test_split\n",
    "dataset = load_breast_cancer()\n",
    "cancer_df = pd.DataFrame(data=dataset.data,columns=dataset.feature_names)"
   ]
  },
  {
   "cell_type": "code",
   "execution_count": 4,
   "id": "b373ab05",
   "metadata": {
    "ExecuteTime": {
     "end_time": "2023-09-08T01:45:04.261939Z",
     "start_time": "2023-09-08T01:45:04.251949Z"
    }
   },
   "outputs": [],
   "source": [
    "cancer_df['target'] = dataset.target"
   ]
  },
  {
   "cell_type": "code",
   "execution_count": 5,
   "id": "989d8da8",
   "metadata": {
    "ExecuteTime": {
     "end_time": "2023-09-08T01:45:04.276629Z",
     "start_time": "2023-09-08T01:45:04.263008Z"
    }
   },
   "outputs": [],
   "source": [
    "X = cancer_df.iloc[:,:-1]\n",
    "Y = cancer_df.iloc[:,-1]"
   ]
  },
  {
   "cell_type": "code",
   "execution_count": 6,
   "id": "2e3a453d",
   "metadata": {
    "ExecuteTime": {
     "end_time": "2023-09-08T01:45:04.309629Z",
     "start_time": "2023-09-08T01:45:04.276629Z"
    },
    "scrolled": true
   },
   "outputs": [
    {
     "data": {
      "text/html": [
       "<div>\n",
       "<style scoped>\n",
       "    .dataframe tbody tr th:only-of-type {\n",
       "        vertical-align: middle;\n",
       "    }\n",
       "\n",
       "    .dataframe tbody tr th {\n",
       "        vertical-align: top;\n",
       "    }\n",
       "\n",
       "    .dataframe thead th {\n",
       "        text-align: right;\n",
       "    }\n",
       "</style>\n",
       "<table border=\"1\" class=\"dataframe\">\n",
       "  <thead>\n",
       "    <tr style=\"text-align: right;\">\n",
       "      <th></th>\n",
       "      <th>mean radius</th>\n",
       "      <th>mean texture</th>\n",
       "      <th>mean perimeter</th>\n",
       "      <th>mean area</th>\n",
       "      <th>mean smoothness</th>\n",
       "      <th>mean compactness</th>\n",
       "      <th>mean concavity</th>\n",
       "      <th>mean concave points</th>\n",
       "      <th>mean symmetry</th>\n",
       "      <th>mean fractal dimension</th>\n",
       "      <th>...</th>\n",
       "      <th>worst texture</th>\n",
       "      <th>worst perimeter</th>\n",
       "      <th>worst area</th>\n",
       "      <th>worst smoothness</th>\n",
       "      <th>worst compactness</th>\n",
       "      <th>worst concavity</th>\n",
       "      <th>worst concave points</th>\n",
       "      <th>worst symmetry</th>\n",
       "      <th>worst fractal dimension</th>\n",
       "      <th>target</th>\n",
       "    </tr>\n",
       "  </thead>\n",
       "  <tbody>\n",
       "    <tr>\n",
       "      <th>0</th>\n",
       "      <td>17.99</td>\n",
       "      <td>10.38</td>\n",
       "      <td>122.8</td>\n",
       "      <td>1001.0</td>\n",
       "      <td>0.11840</td>\n",
       "      <td>0.27760</td>\n",
       "      <td>0.3001</td>\n",
       "      <td>0.14710</td>\n",
       "      <td>0.2419</td>\n",
       "      <td>0.07871</td>\n",
       "      <td>...</td>\n",
       "      <td>17.33</td>\n",
       "      <td>184.6</td>\n",
       "      <td>2019.0</td>\n",
       "      <td>0.1622</td>\n",
       "      <td>0.6656</td>\n",
       "      <td>0.7119</td>\n",
       "      <td>0.2654</td>\n",
       "      <td>0.4601</td>\n",
       "      <td>0.11890</td>\n",
       "      <td>0</td>\n",
       "    </tr>\n",
       "    <tr>\n",
       "      <th>1</th>\n",
       "      <td>20.57</td>\n",
       "      <td>17.77</td>\n",
       "      <td>132.9</td>\n",
       "      <td>1326.0</td>\n",
       "      <td>0.08474</td>\n",
       "      <td>0.07864</td>\n",
       "      <td>0.0869</td>\n",
       "      <td>0.07017</td>\n",
       "      <td>0.1812</td>\n",
       "      <td>0.05667</td>\n",
       "      <td>...</td>\n",
       "      <td>23.41</td>\n",
       "      <td>158.8</td>\n",
       "      <td>1956.0</td>\n",
       "      <td>0.1238</td>\n",
       "      <td>0.1866</td>\n",
       "      <td>0.2416</td>\n",
       "      <td>0.1860</td>\n",
       "      <td>0.2750</td>\n",
       "      <td>0.08902</td>\n",
       "      <td>0</td>\n",
       "    </tr>\n",
       "    <tr>\n",
       "      <th>2</th>\n",
       "      <td>19.69</td>\n",
       "      <td>21.25</td>\n",
       "      <td>130.0</td>\n",
       "      <td>1203.0</td>\n",
       "      <td>0.10960</td>\n",
       "      <td>0.15990</td>\n",
       "      <td>0.1974</td>\n",
       "      <td>0.12790</td>\n",
       "      <td>0.2069</td>\n",
       "      <td>0.05999</td>\n",
       "      <td>...</td>\n",
       "      <td>25.53</td>\n",
       "      <td>152.5</td>\n",
       "      <td>1709.0</td>\n",
       "      <td>0.1444</td>\n",
       "      <td>0.4245</td>\n",
       "      <td>0.4504</td>\n",
       "      <td>0.2430</td>\n",
       "      <td>0.3613</td>\n",
       "      <td>0.08758</td>\n",
       "      <td>0</td>\n",
       "    </tr>\n",
       "  </tbody>\n",
       "</table>\n",
       "<p>3 rows × 31 columns</p>\n",
       "</div>"
      ],
      "text/plain": [
       "   mean radius  mean texture  mean perimeter  mean area  mean smoothness  \\\n",
       "0        17.99         10.38           122.8     1001.0          0.11840   \n",
       "1        20.57         17.77           132.9     1326.0          0.08474   \n",
       "2        19.69         21.25           130.0     1203.0          0.10960   \n",
       "\n",
       "   mean compactness  mean concavity  mean concave points  mean symmetry  \\\n",
       "0           0.27760          0.3001              0.14710         0.2419   \n",
       "1           0.07864          0.0869              0.07017         0.1812   \n",
       "2           0.15990          0.1974              0.12790         0.2069   \n",
       "\n",
       "   mean fractal dimension  ...  worst texture  worst perimeter  worst area  \\\n",
       "0                 0.07871  ...          17.33            184.6      2019.0   \n",
       "1                 0.05667  ...          23.41            158.8      1956.0   \n",
       "2                 0.05999  ...          25.53            152.5      1709.0   \n",
       "\n",
       "   worst smoothness  worst compactness  worst concavity  worst concave points  \\\n",
       "0            0.1622             0.6656           0.7119                0.2654   \n",
       "1            0.1238             0.1866           0.2416                0.1860   \n",
       "2            0.1444             0.4245           0.4504                0.2430   \n",
       "\n",
       "   worst symmetry  worst fractal dimension  target  \n",
       "0          0.4601                  0.11890       0  \n",
       "1          0.2750                  0.08902       0  \n",
       "2          0.3613                  0.08758       0  \n",
       "\n",
       "[3 rows x 31 columns]"
      ]
     },
     "execution_count": 6,
     "metadata": {},
     "output_type": "execute_result"
    }
   ],
   "source": [
    "cancer_df.head(3)"
   ]
  },
  {
   "cell_type": "code",
   "execution_count": 7,
   "id": "954e2cbb",
   "metadata": {
    "ExecuteTime": {
     "end_time": "2023-09-08T01:45:04.327514Z",
     "start_time": "2023-09-08T01:45:04.312096Z"
    }
   },
   "outputs": [],
   "source": [
    "X_train,X_test,y_train,y_test = train_test_split(X,Y,test_size=0.2,random_state=156)"
   ]
  },
  {
   "cell_type": "code",
   "execution_count": 8,
   "id": "30e01428",
   "metadata": {
    "ExecuteTime": {
     "end_time": "2023-09-08T01:45:04.343246Z",
     "start_time": "2023-09-08T01:45:04.329426Z"
    }
   },
   "outputs": [],
   "source": [
    "X_tr,X_val, y_tr,y_val = train_test_split(X_train,y_train,train_size=0.1,random_state=156)"
   ]
  },
  {
   "cell_type": "code",
   "execution_count": 9,
   "id": "554eb6f7",
   "metadata": {
    "ExecuteTime": {
     "end_time": "2023-09-08T01:45:04.360100Z",
     "start_time": "2023-09-08T01:45:04.344762Z"
    }
   },
   "outputs": [],
   "source": [
    "lgbm = LGBMClassifier(n_estimators=400,learning_rate=0.05)"
   ]
  },
  {
   "cell_type": "code",
   "execution_count": 10,
   "id": "962462c4",
   "metadata": {
    "ExecuteTime": {
     "end_time": "2023-09-08T01:45:04.376210Z",
     "start_time": "2023-09-08T01:45:04.362632Z"
    }
   },
   "outputs": [
    {
     "data": {
      "text/plain": [
       "{'boosting_type': 'gbdt',\n",
       " 'class_weight': None,\n",
       " 'colsample_bytree': 1.0,\n",
       " 'importance_type': 'split',\n",
       " 'learning_rate': 0.05,\n",
       " 'max_depth': -1,\n",
       " 'min_child_samples': 20,\n",
       " 'min_child_weight': 0.001,\n",
       " 'min_split_gain': 0.0,\n",
       " 'n_estimators': 400,\n",
       " 'n_jobs': -1,\n",
       " 'num_leaves': 31,\n",
       " 'objective': None,\n",
       " 'random_state': None,\n",
       " 'reg_alpha': 0.0,\n",
       " 'reg_lambda': 0.0,\n",
       " 'silent': 'warn',\n",
       " 'subsample': 1.0,\n",
       " 'subsample_for_bin': 200000,\n",
       " 'subsample_freq': 0}"
      ]
     },
     "execution_count": 10,
     "metadata": {},
     "output_type": "execute_result"
    }
   ],
   "source": [
    "lgbm.get_params()"
   ]
  },
  {
   "cell_type": "code",
   "execution_count": 11,
   "id": "085fed17",
   "metadata": {
    "ExecuteTime": {
     "end_time": "2023-09-08T01:45:04.411023Z",
     "start_time": "2023-09-08T01:45:04.377729Z"
    }
   },
   "outputs": [
    {
     "name": "stdout",
     "output_type": "stream",
     "text": [
      "[1]\ttraining's binary_logloss: 0.608658\tvalid_1's binary_logloss: 0.649336\n",
      "[2]\ttraining's binary_logloss: 0.582588\tvalid_1's binary_logloss: 0.624646\n",
      "[3]\ttraining's binary_logloss: 0.558372\tvalid_1's binary_logloss: 0.603649\n",
      "[4]\ttraining's binary_logloss: 0.536032\tvalid_1's binary_logloss: 0.583252\n",
      "[5]\ttraining's binary_logloss: 0.515354\tvalid_1's binary_logloss: 0.565583\n",
      "[6]\ttraining's binary_logloss: 0.495819\tvalid_1's binary_logloss: 0.5481\n",
      "[7]\ttraining's binary_logloss: 0.477857\tvalid_1's binary_logloss: 0.53132\n",
      "[8]\ttraining's binary_logloss: 0.460833\tvalid_1's binary_logloss: 0.515235\n",
      "[9]\ttraining's binary_logloss: 0.430475\tvalid_1's binary_logloss: 0.49499\n",
      "[10]\ttraining's binary_logloss: 0.40276\tvalid_1's binary_logloss: 0.477103\n",
      "[11]\ttraining's binary_logloss: 0.377354\tvalid_1's binary_logloss: 0.461278\n",
      "[12]\ttraining's binary_logloss: 0.353981\tvalid_1's binary_logloss: 0.447275\n",
      "[13]\ttraining's binary_logloss: 0.332415\tvalid_1's binary_logloss: 0.434893\n",
      "[14]\ttraining's binary_logloss: 0.312463\tvalid_1's binary_logloss: 0.423964\n",
      "[15]\ttraining's binary_logloss: 0.293962\tvalid_1's binary_logloss: 0.414343\n",
      "[16]\ttraining's binary_logloss: 0.276771\tvalid_1's binary_logloss: 0.405906\n",
      "[17]\ttraining's binary_logloss: 0.26077\tvalid_1's binary_logloss: 0.398547\n",
      "[18]\ttraining's binary_logloss: 0.245851\tvalid_1's binary_logloss: 0.392171\n",
      "[19]\ttraining's binary_logloss: 0.231921\tvalid_1's binary_logloss: 0.386694\n",
      "[20]\ttraining's binary_logloss: 0.218898\tvalid_1's binary_logloss: 0.382045\n",
      "[21]\ttraining's binary_logloss: 0.206708\tvalid_1's binary_logloss: 0.378157\n",
      "[22]\ttraining's binary_logloss: 0.195286\tvalid_1's binary_logloss: 0.374973\n",
      "[23]\ttraining's binary_logloss: 0.184572\tvalid_1's binary_logloss: 0.372439\n",
      "[24]\ttraining's binary_logloss: 0.174513\tvalid_1's binary_logloss: 0.370508\n",
      "[25]\ttraining's binary_logloss: 0.165062\tvalid_1's binary_logloss: 0.369137\n",
      "[26]\ttraining's binary_logloss: 0.156175\tvalid_1's binary_logloss: 0.368288\n",
      "[27]\ttraining's binary_logloss: 0.147813\tvalid_1's binary_logloss: 0.367924\n",
      "[28]\ttraining's binary_logloss: 0.139938\tvalid_1's binary_logloss: 0.368013\n",
      "[29]\ttraining's binary_logloss: 0.13252\tvalid_1's binary_logloss: 0.368525\n",
      "[30]\ttraining's binary_logloss: 0.125526\tvalid_1's binary_logloss: 0.369433\n",
      "[31]\ttraining's binary_logloss: 0.118929\tvalid_1's binary_logloss: 0.370711\n",
      "[32]\ttraining's binary_logloss: 0.112704\tvalid_1's binary_logloss: 0.372337\n",
      "[33]\ttraining's binary_logloss: 0.106827\tvalid_1's binary_logloss: 0.374289\n",
      "[34]\ttraining's binary_logloss: 0.101276\tvalid_1's binary_logloss: 0.376546\n",
      "[35]\ttraining's binary_logloss: 0.0960313\tvalid_1's binary_logloss: 0.379091\n",
      "[36]\ttraining's binary_logloss: 0.0910737\tvalid_1's binary_logloss: 0.381907\n",
      "[37]\ttraining's binary_logloss: 0.086386\tvalid_1's binary_logloss: 0.384976\n",
      "[38]\ttraining's binary_logloss: 0.0819521\tvalid_1's binary_logloss: 0.388285\n",
      "[39]\ttraining's binary_logloss: 0.0777569\tvalid_1's binary_logloss: 0.39182\n",
      "[40]\ttraining's binary_logloss: 0.0737863\tvalid_1's binary_logloss: 0.395567\n",
      "[41]\ttraining's binary_logloss: 0.0700275\tvalid_1's binary_logloss: 0.399515\n",
      "[42]\ttraining's binary_logloss: 0.0664681\tvalid_1's binary_logloss: 0.403652\n",
      "[43]\ttraining's binary_logloss: 0.0630968\tvalid_1's binary_logloss: 0.407967\n",
      "[44]\ttraining's binary_logloss: 0.0599028\tvalid_1's binary_logloss: 0.412452\n",
      "[45]\ttraining's binary_logloss: 0.0568763\tvalid_1's binary_logloss: 0.417096\n",
      "[46]\ttraining's binary_logloss: 0.0540079\tvalid_1's binary_logloss: 0.42189\n",
      "[47]\ttraining's binary_logloss: 0.0512887\tvalid_1's binary_logloss: 0.426827\n",
      "[48]\ttraining's binary_logloss: 0.0487106\tvalid_1's binary_logloss: 0.431899\n",
      "[49]\ttraining's binary_logloss: 0.0462659\tvalid_1's binary_logloss: 0.437098\n",
      "[50]\ttraining's binary_logloss: 0.0439471\tvalid_1's binary_logloss: 0.442417\n",
      "[51]\ttraining's binary_logloss: 0.0417477\tvalid_1's binary_logloss: 0.447851\n",
      "[52]\ttraining's binary_logloss: 0.039661\tvalid_1's binary_logloss: 0.453394\n",
      "[53]\ttraining's binary_logloss: 0.037681\tvalid_1's binary_logloss: 0.459038\n",
      "[54]\ttraining's binary_logloss: 0.0358021\tvalid_1's binary_logloss: 0.46478\n",
      "[55]\ttraining's binary_logloss: 0.0340189\tvalid_1's binary_logloss: 0.470613\n",
      "[56]\ttraining's binary_logloss: 0.0323262\tvalid_1's binary_logloss: 0.476534\n",
      "[57]\ttraining's binary_logloss: 0.0307194\tvalid_1's binary_logloss: 0.482537\n",
      "[58]\ttraining's binary_logloss: 0.0291939\tvalid_1's binary_logloss: 0.488619\n",
      "[59]\ttraining's binary_logloss: 0.0277455\tvalid_1's binary_logloss: 0.494774\n",
      "[60]\ttraining's binary_logloss: 0.0263701\tvalid_1's binary_logloss: 0.501001\n",
      "[61]\ttraining's binary_logloss: 0.0250639\tvalid_1's binary_logloss: 0.507294\n",
      "[62]\ttraining's binary_logloss: 0.0238234\tvalid_1's binary_logloss: 0.51365\n",
      "[63]\ttraining's binary_logloss: 0.0226451\tvalid_1's binary_logloss: 0.520067\n",
      "[64]\ttraining's binary_logloss: 0.0215259\tvalid_1's binary_logloss: 0.52654\n",
      "[65]\ttraining's binary_logloss: 0.0204627\tvalid_1's binary_logloss: 0.533068\n",
      "[66]\ttraining's binary_logloss: 0.0194527\tvalid_1's binary_logloss: 0.539647\n",
      "[67]\ttraining's binary_logloss: 0.0184931\tvalid_1's binary_logloss: 0.546275\n",
      "[68]\ttraining's binary_logloss: 0.0175813\tvalid_1's binary_logloss: 0.552949\n",
      "[69]\ttraining's binary_logloss: 0.016715\tvalid_1's binary_logloss: 0.559668\n",
      "[70]\ttraining's binary_logloss: 0.0158917\tvalid_1's binary_logloss: 0.566428\n",
      "[71]\ttraining's binary_logloss: 0.0151094\tvalid_1's binary_logloss: 0.573228\n",
      "[72]\ttraining's binary_logloss: 0.014366\tvalid_1's binary_logloss: 0.580065\n",
      "[73]\ttraining's binary_logloss: 0.0136594\tvalid_1's binary_logloss: 0.586938\n",
      "[74]\ttraining's binary_logloss: 0.0129878\tvalid_1's binary_logloss: 0.593845\n",
      "[75]\ttraining's binary_logloss: 0.0123496\tvalid_1's binary_logloss: 0.600785\n",
      "[76]\ttraining's binary_logloss: 0.0117429\tvalid_1's binary_logloss: 0.607755\n",
      "[77]\ttraining's binary_logloss: 0.0111662\tvalid_1's binary_logloss: 0.614754\n"
     ]
    },
    {
     "name": "stderr",
     "output_type": "stream",
     "text": [
      "C:\\Users\\songkyu\\anaconda3\\envs\\Python39_DA\\lib\\site-packages\\lightgbm\\sklearn.py:726: UserWarning: 'early_stopping_rounds' argument is deprecated and will be removed in a future release of LightGBM. Pass 'early_stopping()' callback via 'callbacks' argument instead.\n",
      "  _log_warning(\"'early_stopping_rounds' argument is deprecated and will be removed in a future release of LightGBM. \"\n",
      "C:\\Users\\songkyu\\anaconda3\\envs\\Python39_DA\\lib\\site-packages\\lightgbm\\sklearn.py:736: UserWarning: 'verbose' argument is deprecated and will be removed in a future release of LightGBM. Pass 'log_evaluation()' callback via 'callbacks' argument instead.\n",
      "  _log_warning(\"'verbose' argument is deprecated and will be removed in a future release of LightGBM. \"\n"
     ]
    },
    {
     "data": {
      "text/html": [
       "<style>#sk-container-id-1 {color: black;}#sk-container-id-1 pre{padding: 0;}#sk-container-id-1 div.sk-toggleable {background-color: white;}#sk-container-id-1 label.sk-toggleable__label {cursor: pointer;display: block;width: 100%;margin-bottom: 0;padding: 0.3em;box-sizing: border-box;text-align: center;}#sk-container-id-1 label.sk-toggleable__label-arrow:before {content: \"▸\";float: left;margin-right: 0.25em;color: #696969;}#sk-container-id-1 label.sk-toggleable__label-arrow:hover:before {color: black;}#sk-container-id-1 div.sk-estimator:hover label.sk-toggleable__label-arrow:before {color: black;}#sk-container-id-1 div.sk-toggleable__content {max-height: 0;max-width: 0;overflow: hidden;text-align: left;background-color: #f0f8ff;}#sk-container-id-1 div.sk-toggleable__content pre {margin: 0.2em;color: black;border-radius: 0.25em;background-color: #f0f8ff;}#sk-container-id-1 input.sk-toggleable__control:checked~div.sk-toggleable__content {max-height: 200px;max-width: 100%;overflow: auto;}#sk-container-id-1 input.sk-toggleable__control:checked~label.sk-toggleable__label-arrow:before {content: \"▾\";}#sk-container-id-1 div.sk-estimator input.sk-toggleable__control:checked~label.sk-toggleable__label {background-color: #d4ebff;}#sk-container-id-1 div.sk-label input.sk-toggleable__control:checked~label.sk-toggleable__label {background-color: #d4ebff;}#sk-container-id-1 input.sk-hidden--visually {border: 0;clip: rect(1px 1px 1px 1px);clip: rect(1px, 1px, 1px, 1px);height: 1px;margin: -1px;overflow: hidden;padding: 0;position: absolute;width: 1px;}#sk-container-id-1 div.sk-estimator {font-family: monospace;background-color: #f0f8ff;border: 1px dotted black;border-radius: 0.25em;box-sizing: border-box;margin-bottom: 0.5em;}#sk-container-id-1 div.sk-estimator:hover {background-color: #d4ebff;}#sk-container-id-1 div.sk-parallel-item::after {content: \"\";width: 100%;border-bottom: 1px solid gray;flex-grow: 1;}#sk-container-id-1 div.sk-label:hover label.sk-toggleable__label {background-color: #d4ebff;}#sk-container-id-1 div.sk-serial::before {content: \"\";position: absolute;border-left: 1px solid gray;box-sizing: border-box;top: 0;bottom: 0;left: 50%;z-index: 0;}#sk-container-id-1 div.sk-serial {display: flex;flex-direction: column;align-items: center;background-color: white;padding-right: 0.2em;padding-left: 0.2em;position: relative;}#sk-container-id-1 div.sk-item {position: relative;z-index: 1;}#sk-container-id-1 div.sk-parallel {display: flex;align-items: stretch;justify-content: center;background-color: white;position: relative;}#sk-container-id-1 div.sk-item::before, #sk-container-id-1 div.sk-parallel-item::before {content: \"\";position: absolute;border-left: 1px solid gray;box-sizing: border-box;top: 0;bottom: 0;left: 50%;z-index: -1;}#sk-container-id-1 div.sk-parallel-item {display: flex;flex-direction: column;z-index: 1;position: relative;background-color: white;}#sk-container-id-1 div.sk-parallel-item:first-child::after {align-self: flex-end;width: 50%;}#sk-container-id-1 div.sk-parallel-item:last-child::after {align-self: flex-start;width: 50%;}#sk-container-id-1 div.sk-parallel-item:only-child::after {width: 0;}#sk-container-id-1 div.sk-dashed-wrapped {border: 1px dashed gray;margin: 0 0.4em 0.5em 0.4em;box-sizing: border-box;padding-bottom: 0.4em;background-color: white;}#sk-container-id-1 div.sk-label label {font-family: monospace;font-weight: bold;display: inline-block;line-height: 1.2em;}#sk-container-id-1 div.sk-label-container {text-align: center;}#sk-container-id-1 div.sk-container {/* jupyter's `normalize.less` sets `[hidden] { display: none; }` but bootstrap.min.css set `[hidden] { display: none !important; }` so we also need the `!important` here to be able to override the default hidden behavior on the sphinx rendered scikit-learn.org. See: https://github.com/scikit-learn/scikit-learn/issues/21755 */display: inline-block !important;position: relative;}#sk-container-id-1 div.sk-text-repr-fallback {display: none;}</style><div id=\"sk-container-id-1\" class=\"sk-top-container\"><div class=\"sk-text-repr-fallback\"><pre>LGBMClassifier(learning_rate=0.05, n_estimators=400)</pre><b>In a Jupyter environment, please rerun this cell to show the HTML representation or trust the notebook. <br />On GitHub, the HTML representation is unable to render, please try loading this page with nbviewer.org.</b></div><div class=\"sk-container\" hidden><div class=\"sk-item\"><div class=\"sk-estimator sk-toggleable\"><input class=\"sk-toggleable__control sk-hidden--visually\" id=\"sk-estimator-id-1\" type=\"checkbox\" checked><label for=\"sk-estimator-id-1\" class=\"sk-toggleable__label sk-toggleable__label-arrow\">LGBMClassifier</label><div class=\"sk-toggleable__content\"><pre>LGBMClassifier(learning_rate=0.05, n_estimators=400)</pre></div></div></div></div></div>"
      ],
      "text/plain": [
       "LGBMClassifier(learning_rate=0.05, n_estimators=400)"
      ]
     },
     "execution_count": 11,
     "metadata": {},
     "output_type": "execute_result"
    }
   ],
   "source": [
    "evals = [(X_tr,y_tr),(X_val,y_val)]\n",
    "lgbm.fit(X_tr,y_tr,early_stopping_rounds=50,eval_metric='logloss',eval_set=evals,verbose=True)"
   ]
  },
  {
   "cell_type": "code",
   "execution_count": 12,
   "id": "f5436d2c",
   "metadata": {
    "ExecuteTime": {
     "end_time": "2023-09-08T01:45:04.418214Z",
     "start_time": "2023-09-08T01:45:04.413024Z"
    }
   },
   "outputs": [],
   "source": [
    "from sklearn.metrics import confusion_matrix,accuracy_score,precision_score,recall_score,f1_score,roc_auc_score\n",
    "def get_clf_eval(y_test,pred=None,pred_proba=None):\n",
    "    confusion = confusion_matrix(y_test,pred)\n",
    "    accuracy = accuracy_score(y_test,pred)\n",
    "    precision = precision_score(y_test,pred)\n",
    "    recall = recall_score(y_test,pred)\n",
    "    f1 = f1_score(y_test,pred)\n",
    "    roc_auc = roc_auc_score(y_test,pred_proba)\n",
    "    print('오차행렬')\n",
    "    print(confusion)\n",
    "    print('Precision: {:.4f}, Recall: {:.4f}, Accuracy: {:.4f}'.format(precision,recall,accuracy))\n",
    "    print('F1-score: {:.4f}, ROC-AUC: {:.4f}'.format(f1,roc_auc))"
   ]
  },
  {
   "cell_type": "code",
   "execution_count": 13,
   "id": "22ef8d1d",
   "metadata": {
    "ExecuteTime": {
     "end_time": "2023-09-08T01:45:04.429611Z",
     "start_time": "2023-09-08T01:45:04.418214Z"
    }
   },
   "outputs": [],
   "source": [
    "preds = lgbm.predict(X_test)\n",
    "pred_proba = lgbm.predict_proba(X_test)[:,1]"
   ]
  },
  {
   "cell_type": "code",
   "execution_count": 14,
   "id": "997067b9",
   "metadata": {
    "ExecuteTime": {
     "end_time": "2023-09-08T01:45:04.444278Z",
     "start_time": "2023-09-08T01:45:04.429611Z"
    }
   },
   "outputs": [
    {
     "name": "stdout",
     "output_type": "stream",
     "text": [
      "오차행렬\n",
      "[[28  9]\n",
      " [ 4 73]]\n",
      "Precision: 0.8902, Recall: 0.9481, Accuracy: 0.8860\n",
      "F1-score: 0.9182, ROC-AUC: 0.9568\n"
     ]
    }
   ],
   "source": [
    "get_clf_eval(y_test,preds,pred_proba)"
   ]
  },
  {
   "cell_type": "code",
   "execution_count": 15,
   "id": "2690b5d2",
   "metadata": {
    "ExecuteTime": {
     "end_time": "2023-09-08T01:45:04.911694Z",
     "start_time": "2023-09-08T01:45:04.446185Z"
    }
   },
   "outputs": [
    {
     "data": {
      "text/plain": [
       "<Axes: title={'center': 'Feature importance'}, xlabel='Feature importance', ylabel='Features'>"
      ]
     },
     "execution_count": 15,
     "metadata": {},
     "output_type": "execute_result"
    },
    {
     "data": {
      "image/png": "[encoded data removed]",
      "text/plain": [
       "<Figure size 1000x1200 with 1 Axes>"
      ]
     },
     "metadata": {},
     "output_type": "display_data"
    }
   ],
   "source": [
    "from lightgbm import plot_importance\n",
    "import matplotlib.pyplot as plt\n",
    "fig,ax = plt.subplots(figsize=(10,12))\n",
    "plot_importance(lgbm,ax=ax)"
   ]
  },
  {
   "cell_type": "code",
   "execution_count": 16,
   "id": "0720b0eb",
   "metadata": {
    "ExecuteTime": {
     "end_time": "2023-09-08T01:45:04.926884Z",
     "start_time": "2023-09-08T01:45:04.912742Z"
    }
   },
   "outputs": [
    {
     "data": {
      "text/plain": [
       "{'boosting_type': 'gbdt',\n",
       " 'class_weight': None,\n",
       " 'colsample_bytree': 1.0,\n",
       " 'importance_type': 'split',\n",
       " 'learning_rate': 0.05,\n",
       " 'max_depth': -1,\n",
       " 'min_child_samples': 20,\n",
       " 'min_child_weight': 0.001,\n",
       " 'min_split_gain': 0.0,\n",
       " 'n_estimators': 400,\n",
       " 'n_jobs': -1,\n",
       " 'num_leaves': 31,\n",
       " 'objective': None,\n",
       " 'random_state': None,\n",
       " 'reg_alpha': 0.0,\n",
       " 'reg_lambda': 0.0,\n",
       " 'silent': 'warn',\n",
       " 'subsample': 1.0,\n",
       " 'subsample_for_bin': 200000,\n",
       " 'subsample_freq': 0}"
      ]
     },
     "execution_count": 16,
     "metadata": {},
     "output_type": "execute_result"
    }
   ],
   "source": [
    "lgbm.get_params()"
   ]
  },
  {
   "cell_type": "code",
   "execution_count": 18,
   "id": "d9e8d1d3",
   "metadata": {
    "ExecuteTime": {
     "end_time": "2023-09-08T01:45:18.820364Z",
     "start_time": "2023-09-08T01:45:18.805989Z"
    }
   },
   "outputs": [
    {
     "data": {
      "text/plain": [
       "array([ 0,  0,  0,  0,  0,  0,  0,  2,  0,  0,  0,  0,  0, 21,  0,  0,  0,\n",
       "        0,  0,  0,  2,  0,  0,  1,  0,  0,  0,  1,  0,  0])"
      ]
     },
     "execution_count": 18,
     "metadata": {},
     "output_type": "execute_result"
    }
   ],
   "source": [
    "lgbm.feature_importances_"
   ]
  }
 ],
 "metadata": {
  "kernelspec": {
   "display_name": "Python 3 (ipykernel)",
   "language": "python",
   "name": "python3"
  },
  "language_info": {
   "codemirror_mode": {
    "name": "ipython",
    "version": 3
   },
   "file_extension": ".py",
   "mimetype": "text/x-python",
   "name": "python",
   "nbconvert_exporter": "python",
   "pygments_lexer": "ipython3",
   "version": "3.9.17"
  }
 },
 "nbformat": 4,
 "nbformat_minor": 5
}
