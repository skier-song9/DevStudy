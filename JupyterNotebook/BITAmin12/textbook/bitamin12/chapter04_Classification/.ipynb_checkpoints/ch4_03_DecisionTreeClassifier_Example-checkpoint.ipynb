{
 "cells": [
  {
   "cell_type": "markdown",
   "id": "b67a6279",
   "metadata": {},
   "source": [
    "# 교재 p.200 사용자 행동 인식 데이터"
   ]
  },
  {
   "cell_type": "code",
   "execution_count": 20,
   "id": "faba706a",
   "metadata": {
    "ExecuteTime": {
     "end_time": "2023-08-25T14:21:58.405603Z",
     "start_time": "2023-08-25T14:21:58.399424Z"
    }
   },
   "outputs": [],
   "source": [
    "import pandas as pd\n",
    "import numpy as np\n",
    "import matplotlib.pyplot as plt\n",
    "%matplotlib inline\n",
    "from sklearn.tree import DecisionTreeClassifier\n",
    "from sklearn.metrics import accuracy_score\n",
    "from sklearn.model_selection import GridSearchCV"
   ]
  },
  {
   "cell_type": "code",
   "execution_count": 3,
   "id": "99339b30",
   "metadata": {
    "ExecuteTime": {
     "end_time": "2023-08-25T14:01:31.089524Z",
     "start_time": "2023-08-25T14:01:31.073712Z"
    }
   },
   "outputs": [
    {
     "name": "stdout",
     "output_type": "stream",
     "text": [
      "전체 피처명에서 10개만 추출: ['tBodyAcc-mean()-X', 'tBodyAcc-mean()-Y', 'tBodyAcc-mean()-Z', 'tBodyAcc-std()-X', 'tBodyAcc-std()-Y', 'tBodyAcc-std()-Z', 'tBodyAcc-mad()-X', 'tBodyAcc-mad()-Y', 'tBodyAcc-mad()-Z', 'tBodyAcc-max()-X']\n"
     ]
    }
   ],
   "source": [
    "feature_name_df = pd.read_csv('../../data/human_activity/features.txt',sep='\\s+',\n",
    "                             header=None,names=['column_index','column_name'])\n",
    "feature_name = feature_name_df.iloc[:,1].values.tolist()\n",
    "print('전체 피처명에서 10개만 추출:',feature_name[:10])"
   ]
  },
  {
   "cell_type": "code",
   "execution_count": 6,
   "id": "3b05d96c",
   "metadata": {
    "ExecuteTime": {
     "end_time": "2023-08-25T14:03:51.965979Z",
     "start_time": "2023-08-25T14:03:51.949445Z"
    }
   },
   "outputs": [
    {
     "name": "stdout",
     "output_type": "stream",
     "text": [
      "column_index    42\n",
      "dtype: int64\n"
     ]
    },
    {
     "data": {
      "text/html": [
       "<div>\n",
       "<style scoped>\n",
       "    .dataframe tbody tr th:only-of-type {\n",
       "        vertical-align: middle;\n",
       "    }\n",
       "\n",
       "    .dataframe tbody tr th {\n",
       "        vertical-align: top;\n",
       "    }\n",
       "\n",
       "    .dataframe thead th {\n",
       "        text-align: right;\n",
       "    }\n",
       "</style>\n",
       "<table border=\"1\" class=\"dataframe\">\n",
       "  <thead>\n",
       "    <tr style=\"text-align: right;\">\n",
       "      <th></th>\n",
       "      <th>column_index</th>\n",
       "    </tr>\n",
       "    <tr>\n",
       "      <th>column_name</th>\n",
       "      <th></th>\n",
       "    </tr>\n",
       "  </thead>\n",
       "  <tbody>\n",
       "    <tr>\n",
       "      <th>fBodyAcc-bandsEnergy()-1,16</th>\n",
       "      <td>3</td>\n",
       "    </tr>\n",
       "    <tr>\n",
       "      <th>fBodyAcc-bandsEnergy()-1,24</th>\n",
       "      <td>3</td>\n",
       "    </tr>\n",
       "    <tr>\n",
       "      <th>fBodyAcc-bandsEnergy()-1,8</th>\n",
       "      <td>3</td>\n",
       "    </tr>\n",
       "    <tr>\n",
       "      <th>fBodyAcc-bandsEnergy()-17,24</th>\n",
       "      <td>3</td>\n",
       "    </tr>\n",
       "    <tr>\n",
       "      <th>fBodyAcc-bandsEnergy()-17,32</th>\n",
       "      <td>3</td>\n",
       "    </tr>\n",
       "  </tbody>\n",
       "</table>\n",
       "</div>"
      ],
      "text/plain": [
       "                              column_index\n",
       "column_name                               \n",
       "fBodyAcc-bandsEnergy()-1,16              3\n",
       "fBodyAcc-bandsEnergy()-1,24              3\n",
       "fBodyAcc-bandsEnergy()-1,8               3\n",
       "fBodyAcc-bandsEnergy()-17,24             3\n",
       "fBodyAcc-bandsEnergy()-17,32             3"
      ]
     },
     "execution_count": 6,
     "metadata": {},
     "output_type": "execute_result"
    }
   ],
   "source": [
    "# 피처명 중복 확인\n",
    "feature_dup_df = feature_name_df.groupby('column_name').count()\n",
    "print(feature_dup_df[feature_dup_df['column_index']>1].count())\n",
    "feature_dup_df[feature_dup_df['column_index']>1].head()\n",
    "\n",
    "# 총 42개의 피처명이 중복되어 있음."
   ]
  },
  {
   "cell_type": "code",
   "execution_count": 7,
   "id": "efd02923",
   "metadata": {
    "ExecuteTime": {
     "end_time": "2023-08-25T14:07:32.140750Z",
     "start_time": "2023-08-25T14:07:32.132742Z"
    }
   },
   "outputs": [],
   "source": [
    "# 중복된 피처명 처리\n",
    "def get_new_feature_name_df(old_featre_name_df):\n",
    "    feature_dup_df = pd.DataFrame(data = old_featre_name_df.groupby('column_name').cumcount(),\n",
    "                                 columns=['dup_cnt'])\n",
    "    feature_dup_df = feature_dup_df.reset_index()\n",
    "    new_feature_dup_df = pd.merge(old_featre_name_df.reset_index(),feature_dup_df,how='outer')\n",
    "    new_feature_dup_df['column_name'] = new_feature_dup_df[['column_name','dup_cnt']].apply(lambda x : x[0]+'_'+str(x[1]) if x[1] > 0 else x[0],axis=1)\n",
    "    new_feature_dup_df = new_feature_dup_df.drop(['index'],axis=1)\n",
    "    return new_feature_dup_df"
   ]
  },
  {
   "cell_type": "code",
   "execution_count": 10,
   "id": "193ed431",
   "metadata": {
    "ExecuteTime": {
     "end_time": "2023-08-25T14:14:55.632364Z",
     "start_time": "2023-08-25T14:14:55.609889Z"
    }
   },
   "outputs": [],
   "source": [
    "def get_human_dataset():\n",
    "    feature_name_df = pd.read_csv('../../data/human_activity/features.txt',sep='\\s+',header=None,names=['column_index','column_name'])\n",
    "    # 중복된 피처명을 수정. get_new_feature_name_df() 호출\n",
    "    new_feature_name_df = get_new_feature_name_df(feature_name_df)\n",
    "    # DF객체에 피처명을 컬럼명으로 부여하기 위해 리스트로 변환\n",
    "    feature_name = new_feature_name_df.iloc[:,1].values.tolist()\n",
    "    # 학습 피처 데이터셋과 테스트 피처 데이터셋 로드\n",
    "    X_train = pd.read_csv('../../data/human_activity/train/X_train.txt',sep='\\s+',names=feature_name)\n",
    "    X_test = pd.read_csv('../../data/human_activity/test/X_test.txt',sep='\\s+',names=feature_name)\n",
    "    # 학습, 테스트 레이블 데이터 로드\n",
    "    y_train = pd.read_csv('../../data/human_activity/train/y_train.txt',sep='\\s+',header=None,names=['action'])\n",
    "    y_test = pd.read_csv('../../data/human_activity/test/y_test.txt',sep='\\s+',header=None,names=['action'])\n",
    "    return X_train, X_test, y_train, y_test"
   ]
  },
  {
   "cell_type": "code",
   "execution_count": 11,
   "id": "9702b7b9",
   "metadata": {
    "ExecuteTime": {
     "end_time": "2023-08-25T14:14:59.980612Z",
     "start_time": "2023-08-25T14:14:56.971143Z"
    }
   },
   "outputs": [],
   "source": [
    "X_train, X_test, y_train, y_test = get_human_dataset()"
   ]
  },
  {
   "cell_type": "code",
   "execution_count": 12,
   "id": "a1460f31",
   "metadata": {
    "ExecuteTime": {
     "end_time": "2023-08-25T14:15:22.641640Z",
     "start_time": "2023-08-25T14:15:22.608816Z"
    }
   },
   "outputs": [
    {
     "name": "stdout",
     "output_type": "stream",
     "text": [
      "## 학습 피처 데이터셋 info\n",
      "<class 'pandas.core.frame.DataFrame'>\n",
      "RangeIndex: 7352 entries, 0 to 7351\n",
      "Columns: 561 entries, tBodyAcc-mean()-X to angle(Z,gravityMean)\n",
      "dtypes: float64(561)\n",
      "memory usage: 31.5 MB\n"
     ]
    }
   ],
   "source": [
    "print('## 학습 피처 데이터셋 info')\n",
    "X_train.info()"
   ]
  },
  {
   "cell_type": "code",
   "execution_count": 14,
   "id": "11524466",
   "metadata": {
    "ExecuteTime": {
     "end_time": "2023-08-25T14:16:25.835851Z",
     "start_time": "2023-08-25T14:16:25.826382Z"
    }
   },
   "outputs": [
    {
     "name": "stdout",
     "output_type": "stream",
     "text": [
      "## 레이블의 클래스\n"
     ]
    },
    {
     "data": {
      "text/plain": [
       "action\n",
       "6         1407\n",
       "5         1374\n",
       "4         1286\n",
       "1         1226\n",
       "2         1073\n",
       "3          986\n",
       "dtype: int64"
      ]
     },
     "execution_count": 14,
     "metadata": {},
     "output_type": "execute_result"
    }
   ],
   "source": [
    "print('## 레이블의 클래스')\n",
    "y_train.value_counts()"
   ]
  },
  {
   "cell_type": "markdown",
   "id": "fc2bd96b",
   "metadata": {},
   "source": [
    "# DecisionTreeClassifier"
   ]
  },
  {
   "cell_type": "code",
   "execution_count": 24,
   "id": "e3fc74b7",
   "metadata": {
    "ExecuteTime": {
     "end_time": "2023-08-25T14:26:18.663474Z",
     "start_time": "2023-08-25T14:26:15.476762Z"
    }
   },
   "outputs": [
    {
     "name": "stdout",
     "output_type": "stream",
     "text": [
      "결정 트리 예측 정확도: 0.8548\n",
      "결정 트리의 default 하이퍼 파라미터:\n",
      " {'ccp_alpha': 0.0, 'class_weight': None, 'criterion': 'gini', 'max_depth': None, 'max_features': None, 'max_leaf_nodes': None, 'min_impurity_decrease': 0.0, 'min_samples_leaf': 1, 'min_samples_split': 2, 'min_weight_fraction_leaf': 0.0, 'random_state': 156, 'splitter': 'best'}\n"
     ]
    }
   ],
   "source": [
    "dt_clf = DecisionTreeClassifier(random_state=156)\n",
    "# 모델 학습\n",
    "dt_clf.fit(X_train,y_train)\n",
    "# 예측\n",
    "pred = dt_clf.predict(X_test)\n",
    "# 성늘 평가\n",
    "accuracy = accuracy_score(y_test,pred)\n",
    "print('결정 트리 예측 정확도:',np.round(accuracy,4))\n",
    "print('결정 트리의 default 하이퍼 파라미터:\\n',dt_clf.get_params())"
   ]
  },
  {
   "cell_type": "markdown",
   "id": "c7961f84",
   "metadata": {},
   "source": [
    "## Hyper Parameter tuning"
   ]
  },
  {
   "cell_type": "code",
   "execution_count": 33,
   "id": "b03865c3",
   "metadata": {
    "ExecuteTime": {
     "end_time": "2023-08-25T14:29:54.050902Z",
     "start_time": "2023-08-25T14:29:54.025475Z"
    }
   },
   "outputs": [],
   "source": [
    "parameters = {\n",
    "    'max_depth':[6,8,10,12,16,20,24],\n",
    "    'min_samples_split':[16]\n",
    "}"
   ]
  },
  {
   "cell_type": "code",
   "execution_count": 34,
   "id": "c605b0d2",
   "metadata": {
    "ExecuteTime": {
     "end_time": "2023-08-25T14:31:07.218550Z",
     "start_time": "2023-08-25T14:29:54.475046Z"
    }
   },
   "outputs": [
    {
     "name": "stdout",
     "output_type": "stream",
     "text": [
      "Fitting 5 folds for each of 7 candidates, totalling 35 fits\n",
      "GridSearchCV의 최고 평균 정확도 수치: 0.8548794147162603\n",
      "GridSearchCV의 최적 하이퍼 파라미터: {'max_depth': 8, 'min_samples_split': 16}\n"
     ]
    }
   ],
   "source": [
    "grid_cv = GridSearchCV(dt_clf,param_grid=parameters,cv=5,scoring='accuracy',verbose=1)\n",
    "grid_cv.fit(X_train,y_train)\n",
    "print('GridSearchCV의 최고 평균 정확도 수치: {:.4f}'.format(grid_cv.best_score_))\n",
    "print('GridSearchCV의 최적 하이퍼 파라미터:',grid_cv.best_params_)"
   ]
  },
  {
   "cell_type": "code",
   "execution_count": 37,
   "id": "78712d82",
   "metadata": {
    "ExecuteTime": {
     "end_time": "2023-08-25T14:37:31.049432Z",
     "start_time": "2023-08-25T14:37:31.035653Z"
    }
   },
   "outputs": [
    {
     "data": {
      "text/html": [
       "<div>\n",
       "<style scoped>\n",
       "    .dataframe tbody tr th:only-of-type {\n",
       "        vertical-align: middle;\n",
       "    }\n",
       "\n",
       "    .dataframe tbody tr th {\n",
       "        vertical-align: top;\n",
       "    }\n",
       "\n",
       "    .dataframe thead th {\n",
       "        text-align: right;\n",
       "    }\n",
       "</style>\n",
       "<table border=\"1\" class=\"dataframe\">\n",
       "  <thead>\n",
       "    <tr style=\"text-align: right;\">\n",
       "      <th></th>\n",
       "      <th>param_max_depth</th>\n",
       "      <th>mean_test_score</th>\n",
       "    </tr>\n",
       "  </thead>\n",
       "  <tbody>\n",
       "    <tr>\n",
       "      <th>0</th>\n",
       "      <td>6</td>\n",
       "      <td>0.847662</td>\n",
       "    </tr>\n",
       "    <tr>\n",
       "      <th>1</th>\n",
       "      <td>8</td>\n",
       "      <td>0.854879</td>\n",
       "    </tr>\n",
       "    <tr>\n",
       "      <th>2</th>\n",
       "      <td>10</td>\n",
       "      <td>0.852705</td>\n",
       "    </tr>\n",
       "    <tr>\n",
       "      <th>3</th>\n",
       "      <td>12</td>\n",
       "      <td>0.845768</td>\n",
       "    </tr>\n",
       "    <tr>\n",
       "      <th>4</th>\n",
       "      <td>16</td>\n",
       "      <td>0.847127</td>\n",
       "    </tr>\n",
       "    <tr>\n",
       "      <th>5</th>\n",
       "      <td>20</td>\n",
       "      <td>0.848624</td>\n",
       "    </tr>\n",
       "    <tr>\n",
       "      <th>6</th>\n",
       "      <td>24</td>\n",
       "      <td>0.848624</td>\n",
       "    </tr>\n",
       "  </tbody>\n",
       "</table>\n",
       "</div>"
      ],
      "text/plain": [
       "  param_max_depth  mean_test_score\n",
       "0               6         0.847662\n",
       "1               8         0.854879\n",
       "2              10         0.852705\n",
       "3              12         0.845768\n",
       "4              16         0.847127\n",
       "5              20         0.848624\n",
       "6              24         0.848624"
      ]
     },
     "execution_count": 37,
     "metadata": {},
     "output_type": "execute_result"
    }
   ],
   "source": [
    "# GridSearchCV의 결과를 DF객체로 변환\n",
    "cv_results_df = pd.DataFrame(grid_cv.cv_results_)\n",
    "cv_results_df[['param_max_depth','mean_test_score']]"
   ]
  },
  {
   "cell_type": "code",
   "execution_count": 38,
   "id": "1e2d7858",
   "metadata": {
    "ExecuteTime": {
     "end_time": "2023-08-25T14:48:55.316396Z",
     "start_time": "2023-08-25T14:48:36.646273Z"
    }
   },
   "outputs": [
    {
     "name": "stdout",
     "output_type": "stream",
     "text": [
      "max_depth = 6 , 정확도 : 0.8551\n",
      "max_depth = 8 , 정확도 : 0.8717\n",
      "max_depth = 10 , 정확도 : 0.8599\n",
      "max_depth = 12 , 정확도 : 0.8571\n",
      "max_depth = 16 , 정확도 : 0.8599\n",
      "max_depth = 20 , 정확도 : 0.8565\n",
      "max_depth = 24 , 정확도 : 0.8565\n"
     ]
    }
   ],
   "source": [
    "# test dataset으로도 예측 성능 평가\n",
    "max_depth = [6,8,10,12,16,20,24]\n",
    "for depth in max_depth:\n",
    "    dt_clf2 = DecisionTreeClassifier(max_depth=depth,min_samples_split=16,random_state=156)\n",
    "    dt_clf2.fit(X_train,y_train)\n",
    "    pred = dt_clf2.predict(X_test)\n",
    "    accuracy = accuracy_score(y_test,pred)\n",
    "    print(\"max_depth = {} , 정확도 : {:.4f}\".format(depth,accuracy))\n",
    "    \n",
    "# Best : max_depth = 8 , 정확도 : 0.8717"
   ]
  },
  {
   "cell_type": "code",
   "execution_count": null,
   "id": "7a08f9b6",
   "metadata": {},
   "outputs": [],
   "source": []
  }
 ],
 "metadata": {
  "kernelspec": {
   "display_name": "Python 3 (ipykernel)",
   "language": "python",
   "name": "python3"
  },
  "language_info": {
   "codemirror_mode": {
    "name": "ipython",
    "version": 3
   },
   "file_extension": ".py",
   "mimetype": "text/x-python",
   "name": "python",
   "nbconvert_exporter": "python",
   "pygments_lexer": "ipython3",
   "version": "3.7.16"
  }
 },
 "nbformat": 4,
 "nbformat_minor": 5
}
