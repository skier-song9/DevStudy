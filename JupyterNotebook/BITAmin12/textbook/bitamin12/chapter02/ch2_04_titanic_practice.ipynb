{
 "cells": [
  {
   "cell_type": "code",
   "execution_count": 1,
   "id": "b7d91155",
   "metadata": {
    "ExecuteTime": {
     "end_time": "2023-08-22T06:36:28.739149Z",
     "start_time": "2023-08-22T06:36:27.461840Z"
    }
   },
   "outputs": [],
   "source": [
    "import pandas as pd\n",
    "import numpy as np\n",
    "import matplotlib.pyplot as plt\n",
    "import seaborn as sns\n",
    "%matplotlib inline"
   ]
  },
  {
   "cell_type": "code",
   "execution_count": 2,
   "id": "fb4b9f1d",
   "metadata": {
    "ExecuteTime": {
     "end_time": "2023-08-22T06:36:28.770036Z",
     "start_time": "2023-08-22T06:36:28.741899Z"
    }
   },
   "outputs": [
    {
     "data": {
      "text/html": [
       "<div>\n",
       "<style scoped>\n",
       "    .dataframe tbody tr th:only-of-type {\n",
       "        vertical-align: middle;\n",
       "    }\n",
       "\n",
       "    .dataframe tbody tr th {\n",
       "        vertical-align: top;\n",
       "    }\n",
       "\n",
       "    .dataframe thead th {\n",
       "        text-align: right;\n",
       "    }\n",
       "</style>\n",
       "<table border=\"1\" class=\"dataframe\">\n",
       "  <thead>\n",
       "    <tr style=\"text-align: right;\">\n",
       "      <th></th>\n",
       "      <th>PassengerId</th>\n",
       "      <th>Survived</th>\n",
       "      <th>Pclass</th>\n",
       "      <th>Name</th>\n",
       "      <th>Sex</th>\n",
       "      <th>Age</th>\n",
       "      <th>SibSp</th>\n",
       "      <th>Parch</th>\n",
       "      <th>Ticket</th>\n",
       "      <th>Fare</th>\n",
       "      <th>Cabin</th>\n",
       "      <th>Embarked</th>\n",
       "    </tr>\n",
       "  </thead>\n",
       "  <tbody>\n",
       "    <tr>\n",
       "      <th>0</th>\n",
       "      <td>1</td>\n",
       "      <td>0</td>\n",
       "      <td>3</td>\n",
       "      <td>Braund, Mr. Owen Harris</td>\n",
       "      <td>male</td>\n",
       "      <td>22.0</td>\n",
       "      <td>1</td>\n",
       "      <td>0</td>\n",
       "      <td>A/5 21171</td>\n",
       "      <td>7.2500</td>\n",
       "      <td>NaN</td>\n",
       "      <td>S</td>\n",
       "    </tr>\n",
       "    <tr>\n",
       "      <th>1</th>\n",
       "      <td>2</td>\n",
       "      <td>1</td>\n",
       "      <td>1</td>\n",
       "      <td>Cumings, Mrs. John Bradley (Florence Briggs Th...</td>\n",
       "      <td>female</td>\n",
       "      <td>38.0</td>\n",
       "      <td>1</td>\n",
       "      <td>0</td>\n",
       "      <td>PC 17599</td>\n",
       "      <td>71.2833</td>\n",
       "      <td>C85</td>\n",
       "      <td>C</td>\n",
       "    </tr>\n",
       "    <tr>\n",
       "      <th>2</th>\n",
       "      <td>3</td>\n",
       "      <td>1</td>\n",
       "      <td>3</td>\n",
       "      <td>Heikkinen, Miss. Laina</td>\n",
       "      <td>female</td>\n",
       "      <td>26.0</td>\n",
       "      <td>0</td>\n",
       "      <td>0</td>\n",
       "      <td>STON/O2. 3101282</td>\n",
       "      <td>7.9250</td>\n",
       "      <td>NaN</td>\n",
       "      <td>S</td>\n",
       "    </tr>\n",
       "  </tbody>\n",
       "</table>\n",
       "</div>"
      ],
      "text/plain": [
       "   PassengerId  Survived  Pclass  \\\n",
       "0            1         0       3   \n",
       "1            2         1       1   \n",
       "2            3         1       3   \n",
       "\n",
       "                                                Name     Sex   Age  SibSp  \\\n",
       "0                            Braund, Mr. Owen Harris    male  22.0      1   \n",
       "1  Cumings, Mrs. John Bradley (Florence Briggs Th...  female  38.0      1   \n",
       "2                             Heikkinen, Miss. Laina  female  26.0      0   \n",
       "\n",
       "   Parch            Ticket     Fare Cabin Embarked  \n",
       "0      0         A/5 21171   7.2500   NaN        S  \n",
       "1      0          PC 17599  71.2833   C85        C  \n",
       "2      0  STON/O2. 3101282   7.9250   NaN        S  "
      ]
     },
     "execution_count": 2,
     "metadata": {},
     "output_type": "execute_result"
    }
   ],
   "source": [
    "titatic_df = pd.read_csv('../../data/titanic_train.csv')\n",
    "titatic_df.head(3)"
   ]
  },
  {
   "cell_type": "code",
   "execution_count": 3,
   "id": "b6c92923",
   "metadata": {
    "ExecuteTime": {
     "end_time": "2023-08-22T06:36:28.783110Z",
     "start_time": "2023-08-22T06:36:28.771856Z"
    }
   },
   "outputs": [
    {
     "name": "stdout",
     "output_type": "stream",
     "text": [
      "<class 'pandas.core.frame.DataFrame'>\n",
      "RangeIndex: 891 entries, 0 to 890\n",
      "Data columns (total 12 columns):\n",
      " #   Column       Non-Null Count  Dtype  \n",
      "---  ------       --------------  -----  \n",
      " 0   PassengerId  891 non-null    int64  \n",
      " 1   Survived     891 non-null    int64  \n",
      " 2   Pclass       891 non-null    int64  \n",
      " 3   Name         891 non-null    object \n",
      " 4   Sex          891 non-null    object \n",
      " 5   Age          714 non-null    float64\n",
      " 6   SibSp        891 non-null    int64  \n",
      " 7   Parch        891 non-null    int64  \n",
      " 8   Ticket       891 non-null    object \n",
      " 9   Fare         891 non-null    float64\n",
      " 10  Cabin        204 non-null    object \n",
      " 11  Embarked     889 non-null    object \n",
      "dtypes: float64(2), int64(5), object(5)\n",
      "memory usage: 83.7+ KB\n"
     ]
    }
   ],
   "source": [
    "titatic_df.info()"
   ]
  },
  {
   "cell_type": "markdown",
   "id": "e2734f98",
   "metadata": {},
   "source": [
    "# Preprocessing"
   ]
  },
  {
   "cell_type": "code",
   "execution_count": 4,
   "id": "77ef76fd",
   "metadata": {
    "ExecuteTime": {
     "end_time": "2023-08-22T06:36:28.798610Z",
     "start_time": "2023-08-22T06:36:28.783110Z"
    }
   },
   "outputs": [
    {
     "name": "stdout",
     "output_type": "stream",
     "text": [
      "데이터셋 결손값: PassengerId    0\n",
      "Survived       0\n",
      "Pclass         0\n",
      "Name           0\n",
      "Sex            0\n",
      "Age            0\n",
      "SibSp          0\n",
      "Parch          0\n",
      "Ticket         0\n",
      "Fare           0\n",
      "Cabin          0\n",
      "Embarked       0\n",
      "dtype: int64\n"
     ]
    }
   ],
   "source": [
    "# 결손값 처리\n",
    "titatic_df['Age'].fillna(titatic_df['Age'].mean(),inplace = True)\n",
    "titatic_df['Cabin'].fillna('N',inplace=True)\n",
    "titatic_df['Embarked'].fillna('N',inplace=True)\n",
    "print('데이터셋 결손값:',titatic_df.isnull().sum())"
   ]
  },
  {
   "cell_type": "code",
   "execution_count": 5,
   "id": "80612b54",
   "metadata": {
    "ExecuteTime": {
     "end_time": "2023-08-22T06:36:28.815450Z",
     "start_time": "2023-08-22T06:36:28.800034Z"
    }
   },
   "outputs": [
    {
     "name": "stdout",
     "output_type": "stream",
     "text": [
      "Sex 값 분포:\n",
      " male      577\n",
      "female    314\n",
      "Name: Sex, dtype: int64\n",
      "Cabin 값 분포:\n",
      " N              687\n",
      "C23 C25 C27      4\n",
      "G6               4\n",
      "B96 B98          4\n",
      "C22 C26          3\n",
      "              ... \n",
      "E34              1\n",
      "C7               1\n",
      "C54              1\n",
      "E36              1\n",
      "C148             1\n",
      "Name: Cabin, Length: 148, dtype: int64\n",
      "Embarked 값 분포:\n",
      " S    644\n",
      "C    168\n",
      "Q     77\n",
      "N      2\n",
      "Name: Embarked, dtype: int64\n"
     ]
    }
   ],
   "source": [
    "print('Sex 값 분포:\\n',titatic_df[\"Sex\"].value_counts())\n",
    "print('Cabin 값 분포:\\n',titatic_df[\"Cabin\"].value_counts())\n",
    "print('Embarked 값 분포:\\n',titatic_df[\"Embarked\"].value_counts())"
   ]
  },
  {
   "cell_type": "code",
   "execution_count": 6,
   "id": "0c719822",
   "metadata": {
    "ExecuteTime": {
     "end_time": "2023-08-22T06:36:28.828934Z",
     "start_time": "2023-08-22T06:36:28.818080Z"
    }
   },
   "outputs": [
    {
     "name": "stdout",
     "output_type": "stream",
     "text": [
      "0    N\n",
      "1    C\n",
      "2    N\n",
      "Name: Cabin, dtype: object\n"
     ]
    }
   ],
   "source": [
    "# 문자열 데이터 처리\n",
    "# 객실 데이터의 경우, 맨 앞 알파벳 하나(객실등급)만 유지시킨다.\n",
    "titatic_df['Cabin'] = titatic_df['Cabin'].str[:1]\n",
    "print(titatic_df['Cabin'].head(3))"
   ]
  },
  {
   "cell_type": "markdown",
   "id": "2e50aeb4",
   "metadata": {},
   "source": [
    "### 성별에 따른 생존률"
   ]
  },
  {
   "cell_type": "code",
   "execution_count": 7,
   "id": "5fbece70",
   "metadata": {
    "ExecuteTime": {
     "end_time": "2023-08-22T06:38:41.590933Z",
     "start_time": "2023-08-22T06:38:41.567686Z"
    }
   },
   "outputs": [
    {
     "data": {
      "text/plain": [
       "Sex     Survived\n",
       "female  0            81\n",
       "        1           233\n",
       "male    0           468\n",
       "        1           109\n",
       "Name: Survived, dtype: int64"
      ]
     },
     "execution_count": 7,
     "metadata": {},
     "output_type": "execute_result"
    }
   ],
   "source": [
    "titatic_df.groupby(['Sex','Survived'])['Survived'].count()"
   ]
  },
  {
   "cell_type": "code",
   "execution_count": 8,
   "id": "f3c149c2",
   "metadata": {
    "ExecuteTime": {
     "end_time": "2023-08-22T06:39:08.854605Z",
     "start_time": "2023-08-22T06:39:08.419788Z"
    }
   },
   "outputs": [
    {
     "data": {
      "text/plain": [
       "<AxesSubplot:xlabel='Sex', ylabel='Survived'>"
      ]
     },
     "execution_count": 8,
     "metadata": {},
     "output_type": "execute_result"
    },
    {
     "data": {
      "image/png": "[encoded data removed]",
      "text/plain": [
       "<Figure size 640x480 with 1 Axes>"
      ]
     },
     "metadata": {},
     "output_type": "display_data"
    }
   ],
   "source": [
    "# 시각화\n",
    "sns.barplot(x='Sex',y='Survived',data = titatic_df)"
   ]
  },
  {
   "cell_type": "markdown",
   "id": "29b1d385",
   "metadata": {},
   "source": [
    "### 선실 등급과 성별에 따른 생존률"
   ]
  },
  {
   "cell_type": "code",
   "execution_count": 10,
   "id": "c9d7a6c2",
   "metadata": {
    "ExecuteTime": {
     "end_time": "2023-08-22T06:40:40.809036Z",
     "start_time": "2023-08-22T06:40:40.511518Z"
    }
   },
   "outputs": [
    {
     "data": {
      "text/plain": [
       "<AxesSubplot:xlabel='Pclass', ylabel='Survived'>"
      ]
     },
     "execution_count": 10,
     "metadata": {},
     "output_type": "execute_result"
    },
    {
     "data": {
      "image/png": "[encoded data removed]",
      "text/plain": [
       "<Figure size 640x480 with 1 Axes>"
      ]
     },
     "metadata": {},
     "output_type": "display_data"
    }
   ],
   "source": [
    "sns.barplot(x='Pclass',y='Survived',hue='Sex',data=titatic_df)"
   ]
  },
  {
   "cell_type": "markdown",
   "id": "4df2c4e6",
   "metadata": {},
   "source": [
    "### 나이에 따른 생존률"
   ]
  },
  {
   "cell_type": "code",
   "execution_count": 11,
   "id": "8fefde34",
   "metadata": {
    "ExecuteTime": {
     "end_time": "2023-08-22T08:45:34.377629Z",
     "start_time": "2023-08-22T08:45:34.365284Z"
    }
   },
   "outputs": [],
   "source": [
    "def get_category(age):\n",
    "    cat = ''\n",
    "    if age <= -1: cat = 'Unknown'\n",
    "    elif age<=5: cat = 'Baby'\n",
    "    elif age<=12:cat='Child'\n",
    "    elif age<=18:cat='Teenager'\n",
    "    elif age<=25:cat='Student'\n",
    "    elif age<=35:cat='Young Adult'\n",
    "    elif age<=60:cat='Adult'\n",
    "    else: cat='Elderly'\n",
    "    return cat"
   ]
  },
  {
   "cell_type": "code",
   "execution_count": 13,
   "id": "ea70cc27",
   "metadata": {
    "ExecuteTime": {
     "end_time": "2023-08-22T08:47:47.907596Z",
     "start_time": "2023-08-22T08:47:47.222270Z"
    }
   },
   "outputs": [
    {
     "data": {
      "text/plain": [
       "<AxesSubplot:xlabel='Age_cat', ylabel='Survived'>"
      ]
     },
     "execution_count": 13,
     "metadata": {},
     "output_type": "execute_result"
    },
    {
     "data": {
      "image/png": "[encoded data removed]",
      "text/plain": [
       "<Figure size 1000x600 with 1 Axes>"
      ]
     },
     "metadata": {},
     "output_type": "display_data"
    }
   ],
   "source": [
    "plt.figure(figsize=(10,6))\n",
    "group_names = [\"Unknown\",'Baby','Child','Teenager','Student','Young Adult','Adult','Elderly']\n",
    "titatic_df['Age_cat'] = titatic_df['Age'].apply(lambda x:get_category(x))\n",
    "sns.barplot(x='Age_cat',y='Survived',hue='Sex',data=titatic_df,order=group_names)"
   ]
  },
  {
   "cell_type": "code",
   "execution_count": 14,
   "id": "6f327981",
   "metadata": {
    "ExecuteTime": {
     "end_time": "2023-08-22T08:48:02.037580Z",
     "start_time": "2023-08-22T08:48:02.023315Z"
    }
   },
   "outputs": [],
   "source": [
    "titatic_df.drop('Age_cat',axis=1,inplace=True)"
   ]
  },
  {
   "cell_type": "markdown",
   "id": "7d867fb4",
   "metadata": {},
   "source": [
    "## Age,Pclass,Sex 가 생존률(종속변수)에 대한 주요한 독립변수(피처)임을 알 수 있다."
   ]
  },
  {
   "cell_type": "markdown",
   "id": "c4e78822",
   "metadata": {},
   "source": [
    "# Encoding"
   ]
  },
  {
   "cell_type": "code",
   "execution_count": 15,
   "id": "93157a06",
   "metadata": {
    "ExecuteTime": {
     "end_time": "2023-08-22T08:51:18.262597Z",
     "start_time": "2023-08-22T08:51:18.239297Z"
    }
   },
   "outputs": [],
   "source": [
    "from sklearn.preprocessing import LabelEncoder,OneHotEncoder"
   ]
  },
  {
   "cell_type": "code",
   "execution_count": 16,
   "id": "08420248",
   "metadata": {
    "ExecuteTime": {
     "end_time": "2023-08-22T08:52:42.432245Z",
     "start_time": "2023-08-22T08:52:42.420283Z"
    }
   },
   "outputs": [],
   "source": [
    "def encode_features(dataDF):\n",
    "    features=['Cabin','Sex','Embarked']\n",
    "    for feature in features:\n",
    "        le = LabelEncoder()\n",
    "        le = le.fit(dataDF[feature])\n",
    "        dataDF[feature] = le.transform(dataDF[feature])\n",
    "    return dataDF"
   ]
  },
  {
   "cell_type": "code",
   "execution_count": 17,
   "id": "24141b11",
   "metadata": {
    "ExecuteTime": {
     "end_time": "2023-08-22T08:52:54.694252Z",
     "start_time": "2023-08-22T08:52:54.670363Z"
    }
   },
   "outputs": [
    {
     "data": {
      "text/html": [
       "<div>\n",
       "<style scoped>\n",
       "    .dataframe tbody tr th:only-of-type {\n",
       "        vertical-align: middle;\n",
       "    }\n",
       "\n",
       "    .dataframe tbody tr th {\n",
       "        vertical-align: top;\n",
       "    }\n",
       "\n",
       "    .dataframe thead th {\n",
       "        text-align: right;\n",
       "    }\n",
       "</style>\n",
       "<table border=\"1\" class=\"dataframe\">\n",
       "  <thead>\n",
       "    <tr style=\"text-align: right;\">\n",
       "      <th></th>\n",
       "      <th>PassengerId</th>\n",
       "      <th>Survived</th>\n",
       "      <th>Pclass</th>\n",
       "      <th>Name</th>\n",
       "      <th>Sex</th>\n",
       "      <th>Age</th>\n",
       "      <th>SibSp</th>\n",
       "      <th>Parch</th>\n",
       "      <th>Ticket</th>\n",
       "      <th>Fare</th>\n",
       "      <th>Cabin</th>\n",
       "      <th>Embarked</th>\n",
       "    </tr>\n",
       "  </thead>\n",
       "  <tbody>\n",
       "    <tr>\n",
       "      <th>0</th>\n",
       "      <td>1</td>\n",
       "      <td>0</td>\n",
       "      <td>3</td>\n",
       "      <td>Braund, Mr. Owen Harris</td>\n",
       "      <td>1</td>\n",
       "      <td>22.0</td>\n",
       "      <td>1</td>\n",
       "      <td>0</td>\n",
       "      <td>A/5 21171</td>\n",
       "      <td>7.2500</td>\n",
       "      <td>7</td>\n",
       "      <td>3</td>\n",
       "    </tr>\n",
       "    <tr>\n",
       "      <th>1</th>\n",
       "      <td>2</td>\n",
       "      <td>1</td>\n",
       "      <td>1</td>\n",
       "      <td>Cumings, Mrs. John Bradley (Florence Briggs Th...</td>\n",
       "      <td>0</td>\n",
       "      <td>38.0</td>\n",
       "      <td>1</td>\n",
       "      <td>0</td>\n",
       "      <td>PC 17599</td>\n",
       "      <td>71.2833</td>\n",
       "      <td>2</td>\n",
       "      <td>0</td>\n",
       "    </tr>\n",
       "    <tr>\n",
       "      <th>2</th>\n",
       "      <td>3</td>\n",
       "      <td>1</td>\n",
       "      <td>3</td>\n",
       "      <td>Heikkinen, Miss. Laina</td>\n",
       "      <td>0</td>\n",
       "      <td>26.0</td>\n",
       "      <td>0</td>\n",
       "      <td>0</td>\n",
       "      <td>STON/O2. 3101282</td>\n",
       "      <td>7.9250</td>\n",
       "      <td>7</td>\n",
       "      <td>3</td>\n",
       "    </tr>\n",
       "    <tr>\n",
       "      <th>3</th>\n",
       "      <td>4</td>\n",
       "      <td>1</td>\n",
       "      <td>1</td>\n",
       "      <td>Futrelle, Mrs. Jacques Heath (Lily May Peel)</td>\n",
       "      <td>0</td>\n",
       "      <td>35.0</td>\n",
       "      <td>1</td>\n",
       "      <td>0</td>\n",
       "      <td>113803</td>\n",
       "      <td>53.1000</td>\n",
       "      <td>2</td>\n",
       "      <td>3</td>\n",
       "    </tr>\n",
       "    <tr>\n",
       "      <th>4</th>\n",
       "      <td>5</td>\n",
       "      <td>0</td>\n",
       "      <td>3</td>\n",
       "      <td>Allen, Mr. William Henry</td>\n",
       "      <td>1</td>\n",
       "      <td>35.0</td>\n",
       "      <td>0</td>\n",
       "      <td>0</td>\n",
       "      <td>373450</td>\n",
       "      <td>8.0500</td>\n",
       "      <td>7</td>\n",
       "      <td>3</td>\n",
       "    </tr>\n",
       "  </tbody>\n",
       "</table>\n",
       "</div>"
      ],
      "text/plain": [
       "   PassengerId  Survived  Pclass  \\\n",
       "0            1         0       3   \n",
       "1            2         1       1   \n",
       "2            3         1       3   \n",
       "3            4         1       1   \n",
       "4            5         0       3   \n",
       "\n",
       "                                                Name  Sex   Age  SibSp  Parch  \\\n",
       "0                            Braund, Mr. Owen Harris    1  22.0      1      0   \n",
       "1  Cumings, Mrs. John Bradley (Florence Briggs Th...    0  38.0      1      0   \n",
       "2                             Heikkinen, Miss. Laina    0  26.0      0      0   \n",
       "3       Futrelle, Mrs. Jacques Heath (Lily May Peel)    0  35.0      1      0   \n",
       "4                           Allen, Mr. William Henry    1  35.0      0      0   \n",
       "\n",
       "             Ticket     Fare  Cabin  Embarked  \n",
       "0         A/5 21171   7.2500      7         3  \n",
       "1          PC 17599  71.2833      2         0  \n",
       "2  STON/O2. 3101282   7.9250      7         3  \n",
       "3            113803  53.1000      2         3  \n",
       "4            373450   8.0500      7         3  "
      ]
     },
     "execution_count": 17,
     "metadata": {},
     "output_type": "execute_result"
    }
   ],
   "source": [
    "titatic_df = encode_features(titatic_df)\n",
    "titatic_df.head()"
   ]
  },
  {
   "cell_type": "code",
   "execution_count": 18,
   "id": "59fb287e",
   "metadata": {
    "ExecuteTime": {
     "end_time": "2023-08-22T08:55:02.949515Z",
     "start_time": "2023-08-22T08:55:02.934530Z"
    }
   },
   "outputs": [],
   "source": [
    "def fillna(df):\n",
    "    df['Age'].fillna(df['Age'].mean(),inplace=True)\n",
    "    df['Cabin'].fillna('N',inplace=True)\n",
    "    df['Embarked'].fillna('N',inplace=True)\n",
    "    df['Fare'].fillna(0,inplace=True)\n",
    "    return df\n",
    "def drop_features(df):\n",
    "    df.drop(['PassengerId','Name','Ticket'],axis=1,inplace=True)\n",
    "    return df\n",
    "def format_features(df):\n",
    "    df['Cabin'] = df['Cabin'].str[:1]\n",
    "    features = ['Cabin','Sex','Embarked']\n",
    "    for feature in features:\n",
    "        le = LabelEncoder()\n",
    "        le = le.fit(df[feature])\n",
    "        df[feature] = le.transform(df[feature])\n",
    "    return df\n",
    "def transform_features(df):\n",
    "    df = fillna(df)\n",
    "    df = drop_features(df)\n",
    "    df = format_features(df)\n",
    "    return df"
   ]
  },
  {
   "cell_type": "markdown",
   "id": "6f8e4057",
   "metadata": {},
   "source": [
    "# Predict"
   ]
  },
  {
   "cell_type": "code",
   "execution_count": 21,
   "id": "66cd9097",
   "metadata": {
    "ExecuteTime": {
     "end_time": "2023-08-22T08:57:12.755211Z",
     "start_time": "2023-08-22T08:57:12.732801Z"
    }
   },
   "outputs": [],
   "source": [
    "titanic_df = pd.read_csv('../../data/titanic_train.csv')\n",
    "# y_titanic_df : Label Dataset\n",
    "y_titanic_df = titatic_df['Survived']\n",
    "X_titanic_df = titanic_df.drop('Survived',axis=1)\n",
    "# X_titanic_df : Feature Dataset\n",
    "X_titanic_df = transform_features(X_titanic_df)"
   ]
  },
  {
   "cell_type": "code",
   "execution_count": 23,
   "id": "184b9de5",
   "metadata": {
    "ExecuteTime": {
     "end_time": "2023-08-22T08:58:15.173164Z",
     "start_time": "2023-08-22T08:58:15.154613Z"
    }
   },
   "outputs": [],
   "source": [
    "from sklearn.model_selection import train_test_split\n",
    "X_train,X_test,y_train,y_test = train_test_split(X_titanic_df,y_titanic_df,\n",
    "                                                 test_size=0.2,random_state=11)"
   ]
  },
  {
   "cell_type": "code",
   "execution_count": 24,
   "id": "7917238c",
   "metadata": {
    "ExecuteTime": {
     "end_time": "2023-08-22T08:59:53.795945Z",
     "start_time": "2023-08-22T08:59:53.783054Z"
    }
   },
   "outputs": [],
   "source": [
    "from sklearn.tree import DecisionTreeClassifier\n",
    "from sklearn.ensemble import RandomForestClassifier\n",
    "from sklearn.metrics import accuracy_score\n",
    "from sklearn.linear_model import LogisticRegression"
   ]
  },
  {
   "cell_type": "code",
   "execution_count": 27,
   "id": "53f4a912",
   "metadata": {
    "ExecuteTime": {
     "end_time": "2023-08-22T09:02:30.652300Z",
     "start_time": "2023-08-22T09:02:30.636813Z"
    }
   },
   "outputs": [
    {
     "name": "stdout",
     "output_type": "stream",
     "text": [
      "DecisionTreeClassifier의 accuracy: 0.7877\n"
     ]
    }
   ],
   "source": [
    "dt_clf = DecisionTreeClassifier(random_state=11)\n",
    "dt_clf.fit(X_train,y_train)\n",
    "pred_dt_clf = dt_clf.predict(X_test)\n",
    "print('DecisionTreeClassifier의 accuracy:',np.round(accuracy_score(y_test,pred_dt_clf),4))"
   ]
  },
  {
   "cell_type": "markdown",
   "id": "cfbc8b59",
   "metadata": {},
   "source": [
    "## Cross Validation"
   ]
  },
  {
   "cell_type": "code",
   "execution_count": 31,
   "id": "21ecbbe6",
   "metadata": {
    "ExecuteTime": {
     "end_time": "2023-08-22T09:12:50.063687Z",
     "start_time": "2023-08-22T09:12:50.021515Z"
    }
   },
   "outputs": [
    {
     "name": "stdout",
     "output_type": "stream",
     "text": [
      "5 폴드 CV 평균 평가결과: 0.782298662984119\n"
     ]
    }
   ],
   "source": [
    "# K-Fold CV\n",
    "from sklearn.model_selection import StratifiedKFold,KFold\n",
    "kfold = KFold(n_splits=5)\n",
    "kfold_scores=[]\n",
    "for train_idx, test_idx in kfold.split(X_titanic_df):\n",
    "    X_train, X_test = X_titanic_df.iloc[train_idx],X_titanic_df.iloc[test_idx]\n",
    "    y_train, y_test = y_titanic_df.iloc[train_idx],y_titanic_df.iloc[test_idx]\n",
    "    dt_clf.fit(X_train,y_train)\n",
    "    pred = dt_clf.predict(X_test)\n",
    "    kfold_scores.append(accuracy_score(y_test,pred))\n",
    "print('5 폴드 CV 평균 평가결과:',np.mean(kfold_scores))"
   ]
  },
  {
   "cell_type": "code",
   "execution_count": 33,
   "id": "037a556b",
   "metadata": {
    "ExecuteTime": {
     "end_time": "2023-08-22T09:14:24.954193Z",
     "start_time": "2023-08-22T09:14:24.904171Z"
    }
   },
   "outputs": [
    {
     "name": "stdout",
     "output_type": "stream",
     "text": [
      "Stratified 5폴드 CV 평균 평가결과: 0.7879291946519366\n"
     ]
    }
   ],
   "source": [
    "# Stratified K-Fold by cross_val_score() function\n",
    "from sklearn.model_selection import cross_val_score\n",
    "scores = cross_val_score(dt_clf,X_titanic_df,y_titanic_df,cv=5)\n",
    "print('Stratified 5폴드 CV 평균 평가결과:',np.mean(scores))"
   ]
  },
  {
   "cell_type": "code",
   "execution_count": 37,
   "id": "293e1f31",
   "metadata": {
    "ExecuteTime": {
     "end_time": "2023-08-22T09:18:45.096651Z",
     "start_time": "2023-08-22T09:18:44.296295Z"
    }
   },
   "outputs": [
    {
     "data": {
      "text/plain": [
       "GridSearchCV(cv=5, estimator=DecisionTreeClassifier(random_state=11),\n",
       "             param_grid={'max_depth': [2, 3, 5, 10],\n",
       "                         'min_samples_leaf': [1, 5, 8],\n",
       "                         'min_samples_split': [2, 3, 5]},\n",
       "             scoring='accuracy')"
      ]
     },
     "execution_count": 37,
     "metadata": {},
     "output_type": "execute_result"
    }
   ],
   "source": [
    "# GridSearchCV\n",
    "from sklearn.model_selection import GridSearchCV\n",
    "parameters = {'max_depth':[2,3,5,10],\n",
    "             'min_samples_split':[2,3,5],'min_samples_leaf':[1,5,8]}\n",
    "grid_dclf = GridSearchCV(dt_clf,param_grid=parameters,cv=5,scoring='accuracy',refit=True)\n",
    "grid_dclf.fit(X_train,y_train)"
   ]
  },
  {
   "cell_type": "code",
   "execution_count": 35,
   "id": "93acb6b2",
   "metadata": {
    "ExecuteTime": {
     "end_time": "2023-08-22T09:17:20.696558Z",
     "start_time": "2023-08-22T09:17:20.682491Z"
    }
   },
   "outputs": [
    {
     "name": "stdout",
     "output_type": "stream",
     "text": [
      "GridSearchCV 최적 하이퍼 파라미터: {'max_depth': 10, 'min_samples_leaf': 8, 'min_samples_split': 2}\n",
      "GridSearchCV 최고 점수: 0.812075248694967\n"
     ]
    }
   ],
   "source": [
    "print('GridSearchCV 최적 하이퍼 파라미터:',grid_dclf.best_params_)\n",
    "print('GridSearchCV 최고 점수:',grid_dclf.best_score_)"
   ]
  },
  {
   "cell_type": "code",
   "execution_count": 36,
   "id": "3e9b71ba",
   "metadata": {
    "ExecuteTime": {
     "end_time": "2023-08-22T09:17:36.899055Z",
     "start_time": "2023-08-22T09:17:36.846974Z"
    }
   },
   "outputs": [
    {
     "data": {
      "text/html": [
       "<div>\n",
       "<style scoped>\n",
       "    .dataframe tbody tr th:only-of-type {\n",
       "        vertical-align: middle;\n",
       "    }\n",
       "\n",
       "    .dataframe tbody tr th {\n",
       "        vertical-align: top;\n",
       "    }\n",
       "\n",
       "    .dataframe thead th {\n",
       "        text-align: right;\n",
       "    }\n",
       "</style>\n",
       "<table border=\"1\" class=\"dataframe\">\n",
       "  <thead>\n",
       "    <tr style=\"text-align: right;\">\n",
       "      <th></th>\n",
       "      <th>mean_fit_time</th>\n",
       "      <th>std_fit_time</th>\n",
       "      <th>mean_score_time</th>\n",
       "      <th>std_score_time</th>\n",
       "      <th>param_max_depth</th>\n",
       "      <th>param_min_samples_leaf</th>\n",
       "      <th>param_min_samples_split</th>\n",
       "      <th>params</th>\n",
       "      <th>split0_test_score</th>\n",
       "      <th>split1_test_score</th>\n",
       "      <th>split2_test_score</th>\n",
       "      <th>split3_test_score</th>\n",
       "      <th>split4_test_score</th>\n",
       "      <th>mean_test_score</th>\n",
       "      <th>std_test_score</th>\n",
       "      <th>rank_test_score</th>\n",
       "    </tr>\n",
       "  </thead>\n",
       "  <tbody>\n",
       "    <tr>\n",
       "      <th>0</th>\n",
       "      <td>0.001729</td>\n",
       "      <td>0.001494</td>\n",
       "      <td>0.000845</td>\n",
       "      <td>0.000874</td>\n",
       "      <td>2</td>\n",
       "      <td>1</td>\n",
       "      <td>2</td>\n",
       "      <td>{'max_depth': 2, 'min_samples_leaf': 1, 'min_s...</td>\n",
       "      <td>0.748252</td>\n",
       "      <td>0.762238</td>\n",
       "      <td>0.825175</td>\n",
       "      <td>0.774648</td>\n",
       "      <td>0.746479</td>\n",
       "      <td>0.771358</td>\n",
       "      <td>0.028786</td>\n",
       "      <td>28</td>\n",
       "    </tr>\n",
       "    <tr>\n",
       "      <th>1</th>\n",
       "      <td>0.001400</td>\n",
       "      <td>0.000800</td>\n",
       "      <td>0.003619</td>\n",
       "      <td>0.004764</td>\n",
       "      <td>2</td>\n",
       "      <td>1</td>\n",
       "      <td>3</td>\n",
       "      <td>{'max_depth': 2, 'min_samples_leaf': 1, 'min_s...</td>\n",
       "      <td>0.748252</td>\n",
       "      <td>0.762238</td>\n",
       "      <td>0.825175</td>\n",
       "      <td>0.774648</td>\n",
       "      <td>0.746479</td>\n",
       "      <td>0.771358</td>\n",
       "      <td>0.028786</td>\n",
       "      <td>28</td>\n",
       "    </tr>\n",
       "    <tr>\n",
       "      <th>2</th>\n",
       "      <td>0.001801</td>\n",
       "      <td>0.000980</td>\n",
       "      <td>0.000807</td>\n",
       "      <td>0.000404</td>\n",
       "      <td>2</td>\n",
       "      <td>1</td>\n",
       "      <td>5</td>\n",
       "      <td>{'max_depth': 2, 'min_samples_leaf': 1, 'min_s...</td>\n",
       "      <td>0.748252</td>\n",
       "      <td>0.762238</td>\n",
       "      <td>0.825175</td>\n",
       "      <td>0.774648</td>\n",
       "      <td>0.746479</td>\n",
       "      <td>0.771358</td>\n",
       "      <td>0.028786</td>\n",
       "      <td>28</td>\n",
       "    </tr>\n",
       "    <tr>\n",
       "      <th>3</th>\n",
       "      <td>0.002915</td>\n",
       "      <td>0.005830</td>\n",
       "      <td>0.000101</td>\n",
       "      <td>0.000201</td>\n",
       "      <td>2</td>\n",
       "      <td>5</td>\n",
       "      <td>2</td>\n",
       "      <td>{'max_depth': 2, 'min_samples_leaf': 5, 'min_s...</td>\n",
       "      <td>0.748252</td>\n",
       "      <td>0.762238</td>\n",
       "      <td>0.825175</td>\n",
       "      <td>0.774648</td>\n",
       "      <td>0.746479</td>\n",
       "      <td>0.771358</td>\n",
       "      <td>0.028786</td>\n",
       "      <td>28</td>\n",
       "    </tr>\n",
       "    <tr>\n",
       "      <th>4</th>\n",
       "      <td>0.000000</td>\n",
       "      <td>0.000000</td>\n",
       "      <td>0.003131</td>\n",
       "      <td>0.006262</td>\n",
       "      <td>2</td>\n",
       "      <td>5</td>\n",
       "      <td>3</td>\n",
       "      <td>{'max_depth': 2, 'min_samples_leaf': 5, 'min_s...</td>\n",
       "      <td>0.748252</td>\n",
       "      <td>0.762238</td>\n",
       "      <td>0.825175</td>\n",
       "      <td>0.774648</td>\n",
       "      <td>0.746479</td>\n",
       "      <td>0.771358</td>\n",
       "      <td>0.028786</td>\n",
       "      <td>28</td>\n",
       "    </tr>\n",
       "    <tr>\n",
       "      <th>5</th>\n",
       "      <td>0.000000</td>\n",
       "      <td>0.000000</td>\n",
       "      <td>0.006250</td>\n",
       "      <td>0.007655</td>\n",
       "      <td>2</td>\n",
       "      <td>5</td>\n",
       "      <td>5</td>\n",
       "      <td>{'max_depth': 2, 'min_samples_leaf': 5, 'min_s...</td>\n",
       "      <td>0.748252</td>\n",
       "      <td>0.762238</td>\n",
       "      <td>0.825175</td>\n",
       "      <td>0.774648</td>\n",
       "      <td>0.746479</td>\n",
       "      <td>0.771358</td>\n",
       "      <td>0.028786</td>\n",
       "      <td>28</td>\n",
       "    </tr>\n",
       "    <tr>\n",
       "      <th>6</th>\n",
       "      <td>0.000000</td>\n",
       "      <td>0.000000</td>\n",
       "      <td>0.003125</td>\n",
       "      <td>0.006250</td>\n",
       "      <td>2</td>\n",
       "      <td>8</td>\n",
       "      <td>2</td>\n",
       "      <td>{'max_depth': 2, 'min_samples_leaf': 8, 'min_s...</td>\n",
       "      <td>0.748252</td>\n",
       "      <td>0.762238</td>\n",
       "      <td>0.825175</td>\n",
       "      <td>0.774648</td>\n",
       "      <td>0.746479</td>\n",
       "      <td>0.771358</td>\n",
       "      <td>0.028786</td>\n",
       "      <td>28</td>\n",
       "    </tr>\n",
       "    <tr>\n",
       "      <th>7</th>\n",
       "      <td>0.003027</td>\n",
       "      <td>0.006054</td>\n",
       "      <td>0.000000</td>\n",
       "      <td>0.000000</td>\n",
       "      <td>2</td>\n",
       "      <td>8</td>\n",
       "      <td>3</td>\n",
       "      <td>{'max_depth': 2, 'min_samples_leaf': 8, 'min_s...</td>\n",
       "      <td>0.748252</td>\n",
       "      <td>0.762238</td>\n",
       "      <td>0.825175</td>\n",
       "      <td>0.774648</td>\n",
       "      <td>0.746479</td>\n",
       "      <td>0.771358</td>\n",
       "      <td>0.028786</td>\n",
       "      <td>28</td>\n",
       "    </tr>\n",
       "    <tr>\n",
       "      <th>8</th>\n",
       "      <td>0.003131</td>\n",
       "      <td>0.006263</td>\n",
       "      <td>0.000000</td>\n",
       "      <td>0.000000</td>\n",
       "      <td>2</td>\n",
       "      <td>8</td>\n",
       "      <td>5</td>\n",
       "      <td>{'max_depth': 2, 'min_samples_leaf': 8, 'min_s...</td>\n",
       "      <td>0.748252</td>\n",
       "      <td>0.762238</td>\n",
       "      <td>0.825175</td>\n",
       "      <td>0.774648</td>\n",
       "      <td>0.746479</td>\n",
       "      <td>0.771358</td>\n",
       "      <td>0.028786</td>\n",
       "      <td>28</td>\n",
       "    </tr>\n",
       "    <tr>\n",
       "      <th>9</th>\n",
       "      <td>0.006250</td>\n",
       "      <td>0.007654</td>\n",
       "      <td>0.000000</td>\n",
       "      <td>0.000000</td>\n",
       "      <td>3</td>\n",
       "      <td>1</td>\n",
       "      <td>2</td>\n",
       "      <td>{'max_depth': 3, 'min_samples_leaf': 1, 'min_s...</td>\n",
       "      <td>0.797203</td>\n",
       "      <td>0.804196</td>\n",
       "      <td>0.818182</td>\n",
       "      <td>0.795775</td>\n",
       "      <td>0.774648</td>\n",
       "      <td>0.798001</td>\n",
       "      <td>0.014118</td>\n",
       "      <td>10</td>\n",
       "    </tr>\n",
       "    <tr>\n",
       "      <th>10</th>\n",
       "      <td>0.003125</td>\n",
       "      <td>0.006250</td>\n",
       "      <td>0.000000</td>\n",
       "      <td>0.000000</td>\n",
       "      <td>3</td>\n",
       "      <td>1</td>\n",
       "      <td>3</td>\n",
       "      <td>{'max_depth': 3, 'min_samples_leaf': 1, 'min_s...</td>\n",
       "      <td>0.797203</td>\n",
       "      <td>0.804196</td>\n",
       "      <td>0.818182</td>\n",
       "      <td>0.795775</td>\n",
       "      <td>0.774648</td>\n",
       "      <td>0.798001</td>\n",
       "      <td>0.014118</td>\n",
       "      <td>10</td>\n",
       "    </tr>\n",
       "    <tr>\n",
       "      <th>11</th>\n",
       "      <td>0.003125</td>\n",
       "      <td>0.006250</td>\n",
       "      <td>0.000000</td>\n",
       "      <td>0.000000</td>\n",
       "      <td>3</td>\n",
       "      <td>1</td>\n",
       "      <td>5</td>\n",
       "      <td>{'max_depth': 3, 'min_samples_leaf': 1, 'min_s...</td>\n",
       "      <td>0.797203</td>\n",
       "      <td>0.804196</td>\n",
       "      <td>0.818182</td>\n",
       "      <td>0.795775</td>\n",
       "      <td>0.774648</td>\n",
       "      <td>0.798001</td>\n",
       "      <td>0.014118</td>\n",
       "      <td>10</td>\n",
       "    </tr>\n",
       "    <tr>\n",
       "      <th>12</th>\n",
       "      <td>0.003125</td>\n",
       "      <td>0.006250</td>\n",
       "      <td>0.003126</td>\n",
       "      <td>0.006251</td>\n",
       "      <td>3</td>\n",
       "      <td>5</td>\n",
       "      <td>2</td>\n",
       "      <td>{'max_depth': 3, 'min_samples_leaf': 5, 'min_s...</td>\n",
       "      <td>0.804196</td>\n",
       "      <td>0.790210</td>\n",
       "      <td>0.818182</td>\n",
       "      <td>0.795775</td>\n",
       "      <td>0.774648</td>\n",
       "      <td>0.796602</td>\n",
       "      <td>0.014470</td>\n",
       "      <td>13</td>\n",
       "    </tr>\n",
       "    <tr>\n",
       "      <th>13</th>\n",
       "      <td>0.000000</td>\n",
       "      <td>0.000000</td>\n",
       "      <td>0.003125</td>\n",
       "      <td>0.006249</td>\n",
       "      <td>3</td>\n",
       "      <td>5</td>\n",
       "      <td>3</td>\n",
       "      <td>{'max_depth': 3, 'min_samples_leaf': 5, 'min_s...</td>\n",
       "      <td>0.804196</td>\n",
       "      <td>0.790210</td>\n",
       "      <td>0.818182</td>\n",
       "      <td>0.795775</td>\n",
       "      <td>0.774648</td>\n",
       "      <td>0.796602</td>\n",
       "      <td>0.014470</td>\n",
       "      <td>13</td>\n",
       "    </tr>\n",
       "    <tr>\n",
       "      <th>14</th>\n",
       "      <td>0.003125</td>\n",
       "      <td>0.006250</td>\n",
       "      <td>0.000000</td>\n",
       "      <td>0.000000</td>\n",
       "      <td>3</td>\n",
       "      <td>5</td>\n",
       "      <td>5</td>\n",
       "      <td>{'max_depth': 3, 'min_samples_leaf': 5, 'min_s...</td>\n",
       "      <td>0.804196</td>\n",
       "      <td>0.790210</td>\n",
       "      <td>0.818182</td>\n",
       "      <td>0.795775</td>\n",
       "      <td>0.774648</td>\n",
       "      <td>0.796602</td>\n",
       "      <td>0.014470</td>\n",
       "      <td>13</td>\n",
       "    </tr>\n",
       "    <tr>\n",
       "      <th>15</th>\n",
       "      <td>0.003125</td>\n",
       "      <td>0.006250</td>\n",
       "      <td>0.000000</td>\n",
       "      <td>0.000000</td>\n",
       "      <td>3</td>\n",
       "      <td>8</td>\n",
       "      <td>2</td>\n",
       "      <td>{'max_depth': 3, 'min_samples_leaf': 8, 'min_s...</td>\n",
       "      <td>0.790210</td>\n",
       "      <td>0.790210</td>\n",
       "      <td>0.818182</td>\n",
       "      <td>0.795775</td>\n",
       "      <td>0.774648</td>\n",
       "      <td>0.793805</td>\n",
       "      <td>0.014078</td>\n",
       "      <td>22</td>\n",
       "    </tr>\n",
       "    <tr>\n",
       "      <th>16</th>\n",
       "      <td>0.006250</td>\n",
       "      <td>0.007655</td>\n",
       "      <td>0.000000</td>\n",
       "      <td>0.000000</td>\n",
       "      <td>3</td>\n",
       "      <td>8</td>\n",
       "      <td>3</td>\n",
       "      <td>{'max_depth': 3, 'min_samples_leaf': 8, 'min_s...</td>\n",
       "      <td>0.790210</td>\n",
       "      <td>0.790210</td>\n",
       "      <td>0.818182</td>\n",
       "      <td>0.795775</td>\n",
       "      <td>0.774648</td>\n",
       "      <td>0.793805</td>\n",
       "      <td>0.014078</td>\n",
       "      <td>22</td>\n",
       "    </tr>\n",
       "    <tr>\n",
       "      <th>17</th>\n",
       "      <td>0.000000</td>\n",
       "      <td>0.000000</td>\n",
       "      <td>0.000000</td>\n",
       "      <td>0.000000</td>\n",
       "      <td>3</td>\n",
       "      <td>8</td>\n",
       "      <td>5</td>\n",
       "      <td>{'max_depth': 3, 'min_samples_leaf': 8, 'min_s...</td>\n",
       "      <td>0.790210</td>\n",
       "      <td>0.790210</td>\n",
       "      <td>0.818182</td>\n",
       "      <td>0.795775</td>\n",
       "      <td>0.774648</td>\n",
       "      <td>0.793805</td>\n",
       "      <td>0.014078</td>\n",
       "      <td>22</td>\n",
       "    </tr>\n",
       "    <tr>\n",
       "      <th>18</th>\n",
       "      <td>0.000000</td>\n",
       "      <td>0.000000</td>\n",
       "      <td>0.003125</td>\n",
       "      <td>0.006250</td>\n",
       "      <td>5</td>\n",
       "      <td>1</td>\n",
       "      <td>2</td>\n",
       "      <td>{'max_depth': 5, 'min_samples_leaf': 1, 'min_s...</td>\n",
       "      <td>0.776224</td>\n",
       "      <td>0.790210</td>\n",
       "      <td>0.853147</td>\n",
       "      <td>0.781690</td>\n",
       "      <td>0.795775</td>\n",
       "      <td>0.799409</td>\n",
       "      <td>0.027702</td>\n",
       "      <td>9</td>\n",
       "    </tr>\n",
       "    <tr>\n",
       "      <th>19</th>\n",
       "      <td>0.003125</td>\n",
       "      <td>0.006250</td>\n",
       "      <td>0.000000</td>\n",
       "      <td>0.000000</td>\n",
       "      <td>5</td>\n",
       "      <td>1</td>\n",
       "      <td>3</td>\n",
       "      <td>{'max_depth': 5, 'min_samples_leaf': 1, 'min_s...</td>\n",
       "      <td>0.783217</td>\n",
       "      <td>0.790210</td>\n",
       "      <td>0.853147</td>\n",
       "      <td>0.781690</td>\n",
       "      <td>0.795775</td>\n",
       "      <td>0.800808</td>\n",
       "      <td>0.026653</td>\n",
       "      <td>7</td>\n",
       "    </tr>\n",
       "    <tr>\n",
       "      <th>20</th>\n",
       "      <td>0.000000</td>\n",
       "      <td>0.000000</td>\n",
       "      <td>0.003125</td>\n",
       "      <td>0.006250</td>\n",
       "      <td>5</td>\n",
       "      <td>1</td>\n",
       "      <td>5</td>\n",
       "      <td>{'max_depth': 5, 'min_samples_leaf': 1, 'min_s...</td>\n",
       "      <td>0.783217</td>\n",
       "      <td>0.790210</td>\n",
       "      <td>0.853147</td>\n",
       "      <td>0.781690</td>\n",
       "      <td>0.795775</td>\n",
       "      <td>0.800808</td>\n",
       "      <td>0.026653</td>\n",
       "      <td>7</td>\n",
       "    </tr>\n",
       "    <tr>\n",
       "      <th>21</th>\n",
       "      <td>0.003125</td>\n",
       "      <td>0.006250</td>\n",
       "      <td>0.003125</td>\n",
       "      <td>0.006250</td>\n",
       "      <td>5</td>\n",
       "      <td>5</td>\n",
       "      <td>2</td>\n",
       "      <td>{'max_depth': 5, 'min_samples_leaf': 5, 'min_s...</td>\n",
       "      <td>0.790210</td>\n",
       "      <td>0.762238</td>\n",
       "      <td>0.846154</td>\n",
       "      <td>0.795775</td>\n",
       "      <td>0.781690</td>\n",
       "      <td>0.795213</td>\n",
       "      <td>0.027895</td>\n",
       "      <td>19</td>\n",
       "    </tr>\n",
       "    <tr>\n",
       "      <th>22</th>\n",
       "      <td>0.003125</td>\n",
       "      <td>0.006250</td>\n",
       "      <td>0.000000</td>\n",
       "      <td>0.000000</td>\n",
       "      <td>5</td>\n",
       "      <td>5</td>\n",
       "      <td>3</td>\n",
       "      <td>{'max_depth': 5, 'min_samples_leaf': 5, 'min_s...</td>\n",
       "      <td>0.790210</td>\n",
       "      <td>0.762238</td>\n",
       "      <td>0.846154</td>\n",
       "      <td>0.795775</td>\n",
       "      <td>0.781690</td>\n",
       "      <td>0.795213</td>\n",
       "      <td>0.027895</td>\n",
       "      <td>19</td>\n",
       "    </tr>\n",
       "    <tr>\n",
       "      <th>23</th>\n",
       "      <td>0.003125</td>\n",
       "      <td>0.006250</td>\n",
       "      <td>0.000000</td>\n",
       "      <td>0.000000</td>\n",
       "      <td>5</td>\n",
       "      <td>5</td>\n",
       "      <td>5</td>\n",
       "      <td>{'max_depth': 5, 'min_samples_leaf': 5, 'min_s...</td>\n",
       "      <td>0.790210</td>\n",
       "      <td>0.762238</td>\n",
       "      <td>0.846154</td>\n",
       "      <td>0.795775</td>\n",
       "      <td>0.781690</td>\n",
       "      <td>0.795213</td>\n",
       "      <td>0.027895</td>\n",
       "      <td>19</td>\n",
       "    </tr>\n",
       "    <tr>\n",
       "      <th>24</th>\n",
       "      <td>0.003125</td>\n",
       "      <td>0.006250</td>\n",
       "      <td>0.003125</td>\n",
       "      <td>0.006250</td>\n",
       "      <td>5</td>\n",
       "      <td>8</td>\n",
       "      <td>2</td>\n",
       "      <td>{'max_depth': 5, 'min_samples_leaf': 8, 'min_s...</td>\n",
       "      <td>0.804196</td>\n",
       "      <td>0.790210</td>\n",
       "      <td>0.846154</td>\n",
       "      <td>0.795775</td>\n",
       "      <td>0.816901</td>\n",
       "      <td>0.810647</td>\n",
       "      <td>0.019901</td>\n",
       "      <td>4</td>\n",
       "    </tr>\n",
       "    <tr>\n",
       "      <th>25</th>\n",
       "      <td>0.003125</td>\n",
       "      <td>0.006250</td>\n",
       "      <td>0.000000</td>\n",
       "      <td>0.000000</td>\n",
       "      <td>5</td>\n",
       "      <td>8</td>\n",
       "      <td>3</td>\n",
       "      <td>{'max_depth': 5, 'min_samples_leaf': 8, 'min_s...</td>\n",
       "      <td>0.804196</td>\n",
       "      <td>0.790210</td>\n",
       "      <td>0.846154</td>\n",
       "      <td>0.795775</td>\n",
       "      <td>0.816901</td>\n",
       "      <td>0.810647</td>\n",
       "      <td>0.019901</td>\n",
       "      <td>4</td>\n",
       "    </tr>\n",
       "    <tr>\n",
       "      <th>26</th>\n",
       "      <td>0.000000</td>\n",
       "      <td>0.000000</td>\n",
       "      <td>0.003125</td>\n",
       "      <td>0.006250</td>\n",
       "      <td>5</td>\n",
       "      <td>8</td>\n",
       "      <td>5</td>\n",
       "      <td>{'max_depth': 5, 'min_samples_leaf': 8, 'min_s...</td>\n",
       "      <td>0.804196</td>\n",
       "      <td>0.790210</td>\n",
       "      <td>0.846154</td>\n",
       "      <td>0.795775</td>\n",
       "      <td>0.816901</td>\n",
       "      <td>0.810647</td>\n",
       "      <td>0.019901</td>\n",
       "      <td>4</td>\n",
       "    </tr>\n",
       "    <tr>\n",
       "      <th>27</th>\n",
       "      <td>0.003501</td>\n",
       "      <td>0.007002</td>\n",
       "      <td>0.003141</td>\n",
       "      <td>0.006282</td>\n",
       "      <td>10</td>\n",
       "      <td>1</td>\n",
       "      <td>2</td>\n",
       "      <td>{'max_depth': 10, 'min_samples_leaf': 1, 'min_...</td>\n",
       "      <td>0.804196</td>\n",
       "      <td>0.783217</td>\n",
       "      <td>0.825175</td>\n",
       "      <td>0.760563</td>\n",
       "      <td>0.781690</td>\n",
       "      <td>0.790968</td>\n",
       "      <td>0.021980</td>\n",
       "      <td>26</td>\n",
       "    </tr>\n",
       "    <tr>\n",
       "      <th>28</th>\n",
       "      <td>0.002810</td>\n",
       "      <td>0.005621</td>\n",
       "      <td>0.000000</td>\n",
       "      <td>0.000000</td>\n",
       "      <td>10</td>\n",
       "      <td>1</td>\n",
       "      <td>3</td>\n",
       "      <td>{'max_depth': 10, 'min_samples_leaf': 1, 'min_...</td>\n",
       "      <td>0.839161</td>\n",
       "      <td>0.783217</td>\n",
       "      <td>0.811189</td>\n",
       "      <td>0.753521</td>\n",
       "      <td>0.760563</td>\n",
       "      <td>0.789530</td>\n",
       "      <td>0.031962</td>\n",
       "      <td>27</td>\n",
       "    </tr>\n",
       "    <tr>\n",
       "      <th>29</th>\n",
       "      <td>0.003406</td>\n",
       "      <td>0.006812</td>\n",
       "      <td>0.003238</td>\n",
       "      <td>0.006214</td>\n",
       "      <td>10</td>\n",
       "      <td>1</td>\n",
       "      <td>5</td>\n",
       "      <td>{'max_depth': 10, 'min_samples_leaf': 1, 'min_...</td>\n",
       "      <td>0.811189</td>\n",
       "      <td>0.783217</td>\n",
       "      <td>0.818182</td>\n",
       "      <td>0.767606</td>\n",
       "      <td>0.781690</td>\n",
       "      <td>0.792377</td>\n",
       "      <td>0.019139</td>\n",
       "      <td>25</td>\n",
       "    </tr>\n",
       "    <tr>\n",
       "      <th>30</th>\n",
       "      <td>0.000000</td>\n",
       "      <td>0.000000</td>\n",
       "      <td>0.002806</td>\n",
       "      <td>0.005612</td>\n",
       "      <td>10</td>\n",
       "      <td>5</td>\n",
       "      <td>2</td>\n",
       "      <td>{'max_depth': 10, 'min_samples_leaf': 5, 'min_...</td>\n",
       "      <td>0.790210</td>\n",
       "      <td>0.741259</td>\n",
       "      <td>0.839161</td>\n",
       "      <td>0.823944</td>\n",
       "      <td>0.781690</td>\n",
       "      <td>0.795253</td>\n",
       "      <td>0.034281</td>\n",
       "      <td>16</td>\n",
       "    </tr>\n",
       "    <tr>\n",
       "      <th>31</th>\n",
       "      <td>0.003132</td>\n",
       "      <td>0.006264</td>\n",
       "      <td>0.003125</td>\n",
       "      <td>0.006250</td>\n",
       "      <td>10</td>\n",
       "      <td>5</td>\n",
       "      <td>3</td>\n",
       "      <td>{'max_depth': 10, 'min_samples_leaf': 5, 'min_...</td>\n",
       "      <td>0.790210</td>\n",
       "      <td>0.741259</td>\n",
       "      <td>0.839161</td>\n",
       "      <td>0.823944</td>\n",
       "      <td>0.781690</td>\n",
       "      <td>0.795253</td>\n",
       "      <td>0.034281</td>\n",
       "      <td>16</td>\n",
       "    </tr>\n",
       "    <tr>\n",
       "      <th>32</th>\n",
       "      <td>0.003125</td>\n",
       "      <td>0.006250</td>\n",
       "      <td>0.000000</td>\n",
       "      <td>0.000000</td>\n",
       "      <td>10</td>\n",
       "      <td>5</td>\n",
       "      <td>5</td>\n",
       "      <td>{'max_depth': 10, 'min_samples_leaf': 5, 'min_...</td>\n",
       "      <td>0.790210</td>\n",
       "      <td>0.741259</td>\n",
       "      <td>0.839161</td>\n",
       "      <td>0.823944</td>\n",
       "      <td>0.781690</td>\n",
       "      <td>0.795253</td>\n",
       "      <td>0.034281</td>\n",
       "      <td>16</td>\n",
       "    </tr>\n",
       "    <tr>\n",
       "      <th>33</th>\n",
       "      <td>0.003125</td>\n",
       "      <td>0.006250</td>\n",
       "      <td>0.000000</td>\n",
       "      <td>0.000000</td>\n",
       "      <td>10</td>\n",
       "      <td>8</td>\n",
       "      <td>2</td>\n",
       "      <td>{'max_depth': 10, 'min_samples_leaf': 8, 'min_...</td>\n",
       "      <td>0.790210</td>\n",
       "      <td>0.790210</td>\n",
       "      <td>0.846154</td>\n",
       "      <td>0.809859</td>\n",
       "      <td>0.823944</td>\n",
       "      <td>0.812075</td>\n",
       "      <td>0.021276</td>\n",
       "      <td>1</td>\n",
       "    </tr>\n",
       "    <tr>\n",
       "      <th>34</th>\n",
       "      <td>0.006250</td>\n",
       "      <td>0.007655</td>\n",
       "      <td>0.000000</td>\n",
       "      <td>0.000000</td>\n",
       "      <td>10</td>\n",
       "      <td>8</td>\n",
       "      <td>3</td>\n",
       "      <td>{'max_depth': 10, 'min_samples_leaf': 8, 'min_...</td>\n",
       "      <td>0.790210</td>\n",
       "      <td>0.790210</td>\n",
       "      <td>0.846154</td>\n",
       "      <td>0.809859</td>\n",
       "      <td>0.823944</td>\n",
       "      <td>0.812075</td>\n",
       "      <td>0.021276</td>\n",
       "      <td>1</td>\n",
       "    </tr>\n",
       "    <tr>\n",
       "      <th>35</th>\n",
       "      <td>0.003125</td>\n",
       "      <td>0.006250</td>\n",
       "      <td>0.000000</td>\n",
       "      <td>0.000000</td>\n",
       "      <td>10</td>\n",
       "      <td>8</td>\n",
       "      <td>5</td>\n",
       "      <td>{'max_depth': 10, 'min_samples_leaf': 8, 'min_...</td>\n",
       "      <td>0.790210</td>\n",
       "      <td>0.790210</td>\n",
       "      <td>0.846154</td>\n",
       "      <td>0.809859</td>\n",
       "      <td>0.823944</td>\n",
       "      <td>0.812075</td>\n",
       "      <td>0.021276</td>\n",
       "      <td>1</td>\n",
       "    </tr>\n",
       "  </tbody>\n",
       "</table>\n",
       "</div>"
      ],
      "text/plain": [
       "    mean_fit_time  std_fit_time  mean_score_time  std_score_time  \\\n",
       "0        0.001729      0.001494         0.000845        0.000874   \n",
       "1        0.001400      0.000800         0.003619        0.004764   \n",
       "2        0.001801      0.000980         0.000807        0.000404   \n",
       "3        0.002915      0.005830         0.000101        0.000201   \n",
       "4        0.000000      0.000000         0.003131        0.006262   \n",
       "5        0.000000      0.000000         0.006250        0.007655   \n",
       "6        0.000000      0.000000         0.003125        0.006250   \n",
       "7        0.003027      0.006054         0.000000        0.000000   \n",
       "8        0.003131      0.006263         0.000000        0.000000   \n",
       "9        0.006250      0.007654         0.000000        0.000000   \n",
       "10       0.003125      0.006250         0.000000        0.000000   \n",
       "11       0.003125      0.006250         0.000000        0.000000   \n",
       "12       0.003125      0.006250         0.003126        0.006251   \n",
       "13       0.000000      0.000000         0.003125        0.006249   \n",
       "14       0.003125      0.006250         0.000000        0.000000   \n",
       "15       0.003125      0.006250         0.000000        0.000000   \n",
       "16       0.006250      0.007655         0.000000        0.000000   \n",
       "17       0.000000      0.000000         0.000000        0.000000   \n",
       "18       0.000000      0.000000         0.003125        0.006250   \n",
       "19       0.003125      0.006250         0.000000        0.000000   \n",
       "20       0.000000      0.000000         0.003125        0.006250   \n",
       "21       0.003125      0.006250         0.003125        0.006250   \n",
       "22       0.003125      0.006250         0.000000        0.000000   \n",
       "23       0.003125      0.006250         0.000000        0.000000   \n",
       "24       0.003125      0.006250         0.003125        0.006250   \n",
       "25       0.003125      0.006250         0.000000        0.000000   \n",
       "26       0.000000      0.000000         0.003125        0.006250   \n",
       "27       0.003501      0.007002         0.003141        0.006282   \n",
       "28       0.002810      0.005621         0.000000        0.000000   \n",
       "29       0.003406      0.006812         0.003238        0.006214   \n",
       "30       0.000000      0.000000         0.002806        0.005612   \n",
       "31       0.003132      0.006264         0.003125        0.006250   \n",
       "32       0.003125      0.006250         0.000000        0.000000   \n",
       "33       0.003125      0.006250         0.000000        0.000000   \n",
       "34       0.006250      0.007655         0.000000        0.000000   \n",
       "35       0.003125      0.006250         0.000000        0.000000   \n",
       "\n",
       "   param_max_depth param_min_samples_leaf param_min_samples_split  \\\n",
       "0                2                      1                       2   \n",
       "1                2                      1                       3   \n",
       "2                2                      1                       5   \n",
       "3                2                      5                       2   \n",
       "4                2                      5                       3   \n",
       "5                2                      5                       5   \n",
       "6                2                      8                       2   \n",
       "7                2                      8                       3   \n",
       "8                2                      8                       5   \n",
       "9                3                      1                       2   \n",
       "10               3                      1                       3   \n",
       "11               3                      1                       5   \n",
       "12               3                      5                       2   \n",
       "13               3                      5                       3   \n",
       "14               3                      5                       5   \n",
       "15               3                      8                       2   \n",
       "16               3                      8                       3   \n",
       "17               3                      8                       5   \n",
       "18               5                      1                       2   \n",
       "19               5                      1                       3   \n",
       "20               5                      1                       5   \n",
       "21               5                      5                       2   \n",
       "22               5                      5                       3   \n",
       "23               5                      5                       5   \n",
       "24               5                      8                       2   \n",
       "25               5                      8                       3   \n",
       "26               5                      8                       5   \n",
       "27              10                      1                       2   \n",
       "28              10                      1                       3   \n",
       "29              10                      1                       5   \n",
       "30              10                      5                       2   \n",
       "31              10                      5                       3   \n",
       "32              10                      5                       5   \n",
       "33              10                      8                       2   \n",
       "34              10                      8                       3   \n",
       "35              10                      8                       5   \n",
       "\n",
       "                                               params  split0_test_score  \\\n",
       "0   {'max_depth': 2, 'min_samples_leaf': 1, 'min_s...           0.748252   \n",
       "1   {'max_depth': 2, 'min_samples_leaf': 1, 'min_s...           0.748252   \n",
       "2   {'max_depth': 2, 'min_samples_leaf': 1, 'min_s...           0.748252   \n",
       "3   {'max_depth': 2, 'min_samples_leaf': 5, 'min_s...           0.748252   \n",
       "4   {'max_depth': 2, 'min_samples_leaf': 5, 'min_s...           0.748252   \n",
       "5   {'max_depth': 2, 'min_samples_leaf': 5, 'min_s...           0.748252   \n",
       "6   {'max_depth': 2, 'min_samples_leaf': 8, 'min_s...           0.748252   \n",
       "7   {'max_depth': 2, 'min_samples_leaf': 8, 'min_s...           0.748252   \n",
       "8   {'max_depth': 2, 'min_samples_leaf': 8, 'min_s...           0.748252   \n",
       "9   {'max_depth': 3, 'min_samples_leaf': 1, 'min_s...           0.797203   \n",
       "10  {'max_depth': 3, 'min_samples_leaf': 1, 'min_s...           0.797203   \n",
       "11  {'max_depth': 3, 'min_samples_leaf': 1, 'min_s...           0.797203   \n",
       "12  {'max_depth': 3, 'min_samples_leaf': 5, 'min_s...           0.804196   \n",
       "13  {'max_depth': 3, 'min_samples_leaf': 5, 'min_s...           0.804196   \n",
       "14  {'max_depth': 3, 'min_samples_leaf': 5, 'min_s...           0.804196   \n",
       "15  {'max_depth': 3, 'min_samples_leaf': 8, 'min_s...           0.790210   \n",
       "16  {'max_depth': 3, 'min_samples_leaf': 8, 'min_s...           0.790210   \n",
       "17  {'max_depth': 3, 'min_samples_leaf': 8, 'min_s...           0.790210   \n",
       "18  {'max_depth': 5, 'min_samples_leaf': 1, 'min_s...           0.776224   \n",
       "19  {'max_depth': 5, 'min_samples_leaf': 1, 'min_s...           0.783217   \n",
       "20  {'max_depth': 5, 'min_samples_leaf': 1, 'min_s...           0.783217   \n",
       "21  {'max_depth': 5, 'min_samples_leaf': 5, 'min_s...           0.790210   \n",
       "22  {'max_depth': 5, 'min_samples_leaf': 5, 'min_s...           0.790210   \n",
       "23  {'max_depth': 5, 'min_samples_leaf': 5, 'min_s...           0.790210   \n",
       "24  {'max_depth': 5, 'min_samples_leaf': 8, 'min_s...           0.804196   \n",
       "25  {'max_depth': 5, 'min_samples_leaf': 8, 'min_s...           0.804196   \n",
       "26  {'max_depth': 5, 'min_samples_leaf': 8, 'min_s...           0.804196   \n",
       "27  {'max_depth': 10, 'min_samples_leaf': 1, 'min_...           0.804196   \n",
       "28  {'max_depth': 10, 'min_samples_leaf': 1, 'min_...           0.839161   \n",
       "29  {'max_depth': 10, 'min_samples_leaf': 1, 'min_...           0.811189   \n",
       "30  {'max_depth': 10, 'min_samples_leaf': 5, 'min_...           0.790210   \n",
       "31  {'max_depth': 10, 'min_samples_leaf': 5, 'min_...           0.790210   \n",
       "32  {'max_depth': 10, 'min_samples_leaf': 5, 'min_...           0.790210   \n",
       "33  {'max_depth': 10, 'min_samples_leaf': 8, 'min_...           0.790210   \n",
       "34  {'max_depth': 10, 'min_samples_leaf': 8, 'min_...           0.790210   \n",
       "35  {'max_depth': 10, 'min_samples_leaf': 8, 'min_...           0.790210   \n",
       "\n",
       "    split1_test_score  split2_test_score  split3_test_score  \\\n",
       "0            0.762238           0.825175           0.774648   \n",
       "1            0.762238           0.825175           0.774648   \n",
       "2            0.762238           0.825175           0.774648   \n",
       "3            0.762238           0.825175           0.774648   \n",
       "4            0.762238           0.825175           0.774648   \n",
       "5            0.762238           0.825175           0.774648   \n",
       "6            0.762238           0.825175           0.774648   \n",
       "7            0.762238           0.825175           0.774648   \n",
       "8            0.762238           0.825175           0.774648   \n",
       "9            0.804196           0.818182           0.795775   \n",
       "10           0.804196           0.818182           0.795775   \n",
       "11           0.804196           0.818182           0.795775   \n",
       "12           0.790210           0.818182           0.795775   \n",
       "13           0.790210           0.818182           0.795775   \n",
       "14           0.790210           0.818182           0.795775   \n",
       "15           0.790210           0.818182           0.795775   \n",
       "16           0.790210           0.818182           0.795775   \n",
       "17           0.790210           0.818182           0.795775   \n",
       "18           0.790210           0.853147           0.781690   \n",
       "19           0.790210           0.853147           0.781690   \n",
       "20           0.790210           0.853147           0.781690   \n",
       "21           0.762238           0.846154           0.795775   \n",
       "22           0.762238           0.846154           0.795775   \n",
       "23           0.762238           0.846154           0.795775   \n",
       "24           0.790210           0.846154           0.795775   \n",
       "25           0.790210           0.846154           0.795775   \n",
       "26           0.790210           0.846154           0.795775   \n",
       "27           0.783217           0.825175           0.760563   \n",
       "28           0.783217           0.811189           0.753521   \n",
       "29           0.783217           0.818182           0.767606   \n",
       "30           0.741259           0.839161           0.823944   \n",
       "31           0.741259           0.839161           0.823944   \n",
       "32           0.741259           0.839161           0.823944   \n",
       "33           0.790210           0.846154           0.809859   \n",
       "34           0.790210           0.846154           0.809859   \n",
       "35           0.790210           0.846154           0.809859   \n",
       "\n",
       "    split4_test_score  mean_test_score  std_test_score  rank_test_score  \n",
       "0            0.746479         0.771358        0.028786               28  \n",
       "1            0.746479         0.771358        0.028786               28  \n",
       "2            0.746479         0.771358        0.028786               28  \n",
       "3            0.746479         0.771358        0.028786               28  \n",
       "4            0.746479         0.771358        0.028786               28  \n",
       "5            0.746479         0.771358        0.028786               28  \n",
       "6            0.746479         0.771358        0.028786               28  \n",
       "7            0.746479         0.771358        0.028786               28  \n",
       "8            0.746479         0.771358        0.028786               28  \n",
       "9            0.774648         0.798001        0.014118               10  \n",
       "10           0.774648         0.798001        0.014118               10  \n",
       "11           0.774648         0.798001        0.014118               10  \n",
       "12           0.774648         0.796602        0.014470               13  \n",
       "13           0.774648         0.796602        0.014470               13  \n",
       "14           0.774648         0.796602        0.014470               13  \n",
       "15           0.774648         0.793805        0.014078               22  \n",
       "16           0.774648         0.793805        0.014078               22  \n",
       "17           0.774648         0.793805        0.014078               22  \n",
       "18           0.795775         0.799409        0.027702                9  \n",
       "19           0.795775         0.800808        0.026653                7  \n",
       "20           0.795775         0.800808        0.026653                7  \n",
       "21           0.781690         0.795213        0.027895               19  \n",
       "22           0.781690         0.795213        0.027895               19  \n",
       "23           0.781690         0.795213        0.027895               19  \n",
       "24           0.816901         0.810647        0.019901                4  \n",
       "25           0.816901         0.810647        0.019901                4  \n",
       "26           0.816901         0.810647        0.019901                4  \n",
       "27           0.781690         0.790968        0.021980               26  \n",
       "28           0.760563         0.789530        0.031962               27  \n",
       "29           0.781690         0.792377        0.019139               25  \n",
       "30           0.781690         0.795253        0.034281               16  \n",
       "31           0.781690         0.795253        0.034281               16  \n",
       "32           0.781690         0.795253        0.034281               16  \n",
       "33           0.823944         0.812075        0.021276                1  \n",
       "34           0.823944         0.812075        0.021276                1  \n",
       "35           0.823944         0.812075        0.021276                1  "
      ]
     },
     "execution_count": 36,
     "metadata": {},
     "output_type": "execute_result"
    }
   ],
   "source": [
    "pd.DataFrame(grid_dclf.cv_results_)"
   ]
  },
  {
   "cell_type": "code",
   "execution_count": 38,
   "id": "52c73805",
   "metadata": {
    "ExecuteTime": {
     "end_time": "2023-08-22T09:20:20.554122Z",
     "start_time": "2023-08-22T09:20:20.538570Z"
    }
   },
   "outputs": [
    {
     "data": {
      "text/plain": [
       "0.8651685393258427"
      ]
     },
     "execution_count": 38,
     "metadata": {},
     "output_type": "execute_result"
    }
   ],
   "source": [
    "best_dclf = grid_dclf.best_estimator_\n",
    "best_dclf.fit(X_train,y_train)\n",
    "best_pred = best_dclf.predict(X_test)\n",
    "accuracy_score(y_test,best_pred)"
   ]
  },
  {
   "cell_type": "code",
   "execution_count": null,
   "id": "16606e14",
   "metadata": {},
   "outputs": [],
   "source": []
  },
  {
   "cell_type": "code",
   "execution_count": null,
   "id": "9e8053cc",
   "metadata": {},
   "outputs": [],
   "source": []
  }
 ],
 "metadata": {
  "kernelspec": {
   "display_name": "Python 3 (ipykernel)",
   "language": "python",
   "name": "python3"
  },
  "language_info": {
   "codemirror_mode": {
    "name": "ipython",
    "version": 3
   },
   "file_extension": ".py",
   "mimetype": "text/x-python",
   "name": "python",
   "nbconvert_exporter": "python",
   "pygments_lexer": "ipython3",
   "version": "3.7.16"
  }
 },
 "nbformat": 4,
 "nbformat_minor": 5
}
