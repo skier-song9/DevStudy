{
 "cells": [
  {
   "cell_type": "markdown",
   "id": "fee94298",
   "metadata": {},
   "source": [
    "# Encoding"
   ]
  },
  {
   "cell_type": "code",
   "execution_count": 2,
   "id": "26629a64",
   "metadata": {
    "ExecuteTime": {
     "end_time": "2023-08-21T07:31:49.789888Z",
     "start_time": "2023-08-21T07:31:49.780987Z"
    }
   },
   "outputs": [],
   "source": [
    "from sklearn.preprocessing import LabelEncoder, OneHotEncoder\n",
    "\n",
    "items = ['Tv','냉장고','전자렌지','선풍기','컴퓨터','믹서']"
   ]
  },
  {
   "cell_type": "code",
   "execution_count": 6,
   "id": "e0032e29",
   "metadata": {
    "ExecuteTime": {
     "end_time": "2023-08-21T07:33:01.067523Z",
     "start_time": "2023-08-21T07:33:01.057767Z"
    }
   },
   "outputs": [
    {
     "name": "stdout",
     "output_type": "stream",
     "text": [
      "인코딩된 값: [0 1 4 3 5 2]\n"
     ]
    }
   ],
   "source": [
    "# Label Encoding\n",
    "le = LabelEncoder()\n",
    "le.fit(items)\n",
    "le_items = le.transform(items)\n",
    "print('인코딩된 값:',le_items)"
   ]
  },
  {
   "cell_type": "code",
   "execution_count": 7,
   "id": "03225f69",
   "metadata": {
    "ExecuteTime": {
     "end_time": "2023-08-21T07:33:32.278834Z",
     "start_time": "2023-08-21T07:33:32.272716Z"
    }
   },
   "outputs": [
    {
     "name": "stdout",
     "output_type": "stream",
     "text": [
      "['Tv' '냉장고' '전자렌지' '선풍기' '컴퓨터' '믹서']\n"
     ]
    }
   ],
   "source": [
    "# 디코딩\n",
    "print(le.inverse_transform(le_items))"
   ]
  },
  {
   "cell_type": "code",
   "execution_count": 8,
   "id": "8f5838c6",
   "metadata": {
    "ExecuteTime": {
     "end_time": "2023-08-21T07:39:28.484672Z",
     "start_time": "2023-08-21T07:39:28.472625Z"
    }
   },
   "outputs": [
    {
     "data": {
      "text/plain": [
       "array([['Tv'],\n",
       "       ['냉장고'],\n",
       "       ['전자렌지'],\n",
       "       ['선풍기'],\n",
       "       ['컴퓨터'],\n",
       "       ['믹서']], dtype='<U4')"
      ]
     },
     "execution_count": 8,
     "metadata": {},
     "output_type": "execute_result"
    }
   ],
   "source": [
    "import numpy as np\n",
    "# OneHot Encoding\n",
    "ohe = OneHotEncoder()\n",
    "items2d = np.array(items).reshape((-1,1))\n",
    "items2d"
   ]
  },
  {
   "cell_type": "code",
   "execution_count": 11,
   "id": "a6621613",
   "metadata": {
    "ExecuteTime": {
     "end_time": "2023-08-21T07:40:15.413476Z",
     "start_time": "2023-08-21T07:40:15.400884Z"
    }
   },
   "outputs": [
    {
     "data": {
      "text/plain": [
       "array([[1., 0., 0., 0., 0., 0.],\n",
       "       [0., 1., 0., 0., 0., 0.],\n",
       "       [0., 0., 0., 0., 1., 0.],\n",
       "       [0., 0., 0., 1., 0., 0.],\n",
       "       [0., 0., 0., 0., 0., 1.],\n",
       "       [0., 0., 1., 0., 0., 0.]])"
      ]
     },
     "execution_count": 11,
     "metadata": {},
     "output_type": "execute_result"
    }
   ],
   "source": [
    "ohe.fit(items2d)\n",
    "ohe_items = ohe.transform(items2d)\n",
    "ohe_items.toarray()"
   ]
  },
  {
   "cell_type": "code",
   "execution_count": 12,
   "id": "aaf17652",
   "metadata": {
    "ExecuteTime": {
     "end_time": "2023-08-21T07:41:45.468455Z",
     "start_time": "2023-08-21T07:41:45.456098Z"
    }
   },
   "outputs": [
    {
     "data": {
      "text/plain": [
       "array([['Tv'],\n",
       "       ['냉장고'],\n",
       "       ['전자렌지'],\n",
       "       ['선풍기'],\n",
       "       ['컴퓨터'],\n",
       "       ['믹서']], dtype='<U4')"
      ]
     },
     "execution_count": 12,
     "metadata": {},
     "output_type": "execute_result"
    }
   ],
   "source": [
    "ohe.inverse_transform(ohe_items)"
   ]
  },
  {
   "cell_type": "code",
   "execution_count": 14,
   "id": "e4651ac1",
   "metadata": {
    "ExecuteTime": {
     "end_time": "2023-08-21T07:48:45.210606Z",
     "start_time": "2023-08-21T07:48:45.196364Z"
    }
   },
   "outputs": [
    {
     "data": {
      "text/plain": [
       "array([[1, 0, 0, 0, 0, 0],\n",
       "       [0, 1, 0, 0, 0, 0],\n",
       "       [0, 0, 0, 0, 1, 0],\n",
       "       [0, 0, 0, 1, 0, 0],\n",
       "       [0, 0, 0, 0, 0, 1],\n",
       "       [0, 0, 1, 0, 0, 0]], dtype=uint8)"
      ]
     },
     "execution_count": 14,
     "metadata": {},
     "output_type": "execute_result"
    }
   ],
   "source": [
    "# pandas pd.get_dummies()\n",
    "import pandas as pd\n",
    "np.array(pd.get_dummies(items))"
   ]
  },
  {
   "cell_type": "markdown",
   "id": "608ece33",
   "metadata": {
    "ExecuteTime": {
     "end_time": "2023-08-21T07:49:42.018390Z",
     "start_time": "2023-08-21T07:49:41.952083Z"
    }
   },
   "source": [
    "# Feature Scaling"
   ]
  },
  {
   "cell_type": "code",
   "execution_count": 16,
   "id": "fccf8b70",
   "metadata": {
    "ExecuteTime": {
     "end_time": "2023-08-21T08:23:52.323333Z",
     "start_time": "2023-08-21T08:23:52.194873Z"
    }
   },
   "outputs": [
    {
     "data": {
      "text/html": [
       "<div>\n",
       "<style scoped>\n",
       "    .dataframe tbody tr th:only-of-type {\n",
       "        vertical-align: middle;\n",
       "    }\n",
       "\n",
       "    .dataframe tbody tr th {\n",
       "        vertical-align: top;\n",
       "    }\n",
       "\n",
       "    .dataframe thead th {\n",
       "        text-align: right;\n",
       "    }\n",
       "</style>\n",
       "<table border=\"1\" class=\"dataframe\">\n",
       "  <thead>\n",
       "    <tr style=\"text-align: right;\">\n",
       "      <th></th>\n",
       "      <th>sepal length (cm)</th>\n",
       "      <th>sepal width (cm)</th>\n",
       "      <th>petal length (cm)</th>\n",
       "      <th>petal width (cm)</th>\n",
       "    </tr>\n",
       "  </thead>\n",
       "  <tbody>\n",
       "    <tr>\n",
       "      <th>0</th>\n",
       "      <td>5.1</td>\n",
       "      <td>3.5</td>\n",
       "      <td>1.4</td>\n",
       "      <td>0.2</td>\n",
       "    </tr>\n",
       "    <tr>\n",
       "      <th>1</th>\n",
       "      <td>4.9</td>\n",
       "      <td>3.0</td>\n",
       "      <td>1.4</td>\n",
       "      <td>0.2</td>\n",
       "    </tr>\n",
       "    <tr>\n",
       "      <th>2</th>\n",
       "      <td>4.7</td>\n",
       "      <td>3.2</td>\n",
       "      <td>1.3</td>\n",
       "      <td>0.2</td>\n",
       "    </tr>\n",
       "    <tr>\n",
       "      <th>3</th>\n",
       "      <td>4.6</td>\n",
       "      <td>3.1</td>\n",
       "      <td>1.5</td>\n",
       "      <td>0.2</td>\n",
       "    </tr>\n",
       "    <tr>\n",
       "      <th>4</th>\n",
       "      <td>5.0</td>\n",
       "      <td>3.6</td>\n",
       "      <td>1.4</td>\n",
       "      <td>0.2</td>\n",
       "    </tr>\n",
       "  </tbody>\n",
       "</table>\n",
       "</div>"
      ],
      "text/plain": [
       "   sepal length (cm)  sepal width (cm)  petal length (cm)  petal width (cm)\n",
       "0                5.1               3.5                1.4               0.2\n",
       "1                4.9               3.0                1.4               0.2\n",
       "2                4.7               3.2                1.3               0.2\n",
       "3                4.6               3.1                1.5               0.2\n",
       "4                5.0               3.6                1.4               0.2"
      ]
     },
     "execution_count": 16,
     "metadata": {},
     "output_type": "execute_result"
    }
   ],
   "source": [
    "from sklearn.datasets import load_iris\n",
    "import pandas as pd\n",
    "iris = load_iris()\n",
    "iris_data = iris.data\n",
    "iris_target = iris.target\n",
    "iris_df = pd.DataFrame(data=iris.data,columns=iris.feature_names)\n",
    "iris_df.head()"
   ]
  },
  {
   "cell_type": "code",
   "execution_count": 18,
   "id": "e085e5df",
   "metadata": {
    "ExecuteTime": {
     "end_time": "2023-08-21T08:24:41.354563Z",
     "start_time": "2023-08-21T08:24:41.342032Z"
    }
   },
   "outputs": [
    {
     "name": "stdout",
     "output_type": "stream",
     "text": [
      "features 평균\n",
      "sepal length (cm)    5.843333\n",
      "sepal width (cm)     3.057333\n",
      "petal length (cm)    3.758000\n",
      "petal width (cm)     1.199333\n",
      "dtype: float64\n",
      "--------------\n",
      "features 분산\n",
      "sepal length (cm)    0.685694\n",
      "sepal width (cm)     0.189979\n",
      "petal length (cm)    3.116278\n",
      "petal width (cm)     0.581006\n",
      "dtype: float64\n"
     ]
    }
   ],
   "source": [
    "print('features 평균')\n",
    "print(iris_df.mean())\n",
    "print('--------------')\n",
    "print('features 분산')\n",
    "print(iris_df.var())"
   ]
  },
  {
   "cell_type": "code",
   "execution_count": 24,
   "id": "0090858f",
   "metadata": {
    "ExecuteTime": {
     "end_time": "2023-08-21T08:43:47.083622Z",
     "start_time": "2023-08-21T08:43:47.064082Z"
    }
   },
   "outputs": [
    {
     "name": "stdout",
     "output_type": "stream",
     "text": [
      "features 최솟값\n",
      "sepal length (cm)    4.3\n",
      "sepal width (cm)     2.0\n",
      "petal length (cm)    1.0\n",
      "petal width (cm)     0.1\n",
      "dtype: float64\n",
      "----------------\n",
      "features 최댓값\n",
      "sepal length (cm)    7.9\n",
      "sepal width (cm)     4.4\n",
      "petal length (cm)    6.9\n",
      "petal width (cm)     2.5\n",
      "dtype: float64\n"
     ]
    }
   ],
   "source": [
    "print('features 최솟값')\n",
    "print(iris_df.min())\n",
    "print('----------------')\n",
    "print('features 최댓값')\n",
    "print(iris_df.max())"
   ]
  },
  {
   "cell_type": "code",
   "execution_count": 20,
   "id": "723010db",
   "metadata": {
    "ExecuteTime": {
     "end_time": "2023-08-21T08:30:44.394572Z",
     "start_time": "2023-08-21T08:30:44.362356Z"
    }
   },
   "outputs": [
    {
     "data": {
      "text/html": [
       "<div>\n",
       "<style scoped>\n",
       "    .dataframe tbody tr th:only-of-type {\n",
       "        vertical-align: middle;\n",
       "    }\n",
       "\n",
       "    .dataframe tbody tr th {\n",
       "        vertical-align: top;\n",
       "    }\n",
       "\n",
       "    .dataframe thead th {\n",
       "        text-align: right;\n",
       "    }\n",
       "</style>\n",
       "<table border=\"1\" class=\"dataframe\">\n",
       "  <thead>\n",
       "    <tr style=\"text-align: right;\">\n",
       "      <th></th>\n",
       "      <th>sepal length (cm)</th>\n",
       "      <th>sepal width (cm)</th>\n",
       "      <th>petal length (cm)</th>\n",
       "      <th>petal width (cm)</th>\n",
       "    </tr>\n",
       "  </thead>\n",
       "  <tbody>\n",
       "    <tr>\n",
       "      <th>0</th>\n",
       "      <td>-0.900681</td>\n",
       "      <td>1.019004</td>\n",
       "      <td>-1.340227</td>\n",
       "      <td>-1.315444</td>\n",
       "    </tr>\n",
       "    <tr>\n",
       "      <th>1</th>\n",
       "      <td>-1.143017</td>\n",
       "      <td>-0.131979</td>\n",
       "      <td>-1.340227</td>\n",
       "      <td>-1.315444</td>\n",
       "    </tr>\n",
       "    <tr>\n",
       "      <th>2</th>\n",
       "      <td>-1.385353</td>\n",
       "      <td>0.328414</td>\n",
       "      <td>-1.397064</td>\n",
       "      <td>-1.315444</td>\n",
       "    </tr>\n",
       "    <tr>\n",
       "      <th>3</th>\n",
       "      <td>-1.506521</td>\n",
       "      <td>0.098217</td>\n",
       "      <td>-1.283389</td>\n",
       "      <td>-1.315444</td>\n",
       "    </tr>\n",
       "    <tr>\n",
       "      <th>4</th>\n",
       "      <td>-1.021849</td>\n",
       "      <td>1.249201</td>\n",
       "      <td>-1.340227</td>\n",
       "      <td>-1.315444</td>\n",
       "    </tr>\n",
       "    <tr>\n",
       "      <th>...</th>\n",
       "      <td>...</td>\n",
       "      <td>...</td>\n",
       "      <td>...</td>\n",
       "      <td>...</td>\n",
       "    </tr>\n",
       "    <tr>\n",
       "      <th>145</th>\n",
       "      <td>1.038005</td>\n",
       "      <td>-0.131979</td>\n",
       "      <td>0.819596</td>\n",
       "      <td>1.448832</td>\n",
       "    </tr>\n",
       "    <tr>\n",
       "      <th>146</th>\n",
       "      <td>0.553333</td>\n",
       "      <td>-1.282963</td>\n",
       "      <td>0.705921</td>\n",
       "      <td>0.922303</td>\n",
       "    </tr>\n",
       "    <tr>\n",
       "      <th>147</th>\n",
       "      <td>0.795669</td>\n",
       "      <td>-0.131979</td>\n",
       "      <td>0.819596</td>\n",
       "      <td>1.053935</td>\n",
       "    </tr>\n",
       "    <tr>\n",
       "      <th>148</th>\n",
       "      <td>0.432165</td>\n",
       "      <td>0.788808</td>\n",
       "      <td>0.933271</td>\n",
       "      <td>1.448832</td>\n",
       "    </tr>\n",
       "    <tr>\n",
       "      <th>149</th>\n",
       "      <td>0.068662</td>\n",
       "      <td>-0.131979</td>\n",
       "      <td>0.762758</td>\n",
       "      <td>0.790671</td>\n",
       "    </tr>\n",
       "  </tbody>\n",
       "</table>\n",
       "<p>150 rows × 4 columns</p>\n",
       "</div>"
      ],
      "text/plain": [
       "     sepal length (cm)  sepal width (cm)  petal length (cm)  petal width (cm)\n",
       "0            -0.900681          1.019004          -1.340227         -1.315444\n",
       "1            -1.143017         -0.131979          -1.340227         -1.315444\n",
       "2            -1.385353          0.328414          -1.397064         -1.315444\n",
       "3            -1.506521          0.098217          -1.283389         -1.315444\n",
       "4            -1.021849          1.249201          -1.340227         -1.315444\n",
       "..                 ...               ...                ...               ...\n",
       "145           1.038005         -0.131979           0.819596          1.448832\n",
       "146           0.553333         -1.282963           0.705921          0.922303\n",
       "147           0.795669         -0.131979           0.819596          1.053935\n",
       "148           0.432165          0.788808           0.933271          1.448832\n",
       "149           0.068662         -0.131979           0.762758          0.790671\n",
       "\n",
       "[150 rows x 4 columns]"
      ]
     },
     "execution_count": 20,
     "metadata": {},
     "output_type": "execute_result"
    }
   ],
   "source": [
    "from sklearn.preprocessing import StandardScaler\n",
    "ss = StandardScaler()\n",
    "ss.fit(iris_df)\n",
    "iris_ss_scaled = ss.transform(iris_df)\n",
    "# iris_ss_scaled는 ndarray 임.\n",
    "iris_df_ss_scaled=pd.DataFrame(data=iris_ss_scaled,columns=iris.feature_names)\n",
    "iris_df_ss_scaled"
   ]
  },
  {
   "cell_type": "code",
   "execution_count": 28,
   "id": "76ae7a3d",
   "metadata": {
    "ExecuteTime": {
     "end_time": "2023-08-21T08:46:45.513830Z",
     "start_time": "2023-08-21T08:46:45.496634Z"
    },
    "scrolled": true
   },
   "outputs": [
    {
     "data": {
      "text/plain": [
       "sepal length (cm)   -1.690315e-15\n",
       "sepal width (cm)    -1.842970e-15\n",
       "petal length (cm)   -1.698641e-15\n",
       "petal width (cm)    -1.409243e-15\n",
       "dtype: float64"
      ]
     },
     "execution_count": 28,
     "metadata": {},
     "output_type": "execute_result"
    }
   ],
   "source": [
    "iris_df_ss_scaled.mean()"
   ]
  },
  {
   "cell_type": "code",
   "execution_count": 29,
   "id": "7fd7455c",
   "metadata": {
    "ExecuteTime": {
     "end_time": "2023-08-21T08:46:58.391429Z",
     "start_time": "2023-08-21T08:46:58.378174Z"
    }
   },
   "outputs": [
    {
     "data": {
      "text/plain": [
       "sepal length (cm)    1.006711\n",
       "sepal width (cm)     1.006711\n",
       "petal length (cm)    1.006711\n",
       "petal width (cm)     1.006711\n",
       "dtype: float64"
      ]
     },
     "execution_count": 29,
     "metadata": {},
     "output_type": "execute_result"
    }
   ],
   "source": [
    "iris_df_ss_scaled.var()"
   ]
  },
  {
   "cell_type": "code",
   "execution_count": 25,
   "id": "7e29e9d0",
   "metadata": {
    "ExecuteTime": {
     "end_time": "2023-08-21T08:44:28.631083Z",
     "start_time": "2023-08-21T08:44:28.611854Z"
    }
   },
   "outputs": [
    {
     "data": {
      "text/html": [
       "<div>\n",
       "<style scoped>\n",
       "    .dataframe tbody tr th:only-of-type {\n",
       "        vertical-align: middle;\n",
       "    }\n",
       "\n",
       "    .dataframe tbody tr th {\n",
       "        vertical-align: top;\n",
       "    }\n",
       "\n",
       "    .dataframe thead th {\n",
       "        text-align: right;\n",
       "    }\n",
       "</style>\n",
       "<table border=\"1\" class=\"dataframe\">\n",
       "  <thead>\n",
       "    <tr style=\"text-align: right;\">\n",
       "      <th></th>\n",
       "      <th>sepal length (cm)</th>\n",
       "      <th>sepal width (cm)</th>\n",
       "      <th>petal length (cm)</th>\n",
       "      <th>petal width (cm)</th>\n",
       "    </tr>\n",
       "  </thead>\n",
       "  <tbody>\n",
       "    <tr>\n",
       "      <th>0</th>\n",
       "      <td>0.222222</td>\n",
       "      <td>0.625000</td>\n",
       "      <td>0.067797</td>\n",
       "      <td>0.041667</td>\n",
       "    </tr>\n",
       "    <tr>\n",
       "      <th>1</th>\n",
       "      <td>0.166667</td>\n",
       "      <td>0.416667</td>\n",
       "      <td>0.067797</td>\n",
       "      <td>0.041667</td>\n",
       "    </tr>\n",
       "    <tr>\n",
       "      <th>2</th>\n",
       "      <td>0.111111</td>\n",
       "      <td>0.500000</td>\n",
       "      <td>0.050847</td>\n",
       "      <td>0.041667</td>\n",
       "    </tr>\n",
       "    <tr>\n",
       "      <th>3</th>\n",
       "      <td>0.083333</td>\n",
       "      <td>0.458333</td>\n",
       "      <td>0.084746</td>\n",
       "      <td>0.041667</td>\n",
       "    </tr>\n",
       "    <tr>\n",
       "      <th>4</th>\n",
       "      <td>0.194444</td>\n",
       "      <td>0.666667</td>\n",
       "      <td>0.067797</td>\n",
       "      <td>0.041667</td>\n",
       "    </tr>\n",
       "    <tr>\n",
       "      <th>...</th>\n",
       "      <td>...</td>\n",
       "      <td>...</td>\n",
       "      <td>...</td>\n",
       "      <td>...</td>\n",
       "    </tr>\n",
       "    <tr>\n",
       "      <th>145</th>\n",
       "      <td>0.666667</td>\n",
       "      <td>0.416667</td>\n",
       "      <td>0.711864</td>\n",
       "      <td>0.916667</td>\n",
       "    </tr>\n",
       "    <tr>\n",
       "      <th>146</th>\n",
       "      <td>0.555556</td>\n",
       "      <td>0.208333</td>\n",
       "      <td>0.677966</td>\n",
       "      <td>0.750000</td>\n",
       "    </tr>\n",
       "    <tr>\n",
       "      <th>147</th>\n",
       "      <td>0.611111</td>\n",
       "      <td>0.416667</td>\n",
       "      <td>0.711864</td>\n",
       "      <td>0.791667</td>\n",
       "    </tr>\n",
       "    <tr>\n",
       "      <th>148</th>\n",
       "      <td>0.527778</td>\n",
       "      <td>0.583333</td>\n",
       "      <td>0.745763</td>\n",
       "      <td>0.916667</td>\n",
       "    </tr>\n",
       "    <tr>\n",
       "      <th>149</th>\n",
       "      <td>0.444444</td>\n",
       "      <td>0.416667</td>\n",
       "      <td>0.694915</td>\n",
       "      <td>0.708333</td>\n",
       "    </tr>\n",
       "  </tbody>\n",
       "</table>\n",
       "<p>150 rows × 4 columns</p>\n",
       "</div>"
      ],
      "text/plain": [
       "     sepal length (cm)  sepal width (cm)  petal length (cm)  petal width (cm)\n",
       "0             0.222222          0.625000           0.067797          0.041667\n",
       "1             0.166667          0.416667           0.067797          0.041667\n",
       "2             0.111111          0.500000           0.050847          0.041667\n",
       "3             0.083333          0.458333           0.084746          0.041667\n",
       "4             0.194444          0.666667           0.067797          0.041667\n",
       "..                 ...               ...                ...               ...\n",
       "145           0.666667          0.416667           0.711864          0.916667\n",
       "146           0.555556          0.208333           0.677966          0.750000\n",
       "147           0.611111          0.416667           0.711864          0.791667\n",
       "148           0.527778          0.583333           0.745763          0.916667\n",
       "149           0.444444          0.416667           0.694915          0.708333\n",
       "\n",
       "[150 rows x 4 columns]"
      ]
     },
     "execution_count": 25,
     "metadata": {},
     "output_type": "execute_result"
    }
   ],
   "source": [
    "# MinMaxScaler\n",
    "from sklearn.preprocessing import MinMaxScaler\n",
    "mm = MinMaxScaler()\n",
    "mm.fit(iris_df)\n",
    "iris_mm_scaled = mm.transform(iris_df)\n",
    "# iris_ss_scaled는 ndarray 임.\n",
    "iris_df_mm_scaled=pd.DataFrame(data=iris_mm_scaled,columns=iris.feature_names)\n",
    "iris_df_mm_scaled"
   ]
  },
  {
   "cell_type": "code",
   "execution_count": 26,
   "id": "bfce4c2c",
   "metadata": {
    "ExecuteTime": {
     "end_time": "2023-08-21T08:44:31.955150Z",
     "start_time": "2023-08-21T08:44:31.947619Z"
    }
   },
   "outputs": [
    {
     "data": {
      "text/plain": [
       "sepal length (cm)    0.0\n",
       "sepal width (cm)     0.0\n",
       "petal length (cm)    0.0\n",
       "petal width (cm)     0.0\n",
       "dtype: float64"
      ]
     },
     "execution_count": 26,
     "metadata": {},
     "output_type": "execute_result"
    }
   ],
   "source": [
    "iris_df_mm_scaled.min()"
   ]
  },
  {
   "cell_type": "code",
   "execution_count": 27,
   "id": "78b30a48",
   "metadata": {
    "ExecuteTime": {
     "end_time": "2023-08-21T08:44:32.287716Z",
     "start_time": "2023-08-21T08:44:32.271119Z"
    }
   },
   "outputs": [
    {
     "data": {
      "text/plain": [
       "sepal length (cm)    1.0\n",
       "sepal width (cm)     1.0\n",
       "petal length (cm)    1.0\n",
       "petal width (cm)     1.0\n",
       "dtype: float64"
      ]
     },
     "execution_count": 27,
     "metadata": {},
     "output_type": "execute_result"
    }
   ],
   "source": [
    "iris_df_mm_scaled.max()"
   ]
  },
  {
   "cell_type": "markdown",
   "id": "0a649a36",
   "metadata": {},
   "source": [
    "### 스케일링 주의점"
   ]
  },
  {
   "cell_type": "code",
   "execution_count": 32,
   "id": "0646f448",
   "metadata": {
    "ExecuteTime": {
     "end_time": "2023-08-21T08:51:54.874511Z",
     "start_time": "2023-08-21T08:51:54.860420Z"
    }
   },
   "outputs": [
    {
     "name": "stdout",
     "output_type": "stream",
     "text": [
      "[[ 0]\n",
      " [ 1]\n",
      " [ 2]\n",
      " [ 3]\n",
      " [ 4]\n",
      " [ 5]\n",
      " [ 6]\n",
      " [ 7]\n",
      " [ 8]\n",
      " [ 9]\n",
      " [10]]\n",
      "[[0]\n",
      " [1]\n",
      " [2]\n",
      " [3]\n",
      " [4]\n",
      " [5]]\n"
     ]
    }
   ],
   "source": [
    "import numpy as np\n",
    "mmscaler = MinMaxScaler()\n",
    "train_arr = np.arange(11).reshape(-1,1)\n",
    "test_arr = np.arange(0,6).reshape(-1,1)\n",
    "print(train_arr,test_arr,sep='\\n')"
   ]
  },
  {
   "cell_type": "code",
   "execution_count": 33,
   "id": "7439eb22",
   "metadata": {
    "ExecuteTime": {
     "end_time": "2023-08-21T08:52:27.762916Z",
     "start_time": "2023-08-21T08:52:27.752413Z"
    }
   },
   "outputs": [
    {
     "data": {
      "text/plain": [
       "array([[0. ],\n",
       "       [0.1],\n",
       "       [0.2],\n",
       "       [0.3],\n",
       "       [0.4],\n",
       "       [0.5],\n",
       "       [0.6],\n",
       "       [0.7],\n",
       "       [0.8],\n",
       "       [0.9],\n",
       "       [1. ]])"
      ]
     },
     "execution_count": 33,
     "metadata": {},
     "output_type": "execute_result"
    }
   ],
   "source": [
    "mmscaler.fit(train_arr)\n",
    "train_mm_scaled = mmscaler.transform(train_arr)\n",
    "train_mm_scaled"
   ]
  },
  {
   "cell_type": "code",
   "execution_count": 40,
   "id": "94d03141",
   "metadata": {
    "ExecuteTime": {
     "end_time": "2023-08-21T08:56:48.920432Z",
     "start_time": "2023-08-21T08:56:48.911833Z"
    }
   },
   "outputs": [
    {
     "data": {
      "text/plain": [
       "[[0.0], [0.2], [0.4], [0.6000000000000001], [0.8], [1.0]]"
      ]
     },
     "execution_count": 40,
     "metadata": {},
     "output_type": "execute_result"
    }
   ],
   "source": [
    "# 학습 데이터 기준의 MinMaxScaler로 transform한 경우\n",
    "test_mm_scaled = mmscaler.transform(test_arr)\n",
    "test_mm_scaled.tolist() \n",
    "# [[0.0], [0.1], [0.2], [0.3], [0.4], [0.5]]"
   ]
  },
  {
   "cell_type": "code",
   "execution_count": 39,
   "id": "c5cb3455",
   "metadata": {
    "ExecuteTime": {
     "end_time": "2023-08-21T08:55:43.038312Z",
     "start_time": "2023-08-21T08:55:43.027867Z"
    }
   },
   "outputs": [
    {
     "data": {
      "text/plain": [
       "[[0.0], [0.2], [0.4], [0.6000000000000001], [0.8], [1.0]]"
      ]
     },
     "execution_count": 39,
     "metadata": {},
     "output_type": "execute_result"
    }
   ],
   "source": [
    "# 테스트 데이터로 다시 Scaler를 fit()한 다음 transform 한 경우\n",
    "# mmscaler.fit(test_arr)\n",
    "# test_mm_scaled = mmscaler.transform(test_arr)\n",
    "# test_mm_scaled.tolist()\n",
    "# [[0.0], [0.2], [0.4], [0.6], [0.8], [1.0]]"
   ]
  },
  {
   "cell_type": "markdown",
   "id": "d5afdd05",
   "metadata": {},
   "source": [
    "#### 테스트 데이터 피처 스케일링 시, 반드시!!! 학습 데이터를 기준으로 fit한 Scaler로 transform해야 한다"
   ]
  },
  {
   "cell_type": "code",
   "execution_count": null,
   "id": "2c329882",
   "metadata": {},
   "outputs": [],
   "source": []
  },
  {
   "cell_type": "code",
   "execution_count": null,
   "id": "0d8af1f5",
   "metadata": {},
   "outputs": [],
   "source": []
  },
  {
   "cell_type": "code",
   "execution_count": null,
   "id": "4fa54ddf",
   "metadata": {},
   "outputs": [],
   "source": []
  },
  {
   "cell_type": "code",
   "execution_count": null,
   "id": "6d4dd59c",
   "metadata": {},
   "outputs": [],
   "source": []
  },
  {
   "cell_type": "code",
   "execution_count": null,
   "id": "f71abcf9",
   "metadata": {},
   "outputs": [],
   "source": []
  },
  {
   "cell_type": "code",
   "execution_count": null,
   "id": "02630d32",
   "metadata": {},
   "outputs": [],
   "source": []
  },
  {
   "cell_type": "code",
   "execution_count": null,
   "id": "ef171058",
   "metadata": {},
   "outputs": [],
   "source": []
  },
  {
   "cell_type": "code",
   "execution_count": null,
   "id": "5813e673",
   "metadata": {},
   "outputs": [],
   "source": []
  },
  {
   "cell_type": "code",
   "execution_count": null,
   "id": "66375547",
   "metadata": {},
   "outputs": [],
   "source": []
  },
  {
   "cell_type": "code",
   "execution_count": null,
   "id": "71ee30a5",
   "metadata": {},
   "outputs": [],
   "source": []
  },
  {
   "cell_type": "code",
   "execution_count": null,
   "id": "94db8d0d",
   "metadata": {},
   "outputs": [],
   "source": []
  }
 ],
 "metadata": {
  "kernelspec": {
   "display_name": "Python 3 (ipykernel)",
   "language": "python",
   "name": "python3"
  },
  "language_info": {
   "codemirror_mode": {
    "name": "ipython",
    "version": 3
   },
   "file_extension": ".py",
   "mimetype": "text/x-python",
   "name": "python",
   "nbconvert_exporter": "python",
   "pygments_lexer": "ipython3",
   "version": "3.7.16"
  }
 },
 "nbformat": 4,
 "nbformat_minor": 5
}
