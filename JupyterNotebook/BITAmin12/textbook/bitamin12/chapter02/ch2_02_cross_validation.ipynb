{
 "cells": [
  {
   "cell_type": "code",
   "execution_count": 3,
   "id": "43a6fbd9",
   "metadata": {
    "ExecuteTime": {
     "end_time": "2023-08-21T04:24:19.323813Z",
     "start_time": "2023-08-21T04:24:19.134886Z"
    }
   },
   "outputs": [],
   "source": [
    "from sklearn.tree import DecisionTreeClassifier\n",
    "from sklearn.metrics import accuracy_score\n",
    "from sklearn.model_selection import KFold\n",
    "from sklearn.datasets import load_iris\n",
    "import numpy as np"
   ]
  },
  {
   "cell_type": "code",
   "execution_count": 5,
   "id": "59347040",
   "metadata": {
    "ExecuteTime": {
     "end_time": "2023-08-21T04:24:51.529377Z",
     "start_time": "2023-08-21T04:24:51.510837Z"
    }
   },
   "outputs": [],
   "source": [
    "iris = load_iris()\n",
    "features = iris.data\n",
    "label = iris.target\n",
    "dt_clf = DecisionTreeClassifier(random_state=156)"
   ]
  },
  {
   "cell_type": "markdown",
   "id": "05d02e1b",
   "metadata": {},
   "source": [
    "# K-Fold Cross Validation"
   ]
  },
  {
   "cell_type": "code",
   "execution_count": 6,
   "id": "c7cc1bc3",
   "metadata": {
    "ExecuteTime": {
     "end_time": "2023-08-21T04:25:54.200167Z",
     "start_time": "2023-08-21T04:25:54.189873Z"
    }
   },
   "outputs": [
    {
     "name": "stdout",
     "output_type": "stream",
     "text": [
      "붓꽃 데이터셋 크기: 150\n"
     ]
    }
   ],
   "source": [
    "kfold = KFold(n_splits=5)\n",
    "cv_accuracy = [] # K개의 평가 결과를 저장할 리스트\n",
    "print('붓꽃 데이터셋 크기:',features.shape[0])"
   ]
  },
  {
   "cell_type": "code",
   "execution_count": 9,
   "id": "b9717298",
   "metadata": {
    "ExecuteTime": {
     "end_time": "2023-08-21T04:47:24.130507Z",
     "start_time": "2023-08-21T04:47:24.108046Z"
    },
    "scrolled": true
   },
   "outputs": [
    {
     "name": "stdout",
     "output_type": "stream",
     "text": [
      "\n",
      "1 교차 검증 정확도:1.0, 학습 데이터 크기: 120, 검증 데이터 크기: 30\n",
      "\n",
      "2 교차 검증 정확도:0.9667, 학습 데이터 크기: 120, 검증 데이터 크기: 30\n",
      "\n",
      "3 교차 검증 정확도:0.8667, 학습 데이터 크기: 120, 검증 데이터 크기: 30\n",
      "\n",
      "4 교차 검증 정확도:0.9333, 학습 데이터 크기: 120, 검증 데이터 크기: 30\n",
      "\n",
      "5 교차 검증 정확도:0.7333, 학습 데이터 크기: 120, 검증 데이터 크기: 30\n",
      "\n",
      " 평균 검증 정확도: 0.9\n"
     ]
    }
   ],
   "source": [
    "n_iter = 0\n",
    "for train_index,test_index in kfold.split(features):\n",
    "    # split()으로 반환된 index 집합을 갖고 학습/검증 데이터셋 분리\n",
    "    X_train,X_test = features[train_index],features[test_index]\n",
    "    y_train,y_test = label[train_index],label[test_index]\n",
    "    # 학습 및 예측\n",
    "    dt_clf.fit(X_train,y_train)\n",
    "    pred = dt_clf.predict(X_test)\n",
    "    n_iter+=1\n",
    "    # 정확도 평가\n",
    "    accuracy = np.round(accuracy_score(y_test,pred),4)\n",
    "    train_size = X_train.shape[0]\n",
    "    test_size = X_test.shape[0]\n",
    "    print('\\n{0} 교차 검증 정확도:{1}, 학습 데이터 크기: {2}, 검증 데이터 크기: {3}'.format(n_iter,accuracy,train_size,test_size))\n",
    "    cv_accuracy.append(accuracy)\n",
    "print('\\n 평균 검증 정확도:',np.mean(cv_accuracy))"
   ]
  },
  {
   "cell_type": "markdown",
   "id": "64b79b7b",
   "metadata": {},
   "source": [
    "k폴드 교차 검증의 단점 : 데이터의 분포도를 고려하지 않기 때문에 불균형한 데이터셋에서는 문제가 발생한다."
   ]
  },
  {
   "cell_type": "markdown",
   "id": "6e9c9e18",
   "metadata": {},
   "source": [
    "# Stratified K Fold"
   ]
  },
  {
   "cell_type": "code",
   "execution_count": 11,
   "id": "42e8dcf5",
   "metadata": {
    "ExecuteTime": {
     "end_time": "2023-08-21T05:08:12.562929Z",
     "start_time": "2023-08-21T05:08:12.534986Z"
    }
   },
   "outputs": [],
   "source": [
    "from sklearn.model_selection import StratifiedKFold"
   ]
  },
  {
   "cell_type": "code",
   "execution_count": 13,
   "id": "6a307b64",
   "metadata": {
    "ExecuteTime": {
     "end_time": "2023-08-21T05:20:27.513670Z",
     "start_time": "2023-08-21T05:20:27.504281Z"
    }
   },
   "outputs": [],
   "source": [
    "skf = StratifiedKFold(n_splits=3)\n",
    "n_iter=0\n",
    "cv_accuracy_skf = []"
   ]
  },
  {
   "cell_type": "code",
   "execution_count": 15,
   "id": "8889cd40",
   "metadata": {
    "ExecuteTime": {
     "end_time": "2023-08-21T05:23:14.857327Z",
     "start_time": "2023-08-21T05:23:14.834100Z"
    }
   },
   "outputs": [
    {
     "name": "stdout",
     "output_type": "stream",
     "text": [
      "\n",
      "1 교차 검증 정확도:0.98, 학습 데이터 크기: 100, 검증 데이터 크기: 50\n",
      "\n",
      "2 교차 검증 정확도:0.94, 학습 데이터 크기: 100, 검증 데이터 크기: 50\n",
      "\n",
      "3 교차 검증 정확도:0.98, 학습 데이터 크기: 100, 검증 데이터 크기: 50\n",
      "\n",
      " 평균 교차 검증 정확도: 0.9666666666666667\n"
     ]
    }
   ],
   "source": [
    "dt_clf_skf = DecisionTreeClassifier(random_state=156)\n",
    "for train_index,test_index in skf.split(features,label):\n",
    "    # split()으로 반환된 index 집합을 갖고 학습/검증 데이터셋 분리\n",
    "    X_train,X_test = features[train_index],features[test_index]\n",
    "    y_train,y_test = label[train_index],label[test_index]\n",
    "    # 학습 및 예측\n",
    "    dt_clf_skf.fit(X_train,y_train)\n",
    "    pred = dt_clf_skf.predict(X_test)\n",
    "    n_iter+=1\n",
    "    # 정확도 측정\n",
    "    accuracy = np.round(accuracy_score(y_test,pred),4)\n",
    "    train_size = X_train.shape[0]\n",
    "    test_size = X_test.shape[0]\n",
    "    print('\\n{0} 교차 검증 정확도:{1}, 학습 데이터 크기: {2}, 검증 데이터 크기: {3}'.format(n_iter,accuracy,train_size,test_size))\n",
    "    cv_accuracy_skf.append(accuracy)\n",
    "print('\\n 평균 교차 검증 정확도:',np.mean(cv_accuracy_skf))"
   ]
  },
  {
   "cell_type": "markdown",
   "id": "3d955531",
   "metadata": {},
   "source": [
    "각 데이터 폴드 세트의 분포 확인"
   ]
  },
  {
   "cell_type": "code",
   "execution_count": 17,
   "id": "c662467d",
   "metadata": {
    "ExecuteTime": {
     "end_time": "2023-08-21T05:31:09.972214Z",
     "start_time": "2023-08-21T05:31:08.556687Z"
    }
   },
   "outputs": [
    {
     "name": "stdout",
     "output_type": "stream",
     "text": [
      "## 교차 검증: 1\n",
      "학습 데이터셋 분포:\n",
      " 2    34\n",
      "0    33\n",
      "1    33\n",
      "Name: label, dtype: int64\n",
      "검증 데이터셋 분포:\n",
      " 0    17\n",
      "1    17\n",
      "2    16\n",
      "Name: label, dtype: int64\n",
      "## 교차 검증: 2\n",
      "학습 데이터셋 분포:\n",
      " 1    34\n",
      "0    33\n",
      "2    33\n",
      "Name: label, dtype: int64\n",
      "검증 데이터셋 분포:\n",
      " 0    17\n",
      "2    17\n",
      "1    16\n",
      "Name: label, dtype: int64\n",
      "## 교차 검증: 3\n",
      "학습 데이터셋 분포:\n",
      " 0    34\n",
      "1    33\n",
      "2    33\n",
      "Name: label, dtype: int64\n",
      "검증 데이터셋 분포:\n",
      " 1    17\n",
      "2    17\n",
      "0    16\n",
      "Name: label, dtype: int64\n"
     ]
    }
   ],
   "source": [
    "import pandas as pd\n",
    "iris_df = pd.DataFrame(data=iris.data,columns=iris.feature_names)\n",
    "iris_df['label'] = iris.target\n",
    "n_iter = 0\n",
    "for train_index,test_index in skf.split(iris_df,iris_df['label']):\n",
    "    n_iter+=1\n",
    "    label_train = iris_df['label'].iloc[train_index]\n",
    "    label_test = iris_df['label'].iloc[test_index]\n",
    "    print('## 교차 검증: {0}'.format(n_iter))\n",
    "    print('학습 데이터셋 분포:\\n',label_train.value_counts())\n",
    "    print('검증 데이터셋 분포:\\n',label_test.value_counts())"
   ]
  },
  {
   "cell_type": "markdown",
   "id": "e3c6e24b",
   "metadata": {},
   "source": [
    "# cross_val_score()"
   ]
  },
  {
   "cell_type": "code",
   "execution_count": 18,
   "id": "85885e40",
   "metadata": {
    "ExecuteTime": {
     "end_time": "2023-08-21T05:42:58.659584Z",
     "start_time": "2023-08-21T05:42:58.656595Z"
    }
   },
   "outputs": [],
   "source": [
    "from sklearn.model_selection import cross_val_score,cross_validate"
   ]
  },
  {
   "cell_type": "code",
   "execution_count": 20,
   "id": "42072fe0",
   "metadata": {
    "ExecuteTime": {
     "end_time": "2023-08-21T05:43:40.663349Z",
     "start_time": "2023-08-21T05:43:40.658586Z"
    }
   },
   "outputs": [],
   "source": [
    "dt_clf_cvs = DecisionTreeClassifier(random_state=156)\n",
    "data = iris.data\n",
    "label = iris.target"
   ]
  },
  {
   "cell_type": "code",
   "execution_count": 21,
   "id": "fc5a64f1",
   "metadata": {
    "ExecuteTime": {
     "end_time": "2023-08-21T05:44:39.598304Z",
     "start_time": "2023-08-21T05:44:39.575131Z"
    }
   },
   "outputs": [
    {
     "name": "stdout",
     "output_type": "stream",
     "text": [
      "교차 검증별 정확도: [0.98 0.94 0.98]\n",
      "평균 검증 정확도: 0.9666666666666667\n"
     ]
    }
   ],
   "source": [
    "scores = cross_val_score(dt_clf_cvs,data,label,scoring='accuracy',cv=3)\n",
    "print('교차 검증별 정확도:',np.round(scores,4))\n",
    "print('평균 검증 정확도:',np.mean(scores))"
   ]
  },
  {
   "cell_type": "code",
   "execution_count": 22,
   "id": "4db93f56",
   "metadata": {
    "ExecuteTime": {
     "end_time": "2023-08-21T05:45:55.645707Z",
     "start_time": "2023-08-21T05:45:55.623902Z"
    }
   },
   "outputs": [
    {
     "data": {
      "text/plain": [
       "{'fit_time': array([0.00099683, 0.00111365, 0.00099802, 0.00099897, 0.        ]),\n",
       " 'score_time': array([0.00100589, 0.        , 0.        , 0.00127053, 0.        ]),\n",
       " 'test_score': array([0.96666667, 0.96666667, 0.9       , 0.96666667, 1.        ])}"
      ]
     },
     "execution_count": 22,
     "metadata": {},
     "output_type": "execute_result"
    }
   ],
   "source": [
    "cross_validate(dt_clf_cvs,data,label)"
   ]
  },
  {
   "cell_type": "markdown",
   "id": "964d2902",
   "metadata": {},
   "source": [
    "# GridSearchCV"
   ]
  },
  {
   "cell_type": "code",
   "execution_count": 24,
   "id": "a3b17f2a",
   "metadata": {
    "ExecuteTime": {
     "end_time": "2023-08-21T05:54:35.424306Z",
     "start_time": "2023-08-21T05:54:35.420482Z"
    }
   },
   "outputs": [],
   "source": [
    "from sklearn.model_selection import GridSearchCV, train_test_split"
   ]
  },
  {
   "cell_type": "code",
   "execution_count": 25,
   "id": "54b57b8b",
   "metadata": {
    "ExecuteTime": {
     "end_time": "2023-08-21T05:55:11.751696Z",
     "start_time": "2023-08-21T05:55:11.732150Z"
    }
   },
   "outputs": [],
   "source": [
    "X_train,X_test,y_train,y_test=train_test_split(iris.data,iris.target,test_size=0.2,random_state=121)\n",
    "dtree = DecisionTreeClassifier()"
   ]
  },
  {
   "cell_type": "code",
   "execution_count": 26,
   "id": "8ca18663",
   "metadata": {
    "ExecuteTime": {
     "end_time": "2023-08-21T05:55:37.043939Z",
     "start_time": "2023-08-21T05:55:37.033762Z"
    }
   },
   "outputs": [],
   "source": [
    "parameters = {'max_depth':[1,2,3],'min_samples_split':[2,3]}"
   ]
  },
  {
   "cell_type": "code",
   "execution_count": 27,
   "id": "10724dc1",
   "metadata": {
    "ExecuteTime": {
     "end_time": "2023-08-21T05:59:54.080853Z",
     "start_time": "2023-08-21T05:59:54.071733Z"
    }
   },
   "outputs": [],
   "source": [
    "# refit : True(default)이면 가장 좋은 파라미터 설정으로 재학습시킴\n",
    "grid_dtree = GridSearchCV(dtree, param_grid=parameters,cv = 3, refit=True)"
   ]
  },
  {
   "cell_type": "code",
   "execution_count": 29,
   "id": "d5f8472d",
   "metadata": {
    "ExecuteTime": {
     "end_time": "2023-08-21T06:07:31.604156Z",
     "start_time": "2023-08-21T06:07:31.570815Z"
    }
   },
   "outputs": [
    {
     "name": "stdout",
     "output_type": "stream",
     "text": [
      "<class 'sklearn.model_selection._search.GridSearchCV'>\n"
     ]
    }
   ],
   "source": [
    "grid_dtree.fit(X_train,y_train)\n",
    "print(type(grid_dtree))"
   ]
  },
  {
   "cell_type": "code",
   "execution_count": 31,
   "id": "a6ceb422",
   "metadata": {
    "ExecuteTime": {
     "end_time": "2023-08-21T06:28:59.834931Z",
     "start_time": "2023-08-21T06:28:59.807330Z"
    }
   },
   "outputs": [
    {
     "data": {
      "text/html": [
       "<div>\n",
       "<style scoped>\n",
       "    .dataframe tbody tr th:only-of-type {\n",
       "        vertical-align: middle;\n",
       "    }\n",
       "\n",
       "    .dataframe tbody tr th {\n",
       "        vertical-align: top;\n",
       "    }\n",
       "\n",
       "    .dataframe thead th {\n",
       "        text-align: right;\n",
       "    }\n",
       "</style>\n",
       "<table border=\"1\" class=\"dataframe\">\n",
       "  <thead>\n",
       "    <tr style=\"text-align: right;\">\n",
       "      <th></th>\n",
       "      <th>params</th>\n",
       "      <th>mean_test_score</th>\n",
       "      <th>rank_test_score</th>\n",
       "      <th>split0_test_score</th>\n",
       "      <th>split1_test_score</th>\n",
       "      <th>split2_test_score</th>\n",
       "    </tr>\n",
       "  </thead>\n",
       "  <tbody>\n",
       "    <tr>\n",
       "      <th>0</th>\n",
       "      <td>{'max_depth': 1, 'min_samples_split': 2}</td>\n",
       "      <td>0.700000</td>\n",
       "      <td>5</td>\n",
       "      <td>0.700</td>\n",
       "      <td>0.7</td>\n",
       "      <td>0.70</td>\n",
       "    </tr>\n",
       "    <tr>\n",
       "      <th>1</th>\n",
       "      <td>{'max_depth': 1, 'min_samples_split': 3}</td>\n",
       "      <td>0.700000</td>\n",
       "      <td>5</td>\n",
       "      <td>0.700</td>\n",
       "      <td>0.7</td>\n",
       "      <td>0.70</td>\n",
       "    </tr>\n",
       "    <tr>\n",
       "      <th>2</th>\n",
       "      <td>{'max_depth': 2, 'min_samples_split': 2}</td>\n",
       "      <td>0.958333</td>\n",
       "      <td>3</td>\n",
       "      <td>0.925</td>\n",
       "      <td>1.0</td>\n",
       "      <td>0.95</td>\n",
       "    </tr>\n",
       "    <tr>\n",
       "      <th>3</th>\n",
       "      <td>{'max_depth': 2, 'min_samples_split': 3}</td>\n",
       "      <td>0.958333</td>\n",
       "      <td>3</td>\n",
       "      <td>0.925</td>\n",
       "      <td>1.0</td>\n",
       "      <td>0.95</td>\n",
       "    </tr>\n",
       "    <tr>\n",
       "      <th>4</th>\n",
       "      <td>{'max_depth': 3, 'min_samples_split': 2}</td>\n",
       "      <td>0.975000</td>\n",
       "      <td>1</td>\n",
       "      <td>0.975</td>\n",
       "      <td>1.0</td>\n",
       "      <td>0.95</td>\n",
       "    </tr>\n",
       "    <tr>\n",
       "      <th>5</th>\n",
       "      <td>{'max_depth': 3, 'min_samples_split': 3}</td>\n",
       "      <td>0.975000</td>\n",
       "      <td>1</td>\n",
       "      <td>0.975</td>\n",
       "      <td>1.0</td>\n",
       "      <td>0.95</td>\n",
       "    </tr>\n",
       "  </tbody>\n",
       "</table>\n",
       "</div>"
      ],
      "text/plain": [
       "                                     params  mean_test_score  rank_test_score  \\\n",
       "0  {'max_depth': 1, 'min_samples_split': 2}         0.700000                5   \n",
       "1  {'max_depth': 1, 'min_samples_split': 3}         0.700000                5   \n",
       "2  {'max_depth': 2, 'min_samples_split': 2}         0.958333                3   \n",
       "3  {'max_depth': 2, 'min_samples_split': 3}         0.958333                3   \n",
       "4  {'max_depth': 3, 'min_samples_split': 2}         0.975000                1   \n",
       "5  {'max_depth': 3, 'min_samples_split': 3}         0.975000                1   \n",
       "\n",
       "   split0_test_score  split1_test_score  split2_test_score  \n",
       "0              0.700                0.7               0.70  \n",
       "1              0.700                0.7               0.70  \n",
       "2              0.925                1.0               0.95  \n",
       "3              0.925                1.0               0.95  \n",
       "4              0.975                1.0               0.95  \n",
       "5              0.975                1.0               0.95  "
      ]
     },
     "execution_count": 31,
     "metadata": {},
     "output_type": "execute_result"
    }
   ],
   "source": [
    "scores_df = pd.DataFrame(grid_dtree.cv_results_)\n",
    "scores_df[['params','mean_test_score','rank_test_score','split0_test_score','split1_test_score','split2_test_score']]"
   ]
  }
 ],
 "metadata": {
  "kernelspec": {
   "display_name": "Python 3 (ipykernel)",
   "language": "python",
   "name": "python3"
  },
  "language_info": {
   "codemirror_mode": {
    "name": "ipython",
    "version": 3
   },
   "file_extension": ".py",
   "mimetype": "text/x-python",
   "name": "python",
   "nbconvert_exporter": "python",
   "pygments_lexer": "ipython3",
   "version": "3.7.16"
  }
 },
 "nbformat": 4,
 "nbformat_minor": 5
}
