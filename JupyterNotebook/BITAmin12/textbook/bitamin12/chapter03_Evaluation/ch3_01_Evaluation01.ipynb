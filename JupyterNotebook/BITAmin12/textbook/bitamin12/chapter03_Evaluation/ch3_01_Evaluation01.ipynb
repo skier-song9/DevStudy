{
 "cells": [
  {
   "cell_type": "code",
   "execution_count": 1,
   "id": "1fd5b552",
   "metadata": {
    "ExecuteTime": {
     "end_time": "2023-09-04T15:37:06.112971Z",
     "start_time": "2023-09-04T15:37:02.014500Z"
    }
   },
   "outputs": [],
   "source": [
    "from sklearn.base import BaseEstimator\n",
    "import pandas as pd\n",
    "import numpy as np\n",
    "from sklearn.model_selection import train_test_split\n",
    "from sklearn.metrics import accuracy_score"
   ]
  },
  {
   "cell_type": "markdown",
   "id": "2d490c86",
   "metadata": {},
   "source": [
    "## Accuracy"
   ]
  },
  {
   "cell_type": "markdown",
   "id": "982a4539",
   "metadata": {},
   "source": [
    "titanic 생존자들의 성별에 따른 생존 예측을 위한 커스텀 분류 분석 클래스를 정의함."
   ]
  },
  {
   "cell_type": "code",
   "execution_count": 2,
   "id": "1534343f",
   "metadata": {
    "ExecuteTime": {
     "end_time": "2023-09-04T15:37:08.509654Z",
     "start_time": "2023-09-04T15:37:08.487635Z"
    }
   },
   "outputs": [],
   "source": [
    "class MyDummyClassifier(BaseEstimator):\n",
    "    # fit() : do nothing\n",
    "    def fit(self, X, y=None):\n",
    "        pass\n",
    "    #predict() : 성별에 따라 0,1로 결과를 반환\n",
    "    # 남자는 1로, 여자는 0으로 인코딩된다. 남자일 땐 무조건 사망(0)으로 예측하고 여자일 땐 무조건 생존(1)으로 예측\n",
    "    def predict(self, X):\n",
    "        pred = np.zeros((X.shape[0],1)) # (X의 행개수 * 1열) 짜리 2차원 배열 생성\n",
    "        for i in range(X.shape[0]):\n",
    "            if X['Sex'].iloc[i] == 1:\n",
    "                pred[i] = 0\n",
    "            else:\n",
    "                pred[i] = 1\n",
    "        return pred"
   ]
  },
  {
   "cell_type": "markdown",
   "id": "4a1a4422",
   "metadata": {},
   "source": [
    "데이터 전처리 함수 정의"
   ]
  },
  {
   "cell_type": "code",
   "execution_count": 3,
   "id": "65ab80a7",
   "metadata": {
    "ExecuteTime": {
     "end_time": "2023-09-04T15:37:10.035890Z",
     "start_time": "2023-09-04T15:37:10.022823Z"
    }
   },
   "outputs": [],
   "source": [
    "from sklearn.preprocessing import LabelEncoder\n",
    "\n",
    "def fillna(df):\n",
    "    df['Age'].fillna(df['Age'].mean(),inplace=True)\n",
    "    df['Cabin'].fillna('N',inplace=True)\n",
    "    df['Embarked'].fillna('N',inplace=True)\n",
    "    df['Fare'].fillna(0,inplace=True)\n",
    "    return df\n",
    "def drop_features(df):\n",
    "    df.drop(['PassengerId','Name','Ticket'],axis=1,inplace=True)\n",
    "    return df\n",
    "def format_features(df):\n",
    "    df['Cabin'] = df['Cabin'].str[:1]\n",
    "    features = ['Cabin','Sex','Embarked']\n",
    "    for feature in features:\n",
    "        le = LabelEncoder()\n",
    "        le = le.fit(df[feature])\n",
    "        df[feature] = le.transform(df[feature])\n",
    "    return df\n",
    "def transform_features(df):\n",
    "    df = fillna(df)\n",
    "    df = drop_features(df)\n",
    "    df = format_features(df)\n",
    "    return df"
   ]
  },
  {
   "cell_type": "markdown",
   "id": "a1023b1b",
   "metadata": {},
   "source": [
    "train, test data 분리"
   ]
  },
  {
   "cell_type": "code",
   "execution_count": 4,
   "id": "2cb8c969",
   "metadata": {
    "ExecuteTime": {
     "end_time": "2023-08-23T14:38:40.292599Z",
     "start_time": "2023-08-23T14:38:40.261871Z"
    }
   },
   "outputs": [],
   "source": [
    "titanic_df = pd.read_csv('../../data/titanic_train.csv')\n",
    "y_titanic_df = titanic_df['Survived']\n",
    "X_titanic_df = titanic_df.drop('Survived',axis=1)\n",
    "X_titanic_df = transform_features(X_titanic_df)\n",
    "X_train, X_test, y_train, y_test = train_test_split(X_titanic_df,y_titanic_df,\n",
    "                                                   test_size=0.2,random_state=1)"
   ]
  },
  {
   "cell_type": "markdown",
   "id": "f10990f0",
   "metadata": {},
   "source": [
    "학습, 예측 수행"
   ]
  },
  {
   "cell_type": "code",
   "execution_count": 5,
   "id": "539228fd",
   "metadata": {
    "ExecuteTime": {
     "end_time": "2023-08-23T14:38:40.308349Z",
     "start_time": "2023-08-23T14:38:40.293066Z"
    }
   },
   "outputs": [
    {
     "name": "stdout",
     "output_type": "stream",
     "text": [
      "Dummy Classifier의 정확도는 : 0.7765\n"
     ]
    }
   ],
   "source": [
    "myclf = MyDummyClassifier()\n",
    "myclf.fit(X_train,y_train)\n",
    "mypredictions = myclf.predict(X_test)\n",
    "print('Dummy Classifier의 정확도는 : {0:.4f}'.format(accuracy_score(y_test,mypredictions)))"
   ]
  },
  {
   "cell_type": "markdown",
   "id": "231c750f",
   "metadata": {},
   "source": [
    "Accuracy는 데이터 구성에 영향을 많이 받는 평가지표이다.\n",
    "따라서 불균형(imbalanced)한 레이블 값 분포에서는 부정확"
   ]
  },
  {
   "cell_type": "code",
   "execution_count": 6,
   "id": "e5e5dd14",
   "metadata": {
    "ExecuteTime": {
     "end_time": "2023-08-23T14:38:40.358561Z",
     "start_time": "2023-08-23T14:38:40.310351Z"
    }
   },
   "outputs": [],
   "source": [
    "### MNIST Dataset\n",
    "from sklearn.datasets import load_digits\n",
    "from sklearn.model_selection import train_test_split\n",
    "from sklearn.base import BaseEstimator\n",
    "from sklearn.metrics import accuracy_score\n",
    "import numpy as np\n",
    "import pandas as pd"
   ]
  },
  {
   "cell_type": "code",
   "execution_count": 7,
   "id": "7265b2f6",
   "metadata": {
    "ExecuteTime": {
     "end_time": "2023-08-23T14:38:40.374289Z",
     "start_time": "2023-08-23T14:38:40.360561Z"
    }
   },
   "outputs": [],
   "source": [
    "class MyFakeClassifier(BaseEstimator):\n",
    "    def fit(self,X,y):\n",
    "        pass\n",
    "    def predict(self,X):\n",
    "        return np.zeros((len(X),1),dtype=bool)"
   ]
  },
  {
   "cell_type": "code",
   "execution_count": 8,
   "id": "78e12a9c",
   "metadata": {
    "ExecuteTime": {
     "end_time": "2023-08-23T14:38:40.442137Z",
     "start_time": "2023-08-23T14:38:40.375598Z"
    }
   },
   "outputs": [
    {
     "data": {
      "text/plain": [
       "{'data': array([[ 0.,  0.,  5., ...,  0.,  0.,  0.],\n",
       "        [ 0.,  0.,  0., ..., 10.,  0.,  0.],\n",
       "        [ 0.,  0.,  0., ..., 16.,  9.,  0.],\n",
       "        ...,\n",
       "        [ 0.,  0.,  1., ...,  6.,  0.,  0.],\n",
       "        [ 0.,  0.,  2., ..., 12.,  0.,  0.],\n",
       "        [ 0.,  0., 10., ..., 12.,  1.,  0.]]),\n",
       " 'target': array([0, 1, 2, ..., 8, 9, 8]),\n",
       " 'frame': None,\n",
       " 'feature_names': ['pixel_0_0',\n",
       "  'pixel_0_1',\n",
       "  'pixel_0_2',\n",
       "  'pixel_0_3',\n",
       "  'pixel_0_4',\n",
       "  'pixel_0_5',\n",
       "  'pixel_0_6',\n",
       "  'pixel_0_7',\n",
       "  'pixel_1_0',\n",
       "  'pixel_1_1',\n",
       "  'pixel_1_2',\n",
       "  'pixel_1_3',\n",
       "  'pixel_1_4',\n",
       "  'pixel_1_5',\n",
       "  'pixel_1_6',\n",
       "  'pixel_1_7',\n",
       "  'pixel_2_0',\n",
       "  'pixel_2_1',\n",
       "  'pixel_2_2',\n",
       "  'pixel_2_3',\n",
       "  'pixel_2_4',\n",
       "  'pixel_2_5',\n",
       "  'pixel_2_6',\n",
       "  'pixel_2_7',\n",
       "  'pixel_3_0',\n",
       "  'pixel_3_1',\n",
       "  'pixel_3_2',\n",
       "  'pixel_3_3',\n",
       "  'pixel_3_4',\n",
       "  'pixel_3_5',\n",
       "  'pixel_3_6',\n",
       "  'pixel_3_7',\n",
       "  'pixel_4_0',\n",
       "  'pixel_4_1',\n",
       "  'pixel_4_2',\n",
       "  'pixel_4_3',\n",
       "  'pixel_4_4',\n",
       "  'pixel_4_5',\n",
       "  'pixel_4_6',\n",
       "  'pixel_4_7',\n",
       "  'pixel_5_0',\n",
       "  'pixel_5_1',\n",
       "  'pixel_5_2',\n",
       "  'pixel_5_3',\n",
       "  'pixel_5_4',\n",
       "  'pixel_5_5',\n",
       "  'pixel_5_6',\n",
       "  'pixel_5_7',\n",
       "  'pixel_6_0',\n",
       "  'pixel_6_1',\n",
       "  'pixel_6_2',\n",
       "  'pixel_6_3',\n",
       "  'pixel_6_4',\n",
       "  'pixel_6_5',\n",
       "  'pixel_6_6',\n",
       "  'pixel_6_7',\n",
       "  'pixel_7_0',\n",
       "  'pixel_7_1',\n",
       "  'pixel_7_2',\n",
       "  'pixel_7_3',\n",
       "  'pixel_7_4',\n",
       "  'pixel_7_5',\n",
       "  'pixel_7_6',\n",
       "  'pixel_7_7'],\n",
       " 'target_names': array([0, 1, 2, 3, 4, 5, 6, 7, 8, 9]),\n",
       " 'images': array([[[ 0.,  0.,  5., ...,  1.,  0.,  0.],\n",
       "         [ 0.,  0., 13., ..., 15.,  5.,  0.],\n",
       "         [ 0.,  3., 15., ..., 11.,  8.,  0.],\n",
       "         ...,\n",
       "         [ 0.,  4., 11., ..., 12.,  7.,  0.],\n",
       "         [ 0.,  2., 14., ..., 12.,  0.,  0.],\n",
       "         [ 0.,  0.,  6., ...,  0.,  0.,  0.]],\n",
       " \n",
       "        [[ 0.,  0.,  0., ...,  5.,  0.,  0.],\n",
       "         [ 0.,  0.,  0., ...,  9.,  0.,  0.],\n",
       "         [ 0.,  0.,  3., ...,  6.,  0.,  0.],\n",
       "         ...,\n",
       "         [ 0.,  0.,  1., ...,  6.,  0.,  0.],\n",
       "         [ 0.,  0.,  1., ...,  6.,  0.,  0.],\n",
       "         [ 0.,  0.,  0., ..., 10.,  0.,  0.]],\n",
       " \n",
       "        [[ 0.,  0.,  0., ..., 12.,  0.,  0.],\n",
       "         [ 0.,  0.,  3., ..., 14.,  0.,  0.],\n",
       "         [ 0.,  0.,  8., ..., 16.,  0.,  0.],\n",
       "         ...,\n",
       "         [ 0.,  9., 16., ...,  0.,  0.,  0.],\n",
       "         [ 0.,  3., 13., ..., 11.,  5.,  0.],\n",
       "         [ 0.,  0.,  0., ..., 16.,  9.,  0.]],\n",
       " \n",
       "        ...,\n",
       " \n",
       "        [[ 0.,  0.,  1., ...,  1.,  0.,  0.],\n",
       "         [ 0.,  0., 13., ...,  2.,  1.,  0.],\n",
       "         [ 0.,  0., 16., ..., 16.,  5.,  0.],\n",
       "         ...,\n",
       "         [ 0.,  0., 16., ..., 15.,  0.,  0.],\n",
       "         [ 0.,  0., 15., ..., 16.,  0.,  0.],\n",
       "         [ 0.,  0.,  2., ...,  6.,  0.,  0.]],\n",
       " \n",
       "        [[ 0.,  0.,  2., ...,  0.,  0.,  0.],\n",
       "         [ 0.,  0., 14., ..., 15.,  1.,  0.],\n",
       "         [ 0.,  4., 16., ..., 16.,  7.,  0.],\n",
       "         ...,\n",
       "         [ 0.,  0.,  0., ..., 16.,  2.,  0.],\n",
       "         [ 0.,  0.,  4., ..., 16.,  2.,  0.],\n",
       "         [ 0.,  0.,  5., ..., 12.,  0.,  0.]],\n",
       " \n",
       "        [[ 0.,  0., 10., ...,  1.,  0.,  0.],\n",
       "         [ 0.,  2., 16., ...,  1.,  0.,  0.],\n",
       "         [ 0.,  0., 15., ..., 15.,  0.,  0.],\n",
       "         ...,\n",
       "         [ 0.,  4., 16., ..., 16.,  6.,  0.],\n",
       "         [ 0.,  8., 16., ..., 16.,  8.,  0.],\n",
       "         [ 0.,  1.,  8., ..., 12.,  1.,  0.]]]),\n",
       " 'DESCR': \".. _digits_dataset:\\n\\nOptical recognition of handwritten digits dataset\\n--------------------------------------------------\\n\\n**Data Set Characteristics:**\\n\\n    :Number of Instances: 1797\\n    :Number of Attributes: 64\\n    :Attribute Information: 8x8 image of integer pixels in the range 0..16.\\n    :Missing Attribute Values: None\\n    :Creator: E. Alpaydin (alpaydin '@' boun.edu.tr)\\n    :Date: July; 1998\\n\\nThis is a copy of the test set of the UCI ML hand-written digits datasets\\nhttps://archive.ics.uci.edu/ml/datasets/Optical+Recognition+of+Handwritten+Digits\\n\\nThe data set contains images of hand-written digits: 10 classes where\\neach class refers to a digit.\\n\\nPreprocessing programs made available by NIST were used to extract\\nnormalized bitmaps of handwritten digits from a preprinted form. From a\\ntotal of 43 people, 30 contributed to the training set and different 13\\nto the test set. 32x32 bitmaps are divided into nonoverlapping blocks of\\n4x4 and the number of on pixels are counted in each block. This generates\\nan input matrix of 8x8 where each element is an integer in the range\\n0..16. This reduces dimensionality and gives invariance to small\\ndistortions.\\n\\nFor info on NIST preprocessing routines, see M. D. Garris, J. L. Blue, G.\\nT. Candela, D. L. Dimmick, J. Geist, P. J. Grother, S. A. Janet, and C.\\nL. Wilson, NIST Form-Based Handprint Recognition System, NISTIR 5469,\\n1994.\\n\\n.. topic:: References\\n\\n  - C. Kaynak (1995) Methods of Combining Multiple Classifiers and Their\\n    Applications to Handwritten Digit Recognition, MSc Thesis, Institute of\\n    Graduate Studies in Science and Engineering, Bogazici University.\\n  - E. Alpaydin, C. Kaynak (1998) Cascading Classifiers, Kybernetika.\\n  - Ken Tang and Ponnuthurai N. Suganthan and Xi Yao and A. Kai Qin.\\n    Linear dimensionalityreduction using relevance weighted LDA. School of\\n    Electrical and Electronic Engineering Nanyang Technological University.\\n    2005.\\n  - Claudio Gentile. A New Approximate Maximal Margin Classification\\n    Algorithm. NIPS. 2000.\\n\"}"
      ]
     },
     "execution_count": 8,
     "metadata": {},
     "output_type": "execute_result"
    }
   ],
   "source": [
    "digits = load_digits()\n",
    "digits"
   ]
  },
  {
   "cell_type": "code",
   "execution_count": 9,
   "id": "470682b5",
   "metadata": {
    "ExecuteTime": {
     "end_time": "2023-08-23T14:38:40.458201Z",
     "start_time": "2023-08-23T14:38:40.443649Z"
    }
   },
   "outputs": [],
   "source": [
    "y = (digits.target == 7).astype(int)\n",
    "X_train,X_test,y_train,y_test = train_test_split(digits.data,y,random_state=11)"
   ]
  },
  {
   "cell_type": "code",
   "execution_count": 10,
   "id": "8ac6e69b",
   "metadata": {
    "ExecuteTime": {
     "end_time": "2023-08-23T14:38:40.473876Z",
     "start_time": "2023-08-23T14:38:40.462614Z"
    }
   },
   "outputs": [],
   "source": [
    "fakeclf = MyFakeClassifier()\n",
    "fakeclf.fit(X_train,y_train)\n",
    "fakepred = fakeclf.predict(X_test)"
   ]
  },
  {
   "cell_type": "code",
   "execution_count": 11,
   "id": "582238b9",
   "metadata": {
    "ExecuteTime": {
     "end_time": "2023-08-23T14:38:40.492597Z",
     "start_time": "2023-08-23T14:38:40.475922Z"
    }
   },
   "outputs": [
    {
     "data": {
      "text/plain": [
       "0.9"
      ]
     },
     "execution_count": 11,
     "metadata": {},
     "output_type": "execute_result"
    }
   ],
   "source": [
    "accuracy_score(y_test, fakepred)"
   ]
  },
  {
   "cell_type": "markdown",
   "id": "ffd812e5",
   "metadata": {},
   "source": [
    "## Confusion matrix"
   ]
  },
  {
   "cell_type": "code",
   "execution_count": 12,
   "id": "6e0a27b9",
   "metadata": {
    "ExecuteTime": {
     "end_time": "2023-08-23T14:38:40.512241Z",
     "start_time": "2023-08-23T14:38:40.493689Z"
    }
   },
   "outputs": [
    {
     "data": {
      "text/plain": [
       "array([[405,   0],\n",
       "       [ 45,   0]], dtype=int64)"
      ]
     },
     "execution_count": 12,
     "metadata": {},
     "output_type": "execute_result"
    }
   ],
   "source": [
    "from sklearn.metrics import confusion_matrix\n",
    "confusion_matrix(y_test,fakepred)"
   ]
  },
  {
   "cell_type": "markdown",
   "id": "afb92fd0",
   "metadata": {},
   "source": [
    "## get_clf_eval()"
   ]
  },
  {
   "cell_type": "code",
   "execution_count": 13,
   "id": "b349da2f",
   "metadata": {
    "ExecuteTime": {
     "end_time": "2023-08-23T14:38:40.527368Z",
     "start_time": "2023-08-23T14:38:40.513958Z"
    }
   },
   "outputs": [],
   "source": [
    "from sklearn.metrics import accuracy_score,precision_score,recall_score\n",
    "\n",
    "def get_clf_eval(y_test,pred):\n",
    "    confusion = confusion_matrix(y_test,pred)\n",
    "    accuracy = accuracy_score(y_test,pred)\n",
    "    precision = precision_score(y_test,pred)\n",
    "    recall = recall_score(y_test,pred)\n",
    "    print('오차행렬')\n",
    "    print(confusion)\n",
    "    print('Precision: {:.4f}, Recall: {:.4f}, Accuracy: {:.4f}'.format(precision,recall,accuracy))"
   ]
  },
  {
   "cell_type": "code",
   "execution_count": 14,
   "id": "8463c109",
   "metadata": {
    "ExecuteTime": {
     "end_time": "2023-08-23T14:38:40.807738Z",
     "start_time": "2023-08-23T14:38:40.528436Z"
    }
   },
   "outputs": [],
   "source": [
    "import pandas as pd\n",
    "from sklearn.linear_model import LogisticRegression"
   ]
  },
  {
   "cell_type": "code",
   "execution_count": 15,
   "id": "da6b038f",
   "metadata": {
    "ExecuteTime": {
     "end_time": "2023-08-23T14:38:40.826618Z",
     "start_time": "2023-08-23T14:38:40.808357Z"
    }
   },
   "outputs": [],
   "source": [
    "titanic_df = pd.read_csv('../../data/titanic_train.csv')\n",
    "y_titanic_df = titanic_df['Survived']\n",
    "X_titanic_df = titanic_df.drop('Survived',axis=1)\n",
    "X_titanic_df = transform_features(X_titanic_df)\n",
    "X_train,X_test,y_train,y_test = train_test_split(X_titanic_df,y_titanic_df,test_size=0.2,random_state=11)\n",
    "lr_clf = LogisticRegression(solver='liblinear')"
   ]
  },
  {
   "cell_type": "code",
   "execution_count": 16,
   "id": "4d4f8b05",
   "metadata": {
    "ExecuteTime": {
     "end_time": "2023-08-23T14:38:40.842621Z",
     "start_time": "2023-08-23T14:38:40.828130Z"
    }
   },
   "outputs": [
    {
     "name": "stdout",
     "output_type": "stream",
     "text": [
      "712 712\n"
     ]
    }
   ],
   "source": [
    "print(len(X_train),len(y_train))"
   ]
  },
  {
   "cell_type": "code",
   "execution_count": 17,
   "id": "3a90b270",
   "metadata": {
    "ExecuteTime": {
     "end_time": "2023-08-23T14:38:40.860115Z",
     "start_time": "2023-08-23T14:38:40.844676Z"
    }
   },
   "outputs": [],
   "source": [
    "lr_clf.fit(X_train,y_train)\n",
    "lr_clf_pred = lr_clf.predict(X_test)"
   ]
  },
  {
   "cell_type": "code",
   "execution_count": 18,
   "id": "82ade06a",
   "metadata": {
    "ExecuteTime": {
     "end_time": "2023-08-23T14:38:40.875950Z",
     "start_time": "2023-08-23T14:38:40.861229Z"
    }
   },
   "outputs": [
    {
     "name": "stdout",
     "output_type": "stream",
     "text": [
      "오차행렬\n",
      "[[108  10]\n",
      " [ 14  47]]\n",
      "Precision: 0.8246, Recall: 0.7705, Accuracy: 0.8659\n"
     ]
    }
   ],
   "source": [
    "get_clf_eval(y_test,lr_clf_pred)"
   ]
  },
  {
   "cell_type": "markdown",
   "id": "373f173b",
   "metadata": {},
   "source": [
    "## 정밀도, 재현율의 Trade-off 관계"
   ]
  },
  {
   "cell_type": "code",
   "execution_count": 19,
   "id": "71742c89",
   "metadata": {
    "ExecuteTime": {
     "end_time": "2023-08-23T14:38:40.893527Z",
     "start_time": "2023-08-23T14:38:40.877916Z"
    }
   },
   "outputs": [
    {
     "name": "stdout",
     "output_type": "stream",
     "text": [
      "테스트 데이터 개수: 179\n",
      "pred_proba() 결과 shape : (179, 2)\n",
      "pred_proba array의 앞에서 3개 요소: [[0.44935225 0.55064775]\n",
      " [0.86335511 0.13664489]\n",
      " [0.86429643 0.13570357]]\n"
     ]
    }
   ],
   "source": [
    "pred_proba = lr_clf.predict_proba(X_test)\n",
    "pred = lr_clf.predict(X_test)\n",
    "print('테스트 데이터 개수:',X_test.shape[0])\n",
    "print(\"pred_proba() 결과 shape :\",pred_proba.shape)\n",
    "print(\"pred_proba array의 앞에서 3개 요소:\",pred_proba[:3])"
   ]
  },
  {
   "cell_type": "code",
   "execution_count": 20,
   "id": "a6bdc82b",
   "metadata": {
    "ExecuteTime": {
     "end_time": "2023-08-23T14:38:40.910422Z",
     "start_time": "2023-08-23T14:38:40.895140Z"
    }
   },
   "outputs": [
    {
     "name": "stdout",
     "output_type": "stream",
     "text": [
      "[[0. 0. 1.]\n",
      " [1. 0. 0.]\n",
      " [0. 0. 1.]]\n"
     ]
    }
   ],
   "source": [
    "from sklearn.preprocessing import Binarizer\n",
    "\n",
    "X= [[1,-1,2],\n",
    "   [2,0,0],\n",
    "   [0,1.1,1.2]]\n",
    "\n",
    "binarizer = Binarizer(threshold=1.1)\n",
    "print(binarizer.fit_transform(X))"
   ]
  },
  {
   "cell_type": "code",
   "execution_count": 22,
   "id": "8775c06f",
   "metadata": {
    "ExecuteTime": {
     "end_time": "2023-08-23T14:38:50.340689Z",
     "start_time": "2023-08-23T14:38:50.319235Z"
    }
   },
   "outputs": [
    {
     "name": "stdout",
     "output_type": "stream",
     "text": [
      "오차행렬\n",
      "[[108  10]\n",
      " [ 14  47]]\n",
      "Precision: 0.8246, Recall: 0.7705, Accuracy: 0.8659\n"
     ]
    }
   ],
   "source": [
    "custom_threshold = 0.5\n",
    "pred_proba_1 = pred_proba[:,1].reshape(-1,1)\n",
    "\n",
    "binarizer = Binarizer(threshold=custom_threshold).fit(pred_proba_1)\n",
    "custom_predict = binarizer.transform(pred_proba_1)\n",
    "\n",
    "get_clf_eval(y_test,custom_predict)"
   ]
  },
  {
   "cell_type": "code",
   "execution_count": 23,
   "id": "b85538e5",
   "metadata": {
    "ExecuteTime": {
     "end_time": "2023-08-23T14:40:10.449221Z",
     "start_time": "2023-08-23T14:40:10.431904Z"
    }
   },
   "outputs": [
    {
     "name": "stdout",
     "output_type": "stream",
     "text": [
      "오차행렬\n",
      "[[97 21]\n",
      " [11 50]]\n",
      "Precision: 0.7042, Recall: 0.8197, Accuracy: 0.8212\n"
     ]
    }
   ],
   "source": [
    "custom_threshold2 = 0.4\n",
    "pred_proba2 = pred_proba[:,1].reshape(-1,1)\n",
    "\n",
    "binarizer = Binarizer(threshold=custom_threshold2).fit(pred_proba2)\n",
    "custom_predict2 = binarizer.transform(pred_proba2)\n",
    "\n",
    "get_clf_eval(y_test,custom_predict2)"
   ]
  },
  {
   "cell_type": "markdown",
   "id": "a574e127",
   "metadata": {},
   "source": [
    "결정 임계값 바꿔가며 확인하기"
   ]
  },
  {
   "cell_type": "code",
   "execution_count": 29,
   "id": "2866d07d",
   "metadata": {
    "ExecuteTime": {
     "end_time": "2023-08-23T15:09:40.269467Z",
     "start_time": "2023-08-23T15:09:40.252631Z"
    }
   },
   "outputs": [],
   "source": [
    "thresholds = [0.4,0.45,0.50,0.55,0.60]\n",
    "def get_eval_by_threshold(y_test,pred_proba,thresholds):\n",
    "    for custom_threshold in thresholds:\n",
    "        binarizer = Binarizer(threshold=custom_threshold).fit(pred_proba)\n",
    "        custom_pred = binarizer.transform(pred_proba)\n",
    "        print(\"임곗값:\",custom_threshold)\n",
    "        print('TP의 수:',confusion_matrix(y_test,custom_pred)[1,1])\n",
    "        get_clf_eval(y_test,custom_pred)"
   ]
  },
  {
   "cell_type": "code",
   "execution_count": 30,
   "id": "c9b9b5b4",
   "metadata": {
    "ExecuteTime": {
     "end_time": "2023-08-23T15:09:40.747037Z",
     "start_time": "2023-08-23T15:09:40.728621Z"
    }
   },
   "outputs": [
    {
     "name": "stdout",
     "output_type": "stream",
     "text": [
      "임곗값: 0.4\n",
      "TP의 수: 50\n",
      "오차행렬\n",
      "[[97 21]\n",
      " [11 50]]\n",
      "Precision: 0.7042, Recall: 0.8197, Accuracy: 0.8212\n",
      "임곗값: 0.45\n",
      "TP의 수: 48\n",
      "오차행렬\n",
      "[[105  13]\n",
      " [ 13  48]]\n",
      "Precision: 0.7869, Recall: 0.7869, Accuracy: 0.8547\n",
      "임곗값: 0.5\n",
      "TP의 수: 47\n",
      "오차행렬\n",
      "[[108  10]\n",
      " [ 14  47]]\n",
      "Precision: 0.8246, Recall: 0.7705, Accuracy: 0.8659\n",
      "임곗값: 0.55\n",
      "TP의 수: 45\n",
      "오차행렬\n",
      "[[111   7]\n",
      " [ 16  45]]\n",
      "Precision: 0.8654, Recall: 0.7377, Accuracy: 0.8715\n",
      "임곗값: 0.6\n",
      "TP의 수: 44\n",
      "오차행렬\n",
      "[[113   5]\n",
      " [ 17  44]]\n",
      "Precision: 0.8980, Recall: 0.7213, Accuracy: 0.8771\n"
     ]
    }
   ],
   "source": [
    "get_eval_by_threshold(y_test,pred_proba_1,thresholds)"
   ]
  },
  {
   "cell_type": "markdown",
   "id": "bdc0dc34",
   "metadata": {
    "ExecuteTime": {
     "end_time": "2023-08-23T15:09:12.005067Z",
     "start_time": "2023-08-23T15:09:11.992376Z"
    }
   },
   "source": [
    "precision_recall_curve()함수로 간편하게 확인"
   ]
  },
  {
   "cell_type": "code",
   "execution_count": 31,
   "id": "5c74c9a1",
   "metadata": {
    "ExecuteTime": {
     "end_time": "2023-08-23T15:17:58.317074Z",
     "start_time": "2023-08-23T15:17:58.289793Z"
    }
   },
   "outputs": [
    {
     "name": "stdout",
     "output_type": "stream",
     "text": [
      "반환된 분류 결정 임곗값 배열의 Shape: (147,)\n"
     ]
    }
   ],
   "source": [
    "from sklearn.metrics import precision_recall_curve\n",
    "# 레이블 값을 1로 예측할 확률을 추출\n",
    "pred_proba_class1 = lr_clf.predict_proba(X_test)[:,1]\n",
    "\n",
    "precisions,recalls,thresholds = precision_recall_curve(y_test,pred_proba_class1)\n",
    "print('반환된 분류 결정 임곗값 배열의 Shape:',thresholds.shape)"
   ]
  },
  {
   "cell_type": "code",
   "execution_count": 37,
   "id": "1026d2d9",
   "metadata": {
    "ExecuteTime": {
     "end_time": "2023-08-23T15:23:58.055093Z",
     "start_time": "2023-08-23T15:23:58.040114Z"
    }
   },
   "outputs": [
    {
     "name": "stdout",
     "output_type": "stream",
     "text": [
      "10개의 샘플 임곗값: [0.12 0.13 0.15 0.17 0.26 0.38 0.49 0.63 0.76 0.9 ]\n",
      "샘플 임계값별 정밀도: [0.38 0.42 0.45 0.52 0.62 0.68 0.8  0.93 0.96 1.  ]\n",
      "샘플 임계값별 재현율: [1.   0.97 0.9  0.9  0.9  0.82 0.77 0.66 0.44 0.21]\n"
     ]
    }
   ],
   "source": [
    "# prc 함수로 반환된 thresholds ndarray는 너무 커서 15단위로 건너뛰며 확인\n",
    "thr_index = np.arange(0,thresholds.shape[0],15) \n",
    "print('10개의 샘플 임곗값:',np.round(thresholds[thr_index],2))\n",
    "print('샘플 임계값별 정밀도:',np.round(precisions[thr_index],2))\n",
    "print('샘플 임계값별 재현율:',np.round(recalls[thr_index],2))"
   ]
  },
  {
   "cell_type": "code",
   "execution_count": 38,
   "id": "f314a050",
   "metadata": {
    "ExecuteTime": {
     "end_time": "2023-08-23T15:29:02.957884Z",
     "start_time": "2023-08-23T15:29:01.935116Z"
    }
   },
   "outputs": [],
   "source": [
    "# 시각화\n",
    "import matplotlib.pyplot as plt\n",
    "import matplotlib.ticker as ticker\n",
    "%matplotlib inline\n",
    "\n",
    "def precision_recall_curve_plot(y_test,pred_proba_c1):\n",
    "    precisions,recalls,thresholds = precision_recall_curve(y_test,pred_proba_c1)\n",
    "    plt.figure(figsize=(6,4))\n",
    "    thresholds_boundary = thresholds.shape[0]\n",
    "    plt.plot(thresholds,precisions[0:thresholds_boundary],linestyle='--',label='precision')\n",
    "    plt.plot(thresholds,recalls[0:thresholds_boundary],label='recall')\n",
    "    \n",
    "    start , end = plt.xlim()\n",
    "    plt.xticks(np.round(np.arange(start,end,0.1),2))\n",
    "    \n",
    "    plt.xlabel('Threshold value')\n",
    "    plt.ylabel('Precision and Recall value')\n",
    "    plt.legend()\n",
    "    plt.grid()\n",
    "    plt.show()"
   ]
  },
  {
   "cell_type": "code",
   "execution_count": 39,
   "id": "55940d80",
   "metadata": {
    "ExecuteTime": {
     "end_time": "2023-08-23T15:29:13.372431Z",
     "start_time": "2023-08-23T15:29:13.054877Z"
    }
   },
   "outputs": [
    {
     "data": {
      "image/png": "[encoded data removed]",
      "text/plain": [
       "<Figure size 600x400 with 1 Axes>"
      ]
     },
     "metadata": {},
     "output_type": "display_data"
    }
   ],
   "source": [
    "precision_recall_curve_plot(y_test,pred_proba_class1)"
   ]
  },
  {
   "cell_type": "markdown",
   "id": "214a2df6",
   "metadata": {
    "ExecuteTime": {
     "end_time": "2023-08-23T15:41:01.630498Z",
     "start_time": "2023-08-23T15:41:01.621272Z"
    }
   },
   "source": [
    "## ROC AUC"
   ]
  },
  {
   "cell_type": "code",
   "execution_count": 57,
   "id": "4126e838",
   "metadata": {
    "ExecuteTime": {
     "end_time": "2023-08-23T17:31:08.925841Z",
     "start_time": "2023-08-23T17:31:08.890972Z"
    }
   },
   "outputs": [],
   "source": [
    "from sklearn.metrics import roc_curve,roc_auc_score\n",
    "pred_proba_class1 = lr_clf.predict_proba(X_test)[:,1]\n",
    "fprs,tprs,thresholds = roc_curve(y_test,pred_proba_class1)"
   ]
  },
  {
   "cell_type": "code",
   "execution_count": 47,
   "id": "09417a31",
   "metadata": {
    "ExecuteTime": {
     "end_time": "2023-08-23T16:40:30.647148Z",
     "start_time": "2023-08-23T16:40:30.641528Z"
    }
   },
   "outputs": [
    {
     "data": {
      "text/plain": [
       "array([1.94326279, 0.94326279, 0.94040085, 0.93261004, 0.87778554,\n",
       "       0.86565305, 0.72771397, 0.68584875, 0.64779433, 0.63856712,\n",
       "       0.62629696, 0.62067109, 0.61651659, 0.60096648, 0.57135186,\n",
       "       0.55064775, 0.52051719, 0.51724752, 0.49209942, 0.454472  ,\n",
       "       0.44497249, 0.44222415, 0.41445142, 0.40194454, 0.37571831,\n",
       "       0.32202995, 0.28441583, 0.283459  , 0.23280098, 0.22996172,\n",
       "       0.14927478, 0.14927303, 0.14423595, 0.13866563, 0.13821237,\n",
       "       0.13664489, 0.13574049, 0.13571   , 0.13196918, 0.13174371,\n",
       "       0.12941902, 0.12934056, 0.12904511, 0.12350958, 0.1234948 ,\n",
       "       0.11636722, 0.11573102, 0.01974988])"
      ]
     },
     "execution_count": 47,
     "metadata": {},
     "output_type": "execute_result"
    }
   ],
   "source": [
    "thresholds"
   ]
  },
  {
   "cell_type": "code",
   "execution_count": 45,
   "id": "480e4499",
   "metadata": {
    "ExecuteTime": {
     "end_time": "2023-08-23T16:40:02.822840Z",
     "start_time": "2023-08-23T16:40:02.813927Z"
    }
   },
   "outputs": [
    {
     "name": "stdout",
     "output_type": "stream",
     "text": [
      "샘플 임곗값: [0.94326279 0.72771397 0.62067109 0.52051719 0.44222415 0.28441583\n",
      " 0.14927303 0.13574049 0.12934056 0.11573102]\n",
      "샘플 임곗값별 FPR: [0.   0.01 0.03 0.08 0.13 0.25 0.58 0.61 0.75 0.85]\n",
      "샘플 임곗값별 TPR: [0.02 0.49 0.7  0.74 0.8  0.89 0.9  0.95 0.97 1.  ]\n"
     ]
    }
   ],
   "source": [
    "thr_index = np.arange(1,thresholds.shape[0],5)\n",
    "print('샘플 임곗값:',thresholds[thr_index])\n",
    "print('샘플 임곗값별 FPR:',np.round(fprs[thr_index],2))\n",
    "print('샘플 임곗값별 TPR:',np.round(tprs[thr_index],2))"
   ]
  },
  {
   "cell_type": "code",
   "execution_count": 55,
   "id": "bb032e80",
   "metadata": {
    "ExecuteTime": {
     "end_time": "2023-08-23T16:48:58.328606Z",
     "start_time": "2023-08-23T16:48:58.323115Z"
    }
   },
   "outputs": [],
   "source": [
    "# roc 시각화\n",
    "def roc_curve_plot(y_test,pred_proba_c1):\n",
    "    fprs,tprs,thresholds = roc_curve(y_test,pred_proba_c1)\n",
    "    plt.plot(fprs,tprs,label='ROC')\n",
    "    # y=x 직선\n",
    "    plt.plot([0,1],[0,1],'k--',label='Random')\n",
    "    \n",
    "    start,end = plt.xlim()\n",
    "    plt.xticks(np.round(np.arange(start,end,0.1),2))\n",
    "    plt.xlim(0,1);plt.ylim(0,1)\n",
    "    plt.xlabel('FPR( 1-Specificity )')\n",
    "    plt.ylabel('TPR( Recall )')\n",
    "    plt.legend()\n",
    "    plt.show()"
   ]
  },
  {
   "cell_type": "code",
   "execution_count": 56,
   "id": "79cda77f",
   "metadata": {
    "ExecuteTime": {
     "end_time": "2023-08-23T16:48:58.745949Z",
     "start_time": "2023-08-23T16:48:58.605699Z"
    }
   },
   "outputs": [
    {
     "data": {
      "image/png": "[encoded data removed]",
      "text/plain": [
       "<Figure size 640x480 with 1 Axes>"
      ]
     },
     "metadata": {},
     "output_type": "display_data"
    }
   ],
   "source": [
    "roc_curve_plot(y_test,pred_proba_class1)"
   ]
  },
  {
   "cell_type": "code",
   "execution_count": 58,
   "id": "5d921dca",
   "metadata": {
    "ExecuteTime": {
     "end_time": "2023-08-23T17:31:18.538150Z",
     "start_time": "2023-08-23T17:31:18.512036Z"
    }
   },
   "outputs": [
    {
     "data": {
      "text/plain": [
       "0.8986524034454015"
      ]
     },
     "execution_count": 58,
     "metadata": {},
     "output_type": "execute_result"
    }
   ],
   "source": [
    "roc_auc_score(y_test,pred_proba_class1)"
   ]
  }
 ],
 "metadata": {
  "kernelspec": {
   "display_name": "Python 3 (ipykernel)",
   "language": "python",
   "name": "python3"
  },
  "language_info": {
   "codemirror_mode": {
    "name": "ipython",
    "version": 3
   },
   "file_extension": ".py",
   "mimetype": "text/x-python",
   "name": "python",
   "nbconvert_exporter": "python",
   "pygments_lexer": "ipython3",
   "version": "3.9.17"
  }
 },
 "nbformat": 4,
 "nbformat_minor": 5
}
