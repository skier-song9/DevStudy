{
 "cells": [
  {
   "cell_type": "markdown",
   "metadata": {},
   "source": [
    "# 1. 베이지안 최적화 기법 (25점)"
   ]
  },
  {
   "cell_type": "markdown",
   "metadata": {},
   "source": [
    "1-1 XGBoost , LightGBM 하이퍼 하라미터 튜닝 시에 GridSearch 방식보다는 베이지안 최적화 기법적용하고는 하는데 그 이유는 무엇일까요? (5점)"
   ]
  },
  {
   "cell_type": "markdown",
   "metadata": {},
   "source": [
    "모든 경우의 수를 탐색하는 GridSearch보다 베이지안 확률에 기반하여 목적 함수를 갱신해나가는 베이지안 최적화 기법이 수행 속도가 적게 걸리기 때문이다."
   ]
  },
  {
   "cell_type": "markdown",
   "metadata": {},
   "source": [
    "1-2 아래 코드를 실행하고 문제를 풀어주세요 (20점)"
   ]
  },
  {
   "cell_type": "code",
   "execution_count": 2,
   "metadata": {
    "ExecuteTime": {
     "end_time": "2023-09-17T11:12:38.267897Z",
     "start_time": "2023-09-17T11:12:38.206142Z"
    }
   },
   "outputs": [],
   "source": [
    "import pandas as pd\n",
    "import numpy as np\n",
    "from sklearn.datasets import load_wine\n",
    "from sklearn.model_selection import train_test_split\n",
    "import warnings\n",
    "warnings.filterwarnings('ignore')\n",
    "\n",
    "dataset = load_wine()\n",
    "\n",
    "wine = pd.DataFrame(data=dataset.data, columns=dataset.feature_names)\n",
    "wine['target']= dataset.target\n",
    "X_features = wine.iloc[:, :-1]\n",
    "y_label =  wine.iloc[:, -1]\n",
    "\n",
    "# 전체 데이터 중 80%는 학습용 데이터, 20%는 테스트용 데이터 추출\n",
    "X_train, X_test, y_train, y_test=train_test_split(X_features, y_label, test_size=0.2, random_state=156 )\n",
    "\n",
    "# 앞에서 추출한 학습 데이터를 다시 학습과 검증 데이터로 분리\n",
    "X_tr, X_val, y_tr, y_val= train_test_split(X_train, y_train, test_size=0.1, random_state=156 )"
   ]
  },
  {
   "cell_type": "markdown",
   "metadata": {},
   "source": [
    "(1) hyperopt 을 이용하여 max_depth는 5에서 15까지 1간격으로, min_child_weight는 1에서 2까지 1간격으로 colsample_bytree는 0.5에서 0.8사이, learning_rate는 0.01에서 0.2사이 정규 분포된 값으로 검색하도록 지정해주세요 (10점)"
   ]
  },
  {
   "cell_type": "code",
   "execution_count": 3,
   "metadata": {
    "ExecuteTime": {
     "end_time": "2023-09-17T11:14:56.773348Z",
     "start_time": "2023-09-17T11:14:56.364873Z"
    }
   },
   "outputs": [],
   "source": [
    "from hyperopt import hp\n",
    "\n",
    "# max_depth는 5에서 20까지 1간격으로, min_child_weight는 1에서 2까지 1간격으로\n",
    "# colsample_bytree는 0.5에서 1사이, learning_rate는 0.01에서 0.2 사이 정규 분포된 값으로 검색.\n",
    "xgb_search_space = {\n",
    "   'max_depth':hp.quniform('max_depth',5,20,1),\n",
    "   'min_child_weight':hp.quniform('min_child_weight',1,2,1),\n",
    "    'learning_rate' : hp.uniform('learning_rate',0.01,0.2),\n",
    "    'colsample_bytree':hp.uniform('colsample_bytree',0.5,1)\n",
    "}"
   ]
  },
  {
   "cell_type": "markdown",
   "metadata": {},
   "source": [
    "(2) 아래의 코드를 실행한후 objective_func() 함수와 fmin() 함수를 이용하여 최대 반복 수행횟수는 40회로, rstate는 np.random.default_rng(seed=9)) 로 설정하여 최적의 하이퍼 파라미터를 출력해주세요 (10점)"
   ]
  },
  {
   "cell_type": "code",
   "execution_count": 4,
   "metadata": {
    "ExecuteTime": {
     "end_time": "2023-09-17T11:15:19.559123Z",
     "start_time": "2023-09-17T11:15:19.422466Z"
    }
   },
   "outputs": [],
   "source": [
    "from sklearn.model_selection import cross_val_score\n",
    "from xgboost import XGBClassifier\n",
    "from hyperopt import STATUS_OK\n",
    "\n",
    "# fmin()에서 입력된 search_space 값으로 입력된 모든 값은 실수형임.\n",
    "# XGBClassifier의 정수형 하이퍼 파라미터는 정수형 변환을 해줘야 함.\n",
    "# 정확도는 높을수록 더 좋은 수치임. -1 * 정확도를 곱해서 큰 정확도 값일수록 최소가 되도록 변환\n",
    "def objective_func(search_space):\n",
    "    # 수행 시간 절약을 위해 nestimators는 100으로 축소\n",
    "    xgb_clf = XGBClassifier(n_estimators=100, max_depth=int(search_space['max_depth']),\n",
    "                            min_child_weight=int(search_space['min_child_weight']),\n",
    "                            learning_rate=search_space['learning_rate'],\n",
    "                            colsample_bytree=search_space['colsample_bytree'],\n",
    "                            eval_metric='logloss')\n",
    "    accuracy = cross_val_score(xgb_clf, X_train, y_train, scoring='accuracy', cv=3)\n",
    "\n",
    "    # accuracy는 cv=3 개수만큼 roc-auc 결과를 리스트로 가짐. 이를 평균해서 반환하되 -1을 곱함.\n",
    "    return {'loss':-1 * np.mean(accuracy), 'status': STATUS_OK}\n"
   ]
  },
  {
   "cell_type": "code",
   "execution_count": 6,
   "metadata": {
    "ExecuteTime": {
     "end_time": "2023-09-17T11:17:05.085225Z",
     "start_time": "2023-09-17T11:16:58.605498Z"
    }
   },
   "outputs": [
    {
     "name": "stdout",
     "output_type": "stream",
     "text": [
      "100%|██████████| 40/40 [00:06<00:00,  6.19trial/s, best loss: -0.978871158392435]\n",
      "best: {'colsample_bytree': 0.7271863641855161, 'learning_rate': 0.10595638723433032, 'max_depth': 5.0, 'min_child_weight': 2.0}\n"
     ]
    }
   ],
   "source": [
    "from hyperopt import fmin, tpe, Trials\n",
    "\n",
    "trial_val = Trials()\n",
    "best = fmin(fn=objective_func,\n",
    "           space=xgb_search_space,\n",
    "           algo=tpe.suggest,\n",
    "           max_evals=40,\n",
    "           trials=trial_val,rstate=np.random.default_rng(seed=9))\n",
    "print('best:', best)\n"
   ]
  },
  {
   "cell_type": "markdown",
   "metadata": {},
   "source": [
    "아래의 코드를 실행하여 출력해주세요"
   ]
  },
  {
   "cell_type": "code",
   "execution_count": 7,
   "metadata": {
    "ExecuteTime": {
     "end_time": "2023-09-17T11:17:07.831017Z",
     "start_time": "2023-09-17T11:17:07.812579Z"
    }
   },
   "outputs": [
    {
     "name": "stdout",
     "output_type": "stream",
     "text": [
      "colsample_bytree:0.72719, learning_rate:0.10596, max_depth:5, min_child_weight:2\n"
     ]
    }
   ],
   "source": [
    "print('colsample_bytree:{0}, learning_rate:{1}, max_depth:{2}, min_child_weight:{3}'.format(\n",
    "    round(best['colsample_bytree'], 5), round(best['learning_rate'], 5),\n",
    "    int(best['max_depth']), int(best['min_child_weight'])))"
   ]
  },
  {
   "cell_type": "markdown",
   "metadata": {},
   "source": [
    "# 2. 언더 샘플링과 오버 샘플링(20점)"
   ]
  },
  {
   "cell_type": "markdown",
   "metadata": {},
   "source": [
    "레이블이 불균형한 분포를 가지는 데이터 세트를 학습 시킬 때 예측 성능의 문제가 발생할 수 있습니다. 이때 문에 지도학습에서 극도로 불균형 레이블 값 분포로 인한 문제점을 해결하기 위해서는 적절한 학습 데이터를 확보하는 방안이 필요한데 대표적으로 언더 샘플링과 오버 샘플링 있습니다."
   ]
  },
  {
   "cell_type": "markdown",
   "metadata": {},
   "source": [
    "2-1 언더 샘플링과 오버 샘플링의 차이점은 무엇일까요? (10점)"
   ]
  },
  {
   "cell_type": "markdown",
   "metadata": {},
   "source": [
    "언더 샘플링은 더 높은 비율의 레이블 클래스 데이터를 낮추는 것이고,<br>\n",
    "오버 샘플링은 낮은 비율의 레이블 클래스 데이터를 높이는 것이다."
   ]
  },
  {
   "cell_type": "markdown",
   "metadata": {},
   "source": [
    "2-2\n",
    "SMOTE 오버 샘플링을 적용하려고 하는 일부 코드를 가져왔다. 아래에서 불필요 없는 코드의 번호를 모두 적으세요. (10점)"
   ]
  },
  {
   "cell_type": "code",
   "execution_count": 9,
   "metadata": {
    "ExecuteTime": {
     "end_time": "2023-09-17T13:09:10.118726Z",
     "start_time": "2023-09-17T13:09:08.295237Z"
    }
   },
   "outputs": [],
   "source": [
    "from imblearn.over_sampling import SMOTE\n",
    "\n",
    "smote = SMOTE(random_state=0)\n",
    "#1 X_train_over, y_train_over = smote.fit_resample(X_train, y_train)\n",
    "#2 X_test_over, y_test_over = smote.fit_resample(X_test, y_test)\n",
    "#3 print('SMOTE 적용 전 학습용 피처/레이블 데이터 세트: ', X_train.shape, y_train.shape)\n",
    "#4 print('SMOTE 적용 후 학습용 피처/레이블 데이터 세트: ', X_train_over.shape, y_train_over.shape)\n",
    "#5 print('SMOTE 적용 후 레이블 값 분포: \\n', pd.Series(y_train_over).value_counts())\n",
    "#6 print('SMOTE 적용 전 테스트용 피처/레이블 데이터 세트: ', X_test.shape, y_train.shape)\n",
    "#7 print('SMOTE 적용 후 테스트용 피처/레이블 데이터 세트: ', X_test_over.shape, y_test_over.shape)\n",
    "#8 print('SMOTE 적용 후 레이블 값 분포: \\n', pd.Series(y_test_over).value_counts())"
   ]
  },
  {
   "cell_type": "markdown",
   "metadata": {},
   "source": [
    "답) 2, 6, 7, 8"
   ]
  },
  {
   "cell_type": "markdown",
   "metadata": {},
   "source": [
    "3. 스태킹 앙상블 (55점)"
   ]
  },
  {
   "cell_type": "markdown",
   "metadata": {},
   "source": [
    "3-1스태킹이 배깅및 부스팅과 공통점과 차이점이 각각 있습니다. 각각 서술해주세요. (10점)"
   ]
  },
  {
   "cell_type": "markdown",
   "metadata": {},
   "source": [
    "개별 약한 학습기의 결과를 바탕으로 최종 결론을 도출한다는 공통점이 있지만,<br>\n",
    "스태킹은 배깅 및 부스팅과 달리, 최종 결론을 도출할 때 메타 학습기를 사용한다는 차이점이 있다."
   ]
  },
  {
   "cell_type": "markdown",
   "metadata": {},
   "source": [
    "스태킹 모델을 구현해봅시다. 아래코드를 실행해주세요"
   ]
  },
  {
   "cell_type": "code",
   "execution_count": 10,
   "metadata": {
    "ExecuteTime": {
     "end_time": "2023-09-17T13:11:39.635622Z",
     "start_time": "2023-09-17T13:11:39.570545Z"
    }
   },
   "outputs": [],
   "source": [
    "import numpy as np\n",
    "\n",
    "from sklearn.neighbors import KNeighborsClassifier\n",
    "from sklearn.ensemble import RandomForestClassifier\n",
    "from sklearn.ensemble import AdaBoostClassifier\n",
    "from sklearn.tree import DecisionTreeClassifier\n",
    "from sklearn.linear_model import LogisticRegression\n",
    "\n",
    "from sklearn.datasets import load_wine\n",
    "from sklearn.model_selection import train_test_split\n",
    "from sklearn.metrics import accuracy_score\n",
    "\n",
    "dataset = load_wine()\n",
    "\n",
    "wine = pd.DataFrame(data=dataset.data, columns=dataset.feature_names)\n",
    "wine['target']= dataset.target\n",
    "X_features = wine.iloc[:, :-1]\n",
    "y_label =  wine.iloc[:, -1]\n",
    "\n",
    "X_train , X_test , y_train , y_test = train_test_split(X_features , y_label , test_size=0.2 , random_state=0)"
   ]
  },
  {
   "cell_type": "markdown",
   "metadata": {},
   "source": [
    "3-2 개별 모델로, knn, 랜덤포레스트, 결정트리, 에이다부스트를 사용할것입니다. 모델을 생성한 후, 학습하고, 예측하여 각각의 정확도를 파악해주세요\n",
    "아래 코드를 사용해주세요 (20점)\n",
    "\n",
    "knn_clf  = KNeighborsClassifier(n_neighbors=4)\n",
    "\n",
    "rf_clf = RandomForestClassifier(n_estimators=100, random_state=0)\n",
    "dt_clf = DecisionTreeClassifier()\n",
    "ada_clf = AdaBoostClassifier(n_estimators=100)"
   ]
  },
  {
   "cell_type": "code",
   "execution_count": 57,
   "metadata": {
    "ExecuteTime": {
     "end_time": "2023-09-17T14:24:30.984933Z",
     "start_time": "2023-09-17T14:24:30.456244Z"
    }
   },
   "outputs": [],
   "source": [
    "knn_clf  = KNeighborsClassifier(n_neighbors=4)\n",
    "rf_clf = RandomForestClassifier(n_estimators=100, random_state=0)\n",
    "dt_clf = DecisionTreeClassifier()\n",
    "ada_clf = AdaBoostClassifier(n_estimators=100)\n",
    "\n",
    "clfs = [knn_clf,rf_clf,dt_clf,ada_clf]\n",
    "cpreds=[]\n",
    "cnames=[]\n",
    "for c in clfs:\n",
    "    cnames.append(c.__class__.__name__)\n",
    "    c.fit(X_train,y_train)\n",
    "    cpreds.append(c.predict(X_test))"
   ]
  },
  {
   "cell_type": "markdown",
   "metadata": {},
   "source": [
    "3-3 위의 개별 알고리즘으로부터 예측된 값들을 라벨로 옆으로 붙여서 피처 값으로 만들어주세요. 반환된 예측 데이터 세트는 1차원 형태의 ndarry 이므로 numpy의 transpose()를 이용하면 됩니다. (10점)"
   ]
  },
  {
   "cell_type": "code",
   "execution_count": 58,
   "metadata": {
    "ExecuteTime": {
     "end_time": "2023-09-17T14:25:05.926122Z",
     "start_time": "2023-09-17T14:25:05.919035Z"
    }
   },
   "outputs": [
    {
     "data": {
      "text/plain": [
       "(36, 4)"
      ]
     },
     "execution_count": 58,
     "metadata": {},
     "output_type": "execute_result"
    }
   ],
   "source": [
    "stack = np.array(cpreds).T\n",
    "stack.shape"
   ]
  },
  {
   "cell_type": "markdown",
   "metadata": {},
   "source": [
    "3-4 3-2 의 모델의 예측결과를 합한 데이터 세트로 학습/ 예측하는 최종 모델은 로지스틱 회귀 모델입니다. 최종 메타 모델인 로지스틱회귀를 학습하고 예측 정확도를 측정해주세요. (15점)"
   ]
  },
  {
   "cell_type": "code",
   "execution_count": 63,
   "metadata": {
    "ExecuteTime": {
     "end_time": "2023-09-17T14:37:36.383461Z",
     "start_time": "2023-09-17T14:37:36.343394Z"
    }
   },
   "outputs": [
    {
     "data": {
      "text/plain": [
       "1.0"
      ]
     },
     "execution_count": 63,
     "metadata": {},
     "output_type": "execute_result"
    }
   ],
   "source": [
    "lgr = LogisticRegression()\n",
    "lgr.fit(stack,y_test)\n",
    "\n",
    "final_pred = lgr.predict(stack)\n",
    "accuracy_score(y_test,final_pred)"
   ]
  },
  {
   "cell_type": "markdown",
   "metadata": {},
   "source": [
    "-------"
   ]
  },
  {
   "cell_type": "markdown",
   "metadata": {},
   "source": [
    "## 문제 1. 베이지안 최적화 (25점)"
   ]
  },
  {
   "cell_type": "markdown",
   "metadata": {},
   "source": [
    "(1) **다음 빈칸 (A),(B)에 들어갈 단어를 적어주세요** - 1점\n",
    "\n",
    "\n",
    "사이킷런이 제공하는 GridSeachCV API는 분류나 회귀 알고리즘에 사용되는 (A)를 순차적으로 입력하면서 편리하게 최적의 (B)를 도출하는 방안을 제공합니다. "
   ]
  },
  {
   "cell_type": "markdown",
   "metadata": {},
   "source": [
    "하이퍼 파라미터"
   ]
  },
  {
   "cell_type": "markdown",
   "metadata": {},
   "source": [
    "(2) 사이킷런에서 제공하는 Grid Search방식이 XGBoost나 LightGBM 알고리즘에서 하이퍼 파라미터 튜닝에 잘 사용되지 않는 이유에 대해서 적어주세요. - 1점"
   ]
  },
  {
   "cell_type": "markdown",
   "metadata": {},
   "source": [
    "XGBoost와 LightGBM의 하이퍼 파라미터 종류가 워낙 많고, 값의 범위가 연속적인 파라미터들이 많기 때문에, 일일이 값을 설정하는 GridSearchCV 방식으로 정확한 하이퍼 파라미터를 찾기 위해서는 하나의 파라미터별로 수십, 수백개의 값을 전달해야 해서, 수행 시간이 오래 걸린다."
   ]
  },
  {
   "cell_type": "markdown",
   "metadata": {},
   "source": [
    "(3) **다음 빈칸 (C),(D)에 들어갈 단어를 적어주세요** - 1점\n",
    "\n",
    "베이지안 최적화를 구성하는 두 가지 중요 요소에는 (C)와 (D)가 있다. '\n",
    "\n",
    "(C)는 (D)로부터 최적 함수를 예측할 수 있는 값을 추천받은 뒤 이를 기반으로 최적 함수 모델을 개선한다.\n",
    "\n",
    "(D)는 개선된 대체 모델을 기반으로 최적 입력값을 계산한다."
   ]
  },
  {
   "cell_type": "markdown",
   "metadata": {},
   "source": [
    "C : 대체 모델 <br>\n",
    "D ; 흭득 함수"
   ]
  },
  {
   "cell_type": "markdown",
   "metadata": {},
   "source": [
    "*   베이지안 최적화를 머신러닝 모델의 하이퍼 파라미터 튜닝에 적용할 수 있게 해주는 패키지인 HyperOpt에 대해 알아보자."
   ]
  },
  {
   "cell_type": "markdown",
   "metadata": {},
   "source": [
    "아래 코드를 실행해주세요."
   ]
  },
  {
   "cell_type": "code",
   "execution_count": null,
   "metadata": {},
   "outputs": [],
   "source": [
    "pip install hyperopt"
   ]
  },
  {
   "cell_type": "markdown",
   "metadata": {},
   "source": [
    "(4) **다음 빈칸 (A)에 들어갈 단어를 적어주세요** - 1점\n",
    "\n",
    "HyperOpt는 목적 함수 반환 값의 (A)를 가지는 최적 입력값을 유추한다."
   ]
  },
  {
   "cell_type": "markdown",
   "metadata": {},
   "source": [
    "최댓값"
   ]
  },
  {
   "cell_type": "markdown",
   "metadata": {},
   "source": [
    "### HyperOpt를 이용한 XGBoost 하이퍼 파라미터 최적화"
   ]
  },
  {
   "cell_type": "markdown",
   "metadata": {},
   "source": [
    "0. 아래 코드를 실행해주세요."
   ]
  },
  {
   "cell_type": "code",
   "execution_count": 64,
   "metadata": {
    "ExecuteTime": {
     "end_time": "2023-09-17T14:47:08.246672Z",
     "start_time": "2023-09-17T14:47:08.200707Z"
    }
   },
   "outputs": [],
   "source": [
    "import pandas as pd\n",
    "import numpy as np\n",
    "from sklearn.datasets import load_breast_cancer\n",
    "from sklearn.model_selection import train_test_split, cross_val_score\n",
    "from sklearn.metrics import roc_auc_score, accuracy_score\n",
    "from hyperopt import hp, STATUS_OK, fmin, tpe, Trials\n",
    "from xgboost import XGBClassifier\n",
    "import warnings\n",
    "warnings.filterwarnings('ignore')\n",
    "\n",
    "dataset = load_breast_cancer()\n",
    "\n",
    "cancer_df = pd.DataFrame(data=dataset.data, columns=dataset.feature_names)\n",
    "cancer_df['target']= dataset.target\n",
    "X_features = cancer_df.iloc[:, :-1]\n",
    "y_label = cancer_df.iloc[:, -1]"
   ]
  },
  {
   "cell_type": "markdown",
   "metadata": {},
   "source": [
    "1. 데이터 추출을 합니다. - 1점"
   ]
  },
  {
   "cell_type": "code",
   "execution_count": 65,
   "metadata": {
    "ExecuteTime": {
     "end_time": "2023-09-17T14:48:04.029080Z",
     "start_time": "2023-09-17T14:48:04.006340Z"
    }
   },
   "outputs": [],
   "source": [
    "# 전체 데이터 중 80%는 학습용 데이터, 20%는 테스트용 데이터 추출, random_state=156\n",
    "X_train, X_test, y_train, y_test=train_test_split(X_features,y_label,train_size=0.2,\n",
    "                                                 random_state=156)\n",
    "\n",
    "# 앞에서 추출한 학습 데이터를 다시 학습과 검증 데이터로 분리, random_state=156\n",
    "X_tr, X_val, y_tr, y_val= train_test_split(X_train,y_train,random_state=156,\n",
    "                                          test_size=0.1)"
   ]
  },
  {
   "cell_type": "markdown",
   "metadata": {},
   "source": [
    "2. 입력값의 검색공간을 설정해줍니다.(hyperOpt의 함수 사용) - 5점"
   ]
  },
  {
   "cell_type": "code",
   "execution_count": 66,
   "metadata": {
    "ExecuteTime": {
     "end_time": "2023-09-17T14:49:16.679630Z",
     "start_time": "2023-09-17T14:49:16.653217Z"
    }
   },
   "outputs": [],
   "source": [
    "# max_depth는 4에서 16까지 1간격으로, min_child_weight는 1에서 3까지 1간격으로\n",
    "# colsample_bytree는 0.4에서 0.8사이, learning_rate는 0.005에서 0.2 사이 정규 분포된 값으로 검색.\n",
    "xgb_search_space = {'max_depth': hp.quniform('max_depth',4,16,1), \n",
    "                    'min_child_weight':hp.quniform('min_child_weight',1,3,1),\n",
    "                    'learning_rate':hp.uniform('learning_rate',0.005,0.2),\n",
    "                    'colsample_bytree': hp.uniform('colsample_bytree',0.4,0.8),\n",
    "                   }"
   ]
  },
  {
   "cell_type": "markdown",
   "metadata": {},
   "source": [
    "3. 입력 값에 따른 목적 함수를 설정해줍니다. - 5점"
   ]
  },
  {
   "cell_type": "code",
   "execution_count": 67,
   "metadata": {
    "ExecuteTime": {
     "end_time": "2023-09-17T14:54:53.115736Z",
     "start_time": "2023-09-17T14:54:53.087403Z"
    }
   },
   "outputs": [],
   "source": [
    "# 검색 공간에서 목적 함수로 입력되는 모든 인자들은 실수형 값이므로 정수형 변환을 해줘야 함\n",
    "# 정확도는 높을수록 더 좋은 수치인데 최솟값을 가지는 입력값을 유추하니 어떻게 변환하면 좋을까요?\n",
    "# accuracy는 cross_val_score로 판단(scoring=\"accuracy\"), cv=3\n",
    "\n",
    "def objective_func(search_space):\n",
    "    # accuracy는 cv=3 개수만큼 roc-auc 결과를 리스트로 가짐. 이를 평균해서 반환하되 -1을 곱함.\n",
    "   \n",
    "    xgb_clf = XGBClassifier(n_estimators=100, max_depth=int(search_space['max_depth']),\n",
    "                            min_child_weight=int(search_space['min_child_weight']),\n",
    "                            learning_rate=search_space['learning_rate'],\n",
    "                            colsample_bytree=search_space['colsample_bytree'],\n",
    "                            eval_metric='logloss')\n",
    "    accuracy = cross_val_score(xgb_clf, X_tr, y_tr, scoring='roc_auc', cv=3)\n",
    "\n",
    "    return {'loss':-1 * np.mean(accuracy), 'status': STATUS_OK}"
   ]
  },
  {
   "cell_type": "markdown",
   "metadata": {},
   "source": [
    "4. fmin()을 이용해 최적 하이퍼 파라미터를 도출해줍니다. - 5점"
   ]
  },
  {
   "cell_type": "code",
   "execution_count": 68,
   "metadata": {
    "ExecuteTime": {
     "end_time": "2023-09-17T14:55:27.168345Z",
     "start_time": "2023-09-17T14:55:20.441332Z"
    }
   },
   "outputs": [
    {
     "name": "stdout",
     "output_type": "stream",
     "text": [
      "100%|██████████| 40/40 [00:06<00:00,  5.99trial/s, best loss: -0.9877344877344877]\n",
      "{'colsample_bytree': 0.5475534235179257, 'learning_rate': 0.14613906580202737, 'max_depth': 7.0, 'min_child_weight': 3.0}\n"
     ]
    }
   ],
   "source": [
    "# 최대 반복 횟수은 40\n",
    "\n",
    "trial_val = Trials()\n",
    "best = fmin(fn=objective_func,\n",
    "            space=xgb_search_space,\n",
    "            max_evals=40, \n",
    "            algo=tpe.suggest,\n",
    "            trials=trial_val, rstate=np.random.default_rng(seed=9))\n",
    "print(best)"
   ]
  },
  {
   "cell_type": "markdown",
   "metadata": {},
   "source": [
    "5. 도출된 최적 하이퍼 파라미터들을 이용해 XGBClassifier를 재학습한 후 성능을 평가해봅니다. - 5점"
   ]
  },
  {
   "cell_type": "code",
   "execution_count": 70,
   "metadata": {
    "ExecuteTime": {
     "end_time": "2023-09-17T17:13:42.569849Z",
     "start_time": "2023-09-17T17:13:42.430064Z"
    }
   },
   "outputs": [
    {
     "name": "stdout",
     "output_type": "stream",
     "text": [
      "[0]\tvalidation_0-logloss:0.57667\tvalidation_1-logloss:0.59326\n",
      "[1]\tvalidation_0-logloss:0.48800\tvalidation_1-logloss:0.51917\n",
      "[2]\tvalidation_0-logloss:0.41850\tvalidation_1-logloss:0.47336\n",
      "[3]\tvalidation_0-logloss:0.36262\tvalidation_1-logloss:0.42599\n",
      "[4]\tvalidation_0-logloss:0.31704\tvalidation_1-logloss:0.38778\n",
      "[5]\tvalidation_0-logloss:0.27954\tvalidation_1-logloss:0.35433\n",
      "[6]\tvalidation_0-logloss:0.24829\tvalidation_1-logloss:0.32481\n",
      "[7]\tvalidation_0-logloss:0.22226\tvalidation_1-logloss:0.30210\n",
      "[8]\tvalidation_0-logloss:0.20036\tvalidation_1-logloss:0.28731\n",
      "[9]\tvalidation_0-logloss:0.18082\tvalidation_1-logloss:0.26369\n",
      "[10]\tvalidation_0-logloss:0.16494\tvalidation_1-logloss:0.24767\n",
      "[11]\tvalidation_0-logloss:0.15109\tvalidation_1-logloss:0.23714\n",
      "[12]\tvalidation_0-logloss:0.13847\tvalidation_1-logloss:0.21468\n",
      "[13]\tvalidation_0-logloss:0.12791\tvalidation_1-logloss:0.20003\n",
      "[14]\tvalidation_0-logloss:0.11908\tvalidation_1-logloss:0.19069\n",
      "[15]\tvalidation_0-logloss:0.11103\tvalidation_1-logloss:0.17524\n",
      "[16]\tvalidation_0-logloss:0.10430\tvalidation_1-logloss:0.16808\n",
      "[17]\tvalidation_0-logloss:0.09818\tvalidation_1-logloss:0.15562\n",
      "[18]\tvalidation_0-logloss:0.09298\tvalidation_1-logloss:0.14759\n",
      "[19]\tvalidation_0-logloss:0.08840\tvalidation_1-logloss:0.13768\n",
      "[20]\tvalidation_0-logloss:0.08443\tvalidation_1-logloss:0.13126\n",
      "[21]\tvalidation_0-logloss:0.08138\tvalidation_1-logloss:0.12600\n",
      "[22]\tvalidation_0-logloss:0.08125\tvalidation_1-logloss:0.12623\n",
      "[23]\tvalidation_0-logloss:0.08115\tvalidation_1-logloss:0.12646\n",
      "[24]\tvalidation_0-logloss:0.08108\tvalidation_1-logloss:0.12667\n",
      "[25]\tvalidation_0-logloss:0.08102\tvalidation_1-logloss:0.12687\n",
      "[26]\tvalidation_0-logloss:0.08097\tvalidation_1-logloss:0.12705\n",
      "[27]\tvalidation_0-logloss:0.08094\tvalidation_1-logloss:0.12721\n",
      "[28]\tvalidation_0-logloss:0.08091\tvalidation_1-logloss:0.12736\n",
      "[29]\tvalidation_0-logloss:0.08089\tvalidation_1-logloss:0.12749\n",
      "[30]\tvalidation_0-logloss:0.08088\tvalidation_1-logloss:0.12761\n",
      "[31]\tvalidation_0-logloss:0.08086\tvalidation_1-logloss:0.12772\n",
      "[32]\tvalidation_0-logloss:0.08086\tvalidation_1-logloss:0.12781\n",
      "[33]\tvalidation_0-logloss:0.08085\tvalidation_1-logloss:0.12790\n",
      "[34]\tvalidation_0-logloss:0.08084\tvalidation_1-logloss:0.12797\n",
      "[35]\tvalidation_0-logloss:0.08084\tvalidation_1-logloss:0.12804\n",
      "[36]\tvalidation_0-logloss:0.08084\tvalidation_1-logloss:0.12810\n",
      "[37]\tvalidation_0-logloss:0.08083\tvalidation_1-logloss:0.12815\n",
      "[38]\tvalidation_0-logloss:0.08083\tvalidation_1-logloss:0.12820\n",
      "[39]\tvalidation_0-logloss:0.08083\tvalidation_1-logloss:0.12824\n",
      "[40]\tvalidation_0-logloss:0.08083\tvalidation_1-logloss:0.12827\n",
      "[41]\tvalidation_0-logloss:0.08083\tvalidation_1-logloss:0.12831\n",
      "[42]\tvalidation_0-logloss:0.08083\tvalidation_1-logloss:0.12833\n",
      "[43]\tvalidation_0-logloss:0.08083\tvalidation_1-logloss:0.12836\n",
      "[44]\tvalidation_0-logloss:0.08083\tvalidation_1-logloss:0.12838\n",
      "[45]\tvalidation_0-logloss:0.08083\tvalidation_1-logloss:0.12840\n",
      "[46]\tvalidation_0-logloss:0.08083\tvalidation_1-logloss:0.12842\n",
      "[47]\tvalidation_0-logloss:0.08083\tvalidation_1-logloss:0.12843\n",
      "[48]\tvalidation_0-logloss:0.08083\tvalidation_1-logloss:0.12844\n",
      "[49]\tvalidation_0-logloss:0.08083\tvalidation_1-logloss:0.12845\n",
      "[50]\tvalidation_0-logloss:0.08083\tvalidation_1-logloss:0.12846\n",
      "[51]\tvalidation_0-logloss:0.08083\tvalidation_1-logloss:0.12847\n",
      "[52]\tvalidation_0-logloss:0.08083\tvalidation_1-logloss:0.12848\n",
      "[53]\tvalidation_0-logloss:0.08083\tvalidation_1-logloss:0.12849\n",
      "[54]\tvalidation_0-logloss:0.08082\tvalidation_1-logloss:0.12849\n",
      "[55]\tvalidation_0-logloss:0.08082\tvalidation_1-logloss:0.12850\n",
      "[56]\tvalidation_0-logloss:0.08082\tvalidation_1-logloss:0.12850\n",
      "[57]\tvalidation_0-logloss:0.08082\tvalidation_1-logloss:0.12851\n",
      "[58]\tvalidation_0-logloss:0.08082\tvalidation_1-logloss:0.12851\n",
      "[59]\tvalidation_0-logloss:0.08082\tvalidation_1-logloss:0.12851\n",
      "[60]\tvalidation_0-logloss:0.08082\tvalidation_1-logloss:0.12851\n",
      "[61]\tvalidation_0-logloss:0.08082\tvalidation_1-logloss:0.12852\n",
      "[62]\tvalidation_0-logloss:0.08082\tvalidation_1-logloss:0.12852\n",
      "[63]\tvalidation_0-logloss:0.08082\tvalidation_1-logloss:0.12852\n",
      "[64]\tvalidation_0-logloss:0.08082\tvalidation_1-logloss:0.12852\n",
      "[65]\tvalidation_0-logloss:0.08082\tvalidation_1-logloss:0.12852\n",
      "[66]\tvalidation_0-logloss:0.08082\tvalidation_1-logloss:0.12852\n",
      "[67]\tvalidation_0-logloss:0.08082\tvalidation_1-logloss:0.12853\n",
      "[68]\tvalidation_0-logloss:0.08082\tvalidation_1-logloss:0.12853\n",
      "[69]\tvalidation_0-logloss:0.08082\tvalidation_1-logloss:0.12853\n",
      "[70]\tvalidation_0-logloss:0.08082\tvalidation_1-logloss:0.12853\n",
      "0.875 0.9792\n"
     ]
    }
   ],
   "source": [
    "#learnin_rate와 colsample_bytree는 소수 다섯째자리까지 사용\n",
    "xgb_wrapper = XGBClassifier(n_estimators=400,\n",
    "                            learning_rate=np.round(best['learning_rate'],5),\n",
    "                            max_depth=int(best['max_depth']),\n",
    "                            min_child_weight=int(best['min_child_weight']),\n",
    "                            colsample_bytree=round(best['colsample_bytree'],5)\n",
    "                           )\n",
    "\n",
    "evals = [(X_tr, y_tr), (X_val, y_val)]\n",
    "xgb_wrapper.fit(X_tr, y_tr, early_stopping_rounds=50, eval_metric='logloss',\n",
    "                eval_set=evals, verbose=True)\n",
    "\n",
    "preds = xgb_wrapper.predict(X_test)\n",
    "pred_proba = xgb_wrapper.predict_proba(X_test)[:, 1]\n",
    "\n",
    "# accuracy score과 roc auc score을 소수 넷째자리까지 출력\n",
    "print(np.round(accuracy_score(y_test,preds),4),np.round(roc_auc_score(y_test,pred_proba),4))"
   ]
  },
  {
   "cell_type": "markdown",
   "metadata": {},
   "source": [
    "# 문제 2. 스태킹 앙상블(25점)"
   ]
  },
  {
   "cell_type": "markdown",
   "metadata": {},
   "source": [
    "아래 코드를 실행해주세요."
   ]
  },
  {
   "cell_type": "code",
   "execution_count": 71,
   "metadata": {
    "ExecuteTime": {
     "end_time": "2023-09-17T17:13:51.485969Z",
     "start_time": "2023-09-17T17:13:51.456061Z"
    }
   },
   "outputs": [],
   "source": [
    "import numpy as np\n",
    "\n",
    "from sklearn.neighbors import KNeighborsClassifier\n",
    "from sklearn.ensemble import RandomForestClassifier\n",
    "from sklearn.ensemble import AdaBoostClassifier\n",
    "from sklearn.tree import DecisionTreeClassifier\n",
    "from sklearn.linear_model import LogisticRegression\n",
    "\n",
    "from sklearn.datasets import load_breast_cancer\n",
    "from sklearn.model_selection import train_test_split\n",
    "from sklearn.metrics import accuracy_score\n",
    "\n",
    "cancer_data = load_breast_cancer()\n",
    "\n",
    "X_data = cancer_data.data\n",
    "y_label = cancer_data.target\n",
    "\n",
    "X_train,X_test,y_train,y_test=train_test_split(X_data,y_label,test_size=0.2,random_state=0)"
   ]
  },
  {
   "cell_type": "markdown",
   "metadata": {},
   "source": [
    "(1) 스태킹 앙상블에 사용될 KNN, randomforest,decisiontree,adaboost 총 4개의 모델을 생성해주세요. - 2점\n",
    "- 파라미터: KNN(n_neighbors=4), RF(n_estimators=100, random_state=42), ada(n_estimators=100)을 사용해주세요."
   ]
  },
  {
   "cell_type": "code",
   "execution_count": 78,
   "metadata": {
    "ExecuteTime": {
     "end_time": "2023-09-17T17:15:58.133639Z",
     "start_time": "2023-09-17T17:15:58.126087Z"
    }
   },
   "outputs": [],
   "source": [
    "knn_clf = KNeighborsClassifier(n_neighbors=4)\n",
    "rf_clf = RandomForestClassifier(n_estimators=100,random_state=42)\n",
    "dt_clf = DecisionTreeClassifier()\n",
    "ada_clf = AdaBoostClassifier(n_estimators=100)"
   ]
  },
  {
   "cell_type": "markdown",
   "metadata": {},
   "source": [
    "(2) 스태킹된 데이터를 로지스틱 회귀를 사용해 최종적으로 학습, 예측할 것입니다. 이를 위한 모델을 생성해주세요. - 1점\n",
    "- 파라미터: C=10"
   ]
  },
  {
   "cell_type": "code",
   "execution_count": 79,
   "metadata": {
    "ExecuteTime": {
     "end_time": "2023-09-17T17:15:59.277236Z",
     "start_time": "2023-09-17T17:15:59.265996Z"
    }
   },
   "outputs": [],
   "source": [
    "lgr = LogisticRegression(C=10)"
   ]
  },
  {
   "cell_type": "markdown",
   "metadata": {},
   "source": [
    "아래 코드를 실행시켜주세요."
   ]
  },
  {
   "cell_type": "code",
   "execution_count": 80,
   "metadata": {
    "ExecuteTime": {
     "end_time": "2023-09-17T17:16:00.467350Z",
     "start_time": "2023-09-17T17:15:59.884700Z"
    }
   },
   "outputs": [],
   "source": [
    "# 개별 모델들을 학습.\n",
    "knn_clf.fit(X_train, y_train)\n",
    "rf_clf.fit(X_train , y_train)\n",
    "dt_clf.fit(X_train , y_train)\n",
    "ada_clf.fit(X_train, y_train)\n",
    "\n",
    "# 개별 모델의 예측 데이터 세트 생성\n",
    "knn_pred = knn_clf.predict(X_test)\n",
    "rf_pred = rf_clf.predict(X_test)\n",
    "dt_pred = dt_clf.predict(X_test)\n",
    "ada_pred = ada_clf.predict(X_test)"
   ]
  },
  {
   "cell_type": "markdown",
   "metadata": {},
   "source": [
    "(3) 예측 결과를 옆으로 붙여 피처값으로 만들어주세요. (Hint: 예측결과를 먼저 행형태로 붙인 후 행과 열을 바꿔주세요.) - 5점"
   ]
  },
  {
   "cell_type": "code",
   "execution_count": 82,
   "metadata": {
    "ExecuteTime": {
     "end_time": "2023-09-17T17:16:19.005838Z",
     "start_time": "2023-09-17T17:16:18.991215Z"
    }
   },
   "outputs": [
    {
     "data": {
      "text/plain": [
       "(114, 4)"
      ]
     },
     "execution_count": 82,
     "metadata": {},
     "output_type": "execute_result"
    }
   ],
   "source": [
    "stack = np.array([knn_pred,rf_pred,dt_pred,ada_pred]).T\n",
    "stack.shape"
   ]
  },
  {
   "cell_type": "markdown",
   "metadata": {},
   "source": [
    "(4) 위에서 생성한 데이터 세트를 최종 모델인 로지스틱 회귀로 학습, 예측시킨 후 정확도를 출력해주세요. - 4점"
   ]
  },
  {
   "cell_type": "code",
   "execution_count": 84,
   "metadata": {
    "ExecuteTime": {
     "end_time": "2023-09-17T17:18:01.721361Z",
     "start_time": "2023-09-17T17:18:01.702842Z"
    }
   },
   "outputs": [
    {
     "data": {
      "text/plain": [
       "0.9736842105263158"
      ]
     },
     "execution_count": 84,
     "metadata": {},
     "output_type": "execute_result"
    }
   ],
   "source": [
    "lgr.fit(stack,y_test)\n",
    "accuracy_score(y_test,lgr.predict(stack))"
   ]
  },
  {
   "cell_type": "markdown",
   "metadata": {},
   "source": [
    "아래는 CV 스태킹 과정입니다."
   ]
  },
  {
   "cell_type": "markdown",
   "metadata": {},
   "source": [
    "(5) 개별 기반 모델에서 최종 메타 모델이 사용할 학습 및 테스트용 데이터를 생성하기 위한 함수를 생성해주세요. - 4점\n"
   ]
  },
  {
   "cell_type": "code",
   "execution_count": 91,
   "metadata": {
    "ExecuteTime": {
     "end_time": "2023-09-17T17:29:44.388519Z",
     "start_time": "2023-09-17T17:29:44.375676Z"
    }
   },
   "outputs": [],
   "source": [
    "from sklearn.model_selection import KFold\n",
    "from sklearn.metrics import mean_absolute_error\n",
    "\n",
    "def get_stacking_base_datasets(model, X_train_n, y_train_n, X_test_n, n_folds ):\n",
    "    # 지정된 n_folds값으로 KFold 생성.\n",
    "    kfold = KFold(n_splits=n_folds,shuffle=True)\n",
    "    #추후에 메타 모델이 사용할 학습 데이터 반환을 위한 넘파이 배열 초기화\n",
    "    train_fold_pred = np.zeros((X_train_n.shape[0],1))\n",
    "    test_pred = np.zeros((X_test_n.shape[0],n_folds))\n",
    "    \n",
    "\n",
    "    for folder_counter , (train_index, valid_index) in enumerate(kfold.split(X_train_n)):\n",
    "        #입력된 학습 데이터에서 기반 모델이 학습/예측할 폴드 데이터 셋 추출\n",
    "        X_tr,X_val = X_train_n[train_index],X_train_n[valid_index]\n",
    "        y_tr = y_train_n[train_index]\n",
    "\n",
    "        #폴드 세트 내부에서 다시 만들어진 학습 데이터로 기반 모델의 학습 수행\n",
    "        model.fit(X_tr,y_tr)\n",
    "        \n",
    "        #폴드 세트 내부에서 다시 만들어진 검증 데이터로 기반 모델 예측 후 데이터 저장\n",
    "        train_fold_pred[valid_index,:]=model.predict(X_val).reshape(-1,1)\n",
    "        \n",
    "        #입력된 원본 테스트 데이터를 폴드 세트내 학습된 기반 모델에서 예측 후 데이터 저장\n",
    "        test_pred[:,folder_counter]=model.predict(X_test_n)\n",
    "\n",
    "    # 폴드 세트 내에서 원본 테스트 데이터를 예측한 데이터를 평균하여 테스트 데이터로 생성\n",
    "    test_pred_mean = np.mean(test_pred,axis=1).reshape(-1,1)\n",
    "\n",
    "    #train_fold_pred는 최종 메타 모델이 사용하는 학습 데이터, test_pred_mean은 테스트 데이터\n",
    "    return train_fold_pred, test_pred_mean"
   ]
  },
  {
   "cell_type": "markdown",
   "metadata": {},
   "source": [
    "(6) 위에서 생성한 함수를 활용해 모델별 학습/테스트 데이터를 분리해주세요. - 2점\n",
    "(만약 ValueError가 생긴다면, 위 함수에서 KFold의 shuffle 파라미터를 True로 설정해주세요.)"
   ]
  },
  {
   "cell_type": "code",
   "execution_count": 92,
   "metadata": {
    "ExecuteTime": {
     "end_time": "2023-09-17T17:29:49.222396Z",
     "start_time": "2023-09-17T17:29:45.346752Z"
    }
   },
   "outputs": [],
   "source": [
    "knn_train,knn_test = get_stacking_base_datasets(knn_clf,X_train,y_train,X_test,7)\n",
    "rf_train,rf_test = get_stacking_base_datasets(rf_clf,X_train,y_train,X_test,7)\n",
    "dt_train,dt_test = get_stacking_base_datasets(dt_clf,X_train,y_train,X_test,7)\n",
    "ada_train,ada_test = get_stacking_base_datasets(ada_clf,X_train,y_train,X_test,7)"
   ]
  },
  {
   "cell_type": "markdown",
   "metadata": {},
   "source": [
    "(7) np.concatenate를 활용해 train과 test 메타 데이터를 결합해주세요. - 4점"
   ]
  },
  {
   "cell_type": "code",
   "execution_count": 93,
   "metadata": {
    "ExecuteTime": {
     "end_time": "2023-09-17T17:30:38.630517Z",
     "start_time": "2023-09-17T17:30:38.619994Z"
    }
   },
   "outputs": [],
   "source": [
    "stack_train = np.concatenate([knn_train,rf_train,dt_train,ada_train],axis=1)\n",
    "stack_test = np.concatenate([knn_test,rf_test,dt_test,ada_test],axis=1)"
   ]
  },
  {
   "cell_type": "markdown",
   "metadata": {},
   "source": [
    "(8) 최종 메타 모델을 학습시킨 뒤, 예측 정확도를 구해주세요. - 3점"
   ]
  },
  {
   "cell_type": "code",
   "execution_count": 94,
   "metadata": {
    "ExecuteTime": {
     "end_time": "2023-09-17T17:31:21.226271Z",
     "start_time": "2023-09-17T17:31:21.213913Z"
    }
   },
   "outputs": [
    {
     "data": {
      "text/plain": [
       "0.9824561403508771"
      ]
     },
     "execution_count": 94,
     "metadata": {},
     "output_type": "execute_result"
    }
   ],
   "source": [
    "lgr.fit(stack_train,y_train)\n",
    "accuracy_score(y_test,lgr.predict(stack_test))"
   ]
  }
 ],
 "metadata": {
  "kernelspec": {
   "display_name": "Python 3 (ipykernel)",
   "language": "python",
   "name": "python3"
  },
  "language_info": {
   "codemirror_mode": {
    "name": "ipython",
    "version": 3
   },
   "file_extension": ".py",
   "mimetype": "text/x-python",
   "name": "python",
   "nbconvert_exporter": "python",
   "pygments_lexer": "ipython3",
   "version": "3.9.17"
  }
 },
 "nbformat": 4,
 "nbformat_minor": 2
}
