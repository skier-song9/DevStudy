{
 "cells": [
  {
   "cell_type": "markdown",
   "metadata": {
    "id": "JUfRNrCu7gGX"
   },
   "source": [
    "# 머신러닝 4차세션 예습과제\n",
    "\n",
    "- 9/12 화요일 23:59 (4차세션 전날)까지 제출\n",
    "- 제출 파일명 : 비타민_12기_4주차_예습과제_본인이름.ipynb  로 제출\n",
    "- ipynb 파일로 제출\n",
    "- 지각 제출은 허용하지 않음"
   ]
  },
  {
   "cell_type": "markdown",
   "metadata": {
    "id": "QUmHO1ju-PcC"
   },
   "source": [
    "# 실습 1"
   ]
  },
  {
   "cell_type": "markdown",
   "metadata": {
    "id": "l5m9WJpp6aJU"
   },
   "source": [
    "## 보팅 (25점)"
   ]
  },
  {
   "cell_type": "markdown",
   "metadata": {
    "id": "FRbNPIer8RNP"
   },
   "source": [
    "이번 예습과제에 사용할 데이터는 사이킷런 내장 데이터인 wine 데이터입니다."
   ]
  },
  {
   "cell_type": "markdown",
   "metadata": {
    "id": "Esuz-1Sq8TF8"
   },
   "source": [
    "### 1-1. 다음 (a), (b), (c), (d)에 들어갈 용어를 쓰시오. (4점, 각 1점)"
   ]
  },
  {
   "cell_type": "markdown",
   "metadata": {
    "id": "yZ54xxyt8V4a"
   },
   "source": [
    "1. 보팅의 유형으로는 (a) 와 (b)가 있다.\n",
    "2. (a) 은 예측한 결괏값들 중 (c)의 분류기가 결정한 예측값을 최종 결괏값으로 선정한다.\n",
    "3. (b) 은 분류기들의 레이블 값 결정 (d)(를/을) 모두 더하고 이를 평균해서 이들 중 (d)(이/가) 가장 높은 레이블 값을 최종 결괏값으로 선정한다."
   ]
  },
  {
   "cell_type": "code",
   "execution_count": 1,
   "metadata": {
    "ExecuteTime": {
     "end_time": "2023-09-07T14:25:23.873287Z",
     "start_time": "2023-09-07T14:25:23.847775Z"
    },
    "id": "tC8y2y4gAArO"
   },
   "outputs": [
    {
     "data": {
      "text/plain": [
       "'\\na : 하드 보팅 (hard voting)\\nb : 소프트 보팅 (soft voting)\\nc : 과반수\\nd : 확률\\n'"
      ]
     },
     "execution_count": 1,
     "metadata": {},
     "output_type": "execute_result"
    }
   ],
   "source": [
    "# 답안 :\n",
    "'''\n",
    "a : 하드 보팅 (hard voting)\n",
    "b : 소프트 보팅 (soft voting)\n",
    "c : 과반수\n",
    "d : 확률\n",
    "'''"
   ]
  },
  {
   "cell_type": "markdown",
   "metadata": {
    "id": "0mVocDul8n8m"
   },
   "source": [
    "### 1-2. wine data로 보팅 방식의 앙상블을 구현하시오. '구현' 부분을 채우시면 됩니다 (21점)"
   ]
  },
  {
   "cell_type": "markdown",
   "metadata": {
    "id": "yoloB7wU8q8D"
   },
   "source": [
    "아래 코드를 실행하시오"
   ]
  },
  {
   "cell_type": "code",
   "execution_count": 2,
   "metadata": {
    "ExecuteTime": {
     "end_time": "2023-09-07T14:25:25.059515Z",
     "start_time": "2023-09-07T14:25:23.875291Z"
    },
    "id": "XoNGC0UI8rHT"
   },
   "outputs": [
    {
     "data": {
      "text/html": [
       "<div>\n",
       "<style scoped>\n",
       "    .dataframe tbody tr th:only-of-type {\n",
       "        vertical-align: middle;\n",
       "    }\n",
       "\n",
       "    .dataframe tbody tr th {\n",
       "        vertical-align: top;\n",
       "    }\n",
       "\n",
       "    .dataframe thead th {\n",
       "        text-align: right;\n",
       "    }\n",
       "</style>\n",
       "<table border=\"1\" class=\"dataframe\">\n",
       "  <thead>\n",
       "    <tr style=\"text-align: right;\">\n",
       "      <th></th>\n",
       "      <th>alcohol</th>\n",
       "      <th>malic_acid</th>\n",
       "      <th>ash</th>\n",
       "      <th>alcalinity_of_ash</th>\n",
       "      <th>magnesium</th>\n",
       "      <th>total_phenols</th>\n",
       "      <th>flavanoids</th>\n",
       "      <th>nonflavanoid_phenols</th>\n",
       "      <th>proanthocyanins</th>\n",
       "      <th>color_intensity</th>\n",
       "      <th>hue</th>\n",
       "      <th>od280/od315_of_diluted_wines</th>\n",
       "      <th>proline</th>\n",
       "    </tr>\n",
       "  </thead>\n",
       "  <tbody>\n",
       "    <tr>\n",
       "      <th>0</th>\n",
       "      <td>14.23</td>\n",
       "      <td>1.71</td>\n",
       "      <td>2.43</td>\n",
       "      <td>15.6</td>\n",
       "      <td>127.0</td>\n",
       "      <td>2.80</td>\n",
       "      <td>3.06</td>\n",
       "      <td>0.28</td>\n",
       "      <td>2.29</td>\n",
       "      <td>5.64</td>\n",
       "      <td>1.04</td>\n",
       "      <td>3.92</td>\n",
       "      <td>1065.0</td>\n",
       "    </tr>\n",
       "    <tr>\n",
       "      <th>1</th>\n",
       "      <td>13.20</td>\n",
       "      <td>1.78</td>\n",
       "      <td>2.14</td>\n",
       "      <td>11.2</td>\n",
       "      <td>100.0</td>\n",
       "      <td>2.65</td>\n",
       "      <td>2.76</td>\n",
       "      <td>0.26</td>\n",
       "      <td>1.28</td>\n",
       "      <td>4.38</td>\n",
       "      <td>1.05</td>\n",
       "      <td>3.40</td>\n",
       "      <td>1050.0</td>\n",
       "    </tr>\n",
       "    <tr>\n",
       "      <th>2</th>\n",
       "      <td>13.16</td>\n",
       "      <td>2.36</td>\n",
       "      <td>2.67</td>\n",
       "      <td>18.6</td>\n",
       "      <td>101.0</td>\n",
       "      <td>2.80</td>\n",
       "      <td>3.24</td>\n",
       "      <td>0.30</td>\n",
       "      <td>2.81</td>\n",
       "      <td>5.68</td>\n",
       "      <td>1.03</td>\n",
       "      <td>3.17</td>\n",
       "      <td>1185.0</td>\n",
       "    </tr>\n",
       "    <tr>\n",
       "      <th>3</th>\n",
       "      <td>14.37</td>\n",
       "      <td>1.95</td>\n",
       "      <td>2.50</td>\n",
       "      <td>16.8</td>\n",
       "      <td>113.0</td>\n",
       "      <td>3.85</td>\n",
       "      <td>3.49</td>\n",
       "      <td>0.24</td>\n",
       "      <td>2.18</td>\n",
       "      <td>7.80</td>\n",
       "      <td>0.86</td>\n",
       "      <td>3.45</td>\n",
       "      <td>1480.0</td>\n",
       "    </tr>\n",
       "    <tr>\n",
       "      <th>4</th>\n",
       "      <td>13.24</td>\n",
       "      <td>2.59</td>\n",
       "      <td>2.87</td>\n",
       "      <td>21.0</td>\n",
       "      <td>118.0</td>\n",
       "      <td>2.80</td>\n",
       "      <td>2.69</td>\n",
       "      <td>0.39</td>\n",
       "      <td>1.82</td>\n",
       "      <td>4.32</td>\n",
       "      <td>1.04</td>\n",
       "      <td>2.93</td>\n",
       "      <td>735.0</td>\n",
       "    </tr>\n",
       "  </tbody>\n",
       "</table>\n",
       "</div>"
      ],
      "text/plain": [
       "   alcohol  malic_acid   ash  alcalinity_of_ash  magnesium  total_phenols  \\\n",
       "0    14.23        1.71  2.43               15.6      127.0           2.80   \n",
       "1    13.20        1.78  2.14               11.2      100.0           2.65   \n",
       "2    13.16        2.36  2.67               18.6      101.0           2.80   \n",
       "3    14.37        1.95  2.50               16.8      113.0           3.85   \n",
       "4    13.24        2.59  2.87               21.0      118.0           2.80   \n",
       "\n",
       "   flavanoids  nonflavanoid_phenols  proanthocyanins  color_intensity   hue  \\\n",
       "0        3.06                  0.28             2.29             5.64  1.04   \n",
       "1        2.76                  0.26             1.28             4.38  1.05   \n",
       "2        3.24                  0.30             2.81             5.68  1.03   \n",
       "3        3.49                  0.24             2.18             7.80  0.86   \n",
       "4        2.69                  0.39             1.82             4.32  1.04   \n",
       "\n",
       "   od280/od315_of_diluted_wines  proline  \n",
       "0                          3.92   1065.0  \n",
       "1                          3.40   1050.0  \n",
       "2                          3.17   1185.0  \n",
       "3                          3.45   1480.0  \n",
       "4                          2.93    735.0  "
      ]
     },
     "execution_count": 2,
     "metadata": {},
     "output_type": "execute_result"
    }
   ],
   "source": [
    "import pandas as pd\n",
    "import warnings\n",
    "warnings.filterwarnings('ignore')\n",
    "\n",
    "from sklearn.ensemble import VotingClassifier\n",
    "from sklearn.linear_model import LogisticRegression\n",
    "from sklearn.neighbors import KNeighborsClassifier\n",
    "from sklearn.datasets import load_wine\n",
    "from sklearn. model_selection import train_test_split\n",
    "from sklearn.metrics import accuracy_score\n",
    "\n",
    "dataset = load_wine()\n",
    "wine = pd.DataFrame(data = dataset.data, columns = dataset.feature_names)\n",
    "wine.head()"
   ]
  },
  {
   "cell_type": "markdown",
   "metadata": {
    "id": "0Sl6tQ608tpE"
   },
   "source": [
    "### 1-2 (1) 로지스틱 회귀와 KNN을 기반으로 소프트 보팅 방식으로 보팅 분류기를 생성하시오. (단, KNN의 군집의 개수는 8로 하시오.) (4점)"
   ]
  },
  {
   "cell_type": "code",
   "execution_count": 3,
   "metadata": {
    "ExecuteTime": {
     "end_time": "2023-09-07T14:25:25.075183Z",
     "start_time": "2023-09-07T14:25:25.061546Z"
    },
    "id": "-F8hhHbZ8Rkh"
   },
   "outputs": [],
   "source": [
    "lr_clf = LogisticRegression()\n",
    "knn_clf = KNeighborsClassifier(n_neighbors=8)"
   ]
  },
  {
   "cell_type": "markdown",
   "metadata": {
    "id": "M4bvU2d48wKC"
   },
   "source": [
    "### 1-2 (2) 개별 모델을 소프트 보팅 기반의 앙상블 모델로 구현한 분류기를 생성하고, 데이터 셋을 훈련세트와 테스트 세트로 분류하시오. (4점)"
   ]
  },
  {
   "cell_type": "code",
   "execution_count": 4,
   "metadata": {
    "ExecuteTime": {
     "end_time": "2023-09-07T14:25:25.095854Z",
     "start_time": "2023-09-07T14:25:25.077502Z"
    },
    "id": "NR80uSPI6bg7"
   },
   "outputs": [],
   "source": [
    "vo_clf = VotingClassifier(estimators=[('LR',lr_clf),('KNN',knn_clf)],voting='soft')\n",
    "\n",
    "X_train, X_test, y_train, y_test = train_test_split(dataset.data,dataset.target,test_size = 0.2, random_state = 156)"
   ]
  },
  {
   "cell_type": "markdown",
   "metadata": {
    "id": "n8nfFSr58y1X"
   },
   "source": [
    "### 1-2 (3) VotingClassifier를 학습/예측/평가하시오.(fit, predict, 정확도 사용) (6점)"
   ]
  },
  {
   "cell_type": "code",
   "execution_count": 5,
   "metadata": {
    "ExecuteTime": {
     "end_time": "2023-09-07T14:25:25.192708Z",
     "start_time": "2023-09-07T14:25:25.098139Z"
    },
    "id": "UHbW_qjD5vMX"
   },
   "outputs": [
    {
     "name": "stdout",
     "output_type": "stream",
     "text": [
      "정확도:0.9722\n"
     ]
    }
   ],
   "source": [
    "vo_clf.fit(X_train,y_train)\n",
    "pred = vo_clf.predict(X_test)\n",
    "accuracy = accuracy_score(y_test,pred)\n",
    "print('정확도:{:.4f}'.format(accuracy))"
   ]
  },
  {
   "cell_type": "markdown",
   "metadata": {
    "id": "jH3mZABx81Jx"
   },
   "source": [
    "### 1-2 (4) 개별 모델에 대해 학습/예측/평가를 하시오.(for문 이용할 것) (7점)"
   ]
  },
  {
   "cell_type": "code",
   "execution_count": 6,
   "metadata": {
    "ExecuteTime": {
     "end_time": "2023-09-07T14:25:25.226950Z",
     "start_time": "2023-09-07T14:25:25.194289Z"
    },
    "id": "SAFZyxWg82fz"
   },
   "outputs": [
    {
     "name": "stdout",
     "output_type": "stream",
     "text": [
      "lr_clf분류기의 정확도: 1.0000\n",
      "knn_clf분류기의 정확도: 0.6111\n"
     ]
    }
   ],
   "source": [
    "clf_names = ['lr_clf', 'knn_clf']\n",
    "classifiers = [lr_clf, knn_clf]\n",
    "for idx in range(len(classifiers)):\n",
    "    clf = classifiers[idx]\n",
    "    clf_name = clf_names[idx]\n",
    "    clf.fit(X_train,y_train)\n",
    "    print('{}분류기의 정확도: {:.4f}'.format(clf_name,\n",
    "                                      accuracy_score(y_test,clf.predict(X_test))))"
   ]
  },
  {
   "cell_type": "markdown",
   "metadata": {
    "id": "iImJfqqP83n7"
   },
   "source": [
    "## 실습2"
   ]
  },
  {
   "cell_type": "markdown",
   "metadata": {
    "id": "QzTWqveC86x2"
   },
   "source": [
    "### 배깅(랜덤 포레스트) (25점)"
   ]
  },
  {
   "cell_type": "code",
   "execution_count": 7,
   "metadata": {
    "ExecuteTime": {
     "end_time": "2023-09-07T14:25:25.233517Z",
     "start_time": "2023-09-07T14:25:25.227950Z"
    },
    "id": "7PwbK1PW86Sb"
   },
   "outputs": [],
   "source": [
    "from sklearn.datasets import load_wine\n",
    "from sklearn.ensemble import RandomForestClassifier\n",
    "from sklearn.metrics import accuracy_score\n",
    "from sklearn.model_selection import train_test_split\n",
    "import pandas as pd\n",
    "import numpy as np"
   ]
  },
  {
   "cell_type": "code",
   "execution_count": 8,
   "metadata": {
    "ExecuteTime": {
     "end_time": "2023-09-07T14:25:25.356258Z",
     "start_time": "2023-09-07T14:25:25.233517Z"
    },
    "id": "e3o99E7p9BJ5"
   },
   "outputs": [
    {
     "data": {
      "text/html": [
       "<div>\n",
       "<style scoped>\n",
       "    .dataframe tbody tr th:only-of-type {\n",
       "        vertical-align: middle;\n",
       "    }\n",
       "\n",
       "    .dataframe tbody tr th {\n",
       "        vertical-align: top;\n",
       "    }\n",
       "\n",
       "    .dataframe thead th {\n",
       "        text-align: right;\n",
       "    }\n",
       "</style>\n",
       "<table border=\"1\" class=\"dataframe\">\n",
       "  <thead>\n",
       "    <tr style=\"text-align: right;\">\n",
       "      <th></th>\n",
       "      <th>alcohol</th>\n",
       "      <th>malic_acid</th>\n",
       "      <th>ash</th>\n",
       "      <th>alcalinity_of_ash</th>\n",
       "      <th>magnesium</th>\n",
       "      <th>total_phenols</th>\n",
       "      <th>flavanoids</th>\n",
       "      <th>nonflavanoid_phenols</th>\n",
       "      <th>proanthocyanins</th>\n",
       "      <th>color_intensity</th>\n",
       "      <th>hue</th>\n",
       "      <th>od280/od315_of_diluted_wines</th>\n",
       "      <th>proline</th>\n",
       "      <th>target</th>\n",
       "    </tr>\n",
       "  </thead>\n",
       "  <tbody>\n",
       "    <tr>\n",
       "      <th>0</th>\n",
       "      <td>14.23</td>\n",
       "      <td>1.71</td>\n",
       "      <td>2.43</td>\n",
       "      <td>15.6</td>\n",
       "      <td>127.0</td>\n",
       "      <td>2.80</td>\n",
       "      <td>3.06</td>\n",
       "      <td>0.28</td>\n",
       "      <td>2.29</td>\n",
       "      <td>5.64</td>\n",
       "      <td>1.04</td>\n",
       "      <td>3.92</td>\n",
       "      <td>1065.0</td>\n",
       "      <td>0</td>\n",
       "    </tr>\n",
       "    <tr>\n",
       "      <th>1</th>\n",
       "      <td>13.20</td>\n",
       "      <td>1.78</td>\n",
       "      <td>2.14</td>\n",
       "      <td>11.2</td>\n",
       "      <td>100.0</td>\n",
       "      <td>2.65</td>\n",
       "      <td>2.76</td>\n",
       "      <td>0.26</td>\n",
       "      <td>1.28</td>\n",
       "      <td>4.38</td>\n",
       "      <td>1.05</td>\n",
       "      <td>3.40</td>\n",
       "      <td>1050.0</td>\n",
       "      <td>0</td>\n",
       "    </tr>\n",
       "    <tr>\n",
       "      <th>2</th>\n",
       "      <td>13.16</td>\n",
       "      <td>2.36</td>\n",
       "      <td>2.67</td>\n",
       "      <td>18.6</td>\n",
       "      <td>101.0</td>\n",
       "      <td>2.80</td>\n",
       "      <td>3.24</td>\n",
       "      <td>0.30</td>\n",
       "      <td>2.81</td>\n",
       "      <td>5.68</td>\n",
       "      <td>1.03</td>\n",
       "      <td>3.17</td>\n",
       "      <td>1185.0</td>\n",
       "      <td>0</td>\n",
       "    </tr>\n",
       "  </tbody>\n",
       "</table>\n",
       "</div>"
      ],
      "text/plain": [
       "   alcohol  malic_acid   ash  alcalinity_of_ash  magnesium  total_phenols  \\\n",
       "0    14.23        1.71  2.43               15.6      127.0           2.80   \n",
       "1    13.20        1.78  2.14               11.2      100.0           2.65   \n",
       "2    13.16        2.36  2.67               18.6      101.0           2.80   \n",
       "\n",
       "   flavanoids  nonflavanoid_phenols  proanthocyanins  color_intensity   hue  \\\n",
       "0        3.06                  0.28             2.29             5.64  1.04   \n",
       "1        2.76                  0.26             1.28             4.38  1.05   \n",
       "2        3.24                  0.30             2.81             5.68  1.03   \n",
       "\n",
       "   od280/od315_of_diluted_wines  proline  target  \n",
       "0                          3.92   1065.0       0  \n",
       "1                          3.40   1050.0       0  \n",
       "2                          3.17   1185.0       0  "
      ]
     },
     "execution_count": 8,
     "metadata": {},
     "output_type": "execute_result"
    }
   ],
   "source": [
    "import xgboost as xgb\n",
    "from xgboost import XGBClassifier\n",
    "import pandas as pd\n",
    "import numpy as np\n",
    "from sklearn.datasets import load_wine\n",
    "from sklearn.model_selection import train_test_split\n",
    "from sklearn.metrics import accuracy_score, precision_score, recall_score, f1_score, roc_auc_score\n",
    "import warnings\n",
    "warnings.filterwarnings('ignore')\n",
    "\n",
    "dataset = load_wine()\n",
    "labels = dataset.target\n",
    "wine = pd.DataFrame(data = dataset.data, columns = dataset.feature_names)\n",
    "wine['target'] = labels\n",
    "wine.head(3)"
   ]
  },
  {
   "cell_type": "code",
   "execution_count": 9,
   "metadata": {
    "ExecuteTime": {
     "end_time": "2023-09-07T14:25:25.367726Z",
     "start_time": "2023-09-07T14:25:25.358258Z"
    }
   },
   "outputs": [
    {
     "data": {
      "text/plain": [
       "array(['class_0', 'class_1', 'class_2'], dtype='<U7')"
      ]
     },
     "execution_count": 9,
     "metadata": {},
     "output_type": "execute_result"
    }
   ],
   "source": [
    "dataset.target_names"
   ]
  },
  {
   "cell_type": "code",
   "execution_count": 10,
   "metadata": {
    "ExecuteTime": {
     "end_time": "2023-09-07T14:25:25.383653Z",
     "start_time": "2023-09-07T14:25:25.367726Z"
    },
    "id": "qsOf4Ljc9CY8"
   },
   "outputs": [],
   "source": [
    "feature = wine.drop(columns = 'target', axis = 1)\n",
    "y = wine.target"
   ]
  },
  {
   "cell_type": "code",
   "execution_count": 11,
   "metadata": {
    "ExecuteTime": {
     "end_time": "2023-09-07T14:25:25.399178Z",
     "start_time": "2023-09-07T14:25:25.384644Z"
    },
    "id": "gkc8EQvJ9DF2"
   },
   "outputs": [
    {
     "data": {
      "text/plain": [
       "target\n",
       "1    71\n",
       "0    59\n",
       "2    48\n",
       "Name: count, dtype: int64"
      ]
     },
     "execution_count": 11,
     "metadata": {},
     "output_type": "execute_result"
    }
   ],
   "source": [
    "y.value_counts()"
   ]
  },
  {
   "cell_type": "code",
   "execution_count": 12,
   "metadata": {
    "ExecuteTime": {
     "end_time": "2023-09-07T14:25:25.412765Z",
     "start_time": "2023-09-07T14:25:25.400186Z"
    },
    "id": "t-a3Z35i9D8M"
   },
   "outputs": [],
   "source": [
    "X_train, X_test, y_train, y_test = train_test_split(feature, y, test_size=0.2, random_state=10)"
   ]
  },
  {
   "cell_type": "markdown",
   "metadata": {
    "id": "SAhJnxGy9AUA"
   },
   "source": [
    "### 2-1 빈칸에 들어갈 말은 무엇일까요? (3점)\n",
    "랜덤 포레스트는 여러 개의 데이터 세트를 중첩되게 분리하는 _____  분할 방식을 사용한다."
   ]
  },
  {
   "cell_type": "code",
   "execution_count": 13,
   "metadata": {
    "ExecuteTime": {
     "end_time": "2023-09-07T14:25:25.428672Z",
     "start_time": "2023-09-07T14:25:25.414669Z"
    },
    "id": "e2aw1f9u9Gn6"
   },
   "outputs": [],
   "source": [
    "# 답 : bootstrapping"
   ]
  },
  {
   "cell_type": "markdown",
   "metadata": {
    "id": "gqYUhx1v9I4P"
   },
   "source": [
    "### 2-2 wine 데이터를 RandomForestClassifier에 적합시키고 성능을 측정하세요. (7점)\n",
    "    - fit, predict, accuracy_score 이용  \n",
    "    - random_state=0, max_depth=3 으로 설정"
   ]
  },
  {
   "cell_type": "code",
   "execution_count": 14,
   "metadata": {
    "ExecuteTime": {
     "end_time": "2023-09-07T14:25:25.526903Z",
     "start_time": "2023-09-07T14:25:25.429784Z"
    },
    "id": "fIdDRggE9Jgi"
   },
   "outputs": [
    {
     "name": "stdout",
     "output_type": "stream",
     "text": [
      "accuracy:0.8889\n"
     ]
    }
   ],
   "source": [
    "rf_clf = RandomForestClassifier(random_state=0,max_depth=3)\n",
    "rf_clf.fit(X_train,y_train)\n",
    "rf_pred = rf_clf.predict(X_test)\n",
    "print(\"accuracy:{:.4f}\".format(accuracy_score(y_test,rf_pred)))"
   ]
  },
  {
   "cell_type": "markdown",
   "metadata": {
    "id": "Xon8Czww9N9N"
   },
   "source": [
    "### 2-3 예측값과 실제값을 이용하여 오차행렬을 출력하세요. (3점)"
   ]
  },
  {
   "cell_type": "code",
   "execution_count": 15,
   "metadata": {
    "ExecuteTime": {
     "end_time": "2023-09-07T14:25:25.544108Z",
     "start_time": "2023-09-07T14:25:25.528391Z"
    },
    "id": "Czc2mtST-9c4"
   },
   "outputs": [
    {
     "data": {
      "text/plain": [
       "array([[10,  0,  0],\n",
       "       [ 1, 14,  3],\n",
       "       [ 0,  0,  8]], dtype=int64)"
      ]
     },
     "execution_count": 15,
     "metadata": {},
     "output_type": "execute_result"
    }
   ],
   "source": [
    "from sklearn.metrics import confusion_matrix\n",
    "cm = confusion_matrix(y_test,rf_pred)\n",
    "cm"
   ]
  },
  {
   "cell_type": "markdown",
   "metadata": {
    "id": "HPdtorUR9P1k"
   },
   "source": [
    "### 2-4 GridSearchCV를 이용하여 최적하이퍼파라미터를 찾고 출력해보세요. (7점)\n",
    "    - 폴드 개수는 3으로 설정"
   ]
  },
  {
   "cell_type": "code",
   "execution_count": 16,
   "metadata": {
    "ExecuteTime": {
     "end_time": "2023-09-07T14:25:57.310916Z",
     "start_time": "2023-09-07T14:25:25.546111Z"
    },
    "id": "23wuqZLf9OOT"
   },
   "outputs": [
    {
     "name": "stdout",
     "output_type": "stream",
     "text": [
      "{'criterion': 'gini', 'max_depth': 3, 'max_features': 'sqrt', 'n_estimators': 150}\n",
      "0.978871158392435\n"
     ]
    }
   ],
   "source": [
    "from sklearn.model_selection import GridSearchCV\n",
    "params = {\n",
    "    'n_estimators':[100,150,200],\n",
    "    'criterion':['gini','log_loss'],\n",
    "    'max_features':[None,'sqrt'],\n",
    "    'max_depth':[3,5,7,9]\n",
    "}\n",
    "gscv = GridSearchCV(estimator=rf_clf,param_grid=params, cv=3,refit=True,scoring='accuracy')\n",
    "gscv.fit(X_train,y_train)\n",
    "print(gscv.best_params_)\n",
    "print(gscv.best_score_)"
   ]
  },
  {
   "cell_type": "markdown",
   "metadata": {
    "id": "CiPJ9dXv9SQ1"
   },
   "source": [
    "### 2-5 최적하이퍼파라미터로 RandomForestClassifier를 다시 학습시키고 성능을 측정하세요. (5점)"
   ]
  },
  {
   "cell_type": "code",
   "execution_count": 17,
   "metadata": {
    "ExecuteTime": {
     "end_time": "2023-09-07T14:25:57.357343Z",
     "start_time": "2023-09-07T14:25:57.313832Z"
    }
   },
   "outputs": [
    {
     "data": {
      "text/plain": [
       "0.9166666666666666"
      ]
     },
     "execution_count": 17,
     "metadata": {},
     "output_type": "execute_result"
    }
   ],
   "source": [
    "best_rf = gscv.best_estimator_\n",
    "best_pred=best_rf.predict(X_test)\n",
    "accuracy_score(y_test,best_pred)"
   ]
  },
  {
   "cell_type": "code",
   "execution_count": 18,
   "metadata": {
    "ExecuteTime": {
     "end_time": "2023-09-07T14:25:57.599467Z",
     "start_time": "2023-09-07T14:25:57.360094Z"
    },
    "id": "fjV_AfF19Sfa"
   },
   "outputs": [
    {
     "name": "stdout",
     "output_type": "stream",
     "text": [
      "accuracy:0.9444\n"
     ]
    }
   ],
   "source": [
    "new_rf_clf = RandomForestClassifier(criterion='gini',max_depth=3,max_features='sqrt',n_estimators=150)\n",
    "new_rf_clf.fit(X_train,y_train)\n",
    "new_pred = new_rf_clf.predict(X_test)\n",
    "print('accuracy:{:.4f}'.format(accuracy_score(y_test,new_pred)))"
   ]
  },
  {
   "cell_type": "markdown",
   "metadata": {
    "id": "YF4D_Qzx_CMJ"
   },
   "source": [
    "# 실습3"
   ]
  },
  {
   "cell_type": "markdown",
   "metadata": {
    "id": "tQPbkj139T-s"
   },
   "source": [
    "# XGBoost (25점)"
   ]
  },
  {
   "cell_type": "code",
   "execution_count": 1,
   "metadata": {
    "ExecuteTime": {
     "end_time": "2023-09-08T01:15:14.626892Z",
     "start_time": "2023-09-08T01:15:11.591127Z"
    },
    "id": "_pzR_wkX9UQS",
    "scrolled": true
   },
   "outputs": [
    {
     "data": {
      "text/html": [
       "<div>\n",
       "<style scoped>\n",
       "    .dataframe tbody tr th:only-of-type {\n",
       "        vertical-align: middle;\n",
       "    }\n",
       "\n",
       "    .dataframe tbody tr th {\n",
       "        vertical-align: top;\n",
       "    }\n",
       "\n",
       "    .dataframe thead th {\n",
       "        text-align: right;\n",
       "    }\n",
       "</style>\n",
       "<table border=\"1\" class=\"dataframe\">\n",
       "  <thead>\n",
       "    <tr style=\"text-align: right;\">\n",
       "      <th></th>\n",
       "      <th>alcohol</th>\n",
       "      <th>malic_acid</th>\n",
       "      <th>ash</th>\n",
       "      <th>alcalinity_of_ash</th>\n",
       "      <th>magnesium</th>\n",
       "      <th>total_phenols</th>\n",
       "      <th>flavanoids</th>\n",
       "      <th>nonflavanoid_phenols</th>\n",
       "      <th>proanthocyanins</th>\n",
       "      <th>color_intensity</th>\n",
       "      <th>hue</th>\n",
       "      <th>od280/od315_of_diluted_wines</th>\n",
       "      <th>proline</th>\n",
       "      <th>target</th>\n",
       "    </tr>\n",
       "  </thead>\n",
       "  <tbody>\n",
       "    <tr>\n",
       "      <th>0</th>\n",
       "      <td>14.23</td>\n",
       "      <td>1.71</td>\n",
       "      <td>2.43</td>\n",
       "      <td>15.6</td>\n",
       "      <td>127.0</td>\n",
       "      <td>2.80</td>\n",
       "      <td>3.06</td>\n",
       "      <td>0.28</td>\n",
       "      <td>2.29</td>\n",
       "      <td>5.64</td>\n",
       "      <td>1.04</td>\n",
       "      <td>3.92</td>\n",
       "      <td>1065.0</td>\n",
       "      <td>0</td>\n",
       "    </tr>\n",
       "    <tr>\n",
       "      <th>1</th>\n",
       "      <td>13.20</td>\n",
       "      <td>1.78</td>\n",
       "      <td>2.14</td>\n",
       "      <td>11.2</td>\n",
       "      <td>100.0</td>\n",
       "      <td>2.65</td>\n",
       "      <td>2.76</td>\n",
       "      <td>0.26</td>\n",
       "      <td>1.28</td>\n",
       "      <td>4.38</td>\n",
       "      <td>1.05</td>\n",
       "      <td>3.40</td>\n",
       "      <td>1050.0</td>\n",
       "      <td>0</td>\n",
       "    </tr>\n",
       "    <tr>\n",
       "      <th>2</th>\n",
       "      <td>13.16</td>\n",
       "      <td>2.36</td>\n",
       "      <td>2.67</td>\n",
       "      <td>18.6</td>\n",
       "      <td>101.0</td>\n",
       "      <td>2.80</td>\n",
       "      <td>3.24</td>\n",
       "      <td>0.30</td>\n",
       "      <td>2.81</td>\n",
       "      <td>5.68</td>\n",
       "      <td>1.03</td>\n",
       "      <td>3.17</td>\n",
       "      <td>1185.0</td>\n",
       "      <td>0</td>\n",
       "    </tr>\n",
       "  </tbody>\n",
       "</table>\n",
       "</div>"
      ],
      "text/plain": [
       "   alcohol  malic_acid   ash  alcalinity_of_ash  magnesium  total_phenols  \\\n",
       "0    14.23        1.71  2.43               15.6      127.0           2.80   \n",
       "1    13.20        1.78  2.14               11.2      100.0           2.65   \n",
       "2    13.16        2.36  2.67               18.6      101.0           2.80   \n",
       "\n",
       "   flavanoids  nonflavanoid_phenols  proanthocyanins  color_intensity   hue  \\\n",
       "0        3.06                  0.28             2.29             5.64  1.04   \n",
       "1        2.76                  0.26             1.28             4.38  1.05   \n",
       "2        3.24                  0.30             2.81             5.68  1.03   \n",
       "\n",
       "   od280/od315_of_diluted_wines  proline  target  \n",
       "0                          3.92   1065.0       0  \n",
       "1                          3.40   1050.0       0  \n",
       "2                          3.17   1185.0       0  "
      ]
     },
     "execution_count": 1,
     "metadata": {},
     "output_type": "execute_result"
    }
   ],
   "source": [
    "import xgboost as xgb\n",
    "from xgboost import XGBClassifier\n",
    "import pandas as pd\n",
    "import numpy as np\n",
    "from sklearn.datasets import load_wine\n",
    "from sklearn.model_selection import train_test_split\n",
    "from sklearn.metrics import accuracy_score, precision_score, recall_score, f1_score, roc_auc_score\n",
    "import warnings\n",
    "warnings.filterwarnings('ignore')\n",
    "\n",
    "dataset = load_wine()\n",
    "labels = dataset.target\n",
    "wine = pd.DataFrame(data = dataset.data, columns = dataset.feature_names)\n",
    "wine['target'] = labels\n",
    "wine.head(3)"
   ]
  },
  {
   "cell_type": "markdown",
   "metadata": {
    "id": "pEQx7qqu9XPC"
   },
   "source": [
    "## Columns 설명\n",
    "- 알콜(Alcohol)\n",
    "- 말산(Malic acid)\n",
    "- 회분(Ash)\n",
    "- 회분의 알칼리도(Alcalinity of ash)\n",
    "- 마그네슘(Magnesium)\n",
    "- 총 폴리페놀(Total phenols)\n",
    "- 플라보노이드 폴리페놀(Flavanoids)\n",
    "- 비 플라보노이드 폴리페놀(Nonflavanoid phenols)\n",
    "- 프로안토시아닌(Proanthocyanins)\n",
    "- 색상의 강도(Color intensity)\n",
    "- 색상(Hue)\n",
    "- 희석 와인의 OD280/OD315 비율 (OD280/OD315 of diluted wines)\n",
    "- 프롤린(Proline)\n",
    "- 와인 종류(target)"
   ]
  },
  {
   "cell_type": "code",
   "execution_count": 2,
   "metadata": {
    "ExecuteTime": {
     "end_time": "2023-09-08T01:15:19.152730Z",
     "start_time": "2023-09-08T01:15:19.142019Z"
    },
    "id": "IuiTcXf3_F3L"
   },
   "outputs": [],
   "source": [
    "feature = wine.drop(columns = 'target', axis = 1)\n",
    "y = wine.target"
   ]
  },
  {
   "cell_type": "markdown",
   "metadata": {
    "id": "NHSRSIz__Fo5"
   },
   "source": [
    "### 3-1 wine 데이터를 xgbclassifier에 적합시키고 accuracy_score를 이용해 점수를 내세요 (6점)"
   ]
  },
  {
   "cell_type": "code",
   "execution_count": 3,
   "metadata": {
    "ExecuteTime": {
     "end_time": "2023-09-08T01:15:20.855020Z",
     "start_time": "2023-09-08T01:15:20.837205Z"
    },
    "id": "2lZbB4FJ_LpZ"
   },
   "outputs": [],
   "source": [
    "X_train, X_test, y_train, y_test = train_test_split(feature, y, test_size=0.3, random_state=1)\n",
    "xgb = XGBClassifier(n_estimators = 400, learning_rate = 0.5, max_depth = 3)"
   ]
  },
  {
   "cell_type": "code",
   "execution_count": 4,
   "metadata": {
    "ExecuteTime": {
     "end_time": "2023-09-08T01:15:21.990526Z",
     "start_time": "2023-09-08T01:15:21.783779Z"
    },
    "id": "skYpGBEy_NtK"
   },
   "outputs": [
    {
     "name": "stdout",
     "output_type": "stream",
     "text": [
      "0.9630\n"
     ]
    }
   ],
   "source": [
    "xgb.fit(X_train,y_train)\n",
    "xgb_pred = xgb.predict(X_test)\n",
    "print('{:.4f}'.format(accuracy_score(y_test,xgb_pred)))"
   ]
  },
  {
   "cell_type": "markdown",
   "metadata": {
    "id": "sQdQipGt_OAL"
   },
   "source": [
    "### 3-2 gridsearch를 이용해서 자유롭게 파라미터 설정하면서 점수를 높여보세요 (6점)\n",
    "- 다음은 XGBClassifier의 주요 파라미터입니다. 되도록 0.97이상 점수가 나오게 설정해주세요\n",
    "|주요파라미터|범위|설명|\n",
    "|---|---|---|\n",
    "|max_depth|0 ~ ∞|트리의 최대깊이 / 수가 커지면 복잡해지고 과적합 가능성▲|\n",
    "|learning_rate|0 ~ 1|학습률 / 커지면 업데이트 속도▲|\n",
    "|subsample|0 ~ 1|학습 시 데이터 샘플링 비율 지정 / 일반적으로 0.5 ~ 1 사이의 값을 가짐|"
   ]
  },
  {
   "cell_type": "code",
   "execution_count": 5,
   "metadata": {
    "ExecuteTime": {
     "end_time": "2023-09-08T01:15:33.614632Z",
     "start_time": "2023-09-08T01:15:23.755081Z"
    },
    "id": "dw0Ei4r2_ReR"
   },
   "outputs": [
    {
     "name": "stdout",
     "output_type": "stream",
     "text": [
      "GridSearchCV 최적의 파라미터: {'learning_rate': 0.1, 'max_depth': 1, 'subsample': 0.5}\n",
      "GridSearchCV 최적의 정확도:0.9758\n"
     ]
    }
   ],
   "source": [
    "from sklearn.model_selection import GridSearchCV\n",
    "\n",
    "params = {'max_depth' : [-1,1,2],\n",
    "          'learning_rate' : [0.15,0.1,0.05],\n",
    "          'subsample' : [1,0.7,0.5]}\n",
    "\n",
    "grid_xgb = GridSearchCV(xgb, param_grid = params, cv = 3, refit = True)\n",
    "grid_xgb.fit(X_train, y_train)\n",
    "\n",
    "print('GridSearchCV 최적의 파라미터:', grid_xgb.best_params_)\n",
    "print('GridSearchCV 최적의 정확도:{0:.4f}'.format(grid_xgb.best_score_))"
   ]
  },
  {
   "cell_type": "markdown",
   "metadata": {
    "id": "GbJ_1Vj__TdH"
   },
   "source": [
    "### 3-3 early_stopping_rounds 설정 (7점)\n",
    "- XGBClassifier는 조기 중단을 할 수 있습니다. early_stopping_rounds 파라미터를 임의로 설정해 조기 중단해주세요.\n",
    "\n",
    "- early_stopping_rounds는 validation_1-mlogloss의 값이 최소값일 때 추가로 n번을 더 실시하고 그럼에도 불구하고 점수가 오르지 않으면 학습이 조기 종료되는 특징을 가지고 있습니다. 설정한 n값만큼 반복했는지 확인해주세요."
   ]
  },
  {
   "cell_type": "code",
   "execution_count": 7,
   "metadata": {
    "ExecuteTime": {
     "end_time": "2023-09-08T01:17:23.738201Z",
     "start_time": "2023-09-08T01:17:23.581606Z"
    },
    "id": "AjNzxeVo_WML"
   },
   "outputs": [
    {
     "name": "stdout",
     "output_type": "stream",
     "text": [
      "[0]\tvalidation_0-mlogloss:0.55745\tvalidation_1-mlogloss:0.59482\n",
      "[1]\tvalidation_0-mlogloss:0.32698\tvalidation_1-mlogloss:0.37759\n",
      "[2]\tvalidation_0-mlogloss:0.20214\tvalidation_1-mlogloss:0.25890\n",
      "[3]\tvalidation_0-mlogloss:0.13034\tvalidation_1-mlogloss:0.19014\n",
      "[4]\tvalidation_0-mlogloss:0.08766\tvalidation_1-mlogloss:0.14454\n",
      "[5]\tvalidation_0-mlogloss:0.06113\tvalidation_1-mlogloss:0.11933\n",
      "[6]\tvalidation_0-mlogloss:0.04530\tvalidation_1-mlogloss:0.10537\n",
      "[7]\tvalidation_0-mlogloss:0.03470\tvalidation_1-mlogloss:0.09035\n",
      "[8]\tvalidation_0-mlogloss:0.02709\tvalidation_1-mlogloss:0.08565\n",
      "[9]\tvalidation_0-mlogloss:0.02236\tvalidation_1-mlogloss:0.08144\n",
      "[10]\tvalidation_0-mlogloss:0.01912\tvalidation_1-mlogloss:0.08140\n",
      "[11]\tvalidation_0-mlogloss:0.01645\tvalidation_1-mlogloss:0.07857\n",
      "[12]\tvalidation_0-mlogloss:0.01457\tvalidation_1-mlogloss:0.07699\n",
      "[13]\tvalidation_0-mlogloss:0.01320\tvalidation_1-mlogloss:0.07501\n",
      "[14]\tvalidation_0-mlogloss:0.01283\tvalidation_1-mlogloss:0.07516\n",
      "[15]\tvalidation_0-mlogloss:0.01253\tvalidation_1-mlogloss:0.07366\n",
      "[16]\tvalidation_0-mlogloss:0.01230\tvalidation_1-mlogloss:0.07231\n",
      "[17]\tvalidation_0-mlogloss:0.01210\tvalidation_1-mlogloss:0.07027\n",
      "[18]\tvalidation_0-mlogloss:0.01192\tvalidation_1-mlogloss:0.07110\n",
      "[19]\tvalidation_0-mlogloss:0.01175\tvalidation_1-mlogloss:0.07027\n",
      "[20]\tvalidation_0-mlogloss:0.01160\tvalidation_1-mlogloss:0.06865\n",
      "[21]\tvalidation_0-mlogloss:0.01147\tvalidation_1-mlogloss:0.06956\n",
      "[22]\tvalidation_0-mlogloss:0.01137\tvalidation_1-mlogloss:0.07037\n",
      "[23]\tvalidation_0-mlogloss:0.01126\tvalidation_1-mlogloss:0.06906\n",
      "[24]\tvalidation_0-mlogloss:0.01117\tvalidation_1-mlogloss:0.06763\n",
      "[25]\tvalidation_0-mlogloss:0.01109\tvalidation_1-mlogloss:0.06843\n",
      "[26]\tvalidation_0-mlogloss:0.01109\tvalidation_1-mlogloss:0.06835\n",
      "[27]\tvalidation_0-mlogloss:0.01109\tvalidation_1-mlogloss:0.06828\n",
      "[28]\tvalidation_0-mlogloss:0.01109\tvalidation_1-mlogloss:0.06823\n",
      "[29]\tvalidation_0-mlogloss:0.01109\tvalidation_1-mlogloss:0.06819\n",
      "[30]\tvalidation_0-mlogloss:0.01109\tvalidation_1-mlogloss:0.06816\n",
      "[31]\tvalidation_0-mlogloss:0.01109\tvalidation_1-mlogloss:0.06813\n",
      "[32]\tvalidation_0-mlogloss:0.01109\tvalidation_1-mlogloss:0.06812\n",
      "[33]\tvalidation_0-mlogloss:0.01109\tvalidation_1-mlogloss:0.06810\n",
      "[34]\tvalidation_0-mlogloss:0.01109\tvalidation_1-mlogloss:0.06809\n",
      "[35]\tvalidation_0-mlogloss:0.01109\tvalidation_1-mlogloss:0.06808\n",
      "[36]\tvalidation_0-mlogloss:0.01109\tvalidation_1-mlogloss:0.06808\n",
      "[37]\tvalidation_0-mlogloss:0.01109\tvalidation_1-mlogloss:0.06807\n",
      "[38]\tvalidation_0-mlogloss:0.01109\tvalidation_1-mlogloss:0.06807\n",
      "[39]\tvalidation_0-mlogloss:0.01109\tvalidation_1-mlogloss:0.06806\n",
      "[40]\tvalidation_0-mlogloss:0.01109\tvalidation_1-mlogloss:0.06806\n",
      "[41]\tvalidation_0-mlogloss:0.01109\tvalidation_1-mlogloss:0.06806\n",
      "[42]\tvalidation_0-mlogloss:0.01109\tvalidation_1-mlogloss:0.06806\n",
      "[43]\tvalidation_0-mlogloss:0.01109\tvalidation_1-mlogloss:0.06806\n",
      "[44]\tvalidation_0-mlogloss:0.01109\tvalidation_1-mlogloss:0.06806\n",
      "[45]\tvalidation_0-mlogloss:0.01109\tvalidation_1-mlogloss:0.06806\n",
      "[46]\tvalidation_0-mlogloss:0.01109\tvalidation_1-mlogloss:0.06806\n",
      "[47]\tvalidation_0-mlogloss:0.01109\tvalidation_1-mlogloss:0.06806\n",
      "[48]\tvalidation_0-mlogloss:0.01109\tvalidation_1-mlogloss:0.06805\n",
      "[49]\tvalidation_0-mlogloss:0.01109\tvalidation_1-mlogloss:0.06805\n",
      "[50]\tvalidation_0-mlogloss:0.01109\tvalidation_1-mlogloss:0.06805\n",
      "[51]\tvalidation_0-mlogloss:0.01109\tvalidation_1-mlogloss:0.06805\n",
      "[52]\tvalidation_0-mlogloss:0.01109\tvalidation_1-mlogloss:0.06805\n",
      "[53]\tvalidation_0-mlogloss:0.01109\tvalidation_1-mlogloss:0.06805\n",
      "[54]\tvalidation_0-mlogloss:0.01109\tvalidation_1-mlogloss:0.06805\n",
      "[55]\tvalidation_0-mlogloss:0.01109\tvalidation_1-mlogloss:0.06805\n",
      "[56]\tvalidation_0-mlogloss:0.01109\tvalidation_1-mlogloss:0.06805\n",
      "[57]\tvalidation_0-mlogloss:0.01109\tvalidation_1-mlogloss:0.06805\n",
      "[58]\tvalidation_0-mlogloss:0.01109\tvalidation_1-mlogloss:0.06805\n",
      "[59]\tvalidation_0-mlogloss:0.01109\tvalidation_1-mlogloss:0.06805\n",
      "[60]\tvalidation_0-mlogloss:0.01109\tvalidation_1-mlogloss:0.06805\n",
      "[61]\tvalidation_0-mlogloss:0.01109\tvalidation_1-mlogloss:0.06805\n",
      "[62]\tvalidation_0-mlogloss:0.01109\tvalidation_1-mlogloss:0.06805\n",
      "[63]\tvalidation_0-mlogloss:0.01109\tvalidation_1-mlogloss:0.06805\n",
      "[64]\tvalidation_0-mlogloss:0.01109\tvalidation_1-mlogloss:0.06805\n",
      "[65]\tvalidation_0-mlogloss:0.01109\tvalidation_1-mlogloss:0.06805\n",
      "[66]\tvalidation_0-mlogloss:0.01109\tvalidation_1-mlogloss:0.06805\n",
      "[67]\tvalidation_0-mlogloss:0.01109\tvalidation_1-mlogloss:0.06805\n",
      "[68]\tvalidation_0-mlogloss:0.01109\tvalidation_1-mlogloss:0.06805\n",
      "[69]\tvalidation_0-mlogloss:0.01109\tvalidation_1-mlogloss:0.06805\n",
      "[70]\tvalidation_0-mlogloss:0.01109\tvalidation_1-mlogloss:0.06805\n",
      "[71]\tvalidation_0-mlogloss:0.01109\tvalidation_1-mlogloss:0.06805\n",
      "[72]\tvalidation_0-mlogloss:0.01109\tvalidation_1-mlogloss:0.06805\n",
      "[73]\tvalidation_0-mlogloss:0.01109\tvalidation_1-mlogloss:0.06805\n",
      "[74]\tvalidation_0-mlogloss:0.01109\tvalidation_1-mlogloss:0.06805\n"
     ]
    },
    {
     "data": {
      "text/html": [
       "<style>#sk-container-id-1 {color: black;}#sk-container-id-1 pre{padding: 0;}#sk-container-id-1 div.sk-toggleable {background-color: white;}#sk-container-id-1 label.sk-toggleable__label {cursor: pointer;display: block;width: 100%;margin-bottom: 0;padding: 0.3em;box-sizing: border-box;text-align: center;}#sk-container-id-1 label.sk-toggleable__label-arrow:before {content: \"▸\";float: left;margin-right: 0.25em;color: #696969;}#sk-container-id-1 label.sk-toggleable__label-arrow:hover:before {color: black;}#sk-container-id-1 div.sk-estimator:hover label.sk-toggleable__label-arrow:before {color: black;}#sk-container-id-1 div.sk-toggleable__content {max-height: 0;max-width: 0;overflow: hidden;text-align: left;background-color: #f0f8ff;}#sk-container-id-1 div.sk-toggleable__content pre {margin: 0.2em;color: black;border-radius: 0.25em;background-color: #f0f8ff;}#sk-container-id-1 input.sk-toggleable__control:checked~div.sk-toggleable__content {max-height: 200px;max-width: 100%;overflow: auto;}#sk-container-id-1 input.sk-toggleable__control:checked~label.sk-toggleable__label-arrow:before {content: \"▾\";}#sk-container-id-1 div.sk-estimator input.sk-toggleable__control:checked~label.sk-toggleable__label {background-color: #d4ebff;}#sk-container-id-1 div.sk-label input.sk-toggleable__control:checked~label.sk-toggleable__label {background-color: #d4ebff;}#sk-container-id-1 input.sk-hidden--visually {border: 0;clip: rect(1px 1px 1px 1px);clip: rect(1px, 1px, 1px, 1px);height: 1px;margin: -1px;overflow: hidden;padding: 0;position: absolute;width: 1px;}#sk-container-id-1 div.sk-estimator {font-family: monospace;background-color: #f0f8ff;border: 1px dotted black;border-radius: 0.25em;box-sizing: border-box;margin-bottom: 0.5em;}#sk-container-id-1 div.sk-estimator:hover {background-color: #d4ebff;}#sk-container-id-1 div.sk-parallel-item::after {content: \"\";width: 100%;border-bottom: 1px solid gray;flex-grow: 1;}#sk-container-id-1 div.sk-label:hover label.sk-toggleable__label {background-color: #d4ebff;}#sk-container-id-1 div.sk-serial::before {content: \"\";position: absolute;border-left: 1px solid gray;box-sizing: border-box;top: 0;bottom: 0;left: 50%;z-index: 0;}#sk-container-id-1 div.sk-serial {display: flex;flex-direction: column;align-items: center;background-color: white;padding-right: 0.2em;padding-left: 0.2em;position: relative;}#sk-container-id-1 div.sk-item {position: relative;z-index: 1;}#sk-container-id-1 div.sk-parallel {display: flex;align-items: stretch;justify-content: center;background-color: white;position: relative;}#sk-container-id-1 div.sk-item::before, #sk-container-id-1 div.sk-parallel-item::before {content: \"\";position: absolute;border-left: 1px solid gray;box-sizing: border-box;top: 0;bottom: 0;left: 50%;z-index: -1;}#sk-container-id-1 div.sk-parallel-item {display: flex;flex-direction: column;z-index: 1;position: relative;background-color: white;}#sk-container-id-1 div.sk-parallel-item:first-child::after {align-self: flex-end;width: 50%;}#sk-container-id-1 div.sk-parallel-item:last-child::after {align-self: flex-start;width: 50%;}#sk-container-id-1 div.sk-parallel-item:only-child::after {width: 0;}#sk-container-id-1 div.sk-dashed-wrapped {border: 1px dashed gray;margin: 0 0.4em 0.5em 0.4em;box-sizing: border-box;padding-bottom: 0.4em;background-color: white;}#sk-container-id-1 div.sk-label label {font-family: monospace;font-weight: bold;display: inline-block;line-height: 1.2em;}#sk-container-id-1 div.sk-label-container {text-align: center;}#sk-container-id-1 div.sk-container {/* jupyter's `normalize.less` sets `[hidden] { display: none; }` but bootstrap.min.css set `[hidden] { display: none !important; }` so we also need the `!important` here to be able to override the default hidden behavior on the sphinx rendered scikit-learn.org. See: https://github.com/scikit-learn/scikit-learn/issues/21755 */display: inline-block !important;position: relative;}#sk-container-id-1 div.sk-text-repr-fallback {display: none;}</style><div id=\"sk-container-id-1\" class=\"sk-top-container\"><div class=\"sk-text-repr-fallback\"><pre>XGBClassifier(base_score=None, booster=None, callbacks=None,\n",
       "              colsample_bylevel=None, colsample_bynode=None,\n",
       "              colsample_bytree=None, early_stopping_rounds=None,\n",
       "              enable_categorical=False, eval_metric=None, feature_types=None,\n",
       "              gamma=None, gpu_id=None, grow_policy=None, importance_type=None,\n",
       "              interaction_constraints=None, learning_rate=0.5, max_bin=None,\n",
       "              max_cat_threshold=None, max_cat_to_onehot=None,\n",
       "              max_delta_step=None, max_depth=10, max_leaves=None,\n",
       "              min_child_weight=None, missing=nan, monotone_constraints=None,\n",
       "              n_estimators=400, n_jobs=None, num_parallel_tree=None,\n",
       "              objective=&#x27;multi:softprob&#x27;, predictor=None, ...)</pre><b>In a Jupyter environment, please rerun this cell to show the HTML representation or trust the notebook. <br />On GitHub, the HTML representation is unable to render, please try loading this page with nbviewer.org.</b></div><div class=\"sk-container\" hidden><div class=\"sk-item\"><div class=\"sk-estimator sk-toggleable\"><input class=\"sk-toggleable__control sk-hidden--visually\" id=\"sk-estimator-id-1\" type=\"checkbox\" checked><label for=\"sk-estimator-id-1\" class=\"sk-toggleable__label sk-toggleable__label-arrow\">XGBClassifier</label><div class=\"sk-toggleable__content\"><pre>XGBClassifier(base_score=None, booster=None, callbacks=None,\n",
       "              colsample_bylevel=None, colsample_bynode=None,\n",
       "              colsample_bytree=None, early_stopping_rounds=None,\n",
       "              enable_categorical=False, eval_metric=None, feature_types=None,\n",
       "              gamma=None, gpu_id=None, grow_policy=None, importance_type=None,\n",
       "              interaction_constraints=None, learning_rate=0.5, max_bin=None,\n",
       "              max_cat_threshold=None, max_cat_to_onehot=None,\n",
       "              max_delta_step=None, max_depth=10, max_leaves=None,\n",
       "              min_child_weight=None, missing=nan, monotone_constraints=None,\n",
       "              n_estimators=400, n_jobs=None, num_parallel_tree=None,\n",
       "              objective=&#x27;multi:softprob&#x27;, predictor=None, ...)</pre></div></div></div></div></div>"
      ],
      "text/plain": [
       "XGBClassifier(base_score=None, booster=None, callbacks=None,\n",
       "              colsample_bylevel=None, colsample_bynode=None,\n",
       "              colsample_bytree=None, early_stopping_rounds=None,\n",
       "              enable_categorical=False, eval_metric=None, feature_types=None,\n",
       "              gamma=None, gpu_id=None, grow_policy=None, importance_type=None,\n",
       "              interaction_constraints=None, learning_rate=0.5, max_bin=None,\n",
       "              max_cat_threshold=None, max_cat_to_onehot=None,\n",
       "              max_delta_step=None, max_depth=10, max_leaves=None,\n",
       "              min_child_weight=None, missing=nan, monotone_constraints=None,\n",
       "              n_estimators=400, n_jobs=None, num_parallel_tree=None,\n",
       "              objective='multi:softprob', predictor=None, ...)"
      ]
     },
     "execution_count": 7,
     "metadata": {},
     "output_type": "execute_result"
    }
   ],
   "source": [
    "xgb = XGBClassifier(n_estimators = 400, learning_rate = 0.5, max_depth = 10)\n",
    "evals = [(X_train, y_train), (X_test, y_test)]\n",
    "xgb.fit(X_train,y_train,early_stopping_rounds=50,eval_set=evals,eval_metric='mlogloss',verbose=True)"
   ]
  },
  {
   "cell_type": "markdown",
   "metadata": {
    "id": "wPx7NZrL_YFO"
   },
   "source": [
    "### 3-4 plot_importance 시각화 (6점)\n",
    "- plot_importance()를 이용하여 feature의 중요도를 시각화해주세요"
   ]
  },
  {
   "cell_type": "code",
   "execution_count": 10,
   "metadata": {
    "ExecuteTime": {
     "end_time": "2023-09-08T01:20:30.351657Z",
     "start_time": "2023-09-08T01:20:30.049544Z"
    },
    "id": "8_XVyYlR_bIb",
    "scrolled": false
   },
   "outputs": [
    {
     "data": {
      "text/plain": [
       "<Axes: title={'center': 'Feature importance'}, xlabel='F score', ylabel='Features'>"
      ]
     },
     "execution_count": 10,
     "metadata": {},
     "output_type": "execute_result"
    },
    {
     "data": {
      "image/png": "[encoded data removed]",
      "text/plain": [
       "<Figure size 1000x1200 with 1 Axes>"
      ]
     },
     "metadata": {},
     "output_type": "display_data"
    }
   ],
   "source": [
    "from xgboost import plot_importance\n",
    "import matplotlib.pyplot as plt\n",
    "%matplotlib inline\n",
    "fig,ax = plt.subplots(figsize=(10,12))\n",
    "plot_importance(xgb,ax=ax)"
   ]
  },
  {
   "cell_type": "code",
   "execution_count": 21,
   "metadata": {
    "ExecuteTime": {
     "end_time": "2023-09-08T01:49:21.612163Z",
     "start_time": "2023-09-08T01:49:21.396893Z"
    }
   },
   "outputs": [
    {
     "data": {
      "image/png": "[encoded data removed]",
      "text/plain": [
       "<Figure size 640x480 with 1 Axes>"
      ]
     },
     "metadata": {},
     "output_type": "display_data"
    }
   ],
   "source": [
    "plt.barh(wine.columns[:-1],xgb.feature_importances_)\n",
    "plt.title('feature importances')\n",
    "plt.show()"
   ]
  },
  {
   "cell_type": "markdown",
   "metadata": {
    "id": "xGWKxmSb_d1R"
   },
   "source": [
    "## 실습4"
   ]
  },
  {
   "cell_type": "markdown",
   "metadata": {
    "id": "8cvuuokV_gdk"
   },
   "source": [
    "## LightGBM(25점)"
   ]
  },
  {
   "cell_type": "code",
   "execution_count": 69,
   "metadata": {
    "ExecuteTime": {
     "end_time": "2023-09-08T02:46:21.016666Z",
     "start_time": "2023-09-08T02:46:20.960844Z"
    },
    "id": "dtdv3yin_fTb",
    "scrolled": true
   },
   "outputs": [
    {
     "data": {
      "text/html": [
       "<div>\n",
       "<style scoped>\n",
       "    .dataframe tbody tr th:only-of-type {\n",
       "        vertical-align: middle;\n",
       "    }\n",
       "\n",
       "    .dataframe tbody tr th {\n",
       "        vertical-align: top;\n",
       "    }\n",
       "\n",
       "    .dataframe thead tr th {\n",
       "        text-align: left;\n",
       "    }\n",
       "</style>\n",
       "<table border=\"1\" class=\"dataframe\">\n",
       "  <thead>\n",
       "    <tr>\n",
       "      <th></th>\n",
       "      <th>alcohol</th>\n",
       "      <th>malic_acid</th>\n",
       "      <th>ash</th>\n",
       "      <th>alcalinity_of_ash</th>\n",
       "      <th>magnesium</th>\n",
       "      <th>total_phenols</th>\n",
       "      <th>flavanoids</th>\n",
       "      <th>nonflavanoid_phenols</th>\n",
       "      <th>proanthocyanins</th>\n",
       "      <th>color_intensity</th>\n",
       "      <th>hue</th>\n",
       "      <th>od280/od315_of_diluted_wines</th>\n",
       "      <th>proline</th>\n",
       "      <th>target</th>\n",
       "    </tr>\n",
       "  </thead>\n",
       "  <tbody>\n",
       "    <tr>\n",
       "      <th>0</th>\n",
       "      <td>14.23</td>\n",
       "      <td>1.71</td>\n",
       "      <td>2.43</td>\n",
       "      <td>15.6</td>\n",
       "      <td>127.0</td>\n",
       "      <td>2.80</td>\n",
       "      <td>3.06</td>\n",
       "      <td>0.28</td>\n",
       "      <td>2.29</td>\n",
       "      <td>5.64</td>\n",
       "      <td>1.04</td>\n",
       "      <td>3.92</td>\n",
       "      <td>1065.0</td>\n",
       "      <td>0</td>\n",
       "    </tr>\n",
       "    <tr>\n",
       "      <th>1</th>\n",
       "      <td>13.20</td>\n",
       "      <td>1.78</td>\n",
       "      <td>2.14</td>\n",
       "      <td>11.2</td>\n",
       "      <td>100.0</td>\n",
       "      <td>2.65</td>\n",
       "      <td>2.76</td>\n",
       "      <td>0.26</td>\n",
       "      <td>1.28</td>\n",
       "      <td>4.38</td>\n",
       "      <td>1.05</td>\n",
       "      <td>3.40</td>\n",
       "      <td>1050.0</td>\n",
       "      <td>0</td>\n",
       "    </tr>\n",
       "    <tr>\n",
       "      <th>2</th>\n",
       "      <td>13.16</td>\n",
       "      <td>2.36</td>\n",
       "      <td>2.67</td>\n",
       "      <td>18.6</td>\n",
       "      <td>101.0</td>\n",
       "      <td>2.80</td>\n",
       "      <td>3.24</td>\n",
       "      <td>0.30</td>\n",
       "      <td>2.81</td>\n",
       "      <td>5.68</td>\n",
       "      <td>1.03</td>\n",
       "      <td>3.17</td>\n",
       "      <td>1185.0</td>\n",
       "      <td>0</td>\n",
       "    </tr>\n",
       "    <tr>\n",
       "      <th>3</th>\n",
       "      <td>14.37</td>\n",
       "      <td>1.95</td>\n",
       "      <td>2.50</td>\n",
       "      <td>16.8</td>\n",
       "      <td>113.0</td>\n",
       "      <td>3.85</td>\n",
       "      <td>3.49</td>\n",
       "      <td>0.24</td>\n",
       "      <td>2.18</td>\n",
       "      <td>7.80</td>\n",
       "      <td>0.86</td>\n",
       "      <td>3.45</td>\n",
       "      <td>1480.0</td>\n",
       "      <td>0</td>\n",
       "    </tr>\n",
       "    <tr>\n",
       "      <th>4</th>\n",
       "      <td>13.24</td>\n",
       "      <td>2.59</td>\n",
       "      <td>2.87</td>\n",
       "      <td>21.0</td>\n",
       "      <td>118.0</td>\n",
       "      <td>2.80</td>\n",
       "      <td>2.69</td>\n",
       "      <td>0.39</td>\n",
       "      <td>1.82</td>\n",
       "      <td>4.32</td>\n",
       "      <td>1.04</td>\n",
       "      <td>2.93</td>\n",
       "      <td>735.0</td>\n",
       "      <td>0</td>\n",
       "    </tr>\n",
       "  </tbody>\n",
       "</table>\n",
       "</div>"
      ],
      "text/plain": [
       "  alcohol malic_acid   ash alcalinity_of_ash magnesium total_phenols  \\\n",
       "0   14.23       1.71  2.43              15.6     127.0          2.80   \n",
       "1   13.20       1.78  2.14              11.2     100.0          2.65   \n",
       "2   13.16       2.36  2.67              18.6     101.0          2.80   \n",
       "3   14.37       1.95  2.50              16.8     113.0          3.85   \n",
       "4   13.24       2.59  2.87              21.0     118.0          2.80   \n",
       "\n",
       "  flavanoids nonflavanoid_phenols proanthocyanins color_intensity   hue  \\\n",
       "0       3.06                 0.28            2.29            5.64  1.04   \n",
       "1       2.76                 0.26            1.28            4.38  1.05   \n",
       "2       3.24                 0.30            2.81            5.68  1.03   \n",
       "3       3.49                 0.24            2.18            7.80  0.86   \n",
       "4       2.69                 0.39            1.82            4.32  1.04   \n",
       "\n",
       "  od280/od315_of_diluted_wines proline target  \n",
       "0                         3.92  1065.0      0  \n",
       "1                         3.40  1050.0      0  \n",
       "2                         3.17  1185.0      0  \n",
       "3                         3.45  1480.0      0  \n",
       "4                         2.93   735.0      0  "
      ]
     },
     "execution_count": 69,
     "metadata": {},
     "output_type": "execute_result"
    }
   ],
   "source": [
    "# LGBMClassifier\n",
    "from lightgbm import LGBMClassifier\n",
    "\n",
    "import pandas as pd\n",
    "import numpy as np\n",
    "from sklearn.datasets import load_wine\n",
    "from sklearn.model_selection import train_test_split\n",
    "from sklearn.metrics import accuracy_score, precision_score, recall_score, f1_score, roc_auc_score, confusion_matrix\n",
    "import warnings\n",
    "warnings.filterwarnings('ignore')\n",
    "\n",
    "wine = load_wine()\n",
    "wine_data = wine.data\n",
    "wine_target = wine.target\n",
    "df_wine = pd.DataFrame(data = wine_data, columns=[wine.feature_names])\n",
    "df_wine['target'] = wine.target\n",
    "\n",
    "df_wine.head()"
   ]
  },
  {
   "cell_type": "code",
   "execution_count": 70,
   "metadata": {
    "ExecuteTime": {
     "end_time": "2023-09-08T02:46:23.356643Z",
     "start_time": "2023-09-08T02:46:23.335029Z"
    }
   },
   "outputs": [
    {
     "data": {
      "text/plain": [
       "Index(['alcohol', 'malic_acid', 'ash', 'alcalinity_of_ash', 'magnesium',\n",
       "       'total_phenols', 'flavanoids', 'nonflavanoid_phenols',\n",
       "       'proanthocyanins', 'color_intensity', 'hue',\n",
       "       'od280/od315_of_diluted_wines', 'proline', 'target'],\n",
       "      dtype='object')"
      ]
     },
     "execution_count": 70,
     "metadata": {},
     "output_type": "execute_result"
    }
   ],
   "source": [
    "df_wine.columns = df_wine.columns.get_level_values(0)\n",
    "df_wine.columns"
   ]
  },
  {
   "cell_type": "markdown",
   "metadata": {
    "id": "nz7ailIF_kOx"
   },
   "source": [
    "### 4-1 `train_test_split` 을 사용하여 80%는 학습용 데이터로 20%는 테스트용 데이터로 분리하세요. (random_state = 12) (2점)\n"
   ]
  },
  {
   "cell_type": "code",
   "execution_count": 71,
   "metadata": {
    "ExecuteTime": {
     "end_time": "2023-09-08T02:46:29.039085Z",
     "start_time": "2023-09-08T02:46:29.027717Z"
    },
    "id": "jd0jy6R5_n_b"
   },
   "outputs": [],
   "source": [
    "X_train,X_test,y_train,y_test = train_test_split(df_wine.iloc[:,:-1],df_wine.iloc[:,-1],test_size=0.2,random_state=12)"
   ]
  },
  {
   "cell_type": "markdown",
   "metadata": {
    "id": "gDZ4K05D_psk"
   },
   "source": [
    "### 4-2 `X_train`, `y_train` 을 90%는 학습용 데이터로, 10%는 검증용 데이터로 분리하세요. (random_state = 12) (5점)"
   ]
  },
  {
   "cell_type": "code",
   "execution_count": 72,
   "metadata": {
    "ExecuteTime": {
     "end_time": "2023-09-08T02:46:30.170458Z",
     "start_time": "2023-09-08T02:46:30.139092Z"
    },
    "id": "5TAARr1-_rmw"
   },
   "outputs": [],
   "source": [
    "X_tr,X_val,y_tr,y_val = train_test_split(X_train,y_train,test_size=0.1,random_state=12)"
   ]
  },
  {
   "cell_type": "markdown",
   "metadata": {
    "id": "FZWmf4sW_vkh"
   },
   "source": [
    "### 4-3 LGBM classifier 객체를 생성하세요. (n_estimators = 400) (5점)"
   ]
  },
  {
   "cell_type": "code",
   "execution_count": 54,
   "metadata": {
    "ExecuteTime": {
     "end_time": "2023-09-08T02:26:17.127718Z",
     "start_time": "2023-09-08T02:26:17.120175Z"
    },
    "id": "iGM_mhRd_yHQ"
   },
   "outputs": [],
   "source": [
    "lgbm = LGBMClassifier(n_estimators=400)"
   ]
  },
  {
   "cell_type": "markdown",
   "metadata": {
    "id": "glSrfgR7_zy_"
   },
   "source": [
    "### 4-4 학습을 진행하세요. (단, `early_stopping_round` 를 이용하여 55회에 조기 중단 시키세요.) (5점)"
   ]
  },
  {
   "cell_type": "code",
   "execution_count": 57,
   "metadata": {
    "ExecuteTime": {
     "end_time": "2023-09-08T02:26:37.971093Z",
     "start_time": "2023-09-08T02:26:37.856440Z"
    },
    "id": "zI6iGxOP_18B"
   },
   "outputs": [
    {
     "name": "stdout",
     "output_type": "stream",
     "text": [
      "[1]\ttraining's multi_logloss: 0.933281\tvalid_1's multi_logloss: 0.924054\n",
      "[2]\ttraining's multi_logloss: 0.817083\tvalid_1's multi_logloss: 0.799134\n",
      "[3]\ttraining's multi_logloss: 0.723254\tvalid_1's multi_logloss: 0.706118\n",
      "[4]\ttraining's multi_logloss: 0.641514\tvalid_1's multi_logloss: 0.617135\n",
      "[5]\ttraining's multi_logloss: 0.572321\tvalid_1's multi_logloss: 0.546482\n",
      "[6]\ttraining's multi_logloss: 0.513609\tvalid_1's multi_logloss: 0.490752\n",
      "[7]\ttraining's multi_logloss: 0.462358\tvalid_1's multi_logloss: 0.435932\n",
      "[8]\ttraining's multi_logloss: 0.415391\tvalid_1's multi_logloss: 0.382491\n",
      "[9]\ttraining's multi_logloss: 0.373809\tvalid_1's multi_logloss: 0.342602\n",
      "[10]\ttraining's multi_logloss: 0.33787\tvalid_1's multi_logloss: 0.307254\n",
      "[11]\ttraining's multi_logloss: 0.305925\tvalid_1's multi_logloss: 0.272683\n",
      "[12]\ttraining's multi_logloss: 0.275342\tvalid_1's multi_logloss: 0.242171\n",
      "[13]\ttraining's multi_logloss: 0.250417\tvalid_1's multi_logloss: 0.217605\n",
      "[14]\ttraining's multi_logloss: 0.228281\tvalid_1's multi_logloss: 0.197339\n",
      "[15]\ttraining's multi_logloss: 0.206623\tvalid_1's multi_logloss: 0.176356\n",
      "[16]\ttraining's multi_logloss: 0.188776\tvalid_1's multi_logloss: 0.158919\n",
      "[17]\ttraining's multi_logloss: 0.17124\tvalid_1's multi_logloss: 0.143537\n",
      "[18]\ttraining's multi_logloss: 0.155573\tvalid_1's multi_logloss: 0.128502\n",
      "[19]\ttraining's multi_logloss: 0.14214\tvalid_1's multi_logloss: 0.117988\n",
      "[20]\ttraining's multi_logloss: 0.129574\tvalid_1's multi_logloss: 0.106976\n",
      "[21]\ttraining's multi_logloss: 0.118482\tvalid_1's multi_logloss: 0.0965454\n",
      "[22]\ttraining's multi_logloss: 0.107419\tvalid_1's multi_logloss: 0.0869483\n",
      "[23]\ttraining's multi_logloss: 0.0981556\tvalid_1's multi_logloss: 0.0788469\n",
      "[24]\ttraining's multi_logloss: 0.0898927\tvalid_1's multi_logloss: 0.0731431\n",
      "[25]\ttraining's multi_logloss: 0.0822897\tvalid_1's multi_logloss: 0.0663069\n",
      "[26]\ttraining's multi_logloss: 0.0755401\tvalid_1's multi_logloss: 0.0606974\n",
      "[27]\ttraining's multi_logloss: 0.0691445\tvalid_1's multi_logloss: 0.0554515\n",
      "[28]\ttraining's multi_logloss: 0.0631854\tvalid_1's multi_logloss: 0.0505429\n",
      "[29]\ttraining's multi_logloss: 0.0581461\tvalid_1's multi_logloss: 0.0469577\n",
      "[30]\ttraining's multi_logloss: 0.0536284\tvalid_1's multi_logloss: 0.0436436\n",
      "[31]\ttraining's multi_logloss: 0.0491395\tvalid_1's multi_logloss: 0.0402761\n",
      "[32]\ttraining's multi_logloss: 0.0450495\tvalid_1's multi_logloss: 0.0362126\n",
      "[33]\ttraining's multi_logloss: 0.0413231\tvalid_1's multi_logloss: 0.0333027\n",
      "[34]\ttraining's multi_logloss: 0.0379885\tvalid_1's multi_logloss: 0.0306072\n",
      "[35]\ttraining's multi_logloss: 0.0348607\tvalid_1's multi_logloss: 0.0278975\n",
      "[36]\ttraining's multi_logloss: 0.0319269\tvalid_1's multi_logloss: 0.0255293\n",
      "[37]\ttraining's multi_logloss: 0.0293196\tvalid_1's multi_logloss: 0.0237085\n",
      "[38]\ttraining's multi_logloss: 0.0269539\tvalid_1's multi_logloss: 0.0219563\n",
      "[39]\ttraining's multi_logloss: 0.024711\tvalid_1's multi_logloss: 0.0204455\n",
      "[40]\ttraining's multi_logloss: 0.0228327\tvalid_1's multi_logloss: 0.0188498\n",
      "[41]\ttraining's multi_logloss: 0.0209395\tvalid_1's multi_logloss: 0.017459\n",
      "[42]\ttraining's multi_logloss: 0.0192603\tvalid_1's multi_logloss: 0.0166638\n",
      "[43]\ttraining's multi_logloss: 0.017586\tvalid_1's multi_logloss: 0.0154325\n",
      "[44]\ttraining's multi_logloss: 0.0160693\tvalid_1's multi_logloss: 0.014867\n",
      "[45]\ttraining's multi_logloss: 0.0145873\tvalid_1's multi_logloss: 0.0133453\n",
      "[46]\ttraining's multi_logloss: 0.0135632\tvalid_1's multi_logloss: 0.0123285\n",
      "[47]\ttraining's multi_logloss: 0.0124642\tvalid_1's multi_logloss: 0.0119407\n",
      "[48]\ttraining's multi_logloss: 0.0115303\tvalid_1's multi_logloss: 0.0112134\n",
      "[49]\ttraining's multi_logloss: 0.0107062\tvalid_1's multi_logloss: 0.0107746\n",
      "[50]\ttraining's multi_logloss: 0.00990884\tvalid_1's multi_logloss: 0.00987023\n",
      "[51]\ttraining's multi_logloss: 0.00914458\tvalid_1's multi_logloss: 0.00917445\n",
      "[52]\ttraining's multi_logloss: 0.00846737\tvalid_1's multi_logloss: 0.00832496\n",
      "[53]\ttraining's multi_logloss: 0.00779438\tvalid_1's multi_logloss: 0.00779294\n",
      "[54]\ttraining's multi_logloss: 0.00719984\tvalid_1's multi_logloss: 0.0073368\n",
      "[55]\ttraining's multi_logloss: 0.00666732\tvalid_1's multi_logloss: 0.00688911\n",
      "[56]\ttraining's multi_logloss: 0.00616148\tvalid_1's multi_logloss: 0.00648108\n",
      "[57]\ttraining's multi_logloss: 0.00567254\tvalid_1's multi_logloss: 0.00594137\n",
      "[58]\ttraining's multi_logloss: 0.00524909\tvalid_1's multi_logloss: 0.00537717\n",
      "[59]\ttraining's multi_logloss: 0.00484535\tvalid_1's multi_logloss: 0.00513228\n",
      "[60]\ttraining's multi_logloss: 0.00441063\tvalid_1's multi_logloss: 0.0049457\n",
      "[61]\ttraining's multi_logloss: 0.00407796\tvalid_1's multi_logloss: 0.00463593\n",
      "[62]\ttraining's multi_logloss: 0.00380558\tvalid_1's multi_logloss: 0.00439719\n",
      "[63]\ttraining's multi_logloss: 0.0034875\tvalid_1's multi_logloss: 0.00437293\n",
      "[64]\ttraining's multi_logloss: 0.00316248\tvalid_1's multi_logloss: 0.00392311\n",
      "[65]\ttraining's multi_logloss: 0.00291985\tvalid_1's multi_logloss: 0.00370748\n",
      "[66]\ttraining's multi_logloss: 0.00271997\tvalid_1's multi_logloss: 0.00337805\n",
      "[67]\ttraining's multi_logloss: 0.00248275\tvalid_1's multi_logloss: 0.00359503\n",
      "[68]\ttraining's multi_logloss: 0.00229535\tvalid_1's multi_logloss: 0.00334061\n",
      "[69]\ttraining's multi_logloss: 0.00208197\tvalid_1's multi_logloss: 0.00297333\n",
      "[70]\ttraining's multi_logloss: 0.00193373\tvalid_1's multi_logloss: 0.00297125\n",
      "[71]\ttraining's multi_logloss: 0.00179164\tvalid_1's multi_logloss: 0.00265873\n",
      "[72]\ttraining's multi_logloss: 0.00164617\tvalid_1's multi_logloss: 0.00272017\n",
      "[73]\ttraining's multi_logloss: 0.00150536\tvalid_1's multi_logloss: 0.00242997\n",
      "[74]\ttraining's multi_logloss: 0.00137596\tvalid_1's multi_logloss: 0.00249684\n",
      "[75]\ttraining's multi_logloss: 0.00126036\tvalid_1's multi_logloss: 0.00223161\n",
      "[76]\ttraining's multi_logloss: 0.00114248\tvalid_1's multi_logloss: 0.00220393\n",
      "[77]\ttraining's multi_logloss: 0.0010453\tvalid_1's multi_logloss: 0.00215511\n",
      "[78]\ttraining's multi_logloss: 0.000980821\tvalid_1's multi_logloss: 0.00191126\n",
      "[79]\ttraining's multi_logloss: 0.000909072\tvalid_1's multi_logloss: 0.00192685\n",
      "[80]\ttraining's multi_logloss: 0.000827624\tvalid_1's multi_logloss: 0.00171958\n",
      "[81]\ttraining's multi_logloss: 0.000771215\tvalid_1's multi_logloss: 0.00174104\n",
      "[82]\ttraining's multi_logloss: 0.00071388\tvalid_1's multi_logloss: 0.00161782\n",
      "[83]\ttraining's multi_logloss: 0.000641048\tvalid_1's multi_logloss: 0.00160935\n",
      "[84]\ttraining's multi_logloss: 0.00060105\tvalid_1's multi_logloss: 0.00150289\n",
      "[85]\ttraining's multi_logloss: 0.00055662\tvalid_1's multi_logloss: 0.00139733\n",
      "[86]\ttraining's multi_logloss: 0.0005084\tvalid_1's multi_logloss: 0.00141771\n",
      "[87]\ttraining's multi_logloss: 0.000478139\tvalid_1's multi_logloss: 0.00125277\n",
      "[88]\ttraining's multi_logloss: 0.000437793\tvalid_1's multi_logloss: 0.00126158\n",
      "[89]\ttraining's multi_logloss: 0.000403963\tvalid_1's multi_logloss: 0.00119939\n",
      "[90]\ttraining's multi_logloss: 0.000369551\tvalid_1's multi_logloss: 0.00122113\n",
      "[91]\ttraining's multi_logloss: 0.000342483\tvalid_1's multi_logloss: 0.00113415\n",
      "[92]\ttraining's multi_logloss: 0.000317104\tvalid_1's multi_logloss: 0.00102889\n",
      "[93]\ttraining's multi_logloss: 0.000286047\tvalid_1's multi_logloss: 0.000992039\n",
      "[94]\ttraining's multi_logloss: 0.000263771\tvalid_1's multi_logloss: 0.000890674\n",
      "[95]\ttraining's multi_logloss: 0.000246439\tvalid_1's multi_logloss: 0.000903532\n",
      "[96]\ttraining's multi_logloss: 0.000223772\tvalid_1's multi_logloss: 0.000883791\n",
      "[97]\ttraining's multi_logloss: 0.000205781\tvalid_1's multi_logloss: 0.000802634\n",
      "[98]\ttraining's multi_logloss: 0.000189586\tvalid_1's multi_logloss: 0.000728732\n",
      "[99]\ttraining's multi_logloss: 0.000175372\tvalid_1's multi_logloss: 0.00073651\n",
      "[100]\ttraining's multi_logloss: 0.000161617\tvalid_1's multi_logloss: 0.000694188\n",
      "[101]\ttraining's multi_logloss: 0.000149151\tvalid_1's multi_logloss: 0.000669554\n",
      "[102]\ttraining's multi_logloss: 0.000139048\tvalid_1's multi_logloss: 0.000589016\n",
      "[103]\ttraining's multi_logloss: 0.00013031\tvalid_1's multi_logloss: 0.00055788\n",
      "[104]\ttraining's multi_logloss: 0.000119353\tvalid_1's multi_logloss: 0.000491996\n",
      "[105]\ttraining's multi_logloss: 0.000108474\tvalid_1's multi_logloss: 0.000500125\n",
      "[106]\ttraining's multi_logloss: 9.96319e-05\tvalid_1's multi_logloss: 0.000527437\n",
      "[107]\ttraining's multi_logloss: 9.20769e-05\tvalid_1's multi_logloss: 0.000465626\n",
      "[108]\ttraining's multi_logloss: 8.49648e-05\tvalid_1's multi_logloss: 0.000424145\n",
      "[109]\ttraining's multi_logloss: 7.70779e-05\tvalid_1's multi_logloss: 0.000373949\n",
      "[110]\ttraining's multi_logloss: 7.09445e-05\tvalid_1's multi_logloss: 0.000372032\n",
      "[111]\ttraining's multi_logloss: 6.52064e-05\tvalid_1's multi_logloss: 0.000368591\n",
      "[112]\ttraining's multi_logloss: 5.98689e-05\tvalid_1's multi_logloss: 0.000325485\n",
      "[113]\ttraining's multi_logloss: 5.58524e-05\tvalid_1's multi_logloss: 0.000306765\n",
      "[114]\ttraining's multi_logloss: 5.17275e-05\tvalid_1's multi_logloss: 0.000270612\n",
      "[115]\ttraining's multi_logloss: 4.79132e-05\tvalid_1's multi_logloss: 0.00027061\n",
      "[116]\ttraining's multi_logloss: 4.38073e-05\tvalid_1's multi_logloss: 0.000238281\n",
      "[117]\ttraining's multi_logloss: 4.0999e-05\tvalid_1's multi_logloss: 0.000217014\n",
      "[118]\ttraining's multi_logloss: 3.7459e-05\tvalid_1's multi_logloss: 0.000211155\n",
      "[119]\ttraining's multi_logloss: 3.43186e-05\tvalid_1's multi_logloss: 0.000210189\n",
      "[120]\ttraining's multi_logloss: 3.23427e-05\tvalid_1's multi_logloss: 0.000191751\n",
      "[121]\ttraining's multi_logloss: 3.04738e-05\tvalid_1's multi_logloss: 0.000169786\n",
      "[122]\ttraining's multi_logloss: 2.90779e-05\tvalid_1's multi_logloss: 0.000152872\n",
      "[123]\ttraining's multi_logloss: 2.77882e-05\tvalid_1's multi_logloss: 0.000138979\n",
      "[124]\ttraining's multi_logloss: 2.65777e-05\tvalid_1's multi_logloss: 0.000125688\n",
      "[125]\ttraining's multi_logloss: 2.55336e-05\tvalid_1's multi_logloss: 0.000117905\n",
      "[126]\ttraining's multi_logloss: 2.43722e-05\tvalid_1's multi_logloss: 0.000115032\n",
      "[127]\ttraining's multi_logloss: 2.33915e-05\tvalid_1's multi_logloss: 0.000106668\n",
      "[128]\ttraining's multi_logloss: 2.27073e-05\tvalid_1's multi_logloss: 9.99897e-05\n",
      "[129]\ttraining's multi_logloss: 2.18478e-05\tvalid_1's multi_logloss: 9.33062e-05\n",
      "[130]\ttraining's multi_logloss: 2.1251e-05\tvalid_1's multi_logloss: 8.78457e-05\n",
      "[131]\ttraining's multi_logloss: 2.05031e-05\tvalid_1's multi_logloss: 8.21173e-05\n",
      "[132]\ttraining's multi_logloss: 1.99782e-05\tvalid_1's multi_logloss: 8.15752e-05\n",
      "[133]\ttraining's multi_logloss: 1.95247e-05\tvalid_1's multi_logloss: 7.76411e-05\n",
      "[134]\ttraining's multi_logloss: 1.90983e-05\tvalid_1's multi_logloss: 7.75533e-05\n",
      "[135]\ttraining's multi_logloss: 1.86952e-05\tvalid_1's multi_logloss: 7.56965e-05\n",
      "[136]\ttraining's multi_logloss: 1.83107e-05\tvalid_1's multi_logloss: 7.80698e-05\n",
      "[137]\ttraining's multi_logloss: 1.8124e-05\tvalid_1's multi_logloss: 7.68164e-05\n",
      "[138]\ttraining's multi_logloss: 1.79808e-05\tvalid_1's multi_logloss: 7.44741e-05\n",
      "[139]\ttraining's multi_logloss: 1.78412e-05\tvalid_1's multi_logloss: 7.22875e-05\n",
      "[140]\ttraining's multi_logloss: 1.77007e-05\tvalid_1's multi_logloss: 7.38028e-05\n",
      "[141]\ttraining's multi_logloss: 1.75618e-05\tvalid_1's multi_logloss: 7.20813e-05\n",
      "[142]\ttraining's multi_logloss: 1.74281e-05\tvalid_1's multi_logloss: 7.33843e-05\n",
      "[143]\ttraining's multi_logloss: 1.73024e-05\tvalid_1's multi_logloss: 7.12943e-05\n",
      "[144]\ttraining's multi_logloss: 1.71752e-05\tvalid_1's multi_logloss: 7.27414e-05\n",
      "[145]\ttraining's multi_logloss: 1.70515e-05\tvalid_1's multi_logloss: 7.11161e-05\n",
      "[146]\ttraining's multi_logloss: 1.69355e-05\tvalid_1's multi_logloss: 7.23302e-05\n",
      "[147]\ttraining's multi_logloss: 1.68222e-05\tvalid_1's multi_logloss: 7.03342e-05\n",
      "[148]\ttraining's multi_logloss: 1.67066e-05\tvalid_1's multi_logloss: 7.17184e-05\n",
      "[149]\ttraining's multi_logloss: 1.65963e-05\tvalid_1's multi_logloss: 7.0186e-05\n",
      "[150]\ttraining's multi_logloss: 1.6493e-05\tvalid_1's multi_logloss: 7.15054e-05\n",
      "[151]\ttraining's multi_logloss: 1.6389e-05\tvalid_1's multi_logloss: 7.00938e-05\n",
      "[152]\ttraining's multi_logloss: 1.62861e-05\tvalid_1's multi_logloss: 6.83126e-05\n",
      "[153]\ttraining's multi_logloss: 1.61833e-05\tvalid_1's multi_logloss: 6.68873e-05\n",
      "[154]\ttraining's multi_logloss: 1.60865e-05\tvalid_1's multi_logloss: 6.58182e-05\n",
      "[155]\ttraining's multi_logloss: 1.59895e-05\tvalid_1's multi_logloss: 6.41737e-05\n",
      "[156]\ttraining's multi_logloss: 1.58921e-05\tvalid_1's multi_logloss: 6.29411e-05\n",
      "[157]\ttraining's multi_logloss: 1.5797e-05\tvalid_1's multi_logloss: 6.44202e-05\n",
      "[158]\ttraining's multi_logloss: 1.5705e-05\tvalid_1's multi_logloss: 6.31277e-05\n",
      "[159]\ttraining's multi_logloss: 1.56165e-05\tvalid_1's multi_logloss: 6.19549e-05\n",
      "[160]\ttraining's multi_logloss: 1.55301e-05\tvalid_1's multi_logloss: 6.30459e-05\n",
      "[161]\ttraining's multi_logloss: 1.54461e-05\tvalid_1's multi_logloss: 6.18284e-05\n",
      "[162]\ttraining's multi_logloss: 1.53657e-05\tvalid_1's multi_logloss: 6.07229e-05\n",
      "[163]\ttraining's multi_logloss: 1.52871e-05\tvalid_1's multi_logloss: 6.20426e-05\n",
      "[164]\ttraining's multi_logloss: 1.52113e-05\tvalid_1's multi_logloss: 6.08962e-05\n",
      "[165]\ttraining's multi_logloss: 1.51359e-05\tvalid_1's multi_logloss: 5.97463e-05\n",
      "[166]\ttraining's multi_logloss: 1.50618e-05\tvalid_1's multi_logloss: 6.07383e-05\n",
      "[167]\ttraining's multi_logloss: 1.49876e-05\tvalid_1's multi_logloss: 5.96783e-05\n",
      "[168]\ttraining's multi_logloss: 1.49171e-05\tvalid_1's multi_logloss: 5.86063e-05\n",
      "[169]\ttraining's multi_logloss: 1.48484e-05\tvalid_1's multi_logloss: 5.75381e-05\n",
      "[170]\ttraining's multi_logloss: 1.47792e-05\tvalid_1's multi_logloss: 5.84661e-05\n",
      "[171]\ttraining's multi_logloss: 1.47118e-05\tvalid_1's multi_logloss: 5.74866e-05\n",
      "[172]\ttraining's multi_logloss: 1.4646e-05\tvalid_1's multi_logloss: 5.64825e-05\n",
      "[173]\ttraining's multi_logloss: 1.45831e-05\tvalid_1's multi_logloss: 5.73592e-05\n",
      "[174]\ttraining's multi_logloss: 1.45185e-05\tvalid_1's multi_logloss: 5.63274e-05\n",
      "[175]\ttraining's multi_logloss: 1.4457e-05\tvalid_1's multi_logloss: 5.5421e-05\n",
      "[176]\ttraining's multi_logloss: 1.43955e-05\tvalid_1's multi_logloss: 5.44797e-05\n",
      "[177]\ttraining's multi_logloss: 1.43365e-05\tvalid_1's multi_logloss: 5.53024e-05\n",
      "[178]\ttraining's multi_logloss: 1.42774e-05\tvalid_1's multi_logloss: 5.43418e-05\n",
      "[179]\ttraining's multi_logloss: 1.42211e-05\tvalid_1's multi_logloss: 5.35012e-05\n",
      "[180]\ttraining's multi_logloss: 1.41636e-05\tvalid_1's multi_logloss: 5.26175e-05\n",
      "[181]\ttraining's multi_logloss: 1.41082e-05\tvalid_1's multi_logloss: 5.33909e-05\n",
      "[182]\ttraining's multi_logloss: 1.40539e-05\tvalid_1's multi_logloss: 5.24947e-05\n",
      "[183]\ttraining's multi_logloss: 1.40013e-05\tvalid_1's multi_logloss: 5.16637e-05\n",
      "[184]\ttraining's multi_logloss: 1.39484e-05\tvalid_1's multi_logloss: 5.08833e-05\n",
      "[185]\ttraining's multi_logloss: 1.38942e-05\tvalid_1's multi_logloss: 5.00817e-05\n",
      "[186]\ttraining's multi_logloss: 1.38443e-05\tvalid_1's multi_logloss: 4.92735e-05\n",
      "[187]\ttraining's multi_logloss: 1.37955e-05\tvalid_1's multi_logloss: 4.8534e-05\n",
      "[188]\ttraining's multi_logloss: 1.3748e-05\tvalid_1's multi_logloss: 4.78036e-05\n",
      "[189]\ttraining's multi_logloss: 1.37021e-05\tvalid_1's multi_logloss: 4.70604e-05\n",
      "[190]\ttraining's multi_logloss: 1.36585e-05\tvalid_1's multi_logloss: 4.63911e-05\n",
      "[191]\ttraining's multi_logloss: 1.36163e-05\tvalid_1's multi_logloss: 4.57343e-05\n",
      "[192]\ttraining's multi_logloss: 1.35795e-05\tvalid_1's multi_logloss: 4.51288e-05\n",
      "[193]\ttraining's multi_logloss: 1.3544e-05\tvalid_1's multi_logloss: 4.56869e-05\n",
      "[194]\ttraining's multi_logloss: 1.35108e-05\tvalid_1's multi_logloss: 4.51119e-05\n",
      "[195]\ttraining's multi_logloss: 1.34791e-05\tvalid_1's multi_logloss: 4.45441e-05\n",
      "[196]\ttraining's multi_logloss: 1.34495e-05\tvalid_1's multi_logloss: 4.40164e-05\n",
      "[197]\ttraining's multi_logloss: 1.34214e-05\tvalid_1's multi_logloss: 4.3495e-05\n",
      "[198]\ttraining's multi_logloss: 1.33952e-05\tvalid_1's multi_logloss: 4.30101e-05\n",
      "[199]\ttraining's multi_logloss: 1.33699e-05\tvalid_1's multi_logloss: 4.25262e-05\n",
      "[200]\ttraining's multi_logloss: 1.3347e-05\tvalid_1's multi_logloss: 4.20845e-05\n",
      "[201]\ttraining's multi_logloss: 1.33249e-05\tvalid_1's multi_logloss: 4.1643e-05\n",
      "[202]\ttraining's multi_logloss: 1.33049e-05\tvalid_1's multi_logloss: 4.12401e-05\n",
      "[203]\ttraining's multi_logloss: 1.32875e-05\tvalid_1's multi_logloss: 4.08675e-05\n",
      "[204]\ttraining's multi_logloss: 1.32713e-05\tvalid_1's multi_logloss: 4.12315e-05\n",
      "[205]\ttraining's multi_logloss: 1.32572e-05\tvalid_1's multi_logloss: 4.15754e-05\n",
      "[206]\ttraining's multi_logloss: 1.32449e-05\tvalid_1's multi_logloss: 4.18999e-05\n",
      "[207]\ttraining's multi_logloss: 1.32342e-05\tvalid_1's multi_logloss: 4.2206e-05\n",
      "[208]\ttraining's multi_logloss: 1.3229e-05\tvalid_1's multi_logloss: 4.19908e-05\n",
      "[209]\ttraining's multi_logloss: 1.32198e-05\tvalid_1's multi_logloss: 4.22757e-05\n",
      "[210]\ttraining's multi_logloss: 1.32153e-05\tvalid_1's multi_logloss: 4.20765e-05\n",
      "[211]\ttraining's multi_logloss: 1.32153e-05\tvalid_1's multi_logloss: 4.20765e-05\n",
      "[212]\ttraining's multi_logloss: 1.32153e-05\tvalid_1's multi_logloss: 4.20765e-05\n",
      "[213]\ttraining's multi_logloss: 1.32153e-05\tvalid_1's multi_logloss: 4.20765e-05\n",
      "[214]\ttraining's multi_logloss: 1.32153e-05\tvalid_1's multi_logloss: 4.20765e-05\n",
      "[215]\ttraining's multi_logloss: 1.32153e-05\tvalid_1's multi_logloss: 4.20765e-05\n",
      "[216]\ttraining's multi_logloss: 1.32153e-05\tvalid_1's multi_logloss: 4.20765e-05\n",
      "[217]\ttraining's multi_logloss: 1.32153e-05\tvalid_1's multi_logloss: 4.20765e-05\n",
      "[218]\ttraining's multi_logloss: 1.32153e-05\tvalid_1's multi_logloss: 4.20765e-05\n",
      "[219]\ttraining's multi_logloss: 1.32153e-05\tvalid_1's multi_logloss: 4.20765e-05\n",
      "[220]\ttraining's multi_logloss: 1.32153e-05\tvalid_1's multi_logloss: 4.20765e-05\n",
      "[221]\ttraining's multi_logloss: 1.32153e-05\tvalid_1's multi_logloss: 4.20765e-05\n",
      "[222]\ttraining's multi_logloss: 1.32153e-05\tvalid_1's multi_logloss: 4.20765e-05\n",
      "[223]\ttraining's multi_logloss: 1.32153e-05\tvalid_1's multi_logloss: 4.20765e-05\n",
      "[224]\ttraining's multi_logloss: 1.32153e-05\tvalid_1's multi_logloss: 4.20765e-05\n",
      "[225]\ttraining's multi_logloss: 1.32153e-05\tvalid_1's multi_logloss: 4.20765e-05\n",
      "[226]\ttraining's multi_logloss: 1.32153e-05\tvalid_1's multi_logloss: 4.20765e-05\n",
      "[227]\ttraining's multi_logloss: 1.32153e-05\tvalid_1's multi_logloss: 4.20765e-05\n",
      "[228]\ttraining's multi_logloss: 1.32153e-05\tvalid_1's multi_logloss: 4.20765e-05\n",
      "[229]\ttraining's multi_logloss: 1.32153e-05\tvalid_1's multi_logloss: 4.20765e-05\n",
      "[230]\ttraining's multi_logloss: 1.32153e-05\tvalid_1's multi_logloss: 4.20765e-05\n",
      "[231]\ttraining's multi_logloss: 1.32153e-05\tvalid_1's multi_logloss: 4.20765e-05\n",
      "[232]\ttraining's multi_logloss: 1.32153e-05\tvalid_1's multi_logloss: 4.20765e-05\n",
      "[233]\ttraining's multi_logloss: 1.32153e-05\tvalid_1's multi_logloss: 4.20765e-05\n",
      "[234]\ttraining's multi_logloss: 1.32153e-05\tvalid_1's multi_logloss: 4.20765e-05\n",
      "[235]\ttraining's multi_logloss: 1.32153e-05\tvalid_1's multi_logloss: 4.20765e-05\n",
      "[236]\ttraining's multi_logloss: 1.32153e-05\tvalid_1's multi_logloss: 4.20765e-05\n",
      "[237]\ttraining's multi_logloss: 1.32153e-05\tvalid_1's multi_logloss: 4.20765e-05\n",
      "[238]\ttraining's multi_logloss: 1.32153e-05\tvalid_1's multi_logloss: 4.20765e-05\n",
      "[239]\ttraining's multi_logloss: 1.32153e-05\tvalid_1's multi_logloss: 4.20765e-05\n",
      "[240]\ttraining's multi_logloss: 1.32153e-05\tvalid_1's multi_logloss: 4.20765e-05\n",
      "[241]\ttraining's multi_logloss: 1.32153e-05\tvalid_1's multi_logloss: 4.20765e-05\n",
      "[242]\ttraining's multi_logloss: 1.32153e-05\tvalid_1's multi_logloss: 4.20765e-05\n",
      "[243]\ttraining's multi_logloss: 1.32153e-05\tvalid_1's multi_logloss: 4.20765e-05\n",
      "[244]\ttraining's multi_logloss: 1.32153e-05\tvalid_1's multi_logloss: 4.20765e-05\n",
      "[245]\ttraining's multi_logloss: 1.32153e-05\tvalid_1's multi_logloss: 4.20765e-05\n",
      "[246]\ttraining's multi_logloss: 1.32153e-05\tvalid_1's multi_logloss: 4.20765e-05\n",
      "[247]\ttraining's multi_logloss: 1.32153e-05\tvalid_1's multi_logloss: 4.20765e-05\n",
      "[248]\ttraining's multi_logloss: 1.32153e-05\tvalid_1's multi_logloss: 4.20765e-05\n",
      "[249]\ttraining's multi_logloss: 1.32153e-05\tvalid_1's multi_logloss: 4.20765e-05\n",
      "[250]\ttraining's multi_logloss: 1.32153e-05\tvalid_1's multi_logloss: 4.20765e-05\n",
      "[251]\ttraining's multi_logloss: 1.32153e-05\tvalid_1's multi_logloss: 4.20765e-05\n",
      "[252]\ttraining's multi_logloss: 1.32153e-05\tvalid_1's multi_logloss: 4.20765e-05\n",
      "[253]\ttraining's multi_logloss: 1.32153e-05\tvalid_1's multi_logloss: 4.20765e-05\n",
      "[254]\ttraining's multi_logloss: 1.32153e-05\tvalid_1's multi_logloss: 4.20765e-05\n",
      "[255]\ttraining's multi_logloss: 1.32153e-05\tvalid_1's multi_logloss: 4.20765e-05\n",
      "[256]\ttraining's multi_logloss: 1.32153e-05\tvalid_1's multi_logloss: 4.20765e-05\n",
      "[257]\ttraining's multi_logloss: 1.32153e-05\tvalid_1's multi_logloss: 4.20765e-05\n",
      "[258]\ttraining's multi_logloss: 1.32153e-05\tvalid_1's multi_logloss: 4.20765e-05\n"
     ]
    },
    {
     "data": {
      "text/html": [
       "<style>#sk-container-id-4 {color: black;}#sk-container-id-4 pre{padding: 0;}#sk-container-id-4 div.sk-toggleable {background-color: white;}#sk-container-id-4 label.sk-toggleable__label {cursor: pointer;display: block;width: 100%;margin-bottom: 0;padding: 0.3em;box-sizing: border-box;text-align: center;}#sk-container-id-4 label.sk-toggleable__label-arrow:before {content: \"▸\";float: left;margin-right: 0.25em;color: #696969;}#sk-container-id-4 label.sk-toggleable__label-arrow:hover:before {color: black;}#sk-container-id-4 div.sk-estimator:hover label.sk-toggleable__label-arrow:before {color: black;}#sk-container-id-4 div.sk-toggleable__content {max-height: 0;max-width: 0;overflow: hidden;text-align: left;background-color: #f0f8ff;}#sk-container-id-4 div.sk-toggleable__content pre {margin: 0.2em;color: black;border-radius: 0.25em;background-color: #f0f8ff;}#sk-container-id-4 input.sk-toggleable__control:checked~div.sk-toggleable__content {max-height: 200px;max-width: 100%;overflow: auto;}#sk-container-id-4 input.sk-toggleable__control:checked~label.sk-toggleable__label-arrow:before {content: \"▾\";}#sk-container-id-4 div.sk-estimator input.sk-toggleable__control:checked~label.sk-toggleable__label {background-color: #d4ebff;}#sk-container-id-4 div.sk-label input.sk-toggleable__control:checked~label.sk-toggleable__label {background-color: #d4ebff;}#sk-container-id-4 input.sk-hidden--visually {border: 0;clip: rect(1px 1px 1px 1px);clip: rect(1px, 1px, 1px, 1px);height: 1px;margin: -1px;overflow: hidden;padding: 0;position: absolute;width: 1px;}#sk-container-id-4 div.sk-estimator {font-family: monospace;background-color: #f0f8ff;border: 1px dotted black;border-radius: 0.25em;box-sizing: border-box;margin-bottom: 0.5em;}#sk-container-id-4 div.sk-estimator:hover {background-color: #d4ebff;}#sk-container-id-4 div.sk-parallel-item::after {content: \"\";width: 100%;border-bottom: 1px solid gray;flex-grow: 1;}#sk-container-id-4 div.sk-label:hover label.sk-toggleable__label {background-color: #d4ebff;}#sk-container-id-4 div.sk-serial::before {content: \"\";position: absolute;border-left: 1px solid gray;box-sizing: border-box;top: 0;bottom: 0;left: 50%;z-index: 0;}#sk-container-id-4 div.sk-serial {display: flex;flex-direction: column;align-items: center;background-color: white;padding-right: 0.2em;padding-left: 0.2em;position: relative;}#sk-container-id-4 div.sk-item {position: relative;z-index: 1;}#sk-container-id-4 div.sk-parallel {display: flex;align-items: stretch;justify-content: center;background-color: white;position: relative;}#sk-container-id-4 div.sk-item::before, #sk-container-id-4 div.sk-parallel-item::before {content: \"\";position: absolute;border-left: 1px solid gray;box-sizing: border-box;top: 0;bottom: 0;left: 50%;z-index: -1;}#sk-container-id-4 div.sk-parallel-item {display: flex;flex-direction: column;z-index: 1;position: relative;background-color: white;}#sk-container-id-4 div.sk-parallel-item:first-child::after {align-self: flex-end;width: 50%;}#sk-container-id-4 div.sk-parallel-item:last-child::after {align-self: flex-start;width: 50%;}#sk-container-id-4 div.sk-parallel-item:only-child::after {width: 0;}#sk-container-id-4 div.sk-dashed-wrapped {border: 1px dashed gray;margin: 0 0.4em 0.5em 0.4em;box-sizing: border-box;padding-bottom: 0.4em;background-color: white;}#sk-container-id-4 div.sk-label label {font-family: monospace;font-weight: bold;display: inline-block;line-height: 1.2em;}#sk-container-id-4 div.sk-label-container {text-align: center;}#sk-container-id-4 div.sk-container {/* jupyter's `normalize.less` sets `[hidden] { display: none; }` but bootstrap.min.css set `[hidden] { display: none !important; }` so we also need the `!important` here to be able to override the default hidden behavior on the sphinx rendered scikit-learn.org. See: https://github.com/scikit-learn/scikit-learn/issues/21755 */display: inline-block !important;position: relative;}#sk-container-id-4 div.sk-text-repr-fallback {display: none;}</style><div id=\"sk-container-id-4\" class=\"sk-top-container\"><div class=\"sk-text-repr-fallback\"><pre>LGBMClassifier(n_estimators=400)</pre><b>In a Jupyter environment, please rerun this cell to show the HTML representation or trust the notebook. <br />On GitHub, the HTML representation is unable to render, please try loading this page with nbviewer.org.</b></div><div class=\"sk-container\" hidden><div class=\"sk-item\"><div class=\"sk-estimator sk-toggleable\"><input class=\"sk-toggleable__control sk-hidden--visually\" id=\"sk-estimator-id-4\" type=\"checkbox\" checked><label for=\"sk-estimator-id-4\" class=\"sk-toggleable__label sk-toggleable__label-arrow\">LGBMClassifier</label><div class=\"sk-toggleable__content\"><pre>LGBMClassifier(n_estimators=400)</pre></div></div></div></div></div>"
      ],
      "text/plain": [
       "LGBMClassifier(n_estimators=400)"
      ]
     },
     "execution_count": 57,
     "metadata": {},
     "output_type": "execute_result"
    }
   ],
   "source": [
    "evals = [(X_tr,y_tr),(X_val,y_val)]\n",
    "lgbm.fit(X_tr,y_tr,eval_set=evals,eval_metric='logloss',early_stopping_rounds=55,verbose=True)"
   ]
  },
  {
   "cell_type": "markdown",
   "metadata": {
    "id": "Sr33RpR2_3UN"
   },
   "source": [
    "### 4-5 `plot_importance()` 를 이용하여 feature 중요도를 시각화하세요. (8점)"
   ]
  },
  {
   "cell_type": "code",
   "execution_count": 58,
   "metadata": {
    "ExecuteTime": {
     "end_time": "2023-09-08T02:27:21.741335Z",
     "start_time": "2023-09-08T02:27:21.395335Z"
    },
    "id": "F1k7q9xE_5MN"
   },
   "outputs": [
    {
     "data": {
      "text/plain": [
       "<Axes: title={'center': 'Feature importance'}, xlabel='Feature importance', ylabel='Features'>"
      ]
     },
     "execution_count": 58,
     "metadata": {},
     "output_type": "execute_result"
    },
    {
     "data": {
      "image/png": "[encoded data removed]",
      "text/plain": [
       "<Figure size 1000x1200 with 1 Axes>"
      ]
     },
     "metadata": {},
     "output_type": "display_data"
    }
   ],
   "source": [
    "from lightgbm import plot_importance\n",
    "import matplotlib.pyplot as plt\n",
    "%matplotlib inline\n",
    "fig,ax = plt.subplots(figsize=(10,12))\n",
    "plot_importance(lgbm,ax)"
   ]
  },
  {
   "cell_type": "markdown",
   "metadata": {
    "id": "z4NJTnO0AnJc"
   },
   "source": [
    "# 실습5"
   ]
  },
  {
   "cell_type": "markdown",
   "metadata": {
    "id": "MFZ_ZJTPAq0V"
   },
   "source": [
    "### 앙상블 학습"
   ]
  },
  {
   "cell_type": "markdown",
   "metadata": {
    "id": "HOkbqHSoAsXP"
   },
   "source": [
    "보팅(Voting) 방식: 같은 데이터셋에 대해 서로 다른 여러 개의 분류기의 예측값을 결합하여 최종 예측값을 결정하는 앙상블 방법"
   ]
  },
  {
   "cell_type": "markdown",
   "metadata": {
    "id": "WawdoTMkAtwY"
   },
   "source": [
    "다음은 보팅 분류기를 이용한 앙상블 학습에 필요한 라이브러리 및 데이터셋입니다.\n",
    "\n",
    "\n",
    "*   VotingClassifier: 보팅 방식의 앙상블을 구현한 클래스\n",
    "*   LogisticRegrssion: 로지스틱 회귀 클래스\n",
    "*   KNeighborsClassifier: K Nearest Neighbor(KNN) 분류 알고리즘 클래스\n",
    "*   load_breast_cancer: 종양의 크기와 모양에 관한 속성들과 종양의 악성 여부를 레이블로 하는 데이터셋, 위스콘신 유방암 데이터 세트\n",
    "*   train_test_split: 데이터 분할\n",
    "*   accuracy_score: 분류 모델의 정확도\n",
    "\n",
    "\n",
    "\n",
    "\n"
   ]
  },
  {
   "cell_type": "markdown",
   "metadata": {
    "id": "9G2HrrG7AvGx"
   },
   "source": [
    "다음 라이브러리 및 데이터를 로드해주세요."
   ]
  },
  {
   "cell_type": "code",
   "execution_count": 59,
   "metadata": {
    "ExecuteTime": {
     "end_time": "2023-09-08T02:28:01.082742Z",
     "start_time": "2023-09-08T02:28:00.389748Z"
    },
    "id": "A7hfmOeQAo3t"
   },
   "outputs": [],
   "source": [
    "import pandas as pd\n",
    "\n",
    "from sklearn.ensemble import VotingClassifier\n",
    "from sklearn.linear_model import LogisticRegression\n",
    "from sklearn.neighbors import KNeighborsClassifier\n",
    "from sklearn.datasets import load_breast_cancer\n",
    "from sklearn.model_selection import train_test_split\n",
    "from sklearn.metrics import accuracy_score\n",
    "import warnings\n",
    "warnings.filterwarnings('ignore')\n",
    "\n",
    "cancer = load_breast_cancer()\n",
    "\n",
    "cancer_df = pd.DataFrame(cancer.data, columns=cancer.feature_names)"
   ]
  },
  {
   "cell_type": "markdown",
   "metadata": {
    "id": "YRKPu_d5Awhw"
   },
   "source": [
    "Q. 다음 과정에 따라 보팅 분류기를 구현하고 정확도를 측정하세요."
   ]
  },
  {
   "cell_type": "code",
   "execution_count": 68,
   "metadata": {
    "ExecuteTime": {
     "end_time": "2023-09-08T02:38:48.054202Z",
     "start_time": "2023-09-08T02:38:47.965903Z"
    },
    "id": "NlY8ZvvtAyKk"
   },
   "outputs": [
    {
     "name": "stdout",
     "output_type": "stream",
     "text": [
      "정확도: 0.9561\n"
     ]
    }
   ],
   "source": [
    "# 로지스틱 회귀와 KNN 개별 분류기 객체를 생성하여 각각 변수에 저장\n",
    "lgr = LogisticRegression()\n",
    "knn_clf = KNeighborsClassifier(n_neighbors=8)\n",
    "\n",
    "# 위에서 생성한 두 모델을 기반으로하는 소프트 보팅 객체를 생성\n",
    "sv_clf = VotingClassifier(estimators=[('LG',lgr),('KNN',knn_clf)],voting='soft')\n",
    "\n",
    "# 테스트 사이즈를 전체 데이터의 20%로 하여 train, test 데이터 셋을 분류\n",
    "X_train,X_test,y_train,y_test = train_test_split(cancer.data,cancer.target,test_size=0.2,random_state=0)\n",
    "\n",
    "# 보팅 분류기로 학습 후 테스트 데이터 예측 및 정확도 평가\n",
    "# 정확도는 소수점 넷째자리까지 출력\n",
    "sv_clf.fit(X_train,y_train)\n",
    "sv_pred = sv_clf.predict(X_test)\n",
    "print('정확도: {:.4f}'.format(accuracy_score(y_test,sv_pred)))"
   ]
  },
  {
   "cell_type": "markdown",
   "metadata": {
    "id": "hjG0LsZMAzlJ"
   },
   "source": [
    "### 랜덤 포레스트\n",
    "\n",
    "다음 코드를 실행해 주세요."
   ]
  },
  {
   "cell_type": "code",
   "execution_count": 73,
   "metadata": {
    "ExecuteTime": {
     "end_time": "2023-09-08T02:53:18.513310Z",
     "start_time": "2023-09-08T02:53:18.498044Z"
    },
    "id": "-E3eJdVLA04a"
   },
   "outputs": [],
   "source": [
    "from sklearn.ensemble import RandomForestClassifier"
   ]
  },
  {
   "cell_type": "markdown",
   "metadata": {
    "id": "AhvqG6NsA4o3"
   },
   "source": [
    "Q. 보팅 분류기를 구현할 때 만든 X_train, X_test, y_train, y_test을 이용하여 랜덤포레스트를 구현하고 정확도를 측정하세요."
   ]
  },
  {
   "cell_type": "code",
   "execution_count": 76,
   "metadata": {
    "ExecuteTime": {
     "end_time": "2023-09-08T02:54:28.794960Z",
     "start_time": "2023-09-08T02:54:28.684016Z"
    },
    "id": "AKo7lX6wA44y"
   },
   "outputs": [
    {
     "data": {
      "text/plain": [
       "0.9722222222222222"
      ]
     },
     "execution_count": 76,
     "metadata": {},
     "output_type": "execute_result"
    }
   ],
   "source": [
    "# 랜덤 포레스트 객체를 rf_clf 변수로 저장\n",
    "# 이때 max_depth = 16, n_estimators = 50, random_state = 124로 지정\n",
    "rf_clf = RandomForestClassifier(max_depth=16,n_estimators=50,random_state=124)\n",
    "\n",
    "# rf_clf를 이용하여 랜덤 포레스트 학습 및 예측 성능을 평가\n",
    "rf_clf.fit(X_train,y_train)\n",
    "rf_pred = rf_clf.predict(X_test)\n",
    "\n",
    "# 정확도를 accuracy변수에 저장\n",
    "accuracy = accuracy_score(y_test,rf_pred)\n",
    "accuracy"
   ]
  },
  {
   "cell_type": "markdown",
   "metadata": {
    "id": "6y56IlKJA6t-"
   },
   "source": [
    "### GBM\n",
    "\n",
    "다음 코드를 실행해 주세요."
   ]
  },
  {
   "cell_type": "code",
   "execution_count": 77,
   "metadata": {
    "ExecuteTime": {
     "end_time": "2023-09-08T02:54:32.323995Z",
     "start_time": "2023-09-08T02:54:32.308413Z"
    },
    "id": "BmSMhT3IA7Dp"
   },
   "outputs": [],
   "source": [
    "from sklearn.ensemble import GradientBoostingClassifier\n",
    "import time\n",
    "start_time = time.time()"
   ]
  },
  {
   "cell_type": "markdown",
   "metadata": {
    "id": "W4_j62_nA9Q4"
   },
   "source": [
    "Q. GBM를 구현하고 GBM 모델의 정확도와 수행 시간을 출력하여 예측 성능을 나타내세요."
   ]
  },
  {
   "cell_type": "code",
   "execution_count": 78,
   "metadata": {
    "ExecuteTime": {
     "end_time": "2023-09-08T02:57:40.340181Z",
     "start_time": "2023-09-08T02:57:39.700892Z"
    },
    "id": "K82xkGQPA7r-"
   },
   "outputs": [
    {
     "name": "stdout",
     "output_type": "stream",
     "text": [
      "예측 정확도:1.00000\n",
      "수행 시간:0.62367초\n"
     ]
    }
   ],
   "source": [
    "start_time = time.time()\n",
    "gbm = GradientBoostingClassifier(random_state=124)\n",
    "gbm.fit(X_train,y_train)\n",
    "gbm_pred = gbm.predict(X_test)\n",
    "print('예측 정확도:{:.5f}'.format(accuracy_score(y_test,gbm_pred)))\n",
    "print('수행 시간:{:.5f}초'.format(time.time()-start_time))"
   ]
  },
  {
   "cell_type": "markdown",
   "metadata": {
    "id": "uqFSmXE1A-39"
   },
   "source": [
    "### XGB\n",
    "\n",
    "다음 코드를 실행해 주세요."
   ]
  },
  {
   "cell_type": "code",
   "execution_count": 86,
   "metadata": {
    "ExecuteTime": {
     "end_time": "2023-09-08T03:03:28.026987Z",
     "start_time": "2023-09-08T03:03:28.010787Z"
    },
    "id": "RqKzgPwrA_N0"
   },
   "outputs": [],
   "source": [
    "import xgboost as xgb"
   ]
  },
  {
   "cell_type": "markdown",
   "metadata": {
    "id": "QsCmLscGBB_b"
   },
   "source": [
    "Q1. 보팅 분류기를 구현할 때 만든 X_train, y_train을 다시 90%는 학습용, 10%는 검증용 데이터로 분리하세요.(random_state = 156)"
   ]
  },
  {
   "cell_type": "code",
   "execution_count": 87,
   "metadata": {
    "ExecuteTime": {
     "end_time": "2023-09-08T03:03:28.878873Z",
     "start_time": "2023-09-08T03:03:28.854731Z"
    },
    "id": "aUx-eZH0BBnI"
   },
   "outputs": [],
   "source": [
    "X_tr,X_val,y_tr,y_val = train_test_split(X_train,y_train,test_size=0.1,random_state=156)"
   ]
  },
  {
   "cell_type": "markdown",
   "metadata": {
    "id": "Z83UlI-EBFP5"
   },
   "source": [
    "Q2. Q1문제에서 분리한 데이터로 XGBoost만의 전용 데이터 객체인 학습, 검증, 테스트용 Dmatrix를 생성하세요."
   ]
  },
  {
   "cell_type": "code",
   "execution_count": 89,
   "metadata": {
    "ExecuteTime": {
     "end_time": "2023-09-08T03:06:29.960430Z",
     "start_time": "2023-09-08T03:06:29.936420Z"
    },
    "id": "6QbcifAoBBjG",
    "scrolled": true
   },
   "outputs": [],
   "source": [
    "dtrain = xgb.DMatrix(data=X_train,label=y_train)\n",
    "dtest = xgb.DMatrix(data=X_test,label=y_test)"
   ]
  },
  {
   "cell_type": "markdown",
   "metadata": {
    "id": "vmC5oWcQBG-7"
   },
   "source": [
    "### LightGBM\n",
    "\n",
    "현재 LightGBM의 버전과 책과의 버전이 달라 에러가 발생합니다.\n",
    "\n",
    "아래의 코드를 실행해 lightGBM의 버전이 3.2.2가 아니라면\n",
    "\n",
    "LightGBM의 버전을 3.3.2로 다운그레이드 하고 런타임을 재시작해주세요"
   ]
  },
  {
   "cell_type": "code",
   "execution_count": 90,
   "metadata": {
    "ExecuteTime": {
     "end_time": "2023-09-08T03:06:41.808792Z",
     "start_time": "2023-09-08T03:06:41.800568Z"
    },
    "id": "cvt8O_fpBBgQ"
   },
   "outputs": [
    {
     "name": "stdout",
     "output_type": "stream",
     "text": [
      "3.3.2\n"
     ]
    }
   ],
   "source": [
    "import lightgbm\n",
    "\n",
    "print(lightgbm.__version__)"
   ]
  },
  {
   "cell_type": "code",
   "execution_count": 35,
   "metadata": {
    "ExecuteTime": {
     "end_time": "2023-09-07T14:26:11.130554Z",
     "start_time": "2023-09-07T14:26:08.412160Z"
    },
    "id": "XCyh4nQ1BBdr"
   },
   "outputs": [
    {
     "name": "stdout",
     "output_type": "stream",
     "text": [
      "Collecting lightgbm==3.3.2\n",
      "  Downloading lightgbm-3.3.2-py3-none-win_amd64.whl (1.0 MB)\n",
      "     ---------------------------------------- 0.0/1.0 MB ? eta -:--:--\n",
      "     - -------------------------------------- 0.0/1.0 MB 640.0 kB/s eta 0:00:02\n",
      "     ----------- ---------------------------- 0.3/1.0 MB 3.1 MB/s eta 0:00:01\n",
      "     -------------------------------------- - 1.0/1.0 MB 7.7 MB/s eta 0:00:01\n",
      "     ---------------------------------------- 1.0/1.0 MB 6.4 MB/s eta 0:00:00\n",
      "Requirement already satisfied: wheel in c:\\users\\songkyu\\anaconda3\\envs\\python39_da\\lib\\site-packages (from lightgbm==3.3.2) (0.38.4)\n",
      "Requirement already satisfied: numpy in c:\\users\\songkyu\\anaconda3\\envs\\python39_da\\lib\\site-packages (from lightgbm==3.3.2) (1.24.3)\n",
      "Requirement already satisfied: scipy in c:\\users\\songkyu\\anaconda3\\envs\\python39_da\\lib\\site-packages (from lightgbm==3.3.2) (1.11.1)\n",
      "Requirement already satisfied: scikit-learn!=0.22.0 in c:\\users\\songkyu\\anaconda3\\envs\\python39_da\\lib\\site-packages (from lightgbm==3.3.2) (1.3.0)\n",
      "Requirement already satisfied: joblib>=1.1.1 in c:\\users\\songkyu\\anaconda3\\envs\\python39_da\\lib\\site-packages (from scikit-learn!=0.22.0->lightgbm==3.3.2) (1.2.0)\n",
      "Requirement already satisfied: threadpoolctl>=2.0.0 in c:\\users\\songkyu\\anaconda3\\envs\\python39_da\\lib\\site-packages (from scikit-learn!=0.22.0->lightgbm==3.3.2) (2.2.0)\n",
      "Installing collected packages: lightgbm\n",
      "  Attempting uninstall: lightgbm\n",
      "    Found existing installation: lightgbm 3.3.5\n",
      "    Uninstalling lightgbm-3.3.5:\n",
      "      Successfully uninstalled lightgbm-3.3.5\n",
      "Successfully installed lightgbm-3.3.2\n",
      "Note: you may need to restart the kernel to use updated packages.\n"
     ]
    }
   ],
   "source": [
    "pip install lightgbm==3.3.2"
   ]
  },
  {
   "cell_type": "markdown",
   "metadata": {
    "id": "_E9JQlMIBKXt"
   },
   "source": [
    "다음 코드를 실행해 주세요."
   ]
  },
  {
   "cell_type": "code",
   "execution_count": 91,
   "metadata": {
    "ExecuteTime": {
     "end_time": "2023-09-08T03:06:46.830422Z",
     "start_time": "2023-09-08T03:06:46.814790Z"
    },
    "id": "2t_5owakBBbd"
   },
   "outputs": [],
   "source": [
    "from lightgbm import LGBMClassifier #import"
   ]
  },
  {
   "cell_type": "markdown",
   "metadata": {
    "id": "ssQCpSqQBMkg"
   },
   "source": [
    "Q1. lgbm_wrapper라는 변수에 LGBClassifier 객체를 할당해주세요 (이때 부스팅 반복수를 200, 학습률을 0.03으로 설정해주세요)"
   ]
  },
  {
   "cell_type": "code",
   "execution_count": 92,
   "metadata": {
    "ExecuteTime": {
     "end_time": "2023-09-08T03:07:09.978585Z",
     "start_time": "2023-09-08T03:07:09.966743Z"
    },
    "id": "4fxgD-TSBBY7"
   },
   "outputs": [],
   "source": [
    "lgbm_wrapper = LGBMClassifier(n_estimators=200,learning_rate=0.03)"
   ]
  },
  {
   "cell_type": "markdown",
   "metadata": {
    "id": "p_l6Y2IABPJ1"
   },
   "source": [
    "Q2. XGB의 Q1문제에서 분리한 데이터를 이용해 LightGBM을 학습시키고, 예측해 주세요 (early_stopping_rounds=50, eval_metric=logloss로 하고 반복수를 보이게 해주세요)\n",
    "\n",
    "또한 왜 해당 반복수에서 작업 수행이 멈추었는지 설명해 주세요"
   ]
  },
  {
   "cell_type": "code",
   "execution_count": 93,
   "metadata": {
    "ExecuteTime": {
     "end_time": "2023-09-08T03:11:58.894777Z",
     "start_time": "2023-09-08T03:11:58.679035Z"
    },
    "id": "oMeWxEnPBBWt",
    "scrolled": false
   },
   "outputs": [
    {
     "name": "stdout",
     "output_type": "stream",
     "text": [
      "[1]\ttraining's multi_logloss: 1.03893\tvalid_1's multi_logloss: 1.00053\n",
      "[2]\ttraining's multi_logloss: 0.997323\tvalid_1's multi_logloss: 0.963377\n",
      "[3]\ttraining's multi_logloss: 0.958127\tvalid_1's multi_logloss: 0.931752\n",
      "[4]\ttraining's multi_logloss: 0.92021\tvalid_1's multi_logloss: 0.903336\n",
      "[5]\ttraining's multi_logloss: 0.884822\tvalid_1's multi_logloss: 0.872777\n",
      "[6]\ttraining's multi_logloss: 0.85134\tvalid_1's multi_logloss: 0.846335\n",
      "[7]\ttraining's multi_logloss: 0.819629\tvalid_1's multi_logloss: 0.816262\n",
      "[8]\ttraining's multi_logloss: 0.789263\tvalid_1's multi_logloss: 0.790378\n",
      "[9]\ttraining's multi_logloss: 0.760812\tvalid_1's multi_logloss: 0.764434\n",
      "[10]\ttraining's multi_logloss: 0.733623\tvalid_1's multi_logloss: 0.740277\n",
      "[11]\ttraining's multi_logloss: 0.707279\tvalid_1's multi_logloss: 0.714976\n",
      "[12]\ttraining's multi_logloss: 0.682227\tvalid_1's multi_logloss: 0.690006\n",
      "[13]\ttraining's multi_logloss: 0.658581\tvalid_1's multi_logloss: 0.670402\n",
      "[14]\ttraining's multi_logloss: 0.635812\tvalid_1's multi_logloss: 0.648547\n",
      "[15]\ttraining's multi_logloss: 0.614124\tvalid_1's multi_logloss: 0.626971\n",
      "[16]\ttraining's multi_logloss: 0.593421\tvalid_1's multi_logloss: 0.607248\n",
      "[17]\ttraining's multi_logloss: 0.573676\tvalid_1's multi_logloss: 0.592147\n",
      "[18]\ttraining's multi_logloss: 0.554735\tvalid_1's multi_logloss: 0.573079\n",
      "[19]\ttraining's multi_logloss: 0.536642\tvalid_1's multi_logloss: 0.556287\n",
      "[20]\ttraining's multi_logloss: 0.519354\tvalid_1's multi_logloss: 0.539727\n",
      "[21]\ttraining's multi_logloss: 0.502879\tvalid_1's multi_logloss: 0.526587\n",
      "[22]\ttraining's multi_logloss: 0.486745\tvalid_1's multi_logloss: 0.511304\n",
      "[23]\ttraining's multi_logloss: 0.471297\tvalid_1's multi_logloss: 0.495718\n",
      "[24]\ttraining's multi_logloss: 0.456433\tvalid_1's multi_logloss: 0.483967\n",
      "[25]\ttraining's multi_logloss: 0.442197\tvalid_1's multi_logloss: 0.470444\n",
      "[26]\ttraining's multi_logloss: 0.428865\tvalid_1's multi_logloss: 0.459707\n",
      "[27]\ttraining's multi_logloss: 0.41572\tvalid_1's multi_logloss: 0.447923\n",
      "[28]\ttraining's multi_logloss: 0.403094\tvalid_1's multi_logloss: 0.435369\n",
      "[29]\ttraining's multi_logloss: 0.390879\tvalid_1's multi_logloss: 0.425994\n",
      "[30]\ttraining's multi_logloss: 0.379192\tvalid_1's multi_logloss: 0.413799\n",
      "[31]\ttraining's multi_logloss: 0.367847\tvalid_1's multi_logloss: 0.404626\n",
      "[32]\ttraining's multi_logloss: 0.356324\tvalid_1's multi_logloss: 0.394673\n",
      "[33]\ttraining's multi_logloss: 0.345567\tvalid_1's multi_logloss: 0.384024\n",
      "[34]\ttraining's multi_logloss: 0.335025\tvalid_1's multi_logloss: 0.375017\n",
      "[35]\ttraining's multi_logloss: 0.325382\tvalid_1's multi_logloss: 0.364769\n",
      "[36]\ttraining's multi_logloss: 0.315565\tvalid_1's multi_logloss: 0.356944\n",
      "[37]\ttraining's multi_logloss: 0.306293\tvalid_1's multi_logloss: 0.348246\n",
      "[38]\ttraining's multi_logloss: 0.296885\tvalid_1's multi_logloss: 0.339528\n",
      "[39]\ttraining's multi_logloss: 0.288013\tvalid_1's multi_logloss: 0.333455\n",
      "[40]\ttraining's multi_logloss: 0.27951\tvalid_1's multi_logloss: 0.323293\n",
      "[41]\ttraining's multi_logloss: 0.271308\tvalid_1's multi_logloss: 0.316909\n",
      "[42]\ttraining's multi_logloss: 0.263604\tvalid_1's multi_logloss: 0.309572\n",
      "[43]\ttraining's multi_logloss: 0.25571\tvalid_1's multi_logloss: 0.302022\n",
      "[44]\ttraining's multi_logloss: 0.248197\tvalid_1's multi_logloss: 0.296678\n",
      "[45]\ttraining's multi_logloss: 0.240931\tvalid_1's multi_logloss: 0.289624\n",
      "[46]\ttraining's multi_logloss: 0.233641\tvalid_1's multi_logloss: 0.28277\n",
      "[47]\ttraining's multi_logloss: 0.226858\tvalid_1's multi_logloss: 0.276315\n",
      "[48]\ttraining's multi_logloss: 0.220199\tvalid_1's multi_logloss: 0.271794\n",
      "[49]\ttraining's multi_logloss: 0.213835\tvalid_1's multi_logloss: 0.265658\n",
      "[50]\ttraining's multi_logloss: 0.207455\tvalid_1's multi_logloss: 0.261163\n",
      "[51]\ttraining's multi_logloss: 0.20141\tvalid_1's multi_logloss: 0.255596\n",
      "[52]\ttraining's multi_logloss: 0.195482\tvalid_1's multi_logloss: 0.251529\n",
      "[53]\ttraining's multi_logloss: 0.189865\tvalid_1's multi_logloss: 0.246315\n",
      "[54]\ttraining's multi_logloss: 0.184349\tvalid_1's multi_logloss: 0.242585\n",
      "[55]\ttraining's multi_logloss: 0.178972\tvalid_1's multi_logloss: 0.23807\n",
      "[56]\ttraining's multi_logloss: 0.173911\tvalid_1's multi_logloss: 0.233332\n",
      "[57]\ttraining's multi_logloss: 0.168939\tvalid_1's multi_logloss: 0.230444\n",
      "[58]\ttraining's multi_logloss: 0.164189\tvalid_1's multi_logloss: 0.22559\n",
      "[59]\ttraining's multi_logloss: 0.159542\tvalid_1's multi_logloss: 0.22295\n",
      "[60]\ttraining's multi_logloss: 0.155124\tvalid_1's multi_logloss: 0.21876\n",
      "[61]\ttraining's multi_logloss: 0.150715\tvalid_1's multi_logloss: 0.214787\n",
      "[62]\ttraining's multi_logloss: 0.14662\tvalid_1's multi_logloss: 0.211268\n",
      "[63]\ttraining's multi_logloss: 0.142558\tvalid_1's multi_logloss: 0.209134\n",
      "[64]\ttraining's multi_logloss: 0.138763\tvalid_1's multi_logloss: 0.205744\n",
      "[65]\ttraining's multi_logloss: 0.134852\tvalid_1's multi_logloss: 0.20046\n",
      "[66]\ttraining's multi_logloss: 0.131168\tvalid_1's multi_logloss: 0.198828\n",
      "[67]\ttraining's multi_logloss: 0.127497\tvalid_1's multi_logloss: 0.194182\n",
      "[68]\ttraining's multi_logloss: 0.12415\tvalid_1's multi_logloss: 0.191713\n",
      "[69]\ttraining's multi_logloss: 0.120598\tvalid_1's multi_logloss: 0.189703\n",
      "[70]\ttraining's multi_logloss: 0.117306\tvalid_1's multi_logloss: 0.188357\n",
      "[71]\ttraining's multi_logloss: 0.113963\tvalid_1's multi_logloss: 0.185298\n",
      "[72]\ttraining's multi_logloss: 0.110934\tvalid_1's multi_logloss: 0.184103\n",
      "[73]\ttraining's multi_logloss: 0.107917\tvalid_1's multi_logloss: 0.180122\n",
      "[74]\ttraining's multi_logloss: 0.104869\tvalid_1's multi_logloss: 0.178086\n",
      "[75]\ttraining's multi_logloss: 0.102115\tvalid_1's multi_logloss: 0.177117\n",
      "[76]\ttraining's multi_logloss: 0.0993733\tvalid_1's multi_logloss: 0.173388\n",
      "[77]\ttraining's multi_logloss: 0.0963772\tvalid_1's multi_logloss: 0.171964\n",
      "[78]\ttraining's multi_logloss: 0.0935438\tvalid_1's multi_logloss: 0.17027\n",
      "[79]\ttraining's multi_logloss: 0.09075\tvalid_1's multi_logloss: 0.169144\n",
      "[80]\ttraining's multi_logloss: 0.0881301\tvalid_1's multi_logloss: 0.167221\n",
      "[81]\ttraining's multi_logloss: 0.0853991\tvalid_1's multi_logloss: 0.164514\n",
      "[82]\ttraining's multi_logloss: 0.0830492\tvalid_1's multi_logloss: 0.162855\n",
      "[83]\ttraining's multi_logloss: 0.0805775\tvalid_1's multi_logloss: 0.160365\n",
      "[84]\ttraining's multi_logloss: 0.0782761\tvalid_1's multi_logloss: 0.159438\n",
      "[85]\ttraining's multi_logloss: 0.0761583\tvalid_1's multi_logloss: 0.157955\n",
      "[86]\ttraining's multi_logloss: 0.074003\tvalid_1's multi_logloss: 0.155698\n",
      "[87]\ttraining's multi_logloss: 0.0720299\tvalid_1's multi_logloss: 0.155371\n",
      "[88]\ttraining's multi_logloss: 0.0701554\tvalid_1's multi_logloss: 0.154018\n",
      "[89]\ttraining's multi_logloss: 0.0681493\tvalid_1's multi_logloss: 0.153333\n",
      "[90]\ttraining's multi_logloss: 0.0663164\tvalid_1's multi_logloss: 0.151538\n",
      "[91]\ttraining's multi_logloss: 0.064433\tvalid_1's multi_logloss: 0.150949\n",
      "[92]\ttraining's multi_logloss: 0.0627871\tvalid_1's multi_logloss: 0.149884\n",
      "[93]\ttraining's multi_logloss: 0.0610841\tvalid_1's multi_logloss: 0.149299\n",
      "[94]\ttraining's multi_logloss: 0.059378\tvalid_1's multi_logloss: 0.148829\n",
      "[95]\ttraining's multi_logloss: 0.057864\tvalid_1's multi_logloss: 0.147869\n",
      "[96]\ttraining's multi_logloss: 0.056225\tvalid_1's multi_logloss: 0.147316\n",
      "[97]\ttraining's multi_logloss: 0.0547234\tvalid_1's multi_logloss: 0.145616\n",
      "[98]\ttraining's multi_logloss: 0.0532816\tvalid_1's multi_logloss: 0.144673\n",
      "[99]\ttraining's multi_logloss: 0.051925\tvalid_1's multi_logloss: 0.14471\n",
      "[100]\ttraining's multi_logloss: 0.0506088\tvalid_1's multi_logloss: 0.142977\n",
      "[101]\ttraining's multi_logloss: 0.0491546\tvalid_1's multi_logloss: 0.14115\n",
      "[102]\ttraining's multi_logloss: 0.0479017\tvalid_1's multi_logloss: 0.139229\n",
      "[103]\ttraining's multi_logloss: 0.0467116\tvalid_1's multi_logloss: 0.13848\n",
      "[104]\ttraining's multi_logloss: 0.0454754\tvalid_1's multi_logloss: 0.138563\n",
      "[105]\ttraining's multi_logloss: 0.0442508\tvalid_1's multi_logloss: 0.13629\n",
      "[106]\ttraining's multi_logloss: 0.043112\tvalid_1's multi_logloss: 0.135535\n",
      "[107]\ttraining's multi_logloss: 0.0420974\tvalid_1's multi_logloss: 0.135501\n",
      "[108]\ttraining's multi_logloss: 0.0410227\tvalid_1's multi_logloss: 0.133085\n",
      "[109]\ttraining's multi_logloss: 0.0399633\tvalid_1's multi_logloss: 0.133052\n",
      "[110]\ttraining's multi_logloss: 0.0389342\tvalid_1's multi_logloss: 0.132226\n",
      "[111]\ttraining's multi_logloss: 0.0379271\tvalid_1's multi_logloss: 0.131528\n",
      "[112]\ttraining's multi_logloss: 0.0369494\tvalid_1's multi_logloss: 0.13007\n",
      "[113]\ttraining's multi_logloss: 0.0360385\tvalid_1's multi_logloss: 0.128648\n",
      "[114]\ttraining's multi_logloss: 0.0350673\tvalid_1's multi_logloss: 0.127179\n",
      "[115]\ttraining's multi_logloss: 0.0342043\tvalid_1's multi_logloss: 0.127021\n",
      "[116]\ttraining's multi_logloss: 0.0333349\tvalid_1's multi_logloss: 0.126418\n",
      "[117]\ttraining's multi_logloss: 0.0324901\tvalid_1's multi_logloss: 0.12507\n",
      "[118]\ttraining's multi_logloss: 0.0316683\tvalid_1's multi_logloss: 0.124071\n",
      "[119]\ttraining's multi_logloss: 0.0308594\tvalid_1's multi_logloss: 0.121915\n",
      "[120]\ttraining's multi_logloss: 0.0300688\tvalid_1's multi_logloss: 0.122073\n",
      "[121]\ttraining's multi_logloss: 0.029367\tvalid_1's multi_logloss: 0.120787\n",
      "[122]\ttraining's multi_logloss: 0.0286291\tvalid_1's multi_logloss: 0.120289\n",
      "[123]\ttraining's multi_logloss: 0.0278754\tvalid_1's multi_logloss: 0.119022\n",
      "[124]\ttraining's multi_logloss: 0.0271642\tvalid_1's multi_logloss: 0.117763\n",
      "[125]\ttraining's multi_logloss: 0.0264642\tvalid_1's multi_logloss: 0.118154\n",
      "[126]\ttraining's multi_logloss: 0.0257795\tvalid_1's multi_logloss: 0.117617\n",
      "[127]\ttraining's multi_logloss: 0.0251924\tvalid_1's multi_logloss: 0.116791\n",
      "[128]\ttraining's multi_logloss: 0.0245912\tvalid_1's multi_logloss: 0.116651\n",
      "[129]\ttraining's multi_logloss: 0.0239483\tvalid_1's multi_logloss: 0.115817\n",
      "[130]\ttraining's multi_logloss: 0.0234004\tvalid_1's multi_logloss: 0.115921\n",
      "[131]\ttraining's multi_logloss: 0.0227678\tvalid_1's multi_logloss: 0.115543\n",
      "[132]\ttraining's multi_logloss: 0.0221776\tvalid_1's multi_logloss: 0.114839\n",
      "[133]\ttraining's multi_logloss: 0.0215817\tvalid_1's multi_logloss: 0.114467\n",
      "[134]\ttraining's multi_logloss: 0.0210181\tvalid_1's multi_logloss: 0.114744\n",
      "[135]\ttraining's multi_logloss: 0.0204938\tvalid_1's multi_logloss: 0.115329\n",
      "[136]\ttraining's multi_logloss: 0.0199482\tvalid_1's multi_logloss: 0.115013\n",
      "[137]\ttraining's multi_logloss: 0.0194314\tvalid_1's multi_logloss: 0.113818\n",
      "[138]\ttraining's multi_logloss: 0.0190064\tvalid_1's multi_logloss: 0.113163\n",
      "[139]\ttraining's multi_logloss: 0.0185324\tvalid_1's multi_logloss: 0.113008\n",
      "[140]\ttraining's multi_logloss: 0.018047\tvalid_1's multi_logloss: 0.111584\n",
      "[141]\ttraining's multi_logloss: 0.0175998\tvalid_1's multi_logloss: 0.111465\n",
      "[142]\ttraining's multi_logloss: 0.0171153\tvalid_1's multi_logloss: 0.110403\n",
      "[143]\ttraining's multi_logloss: 0.0166763\tvalid_1's multi_logloss: 0.110123\n",
      "[144]\ttraining's multi_logloss: 0.0162608\tvalid_1's multi_logloss: 0.110047\n",
      "[145]\ttraining's multi_logloss: 0.0158686\tvalid_1's multi_logloss: 0.109105\n",
      "[146]\ttraining's multi_logloss: 0.0154947\tvalid_1's multi_logloss: 0.108464\n",
      "[147]\ttraining's multi_logloss: 0.0150997\tvalid_1's multi_logloss: 0.107896\n",
      "[148]\ttraining's multi_logloss: 0.0146864\tvalid_1's multi_logloss: 0.107383\n",
      "[149]\ttraining's multi_logloss: 0.0143255\tvalid_1's multi_logloss: 0.107126\n",
      "[150]\ttraining's multi_logloss: 0.0139763\tvalid_1's multi_logloss: 0.106797\n",
      "[151]\ttraining's multi_logloss: 0.0136443\tvalid_1's multi_logloss: 0.105899\n",
      "[152]\ttraining's multi_logloss: 0.0133325\tvalid_1's multi_logloss: 0.10608\n",
      "[153]\ttraining's multi_logloss: 0.0130071\tvalid_1's multi_logloss: 0.1056\n",
      "[154]\ttraining's multi_logloss: 0.0126773\tvalid_1's multi_logloss: 0.104628\n",
      "[155]\ttraining's multi_logloss: 0.0122915\tvalid_1's multi_logloss: 0.10379\n",
      "[156]\ttraining's multi_logloss: 0.0120126\tvalid_1's multi_logloss: 0.103194\n",
      "[157]\ttraining's multi_logloss: 0.0117109\tvalid_1's multi_logloss: 0.103714\n",
      "[158]\ttraining's multi_logloss: 0.011463\tvalid_1's multi_logloss: 0.103218\n",
      "[159]\ttraining's multi_logloss: 0.0111864\tvalid_1's multi_logloss: 0.103665\n",
      "[160]\ttraining's multi_logloss: 0.0108884\tvalid_1's multi_logloss: 0.102022\n",
      "[161]\ttraining's multi_logloss: 0.0105747\tvalid_1's multi_logloss: 0.100882\n",
      "[162]\ttraining's multi_logloss: 0.0103364\tvalid_1's multi_logloss: 0.100345\n",
      "[163]\ttraining's multi_logloss: 0.0100594\tvalid_1's multi_logloss: 0.100506\n",
      "[164]\ttraining's multi_logloss: 0.00982013\tvalid_1's multi_logloss: 0.100309\n",
      "[165]\ttraining's multi_logloss: 0.00953164\tvalid_1's multi_logloss: 0.099298\n",
      "[166]\ttraining's multi_logloss: 0.00924104\tvalid_1's multi_logloss: 0.0965405\n",
      "[167]\ttraining's multi_logloss: 0.00903434\tvalid_1's multi_logloss: 0.0968644\n",
      "[168]\ttraining's multi_logloss: 0.00881855\tvalid_1's multi_logloss: 0.0957066\n",
      "[169]\ttraining's multi_logloss: 0.00862228\tvalid_1's multi_logloss: 0.0955692\n",
      "[170]\ttraining's multi_logloss: 0.00841561\tvalid_1's multi_logloss: 0.0960427\n",
      "[171]\ttraining's multi_logloss: 0.00819312\tvalid_1's multi_logloss: 0.0939712\n",
      "[172]\ttraining's multi_logloss: 0.00797482\tvalid_1's multi_logloss: 0.0936689\n",
      "[173]\ttraining's multi_logloss: 0.0077679\tvalid_1's multi_logloss: 0.0927679\n",
      "[174]\ttraining's multi_logloss: 0.00756368\tvalid_1's multi_logloss: 0.0918646\n",
      "[175]\ttraining's multi_logloss: 0.00739357\tvalid_1's multi_logloss: 0.092695\n",
      "[176]\ttraining's multi_logloss: 0.00722613\tvalid_1's multi_logloss: 0.0915561\n",
      "[177]\ttraining's multi_logloss: 0.0070347\tvalid_1's multi_logloss: 0.0913249\n",
      "[178]\ttraining's multi_logloss: 0.00685235\tvalid_1's multi_logloss: 0.0899295\n",
      "[179]\ttraining's multi_logloss: 0.00666902\tvalid_1's multi_logloss: 0.0897318\n",
      "[180]\ttraining's multi_logloss: 0.00650969\tvalid_1's multi_logloss: 0.0896227\n",
      "[181]\ttraining's multi_logloss: 0.00634333\tvalid_1's multi_logloss: 0.0889525\n",
      "[182]\ttraining's multi_logloss: 0.00616073\tvalid_1's multi_logloss: 0.0882326\n",
      "[183]\ttraining's multi_logloss: 0.00602203\tvalid_1's multi_logloss: 0.0871478\n",
      "[184]\ttraining's multi_logloss: 0.00586431\tvalid_1's multi_logloss: 0.0870104\n",
      "[185]\ttraining's multi_logloss: 0.0057159\tvalid_1's multi_logloss: 0.0867534\n",
      "[186]\ttraining's multi_logloss: 0.00557358\tvalid_1's multi_logloss: 0.0863375\n",
      "[187]\ttraining's multi_logloss: 0.00541636\tvalid_1's multi_logloss: 0.0856392\n",
      "[188]\ttraining's multi_logloss: 0.00528226\tvalid_1's multi_logloss: 0.0861843\n",
      "[189]\ttraining's multi_logloss: 0.00514006\tvalid_1's multi_logloss: 0.0844231\n",
      "[190]\ttraining's multi_logloss: 0.00500471\tvalid_1's multi_logloss: 0.083635\n",
      "[191]\ttraining's multi_logloss: 0.00487516\tvalid_1's multi_logloss: 0.0829563\n",
      "[192]\ttraining's multi_logloss: 0.00474478\tvalid_1's multi_logloss: 0.0829055\n",
      "[193]\ttraining's multi_logloss: 0.00462166\tvalid_1's multi_logloss: 0.0826892\n",
      "[194]\ttraining's multi_logloss: 0.00450272\tvalid_1's multi_logloss: 0.0820355\n",
      "[195]\ttraining's multi_logloss: 0.00439287\tvalid_1's multi_logloss: 0.0824474\n",
      "[196]\ttraining's multi_logloss: 0.00426968\tvalid_1's multi_logloss: 0.0816239\n",
      "[197]\ttraining's multi_logloss: 0.00415795\tvalid_1's multi_logloss: 0.0806138\n",
      "[198]\ttraining's multi_logloss: 0.00405629\tvalid_1's multi_logloss: 0.0800091\n",
      "[199]\ttraining's multi_logloss: 0.00395931\tvalid_1's multi_logloss: 0.079807\n",
      "[200]\ttraining's multi_logloss: 0.0038682\tvalid_1's multi_logloss: 0.0804528\n",
      "accuracy: 0.9722\n",
      "\n",
      "LGBM 분류기가 부스팅을 진행하며 손실함수를 계산하는데,\n",
      "early_stopping_rounds(=n)를 설정하면 n번 동안 손실값(오차값)의 감소에 변화가 없을 시,\n",
      "더 이상 모델을 최적화할 수 없다고 판단하여 학습을 멈추고 결과를 반환함으로써 \n",
      "학습 수행 시간을 단축한다.\n",
      "\n"
     ]
    }
   ],
   "source": [
    "evals = [(X_tr,y_tr),(X_val,y_val)]\n",
    "lgbm_wrapper.fit(X_tr,y_tr,early_stopping_rounds=50,eval_set=evals,eval_metric='logloss',verbose=True)\n",
    "lgbm_pred = lgbm_wrapper.predict(X_test)\n",
    "print('accuracy: {:.4f}'.format(accuracy_score(y_test,lgbm_pred)))\n",
    "print('''\n",
    "LGBM 분류기가 부스팅을 진행하며 손실함수를 계산하는데,\n",
    "early_stopping_rounds(=n)를 설정하면 n번 동안 손실값(오차값)의 감소에 변화가 없을 시,\n",
    "더 이상 모델을 최적화할 수 없다고 판단하여 학습을 멈추고 결과를 반환함으로써 \n",
    "학습 수행 시간을 단축한다.\n",
    "''')"
   ]
  },
  {
   "cell_type": "markdown",
   "metadata": {
    "id": "lbcN69w9BTve"
   },
   "source": [
    "Q3. plot_importance()를 이용해 feature의 중요도를 시각화해주세요"
   ]
  },
  {
   "cell_type": "code",
   "execution_count": 94,
   "metadata": {
    "ExecuteTime": {
     "end_time": "2023-09-08T03:12:30.923546Z",
     "start_time": "2023-09-08T03:12:30.502067Z"
    },
    "id": "te3RfzpfBUIR",
    "scrolled": false
   },
   "outputs": [
    {
     "data": {
      "text/plain": [
       "<Axes: title={'center': 'Feature importance'}, xlabel='Feature importance', ylabel='Features'>"
      ]
     },
     "execution_count": 94,
     "metadata": {},
     "output_type": "execute_result"
    },
    {
     "data": {
      "image/png": "[encoded data removed]",
      "text/plain": [
       "<Figure size 1000x1200 with 1 Axes>"
      ]
     },
     "metadata": {},
     "output_type": "display_data"
    }
   ],
   "source": [
    "from lightgbm import plot_importance\n",
    "import matplotlib.pyplot as plt\n",
    "%matplotlib inline\n",
    "fig,ax = plt.subplots(figsize=(10,12))\n",
    "plot_importance(lgbm_wrapper,ax)"
   ]
  }
 ],
 "metadata": {
  "colab": {
   "authorship_tag": "ABX9TyMi1mp7+2ynppHAfIM7LzPV",
   "provenance": []
  },
  "kernelspec": {
   "display_name": "Python 3 (ipykernel)",
   "language": "python",
   "name": "python3"
  },
  "language_info": {
   "codemirror_mode": {
    "name": "ipython",
    "version": 3
   },
   "file_extension": ".py",
   "mimetype": "text/x-python",
   "name": "python",
   "nbconvert_exporter": "python",
   "pygments_lexer": "ipython3",
   "version": "3.9.17"
  }
 },
 "nbformat": 4,
 "nbformat_minor": 1
}
