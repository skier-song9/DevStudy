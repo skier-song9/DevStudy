{
 "cells": [
  {
   "cell_type": "code",
   "execution_count": 55,
   "id": "676ffa3a",
   "metadata": {
    "ExecuteTime": {
     "end_time": "2024-01-30T15:06:23.819857Z",
     "start_time": "2024-01-30T15:06:23.799063Z"
    }
   },
   "outputs": [],
   "source": [
    "import itertools\n",
    "import random\n",
    "import selenium\n",
    "from selenium.webdriver import ActionChains\n",
    "import pyperclip\n",
    "from selenium import webdriver\n",
    "from selenium.webdriver.chrome.options import Options\n",
    "from selenium.webdriver.common.by import By\n",
    "from selenium.webdriver.common.keys import Keys\n",
    "from selenium.common.exceptions import TimeoutException,NoSuchElementException\n",
    "from selenium.webdriver.support.ui import WebDriverWait\n",
    "from selenium.webdriver.support import expected_conditions as EC\n",
    "import os,time\n",
    "from newspaper import Article\n",
    "import pandas as pd\n",
    "import polars as pl\n",
    "\n",
    "def extract_text(url):\n",
    "    '''\n",
    "    description : The function to extract only main text from article\n",
    "    :param url: url of the article\n",
    "    :return: text of article\n",
    "    '''\n",
    "    try:\n",
    "        article = Article(url)\n",
    "        article.download()\n",
    "        article.parse()\n",
    "        text = article.text or np.nan #text가 없는 경우 'N/A'로 출력\n",
    "    except Exception as e:\n",
    "        return 'np.nan'\n",
    "    return text\n"
   ]
  },
  {
   "cell_type": "code",
   "execution_count": 56,
   "id": "2b92af66",
   "metadata": {
    "ExecuteTime": {
     "end_time": "2024-01-30T15:06:26.946340Z",
     "start_time": "2024-01-30T15:06:26.938023Z"
    }
   },
   "outputs": [],
   "source": [
    "pd.set_option('display.max_column',None)\n",
    "pd.set_option('display.max_row',None)"
   ]
  },
  {
   "cell_type": "code",
   "execution_count": 23,
   "id": "90bc7dfe",
   "metadata": {
    "ExecuteTime": {
     "end_time": "2024-01-30T06:22:50.475761Z",
     "start_time": "2024-01-30T06:22:50.450235Z"
    }
   },
   "outputs": [
    {
     "data": {
      "text/html": [
       "<div>\n",
       "<style scoped>\n",
       "    .dataframe tbody tr th:only-of-type {\n",
       "        vertical-align: middle;\n",
       "    }\n",
       "\n",
       "    .dataframe tbody tr th {\n",
       "        vertical-align: top;\n",
       "    }\n",
       "\n",
       "    .dataframe thead th {\n",
       "        text-align: right;\n",
       "    }\n",
       "</style>\n",
       "<table border=\"1\" class=\"dataframe\">\n",
       "  <thead>\n",
       "    <tr style=\"text-align: right;\">\n",
       "      <th></th>\n",
       "      <th>title</th>\n",
       "      <th>date</th>\n",
       "      <th>url</th>\n",
       "    </tr>\n",
       "  </thead>\n",
       "  <tbody>\n",
       "    <tr>\n",
       "      <th>0</th>\n",
       "      <td>Early images of Netflix.com show how far the s...</td>\n",
       "      <td>2018-04-14</td>\n",
       "      <td>https://qz.com/1248806/early-images-of-netflix...</td>\n",
       "    </tr>\n",
       "    <tr>\n",
       "      <th>1</th>\n",
       "      <td>100 Best Netflix Series To Watch Right Now (Ja...</td>\n",
       "      <td>2018-04-06</td>\n",
       "      <td>https://editorial.rottentomatoes.com/guide/bes...</td>\n",
       "    </tr>\n",
       "    <tr>\n",
       "      <th>2</th>\n",
       "      <td>Netflix Used Big Data To Identify The Movies T...</td>\n",
       "      <td>2018-04-18</td>\n",
       "      <td>https://www.forbes.com/sites/bernardmarr/2018/...</td>\n",
       "    </tr>\n",
       "    <tr>\n",
       "      <th>3</th>\n",
       "      <td>You can see what Netflix knows about you, but ...</td>\n",
       "      <td>2018-04-17</td>\n",
       "      <td>https://www.usatoday.com/story/tech/columnist/...</td>\n",
       "    </tr>\n",
       "    <tr>\n",
       "      <th>4</th>\n",
       "      <td>Why Netflix and Amazon are experimenting with ...</td>\n",
       "      <td>2018-04-27</td>\n",
       "      <td>https://digiday.com/future-of-tv/the-streaming...</td>\n",
       "    </tr>\n",
       "  </tbody>\n",
       "</table>\n",
       "</div>"
      ],
      "text/plain": [
       "                                               title       date  \\\n",
       "0  Early images of Netflix.com show how far the s... 2018-04-14   \n",
       "1  100 Best Netflix Series To Watch Right Now (Ja... 2018-04-06   \n",
       "2  Netflix Used Big Data To Identify The Movies T... 2018-04-18   \n",
       "3  You can see what Netflix knows about you, but ... 2018-04-17   \n",
       "4  Why Netflix and Amazon are experimenting with ... 2018-04-27   \n",
       "\n",
       "                                                 url  \n",
       "0  https://qz.com/1248806/early-images-of-netflix...  \n",
       "1  https://editorial.rottentomatoes.com/guide/bes...  \n",
       "2  https://www.forbes.com/sites/bernardmarr/2018/...  \n",
       "3  https://www.usatoday.com/story/tech/columnist/...  \n",
       "4  https://digiday.com/future-of-tv/the-streaming...  "
      ]
     },
     "execution_count": 23,
     "metadata": {},
     "output_type": "execute_result"
    }
   ],
   "source": [
    "urls_path = '../../data/scraping/'\n",
    "test = pd.read_csv(urls_path+'articles_urls_0128_2018_4.csv',index_col=0)\n",
    "test['date'] = pd.to_datetime(test['date'])\n",
    "test.head(5)"
   ]
  },
  {
   "cell_type": "code",
   "execution_count": 27,
   "id": "49639279",
   "metadata": {
    "ExecuteTime": {
     "end_time": "2024-01-30T06:28:08.973406Z",
     "start_time": "2024-01-30T06:28:08.944749Z"
    }
   },
   "outputs": [
    {
     "data": {
      "text/html": [
       "<div>\n",
       "<style scoped>\n",
       "    .dataframe tbody tr th:only-of-type {\n",
       "        vertical-align: middle;\n",
       "    }\n",
       "\n",
       "    .dataframe tbody tr th {\n",
       "        vertical-align: top;\n",
       "    }\n",
       "\n",
       "    .dataframe thead th {\n",
       "        text-align: right;\n",
       "    }\n",
       "</style>\n",
       "<table border=\"1\" class=\"dataframe\">\n",
       "  <thead>\n",
       "    <tr style=\"text-align: right;\">\n",
       "      <th></th>\n",
       "      <th>title</th>\n",
       "      <th>date</th>\n",
       "      <th>url</th>\n",
       "    </tr>\n",
       "  </thead>\n",
       "  <tbody>\n",
       "    <tr>\n",
       "      <th>0</th>\n",
       "      <td>Netflix, Amazon and Google Play have 21:9 movi...</td>\n",
       "      <td>2019-04-08</td>\n",
       "      <td>https://www.gsmarena.com/netflix_amazon_and_go...</td>\n",
       "    </tr>\n",
       "    <tr>\n",
       "      <th>1</th>\n",
       "      <td>The Obamas and Netflix Just Revealed the Shows...</td>\n",
       "      <td>2019-04-30</td>\n",
       "      <td>https://www.nytimes.com/2019/04/30/business/me...</td>\n",
       "    </tr>\n",
       "    <tr>\n",
       "      <th>2</th>\n",
       "      <td>Will Netflix eventually monetize its user data?</td>\n",
       "      <td>2019-04-22</td>\n",
       "      <td>https://theconversation.com/will-netflix-event...</td>\n",
       "    </tr>\n",
       "    <tr>\n",
       "      <th>3</th>\n",
       "      <td>After a long winning streak, Netflix's vulnera...</td>\n",
       "      <td>2019-04-18</td>\n",
       "      <td>https://digiday.com/future-of-tv/netflix-is-ma...</td>\n",
       "    </tr>\n",
       "    <tr>\n",
       "      <th>4</th>\n",
       "      <td>Netflix: Barack and Michelle Obama announce de...</td>\n",
       "      <td>2019-05-01</td>\n",
       "      <td>https://www.bbc.com/news/entertainment-arts-48...</td>\n",
       "    </tr>\n",
       "  </tbody>\n",
       "</table>\n",
       "</div>"
      ],
      "text/plain": [
       "                                               title       date  \\\n",
       "0  Netflix, Amazon and Google Play have 21:9 movi... 2019-04-08   \n",
       "1  The Obamas and Netflix Just Revealed the Shows... 2019-04-30   \n",
       "2    Will Netflix eventually monetize its user data? 2019-04-22   \n",
       "3  After a long winning streak, Netflix's vulnera... 2019-04-18   \n",
       "4  Netflix: Barack and Michelle Obama announce de... 2019-05-01   \n",
       "\n",
       "                                                 url  \n",
       "0  https://www.gsmarena.com/netflix_amazon_and_go...  \n",
       "1  https://www.nytimes.com/2019/04/30/business/me...  \n",
       "2  https://theconversation.com/will-netflix-event...  \n",
       "3  https://digiday.com/future-of-tv/netflix-is-ma...  \n",
       "4  https://www.bbc.com/news/entertainment-arts-48...  "
      ]
     },
     "execution_count": 27,
     "metadata": {},
     "output_type": "execute_result"
    }
   ],
   "source": [
    "urls_path = '../../data/scraping/'\n",
    "y,m = 2019,4\n",
    "test = pd.read_csv(urls_path+f'articles_urls_0128_{y}_{m}.csv',index_col=0)\n",
    "test['date'] = pd.to_datetime(test['date'])\n",
    "test.head(5)"
   ]
  },
  {
   "cell_type": "code",
   "execution_count": 25,
   "id": "338dd66a",
   "metadata": {
    "ExecuteTime": {
     "end_time": "2024-01-30T06:26:26.690042Z",
     "start_time": "2024-01-30T06:26:26.669346Z"
    }
   },
   "outputs": [
    {
     "data": {
      "text/html": [
       "<div>\n",
       "<style scoped>\n",
       "    .dataframe tbody tr th:only-of-type {\n",
       "        vertical-align: middle;\n",
       "    }\n",
       "\n",
       "    .dataframe tbody tr th {\n",
       "        vertical-align: top;\n",
       "    }\n",
       "\n",
       "    .dataframe thead th {\n",
       "        text-align: right;\n",
       "    }\n",
       "</style>\n",
       "<table border=\"1\" class=\"dataframe\">\n",
       "  <thead>\n",
       "    <tr style=\"text-align: right;\">\n",
       "      <th></th>\n",
       "      <th>title</th>\n",
       "      <th>date</th>\n",
       "      <th>url</th>\n",
       "    </tr>\n",
       "  </thead>\n",
       "  <tbody>\n",
       "  </tbody>\n",
       "</table>\n",
       "</div>"
      ],
      "text/plain": [
       "Empty DataFrame\n",
       "Columns: [title, date, url]\n",
       "Index: []"
      ]
     },
     "execution_count": 25,
     "metadata": {},
     "output_type": "execute_result"
    }
   ],
   "source": [
    "articles_df"
   ]
  },
  {
   "cell_type": "code",
   "execution_count": 31,
   "id": "0e32d545",
   "metadata": {
    "ExecuteTime": {
     "end_time": "2024-01-30T06:34:21.958454Z",
     "start_time": "2024-01-30T06:34:21.772505Z"
    }
   },
   "outputs": [
    {
     "name": "stdout",
     "output_type": "stream",
     "text": [
      "에러난 파일: 2019_7.csv\n"
     ]
    }
   ],
   "source": [
    "years = list(range(2018,2024))\n",
    "months = [1,4,7,10]\n",
    "articles_df = pd.read_csv(urls_path+'articles_urls_0128_2018_1.csv',index_col=0)\n",
    "articles_df['date'] = pd.to_datetime(articles_df['date'])\n",
    "for year in years:\n",
    "    for month in months:\n",
    "        if year == 2018 and month == 1 : continue;\n",
    "        try: \n",
    "            right_join = pd.read_csv(urls_path+f'articles_urls_0128_{year}_{month}.csv',index_col=0)\n",
    "            right_join['date'] = pd.to_datetime(right_join['date'])\n",
    "            articles_df = pd.concat([articles_df,right_join],axis=0)\n",
    "        except:\n",
    "            print(f\"에러난 파일: {year}_{month}.csv\")"
   ]
  },
  {
   "cell_type": "code",
   "execution_count": 36,
   "id": "ed888ae4",
   "metadata": {
    "ExecuteTime": {
     "end_time": "2024-01-30T06:42:44.381928Z",
     "start_time": "2024-01-30T06:42:44.356343Z"
    }
   },
   "outputs": [
    {
     "data": {
      "text/html": [
       "<div>\n",
       "<style scoped>\n",
       "    .dataframe tbody tr th:only-of-type {\n",
       "        vertical-align: middle;\n",
       "    }\n",
       "\n",
       "    .dataframe tbody tr th {\n",
       "        vertical-align: top;\n",
       "    }\n",
       "\n",
       "    .dataframe thead th {\n",
       "        text-align: right;\n",
       "    }\n",
       "</style>\n",
       "<table border=\"1\" class=\"dataframe\">\n",
       "  <thead>\n",
       "    <tr style=\"text-align: right;\">\n",
       "      <th></th>\n",
       "      <th>title</th>\n",
       "      <th>date</th>\n",
       "      <th>url</th>\n",
       "    </tr>\n",
       "  </thead>\n",
       "  <tbody>\n",
       "    <tr>\n",
       "      <th>0</th>\n",
       "      <td>Netflix's history: From DVD rentals to streami...</td>\n",
       "      <td>2018-01-23</td>\n",
       "      <td>https://www.bbc.co.uk/news/newsbeat-42787047</td>\n",
       "    </tr>\n",
       "    <tr>\n",
       "      <th>1</th>\n",
       "      <td>'Dark' could be Netflix's biggest European hit...</td>\n",
       "      <td>2018-01-05</td>\n",
       "      <td>https://www.screendaily.com/news/dark-could-be...</td>\n",
       "    </tr>\n",
       "    <tr>\n",
       "      <th>2</th>\n",
       "      <td>'Data is everything': Netflix is pouring money...</td>\n",
       "      <td>2018-01-25</td>\n",
       "      <td>https://digiday.com/marketing/data-everything-...</td>\n",
       "    </tr>\n",
       "    <tr>\n",
       "      <th>3</th>\n",
       "      <td>Netflix to Release a Series of 15-Minute Stand...</td>\n",
       "      <td>2018-01-22</td>\n",
       "      <td>https://www.vulture.com/2018/01/netflix-15-min...</td>\n",
       "    </tr>\n",
       "    <tr>\n",
       "      <th>4</th>\n",
       "      <td>'Open House' Is What Happens When Netflix Give...</td>\n",
       "      <td>2018-01-22</td>\n",
       "      <td>https://www.forbes.com/sites/insertcoin/2018/0...</td>\n",
       "    </tr>\n",
       "  </tbody>\n",
       "</table>\n",
       "</div>"
      ],
      "text/plain": [
       "                                               title       date  \\\n",
       "0  Netflix's history: From DVD rentals to streami... 2018-01-23   \n",
       "1  'Dark' could be Netflix's biggest European hit... 2018-01-05   \n",
       "2  'Data is everything': Netflix is pouring money... 2018-01-25   \n",
       "3  Netflix to Release a Series of 15-Minute Stand... 2018-01-22   \n",
       "4  'Open House' Is What Happens When Netflix Give... 2018-01-22   \n",
       "\n",
       "                                                 url  \n",
       "0       https://www.bbc.co.uk/news/newsbeat-42787047  \n",
       "1  https://www.screendaily.com/news/dark-could-be...  \n",
       "2  https://digiday.com/marketing/data-everything-...  \n",
       "3  https://www.vulture.com/2018/01/netflix-15-min...  \n",
       "4  https://www.forbes.com/sites/insertcoin/2018/0...  "
      ]
     },
     "execution_count": 36,
     "metadata": {},
     "output_type": "execute_result"
    }
   ],
   "source": [
    "articles_2019_7 = pd.read_csv(urls_path+'articles_urls_0128_2019_7_1.csv',index_col=0,encoding_errors='ignore')\n",
    "articles_2019_7['date'] = pd.to_datetime(articles_2019_7['date'])\n",
    "articles_df = pd.concat([articles_df, articles_2019_7],axis=0)\n",
    "articles_df.head(5)"
   ]
  },
  {
   "cell_type": "code",
   "execution_count": 39,
   "id": "ebcd9f40",
   "metadata": {
    "ExecuteTime": {
     "end_time": "2024-01-30T06:44:13.728724Z",
     "start_time": "2024-01-30T06:44:13.699546Z"
    }
   },
   "outputs": [
    {
     "data": {
      "text/html": [
       "<div>\n",
       "<style scoped>\n",
       "    .dataframe tbody tr th:only-of-type {\n",
       "        vertical-align: middle;\n",
       "    }\n",
       "\n",
       "    .dataframe tbody tr th {\n",
       "        vertical-align: top;\n",
       "    }\n",
       "\n",
       "    .dataframe thead th {\n",
       "        text-align: right;\n",
       "    }\n",
       "</style>\n",
       "<table border=\"1\" class=\"dataframe\">\n",
       "  <thead>\n",
       "    <tr style=\"text-align: right;\">\n",
       "      <th></th>\n",
       "      <th>title</th>\n",
       "      <th>date</th>\n",
       "      <th>url</th>\n",
       "    </tr>\n",
       "  </thead>\n",
       "  <tbody>\n",
       "    <tr>\n",
       "      <th>0</th>\n",
       "      <td>Netflix and the 'stolen' indies</td>\n",
       "      <td>2018-01-01</td>\n",
       "      <td>https://www.polygon.com/2018/1/1/16829714/netf...</td>\n",
       "    </tr>\n",
       "    <tr>\n",
       "      <th>1</th>\n",
       "      <td>‘The End Of The F***ing World’: Netflix Sets P...</td>\n",
       "      <td>2018-01-01</td>\n",
       "      <td>https://deadline.com/2018/01/the-end-of-the-fi...</td>\n",
       "    </tr>\n",
       "    <tr>\n",
       "      <th>2</th>\n",
       "      <td>What's new on Netflix, Hulu and Amazon in January</td>\n",
       "      <td>2018-01-01</td>\n",
       "      <td>https://abcnews.go.com/Entertainment/netflix-h...</td>\n",
       "    </tr>\n",
       "  </tbody>\n",
       "</table>\n",
       "</div>"
      ],
      "text/plain": [
       "                                               title       date  \\\n",
       "0                    Netflix and the 'stolen' indies 2018-01-01   \n",
       "1  ‘The End Of The F***ing World’: Netflix Sets P... 2018-01-01   \n",
       "2  What's new on Netflix, Hulu and Amazon in January 2018-01-01   \n",
       "\n",
       "                                                 url  \n",
       "0  https://www.polygon.com/2018/1/1/16829714/netf...  \n",
       "1  https://deadline.com/2018/01/the-end-of-the-fi...  \n",
       "2  https://abcnews.go.com/Entertainment/netflix-h...  "
      ]
     },
     "execution_count": 39,
     "metadata": {},
     "output_type": "execute_result"
    }
   ],
   "source": [
    "articles_df_sorted = articles_df.sort_values('date').reset_index().drop(columns='index')\n",
    "articles_df_sorted.head(3)"
   ]
  },
  {
   "cell_type": "code",
   "execution_count": 48,
   "id": "e50ea290",
   "metadata": {
    "ExecuteTime": {
     "end_time": "2024-01-30T14:51:30.668882Z",
     "start_time": "2024-01-30T06:53:24.705809Z"
    },
    "scrolled": false
   },
   "outputs": [],
   "source": [
    "articles_df_sorted['text']=articles_df_sorted['url'].apply(extract_text)"
   ]
  },
  {
   "cell_type": "code",
   "execution_count": 52,
   "id": "c9d3a0f2",
   "metadata": {
    "ExecuteTime": {
     "end_time": "2024-01-30T14:57:30.498326Z",
     "start_time": "2024-01-30T14:57:30.485445Z"
    }
   },
   "outputs": [
    {
     "data": {
      "text/plain": [
       "0"
      ]
     },
     "execution_count": 52,
     "metadata": {},
     "output_type": "execute_result"
    }
   ],
   "source": [
    "articles_df_sorted['text'].isnull().sum()"
   ]
  },
  {
   "cell_type": "code",
   "execution_count": 49,
   "id": "9c2695b6",
   "metadata": {
    "ExecuteTime": {
     "end_time": "2024-01-30T14:51:32.512584Z",
     "start_time": "2024-01-30T14:51:30.671700Z"
    }
   },
   "outputs": [],
   "source": [
    "articles_df_sorted.to_csv('../../data/articles_df_sorted.csv')"
   ]
  },
  {
   "cell_type": "code",
   "execution_count": 50,
   "id": "0ace973d",
   "metadata": {
    "ExecuteTime": {
     "end_time": "2024-01-30T14:55:09.051497Z",
     "start_time": "2024-01-30T14:55:09.033345Z"
    }
   },
   "outputs": [
    {
     "data": {
      "text/html": [
       "<div>\n",
       "<style scoped>\n",
       "    .dataframe tbody tr th:only-of-type {\n",
       "        vertical-align: middle;\n",
       "    }\n",
       "\n",
       "    .dataframe tbody tr th {\n",
       "        vertical-align: top;\n",
       "    }\n",
       "\n",
       "    .dataframe thead th {\n",
       "        text-align: right;\n",
       "    }\n",
       "</style>\n",
       "<table border=\"1\" class=\"dataframe\">\n",
       "  <thead>\n",
       "    <tr style=\"text-align: right;\">\n",
       "      <th></th>\n",
       "      <th>title</th>\n",
       "      <th>date</th>\n",
       "      <th>url</th>\n",
       "      <th>text</th>\n",
       "    </tr>\n",
       "  </thead>\n",
       "  <tbody>\n",
       "    <tr>\n",
       "      <th>0</th>\n",
       "      <td>Netflix and the 'stolen' indies</td>\n",
       "      <td>2018-01-01</td>\n",
       "      <td>https://www.polygon.com/2018/1/1/16829714/netf...</td>\n",
       "      <td>Netflix plans to release 80 original films in ...</td>\n",
       "    </tr>\n",
       "    <tr>\n",
       "      <th>1</th>\n",
       "      <td>‘The End Of The F***ing World’: Netflix Sets P...</td>\n",
       "      <td>2018-01-01</td>\n",
       "      <td>https://deadline.com/2018/01/the-end-of-the-fi...</td>\n",
       "      <td>Netflix has released the official trailer and ...</td>\n",
       "    </tr>\n",
       "    <tr>\n",
       "      <th>2</th>\n",
       "      <td>What's new on Netflix, Hulu and Amazon in January</td>\n",
       "      <td>2018-01-01</td>\n",
       "      <td>https://abcnews.go.com/Entertainment/netflix-h...</td>\n",
       "      <td>\"Love, Actually,\" \"Breakfast at Tiffany's\" and...</td>\n",
       "    </tr>\n",
       "    <tr>\n",
       "      <th>3</th>\n",
       "      <td>Dave Chappelle addresses Louis C.K. allegation...</td>\n",
       "      <td>2018-01-01</td>\n",
       "      <td>https://ew.com/tv/2018/01/01/dave-chappelle-lo...</td>\n",
       "      <td>In his new Netflix special The Bird Revelation...</td>\n",
       "    </tr>\n",
       "    <tr>\n",
       "      <th>4</th>\n",
       "      <td>Netflix surprise drop: 'The End of the ... Wor...</td>\n",
       "      <td>2018-01-01</td>\n",
       "      <td>https://www.usatoday.com/story/life/tv/2018/01...</td>\n",
       "      <td>Lorena Blas\\n\\nUSA TODAY\\n\\nTeenage-angst isn'...</td>\n",
       "    </tr>\n",
       "    <tr>\n",
       "      <th>5</th>\n",
       "      <td>Sweat: Tobi Pearce and Kayla Itsines' $100m 'N...</td>\n",
       "      <td>2018-01-01</td>\n",
       "      <td>https://www.afr.com/technology/tobi-pearce-and...</td>\n",
       "      <td>\"Netflix, Apple Music, Spotify or whatever, yo...</td>\n",
       "    </tr>\n",
       "    <tr>\n",
       "      <th>6</th>\n",
       "      <td>Netflix Announces 'A Series of Unfortunate Eve...</td>\n",
       "      <td>2018-01-02</td>\n",
       "      <td>https://variety.com/2018/tv/news/netflix-annou...</td>\n",
       "      <td>Netflix has announced that the second season o...</td>\n",
       "    </tr>\n",
       "    <tr>\n",
       "      <th>7</th>\n",
       "      <td>‘3%’ is one of Netflix’s biggest shows—but is ...</td>\n",
       "      <td>2018-01-02</td>\n",
       "      <td>https://www.dailydot.com/upstream/3-percent-ne...</td>\n",
       "      <td>Netflix last month released some viewership st...</td>\n",
       "    </tr>\n",
       "    <tr>\n",
       "      <th>8</th>\n",
       "      <td>Netflix to release horror movie called ‘The Op...</td>\n",
       "      <td>2018-01-02</td>\n",
       "      <td>https://www.inman.com/2018/01/02/netflix-to-re...</td>\n",
       "      <td>If you weren’t a skeptic of open houses before...</td>\n",
       "    </tr>\n",
       "    <tr>\n",
       "      <th>9</th>\n",
       "      <td>The Best TV Shows and Movies New to Netflix, A...</td>\n",
       "      <td>2018-01-02</td>\n",
       "      <td>https://www.nytimes.com/2018/01/02/watching/ne...</td>\n",
       "      <td>Watching is The New York Times’s TV and film r...</td>\n",
       "    </tr>\n",
       "  </tbody>\n",
       "</table>\n",
       "</div>"
      ],
      "text/plain": [
       "                                               title       date  \\\n",
       "0                    Netflix and the 'stolen' indies 2018-01-01   \n",
       "1  ‘The End Of The F***ing World’: Netflix Sets P... 2018-01-01   \n",
       "2  What's new on Netflix, Hulu and Amazon in January 2018-01-01   \n",
       "3  Dave Chappelle addresses Louis C.K. allegation... 2018-01-01   \n",
       "4  Netflix surprise drop: 'The End of the ... Wor... 2018-01-01   \n",
       "5  Sweat: Tobi Pearce and Kayla Itsines' $100m 'N... 2018-01-01   \n",
       "6  Netflix Announces 'A Series of Unfortunate Eve... 2018-01-02   \n",
       "7  ‘3%’ is one of Netflix’s biggest shows—but is ... 2018-01-02   \n",
       "8  Netflix to release horror movie called ‘The Op... 2018-01-02   \n",
       "9  The Best TV Shows and Movies New to Netflix, A... 2018-01-02   \n",
       "\n",
       "                                                 url  \\\n",
       "0  https://www.polygon.com/2018/1/1/16829714/netf...   \n",
       "1  https://deadline.com/2018/01/the-end-of-the-fi...   \n",
       "2  https://abcnews.go.com/Entertainment/netflix-h...   \n",
       "3  https://ew.com/tv/2018/01/01/dave-chappelle-lo...   \n",
       "4  https://www.usatoday.com/story/life/tv/2018/01...   \n",
       "5  https://www.afr.com/technology/tobi-pearce-and...   \n",
       "6  https://variety.com/2018/tv/news/netflix-annou...   \n",
       "7  https://www.dailydot.com/upstream/3-percent-ne...   \n",
       "8  https://www.inman.com/2018/01/02/netflix-to-re...   \n",
       "9  https://www.nytimes.com/2018/01/02/watching/ne...   \n",
       "\n",
       "                                                text  \n",
       "0  Netflix plans to release 80 original films in ...  \n",
       "1  Netflix has released the official trailer and ...  \n",
       "2  \"Love, Actually,\" \"Breakfast at Tiffany's\" and...  \n",
       "3  In his new Netflix special The Bird Revelation...  \n",
       "4  Lorena Blas\\n\\nUSA TODAY\\n\\nTeenage-angst isn'...  \n",
       "5  \"Netflix, Apple Music, Spotify or whatever, yo...  \n",
       "6  Netflix has announced that the second season o...  \n",
       "7  Netflix last month released some viewership st...  \n",
       "8  If you weren’t a skeptic of open houses before...  \n",
       "9  Watching is The New York Times’s TV and film r...  "
      ]
     },
     "execution_count": 50,
     "metadata": {},
     "output_type": "execute_result"
    }
   ],
   "source": [
    "articles_df_sorted.head(10)"
   ]
  },
  {
   "cell_type": "code",
   "execution_count": 53,
   "id": "5ecfaac0",
   "metadata": {
    "ExecuteTime": {
     "end_time": "2024-01-30T15:01:27.370631Z",
     "start_time": "2024-01-30T15:01:27.349816Z"
    }
   },
   "outputs": [
    {
     "data": {
      "text/plain": [
       "'https://metro.co.uk/2018/01/14/cable-girls-why-you-should-be-watching-the-fantastically-feminist-1920s-netflix-drama-7206102/'"
      ]
     },
     "execution_count": 53,
     "metadata": {},
     "output_type": "execute_result"
    }
   ],
   "source": [
    "articles_df_sorted.loc[114,'url']"
   ]
  },
  {
   "cell_type": "code",
   "execution_count": 54,
   "id": "aa92a2f8",
   "metadata": {
    "ExecuteTime": {
     "end_time": "2024-01-30T15:01:30.970306Z",
     "start_time": "2024-01-30T15:01:30.950357Z"
    },
    "scrolled": false
   },
   "outputs": [
    {
     "data": {
      "text/plain": [
       "'The second series of Cable Girls is now on Netflix and, for many viewers, it might have passed you by completely.\\n\\nThis Spanish drama is brave and beautiful, delightful and dark and certainly not one to be missed. It follows a group of women as they deal with the challenges of working as operators for a phone company in 1920s Madrid.\\n\\nHere’s why you should be watching Cable Girls (Las Chicas del Cable), whether or not you’ve delved into non-English-language shows previously.\\n\\nThe cast\\n\\nThe cast are all flawless and each bring something incredibly powerful to their respective roles. The actresses Blanca Suárez, Maggie Civantos, Nadia de Santiago, Ana Fernández and Ana Polvorosa are all sublime.\\n\\nThere is phenomenal male support, too, thanks to the likes of Yon González, Martiño Rivas, Nico Romero, Borja Luna and Sergio Mur which brings with it a fantastic blend of terrifying, sexy and adorable male characters just as layered and fascinating as the women.\\n\\nThe feminism\\n\\nAll of the stories are hugely compelling and alarmingly relevant. This is an era where women were daughters, wives and mothers, and nothing else.\\n\\nThey were expected to stay at home and stay quiet.\\n\\nThey needed their husband’s permission to take money out of the bank account.\\n\\nThey couldn’t leave abusive husbands or get away from the influence their fathers had over others in deciding how their lives would go.\\n\\nBut this was also the time when discussions were taking place about women across the world getting the right to vote.\\n\\nIt was the time of suffragettes.\\n\\nIt was the time for women to start fighting to be heard.\\n\\nThere’s more to Blanca Suárez’s Lidia than meets the eye (Picture: Netflix)\\n\\nThe women\\n\\nDespite the odds, there were women who defied the odds, who made the decision to be independent, even if it meant leaving behind family and friends and living with no security.\\n\\nThese women did all that they could to be independent in a world led by men who considered them inferior.\\n\\nAnd in the central group of women we have here we have so many personalities covered.\\n\\nFrom the sweet and naïve one who’s new to big city life, to the feisty outspoken one making it on her own, via the damaged one who only knows how to manipulate, these women might not strike you as likely candidates for a group of friends.\\n\\nHowever, the way they are thrown together and then very quickly stick together is absolutely believable and just makes you all the more invested in their stories.\\n\\nThe drama\\n\\nTheft, deception, romance, manipulation, abuse, solidarity, fear. It’s all there – and that’s just in series one.\\n\\nThe fun\\n\\nOK so there’s a lot of drama but there’s also a lot to smile about. The way the women support and challenge each other, forcing them each to be brave and to face their fears, is a delight to watch.\\n\\nThe fashion\\n\\nThe 1920s Madrid setting brings with it some absolutely gorgeous outfits, from the work attire the cable girls are required to wear, to the dresses that only come out for special occasions.\\n\\nThe cliffhangers\\n\\nUnlike some Netflix shows which you binge watch and then kind of wish you’d taken a bit more time with, Cable Girls is the perfect show to binge on.\\n\\nWith each episode you just get more and more involved in the characters and their plights. So when something doesn’t go to plan for one of them you are so desperately hoping things will turn out OK that you just have to carry on.\\n\\nSo vamonos chicas, it’s time to get watching!\\n\\nMORE : Noomi Rapace explores identity in Netflix original, What Happened To Monday\\n\\nMORE : Farewell to Orphan Black – and all its complicated women\\n\\nMORE : Supergirl’s take on religion in The Faithful moved me in a way I did not see coming – and we need more of it'"
      ]
     },
     "execution_count": 54,
     "metadata": {},
     "output_type": "execute_result"
    }
   ],
   "source": [
    "articles_df_sorted.loc[114,'text']"
   ]
  },
  {
   "cell_type": "code",
   "execution_count": null,
   "id": "6da652d2",
   "metadata": {},
   "outputs": [],
   "source": [
    "articles_df_sorted = articles_df_sorted.drop_duplicate()"
   ]
  },
  {
   "cell_type": "code",
   "execution_count": 58,
   "id": "272e1164",
   "metadata": {
    "ExecuteTime": {
     "end_time": "2024-01-30T15:11:26.947203Z",
     "start_time": "2024-01-30T15:11:25.934875Z"
    }
   },
   "outputs": [],
   "source": [
    "articles = pd.read_csv('../../data/scraping/articles_df_sorted.csv',index_col=0)"
   ]
  },
  {
   "cell_type": "code",
   "execution_count": 59,
   "id": "b77ccaa5",
   "metadata": {
    "ExecuteTime": {
     "end_time": "2024-01-30T15:11:42.967951Z",
     "start_time": "2024-01-30T15:11:42.676175Z"
    }
   },
   "outputs": [
    {
     "data": {
      "text/plain": [
       "(20498, 4)"
      ]
     },
     "execution_count": 59,
     "metadata": {},
     "output_type": "execute_result"
    }
   ],
   "source": [
    "aa = articles.drop_duplicates()\n",
    "aa.shape"
   ]
  },
  {
   "cell_type": "code",
   "execution_count": 63,
   "id": "ca73decf",
   "metadata": {
    "ExecuteTime": {
     "end_time": "2024-01-30T15:13:34.587540Z",
     "start_time": "2024-01-30T15:13:33.620663Z"
    }
   },
   "outputs": [
    {
     "data": {
      "text/plain": [
       "(20498, 5)"
      ]
     },
     "execution_count": 63,
     "metadata": {},
     "output_type": "execute_result"
    }
   ],
   "source": [
    "pd.read_csv('../../data/scraping/articles_df.csv').shape"
   ]
  }
 ],
 "metadata": {
  "kernelspec": {
   "display_name": "Python 3 (ipykernel)",
   "language": "python",
   "name": "python3"
  },
  "language_info": {
   "codemirror_mode": {
    "name": "ipython",
    "version": 3
   },
   "file_extension": ".py",
   "mimetype": "text/x-python",
   "name": "python",
   "nbconvert_exporter": "python",
   "pygments_lexer": "ipython3",
   "version": "3.9.6"
  },
  "toc": {
   "base_numbering": 1,
   "nav_menu": {},
   "number_sections": false,
   "sideBar": true,
   "skip_h1_title": false,
   "title_cell": "Table of Contents",
   "title_sidebar": "Contents",
   "toc_cell": false,
   "toc_position": {},
   "toc_section_display": true,
   "toc_window_display": false
  }
 },
 "nbformat": 4,
 "nbformat_minor": 5
}
