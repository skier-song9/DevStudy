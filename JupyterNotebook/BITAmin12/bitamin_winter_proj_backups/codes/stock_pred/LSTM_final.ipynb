{
 "cells": [
  {
   "cell_type": "markdown",
   "id": "fc80feb9",
   "metadata": {},
   "source": [
    "### Import dataset"
   ]
  },
  {
   "cell_type": "code",
   "execution_count": 1,
   "id": "2059c61b",
   "metadata": {
    "ExecuteTime": {
     "end_time": "2024-02-22T07:21:27.257556Z",
     "start_time": "2024-02-22T07:21:26.316776Z"
    },
    "colab": {
     "base_uri": "https://localhost:8080/",
     "height": 617
    },
    "id": "2059c61b",
    "outputId": "576afb16-4157-4337-f4db-d04264361874"
   },
   "outputs": [],
   "source": [
    "import numpy as np\n",
    "import pandas as pd\n",
    "pd.set_option('display.max_rows', 100)\n",
    "import matplotlib.pyplot as plt"
   ]
  },
  {
   "cell_type": "markdown",
   "id": "zVBHDA4xub-S",
   "metadata": {
    "id": "zVBHDA4xub-S"
   },
   "source": [
    "### Merge dataset"
   ]
  },
  {
   "cell_type": "code",
   "execution_count": 2,
   "id": "jPRldaW5c653",
   "metadata": {
    "ExecuteTime": {
     "end_time": "2024-02-22T07:21:27.288541Z",
     "start_time": "2024-02-22T07:21:27.274825Z"
    },
    "id": "jPRldaW5c653"
   },
   "outputs": [],
   "source": [
    "class PrepareData():\n",
    "    def __init__(self,stock_fp,news_fp):\n",
    "        self.stock_filepath = stock_fp\n",
    "        self.news_filepath = news_fp\n",
    "        self.topic_classes = ['CEO', 'CFO', 'Layoffs', 'Political', 'PressRelease', 'Undefined',\n",
    "       'cramer', 'earnings', 'gold', 'manda', 'paylimitwall', 'paywall',\n",
    "       'product', 'recession', 'tanalysis'] # undefined의 class가 5\n",
    "\n",
    "    def load_data(self):\n",
    "        stock = pd.read_csv(self.stock_filepath,index_col=0)\n",
    "        news = pd.read_csv(self.news_filepath,index_col=0)\n",
    "        ### parse date manually\n",
    "        stock['Date'] = pd.to_datetime(stock['Date'])\n",
    "        news['date'] = pd.to_datetime(news['date'])\n",
    "        return stock, news\n",
    "\n",
    "    def merging(self, stock, news):\n",
    "        ### fill na value of PINS column\n",
    "#         stock['PINS'] = stock['PINS'].fillna(stock['PINS'].iloc[75])\n",
    "\n",
    "        ### drop 'news_id' column\n",
    "#         news = news.drop(columns=['news_id'])\n",
    "\n",
    "        ### add date range from 18.01.02 to 18.12.31\n",
    "        temp_range = pd.DataFrame(dict(zip(stock.columns,[pd.date_range(start='2018-01-02',end='2018-12-31'),\n",
    "                                0,0,0,0, # 4\n",
    "                                0,0,0,0,\n",
    "                                0,0,0,0,\n",
    "                                0,0,0,0, # 16\n",
    "                                0,0,0,0,\n",
    "                                0,0,0,0,\n",
    "                                0,0,0,0, # 28\n",
    "                                0,0,0,0,\n",
    "                                0,0,0,0, # 36\n",
    "                                0 # 37\n",
    "                            ])))\n",
    "        stock_inc = pd.concat([temp_range,stock],axis=0)\n",
    "\n",
    "        ### merge stock_inc and news\n",
    "        # left = stock_inc\n",
    "        # on = date\n",
    "        # how = left\n",
    "        # rename 'date' to 'Date' of news df\n",
    "        news = news.rename(columns={'date':'Date'})\n",
    "        merged = pd.merge(left=stock_inc,right=news,on='Date',how='left')\n",
    "\n",
    "        ### Cut before 2018-02-13\n",
    "        merged = merged[42:].reset_index(drop=True)\n",
    "\n",
    "        # fill na with latest non-null values\n",
    "        columns_to_fill = ['source_name', 'topics', 'rank_score',\n",
    "                        'sentiment_Negative','sentiment_Neutral',\n",
    "                        'sentiment_Positive', 'type_Article', 'type_Video']\n",
    "        merged_fillna = merged.copy()\n",
    "        for column in columns_to_fill:\n",
    "            merged_fillna[column].fillna(method='ffill',inplace=True)\n",
    "\n",
    "        ### add moving average to sentiments\n",
    "        ma_nums = [5,60,120]\n",
    "        def mode_window(window):\n",
    "            return window.mode().iloc[0] if not len(window.mode())==0 else None\n",
    "        for num in ma_nums:\n",
    "            merged_fillna[f'{num}MA_sent_Neg']=merged_fillna['sentiment_Negative'].rolling(\n",
    "            window=num).mean()\n",
    "            merged_fillna[f'{num}MA_sent_Neu']=merged_fillna['sentiment_Neutral'].rolling(\n",
    "            window=num).mean()\n",
    "            merged_fillna[f'{num}MA_sent_Pos']=merged_fillna['sentiment_Positive'].rolling(\n",
    "            window=num).mean()\n",
    "        ### add moving mode to sentiments\n",
    "        for num in ma_nums:\n",
    "            merged_fillna[f'{num}MM_sent_Neg']=merged_fillna['sentiment_Negative'].rolling(\n",
    "            window=num).apply(mode_window)\n",
    "            merged_fillna[f'{num}MM_sent_Neu']=merged_fillna['sentiment_Neutral'].rolling(\n",
    "            window=num).apply(mode_window)\n",
    "            merged_fillna[f'{num}MM_sent_Pos']=merged_fillna['sentiment_Positive'].rolling(\n",
    "            window=num).apply(mode_window)\n",
    "        ### adding moving mode to topics\n",
    "        for num in ma_nums:\n",
    "            merged_fillna[f'{num}MM_topics']=merged_fillna['topics'].rolling(\n",
    "            window=num).apply(mode_window)\n",
    "\n",
    "        ### drop before 2019-01-02\n",
    "        total_df = merged_fillna.iloc[322:]\n",
    "        total_df = total_df.reset_index(drop=True)\n",
    "\n",
    "        ### drop unnecessaray columns\n",
    "        drop_cols = ['source_name','topics','rank_score',\n",
    "                    'sentiment_Negative','sentiment_Neutral',\n",
    "                    'sentiment_Positive','type_Article','type_Video']\n",
    "        total_df = total_df.drop(columns=drop_cols)\n",
    "\n",
    "        return total_df"
   ]
  },
  {
   "cell_type": "code",
   "execution_count": 3,
   "id": "cXT6Ts-1dPIr",
   "metadata": {
    "ExecuteTime": {
     "end_time": "2024-02-22T07:21:29.931489Z",
     "start_time": "2024-02-22T07:21:27.291091Z"
    },
    "id": "cXT6Ts-1dPIr"
   },
   "outputs": [
    {
     "name": "stderr",
     "output_type": "stream",
     "text": [
      "C:\\Users\\songkyu\\AppData\\Local\\Temp\\ipykernel_25640\\3770461931.py:56: FutureWarning: Series.fillna with 'method' is deprecated and will raise in a future version. Use obj.ffill() or obj.bfill() instead.\n",
      "  merged_fillna[column].fillna(method='ffill',inplace=True)\n"
     ]
    }
   ],
   "source": [
    "stock_filepath = '../../data/stock_price/netflix_60.csv' # 각자 파일 경로 설정\n",
    "news_filepath = '../../data/scraping/news_processed_filtered_2.csv'\n",
    "loader = PrepareData(stock_filepath, news_filepath)\n",
    "stock_df, news_df=loader.load_data() # >> 감성분석 미포함으로 모델 돌릴 땐 stock_df 바로 사용하면 됨\n",
    "total_df = loader.merging(stock=stock_df, news=news_df) # 주식데이터셋에 감성분석,토픽 포함시킨 전체 데이터셋"
   ]
  },
  {
   "cell_type": "code",
   "execution_count": 4,
   "id": "b566886a",
   "metadata": {
    "ExecuteTime": {
     "end_time": "2024-02-22T07:21:42.180054Z",
     "start_time": "2024-02-22T07:21:42.156296Z"
    }
   },
   "outputs": [
    {
     "data": {
      "text/plain": [
       "count    1257.000000\n",
       "mean        0.091651\n",
       "std         2.910568\n",
       "min       -35.116606\n",
       "25%        -1.347518\n",
       "50%         0.075158\n",
       "75%         1.445943\n",
       "max        16.854336\n",
       "Name: 1d_ROC, dtype: float64"
      ]
     },
     "execution_count": 4,
     "metadata": {},
     "output_type": "execute_result"
    }
   ],
   "source": [
    "stock_df['1d_ROC'].describe()"
   ]
  },
  {
   "cell_type": "markdown",
   "id": "c4313692",
   "metadata": {},
   "source": [
    "### Choose dataset & Hyperparameter setting"
   ]
  },
  {
   "cell_type": "code",
   "execution_count": 4,
   "id": "56432e2c",
   "metadata": {
    "ExecuteTime": {
     "end_time": "2024-02-22T07:01:18.641652Z",
     "start_time": "2024-02-22T07:01:18.613144Z"
    }
   },
   "outputs": [
    {
     "ename": "NameError",
     "evalue": "name 'stock_df' is not defined",
     "output_type": "error",
     "traceback": [
      "\u001b[1;31m---------------------------------------------------------------------------\u001b[0m",
      "\u001b[1;31mNameError\u001b[0m                                 Traceback (most recent call last)",
      "Cell \u001b[1;32mIn[4], line 1\u001b[0m\n\u001b[1;32m----> 1\u001b[0m data, dataname \u001b[38;5;241m=\u001b[39m \u001b[43mstock_df\u001b[49m, \u001b[38;5;124m'\u001b[39m\u001b[38;5;124mstock_df\u001b[39m\u001b[38;5;124m'\u001b[39m \u001b[38;5;66;03m# stock_df / total_df\u001b[39;00m\n\u001b[0;32m      2\u001b[0m TARGET \u001b[38;5;241m=\u001b[39m \u001b[38;5;124m\"\u001b[39m\u001b[38;5;124m1d_ROC\u001b[39m\u001b[38;5;124m\"\u001b[39m                      \u001b[38;5;66;03m# \"Close\" / \"1d_ROC\"\u001b[39;00m\n\u001b[0;32m      3\u001b[0m SEQ_SIZE \u001b[38;5;241m=\u001b[39m \u001b[38;5;241m30\u001b[39m                         \u001b[38;5;66;03m# 30 / 60 / 120\u001b[39;00m\n",
      "\u001b[1;31mNameError\u001b[0m: name 'stock_df' is not defined"
     ]
    }
   ],
   "source": [
    "data, dataname = stock_df, 'stock_df' # stock_df / total_df\n",
    "TARGET = \"1d_ROC\"                      # \"Close\" / \"1d_ROC\"\n",
    "SEQ_SIZE = 30                         # 30 / 60 / 120\n",
    "PRED_SIZE = 10\n",
    "BATCH_SIZE = 1                        # 1 / 4 / 8\n",
    "HIDDEN_SIZE = 64                      # 64 / 128\n",
    "EPOCHS = 1000"
   ]
  },
  {
   "cell_type": "code",
   "execution_count": 5,
   "id": "75768c12",
   "metadata": {},
   "outputs": [
    {
     "data": {
      "text/html": [
       "<div>\n",
       "<style scoped>\n",
       "    .dataframe tbody tr th:only-of-type {\n",
       "        vertical-align: middle;\n",
       "    }\n",
       "\n",
       "    .dataframe tbody tr th {\n",
       "        vertical-align: top;\n",
       "    }\n",
       "\n",
       "    .dataframe thead th {\n",
       "        text-align: right;\n",
       "    }\n",
       "</style>\n",
       "<table border=\"1\" class=\"dataframe\">\n",
       "  <thead>\n",
       "    <tr style=\"text-align: right;\">\n",
       "      <th></th>\n",
       "      <th>Open</th>\n",
       "      <th>Close</th>\n",
       "      <th>High</th>\n",
       "      <th>Low</th>\n",
       "      <th>Volume</th>\n",
       "      <th>1d_ROC</th>\n",
       "      <th>5d_ROC</th>\n",
       "      <th>5MA</th>\n",
       "      <th>120MA</th>\n",
       "      <th>bol_high</th>\n",
       "      <th>...</th>\n",
       "      <th>DPO</th>\n",
       "      <th>KST</th>\n",
       "      <th>STC</th>\n",
       "      <th>RSI</th>\n",
       "      <th>SRSI</th>\n",
       "      <th>UO</th>\n",
       "      <th>MFI</th>\n",
       "      <th>SPOT</th>\n",
       "      <th>PINS</th>\n",
       "      <th>FB</th>\n",
       "    </tr>\n",
       "    <tr>\n",
       "      <th>Date</th>\n",
       "      <th></th>\n",
       "      <th></th>\n",
       "      <th></th>\n",
       "      <th></th>\n",
       "      <th></th>\n",
       "      <th></th>\n",
       "      <th></th>\n",
       "      <th></th>\n",
       "      <th></th>\n",
       "      <th></th>\n",
       "      <th></th>\n",
       "      <th></th>\n",
       "      <th></th>\n",
       "      <th></th>\n",
       "      <th></th>\n",
       "      <th></th>\n",
       "      <th></th>\n",
       "      <th></th>\n",
       "      <th></th>\n",
       "      <th></th>\n",
       "      <th></th>\n",
       "    </tr>\n",
       "  </thead>\n",
       "  <tbody>\n",
       "    <tr>\n",
       "      <th>2019-01-02</th>\n",
       "      <td>259.28</td>\n",
       "      <td>267.66</td>\n",
       "      <td>269.75</td>\n",
       "      <td>256.58</td>\n",
       "      <td>11642148</td>\n",
       "      <td>0.000000</td>\n",
       "      <td>14.443304</td>\n",
       "      <td>260.128</td>\n",
       "      <td>325.000667</td>\n",
       "      <td>286.872017</td>\n",
       "      <td>...</td>\n",
       "      <td>2.1680</td>\n",
       "      <td>-88.281564</td>\n",
       "      <td>44.762606</td>\n",
       "      <td>45.523889</td>\n",
       "      <td>0.384404</td>\n",
       "      <td>48.377492</td>\n",
       "      <td>44.377291</td>\n",
       "      <td>135.68</td>\n",
       "      <td>24.99</td>\n",
       "      <td>113.74</td>\n",
       "    </tr>\n",
       "    <tr>\n",
       "      <th>2019-01-03</th>\n",
       "      <td>270.20</td>\n",
       "      <td>271.20</td>\n",
       "      <td>275.79</td>\n",
       "      <td>264.43</td>\n",
       "      <td>14954204</td>\n",
       "      <td>1.322573</td>\n",
       "      <td>6.910553</td>\n",
       "      <td>263.634</td>\n",
       "      <td>323.962333</td>\n",
       "      <td>286.339561</td>\n",
       "      <td>...</td>\n",
       "      <td>-1.6655</td>\n",
       "      <td>-86.593692</td>\n",
       "      <td>64.779342</td>\n",
       "      <td>45.949547</td>\n",
       "      <td>0.424055</td>\n",
       "      <td>49.951722</td>\n",
       "      <td>46.086376</td>\n",
       "      <td>131.74</td>\n",
       "      <td>24.99</td>\n",
       "      <td>109.02</td>\n",
       "    </tr>\n",
       "    <tr>\n",
       "      <th>2019-01-04</th>\n",
       "      <td>281.88</td>\n",
       "      <td>297.57</td>\n",
       "      <td>297.80</td>\n",
       "      <td>278.54</td>\n",
       "      <td>19309374</td>\n",
       "      <td>9.723451</td>\n",
       "      <td>16.433854</td>\n",
       "      <td>272.034</td>\n",
       "      <td>323.104750</td>\n",
       "      <td>291.444515</td>\n",
       "      <td>...</td>\n",
       "      <td>5.3625</td>\n",
       "      <td>-75.831614</td>\n",
       "      <td>79.644575</td>\n",
       "      <td>48.970092</td>\n",
       "      <td>0.705424</td>\n",
       "      <td>53.480333</td>\n",
       "      <td>46.642910</td>\n",
       "      <td>137.95</td>\n",
       "      <td>24.99</td>\n",
       "      <td>118.51</td>\n",
       "    </tr>\n",
       "    <tr>\n",
       "      <th>2019-01-07</th>\n",
       "      <td>302.10</td>\n",
       "      <td>315.34</td>\n",
       "      <td>316.80</td>\n",
       "      <td>301.65</td>\n",
       "      <td>18598132</td>\n",
       "      <td>5.971704</td>\n",
       "      <td>23.141206</td>\n",
       "      <td>283.886</td>\n",
       "      <td>322.570250</td>\n",
       "      <td>300.275444</td>\n",
       "      <td>...</td>\n",
       "      <td>-0.4305</td>\n",
       "      <td>-56.832386</td>\n",
       "      <td>89.822288</td>\n",
       "      <td>50.852293</td>\n",
       "      <td>0.880754</td>\n",
       "      <td>56.283542</td>\n",
       "      <td>48.992941</td>\n",
       "      <td>138.05</td>\n",
       "      <td>24.99</td>\n",
       "      <td>119.36</td>\n",
       "    </tr>\n",
       "    <tr>\n",
       "      <th>2019-01-08</th>\n",
       "      <td>319.98</td>\n",
       "      <td>320.27</td>\n",
       "      <td>320.59</td>\n",
       "      <td>308.01</td>\n",
       "      <td>15324452</td>\n",
       "      <td>1.563392</td>\n",
       "      <td>19.655533</td>\n",
       "      <td>294.408</td>\n",
       "      <td>322.113083</td>\n",
       "      <td>310.280492</td>\n",
       "      <td>...</td>\n",
       "      <td>-9.3770</td>\n",
       "      <td>-28.087969</td>\n",
       "      <td>94.911144</td>\n",
       "      <td>51.358475</td>\n",
       "      <td>0.927906</td>\n",
       "      <td>59.329800</td>\n",
       "      <td>51.038876</td>\n",
       "      <td>142.53</td>\n",
       "      <td>24.99</td>\n",
       "      <td>117.48</td>\n",
       "    </tr>\n",
       "    <tr>\n",
       "      <th>...</th>\n",
       "      <td>...</td>\n",
       "      <td>...</td>\n",
       "      <td>...</td>\n",
       "      <td>...</td>\n",
       "      <td>...</td>\n",
       "      <td>...</td>\n",
       "      <td>...</td>\n",
       "      <td>...</td>\n",
       "      <td>...</td>\n",
       "      <td>...</td>\n",
       "      <td>...</td>\n",
       "      <td>...</td>\n",
       "      <td>...</td>\n",
       "      <td>...</td>\n",
       "      <td>...</td>\n",
       "      <td>...</td>\n",
       "      <td>...</td>\n",
       "      <td>...</td>\n",
       "      <td>...</td>\n",
       "      <td>...</td>\n",
       "      <td>...</td>\n",
       "    </tr>\n",
       "    <tr>\n",
       "      <th>2023-12-22</th>\n",
       "      <td>494.00</td>\n",
       "      <td>486.76</td>\n",
       "      <td>496.02</td>\n",
       "      <td>485.45</td>\n",
       "      <td>2702672</td>\n",
       "      <td>-0.986554</td>\n",
       "      <td>3.114011</td>\n",
       "      <td>489.756</td>\n",
       "      <td>428.004000</td>\n",
       "      <td>500.053490</td>\n",
       "      <td>...</td>\n",
       "      <td>-19.5075</td>\n",
       "      <td>65.080263</td>\n",
       "      <td>94.696173</td>\n",
       "      <td>58.277287</td>\n",
       "      <td>0.909965</td>\n",
       "      <td>52.260244</td>\n",
       "      <td>63.797634</td>\n",
       "      <td>353.39</td>\n",
       "      <td>37.38</td>\n",
       "      <td>189.59</td>\n",
       "    </tr>\n",
       "    <tr>\n",
       "      <th>2023-12-26</th>\n",
       "      <td>489.39</td>\n",
       "      <td>491.19</td>\n",
       "      <td>491.48</td>\n",
       "      <td>486.38</td>\n",
       "      <td>2032683</td>\n",
       "      <td>0.910099</td>\n",
       "      <td>1.042952</td>\n",
       "      <td>490.770</td>\n",
       "      <td>428.440250</td>\n",
       "      <td>501.759236</td>\n",
       "      <td>...</td>\n",
       "      <td>-18.3485</td>\n",
       "      <td>67.068382</td>\n",
       "      <td>97.348086</td>\n",
       "      <td>58.776649</td>\n",
       "      <td>0.941589</td>\n",
       "      <td>54.393804</td>\n",
       "      <td>63.632425</td>\n",
       "      <td>354.83</td>\n",
       "      <td>37.16</td>\n",
       "      <td>189.88</td>\n",
       "    </tr>\n",
       "    <tr>\n",
       "      <th>2023-12-27</th>\n",
       "      <td>491.24</td>\n",
       "      <td>491.79</td>\n",
       "      <td>494.02</td>\n",
       "      <td>489.25</td>\n",
       "      <td>2559832</td>\n",
       "      <td>0.122152</td>\n",
       "      <td>-0.652499</td>\n",
       "      <td>490.124</td>\n",
       "      <td>428.887667</td>\n",
       "      <td>503.497049</td>\n",
       "      <td>...</td>\n",
       "      <td>-12.8580</td>\n",
       "      <td>69.341178</td>\n",
       "      <td>98.674043</td>\n",
       "      <td>58.844494</td>\n",
       "      <td>0.945886</td>\n",
       "      <td>53.844831</td>\n",
       "      <td>63.654456</td>\n",
       "      <td>357.83</td>\n",
       "      <td>37.30</td>\n",
       "      <td>190.27</td>\n",
       "    </tr>\n",
       "    <tr>\n",
       "      <th>2023-12-28</th>\n",
       "      <td>492.00</td>\n",
       "      <td>490.51</td>\n",
       "      <td>492.89</td>\n",
       "      <td>489.07</td>\n",
       "      <td>1708897</td>\n",
       "      <td>-0.260274</td>\n",
       "      <td>0.253439</td>\n",
       "      <td>490.372</td>\n",
       "      <td>429.294333</td>\n",
       "      <td>505.082300</td>\n",
       "      <td>...</td>\n",
       "      <td>-10.4140</td>\n",
       "      <td>70.353821</td>\n",
       "      <td>99.337022</td>\n",
       "      <td>58.635136</td>\n",
       "      <td>0.932627</td>\n",
       "      <td>56.424787</td>\n",
       "      <td>62.273166</td>\n",
       "      <td>358.32</td>\n",
       "      <td>37.27</td>\n",
       "      <td>188.75</td>\n",
       "    </tr>\n",
       "    <tr>\n",
       "      <th>2023-12-29</th>\n",
       "      <td>490.37</td>\n",
       "      <td>486.88</td>\n",
       "      <td>492.23</td>\n",
       "      <td>481.93</td>\n",
       "      <td>2740555</td>\n",
       "      <td>-0.740046</td>\n",
       "      <td>-0.962145</td>\n",
       "      <td>489.426</td>\n",
       "      <td>429.683250</td>\n",
       "      <td>506.268495</td>\n",
       "      <td>...</td>\n",
       "      <td>5.9205</td>\n",
       "      <td>71.791380</td>\n",
       "      <td>97.768184</td>\n",
       "      <td>58.039604</td>\n",
       "      <td>0.894912</td>\n",
       "      <td>54.783359</td>\n",
       "      <td>62.412709</td>\n",
       "      <td>353.96</td>\n",
       "      <td>37.04</td>\n",
       "      <td>187.91</td>\n",
       "    </tr>\n",
       "  </tbody>\n",
       "</table>\n",
       "<p>1257 rows × 37 columns</p>\n",
       "</div>"
      ],
      "text/plain": [
       "              Open   Close    High     Low    Volume    1d_ROC     5d_ROC  \\\n",
       "Date                                                                        \n",
       "2019-01-02  259.28  267.66  269.75  256.58  11642148  0.000000  14.443304   \n",
       "2019-01-03  270.20  271.20  275.79  264.43  14954204  1.322573   6.910553   \n",
       "2019-01-04  281.88  297.57  297.80  278.54  19309374  9.723451  16.433854   \n",
       "2019-01-07  302.10  315.34  316.80  301.65  18598132  5.971704  23.141206   \n",
       "2019-01-08  319.98  320.27  320.59  308.01  15324452  1.563392  19.655533   \n",
       "...            ...     ...     ...     ...       ...       ...        ...   \n",
       "2023-12-22  494.00  486.76  496.02  485.45   2702672 -0.986554   3.114011   \n",
       "2023-12-26  489.39  491.19  491.48  486.38   2032683  0.910099   1.042952   \n",
       "2023-12-27  491.24  491.79  494.02  489.25   2559832  0.122152  -0.652499   \n",
       "2023-12-28  492.00  490.51  492.89  489.07   1708897 -0.260274   0.253439   \n",
       "2023-12-29  490.37  486.88  492.23  481.93   2740555 -0.740046  -0.962145   \n",
       "\n",
       "                5MA       120MA    bol_high  ...      DPO        KST  \\\n",
       "Date                                         ...                       \n",
       "2019-01-02  260.128  325.000667  286.872017  ...   2.1680 -88.281564   \n",
       "2019-01-03  263.634  323.962333  286.339561  ...  -1.6655 -86.593692   \n",
       "2019-01-04  272.034  323.104750  291.444515  ...   5.3625 -75.831614   \n",
       "2019-01-07  283.886  322.570250  300.275444  ...  -0.4305 -56.832386   \n",
       "2019-01-08  294.408  322.113083  310.280492  ...  -9.3770 -28.087969   \n",
       "...             ...         ...         ...  ...      ...        ...   \n",
       "2023-12-22  489.756  428.004000  500.053490  ... -19.5075  65.080263   \n",
       "2023-12-26  490.770  428.440250  501.759236  ... -18.3485  67.068382   \n",
       "2023-12-27  490.124  428.887667  503.497049  ... -12.8580  69.341178   \n",
       "2023-12-28  490.372  429.294333  505.082300  ... -10.4140  70.353821   \n",
       "2023-12-29  489.426  429.683250  506.268495  ...   5.9205  71.791380   \n",
       "\n",
       "                  STC        RSI      SRSI         UO        MFI    SPOT  \\\n",
       "Date                                                                       \n",
       "2019-01-02  44.762606  45.523889  0.384404  48.377492  44.377291  135.68   \n",
       "2019-01-03  64.779342  45.949547  0.424055  49.951722  46.086376  131.74   \n",
       "2019-01-04  79.644575  48.970092  0.705424  53.480333  46.642910  137.95   \n",
       "2019-01-07  89.822288  50.852293  0.880754  56.283542  48.992941  138.05   \n",
       "2019-01-08  94.911144  51.358475  0.927906  59.329800  51.038876  142.53   \n",
       "...               ...        ...       ...        ...        ...     ...   \n",
       "2023-12-22  94.696173  58.277287  0.909965  52.260244  63.797634  353.39   \n",
       "2023-12-26  97.348086  58.776649  0.941589  54.393804  63.632425  354.83   \n",
       "2023-12-27  98.674043  58.844494  0.945886  53.844831  63.654456  357.83   \n",
       "2023-12-28  99.337022  58.635136  0.932627  56.424787  62.273166  358.32   \n",
       "2023-12-29  97.768184  58.039604  0.894912  54.783359  62.412709  353.96   \n",
       "\n",
       "             PINS      FB  \n",
       "Date                       \n",
       "2019-01-02  24.99  113.74  \n",
       "2019-01-03  24.99  109.02  \n",
       "2019-01-04  24.99  118.51  \n",
       "2019-01-07  24.99  119.36  \n",
       "2019-01-08  24.99  117.48  \n",
       "...           ...     ...  \n",
       "2023-12-22  37.38  189.59  \n",
       "2023-12-26  37.16  189.88  \n",
       "2023-12-27  37.30  190.27  \n",
       "2023-12-28  37.27  188.75  \n",
       "2023-12-29  37.04  187.91  \n",
       "\n",
       "[1257 rows x 37 columns]"
      ]
     },
     "execution_count": 5,
     "metadata": {},
     "output_type": "execute_result"
    }
   ],
   "source": [
    "data.index = data[\"Date\"]\n",
    "data.drop(columns = \"Date\", inplace = True)\n",
    "data[\"PINS\"].fillna(24.99, inplace = True)\n",
    "data"
   ]
  },
  {
   "cell_type": "markdown",
   "id": "rm-R3f2nuoxg",
   "metadata": {
    "id": "rm-R3f2nuoxg"
   },
   "source": [
    "### Make train datset"
   ]
  },
  {
   "cell_type": "code",
   "execution_count": 6,
   "id": "59b63d6f",
   "metadata": {
    "ExecuteTime": {
     "end_time": "2024-02-12T16:03:33.743478Z",
     "start_time": "2024-02-12T16:03:33.726632Z"
    },
    "colab": {
     "base_uri": "https://localhost:8080/"
    },
    "id": "59b63d6f",
    "outputId": "4940f01b-4337-475e-f42e-e07119dac23a"
   },
   "outputs": [
    {
     "name": "stdout",
     "output_type": "stream",
     "text": [
      "[[259.28 267.66 269.75 ... 135.68  24.99 113.74]\n",
      " [270.2  271.2  275.79 ... 131.74  24.99 109.02]\n",
      " [281.88 297.57 297.8  ... 137.95  24.99 118.51]\n",
      " ...\n",
      " [350.   345.73 352.87 ... 165.79  24.99 137.82]\n",
      " [348.09 359.97 360.   ... 165.04  24.99 140.46]\n",
      " [357.3  351.77 359.6  ... 164.07  24.99 143.54]] \n",
      " [ 2.0752196  -0.6126939   1.41508112 -0.55537135 -0.81687088  1.69482029\n",
      "  0.24516556  0.29128081 -0.57538976 -1.31452035]\n",
      "X size :  (1218, 30, 37)\n",
      "y size :  (1218, 10)\n"
     ]
    }
   ],
   "source": [
    "def split_xy(dataset, time_steps, y_column):\n",
    "    x, y = list(), list()\n",
    "    for i in range(len(dataset)):\n",
    "        x_end_number = i + time_steps\n",
    "        y_end_number = x_end_number + y_column\n",
    "\n",
    "        if y_end_number > len(dataset):\n",
    "            break\n",
    "        tmp_x = dataset.iloc[i:x_end_number, :]  # Adjusted for Pandas\n",
    "        tmp_y = dataset.iloc[x_end_number:y_end_number, :].loc[:, TARGET]\n",
    "        x.append(tmp_x.values)  # Convert to numpy array\n",
    "        y.append(tmp_y.values)  # Convert to numpy array\n",
    "\n",
    "    return np.array(x), np.array(y)\n",
    "\n",
    "X, y = split_xy(data, SEQ_SIZE, PRED_SIZE)\n",
    "print(X[0,:],\"\\n\", y[0])\n",
    "print(\"X size : \", X.shape)\n",
    "print(\"y size : \", y.shape)"
   ]
  },
  {
   "cell_type": "markdown",
   "id": "26bf33a6",
   "metadata": {},
   "source": [
    "### Define X_test"
   ]
  },
  {
   "cell_type": "code",
   "execution_count": 7,
   "id": "e7e9475c",
   "metadata": {},
   "outputs": [
    {
     "name": "stdout",
     "output_type": "stream",
     "text": [
      "[[[463.   466.95 467.28 ... 334.19  31.27 175.28]\n",
      "  [466.95 465.91 467.65 ... 335.04  31.49 176.05]\n",
      "  [465.4  474.47 476.76 ... 339.97  32.13 179.86]\n",
      "  ...\n",
      "  [491.24 491.79 494.02 ... 357.83  37.3  190.27]\n",
      "  [492.   490.51 492.89 ... 358.32  37.27 188.75]\n",
      "  [490.37 486.88 492.23 ... 353.96  37.04 187.91]]]\n",
      "X_test size :  (1, 30, 37)\n"
     ]
    }
   ],
   "source": [
    "X_test = data.tail(SEQ_SIZE).values.reshape(1, SEQ_SIZE, data.shape[1])\n",
    "print(X_test)\n",
    "print(\"X_test size : \", X_test.shape)"
   ]
  },
  {
   "cell_type": "markdown",
   "id": "dvw92WElvA7x",
   "metadata": {
    "id": "dvw92WElvA7x"
   },
   "source": [
    "### Standardization"
   ]
  },
  {
   "cell_type": "code",
   "execution_count": 8,
   "id": "78ba78ed",
   "metadata": {
    "ExecuteTime": {
     "end_time": "2024-02-12T17:54:28.610736Z",
     "start_time": "2024-02-12T17:54:28.587931Z"
    },
    "id": "78ba78ed"
   },
   "outputs": [
    {
     "name": "stdout",
     "output_type": "stream",
     "text": [
      "X size :  (1218, 30, 37)\n",
      "X_test size :  (1, 30, 37)\n"
     ]
    }
   ],
   "source": [
    "from sklearn.preprocessing import StandardScaler\n",
    "\n",
    "X = X.reshape(X.shape[0], X.shape[1] * X.shape[2])\n",
    "scaler = StandardScaler()\n",
    "scaler.fit(X)\n",
    "X = scaler.transform(X)\n",
    "X = X.reshape(X.shape[0], SEQ_SIZE, data.shape[1])\n",
    "\n",
    "X_test = X_test.reshape(X_test.shape[0], X_test.shape[1] * X_test.shape[2])\n",
    "X_test = scaler.transform(X_test)\n",
    "X_test = X_test.reshape(X_test.shape[0], SEQ_SIZE, data.shape[1])\n",
    "\n",
    "print(\"X size : \", X.shape)\n",
    "print(\"X_test size : \", X_test.shape)"
   ]
  },
  {
   "cell_type": "markdown",
   "id": "bf82a36a",
   "metadata": {},
   "source": [
    "### Split train-validation dataset"
   ]
  },
  {
   "cell_type": "code",
   "execution_count": 9,
   "id": "6c9f6dae",
   "metadata": {
    "ExecuteTime": {
     "end_time": "2024-02-12T17:56:21.092065Z",
     "start_time": "2024-02-12T17:56:21.073821Z"
    },
    "id": "6c9f6dae"
   },
   "outputs": [],
   "source": [
    "# to DataLoader\n",
    "import torch\n",
    "from torch.utils.data import Dataset, DataLoader, TensorDataset\n",
    "from sklearn.model_selection import train_test_split\n",
    "\n",
    "X_train, X_valid, y_train, y_valid = train_test_split(X, y, random_state = 1, test_size = 0.2)\n",
    "\n",
    "# to tensor\n",
    "X_train = torch.tensor(X_train.astype(np.float32), dtype = torch.float32)\n",
    "X_valid = torch.tensor(X_valid.astype(np.float32), dtype = torch.float32)\n",
    "y_train = torch.tensor(y_train.astype(np.float32), dtype = torch.float32)\n",
    "y_valid = torch.tensor(y_valid.astype(np.float32), dtype = torch.float32)\n",
    "\n",
    "# to DataLoader\n",
    "train_loader = DataLoader(TensorDataset(X_train, y_train), batch_size = BATCH_SIZE, shuffle = True)\n",
    "val_loader = DataLoader(TensorDataset(X_valid, y_valid), batch_size = BATCH_SIZE, shuffle = False)"
   ]
  },
  {
   "cell_type": "markdown",
   "id": "2kbCnIxevF36",
   "metadata": {
    "id": "2kbCnIxevF36"
   },
   "source": [
    "### Modeling"
   ]
  },
  {
   "cell_type": "code",
   "execution_count": 10,
   "id": "9e64f645",
   "metadata": {
    "ExecuteTime": {
     "end_time": "2024-02-12T17:56:18.558715Z",
     "start_time": "2024-02-12T17:56:18.538485Z"
    },
    "id": "9e64f645"
   },
   "outputs": [],
   "source": [
    "import torch.nn as nn\n",
    "import torch.nn.functional as F\n",
    "import torch.optim as optim\n",
    "from torch.autograd import Variable\n",
    "from torch.nn import Parameter\n",
    "from torch import Tensor\n",
    "from torch.optim.lr_scheduler import ReduceLROnPlateau\n",
    "\n",
    "import copy\n",
    "class EarlyStopping:\n",
    "    def __init__(self, patience = 5, min_delta = 0, restore_best_weights = True):\n",
    "        self.patience = patience\n",
    "        self.min_delta = min_delta\n",
    "        self.restore_best_weights = restore_best_weights\n",
    "        self.best_model = None\n",
    "        self.best_loss = None\n",
    "        self.counter = 0\n",
    "        self.status = \"\"\n",
    "\n",
    "    def __call__(self, model, val_loss):\n",
    "        if self.best_loss is None:\n",
    "            self.best_loss = val_loss\n",
    "            self.best_model = copy.deepcopy(model.state_dict())\n",
    "        elif self.best_loss - val_loss >= self.min_delta:\n",
    "            self.best_model = copy.deepcopy(model.state_dict())\n",
    "            self.best_loss = val_loss\n",
    "            self.counter = 0\n",
    "            self.status = f\"Improvement found, counter reset to {self.counter}\"\n",
    "        else:\n",
    "            self.counter += 1\n",
    "            self.status = f\"No improvement in the last {self.counter} epochs\"\n",
    "            if self.counter >= self.patience:\n",
    "                self.status = f\"Early stopping triggered after {self.counter} epochs.\"\n",
    "                if self.restore_best_weights:\n",
    "                    model.load_state_dict(self.best_model)\n",
    "                return True\n",
    "        return False\n",
    "\n",
    "class LSTMModel(nn.Module):\n",
    "    def __init__(self,input_dim):\n",
    "        super(LSTMModel,self).__init__()\n",
    "        self.lstm = nn.LSTM(input_dim, hidden_size = HIDDEN_SIZE, batch_first = True)\n",
    "        self.dropout = nn.Dropout(0.2)\n",
    "        self.seq = nn.Sequential(nn.Linear(HIDDEN_SIZE, 32),\n",
    "                                nn.ReLU(),\n",
    "                                nn.Linear(32, 32),\n",
    "                                nn.ReLU(),\n",
    "                                nn.Linear(32, 32),\n",
    "                                nn.ReLU(),\n",
    "                                nn.Linear(32, 32),\n",
    "                                nn.ReLU(),\n",
    "                                nn.Linear(32, 32),\n",
    "                                nn.ReLU(),\n",
    "                                nn.Linear(32, PRED_SIZE)\n",
    "                                )\n",
    "\n",
    "    def forward(self,x):\n",
    "        x,_ = self.lstm(x)\n",
    "#         print('output of lstm :',x.size()) # torch.Size([1, 120, 64])\n",
    "        x = self.dropout(x[:,-1,:])\n",
    "#         print('from lstm to linear :',x.size()) # torch.Size([1, 64])\n",
    "        x = self.seq(x)\n",
    "        return x\n",
    "\n",
    "class RMSELoss(nn.Module):\n",
    "    def __init__(self):\n",
    "        super(RMSELoss,self).__init__()\n",
    "        self.mse = nn.MSELoss()\n",
    "\n",
    "    def forward(self,yhat,y):\n",
    "        return torch.sqrt(self.mse(yhat,y))"
   ]
  },
  {
   "cell_type": "code",
   "execution_count": 11,
   "id": "d11f3882",
   "metadata": {
    "ExecuteTime": {
     "end_time": "2024-02-12T17:56:20.405633Z",
     "start_time": "2024-02-12T17:56:20.397917Z"
    },
    "id": "d11f3882"
   },
   "outputs": [],
   "source": [
    "model = LSTMModel(X_train.shape[2])\n",
    "criterion = RMSELoss()\n",
    "optimizer = optim.Adam(model.parameters(), lr = 0.001)\n",
    "scheduler = ReduceLROnPlateau(optimizer, 'min', factor = 0.1, patience = 20, verbose = True)"
   ]
  },
  {
   "cell_type": "markdown",
   "id": "02c1ca85",
   "metadata": {},
   "source": [
    "### RUN!!"
   ]
  },
  {
   "cell_type": "code",
   "execution_count": 12,
   "id": "96bcf3a0",
   "metadata": {
    "ExecuteTime": {
     "end_time": "2024-02-12T17:58:09.984300Z",
     "start_time": "2024-02-12T17:56:21.797763Z"
    },
    "colab": {
     "base_uri": "https://localhost:8080/"
    },
    "id": "96bcf3a0",
    "outputId": "8e6611c8-d91b-4e81-9409-690d192cbc68",
    "scrolled": true
   },
   "outputs": [
    {
     "name": "stdout",
     "output_type": "stream",
     "text": [
      "Epoch 1/1000, Train Loss: 2.5594, Validation Loss: 2.3568\n",
      "Epoch 2/1000, Train Loss: 2.5575, Validation Loss: 2.3508\n",
      "Epoch 3/1000, Train Loss: 2.5494, Validation Loss: 2.3456\n",
      "Epoch 4/1000, Train Loss: 2.5373, Validation Loss: 2.3348\n",
      "Epoch 5/1000, Train Loss: 2.5250, Validation Loss: 2.3237\n",
      "Epoch 6/1000, Train Loss: 2.5092, Validation Loss: 2.2956\n",
      "Epoch 7/1000, Train Loss: 2.4905, Validation Loss: 2.3016\n",
      "Epoch 8/1000, Train Loss: 2.4803, Validation Loss: 2.2795\n",
      "Epoch 9/1000, Train Loss: 2.4700, Validation Loss: 2.2723\n",
      "Epoch 10/1000, Train Loss: 2.4673, Validation Loss: 2.2766\n",
      "Epoch 11/1000, Train Loss: 2.4622, Validation Loss: 2.2744\n",
      "Epoch 12/1000, Train Loss: 2.4594, Validation Loss: 2.2696\n",
      "Epoch 13/1000, Train Loss: 2.4581, Validation Loss: 2.2627\n",
      "Epoch 14/1000, Train Loss: 2.4557, Validation Loss: 2.2691\n",
      "Epoch 15/1000, Train Loss: 2.4543, Validation Loss: 2.2622\n",
      "Epoch 16/1000, Train Loss: 2.4537, Validation Loss: 2.2593\n",
      "Epoch 17/1000, Train Loss: 2.4486, Validation Loss: 2.2625\n",
      "Epoch 18/1000, Train Loss: 2.4486, Validation Loss: 2.2680\n",
      "Epoch 19/1000, Train Loss: 2.4528, Validation Loss: 2.2588\n",
      "Epoch 20/1000, Train Loss: 2.4475, Validation Loss: 2.2567\n",
      "Epoch 21/1000, Train Loss: 2.4450, Validation Loss: 2.2632\n",
      "Epoch 22/1000, Train Loss: 2.4465, Validation Loss: 2.2592\n",
      "Epoch 23/1000, Train Loss: 2.4428, Validation Loss: 2.2573\n",
      "Epoch 24/1000, Train Loss: 2.4433, Validation Loss: 2.2579\n",
      "Epoch 25/1000, Train Loss: 2.4404, Validation Loss: 2.2583\n",
      "Epoch 26/1000, Train Loss: 2.4401, Validation Loss: 2.2686\n",
      "Epoch 27/1000, Train Loss: 2.4412, Validation Loss: 2.2520\n",
      "Epoch 28/1000, Train Loss: 2.4341, Validation Loss: 2.2479\n",
      "Epoch 29/1000, Train Loss: 2.4286, Validation Loss: 2.2385\n",
      "Epoch 30/1000, Train Loss: 2.4228, Validation Loss: 2.2303\n",
      "Epoch 31/1000, Train Loss: 2.4142, Validation Loss: 2.2242\n",
      "Epoch 32/1000, Train Loss: 2.4039, Validation Loss: 2.2229\n",
      "Epoch 33/1000, Train Loss: 2.3907, Validation Loss: 2.2277\n",
      "Epoch 34/1000, Train Loss: 2.3778, Validation Loss: 2.2127\n",
      "Epoch 35/1000, Train Loss: 2.3774, Validation Loss: 2.2029\n",
      "Epoch 36/1000, Train Loss: 2.3634, Validation Loss: 2.2001\n",
      "Epoch 37/1000, Train Loss: 2.3597, Validation Loss: 2.1959\n",
      "Epoch 38/1000, Train Loss: 2.3563, Validation Loss: 2.1849\n",
      "Epoch 39/1000, Train Loss: 2.3440, Validation Loss: 2.1921\n",
      "Epoch 40/1000, Train Loss: 2.3399, Validation Loss: 2.1902\n",
      "Epoch 41/1000, Train Loss: 2.3360, Validation Loss: 2.1836\n",
      "Epoch 42/1000, Train Loss: 2.3328, Validation Loss: 2.1767\n",
      "Epoch 43/1000, Train Loss: 2.3222, Validation Loss: 2.1793\n",
      "Epoch 44/1000, Train Loss: 2.3175, Validation Loss: 2.1801\n",
      "Epoch 45/1000, Train Loss: 2.3274, Validation Loss: 2.1584\n",
      "Epoch 46/1000, Train Loss: 2.3105, Validation Loss: 2.1675\n",
      "Epoch 47/1000, Train Loss: 2.3180, Validation Loss: 2.1678\n",
      "Epoch 48/1000, Train Loss: 2.3056, Validation Loss: 2.1750\n",
      "Epoch 49/1000, Train Loss: 2.2969, Validation Loss: 2.1633\n",
      "Epoch 50/1000, Train Loss: 2.2985, Validation Loss: 2.1633\n",
      "Epoch 51/1000, Train Loss: 2.2899, Validation Loss: 2.1725\n",
      "Epoch 52/1000, Train Loss: 2.2929, Validation Loss: 2.1602\n",
      "Epoch 53/1000, Train Loss: 2.2923, Validation Loss: 2.1808\n",
      "Epoch 54/1000, Train Loss: 2.2822, Validation Loss: 2.1624\n",
      "Epoch 55/1000, Train Loss: 2.2797, Validation Loss: 2.1544\n",
      "Epoch 56/1000, Train Loss: 2.2739, Validation Loss: 2.1726\n",
      "Epoch 57/1000, Train Loss: 2.2692, Validation Loss: 2.1662\n",
      "Epoch 58/1000, Train Loss: 2.2691, Validation Loss: 2.1615\n",
      "Epoch 59/1000, Train Loss: 2.2712, Validation Loss: 2.1716\n",
      "Epoch 60/1000, Train Loss: 2.2568, Validation Loss: 2.1684\n",
      "Epoch 61/1000, Train Loss: 2.2578, Validation Loss: 2.1660\n",
      "Epoch 62/1000, Train Loss: 2.2491, Validation Loss: 2.1648\n",
      "Epoch 63/1000, Train Loss: 2.2504, Validation Loss: 2.1589\n",
      "Epoch 64/1000, Train Loss: 2.2470, Validation Loss: 2.1754\n",
      "Epoch 65/1000, Train Loss: 2.2507, Validation Loss: 2.1464\n",
      "Epoch 66/1000, Train Loss: 2.2351, Validation Loss: 2.1690\n",
      "Epoch 67/1000, Train Loss: 2.2455, Validation Loss: 2.1674\n",
      "Epoch 68/1000, Train Loss: 2.2327, Validation Loss: 2.1746\n",
      "Epoch 69/1000, Train Loss: 2.2313, Validation Loss: 2.1589\n",
      "Epoch 70/1000, Train Loss: 2.2318, Validation Loss: 2.1713\n",
      "Epoch 71/1000, Train Loss: 2.2264, Validation Loss: 2.1634\n",
      "Epoch 72/1000, Train Loss: 2.2292, Validation Loss: 2.1745\n",
      "Epoch 73/1000, Train Loss: 2.2213, Validation Loss: 2.1502\n",
      "Epoch 74/1000, Train Loss: 2.2243, Validation Loss: 2.1683\n",
      "Epoch 75/1000, Train Loss: 2.2172, Validation Loss: 2.1700\n",
      "Epoch 76/1000, Train Loss: 2.2143, Validation Loss: 2.1675\n",
      "Epoch 77/1000, Train Loss: 2.2256, Validation Loss: 2.1841\n",
      "Epoch 78/1000, Train Loss: 2.2218, Validation Loss: 2.1543\n",
      "Epoch 79/1000, Train Loss: 2.2066, Validation Loss: 2.1750\n",
      "Epoch 80/1000, Train Loss: 2.2048, Validation Loss: 2.1690\n",
      "Epoch 81/1000, Train Loss: 2.2020, Validation Loss: 2.1719\n",
      "Epoch 82/1000, Train Loss: 2.2046, Validation Loss: 2.1789\n",
      "Epoch 83/1000, Train Loss: 2.1990, Validation Loss: 2.1711\n",
      "Epoch 84/1000, Train Loss: 2.1927, Validation Loss: 2.1669\n",
      "Epoch 85/1000, Train Loss: 2.1881, Validation Loss: 2.1348\n",
      "Epoch 86/1000, Train Loss: 2.1811, Validation Loss: 2.1516\n",
      "Epoch 87/1000, Train Loss: 2.1782, Validation Loss: 2.1573\n",
      "Epoch 88/1000, Train Loss: 2.1888, Validation Loss: 2.1538\n",
      "Epoch 89/1000, Train Loss: 2.1800, Validation Loss: 2.1441\n",
      "Epoch 90/1000, Train Loss: 2.1752, Validation Loss: 2.1695\n",
      "Epoch 91/1000, Train Loss: 2.1649, Validation Loss: 2.1807\n",
      "Epoch 92/1000, Train Loss: 2.1664, Validation Loss: 2.1711\n",
      "Epoch 93/1000, Train Loss: 2.1636, Validation Loss: 2.1638\n",
      "Epoch 94/1000, Train Loss: 2.1729, Validation Loss: 2.1832\n",
      "Epoch 95/1000, Train Loss: 2.1640, Validation Loss: 2.1659\n",
      "Epoch 96/1000, Train Loss: 2.1636, Validation Loss: 2.1966\n",
      "Epoch 97/1000, Train Loss: 2.1556, Validation Loss: 2.1418\n",
      "Epoch 98/1000, Train Loss: 2.1397, Validation Loss: 2.1772\n",
      "Epoch 99/1000, Train Loss: 2.1477, Validation Loss: 2.1893\n",
      "Epoch 100/1000, Train Loss: 2.1488, Validation Loss: 2.1746\n",
      "Epoch 101/1000, Train Loss: 2.1394, Validation Loss: 2.1705\n",
      "Epoch 102/1000, Train Loss: 2.1391, Validation Loss: 2.1498\n",
      "Epoch 103/1000, Train Loss: 2.1544, Validation Loss: 2.1732\n",
      "Epoch 104/1000, Train Loss: 2.1581, Validation Loss: 2.1716\n",
      "Epoch 105/1000, Train Loss: 2.1349, Validation Loss: 2.1542\n",
      "Epoch 00106: reducing learning rate of group 0 to 1.0000e-04.\n",
      "Epoch 106/1000, Train Loss: 2.1303, Validation Loss: 2.1681\n",
      "Epoch 107/1000, Train Loss: 2.0972, Validation Loss: 2.1551\n",
      "Epoch 108/1000, Train Loss: 2.0794, Validation Loss: 2.1474\n",
      "Epoch 109/1000, Train Loss: 2.0624, Validation Loss: 2.1420\n",
      "Epoch 110/1000, Train Loss: 2.0612, Validation Loss: 2.1415\n",
      "Epoch 111/1000, Train Loss: 2.0469, Validation Loss: 2.1403\n",
      "Epoch 112/1000, Train Loss: 2.0493, Validation Loss: 2.1374\n",
      "Epoch 113/1000, Train Loss: 2.0471, Validation Loss: 2.1358\n",
      "Epoch 114/1000, Train Loss: 2.0539, Validation Loss: 2.1372\n",
      "Epoch 115/1000, Train Loss: 2.0400, Validation Loss: 2.1393\n"
     ]
    }
   ],
   "source": [
    "epoch_counter = 0\n",
    "patience = 30\n",
    "best_loss = float('inf')\n",
    "done = False\n",
    "es = EarlyStopping(patience=patience)\n",
    "tr_losses_fp, val_losses_fp = [],[]\n",
    "\n",
    "while not done and epoch_counter<EPOCHS:\n",
    "    epoch_counter+=1\n",
    "\n",
    "    # train\n",
    "    model.train()\n",
    "    train_losses = []\n",
    "    for x_batch,y_batch in train_loader:\n",
    "        optimizer.zero_grad()\n",
    "        output = model(x_batch)\n",
    "        loss = criterion(output,y_batch)\n",
    "        loss.backward()\n",
    "        optimizer.step()\n",
    "        train_losses.append(loss.item())\n",
    "    train_loss = np.mean(train_losses)\n",
    "    tr_losses_fp.append(train_loss)\n",
    "\n",
    "    # validation\n",
    "    model.eval()\n",
    "    val_losses = []\n",
    "    with torch.no_grad():\n",
    "        for x_batch, y_batch in val_loader:\n",
    "            output = model(x_batch)\n",
    "            loss = criterion(output, y_batch)\n",
    "            val_losses.append(loss.item())\n",
    "    val_loss = np.mean(val_losses)\n",
    "    val_losses_fp.append(val_loss)\n",
    "    scheduler.step(val_loss)\n",
    "\n",
    "    if es(model, val_loss):\n",
    "        done = True\n",
    "\n",
    "    if val_loss < best_loss:\n",
    "        best_loss = val_loss\n",
    "        \n",
    "    print(f\"Epoch {epoch_counter}/{EPOCHS}, Train Loss: {train_loss:.4f}, Validation Loss: {val_loss:.4f}\")"
   ]
  },
  {
   "cell_type": "code",
   "execution_count": 13,
   "id": "5b304f54",
   "metadata": {},
   "outputs": [
    {
     "name": "stdout",
     "output_type": "stream",
     "text": [
      "Best validation loss : 2.134780408173311\n"
     ]
    }
   ],
   "source": [
    "print(f\"Best validation loss : {best_loss}\")"
   ]
  },
  {
   "cell_type": "markdown",
   "id": "p35Js3JKvX-b",
   "metadata": {
    "id": "p35Js3JKvX-b"
   },
   "source": [
    "### Visualize train-validation loss"
   ]
  },
  {
   "cell_type": "code",
   "execution_count": 14,
   "id": "c7ecdc23",
   "metadata": {
    "ExecuteTime": {
     "end_time": "2024-02-12T17:58:11.260213Z",
     "start_time": "2024-02-12T17:58:09.987506Z"
    },
    "colab": {
     "base_uri": "https://localhost:8080/",
     "height": 430
    },
    "id": "c7ecdc23",
    "outputId": "33148bb2-2136-4751-d334-f67609352927"
   },
   "outputs": [
    {
     "data": {
      "image/png": "[encoded data removed]",
      "text/plain": [
       "<Figure size 640x480 with 1 Axes>"
      ]
     },
     "metadata": {},
     "output_type": "display_data"
    }
   ],
   "source": [
    "import matplotlib.pyplot as plt\n",
    "plt.plot(range(len(tr_losses_fp)),tr_losses_fp,color='blue',label='train_loss')\n",
    "plt.plot(range(len(val_losses_fp)),val_losses_fp,color='red',label='val_loss')\n",
    "plt.legend()\n",
    "plt.show()"
   ]
  },
  {
   "cell_type": "markdown",
   "id": "GEyCVeaSveqh",
   "metadata": {
    "id": "GEyCVeaSveqh"
   },
   "source": [
    "### Prediction"
   ]
  },
  {
   "cell_type": "code",
   "execution_count": 21,
   "id": "422f4919",
   "metadata": {
    "ExecuteTime": {
     "end_time": "2024-02-12T17:58:11.291597Z",
     "start_time": "2024-02-12T17:58:11.262216Z"
    },
    "id": "422f4919"
   },
   "outputs": [
    {
     "ename": "AttributeError",
     "evalue": "'Tensor' object has no attribute 'astype'",
     "output_type": "error",
     "traceback": [
      "\u001b[1;31m---------------------------------------------------------------------------\u001b[0m",
      "\u001b[1;31mAttributeError\u001b[0m                            Traceback (most recent call last)",
      "Cell \u001b[1;32mIn[21], line 4\u001b[0m\n\u001b[0;32m      2\u001b[0m model\u001b[38;5;241m.\u001b[39meval()\n\u001b[0;32m      3\u001b[0m \u001b[38;5;28;01mwith\u001b[39;00m torch\u001b[38;5;241m.\u001b[39mno_grad():\n\u001b[1;32m----> 4\u001b[0m     X_test \u001b[38;5;241m=\u001b[39m torch\u001b[38;5;241m.\u001b[39mtensor(\u001b[43mX_test\u001b[49m\u001b[38;5;241;43m.\u001b[39;49m\u001b[43mastype\u001b[49m(np\u001b[38;5;241m.\u001b[39mfloat32), dtype \u001b[38;5;241m=\u001b[39m torch\u001b[38;5;241m.\u001b[39mfloat32)\n\u001b[0;32m      5\u001b[0m     pred \u001b[38;5;241m=\u001b[39m model(X_test)\n\u001b[0;32m      7\u001b[0m pred \u001b[38;5;241m=\u001b[39m pred\u001b[38;5;241m.\u001b[39mdetach()\u001b[38;5;241m.\u001b[39mnumpy()\n",
      "\u001b[1;31mAttributeError\u001b[0m: 'Tensor' object has no attribute 'astype'"
     ]
    }
   ],
   "source": [
    "# evaluation\n",
    "model.eval()\n",
    "with torch.no_grad():\n",
    "    X_test = torch.tensor(X_test.astype(np.float32), dtype = torch.float32)\n",
    "    pred = model(X_test)\n",
    "\n",
    "pred = pred.detach().numpy()\n",
    "print(pred)"
   ]
  },
  {
   "cell_type": "code",
   "execution_count": 16,
   "id": "f48ebd4a",
   "metadata": {},
   "outputs": [],
   "source": [
    "if TARGET == \"1d_ROC\" :\n",
    "    endPrice = data['Close'].iloc[-1]\n",
    "    pred_close = []\n",
    "\n",
    "    for i in pred[0] :\n",
    "        endPrice = endPrice + endPrice*0.01*i\n",
    "        pred_close.append(endPrice)\n",
    "\n",
    "    pred = np.array(pred_close).reshape(1, PRED_SIZE)\n",
    "    pred\n",
    "else :\n",
    "    pass"
   ]
  },
  {
   "cell_type": "code",
   "execution_count": 17,
   "id": "c0128f22",
   "metadata": {
    "ExecuteTime": {
     "end_time": "2024-02-12T17:58:11.493811Z",
     "start_time": "2024-02-12T17:58:11.309357Z"
    },
    "colab": {
     "base_uri": "https://localhost:8080/",
     "height": 430
    },
    "id": "c0128f22",
    "outputId": "7b885602-ad8d-4661-c240-879c5f0ad0ec"
   },
   "outputs": [
    {
     "data": {
      "image/png": "[encoded data removed]",
      "text/plain": [
       "<Figure size 640x480 with 1 Axes>"
      ]
     },
     "metadata": {},
     "output_type": "display_data"
    }
   ],
   "source": [
    "pred_length = len(np.reshape(pred, (-1)))\n",
    "pred_indices = list(range(pred_length))\n",
    "plt.plot(pred_indices, np.reshape(pred, (-1)), color='red', alpha=0.6, label='Prediction')\n",
    "plt.legend()\n",
    "\n",
    "plt.show()"
   ]
  },
  {
   "cell_type": "markdown",
   "id": "px8U_s7cvwZ0",
   "metadata": {
    "id": "px8U_s7cvwZ0"
   },
   "source": [
    "### Evaluation"
   ]
  },
  {
   "cell_type": "code",
   "execution_count": 18,
   "id": "5733ca84",
   "metadata": {
    "colab": {
     "base_uri": "https://localhost:8080/",
     "height": 751
    },
    "id": "5733ca84",
    "outputId": "69de5ace-04f6-4f23-e16c-66d73e48fd2c",
    "scrolled": false
   },
   "outputs": [
    {
     "data": {
      "image/png": "[encoded data removed]",
      "text/plain": [
       "<Figure size 1200x600 with 1 Axes>"
      ]
     },
     "metadata": {},
     "output_type": "display_data"
    },
    {
     "data": {
      "text/plain": [
       "{'2024-01-02': 3.607331516933536,\n",
       " '2024-01-03': 3.766028052924961,\n",
       " '2024-01-04': 3.642857621778802,\n",
       " '2024-01-05': 5.2969583744349995,\n",
       " '2024-01-08': 4.12487865655282,\n",
       " '2024-01-09': 5.850336824184196,\n",
       " '2024-01-10': 7.283013407898357,\n",
       " '2024-01-11': 4.249341597647682,\n",
       " '2024-01-12': 4.323960563850832,\n",
       " '2024-01-16': 6.842349365351595}"
      ]
     },
     "execution_count": 18,
     "metadata": {},
     "output_type": "execute_result"
    }
   ],
   "source": [
    "# Label\n",
    "label = pd.read_csv('2024_JAN.csv') # 각자 test.csv 파일 경로\n",
    "label = np.array(label.head(PRED_SIZE)[\"Close Price\"])\n",
    "\n",
    "# Prediction\n",
    "pred = np.array(pred).reshape(PRED_SIZE)\n",
    "\n",
    "# 날짜 데이터\n",
    "period = pd.read_csv('2024_JAN.csv')[\"Date\"]\n",
    "period = [d for d in period.head(PRED_SIZE)]\n",
    "\n",
    "# 오차율 계산\n",
    "error_rate = np.abs((label - pred) / label) * 100\n",
    "\n",
    "# 시각화\n",
    "plt.figure(figsize=(12, 6))\n",
    "plt.plot(period, label, marker='o', color='blue', label='Actual Close Price')\n",
    "plt.plot(period, pred, marker='x', color='red', linestyle='--', label='Predicted Close Price')\n",
    "\n",
    "# 오차율을 각 포인트에 텍스트로 표시\n",
    "for date, lbl, prd, err in zip(period, label, pred, error_rate):\n",
    "    plt.text(date, prd, f'{err:.2f}%', color='black', ha='right', va='bottom')\n",
    "\n",
    "plt.xticks(rotation = 45)  # 날짜 레이블 회전\n",
    "plt.xlabel('Date')\n",
    "plt.ylabel('Close Price')\n",
    "plt.title(f'model = LSTM, data = {dataname}, target = {TARGET}, seq_size = {SEQ_SIZE}, pred_size = {PRED_SIZE}, batch_size = {BATCH_SIZE}, model_size = {HIDDEN_SIZE}')\n",
    "plt.legend()\n",
    "plt.tight_layout()  # 레이아웃 조정\n",
    "plt.show()\n",
    "\n",
    "# 오차율을 출력\n",
    "error_rate_dict = dict(zip(period, error_rate))\n",
    "error_rate_dict"
   ]
  },
  {
   "cell_type": "code",
   "execution_count": 19,
   "id": "iPM0up4JhqP-",
   "metadata": {
    "colab": {
     "base_uri": "https://localhost:8080/"
    },
    "id": "iPM0up4JhqP-",
    "outputId": "a118635b-726d-4e6f-c976-50d6e133f128"
   },
   "outputs": [
    {
     "name": "stdout",
     "output_type": "stream",
     "text": [
      "Average Error Rate: 4.90%\n"
     ]
    }
   ],
   "source": [
    "# 평균 오차율 계산\n",
    "average_error_rate = np.mean(error_rate)\n",
    "\n",
    "print(f\"Average Error Rate: {average_error_rate:.2f}%\")"
   ]
  },
  {
   "cell_type": "markdown",
   "id": "7e512f26",
   "metadata": {},
   "source": [
    "## 이거 그대로 스크롤해서 result 엑셀에 붙여넣기!!"
   ]
  },
  {
   "cell_type": "code",
   "execution_count": null,
   "id": "af4cdc30",
   "metadata": {},
   "outputs": [],
   "source": [
    "for price in pred :\n",
    "    print(price)"
   ]
  }
 ],
 "metadata": {
  "colab": {
   "provenance": []
  },
  "kernelspec": {
   "display_name": "Python 3 (ipykernel)",
   "language": "python",
   "name": "python3"
  },
  "language_info": {
   "codemirror_mode": {
    "name": "ipython",
    "version": 3
   },
   "file_extension": ".py",
   "mimetype": "text/x-python",
   "name": "python",
   "nbconvert_exporter": "python",
   "pygments_lexer": "ipython3",
   "version": "3.9.6"
  },
  "toc": {
   "base_numbering": 1,
   "nav_menu": {},
   "number_sections": false,
   "sideBar": true,
   "skip_h1_title": false,
   "title_cell": "Table of Contents",
   "title_sidebar": "Contents",
   "toc_cell": false,
   "toc_position": {},
   "toc_section_display": true,
   "toc_window_display": false
  }
 },
 "nbformat": 4,
 "nbformat_minor": 5
}
