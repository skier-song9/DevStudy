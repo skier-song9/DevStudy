{
 "cells": [
  {
   "cell_type": "markdown",
   "id": "fc80feb9",
   "metadata": {},
   "source": [
    "### Import dataset"
   ]
  },
  {
   "cell_type": "code",
   "execution_count": 1,
   "id": "33850317",
   "metadata": {
    "ExecuteTime": {
     "end_time": "2024-02-22T11:04:15.842526Z",
     "start_time": "2024-02-22T11:04:15.821979Z"
    }
   },
   "outputs": [],
   "source": [
    "# from google.colab import drive\n",
    "\n",
    "# # Mount Google Drive\n",
    "# drive.mount('/content/drive')"
   ]
  },
  {
   "cell_type": "code",
   "execution_count": 2,
   "id": "2059c61b",
   "metadata": {
    "ExecuteTime": {
     "end_time": "2024-02-22T11:04:30.343235Z",
     "start_time": "2024-02-22T11:04:15.846538Z"
    },
    "colab": {
     "base_uri": "https://localhost:8080/",
     "height": 617
    },
    "id": "2059c61b",
    "outputId": "576afb16-4157-4337-f4db-d04264361874"
   },
   "outputs": [
    {
     "name": "stdout",
     "output_type": "stream",
     "text": [
      "Note: not using Google CoLab\n",
      "Using device: cuda\n"
     ]
    }
   ],
   "source": [
    "import pandas as pd\n",
    "import numpy as np\n",
    "# import category_encoders as ce\n",
    "# import copy\n",
    "# import polars as pl\n",
    "\n",
    "# Visualization\n",
    "import matplotlib.pylab as plt\n",
    "from matplotlib import font_manager, rc\n",
    "import matplotlib\n",
    "import seaborn as sns\n",
    "# import plotly.express as px\n",
    "# %matplotlib inline\n",
    "# matplotlib.rcParams['font.family'] = 'Malgun Gothic' # 한글 패치\n",
    "# Preprocessing & Feature Engineering\n",
    "from sklearn.model_selection import train_test_split\n",
    "from sklearn.preprocessing import MinMaxScaler, LabelEncoder, OneHotEncoder\n",
    "from sklearn.impute import SimpleImputer\n",
    "from sklearn.preprocessing import StandardScaler\n",
    "from sklearn.preprocessing import MinMaxScaler\n",
    "from sklearn.preprocessing import PowerTransformer\n",
    "from sklearn.feature_selection import SelectPercentile\n",
    "from sklearn.decomposition import PCA\n",
    "\n",
    "# Hyperparameter Optimization\n",
    "from sklearn.model_selection import GridSearchCV\n",
    "from sklearn.model_selection import RandomizedSearchCV\n",
    "\n",
    "# Modeling\n",
    "# from sklearn.dummy import DummyClassifier\n",
    "from sklearn.linear_model import LogisticRegression\n",
    "# from sklearn.neighbors import KNeighborsClassifier\n",
    "# from sklearn.ensemble import RandomForestClassifier\n",
    "# from sklearn.neural_network import MLPClassifier\n",
    "# from sklearn.tree import DecisionTreeClassifier\n",
    "# from sklearn.ensemble import ExtraTreesClassifier\n",
    "# from sklearn.ensemble import GradientBoostingClassifier\n",
    "from xgboost import XGBClassifier, XGBRegressor, XGBRFRegressor\n",
    "from lightgbm import LGBMClassifier, LGBMRegressor\n",
    "from sklearn.svm import SVC\n",
    "from sklearn.ensemble import VotingClassifier, VotingRegressor\n",
    "from sklearn.ensemble import StackingClassifier, StackingRegressor\n",
    "# from sklearn.base import ClassifierMixin\n",
    "\n",
    "# CatBoost\n",
    "# from catboost import CatBoostRegressor\n",
    "\n",
    "# PyTorch\n",
    "import torch\n",
    "import torch.nn.init as init\n",
    "from torch.utils.data import Dataset, DataLoader, TensorDataset\n",
    "import torch.nn as nn\n",
    "import torch.nn.functional as F\n",
    "import torch.optim as optim\n",
    "from torch.autograd import Variable\n",
    "from torch.nn import Parameter\n",
    "from torch import Tensor\n",
    "from torch.utils.data import DataLoader\n",
    "from torch.optim.lr_scheduler import ReduceLROnPlateau\n",
    "\n",
    "# Evaluation\n",
    "from sklearn.metrics import roc_auc_score\n",
    "from sklearn.metrics import accuracy_score\n",
    "from sklearn.model_selection import cross_val_score\n",
    "from sklearn.metrics import log_loss,mean_squared_error\n",
    "import sklearn\n",
    "\n",
    "# Utility\n",
    "import os\n",
    "import time\n",
    "import datetime # ⚠️2019년 12월30일과 31일의 week of year가 1인 오류가 있음\n",
    "import random\n",
    "import warnings; warnings.filterwarnings(\"ignore\")\n",
    "from IPython.display import Image\n",
    "import pickle\n",
    "from tqdm import tqdm\n",
    "import platform\n",
    "from itertools import combinations,product\n",
    "from scipy.stats.mstats import gmean\n",
    "import holidays\n",
    "\n",
    "# from bayes_opt import BayesianOptimization\n",
    "# from num2words import num2words\n",
    "import statsmodels.api as sm\n",
    "import statsmodels.formula.api as smf\n",
    "from statsmodels.stats.outliers_influence import OLSInfluence\n",
    "\n",
    "pd.set_option('display.max_row',None)\n",
    "pd.set_option('display.max_column',None)\n",
    "\n",
    "### Setting universal random_state\n",
    "np.random.seed(142)\n",
    "random.seed(142)\n",
    "sklearn.utils.check_random_state(142)\n",
    "torch.manual_seed(142)\n",
    "torch.backends.cudnn.deterministic=True\n",
    "torch.backends.cudnn.benchmark=False\n",
    "\n",
    "try:\n",
    "    import google.colab\n",
    "    COLAB = True\n",
    "    print(\"Note: using Google CoLab\")\n",
    "except:\n",
    "    print(\"Note: not using Google CoLab\")\n",
    "    COLAB = False\n",
    "\n",
    "# Make use of a GPU or MPS (Apple) if one is available.  (see module 3.2)\n",
    "has_mps = torch.backends.mps.is_built()\n",
    "device = \"mps\" if has_mps else \"cuda\" if torch.cuda.is_available() else \"cpu\"\n",
    "print(f\"Using device: {device}\")"
   ]
  },
  {
   "cell_type": "markdown",
   "id": "zVBHDA4xub-S",
   "metadata": {
    "id": "zVBHDA4xub-S"
   },
   "source": [
    "### Merge dataset"
   ]
  },
  {
   "cell_type": "code",
   "execution_count": 3,
   "id": "jPRldaW5c653",
   "metadata": {
    "ExecuteTime": {
     "end_time": "2024-02-22T11:04:30.374509Z",
     "start_time": "2024-02-22T11:04:30.346607Z"
    },
    "id": "jPRldaW5c653"
   },
   "outputs": [],
   "source": [
    "class PrepareData():\n",
    "    def __init__(self,stock_fp,news_fp):\n",
    "        self.stock_filepath = stock_fp\n",
    "        self.news_filepath = news_fp\n",
    "        self.topic_classes = ['CEO', 'CFO', 'Layoffs', 'Political', 'PressRelease', 'Undefined',\n",
    "       'cramer', 'earnings', 'gold', 'manda', 'paylimitwall', 'paywall',\n",
    "       'product', 'recession', 'tanalysis'] # undefined의 class가 5\n",
    "\n",
    "    def load_data(self):\n",
    "        stock = pd.read_csv(self.stock_filepath,index_col=0)\n",
    "        news = pd.read_csv(self.news_filepath,index_col=0)\n",
    "        ### parse date manually\n",
    "        stock['Date'] = pd.to_datetime(stock['Date'])\n",
    "        news['date'] = pd.to_datetime(news['date'])\n",
    "        return stock, news\n",
    "\n",
    "    def merging(self, stock, news):\n",
    "        ### fill na value of PINS column\n",
    "#         stock['PINS'] = stock['PINS'].fillna(stock['PINS'].iloc[75])\n",
    "\n",
    "        ### drop 'news_id' column\n",
    "#         news = news.drop(columns=['news_id'])\n",
    "\n",
    "        ### add date range from 18.01.02 to 18.12.31\n",
    "        temp_range = pd.DataFrame(dict(zip(stock.columns,[pd.date_range(start='2018-01-02',end='2018-12-31'),\n",
    "                                0,0,0,0, # 4\n",
    "                                0,0,0,0,\n",
    "                                0,0,0,0,\n",
    "                                0,0,0,0, # 16\n",
    "                                0,0,0,0,\n",
    "                                0,0,0,0,\n",
    "                                0,0,0,0, # 28\n",
    "                                0,0,0,0,\n",
    "                                0,0,0,0, # 36\n",
    "                                0 # 37\n",
    "                            ])))\n",
    "        stock_inc = pd.concat([temp_range,stock],axis=0)\n",
    "\n",
    "        ### merge stock_inc and news\n",
    "        # left = stock_inc\n",
    "        # on = date\n",
    "        # how = left\n",
    "        # rename 'date' to 'Date' of news df\n",
    "        news = news.rename(columns={'date':'Date'})\n",
    "        merged = pd.merge(left=stock_inc,right=news,on='Date',how='left')\n",
    "\n",
    "        ### Cut before 2018-02-13\n",
    "        merged = merged[42:].reset_index(drop=True)\n",
    "\n",
    "        # fill na with latest non-null values\n",
    "        columns_to_fill = ['source_name', 'topics', 'rank_score',\n",
    "                        'sentiment_Negative','sentiment_Neutral',\n",
    "                        'sentiment_Positive', 'type_Article', 'type_Video']\n",
    "        merged_fillna = merged.copy()\n",
    "        for column in columns_to_fill:\n",
    "            merged_fillna[column].fillna(method='ffill',inplace=True)\n",
    "\n",
    "        ### add moving average to sentiments\n",
    "        ma_nums = [5,60,120]\n",
    "        def mode_window(window):\n",
    "            return window.mode().iloc[0] if not len(window.mode())==0 else None\n",
    "        for num in ma_nums:\n",
    "            merged_fillna[f'{num}MA_sent_Neg']=merged_fillna['sentiment_Negative'].rolling(\n",
    "            window=num).mean()\n",
    "            merged_fillna[f'{num}MA_sent_Neu']=merged_fillna['sentiment_Neutral'].rolling(\n",
    "            window=num).mean()\n",
    "            merged_fillna[f'{num}MA_sent_Pos']=merged_fillna['sentiment_Positive'].rolling(\n",
    "            window=num).mean()\n",
    "        ### add moving mode to sentiments\n",
    "        for num in ma_nums:\n",
    "            merged_fillna[f'{num}MM_sent_Neg']=merged_fillna['sentiment_Negative'].rolling(\n",
    "            window=num).apply(mode_window)\n",
    "            merged_fillna[f'{num}MM_sent_Neu']=merged_fillna['sentiment_Neutral'].rolling(\n",
    "            window=num).apply(mode_window)\n",
    "            merged_fillna[f'{num}MM_sent_Pos']=merged_fillna['sentiment_Positive'].rolling(\n",
    "            window=num).apply(mode_window)\n",
    "        ### adding moving mode to topics\n",
    "        for num in ma_nums:\n",
    "            merged_fillna[f'{num}MM_topics']=merged_fillna['topics'].rolling(\n",
    "            window=num).apply(mode_window)\n",
    "\n",
    "        ### drop before 2019-01-02\n",
    "        total_df = merged_fillna.iloc[322:]\n",
    "        total_df = total_df.reset_index(drop=True)\n",
    "\n",
    "        ### drop unnecessaray columns\n",
    "        drop_cols = ['source_name','topics','rank_score',\n",
    "                    'sentiment_Negative','sentiment_Neutral',\n",
    "                    'sentiment_Positive','type_Article','type_Video']\n",
    "        total_df = total_df.drop(columns=drop_cols)\n",
    "\n",
    "        return total_df"
   ]
  },
  {
   "cell_type": "code",
   "execution_count": 4,
   "id": "cXT6Ts-1dPIr",
   "metadata": {
    "ExecuteTime": {
     "end_time": "2024-02-22T11:04:35.264684Z",
     "start_time": "2024-02-22T11:04:30.377522Z"
    },
    "id": "cXT6Ts-1dPIr"
   },
   "outputs": [],
   "source": [
    "stock_filepath = '../../data/stock_price/netflix_60.csv' # 각자 파일 경로 설정\n",
    "news_filepath = '../../data/scraping/news_processed_filtered_2.csv'\n",
    "# stock_filepath = './drive/MyDrive/Colab Notebooks/data/bitamin_mini_project/netflix_60.csv'\n",
    "# news_filepath = './drive/MyDrive/Colab Notebooks/data/bitamin_mini_project/news_processed_filtered_2.csv'\n",
    "loader = PrepareData(stock_filepath, news_filepath)\n",
    "stock_df, news_df=loader.load_data() # >> 감성분석 미포함으로 모델 돌릴 땐 stock_df 바로 사용하면 됨\n",
    "total_df = loader.merging(stock=stock_df, news=news_df) # 주식데이터셋에 감성분석,토픽 포함시킨 전체 데이터셋\n",
    "testfile = '../../data/test.csv'\n",
    "test_df = pd.read_csv(testfile)\n",
    "\n",
    "stock_df.index = stock_df[\"Date\"]\n",
    "stock_df.drop(columns = \"Date\", inplace = True)\n",
    "stock_df[\"PINS\"].fillna(24.99, inplace = True)\n",
    "total_df.index = total_df[\"Date\"]\n",
    "total_df.drop(columns = \"Date\", inplace = True)\n",
    "total_df[\"PINS\"].fillna(24.99, inplace = True)"
   ]
  },
  {
   "cell_type": "code",
   "execution_count": 5,
   "id": "ebdda22a",
   "metadata": {
    "ExecuteTime": {
     "end_time": "2024-02-22T11:04:35.283487Z",
     "start_time": "2024-02-22T11:04:35.268819Z"
    },
    "scrolled": false
   },
   "outputs": [],
   "source": [
    "# pd.set_option('display.max_row',20)\n",
    "# pd.set_option('display.max_column',8)\n",
    "# total_df[['5MA_sent_Neg','5MA_sent_Neu','5MA_sent_Pos','60MA_sent_Neg',\n",
    "#           '60MA_sent_Neu','60MA_sent_Pos','120MA_sent_Neg','120MA_sent_Neu',\n",
    "#           '120MA_sent_Pos','5MM_sent_Neg','5MM_sent_Neu','5MM_sent_Pos',\n",
    "#           '60MM_sent_Neg','60MM_sent_Neu','60MM_sent_Pos','120MM_sent_Neg',\n",
    "#           '120MM_sent_Neu','120MM_sent_Pos','5MM_topics','60MM_topics',\n",
    "#           '120MM_topics']].iloc[0:115]"
   ]
  },
  {
   "cell_type": "code",
   "execution_count": 6,
   "id": "956bfbf4",
   "metadata": {
    "ExecuteTime": {
     "end_time": "2024-02-22T11:04:35.317823Z",
     "start_time": "2024-02-22T11:04:35.285750Z"
    }
   },
   "outputs": [
    {
     "data": {
      "text/html": [
       "<div>\n",
       "<style scoped>\n",
       "    .dataframe tbody tr th:only-of-type {\n",
       "        vertical-align: middle;\n",
       "    }\n",
       "\n",
       "    .dataframe tbody tr th {\n",
       "        vertical-align: top;\n",
       "    }\n",
       "\n",
       "    .dataframe thead th {\n",
       "        text-align: right;\n",
       "    }\n",
       "</style>\n",
       "<table border=\"1\" class=\"dataframe\">\n",
       "  <thead>\n",
       "    <tr style=\"text-align: right;\">\n",
       "      <th></th>\n",
       "      <th>data</th>\n",
       "      <th>target</th>\n",
       "      <th>seq_size</th>\n",
       "      <th>pred_size</th>\n",
       "      <th>batch_size</th>\n",
       "      <th>hidden_size</th>\n",
       "      <th>best_val_loss</th>\n",
       "      <th>mean_error_ratio</th>\n",
       "    </tr>\n",
       "  </thead>\n",
       "  <tbody>\n",
       "    <tr>\n",
       "      <th>0</th>\n",
       "      <td>0</td>\n",
       "      <td>0</td>\n",
       "      <td>0</td>\n",
       "      <td>0</td>\n",
       "      <td>0</td>\n",
       "      <td>0</td>\n",
       "      <td>0</td>\n",
       "      <td>0</td>\n",
       "    </tr>\n",
       "  </tbody>\n",
       "</table>\n",
       "</div>"
      ],
      "text/plain": [
       "   data  target  seq_size  pred_size  batch_size  hidden_size  best_val_loss  \\\n",
       "0     0       0         0          0           0            0              0   \n",
       "\n",
       "   mean_error_ratio  \n",
       "0                 0  "
      ]
     },
     "execution_count": 6,
     "metadata": {},
     "output_type": "execute_result"
    }
   ],
   "source": [
    " result_df = pd.DataFrame({\n",
    "    'data':[0],\n",
    "    'target':[0],\n",
    "    'seq_size':[0],\n",
    "    'pred_size':[0],\n",
    "    'batch_size':[0],\n",
    "    'hidden_size':[0],\n",
    "    'best_val_loss':[0],\n",
    "    'mean_error_ratio':[0]\n",
    "})\n",
    "result_df"
   ]
  },
  {
   "cell_type": "code",
   "execution_count": null,
   "id": "d72e804a",
   "metadata": {},
   "outputs": [],
   "source": []
  },
  {
   "cell_type": "code",
   "execution_count": 7,
   "id": "ef3a74ee",
   "metadata": {
    "ExecuteTime": {
     "end_time": "2024-02-22T14:46:54.089321Z",
     "start_time": "2024-02-22T11:04:35.321948Z"
    },
    "scrolled": false
   },
   "outputs": [
    {
     "name": "stdout",
     "output_type": "stream",
     "text": [
      "🔸START - Transformer_total_df_1d_ROC_seq120_batch1_hidden64🔸\n"
     ]
    },
    {
     "name": "stderr",
     "output_type": "stream",
     "text": [
      "\r",
      "  0%|                                                                                           | 0/10 [00:00<?, ?it/s]"
     ]
    },
    {
     "name": "stdout",
     "output_type": "stream",
     "text": [
      "Epoch 20/1000, Train Loss: 2.5475, Validation Loss: 2.5066\n",
      "Epoch 40/1000, Train Loss: 2.5249, Validation Loss: 2.4814\n",
      "Epoch 60/1000, Train Loss: 2.5210, Validation Loss: 2.4798\n",
      "Epoch 80/1000, Train Loss: 2.5130, Validation Loss: 2.4782\n",
      "Epoch 100/1000, Train Loss: 2.5091, Validation Loss: 2.4755\n",
      "Epoch 00109: reducing learning rate of group 0 to 1.0000e-04.\n",
      "Epoch 120/1000, Train Loss: 2.4961, Validation Loss: 2.4672\n",
      "Epoch 00136: reducing learning rate of group 0 to 1.0000e-05.\n",
      "Epoch 140/1000, Train Loss: 2.4942, Validation Loss: 2.4682\n"
     ]
    },
    {
     "name": "stderr",
     "output_type": "stream",
     "text": [
      "\r",
      " 10%|███████▉                                                                       | 1/10 [30:55<4:38:15, 1855.03s/it]"
     ]
    },
    {
     "name": "stdout",
     "output_type": "stream",
     "text": [
      "Best validation loss : 2.466090818685768\n",
      "Average Error Rate: 2.03%\n",
      "Epoch 20/1000, Train Loss: 2.5306, Validation Loss: 2.4818\n",
      "Epoch 40/1000, Train Loss: 2.5184, Validation Loss: 2.4793\n",
      "Epoch 60/1000, Train Loss: 2.5117, Validation Loss: 2.4729\n",
      "Epoch 00075: reducing learning rate of group 0 to 1.0000e-04.\n",
      "Epoch 80/1000, Train Loss: 2.4944, Validation Loss: 2.4652\n",
      "Epoch 00096: reducing learning rate of group 0 to 1.0000e-05.\n",
      "Epoch 100/1000, Train Loss: 2.4904, Validation Loss: 2.4668\n"
     ]
    },
    {
     "name": "stderr",
     "output_type": "stream",
     "text": [
      "\r",
      " 20%|███████████████▊                                                               | 2/10 [53:30<3:28:08, 1561.05s/it]"
     ]
    },
    {
     "name": "stdout",
     "output_type": "stream",
     "text": [
      "Best validation loss : 2.4640632925835333\n",
      "Average Error Rate: 1.92%\n",
      "Epoch 20/1000, Train Loss: 2.5331, Validation Loss: 2.4816\n",
      "Epoch 40/1000, Train Loss: 2.5232, Validation Loss: 2.4976\n",
      "Epoch 00043: reducing learning rate of group 0 to 1.0000e-04.\n"
     ]
    },
    {
     "name": "stderr",
     "output_type": "stream",
     "text": [
      "\r",
      " 30%|███████████████████████                                                      | 3/10 [1:04:21<2:13:38, 1145.56s/it]"
     ]
    },
    {
     "name": "stdout",
     "output_type": "stream",
     "text": [
      "Best validation loss : 2.4801408724974743\n",
      "Average Error Rate: 1.92%\n",
      "Epoch 20/1000, Train Loss: 2.5334, Validation Loss: 2.4922\n",
      "Epoch 40/1000, Train Loss: 2.5145, Validation Loss: 2.5032\n",
      "Epoch 00060: reducing learning rate of group 0 to 1.0000e-04.\n",
      "Epoch 60/1000, Train Loss: 2.5093, Validation Loss: 2.4736\n",
      "Epoch 80/1000, Train Loss: 2.4944, Validation Loss: 2.4734\n",
      "Epoch 00093: reducing learning rate of group 0 to 1.0000e-05.\n",
      "Epoch 100/1000, Train Loss: 2.4907, Validation Loss: 2.4737\n"
     ]
    },
    {
     "name": "stderr",
     "output_type": "stream",
     "text": [
      "\r",
      " 40%|██████████████████████████████▊                                              | 4/10 [1:25:53<2:00:19, 1203.31s/it]"
     ]
    },
    {
     "name": "stdout",
     "output_type": "stream",
     "text": [
      "Best validation loss : 2.470663995869392\n",
      "Average Error Rate: 2.00%\n",
      "Epoch 20/1000, Train Loss: 2.5371, Validation Loss: 2.4960\n",
      "Epoch 40/1000, Train Loss: 2.5216, Validation Loss: 2.4843\n",
      "Epoch 60/1000, Train Loss: 2.5167, Validation Loss: 2.5096\n",
      "Epoch 80/1000, Train Loss: 2.5068, Validation Loss: 2.4821\n",
      "Epoch 100/1000, Train Loss: 2.4999, Validation Loss: 2.4763\n",
      "Epoch 00108: reducing learning rate of group 0 to 1.0000e-04.\n",
      "Epoch 120/1000, Train Loss: 2.4863, Validation Loss: 2.4777\n",
      "Epoch 00129: reducing learning rate of group 0 to 1.0000e-05.\n"
     ]
    },
    {
     "name": "stderr",
     "output_type": "stream",
     "text": [
      "\r",
      " 50%|██████████████████████████████████████▌                                      | 5/10 [1:54:44<1:56:08, 1393.69s/it]"
     ]
    },
    {
     "name": "stdout",
     "output_type": "stream",
     "text": [
      "Best validation loss : 2.4697323523264014\n",
      "Average Error Rate: 2.79%\n",
      "Epoch 20/1000, Train Loss: 2.5436, Validation Loss: 2.4954\n",
      "Epoch 40/1000, Train Loss: 2.5299, Validation Loss: 2.4878\n",
      "Epoch 60/1000, Train Loss: 2.5122, Validation Loss: 2.4758\n",
      "Epoch 80/1000, Train Loss: 2.5085, Validation Loss: 2.4682\n",
      "Epoch 100/1000, Train Loss: 2.5011, Validation Loss: 2.4725\n",
      "Epoch 00105: reducing learning rate of group 0 to 1.0000e-04.\n"
     ]
    },
    {
     "name": "stderr",
     "output_type": "stream",
     "text": [
      "\r",
      " 60%|██████████████████████████████████████████████▏                              | 6/10 [2:13:12<1:26:25, 1296.49s/it]"
     ]
    },
    {
     "name": "stdout",
     "output_type": "stream",
     "text": [
      "Best validation loss : 2.4679099738070396\n",
      "Average Error Rate: 1.78%\n",
      "Epoch 20/1000, Train Loss: 2.5386, Validation Loss: 2.4896\n",
      "Epoch 40/1000, Train Loss: 2.5257, Validation Loss: 2.4816\n",
      "Epoch 60/1000, Train Loss: 2.5197, Validation Loss: 2.4892\n",
      "Epoch 80/1000, Train Loss: 2.5133, Validation Loss: 2.4866\n",
      "Epoch 100/1000, Train Loss: 2.5022, Validation Loss: 2.4779\n",
      "Epoch 120/1000, Train Loss: 2.5104, Validation Loss: 2.4831\n",
      "Epoch 00129: reducing learning rate of group 0 to 1.0000e-04.\n"
     ]
    },
    {
     "name": "stderr",
     "output_type": "stream",
     "text": [
      "\r",
      " 70%|█████████████████████████████████████████████████████▉                       | 7/10 [2:40:24<1:10:18, 1406.23s/it]"
     ]
    },
    {
     "name": "stdout",
     "output_type": "stream",
     "text": [
      "Best validation loss : 2.463411228582922\n",
      "Average Error Rate: 3.07%\n",
      "Epoch 20/1000, Train Loss: 2.5293, Validation Loss: 2.4835\n",
      "Epoch 40/1000, Train Loss: 2.5141, Validation Loss: 2.4741\n",
      "Epoch 60/1000, Train Loss: 2.5022, Validation Loss: 2.4626\n",
      "Epoch 80/1000, Train Loss: 2.5022, Validation Loss: 2.4694\n",
      "Epoch 00085: reducing learning rate of group 0 to 1.0000e-04.\n"
     ]
    },
    {
     "name": "stderr",
     "output_type": "stream",
     "text": [
      "\r",
      " 80%|███████████████████████████████████████████████████████████████▏               | 8/10 [2:57:31<42:51, 1285.63s/it]"
     ]
    },
    {
     "name": "stdout",
     "output_type": "stream",
     "text": [
      "Best validation loss : 2.460884265403832\n",
      "Average Error Rate: 1.83%\n",
      "Epoch 20/1000, Train Loss: 2.5376, Validation Loss: 2.4887\n",
      "Epoch 40/1000, Train Loss: 2.5185, Validation Loss: 2.4804\n",
      "Epoch 60/1000, Train Loss: 2.5169, Validation Loss: 2.4803\n",
      "Epoch 80/1000, Train Loss: 2.5048, Validation Loss: 2.4752\n",
      "Epoch 00090: reducing learning rate of group 0 to 1.0000e-04.\n"
     ]
    },
    {
     "name": "stderr",
     "output_type": "stream",
     "text": [
      "\r",
      " 90%|███████████████████████████████████████████████████████████████████████        | 9/10 [3:18:25<21:15, 1275.56s/it]"
     ]
    },
    {
     "name": "stdout",
     "output_type": "stream",
     "text": [
      "Best validation loss : 2.4680029694485452\n",
      "Average Error Rate: 2.16%\n",
      "Epoch 20/1000, Train Loss: 2.5257, Validation Loss: 2.4855\n",
      "Epoch 40/1000, Train Loss: 2.5144, Validation Loss: 2.4719\n",
      "Epoch 60/1000, Train Loss: 2.5029, Validation Loss: 2.4689\n",
      "Epoch 00068: reducing learning rate of group 0 to 1.0000e-04.\n",
      "Epoch 80/1000, Train Loss: 2.4856, Validation Loss: 2.4657\n",
      "Epoch 100/1000, Train Loss: 2.4856, Validation Loss: 2.4697\n",
      "Epoch 00101: reducing learning rate of group 0 to 1.0000e-05.\n"
     ]
    },
    {
     "name": "stderr",
     "output_type": "stream",
     "text": [
      "100%|██████████████████████████████████████████████████████████████████████████████| 10/10 [3:42:17<00:00, 1333.80s/it]"
     ]
    },
    {
     "name": "stdout",
     "output_type": "stream",
     "text": [
      "Best validation loss : 2.4657261980845866\n",
      "Average Error Rate: 1.73%\n",
      "🔸END🔸\n"
     ]
    },
    {
     "name": "stderr",
     "output_type": "stream",
     "text": [
      "\n"
     ]
    }
   ],
   "source": [
    "best_losses = []\n",
    "mean_error_ratios = []\n",
    "\n",
    "datanames = ['total_df']#,'stock_df']\n",
    "\n",
    "for dataname in datanames:\n",
    "    ### Choose dataset & Hyperparameter setting\n",
    "    if dataname=='total_df':\n",
    "        data = total_df\n",
    "    else:\n",
    "        data = stock_df\n",
    "    MODEL = 'Transformer'                 # 'LSTM' / 'GRU' / 'Transformer'\n",
    "    TARGET = \"1d_ROC\"                      # \"Close\" / \"1d_ROC\"\n",
    "    SEQ_SIZE = 120                         # 30 / 60 / 120\n",
    "    PRED_SIZE = 10\n",
    "    BATCH_SIZE = 1                        # 1 / 4 / 8\n",
    "    HIDDEN_SIZE = 64                      # 64 / 128\n",
    "    EPOCHS = 1000\n",
    "    \n",
    "    filename = f'{MODEL}_{dataname}_{TARGET}_seq{SEQ_SIZE}_batch{BATCH_SIZE}_hidden{HIDDEN_SIZE}'\n",
    "\n",
    "    print(f'🔸START - {filename}🔸')\n",
    "    ### Make train datset\n",
    "\n",
    "    def split_xy(dataset, time_steps, y_column):\n",
    "        x, y = list(), list()\n",
    "        for i in range(len(dataset)):\n",
    "            x_end_number = i + time_steps\n",
    "            y_end_number = x_end_number + y_column\n",
    "\n",
    "            if y_end_number > len(dataset):\n",
    "                break\n",
    "            tmp_x = dataset.iloc[i:x_end_number, :]  # Adjusted for Pandas\n",
    "            tmp_y = dataset.iloc[x_end_number:y_end_number, :].loc[:, TARGET]\n",
    "            x.append(tmp_x.values)  # Convert to numpy array\n",
    "            y.append(tmp_y.values)  # Convert to numpy array\n",
    "\n",
    "        return np.array(x), np.array(y)\n",
    "\n",
    "    X, y = split_xy(data, SEQ_SIZE, PRED_SIZE)\n",
    "#     print(X[0,:],\"\\n\", y[0])\n",
    "#     print(\"X size : \", X.shape)\n",
    "#     print(\"y size : \", y.shape)\n",
    "\n",
    "    ### Define X_test\n",
    "\n",
    "    X_test = data.tail(SEQ_SIZE).values.reshape(1, SEQ_SIZE, data.shape[1])\n",
    "#     print(X_test)\n",
    "#     print(\"X_test size : \", X_test.shape)\n",
    "\n",
    "    ### Standardization\n",
    "\n",
    "    from sklearn.preprocessing import StandardScaler\n",
    "\n",
    "    X = X.reshape(X.shape[0], X.shape[1] * X.shape[2])\n",
    "    scaler = StandardScaler()\n",
    "    scaler.fit(X)\n",
    "    X = scaler.transform(X)\n",
    "    X = X.reshape(X.shape[0], SEQ_SIZE, data.shape[1])\n",
    "\n",
    "    X_test = X_test.reshape(X_test.shape[0], X_test.shape[1] * X_test.shape[2])\n",
    "    X_test = scaler.transform(X_test)\n",
    "    X_test = X_test.reshape(X_test.shape[0], SEQ_SIZE, data.shape[1])\n",
    "\n",
    "#     print(\"X size : \", X.shape)\n",
    "#     print(\"X_test size : \", X_test.shape)\n",
    "\n",
    "    ### Split train-validation dataset\n",
    "\n",
    "    # to DataLoader\n",
    "    import torch\n",
    "    from torch.utils.data import Dataset, DataLoader, TensorDataset\n",
    "    from sklearn.model_selection import train_test_split\n",
    "\n",
    "    for trial in tqdm(list(range(1,11))):\n",
    "        X_train, X_valid, y_train, y_valid = train_test_split(X, y, random_state = 1, test_size = 0.2)\n",
    "\n",
    "        # to tensor\n",
    "        X_train = torch.tensor(X_train.astype(np.float32), dtype = torch.float32)\n",
    "        X_valid = torch.tensor(X_valid.astype(np.float32), dtype = torch.float32)\n",
    "        y_train = torch.tensor(y_train.astype(np.float32), dtype = torch.float32)\n",
    "        y_valid = torch.tensor(y_valid.astype(np.float32), dtype = torch.float32)\n",
    "\n",
    "        # to DataLoader\n",
    "        train_loader = DataLoader(TensorDataset(X_train, y_train), batch_size = BATCH_SIZE, shuffle = True)\n",
    "        val_loader = DataLoader(TensorDataset(X_valid, y_valid), batch_size = BATCH_SIZE, shuffle = False)\n",
    "\n",
    "        ### Initialize Model\n",
    "        try:\n",
    "            for param in model.parameters():\n",
    "                if param.requires_grad:\n",
    "                    if len(param.shape) > 1:\n",
    "                        init.xavier_uniform_(param)\n",
    "                    else:\n",
    "                        init.zeros_(param)\n",
    "        except:\n",
    "            try:\n",
    "                model.reset_parameters()\n",
    "            except:\n",
    "                pass\n",
    "\n",
    "        ### Modeling\n",
    "\n",
    "        import copy\n",
    "        class EarlyStopping:\n",
    "            def __init__(self, patience = 5, min_delta = 0, restore_best_weights = True):\n",
    "                self.patience = patience\n",
    "                self.min_delta = min_delta\n",
    "                self.restore_best_weights = restore_best_weights\n",
    "                self.best_model = None\n",
    "                self.best_loss = None\n",
    "                self.counter = 0\n",
    "                self.status = \"\"\n",
    "\n",
    "            def __call__(self, model, val_loss):\n",
    "                if self.best_loss is None:\n",
    "                    self.best_loss = val_loss\n",
    "                    self.best_model = copy.deepcopy(model.state_dict())\n",
    "                elif self.best_loss - val_loss >= self.min_delta:\n",
    "                    self.best_model = copy.deepcopy(model.state_dict())\n",
    "                    self.best_loss = val_loss\n",
    "                    self.counter = 0\n",
    "                    self.status = f\"Improvement found, counter reset to {self.counter}\"\n",
    "                else:\n",
    "                    self.counter += 1\n",
    "                    self.status = f\"No improvement in the last {self.counter} epochs\"\n",
    "                    if self.counter >= self.patience:\n",
    "                        self.status = f\"Early stopping triggered after {self.counter} epochs.\"\n",
    "                        if self.restore_best_weights:\n",
    "                            model.load_state_dict(self.best_model)\n",
    "                        return True\n",
    "                return False\n",
    "\n",
    "        # Positional Encoding for Transformer\n",
    "        class PositionalEncoding(nn.Module):\n",
    "            def __init__(self, d_model, dropout=0.1, max_len=1000):\n",
    "                super(PositionalEncoding, self).__init__()\n",
    "                self.dropout = nn.Dropout(p=dropout)\n",
    "\n",
    "                pe = torch.zeros(max_len, d_model)\n",
    "                position = torch.arange(0, max_len, dtype=torch.float).unsqueeze(1)\n",
    "                div_term = torch.exp(torch.arange(0, d_model, 2).float() * (-np.log(10000.0) / d_model))\n",
    "                pe[:, 0::2] = torch.sin(position * div_term)\n",
    "                pe[:, 1::2] = torch.cos(position * div_term)\n",
    "                pe = pe.unsqueeze(0).transpose(0, 1)\n",
    "                self.register_buffer('pe', pe)\n",
    "\n",
    "            def forward(self, x):\n",
    "                x = x + self.pe[:x.size(0), :]\n",
    "                return self.dropout(x)\n",
    "\n",
    "        # Model definition using Transformer\n",
    "        class TransformerModel(nn.Module):\n",
    "            def __init__(self, input_dim, d_model, nhead=4, num_layers=2, dropout=0.2, output_size=10):\n",
    "                super(TransformerModel, self).__init__()\n",
    "\n",
    "                self.encoder = nn.Linear(input_dim, d_model,bias=True)\n",
    "                self.pos_encoder = PositionalEncoding(d_model, dropout)\n",
    "                encoder_layers = nn.TransformerEncoderLayer(d_model, nhead,bias=True)\n",
    "                self.transformer_encoder = nn.TransformerEncoder(encoder_layers, num_layers)\n",
    "                self.decoder = nn.Linear(d_model, output_size,bias=True)\n",
    "\n",
    "            def forward(self, x):\n",
    "                x = self.encoder(x)\n",
    "                x = self.pos_encoder(x)\n",
    "                x = self.transformer_encoder(x)\n",
    "                x = self.decoder(x[:, -1, :])\n",
    "                return x\n",
    "\n",
    "        class RMSELoss(nn.Module):\n",
    "            def __init__(self):\n",
    "                super(RMSELoss,self).__init__()\n",
    "                self.mse = nn.MSELoss()\n",
    "\n",
    "            def forward(self,yhat,y):\n",
    "                return torch.sqrt(self.mse(yhat,y))\n",
    "\n",
    "        model = TransformerModel(X_train.shape[2],\n",
    "                                d_model = HIDDEN_SIZE,\n",
    "                                output_size = PRED_SIZE).to(device)\n",
    "        criterion = RMSELoss()\n",
    "        optimizer = optim.Adam(model.parameters(), lr = 0.001)\n",
    "        scheduler = ReduceLROnPlateau(optimizer, 'min', factor = 0.1, patience = 20, verbose = True)\n",
    "\n",
    "        ### RUN!!\n",
    "\n",
    "        epoch_counter = 0\n",
    "        patience = 30\n",
    "        best_loss = float('inf')\n",
    "        done = False\n",
    "        es = EarlyStopping(patience=patience)\n",
    "        tr_losses_fp, val_losses_fp = [],[]\n",
    "\n",
    "        while not done and epoch_counter<EPOCHS:\n",
    "            epoch_counter+=1\n",
    "\n",
    "            # train\n",
    "            model.train()\n",
    "            train_losses = []\n",
    "            for batch in train_loader:\n",
    "                x_batch, y_batch = batch\n",
    "                x_batch = x_batch.to(device)\n",
    "                y_batch = y_batch.to(device)\n",
    "                optimizer.zero_grad()\n",
    "                output = model(x_batch)\n",
    "                loss = criterion(output,y_batch)\n",
    "                loss.backward()\n",
    "                optimizer.step()\n",
    "                train_losses.append(loss.item())\n",
    "            train_loss = np.mean(train_losses)\n",
    "            tr_losses_fp.append(train_loss)\n",
    "\n",
    "            # validation\n",
    "            model.eval()\n",
    "            val_losses = []\n",
    "            with torch.no_grad():\n",
    "                for batch in val_loader:\n",
    "                    x_batch, y_batch = batch\n",
    "                    x_batch = x_batch.to(device)\n",
    "                    y_batch = y_batch.to(device)\n",
    "                    output = model(x_batch)\n",
    "                    loss = criterion(output, y_batch)\n",
    "                    val_losses.append(loss.item())\n",
    "            val_loss = np.mean(val_losses)\n",
    "            val_losses_fp.append(val_loss)\n",
    "            scheduler.step(val_loss)\n",
    "\n",
    "            if es(model, val_loss):\n",
    "                done = True\n",
    "\n",
    "            if val_loss < best_loss:\n",
    "                best_loss = val_loss\n",
    "\n",
    "            if epoch_counter%20 == 0:\n",
    "                print(f\"Epoch {epoch_counter}/{EPOCHS}, Train Loss: {train_loss:.4f}, Validation Loss: {val_loss:.4f}\")\n",
    "\n",
    "        print(f\"Best validation loss : {best_loss}\")\n",
    "        best_losses.append(best_loss)\n",
    "        \n",
    "        ### Visualize train-validation loss\n",
    "\n",
    "#         plt.plot(range(len(tr_losses_fp)),tr_losses_fp,color='blue',label='train_loss')\n",
    "#         plt.plot(range(len(val_losses_fp)),val_losses_fp,color='red',label='val_loss')\n",
    "#         plt.legend()\n",
    "#         # plt.show()\n",
    "#         plt.savefig(f'../../plots/train_val_loss_2/{filename}.png')\n",
    "#         plt.clf()\n",
    "        globals()[f'train_losses_{trial}']=tr_losses_fp\n",
    "        globals()[f'val_losses_{trial}']=val_losses_fp\n",
    "\n",
    "        ### Prediction\n",
    "\n",
    "        # evaluation\n",
    "        model.eval()\n",
    "        with torch.no_grad():\n",
    "            X_test_tensor = torch.tensor(X_test.astype(np.float32), dtype = torch.float32,device=device)\n",
    "            pred = model(X_test_tensor)\n",
    "\n",
    "        pred = pred.to('cpu').detach().numpy()\n",
    "        # print(pred)\n",
    "\n",
    "        if TARGET == \"1d_ROC\" :\n",
    "            endPrice = data['Close'].iloc[-1]\n",
    "            pred_close = []\n",
    "\n",
    "            for i in pred[0] :\n",
    "                endPrice = endPrice + endPrice*0.01*i\n",
    "                pred_close.append(endPrice)\n",
    "\n",
    "            pred = np.array(pred_close).reshape(1, PRED_SIZE)\n",
    "        #     pred\n",
    "        else :\n",
    "            pass\n",
    "\n",
    "        globals()[f'pred_{trial}'] = pred\n",
    "        \n",
    "        # pred_length = len(np.reshape(pred, (-1)))\n",
    "        # pred_indices = list(range(pred_length))\n",
    "        # plt.plot(pred_indices, np.reshape(pred, (-1)), color='red', alpha=0.6, label='Prediction')\n",
    "        # plt.legend()\n",
    "\n",
    "        # plt.show()\n",
    "\n",
    "        ### Evaluation\n",
    "\n",
    "        # Label\n",
    "#         testfile = '../../data/test.csv'\n",
    "#         test_df = pd.read_csv(testfile)\n",
    "#         label = pd.read_csv(testfile) # 각자 test.csv 파일 경로\n",
    "        label = test_df.copy()\n",
    "        label = np.array(label.head(PRED_SIZE)[\"Close Price\"])\n",
    "\n",
    "        # Prediction\n",
    "        pred = np.array(pred).reshape(PRED_SIZE)\n",
    "\n",
    "        # 날짜 데이터\n",
    "        period = test_df[\"Date\"].copy()\n",
    "        period = [d for d in period.head(PRED_SIZE)]\n",
    "\n",
    "        # 오차율 계산\n",
    "        error_rate = np.abs((label - pred) / label) * 100\n",
    "\n",
    "        # 시각화\n",
    "#         plt.figure(figsize=(12, 6))\n",
    "#         plt.plot(period, label, marker='o', color='blue', label='Actual Close Price')\n",
    "#         plt.plot(period, pred, marker='x', color='red', linestyle='--', label='Predicted Close Price')\n",
    "\n",
    "#         # 오차율을 각 포인트에 텍스트로 표시\n",
    "#         for date, lbl, prd, err in zip(period, label, pred, error_rate):\n",
    "#             plt.text(date, prd, f'{err:.2f}%', color='black', ha='right', va='bottom')\n",
    "\n",
    "#         plt.xticks(rotation = 45)  # 날짜 레이블 회전\n",
    "#         plt.xlabel('Date')\n",
    "#         plt.ylabel('Close Price')\n",
    "#         plt.title(f'model = LSTM, data = {dataname}, target = {TARGET}, seq_size = {SEQ_SIZE}, pred_size = {PRED_SIZE}, batch_size = {BATCH_SIZE}, model_size = {HIDDEN_SIZE}')\n",
    "#         plt.legend()\n",
    "#         plt.tight_layout()  # 레이아웃 조정\n",
    "#         # plt.show()\n",
    "#         plt.savefig(f'../../plots/results_2/{filename}.png')\n",
    "#         plt.clf()\n",
    "\n",
    "        # 오차율을 출력\n",
    "        error_rate_dict = dict(zip(period, error_rate))\n",
    "        # error_rate_dict\n",
    "\n",
    "        # 평균 오차율 계산\n",
    "        average_error_rate = np.mean(error_rate)\n",
    "        \n",
    "        print(f\"Average Error Rate: {average_error_rate:.2f}%\")\n",
    "        mean_error_ratios.append(average_error_rate)\n",
    "        \n",
    "        ### Save results to a DataFrame\n",
    "#         temp_df = pd.DataFrame({\n",
    "#             'data':[dataname],\n",
    "#             'target':[TARGET],\n",
    "#             'seq_size':[SEQ_SIZE],\n",
    "#             'pred_size':[PRED_SIZE],\n",
    "#             'batch_size':[BATCH_SIZE],\n",
    "#             'hidden_size':[HIDDEN_SIZE],\n",
    "#             'best_val_loss':[best_loss],\n",
    "#             'mean_error_ratio':[average_error_rate]\n",
    "#         })\n",
    "\n",
    "#         result_df = pd.concat([result_df,temp_df],axis=0)\n",
    "print('🔸END🔸')"
   ]
  },
  {
   "cell_type": "code",
   "execution_count": 8,
   "id": "7d0f32c0",
   "metadata": {
    "ExecuteTime": {
     "end_time": "2024-02-22T14:46:54.183267Z",
     "start_time": "2024-02-22T14:46:54.121393Z"
    },
    "scrolled": true
   },
   "outputs": [
    {
     "data": {
      "text/plain": [
       "array([[485.16826346, 483.95533991, 482.75997032, 481.50180115,\n",
       "        480.09589153, 479.45716704, 478.13238282, 476.1657542 ,\n",
       "        473.88965685, 471.61572744],\n",
       "       [487.03523453, 486.98851887, 486.76158437, 486.74586235,\n",
       "        486.67692649, 486.71465082, 486.41800782, 486.01692698,\n",
       "        485.85224776, 485.77910093],\n",
       "       [487.06021999, 487.07493763, 487.01092744, 486.67868479,\n",
       "        486.53130638, 486.57167584, 486.1267104 , 485.69663252,\n",
       "        485.64679382, 485.68476789],\n",
       "       [487.18235524, 487.44593352, 487.48487004, 487.38784426,\n",
       "        487.39883616, 487.55243124, 487.46703224, 487.10564272,\n",
       "        486.92680418, 487.06457074],\n",
       "       [485.19777987, 483.11349817, 480.77048403, 477.93621961,\n",
       "        475.38456133, 473.06189094, 470.32831585, 467.60955827,\n",
       "        465.49958879, 463.99352584],\n",
       "       [486.52849556, 486.14471516, 485.80839269, 485.76215957,\n",
       "        485.22664911, 484.93871085, 484.58792412, 483.74371709,\n",
       "        483.18227117, 482.58212026],\n",
       "       [488.0035384 , 489.26504112, 490.64782596, 491.96433057,\n",
       "        493.97401329, 495.78260503, 497.30850832, 498.38602662,\n",
       "        499.35070694, 500.52075315],\n",
       "       [486.73701345, 486.7087246 , 486.1842733 , 485.94539826,\n",
       "        485.57494882, 485.40047519, 485.08843631, 484.60705978,\n",
       "        484.73237803, 484.83628158],\n",
       "       [487.55184236, 488.28716436, 488.4530381 , 488.8776778 ,\n",
       "        489.53527421, 489.86892783, 490.10482018, 490.09407953,\n",
       "        490.05834269, 489.74408025],\n",
       "       [486.09717606, 485.4905226 , 484.61338575, 483.73677802,\n",
       "        483.13253002, 482.64134057, 481.98337537, 481.03232448,\n",
       "        480.44844199, 480.16324913]])"
      ]
     },
     "execution_count": 8,
     "metadata": {},
     "output_type": "execute_result"
    }
   ],
   "source": [
    "preds = []\n",
    "for t in list(range(1,11)):\n",
    "    preds.append(globals()[f'pred_{t}'].tolist())\n",
    "preds = np.reshape(np.array(preds),(10,10))\n",
    "preds"
   ]
  },
  {
   "cell_type": "code",
   "execution_count": 9,
   "id": "57cba10a",
   "metadata": {
    "ExecuteTime": {
     "end_time": "2024-02-22T14:46:54.293025Z",
     "start_time": "2024-02-22T14:46:54.187405Z"
    }
   },
   "outputs": [
    {
     "data": {
      "text/html": [
       "<div>\n",
       "<style scoped>\n",
       "    .dataframe tbody tr th:only-of-type {\n",
       "        vertical-align: middle;\n",
       "    }\n",
       "\n",
       "    .dataframe tbody tr th {\n",
       "        vertical-align: top;\n",
       "    }\n",
       "\n",
       "    .dataframe thead th {\n",
       "        text-align: right;\n",
       "    }\n",
       "</style>\n",
       "<table border=\"1\" class=\"dataframe\">\n",
       "  <thead>\n",
       "    <tr style=\"text-align: right;\">\n",
       "      <th></th>\n",
       "      <th>model_1</th>\n",
       "      <th>model_2</th>\n",
       "      <th>model_3</th>\n",
       "      <th>model_4</th>\n",
       "      <th>model_5</th>\n",
       "      <th>model_6</th>\n",
       "      <th>model_7</th>\n",
       "      <th>model_8</th>\n",
       "      <th>model_9</th>\n",
       "      <th>model_10</th>\n",
       "      <th>Mean</th>\n",
       "    </tr>\n",
       "  </thead>\n",
       "  <tbody>\n",
       "    <tr>\n",
       "      <th>0</th>\n",
       "      <td>485.168263</td>\n",
       "      <td>483.955340</td>\n",
       "      <td>482.759970</td>\n",
       "      <td>481.501801</td>\n",
       "      <td>480.095892</td>\n",
       "      <td>479.457167</td>\n",
       "      <td>478.132383</td>\n",
       "      <td>476.165754</td>\n",
       "      <td>473.889657</td>\n",
       "      <td>471.615727</td>\n",
       "      <td>479.274195</td>\n",
       "    </tr>\n",
       "    <tr>\n",
       "      <th>1</th>\n",
       "      <td>487.035235</td>\n",
       "      <td>486.988519</td>\n",
       "      <td>486.761584</td>\n",
       "      <td>486.745862</td>\n",
       "      <td>486.676926</td>\n",
       "      <td>486.714651</td>\n",
       "      <td>486.418008</td>\n",
       "      <td>486.016927</td>\n",
       "      <td>485.852248</td>\n",
       "      <td>485.779101</td>\n",
       "      <td>486.498906</td>\n",
       "    </tr>\n",
       "    <tr>\n",
       "      <th>2</th>\n",
       "      <td>487.060220</td>\n",
       "      <td>487.074938</td>\n",
       "      <td>487.010927</td>\n",
       "      <td>486.678685</td>\n",
       "      <td>486.531306</td>\n",
       "      <td>486.571676</td>\n",
       "      <td>486.126710</td>\n",
       "      <td>485.696633</td>\n",
       "      <td>485.646794</td>\n",
       "      <td>485.684768</td>\n",
       "      <td>486.408266</td>\n",
       "    </tr>\n",
       "    <tr>\n",
       "      <th>3</th>\n",
       "      <td>487.182355</td>\n",
       "      <td>487.445934</td>\n",
       "      <td>487.484870</td>\n",
       "      <td>487.387844</td>\n",
       "      <td>487.398836</td>\n",
       "      <td>487.552431</td>\n",
       "      <td>487.467032</td>\n",
       "      <td>487.105643</td>\n",
       "      <td>486.926804</td>\n",
       "      <td>487.064571</td>\n",
       "      <td>487.301632</td>\n",
       "    </tr>\n",
       "    <tr>\n",
       "      <th>4</th>\n",
       "      <td>485.197780</td>\n",
       "      <td>483.113498</td>\n",
       "      <td>480.770484</td>\n",
       "      <td>477.936220</td>\n",
       "      <td>475.384561</td>\n",
       "      <td>473.061891</td>\n",
       "      <td>470.328316</td>\n",
       "      <td>467.609558</td>\n",
       "      <td>465.499589</td>\n",
       "      <td>463.993526</td>\n",
       "      <td>474.289542</td>\n",
       "    </tr>\n",
       "    <tr>\n",
       "      <th>5</th>\n",
       "      <td>486.528496</td>\n",
       "      <td>486.144715</td>\n",
       "      <td>485.808393</td>\n",
       "      <td>485.762160</td>\n",
       "      <td>485.226649</td>\n",
       "      <td>484.938711</td>\n",
       "      <td>484.587924</td>\n",
       "      <td>483.743717</td>\n",
       "      <td>483.182271</td>\n",
       "      <td>482.582120</td>\n",
       "      <td>484.850516</td>\n",
       "    </tr>\n",
       "    <tr>\n",
       "      <th>6</th>\n",
       "      <td>488.003538</td>\n",
       "      <td>489.265041</td>\n",
       "      <td>490.647826</td>\n",
       "      <td>491.964331</td>\n",
       "      <td>493.974013</td>\n",
       "      <td>495.782605</td>\n",
       "      <td>497.308508</td>\n",
       "      <td>498.386027</td>\n",
       "      <td>499.350707</td>\n",
       "      <td>500.520753</td>\n",
       "      <td>494.520335</td>\n",
       "    </tr>\n",
       "    <tr>\n",
       "      <th>7</th>\n",
       "      <td>486.737013</td>\n",
       "      <td>486.708725</td>\n",
       "      <td>486.184273</td>\n",
       "      <td>485.945398</td>\n",
       "      <td>485.574949</td>\n",
       "      <td>485.400475</td>\n",
       "      <td>485.088436</td>\n",
       "      <td>484.607060</td>\n",
       "      <td>484.732378</td>\n",
       "      <td>484.836282</td>\n",
       "      <td>485.581499</td>\n",
       "    </tr>\n",
       "    <tr>\n",
       "      <th>8</th>\n",
       "      <td>487.551842</td>\n",
       "      <td>488.287164</td>\n",
       "      <td>488.453038</td>\n",
       "      <td>488.877678</td>\n",
       "      <td>489.535274</td>\n",
       "      <td>489.868928</td>\n",
       "      <td>490.104820</td>\n",
       "      <td>490.094080</td>\n",
       "      <td>490.058343</td>\n",
       "      <td>489.744080</td>\n",
       "      <td>489.257525</td>\n",
       "    </tr>\n",
       "    <tr>\n",
       "      <th>9</th>\n",
       "      <td>486.097176</td>\n",
       "      <td>485.490523</td>\n",
       "      <td>484.613386</td>\n",
       "      <td>483.736778</td>\n",
       "      <td>483.132530</td>\n",
       "      <td>482.641341</td>\n",
       "      <td>481.983375</td>\n",
       "      <td>481.032324</td>\n",
       "      <td>480.448442</td>\n",
       "      <td>480.163249</td>\n",
       "      <td>482.933912</td>\n",
       "    </tr>\n",
       "  </tbody>\n",
       "</table>\n",
       "</div>"
      ],
      "text/plain": [
       "      model_1     model_2     model_3     model_4     model_5     model_6  \\\n",
       "0  485.168263  483.955340  482.759970  481.501801  480.095892  479.457167   \n",
       "1  487.035235  486.988519  486.761584  486.745862  486.676926  486.714651   \n",
       "2  487.060220  487.074938  487.010927  486.678685  486.531306  486.571676   \n",
       "3  487.182355  487.445934  487.484870  487.387844  487.398836  487.552431   \n",
       "4  485.197780  483.113498  480.770484  477.936220  475.384561  473.061891   \n",
       "5  486.528496  486.144715  485.808393  485.762160  485.226649  484.938711   \n",
       "6  488.003538  489.265041  490.647826  491.964331  493.974013  495.782605   \n",
       "7  486.737013  486.708725  486.184273  485.945398  485.574949  485.400475   \n",
       "8  487.551842  488.287164  488.453038  488.877678  489.535274  489.868928   \n",
       "9  486.097176  485.490523  484.613386  483.736778  483.132530  482.641341   \n",
       "\n",
       "      model_7     model_8     model_9    model_10        Mean  \n",
       "0  478.132383  476.165754  473.889657  471.615727  479.274195  \n",
       "1  486.418008  486.016927  485.852248  485.779101  486.498906  \n",
       "2  486.126710  485.696633  485.646794  485.684768  486.408266  \n",
       "3  487.467032  487.105643  486.926804  487.064571  487.301632  \n",
       "4  470.328316  467.609558  465.499589  463.993526  474.289542  \n",
       "5  484.587924  483.743717  483.182271  482.582120  484.850516  \n",
       "6  497.308508  498.386027  499.350707  500.520753  494.520335  \n",
       "7  485.088436  484.607060  484.732378  484.836282  485.581499  \n",
       "8  490.104820  490.094080  490.058343  489.744080  489.257525  \n",
       "9  481.983375  481.032324  480.448442  480.163249  482.933912  "
      ]
     },
     "execution_count": 9,
     "metadata": {},
     "output_type": "execute_result"
    }
   ],
   "source": [
    "preds_df = pd.DataFrame(preds,columns=['model_1','model_2',\n",
    "                           'model_3','model_4',\n",
    "                           'model_5','model_6',\n",
    "                           'model_7','model_8',\n",
    "                           'model_9','model_10'])\n",
    "preds_df['Mean']=preds_df.mean(axis=1)\n",
    "preds_df"
   ]
  },
  {
   "cell_type": "code",
   "execution_count": 10,
   "id": "288af44d",
   "metadata": {
    "ExecuteTime": {
     "end_time": "2024-02-22T14:46:54.324451Z",
     "start_time": "2024-02-22T14:46:54.296921Z"
    }
   },
   "outputs": [
    {
     "name": "stdout",
     "output_type": "stream",
     "text": [
      "Mean Val_Loss : 2.467662596728949\n",
      "Mean Error Ratio : 2.1242340349853976\n"
     ]
    },
    {
     "data": {
      "text/html": [
       "<div>\n",
       "<style scoped>\n",
       "    .dataframe tbody tr th:only-of-type {\n",
       "        vertical-align: middle;\n",
       "    }\n",
       "\n",
       "    .dataframe tbody tr th {\n",
       "        vertical-align: top;\n",
       "    }\n",
       "\n",
       "    .dataframe thead th {\n",
       "        text-align: right;\n",
       "    }\n",
       "</style>\n",
       "<table border=\"1\" class=\"dataframe\">\n",
       "  <thead>\n",
       "    <tr style=\"text-align: right;\">\n",
       "      <th></th>\n",
       "      <th>model_1</th>\n",
       "      <th>model_2</th>\n",
       "      <th>model_3</th>\n",
       "      <th>model_4</th>\n",
       "      <th>model_5</th>\n",
       "      <th>model_6</th>\n",
       "      <th>model_7</th>\n",
       "      <th>model_8</th>\n",
       "      <th>model_9</th>\n",
       "      <th>model_10</th>\n",
       "    </tr>\n",
       "  </thead>\n",
       "  <tbody>\n",
       "    <tr>\n",
       "      <th>0</th>\n",
       "      <td>2.466091</td>\n",
       "      <td>2.464063</td>\n",
       "      <td>2.480141</td>\n",
       "      <td>2.470664</td>\n",
       "      <td>2.469732</td>\n",
       "      <td>2.467910</td>\n",
       "      <td>2.463411</td>\n",
       "      <td>2.460884</td>\n",
       "      <td>2.468003</td>\n",
       "      <td>2.465726</td>\n",
       "    </tr>\n",
       "    <tr>\n",
       "      <th>1</th>\n",
       "      <td>2.032468</td>\n",
       "      <td>1.921377</td>\n",
       "      <td>1.924247</td>\n",
       "      <td>1.999977</td>\n",
       "      <td>2.793700</td>\n",
       "      <td>1.780786</td>\n",
       "      <td>3.071736</td>\n",
       "      <td>1.834043</td>\n",
       "      <td>2.156159</td>\n",
       "      <td>1.727847</td>\n",
       "    </tr>\n",
       "  </tbody>\n",
       "</table>\n",
       "</div>"
      ],
      "text/plain": [
       "    model_1   model_2   model_3   model_4   model_5   model_6   model_7  \\\n",
       "0  2.466091  2.464063  2.480141  2.470664  2.469732  2.467910  2.463411   \n",
       "1  2.032468  1.921377  1.924247  1.999977  2.793700  1.780786  3.071736   \n",
       "\n",
       "    model_8   model_9  model_10  \n",
       "0  2.460884  2.468003  2.465726  \n",
       "1  1.834043  2.156159  1.727847  "
      ]
     },
     "execution_count": 10,
     "metadata": {},
     "output_type": "execute_result"
    }
   ],
   "source": [
    "results_df = pd.DataFrame([best_losses,mean_error_ratios], columns=[\n",
    "                            'model_1','model_2',\n",
    "                           'model_3','model_4',\n",
    "                           'model_5','model_6',\n",
    "                           'model_7','model_8',\n",
    "                           'model_9','model_10'])\n",
    "print('Mean Val_Loss :',results_df.iloc[0].mean())\n",
    "print('Mean Error Ratio :',results_df.iloc[1].mean())\n",
    "results_df"
   ]
  },
  {
   "cell_type": "code",
   "execution_count": 11,
   "id": "f6568116",
   "metadata": {
    "ExecuteTime": {
     "end_time": "2024-02-22T14:46:54.371346Z",
     "start_time": "2024-02-22T14:46:54.334899Z"
    }
   },
   "outputs": [
    {
     "data": {
      "text/plain": [
       "array([486.76, 491.19, 491.79, 490.51, 486.88])"
      ]
     },
     "execution_count": 11,
     "metadata": {},
     "output_type": "execute_result"
    }
   ],
   "source": [
    "d5_period = ['2023-12-22','2023-12-26','2023-12-27','2023-12-28','2023-12-29']\n",
    "stock_df.loc[d5_period,'Close'].to_numpy()"
   ]
  },
  {
   "cell_type": "code",
   "execution_count": 12,
   "id": "45da7724",
   "metadata": {
    "ExecuteTime": {
     "end_time": "2024-02-22T14:46:54.386649Z",
     "start_time": "2024-02-22T14:46:54.375112Z"
    }
   },
   "outputs": [
    {
     "data": {
      "text/plain": [
       "[486.76,\n",
       " 491.19,\n",
       " 491.79,\n",
       " 490.51,\n",
       " 486.88,\n",
       " 468.5,\n",
       " 470.26,\n",
       " 474.67,\n",
       " 474.06,\n",
       " 485.03,\n",
       " 482.09,\n",
       " 478.33,\n",
       " 492.23,\n",
       " 492.16,\n",
       " 481.24]"
      ]
     },
     "execution_count": 12,
     "metadata": {},
     "output_type": "execute_result"
    }
   ],
   "source": [
    "d5_stock = stock_df.loc[d5_period,'Close'].to_list()\n",
    "d5_stock + label.tolist()"
   ]
  },
  {
   "cell_type": "code",
   "execution_count": 13,
   "id": "811da2fc",
   "metadata": {
    "ExecuteTime": {
     "end_time": "2024-02-22T14:46:55.383250Z",
     "start_time": "2024-02-22T14:46:54.390653Z"
    }
   },
   "outputs": [
    {
     "data": {
      "image/png": "[encoded data removed]",
      "text/plain": [
       "<Figure size 1200x600 with 1 Axes>"
      ]
     },
     "metadata": {},
     "output_type": "display_data"
    },
    {
     "name": "stdout",
     "output_type": "stream",
     "text": [
      "Average Error Rate: 1.95%\n"
     ]
    },
    {
     "data": {
      "text/plain": [
       "<Figure size 640x480 with 0 Axes>"
      ]
     },
     "metadata": {},
     "output_type": "display_data"
    }
   ],
   "source": [
    "# 시각화\n",
    "label = test_df.copy()\n",
    "label = np.array(label.head(PRED_SIZE)[\"Close Price\"])\n",
    "\n",
    "# Prediction\n",
    "pred_ = preds_df['Mean'].to_numpy().reshape(PRED_SIZE)\n",
    "\n",
    "# 날짜 데이터\n",
    "period = test_df[\"Date\"].copy()\n",
    "period = [d for d in period.head(PRED_SIZE)]\n",
    "d5_period = ['2023-12-22','2023-12-26','2023-12-27','2023-12-28','2023-12-29']\n",
    "d5_stock = stock_df.loc[d5_period,'Close'].to_list()\n",
    "\n",
    "# 오차율 계산\n",
    "error_rate = np.abs((label - pred_) / label) * 100\n",
    "\n",
    "plt.figure(figsize=(12, 6))\n",
    "plt.plot(d5_period+period, d5_stock+label.tolist(), marker='o', color='blue', label='Actual Close Price')\n",
    "plt.plot(period, pred_, marker='x', color='red', linestyle='--', label='Predicted Close Price')\n",
    "plt.axvline(x='2024-01-02', color='red',linestyle='-',linewidth=.5)\n",
    "# 오차율을 각 포인트에 텍스트로 표시\n",
    "for date, lbl, prd, err in zip(period, label, pred_, error_rate):\n",
    "    plt.text(date, prd, f'{err:.2f}%', color='black', ha='right', va='bottom')\n",
    "\n",
    "    \n",
    "plt.xticks(rotation = 45)  # 날짜 레이블 회전\n",
    "plt.xlabel('Date')\n",
    "plt.ylabel('Close Price')\n",
    "plt.title(f'model = {MODEL}, data = {dataname}, target = {TARGET}, seq_size = {SEQ_SIZE}, pred_size = {PRED_SIZE}, batch_size = {BATCH_SIZE}, model_size = {HIDDEN_SIZE}')\n",
    "plt.legend()\n",
    "plt.tight_layout()  # 레이아웃 조정\n",
    "plt.savefig(f'../../plots/best_plots/10trials_{filename}.png') #### 본인 파일 경로\n",
    "plt.show()\n",
    "plt.clf()\n",
    "\n",
    "# 오차율을 출력\n",
    "error_rate_dict = dict(zip(period, error_rate))\n",
    "# error_rate_dict\n",
    "\n",
    "# 평균 오차율 계산\n",
    "average_error_rate = np.mean(error_rate)\n",
    "\n",
    "print(f\"Average Error Rate: {average_error_rate:.2f}%\")\n",
    "mean_error_ratios.append(average_error_rate)"
   ]
  },
  {
   "cell_type": "code",
   "execution_count": 14,
   "id": "5feeb4bf",
   "metadata": {
    "ExecuteTime": {
     "end_time": "2024-02-22T14:46:55.926455Z",
     "start_time": "2024-02-22T14:46:55.386409Z"
    }
   },
   "outputs": [
    {
     "data": {
      "image/png": "[encoded data removed]",
      "text/plain": [
       "<Figure size 640x480 with 1 Axes>"
      ]
     },
     "metadata": {},
     "output_type": "display_data"
    },
    {
     "data": {
      "text/plain": [
       "<Figure size 640x480 with 0 Axes>"
      ]
     },
     "metadata": {},
     "output_type": "display_data"
    }
   ],
   "source": [
    "### Visualize train-validation loss\n",
    "\n",
    "for t in list(range(1,11)):\n",
    "    plt.plot(range(len(globals()[f'train_losses_{t}'])),\n",
    "             globals()[f'train_losses_{t}'],\n",
    "             color='blue',alpha=0.6)\n",
    "    plt.plot(range(len(globals()[f'val_losses_{t}'])),\n",
    "             globals()[f'val_losses_{t}'],\n",
    "             color='red',alpha=0.6)\n",
    "plt.legend(['train_loss','val_loss'])\n",
    "plt.tight_layout()\n",
    "plt.savefig(f'../../plots/best_plots/10trials_train_val_loss_{filename}.png')\n",
    "plt.show()\n",
    "plt.clf()"
   ]
  },
  {
   "cell_type": "code",
   "execution_count": null,
   "id": "59669fef",
   "metadata": {},
   "outputs": [],
   "source": []
  }
 ],
 "metadata": {
  "colab": {
   "provenance": []
  },
  "kernelspec": {
   "display_name": "Python 3 (ipykernel)",
   "language": "python",
   "name": "python3"
  },
  "language_info": {
   "codemirror_mode": {
    "name": "ipython",
    "version": 3
   },
   "file_extension": ".py",
   "mimetype": "text/x-python",
   "name": "python",
   "nbconvert_exporter": "python",
   "pygments_lexer": "ipython3",
   "version": "3.9.6"
  },
  "toc": {
   "base_numbering": 1,
   "nav_menu": {},
   "number_sections": false,
   "sideBar": true,
   "skip_h1_title": false,
   "title_cell": "Table of Contents",
   "title_sidebar": "Contents",
   "toc_cell": false,
   "toc_position": {},
   "toc_section_display": true,
   "toc_window_display": false
  }
 },
 "nbformat": 4,
 "nbformat_minor": 5
}
