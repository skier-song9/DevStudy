{
 "cells": [
  {
   "cell_type": "markdown",
   "id": "fc80feb9",
   "metadata": {},
   "source": [
    "### Import dataset"
   ]
  },
  {
   "cell_type": "code",
   "execution_count": 1,
   "id": "2059c61b",
   "metadata": {
    "ExecuteTime": {
     "end_time": "2024-02-22T13:27:09.057221Z",
     "start_time": "2024-02-22T13:27:07.982265Z"
    },
    "colab": {
     "base_uri": "https://localhost:8080/",
     "height": 617
    },
    "id": "2059c61b",
    "outputId": "576afb16-4157-4337-f4db-d04264361874"
   },
   "outputs": [],
   "source": [
    "import numpy as np\n",
    "import pandas as pd\n",
    "pd.set_option('display.max_rows', 100)\n",
    "import matplotlib.pyplot as plt"
   ]
  },
  {
   "cell_type": "markdown",
   "id": "zVBHDA4xub-S",
   "metadata": {
    "id": "zVBHDA4xub-S"
   },
   "source": [
    "### Merge dataset"
   ]
  },
  {
   "cell_type": "code",
   "execution_count": 2,
   "id": "jPRldaW5c653",
   "metadata": {
    "ExecuteTime": {
     "end_time": "2024-02-22T13:27:09.088082Z",
     "start_time": "2024-02-22T13:27:09.061757Z"
    },
    "id": "jPRldaW5c653"
   },
   "outputs": [],
   "source": [
    "class PrepareData():\n",
    "    def __init__(self,stock_fp,news_fp):\n",
    "        self.stock_filepath = stock_fp\n",
    "        self.news_filepath = news_fp\n",
    "        self.topic_classes = ['CEO', 'CFO', 'Layoffs', 'Political', 'PressRelease', 'Undefined',\n",
    "       'cramer', 'earnings', 'gold', 'manda', 'paylimitwall', 'paywall',\n",
    "       'product', 'recession', 'tanalysis'] # undefined의 class가 5\n",
    "\n",
    "    def load_data(self):\n",
    "        stock = pd.read_csv(self.stock_filepath,index_col=0)\n",
    "        news = pd.read_csv(self.news_filepath,index_col=0)\n",
    "        ### parse date manually\n",
    "        stock['Date'] = pd.to_datetime(stock['Date'])\n",
    "        news['date'] = pd.to_datetime(news['date'])\n",
    "        return stock, news\n",
    "\n",
    "    def merging(self, stock, news):\n",
    "        ### fill na value of PINS column\n",
    "#         stock['PINS'] = stock['PINS'].fillna(stock['PINS'].iloc[75])\n",
    "\n",
    "        ### drop 'news_id' column\n",
    "#         news = news.drop(columns=['news_id'])\n",
    "\n",
    "        ### add date range from 18.01.02 to 18.12.31\n",
    "        temp_range = pd.DataFrame(dict(zip(stock.columns,[pd.date_range(start='2018-01-02',end='2018-12-31'),\n",
    "                                0,0,0,0, # 4\n",
    "                                0,0,0,0,\n",
    "                                0,0,0,0,\n",
    "                                0,0,0,0, # 16\n",
    "                                0,0,0,0,\n",
    "                                0,0,0,0,\n",
    "                                0,0,0,0, # 28\n",
    "                                0,0,0,0,\n",
    "                                0,0,0,0, # 36\n",
    "                                0 # 37\n",
    "                            ])))\n",
    "        stock_inc = pd.concat([temp_range,stock],axis=0)\n",
    "\n",
    "        ### merge stock_inc and news\n",
    "        # left = stock_inc\n",
    "        # on = date\n",
    "        # how = left\n",
    "        # rename 'date' to 'Date' of news df\n",
    "        news = news.rename(columns={'date':'Date'})\n",
    "        merged = pd.merge(left=stock_inc,right=news,on='Date',how='left')\n",
    "\n",
    "        ### Cut before 2018-02-13\n",
    "        merged = merged[42:].reset_index(drop=True)\n",
    "\n",
    "        # fill na with latest non-null values\n",
    "        columns_to_fill = ['source_name', 'topics', 'rank_score',\n",
    "                        'sentiment_Negative','sentiment_Neutral',\n",
    "                        'sentiment_Positive', 'type_Article', 'type_Video']\n",
    "        merged_fillna = merged.copy()\n",
    "        for column in columns_to_fill:\n",
    "            merged_fillna[column].fillna(method='ffill',inplace=True)\n",
    "\n",
    "        ### add moving average to sentiments\n",
    "        ma_nums = [5,60,120]\n",
    "        def mode_window(window):\n",
    "            return window.mode().iloc[0] if not len(window.mode())==0 else None\n",
    "        for num in ma_nums:\n",
    "            merged_fillna[f'{num}MA_sent_Neg']=merged_fillna['sentiment_Negative'].rolling(\n",
    "            window=num).mean()\n",
    "            merged_fillna[f'{num}MA_sent_Neu']=merged_fillna['sentiment_Neutral'].rolling(\n",
    "            window=num).mean()\n",
    "            merged_fillna[f'{num}MA_sent_Pos']=merged_fillna['sentiment_Positive'].rolling(\n",
    "            window=num).mean()\n",
    "        ### add moving mode to sentiments\n",
    "        for num in ma_nums:\n",
    "            merged_fillna[f'{num}MM_sent_Neg']=merged_fillna['sentiment_Negative'].rolling(\n",
    "            window=num).apply(mode_window)\n",
    "            merged_fillna[f'{num}MM_sent_Neu']=merged_fillna['sentiment_Neutral'].rolling(\n",
    "            window=num).apply(mode_window)\n",
    "            merged_fillna[f'{num}MM_sent_Pos']=merged_fillna['sentiment_Positive'].rolling(\n",
    "            window=num).apply(mode_window)\n",
    "        ### adding moving mode to topics\n",
    "        for num in ma_nums:\n",
    "            merged_fillna[f'{num}MM_topics']=merged_fillna['topics'].rolling(\n",
    "            window=num).apply(mode_window)\n",
    "\n",
    "        ### drop before 2019-01-02\n",
    "        total_df = merged_fillna.iloc[322:]\n",
    "        total_df = total_df.reset_index(drop=True)\n",
    "\n",
    "        ### drop unnecessaray columns\n",
    "        drop_cols = ['source_name','topics','rank_score',\n",
    "                    'sentiment_Negative','sentiment_Neutral',\n",
    "                    'sentiment_Positive','type_Article','type_Video']\n",
    "        total_df = total_df.drop(columns=drop_cols)\n",
    "\n",
    "        return total_df"
   ]
  },
  {
   "cell_type": "code",
   "execution_count": 3,
   "id": "cXT6Ts-1dPIr",
   "metadata": {
    "ExecuteTime": {
     "end_time": "2024-02-22T13:27:11.837360Z",
     "start_time": "2024-02-22T13:27:09.090607Z"
    },
    "id": "cXT6Ts-1dPIr"
   },
   "outputs": [
    {
     "name": "stderr",
     "output_type": "stream",
     "text": [
      "C:\\Users\\songkyu\\AppData\\Local\\Temp\\ipykernel_6944\\3770461931.py:56: FutureWarning: Series.fillna with 'method' is deprecated and will raise in a future version. Use obj.ffill() or obj.bfill() instead.\n",
      "  merged_fillna[column].fillna(method='ffill',inplace=True)\n"
     ]
    }
   ],
   "source": [
    "stock_filepath = '../../../data/stock_price/netflix_60.csv' # 각자 파일 경로 설정\n",
    "news_filepath = '../../../data/scraping/news_processed_filtered_2.csv'\n",
    "loader = PrepareData(stock_filepath, news_filepath)\n",
    "stock_df, news_df=loader.load_data() # >> 감성분석 미포함으로 모델 돌릴 땐 stock_df 바로 사용하면 됨\n",
    "total_df = loader.merging(stock=stock_df, news=news_df) # 주식데이터셋에 감성분석,토픽 포함시킨 전체 데이터셋"
   ]
  },
  {
   "cell_type": "markdown",
   "id": "c4313692",
   "metadata": {},
   "source": [
    "### Choose dataset & Hyperparameter setting"
   ]
  },
  {
   "cell_type": "code",
   "execution_count": 4,
   "id": "56432e2c",
   "metadata": {
    "ExecuteTime": {
     "end_time": "2024-02-22T13:27:11.852920Z",
     "start_time": "2024-02-22T13:27:11.839872Z"
    }
   },
   "outputs": [],
   "source": [
    "data, dataname = stock_df, 'stock_df' # stock_df / total_df\n",
    "TARGET = \"1d_ROC\"                      # \"Close\" / \"1d_ROC\"\n",
    "SEQ_SIZE = 30                         # 30 / 60 / 120\n",
    "PRED_SIZE = 10\n",
    "BATCH_SIZE = 1                        # 1 / 4 / 8\n",
    "HIDDEN_SIZE = 64                      # 64 / 128\n",
    "EPOCHS = 1000"
   ]
  },
  {
   "cell_type": "code",
   "execution_count": 5,
   "id": "75768c12",
   "metadata": {
    "ExecuteTime": {
     "end_time": "2024-02-22T13:27:11.884303Z",
     "start_time": "2024-02-22T13:27:11.854853Z"
    }
   },
   "outputs": [
    {
     "data": {
      "text/html": [
       "<div>\n",
       "<style scoped>\n",
       "    .dataframe tbody tr th:only-of-type {\n",
       "        vertical-align: middle;\n",
       "    }\n",
       "\n",
       "    .dataframe tbody tr th {\n",
       "        vertical-align: top;\n",
       "    }\n",
       "\n",
       "    .dataframe thead th {\n",
       "        text-align: right;\n",
       "    }\n",
       "</style>\n",
       "<table border=\"1\" class=\"dataframe\">\n",
       "  <thead>\n",
       "    <tr style=\"text-align: right;\">\n",
       "      <th></th>\n",
       "      <th>Open</th>\n",
       "      <th>Close</th>\n",
       "      <th>High</th>\n",
       "      <th>Low</th>\n",
       "      <th>Volume</th>\n",
       "      <th>1d_ROC</th>\n",
       "      <th>5d_ROC</th>\n",
       "      <th>5MA</th>\n",
       "      <th>120MA</th>\n",
       "      <th>bol_high</th>\n",
       "      <th>...</th>\n",
       "      <th>DPO</th>\n",
       "      <th>KST</th>\n",
       "      <th>STC</th>\n",
       "      <th>RSI</th>\n",
       "      <th>SRSI</th>\n",
       "      <th>UO</th>\n",
       "      <th>MFI</th>\n",
       "      <th>SPOT</th>\n",
       "      <th>PINS</th>\n",
       "      <th>FB</th>\n",
       "    </tr>\n",
       "    <tr>\n",
       "      <th>Date</th>\n",
       "      <th></th>\n",
       "      <th></th>\n",
       "      <th></th>\n",
       "      <th></th>\n",
       "      <th></th>\n",
       "      <th></th>\n",
       "      <th></th>\n",
       "      <th></th>\n",
       "      <th></th>\n",
       "      <th></th>\n",
       "      <th></th>\n",
       "      <th></th>\n",
       "      <th></th>\n",
       "      <th></th>\n",
       "      <th></th>\n",
       "      <th></th>\n",
       "      <th></th>\n",
       "      <th></th>\n",
       "      <th></th>\n",
       "      <th></th>\n",
       "      <th></th>\n",
       "    </tr>\n",
       "  </thead>\n",
       "  <tbody>\n",
       "    <tr>\n",
       "      <th>2019-01-02</th>\n",
       "      <td>259.28</td>\n",
       "      <td>267.66</td>\n",
       "      <td>269.75</td>\n",
       "      <td>256.58</td>\n",
       "      <td>11642148</td>\n",
       "      <td>0.000000</td>\n",
       "      <td>14.443304</td>\n",
       "      <td>260.128</td>\n",
       "      <td>325.000667</td>\n",
       "      <td>286.872017</td>\n",
       "      <td>...</td>\n",
       "      <td>2.1680</td>\n",
       "      <td>-88.281564</td>\n",
       "      <td>44.762606</td>\n",
       "      <td>45.523889</td>\n",
       "      <td>0.384404</td>\n",
       "      <td>48.377492</td>\n",
       "      <td>44.377291</td>\n",
       "      <td>135.68</td>\n",
       "      <td>24.99</td>\n",
       "      <td>113.74</td>\n",
       "    </tr>\n",
       "    <tr>\n",
       "      <th>2019-01-03</th>\n",
       "      <td>270.20</td>\n",
       "      <td>271.20</td>\n",
       "      <td>275.79</td>\n",
       "      <td>264.43</td>\n",
       "      <td>14954204</td>\n",
       "      <td>1.322573</td>\n",
       "      <td>6.910553</td>\n",
       "      <td>263.634</td>\n",
       "      <td>323.962333</td>\n",
       "      <td>286.339561</td>\n",
       "      <td>...</td>\n",
       "      <td>-1.6655</td>\n",
       "      <td>-86.593692</td>\n",
       "      <td>64.779342</td>\n",
       "      <td>45.949547</td>\n",
       "      <td>0.424055</td>\n",
       "      <td>49.951722</td>\n",
       "      <td>46.086376</td>\n",
       "      <td>131.74</td>\n",
       "      <td>24.99</td>\n",
       "      <td>109.02</td>\n",
       "    </tr>\n",
       "    <tr>\n",
       "      <th>2019-01-04</th>\n",
       "      <td>281.88</td>\n",
       "      <td>297.57</td>\n",
       "      <td>297.80</td>\n",
       "      <td>278.54</td>\n",
       "      <td>19309374</td>\n",
       "      <td>9.723451</td>\n",
       "      <td>16.433854</td>\n",
       "      <td>272.034</td>\n",
       "      <td>323.104750</td>\n",
       "      <td>291.444515</td>\n",
       "      <td>...</td>\n",
       "      <td>5.3625</td>\n",
       "      <td>-75.831614</td>\n",
       "      <td>79.644575</td>\n",
       "      <td>48.970092</td>\n",
       "      <td>0.705424</td>\n",
       "      <td>53.480333</td>\n",
       "      <td>46.642910</td>\n",
       "      <td>137.95</td>\n",
       "      <td>24.99</td>\n",
       "      <td>118.51</td>\n",
       "    </tr>\n",
       "    <tr>\n",
       "      <th>2019-01-07</th>\n",
       "      <td>302.10</td>\n",
       "      <td>315.34</td>\n",
       "      <td>316.80</td>\n",
       "      <td>301.65</td>\n",
       "      <td>18598132</td>\n",
       "      <td>5.971704</td>\n",
       "      <td>23.141206</td>\n",
       "      <td>283.886</td>\n",
       "      <td>322.570250</td>\n",
       "      <td>300.275444</td>\n",
       "      <td>...</td>\n",
       "      <td>-0.4305</td>\n",
       "      <td>-56.832386</td>\n",
       "      <td>89.822288</td>\n",
       "      <td>50.852293</td>\n",
       "      <td>0.880754</td>\n",
       "      <td>56.283542</td>\n",
       "      <td>48.992941</td>\n",
       "      <td>138.05</td>\n",
       "      <td>24.99</td>\n",
       "      <td>119.36</td>\n",
       "    </tr>\n",
       "    <tr>\n",
       "      <th>2019-01-08</th>\n",
       "      <td>319.98</td>\n",
       "      <td>320.27</td>\n",
       "      <td>320.59</td>\n",
       "      <td>308.01</td>\n",
       "      <td>15324452</td>\n",
       "      <td>1.563392</td>\n",
       "      <td>19.655533</td>\n",
       "      <td>294.408</td>\n",
       "      <td>322.113083</td>\n",
       "      <td>310.280492</td>\n",
       "      <td>...</td>\n",
       "      <td>-9.3770</td>\n",
       "      <td>-28.087969</td>\n",
       "      <td>94.911144</td>\n",
       "      <td>51.358475</td>\n",
       "      <td>0.927906</td>\n",
       "      <td>59.329800</td>\n",
       "      <td>51.038876</td>\n",
       "      <td>142.53</td>\n",
       "      <td>24.99</td>\n",
       "      <td>117.48</td>\n",
       "    </tr>\n",
       "    <tr>\n",
       "      <th>...</th>\n",
       "      <td>...</td>\n",
       "      <td>...</td>\n",
       "      <td>...</td>\n",
       "      <td>...</td>\n",
       "      <td>...</td>\n",
       "      <td>...</td>\n",
       "      <td>...</td>\n",
       "      <td>...</td>\n",
       "      <td>...</td>\n",
       "      <td>...</td>\n",
       "      <td>...</td>\n",
       "      <td>...</td>\n",
       "      <td>...</td>\n",
       "      <td>...</td>\n",
       "      <td>...</td>\n",
       "      <td>...</td>\n",
       "      <td>...</td>\n",
       "      <td>...</td>\n",
       "      <td>...</td>\n",
       "      <td>...</td>\n",
       "      <td>...</td>\n",
       "    </tr>\n",
       "    <tr>\n",
       "      <th>2023-12-22</th>\n",
       "      <td>494.00</td>\n",
       "      <td>486.76</td>\n",
       "      <td>496.02</td>\n",
       "      <td>485.45</td>\n",
       "      <td>2702672</td>\n",
       "      <td>-0.986554</td>\n",
       "      <td>3.114011</td>\n",
       "      <td>489.756</td>\n",
       "      <td>428.004000</td>\n",
       "      <td>500.053490</td>\n",
       "      <td>...</td>\n",
       "      <td>-19.5075</td>\n",
       "      <td>65.080263</td>\n",
       "      <td>94.696173</td>\n",
       "      <td>58.277287</td>\n",
       "      <td>0.909965</td>\n",
       "      <td>52.260244</td>\n",
       "      <td>63.797634</td>\n",
       "      <td>353.39</td>\n",
       "      <td>37.38</td>\n",
       "      <td>189.59</td>\n",
       "    </tr>\n",
       "    <tr>\n",
       "      <th>2023-12-26</th>\n",
       "      <td>489.39</td>\n",
       "      <td>491.19</td>\n",
       "      <td>491.48</td>\n",
       "      <td>486.38</td>\n",
       "      <td>2032683</td>\n",
       "      <td>0.910099</td>\n",
       "      <td>1.042952</td>\n",
       "      <td>490.770</td>\n",
       "      <td>428.440250</td>\n",
       "      <td>501.759236</td>\n",
       "      <td>...</td>\n",
       "      <td>-18.3485</td>\n",
       "      <td>67.068382</td>\n",
       "      <td>97.348086</td>\n",
       "      <td>58.776649</td>\n",
       "      <td>0.941589</td>\n",
       "      <td>54.393804</td>\n",
       "      <td>63.632425</td>\n",
       "      <td>354.83</td>\n",
       "      <td>37.16</td>\n",
       "      <td>189.88</td>\n",
       "    </tr>\n",
       "    <tr>\n",
       "      <th>2023-12-27</th>\n",
       "      <td>491.24</td>\n",
       "      <td>491.79</td>\n",
       "      <td>494.02</td>\n",
       "      <td>489.25</td>\n",
       "      <td>2559832</td>\n",
       "      <td>0.122152</td>\n",
       "      <td>-0.652499</td>\n",
       "      <td>490.124</td>\n",
       "      <td>428.887667</td>\n",
       "      <td>503.497049</td>\n",
       "      <td>...</td>\n",
       "      <td>-12.8580</td>\n",
       "      <td>69.341178</td>\n",
       "      <td>98.674043</td>\n",
       "      <td>58.844494</td>\n",
       "      <td>0.945886</td>\n",
       "      <td>53.844831</td>\n",
       "      <td>63.654456</td>\n",
       "      <td>357.83</td>\n",
       "      <td>37.30</td>\n",
       "      <td>190.27</td>\n",
       "    </tr>\n",
       "    <tr>\n",
       "      <th>2023-12-28</th>\n",
       "      <td>492.00</td>\n",
       "      <td>490.51</td>\n",
       "      <td>492.89</td>\n",
       "      <td>489.07</td>\n",
       "      <td>1708897</td>\n",
       "      <td>-0.260274</td>\n",
       "      <td>0.253439</td>\n",
       "      <td>490.372</td>\n",
       "      <td>429.294333</td>\n",
       "      <td>505.082300</td>\n",
       "      <td>...</td>\n",
       "      <td>-10.4140</td>\n",
       "      <td>70.353821</td>\n",
       "      <td>99.337022</td>\n",
       "      <td>58.635136</td>\n",
       "      <td>0.932627</td>\n",
       "      <td>56.424787</td>\n",
       "      <td>62.273166</td>\n",
       "      <td>358.32</td>\n",
       "      <td>37.27</td>\n",
       "      <td>188.75</td>\n",
       "    </tr>\n",
       "    <tr>\n",
       "      <th>2023-12-29</th>\n",
       "      <td>490.37</td>\n",
       "      <td>486.88</td>\n",
       "      <td>492.23</td>\n",
       "      <td>481.93</td>\n",
       "      <td>2740555</td>\n",
       "      <td>-0.740046</td>\n",
       "      <td>-0.962145</td>\n",
       "      <td>489.426</td>\n",
       "      <td>429.683250</td>\n",
       "      <td>506.268495</td>\n",
       "      <td>...</td>\n",
       "      <td>5.9205</td>\n",
       "      <td>71.791380</td>\n",
       "      <td>97.768184</td>\n",
       "      <td>58.039604</td>\n",
       "      <td>0.894912</td>\n",
       "      <td>54.783359</td>\n",
       "      <td>62.412709</td>\n",
       "      <td>353.96</td>\n",
       "      <td>37.04</td>\n",
       "      <td>187.91</td>\n",
       "    </tr>\n",
       "  </tbody>\n",
       "</table>\n",
       "<p>1257 rows × 37 columns</p>\n",
       "</div>"
      ],
      "text/plain": [
       "              Open   Close    High     Low    Volume    1d_ROC     5d_ROC  \\\n",
       "Date                                                                        \n",
       "2019-01-02  259.28  267.66  269.75  256.58  11642148  0.000000  14.443304   \n",
       "2019-01-03  270.20  271.20  275.79  264.43  14954204  1.322573   6.910553   \n",
       "2019-01-04  281.88  297.57  297.80  278.54  19309374  9.723451  16.433854   \n",
       "2019-01-07  302.10  315.34  316.80  301.65  18598132  5.971704  23.141206   \n",
       "2019-01-08  319.98  320.27  320.59  308.01  15324452  1.563392  19.655533   \n",
       "...            ...     ...     ...     ...       ...       ...        ...   \n",
       "2023-12-22  494.00  486.76  496.02  485.45   2702672 -0.986554   3.114011   \n",
       "2023-12-26  489.39  491.19  491.48  486.38   2032683  0.910099   1.042952   \n",
       "2023-12-27  491.24  491.79  494.02  489.25   2559832  0.122152  -0.652499   \n",
       "2023-12-28  492.00  490.51  492.89  489.07   1708897 -0.260274   0.253439   \n",
       "2023-12-29  490.37  486.88  492.23  481.93   2740555 -0.740046  -0.962145   \n",
       "\n",
       "                5MA       120MA    bol_high  ...      DPO        KST  \\\n",
       "Date                                         ...                       \n",
       "2019-01-02  260.128  325.000667  286.872017  ...   2.1680 -88.281564   \n",
       "2019-01-03  263.634  323.962333  286.339561  ...  -1.6655 -86.593692   \n",
       "2019-01-04  272.034  323.104750  291.444515  ...   5.3625 -75.831614   \n",
       "2019-01-07  283.886  322.570250  300.275444  ...  -0.4305 -56.832386   \n",
       "2019-01-08  294.408  322.113083  310.280492  ...  -9.3770 -28.087969   \n",
       "...             ...         ...         ...  ...      ...        ...   \n",
       "2023-12-22  489.756  428.004000  500.053490  ... -19.5075  65.080263   \n",
       "2023-12-26  490.770  428.440250  501.759236  ... -18.3485  67.068382   \n",
       "2023-12-27  490.124  428.887667  503.497049  ... -12.8580  69.341178   \n",
       "2023-12-28  490.372  429.294333  505.082300  ... -10.4140  70.353821   \n",
       "2023-12-29  489.426  429.683250  506.268495  ...   5.9205  71.791380   \n",
       "\n",
       "                  STC        RSI      SRSI         UO        MFI    SPOT  \\\n",
       "Date                                                                       \n",
       "2019-01-02  44.762606  45.523889  0.384404  48.377492  44.377291  135.68   \n",
       "2019-01-03  64.779342  45.949547  0.424055  49.951722  46.086376  131.74   \n",
       "2019-01-04  79.644575  48.970092  0.705424  53.480333  46.642910  137.95   \n",
       "2019-01-07  89.822288  50.852293  0.880754  56.283542  48.992941  138.05   \n",
       "2019-01-08  94.911144  51.358475  0.927906  59.329800  51.038876  142.53   \n",
       "...               ...        ...       ...        ...        ...     ...   \n",
       "2023-12-22  94.696173  58.277287  0.909965  52.260244  63.797634  353.39   \n",
       "2023-12-26  97.348086  58.776649  0.941589  54.393804  63.632425  354.83   \n",
       "2023-12-27  98.674043  58.844494  0.945886  53.844831  63.654456  357.83   \n",
       "2023-12-28  99.337022  58.635136  0.932627  56.424787  62.273166  358.32   \n",
       "2023-12-29  97.768184  58.039604  0.894912  54.783359  62.412709  353.96   \n",
       "\n",
       "             PINS      FB  \n",
       "Date                       \n",
       "2019-01-02  24.99  113.74  \n",
       "2019-01-03  24.99  109.02  \n",
       "2019-01-04  24.99  118.51  \n",
       "2019-01-07  24.99  119.36  \n",
       "2019-01-08  24.99  117.48  \n",
       "...           ...     ...  \n",
       "2023-12-22  37.38  189.59  \n",
       "2023-12-26  37.16  189.88  \n",
       "2023-12-27  37.30  190.27  \n",
       "2023-12-28  37.27  188.75  \n",
       "2023-12-29  37.04  187.91  \n",
       "\n",
       "[1257 rows x 37 columns]"
      ]
     },
     "execution_count": 5,
     "metadata": {},
     "output_type": "execute_result"
    }
   ],
   "source": [
    "data.index = data[\"Date\"]\n",
    "data.drop(columns = \"Date\", inplace = True)\n",
    "data[\"PINS\"].fillna(24.99, inplace = True)\n",
    "data"
   ]
  },
  {
   "cell_type": "markdown",
   "id": "rm-R3f2nuoxg",
   "metadata": {
    "id": "rm-R3f2nuoxg"
   },
   "source": [
    "### Make train datset"
   ]
  },
  {
   "cell_type": "code",
   "execution_count": 6,
   "id": "59b63d6f",
   "metadata": {
    "ExecuteTime": {
     "end_time": "2024-02-22T13:27:12.132781Z",
     "start_time": "2024-02-22T13:27:11.886728Z"
    },
    "colab": {
     "base_uri": "https://localhost:8080/"
    },
    "id": "59b63d6f",
    "outputId": "4940f01b-4337-475e-f42e-e07119dac23a"
   },
   "outputs": [
    {
     "name": "stdout",
     "output_type": "stream",
     "text": [
      "[[259.28 267.66 269.75 ... 135.68  24.99 113.74]\n",
      " [270.2  271.2  275.79 ... 131.74  24.99 109.02]\n",
      " [281.88 297.57 297.8  ... 137.95  24.99 118.51]\n",
      " ...\n",
      " [350.   345.73 352.87 ... 165.79  24.99 137.82]\n",
      " [348.09 359.97 360.   ... 165.04  24.99 140.46]\n",
      " [357.3  351.77 359.6  ... 164.07  24.99 143.54]] \n",
      " [ 2.0752196  -0.6126939   1.41508112 -0.55537135 -0.81687088  1.69482029\n",
      "  0.24516556  0.29128081 -0.57538976 -1.31452035]\n",
      "X size :  (1218, 30, 37)\n",
      "y size :  (1218, 10)\n"
     ]
    }
   ],
   "source": [
    "def split_xy(dataset, time_steps, y_column):\n",
    "    x, y = list(), list()\n",
    "    for i in range(len(dataset)):\n",
    "        x_end_number = i + time_steps\n",
    "        y_end_number = x_end_number + y_column\n",
    "\n",
    "        if y_end_number > len(dataset):\n",
    "            break\n",
    "        tmp_x = dataset.iloc[i:x_end_number, :]  # Adjusted for Pandas\n",
    "        tmp_y = dataset.iloc[x_end_number:y_end_number, :].loc[:, TARGET]\n",
    "        x.append(tmp_x.values)  # Convert to numpy array\n",
    "        y.append(tmp_y.values)  # Convert to numpy array\n",
    "\n",
    "    return np.array(x), np.array(y)\n",
    "\n",
    "X, y = split_xy(data, SEQ_SIZE, PRED_SIZE)\n",
    "print(X[0,:],\"\\n\", y[0])\n",
    "print(\"X size : \", X.shape)\n",
    "print(\"y size : \", y.shape)"
   ]
  },
  {
   "cell_type": "markdown",
   "id": "26bf33a6",
   "metadata": {},
   "source": [
    "### Define X_test"
   ]
  },
  {
   "cell_type": "code",
   "execution_count": 7,
   "id": "e7e9475c",
   "metadata": {
    "ExecuteTime": {
     "end_time": "2024-02-22T13:27:12.148370Z",
     "start_time": "2024-02-22T13:27:12.134779Z"
    }
   },
   "outputs": [
    {
     "name": "stdout",
     "output_type": "stream",
     "text": [
      "[[[463.   466.95 467.28 ... 334.19  31.27 175.28]\n",
      "  [466.95 465.91 467.65 ... 335.04  31.49 176.05]\n",
      "  [465.4  474.47 476.76 ... 339.97  32.13 179.86]\n",
      "  ...\n",
      "  [491.24 491.79 494.02 ... 357.83  37.3  190.27]\n",
      "  [492.   490.51 492.89 ... 358.32  37.27 188.75]\n",
      "  [490.37 486.88 492.23 ... 353.96  37.04 187.91]]]\n",
      "X_test size :  (1, 30, 37)\n"
     ]
    }
   ],
   "source": [
    "X_test = data.tail(SEQ_SIZE).values.reshape(1, SEQ_SIZE, data.shape[1])\n",
    "print(X_test)\n",
    "print(\"X_test size : \", X_test.shape)"
   ]
  },
  {
   "cell_type": "markdown",
   "id": "dvw92WElvA7x",
   "metadata": {
    "id": "dvw92WElvA7x"
   },
   "source": [
    "### Standardization"
   ]
  },
  {
   "cell_type": "code",
   "execution_count": 8,
   "id": "78ba78ed",
   "metadata": {
    "ExecuteTime": {
     "end_time": "2024-02-22T13:27:12.992161Z",
     "start_time": "2024-02-22T13:27:12.150895Z"
    },
    "id": "78ba78ed"
   },
   "outputs": [
    {
     "name": "stdout",
     "output_type": "stream",
     "text": [
      "X size :  (1218, 30, 37)\n",
      "X_test size :  (1, 30, 37)\n"
     ]
    }
   ],
   "source": [
    "from sklearn.preprocessing import StandardScaler\n",
    "\n",
    "X = X.reshape(X.shape[0], X.shape[1] * X.shape[2])\n",
    "scaler = StandardScaler()\n",
    "scaler.fit(X)\n",
    "X = scaler.transform(X)\n",
    "X = X.reshape(X.shape[0], SEQ_SIZE, data.shape[1])\n",
    "\n",
    "X_test = X_test.reshape(X_test.shape[0], X_test.shape[1] * X_test.shape[2])\n",
    "X_test = scaler.transform(X_test)\n",
    "X_test = X_test.reshape(X_test.shape[0], SEQ_SIZE, data.shape[1])\n",
    "\n",
    "print(\"X size : \", X.shape)\n",
    "print(\"X_test size : \", X_test.shape)"
   ]
  },
  {
   "cell_type": "markdown",
   "id": "bf82a36a",
   "metadata": {},
   "source": [
    "### Split train-validation dataset"
   ]
  },
  {
   "cell_type": "code",
   "execution_count": 9,
   "id": "6c9f6dae",
   "metadata": {
    "ExecuteTime": {
     "end_time": "2024-02-22T13:27:17.296046Z",
     "start_time": "2024-02-22T13:27:12.994174Z"
    },
    "id": "6c9f6dae"
   },
   "outputs": [],
   "source": [
    "# to DataLoader\n",
    "import torch\n",
    "from torch.utils.data import Dataset, DataLoader, TensorDataset\n",
    "from sklearn.model_selection import train_test_split\n",
    "\n",
    "X_train, X_valid, y_train, y_valid = train_test_split(X, y, random_state = 1, test_size = 0.2)\n",
    "\n",
    "# to tensor\n",
    "X_train = torch.tensor(X_train.astype(np.float32), dtype = torch.float32)\n",
    "X_valid = torch.tensor(X_valid.astype(np.float32), dtype = torch.float32)\n",
    "y_train = torch.tensor(y_train.astype(np.float32), dtype = torch.float32)\n",
    "y_valid = torch.tensor(y_valid.astype(np.float32), dtype = torch.float32)\n",
    "\n",
    "# to DataLoader\n",
    "train_loader = DataLoader(TensorDataset(X_train, y_train), batch_size = BATCH_SIZE, shuffle = True)\n",
    "val_loader = DataLoader(TensorDataset(X_valid, y_valid), batch_size = BATCH_SIZE, shuffle = False)"
   ]
  },
  {
   "cell_type": "markdown",
   "id": "2kbCnIxevF36",
   "metadata": {
    "id": "2kbCnIxevF36"
   },
   "source": [
    "### Modeling"
   ]
  },
  {
   "cell_type": "code",
   "execution_count": 10,
   "id": "9e64f645",
   "metadata": {
    "ExecuteTime": {
     "end_time": "2024-02-22T13:27:17.327376Z",
     "start_time": "2024-02-22T13:27:17.302160Z"
    },
    "id": "9e64f645"
   },
   "outputs": [],
   "source": [
    "import torch.nn as nn\n",
    "import torch.nn.functional as F\n",
    "import torch.optim as optim\n",
    "from torch.autograd import Variable\n",
    "from torch.nn import Parameter\n",
    "from torch import Tensor\n",
    "from torch.optim.lr_scheduler import ReduceLROnPlateau\n",
    "\n",
    "import copy\n",
    "class EarlyStopping:\n",
    "    def __init__(self, patience = 5, min_delta = 0, restore_best_weights = True):\n",
    "        self.patience = patience\n",
    "        self.min_delta = min_delta\n",
    "        self.restore_best_weights = restore_best_weights\n",
    "        self.best_model = None\n",
    "        self.best_loss = None\n",
    "        self.counter = 0\n",
    "        self.status = \"\"\n",
    "\n",
    "    def __call__(self, model, val_loss):\n",
    "        if self.best_loss is None:\n",
    "            self.best_loss = val_loss\n",
    "            self.best_model = copy.deepcopy(model.state_dict())\n",
    "        elif self.best_loss - val_loss >= self.min_delta:\n",
    "            self.best_model = copy.deepcopy(model.state_dict())\n",
    "            self.best_loss = val_loss\n",
    "            self.counter = 0\n",
    "            self.status = f\"Improvement found, counter reset to {self.counter}\"\n",
    "        else:\n",
    "            self.counter += 1\n",
    "            self.status = f\"No improvement in the last {self.counter} epochs\"\n",
    "            if self.counter >= self.patience:\n",
    "                self.status = f\"Early stopping triggered after {self.counter} epochs.\"\n",
    "                if self.restore_best_weights:\n",
    "                    model.load_state_dict(self.best_model)\n",
    "                return True\n",
    "        return False\n",
    "\n",
    "class LSTMModel(nn.Module):\n",
    "    def __init__(self,input_dim):\n",
    "        super(LSTMModel,self).__init__()\n",
    "        self.lstm = nn.LSTM(input_dim, hidden_size = HIDDEN_SIZE, batch_first = True)\n",
    "        self.dropout = nn.Dropout(0.2)\n",
    "        self.seq = nn.Sequential(nn.Linear(HIDDEN_SIZE, 32),\n",
    "                                nn.ReLU(),\n",
    "                                nn.Linear(32, 32),\n",
    "                                nn.ReLU(),\n",
    "                                nn.Linear(32, 32),\n",
    "                                nn.ReLU(),\n",
    "                                nn.Linear(32, 32),\n",
    "                                nn.ReLU(),\n",
    "                                nn.Linear(32, 32),\n",
    "                                nn.ReLU(),\n",
    "                                nn.Linear(32, PRED_SIZE)\n",
    "                                )\n",
    "\n",
    "    def forward(self,x):\n",
    "        x,_ = self.lstm(x)\n",
    "#         print('output of lstm :',x.size()) # torch.Size([1, 120, 64])\n",
    "        x = self.dropout(x[:,-1,:])\n",
    "#         print('from lstm to linear :',x.size()) # torch.Size([1, 64])\n",
    "        x = self.seq(x)\n",
    "        return x\n",
    "\n",
    "class RMSELoss(nn.Module):\n",
    "    def __init__(self):\n",
    "        super(RMSELoss,self).__init__()\n",
    "        self.mse = nn.MSELoss()\n",
    "\n",
    "    def forward(self,yhat,y):\n",
    "        return torch.sqrt(self.mse(yhat,y))"
   ]
  },
  {
   "cell_type": "code",
   "execution_count": 11,
   "id": "d11f3882",
   "metadata": {
    "ExecuteTime": {
     "end_time": "2024-02-22T13:27:19.043679Z",
     "start_time": "2024-02-22T13:27:17.329844Z"
    },
    "id": "d11f3882"
   },
   "outputs": [],
   "source": [
    "model = LSTMModel(X_train.shape[2])\n",
    "criterion = RMSELoss()\n",
    "optimizer = optim.Adam(model.parameters(), lr = 0.001)\n",
    "scheduler = ReduceLROnPlateau(optimizer, 'min', factor = 0.1, patience = 20, verbose = True)"
   ]
  },
  {
   "cell_type": "markdown",
   "id": "02c1ca85",
   "metadata": {},
   "source": [
    "### RUN!!"
   ]
  },
  {
   "cell_type": "code",
   "execution_count": 12,
   "id": "96bcf3a0",
   "metadata": {
    "ExecuteTime": {
     "end_time": "2024-02-22T13:50:06.050025Z",
     "start_time": "2024-02-22T13:27:19.045678Z"
    },
    "colab": {
     "base_uri": "https://localhost:8080/"
    },
    "id": "96bcf3a0",
    "outputId": "8e6611c8-d91b-4e81-9409-690d192cbc68",
    "scrolled": true
   },
   "outputs": [
    {
     "name": "stdout",
     "output_type": "stream",
     "text": [
      "Epoch 1/1000, Train Loss: 2.5559, Validation Loss: 2.4603\n",
      "Epoch 2/1000, Train Loss: 2.5475, Validation Loss: 2.3381\n",
      "Epoch 3/1000, Train Loss: 2.5302, Validation Loss: 2.3247\n",
      "Epoch 4/1000, Train Loss: 2.5089, Validation Loss: 2.3127\n",
      "Epoch 5/1000, Train Loss: 2.4936, Validation Loss: 2.2887\n",
      "Epoch 6/1000, Train Loss: 2.4795, Validation Loss: 2.2824\n",
      "Epoch 7/1000, Train Loss: 2.4744, Validation Loss: 2.2735\n",
      "Epoch 8/1000, Train Loss: 2.4674, Validation Loss: 2.2793\n",
      "Epoch 9/1000, Train Loss: 2.4624, Validation Loss: 2.2671\n",
      "Epoch 10/1000, Train Loss: 2.4598, Validation Loss: 2.2553\n",
      "Epoch 11/1000, Train Loss: 2.4583, Validation Loss: 2.2574\n",
      "Epoch 12/1000, Train Loss: 2.4567, Validation Loss: 2.2583\n",
      "Epoch 13/1000, Train Loss: 2.4528, Validation Loss: 2.2565\n",
      "Epoch 14/1000, Train Loss: 2.4516, Validation Loss: 2.2568\n",
      "Epoch 15/1000, Train Loss: 2.4495, Validation Loss: 2.2569\n",
      "Epoch 16/1000, Train Loss: 2.4518, Validation Loss: 2.2561\n",
      "Epoch 17/1000, Train Loss: 2.4508, Validation Loss: 2.2500\n",
      "Epoch 18/1000, Train Loss: 2.4454, Validation Loss: 2.2482\n",
      "Epoch 19/1000, Train Loss: 2.4414, Validation Loss: 2.2471\n",
      "Epoch 20/1000, Train Loss: 2.4285, Validation Loss: 2.2375\n",
      "Epoch 21/1000, Train Loss: 2.4141, Validation Loss: 2.2143\n",
      "Epoch 22/1000, Train Loss: 2.3989, Validation Loss: 2.1994\n",
      "Epoch 23/1000, Train Loss: 2.3807, Validation Loss: 2.2269\n",
      "Epoch 24/1000, Train Loss: 2.3706, Validation Loss: 2.1830\n",
      "Epoch 25/1000, Train Loss: 2.3654, Validation Loss: 2.1825\n",
      "Epoch 26/1000, Train Loss: 2.3570, Validation Loss: 2.2022\n",
      "Epoch 27/1000, Train Loss: 2.3549, Validation Loss: 2.1936\n",
      "Epoch 28/1000, Train Loss: 2.3435, Validation Loss: 2.1788\n",
      "Epoch 29/1000, Train Loss: 2.3402, Validation Loss: 2.1719\n",
      "Epoch 30/1000, Train Loss: 2.3360, Validation Loss: 2.1824\n",
      "Epoch 31/1000, Train Loss: 2.3407, Validation Loss: 2.1833\n",
      "Epoch 32/1000, Train Loss: 2.3287, Validation Loss: 2.1681\n",
      "Epoch 33/1000, Train Loss: 2.3265, Validation Loss: 2.1668\n",
      "Epoch 34/1000, Train Loss: 2.3220, Validation Loss: 2.1703\n",
      "Epoch 35/1000, Train Loss: 2.3192, Validation Loss: 2.1613\n",
      "Epoch 36/1000, Train Loss: 2.3243, Validation Loss: 2.1871\n",
      "Epoch 37/1000, Train Loss: 2.3131, Validation Loss: 2.1680\n",
      "Epoch 38/1000, Train Loss: 2.3094, Validation Loss: 2.1765\n",
      "Epoch 39/1000, Train Loss: 2.3045, Validation Loss: 2.1692\n",
      "Epoch 40/1000, Train Loss: 2.3006, Validation Loss: 2.1739\n",
      "Epoch 41/1000, Train Loss: 2.2911, Validation Loss: 2.1602\n",
      "Epoch 42/1000, Train Loss: 2.2910, Validation Loss: 2.1724\n",
      "Epoch 43/1000, Train Loss: 2.2960, Validation Loss: 2.1672\n",
      "Epoch 44/1000, Train Loss: 2.2920, Validation Loss: 2.1556\n",
      "Epoch 45/1000, Train Loss: 2.2842, Validation Loss: 2.1469\n",
      "Epoch 46/1000, Train Loss: 2.2812, Validation Loss: 2.1476\n",
      "Epoch 47/1000, Train Loss: 2.2789, Validation Loss: 2.1591\n",
      "Epoch 48/1000, Train Loss: 2.2893, Validation Loss: 2.1710\n",
      "Epoch 49/1000, Train Loss: 2.2772, Validation Loss: 2.1533\n",
      "Epoch 50/1000, Train Loss: 2.2616, Validation Loss: 2.1602\n",
      "Epoch 51/1000, Train Loss: 2.2710, Validation Loss: 2.1476\n",
      "Epoch 52/1000, Train Loss: 2.2661, Validation Loss: 2.1503\n",
      "Epoch 53/1000, Train Loss: 2.2593, Validation Loss: 2.1667\n",
      "Epoch 54/1000, Train Loss: 2.2546, Validation Loss: 2.1435\n",
      "Epoch 55/1000, Train Loss: 2.2652, Validation Loss: 2.1512\n",
      "Epoch 56/1000, Train Loss: 2.2471, Validation Loss: 2.1485\n",
      "Epoch 57/1000, Train Loss: 2.2567, Validation Loss: 2.1550\n",
      "Epoch 58/1000, Train Loss: 2.2404, Validation Loss: 2.1516\n",
      "Epoch 59/1000, Train Loss: 2.2533, Validation Loss: 2.1750\n",
      "Epoch 60/1000, Train Loss: 2.2357, Validation Loss: 2.1771\n",
      "Epoch 61/1000, Train Loss: 2.2498, Validation Loss: 2.1539\n",
      "Epoch 62/1000, Train Loss: 2.2273, Validation Loss: 2.1545\n",
      "Epoch 63/1000, Train Loss: 2.2414, Validation Loss: 2.1452\n",
      "Epoch 64/1000, Train Loss: 2.2218, Validation Loss: 2.1538\n",
      "Epoch 65/1000, Train Loss: 2.2243, Validation Loss: 2.1471\n",
      "Epoch 66/1000, Train Loss: 2.2142, Validation Loss: 2.1588\n",
      "Epoch 67/1000, Train Loss: 2.2118, Validation Loss: 2.1406\n",
      "Epoch 68/1000, Train Loss: 2.2148, Validation Loss: 2.1431\n",
      "Epoch 69/1000, Train Loss: 2.2149, Validation Loss: 2.1510\n",
      "Epoch 70/1000, Train Loss: 2.2018, Validation Loss: 2.1474\n",
      "Epoch 71/1000, Train Loss: 2.2040, Validation Loss: 2.1523\n",
      "Epoch 72/1000, Train Loss: 2.2056, Validation Loss: 2.1565\n",
      "Epoch 73/1000, Train Loss: 2.1905, Validation Loss: 2.1314\n",
      "Epoch 74/1000, Train Loss: 2.1961, Validation Loss: 2.1615\n",
      "Epoch 75/1000, Train Loss: 2.2019, Validation Loss: 2.1604\n",
      "Epoch 76/1000, Train Loss: 2.1949, Validation Loss: 2.1606\n",
      "Epoch 77/1000, Train Loss: 2.1822, Validation Loss: 2.1464\n",
      "Epoch 78/1000, Train Loss: 2.1872, Validation Loss: 2.1450\n",
      "Epoch 79/1000, Train Loss: 2.1823, Validation Loss: 2.1568\n",
      "Epoch 80/1000, Train Loss: 2.1815, Validation Loss: 2.1815\n",
      "Epoch 81/1000, Train Loss: 2.1786, Validation Loss: 2.1422\n",
      "Epoch 82/1000, Train Loss: 2.1649, Validation Loss: 2.1635\n",
      "Epoch 83/1000, Train Loss: 2.1722, Validation Loss: 2.1395\n",
      "Epoch 84/1000, Train Loss: 2.1661, Validation Loss: 2.1731\n",
      "Epoch 85/1000, Train Loss: 2.1649, Validation Loss: 2.1375\n",
      "Epoch 86/1000, Train Loss: 2.1431, Validation Loss: 2.1343\n",
      "Epoch 87/1000, Train Loss: 2.1625, Validation Loss: 2.1237\n",
      "Epoch 88/1000, Train Loss: 2.1463, Validation Loss: 2.1347\n",
      "Epoch 89/1000, Train Loss: 2.1461, Validation Loss: 2.1288\n",
      "Epoch 90/1000, Train Loss: 2.1369, Validation Loss: 2.1504\n",
      "Epoch 91/1000, Train Loss: 2.1414, Validation Loss: 2.1377\n",
      "Epoch 92/1000, Train Loss: 2.1438, Validation Loss: 2.1204\n",
      "Epoch 93/1000, Train Loss: 2.1247, Validation Loss: 2.1272\n",
      "Epoch 94/1000, Train Loss: 2.1375, Validation Loss: 2.1335\n",
      "Epoch 95/1000, Train Loss: 2.1350, Validation Loss: 2.1594\n",
      "Epoch 96/1000, Train Loss: 2.1340, Validation Loss: 2.1432\n",
      "Epoch 97/1000, Train Loss: 2.1203, Validation Loss: 2.1379\n",
      "Epoch 98/1000, Train Loss: 2.1301, Validation Loss: 2.1260\n",
      "Epoch 99/1000, Train Loss: 2.1288, Validation Loss: 2.1566\n",
      "Epoch 100/1000, Train Loss: 2.1457, Validation Loss: 2.1203\n",
      "Epoch 101/1000, Train Loss: 2.1215, Validation Loss: 2.1356\n",
      "Epoch 102/1000, Train Loss: 2.1135, Validation Loss: 2.1498\n",
      "Epoch 103/1000, Train Loss: 2.1140, Validation Loss: 2.1443\n",
      "Epoch 104/1000, Train Loss: 2.1161, Validation Loss: 2.1420\n",
      "Epoch 105/1000, Train Loss: 2.1037, Validation Loss: 2.1282\n",
      "Epoch 106/1000, Train Loss: 2.0980, Validation Loss: 2.1323\n",
      "Epoch 107/1000, Train Loss: 2.1011, Validation Loss: 2.1377\n",
      "Epoch 108/1000, Train Loss: 2.0857, Validation Loss: 2.1362\n",
      "Epoch 109/1000, Train Loss: 2.0854, Validation Loss: 2.2005\n",
      "Epoch 110/1000, Train Loss: 2.1102, Validation Loss: 2.1464\n",
      "Epoch 111/1000, Train Loss: 2.1080, Validation Loss: 2.1479\n",
      "Epoch 112/1000, Train Loss: 2.0877, Validation Loss: 2.1607\n",
      "Epoch 00113: reducing learning rate of group 0 to 1.0000e-04.\n",
      "Epoch 113/1000, Train Loss: 2.1207, Validation Loss: 2.1880\n",
      "Epoch 114/1000, Train Loss: 2.1209, Validation Loss: 2.1417\n",
      "Epoch 115/1000, Train Loss: 2.0857, Validation Loss: 2.1474\n",
      "Epoch 116/1000, Train Loss: 2.0692, Validation Loss: 2.1513\n",
      "Epoch 117/1000, Train Loss: 2.0630, Validation Loss: 2.1592\n",
      "Epoch 118/1000, Train Loss: 2.0635, Validation Loss: 2.1549\n",
      "Epoch 119/1000, Train Loss: 2.0506, Validation Loss: 2.1485\n",
      "Epoch 120/1000, Train Loss: 2.0157, Validation Loss: 2.1480\n",
      "Epoch 121/1000, Train Loss: 2.0130, Validation Loss: 2.1435\n",
      "Epoch 122/1000, Train Loss: 2.0153, Validation Loss: 2.1636\n",
      "Epoch 123/1000, Train Loss: 2.0127, Validation Loss: 2.1746\n",
      "Epoch 124/1000, Train Loss: 2.0143, Validation Loss: 2.1553\n",
      "Epoch 125/1000, Train Loss: 2.0022, Validation Loss: 2.1552\n",
      "Epoch 126/1000, Train Loss: 2.0042, Validation Loss: 2.1401\n",
      "Epoch 127/1000, Train Loss: 2.0079, Validation Loss: 2.1204\n",
      "Epoch 128/1000, Train Loss: 2.0045, Validation Loss: 2.1177\n",
      "Epoch 129/1000, Train Loss: 2.0008, Validation Loss: 2.1335\n",
      "Epoch 130/1000, Train Loss: 1.9945, Validation Loss: 2.1217\n",
      "Epoch 131/1000, Train Loss: 1.9883, Validation Loss: 2.1389\n",
      "Epoch 132/1000, Train Loss: 1.9905, Validation Loss: 2.1244\n",
      "Epoch 133/1000, Train Loss: 1.9868, Validation Loss: 2.1169\n",
      "Epoch 134/1000, Train Loss: 1.9909, Validation Loss: 2.1242\n",
      "Epoch 135/1000, Train Loss: 1.9874, Validation Loss: 2.1208\n",
      "Epoch 136/1000, Train Loss: 1.9797, Validation Loss: 2.1259\n",
      "Epoch 137/1000, Train Loss: 1.9833, Validation Loss: 2.1436\n",
      "Epoch 138/1000, Train Loss: 1.9808, Validation Loss: 2.1332\n"
     ]
    },
    {
     "name": "stdout",
     "output_type": "stream",
     "text": [
      "Epoch 139/1000, Train Loss: 1.9792, Validation Loss: 2.1261\n",
      "Epoch 140/1000, Train Loss: 1.9897, Validation Loss: 2.1342\n",
      "Epoch 141/1000, Train Loss: 1.9790, Validation Loss: 2.1336\n",
      "Epoch 142/1000, Train Loss: 1.9789, Validation Loss: 2.1368\n",
      "Epoch 143/1000, Train Loss: 1.9742, Validation Loss: 2.1508\n",
      "Epoch 144/1000, Train Loss: 1.9665, Validation Loss: 2.1441\n",
      "Epoch 145/1000, Train Loss: 1.9800, Validation Loss: 2.1432\n",
      "Epoch 146/1000, Train Loss: 1.9625, Validation Loss: 2.1490\n",
      "Epoch 147/1000, Train Loss: 1.9735, Validation Loss: 2.1382\n",
      "Epoch 148/1000, Train Loss: 1.9673, Validation Loss: 2.1480\n",
      "Epoch 149/1000, Train Loss: 1.9643, Validation Loss: 2.1427\n",
      "Epoch 150/1000, Train Loss: 1.9624, Validation Loss: 2.1429\n",
      "Epoch 151/1000, Train Loss: 1.9587, Validation Loss: 2.1447\n",
      "Epoch 152/1000, Train Loss: 1.9578, Validation Loss: 2.1350\n",
      "Epoch 153/1000, Train Loss: 1.9582, Validation Loss: 2.1236\n",
      "Epoch 00154: reducing learning rate of group 0 to 1.0000e-05.\n",
      "Epoch 154/1000, Train Loss: 1.9546, Validation Loss: 2.1206\n",
      "Epoch 155/1000, Train Loss: 1.9591, Validation Loss: 2.1198\n",
      "Epoch 156/1000, Train Loss: 1.9559, Validation Loss: 2.1197\n",
      "Epoch 157/1000, Train Loss: 1.9552, Validation Loss: 2.1187\n",
      "Epoch 158/1000, Train Loss: 1.9542, Validation Loss: 2.1184\n",
      "Epoch 159/1000, Train Loss: 1.9430, Validation Loss: 2.1178\n",
      "Epoch 160/1000, Train Loss: 1.9593, Validation Loss: 2.1175\n",
      "Epoch 161/1000, Train Loss: 1.9504, Validation Loss: 2.1167\n",
      "Epoch 162/1000, Train Loss: 1.9544, Validation Loss: 2.1164\n",
      "Epoch 163/1000, Train Loss: 1.9523, Validation Loss: 2.1159\n",
      "Epoch 164/1000, Train Loss: 1.9538, Validation Loss: 2.1152\n",
      "Epoch 165/1000, Train Loss: 1.9481, Validation Loss: 2.1162\n",
      "Epoch 166/1000, Train Loss: 1.9591, Validation Loss: 2.1156\n",
      "Epoch 167/1000, Train Loss: 1.9552, Validation Loss: 2.1162\n",
      "Epoch 168/1000, Train Loss: 1.9519, Validation Loss: 2.1158\n",
      "Epoch 169/1000, Train Loss: 1.9459, Validation Loss: 2.1159\n",
      "Epoch 170/1000, Train Loss: 1.9490, Validation Loss: 2.1153\n",
      "Epoch 171/1000, Train Loss: 1.9400, Validation Loss: 2.1153\n",
      "Epoch 172/1000, Train Loss: 1.9590, Validation Loss: 2.1154\n",
      "Epoch 173/1000, Train Loss: 1.9503, Validation Loss: 2.1145\n",
      "Epoch 174/1000, Train Loss: 1.9544, Validation Loss: 2.1152\n",
      "Epoch 175/1000, Train Loss: 1.9505, Validation Loss: 2.1164\n",
      "Epoch 176/1000, Train Loss: 1.9438, Validation Loss: 2.1168\n",
      "Epoch 177/1000, Train Loss: 1.9498, Validation Loss: 2.1149\n",
      "Epoch 178/1000, Train Loss: 1.9515, Validation Loss: 2.1152\n",
      "Epoch 179/1000, Train Loss: 1.9572, Validation Loss: 2.1140\n",
      "Epoch 180/1000, Train Loss: 1.9443, Validation Loss: 2.1151\n",
      "Epoch 181/1000, Train Loss: 1.9412, Validation Loss: 2.1140\n",
      "Epoch 182/1000, Train Loss: 1.9525, Validation Loss: 2.1140\n",
      "Epoch 183/1000, Train Loss: 1.9497, Validation Loss: 2.1146\n",
      "Epoch 184/1000, Train Loss: 1.9468, Validation Loss: 2.1140\n",
      "Epoch 185/1000, Train Loss: 1.9492, Validation Loss: 2.1142\n",
      "Epoch 186/1000, Train Loss: 1.9500, Validation Loss: 2.1152\n",
      "Epoch 187/1000, Train Loss: 1.9487, Validation Loss: 2.1158\n",
      "Epoch 188/1000, Train Loss: 1.9469, Validation Loss: 2.1161\n",
      "Epoch 189/1000, Train Loss: 1.9480, Validation Loss: 2.1158\n",
      "Epoch 190/1000, Train Loss: 1.9562, Validation Loss: 2.1149\n",
      "Epoch 191/1000, Train Loss: 1.9489, Validation Loss: 2.1160\n",
      "Epoch 192/1000, Train Loss: 1.9472, Validation Loss: 2.1168\n",
      "Epoch 193/1000, Train Loss: 1.9415, Validation Loss: 2.1168\n",
      "Epoch 194/1000, Train Loss: 1.9526, Validation Loss: 2.1183\n",
      "Epoch 195/1000, Train Loss: 1.9448, Validation Loss: 2.1178\n",
      "Epoch 196/1000, Train Loss: 1.9517, Validation Loss: 2.1184\n",
      "Epoch 197/1000, Train Loss: 1.9513, Validation Loss: 2.1166\n",
      "Epoch 198/1000, Train Loss: 1.9484, Validation Loss: 2.1159\n",
      "Epoch 199/1000, Train Loss: 1.9422, Validation Loss: 2.1160\n",
      "Epoch 00200: reducing learning rate of group 0 to 1.0000e-06.\n",
      "Epoch 200/1000, Train Loss: 1.9432, Validation Loss: 2.1153\n",
      "Epoch 201/1000, Train Loss: 1.9467, Validation Loss: 2.1154\n",
      "Epoch 202/1000, Train Loss: 1.9531, Validation Loss: 2.1154\n",
      "Epoch 203/1000, Train Loss: 1.9508, Validation Loss: 2.1153\n",
      "Epoch 204/1000, Train Loss: 1.9461, Validation Loss: 2.1152\n",
      "Epoch 205/1000, Train Loss: 1.9457, Validation Loss: 2.1152\n",
      "Epoch 206/1000, Train Loss: 1.9384, Validation Loss: 2.1153\n",
      "Epoch 207/1000, Train Loss: 1.9402, Validation Loss: 2.1154\n",
      "Epoch 208/1000, Train Loss: 1.9394, Validation Loss: 2.1156\n",
      "Epoch 209/1000, Train Loss: 1.9508, Validation Loss: 2.1155\n",
      "Epoch 210/1000, Train Loss: 1.9469, Validation Loss: 2.1156\n",
      "Epoch 211/1000, Train Loss: 1.9501, Validation Loss: 2.1156\n",
      "Epoch 212/1000, Train Loss: 1.9528, Validation Loss: 2.1156\n",
      "Epoch 213/1000, Train Loss: 1.9449, Validation Loss: 2.1155\n",
      "Epoch 214/1000, Train Loss: 1.9431, Validation Loss: 2.1154\n"
     ]
    }
   ],
   "source": [
    "epoch_counter = 0\n",
    "patience = 30\n",
    "best_loss = float('inf')\n",
    "done = False\n",
    "es = EarlyStopping(patience=patience)\n",
    "tr_losses_fp, val_losses_fp = [],[]\n",
    "\n",
    "while not done and epoch_counter<EPOCHS:\n",
    "    epoch_counter+=1\n",
    "\n",
    "    # train\n",
    "    model.train()\n",
    "    train_losses = []\n",
    "    for x_batch,y_batch in train_loader:\n",
    "        optimizer.zero_grad()\n",
    "        output = model(x_batch)\n",
    "        loss = criterion(output,y_batch)\n",
    "        loss.backward()\n",
    "        optimizer.step()\n",
    "        train_losses.append(loss.item())\n",
    "    train_loss = np.mean(train_losses)\n",
    "    tr_losses_fp.append(train_loss)\n",
    "\n",
    "    # validation\n",
    "    model.eval()\n",
    "    val_losses = []\n",
    "    with torch.no_grad():\n",
    "        for x_batch, y_batch in val_loader:\n",
    "            output = model(x_batch)\n",
    "            loss = criterion(output, y_batch)\n",
    "            val_losses.append(loss.item())\n",
    "    val_loss = np.mean(val_losses)\n",
    "    val_losses_fp.append(val_loss)\n",
    "    scheduler.step(val_loss)\n",
    "\n",
    "    if es(model, val_loss):\n",
    "        done = True\n",
    "\n",
    "    if val_loss < best_loss:\n",
    "        best_loss = val_loss\n",
    "        \n",
    "    print(f\"Epoch {epoch_counter}/{EPOCHS}, Train Loss: {train_loss:.4f}, Validation Loss: {val_loss:.4f}\")"
   ]
  },
  {
   "cell_type": "code",
   "execution_count": 13,
   "id": "5b304f54",
   "metadata": {
    "ExecuteTime": {
     "end_time": "2024-02-22T13:50:06.080698Z",
     "start_time": "2024-02-22T13:50:06.063310Z"
    }
   },
   "outputs": [
    {
     "name": "stdout",
     "output_type": "stream",
     "text": [
      "Best validation loss : 2.113956740889393\n"
     ]
    }
   ],
   "source": [
    "print(f\"Best validation loss : {best_loss}\")"
   ]
  },
  {
   "cell_type": "markdown",
   "id": "p35Js3JKvX-b",
   "metadata": {
    "id": "p35Js3JKvX-b"
   },
   "source": [
    "### Visualize train-validation loss"
   ]
  },
  {
   "cell_type": "code",
   "execution_count": 14,
   "id": "c7ecdc23",
   "metadata": {
    "ExecuteTime": {
     "end_time": "2024-02-22T13:50:06.406286Z",
     "start_time": "2024-02-22T13:50:06.084225Z"
    },
    "colab": {
     "base_uri": "https://localhost:8080/",
     "height": 430
    },
    "id": "c7ecdc23",
    "outputId": "33148bb2-2136-4751-d334-f67609352927"
   },
   "outputs": [
    {
     "data": {
      "image/png": "[encoded data removed]",
      "text/plain": [
       "<Figure size 640x480 with 1 Axes>"
      ]
     },
     "metadata": {},
     "output_type": "display_data"
    }
   ],
   "source": [
    "import matplotlib.pyplot as plt\n",
    "plt.plot(range(len(tr_losses_fp)),tr_losses_fp,color='blue',label='train_loss')\n",
    "plt.plot(range(len(val_losses_fp)),val_losses_fp,color='red',label='val_loss')\n",
    "plt.legend()\n",
    "plt.show()"
   ]
  },
  {
   "cell_type": "markdown",
   "id": "GEyCVeaSveqh",
   "metadata": {
    "id": "GEyCVeaSveqh"
   },
   "source": [
    "### Prediction"
   ]
  },
  {
   "cell_type": "code",
   "execution_count": 15,
   "id": "422f4919",
   "metadata": {
    "ExecuteTime": {
     "end_time": "2024-02-22T13:50:06.422346Z",
     "start_time": "2024-02-22T13:50:06.409288Z"
    },
    "id": "422f4919"
   },
   "outputs": [
    {
     "name": "stdout",
     "output_type": "stream",
     "text": [
      "[[-1.5347406  -2.2613091  -1.5940506   0.09483734  1.3000917   0.7935278\n",
      "   0.82663494  0.77859336  0.2903983  -0.08129515]]\n"
     ]
    }
   ],
   "source": [
    "# evaluation\n",
    "model.eval()\n",
    "with torch.no_grad():\n",
    "    X_test = torch.tensor(X_test.astype(np.float32), dtype = torch.float32)\n",
    "    pred = model(X_test)\n",
    "\n",
    "pred = pred.detach().numpy()\n",
    "print(pred)"
   ]
  },
  {
   "cell_type": "code",
   "execution_count": 16,
   "id": "f48ebd4a",
   "metadata": {
    "ExecuteTime": {
     "end_time": "2024-02-22T13:50:06.437512Z",
     "start_time": "2024-02-22T13:50:06.424865Z"
    }
   },
   "outputs": [],
   "source": [
    "if TARGET == \"1d_ROC\" :\n",
    "    endPrice = data['Close'].iloc[-1]\n",
    "    pred_close = []\n",
    "\n",
    "    for i in pred[0] :\n",
    "        endPrice = endPrice + endPrice*0.01*i\n",
    "        pred_close.append(endPrice)\n",
    "\n",
    "    pred = np.array(pred_close).reshape(1, PRED_SIZE)\n",
    "    pred\n",
    "else :\n",
    "    pass"
   ]
  },
  {
   "cell_type": "code",
   "execution_count": 17,
   "id": "c0128f22",
   "metadata": {
    "ExecuteTime": {
     "end_time": "2024-02-22T13:50:06.638872Z",
     "start_time": "2024-02-22T13:50:06.439521Z"
    },
    "colab": {
     "base_uri": "https://localhost:8080/",
     "height": 430
    },
    "id": "c0128f22",
    "outputId": "7b885602-ad8d-4661-c240-879c5f0ad0ec"
   },
   "outputs": [
    {
     "data": {
      "image/png": "[encoded data removed]",
      "text/plain": [
       "<Figure size 640x480 with 1 Axes>"
      ]
     },
     "metadata": {},
     "output_type": "display_data"
    }
   ],
   "source": [
    "pred_length = len(np.reshape(pred, (-1)))\n",
    "pred_indices = list(range(pred_length))\n",
    "plt.plot(pred_indices, np.reshape(pred, (-1)), color='red', alpha=0.6, label='Prediction')\n",
    "plt.legend()\n",
    "\n",
    "plt.show()"
   ]
  },
  {
   "cell_type": "markdown",
   "id": "px8U_s7cvwZ0",
   "metadata": {
    "id": "px8U_s7cvwZ0"
   },
   "source": [
    "### Evaluation"
   ]
  },
  {
   "cell_type": "code",
   "execution_count": 18,
   "id": "5733ca84",
   "metadata": {
    "ExecuteTime": {
     "end_time": "2024-02-22T13:50:06.653537Z",
     "start_time": "2024-02-22T13:50:06.640889Z"
    },
    "colab": {
     "base_uri": "https://localhost:8080/",
     "height": 751
    },
    "id": "5733ca84",
    "outputId": "69de5ace-04f6-4f23-e16c-66d73e48fd2c",
    "scrolled": false
   },
   "outputs": [],
   "source": [
    "# # Label\n",
    "# label = pd.read_csv('2024_JAN.csv') # 각자 test.csv 파일 경로\n",
    "# label = np.array(label.head(PRED_SIZE)[\"Close Price\"])\n",
    "\n",
    "# # Prediction\n",
    "# pred = np.array(pred).reshape(PRED_SIZE)\n",
    "\n",
    "# # 날짜 데이터\n",
    "# period = pd.read_csv('2024_JAN.csv')[\"Date\"]\n",
    "# period = [d for d in period.head(PRED_SIZE)]\n",
    "\n",
    "# # 오차율 계산\n",
    "# error_rate = np.abs((label - pred) / label) * 100\n",
    "\n",
    "# # 시각화\n",
    "# plt.figure(figsize=(12, 6))\n",
    "# plt.plot(period, label, marker='o', color='blue', label='Actual Close Price')\n",
    "# plt.plot(period, pred, marker='x', color='red', linestyle='--', label='Predicted Close Price')\n",
    "\n",
    "# # 오차율을 각 포인트에 텍스트로 표시\n",
    "# for date, lbl, prd, err in zip(period, label, pred, error_rate):\n",
    "#     plt.text(date, prd, f'{err:.2f}%', color='black', ha='right', va='bottom')\n",
    "\n",
    "# plt.xticks(rotation = 45)  # 날짜 레이블 회전\n",
    "# plt.xlabel('Date')\n",
    "# plt.ylabel('Close Price')\n",
    "# plt.title(f'model = LSTM, data = {dataname}, target = {TARGET}, seq_size = {SEQ_SIZE}, pred_size = {PRED_SIZE}, batch_size = {BATCH_SIZE}, model_size = {HIDDEN_SIZE}')\n",
    "# plt.legend()\n",
    "# plt.tight_layout()  # 레이아웃 조정\n",
    "# plt.show()\n",
    "\n",
    "# # 오차율을 출력\n",
    "# error_rate_dict = dict(zip(period, error_rate))\n",
    "# error_rate_dict"
   ]
  },
  {
   "cell_type": "code",
   "execution_count": 19,
   "id": "iPM0up4JhqP-",
   "metadata": {
    "ExecuteTime": {
     "end_time": "2024-02-22T13:50:06.668832Z",
     "start_time": "2024-02-22T13:50:06.656060Z"
    },
    "colab": {
     "base_uri": "https://localhost:8080/"
    },
    "id": "iPM0up4JhqP-",
    "outputId": "a118635b-726d-4e6f-c976-50d6e133f128"
   },
   "outputs": [],
   "source": [
    "# # 평균 오차율 계산\n",
    "# average_error_rate = np.mean(error_rate)\n",
    "\n",
    "# print(f\"Average Error Rate: {average_error_rate:.2f}%\")"
   ]
  },
  {
   "cell_type": "markdown",
   "id": "7e512f26",
   "metadata": {},
   "source": [
    "## 이거 그대로 스크롤해서 result 엑셀에 붙여넣기!!"
   ]
  },
  {
   "cell_type": "code",
   "execution_count": 20,
   "id": "af4cdc30",
   "metadata": {
    "ExecuteTime": {
     "end_time": "2024-02-22T13:50:06.684416Z",
     "start_time": "2024-02-22T13:50:06.671830Z"
    }
   },
   "outputs": [
    {
     "name": "stdout",
     "output_type": "stream",
     "text": [
      "[479.40765513 468.56676597 461.09757441 461.53486707 467.53524378\n",
      " 471.24526582 475.14074386 478.84015815 480.23070183 479.84029757]\n"
     ]
    }
   ],
   "source": [
    "for price in pred :\n",
    "    print(price)"
   ]
  }
 ],
 "metadata": {
  "colab": {
   "provenance": []
  },
  "kernelspec": {
   "display_name": "Python 3 (ipykernel)",
   "language": "python",
   "name": "python3"
  },
  "language_info": {
   "codemirror_mode": {
    "name": "ipython",
    "version": 3
   },
   "file_extension": ".py",
   "mimetype": "text/x-python",
   "name": "python",
   "nbconvert_exporter": "python",
   "pygments_lexer": "ipython3",
   "version": "3.9.6"
  },
  "toc": {
   "base_numbering": 1,
   "nav_menu": {},
   "number_sections": false,
   "sideBar": true,
   "skip_h1_title": false,
   "title_cell": "Table of Contents",
   "title_sidebar": "Contents",
   "toc_cell": false,
   "toc_position": {},
   "toc_section_display": true,
   "toc_window_display": false
  }
 },
 "nbformat": 4,
 "nbformat_minor": 5
}
