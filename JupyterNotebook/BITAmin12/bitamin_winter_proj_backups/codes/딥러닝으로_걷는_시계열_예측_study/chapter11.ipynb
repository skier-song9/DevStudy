{
 "cells": [
  {
   "cell_type": "code",
   "execution_count": 1,
   "id": "2059c61b",
   "metadata": {
    "ExecuteTime": {
     "end_time": "2024-02-12T00:52:20.866408Z",
     "start_time": "2024-02-12T00:52:20.214588Z"
    }
   },
   "outputs": [],
   "source": [
    "import numpy as np\n",
    "import pandas as pd\n",
    "import pdb"
   ]
  },
  {
   "cell_type": "code",
   "execution_count": 2,
   "id": "9882b47b",
   "metadata": {
    "ExecuteTime": {
     "end_time": "2024-02-12T00:52:21.613262Z",
     "start_time": "2024-02-12T00:52:21.575892Z"
    }
   },
   "outputs": [
    {
     "name": "stdout",
     "output_type": "stream",
     "text": [
      "(426, 5)\n"
     ]
    },
    {
     "data": {
      "text/html": [
       "<div>\n",
       "<style scoped>\n",
       "    .dataframe tbody tr th:only-of-type {\n",
       "        vertical-align: middle;\n",
       "    }\n",
       "\n",
       "    .dataframe tbody tr th {\n",
       "        vertical-align: top;\n",
       "    }\n",
       "\n",
       "    .dataframe thead th {\n",
       "        text-align: right;\n",
       "    }\n",
       "</style>\n",
       "<table border=\"1\" class=\"dataframe\">\n",
       "  <thead>\n",
       "    <tr style=\"text-align: right;\">\n",
       "      <th></th>\n",
       "      <th>시가</th>\n",
       "      <th>고가</th>\n",
       "      <th>저가</th>\n",
       "      <th>현재가</th>\n",
       "      <th>거래량</th>\n",
       "    </tr>\n",
       "    <tr>\n",
       "      <th>일자</th>\n",
       "      <th></th>\n",
       "      <th></th>\n",
       "      <th></th>\n",
       "      <th></th>\n",
       "      <th></th>\n",
       "    </tr>\n",
       "  </thead>\n",
       "  <tbody>\n",
       "    <tr>\n",
       "      <th>2020-01-31</th>\n",
       "      <td>290.24</td>\n",
       "      <td>291.47</td>\n",
       "      <td>284.53</td>\n",
       "      <td>284.53</td>\n",
       "      <td>101,455</td>\n",
       "    </tr>\n",
       "    <tr>\n",
       "      <th>2020-01-30</th>\n",
       "      <td>293.27</td>\n",
       "      <td>294.11</td>\n",
       "      <td>287.09</td>\n",
       "      <td>288.37</td>\n",
       "      <td>101,535</td>\n",
       "    </tr>\n",
       "    <tr>\n",
       "      <th>2020-01-29</th>\n",
       "      <td>294.38</td>\n",
       "      <td>295.67</td>\n",
       "      <td>292.45</td>\n",
       "      <td>293.98</td>\n",
       "      <td>85,731</td>\n",
       "    </tr>\n",
       "    <tr>\n",
       "      <th>2020-01-28</th>\n",
       "      <td>294.98</td>\n",
       "      <td>296.30</td>\n",
       "      <td>291.30</td>\n",
       "      <td>292.77</td>\n",
       "      <td>130,172</td>\n",
       "    </tr>\n",
       "    <tr>\n",
       "      <th>2020-01-23</th>\n",
       "      <td>303.77</td>\n",
       "      <td>304.72</td>\n",
       "      <td>301.71</td>\n",
       "      <td>302.33</td>\n",
       "      <td>86,908</td>\n",
       "    </tr>\n",
       "  </tbody>\n",
       "</table>\n",
       "</div>"
      ],
      "text/plain": [
       "                시가      고가      저가     현재가      거래량\n",
       "일자                                                 \n",
       "2020-01-31  290.24  291.47  284.53  284.53  101,455\n",
       "2020-01-30  293.27  294.11  287.09  288.37  101,535\n",
       "2020-01-29  294.38  295.67  292.45  293.98   85,731\n",
       "2020-01-28  294.98  296.30  291.30  292.77  130,172\n",
       "2020-01-23  303.77  304.72  301.71  302.33   86,908"
      ]
     },
     "execution_count": 2,
     "metadata": {},
     "output_type": "execute_result"
    }
   ],
   "source": [
    "df1 = pd.read_csv('./data/kospi200.csv',index_col=0,\n",
    "                 header=0,encoding='cp949',sep=',')\n",
    "pd.set_option('display.max_row',None)\n",
    "pd.set_option('display.max_column',None)\n",
    "\n",
    "print(df1.shape)\n",
    "df1.head(5)"
   ]
  },
  {
   "cell_type": "code",
   "execution_count": 3,
   "id": "8ee856fb",
   "metadata": {
    "ExecuteTime": {
     "end_time": "2024-02-12T00:52:22.428471Z",
     "start_time": "2024-02-12T00:52:22.405590Z"
    }
   },
   "outputs": [
    {
     "name": "stdout",
     "output_type": "stream",
     "text": [
      "(426, 5)\n"
     ]
    },
    {
     "data": {
      "text/html": [
       "<div>\n",
       "<style scoped>\n",
       "    .dataframe tbody tr th:only-of-type {\n",
       "        vertical-align: middle;\n",
       "    }\n",
       "\n",
       "    .dataframe tbody tr th {\n",
       "        vertical-align: top;\n",
       "    }\n",
       "\n",
       "    .dataframe thead th {\n",
       "        text-align: right;\n",
       "    }\n",
       "</style>\n",
       "<table border=\"1\" class=\"dataframe\">\n",
       "  <thead>\n",
       "    <tr style=\"text-align: right;\">\n",
       "      <th></th>\n",
       "      <th>시가</th>\n",
       "      <th>고가</th>\n",
       "      <th>저가</th>\n",
       "      <th>종가</th>\n",
       "      <th>거래량</th>\n",
       "    </tr>\n",
       "    <tr>\n",
       "      <th>일자</th>\n",
       "      <th></th>\n",
       "      <th></th>\n",
       "      <th></th>\n",
       "      <th></th>\n",
       "      <th></th>\n",
       "    </tr>\n",
       "  </thead>\n",
       "  <tbody>\n",
       "    <tr>\n",
       "      <th>2020-01-31</th>\n",
       "      <td>57,800</td>\n",
       "      <td>58,400</td>\n",
       "      <td>56,400</td>\n",
       "      <td>56,400</td>\n",
       "      <td>19,749,457</td>\n",
       "    </tr>\n",
       "    <tr>\n",
       "      <th>2020-01-30</th>\n",
       "      <td>58,800</td>\n",
       "      <td>58,800</td>\n",
       "      <td>56,800</td>\n",
       "      <td>57,200</td>\n",
       "      <td>20,821,939</td>\n",
       "    </tr>\n",
       "    <tr>\n",
       "      <th>2020-01-29</th>\n",
       "      <td>59,100</td>\n",
       "      <td>59,700</td>\n",
       "      <td>58,800</td>\n",
       "      <td>59,100</td>\n",
       "      <td>16,446,102</td>\n",
       "    </tr>\n",
       "    <tr>\n",
       "      <th>2020-01-28</th>\n",
       "      <td>59,400</td>\n",
       "      <td>59,400</td>\n",
       "      <td>58,300</td>\n",
       "      <td>58,800</td>\n",
       "      <td>23,664,541</td>\n",
       "    </tr>\n",
       "    <tr>\n",
       "      <th>2020-01-23</th>\n",
       "      <td>61,800</td>\n",
       "      <td>61,800</td>\n",
       "      <td>60,700</td>\n",
       "      <td>60,800</td>\n",
       "      <td>14,916,555</td>\n",
       "    </tr>\n",
       "  </tbody>\n",
       "</table>\n",
       "</div>"
      ],
      "text/plain": [
       "                시가      고가      저가      종가         거래량\n",
       "일자                                                    \n",
       "2020-01-31  57,800  58,400  56,400  56,400  19,749,457\n",
       "2020-01-30  58,800  58,800  56,800  57,200  20,821,939\n",
       "2020-01-29  59,100  59,700  58,800  59,100  16,446,102\n",
       "2020-01-28  59,400  59,400  58,300  58,800  23,664,541\n",
       "2020-01-23  61,800  61,800  60,700  60,800  14,916,555"
      ]
     },
     "execution_count": 3,
     "metadata": {},
     "output_type": "execute_result"
    }
   ],
   "source": [
    "df2 = pd.read_csv('./data/samsung.csv',index_col=0,\n",
    "                 header=0,encoding='cp949',sep=',')\n",
    "print(df2.shape)\n",
    "df2.head(5)"
   ]
  },
  {
   "cell_type": "code",
   "execution_count": 4,
   "id": "1574a41e",
   "metadata": {
    "ExecuteTime": {
     "end_time": "2024-02-12T00:52:22.957353Z",
     "start_time": "2024-02-12T00:52:22.821833Z"
    }
   },
   "outputs": [],
   "source": [
    "# change string format to numeric format\n",
    "for i in range(len(df1.index)):\n",
    "    df1.iloc[i,4] = int(df1.iloc[i,4].replace(',',''))\n",
    "for i in range(len(df2.index)):\n",
    "    for j in range(len(df2.iloc[i])):\n",
    "        df2.iloc[i,j] = int(df2.iloc[i,j].replace(',',''))"
   ]
  },
  {
   "cell_type": "code",
   "execution_count": 5,
   "id": "91856843",
   "metadata": {
    "ExecuteTime": {
     "end_time": "2024-02-12T00:52:23.221610Z",
     "start_time": "2024-02-12T00:52:23.216348Z"
    }
   },
   "outputs": [],
   "source": [
    "# sort by datetime\n",
    "df1 = df1.sort_values(['일자'],ascending=[True])\n",
    "df2 = df2.sort_values(['일자'],ascending=[True])"
   ]
  },
  {
   "cell_type": "code",
   "execution_count": 6,
   "id": "7a1e54ce",
   "metadata": {
    "ExecuteTime": {
     "end_time": "2024-02-12T00:52:23.451920Z",
     "start_time": "2024-02-12T00:52:23.440503Z"
    }
   },
   "outputs": [],
   "source": [
    "# pandas to numpy\n",
    "df1 = df1.values\n",
    "df2 = df2.values\n",
    "\n",
    "# save numpy objects\n",
    "np.save('./data/kospi200.npy',arr=df1)\n",
    "np.save('./data/samsung.npy',arr=df2)"
   ]
  },
  {
   "cell_type": "code",
   "execution_count": 92,
   "id": "c78a61d6",
   "metadata": {
    "ExecuteTime": {
     "end_time": "2024-02-12T03:19:42.447725Z",
     "start_time": "2024-02-12T03:19:42.422347Z"
    }
   },
   "outputs": [
    {
     "name": "stdout",
     "output_type": "stream",
     "text": [
      "(426, 5)\n",
      "(426, 5)\n"
     ]
    }
   ],
   "source": [
    "kospi200 = np.load('./data/kospi200.npy',allow_pickle=True)\n",
    "samsung = np.load('./data/samsung.npy',allow_pickle=True)\n",
    "print(kospi200.shape)\n",
    "print(samsung.shape)"
   ]
  },
  {
   "cell_type": "markdown",
   "id": "ed8d7221",
   "metadata": {},
   "source": [
    "# Split as window size"
   ]
  },
  {
   "cell_type": "code",
   "execution_count": 93,
   "id": "b18d1df3",
   "metadata": {
    "ExecuteTime": {
     "end_time": "2024-02-12T03:19:43.182547Z",
     "start_time": "2024-02-12T03:19:43.171763Z"
    }
   },
   "outputs": [],
   "source": [
    "# split data to window\n",
    "def split_xy5(dataset, time_steps, y_column):\n",
    "    x,y = list(), list()\n",
    "    for i in range(len(dataset)):\n",
    "        x_end_number = i + time_steps\n",
    "        y_end_number = x_end_number + y_column\n",
    "        if y_end_number > len(dataset):\n",
    "            break\n",
    "        tmp_x = dataset[i:x_end_number, :]\n",
    "        tmp_y = dataset[x_end_number:y_end_number,3] # just a end_price\n",
    "        x.append(tmp_x)\n",
    "        y.append(tmp_y)\n",
    "    return np.array(x), np.array(y)"
   ]
  },
  {
   "cell_type": "code",
   "execution_count": 94,
   "id": "7875a0e7",
   "metadata": {
    "ExecuteTime": {
     "end_time": "2024-02-12T03:19:43.430349Z",
     "start_time": "2024-02-12T03:19:43.411095Z"
    }
   },
   "outputs": [
    {
     "name": "stdout",
     "output_type": "stream",
     "text": [
      "[[53000 53900 51800 51900 39565391]\n",
      " [52600 53200 51900 52600 23104720]\n",
      " [52600 52800 50900 50900 16128305]\n",
      " [51700 51700 50600 51600 13905263]\n",
      " [52000 52200 51200 51300 10314997]] \n",
      " [50100]\n",
      "(421, 5, 5)\n",
      "(421, 1)\n"
     ]
    }
   ],
   "source": [
    "x,y = split_xy5(samsung,5,1)\n",
    "print(x[0,:],\"\\n\",y[0])\n",
    "print(x.shape) # shape : batch_size , time_steps(window_size), columns(features)\n",
    "print(y.shape)"
   ]
  },
  {
   "cell_type": "markdown",
   "id": "9e8c73ea",
   "metadata": {},
   "source": [
    "# Train-Test split"
   ]
  },
  {
   "cell_type": "code",
   "execution_count": 95,
   "id": "caa2c734",
   "metadata": {
    "ExecuteTime": {
     "end_time": "2024-02-12T03:19:43.664719Z",
     "start_time": "2024-02-12T03:19:43.650985Z"
    }
   },
   "outputs": [
    {
     "name": "stdout",
     "output_type": "stream",
     "text": [
      "(294, 5, 5)\n",
      "(127, 5, 5)\n",
      "(294, 1)\n",
      "(127, 1)\n"
     ]
    }
   ],
   "source": [
    "# split as train, test set\n",
    "from sklearn.model_selection import train_test_split\n",
    "x_train, x_test, y_train, y_test = train_test_split(\n",
    "x,y,random_state=1, test_size=0.3)\n",
    "print(x_train.shape,\n",
    "     x_test.shape,\n",
    "     y_train.shape,\n",
    "     y_test.shape,\n",
    "     sep='\\n')"
   ]
  },
  {
   "cell_type": "markdown",
   "id": "88a74a56",
   "metadata": {},
   "source": [
    "# Preprocessing"
   ]
  },
  {
   "cell_type": "code",
   "execution_count": 96,
   "id": "aca1e8d3",
   "metadata": {
    "ExecuteTime": {
     "end_time": "2024-02-12T03:19:44.178952Z",
     "start_time": "2024-02-12T03:19:44.161927Z"
    }
   },
   "outputs": [
    {
     "name": "stdout",
     "output_type": "stream",
     "text": [
      "(294, 25)\n",
      "(127, 25)\n"
     ]
    }
   ],
   "source": [
    "# reshape datasets to 1 dimension or preprocessing\n",
    "x_train = np.reshape(x_train,\n",
    "                    (x_train.shape[0],x_train.shape[1]*x_train.shape[2]))\n",
    "x_test = np.reshape(x_test,\n",
    "                   (x_test.shape[0],x_test.shape[1]*x_test.shape[2]))\n",
    "print(x_train.shape,\n",
    "     x_test.shape,\n",
    "     sep='\\n')"
   ]
  },
  {
   "cell_type": "code",
   "execution_count": 97,
   "id": "2d9105f2",
   "metadata": {
    "ExecuteTime": {
     "end_time": "2024-02-12T03:19:44.508379Z",
     "start_time": "2024-02-12T03:19:44.492066Z"
    }
   },
   "outputs": [
    {
     "data": {
      "text/plain": [
       "array([51200, 51400, 50200, 50300, 11179334, 50900, 51300, 50400, 50400,\n",
       "       18877252, 49800, 50300, 49500, 49900, 12059812, 49600, 49850,\n",
       "       49000, 49450, 13246549, 50200, 50400, 49500, 49500, 10449715],\n",
       "      dtype=object)"
      ]
     },
     "execution_count": 97,
     "metadata": {},
     "output_type": "execute_result"
    }
   ],
   "source": [
    "x_train[0,:] # flattened"
   ]
  },
  {
   "cell_type": "code",
   "execution_count": 98,
   "id": "e1508606",
   "metadata": {
    "ExecuteTime": {
     "end_time": "2024-02-12T03:19:44.897220Z",
     "start_time": "2024-02-12T03:19:44.881599Z"
    }
   },
   "outputs": [
    {
     "name": "stdout",
     "output_type": "stream",
     "text": [
      "[ 1.13392563  1.07633086  1.02393741  0.93187013 -0.028819    1.05994459\n",
      "  1.04756614  1.06686328  0.94933344  1.53138774  0.79093879  0.80213886\n",
      "  0.84540479  0.81507608  0.10811605  0.73712199  0.68893234  0.71073997\n",
      "  0.69657856  0.37360361  0.85647275  0.80021877  0.80910994  0.69442952\n",
      " -0.16973555]\n"
     ]
    }
   ],
   "source": [
    "# preprocessing\n",
    "from sklearn.preprocessing import StandardScaler\n",
    "scaler = StandardScaler()\n",
    "scaler.fit(x_train)\n",
    "x_train_scaled = scaler.transform(x_train)\n",
    "x_test_scaled = scaler.transform(x_test)\n",
    "print(x_train_scaled[0,:])"
   ]
  },
  {
   "cell_type": "markdown",
   "id": "ba2c2372",
   "metadata": {},
   "source": [
    "# DNN(FFNN)"
   ]
  },
  {
   "cell_type": "code",
   "execution_count": 99,
   "id": "53fa3d9f",
   "metadata": {
    "ExecuteTime": {
     "end_time": "2024-02-12T03:19:45.974823Z",
     "start_time": "2024-02-12T03:19:45.962875Z"
    }
   },
   "outputs": [],
   "source": [
    "import torch\n",
    "from torch.utils.data import Dataset, DataLoader, TensorDataset\n",
    "import torch.nn as nn\n",
    "import torch.nn.functional as F\n",
    "import torch.optim as optim\n",
    "from torch.autograd import Variable\n",
    "from torch.nn import Parameter\n",
    "from torch import Tensor\n",
    "from torch.optim.lr_scheduler import ReduceLROnPlateau"
   ]
  },
  {
   "cell_type": "code",
   "execution_count": 100,
   "id": "e2dc8617",
   "metadata": {
    "ExecuteTime": {
     "end_time": "2024-02-12T03:19:46.362560Z",
     "start_time": "2024-02-12T03:19:46.351956Z"
    }
   },
   "outputs": [],
   "source": [
    "class DNNModel(nn.Module):\n",
    "    def __init__(self):\n",
    "        super(DNNModel,self).__init__()\n",
    "        self.seq = nn.Sequential(\n",
    "            nn.Linear(25,64,bias=True),\n",
    "            nn.ReLU(),\n",
    "            nn.Linear(64,32,bias=True),\n",
    "            nn.ReLU(),\n",
    "            nn.Linear(32,32,bias=True),\n",
    "            nn.ReLU(),\n",
    "            nn.Linear(32,32,bias=True),\n",
    "            nn.ReLU(),\n",
    "            nn.Linear(32,1,bias=True)\n",
    "        )\n",
    "    def forward(self,x):\n",
    "        out = self.seq(x)\n",
    "        return out"
   ]
  },
  {
   "cell_type": "code",
   "execution_count": 101,
   "id": "96b5ea8b",
   "metadata": {
    "ExecuteTime": {
     "end_time": "2024-02-12T03:19:46.721969Z",
     "start_time": "2024-02-12T03:19:46.711770Z"
    }
   },
   "outputs": [],
   "source": [
    "model = DNNModel()"
   ]
  },
  {
   "cell_type": "code",
   "execution_count": 102,
   "id": "d507f830",
   "metadata": {
    "ExecuteTime": {
     "end_time": "2024-02-12T03:19:47.109863Z",
     "start_time": "2024-02-12T03:19:47.103335Z"
    }
   },
   "outputs": [],
   "source": [
    "criterion = nn.MSELoss()\n",
    "optimizer = optim.Adam(model.parameters(),lr=0.001)\n",
    "scheduler = ReduceLROnPlateau(optimizer, 'min', factor=0.1, patience=3,verbose=True)"
   ]
  },
  {
   "cell_type": "code",
   "execution_count": 103,
   "id": "380eb0d5",
   "metadata": {
    "ExecuteTime": {
     "end_time": "2024-02-12T03:19:47.842161Z",
     "start_time": "2024-02-12T03:19:47.822158Z"
    }
   },
   "outputs": [],
   "source": [
    "import copy\n",
    "class EarlyStopping:\n",
    "    def __init__(self, patience=5, min_delta=0, restore_best_weights=True):\n",
    "        self.patience = patience\n",
    "        self.min_delta = min_delta\n",
    "        self.restore_best_weights = restore_best_weights\n",
    "        self.best_model = None\n",
    "        self.best_loss = None\n",
    "        self.counter = 0\n",
    "        self.status = \"\"\n",
    "\n",
    "    def __call__(self, model, val_loss):\n",
    "        if self.best_loss is None:\n",
    "            self.best_loss = val_loss\n",
    "            self.best_model = copy.deepcopy(model.state_dict())\n",
    "        elif self.best_loss - val_loss >= self.min_delta:\n",
    "            self.best_model = copy.deepcopy(model.state_dict())\n",
    "            self.best_loss = val_loss\n",
    "            self.counter = 0\n",
    "            self.status = f\"Improvement found, counter reset to {self.counter}\"\n",
    "        else:\n",
    "            self.counter += 1\n",
    "            self.status = f\"No improvement in the last {self.counter} epochs\"\n",
    "            if self.counter >= self.patience:\n",
    "                self.status = f\"Early stopping triggered after {self.counter} epochs.\"\n",
    "                if self.restore_best_weights:\n",
    "                    model.load_state_dict(self.best_model)\n",
    "                return True\n",
    "        return False"
   ]
  },
  {
   "cell_type": "code",
   "execution_count": 104,
   "id": "4f273a0b",
   "metadata": {
    "ExecuteTime": {
     "end_time": "2024-02-12T03:20:10.659248Z",
     "start_time": "2024-02-12T03:19:48.602036Z"
    }
   },
   "outputs": [
    {
     "name": "stdout",
     "output_type": "stream",
     "text": [
      "Epoch 1/100, Train Loss: 1965548849.7532, Validation Loss: 1077957230.2034\n",
      "Epoch 2/100, Train Loss: 823064374.0883, Validation Loss: 626128206.0953\n",
      "Epoch 3/100, Train Loss: 667894129.6258, Validation Loss: 535575886.1525\n",
      "Epoch 4/100, Train Loss: 563560355.2816, Validation Loss: 432446887.6875\n",
      "Epoch 5/100, Train Loss: 458395876.5191, Validation Loss: 342241305.4153\n",
      "Epoch 6/100, Train Loss: 347927935.1405, Validation Loss: 229507832.4269\n",
      "Epoch 7/100, Train Loss: 255902090.9601, Validation Loss: 177100760.6290\n",
      "Epoch 8/100, Train Loss: 176568270.3233, Validation Loss: 133609923.8731\n",
      "Epoch 9/100, Train Loss: 115896648.3318, Validation Loss: 69732792.0340\n",
      "Epoch 10/100, Train Loss: 61395761.3179, Validation Loss: 33241286.0212\n",
      "Epoch 11/100, Train Loss: 27966369.8285, Validation Loss: 16433241.7115\n",
      "Epoch 12/100, Train Loss: 13383708.3238, Validation Loss: 7892062.0305\n",
      "Epoch 13/100, Train Loss: 6845397.0311, Validation Loss: 4703981.3366\n",
      "Epoch 14/100, Train Loss: 4024249.9688, Validation Loss: 3013486.6661\n",
      "Epoch 15/100, Train Loss: 3066430.8461, Validation Loss: 2896318.0075\n",
      "Epoch 16/100, Train Loss: 2460433.3506, Validation Loss: 2941294.4556\n",
      "Epoch 17/100, Train Loss: 1981693.8914, Validation Loss: 1909692.6506\n",
      "Epoch 18/100, Train Loss: 1756831.5776, Validation Loss: 1873074.2782\n",
      "Epoch 19/100, Train Loss: 1488044.2277, Validation Loss: 1620779.1505\n",
      "Epoch 20/100, Train Loss: 1391598.4896, Validation Loss: 1714824.4435\n",
      "Epoch 21/100, Train Loss: 1143197.6706, Validation Loss: 1582220.7701\n",
      "Epoch 22/100, Train Loss: 1111127.7465, Validation Loss: 1730103.3363\n",
      "Epoch 23/100, Train Loss: 1171948.1081, Validation Loss: 1233888.7127\n",
      "Epoch 24/100, Train Loss: 956444.3291, Validation Loss: 1152881.8809\n",
      "Epoch 25/100, Train Loss: 1184846.0354, Validation Loss: 1154260.6866\n",
      "Epoch 26/100, Train Loss: 972419.2736, Validation Loss: 1384158.5762\n",
      "Epoch 27/100, Train Loss: 1244341.3991, Validation Loss: 1630604.0080\n",
      "Epoch 28/100, Train Loss: 880475.1554, Validation Loss: 1076988.9687\n",
      "Epoch 29/100, Train Loss: 857758.9413, Validation Loss: 1122315.5870\n",
      "Epoch 30/100, Train Loss: 956151.7975, Validation Loss: 876008.2361\n",
      "Epoch 31/100, Train Loss: 1515321.2814, Validation Loss: 1567539.9215\n",
      "Epoch 32/100, Train Loss: 1641230.7958, Validation Loss: 909031.8762\n",
      "Epoch 33/100, Train Loss: 860184.9768, Validation Loss: 814664.7366\n",
      "Epoch 34/100, Train Loss: 769977.7230, Validation Loss: 887761.2714\n",
      "Epoch 35/100, Train Loss: 919334.9587, Validation Loss: 1014801.5240\n",
      "Epoch 36/100, Train Loss: 1177538.9520, Validation Loss: 6552729.9088\n",
      "Epoch 00037: reducing learning rate of group 0 to 1.0000e-04.\n",
      "Epoch 37/100, Train Loss: 1091793.2013, Validation Loss: 1373427.3596\n",
      "Epoch 38/100, Train Loss: 549195.3072, Validation Loss: 714581.9290\n",
      "Epoch 39/100, Train Loss: 501629.0969, Validation Loss: 692277.1241\n",
      "Epoch 40/100, Train Loss: 507569.3351, Validation Loss: 664164.2724\n",
      "Epoch 41/100, Train Loss: 480168.7550, Validation Loss: 660201.9746\n",
      "Epoch 42/100, Train Loss: 488104.4098, Validation Loss: 720761.1284\n",
      "Epoch 43/100, Train Loss: 483330.6836, Validation Loss: 704087.4426\n",
      "Epoch 44/100, Train Loss: 506640.0825, Validation Loss: 748641.3914\n",
      "Epoch 00045: reducing learning rate of group 0 to 1.0000e-05.\n",
      "Epoch 45/100, Train Loss: 498610.5702, Validation Loss: 723669.8177\n",
      "Epoch 46/100, Train Loss: 455516.0274, Validation Loss: 694851.6834\n",
      "Epoch 47/100, Train Loss: 453497.5949, Validation Loss: 690629.6763\n",
      "Epoch 48/100, Train Loss: 452529.0298, Validation Loss: 705699.4482\n",
      "Epoch 00049: reducing learning rate of group 0 to 1.0000e-06.\n",
      "Epoch 49/100, Train Loss: 453780.9992, Validation Loss: 699749.1946\n",
      "Epoch 50/100, Train Loss: 449486.6283, Validation Loss: 698627.2727\n",
      "Epoch 51/100, Train Loss: 449141.7312, Validation Loss: 698197.4857\n",
      "Epoch 52/100, Train Loss: 448906.2568, Validation Loss: 697155.2755\n",
      "Epoch 00053: reducing learning rate of group 0 to 1.0000e-07.\n",
      "Epoch 53/100, Train Loss: 448728.3766, Validation Loss: 696997.4270\n",
      "Epoch 54/100, Train Loss: 448171.3272, Validation Loss: 696928.7885\n",
      "Epoch 55/100, Train Loss: 448128.0603, Validation Loss: 696910.3828\n",
      "Epoch 56/100, Train Loss: 448127.3774, Validation Loss: 696877.1382\n",
      "Epoch 00057: reducing learning rate of group 0 to 1.0000e-08.\n",
      "Epoch 57/100, Train Loss: 448118.4468, Validation Loss: 696812.6403\n",
      "Epoch 58/100, Train Loss: 448055.9027, Validation Loss: 696807.7286\n",
      "Epoch 59/100, Train Loss: 448056.1564, Validation Loss: 696805.9656\n",
      "Epoch 60/100, Train Loss: 448056.2879, Validation Loss: 696803.7994\n",
      "Epoch 61/100, Train Loss: 448054.1171, Validation Loss: 696797.9955\n"
     ]
    }
   ],
   "source": [
    "EPOCHS = 100\n",
    "patience = 20\n",
    "train_val_ratio = 0.2\n",
    "batch_size = 1\n",
    "best_loss = float('inf')\n",
    "epoch_counter = 0\n",
    "done = False\n",
    "es = EarlyStopping(patience=patience)\n",
    "tr_losses_for_plot,val_losses_for_plot = [],[]\n",
    "\n",
    "# prepare DataLoader\n",
    "x_train_scaled_tensor = torch.tensor(x_train_scaled, dtype=torch.float32)\n",
    "y_train_tensor = torch.tensor(y_train.astype(np.float32), dtype=torch.float32)\n",
    "x_tr, x_val, y_tr, y_val = train_test_split(\n",
    "    x_train_scaled_tensor, y_train_tensor,test_size=0.2)\n",
    "\n",
    "train_loader = DataLoader(TensorDataset(x_tr,y_tr),batch_size=batch_size,\n",
    "                         shuffle=True)\n",
    "val_loader = DataLoader(TensorDataset(x_val,y_val),batch_size=batch_size,\n",
    "                       shuffle=False)\n",
    "\n",
    "while not done and epoch_counter<EPOCHS:\n",
    "    epoch_counter += 1\n",
    "    # train mode\n",
    "    model.train()\n",
    "    train_losses = []\n",
    "    for x_batch, y_batch in train_loader:\n",
    "        optimizer.zero_grad()\n",
    "        output = model(x_batch)\n",
    "        loss = criterion(output, y_batch)\n",
    "        loss.backward()\n",
    "        optimizer.step()\n",
    "        train_losses.append(loss.item())\n",
    "    train_loss = np.mean(train_losses)\n",
    "    tr_losses_for_plot.append(train_loss)\n",
    "        \n",
    "    # validation\n",
    "    model.eval()\n",
    "    val_losses = []\n",
    "    with torch.no_grad():\n",
    "        for x_batch, y_batch in val_loader:\n",
    "            output = model(x_batch)\n",
    "            loss = criterion(output, y_batch)\n",
    "            val_losses.append(loss.item())\n",
    "    val_loss = np.mean(val_losses)\n",
    "    val_losses_for_plot.append(train_loss)\n",
    "    scheduler.step(val_loss)\n",
    "    \n",
    "    if es(model, val_loss):\n",
    "        done = True\n",
    "    \n",
    "    print(f\"Epoch {epoch_counter}/{EPOCHS}, Train Loss: {train_loss:.4f}, Validation Loss: {val_loss:.4f}\")\n",
    "        "
   ]
  },
  {
   "cell_type": "code",
   "execution_count": 105,
   "id": "dbb3bbd8",
   "metadata": {
    "ExecuteTime": {
     "end_time": "2024-02-12T03:20:10.834323Z",
     "start_time": "2024-02-12T03:20:10.662090Z"
    }
   },
   "outputs": [
    {
     "data": {
      "image/png": "[encoded data removed]",
      "text/plain": [
       "<Figure size 640x480 with 1 Axes>"
      ]
     },
     "metadata": {},
     "output_type": "display_data"
    }
   ],
   "source": [
    "import matplotlib.pyplot as plt\n",
    "plt.plot(range(len(tr_losses_for_plot)),tr_losses_for_plot,color='blue',label='train_loss')\n",
    "plt.plot(range(len(val_losses_for_plot)),val_losses_for_plot,color='red',label='val_loss')\n",
    "plt.legend()\n",
    "plt.show()"
   ]
  },
  {
   "cell_type": "code",
   "execution_count": 106,
   "id": "90d57889",
   "metadata": {
    "ExecuteTime": {
     "end_time": "2024-02-12T03:20:10.850323Z",
     "start_time": "2024-02-12T03:20:10.836325Z"
    }
   },
   "outputs": [],
   "source": [
    "from sklearn.metrics import mean_squared_error\n",
    "# evaluation\n",
    "model.eval()\n",
    "with torch.no_grad():\n",
    "    x_test_scaled_tensor = torch.tensor(x_test_scaled,dtype=torch.float32)\n",
    "    pred = model(x_test_scaled_tensor)\n",
    "    pred = pred.detach().numpy()\n",
    "mse = mean_squared_error(y_test, pred)"
   ]
  },
  {
   "cell_type": "code",
   "execution_count": 107,
   "id": "476a8fc3",
   "metadata": {
    "ExecuteTime": {
     "end_time": "2024-02-12T03:20:10.866322Z",
     "start_time": "2024-02-12T03:20:10.854326Z"
    }
   },
   "outputs": [
    {
     "name": "stdout",
     "output_type": "stream",
     "text": [
      "0.016987154008013972\n"
     ]
    }
   ],
   "source": [
    "def error_ratio(pred, true):\n",
    "    return np.mean(np.abs(pred-true)/true)\n",
    "\n",
    "print(error_ratio(pred, y_test)) # 평균적으로 1.9%의 오차율를 보인다."
   ]
  },
  {
   "cell_type": "code",
   "execution_count": 108,
   "id": "3169e934",
   "metadata": {
    "ExecuteTime": {
     "end_time": "2024-02-12T03:20:10.882482Z",
     "start_time": "2024-02-12T03:20:10.868342Z"
    }
   },
   "outputs": [
    {
     "name": "stdout",
     "output_type": "stream",
     "text": [
      "종가 : [52200] / 예측가 : [52959.344] / 오차율 : [0.014546815134099616]\n",
      "종가 : [41450] / 예측가 : [40917.438] / 오차율 : [0.012848311218335344]\n",
      "종가 : [49650] / 예측가 : [58524.402] / 오차율 : [0.17873922142497484]\n",
      "종가 : [44800] / 예측가 : [46000.137] / 오차율 : [0.026788766043526785]\n",
      "종가 : [49500] / 예측가 : [49211.105] / 오차율 : [0.005836253156565657]\n"
     ]
    }
   ],
   "source": [
    "for i in range(5):\n",
    "    print(f'종가 : {y_test[i]} / 예측가 : {pred[i]} / 오차율 : {np.abs(y_test[i]-pred[i])/y_test[i]}')"
   ]
  },
  {
   "cell_type": "code",
   "execution_count": 109,
   "id": "fd22edbc",
   "metadata": {
    "ExecuteTime": {
     "end_time": "2024-02-12T03:20:10.898368Z",
     "start_time": "2024-02-12T03:20:10.885493Z"
    }
   },
   "outputs": [
    {
     "data": {
      "text/plain": [
       "127"
      ]
     },
     "execution_count": 109,
     "metadata": {},
     "output_type": "execute_result"
    }
   ],
   "source": [
    "len(np.reshape(y_test,(-1)))"
   ]
  },
  {
   "cell_type": "code",
   "execution_count": 112,
   "id": "39d7a22d",
   "metadata": {
    "ExecuteTime": {
     "end_time": "2024-02-12T03:23:25.965741Z",
     "start_time": "2024-02-12T03:23:25.811712Z"
    }
   },
   "outputs": [
    {
     "data": {
      "image/png": "[encoded data removed]",
      "text/plain": [
       "<Figure size 640x480 with 1 Axes>"
      ]
     },
     "metadata": {},
     "output_type": "display_data"
    }
   ],
   "source": [
    "r = len(np.reshape(y_test,(-1)))\n",
    "plt.plot(list(range(r)),np.reshape(y_test,(-1)), color='blue', label='true value')\n",
    "plt.plot(list(range(r)),np.reshape(pred,(-1)), color='red',alpha=0.6, label='prediction')\n",
    "plt.legend()\n",
    "plt.show()"
   ]
  },
  {
   "cell_type": "markdown",
   "id": "a6c4bc6d",
   "metadata": {},
   "source": [
    "# LSTM"
   ]
  },
  {
   "cell_type": "code",
   "execution_count": 143,
   "id": "aa88e6e3",
   "metadata": {
    "ExecuteTime": {
     "end_time": "2024-02-12T05:11:49.066782Z",
     "start_time": "2024-02-12T05:11:49.047293Z"
    }
   },
   "outputs": [],
   "source": [
    "kospi200 = np.load('./data/kospi200.npy',allow_pickle=True)\n",
    "samsung = np.load('./data/samsung.npy',allow_pickle=True)"
   ]
  },
  {
   "cell_type": "code",
   "execution_count": 144,
   "id": "59b63d6f",
   "metadata": {
    "ExecuteTime": {
     "end_time": "2024-02-12T05:11:49.483512Z",
     "start_time": "2024-02-12T05:11:49.467342Z"
    }
   },
   "outputs": [],
   "source": [
    "def split_xy_window(dataset, time_steps, y_column):\n",
    "    x,y = [],[]\n",
    "    for i in range(len(dataset)):\n",
    "        x_end_number = i + time_steps\n",
    "        y_end_number = x_end_number + y_column\n",
    "        \n",
    "        if y_end_number>len(dataset):\n",
    "            break\n",
    "        tmp_x = dataset[i:x_end_number,:]\n",
    "        tmp_y = dataset[x_end_number:y_end_number,3]\n",
    "        x.append(tmp_x)\n",
    "        y.append(tmp_y)\n",
    "    return np.array(x), np.array(y)"
   ]
  },
  {
   "cell_type": "code",
   "execution_count": 145,
   "id": "160d04f2",
   "metadata": {
    "ExecuteTime": {
     "end_time": "2024-02-12T05:11:49.930620Z",
     "start_time": "2024-02-12T05:11:49.916855Z"
    }
   },
   "outputs": [
    {
     "name": "stdout",
     "output_type": "stream",
     "text": [
      "(421, 5, 5)\n",
      "(421, 1)\n"
     ]
    }
   ],
   "source": [
    "# time step = 5\n",
    "x,y = split_xy_window(samsung,5,1)\n",
    "print(x.shape,y.shape,sep='\\n')"
   ]
  },
  {
   "cell_type": "code",
   "execution_count": 146,
   "id": "78ba78ed",
   "metadata": {
    "ExecuteTime": {
     "end_time": "2024-02-12T05:11:52.160132Z",
     "start_time": "2024-02-12T05:11:52.143671Z"
    }
   },
   "outputs": [
    {
     "name": "stdout",
     "output_type": "stream",
     "text": [
      "(294, 25)\n",
      "(127, 25)\n",
      "[ 1.13392563  1.07633086  1.02393741  0.93187013 -0.028819    1.05994459\n",
      "  1.04756614  1.06686328  0.94933344  1.53138774  0.79093879  0.80213886\n",
      "  0.84540479  0.81507608  0.10811605  0.73712199  0.68893234  0.71073997\n",
      "  0.69657856  0.37360361  0.85647275  0.80021877  0.80910994  0.69442952\n",
      " -0.16973555]\n"
     ]
    }
   ],
   "source": [
    "# train-test split\n",
    "x_train, x_test, y_train, y_test = train_test_split(\n",
    "    x,y,random_state=1, test_size=0.3)\n",
    "# reshape datasets to 1 dimension or preprocessing\n",
    "x_train = np.reshape(x_train,\n",
    "                    (x_train.shape[0],x_train.shape[1]*x_train.shape[2]))\n",
    "x_test = np.reshape(x_test,\n",
    "                   (x_test.shape[0],x_test.shape[1]*x_test.shape[2]))\n",
    "print(x_train.shape,\n",
    "     x_test.shape,\n",
    "     sep='\\n')\n",
    "# preprocessing\n",
    "from sklearn.preprocessing import StandardScaler\n",
    "scaler = StandardScaler()\n",
    "scaler.fit(x_train)\n",
    "x_train_scaled = scaler.transform(x_train)\n",
    "x_test_scaled = scaler.transform(x_test)\n",
    "print(x_train_scaled[0,:])"
   ]
  },
  {
   "cell_type": "code",
   "execution_count": 147,
   "id": "b3d9426a",
   "metadata": {
    "ExecuteTime": {
     "end_time": "2024-02-12T05:11:57.222418Z",
     "start_time": "2024-02-12T05:11:57.206522Z"
    }
   },
   "outputs": [
    {
     "name": "stdout",
     "output_type": "stream",
     "text": [
      "(294, 5, 5)\n",
      "(127, 5, 5)\n"
     ]
    }
   ],
   "source": [
    "# reshape to (None,5,5)\n",
    "x_train = np.reshape(x_train_scaled,\n",
    "                    (x_train_scaled.shape[0],5,5))\n",
    "x_test = np.reshape(x_test_scaled,\n",
    "                    (x_test_scaled.shape[0],5,5))\n",
    "print(x_train.shape, x_test.shape, sep='\\n') \n",
    "# batch_size, time_step, features"
   ]
  },
  {
   "cell_type": "code",
   "execution_count": 148,
   "id": "9e64f645",
   "metadata": {
    "ExecuteTime": {
     "end_time": "2024-02-12T05:11:59.056935Z",
     "start_time": "2024-02-12T05:11:59.036119Z"
    }
   },
   "outputs": [],
   "source": [
    "class LSTMModel(nn.Module):\n",
    "    def __init__(self,input_dim):\n",
    "        super(LSTMModel,self).__init__()\n",
    "        self.lstm = nn.LSTM(input_dim, hidden_size=64, batch_first=True)\n",
    "        self.dropout = nn.Dropout(0.2)\n",
    "        self.seq = nn.Sequential(nn.Linear(64,32),\n",
    "                                nn.ReLU(),\n",
    "                                nn.Linear(32,32),\n",
    "                                nn.ReLU(),\n",
    "                                nn.Linear(32,32),\n",
    "                                nn.ReLU(),\n",
    "                                nn.Linear(32,32),\n",
    "                                nn.ReLU(),\n",
    "                                nn.Linear(32,1)\n",
    "                                )\n",
    "        \n",
    "    def forward(self,x):\n",
    "        x,_ = self.lstm(x)\n",
    "#         print('output of lstm :',x.size()) # torch.Size([1, 5, 64])\n",
    "        x = self.dropout(x[:,-1,:])\n",
    "#         print('from lstm to linear :',x.size()) # torch.Size([1, 64])\n",
    "        x = self.seq(x)\n",
    "        return x\n",
    "    \n",
    "class RMSELoss(nn.Module):\n",
    "    def __init__(self):\n",
    "        super(RMSELoss,self).__init__()\n",
    "        self.mse = nn.MSELoss()\n",
    "        \n",
    "    def forward(self,yhat,y):\n",
    "        return torch.sqrt(self.mse(yhat,y))"
   ]
  },
  {
   "cell_type": "code",
   "execution_count": 149,
   "id": "07c6762c",
   "metadata": {
    "ExecuteTime": {
     "end_time": "2024-02-12T05:12:00.187773Z",
     "start_time": "2024-02-12T05:12:00.177643Z"
    }
   },
   "outputs": [],
   "source": [
    "model = LSTMModel(x_train.shape[2])"
   ]
  },
  {
   "cell_type": "code",
   "execution_count": 150,
   "id": "d11f3882",
   "metadata": {
    "ExecuteTime": {
     "end_time": "2024-02-12T05:12:00.824020Z",
     "start_time": "2024-02-12T05:12:00.807134Z"
    }
   },
   "outputs": [],
   "source": [
    "criterion = RMSELoss()\n",
    "optimizer = optim.Adam(model.parameters(), lr=0.001)\n",
    "scheduler = ReduceLROnPlateau(optimizer, 'min', factor=0.1, patience=20,verbose=True)"
   ]
  },
  {
   "cell_type": "code",
   "execution_count": 151,
   "id": "6c9f6dae",
   "metadata": {
    "ExecuteTime": {
     "end_time": "2024-02-12T05:12:01.932576Z",
     "start_time": "2024-02-12T05:12:01.916055Z"
    }
   },
   "outputs": [],
   "source": [
    "# to DataLoader\n",
    "x_tr, x_val, y_tr, y_val = train_test_split(x_train,y_train,\n",
    "                                           random_state=1,test_size=0.2)\n",
    "\n",
    "# to tensor\n",
    "x_tr_tensor = torch.tensor(x_tr.astype(np.float32),dtype=torch.float32)\n",
    "x_val_tensor = torch.tensor(x_val.astype(np.float32),dtype=torch.float32)\n",
    "y_tr_tensor = torch.tensor(y_tr.astype(np.float32),dtype=torch.float32)\n",
    "y_val_tensor = torch.tensor(y_val.astype(np.float32),dtype=torch.float32)\n",
    "\n",
    "# to DataLoader\n",
    "batch_size = 1\n",
    "train_loader = DataLoader(TensorDataset(x_tr_tensor,y_tr_tensor),\n",
    "                         batch_size=batch_size,shuffle=True)\n",
    "val_loader = DataLoader(TensorDataset(x_val_tensor,y_val_tensor),\n",
    "                       batch_size=batch_size,shuffle=False)"
   ]
  },
  {
   "cell_type": "code",
   "execution_count": 152,
   "id": "96bcf3a0",
   "metadata": {
    "ExecuteTime": {
     "end_time": "2024-02-12T05:12:58.273878Z",
     "start_time": "2024-02-12T05:12:02.756656Z"
    }
   },
   "outputs": [
    {
     "name": "stdout",
     "output_type": "stream",
     "text": [
      "Epoch 1/100, Train Loss: 37157.5112, Validation Loss: 3277.9074\n",
      "Epoch 2/100, Train Loss: 4775.3141, Validation Loss: 3067.4564\n",
      "Epoch 3/100, Train Loss: 3880.4449, Validation Loss: 1884.0515\n",
      "Epoch 4/100, Train Loss: 3111.7374, Validation Loss: 2741.7582\n",
      "Epoch 5/100, Train Loss: 2690.8054, Validation Loss: 813.0210\n",
      "Epoch 6/100, Train Loss: 2587.2501, Validation Loss: 756.5896\n",
      "Epoch 7/100, Train Loss: 2875.9758, Validation Loss: 1477.8898\n",
      "Epoch 8/100, Train Loss: 2694.6962, Validation Loss: 1030.9973\n",
      "Epoch 9/100, Train Loss: 2699.0918, Validation Loss: 1630.9487\n",
      "Epoch 10/100, Train Loss: 2691.1130, Validation Loss: 1257.7219\n",
      "Epoch 11/100, Train Loss: 2689.2323, Validation Loss: 1147.0461\n",
      "Epoch 12/100, Train Loss: 2491.3074, Validation Loss: 1532.1970\n",
      "Epoch 13/100, Train Loss: 2837.9302, Validation Loss: 939.4378\n",
      "Epoch 14/100, Train Loss: 2858.8118, Validation Loss: 915.3191\n",
      "Epoch 15/100, Train Loss: 2719.3166, Validation Loss: 965.9077\n",
      "Epoch 16/100, Train Loss: 2693.2416, Validation Loss: 825.6286\n",
      "Epoch 17/100, Train Loss: 2458.8840, Validation Loss: 1037.0297\n",
      "Epoch 18/100, Train Loss: 2612.1257, Validation Loss: 665.5079\n",
      "Epoch 19/100, Train Loss: 2540.7675, Validation Loss: 844.8788\n",
      "Epoch 20/100, Train Loss: 2608.6231, Validation Loss: 814.4903\n",
      "Epoch 21/100, Train Loss: 2380.9171, Validation Loss: 1531.4352\n",
      "Epoch 22/100, Train Loss: 2662.0832, Validation Loss: 872.1476\n",
      "Epoch 23/100, Train Loss: 2540.2226, Validation Loss: 1293.9820\n",
      "Epoch 24/100, Train Loss: 2538.3402, Validation Loss: 946.3837\n",
      "Epoch 25/100, Train Loss: 2601.0883, Validation Loss: 928.1925\n",
      "Epoch 26/100, Train Loss: 2567.8486, Validation Loss: 695.8524\n",
      "Epoch 27/100, Train Loss: 2680.3914, Validation Loss: 1380.3267\n",
      "Epoch 28/100, Train Loss: 2594.4351, Validation Loss: 1530.5966\n",
      "Epoch 29/100, Train Loss: 2445.8387, Validation Loss: 600.8565\n",
      "Epoch 30/100, Train Loss: 2671.0505, Validation Loss: 1352.5012\n",
      "Epoch 31/100, Train Loss: 2660.1798, Validation Loss: 643.2747\n",
      "Epoch 32/100, Train Loss: 2525.4482, Validation Loss: 2589.3277\n",
      "Epoch 33/100, Train Loss: 2501.7195, Validation Loss: 745.3240\n",
      "Epoch 34/100, Train Loss: 2662.1406, Validation Loss: 822.2093\n",
      "Epoch 35/100, Train Loss: 2714.7088, Validation Loss: 937.2044\n",
      "Epoch 36/100, Train Loss: 2531.1735, Validation Loss: 1615.2897\n",
      "Epoch 37/100, Train Loss: 2787.0069, Validation Loss: 2897.4758\n",
      "Epoch 38/100, Train Loss: 2647.4895, Validation Loss: 756.0314\n",
      "Epoch 39/100, Train Loss: 2517.1035, Validation Loss: 628.5397\n",
      "Epoch 40/100, Train Loss: 2719.6491, Validation Loss: 2622.4234\n",
      "Epoch 41/100, Train Loss: 2540.7849, Validation Loss: 1722.4836\n",
      "Epoch 42/100, Train Loss: 2329.5943, Validation Loss: 1603.3065\n",
      "Epoch 43/100, Train Loss: 2648.8764, Validation Loss: 673.5789\n",
      "Epoch 44/100, Train Loss: 2580.5203, Validation Loss: 1695.5221\n",
      "Epoch 45/100, Train Loss: 2474.8904, Validation Loss: 1505.1034\n",
      "Epoch 46/100, Train Loss: 2391.2743, Validation Loss: 2038.3395\n",
      "Epoch 47/100, Train Loss: 2408.1522, Validation Loss: 595.2080\n",
      "Epoch 48/100, Train Loss: 2678.0527, Validation Loss: 1924.4768\n",
      "Epoch 49/100, Train Loss: 2527.1960, Validation Loss: 1582.3931\n",
      "Epoch 50/100, Train Loss: 2748.1606, Validation Loss: 777.7067\n",
      "Epoch 51/100, Train Loss: 2710.0309, Validation Loss: 1669.2126\n",
      "Epoch 52/100, Train Loss: 2619.7866, Validation Loss: 1060.7280\n",
      "Epoch 53/100, Train Loss: 2658.7550, Validation Loss: 842.4935\n",
      "Epoch 54/100, Train Loss: 2673.9759, Validation Loss: 934.7740\n",
      "Epoch 55/100, Train Loss: 2789.9048, Validation Loss: 1283.2506\n",
      "Epoch 56/100, Train Loss: 2481.6615, Validation Loss: 2084.6163\n",
      "Epoch 57/100, Train Loss: 2450.3503, Validation Loss: 2612.6225\n",
      "Epoch 58/100, Train Loss: 2693.4071, Validation Loss: 793.9675\n",
      "Epoch 59/100, Train Loss: 2658.9670, Validation Loss: 1470.9572\n",
      "Epoch 60/100, Train Loss: 2451.1481, Validation Loss: 843.2834\n",
      "Epoch 61/100, Train Loss: 2443.3055, Validation Loss: 1267.5099\n",
      "Epoch 62/100, Train Loss: 2282.8440, Validation Loss: 1234.1623\n",
      "Epoch 63/100, Train Loss: 2629.8272, Validation Loss: 1018.8415\n",
      "Epoch 64/100, Train Loss: 2496.5362, Validation Loss: 2048.2980\n",
      "Epoch 65/100, Train Loss: 2638.5834, Validation Loss: 1015.3205\n",
      "Epoch 66/100, Train Loss: 2418.2446, Validation Loss: 621.9981\n",
      "Epoch 67/100, Train Loss: 2440.1489, Validation Loss: 1418.0284\n"
     ]
    }
   ],
   "source": [
    "EPOCHS = 100\n",
    "epoch_counter = 0\n",
    "patience = 20\n",
    "best_loss = float('inf')\n",
    "done = False\n",
    "es = EarlyStopping(patience=patience)\n",
    "tr_losses_fp, val_losses_fp = [],[]\n",
    "\n",
    "while not done and epoch_counter<EPOCHS:\n",
    "    epoch_counter+=1\n",
    "    \n",
    "    # train\n",
    "    model.train()\n",
    "    train_losses = []\n",
    "    for x_batch,y_batch in train_loader:\n",
    "        optimizer.zero_grad()\n",
    "        output = model(x_batch)\n",
    "        loss = criterion(output,y_batch)\n",
    "        loss.backward()\n",
    "        optimizer.step()\n",
    "        train_losses.append(loss.item())\n",
    "    train_loss = np.mean(train_losses)\n",
    "    tr_losses_fp.append(train_loss)\n",
    "    \n",
    "    # validation\n",
    "    model.eval()\n",
    "    val_losses = []\n",
    "    with torch.no_grad():\n",
    "        for x_batch, y_batch in val_loader:\n",
    "            output = model(x_batch)\n",
    "            loss = criterion(output, y_batch)\n",
    "            val_losses.append(loss.item())\n",
    "    val_loss = np.mean(val_losses)\n",
    "    val_losses_fp.append(val_loss)\n",
    "    scheduler.step(val_loss)\n",
    "    \n",
    "    if es(model, val_loss):\n",
    "        done = True\n",
    "    \n",
    "    print(f\"Epoch {epoch_counter}/{EPOCHS}, Train Loss: {train_loss:.4f}, Validation Loss: {val_loss:.4f}\")"
   ]
  },
  {
   "cell_type": "code",
   "execution_count": 153,
   "id": "c7ecdc23",
   "metadata": {
    "ExecuteTime": {
     "end_time": "2024-02-12T05:12:58.508642Z",
     "start_time": "2024-02-12T05:12:58.276763Z"
    }
   },
   "outputs": [
    {
     "data": {
      "image/png": "[encoded data removed]",
      "text/plain": [
       "<Figure size 640x480 with 1 Axes>"
      ]
     },
     "metadata": {},
     "output_type": "display_data"
    }
   ],
   "source": [
    "import matplotlib.pyplot as plt\n",
    "plt.plot(range(len(tr_losses_fp)),tr_losses_fp,color='blue',label='train_loss')\n",
    "plt.plot(range(len(val_losses_fp)),val_losses_fp,color='red',label='val_loss')\n",
    "plt.legend()\n",
    "plt.show()"
   ]
  },
  {
   "cell_type": "code",
   "execution_count": 155,
   "id": "422f4919",
   "metadata": {
    "ExecuteTime": {
     "end_time": "2024-02-12T05:13:19.754993Z",
     "start_time": "2024-02-12T05:13:19.738403Z"
    }
   },
   "outputs": [],
   "source": [
    "# evaluation\n",
    "model.eval()\n",
    "with torch.no_grad():\n",
    "    x_test_tensor = torch.tensor(x_test.astype(np.float32),dtype=torch.float32)\n",
    "    pred = model(x_test_tensor)"
   ]
  },
  {
   "cell_type": "code",
   "execution_count": 160,
   "id": "d548c68a",
   "metadata": {
    "ExecuteTime": {
     "end_time": "2024-02-12T05:13:40.686817Z",
     "start_time": "2024-02-12T05:13:40.680721Z"
    }
   },
   "outputs": [],
   "source": [
    "pred_np = pred.detach().numpy()"
   ]
  },
  {
   "cell_type": "code",
   "execution_count": 162,
   "id": "c0128f22",
   "metadata": {
    "ExecuteTime": {
     "end_time": "2024-02-12T05:14:00.042773Z",
     "start_time": "2024-02-12T05:13:59.821857Z"
    }
   },
   "outputs": [
    {
     "data": {
      "image/png": "[encoded data removed]",
      "text/plain": [
       "<Figure size 640x480 with 1 Axes>"
      ]
     },
     "metadata": {},
     "output_type": "display_data"
    }
   ],
   "source": [
    "r = len(np.reshape(y_test,(-1)))\n",
    "plt.plot(list(range(r)),np.reshape(y_test,(-1)), color='blue', label='true value')\n",
    "plt.plot(list(range(r)),np.reshape(pred_np,(-1)), color='red',alpha=0.6, label='prediction')\n",
    "plt.legend()\n",
    "plt.show()"
   ]
  },
  {
   "cell_type": "code",
   "execution_count": null,
   "id": "60886945",
   "metadata": {},
   "outputs": [],
   "source": []
  }
 ],
 "metadata": {
  "kernelspec": {
   "display_name": "Python 3 (ipykernel)",
   "language": "python",
   "name": "python3"
  },
  "language_info": {
   "codemirror_mode": {
    "name": "ipython",
    "version": 3
   },
   "file_extension": ".py",
   "mimetype": "text/x-python",
   "name": "python",
   "nbconvert_exporter": "python",
   "pygments_lexer": "ipython3",
   "version": "3.9.6"
  },
  "toc": {
   "base_numbering": 1,
   "nav_menu": {},
   "number_sections": false,
   "sideBar": true,
   "skip_h1_title": false,
   "title_cell": "Table of Contents",
   "title_sidebar": "Contents",
   "toc_cell": false,
   "toc_position": {},
   "toc_section_display": true,
   "toc_window_display": false
  }
 },
 "nbformat": 4,
 "nbformat_minor": 5
}
