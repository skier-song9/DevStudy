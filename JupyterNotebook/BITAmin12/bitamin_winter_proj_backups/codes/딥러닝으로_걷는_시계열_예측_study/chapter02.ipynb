{
 "cells": [
  {
   "cell_type": "code",
   "execution_count": 10,
   "id": "4fbd86c8",
   "metadata": {
    "ExecuteTime": {
     "end_time": "2024-02-09T18:23:48.598319Z",
     "start_time": "2024-02-09T18:23:48.580349Z"
    }
   },
   "outputs": [],
   "source": [
    "import torch\n",
    "from torch.utils.data import Dataset, DataLoader, TensorDataset\n",
    "import torch.nn as nn\n",
    "import torch.nn.functional as F\n",
    "import torch.optim as optim\n",
    "from torch.autograd import Variable\n",
    "from torch.nn import Parameter\n",
    "from torch import Tensor\n",
    "import numpy as np\n",
    "import pandas as pd"
   ]
  },
  {
   "cell_type": "code",
   "execution_count": 2,
   "id": "c9f1b533",
   "metadata": {
    "ExecuteTime": {
     "end_time": "2024-02-09T17:08:20.567803Z",
     "start_time": "2024-02-09T17:08:20.554359Z"
    }
   },
   "outputs": [],
   "source": [
    "x = torch.Tensor(np.arange(1,11).reshape(-1,1))\n",
    "y = torch.Tensor(np.arange(1,11).reshape(-1,1))"
   ]
  },
  {
   "cell_type": "code",
   "execution_count": 3,
   "id": "ddb95028",
   "metadata": {
    "ExecuteTime": {
     "end_time": "2024-02-09T17:08:20.583031Z",
     "start_time": "2024-02-09T17:08:20.569812Z"
    }
   },
   "outputs": [],
   "source": [
    "class Model(nn.Module):\n",
    "    def __init__(self, input_dim, output_dim):\n",
    "        super(Model,self).__init__()\n",
    "        self.seq = nn.Sequential(nn.Linear(input_dim,output_dim),\n",
    "                                nn.ReLU())\n",
    "    def forward(self,x):\n",
    "        out = self.seq(x)\n",
    "        return out"
   ]
  },
  {
   "cell_type": "code",
   "execution_count": 4,
   "id": "3c9b5fba",
   "metadata": {
    "ExecuteTime": {
     "end_time": "2024-02-09T17:08:21.721901Z",
     "start_time": "2024-02-09T17:08:20.586122Z"
    }
   },
   "outputs": [],
   "source": [
    "model = Model(1,1)\n",
    "criterion = nn.MSELoss()\n",
    "optimizer = optim.Adam(model.parameters())"
   ]
  },
  {
   "cell_type": "code",
   "execution_count": 5,
   "id": "e43af405",
   "metadata": {
    "ExecuteTime": {
     "end_time": "2024-02-09T17:08:23.465773Z",
     "start_time": "2024-02-09T17:08:21.723903Z"
    }
   },
   "outputs": [
    {
     "name": "stdout",
     "output_type": "stream",
     "text": [
      "loss: 0.0033179917372763157\n"
     ]
    }
   ],
   "source": [
    "epochs = 500\n",
    "for epoch in range(epochs):\n",
    "    pred = model(x)\n",
    "    loss = criterion(pred, y)\n",
    "    optimizer.zero_grad()\n",
    "    loss.backward()\n",
    "    optimizer.step()\n",
    "model.eval()\n",
    "with torch.no_grad():\n",
    "    pred = model(x)\n",
    "    loss = criterion(pred, y)\n",
    "    print('loss:',loss.item())"
   ]
  },
  {
   "cell_type": "code",
   "execution_count": 6,
   "id": "cad80fb7",
   "metadata": {
    "ExecuteTime": {
     "end_time": "2024-02-09T17:08:23.481428Z",
     "start_time": "2024-02-09T17:08:23.468773Z"
    }
   },
   "outputs": [
    {
     "data": {
      "text/plain": [
       "tensor([[ 0.8941],\n",
       "        [ 1.9124],\n",
       "        [ 2.9307],\n",
       "        [ 3.9490],\n",
       "        [ 4.9673],\n",
       "        [ 5.9856],\n",
       "        [ 7.0040],\n",
       "        [ 8.0223],\n",
       "        [ 9.0406],\n",
       "        [10.0589]])"
      ]
     },
     "execution_count": 6,
     "metadata": {},
     "output_type": "execute_result"
    }
   ],
   "source": [
    "pred"
   ]
  },
  {
   "cell_type": "code",
   "execution_count": 9,
   "id": "97c88a33",
   "metadata": {
    "ExecuteTime": {
     "end_time": "2024-02-09T18:22:19.047086Z",
     "start_time": "2024-02-09T18:22:19.025764Z"
    }
   },
   "outputs": [
    {
     "data": {
      "text/plain": [
       "(array([[ 1.],\n",
       "        [ 2.],\n",
       "        [ 3.],\n",
       "        [ 4.],\n",
       "        [ 5.],\n",
       "        [ 6.],\n",
       "        [ 7.],\n",
       "        [ 8.],\n",
       "        [ 9.],\n",
       "        [10.]], dtype=float32),\n",
       " array([[ 0.8941051],\n",
       "        [ 1.9124138],\n",
       "        [ 2.9307227],\n",
       "        [ 3.9490314],\n",
       "        [ 4.96734  ],\n",
       "        [ 5.985649 ],\n",
       "        [ 7.0039577],\n",
       "        [ 8.022266 ],\n",
       "        [ 9.040575 ],\n",
       "        [10.058884 ]], dtype=float32))"
      ]
     },
     "execution_count": 9,
     "metadata": {},
     "output_type": "execute_result"
    }
   ],
   "source": [
    "y_np, pred_np"
   ]
  },
  {
   "cell_type": "markdown",
   "id": "394813ea",
   "metadata": {},
   "source": [
    "# 101~110"
   ]
  },
  {
   "cell_type": "code",
   "execution_count": 18,
   "id": "b15381c2",
   "metadata": {
    "ExecuteTime": {
     "end_time": "2024-02-09T18:56:37.094167Z",
     "start_time": "2024-02-09T18:56:37.079982Z"
    }
   },
   "outputs": [],
   "source": [
    "x_test = torch.Tensor(np.arange(101,111).reshape(-1,1))\n",
    "y_test = torch.Tensor(np.arange(101,111).reshape(-1,1))"
   ]
  },
  {
   "cell_type": "code",
   "execution_count": 19,
   "id": "00fe3ee4",
   "metadata": {
    "ExecuteTime": {
     "end_time": "2024-02-09T18:56:37.263568Z",
     "start_time": "2024-02-09T18:56:37.257556Z"
    }
   },
   "outputs": [],
   "source": [
    "class Model(nn.Module):\n",
    "    def __init__(self, input_dim, output_dim):\n",
    "        super(Model,self).__init__()\n",
    "        self.seq = nn.Sequential(nn.Linear(input_dim,5,bias=True),\n",
    "                                nn.ReLU(),\n",
    "                                nn.Linear(5,3,bias=True),\n",
    "                                nn.ReLU(),\n",
    "                                nn.Linear(3,output_dim,bias=True),\n",
    "                                nn.ReLU())\n",
    "    def forward(self,x):\n",
    "        out = self.seq(x)\n",
    "        return out"
   ]
  },
  {
   "cell_type": "code",
   "execution_count": 20,
   "id": "bc22f171",
   "metadata": {
    "ExecuteTime": {
     "end_time": "2024-02-09T18:56:38.496230Z",
     "start_time": "2024-02-09T18:56:38.488051Z"
    }
   },
   "outputs": [],
   "source": [
    "class RMSELoss(nn.Module):\n",
    "    def __init__(self):\n",
    "        super(RMSELoss,self).__init__()\n",
    "        self.mse = nn.MSELoss()\n",
    "        \n",
    "    def forward(self,yhat,y):\n",
    "        return torch.sqrt(self.mse(yhat,y))"
   ]
  },
  {
   "cell_type": "code",
   "execution_count": 22,
   "id": "ea26fe80",
   "metadata": {
    "ExecuteTime": {
     "end_time": "2024-02-09T18:56:45.935718Z",
     "start_time": "2024-02-09T18:56:45.928677Z"
    }
   },
   "outputs": [],
   "source": [
    "model = Model(1,1)\n",
    "criterion = RMSELoss()\n",
    "optimizer = optim.Adam(model.parameters())"
   ]
  },
  {
   "cell_type": "code",
   "execution_count": 23,
   "id": "0847999c",
   "metadata": {
    "ExecuteTime": {
     "end_time": "2024-02-09T18:56:47.619051Z",
     "start_time": "2024-02-09T18:56:47.128399Z"
    }
   },
   "outputs": [
    {
     "name": "stdout",
     "output_type": "stream",
     "text": [
      "loss: 0.1049417033791542\n"
     ]
    }
   ],
   "source": [
    "epochs = 500\n",
    "for epoch in range(epochs):\n",
    "    pred = model(x)\n",
    "    loss = criterion(pred, y)\n",
    "    optimizer.zero_grad()\n",
    "    loss.backward()\n",
    "    optimizer.step()\n",
    "model.eval()\n",
    "with torch.no_grad():\n",
    "    pred = model(x_test)\n",
    "    loss = criterion(pred, y_test)\n",
    "    print('loss:',loss.item())"
   ]
  },
  {
   "cell_type": "code",
   "execution_count": 24,
   "id": "a064ce9a",
   "metadata": {
    "ExecuteTime": {
     "end_time": "2024-02-09T18:57:45.917450Z",
     "start_time": "2024-02-09T18:57:45.900545Z"
    }
   },
   "outputs": [
    {
     "data": {
      "text/plain": [
       "0.998665119910782"
      ]
     },
     "execution_count": 24,
     "metadata": {},
     "output_type": "execute_result"
    }
   ],
   "source": [
    "pred_np = pred.detach().numpy()\n",
    "y_test_np = y_test.numpy()\n",
    "from sklearn.metrics import r2_score\n",
    "r2_score(y_test_np,pred_np)"
   ]
  }
 ],
 "metadata": {
  "kernelspec": {
   "display_name": "Python 3 (ipykernel)",
   "language": "python",
   "name": "python3"
  },
  "language_info": {
   "codemirror_mode": {
    "name": "ipython",
    "version": 3
   },
   "file_extension": ".py",
   "mimetype": "text/x-python",
   "name": "python",
   "nbconvert_exporter": "python",
   "pygments_lexer": "ipython3",
   "version": "3.9.6"
  },
  "toc": {
   "base_numbering": 1,
   "nav_menu": {},
   "number_sections": false,
   "sideBar": true,
   "skip_h1_title": false,
   "title_cell": "Table of Contents",
   "title_sidebar": "Contents",
   "toc_cell": false,
   "toc_position": {},
   "toc_section_display": true,
   "toc_window_display": false
  }
 },
 "nbformat": 4,
 "nbformat_minor": 5
}
