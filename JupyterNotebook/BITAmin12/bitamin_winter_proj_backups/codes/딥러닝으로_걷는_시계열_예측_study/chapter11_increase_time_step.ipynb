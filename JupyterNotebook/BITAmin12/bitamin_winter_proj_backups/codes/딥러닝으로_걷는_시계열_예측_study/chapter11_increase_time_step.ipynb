{
 "cells": [
  {
   "cell_type": "code",
   "execution_count": 1,
   "id": "2059c61b",
   "metadata": {
    "ExecuteTime": {
     "end_time": "2024-02-12T16:03:33.651132Z",
     "start_time": "2024-02-12T16:03:30.727316Z"
    }
   },
   "outputs": [],
   "source": [
    "import numpy as np\n",
    "import pandas as pd\n",
    "import pdb"
   ]
  },
  {
   "cell_type": "markdown",
   "id": "a6c4bc6d",
   "metadata": {},
   "source": [
    "# LSTM with 120 window size"
   ]
  },
  {
   "cell_type": "code",
   "execution_count": 2,
   "id": "aa88e6e3",
   "metadata": {
    "ExecuteTime": {
     "end_time": "2024-02-12T16:03:33.665891Z",
     "start_time": "2024-02-12T16:03:33.654187Z"
    }
   },
   "outputs": [],
   "source": [
    "kospi200 = np.load('./data/kospi200.npy',allow_pickle=True)\n",
    "samsung = np.load('./data/samsung.npy',allow_pickle=True)"
   ]
  },
  {
   "cell_type": "code",
   "execution_count": 3,
   "id": "59b63d6f",
   "metadata": {
    "ExecuteTime": {
     "end_time": "2024-02-12T16:03:33.743478Z",
     "start_time": "2024-02-12T16:03:33.726632Z"
    }
   },
   "outputs": [],
   "source": [
    "def split_xy_window(dataset, time_steps, y_column):\n",
    "    x,y = [],[]\n",
    "    for i in range(len(dataset)):\n",
    "        x_end_number = i + time_steps\n",
    "        y_end_number = x_end_number + y_column\n",
    "        \n",
    "        if y_end_number>len(dataset):\n",
    "            break\n",
    "        tmp_x = dataset[i:x_end_number,:]\n",
    "        tmp_y = dataset[x_end_number:y_end_number,3]\n",
    "        x.append(tmp_x)\n",
    "        y.append(tmp_y)\n",
    "    return np.array(x), np.array(y)"
   ]
  },
  {
   "cell_type": "code",
   "execution_count": 4,
   "id": "160d04f2",
   "metadata": {
    "ExecuteTime": {
     "end_time": "2024-02-12T17:53:15.395618Z",
     "start_time": "2024-02-12T17:53:15.364328Z"
    }
   },
   "outputs": [
    {
     "name": "stdout",
     "output_type": "stream",
     "text": [
      "(306, 120, 5)\n",
      "(306, 1)\n"
     ]
    }
   ],
   "source": [
    "# time step = 120\n",
    "x,y = split_xy_window(samsung,120,1)\n",
    "print(x.shape,y.shape,sep='\\n')"
   ]
  },
  {
   "cell_type": "code",
   "execution_count": 8,
   "id": "78ba78ed",
   "metadata": {
    "ExecuteTime": {
     "end_time": "2024-02-12T17:54:28.610736Z",
     "start_time": "2024-02-12T17:54:28.587931Z"
    }
   },
   "outputs": [
    {
     "name": "stdout",
     "output_type": "stream",
     "text": [
      "(214, 600)\n",
      "(92, 600)\n"
     ]
    }
   ],
   "source": [
    "from sklearn.model_selection import train_test_split\n",
    "# train-test split\n",
    "x_train, x_test, y_train, y_test = train_test_split(\n",
    "    x,y,random_state=1, test_size=0.3)\n",
    "# reshape datasets to 1 dimension or preprocessing\n",
    "x_train = np.reshape(x_train,\n",
    "                    (x_train.shape[0],x_train.shape[1]*x_train.shape[2]))\n",
    "x_test = np.reshape(x_test,\n",
    "                   (x_test.shape[0],x_test.shape[1]*x_test.shape[2]))\n",
    "print(x_train.shape,\n",
    "     x_test.shape,\n",
    "     sep='\\n')\n",
    "# preprocessing\n",
    "from sklearn.preprocessing import StandardScaler\n",
    "scaler = StandardScaler()\n",
    "scaler.fit(x_train)\n",
    "x_train_scaled = scaler.transform(x_train)\n",
    "x_test_scaled = scaler.transform(x_test)\n",
    "# print(x_train_scaled[0,:])"
   ]
  },
  {
   "cell_type": "code",
   "execution_count": 9,
   "id": "b3d9426a",
   "metadata": {
    "ExecuteTime": {
     "end_time": "2024-02-12T17:54:49.567414Z",
     "start_time": "2024-02-12T17:54:49.551541Z"
    }
   },
   "outputs": [
    {
     "name": "stdout",
     "output_type": "stream",
     "text": [
      "(214, 120, 5)\n",
      "(92, 120, 5)\n"
     ]
    }
   ],
   "source": [
    "# reshape to (None,5,5)\n",
    "x_train = np.reshape(x_train_scaled,\n",
    "                    (x_train_scaled.shape[0],120,5))\n",
    "x_test = np.reshape(x_test_scaled,\n",
    "                    (x_test_scaled.shape[0],120,5))\n",
    "print(x_train.shape, x_test.shape, sep='\\n') \n",
    "# batch_size, time_step, features"
   ]
  },
  {
   "cell_type": "code",
   "execution_count": 16,
   "id": "9e64f645",
   "metadata": {
    "ExecuteTime": {
     "end_time": "2024-02-12T17:56:18.558715Z",
     "start_time": "2024-02-12T17:56:18.538485Z"
    }
   },
   "outputs": [],
   "source": [
    "import torch\n",
    "from torch.utils.data import Dataset, DataLoader, TensorDataset\n",
    "import torch.nn as nn\n",
    "import torch.nn.functional as F\n",
    "import torch.optim as optim\n",
    "from torch.autograd import Variable\n",
    "from torch.nn import Parameter\n",
    "from torch import Tensor\n",
    "from torch.optim.lr_scheduler import ReduceLROnPlateau\n",
    "\n",
    "import copy\n",
    "class EarlyStopping:\n",
    "    def __init__(self, patience=5, min_delta=0, restore_best_weights=True):\n",
    "        self.patience = patience\n",
    "        self.min_delta = min_delta\n",
    "        self.restore_best_weights = restore_best_weights\n",
    "        self.best_model = None\n",
    "        self.best_loss = None\n",
    "        self.counter = 0\n",
    "        self.status = \"\"\n",
    "\n",
    "    def __call__(self, model, val_loss):\n",
    "        if self.best_loss is None:\n",
    "            self.best_loss = val_loss\n",
    "            self.best_model = copy.deepcopy(model.state_dict())\n",
    "        elif self.best_loss - val_loss >= self.min_delta:\n",
    "            self.best_model = copy.deepcopy(model.state_dict())\n",
    "            self.best_loss = val_loss\n",
    "            self.counter = 0\n",
    "            self.status = f\"Improvement found, counter reset to {self.counter}\"\n",
    "        else:\n",
    "            self.counter += 1\n",
    "            self.status = f\"No improvement in the last {self.counter} epochs\"\n",
    "            if self.counter >= self.patience:\n",
    "                self.status = f\"Early stopping triggered after {self.counter} epochs.\"\n",
    "                if self.restore_best_weights:\n",
    "                    model.load_state_dict(self.best_model)\n",
    "                return True\n",
    "        return False\n",
    "    \n",
    "class LSTMModel(nn.Module):\n",
    "    def __init__(self,input_dim):\n",
    "        super(LSTMModel,self).__init__()\n",
    "        self.lstm = nn.LSTM(input_dim, hidden_size=64, batch_first=True)\n",
    "        self.dropout = nn.Dropout(0.2)\n",
    "        self.seq = nn.Sequential(nn.Linear(64,32),\n",
    "                                nn.ReLU(),\n",
    "                                nn.Linear(32,32),\n",
    "                                nn.ReLU(),\n",
    "                                nn.Linear(32,32),\n",
    "                                nn.ReLU(),\n",
    "                                nn.Linear(32,32),\n",
    "                                nn.ReLU(),\n",
    "                                nn.Linear(32,1)\n",
    "                                )\n",
    "        \n",
    "    def forward(self,x):\n",
    "        x,_ = self.lstm(x)\n",
    "#         print('output of lstm :',x.size()) # torch.Size([1, 120, 64])\n",
    "        x = self.dropout(x[:,-1,:])\n",
    "#         print('from lstm to linear :',x.size()) # torch.Size([1, 64])\n",
    "        x = self.seq(x)\n",
    "        return x\n",
    "    \n",
    "class RMSELoss(nn.Module):\n",
    "    def __init__(self):\n",
    "        super(RMSELoss,self).__init__()\n",
    "        self.mse = nn.MSELoss()\n",
    "        \n",
    "    def forward(self,yhat,y):\n",
    "        return torch.sqrt(self.mse(yhat,y))"
   ]
  },
  {
   "cell_type": "code",
   "execution_count": 17,
   "id": "07c6762c",
   "metadata": {
    "ExecuteTime": {
     "end_time": "2024-02-12T17:56:20.064933Z",
     "start_time": "2024-02-12T17:56:20.056630Z"
    }
   },
   "outputs": [],
   "source": [
    "model = LSTMModel(x_train.shape[2])"
   ]
  },
  {
   "cell_type": "code",
   "execution_count": 18,
   "id": "d11f3882",
   "metadata": {
    "ExecuteTime": {
     "end_time": "2024-02-12T17:56:20.405633Z",
     "start_time": "2024-02-12T17:56:20.397917Z"
    }
   },
   "outputs": [],
   "source": [
    "criterion = RMSELoss()\n",
    "optimizer = optim.Adam(model.parameters(), lr=0.001)\n",
    "scheduler = ReduceLROnPlateau(optimizer, 'min', factor=0.1, patience=20,verbose=True)"
   ]
  },
  {
   "cell_type": "code",
   "execution_count": 19,
   "id": "6c9f6dae",
   "metadata": {
    "ExecuteTime": {
     "end_time": "2024-02-12T17:56:21.092065Z",
     "start_time": "2024-02-12T17:56:21.073821Z"
    }
   },
   "outputs": [],
   "source": [
    "# to DataLoader\n",
    "x_tr, x_val, y_tr, y_val = train_test_split(x_train,y_train,\n",
    "                                           random_state=1,test_size=0.2)\n",
    "\n",
    "# to tensor\n",
    "x_tr_tensor = torch.tensor(x_tr.astype(np.float32),dtype=torch.float32)\n",
    "x_val_tensor = torch.tensor(x_val.astype(np.float32),dtype=torch.float32)\n",
    "y_tr_tensor = torch.tensor(y_tr.astype(np.float32),dtype=torch.float32)\n",
    "y_val_tensor = torch.tensor(y_val.astype(np.float32),dtype=torch.float32)\n",
    "\n",
    "# to DataLoader\n",
    "batch_size = 1\n",
    "train_loader = DataLoader(TensorDataset(x_tr_tensor,y_tr_tensor),\n",
    "                         batch_size=batch_size,shuffle=True)\n",
    "val_loader = DataLoader(TensorDataset(x_val_tensor,y_val_tensor),\n",
    "                       batch_size=batch_size,shuffle=False)"
   ]
  },
  {
   "cell_type": "code",
   "execution_count": 20,
   "id": "96bcf3a0",
   "metadata": {
    "ExecuteTime": {
     "end_time": "2024-02-12T17:58:09.984300Z",
     "start_time": "2024-02-12T17:56:21.797763Z"
    }
   },
   "outputs": [
    {
     "name": "stdout",
     "output_type": "stream",
     "text": [
      "Epoch 1/1000, Train Loss: 45468.2123, Validation Loss: 37355.4172\n",
      "Epoch 2/1000, Train Loss: 9644.0673, Validation Loss: 5144.7165\n",
      "Epoch 3/1000, Train Loss: 4084.2634, Validation Loss: 3549.0591\n",
      "Epoch 4/1000, Train Loss: 3820.5232, Validation Loss: 2268.1059\n",
      "Epoch 5/1000, Train Loss: 3183.7887, Validation Loss: 2134.4181\n",
      "Epoch 6/1000, Train Loss: 2915.0247, Validation Loss: 1203.6721\n",
      "Epoch 7/1000, Train Loss: 2744.7554, Validation Loss: 2288.4299\n",
      "Epoch 8/1000, Train Loss: 2804.8462, Validation Loss: 1344.4634\n",
      "Epoch 9/1000, Train Loss: 2867.0387, Validation Loss: 1282.8363\n",
      "Epoch 10/1000, Train Loss: 2865.6590, Validation Loss: 931.5067\n",
      "Epoch 11/1000, Train Loss: 2815.0754, Validation Loss: 1459.5225\n",
      "Epoch 12/1000, Train Loss: 2798.7390, Validation Loss: 2071.5561\n",
      "Epoch 13/1000, Train Loss: 2518.5508, Validation Loss: 1451.7275\n",
      "Epoch 14/1000, Train Loss: 2729.6348, Validation Loss: 1013.4928\n",
      "Epoch 15/1000, Train Loss: 2863.4155, Validation Loss: 877.6778\n",
      "Epoch 16/1000, Train Loss: 2471.5179, Validation Loss: 916.8248\n",
      "Epoch 17/1000, Train Loss: 2673.4294, Validation Loss: 1356.7815\n",
      "Epoch 18/1000, Train Loss: 2533.7819, Validation Loss: 1681.2335\n",
      "Epoch 19/1000, Train Loss: 2698.3052, Validation Loss: 1367.3390\n",
      "Epoch 20/1000, Train Loss: 2512.2708, Validation Loss: 780.6325\n",
      "Epoch 21/1000, Train Loss: 2712.7741, Validation Loss: 1445.1152\n",
      "Epoch 22/1000, Train Loss: 2825.1854, Validation Loss: 1192.8374\n",
      "Epoch 23/1000, Train Loss: 2552.6223, Validation Loss: 939.5121\n",
      "Epoch 24/1000, Train Loss: 2896.0903, Validation Loss: 842.2399\n",
      "Epoch 25/1000, Train Loss: 2880.6634, Validation Loss: 991.0548\n",
      "Epoch 26/1000, Train Loss: 2806.3311, Validation Loss: 1003.3057\n",
      "Epoch 27/1000, Train Loss: 2451.4024, Validation Loss: 1176.6484\n",
      "Epoch 28/1000, Train Loss: 2510.0159, Validation Loss: 1793.0275\n",
      "Epoch 29/1000, Train Loss: 2709.6545, Validation Loss: 1119.5470\n",
      "Epoch 30/1000, Train Loss: 2513.8546, Validation Loss: 745.2068\n",
      "Epoch 31/1000, Train Loss: 2840.9359, Validation Loss: 1626.9943\n",
      "Epoch 32/1000, Train Loss: 2692.1985, Validation Loss: 1860.9971\n",
      "Epoch 33/1000, Train Loss: 2831.0132, Validation Loss: 712.1662\n",
      "Epoch 34/1000, Train Loss: 2521.0935, Validation Loss: 848.2606\n",
      "Epoch 35/1000, Train Loss: 2499.4955, Validation Loss: 1504.7902\n",
      "Epoch 36/1000, Train Loss: 2711.0740, Validation Loss: 1370.4063\n",
      "Epoch 37/1000, Train Loss: 2425.2168, Validation Loss: 692.3994\n",
      "Epoch 38/1000, Train Loss: 2423.9204, Validation Loss: 1373.6802\n",
      "Epoch 39/1000, Train Loss: 2710.5418, Validation Loss: 787.5599\n",
      "Epoch 40/1000, Train Loss: 2793.2251, Validation Loss: 1397.6999\n",
      "Epoch 41/1000, Train Loss: 2740.2422, Validation Loss: 940.5657\n",
      "Epoch 42/1000, Train Loss: 2482.2437, Validation Loss: 1457.9172\n",
      "Epoch 43/1000, Train Loss: 2322.9109, Validation Loss: 732.6310\n",
      "Epoch 44/1000, Train Loss: 2570.3062, Validation Loss: 1781.7407\n",
      "Epoch 45/1000, Train Loss: 2671.2193, Validation Loss: 697.7532\n",
      "Epoch 46/1000, Train Loss: 2370.9814, Validation Loss: 688.6969\n",
      "Epoch 47/1000, Train Loss: 2535.7492, Validation Loss: 1274.3129\n",
      "Epoch 48/1000, Train Loss: 2928.6477, Validation Loss: 1102.1155\n",
      "Epoch 49/1000, Train Loss: 2597.5015, Validation Loss: 869.4798\n",
      "Epoch 50/1000, Train Loss: 2633.8988, Validation Loss: 1375.6169\n",
      "Epoch 51/1000, Train Loss: 2601.6522, Validation Loss: 1042.6417\n",
      "Epoch 52/1000, Train Loss: 2460.3815, Validation Loss: 727.6679\n",
      "Epoch 53/1000, Train Loss: 2343.2360, Validation Loss: 969.0924\n",
      "Epoch 54/1000, Train Loss: 2609.4372, Validation Loss: 710.7484\n",
      "Epoch 55/1000, Train Loss: 2666.9953, Validation Loss: 1260.5782\n",
      "Epoch 56/1000, Train Loss: 2611.4382, Validation Loss: 1415.4444\n",
      "Epoch 57/1000, Train Loss: 2490.4739, Validation Loss: 880.8228\n",
      "Epoch 58/1000, Train Loss: 2736.2177, Validation Loss: 959.4120\n",
      "Epoch 59/1000, Train Loss: 2827.2520, Validation Loss: 1125.1828\n",
      "Epoch 60/1000, Train Loss: 2528.0055, Validation Loss: 634.1099\n",
      "Epoch 61/1000, Train Loss: 2755.7935, Validation Loss: 1155.4320\n",
      "Epoch 62/1000, Train Loss: 2449.3155, Validation Loss: 2230.6933\n",
      "Epoch 63/1000, Train Loss: 2369.5819, Validation Loss: 2265.4961\n",
      "Epoch 64/1000, Train Loss: 2633.9710, Validation Loss: 1971.8870\n",
      "Epoch 65/1000, Train Loss: 2413.7870, Validation Loss: 1803.3796\n",
      "Epoch 66/1000, Train Loss: 2405.0659, Validation Loss: 1086.2108\n",
      "Epoch 67/1000, Train Loss: 2742.0340, Validation Loss: 1026.2169\n",
      "Epoch 68/1000, Train Loss: 2350.4671, Validation Loss: 1401.2411\n",
      "Epoch 69/1000, Train Loss: 2576.9055, Validation Loss: 700.2912\n",
      "Epoch 70/1000, Train Loss: 2761.1549, Validation Loss: 1009.5084\n",
      "Epoch 71/1000, Train Loss: 2610.2547, Validation Loss: 772.6839\n",
      "Epoch 72/1000, Train Loss: 2624.0870, Validation Loss: 1922.7437\n",
      "Epoch 73/1000, Train Loss: 2709.0866, Validation Loss: 2163.7812\n",
      "Epoch 74/1000, Train Loss: 2624.3336, Validation Loss: 590.4961\n",
      "Epoch 75/1000, Train Loss: 2473.4815, Validation Loss: 1108.5431\n",
      "Epoch 76/1000, Train Loss: 2437.9392, Validation Loss: 755.3887\n",
      "Epoch 77/1000, Train Loss: 2268.9276, Validation Loss: 1387.3359\n",
      "Epoch 78/1000, Train Loss: 2595.3823, Validation Loss: 875.4863\n",
      "Epoch 79/1000, Train Loss: 2585.1154, Validation Loss: 1081.9054\n",
      "Epoch 80/1000, Train Loss: 2399.9663, Validation Loss: 1957.4330\n",
      "Epoch 81/1000, Train Loss: 2689.2028, Validation Loss: 917.8457\n",
      "Epoch 82/1000, Train Loss: 2604.9531, Validation Loss: 1032.0312\n",
      "Epoch 83/1000, Train Loss: 2371.3973, Validation Loss: 890.9564\n",
      "Epoch 84/1000, Train Loss: 2595.5221, Validation Loss: 2688.1523\n",
      "Epoch 85/1000, Train Loss: 2469.7926, Validation Loss: 2120.3035\n",
      "Epoch 86/1000, Train Loss: 2400.1986, Validation Loss: 959.0957\n",
      "Epoch 87/1000, Train Loss: 2201.3500, Validation Loss: 1763.4176\n",
      "Epoch 88/1000, Train Loss: 2557.4641, Validation Loss: 1479.9189\n",
      "Epoch 89/1000, Train Loss: 2374.4997, Validation Loss: 724.7519\n",
      "Epoch 90/1000, Train Loss: 2766.0592, Validation Loss: 749.2936\n",
      "Epoch 91/1000, Train Loss: 2574.1592, Validation Loss: 955.7475\n",
      "Epoch 92/1000, Train Loss: 2433.1143, Validation Loss: 1017.7589\n",
      "Epoch 93/1000, Train Loss: 2206.0597, Validation Loss: 1076.1039\n",
      "Epoch 94/1000, Train Loss: 2605.2471, Validation Loss: 1718.1833\n",
      "Epoch 00095: reducing learning rate of group 0 to 1.0000e-04.\n",
      "Epoch 95/1000, Train Loss: 2615.2517, Validation Loss: 877.1946\n",
      "Epoch 96/1000, Train Loss: 2438.2776, Validation Loss: 587.2449\n",
      "Epoch 97/1000, Train Loss: 2346.6236, Validation Loss: 569.0987\n",
      "Epoch 98/1000, Train Loss: 2362.3039, Validation Loss: 610.9918\n",
      "Epoch 99/1000, Train Loss: 2364.9714, Validation Loss: 620.4198\n",
      "Epoch 100/1000, Train Loss: 2326.3677, Validation Loss: 582.4241\n",
      "Epoch 101/1000, Train Loss: 2542.7197, Validation Loss: 564.7118\n",
      "Epoch 102/1000, Train Loss: 2464.6289, Validation Loss: 708.8689\n",
      "Epoch 103/1000, Train Loss: 2494.1584, Validation Loss: 612.7870\n",
      "Epoch 104/1000, Train Loss: 2795.9623, Validation Loss: 552.7942\n",
      "Epoch 105/1000, Train Loss: 2233.5164, Validation Loss: 711.0789\n",
      "Epoch 106/1000, Train Loss: 2196.8734, Validation Loss: 561.4271\n",
      "Epoch 107/1000, Train Loss: 2399.0389, Validation Loss: 689.2138\n",
      "Epoch 108/1000, Train Loss: 2499.0880, Validation Loss: 647.5613\n",
      "Epoch 109/1000, Train Loss: 2624.9735, Validation Loss: 711.8844\n",
      "Epoch 110/1000, Train Loss: 2517.1658, Validation Loss: 544.3441\n",
      "Epoch 111/1000, Train Loss: 2450.8615, Validation Loss: 604.8968\n",
      "Epoch 112/1000, Train Loss: 2166.6628, Validation Loss: 683.3402\n",
      "Epoch 113/1000, Train Loss: 2300.9145, Validation Loss: 570.1233\n",
      "Epoch 114/1000, Train Loss: 2219.5107, Validation Loss: 721.4375\n",
      "Epoch 115/1000, Train Loss: 2189.7352, Validation Loss: 566.3613\n",
      "Epoch 116/1000, Train Loss: 2296.9015, Validation Loss: 546.3124\n",
      "Epoch 117/1000, Train Loss: 2422.5468, Validation Loss: 597.9866\n",
      "Epoch 118/1000, Train Loss: 2346.8475, Validation Loss: 645.1771\n",
      "Epoch 119/1000, Train Loss: 2319.6761, Validation Loss: 567.2736\n",
      "Epoch 120/1000, Train Loss: 2407.2424, Validation Loss: 694.8962\n",
      "Epoch 121/1000, Train Loss: 2419.1808, Validation Loss: 573.7955\n",
      "Epoch 122/1000, Train Loss: 2475.1772, Validation Loss: 556.6043\n",
      "Epoch 123/1000, Train Loss: 2549.9931, Validation Loss: 535.7407\n",
      "Epoch 124/1000, Train Loss: 2385.4711, Validation Loss: 611.2737\n",
      "Epoch 125/1000, Train Loss: 2434.7010, Validation Loss: 534.0367\n",
      "Epoch 126/1000, Train Loss: 2439.4648, Validation Loss: 533.1659\n"
     ]
    },
    {
     "name": "stdout",
     "output_type": "stream",
     "text": [
      "Epoch 127/1000, Train Loss: 2668.4662, Validation Loss: 705.0769\n",
      "Epoch 128/1000, Train Loss: 2395.5961, Validation Loss: 540.3834\n",
      "Epoch 129/1000, Train Loss: 2474.3302, Validation Loss: 539.8159\n",
      "Epoch 130/1000, Train Loss: 2735.7991, Validation Loss: 596.9511\n",
      "Epoch 131/1000, Train Loss: 2404.5643, Validation Loss: 572.4043\n",
      "Epoch 132/1000, Train Loss: 2269.6567, Validation Loss: 558.5342\n",
      "Epoch 133/1000, Train Loss: 2282.1380, Validation Loss: 569.0955\n",
      "Epoch 134/1000, Train Loss: 2082.8967, Validation Loss: 697.5546\n",
      "Epoch 135/1000, Train Loss: 2470.8792, Validation Loss: 568.3072\n",
      "Epoch 136/1000, Train Loss: 2267.9897, Validation Loss: 620.5943\n",
      "Epoch 137/1000, Train Loss: 2375.7612, Validation Loss: 548.6372\n",
      "Epoch 138/1000, Train Loss: 2419.6192, Validation Loss: 677.0407\n",
      "Epoch 139/1000, Train Loss: 2474.7675, Validation Loss: 716.3037\n",
      "Epoch 140/1000, Train Loss: 2466.5499, Validation Loss: 564.8491\n",
      "Epoch 141/1000, Train Loss: 2406.6629, Validation Loss: 763.9447\n",
      "Epoch 142/1000, Train Loss: 2316.8675, Validation Loss: 916.6493\n",
      "Epoch 143/1000, Train Loss: 2411.4225, Validation Loss: 637.1140\n",
      "Epoch 144/1000, Train Loss: 2720.6994, Validation Loss: 937.4002\n",
      "Epoch 145/1000, Train Loss: 2226.5374, Validation Loss: 1012.2702\n",
      "Epoch 146/1000, Train Loss: 2337.2572, Validation Loss: 741.7469\n",
      "Epoch 00147: reducing learning rate of group 0 to 1.0000e-05.\n",
      "Epoch 147/1000, Train Loss: 2239.0260, Validation Loss: 680.0357\n",
      "Epoch 148/1000, Train Loss: 2644.7288, Validation Loss: 636.2806\n",
      "Epoch 149/1000, Train Loss: 2433.4718, Validation Loss: 569.4660\n",
      "Epoch 150/1000, Train Loss: 2391.5100, Validation Loss: 565.5226\n",
      "Epoch 151/1000, Train Loss: 2376.0813, Validation Loss: 569.1963\n",
      "Epoch 152/1000, Train Loss: 2539.1414, Validation Loss: 552.6078\n",
      "Epoch 153/1000, Train Loss: 2453.3745, Validation Loss: 551.4216\n",
      "Epoch 154/1000, Train Loss: 2270.3259, Validation Loss: 552.6090\n",
      "Epoch 155/1000, Train Loss: 2381.2014, Validation Loss: 552.0345\n",
      "Epoch 156/1000, Train Loss: 2557.4401, Validation Loss: 551.6792\n"
     ]
    }
   ],
   "source": [
    "EPOCHS = 1000\n",
    "epoch_counter = 0\n",
    "patience = 30\n",
    "best_loss = float('inf')\n",
    "done = False\n",
    "es = EarlyStopping(patience=patience)\n",
    "tr_losses_fp, val_losses_fp = [],[]\n",
    "\n",
    "while not done and epoch_counter<EPOCHS:\n",
    "    epoch_counter+=1\n",
    "    \n",
    "    # train\n",
    "    model.train()\n",
    "    train_losses = []\n",
    "    for x_batch,y_batch in train_loader:\n",
    "        optimizer.zero_grad()\n",
    "        output = model(x_batch)\n",
    "        loss = criterion(output,y_batch)\n",
    "        loss.backward()\n",
    "        optimizer.step()\n",
    "        train_losses.append(loss.item())\n",
    "    train_loss = np.mean(train_losses)\n",
    "    tr_losses_fp.append(train_loss)\n",
    "    \n",
    "    # validation\n",
    "    model.eval()\n",
    "    val_losses = []\n",
    "    with torch.no_grad():\n",
    "        for x_batch, y_batch in val_loader:\n",
    "            output = model(x_batch)\n",
    "            loss = criterion(output, y_batch)\n",
    "            val_losses.append(loss.item())\n",
    "    val_loss = np.mean(val_losses)\n",
    "    val_losses_fp.append(val_loss)\n",
    "    scheduler.step(val_loss)\n",
    "    \n",
    "    if es(model, val_loss):\n",
    "        done = True\n",
    "    \n",
    "    print(f\"Epoch {epoch_counter}/{EPOCHS}, Train Loss: {train_loss:.4f}, Validation Loss: {val_loss:.4f}\")"
   ]
  },
  {
   "cell_type": "code",
   "execution_count": 21,
   "id": "c7ecdc23",
   "metadata": {
    "ExecuteTime": {
     "end_time": "2024-02-12T17:58:11.260213Z",
     "start_time": "2024-02-12T17:58:09.987506Z"
    }
   },
   "outputs": [
    {
     "data": {
      "image/png": "[encoded data removed]",
      "text/plain": [
       "<Figure size 640x480 with 1 Axes>"
      ]
     },
     "metadata": {},
     "output_type": "display_data"
    }
   ],
   "source": [
    "import matplotlib.pyplot as plt\n",
    "plt.plot(range(len(tr_losses_fp)),tr_losses_fp,color='blue',label='train_loss')\n",
    "plt.plot(range(len(val_losses_fp)),val_losses_fp,color='red',label='val_loss')\n",
    "plt.legend()\n",
    "plt.show()"
   ]
  },
  {
   "cell_type": "code",
   "execution_count": 22,
   "id": "422f4919",
   "metadata": {
    "ExecuteTime": {
     "end_time": "2024-02-12T17:58:11.291597Z",
     "start_time": "2024-02-12T17:58:11.262216Z"
    }
   },
   "outputs": [],
   "source": [
    "# evaluation\n",
    "model.eval()\n",
    "with torch.no_grad():\n",
    "    x_test_tensor = torch.tensor(x_test.astype(np.float32),dtype=torch.float32)\n",
    "    pred = model(x_test_tensor)"
   ]
  },
  {
   "cell_type": "code",
   "execution_count": 23,
   "id": "d548c68a",
   "metadata": {
    "ExecuteTime": {
     "end_time": "2024-02-12T17:58:11.307120Z",
     "start_time": "2024-02-12T17:58:11.294600Z"
    }
   },
   "outputs": [],
   "source": [
    "pred_np = pred.detach().numpy()"
   ]
  },
  {
   "cell_type": "code",
   "execution_count": 24,
   "id": "c0128f22",
   "metadata": {
    "ExecuteTime": {
     "end_time": "2024-02-12T17:58:11.493811Z",
     "start_time": "2024-02-12T17:58:11.309357Z"
    }
   },
   "outputs": [
    {
     "data": {
      "image/png": "[encoded data removed]",
      "text/plain": [
       "<Figure size 640x480 with 1 Axes>"
      ]
     },
     "metadata": {},
     "output_type": "display_data"
    }
   ],
   "source": [
    "r = len(np.reshape(y_test,(-1)))\n",
    "plt.plot(list(range(r)),np.reshape(y_test,(-1)), color='blue', label='true value')\n",
    "plt.plot(list(range(r)),np.reshape(pred_np,(-1)), color='red',alpha=0.6, label='prediction')\n",
    "plt.legend()\n",
    "plt.show()"
   ]
  },
  {
   "cell_type": "code",
   "execution_count": null,
   "id": "60886945",
   "metadata": {},
   "outputs": [],
   "source": []
  },
  {
   "cell_type": "code",
   "execution_count": null,
   "id": "40f912af",
   "metadata": {},
   "outputs": [],
   "source": []
  },
  {
   "cell_type": "code",
   "execution_count": null,
   "id": "ec5a1245",
   "metadata": {},
   "outputs": [],
   "source": []
  },
  {
   "cell_type": "code",
   "execution_count": null,
   "id": "5733ca84",
   "metadata": {},
   "outputs": [],
   "source": []
  }
 ],
 "metadata": {
  "kernelspec": {
   "display_name": "Python 3 (ipykernel)",
   "language": "python",
   "name": "python3"
  },
  "language_info": {
   "codemirror_mode": {
    "name": "ipython",
    "version": 3
   },
   "file_extension": ".py",
   "mimetype": "text/x-python",
   "name": "python",
   "nbconvert_exporter": "python",
   "pygments_lexer": "ipython3",
   "version": "3.9.6"
  },
  "toc": {
   "base_numbering": 1,
   "nav_menu": {},
   "number_sections": false,
   "sideBar": true,
   "skip_h1_title": false,
   "title_cell": "Table of Contents",
   "title_sidebar": "Contents",
   "toc_cell": false,
   "toc_position": {},
   "toc_section_display": true,
   "toc_window_display": false
  }
 },
 "nbformat": 4,
 "nbformat_minor": 5
}
