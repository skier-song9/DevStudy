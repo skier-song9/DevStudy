{
 "cells": [
  {
   "cell_type": "code",
   "execution_count": 1,
   "id": "0c52f1d5",
   "metadata": {
    "ExecuteTime": {
     "end_time": "2024-02-10T03:58:01.749363Z",
     "start_time": "2024-02-10T03:57:50.669561Z"
    }
   },
   "outputs": [
    {
     "name": "stdout",
     "output_type": "stream",
     "text": [
      "Using device: cuda\n"
     ]
    }
   ],
   "source": [
    "# Make use of a GPU or MPS (Apple) if one is available.  (see module 3.2)\n",
    "import torch\n",
    "has_mps = torch.backends.mps.is_built()\n",
    "device = \"mps\" if has_mps else \"cuda\" if torch.cuda.is_available() else \"cpu\"\n",
    "print(f\"Using device: {device}\")"
   ]
  },
  {
   "cell_type": "code",
   "execution_count": 2,
   "id": "183d12db",
   "metadata": {
    "ExecuteTime": {
     "end_time": "2024-02-10T03:58:01.967530Z",
     "start_time": "2024-02-10T03:58:01.752904Z"
    }
   },
   "outputs": [],
   "source": [
    "import torch\n",
    "import torch.nn as nn\n",
    "import torch.optim as optim\n",
    "from torch.nn import functional as F\n",
    "\n",
    "# Data\n",
    "max_features = 4\n",
    "x_data = [\n",
    "    [[0], [1], [1], [0], [0], [0]],\n",
    "    [[0], [0], [0], [2], [2], [0]],\n",
    "    [[0], [0], [0], [0], [3], [3]],\n",
    "    [[0], [2], [2], [0], [0], [0]],\n",
    "    [[0], [0], [3], [3], [0], [0]],\n",
    "    [[0], [0], [0], [0], [1], [1]]\n",
    "]\n",
    "x = torch.tensor(x_data, dtype=torch.float32, device=device)\n",
    "y = torch.tensor([1, 2, 3, 2, 3, 1], dtype=torch.int64, device=device)"
   ]
  },
  {
   "cell_type": "code",
   "execution_count": 9,
   "id": "11460fff",
   "metadata": {
    "ExecuteTime": {
     "end_time": "2024-02-10T03:58:05.868259Z",
     "start_time": "2024-02-10T03:58:05.857934Z"
    }
   },
   "outputs": [
    {
     "data": {
      "text/plain": [
       "torch.Size([6, 6, 1])"
      ]
     },
     "execution_count": 9,
     "metadata": {},
     "output_type": "execute_result"
    }
   ],
   "source": [
    "x.size()"
   ]
  },
  {
   "cell_type": "code",
   "execution_count": 3,
   "id": "77a1cd5f",
   "metadata": {
    "ExecuteTime": {
     "end_time": "2024-02-10T03:58:02.184893Z",
     "start_time": "2024-02-10T03:58:01.969534Z"
    }
   },
   "outputs": [
    {
     "data": {
      "text/plain": [
       "tensor([[0., 1., 0., 0.],\n",
       "        [0., 0., 1., 0.],\n",
       "        [0., 0., 0., 1.],\n",
       "        [0., 0., 1., 0.],\n",
       "        [0., 0., 0., 1.],\n",
       "        [0., 1., 0., 0.]], device='cuda:0')"
      ]
     },
     "execution_count": 3,
     "metadata": {},
     "output_type": "execute_result"
    }
   ],
   "source": [
    "y2 = F.one_hot(y, max_features).to(torch.float32)\n",
    "y2"
   ]
  },
  {
   "cell_type": "code",
   "execution_count": 4,
   "id": "649e4dce",
   "metadata": {
    "ExecuteTime": {
     "end_time": "2024-02-10T03:58:02.200645Z",
     "start_time": "2024-02-10T03:58:02.187912Z"
    }
   },
   "outputs": [],
   "source": [
    "# Model using a sequence\n",
    "class LSTMLayer(nn.Module):\n",
    "    def __init__(self, input_size, hidden_size):\n",
    "        super(LSTMLayer, self).__init__()\n",
    "        self.lstm = nn.LSTM(input_size=input_size, hidden_size=hidden_size, batch_first=True)\n",
    "\n",
    "    def forward(self, x):\n",
    "        out, _ = self.lstm(x)\n",
    "        print(out.size())\n",
    "        return out"
   ]
  },
  {
   "cell_type": "code",
   "execution_count": 5,
   "id": "78a13689",
   "metadata": {
    "ExecuteTime": {
     "end_time": "2024-02-10T03:58:02.216435Z",
     "start_time": "2024-02-10T03:58:02.202550Z"
    }
   },
   "outputs": [],
   "source": [
    "model = nn.Sequential(\n",
    "    LSTMLayer(input_size=1, hidden_size=128),\n",
    "    nn.Dropout(p=0.2),\n",
    "    nn.Flatten(),\n",
    "    nn.Linear(128*6, 4), # output as one-hot encoding format\n",
    "    nn.Sigmoid()\n",
    ")"
   ]
  },
  {
   "cell_type": "code",
   "execution_count": 6,
   "id": "3719062c",
   "metadata": {
    "ExecuteTime": {
     "end_time": "2024-02-10T03:58:02.309271Z",
     "start_time": "2024-02-10T03:58:02.218680Z"
    }
   },
   "outputs": [],
   "source": [
    "# Check for GPU availability\n",
    "model = model.to(device)"
   ]
  },
  {
   "cell_type": "code",
   "execution_count": 7,
   "id": "f2a44d68",
   "metadata": {
    "ExecuteTime": {
     "end_time": "2024-02-10T03:58:03.434633Z",
     "start_time": "2024-02-10T03:58:02.311797Z"
    }
   },
   "outputs": [],
   "source": [
    "# Loss and optimizer\n",
    "criterion = nn.BCELoss()\n",
    "optimizer = optim.Adam(model.parameters())"
   ]
  },
  {
   "cell_type": "code",
   "execution_count": 8,
   "id": "fd214e5c",
   "metadata": {
    "ExecuteTime": {
     "end_time": "2024-02-10T03:58:04.166570Z",
     "start_time": "2024-02-10T03:58:03.436636Z"
    }
   },
   "outputs": [
    {
     "name": "stdout",
     "output_type": "stream",
     "text": [
      "Train...\n",
      "torch.Size([6, 6, 128])\n",
      "torch.Size([6, 6, 128])\n",
      "torch.Size([6, 6, 128])\n",
      "torch.Size([6, 6, 128])\n",
      "torch.Size([6, 6, 128])\n",
      "torch.Size([6, 6, 128])\n",
      "torch.Size([6, 6, 128])\n",
      "torch.Size([6, 6, 128])\n",
      "torch.Size([6, 6, 128])\n",
      "torch.Size([6, 6, 128])\n",
      "Epoch [10/200], Loss: 0.6315\n",
      "torch.Size([6, 6, 128])\n",
      "torch.Size([6, 6, 128])\n",
      "torch.Size([6, 6, 128])\n",
      "torch.Size([6, 6, 128])\n",
      "torch.Size([6, 6, 128])\n",
      "torch.Size([6, 6, 128])\n",
      "torch.Size([6, 6, 128])\n",
      "torch.Size([6, 6, 128])\n",
      "torch.Size([6, 6, 128])\n",
      "torch.Size([6, 6, 128])\n",
      "Epoch [20/200], Loss: 0.5185\n",
      "torch.Size([6, 6, 128])\n",
      "torch.Size([6, 6, 128])\n",
      "torch.Size([6, 6, 128])\n",
      "torch.Size([6, 6, 128])\n",
      "torch.Size([6, 6, 128])\n",
      "torch.Size([6, 6, 128])\n",
      "torch.Size([6, 6, 128])\n",
      "torch.Size([6, 6, 128])\n",
      "torch.Size([6, 6, 128])\n",
      "torch.Size([6, 6, 128])\n",
      "Epoch [30/200], Loss: 0.4808\n",
      "torch.Size([6, 6, 128])\n",
      "torch.Size([6, 6, 128])\n",
      "torch.Size([6, 6, 128])\n",
      "torch.Size([6, 6, 128])\n",
      "torch.Size([6, 6, 128])\n",
      "torch.Size([6, 6, 128])\n",
      "torch.Size([6, 6, 128])\n",
      "torch.Size([6, 6, 128])\n",
      "torch.Size([6, 6, 128])\n",
      "torch.Size([6, 6, 128])\n",
      "Epoch [40/200], Loss: 0.4414\n",
      "torch.Size([6, 6, 128])\n",
      "torch.Size([6, 6, 128])\n",
      "torch.Size([6, 6, 128])\n",
      "torch.Size([6, 6, 128])\n",
      "torch.Size([6, 6, 128])\n",
      "torch.Size([6, 6, 128])\n",
      "torch.Size([6, 6, 128])\n",
      "torch.Size([6, 6, 128])\n",
      "torch.Size([6, 6, 128])\n",
      "torch.Size([6, 6, 128])\n",
      "Epoch [50/200], Loss: 0.3869\n",
      "torch.Size([6, 6, 128])\n",
      "torch.Size([6, 6, 128])\n",
      "torch.Size([6, 6, 128])\n",
      "torch.Size([6, 6, 128])\n",
      "torch.Size([6, 6, 128])\n",
      "torch.Size([6, 6, 128])\n",
      "torch.Size([6, 6, 128])\n",
      "torch.Size([6, 6, 128])\n",
      "torch.Size([6, 6, 128])\n",
      "torch.Size([6, 6, 128])\n",
      "Epoch [60/200], Loss: 0.3548\n",
      "torch.Size([6, 6, 128])\n",
      "torch.Size([6, 6, 128])\n",
      "torch.Size([6, 6, 128])\n",
      "torch.Size([6, 6, 128])\n",
      "torch.Size([6, 6, 128])\n",
      "torch.Size([6, 6, 128])\n",
      "torch.Size([6, 6, 128])\n",
      "torch.Size([6, 6, 128])\n",
      "torch.Size([6, 6, 128])\n",
      "torch.Size([6, 6, 128])\n",
      "Epoch [70/200], Loss: 0.2842\n",
      "torch.Size([6, 6, 128])\n",
      "torch.Size([6, 6, 128])\n",
      "torch.Size([6, 6, 128])\n",
      "torch.Size([6, 6, 128])\n",
      "torch.Size([6, 6, 128])\n",
      "torch.Size([6, 6, 128])\n",
      "torch.Size([6, 6, 128])\n",
      "torch.Size([6, 6, 128])\n",
      "torch.Size([6, 6, 128])\n",
      "torch.Size([6, 6, 128])\n",
      "Epoch [80/200], Loss: 0.2498\n",
      "torch.Size([6, 6, 128])\n",
      "torch.Size([6, 6, 128])\n",
      "torch.Size([6, 6, 128])\n",
      "torch.Size([6, 6, 128])\n",
      "torch.Size([6, 6, 128])\n",
      "torch.Size([6, 6, 128])\n",
      "torch.Size([6, 6, 128])\n",
      "torch.Size([6, 6, 128])\n",
      "torch.Size([6, 6, 128])\n",
      "torch.Size([6, 6, 128])\n",
      "Epoch [90/200], Loss: 0.2006\n",
      "torch.Size([6, 6, 128])\n",
      "torch.Size([6, 6, 128])\n",
      "torch.Size([6, 6, 128])\n",
      "torch.Size([6, 6, 128])\n",
      "torch.Size([6, 6, 128])\n",
      "torch.Size([6, 6, 128])\n",
      "torch.Size([6, 6, 128])\n",
      "torch.Size([6, 6, 128])\n",
      "torch.Size([6, 6, 128])\n",
      "torch.Size([6, 6, 128])\n",
      "Epoch [100/200], Loss: 0.1538\n",
      "torch.Size([6, 6, 128])\n",
      "torch.Size([6, 6, 128])\n",
      "torch.Size([6, 6, 128])\n",
      "torch.Size([6, 6, 128])\n",
      "torch.Size([6, 6, 128])\n",
      "torch.Size([6, 6, 128])\n",
      "torch.Size([6, 6, 128])\n",
      "torch.Size([6, 6, 128])\n",
      "torch.Size([6, 6, 128])\n",
      "torch.Size([6, 6, 128])\n",
      "Epoch [110/200], Loss: 0.1031\n",
      "torch.Size([6, 6, 128])\n",
      "torch.Size([6, 6, 128])\n",
      "torch.Size([6, 6, 128])\n",
      "torch.Size([6, 6, 128])\n",
      "torch.Size([6, 6, 128])\n",
      "torch.Size([6, 6, 128])\n",
      "torch.Size([6, 6, 128])\n",
      "torch.Size([6, 6, 128])\n",
      "torch.Size([6, 6, 128])\n",
      "torch.Size([6, 6, 128])\n",
      "Epoch [120/200], Loss: 0.0781\n",
      "torch.Size([6, 6, 128])\n",
      "torch.Size([6, 6, 128])\n",
      "torch.Size([6, 6, 128])\n",
      "torch.Size([6, 6, 128])\n",
      "torch.Size([6, 6, 128])\n",
      "torch.Size([6, 6, 128])\n",
      "torch.Size([6, 6, 128])\n",
      "torch.Size([6, 6, 128])\n",
      "torch.Size([6, 6, 128])\n",
      "torch.Size([6, 6, 128])\n",
      "Epoch [130/200], Loss: 0.0515\n",
      "torch.Size([6, 6, 128])\n",
      "torch.Size([6, 6, 128])\n",
      "torch.Size([6, 6, 128])\n",
      "torch.Size([6, 6, 128])\n",
      "torch.Size([6, 6, 128])\n",
      "torch.Size([6, 6, 128])\n",
      "torch.Size([6, 6, 128])\n",
      "torch.Size([6, 6, 128])\n",
      "torch.Size([6, 6, 128])\n",
      "torch.Size([6, 6, 128])\n",
      "Epoch [140/200], Loss: 0.0293\n",
      "torch.Size([6, 6, 128])\n",
      "torch.Size([6, 6, 128])\n",
      "torch.Size([6, 6, 128])\n",
      "torch.Size([6, 6, 128])\n",
      "torch.Size([6, 6, 128])\n",
      "torch.Size([6, 6, 128])\n",
      "torch.Size([6, 6, 128])\n",
      "torch.Size([6, 6, 128])\n",
      "torch.Size([6, 6, 128])\n",
      "torch.Size([6, 6, 128])\n",
      "Epoch [150/200], Loss: 0.0262\n",
      "torch.Size([6, 6, 128])\n",
      "torch.Size([6, 6, 128])\n",
      "torch.Size([6, 6, 128])\n",
      "torch.Size([6, 6, 128])\n",
      "torch.Size([6, 6, 128])\n",
      "torch.Size([6, 6, 128])\n",
      "torch.Size([6, 6, 128])\n",
      "torch.Size([6, 6, 128])\n",
      "torch.Size([6, 6, 128])\n",
      "torch.Size([6, 6, 128])\n",
      "Epoch [160/200], Loss: 0.0186\n",
      "torch.Size([6, 6, 128])\n",
      "torch.Size([6, 6, 128])\n",
      "torch.Size([6, 6, 128])\n",
      "torch.Size([6, 6, 128])\n",
      "torch.Size([6, 6, 128])\n",
      "torch.Size([6, 6, 128])\n",
      "torch.Size([6, 6, 128])\n",
      "torch.Size([6, 6, 128])\n",
      "torch.Size([6, 6, 128])\n",
      "torch.Size([6, 6, 128])\n",
      "Epoch [170/200], Loss: 0.0133\n",
      "torch.Size([6, 6, 128])\n",
      "torch.Size([6, 6, 128])\n",
      "torch.Size([6, 6, 128])\n",
      "torch.Size([6, 6, 128])\n",
      "torch.Size([6, 6, 128])\n",
      "torch.Size([6, 6, 128])\n",
      "torch.Size([6, 6, 128])\n",
      "torch.Size([6, 6, 128])\n",
      "torch.Size([6, 6, 128])\n",
      "torch.Size([6, 6, 128])\n",
      "Epoch [180/200], Loss: 0.0146\n",
      "torch.Size([6, 6, 128])\n",
      "torch.Size([6, 6, 128])\n",
      "torch.Size([6, 6, 128])\n",
      "torch.Size([6, 6, 128])\n",
      "torch.Size([6, 6, 128])\n",
      "torch.Size([6, 6, 128])\n",
      "torch.Size([6, 6, 128])\n",
      "torch.Size([6, 6, 128])\n",
      "torch.Size([6, 6, 128])\n",
      "torch.Size([6, 6, 128])\n",
      "Epoch [190/200], Loss: 0.0144\n",
      "torch.Size([6, 6, 128])\n",
      "torch.Size([6, 6, 128])\n",
      "torch.Size([6, 6, 128])\n",
      "torch.Size([6, 6, 128])\n",
      "torch.Size([6, 6, 128])\n",
      "torch.Size([6, 6, 128])\n",
      "torch.Size([6, 6, 128])\n",
      "torch.Size([6, 6, 128])\n",
      "torch.Size([6, 6, 128])\n",
      "torch.Size([6, 6, 128])\n",
      "Epoch [200/200], Loss: 0.0120\n"
     ]
    }
   ],
   "source": [
    "# Train the model\n",
    "print('Train...')\n",
    "for epoch in range(200):\n",
    "    optimizer.zero_grad()\n",
    "    outputs = model(x)\n",
    "    loss = criterion(outputs, y2)\n",
    "    loss.backward()\n",
    "    optimizer.step()\n",
    "    if (epoch + 1) % 10 == 0:\n",
    "        print(f\"Epoch [{epoch + 1}/200], Loss: {loss.item():.4f}\")"
   ]
  },
  {
   "cell_type": "code",
   "execution_count": null,
   "id": "e27f00ba",
   "metadata": {},
   "outputs": [],
   "source": []
  }
 ],
 "metadata": {
  "kernelspec": {
   "display_name": "Python 3 (ipykernel)",
   "language": "python",
   "name": "python3"
  },
  "language_info": {
   "codemirror_mode": {
    "name": "ipython",
    "version": 3
   },
   "file_extension": ".py",
   "mimetype": "text/x-python",
   "name": "python",
   "nbconvert_exporter": "python",
   "pygments_lexer": "ipython3",
   "version": "3.9.6"
  },
  "toc": {
   "base_numbering": 1,
   "nav_menu": {},
   "number_sections": false,
   "sideBar": true,
   "skip_h1_title": false,
   "title_cell": "Table of Contents",
   "title_sidebar": "Contents",
   "toc_cell": false,
   "toc_position": {},
   "toc_section_display": true,
   "toc_window_display": false
  }
 },
 "nbformat": 4,
 "nbformat_minor": 5
}
