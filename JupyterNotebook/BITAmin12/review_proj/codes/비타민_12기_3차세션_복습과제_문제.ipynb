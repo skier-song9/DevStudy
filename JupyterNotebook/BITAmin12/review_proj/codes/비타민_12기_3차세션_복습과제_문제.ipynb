{
 "cells": [
  {
   "cell_type": "code",
   "execution_count": 1,
   "id": "d4b0a37a",
   "metadata": {
    "ExecuteTime": {
     "end_time": "2023-08-28T12:56:55.881156Z",
     "start_time": "2023-08-28T12:56:54.903847Z"
    }
   },
   "outputs": [],
   "source": [
    "import pandas as pd\n",
    "import numpy as np\n",
    "from sklearn.model_selection import train_test_split\n",
    "from sklearn.tree import DecisionTreeClassifier\n",
    "from sklearn.preprocessing import LabelEncoder\n",
    "from sklearn.metrics import accuracy_score,confusion_matrix,classification_report"
   ]
  },
  {
   "cell_type": "markdown",
   "id": "6945b1c3",
   "metadata": {},
   "source": [
    "### 문제 1\n",
    "호주 멜버른의 주택 가격 데이터셋 melb_data.csv으로 주택 가격을 예측하고,   \n",
    "각종 평가지표를 사용하여 결정트리 모델을 평가하세요."
   ]
  },
  {
   "cell_type": "markdown",
   "id": "62316732",
   "metadata": {},
   "source": [
    "#### Data Description \n",
    "\n",
    "* `Rooms`: 방 개수\n",
    "\n",
    "* `Price`: 가격(단위: $ 달러)\n",
    "\n",
    "* `Type`: 주택 유형   \n",
    "br - bedroom(s); h - house,cottage,villa, semi,terrace; u - unit, duplex; t - townhouse; dev site - development site; o res - other residential.\n",
    "\n",
    "* `Distance`: Distance from CBD(Central Business District : 도심 지역)\n",
    "\n",
    "* `Bedroom2` : Scraped # of Bedrooms (from different source) (주요 침실 개수)\n",
    "\n",
    "* `Bathroom`: Number of Bathrooms\n",
    "\n",
    "* `Car`: Number of carspots\n",
    "\n",
    "* `Landsize`: Land Size\n",
    "\n",
    "* `BuildingArea`: Building Size\n",
    "\n",
    "* `CouncilArea`: Governing council for the area\n"
   ]
  },
  {
   "cell_type": "markdown",
   "id": "07d33584",
   "metadata": {},
   "source": [
    "우선 다음 코드들을 실행하여 melb_data변수명으로 데이터를 로드하고   \n",
    "결정트리 분석에 필요한 컬럼만 남기고 결손값을 처리합니다.\n",
    "      \n",
    "* feature 데이터 = [Rooms, Type, Distance, Bedroom2, Bathroom, Car, Landsize, BuildingArea, CouncilArea]   \n",
    "* label 데이터 = Price      \n",
    "   \n",
    "(Price 값이 양적 자료이기 때문에 분류보단 회귀방식의 모델이 더 적합하지만, 결정트리를 사용하기 위해 편의상 Price값을 사분위수에 따라 범주형 자료로 변환하여 사용합니다.)"
   ]
  },
  {
   "cell_type": "code",
   "execution_count": 13,
   "id": "f018d565",
   "metadata": {
    "ExecuteTime": {
     "end_time": "2023-08-28T13:02:07.456959Z",
     "start_time": "2023-08-28T13:02:07.406231Z"
    }
   },
   "outputs": [],
   "source": [
    "#(문제 아님)\n",
    "file_path = '../data/melb_data.csv'\n",
    "drop_columns=['Date','YearBuilt','Suburb','SellerG','Postcode','Address','Method','Lattitude','Longtitude','Propertycount']\n",
    "melb_data = pd.read_csv(file_path).drop(columns=drop_columns,axis=1)\n",
    "melb_data['CouncilArea'] = melb_data['CouncilArea'].fillna('Moreland')\n",
    "melb_data['BuildingArea'] = melb_data['BuildingArea'].fillna(melb_data['BuildingArea'].mean())\n",
    "melb_data['Car'] = melb_data['Car'].fillna(melb_data['Car'].median())"
   ]
  },
  {
   "cell_type": "code",
   "execution_count": 3,
   "id": "5df35e26",
   "metadata": {
    "ExecuteTime": {
     "end_time": "2023-08-28T12:56:55.946672Z",
     "start_time": "2023-08-28T12:56:55.932655Z"
    },
    "scrolled": false
   },
   "outputs": [
    {
     "name": "stdout",
     "output_type": "stream",
     "text": [
      "<class 'pandas.core.frame.DataFrame'>\n",
      "RangeIndex: 13580 entries, 0 to 13579\n",
      "Data columns (total 11 columns):\n",
      " #   Column        Non-Null Count  Dtype  \n",
      "---  ------        --------------  -----  \n",
      " 0   Rooms         13580 non-null  int64  \n",
      " 1   Type          13580 non-null  object \n",
      " 2   Price         13580 non-null  float64\n",
      " 3   Distance      13580 non-null  float64\n",
      " 4   Bedroom2      13580 non-null  float64\n",
      " 5   Bathroom      13580 non-null  float64\n",
      " 6   Car           13580 non-null  float64\n",
      " 7   Landsize      13580 non-null  float64\n",
      " 8   BuildingArea  13580 non-null  float64\n",
      " 9   CouncilArea   13580 non-null  object \n",
      " 10  Regionname    13580 non-null  object \n",
      "dtypes: float64(7), int64(1), object(3)\n",
      "memory usage: 1.1+ MB\n"
     ]
    }
   ],
   "source": [
    "melb_data.info()"
   ]
  },
  {
   "cell_type": "markdown",
   "id": "fa2bb731",
   "metadata": {},
   "source": [
    "LabelEncoder를 사용하여 인코딩을 합니다."
   ]
  },
  {
   "cell_type": "code",
   "execution_count": 4,
   "id": "5d666e58",
   "metadata": {
    "ExecuteTime": {
     "end_time": "2023-08-28T12:56:55.965418Z",
     "start_time": "2023-08-28T12:56:55.949671Z"
    }
   },
   "outputs": [],
   "source": [
    "#(문제 아님)\n",
    "categorical_features = [ 'Type', 'CouncilArea','Regionname']\n",
    "for col in categorical_features:\n",
    "    le = LabelEncoder()\n",
    "    melb_data[col] = le.fit_transform(melb_data[col])"
   ]
  },
  {
   "cell_type": "markdown",
   "id": "65bfd5d7",
   "metadata": {},
   "source": [
    "### 1-1 (5점) - 전처리\n",
    "label 데이터(target)로 Price 를 사용할 것입니다.   \n",
    "그러나 양적 자료인 Price를 결정트리에 알맞게 범주형 자료로 변형하기 위해서 사분위수(quartile)와 2차세션 복습과제 때 학습했던 Tukey Fences 개념을 활용할 것입니다.   \n",
    "아래 규칙과 같이 Price값을 바꾸세요.\n",
    "   \n",
    "   <span style='color:blue'>[ 규칙 ]</span>\n",
    "* 0 이상, Q1 미만 : '0' \n",
    "* Q1 이상, Q2 미만 : '1' \n",
    "* Q2 이상, Q3 미만 : '2' \n",
    "* Q3 이상 : '3' \n",
    "      \n",
    "다음은 커스텀 함수 price_to_level()입니다. 위의 규칙에 맞게 빈칸을 알맞게 채우세요."
   ]
  },
  {
   "cell_type": "code",
   "execution_count": null,
   "id": "1b3b2a86",
   "metadata": {},
   "outputs": [],
   "source": [
    "def price_to_level(prices): # prices : pd.Series객체로 전달해주세요\n",
    "    # 사분위수(Q1,Q2,Q3) 구하기\n",
    "    \n",
    "    # 문제) 위의 규칙에 맞게 Price값에 따라 레벨로 변환하도록 코드를 작성하세요\n",
    "    p_levels = []\n",
    "    \n",
    "    # Price_Level 데이터를 반환하세요.\n",
    "    return p_levels    \n",
    "\n",
    "# price_to_level() 커스텀 함수를 사용하여 Price컬럼값을 변경합니다.\n",
    "melb_data['Price'] = price_to_level(melb_data['Price'])\n",
    "# 문제) Price 컬럼명을 PriceLevel로 변경하세요. (힌트: pandas의 rename() 사용)\n"
   ]
  },
  {
   "cell_type": "code",
   "execution_count": null,
   "id": "f387ca15",
   "metadata": {
    "ExecuteTime": {
     "end_time": "2023-08-28T12:56:55.996828Z",
     "start_time": "2023-08-28T12:56:55.966505Z"
    }
   },
   "outputs": [],
   "source": [
    "# 답)\n",
    "'''\n",
    "def price_to_level(prices): # prices : pd.Series객체로 전달해주세요\n",
    "    # 사분위수와 LF, UF\n",
    "    Q1,Q2,Q3 = np.percentile(prices,[25,50,75])\n",
    "    # 문제) 위의 규칙에 맞게 Price값에 따라 레벨로 변환하도록 코드를 작성하세요\n",
    "    intervals = [(0,Q1),(Q1,Q2),(Q2,Q3),(Q3,prices.max()+1)]\n",
    "    p_levels = []\n",
    "    for p in prices:\n",
    "        for i,interval in enumerate(intervals):\n",
    "            if interval[0] <= p < interval[1]:\n",
    "                p_levels.append(f'{i}')\n",
    "    # Price_Level 데이터를 반환하세요.\n",
    "    return p_levels    \n",
    "\n",
    "# price_to_level() 커스텀 함수를 사용하여 Price컬럼값을 변경합니다.\n",
    "melb_data['Price'] = price_to_level(melb_data['Price'])\n",
    "# 문제) Price 컬럼명을 PriceLevel로 변경하세요. (힌트: pandas의 rename() 사용)\n",
    "melb_data = melb_data.rename(columns={'Price':'PriceLevel'})\n",
    "'''"
   ]
  },
  {
   "cell_type": "markdown",
   "id": "54ae6f10",
   "metadata": {},
   "source": [
    "아래 코드를 실행하여 데이터 변환이 제대로 이루어졌는지 확인하세요."
   ]
  },
  {
   "cell_type": "code",
   "execution_count": 6,
   "id": "0893c146",
   "metadata": {
    "ExecuteTime": {
     "end_time": "2023-08-28T12:56:56.012665Z",
     "start_time": "2023-08-28T12:56:55.998246Z"
    }
   },
   "outputs": [
    {
     "name": "stdout",
     "output_type": "stream",
     "text": [
      "0 1 2 3\n"
     ]
    }
   ],
   "source": [
    "#(문제아님)\n",
    "### 간단하게 price_to_level() 커스텀 함수를 확인하세요 ###\n",
    "print(melb_data.loc[8,'PriceLevel'],melb_data.loc[3,'PriceLevel'],\n",
    "      melb_data.loc[1,'PriceLevel'],melb_data.loc[0,'PriceLevel'])\n",
    "### 출력 결과가 0 1 2 3 이면, 커스텀 함수를 올바르게 작성한 것입니다. ###"
   ]
  },
  {
   "cell_type": "markdown",
   "id": "6702b89f",
   "metadata": {},
   "source": [
    "### 1-2 (5점) - 정확도\n",
    "melb_data 를 train_test_split() 함수로 학습/테스트용 데이터로 분리하고, 간단하게 DecisionTreeClassifier 를 사용하여 모델을 학습하고 PriceLevel을 예측해보세요. 그리고 예측 결과의 정확도(accuracy)를 평가해서 소수점 5번째 자리에서 반올림하여 출력해보세요.   \n",
    "<span style='color:green'>(DecisionTreeClassfier 생성자 함수와 train_test_split의 random_state 파라미터값은 모두 10을 전달해주세요, test_size는 0.25로 설정해주세요.)</span>\n",
    "* feature 데이터 : PriceLevel을 제외한 나머지 컬럼   \n",
    "* label 데이터 : PriceLevel"
   ]
  },
  {
   "cell_type": "code",
   "execution_count": null,
   "id": "43bf9b08",
   "metadata": {},
   "outputs": [],
   "source": [
    "# train_test_split()으로 데이터를 분리하세요.\n",
    "\n",
    "\n",
    "# 결정트리 객체를 생성하고 학습, 예측을 수행하세요. (예측값은 'pred' 변수명으로 저장하세요.)\n",
    "\n",
    "\n",
    "# 예측 결과를 평가하고 평가 결과를 위의 조건대로 반올림하여 출력하세요\n"
   ]
  },
  {
   "cell_type": "code",
   "execution_count": 7,
   "id": "d709e070",
   "metadata": {
    "ExecuteTime": {
     "end_time": "2023-08-28T12:56:56.079468Z",
     "start_time": "2023-08-28T12:56:56.014168Z"
    }
   },
   "outputs": [
    {
     "data": {
      "text/plain": [
       "0.6236"
      ]
     },
     "execution_count": 7,
     "metadata": {},
     "output_type": "execute_result"
    }
   ],
   "source": [
    "# 답)\n",
    "'''\n",
    "# train_test_split()으로 데이터를 분리하세요.\n",
    "features = melb_data.drop('PriceLevel',axis=1)\n",
    "label = melb_data['PriceLevel']\n",
    "X_train,X_test,y_train,y_test = train_test_split(features,label,test_size=0.25,random_state=10)\n",
    "\n",
    "# 결정트리 객체를 생성하고 학습, 예측을 수행하세요. (예측값은 'pred' 변수명으로 저장하세요.)\n",
    "dt_clf = DecisionTreeClassifier(random_state=10)\n",
    "dt_clf.fit(X_train,y_train)\n",
    "pred = dt_clf.predict(X_test)\n",
    "\n",
    "# 예측 결과를 평가하고 평가 결과를 위의 조건대로 반올림하여 출력하세요\n",
    "np.round(accuracy_score(y_test,pred),4)\n",
    "'''"
   ]
  },
  {
   "cell_type": "markdown",
   "id": "72cf9fad",
   "metadata": {},
   "source": [
    "### 1-3 (30점) - 정밀도와 재현율\n",
    "위의 예측값(pred)과 실제값(y_test)을 토대로 confusion matrix를 구현해보세요.   (다중 분류일 때의 confusion matrix를 학습해봅시다)   \n",
    "다음과 같은 모양으로 DataFrame객체를 생성해서 출력해보세요.   \n",
    "   (개수는 해당 경우의 수를 의미)\n",
    "|          | 0 | 1 | 2 | 3 |\n",
    "|----------|----------|----------|----------|----------|\n",
    "| 0 | 개수 | 개수 |개수  |개수  |\n",
    "| 1 | 개수 | 개수 | 개수 | 개수 |\n",
    "| 2 | 개수 | 개수 | 개수 | 개수 |\n",
    "| 3 | 개수 | 개수 | 개수 | 개수 |"
   ]
  },
  {
   "cell_type": "markdown",
   "id": "e81eb3a0",
   "metadata": {},
   "source": [
    "**a)**\n",
    "sklearn.metrics의 confusion_matrix() 함수로 생성한 오차행렬을 cm 변수에 저장하고,\n",
    "이를 DataFrame객체로 변환해 위의 예시처럼 예쁘게 출력하세요.   \n",
    "**(3점)**"
   ]
  },
  {
   "cell_type": "code",
   "execution_count": null,
   "id": "9b3032d2",
   "metadata": {},
   "outputs": [],
   "source": [
    "classes = ['0', '1', '2', '3'] # 레이블 클래스\n",
    "# 변수 cm에 confusion_matrix를 저장하세요\n",
    "\n",
    "# pandas DataFrame으로 변환하여 예쁘게 출력하세요\n"
   ]
  },
  {
   "cell_type": "code",
   "execution_count": 8,
   "id": "280e174b",
   "metadata": {
    "ExecuteTime": {
     "end_time": "2023-08-28T12:56:56.115260Z",
     "start_time": "2023-08-28T12:56:56.082156Z"
    },
    "scrolled": true
   },
   "outputs": [
    {
     "data": {
      "text/html": [
       "<div>\n",
       "<style scoped>\n",
       "    .dataframe tbody tr th:only-of-type {\n",
       "        vertical-align: middle;\n",
       "    }\n",
       "\n",
       "    .dataframe tbody tr th {\n",
       "        vertical-align: top;\n",
       "    }\n",
       "\n",
       "    .dataframe thead th {\n",
       "        text-align: right;\n",
       "    }\n",
       "</style>\n",
       "<table border=\"1\" class=\"dataframe\">\n",
       "  <thead>\n",
       "    <tr style=\"text-align: right;\">\n",
       "      <th></th>\n",
       "      <th>0</th>\n",
       "      <th>1</th>\n",
       "      <th>2</th>\n",
       "      <th>3</th>\n",
       "    </tr>\n",
       "  </thead>\n",
       "  <tbody>\n",
       "    <tr>\n",
       "      <th>0</th>\n",
       "      <td>649</td>\n",
       "      <td>183</td>\n",
       "      <td>22</td>\n",
       "      <td>4</td>\n",
       "    </tr>\n",
       "    <tr>\n",
       "      <th>1</th>\n",
       "      <td>175</td>\n",
       "      <td>434</td>\n",
       "      <td>186</td>\n",
       "      <td>45</td>\n",
       "    </tr>\n",
       "    <tr>\n",
       "      <th>2</th>\n",
       "      <td>32</td>\n",
       "      <td>186</td>\n",
       "      <td>450</td>\n",
       "      <td>196</td>\n",
       "    </tr>\n",
       "    <tr>\n",
       "      <th>3</th>\n",
       "      <td>8</td>\n",
       "      <td>31</td>\n",
       "      <td>210</td>\n",
       "      <td>584</td>\n",
       "    </tr>\n",
       "  </tbody>\n",
       "</table>\n",
       "</div>"
      ],
      "text/plain": [
       "     0    1    2    3\n",
       "0  649  183   22    4\n",
       "1  175  434  186   45\n",
       "2   32  186  450  196\n",
       "3    8   31  210  584"
      ]
     },
     "execution_count": 8,
     "metadata": {},
     "output_type": "execute_result"
    }
   ],
   "source": [
    "# 답)\n",
    "'''\n",
    "classes = ['0', '1', '2', '3'] # 레이블 클래스\n",
    "# 변수 cm에 confusion_matrix를 저장하세요\n",
    "cm = (confusion_matrix(y_test,pred))\n",
    "# pandas DataFrame으로 변환하여 예쁘게 출력하세요\n",
    "pd.DataFrame(cm,index=classes,columns=classes)\n",
    "'''"
   ]
  },
  {
   "cell_type": "markdown",
   "id": "2db9cc5e",
   "metadata": {},
   "source": [
    "####  직접 재현율(recall)과 정밀도(precision)를 구해서 확인해보세요\n",
    "힌트: 다중분류의 confusion matrix를 학습하고 macro-averaging과 micro-averaging을 학습하세요."
   ]
  },
  {
   "cell_type": "markdown",
   "id": "1a3f935f",
   "metadata": {},
   "source": [
    "**b)** macro-averaging(macro-mean) 방식을 사용하여 macro_precision과 macro_recall 값을 구하고 출력하세요.   \n",
    "(반복문을 사용하여 해결하세요, 변수명도 각각 macro_precision과 macro_recall을 사용하세요.)      \n",
    "**(10점)**"
   ]
  },
  {
   "cell_type": "code",
   "execution_count": 9,
   "id": "26301a36",
   "metadata": {
    "ExecuteTime": {
     "end_time": "2023-08-28T12:56:56.132887Z",
     "start_time": "2023-08-28T12:56:56.116965Z"
    }
   },
   "outputs": [
    {
     "name": "stdout",
     "output_type": "stream",
     "text": [
      "macro_precision: 0.623609372215409\n",
      "macro_recall: 0.6237476721457814\n"
     ]
    }
   ],
   "source": [
    "# 답)\n",
    "macro_precisions = []\n",
    "TPS = []\n",
    "FPS = []\n",
    "for c in range(cm.shape[0]):\n",
    "    TP = cm[c][c]\n",
    "    FP = 0\n",
    "    for r in range(cm.shape[0]):\n",
    "        if c == r :\n",
    "            continue\n",
    "        FP += cm[r][c]\n",
    "    macro_precisions.append(TP/(TP+FP))\n",
    "    TPS.append(TP)\n",
    "    FPS.append(FP)\n",
    "macro_precision = np.mean(macro_precisions)\n",
    "print('macro_precision:',macro_precision)\n",
    "macro_recalls = []\n",
    "FNS = []\n",
    "for idx, row in enumerate(cm):\n",
    "    TP = row[idx]\n",
    "    rlist = list(row)\n",
    "    rlist.pop(idx)\n",
    "    FN = sum(rlist)\n",
    "    macro_recalls.append(TP/(TP+FN))\n",
    "    FNS.append(FN)\n",
    "macro_recall = np.mean(macro_recalls)\n",
    "print('macro_recall:',macro_recall) "
   ]
  },
  {
   "cell_type": "markdown",
   "id": "0db9fe16",
   "metadata": {},
   "source": [
    "**c)** micro-averaging 방식을 사용하여 micro_precision과 micro_recall 값을 구하고 출력하세요.   \n",
    "(변수명도 각각 micro_precision과 micro_recall을 사용하세요.)   \n",
    "(힌트: 위의 반복문에서 미리 TP,FP,FN들을 저장하여 여기선 계산만 하세요.)   \n",
    "**(10점)**"
   ]
  },
  {
   "cell_type": "code",
   "execution_count": 10,
   "id": "0d297cfc",
   "metadata": {
    "ExecuteTime": {
     "end_time": "2023-08-28T12:56:56.148560Z",
     "start_time": "2023-08-28T12:56:56.133932Z"
    }
   },
   "outputs": [
    {
     "name": "stdout",
     "output_type": "stream",
     "text": [
      "micro_precision: 0.6235640648011782\n",
      "micro_recall: 0.6235640648011782\n"
     ]
    }
   ],
   "source": [
    "# 답)\n",
    "micro_precision = sum(TPS)/(sum(TPS)+sum(FPS))\n",
    "micro_recall = sum(TPS)/(sum(TPS)+sum(FNS))\n",
    "print('micro_precision:',micro_precision)\n",
    "print('micro_recall:',micro_recall)"
   ]
  },
  {
   "cell_type": "markdown",
   "id": "4da61b78",
   "metadata": {},
   "source": [
    "**d)** sklearn.metrics의 classification_report() 함수를 사용하여 구한 평가지표 결과를 clf_report 변수에 저장하세요.(힌트: output_dict 파라미터를 True로 설정)   \n",
    "그리고 해당 변수를 DataFrame 객체로 변환하여 출력하세요.   \n",
    "그리고 위에서 직접 구한 macro_precision, macro_recall, micro_precision, micro_recall값이 clf_report의 내용과 같은지 소수점 4번째 자리까지 비교하여 출력하세요.\n",
    "* 출력용 코드 예시   \n",
    "<code>print('[Macro_P] my_score:{:.4f}, report_score:{:.4f}'.format(macro_precision,report_mac_precision))</code>   \n",
    "<code>print('[Macro_R] my_score:{:.4f}, report_score:{:.4f}'.format(macro_recall,report_mac_recall))</code>   \n",
    "<code>print('[Micro_P] my_score:{:.4f}, report_score:{:.4f}'.format(micro_precision,report_mic_precision))</code>   \n",
    "<code>print('[Micro_R] my_score:{:.4f}, report_score:{:.4f}'.format(micro_recall,report_mic_recall))</code>\n",
    "      \n",
    "(힌트: classification_report를 출력해보면 micro avg 데이터가 없다! 그러나 micro avg의 수식을 잘 살펴보면 어떤 평가지표와 수식의 의미가 똑같다는 사실을 알 수 있다.)   \n",
    "**(7점)**"
   ]
  },
  {
   "cell_type": "code",
   "execution_count": null,
   "id": "cf8acfc1",
   "metadata": {},
   "outputs": [],
   "source": [
    "# classification_report를 변수에 저장하고 DataFrame으로 변환하여 출력하세요.\n"
   ]
  },
  {
   "cell_type": "code",
   "execution_count": 11,
   "id": "14860c4d",
   "metadata": {
    "ExecuteTime": {
     "end_time": "2023-08-28T12:56:56.215502Z",
     "start_time": "2023-08-28T12:56:56.150483Z"
    }
   },
   "outputs": [
    {
     "data": {
      "text/html": [
       "<div>\n",
       "<style scoped>\n",
       "    .dataframe tbody tr th:only-of-type {\n",
       "        vertical-align: middle;\n",
       "    }\n",
       "\n",
       "    .dataframe tbody tr th {\n",
       "        vertical-align: top;\n",
       "    }\n",
       "\n",
       "    .dataframe thead th {\n",
       "        text-align: right;\n",
       "    }\n",
       "</style>\n",
       "<table border=\"1\" class=\"dataframe\">\n",
       "  <thead>\n",
       "    <tr style=\"text-align: right;\">\n",
       "      <th></th>\n",
       "      <th>0</th>\n",
       "      <th>1</th>\n",
       "      <th>2</th>\n",
       "      <th>3</th>\n",
       "      <th>accuracy</th>\n",
       "      <th>macro avg</th>\n",
       "      <th>weighted avg</th>\n",
       "    </tr>\n",
       "  </thead>\n",
       "  <tbody>\n",
       "    <tr>\n",
       "      <th>precision</th>\n",
       "      <td>0.751157</td>\n",
       "      <td>0.520384</td>\n",
       "      <td>0.518433</td>\n",
       "      <td>0.704463</td>\n",
       "      <td>0.623564</td>\n",
       "      <td>0.623609</td>\n",
       "      <td>0.623375</td>\n",
       "    </tr>\n",
       "    <tr>\n",
       "      <th>recall</th>\n",
       "      <td>0.756410</td>\n",
       "      <td>0.516667</td>\n",
       "      <td>0.520833</td>\n",
       "      <td>0.701080</td>\n",
       "      <td>0.623564</td>\n",
       "      <td>0.623748</td>\n",
       "      <td>0.623564</td>\n",
       "    </tr>\n",
       "    <tr>\n",
       "      <th>f1-score</th>\n",
       "      <td>0.753775</td>\n",
       "      <td>0.518519</td>\n",
       "      <td>0.519630</td>\n",
       "      <td>0.702768</td>\n",
       "      <td>0.623564</td>\n",
       "      <td>0.623673</td>\n",
       "      <td>0.623464</td>\n",
       "    </tr>\n",
       "    <tr>\n",
       "      <th>support</th>\n",
       "      <td>858.000000</td>\n",
       "      <td>840.000000</td>\n",
       "      <td>864.000000</td>\n",
       "      <td>833.000000</td>\n",
       "      <td>0.623564</td>\n",
       "      <td>3395.000000</td>\n",
       "      <td>3395.000000</td>\n",
       "    </tr>\n",
       "  </tbody>\n",
       "</table>\n",
       "</div>"
      ],
      "text/plain": [
       "                    0           1           2           3  accuracy  \\\n",
       "precision    0.751157    0.520384    0.518433    0.704463  0.623564   \n",
       "recall       0.756410    0.516667    0.520833    0.701080  0.623564   \n",
       "f1-score     0.753775    0.518519    0.519630    0.702768  0.623564   \n",
       "support    858.000000  840.000000  864.000000  833.000000  0.623564   \n",
       "\n",
       "             macro avg  weighted avg  \n",
       "precision     0.623609      0.623375  \n",
       "recall        0.623748      0.623564  \n",
       "f1-score      0.623673      0.623464  \n",
       "support    3395.000000   3395.000000  "
      ]
     },
     "execution_count": 11,
     "metadata": {},
     "output_type": "execute_result"
    }
   ],
   "source": [
    "# 답)\n",
    "clf_report = classification_report(y_test,pred,labels=classes,target_names=classes,output_dict=True)\n",
    "clf_report_df = pd.DataFrame(clf_report)\n",
    "clf_report_df"
   ]
  },
  {
   "cell_type": "code",
   "execution_count": null,
   "id": "b1492831",
   "metadata": {},
   "outputs": [],
   "source": [
    "# 위의 출력 코드 예시를 활용해서 각 평가 결과값들을 비교하여 출력하세요\n"
   ]
  },
  {
   "cell_type": "code",
   "execution_count": 12,
   "id": "9e1cd0e9",
   "metadata": {
    "ExecuteTime": {
     "end_time": "2023-08-28T12:56:56.230789Z",
     "start_time": "2023-08-28T12:56:56.216536Z"
    }
   },
   "outputs": [
    {
     "name": "stdout",
     "output_type": "stream",
     "text": [
      "[Macro_P] my_score:0.6236, report_score:0.6236\n",
      "[Macro_R] my_score:0.6237, report_score:0.6237\n",
      "[Micro_P] my_score:0.6236, report_score:0.6236\n",
      "[Micro_R] my_score:0.6236, report_score:0.6236\n"
     ]
    }
   ],
   "source": [
    "# 답)\n",
    "report_mac_precision,report_mac_recall = clf_report_df['macro avg'][[0,1]]\n",
    "report_mic_precision,report_mic_recall = clf_report_df['accuracy'][[0,1]]\n",
    "print('[Macro_P] my_score:{:.4f}, report_score:{:.4f}'.format(macro_precision,report_mac_precision))\n",
    "print('[Macro_R] my_score:{:.4f}, report_score:{:.4f}'.format(macro_recall,report_mac_recall))\n",
    "print('[Micro_P] my_score:{:.4f}, report_score:{:.4f}'.format(micro_precision,report_mic_precision))\n",
    "print('[Micro_R] my_score:{:.4f}, report_score:{:.4f}'.format(micro_recall,report_mic_recall))"
   ]
  }
 ],
 "metadata": {
  "kernelspec": {
   "display_name": "Python 3 (ipykernel)",
   "language": "python",
   "name": "python3"
  },
  "language_info": {
   "codemirror_mode": {
    "name": "ipython",
    "version": 3
   },
   "file_extension": ".py",
   "mimetype": "text/x-python",
   "name": "python",
   "nbconvert_exporter": "python",
   "pygments_lexer": "ipython3",
   "version": "3.7.16"
  }
 },
 "nbformat": 4,
 "nbformat_minor": 5
}
