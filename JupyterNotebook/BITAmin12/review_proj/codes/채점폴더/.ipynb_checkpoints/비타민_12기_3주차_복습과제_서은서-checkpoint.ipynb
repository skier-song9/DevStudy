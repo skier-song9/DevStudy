{
 "cells": [
  {
   "cell_type": "code",
   "execution_count": 1,
   "id": "83184f71",
   "metadata": {
    "ExecuteTime": {
     "end_time": "2023-09-10T07:34:18.974897Z",
     "start_time": "2023-09-10T07:34:17.775711Z"
    }
   },
   "outputs": [],
   "source": [
    "import pandas as pd\n",
    "import numpy as np\n",
    "from sklearn.model_selection import train_test_split\n",
    "from sklearn.tree import DecisionTreeClassifier\n",
    "from sklearn.preprocessing import LabelEncoder\n",
    "from sklearn.metrics import accuracy_score,confusion_matrix,classification_report"
   ]
  },
  {
   "cell_type": "markdown",
   "id": "fcb1b157",
   "metadata": {},
   "source": [
    "### 문제 1\n",
    "호주 멜버른의 주택 가격 데이터셋 melb_data.csv으로 주택 가격을 예측하고,   \n",
    "각종 평가지표를 사용하여 결정트리 모델을 평가하세요."
   ]
  },
  {
   "cell_type": "markdown",
   "id": "4430a667",
   "metadata": {},
   "source": [
    "#### Data Description \n",
    "\n",
    "* `Rooms`: 방 개수\n",
    "\n",
    "* `Price`: 가격(단위: $ 달러)\n",
    "\n",
    "* `Type`: 주택 유형   \n",
    "br - bedroom(s); h - house,cottage,villa, semi,terrace; u - unit, duplex; t - townhouse; dev site - development site; o res - other residential.\n",
    "\n",
    "* `Distance`: Distance from CBD(Central Business District : 도심 지역)\n",
    "\n",
    "* `Bedroom2` : Scraped # of Bedrooms (from different source) (주요 침실 개수)\n",
    "\n",
    "* `Bathroom`: Number of Bathrooms\n",
    "\n",
    "* `Car`: Number of carspots\n",
    "\n",
    "* `Landsize`: Land Size\n",
    "\n",
    "* `BuildingArea`: Building Size\n",
    "\n",
    "* `CouncilArea`: Governing council for the area\n"
   ]
  },
  {
   "cell_type": "markdown",
   "id": "f6f28d3b",
   "metadata": {},
   "source": [
    "우선 다음 코드들을 실행하여 melb_data변수명으로 데이터를 로드하고   \n",
    "결정트리 분석에 필요한 컬럼만 남기고 결손값을 처리합니다.      \n",
    "<span style='color:green'>(로컬 환경에 알맞게 file_path를 변경하세요)</span>\n",
    "      \n",
    "* feature 데이터 = [Rooms, Type, Distance, Bedroom2, Bathroom, Car, Landsize, BuildingArea, CouncilArea]   \n",
    "* label 데이터 = Price      \n",
    "   \n",
    "(Price 값이 양적 자료이기 때문에 분류보단 회귀방식의 모델이 더 적합하지만, 결정트리를 사용하기 위해 편의상 Price값을 사분위수에 따라 범주형 자료로 변환하여 사용합니다.)"
   ]
  },
  {
   "cell_type": "code",
   "execution_count": 2,
   "id": "7243bf4a",
   "metadata": {
    "ExecuteTime": {
     "end_time": "2023-09-10T07:34:19.026511Z",
     "start_time": "2023-09-10T07:34:18.976156Z"
    }
   },
   "outputs": [],
   "source": [
    "#(문제 아님)\n",
    "file_path = '../../data/melb_data.csv'\n",
    "drop_columns=['Date','YearBuilt','Suburb','SellerG','Postcode','Address','Method','Lattitude','Longtitude','Propertycount']\n",
    "melb_data = pd.read_csv(file_path).drop(columns=drop_columns,axis=1)\n",
    "melb_data['CouncilArea'] = melb_data['CouncilArea'].fillna('Moreland')\n",
    "melb_data['BuildingArea'] = melb_data['BuildingArea'].fillna(melb_data['BuildingArea'].mean())\n",
    "melb_data['Car'] = melb_data['Car'].fillna(melb_data['Car'].median())"
   ]
  },
  {
   "cell_type": "code",
   "execution_count": 3,
   "id": "a2d93a04",
   "metadata": {
    "ExecuteTime": {
     "end_time": "2023-09-10T07:34:19.044402Z",
     "start_time": "2023-09-10T07:34:19.028471Z"
    }
   },
   "outputs": [
    {
     "name": "stdout",
     "output_type": "stream",
     "text": [
      "<class 'pandas.core.frame.DataFrame'>\n",
      "RangeIndex: 13580 entries, 0 to 13579\n",
      "Data columns (total 11 columns):\n",
      " #   Column        Non-Null Count  Dtype  \n",
      "---  ------        --------------  -----  \n",
      " 0   Rooms         13580 non-null  int64  \n",
      " 1   Type          13580 non-null  object \n",
      " 2   Price         13580 non-null  float64\n",
      " 3   Distance      13580 non-null  float64\n",
      " 4   Bedroom2      13580 non-null  float64\n",
      " 5   Bathroom      13580 non-null  float64\n",
      " 6   Car           13580 non-null  float64\n",
      " 7   Landsize      13580 non-null  float64\n",
      " 8   BuildingArea  13580 non-null  float64\n",
      " 9   CouncilArea   13580 non-null  object \n",
      " 10  Regionname    13580 non-null  object \n",
      "dtypes: float64(7), int64(1), object(3)\n",
      "memory usage: 1.1+ MB\n"
     ]
    }
   ],
   "source": [
    "melb_data.info()"
   ]
  },
  {
   "cell_type": "markdown",
   "id": "d4334a1f",
   "metadata": {},
   "source": [
    "LabelEncoder를 사용하여 인코딩을 합니다."
   ]
  },
  {
   "cell_type": "code",
   "execution_count": 4,
   "id": "938fd676",
   "metadata": {
    "ExecuteTime": {
     "end_time": "2023-09-10T07:34:19.063198Z",
     "start_time": "2023-09-10T07:34:19.046586Z"
    }
   },
   "outputs": [],
   "source": [
    "#(문제 아님)\n",
    "categorical_features = [ 'Type', 'CouncilArea','Regionname']\n",
    "for col in categorical_features:\n",
    "    le = LabelEncoder()\n",
    "    melb_data[col] = le.fit_transform(melb_data[col])"
   ]
  },
  {
   "cell_type": "code",
   "execution_count": 5,
   "id": "de0ad1cd",
   "metadata": {
    "ExecuteTime": {
     "end_time": "2023-09-10T07:34:19.080029Z",
     "start_time": "2023-09-10T07:34:19.063198Z"
    }
   },
   "outputs": [
    {
     "data": {
      "text/html": [
       "<div>\n",
       "<style scoped>\n",
       "    .dataframe tbody tr th:only-of-type {\n",
       "        vertical-align: middle;\n",
       "    }\n",
       "\n",
       "    .dataframe tbody tr th {\n",
       "        vertical-align: top;\n",
       "    }\n",
       "\n",
       "    .dataframe thead th {\n",
       "        text-align: right;\n",
       "    }\n",
       "</style>\n",
       "<table border=\"1\" class=\"dataframe\">\n",
       "  <thead>\n",
       "    <tr style=\"text-align: right;\">\n",
       "      <th></th>\n",
       "      <th>Rooms</th>\n",
       "      <th>Type</th>\n",
       "      <th>Price</th>\n",
       "      <th>Distance</th>\n",
       "      <th>Bedroom2</th>\n",
       "      <th>Bathroom</th>\n",
       "      <th>Car</th>\n",
       "      <th>Landsize</th>\n",
       "      <th>BuildingArea</th>\n",
       "      <th>CouncilArea</th>\n",
       "      <th>Regionname</th>\n",
       "    </tr>\n",
       "  </thead>\n",
       "  <tbody>\n",
       "    <tr>\n",
       "      <th>0</th>\n",
       "      <td>2</td>\n",
       "      <td>0</td>\n",
       "      <td>1480000.0</td>\n",
       "      <td>2.5</td>\n",
       "      <td>2.0</td>\n",
       "      <td>1.0</td>\n",
       "      <td>1.0</td>\n",
       "      <td>202.0</td>\n",
       "      <td>151.96765</td>\n",
       "      <td>31</td>\n",
       "      <td>2</td>\n",
       "    </tr>\n",
       "    <tr>\n",
       "      <th>1</th>\n",
       "      <td>2</td>\n",
       "      <td>0</td>\n",
       "      <td>1035000.0</td>\n",
       "      <td>2.5</td>\n",
       "      <td>2.0</td>\n",
       "      <td>1.0</td>\n",
       "      <td>0.0</td>\n",
       "      <td>156.0</td>\n",
       "      <td>79.00000</td>\n",
       "      <td>31</td>\n",
       "      <td>2</td>\n",
       "    </tr>\n",
       "    <tr>\n",
       "      <th>2</th>\n",
       "      <td>3</td>\n",
       "      <td>0</td>\n",
       "      <td>1465000.0</td>\n",
       "      <td>2.5</td>\n",
       "      <td>3.0</td>\n",
       "      <td>2.0</td>\n",
       "      <td>0.0</td>\n",
       "      <td>134.0</td>\n",
       "      <td>150.00000</td>\n",
       "      <td>31</td>\n",
       "      <td>2</td>\n",
       "    </tr>\n",
       "    <tr>\n",
       "      <th>3</th>\n",
       "      <td>3</td>\n",
       "      <td>0</td>\n",
       "      <td>850000.0</td>\n",
       "      <td>2.5</td>\n",
       "      <td>3.0</td>\n",
       "      <td>2.0</td>\n",
       "      <td>1.0</td>\n",
       "      <td>94.0</td>\n",
       "      <td>151.96765</td>\n",
       "      <td>31</td>\n",
       "      <td>2</td>\n",
       "    </tr>\n",
       "    <tr>\n",
       "      <th>4</th>\n",
       "      <td>4</td>\n",
       "      <td>0</td>\n",
       "      <td>1600000.0</td>\n",
       "      <td>2.5</td>\n",
       "      <td>3.0</td>\n",
       "      <td>1.0</td>\n",
       "      <td>2.0</td>\n",
       "      <td>120.0</td>\n",
       "      <td>142.00000</td>\n",
       "      <td>31</td>\n",
       "      <td>2</td>\n",
       "    </tr>\n",
       "  </tbody>\n",
       "</table>\n",
       "</div>"
      ],
      "text/plain": [
       "   Rooms  Type      Price  Distance  Bedroom2  Bathroom  Car  Landsize  \\\n",
       "0      2     0  1480000.0       2.5       2.0       1.0  1.0     202.0   \n",
       "1      2     0  1035000.0       2.5       2.0       1.0  0.0     156.0   \n",
       "2      3     0  1465000.0       2.5       3.0       2.0  0.0     134.0   \n",
       "3      3     0   850000.0       2.5       3.0       2.0  1.0      94.0   \n",
       "4      4     0  1600000.0       2.5       3.0       1.0  2.0     120.0   \n",
       "\n",
       "   BuildingArea  CouncilArea  Regionname  \n",
       "0     151.96765           31           2  \n",
       "1      79.00000           31           2  \n",
       "2     150.00000           31           2  \n",
       "3     151.96765           31           2  \n",
       "4     142.00000           31           2  "
      ]
     },
     "execution_count": 5,
     "metadata": {},
     "output_type": "execute_result"
    }
   ],
   "source": [
    "melb_data.head()"
   ]
  },
  {
   "cell_type": "markdown",
   "id": "9e2d4f00",
   "metadata": {},
   "source": [
    "### 1-1 (5점) - 전처리\n",
    "label 데이터(target)로 Price 를 사용할 것입니다.   \n",
    "그러나 양적 자료인 Price를 결정트리에 알맞게 범주형 자료로 변형하기 위해서 사분위수(quartile)와 2차세션 복습과제 때 학습했던 Tukey Fences 개념을 활용할 것입니다.   \n",
    "아래 규칙과 같이 Price값을 바꾸세요.\n",
    "   \n",
    "   <span style='color:red'>[ 규칙 ]</span>\n",
    "* 0 이상, Q1 미만 : '0' \n",
    "* Q1 이상, Q2 미만 : '1' \n",
    "* Q2 이상, Q3 미만 : '2' \n",
    "* Q3 이상 : '3' \n",
    "      \n",
    "다음은 커스텀 함수 price_to_level()입니다. 위의 규칙에 맞게 빈칸을 알맞게 채우세요.   \n",
    "   (문제에 적힌 대로 함수를 작성하지 않아도 됩니다. 아래 함수 출력 결과(0 1 2 3)가 일치하기만 하면 됩니다.)"
   ]
  },
  {
   "cell_type": "code",
   "execution_count": 6,
   "id": "dead4de8",
   "metadata": {
    "ExecuteTime": {
     "end_time": "2023-09-10T07:34:19.095539Z",
     "start_time": "2023-09-10T07:34:19.080029Z"
    }
   },
   "outputs": [
    {
     "data": {
      "text/plain": [
       "pandas.core.series.Series"
      ]
     },
     "execution_count": 6,
     "metadata": {},
     "output_type": "execute_result"
    }
   ],
   "source": [
    "type(melb_data['Price'])"
   ]
  },
  {
   "cell_type": "code",
   "execution_count": 7,
   "id": "84ba7b08",
   "metadata": {
    "ExecuteTime": {
     "end_time": "2023-09-10T07:34:19.103532Z",
     "start_time": "2023-09-10T07:34:19.097771Z"
    }
   },
   "outputs": [
    {
     "data": {
      "text/plain": [
       "1480000.0"
      ]
     },
     "execution_count": 7,
     "metadata": {},
     "output_type": "execute_result"
    }
   ],
   "source": [
    "melb_data['Price'][0]"
   ]
  },
  {
   "cell_type": "code",
   "execution_count": 8,
   "id": "f28aaf8a",
   "metadata": {
    "ExecuteTime": {
     "end_time": "2023-09-10T07:34:19.159513Z",
     "start_time": "2023-09-10T07:34:19.103532Z"
    }
   },
   "outputs": [],
   "source": [
    "def price_to_level(prices): # prices : pd.Series객체로 전달해주세요\n",
    "    # 문제) 사분위수(Q1,Q2,Q3) 구하기\n",
    "    q1,q2,q3 = np.percentile(prices,[25,50,75])\n",
    "\n",
    "    # 문제) 위의 규칙에 맞게 Price값에 따라 레벨로 변환하도록 코드를 작성하세요\n",
    "    p_levels = []\n",
    "    for i in range(len(prices)):\n",
    "        if prices[i] < q1:\n",
    "            p_levels.append('0')\n",
    "        elif prices[i] <q2:\n",
    "            p_levels.append('1')\n",
    "        elif prices[i] <q3:\n",
    "            p_levels.append('2')\n",
    "        else:\n",
    "            p_levels.append('3')\n",
    "    \n",
    "    # Price_Level 데이터를 반환하세요.\n",
    "    return p_levels    \n",
    "\n",
    "# price_to_level() 커스텀 함수를 사용하여 Price컬럼값을 변경합니다.\n",
    "melb_data['Price'] = price_to_level(melb_data['Price'])"
   ]
  },
  {
   "cell_type": "code",
   "execution_count": 9,
   "id": "fb96e97e",
   "metadata": {
    "ExecuteTime": {
     "end_time": "2023-09-10T07:34:19.174666Z",
     "start_time": "2023-09-10T07:34:19.160259Z"
    },
    "scrolled": true
   },
   "outputs": [
    {
     "data": {
      "text/plain": [
       "Price\n",
       "1    3419\n",
       "3    3406\n",
       "2    3386\n",
       "0    3369\n",
       "Name: count, dtype: int64"
      ]
     },
     "execution_count": 9,
     "metadata": {},
     "output_type": "execute_result"
    }
   ],
   "source": [
    "melb_data['Price'].value_counts()"
   ]
  },
  {
   "cell_type": "code",
   "execution_count": 10,
   "id": "d5a331fa",
   "metadata": {
    "ExecuteTime": {
     "end_time": "2023-09-10T07:34:19.187285Z",
     "start_time": "2023-09-10T07:34:19.177735Z"
    }
   },
   "outputs": [],
   "source": [
    "# 문제) Price 컬럼명을 PriceLevel로 변경하세요. (힌트: pandas의 rename() 사용)\n",
    "melb_data.rename(columns={'Price':'PriceLevel'},inplace=True)"
   ]
  },
  {
   "cell_type": "code",
   "execution_count": 11,
   "id": "9cba3df5",
   "metadata": {
    "ExecuteTime": {
     "end_time": "2023-09-10T07:34:19.200873Z",
     "start_time": "2023-09-10T07:34:19.189337Z"
    }
   },
   "outputs": [
    {
     "data": {
      "text/html": [
       "<div>\n",
       "<style scoped>\n",
       "    .dataframe tbody tr th:only-of-type {\n",
       "        vertical-align: middle;\n",
       "    }\n",
       "\n",
       "    .dataframe tbody tr th {\n",
       "        vertical-align: top;\n",
       "    }\n",
       "\n",
       "    .dataframe thead th {\n",
       "        text-align: right;\n",
       "    }\n",
       "</style>\n",
       "<table border=\"1\" class=\"dataframe\">\n",
       "  <thead>\n",
       "    <tr style=\"text-align: right;\">\n",
       "      <th></th>\n",
       "      <th>Rooms</th>\n",
       "      <th>Type</th>\n",
       "      <th>PriceLevel</th>\n",
       "      <th>Distance</th>\n",
       "      <th>Bedroom2</th>\n",
       "      <th>Bathroom</th>\n",
       "      <th>Car</th>\n",
       "      <th>Landsize</th>\n",
       "      <th>BuildingArea</th>\n",
       "      <th>CouncilArea</th>\n",
       "      <th>Regionname</th>\n",
       "    </tr>\n",
       "  </thead>\n",
       "  <tbody>\n",
       "    <tr>\n",
       "      <th>0</th>\n",
       "      <td>2</td>\n",
       "      <td>0</td>\n",
       "      <td>3</td>\n",
       "      <td>2.5</td>\n",
       "      <td>2.0</td>\n",
       "      <td>1.0</td>\n",
       "      <td>1.0</td>\n",
       "      <td>202.0</td>\n",
       "      <td>151.96765</td>\n",
       "      <td>31</td>\n",
       "      <td>2</td>\n",
       "    </tr>\n",
       "    <tr>\n",
       "      <th>1</th>\n",
       "      <td>2</td>\n",
       "      <td>0</td>\n",
       "      <td>2</td>\n",
       "      <td>2.5</td>\n",
       "      <td>2.0</td>\n",
       "      <td>1.0</td>\n",
       "      <td>0.0</td>\n",
       "      <td>156.0</td>\n",
       "      <td>79.00000</td>\n",
       "      <td>31</td>\n",
       "      <td>2</td>\n",
       "    </tr>\n",
       "    <tr>\n",
       "      <th>2</th>\n",
       "      <td>3</td>\n",
       "      <td>0</td>\n",
       "      <td>3</td>\n",
       "      <td>2.5</td>\n",
       "      <td>3.0</td>\n",
       "      <td>2.0</td>\n",
       "      <td>0.0</td>\n",
       "      <td>134.0</td>\n",
       "      <td>150.00000</td>\n",
       "      <td>31</td>\n",
       "      <td>2</td>\n",
       "    </tr>\n",
       "    <tr>\n",
       "      <th>3</th>\n",
       "      <td>3</td>\n",
       "      <td>0</td>\n",
       "      <td>1</td>\n",
       "      <td>2.5</td>\n",
       "      <td>3.0</td>\n",
       "      <td>2.0</td>\n",
       "      <td>1.0</td>\n",
       "      <td>94.0</td>\n",
       "      <td>151.96765</td>\n",
       "      <td>31</td>\n",
       "      <td>2</td>\n",
       "    </tr>\n",
       "    <tr>\n",
       "      <th>4</th>\n",
       "      <td>4</td>\n",
       "      <td>0</td>\n",
       "      <td>3</td>\n",
       "      <td>2.5</td>\n",
       "      <td>3.0</td>\n",
       "      <td>1.0</td>\n",
       "      <td>2.0</td>\n",
       "      <td>120.0</td>\n",
       "      <td>142.00000</td>\n",
       "      <td>31</td>\n",
       "      <td>2</td>\n",
       "    </tr>\n",
       "  </tbody>\n",
       "</table>\n",
       "</div>"
      ],
      "text/plain": [
       "   Rooms  Type PriceLevel  Distance  Bedroom2  Bathroom  Car  Landsize  \\\n",
       "0      2     0          3       2.5       2.0       1.0  1.0     202.0   \n",
       "1      2     0          2       2.5       2.0       1.0  0.0     156.0   \n",
       "2      3     0          3       2.5       3.0       2.0  0.0     134.0   \n",
       "3      3     0          1       2.5       3.0       2.0  1.0      94.0   \n",
       "4      4     0          3       2.5       3.0       1.0  2.0     120.0   \n",
       "\n",
       "   BuildingArea  CouncilArea  Regionname  \n",
       "0     151.96765           31           2  \n",
       "1      79.00000           31           2  \n",
       "2     150.00000           31           2  \n",
       "3     151.96765           31           2  \n",
       "4     142.00000           31           2  "
      ]
     },
     "execution_count": 11,
     "metadata": {},
     "output_type": "execute_result"
    }
   ],
   "source": [
    "melb_data.head()"
   ]
  },
  {
   "cell_type": "markdown",
   "id": "a47e79c3",
   "metadata": {},
   "source": [
    "아래 코드를 실행하여 데이터 변환이 제대로 이루어졌는지 확인하세요."
   ]
  },
  {
   "cell_type": "code",
   "execution_count": 12,
   "id": "dc3be5ea",
   "metadata": {
    "ExecuteTime": {
     "end_time": "2023-09-10T07:34:19.216304Z",
     "start_time": "2023-09-10T07:34:19.202882Z"
    }
   },
   "outputs": [
    {
     "name": "stdout",
     "output_type": "stream",
     "text": [
      "0 1 2 3\n"
     ]
    }
   ],
   "source": [
    "#(문제아님)\n",
    "### 간단하게 price_to_level() 커스텀 함수를 확인하세요 ###\n",
    "print(melb_data.loc[8,'PriceLevel'],melb_data.loc[3,'PriceLevel'],\n",
    "      melb_data.loc[1,'PriceLevel'],melb_data.loc[0,'PriceLevel'])\n",
    "### 출력 결과가 0 1 2 3 이면, 커스텀 함수를 올바르게 작성한 것입니다. ###"
   ]
  },
  {
   "cell_type": "markdown",
   "id": "9f1ef9ac",
   "metadata": {},
   "source": [
    "### 1-2 (5점) - 정확도\n",
    "melb_data 를 train_test_split() 함수로 학습/테스트용 데이터로 분리하고, 간단하게 DecisionTreeClassifier 를 사용하여 모델을 학습하고 PriceLevel을 예측해보세요. 그리고 예측 결과의 정확도(accuracy)를 평가해서 소수점 5번째 자리에서 반올림하여 출력해보세요.   \n",
    "<span style='color:green'>(DecisionTreeClassfier 생성자 함수와 train_test_split의 random_state 파라미터값은 모두 10을 전달해주세요, test_size는 0.25로 설정해주세요.)</span>\n",
    "* features 데이터 : PriceLevel을 제외한 나머지 컬럼   \n",
    "* label 데이터 : PriceLevel 컬럼"
   ]
  },
  {
   "cell_type": "code",
   "execution_count": 13,
   "id": "e3b83d72",
   "metadata": {
    "ExecuteTime": {
     "end_time": "2023-09-10T07:34:19.292921Z",
     "start_time": "2023-09-10T07:34:19.218305Z"
    }
   },
   "outputs": [
    {
     "name": "stdout",
     "output_type": "stream",
     "text": [
      "정확도 : 0.62356\n"
     ]
    }
   ],
   "source": [
    "# features 변수명에 해당 데이터를, label 변수명에 해당 데이터를 저장하고,\n",
    "# train_test_split()으로 데이터를 분리하세요.\n",
    "label = melb_data['PriceLevel']\n",
    "features = melb_data.drop(['PriceLevel'],axis=1)\n",
    "\n",
    "X_train,X_test,y_train,y_test = train_test_split(features,label,test_size=0.25,random_state=10)\n",
    "\n",
    "# 결정트리 객체를 생성하고 학습, 예측을 수행하세요. (예측값은 'pred' 변수명으로 저장하세요.)\n",
    "dt_clf = DecisionTreeClassifier(random_state=10)\n",
    "dt_clf.fit(X_train,y_train)\n",
    "pred=dt_clf.predict(X_test)\n",
    "\n",
    "# 예측 결과를 정확도로 평가하고 평가 결과를 위의 조건대로 반올림하여 출력하세요\n",
    "print('정확도 : {0:.5f}'.format(accuracy_score(y_test,pred)))"
   ]
  },
  {
   "cell_type": "markdown",
   "id": "3d60a76e",
   "metadata": {},
   "source": [
    "### 1-3 (40점) - 정밀도와 재현율\n",
    "위의 예측값(pred)과 실제값(y_test)을 토대로 confusion matrix를 구현해보세요.   (다중 분류일 때의 confusion matrix를 학습해봅시다)   \n",
    "다음과 같은 모양으로 DataFrame객체를 생성해서 출력해보세요.   \n",
    "   (개수는 해당 경우의 수를 의미)\n",
    "|          | 0 | 1 | 2 | 3 |\n",
    "|----------|----------|----------|----------|----------|\n",
    "| 0 | 개수 | 개수 |개수  |개수  |\n",
    "| 1 | 개수 | 개수 | 개수 | 개수 |\n",
    "| 2 | 개수 | 개수 | 개수 | 개수 |\n",
    "| 3 | 개수 | 개수 | 개수 | 개수 |"
   ]
  },
  {
   "cell_type": "markdown",
   "id": "51a3af1f",
   "metadata": {},
   "source": [
    "**a)**\n",
    "sklearn.metrics의 confusion_matrix() 함수로 생성한 오차행렬을 cm 변수에 저장하고,\n",
    "이를 DataFrame객체로 변환해 위의 예시처럼 예쁘게 출력하세요.   \n",
    "**(5점)**"
   ]
  },
  {
   "cell_type": "code",
   "execution_count": 14,
   "id": "e94d9eee",
   "metadata": {
    "ExecuteTime": {
     "end_time": "2023-09-10T07:34:19.313379Z",
     "start_time": "2023-09-10T07:34:19.294834Z"
    }
   },
   "outputs": [
    {
     "data": {
      "text/html": [
       "<div>\n",
       "<style scoped>\n",
       "    .dataframe tbody tr th:only-of-type {\n",
       "        vertical-align: middle;\n",
       "    }\n",
       "\n",
       "    .dataframe tbody tr th {\n",
       "        vertical-align: top;\n",
       "    }\n",
       "\n",
       "    .dataframe thead th {\n",
       "        text-align: right;\n",
       "    }\n",
       "</style>\n",
       "<table border=\"1\" class=\"dataframe\">\n",
       "  <thead>\n",
       "    <tr style=\"text-align: right;\">\n",
       "      <th></th>\n",
       "      <th>0</th>\n",
       "      <th>1</th>\n",
       "      <th>2</th>\n",
       "      <th>3</th>\n",
       "    </tr>\n",
       "  </thead>\n",
       "  <tbody>\n",
       "    <tr>\n",
       "      <th>0</th>\n",
       "      <td>649</td>\n",
       "      <td>183</td>\n",
       "      <td>22</td>\n",
       "      <td>4</td>\n",
       "    </tr>\n",
       "    <tr>\n",
       "      <th>1</th>\n",
       "      <td>175</td>\n",
       "      <td>434</td>\n",
       "      <td>186</td>\n",
       "      <td>45</td>\n",
       "    </tr>\n",
       "    <tr>\n",
       "      <th>2</th>\n",
       "      <td>32</td>\n",
       "      <td>186</td>\n",
       "      <td>450</td>\n",
       "      <td>196</td>\n",
       "    </tr>\n",
       "    <tr>\n",
       "      <th>3</th>\n",
       "      <td>8</td>\n",
       "      <td>31</td>\n",
       "      <td>210</td>\n",
       "      <td>584</td>\n",
       "    </tr>\n",
       "  </tbody>\n",
       "</table>\n",
       "</div>"
      ],
      "text/plain": [
       "     0    1    2    3\n",
       "0  649  183   22    4\n",
       "1  175  434  186   45\n",
       "2   32  186  450  196\n",
       "3    8   31  210  584"
      ]
     },
     "execution_count": 14,
     "metadata": {},
     "output_type": "execute_result"
    }
   ],
   "source": [
    "classes = ['0', '1', '2', '3'] # 레이블 클래스\n",
    "# 변수 cm에 confusion_matrix를 저장하세요\n",
    "cm = confusion_matrix(y_test,pred)\n",
    "\n",
    "# pandas DataFrame으로 변환하여 예쁘게 출력하세요\n",
    "pd.DataFrame(cm,index=classes,columns=classes)"
   ]
  },
  {
   "cell_type": "markdown",
   "id": "0cdbe7ee",
   "metadata": {},
   "source": [
    "####  직접 재현율(recall)과 정밀도(precision)를 구해서 확인해보세요\n",
    "힌트: 다중분류의 confusion matrix를 학습하고 macro-averaging과 micro-averaging을 학습하세요."
   ]
  },
  {
   "cell_type": "markdown",
   "id": "7a66f53a",
   "metadata": {},
   "source": [
    "**b)** macro-averaging(macro-mean) 방식을 사용하여 macro_precision과 macro_recall 값을 구하고 출력하세요.   \n",
    "(반복문을 사용하여 해결하세요, 변수명도 각각 macro_precision과 macro_recall을 사용하세요.)      \n",
    "**(13점)**"
   ]
  },
  {
   "cell_type": "code",
   "execution_count": 15,
   "id": "fef4ab54",
   "metadata": {
    "ExecuteTime": {
     "end_time": "2023-09-10T07:34:19.328432Z",
     "start_time": "2023-09-10T07:34:19.314428Z"
    }
   },
   "outputs": [],
   "source": [
    "from sklearn.metrics import recall_score,precision_score"
   ]
  },
  {
   "cell_type": "code",
   "execution_count": 16,
   "id": "34089251",
   "metadata": {
    "ExecuteTime": {
     "end_time": "2023-09-10T07:34:19.338401Z",
     "start_time": "2023-09-10T07:34:19.330431Z"
    }
   },
   "outputs": [
    {
     "data": {
      "text/plain": [
       "183"
      ]
     },
     "execution_count": 16,
     "metadata": {},
     "output_type": "execute_result"
    }
   ],
   "source": [
    "cm[0][1]"
   ]
  },
  {
   "cell_type": "code",
   "execution_count": 17,
   "id": "3c104fc0",
   "metadata": {
    "ExecuteTime": {
     "end_time": "2023-09-10T07:34:19.353331Z",
     "start_time": "2023-09-10T07:34:19.339871Z"
    }
   },
   "outputs": [
    {
     "data": {
      "text/plain": [
       "434"
      ]
     },
     "execution_count": 17,
     "metadata": {},
     "output_type": "execute_result"
    }
   ],
   "source": [
    "cm[1][1]"
   ]
  },
  {
   "cell_type": "code",
   "execution_count": 18,
   "id": "bf4cf803",
   "metadata": {
    "ExecuteTime": {
     "end_time": "2023-09-10T07:34:19.368741Z",
     "start_time": "2023-09-10T07:34:19.354057Z"
    }
   },
   "outputs": [],
   "source": [
    "num_classes = len(cm)\n",
    "precisions = []\n",
    "recalls = []\n",
    "\n",
    "# 클래스별로 Precision과 Recall 계산\n",
    "for class_index in range(num_classes):\n",
    "    true_positives = cm[class_index, class_index]\n",
    "    false_positives = np.sum(cm[:, class_index]) - true_positives\n",
    "    false_negatives = np.sum(cm[class_index, :]) - true_positives\n",
    "    \n",
    "    precision = true_positives / (true_positives + false_positives)\n",
    "    recall = true_positives / (true_positives + false_negatives)\n",
    "    \n",
    "    precisions.append(precision)\n",
    "    recalls.append(recall)\n",
    "\n",
    "# Macro-Precision과 Macro-Recall 계산\n",
    "macro_precision = np.mean(precisions)\n",
    "macro_recall = np.mean(recalls)"
   ]
  },
  {
   "cell_type": "code",
   "execution_count": 19,
   "id": "9414685d",
   "metadata": {
    "ExecuteTime": {
     "end_time": "2023-09-10T07:34:19.381055Z",
     "start_time": "2023-09-10T07:34:19.371073Z"
    }
   },
   "outputs": [
    {
     "name": "stdout",
     "output_type": "stream",
     "text": [
      "macro_precision : 0.6236  macro_recall : 0.6237\n"
     ]
    }
   ],
   "source": [
    "print('macro_precision : {0:.4f}  macro_recall : {1:.4f}'.format(macro_precision,macro_recall))"
   ]
  },
  {
   "cell_type": "code",
   "execution_count": 20,
   "id": "6e3778f1",
   "metadata": {
    "ExecuteTime": {
     "end_time": "2023-09-10T07:34:19.410886Z",
     "start_time": "2023-09-10T07:34:19.382132Z"
    }
   },
   "outputs": [
    {
     "name": "stdout",
     "output_type": "stream",
     "text": [
      "macro_precision : 0.6236  macro_recall : 0.6237\n"
     ]
    }
   ],
   "source": [
    "# (+)\n",
    "macro_precision = precision_score(y_test,pred,average='macro')\n",
    "macro_recall = recall_score(y_test,pred,average='macro')\n",
    "print('macro_precision : {0:.4f}  macro_recall : {1:.4f}'.format(macro_precision,macro_recall))"
   ]
  },
  {
   "cell_type": "markdown",
   "id": "6a764bec",
   "metadata": {},
   "source": [
    "**c)** micro-averaging 방식을 사용하여 micro_precision과 micro_recall 값을 구하고 출력하세요.   \n",
    "(변수명도 각각 micro_precision과 micro_recall을 사용하세요.)   \n",
    "(힌트: 위의 반복문에서 미리 TP,FP,FN들을 저장하면 여기선 계산만 하면 됩니다.)   \n",
    "**(13점)**"
   ]
  },
  {
   "cell_type": "code",
   "execution_count": 21,
   "id": "eba37624",
   "metadata": {
    "ExecuteTime": {
     "end_time": "2023-09-10T07:34:19.426772Z",
     "start_time": "2023-09-10T07:34:19.412575Z"
    }
   },
   "outputs": [
    {
     "name": "stdout",
     "output_type": "stream",
     "text": [
      "micro_precision : 0.6236  micro_recall : 0.6236\n"
     ]
    }
   ],
   "source": [
    "num_classes = len(cm)\n",
    "\n",
    "total_true_positives = np.sum(np.diag(cm)) # 대각원소 합\n",
    "total_false_positives = np.sum(cm) - total_true_positives\n",
    "total_false_negatives = np.sum(cm, axis=0) - np.diag(cm)\n",
    "\n",
    "\n",
    "micro_precision = total_true_positives / (total_true_positives + total_false_positives)\n",
    "micro_recall = total_true_positives / (total_true_positives + np.sum(total_false_negatives))\n",
    "\n",
    "print('micro_precision : {0:.4f}  micro_recall : {1:.4f}'.format(micro_precision,micro_recall))"
   ]
  },
  {
   "cell_type": "code",
   "execution_count": 22,
   "id": "877cc8cb",
   "metadata": {
    "ExecuteTime": {
     "end_time": "2023-09-10T07:34:19.461534Z",
     "start_time": "2023-09-10T07:34:19.428994Z"
    }
   },
   "outputs": [
    {
     "name": "stdout",
     "output_type": "stream",
     "text": [
      "micro_precision : 0.6236  micro_recall : 0.6236\n"
     ]
    }
   ],
   "source": [
    "#(+)\n",
    "micro_precision = precision_score(y_test,pred,average='micro')\n",
    "micro_recall = recall_score(y_test,pred,average='micro')\n",
    "print('micro_precision : {0:.4f}  micro_recall : {1:.4f}'.format(micro_precision,micro_recall))"
   ]
  },
  {
   "cell_type": "markdown",
   "id": "d1a80ddb",
   "metadata": {},
   "source": [
    "**d)** sklearn.metrics의 classification_report() 함수를 사용하여 구한 평가지표 결과를 clf_report 변수에 저장하세요  \n",
    "그리고 해당 변수를 DataFrame 객체로 변환하여 출력하세요.   \n",
    "(힌트 : classification_report()함수의 파라미터들을 학습하고 데이터프레임 객체로 쉽게 변환하는 방법을 찾아보세요)   \n",
    "**(4점)**"
   ]
  },
  {
   "cell_type": "code",
   "execution_count": 23,
   "id": "da0dc993",
   "metadata": {
    "ExecuteTime": {
     "end_time": "2023-09-10T07:34:19.524476Z",
     "start_time": "2023-09-10T07:34:19.463535Z"
    }
   },
   "outputs": [
    {
     "data": {
      "text/html": [
       "<div>\n",
       "<style scoped>\n",
       "    .dataframe tbody tr th:only-of-type {\n",
       "        vertical-align: middle;\n",
       "    }\n",
       "\n",
       "    .dataframe tbody tr th {\n",
       "        vertical-align: top;\n",
       "    }\n",
       "\n",
       "    .dataframe thead th {\n",
       "        text-align: right;\n",
       "    }\n",
       "</style>\n",
       "<table border=\"1\" class=\"dataframe\">\n",
       "  <thead>\n",
       "    <tr style=\"text-align: right;\">\n",
       "      <th></th>\n",
       "      <th>precision</th>\n",
       "      <th>recall</th>\n",
       "      <th>f1-score</th>\n",
       "      <th>support</th>\n",
       "    </tr>\n",
       "  </thead>\n",
       "  <tbody>\n",
       "    <tr>\n",
       "      <th>0</th>\n",
       "      <td>0.751157</td>\n",
       "      <td>0.756410</td>\n",
       "      <td>0.753775</td>\n",
       "      <td>858.000000</td>\n",
       "    </tr>\n",
       "    <tr>\n",
       "      <th>1</th>\n",
       "      <td>0.520384</td>\n",
       "      <td>0.516667</td>\n",
       "      <td>0.518519</td>\n",
       "      <td>840.000000</td>\n",
       "    </tr>\n",
       "    <tr>\n",
       "      <th>2</th>\n",
       "      <td>0.518433</td>\n",
       "      <td>0.520833</td>\n",
       "      <td>0.519630</td>\n",
       "      <td>864.000000</td>\n",
       "    </tr>\n",
       "    <tr>\n",
       "      <th>3</th>\n",
       "      <td>0.704463</td>\n",
       "      <td>0.701080</td>\n",
       "      <td>0.702768</td>\n",
       "      <td>833.000000</td>\n",
       "    </tr>\n",
       "    <tr>\n",
       "      <th>accuracy</th>\n",
       "      <td>0.623564</td>\n",
       "      <td>0.623564</td>\n",
       "      <td>0.623564</td>\n",
       "      <td>0.623564</td>\n",
       "    </tr>\n",
       "    <tr>\n",
       "      <th>macro avg</th>\n",
       "      <td>0.623609</td>\n",
       "      <td>0.623748</td>\n",
       "      <td>0.623673</td>\n",
       "      <td>3395.000000</td>\n",
       "    </tr>\n",
       "    <tr>\n",
       "      <th>weighted avg</th>\n",
       "      <td>0.623375</td>\n",
       "      <td>0.623564</td>\n",
       "      <td>0.623464</td>\n",
       "      <td>3395.000000</td>\n",
       "    </tr>\n",
       "  </tbody>\n",
       "</table>\n",
       "</div>"
      ],
      "text/plain": [
       "              precision    recall  f1-score      support\n",
       "0              0.751157  0.756410  0.753775   858.000000\n",
       "1              0.520384  0.516667  0.518519   840.000000\n",
       "2              0.518433  0.520833  0.519630   864.000000\n",
       "3              0.704463  0.701080  0.702768   833.000000\n",
       "accuracy       0.623564  0.623564  0.623564     0.623564\n",
       "macro avg      0.623609  0.623748  0.623673  3395.000000\n",
       "weighted avg   0.623375  0.623564  0.623464  3395.000000"
      ]
     },
     "execution_count": 23,
     "metadata": {},
     "output_type": "execute_result"
    }
   ],
   "source": [
    "# classification_report를 변수에 저장하고 DataFrame으로 변환하여 출력하세요.\n",
    "clf_report = classification_report(y_test,pred,output_dict=True)\n",
    "pd.DataFrame(clf_report).T"
   ]
  },
  {
   "cell_type": "markdown",
   "id": "7ea60c15",
   "metadata": {},
   "source": [
    "**e)** 위에서 직접 구한 macro_precision, macro_recall, micro_precision, micro_recall값이 clf_report의 내용과 같은지 소수점 4번째 자리까지 비교하여 출력하세요.\n",
    "* 출력용 코드 예시   \n",
    "<code>print('[Macro_P] my_score:{:.4f}, report_score:{:.4f}'.format(macro_precision,report_mac_precision))</code>   \n",
    "<code>print('[Macro_R] my_score:{:.4f}, report_score:{:.4f}'.format(macro_recall,report_mac_recall))</code>   \n",
    "<code>print('[Micro_P] my_score:{:.4f}, report_score:{:.4f}'.format(micro_precision,report_mic_precision))</code>   \n",
    "<code>print('[Micro_R] my_score:{:.4f}, report_score:{:.4f}'.format(micro_recall,report_mic_recall))</code>\n",
    "      \n",
    "(힌트: classification_report를 출력해보면 micro averaging한 데이터가 없다! 그러나 micro averaging의 수식을 잘 살펴보면 어떤 평가지표와 의미가 같다는 사실을 알 수 있다.)   \n",
    "**(5점)**"
   ]
  },
  {
   "cell_type": "code",
   "execution_count": 24,
   "id": "446a840c",
   "metadata": {
    "ExecuteTime": {
     "end_time": "2023-09-10T07:34:19.534470Z",
     "start_time": "2023-09-10T07:34:19.526544Z"
    }
   },
   "outputs": [
    {
     "name": "stdout",
     "output_type": "stream",
     "text": [
      "[Macro_P] my_score:0.6236, report_score:0.6236\n",
      "[Macro_R] my_score:0.6237, report_score:0.6237\n",
      "[Micro_P] my_score:0.6236, report_score:0.6236\n",
      "[Micro_R] my_score:0.6236, report_score:0.6236\n"
     ]
    }
   ],
   "source": [
    "# 위의 출력 코드 예시를 활용해서 각 평가 결과값들을 비교하여 출력하세요\n",
    "report_mac_precision = clf_report['macro avg']['precision']\n",
    "report_mac_recall = clf_report['macro avg']['recall']\n",
    "report_mic_precision = clf_report['accuracy']\n",
    "report_mic_recall = clf_report['accuracy']\n",
    "\n",
    "print('[Macro_P] my_score:{:.4f}, report_score:{:.4f}'.format(macro_precision,report_mac_precision))\n",
    "print('[Macro_R] my_score:{:.4f}, report_score:{:.4f}'.format(macro_recall,report_mac_recall))\n",
    "print('[Micro_P] my_score:{:.4f}, report_score:{:.4f}'.format(micro_precision,report_mic_precision))\n",
    "print('[Micro_R] my_score:{:.4f}, report_score:{:.4f}'.format(micro_recall,report_mic_recall))"
   ]
  },
  {
   "cell_type": "markdown",
   "id": "e3538fe9",
   "metadata": {},
   "source": [
    "### 문제2 (50점)\n",
    "위스콘신 유방암 데이터 세트는 종양의 크기, 모양 등의 다양한 속성 값을 기반으로 해당 종양이 악성인지 양성인지를 분류한 데이터 세트입니다. 종양의 양성 여부는 class 컬럼에서 확인할 수 있으며, 양성은 2, 악성은 4로 표시되어 있습니다.  "
   ]
  },
  {
   "cell_type": "markdown",
   "id": "8757f879",
   "metadata": {},
   "source": [
    "아래의 코드를 실행해주세요."
   ]
  },
  {
   "cell_type": "code",
   "execution_count": 25,
   "id": "bf61b561",
   "metadata": {
    "ExecuteTime": {
     "end_time": "2023-09-10T07:34:19.925405Z",
     "start_time": "2023-09-10T07:34:19.536723Z"
    }
   },
   "outputs": [],
   "source": [
    "import numpy as np\n",
    "import pandas as pd\n",
    "import matplotlib.pyplot as plt\n",
    "%matplotlib inline\n",
    "from sklearn import model_selection\n",
    "from sklearn.linear_model import LogisticRegression\n",
    "from sklearn.preprocessing import StandardScaler\n",
    "from sklearn import metrics\n",
    "from sklearn.model_selection import train_test_split\n",
    "from sklearn.metrics import accuracy_score, precision_score, recall_score, roc_auc_score\n",
    "from sklearn.metrics import f1_score, confusion_matrix, precision_recall_curve, roc_curve\n",
    "from sklearn.metrics import roc_auc_score"
   ]
  },
  {
   "attachments": {
    "image-2.png": {
     "image/png": "[encoded data removed]"
    }
   },
   "cell_type": "markdown",
   "id": "6c5aa844",
   "metadata": {},
   "source": [
    "2-1. *breast_cancer* 데이터셋을 데이터프레임으로 불러온 후 df 변수에 저장해주세요. 상위 5개의 행을 확인할 수 있도록 출력해주세요.  **(3점)**  \n",
    "(데이터셋의 첫 번째, 두 번째 열을 삭제한 후, 아래의 사진과 같은 결과가 나오도록 출력해주세요.)\n",
    "![image-2.png](attachment:image-2.png)"
   ]
  },
  {
   "cell_type": "code",
   "execution_count": 26,
   "id": "c8247b67",
   "metadata": {
    "ExecuteTime": {
     "end_time": "2023-09-10T07:34:19.944935Z",
     "start_time": "2023-09-10T07:34:19.927405Z"
    }
   },
   "outputs": [],
   "source": [
    "df = pd.read_csv('../../data/breast_cancer.csv')"
   ]
  },
  {
   "cell_type": "code",
   "execution_count": 27,
   "id": "0dab5f34",
   "metadata": {
    "ExecuteTime": {
     "end_time": "2023-09-10T07:34:19.960616Z",
     "start_time": "2023-09-10T07:34:19.947012Z"
    }
   },
   "outputs": [
    {
     "data": {
      "text/html": [
       "<div>\n",
       "<style scoped>\n",
       "    .dataframe tbody tr th:only-of-type {\n",
       "        vertical-align: middle;\n",
       "    }\n",
       "\n",
       "    .dataframe tbody tr th {\n",
       "        vertical-align: top;\n",
       "    }\n",
       "\n",
       "    .dataframe thead th {\n",
       "        text-align: right;\n",
       "    }\n",
       "</style>\n",
       "<table border=\"1\" class=\"dataframe\">\n",
       "  <thead>\n",
       "    <tr style=\"text-align: right;\">\n",
       "      <th></th>\n",
       "      <th>1</th>\n",
       "      <th>2</th>\n",
       "      <th>3</th>\n",
       "      <th>4</th>\n",
       "      <th>5</th>\n",
       "      <th>6</th>\n",
       "      <th>7</th>\n",
       "      <th>8</th>\n",
       "      <th>9</th>\n",
       "      <th>10</th>\n",
       "    </tr>\n",
       "  </thead>\n",
       "  <tbody>\n",
       "    <tr>\n",
       "      <th>0</th>\n",
       "      <td>5</td>\n",
       "      <td>1</td>\n",
       "      <td>1</td>\n",
       "      <td>1</td>\n",
       "      <td>2</td>\n",
       "      <td>1</td>\n",
       "      <td>3</td>\n",
       "      <td>1</td>\n",
       "      <td>1</td>\n",
       "      <td>2</td>\n",
       "    </tr>\n",
       "    <tr>\n",
       "      <th>1</th>\n",
       "      <td>5</td>\n",
       "      <td>4</td>\n",
       "      <td>4</td>\n",
       "      <td>5</td>\n",
       "      <td>7</td>\n",
       "      <td>10</td>\n",
       "      <td>3</td>\n",
       "      <td>2</td>\n",
       "      <td>1</td>\n",
       "      <td>2</td>\n",
       "    </tr>\n",
       "    <tr>\n",
       "      <th>2</th>\n",
       "      <td>3</td>\n",
       "      <td>1</td>\n",
       "      <td>1</td>\n",
       "      <td>1</td>\n",
       "      <td>2</td>\n",
       "      <td>2</td>\n",
       "      <td>3</td>\n",
       "      <td>1</td>\n",
       "      <td>1</td>\n",
       "      <td>2</td>\n",
       "    </tr>\n",
       "    <tr>\n",
       "      <th>3</th>\n",
       "      <td>6</td>\n",
       "      <td>8</td>\n",
       "      <td>8</td>\n",
       "      <td>1</td>\n",
       "      <td>3</td>\n",
       "      <td>4</td>\n",
       "      <td>3</td>\n",
       "      <td>7</td>\n",
       "      <td>1</td>\n",
       "      <td>2</td>\n",
       "    </tr>\n",
       "    <tr>\n",
       "      <th>4</th>\n",
       "      <td>4</td>\n",
       "      <td>1</td>\n",
       "      <td>1</td>\n",
       "      <td>3</td>\n",
       "      <td>2</td>\n",
       "      <td>1</td>\n",
       "      <td>3</td>\n",
       "      <td>1</td>\n",
       "      <td>1</td>\n",
       "      <td>2</td>\n",
       "    </tr>\n",
       "  </tbody>\n",
       "</table>\n",
       "</div>"
      ],
      "text/plain": [
       "   1  2  3  4  5   6  7  8  9  10\n",
       "0  5  1  1  1  2   1  3  1  1   2\n",
       "1  5  4  4  5  7  10  3  2  1   2\n",
       "2  3  1  1  1  2   2  3  1  1   2\n",
       "3  6  8  8  1  3   4  3  7  1   2\n",
       "4  4  1  1  3  2   1  3  1  1   2"
      ]
     },
     "execution_count": 27,
     "metadata": {},
     "output_type": "execute_result"
    }
   ],
   "source": [
    "# df 데이터셋의 첫 번째, 두 번째 열을 삭제해주세요.\n",
    "df = df.iloc[:,2:]\n",
    "df.head()"
   ]
  },
  {
   "attachments": {
    "image.png": {
     "image/png": "[encoded data removed]"
    }
   },
   "cell_type": "markdown",
   "id": "c26d3376",
   "metadata": {},
   "source": [
    "2-2. 아래의 colums_name 변수를 활용하여 0~10까지의 숫자로 되어 있는 컬럼명을 변경해주세요. **(3점)**  \n",
    "(각각의 컬럼과 columns_name 변수 안의 컬럼명의 순서는 동일합니다. 아래의 사진과 같은 데이터셋의 형태를 띌 수 있도록 컬럼명을 변경해주세요. 아래의 columns_name 변수를 복사해서 코드를 작성해주세요.)\n",
    "\n",
    "columns_name = ['clump', 'cell_size', 'cell_shape', 'adhesion', 'epithlial', 'bare_nuclei', \n",
    "                'chromatin', 'normal_nucleoli', 'mitoses', 'class']\n",
    "![image.png](attachment:image.png)"
   ]
  },
  {
   "cell_type": "code",
   "execution_count": 28,
   "id": "d46d9f5d",
   "metadata": {
    "ExecuteTime": {
     "end_time": "2023-09-10T07:34:19.973247Z",
     "start_time": "2023-09-10T07:34:19.965042Z"
    }
   },
   "outputs": [
    {
     "data": {
      "text/html": [
       "<div>\n",
       "<style scoped>\n",
       "    .dataframe tbody tr th:only-of-type {\n",
       "        vertical-align: middle;\n",
       "    }\n",
       "\n",
       "    .dataframe tbody tr th {\n",
       "        vertical-align: top;\n",
       "    }\n",
       "\n",
       "    .dataframe thead th {\n",
       "        text-align: right;\n",
       "    }\n",
       "</style>\n",
       "<table border=\"1\" class=\"dataframe\">\n",
       "  <thead>\n",
       "    <tr style=\"text-align: right;\">\n",
       "      <th></th>\n",
       "      <th>clump</th>\n",
       "      <th>cell_size</th>\n",
       "      <th>cell_shape</th>\n",
       "      <th>adhesion</th>\n",
       "      <th>epithlial</th>\n",
       "      <th>bare_nuclei</th>\n",
       "      <th>chromatin</th>\n",
       "      <th>normal_nucleoli</th>\n",
       "      <th>mitoses</th>\n",
       "      <th>class</th>\n",
       "    </tr>\n",
       "  </thead>\n",
       "  <tbody>\n",
       "    <tr>\n",
       "      <th>0</th>\n",
       "      <td>5</td>\n",
       "      <td>1</td>\n",
       "      <td>1</td>\n",
       "      <td>1</td>\n",
       "      <td>2</td>\n",
       "      <td>1</td>\n",
       "      <td>3</td>\n",
       "      <td>1</td>\n",
       "      <td>1</td>\n",
       "      <td>2</td>\n",
       "    </tr>\n",
       "    <tr>\n",
       "      <th>1</th>\n",
       "      <td>5</td>\n",
       "      <td>4</td>\n",
       "      <td>4</td>\n",
       "      <td>5</td>\n",
       "      <td>7</td>\n",
       "      <td>10</td>\n",
       "      <td>3</td>\n",
       "      <td>2</td>\n",
       "      <td>1</td>\n",
       "      <td>2</td>\n",
       "    </tr>\n",
       "    <tr>\n",
       "      <th>2</th>\n",
       "      <td>3</td>\n",
       "      <td>1</td>\n",
       "      <td>1</td>\n",
       "      <td>1</td>\n",
       "      <td>2</td>\n",
       "      <td>2</td>\n",
       "      <td>3</td>\n",
       "      <td>1</td>\n",
       "      <td>1</td>\n",
       "      <td>2</td>\n",
       "    </tr>\n",
       "  </tbody>\n",
       "</table>\n",
       "</div>"
      ],
      "text/plain": [
       "   clump  cell_size  cell_shape  adhesion  epithlial bare_nuclei  chromatin  \\\n",
       "0      5          1           1         1          2           1          3   \n",
       "1      5          4           4         5          7          10          3   \n",
       "2      3          1           1         1          2           2          3   \n",
       "\n",
       "   normal_nucleoli  mitoses  class  \n",
       "0                1        1      2  \n",
       "1                2        1      2  \n",
       "2                1        1      2  "
      ]
     },
     "execution_count": 28,
     "metadata": {},
     "output_type": "execute_result"
    }
   ],
   "source": [
    "columns_name = ['clump', 'cell_size', 'cell_shape', 'adhesion', 'epithlial', 'bare_nuclei', \n",
    "                'chromatin', 'normal_nucleoli', 'mitoses', 'class']\n",
    "df.columns = columns_name\n",
    "df.head(3)"
   ]
  },
  {
   "cell_type": "markdown",
   "id": "568e6250",
   "metadata": {},
   "source": [
    "2-3. 다음의 설명에 따라 전처리를 진행해주세요. **(6점)**"
   ]
  },
  {
   "cell_type": "code",
   "execution_count": 29,
   "id": "8c66f338",
   "metadata": {
    "ExecuteTime": {
     "end_time": "2023-09-10T07:34:19.988869Z",
     "start_time": "2023-09-10T07:34:19.975478Z"
    },
    "scrolled": true
   },
   "outputs": [
    {
     "name": "stdout",
     "output_type": "stream",
     "text": [
      "<class 'pandas.core.frame.DataFrame'>\n",
      "RangeIndex: 699 entries, 0 to 698\n",
      "Data columns (total 10 columns):\n",
      " #   Column           Non-Null Count  Dtype \n",
      "---  ------           --------------  ----- \n",
      " 0   clump            699 non-null    int64 \n",
      " 1   cell_size        699 non-null    int64 \n",
      " 2   cell_shape       699 non-null    int64 \n",
      " 3   adhesion         699 non-null    int64 \n",
      " 4   epithlial        699 non-null    int64 \n",
      " 5   bare_nuclei      699 non-null    object\n",
      " 6   chromatin        699 non-null    int64 \n",
      " 7   normal_nucleoli  699 non-null    int64 \n",
      " 8   mitoses          699 non-null    int64 \n",
      " 9   class            699 non-null    int64 \n",
      "dtypes: int64(9), object(1)\n",
      "memory usage: 54.7+ KB\n"
     ]
    }
   ],
   "source": [
    "# info를 활용하여 데이터타입을 확인해주세요.\n",
    "df.info()"
   ]
  },
  {
   "cell_type": "code",
   "execution_count": 30,
   "id": "8be7244c",
   "metadata": {
    "ExecuteTime": {
     "end_time": "2023-09-10T07:34:20.004923Z",
     "start_time": "2023-09-10T07:34:19.989727Z"
    }
   },
   "outputs": [
    {
     "data": {
      "text/plain": [
       "bare_nuclei\n",
       "1     402\n",
       "10    132\n",
       "2      30\n",
       "5      30\n",
       "3      28\n",
       "8      21\n",
       "4      19\n",
       "?      16\n",
       "9       9\n",
       "7       8\n",
       "6       4\n",
       "Name: count, dtype: int64"
      ]
     },
     "execution_count": 30,
     "metadata": {},
     "output_type": "execute_result"
    }
   ],
   "source": [
    "# df 데이터 중 bare_nuclei 컬럼의 값 분포를 확인해주세요. (value_counts 활용)\n",
    "df['bare_nuclei'].value_counts()"
   ]
  },
  {
   "cell_type": "code",
   "execution_count": 31,
   "id": "43d08b25",
   "metadata": {
    "ExecuteTime": {
     "end_time": "2023-09-10T07:34:20.021307Z",
     "start_time": "2023-09-10T07:34:20.007171Z"
    }
   },
   "outputs": [],
   "source": [
    "# 'bare_nuclei'컬럼에 있는 값 중'?'를 'bare_nuclei' 컬럼의 최빈값으로 바꿔주세요.\n",
    "df.loc[df['bare_nuclei'] == '?','bare_nuclei'] = '1'"
   ]
  },
  {
   "cell_type": "code",
   "execution_count": 32,
   "id": "05b4a59a",
   "metadata": {
    "ExecuteTime": {
     "end_time": "2023-09-10T07:34:20.038815Z",
     "start_time": "2023-09-10T07:34:20.023315Z"
    },
    "scrolled": true
   },
   "outputs": [
    {
     "data": {
      "text/plain": [
       "bare_nuclei\n",
       "1     418\n",
       "10    132\n",
       "2      30\n",
       "5      30\n",
       "3      28\n",
       "8      21\n",
       "4      19\n",
       "9       9\n",
       "7       8\n",
       "6       4\n",
       "Name: count, dtype: int64"
      ]
     },
     "execution_count": 32,
     "metadata": {},
     "output_type": "execute_result"
    }
   ],
   "source": [
    "df['bare_nuclei'].value_counts()"
   ]
  },
  {
   "cell_type": "code",
   "execution_count": 33,
   "id": "c4e80750",
   "metadata": {
    "ExecuteTime": {
     "end_time": "2023-09-10T07:34:20.054322Z",
     "start_time": "2023-09-10T07:34:20.041134Z"
    }
   },
   "outputs": [],
   "source": [
    "# 'bare_nuclei'컬럼의 데이터 타입을 숫자형(int)으로 바꿔주세요.\n",
    "df['bare_nuclei'] = df['bare_nuclei'].astype(int)"
   ]
  },
  {
   "cell_type": "code",
   "execution_count": 34,
   "id": "892f1c65",
   "metadata": {
    "ExecuteTime": {
     "end_time": "2023-09-10T07:34:20.063938Z",
     "start_time": "2023-09-10T07:34:20.056635Z"
    }
   },
   "outputs": [
    {
     "name": "stdout",
     "output_type": "stream",
     "text": [
      "<class 'pandas.core.frame.DataFrame'>\n",
      "RangeIndex: 699 entries, 0 to 698\n",
      "Data columns (total 10 columns):\n",
      " #   Column           Non-Null Count  Dtype\n",
      "---  ------           --------------  -----\n",
      " 0   clump            699 non-null    int64\n",
      " 1   cell_size        699 non-null    int64\n",
      " 2   cell_shape       699 non-null    int64\n",
      " 3   adhesion         699 non-null    int64\n",
      " 4   epithlial        699 non-null    int64\n",
      " 5   bare_nuclei      699 non-null    int32\n",
      " 6   chromatin        699 non-null    int64\n",
      " 7   normal_nucleoli  699 non-null    int64\n",
      " 8   mitoses          699 non-null    int64\n",
      " 9   class            699 non-null    int64\n",
      "dtypes: int32(1), int64(9)\n",
      "memory usage: 52.0 KB\n"
     ]
    }
   ],
   "source": [
    "df.info()"
   ]
  },
  {
   "cell_type": "code",
   "execution_count": 35,
   "id": "1d739a43",
   "metadata": {
    "ExecuteTime": {
     "end_time": "2023-09-10T07:34:20.087871Z",
     "start_time": "2023-09-10T07:34:20.063938Z"
    }
   },
   "outputs": [],
   "source": [
    "# 양성은 2, 악성은 4로 표시되어 있는 df['class'] 값 중 2(양성)는 숫자 0으로, 4(음성)는 숫자 1로 바꿔주세요.\n",
    "def class_(x):\n",
    "    if x == 2:\n",
    "        return 0\n",
    "    else:\n",
    "        return 1\n",
    "df['class'] = df['class'].apply(class_)"
   ]
  },
  {
   "cell_type": "markdown",
   "id": "00404afd",
   "metadata": {},
   "source": [
    "2-4. 아래의 설명에 따라 데이터를 분리해주세요. **(3점)**"
   ]
  },
  {
   "cell_type": "code",
   "execution_count": 36,
   "id": "f47e3781",
   "metadata": {
    "ExecuteTime": {
     "end_time": "2023-09-10T07:34:20.104686Z",
     "start_time": "2023-09-10T07:34:20.089368Z"
    }
   },
   "outputs": [],
   "source": [
    "# 피처 데이터 세트 x, 레이블 데이터 세트 y를 추출해주세요. (레이블 데이터는 class컬럼에 담겨있습니다.)\n",
    "x = df.iloc[:,:-1]\n",
    "y = df.iloc[:,-1]"
   ]
  },
  {
   "cell_type": "markdown",
   "id": "2a3b525d",
   "metadata": {},
   "source": [
    "2-5. StandardScaler를 활용하여 개별 피처의 평균이 0이고, 분산이 1인 값으로 변환해주세요. 또한, 변환된 데이터 세트를 DataFrame으로 변환해 data_df라는 변수에 저장해주세요. data_df 데이터프레임의 컬럼명은 아래의 columns_name2 변수를 그대로 활용하여 설정해주세요. **(8점)**  \n",
    "columns_name2 = ['clump', 'cell_size', 'cell_shape', 'adhesion', 'epithlial', 'bare_nuclei', \n",
    "                'chromatin', 'normal_nucleoli', 'mitoses']\n",
    "\n",
    "(columns_name2 변수에 담겨있는 컬럼명의 순서와 데이터프레임 각 열의 순서는 동일하기 때문에 columns_name2 변수를 수정할 필요는 없습니다.)"
   ]
  },
  {
   "cell_type": "code",
   "execution_count": 37,
   "id": "c6762f3f",
   "metadata": {
    "ExecuteTime": {
     "end_time": "2023-09-10T07:34:20.121985Z",
     "start_time": "2023-09-10T07:34:20.106487Z"
    }
   },
   "outputs": [
    {
     "data": {
      "text/plain": [
       "array([[ 0.20693572, -0.69999505, -0.74329904, ..., -0.17966213,\n",
       "        -0.61182504, -0.34391178],\n",
       "       [ 0.20693572,  0.28384518,  0.2668747 , ..., -0.17966213,\n",
       "        -0.28411186, -0.34391178],\n",
       "       [-0.50386559, -0.69999505, -0.74329904, ..., -0.17966213,\n",
       "        -0.61182504, -0.34391178],\n",
       "       ...,\n",
       "       [ 0.20693572,  2.25152563,  2.28722218, ...,  1.87236122,\n",
       "         2.33759359,  0.23956962],\n",
       "       [-0.14846494,  1.59563215,  0.94032386, ...,  2.69317056,\n",
       "         1.02674087, -0.34391178],\n",
       "       [-0.14846494,  1.59563215,  1.61377302, ...,  2.69317056,\n",
       "         0.37131451, -0.34391178]])"
      ]
     },
     "execution_count": 37,
     "metadata": {},
     "output_type": "execute_result"
    }
   ],
   "source": [
    "# StandardScaler 객체 생성\n",
    "std = StandardScaler()\n",
    "# StandardScaler로 데이터 세트 변환. fit()과 transform() 호출\n",
    "std.fit(x)\n",
    "train_std = std.transform(x)\n",
    "train_std"
   ]
  },
  {
   "cell_type": "code",
   "execution_count": 38,
   "id": "fad86cea",
   "metadata": {
    "ExecuteTime": {
     "end_time": "2023-09-10T07:34:20.137890Z",
     "start_time": "2023-09-10T07:34:20.124027Z"
    }
   },
   "outputs": [
    {
     "data": {
      "text/html": [
       "<div>\n",
       "<style scoped>\n",
       "    .dataframe tbody tr th:only-of-type {\n",
       "        vertical-align: middle;\n",
       "    }\n",
       "\n",
       "    .dataframe tbody tr th {\n",
       "        vertical-align: top;\n",
       "    }\n",
       "\n",
       "    .dataframe thead th {\n",
       "        text-align: right;\n",
       "    }\n",
       "</style>\n",
       "<table border=\"1\" class=\"dataframe\">\n",
       "  <thead>\n",
       "    <tr style=\"text-align: right;\">\n",
       "      <th></th>\n",
       "      <th>clump</th>\n",
       "      <th>cell_size</th>\n",
       "      <th>cell_shape</th>\n",
       "      <th>adhesion</th>\n",
       "      <th>epithlial</th>\n",
       "      <th>bare_nuclei</th>\n",
       "      <th>chromatin</th>\n",
       "      <th>normal_nucleoli</th>\n",
       "      <th>mitoses</th>\n",
       "    </tr>\n",
       "  </thead>\n",
       "  <tbody>\n",
       "    <tr>\n",
       "      <th>694</th>\n",
       "      <td>-0.503866</td>\n",
       "      <td>-0.699995</td>\n",
       "      <td>-0.743299</td>\n",
       "      <td>-0.633247</td>\n",
       "      <td>-0.097628</td>\n",
       "      <td>-0.410685</td>\n",
       "      <td>-1.000471</td>\n",
       "      <td>-0.611825</td>\n",
       "      <td>-0.343912</td>\n",
       "    </tr>\n",
       "    <tr>\n",
       "      <th>695</th>\n",
       "      <td>-0.859266</td>\n",
       "      <td>-0.699995</td>\n",
       "      <td>-0.743299</td>\n",
       "      <td>-0.633247</td>\n",
       "      <td>-0.549561</td>\n",
       "      <td>-0.686979</td>\n",
       "      <td>-1.000471</td>\n",
       "      <td>-0.611825</td>\n",
       "      <td>-0.343912</td>\n",
       "    </tr>\n",
       "    <tr>\n",
       "      <th>696</th>\n",
       "      <td>0.206936</td>\n",
       "      <td>2.251526</td>\n",
       "      <td>2.287222</td>\n",
       "      <td>0.067687</td>\n",
       "      <td>1.710106</td>\n",
       "      <td>-0.134392</td>\n",
       "      <td>1.872361</td>\n",
       "      <td>2.337594</td>\n",
       "      <td>0.239570</td>\n",
       "    </tr>\n",
       "    <tr>\n",
       "      <th>697</th>\n",
       "      <td>-0.148465</td>\n",
       "      <td>1.595632</td>\n",
       "      <td>0.940324</td>\n",
       "      <td>0.418154</td>\n",
       "      <td>-0.097628</td>\n",
       "      <td>0.141902</td>\n",
       "      <td>2.693171</td>\n",
       "      <td>1.026741</td>\n",
       "      <td>-0.343912</td>\n",
       "    </tr>\n",
       "    <tr>\n",
       "      <th>698</th>\n",
       "      <td>-0.148465</td>\n",
       "      <td>1.595632</td>\n",
       "      <td>1.613773</td>\n",
       "      <td>0.768621</td>\n",
       "      <td>0.354305</td>\n",
       "      <td>0.418196</td>\n",
       "      <td>2.693171</td>\n",
       "      <td>0.371315</td>\n",
       "      <td>-0.343912</td>\n",
       "    </tr>\n",
       "  </tbody>\n",
       "</table>\n",
       "</div>"
      ],
      "text/plain": [
       "        clump  cell_size  cell_shape  adhesion  epithlial  bare_nuclei  \\\n",
       "694 -0.503866  -0.699995   -0.743299 -0.633247  -0.097628    -0.410685   \n",
       "695 -0.859266  -0.699995   -0.743299 -0.633247  -0.549561    -0.686979   \n",
       "696  0.206936   2.251526    2.287222  0.067687   1.710106    -0.134392   \n",
       "697 -0.148465   1.595632    0.940324  0.418154  -0.097628     0.141902   \n",
       "698 -0.148465   1.595632    1.613773  0.768621   0.354305     0.418196   \n",
       "\n",
       "     chromatin  normal_nucleoli   mitoses  \n",
       "694  -1.000471        -0.611825 -0.343912  \n",
       "695  -1.000471        -0.611825 -0.343912  \n",
       "696   1.872361         2.337594  0.239570  \n",
       "697   2.693171         1.026741 -0.343912  \n",
       "698   2.693171         0.371315 -0.343912  "
      ]
     },
     "execution_count": 38,
     "metadata": {},
     "output_type": "execute_result"
    }
   ],
   "source": [
    "# columns_name2 변수를 생성해주세요.\n",
    "columns_name2 = ['clump', 'cell_size', 'cell_shape', 'adhesion', 'epithlial', 'bare_nuclei', 'chromatin', 'normal_nucleoli', 'mitoses']\n",
    "\n",
    "# data_df 변수에 변환된 데이터프레임을 저장해주세요.\n",
    "data_df = pd.DataFrame(train_std,columns=columns_name2)\n",
    "# data_df 데이터프레임의 하위 5개 행을 출력해주세요.\n",
    "data_df.tail(5)"
   ]
  },
  {
   "cell_type": "markdown",
   "id": "b34f8bd7",
   "metadata": {},
   "source": [
    "2-6. 아래의 설명에 따라 데이터를 분리해주세요. **(4점)**"
   ]
  },
  {
   "cell_type": "code",
   "execution_count": 39,
   "id": "9029d94b",
   "metadata": {
    "ExecuteTime": {
     "end_time": "2023-09-10T07:34:20.154626Z",
     "start_time": "2023-09-10T07:34:20.140618Z"
    }
   },
   "outputs": [],
   "source": [
    "# 학습데이터와 테스트 데이터를 나눠주세요. (random_state는 11로 설정해주세요.)\n",
    "X_train,X_test,y_train,y_test = train_test_split(data_df,y,random_state=11)"
   ]
  },
  {
   "cell_type": "code",
   "execution_count": 40,
   "id": "34ff2d2d",
   "metadata": {
    "ExecuteTime": {
     "end_time": "2023-09-10T07:34:20.171077Z",
     "start_time": "2023-09-10T07:34:20.156098Z"
    }
   },
   "outputs": [
    {
     "name": "stdout",
     "output_type": "stream",
     "text": [
      "(524, 9)\n",
      "(175, 9)\n",
      "(524,)\n",
      "(175,)\n"
     ]
    }
   ],
   "source": [
    "# 분리한 데이터의 형태를 출력해주세요. (shape 활용)\n",
    "print(X_train.shape)\n",
    "print(X_test.shape)\n",
    "print(y_train.shape)\n",
    "print(y_test.shape)"
   ]
  },
  {
   "cell_type": "markdown",
   "id": "da0c5bfe",
   "metadata": {},
   "source": [
    "2-7. 로지스틱 회귀로 학습, 예측 및 평가 수행 **(13점)**"
   ]
  },
  {
   "cell_type": "code",
   "execution_count": 41,
   "id": "ec6844dc",
   "metadata": {
    "ExecuteTime": {
     "end_time": "2023-09-10T07:34:20.187587Z",
     "start_time": "2023-09-10T07:34:20.172708Z"
    }
   },
   "outputs": [],
   "source": [
    "# LogisticRegression 객체를 생성해주세요. 해당 객체의 파라미터 중 solver는 'liblinear'로 설정하고 random_state는 11로 설정해주세요.\n",
    "lr_clf = LogisticRegression(solver='liblinear',random_state=11)\n",
    "# LogisticRegression 객체를 활용한 학습\n",
    "lr_clf.fit(X_train,y_train)\n",
    "# LogisticRegression 객체를 활용한 예측 (LogisticRegression 객체의 predict 메서드 활용)\n",
    "pred = lr_clf.predict(X_test)"
   ]
  },
  {
   "cell_type": "code",
   "execution_count": 42,
   "id": "07738357",
   "metadata": {
    "ExecuteTime": {
     "end_time": "2023-09-10T07:34:20.206148Z",
     "start_time": "2023-09-10T07:34:20.190257Z"
    }
   },
   "outputs": [],
   "source": [
    "# pred_proba 변수를 생성하고 이 변수에 클래스별 확률값을 저장하세요. (LogisticRegression 객체의 predict_proba() 메서드를 활용)\n",
    "pred_proba = lr_clf.predict_proba(X_test)\n",
    "# pred_proba_class1 변수를 만들고 이 변수에 레이블 값이 1일때의 예측 확률을 저장해주세요.(LogisticRegression 객체의 predict_proba() 메서드를 활용)\n",
    "pred_proba_class1 = pred_proba[:,1]"
   ]
  },
  {
   "cell_type": "code",
   "execution_count": 43,
   "id": "e49ca706",
   "metadata": {
    "ExecuteTime": {
     "end_time": "2023-09-10T07:34:20.221324Z",
     "start_time": "2023-09-10T07:34:20.208319Z"
    }
   },
   "outputs": [
    {
     "name": "stdout",
     "output_type": "stream",
     "text": [
      "샘플 추출을 위한 임곗값 배열의 index:  [ 1  5  9 13 17 21 25 29 33]\n",
      "샘플 index로 추출한 임곗값:  [1.     0.9406 0.3544 0.0137 0.0099 0.0047 0.004  0.0029 0.0018]\n",
      "샘플 임곗값별 FPR:  [0.     0.019  0.0381 0.2952 0.4    0.6571 0.819  0.9143 1.    ]\n",
      "샘플 임곗값별 TPR:  [0.0143 0.7857 0.9429 1.     1.     1.     1.     1.     1.    ]\n"
     ]
    }
   ],
   "source": [
    "#roc_curve API를 이용해 예측 모델의 FPR, TPR, 임계값을 구해주세요.\n",
    "fprs,tprs,thresholds = roc_curve(y_test,pred_proba_class1)\n",
    "\n",
    "# 반환된 임곗값 배열에서 샘플로 데이터를 추출하되, 임곗값을 4 Step으로 추출해주세요. np.arange는 1부터 시작할 수 있도록 설정해주세요.\n",
    "thr_index = np.arange(1,thresholds.shape[0],4)\n",
    "\n",
    "# '샘플 추출을 위한 임곗값 배열의 index'과 '샘플 index로 추출한 임곗값'을 출력해주세요. 각각의 값은 소수점 넷째 자리에서 반올림하여 출력해주세요.\n",
    "print('샘플 추출을 위한 임곗값 배열의 index: ',thr_index)\n",
    "print('샘플 index로 추출한 임곗값: ',np.round(thresholds[thr_index],4))\n",
    "\n",
    "# 4 Step 단위로 추출된 임곗값에 따른 FPR, TPR 값을 출력해주세요. 각각의 값은 소수점 넷째 자리에서 반올림하여 출력해주세요.\n",
    "print('샘플 임곗값별 FPR: ',np.round(fprs[thr_index],4))\n",
    "print('샘플 임곗값별 TPR: ',np.round(tprs[thr_index],4))"
   ]
  },
  {
   "cell_type": "code",
   "execution_count": 44,
   "id": "317ee9e0",
   "metadata": {
    "ExecuteTime": {
     "end_time": "2023-09-10T07:34:20.237980Z",
     "start_time": "2023-09-10T07:34:20.222748Z"
    }
   },
   "outputs": [
    {
     "name": "stdout",
     "output_type": "stream",
     "text": [
      "ROC AUC 값: 0.9925\n"
     ]
    }
   ],
   "source": [
    "# roc_auc_score API를 활용하여 roc auc 값을 출력해주세요.(소수점 넷째 자리에서 반올림하여 출력)\n",
    "print('ROC AUC 값: {0:.4f}'.format(roc_auc_score(y_test,pred_proba_class1)))"
   ]
  },
  {
   "attachments": {
    "image.png": {
     "image/png": "[encoded data removed]"
    }
   },
   "cell_type": "markdown",
   "id": "684f38fa",
   "metadata": {},
   "source": [
    "2-8. 이전 문제에서 LogisticRegression 객체의 solver 파라미터를 'lbfgs'로만 설정했던 것과 달리 이번에는 서로 다른 solver 값으로 LogisticRegression을 학습해보고 얻은 성능 평가를 비교해보려고 합니다. 아래의 코드를 완성해주세요.   **(10점)**  \n",
    "(아래의 사진과 같은 형태로 출력될 수 있도록 코드를 작성해주세요.)\n",
    "\n",
    "![image.png](attachment:image.png)  \n",
    "(성능 평가 결과값은 사진 속 값과 다르게 나올 수 있습니다.)"
   ]
  },
  {
   "cell_type": "code",
   "execution_count": 45,
   "id": "ad9f63dd",
   "metadata": {
    "ExecuteTime": {
     "end_time": "2023-09-10T07:34:20.288057Z",
     "start_time": "2023-09-10T07:34:20.239363Z"
    }
   },
   "outputs": [
    {
     "name": "stdout",
     "output_type": "stream",
     "text": [
      "solver:lbfgs, accuracy:0.949, roc_auc:0.993\n",
      "solver:liblinear, accuracy:0.949, roc_auc:0.993\n",
      "solver:newton-cg, accuracy:0.949, roc_auc:0.993\n",
      "solver:sag, accuracy:0.949, roc_auc:0.993\n",
      "solver:saga, accuracy:0.949, roc_auc:0.993\n"
     ]
    }
   ],
   "source": [
    "solver_list = ['lbfgs','liblinear','newton-cg', 'sag', 'saga']\n",
    "\n",
    "# solver_list에 담겨있는 각각의 solver 값을 한 번씩 적용하여 LogisticRegression을 학습하고 성능을 평가해주세요. (힌트: for 구문 활용)\n",
    "# 출력 결과에서 5가지 solver 값에 대한 성능 평과 결과를 각각 얻을 수 있도록 for 구문을 활용하여 코드를 완성해주세요.\n",
    "# LogisticRegression 객체의 파라미터는 solver, max_iter, random_state만 설정해주세요. max_iter는 300으로 설정하고 random_state는 11로 설정해주세요.\n",
    "\n",
    "#for구문 작성\n",
    "for i in solver_list:\n",
    "    # 로지스틱 회귀 객체를 생성해주세요.\n",
    "    lr_clf = LogisticRegression(solver=i,random_state=11,max_iter=300)\n",
    "    # fit을 사용하여 학습해주세요.\n",
    "    lr_clf.fit(X_train,y_train)\n",
    "    # 예측\n",
    "    pred = lr_clf.predict(X_test)\n",
    "    pred_proba = lr_clf.predict_proba(X_test)[:,1]\n",
    "    # accuracy와 roc_auc 측정\n",
    "    accuracy = accuracy_score(y_test,pred)\n",
    "    roc_auc = roc_auc_score(y_test,pred_proba)\n",
    "    print('solver:{0}, accuracy:{1:.3f}, roc_auc:{2:.3f}'.format(i,accuracy,roc_auc))\n",
    "    "
   ]
  },
  {
   "cell_type": "markdown",
   "id": "a424fb99",
   "metadata": {},
   "source": [
    "--------"
   ]
  },
  {
   "cell_type": "markdown",
   "id": "bb96adbb",
   "metadata": {},
   "source": [
    "---"
   ]
  },
  {
   "cell_type": "markdown",
   "id": "548f288b",
   "metadata": {},
   "source": [
    "# 1. 결정 트리 특징"
   ]
  },
  {
   "cell_type": "markdown",
   "id": "503b0cf9",
   "metadata": {},
   "source": [
    "### 1-0. 앙상블은 배깅과 부스팅 방식으로 나뉩니다. 부스팅 방식의 알고리즘 중 두개를 말해보세요. (5점)"
   ]
  },
  {
   "cell_type": "markdown",
   "id": "3af34d9b",
   "metadata": {},
   "source": [
    "XGBoost, LightGBM"
   ]
  },
  {
   "cell_type": "markdown",
   "id": "b54df261",
   "metadata": {},
   "source": [
    "### 1-1. 아래 사진 속 결정 트리의 리프 노드는 몇개인가요?  (5점)"
   ]
  },
  {
   "cell_type": "code",
   "execution_count": 46,
   "id": "878e84ff",
   "metadata": {
    "ExecuteTime": {
     "end_time": "2023-09-10T07:34:21.058060Z",
     "start_time": "2023-09-10T07:34:20.289624Z"
    }
   },
   "outputs": [
    {
     "ename": "FileNotFoundError",
     "evalue": "No such file or directory: '리프노드 개수.png'",
     "output_type": "error",
     "traceback": [
      "\u001b[1;31m---------------------------------------------------------------------------\u001b[0m",
      "\u001b[1;31mTypeError\u001b[0m                                 Traceback (most recent call last)",
      "File \u001b[1;32m~\\anaconda3\\envs\\Python39_DA\\lib\\site-packages\\IPython\\core\\display.py:1045\u001b[0m, in \u001b[0;36mImage._data_and_metadata\u001b[1;34m(self, always_both)\u001b[0m\n\u001b[0;32m   1044\u001b[0m \u001b[38;5;28;01mtry\u001b[39;00m:\n\u001b[1;32m-> 1045\u001b[0m     b64_data \u001b[38;5;241m=\u001b[39m \u001b[43mb2a_base64\u001b[49m\u001b[43m(\u001b[49m\u001b[38;5;28;43mself\u001b[39;49m\u001b[38;5;241;43m.\u001b[39;49m\u001b[43mdata\u001b[49m\u001b[43m,\u001b[49m\u001b[43m \u001b[49m\u001b[43mnewline\u001b[49m\u001b[38;5;241;43m=\u001b[39;49m\u001b[38;5;28;43;01mFalse\u001b[39;49;00m\u001b[43m)\u001b[49m\u001b[38;5;241m.\u001b[39mdecode(\u001b[38;5;124m\"\u001b[39m\u001b[38;5;124mascii\u001b[39m\u001b[38;5;124m\"\u001b[39m)\n\u001b[0;32m   1046\u001b[0m \u001b[38;5;28;01mexcept\u001b[39;00m \u001b[38;5;167;01mTypeError\u001b[39;00m \u001b[38;5;28;01mas\u001b[39;00m e:\n",
      "\u001b[1;31mTypeError\u001b[0m: a bytes-like object is required, not 'str'",
      "\nThe above exception was the direct cause of the following exception:\n",
      "\u001b[1;31mFileNotFoundError\u001b[0m                         Traceback (most recent call last)",
      "File \u001b[1;32m~\\anaconda3\\envs\\Python39_DA\\lib\\site-packages\\IPython\\core\\formatters.py:974\u001b[0m, in \u001b[0;36mMimeBundleFormatter.__call__\u001b[1;34m(self, obj, include, exclude)\u001b[0m\n\u001b[0;32m    971\u001b[0m     method \u001b[38;5;241m=\u001b[39m get_real_method(obj, \u001b[38;5;28mself\u001b[39m\u001b[38;5;241m.\u001b[39mprint_method)\n\u001b[0;32m    973\u001b[0m     \u001b[38;5;28;01mif\u001b[39;00m method \u001b[38;5;129;01mis\u001b[39;00m \u001b[38;5;129;01mnot\u001b[39;00m \u001b[38;5;28;01mNone\u001b[39;00m:\n\u001b[1;32m--> 974\u001b[0m         \u001b[38;5;28;01mreturn\u001b[39;00m \u001b[43mmethod\u001b[49m\u001b[43m(\u001b[49m\u001b[43minclude\u001b[49m\u001b[38;5;241;43m=\u001b[39;49m\u001b[43minclude\u001b[49m\u001b[43m,\u001b[49m\u001b[43m \u001b[49m\u001b[43mexclude\u001b[49m\u001b[38;5;241;43m=\u001b[39;49m\u001b[43mexclude\u001b[49m\u001b[43m)\u001b[49m\n\u001b[0;32m    975\u001b[0m     \u001b[38;5;28;01mreturn\u001b[39;00m \u001b[38;5;28;01mNone\u001b[39;00m\n\u001b[0;32m    976\u001b[0m \u001b[38;5;28;01melse\u001b[39;00m:\n",
      "File \u001b[1;32m~\\anaconda3\\envs\\Python39_DA\\lib\\site-packages\\IPython\\core\\display.py:1035\u001b[0m, in \u001b[0;36mImage._repr_mimebundle_\u001b[1;34m(self, include, exclude)\u001b[0m\n\u001b[0;32m   1033\u001b[0m \u001b[38;5;28;01mif\u001b[39;00m \u001b[38;5;28mself\u001b[39m\u001b[38;5;241m.\u001b[39membed:\n\u001b[0;32m   1034\u001b[0m     mimetype \u001b[38;5;241m=\u001b[39m \u001b[38;5;28mself\u001b[39m\u001b[38;5;241m.\u001b[39m_mimetype\n\u001b[1;32m-> 1035\u001b[0m     data, metadata \u001b[38;5;241m=\u001b[39m \u001b[38;5;28;43mself\u001b[39;49m\u001b[38;5;241;43m.\u001b[39;49m\u001b[43m_data_and_metadata\u001b[49m\u001b[43m(\u001b[49m\u001b[43malways_both\u001b[49m\u001b[38;5;241;43m=\u001b[39;49m\u001b[38;5;28;43;01mTrue\u001b[39;49;00m\u001b[43m)\u001b[49m\n\u001b[0;32m   1036\u001b[0m     \u001b[38;5;28;01mif\u001b[39;00m metadata:\n\u001b[0;32m   1037\u001b[0m         metadata \u001b[38;5;241m=\u001b[39m {mimetype: metadata}\n",
      "File \u001b[1;32m~\\anaconda3\\envs\\Python39_DA\\lib\\site-packages\\IPython\\core\\display.py:1047\u001b[0m, in \u001b[0;36mImage._data_and_metadata\u001b[1;34m(self, always_both)\u001b[0m\n\u001b[0;32m   1045\u001b[0m     b64_data \u001b[38;5;241m=\u001b[39m b2a_base64(\u001b[38;5;28mself\u001b[39m\u001b[38;5;241m.\u001b[39mdata, newline\u001b[38;5;241m=\u001b[39m\u001b[38;5;28;01mFalse\u001b[39;00m)\u001b[38;5;241m.\u001b[39mdecode(\u001b[38;5;124m\"\u001b[39m\u001b[38;5;124mascii\u001b[39m\u001b[38;5;124m\"\u001b[39m)\n\u001b[0;32m   1046\u001b[0m \u001b[38;5;28;01mexcept\u001b[39;00m \u001b[38;5;167;01mTypeError\u001b[39;00m \u001b[38;5;28;01mas\u001b[39;00m e:\n\u001b[1;32m-> 1047\u001b[0m     \u001b[38;5;28;01mraise\u001b[39;00m \u001b[38;5;167;01mFileNotFoundError\u001b[39;00m(\n\u001b[0;32m   1048\u001b[0m         \u001b[38;5;124m\"\u001b[39m\u001b[38;5;124mNo such file or directory: \u001b[39m\u001b[38;5;124m'\u001b[39m\u001b[38;5;132;01m%s\u001b[39;00m\u001b[38;5;124m'\u001b[39m\u001b[38;5;124m\"\u001b[39m \u001b[38;5;241m%\u001b[39m (\u001b[38;5;28mself\u001b[39m\u001b[38;5;241m.\u001b[39mdata)) \u001b[38;5;28;01mfrom\u001b[39;00m \u001b[38;5;21;01me\u001b[39;00m\n\u001b[0;32m   1049\u001b[0m md \u001b[38;5;241m=\u001b[39m {}\n\u001b[0;32m   1050\u001b[0m \u001b[38;5;28;01mif\u001b[39;00m \u001b[38;5;28mself\u001b[39m\u001b[38;5;241m.\u001b[39mmetadata:\n",
      "\u001b[1;31mFileNotFoundError\u001b[0m: No such file or directory: '리프노드 개수.png'"
     ]
    },
    {
     "ename": "FileNotFoundError",
     "evalue": "No such file or directory: '리프노드 개수.png'",
     "output_type": "error",
     "traceback": [
      "\u001b[1;31m---------------------------------------------------------------------------\u001b[0m",
      "\u001b[1;31mTypeError\u001b[0m                                 Traceback (most recent call last)",
      "File \u001b[1;32m~\\anaconda3\\envs\\Python39_DA\\lib\\site-packages\\IPython\\core\\display.py:1045\u001b[0m, in \u001b[0;36mImage._data_and_metadata\u001b[1;34m(self, always_both)\u001b[0m\n\u001b[0;32m   1044\u001b[0m \u001b[38;5;28;01mtry\u001b[39;00m:\n\u001b[1;32m-> 1045\u001b[0m     b64_data \u001b[38;5;241m=\u001b[39m \u001b[43mb2a_base64\u001b[49m\u001b[43m(\u001b[49m\u001b[38;5;28;43mself\u001b[39;49m\u001b[38;5;241;43m.\u001b[39;49m\u001b[43mdata\u001b[49m\u001b[43m,\u001b[49m\u001b[43m \u001b[49m\u001b[43mnewline\u001b[49m\u001b[38;5;241;43m=\u001b[39;49m\u001b[38;5;28;43;01mFalse\u001b[39;49;00m\u001b[43m)\u001b[49m\u001b[38;5;241m.\u001b[39mdecode(\u001b[38;5;124m\"\u001b[39m\u001b[38;5;124mascii\u001b[39m\u001b[38;5;124m\"\u001b[39m)\n\u001b[0;32m   1046\u001b[0m \u001b[38;5;28;01mexcept\u001b[39;00m \u001b[38;5;167;01mTypeError\u001b[39;00m \u001b[38;5;28;01mas\u001b[39;00m e:\n",
      "\u001b[1;31mTypeError\u001b[0m: a bytes-like object is required, not 'str'",
      "\nThe above exception was the direct cause of the following exception:\n",
      "\u001b[1;31mFileNotFoundError\u001b[0m                         Traceback (most recent call last)",
      "File \u001b[1;32m~\\anaconda3\\envs\\Python39_DA\\lib\\site-packages\\IPython\\core\\formatters.py:344\u001b[0m, in \u001b[0;36mBaseFormatter.__call__\u001b[1;34m(self, obj)\u001b[0m\n\u001b[0;32m    342\u001b[0m     method \u001b[38;5;241m=\u001b[39m get_real_method(obj, \u001b[38;5;28mself\u001b[39m\u001b[38;5;241m.\u001b[39mprint_method)\n\u001b[0;32m    343\u001b[0m     \u001b[38;5;28;01mif\u001b[39;00m method \u001b[38;5;129;01mis\u001b[39;00m \u001b[38;5;129;01mnot\u001b[39;00m \u001b[38;5;28;01mNone\u001b[39;00m:\n\u001b[1;32m--> 344\u001b[0m         \u001b[38;5;28;01mreturn\u001b[39;00m \u001b[43mmethod\u001b[49m\u001b[43m(\u001b[49m\u001b[43m)\u001b[49m\n\u001b[0;32m    345\u001b[0m     \u001b[38;5;28;01mreturn\u001b[39;00m \u001b[38;5;28;01mNone\u001b[39;00m\n\u001b[0;32m    346\u001b[0m \u001b[38;5;28;01melse\u001b[39;00m:\n",
      "File \u001b[1;32m~\\anaconda3\\envs\\Python39_DA\\lib\\site-packages\\IPython\\core\\display.py:1067\u001b[0m, in \u001b[0;36mImage._repr_png_\u001b[1;34m(self)\u001b[0m\n\u001b[0;32m   1065\u001b[0m \u001b[38;5;28;01mdef\u001b[39;00m \u001b[38;5;21m_repr_png_\u001b[39m(\u001b[38;5;28mself\u001b[39m):\n\u001b[0;32m   1066\u001b[0m     \u001b[38;5;28;01mif\u001b[39;00m \u001b[38;5;28mself\u001b[39m\u001b[38;5;241m.\u001b[39membed \u001b[38;5;129;01mand\u001b[39;00m \u001b[38;5;28mself\u001b[39m\u001b[38;5;241m.\u001b[39mformat \u001b[38;5;241m==\u001b[39m \u001b[38;5;28mself\u001b[39m\u001b[38;5;241m.\u001b[39m_FMT_PNG:\n\u001b[1;32m-> 1067\u001b[0m         \u001b[38;5;28;01mreturn\u001b[39;00m \u001b[38;5;28;43mself\u001b[39;49m\u001b[38;5;241;43m.\u001b[39;49m\u001b[43m_data_and_metadata\u001b[49m\u001b[43m(\u001b[49m\u001b[43m)\u001b[49m\n",
      "File \u001b[1;32m~\\anaconda3\\envs\\Python39_DA\\lib\\site-packages\\IPython\\core\\display.py:1047\u001b[0m, in \u001b[0;36mImage._data_and_metadata\u001b[1;34m(self, always_both)\u001b[0m\n\u001b[0;32m   1045\u001b[0m     b64_data \u001b[38;5;241m=\u001b[39m b2a_base64(\u001b[38;5;28mself\u001b[39m\u001b[38;5;241m.\u001b[39mdata, newline\u001b[38;5;241m=\u001b[39m\u001b[38;5;28;01mFalse\u001b[39;00m)\u001b[38;5;241m.\u001b[39mdecode(\u001b[38;5;124m\"\u001b[39m\u001b[38;5;124mascii\u001b[39m\u001b[38;5;124m\"\u001b[39m)\n\u001b[0;32m   1046\u001b[0m \u001b[38;5;28;01mexcept\u001b[39;00m \u001b[38;5;167;01mTypeError\u001b[39;00m \u001b[38;5;28;01mas\u001b[39;00m e:\n\u001b[1;32m-> 1047\u001b[0m     \u001b[38;5;28;01mraise\u001b[39;00m \u001b[38;5;167;01mFileNotFoundError\u001b[39;00m(\n\u001b[0;32m   1048\u001b[0m         \u001b[38;5;124m\"\u001b[39m\u001b[38;5;124mNo such file or directory: \u001b[39m\u001b[38;5;124m'\u001b[39m\u001b[38;5;132;01m%s\u001b[39;00m\u001b[38;5;124m'\u001b[39m\u001b[38;5;124m\"\u001b[39m \u001b[38;5;241m%\u001b[39m (\u001b[38;5;28mself\u001b[39m\u001b[38;5;241m.\u001b[39mdata)) \u001b[38;5;28;01mfrom\u001b[39;00m \u001b[38;5;21;01me\u001b[39;00m\n\u001b[0;32m   1049\u001b[0m md \u001b[38;5;241m=\u001b[39m {}\n\u001b[0;32m   1050\u001b[0m \u001b[38;5;28;01mif\u001b[39;00m \u001b[38;5;28mself\u001b[39m\u001b[38;5;241m.\u001b[39mmetadata:\n",
      "\u001b[1;31mFileNotFoundError\u001b[0m: No such file or directory: '리프노드 개수.png'"
     ]
    },
    {
     "data": {
      "text/plain": [
       "<IPython.core.display.Image object>"
      ]
     },
     "execution_count": 46,
     "metadata": {},
     "output_type": "execute_result"
    }
   ],
   "source": [
    "from IPython.display import Image\n",
    "Image(\"리프노드 개수.png\")"
   ]
  },
  {
   "cell_type": "markdown",
   "id": "5748da06",
   "metadata": {},
   "source": [
    "5개"
   ]
  },
  {
   "cell_type": "markdown",
   "id": "a825c972",
   "metadata": {},
   "source": [
    "### 1-2. 결정 트리 모델의 정확도가 떨어질 수 있는 가장 대표적 요인은 무엇인가요?  (10점)"
   ]
  },
  {
   "cell_type": "markdown",
   "id": "e8a29382",
   "metadata": {},
   "source": [
    "트리의 깊이가 깊어질수록 결정 트리의 예측 성능이 저하된다."
   ]
  },
  {
   "cell_type": "markdown",
   "id": "62987325",
   "metadata": {},
   "source": [
    "---"
   ]
  },
  {
   "cell_type": "markdown",
   "id": "f5374644",
   "metadata": {},
   "source": [
    "# 2. 결정 트리 파라미터"
   ]
  },
  {
   "cell_type": "markdown",
   "id": "96394aae",
   "metadata": {},
   "source": [
    "### 2-0. 아래의 answer 리스트를 실행시켜주세요. 2번 문제의 답안이 담길 리스트입니다. 순서가 중요하니 꼭!! 순서를 지켜주세요 :)  "
   ]
  },
  {
   "cell_type": "code",
   "execution_count": 47,
   "id": "ee89a384",
   "metadata": {
    "ExecuteTime": {
     "end_time": "2023-09-10T07:34:21.074060Z",
     "start_time": "2023-09-10T07:34:21.059122Z"
    }
   },
   "outputs": [],
   "source": [
    "answer = []"
   ]
  },
  {
   "cell_type": "markdown",
   "id": "71a07d10",
   "metadata": {},
   "source": [
    "#### 📌 보기 <br><br> a = max_samples_split <br> b = min_samples_split <br> c = max_samples_leaf <br> d = min_samples_leaf <br> e = max_features <br> f = min_features <br> g = max_depth <br> h = min_depth <br> i = max_leaf_nodes <br> j = min_leaf_nodes"
   ]
  },
  {
   "cell_type": "markdown",
   "id": "e9a05070",
   "metadata": {},
   "source": [
    "#### 다음 문제들의 답을 리스트에 넣을 때 **answer.append()** 를 사용해주세요. 그렇게 해야 순서가 달라지지 않습니다.<br> (예 : answer.append('a')) <br><br>"
   ]
  },
  {
   "cell_type": "markdown",
   "id": "1f14e94d",
   "metadata": {},
   "source": [
    "### 2-1. 다음에 해당하는 파라미터의 변수를 answer리스트에 넣어주세요.  (4점)\n",
    "<br><br> ☞ 트리의 최대 깊이를 규정합니다. \n",
    "<br> ☞ 디폴트는 None. None으로 설정하면 완벽하게 클래스 결정 값이 될 때까지 깊이를 계속 키우며 분할하기도 한다."
   ]
  },
  {
   "cell_type": "code",
   "execution_count": 48,
   "id": "6c90e1ec",
   "metadata": {
    "ExecuteTime": {
     "end_time": "2023-09-10T07:34:21.081556Z",
     "start_time": "2023-09-10T07:34:21.076130Z"
    }
   },
   "outputs": [],
   "source": [
    "# 2-1. 답\n",
    "answer.append('max_depth')"
   ]
  },
  {
   "cell_type": "markdown",
   "id": "f402603a",
   "metadata": {},
   "source": [
    "### 2-2. 다음에 해당하는 파라미터의 변수를 answer리스트에 넣어주세요. (4점)\n",
    "<br><br> ☞ 분할이 될 경우 왼쪽과 오른쪽의 브랜치 노드에서 가져야 할 최소한의 샘플 데이터 수를 뜻한다. \n",
    "<br> ☞ 큰 값으로 설정될수록, 분할될 경우 왼쪽과 오른쪽의 브랜치 노드에서 가져야 할 최소한의 샘플 데이터 수 조건을 만족시키기가 어려우므로 노드 분할을 상대적으로 덜 수행한다."
   ]
  },
  {
   "cell_type": "code",
   "execution_count": 49,
   "id": "13de98b6",
   "metadata": {
    "ExecuteTime": {
     "end_time": "2023-09-10T07:34:21.093263Z",
     "start_time": "2023-09-10T07:34:21.082969Z"
    }
   },
   "outputs": [],
   "source": [
    "# 2-2. 답\n",
    "answer.append('min_samples_leaf')"
   ]
  },
  {
   "cell_type": "markdown",
   "id": "86918055",
   "metadata": {},
   "source": [
    "### 2-3. 다음에 해당하는 파라미터의 변수를 answer리스트에 넣어주세요.  (4점)\n",
    "<br><br> ☞ 노드르르 분할하기 위한 최소한의 샘플 데이터 수로 과적합을 제어하는 데 사용된다. \n",
    "<br> ☞ 디폴트는 2이고 작게 설정할수록 분할되는 노드가 많아져서 과적합 가능성이 증가한다."
   ]
  },
  {
   "cell_type": "code",
   "execution_count": 50,
   "id": "264bb905",
   "metadata": {
    "ExecuteTime": {
     "end_time": "2023-09-10T07:34:21.108932Z",
     "start_time": "2023-09-10T07:34:21.095211Z"
    }
   },
   "outputs": [],
   "source": [
    "# 2-3. 답\n",
    "answer.append('min_samples_split')"
   ]
  },
  {
   "cell_type": "markdown",
   "id": "0a492ee7",
   "metadata": {},
   "source": [
    "### 2-4. 다음에 해당하는 파라미터의 변수를 answer리스트에 넣어주세요.  (4점)\n",
    "<br><br> ☞ 말단 노드(Leaf)의 최대 개수를 뜻한다. "
   ]
  },
  {
   "cell_type": "code",
   "execution_count": 51,
   "id": "1cf6e447",
   "metadata": {
    "ExecuteTime": {
     "end_time": "2023-09-10T07:34:21.126521Z",
     "start_time": "2023-09-10T07:34:21.110563Z"
    }
   },
   "outputs": [],
   "source": [
    "# 2-4. 답\n",
    "answer.append('max_leaf_nodes')"
   ]
  },
  {
   "cell_type": "markdown",
   "id": "cde23b1f",
   "metadata": {},
   "source": [
    "### 2-5. 다음에 해당하는 파라미터의 변수를 answer리스트에 넣어주세요.  (4점)\n",
    "<br><br> ☞ 최적의 분할을 위해 고려할 최대 피처 개수이다. 디폴트는 None으로 데이터 세트의 모든 피처를 사용해 분할 수행한다. \n",
    "<br> ☞ int형으로 지정하면 대상 피처의 개수, float형으로 지정하면 전체 피처 중 대상 피처의 퍼센트이다."
   ]
  },
  {
   "cell_type": "code",
   "execution_count": 52,
   "id": "1be256e1",
   "metadata": {
    "ExecuteTime": {
     "end_time": "2023-09-10T07:34:21.142338Z",
     "start_time": "2023-09-10T07:34:21.127733Z"
    }
   },
   "outputs": [],
   "source": [
    "# 2-5. 답\n",
    "answer.append('max_features')"
   ]
  },
  {
   "cell_type": "markdown",
   "id": "6d2a52dd",
   "metadata": {},
   "source": [
    "### 2번 문제가 모두 끝났습니다. len(answer)을 실행하여 answer의 길이가 5인지 다시 한번 확인해주세요."
   ]
  },
  {
   "cell_type": "code",
   "execution_count": 53,
   "id": "f10f8f5c",
   "metadata": {
    "ExecuteTime": {
     "end_time": "2023-09-10T07:34:21.159768Z",
     "start_time": "2023-09-10T07:34:21.143709Z"
    }
   },
   "outputs": [
    {
     "name": "stdout",
     "output_type": "stream",
     "text": [
      "5\n"
     ]
    }
   ],
   "source": [
    "print(len(answer))"
   ]
  },
  {
   "cell_type": "markdown",
   "id": "f30ced79",
   "metadata": {},
   "source": [
    "---"
   ]
  },
  {
   "cell_type": "markdown",
   "id": "e79bc30f",
   "metadata": {},
   "source": [
    "# 3. 결정 트리 모델의 시각화"
   ]
  },
  {
   "cell_type": "markdown",
   "id": "c16d9bda",
   "metadata": {},
   "source": [
    "## 당신은 결정 트리 모델의 시각화를 하려는데 한글 깨짐 현상이 발생했습니다. 위와 같은 문제를 해결하고, 결정 트리 모델을 한글로 시각화 해봅시다."
   ]
  },
  {
   "cell_type": "code",
   "execution_count": 54,
   "id": "d8e40a75",
   "metadata": {
    "ExecuteTime": {
     "end_time": "2023-09-10T07:34:21.223986Z",
     "start_time": "2023-09-10T07:34:21.161646Z"
    }
   },
   "outputs": [],
   "source": [
    "import numpy as np\n",
    "import pandas as pd\n",
    "from matplotlib import pyplot as plt\n",
    "from sklearn.datasets import load_iris\n",
    "from sklearn.tree import DecisionTreeClassifier\n",
    "from sklearn.model_selection import train_test_split\n",
    "from sklearn import tree\n",
    "import matplotlib.font_manager as fm\n",
    "\n",
    "%matplotlib inline\n",
    "\n",
    "# sklearn에 저장된 데이터를 불러 옵니다.\n",
    "X, Y = load_iris(return_X_y = True)\n",
    "\n",
    "# DataFrame으로 변환\n",
    "df = pd.DataFrame(X, columns=['꽃받침 길이','꽃받침 넓이', '꽃잎 길이', '꽃잎 넓이'])\n",
    "df['클래스'] = Y\n",
    "\n",
    "X = df.drop(columns=['클래스'])\n",
    "Y = df['클래스']"
   ]
  },
  {
   "cell_type": "markdown",
   "id": "85e8bad4",
   "metadata": {},
   "source": [
    "## 3-1 우선 결정트리 모델 시각화를 하기 위한 작업을 해봅시다. 필요한 라이브러리를 호출하고, 저장된 데이터를 불러왔습니다. train_test_split를 활용하여 학습용, 평가용 데이터로 분리해 봅시다. (random_state = 42, test_size = 0.2)  (5점)"
   ]
  },
  {
   "cell_type": "code",
   "execution_count": 55,
   "id": "10482b74",
   "metadata": {
    "ExecuteTime": {
     "end_time": "2023-09-10T07:34:21.239134Z",
     "start_time": "2023-09-10T07:34:21.225689Z"
    }
   },
   "outputs": [],
   "source": [
    "# 3-1 답\n",
    "X_train,X_test,y_train,y_test = train_test_split(X,Y,test_size=0.2,random_state=42)"
   ]
  },
  {
   "cell_type": "markdown",
   "id": "4358c5ab",
   "metadata": {},
   "source": [
    "## 3.2 DTmodel에 의사결정나무 모델을 초기화 하고 학습합니다.  (5점)"
   ]
  },
  {
   "cell_type": "code",
   "execution_count": 56,
   "id": "037320ec",
   "metadata": {
    "ExecuteTime": {
     "end_time": "2023-09-10T07:34:21.259994Z",
     "start_time": "2023-09-10T07:34:21.241326Z"
    }
   },
   "outputs": [
    {
     "data": {
      "text/html": [
       "<style>#sk-container-id-1 {color: black;}#sk-container-id-1 pre{padding: 0;}#sk-container-id-1 div.sk-toggleable {background-color: white;}#sk-container-id-1 label.sk-toggleable__label {cursor: pointer;display: block;width: 100%;margin-bottom: 0;padding: 0.3em;box-sizing: border-box;text-align: center;}#sk-container-id-1 label.sk-toggleable__label-arrow:before {content: \"▸\";float: left;margin-right: 0.25em;color: #696969;}#sk-container-id-1 label.sk-toggleable__label-arrow:hover:before {color: black;}#sk-container-id-1 div.sk-estimator:hover label.sk-toggleable__label-arrow:before {color: black;}#sk-container-id-1 div.sk-toggleable__content {max-height: 0;max-width: 0;overflow: hidden;text-align: left;background-color: #f0f8ff;}#sk-container-id-1 div.sk-toggleable__content pre {margin: 0.2em;color: black;border-radius: 0.25em;background-color: #f0f8ff;}#sk-container-id-1 input.sk-toggleable__control:checked~div.sk-toggleable__content {max-height: 200px;max-width: 100%;overflow: auto;}#sk-container-id-1 input.sk-toggleable__control:checked~label.sk-toggleable__label-arrow:before {content: \"▾\";}#sk-container-id-1 div.sk-estimator input.sk-toggleable__control:checked~label.sk-toggleable__label {background-color: #d4ebff;}#sk-container-id-1 div.sk-label input.sk-toggleable__control:checked~label.sk-toggleable__label {background-color: #d4ebff;}#sk-container-id-1 input.sk-hidden--visually {border: 0;clip: rect(1px 1px 1px 1px);clip: rect(1px, 1px, 1px, 1px);height: 1px;margin: -1px;overflow: hidden;padding: 0;position: absolute;width: 1px;}#sk-container-id-1 div.sk-estimator {font-family: monospace;background-color: #f0f8ff;border: 1px dotted black;border-radius: 0.25em;box-sizing: border-box;margin-bottom: 0.5em;}#sk-container-id-1 div.sk-estimator:hover {background-color: #d4ebff;}#sk-container-id-1 div.sk-parallel-item::after {content: \"\";width: 100%;border-bottom: 1px solid gray;flex-grow: 1;}#sk-container-id-1 div.sk-label:hover label.sk-toggleable__label {background-color: #d4ebff;}#sk-container-id-1 div.sk-serial::before {content: \"\";position: absolute;border-left: 1px solid gray;box-sizing: border-box;top: 0;bottom: 0;left: 50%;z-index: 0;}#sk-container-id-1 div.sk-serial {display: flex;flex-direction: column;align-items: center;background-color: white;padding-right: 0.2em;padding-left: 0.2em;position: relative;}#sk-container-id-1 div.sk-item {position: relative;z-index: 1;}#sk-container-id-1 div.sk-parallel {display: flex;align-items: stretch;justify-content: center;background-color: white;position: relative;}#sk-container-id-1 div.sk-item::before, #sk-container-id-1 div.sk-parallel-item::before {content: \"\";position: absolute;border-left: 1px solid gray;box-sizing: border-box;top: 0;bottom: 0;left: 50%;z-index: -1;}#sk-container-id-1 div.sk-parallel-item {display: flex;flex-direction: column;z-index: 1;position: relative;background-color: white;}#sk-container-id-1 div.sk-parallel-item:first-child::after {align-self: flex-end;width: 50%;}#sk-container-id-1 div.sk-parallel-item:last-child::after {align-self: flex-start;width: 50%;}#sk-container-id-1 div.sk-parallel-item:only-child::after {width: 0;}#sk-container-id-1 div.sk-dashed-wrapped {border: 1px dashed gray;margin: 0 0.4em 0.5em 0.4em;box-sizing: border-box;padding-bottom: 0.4em;background-color: white;}#sk-container-id-1 div.sk-label label {font-family: monospace;font-weight: bold;display: inline-block;line-height: 1.2em;}#sk-container-id-1 div.sk-label-container {text-align: center;}#sk-container-id-1 div.sk-container {/* jupyter's `normalize.less` sets `[hidden] { display: none; }` but bootstrap.min.css set `[hidden] { display: none !important; }` so we also need the `!important` here to be able to override the default hidden behavior on the sphinx rendered scikit-learn.org. See: https://github.com/scikit-learn/scikit-learn/issues/21755 */display: inline-block !important;position: relative;}#sk-container-id-1 div.sk-text-repr-fallback {display: none;}</style><div id=\"sk-container-id-1\" class=\"sk-top-container\"><div class=\"sk-text-repr-fallback\"><pre>DecisionTreeClassifier()</pre><b>In a Jupyter environment, please rerun this cell to show the HTML representation or trust the notebook. <br />On GitHub, the HTML representation is unable to render, please try loading this page with nbviewer.org.</b></div><div class=\"sk-container\" hidden><div class=\"sk-item\"><div class=\"sk-estimator sk-toggleable\"><input class=\"sk-toggleable__control sk-hidden--visually\" id=\"sk-estimator-id-1\" type=\"checkbox\" checked><label for=\"sk-estimator-id-1\" class=\"sk-toggleable__label sk-toggleable__label-arrow\">DecisionTreeClassifier</label><div class=\"sk-toggleable__content\"><pre>DecisionTreeClassifier()</pre></div></div></div></div></div>"
      ],
      "text/plain": [
       "DecisionTreeClassifier()"
      ]
     },
     "execution_count": 56,
     "metadata": {},
     "output_type": "execute_result"
    }
   ],
   "source": [
    "#3-2 답\n",
    "DTmodel = DecisionTreeClassifier()\n",
    "DTmodel.fit(X_train,y_train)"
   ]
  },
  {
   "cell_type": "markdown",
   "id": "bf3d1e93",
   "metadata": {},
   "source": [
    "## 3.3 이제 시각화를 해볼겁니다. 아래 코드를 실행하고, C:\\Windows\\Fonts 경로에서 한글 폰트를 찾아 적용해봅시다.  (10점)"
   ]
  },
  {
   "cell_type": "markdown",
   "id": "b9703d57",
   "metadata": {},
   "source": [
    "#### Mac OS인 분들은 한글을 포함하여 시각화 성공해주시면 정답입니다!"
   ]
  },
  {
   "cell_type": "code",
   "execution_count": 57,
   "id": "14111812",
   "metadata": {
    "ExecuteTime": {
     "end_time": "2023-09-10T07:34:21.275265Z",
     "start_time": "2023-09-10T07:34:21.259994Z"
    }
   },
   "outputs": [
    {
     "data": {
      "text/plain": [
       "['DejaVu Sans Mono',\n",
       " 'cmtt10',\n",
       " 'STIXSizeTwoSym',\n",
       " 'STIXNonUnicode',\n",
       " 'DejaVu Serif Display',\n",
       " 'DejaVu Serif',\n",
       " 'STIXSizeFourSym',\n",
       " 'STIXSizeOneSym',\n",
       " 'STIXSizeOneSym',\n",
       " 'DejaVu Sans Mono',\n",
       " 'STIXSizeThreeSym',\n",
       " 'DejaVu Serif',\n",
       " 'DejaVu Sans Mono',\n",
       " 'STIXSizeTwoSym',\n",
       " 'STIXGeneral',\n",
       " 'cmr10',\n",
       " 'DejaVu Sans Display',\n",
       " 'DejaVu Sans',\n",
       " 'STIXNonUnicode',\n",
       " 'cmb10',\n",
       " 'STIXGeneral',\n",
       " 'cmss10',\n",
       " 'DejaVu Sans',\n",
       " 'STIXNonUnicode',\n",
       " 'cmsy10',\n",
       " 'STIXGeneral',\n",
       " 'cmex10',\n",
       " 'DejaVu Sans',\n",
       " 'STIXSizeFiveSym',\n",
       " 'STIXGeneral',\n",
       " 'DejaVu Sans Mono',\n",
       " 'DejaVu Serif',\n",
       " 'DejaVu Sans',\n",
       " 'STIXSizeThreeSym',\n",
       " 'STIXSizeFourSym',\n",
       " 'STIXNonUnicode',\n",
       " 'DejaVu Serif',\n",
       " 'cmmi10',\n",
       " 'MingLiU-ExtB',\n",
       " 'Juice ITC',\n",
       " 'Informal Roman',\n",
       " 'Matura MT Script Capitals',\n",
       " 'Segoe UI',\n",
       " 'Dubai',\n",
       " 'Candara',\n",
       " 'Lucida Sans Typewriter',\n",
       " 'Cascadia Code',\n",
       " 'Arial',\n",
       " 'Franklin Gothic Heavy',\n",
       " 'Cambria',\n",
       " 'Trebuchet MS',\n",
       " 'Microsoft YaHei',\n",
       " 'Gill Sans MT Ext Condensed Bold',\n",
       " 'New Gulim',\n",
       " 'SimSun',\n",
       " 'Segoe UI',\n",
       " 'HYGothic-Medium',\n",
       " 'Microsoft Sans Serif',\n",
       " 'Niagara Engraved',\n",
       " 'Vivaldi',\n",
       " 'Georgia',\n",
       " 'Segoe UI Symbol',\n",
       " 'Jokerman',\n",
       " 'Segoe Print',\n",
       " 'Perpetua',\n",
       " 'Haettenschweiler',\n",
       " 'Arial',\n",
       " 'Hancom MalangMalang',\n",
       " 'Tw Cen MT',\n",
       " 'HCR Batang ExtB',\n",
       " 'Arial',\n",
       " 'Sitka',\n",
       " 'Wide Latin',\n",
       " 'S-Core Dream',\n",
       " 'Yu Gothic',\n",
       " 'Mongolian Baiti',\n",
       " 'S-Core Dream',\n",
       " 'S-Core Dream',\n",
       " 'HCR Batang',\n",
       " 'Leelawadee UI',\n",
       " 'Candara',\n",
       " 'Rockwell Condensed',\n",
       " 'Eras Medium ITC',\n",
       " 'HYPMokGak-Bold',\n",
       " 'Dubai',\n",
       " 'Leelawadee UI',\n",
       " 'Tw Cen MT Condensed',\n",
       " 'Niagara Solid',\n",
       " 'Microsoft PhagsPa',\n",
       " 'Bernard MT Condensed',\n",
       " 'Microsoft JhengHei',\n",
       " 'Segoe UI',\n",
       " 'Stencil',\n",
       " 'Trebuchet MS',\n",
       " 'Consolas',\n",
       " 'Segoe UI',\n",
       " 'Comic Sans MS',\n",
       " 'NanumMyeongjoOTF',\n",
       " 'HYSinMyeongJo-Medium',\n",
       " 'Lucida Bright',\n",
       " 'Arial',\n",
       " 'Segoe Fluent Icons',\n",
       " 'Century Schoolbook',\n",
       " 'Segoe Print',\n",
       " 'Century Schoolbook',\n",
       " 'Calisto MT',\n",
       " 'Bell MT',\n",
       " 'Times New Roman',\n",
       " 'Maiandra GD',\n",
       " 'Bodoni MT',\n",
       " 'Microsoft YaHei',\n",
       " 'Ebrima',\n",
       " 'Franklin Gothic Book',\n",
       " 'Consolas',\n",
       " 'Harrington',\n",
       " 'High Tower Text',\n",
       " 'HYMyeongJo-Extra',\n",
       " 'Berlin Sans FB',\n",
       " 'Segoe UI',\n",
       " 'MS Outlook',\n",
       " 'Lucida Sans',\n",
       " 'Microsoft Tai Le',\n",
       " 'Courier New',\n",
       " 'Blackadder ITC',\n",
       " 'Rockwell',\n",
       " 'Bahnschrift',\n",
       " 'Chiller',\n",
       " 'Pyunji R',\n",
       " 'Han Santteut Dotum',\n",
       " 'Cambria',\n",
       " 'Microsoft Tai Le',\n",
       " 'Trebuchet MS',\n",
       " 'Lucida Sans Typewriter',\n",
       " 'Calibri',\n",
       " 'Rockwell Condensed',\n",
       " 'Britannic Bold',\n",
       " 'Malgun Gothic',\n",
       " 'Rockwell',\n",
       " 'Mistral',\n",
       " 'Lucida Sans',\n",
       " 'Candara',\n",
       " 'Onyx',\n",
       " 'Yet R',\n",
       " 'Franklin Gothic Medium',\n",
       " 'Yu Gothic',\n",
       " 'Book Antiqua',\n",
       " 'Kadisoka Script',\n",
       " 'Segoe Script',\n",
       " 'Bodoni MT',\n",
       " 'Tahoma',\n",
       " 'Bookman Old Style',\n",
       " 'Century Gothic',\n",
       " 'Harlow Solid Italic',\n",
       " 'Poor Richard',\n",
       " 'Segoe UI',\n",
       " 'Colonna MT',\n",
       " 'MS Gothic',\n",
       " 'Segoe UI Historic',\n",
       " 'Cambria',\n",
       " 'HCR Dotum',\n",
       " 'Microsoft Uighur',\n",
       " 'Bookman Old Style',\n",
       " 'Nirmala UI',\n",
       " 'Eras Light ITC',\n",
       " 'Segoe UI',\n",
       " 'Arial',\n",
       " 'Malgun Gothic',\n",
       " 'Ravie',\n",
       " 'Tw Cen MT',\n",
       " 'Palace Script MT',\n",
       " 'NanumGothic',\n",
       " 'HYPost-Light',\n",
       " 'Calibri',\n",
       " 'NanumMyeongjoOTF',\n",
       " 'Calibri',\n",
       " 'Leelawadee',\n",
       " 'Microsoft Himalaya',\n",
       " 'HYHeadLine-Medium',\n",
       " 'Perpetua',\n",
       " 'Trebuchet MS',\n",
       " 'Rockwell Extra Bold',\n",
       " 'Hancom Gothic',\n",
       " 'Franklin Gothic Demi Cond',\n",
       " 'S-Core Dream',\n",
       " 'Gloucester MT Extra Condensed',\n",
       " 'Candara',\n",
       " 'Goudy Old Style',\n",
       " 'HCR Batang ExtB',\n",
       " 'Curlz MT',\n",
       " 'Century Schoolbook',\n",
       " 'HCR Dotum Ext',\n",
       " 'Cooper Black',\n",
       " 'MS Reference Sans Serif',\n",
       " 'Haan Wing2',\n",
       " 'High Tower Text',\n",
       " 'Bodoni MT',\n",
       " 'Century Schoolbook',\n",
       " 'Magic R',\n",
       " 'Consolas',\n",
       " 'Franklin Gothic Demi',\n",
       " 'Bodoni MT',\n",
       " 'HYGothic-Extra',\n",
       " 'Leelawadee',\n",
       " 'Sitka',\n",
       " 'Playbill',\n",
       " 'Gadugi',\n",
       " 'Lucida Console',\n",
       " 'Leelawadee UI',\n",
       " 'Symbol',\n",
       " 'HCR Batang',\n",
       " 'NanumGothic',\n",
       " 'Wingdings',\n",
       " 'S-Core Dream',\n",
       " 'Script MT Bold',\n",
       " 'Consolas',\n",
       " '210 Sunflower',\n",
       " 'HCR Dotum',\n",
       " 'Century Gothic',\n",
       " 'Agency FB',\n",
       " 'Corbel',\n",
       " 'Consolas',\n",
       " 'HYPost-Medium',\n",
       " 'Old English Text MT',\n",
       " 'Bodoni MT',\n",
       " 'Elephant',\n",
       " 'Georgia',\n",
       " 'Book Antiqua',\n",
       " 'Arial',\n",
       " 'Ink Free',\n",
       " 'Rage Italic',\n",
       " 'Gmarket Sans TTF',\n",
       " 'Modern No. 20',\n",
       " 'MoeumT R',\n",
       " 'Forte',\n",
       " 'Perpetua Titling MT',\n",
       " 'Gill Sans MT',\n",
       " 'Bradley Hand ITC',\n",
       " 'Gmarket Sans TTF',\n",
       " 'Kristen ITC',\n",
       " 'Cambria',\n",
       " 'Edwardian Script ITC',\n",
       " 'Malgun Gothic',\n",
       " 'Comic Sans MS',\n",
       " 'OCR A Extended',\n",
       " 'Garamond',\n",
       " 'Century Gothic',\n",
       " 'Ebrima',\n",
       " 'Corbel',\n",
       " 'Freestyle Script',\n",
       " 'NanumMyeongjo',\n",
       " 'Tahoma',\n",
       " 'HYShortSamul-Medium',\n",
       " 'Hancom Hoonminjeongeum_V',\n",
       " 'Gulim',\n",
       " 'Lucida Sans Unicode',\n",
       " 'Lucida Sans Typewriter',\n",
       " 'Verdana',\n",
       " 'French Script MT',\n",
       " 'Bodoni MT',\n",
       " 'Dubai',\n",
       " 'Microsoft New Tai Lue',\n",
       " 'Gill Sans MT',\n",
       " 'Courier New',\n",
       " 'Comic Sans MS',\n",
       " 'Franklin Gothic Book',\n",
       " 'Palatino Linotype',\n",
       " 'Webdings',\n",
       " 'Headline R',\n",
       " 'Segoe Script',\n",
       " 'Segoe UI',\n",
       " 'SimSun-ExtB',\n",
       " 'S-Core Dream',\n",
       " 'Rockwell',\n",
       " 'Goudy Stout',\n",
       " 'MS Reference Specialty',\n",
       " 'NanumGothic',\n",
       " 'Segoe UI',\n",
       " 'Tw Cen MT Condensed',\n",
       " 'HYGungSo-Bold',\n",
       " 'Berlin Sans FB Demi',\n",
       " 'Consolas',\n",
       " 'Broadway',\n",
       " 'Myanmar Text',\n",
       " 'NanumMyeongjo',\n",
       " 'Felix Titling',\n",
       " 'Verdana',\n",
       " 'Corbel',\n",
       " 'Wingdings 2',\n",
       " 'Wingdings 3',\n",
       " 'S-Core Dream',\n",
       " 'Goudy Old Style',\n",
       " 'HCR Batang Ext',\n",
       " 'Concert One',\n",
       " 'MV Boli',\n",
       " 'Bookman Old Style',\n",
       " 'Eras Bold ITC',\n",
       " 'Sans Serif Collection',\n",
       " 'Goudy Old Style',\n",
       " 'Segoe MDL2 Assets',\n",
       " 'Bodoni MT',\n",
       " 'Quicksilver',\n",
       " 'Georgia',\n",
       " 'Constantia',\n",
       " 'Microsoft PhagsPa',\n",
       " 'Constantia',\n",
       " 'Palatino Linotype',\n",
       " 'Gill Sans Ultra Bold Condensed',\n",
       " 'Tw Cen MT Condensed Extra Bold',\n",
       " 'Segoe UI',\n",
       " 'Han Santteut Dotum',\n",
       " 'Dubai',\n",
       " 'Agency FB',\n",
       " 'Myanmar Text',\n",
       " 'Berlin Sans FB',\n",
       " 'Palatino Linotype',\n",
       " 'Magneto',\n",
       " 'Palatino Linotype',\n",
       " 'Franklin Gothic Medium',\n",
       " 'Hancom MalangMalang',\n",
       " 'Book Antiqua',\n",
       " 'HYGraphic-Medium',\n",
       " 'Arial',\n",
       " 'Copperplate Gothic Light',\n",
       " 'Monotype Corsiva',\n",
       " 'MT Extra',\n",
       " 'Lucida Handwriting',\n",
       " 'Lucida Sans',\n",
       " 'Microsoft New Tai Lue',\n",
       " 'S-Core Dream',\n",
       " 'NanumMyeongjoOTF',\n",
       " 'Arial',\n",
       " 'Century Gothic',\n",
       " 'Lucida Sans Typewriter',\n",
       " 'Perpetua',\n",
       " 'Tw Cen MT',\n",
       " 'Franklin Gothic Heavy',\n",
       " 'Baskerville Old Face',\n",
       " 'Verdana',\n",
       " 'Corbel',\n",
       " 'Bodoni MT',\n",
       " 'Lucida Bright',\n",
       " 'Segoe UI Variable',\n",
       " 'Rockwell',\n",
       " 'Lucida Fax',\n",
       " 'Javanese Text',\n",
       " 'Lucida Bright',\n",
       " 'Nirmala UI',\n",
       " 'Lucida Bright',\n",
       " 'Footlight MT Light',\n",
       " 'Copperplate Gothic Bold',\n",
       " 'Batang',\n",
       " 'Segoe UI',\n",
       " 'Lucida Fax',\n",
       " 'Segoe UI',\n",
       " 'Garamond',\n",
       " 'S-Core Dream',\n",
       " 'Perpetua Titling MT',\n",
       " 'Gmarket Sans TTF',\n",
       " 'Lucida Sans',\n",
       " 'Calisto MT',\n",
       " 'Centaur',\n",
       " 'Times New Roman',\n",
       " 'Century',\n",
       " 'Gill Sans MT Condensed',\n",
       " 'Algerian',\n",
       " 'HoloLens MDL2 Assets',\n",
       " 'NanumGothic',\n",
       " 'Gadugi',\n",
       " 'Tempus Sans ITC',\n",
       " 'Corbel',\n",
       " 'Calisto MT',\n",
       " 'HyhwpEQ',\n",
       " 'Constantia',\n",
       " 'Corbel',\n",
       " 'Microsoft JhengHei',\n",
       " 'Bodoni MT',\n",
       " 'Lucida Calligraphy',\n",
       " 'Constantia',\n",
       " 'NanumGothicCoding',\n",
       " 'Bell MT',\n",
       " 'Arial Rounded MT Bold',\n",
       " 'Comic Sans MS',\n",
       " 'Calibri',\n",
       " 'Castellar',\n",
       " 'Franklin Gothic Medium Cond',\n",
       " 'Yu Gothic',\n",
       " 'Gill Sans MT',\n",
       " 'Bell MT',\n",
       " 'Elephant',\n",
       " 'Consolas',\n",
       " 'Gill Sans MT',\n",
       " 'NanumMyeongjo',\n",
       " 'Nirmala UI',\n",
       " 'Consolas',\n",
       " 'NewJumja',\n",
       " 'Perpetua',\n",
       " 'Brush Script MT',\n",
       " 'Courier New',\n",
       " 'Garamond',\n",
       " 'Verdana',\n",
       " 'Ami R',\n",
       " 'Papyrus',\n",
       " 'Microsoft Yi Baiti',\n",
       " 'Engravers MT',\n",
       " 'Bodoni MT',\n",
       " 'Bodoni MT',\n",
       " 'Times New Roman',\n",
       " 'Impact',\n",
       " 'Franklin Gothic Demi',\n",
       " 'HancomEQN',\n",
       " 'Imprint MT Shadow',\n",
       " 'Lucida Fax',\n",
       " 'Californian FB',\n",
       " 'Calibri',\n",
       " 'Arial',\n",
       " 'Calisto MT',\n",
       " 'Candara',\n",
       " 'Parchment',\n",
       " 'Yu Gothic',\n",
       " 'Candara',\n",
       " 'Bookman Old Style',\n",
       " 'Kunstler Script',\n",
       " 'Lucida Fax',\n",
       " 'Bookshelf Symbol 7',\n",
       " 'Viner Hand ITC',\n",
       " 'Segoe UI Emoji',\n",
       " 'Vladimir Script',\n",
       " 'Californian FB',\n",
       " 'Eras Demi ITC',\n",
       " 'Microsoft Uighur',\n",
       " 'Tw Cen MT',\n",
       " 'Gabriola',\n",
       " 'Showcard Gothic',\n",
       " 'Microsoft JhengHei',\n",
       " 'Georgia',\n",
       " 'NanumGothicCoding',\n",
       " 'Hancom Gothic',\n",
       " 'Californian FB',\n",
       " 'Bauhaus 93',\n",
       " 'Courier New',\n",
       " 'Times New Roman',\n",
       " 'Gill Sans Ultra Bold',\n",
       " 'Calibri',\n",
       " 'Snap ITC',\n",
       " 'Cascadia Mono',\n",
       " 'Gigi',\n",
       " 'Book Antiqua',\n",
       " 'Microsoft YaHei',\n",
       " 'Sylfaen',\n",
       " 'Pristina']"
      ]
     },
     "execution_count": 57,
     "metadata": {},
     "output_type": "execute_result"
    }
   ],
   "source": [
    "import matplotlib.font_manager as fm\n",
    "#아래 코드는 C:\\Windows\\Fonts에 내장되어 있는 폰트를 리스트로 반환해주는 코드입니다.\n",
    "font_list = [font.name for font in fm.fontManager.ttflist]\n",
    "font_list"
   ]
  },
  {
   "cell_type": "code",
   "execution_count": 58,
   "id": "fc305567",
   "metadata": {
    "ExecuteTime": {
     "end_time": "2023-09-10T07:34:22.321130Z",
     "start_time": "2023-09-10T07:34:21.277407Z"
    }
   },
   "outputs": [
    {
     "name": "stderr",
     "output_type": "stream",
     "text": [
      "findfont: Font family 'AppleGothic' not found.\n",
      "findfont: Font family 'AppleGothic' not found.\n",
      "C:\\Users\\songkyu\\anaconda3\\envs\\Python39_DA\\lib\\site-packages\\sklearn\\tree\\_export.py:664: UserWarning: Glyph 44867 (\\N{HANGUL SYLLABLE GGOC}) missing from current font.\n",
      "  ann.update_bbox_position_size(renderer)\n",
      "C:\\Users\\songkyu\\anaconda3\\envs\\Python39_DA\\lib\\site-packages\\sklearn\\tree\\_export.py:664: UserWarning: Glyph 51086 (\\N{HANGUL SYLLABLE IP}) missing from current font.\n",
      "  ann.update_bbox_position_size(renderer)\n",
      "C:\\Users\\songkyu\\anaconda3\\envs\\Python39_DA\\lib\\site-packages\\sklearn\\tree\\_export.py:664: UserWarning: Glyph 44600 (\\N{HANGUL SYLLABLE GIL}) missing from current font.\n",
      "  ann.update_bbox_position_size(renderer)\n",
      "C:\\Users\\songkyu\\anaconda3\\envs\\Python39_DA\\lib\\site-packages\\sklearn\\tree\\_export.py:664: UserWarning: Glyph 51060 (\\N{HANGUL SYLLABLE I}) missing from current font.\n",
      "  ann.update_bbox_position_size(renderer)\n",
      "findfont: Font family 'AppleGothic' not found.\n",
      "findfont: Font family 'AppleGothic' not found.\n",
      "findfont: Font family 'AppleGothic' not found.\n",
      "findfont: Font family 'AppleGothic' not found.\n",
      "findfont: Font family 'AppleGothic' not found.\n",
      "findfont: Font family 'AppleGothic' not found.\n",
      "findfont: Font family 'AppleGothic' not found.\n",
      "findfont: Font family 'AppleGothic' not found.\n",
      "findfont: Font family 'AppleGothic' not found.\n",
      "findfont: Font family 'AppleGothic' not found.\n",
      "findfont: Font family 'AppleGothic' not found.\n",
      "findfont: Font family 'AppleGothic' not found.\n",
      "findfont: Font family 'AppleGothic' not found.\n",
      "C:\\Users\\songkyu\\anaconda3\\envs\\Python39_DA\\lib\\site-packages\\sklearn\\tree\\_export.py:664: UserWarning: Glyph 45331 (\\N{HANGUL SYLLABLE NEOLB}) missing from current font.\n",
      "  ann.update_bbox_position_size(renderer)\n",
      "findfont: Font family 'AppleGothic' not found.\n",
      "findfont: Font family 'AppleGothic' not found.\n",
      "findfont: Font family 'AppleGothic' not found.\n",
      "findfont: Font family 'AppleGothic' not found.\n",
      "findfont: Font family 'AppleGothic' not found.\n",
      "findfont: Font family 'AppleGothic' not found.\n",
      "findfont: Font family 'AppleGothic' not found.\n",
      "findfont: Font family 'AppleGothic' not found.\n",
      "findfont: Font family 'AppleGothic' not found.\n",
      "findfont: Font family 'AppleGothic' not found.\n",
      "findfont: Font family 'AppleGothic' not found.\n",
      "findfont: Font family 'AppleGothic' not found.\n",
      "findfont: Font family 'AppleGothic' not found.\n",
      "findfont: Font family 'AppleGothic' not found.\n",
      "findfont: Font family 'AppleGothic' not found.\n",
      "findfont: Font family 'AppleGothic' not found.\n",
      "findfont: Font family 'AppleGothic' not found.\n",
      "findfont: Font family 'AppleGothic' not found.\n",
      "findfont: Font family 'AppleGothic' not found.\n",
      "findfont: Font family 'AppleGothic' not found.\n",
      "findfont: Font family 'AppleGothic' not found.\n",
      "findfont: Font family 'AppleGothic' not found.\n",
      "findfont: Font family 'AppleGothic' not found.\n",
      "findfont: Font family 'AppleGothic' not found.\n",
      "C:\\Users\\songkyu\\anaconda3\\envs\\Python39_DA\\lib\\site-packages\\sklearn\\tree\\_export.py:664: UserWarning: Glyph 48155 (\\N{HANGUL SYLLABLE BAD}) missing from current font.\n",
      "  ann.update_bbox_position_size(renderer)\n",
      "C:\\Users\\songkyu\\anaconda3\\envs\\Python39_DA\\lib\\site-packages\\sklearn\\tree\\_export.py:664: UserWarning: Glyph 52840 (\\N{HANGUL SYLLABLE CIM}) missing from current font.\n",
      "  ann.update_bbox_position_size(renderer)\n",
      "findfont: Font family 'AppleGothic' not found.\n",
      "findfont: Font family 'AppleGothic' not found.\n",
      "findfont: Font family 'AppleGothic' not found.\n",
      "findfont: Font family 'AppleGothic' not found.\n",
      "findfont: Font family 'AppleGothic' not found.\n",
      "findfont: Font family 'AppleGothic' not found.\n",
      "findfont: Font family 'AppleGothic' not found.\n",
      "findfont: Font family 'AppleGothic' not found.\n",
      "findfont: Font family 'AppleGothic' not found.\n",
      "findfont: Font family 'AppleGothic' not found.\n",
      "findfont: Font family 'AppleGothic' not found.\n",
      "findfont: Font family 'AppleGothic' not found.\n",
      "findfont: Font family 'AppleGothic' not found.\n",
      "findfont: Font family 'AppleGothic' not found.\n",
      "findfont: Font family 'AppleGothic' not found.\n",
      "findfont: Font family 'AppleGothic' not found.\n",
      "findfont: Font family 'AppleGothic' not found.\n",
      "findfont: Font family 'AppleGothic' not found.\n",
      "findfont: Font family 'AppleGothic' not found.\n",
      "findfont: Font family 'AppleGothic' not found.\n",
      "findfont: Font family 'AppleGothic' not found.\n",
      "findfont: Font family 'AppleGothic' not found.\n",
      "findfont: Font family 'AppleGothic' not found.\n",
      "findfont: Font family 'AppleGothic' not found.\n",
      "findfont: Font family 'AppleGothic' not found.\n",
      "findfont: Font family 'AppleGothic' not found.\n",
      "findfont: Font family 'AppleGothic' not found.\n",
      "findfont: Font family 'AppleGothic' not found.\n",
      "findfont: Font family 'AppleGothic' not found.\n",
      "findfont: Font family 'AppleGothic' not found.\n",
      "findfont: Font family 'AppleGothic' not found.\n",
      "findfont: Font family 'AppleGothic' not found.\n",
      "findfont: Font family 'AppleGothic' not found.\n",
      "findfont: Font family 'AppleGothic' not found.\n",
      "C:\\Users\\songkyu\\anaconda3\\envs\\Python39_DA\\lib\\site-packages\\IPython\\core\\events.py:89: UserWarning: Glyph 44867 (\\N{HANGUL SYLLABLE GGOC}) missing from current font.\n",
      "  func(*args, **kwargs)\n",
      "C:\\Users\\songkyu\\anaconda3\\envs\\Python39_DA\\lib\\site-packages\\IPython\\core\\events.py:89: UserWarning: Glyph 48155 (\\N{HANGUL SYLLABLE BAD}) missing from current font.\n",
      "  func(*args, **kwargs)\n",
      "C:\\Users\\songkyu\\anaconda3\\envs\\Python39_DA\\lib\\site-packages\\IPython\\core\\events.py:89: UserWarning: Glyph 52840 (\\N{HANGUL SYLLABLE CIM}) missing from current font.\n",
      "  func(*args, **kwargs)\n",
      "C:\\Users\\songkyu\\anaconda3\\envs\\Python39_DA\\lib\\site-packages\\IPython\\core\\events.py:89: UserWarning: Glyph 44600 (\\N{HANGUL SYLLABLE GIL}) missing from current font.\n",
      "  func(*args, **kwargs)\n",
      "C:\\Users\\songkyu\\anaconda3\\envs\\Python39_DA\\lib\\site-packages\\IPython\\core\\events.py:89: UserWarning: Glyph 51060 (\\N{HANGUL SYLLABLE I}) missing from current font.\n",
      "  func(*args, **kwargs)\n",
      "findfont: Font family 'AppleGothic' not found.\n",
      "findfont: Font family 'AppleGothic' not found.\n",
      "findfont: Font family 'AppleGothic' not found.\n",
      "findfont: Font family 'AppleGothic' not found.\n",
      "findfont: Font family 'AppleGothic' not found.\n",
      "findfont: Font family 'AppleGothic' not found.\n",
      "findfont: Font family 'AppleGothic' not found.\n",
      "findfont: Font family 'AppleGothic' not found.\n",
      "findfont: Font family 'AppleGothic' not found.\n",
      "findfont: Font family 'AppleGothic' not found.\n",
      "findfont: Font family 'AppleGothic' not found.\n",
      "findfont: Font family 'AppleGothic' not found.\n",
      "findfont: Font family 'AppleGothic' not found.\n",
      "findfont: Font family 'AppleGothic' not found.\n",
      "findfont: Font family 'AppleGothic' not found.\n",
      "findfont: Font family 'AppleGothic' not found.\n",
      "findfont: Font family 'AppleGothic' not found.\n",
      "findfont: Font family 'AppleGothic' not found.\n",
      "findfont: Font family 'AppleGothic' not found.\n",
      "findfont: Font family 'AppleGothic' not found.\n",
      "findfont: Font family 'AppleGothic' not found.\n",
      "findfont: Font family 'AppleGothic' not found.\n",
      "C:\\Users\\songkyu\\anaconda3\\envs\\Python39_DA\\lib\\site-packages\\IPython\\core\\events.py:89: UserWarning: Glyph 51086 (\\N{HANGUL SYLLABLE IP}) missing from current font.\n",
      "  func(*args, **kwargs)\n",
      "C:\\Users\\songkyu\\anaconda3\\envs\\Python39_DA\\lib\\site-packages\\IPython\\core\\events.py:89: UserWarning: Glyph 45331 (\\N{HANGUL SYLLABLE NEOLB}) missing from current font.\n",
      "  func(*args, **kwargs)\n",
      "findfont: Font family 'AppleGothic' not found.\n",
      "findfont: Font family 'AppleGothic' not found.\n",
      "findfont: Font family 'AppleGothic' not found.\n",
      "findfont: Font family 'AppleGothic' not found.\n",
      "findfont: Font family 'AppleGothic' not found.\n",
      "findfont: Font family 'AppleGothic' not found.\n",
      "findfont: Font family 'AppleGothic' not found.\n",
      "findfont: Font family 'AppleGothic' not found.\n",
      "findfont: Font family 'AppleGothic' not found.\n",
      "findfont: Font family 'AppleGothic' not found.\n",
      "findfont: Font family 'AppleGothic' not found.\n",
      "findfont: Font family 'AppleGothic' not found.\n",
      "findfont: Font family 'AppleGothic' not found.\n",
      "findfont: Font family 'AppleGothic' not found.\n",
      "findfont: Font family 'AppleGothic' not found.\n",
      "findfont: Font family 'AppleGothic' not found.\n",
      "findfont: Font family 'AppleGothic' not found.\n",
      "findfont: Font family 'AppleGothic' not found.\n",
      "findfont: Font family 'AppleGothic' not found.\n",
      "findfont: Font family 'AppleGothic' not found.\n"
     ]
    },
    {
     "name": "stderr",
     "output_type": "stream",
     "text": [
      "findfont: Font family 'AppleGothic' not found.\n",
      "findfont: Font family 'AppleGothic' not found.\n",
      "findfont: Font family 'AppleGothic' not found.\n",
      "findfont: Font family 'AppleGothic' not found.\n",
      "findfont: Font family 'AppleGothic' not found.\n",
      "findfont: Font family 'AppleGothic' not found.\n",
      "findfont: Font family 'AppleGothic' not found.\n",
      "findfont: Font family 'AppleGothic' not found.\n",
      "findfont: Font family 'AppleGothic' not found.\n",
      "findfont: Font family 'AppleGothic' not found.\n",
      "findfont: Font family 'AppleGothic' not found.\n",
      "findfont: Font family 'AppleGothic' not found.\n",
      "findfont: Font family 'AppleGothic' not found.\n",
      "findfont: Font family 'AppleGothic' not found.\n",
      "findfont: Font family 'AppleGothic' not found.\n",
      "findfont: Font family 'AppleGothic' not found.\n",
      "findfont: Font family 'AppleGothic' not found.\n",
      "findfont: Font family 'AppleGothic' not found.\n",
      "findfont: Font family 'AppleGothic' not found.\n",
      "findfont: Font family 'AppleGothic' not found.\n",
      "findfont: Font family 'AppleGothic' not found.\n",
      "findfont: Font family 'AppleGothic' not found.\n",
      "findfont: Font family 'AppleGothic' not found.\n",
      "findfont: Font family 'AppleGothic' not found.\n",
      "findfont: Font family 'AppleGothic' not found.\n",
      "findfont: Font family 'AppleGothic' not found.\n",
      "findfont: Font family 'AppleGothic' not found.\n",
      "findfont: Font family 'AppleGothic' not found.\n",
      "findfont: Font family 'AppleGothic' not found.\n",
      "findfont: Font family 'AppleGothic' not found.\n",
      "findfont: Font family 'AppleGothic' not found.\n",
      "findfont: Font family 'AppleGothic' not found.\n",
      "findfont: Font family 'AppleGothic' not found.\n",
      "findfont: Font family 'AppleGothic' not found.\n",
      "findfont: Font family 'AppleGothic' not found.\n",
      "findfont: Font family 'AppleGothic' not found.\n",
      "findfont: Font family 'AppleGothic' not found.\n",
      "findfont: Font family 'AppleGothic' not found.\n",
      "findfont: Font family 'AppleGothic' not found.\n",
      "findfont: Font family 'AppleGothic' not found.\n",
      "findfont: Font family 'AppleGothic' not found.\n",
      "findfont: Font family 'AppleGothic' not found.\n",
      "findfont: Font family 'AppleGothic' not found.\n",
      "findfont: Font family 'AppleGothic' not found.\n",
      "findfont: Font family 'AppleGothic' not found.\n",
      "findfont: Font family 'AppleGothic' not found.\n",
      "findfont: Font family 'AppleGothic' not found.\n",
      "findfont: Font family 'AppleGothic' not found.\n",
      "findfont: Font family 'AppleGothic' not found.\n",
      "findfont: Font family 'AppleGothic' not found.\n",
      "findfont: Font family 'AppleGothic' not found.\n",
      "findfont: Font family 'AppleGothic' not found.\n",
      "findfont: Font family 'AppleGothic' not found.\n",
      "findfont: Font family 'AppleGothic' not found.\n",
      "findfont: Font family 'AppleGothic' not found.\n",
      "findfont: Font family 'AppleGothic' not found.\n",
      "findfont: Font family 'AppleGothic' not found.\n",
      "findfont: Font family 'AppleGothic' not found.\n",
      "findfont: Font family 'AppleGothic' not found.\n",
      "findfont: Font family 'AppleGothic' not found.\n",
      "findfont: Font family 'AppleGothic' not found.\n",
      "findfont: Font family 'AppleGothic' not found.\n",
      "findfont: Font family 'AppleGothic' not found.\n",
      "findfont: Font family 'AppleGothic' not found.\n",
      "findfont: Font family 'AppleGothic' not found.\n",
      "findfont: Font family 'AppleGothic' not found.\n",
      "findfont: Font family 'AppleGothic' not found.\n",
      "findfont: Font family 'AppleGothic' not found.\n",
      "findfont: Font family 'AppleGothic' not found.\n",
      "findfont: Font family 'AppleGothic' not found.\n",
      "findfont: Font family 'AppleGothic' not found.\n",
      "findfont: Font family 'AppleGothic' not found.\n",
      "findfont: Font family 'AppleGothic' not found.\n",
      "findfont: Font family 'AppleGothic' not found.\n",
      "findfont: Font family 'AppleGothic' not found.\n",
      "findfont: Font family 'AppleGothic' not found.\n",
      "findfont: Font family 'AppleGothic' not found.\n",
      "findfont: Font family 'AppleGothic' not found.\n",
      "findfont: Font family 'AppleGothic' not found.\n",
      "findfont: Font family 'AppleGothic' not found.\n",
      "findfont: Font family 'AppleGothic' not found.\n",
      "findfont: Font family 'AppleGothic' not found.\n",
      "findfont: Font family 'AppleGothic' not found.\n",
      "findfont: Font family 'AppleGothic' not found.\n",
      "findfont: Font family 'AppleGothic' not found.\n",
      "findfont: Font family 'AppleGothic' not found.\n",
      "findfont: Font family 'AppleGothic' not found.\n",
      "findfont: Font family 'AppleGothic' not found.\n",
      "findfont: Font family 'AppleGothic' not found.\n",
      "findfont: Font family 'AppleGothic' not found.\n",
      "findfont: Font family 'AppleGothic' not found.\n",
      "findfont: Font family 'AppleGothic' not found.\n",
      "findfont: Font family 'AppleGothic' not found.\n",
      "C:\\Users\\songkyu\\anaconda3\\envs\\Python39_DA\\lib\\site-packages\\IPython\\core\\pylabtools.py:152: UserWarning: Glyph 44867 (\\N{HANGUL SYLLABLE GGOC}) missing from current font.\n",
      "  fig.canvas.print_figure(bytes_io, **kw)\n",
      "C:\\Users\\songkyu\\anaconda3\\envs\\Python39_DA\\lib\\site-packages\\IPython\\core\\pylabtools.py:152: UserWarning: Glyph 48155 (\\N{HANGUL SYLLABLE BAD}) missing from current font.\n",
      "  fig.canvas.print_figure(bytes_io, **kw)\n",
      "C:\\Users\\songkyu\\anaconda3\\envs\\Python39_DA\\lib\\site-packages\\IPython\\core\\pylabtools.py:152: UserWarning: Glyph 52840 (\\N{HANGUL SYLLABLE CIM}) missing from current font.\n",
      "  fig.canvas.print_figure(bytes_io, **kw)\n",
      "C:\\Users\\songkyu\\anaconda3\\envs\\Python39_DA\\lib\\site-packages\\IPython\\core\\pylabtools.py:152: UserWarning: Glyph 44600 (\\N{HANGUL SYLLABLE GIL}) missing from current font.\n",
      "  fig.canvas.print_figure(bytes_io, **kw)\n",
      "C:\\Users\\songkyu\\anaconda3\\envs\\Python39_DA\\lib\\site-packages\\IPython\\core\\pylabtools.py:152: UserWarning: Glyph 51060 (\\N{HANGUL SYLLABLE I}) missing from current font.\n",
      "  fig.canvas.print_figure(bytes_io, **kw)\n",
      "findfont: Font family 'AppleGothic' not found.\n",
      "findfont: Font family 'AppleGothic' not found.\n",
      "findfont: Font family 'AppleGothic' not found.\n",
      "findfont: Font family 'AppleGothic' not found.\n",
      "findfont: Font family 'AppleGothic' not found.\n",
      "findfont: Font family 'AppleGothic' not found.\n",
      "findfont: Font family 'AppleGothic' not found.\n",
      "findfont: Font family 'AppleGothic' not found.\n",
      "findfont: Font family 'AppleGothic' not found.\n",
      "findfont: Font family 'AppleGothic' not found.\n",
      "findfont: Font family 'AppleGothic' not found.\n",
      "findfont: Font family 'AppleGothic' not found.\n",
      "findfont: Font family 'AppleGothic' not found.\n",
      "findfont: Font family 'AppleGothic' not found.\n",
      "findfont: Font family 'AppleGothic' not found.\n",
      "findfont: Font family 'AppleGothic' not found.\n",
      "findfont: Font family 'AppleGothic' not found.\n",
      "findfont: Font family 'AppleGothic' not found.\n",
      "findfont: Font family 'AppleGothic' not found.\n",
      "findfont: Font family 'AppleGothic' not found.\n",
      "findfont: Font family 'AppleGothic' not found.\n",
      "findfont: Font family 'AppleGothic' not found.\n",
      "C:\\Users\\songkyu\\anaconda3\\envs\\Python39_DA\\lib\\site-packages\\IPython\\core\\pylabtools.py:152: UserWarning: Glyph 51086 (\\N{HANGUL SYLLABLE IP}) missing from current font.\n",
      "  fig.canvas.print_figure(bytes_io, **kw)\n",
      "C:\\Users\\songkyu\\anaconda3\\envs\\Python39_DA\\lib\\site-packages\\IPython\\core\\pylabtools.py:152: UserWarning: Glyph 45331 (\\N{HANGUL SYLLABLE NEOLB}) missing from current font.\n",
      "  fig.canvas.print_figure(bytes_io, **kw)\n",
      "findfont: Font family 'AppleGothic' not found.\n",
      "findfont: Font family 'AppleGothic' not found.\n",
      "findfont: Font family 'AppleGothic' not found.\n",
      "findfont: Font family 'AppleGothic' not found.\n",
      "findfont: Font family 'AppleGothic' not found.\n",
      "findfont: Font family 'AppleGothic' not found.\n",
      "findfont: Font family 'AppleGothic' not found.\n",
      "findfont: Font family 'AppleGothic' not found.\n",
      "findfont: Font family 'AppleGothic' not found.\n",
      "findfont: Font family 'AppleGothic' not found.\n",
      "findfont: Font family 'AppleGothic' not found.\n",
      "findfont: Font family 'AppleGothic' not found.\n",
      "findfont: Font family 'AppleGothic' not found.\n",
      "findfont: Font family 'AppleGothic' not found.\n",
      "findfont: Font family 'AppleGothic' not found.\n",
      "findfont: Font family 'AppleGothic' not found.\n",
      "findfont: Font family 'AppleGothic' not found.\n",
      "findfont: Font family 'AppleGothic' not found.\n",
      "findfont: Font family 'AppleGothic' not found.\n",
      "findfont: Font family 'AppleGothic' not found.\n",
      "findfont: Font family 'AppleGothic' not found.\n",
      "findfont: Font family 'AppleGothic' not found.\n",
      "findfont: Font family 'AppleGothic' not found.\n",
      "findfont: Font family 'AppleGothic' not found.\n",
      "findfont: Font family 'AppleGothic' not found.\n",
      "findfont: Font family 'AppleGothic' not found.\n",
      "findfont: Font family 'AppleGothic' not found.\n",
      "findfont: Font family 'AppleGothic' not found.\n"
     ]
    },
    {
     "name": "stderr",
     "output_type": "stream",
     "text": [
      "findfont: Font family 'AppleGothic' not found.\n",
      "findfont: Font family 'AppleGothic' not found.\n",
      "findfont: Font family 'AppleGothic' not found.\n",
      "findfont: Font family 'AppleGothic' not found.\n",
      "findfont: Font family 'AppleGothic' not found.\n",
      "findfont: Font family 'AppleGothic' not found.\n",
      "findfont: Font family 'AppleGothic' not found.\n",
      "findfont: Font family 'AppleGothic' not found.\n",
      "findfont: Font family 'AppleGothic' not found.\n",
      "findfont: Font family 'AppleGothic' not found.\n",
      "findfont: Font family 'AppleGothic' not found.\n",
      "findfont: Font family 'AppleGothic' not found.\n",
      "findfont: Font family 'AppleGothic' not found.\n",
      "findfont: Font family 'AppleGothic' not found.\n",
      "findfont: Font family 'AppleGothic' not found.\n",
      "findfont: Font family 'AppleGothic' not found.\n",
      "findfont: Font family 'AppleGothic' not found.\n",
      "findfont: Font family 'AppleGothic' not found.\n",
      "findfont: Font family 'AppleGothic' not found.\n",
      "findfont: Font family 'AppleGothic' not found.\n",
      "findfont: Font family 'AppleGothic' not found.\n",
      "findfont: Font family 'AppleGothic' not found.\n",
      "findfont: Font family 'AppleGothic' not found.\n",
      "findfont: Font family 'AppleGothic' not found.\n",
      "findfont: Font family 'AppleGothic' not found.\n",
      "findfont: Font family 'AppleGothic' not found.\n",
      "findfont: Font family 'AppleGothic' not found.\n",
      "findfont: Font family 'AppleGothic' not found.\n",
      "findfont: Font family 'AppleGothic' not found.\n",
      "findfont: Font family 'AppleGothic' not found.\n",
      "findfont: Font family 'AppleGothic' not found.\n",
      "findfont: Font family 'AppleGothic' not found.\n",
      "findfont: Font family 'AppleGothic' not found.\n",
      "findfont: Font family 'AppleGothic' not found.\n",
      "findfont: Font family 'AppleGothic' not found.\n",
      "findfont: Font family 'AppleGothic' not found.\n",
      "findfont: Font family 'AppleGothic' not found.\n",
      "findfont: Font family 'AppleGothic' not found.\n",
      "findfont: Font family 'AppleGothic' not found.\n",
      "findfont: Font family 'AppleGothic' not found.\n",
      "findfont: Font family 'AppleGothic' not found.\n",
      "findfont: Font family 'AppleGothic' not found.\n",
      "findfont: Font family 'AppleGothic' not found.\n",
      "findfont: Font family 'AppleGothic' not found.\n",
      "findfont: Font family 'AppleGothic' not found.\n",
      "findfont: Font family 'AppleGothic' not found.\n",
      "findfont: Font family 'AppleGothic' not found.\n",
      "findfont: Font family 'AppleGothic' not found.\n",
      "findfont: Font family 'AppleGothic' not found.\n",
      "findfont: Font family 'AppleGothic' not found.\n",
      "findfont: Font family 'AppleGothic' not found.\n",
      "findfont: Font family 'AppleGothic' not found.\n",
      "findfont: Font family 'AppleGothic' not found.\n",
      "findfont: Font family 'AppleGothic' not found.\n",
      "findfont: Font family 'AppleGothic' not found.\n",
      "findfont: Font family 'AppleGothic' not found.\n",
      "findfont: Font family 'AppleGothic' not found.\n",
      "findfont: Font family 'AppleGothic' not found.\n",
      "findfont: Font family 'AppleGothic' not found.\n",
      "findfont: Font family 'AppleGothic' not found.\n",
      "findfont: Font family 'AppleGothic' not found.\n",
      "findfont: Font family 'AppleGothic' not found.\n"
     ]
    },
    {
     "data": {
      "image/png": "[encoded data removed]",
      "text/plain": [
       "<Figure size 2500x2000 with 1 Axes>"
      ]
     },
     "metadata": {},
     "output_type": "display_data"
    }
   ],
   "source": [
    "# 3-3 답 None 값을 채워주세요.\n",
    "# !!Hint!! 1번째 None 값에 폰트 이름이 들어갑니다. \n",
    "\n",
    "plt.rc('font', family='AppleGothic')\n",
    "fig = plt.figure(figsize=(25,20))\n",
    "_ = tree.plot_tree(DTmodel, \n",
    "                   feature_names=['꽃받침 길이','꽃받침 넓이', '꽃잎 길이', '꽃잎 넓이'],  \n",
    "                   class_names=['setosa', 'versicolor', 'virginica'],\n",
    "                   filled=True)\n"
   ]
  },
  {
   "cell_type": "code",
   "execution_count": null,
   "id": "a11b3a94",
   "metadata": {},
   "outputs": [],
   "source": []
  },
  {
   "cell_type": "markdown",
   "id": "7813a49f",
   "metadata": {},
   "source": [
    "# 4. 결정트리 과적합(20점)"
   ]
  },
  {
   "cell_type": "markdown",
   "id": "6a8e0f46",
   "metadata": {},
   "source": [
    "### 4-1. make_classification() 함수를 사용해 2개의 피처가 4가지 유형의 클래스 값을 가지는 데이터 세트를 만드시오. (3점) "
   ]
  },
  {
   "cell_type": "code",
   "execution_count": 59,
   "id": "2ed41d13",
   "metadata": {
    "ExecuteTime": {
     "end_time": "2023-09-10T07:34:22.337244Z",
     "start_time": "2023-09-10T07:34:22.323262Z"
    }
   },
   "outputs": [],
   "source": [
    "from sklearn.datasets import make_classification\n",
    "import matplotlib.pyplot as plt\n",
    "\n",
    "# 2차원 시각화를 위해서 feature는 2개, 결정값 클래스는 4가지 유형의 classification 샘플 데이터 생성. \n",
    "X_features,y_labels =make_classification(n_features=2,n_redundant=0,n_informative=2,n_classes=4,n_clusters_per_class=1,random_state=24)"
   ]
  },
  {
   "cell_type": "markdown",
   "id": "024fd4e3",
   "metadata": {},
   "source": [
    "### 4-2. plot 형태로 2개의 feature로 2차원 좌표 시각화하고 각 클래스값은 다른 색깔로 표시하여 출력하시오. (4점)\n"
   ]
  },
  {
   "cell_type": "code",
   "execution_count": 60,
   "id": "592f7361",
   "metadata": {
    "ExecuteTime": {
     "end_time": "2023-09-10T07:34:22.456037Z",
     "start_time": "2023-09-10T07:34:22.339242Z"
    }
   },
   "outputs": [
    {
     "name": "stderr",
     "output_type": "stream",
     "text": [
      "findfont: Font family 'AppleGothic' not found.\n",
      "findfont: Font family 'AppleGothic' not found.\n",
      "findfont: Font family 'AppleGothic' not found.\n",
      "findfont: Font family 'AppleGothic' not found.\n",
      "findfont: Font family 'AppleGothic' not found.\n",
      "findfont: Font family 'AppleGothic' not found.\n",
      "findfont: Font family 'AppleGothic' not found.\n",
      "findfont: Font family 'AppleGothic' not found.\n",
      "findfont: Font family 'AppleGothic' not found.\n",
      "findfont: Font family 'AppleGothic' not found.\n",
      "findfont: Font family 'AppleGothic' not found.\n",
      "findfont: Font family 'AppleGothic' not found.\n",
      "findfont: Font family 'AppleGothic' not found.\n",
      "findfont: Font family 'AppleGothic' not found.\n",
      "findfont: Font family 'AppleGothic' not found.\n",
      "findfont: Font family 'AppleGothic' not found.\n",
      "findfont: Font family 'AppleGothic' not found.\n",
      "findfont: Font family 'AppleGothic' not found.\n",
      "findfont: Font family 'AppleGothic' not found.\n",
      "findfont: Font family 'AppleGothic' not found.\n",
      "findfont: Font family 'AppleGothic' not found.\n",
      "findfont: Font family 'AppleGothic' not found.\n",
      "findfont: Font family 'AppleGothic' not found.\n",
      "findfont: Font family 'AppleGothic' not found.\n",
      "findfont: Font family 'AppleGothic' not found.\n",
      "findfont: Font family 'AppleGothic' not found.\n"
     ]
    },
    {
     "data": {
      "image/png": "[encoded data removed]",
      "text/plain": [
       "<Figure size 640x480 with 1 Axes>"
      ]
     },
     "metadata": {},
     "output_type": "display_data"
    }
   ],
   "source": [
    "# 그래프 시각화\n",
    "import matplotlib\n",
    "\n",
    "plt.rc('font', family='AppleGothic')\n",
    "matplotlib.rcParams['axes.unicode_minus'] = False\n",
    "plt.scatter(X_features[:,0],X_features[:,1],marker='o',c=y_labels,s=25,edgecolors='k')\n",
    "plt.show()"
   ]
  },
  {
   "cell_type": "markdown",
   "id": "7efbd180",
   "metadata": {},
   "source": [
    "### 4-3. 아래의 셀을 실행시키고 visualize_boundary() 함수의 역할 및 기능을 설명하시오. (3점)"
   ]
  },
  {
   "cell_type": "code",
   "execution_count": 61,
   "id": "3ddc63d6",
   "metadata": {
    "ExecuteTime": {
     "end_time": "2023-09-10T07:34:22.475450Z",
     "start_time": "2023-09-10T07:34:22.457748Z"
    }
   },
   "outputs": [],
   "source": [
    "import numpy as np\n",
    "\n",
    "# Classifier의 Decision Boundary를 시각화 하는 함수\n",
    "def visualize_boundary(model, X, y):\n",
    "    fig,ax = plt.subplots()\n",
    "    \n",
    "    # 학습 데이타 scatter plot으로 나타내기\n",
    "    ax.scatter(X[:, 0], X[:, 1], c=y, s=25, cmap='rainbow', edgecolor='k',\n",
    "               clim=(y.min(), y.max()), zorder=3)\n",
    "    ax.axis('tight')\n",
    "    ax.axis('off')\n",
    "    xlim_start , xlim_end = ax.get_xlim()\n",
    "    ylim_start , ylim_end = ax.get_ylim()\n",
    "    \n",
    "    # 호출 파라미터로 들어온 training 데이타로 model 학습 . \n",
    "    model.fit(X, y)\n",
    "    # meshgrid 형태인 모든 좌표값으로 예측 수행. \n",
    "    xx, yy = np.meshgrid(np.linspace(xlim_start,xlim_end, num=200),np.linspace(ylim_start,ylim_end, num=200))\n",
    "    Z = model.predict(np.c_[xx.ravel(), yy.ravel()]).reshape(xx.shape)\n",
    "    \n",
    "    # contourf() 를 이용하여 class boundary 를 visualization 수행. \n",
    "    n_classes = len(np.unique(y))\n",
    "    contours = ax.contourf(xx, yy, Z, alpha=0.3,\n",
    "                           levels=np.arange(n_classes + 1) - 0.5,\n",
    "                           cmap='rainbow', clim=(y.min(), y.max()),\n",
    "                           zorder=1)"
   ]
  },
  {
   "cell_type": "markdown",
   "id": "3795a7e2",
   "metadata": {},
   "source": [
    "답 : visualize_boundary() 함수는 모델명과 X,y를 받아 모델의 학습을 진행하고 결정된 분류결과를 2차원 그래프로 나타내는 함수이다.  포인트의 색은 원래 y_label에 있는 값으로 분류되고, 배경색은 예측을 통해 도출된 output값을 기반이며 같은 라벨로 분류된 범위 만큼 같은 색을 가지고 있다."
   ]
  },
  {
   "cell_type": "markdown",
   "id": "76cdcbfb",
   "metadata": {},
   "source": [
    "### 4-4. 특정한 트리 생성 제약이 없는 결정트리의 학습을 시키고 위의 visalize_boundary()함수를 사용하여 결정경계를 시각화 하시오. (3점)"
   ]
  },
  {
   "cell_type": "code",
   "execution_count": 62,
   "id": "ca65b820",
   "metadata": {
    "ExecuteTime": {
     "end_time": "2023-09-10T07:34:22.537950Z",
     "start_time": "2023-09-10T07:34:22.477379Z"
    }
   },
   "outputs": [
    {
     "name": "stderr",
     "output_type": "stream",
     "text": [
      "C:\\Users\\songkyu\\AppData\\Local\\Temp\\ipykernel_1236\\1016789203.py:23: UserWarning: The following kwargs were not used by contour: 'clim'\n",
      "  contours = ax.contourf(xx, yy, Z, alpha=0.3,\n"
     ]
    },
    {
     "data": {
      "image/png": "[encoded data removed]",
      "text/plain": [
       "<Figure size 640x480 with 1 Axes>"
      ]
     },
     "metadata": {},
     "output_type": "display_data"
    }
   ],
   "source": [
    "from sklearn.tree import DecisionTreeClassifier\n",
    "\n",
    "# 특정한 트리 생성 제약없는 결정 트리의 Decsion Boundary 시각화.\n",
    "dt_clf = DecisionTreeClassifier(random_state=24)\n",
    "dt_clf.fit(X_features,y_labels)\n",
    "visualize_boundary(dt_clf,X_features,y_labels)"
   ]
  },
  {
   "cell_type": "markdown",
   "id": "730f5bfa",
   "metadata": {},
   "source": [
    "### 4-5. 7개 이하이 데이터는 리프노드를 생성할 수 있도록 규칙을 변경하고 하이퍼 파라미터를 변경해 결정기준 경계가 어떻게 변하는지 살펴보시오. (3점)"
   ]
  },
  {
   "cell_type": "code",
   "execution_count": 63,
   "id": "de7c13d7",
   "metadata": {
    "ExecuteTime": {
     "end_time": "2023-09-10T07:34:22.589066Z",
     "start_time": "2023-09-10T07:34:22.539952Z"
    }
   },
   "outputs": [
    {
     "name": "stderr",
     "output_type": "stream",
     "text": [
      "C:\\Users\\songkyu\\AppData\\Local\\Temp\\ipykernel_1236\\1016789203.py:23: UserWarning: The following kwargs were not used by contour: 'clim'\n",
      "  contours = ax.contourf(xx, yy, Z, alpha=0.3,\n"
     ]
    },
    {
     "data": {
      "image/png": "[encoded data removed]",
      "text/plain": [
       "<Figure size 640x480 with 1 Axes>"
      ]
     },
     "metadata": {},
     "output_type": "display_data"
    }
   ],
   "source": [
    "# min_samples_leaf=6 으로 트리 생성 조건을 제약한 Decision Boundary 시각화\n",
    "dt_clf = DecisionTreeClassifier(random_state=24,min_samples_leaf=6)\n",
    "dt_clf.fit(X_features,y_labels)\n",
    "visualize_boundary(dt_clf,X_features,y_labels)"
   ]
  },
  {
   "cell_type": "markdown",
   "id": "362543d7",
   "metadata": {},
   "source": [
    "### 4-6. 4-4의 출력결과와 4-5의 출력결과를 과적합 측면에서 비교하여 서술하시오(4점)"
   ]
  },
  {
   "cell_type": "markdown",
   "id": "8085a459",
   "metadata": {},
   "source": [
    "답 : 4-4의 경우 분할이 자주 일어나서 결정 기준 경계가 매우 많아졌다. 이의 경우 train 데이터셋에 너무 fit해 있기 때문에 새로운 test값을 넣었을 때 정확도가 떨어질 수 있다.\n",
    "4-5의 경우 좀 더 일반화된 분류로 경정기준의 경계가 줄어들어 알맞게 분류되지 못한 값들도 있지만 새로운 test값을 넣었을 때 4-4보다는 정확도가 올라갈 수 있다."
   ]
  },
  {
   "cell_type": "markdown",
   "id": "bb94382a",
   "metadata": {},
   "source": [
    "# 5. 결정 트리 실습"
   ]
  },
  {
   "cell_type": "markdown",
   "id": "64e9695c",
   "metadata": {},
   "source": [
    "#### 5-1. penguins 데이터셋을 불러오고 간단한 데이터 전처리를 해주겠습니다. 아래 코드를 실행해주세요! (3점)"
   ]
  },
  {
   "cell_type": "code",
   "execution_count": 64,
   "id": "7371310a",
   "metadata": {
    "ExecuteTime": {
     "end_time": "2023-09-10T07:34:22.721080Z",
     "start_time": "2023-09-10T07:34:22.590693Z"
    }
   },
   "outputs": [
    {
     "data": {
      "text/plain": [
       "species              0\n",
       "island               0\n",
       "bill_length_mm       0\n",
       "bill_depth_mm        0\n",
       "flipper_length_mm    0\n",
       "body_mass_g          0\n",
       "sex                  0\n",
       "dtype: int64"
      ]
     },
     "execution_count": 64,
     "metadata": {},
     "output_type": "execute_result"
    }
   ],
   "source": [
    "import seaborn as sns\n",
    "import numpy as np\n",
    "import pandas as pd \n",
    "\n",
    "penguins= sns.load_dataset(\"penguins\")\n",
    "\n",
    "# 이상치 처리\n",
    "penguins[\"sex\"] = penguins[\"sex\"].replace(\".\",np.NaN)\n",
    "\n",
    "# 결측치 처리\n",
    "cols=[\"bill_length_mm\",\"bill_depth_mm\",\"flipper_length_mm\",\"body_mass_g\"] # 숫자 데이터 컬럼\n",
    "\n",
    "#1. 숫자데이터로 이루어진 컬럼 결측치 -> 평균값으로 채우기\n",
    "for i in range(len(cols)):\n",
    "    penguins[cols[i]] = penguins[cols[i]].fillna(penguins[cols[i]].mean()) # 평균값으로 결측치를 채운다.\n",
    "\n",
    "#2. 문자 데이터로 이루어진 컬럼 결측치 -> row 제거\n",
    "penguins=penguins.dropna(subset=[\"sex\"])\n",
    "\n",
    "\n",
    "penguins.isna().sum(axis=0)"
   ]
  },
  {
   "cell_type": "code",
   "execution_count": 65,
   "id": "f0836c78",
   "metadata": {
    "ExecuteTime": {
     "end_time": "2023-09-10T07:34:22.739672Z",
     "start_time": "2023-09-10T07:34:22.723925Z"
    }
   },
   "outputs": [],
   "source": [
    "#피처와 레이블 분리\n",
    "\n",
    "X = penguins.drop([\"species\"],axis=1)\n",
    "y = penguins[\"species\"]"
   ]
  },
  {
   "cell_type": "markdown",
   "id": "c1e4bccc",
   "metadata": {},
   "source": [
    "#### 5-2. train_test_split을 사용하여 학습셋과 테스트셋을 분리해주세요.(test 데이터의 비율이 20%가 되게 분리 해주세요) (3점)"
   ]
  },
  {
   "cell_type": "code",
   "execution_count": 66,
   "id": "38176343",
   "metadata": {
    "ExecuteTime": {
     "end_time": "2023-09-10T07:34:22.787527Z",
     "start_time": "2023-09-10T07:34:22.741675Z"
    }
   },
   "outputs": [],
   "source": [
    "X_train,X_test,y_train,y_test = train_test_split(X,y,test_size=0.2,random_state=11)"
   ]
  },
  {
   "cell_type": "markdown",
   "id": "0fa90d4f",
   "metadata": {},
   "source": [
    "#### 5-3. 문자데이터로 이루어진 컬럼은 원-핫 인코딩을, 숫자데이터로 이루어진 컬럼은 스케일링을 진행하겠습니다. 아래 코드를 실행시켜주세요. (3점)"
   ]
  },
  {
   "cell_type": "code",
   "execution_count": 67,
   "id": "1bb53038",
   "metadata": {
    "ExecuteTime": {
     "end_time": "2023-09-10T07:34:22.803622Z",
     "start_time": "2023-09-10T07:34:22.788173Z"
    }
   },
   "outputs": [],
   "source": [
    "cat_cols = [\"island\",\"sex\"]\n",
    "num_cols =[\"bill_length_mm\",\"bill_depth_mm\",\"flipper_length_mm\",\"body_mass_g\"]\n",
    "           \n",
    "from sklearn.preprocessing import OneHotEncoder\n",
    "\n",
    "oe=OneHotEncoder(sparse_output=False)\n",
    "X_train_cat = oe.fit_transform(X_train[cat_cols])\n",
    "X_test_cat = oe.fit_transform(X_test[cat_cols])\n",
    "\n",
    "from sklearn.preprocessing import StandardScaler\n",
    "\n",
    "scaler=StandardScaler()\n",
    "X_train_scaler = scaler.fit_transform(X_train[num_cols])\n",
    "X_test_scaler = scaler.fit_transform(X_test[num_cols])\n",
    "\n",
    "# 원-핫 인코딩한 결과와 스케일링한 결과 합치기\n",
    "X_train_s=np.concatenate((X_train_cat,X_train_scaler),axis=1)\n",
    "X_test_s=np.concatenate((X_test_cat,X_test_scaler),axis=1)\n",
    "\n",
    "# y_train은 문자열이기 때문에 레이블 인코딩을 진행해줍니다.\n",
    "from sklearn.preprocessing import LabelEncoder\n",
    "\n",
    "e=LabelEncoder()\n",
    "y_train=e.fit_transform(y_train)\n",
    "y_test=e.fit_transform(y_test)"
   ]
  },
  {
   "cell_type": "markdown",
   "id": "78b65a8e",
   "metadata": {},
   "source": [
    "#### 5-4. 이제 decisiontree를 활용하여 학습시켜주겠습니다. 먼저 decisiontressClassifier의 하이퍼 파라미터는 모두 디폴트 값으로 설정해 수행하고, 정확도를 확인해주세요. (random_state는 156으로 설정해주세요.) (4점)"
   ]
  },
  {
   "cell_type": "code",
   "execution_count": 68,
   "id": "3dbef4ab",
   "metadata": {
    "ExecuteTime": {
     "end_time": "2023-09-10T07:34:22.822824Z",
     "start_time": "2023-09-10T07:34:22.804709Z"
    }
   },
   "outputs": [
    {
     "name": "stdout",
     "output_type": "stream",
     "text": [
      "정확도 : 0.9552\n"
     ]
    }
   ],
   "source": [
    "dt_clf=DecisionTreeClassifier(random_state=156)\n",
    "dt_clf.fit(X_train_s,y_train)\n",
    "pred = dt_clf.predict(X_test_s)\n",
    "print('정확도 : {0:.4f}'.format(accuracy_score(y_test,pred)))"
   ]
  },
  {
   "cell_type": "markdown",
   "id": "7ad7ec0c",
   "metadata": {},
   "source": [
    "#### 5-5. 이번에는 결정 트리의 트리 깊이와 min_samples_leaf가 예측 정확도에 주는 영향을 살펴보겠습니다. (GridSearchCV 사용)  max_depth와 min_samples_leaf는 자유롭게 설정해주시고, scoring은 accuracy, cv는 5로 설정해주세요. 이후 GridSearchCV 최고 평균 정확도 수치와 최적 하이퍼 파라미터를 출력해주세요. (3점)"
   ]
  },
  {
   "cell_type": "code",
   "execution_count": 69,
   "id": "04751cbb",
   "metadata": {
    "ExecuteTime": {
     "end_time": "2023-09-10T07:34:23.119831Z",
     "start_time": "2023-09-10T07:34:22.823655Z"
    }
   },
   "outputs": [
    {
     "name": "stdout",
     "output_type": "stream",
     "text": [
      "GridSearchCV 최고 평균 정확도 수치: 0.9700\n",
      "GridSearchCV 최적 하이퍼 파라미터:  {'max_depth': 6, 'min_samples_leaf': 1}\n"
     ]
    }
   ],
   "source": [
    "from sklearn.model_selection import GridSearchCV\n",
    "\n",
    "params={\n",
    "    'min_samples_leaf' : [1,3,6,9,10,12],\n",
    "    'max_depth' : [6,8,10,12,16,20,24]\n",
    "}\n",
    "grid_cv = GridSearchCV(dt_clf,param_grid=params,scoring='accuracy',cv=5)\n",
    "grid_cv.fit(X_train_s,y_train)\n",
    "print('GridSearchCV 최고 평균 정확도 수치: {0:.4f}'.format(grid_cv.best_score_))\n",
    "print('GridSearchCV 최적 하이퍼 파라미터: ',grid_cv.best_params_)"
   ]
  },
  {
   "cell_type": "markdown",
   "id": "294c6f17",
   "metadata": {},
   "source": [
    "#### 5-6. 마지막으로 별도의 테스트 세트에서 결정 트리의 정확도를 측정해보겠습니다. max_depth는 3으로 고정하고,min_samples_leaf를 자유롭게 변경하며 변화에 따른 값을 측정해주세요. (4점)"
   ]
  },
  {
   "cell_type": "code",
   "execution_count": 70,
   "id": "747ee1b4",
   "metadata": {
    "ExecuteTime": {
     "end_time": "2023-09-10T07:34:23.137940Z",
     "start_time": "2023-09-10T07:34:23.121347Z"
    }
   },
   "outputs": [
    {
     "name": "stdout",
     "output_type": "stream",
     "text": [
      "min_samples_leaf = 1 정확도 : 0.9552\n",
      "min_samples_leaf = 3 정확도 : 0.9403\n",
      "min_samples_leaf = 6 정확도 : 0.9254\n",
      "min_samples_leaf = 9 정확도 : 0.9104\n",
      "min_samples_leaf = 10 정확도 : 0.9104\n",
      "min_samples_leaf = 12 정확도 : 0.9104\n"
     ]
    }
   ],
   "source": [
    "min_samples_leaf= [1,3,6,9,10,12]\n",
    "\n",
    "#min_samples_leaf 값을 변화시키며 그때마다 학습과 테스트 세트에서의 예측 성능 측정\n",
    "for i in min_samples_leaf:\n",
    "    dt_clf = DecisionTreeClassifier(max_depth=3,min_samples_leaf=i,random_state=156)\n",
    "    dt_clf.fit(X_train_s,y_train)\n",
    "    pred= dt_clf.predict(X_test_s)\n",
    "    print('min_samples_leaf = {0} 정확도 : {1:.4f}'.format(i,accuracy_score(y_test,pred)))"
   ]
  }
 ],
 "metadata": {
  "kernelspec": {
   "display_name": "Python 3 (ipykernel)",
   "language": "python",
   "name": "python3"
  },
  "language_info": {
   "codemirror_mode": {
    "name": "ipython",
    "version": 3
   },
   "file_extension": ".py",
   "mimetype": "text/x-python",
   "name": "python",
   "nbconvert_exporter": "python",
   "pygments_lexer": "ipython3",
   "version": "3.9.17"
  }
 },
 "nbformat": 4,
 "nbformat_minor": 5
}
