{
 "cells": [
  {
   "cell_type": "code",
   "execution_count": 1,
   "id": "83184f71",
   "metadata": {
    "ExecuteTime": {
     "end_time": "2023-09-10T07:14:08.235205Z",
     "start_time": "2023-09-10T07:14:06.680964Z"
    },
    "id": "83184f71"
   },
   "outputs": [],
   "source": [
    "import pandas as pd\n",
    "import numpy as np\n",
    "from sklearn.model_selection import train_test_split\n",
    "from sklearn.tree import DecisionTreeClassifier\n",
    "from sklearn.preprocessing import LabelEncoder\n",
    "from sklearn.metrics import accuracy_score,confusion_matrix,classification_report"
   ]
  },
  {
   "cell_type": "markdown",
   "id": "fcb1b157",
   "metadata": {
    "id": "fcb1b157"
   },
   "source": [
    "### 문제 1\n",
    "호주 멜버른의 주택 가격 데이터셋 melb_data.csv으로 주택 가격을 예측하고,   \n",
    "각종 평가지표를 사용하여 결정트리 모델을 평가하세요."
   ]
  },
  {
   "cell_type": "markdown",
   "id": "4430a667",
   "metadata": {
    "id": "4430a667"
   },
   "source": [
    "#### Data Description\n",
    "\n",
    "* `Rooms`: 방 개수\n",
    "\n",
    "* `Price`: 가격(단위: $ 달러)\n",
    "\n",
    "* `Type`: 주택 유형   \n",
    "br - bedroom(s); h - house,cottage,villa, semi,terrace; u - unit, duplex; t - townhouse; dev site - development site; o res - other residential.\n",
    "\n",
    "* `Distance`: Distance from CBD(Central Business District : 도심 지역)\n",
    "\n",
    "* `Bedroom2` : Scraped # of Bedrooms (from different source) (주요 침실 개수)\n",
    "\n",
    "* `Bathroom`: Number of Bathrooms\n",
    "\n",
    "* `Car`: Number of carspots\n",
    "\n",
    "* `Landsize`: Land Size\n",
    "\n",
    "* `BuildingArea`: Building Size\n",
    "\n",
    "* `CouncilArea`: Governing council for the area\n"
   ]
  },
  {
   "cell_type": "markdown",
   "id": "f6f28d3b",
   "metadata": {
    "id": "f6f28d3b"
   },
   "source": [
    "우선 다음 코드들을 실행하여 melb_data변수명으로 데이터를 로드하고   \n",
    "결정트리 분석에 필요한 컬럼만 남기고 결손값을 처리합니다.      \n",
    "<span style='color:green'>(로컬 환경에 알맞게 file_path를 변경하세요)</span>\n",
    "      \n",
    "* feature 데이터 = [Rooms, Type, Distance, Bedroom2, Bathroom, Car, Landsize, BuildingArea, CouncilArea]   \n",
    "* label 데이터 = Price      \n",
    "   \n",
    "(Price 값이 양적 자료이기 때문에 분류보단 회귀방식의 모델이 더 적합하지만, 결정트리를 사용하기 위해 편의상 Price값을 사분위수에 따라 범주형 자료로 변환하여 사용합니다.)"
   ]
  },
  {
   "cell_type": "code",
   "execution_count": 2,
   "id": "7243bf4a",
   "metadata": {
    "ExecuteTime": {
     "end_time": "2023-09-10T07:15:10.514059Z",
     "start_time": "2023-09-10T07:15:10.443091Z"
    },
    "id": "7243bf4a"
   },
   "outputs": [],
   "source": [
    "#(문제 아님)\n",
    "file_path = '../../data/melb_data.csv'\n",
    "drop_columns=['Date','YearBuilt','Suburb','SellerG','Postcode','Address','Method','Lattitude','Longtitude','Propertycount']\n",
    "melb_data = pd.read_csv(file_path).drop(columns=drop_columns,axis=1)\n",
    "melb_data['CouncilArea'] = melb_data['CouncilArea'].fillna('Moreland')\n",
    "melb_data['BuildingArea'] = melb_data['BuildingArea'].fillna(melb_data['BuildingArea'].mean())\n",
    "melb_data['Car'] = melb_data['Car'].fillna(melb_data['Car'].median())"
   ]
  },
  {
   "cell_type": "code",
   "execution_count": 3,
   "id": "a2d93a04",
   "metadata": {
    "ExecuteTime": {
     "end_time": "2023-09-10T07:15:12.167833Z",
     "start_time": "2023-09-10T07:15:12.145254Z"
    },
    "colab": {
     "base_uri": "https://localhost:8080/"
    },
    "id": "a2d93a04",
    "outputId": "a9d74b4c-5a43-47fa-d99a-d5eef3d4abd0"
   },
   "outputs": [
    {
     "name": "stdout",
     "output_type": "stream",
     "text": [
      "<class 'pandas.core.frame.DataFrame'>\n",
      "RangeIndex: 13580 entries, 0 to 13579\n",
      "Data columns (total 11 columns):\n",
      " #   Column        Non-Null Count  Dtype  \n",
      "---  ------        --------------  -----  \n",
      " 0   Rooms         13580 non-null  int64  \n",
      " 1   Type          13580 non-null  object \n",
      " 2   Price         13580 non-null  float64\n",
      " 3   Distance      13580 non-null  float64\n",
      " 4   Bedroom2      13580 non-null  float64\n",
      " 5   Bathroom      13580 non-null  float64\n",
      " 6   Car           13580 non-null  float64\n",
      " 7   Landsize      13580 non-null  float64\n",
      " 8   BuildingArea  13580 non-null  float64\n",
      " 9   CouncilArea   13580 non-null  object \n",
      " 10  Regionname    13580 non-null  object \n",
      "dtypes: float64(7), int64(1), object(3)\n",
      "memory usage: 1.1+ MB\n"
     ]
    }
   ],
   "source": [
    "melb_data.info()"
   ]
  },
  {
   "cell_type": "markdown",
   "id": "d4334a1f",
   "metadata": {
    "id": "d4334a1f"
   },
   "source": [
    "LabelEncoder를 사용하여 인코딩을 합니다."
   ]
  },
  {
   "cell_type": "code",
   "execution_count": 4,
   "id": "938fd676",
   "metadata": {
    "ExecuteTime": {
     "end_time": "2023-09-10T07:15:14.632766Z",
     "start_time": "2023-09-10T07:15:14.619146Z"
    },
    "id": "938fd676"
   },
   "outputs": [],
   "source": [
    "#(문제 아님)\n",
    "categorical_features = [ 'Type', 'CouncilArea','Regionname']\n",
    "for col in categorical_features:\n",
    "    le = LabelEncoder()\n",
    "    melb_data[col] = le.fit_transform(melb_data[col])"
   ]
  },
  {
   "cell_type": "markdown",
   "id": "9e2d4f00",
   "metadata": {
    "id": "9e2d4f00"
   },
   "source": [
    "### 1-1 (5점) - 전처리\n",
    "label 데이터(target)로 Price 를 사용할 것입니다.   \n",
    "그러나 양적 자료인 Price를 결정트리에 알맞게 범주형 자료로 변형하기 위해서 사분위수(quartile)와 2차세션 복습과제 때 학습했던 Tukey Fences 개념을 활용할 것입니다.   \n",
    "아래 규칙과 같이 Price값을 바꾸세요.\n",
    "   \n",
    "   <span style='color:red'>[ 규칙 ]</span>\n",
    "* 0 이상, Q1 미만 : '0'\n",
    "* Q1 이상, Q2 미만 : '1'\n",
    "* Q2 이상, Q3 미만 : '2'\n",
    "* Q3 이상 : '3'\n",
    "      \n",
    "다음은 커스텀 함수 price_to_level()입니다. 위의 규칙에 맞게 빈칸을 알맞게 채우세요.   \n",
    "   (문제에 적힌 대로 함수를 작성하지 않아도 됩니다. 아래 함수 출력 결과(0 1 2 3)가 일치하기만 하면 됩니다.)"
   ]
  },
  {
   "cell_type": "code",
   "execution_count": 5,
   "id": "f28aaf8a",
   "metadata": {
    "ExecuteTime": {
     "end_time": "2023-09-10T07:15:17.102341Z",
     "start_time": "2023-09-10T07:15:16.928319Z"
    },
    "id": "f28aaf8a"
   },
   "outputs": [],
   "source": [
    "def price_to_level(prices): # prices : pd.Series객체로 전달해주세요\n",
    "    # 문제) 사분위수(Q1,Q2,Q3) 구하기\n",
    "    q1 = prices.quantile(0.25)\n",
    "    q2 = prices.quantile(0.5)\n",
    "    q3 = prices.quantile(0.75)\n",
    "\n",
    "    # 문제) 위의 규칙에 맞게 Price값에 따라 레벨로 변환하도록 코드를 작성하세요\n",
    "    p_levels = []\n",
    "\n",
    "    prices.reset_index()\n",
    "    for i in range(0, len(prices)):\n",
    "      if (prices[i] >= 0) & (prices[i] < q1):\n",
    "        p_levels.append(0)\n",
    "      elif (prices[i] >= q1) & (prices[i] < q2):\n",
    "        p_levels.append(1)\n",
    "      elif (prices[i] >= q2) & (prices[i] < q3):\n",
    "        p_levels.append(2)\n",
    "      else:\n",
    "        p_levels.append(3)\n",
    "\n",
    "    # Price_Level 데이터를 반환하세요.\n",
    "    return p_levels\n",
    "\n",
    "# price_to_level() 커스텀 함수를 사용하여 Price컬럼값을 변경합니다.\n",
    "melb_data['Price'] = price_to_level(melb_data['Price'])\n",
    "\n",
    "# 문제) Price 컬럼명을 PriceLevel로 변경하세요. (힌트: pandas의 rename() 사용)\n",
    "melb_data.rename(columns={'Price':'PriceLevel'}, inplace=True)"
   ]
  },
  {
   "cell_type": "markdown",
   "id": "a47e79c3",
   "metadata": {
    "id": "a47e79c3"
   },
   "source": [
    "아래 코드를 실행하여 데이터 변환이 제대로 이루어졌는지 확인하세요."
   ]
  },
  {
   "cell_type": "code",
   "execution_count": 6,
   "id": "dc3be5ea",
   "metadata": {
    "ExecuteTime": {
     "end_time": "2023-09-10T07:15:19.372186Z",
     "start_time": "2023-09-10T07:15:19.359483Z"
    },
    "colab": {
     "base_uri": "https://localhost:8080/"
    },
    "id": "dc3be5ea",
    "outputId": "ba1c8b7e-6af7-4484-b7df-80a0618a1caf"
   },
   "outputs": [
    {
     "name": "stdout",
     "output_type": "stream",
     "text": [
      "0 1 2 3\n"
     ]
    }
   ],
   "source": [
    "#(문제아님)\n",
    "### 간단하게 price_to_level() 커스텀 함수를 확인하세요 ###\n",
    "print(melb_data.loc[8,'PriceLevel'],melb_data.loc[3,'PriceLevel'],\n",
    "      melb_data.loc[1,'PriceLevel'],melb_data.loc[0,'PriceLevel'])\n",
    "### 출력 결과가 0 1 2 3 이면, 커스텀 함수를 올바르게 작성한 것입니다. ###"
   ]
  },
  {
   "cell_type": "markdown",
   "id": "9f1ef9ac",
   "metadata": {
    "id": "9f1ef9ac"
   },
   "source": [
    "### 1-2 (5점) - 정확도\n",
    "melb_data 를 train_test_split() 함수로 학습/테스트용 데이터로 분리하고, 간단하게 DecisionTreeClassifier 를 사용하여 모델을 학습하고 PriceLevel을 예측해보세요. 그리고 예측 결과의 정확도(accuracy)를 평가해서 소수점 5번째 자리에서 반올림하여 출력해보세요.   \n",
    "<span style='color:green'>(DecisionTreeClassfier 생성자 함수와 train_test_split의 random_state 파라미터값은 모두 10을 전달해주세요, test_size는 0.25로 설정해주세요.)</span>\n",
    "* features 데이터 : PriceLevel을 제외한 나머지 컬럼   \n",
    "* label 데이터 : PriceLevel 컬럼"
   ]
  },
  {
   "cell_type": "code",
   "execution_count": 7,
   "id": "e3b83d72",
   "metadata": {
    "ExecuteTime": {
     "end_time": "2023-09-10T07:15:21.931803Z",
     "start_time": "2023-09-10T07:15:21.831652Z"
    },
    "colab": {
     "base_uri": "https://localhost:8080/"
    },
    "id": "e3b83d72",
    "outputId": "4b9b5579-abf7-4062-b728-4432aefe2b8a"
   },
   "outputs": [
    {
     "name": "stdout",
     "output_type": "stream",
     "text": [
      "결정 트리 예측 정확도: 0.62356\n"
     ]
    }
   ],
   "source": [
    "# features 변수명에 해당 데이터를, label 변수명에 해당 데이터를 저장하고,\n",
    "# train_test_split()으로 데이터를 분리하세요.\n",
    "features = melb_data.drop(['PriceLevel'], axis=1)\n",
    "label = melb_data['PriceLevel']\n",
    "\n",
    "X_train, X_test, y_train, y_test = train_test_split(features, label, test_size=0.25, random_state=10)\n",
    "\n",
    "# 결정트리 객체를 생성하고 학습, 예측을 수행하세요. (예측값은 'pred' 변수명으로 저장하세요.)\n",
    "dt_clf = DecisionTreeClassifier(random_state=10)\n",
    "dt_clf.fit(X_train, y_train)\n",
    "pred = dt_clf.predict(X_test)\n",
    "\n",
    "# 예측 결과를 정확도로 평가하고 평가 결과를 위의 조건대로 반올림하여 출력하세요\n",
    "accuracy = accuracy_score(y_test, pred)\n",
    "print('결정 트리 예측 정확도: {0:.5f}'.format(accuracy))"
   ]
  },
  {
   "cell_type": "markdown",
   "id": "3d60a76e",
   "metadata": {
    "id": "3d60a76e"
   },
   "source": [
    "### 1-3 (40점) - 정밀도와 재현율\n",
    "위의 예측값(pred)과 실제값(y_test)을 토대로 confusion matrix를 구현해보세요.   (다중 분류일 때의 confusion matrix를 학습해봅시다)   \n",
    "다음과 같은 모양으로 DataFrame객체를 생성해서 출력해보세요.   \n",
    "   (개수는 해당 경우의 수를 의미)\n",
    "|          | 0 | 1 | 2 | 3 |\n",
    "|----------|----------|----------|----------|----------|\n",
    "| 0 | 개수 | 개수 |개수  |개수  |\n",
    "| 1 | 개수 | 개수 | 개수 | 개수 |\n",
    "| 2 | 개수 | 개수 | 개수 | 개수 |\n",
    "| 3 | 개수 | 개수 | 개수 | 개수 |"
   ]
  },
  {
   "cell_type": "markdown",
   "id": "51a3af1f",
   "metadata": {
    "id": "51a3af1f"
   },
   "source": [
    "**a)**\n",
    "sklearn.metrics의 confusion_matrix() 함수로 생성한 오차행렬을 cm 변수에 저장하고,\n",
    "이를 DataFrame객체로 변환해 위의 예시처럼 예쁘게 출력하세요.   \n",
    "**(5점)**"
   ]
  },
  {
   "cell_type": "code",
   "execution_count": 8,
   "id": "e94d9eee",
   "metadata": {
    "ExecuteTime": {
     "end_time": "2023-09-10T07:15:28.524494Z",
     "start_time": "2023-09-10T07:15:28.503354Z"
    },
    "colab": {
     "base_uri": "https://localhost:8080/",
     "height": 174
    },
    "id": "e94d9eee",
    "outputId": "3eb061c0-c67a-458e-eee3-11c89711bac2"
   },
   "outputs": [
    {
     "data": {
      "text/html": [
       "<div>\n",
       "<style scoped>\n",
       "    .dataframe tbody tr th:only-of-type {\n",
       "        vertical-align: middle;\n",
       "    }\n",
       "\n",
       "    .dataframe tbody tr th {\n",
       "        vertical-align: top;\n",
       "    }\n",
       "\n",
       "    .dataframe thead th {\n",
       "        text-align: right;\n",
       "    }\n",
       "</style>\n",
       "<table border=\"1\" class=\"dataframe\">\n",
       "  <thead>\n",
       "    <tr style=\"text-align: right;\">\n",
       "      <th></th>\n",
       "      <th>0</th>\n",
       "      <th>1</th>\n",
       "      <th>2</th>\n",
       "      <th>3</th>\n",
       "    </tr>\n",
       "  </thead>\n",
       "  <tbody>\n",
       "    <tr>\n",
       "      <th>0</th>\n",
       "      <td>649</td>\n",
       "      <td>183</td>\n",
       "      <td>22</td>\n",
       "      <td>4</td>\n",
       "    </tr>\n",
       "    <tr>\n",
       "      <th>1</th>\n",
       "      <td>175</td>\n",
       "      <td>434</td>\n",
       "      <td>186</td>\n",
       "      <td>45</td>\n",
       "    </tr>\n",
       "    <tr>\n",
       "      <th>2</th>\n",
       "      <td>32</td>\n",
       "      <td>186</td>\n",
       "      <td>450</td>\n",
       "      <td>196</td>\n",
       "    </tr>\n",
       "    <tr>\n",
       "      <th>3</th>\n",
       "      <td>8</td>\n",
       "      <td>31</td>\n",
       "      <td>210</td>\n",
       "      <td>584</td>\n",
       "    </tr>\n",
       "  </tbody>\n",
       "</table>\n",
       "</div>"
      ],
      "text/plain": [
       "     0    1    2    3\n",
       "0  649  183   22    4\n",
       "1  175  434  186   45\n",
       "2   32  186  450  196\n",
       "3    8   31  210  584"
      ]
     },
     "execution_count": 8,
     "metadata": {},
     "output_type": "execute_result"
    }
   ],
   "source": [
    "classes = ['0', '1', '2', '3'] # 레이블 클래스\n",
    "# 변수 cm에 confusion_matrix를 저장하세요\n",
    "cm = confusion_matrix(y_test, pred)\n",
    "\n",
    "# pandas DataFrame으로 변환하여 예쁘게 출력하세요\n",
    "cm_df = pd.DataFrame(cm)\n",
    "cm_df"
   ]
  },
  {
   "cell_type": "markdown",
   "id": "0cdbe7ee",
   "metadata": {
    "id": "0cdbe7ee"
   },
   "source": [
    "####  직접 재현율(recall)과 정밀도(precision)를 구해서 확인해보세요\n",
    "힌트: 다중분류의 confusion matrix를 학습하고 macro-averaging과 micro-averaging을 학습하세요."
   ]
  },
  {
   "cell_type": "markdown",
   "id": "7a66f53a",
   "metadata": {
    "id": "7a66f53a"
   },
   "source": [
    "**b)** macro-averaging(macro-mean) 방식을 사용하여 macro_precision과 macro_recall 값을 구하고 출력하세요.   \n",
    "(반복문을 사용하여 해결하세요, 변수명도 각각 macro_precision과 macro_recall을 사용하세요.)      \n",
    "**(13점)**"
   ]
  },
  {
   "cell_type": "code",
   "execution_count": 9,
   "id": "ff6e661d",
   "metadata": {
    "ExecuteTime": {
     "end_time": "2023-09-10T07:15:32.196352Z",
     "start_time": "2023-09-10T07:15:32.179398Z"
    },
    "colab": {
     "base_uri": "https://localhost:8080/"
    },
    "id": "ff6e661d",
    "outputId": "5ebf3262-a52c-46c3-8356-15ae72a38bba"
   },
   "outputs": [
    {
     "name": "stdout",
     "output_type": "stream",
     "text": [
      "다중 분류 PriceLevel 정밀도: 0.6236\n",
      "다중 분류 PriceLevel 재현율: 0.6237\n"
     ]
    }
   ],
   "source": [
    "precision_by_class = []\n",
    "recall_by_class = []\n",
    "TP_by_class = []\n",
    "FP_by_class = []\n",
    "FN_by_class = []\n",
    "\n",
    "for i in range(0, cm_df.shape[0]):\n",
    "  TP = cm_df.iloc[i, i]\n",
    "  FP = cm_df.iloc[:, i].sum() - TP\n",
    "  FN = cm_df.iloc[i, :].sum() - TP\n",
    "  precision = TP/(TP+FP)\n",
    "  recall = TP/(TP+FN)\n",
    "  precision_by_class.append(precision)\n",
    "  recall_by_class.append(recall)\n",
    "  TP_by_class.append(TP)\n",
    "  FP_by_class.append(FP)\n",
    "  FN_by_class.append(FN)\n",
    "\n",
    "macro_precision = np.mean(precision_by_class)\n",
    "macro_recall = np.mean(recall_by_class)\n",
    "\n",
    "print('다중 분류 PriceLevel 정밀도: {0:.4f}'.format(macro_precision))\n",
    "print('다중 분류 PriceLevel 재현율: {0:.4f}'.format(macro_recall))"
   ]
  },
  {
   "cell_type": "markdown",
   "id": "6a764bec",
   "metadata": {
    "id": "6a764bec"
   },
   "source": [
    "**c)** micro-averaging 방식을 사용하여 micro_precision과 micro_recall 값을 구하고 출력하세요.   \n",
    "(변수명도 각각 micro_precision과 micro_recall을 사용하세요.)   \n",
    "(힌트: 위의 반복문에서 미리 TP,FP,FN들을 저장하면 여기선 계산만 하면 됩니다.)   \n",
    "**(13점)**"
   ]
  },
  {
   "cell_type": "code",
   "execution_count": 10,
   "id": "877cc8cb",
   "metadata": {
    "ExecuteTime": {
     "end_time": "2023-09-10T07:15:52.401726Z",
     "start_time": "2023-09-10T07:15:52.395226Z"
    },
    "colab": {
     "base_uri": "https://localhost:8080/"
    },
    "id": "877cc8cb",
    "outputId": "36a6583f-8733-4501-b0b3-1956bbb9f817"
   },
   "outputs": [
    {
     "name": "stdout",
     "output_type": "stream",
     "text": [
      "다중 분류 PriceLevel 정밀도: 0.6236\n",
      "다중 분류 PriceLevel 재현율: 0.6236\n"
     ]
    }
   ],
   "source": [
    "TP_total = sum(TP_by_class)\n",
    "FP_total = sum(FP_by_class)\n",
    "FN_total = sum(FN_by_class)\n",
    "\n",
    "micro_precision = TP_total/(TP_total+FP_total)\n",
    "micro_recall = TP_total/(TP_total+FN_total)\n",
    "\n",
    "print('다중 분류 PriceLevel 정밀도: {0:.4f}'.format(micro_precision))\n",
    "print('다중 분류 PriceLevel 재현율: {0:.4f}'.format(micro_recall))"
   ]
  },
  {
   "cell_type": "markdown",
   "id": "d1a80ddb",
   "metadata": {
    "id": "d1a80ddb"
   },
   "source": [
    "**d)** sklearn.metrics의 classification_report() 함수를 사용하여 구한 평가지표 결과를 clf_report 변수에 저장하세요  \n",
    "그리고 해당 변수를 DataFrame 객체로 변환하여 출력하세요.   \n",
    "(힌트 : classification_report()함수의 파라미터들을 학습하고 데이터프레임 객체로 쉽게 변환하는 방법을 찾아보세요)   \n",
    "**(4점)**"
   ]
  },
  {
   "cell_type": "code",
   "execution_count": 11,
   "id": "da0dc993",
   "metadata": {
    "ExecuteTime": {
     "end_time": "2023-09-10T07:16:04.644143Z",
     "start_time": "2023-09-10T07:16:04.620433Z"
    },
    "colab": {
     "base_uri": "https://localhost:8080/",
     "height": 269
    },
    "id": "da0dc993",
    "outputId": "109a87df-92a6-4471-e992-9e43e766e560"
   },
   "outputs": [
    {
     "data": {
      "text/html": [
       "<div>\n",
       "<style scoped>\n",
       "    .dataframe tbody tr th:only-of-type {\n",
       "        vertical-align: middle;\n",
       "    }\n",
       "\n",
       "    .dataframe tbody tr th {\n",
       "        vertical-align: top;\n",
       "    }\n",
       "\n",
       "    .dataframe thead th {\n",
       "        text-align: right;\n",
       "    }\n",
       "</style>\n",
       "<table border=\"1\" class=\"dataframe\">\n",
       "  <thead>\n",
       "    <tr style=\"text-align: right;\">\n",
       "      <th></th>\n",
       "      <th>precision</th>\n",
       "      <th>recall</th>\n",
       "      <th>f1-score</th>\n",
       "      <th>support</th>\n",
       "    </tr>\n",
       "  </thead>\n",
       "  <tbody>\n",
       "    <tr>\n",
       "      <th>0</th>\n",
       "      <td>0.751157</td>\n",
       "      <td>0.756410</td>\n",
       "      <td>0.753775</td>\n",
       "      <td>858.000000</td>\n",
       "    </tr>\n",
       "    <tr>\n",
       "      <th>1</th>\n",
       "      <td>0.520384</td>\n",
       "      <td>0.516667</td>\n",
       "      <td>0.518519</td>\n",
       "      <td>840.000000</td>\n",
       "    </tr>\n",
       "    <tr>\n",
       "      <th>2</th>\n",
       "      <td>0.518433</td>\n",
       "      <td>0.520833</td>\n",
       "      <td>0.519630</td>\n",
       "      <td>864.000000</td>\n",
       "    </tr>\n",
       "    <tr>\n",
       "      <th>3</th>\n",
       "      <td>0.704463</td>\n",
       "      <td>0.701080</td>\n",
       "      <td>0.702768</td>\n",
       "      <td>833.000000</td>\n",
       "    </tr>\n",
       "    <tr>\n",
       "      <th>accuracy</th>\n",
       "      <td>0.623564</td>\n",
       "      <td>0.623564</td>\n",
       "      <td>0.623564</td>\n",
       "      <td>0.623564</td>\n",
       "    </tr>\n",
       "    <tr>\n",
       "      <th>macro avg</th>\n",
       "      <td>0.623609</td>\n",
       "      <td>0.623748</td>\n",
       "      <td>0.623673</td>\n",
       "      <td>3395.000000</td>\n",
       "    </tr>\n",
       "    <tr>\n",
       "      <th>weighted avg</th>\n",
       "      <td>0.623375</td>\n",
       "      <td>0.623564</td>\n",
       "      <td>0.623464</td>\n",
       "      <td>3395.000000</td>\n",
       "    </tr>\n",
       "  </tbody>\n",
       "</table>\n",
       "</div>"
      ],
      "text/plain": [
       "              precision    recall  f1-score      support\n",
       "0              0.751157  0.756410  0.753775   858.000000\n",
       "1              0.520384  0.516667  0.518519   840.000000\n",
       "2              0.518433  0.520833  0.519630   864.000000\n",
       "3              0.704463  0.701080  0.702768   833.000000\n",
       "accuracy       0.623564  0.623564  0.623564     0.623564\n",
       "macro avg      0.623609  0.623748  0.623673  3395.000000\n",
       "weighted avg   0.623375  0.623564  0.623464  3395.000000"
      ]
     },
     "execution_count": 11,
     "metadata": {},
     "output_type": "execute_result"
    }
   ],
   "source": [
    "# classification_report를 변수에 저장하고 DataFrame으로 변환하여 출력하세요.\n",
    "clf_report = classification_report(y_test, pred, output_dict=True)\n",
    "clf_report = pd.DataFrame(clf_report).T\n",
    "clf_report"
   ]
  },
  {
   "cell_type": "markdown",
   "id": "7ea60c15",
   "metadata": {
    "id": "7ea60c15"
   },
   "source": [
    "**e)** 위에서 직접 구한 macro_precision, macro_recall, micro_precision, micro_recall값이 clf_report의 내용과 같은지 소수점 4번째 자리까지 비교하여 출력하세요.\n",
    "* 출력용 코드 예시   \n",
    "<code>print('[Macro_P] my_score:{:.4f}, report_score:{:.4f}'.format(macro_precision,report_mac_precision))</code>   \n",
    "<code>print('[Macro_R] my_score:{:.4f}, report_score:{:.4f}'.format(macro_recall,report_mac_recall))</code>   \n",
    "<code>print('[Micro_P] my_score:{:.4f}, report_score:{:.4f}'.format(micro_precision,report_mic_precision))</code>   \n",
    "<code>print('[Micro_R] my_score:{:.4f}, report_score:{:.4f}'.format(micro_recall,report_mic_recall))</code>\n",
    "      \n",
    "(힌트: classification_report를 출력해보면 micro averaging한 데이터가 없다! 그러나 micro averaging의 수식을 잘 살펴보면 어떤 평가지표와 의미가 같다는 사실을 알 수 있다.)   \n",
    "**(5점)**"
   ]
  },
  {
   "cell_type": "code",
   "execution_count": null,
   "id": "446a840c",
   "metadata": {
    "id": "446a840c"
   },
   "outputs": [],
   "source": [
    "# 위의 출력 코드 예시를 활용해서 각 평가 결과값들을 비교하여 출력하세요\n"
   ]
  },
  {
   "cell_type": "markdown",
   "id": "e3538fe9",
   "metadata": {
    "id": "e3538fe9"
   },
   "source": [
    "### 문제2 (50점)\n",
    "위스콘신 유방암 데이터 세트는 종양의 크기, 모양 등의 다양한 속성 값을 기반으로 해당 종양이 악성인지 양성인지를 분류한 데이터 세트입니다. 종양의 양성 여부는 class 컬럼에서 확인할 수 있으며, 양성은 2, 악성은 4로 표시되어 있습니다.  "
   ]
  },
  {
   "cell_type": "markdown",
   "id": "8757f879",
   "metadata": {
    "id": "8757f879"
   },
   "source": [
    "아래의 코드를 실행해주세요."
   ]
  },
  {
   "cell_type": "code",
   "execution_count": 12,
   "id": "bf61b561",
   "metadata": {
    "ExecuteTime": {
     "end_time": "2023-09-10T08:06:48.003594Z",
     "start_time": "2023-09-10T08:06:47.229604Z"
    },
    "id": "bf61b561"
   },
   "outputs": [],
   "source": [
    "import numpy as np\n",
    "import pandas as pd\n",
    "import matplotlib.pyplot as plt\n",
    "%matplotlib inline\n",
    "from sklearn import model_selection\n",
    "from sklearn.linear_model import LogisticRegression\n",
    "from sklearn.preprocessing import StandardScaler\n",
    "from sklearn import metrics\n",
    "from sklearn.model_selection import train_test_split\n",
    "from sklearn.metrics import accuracy_score, precision_score, recall_score, roc_auc_score\n",
    "from sklearn.metrics import f1_score, confusion_matrix, precision_recall_curve, roc_curve\n",
    "from sklearn.metrics import roc_auc_score"
   ]
  },
  {
   "cell_type": "markdown",
   "id": "6c5aa844",
   "metadata": {
    "id": "6c5aa844"
   },
   "source": [
    "2-1. *breast_cancer* 데이터셋을 데이터프레임으로 불러온 후 df 변수에 저장해주세요. 상위 5개의 행을 확인할 수 있도록 출력해주세요.  **(3점)**  \n",
    "(데이터셋의 첫 번째, 두 번째 열을 삭제한 후, 아래의 사진과 같은 결과가 나오도록 출력해주세요.)\n",
    "![image-2.png](attachment:image-2.png)"
   ]
  },
  {
   "cell_type": "code",
   "execution_count": 13,
   "id": "c8247b67",
   "metadata": {
    "ExecuteTime": {
     "end_time": "2023-09-10T08:06:53.911121Z",
     "start_time": "2023-09-10T08:06:53.892631Z"
    },
    "colab": {
     "base_uri": "https://localhost:8080/",
     "height": 206
    },
    "id": "c8247b67",
    "outputId": "39082c60-0816-42cf-a552-33fb2e1d9aef"
   },
   "outputs": [
    {
     "data": {
      "text/html": [
       "<div>\n",
       "<style scoped>\n",
       "    .dataframe tbody tr th:only-of-type {\n",
       "        vertical-align: middle;\n",
       "    }\n",
       "\n",
       "    .dataframe tbody tr th {\n",
       "        vertical-align: top;\n",
       "    }\n",
       "\n",
       "    .dataframe thead th {\n",
       "        text-align: right;\n",
       "    }\n",
       "</style>\n",
       "<table border=\"1\" class=\"dataframe\">\n",
       "  <thead>\n",
       "    <tr style=\"text-align: right;\">\n",
       "      <th></th>\n",
       "      <th>Unnamed: 0</th>\n",
       "      <th>0</th>\n",
       "      <th>1</th>\n",
       "      <th>2</th>\n",
       "      <th>3</th>\n",
       "      <th>4</th>\n",
       "      <th>5</th>\n",
       "      <th>6</th>\n",
       "      <th>7</th>\n",
       "      <th>8</th>\n",
       "      <th>9</th>\n",
       "      <th>10</th>\n",
       "    </tr>\n",
       "  </thead>\n",
       "  <tbody>\n",
       "    <tr>\n",
       "      <th>0</th>\n",
       "      <td>0</td>\n",
       "      <td>1000025</td>\n",
       "      <td>5</td>\n",
       "      <td>1</td>\n",
       "      <td>1</td>\n",
       "      <td>1</td>\n",
       "      <td>2</td>\n",
       "      <td>1</td>\n",
       "      <td>3</td>\n",
       "      <td>1</td>\n",
       "      <td>1</td>\n",
       "      <td>2</td>\n",
       "    </tr>\n",
       "    <tr>\n",
       "      <th>1</th>\n",
       "      <td>1</td>\n",
       "      <td>1002945</td>\n",
       "      <td>5</td>\n",
       "      <td>4</td>\n",
       "      <td>4</td>\n",
       "      <td>5</td>\n",
       "      <td>7</td>\n",
       "      <td>10</td>\n",
       "      <td>3</td>\n",
       "      <td>2</td>\n",
       "      <td>1</td>\n",
       "      <td>2</td>\n",
       "    </tr>\n",
       "    <tr>\n",
       "      <th>2</th>\n",
       "      <td>2</td>\n",
       "      <td>1015425</td>\n",
       "      <td>3</td>\n",
       "      <td>1</td>\n",
       "      <td>1</td>\n",
       "      <td>1</td>\n",
       "      <td>2</td>\n",
       "      <td>2</td>\n",
       "      <td>3</td>\n",
       "      <td>1</td>\n",
       "      <td>1</td>\n",
       "      <td>2</td>\n",
       "    </tr>\n",
       "    <tr>\n",
       "      <th>3</th>\n",
       "      <td>3</td>\n",
       "      <td>1016277</td>\n",
       "      <td>6</td>\n",
       "      <td>8</td>\n",
       "      <td>8</td>\n",
       "      <td>1</td>\n",
       "      <td>3</td>\n",
       "      <td>4</td>\n",
       "      <td>3</td>\n",
       "      <td>7</td>\n",
       "      <td>1</td>\n",
       "      <td>2</td>\n",
       "    </tr>\n",
       "    <tr>\n",
       "      <th>4</th>\n",
       "      <td>4</td>\n",
       "      <td>1017023</td>\n",
       "      <td>4</td>\n",
       "      <td>1</td>\n",
       "      <td>1</td>\n",
       "      <td>3</td>\n",
       "      <td>2</td>\n",
       "      <td>1</td>\n",
       "      <td>3</td>\n",
       "      <td>1</td>\n",
       "      <td>1</td>\n",
       "      <td>2</td>\n",
       "    </tr>\n",
       "  </tbody>\n",
       "</table>\n",
       "</div>"
      ],
      "text/plain": [
       "   Unnamed: 0        0  1  2  3  4  5   6  7  8  9  10\n",
       "0           0  1000025  5  1  1  1  2   1  3  1  1   2\n",
       "1           1  1002945  5  4  4  5  7  10  3  2  1   2\n",
       "2           2  1015425  3  1  1  1  2   2  3  1  1   2\n",
       "3           3  1016277  6  8  8  1  3   4  3  7  1   2\n",
       "4           4  1017023  4  1  1  3  2   1  3  1  1   2"
      ]
     },
     "execution_count": 13,
     "metadata": {},
     "output_type": "execute_result"
    }
   ],
   "source": [
    "df = pd.read_csv('../../data/breast_cancer.csv')\n",
    "df.head()"
   ]
  },
  {
   "cell_type": "code",
   "execution_count": 14,
   "id": "0dab5f34",
   "metadata": {
    "ExecuteTime": {
     "end_time": "2023-09-10T08:06:55.590774Z",
     "start_time": "2023-09-10T08:06:55.577227Z"
    },
    "id": "0dab5f34"
   },
   "outputs": [],
   "source": [
    "# df 데이터셋의 첫 번째, 두 번째 열을 삭제해주세요.\n",
    "df.drop(['Unnamed: 0', '0'], axis=1, inplace=True)"
   ]
  },
  {
   "cell_type": "markdown",
   "id": "c26d3376",
   "metadata": {
    "id": "c26d3376"
   },
   "source": [
    "2-2. 아래의 colums_name 변수를 활용하여 0~10까지의 숫자로 되어 있는 컬럼명을 변경해주세요. **(3점)**  \n",
    "(각각의 컬럼과 columns_name 변수 안의 컬럼명의 순서는 동일합니다. 아래의 사진과 같은 데이터셋의 형태를 띌 수 있도록 컬럼명을 변경해주세요. 아래의 columns_name 변수를 복사해서 코드를 작성해주세요.)\n",
    "\n",
    "columns_name = ['clump', 'cell_size', 'cell_shape', 'adhesion', 'epithlial', 'bare_nuclei',\n",
    "                'chromatin', 'normal_nucleoli', 'mitoses', 'class']\n",
    "![image.png](attachment:image.png)"
   ]
  },
  {
   "cell_type": "code",
   "execution_count": 15,
   "id": "d46d9f5d",
   "metadata": {
    "ExecuteTime": {
     "end_time": "2023-09-10T08:06:56.837771Z",
     "start_time": "2023-09-10T08:06:56.811626Z"
    },
    "colab": {
     "base_uri": "https://localhost:8080/",
     "height": 206
    },
    "id": "d46d9f5d",
    "outputId": "a2cf1184-a432-4db7-9266-51da2362c34b"
   },
   "outputs": [
    {
     "data": {
      "text/html": [
       "<div>\n",
       "<style scoped>\n",
       "    .dataframe tbody tr th:only-of-type {\n",
       "        vertical-align: middle;\n",
       "    }\n",
       "\n",
       "    .dataframe tbody tr th {\n",
       "        vertical-align: top;\n",
       "    }\n",
       "\n",
       "    .dataframe thead th {\n",
       "        text-align: right;\n",
       "    }\n",
       "</style>\n",
       "<table border=\"1\" class=\"dataframe\">\n",
       "  <thead>\n",
       "    <tr style=\"text-align: right;\">\n",
       "      <th></th>\n",
       "      <th>clump</th>\n",
       "      <th>cell_size</th>\n",
       "      <th>cell_shape</th>\n",
       "      <th>adhesion</th>\n",
       "      <th>epithlial</th>\n",
       "      <th>bare_nuclei</th>\n",
       "      <th>chromatin</th>\n",
       "      <th>normal_nucleoli</th>\n",
       "      <th>mitoses</th>\n",
       "      <th>class</th>\n",
       "    </tr>\n",
       "  </thead>\n",
       "  <tbody>\n",
       "    <tr>\n",
       "      <th>0</th>\n",
       "      <td>5</td>\n",
       "      <td>1</td>\n",
       "      <td>1</td>\n",
       "      <td>1</td>\n",
       "      <td>2</td>\n",
       "      <td>1</td>\n",
       "      <td>3</td>\n",
       "      <td>1</td>\n",
       "      <td>1</td>\n",
       "      <td>2</td>\n",
       "    </tr>\n",
       "    <tr>\n",
       "      <th>1</th>\n",
       "      <td>5</td>\n",
       "      <td>4</td>\n",
       "      <td>4</td>\n",
       "      <td>5</td>\n",
       "      <td>7</td>\n",
       "      <td>10</td>\n",
       "      <td>3</td>\n",
       "      <td>2</td>\n",
       "      <td>1</td>\n",
       "      <td>2</td>\n",
       "    </tr>\n",
       "    <tr>\n",
       "      <th>2</th>\n",
       "      <td>3</td>\n",
       "      <td>1</td>\n",
       "      <td>1</td>\n",
       "      <td>1</td>\n",
       "      <td>2</td>\n",
       "      <td>2</td>\n",
       "      <td>3</td>\n",
       "      <td>1</td>\n",
       "      <td>1</td>\n",
       "      <td>2</td>\n",
       "    </tr>\n",
       "    <tr>\n",
       "      <th>3</th>\n",
       "      <td>6</td>\n",
       "      <td>8</td>\n",
       "      <td>8</td>\n",
       "      <td>1</td>\n",
       "      <td>3</td>\n",
       "      <td>4</td>\n",
       "      <td>3</td>\n",
       "      <td>7</td>\n",
       "      <td>1</td>\n",
       "      <td>2</td>\n",
       "    </tr>\n",
       "    <tr>\n",
       "      <th>4</th>\n",
       "      <td>4</td>\n",
       "      <td>1</td>\n",
       "      <td>1</td>\n",
       "      <td>3</td>\n",
       "      <td>2</td>\n",
       "      <td>1</td>\n",
       "      <td>3</td>\n",
       "      <td>1</td>\n",
       "      <td>1</td>\n",
       "      <td>2</td>\n",
       "    </tr>\n",
       "  </tbody>\n",
       "</table>\n",
       "</div>"
      ],
      "text/plain": [
       "   clump  cell_size  cell_shape  adhesion  epithlial bare_nuclei  chromatin  \\\n",
       "0      5          1           1         1          2           1          3   \n",
       "1      5          4           4         5          7          10          3   \n",
       "2      3          1           1         1          2           2          3   \n",
       "3      6          8           8         1          3           4          3   \n",
       "4      4          1           1         3          2           1          3   \n",
       "\n",
       "   normal_nucleoli  mitoses  class  \n",
       "0                1        1      2  \n",
       "1                2        1      2  \n",
       "2                1        1      2  \n",
       "3                7        1      2  \n",
       "4                1        1      2  "
      ]
     },
     "execution_count": 15,
     "metadata": {},
     "output_type": "execute_result"
    }
   ],
   "source": [
    "columns_name = ['clump', 'cell_size', 'cell_shape', 'adhesion', 'epithlial', 'bare_nuclei',\n",
    "                'chromatin', 'normal_nucleoli', 'mitoses', 'class']\n",
    "\n",
    "for i in range(0, len(columns_name)):\n",
    "  df.rename(columns={str(i+1):columns_name[i]}, inplace=True)\n",
    "\n",
    "df.head()"
   ]
  },
  {
   "cell_type": "markdown",
   "id": "568e6250",
   "metadata": {
    "id": "568e6250"
   },
   "source": [
    "2-3. 다음의 설명에 따라 전처리를 진행해주세요. **(6점)**"
   ]
  },
  {
   "cell_type": "code",
   "execution_count": 16,
   "id": "8c66f338",
   "metadata": {
    "ExecuteTime": {
     "end_time": "2023-09-10T08:06:58.833866Z",
     "start_time": "2023-09-10T08:06:58.815866Z"
    },
    "colab": {
     "base_uri": "https://localhost:8080/"
    },
    "id": "8c66f338",
    "outputId": "26bafc0c-1f12-4680-a164-70b43e174962"
   },
   "outputs": [
    {
     "name": "stdout",
     "output_type": "stream",
     "text": [
      "<class 'pandas.core.frame.DataFrame'>\n",
      "RangeIndex: 699 entries, 0 to 698\n",
      "Data columns (total 10 columns):\n",
      " #   Column           Non-Null Count  Dtype \n",
      "---  ------           --------------  ----- \n",
      " 0   clump            699 non-null    int64 \n",
      " 1   cell_size        699 non-null    int64 \n",
      " 2   cell_shape       699 non-null    int64 \n",
      " 3   adhesion         699 non-null    int64 \n",
      " 4   epithlial        699 non-null    int64 \n",
      " 5   bare_nuclei      699 non-null    object\n",
      " 6   chromatin        699 non-null    int64 \n",
      " 7   normal_nucleoli  699 non-null    int64 \n",
      " 8   mitoses          699 non-null    int64 \n",
      " 9   class            699 non-null    int64 \n",
      "dtypes: int64(9), object(1)\n",
      "memory usage: 54.7+ KB\n"
     ]
    }
   ],
   "source": [
    "# info를 활용하여 데이터타입을 확인해주세요.\n",
    "df.info()"
   ]
  },
  {
   "cell_type": "code",
   "execution_count": 17,
   "id": "8be7244c",
   "metadata": {
    "ExecuteTime": {
     "end_time": "2023-09-10T08:06:59.985649Z",
     "start_time": "2023-09-10T08:06:59.968407Z"
    },
    "colab": {
     "base_uri": "https://localhost:8080/"
    },
    "id": "8be7244c",
    "outputId": "7de55782-ba46-49d3-e06d-b59457fd567c"
   },
   "outputs": [
    {
     "data": {
      "text/plain": [
       "bare_nuclei\n",
       "1     402\n",
       "10    132\n",
       "2      30\n",
       "5      30\n",
       "3      28\n",
       "8      21\n",
       "4      19\n",
       "?      16\n",
       "9       9\n",
       "7       8\n",
       "6       4\n",
       "Name: count, dtype: int64"
      ]
     },
     "execution_count": 17,
     "metadata": {},
     "output_type": "execute_result"
    }
   ],
   "source": [
    "# df 데이터 중 bare_nuclei 컬럼의 값 분포를 확인해주세요. (value_counts 활용)\n",
    "df['bare_nuclei'].value_counts()"
   ]
  },
  {
   "cell_type": "code",
   "execution_count": 18,
   "id": "43d08b25",
   "metadata": {
    "ExecuteTime": {
     "end_time": "2023-09-10T08:07:01.781281Z",
     "start_time": "2023-09-10T08:07:01.773767Z"
    },
    "id": "43d08b25"
   },
   "outputs": [],
   "source": [
    "# 'bare_nuclei'컬럼에 있는 값 중'?'를 'bare_nuclei' 컬럼의 최빈값으로 바꿔주세요.\n",
    "df['bare_nuclei'].replace('?', df['bare_nuclei'].mode()[0], inplace=True)"
   ]
  },
  {
   "cell_type": "code",
   "execution_count": 19,
   "id": "c4e80750",
   "metadata": {
    "ExecuteTime": {
     "end_time": "2023-09-10T08:07:03.202384Z",
     "start_time": "2023-09-10T08:07:03.193903Z"
    },
    "colab": {
     "base_uri": "https://localhost:8080/"
    },
    "id": "c4e80750",
    "outputId": "edb57644-8254-40d2-f704-01b1d446b5a0"
   },
   "outputs": [
    {
     "data": {
      "text/plain": [
       "0       1\n",
       "1      10\n",
       "2       2\n",
       "3       4\n",
       "4       1\n",
       "       ..\n",
       "694     2\n",
       "695     1\n",
       "696     3\n",
       "697     4\n",
       "698     5\n",
       "Name: bare_nuclei, Length: 699, dtype: int32"
      ]
     },
     "execution_count": 19,
     "metadata": {},
     "output_type": "execute_result"
    }
   ],
   "source": [
    "# 'bare_nuclei'컬럼의 데이터 타입을 숫자형(int)으로 바꿔주세요.\n",
    "df['bare_nuclei'].astype(int)"
   ]
  },
  {
   "cell_type": "code",
   "execution_count": 20,
   "id": "1d739a43",
   "metadata": {
    "ExecuteTime": {
     "end_time": "2023-09-10T08:07:35.393747Z",
     "start_time": "2023-09-10T08:07:35.380352Z"
    },
    "id": "1d739a43"
   },
   "outputs": [],
   "source": [
    "# 양성은 2, 악성은 4로 표시되어 있는 df['class'] 값 중 2(양성)는 숫자 0으로, 4(음성)는 숫자 1로 바꿔주세요.\n",
    "df['class'].replace({2:0, 4:1}, inplace=True)"
   ]
  },
  {
   "cell_type": "markdown",
   "id": "00404afd",
   "metadata": {
    "id": "00404afd"
   },
   "source": [
    "2-4. 아래의 설명에 따라 데이터를 분리해주세요. **(3점)**"
   ]
  },
  {
   "cell_type": "code",
   "execution_count": 21,
   "id": "f47e3781",
   "metadata": {
    "ExecuteTime": {
     "end_time": "2023-09-10T08:07:37.677971Z",
     "start_time": "2023-09-10T08:07:37.664263Z"
    },
    "id": "f47e3781"
   },
   "outputs": [],
   "source": [
    "# 피처 데이터 세트 x, 레이블 데이터 세트 y를 추출해주세요. (레이블 데이터는 class컬럼에 담겨있습니다.)\n",
    "x = df.drop(['class'], axis=1)\n",
    "y = df['class']"
   ]
  },
  {
   "cell_type": "markdown",
   "id": "2a3b525d",
   "metadata": {
    "id": "2a3b525d"
   },
   "source": [
    "2-5. StandardScaler를 활용하여 개별 피처의 평균이 0이고, 분산이 1인 값으로 변환해주세요. 또한, 변환된 데이터 세트를 DataFrame으로 변환해 data_df라는 변수에 저장해주세요. data_df 데이터프레임의 컬럼명은 아래의 columns_name2 변수를 그대로 활용하여 설정해주세요. **(8점)**  \n",
    "columns_name2 = ['clump', 'cell_size', 'cell_shape', 'adhesion', 'epithlial', 'bare_nuclei',\n",
    "                'chromatin', 'normal_nucleoli', 'mitoses']\n",
    "\n",
    "(columns_name2 변수에 담겨있는 컬럼명의 순서와 데이터프레임 각 열의 순서는 동일하기 때문에 columns_name2 변수를 수정할 필요는 없습니다.)"
   ]
  },
  {
   "cell_type": "code",
   "execution_count": 22,
   "id": "c6762f3f",
   "metadata": {
    "ExecuteTime": {
     "end_time": "2023-09-10T08:07:39.082081Z",
     "start_time": "2023-09-10T08:07:39.062428Z"
    },
    "id": "c6762f3f"
   },
   "outputs": [],
   "source": [
    "# StandardScaler 객체 생성\n",
    "from sklearn.preprocessing import StandardScaler\n",
    "scaler = StandardScaler()\n",
    "\n",
    "# StandardScaler로 데이터 세트 변환. fit()과 transform() 호출\n",
    "scaler.fit(x)\n",
    "x_scaled = scaler.transform(x)"
   ]
  },
  {
   "cell_type": "code",
   "execution_count": 23,
   "id": "fad86cea",
   "metadata": {
    "ExecuteTime": {
     "end_time": "2023-09-10T08:07:40.558532Z",
     "start_time": "2023-09-10T08:07:40.540189Z"
    },
    "colab": {
     "base_uri": "https://localhost:8080/",
     "height": 206
    },
    "id": "fad86cea",
    "outputId": "d3a26cde-d496-413f-be39-aa02b8120a8f"
   },
   "outputs": [
    {
     "data": {
      "text/html": [
       "<div>\n",
       "<style scoped>\n",
       "    .dataframe tbody tr th:only-of-type {\n",
       "        vertical-align: middle;\n",
       "    }\n",
       "\n",
       "    .dataframe tbody tr th {\n",
       "        vertical-align: top;\n",
       "    }\n",
       "\n",
       "    .dataframe thead th {\n",
       "        text-align: right;\n",
       "    }\n",
       "</style>\n",
       "<table border=\"1\" class=\"dataframe\">\n",
       "  <thead>\n",
       "    <tr style=\"text-align: right;\">\n",
       "      <th></th>\n",
       "      <th>clump</th>\n",
       "      <th>cell_size</th>\n",
       "      <th>cell_shape</th>\n",
       "      <th>adhesion</th>\n",
       "      <th>epithlial</th>\n",
       "      <th>bare_nuclei</th>\n",
       "      <th>chromatin</th>\n",
       "      <th>normal_nucleoli</th>\n",
       "      <th>mitoses</th>\n",
       "    </tr>\n",
       "  </thead>\n",
       "  <tbody>\n",
       "    <tr>\n",
       "      <th>694</th>\n",
       "      <td>-0.503866</td>\n",
       "      <td>-0.699995</td>\n",
       "      <td>-0.743299</td>\n",
       "      <td>-0.633247</td>\n",
       "      <td>-0.097628</td>\n",
       "      <td>-0.410685</td>\n",
       "      <td>-1.000471</td>\n",
       "      <td>-0.611825</td>\n",
       "      <td>-0.343912</td>\n",
       "    </tr>\n",
       "    <tr>\n",
       "      <th>695</th>\n",
       "      <td>-0.859266</td>\n",
       "      <td>-0.699995</td>\n",
       "      <td>-0.743299</td>\n",
       "      <td>-0.633247</td>\n",
       "      <td>-0.549561</td>\n",
       "      <td>-0.686979</td>\n",
       "      <td>-1.000471</td>\n",
       "      <td>-0.611825</td>\n",
       "      <td>-0.343912</td>\n",
       "    </tr>\n",
       "    <tr>\n",
       "      <th>696</th>\n",
       "      <td>0.206936</td>\n",
       "      <td>2.251526</td>\n",
       "      <td>2.287222</td>\n",
       "      <td>0.067687</td>\n",
       "      <td>1.710106</td>\n",
       "      <td>-0.134392</td>\n",
       "      <td>1.872361</td>\n",
       "      <td>2.337594</td>\n",
       "      <td>0.239570</td>\n",
       "    </tr>\n",
       "    <tr>\n",
       "      <th>697</th>\n",
       "      <td>-0.148465</td>\n",
       "      <td>1.595632</td>\n",
       "      <td>0.940324</td>\n",
       "      <td>0.418154</td>\n",
       "      <td>-0.097628</td>\n",
       "      <td>0.141902</td>\n",
       "      <td>2.693171</td>\n",
       "      <td>1.026741</td>\n",
       "      <td>-0.343912</td>\n",
       "    </tr>\n",
       "    <tr>\n",
       "      <th>698</th>\n",
       "      <td>-0.148465</td>\n",
       "      <td>1.595632</td>\n",
       "      <td>1.613773</td>\n",
       "      <td>0.768621</td>\n",
       "      <td>0.354305</td>\n",
       "      <td>0.418196</td>\n",
       "      <td>2.693171</td>\n",
       "      <td>0.371315</td>\n",
       "      <td>-0.343912</td>\n",
       "    </tr>\n",
       "  </tbody>\n",
       "</table>\n",
       "</div>"
      ],
      "text/plain": [
       "        clump  cell_size  cell_shape  adhesion  epithlial  bare_nuclei  \\\n",
       "694 -0.503866  -0.699995   -0.743299 -0.633247  -0.097628    -0.410685   \n",
       "695 -0.859266  -0.699995   -0.743299 -0.633247  -0.549561    -0.686979   \n",
       "696  0.206936   2.251526    2.287222  0.067687   1.710106    -0.134392   \n",
       "697 -0.148465   1.595632    0.940324  0.418154  -0.097628     0.141902   \n",
       "698 -0.148465   1.595632    1.613773  0.768621   0.354305     0.418196   \n",
       "\n",
       "     chromatin  normal_nucleoli   mitoses  \n",
       "694  -1.000471        -0.611825 -0.343912  \n",
       "695  -1.000471        -0.611825 -0.343912  \n",
       "696   1.872361         2.337594  0.239570  \n",
       "697   2.693171         1.026741 -0.343912  \n",
       "698   2.693171         0.371315 -0.343912  "
      ]
     },
     "execution_count": 23,
     "metadata": {},
     "output_type": "execute_result"
    }
   ],
   "source": [
    "# columns_name2 변수를 생성해주세요.\n",
    "columns_name2 = ['clump', 'cell_size', 'cell_shape', 'adhesion', 'epithlial', 'bare_nuclei',\n",
    "                 'chromatin', 'normal_nucleoli', 'mitoses']\n",
    "\n",
    "# data_df 변수에 변환된 데이터프레임을 저장해주세요.\n",
    "data_df = pd.DataFrame(x_scaled, columns=columns_name2)\n",
    "\n",
    "# data_df 데이터프레임의 하위 5개 행을 출력해주세요.\n",
    "data_df.tail()"
   ]
  },
  {
   "cell_type": "markdown",
   "id": "b34f8bd7",
   "metadata": {
    "id": "b34f8bd7"
   },
   "source": [
    "2-6. 아래의 설명에 따라 데이터를 분리해주세요. **(4점)**"
   ]
  },
  {
   "cell_type": "code",
   "execution_count": 24,
   "id": "9029d94b",
   "metadata": {
    "ExecuteTime": {
     "end_time": "2023-09-10T08:07:42.379813Z",
     "start_time": "2023-09-10T08:07:42.365657Z"
    },
    "id": "9029d94b"
   },
   "outputs": [],
   "source": [
    "# 학습데이터와 테스트 데이터를 나눠주세요. (random_state는 11로 설정해주세요.)\n",
    "X_train, X_test, y_train, y_test = train_test_split(data_df, y, random_state=11)"
   ]
  },
  {
   "cell_type": "code",
   "execution_count": 25,
   "id": "34ff2d2d",
   "metadata": {
    "ExecuteTime": {
     "end_time": "2023-09-10T08:07:43.867357Z",
     "start_time": "2023-09-10T08:07:43.859865Z"
    },
    "colab": {
     "base_uri": "https://localhost:8080/"
    },
    "id": "34ff2d2d",
    "outputId": "07cc3e81-6107-4654-fc0e-c71dfb2d2d51"
   },
   "outputs": [
    {
     "name": "stdout",
     "output_type": "stream",
     "text": [
      "학습 피처 (524, 9)\n",
      "테스트 피처 (175, 9)\n",
      "학습 레이블 (524,)\n",
      "테스트 레이블 (175,)\n"
     ]
    }
   ],
   "source": [
    "# 분리한 데이터의 형태를 출력해주세요. (shape 활용)\n",
    "print('학습 피처', X_train.shape)\n",
    "print('테스트 피처', X_test.shape)\n",
    "print('학습 레이블', y_train.shape)\n",
    "print('테스트 레이블', y_test.shape)"
   ]
  },
  {
   "cell_type": "markdown",
   "id": "da0c5bfe",
   "metadata": {
    "id": "da0c5bfe"
   },
   "source": [
    "2-7. 로지스틱 회귀로 학습, 예측 및 평가 수행 **(13점)**"
   ]
  },
  {
   "cell_type": "code",
   "execution_count": 26,
   "id": "ec6844dc",
   "metadata": {
    "ExecuteTime": {
     "end_time": "2023-09-10T08:07:48.562561Z",
     "start_time": "2023-09-10T08:07:48.550499Z"
    },
    "id": "ec6844dc"
   },
   "outputs": [],
   "source": [
    "# LogisticRegression 객체를 생성해주세요. 해당 객체의 파라미터 중 solver는 'liblinear'로 설정하고 random_state는 11로 설정해주세요.\n",
    "from sklearn.linear_model import LogisticRegression\n",
    "lr_clf = LogisticRegression(solver='liblinear')\n",
    "\n",
    "# LogisticRegression 객체를 활용한 학습\n",
    "lr_clf.fit(X_train, y_train)\n",
    "\n",
    "# LogisticRegression 객체를 활용한 예측 (LogisticRegression 객체의 predict 메서드 활용)\n",
    "pred = lr_clf.predict(X_test)"
   ]
  },
  {
   "cell_type": "code",
   "execution_count": 27,
   "id": "07738357",
   "metadata": {
    "ExecuteTime": {
     "end_time": "2023-09-10T08:07:49.858946Z",
     "start_time": "2023-09-10T08:07:49.846426Z"
    },
    "id": "07738357"
   },
   "outputs": [],
   "source": [
    "# pred_proba 변수를 생성하고 이 변수에 클래스별 확률값을 저장하세요. (LogisticRegression 객체의 predict_proba() 메서드를 활용)\n",
    "pred_proba = lr_clf.predict_proba(X_test)\n",
    "\n",
    "# pred_proba_class1 변수를 만들고 이 변수에 레이블 값이 1일때의 예측 확률을 저장해주세요.(LogisticRegression 객체의 predict_proba() 메서드를 활용)\n",
    "pred_proba_class1 = pred_proba[:, 1]"
   ]
  },
  {
   "cell_type": "code",
   "execution_count": 28,
   "id": "e49ca706",
   "metadata": {
    "ExecuteTime": {
     "end_time": "2023-09-10T08:07:51.865337Z",
     "start_time": "2023-09-10T08:07:51.853175Z"
    },
    "colab": {
     "base_uri": "https://localhost:8080/"
    },
    "id": "e49ca706",
    "outputId": "270b753a-3cb8-414a-b866-3686c5135c3a"
   },
   "outputs": [
    {
     "name": "stdout",
     "output_type": "stream",
     "text": [
      "샘플 추출을 위한 임곗값 배열의 index:  [ 1  5  9 13 17 21 25 29 33]\n",
      "샘플 index로 추출한 임곗값:  [1.     0.9406 0.3544 0.0137 0.0099 0.0047 0.004  0.0029 0.0018]\n",
      "샘플 임곗값별 FPR:  [0.     0.019  0.0381 0.2952 0.4    0.6571 0.819  0.9143 1.    ]\n",
      "샘플 임곗값별 TPR:  [0.0143 0.7857 0.9429 1.     1.     1.     1.     1.     1.    ]\n"
     ]
    }
   ],
   "source": [
    "#roc_curve API를 이용해 예측 모델의 FPR, TPR, 임계값을 구해주세요.\n",
    "from sklearn.metrics import roc_curve\n",
    "fpr, tpr, thresholds = roc_curve(y_test, pred_proba_class1)\n",
    "\n",
    "# 반환된 임곗값 배열에서 샘플로 데이터를 추출하되, 임곗값을 4 Step으로 추출해주세요. np.arange는 1부터 시작할 수 있도록 설정해주세요.\n",
    "thr_index = np.arange(1, thresholds.shape[0], 4)\n",
    "\n",
    "# '샘플 추출을 위한 임곗값 배열의 index'과 '샘플 index로 추출한 임곗값'을 출력해주세요. 각각의 값은 소수점 넷째 자리에서 반올림하여 출력해주세요\n",
    "print('샘플 추출을 위한 임곗값 배열의 index: ', thr_index)\n",
    "print('샘플 index로 추출한 임곗값: ', np.round(thresholds[thr_index], 4))\n",
    "\n",
    "# 4 Step 단위로 추출된 임곗값에 따른 FPR, TPR 값을 출력해주세요. 각각의 값은 소수점 넷째 자리에서 반올림하여 출력해주세요.\n",
    "print('샘플 임곗값별 FPR: ', np.round(fpr[thr_index], 4))\n",
    "print('샘플 임곗값별 TPR: ', np.round(tpr[thr_index], 4))"
   ]
  },
  {
   "cell_type": "code",
   "execution_count": 29,
   "id": "317ee9e0",
   "metadata": {
    "ExecuteTime": {
     "end_time": "2023-09-10T08:07:55.835856Z",
     "start_time": "2023-09-10T08:07:55.819296Z"
    },
    "colab": {
     "base_uri": "https://localhost:8080/"
    },
    "id": "317ee9e0",
    "outputId": "d7ff94ed-b086-4a26-8fc7-da44c04900a7"
   },
   "outputs": [
    {
     "name": "stdout",
     "output_type": "stream",
     "text": [
      "ROC AUC 값: 0.9925\n"
     ]
    }
   ],
   "source": [
    "# roc_auc_score API를 활용하여 roc auc 값을 출력해주세요.(소수점 넷째 자리에서 반올림하여 출력)\n",
    "from sklearn.metrics import roc_auc_score\n",
    "roc_score = roc_auc_score(y_test, pred_proba_class1)\n",
    "print('ROC AUC 값: {0:.4f}'.format(roc_score))"
   ]
  },
  {
   "cell_type": "markdown",
   "id": "684f38fa",
   "metadata": {
    "id": "684f38fa"
   },
   "source": [
    "2-8. 이전 문제에서 LogisticRegression 객체의 solver 파라미터를 'lbfgs'로만 설정했던 것과 달리 이번에는 서로 다른 solver 값으로 LogisticRegression을 학습해보고 얻은 성능 평가를 비교해보려고 합니다. 아래의 코드를 완성해주세요.   **(10점)**  \n",
    "(아래의 사진과 같은 형태로 출력될 수 있도록 코드를 작성해주세요.)\n",
    "\n",
    "![image.png](attachment:image.png)  \n",
    "(성능 평가 결과값은 사진 속 값과 다르게 나올 수 있습니다.)"
   ]
  },
  {
   "cell_type": "code",
   "execution_count": 30,
   "id": "ad9f63dd",
   "metadata": {
    "ExecuteTime": {
     "end_time": "2023-09-10T08:08:02.400924Z",
     "start_time": "2023-09-10T08:08:02.331156Z"
    },
    "colab": {
     "base_uri": "https://localhost:8080/"
    },
    "id": "ad9f63dd",
    "outputId": "8976e34d-6eb6-489b-83a0-77c97b405099"
   },
   "outputs": [
    {
     "name": "stdout",
     "output_type": "stream",
     "text": [
      "solver= lbfgs\n",
      "정확도: 0.9486\n",
      "ROC AUC 값: 0.9927\n",
      "\n",
      "\n",
      "solver= liblinear\n",
      "정확도: 0.9486\n",
      "ROC AUC 값: 0.9925\n",
      "\n",
      "\n",
      "solver= newton-cg\n",
      "정확도: 0.9486\n",
      "ROC AUC 값: 0.9927\n",
      "\n",
      "\n",
      "solver= sag\n",
      "정확도: 0.9486\n",
      "ROC AUC 값: 0.9927\n",
      "\n",
      "\n",
      "solver= saga\n",
      "정확도: 0.9486\n",
      "ROC AUC 값: 0.9927\n",
      "\n",
      "\n"
     ]
    }
   ],
   "source": [
    "solver_list = ['lbfgs','liblinear','newton-cg', 'sag', 'saga']\n",
    "\n",
    "# solver_list에 담겨있는 각각의 solver 값을 한 번씩 적용하여 LogisticRegression을 학습하고 성능을 평가해주세요. (힌트: for 구문 활용)\n",
    "# 출력 결과에서 5가지 solver 값에 대한 성능 평과 결과를 각각 얻을 수 있도록 for 구문을 활용하여 코드를 완성해주세요.\n",
    "# LogisticRegression 객체의 파라미터는 solver, max_iter, random_state만 설정해주세요. max_iter는 300으로 설정하고 random_state는 11로 설정해주세요.\n",
    "\n",
    "#for구문 작성\n",
    "for solver in solver_list:\n",
    "\n",
    "    # 로지스틱 회귀 객체를 생성해주세요.\n",
    "    lr_clf = LogisticRegression(solver=solver, max_iter=300, random_state=11)\n",
    "\n",
    "    # fit을 사용하여 학습해주세요.\n",
    "    lr_clf.fit(X_train, y_train)\n",
    "\n",
    "    # 예측\n",
    "    pred = lr_clf.predict(X_test)\n",
    "    pred_proba = lr_clf.predict_proba(X_test)[:, 1]\n",
    "\n",
    "    # accuracy와 roc_auc 측정\n",
    "    accuracy = accuracy_score(y_test, pred)\n",
    "    roc_score = roc_auc_score(y_test, pred_proba)\n",
    "\n",
    "    print('solver=', solver)\n",
    "    print('정확도: {0:.4f}'.format(accuracy))\n",
    "    print('ROC AUC 값: {0:.4f}'.format(roc_score))\n",
    "    print('\\n')"
   ]
  },
  {
   "cell_type": "markdown",
   "id": "a424fb99",
   "metadata": {
    "id": "a424fb99"
   },
   "source": [
    "--------"
   ]
  },
  {
   "cell_type": "markdown",
   "id": "bb96adbb",
   "metadata": {
    "id": "bb96adbb"
   },
   "source": [
    "---"
   ]
  },
  {
   "cell_type": "markdown",
   "id": "548f288b",
   "metadata": {
    "id": "548f288b"
   },
   "source": [
    "# 1. 결정 트리 특징"
   ]
  },
  {
   "cell_type": "markdown",
   "id": "503b0cf9",
   "metadata": {
    "id": "503b0cf9"
   },
   "source": [
    "### 1-0. 앙상블은 배깅과 부스팅 방식으로 나뉩니다. 부스팅 방식의 알고리즘 중 두개를 말해보세요. (5점)"
   ]
  },
  {
   "cell_type": "markdown",
   "id": "3af34d9b",
   "metadata": {
    "id": "3af34d9b"
   },
   "source": [
    "XGBoost, LightGBM"
   ]
  },
  {
   "cell_type": "markdown",
   "id": "b54df261",
   "metadata": {
    "id": "b54df261"
   },
   "source": [
    "### 1-1. 아래 사진 속 결정 트리의 리프 노드는 몇개인가요?  (5점)"
   ]
  },
  {
   "cell_type": "code",
   "execution_count": null,
   "id": "878e84ff",
   "metadata": {
    "id": "878e84ff",
    "outputId": "f84fe5af-ef4e-4ada-e29d-3d23c96633ec"
   },
   "outputs": [
    {
     "data": {
      "image/png": "[encoded data removed]",
      "text/plain": [
       "<IPython.core.display.Image object>"
      ]
     },
     "metadata": {},
     "output_type": "display_data"
    }
   ],
   "source": [
    "from IPython.display import Image\n",
    "Image(\"리프노드 개수.png\")"
   ]
  },
  {
   "cell_type": "markdown",
   "id": "5748da06",
   "metadata": {
    "id": "5748da06"
   },
   "source": [
    "5"
   ]
  },
  {
   "cell_type": "markdown",
   "id": "a825c972",
   "metadata": {
    "id": "a825c972"
   },
   "source": [
    "### 1-2. 결정 트리 모델의 정확도가 떨어질 수 있는 가장 대표적 요인은 무엇인가요?  (10점)"
   ]
  },
  {
   "cell_type": "markdown",
   "id": "e8a29382",
   "metadata": {
    "id": "e8a29382"
   },
   "source": [
    "과적합"
   ]
  },
  {
   "cell_type": "markdown",
   "id": "62987325",
   "metadata": {
    "id": "62987325"
   },
   "source": [
    "---"
   ]
  },
  {
   "cell_type": "markdown",
   "id": "f5374644",
   "metadata": {
    "id": "f5374644"
   },
   "source": [
    "# 2. 결정 트리 파라미터"
   ]
  },
  {
   "cell_type": "markdown",
   "id": "96394aae",
   "metadata": {
    "id": "96394aae"
   },
   "source": [
    "### 2-0. 아래의 answer 리스트를 실행시켜주세요. 2번 문제의 답안이 담길 리스트입니다. 순서가 중요하니 꼭!! 순서를 지켜주세요 :)  "
   ]
  },
  {
   "cell_type": "code",
   "execution_count": 7,
   "id": "ee89a384",
   "metadata": {
    "id": "ee89a384"
   },
   "outputs": [],
   "source": [
    "answer = []"
   ]
  },
  {
   "cell_type": "markdown",
   "id": "71a07d10",
   "metadata": {
    "id": "71a07d10"
   },
   "source": [
    "#### 📌 보기 <br><br> a = max_samples_split <br> b = min_samples_split <br> c = max_samples_leaf <br> d = min_samples_leaf <br> e = max_features <br> f = min_features <br> g = max_depth <br> h = min_depth <br> i = max_leaf_nodes <br> j = min_leaf_nodes"
   ]
  },
  {
   "cell_type": "markdown",
   "id": "e9a05070",
   "metadata": {
    "id": "e9a05070"
   },
   "source": [
    "#### 다음 문제들의 답을 리스트에 넣을 때 **answer.append()** 를 사용해주세요. 그렇게 해야 순서가 달라지지 않습니다.<br> (예 : answer.append('a')) <br><br>"
   ]
  },
  {
   "cell_type": "markdown",
   "id": "1f14e94d",
   "metadata": {
    "id": "1f14e94d"
   },
   "source": [
    "### 2-1. 다음에 해당하는 파라미터의 변수를 answer리스트에 넣어주세요.  (4점)\n",
    "<br><br> ☞ 트리의 최대 깊이를 규정합니다.\n",
    "<br> ☞ 디폴트는 None. None으로 설정하면 완벽하게 클래스 결정 값이 될 때까지 깊이를 계속 키우며 분할하기도 한다."
   ]
  },
  {
   "cell_type": "code",
   "execution_count": 8,
   "id": "6c90e1ec",
   "metadata": {
    "id": "6c90e1ec"
   },
   "outputs": [],
   "source": [
    "# 2-1. 답\n",
    "answer.append('g')"
   ]
  },
  {
   "cell_type": "markdown",
   "id": "f402603a",
   "metadata": {
    "id": "f402603a"
   },
   "source": [
    "### 2-2. 다음에 해당하는 파라미터의 변수를 answer리스트에 넣어주세요. (4점)\n",
    "<br><br> ☞ 분할이 될 경우 왼쪽과 오른쪽의 브랜치 노드에서 가져야 할 최소한의 샘플 데이터 수를 뜻한다.\n",
    "<br> ☞ 큰 값으로 설정될수록, 분할될 경우 왼쪽과 오른쪽의 브랜치 노드에서 가져야 할 최소한의 샘플 데이터 수 조건을 만족시키기가 어려우므로 노드 분할을 상대적으로 덜 수행한다."
   ]
  },
  {
   "cell_type": "code",
   "execution_count": 9,
   "id": "13de98b6",
   "metadata": {
    "id": "13de98b6"
   },
   "outputs": [],
   "source": [
    "# 2-2. 답\n",
    "answer.append('d')"
   ]
  },
  {
   "cell_type": "markdown",
   "id": "86918055",
   "metadata": {
    "id": "86918055"
   },
   "source": [
    "### 2-3. 다음에 해당하는 파라미터의 변수를 answer리스트에 넣어주세요.  (4점)\n",
    "<br><br> ☞ 노드르르 분할하기 위한 최소한의 샘플 데이터 수로 과적합을 제어하는 데 사용된다.\n",
    "<br> ☞ 디폴트는 2이고 작게 설정할수록 분할되는 노드가 많아져서 과적합 가능성이 증가한다."
   ]
  },
  {
   "cell_type": "code",
   "execution_count": 10,
   "id": "264bb905",
   "metadata": {
    "id": "264bb905"
   },
   "outputs": [],
   "source": [
    "# 2-3. 답\n",
    "answer.append('b')"
   ]
  },
  {
   "cell_type": "markdown",
   "id": "0a492ee7",
   "metadata": {
    "id": "0a492ee7"
   },
   "source": [
    "### 2-4. 다음에 해당하는 파라미터의 변수를 answer리스트에 넣어주세요.  (4점)\n",
    "<br><br> ☞ 말단 노드(Leaf)의 최대 개수를 뜻한다."
   ]
  },
  {
   "cell_type": "code",
   "execution_count": 11,
   "id": "1cf6e447",
   "metadata": {
    "id": "1cf6e447"
   },
   "outputs": [],
   "source": [
    "# 2-4. 답\n",
    "answer.append('i')"
   ]
  },
  {
   "cell_type": "markdown",
   "id": "cde23b1f",
   "metadata": {
    "id": "cde23b1f"
   },
   "source": [
    "### 2-5. 다음에 해당하는 파라미터의 변수를 answer리스트에 넣어주세요.  (4점)\n",
    "<br><br> ☞ 최적의 분할을 위해 고려할 최대 피처 개수이다. 디폴트는 None으로 데이터 세트의 모든 피처를 사용해 분할 수행한다.\n",
    "<br> ☞ int형으로 지정하면 대상 피처의 개수, float형으로 지정하면 전체 피처 중 대상 피처의 퍼센트이다."
   ]
  },
  {
   "cell_type": "code",
   "execution_count": 12,
   "id": "1be256e1",
   "metadata": {
    "id": "1be256e1"
   },
   "outputs": [],
   "source": [
    "# 2-5. 답\n",
    "answer.append('e')"
   ]
  },
  {
   "cell_type": "markdown",
   "id": "6d2a52dd",
   "metadata": {
    "id": "6d2a52dd"
   },
   "source": [
    "### 2번 문제가 모두 끝났습니다. len(answer)을 실행하여 answer의 길이가 5인지 다시 한번 확인해주세요."
   ]
  },
  {
   "cell_type": "code",
   "execution_count": 13,
   "id": "f10f8f5c",
   "metadata": {
    "colab": {
     "base_uri": "https://localhost:8080/"
    },
    "id": "f10f8f5c",
    "outputId": "f3852324-ba0c-4b94-9d32-383c39d2378f"
   },
   "outputs": [
    {
     "name": "stdout",
     "output_type": "stream",
     "text": [
      "5\n"
     ]
    }
   ],
   "source": [
    "print(len(answer))"
   ]
  },
  {
   "cell_type": "markdown",
   "id": "f30ced79",
   "metadata": {
    "id": "f30ced79"
   },
   "source": [
    "---"
   ]
  },
  {
   "cell_type": "markdown",
   "id": "e79bc30f",
   "metadata": {
    "id": "e79bc30f"
   },
   "source": [
    "# 3. 결정 트리 모델의 시각화"
   ]
  },
  {
   "cell_type": "markdown",
   "id": "c16d9bda",
   "metadata": {
    "id": "c16d9bda"
   },
   "source": [
    "## 당신은 결정 트리 모델의 시각화를 하려는데 한글 깨짐 현상이 발생했습니다. 위와 같은 문제를 해결하고, 결정 트리 모델을 한글로 시각화 해봅시다."
   ]
  },
  {
   "cell_type": "code",
   "execution_count": 15,
   "id": "d8e40a75",
   "metadata": {
    "id": "d8e40a75"
   },
   "outputs": [],
   "source": [
    "import numpy as np\n",
    "import pandas as pd\n",
    "from matplotlib import pyplot as plt\n",
    "from sklearn.datasets import load_iris\n",
    "from sklearn.tree import DecisionTreeClassifier\n",
    "from sklearn.model_selection import train_test_split\n",
    "from sklearn import tree\n",
    "import matplotlib.font_manager as fm\n",
    "\n",
    "%matplotlib inline\n",
    "\n",
    "# sklearn에 저장된 데이터를 불러 옵니다.\n",
    "X, Y = load_iris(return_X_y = True)\n",
    "\n",
    "# DataFrame으로 변환\n",
    "df = pd.DataFrame(X, columns=['꽃받침 길이','꽃받침 넓이', '꽃잎 길이', '꽃잎 넓이'])\n",
    "df['클래스'] = Y\n",
    "\n",
    "X = df.drop(columns=['클래스'])\n",
    "Y = df['클래스']"
   ]
  },
  {
   "cell_type": "markdown",
   "id": "85e8bad4",
   "metadata": {
    "id": "85e8bad4"
   },
   "source": [
    "## 3-1 우선 결정트리 모델 시각화를 하기 위한 작업을 해봅시다. 필요한 라이브러리를 호출하고, 저장된 데이터를 불러왔습니다. train_test_split를 활용하여 학습용, 평가용 데이터로 분리해 봅시다. (random_state = 42, test_size = 0.2)  (5점)"
   ]
  },
  {
   "cell_type": "code",
   "execution_count": 16,
   "id": "10482b74",
   "metadata": {
    "id": "10482b74"
   },
   "outputs": [],
   "source": [
    "# 3-1 답\n",
    "X_train, X_test, y_train, y_test = train_test_split(X, Y, test_size=0.2, random_state=42)"
   ]
  },
  {
   "cell_type": "markdown",
   "id": "4358c5ab",
   "metadata": {
    "id": "4358c5ab"
   },
   "source": [
    "## 3.2 DTmodel에 의사결정나무 모델을 초기화 하고 학습합니다.  (5점)"
   ]
  },
  {
   "cell_type": "code",
   "execution_count": 18,
   "id": "037320ec",
   "metadata": {
    "colab": {
     "base_uri": "https://localhost:8080/",
     "height": 74
    },
    "id": "037320ec",
    "outputId": "007b5273-5be2-4e25-a4c8-23edbc10c8be"
   },
   "outputs": [
    {
     "data": {
      "text/html": [
       "<style>#sk-container-id-1 {color: black;background-color: white;}#sk-container-id-1 pre{padding: 0;}#sk-container-id-1 div.sk-toggleable {background-color: white;}#sk-container-id-1 label.sk-toggleable__label {cursor: pointer;display: block;width: 100%;margin-bottom: 0;padding: 0.3em;box-sizing: border-box;text-align: center;}#sk-container-id-1 label.sk-toggleable__label-arrow:before {content: \"▸\";float: left;margin-right: 0.25em;color: #696969;}#sk-container-id-1 label.sk-toggleable__label-arrow:hover:before {color: black;}#sk-container-id-1 div.sk-estimator:hover label.sk-toggleable__label-arrow:before {color: black;}#sk-container-id-1 div.sk-toggleable__content {max-height: 0;max-width: 0;overflow: hidden;text-align: left;background-color: #f0f8ff;}#sk-container-id-1 div.sk-toggleable__content pre {margin: 0.2em;color: black;border-radius: 0.25em;background-color: #f0f8ff;}#sk-container-id-1 input.sk-toggleable__control:checked~div.sk-toggleable__content {max-height: 200px;max-width: 100%;overflow: auto;}#sk-container-id-1 input.sk-toggleable__control:checked~label.sk-toggleable__label-arrow:before {content: \"▾\";}#sk-container-id-1 div.sk-estimator input.sk-toggleable__control:checked~label.sk-toggleable__label {background-color: #d4ebff;}#sk-container-id-1 div.sk-label input.sk-toggleable__control:checked~label.sk-toggleable__label {background-color: #d4ebff;}#sk-container-id-1 input.sk-hidden--visually {border: 0;clip: rect(1px 1px 1px 1px);clip: rect(1px, 1px, 1px, 1px);height: 1px;margin: -1px;overflow: hidden;padding: 0;position: absolute;width: 1px;}#sk-container-id-1 div.sk-estimator {font-family: monospace;background-color: #f0f8ff;border: 1px dotted black;border-radius: 0.25em;box-sizing: border-box;margin-bottom: 0.5em;}#sk-container-id-1 div.sk-estimator:hover {background-color: #d4ebff;}#sk-container-id-1 div.sk-parallel-item::after {content: \"\";width: 100%;border-bottom: 1px solid gray;flex-grow: 1;}#sk-container-id-1 div.sk-label:hover label.sk-toggleable__label {background-color: #d4ebff;}#sk-container-id-1 div.sk-serial::before {content: \"\";position: absolute;border-left: 1px solid gray;box-sizing: border-box;top: 0;bottom: 0;left: 50%;z-index: 0;}#sk-container-id-1 div.sk-serial {display: flex;flex-direction: column;align-items: center;background-color: white;padding-right: 0.2em;padding-left: 0.2em;position: relative;}#sk-container-id-1 div.sk-item {position: relative;z-index: 1;}#sk-container-id-1 div.sk-parallel {display: flex;align-items: stretch;justify-content: center;background-color: white;position: relative;}#sk-container-id-1 div.sk-item::before, #sk-container-id-1 div.sk-parallel-item::before {content: \"\";position: absolute;border-left: 1px solid gray;box-sizing: border-box;top: 0;bottom: 0;left: 50%;z-index: -1;}#sk-container-id-1 div.sk-parallel-item {display: flex;flex-direction: column;z-index: 1;position: relative;background-color: white;}#sk-container-id-1 div.sk-parallel-item:first-child::after {align-self: flex-end;width: 50%;}#sk-container-id-1 div.sk-parallel-item:last-child::after {align-self: flex-start;width: 50%;}#sk-container-id-1 div.sk-parallel-item:only-child::after {width: 0;}#sk-container-id-1 div.sk-dashed-wrapped {border: 1px dashed gray;margin: 0 0.4em 0.5em 0.4em;box-sizing: border-box;padding-bottom: 0.4em;background-color: white;}#sk-container-id-1 div.sk-label label {font-family: monospace;font-weight: bold;display: inline-block;line-height: 1.2em;}#sk-container-id-1 div.sk-label-container {text-align: center;}#sk-container-id-1 div.sk-container {/* jupyter's `normalize.less` sets `[hidden] { display: none; }` but bootstrap.min.css set `[hidden] { display: none !important; }` so we also need the `!important` here to be able to override the default hidden behavior on the sphinx rendered scikit-learn.org. See: https://github.com/scikit-learn/scikit-learn/issues/21755 */display: inline-block !important;position: relative;}#sk-container-id-1 div.sk-text-repr-fallback {display: none;}</style><div id=\"sk-container-id-1\" class=\"sk-top-container\"><div class=\"sk-text-repr-fallback\"><pre>DecisionTreeClassifier()</pre><b>In a Jupyter environment, please rerun this cell to show the HTML representation or trust the notebook. <br />On GitHub, the HTML representation is unable to render, please try loading this page with nbviewer.org.</b></div><div class=\"sk-container\" hidden><div class=\"sk-item\"><div class=\"sk-estimator sk-toggleable\"><input class=\"sk-toggleable__control sk-hidden--visually\" id=\"sk-estimator-id-1\" type=\"checkbox\" checked><label for=\"sk-estimator-id-1\" class=\"sk-toggleable__label sk-toggleable__label-arrow\">DecisionTreeClassifier</label><div class=\"sk-toggleable__content\"><pre>DecisionTreeClassifier()</pre></div></div></div></div></div>"
      ],
      "text/plain": [
       "DecisionTreeClassifier()"
      ]
     },
     "execution_count": 18,
     "metadata": {},
     "output_type": "execute_result"
    }
   ],
   "source": [
    "#3-2 답\n",
    "DTmodel = DecisionTreeClassifier()\n",
    "DTmodel.fit(X_train, y_train)"
   ]
  },
  {
   "cell_type": "markdown",
   "id": "bf3d1e93",
   "metadata": {
    "id": "bf3d1e93"
   },
   "source": [
    "## 3.3 이제 시각화를 해볼겁니다. 아래 코드를 실행하고, C:\\Windows\\Fonts 경로에서 한글 폰트를 찾아 적용해봅시다.  (10점)"
   ]
  },
  {
   "cell_type": "markdown",
   "id": "b9703d57",
   "metadata": {
    "id": "b9703d57"
   },
   "source": [
    "#### Mac OS인 분들은 한글을 포함하여 시각화 성공해주시면 정답입니다!"
   ]
  },
  {
   "cell_type": "code",
   "execution_count": 19,
   "id": "14111812",
   "metadata": {
    "colab": {
     "base_uri": "https://localhost:8080/"
    },
    "id": "14111812",
    "outputId": "e2482121-c388-4d2b-b3a5-994f89445942"
   },
   "outputs": [
    {
     "data": {
      "text/plain": [
       "['STIXSizeFourSym',\n",
       " 'DejaVu Sans Display',\n",
       " 'STIXSizeThreeSym',\n",
       " 'DejaVu Sans',\n",
       " 'STIXSizeOneSym',\n",
       " 'DejaVu Sans Mono',\n",
       " 'STIXSizeFourSym',\n",
       " 'STIXGeneral',\n",
       " 'cmb10',\n",
       " 'cmex10',\n",
       " 'cmr10',\n",
       " 'STIXSizeOneSym',\n",
       " 'STIXGeneral',\n",
       " 'STIXSizeTwoSym',\n",
       " 'STIXNonUnicode',\n",
       " 'DejaVu Sans Mono',\n",
       " 'DejaVu Serif Display',\n",
       " 'DejaVu Sans Mono',\n",
       " 'cmmi10',\n",
       " 'DejaVu Sans',\n",
       " 'STIXNonUnicode',\n",
       " 'cmtt10',\n",
       " 'cmss10',\n",
       " 'STIXNonUnicode',\n",
       " 'STIXNonUnicode',\n",
       " 'STIXSizeTwoSym',\n",
       " 'STIXGeneral',\n",
       " 'STIXSizeFiveSym',\n",
       " 'STIXGeneral',\n",
       " 'DejaVu Sans',\n",
       " 'DejaVu Serif',\n",
       " 'cmsy10',\n",
       " 'STIXSizeThreeSym',\n",
       " 'DejaVu Sans',\n",
       " 'DejaVu Serif',\n",
       " 'DejaVu Serif',\n",
       " 'DejaVu Sans Mono',\n",
       " 'DejaVu Serif',\n",
       " 'Liberation Sans',\n",
       " 'Liberation Mono',\n",
       " 'Liberation Sans',\n",
       " 'Liberation Mono',\n",
       " 'Humor Sans',\n",
       " 'Liberation Sans',\n",
       " 'Liberation Sans Narrow',\n",
       " 'Liberation Sans Narrow',\n",
       " 'Liberation Serif',\n",
       " 'Liberation Serif',\n",
       " 'Liberation Mono',\n",
       " 'Liberation Serif',\n",
       " 'Liberation Mono',\n",
       " 'Liberation Sans',\n",
       " 'Liberation Sans Narrow',\n",
       " 'Liberation Serif',\n",
       " 'Liberation Sans Narrow']"
      ]
     },
     "execution_count": 19,
     "metadata": {},
     "output_type": "execute_result"
    }
   ],
   "source": [
    "import matplotlib.font_manager as fm\n",
    "#아래 코드는 C:\\Windows\\Fonts에 내장되어 있는 폰트를 리스트로 반환해주는 코드입니다.\n",
    "font_list = [font.name for font in fm.fontManager.ttflist]\n",
    "font_list"
   ]
  },
  {
   "cell_type": "code",
   "execution_count": null,
   "id": "fc305567",
   "metadata": {
    "id": "fc305567"
   },
   "outputs": [],
   "source": [
    "# 3-3 답 None 값을 채워주세요.\n",
    "# !!Hint!! 1번째 None 값에 폰트 이름이 들어갑니다.\n",
    "\n",
    "plt.rc('font', family=None)\n",
    "fig = plt.figure(figsize=(25,20))\n",
    "_ = tree.plot_tree(None,\n",
    "                   feature_names=['꽃받침 길이','꽃받침 넓이', '꽃잎 길이', '꽃잎 넓이'],\n",
    "                   class_names=['setosa', 'versicolor', 'virginica'],\n",
    "                   filled=True)\n"
   ]
  },
  {
   "cell_type": "code",
   "execution_count": null,
   "id": "a11b3a94",
   "metadata": {
    "id": "a11b3a94"
   },
   "outputs": [],
   "source": []
  },
  {
   "cell_type": "markdown",
   "id": "7813a49f",
   "metadata": {
    "id": "7813a49f"
   },
   "source": [
    "# 4. 결정트리 과적합(20점)"
   ]
  },
  {
   "cell_type": "markdown",
   "id": "6a8e0f46",
   "metadata": {
    "id": "6a8e0f46"
   },
   "source": [
    "### 4-1. make_classification() 함수를 사용해 2개의 피처가 4가지 유형의 클래스 값을 가지는 데이터 세트를 만드시오. (3점)"
   ]
  },
  {
   "cell_type": "code",
   "execution_count": 20,
   "id": "2ed41d13",
   "metadata": {
    "id": "2ed41d13"
   },
   "outputs": [],
   "source": [
    "from sklearn.datasets import make_classification\n",
    "import matplotlib.pyplot as plt\n",
    "\n",
    "# 2차원 시각화를 위해서 feature는 2개, 결정값 클래스는 4가지 유형의 classification 샘플 데이터 생성.\n",
    "X_features, y_labels = make_classification(n_features=2, n_redundant=0, n_informative=2,\n",
    "                                           n_classes=4, n_clusters_per_class=1, random_state=0)"
   ]
  },
  {
   "cell_type": "markdown",
   "id": "024fd4e3",
   "metadata": {
    "id": "024fd4e3"
   },
   "source": [
    "### 4-2. plot 형태로 2개의 feature로 2차원 좌표 시각화하고 각 클래스값은 다른 색깔로 표시하여 출력하시오. (4점)\n"
   ]
  },
  {
   "cell_type": "code",
   "execution_count": 21,
   "id": "592f7361",
   "metadata": {
    "colab": {
     "base_uri": "https://localhost:8080/",
     "height": 448
    },
    "id": "592f7361",
    "outputId": "60e46c3c-061b-44da-c1c8-12627f058dc9"
   },
   "outputs": [
    {
     "data": {
      "text/plain": [
       "<matplotlib.collections.PathCollection at 0x7e3855b2a500>"
      ]
     },
     "execution_count": 21,
     "metadata": {},
     "output_type": "execute_result"
    },
    {
     "data": {
      "image/png": "[encoded data removed]",
      "text/plain": [
       "<Figure size 640x480 with 1 Axes>"
      ]
     },
     "metadata": {},
     "output_type": "display_data"
    }
   ],
   "source": [
    "# 그래프 시각화\n",
    "plt.scatter(X_features[:, 0], X_features[:, 1], marker='o', c=y_labels, s=25, edgecolor='k')"
   ]
  },
  {
   "cell_type": "markdown",
   "id": "7efbd180",
   "metadata": {
    "id": "7efbd180"
   },
   "source": [
    "### 4-3. 아래의 셀을 실행시키고 visualize_boundary() 함수의 역할 및 기능을 설명하시오. (3점)"
   ]
  },
  {
   "cell_type": "code",
   "execution_count": 22,
   "id": "3ddc63d6",
   "metadata": {
    "id": "3ddc63d6"
   },
   "outputs": [],
   "source": [
    "\n",
    "import numpy as np\n",
    "\n",
    "# Classifier의 Decision Boundary를 시각화 하는 함수\n",
    "def visualize_boundary(model, X, y):\n",
    "    fig,ax = plt.subplots()\n",
    "\n",
    "    # 학습 데이타 scatter plot으로 나타내기\n",
    "    ax.scatter(X[:, 0], X[:, 1], c=y, s=25, cmap='rainbow', edgecolor='k',\n",
    "               clim=(y.min(), y.max()), zorder=3)\n",
    "    ax.axis('tight')\n",
    "    ax.axis('off')\n",
    "    xlim_start , xlim_end = ax.get_xlim()\n",
    "    ylim_start , ylim_end = ax.get_ylim()\n",
    "\n",
    "    # 호출 파라미터로 들어온 training 데이타로 model 학습 .\n",
    "    model.fit(X, y)\n",
    "    # meshgrid 형태인 모든 좌표값으로 예측 수행.\n",
    "    xx, yy = np.meshgrid(np.linspace(xlim_start,xlim_end, num=200),np.linspace(ylim_start,ylim_end, num=200))\n",
    "    Z = model.predict(np.c_[xx.ravel(), yy.ravel()]).reshape(xx.shape)\n",
    "\n",
    "    # contourf() 를 이용하여 class boundary 를 visualization 수행.\n",
    "    n_classes = len(np.unique(y))\n",
    "    contours = ax.contourf(xx, yy, Z, alpha=0.3,\n",
    "                           levels=np.arange(n_classes + 1) - 0.5,\n",
    "                           cmap='rainbow', clim=(y.min(), y.max()),\n",
    "                           zorder=1)"
   ]
  },
  {
   "cell_type": "markdown",
   "id": "3795a7e2",
   "metadata": {
    "id": "3795a7e2"
   },
   "source": [
    "답 : 모델이 학습한 분류 기준에 따라 결정의 경계를 기준으로 서로 다른 색으로 구별하여 보여준다."
   ]
  },
  {
   "cell_type": "markdown",
   "id": "76cdcbfb",
   "metadata": {
    "id": "76cdcbfb"
   },
   "source": [
    "### 4-4. 특정한 트리 생성 제약이 없는 결정트리의 학습을 시키고 위의 visalize_boundary()함수를 사용하여 결정경계를 시각화 하시오. (3점)"
   ]
  },
  {
   "cell_type": "code",
   "execution_count": 23,
   "id": "ca65b820",
   "metadata": {
    "colab": {
     "base_uri": "https://localhost:8080/",
     "height": 442
    },
    "id": "ca65b820",
    "outputId": "24c0d5af-7ece-4b1f-8bc6-549a7c0badcc"
   },
   "outputs": [
    {
     "name": "stderr",
     "output_type": "stream",
     "text": [
      "<ipython-input-22-55fb20ab9164>:23: UserWarning: The following kwargs were not used by contour: 'clim'\n",
      "  contours = ax.contourf(xx, yy, Z, alpha=0.3,\n"
     ]
    },
    {
     "data": {
      "image/png": "[encoded data removed]",
      "text/plain": [
       "<Figure size 640x480 with 1 Axes>"
      ]
     },
     "metadata": {},
     "output_type": "display_data"
    }
   ],
   "source": [
    "from sklearn.tree import DecisionTreeClassifier\n",
    "\n",
    "# 특정한 트리 생성 제약없는 결정 트리의 Decsion Boundary 시각화.\n",
    "dt = DecisionTreeClassifier()\n",
    "\n",
    "visualize_boundary(dt, X_features, y_labels)"
   ]
  },
  {
   "cell_type": "markdown",
   "id": "730f5bfa",
   "metadata": {
    "id": "730f5bfa"
   },
   "source": [
    "### 4-5. 7개 이하이 데이터는 리프노드를 생성할 수 있도록 규칙을 변경하고 하이퍼 파라미터를 변경해 결정기준 경계가 어떻게 변하는지 살펴보시오. (3점)"
   ]
  },
  {
   "cell_type": "code",
   "execution_count": 25,
   "id": "de7c13d7",
   "metadata": {
    "colab": {
     "base_uri": "https://localhost:8080/",
     "height": 442
    },
    "id": "de7c13d7",
    "outputId": "750c02b2-65be-49b7-c71f-6d266748de5c"
   },
   "outputs": [
    {
     "name": "stderr",
     "output_type": "stream",
     "text": [
      "<ipython-input-22-55fb20ab9164>:23: UserWarning: The following kwargs were not used by contour: 'clim'\n",
      "  contours = ax.contourf(xx, yy, Z, alpha=0.3,\n"
     ]
    },
    {
     "data": {
      "image/png": "[encoded data removed]",
      "text/plain": [
       "<Figure size 640x480 with 1 Axes>"
      ]
     },
     "metadata": {},
     "output_type": "display_data"
    }
   ],
   "source": [
    "# min_samples_leaf=6 으로 트리 생성 조건을 제약한 Decision Boundary 시각화\n",
    "dt = DecisionTreeClassifier(min_samples_leaf=6)\n",
    "\n",
    "visualize_boundary(dt, X_features, y_labels)"
   ]
  },
  {
   "cell_type": "markdown",
   "id": "362543d7",
   "metadata": {
    "id": "362543d7"
   },
   "source": [
    "### 4-6. 4-4의 출력결과와 4-5의 출력결과를 과적합 측면에서 비교하여 서술하시오(4점)"
   ]
  },
  {
   "cell_type": "markdown",
   "id": "8085a459",
   "metadata": {
    "id": "8085a459"
   },
   "source": [
    "답 : min_samples_leaf를 디폴트보다 높게 설정했을 때 트리의 깊이가 적어져 과적합을 막을 수 있다. 두 그림을 비교하면 4-5의 경우가 결정 경계가 보다 단순하고 적은 것으로 보아 4-4보다 일반화된 결정트리 모델이라고 할 수 있다."
   ]
  },
  {
   "cell_type": "markdown",
   "id": "bb94382a",
   "metadata": {
    "id": "bb94382a"
   },
   "source": [
    "# 5. 결정 트리 실습"
   ]
  },
  {
   "cell_type": "markdown",
   "id": "64e9695c",
   "metadata": {
    "id": "64e9695c"
   },
   "source": [
    "#### 5-1. penguins 데이터셋을 불러오고 간단한 데이터 전처리를 해주겠습니다. 아래 코드를 실행해주세요! (3점)"
   ]
  },
  {
   "cell_type": "code",
   "execution_count": 26,
   "id": "7371310a",
   "metadata": {
    "colab": {
     "base_uri": "https://localhost:8080/"
    },
    "id": "7371310a",
    "outputId": "b0ba99b2-2769-40f6-ee29-02ba03a578a4"
   },
   "outputs": [
    {
     "data": {
      "text/plain": [
       "species              0\n",
       "island               0\n",
       "bill_length_mm       0\n",
       "bill_depth_mm        0\n",
       "flipper_length_mm    0\n",
       "body_mass_g          0\n",
       "sex                  0\n",
       "dtype: int64"
      ]
     },
     "execution_count": 26,
     "metadata": {},
     "output_type": "execute_result"
    }
   ],
   "source": [
    "import seaborn as sns\n",
    "import numpy as np\n",
    "import pandas as pd\n",
    "\n",
    "penguins= sns.load_dataset(\"penguins\")\n",
    "\n",
    "# 이상치 처리\n",
    "penguins[\"sex\"] = penguins[\"sex\"].replace(\".\",np.NaN)\n",
    "\n",
    "# 결측치 처리\n",
    "cols=[\"bill_length_mm\",\"bill_depth_mm\",\"flipper_length_mm\",\"body_mass_g\"] # 숫자 데이터 컬럼\n",
    "\n",
    "#1. 숫자데이터로 이루어진 컬럼 결측치 -> 평균값으로 채우기\n",
    "for i in range(len(cols)):\n",
    "    penguins[cols[i]] = penguins[cols[i]].fillna(penguins[cols[i]].mean()) # 평균값으로 결측치를 채운다.\n",
    "\n",
    "#2. 문자 데이터로 이루어진 컬럼 결측치 -> row 제거\n",
    "penguins=penguins.dropna(subset=[\"sex\"])\n",
    "\n",
    "\n",
    "penguins.isna().sum(axis=0)"
   ]
  },
  {
   "cell_type": "code",
   "execution_count": 27,
   "id": "f0836c78",
   "metadata": {
    "id": "f0836c78"
   },
   "outputs": [],
   "source": [
    "#피처와 레이블 분리\n",
    "\n",
    "X = penguins.drop([\"species\"],axis=1)\n",
    "y = penguins[\"species\"]"
   ]
  },
  {
   "cell_type": "markdown",
   "id": "c1e4bccc",
   "metadata": {
    "id": "c1e4bccc"
   },
   "source": [
    "#### 5-2. train_test_split을 사용하여 학습셋과 테스트셋을 분리해주세요.(test 데이터의 비율이 20%가 되게 분리 해주세요) (3점)"
   ]
  },
  {
   "cell_type": "code",
   "execution_count": 28,
   "id": "38176343",
   "metadata": {
    "id": "38176343"
   },
   "outputs": [],
   "source": [
    "X_train, X_test, y_train, y_test = train_test_split(X, y, test_size=0.2, random_state=11)"
   ]
  },
  {
   "cell_type": "markdown",
   "id": "0fa90d4f",
   "metadata": {
    "id": "0fa90d4f"
   },
   "source": [
    "#### 5-3. 문자데이터로 이루어진 컬럼은 원-핫 인코딩을, 숫자데이터로 이루어진 컬럼은 스케일링을 진행하겠습니다. 아래 코드를 실행시켜주세요. (3점)"
   ]
  },
  {
   "cell_type": "code",
   "execution_count": 29,
   "id": "1bb53038",
   "metadata": {
    "id": "1bb53038"
   },
   "outputs": [],
   "source": [
    "cat_cols = [\"island\",\"sex\"]\n",
    "num_cols =[\"bill_length_mm\",\"bill_depth_mm\",\"flipper_length_mm\",\"body_mass_g\"]\n",
    "\n",
    "from sklearn.preprocessing import OneHotEncoder\n",
    "\n",
    "oe=OneHotEncoder(sparse_output=False)\n",
    "X_train_cat = oe.fit_transform(X_train[cat_cols])\n",
    "X_test_cat = oe.fit_transform(X_test[cat_cols])\n",
    "\n",
    "from sklearn.preprocessing import StandardScaler\n",
    "\n",
    "scaler=StandardScaler()\n",
    "X_train_scaler = scaler.fit_transform(X_train[num_cols])\n",
    "X_test_scaler = scaler.fit_transform(X_test[num_cols])\n",
    "\n",
    "# 원-핫 인코딩한 결과와 스케일링한 결과 합치기\n",
    "X_train_s=np.concatenate((X_train_cat,X_train_scaler),axis=1)\n",
    "X_test_s=np.concatenate((X_test_cat,X_test_scaler),axis=1)\n",
    "\n",
    "# y_train은 문자열이기 때문에 레이블 인코딩을 진행해줍니다.\n",
    "from sklearn.preprocessing import LabelEncoder\n",
    "\n",
    "e=LabelEncoder()\n",
    "y_train=e.fit_transform(y_train)\n",
    "y_test=e.fit_transform(y_test)"
   ]
  },
  {
   "cell_type": "markdown",
   "id": "78b65a8e",
   "metadata": {
    "id": "78b65a8e"
   },
   "source": [
    "#### 5-4. 이제 decisiontree를 활용하여 학습시켜주겠습니다. 먼저 decisiontressClassifier의 하이퍼 파라미터는 모두 디폴트 값으로 설정해 수행하고, 정확도를 확인해주세요. (random_state는 156으로 설정해주세요.) (4점)"
   ]
  },
  {
   "cell_type": "code",
   "execution_count": 33,
   "id": "3dbef4ab",
   "metadata": {
    "colab": {
     "base_uri": "https://localhost:8080/"
    },
    "id": "3dbef4ab",
    "outputId": "a492e003-67df-4edb-fbe4-e0a36ce5d247"
   },
   "outputs": [
    {
     "name": "stdout",
     "output_type": "stream",
     "text": [
      "결정 트리 정확도: 0.9552\n"
     ]
    }
   ],
   "source": [
    "from sklearn.metrics import accuracy_score\n",
    "\n",
    "dt_clf = DecisionTreeClassifier(random_state=156)\n",
    "dt_clf.fit(X_train_s, y_train)\n",
    "pred = dt_clf.predict(X_test_s)\n",
    "accuracy = accuracy_score(y_test, pred)\n",
    "\n",
    "print('결정 트리 정확도: {0:.4f}'.format(accuracy))"
   ]
  },
  {
   "cell_type": "markdown",
   "id": "7ad7ec0c",
   "metadata": {
    "id": "7ad7ec0c"
   },
   "source": [
    "#### 5-5. 이번에는 결정 트리의 트리 깊이와 min_samples_leaf가 예측 정확도에 주는 영향을 살펴보겠습니다. (GridSearchCV 사용)  max_depth와 min_samples_leaf는 자유롭게 설정해주시고, scoring은 accuracy, cv는 5로 설정해주세요. 이후 GridSearchCV 최고 평균 정확도 수치와 최적 하이퍼 파라미터를 출력해주세요. (3점)"
   ]
  },
  {
   "cell_type": "code",
   "execution_count": 46,
   "id": "04751cbb",
   "metadata": {
    "colab": {
     "base_uri": "https://localhost:8080/"
    },
    "id": "04751cbb",
    "outputId": "a04ad913-af48-4d3d-f6ed-e2e42fd91ae4"
   },
   "outputs": [
    {
     "name": "stdout",
     "output_type": "stream",
     "text": [
      "Fitting 5 folds for each of 12 candidates, totalling 60 fits\n",
      "GridSearchCV 최고 평균 정획도 수치: 0.9436\n",
      "GridSearchCV 최적 하이퍼 파라미터:  {'max_depth': 2, 'min_samples_leaf': 4}\n"
     ]
    }
   ],
   "source": [
    "from sklearn.model_selection import GridSearchCV\n",
    "\n",
    "params={\n",
    "    'max_depth':[2, 4, 6],\n",
    "    'min_samples_leaf':[4, 8, 12, 24]\n",
    "}\n",
    "\n",
    "grid_cv = GridSearchCV(dt_clf, param_grid=params, scoring='accuracy', cv=5, verbose=1)\n",
    "grid_cv.fit(X_train_s, y_train)\n",
    "print('GridSearchCV 최고 평균 정획도 수치: {0:.4f}'.format(grid_cv.best_score_))\n",
    "print('GridSearchCV 최적 하이퍼 파라미터: ', grid_cv.best_params_)"
   ]
  },
  {
   "cell_type": "markdown",
   "id": "294c6f17",
   "metadata": {
    "id": "294c6f17"
   },
   "source": [
    "#### 5-6. 마지막으로 별도의 테스트 세트에서 결정 트리의 정확도를 측정해보겠습니다. max_depth는 3으로 고정하고,min_samples_leaf를 자유롭게 변경하며 변화에 따른 값을 측정해주세요. (4점)"
   ]
  },
  {
   "cell_type": "code",
   "execution_count": 49,
   "id": "747ee1b4",
   "metadata": {
    "colab": {
     "base_uri": "https://localhost:8080/"
    },
    "id": "747ee1b4",
    "outputId": "eb532dc2-5358-4d53-df91-aedc543cd50d"
   },
   "outputs": [
    {
     "name": "stdout",
     "output_type": "stream",
     "text": [
      "min_samples_leaf= 2\n",
      "결정 트리 정확도: 0.9552\n",
      "\n",
      "\n",
      "min_samples_leaf= 4\n",
      "결정 트리 정확도: 0.9403\n",
      "\n",
      "\n",
      "min_samples_leaf= 6\n",
      "결정 트리 정확도: 0.9254\n",
      "\n",
      "\n",
      "min_samples_leaf= 8\n",
      "결정 트리 정확도: 0.9104\n",
      "\n",
      "\n"
     ]
    }
   ],
   "source": [
    "min_samples_leaf=[2, 4, 6, 8]\n",
    "\n",
    "#min_samples_leaf 값을 변화시키며 그때마다 학습과 테스트 세트에서의 예측 성능 측정\n",
    "for msl in min_samples_leaf:\n",
    "  dt = DecisionTreeClassifier(max_depth=3, min_samples_leaf=msl)\n",
    "  dt.fit(X_train_s, y_train)\n",
    "  pred = dt.predict(X_test_s)\n",
    "  accuracy = accuracy_score(y_test, pred)\n",
    "  print('min_samples_leaf=', msl)\n",
    "  print('결정 트리 정확도: {0:.4f}'.format(accuracy))\n",
    "  print('\\n')"
   ]
  }
 ],
 "metadata": {
  "colab": {
   "provenance": []
  },
  "kernelspec": {
   "display_name": "Python 3 (ipykernel)",
   "language": "python",
   "name": "python3"
  },
  "language_info": {
   "codemirror_mode": {
    "name": "ipython",
    "version": 3
   },
   "file_extension": ".py",
   "mimetype": "text/x-python",
   "name": "python",
   "nbconvert_exporter": "python",
   "pygments_lexer": "ipython3",
   "version": "3.9.17"
  }
 },
 "nbformat": 4,
 "nbformat_minor": 5
}
