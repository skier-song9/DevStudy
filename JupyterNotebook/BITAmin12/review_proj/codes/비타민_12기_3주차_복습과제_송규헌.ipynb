{
 "cells": [
  {
   "cell_type": "code",
   "execution_count": 1,
   "id": "83184f71",
   "metadata": {},
   "outputs": [],
   "source": [
    "import pandas as pd\n",
    "import numpy as np\n",
    "from sklearn.model_selection import train_test_split\n",
    "from sklearn.tree import DecisionTreeClassifier\n",
    "from sklearn.preprocessing import LabelEncoder\n",
    "from sklearn.metrics import accuracy_score,confusion_matrix,classification_report"
   ]
  },
  {
   "cell_type": "markdown",
   "id": "fcb1b157",
   "metadata": {},
   "source": [
    "### 문제 1\n",
    "호주 멜버른의 주택 가격 데이터셋 melb_data.csv으로 주택 가격을 예측하고,   \n",
    "각종 평가지표를 사용하여 결정트리 모델을 평가하세요."
   ]
  },
  {
   "cell_type": "markdown",
   "id": "4430a667",
   "metadata": {},
   "source": [
    "#### Data Description \n",
    "\n",
    "* `Rooms`: 방 개수\n",
    "\n",
    "* `Price`: 가격(단위: $ 달러)\n",
    "\n",
    "* `Type`: 주택 유형   \n",
    "br - bedroom(s); h - house,cottage,villa, semi,terrace; u - unit, duplex; t - townhouse; dev site - development site; o res - other residential.\n",
    "\n",
    "* `Distance`: Distance from CBD(Central Business District : 도심 지역)\n",
    "\n",
    "* `Bedroom2` : Scraped # of Bedrooms (from different source) (주요 침실 개수)\n",
    "\n",
    "* `Bathroom`: Number of Bathrooms\n",
    "\n",
    "* `Car`: Number of carspots\n",
    "\n",
    "* `Landsize`: Land Size\n",
    "\n",
    "* `BuildingArea`: Building Size\n",
    "\n",
    "* `CouncilArea`: Governing council for the area\n"
   ]
  },
  {
   "cell_type": "markdown",
   "id": "f6f28d3b",
   "metadata": {},
   "source": [
    "우선 다음 코드들을 실행하여 melb_data변수명으로 데이터를 로드하고   \n",
    "결정트리 분석에 필요한 컬럼만 남기고 결손값을 처리합니다.      \n",
    "<span style='color:green'>(로컬 환경에 알맞게 file_path를 변경하세요)</span>\n",
    "      \n",
    "* feature 데이터 = [Rooms, Type, Distance, Bedroom2, Bathroom, Car, Landsize, BuildingArea, CouncilArea]   \n",
    "* label 데이터 = Price      \n",
    "   \n",
    "(Price 값이 양적 자료이기 때문에 분류보단 회귀방식의 모델이 더 적합하지만, 결정트리를 사용하기 위해 편의상 Price값을 사분위수에 따라 범주형 자료로 변환하여 사용합니다.)"
   ]
  },
  {
   "cell_type": "code",
   "execution_count": 2,
   "id": "7243bf4a",
   "metadata": {},
   "outputs": [
    {
     "name": "stderr",
     "output_type": "stream",
     "text": [
      "\n",
      "KeyboardInterrupt\n",
      "\n"
     ]
    }
   ],
   "source": [
    "#(문제 아님)\n",
    "file_path = '../data/melb_data.csv'\n",
    "drop_columns=['Date','YearBuilt','Suburb','SellerG','Postcode','Address','Method','Lattitude','Longtitude','Propertycount']\n",
    "melb_data = pd.read_csv(file_path).drop(columns=drop_columns,axis=1)\n",
    "melb_data['CouncilArea'] = melb_data['CouncilArea'].fillna('Moreland')\n",
    "melb_data['BuildingArea'] = melb_data['BuildingArea'].fillna(melb_data['BuildingArea'].mean())\n",
    "melb_data['Car'] = melb_data['Car'].fillna(melb_data['Car'].median())"
   ]
  },
  {
   "cell_type": "code",
   "execution_count": null,
   "id": "a2d93a04",
   "metadata": {},
   "outputs": [],
   "source": [
    "melb_data.info()"
   ]
  },
  {
   "cell_type": "markdown",
   "id": "d4334a1f",
   "metadata": {},
   "source": [
    "LabelEncoder를 사용하여 인코딩을 합니다."
   ]
  },
  {
   "cell_type": "code",
   "execution_count": 40,
   "id": "938fd676",
   "metadata": {},
   "outputs": [],
   "source": [
    "#(문제 아님)\n",
    "categorical_features = [ 'Type', 'CouncilArea','Regionname']\n",
    "for col in categorical_features:\n",
    "    le = LabelEncoder()\n",
    "    melb_data[col] = le.fit_transform(melb_data[col])"
   ]
  },
  {
   "cell_type": "markdown",
   "id": "9e2d4f00",
   "metadata": {},
   "source": [
    "### 1-1 (5점) - 전처리\n",
    "label 데이터(target)로 Price 를 사용할 것입니다.   \n",
    "그러나 양적 자료인 Price를 결정트리에 알맞게 범주형 자료로 변형하기 위해서 사분위수(quartile)와 2차세션 복습과제 때 학습했던 Tukey Fences 개념을 활용할 것입니다.   \n",
    "아래 규칙과 같이 Price값을 바꾸세요.\n",
    "   \n",
    "   <span style='color:red'>[ 규칙 ]</span>\n",
    "* 0 이상, Q1 미만 : '0' \n",
    "* Q1 이상, Q2 미만 : '1' \n",
    "* Q2 이상, Q3 미만 : '2' \n",
    "* Q3 이상 : '3' \n",
    "      \n",
    "다음은 커스텀 함수 price_to_level()입니다. 위의 규칙에 맞게 빈칸을 알맞게 채우세요.   \n",
    "   (문제에 적힌 대로 함수를 작성하지 않아도 됩니다. 아래 함수 출력 결과(0 1 2 3)가 일치하기만 하면 됩니다.)"
   ]
  },
  {
   "cell_type": "code",
   "execution_count": null,
   "id": "f28aaf8a",
   "metadata": {},
   "outputs": [],
   "source": [
    "def price_to_level(prices): # prices : pd.Series객체로 전달해주세요\n",
    "    # 문제) 사분위수(Q1,Q2,Q3) 구하기\n",
    "    \n",
    "    # 문제) 위의 규칙에 맞게 Price값에 따라 레벨로 변환하도록 코드를 작성하세요\n",
    "    p_levels = []\n",
    "    \n",
    "    # Price_Level 데이터를 반환하세요.\n",
    "    return p_levels    \n",
    "\n",
    "# price_to_level() 커스텀 함수를 사용하여 Price컬럼값을 변경합니다.\n",
    "melb_data['Price'] = price_to_level(melb_data['Price'])\n",
    "\n",
    "# 문제) Price 컬럼명을 PriceLevel로 변경하세요. (힌트: pandas의 rename() 사용)\n"
   ]
  },
  {
   "cell_type": "markdown",
   "id": "a47e79c3",
   "metadata": {},
   "source": [
    "아래 코드를 실행하여 데이터 변환이 제대로 이루어졌는지 확인하세요."
   ]
  },
  {
   "cell_type": "code",
   "execution_count": 42,
   "id": "dc3be5ea",
   "metadata": {},
   "outputs": [
    {
     "name": "stdout",
     "output_type": "stream",
     "text": [
      "0 1 2 3\n"
     ]
    }
   ],
   "source": [
    "#(문제아님)\n",
    "### 간단하게 price_to_level() 커스텀 함수를 확인하세요 ###\n",
    "print(melb_data.loc[8,'PriceLevel'],melb_data.loc[3,'PriceLevel'],\n",
    "      melb_data.loc[1,'PriceLevel'],melb_data.loc[0,'PriceLevel'])\n",
    "### 출력 결과가 0 1 2 3 이면, 커스텀 함수를 올바르게 작성한 것입니다. ###"
   ]
  },
  {
   "cell_type": "markdown",
   "id": "9f1ef9ac",
   "metadata": {},
   "source": [
    "### 1-2 (5점) - 정확도\n",
    "melb_data 를 train_test_split() 함수로 학습/테스트용 데이터로 분리하고, 간단하게 DecisionTreeClassifier 를 사용하여 모델을 학습하고 PriceLevel을 예측해보세요. 그리고 예측 결과의 정확도(accuracy)를 평가해서 소수점 5번째 자리에서 반올림하여 출력해보세요.   \n",
    "<span style='color:green'>(DecisionTreeClassfier 생성자 함수와 train_test_split의 random_state 파라미터값은 모두 10을 전달해주세요, test_size는 0.25로 설정해주세요.)</span>\n",
    "* features 데이터 : PriceLevel을 제외한 나머지 컬럼   \n",
    "* label 데이터 : PriceLevel 컬럼"
   ]
  },
  {
   "cell_type": "code",
   "execution_count": 43,
   "id": "e3b83d72",
   "metadata": {},
   "outputs": [],
   "source": [
    "# features 변수명에 해당 데이터를, label 변수명에 해당 데이터를 저장하고,\n",
    "# train_test_split()으로 데이터를 분리하세요.\n",
    "\n",
    "\n",
    "# 결정트리 객체를 생성하고 학습, 예측을 수행하세요. (예측값은 'pred' 변수명으로 저장하세요.)\n",
    "\n",
    "\n",
    "# 예측 결과를 정확도로 평가하고 평가 결과를 위의 조건대로 반올림하여 출력하세요\n"
   ]
  },
  {
   "cell_type": "markdown",
   "id": "3d60a76e",
   "metadata": {},
   "source": [
    "### 1-3 (40점) - 정밀도와 재현율\n",
    "위의 예측값(pred)과 실제값(y_test)을 토대로 confusion matrix를 구현해보세요.   (다중 분류일 때의 confusion matrix를 학습해봅시다)   \n",
    "다음과 같은 모양으로 DataFrame객체를 생성해서 출력해보세요.   \n",
    "   (개수는 해당 경우의 수를 의미)\n",
    "|          | 0 | 1 | 2 | 3 |\n",
    "|----------|----------|----------|----------|----------|\n",
    "| 0 | 개수 | 개수 |개수  |개수  |\n",
    "| 1 | 개수 | 개수 | 개수 | 개수 |\n",
    "| 2 | 개수 | 개수 | 개수 | 개수 |\n",
    "| 3 | 개수 | 개수 | 개수 | 개수 |"
   ]
  },
  {
   "cell_type": "markdown",
   "id": "51a3af1f",
   "metadata": {},
   "source": [
    "**a)**\n",
    "sklearn.metrics의 confusion_matrix() 함수로 생성한 오차행렬을 cm 변수에 저장하고,\n",
    "이를 DataFrame객체로 변환해 위의 예시처럼 예쁘게 출력하세요.   \n",
    "**(5점)**"
   ]
  },
  {
   "cell_type": "code",
   "execution_count": null,
   "id": "e94d9eee",
   "metadata": {},
   "outputs": [],
   "source": [
    "classes = ['0', '1', '2', '3'] # 레이블 클래스\n",
    "# 변수 cm에 confusion_matrix를 저장하세요\n",
    "\n",
    "# pandas DataFrame으로 변환하여 예쁘게 출력하세요\n"
   ]
  },
  {
   "cell_type": "markdown",
   "id": "0cdbe7ee",
   "metadata": {},
   "source": [
    "####  직접 재현율(recall)과 정밀도(precision)를 구해서 확인해보세요\n",
    "힌트: 다중분류의 confusion matrix를 학습하고 macro-averaging과 micro-averaging을 학습하세요."
   ]
  },
  {
   "cell_type": "markdown",
   "id": "7a66f53a",
   "metadata": {},
   "source": [
    "**b)** macro-averaging(macro-mean) 방식을 사용하여 macro_precision과 macro_recall 값을 구하고 출력하세요.   \n",
    "(반복문을 사용하여 해결하세요, 변수명도 각각 macro_precision과 macro_recall을 사용하세요.)      \n",
    "**(13점)**"
   ]
  },
  {
   "cell_type": "code",
   "execution_count": null,
   "id": "ff6e661d",
   "metadata": {},
   "outputs": [],
   "source": [
    "\n"
   ]
  },
  {
   "cell_type": "markdown",
   "id": "6a764bec",
   "metadata": {},
   "source": [
    "**c)** micro-averaging 방식을 사용하여 micro_precision과 micro_recall 값을 구하고 출력하세요.   \n",
    "(변수명도 각각 micro_precision과 micro_recall을 사용하세요.)   \n",
    "(힌트: 위의 반복문에서 미리 TP,FP,FN들을 저장하면 여기선 계산만 하면 됩니다.)   \n",
    "**(13점)**"
   ]
  },
  {
   "cell_type": "code",
   "execution_count": null,
   "id": "877cc8cb",
   "metadata": {},
   "outputs": [],
   "source": [
    "\n"
   ]
  },
  {
   "cell_type": "markdown",
   "id": "d1a80ddb",
   "metadata": {},
   "source": [
    "**d)** sklearn.metrics의 classification_report() 함수를 사용하여 구한 평가지표 결과를 clf_report 변수에 저장하세요  \n",
    "그리고 해당 변수를 DataFrame 객체로 변환하여 출력하세요.   \n",
    "(힌트 : classification_report()함수의 파라미터들을 학습하고 데이터프레임 객체로 쉽게 변환하는 방법을 찾아보세요)   \n",
    "**(4점)**"
   ]
  },
  {
   "cell_type": "code",
   "execution_count": null,
   "id": "da0dc993",
   "metadata": {},
   "outputs": [],
   "source": [
    "# classification_report를 변수에 저장하고 DataFrame으로 변환하여 출력하세요.\n"
   ]
  },
  {
   "cell_type": "markdown",
   "id": "7ea60c15",
   "metadata": {},
   "source": [
    "**e)** 위에서 직접 구한 macro_precision, macro_recall, micro_precision, micro_recall값이 clf_report의 내용과 같은지 소수점 4번째 자리까지 비교하여 출력하세요.\n",
    "* 출력용 코드 예시   \n",
    "<code>print('[Macro_P] my_score:{:.4f}, report_score:{:.4f}'.format(macro_precision,report_mac_precision))</code>   \n",
    "<code>print('[Macro_R] my_score:{:.4f}, report_score:{:.4f}'.format(macro_recall,report_mac_recall))</code>   \n",
    "<code>print('[Micro_P] my_score:{:.4f}, report_score:{:.4f}'.format(micro_precision,report_mic_precision))</code>   \n",
    "<code>print('[Micro_R] my_score:{:.4f}, report_score:{:.4f}'.format(micro_recall,report_mic_recall))</code>\n",
    "      \n",
    "(힌트: classification_report를 출력해보면 micro averaging한 데이터가 없다! 그러나 micro averaging의 수식을 잘 살펴보면 어떤 평가지표와 의미가 같다는 사실을 알 수 있다.)   \n",
    "**(5점)**"
   ]
  },
  {
   "cell_type": "code",
   "execution_count": 49,
   "id": "446a840c",
   "metadata": {},
   "outputs": [],
   "source": [
    "# 위의 출력 코드 예시를 활용해서 각 평가 결과값들을 비교하여 출력하세요\n"
   ]
  },
  {
   "cell_type": "markdown",
   "id": "e3538fe9",
   "metadata": {},
   "source": [
    "### 문제2 (50점)\n",
    "위스콘신 유방암 데이터 세트는 종양의 크기, 모양 등의 다양한 속성 값을 기반으로 해당 종양이 악성인지 양성인지를 분류한 데이터 세트입니다. 종양의 양성 여부는 class 컬럼에서 확인할 수 있으며, 양성은 2, 악성은 4로 표시되어 있습니다.  "
   ]
  },
  {
   "cell_type": "markdown",
   "id": "8757f879",
   "metadata": {},
   "source": [
    "아래의 코드를 실행해주세요."
   ]
  },
  {
   "cell_type": "code",
   "execution_count": 96,
   "id": "bf61b561",
   "metadata": {},
   "outputs": [],
   "source": [
    "import numpy as np\n",
    "import pandas as pd\n",
    "import matplotlib.pyplot as plt\n",
    "%matplotlib inline\n",
    "from sklearn import model_selection\n",
    "from sklearn.linear_model import LogisticRegression\n",
    "from sklearn.preprocessing import StandardScaler\n",
    "from sklearn import metrics\n",
    "from sklearn.model_selection import train_test_split\n",
    "from sklearn.metrics import accuracy_score, precision_score, recall_score, roc_auc_score\n",
    "from sklearn.metrics import f1_score, confusion_matrix, precision_recall_curve, roc_curve\n",
    "from sklearn.metrics import roc_auc_score"
   ]
  },
  {
   "attachments": {
    "image-2.png": {
     "image/png": "[encoded data removed]"
    }
   },
   "cell_type": "markdown",
   "id": "6c5aa844",
   "metadata": {},
   "source": [
    "2-1. *breast_cancer* 데이터셋을 데이터프레임으로 불러온 후 df 변수에 저장해주세요. 상위 5개의 행을 확인할 수 있도록 출력해주세요.  **(3점)**  \n",
    "(데이터셋의 첫 번째, 두 번째 열을 삭제한 후, 아래의 사진과 같은 결과가 나오도록 출력해주세요.)\n",
    "![image-2.png](attachment:image-2.png)"
   ]
  },
  {
   "cell_type": "code",
   "execution_count": null,
   "id": "c8247b67",
   "metadata": {},
   "outputs": [],
   "source": []
  },
  {
   "cell_type": "code",
   "execution_count": 98,
   "id": "0dab5f34",
   "metadata": {},
   "outputs": [],
   "source": [
    "# df 데이터셋의 첫 번째, 두 번째 열을 삭제해주세요.\n"
   ]
  },
  {
   "attachments": {
    "image.png": {
     "image/png": "[encoded data removed]"
    }
   },
   "cell_type": "markdown",
   "id": "c26d3376",
   "metadata": {},
   "source": [
    "2-2. 아래의 colums_name 변수를 활용하여 0~10까지의 숫자로 되어 있는 컬럼명을 변경해주세요. **(3점)**  \n",
    "(각각의 컬럼과 columns_name 변수 안의 컬럼명의 순서는 동일합니다. 아래의 사진과 같은 데이터셋의 형태를 띌 수 있도록 컬럼명을 변경해주세요. 아래의 columns_name 변수를 복사해서 코드를 작성해주세요.)\n",
    "\n",
    "columns_name = ['clump', 'cell_size', 'cell_shape', 'adhesion', 'epithlial', 'bare_nuclei', \n",
    "                'chromatin', 'normal_nucleoli', 'mitoses', 'class']\n",
    "![image.png](attachment:image.png)"
   ]
  },
  {
   "cell_type": "code",
   "execution_count": null,
   "id": "d46d9f5d",
   "metadata": {},
   "outputs": [],
   "source": []
  },
  {
   "cell_type": "markdown",
   "id": "568e6250",
   "metadata": {},
   "source": [
    "2-3. 다음의 설명에 따라 전처리를 진행해주세요. **(6점)**"
   ]
  },
  {
   "cell_type": "code",
   "execution_count": 102,
   "id": "8c66f338",
   "metadata": {},
   "outputs": [],
   "source": [
    "# info를 활용하여 데이터타입을 확인해주세요.\n"
   ]
  },
  {
   "cell_type": "code",
   "execution_count": 104,
   "id": "8be7244c",
   "metadata": {},
   "outputs": [],
   "source": [
    "# df 데이터 중 bare_nuclei 컬럼의 값 분포를 확인해주세요. (value_counts 활용)\n"
   ]
  },
  {
   "cell_type": "code",
   "execution_count": 106,
   "id": "43d08b25",
   "metadata": {},
   "outputs": [],
   "source": [
    "# 'bare_nuclei'컬럼에 있는 값 중'?'를 'bare_nuclei' 컬럼의 최빈값으로 바꿔주세요.\n"
   ]
  },
  {
   "cell_type": "code",
   "execution_count": 108,
   "id": "c4e80750",
   "metadata": {},
   "outputs": [],
   "source": [
    "# 'bare_nuclei'컬럼의 데이터 타입을 숫자형(int)으로 바꿔주세요.\n"
   ]
  },
  {
   "cell_type": "code",
   "execution_count": 110,
   "id": "1d739a43",
   "metadata": {},
   "outputs": [],
   "source": [
    "# 양성은 2, 악성은 4로 표시되어 있는 df['class'] 값 중 2(양성)는 숫자 0으로, 4(음성)는 숫자 1로 바꿔주세요.\n"
   ]
  },
  {
   "cell_type": "markdown",
   "id": "00404afd",
   "metadata": {},
   "source": [
    "2-4. 아래의 설명에 따라 데이터를 분리해주세요. **(3점)**"
   ]
  },
  {
   "cell_type": "code",
   "execution_count": 112,
   "id": "f47e3781",
   "metadata": {},
   "outputs": [],
   "source": [
    "# 피처 데이터 세트 x, 레이블 데이터 세트 y를 추출해주세요. (레이블 데이터는 class컬럼에 담겨있습니다.)\n",
    "\n"
   ]
  },
  {
   "cell_type": "markdown",
   "id": "2a3b525d",
   "metadata": {},
   "source": [
    "2-5. StandardScaler를 활용하여 개별 피처의 평균이 0이고, 분산이 1인 값으로 변환해주세요. 또한, 변환된 데이터 세트를 DataFrame으로 변환해 data_df라는 변수에 저장해주세요. data_df 데이터프레임의 컬럼명은 아래의 columns_name2 변수를 그대로 활용하여 설정해주세요. **(8점)**  \n",
    "columns_name2 = ['clump', 'cell_size', 'cell_shape', 'adhesion', 'epithlial', 'bare_nuclei', \n",
    "                'chromatin', 'normal_nucleoli', 'mitoses']\n",
    "\n",
    "(columns_name2 변수에 담겨있는 컬럼명의 순서와 데이터프레임 각 열의 순서는 동일하기 때문에 columns_name2 변수를 수정할 필요는 없습니다.)"
   ]
  },
  {
   "cell_type": "code",
   "execution_count": 114,
   "id": "c6762f3f",
   "metadata": {},
   "outputs": [],
   "source": [
    "# StandardScaler 객체 생성\n",
    "\n",
    "# StandardScaler로 데이터 세트 변환. fit()과 transform() 호출\n",
    "\n"
   ]
  },
  {
   "cell_type": "code",
   "execution_count": 116,
   "id": "fad86cea",
   "metadata": {},
   "outputs": [],
   "source": [
    "# columns_name2 변수를 생성해주세요.\n",
    "\n",
    "\n",
    "# data_df 변수에 변환된 데이터프레임을 저장해주세요.\n",
    "\n",
    "# data_df 데이터프레임의 하위 5개 행을 출력해주세요.\n"
   ]
  },
  {
   "cell_type": "markdown",
   "id": "b34f8bd7",
   "metadata": {},
   "source": [
    "2-6. 아래의 설명에 따라 데이터를 분리해주세요. **(4점)**"
   ]
  },
  {
   "cell_type": "code",
   "execution_count": 118,
   "id": "9029d94b",
   "metadata": {},
   "outputs": [],
   "source": [
    "# 학습데이터와 테스트 데이터를 나눠주세요. (random_state는 11로 설정해주세요.)\n"
   ]
  },
  {
   "cell_type": "code",
   "execution_count": 120,
   "id": "34ff2d2d",
   "metadata": {},
   "outputs": [],
   "source": [
    "# 분리한 데이터의 형태를 출력해주세요. (shape 활용)\n"
   ]
  },
  {
   "cell_type": "markdown",
   "id": "da0c5bfe",
   "metadata": {},
   "source": [
    "2-7. 로지스틱 회귀로 학습, 예측 및 평가 수행 **(13점)**"
   ]
  },
  {
   "cell_type": "code",
   "execution_count": 122,
   "id": "ec6844dc",
   "metadata": {},
   "outputs": [],
   "source": [
    "# LogisticRegression 객체를 생성해주세요. 해당 객체의 파라미터 중 solver는 'liblinear'로 설정하고 random_state는 11로 설정해주세요.\n",
    "\n",
    "# LogisticRegression 객체를 활용한 학습\n",
    "\n",
    "# LogisticRegression 객체를 활용한 예측 (LogisticRegression 객체의 predict 메서드 활용)\n"
   ]
  },
  {
   "cell_type": "code",
   "execution_count": 124,
   "id": "07738357",
   "metadata": {},
   "outputs": [],
   "source": [
    "# pred_proba 변수를 생성하고 이 변수에 클래스별 확률값을 저장하세요. (LogisticRegression 객체의 predict_proba() 메서드를 활용)\n",
    "\n",
    "# pred_proba_class1 변수를 만들고 이 변수에 레이블 값이 1일때의 예측 확률을 저장해주세요.(LogisticRegression 객체의 predict_proba() 메서드를 활용)\n",
    "\n"
   ]
  },
  {
   "cell_type": "code",
   "execution_count": 126,
   "id": "e49ca706",
   "metadata": {},
   "outputs": [],
   "source": [
    "#roc_curve API를 이용해 예측 모델의 FPR, TPR, 임계값을 구해주세요.\n",
    "\n",
    "\n",
    "# 반환된 임곗값 배열에서 샘플로 데이터를 추출하되, 임곗값을 4 Step으로 추출해주세요. np.arange는 1부터 시작할 수 있도록 설정해주세요.\n",
    "\n",
    "\n",
    "# '샘플 추출을 위한 임곗값 배열의 index'과 '샘플 index로 추출한 임곗값'을 출력해주세요. 각각의 값은 소수점 넷째 자리에서 반올림하여 출력해주세요.\n",
    "\n",
    "\n",
    "\n",
    "# 4 Step 단위로 추출된 임곗값에 따른 FPR, TPR 값을 출력해주세요. 각각의 값은 소수점 넷째 자리에서 반올림하여 출력해주세요.\n",
    "\n",
    "\n"
   ]
  },
  {
   "cell_type": "code",
   "execution_count": 128,
   "id": "317ee9e0",
   "metadata": {},
   "outputs": [],
   "source": [
    "# roc_auc_score API를 활용하여 roc auc 값을 출력해주세요.(소수점 넷째 자리에서 반올림하여 출력)\n",
    "\n"
   ]
  },
  {
   "attachments": {
    "image.png": {
     "image/png": "[encoded data removed]"
    }
   },
   "cell_type": "markdown",
   "id": "684f38fa",
   "metadata": {},
   "source": [
    "2-8. 이전 문제에서 LogisticRegression 객체의 solver 파라미터를 'lbfgs'로만 설정했던 것과 달리 이번에는 서로 다른 solver 값으로 LogisticRegression을 학습해보고 얻은 성능 평가를 비교해보려고 합니다. 아래의 코드를 완성해주세요.   **(10점)**  \n",
    "(아래의 사진과 같은 형태로 출력될 수 있도록 코드를 작성해주세요.)\n",
    "\n",
    "![image.png](attachment:image.png)  \n",
    "(성능 평가 결과값은 사진 속 값과 다르게 나올 수 있습니다.)"
   ]
  },
  {
   "cell_type": "code",
   "execution_count": null,
   "id": "ad9f63dd",
   "metadata": {},
   "outputs": [],
   "source": [
    "solver_list = ['lbfgs','liblinear','newton-cg', 'sag', 'saga']\n",
    "\n",
    "# solver_list에 담겨있는 각각의 solver 값을 한 번씩 적용하여 LogisticRegression을 학습하고 성능을 평가해주세요. (힌트: for 구문 활용)\n",
    "# 출력 결과에서 5가지 solver 값에 대한 성능 평과 결과를 각각 얻을 수 있도록 for 구문을 활용하여 코드를 완성해주세요.\n",
    "# LogisticRegression 객체의 파라미터는 solver, max_iter, random_state만 설정해주세요. max_iter는 300으로 설정하고 random_state는 11로 설정해주세요.\n",
    "\n",
    "#for구문 작성\n",
    "\n",
    "    # 로지스틱 회귀 객체를 생성해주세요.\n",
    "    \n",
    "    # fit을 사용하여 학습해주세요.\n",
    "    \n",
    "    # 예측\n",
    "    \n",
    "    # accuracy와 roc_auc 측정\n",
    "    \n",
    "    "
   ]
  },
  {
   "cell_type": "markdown",
   "id": "a424fb99",
   "metadata": {},
   "source": [
    "--------"
   ]
  },
  {
   "cell_type": "markdown",
   "id": "bb96adbb",
   "metadata": {},
   "source": [
    "---"
   ]
  },
  {
   "cell_type": "markdown",
   "id": "548f288b",
   "metadata": {},
   "source": [
    "# 1. 결정 트리 특징"
   ]
  },
  {
   "cell_type": "markdown",
   "id": "503b0cf9",
   "metadata": {},
   "source": [
    "### 1-0. 앙상블은 배깅과 부스팅 방식으로 나뉩니다. 부스팅 방식의 알고리즘 중 두개를 말해보세요. (5점)"
   ]
  },
  {
   "cell_type": "markdown",
   "id": "3af34d9b",
   "metadata": {},
   "source": []
  },
  {
   "cell_type": "markdown",
   "id": "b54df261",
   "metadata": {},
   "source": [
    "### 1-1. 아래 사진 속 결정 트리의 리프 노드는 몇개인가요?  (5점)"
   ]
  },
  {
   "cell_type": "code",
   "execution_count": null,
   "id": "878e84ff",
   "metadata": {},
   "outputs": [
    {
     "data": {
      "image/png": "[encoded data removed]",
      "text/plain": [
       "<IPython.core.display.Image object>"
      ]
     },
     "metadata": {},
     "output_type": "display_data"
    }
   ],
   "source": [
    "from IPython.display import Image\n",
    "Image(\"리프노드 개수.png\")"
   ]
  },
  {
   "cell_type": "markdown",
   "id": "5748da06",
   "metadata": {},
   "source": []
  },
  {
   "cell_type": "markdown",
   "id": "a825c972",
   "metadata": {},
   "source": [
    "### 1-2. 결정 트리 모델의 정확도가 떨어질 수 있는 가장 대표적 요인은 무엇인가요?  (10점)"
   ]
  },
  {
   "cell_type": "markdown",
   "id": "e8a29382",
   "metadata": {},
   "source": []
  },
  {
   "cell_type": "markdown",
   "id": "62987325",
   "metadata": {},
   "source": [
    "---"
   ]
  },
  {
   "cell_type": "markdown",
   "id": "f5374644",
   "metadata": {},
   "source": [
    "# 2. 결정 트리 파라미터"
   ]
  },
  {
   "cell_type": "markdown",
   "id": "96394aae",
   "metadata": {},
   "source": [
    "### 2-0. 아래의 answer 리스트를 실행시켜주세요. 2번 문제의 답안이 담길 리스트입니다. 순서가 중요하니 꼭!! 순서를 지켜주세요 :)  "
   ]
  },
  {
   "cell_type": "code",
   "execution_count": null,
   "id": "ee89a384",
   "metadata": {},
   "outputs": [],
   "source": [
    "answer = []"
   ]
  },
  {
   "cell_type": "markdown",
   "id": "71a07d10",
   "metadata": {},
   "source": [
    "#### 📌 보기 <br><br> a = max_samples_split <br> b = min_samples_split <br> c = max_samples_leaf <br> d = min_samples_leaf <br> e = max_features <br> f = min_features <br> g = max_depth <br> h = min_depth <br> i = max_leaf_nodes <br> j = min_leaf_nodes"
   ]
  },
  {
   "cell_type": "markdown",
   "id": "e9a05070",
   "metadata": {},
   "source": [
    "#### 다음 문제들의 답을 리스트에 넣을 때 **answer.append()** 를 사용해주세요. 그렇게 해야 순서가 달라지지 않습니다.<br> (예 : answer.append('a')) <br><br>"
   ]
  },
  {
   "cell_type": "markdown",
   "id": "1f14e94d",
   "metadata": {},
   "source": [
    "### 2-1. 다음에 해당하는 파라미터의 변수를 answer리스트에 넣어주세요.  (4점)\n",
    "<br><br> ☞ 트리의 최대 깊이를 규정합니다. \n",
    "<br> ☞ 디폴트는 None. None으로 설정하면 완벽하게 클래스 결정 값이 될 때까지 깊이를 계속 키우며 분할하기도 한다."
   ]
  },
  {
   "cell_type": "code",
   "execution_count": null,
   "id": "6c90e1ec",
   "metadata": {},
   "outputs": [],
   "source": [
    "# 2-1. 답\n"
   ]
  },
  {
   "cell_type": "markdown",
   "id": "f402603a",
   "metadata": {},
   "source": [
    "### 2-2. 다음에 해당하는 파라미터의 변수를 answer리스트에 넣어주세요. (4점)\n",
    "<br><br> ☞ 분할이 될 경우 왼쪽과 오른쪽의 브랜치 노드에서 가져야 할 최소한의 샘플 데이터 수를 뜻한다. \n",
    "<br> ☞ 큰 값으로 설정될수록, 분할될 경우 왼쪽과 오른쪽의 브랜치 노드에서 가져야 할 최소한의 샘플 데이터 수 조건을 만족시키기가 어려우므로 노드 분할을 상대적으로 덜 수행한다."
   ]
  },
  {
   "cell_type": "code",
   "execution_count": null,
   "id": "13de98b6",
   "metadata": {},
   "outputs": [],
   "source": [
    "# 2-2. 답\n"
   ]
  },
  {
   "cell_type": "markdown",
   "id": "86918055",
   "metadata": {},
   "source": [
    "### 2-3. 다음에 해당하는 파라미터의 변수를 answer리스트에 넣어주세요.  (4점)\n",
    "<br><br> ☞ 노드르르 분할하기 위한 최소한의 샘플 데이터 수로 과적합을 제어하는 데 사용된다. \n",
    "<br> ☞ 디폴트는 2이고 작게 설정할수록 분할되는 노드가 많아져서 과적합 가능성이 증가한다."
   ]
  },
  {
   "cell_type": "code",
   "execution_count": null,
   "id": "264bb905",
   "metadata": {},
   "outputs": [],
   "source": [
    "# 2-3. 답\n"
   ]
  },
  {
   "cell_type": "markdown",
   "id": "0a492ee7",
   "metadata": {},
   "source": [
    "### 2-4. 다음에 해당하는 파라미터의 변수를 answer리스트에 넣어주세요.  (4점)\n",
    "<br><br> ☞ 말단 노드(Leaf)의 최대 개수를 뜻한다. "
   ]
  },
  {
   "cell_type": "code",
   "execution_count": null,
   "id": "1cf6e447",
   "metadata": {},
   "outputs": [],
   "source": [
    "# 2-4. 답\n"
   ]
  },
  {
   "cell_type": "markdown",
   "id": "cde23b1f",
   "metadata": {},
   "source": [
    "### 2-5. 다음에 해당하는 파라미터의 변수를 answer리스트에 넣어주세요.  (4점)\n",
    "<br><br> ☞ 최적의 분할을 위해 고려할 최대 피처 개수이다. 디폴트는 None으로 데이터 세트의 모든 피처를 사용해 분할 수행한다. \n",
    "<br> ☞ int형으로 지정하면 대상 피처의 개수, float형으로 지정하면 전체 피처 중 대상 피처의 퍼센트이다."
   ]
  },
  {
   "cell_type": "code",
   "execution_count": null,
   "id": "1be256e1",
   "metadata": {},
   "outputs": [],
   "source": [
    "# 2-5. 답\n"
   ]
  },
  {
   "cell_type": "markdown",
   "id": "6d2a52dd",
   "metadata": {},
   "source": [
    "### 2번 문제가 모두 끝났습니다. len(answer)을 실행하여 answer의 길이가 5인지 다시 한번 확인해주세요."
   ]
  },
  {
   "cell_type": "code",
   "execution_count": null,
   "id": "f10f8f5c",
   "metadata": {},
   "outputs": [
    {
     "name": "stdout",
     "output_type": "stream",
     "text": [
      "0\n"
     ]
    }
   ],
   "source": [
    "print(len(answer))"
   ]
  },
  {
   "cell_type": "markdown",
   "id": "f30ced79",
   "metadata": {},
   "source": [
    "---"
   ]
  },
  {
   "cell_type": "markdown",
   "id": "e79bc30f",
   "metadata": {},
   "source": [
    "# 3. 결정 트리 모델의 시각화"
   ]
  },
  {
   "cell_type": "markdown",
   "id": "c16d9bda",
   "metadata": {},
   "source": [
    "## 당신은 결정 트리 모델의 시각화를 하려는데 한글 깨짐 현상이 발생했습니다. 위와 같은 문제를 해결하고, 결정 트리 모델을 한글로 시각화 해봅시다."
   ]
  },
  {
   "cell_type": "code",
   "execution_count": null,
   "id": "d8e40a75",
   "metadata": {},
   "outputs": [],
   "source": [
    "import numpy as np\n",
    "import pandas as pd\n",
    "from matplotlib import pyplot as plt\n",
    "from sklearn.datasets import load_iris\n",
    "from sklearn.tree import DecisionTreeClassifier\n",
    "from sklearn.model_selection import train_test_split\n",
    "from sklearn import tree\n",
    "import matplotlib.font_manager as fm\n",
    "\n",
    "%matplotlib inline\n",
    "\n",
    "# sklearn에 저장된 데이터를 불러 옵니다.\n",
    "X, Y = load_iris(return_X_y = True)\n",
    "\n",
    "# DataFrame으로 변환\n",
    "df = pd.DataFrame(X, columns=['꽃받침 길이','꽃받침 넓이', '꽃잎 길이', '꽃잎 넓이'])\n",
    "df['클래스'] = Y\n",
    "\n",
    "X = df.drop(columns=['클래스'])\n",
    "Y = df['클래스']"
   ]
  },
  {
   "cell_type": "markdown",
   "id": "85e8bad4",
   "metadata": {},
   "source": [
    "## 3-1 우선 결정트리 모델 시각화를 하기 위한 작업을 해봅시다. 필요한 라이브러리를 호출하고, 저장된 데이터를 불러왔습니다. train_test_split를 활용하여 학습용, 평가용 데이터로 분리해 봅시다. (random_state = 42, test_size = 0.2)  (5점)"
   ]
  },
  {
   "cell_type": "code",
   "execution_count": null,
   "id": "10482b74",
   "metadata": {},
   "outputs": [],
   "source": [
    "# 3-1 답"
   ]
  },
  {
   "cell_type": "markdown",
   "id": "4358c5ab",
   "metadata": {},
   "source": [
    "## 3.2 DTmodel에 의사결정나무 모델을 초기화 하고 학습합니다.  (5점)"
   ]
  },
  {
   "cell_type": "code",
   "execution_count": null,
   "id": "037320ec",
   "metadata": {},
   "outputs": [],
   "source": [
    "#3-2 답"
   ]
  },
  {
   "cell_type": "markdown",
   "id": "bf3d1e93",
   "metadata": {},
   "source": [
    "## 3.3 이제 시각화를 해볼겁니다. 아래 코드를 실행하고, C:\\Windows\\Fonts 경로에서 한글 폰트를 찾아 적용해봅시다.  (10점)"
   ]
  },
  {
   "cell_type": "markdown",
   "id": "b9703d57",
   "metadata": {},
   "source": [
    "#### Mac OS인 분들은 한글을 포함하여 시각화 성공해주시면 정답입니다!"
   ]
  },
  {
   "cell_type": "code",
   "execution_count": null,
   "id": "14111812",
   "metadata": {},
   "outputs": [
    {
     "data": {
      "text/plain": [
       "['STIXNonUnicode',\n",
       " 'cmex10',\n",
       " 'DejaVu Sans',\n",
       " 'cmmi10',\n",
       " 'STIXSizeFiveSym',\n",
       " 'STIXSizeFourSym',\n",
       " 'STIXSizeOneSym',\n",
       " 'DejaVu Serif',\n",
       " 'DejaVu Sans Mono',\n",
       " 'STIXSizeThreeSym',\n",
       " 'STIXSizeFourSym',\n",
       " 'DejaVu Sans Mono',\n",
       " 'DejaVu Serif',\n",
       " 'STIXNonUnicode',\n",
       " 'STIXSizeTwoSym',\n",
       " 'STIXGeneral',\n",
       " 'DejaVu Serif Display',\n",
       " 'STIXSizeThreeSym',\n",
       " 'STIXSizeTwoSym',\n",
       " 'STIXSizeOneSym',\n",
       " 'cmb10',\n",
       " 'DejaVu Sans Mono',\n",
       " 'cmsy10',\n",
       " 'STIXNonUnicode',\n",
       " 'STIXNonUnicode',\n",
       " 'STIXGeneral',\n",
       " 'STIXGeneral',\n",
       " 'cmtt10',\n",
       " 'DejaVu Sans Mono',\n",
       " 'STIXGeneral',\n",
       " 'DejaVu Sans',\n",
       " 'DejaVu Sans Display',\n",
       " 'cmr10',\n",
       " 'cmss10',\n",
       " 'DejaVu Serif',\n",
       " 'DejaVu Sans',\n",
       " 'DejaVu Serif',\n",
       " 'DejaVu Sans',\n",
       " 'Arial',\n",
       " 'Pyunji R',\n",
       " 'Snap ITC',\n",
       " 'Segoe UI',\n",
       " 'SimSun-ExtB',\n",
       " 'Palace Script MT',\n",
       " 'Wingdings 2',\n",
       " 'Eras Bold ITC',\n",
       " 'Yu Gothic',\n",
       " 'Rockwell',\n",
       " 'Georgia',\n",
       " 'Bodoni MT',\n",
       " 'Gill Sans MT',\n",
       " 'Bodoni MT',\n",
       " 'Verdana',\n",
       " 'Leelawadee',\n",
       " 'Sylfaen',\n",
       " 'Berlin Sans FB',\n",
       " 'Century',\n",
       " 'Calibri',\n",
       " 'Microsoft PhagsPa',\n",
       " 'Consolas',\n",
       " 'Arial',\n",
       " 'Calisto MT',\n",
       " 'HYHeadLine-Medium',\n",
       " 'Bernard MT Condensed',\n",
       " 'Franklin Gothic Heavy',\n",
       " 'Mistral',\n",
       " 'HYMyeongJo-Extra',\n",
       " 'Bell MT',\n",
       " 'Century Gothic',\n",
       " 'Palatino Linotype',\n",
       " 'Goudy Old Style',\n",
       " 'Segoe Print',\n",
       " 'Ravie',\n",
       " 'Leelawadee',\n",
       " 'Century Gothic',\n",
       " 'MS Gothic',\n",
       " 'Book Antiqua',\n",
       " 'Bodoni MT',\n",
       " 'Lucida Sans Typewriter',\n",
       " 'Book Antiqua',\n",
       " 'Microsoft New Tai Lue',\n",
       " 'Blackadder ITC',\n",
       " 'HYShortSamul-Medium',\n",
       " 'Century Schoolbook',\n",
       " 'HYSinMyeongJo-Medium',\n",
       " 'Lucida Sans',\n",
       " 'Maiandra GD',\n",
       " 'Gadugi',\n",
       " 'Segoe UI',\n",
       " 'Rockwell',\n",
       " 'Parchment',\n",
       " 'Gill Sans MT',\n",
       " 'Segoe UI',\n",
       " 'Algerian',\n",
       " 'Niagara Engraved',\n",
       " 'New Gulim',\n",
       " 'Franklin Gothic Book',\n",
       " 'Cambria',\n",
       " 'MoeumT R',\n",
       " 'Yu Gothic',\n",
       " 'Georgia',\n",
       " 'Georgia',\n",
       " 'Microsoft Uighur',\n",
       " 'Segoe UI',\n",
       " 'HYGothic-Extra',\n",
       " 'Calibri',\n",
       " 'Stencil',\n",
       " 'Magneto',\n",
       " 'Elephant',\n",
       " 'Constantia',\n",
       " 'Juice ITC',\n",
       " 'codicon',\n",
       " 'Microsoft Tai Le',\n",
       " 'Centaur',\n",
       " 'Franklin Gothic Medium',\n",
       " 'Franklin Gothic Medium',\n",
       " 'Corbel',\n",
       " 'Microsoft YaHei',\n",
       " 'HoloLens MDL2 Assets',\n",
       " 'Bodoni MT',\n",
       " 'Verdana',\n",
       " 'Segoe UI',\n",
       " 'Lucida Fax',\n",
       " 'Verdana',\n",
       " 'Goudy Old Style',\n",
       " 'Segoe UI Emoji',\n",
       " 'MT Extra',\n",
       " 'Gigi',\n",
       " 'Consolas',\n",
       " 'Informal Roman',\n",
       " 'Microsoft YaHei',\n",
       " 'Kunstler Script',\n",
       " 'Bahnschrift',\n",
       " 'Lucida Bright',\n",
       " 'Franklin Gothic Demi Cond',\n",
       " 'Leelawadee UI',\n",
       " 'Microsoft Tai Le',\n",
       " 'Impact',\n",
       " 'Segoe Script',\n",
       " 'Sans Serif Collection',\n",
       " 'Gill Sans MT Ext Condensed Bold',\n",
       " 'Nirmala UI',\n",
       " 'Trebuchet MS',\n",
       " 'Garamond',\n",
       " 'Constantia',\n",
       " 'Microsoft JhengHei',\n",
       " 'Material Design Icons',\n",
       " 'Bauhaus 93',\n",
       " 'Franklin Gothic Medium Cond',\n",
       " 'Century Schoolbook',\n",
       " 'Century Gothic',\n",
       " 'MS Outlook',\n",
       " 'Playbill',\n",
       " 'Segoe UI Variable',\n",
       " 'Leelawadee UI',\n",
       " 'Cambria',\n",
       " 'Colonna MT',\n",
       " 'Yu Gothic',\n",
       " 'Arial',\n",
       " 'Lucida Sans Typewriter',\n",
       " 'Yu Gothic',\n",
       " 'Britannic Bold',\n",
       " 'Gill Sans MT Condensed',\n",
       " 'Microsoft JhengHei',\n",
       " 'Corbel',\n",
       " 'Berlin Sans FB',\n",
       " 'Microsoft YaHei',\n",
       " 'Rockwell Condensed',\n",
       " 'Ebrima',\n",
       " 'Matura MT Script Capitals',\n",
       " 'Arial',\n",
       " 'Microsoft Uighur',\n",
       " 'Segoe UI',\n",
       " 'French Script MT',\n",
       " 'Microsoft Himalaya',\n",
       " 'Myanmar Text',\n",
       " 'Corbel',\n",
       " 'Gill Sans MT',\n",
       " 'Tw Cen MT Condensed Extra Bold',\n",
       " 'Felix Titling',\n",
       " 'Haettenschweiler',\n",
       " 'Candara',\n",
       " 'High Tower Text',\n",
       " 'Rage Italic',\n",
       " 'Comic Sans MS',\n",
       " 'Garamond',\n",
       " 'Curlz MT',\n",
       " 'Phosphor',\n",
       " 'Arial',\n",
       " 'Californian FB',\n",
       " 'Segoe UI Historic',\n",
       " 'HYPost-Light',\n",
       " 'Consolas',\n",
       " 'Times New Roman',\n",
       " 'HYGothic-Medium',\n",
       " 'Corbel',\n",
       " 'Segoe UI',\n",
       " 'Century Schoolbook',\n",
       " 'Calisto MT',\n",
       " 'Old English Text MT',\n",
       " 'Nirmala UI',\n",
       " 'Bookman Old Style',\n",
       " 'Lucida Fax',\n",
       " 'Rockwell',\n",
       " 'Bodoni MT',\n",
       " 'Webdings',\n",
       " 'Goudy Old Style',\n",
       " 'Brush Script MT',\n",
       " 'Comic Sans MS',\n",
       " 'Palatino Linotype',\n",
       " 'Segoe UI',\n",
       " 'Lucida Sans',\n",
       " 'Segoe UI',\n",
       " 'Trebuchet MS',\n",
       " 'OCR A Extended',\n",
       " 'Corbel',\n",
       " 'Jokerman',\n",
       " 'Onyx',\n",
       " 'Bodoni MT',\n",
       " 'Franklin Gothic Book',\n",
       " 'Tw Cen MT Condensed',\n",
       " 'Font Awesome 5 Brands',\n",
       " 'Broadway',\n",
       " 'Tahoma',\n",
       " 'Bell MT',\n",
       " 'MS Reference Sans Serif',\n",
       " 'Courier New',\n",
       " 'Gill Sans Ultra Bold',\n",
       " 'Edwardian Script ITC',\n",
       " 'Courier New',\n",
       " 'Perpetua',\n",
       " 'Castellar',\n",
       " 'Niagara Solid',\n",
       " 'Modern No. 20',\n",
       " 'Sitka',\n",
       " 'Arial',\n",
       " 'remixicon',\n",
       " 'Rockwell Extra Bold',\n",
       " 'Calisto MT',\n",
       " 'Tw Cen MT',\n",
       " 'Dubai',\n",
       " 'Lucida Bright',\n",
       " 'Perpetua Titling MT',\n",
       " 'HYGungSo-Bold',\n",
       " 'Trebuchet MS',\n",
       " 'Bodoni MT',\n",
       " 'Headline R',\n",
       " 'Arial Rounded MT Bold',\n",
       " 'HYPost-Medium',\n",
       " 'Dubai',\n",
       " 'Segoe UI',\n",
       " 'Symbol',\n",
       " 'Material Design Icons 5.9.55',\n",
       " 'Bodoni MT',\n",
       " 'Dubai',\n",
       " 'Myanmar Text',\n",
       " 'Gabriola',\n",
       " 'Lucida Bright',\n",
       " 'Lucida Handwriting',\n",
       " 'Calibri',\n",
       " 'Showcard Gothic',\n",
       " 'MV Boli',\n",
       " 'Times New Roman',\n",
       " 'Verdana',\n",
       " 'Nirmala UI',\n",
       " 'Poor Richard',\n",
       " 'Cambria',\n",
       " 'Wide Latin',\n",
       " 'Courier New',\n",
       " 'Franklin Gothic Demi',\n",
       " 'Dubai',\n",
       " 'Palatino Linotype',\n",
       " 'Bodoni MT',\n",
       " 'Bookshelf Symbol 7',\n",
       " 'Chiller',\n",
       " 'Lucida Fax',\n",
       " 'Candara',\n",
       " 'Harrington',\n",
       " 'Lucida Sans',\n",
       " 'Leelawadee UI',\n",
       " 'Malgun Gothic',\n",
       " 'Mongolian Baiti',\n",
       " 'Segoe Print',\n",
       " 'Papyrus',\n",
       " 'Comic Sans MS',\n",
       " 'Book Antiqua',\n",
       " 'Lucida Bright',\n",
       " 'Eras Medium ITC',\n",
       " 'Constantia',\n",
       " 'Century Gothic',\n",
       " 'Perpetua',\n",
       " 'Magic R',\n",
       " 'High Tower Text',\n",
       " 'Calibri',\n",
       " 'MingLiU-ExtB',\n",
       " 'Arial',\n",
       " 'Monotype Corsiva',\n",
       " 'Copperplate Gothic Light',\n",
       " 'Font Awesome 5 Free Regular',\n",
       " 'Gill Sans MT',\n",
       " 'Lucida Sans',\n",
       " 'Microsoft New Tai Lue',\n",
       " 'Arial',\n",
       " 'Segoe Script',\n",
       " 'Arial',\n",
       " 'Bell MT',\n",
       " 'Segoe UI',\n",
       " 'Goudy Stout',\n",
       " 'Franklin Gothic Demi',\n",
       " 'Elephant',\n",
       " 'SimSun',\n",
       " 'Agency FB',\n",
       " 'elusiveicons',\n",
       " 'Candara',\n",
       " 'Lucida Sans Typewriter',\n",
       " 'Calibri',\n",
       " 'Tempus Sans ITC',\n",
       " 'Malgun Gothic',\n",
       " 'Times New Roman',\n",
       " 'Cambria',\n",
       " 'Constantia',\n",
       " 'Tw Cen MT',\n",
       " 'Malgun Gothic',\n",
       " 'Candara',\n",
       " 'Bodoni MT',\n",
       " 'Calibri',\n",
       " 'FontAwesome',\n",
       " 'Kristen ITC',\n",
       " 'Lucida Calligraphy',\n",
       " 'Palatino Linotype',\n",
       " 'Wingdings 3',\n",
       " 'Lucida Console',\n",
       " 'Vivaldi',\n",
       " 'Pristina',\n",
       " 'Rockwell Condensed',\n",
       " 'Segoe MDL2 Assets',\n",
       " 'Bodoni MT',\n",
       " 'Century Schoolbook',\n",
       " 'Viner Hand ITC',\n",
       " 'Baskerville Old Face',\n",
       " 'HYPMokGak-Bold',\n",
       " 'Eras Demi ITC',\n",
       " 'Microsoft Yi Baiti',\n",
       " 'Consolas',\n",
       " 'Ink Free',\n",
       " 'Yet R',\n",
       " 'Gill Sans Ultra Bold Condensed',\n",
       " 'HYGraphic-Medium',\n",
       " 'Californian FB',\n",
       " 'Perpetua Titling MT',\n",
       " 'Trebuchet MS',\n",
       " 'Font Awesome 5 Free Solid',\n",
       " 'Imprint MT Shadow',\n",
       " 'Candara',\n",
       " 'Rockwell',\n",
       " 'Tahoma',\n",
       " 'Georgia',\n",
       " 'Bradley Hand ITC',\n",
       " 'Segoe UI',\n",
       " 'Bookman Old Style',\n",
       " 'Candara',\n",
       " 'Gloucester MT Extra Condensed',\n",
       " 'Engravers MT',\n",
       " 'Book Antiqua',\n",
       " 'Vladimir Script',\n",
       " 'Bookman Old Style',\n",
       " 'Eras Light ITC',\n",
       " 'Agency FB',\n",
       " 'Batang',\n",
       " 'Corbel',\n",
       " 'Calisto MT',\n",
       " 'Copperplate Gothic Bold',\n",
       " 'Ami R',\n",
       " 'Javanese Text',\n",
       " 'Microsoft PhagsPa',\n",
       " 'Perpetua',\n",
       " 'Garamond',\n",
       " 'Microsoft Sans Serif',\n",
       " 'Segoe UI Symbol',\n",
       " 'Courier New',\n",
       " 'Lucida Sans Typewriter',\n",
       " 'Script MT Bold',\n",
       " 'Ebrima',\n",
       " 'Bookman Old Style',\n",
       " 'Tw Cen MT Condensed',\n",
       " 'Sitka',\n",
       " 'Franklin Gothic Heavy',\n",
       " 'Wingdings',\n",
       " 'Harlow Solid Italic',\n",
       " 'Forte',\n",
       " 'Segoe Fluent Icons',\n",
       " 'Perpetua',\n",
       " 'Berlin Sans FB Demi',\n",
       " 'Footlight MT Light',\n",
       " 'Comic Sans MS',\n",
       " 'Lucida Fax',\n",
       " 'Times New Roman',\n",
       " 'Gadugi',\n",
       " 'Gulim',\n",
       " 'Tw Cen MT',\n",
       " 'Cooper Black',\n",
       " 'MS Reference Specialty',\n",
       " 'Microsoft JhengHei',\n",
       " 'Freestyle Script',\n",
       " 'Lucida Sans Unicode',\n",
       " 'Tw Cen MT',\n",
       " 'Californian FB']"
      ]
     },
     "metadata": {},
     "output_type": "display_data"
    }
   ],
   "source": [
    "import matplotlib.font_manager as fm\n",
    "#아래 코드는 C:\\Windows\\Fonts에 내장되어 있는 폰트를 리스트로 반환해주는 코드입니다.\n",
    "font_list = [font.name for font in fm.fontManager.ttflist]\n",
    "font_list"
   ]
  },
  {
   "cell_type": "code",
   "execution_count": null,
   "id": "fc305567",
   "metadata": {},
   "outputs": [],
   "source": [
    "# 3-3 답 None 값을 채워주세요.\n",
    "# !!Hint!! 1번째 None 값에 폰트 이름이 들어갑니다. \n",
    "\n",
    "plt.rc('font', family=None)\n",
    "fig = plt.figure(figsize=(25,20))\n",
    "_ = tree.plot_tree(None, \n",
    "                   feature_names=['꽃받침 길이','꽃받침 넓이', '꽃잎 길이', '꽃잎 넓이'],  \n",
    "                   class_names=['setosa', 'versicolor', 'virginica'],\n",
    "                   filled=True)\n"
   ]
  },
  {
   "cell_type": "code",
   "execution_count": null,
   "id": "a11b3a94",
   "metadata": {},
   "outputs": [],
   "source": []
  },
  {
   "cell_type": "markdown",
   "id": "7813a49f",
   "metadata": {},
   "source": [
    "# 4. 결정트리 과적합(20점)"
   ]
  },
  {
   "cell_type": "markdown",
   "id": "6a8e0f46",
   "metadata": {},
   "source": [
    "### 4-1. make_classification() 함수를 사용해 2개의 피처가 4가지 유형의 클래스 값을 가지는 데이터 세트를 만드시오. (3점) "
   ]
  },
  {
   "cell_type": "code",
   "execution_count": null,
   "id": "2ed41d13",
   "metadata": {},
   "outputs": [],
   "source": [
    "from sklearn.datasets import make_classification\n",
    "import matplotlib.pyplot as plt\n",
    "\n",
    "# 2차원 시각화를 위해서 feature는 2개, 결정값 클래스는 4가지 유형의 classification 샘플 데이터 생성. \n"
   ]
  },
  {
   "cell_type": "markdown",
   "id": "024fd4e3",
   "metadata": {},
   "source": [
    "### 4-2. plot 형태로 2개의 feature로 2차원 좌표 시각화하고 각 클래스값은 다른 색깔로 표시하여 출력하시오. (4점)\n"
   ]
  },
  {
   "cell_type": "code",
   "execution_count": null,
   "id": "592f7361",
   "metadata": {},
   "outputs": [],
   "source": [
    "# 그래프 시각화\n"
   ]
  },
  {
   "cell_type": "markdown",
   "id": "7efbd180",
   "metadata": {},
   "source": [
    "### 4-3. 아래의 셀을 실행시키고 visualize_boundary() 함수의 역할 및 기능을 설명하시오. (3점)"
   ]
  },
  {
   "cell_type": "code",
   "execution_count": null,
   "id": "3ddc63d6",
   "metadata": {},
   "outputs": [],
   "source": [
    "\n",
    "import numpy as np\n",
    "\n",
    "# Classifier의 Decision Boundary를 시각화 하는 함수\n",
    "def visualize_boundary(model, X, y):\n",
    "    fig,ax = plt.subplots()\n",
    "    \n",
    "    # 학습 데이타 scatter plot으로 나타내기\n",
    "    ax.scatter(X[:, 0], X[:, 1], c=y, s=25, cmap='rainbow', edgecolor='k',\n",
    "               clim=(y.min(), y.max()), zorder=3)\n",
    "    ax.axis('tight')\n",
    "    ax.axis('off')\n",
    "    xlim_start , xlim_end = ax.get_xlim()\n",
    "    ylim_start , ylim_end = ax.get_ylim()\n",
    "    \n",
    "    # 호출 파라미터로 들어온 training 데이타로 model 학습 . \n",
    "    model.fit(X, y)\n",
    "    # meshgrid 형태인 모든 좌표값으로 예측 수행. \n",
    "    xx, yy = np.meshgrid(np.linspace(xlim_start,xlim_end, num=200),np.linspace(ylim_start,ylim_end, num=200))\n",
    "    Z = model.predict(np.c_[xx.ravel(), yy.ravel()]).reshape(xx.shape)\n",
    "    \n",
    "    # contourf() 를 이용하여 class boundary 를 visualization 수행. \n",
    "    n_classes = len(np.unique(y))\n",
    "    contours = ax.contourf(xx, yy, Z, alpha=0.3,\n",
    "                           levels=np.arange(n_classes + 1) - 0.5,\n",
    "                           cmap='rainbow', clim=(y.min(), y.max()),\n",
    "                           zorder=1)"
   ]
  },
  {
   "cell_type": "markdown",
   "id": "3795a7e2",
   "metadata": {},
   "source": [
    "답 : "
   ]
  },
  {
   "cell_type": "markdown",
   "id": "76cdcbfb",
   "metadata": {},
   "source": [
    "### 4-4. 특정한 트리 생성 제약이 없는 결정트리의 학습을 시키고 위의 visalize_boundary()함수를 사용하여 결정경계를 시각화 하시오. (3점)"
   ]
  },
  {
   "cell_type": "code",
   "execution_count": null,
   "id": "ca65b820",
   "metadata": {},
   "outputs": [],
   "source": [
    "from sklearn.tree import DecisionTreeClassifier\n",
    "\n",
    "# 특정한 트리 생성 제약없는 결정 트리의 Decsion Boundary 시각화.\n"
   ]
  },
  {
   "cell_type": "markdown",
   "id": "730f5bfa",
   "metadata": {},
   "source": [
    "### 4-5. 7개 이하이 데이터는 리프노드를 생성할 수 있도록 규칙을 변경하고 하이퍼 파라미터를 변경해 결정기준 경계가 어떻게 변하는지 살펴보시오. (3점)"
   ]
  },
  {
   "cell_type": "code",
   "execution_count": null,
   "id": "de7c13d7",
   "metadata": {},
   "outputs": [],
   "source": [
    "# min_samples_leaf=6 으로 트리 생성 조건을 제약한 Decision Boundary 시각화\n",
    "\n"
   ]
  },
  {
   "cell_type": "markdown",
   "id": "362543d7",
   "metadata": {},
   "source": [
    "### 4-6. 4-4의 출력결과와 4-5의 출력결과를 과적합 측면에서 비교하여 서술하시오(4점)"
   ]
  },
  {
   "cell_type": "markdown",
   "id": "8085a459",
   "metadata": {},
   "source": [
    "답 :"
   ]
  },
  {
   "cell_type": "markdown",
   "id": "bb94382a",
   "metadata": {},
   "source": [
    "# 5. 결정 트리 실습"
   ]
  },
  {
   "cell_type": "markdown",
   "id": "64e9695c",
   "metadata": {},
   "source": [
    "#### 5-1. penguins 데이터셋을 불러오고 간단한 데이터 전처리를 해주겠습니다. 아래 코드를 실행해주세요! (3점)"
   ]
  },
  {
   "cell_type": "code",
   "execution_count": null,
   "id": "7371310a",
   "metadata": {},
   "outputs": [
    {
     "data": {
      "text/plain": [
       "species              0\n",
       "island               0\n",
       "bill_length_mm       0\n",
       "bill_depth_mm        0\n",
       "flipper_length_mm    0\n",
       "body_mass_g          0\n",
       "sex                  0\n",
       "dtype: int64"
      ]
     },
     "metadata": {},
     "output_type": "display_data"
    }
   ],
   "source": [
    "import seaborn as sns\n",
    "import numpy as np\n",
    "import pandas as pd \n",
    "\n",
    "penguins= sns.load_dataset(\"penguins\")\n",
    "\n",
    "# 이상치 처리\n",
    "penguins[\"sex\"] = penguins[\"sex\"].replace(\".\",np.NaN)\n",
    "\n",
    "# 결측치 처리\n",
    "cols=[\"bill_length_mm\",\"bill_depth_mm\",\"flipper_length_mm\",\"body_mass_g\"] # 숫자 데이터 컬럼\n",
    "\n",
    "#1. 숫자데이터로 이루어진 컬럼 결측치 -> 평균값으로 채우기\n",
    "for i in range(len(cols)):\n",
    "    penguins[cols[i]] = penguins[cols[i]].fillna(penguins[cols[i]].mean()) # 평균값으로 결측치를 채운다.\n",
    "\n",
    "#2. 문자 데이터로 이루어진 컬럼 결측치 -> row 제거\n",
    "penguins=penguins.dropna(subset=[\"sex\"])\n",
    "\n",
    "\n",
    "penguins.isna().sum(axis=0)"
   ]
  },
  {
   "cell_type": "code",
   "execution_count": null,
   "id": "f0836c78",
   "metadata": {},
   "outputs": [],
   "source": [
    "#피처와 레이블 분리\n",
    "\n",
    "X = penguins.drop([\"species\"],axis=1)\n",
    "y = penguins[\"species\"]"
   ]
  },
  {
   "cell_type": "markdown",
   "id": "c1e4bccc",
   "metadata": {},
   "source": [
    "#### 5-2. train_test_split을 사용하여 학습셋과 테스트셋을 분리해주세요.(test 데이터의 비율이 20%가 되게 분리 해주세요) (3점)"
   ]
  },
  {
   "cell_type": "code",
   "execution_count": null,
   "id": "38176343",
   "metadata": {},
   "outputs": [],
   "source": []
  },
  {
   "cell_type": "markdown",
   "id": "0fa90d4f",
   "metadata": {},
   "source": [
    "#### 5-3. 문자데이터로 이루어진 컬럼은 원-핫 인코딩을, 숫자데이터로 이루어진 컬럼은 스케일링을 진행하겠습니다. 아래 코드를 실행시켜주세요. (3점)"
   ]
  },
  {
   "cell_type": "code",
   "execution_count": null,
   "id": "1bb53038",
   "metadata": {},
   "outputs": [],
   "source": [
    "cat_cols = [\"island\",\"sex\"]\n",
    "num_cols =[\"bill_length_mm\",\"bill_depth_mm\",\"flipper_length_mm\",\"body_mass_g\"]\n",
    "           \n",
    "from sklearn.preprocessing import OneHotEncoder\n",
    "\n",
    "oe=OneHotEncoder(sparse_output=False)\n",
    "X_train_cat = oe.fit_transform(X_train[cat_cols])\n",
    "X_test_cat = oe.fit_transform(X_test[cat_cols])\n",
    "\n",
    "from sklearn.preprocessing import StandardScaler\n",
    "\n",
    "scaler=StandardScaler()\n",
    "X_train_scaler = scaler.fit_transform(X_train[num_cols])\n",
    "X_test_scaler = scaler.fit_transform(X_test[num_cols])\n",
    "\n",
    "# 원-핫 인코딩한 결과와 스케일링한 결과 합치기\n",
    "X_train_s=np.concatenate((X_train_cat,X_train_scaler),axis=1)\n",
    "X_test_s=np.concatenate((X_test_cat,X_test_scaler),axis=1)\n",
    "\n",
    "# y_train은 문자열이기 때문에 레이블 인코딩을 진행해줍니다.\n",
    "from sklearn.preprocessing import LabelEncoder\n",
    "\n",
    "e=LabelEncoder()\n",
    "y_train=e.fit_transform(y_train)\n",
    "y_test=e.fit_transform(y_test)"
   ]
  },
  {
   "cell_type": "markdown",
   "id": "78b65a8e",
   "metadata": {},
   "source": [
    "#### 5-4. 이제 decisiontree를 활용하여 학습시켜주겠습니다. 먼저 decisiontressClassifier의 하이퍼 파라미터는 모두 디폴트 값으로 설정해 수행하고, 정확도를 확인해주세요. (random_state는 156으로 설정해주세요.) (4점)"
   ]
  },
  {
   "cell_type": "code",
   "execution_count": null,
   "id": "3dbef4ab",
   "metadata": {},
   "outputs": [],
   "source": []
  },
  {
   "cell_type": "markdown",
   "id": "7ad7ec0c",
   "metadata": {},
   "source": [
    "#### 5-5. 이번에는 결정 트리의 트리 깊이와 min_samples_leaf가 예측 정확도에 주는 영향을 살펴보겠습니다. (GridSearchCV 사용)  max_depth와 min_samples_leaf는 자유롭게 설정해주시고, scoring은 accuracy, cv는 5로 설정해주세요. 이후 GridSearchCV 최고 평균 정확도 수치와 최적 하이퍼 파라미터를 출력해주세요. (3점)"
   ]
  },
  {
   "cell_type": "code",
   "execution_count": null,
   "id": "04751cbb",
   "metadata": {},
   "outputs": [],
   "source": [
    "from sklearn.model_selection import GridSearchCV\n",
    "\n",
    "params="
   ]
  },
  {
   "cell_type": "markdown",
   "id": "294c6f17",
   "metadata": {},
   "source": [
    "#### 5-6. 마지막으로 별도의 테스트 세트에서 결정 트리의 정확도를 측정해보겠습니다. max_depth는 3으로 고정하고,min_samples_leaf를 자유롭게 변경하며 변화에 따른 값을 측정해주세요. (4점)"
   ]
  },
  {
   "cell_type": "code",
   "execution_count": null,
   "id": "747ee1b4",
   "metadata": {},
   "outputs": [],
   "source": [
    "min_samples_leaf=\n",
    "\n",
    "#min_samples_leaf 값을 변화시키며 그때마다 학습과 테스트 세트에서의 예측 성능 측정\n"
   ]
  }
 ],
 "metadata": {
  "kernelspec": {
   "display_name": "Python 3 (ipykernel)",
   "language": "python",
   "name": "python3"
  },
  "language_info": {
   "codemirror_mode": {
    "name": "ipython",
    "version": 3
   },
   "file_extension": ".py",
   "mimetype": "text/x-python",
   "name": "python",
   "nbconvert_exporter": "python",
   "pygments_lexer": "ipython3",
   "version": "3.9.17"
  }
 },
 "nbformat": 4,
 "nbformat_minor": 5
}
