{
 "cells": [
  {
   "cell_type": "markdown",
   "id": "d3d15e66",
   "metadata": {
    "id": "d3d15e66"
   },
   "source": [
    "# 머신러닝 2차세션 복습과제\n",
    "\n",
    "- 8/29 화요일 23:59 까지 제출\n",
    "- 지각 제출은 8/31 목요일 23:59 까지 허용\n",
    "- 제출 파일명 : 비타민_12기_1주차_복습과제_홍길동.ipynb  로 제출\n",
    "- ipynb 파일로 제출.\n"
   ]
  },
  {
   "cell_type": "markdown",
   "id": "RSL_bo8-Bi_E",
   "metadata": {
    "id": "RSL_bo8-Bi_E"
   },
   "source": [
    "## 실습1"
   ]
  },
  {
   "cell_type": "markdown",
   "id": "b4eff3bb",
   "metadata": {
    "id": "b4eff3bb"
   },
   "source": [
    "### 문제1\n",
    "와인 품질을 예측하기 위한 데이터셋인 train.csv 입니다. 다음 코드를 로드하세요."
   ]
  },
  {
   "cell_type": "code",
   "execution_count": 1,
   "id": "7a9b9720",
   "metadata": {
    "ExecuteTime": {
     "end_time": "2023-08-28T07:09:40.543557Z",
     "start_time": "2023-08-28T07:09:39.328641Z"
    },
    "id": "7a9b9720"
   },
   "outputs": [],
   "source": [
    "from sklearn.ensemble import RandomForestClassifier\n",
    "from sklearn.model_selection import train_test_split\n",
    "from sklearn.metrics import accuracy_score\n",
    "import pandas as pd\n",
    "import numpy as np\n",
    "\n",
    "\n",
    "train=pd.read_csv(\"../data/train.csv\")\n",
    "train = train.drop(['index',\"type\"], axis = 1)\n",
    "\n",
    "train_label=train[\"quality\"]\n",
    "train_data=train.drop([\"quality\"], axis = 1)"
   ]
  },
  {
   "cell_type": "markdown",
   "id": "87fbce34",
   "metadata": {
    "id": "87fbce34"
   },
   "source": [
    "### 1-1 (8점)\n",
    "train_data 에는 feature dataset 이 , train_label 에는 품질 label 입니다.\n",
    "\n",
    "전체 데이터 세트 중에 테스트 데이터 셋의 비율이 0.3 이 되게 하여 테스트 데이터와 학습데이터를 분류 하세요. (힌트 : train_test_split() 함수를 이용하세요.)\n",
    "  \n",
    " - random_state=11로 설정해주세요"
   ]
  },
  {
   "cell_type": "code",
   "execution_count": 2,
   "id": "1175d60d",
   "metadata": {
    "ExecuteTime": {
     "end_time": "2023-08-28T07:09:40.551923Z",
     "start_time": "2023-08-28T07:09:40.543557Z"
    },
    "id": "1175d60d"
   },
   "outputs": [],
   "source": [
    "X_train,X_test,y_train,y_test = train_test_split(train_data,train_label,test_size=0.3,random_state=11)"
   ]
  },
  {
   "cell_type": "markdown",
   "id": "ce1b2afe",
   "metadata": {
    "id": "ce1b2afe"
   },
   "source": [
    "### 1-2 (7점)\n",
    "랜덤포레스트 분류를 위한 사이킷런 Classifier 클래스를 생성하세요."
   ]
  },
  {
   "cell_type": "code",
   "execution_count": 3,
   "id": "b14f8d7e",
   "metadata": {
    "ExecuteTime": {
     "end_time": "2023-08-28T07:09:40.567257Z",
     "start_time": "2023-08-28T07:09:40.553843Z"
    },
    "id": "b14f8d7e"
   },
   "outputs": [],
   "source": [
    "rf_clf = RandomForestClassifier(random_state=11)"
   ]
  },
  {
   "cell_type": "markdown",
   "id": "c05167b2",
   "metadata": {
    "id": "c05167b2"
   },
   "source": [
    "### 1-3. (8점)\n",
    "위에서 생성한 클래스를 활용하여 데이터를 학습하고 예측하고 평가하는 코드를 작성하세요 (힌트 : 평가할때는, accuracy_score 을 사용하세요.)"
   ]
  },
  {
   "cell_type": "code",
   "execution_count": 4,
   "id": "6747a8ba",
   "metadata": {
    "ExecuteTime": {
     "end_time": "2023-08-28T07:09:41.156833Z",
     "start_time": "2023-08-28T07:09:40.569275Z"
    },
    "id": "6747a8ba"
   },
   "outputs": [
    {
     "data": {
      "text/plain": [
       "0.663"
      ]
     },
     "execution_count": 4,
     "metadata": {},
     "output_type": "execute_result"
    }
   ],
   "source": [
    "rf_clf.fit(X_train,y_train)\n",
    "pred = rf_clf.predict(X_test)\n",
    "accuracy = accuracy_score(y_test,pred)\n",
    "np.round(accuracy,4)"
   ]
  },
  {
   "cell_type": "markdown",
   "id": "e46928a0",
   "metadata": {
    "id": "e46928a0"
   },
   "source": [
    "### 1-4 (13점)\n",
    "KFold 클래스를 이용하여 랜덤 포레스트의 평균 정확도를 소수점 4째 자리까지 출력하세요.\n",
    "- 폴드 개수는 3개로 설정합니다.\n",
    "- 분류기는 위에서 사용한 랜덤포레스트를 이용합니다"
   ]
  },
  {
   "cell_type": "code",
   "execution_count": 5,
   "id": "22507a59",
   "metadata": {
    "ExecuteTime": {
     "end_time": "2023-08-28T07:09:42.762176Z",
     "start_time": "2023-08-28T07:09:41.158834Z"
    },
    "id": "22507a59"
   },
   "outputs": [
    {
     "name": "stdout",
     "output_type": "stream",
     "text": [
      "3폴드 CV의 평균 평가 결과: 0.6482\n"
     ]
    }
   ],
   "source": [
    "from sklearn.model_selection import KFold\n",
    "\n",
    "#폴드세트를 3개인 KFold객체를 생성하세요\n",
    "kf = KFold(n_splits=3)\n",
    "#폴드 수만큼 예측결과를 저장을 위한 리스트 객체 생성\n",
    "cv_accuracy = []\n",
    "\n",
    "#for문을 이용하여 KFold교차 검증을 수행하는 코드를 작성하세요\n",
    "for train_index,test_index in kf.split(train_data):\n",
    "   #kfold.spilt()로 반환된 인덱스를 이용해 학습용, 검증용 테스트 데이터 추출\n",
    "    X_train,X_test = train_data.iloc[train_index,:],train_data.iloc[test_index,:]\n",
    "    y_train,y_test = train_label[train_index],train_label[test_index]\n",
    "    #학습 및 예측\n",
    "    rf_clf = RandomForestClassifier(random_state=11).fit(X_train,y_train)\n",
    "    pred = rf_clf.predict(X_test)\n",
    "    cv_accuracy.append(accuracy_score(y_test,pred))\n",
    "\n",
    "# 3개의 fold에서의 평균 정화도 계산후 출력\n",
    "print('3폴드 CV의 평균 평가 결과:',np.round(np.mean(cv_accuracy),4))\n"
   ]
  },
  {
   "cell_type": "markdown",
   "id": "567b40da",
   "metadata": {
    "id": "567b40da"
   },
   "source": [
    "### 1-5 (10점)\n",
    "cross_val_score() 을 이용하여 평균 정확도를 구해보세요.\n",
    "- 폴드개수는 3개로 설정합니다."
   ]
  },
  {
   "cell_type": "code",
   "execution_count": 6,
   "id": "0a98db67",
   "metadata": {
    "ExecuteTime": {
     "end_time": "2023-08-28T07:09:44.376602Z",
     "start_time": "2023-08-28T07:09:42.763238Z"
    },
    "id": "0a98db67"
   },
   "outputs": [
    {
     "name": "stdout",
     "output_type": "stream",
     "text": [
      "cross_val_score 평균 평가 결과: 0.6518\n"
     ]
    }
   ],
   "source": [
    "from sklearn.model_selection import cross_val_score\n",
    "cvs=cross_val_score(rf_clf,train_data,train_label,scoring='accuracy',cv=3)\n",
    "print('cross_val_score 평균 평가 결과:',np.round(np.mean(cvs),4))"
   ]
  },
  {
   "cell_type": "markdown",
   "id": "0f998582",
   "metadata": {
    "id": "0f998582"
   },
   "source": [
    "### 1-6 (13점)\n",
    "GridSearchCV를 이용하여 랜덤포레스트의 최적하이퍼파라미터 찾고 예측성능을 측정해보세요.\n",
    "- 폴드개수는 3개로 설정합니다."
   ]
  },
  {
   "cell_type": "code",
   "execution_count": 7,
   "id": "f5911e6f",
   "metadata": {
    "ExecuteTime": {
     "end_time": "2023-08-28T07:10:02.652059Z",
     "start_time": "2023-08-28T07:09:44.377656Z"
    },
    "id": "767341bd"
   },
   "outputs": [
    {
     "data": {
      "text/plain": [
       "0.6479"
      ]
     },
     "execution_count": 7,
     "metadata": {},
     "output_type": "execute_result"
    }
   ],
   "source": [
    "from sklearn.model_selection import GridSearchCV\n",
    "\n",
    "params = {'n_estimators' : [90,100,150],\n",
    "          'max_features' : [1,3,5]\n",
    "         }\n",
    "gscv = GridSearchCV(rf_clf,param_grid=params,scoring='accuracy',cv=3)\n",
    "gscv.fit(X_train,y_train)\n",
    "\n",
    "#GridSearchCV의 refit으로 이미 학습된 최적성능을 나타내는 모델로 테스트 데이터 세트의 정학도 출력\n",
    "best_estimator = gscv.best_estimator_\n",
    "be_pred = best_estimator.predict(X_test)\n",
    "np.round(accuracy_score(y_test,be_pred),4)"
   ]
  },
  {
   "cell_type": "markdown",
   "id": "0f4b5b64",
   "metadata": {
    "id": "0f4b5b64"
   },
   "source": [
    "### 1-7 (13점) StandardScaler(평균이 0이고 분산이 1인지 확인하는 작업이 필요)"
   ]
  },
  {
   "cell_type": "code",
   "execution_count": 8,
   "id": "adb1ec55",
   "metadata": {
    "ExecuteTime": {
     "end_time": "2023-08-28T07:10:02.698560Z",
     "start_time": "2023-08-28T07:10:02.652587Z"
    },
    "id": "adb1ec55",
    "outputId": "db3839e5-1be6-4cd6-ae43-5c7a22d40055"
   },
   "outputs": [
    {
     "name": "stdout",
     "output_type": "stream",
     "text": [
      "train mean :  quality                   5.818992\n",
      "fixed acidity             7.210115\n",
      "volatile acidity          0.338163\n",
      "citric acid               0.318543\n",
      "residual sugar            5.438075\n",
      "chlorides                 0.055808\n",
      "free sulfur dioxide      30.417682\n",
      "total sulfur dioxide    115.566491\n",
      "density                   0.994673\n",
      "pH                        3.219502\n",
      "sulphates                 0.530524\n",
      "alcohol                  10.504918\n",
      "dtype: float64\n",
      "train var :  quality                    0.757441\n",
      "fixed acidity              1.657860\n",
      "volatile acidity           0.026642\n",
      "citric acid                0.021055\n",
      "residual sugar            22.625968\n",
      "chlorides                  0.001201\n",
      "free sulfur dioxide      312.366085\n",
      "total sulfur dioxide    3168.364073\n",
      "density                    0.000009\n",
      "pH                         0.025829\n",
      "sulphates                  0.022319\n",
      "alcohol                    1.426887\n",
      "dtype: float64\n",
      "***************\n",
      "정규화한 데이터의 평균:\n",
      "quality             의 평균 : 0에 가까운 값  (평균값:-4.986662549345329e-16)\n",
      "fixed acidity       의 평균 : 0에 가까운 값  (평균값:-2.1095651250154192e-17)\n",
      "volatile acidity    의 평균 : 0에 가까운 값  (평균값:-9.300667688555295e-17)\n",
      "citric acid         의 평균 : 0에 가까운 값  (평균값:-3.873763436840186e-17)\n",
      "residual sugar      의 평균 : 0에 가까운 값  (평균값:-3.7323852092182817e-17)\n",
      "chlorides           의 평균 : 0에 가까운 값  (평균값:2.5639951423715413e-17)\n",
      "free sulfur dioxide 의 평균 : 0에 가까운 값  (평균값:-5.590499057963313e-17)\n",
      "total sulfur dioxide의 평균 : 0에 가까운 값  (평균값:6.332734752978312e-17)\n",
      "density             의 평균 : 0에 가까운 값  (평균값:1.9805070000862806e-14)\n",
      "pH                  의 평균 : 0에 가까운 값  (평균값:2.223556370257995e-15)\n",
      "sulphates           의 평균 : 0에 가까운 값  (평균값:1.0058051050815498e-17)\n",
      "alcohol             의 평균 : 0에 가까운 값  (평균값:-2.348494329696438e-16)\n",
      "***************\n",
      "정규화한 데이터의 분산:\n",
      " quality                 1.000182\n",
      "fixed acidity           1.000182\n",
      "volatile acidity        1.000182\n",
      "citric acid             1.000182\n",
      "residual sugar          1.000182\n",
      "chlorides               1.000182\n",
      "free sulfur dioxide     1.000182\n",
      "total sulfur dioxide    1.000182\n",
      "density                 1.000182\n",
      "pH                      1.000182\n",
      "sulphates               1.000182\n",
      "alcohol                 1.000182\n",
      "dtype: float64\n"
     ]
    }
   ],
   "source": [
    "from sklearn.preprocessing import StandardScaler\n",
    "\n",
    "# train데이터에 각 변수의 평균값을 출력해주세요\n",
    "print('train mean : ', train.mean())\n",
    "print('train var : ', train.var())\n",
    "\n",
    "# StandardScaler객체를 이용해서 평균이 0, 분산이 1이 되는지 확인해주세요\n",
    "# variable 변수에 train열의 변수명들을 반환한 다음 scaledTrainDf에 데이터프레임 만들고\n",
    "#  값들은 StandardScaler객체로 스케일링 한 값으로 채워주시고, 열의 변수들은 variable변수를 이용해주세요\n",
    "ss = StandardScaler()\n",
    "variable = train.columns\n",
    "scaledTrainDF = pd.DataFrame(ss.fit_transform(train),columns=variable)\n",
    "def isZero(value):\n",
    "    threshold = 1e-10\n",
    "    if abs(value)<=threshold:\n",
    "        return '0에 가까운 값'\n",
    "    else:\n",
    "        return '0이 아님'\n",
    "print('*'*15)\n",
    "print('정규화한 데이터의 평균:')\n",
    "means=list(map(isZero,scaledTrainDF.mean()))\n",
    "for i in range(train.shape[1]):\n",
    "    print('{:<20s}의 평균 : {:>8s}  (평균값:{})'.format(train.columns[i],means[i],scaledTrainDF.mean().iloc[i]))\n",
    "print('*'*15)\n",
    "print('정규화한 데이터의 분산:\\n',scaledTrainDF.var())"
   ]
  },
  {
   "cell_type": "markdown",
   "id": "24899614",
   "metadata": {
    "id": "24899614"
   },
   "source": [
    "### 1-8. (10점) MinMaxScaler (최소값 : 0 , 최대값 : 1이 중요)\n",
    "\n",
    "  MinMaxScaler객체를 이용해서 최소값이 0, 최대값이 1이 되는지 확인해주세요.\n",
    "    \n",
    "결과 값은 앞에서와 같이 데이터프레임으로 만들고 각 변수의 최소값, 최대값을 확인해주세요.\n"
   ]
  },
  {
   "cell_type": "code",
   "execution_count": 9,
   "id": "c7243356",
   "metadata": {
    "ExecuteTime": {
     "end_time": "2023-08-28T07:10:02.732687Z",
     "start_time": "2023-08-28T07:10:02.700850Z"
    },
    "id": "c7243356"
   },
   "outputs": [
    {
     "name": "stdout",
     "output_type": "stream",
     "text": [
      "*******각 컬럼별 최솟값, 최댓값*******\n"
     ]
    },
    {
     "data": {
      "text/html": [
       "<div>\n",
       "<style scoped>\n",
       "    .dataframe tbody tr th:only-of-type {\n",
       "        vertical-align: middle;\n",
       "    }\n",
       "\n",
       "    .dataframe tbody tr th {\n",
       "        vertical-align: top;\n",
       "    }\n",
       "\n",
       "    .dataframe thead th {\n",
       "        text-align: right;\n",
       "    }\n",
       "</style>\n",
       "<table border=\"1\" class=\"dataframe\">\n",
       "  <thead>\n",
       "    <tr style=\"text-align: right;\">\n",
       "      <th></th>\n",
       "      <th>최솟값</th>\n",
       "      <th>최댓값</th>\n",
       "    </tr>\n",
       "  </thead>\n",
       "  <tbody>\n",
       "    <tr>\n",
       "      <th>quality</th>\n",
       "      <td>0.0</td>\n",
       "      <td>1.0</td>\n",
       "    </tr>\n",
       "    <tr>\n",
       "      <th>fixed acidity</th>\n",
       "      <td>0.0</td>\n",
       "      <td>1.0</td>\n",
       "    </tr>\n",
       "    <tr>\n",
       "      <th>volatile acidity</th>\n",
       "      <td>0.0</td>\n",
       "      <td>1.0</td>\n",
       "    </tr>\n",
       "    <tr>\n",
       "      <th>citric acid</th>\n",
       "      <td>0.0</td>\n",
       "      <td>1.0</td>\n",
       "    </tr>\n",
       "    <tr>\n",
       "      <th>residual sugar</th>\n",
       "      <td>0.0</td>\n",
       "      <td>1.0</td>\n",
       "    </tr>\n",
       "    <tr>\n",
       "      <th>chlorides</th>\n",
       "      <td>0.0</td>\n",
       "      <td>1.0</td>\n",
       "    </tr>\n",
       "    <tr>\n",
       "      <th>free sulfur dioxide</th>\n",
       "      <td>0.0</td>\n",
       "      <td>1.0</td>\n",
       "    </tr>\n",
       "    <tr>\n",
       "      <th>total sulfur dioxide</th>\n",
       "      <td>0.0</td>\n",
       "      <td>1.0</td>\n",
       "    </tr>\n",
       "    <tr>\n",
       "      <th>density</th>\n",
       "      <td>0.0</td>\n",
       "      <td>1.0</td>\n",
       "    </tr>\n",
       "    <tr>\n",
       "      <th>pH</th>\n",
       "      <td>0.0</td>\n",
       "      <td>1.0</td>\n",
       "    </tr>\n",
       "    <tr>\n",
       "      <th>sulphates</th>\n",
       "      <td>0.0</td>\n",
       "      <td>1.0</td>\n",
       "    </tr>\n",
       "    <tr>\n",
       "      <th>alcohol</th>\n",
       "      <td>0.0</td>\n",
       "      <td>1.0</td>\n",
       "    </tr>\n",
       "  </tbody>\n",
       "</table>\n",
       "</div>"
      ],
      "text/plain": [
       "                      최솟값  최댓값\n",
       "quality               0.0  1.0\n",
       "fixed acidity         0.0  1.0\n",
       "volatile acidity      0.0  1.0\n",
       "citric acid           0.0  1.0\n",
       "residual sugar        0.0  1.0\n",
       "chlorides             0.0  1.0\n",
       "free sulfur dioxide   0.0  1.0\n",
       "total sulfur dioxide  0.0  1.0\n",
       "density               0.0  1.0\n",
       "pH                    0.0  1.0\n",
       "sulphates             0.0  1.0\n",
       "alcohol               0.0  1.0"
      ]
     },
     "execution_count": 9,
     "metadata": {},
     "output_type": "execute_result"
    }
   ],
   "source": [
    "from sklearn.preprocessing import MinMaxScaler\n",
    "mm = MinMaxScaler()\n",
    "mmScaledTrainDF = pd.DataFrame(mm.fit_transform(train),columns=variable)\n",
    "print('*******각 컬럼별 최솟값, 최댓값*******')\n",
    "pd.DataFrame(pd.concat([mmScaledTrainDF.min(),mmScaledTrainDF.max()],axis=1)).rename(columns={0:'최솟값',1:'최댓값'})"
   ]
  },
  {
   "cell_type": "markdown",
   "id": "8ZeshFahBw1j",
   "metadata": {
    "id": "8ZeshFahBw1j"
   },
   "source": [
    "## 실습2"
   ]
  },
  {
   "cell_type": "markdown",
   "id": "98420dfb",
   "metadata": {
    "id": "98420dfb"
   },
   "source": [
    "### 문제 2\n",
    "### 2-1. (8점) 데이터 인코딩"
   ]
  },
  {
   "cell_type": "code",
   "execution_count": 10,
   "id": "ae272fc3",
   "metadata": {
    "ExecuteTime": {
     "end_time": "2023-08-28T07:10:02.753246Z",
     "start_time": "2023-08-28T07:10:02.736691Z"
    },
    "id": "ae272fc3"
   },
   "outputs": [
    {
     "name": "stdout",
     "output_type": "stream",
     "text": [
      "classes_ 속성: ['Ankle boot' 'Bag' 'Coat' 'Dress' 'Pullover' 'Sandal' 'Shirt' 'Sneaker'\n",
      " 'T-shirt/top' 'Trouser']\n",
      "==============================\n",
      "인코딩값: [8 9 4 3 2 5 6 7 1 0 8 7 1]\n",
      "디코딩값: ['T-shirt/top' 'Trouser' 'Pullover' 'Dress' 'Coat' 'Sandal' 'Shirt'\n",
      " 'Sneaker' 'Bag' 'Ankle boot' 'T-shirt/top' 'Sneaker' 'Bag']\n"
     ]
    }
   ],
   "source": [
    "# clothes 데이터를 인코딩하세요.(clothes 데이터는 이미 주어져있음)\n",
    "clothes = ['T-shirt/top', 'Trouser', 'Pullover', 'Dress', 'Coat', 'Sandal', 'Shirt', 'Sneaker', 'Bag', 'Ankle boot','T-shirt/top', 'Sneaker', 'Bag']\n",
    "\n",
    "# items에서 중복된 값을 없애고 clothes변수에 list 자료형으로 반환하세요\n",
    "items = list(set(clothes)) # set 자료구조는 중복값 허용X\n",
    "\n",
    "# items를 LabelEncoder를 이용해서 인코딩해주고 인코딩 한 결과 값을 객체의 classes_ 속성값으로 확인해주세요(from sklearn.preprocessing import LabelEncoder)\n",
    "from sklearn.preprocessing import LabelEncoder\n",
    "le = LabelEncoder()\n",
    "le.fit(items)\n",
    "encoded_items = le.transform(clothes)\n",
    "print('classes_ 속성:',le.classes_)\n",
    "\n",
    "# 디코딩으로 인코딩이 제대로 되었는지 출력해서 확인해주세요(0,1,2,3,4,5 만 확인해주세요)\n",
    "print('='*30)\n",
    "print('인코딩값:',encoded_items)\n",
    "print('디코딩값:',le.inverse_transform(encoded_items))"
   ]
  },
  {
   "cell_type": "markdown",
   "id": "86f0e3fa",
   "metadata": {
    "id": "86f0e3fa"
   },
   "source": [
    "### 2-2. (10점) 데이터 원 핫 인코딩"
   ]
  },
  {
   "cell_type": "code",
   "execution_count": 11,
   "id": "a14e6553",
   "metadata": {
    "ExecuteTime": {
     "end_time": "2023-08-28T07:10:02.798483Z",
     "start_time": "2023-08-28T07:10:02.755564Z"
    },
    "id": "a14e6553"
   },
   "outputs": [
    {
     "name": "stdout",
     "output_type": "stream",
     "text": [
      "데이터 크기?구조?: (13, 1)\n"
     ]
    },
    {
     "data": {
      "text/html": [
       "<div>\n",
       "<style scoped>\n",
       "    .dataframe tbody tr th:only-of-type {\n",
       "        vertical-align: middle;\n",
       "    }\n",
       "\n",
       "    .dataframe tbody tr th {\n",
       "        vertical-align: top;\n",
       "    }\n",
       "\n",
       "    .dataframe thead th {\n",
       "        text-align: right;\n",
       "    }\n",
       "</style>\n",
       "<table border=\"1\" class=\"dataframe\">\n",
       "  <thead>\n",
       "    <tr style=\"text-align: right;\">\n",
       "      <th></th>\n",
       "      <th>Ankle boot</th>\n",
       "      <th>Bag</th>\n",
       "      <th>Coat</th>\n",
       "      <th>Dress</th>\n",
       "      <th>Pullover</th>\n",
       "      <th>Sandal</th>\n",
       "      <th>Shirt</th>\n",
       "      <th>Sneaker</th>\n",
       "      <th>T-shirt/top</th>\n",
       "      <th>Trouser</th>\n",
       "    </tr>\n",
       "  </thead>\n",
       "  <tbody>\n",
       "    <tr>\n",
       "      <th>T-shirt/top</th>\n",
       "      <td>0.0</td>\n",
       "      <td>0.0</td>\n",
       "      <td>0.0</td>\n",
       "      <td>0.0</td>\n",
       "      <td>0.0</td>\n",
       "      <td>0.0</td>\n",
       "      <td>0.0</td>\n",
       "      <td>0.0</td>\n",
       "      <td>1.0</td>\n",
       "      <td>0.0</td>\n",
       "    </tr>\n",
       "    <tr>\n",
       "      <th>Trouser</th>\n",
       "      <td>0.0</td>\n",
       "      <td>0.0</td>\n",
       "      <td>0.0</td>\n",
       "      <td>0.0</td>\n",
       "      <td>0.0</td>\n",
       "      <td>0.0</td>\n",
       "      <td>0.0</td>\n",
       "      <td>0.0</td>\n",
       "      <td>0.0</td>\n",
       "      <td>1.0</td>\n",
       "    </tr>\n",
       "    <tr>\n",
       "      <th>Pullover</th>\n",
       "      <td>0.0</td>\n",
       "      <td>0.0</td>\n",
       "      <td>0.0</td>\n",
       "      <td>0.0</td>\n",
       "      <td>1.0</td>\n",
       "      <td>0.0</td>\n",
       "      <td>0.0</td>\n",
       "      <td>0.0</td>\n",
       "      <td>0.0</td>\n",
       "      <td>0.0</td>\n",
       "    </tr>\n",
       "    <tr>\n",
       "      <th>Dress</th>\n",
       "      <td>0.0</td>\n",
       "      <td>0.0</td>\n",
       "      <td>0.0</td>\n",
       "      <td>1.0</td>\n",
       "      <td>0.0</td>\n",
       "      <td>0.0</td>\n",
       "      <td>0.0</td>\n",
       "      <td>0.0</td>\n",
       "      <td>0.0</td>\n",
       "      <td>0.0</td>\n",
       "    </tr>\n",
       "    <tr>\n",
       "      <th>Coat</th>\n",
       "      <td>0.0</td>\n",
       "      <td>0.0</td>\n",
       "      <td>1.0</td>\n",
       "      <td>0.0</td>\n",
       "      <td>0.0</td>\n",
       "      <td>0.0</td>\n",
       "      <td>0.0</td>\n",
       "      <td>0.0</td>\n",
       "      <td>0.0</td>\n",
       "      <td>0.0</td>\n",
       "    </tr>\n",
       "    <tr>\n",
       "      <th>Sandal</th>\n",
       "      <td>0.0</td>\n",
       "      <td>0.0</td>\n",
       "      <td>0.0</td>\n",
       "      <td>0.0</td>\n",
       "      <td>0.0</td>\n",
       "      <td>1.0</td>\n",
       "      <td>0.0</td>\n",
       "      <td>0.0</td>\n",
       "      <td>0.0</td>\n",
       "      <td>0.0</td>\n",
       "    </tr>\n",
       "    <tr>\n",
       "      <th>Shirt</th>\n",
       "      <td>0.0</td>\n",
       "      <td>0.0</td>\n",
       "      <td>0.0</td>\n",
       "      <td>0.0</td>\n",
       "      <td>0.0</td>\n",
       "      <td>0.0</td>\n",
       "      <td>1.0</td>\n",
       "      <td>0.0</td>\n",
       "      <td>0.0</td>\n",
       "      <td>0.0</td>\n",
       "    </tr>\n",
       "    <tr>\n",
       "      <th>Sneaker</th>\n",
       "      <td>0.0</td>\n",
       "      <td>0.0</td>\n",
       "      <td>0.0</td>\n",
       "      <td>0.0</td>\n",
       "      <td>0.0</td>\n",
       "      <td>0.0</td>\n",
       "      <td>0.0</td>\n",
       "      <td>1.0</td>\n",
       "      <td>0.0</td>\n",
       "      <td>0.0</td>\n",
       "    </tr>\n",
       "    <tr>\n",
       "      <th>Bag</th>\n",
       "      <td>0.0</td>\n",
       "      <td>1.0</td>\n",
       "      <td>0.0</td>\n",
       "      <td>0.0</td>\n",
       "      <td>0.0</td>\n",
       "      <td>0.0</td>\n",
       "      <td>0.0</td>\n",
       "      <td>0.0</td>\n",
       "      <td>0.0</td>\n",
       "      <td>0.0</td>\n",
       "    </tr>\n",
       "    <tr>\n",
       "      <th>Ankle boot</th>\n",
       "      <td>1.0</td>\n",
       "      <td>0.0</td>\n",
       "      <td>0.0</td>\n",
       "      <td>0.0</td>\n",
       "      <td>0.0</td>\n",
       "      <td>0.0</td>\n",
       "      <td>0.0</td>\n",
       "      <td>0.0</td>\n",
       "      <td>0.0</td>\n",
       "      <td>0.0</td>\n",
       "    </tr>\n",
       "    <tr>\n",
       "      <th>T-shirt/top</th>\n",
       "      <td>0.0</td>\n",
       "      <td>0.0</td>\n",
       "      <td>0.0</td>\n",
       "      <td>0.0</td>\n",
       "      <td>0.0</td>\n",
       "      <td>0.0</td>\n",
       "      <td>0.0</td>\n",
       "      <td>0.0</td>\n",
       "      <td>1.0</td>\n",
       "      <td>0.0</td>\n",
       "    </tr>\n",
       "    <tr>\n",
       "      <th>Sneaker</th>\n",
       "      <td>0.0</td>\n",
       "      <td>0.0</td>\n",
       "      <td>0.0</td>\n",
       "      <td>0.0</td>\n",
       "      <td>0.0</td>\n",
       "      <td>0.0</td>\n",
       "      <td>0.0</td>\n",
       "      <td>1.0</td>\n",
       "      <td>0.0</td>\n",
       "      <td>0.0</td>\n",
       "    </tr>\n",
       "    <tr>\n",
       "      <th>Bag</th>\n",
       "      <td>0.0</td>\n",
       "      <td>1.0</td>\n",
       "      <td>0.0</td>\n",
       "      <td>0.0</td>\n",
       "      <td>0.0</td>\n",
       "      <td>0.0</td>\n",
       "      <td>0.0</td>\n",
       "      <td>0.0</td>\n",
       "      <td>0.0</td>\n",
       "      <td>0.0</td>\n",
       "    </tr>\n",
       "  </tbody>\n",
       "</table>\n",
       "</div>"
      ],
      "text/plain": [
       "             Ankle boot  Bag  Coat  Dress  Pullover  Sandal  Shirt  Sneaker  \\\n",
       "T-shirt/top         0.0  0.0   0.0    0.0       0.0     0.0    0.0      0.0   \n",
       "Trouser             0.0  0.0   0.0    0.0       0.0     0.0    0.0      0.0   \n",
       "Pullover            0.0  0.0   0.0    0.0       1.0     0.0    0.0      0.0   \n",
       "Dress               0.0  0.0   0.0    1.0       0.0     0.0    0.0      0.0   \n",
       "Coat                0.0  0.0   1.0    0.0       0.0     0.0    0.0      0.0   \n",
       "Sandal              0.0  0.0   0.0    0.0       0.0     1.0    0.0      0.0   \n",
       "Shirt               0.0  0.0   0.0    0.0       0.0     0.0    1.0      0.0   \n",
       "Sneaker             0.0  0.0   0.0    0.0       0.0     0.0    0.0      1.0   \n",
       "Bag                 0.0  1.0   0.0    0.0       0.0     0.0    0.0      0.0   \n",
       "Ankle boot          1.0  0.0   0.0    0.0       0.0     0.0    0.0      0.0   \n",
       "T-shirt/top         0.0  0.0   0.0    0.0       0.0     0.0    0.0      0.0   \n",
       "Sneaker             0.0  0.0   0.0    0.0       0.0     0.0    0.0      1.0   \n",
       "Bag                 0.0  1.0   0.0    0.0       0.0     0.0    0.0      0.0   \n",
       "\n",
       "             T-shirt/top  Trouser  \n",
       "T-shirt/top          1.0      0.0  \n",
       "Trouser              0.0      1.0  \n",
       "Pullover             0.0      0.0  \n",
       "Dress                0.0      0.0  \n",
       "Coat                 0.0      0.0  \n",
       "Sandal               0.0      0.0  \n",
       "Shirt                0.0      0.0  \n",
       "Sneaker              0.0      0.0  \n",
       "Bag                  0.0      0.0  \n",
       "Ankle boot           0.0      0.0  \n",
       "T-shirt/top          1.0      0.0  \n",
       "Sneaker              0.0      0.0  \n",
       "Bag                  0.0      0.0  "
      ]
     },
     "execution_count": 11,
     "metadata": {},
     "output_type": "execute_result"
    }
   ],
   "source": [
    "# clothes를 2D numpy array로 변환해주고 clothes변수에 반환해주고 데이터 크기를 출력해주세요.\n",
    "clothes_2d = np.array(clothes).reshape((-1,1))\n",
    "print('데이터 크기?구조?:',clothes_2d.shape)\n",
    "\n",
    "# clothes를 원 핫 인코딩 해서 결과 값을 확인해주고, df 변수에 DataFrame으로 반환해주세요\n",
    "from sklearn.preprocessing import OneHotEncoder\n",
    "ohe = OneHotEncoder()\n",
    "encoded_c2d = ohe.fit_transform(clothes_2d).toarray()\n",
    "clothes_sort = sorted(list(set(clothes)))\n",
    "df = pd.DataFrame(encoded_c2d).rename(columns=dict(zip([i for i in range(10)],clothes_sort)))\n",
    "\n",
    "# df 데이터프레임으로 원 핫 인코딩을 해주세요\n",
    "pd.concat([pd.DataFrame(clothes_2d),df],axis=1).set_index(0).rename_axis(None,axis=0)\n",
    "\n",
    "### pd.get_dummies()를 사용하면 아래와 같이 짧게 가능\n",
    "#df = pd.get_dummies(clothes)\n",
    "#df.index = clothes\n",
    "#df"
   ]
  },
  {
   "cell_type": "code",
   "execution_count": 12,
   "id": "4043cd79",
   "metadata": {
    "ExecuteTime": {
     "end_time": "2023-08-28T07:10:02.816772Z",
     "start_time": "2023-08-28T07:10:02.801483Z"
    }
   },
   "outputs": [
    {
     "data": {
      "text/html": [
       "<div>\n",
       "<style scoped>\n",
       "    .dataframe tbody tr th:only-of-type {\n",
       "        vertical-align: middle;\n",
       "    }\n",
       "\n",
       "    .dataframe tbody tr th {\n",
       "        vertical-align: top;\n",
       "    }\n",
       "\n",
       "    .dataframe thead th {\n",
       "        text-align: right;\n",
       "    }\n",
       "</style>\n",
       "<table border=\"1\" class=\"dataframe\">\n",
       "  <thead>\n",
       "    <tr style=\"text-align: right;\">\n",
       "      <th></th>\n",
       "      <th>Ankle boot</th>\n",
       "      <th>Bag</th>\n",
       "      <th>Coat</th>\n",
       "      <th>Dress</th>\n",
       "      <th>Pullover</th>\n",
       "      <th>Sandal</th>\n",
       "      <th>Shirt</th>\n",
       "      <th>Sneaker</th>\n",
       "      <th>T-shirt/top</th>\n",
       "      <th>Trouser</th>\n",
       "    </tr>\n",
       "  </thead>\n",
       "  <tbody>\n",
       "    <tr>\n",
       "      <th>T-shirt/top</th>\n",
       "      <td>0</td>\n",
       "      <td>0</td>\n",
       "      <td>0</td>\n",
       "      <td>0</td>\n",
       "      <td>0</td>\n",
       "      <td>0</td>\n",
       "      <td>0</td>\n",
       "      <td>0</td>\n",
       "      <td>1</td>\n",
       "      <td>0</td>\n",
       "    </tr>\n",
       "    <tr>\n",
       "      <th>Trouser</th>\n",
       "      <td>0</td>\n",
       "      <td>0</td>\n",
       "      <td>0</td>\n",
       "      <td>0</td>\n",
       "      <td>0</td>\n",
       "      <td>0</td>\n",
       "      <td>0</td>\n",
       "      <td>0</td>\n",
       "      <td>0</td>\n",
       "      <td>1</td>\n",
       "    </tr>\n",
       "    <tr>\n",
       "      <th>Pullover</th>\n",
       "      <td>0</td>\n",
       "      <td>0</td>\n",
       "      <td>0</td>\n",
       "      <td>0</td>\n",
       "      <td>1</td>\n",
       "      <td>0</td>\n",
       "      <td>0</td>\n",
       "      <td>0</td>\n",
       "      <td>0</td>\n",
       "      <td>0</td>\n",
       "    </tr>\n",
       "    <tr>\n",
       "      <th>Dress</th>\n",
       "      <td>0</td>\n",
       "      <td>0</td>\n",
       "      <td>0</td>\n",
       "      <td>1</td>\n",
       "      <td>0</td>\n",
       "      <td>0</td>\n",
       "      <td>0</td>\n",
       "      <td>0</td>\n",
       "      <td>0</td>\n",
       "      <td>0</td>\n",
       "    </tr>\n",
       "    <tr>\n",
       "      <th>Coat</th>\n",
       "      <td>0</td>\n",
       "      <td>0</td>\n",
       "      <td>1</td>\n",
       "      <td>0</td>\n",
       "      <td>0</td>\n",
       "      <td>0</td>\n",
       "      <td>0</td>\n",
       "      <td>0</td>\n",
       "      <td>0</td>\n",
       "      <td>0</td>\n",
       "    </tr>\n",
       "    <tr>\n",
       "      <th>Sandal</th>\n",
       "      <td>0</td>\n",
       "      <td>0</td>\n",
       "      <td>0</td>\n",
       "      <td>0</td>\n",
       "      <td>0</td>\n",
       "      <td>1</td>\n",
       "      <td>0</td>\n",
       "      <td>0</td>\n",
       "      <td>0</td>\n",
       "      <td>0</td>\n",
       "    </tr>\n",
       "    <tr>\n",
       "      <th>Shirt</th>\n",
       "      <td>0</td>\n",
       "      <td>0</td>\n",
       "      <td>0</td>\n",
       "      <td>0</td>\n",
       "      <td>0</td>\n",
       "      <td>0</td>\n",
       "      <td>1</td>\n",
       "      <td>0</td>\n",
       "      <td>0</td>\n",
       "      <td>0</td>\n",
       "    </tr>\n",
       "    <tr>\n",
       "      <th>Sneaker</th>\n",
       "      <td>0</td>\n",
       "      <td>0</td>\n",
       "      <td>0</td>\n",
       "      <td>0</td>\n",
       "      <td>0</td>\n",
       "      <td>0</td>\n",
       "      <td>0</td>\n",
       "      <td>1</td>\n",
       "      <td>0</td>\n",
       "      <td>0</td>\n",
       "    </tr>\n",
       "    <tr>\n",
       "      <th>Bag</th>\n",
       "      <td>0</td>\n",
       "      <td>1</td>\n",
       "      <td>0</td>\n",
       "      <td>0</td>\n",
       "      <td>0</td>\n",
       "      <td>0</td>\n",
       "      <td>0</td>\n",
       "      <td>0</td>\n",
       "      <td>0</td>\n",
       "      <td>0</td>\n",
       "    </tr>\n",
       "    <tr>\n",
       "      <th>Ankle boot</th>\n",
       "      <td>1</td>\n",
       "      <td>0</td>\n",
       "      <td>0</td>\n",
       "      <td>0</td>\n",
       "      <td>0</td>\n",
       "      <td>0</td>\n",
       "      <td>0</td>\n",
       "      <td>0</td>\n",
       "      <td>0</td>\n",
       "      <td>0</td>\n",
       "    </tr>\n",
       "    <tr>\n",
       "      <th>T-shirt/top</th>\n",
       "      <td>0</td>\n",
       "      <td>0</td>\n",
       "      <td>0</td>\n",
       "      <td>0</td>\n",
       "      <td>0</td>\n",
       "      <td>0</td>\n",
       "      <td>0</td>\n",
       "      <td>0</td>\n",
       "      <td>1</td>\n",
       "      <td>0</td>\n",
       "    </tr>\n",
       "    <tr>\n",
       "      <th>Sneaker</th>\n",
       "      <td>0</td>\n",
       "      <td>0</td>\n",
       "      <td>0</td>\n",
       "      <td>0</td>\n",
       "      <td>0</td>\n",
       "      <td>0</td>\n",
       "      <td>0</td>\n",
       "      <td>1</td>\n",
       "      <td>0</td>\n",
       "      <td>0</td>\n",
       "    </tr>\n",
       "    <tr>\n",
       "      <th>Bag</th>\n",
       "      <td>0</td>\n",
       "      <td>1</td>\n",
       "      <td>0</td>\n",
       "      <td>0</td>\n",
       "      <td>0</td>\n",
       "      <td>0</td>\n",
       "      <td>0</td>\n",
       "      <td>0</td>\n",
       "      <td>0</td>\n",
       "      <td>0</td>\n",
       "    </tr>\n",
       "  </tbody>\n",
       "</table>\n",
       "</div>"
      ],
      "text/plain": [
       "             Ankle boot  Bag  Coat  Dress  Pullover  Sandal  Shirt  Sneaker  \\\n",
       "T-shirt/top           0    0     0      0         0       0      0        0   \n",
       "Trouser               0    0     0      0         0       0      0        0   \n",
       "Pullover              0    0     0      0         1       0      0        0   \n",
       "Dress                 0    0     0      1         0       0      0        0   \n",
       "Coat                  0    0     1      0         0       0      0        0   \n",
       "Sandal                0    0     0      0         0       1      0        0   \n",
       "Shirt                 0    0     0      0         0       0      1        0   \n",
       "Sneaker               0    0     0      0         0       0      0        1   \n",
       "Bag                   0    1     0      0         0       0      0        0   \n",
       "Ankle boot            1    0     0      0         0       0      0        0   \n",
       "T-shirt/top           0    0     0      0         0       0      0        0   \n",
       "Sneaker               0    0     0      0         0       0      0        1   \n",
       "Bag                   0    1     0      0         0       0      0        0   \n",
       "\n",
       "             T-shirt/top  Trouser  \n",
       "T-shirt/top            1        0  \n",
       "Trouser                0        1  \n",
       "Pullover               0        0  \n",
       "Dress                  0        0  \n",
       "Coat                   0        0  \n",
       "Sandal                 0        0  \n",
       "Shirt                  0        0  \n",
       "Sneaker                0        0  \n",
       "Bag                    0        0  \n",
       "Ankle boot             0        0  \n",
       "T-shirt/top            1        0  \n",
       "Sneaker                0        0  \n",
       "Bag                    0        0  "
      ]
     },
     "execution_count": 12,
     "metadata": {},
     "output_type": "execute_result"
    }
   ],
   "source": [
    "pd_gd = pd.get_dummies(clothes)\n",
    "pd_gd.index = clothes\n",
    "pd_gd"
   ]
  },
  {
   "cell_type": "markdown",
   "id": "loBwDFzhB3LD",
   "metadata": {
    "id": "loBwDFzhB3LD"
   },
   "source": [
    "## 실습3"
   ]
  },
  {
   "cell_type": "markdown",
   "id": "pdsx3G6FB9PL",
   "metadata": {
    "id": "pdsx3G6FB9PL"
   },
   "source": [
    "### 3. Data Loading (3점)"
   ]
  },
  {
   "cell_type": "markdown",
   "id": "8hQInrfJCAnF",
   "metadata": {
    "id": "8hQInrfJCAnF"
   },
   "source": [
    "**a)** 본 과제에서는 대출신청서에 작성한 정보를 바탕으로 **대출신청 승인여부 (Loan_Status)** 가 결정된 이력 데이터로 사이킷런 머신러닝 학습을 진행합니다.\n",
    "\n",
    "주어진 데이터 *loan.csv* 를 *pandas dataframe* 으로 불러온 후, **loan**으로 저장하고, 확인해주세요.  **(1점)**"
   ]
  },
  {
   "cell_type": "code",
   "execution_count": 13,
   "id": "kK9EBmhdCA5c",
   "metadata": {
    "ExecuteTime": {
     "end_time": "2023-08-28T07:10:02.852260Z",
     "start_time": "2023-08-28T07:10:02.819140Z"
    },
    "id": "kK9EBmhdCA5c"
   },
   "outputs": [
    {
     "data": {
      "text/html": [
       "<div>\n",
       "<style scoped>\n",
       "    .dataframe tbody tr th:only-of-type {\n",
       "        vertical-align: middle;\n",
       "    }\n",
       "\n",
       "    .dataframe tbody tr th {\n",
       "        vertical-align: top;\n",
       "    }\n",
       "\n",
       "    .dataframe thead th {\n",
       "        text-align: right;\n",
       "    }\n",
       "</style>\n",
       "<table border=\"1\" class=\"dataframe\">\n",
       "  <thead>\n",
       "    <tr style=\"text-align: right;\">\n",
       "      <th></th>\n",
       "      <th>Loan_ID</th>\n",
       "      <th>Gender</th>\n",
       "      <th>Married</th>\n",
       "      <th>Dependents</th>\n",
       "      <th>Education</th>\n",
       "      <th>Self_Employed</th>\n",
       "      <th>ApplicantIncome</th>\n",
       "      <th>CoapplicantIncome</th>\n",
       "      <th>LoanAmount</th>\n",
       "      <th>Loan_Amount_Term</th>\n",
       "      <th>Credit_History</th>\n",
       "      <th>Property_Area</th>\n",
       "      <th>Loan_Status</th>\n",
       "    </tr>\n",
       "  </thead>\n",
       "  <tbody>\n",
       "    <tr>\n",
       "      <th>0</th>\n",
       "      <td>LP001002</td>\n",
       "      <td>Male</td>\n",
       "      <td>No</td>\n",
       "      <td>0</td>\n",
       "      <td>Graduate</td>\n",
       "      <td>No</td>\n",
       "      <td>5849</td>\n",
       "      <td>0.0</td>\n",
       "      <td>NaN</td>\n",
       "      <td>360.0</td>\n",
       "      <td>1.0</td>\n",
       "      <td>Urban</td>\n",
       "      <td>Y</td>\n",
       "    </tr>\n",
       "    <tr>\n",
       "      <th>1</th>\n",
       "      <td>LP001003</td>\n",
       "      <td>Male</td>\n",
       "      <td>Yes</td>\n",
       "      <td>1</td>\n",
       "      <td>Graduate</td>\n",
       "      <td>No</td>\n",
       "      <td>4583</td>\n",
       "      <td>1508.0</td>\n",
       "      <td>128.0</td>\n",
       "      <td>360.0</td>\n",
       "      <td>1.0</td>\n",
       "      <td>Rural</td>\n",
       "      <td>N</td>\n",
       "    </tr>\n",
       "    <tr>\n",
       "      <th>2</th>\n",
       "      <td>LP001005</td>\n",
       "      <td>Male</td>\n",
       "      <td>Yes</td>\n",
       "      <td>0</td>\n",
       "      <td>Graduate</td>\n",
       "      <td>Yes</td>\n",
       "      <td>3000</td>\n",
       "      <td>0.0</td>\n",
       "      <td>66.0</td>\n",
       "      <td>360.0</td>\n",
       "      <td>1.0</td>\n",
       "      <td>Urban</td>\n",
       "      <td>Y</td>\n",
       "    </tr>\n",
       "    <tr>\n",
       "      <th>3</th>\n",
       "      <td>LP001006</td>\n",
       "      <td>Male</td>\n",
       "      <td>Yes</td>\n",
       "      <td>0</td>\n",
       "      <td>Not Graduate</td>\n",
       "      <td>No</td>\n",
       "      <td>2583</td>\n",
       "      <td>2358.0</td>\n",
       "      <td>120.0</td>\n",
       "      <td>360.0</td>\n",
       "      <td>1.0</td>\n",
       "      <td>Urban</td>\n",
       "      <td>Y</td>\n",
       "    </tr>\n",
       "    <tr>\n",
       "      <th>4</th>\n",
       "      <td>LP001008</td>\n",
       "      <td>Male</td>\n",
       "      <td>No</td>\n",
       "      <td>0</td>\n",
       "      <td>Graduate</td>\n",
       "      <td>No</td>\n",
       "      <td>6000</td>\n",
       "      <td>0.0</td>\n",
       "      <td>141.0</td>\n",
       "      <td>360.0</td>\n",
       "      <td>1.0</td>\n",
       "      <td>Urban</td>\n",
       "      <td>Y</td>\n",
       "    </tr>\n",
       "  </tbody>\n",
       "</table>\n",
       "</div>"
      ],
      "text/plain": [
       "    Loan_ID Gender Married Dependents     Education Self_Employed  \\\n",
       "0  LP001002   Male      No          0      Graduate            No   \n",
       "1  LP001003   Male     Yes          1      Graduate            No   \n",
       "2  LP001005   Male     Yes          0      Graduate           Yes   \n",
       "3  LP001006   Male     Yes          0  Not Graduate            No   \n",
       "4  LP001008   Male      No          0      Graduate            No   \n",
       "\n",
       "   ApplicantIncome  CoapplicantIncome  LoanAmount  Loan_Amount_Term  \\\n",
       "0             5849                0.0         NaN             360.0   \n",
       "1             4583             1508.0       128.0             360.0   \n",
       "2             3000                0.0        66.0             360.0   \n",
       "3             2583             2358.0       120.0             360.0   \n",
       "4             6000                0.0       141.0             360.0   \n",
       "\n",
       "   Credit_History Property_Area Loan_Status  \n",
       "0             1.0         Urban           Y  \n",
       "1             1.0         Rural           N  \n",
       "2             1.0         Urban           Y  \n",
       "3             1.0         Urban           Y  \n",
       "4             1.0         Urban           Y  "
      ]
     },
     "execution_count": 13,
     "metadata": {},
     "output_type": "execute_result"
    }
   ],
   "source": [
    "loan = pd.read_csv('../data/loan.csv')\n",
    "loan.head()"
   ]
  },
  {
   "cell_type": "markdown",
   "id": "D8z3o0V6CD0D",
   "metadata": {
    "id": "D8z3o0V6CD0D"
   },
   "source": [
    "**Feature Information**\n",
    "* *Loan_ID* :  대출 ID\n",
    "* *Gender* :  성별\n",
    "* *Married* :  결혼 여부\n",
    "* *Dependents* :  부양자 수\n",
    "* *Education*:  대학졸업 여부\n",
    "* *Self_Employed*:  자영업 여부\n",
    "* *ApplicantIncome*:  소득수준\n",
    "* *CoapplicantIncome*:  배우자 소득수준\n",
    "* *LoanAmount*:  대출금액\n",
    "* *Loan_Amount_Term*:  대출 상환 기간\n",
    "* *Credit_History*:  신용(대출 상환, 신용카드 등) 기록 여부\n",
    "* *Property_Area*:  주거 지역\n",
    "* *Loan_Status*:  대출 가능 여부"
   ]
  },
  {
   "cell_type": "markdown",
   "id": "3Fcnjd3tCGHy",
   "metadata": {
    "id": "3Fcnjd3tCGHy"
   },
   "source": [
    "**b)** loan data 정보를 출력하고 (`info` 이용) loan data의 숫자형 변수의 분포를 알아봅시다. (`describe` 이용) **(1점)**"
   ]
  },
  {
   "cell_type": "code",
   "execution_count": 14,
   "id": "bWABxnfBCGh7",
   "metadata": {
    "ExecuteTime": {
     "end_time": "2023-08-28T07:10:02.867066Z",
     "start_time": "2023-08-28T07:10:02.853868Z"
    },
    "id": "bWABxnfBCGh7"
   },
   "outputs": [
    {
     "name": "stdout",
     "output_type": "stream",
     "text": [
      "<class 'pandas.core.frame.DataFrame'>\n",
      "RangeIndex: 614 entries, 0 to 613\n",
      "Data columns (total 13 columns):\n",
      " #   Column             Non-Null Count  Dtype  \n",
      "---  ------             --------------  -----  \n",
      " 0   Loan_ID            614 non-null    object \n",
      " 1   Gender             601 non-null    object \n",
      " 2   Married            611 non-null    object \n",
      " 3   Dependents         599 non-null    object \n",
      " 4   Education          614 non-null    object \n",
      " 5   Self_Employed      582 non-null    object \n",
      " 6   ApplicantIncome    614 non-null    int64  \n",
      " 7   CoapplicantIncome  614 non-null    float64\n",
      " 8   LoanAmount         592 non-null    float64\n",
      " 9   Loan_Amount_Term   600 non-null    float64\n",
      " 10  Credit_History     564 non-null    float64\n",
      " 11  Property_Area      614 non-null    object \n",
      " 12  Loan_Status        614 non-null    object \n",
      "dtypes: float64(4), int64(1), object(8)\n",
      "memory usage: 62.5+ KB\n"
     ]
    }
   ],
   "source": [
    "# loan 데이터 프레임 정보 출력\n",
    "loan.info()"
   ]
  },
  {
   "cell_type": "code",
   "execution_count": 15,
   "id": "8GywCY1ICED6",
   "metadata": {
    "ExecuteTime": {
     "end_time": "2023-08-28T07:10:02.901712Z",
     "start_time": "2023-08-28T07:10:02.867066Z"
    },
    "id": "8GywCY1ICED6"
   },
   "outputs": [
    {
     "data": {
      "text/html": [
       "<div>\n",
       "<style scoped>\n",
       "    .dataframe tbody tr th:only-of-type {\n",
       "        vertical-align: middle;\n",
       "    }\n",
       "\n",
       "    .dataframe tbody tr th {\n",
       "        vertical-align: top;\n",
       "    }\n",
       "\n",
       "    .dataframe thead th {\n",
       "        text-align: right;\n",
       "    }\n",
       "</style>\n",
       "<table border=\"1\" class=\"dataframe\">\n",
       "  <thead>\n",
       "    <tr style=\"text-align: right;\">\n",
       "      <th></th>\n",
       "      <th>ApplicantIncome</th>\n",
       "      <th>CoapplicantIncome</th>\n",
       "      <th>LoanAmount</th>\n",
       "      <th>Loan_Amount_Term</th>\n",
       "      <th>Credit_History</th>\n",
       "    </tr>\n",
       "  </thead>\n",
       "  <tbody>\n",
       "    <tr>\n",
       "      <th>count</th>\n",
       "      <td>614.000000</td>\n",
       "      <td>614.000000</td>\n",
       "      <td>592.000000</td>\n",
       "      <td>600.00000</td>\n",
       "      <td>564.000000</td>\n",
       "    </tr>\n",
       "    <tr>\n",
       "      <th>mean</th>\n",
       "      <td>5403.459283</td>\n",
       "      <td>1621.245798</td>\n",
       "      <td>146.412162</td>\n",
       "      <td>342.00000</td>\n",
       "      <td>0.842199</td>\n",
       "    </tr>\n",
       "    <tr>\n",
       "      <th>std</th>\n",
       "      <td>6109.041673</td>\n",
       "      <td>2926.248369</td>\n",
       "      <td>85.587325</td>\n",
       "      <td>65.12041</td>\n",
       "      <td>0.364878</td>\n",
       "    </tr>\n",
       "    <tr>\n",
       "      <th>min</th>\n",
       "      <td>150.000000</td>\n",
       "      <td>0.000000</td>\n",
       "      <td>9.000000</td>\n",
       "      <td>12.00000</td>\n",
       "      <td>0.000000</td>\n",
       "    </tr>\n",
       "    <tr>\n",
       "      <th>25%</th>\n",
       "      <td>2877.500000</td>\n",
       "      <td>0.000000</td>\n",
       "      <td>100.000000</td>\n",
       "      <td>360.00000</td>\n",
       "      <td>1.000000</td>\n",
       "    </tr>\n",
       "    <tr>\n",
       "      <th>50%</th>\n",
       "      <td>3812.500000</td>\n",
       "      <td>1188.500000</td>\n",
       "      <td>128.000000</td>\n",
       "      <td>360.00000</td>\n",
       "      <td>1.000000</td>\n",
       "    </tr>\n",
       "    <tr>\n",
       "      <th>75%</th>\n",
       "      <td>5795.000000</td>\n",
       "      <td>2297.250000</td>\n",
       "      <td>168.000000</td>\n",
       "      <td>360.00000</td>\n",
       "      <td>1.000000</td>\n",
       "    </tr>\n",
       "    <tr>\n",
       "      <th>max</th>\n",
       "      <td>81000.000000</td>\n",
       "      <td>41667.000000</td>\n",
       "      <td>700.000000</td>\n",
       "      <td>480.00000</td>\n",
       "      <td>1.000000</td>\n",
       "    </tr>\n",
       "  </tbody>\n",
       "</table>\n",
       "</div>"
      ],
      "text/plain": [
       "       ApplicantIncome  CoapplicantIncome  LoanAmount  Loan_Amount_Term  \\\n",
       "count       614.000000         614.000000  592.000000         600.00000   \n",
       "mean       5403.459283        1621.245798  146.412162         342.00000   \n",
       "std        6109.041673        2926.248369   85.587325          65.12041   \n",
       "min         150.000000           0.000000    9.000000          12.00000   \n",
       "25%        2877.500000           0.000000  100.000000         360.00000   \n",
       "50%        3812.500000        1188.500000  128.000000         360.00000   \n",
       "75%        5795.000000        2297.250000  168.000000         360.00000   \n",
       "max       81000.000000       41667.000000  700.000000         480.00000   \n",
       "\n",
       "       Credit_History  \n",
       "count      564.000000  \n",
       "mean         0.842199  \n",
       "std          0.364878  \n",
       "min          0.000000  \n",
       "25%          1.000000  \n",
       "50%          1.000000  \n",
       "75%          1.000000  \n",
       "max          1.000000  "
      ]
     },
     "execution_count": 15,
     "metadata": {},
     "output_type": "execute_result"
    }
   ],
   "source": [
    "# loan 데이터 프레임의 숫자형 변수의 분포 출력\n",
    "loan.describe()"
   ]
  },
  {
   "cell_type": "markdown",
   "id": "gpHOJhWeCLi2",
   "metadata": {
    "id": "gpHOJhWeCLi2"
   },
   "source": [
    " **c)** 'Dependent' 열의 항목별 분포를 출력해보고, '3+'라고 입력되어 있는 행에 대하여 그 값을 '3'으로 바꿔주세요. (`replace` 이용) **(1점)**"
   ]
  },
  {
   "cell_type": "code",
   "execution_count": 16,
   "id": "tILRZ7UhCLvC",
   "metadata": {
    "ExecuteTime": {
     "end_time": "2023-08-28T07:10:02.916965Z",
     "start_time": "2023-08-28T07:10:02.904708Z"
    },
    "id": "tILRZ7UhCLvC"
   },
   "outputs": [
    {
     "name": "stdout",
     "output_type": "stream",
     "text": [
      "데이터 분포:\n",
      " 0     345\n",
      "1     102\n",
      "2     101\n",
      "3+     51\n",
      "Name: Dependents, dtype: int64\n"
     ]
    }
   ],
   "source": [
    "# 'Dependent'열의 항목별 분포 출력\n",
    "print('데이터 분포:\\n',loan['Dependents'].value_counts())"
   ]
  },
  {
   "cell_type": "code",
   "execution_count": 17,
   "id": "tMLwpTWFB-wh",
   "metadata": {
    "ExecuteTime": {
     "end_time": "2023-08-28T07:10:02.934598Z",
     "start_time": "2023-08-28T07:10:02.919334Z"
    },
    "id": "tMLwpTWFB-wh"
   },
   "outputs": [
    {
     "name": "stdout",
     "output_type": "stream",
     "text": [
      "변경 후 데이터 분포:\n",
      " 0    345\n",
      "1    102\n",
      "2    101\n",
      "3     51\n",
      "Name: Dependents, dtype: int64\n"
     ]
    }
   ],
   "source": [
    "# replace 처리\n",
    "loan['Dependents']=loan['Dependents'].replace('3+',3)\n",
    "print('변경 후 데이터 분포:\\n',loan['Dependents'].value_counts())"
   ]
  },
  {
   "cell_type": "markdown",
   "id": "GHuYkU2iCgwO",
   "metadata": {
    "id": "GHuYkU2iCgwO"
   },
   "source": [
    "## 실습4"
   ]
  },
  {
   "cell_type": "markdown",
   "id": "vyfbhE74CRPC",
   "metadata": {
    "id": "vyfbhE74CRPC"
   },
   "source": [
    "### 4. 결측값 처리 (3점)"
   ]
  },
  {
   "cell_type": "markdown",
   "id": "XS7YaySDCk38",
   "metadata": {
    "id": "XS7YaySDCk38"
   },
   "source": [
    "숫자형 변수에 대해서는 null값을 각 열의 **평균값**으로, 문자형 변수에 대해서는 null값을 각 열의 **최빈값**으로 채워주세요"
   ]
  },
  {
   "cell_type": "code",
   "execution_count": 18,
   "id": "I-Q14IsgClEy",
   "metadata": {
    "ExecuteTime": {
     "end_time": "2023-08-28T07:10:02.981479Z",
     "start_time": "2023-08-28T07:10:02.937104Z"
    },
    "id": "I-Q14IsgClEy"
   },
   "outputs": [
    {
     "name": "stdout",
     "output_type": "stream",
     "text": [
      "Loan_ID              0\n",
      "Gender               0\n",
      "Married              0\n",
      "Dependents           0\n",
      "Education            0\n",
      "Self_Employed        0\n",
      "ApplicantIncome      0\n",
      "CoapplicantIncome    0\n",
      "LoanAmount           0\n",
      "Loan_Amount_Term     0\n",
      "Credit_History       0\n",
      "Property_Area        0\n",
      "Loan_Status          0\n",
      "dtype: int64\n"
     ]
    },
    {
     "data": {
      "text/html": [
       "<div>\n",
       "<style scoped>\n",
       "    .dataframe tbody tr th:only-of-type {\n",
       "        vertical-align: middle;\n",
       "    }\n",
       "\n",
       "    .dataframe tbody tr th {\n",
       "        vertical-align: top;\n",
       "    }\n",
       "\n",
       "    .dataframe thead th {\n",
       "        text-align: right;\n",
       "    }\n",
       "</style>\n",
       "<table border=\"1\" class=\"dataframe\">\n",
       "  <thead>\n",
       "    <tr style=\"text-align: right;\">\n",
       "      <th></th>\n",
       "      <th>Loan_ID</th>\n",
       "      <th>Gender</th>\n",
       "      <th>Married</th>\n",
       "      <th>Dependents</th>\n",
       "      <th>Education</th>\n",
       "      <th>Self_Employed</th>\n",
       "      <th>ApplicantIncome</th>\n",
       "      <th>CoapplicantIncome</th>\n",
       "      <th>LoanAmount</th>\n",
       "      <th>Loan_Amount_Term</th>\n",
       "      <th>Credit_History</th>\n",
       "      <th>Property_Area</th>\n",
       "      <th>Loan_Status</th>\n",
       "    </tr>\n",
       "  </thead>\n",
       "  <tbody>\n",
       "    <tr>\n",
       "      <th>0</th>\n",
       "      <td>LP001002</td>\n",
       "      <td>Male</td>\n",
       "      <td>No</td>\n",
       "      <td>0</td>\n",
       "      <td>Graduate</td>\n",
       "      <td>No</td>\n",
       "      <td>5849</td>\n",
       "      <td>0.0</td>\n",
       "      <td>146.412162</td>\n",
       "      <td>360.0</td>\n",
       "      <td>1.0</td>\n",
       "      <td>Urban</td>\n",
       "      <td>Y</td>\n",
       "    </tr>\n",
       "    <tr>\n",
       "      <th>1</th>\n",
       "      <td>LP001003</td>\n",
       "      <td>Male</td>\n",
       "      <td>Yes</td>\n",
       "      <td>1</td>\n",
       "      <td>Graduate</td>\n",
       "      <td>No</td>\n",
       "      <td>4583</td>\n",
       "      <td>1508.0</td>\n",
       "      <td>128.000000</td>\n",
       "      <td>360.0</td>\n",
       "      <td>1.0</td>\n",
       "      <td>Rural</td>\n",
       "      <td>N</td>\n",
       "    </tr>\n",
       "    <tr>\n",
       "      <th>2</th>\n",
       "      <td>LP001005</td>\n",
       "      <td>Male</td>\n",
       "      <td>Yes</td>\n",
       "      <td>0</td>\n",
       "      <td>Graduate</td>\n",
       "      <td>Yes</td>\n",
       "      <td>3000</td>\n",
       "      <td>0.0</td>\n",
       "      <td>66.000000</td>\n",
       "      <td>360.0</td>\n",
       "      <td>1.0</td>\n",
       "      <td>Urban</td>\n",
       "      <td>Y</td>\n",
       "    </tr>\n",
       "    <tr>\n",
       "      <th>3</th>\n",
       "      <td>LP001006</td>\n",
       "      <td>Male</td>\n",
       "      <td>Yes</td>\n",
       "      <td>0</td>\n",
       "      <td>Not Graduate</td>\n",
       "      <td>No</td>\n",
       "      <td>2583</td>\n",
       "      <td>2358.0</td>\n",
       "      <td>120.000000</td>\n",
       "      <td>360.0</td>\n",
       "      <td>1.0</td>\n",
       "      <td>Urban</td>\n",
       "      <td>Y</td>\n",
       "    </tr>\n",
       "    <tr>\n",
       "      <th>4</th>\n",
       "      <td>LP001008</td>\n",
       "      <td>Male</td>\n",
       "      <td>No</td>\n",
       "      <td>0</td>\n",
       "      <td>Graduate</td>\n",
       "      <td>No</td>\n",
       "      <td>6000</td>\n",
       "      <td>0.0</td>\n",
       "      <td>141.000000</td>\n",
       "      <td>360.0</td>\n",
       "      <td>1.0</td>\n",
       "      <td>Urban</td>\n",
       "      <td>Y</td>\n",
       "    </tr>\n",
       "    <tr>\n",
       "      <th>...</th>\n",
       "      <td>...</td>\n",
       "      <td>...</td>\n",
       "      <td>...</td>\n",
       "      <td>...</td>\n",
       "      <td>...</td>\n",
       "      <td>...</td>\n",
       "      <td>...</td>\n",
       "      <td>...</td>\n",
       "      <td>...</td>\n",
       "      <td>...</td>\n",
       "      <td>...</td>\n",
       "      <td>...</td>\n",
       "      <td>...</td>\n",
       "    </tr>\n",
       "    <tr>\n",
       "      <th>609</th>\n",
       "      <td>LP002978</td>\n",
       "      <td>Female</td>\n",
       "      <td>No</td>\n",
       "      <td>0</td>\n",
       "      <td>Graduate</td>\n",
       "      <td>No</td>\n",
       "      <td>2900</td>\n",
       "      <td>0.0</td>\n",
       "      <td>71.000000</td>\n",
       "      <td>360.0</td>\n",
       "      <td>1.0</td>\n",
       "      <td>Rural</td>\n",
       "      <td>Y</td>\n",
       "    </tr>\n",
       "    <tr>\n",
       "      <th>610</th>\n",
       "      <td>LP002979</td>\n",
       "      <td>Male</td>\n",
       "      <td>Yes</td>\n",
       "      <td>3</td>\n",
       "      <td>Graduate</td>\n",
       "      <td>No</td>\n",
       "      <td>4106</td>\n",
       "      <td>0.0</td>\n",
       "      <td>40.000000</td>\n",
       "      <td>180.0</td>\n",
       "      <td>1.0</td>\n",
       "      <td>Rural</td>\n",
       "      <td>Y</td>\n",
       "    </tr>\n",
       "    <tr>\n",
       "      <th>611</th>\n",
       "      <td>LP002983</td>\n",
       "      <td>Male</td>\n",
       "      <td>Yes</td>\n",
       "      <td>1</td>\n",
       "      <td>Graduate</td>\n",
       "      <td>No</td>\n",
       "      <td>8072</td>\n",
       "      <td>240.0</td>\n",
       "      <td>253.000000</td>\n",
       "      <td>360.0</td>\n",
       "      <td>1.0</td>\n",
       "      <td>Urban</td>\n",
       "      <td>Y</td>\n",
       "    </tr>\n",
       "    <tr>\n",
       "      <th>612</th>\n",
       "      <td>LP002984</td>\n",
       "      <td>Male</td>\n",
       "      <td>Yes</td>\n",
       "      <td>2</td>\n",
       "      <td>Graduate</td>\n",
       "      <td>No</td>\n",
       "      <td>7583</td>\n",
       "      <td>0.0</td>\n",
       "      <td>187.000000</td>\n",
       "      <td>360.0</td>\n",
       "      <td>1.0</td>\n",
       "      <td>Urban</td>\n",
       "      <td>Y</td>\n",
       "    </tr>\n",
       "    <tr>\n",
       "      <th>613</th>\n",
       "      <td>LP002990</td>\n",
       "      <td>Female</td>\n",
       "      <td>No</td>\n",
       "      <td>0</td>\n",
       "      <td>Graduate</td>\n",
       "      <td>Yes</td>\n",
       "      <td>4583</td>\n",
       "      <td>0.0</td>\n",
       "      <td>133.000000</td>\n",
       "      <td>360.0</td>\n",
       "      <td>0.0</td>\n",
       "      <td>Semiurban</td>\n",
       "      <td>N</td>\n",
       "    </tr>\n",
       "  </tbody>\n",
       "</table>\n",
       "<p>614 rows × 13 columns</p>\n",
       "</div>"
      ],
      "text/plain": [
       "      Loan_ID  Gender Married Dependents     Education Self_Employed  \\\n",
       "0    LP001002    Male      No          0      Graduate            No   \n",
       "1    LP001003    Male     Yes          1      Graduate            No   \n",
       "2    LP001005    Male     Yes          0      Graduate           Yes   \n",
       "3    LP001006    Male     Yes          0  Not Graduate            No   \n",
       "4    LP001008    Male      No          0      Graduate            No   \n",
       "..        ...     ...     ...        ...           ...           ...   \n",
       "609  LP002978  Female      No          0      Graduate            No   \n",
       "610  LP002979    Male     Yes          3      Graduate            No   \n",
       "611  LP002983    Male     Yes          1      Graduate            No   \n",
       "612  LP002984    Male     Yes          2      Graduate            No   \n",
       "613  LP002990  Female      No          0      Graduate           Yes   \n",
       "\n",
       "     ApplicantIncome  CoapplicantIncome  LoanAmount  Loan_Amount_Term  \\\n",
       "0               5849                0.0  146.412162             360.0   \n",
       "1               4583             1508.0  128.000000             360.0   \n",
       "2               3000                0.0   66.000000             360.0   \n",
       "3               2583             2358.0  120.000000             360.0   \n",
       "4               6000                0.0  141.000000             360.0   \n",
       "..               ...                ...         ...               ...   \n",
       "609             2900                0.0   71.000000             360.0   \n",
       "610             4106                0.0   40.000000             180.0   \n",
       "611             8072              240.0  253.000000             360.0   \n",
       "612             7583                0.0  187.000000             360.0   \n",
       "613             4583                0.0  133.000000             360.0   \n",
       "\n",
       "     Credit_History Property_Area Loan_Status  \n",
       "0               1.0         Urban           Y  \n",
       "1               1.0         Rural           N  \n",
       "2               1.0         Urban           Y  \n",
       "3               1.0         Urban           Y  \n",
       "4               1.0         Urban           Y  \n",
       "..              ...           ...         ...  \n",
       "609             1.0         Rural           Y  \n",
       "610             1.0         Rural           Y  \n",
       "611             1.0         Urban           Y  \n",
       "612             1.0         Urban           Y  \n",
       "613             0.0     Semiurban           N  \n",
       "\n",
       "[614 rows x 13 columns]"
      ]
     },
     "execution_count": 18,
     "metadata": {},
     "output_type": "execute_result"
    }
   ],
   "source": [
    "def fill_null(column):\n",
    "    if column.dtype == 'object':\n",
    "        mode_ = column.mode()[0]\n",
    "        new_column = column.fillna(mode_)\n",
    "    else : # dtype in ['int64','float64']\n",
    "        new_column = column.fillna(column.mean())\n",
    "    return new_column\n",
    "# 숫자형 변수 컬럼 평균값 계산\n",
    "\n",
    "# 결측치 컬럼별 평균으로 대체\n",
    "\n",
    "# 문자형 변수 최빈값 계산\n",
    "\n",
    "# 결측치 컬럼별 최빈값으로 대체\n",
    "\n",
    "#원본 데이터프레임에 컨캣\n",
    "loan_fillna = loan.apply(fill_null,axis=0)\n",
    "\n",
    "## 결측값 확인\n",
    "print(loan_fillna.isna().sum())\n",
    "\n",
    "loan_fillna"
   ]
  },
  {
   "cell_type": "markdown",
   "id": "D4GHmg7aCpgH",
   "metadata": {
    "id": "D4GHmg7aCpgH"
   },
   "source": [
    "## 실습5"
   ]
  },
  {
   "cell_type": "markdown",
   "id": "Kwytvgi8Cne2",
   "metadata": {
    "id": "Kwytvgi8Cne2"
   },
   "source": [
    "### 5. 이상치 처리 (4점)"
   ]
  },
  {
   "cell_type": "markdown",
   "id": "Qlc8VcSqCsdk",
   "metadata": {
    "id": "Qlc8VcSqCsdk"
   },
   "source": [
    "**a)** ApplicantIncome, CoapplicantIncome, LoanAmount의 분포를 시각화하세요. (`boxplot` 이용)"
   ]
  },
  {
   "cell_type": "markdown",
   "id": "b655938e",
   "metadata": {},
   "source": [
    "<span style=\"color:blue\">세 데이터값의 범위가 너무 크게 차이나서 각각의 ax에 그렸습니다.\n",
    "</span>"
   ]
  },
  {
   "cell_type": "code",
   "execution_count": 19,
   "id": "8HHlM_ZJCstr",
   "metadata": {
    "ExecuteTime": {
     "end_time": "2023-08-28T07:10:04.244109Z",
     "start_time": "2023-08-28T07:10:02.984750Z"
    },
    "id": "8HHlM_ZJCstr"
   },
   "outputs": [
    {
     "data": {
      "image/png": "[encoded data removed]",
      "text/plain": [
       "<Figure size 640x480 with 3 Axes>"
      ]
     },
     "metadata": {},
     "output_type": "display_data"
    }
   ],
   "source": [
    "#이상치 확인을 위해 사분위수 정보를 포함하는 박스플롯으로 시각화\n",
    "import matplotlib.pyplot as plt\n",
    "fig,axs = plt.subplots(1,3)\n",
    "axs[0].boxplot(loan_fillna['ApplicantIncome'])\n",
    "axs[0].set_xticklabels(['ApplicantIncome'])\n",
    "axs[1].boxplot(loan_fillna['CoapplicantIncome'])\n",
    "axs[1].set_xticklabels(['CoapplicantIncome'])\n",
    "axs[2].boxplot(loan_fillna['LoanAmount'])\n",
    "axs[2].set_xticklabels(['LoanAmount'])\n",
    "plt.subplots_adjust(wspace = 0.5)\n",
    "plt.show()"
   ]
  },
  {
   "cell_type": "code",
   "execution_count": 20,
   "id": "51ec83a5",
   "metadata": {
    "ExecuteTime": {
     "end_time": "2023-08-28T07:10:04.677988Z",
     "start_time": "2023-08-28T07:10:04.247120Z"
    }
   },
   "outputs": [
    {
     "data": {
      "image/png": "[encoded data removed]",
      "text/plain": [
       "<Figure size 640x480 with 3 Axes>"
      ]
     },
     "metadata": {},
     "output_type": "display_data"
    }
   ],
   "source": [
    "# seaborn 버전\n",
    "import seaborn as sns\n",
    "fig2,axs2 = plt.subplots(1,3)\n",
    "sns.boxplot(loan_fillna['ApplicantIncome'],ax=axs2[0])\n",
    "sns.boxplot(loan_fillna['CoapplicantIncome'],ax=axs2[1])\n",
    "sns.boxplot(loan_fillna['LoanAmount'],ax=axs2[2])\n",
    "plt.subplots_adjust(wspace = 0.5)\n",
    "plt.show()"
   ]
  },
  {
   "cell_type": "markdown",
   "id": "UK7XoFz9CxiN",
   "metadata": {
    "id": "UK7XoFz9CxiN"
   },
   "source": [
    "**b)** ApplicantIncome, CoapplicantIncome, LoanAmount의 분포를 확인 후, 이상치를 탐색하여 drop하세요.\n",
    "\n",
    "각 column에 대하여 이상치가 있다고 판단되는 **모든 행** 을 drop해주시면 됩니다.\n",
    "\n",
    "(이상치 제거는 본인이 선호하는 방법으로 하시거나, *Tukey Fences* 방법 (답안에서 이용 예정) 을 이용해주세요. )"
   ]
  },
  {
   "cell_type": "code",
   "execution_count": 21,
   "id": "e3f955f9",
   "metadata": {
    "ExecuteTime": {
     "end_time": "2023-08-28T07:10:04.698895Z",
     "start_time": "2023-08-28T07:10:04.679749Z"
    }
   },
   "outputs": [
    {
     "name": "stdout",
     "output_type": "stream",
     "text": [
      "각 컬럼의 분포\n"
     ]
    },
    {
     "data": {
      "text/html": [
       "<div>\n",
       "<style scoped>\n",
       "    .dataframe tbody tr th:only-of-type {\n",
       "        vertical-align: middle;\n",
       "    }\n",
       "\n",
       "    .dataframe tbody tr th {\n",
       "        vertical-align: top;\n",
       "    }\n",
       "\n",
       "    .dataframe thead th {\n",
       "        text-align: right;\n",
       "    }\n",
       "</style>\n",
       "<table border=\"1\" class=\"dataframe\">\n",
       "  <thead>\n",
       "    <tr style=\"text-align: right;\">\n",
       "      <th></th>\n",
       "      <th>ApplicantIncome</th>\n",
       "      <th>CoapplicantIncome</th>\n",
       "      <th>LoanAmount</th>\n",
       "    </tr>\n",
       "  </thead>\n",
       "  <tbody>\n",
       "    <tr>\n",
       "      <th>count</th>\n",
       "      <td>614.000000</td>\n",
       "      <td>614.000000</td>\n",
       "      <td>614.000000</td>\n",
       "    </tr>\n",
       "    <tr>\n",
       "      <th>mean</th>\n",
       "      <td>5403.459283</td>\n",
       "      <td>1621.245798</td>\n",
       "      <td>146.412162</td>\n",
       "    </tr>\n",
       "    <tr>\n",
       "      <th>std</th>\n",
       "      <td>6109.041673</td>\n",
       "      <td>2926.248369</td>\n",
       "      <td>84.037468</td>\n",
       "    </tr>\n",
       "    <tr>\n",
       "      <th>min</th>\n",
       "      <td>150.000000</td>\n",
       "      <td>0.000000</td>\n",
       "      <td>9.000000</td>\n",
       "    </tr>\n",
       "    <tr>\n",
       "      <th>25%</th>\n",
       "      <td>2877.500000</td>\n",
       "      <td>0.000000</td>\n",
       "      <td>100.250000</td>\n",
       "    </tr>\n",
       "    <tr>\n",
       "      <th>50%</th>\n",
       "      <td>3812.500000</td>\n",
       "      <td>1188.500000</td>\n",
       "      <td>129.000000</td>\n",
       "    </tr>\n",
       "    <tr>\n",
       "      <th>75%</th>\n",
       "      <td>5795.000000</td>\n",
       "      <td>2297.250000</td>\n",
       "      <td>164.750000</td>\n",
       "    </tr>\n",
       "    <tr>\n",
       "      <th>max</th>\n",
       "      <td>81000.000000</td>\n",
       "      <td>41667.000000</td>\n",
       "      <td>700.000000</td>\n",
       "    </tr>\n",
       "  </tbody>\n",
       "</table>\n",
       "</div>"
      ],
      "text/plain": [
       "       ApplicantIncome  CoapplicantIncome  LoanAmount\n",
       "count       614.000000         614.000000  614.000000\n",
       "mean       5403.459283        1621.245798  146.412162\n",
       "std        6109.041673        2926.248369   84.037468\n",
       "min         150.000000           0.000000    9.000000\n",
       "25%        2877.500000           0.000000  100.250000\n",
       "50%        3812.500000        1188.500000  129.000000\n",
       "75%        5795.000000        2297.250000  164.750000\n",
       "max       81000.000000       41667.000000  700.000000"
      ]
     },
     "execution_count": 21,
     "metadata": {},
     "output_type": "execute_result"
    }
   ],
   "source": [
    "print('각 컬럼의 분포')\n",
    "loan_fillna[['ApplicantIncome','CoapplicantIncome', 'LoanAmount']].describe()"
   ]
  },
  {
   "cell_type": "code",
   "execution_count": 22,
   "id": "clhgzINZCx2a",
   "metadata": {
    "ExecuteTime": {
     "end_time": "2023-08-28T07:10:04.714955Z",
     "start_time": "2023-08-28T07:10:04.699931Z"
    },
    "id": "clhgzINZCx2a"
   },
   "outputs": [],
   "source": [
    "# 컬럼을 전달받아, 이상치에 해당하는 데이터의 인덱스를 반환하는 함수\n",
    "def tukey_fences(col):\n",
    "    q1 = col.quantile(.25)\n",
    "    q3 = col.quantile(.75)\n",
    "    IQR = q3 - q1\n",
    "    LF = q1 - (1.5 * IQR)\n",
    "    UF = q3 + (1.5 * IQR)\n",
    "    return np.where((col < LF) | (col > UF))[0]"
   ]
  },
  {
   "cell_type": "code",
   "execution_count": 23,
   "id": "YObmf3w7CShq",
   "metadata": {
    "ExecuteTime": {
     "end_time": "2023-08-28T07:10:04.731044Z",
     "start_time": "2023-08-28T07:10:04.715189Z"
    },
    "id": "YObmf3w7CShq",
    "scrolled": true
   },
   "outputs": [],
   "source": [
    "checklist = ['ApplicantIncome', 'CoapplicantIncome', 'LoanAmount']\n",
    "index_list = np.array([])\n",
    "for col in checklist:\n",
    "    index_list = np.concatenate([index_list,tukey_fences(loan[col])])\n",
    "index_list = list(index_list.astype('int64'))\n",
    "loan_fillna = loan_fillna.drop(index=index_list,axis=0)"
   ]
  },
  {
   "cell_type": "code",
   "execution_count": 24,
   "id": "q_uGhXyAB9hp",
   "metadata": {
    "ExecuteTime": {
     "end_time": "2023-08-28T07:10:04.746656Z",
     "start_time": "2023-08-28T07:10:04.732376Z"
    },
    "id": "q_uGhXyAB9hp",
    "scrolled": false
   },
   "outputs": [
    {
     "name": "stdout",
     "output_type": "stream",
     "text": [
      "<class 'pandas.core.frame.DataFrame'>\n",
      "Int64Index: 537 entries, 0 to 613\n",
      "Data columns (total 13 columns):\n",
      " #   Column             Non-Null Count  Dtype  \n",
      "---  ------             --------------  -----  \n",
      " 0   Loan_ID            537 non-null    object \n",
      " 1   Gender             537 non-null    object \n",
      " 2   Married            537 non-null    object \n",
      " 3   Dependents         537 non-null    object \n",
      " 4   Education          537 non-null    object \n",
      " 5   Self_Employed      537 non-null    object \n",
      " 6   ApplicantIncome    537 non-null    int64  \n",
      " 7   CoapplicantIncome  537 non-null    float64\n",
      " 8   LoanAmount         537 non-null    float64\n",
      " 9   Loan_Amount_Term   537 non-null    float64\n",
      " 10  Credit_History     537 non-null    float64\n",
      " 11  Property_Area      537 non-null    object \n",
      " 12  Loan_Status        537 non-null    object \n",
      "dtypes: float64(4), int64(1), object(8)\n",
      "memory usage: 58.7+ KB\n"
     ]
    }
   ],
   "source": [
    "loan_fillna.info()"
   ]
  },
  {
   "cell_type": "code",
   "execution_count": 25,
   "id": "0f1180a6",
   "metadata": {
    "ExecuteTime": {
     "end_time": "2023-08-28T07:10:04.780567Z",
     "start_time": "2023-08-28T07:10:04.747659Z"
    }
   },
   "outputs": [
    {
     "data": {
      "text/html": [
       "<div>\n",
       "<style scoped>\n",
       "    .dataframe tbody tr th:only-of-type {\n",
       "        vertical-align: middle;\n",
       "    }\n",
       "\n",
       "    .dataframe tbody tr th {\n",
       "        vertical-align: top;\n",
       "    }\n",
       "\n",
       "    .dataframe thead th {\n",
       "        text-align: right;\n",
       "    }\n",
       "</style>\n",
       "<table border=\"1\" class=\"dataframe\">\n",
       "  <thead>\n",
       "    <tr style=\"text-align: right;\">\n",
       "      <th></th>\n",
       "      <th>Loan_ID</th>\n",
       "      <th>Gender</th>\n",
       "      <th>Married</th>\n",
       "      <th>Dependents</th>\n",
       "      <th>Education</th>\n",
       "      <th>Self_Employed</th>\n",
       "      <th>ApplicantIncome</th>\n",
       "      <th>CoapplicantIncome</th>\n",
       "      <th>LoanAmount</th>\n",
       "      <th>Loan_Amount_Term</th>\n",
       "      <th>Credit_History</th>\n",
       "      <th>Property_Area</th>\n",
       "      <th>Loan_Status</th>\n",
       "    </tr>\n",
       "  </thead>\n",
       "  <tbody>\n",
       "    <tr>\n",
       "      <th>0</th>\n",
       "      <td>LP001002</td>\n",
       "      <td>Male</td>\n",
       "      <td>No</td>\n",
       "      <td>0</td>\n",
       "      <td>Graduate</td>\n",
       "      <td>No</td>\n",
       "      <td>5849</td>\n",
       "      <td>0.0</td>\n",
       "      <td>146.412162</td>\n",
       "      <td>360.0</td>\n",
       "      <td>1.0</td>\n",
       "      <td>Urban</td>\n",
       "      <td>Y</td>\n",
       "    </tr>\n",
       "    <tr>\n",
       "      <th>1</th>\n",
       "      <td>LP001003</td>\n",
       "      <td>Male</td>\n",
       "      <td>Yes</td>\n",
       "      <td>1</td>\n",
       "      <td>Graduate</td>\n",
       "      <td>No</td>\n",
       "      <td>4583</td>\n",
       "      <td>1508.0</td>\n",
       "      <td>128.000000</td>\n",
       "      <td>360.0</td>\n",
       "      <td>1.0</td>\n",
       "      <td>Rural</td>\n",
       "      <td>N</td>\n",
       "    </tr>\n",
       "    <tr>\n",
       "      <th>2</th>\n",
       "      <td>LP001005</td>\n",
       "      <td>Male</td>\n",
       "      <td>Yes</td>\n",
       "      <td>0</td>\n",
       "      <td>Graduate</td>\n",
       "      <td>Yes</td>\n",
       "      <td>3000</td>\n",
       "      <td>0.0</td>\n",
       "      <td>66.000000</td>\n",
       "      <td>360.0</td>\n",
       "      <td>1.0</td>\n",
       "      <td>Urban</td>\n",
       "      <td>Y</td>\n",
       "    </tr>\n",
       "    <tr>\n",
       "      <th>3</th>\n",
       "      <td>LP001006</td>\n",
       "      <td>Male</td>\n",
       "      <td>Yes</td>\n",
       "      <td>0</td>\n",
       "      <td>Not Graduate</td>\n",
       "      <td>No</td>\n",
       "      <td>2583</td>\n",
       "      <td>2358.0</td>\n",
       "      <td>120.000000</td>\n",
       "      <td>360.0</td>\n",
       "      <td>1.0</td>\n",
       "      <td>Urban</td>\n",
       "      <td>Y</td>\n",
       "    </tr>\n",
       "    <tr>\n",
       "      <th>4</th>\n",
       "      <td>LP001008</td>\n",
       "      <td>Male</td>\n",
       "      <td>No</td>\n",
       "      <td>0</td>\n",
       "      <td>Graduate</td>\n",
       "      <td>No</td>\n",
       "      <td>6000</td>\n",
       "      <td>0.0</td>\n",
       "      <td>141.000000</td>\n",
       "      <td>360.0</td>\n",
       "      <td>1.0</td>\n",
       "      <td>Urban</td>\n",
       "      <td>Y</td>\n",
       "    </tr>\n",
       "    <tr>\n",
       "      <th>...</th>\n",
       "      <td>...</td>\n",
       "      <td>...</td>\n",
       "      <td>...</td>\n",
       "      <td>...</td>\n",
       "      <td>...</td>\n",
       "      <td>...</td>\n",
       "      <td>...</td>\n",
       "      <td>...</td>\n",
       "      <td>...</td>\n",
       "      <td>...</td>\n",
       "      <td>...</td>\n",
       "      <td>...</td>\n",
       "      <td>...</td>\n",
       "    </tr>\n",
       "    <tr>\n",
       "      <th>609</th>\n",
       "      <td>LP002978</td>\n",
       "      <td>Female</td>\n",
       "      <td>No</td>\n",
       "      <td>0</td>\n",
       "      <td>Graduate</td>\n",
       "      <td>No</td>\n",
       "      <td>2900</td>\n",
       "      <td>0.0</td>\n",
       "      <td>71.000000</td>\n",
       "      <td>360.0</td>\n",
       "      <td>1.0</td>\n",
       "      <td>Rural</td>\n",
       "      <td>Y</td>\n",
       "    </tr>\n",
       "    <tr>\n",
       "      <th>610</th>\n",
       "      <td>LP002979</td>\n",
       "      <td>Male</td>\n",
       "      <td>Yes</td>\n",
       "      <td>3</td>\n",
       "      <td>Graduate</td>\n",
       "      <td>No</td>\n",
       "      <td>4106</td>\n",
       "      <td>0.0</td>\n",
       "      <td>40.000000</td>\n",
       "      <td>180.0</td>\n",
       "      <td>1.0</td>\n",
       "      <td>Rural</td>\n",
       "      <td>Y</td>\n",
       "    </tr>\n",
       "    <tr>\n",
       "      <th>611</th>\n",
       "      <td>LP002983</td>\n",
       "      <td>Male</td>\n",
       "      <td>Yes</td>\n",
       "      <td>1</td>\n",
       "      <td>Graduate</td>\n",
       "      <td>No</td>\n",
       "      <td>8072</td>\n",
       "      <td>240.0</td>\n",
       "      <td>253.000000</td>\n",
       "      <td>360.0</td>\n",
       "      <td>1.0</td>\n",
       "      <td>Urban</td>\n",
       "      <td>Y</td>\n",
       "    </tr>\n",
       "    <tr>\n",
       "      <th>612</th>\n",
       "      <td>LP002984</td>\n",
       "      <td>Male</td>\n",
       "      <td>Yes</td>\n",
       "      <td>2</td>\n",
       "      <td>Graduate</td>\n",
       "      <td>No</td>\n",
       "      <td>7583</td>\n",
       "      <td>0.0</td>\n",
       "      <td>187.000000</td>\n",
       "      <td>360.0</td>\n",
       "      <td>1.0</td>\n",
       "      <td>Urban</td>\n",
       "      <td>Y</td>\n",
       "    </tr>\n",
       "    <tr>\n",
       "      <th>613</th>\n",
       "      <td>LP002990</td>\n",
       "      <td>Female</td>\n",
       "      <td>No</td>\n",
       "      <td>0</td>\n",
       "      <td>Graduate</td>\n",
       "      <td>Yes</td>\n",
       "      <td>4583</td>\n",
       "      <td>0.0</td>\n",
       "      <td>133.000000</td>\n",
       "      <td>360.0</td>\n",
       "      <td>0.0</td>\n",
       "      <td>Semiurban</td>\n",
       "      <td>N</td>\n",
       "    </tr>\n",
       "  </tbody>\n",
       "</table>\n",
       "<p>537 rows × 13 columns</p>\n",
       "</div>"
      ],
      "text/plain": [
       "      Loan_ID  Gender Married Dependents     Education Self_Employed  \\\n",
       "0    LP001002    Male      No          0      Graduate            No   \n",
       "1    LP001003    Male     Yes          1      Graduate            No   \n",
       "2    LP001005    Male     Yes          0      Graduate           Yes   \n",
       "3    LP001006    Male     Yes          0  Not Graduate            No   \n",
       "4    LP001008    Male      No          0      Graduate            No   \n",
       "..        ...     ...     ...        ...           ...           ...   \n",
       "609  LP002978  Female      No          0      Graduate            No   \n",
       "610  LP002979    Male     Yes          3      Graduate            No   \n",
       "611  LP002983    Male     Yes          1      Graduate            No   \n",
       "612  LP002984    Male     Yes          2      Graduate            No   \n",
       "613  LP002990  Female      No          0      Graduate           Yes   \n",
       "\n",
       "     ApplicantIncome  CoapplicantIncome  LoanAmount  Loan_Amount_Term  \\\n",
       "0               5849                0.0  146.412162             360.0   \n",
       "1               4583             1508.0  128.000000             360.0   \n",
       "2               3000                0.0   66.000000             360.0   \n",
       "3               2583             2358.0  120.000000             360.0   \n",
       "4               6000                0.0  141.000000             360.0   \n",
       "..               ...                ...         ...               ...   \n",
       "609             2900                0.0   71.000000             360.0   \n",
       "610             4106                0.0   40.000000             180.0   \n",
       "611             8072              240.0  253.000000             360.0   \n",
       "612             7583                0.0  187.000000             360.0   \n",
       "613             4583                0.0  133.000000             360.0   \n",
       "\n",
       "     Credit_History Property_Area Loan_Status  \n",
       "0               1.0         Urban           Y  \n",
       "1               1.0         Rural           N  \n",
       "2               1.0         Urban           Y  \n",
       "3               1.0         Urban           Y  \n",
       "4               1.0         Urban           Y  \n",
       "..              ...           ...         ...  \n",
       "609             1.0         Rural           Y  \n",
       "610             1.0         Rural           Y  \n",
       "611             1.0         Urban           Y  \n",
       "612             1.0         Urban           Y  \n",
       "613             0.0     Semiurban           N  \n",
       "\n",
       "[537 rows x 13 columns]"
      ]
     },
     "execution_count": 25,
     "metadata": {},
     "output_type": "execute_result"
    }
   ],
   "source": [
    "loan_fillna"
   ]
  },
  {
   "cell_type": "markdown",
   "id": "-t_G6XnlC0qN",
   "metadata": {
    "id": "-t_G6XnlC0qN"
   },
   "source": [
    "## 실습6"
   ]
  },
  {
   "cell_type": "markdown",
   "id": "XVI4xUfpC3Ro",
   "metadata": {
    "id": "XVI4xUfpC3Ro"
   },
   "source": [
    "### 6. 인코딩 (20점)"
   ]
  },
  {
   "cell_type": "markdown",
   "id": "etiOOckgC56H",
   "metadata": {
    "id": "etiOOckgC56H"
   },
   "source": [
    "머신러닝 모델이 데이터를 학습할 수 있도록, Dtype이 **'object'** 인 컬럼들에 대하여 인코딩을 실행해줍니다."
   ]
  },
  {
   "cell_type": "markdown",
   "id": "SZCsYn6nC7v5",
   "metadata": {
    "id": "SZCsYn6nC7v5"
   },
   "source": [
    "**a)** 먼저, 부양가족의 수를 의미하는 'Dependent'열의 dtype을 **object**에서 **int**로 바꿔주세요. (`.astype` 이용) **(4점)**"
   ]
  },
  {
   "cell_type": "code",
   "execution_count": 26,
   "id": "391a410d",
   "metadata": {
    "ExecuteTime": {
     "end_time": "2023-08-28T07:10:04.797627Z",
     "start_time": "2023-08-28T07:10:04.782566Z"
    }
   },
   "outputs": [],
   "source": [
    "loan = loan_fillna.copy()\n",
    "loan['Dependents'] = loan['Dependents'].astype('int64')"
   ]
  },
  {
   "cell_type": "markdown",
   "id": "fAyXWCuXC9yF",
   "metadata": {
    "id": "fAyXWCuXC9yF"
   },
   "source": [
    "**b)** 'Yes/No'의 형태로 기록되어 있는 열들 ('Married', 'Education', 'Self_Employed', 'Loan_Status')에 대하여 **Label Encoding**을 시행하세요. **(6점)**"
   ]
  },
  {
   "cell_type": "code",
   "execution_count": 27,
   "id": "cMcR6Zw5C9_6",
   "metadata": {
    "ExecuteTime": {
     "end_time": "2023-08-28T07:10:04.828504Z",
     "start_time": "2023-08-28T07:10:04.799950Z"
    },
    "id": "cMcR6Zw5C9_6",
    "scrolled": false
   },
   "outputs": [
    {
     "data": {
      "text/html": [
       "<div>\n",
       "<style scoped>\n",
       "    .dataframe tbody tr th:only-of-type {\n",
       "        vertical-align: middle;\n",
       "    }\n",
       "\n",
       "    .dataframe tbody tr th {\n",
       "        vertical-align: top;\n",
       "    }\n",
       "\n",
       "    .dataframe thead th {\n",
       "        text-align: right;\n",
       "    }\n",
       "</style>\n",
       "<table border=\"1\" class=\"dataframe\">\n",
       "  <thead>\n",
       "    <tr style=\"text-align: right;\">\n",
       "      <th></th>\n",
       "      <th>Loan_ID</th>\n",
       "      <th>Gender</th>\n",
       "      <th>Married</th>\n",
       "      <th>Dependents</th>\n",
       "      <th>Education</th>\n",
       "      <th>Self_Employed</th>\n",
       "      <th>ApplicantIncome</th>\n",
       "      <th>CoapplicantIncome</th>\n",
       "      <th>LoanAmount</th>\n",
       "      <th>Loan_Amount_Term</th>\n",
       "      <th>Credit_History</th>\n",
       "      <th>Property_Area</th>\n",
       "      <th>Loan_Status</th>\n",
       "    </tr>\n",
       "  </thead>\n",
       "  <tbody>\n",
       "    <tr>\n",
       "      <th>0</th>\n",
       "      <td>LP001002</td>\n",
       "      <td>Male</td>\n",
       "      <td>0</td>\n",
       "      <td>0</td>\n",
       "      <td>0</td>\n",
       "      <td>0</td>\n",
       "      <td>5849</td>\n",
       "      <td>0.0</td>\n",
       "      <td>146.412162</td>\n",
       "      <td>360.0</td>\n",
       "      <td>1.0</td>\n",
       "      <td>Urban</td>\n",
       "      <td>1</td>\n",
       "    </tr>\n",
       "    <tr>\n",
       "      <th>1</th>\n",
       "      <td>LP001003</td>\n",
       "      <td>Male</td>\n",
       "      <td>1</td>\n",
       "      <td>1</td>\n",
       "      <td>0</td>\n",
       "      <td>0</td>\n",
       "      <td>4583</td>\n",
       "      <td>1508.0</td>\n",
       "      <td>128.000000</td>\n",
       "      <td>360.0</td>\n",
       "      <td>1.0</td>\n",
       "      <td>Rural</td>\n",
       "      <td>0</td>\n",
       "    </tr>\n",
       "    <tr>\n",
       "      <th>2</th>\n",
       "      <td>LP001005</td>\n",
       "      <td>Male</td>\n",
       "      <td>1</td>\n",
       "      <td>0</td>\n",
       "      <td>0</td>\n",
       "      <td>1</td>\n",
       "      <td>3000</td>\n",
       "      <td>0.0</td>\n",
       "      <td>66.000000</td>\n",
       "      <td>360.0</td>\n",
       "      <td>1.0</td>\n",
       "      <td>Urban</td>\n",
       "      <td>1</td>\n",
       "    </tr>\n",
       "    <tr>\n",
       "      <th>3</th>\n",
       "      <td>LP001006</td>\n",
       "      <td>Male</td>\n",
       "      <td>1</td>\n",
       "      <td>0</td>\n",
       "      <td>1</td>\n",
       "      <td>0</td>\n",
       "      <td>2583</td>\n",
       "      <td>2358.0</td>\n",
       "      <td>120.000000</td>\n",
       "      <td>360.0</td>\n",
       "      <td>1.0</td>\n",
       "      <td>Urban</td>\n",
       "      <td>1</td>\n",
       "    </tr>\n",
       "    <tr>\n",
       "      <th>4</th>\n",
       "      <td>LP001008</td>\n",
       "      <td>Male</td>\n",
       "      <td>0</td>\n",
       "      <td>0</td>\n",
       "      <td>0</td>\n",
       "      <td>0</td>\n",
       "      <td>6000</td>\n",
       "      <td>0.0</td>\n",
       "      <td>141.000000</td>\n",
       "      <td>360.0</td>\n",
       "      <td>1.0</td>\n",
       "      <td>Urban</td>\n",
       "      <td>1</td>\n",
       "    </tr>\n",
       "    <tr>\n",
       "      <th>...</th>\n",
       "      <td>...</td>\n",
       "      <td>...</td>\n",
       "      <td>...</td>\n",
       "      <td>...</td>\n",
       "      <td>...</td>\n",
       "      <td>...</td>\n",
       "      <td>...</td>\n",
       "      <td>...</td>\n",
       "      <td>...</td>\n",
       "      <td>...</td>\n",
       "      <td>...</td>\n",
       "      <td>...</td>\n",
       "      <td>...</td>\n",
       "    </tr>\n",
       "    <tr>\n",
       "      <th>609</th>\n",
       "      <td>LP002978</td>\n",
       "      <td>Female</td>\n",
       "      <td>0</td>\n",
       "      <td>0</td>\n",
       "      <td>0</td>\n",
       "      <td>0</td>\n",
       "      <td>2900</td>\n",
       "      <td>0.0</td>\n",
       "      <td>71.000000</td>\n",
       "      <td>360.0</td>\n",
       "      <td>1.0</td>\n",
       "      <td>Rural</td>\n",
       "      <td>1</td>\n",
       "    </tr>\n",
       "    <tr>\n",
       "      <th>610</th>\n",
       "      <td>LP002979</td>\n",
       "      <td>Male</td>\n",
       "      <td>1</td>\n",
       "      <td>3</td>\n",
       "      <td>0</td>\n",
       "      <td>0</td>\n",
       "      <td>4106</td>\n",
       "      <td>0.0</td>\n",
       "      <td>40.000000</td>\n",
       "      <td>180.0</td>\n",
       "      <td>1.0</td>\n",
       "      <td>Rural</td>\n",
       "      <td>1</td>\n",
       "    </tr>\n",
       "    <tr>\n",
       "      <th>611</th>\n",
       "      <td>LP002983</td>\n",
       "      <td>Male</td>\n",
       "      <td>1</td>\n",
       "      <td>1</td>\n",
       "      <td>0</td>\n",
       "      <td>0</td>\n",
       "      <td>8072</td>\n",
       "      <td>240.0</td>\n",
       "      <td>253.000000</td>\n",
       "      <td>360.0</td>\n",
       "      <td>1.0</td>\n",
       "      <td>Urban</td>\n",
       "      <td>1</td>\n",
       "    </tr>\n",
       "    <tr>\n",
       "      <th>612</th>\n",
       "      <td>LP002984</td>\n",
       "      <td>Male</td>\n",
       "      <td>1</td>\n",
       "      <td>2</td>\n",
       "      <td>0</td>\n",
       "      <td>0</td>\n",
       "      <td>7583</td>\n",
       "      <td>0.0</td>\n",
       "      <td>187.000000</td>\n",
       "      <td>360.0</td>\n",
       "      <td>1.0</td>\n",
       "      <td>Urban</td>\n",
       "      <td>1</td>\n",
       "    </tr>\n",
       "    <tr>\n",
       "      <th>613</th>\n",
       "      <td>LP002990</td>\n",
       "      <td>Female</td>\n",
       "      <td>0</td>\n",
       "      <td>0</td>\n",
       "      <td>0</td>\n",
       "      <td>1</td>\n",
       "      <td>4583</td>\n",
       "      <td>0.0</td>\n",
       "      <td>133.000000</td>\n",
       "      <td>360.0</td>\n",
       "      <td>0.0</td>\n",
       "      <td>Semiurban</td>\n",
       "      <td>0</td>\n",
       "    </tr>\n",
       "  </tbody>\n",
       "</table>\n",
       "<p>537 rows × 13 columns</p>\n",
       "</div>"
      ],
      "text/plain": [
       "      Loan_ID  Gender  Married  Dependents  Education  Self_Employed  \\\n",
       "0    LP001002    Male        0           0          0              0   \n",
       "1    LP001003    Male        1           1          0              0   \n",
       "2    LP001005    Male        1           0          0              1   \n",
       "3    LP001006    Male        1           0          1              0   \n",
       "4    LP001008    Male        0           0          0              0   \n",
       "..        ...     ...      ...         ...        ...            ...   \n",
       "609  LP002978  Female        0           0          0              0   \n",
       "610  LP002979    Male        1           3          0              0   \n",
       "611  LP002983    Male        1           1          0              0   \n",
       "612  LP002984    Male        1           2          0              0   \n",
       "613  LP002990  Female        0           0          0              1   \n",
       "\n",
       "     ApplicantIncome  CoapplicantIncome  LoanAmount  Loan_Amount_Term  \\\n",
       "0               5849                0.0  146.412162             360.0   \n",
       "1               4583             1508.0  128.000000             360.0   \n",
       "2               3000                0.0   66.000000             360.0   \n",
       "3               2583             2358.0  120.000000             360.0   \n",
       "4               6000                0.0  141.000000             360.0   \n",
       "..               ...                ...         ...               ...   \n",
       "609             2900                0.0   71.000000             360.0   \n",
       "610             4106                0.0   40.000000             180.0   \n",
       "611             8072              240.0  253.000000             360.0   \n",
       "612             7583                0.0  187.000000             360.0   \n",
       "613             4583                0.0  133.000000             360.0   \n",
       "\n",
       "     Credit_History Property_Area  Loan_Status  \n",
       "0               1.0         Urban            1  \n",
       "1               1.0         Rural            0  \n",
       "2               1.0         Urban            1  \n",
       "3               1.0         Urban            1  \n",
       "4               1.0         Urban            1  \n",
       "..              ...           ...          ...  \n",
       "609             1.0         Rural            1  \n",
       "610             1.0         Rural            1  \n",
       "611             1.0         Urban            1  \n",
       "612             1.0         Urban            1  \n",
       "613             0.0     Semiurban            0  \n",
       "\n",
       "[537 rows x 13 columns]"
      ]
     },
     "execution_count": 27,
     "metadata": {},
     "output_type": "execute_result"
    }
   ],
   "source": [
    "from sklearn.preprocessing import LabelEncoder\n",
    "def label_encode(column):\n",
    "    le = LabelEncoder()\n",
    "    le.fit(column)\n",
    "    return le.transform(column)\n",
    "columns = ['Married', 'Education', 'Self_Employed', 'Loan_Status']\n",
    "loan[columns]=loan[columns].apply(label_encode,axis=0)\n",
    "loan"
   ]
  },
  {
   "cell_type": "markdown",
   "id": "0MJYWkv-C_xw",
   "metadata": {
    "id": "0MJYWkv-C_xw"
   },
   "source": [
    "**c)** 머신러닝 알고리즘에 불필요한 열을 제거해주세요. (*힌트 : 1개의 열만 제거하면 됩니다.*  ) **(3점)**"
   ]
  },
  {
   "cell_type": "code",
   "execution_count": 28,
   "id": "tpi8ZOuBDBBN",
   "metadata": {
    "ExecuteTime": {
     "end_time": "2023-08-28T07:10:04.863379Z",
     "start_time": "2023-08-28T07:10:04.835670Z"
    },
    "id": "tpi8ZOuBDBBN"
   },
   "outputs": [
    {
     "data": {
      "text/html": [
       "<div>\n",
       "<style scoped>\n",
       "    .dataframe tbody tr th:only-of-type {\n",
       "        vertical-align: middle;\n",
       "    }\n",
       "\n",
       "    .dataframe tbody tr th {\n",
       "        vertical-align: top;\n",
       "    }\n",
       "\n",
       "    .dataframe thead th {\n",
       "        text-align: right;\n",
       "    }\n",
       "</style>\n",
       "<table border=\"1\" class=\"dataframe\">\n",
       "  <thead>\n",
       "    <tr style=\"text-align: right;\">\n",
       "      <th></th>\n",
       "      <th>Gender</th>\n",
       "      <th>Married</th>\n",
       "      <th>Dependents</th>\n",
       "      <th>Education</th>\n",
       "      <th>Self_Employed</th>\n",
       "      <th>ApplicantIncome</th>\n",
       "      <th>CoapplicantIncome</th>\n",
       "      <th>LoanAmount</th>\n",
       "      <th>Loan_Amount_Term</th>\n",
       "      <th>Credit_History</th>\n",
       "      <th>Property_Area</th>\n",
       "      <th>Loan_Status</th>\n",
       "    </tr>\n",
       "  </thead>\n",
       "  <tbody>\n",
       "    <tr>\n",
       "      <th>0</th>\n",
       "      <td>Male</td>\n",
       "      <td>0</td>\n",
       "      <td>0</td>\n",
       "      <td>0</td>\n",
       "      <td>0</td>\n",
       "      <td>5849</td>\n",
       "      <td>0.0</td>\n",
       "      <td>146.412162</td>\n",
       "      <td>360.0</td>\n",
       "      <td>1.0</td>\n",
       "      <td>Urban</td>\n",
       "      <td>1</td>\n",
       "    </tr>\n",
       "    <tr>\n",
       "      <th>1</th>\n",
       "      <td>Male</td>\n",
       "      <td>1</td>\n",
       "      <td>1</td>\n",
       "      <td>0</td>\n",
       "      <td>0</td>\n",
       "      <td>4583</td>\n",
       "      <td>1508.0</td>\n",
       "      <td>128.000000</td>\n",
       "      <td>360.0</td>\n",
       "      <td>1.0</td>\n",
       "      <td>Rural</td>\n",
       "      <td>0</td>\n",
       "    </tr>\n",
       "    <tr>\n",
       "      <th>2</th>\n",
       "      <td>Male</td>\n",
       "      <td>1</td>\n",
       "      <td>0</td>\n",
       "      <td>0</td>\n",
       "      <td>1</td>\n",
       "      <td>3000</td>\n",
       "      <td>0.0</td>\n",
       "      <td>66.000000</td>\n",
       "      <td>360.0</td>\n",
       "      <td>1.0</td>\n",
       "      <td>Urban</td>\n",
       "      <td>1</td>\n",
       "    </tr>\n",
       "    <tr>\n",
       "      <th>3</th>\n",
       "      <td>Male</td>\n",
       "      <td>1</td>\n",
       "      <td>0</td>\n",
       "      <td>1</td>\n",
       "      <td>0</td>\n",
       "      <td>2583</td>\n",
       "      <td>2358.0</td>\n",
       "      <td>120.000000</td>\n",
       "      <td>360.0</td>\n",
       "      <td>1.0</td>\n",
       "      <td>Urban</td>\n",
       "      <td>1</td>\n",
       "    </tr>\n",
       "    <tr>\n",
       "      <th>4</th>\n",
       "      <td>Male</td>\n",
       "      <td>0</td>\n",
       "      <td>0</td>\n",
       "      <td>0</td>\n",
       "      <td>0</td>\n",
       "      <td>6000</td>\n",
       "      <td>0.0</td>\n",
       "      <td>141.000000</td>\n",
       "      <td>360.0</td>\n",
       "      <td>1.0</td>\n",
       "      <td>Urban</td>\n",
       "      <td>1</td>\n",
       "    </tr>\n",
       "  </tbody>\n",
       "</table>\n",
       "</div>"
      ],
      "text/plain": [
       "  Gender  Married  Dependents  Education  Self_Employed  ApplicantIncome  \\\n",
       "0   Male        0           0          0              0             5849   \n",
       "1   Male        1           1          0              0             4583   \n",
       "2   Male        1           0          0              1             3000   \n",
       "3   Male        1           0          1              0             2583   \n",
       "4   Male        0           0          0              0             6000   \n",
       "\n",
       "   CoapplicantIncome  LoanAmount  Loan_Amount_Term  Credit_History  \\\n",
       "0                0.0  146.412162             360.0             1.0   \n",
       "1             1508.0  128.000000             360.0             1.0   \n",
       "2                0.0   66.000000             360.0             1.0   \n",
       "3             2358.0  120.000000             360.0             1.0   \n",
       "4                0.0  141.000000             360.0             1.0   \n",
       "\n",
       "  Property_Area  Loan_Status  \n",
       "0         Urban            1  \n",
       "1         Rural            0  \n",
       "2         Urban            1  \n",
       "3         Urban            1  \n",
       "4         Urban            1  "
      ]
     },
     "execution_count": 28,
     "metadata": {},
     "output_type": "execute_result"
    }
   ],
   "source": [
    "# Loan_ID 컬럼은 식별자 컬럼이므로 필요없다.\n",
    "loan.drop('Loan_ID',inplace=True,axis=1)\n",
    "loan.head()"
   ]
  },
  {
   "cell_type": "markdown",
   "id": "skENNWosDCnq",
   "metadata": {
    "id": "skENNWosDCnq"
   },
   "source": [
    "**d)** 나머지 문자형 변수 ('Gender'와 'Property_Area')에 대해서는 **OneHotEncoding**을 시행하세요. **(6점)**\n",
    "\n",
    "(`OneHotEncoder` 또는 `pd.get_dummies` 모두 이용 가능)"
   ]
  },
  {
   "cell_type": "code",
   "execution_count": 29,
   "id": "SHuUdWwfDC0c",
   "metadata": {
    "ExecuteTime": {
     "end_time": "2023-08-28T07:10:04.894058Z",
     "start_time": "2023-08-28T07:10:04.863379Z"
    },
    "id": "SHuUdWwfDC0c"
   },
   "outputs": [
    {
     "data": {
      "text/html": [
       "<div>\n",
       "<style scoped>\n",
       "    .dataframe tbody tr th:only-of-type {\n",
       "        vertical-align: middle;\n",
       "    }\n",
       "\n",
       "    .dataframe tbody tr th {\n",
       "        vertical-align: top;\n",
       "    }\n",
       "\n",
       "    .dataframe thead th {\n",
       "        text-align: right;\n",
       "    }\n",
       "</style>\n",
       "<table border=\"1\" class=\"dataframe\">\n",
       "  <thead>\n",
       "    <tr style=\"text-align: right;\">\n",
       "      <th></th>\n",
       "      <th>Female</th>\n",
       "      <th>Male</th>\n",
       "      <th>Married</th>\n",
       "      <th>Dependents</th>\n",
       "      <th>Education</th>\n",
       "      <th>Self_Employed</th>\n",
       "      <th>ApplicantIncome</th>\n",
       "      <th>CoapplicantIncome</th>\n",
       "      <th>Rural</th>\n",
       "      <th>Semiurban</th>\n",
       "      <th>Urban</th>\n",
       "      <th>Loan_Status</th>\n",
       "    </tr>\n",
       "  </thead>\n",
       "  <tbody>\n",
       "    <tr>\n",
       "      <th>0</th>\n",
       "      <td>0</td>\n",
       "      <td>1</td>\n",
       "      <td>0</td>\n",
       "      <td>0</td>\n",
       "      <td>0</td>\n",
       "      <td>0</td>\n",
       "      <td>5849</td>\n",
       "      <td>0.0</td>\n",
       "      <td>0</td>\n",
       "      <td>0</td>\n",
       "      <td>1</td>\n",
       "      <td>1</td>\n",
       "    </tr>\n",
       "    <tr>\n",
       "      <th>1</th>\n",
       "      <td>0</td>\n",
       "      <td>1</td>\n",
       "      <td>1</td>\n",
       "      <td>1</td>\n",
       "      <td>0</td>\n",
       "      <td>0</td>\n",
       "      <td>4583</td>\n",
       "      <td>1508.0</td>\n",
       "      <td>1</td>\n",
       "      <td>0</td>\n",
       "      <td>0</td>\n",
       "      <td>0</td>\n",
       "    </tr>\n",
       "    <tr>\n",
       "      <th>2</th>\n",
       "      <td>0</td>\n",
       "      <td>1</td>\n",
       "      <td>1</td>\n",
       "      <td>0</td>\n",
       "      <td>0</td>\n",
       "      <td>1</td>\n",
       "      <td>3000</td>\n",
       "      <td>0.0</td>\n",
       "      <td>0</td>\n",
       "      <td>0</td>\n",
       "      <td>1</td>\n",
       "      <td>1</td>\n",
       "    </tr>\n",
       "    <tr>\n",
       "      <th>3</th>\n",
       "      <td>0</td>\n",
       "      <td>1</td>\n",
       "      <td>1</td>\n",
       "      <td>0</td>\n",
       "      <td>1</td>\n",
       "      <td>0</td>\n",
       "      <td>2583</td>\n",
       "      <td>2358.0</td>\n",
       "      <td>0</td>\n",
       "      <td>0</td>\n",
       "      <td>1</td>\n",
       "      <td>1</td>\n",
       "    </tr>\n",
       "    <tr>\n",
       "      <th>4</th>\n",
       "      <td>0</td>\n",
       "      <td>1</td>\n",
       "      <td>0</td>\n",
       "      <td>0</td>\n",
       "      <td>0</td>\n",
       "      <td>0</td>\n",
       "      <td>6000</td>\n",
       "      <td>0.0</td>\n",
       "      <td>0</td>\n",
       "      <td>0</td>\n",
       "      <td>1</td>\n",
       "      <td>1</td>\n",
       "    </tr>\n",
       "    <tr>\n",
       "      <th>...</th>\n",
       "      <td>...</td>\n",
       "      <td>...</td>\n",
       "      <td>...</td>\n",
       "      <td>...</td>\n",
       "      <td>...</td>\n",
       "      <td>...</td>\n",
       "      <td>...</td>\n",
       "      <td>...</td>\n",
       "      <td>...</td>\n",
       "      <td>...</td>\n",
       "      <td>...</td>\n",
       "      <td>...</td>\n",
       "    </tr>\n",
       "    <tr>\n",
       "      <th>609</th>\n",
       "      <td>1</td>\n",
       "      <td>0</td>\n",
       "      <td>0</td>\n",
       "      <td>0</td>\n",
       "      <td>0</td>\n",
       "      <td>0</td>\n",
       "      <td>2900</td>\n",
       "      <td>0.0</td>\n",
       "      <td>1</td>\n",
       "      <td>0</td>\n",
       "      <td>0</td>\n",
       "      <td>1</td>\n",
       "    </tr>\n",
       "    <tr>\n",
       "      <th>610</th>\n",
       "      <td>0</td>\n",
       "      <td>1</td>\n",
       "      <td>1</td>\n",
       "      <td>3</td>\n",
       "      <td>0</td>\n",
       "      <td>0</td>\n",
       "      <td>4106</td>\n",
       "      <td>0.0</td>\n",
       "      <td>1</td>\n",
       "      <td>0</td>\n",
       "      <td>0</td>\n",
       "      <td>1</td>\n",
       "    </tr>\n",
       "    <tr>\n",
       "      <th>611</th>\n",
       "      <td>0</td>\n",
       "      <td>1</td>\n",
       "      <td>1</td>\n",
       "      <td>1</td>\n",
       "      <td>0</td>\n",
       "      <td>0</td>\n",
       "      <td>8072</td>\n",
       "      <td>240.0</td>\n",
       "      <td>0</td>\n",
       "      <td>0</td>\n",
       "      <td>1</td>\n",
       "      <td>1</td>\n",
       "    </tr>\n",
       "    <tr>\n",
       "      <th>612</th>\n",
       "      <td>0</td>\n",
       "      <td>1</td>\n",
       "      <td>1</td>\n",
       "      <td>2</td>\n",
       "      <td>0</td>\n",
       "      <td>0</td>\n",
       "      <td>7583</td>\n",
       "      <td>0.0</td>\n",
       "      <td>0</td>\n",
       "      <td>0</td>\n",
       "      <td>1</td>\n",
       "      <td>1</td>\n",
       "    </tr>\n",
       "    <tr>\n",
       "      <th>613</th>\n",
       "      <td>1</td>\n",
       "      <td>0</td>\n",
       "      <td>0</td>\n",
       "      <td>0</td>\n",
       "      <td>0</td>\n",
       "      <td>1</td>\n",
       "      <td>4583</td>\n",
       "      <td>0.0</td>\n",
       "      <td>0</td>\n",
       "      <td>1</td>\n",
       "      <td>0</td>\n",
       "      <td>0</td>\n",
       "    </tr>\n",
       "  </tbody>\n",
       "</table>\n",
       "<p>537 rows × 12 columns</p>\n",
       "</div>"
      ],
      "text/plain": [
       "     Female  Male  Married  Dependents  Education  Self_Employed  \\\n",
       "0         0     1        0           0          0              0   \n",
       "1         0     1        1           1          0              0   \n",
       "2         0     1        1           0          0              1   \n",
       "3         0     1        1           0          1              0   \n",
       "4         0     1        0           0          0              0   \n",
       "..      ...   ...      ...         ...        ...            ...   \n",
       "609       1     0        0           0          0              0   \n",
       "610       0     1        1           3          0              0   \n",
       "611       0     1        1           1          0              0   \n",
       "612       0     1        1           2          0              0   \n",
       "613       1     0        0           0          0              1   \n",
       "\n",
       "     ApplicantIncome  CoapplicantIncome  Rural  Semiurban  Urban  Loan_Status  \n",
       "0               5849                0.0      0          0      1            1  \n",
       "1               4583             1508.0      1          0      0            0  \n",
       "2               3000                0.0      0          0      1            1  \n",
       "3               2583             2358.0      0          0      1            1  \n",
       "4               6000                0.0      0          0      1            1  \n",
       "..               ...                ...    ...        ...    ...          ...  \n",
       "609             2900                0.0      1          0      0            1  \n",
       "610             4106                0.0      1          0      0            1  \n",
       "611             8072              240.0      0          0      1            1  \n",
       "612             7583                0.0      0          0      1            1  \n",
       "613             4583                0.0      0          1      0            0  \n",
       "\n",
       "[537 rows x 12 columns]"
      ]
     },
     "execution_count": 29,
     "metadata": {},
     "output_type": "execute_result"
    }
   ],
   "source": [
    "loan = pd.concat([pd.get_dummies(loan['Gender']),\n",
    "           loan.iloc[:,1:7],\n",
    "           pd.get_dummies(loan['Property_Area']),\n",
    "           loan['Loan_Status']\n",
    "          ],axis=1)\n",
    "loan"
   ]
  },
  {
   "cell_type": "markdown",
   "id": "oFaIjtT8DEbj",
   "metadata": {
    "id": "oFaIjtT8DEbj"
   },
   "source": [
    "**e)** 마지막으로 `.info()`를 이용하여 object type, null값 확인 등을 통해 모델링에 쓰일 수 있는 data인지 최종 검토합니다! **(1점)**"
   ]
  },
  {
   "cell_type": "code",
   "execution_count": 30,
   "id": "1XZDzUhwDEns",
   "metadata": {
    "ExecuteTime": {
     "end_time": "2023-08-28T07:10:04.913118Z",
     "start_time": "2023-08-28T07:10:04.897044Z"
    },
    "id": "1XZDzUhwDEns"
   },
   "outputs": [
    {
     "name": "stdout",
     "output_type": "stream",
     "text": [
      "<class 'pandas.core.frame.DataFrame'>\n",
      "Int64Index: 537 entries, 0 to 613\n",
      "Data columns (total 12 columns):\n",
      " #   Column             Non-Null Count  Dtype  \n",
      "---  ------             --------------  -----  \n",
      " 0   Female             537 non-null    uint8  \n",
      " 1   Male               537 non-null    uint8  \n",
      " 2   Married            537 non-null    int32  \n",
      " 3   Dependents         537 non-null    int64  \n",
      " 4   Education          537 non-null    int32  \n",
      " 5   Self_Employed      537 non-null    int32  \n",
      " 6   ApplicantIncome    537 non-null    int64  \n",
      " 7   CoapplicantIncome  537 non-null    float64\n",
      " 8   Rural              537 non-null    uint8  \n",
      " 9   Semiurban          537 non-null    uint8  \n",
      " 10  Urban              537 non-null    uint8  \n",
      " 11  Loan_Status        537 non-null    int32  \n",
      "dtypes: float64(1), int32(4), int64(2), uint8(5)\n",
      "memory usage: 27.8 KB\n"
     ]
    }
   ],
   "source": [
    "loan.info()\n",
    "# 문자열, null값 없음.\n",
    "# uint8은 부호 없는 8비트 정수(unsigned 8-bit integer)"
   ]
  },
  {
   "cell_type": "markdown",
   "id": "qpY0RoOODHkq",
   "metadata": {
    "id": "qpY0RoOODHkq"
   },
   "source": [
    "## 실습7"
   ]
  },
  {
   "cell_type": "markdown",
   "id": "AXG7ntqUDIvS",
   "metadata": {
    "id": "AXG7ntqUDIvS"
   },
   "source": [
    "### 7. Train Test Split (15점)"
   ]
  },
  {
   "cell_type": "markdown",
   "id": "MkQpOfxaDMZh",
   "metadata": {
    "id": "MkQpOfxaDMZh"
   },
   "source": [
    "**a)** feature 데이터를 x라는 새로운 데이터프레임으로 불러오고, 테스트용 데이터셋의 사이즈는 0.25로 설정하여 train_test_split을 실행하세요. **(10점)**"
   ]
  },
  {
   "cell_type": "code",
   "execution_count": 31,
   "id": "3wKohQkXDM1g",
   "metadata": {
    "ExecuteTime": {
     "end_time": "2023-08-28T07:10:04.928327Z",
     "start_time": "2023-08-28T07:10:04.913118Z"
    },
    "id": "3wKohQkXDM1g"
   },
   "outputs": [],
   "source": [
    "#Spliting the dataset into features and target\n",
    "x = loan.iloc[:,:-1]\n",
    "y = loan.iloc[:,-1]"
   ]
  },
  {
   "cell_type": "code",
   "execution_count": 32,
   "id": "VlGIUZmnDKHa",
   "metadata": {
    "ExecuteTime": {
     "end_time": "2023-08-28T07:10:04.946430Z",
     "start_time": "2023-08-28T07:10:04.930329Z"
    },
    "id": "VlGIUZmnDKHa"
   },
   "outputs": [],
   "source": [
    "#Train & Test data split\n",
    "from sklearn.model_selection import train_test_split\n",
    "X_train,X_test,y_train,y_test = train_test_split(x,y,test_size=0.25,random_state=10)"
   ]
  },
  {
   "cell_type": "markdown",
   "id": "PfeqnsMrDQBO",
   "metadata": {
    "id": "PfeqnsMrDQBO"
   },
   "source": [
    "**b)** 아래 코드를 실행해주세요."
   ]
  },
  {
   "cell_type": "code",
   "execution_count": 33,
   "id": "Y0bX45-2DQP3",
   "metadata": {
    "ExecuteTime": {
     "end_time": "2023-08-28T07:10:04.961596Z",
     "start_time": "2023-08-28T07:10:04.947506Z"
    },
    "id": "Y0bX45-2DQP3"
   },
   "outputs": [],
   "source": [
    "from sklearn.tree import DecisionTreeClassifier\n",
    "from sklearn.metrics import accuracy_score\n",
    "dt=DecisionTreeClassifier(random_state=10)"
   ]
  },
  {
   "cell_type": "markdown",
   "id": "xxBUQQN_DSt6",
   "metadata": {
    "id": "xxBUQQN_DSt6"
   },
   "source": [
    "**c)** DecisionTreeClassifier를 이용하여 학습/예측/평가를 해주세요. (`.fit()`, `.predict()`, `accuracy_score()` 이용)  **(5점)**"
   ]
  },
  {
   "cell_type": "code",
   "execution_count": 34,
   "id": "N-CiN17QDTBb",
   "metadata": {
    "ExecuteTime": {
     "end_time": "2023-08-28T07:10:04.979203Z",
     "start_time": "2023-08-28T07:10:04.963889Z"
    },
    "id": "N-CiN17QDTBb"
   },
   "outputs": [
    {
     "data": {
      "text/plain": [
       "0.6"
      ]
     },
     "execution_count": 34,
     "metadata": {},
     "output_type": "execute_result"
    }
   ],
   "source": [
    "dt.fit(X_train,y_train)\n",
    "dt_pred = dt.predict(X_test)\n",
    "np.round(accuracy_score(y_test,dt_pred),4)"
   ]
  },
  {
   "cell_type": "markdown",
   "id": "JD0SaU42DV1g",
   "metadata": {
    "id": "JD0SaU42DV1g"
   },
   "source": [
    "## 실습8"
   ]
  },
  {
   "cell_type": "markdown",
   "id": "ZusXf_fTDXDC",
   "metadata": {
    "id": "ZusXf_fTDXDC"
   },
   "source": [
    "### 8.1. Stratified KFold  (20점)"
   ]
  },
  {
   "cell_type": "markdown",
   "id": "On9arzZjDZyY",
   "metadata": {
    "id": "On9arzZjDZyY"
   },
   "source": [
    "**a)** 아래 코드를 실행 후 진행해주세요."
   ]
  },
  {
   "cell_type": "code",
   "execution_count": 35,
   "id": "KZLGxGHIDaFG",
   "metadata": {
    "ExecuteTime": {
     "end_time": "2023-08-28T07:10:04.996896Z",
     "start_time": "2023-08-28T07:10:04.982361Z"
    },
    "id": "KZLGxGHIDaFG"
   },
   "outputs": [],
   "source": [
    "from sklearn.tree import DecisionTreeClassifier\n",
    "from sklearn.model_selection import KFold\n",
    "from sklearn.metrics import accuracy_score\n",
    "from sklearn.model_selection import StratifiedKFold\n",
    "dt=DecisionTreeClassifier(random_state=10)"
   ]
  },
  {
   "cell_type": "markdown",
   "id": "9QWXR9mrDcvR",
   "metadata": {
    "id": "9QWXR9mrDcvR"
   },
   "source": [
    "**b)** loan data의 index를 재정렬하고 변수 **x**에 loan의 \"Loan_Status\"열을 제외한 모든 데이터를, 변수 **y**에 loan의 \"Loan_Status\"열의 데이터를 저장한 다음 x,y의 길이를 확인해주세요.**(4점, `shape`사용)**"
   ]
  },
  {
   "cell_type": "code",
   "execution_count": 36,
   "id": "9b69a811",
   "metadata": {
    "ExecuteTime": {
     "end_time": "2023-08-28T07:10:05.029174Z",
     "start_time": "2023-08-28T07:10:04.997689Z"
    }
   },
   "outputs": [
    {
     "data": {
      "text/html": [
       "<div>\n",
       "<style scoped>\n",
       "    .dataframe tbody tr th:only-of-type {\n",
       "        vertical-align: middle;\n",
       "    }\n",
       "\n",
       "    .dataframe tbody tr th {\n",
       "        vertical-align: top;\n",
       "    }\n",
       "\n",
       "    .dataframe thead th {\n",
       "        text-align: right;\n",
       "    }\n",
       "</style>\n",
       "<table border=\"1\" class=\"dataframe\">\n",
       "  <thead>\n",
       "    <tr style=\"text-align: right;\">\n",
       "      <th></th>\n",
       "      <th>Female</th>\n",
       "      <th>Male</th>\n",
       "      <th>Married</th>\n",
       "      <th>Dependents</th>\n",
       "      <th>Education</th>\n",
       "      <th>Self_Employed</th>\n",
       "      <th>ApplicantIncome</th>\n",
       "      <th>CoapplicantIncome</th>\n",
       "      <th>Rural</th>\n",
       "      <th>Semiurban</th>\n",
       "      <th>Urban</th>\n",
       "      <th>Loan_Status</th>\n",
       "    </tr>\n",
       "  </thead>\n",
       "  <tbody>\n",
       "    <tr>\n",
       "      <th>0</th>\n",
       "      <td>0</td>\n",
       "      <td>1</td>\n",
       "      <td>0</td>\n",
       "      <td>0</td>\n",
       "      <td>0</td>\n",
       "      <td>0</td>\n",
       "      <td>5849</td>\n",
       "      <td>0.0</td>\n",
       "      <td>0</td>\n",
       "      <td>0</td>\n",
       "      <td>1</td>\n",
       "      <td>1</td>\n",
       "    </tr>\n",
       "    <tr>\n",
       "      <th>1</th>\n",
       "      <td>0</td>\n",
       "      <td>1</td>\n",
       "      <td>1</td>\n",
       "      <td>1</td>\n",
       "      <td>0</td>\n",
       "      <td>0</td>\n",
       "      <td>4583</td>\n",
       "      <td>1508.0</td>\n",
       "      <td>1</td>\n",
       "      <td>0</td>\n",
       "      <td>0</td>\n",
       "      <td>0</td>\n",
       "    </tr>\n",
       "    <tr>\n",
       "      <th>2</th>\n",
       "      <td>0</td>\n",
       "      <td>1</td>\n",
       "      <td>1</td>\n",
       "      <td>0</td>\n",
       "      <td>0</td>\n",
       "      <td>1</td>\n",
       "      <td>3000</td>\n",
       "      <td>0.0</td>\n",
       "      <td>0</td>\n",
       "      <td>0</td>\n",
       "      <td>1</td>\n",
       "      <td>1</td>\n",
       "    </tr>\n",
       "    <tr>\n",
       "      <th>3</th>\n",
       "      <td>0</td>\n",
       "      <td>1</td>\n",
       "      <td>1</td>\n",
       "      <td>0</td>\n",
       "      <td>1</td>\n",
       "      <td>0</td>\n",
       "      <td>2583</td>\n",
       "      <td>2358.0</td>\n",
       "      <td>0</td>\n",
       "      <td>0</td>\n",
       "      <td>1</td>\n",
       "      <td>1</td>\n",
       "    </tr>\n",
       "    <tr>\n",
       "      <th>4</th>\n",
       "      <td>0</td>\n",
       "      <td>1</td>\n",
       "      <td>0</td>\n",
       "      <td>0</td>\n",
       "      <td>0</td>\n",
       "      <td>0</td>\n",
       "      <td>6000</td>\n",
       "      <td>0.0</td>\n",
       "      <td>0</td>\n",
       "      <td>0</td>\n",
       "      <td>1</td>\n",
       "      <td>1</td>\n",
       "    </tr>\n",
       "    <tr>\n",
       "      <th>...</th>\n",
       "      <td>...</td>\n",
       "      <td>...</td>\n",
       "      <td>...</td>\n",
       "      <td>...</td>\n",
       "      <td>...</td>\n",
       "      <td>...</td>\n",
       "      <td>...</td>\n",
       "      <td>...</td>\n",
       "      <td>...</td>\n",
       "      <td>...</td>\n",
       "      <td>...</td>\n",
       "      <td>...</td>\n",
       "    </tr>\n",
       "    <tr>\n",
       "      <th>532</th>\n",
       "      <td>1</td>\n",
       "      <td>0</td>\n",
       "      <td>0</td>\n",
       "      <td>0</td>\n",
       "      <td>0</td>\n",
       "      <td>0</td>\n",
       "      <td>2900</td>\n",
       "      <td>0.0</td>\n",
       "      <td>1</td>\n",
       "      <td>0</td>\n",
       "      <td>0</td>\n",
       "      <td>1</td>\n",
       "    </tr>\n",
       "    <tr>\n",
       "      <th>533</th>\n",
       "      <td>0</td>\n",
       "      <td>1</td>\n",
       "      <td>1</td>\n",
       "      <td>3</td>\n",
       "      <td>0</td>\n",
       "      <td>0</td>\n",
       "      <td>4106</td>\n",
       "      <td>0.0</td>\n",
       "      <td>1</td>\n",
       "      <td>0</td>\n",
       "      <td>0</td>\n",
       "      <td>1</td>\n",
       "    </tr>\n",
       "    <tr>\n",
       "      <th>534</th>\n",
       "      <td>0</td>\n",
       "      <td>1</td>\n",
       "      <td>1</td>\n",
       "      <td>1</td>\n",
       "      <td>0</td>\n",
       "      <td>0</td>\n",
       "      <td>8072</td>\n",
       "      <td>240.0</td>\n",
       "      <td>0</td>\n",
       "      <td>0</td>\n",
       "      <td>1</td>\n",
       "      <td>1</td>\n",
       "    </tr>\n",
       "    <tr>\n",
       "      <th>535</th>\n",
       "      <td>0</td>\n",
       "      <td>1</td>\n",
       "      <td>1</td>\n",
       "      <td>2</td>\n",
       "      <td>0</td>\n",
       "      <td>0</td>\n",
       "      <td>7583</td>\n",
       "      <td>0.0</td>\n",
       "      <td>0</td>\n",
       "      <td>0</td>\n",
       "      <td>1</td>\n",
       "      <td>1</td>\n",
       "    </tr>\n",
       "    <tr>\n",
       "      <th>536</th>\n",
       "      <td>1</td>\n",
       "      <td>0</td>\n",
       "      <td>0</td>\n",
       "      <td>0</td>\n",
       "      <td>0</td>\n",
       "      <td>1</td>\n",
       "      <td>4583</td>\n",
       "      <td>0.0</td>\n",
       "      <td>0</td>\n",
       "      <td>1</td>\n",
       "      <td>0</td>\n",
       "      <td>0</td>\n",
       "    </tr>\n",
       "  </tbody>\n",
       "</table>\n",
       "<p>537 rows × 12 columns</p>\n",
       "</div>"
      ],
      "text/plain": [
       "     Female  Male  Married  Dependents  Education  Self_Employed  \\\n",
       "0         0     1        0           0          0              0   \n",
       "1         0     1        1           1          0              0   \n",
       "2         0     1        1           0          0              1   \n",
       "3         0     1        1           0          1              0   \n",
       "4         0     1        0           0          0              0   \n",
       "..      ...   ...      ...         ...        ...            ...   \n",
       "532       1     0        0           0          0              0   \n",
       "533       0     1        1           3          0              0   \n",
       "534       0     1        1           1          0              0   \n",
       "535       0     1        1           2          0              0   \n",
       "536       1     0        0           0          0              1   \n",
       "\n",
       "     ApplicantIncome  CoapplicantIncome  Rural  Semiurban  Urban  Loan_Status  \n",
       "0               5849                0.0      0          0      1            1  \n",
       "1               4583             1508.0      1          0      0            0  \n",
       "2               3000                0.0      0          0      1            1  \n",
       "3               2583             2358.0      0          0      1            1  \n",
       "4               6000                0.0      0          0      1            1  \n",
       "..               ...                ...    ...        ...    ...          ...  \n",
       "532             2900                0.0      1          0      0            1  \n",
       "533             4106                0.0      1          0      0            1  \n",
       "534             8072              240.0      0          0      1            1  \n",
       "535             7583                0.0      0          0      1            1  \n",
       "536             4583                0.0      0          1      0            0  \n",
       "\n",
       "[537 rows x 12 columns]"
      ]
     },
     "execution_count": 36,
     "metadata": {},
     "output_type": "execute_result"
    }
   ],
   "source": [
    "loan.reset_index(drop=True,inplace=True)\n",
    "loan"
   ]
  },
  {
   "cell_type": "code",
   "execution_count": 37,
   "id": "AFAGYP_FDc7S",
   "metadata": {
    "ExecuteTime": {
     "end_time": "2023-08-28T07:10:05.047581Z",
     "start_time": "2023-08-28T07:10:05.030176Z"
    },
    "id": "AFAGYP_FDc7S",
    "scrolled": false
   },
   "outputs": [
    {
     "name": "stdout",
     "output_type": "stream",
     "text": [
      "x의 길이:537, y의 길이:537\n"
     ]
    }
   ],
   "source": [
    "x = loan.iloc[:,:-1]\n",
    "y = loan.iloc[:,-1]\n",
    "print(f'x의 길이:{x.shape[0]}, y의 길이:{y.shape[0]}')"
   ]
  },
  {
   "cell_type": "markdown",
   "id": "lcDUStMLDeKp",
   "metadata": {
    "id": "lcDUStMLDeKp"
   },
   "source": [
    "**c)** 변수 **kfold**에 k=4인 KFold 객체를 만들어 주고 **cv_accuracy_1** 리스트에 각 반복의 정확도를 소수점 5째 자리에서 반올림 한 다음 저장한 후 평균을 출력해주세요. **(6점, `split` 이용)**"
   ]
  },
  {
   "cell_type": "code",
   "execution_count": 38,
   "id": "FS61MDDzDeWy",
   "metadata": {
    "ExecuteTime": {
     "end_time": "2023-08-28T07:10:05.078802Z",
     "start_time": "2023-08-28T07:10:05.047581Z"
    },
    "id": "FS61MDDzDeWy"
   },
   "outputs": [
    {
     "name": "stdout",
     "output_type": "stream",
     "text": [
      "평균: 0.6313500000000001\n"
     ]
    }
   ],
   "source": [
    "kfold = KFold(n_splits=4)\n",
    "cv_accuracy_1 = []\n",
    "for train_index,test_index in kfold.split(x):\n",
    "    X_train,X_test=x.iloc[train_index],x.iloc[test_index]\n",
    "    y_train,y_test=y.iloc[train_index],y.iloc[test_index]\n",
    "    dt.fit(X_train,y_train)\n",
    "    dt_pred=dt.predict(X_test)\n",
    "    cv_accuracy_1.append(np.round(accuracy_score(y_test,dt_pred),4))\n",
    "print('평균:',np.mean(cv_accuracy_1))"
   ]
  },
  {
   "cell_type": "markdown",
   "id": "GnALpryFDgW4",
   "metadata": {
    "id": "GnALpryFDgW4"
   },
   "source": [
    "**d)** 레이블 값의 분포도를 확인해 주세요. **(2점)**"
   ]
  },
  {
   "cell_type": "code",
   "execution_count": 39,
   "id": "be9b2245",
   "metadata": {
    "ExecuteTime": {
     "end_time": "2023-08-28T07:10:05.094735Z",
     "start_time": "2023-08-28T07:10:05.079390Z"
    }
   },
   "outputs": [
    {
     "data": {
      "text/plain": [
       "1    373\n",
       "0    164\n",
       "Name: Loan_Status, dtype: int64"
      ]
     },
     "execution_count": 39,
     "metadata": {},
     "output_type": "execute_result"
    }
   ],
   "source": [
    "y.value_counts()"
   ]
  },
  {
   "cell_type": "code",
   "execution_count": 40,
   "id": "4f7702c9",
   "metadata": {
    "ExecuteTime": {
     "end_time": "2023-08-28T07:10:05.211236Z",
     "start_time": "2023-08-28T07:10:05.097399Z"
    }
   },
   "outputs": [
    {
     "data": {
      "text/plain": [
       "<BarContainer object of 2 artists>"
      ]
     },
     "execution_count": 40,
     "metadata": {},
     "output_type": "execute_result"
    },
    {
     "data": {
      "image/png": "[encoded data removed]",
      "text/plain": [
       "<Figure size 640x480 with 1 Axes>"
      ]
     },
     "metadata": {},
     "output_type": "display_data"
    }
   ],
   "source": [
    "plt.bar(['1','0'],y.value_counts())"
   ]
  },
  {
   "cell_type": "markdown",
   "id": "IkLX1Ez-DjfR",
   "metadata": {
    "id": "IkLX1Ez-DjfR"
   },
   "source": [
    "**e)** 변수 **skf**에 k=4인 StratifedKFold 객체를 만들어 주고 **cv_accuracy_2**리스트에 각 반복의 정확도를 소수점 5째 자리에서 반올림 한 다음 저장한 후 평균을 출력해주세요. **(8점, `split` 이용)**"
   ]
  },
  {
   "cell_type": "code",
   "execution_count": 41,
   "id": "Gy2oAZYkDjt7",
   "metadata": {
    "ExecuteTime": {
     "end_time": "2023-08-28T07:10:05.260509Z",
     "start_time": "2023-08-28T07:10:05.213234Z"
    },
    "id": "Gy2oAZYkDjt7"
   },
   "outputs": [
    {
     "name": "stdout",
     "output_type": "stream",
     "text": [
      "평균: 0.6146\n"
     ]
    }
   ],
   "source": [
    "skf = StratifiedKFold(n_splits=4)\n",
    "cv_accuracy_2 = []\n",
    "for train_index,test_index in skf.split(x,y):\n",
    "    X_train,X_test=x.iloc[train_index],x.iloc[test_index]\n",
    "    y_train,y_test=y.iloc[train_index],y.iloc[test_index]\n",
    "    dt.fit(X_train,y_train)\n",
    "    dt_pred=dt.predict(X_test)\n",
    "    cv_accuracy_2.append(np.round(accuracy_score(y_test,dt_pred),4))\n",
    "print('평균:',np.mean(cv_accuracy_2))"
   ]
  },
  {
   "cell_type": "markdown",
   "id": "-T7DI0LNDlvA",
   "metadata": {
    "id": "-T7DI0LNDlvA"
   },
   "source": [
    "## 8.2. Cross val score  (10점)"
   ]
  },
  {
   "cell_type": "markdown",
   "id": "JnzttNi6DodK",
   "metadata": {
    "id": "JnzttNi6DodK"
   },
   "source": [
    "위에서 진행한 교차검증을 cross_val_score API를 이용하여 같은 결과를 내세요, 평가지표는 accuaracy를 사용하세요. **(10점)**"
   ]
  },
  {
   "cell_type": "code",
   "execution_count": 42,
   "id": "xAcqJqf8DowD",
   "metadata": {
    "ExecuteTime": {
     "end_time": "2023-08-28T07:10:05.295360Z",
     "start_time": "2023-08-28T07:10:05.263240Z"
    },
    "id": "xAcqJqf8DowD"
   },
   "outputs": [
    {
     "data": {
      "text/plain": [
       "0.6146"
      ]
     },
     "execution_count": 42,
     "metadata": {},
     "output_type": "execute_result"
    }
   ],
   "source": [
    "np.mean(list(map(lambda x:np.round(x,4),cross_val_score(dt,x,y,scoring='accuracy',cv=4))))"
   ]
  },
  {
   "cell_type": "markdown",
   "id": "TFCgz6vhDq1E",
   "metadata": {
    "id": "TFCgz6vhDq1E"
   },
   "source": [
    "## 실습9"
   ]
  },
  {
   "cell_type": "markdown",
   "id": "GiEb0xyoDsUM",
   "metadata": {
    "id": "GiEb0xyoDsUM"
   },
   "source": [
    "### 9. GridSearchCV  (25점)"
   ]
  },
  {
   "cell_type": "markdown",
   "id": "MulpvE8KDvjG",
   "metadata": {
    "id": "MulpvE8KDvjG"
   },
   "source": [
    "**a)** 결정트리 모델(dt)의 하이퍼 파라미터를 찾는 코드를 작성하세요.(max_depth 값 3개(값은 자유), min_samples_split 값 3개(값은 자유), cv=3, refit=True 으로 설정) **(15점)**"
   ]
  },
  {
   "cell_type": "markdown",
   "id": "I1ahzIRlDxor",
   "metadata": {
    "id": "I1ahzIRlDxor"
   },
   "source": [
    "fitting은 **6번 문제** 에서 train_test_split을 통해 만든 **train dataset**에 대하여 적용해주시면 됩니다."
   ]
  },
  {
   "cell_type": "code",
   "execution_count": 43,
   "id": "dVboyX7FDx2Q",
   "metadata": {
    "ExecuteTime": {
     "end_time": "2023-08-28T07:10:05.444149Z",
     "start_time": "2023-08-28T07:10:05.296457Z"
    },
    "id": "dVboyX7FDx2Q"
   },
   "outputs": [
    {
     "data": {
      "text/plain": [
       "GridSearchCV(cv=3, estimator=DecisionTreeClassifier(random_state=10),\n",
       "             param_grid={'max_depth': [3, 5, 7],\n",
       "                         'min_samples_split': [2, 3, 4]})"
      ]
     },
     "execution_count": 43,
     "metadata": {},
     "output_type": "execute_result"
    }
   ],
   "source": [
    "params = {\n",
    "    'max_depth':[3,5,7],\n",
    "    'min_samples_split':[2,3,4],\n",
    "}\n",
    "gscv = GridSearchCV(dt,param_grid=params,cv=3,refit=True)\n",
    "gscv.fit(X_train,y_train)"
   ]
  },
  {
   "cell_type": "markdown",
   "id": "XIDaG7YTDz4h",
   "metadata": {
    "id": "XIDaG7YTDz4h"
   },
   "source": [
    "**b)** 위에서 진행한 GridSearchCV의 결과를 출력하고 그를 해석하세요.\n",
    "\n",
    "(최적의 하이퍼파라미터가 무엇인지, 출력되는 정확도의 개수 및 어떻게 그 개수가 나오는지 등..) **(10점)**"
   ]
  },
  {
   "cell_type": "code",
   "execution_count": 44,
   "id": "P242P82TD0eT",
   "metadata": {
    "ExecuteTime": {
     "end_time": "2023-08-28T07:10:05.478465Z",
     "start_time": "2023-08-28T07:10:05.446150Z"
    },
    "id": "P242P82TD0eT",
    "scrolled": false
   },
   "outputs": [
    {
     "name": "stdout",
     "output_type": "stream",
     "text": [
      "최적의 하이퍼 파라미터: {'max_depth': 3, 'min_samples_split': 2}\n",
      "\n",
      "각 파라미터별로 cv값으로 설정한 3번의 교차검증을 하며, 그 평균을 mean_test_score에 저장\n",
      "가장 평균 평가결과가 높은 {'max_depth': 3, 'min_samples_split': 2} 파라미터가\n",
      "best_params_로 선정됨\n",
      "\n"
     ]
    },
    {
     "data": {
      "text/html": [
       "<div>\n",
       "<style scoped>\n",
       "    .dataframe tbody tr th:only-of-type {\n",
       "        vertical-align: middle;\n",
       "    }\n",
       "\n",
       "    .dataframe tbody tr th {\n",
       "        vertical-align: top;\n",
       "    }\n",
       "\n",
       "    .dataframe thead th {\n",
       "        text-align: right;\n",
       "    }\n",
       "</style>\n",
       "<table border=\"1\" class=\"dataframe\">\n",
       "  <thead>\n",
       "    <tr style=\"text-align: right;\">\n",
       "      <th></th>\n",
       "      <th>params</th>\n",
       "      <th>split0_test_score</th>\n",
       "      <th>split1_test_score</th>\n",
       "      <th>split2_test_score</th>\n",
       "      <th>mean_test_score</th>\n",
       "    </tr>\n",
       "  </thead>\n",
       "  <tbody>\n",
       "    <tr>\n",
       "      <th>0</th>\n",
       "      <td>{'max_depth': 3, 'min_samples_split': 2}</td>\n",
       "      <td>0.659259</td>\n",
       "      <td>0.664179</td>\n",
       "      <td>0.671642</td>\n",
       "      <td>0.665027</td>\n",
       "    </tr>\n",
       "    <tr>\n",
       "      <th>1</th>\n",
       "      <td>{'max_depth': 3, 'min_samples_split': 3}</td>\n",
       "      <td>0.659259</td>\n",
       "      <td>0.664179</td>\n",
       "      <td>0.671642</td>\n",
       "      <td>0.665027</td>\n",
       "    </tr>\n",
       "    <tr>\n",
       "      <th>2</th>\n",
       "      <td>{'max_depth': 3, 'min_samples_split': 4}</td>\n",
       "      <td>0.659259</td>\n",
       "      <td>0.664179</td>\n",
       "      <td>0.671642</td>\n",
       "      <td>0.665027</td>\n",
       "    </tr>\n",
       "    <tr>\n",
       "      <th>3</th>\n",
       "      <td>{'max_depth': 5, 'min_samples_split': 2}</td>\n",
       "      <td>0.637037</td>\n",
       "      <td>0.589552</td>\n",
       "      <td>0.649254</td>\n",
       "      <td>0.625281</td>\n",
       "    </tr>\n",
       "    <tr>\n",
       "      <th>4</th>\n",
       "      <td>{'max_depth': 5, 'min_samples_split': 3}</td>\n",
       "      <td>0.637037</td>\n",
       "      <td>0.641791</td>\n",
       "      <td>0.649254</td>\n",
       "      <td>0.642694</td>\n",
       "    </tr>\n",
       "    <tr>\n",
       "      <th>5</th>\n",
       "      <td>{'max_depth': 5, 'min_samples_split': 4}</td>\n",
       "      <td>0.637037</td>\n",
       "      <td>0.641791</td>\n",
       "      <td>0.649254</td>\n",
       "      <td>0.642694</td>\n",
       "    </tr>\n",
       "    <tr>\n",
       "      <th>6</th>\n",
       "      <td>{'max_depth': 7, 'min_samples_split': 2}</td>\n",
       "      <td>0.629630</td>\n",
       "      <td>0.611940</td>\n",
       "      <td>0.634328</td>\n",
       "      <td>0.625299</td>\n",
       "    </tr>\n",
       "    <tr>\n",
       "      <th>7</th>\n",
       "      <td>{'max_depth': 7, 'min_samples_split': 3}</td>\n",
       "      <td>0.629630</td>\n",
       "      <td>0.597015</td>\n",
       "      <td>0.634328</td>\n",
       "      <td>0.620324</td>\n",
       "    </tr>\n",
       "    <tr>\n",
       "      <th>8</th>\n",
       "      <td>{'max_depth': 7, 'min_samples_split': 4}</td>\n",
       "      <td>0.637037</td>\n",
       "      <td>0.597015</td>\n",
       "      <td>0.626866</td>\n",
       "      <td>0.620306</td>\n",
       "    </tr>\n",
       "  </tbody>\n",
       "</table>\n",
       "</div>"
      ],
      "text/plain": [
       "                                     params  split0_test_score  \\\n",
       "0  {'max_depth': 3, 'min_samples_split': 2}           0.659259   \n",
       "1  {'max_depth': 3, 'min_samples_split': 3}           0.659259   \n",
       "2  {'max_depth': 3, 'min_samples_split': 4}           0.659259   \n",
       "3  {'max_depth': 5, 'min_samples_split': 2}           0.637037   \n",
       "4  {'max_depth': 5, 'min_samples_split': 3}           0.637037   \n",
       "5  {'max_depth': 5, 'min_samples_split': 4}           0.637037   \n",
       "6  {'max_depth': 7, 'min_samples_split': 2}           0.629630   \n",
       "7  {'max_depth': 7, 'min_samples_split': 3}           0.629630   \n",
       "8  {'max_depth': 7, 'min_samples_split': 4}           0.637037   \n",
       "\n",
       "   split1_test_score  split2_test_score  mean_test_score  \n",
       "0           0.664179           0.671642         0.665027  \n",
       "1           0.664179           0.671642         0.665027  \n",
       "2           0.664179           0.671642         0.665027  \n",
       "3           0.589552           0.649254         0.625281  \n",
       "4           0.641791           0.649254         0.642694  \n",
       "5           0.641791           0.649254         0.642694  \n",
       "6           0.611940           0.634328         0.625299  \n",
       "7           0.597015           0.634328         0.620324  \n",
       "8           0.597015           0.626866         0.620306  "
      ]
     },
     "execution_count": 44,
     "metadata": {},
     "output_type": "execute_result"
    }
   ],
   "source": [
    "print('최적의 하이퍼 파라미터:',gscv.best_params_)\n",
    "print(f'''\n",
    "각 파라미터별로 cv값으로 설정한 3번의 검증을 하며, 그 평균을 mean_test_score에 저장\n",
    "가장 평균 평가결과가 높은 {gscv.best_params_} 파라미터가\n",
    "best_params_로 선정됨\n",
    "''')\n",
    "pd.DataFrame(gscv.cv_results_)[['params','split0_test_score','split1_test_score','split2_test_score','mean_test_score']]"
   ]
  }
 ],
 "metadata": {
  "colab": {
   "provenance": []
  },
  "kernelspec": {
   "display_name": "Python 3 (ipykernel)",
   "language": "python",
   "name": "python3"
  },
  "language_info": {
   "codemirror_mode": {
    "name": "ipython",
    "version": 3
   },
   "file_extension": ".py",
   "mimetype": "text/x-python",
   "name": "python",
   "nbconvert_exporter": "python",
   "pygments_lexer": "ipython3",
   "version": "3.7.16"
  }
 },
 "nbformat": 4,
 "nbformat_minor": 5
}
