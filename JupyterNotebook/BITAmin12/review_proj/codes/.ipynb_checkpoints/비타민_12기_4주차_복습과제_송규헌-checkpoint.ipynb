{
 "cells": [
  {
   "cell_type": "markdown",
   "metadata": {
    "id": "Lp7Uqp-gByiW"
   },
   "source": [
    "**1.앙상블 학습, Random Forest, GBM (45점)**"
   ]
  },
  {
   "cell_type": "markdown",
   "metadata": {
    "id": "DXfWKUSm5JbE"
   },
   "source": [
    "1-Q1. 앙상블 학습의 전통적인 유형 세 가지는 무엇인가요?(2점)"
   ]
  },
  {
   "cell_type": "markdown",
   "metadata": {
    "id": "mp_CEZsN5EHG"
   },
   "source": [
    "1. 보팅 (Voting)\n",
    "2. 배깅 (Bagging)\n",
    "3. 부스팅 (Boosting)"
   ]
  },
  {
   "cell_type": "markdown",
   "metadata": {
    "id": "w9li3Q8S5EK6"
   },
   "source": [
    "1-Q2. 다음 서술이 참인지 거짓인지 판단하세요.(3점)\n",
    "\n",
    ": 배깅(Bagging) 방식은 서로 다른 알고리즘을 가진 분류기를 결합하여 최종 결정을 도출하는 방식이다."
   ]
  },
  {
   "cell_type": "markdown",
   "metadata": {
    "id": "ogSD7GRw5ENw"
   },
   "source": [
    "거짓 (배깅은 같은 분류기들을 사용한다.)"
   ]
  },
  {
   "cell_type": "markdown",
   "metadata": {
    "id": "frxYDEU-5EQc"
   },
   "source": [
    "다음은 실습에 필요한 라이브러리 및 데이터 전처리 과정입니다. 그대로 Run 해주세요.\n",
    "######(이번 복습과제는 아래의 데이터 셋만 사용합니다. 앙상블, 랜덤포레스트, GBM까지 새롭게 데이터를 로드하실 필요는 없습니다)"
   ]
  },
  {
   "cell_type": "code",
   "execution_count": 1,
   "metadata": {
    "ExecuteTime": {
     "end_time": "2023-09-14T10:59:18.890916Z",
     "start_time": "2023-09-14T10:59:14.467421Z"
    },
    "id": "thjJledg5ETO"
   },
   "outputs": [],
   "source": [
    "import pandas as pd\n",
    "import numpy as np\n",
    "\n",
    "from sklearn.preprocessing import LabelEncoder\n",
    "from sklearn.ensemble import VotingClassifier\n",
    "from sklearn.linear_model import LogisticRegression\n",
    "from sklearn.neighbors import KNeighborsClassifier\n",
    "from sklearn.ensemble import RandomForestClassifier\n",
    "from sklearn.model_selection import train_test_split\n",
    "from sklearn.metrics import accuracy_score\n",
    "from sklearn.ensemble import GradientBoostingClassifier\n",
    "from sklearn.ensemble import AdaBoostClassifier\n",
    "import time\n",
    "import warnings\n",
    "warnings.filterwarnings('ignore')\n",
    "\n",
    "# 데이터 불러오기\n",
    "df = pd.read_csv('../data/diabetes.csv')\n",
    "\n",
    "X = df.drop(['Outcome'], axis=1)\n",
    "y = df['Outcome']"
   ]
  },
  {
   "cell_type": "markdown",
   "metadata": {
    "id": "_1CZSvzw5EWF"
   },
   "source": [
    "1-Q3. 일반적으로 보팅 방식 중 소프트 보팅이 하드 보팅보다 성능이 좋아 많이 사용됩니다.\n",
    "\n",
    "다음 실습을 통해 하드 보팅과 소프트 보팅의 정확도를 비교해보고, 앙상블 방식이 아닌 개별 분류기의 예측 성능 또한 출력해서 비교해보겠습니다.(8점)\n",
    "\n",
    "사용할 개별 분류기:\n",
    "1. 로지스틱 회귀\n",
    "2. K 최근접 이웃\n",
    "3. 랜덤 포레스트"
   ]
  },
  {
   "cell_type": "code",
   "execution_count": 2,
   "metadata": {
    "ExecuteTime": {
     "end_time": "2023-09-14T10:59:18.906189Z",
     "start_time": "2023-09-14T10:59:18.890916Z"
    },
    "id": "3_n5Z5Dv5S7s"
   },
   "outputs": [],
   "source": [
    "from sklearn.metrics import confusion_matrix, accuracy_score, precision_score, recall_score\n",
    "from sklearn.metrics import f1_score, roc_auc_score\n",
    "\n",
    "# 성능 평가 함수\n",
    "def get_clf_eval(y_test, pred=None):\n",
    "  confusion = confusion_matrix(y_test, pred)\n",
    "  accuracy = accuracy_score(y_test, pred)\n",
    "  precision = precision_score(y_test, pred)\n",
    "  recall = recall_score(y_test, pred)\n",
    "  print('오차 행렬')\n",
    "  print(confusion)\n",
    "  print('정확도: {0:.4f}, 정밀도: {1:.4f}, 재현율: {2:.4f}'.format(accuracy, precision, recall))"
   ]
  },
  {
   "cell_type": "code",
   "execution_count": 3,
   "metadata": {
    "ExecuteTime": {
     "end_time": "2023-09-14T10:59:19.251699Z",
     "start_time": "2023-09-14T10:59:18.909209Z"
    },
    "id": "NDHs-JW94Wpd"
   },
   "outputs": [
    {
     "name": "stdout",
     "output_type": "stream",
     "text": [
      "하드보팅 평가결과:\n",
      "\n",
      "오차 행렬\n",
      "[[90 10]\n",
      " [29 25]]\n",
      "정확도: 0.7468, 정밀도: 0.7143, 재현율: 0.4630\n",
      "\n",
      "=================\n",
      "소프트보팅 평가결과:\n",
      "오차 행렬\n",
      "[[86 14]\n",
      " [26 28]]\n",
      "정확도: 0.7403, 정밀도: 0.6667, 재현율: 0.5185\n"
     ]
    }
   ],
   "source": [
    "# 개별 모델 생성\n",
    "# 로지스틱 회귀의 solver='liblinear' 설정\n",
    "# K 최근접 이웃의 n_neighbors=8 설정\n",
    "# 랜덤포레스트의 random_state=11 고정\n",
    "lr = LogisticRegression(solver='liblinear')\n",
    "knn_clf = KNeighborsClassifier(n_neighbors=8)\n",
    "rf_clf = RandomForestClassifier(random_state=11)\n",
    "\n",
    "# 데이터 세트 분리\n",
    "# test_size=0.2, random_state=11로 설정해줍니다.\n",
    "X_train,X_test,y_train,y_test = train_test_split(X,y,test_size=0.2,random_state=11)\n",
    "\n",
    "# 하드 보팅 기반의 앙상블 모델로 구현한 분류기 생성\n",
    "vt_clf = VotingClassifier(estimators=[('LR',lr),('KNN',knn_clf),('rf',rf_clf)],voting='hard')\n",
    "\n",
    "# Hard Voting Classifier 학습/예측/평가\n",
    "# 평가는 get_clf_eval로 출력해주세요\n",
    "vt_clf.fit(X_train,y_train)\n",
    "vt_pred = vt_clf.predict(X_test)\n",
    "print('하드보팅 평가결과:\\n')\n",
    "get_clf_eval(y_test,vt_pred)\n",
    "\n",
    "# 소프트 보팅 기반의 앙상블 모델로 구현한 분류기 생성\n",
    "softvt_clf = VotingClassifier(estimators=[('LR',lr),('KNN',knn_clf),('rf',rf_clf)],voting='soft')\n",
    "\n",
    "# Soft Voting Classifier 학습/예측/평가\n",
    "# 평가는 get_clf_eval로 출력해주세요\n",
    "softvt_clf.fit(X_train,y_train)\n",
    "softvt_pred = softvt_clf.predict(X_test)\n",
    "print('\\n=================\\n소프트보팅 평가결과:')\n",
    "get_clf_eval(y_test,softvt_pred)"
   ]
  },
  {
   "cell_type": "code",
   "execution_count": 4,
   "metadata": {
    "ExecuteTime": {
     "end_time": "2023-09-14T10:59:19.437350Z",
     "start_time": "2023-09-14T10:59:19.253682Z"
    },
    "id": "HSjfmIfH4WvZ"
   },
   "outputs": [
    {
     "name": "stdout",
     "output_type": "stream",
     "text": [
      "\n",
      "=====Logistic Regression의 평가 결과=====\n",
      "오차 행렬\n",
      "[[90 10]\n",
      " [31 23]]\n",
      "정확도: 0.7338, 정밀도: 0.6970, 재현율: 0.4259\n",
      "\n",
      "=====KNN의 평가 결과=====\n",
      "오차 행렬\n",
      "[[88 12]\n",
      " [31 23]]\n",
      "정확도: 0.7208, 정밀도: 0.6571, 재현율: 0.4259\n",
      "\n",
      "=====RandomForest의 평가 결과=====\n",
      "오차 행렬\n",
      "[[85 15]\n",
      " [28 26]]\n",
      "정확도: 0.7208, 정밀도: 0.6341, 재현율: 0.4815\n"
     ]
    }
   ],
   "source": [
    "# 개별 모델의 학습/예측/평가\n",
    "# 세 가지 분류기를 리스트 형태로 저장\n",
    "clf_list = [lr, knn_clf,rf_clf]\n",
    "clf_names = ['Logistic Regression','KNN','RandomForest']\n",
    "\n",
    "# for문을 사용하여 분류기 이름과 해당 분류기를 사용했을 때의 get_clf_eval 출력\n",
    "for idx in range(len(clf_list)):\n",
    "    clf_list[idx].fit(X_train,y_train)\n",
    "    clf_pred = clf_list[idx].predict(X_test)\n",
    "    print(f'\\n====={clf_names[idx]}의 평가 결과=====')\n",
    "    get_clf_eval(y_test,clf_pred)"
   ]
  },
  {
   "cell_type": "markdown",
   "metadata": {
    "id": "iLr90iy45YKz"
   },
   "source": [
    "1-Q4. 하드 보팅 방식의 경우 예측 결과값을 다수결로 투표하여 최종값을 결정하므로 predict_proba를 구하거나 임계값을 조절할 수 없습니다.\n",
    "\n",
    "\n",
    "소프트 보팅 방식을 사용하여 임계값을 달리하며 정확도, 정밀도, 재현율을 출력해보세요.(임계값은 0부터 1까지 0.1씩 증가하도록 해주세요.)\n",
    "\n",
    "(6점)"
   ]
  },
  {
   "cell_type": "code",
   "execution_count": 5,
   "metadata": {
    "ExecuteTime": {
     "end_time": "2023-09-14T10:59:19.510066Z",
     "start_time": "2023-09-14T10:59:19.438663Z"
    },
    "id": "b4CP6VyO5aKH"
   },
   "outputs": [
    {
     "name": "stdout",
     "output_type": "stream",
     "text": [
      "\n",
      "===Threshold = 0.0일 때===\n",
      "오차 행렬\n",
      "[[  0 100]\n",
      " [  0  54]]\n",
      "정확도: 0.3506, 정밀도: 0.3506, 재현율: 1.0000\n",
      "\n",
      "===Threshold = 0.1일 때===\n",
      "오차 행렬\n",
      "[[23 77]\n",
      " [ 2 52]]\n",
      "정확도: 0.4870, 정밀도: 0.4031, 재현율: 0.9630\n",
      "\n",
      "===Threshold = 0.2일 때===\n",
      "오차 행렬\n",
      "[[54 46]\n",
      " [ 4 50]]\n",
      "정확도: 0.6753, 정밀도: 0.5208, 재현율: 0.9259\n",
      "\n",
      "===Threshold = 0.30000000000000004일 때===\n",
      "오차 행렬\n",
      "[[72 28]\n",
      " [13 41]]\n",
      "정확도: 0.7338, 정밀도: 0.5942, 재현율: 0.7593\n",
      "\n",
      "===Threshold = 0.4일 때===\n",
      "오차 행렬\n",
      "[[82 18]\n",
      " [23 31]]\n",
      "정확도: 0.7338, 정밀도: 0.6327, 재현율: 0.5741\n",
      "\n",
      "===Threshold = 0.5일 때===\n",
      "오차 행렬\n",
      "[[86 14]\n",
      " [26 28]]\n",
      "정확도: 0.7403, 정밀도: 0.6667, 재현율: 0.5185\n",
      "\n",
      "===Threshold = 0.6000000000000001일 때===\n",
      "오차 행렬\n",
      "[[93  7]\n",
      " [33 21]]\n",
      "정확도: 0.7403, 정밀도: 0.7500, 재현율: 0.3889\n",
      "\n",
      "===Threshold = 0.7000000000000001일 때===\n",
      "오차 행렬\n",
      "[[100   0]\n",
      " [ 42  12]]\n",
      "정확도: 0.7273, 정밀도: 1.0000, 재현율: 0.2222\n",
      "\n",
      "===Threshold = 0.8일 때===\n",
      "오차 행렬\n",
      "[[100   0]\n",
      " [ 50   4]]\n",
      "정확도: 0.6753, 정밀도: 1.0000, 재현율: 0.0741\n",
      "\n",
      "===Threshold = 0.9일 때===\n",
      "오차 행렬\n",
      "[[100   0]\n",
      " [ 54   0]]\n",
      "정확도: 0.6494, 정밀도: 0.0000, 재현율: 0.0000\n",
      "\n",
      "===Threshold = 1.0일 때===\n",
      "오차 행렬\n",
      "[[100   0]\n",
      " [ 54   0]]\n",
      "정확도: 0.6494, 정밀도: 0.0000, 재현율: 0.0000\n"
     ]
    }
   ],
   "source": [
    "from sklearn.preprocessing import Binarizer\n",
    "\n",
    "# 0부터 1까지 0.1 step으로 하는 리스트를 생성하여 custom_thresholds에 저장\n",
    "custom_thresholds = [i*0.1 for i in range(11)]\n",
    "\n",
    "# 소프트 보팅의 positive에 대한 예측 확률을 pred_proba_c1에 저장한 후 2차원 배열로 변환\n",
    "pred_proba_c1 = softvt_clf.predict_proba(X_test)[:,1]\n",
    "pred_proba_c1 = pred_proba_c1.reshape((-1,1))\n",
    "\n",
    "# for문을 이용하여 임계값에 따른 get_clf_eval결과 출력\n",
    "for t in custom_thresholds:\n",
    "    print(f'\\n===Threshold = {t}일 때===')\n",
    "    temp_pred = list(map(lambda x:1 if x>t else 0,pred_proba_c1.copy()))\n",
    "    get_clf_eval(y_test,temp_pred)"
   ]
  },
  {
   "cell_type": "markdown",
   "metadata": {
    "id": "g1UVDBbG6qLZ"
   },
   "source": [
    "1-Q5. 앞서 앙상블 문제에서 활용한 X,y를 train_test_split을 이용하여 train,test 데이터로 분류해주세요.(단, test_size = 0.2 , random_state =0으로 지정)(2점)"
   ]
  },
  {
   "cell_type": "code",
   "execution_count": 6,
   "metadata": {
    "ExecuteTime": {
     "end_time": "2023-09-14T10:59:19.521723Z",
     "start_time": "2023-09-14T10:59:19.511068Z"
    },
    "id": "N-doDgCJ6qN_"
   },
   "outputs": [],
   "source": [
    "X_train,X_test,y_train,y_test = train_test_split(X,y,test_size=0.2,random_state=0)"
   ]
  },
  {
   "cell_type": "markdown",
   "metadata": {
    "id": "ROlYJooh6qQj"
   },
   "source": [
    "아래의 코드를 실행시켜 주세요."
   ]
  },
  {
   "cell_type": "code",
   "execution_count": 7,
   "metadata": {
    "ExecuteTime": {
     "end_time": "2023-09-14T10:59:19.695738Z",
     "start_time": "2023-09-14T10:59:19.521723Z"
    },
    "id": "hhwDTy8q6qTb"
   },
   "outputs": [
    {
     "name": "stdout",
     "output_type": "stream",
     "text": [
      "랜덤 포레스트 정확도 : 0.7857\n"
     ]
    }
   ],
   "source": [
    "rf_clf = RandomForestClassifier(random_state=0)\n",
    "\n",
    "rf_clf.fit(X_train,y_train)\n",
    "pred = rf_clf.predict(X_test)\n",
    "\n",
    "accuracy = accuracy_score(y_test,pred)\n",
    "\n",
    "print('랜덤 포레스트 정확도 : {0:.4f}'.format(accuracy))"
   ]
  },
  {
   "cell_type": "markdown",
   "metadata": {
    "id": "YsiaJRpL6qWg"
   },
   "source": [
    "1-Q6. 위의 코드에서 랜덤 포레스트 객체 생성시 파라미터를 추가해 정확도를 개선해주세요. <br/>(단, random_state =0는 고정)(8점)"
   ]
  },
  {
   "cell_type": "code",
   "execution_count": 8,
   "metadata": {
    "ExecuteTime": {
     "end_time": "2023-09-14T10:59:20.340174Z",
     "start_time": "2023-09-14T10:59:19.697780Z"
    },
    "id": "DtvKBpJH6qb-"
   },
   "outputs": [
    {
     "name": "stdout",
     "output_type": "stream",
     "text": [
      "랜덤 포레스트 정확도 : 0.8312\n"
     ]
    }
   ],
   "source": [
    "# RandomForestClassifier 객체를 생성\n",
    "rf_clf = RandomForestClassifier(random_state=0,n_estimators=500,n_jobs=-1,max_depth=5,min_samples_split=10)\n",
    "\n",
    "# rf_clf를 이용하여 랜덤 포레스트 학습 및 예측 성능을 평가\n",
    "rf_clf.fit(X_train,y_train)\n",
    "rf_pred = rf_clf.predict(X_test)\n",
    "\n",
    "# 정확도를 accuracy변수에 저장\n",
    "accuracy = accuracy_score(y_test,rf_pred)\n",
    "\n",
    "print('랜덤 포레스트 정확도 : {0:.4f}'.format(accuracy))"
   ]
  },
  {
   "cell_type": "markdown",
   "metadata": {
    "id": "HXZz_ZhO3wmA"
   },
   "source": [
    "앙상블 문제에서 사용한 X,y를 train_test_split() 함수로 학습 데이터와 테스트 데이터로 분류하세요."
   ]
  },
  {
   "cell_type": "code",
   "execution_count": 9,
   "metadata": {
    "ExecuteTime": {
     "end_time": "2023-09-14T10:59:20.353646Z",
     "start_time": "2023-09-14T10:59:20.341256Z"
    },
    "id": "pmUgrRsW3yMF"
   },
   "outputs": [],
   "source": [
    "# X_features와 y_label을 test_size = 0.2로 분리하고 random_state는 156으로 지정\n",
    "X_train,X_test,y_train,y_test = train_test_split(X,y,test_size=0.2,stratify=y,random_state=156)"
   ]
  },
  {
   "cell_type": "markdown",
   "metadata": {
    "id": "0QJlPVq032G9"
   },
   "source": [
    "1-Q7. 데이터셋을 Adaboost으로 학습하여 정확도와 수행 시간을 측정하세요.(8점)"
   ]
  },
  {
   "cell_type": "markdown",
   "metadata": {
    "id": "qLW8Fg0I36xG"
   },
   "source": [
    "- 수행 시간 계산을 위해서는 time 모듈을 활용하고 모든 수치는 소수점 4번째 자리에서 반올림하세요.\n",
    "- n_estimators=50, learning_rate=1로 지정합니다."
   ]
  },
  {
   "cell_type": "code",
   "execution_count": 10,
   "metadata": {
    "ExecuteTime": {
     "end_time": "2023-09-14T10:59:20.446901Z",
     "start_time": "2023-09-14T10:59:20.355247Z"
    },
    "id": "Op-VE8bO39UX"
   },
   "outputs": [
    {
     "name": "stdout",
     "output_type": "stream",
     "text": [
      "정확도 : 0.753, 수행시간 : 0.076\n"
     ]
    }
   ],
   "source": [
    "# 시작 시간 설정\n",
    "start_time = time.time()\n",
    "\n",
    "# Adaboost 학습 및 예측\n",
    "ada_clf = AdaBoostClassifier(n_estimators=50,learning_rate=1)\n",
    "ada_clf.fit(X_train,y_train)\n",
    "ada_pred = ada_clf.predict(X_test)\n",
    "\n",
    "# Adaboost 정확도와 수행시간 출력\n",
    "ada_accuracy = accuracy_score(y_test,ada_pred)\n",
    "print(\"정확도 : {:.3f}, 수행시간 : {:.3f}\".format(ada_accuracy,time.time()-start_time))"
   ]
  },
  {
   "cell_type": "markdown",
   "metadata": {
    "id": "mMRhGZGE39fg"
   },
   "source": [
    "1-Q8. 데이터를 GBM으로 학습하여 정확도와 GBM 수행 시간을 측정하세요.(8점)\n",
    "- 모든 수치는 소수점 4번째 자리에서 반올림하여 출력하세요."
   ]
  },
  {
   "cell_type": "code",
   "execution_count": 11,
   "metadata": {
    "ExecuteTime": {
     "end_time": "2023-09-14T10:59:27.336589Z",
     "start_time": "2023-09-14T10:59:20.448936Z"
    },
    "id": "cq2ExB9y39kh"
   },
   "outputs": [
    {
     "name": "stdout",
     "output_type": "stream",
     "text": [
      "정확도 : 0.727, 수행시간 : 0.144\n",
      "최적 하이퍼 파라미터: {'learning_rate': 0.05, 'n_estimators': 200}\n",
      "최고 예측 정확도: 0.749\n",
      "수행시간: 6.869\n",
      "예측 정확도: 0.753\n"
     ]
    }
   ],
   "source": [
    "from sklearn.model_selection import GridSearchCV\n",
    "\n",
    "# 시작 시간 설정\n",
    "start_time = time.time()\n",
    "\n",
    "# GBM 학습 및 예측\n",
    "gbm = GradientBoostingClassifier()\n",
    "gbm.fit(X_train,y_train)\n",
    "gbm_pred = gbm.predict(X_test)\n",
    "print(\"정확도 : {:.3f}, 수행시간 : {:.3f}\".format(accuracy_score(y_test,gbm_pred),\n",
    "                                           time.time()-start_time))\n",
    "\n",
    "# n_estimators 와 learning_rate는 각각 자유롭게 2개씩 설정하여 params 변수에 딕셔너리 형태로 지정하세요.\n",
    "params = {'n_estimators':[200,400],\n",
    "         'learning_rate':[0.1,0.05]}\n",
    "\n",
    "# GridSearchCV를 적용하여 하이퍼 파라미터를 최적화해봅니다.\n",
    "gscv = GridSearchCV(estimator=gbm,param_grid=params,cv=3)\n",
    "gscv.fit(X_train,y_train)\n",
    "\n",
    "# GMB 최적 하이퍼 파라미터, 최고 예측 정확도와 수행시간을 순서대로 출력하세요.\n",
    "print('최적 하이퍼 파라미터:',gscv.best_params_)\n",
    "print('최고 예측 정확도: {:.3f}'.format(gscv.best_score_))\n",
    "print('수행시간: {:.3f}'.format(time.time()-start_time))\n",
    "\n",
    "# 최적으로 학습된 estimator로 예측 수행하고 정확도를 출력하세요.\n",
    "best_gbm = gscv.best_estimator_\n",
    "best_pred = best_gbm.predict(X_test)\n",
    "print('예측 정확도: {:.3f}'.format(accuracy_score(y_test,best_pred)))"
   ]
  },
  {
   "cell_type": "markdown",
   "metadata": {
    "id": "sI5sSmnl6101"
   },
   "source": [
    "**2.XGBoost, RightGBM (55점)**"
   ]
  },
  {
   "cell_type": "markdown",
   "metadata": {
    "id": "2Ke4Tg-0jzBY"
   },
   "source": [
    "아래 데이터를 로드해주세요"
   ]
  },
  {
   "cell_type": "code",
   "execution_count": 12,
   "metadata": {
    "ExecuteTime": {
     "end_time": "2023-09-14T10:59:27.391620Z",
     "start_time": "2023-09-14T10:59:27.339441Z"
    },
    "id": "_EGhIVPY3SC2"
   },
   "outputs": [],
   "source": [
    "import pandas as pd\n",
    "import xgboost as xgb\n",
    "from xgboost import plot_importance\n",
    "import numpy as np\n",
    "from sklearn. model_selection import train_test_split\n",
    "import warnings\n",
    "warnings.filterwarnings('ignore')\n",
    "\n",
    "diabetes = pd.read_csv('../data/diabetes.csv')\n",
    "\n",
    "features = diabetes.iloc[:,:-1]\n",
    "label = diabetes.iloc[:,-1]"
   ]
  },
  {
   "cell_type": "markdown",
   "metadata": {
    "id": "aAhDJs6s7Hj9"
   },
   "source": [
    "2-Q1. 파이썬 래퍼 XGBoost로 학습하여 나온 예측 확률 값과 예측값을 10개씩 출력하세요.(10점)"
   ]
  },
  {
   "cell_type": "code",
   "execution_count": 13,
   "metadata": {
    "ExecuteTime": {
     "end_time": "2023-09-14T10:59:27.407213Z",
     "start_time": "2023-09-14T10:59:27.394138Z"
    }
   },
   "outputs": [],
   "source": [
    "X_train,X_test,y_train,y_test = train_test_split(features,label,test_size=0.2,random_state=0)"
   ]
  },
  {
   "cell_type": "code",
   "execution_count": 14,
   "metadata": {
    "ExecuteTime": {
     "end_time": "2023-09-14T10:59:27.426015Z",
     "start_time": "2023-09-14T10:59:27.409730Z"
    }
   },
   "outputs": [],
   "source": [
    "xgb_params = {\n",
    "    'max_depth':3,\n",
    "    'eta':0.1,\n",
    "    'objective':'binary:logistic',\n",
    "    'eval_metric':'logloss',\n",
    "    'ealry_stopping':100\n",
    "}"
   ]
  },
  {
   "cell_type": "code",
   "execution_count": 15,
   "metadata": {
    "ExecuteTime": {
     "end_time": "2023-09-14T10:59:27.459463Z",
     "start_time": "2023-09-14T10:59:27.427035Z"
    },
    "id": "qMkfgWtq7E4X"
   },
   "outputs": [
    {
     "name": "stdout",
     "output_type": "stream",
     "text": [
      "[19:59:27] WARNING: C:\\Users\\dev-admin\\croot2\\xgboost-split_1675461376218\\work\\src\\learner.cc:767: \n",
      "Parameters: { \"ealry_stopping\" } are not used.\n",
      "\n",
      "[0]\ttrain-logloss:0.65802\teval-logloss:0.65642\n",
      "[1]\ttrain-logloss:0.62687\teval-logloss:0.62707\n",
      "[2]\ttrain-logloss:0.60171\teval-logloss:0.60167\n",
      "[3]\ttrain-logloss:0.58065\teval-logloss:0.58101\n",
      "[4]\ttrain-logloss:0.56173\teval-logloss:0.56335\n",
      "[5]\ttrain-logloss:0.54583\teval-logloss:0.54959\n",
      "[6]\ttrain-logloss:0.53090\teval-logloss:0.53690\n",
      "[7]\ttrain-logloss:0.51828\teval-logloss:0.52487\n",
      "[8]\ttrain-logloss:0.50617\teval-logloss:0.51396\n",
      "[9]\ttrain-logloss:0.49591\teval-logloss:0.50611\n",
      "예측 확률 10개: [0.74  0.306 0.265 0.529 0.251 0.211 0.608 0.73  0.322 0.414]\n",
      "예측 값 10개:  [1, 0, 0, 1, 0, 0, 1, 1, 0, 0]\n"
     ]
    }
   ],
   "source": [
    "import xgboost as xgb\n",
    "dtrain = xgb.DMatrix(data=X_train,label=y_train)\n",
    "dtest = xgb.DMatrix(data=X_test,label=y_test)\n",
    "wlist = [(dtrain,'train'),(dtest,'eval')]\n",
    "\n",
    "xgb_model = xgb.train(params=xgb_params,dtrain=dtrain,early_stopping_rounds=100,evals=wlist)\n",
    "xgb_probs = xgb_model.predict(dtest)\n",
    "\n",
    "print('예측 확률 10개:',np.round(xgb_probs[:10],3))\n",
    "print('예측 값 10개: ',list(map(lambda x:1 if x>0.5 else 0,(xgb_probs[:10]))))"
   ]
  },
  {
   "cell_type": "markdown",
   "metadata": {
    "id": "8anABVeX7KXa"
   },
   "source": [
    "2-Q2. 사이킷런 래퍼 XGBoost로 학습하여 나온 예측값을 10개 출력하세요.(파라미터는 Q1과 동일하게 설정해주세요.)(10점)"
   ]
  },
  {
   "cell_type": "code",
   "execution_count": 16,
   "metadata": {
    "ExecuteTime": {
     "end_time": "2023-09-14T10:59:27.652024Z",
     "start_time": "2023-09-14T10:59:27.461461Z"
    },
    "id": "UEojxzcu7M7o"
   },
   "outputs": [
    {
     "name": "stdout",
     "output_type": "stream",
     "text": [
      "[0]\tvalidation_0-logloss:0.65802\tvalidation_1-logloss:0.65642\n",
      "[1]\tvalidation_0-logloss:0.62687\tvalidation_1-logloss:0.62707\n",
      "[2]\tvalidation_0-logloss:0.60171\tvalidation_1-logloss:0.60167\n",
      "[3]\tvalidation_0-logloss:0.58065\tvalidation_1-logloss:0.58101\n",
      "[4]\tvalidation_0-logloss:0.56173\tvalidation_1-logloss:0.56335\n",
      "[5]\tvalidation_0-logloss:0.54583\tvalidation_1-logloss:0.54959\n",
      "[6]\tvalidation_0-logloss:0.53090\tvalidation_1-logloss:0.53690\n",
      "[7]\tvalidation_0-logloss:0.51828\tvalidation_1-logloss:0.52487\n",
      "[8]\tvalidation_0-logloss:0.50617\tvalidation_1-logloss:0.51396\n",
      "[9]\tvalidation_0-logloss:0.49591\tvalidation_1-logloss:0.50611\n",
      "[10]\tvalidation_0-logloss:0.48611\tvalidation_1-logloss:0.49946\n",
      "[11]\tvalidation_0-logloss:0.47789\tvalidation_1-logloss:0.49096\n",
      "[12]\tvalidation_0-logloss:0.47050\tvalidation_1-logloss:0.48429\n",
      "[13]\tvalidation_0-logloss:0.46379\tvalidation_1-logloss:0.47902\n",
      "[14]\tvalidation_0-logloss:0.45760\tvalidation_1-logloss:0.47458\n",
      "[15]\tvalidation_0-logloss:0.45106\tvalidation_1-logloss:0.47165\n",
      "[16]\tvalidation_0-logloss:0.44555\tvalidation_1-logloss:0.46686\n",
      "[17]\tvalidation_0-logloss:0.44089\tvalidation_1-logloss:0.46481\n",
      "[18]\tvalidation_0-logloss:0.43570\tvalidation_1-logloss:0.46213\n",
      "[19]\tvalidation_0-logloss:0.43150\tvalidation_1-logloss:0.46188\n",
      "[20]\tvalidation_0-logloss:0.42760\tvalidation_1-logloss:0.45997\n",
      "[21]\tvalidation_0-logloss:0.42383\tvalidation_1-logloss:0.45539\n",
      "[22]\tvalidation_0-logloss:0.42012\tvalidation_1-logloss:0.45407\n",
      "[23]\tvalidation_0-logloss:0.41675\tvalidation_1-logloss:0.45212\n",
      "[24]\tvalidation_0-logloss:0.41396\tvalidation_1-logloss:0.44904\n",
      "[25]\tvalidation_0-logloss:0.41101\tvalidation_1-logloss:0.44858\n",
      "[26]\tvalidation_0-logloss:0.40805\tvalidation_1-logloss:0.44519\n",
      "[27]\tvalidation_0-logloss:0.40556\tvalidation_1-logloss:0.44506\n",
      "[28]\tvalidation_0-logloss:0.40180\tvalidation_1-logloss:0.44305\n",
      "[29]\tvalidation_0-logloss:0.39965\tvalidation_1-logloss:0.44419\n",
      "[30]\tvalidation_0-logloss:0.39673\tvalidation_1-logloss:0.44188\n",
      "[31]\tvalidation_0-logloss:0.39431\tvalidation_1-logloss:0.44041\n",
      "[32]\tvalidation_0-logloss:0.39246\tvalidation_1-logloss:0.44121\n",
      "[33]\tvalidation_0-logloss:0.39016\tvalidation_1-logloss:0.43989\n",
      "[34]\tvalidation_0-logloss:0.38794\tvalidation_1-logloss:0.43945\n",
      "[35]\tvalidation_0-logloss:0.38478\tvalidation_1-logloss:0.43761\n",
      "[36]\tvalidation_0-logloss:0.38261\tvalidation_1-logloss:0.43906\n",
      "[37]\tvalidation_0-logloss:0.38027\tvalidation_1-logloss:0.43617\n",
      "[38]\tvalidation_0-logloss:0.37902\tvalidation_1-logloss:0.43518\n",
      "[39]\tvalidation_0-logloss:0.37742\tvalidation_1-logloss:0.43426\n",
      "[40]\tvalidation_0-logloss:0.37563\tvalidation_1-logloss:0.43504\n",
      "[41]\tvalidation_0-logloss:0.37307\tvalidation_1-logloss:0.43438\n",
      "[42]\tvalidation_0-logloss:0.36977\tvalidation_1-logloss:0.43329\n",
      "[43]\tvalidation_0-logloss:0.36847\tvalidation_1-logloss:0.43415\n",
      "[44]\tvalidation_0-logloss:0.36747\tvalidation_1-logloss:0.43360\n",
      "[45]\tvalidation_0-logloss:0.36661\tvalidation_1-logloss:0.43346\n",
      "[46]\tvalidation_0-logloss:0.36557\tvalidation_1-logloss:0.43231\n",
      "[47]\tvalidation_0-logloss:0.36338\tvalidation_1-logloss:0.43113\n",
      "[48]\tvalidation_0-logloss:0.36195\tvalidation_1-logloss:0.42978\n",
      "[49]\tvalidation_0-logloss:0.36110\tvalidation_1-logloss:0.42974\n",
      "[50]\tvalidation_0-logloss:0.35871\tvalidation_1-logloss:0.42839\n",
      "[51]\tvalidation_0-logloss:0.35797\tvalidation_1-logloss:0.42788\n",
      "[52]\tvalidation_0-logloss:0.35516\tvalidation_1-logloss:0.42717\n",
      "[53]\tvalidation_0-logloss:0.35420\tvalidation_1-logloss:0.42700\n",
      "[54]\tvalidation_0-logloss:0.35184\tvalidation_1-logloss:0.42644\n",
      "[55]\tvalidation_0-logloss:0.35075\tvalidation_1-logloss:0.42503\n",
      "[56]\tvalidation_0-logloss:0.35009\tvalidation_1-logloss:0.42528\n",
      "[57]\tvalidation_0-logloss:0.34922\tvalidation_1-logloss:0.42512\n",
      "[58]\tvalidation_0-logloss:0.34752\tvalidation_1-logloss:0.42522\n",
      "[59]\tvalidation_0-logloss:0.34634\tvalidation_1-logloss:0.42537\n",
      "[60]\tvalidation_0-logloss:0.34539\tvalidation_1-logloss:0.42414\n",
      "[61]\tvalidation_0-logloss:0.34476\tvalidation_1-logloss:0.42430\n",
      "[62]\tvalidation_0-logloss:0.34306\tvalidation_1-logloss:0.42329\n",
      "[63]\tvalidation_0-logloss:0.34223\tvalidation_1-logloss:0.42223\n",
      "[64]\tvalidation_0-logloss:0.34117\tvalidation_1-logloss:0.42252\n",
      "[65]\tvalidation_0-logloss:0.33867\tvalidation_1-logloss:0.42119\n",
      "[66]\tvalidation_0-logloss:0.33660\tvalidation_1-logloss:0.42043\n",
      "[67]\tvalidation_0-logloss:0.33458\tvalidation_1-logloss:0.41981\n",
      "[68]\tvalidation_0-logloss:0.33327\tvalidation_1-logloss:0.41924\n",
      "[69]\tvalidation_0-logloss:0.33264\tvalidation_1-logloss:0.41984\n",
      "[70]\tvalidation_0-logloss:0.33211\tvalidation_1-logloss:0.41947\n",
      "[71]\tvalidation_0-logloss:0.33038\tvalidation_1-logloss:0.41858\n",
      "[72]\tvalidation_0-logloss:0.32982\tvalidation_1-logloss:0.41952\n",
      "[73]\tvalidation_0-logloss:0.32853\tvalidation_1-logloss:0.41970\n",
      "[74]\tvalidation_0-logloss:0.32781\tvalidation_1-logloss:0.41903\n",
      "[75]\tvalidation_0-logloss:0.32733\tvalidation_1-logloss:0.41924\n",
      "[76]\tvalidation_0-logloss:0.32580\tvalidation_1-logloss:0.42057\n",
      "[77]\tvalidation_0-logloss:0.32479\tvalidation_1-logloss:0.42105\n",
      "[78]\tvalidation_0-logloss:0.32384\tvalidation_1-logloss:0.42113\n",
      "[79]\tvalidation_0-logloss:0.32321\tvalidation_1-logloss:0.42033\n",
      "[80]\tvalidation_0-logloss:0.32147\tvalidation_1-logloss:0.41976\n",
      "[81]\tvalidation_0-logloss:0.32103\tvalidation_1-logloss:0.41998\n",
      "[82]\tvalidation_0-logloss:0.31994\tvalidation_1-logloss:0.41881\n",
      "[83]\tvalidation_0-logloss:0.31849\tvalidation_1-logloss:0.41809\n",
      "[84]\tvalidation_0-logloss:0.31787\tvalidation_1-logloss:0.41776\n",
      "[85]\tvalidation_0-logloss:0.31681\tvalidation_1-logloss:0.41764\n",
      "[86]\tvalidation_0-logloss:0.31576\tvalidation_1-logloss:0.41728\n",
      "[87]\tvalidation_0-logloss:0.31501\tvalidation_1-logloss:0.41809\n",
      "[88]\tvalidation_0-logloss:0.31460\tvalidation_1-logloss:0.41905\n",
      "[89]\tvalidation_0-logloss:0.31406\tvalidation_1-logloss:0.41838\n",
      "[90]\tvalidation_0-logloss:0.31238\tvalidation_1-logloss:0.41828\n",
      "[91]\tvalidation_0-logloss:0.31106\tvalidation_1-logloss:0.41824\n",
      "[92]\tvalidation_0-logloss:0.31004\tvalidation_1-logloss:0.41855\n",
      "[93]\tvalidation_0-logloss:0.30968\tvalidation_1-logloss:0.41950\n",
      "[94]\tvalidation_0-logloss:0.30919\tvalidation_1-logloss:0.41892\n",
      "[95]\tvalidation_0-logloss:0.30863\tvalidation_1-logloss:0.41857\n",
      "[96]\tvalidation_0-logloss:0.30756\tvalidation_1-logloss:0.41899\n",
      "[97]\tvalidation_0-logloss:0.30613\tvalidation_1-logloss:0.41942\n",
      "[98]\tvalidation_0-logloss:0.30581\tvalidation_1-logloss:0.42033\n",
      "[99]\tvalidation_0-logloss:0.30538\tvalidation_1-logloss:0.41998\n",
      "예측값 10개: [1 0 0 1 0 0 1 1 0 0]\n"
     ]
    }
   ],
   "source": [
    "from xgboost import XGBClassifier\n",
    "xgb_clf = XGBClassifier(max_depth=3,learning_rate=0.1,objective='binary:logistic')\n",
    "evals = [(X_train,y_train),(X_test,y_test)]\n",
    "xgb_clf.fit(X_train,y_train,eval_set=evals,eval_metric='logloss',\n",
    "            early_stopping_rounds=100)\n",
    "xgb_clf_pred = xgb_clf.predict(X_test)\n",
    "print('예측값 10개:',xgb_clf_pred[:10])"
   ]
  },
  {
   "cell_type": "markdown",
   "metadata": {
    "id": "_P1UH2R97Pzi"
   },
   "source": [
    "지금 LightGBM의 버전이 책과 달라 오류가 발생합니다. 이를 방지하기위해 LightGBM의 버전을 3.3.2로 다운그레이드 하고 런타임을 재시작해주세요\n",
    "######(이미 버전이 3.2.2라면 그대로 진행해주세요)"
   ]
  },
  {
   "cell_type": "code",
   "execution_count": 17,
   "metadata": {
    "ExecuteTime": {
     "end_time": "2023-09-14T10:59:27.973746Z",
     "start_time": "2023-09-14T10:59:27.654026Z"
    }
   },
   "outputs": [
    {
     "data": {
      "text/plain": [
       "'3.3.2'"
      ]
     },
     "execution_count": 17,
     "metadata": {},
     "output_type": "execute_result"
    }
   ],
   "source": [
    "import lightgbm\n",
    "lightgbm.__version__"
   ]
  },
  {
   "cell_type": "code",
   "execution_count": 18,
   "metadata": {
    "ExecuteTime": {
     "end_time": "2023-09-14T10:59:27.988946Z",
     "start_time": "2023-09-14T10:59:27.976746Z"
    },
    "id": "JAVvii3I7POA"
   },
   "outputs": [],
   "source": [
    "# pip install lightgbm==3.3.2"
   ]
  },
  {
   "cell_type": "markdown",
   "metadata": {
    "id": "iMdQrzNhqP4p"
   },
   "source": [
    "아래 코드를 실행해주세요"
   ]
  },
  {
   "cell_type": "code",
   "execution_count": 19,
   "metadata": {
    "ExecuteTime": {
     "end_time": "2023-09-14T10:59:28.156401Z",
     "start_time": "2023-09-14T10:59:27.991472Z"
    },
    "id": "evUOyM_UdgvR"
   },
   "outputs": [],
   "source": [
    "from lightgbm import LGBMClassifier\n",
    "from lightgbm import plot_metric, plot_tree\n",
    "\n",
    "\n",
    "X_train, X_test, y_train, y_test=train_test_split(features, label, test_size=0.3, random_state=156 )\n",
    "\n",
    "X_tr, X_val, y_tr, y_val = train_test_split(X_train, y_train, test_size=0.1, random_state=156 )\n",
    "\n",
    "lgbm_wrapper_of = LGBMClassifier(\n",
    "                         n_estimators=300,\n",
    "                         learning_rate=0.05,\n",
    "                         random_state = 121)\n",
    "\n",
    "evals = [(X_tr, y_tr),(X_val,y_val)]\n",
    "lgbm_wrapper_of.fit(X_tr, y_tr, eval_metric=\"logloss\", eval_set=evals, verbose=False )\n",
    "preds_of = lgbm_wrapper_of.predict(X_test)\n",
    "pred_proba_of = lgbm_wrapper_of.predict_proba(X_test)[:, 1]"
   ]
  },
  {
   "cell_type": "code",
   "execution_count": 20,
   "metadata": {
    "ExecuteTime": {
     "end_time": "2023-09-14T10:59:28.173009Z",
     "start_time": "2023-09-14T10:59:28.158742Z"
    },
    "id": "1BjB-WKRuJ3i"
   },
   "outputs": [],
   "source": [
    "from sklearn.metrics import accuracy_score, precision_score, recall_score, roc_auc_score\n",
    "from sklearn.metrics import f1_score, confusion_matrix, precision_recall_curve, roc_curve\n",
    "def get_clf_eval(y_test, pred=None, pred_proba=None):\n",
    "    confusion = confusion_matrix(y_test, pred)\n",
    "    accuracy = accuracy_score(y_test, pred)\n",
    "    precision = precision_score(y_test, pred)\n",
    "    recall = recall_score(y_test, pred)\n",
    "    f1 = f1_score(y_test, pred)\n",
    "    roc_auc = roc_auc_score(y_test, pred)\n",
    "\n",
    "    print('오차행렬')\n",
    "    print(confusion)\n",
    "    print('정확도: {0:.4f}, 정밀도: {1:.4f}, 재현율: {2:.4f}, F1: {3:.4f}, AUC:{4:.4f}'\n",
    "          .format(accuracy, precision, recall, f1, roc_auc))"
   ]
  },
  {
   "cell_type": "code",
   "execution_count": 21,
   "metadata": {
    "ExecuteTime": {
     "end_time": "2023-09-14T10:59:28.193415Z",
     "start_time": "2023-09-14T10:59:28.175012Z"
    },
    "colab": {
     "base_uri": "https://localhost:8080/"
    },
    "id": "zTIQ0NjG70Iw",
    "outputId": "11d06232-ac64-4e42-e570-e84d9da3e5e4"
   },
   "outputs": [
    {
     "name": "stdout",
     "output_type": "stream",
     "text": [
      "오차행렬\n",
      "[[116  31]\n",
      " [ 31  53]]\n",
      "정확도: 0.7316, 정밀도: 0.6310, 재현율: 0.6310, F1: 0.6310, AUC:0.7100\n"
     ]
    }
   ],
   "source": [
    "get_clf_eval(y_test,preds_of,pred_proba_of)"
   ]
  },
  {
   "cell_type": "markdown",
   "metadata": {
    "id": "fWukkVsskkSm"
   },
   "source": [
    "위의 LightGBM은 수행 중 여러 파라미터를 빼먹어 과적합이 발생했습니다"
   ]
  },
  {
   "cell_type": "markdown",
   "metadata": {
    "id": "RjBZVOkjk6lE"
   },
   "source": [
    "###### 2-Q3.과적합이 발생했음을 시각적으로 보여주세요(5점)"
   ]
  },
  {
   "cell_type": "code",
   "execution_count": 22,
   "metadata": {
    "ExecuteTime": {
     "end_time": "2023-09-14T10:59:28.874972Z",
     "start_time": "2023-09-14T10:59:28.193415Z"
    },
    "id": "yTQntsBqeTJD"
   },
   "outputs": [
    {
     "data": {
      "text/plain": [
       "<Axes: title={'center': 'Metric during training'}, xlabel='Iterations', ylabel='binary_logloss'>"
      ]
     },
     "execution_count": 22,
     "metadata": {},
     "output_type": "execute_result"
    },
    {
     "data": {
      "image/png": "[encoded data removed]",
      "text/plain": [
       "<Figure size 1200x1000 with 1 Axes>"
      ]
     },
     "metadata": {},
     "output_type": "display_data"
    }
   ],
   "source": [
    "plot_metric(lgbm_wrapper_of,figsize=(12,10))\n",
    "# 해석: Iterations(epoch = 학습단위로, 1번의 학습을 의미)이 증가함에따라, \n",
    "#       학습 데이터의 loss(손실,비용)는 감소하고 있지만,\n",
    "#       검증 데이터의 loss는 증가하고 있다. \n",
    "#       이는 모델이 학습 데이터는 잘 분류하고 있지만, \n",
    "#       새로운 유형의 데이터인 검증데이터는 잘 분류하지 못하고 있음을 의미한다.\n",
    "#       >> 과적합"
   ]
  },
  {
   "cell_type": "markdown",
   "metadata": {
    "id": "O6YppXhBe7OQ"
   },
   "source": [
    "######2-Q4. 위의 코드를 수정하여 정확도 2%P 이상 상승해 주세요\n",
    "###### (단 n_estimatorssms 400, random_stat는 156으로 고정해주세요)(10점)"
   ]
  },
  {
   "cell_type": "code",
   "execution_count": 27,
   "metadata": {
    "ExecuteTime": {
     "end_time": "2023-09-14T11:01:25.359366Z",
     "start_time": "2023-09-14T11:01:25.347577Z"
    }
   },
   "outputs": [],
   "source": [
    "from hyperopt import hp"
   ]
  },
  {
   "cell_type": "code",
   "execution_count": 34,
   "metadata": {
    "ExecuteTime": {
     "end_time": "2023-09-14T11:10:09.754393Z",
     "start_time": "2023-09-14T11:10:09.747722Z"
    }
   },
   "outputs": [],
   "source": [
    "lgbm_search_space = {\n",
    "    'max_depth':hp.quniform('max_depth',10,80,5),\n",
    "    'min_child_samples':hp.quniform('min_child_samples',2,40,1),\n",
    "    'num_leaves':hp.quniform('num_leaves',40,160,5),\n",
    "    'learning_rate':hp.uniform('learning_rate',0.01,0.2),\n",
    "    'colsample_bytree':hp.uniform('colsample_bytree',0.5,1),\n",
    "    'subsample':hp.uniform('subsample',0.5,1),\n",
    "    'reg_lambda':hp.uniform('reg_lambda',0.1,0.5),\n",
    "    'reg_alpha':hp.uniform('reg_alpha',0.0,0.5)\n",
    "}"
   ]
  },
  {
   "cell_type": "code",
   "execution_count": 47,
   "metadata": {
    "ExecuteTime": {
     "end_time": "2023-09-14T11:19:04.497693Z",
     "start_time": "2023-09-14T11:19:04.469384Z"
    }
   },
   "outputs": [],
   "source": [
    "from sklearn.model_selection import cross_val_score\n",
    "from hyperopt import STATUS_OK\n",
    "def objective_func(search_space):\n",
    "    lgbm_clf = LGBMClassifier(n_estimators=400,random_state=156,\n",
    "                              max_depth=int(search_space['max_depth']),\n",
    "                              min_child_samples=int(search_space['min_child_samples']),\n",
    "                              num_leaves=int(search_space['num_leaves']),\n",
    "                              learning_rate=search_space['learning_rate'],\n",
    "                              colsample_bytree=search_space['colsample_bytree'],\n",
    "                              subsample=search_space['subsample'],\n",
    "                              reg_lambda=search_space['reg_lambda'],\n",
    "                              reg_alpha=search_space['reg_alpha']\n",
    "                             )\n",
    "    lgbm_clf.fit(X_tr, y_tr, eval_metric=\"logloss\", eval_set=evals, verbose=False)\n",
    "    accuracy = accuracy_score(y_test,lgbm_clf.predict(X_test))\n",
    "    return {'loss':-(accuracy),'status':STATUS_OK}"
   ]
  },
  {
   "cell_type": "code",
   "execution_count": 48,
   "metadata": {
    "ExecuteTime": {
     "end_time": "2023-09-14T11:19:15.999820Z",
     "start_time": "2023-09-14T11:19:05.575582Z"
    }
   },
   "outputs": [
    {
     "name": "stdout",
     "output_type": "stream",
     "text": [
      "100%|███████████████████████████████████████████████| 50/50 [00:10<00:00,  4.81trial/s, best loss: -0.7705627705627706]\n",
      "best: {'colsample_bytree': 0.983258023454106, 'learning_rate': 0.016034285021889888, 'max_depth': 10.0, 'min_child_samples': 15.0, 'num_leaves': 140.0, 'reg_alpha': 0.26391015644724564, 'reg_lambda': 0.3981491551167523, 'subsample': 0.815023321260921}\n"
     ]
    }
   ],
   "source": [
    "from hyperopt import fmin, tpe, Trials\n",
    "trial_val = Trials()\n",
    "best = fmin(fn=objective_func,\n",
    "           space = lgbm_search_space,\n",
    "           algo=tpe.suggest,\n",
    "           max_evals=50,\n",
    "           trials=trial_val)\n",
    "print('best:',best)"
   ]
  },
  {
   "cell_type": "code",
   "execution_count": 49,
   "metadata": {
    "ExecuteTime": {
     "end_time": "2023-09-14T11:19:21.033680Z",
     "start_time": "2023-09-14T11:19:20.806930Z"
    },
    "id": "rJ5qzwaxA9Ds"
   },
   "outputs": [],
   "source": [
    "lgbm_improved = LGBMClassifier(\n",
    "    n_estimators=400,\n",
    "    random_state = 156, \n",
    "    colsample_bytree = best['colsample_bytree'],\n",
    "    learning_rate = best['learning_rate'],\n",
    "    max_depth=int(best['max_depth']),\n",
    "    min_child_samples = int(best['min_child_samples']),\n",
    "    num_leaves=int(best['num_leaves']),\n",
    "    reg_alpha=best['reg_alpha'],\n",
    "    reg_lambda=best['reg_lambda'],\n",
    "    subsample=best['subsample']\n",
    ")\n",
    "\n",
    "evals = [(X_tr, y_tr),(X_val,y_val)]\n",
    "lgbm_improved.fit(X_tr, y_tr, eval_metric=\"logloss\", eval_set=evals, verbose=False )\n",
    "preds_imp = lgbm_improved.predict(X_test)"
   ]
  },
  {
   "cell_type": "code",
   "execution_count": 51,
   "metadata": {
    "ExecuteTime": {
     "end_time": "2023-09-14T11:19:43.604599Z",
     "start_time": "2023-09-14T11:19:43.583264Z"
    },
    "id": "8zx9PL5vZgQ0"
   },
   "outputs": [
    {
     "name": "stdout",
     "output_type": "stream",
     "text": [
      "3.90%P 개선된 정확도: 0.7706\n"
     ]
    }
   ],
   "source": [
    "lgbm_of_accuracy = accuracy_score(y_test,preds_of)\n",
    "lgbm_accuracy = accuracy_score(y_test,preds_imp)\n",
    "print('{:.2f}%P 개선된 정확도: {:.4f}'.format(lgbm_accuracy*100-lgbm_of_accuracy*100,lgbm_accuracy))"
   ]
  },
  {
   "cell_type": "markdown",
   "metadata": {
    "id": "rJj7w76CySso"
   },
   "source": [
    "\n",
    "###### 2-Q5. GridSearchCV를 활용해 learnig_rate, max_depth, num_leaves, n_estimators의 최적 파라미터를 구하고 GridSeaechCV의 수행시간, 최고 정확도를 구하고 GridSearchCV가 XGBoosth, LightGBM에 적합하지 않는 이유를 말해주세요\n",
    "###### cv = 3, refit=True로 고정해주세요(10점)"
   ]
  },
  {
   "cell_type": "code",
   "execution_count": 53,
   "metadata": {
    "ExecuteTime": {
     "end_time": "2023-09-14T11:23:59.597467Z",
     "start_time": "2023-09-14T11:23:45.910061Z"
    },
    "id": "CNKi6KF-sOqA"
   },
   "outputs": [
    {
     "name": "stdout",
     "output_type": "stream",
     "text": [
      "최고 정확도: 0.7246\n",
      "수행시간: 13.6705\n"
     ]
    }
   ],
   "source": [
    "from sklearn.model_selection import GridSearchCV\n",
    "import time\n",
    "start_time = time.time()\n",
    "\n",
    "param_lgbm = {\"learning_rate\" : [0.1,0.5,0.3],\n",
    "             \"max_depth\" : [20,25,30],\n",
    "             \"num_leaves\" : [100,145],\n",
    "             'n_estimators': [400,300]\n",
    "              }\n",
    "lgbm_tt = LGBMClassifier(random_state=156)\n",
    "lgbm_gscv = GridSearchCV(lgbm_tt,param_grid=param_lgbm,cv=3,refit=True)\n",
    "\n",
    "lgbm_gscv.fit(X_tr,y_tr,eval_metric='logloss',eval_set=evals,verbose=False)\n",
    "print('최고 정확도: {:.4f}'.format(lgbm_gscv.best_score_))\n",
    "print('수행시간: {:.4f}'.format(time.time()-start_time))"
   ]
  },
  {
   "cell_type": "markdown",
   "metadata": {
    "id": "cxuD_UISoTdU"
   },
   "source": [
    "<span style='color:red'>답:</span>   \n",
    "1. 조정해야 할 하이퍼 파라미터가 너무 많아서 수행시간이 오래 걸린다.\n",
    "2. 기본적으로도 좋은 성능을 가지고 있으므로, 무작위 탐색 또는 베이지안 최적화 방식의 하이퍼 파라미터 튜닝이 더 효율적이다."
   ]
  },
  {
   "cell_type": "markdown",
   "metadata": {
    "id": "KBBO1xnVqVFO"
   },
   "source": [
    "###### 2-Q6. 이제 실제로 해당 파라미터를 적용해 학습하고, 검증한뒤 get_clf_eval 함수를 사용해 실제 정확도를 도출해주세요\n",
    "######도출된 정확도를 바탕으로 해석해주세요 (만약 정확도가 같다면 그대로 두고, 정확도가 다르다면 그 이유를 해석해 주세요)\n",
    "###### (random_state는 모두 156으로 고정해 주세요)(10점)"
   ]
  },
  {
   "cell_type": "code",
   "execution_count": 54,
   "metadata": {
    "ExecuteTime": {
     "end_time": "2023-09-14T11:28:28.294304Z",
     "start_time": "2023-09-14T11:28:28.275305Z"
    },
    "id": "y2pnOo5gyhJ_"
   },
   "outputs": [
    {
     "name": "stdout",
     "output_type": "stream",
     "text": [
      "{'colsample_bytree': 0.983258023454106, 'learning_rate': 0.016034285021889888, 'max_depth': 10.0, 'min_child_samples': 15.0, 'num_leaves': 140.0, 'reg_alpha': 0.26391015644724564, 'reg_lambda': 0.3981491551167523, 'subsample': 0.815023321260921}\n"
     ]
    }
   ],
   "source": [
    "# 도출한 최적의 파라미터 조합\n",
    "print(best)"
   ]
  },
  {
   "cell_type": "code",
   "execution_count": 55,
   "metadata": {
    "ExecuteTime": {
     "end_time": "2023-09-14T11:28:43.474989Z",
     "start_time": "2023-09-14T11:28:43.461479Z"
    },
    "id": "DIpy2gZd99cM"
   },
   "outputs": [
    {
     "data": {
      "text/html": [
       "<style>#sk-container-id-1 {color: black;}#sk-container-id-1 pre{padding: 0;}#sk-container-id-1 div.sk-toggleable {background-color: white;}#sk-container-id-1 label.sk-toggleable__label {cursor: pointer;display: block;width: 100%;margin-bottom: 0;padding: 0.3em;box-sizing: border-box;text-align: center;}#sk-container-id-1 label.sk-toggleable__label-arrow:before {content: \"▸\";float: left;margin-right: 0.25em;color: #696969;}#sk-container-id-1 label.sk-toggleable__label-arrow:hover:before {color: black;}#sk-container-id-1 div.sk-estimator:hover label.sk-toggleable__label-arrow:before {color: black;}#sk-container-id-1 div.sk-toggleable__content {max-height: 0;max-width: 0;overflow: hidden;text-align: left;background-color: #f0f8ff;}#sk-container-id-1 div.sk-toggleable__content pre {margin: 0.2em;color: black;border-radius: 0.25em;background-color: #f0f8ff;}#sk-container-id-1 input.sk-toggleable__control:checked~div.sk-toggleable__content {max-height: 200px;max-width: 100%;overflow: auto;}#sk-container-id-1 input.sk-toggleable__control:checked~label.sk-toggleable__label-arrow:before {content: \"▾\";}#sk-container-id-1 div.sk-estimator input.sk-toggleable__control:checked~label.sk-toggleable__label {background-color: #d4ebff;}#sk-container-id-1 div.sk-label input.sk-toggleable__control:checked~label.sk-toggleable__label {background-color: #d4ebff;}#sk-container-id-1 input.sk-hidden--visually {border: 0;clip: rect(1px 1px 1px 1px);clip: rect(1px, 1px, 1px, 1px);height: 1px;margin: -1px;overflow: hidden;padding: 0;position: absolute;width: 1px;}#sk-container-id-1 div.sk-estimator {font-family: monospace;background-color: #f0f8ff;border: 1px dotted black;border-radius: 0.25em;box-sizing: border-box;margin-bottom: 0.5em;}#sk-container-id-1 div.sk-estimator:hover {background-color: #d4ebff;}#sk-container-id-1 div.sk-parallel-item::after {content: \"\";width: 100%;border-bottom: 1px solid gray;flex-grow: 1;}#sk-container-id-1 div.sk-label:hover label.sk-toggleable__label {background-color: #d4ebff;}#sk-container-id-1 div.sk-serial::before {content: \"\";position: absolute;border-left: 1px solid gray;box-sizing: border-box;top: 0;bottom: 0;left: 50%;z-index: 0;}#sk-container-id-1 div.sk-serial {display: flex;flex-direction: column;align-items: center;background-color: white;padding-right: 0.2em;padding-left: 0.2em;position: relative;}#sk-container-id-1 div.sk-item {position: relative;z-index: 1;}#sk-container-id-1 div.sk-parallel {display: flex;align-items: stretch;justify-content: center;background-color: white;position: relative;}#sk-container-id-1 div.sk-item::before, #sk-container-id-1 div.sk-parallel-item::before {content: \"\";position: absolute;border-left: 1px solid gray;box-sizing: border-box;top: 0;bottom: 0;left: 50%;z-index: -1;}#sk-container-id-1 div.sk-parallel-item {display: flex;flex-direction: column;z-index: 1;position: relative;background-color: white;}#sk-container-id-1 div.sk-parallel-item:first-child::after {align-self: flex-end;width: 50%;}#sk-container-id-1 div.sk-parallel-item:last-child::after {align-self: flex-start;width: 50%;}#sk-container-id-1 div.sk-parallel-item:only-child::after {width: 0;}#sk-container-id-1 div.sk-dashed-wrapped {border: 1px dashed gray;margin: 0 0.4em 0.5em 0.4em;box-sizing: border-box;padding-bottom: 0.4em;background-color: white;}#sk-container-id-1 div.sk-label label {font-family: monospace;font-weight: bold;display: inline-block;line-height: 1.2em;}#sk-container-id-1 div.sk-label-container {text-align: center;}#sk-container-id-1 div.sk-container {/* jupyter's `normalize.less` sets `[hidden] { display: none; }` but bootstrap.min.css set `[hidden] { display: none !important; }` so we also need the `!important` here to be able to override the default hidden behavior on the sphinx rendered scikit-learn.org. See: https://github.com/scikit-learn/scikit-learn/issues/21755 */display: inline-block !important;position: relative;}#sk-container-id-1 div.sk-text-repr-fallback {display: none;}</style><div id=\"sk-container-id-1\" class=\"sk-top-container\"><div class=\"sk-text-repr-fallback\"><pre>LGBMClassifier(colsample_bytree=0.983258023454106,\n",
       "               learning_rate=0.016034285021889888, max_depth=10,\n",
       "               min_child_samples=15, n_estimators=400, num_leaves=140,\n",
       "               random_state=156, reg_alpha=0.26391015644724564,\n",
       "               reg_lambda=0.3981491551167523, subsample=0.815023321260921)</pre><b>In a Jupyter environment, please rerun this cell to show the HTML representation or trust the notebook. <br />On GitHub, the HTML representation is unable to render, please try loading this page with nbviewer.org.</b></div><div class=\"sk-container\" hidden><div class=\"sk-item\"><div class=\"sk-estimator sk-toggleable\"><input class=\"sk-toggleable__control sk-hidden--visually\" id=\"sk-estimator-id-1\" type=\"checkbox\" checked><label for=\"sk-estimator-id-1\" class=\"sk-toggleable__label sk-toggleable__label-arrow\">LGBMClassifier</label><div class=\"sk-toggleable__content\"><pre>LGBMClassifier(colsample_bytree=0.983258023454106,\n",
       "               learning_rate=0.016034285021889888, max_depth=10,\n",
       "               min_child_samples=15, n_estimators=400, num_leaves=140,\n",
       "               random_state=156, reg_alpha=0.26391015644724564,\n",
       "               reg_lambda=0.3981491551167523, subsample=0.815023321260921)</pre></div></div></div></div></div>"
      ],
      "text/plain": [
       "LGBMClassifier(colsample_bytree=0.983258023454106,\n",
       "               learning_rate=0.016034285021889888, max_depth=10,\n",
       "               min_child_samples=15, n_estimators=400, num_leaves=140,\n",
       "               random_state=156, reg_alpha=0.26391015644724564,\n",
       "               reg_lambda=0.3981491551167523, subsample=0.815023321260921)"
      ]
     },
     "execution_count": 55,
     "metadata": {},
     "output_type": "execute_result"
    }
   ],
   "source": [
    "# 적용된 객체\n",
    "lgbm_improved"
   ]
  },
  {
   "cell_type": "code",
   "execution_count": 57,
   "metadata": {
    "ExecuteTime": {
     "end_time": "2023-09-14T11:32:27.496902Z",
     "start_time": "2023-09-14T11:32:27.474408Z"
    },
    "id": "IPNlTwarzAD5"
   },
   "outputs": [
    {
     "name": "stdout",
     "output_type": "stream",
     "text": [
      "오차행렬\n",
      "[[127  20]\n",
      " [ 33  51]]\n",
      "정확도: 0.7706, 정밀도: 0.7183, 재현율: 0.6071, F1: 0.6581, AUC:0.7355\n"
     ]
    }
   ],
   "source": [
    "get_clf_eval(y_test,lgbm_improved.predict(X_test))"
   ]
  },
  {
   "cell_type": "markdown",
   "metadata": {
    "id": "IPWE9QB_wIU5"
   },
   "source": [
    "###### 해석:"
   ]
  },
  {
   "cell_type": "code",
   "execution_count": null,
   "metadata": {
    "id": "OK_ohayisCUj"
   },
   "outputs": [],
   "source": []
  },
  {
   "cell_type": "markdown",
   "metadata": {
    "id": "OfmxhE3UZy7w"
   },
   "source": [
    "# 문제 3. 위스콘신 유방암 예측"
   ]
  },
  {
   "cell_type": "markdown",
   "metadata": {
    "id": "FjwmLmzVZ110"
   },
   "source": [
    "## 3-0. VotingClassifier 알고리즘의 두 주요 생성 인자는?(4점)"
   ]
  },
  {
   "cell_type": "markdown",
   "metadata": {
    "id": "UtOjon-OZ2--"
   },
   "source": [
    "답:"
   ]
  },
  {
   "cell_type": "markdown",
   "metadata": {
    "id": "hukokzm3Z8t4"
   },
   "source": [
    "## 유방암 데이터 보팅"
   ]
  },
  {
   "cell_type": "code",
   "execution_count": 58,
   "metadata": {
    "ExecuteTime": {
     "end_time": "2023-09-14T11:33:27.677566Z",
     "start_time": "2023-09-14T11:33:27.374479Z"
    },
    "colab": {
     "base_uri": "https://localhost:8080/",
     "height": 227
    },
    "id": "FXhWoAD4Z0aC",
    "outputId": "2930fc82-3884-4b14-cf44-d538f0ebf117"
   },
   "outputs": [
    {
     "data": {
      "text/html": [
       "<div>\n",
       "<style scoped>\n",
       "    .dataframe tbody tr th:only-of-type {\n",
       "        vertical-align: middle;\n",
       "    }\n",
       "\n",
       "    .dataframe tbody tr th {\n",
       "        vertical-align: top;\n",
       "    }\n",
       "\n",
       "    .dataframe thead th {\n",
       "        text-align: right;\n",
       "    }\n",
       "</style>\n",
       "<table border=\"1\" class=\"dataframe\">\n",
       "  <thead>\n",
       "    <tr style=\"text-align: right;\">\n",
       "      <th></th>\n",
       "      <th>mean radius</th>\n",
       "      <th>mean texture</th>\n",
       "      <th>mean perimeter</th>\n",
       "      <th>mean area</th>\n",
       "      <th>mean smoothness</th>\n",
       "      <th>mean compactness</th>\n",
       "      <th>mean concavity</th>\n",
       "      <th>mean concave points</th>\n",
       "      <th>mean symmetry</th>\n",
       "      <th>mean fractal dimension</th>\n",
       "      <th>...</th>\n",
       "      <th>worst radius</th>\n",
       "      <th>worst texture</th>\n",
       "      <th>worst perimeter</th>\n",
       "      <th>worst area</th>\n",
       "      <th>worst smoothness</th>\n",
       "      <th>worst compactness</th>\n",
       "      <th>worst concavity</th>\n",
       "      <th>worst concave points</th>\n",
       "      <th>worst symmetry</th>\n",
       "      <th>worst fractal dimension</th>\n",
       "    </tr>\n",
       "  </thead>\n",
       "  <tbody>\n",
       "    <tr>\n",
       "      <th>0</th>\n",
       "      <td>17.99</td>\n",
       "      <td>10.38</td>\n",
       "      <td>122.8</td>\n",
       "      <td>1001.0</td>\n",
       "      <td>0.11840</td>\n",
       "      <td>0.27760</td>\n",
       "      <td>0.3001</td>\n",
       "      <td>0.14710</td>\n",
       "      <td>0.2419</td>\n",
       "      <td>0.07871</td>\n",
       "      <td>...</td>\n",
       "      <td>25.38</td>\n",
       "      <td>17.33</td>\n",
       "      <td>184.6</td>\n",
       "      <td>2019.0</td>\n",
       "      <td>0.1622</td>\n",
       "      <td>0.6656</td>\n",
       "      <td>0.7119</td>\n",
       "      <td>0.2654</td>\n",
       "      <td>0.4601</td>\n",
       "      <td>0.11890</td>\n",
       "    </tr>\n",
       "    <tr>\n",
       "      <th>1</th>\n",
       "      <td>20.57</td>\n",
       "      <td>17.77</td>\n",
       "      <td>132.9</td>\n",
       "      <td>1326.0</td>\n",
       "      <td>0.08474</td>\n",
       "      <td>0.07864</td>\n",
       "      <td>0.0869</td>\n",
       "      <td>0.07017</td>\n",
       "      <td>0.1812</td>\n",
       "      <td>0.05667</td>\n",
       "      <td>...</td>\n",
       "      <td>24.99</td>\n",
       "      <td>23.41</td>\n",
       "      <td>158.8</td>\n",
       "      <td>1956.0</td>\n",
       "      <td>0.1238</td>\n",
       "      <td>0.1866</td>\n",
       "      <td>0.2416</td>\n",
       "      <td>0.1860</td>\n",
       "      <td>0.2750</td>\n",
       "      <td>0.08902</td>\n",
       "    </tr>\n",
       "    <tr>\n",
       "      <th>2</th>\n",
       "      <td>19.69</td>\n",
       "      <td>21.25</td>\n",
       "      <td>130.0</td>\n",
       "      <td>1203.0</td>\n",
       "      <td>0.10960</td>\n",
       "      <td>0.15990</td>\n",
       "      <td>0.1974</td>\n",
       "      <td>0.12790</td>\n",
       "      <td>0.2069</td>\n",
       "      <td>0.05999</td>\n",
       "      <td>...</td>\n",
       "      <td>23.57</td>\n",
       "      <td>25.53</td>\n",
       "      <td>152.5</td>\n",
       "      <td>1709.0</td>\n",
       "      <td>0.1444</td>\n",
       "      <td>0.4245</td>\n",
       "      <td>0.4504</td>\n",
       "      <td>0.2430</td>\n",
       "      <td>0.3613</td>\n",
       "      <td>0.08758</td>\n",
       "    </tr>\n",
       "  </tbody>\n",
       "</table>\n",
       "<p>3 rows × 30 columns</p>\n",
       "</div>"
      ],
      "text/plain": [
       "   mean radius  mean texture  mean perimeter  mean area  mean smoothness  \\\n",
       "0        17.99         10.38           122.8     1001.0          0.11840   \n",
       "1        20.57         17.77           132.9     1326.0          0.08474   \n",
       "2        19.69         21.25           130.0     1203.0          0.10960   \n",
       "\n",
       "   mean compactness  mean concavity  mean concave points  mean symmetry  \\\n",
       "0           0.27760          0.3001              0.14710         0.2419   \n",
       "1           0.07864          0.0869              0.07017         0.1812   \n",
       "2           0.15990          0.1974              0.12790         0.2069   \n",
       "\n",
       "   mean fractal dimension  ...  worst radius  worst texture  worst perimeter  \\\n",
       "0                 0.07871  ...         25.38          17.33            184.6   \n",
       "1                 0.05667  ...         24.99          23.41            158.8   \n",
       "2                 0.05999  ...         23.57          25.53            152.5   \n",
       "\n",
       "   worst area  worst smoothness  worst compactness  worst concavity  \\\n",
       "0      2019.0            0.1622             0.6656           0.7119   \n",
       "1      1956.0            0.1238             0.1866           0.2416   \n",
       "2      1709.0            0.1444             0.4245           0.4504   \n",
       "\n",
       "   worst concave points  worst symmetry  worst fractal dimension  \n",
       "0                0.2654          0.4601                  0.11890  \n",
       "1                0.1860          0.2750                  0.08902  \n",
       "2                0.2430          0.3613                  0.08758  \n",
       "\n",
       "[3 rows x 30 columns]"
      ]
     },
     "execution_count": 58,
     "metadata": {},
     "output_type": "execute_result"
    }
   ],
   "source": [
    "# 다음 코드를 실행하세요\n",
    "import pandas as pd\n",
    "import numpy as np\n",
    "from sklearn.ensemble import VotingClassifier\n",
    "from sklearn.linear_model import LogisticRegression\n",
    "from sklearn.neighbors import KNeighborsClassifier\n",
    "from sklearn.tree import DecisionTreeClassifier\n",
    "from sklearn.datasets import load_breast_cancer\n",
    "from sklearn.model_selection import train_test_split\n",
    "from sklearn.metrics import accuracy_score\n",
    "\n",
    "cancer = load_breast_cancer()\n",
    "cancer_df = pd.DataFrame(cancer.data, columns = cancer.feature_names)\n",
    "cancer_df.head(3)"
   ]
  },
  {
   "cell_type": "markdown",
   "metadata": {
    "id": "_lNYnvibaB7C"
   },
   "source": [
    "### 3-1-1. 로지스틱 회귀와 KNN을 기반으로 한 소프트 보팅 분류기를 생성하시오. (solver = liblinear, n_neighbors=8, random_state = 42) (8점)"
   ]
  },
  {
   "cell_type": "code",
   "execution_count": 61,
   "metadata": {
    "ExecuteTime": {
     "end_time": "2023-09-14T11:35:35.936341Z",
     "start_time": "2023-09-14T11:35:35.906324Z"
    },
    "id": "dYC0G9R8aAuT"
   },
   "outputs": [],
   "source": [
    "lr_clf = LogisticRegression(solver='liblinear')\n",
    "knn_clf = KNeighborsClassifier(n_neighbors=8)\n",
    "dt_clf = DecisionTreeClassifier(random_state=42)\n",
    "\n",
    "vo_clf = VotingClassifier(estimators=[('LR',lr_clf),('KNN',knn_clf),('DT',dt_clf)]\n",
    "                          ,voting='soft')\n",
    "\n",
    "X = cancer.data\n",
    "y = cancer.target\n",
    "X_train, X_test, y_train, y_test = train_test_split(X,y,test_size=0.2,random_state=42)"
   ]
  },
  {
   "cell_type": "markdown",
   "metadata": {
    "id": "Vi1Ht7XfaFGY"
   },
   "source": [
    "### 3-1-2. 보팅 분류기 학습/예측/평가 (fit, predict, accuracy_score 사용, 소숫점 4째짜리 까지 반올림 할 것) (7점)"
   ]
  },
  {
   "cell_type": "code",
   "execution_count": 63,
   "metadata": {
    "ExecuteTime": {
     "end_time": "2023-09-14T11:36:20.596012Z",
     "start_time": "2023-09-14T11:36:20.059483Z"
    },
    "id": "T9scWN7FaHM9"
   },
   "outputs": [
    {
     "data": {
      "text/plain": [
       "0.9737"
      ]
     },
     "execution_count": 63,
     "metadata": {},
     "output_type": "execute_result"
    }
   ],
   "source": [
    "vo_clf.fit(X_train,y_train)\n",
    "np.round(accuracy_score(y_test,vo_clf.predict(X_test)),4)"
   ]
  },
  {
   "cell_type": "markdown",
   "metadata": {
    "id": "S375lFogaJPy"
   },
   "source": [
    "### 3-1-3. 개별 모델 학습/예측/평가(for 반복문 사용) (6점)"
   ]
  },
  {
   "cell_type": "code",
   "execution_count": 64,
   "metadata": {
    "ExecuteTime": {
     "end_time": "2023-09-14T11:37:40.373307Z",
     "start_time": "2023-09-14T11:37:40.286130Z"
    },
    "id": "3Sm4-i9naKGD"
   },
   "outputs": [
    {
     "name": "stdout",
     "output_type": "stream",
     "text": [
      "분류기:LogisticRegression, 정확도:0.9561\n",
      "분류기:KNeighborsClassifier, 정확도:0.9561\n",
      "분류기:DecisionTreeClassifier, 정확도:0.9474\n"
     ]
    }
   ],
   "source": [
    "classifiers = [lr_clf,knn_clf,dt_clf]\n",
    "for classifier in classifiers:\n",
    "    classifier.fit(X_train,y_train)\n",
    "    accuracy = accuracy_score(y_test,classifier.predict(X_test))\n",
    "    \n",
    "    class_name = classifier.__class__.__name__\n",
    "    print('분류기:{}, 정확도:{:.4f}'.format(class_name,accuracy))"
   ]
  },
  {
   "cell_type": "markdown",
   "metadata": {
    "id": "cFp4YEMoaMu8"
   },
   "source": [
    "## 3-2-0. GBM은 가중치 업데이트를 할 때 ()의 방법을 사용합니다. ()안에 들어갈 방법은?(2점)"
   ]
  },
  {
   "cell_type": "code",
   "execution_count": 66,
   "metadata": {
    "ExecuteTime": {
     "end_time": "2023-09-14T11:38:08.506557Z",
     "start_time": "2023-09-14T11:38:08.500955Z"
    },
    "id": "UeEi4OFAaN_-"
   },
   "outputs": [
    {
     "data": {
      "text/plain": [
       "'경사하강법 (Gradient Descent)'"
      ]
     },
     "execution_count": 66,
     "metadata": {},
     "output_type": "execute_result"
    }
   ],
   "source": [
    "'경사하강법 (Gradient Descent)'"
   ]
  },
  {
   "cell_type": "markdown",
   "metadata": {
    "id": "F4ug5ukVaQpH"
   },
   "source": [
    "## 3-2. 파이썬 래퍼 XGBoost"
   ]
  },
  {
   "cell_type": "code",
   "execution_count": 67,
   "metadata": {
    "ExecuteTime": {
     "end_time": "2023-09-14T11:38:23.427912Z",
     "start_time": "2023-09-14T11:38:23.382032Z"
    },
    "id": "YxMUM1ZVaRAZ"
   },
   "outputs": [
    {
     "data": {
      "text/html": [
       "<div>\n",
       "<style scoped>\n",
       "    .dataframe tbody tr th:only-of-type {\n",
       "        vertical-align: middle;\n",
       "    }\n",
       "\n",
       "    .dataframe tbody tr th {\n",
       "        vertical-align: top;\n",
       "    }\n",
       "\n",
       "    .dataframe thead th {\n",
       "        text-align: right;\n",
       "    }\n",
       "</style>\n",
       "<table border=\"1\" class=\"dataframe\">\n",
       "  <thead>\n",
       "    <tr style=\"text-align: right;\">\n",
       "      <th></th>\n",
       "      <th>mean radius</th>\n",
       "      <th>mean texture</th>\n",
       "      <th>mean perimeter</th>\n",
       "      <th>mean area</th>\n",
       "      <th>mean smoothness</th>\n",
       "      <th>mean compactness</th>\n",
       "      <th>mean concavity</th>\n",
       "      <th>mean concave points</th>\n",
       "      <th>mean symmetry</th>\n",
       "      <th>mean fractal dimension</th>\n",
       "      <th>...</th>\n",
       "      <th>worst texture</th>\n",
       "      <th>worst perimeter</th>\n",
       "      <th>worst area</th>\n",
       "      <th>worst smoothness</th>\n",
       "      <th>worst compactness</th>\n",
       "      <th>worst concavity</th>\n",
       "      <th>worst concave points</th>\n",
       "      <th>worst symmetry</th>\n",
       "      <th>worst fractal dimension</th>\n",
       "      <th>target</th>\n",
       "    </tr>\n",
       "  </thead>\n",
       "  <tbody>\n",
       "    <tr>\n",
       "      <th>0</th>\n",
       "      <td>17.99</td>\n",
       "      <td>10.38</td>\n",
       "      <td>122.8</td>\n",
       "      <td>1001.0</td>\n",
       "      <td>0.11840</td>\n",
       "      <td>0.27760</td>\n",
       "      <td>0.3001</td>\n",
       "      <td>0.14710</td>\n",
       "      <td>0.2419</td>\n",
       "      <td>0.07871</td>\n",
       "      <td>...</td>\n",
       "      <td>17.33</td>\n",
       "      <td>184.6</td>\n",
       "      <td>2019.0</td>\n",
       "      <td>0.1622</td>\n",
       "      <td>0.6656</td>\n",
       "      <td>0.7119</td>\n",
       "      <td>0.2654</td>\n",
       "      <td>0.4601</td>\n",
       "      <td>0.11890</td>\n",
       "      <td>0</td>\n",
       "    </tr>\n",
       "    <tr>\n",
       "      <th>1</th>\n",
       "      <td>20.57</td>\n",
       "      <td>17.77</td>\n",
       "      <td>132.9</td>\n",
       "      <td>1326.0</td>\n",
       "      <td>0.08474</td>\n",
       "      <td>0.07864</td>\n",
       "      <td>0.0869</td>\n",
       "      <td>0.07017</td>\n",
       "      <td>0.1812</td>\n",
       "      <td>0.05667</td>\n",
       "      <td>...</td>\n",
       "      <td>23.41</td>\n",
       "      <td>158.8</td>\n",
       "      <td>1956.0</td>\n",
       "      <td>0.1238</td>\n",
       "      <td>0.1866</td>\n",
       "      <td>0.2416</td>\n",
       "      <td>0.1860</td>\n",
       "      <td>0.2750</td>\n",
       "      <td>0.08902</td>\n",
       "      <td>0</td>\n",
       "    </tr>\n",
       "    <tr>\n",
       "      <th>2</th>\n",
       "      <td>19.69</td>\n",
       "      <td>21.25</td>\n",
       "      <td>130.0</td>\n",
       "      <td>1203.0</td>\n",
       "      <td>0.10960</td>\n",
       "      <td>0.15990</td>\n",
       "      <td>0.1974</td>\n",
       "      <td>0.12790</td>\n",
       "      <td>0.2069</td>\n",
       "      <td>0.05999</td>\n",
       "      <td>...</td>\n",
       "      <td>25.53</td>\n",
       "      <td>152.5</td>\n",
       "      <td>1709.0</td>\n",
       "      <td>0.1444</td>\n",
       "      <td>0.4245</td>\n",
       "      <td>0.4504</td>\n",
       "      <td>0.2430</td>\n",
       "      <td>0.3613</td>\n",
       "      <td>0.08758</td>\n",
       "      <td>0</td>\n",
       "    </tr>\n",
       "  </tbody>\n",
       "</table>\n",
       "<p>3 rows × 31 columns</p>\n",
       "</div>"
      ],
      "text/plain": [
       "   mean radius  mean texture  mean perimeter  mean area  mean smoothness  \\\n",
       "0        17.99         10.38           122.8     1001.0          0.11840   \n",
       "1        20.57         17.77           132.9     1326.0          0.08474   \n",
       "2        19.69         21.25           130.0     1203.0          0.10960   \n",
       "\n",
       "   mean compactness  mean concavity  mean concave points  mean symmetry  \\\n",
       "0           0.27760          0.3001              0.14710         0.2419   \n",
       "1           0.07864          0.0869              0.07017         0.1812   \n",
       "2           0.15990          0.1974              0.12790         0.2069   \n",
       "\n",
       "   mean fractal dimension  ...  worst texture  worst perimeter  worst area  \\\n",
       "0                 0.07871  ...          17.33            184.6      2019.0   \n",
       "1                 0.05667  ...          23.41            158.8      1956.0   \n",
       "2                 0.05999  ...          25.53            152.5      1709.0   \n",
       "\n",
       "   worst smoothness  worst compactness  worst concavity  worst concave points  \\\n",
       "0            0.1622             0.6656           0.7119                0.2654   \n",
       "1            0.1238             0.1866           0.2416                0.1860   \n",
       "2            0.1444             0.4245           0.4504                0.2430   \n",
       "\n",
       "   worst symmetry  worst fractal dimension  target  \n",
       "0          0.4601                  0.11890       0  \n",
       "1          0.2750                  0.08902       0  \n",
       "2          0.3613                  0.08758       0  \n",
       "\n",
       "[3 rows x 31 columns]"
      ]
     },
     "execution_count": 67,
     "metadata": {},
     "output_type": "execute_result"
    }
   ],
   "source": [
    "import xgboost as xgb\n",
    "from xgboost import plot_importance\n",
    "import pandas as pd\n",
    "import numpy as np\n",
    "from sklearn.datasets import load_breast_cancer\n",
    "from sklearn.model_selection import train_test_split\n",
    "import warnings\n",
    "warnings.filterwarnings('ignore')\n",
    "\n",
    "dataset = load_breast_cancer()\n",
    "X_features= dataset.data\n",
    "y_label = dataset.target\n",
    "\n",
    "cancer_df = pd.DataFrame(data=X_features, columns=dataset.feature_names)\n",
    "cancer_df['target']= y_label\n",
    "cancer_df.head(3)\n"
   ]
  },
  {
   "cell_type": "markdown",
   "metadata": {
    "id": "RPpSv8mlaV4W"
   },
   "source": [
    "### 3-2-1. 전체 데이터 중 80%는 학습용 데이터, 20%는 테스트용 데이터로 추출하고, 만든 train 데이터를 다시 쪼개서 90%는 학습용 데이터, 10%는 검증용 데이터로 분리하세요 (random_state = 156)(8점)"
   ]
  },
  {
   "cell_type": "code",
   "execution_count": 68,
   "metadata": {
    "ExecuteTime": {
     "end_time": "2023-09-14T11:39:22.006625Z",
     "start_time": "2023-09-14T11:39:21.990434Z"
    },
    "id": "xHMUhoHJaW25"
   },
   "outputs": [],
   "source": [
    "# cancer_df에서 feature용 DataFrame과 Label용 Series 객체 추출\n",
    "# 맨 마지막 컬럼이 Label임. Feature용 DataFrame은 cancer_df의 첫번째 칼럼에서 맨 마지막 두번째 칼럼까지를 :-1 슬라이싱으로 추출.\n",
    "X_features = cancer_df.iloc[:, :-1]\n",
    "y_label = cancer_df.iloc[:, -1]\n",
    "\n",
    "# 전체 데이터 중 80%는 학습용 데이터, 20%는 테스트용 데이터 추출\n",
    "X_train,X_test,y_train,y_test = train_test_split(X_features,y_label,test_size=0.2,random_state=156)\n",
    "\n",
    "# 위에서 만든 X_train, y_train을 다시 쪼개서 90%는 학습과 10%는 검증용 데이터로 분리\n",
    "# 변수 명은 X_tr, X_val, y_tr, y_val로 할 것\n",
    "X_tr, X_val, y_tr, y_val = train_test_split(X_train,y_train,test_size=0.1,random_state=156)"
   ]
  },
  {
   "cell_type": "markdown",
   "metadata": {
    "id": "ITt-AdfIaY-3"
   },
   "source": [
    "### 3-2-2. 만든 X_train, X_test, X_tr, X_val의 shape를 확인해주세요(2점)"
   ]
  },
  {
   "cell_type": "code",
   "execution_count": 69,
   "metadata": {
    "ExecuteTime": {
     "end_time": "2023-09-14T11:39:44.617777Z",
     "start_time": "2023-09-14T11:39:44.602691Z"
    },
    "id": "EnT98k1kaaDE"
   },
   "outputs": [
    {
     "name": "stdout",
     "output_type": "stream",
     "text": [
      "(455, 30)\n",
      "(114, 30)\n",
      "(409, 30)\n",
      "(46, 30)\n"
     ]
    }
   ],
   "source": [
    "print(X_train.shape)\n",
    "print(X_test.shape)\n",
    "print(X_tr.shape)\n",
    "print(X_val.shape)"
   ]
  },
  {
   "cell_type": "markdown",
   "metadata": {
    "id": "jT_K1hzhabLe"
   },
   "source": [
    "### 3-2-3. 학습, 검증, 테스트용 DMatrix를 생성하세요(3점)"
   ]
  },
  {
   "cell_type": "code",
   "execution_count": 70,
   "metadata": {
    "ExecuteTime": {
     "end_time": "2023-09-14T11:40:22.799810Z",
     "start_time": "2023-09-14T11:40:22.768967Z"
    },
    "id": "xuvf9xiBab4i"
   },
   "outputs": [],
   "source": [
    "# 학습, 검증, 테스트용 DMatrix를 생성.\n",
    "dtr = xgb.DMatrix(data=X_tr,label=y_tr)\n",
    "dval = xgb.DMatrix(data=X_val,label=y_val)\n",
    "dtest = xgb.DMatrix(data=X_test,label=y_test)"
   ]
  },
  {
   "cell_type": "markdown",
   "metadata": {
    "id": "R5gVVTjiaeSK"
   },
   "source": [
    "### 3-2-4. early_stopping_rounds의 값을 50으로 선정해서 모델이 정확하게 조기 중단하였는지 확인해주세요(2점)"
   ]
  },
  {
   "cell_type": "code",
   "execution_count": 72,
   "metadata": {
    "ExecuteTime": {
     "end_time": "2023-09-14T11:41:21.186472Z",
     "start_time": "2023-09-14T11:41:20.798403Z"
    },
    "id": "ZW42IgOgaekE"
   },
   "outputs": [
    {
     "name": "stdout",
     "output_type": "stream",
     "text": [
      "[0]\ttrain-logloss:0.65016\teval-logloss:0.66183\n",
      "[1]\ttrain-logloss:0.61131\teval-logloss:0.63609\n",
      "[2]\ttrain-logloss:0.57563\teval-logloss:0.61144\n",
      "[3]\ttrain-logloss:0.54310\teval-logloss:0.59204\n",
      "[4]\ttrain-logloss:0.51323\teval-logloss:0.57329\n",
      "[5]\ttrain-logloss:0.48447\teval-logloss:0.55037\n",
      "[6]\ttrain-logloss:0.45796\teval-logloss:0.52930\n",
      "[7]\ttrain-logloss:0.43436\teval-logloss:0.51534\n",
      "[8]\ttrain-logloss:0.41150\teval-logloss:0.49718\n",
      "[9]\ttrain-logloss:0.39027\teval-logloss:0.48154\n",
      "[10]\ttrain-logloss:0.37128\teval-logloss:0.46990\n",
      "[11]\ttrain-logloss:0.35254\teval-logloss:0.45474\n",
      "[12]\ttrain-logloss:0.33528\teval-logloss:0.44229\n",
      "[13]\ttrain-logloss:0.31892\teval-logloss:0.42961\n",
      "[14]\ttrain-logloss:0.30439\teval-logloss:0.42065\n",
      "[15]\ttrain-logloss:0.29000\teval-logloss:0.40958\n",
      "[16]\ttrain-logloss:0.27651\teval-logloss:0.39887\n",
      "[17]\ttrain-logloss:0.26389\teval-logloss:0.39050\n",
      "[18]\ttrain-logloss:0.25210\teval-logloss:0.38254\n",
      "[19]\ttrain-logloss:0.24123\teval-logloss:0.37393\n",
      "[20]\ttrain-logloss:0.23076\teval-logloss:0.36789\n",
      "[21]\ttrain-logloss:0.22091\teval-logloss:0.36017\n",
      "[22]\ttrain-logloss:0.21155\teval-logloss:0.35421\n",
      "[23]\ttrain-logloss:0.20263\teval-logloss:0.34683\n",
      "[24]\ttrain-logloss:0.19434\teval-logloss:0.34111\n",
      "[25]\ttrain-logloss:0.18637\teval-logloss:0.33634\n",
      "[26]\ttrain-logloss:0.17875\teval-logloss:0.33082\n",
      "[27]\ttrain-logloss:0.17167\teval-logloss:0.32675\n",
      "[28]\ttrain-logloss:0.16481\teval-logloss:0.32099\n",
      "[29]\ttrain-logloss:0.15835\teval-logloss:0.31671\n",
      "[30]\ttrain-logloss:0.15225\teval-logloss:0.31277\n",
      "[31]\ttrain-logloss:0.14650\teval-logloss:0.30882\n",
      "[32]\ttrain-logloss:0.14102\teval-logloss:0.30437\n",
      "[33]\ttrain-logloss:0.13590\teval-logloss:0.30103\n",
      "[34]\ttrain-logloss:0.13109\teval-logloss:0.29794\n",
      "[35]\ttrain-logloss:0.12647\teval-logloss:0.29499\n",
      "[36]\ttrain-logloss:0.12197\teval-logloss:0.29295\n",
      "[37]\ttrain-logloss:0.11784\teval-logloss:0.29043\n",
      "[38]\ttrain-logloss:0.11379\teval-logloss:0.28927\n",
      "[39]\ttrain-logloss:0.10994\teval-logloss:0.28578\n",
      "[40]\ttrain-logloss:0.10638\teval-logloss:0.28364\n",
      "[41]\ttrain-logloss:0.10302\teval-logloss:0.28183\n",
      "[42]\ttrain-logloss:0.09963\teval-logloss:0.28005\n",
      "[43]\ttrain-logloss:0.09649\teval-logloss:0.27972\n",
      "[44]\ttrain-logloss:0.09359\teval-logloss:0.27744\n",
      "[45]\ttrain-logloss:0.09080\teval-logloss:0.27542\n",
      "[46]\ttrain-logloss:0.08807\teval-logloss:0.27504\n",
      "[47]\ttrain-logloss:0.08541\teval-logloss:0.27458\n",
      "[48]\ttrain-logloss:0.08299\teval-logloss:0.27348\n",
      "[49]\ttrain-logloss:0.08035\teval-logloss:0.27247\n",
      "[50]\ttrain-logloss:0.07786\teval-logloss:0.27163\n",
      "[51]\ttrain-logloss:0.07550\teval-logloss:0.27094\n",
      "[52]\ttrain-logloss:0.07344\teval-logloss:0.26967\n",
      "[53]\ttrain-logloss:0.07147\teval-logloss:0.27008\n",
      "[54]\ttrain-logloss:0.06964\teval-logloss:0.26890\n",
      "[55]\ttrain-logloss:0.06766\teval-logloss:0.26854\n",
      "[56]\ttrain-logloss:0.06591\teval-logloss:0.26900\n",
      "[57]\ttrain-logloss:0.06433\teval-logloss:0.26790\n",
      "[58]\ttrain-logloss:0.06259\teval-logloss:0.26663\n",
      "[59]\ttrain-logloss:0.06107\teval-logloss:0.26743\n",
      "[60]\ttrain-logloss:0.05957\teval-logloss:0.26610\n",
      "[61]\ttrain-logloss:0.05817\teval-logloss:0.26644\n",
      "[62]\ttrain-logloss:0.05691\teval-logloss:0.26673\n",
      "[63]\ttrain-logloss:0.05550\teval-logloss:0.26550\n",
      "[64]\ttrain-logloss:0.05422\teval-logloss:0.26443\n",
      "[65]\ttrain-logloss:0.05311\teval-logloss:0.26500\n",
      "[66]\ttrain-logloss:0.05207\teval-logloss:0.26591\n",
      "[67]\ttrain-logloss:0.05093\teval-logloss:0.26501\n",
      "[68]\ttrain-logloss:0.04976\teval-logloss:0.26435\n",
      "[69]\ttrain-logloss:0.04872\teval-logloss:0.26360\n",
      "[70]\ttrain-logloss:0.04776\teval-logloss:0.26319\n",
      "[71]\ttrain-logloss:0.04680\teval-logloss:0.26255\n",
      "[72]\ttrain-logloss:0.04580\teval-logloss:0.26204\n",
      "[73]\ttrain-logloss:0.04484\teval-logloss:0.26254\n",
      "[74]\ttrain-logloss:0.04388\teval-logloss:0.26289\n",
      "[75]\ttrain-logloss:0.04309\teval-logloss:0.26249\n",
      "[76]\ttrain-logloss:0.04224\teval-logloss:0.26217\n",
      "[77]\ttrain-logloss:0.04133\teval-logloss:0.26166\n",
      "[78]\ttrain-logloss:0.04050\teval-logloss:0.26179\n",
      "[79]\ttrain-logloss:0.03967\teval-logloss:0.26103\n",
      "[80]\ttrain-logloss:0.03876\teval-logloss:0.26094\n",
      "[81]\ttrain-logloss:0.03806\teval-logloss:0.26148\n",
      "[82]\ttrain-logloss:0.03740\teval-logloss:0.26054\n",
      "[83]\ttrain-logloss:0.03676\teval-logloss:0.25967\n",
      "[84]\ttrain-logloss:0.03605\teval-logloss:0.25905\n",
      "[85]\ttrain-logloss:0.03545\teval-logloss:0.26007\n",
      "[86]\ttrain-logloss:0.03489\teval-logloss:0.25984\n",
      "[87]\ttrain-logloss:0.03425\teval-logloss:0.25933\n",
      "[88]\ttrain-logloss:0.03361\teval-logloss:0.25932\n",
      "[89]\ttrain-logloss:0.03311\teval-logloss:0.26002\n",
      "[90]\ttrain-logloss:0.03260\teval-logloss:0.25936\n",
      "[91]\ttrain-logloss:0.03202\teval-logloss:0.25886\n",
      "[92]\ttrain-logloss:0.03152\teval-logloss:0.25918\n",
      "[93]\ttrain-logloss:0.03107\teval-logloss:0.25864\n",
      "[94]\ttrain-logloss:0.03049\teval-logloss:0.25951\n",
      "[95]\ttrain-logloss:0.03007\teval-logloss:0.26091\n",
      "[96]\ttrain-logloss:0.02963\teval-logloss:0.26014\n",
      "[97]\ttrain-logloss:0.02913\teval-logloss:0.25974\n",
      "[98]\ttrain-logloss:0.02866\teval-logloss:0.25937\n",
      "[99]\ttrain-logloss:0.02829\teval-logloss:0.25893\n",
      "[100]\ttrain-logloss:0.02789\teval-logloss:0.25928\n",
      "[101]\ttrain-logloss:0.02751\teval-logloss:0.25955\n",
      "[102]\ttrain-logloss:0.02714\teval-logloss:0.25901\n",
      "[103]\ttrain-logloss:0.02668\teval-logloss:0.25991\n",
      "[104]\ttrain-logloss:0.02634\teval-logloss:0.25950\n",
      "[105]\ttrain-logloss:0.02594\teval-logloss:0.25924\n",
      "[106]\ttrain-logloss:0.02556\teval-logloss:0.25901\n",
      "[107]\ttrain-logloss:0.02522\teval-logloss:0.25738\n",
      "[108]\ttrain-logloss:0.02492\teval-logloss:0.25702\n",
      "[109]\ttrain-logloss:0.02453\teval-logloss:0.25789\n",
      "[110]\ttrain-logloss:0.02418\teval-logloss:0.25770\n",
      "[111]\ttrain-logloss:0.02384\teval-logloss:0.25842\n",
      "[112]\ttrain-logloss:0.02356\teval-logloss:0.25810\n",
      "[113]\ttrain-logloss:0.02322\teval-logloss:0.25848\n",
      "[114]\ttrain-logloss:0.02290\teval-logloss:0.25833\n",
      "[115]\ttrain-logloss:0.02260\teval-logloss:0.25820\n",
      "[116]\ttrain-logloss:0.02229\teval-logloss:0.25905\n",
      "[117]\ttrain-logloss:0.02204\teval-logloss:0.25878\n",
      "[118]\ttrain-logloss:0.02176\teval-logloss:0.25728\n",
      "[119]\ttrain-logloss:0.02149\teval-logloss:0.25722\n",
      "[120]\ttrain-logloss:0.02119\teval-logloss:0.25764\n",
      "[121]\ttrain-logloss:0.02095\teval-logloss:0.25761\n",
      "[122]\ttrain-logloss:0.02067\teval-logloss:0.25832\n",
      "[123]\ttrain-logloss:0.02045\teval-logloss:0.25808\n",
      "[124]\ttrain-logloss:0.02023\teval-logloss:0.25855\n",
      "[125]\ttrain-logloss:0.01998\teval-logloss:0.25714\n",
      "[126]\ttrain-logloss:0.01973\teval-logloss:0.25587\n",
      "[127]\ttrain-logloss:0.01946\teval-logloss:0.25640\n",
      "[128]\ttrain-logloss:0.01927\teval-logloss:0.25685\n",
      "[129]\ttrain-logloss:0.01908\teval-logloss:0.25665\n",
      "[130]\ttrain-logloss:0.01886\teval-logloss:0.25712\n",
      "[131]\ttrain-logloss:0.01863\teval-logloss:0.25609\n",
      "[132]\ttrain-logloss:0.01839\teval-logloss:0.25649\n",
      "[133]\ttrain-logloss:0.01816\teval-logloss:0.25789\n",
      "[134]\ttrain-logloss:0.01802\teval-logloss:0.25811\n",
      "[135]\ttrain-logloss:0.01785\teval-logloss:0.25794\n",
      "[136]\ttrain-logloss:0.01763\teval-logloss:0.25876\n",
      "[137]\ttrain-logloss:0.01748\teval-logloss:0.25884\n",
      "[138]\ttrain-logloss:0.01732\teval-logloss:0.25867\n",
      "[139]\ttrain-logloss:0.01719\teval-logloss:0.25876\n",
      "[140]\ttrain-logloss:0.01696\teval-logloss:0.25987\n",
      "[141]\ttrain-logloss:0.01681\teval-logloss:0.25960\n",
      "[142]\ttrain-logloss:0.01669\teval-logloss:0.25982\n",
      "[143]\ttrain-logloss:0.01656\teval-logloss:0.25992\n",
      "[144]\ttrain-logloss:0.01638\teval-logloss:0.26035\n",
      "[145]\ttrain-logloss:0.01623\teval-logloss:0.26055\n",
      "[146]\ttrain-logloss:0.01606\teval-logloss:0.26092\n",
      "[147]\ttrain-logloss:0.01589\teval-logloss:0.26137\n",
      "[148]\ttrain-logloss:0.01572\teval-logloss:0.25999\n",
      "[149]\ttrain-logloss:0.01556\teval-logloss:0.26028\n",
      "[150]\ttrain-logloss:0.01546\teval-logloss:0.26048\n",
      "[151]\ttrain-logloss:0.01531\teval-logloss:0.26142\n",
      "[152]\ttrain-logloss:0.01515\teval-logloss:0.26188\n",
      "[153]\ttrain-logloss:0.01501\teval-logloss:0.26227\n",
      "[154]\ttrain-logloss:0.01486\teval-logloss:0.26287\n",
      "[155]\ttrain-logloss:0.01476\teval-logloss:0.26299\n",
      "[156]\ttrain-logloss:0.01462\teval-logloss:0.26346\n",
      "[157]\ttrain-logloss:0.01448\teval-logloss:0.26379\n",
      "[158]\ttrain-logloss:0.01434\teval-logloss:0.26306\n",
      "[159]\ttrain-logloss:0.01424\teval-logloss:0.26237\n",
      "[160]\ttrain-logloss:0.01410\teval-logloss:0.26251\n",
      "[161]\ttrain-logloss:0.01401\teval-logloss:0.26265\n",
      "[162]\ttrain-logloss:0.01392\teval-logloss:0.26264\n",
      "[163]\ttrain-logloss:0.01380\teval-logloss:0.26250\n",
      "[164]\ttrain-logloss:0.01372\teval-logloss:0.26264\n",
      "[165]\ttrain-logloss:0.01359\teval-logloss:0.26255\n",
      "[166]\ttrain-logloss:0.01350\teval-logloss:0.26188\n",
      "[167]\ttrain-logloss:0.01342\teval-logloss:0.26203\n",
      "[168]\ttrain-logloss:0.01331\teval-logloss:0.26190\n",
      "[169]\ttrain-logloss:0.01319\teval-logloss:0.26184\n"
     ]
    },
    {
     "name": "stdout",
     "output_type": "stream",
     "text": [
      "[170]\ttrain-logloss:0.01312\teval-logloss:0.26133\n",
      "[171]\ttrain-logloss:0.01304\teval-logloss:0.26148\n",
      "[172]\ttrain-logloss:0.01297\teval-logloss:0.26157\n",
      "[173]\ttrain-logloss:0.01285\teval-logloss:0.26253\n",
      "[174]\ttrain-logloss:0.01278\teval-logloss:0.26229\n",
      "[175]\ttrain-logloss:0.01267\teval-logloss:0.26086\n",
      "[176]\ttrain-logloss:0.01258\teval-logloss:0.26103\n"
     ]
    }
   ],
   "source": [
    "params = { 'max_depth':3,\n",
    "          'eta': 0.05,\n",
    "          'objective':'binary:logistic',\n",
    "          'eval_metric':'logloss'\n",
    "         }\n",
    "num_rounds = 400\n",
    "\n",
    "# 학습 데이터 셋은 'train' 또는 평가 데이터 셋은 'eval' 로 명기합니다.\n",
    "eval_list = [(dtr,'train'),(dval,'eval')] # 또는 eval_list = [(dval,'eval')] 만 명기해도 무방.\n",
    "\n",
    "# 하이퍼 파라미터와 early stopping 파라미터를 train( ) 함수의 파라미터로 전달\n",
    "xgb_model = xgb.train(params = params , dtrain=dtr , num_boost_round=num_rounds ,\n",
    "                      early_stopping_rounds= 50 , evals=eval_list)"
   ]
  },
  {
   "cell_type": "markdown",
   "metadata": {
    "id": "x_Kn88vyaind"
   },
   "source": [
    "### 3-2-5. get_clf_eval() 함수를 이용해서 오차 행렬, 정확도, 정밀도, 재현율, F1 score, AUC score를 확인해주세요(2점)"
   ]
  },
  {
   "cell_type": "code",
   "execution_count": 73,
   "metadata": {
    "ExecuteTime": {
     "end_time": "2023-09-14T11:41:54.919906Z",
     "start_time": "2023-09-14T11:41:54.911898Z"
    },
    "id": "73aVXtfpajX0"
   },
   "outputs": [],
   "source": [
    "from sklearn.metrics import confusion_matrix, accuracy_score\n",
    "from sklearn.metrics import precision_score, recall_score\n",
    "from sklearn.metrics import f1_score, roc_auc_score\n",
    "\n",
    "pred_probs = xgb_model.predict(dtest)\n",
    "preds = [ 1 if x > 0.5 else 0 for x in pred_probs ]\n",
    "\n",
    "def get_clf_eval(y_test, pred=None, pred_proba=None):\n",
    "    confusion = confusion_matrix( y_test, pred)\n",
    "    accuracy = accuracy_score(y_test , pred)\n",
    "    precision = precision_score(y_test , pred)\n",
    "    recall = recall_score(y_test , pred)\n",
    "    f1 = f1_score(y_test,pred)\n",
    "    # ROC-AUC 추가\n",
    "    roc_auc = roc_auc_score(y_test, pred_proba)\n",
    "    print('오차 행렬')\n",
    "    print(confusion)\n",
    "    # ROC-AUC print 추가\n",
    "    print('정확도: {0:.4f}, 정밀도: {1:.4f}, 재현율: {2:.4f},\\\n",
    "    F1: {3:.4f}, AUC:{4:.4f}'.format(accuracy, precision, recall, f1, roc_auc))"
   ]
  },
  {
   "cell_type": "code",
   "execution_count": 74,
   "metadata": {
    "ExecuteTime": {
     "end_time": "2023-09-14T11:42:22.657790Z",
     "start_time": "2023-09-14T11:42:22.635139Z"
    },
    "id": "sycfXtNEalw2"
   },
   "outputs": [
    {
     "name": "stdout",
     "output_type": "stream",
     "text": [
      "오차 행렬\n",
      "[[34  3]\n",
      " [ 2 75]]\n",
      "정확도: 0.9561, 정밀도: 0.9615, 재현율: 0.9740,    F1: 0.9677, AUC:0.9937\n"
     ]
    }
   ],
   "source": [
    "# get_clf_eval() 함수 사용\n",
    "get_clf_eval(y_test,preds,pred_probs)"
   ]
  },
  {
   "cell_type": "markdown",
   "metadata": {
    "id": "k4eKXRMBalg7"
   },
   "source": [
    "### 3-2-6. plot_importance() 함수로 Feature importance를 확인해주세요(2점)"
   ]
  },
  {
   "cell_type": "code",
   "execution_count": 75,
   "metadata": {
    "ExecuteTime": {
     "end_time": "2023-09-14T11:43:16.460240Z",
     "start_time": "2023-09-14T11:43:15.950178Z"
    },
    "id": "66mRys7Dan4D"
   },
   "outputs": [
    {
     "data": {
      "text/plain": [
       "<Axes: title={'center': 'Feature importance'}, xlabel='F score', ylabel='Features'>"
      ]
     },
     "execution_count": 75,
     "metadata": {},
     "output_type": "execute_result"
    },
    {
     "data": {
      "image/png": "[encoded data removed]",
      "text/plain": [
       "<Figure size 1200x1000 with 1 Axes>"
      ]
     },
     "metadata": {},
     "output_type": "display_data"
    }
   ],
   "source": [
    "import matplotlib.pyplot as plt\n",
    "%matplotlib inline\n",
    "fig,ax = plt.subplots(figsize=(12,10))\n",
    "# plot_importance() 함수 사용\n",
    "plot_importance(xgb_model,ax=ax)"
   ]
  },
  {
   "cell_type": "markdown",
   "metadata": {
    "id": "-IP_wXRVapsp"
   },
   "source": [
    "## 3-3. 사이킷런 래퍼 XGBoost 적용 (파라미터명의 변화를 주의해주세요)"
   ]
  },
  {
   "cell_type": "markdown",
   "metadata": {
    "id": "RFenrmASasOk"
   },
   "source": [
    "### 3-3-1. early_stopping_rounds의 값을 100 -> 10으로 설정하면서 get_clf_eval() 함수를 이용해 정확도 값의 변화를 확인해주세요(4점)"
   ]
  },
  {
   "cell_type": "code",
   "execution_count": 76,
   "metadata": {
    "ExecuteTime": {
     "end_time": "2023-09-14T11:43:38.997241Z",
     "start_time": "2023-09-14T11:43:38.421346Z"
    },
    "id": "mD1fXIfuaqiL"
   },
   "outputs": [
    {
     "name": "stdout",
     "output_type": "stream",
     "text": [
      "[0]\tvalidation_0-logloss:0.61352\n",
      "[1]\tvalidation_0-logloss:0.54784\n",
      "[2]\tvalidation_0-logloss:0.49425\n",
      "[3]\tvalidation_0-logloss:0.44799\n",
      "[4]\tvalidation_0-logloss:0.40911\n",
      "[5]\tvalidation_0-logloss:0.37498\n",
      "[6]\tvalidation_0-logloss:0.34571\n",
      "[7]\tvalidation_0-logloss:0.32053\n",
      "[8]\tvalidation_0-logloss:0.29721\n",
      "[9]\tvalidation_0-logloss:0.27799\n",
      "[10]\tvalidation_0-logloss:0.26030\n",
      "[11]\tvalidation_0-logloss:0.24604\n",
      "[12]\tvalidation_0-logloss:0.23156\n",
      "[13]\tvalidation_0-logloss:0.22005\n",
      "[14]\tvalidation_0-logloss:0.20857\n",
      "[15]\tvalidation_0-logloss:0.19999\n",
      "[16]\tvalidation_0-logloss:0.19012\n",
      "[17]\tvalidation_0-logloss:0.18182\n",
      "[18]\tvalidation_0-logloss:0.17473\n",
      "[19]\tvalidation_0-logloss:0.16766\n",
      "[20]\tvalidation_0-logloss:0.15820\n",
      "[21]\tvalidation_0-logloss:0.15472\n",
      "[22]\tvalidation_0-logloss:0.14895\n",
      "[23]\tvalidation_0-logloss:0.14331\n",
      "[24]\tvalidation_0-logloss:0.13634\n",
      "[25]\tvalidation_0-logloss:0.13278\n",
      "[26]\tvalidation_0-logloss:0.12791\n",
      "[27]\tvalidation_0-logloss:0.12526\n",
      "[28]\tvalidation_0-logloss:0.11998\n",
      "[29]\tvalidation_0-logloss:0.11641\n",
      "[30]\tvalidation_0-logloss:0.11450\n",
      "[31]\tvalidation_0-logloss:0.11257\n",
      "[32]\tvalidation_0-logloss:0.11154\n",
      "[33]\tvalidation_0-logloss:0.10868\n",
      "[34]\tvalidation_0-logloss:0.10668\n",
      "[35]\tvalidation_0-logloss:0.10421\n",
      "[36]\tvalidation_0-logloss:0.10296\n",
      "[37]\tvalidation_0-logloss:0.10058\n",
      "[38]\tvalidation_0-logloss:0.09868\n",
      "[39]\tvalidation_0-logloss:0.09644\n",
      "[40]\tvalidation_0-logloss:0.09587\n",
      "[41]\tvalidation_0-logloss:0.09424\n",
      "[42]\tvalidation_0-logloss:0.09471\n",
      "[43]\tvalidation_0-logloss:0.09427\n",
      "[44]\tvalidation_0-logloss:0.09389\n",
      "[45]\tvalidation_0-logloss:0.09418\n",
      "[46]\tvalidation_0-logloss:0.09402\n",
      "[47]\tvalidation_0-logloss:0.09236\n",
      "[48]\tvalidation_0-logloss:0.09301\n",
      "[49]\tvalidation_0-logloss:0.09127\n",
      "[50]\tvalidation_0-logloss:0.09005\n",
      "[51]\tvalidation_0-logloss:0.08961\n",
      "[52]\tvalidation_0-logloss:0.08958\n",
      "[53]\tvalidation_0-logloss:0.09070\n",
      "[54]\tvalidation_0-logloss:0.08958\n",
      "[55]\tvalidation_0-logloss:0.09036\n",
      "[56]\tvalidation_0-logloss:0.09159\n",
      "[57]\tvalidation_0-logloss:0.09153\n",
      "[58]\tvalidation_0-logloss:0.09199\n",
      "[59]\tvalidation_0-logloss:0.09195\n",
      "[60]\tvalidation_0-logloss:0.09194\n",
      "[61]\tvalidation_0-logloss:0.09146\n",
      "[62]\tvalidation_0-logloss:0.09031\n",
      "[63]\tvalidation_0-logloss:0.08941\n",
      "[64]\tvalidation_0-logloss:0.08972\n",
      "[65]\tvalidation_0-logloss:0.08974\n",
      "[66]\tvalidation_0-logloss:0.08962\n",
      "[67]\tvalidation_0-logloss:0.08873\n",
      "[68]\tvalidation_0-logloss:0.08862\n",
      "[69]\tvalidation_0-logloss:0.08974\n",
      "[70]\tvalidation_0-logloss:0.08998\n",
      "[71]\tvalidation_0-logloss:0.08978\n",
      "[72]\tvalidation_0-logloss:0.08958\n",
      "[73]\tvalidation_0-logloss:0.08953\n",
      "[74]\tvalidation_0-logloss:0.08875\n",
      "[75]\tvalidation_0-logloss:0.08860\n",
      "[76]\tvalidation_0-logloss:0.08812\n",
      "[77]\tvalidation_0-logloss:0.08840\n",
      "[78]\tvalidation_0-logloss:0.08874\n",
      "[79]\tvalidation_0-logloss:0.08815\n",
      "[80]\tvalidation_0-logloss:0.08758\n",
      "[81]\tvalidation_0-logloss:0.08741\n",
      "[82]\tvalidation_0-logloss:0.08849\n",
      "[83]\tvalidation_0-logloss:0.08857\n",
      "[84]\tvalidation_0-logloss:0.08807\n",
      "[85]\tvalidation_0-logloss:0.08764\n",
      "[86]\tvalidation_0-logloss:0.08742\n",
      "[87]\tvalidation_0-logloss:0.08761\n",
      "[88]\tvalidation_0-logloss:0.08707\n",
      "[89]\tvalidation_0-logloss:0.08727\n",
      "[90]\tvalidation_0-logloss:0.08716\n",
      "[91]\tvalidation_0-logloss:0.08696\n",
      "[92]\tvalidation_0-logloss:0.08717\n",
      "[93]\tvalidation_0-logloss:0.08707\n",
      "[94]\tvalidation_0-logloss:0.08659\n",
      "[95]\tvalidation_0-logloss:0.08612\n",
      "[96]\tvalidation_0-logloss:0.08714\n",
      "[97]\tvalidation_0-logloss:0.08677\n",
      "[98]\tvalidation_0-logloss:0.08669\n",
      "[99]\tvalidation_0-logloss:0.08655\n",
      "[100]\tvalidation_0-logloss:0.08650\n",
      "[101]\tvalidation_0-logloss:0.08641\n",
      "[102]\tvalidation_0-logloss:0.08629\n",
      "[103]\tvalidation_0-logloss:0.08626\n",
      "[104]\tvalidation_0-logloss:0.08683\n",
      "[105]\tvalidation_0-logloss:0.08677\n",
      "[106]\tvalidation_0-logloss:0.08732\n",
      "[107]\tvalidation_0-logloss:0.08730\n",
      "[108]\tvalidation_0-logloss:0.08728\n",
      "[109]\tvalidation_0-logloss:0.08730\n",
      "[110]\tvalidation_0-logloss:0.08729\n",
      "[111]\tvalidation_0-logloss:0.08800\n",
      "[112]\tvalidation_0-logloss:0.08794\n",
      "[113]\tvalidation_0-logloss:0.08784\n",
      "[114]\tvalidation_0-logloss:0.08807\n",
      "[115]\tvalidation_0-logloss:0.08765\n",
      "[116]\tvalidation_0-logloss:0.08730\n",
      "[117]\tvalidation_0-logloss:0.08780\n",
      "[118]\tvalidation_0-logloss:0.08775\n",
      "[119]\tvalidation_0-logloss:0.08768\n",
      "[120]\tvalidation_0-logloss:0.08763\n",
      "[121]\tvalidation_0-logloss:0.08757\n",
      "[122]\tvalidation_0-logloss:0.08755\n",
      "[123]\tvalidation_0-logloss:0.08716\n",
      "[124]\tvalidation_0-logloss:0.08767\n",
      "[125]\tvalidation_0-logloss:0.08774\n",
      "[126]\tvalidation_0-logloss:0.08827\n",
      "[127]\tvalidation_0-logloss:0.08831\n",
      "[128]\tvalidation_0-logloss:0.08827\n",
      "[129]\tvalidation_0-logloss:0.08789\n",
      "[130]\tvalidation_0-logloss:0.08886\n",
      "[131]\tvalidation_0-logloss:0.08868\n",
      "[132]\tvalidation_0-logloss:0.08874\n",
      "[133]\tvalidation_0-logloss:0.08922\n",
      "[134]\tvalidation_0-logloss:0.08918\n",
      "[135]\tvalidation_0-logloss:0.08882\n",
      "[136]\tvalidation_0-logloss:0.08851\n",
      "[137]\tvalidation_0-logloss:0.08848\n",
      "[138]\tvalidation_0-logloss:0.08839\n",
      "[139]\tvalidation_0-logloss:0.08915\n",
      "[140]\tvalidation_0-logloss:0.08911\n",
      "[141]\tvalidation_0-logloss:0.08876\n",
      "[142]\tvalidation_0-logloss:0.08868\n",
      "[143]\tvalidation_0-logloss:0.08839\n",
      "[144]\tvalidation_0-logloss:0.08927\n",
      "[145]\tvalidation_0-logloss:0.08924\n",
      "[146]\tvalidation_0-logloss:0.08914\n",
      "[147]\tvalidation_0-logloss:0.08891\n",
      "[148]\tvalidation_0-logloss:0.08942\n",
      "[149]\tvalidation_0-logloss:0.08939\n",
      "[150]\tvalidation_0-logloss:0.08911\n",
      "[151]\tvalidation_0-logloss:0.08873\n",
      "[152]\tvalidation_0-logloss:0.08872\n",
      "[153]\tvalidation_0-logloss:0.08848\n",
      "[154]\tvalidation_0-logloss:0.08847\n",
      "[155]\tvalidation_0-logloss:0.08855\n",
      "[156]\tvalidation_0-logloss:0.08852\n",
      "[157]\tvalidation_0-logloss:0.08855\n",
      "[158]\tvalidation_0-logloss:0.08827\n",
      "[159]\tvalidation_0-logloss:0.08830\n",
      "[160]\tvalidation_0-logloss:0.08828\n",
      "[161]\tvalidation_0-logloss:0.08801\n",
      "[162]\tvalidation_0-logloss:0.08776\n",
      "[163]\tvalidation_0-logloss:0.08778\n",
      "[164]\tvalidation_0-logloss:0.08778\n",
      "[165]\tvalidation_0-logloss:0.08752\n",
      "[166]\tvalidation_0-logloss:0.08754\n",
      "[167]\tvalidation_0-logloss:0.08764\n",
      "[168]\tvalidation_0-logloss:0.08739\n",
      "[169]\tvalidation_0-logloss:0.08738\n",
      "[170]\tvalidation_0-logloss:0.08730\n",
      "[171]\tvalidation_0-logloss:0.08737\n",
      "[172]\tvalidation_0-logloss:0.08740\n",
      "[173]\tvalidation_0-logloss:0.08739\n",
      "[174]\tvalidation_0-logloss:0.08713\n",
      "[175]\tvalidation_0-logloss:0.08716\n",
      "[176]\tvalidation_0-logloss:0.08695\n",
      "[177]\tvalidation_0-logloss:0.08705\n",
      "[178]\tvalidation_0-logloss:0.08697\n",
      "[179]\tvalidation_0-logloss:0.08697\n",
      "[180]\tvalidation_0-logloss:0.08704\n",
      "[181]\tvalidation_0-logloss:0.08680\n",
      "[182]\tvalidation_0-logloss:0.08683\n",
      "[183]\tvalidation_0-logloss:0.08658\n",
      "[184]\tvalidation_0-logloss:0.08659\n",
      "[185]\tvalidation_0-logloss:0.08661\n",
      "[186]\tvalidation_0-logloss:0.08637\n",
      "[187]\tvalidation_0-logloss:0.08637\n",
      "[188]\tvalidation_0-logloss:0.08630\n",
      "[189]\tvalidation_0-logloss:0.08610\n",
      "[190]\tvalidation_0-logloss:0.08602\n",
      "[191]\tvalidation_0-logloss:0.08605\n",
      "[192]\tvalidation_0-logloss:0.08615\n",
      "[193]\tvalidation_0-logloss:0.08592\n",
      "[194]\tvalidation_0-logloss:0.08591\n",
      "[195]\tvalidation_0-logloss:0.08598\n",
      "[196]\tvalidation_0-logloss:0.08601\n",
      "[197]\tvalidation_0-logloss:0.08592\n",
      "[198]\tvalidation_0-logloss:0.08585\n",
      "[199]\tvalidation_0-logloss:0.08587\n",
      "[200]\tvalidation_0-logloss:0.08589\n",
      "[201]\tvalidation_0-logloss:0.08595\n",
      "[202]\tvalidation_0-logloss:0.08573\n",
      "[203]\tvalidation_0-logloss:0.08573\n",
      "[204]\tvalidation_0-logloss:0.08575\n",
      "[205]\tvalidation_0-logloss:0.08582\n",
      "[206]\tvalidation_0-logloss:0.08584\n",
      "[207]\tvalidation_0-logloss:0.08578\n",
      "[208]\tvalidation_0-logloss:0.08569\n",
      "[209]\tvalidation_0-logloss:0.08571\n",
      "[210]\tvalidation_0-logloss:0.08581\n",
      "[211]\tvalidation_0-logloss:0.08559\n",
      "[212]\tvalidation_0-logloss:0.08580\n",
      "[213]\tvalidation_0-logloss:0.08581\n",
      "[214]\tvalidation_0-logloss:0.08574\n",
      "[215]\tvalidation_0-logloss:0.08566\n",
      "[216]\tvalidation_0-logloss:0.08584\n",
      "[217]\tvalidation_0-logloss:0.08563\n",
      "[218]\tvalidation_0-logloss:0.08573\n",
      "[219]\tvalidation_0-logloss:0.08578\n",
      "[220]\tvalidation_0-logloss:0.08579\n",
      "[221]\tvalidation_0-logloss:0.08582\n",
      "[222]\tvalidation_0-logloss:0.08576\n",
      "[223]\tvalidation_0-logloss:0.08567\n",
      "[224]\tvalidation_0-logloss:0.08586\n",
      "[225]\tvalidation_0-logloss:0.08587\n",
      "[226]\tvalidation_0-logloss:0.08593\n",
      "[227]\tvalidation_0-logloss:0.08595\n",
      "[228]\tvalidation_0-logloss:0.08587\n",
      "[229]\tvalidation_0-logloss:0.08606\n",
      "[230]\tvalidation_0-logloss:0.08600\n",
      "[231]\tvalidation_0-logloss:0.08592\n",
      "[232]\tvalidation_0-logloss:0.08610\n",
      "[233]\tvalidation_0-logloss:0.08611\n",
      "[234]\tvalidation_0-logloss:0.08617\n",
      "[235]\tvalidation_0-logloss:0.08626\n",
      "[236]\tvalidation_0-logloss:0.08629\n",
      "[237]\tvalidation_0-logloss:0.08622\n"
     ]
    },
    {
     "name": "stdout",
     "output_type": "stream",
     "text": [
      "[238]\tvalidation_0-logloss:0.08639\n",
      "[239]\tvalidation_0-logloss:0.08634\n",
      "[240]\tvalidation_0-logloss:0.08618\n",
      "[241]\tvalidation_0-logloss:0.08620\n",
      "[242]\tvalidation_0-logloss:0.08625\n",
      "[243]\tvalidation_0-logloss:0.08626\n",
      "[244]\tvalidation_0-logloss:0.08629\n",
      "[245]\tvalidation_0-logloss:0.08622\n",
      "[246]\tvalidation_0-logloss:0.08640\n",
      "[247]\tvalidation_0-logloss:0.08635\n",
      "[248]\tvalidation_0-logloss:0.08628\n",
      "[249]\tvalidation_0-logloss:0.08645\n",
      "[250]\tvalidation_0-logloss:0.08629\n",
      "[251]\tvalidation_0-logloss:0.08631\n",
      "[252]\tvalidation_0-logloss:0.08636\n",
      "[253]\tvalidation_0-logloss:0.08639\n",
      "[254]\tvalidation_0-logloss:0.08649\n",
      "[255]\tvalidation_0-logloss:0.08644\n",
      "[256]\tvalidation_0-logloss:0.08629\n",
      "[257]\tvalidation_0-logloss:0.08646\n",
      "[258]\tvalidation_0-logloss:0.08639\n",
      "[259]\tvalidation_0-logloss:0.08644\n",
      "[260]\tvalidation_0-logloss:0.08646\n",
      "[261]\tvalidation_0-logloss:0.08649\n",
      "[262]\tvalidation_0-logloss:0.08645\n",
      "[263]\tvalidation_0-logloss:0.08647\n",
      "[264]\tvalidation_0-logloss:0.08632\n",
      "[265]\tvalidation_0-logloss:0.08649\n",
      "[266]\tvalidation_0-logloss:0.08654\n",
      "[267]\tvalidation_0-logloss:0.08647\n",
      "[268]\tvalidation_0-logloss:0.08650\n",
      "[269]\tvalidation_0-logloss:0.08652\n",
      "[270]\tvalidation_0-logloss:0.08669\n",
      "[271]\tvalidation_0-logloss:0.08674\n",
      "[272]\tvalidation_0-logloss:0.08683\n",
      "[273]\tvalidation_0-logloss:0.08668\n",
      "[274]\tvalidation_0-logloss:0.08664\n",
      "[275]\tvalidation_0-logloss:0.08650\n",
      "[276]\tvalidation_0-logloss:0.08635\n",
      "[277]\tvalidation_0-logloss:0.08652\n",
      "[278]\tvalidation_0-logloss:0.08657\n",
      "[279]\tvalidation_0-logloss:0.08659\n",
      "[280]\tvalidation_0-logloss:0.08668\n",
      "[281]\tvalidation_0-logloss:0.08664\n",
      "[282]\tvalidation_0-logloss:0.08650\n",
      "[283]\tvalidation_0-logloss:0.08636\n",
      "[284]\tvalidation_0-logloss:0.08640\n",
      "[285]\tvalidation_0-logloss:0.08643\n",
      "[286]\tvalidation_0-logloss:0.08646\n",
      "[287]\tvalidation_0-logloss:0.08650\n",
      "[288]\tvalidation_0-logloss:0.08637\n",
      "[289]\tvalidation_0-logloss:0.08646\n",
      "[290]\tvalidation_0-logloss:0.08645\n",
      "[291]\tvalidation_0-logloss:0.08632\n",
      "[292]\tvalidation_0-logloss:0.08628\n",
      "[293]\tvalidation_0-logloss:0.08615\n",
      "[294]\tvalidation_0-logloss:0.08620\n",
      "[295]\tvalidation_0-logloss:0.08622\n",
      "[296]\tvalidation_0-logloss:0.08631\n",
      "[297]\tvalidation_0-logloss:0.08618\n",
      "[298]\tvalidation_0-logloss:0.08626\n",
      "[299]\tvalidation_0-logloss:0.08613\n",
      "[300]\tvalidation_0-logloss:0.08618\n",
      "[301]\tvalidation_0-logloss:0.08605\n",
      "[302]\tvalidation_0-logloss:0.08602\n",
      "[303]\tvalidation_0-logloss:0.08610\n",
      "[304]\tvalidation_0-logloss:0.08598\n",
      "[305]\tvalidation_0-logloss:0.08606\n",
      "[306]\tvalidation_0-logloss:0.08597\n",
      "[307]\tvalidation_0-logloss:0.08600\n",
      "[308]\tvalidation_0-logloss:0.08600\n",
      "[309]\tvalidation_0-logloss:0.08588\n",
      "[310]\tvalidation_0-logloss:0.08592\n"
     ]
    }
   ],
   "source": [
    "from xgboost import XGBClassifier\n",
    "\n",
    "xgb_wrapper = XGBClassifier(n_estimators=400, learning_rate=0.1, max_depth=3)\n",
    "evals = [(X_test, y_test)]\n",
    "xgb_wrapper.fit(X_train, y_train, early_stopping_rounds= 100 , eval_metric=\"logloss\", eval_set=evals, verbose=True)\n",
    "\n",
    "ws100_preds = xgb_wrapper.predict(X_test)\n",
    "ws100_pred_proba = xgb_wrapper.predict_proba(X_test)[:, 1]"
   ]
  },
  {
   "cell_type": "code",
   "execution_count": 77,
   "metadata": {
    "ExecuteTime": {
     "end_time": "2023-09-14T11:43:56.894711Z",
     "start_time": "2023-09-14T11:43:56.875552Z"
    },
    "id": "NQBYTbo5avDI"
   },
   "outputs": [
    {
     "name": "stdout",
     "output_type": "stream",
     "text": [
      "오차 행렬\n",
      "[[34  3]\n",
      " [ 1 76]]\n",
      "정확도: 0.9649, 정밀도: 0.9620, 재현율: 0.9870,    F1: 0.9744, AUC:0.9954\n"
     ]
    }
   ],
   "source": [
    "# get_clf_eval() 함수로 정확도 확인\n",
    "get_clf_eval(y_test,ws100_preds,ws100_pred_proba)"
   ]
  },
  {
   "cell_type": "code",
   "execution_count": 78,
   "metadata": {
    "ExecuteTime": {
     "end_time": "2023-09-14T11:44:20.592992Z",
     "start_time": "2023-09-14T11:44:20.438637Z"
    },
    "id": "gq8C36xBau80"
   },
   "outputs": [
    {
     "name": "stdout",
     "output_type": "stream",
     "text": [
      "[0]\tvalidation_0-logloss:0.61352\n",
      "[1]\tvalidation_0-logloss:0.54784\n",
      "[2]\tvalidation_0-logloss:0.49425\n",
      "[3]\tvalidation_0-logloss:0.44799\n",
      "[4]\tvalidation_0-logloss:0.40911\n",
      "[5]\tvalidation_0-logloss:0.37498\n",
      "[6]\tvalidation_0-logloss:0.34571\n",
      "[7]\tvalidation_0-logloss:0.32053\n",
      "[8]\tvalidation_0-logloss:0.29721\n",
      "[9]\tvalidation_0-logloss:0.27799\n",
      "[10]\tvalidation_0-logloss:0.26030\n",
      "[11]\tvalidation_0-logloss:0.24604\n",
      "[12]\tvalidation_0-logloss:0.23156\n",
      "[13]\tvalidation_0-logloss:0.22005\n",
      "[14]\tvalidation_0-logloss:0.20857\n",
      "[15]\tvalidation_0-logloss:0.19999\n",
      "[16]\tvalidation_0-logloss:0.19012\n",
      "[17]\tvalidation_0-logloss:0.18182\n",
      "[18]\tvalidation_0-logloss:0.17473\n",
      "[19]\tvalidation_0-logloss:0.16766\n",
      "[20]\tvalidation_0-logloss:0.15820\n",
      "[21]\tvalidation_0-logloss:0.15472\n",
      "[22]\tvalidation_0-logloss:0.14895\n",
      "[23]\tvalidation_0-logloss:0.14331\n",
      "[24]\tvalidation_0-logloss:0.13634\n",
      "[25]\tvalidation_0-logloss:0.13278\n",
      "[26]\tvalidation_0-logloss:0.12791\n",
      "[27]\tvalidation_0-logloss:0.12526\n",
      "[28]\tvalidation_0-logloss:0.11998\n",
      "[29]\tvalidation_0-logloss:0.11641\n",
      "[30]\tvalidation_0-logloss:0.11450\n",
      "[31]\tvalidation_0-logloss:0.11257\n",
      "[32]\tvalidation_0-logloss:0.11154\n",
      "[33]\tvalidation_0-logloss:0.10868\n",
      "[34]\tvalidation_0-logloss:0.10668\n",
      "[35]\tvalidation_0-logloss:0.10421\n",
      "[36]\tvalidation_0-logloss:0.10296\n",
      "[37]\tvalidation_0-logloss:0.10058\n",
      "[38]\tvalidation_0-logloss:0.09868\n",
      "[39]\tvalidation_0-logloss:0.09644\n",
      "[40]\tvalidation_0-logloss:0.09587\n",
      "[41]\tvalidation_0-logloss:0.09424\n",
      "[42]\tvalidation_0-logloss:0.09471\n",
      "[43]\tvalidation_0-logloss:0.09427\n",
      "[44]\tvalidation_0-logloss:0.09389\n",
      "[45]\tvalidation_0-logloss:0.09418\n",
      "[46]\tvalidation_0-logloss:0.09402\n",
      "[47]\tvalidation_0-logloss:0.09236\n",
      "[48]\tvalidation_0-logloss:0.09301\n",
      "[49]\tvalidation_0-logloss:0.09127\n",
      "[50]\tvalidation_0-logloss:0.09005\n",
      "[51]\tvalidation_0-logloss:0.08961\n",
      "[52]\tvalidation_0-logloss:0.08958\n",
      "[53]\tvalidation_0-logloss:0.09070\n",
      "[54]\tvalidation_0-logloss:0.08958\n",
      "[55]\tvalidation_0-logloss:0.09036\n",
      "[56]\tvalidation_0-logloss:0.09159\n",
      "[57]\tvalidation_0-logloss:0.09153\n",
      "[58]\tvalidation_0-logloss:0.09199\n",
      "[59]\tvalidation_0-logloss:0.09195\n",
      "[60]\tvalidation_0-logloss:0.09194\n",
      "[61]\tvalidation_0-logloss:0.09146\n",
      "오차 행렬\n",
      "[[34  3]\n",
      " [ 2 75]]\n",
      "정확도: 0.9561, 정밀도: 0.9615, 재현율: 0.9740,    F1: 0.9677, AUC:0.9947\n"
     ]
    }
   ],
   "source": [
    "# early_stopping_rounds를 10으로 설정하고 재 학습.\n",
    "xgb_wrapper.fit(X_train, y_train, early_stopping_rounds= 10 , eval_metric=\"logloss\", eval_set=evals,verbose=True)\n",
    "\n",
    "ws10_preds = xgb_wrapper.predict(X_test)\n",
    "ws10_pred_proba = xgb_wrapper.predict_proba(X_test)[:, 1]\n",
    "get_clf_eval(y_test,ws10_preds,ws10_pred_proba)"
   ]
  },
  {
   "cell_type": "markdown",
   "metadata": {
    "id": "hWZrToV_axfN"
   },
   "source": [
    "## 3-4. 랜덤 포레스트"
   ]
  },
  {
   "cell_type": "markdown",
   "metadata": {
    "id": "Un1l06qdazg5"
   },
   "source": [
    "#### 3-4-1. GridSearchCV를 이용해 최적의 하이퍼파라미터를 찾고 최고 예측 정확도를 출력하세요. (max_leaf_nodes 값 : 2~20, min_samples_split 값 : 2,3,4) (5점)"
   ]
  },
  {
   "cell_type": "code",
   "execution_count": 79,
   "metadata": {
    "ExecuteTime": {
     "end_time": "2023-09-14T11:46:27.344286Z",
     "start_time": "2023-09-14T11:46:22.504257Z"
    },
    "id": "oHOc-NfEayRD"
   },
   "outputs": [
    {
     "name": "stdout",
     "output_type": "stream",
     "text": [
      "최고 예측 정확도 : 0.9627\n"
     ]
    }
   ],
   "source": [
    "from sklearn.ensemble import RandomForestClassifier\n",
    "from sklearn.metrics import accuracy_score\n",
    "from sklearn.model_selection import GridSearchCV\n",
    "\n",
    "params = {\n",
    "    'max_leaf_nodes':[x for x in range(2,21)],\n",
    "    'min_samples_split':[2,3,4]\n",
    "}\n",
    "\n",
    "# RandomForestClassifier 객체 생성 (n_estimators=10, random_state=0 으로 설정)\n",
    "rf_clf = RandomForestClassifier(n_estimators=10,random_state=0)\n",
    "# GridSearchCV 수행 (cv=3 으로 설정)\n",
    "gscv = GridSearchCV(rf_clf, param_grid=params, cv = 3)\n",
    "# 최고 예측 정확도 출력\n",
    "gscv.fit(X_train,y_train)\n",
    "print(\"최고 예측 정확도 : {:.4f}\".format(gscv.best_score_))"
   ]
  },
  {
   "cell_type": "markdown",
   "metadata": {
    "id": "RemzfzSxa2WE"
   },
   "source": [
    "#### 3-4-2. 최적의 하이퍼파라미터로 랜덤 포레스트를 다시 학습시키고, OOB 샘플의 정확도를 출력하세요. (랜덤 포레스트 객체 생성 시 oob_score=True 로 설정해야 합니다.) (3점)"
   ]
  },
  {
   "cell_type": "code",
   "execution_count": 88,
   "metadata": {
    "ExecuteTime": {
     "end_time": "2023-09-14T11:50:33.912668Z",
     "start_time": "2023-09-14T11:50:33.865186Z"
    },
    "id": "LOmMeEOVa3BL"
   },
   "outputs": [
    {
     "name": "stdout",
     "output_type": "stream",
     "text": [
      "OOB 정확도: 0.9297\n"
     ]
    }
   ],
   "source": [
    "rf_clf = gscv.best_estimator_ # 최적의 파라미터로 학습된 estimator\n",
    "rf_clf=rf_clf.set_params(oob_score=True)\n",
    "rf_clf.fit(X_train,y_train)\n",
    "oob_accuracy = rf_clf.oob_score_\n",
    "print('OOB 정확도:',np.round(oob_accuracy,4))"
   ]
  },
  {
   "cell_type": "markdown",
   "metadata": {
    "id": "MKQXxYNAa4ZJ"
   },
   "source": [
    "#### 3-4-3. feature_importances 속성을 이용해서 가장 영향력 있는 상위 10개 속성의 중요도를 시각화 하세요. (7점)"
   ]
  },
  {
   "cell_type": "code",
   "execution_count": 118,
   "metadata": {
    "ExecuteTime": {
     "end_time": "2023-09-14T12:05:58.510029Z",
     "start_time": "2023-09-14T12:05:58.362210Z"
    },
    "id": "X9UTyk3ta5Hr"
   },
   "outputs": [
    {
     "data": {
      "image/png": "[encoded data removed]",
      "text/plain": [
       "<Figure size 640x480 with 1 Axes>"
      ]
     },
     "metadata": {},
     "output_type": "display_data"
    }
   ],
   "source": [
    "import matplotlib.pyplot as plt\n",
    "import seaborn as sns\n",
    "import numpy as np\n",
    "fi = dict(zip(rf_clf.feature_names_in_,rf_clf.feature_importances_))\n",
    "fi_desc = sorted(fi,key=lambda x : fi.get(x),reverse=True)\n",
    "top10_import_score = []\n",
    "for key in fi_desc[:10]:\n",
    "    top10_import_score.append(fi.get(key))\n",
    "plt.barh(y=list(reversed(fi_desc[:10])),width=list(reversed(top10_import_score)))\n",
    "plt.title('Top 10 Important features')\n",
    "plt.show()"
   ]
  },
  {
   "cell_type": "markdown",
   "metadata": {
    "id": "1toUzZ-qa6_E"
   },
   "source": [
    "## 3-5 LightGBM"
   ]
  },
  {
   "cell_type": "markdown",
   "metadata": {
    "id": "YTDivhaza80Q"
   },
   "source": [
    "#### 3-5-1. n_estimators를 400으로 설정하여 객체를 생성하고,  XGBoost와 같은 시기에 조기 중단을 수행하도록 학습을 진행하세요. (10점)"
   ]
  },
  {
   "cell_type": "code",
   "execution_count": 119,
   "metadata": {
    "ExecuteTime": {
     "end_time": "2023-09-14T12:06:27.340701Z",
     "start_time": "2023-09-14T12:06:27.260131Z"
    },
    "id": "u8hHCL0wa7rb"
   },
   "outputs": [
    {
     "name": "stdout",
     "output_type": "stream",
     "text": [
      "[1]\ttraining's binary_logloss: 0.625671\tvalid_1's binary_logloss: 0.628248\n",
      "[2]\ttraining's binary_logloss: 0.588173\tvalid_1's binary_logloss: 0.601106\n",
      "[3]\ttraining's binary_logloss: 0.554518\tvalid_1's binary_logloss: 0.577587\n",
      "[4]\ttraining's binary_logloss: 0.523972\tvalid_1's binary_logloss: 0.556324\n",
      "[5]\ttraining's binary_logloss: 0.49615\tvalid_1's binary_logloss: 0.537407\n",
      "[6]\ttraining's binary_logloss: 0.470108\tvalid_1's binary_logloss: 0.519401\n",
      "[7]\ttraining's binary_logloss: 0.446647\tvalid_1's binary_logloss: 0.502637\n",
      "[8]\ttraining's binary_logloss: 0.425055\tvalid_1's binary_logloss: 0.488311\n",
      "[9]\ttraining's binary_logloss: 0.405125\tvalid_1's binary_logloss: 0.474664\n",
      "[10]\ttraining's binary_logloss: 0.386526\tvalid_1's binary_logloss: 0.461267\n",
      "[11]\ttraining's binary_logloss: 0.367027\tvalid_1's binary_logloss: 0.444274\n",
      "[12]\ttraining's binary_logloss: 0.350713\tvalid_1's binary_logloss: 0.432755\n",
      "[13]\ttraining's binary_logloss: 0.334601\tvalid_1's binary_logloss: 0.421371\n",
      "[14]\ttraining's binary_logloss: 0.319854\tvalid_1's binary_logloss: 0.411418\n",
      "[15]\ttraining's binary_logloss: 0.306374\tvalid_1's binary_logloss: 0.402989\n",
      "[16]\ttraining's binary_logloss: 0.293116\tvalid_1's binary_logloss: 0.393973\n",
      "[17]\ttraining's binary_logloss: 0.280812\tvalid_1's binary_logloss: 0.384801\n",
      "[18]\ttraining's binary_logloss: 0.268352\tvalid_1's binary_logloss: 0.376191\n",
      "[19]\ttraining's binary_logloss: 0.256942\tvalid_1's binary_logloss: 0.368378\n",
      "[20]\ttraining's binary_logloss: 0.246443\tvalid_1's binary_logloss: 0.362062\n",
      "[21]\ttraining's binary_logloss: 0.236874\tvalid_1's binary_logloss: 0.355162\n",
      "[22]\ttraining's binary_logloss: 0.227501\tvalid_1's binary_logloss: 0.348933\n",
      "[23]\ttraining's binary_logloss: 0.218988\tvalid_1's binary_logloss: 0.342819\n",
      "[24]\ttraining's binary_logloss: 0.210621\tvalid_1's binary_logloss: 0.337386\n",
      "[25]\ttraining's binary_logloss: 0.202076\tvalid_1's binary_logloss: 0.331523\n",
      "[26]\ttraining's binary_logloss: 0.194199\tvalid_1's binary_logloss: 0.326349\n",
      "[27]\ttraining's binary_logloss: 0.187107\tvalid_1's binary_logloss: 0.322785\n",
      "[28]\ttraining's binary_logloss: 0.180535\tvalid_1's binary_logloss: 0.317877\n",
      "[29]\ttraining's binary_logloss: 0.173834\tvalid_1's binary_logloss: 0.313928\n",
      "[30]\ttraining's binary_logloss: 0.167198\tvalid_1's binary_logloss: 0.310105\n",
      "[31]\ttraining's binary_logloss: 0.161229\tvalid_1's binary_logloss: 0.307107\n",
      "[32]\ttraining's binary_logloss: 0.155494\tvalid_1's binary_logloss: 0.303837\n",
      "[33]\ttraining's binary_logloss: 0.149125\tvalid_1's binary_logloss: 0.300315\n",
      "[34]\ttraining's binary_logloss: 0.144045\tvalid_1's binary_logloss: 0.297816\n",
      "[35]\ttraining's binary_logloss: 0.139341\tvalid_1's binary_logloss: 0.295387\n",
      "[36]\ttraining's binary_logloss: 0.134625\tvalid_1's binary_logloss: 0.293063\n",
      "[37]\ttraining's binary_logloss: 0.129167\tvalid_1's binary_logloss: 0.289127\n",
      "[38]\ttraining's binary_logloss: 0.12472\tvalid_1's binary_logloss: 0.288697\n",
      "[39]\ttraining's binary_logloss: 0.11974\tvalid_1's binary_logloss: 0.28576\n",
      "[40]\ttraining's binary_logloss: 0.115054\tvalid_1's binary_logloss: 0.282853\n",
      "[41]\ttraining's binary_logloss: 0.110662\tvalid_1's binary_logloss: 0.279441\n",
      "[42]\ttraining's binary_logloss: 0.106358\tvalid_1's binary_logloss: 0.28113\n",
      "[43]\ttraining's binary_logloss: 0.102324\tvalid_1's binary_logloss: 0.279139\n",
      "[44]\ttraining's binary_logloss: 0.0985699\tvalid_1's binary_logloss: 0.276465\n",
      "[45]\ttraining's binary_logloss: 0.094858\tvalid_1's binary_logloss: 0.275946\n",
      "[46]\ttraining's binary_logloss: 0.0912486\tvalid_1's binary_logloss: 0.272819\n",
      "[47]\ttraining's binary_logloss: 0.0883115\tvalid_1's binary_logloss: 0.272306\n",
      "[48]\ttraining's binary_logloss: 0.0849963\tvalid_1's binary_logloss: 0.270452\n",
      "[49]\ttraining's binary_logloss: 0.0821742\tvalid_1's binary_logloss: 0.268671\n",
      "[50]\ttraining's binary_logloss: 0.0789991\tvalid_1's binary_logloss: 0.267587\n",
      "[51]\ttraining's binary_logloss: 0.0761072\tvalid_1's binary_logloss: 0.26626\n",
      "[52]\ttraining's binary_logloss: 0.0732567\tvalid_1's binary_logloss: 0.265542\n",
      "[53]\ttraining's binary_logloss: 0.0706388\tvalid_1's binary_logloss: 0.264547\n",
      "[54]\ttraining's binary_logloss: 0.0683911\tvalid_1's binary_logloss: 0.26502\n",
      "[55]\ttraining's binary_logloss: 0.0659347\tvalid_1's binary_logloss: 0.264388\n",
      "[56]\ttraining's binary_logloss: 0.0636873\tvalid_1's binary_logloss: 0.263128\n",
      "[57]\ttraining's binary_logloss: 0.0613354\tvalid_1's binary_logloss: 0.26231\n",
      "[58]\ttraining's binary_logloss: 0.0591944\tvalid_1's binary_logloss: 0.262011\n",
      "[59]\ttraining's binary_logloss: 0.057033\tvalid_1's binary_logloss: 0.261454\n",
      "[60]\ttraining's binary_logloss: 0.0550801\tvalid_1's binary_logloss: 0.260746\n",
      "[61]\ttraining's binary_logloss: 0.0532381\tvalid_1's binary_logloss: 0.260236\n",
      "[62]\ttraining's binary_logloss: 0.0514074\tvalid_1's binary_logloss: 0.261586\n",
      "[63]\ttraining's binary_logloss: 0.0494837\tvalid_1's binary_logloss: 0.261797\n",
      "[64]\ttraining's binary_logloss: 0.0477826\tvalid_1's binary_logloss: 0.262533\n",
      "[65]\ttraining's binary_logloss: 0.0460364\tvalid_1's binary_logloss: 0.263305\n",
      "[66]\ttraining's binary_logloss: 0.0444552\tvalid_1's binary_logloss: 0.264072\n",
      "[67]\ttraining's binary_logloss: 0.0427638\tvalid_1's binary_logloss: 0.266223\n",
      "[68]\ttraining's binary_logloss: 0.0412449\tvalid_1's binary_logloss: 0.266817\n",
      "[69]\ttraining's binary_logloss: 0.0398589\tvalid_1's binary_logloss: 0.267819\n",
      "[70]\ttraining's binary_logloss: 0.0383095\tvalid_1's binary_logloss: 0.267484\n",
      "[71]\ttraining's binary_logloss: 0.0368803\tvalid_1's binary_logloss: 0.270233\n",
      "[72]\ttraining's binary_logloss: 0.0355637\tvalid_1's binary_logloss: 0.268442\n",
      "[73]\ttraining's binary_logloss: 0.0341747\tvalid_1's binary_logloss: 0.26895\n",
      "[74]\ttraining's binary_logloss: 0.0328302\tvalid_1's binary_logloss: 0.266958\n",
      "[75]\ttraining's binary_logloss: 0.0317853\tvalid_1's binary_logloss: 0.268091\n",
      "[76]\ttraining's binary_logloss: 0.0305626\tvalid_1's binary_logloss: 0.266419\n",
      "[77]\ttraining's binary_logloss: 0.0295001\tvalid_1's binary_logloss: 0.268588\n",
      "[78]\ttraining's binary_logloss: 0.0284699\tvalid_1's binary_logloss: 0.270964\n",
      "[79]\ttraining's binary_logloss: 0.0273953\tvalid_1's binary_logloss: 0.270293\n",
      "[80]\ttraining's binary_logloss: 0.0264668\tvalid_1's binary_logloss: 0.270523\n",
      "[81]\ttraining's binary_logloss: 0.0254636\tvalid_1's binary_logloss: 0.270683\n",
      "[82]\ttraining's binary_logloss: 0.0245911\tvalid_1's binary_logloss: 0.273187\n",
      "[83]\ttraining's binary_logloss: 0.0236486\tvalid_1's binary_logloss: 0.275994\n",
      "[84]\ttraining's binary_logloss: 0.0228047\tvalid_1's binary_logloss: 0.274053\n",
      "[85]\ttraining's binary_logloss: 0.0221693\tvalid_1's binary_logloss: 0.273211\n",
      "[86]\ttraining's binary_logloss: 0.0213043\tvalid_1's binary_logloss: 0.272626\n",
      "[87]\ttraining's binary_logloss: 0.0203934\tvalid_1's binary_logloss: 0.27534\n",
      "[88]\ttraining's binary_logloss: 0.0195552\tvalid_1's binary_logloss: 0.276228\n",
      "[89]\ttraining's binary_logloss: 0.0188623\tvalid_1's binary_logloss: 0.27525\n",
      "[90]\ttraining's binary_logloss: 0.0183664\tvalid_1's binary_logloss: 0.276485\n",
      "[91]\ttraining's binary_logloss: 0.0176788\tvalid_1's binary_logloss: 0.277052\n",
      "[92]\ttraining's binary_logloss: 0.0170059\tvalid_1's binary_logloss: 0.277686\n",
      "[93]\ttraining's binary_logloss: 0.0164317\tvalid_1's binary_logloss: 0.275332\n",
      "[94]\ttraining's binary_logloss: 0.015878\tvalid_1's binary_logloss: 0.276236\n",
      "[95]\ttraining's binary_logloss: 0.0152959\tvalid_1's binary_logloss: 0.274538\n",
      "[96]\ttraining's binary_logloss: 0.0147216\tvalid_1's binary_logloss: 0.275244\n",
      "[97]\ttraining's binary_logloss: 0.0141758\tvalid_1's binary_logloss: 0.275829\n",
      "[98]\ttraining's binary_logloss: 0.0136551\tvalid_1's binary_logloss: 0.276654\n",
      "[99]\ttraining's binary_logloss: 0.0131585\tvalid_1's binary_logloss: 0.277859\n",
      "[100]\ttraining's binary_logloss: 0.0126961\tvalid_1's binary_logloss: 0.279265\n",
      "[101]\ttraining's binary_logloss: 0.0122421\tvalid_1's binary_logloss: 0.276695\n",
      "[102]\ttraining's binary_logloss: 0.0118067\tvalid_1's binary_logloss: 0.278488\n",
      "[103]\ttraining's binary_logloss: 0.0113994\tvalid_1's binary_logloss: 0.278932\n",
      "[104]\ttraining's binary_logloss: 0.0109799\tvalid_1's binary_logloss: 0.280997\n",
      "[105]\ttraining's binary_logloss: 0.0105953\tvalid_1's binary_logloss: 0.281454\n",
      "[106]\ttraining's binary_logloss: 0.0102381\tvalid_1's binary_logloss: 0.282058\n",
      "[107]\ttraining's binary_logloss: 0.00986714\tvalid_1's binary_logloss: 0.279275\n",
      "[108]\ttraining's binary_logloss: 0.00950998\tvalid_1's binary_logloss: 0.281427\n",
      "[109]\ttraining's binary_logloss: 0.00915965\tvalid_1's binary_logloss: 0.280752\n",
      "[110]\ttraining's binary_logloss: 0.00882581\tvalid_1's binary_logloss: 0.282152\n",
      "[111]\ttraining's binary_logloss: 0.00850714\tvalid_1's binary_logloss: 0.280894\n"
     ]
    },
    {
     "data": {
      "text/html": [
       "<style>#sk-container-id-4 {color: black;}#sk-container-id-4 pre{padding: 0;}#sk-container-id-4 div.sk-toggleable {background-color: white;}#sk-container-id-4 label.sk-toggleable__label {cursor: pointer;display: block;width: 100%;margin-bottom: 0;padding: 0.3em;box-sizing: border-box;text-align: center;}#sk-container-id-4 label.sk-toggleable__label-arrow:before {content: \"▸\";float: left;margin-right: 0.25em;color: #696969;}#sk-container-id-4 label.sk-toggleable__label-arrow:hover:before {color: black;}#sk-container-id-4 div.sk-estimator:hover label.sk-toggleable__label-arrow:before {color: black;}#sk-container-id-4 div.sk-toggleable__content {max-height: 0;max-width: 0;overflow: hidden;text-align: left;background-color: #f0f8ff;}#sk-container-id-4 div.sk-toggleable__content pre {margin: 0.2em;color: black;border-radius: 0.25em;background-color: #f0f8ff;}#sk-container-id-4 input.sk-toggleable__control:checked~div.sk-toggleable__content {max-height: 200px;max-width: 100%;overflow: auto;}#sk-container-id-4 input.sk-toggleable__control:checked~label.sk-toggleable__label-arrow:before {content: \"▾\";}#sk-container-id-4 div.sk-estimator input.sk-toggleable__control:checked~label.sk-toggleable__label {background-color: #d4ebff;}#sk-container-id-4 div.sk-label input.sk-toggleable__control:checked~label.sk-toggleable__label {background-color: #d4ebff;}#sk-container-id-4 input.sk-hidden--visually {border: 0;clip: rect(1px 1px 1px 1px);clip: rect(1px, 1px, 1px, 1px);height: 1px;margin: -1px;overflow: hidden;padding: 0;position: absolute;width: 1px;}#sk-container-id-4 div.sk-estimator {font-family: monospace;background-color: #f0f8ff;border: 1px dotted black;border-radius: 0.25em;box-sizing: border-box;margin-bottom: 0.5em;}#sk-container-id-4 div.sk-estimator:hover {background-color: #d4ebff;}#sk-container-id-4 div.sk-parallel-item::after {content: \"\";width: 100%;border-bottom: 1px solid gray;flex-grow: 1;}#sk-container-id-4 div.sk-label:hover label.sk-toggleable__label {background-color: #d4ebff;}#sk-container-id-4 div.sk-serial::before {content: \"\";position: absolute;border-left: 1px solid gray;box-sizing: border-box;top: 0;bottom: 0;left: 50%;z-index: 0;}#sk-container-id-4 div.sk-serial {display: flex;flex-direction: column;align-items: center;background-color: white;padding-right: 0.2em;padding-left: 0.2em;position: relative;}#sk-container-id-4 div.sk-item {position: relative;z-index: 1;}#sk-container-id-4 div.sk-parallel {display: flex;align-items: stretch;justify-content: center;background-color: white;position: relative;}#sk-container-id-4 div.sk-item::before, #sk-container-id-4 div.sk-parallel-item::before {content: \"\";position: absolute;border-left: 1px solid gray;box-sizing: border-box;top: 0;bottom: 0;left: 50%;z-index: -1;}#sk-container-id-4 div.sk-parallel-item {display: flex;flex-direction: column;z-index: 1;position: relative;background-color: white;}#sk-container-id-4 div.sk-parallel-item:first-child::after {align-self: flex-end;width: 50%;}#sk-container-id-4 div.sk-parallel-item:last-child::after {align-self: flex-start;width: 50%;}#sk-container-id-4 div.sk-parallel-item:only-child::after {width: 0;}#sk-container-id-4 div.sk-dashed-wrapped {border: 1px dashed gray;margin: 0 0.4em 0.5em 0.4em;box-sizing: border-box;padding-bottom: 0.4em;background-color: white;}#sk-container-id-4 div.sk-label label {font-family: monospace;font-weight: bold;display: inline-block;line-height: 1.2em;}#sk-container-id-4 div.sk-label-container {text-align: center;}#sk-container-id-4 div.sk-container {/* jupyter's `normalize.less` sets `[hidden] { display: none; }` but bootstrap.min.css set `[hidden] { display: none !important; }` so we also need the `!important` here to be able to override the default hidden behavior on the sphinx rendered scikit-learn.org. See: https://github.com/scikit-learn/scikit-learn/issues/21755 */display: inline-block !important;position: relative;}#sk-container-id-4 div.sk-text-repr-fallback {display: none;}</style><div id=\"sk-container-id-4\" class=\"sk-top-container\"><div class=\"sk-text-repr-fallback\"><pre>LGBMClassifier(learning_rate=0.05, n_estimators=400)</pre><b>In a Jupyter environment, please rerun this cell to show the HTML representation or trust the notebook. <br />On GitHub, the HTML representation is unable to render, please try loading this page with nbviewer.org.</b></div><div class=\"sk-container\" hidden><div class=\"sk-item\"><div class=\"sk-estimator sk-toggleable\"><input class=\"sk-toggleable__control sk-hidden--visually\" id=\"sk-estimator-id-4\" type=\"checkbox\" checked><label for=\"sk-estimator-id-4\" class=\"sk-toggleable__label sk-toggleable__label-arrow\">LGBMClassifier</label><div class=\"sk-toggleable__content\"><pre>LGBMClassifier(learning_rate=0.05, n_estimators=400)</pre></div></div></div></div></div>"
      ],
      "text/plain": [
       "LGBMClassifier(learning_rate=0.05, n_estimators=400)"
      ]
     },
     "execution_count": 119,
     "metadata": {},
     "output_type": "execute_result"
    }
   ],
   "source": [
    "lgbm_wrapper = LGBMClassifier(n_estimators=400, learning_rate=0.05)\n",
    "evals = [(X_tr, y_tr), (X_val, y_val)]\n",
    "lgbm_wrapper.fit(X_tr, y_tr, early_stopping_rounds=50, eval_metric='logloss', eval_set=evals, verbose=True)"
   ]
  },
  {
   "cell_type": "markdown",
   "metadata": {
    "id": "kInijIQtbAnh"
   },
   "source": [
    "#### 3-5-2. LightGBM의 XGBoost 대비 장점을 서술하시오. (5점)"
   ]
  },
  {
   "cell_type": "markdown",
   "metadata": {
    "id": "wxszx7rKbBvq"
   },
   "source": [
    "1. LGBM은 leaf-wise 방식으로 트리를 분할하기 때문에 일반적으로 학습 속도가 더 빠르다.\n",
    "2. leaf-wise방식은 level-wise방식에 비해 메모리 사용량이 적으므로 LGBM의 메모리 사용량이 더 적다. >> Stack Overflow 문제가 생길 가능성이 적다.\n",
    "3. 대규모 데이터셋 학습 시 성능이 LGBM이 더 좋다."
   ]
  },
  {
   "cell_type": "markdown",
   "metadata": {
    "id": "QrcwZrPWbEFg"
   },
   "source": [
    "#### 3-5-3. LightGBM의 트리 분할 방식을 서술하고, 해당 분할 방식을 사용하는 이유를 서술하시오. (5점)"
   ]
  },
  {
   "cell_type": "markdown",
   "metadata": {
    "id": "Q5V84eOgbEqM"
   },
   "source": [
    "lightGBM은 leaf-wise 방식으로 트리를 분할한다. 일반적인 트리 구조의 모델들은 level-wise 방식으로 데이터를 분할하는데 이런 방법은 트리의 max_depth는 줄여주지만, 학습을 수행하는 데 시간이 오래 걸린다는 단점이 있다.      \n",
    "반면 leaf-wise는 무조건 트리를 이진분할하고, 분할된 두 노드 중 손실값이 더 큰 노드만 계속 이진분할한다는 특징이 있다. <span style='color:green'>이런 방식은 max_depth가 엄청 늘어나지만, 오히려 과적합을 개선하는 데에 효과적이고 수행시간도 빠르다. (단, 하이퍼 파라미터를 조정하지 않을 때에는 두 방식의 성능과 속도가 같다.)</span>    <br>  <span style='color:red'>참고: https://datascience.stackexchange.com/questions/26699/decision-trees-leaf-wise-best-first-and-level-wise-tree-traverse</span>"
   ]
  },
  {
   "cell_type": "markdown",
   "metadata": {
    "id": "_ZHc2QDFbGM_"
   },
   "source": [
    "#### 3-5-4. 모델의 복잡도를 줄이는 기본 튜닝 방안이 무엇인지 서술하시오. (5점)"
   ]
  },
  {
   "cell_type": "markdown",
   "metadata": {
    "id": "DNQnBbN7bG3b"
   },
   "source": [
    "하이퍼 파라미터 튜닝, 데이터 정규화 등을 통한 데이터 단순화, 일부 피처만 선택 등의 방안들이 있다."
   ]
  },
  {
   "cell_type": "markdown",
   "metadata": {
    "id": "3GKMv4YubIu_"
   },
   "source": [
    "# 문제4. make_moons 데이터셋 분류"
   ]
  },
  {
   "cell_type": "code",
   "execution_count": 120,
   "metadata": {
    "ExecuteTime": {
     "end_time": "2023-09-14T12:19:02.168654Z",
     "start_time": "2023-09-14T12:19:02.156486Z"
    },
    "id": "SuJlSbajbKNl"
   },
   "outputs": [],
   "source": [
    "from sklearn.datasets import make_moons\n",
    "\n",
    "X, y = make_moons(n_samples=300, noise=0.4,random_state=0)\n",
    "X_train, X_test, y_train, y_test = train_test_split(X, y, random_state=0, test_size=0.2)"
   ]
  },
  {
   "cell_type": "markdown",
   "metadata": {
    "id": "CfH7zZp6bNK2"
   },
   "source": [
    "## 4-1. 결정 트리와 랜덤 포레스트"
   ]
  },
  {
   "cell_type": "markdown",
   "metadata": {
    "id": "O5H1xQxsbPNY"
   },
   "source": [
    "#### 4-1-1. 결정트리의 하이퍼 파라미터를 모두 디폴트 값으로 설정해 학습시키고, 정확도를 출력하세요. (random_state=10) (3점)"
   ]
  },
  {
   "cell_type": "code",
   "execution_count": 121,
   "metadata": {
    "ExecuteTime": {
     "end_time": "2023-09-14T12:20:11.316067Z",
     "start_time": "2023-09-14T12:20:11.306518Z"
    },
    "id": "YUBNojeCbOAL"
   },
   "outputs": [
    {
     "name": "stdout",
     "output_type": "stream",
     "text": [
      "0.8\n"
     ]
    }
   ],
   "source": [
    "from sklearn.tree import DecisionTreeClassifier\n",
    "dt = DecisionTreeClassifier(random_state=10)\n",
    "dt.fit(X_train,y_train)\n",
    "dt_accuracy = accuracy_score(y_test,dt.predict(X_test))\n",
    "print(np.round(dt_accuracy,4))"
   ]
  },
  {
   "cell_type": "markdown",
   "metadata": {
    "id": "E8Jg63KcbSTR"
   },
   "source": [
    "#### 4-1-2. 다음은 분류기의 결정경계를 시각화하는 함수입니다. 셀을 실행시키고, 결정 트리의 결정경계를 시각화해주세요. (2점)"
   ]
  },
  {
   "cell_type": "code",
   "execution_count": 122,
   "metadata": {
    "ExecuteTime": {
     "end_time": "2023-09-14T12:20:29.649814Z",
     "start_time": "2023-09-14T12:20:29.642483Z"
    },
    "id": "C3uxRfgYbS8R"
   },
   "outputs": [],
   "source": [
    "import numpy as np\n",
    "\n",
    "# Classifier의 Decision Boundary를 시각화 하는 함수\n",
    "def visualize_boundary(model, X, y):\n",
    "    fig,ax = plt.subplots()\n",
    "\n",
    "    # 학습 데이타 scatter plot으로 나타내기\n",
    "    ax.scatter(X[:, 0], X[:, 1], c=y, s=25, cmap='rainbow', edgecolor='k',\n",
    "               clim=(y.min(), y.max()), zorder=3)\n",
    "    ax.axis('tight')\n",
    "    ax.axis('off')\n",
    "    xlim_start , xlim_end = ax.get_xlim()\n",
    "    ylim_start , ylim_end = ax.get_ylim()\n",
    "\n",
    "    # 호출 파라미터로 들어온 training 데이타로 model 학습 .\n",
    "    model.fit(X, y)\n",
    "    # meshgrid 형태인 모든 좌표값으로 예측 수행.\n",
    "    xx, yy = np.meshgrid(np.linspace(xlim_start,xlim_end, num=200),np.linspace(ylim_start,ylim_end, num=200))\n",
    "    Z = model.predict(np.c_[xx.ravel(), yy.ravel()]).reshape(xx.shape)\n",
    "\n",
    "    # contourf() 를 이용하여 class boundary 를 visualization 수행.\n",
    "    n_classes = len(np.unique(y))\n",
    "    contours = ax.contourf(xx, yy, Z, alpha=0.3,\n",
    "                           levels=np.arange(n_classes + 1) - 0.5,\n",
    "                           cmap='rainbow', clim=(y.min(), y.max()),\n",
    "                           zorder=1)"
   ]
  },
  {
   "cell_type": "code",
   "execution_count": 123,
   "metadata": {
    "ExecuteTime": {
     "end_time": "2023-09-14T12:21:17.494695Z",
     "start_time": "2023-09-14T12:21:17.366657Z"
    },
    "id": "r0AhfkfXbU-k"
   },
   "outputs": [
    {
     "data": {
      "image/png": "[encoded data removed]",
      "text/plain": [
       "<Figure size 640x480 with 1 Axes>"
      ]
     },
     "metadata": {},
     "output_type": "display_data"
    }
   ],
   "source": [
    "visualize_boundary(dt,X_train,y_train)"
   ]
  },
  {
   "cell_type": "markdown",
   "metadata": {
    "id": "cnBHcQ79bV5k"
   },
   "source": [
    "#### 4-1-3. 100개의 결정트리를 갖는 랜덤포레스트 모델을 학습시키고, 결정경계를 시각화하세요. (3점)"
   ]
  },
  {
   "cell_type": "code",
   "execution_count": 124,
   "metadata": {
    "ExecuteTime": {
     "end_time": "2023-09-14T12:21:54.082573Z",
     "start_time": "2023-09-14T12:21:53.775907Z"
    },
    "id": "o-0HfEXzbWgL"
   },
   "outputs": [
    {
     "data": {
      "image/png": "[encoded data removed]",
      "text/plain": [
       "<Figure size 640x480 with 1 Axes>"
      ]
     },
     "metadata": {},
     "output_type": "display_data"
    }
   ],
   "source": [
    "rf = RandomForestClassifier(n_estimators=100,random_state=10)\n",
    "visualize_boundary(rf,X_train,y_train)"
   ]
  },
  {
   "cell_type": "markdown",
   "metadata": {
    "id": "l-gzJF1kbXrJ"
   },
   "source": [
    "#### 4-1-4. 결정트리와 랜덤포레스트의 결정경계를 비교하고, 이런 차이가 만들어지는 이유를 간단하게 설명하세요. (2점)"
   ]
  },
  {
   "cell_type": "markdown",
   "metadata": {
    "id": "f6QEZ0psbYTL"
   },
   "source": [
    "- 결정경계 비교 : 결정트리의 경우, 하이퍼 파라미터를 조정하지 않아 모든 리프 노드의 불순도가 0이 될 때까지 데이터를 분할하여 거의 모든 이상치를 만족하도록 결정 경계가 형성되었다. 반면, 랜덤포레스트는 결정트리보다는 이상치에 민감하지 않게 결정 경계가 형성되었다.\n",
    "<br>\n",
    "- 이유 : 랜덤포레스트 역시 하이퍼 파라미터를 조절하지 않았기 때문에 랜덤포레스트를 구성하는 100개의 결정트리도 마찬가지로 모든 리프 노드의 불순도가 0이 될 때까지 아주 세세히 분할한다. 그러나, 랜덤포레스트는 원본 데이터셋으로부터 각 결정트리에 데이터를 분할할 때 부트스트래핑 방식을 활용하기 때문에, 무작위로 복원 추출된 데이터셋들에 의해 100개의 결정트리가 서로 다른 결정경계를 가질 가능성이 크다. 만약 랜덤포레스트가 부트스트래핑 방식의 데이터 분할을 하지 않았더라면, 결정트리와 같은 결정경계를 가졌을 것이다."
   ]
  },
  {
   "cell_type": "code",
   "execution_count": null,
   "metadata": {},
   "outputs": [],
   "source": []
  }
 ],
 "metadata": {
  "colab": {
   "provenance": []
  },
  "kernelspec": {
   "display_name": "Python 3 (ipykernel)",
   "language": "python",
   "name": "python3"
  },
  "language_info": {
   "codemirror_mode": {
    "name": "ipython",
    "version": 3
   },
   "file_extension": ".py",
   "mimetype": "text/x-python",
   "name": "python",
   "nbconvert_exporter": "python",
   "pygments_lexer": "ipython3",
   "version": "3.9.17"
  }
 },
 "nbformat": 4,
 "nbformat_minor": 1
}
