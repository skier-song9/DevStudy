{
 "cells": [
  {
   "cell_type": "markdown",
   "id": "d3d15e66",
   "metadata": {
    "id": "d3d15e66"
   },
   "source": [
    "# 머신러닝 2차세션 복습과제\n",
    "\n",
    "- 8/29 화요일 23:59 까지 제출\n",
    "- 지각 제출은 8/31 목요일 23:59 까지 허용\n",
    "- 제출 파일명 : 비타민_12기_1주차_복습과제_홍길동.ipynb  로 제출\n",
    "- ipynb 파일로 제출.\n"
   ]
  },
  {
   "cell_type": "markdown",
   "id": "RSL_bo8-Bi_E",
   "metadata": {
    "id": "RSL_bo8-Bi_E"
   },
   "source": [
    "## 실습1"
   ]
  },
  {
   "cell_type": "markdown",
   "id": "b4eff3bb",
   "metadata": {
    "id": "b4eff3bb"
   },
   "source": [
    "### 문제1\n",
    "와인 품질을 예측하기 위한 데이터셋인 train.csv 입니다. 다음 코드를 로드하세요."
   ]
  },
  {
   "cell_type": "code",
   "execution_count": 1,
   "id": "6c6b9c76",
   "metadata": {
    "ExecuteTime": {
     "end_time": "2023-09-02T12:13:38.013389Z",
     "start_time": "2023-09-02T12:13:33.364848Z"
    },
    "id": "7a9b9720"
   },
   "outputs": [],
   "source": [
    "from sklearn.ensemble import RandomForestClassifier\n",
    "from sklearn.model_selection import train_test_split\n",
    "from sklearn.metrics import accuracy_score\n",
    "import pandas as pd\n",
    "import numpy as np"
   ]
  },
  {
   "cell_type": "code",
   "execution_count": 104,
   "id": "7a9b9720",
   "metadata": {
    "id": "7a9b9720"
   },
   "outputs": [],
   "source": [
    "train=pd.read_csv(\"train.csv\")\n",
    "train = train.drop(['index',\"type\"], axis = 1)\n",
    "\n",
    "train_label=train[\"quality\"]\n",
    "train_data=train.drop([\"quality\"], axis = 1)"
   ]
  },
  {
   "cell_type": "code",
   "execution_count": 105,
   "id": "c8ddca78-fb38-4e06-9a73-f1454bd0d967",
   "metadata": {},
   "outputs": [
    {
     "data": {
      "text/plain": [
       "0       5\n",
       "1       5\n",
       "2       5\n",
       "3       6\n",
       "4       6\n",
       "       ..\n",
       "5492    5\n",
       "5493    6\n",
       "5494    7\n",
       "5495    5\n",
       "5496    6\n",
       "Name: quality, Length: 5497, dtype: int64"
      ]
     },
     "execution_count": 105,
     "metadata": {},
     "output_type": "execute_result"
    }
   ],
   "source": [
    "train_label"
   ]
  },
  {
   "cell_type": "code",
   "execution_count": 106,
   "id": "3f82070b-b73d-4eb8-b8c3-22975f1b007d",
   "metadata": {},
   "outputs": [
    {
     "data": {
      "text/html": [
       "<div>\n",
       "<style scoped>\n",
       "    .dataframe tbody tr th:only-of-type {\n",
       "        vertical-align: middle;\n",
       "    }\n",
       "\n",
       "    .dataframe tbody tr th {\n",
       "        vertical-align: top;\n",
       "    }\n",
       "\n",
       "    .dataframe thead th {\n",
       "        text-align: right;\n",
       "    }\n",
       "</style>\n",
       "<table border=\"1\" class=\"dataframe\">\n",
       "  <thead>\n",
       "    <tr style=\"text-align: right;\">\n",
       "      <th></th>\n",
       "      <th>fixed acidity</th>\n",
       "      <th>volatile acidity</th>\n",
       "      <th>citric acid</th>\n",
       "      <th>residual sugar</th>\n",
       "      <th>chlorides</th>\n",
       "      <th>free sulfur dioxide</th>\n",
       "      <th>total sulfur dioxide</th>\n",
       "      <th>density</th>\n",
       "      <th>pH</th>\n",
       "      <th>sulphates</th>\n",
       "      <th>alcohol</th>\n",
       "    </tr>\n",
       "  </thead>\n",
       "  <tbody>\n",
       "    <tr>\n",
       "      <th>0</th>\n",
       "      <td>5.6</td>\n",
       "      <td>0.695</td>\n",
       "      <td>0.06</td>\n",
       "      <td>6.8</td>\n",
       "      <td>0.042</td>\n",
       "      <td>9.0</td>\n",
       "      <td>84.0</td>\n",
       "      <td>0.99432</td>\n",
       "      <td>3.44</td>\n",
       "      <td>0.44</td>\n",
       "      <td>10.2</td>\n",
       "    </tr>\n",
       "    <tr>\n",
       "      <th>1</th>\n",
       "      <td>8.8</td>\n",
       "      <td>0.610</td>\n",
       "      <td>0.14</td>\n",
       "      <td>2.4</td>\n",
       "      <td>0.067</td>\n",
       "      <td>10.0</td>\n",
       "      <td>42.0</td>\n",
       "      <td>0.99690</td>\n",
       "      <td>3.19</td>\n",
       "      <td>0.59</td>\n",
       "      <td>9.5</td>\n",
       "    </tr>\n",
       "    <tr>\n",
       "      <th>2</th>\n",
       "      <td>7.9</td>\n",
       "      <td>0.210</td>\n",
       "      <td>0.39</td>\n",
       "      <td>2.0</td>\n",
       "      <td>0.057</td>\n",
       "      <td>21.0</td>\n",
       "      <td>138.0</td>\n",
       "      <td>0.99176</td>\n",
       "      <td>3.05</td>\n",
       "      <td>0.52</td>\n",
       "      <td>10.9</td>\n",
       "    </tr>\n",
       "    <tr>\n",
       "      <th>3</th>\n",
       "      <td>7.0</td>\n",
       "      <td>0.210</td>\n",
       "      <td>0.31</td>\n",
       "      <td>6.0</td>\n",
       "      <td>0.046</td>\n",
       "      <td>29.0</td>\n",
       "      <td>108.0</td>\n",
       "      <td>0.99390</td>\n",
       "      <td>3.26</td>\n",
       "      <td>0.50</td>\n",
       "      <td>10.8</td>\n",
       "    </tr>\n",
       "    <tr>\n",
       "      <th>4</th>\n",
       "      <td>7.8</td>\n",
       "      <td>0.400</td>\n",
       "      <td>0.26</td>\n",
       "      <td>9.5</td>\n",
       "      <td>0.059</td>\n",
       "      <td>32.0</td>\n",
       "      <td>178.0</td>\n",
       "      <td>0.99550</td>\n",
       "      <td>3.04</td>\n",
       "      <td>0.43</td>\n",
       "      <td>10.9</td>\n",
       "    </tr>\n",
       "    <tr>\n",
       "      <th>...</th>\n",
       "      <td>...</td>\n",
       "      <td>...</td>\n",
       "      <td>...</td>\n",
       "      <td>...</td>\n",
       "      <td>...</td>\n",
       "      <td>...</td>\n",
       "      <td>...</td>\n",
       "      <td>...</td>\n",
       "      <td>...</td>\n",
       "      <td>...</td>\n",
       "      <td>...</td>\n",
       "    </tr>\n",
       "    <tr>\n",
       "      <th>5492</th>\n",
       "      <td>7.7</td>\n",
       "      <td>0.150</td>\n",
       "      <td>0.29</td>\n",
       "      <td>1.3</td>\n",
       "      <td>0.029</td>\n",
       "      <td>10.0</td>\n",
       "      <td>64.0</td>\n",
       "      <td>0.99320</td>\n",
       "      <td>3.35</td>\n",
       "      <td>0.39</td>\n",
       "      <td>10.1</td>\n",
       "    </tr>\n",
       "    <tr>\n",
       "      <th>5493</th>\n",
       "      <td>6.3</td>\n",
       "      <td>0.180</td>\n",
       "      <td>0.36</td>\n",
       "      <td>1.2</td>\n",
       "      <td>0.034</td>\n",
       "      <td>26.0</td>\n",
       "      <td>111.0</td>\n",
       "      <td>0.99074</td>\n",
       "      <td>3.16</td>\n",
       "      <td>0.51</td>\n",
       "      <td>11.0</td>\n",
       "    </tr>\n",
       "    <tr>\n",
       "      <th>5494</th>\n",
       "      <td>7.8</td>\n",
       "      <td>0.150</td>\n",
       "      <td>0.34</td>\n",
       "      <td>1.1</td>\n",
       "      <td>0.035</td>\n",
       "      <td>31.0</td>\n",
       "      <td>93.0</td>\n",
       "      <td>0.99096</td>\n",
       "      <td>3.07</td>\n",
       "      <td>0.72</td>\n",
       "      <td>11.3</td>\n",
       "    </tr>\n",
       "    <tr>\n",
       "      <th>5495</th>\n",
       "      <td>6.6</td>\n",
       "      <td>0.410</td>\n",
       "      <td>0.31</td>\n",
       "      <td>1.6</td>\n",
       "      <td>0.042</td>\n",
       "      <td>18.0</td>\n",
       "      <td>101.0</td>\n",
       "      <td>0.99195</td>\n",
       "      <td>3.13</td>\n",
       "      <td>0.41</td>\n",
       "      <td>10.5</td>\n",
       "    </tr>\n",
       "    <tr>\n",
       "      <th>5496</th>\n",
       "      <td>7.0</td>\n",
       "      <td>0.350</td>\n",
       "      <td>0.17</td>\n",
       "      <td>1.1</td>\n",
       "      <td>0.049</td>\n",
       "      <td>7.0</td>\n",
       "      <td>119.0</td>\n",
       "      <td>0.99297</td>\n",
       "      <td>3.13</td>\n",
       "      <td>0.36</td>\n",
       "      <td>9.7</td>\n",
       "    </tr>\n",
       "  </tbody>\n",
       "</table>\n",
       "<p>5497 rows × 11 columns</p>\n",
       "</div>"
      ],
      "text/plain": [
       "      fixed acidity  volatile acidity  citric acid  residual sugar  chlorides  \\\n",
       "0               5.6             0.695         0.06             6.8      0.042   \n",
       "1               8.8             0.610         0.14             2.4      0.067   \n",
       "2               7.9             0.210         0.39             2.0      0.057   \n",
       "3               7.0             0.210         0.31             6.0      0.046   \n",
       "4               7.8             0.400         0.26             9.5      0.059   \n",
       "...             ...               ...          ...             ...        ...   \n",
       "5492            7.7             0.150         0.29             1.3      0.029   \n",
       "5493            6.3             0.180         0.36             1.2      0.034   \n",
       "5494            7.8             0.150         0.34             1.1      0.035   \n",
       "5495            6.6             0.410         0.31             1.6      0.042   \n",
       "5496            7.0             0.350         0.17             1.1      0.049   \n",
       "\n",
       "      free sulfur dioxide  total sulfur dioxide  density    pH  sulphates  \\\n",
       "0                     9.0                  84.0  0.99432  3.44       0.44   \n",
       "1                    10.0                  42.0  0.99690  3.19       0.59   \n",
       "2                    21.0                 138.0  0.99176  3.05       0.52   \n",
       "3                    29.0                 108.0  0.99390  3.26       0.50   \n",
       "4                    32.0                 178.0  0.99550  3.04       0.43   \n",
       "...                   ...                   ...      ...   ...        ...   \n",
       "5492                 10.0                  64.0  0.99320  3.35       0.39   \n",
       "5493                 26.0                 111.0  0.99074  3.16       0.51   \n",
       "5494                 31.0                  93.0  0.99096  3.07       0.72   \n",
       "5495                 18.0                 101.0  0.99195  3.13       0.41   \n",
       "5496                  7.0                 119.0  0.99297  3.13       0.36   \n",
       "\n",
       "      alcohol  \n",
       "0        10.2  \n",
       "1         9.5  \n",
       "2        10.9  \n",
       "3        10.8  \n",
       "4        10.9  \n",
       "...       ...  \n",
       "5492     10.1  \n",
       "5493     11.0  \n",
       "5494     11.3  \n",
       "5495     10.5  \n",
       "5496      9.7  \n",
       "\n",
       "[5497 rows x 11 columns]"
      ]
     },
     "execution_count": 106,
     "metadata": {},
     "output_type": "execute_result"
    }
   ],
   "source": [
    "train_data"
   ]
  },
  {
   "cell_type": "markdown",
   "id": "87fbce34",
   "metadata": {
    "id": "87fbce34"
   },
   "source": [
    "### 1-1 (8점)\n",
    "train_data 에는 feature dataset 이 , train_label 에는 품질 label 입니다.\n",
    "\n",
    "전체 데이터 세트 중에 테스트 데이터 셋의 비율이 0.3 이 되게 하여 테스트 데이터와 학습데이터를 분류 하세요. (힌트 : train_test_split() 함수를 이용하세요.)\n",
    "  \n",
    " - random_state=11로 설정해주세요"
   ]
  },
  {
   "cell_type": "code",
   "execution_count": 107,
   "id": "1175d60d",
   "metadata": {
    "id": "1175d60d"
   },
   "outputs": [],
   "source": [
    "X_train,X_test,y_train,y_test = train_test_split(train_data,train_label,test_size=0.3,random_state=11)"
   ]
  },
  {
   "cell_type": "code",
   "execution_count": 108,
   "id": "b5fc3ad2-2387-424b-9ac5-5510f9e4beb2",
   "metadata": {},
   "outputs": [
    {
     "data": {
      "text/plain": [
       "(3847, 11)"
      ]
     },
     "execution_count": 108,
     "metadata": {},
     "output_type": "execute_result"
    }
   ],
   "source": [
    "X_train.shape"
   ]
  },
  {
   "cell_type": "code",
   "execution_count": 109,
   "id": "84b9a5fa-90e9-45d2-9197-e0833a0ecbfe",
   "metadata": {},
   "outputs": [
    {
     "data": {
      "text/plain": [
       "(1650, 11)"
      ]
     },
     "execution_count": 109,
     "metadata": {},
     "output_type": "execute_result"
    }
   ],
   "source": [
    "X_test.shape"
   ]
  },
  {
   "cell_type": "code",
   "execution_count": 110,
   "id": "f0983a4a-65ca-40ba-8018-1ba5b139d151",
   "metadata": {},
   "outputs": [
    {
     "data": {
      "text/plain": [
       "(3847,)"
      ]
     },
     "execution_count": 110,
     "metadata": {},
     "output_type": "execute_result"
    }
   ],
   "source": [
    "y_train.shape"
   ]
  },
  {
   "cell_type": "code",
   "execution_count": 111,
   "id": "91a34709-b0ee-4360-998c-6cf7b1cb86af",
   "metadata": {},
   "outputs": [
    {
     "data": {
      "text/plain": [
       "(1650,)"
      ]
     },
     "execution_count": 111,
     "metadata": {},
     "output_type": "execute_result"
    }
   ],
   "source": [
    "y_test.shape"
   ]
  },
  {
   "cell_type": "markdown",
   "id": "ce1b2afe",
   "metadata": {
    "id": "ce1b2afe"
   },
   "source": [
    "### 1-2 (7점)\n",
    "랜덤포레스트 분류를 위한 사이킷런 Classifier 클래스를 생성하세요."
   ]
  },
  {
   "cell_type": "code",
   "execution_count": 112,
   "id": "b14f8d7e",
   "metadata": {
    "id": "b14f8d7e"
   },
   "outputs": [],
   "source": [
    "rf_clf =RandomForestClassifier()"
   ]
  },
  {
   "cell_type": "markdown",
   "id": "c05167b2",
   "metadata": {
    "id": "c05167b2"
   },
   "source": [
    "### 1-3. (8점)\n",
    "위에서 생성한 클래스를 활용하여 데이터를 학습하고 예측하고 평가하는 코드를 작성하세요 (힌트 : 평가할때는, accuracy_score 을 사용하세요.)"
   ]
  },
  {
   "cell_type": "code",
   "execution_count": 113,
   "id": "6747a8ba",
   "metadata": {
    "id": "6747a8ba"
   },
   "outputs": [
    {
     "name": "stdout",
     "output_type": "stream",
     "text": [
      "예측 정확도: 0.6570\n"
     ]
    }
   ],
   "source": [
    "rf_clf.fit(X_train,y_train)\n",
    "pred = rf_clf.predict(X_test)\n",
    "print('예측 정확도: {0:.4f}'.format(accuracy_score(y_test,pred)))"
   ]
  },
  {
   "cell_type": "markdown",
   "id": "e032f88f-0a35-4bd9-af3b-47ce7ab070d8",
   "metadata": {},
   "source": [
    "### 1-4 (13점)\n",
    "KFold 클래스를 이용하여 랜덤 포레스트의 평균 정확도를 소수점 4째 자리까지 출력하세요.\n",
    "- 폴드 개수는 3개로 설정합니다.\n",
    "- 분류기는 위에서 사용한 랜덤포레스트를 이용합니다"
   ]
  },
  {
   "cell_type": "code",
   "execution_count": 114,
   "id": "22507a59",
   "metadata": {
    "id": "22507a59"
   },
   "outputs": [
    {
     "name": "stdout",
     "output_type": "stream",
     "text": [
      "평균 검증 정확도: 0.6534\n"
     ]
    }
   ],
   "source": [
    "from sklearn.model_selection import KFold\n",
    "\n",
    "#폴드세트를 3개인 KFold객체를 생성하세요\n",
    "kfold = KFold(n_splits = 3)\n",
    "#폴드 수만큼 예측결과를 저장을 위한 리스트 객체 생성\n",
    "cv_accuracy = []\n",
    "\n",
    "n_iter = 0\n",
    "#for문을 이용하여 KFold교차 검증을 수행하는 코드를 작성하세요\n",
    "for train_index,test_index in kfold.split(train_data):\n",
    "   #kfold.spilt()로 반환된 인덱스를 이용해 학습용, 검증용 테스트 데이터 추출\n",
    "    X_train,X_test = train_data.iloc[train_index],train_data.iloc[test_index]\n",
    "    y_train,y_test = train_label.iloc[train_index],train_label.iloc[test_index]\n",
    "\n",
    "    #학습 및 예측\n",
    "    rf_clf.fit(X_train,y_train)\n",
    "    pred = rf_clf.predict(X_test)\n",
    "    n_iter += 1\n",
    "\n",
    "    accuracy = accuracy_score(y_test,pred)\n",
    "    cv_accuracy.append(accuracy)\n",
    "\n",
    "# 3개의 fold에서의 평균 정확도 계산후 출력\n",
    "print('평균 검증 정확도:', np.round(np.mean(cv_accuracy),4))"
   ]
  },
  {
   "cell_type": "markdown",
   "id": "567b40da",
   "metadata": {
    "id": "567b40da"
   },
   "source": [
    "### 1-5 (10점)\n",
    "cross_val_score() 을 이용하여 평균 정확도를 구해보세요.\n",
    "- 폴드개수는 3개로 설정합니다."
   ]
  },
  {
   "cell_type": "code",
   "execution_count": 115,
   "id": "0a98db67",
   "metadata": {
    "id": "0a98db67"
   },
   "outputs": [
    {
     "name": "stdout",
     "output_type": "stream",
     "text": [
      "평균 검증 정확도: 0.6496\n"
     ]
    }
   ],
   "source": [
    "from sklearn.model_selection import cross_val_score\n",
    "scores = cross_val_score(rf_clf,train_data,train_label,scoring='accuracy',cv=3)\n",
    "print('평균 검증 정확도:', np.round(np.mean(scores), 4))"
   ]
  },
  {
   "cell_type": "markdown",
   "id": "0f998582",
   "metadata": {
    "id": "0f998582"
   },
   "source": [
    "### 1-6 (13점)\n",
    "GridSearchCV를 이용하여 랜덤포레스트의 최적하이퍼파라미터 찾고 예측성능을 측정해보세요.\n",
    "- 폴드개수는 3개로 설정합니다."
   ]
  },
  {
   "cell_type": "code",
   "execution_count": 116,
   "id": "767341bd",
   "metadata": {
    "id": "767341bd"
   },
   "outputs": [
    {
     "name": "stdout",
     "output_type": "stream",
     "text": [
      "테스트 데이터 세트 정확도: 0.6452\n"
     ]
    }
   ],
   "source": [
    "from sklearn.model_selection import GridSearchCV\n",
    "\n",
    "params = {'n_estimators' : [90,100,150],\n",
    "          'max_features' : [1,3,5]\n",
    "         }\n",
    "grid_rf = GridSearchCV(rf_clf,param_grid = params , cv=3 ,refit =True)\n",
    "grid_rf.fit(X_train,y_train)\n",
    "\n",
    "#GridSearchCV의 refit으로 이미 학습된 최적성능을 나타내는 모델로 테스트 데이터 세트의 정학도 출력\n",
    "estimator = grid_rf.best_estimator_\n",
    "pred = estimator.predict(X_test)\n",
    "print('테스트 데이터 세트 정확도: {0:.4f}'.format(accuracy_score(y_test,pred)))"
   ]
  },
  {
   "cell_type": "markdown",
   "id": "0f4b5b64",
   "metadata": {
    "id": "0f4b5b64"
   },
   "source": [
    "### 1-7 (13점) StandardScaler(평균이 0이고 분산이 1인지 확인하는 작업이 필요)"
   ]
  },
  {
   "cell_type": "code",
   "execution_count": 117,
   "id": "cbf05654-f3a0-4b9a-8f4a-1c3abcb836bd",
   "metadata": {},
   "outputs": [
    {
     "data": {
      "text/plain": [
       "Index(['fixed acidity', 'volatile acidity', 'citric acid', 'residual sugar',\n",
       "       'chlorides', 'free sulfur dioxide', 'total sulfur dioxide', 'density',\n",
       "       'pH', 'sulphates', 'alcohol'],\n",
       "      dtype='object')"
      ]
     },
     "execution_count": 117,
     "metadata": {},
     "output_type": "execute_result"
    }
   ],
   "source": [
    "train_data.columns"
   ]
  },
  {
   "cell_type": "code",
   "execution_count": 118,
   "id": "adb1ec55",
   "metadata": {
    "id": "adb1ec55",
    "outputId": "db3839e5-1be6-4cd6-ae43-5c7a22d40055"
   },
   "outputs": [
    {
     "name": "stdout",
     "output_type": "stream",
     "text": [
      "train mean : \n",
      " quality                   5.818992\n",
      "fixed acidity             7.210115\n",
      "volatile acidity          0.338163\n",
      "citric acid               0.318543\n",
      "residual sugar            5.438075\n",
      "chlorides                 0.055808\n",
      "free sulfur dioxide      30.417682\n",
      "total sulfur dioxide    115.566491\n",
      "density                   0.994673\n",
      "pH                        3.219502\n",
      "sulphates                 0.530524\n",
      "alcohol                  10.504918\n",
      "dtype: float64\n",
      "train var : \n",
      " quality                    0.757441\n",
      "fixed acidity              1.657860\n",
      "volatile acidity           0.026642\n",
      "citric acid                0.021055\n",
      "residual sugar            22.625968\n",
      "chlorides                  0.001201\n",
      "free sulfur dioxide      312.366085\n",
      "total sulfur dioxide    3168.364073\n",
      "density                    0.000009\n",
      "pH                         0.025829\n",
      "sulphates                  0.022319\n",
      "alcohol                    1.426887\n",
      "dtype: float64\n",
      "\n",
      "\n",
      "feature 들의 평균 값\n",
      "fixed acidity          -4.524103e-18\n",
      "volatile acidity       -1.900123e-16\n",
      "citric acid            -5.816704e-17\n",
      "residual sugar         -1.809641e-17\n",
      "chlorides               1.454176e-17\n",
      "free sulfur dioxide    -7.884866e-17\n",
      "total sulfur dioxide    8.014126e-17\n",
      "density                 1.981105e-14\n",
      "pH                      2.274978e-15\n",
      "sulphates               3.877803e-18\n",
      "alcohol                -2.329913e-16\n",
      "dtype: float64\n",
      "\n",
      "feature 들의 분산 값\n",
      "fixed acidity           1.000182\n",
      "volatile acidity        1.000182\n",
      "citric acid             1.000182\n",
      "residual sugar          1.000182\n",
      "chlorides               1.000182\n",
      "free sulfur dioxide     1.000182\n",
      "total sulfur dioxide    1.000182\n",
      "density                 1.000182\n",
      "pH                      1.000182\n",
      "sulphates               1.000182\n",
      "alcohol                 1.000182\n",
      "dtype: float64\n"
     ]
    }
   ],
   "source": [
    "from sklearn.preprocessing import StandardScaler\n",
    "\n",
    "# train데이터에 각 변수의 평균값을 출력해주세요\n",
    "print('train mean : \\n', train.mean())\n",
    "print('train var : \\n', train.var())\n",
    "print('\\n')\n",
    "# StandardScaler객체를 이용해서 평균이 0, 분산이 1이 되는지 확인해주세요\n",
    "# variable 변수에 train열의 변수명들을 반환한 다음 scaledTrainDf에 데이터프레임 만들고, 값들은 StandardScaler객체로 스케일링 한 값으로 채워주시고, 열의 변수들은 variable변수를 이용해주세요\n",
    "scaler = StandardScaler()\n",
    "variable = train_data.columns\n",
    "scaler.fit(train_data)\n",
    "scaled_data = scaler.transform(train_data)\n",
    "scaledTrainDf = pd.DataFrame(data=scaled_data, columns=variable)\n",
    "print('feature 들의 평균 값')\n",
    "print(scaledTrainDf.mean())\n",
    "print('\\nfeature 들의 분산 값')\n",
    "print(scaledTrainDf.var())"
   ]
  },
  {
   "cell_type": "markdown",
   "id": "24899614",
   "metadata": {
    "id": "24899614"
   },
   "source": [
    "### 1-8. (10점) MinMaxScaler (최소값 : 0 , 최대값 : 1이 중요)\n",
    "\n",
    "  MinMaxScaler객체를 이용해서 최소값이 0, 최대값이 1이 되는지 확인해주세요.\n",
    "    \n",
    "결과 값은 앞에서와 같이 데이터프레임으로 만들고 각 변수의 최소값, 최대값을 확인해주세요.\n"
   ]
  },
  {
   "cell_type": "code",
   "execution_count": 119,
   "id": "c7243356",
   "metadata": {
    "id": "c7243356"
   },
   "outputs": [
    {
     "name": "stdout",
     "output_type": "stream",
     "text": [
      "feature들의 최솟값\n",
      "fixed acidity           0.0\n",
      "volatile acidity        0.0\n",
      "citric acid             0.0\n",
      "residual sugar          0.0\n",
      "chlorides               0.0\n",
      "free sulfur dioxide     0.0\n",
      "total sulfur dioxide    0.0\n",
      "density                 0.0\n",
      "pH                      0.0\n",
      "sulphates               0.0\n",
      "alcohol                 0.0\n",
      "dtype: float64\n",
      "\n",
      "feature들의 최댓값\n",
      "fixed acidity           1.0\n",
      "volatile acidity        1.0\n",
      "citric acid             1.0\n",
      "residual sugar          1.0\n",
      "chlorides               1.0\n",
      "free sulfur dioxide     1.0\n",
      "total sulfur dioxide    1.0\n",
      "density                 1.0\n",
      "pH                      1.0\n",
      "sulphates               1.0\n",
      "alcohol                 1.0\n",
      "dtype: float64\n"
     ]
    }
   ],
   "source": [
    "from sklearn.preprocessing import MinMaxScaler\n",
    "scaler = MinMaxScaler()\n",
    "variable = train_data.columns\n",
    "scaler.fit(train_data)\n",
    "scaled_data = scaler.transform(train_data)\n",
    "scaledTrainDf = pd.DataFrame(data=scaled_data, columns=variable)\n",
    "print('feature들의 최솟값')\n",
    "print(scaledTrainDf.min())\n",
    "print('\\nfeature들의 최댓값')\n",
    "print(scaledTrainDf.max())"
   ]
  },
  {
   "cell_type": "markdown",
   "id": "8ZeshFahBw1j",
   "metadata": {
    "id": "8ZeshFahBw1j"
   },
   "source": [
    "## 실습2"
   ]
  },
  {
   "cell_type": "markdown",
   "id": "98420dfb",
   "metadata": {
    "id": "98420dfb"
   },
   "source": [
    "### 문제 2\n",
    "### 2-1. (8점) 데이터 인코딩"
   ]
  },
  {
   "cell_type": "code",
   "execution_count": 120,
   "id": "ae272fc3",
   "metadata": {
    "id": "ae272fc3"
   },
   "outputs": [
    {
     "name": "stdout",
     "output_type": "stream",
     "text": [
      "인코딩 클래스: ['Ankle boot' 'Bag' 'Coat' 'Dress' 'Pullover' 'Sandal' 'Shirt' 'Sneaker'\n",
      " 'T-shirt/top' 'Trouser']\n",
      "\n",
      "디코딩 원본 값: ['Ankle boot' 'Bag' 'Coat' 'Dress' 'Pullover' 'Sandal']\n"
     ]
    }
   ],
   "source": [
    "# clothes 데이터를 인코딩하세요.(clothes 데이터는 이미 주어져있음)\n",
    "clothes = ['T-shirt/top', 'Trouser', 'Pullover', 'Dress', 'Coat', 'Sandal', 'Shirt', 'Sneaker', 'Bag', 'Ankle boot','T-shirt/top', 'Sneaker', 'Bag']\n",
    "\n",
    "# items에서 중복된 값을 없애고 clothes변수에 list 자료형으로 반환하세요\n",
    "items = list(set(clothes))\n",
    "\n",
    "# items를 LabelEncoder를 이용해서 인코딩해주고 인코딩 한 결과 값을 객체의 classes_ 속성값으로 확인해주세요(from sklearn.preprocessing import LabelEncoder)\n",
    "from sklearn.preprocessing import LabelEncoder\n",
    "encoder = LabelEncoder()\n",
    "encoder.fit(items)\n",
    "print('인코딩 클래스:',encoder.classes_)\n",
    "\n",
    "# 디코딩으로 인코딩이 제대로 되었는지 출력해서 확인해주세요(0,1,2,3,4,5 만 확인해주세요)\n",
    "print('\\n디코딩 원본 값:',encoder.inverse_transform([0,1,2,3,4,5]))"
   ]
  },
  {
   "cell_type": "markdown",
   "id": "86f0e3fa",
   "metadata": {
    "id": "86f0e3fa"
   },
   "source": [
    "### 2-2. (10점) 데이터 원 핫 인코딩"
   ]
  },
  {
   "cell_type": "code",
   "execution_count": 121,
   "id": "a14e6553",
   "metadata": {
    "id": "a14e6553"
   },
   "outputs": [
    {
     "name": "stdout",
     "output_type": "stream",
     "text": [
      "(13, 1)\n"
     ]
    },
    {
     "data": {
      "text/html": [
       "<div>\n",
       "<style scoped>\n",
       "    .dataframe tbody tr th:only-of-type {\n",
       "        vertical-align: middle;\n",
       "    }\n",
       "\n",
       "    .dataframe tbody tr th {\n",
       "        vertical-align: top;\n",
       "    }\n",
       "\n",
       "    .dataframe thead th {\n",
       "        text-align: right;\n",
       "    }\n",
       "</style>\n",
       "<table border=\"1\" class=\"dataframe\">\n",
       "  <thead>\n",
       "    <tr style=\"text-align: right;\">\n",
       "      <th></th>\n",
       "      <th>Coat</th>\n",
       "      <th>Sneaker</th>\n",
       "      <th>Sandal</th>\n",
       "      <th>Bag</th>\n",
       "      <th>Trouser</th>\n",
       "      <th>Ankle boot</th>\n",
       "      <th>Shirt</th>\n",
       "      <th>T-shirt/top</th>\n",
       "      <th>Dress</th>\n",
       "      <th>Pullover</th>\n",
       "    </tr>\n",
       "  </thead>\n",
       "  <tbody>\n",
       "    <tr>\n",
       "      <th>0</th>\n",
       "      <td>0.0</td>\n",
       "      <td>0.0</td>\n",
       "      <td>0.0</td>\n",
       "      <td>0.0</td>\n",
       "      <td>0.0</td>\n",
       "      <td>0.0</td>\n",
       "      <td>0.0</td>\n",
       "      <td>0.0</td>\n",
       "      <td>1.0</td>\n",
       "      <td>0.0</td>\n",
       "    </tr>\n",
       "    <tr>\n",
       "      <th>1</th>\n",
       "      <td>0.0</td>\n",
       "      <td>0.0</td>\n",
       "      <td>0.0</td>\n",
       "      <td>0.0</td>\n",
       "      <td>0.0</td>\n",
       "      <td>0.0</td>\n",
       "      <td>0.0</td>\n",
       "      <td>0.0</td>\n",
       "      <td>0.0</td>\n",
       "      <td>1.0</td>\n",
       "    </tr>\n",
       "    <tr>\n",
       "      <th>2</th>\n",
       "      <td>0.0</td>\n",
       "      <td>0.0</td>\n",
       "      <td>0.0</td>\n",
       "      <td>0.0</td>\n",
       "      <td>1.0</td>\n",
       "      <td>0.0</td>\n",
       "      <td>0.0</td>\n",
       "      <td>0.0</td>\n",
       "      <td>0.0</td>\n",
       "      <td>0.0</td>\n",
       "    </tr>\n",
       "    <tr>\n",
       "      <th>3</th>\n",
       "      <td>0.0</td>\n",
       "      <td>0.0</td>\n",
       "      <td>0.0</td>\n",
       "      <td>1.0</td>\n",
       "      <td>0.0</td>\n",
       "      <td>0.0</td>\n",
       "      <td>0.0</td>\n",
       "      <td>0.0</td>\n",
       "      <td>0.0</td>\n",
       "      <td>0.0</td>\n",
       "    </tr>\n",
       "    <tr>\n",
       "      <th>4</th>\n",
       "      <td>0.0</td>\n",
       "      <td>0.0</td>\n",
       "      <td>1.0</td>\n",
       "      <td>0.0</td>\n",
       "      <td>0.0</td>\n",
       "      <td>0.0</td>\n",
       "      <td>0.0</td>\n",
       "      <td>0.0</td>\n",
       "      <td>0.0</td>\n",
       "      <td>0.0</td>\n",
       "    </tr>\n",
       "    <tr>\n",
       "      <th>5</th>\n",
       "      <td>0.0</td>\n",
       "      <td>0.0</td>\n",
       "      <td>0.0</td>\n",
       "      <td>0.0</td>\n",
       "      <td>0.0</td>\n",
       "      <td>1.0</td>\n",
       "      <td>0.0</td>\n",
       "      <td>0.0</td>\n",
       "      <td>0.0</td>\n",
       "      <td>0.0</td>\n",
       "    </tr>\n",
       "    <tr>\n",
       "      <th>6</th>\n",
       "      <td>0.0</td>\n",
       "      <td>0.0</td>\n",
       "      <td>0.0</td>\n",
       "      <td>0.0</td>\n",
       "      <td>0.0</td>\n",
       "      <td>0.0</td>\n",
       "      <td>1.0</td>\n",
       "      <td>0.0</td>\n",
       "      <td>0.0</td>\n",
       "      <td>0.0</td>\n",
       "    </tr>\n",
       "    <tr>\n",
       "      <th>7</th>\n",
       "      <td>0.0</td>\n",
       "      <td>0.0</td>\n",
       "      <td>0.0</td>\n",
       "      <td>0.0</td>\n",
       "      <td>0.0</td>\n",
       "      <td>0.0</td>\n",
       "      <td>0.0</td>\n",
       "      <td>1.0</td>\n",
       "      <td>0.0</td>\n",
       "      <td>0.0</td>\n",
       "    </tr>\n",
       "    <tr>\n",
       "      <th>8</th>\n",
       "      <td>0.0</td>\n",
       "      <td>1.0</td>\n",
       "      <td>0.0</td>\n",
       "      <td>0.0</td>\n",
       "      <td>0.0</td>\n",
       "      <td>0.0</td>\n",
       "      <td>0.0</td>\n",
       "      <td>0.0</td>\n",
       "      <td>0.0</td>\n",
       "      <td>0.0</td>\n",
       "    </tr>\n",
       "    <tr>\n",
       "      <th>9</th>\n",
       "      <td>1.0</td>\n",
       "      <td>0.0</td>\n",
       "      <td>0.0</td>\n",
       "      <td>0.0</td>\n",
       "      <td>0.0</td>\n",
       "      <td>0.0</td>\n",
       "      <td>0.0</td>\n",
       "      <td>0.0</td>\n",
       "      <td>0.0</td>\n",
       "      <td>0.0</td>\n",
       "    </tr>\n",
       "    <tr>\n",
       "      <th>10</th>\n",
       "      <td>0.0</td>\n",
       "      <td>0.0</td>\n",
       "      <td>0.0</td>\n",
       "      <td>0.0</td>\n",
       "      <td>0.0</td>\n",
       "      <td>0.0</td>\n",
       "      <td>0.0</td>\n",
       "      <td>0.0</td>\n",
       "      <td>1.0</td>\n",
       "      <td>0.0</td>\n",
       "    </tr>\n",
       "    <tr>\n",
       "      <th>11</th>\n",
       "      <td>0.0</td>\n",
       "      <td>0.0</td>\n",
       "      <td>0.0</td>\n",
       "      <td>0.0</td>\n",
       "      <td>0.0</td>\n",
       "      <td>0.0</td>\n",
       "      <td>0.0</td>\n",
       "      <td>1.0</td>\n",
       "      <td>0.0</td>\n",
       "      <td>0.0</td>\n",
       "    </tr>\n",
       "    <tr>\n",
       "      <th>12</th>\n",
       "      <td>0.0</td>\n",
       "      <td>1.0</td>\n",
       "      <td>0.0</td>\n",
       "      <td>0.0</td>\n",
       "      <td>0.0</td>\n",
       "      <td>0.0</td>\n",
       "      <td>0.0</td>\n",
       "      <td>0.0</td>\n",
       "      <td>0.0</td>\n",
       "      <td>0.0</td>\n",
       "    </tr>\n",
       "  </tbody>\n",
       "</table>\n",
       "</div>"
      ],
      "text/plain": [
       "    Coat  Sneaker  Sandal  Bag  Trouser  Ankle boot  Shirt  T-shirt/top  \\\n",
       "0    0.0      0.0     0.0  0.0      0.0         0.0    0.0          0.0   \n",
       "1    0.0      0.0     0.0  0.0      0.0         0.0    0.0          0.0   \n",
       "2    0.0      0.0     0.0  0.0      1.0         0.0    0.0          0.0   \n",
       "3    0.0      0.0     0.0  1.0      0.0         0.0    0.0          0.0   \n",
       "4    0.0      0.0     1.0  0.0      0.0         0.0    0.0          0.0   \n",
       "5    0.0      0.0     0.0  0.0      0.0         1.0    0.0          0.0   \n",
       "6    0.0      0.0     0.0  0.0      0.0         0.0    1.0          0.0   \n",
       "7    0.0      0.0     0.0  0.0      0.0         0.0    0.0          1.0   \n",
       "8    0.0      1.0     0.0  0.0      0.0         0.0    0.0          0.0   \n",
       "9    1.0      0.0     0.0  0.0      0.0         0.0    0.0          0.0   \n",
       "10   0.0      0.0     0.0  0.0      0.0         0.0    0.0          0.0   \n",
       "11   0.0      0.0     0.0  0.0      0.0         0.0    0.0          1.0   \n",
       "12   0.0      1.0     0.0  0.0      0.0         0.0    0.0          0.0   \n",
       "\n",
       "    Dress  Pullover  \n",
       "0     1.0       0.0  \n",
       "1     0.0       1.0  \n",
       "2     0.0       0.0  \n",
       "3     0.0       0.0  \n",
       "4     0.0       0.0  \n",
       "5     0.0       0.0  \n",
       "6     0.0       0.0  \n",
       "7     0.0       0.0  \n",
       "8     0.0       0.0  \n",
       "9     0.0       0.0  \n",
       "10    1.0       0.0  \n",
       "11    0.0       0.0  \n",
       "12    0.0       0.0  "
      ]
     },
     "execution_count": 121,
     "metadata": {},
     "output_type": "execute_result"
    }
   ],
   "source": [
    "# clothes를 2D numpy array로 변환해주고 clothes변수에 반환해주고 데이터 크기를 출력해주세요.\n",
    "clothes = np.array(clothes).reshape(-1,1)\n",
    "print(clothes.shape)\n",
    "\n",
    "# clothes를 원 핫 인코딩 해서 결과 값을 확인해주고, df 변수에 DataFrame으로 반환해주세요\n",
    "from sklearn.preprocessing import OneHotEncoder\n",
    "oh_encoder = OneHotEncoder()\n",
    "oh_encoder.fit(clothes)\n",
    "oh_labels = oh_encoder.transform(clothes)\n",
    "\n",
    "# df 데이터프레임으로 원 핫 인코딩을 해주세요\n",
    "df = pd.DataFrame(oh_labels.toarray(),columns=items)\n",
    "df"
   ]
  },
  {
   "cell_type": "markdown",
   "id": "loBwDFzhB3LD",
   "metadata": {
    "id": "loBwDFzhB3LD"
   },
   "source": [
    "## 실습3"
   ]
  },
  {
   "cell_type": "markdown",
   "id": "pdsx3G6FB9PL",
   "metadata": {
    "id": "pdsx3G6FB9PL"
   },
   "source": [
    "### 3. Data Loading (3점)"
   ]
  },
  {
   "cell_type": "markdown",
   "id": "8hQInrfJCAnF",
   "metadata": {
    "id": "8hQInrfJCAnF"
   },
   "source": [
    "**a)** 본 과제에서는 대출신청서에 작성한 정보를 바탕으로 **대출신청 승인여부 (Loan_Status)** 가 결정된 이력 데이터로 사이킷런 머신러닝 학습을 진행합니다.\n",
    "\n",
    "주어진 데이터 *loan.csv* 를 *pandas dataframe* 으로 불러온 후, **loan**으로 저장하고, 확인해주세요.  **(1점)**"
   ]
  },
  {
   "cell_type": "code",
   "execution_count": 2,
   "id": "kK9EBmhdCA5c",
   "metadata": {
    "ExecuteTime": {
     "end_time": "2023-09-02T12:14:24.208823Z",
     "start_time": "2023-09-02T12:14:24.122174Z"
    },
    "id": "kK9EBmhdCA5c"
   },
   "outputs": [
    {
     "data": {
      "text/html": [
       "<div>\n",
       "<style scoped>\n",
       "    .dataframe tbody tr th:only-of-type {\n",
       "        vertical-align: middle;\n",
       "    }\n",
       "\n",
       "    .dataframe tbody tr th {\n",
       "        vertical-align: top;\n",
       "    }\n",
       "\n",
       "    .dataframe thead th {\n",
       "        text-align: right;\n",
       "    }\n",
       "</style>\n",
       "<table border=\"1\" class=\"dataframe\">\n",
       "  <thead>\n",
       "    <tr style=\"text-align: right;\">\n",
       "      <th></th>\n",
       "      <th>Loan_ID</th>\n",
       "      <th>Gender</th>\n",
       "      <th>Married</th>\n",
       "      <th>Dependents</th>\n",
       "      <th>Education</th>\n",
       "      <th>Self_Employed</th>\n",
       "      <th>ApplicantIncome</th>\n",
       "      <th>CoapplicantIncome</th>\n",
       "      <th>LoanAmount</th>\n",
       "      <th>Loan_Amount_Term</th>\n",
       "      <th>Credit_History</th>\n",
       "      <th>Property_Area</th>\n",
       "      <th>Loan_Status</th>\n",
       "    </tr>\n",
       "  </thead>\n",
       "  <tbody>\n",
       "    <tr>\n",
       "      <th>0</th>\n",
       "      <td>LP001002</td>\n",
       "      <td>Male</td>\n",
       "      <td>No</td>\n",
       "      <td>0</td>\n",
       "      <td>Graduate</td>\n",
       "      <td>No</td>\n",
       "      <td>5849</td>\n",
       "      <td>0.0</td>\n",
       "      <td>NaN</td>\n",
       "      <td>360.0</td>\n",
       "      <td>1.0</td>\n",
       "      <td>Urban</td>\n",
       "      <td>Y</td>\n",
       "    </tr>\n",
       "    <tr>\n",
       "      <th>1</th>\n",
       "      <td>LP001003</td>\n",
       "      <td>Male</td>\n",
       "      <td>Yes</td>\n",
       "      <td>1</td>\n",
       "      <td>Graduate</td>\n",
       "      <td>No</td>\n",
       "      <td>4583</td>\n",
       "      <td>1508.0</td>\n",
       "      <td>128.0</td>\n",
       "      <td>360.0</td>\n",
       "      <td>1.0</td>\n",
       "      <td>Rural</td>\n",
       "      <td>N</td>\n",
       "    </tr>\n",
       "    <tr>\n",
       "      <th>2</th>\n",
       "      <td>LP001005</td>\n",
       "      <td>Male</td>\n",
       "      <td>Yes</td>\n",
       "      <td>0</td>\n",
       "      <td>Graduate</td>\n",
       "      <td>Yes</td>\n",
       "      <td>3000</td>\n",
       "      <td>0.0</td>\n",
       "      <td>66.0</td>\n",
       "      <td>360.0</td>\n",
       "      <td>1.0</td>\n",
       "      <td>Urban</td>\n",
       "      <td>Y</td>\n",
       "    </tr>\n",
       "    <tr>\n",
       "      <th>3</th>\n",
       "      <td>LP001006</td>\n",
       "      <td>Male</td>\n",
       "      <td>Yes</td>\n",
       "      <td>0</td>\n",
       "      <td>Not Graduate</td>\n",
       "      <td>No</td>\n",
       "      <td>2583</td>\n",
       "      <td>2358.0</td>\n",
       "      <td>120.0</td>\n",
       "      <td>360.0</td>\n",
       "      <td>1.0</td>\n",
       "      <td>Urban</td>\n",
       "      <td>Y</td>\n",
       "    </tr>\n",
       "    <tr>\n",
       "      <th>4</th>\n",
       "      <td>LP001008</td>\n",
       "      <td>Male</td>\n",
       "      <td>No</td>\n",
       "      <td>0</td>\n",
       "      <td>Graduate</td>\n",
       "      <td>No</td>\n",
       "      <td>6000</td>\n",
       "      <td>0.0</td>\n",
       "      <td>141.0</td>\n",
       "      <td>360.0</td>\n",
       "      <td>1.0</td>\n",
       "      <td>Urban</td>\n",
       "      <td>Y</td>\n",
       "    </tr>\n",
       "  </tbody>\n",
       "</table>\n",
       "</div>"
      ],
      "text/plain": [
       "    Loan_ID Gender Married Dependents     Education Self_Employed  \\\n",
       "0  LP001002   Male      No          0      Graduate            No   \n",
       "1  LP001003   Male     Yes          1      Graduate            No   \n",
       "2  LP001005   Male     Yes          0      Graduate           Yes   \n",
       "3  LP001006   Male     Yes          0  Not Graduate            No   \n",
       "4  LP001008   Male      No          0      Graduate            No   \n",
       "\n",
       "   ApplicantIncome  CoapplicantIncome  LoanAmount  Loan_Amount_Term  \\\n",
       "0             5849                0.0         NaN             360.0   \n",
       "1             4583             1508.0       128.0             360.0   \n",
       "2             3000                0.0        66.0             360.0   \n",
       "3             2583             2358.0       120.0             360.0   \n",
       "4             6000                0.0       141.0             360.0   \n",
       "\n",
       "   Credit_History Property_Area Loan_Status  \n",
       "0             1.0         Urban           Y  \n",
       "1             1.0         Rural           N  \n",
       "2             1.0         Urban           Y  \n",
       "3             1.0         Urban           Y  \n",
       "4             1.0         Urban           Y  "
      ]
     },
     "execution_count": 2,
     "metadata": {},
     "output_type": "execute_result"
    }
   ],
   "source": [
    "loan = pd.read_csv('../data/loan.csv')\n",
    "loan.head()"
   ]
  },
  {
   "cell_type": "markdown",
   "id": "D8z3o0V6CD0D",
   "metadata": {
    "id": "D8z3o0V6CD0D"
   },
   "source": [
    "**Feature Information**\n",
    "* *Loan_ID* :  대출 ID\n",
    "* *Gender* :  성별\n",
    "* *Married* :  결혼 여부\n",
    "* *Dependents* :  부양자 수\n",
    "* *Education*:  대학졸업 여부\n",
    "* *Self_Employed*:  자영업 여부\n",
    "* *ApplicantIncome*:  소득수준\n",
    "* *CoapplicantIncome*:  배우자 소득수준\n",
    "* *LoanAmount*:  대출금액\n",
    "* *Loan_Amount_Term*:  대출 상환 기간\n",
    "* *Credit_History*:  신용(대출 상환, 신용카드 등) 기록 여부\n",
    "* *Property_Area*:  주거 지역\n",
    "* *Loan_Status*:  대출 가능 여부"
   ]
  },
  {
   "cell_type": "markdown",
   "id": "3Fcnjd3tCGHy",
   "metadata": {
    "id": "3Fcnjd3tCGHy"
   },
   "source": [
    "**b)** loan data 정보를 출력하고 (`info` 이용) loan data의 숫자형 변수의 분포를 알아봅시다. (`describe` 이용) **(1점)**"
   ]
  },
  {
   "cell_type": "code",
   "execution_count": 123,
   "id": "bWABxnfBCGh7",
   "metadata": {
    "id": "bWABxnfBCGh7"
   },
   "outputs": [
    {
     "name": "stdout",
     "output_type": "stream",
     "text": [
      "<class 'pandas.core.frame.DataFrame'>\n",
      "RangeIndex: 614 entries, 0 to 613\n",
      "Data columns (total 13 columns):\n",
      " #   Column             Non-Null Count  Dtype  \n",
      "---  ------             --------------  -----  \n",
      " 0   Loan_ID            614 non-null    object \n",
      " 1   Gender             601 non-null    object \n",
      " 2   Married            611 non-null    object \n",
      " 3   Dependents         599 non-null    object \n",
      " 4   Education          614 non-null    object \n",
      " 5   Self_Employed      582 non-null    object \n",
      " 6   ApplicantIncome    614 non-null    int64  \n",
      " 7   CoapplicantIncome  614 non-null    float64\n",
      " 8   LoanAmount         592 non-null    float64\n",
      " 9   Loan_Amount_Term   600 non-null    float64\n",
      " 10  Credit_History     564 non-null    float64\n",
      " 11  Property_Area      614 non-null    object \n",
      " 12  Loan_Status        614 non-null    object \n",
      "dtypes: float64(4), int64(1), object(8)\n",
      "memory usage: 62.5+ KB\n"
     ]
    }
   ],
   "source": [
    "# loan 데이터 프레임 정보 출력\n",
    "loan.info()"
   ]
  },
  {
   "cell_type": "code",
   "execution_count": 3,
   "id": "8GywCY1ICED6",
   "metadata": {
    "ExecuteTime": {
     "end_time": "2023-09-02T12:14:29.282382Z",
     "start_time": "2023-09-02T12:14:29.245546Z"
    },
    "id": "8GywCY1ICED6"
   },
   "outputs": [
    {
     "data": {
      "text/html": [
       "<div>\n",
       "<style scoped>\n",
       "    .dataframe tbody tr th:only-of-type {\n",
       "        vertical-align: middle;\n",
       "    }\n",
       "\n",
       "    .dataframe tbody tr th {\n",
       "        vertical-align: top;\n",
       "    }\n",
       "\n",
       "    .dataframe thead th {\n",
       "        text-align: right;\n",
       "    }\n",
       "</style>\n",
       "<table border=\"1\" class=\"dataframe\">\n",
       "  <thead>\n",
       "    <tr style=\"text-align: right;\">\n",
       "      <th></th>\n",
       "      <th>ApplicantIncome</th>\n",
       "      <th>CoapplicantIncome</th>\n",
       "      <th>LoanAmount</th>\n",
       "      <th>Loan_Amount_Term</th>\n",
       "      <th>Credit_History</th>\n",
       "    </tr>\n",
       "  </thead>\n",
       "  <tbody>\n",
       "    <tr>\n",
       "      <th>count</th>\n",
       "      <td>614.000000</td>\n",
       "      <td>614.000000</td>\n",
       "      <td>592.000000</td>\n",
       "      <td>600.00000</td>\n",
       "      <td>564.000000</td>\n",
       "    </tr>\n",
       "    <tr>\n",
       "      <th>mean</th>\n",
       "      <td>5403.459283</td>\n",
       "      <td>1621.245798</td>\n",
       "      <td>146.412162</td>\n",
       "      <td>342.00000</td>\n",
       "      <td>0.842199</td>\n",
       "    </tr>\n",
       "    <tr>\n",
       "      <th>std</th>\n",
       "      <td>6109.041673</td>\n",
       "      <td>2926.248369</td>\n",
       "      <td>85.587325</td>\n",
       "      <td>65.12041</td>\n",
       "      <td>0.364878</td>\n",
       "    </tr>\n",
       "    <tr>\n",
       "      <th>min</th>\n",
       "      <td>150.000000</td>\n",
       "      <td>0.000000</td>\n",
       "      <td>9.000000</td>\n",
       "      <td>12.00000</td>\n",
       "      <td>0.000000</td>\n",
       "    </tr>\n",
       "    <tr>\n",
       "      <th>25%</th>\n",
       "      <td>2877.500000</td>\n",
       "      <td>0.000000</td>\n",
       "      <td>100.000000</td>\n",
       "      <td>360.00000</td>\n",
       "      <td>1.000000</td>\n",
       "    </tr>\n",
       "    <tr>\n",
       "      <th>50%</th>\n",
       "      <td>3812.500000</td>\n",
       "      <td>1188.500000</td>\n",
       "      <td>128.000000</td>\n",
       "      <td>360.00000</td>\n",
       "      <td>1.000000</td>\n",
       "    </tr>\n",
       "    <tr>\n",
       "      <th>75%</th>\n",
       "      <td>5795.000000</td>\n",
       "      <td>2297.250000</td>\n",
       "      <td>168.000000</td>\n",
       "      <td>360.00000</td>\n",
       "      <td>1.000000</td>\n",
       "    </tr>\n",
       "    <tr>\n",
       "      <th>max</th>\n",
       "      <td>81000.000000</td>\n",
       "      <td>41667.000000</td>\n",
       "      <td>700.000000</td>\n",
       "      <td>480.00000</td>\n",
       "      <td>1.000000</td>\n",
       "    </tr>\n",
       "  </tbody>\n",
       "</table>\n",
       "</div>"
      ],
      "text/plain": [
       "       ApplicantIncome  CoapplicantIncome  LoanAmount  Loan_Amount_Term  \\\n",
       "count       614.000000         614.000000  592.000000         600.00000   \n",
       "mean       5403.459283        1621.245798  146.412162         342.00000   \n",
       "std        6109.041673        2926.248369   85.587325          65.12041   \n",
       "min         150.000000           0.000000    9.000000          12.00000   \n",
       "25%        2877.500000           0.000000  100.000000         360.00000   \n",
       "50%        3812.500000        1188.500000  128.000000         360.00000   \n",
       "75%        5795.000000        2297.250000  168.000000         360.00000   \n",
       "max       81000.000000       41667.000000  700.000000         480.00000   \n",
       "\n",
       "       Credit_History  \n",
       "count      564.000000  \n",
       "mean         0.842199  \n",
       "std          0.364878  \n",
       "min          0.000000  \n",
       "25%          1.000000  \n",
       "50%          1.000000  \n",
       "75%          1.000000  \n",
       "max          1.000000  "
      ]
     },
     "execution_count": 3,
     "metadata": {},
     "output_type": "execute_result"
    }
   ],
   "source": [
    "# loan 데이터 프레임의 숫자형 변수의 분포 출력\n",
    "loan.describe()"
   ]
  },
  {
   "cell_type": "markdown",
   "id": "gpHOJhWeCLi2",
   "metadata": {
    "id": "gpHOJhWeCLi2"
   },
   "source": [
    " **c)** 'Dependent' 열의 항목별 분포를 출력해보고, '3+'라고 입력되어 있는 행에 대하여 그 값을 '3'으로 바꿔주세요. (`replace` 이용) **(1점)**"
   ]
  },
  {
   "cell_type": "code",
   "execution_count": 4,
   "id": "tILRZ7UhCLvC",
   "metadata": {
    "ExecuteTime": {
     "end_time": "2023-09-02T12:14:33.903318Z",
     "start_time": "2023-09-02T12:14:33.889661Z"
    },
    "id": "tILRZ7UhCLvC"
   },
   "outputs": [
    {
     "name": "stdout",
     "output_type": "stream",
     "text": [
      "0     345\n",
      "1     102\n",
      "2     101\n",
      "3+     51\n",
      "Name: Dependents, dtype: int64\n",
      "\n",
      "\n",
      "0    345\n",
      "1    102\n",
      "2    101\n",
      "3     51\n",
      "Name: Dependents, dtype: int64\n"
     ]
    }
   ],
   "source": [
    "# 'Dependent'열의 항목별 분포 출력\n",
    "print(loan['Dependents'].value_counts())\n",
    "\n",
    "# replace 처리\n",
    "loan['Dependents'].replace('3+','3',inplace = True)\n",
    "print('\\n')\n",
    "print(loan['Dependents'].value_counts())"
   ]
  },
  {
   "cell_type": "markdown",
   "id": "GHuYkU2iCgwO",
   "metadata": {
    "id": "GHuYkU2iCgwO"
   },
   "source": [
    "## 실습4"
   ]
  },
  {
   "cell_type": "markdown",
   "id": "vyfbhE74CRPC",
   "metadata": {
    "id": "vyfbhE74CRPC"
   },
   "source": [
    "### 4. 결측값 처리 (3점)"
   ]
  },
  {
   "cell_type": "markdown",
   "id": "XS7YaySDCk38",
   "metadata": {
    "id": "XS7YaySDCk38"
   },
   "source": [
    "숫자형 변수에 대해서는 null값을 각 열의 **평균값**으로, 문자형 변수에 대해서는 null값을 각 열의 **최빈값**으로 채워주세요"
   ]
  },
  {
   "cell_type": "code",
   "execution_count": 5,
   "id": "328483be-698f-4e1e-9e83-a2031896af3a",
   "metadata": {
    "ExecuteTime": {
     "end_time": "2023-09-02T12:14:37.775638Z",
     "start_time": "2023-09-02T12:14:37.767082Z"
    }
   },
   "outputs": [
    {
     "data": {
      "text/plain": [
       "ApplicantIncome      5403.459283\n",
       "CoapplicantIncome    1621.245798\n",
       "LoanAmount            146.412162\n",
       "Loan_Amount_Term      342.000000\n",
       "Credit_History          0.842199\n",
       "dtype: float64"
      ]
     },
     "execution_count": 5,
     "metadata": {},
     "output_type": "execute_result"
    }
   ],
   "source": [
    "loan.mean(numeric_only = True)"
   ]
  },
  {
   "cell_type": "code",
   "execution_count": 6,
   "id": "855facc9-c4bd-4503-8ce1-6ff61bd085c3",
   "metadata": {
    "ExecuteTime": {
     "end_time": "2023-09-02T12:14:39.258683Z",
     "start_time": "2023-09-02T12:14:39.232077Z"
    }
   },
   "outputs": [
    {
     "data": {
      "text/html": [
       "<div>\n",
       "<style scoped>\n",
       "    .dataframe tbody tr th:only-of-type {\n",
       "        vertical-align: middle;\n",
       "    }\n",
       "\n",
       "    .dataframe tbody tr th {\n",
       "        vertical-align: top;\n",
       "    }\n",
       "\n",
       "    .dataframe thead th {\n",
       "        text-align: right;\n",
       "    }\n",
       "</style>\n",
       "<table border=\"1\" class=\"dataframe\">\n",
       "  <thead>\n",
       "    <tr style=\"text-align: right;\">\n",
       "      <th></th>\n",
       "      <th>Loan_ID</th>\n",
       "      <th>Gender</th>\n",
       "      <th>Married</th>\n",
       "      <th>Dependents</th>\n",
       "      <th>Education</th>\n",
       "      <th>Self_Employed</th>\n",
       "      <th>Property_Area</th>\n",
       "      <th>Loan_Status</th>\n",
       "    </tr>\n",
       "  </thead>\n",
       "  <tbody>\n",
       "    <tr>\n",
       "      <th>0</th>\n",
       "      <td>LP001002</td>\n",
       "      <td>Male</td>\n",
       "      <td>No</td>\n",
       "      <td>0</td>\n",
       "      <td>Graduate</td>\n",
       "      <td>No</td>\n",
       "      <td>Urban</td>\n",
       "      <td>Y</td>\n",
       "    </tr>\n",
       "    <tr>\n",
       "      <th>1</th>\n",
       "      <td>LP001003</td>\n",
       "      <td>Male</td>\n",
       "      <td>Yes</td>\n",
       "      <td>1</td>\n",
       "      <td>Graduate</td>\n",
       "      <td>No</td>\n",
       "      <td>Rural</td>\n",
       "      <td>N</td>\n",
       "    </tr>\n",
       "    <tr>\n",
       "      <th>2</th>\n",
       "      <td>LP001005</td>\n",
       "      <td>Male</td>\n",
       "      <td>Yes</td>\n",
       "      <td>0</td>\n",
       "      <td>Graduate</td>\n",
       "      <td>Yes</td>\n",
       "      <td>Urban</td>\n",
       "      <td>Y</td>\n",
       "    </tr>\n",
       "    <tr>\n",
       "      <th>3</th>\n",
       "      <td>LP001006</td>\n",
       "      <td>Male</td>\n",
       "      <td>Yes</td>\n",
       "      <td>0</td>\n",
       "      <td>Not Graduate</td>\n",
       "      <td>No</td>\n",
       "      <td>Urban</td>\n",
       "      <td>Y</td>\n",
       "    </tr>\n",
       "    <tr>\n",
       "      <th>4</th>\n",
       "      <td>LP001008</td>\n",
       "      <td>Male</td>\n",
       "      <td>No</td>\n",
       "      <td>0</td>\n",
       "      <td>Graduate</td>\n",
       "      <td>No</td>\n",
       "      <td>Urban</td>\n",
       "      <td>Y</td>\n",
       "    </tr>\n",
       "    <tr>\n",
       "      <th>...</th>\n",
       "      <td>...</td>\n",
       "      <td>...</td>\n",
       "      <td>...</td>\n",
       "      <td>...</td>\n",
       "      <td>...</td>\n",
       "      <td>...</td>\n",
       "      <td>...</td>\n",
       "      <td>...</td>\n",
       "    </tr>\n",
       "    <tr>\n",
       "      <th>609</th>\n",
       "      <td>LP002978</td>\n",
       "      <td>Female</td>\n",
       "      <td>No</td>\n",
       "      <td>0</td>\n",
       "      <td>Graduate</td>\n",
       "      <td>No</td>\n",
       "      <td>Rural</td>\n",
       "      <td>Y</td>\n",
       "    </tr>\n",
       "    <tr>\n",
       "      <th>610</th>\n",
       "      <td>LP002979</td>\n",
       "      <td>Male</td>\n",
       "      <td>Yes</td>\n",
       "      <td>3</td>\n",
       "      <td>Graduate</td>\n",
       "      <td>No</td>\n",
       "      <td>Rural</td>\n",
       "      <td>Y</td>\n",
       "    </tr>\n",
       "    <tr>\n",
       "      <th>611</th>\n",
       "      <td>LP002983</td>\n",
       "      <td>Male</td>\n",
       "      <td>Yes</td>\n",
       "      <td>1</td>\n",
       "      <td>Graduate</td>\n",
       "      <td>No</td>\n",
       "      <td>Urban</td>\n",
       "      <td>Y</td>\n",
       "    </tr>\n",
       "    <tr>\n",
       "      <th>612</th>\n",
       "      <td>LP002984</td>\n",
       "      <td>Male</td>\n",
       "      <td>Yes</td>\n",
       "      <td>2</td>\n",
       "      <td>Graduate</td>\n",
       "      <td>No</td>\n",
       "      <td>Urban</td>\n",
       "      <td>Y</td>\n",
       "    </tr>\n",
       "    <tr>\n",
       "      <th>613</th>\n",
       "      <td>LP002990</td>\n",
       "      <td>Female</td>\n",
       "      <td>No</td>\n",
       "      <td>0</td>\n",
       "      <td>Graduate</td>\n",
       "      <td>Yes</td>\n",
       "      <td>Semiurban</td>\n",
       "      <td>N</td>\n",
       "    </tr>\n",
       "  </tbody>\n",
       "</table>\n",
       "<p>614 rows × 8 columns</p>\n",
       "</div>"
      ],
      "text/plain": [
       "      Loan_ID  Gender Married Dependents     Education Self_Employed  \\\n",
       "0    LP001002    Male      No          0      Graduate            No   \n",
       "1    LP001003    Male     Yes          1      Graduate            No   \n",
       "2    LP001005    Male     Yes          0      Graduate           Yes   \n",
       "3    LP001006    Male     Yes          0  Not Graduate            No   \n",
       "4    LP001008    Male      No          0      Graduate            No   \n",
       "..        ...     ...     ...        ...           ...           ...   \n",
       "609  LP002978  Female      No          0      Graduate            No   \n",
       "610  LP002979    Male     Yes          3      Graduate            No   \n",
       "611  LP002983    Male     Yes          1      Graduate            No   \n",
       "612  LP002984    Male     Yes          2      Graduate            No   \n",
       "613  LP002990  Female      No          0      Graduate           Yes   \n",
       "\n",
       "    Property_Area Loan_Status  \n",
       "0           Urban           Y  \n",
       "1           Rural           N  \n",
       "2           Urban           Y  \n",
       "3           Urban           Y  \n",
       "4           Urban           Y  \n",
       "..            ...         ...  \n",
       "609         Rural           Y  \n",
       "610         Rural           Y  \n",
       "611         Urban           Y  \n",
       "612         Urban           Y  \n",
       "613     Semiurban           N  \n",
       "\n",
       "[614 rows x 8 columns]"
      ]
     },
     "execution_count": 6,
     "metadata": {},
     "output_type": "execute_result"
    }
   ],
   "source": [
    "loan[['Loan_ID','Gender','Married','Dependents','Education','Self_Employed','Property_Area','Loan_Status']]"
   ]
  },
  {
   "cell_type": "code",
   "execution_count": 128,
   "id": "4a179d6b-78fe-4305-b1c2-690a5e6675da",
   "metadata": {},
   "outputs": [
    {
     "data": {
      "text/plain": [
       "Gender\n",
       "Male      489\n",
       "Female    112\n",
       "Name: count, dtype: int64"
      ]
     },
     "execution_count": 128,
     "metadata": {},
     "output_type": "execute_result"
    }
   ],
   "source": [
    "loan['Gender'].value_counts()"
   ]
  },
  {
   "cell_type": "code",
   "execution_count": 9,
   "id": "I-Q14IsgClEy",
   "metadata": {
    "ExecuteTime": {
     "end_time": "2023-09-02T12:15:01.225308Z",
     "start_time": "2023-09-02T12:15:01.176192Z"
    },
    "id": "I-Q14IsgClEy"
   },
   "outputs": [
    {
     "data": {
      "text/html": [
       "<div>\n",
       "<style scoped>\n",
       "    .dataframe tbody tr th:only-of-type {\n",
       "        vertical-align: middle;\n",
       "    }\n",
       "\n",
       "    .dataframe tbody tr th {\n",
       "        vertical-align: top;\n",
       "    }\n",
       "\n",
       "    .dataframe thead th {\n",
       "        text-align: right;\n",
       "    }\n",
       "</style>\n",
       "<table border=\"1\" class=\"dataframe\">\n",
       "  <thead>\n",
       "    <tr style=\"text-align: right;\">\n",
       "      <th></th>\n",
       "      <th>Loan_ID</th>\n",
       "      <th>Gender</th>\n",
       "      <th>Married</th>\n",
       "      <th>Dependents</th>\n",
       "      <th>Education</th>\n",
       "      <th>Self_Employed</th>\n",
       "      <th>ApplicantIncome</th>\n",
       "      <th>CoapplicantIncome</th>\n",
       "      <th>LoanAmount</th>\n",
       "      <th>Loan_Amount_Term</th>\n",
       "      <th>Credit_History</th>\n",
       "      <th>Property_Area</th>\n",
       "      <th>Loan_Status</th>\n",
       "    </tr>\n",
       "  </thead>\n",
       "  <tbody>\n",
       "    <tr>\n",
       "      <th>0</th>\n",
       "      <td>LP001002</td>\n",
       "      <td>Male</td>\n",
       "      <td>No</td>\n",
       "      <td>0</td>\n",
       "      <td>Graduate</td>\n",
       "      <td>No</td>\n",
       "      <td>5849</td>\n",
       "      <td>0.0</td>\n",
       "      <td>146.412162</td>\n",
       "      <td>360.0</td>\n",
       "      <td>1.0</td>\n",
       "      <td>Urban</td>\n",
       "      <td>Y</td>\n",
       "    </tr>\n",
       "    <tr>\n",
       "      <th>1</th>\n",
       "      <td>LP001003</td>\n",
       "      <td>Male</td>\n",
       "      <td>Yes</td>\n",
       "      <td>1</td>\n",
       "      <td>Graduate</td>\n",
       "      <td>No</td>\n",
       "      <td>4583</td>\n",
       "      <td>1508.0</td>\n",
       "      <td>128.000000</td>\n",
       "      <td>360.0</td>\n",
       "      <td>1.0</td>\n",
       "      <td>Rural</td>\n",
       "      <td>N</td>\n",
       "    </tr>\n",
       "    <tr>\n",
       "      <th>2</th>\n",
       "      <td>LP001005</td>\n",
       "      <td>Male</td>\n",
       "      <td>Yes</td>\n",
       "      <td>0</td>\n",
       "      <td>Graduate</td>\n",
       "      <td>Yes</td>\n",
       "      <td>3000</td>\n",
       "      <td>0.0</td>\n",
       "      <td>66.000000</td>\n",
       "      <td>360.0</td>\n",
       "      <td>1.0</td>\n",
       "      <td>Urban</td>\n",
       "      <td>Y</td>\n",
       "    </tr>\n",
       "    <tr>\n",
       "      <th>3</th>\n",
       "      <td>LP001006</td>\n",
       "      <td>Male</td>\n",
       "      <td>Yes</td>\n",
       "      <td>0</td>\n",
       "      <td>Not Graduate</td>\n",
       "      <td>No</td>\n",
       "      <td>2583</td>\n",
       "      <td>2358.0</td>\n",
       "      <td>120.000000</td>\n",
       "      <td>360.0</td>\n",
       "      <td>1.0</td>\n",
       "      <td>Urban</td>\n",
       "      <td>Y</td>\n",
       "    </tr>\n",
       "    <tr>\n",
       "      <th>4</th>\n",
       "      <td>LP001008</td>\n",
       "      <td>Male</td>\n",
       "      <td>No</td>\n",
       "      <td>0</td>\n",
       "      <td>Graduate</td>\n",
       "      <td>No</td>\n",
       "      <td>6000</td>\n",
       "      <td>0.0</td>\n",
       "      <td>141.000000</td>\n",
       "      <td>360.0</td>\n",
       "      <td>1.0</td>\n",
       "      <td>Urban</td>\n",
       "      <td>Y</td>\n",
       "    </tr>\n",
       "    <tr>\n",
       "      <th>...</th>\n",
       "      <td>...</td>\n",
       "      <td>...</td>\n",
       "      <td>...</td>\n",
       "      <td>...</td>\n",
       "      <td>...</td>\n",
       "      <td>...</td>\n",
       "      <td>...</td>\n",
       "      <td>...</td>\n",
       "      <td>...</td>\n",
       "      <td>...</td>\n",
       "      <td>...</td>\n",
       "      <td>...</td>\n",
       "      <td>...</td>\n",
       "    </tr>\n",
       "    <tr>\n",
       "      <th>609</th>\n",
       "      <td>LP002978</td>\n",
       "      <td>Female</td>\n",
       "      <td>No</td>\n",
       "      <td>0</td>\n",
       "      <td>Graduate</td>\n",
       "      <td>No</td>\n",
       "      <td>2900</td>\n",
       "      <td>0.0</td>\n",
       "      <td>71.000000</td>\n",
       "      <td>360.0</td>\n",
       "      <td>1.0</td>\n",
       "      <td>Rural</td>\n",
       "      <td>Y</td>\n",
       "    </tr>\n",
       "    <tr>\n",
       "      <th>610</th>\n",
       "      <td>LP002979</td>\n",
       "      <td>Male</td>\n",
       "      <td>Yes</td>\n",
       "      <td>3</td>\n",
       "      <td>Graduate</td>\n",
       "      <td>No</td>\n",
       "      <td>4106</td>\n",
       "      <td>0.0</td>\n",
       "      <td>40.000000</td>\n",
       "      <td>180.0</td>\n",
       "      <td>1.0</td>\n",
       "      <td>Rural</td>\n",
       "      <td>Y</td>\n",
       "    </tr>\n",
       "    <tr>\n",
       "      <th>611</th>\n",
       "      <td>LP002983</td>\n",
       "      <td>Male</td>\n",
       "      <td>Yes</td>\n",
       "      <td>1</td>\n",
       "      <td>Graduate</td>\n",
       "      <td>No</td>\n",
       "      <td>8072</td>\n",
       "      <td>240.0</td>\n",
       "      <td>253.000000</td>\n",
       "      <td>360.0</td>\n",
       "      <td>1.0</td>\n",
       "      <td>Urban</td>\n",
       "      <td>Y</td>\n",
       "    </tr>\n",
       "    <tr>\n",
       "      <th>612</th>\n",
       "      <td>LP002984</td>\n",
       "      <td>Male</td>\n",
       "      <td>Yes</td>\n",
       "      <td>2</td>\n",
       "      <td>Graduate</td>\n",
       "      <td>No</td>\n",
       "      <td>7583</td>\n",
       "      <td>0.0</td>\n",
       "      <td>187.000000</td>\n",
       "      <td>360.0</td>\n",
       "      <td>1.0</td>\n",
       "      <td>Urban</td>\n",
       "      <td>Y</td>\n",
       "    </tr>\n",
       "    <tr>\n",
       "      <th>613</th>\n",
       "      <td>LP002990</td>\n",
       "      <td>Female</td>\n",
       "      <td>No</td>\n",
       "      <td>0</td>\n",
       "      <td>Graduate</td>\n",
       "      <td>Yes</td>\n",
       "      <td>4583</td>\n",
       "      <td>0.0</td>\n",
       "      <td>133.000000</td>\n",
       "      <td>360.0</td>\n",
       "      <td>0.0</td>\n",
       "      <td>Semiurban</td>\n",
       "      <td>N</td>\n",
       "    </tr>\n",
       "  </tbody>\n",
       "</table>\n",
       "<p>614 rows × 13 columns</p>\n",
       "</div>"
      ],
      "text/plain": [
       "      Loan_ID  Gender Married Dependents     Education Self_Employed  \\\n",
       "0    LP001002    Male      No          0      Graduate            No   \n",
       "1    LP001003    Male     Yes          1      Graduate            No   \n",
       "2    LP001005    Male     Yes          0      Graduate           Yes   \n",
       "3    LP001006    Male     Yes          0  Not Graduate            No   \n",
       "4    LP001008    Male      No          0      Graduate            No   \n",
       "..        ...     ...     ...        ...           ...           ...   \n",
       "609  LP002978  Female      No          0      Graduate            No   \n",
       "610  LP002979    Male     Yes          3      Graduate            No   \n",
       "611  LP002983    Male     Yes          1      Graduate            No   \n",
       "612  LP002984    Male     Yes          2      Graduate            No   \n",
       "613  LP002990  Female      No          0      Graduate           Yes   \n",
       "\n",
       "     ApplicantIncome  CoapplicantIncome  LoanAmount  Loan_Amount_Term  \\\n",
       "0               5849                0.0  146.412162             360.0   \n",
       "1               4583             1508.0  128.000000             360.0   \n",
       "2               3000                0.0   66.000000             360.0   \n",
       "3               2583             2358.0  120.000000             360.0   \n",
       "4               6000                0.0  141.000000             360.0   \n",
       "..               ...                ...         ...               ...   \n",
       "609             2900                0.0   71.000000             360.0   \n",
       "610             4106                0.0   40.000000             180.0   \n",
       "611             8072              240.0  253.000000             360.0   \n",
       "612             7583                0.0  187.000000             360.0   \n",
       "613             4583                0.0  133.000000             360.0   \n",
       "\n",
       "     Credit_History Property_Area Loan_Status  \n",
       "0               1.0         Urban           Y  \n",
       "1               1.0         Rural           N  \n",
       "2               1.0         Urban           Y  \n",
       "3               1.0         Urban           Y  \n",
       "4               1.0         Urban           Y  \n",
       "..              ...           ...         ...  \n",
       "609             1.0         Rural           Y  \n",
       "610             1.0         Rural           Y  \n",
       "611             1.0         Urban           Y  \n",
       "612             1.0         Urban           Y  \n",
       "613             0.0     Semiurban           N  \n",
       "\n",
       "[614 rows x 13 columns]"
      ]
     },
     "execution_count": 9,
     "metadata": {},
     "output_type": "execute_result"
    }
   ],
   "source": [
    "# 숫자형 변수 컬럼 평균값 계산\n",
    "mean = loan.mean(numeric_only = True)\n",
    "\n",
    "# 결측치 컬럼별 평균으로 대체\n",
    "loan['ApplicantIncome'].fillna(mean[0],inplace = True)\n",
    "loan['CoapplicantIncome'].fillna(mean[1], inplace= True)\n",
    "loan['LoanAmount'].fillna(mean[2],inplace = True)\n",
    "loan['Loan_Amount_Term'].fillna(mean[3],inplace=True)\n",
    "loan['Credit_History'].fillna(mean[4],inplace=True)\n",
    "\n",
    "# 문자형 변수 최빈값 계산\n",
    "li = loan['Loan_ID'].value_counts().index[0]\n",
    "g = loan['Gender'].value_counts().index[0]\n",
    "m = loan['Married'].value_counts().index[0]\n",
    "dp = loan['Dependents'].value_counts().index[0]\n",
    "ed = loan['Education'].value_counts().index[0]\n",
    "se = loan['Self_Employed'].value_counts().index[0]\n",
    "pa= loan['Property_Area'].value_counts().index[0]\n",
    "ls = loan['Loan_Status'].value_counts().index[0]\n",
    "\n",
    "# 결측치 컬럼별 최빈값으로 대체\n",
    "loan['Loan_ID'].fillna(li,inplace=True)\n",
    "loan['Gender'].fillna(g,inplace=True)\n",
    "loan['Married'].fillna(m,inplace=True)\n",
    "loan['Dependents'].fillna(dp,inplace=True)\n",
    "loan['Education'].fillna(ed,inplace=True)\n",
    "loan['Self_Employed'].fillna(se,inplace=True)\n",
    "loan['Property_Area'].fillna(pa,inplace=True)\n",
    "loan['Loan_Status'].fillna(ls,inplace=True)\n",
    "\n",
    "#원본 데이터프레임에 컨캣\n",
    "\n",
    "# print(loan)\n",
    "loan"
   ]
  },
  {
   "cell_type": "markdown",
   "id": "D4GHmg7aCpgH",
   "metadata": {
    "id": "D4GHmg7aCpgH"
   },
   "source": [
    "## 실습5"
   ]
  },
  {
   "cell_type": "markdown",
   "id": "Kwytvgi8Cne2",
   "metadata": {
    "id": "Kwytvgi8Cne2"
   },
   "source": [
    "### 5. 이상치 처리 (4점)"
   ]
  },
  {
   "cell_type": "markdown",
   "id": "Qlc8VcSqCsdk",
   "metadata": {
    "id": "Qlc8VcSqCsdk"
   },
   "source": [
    "**a)** ApplicantIncome, CoapplicantIncome, LoanAmount의 분포를 시각화하세요. (`boxplot` 이용)"
   ]
  },
  {
   "cell_type": "code",
   "execution_count": 8,
   "id": "8HHlM_ZJCstr",
   "metadata": {
    "ExecuteTime": {
     "end_time": "2023-09-02T12:14:45.844844Z",
     "start_time": "2023-09-02T12:14:44.750970Z"
    },
    "id": "8HHlM_ZJCstr"
   },
   "outputs": [
    {
     "data": {
      "image/png": "[encoded data removed]",
      "text/plain": [
       "<Figure size 640x480 with 1 Axes>"
      ]
     },
     "metadata": {},
     "output_type": "display_data"
    }
   ],
   "source": [
    "#이상치 확인을 위해 사분위수 정보를 포함하는 박스플롯으로 시각화\n",
    "import matplotlib.pyplot as plt\n",
    "plt.boxplot(loan[['ApplicantIncome','CoapplicantIncome','LoanAmount']])\n",
    "plt.show()"
   ]
  },
  {
   "cell_type": "markdown",
   "id": "UK7XoFz9CxiN",
   "metadata": {
    "id": "UK7XoFz9CxiN"
   },
   "source": [
    "**b)** ApplicantIncome, CoapplicantIncome, LoanAmount의 분포를 확인 후, 이상치를 탐색하여 drop하세요.\n",
    "\n",
    "각 column에 대하여 이상치가 있다고 판단되는 **모든 행** 을 drop해주시면 됩니다.\n",
    "\n",
    "(이상치 제거는 본인이 선호하는 방법으로 하시거나, *Tukey Fences* 방법 (답안에서 이용 예정) 을 이용해주세요. )"
   ]
  },
  {
   "cell_type": "code",
   "execution_count": 10,
   "id": "clhgzINZCx2a",
   "metadata": {
    "ExecuteTime": {
     "end_time": "2023-09-02T12:17:32.198689Z",
     "start_time": "2023-09-02T12:17:32.168160Z"
    },
    "id": "clhgzINZCx2a"
   },
   "outputs": [
    {
     "data": {
      "text/html": [
       "<div>\n",
       "<style scoped>\n",
       "    .dataframe tbody tr th:only-of-type {\n",
       "        vertical-align: middle;\n",
       "    }\n",
       "\n",
       "    .dataframe tbody tr th {\n",
       "        vertical-align: top;\n",
       "    }\n",
       "\n",
       "    .dataframe thead th {\n",
       "        text-align: right;\n",
       "    }\n",
       "</style>\n",
       "<table border=\"1\" class=\"dataframe\">\n",
       "  <thead>\n",
       "    <tr style=\"text-align: right;\">\n",
       "      <th></th>\n",
       "      <th>ApplicantIncome</th>\n",
       "      <th>CoapplicantIncome</th>\n",
       "      <th>LoanAmount</th>\n",
       "    </tr>\n",
       "  </thead>\n",
       "  <tbody>\n",
       "    <tr>\n",
       "      <th>count</th>\n",
       "      <td>614.000000</td>\n",
       "      <td>614.000000</td>\n",
       "      <td>614.000000</td>\n",
       "    </tr>\n",
       "    <tr>\n",
       "      <th>mean</th>\n",
       "      <td>5403.459283</td>\n",
       "      <td>1621.245798</td>\n",
       "      <td>146.412162</td>\n",
       "    </tr>\n",
       "    <tr>\n",
       "      <th>std</th>\n",
       "      <td>6109.041673</td>\n",
       "      <td>2926.248369</td>\n",
       "      <td>84.037468</td>\n",
       "    </tr>\n",
       "    <tr>\n",
       "      <th>min</th>\n",
       "      <td>150.000000</td>\n",
       "      <td>0.000000</td>\n",
       "      <td>9.000000</td>\n",
       "    </tr>\n",
       "    <tr>\n",
       "      <th>25%</th>\n",
       "      <td>2877.500000</td>\n",
       "      <td>0.000000</td>\n",
       "      <td>100.250000</td>\n",
       "    </tr>\n",
       "    <tr>\n",
       "      <th>50%</th>\n",
       "      <td>3812.500000</td>\n",
       "      <td>1188.500000</td>\n",
       "      <td>129.000000</td>\n",
       "    </tr>\n",
       "    <tr>\n",
       "      <th>75%</th>\n",
       "      <td>5795.000000</td>\n",
       "      <td>2297.250000</td>\n",
       "      <td>164.750000</td>\n",
       "    </tr>\n",
       "    <tr>\n",
       "      <th>max</th>\n",
       "      <td>81000.000000</td>\n",
       "      <td>41667.000000</td>\n",
       "      <td>700.000000</td>\n",
       "    </tr>\n",
       "  </tbody>\n",
       "</table>\n",
       "</div>"
      ],
      "text/plain": [
       "       ApplicantIncome  CoapplicantIncome  LoanAmount\n",
       "count       614.000000         614.000000  614.000000\n",
       "mean       5403.459283        1621.245798  146.412162\n",
       "std        6109.041673        2926.248369   84.037468\n",
       "min         150.000000           0.000000    9.000000\n",
       "25%        2877.500000           0.000000  100.250000\n",
       "50%        3812.500000        1188.500000  129.000000\n",
       "75%        5795.000000        2297.250000  164.750000\n",
       "max       81000.000000       41667.000000  700.000000"
      ]
     },
     "execution_count": 10,
     "metadata": {},
     "output_type": "execute_result"
    }
   ],
   "source": [
    "loan[['ApplicantIncome','CoapplicantIncome','LoanAmount']].describe()"
   ]
  },
  {
   "cell_type": "code",
   "execution_count": 11,
   "id": "YObmf3w7CShq",
   "metadata": {
    "ExecuteTime": {
     "end_time": "2023-09-02T12:17:39.798828Z",
     "start_time": "2023-09-02T12:17:39.788242Z"
    },
    "id": "YObmf3w7CShq"
   },
   "outputs": [],
   "source": [
    "def Tukey(data):\n",
    "    q1,q3 = np.percentile(data,[25,75])\n",
    "    iqr = q3-q1\n",
    "    lower_bound = q1 - (iqr*1.5)\n",
    "    upper_bound = q3 + (iqr*1.5)\n",
    "\n",
    "    mask = np.where((data > upper_bound) | (data < lower_bound))\n",
    "    return mask"
   ]
  },
  {
   "cell_type": "code",
   "execution_count": 12,
   "id": "65792749-1b0b-4e19-aff9-0f715ae45970",
   "metadata": {
    "ExecuteTime": {
     "end_time": "2023-09-02T12:17:41.691458Z",
     "start_time": "2023-09-02T12:17:41.676801Z"
    }
   },
   "outputs": [
    {
     "data": {
      "text/plain": [
       "array([array([  9,  34,  54,  67, 102, 106, 115, 119, 126, 128, 130, 138, 144,\n",
       "              146, 155, 171, 183, 185, 191, 199, 254, 258, 271, 278, 284, 308,\n",
       "              324, 333, 369, 370, 409, 424, 432, 438, 443, 467, 475, 478, 483,\n",
       "              487, 493, 506, 509, 525, 533, 534, 561, 572, 594, 604], dtype=int64),\n",
       "       array([  9,  12,  38, 122, 135, 177, 180, 253, 349, 372, 402, 417, 444,\n",
       "              506, 513, 523, 581, 600], dtype=int64)                          ,\n",
       "       array([  5,   9,  21,  34,  54,  67,  83, 126, 130, 135, 155, 161, 171,\n",
       "              177, 233, 253, 258, 260, 278, 308, 324, 325, 333, 351, 369, 372,\n",
       "              381, 391, 409, 432, 487, 506, 514, 523, 525, 536, 561, 572, 592,\n",
       "              600, 604], dtype=int64)                                         ],\n",
       "      dtype=object)"
      ]
     },
     "execution_count": 12,
     "metadata": {},
     "output_type": "execute_result"
    }
   ],
   "source": [
    "mask = loan[['ApplicantIncome','CoapplicantIncome','LoanAmount']].apply(Tukey).values[0]\n",
    "mask"
   ]
  },
  {
   "cell_type": "code",
   "execution_count": 13,
   "id": "c07fce3b-ec0c-4e9d-bb2e-a6f55ce56d3f",
   "metadata": {
    "ExecuteTime": {
     "end_time": "2023-09-02T12:17:45.165355Z",
     "start_time": "2023-09-02T12:17:45.149372Z"
    }
   },
   "outputs": [],
   "source": [
    "con_mask = np.concatenate([mask[0],mask[1],mask[2]])"
   ]
  },
  {
   "cell_type": "code",
   "execution_count": 14,
   "id": "fde07531-a3ad-496b-9fb2-a9f7a33514e9",
   "metadata": {
    "ExecuteTime": {
     "end_time": "2023-09-02T12:17:51.279300Z",
     "start_time": "2023-09-02T12:17:51.263301Z"
    }
   },
   "outputs": [],
   "source": [
    "con_mask = list(set(con_mask))"
   ]
  },
  {
   "cell_type": "code",
   "execution_count": 17,
   "id": "ae5d3942-dfc1-4d36-9bc3-0fd5ab66a4de",
   "metadata": {
    "ExecuteTime": {
     "end_time": "2023-09-02T12:18:05.838512Z",
     "start_time": "2023-09-02T12:18:05.820161Z"
    }
   },
   "outputs": [
    {
     "data": {
      "text/plain": [
       "[5,\n",
       " 9,\n",
       " 12,\n",
       " 21,\n",
       " 34,\n",
       " 38,\n",
       " 54,\n",
       " 67,\n",
       " 83,\n",
       " 102,\n",
       " 106,\n",
       " 115,\n",
       " 119,\n",
       " 122,\n",
       " 126,\n",
       " 128,\n",
       " 130,\n",
       " 135,\n",
       " 138,\n",
       " 144,\n",
       " 146,\n",
       " 155,\n",
       " 161,\n",
       " 171,\n",
       " 177,\n",
       " 180,\n",
       " 183,\n",
       " 185,\n",
       " 191,\n",
       " 199,\n",
       " 233,\n",
       " 253,\n",
       " 254,\n",
       " 258,\n",
       " 260,\n",
       " 271,\n",
       " 278,\n",
       " 284,\n",
       " 308,\n",
       " 324,\n",
       " 325,\n",
       " 333,\n",
       " 349,\n",
       " 351,\n",
       " 369,\n",
       " 370,\n",
       " 372,\n",
       " 381,\n",
       " 391,\n",
       " 402,\n",
       " 409,\n",
       " 417,\n",
       " 424,\n",
       " 432,\n",
       " 438,\n",
       " 443,\n",
       " 444,\n",
       " 467,\n",
       " 475,\n",
       " 478,\n",
       " 483,\n",
       " 487,\n",
       " 493,\n",
       " 506,\n",
       " 509,\n",
       " 513,\n",
       " 514,\n",
       " 523,\n",
       " 525,\n",
       " 533,\n",
       " 534,\n",
       " 536,\n",
       " 561,\n",
       " 572,\n",
       " 581,\n",
       " 592,\n",
       " 594,\n",
       " 600,\n",
       " 604]"
      ]
     },
     "execution_count": 17,
     "metadata": {},
     "output_type": "execute_result"
    }
   ],
   "source": [
    "con_mask.sort()\n",
    "list(con_mask)"
   ]
  },
  {
   "cell_type": "code",
   "execution_count": 137,
   "id": "3de93211-4525-4627-a375-7c8d7a9f7734",
   "metadata": {},
   "outputs": [],
   "source": [
    "loan.drop(con_mask,inplace=True)"
   ]
  },
  {
   "cell_type": "code",
   "execution_count": 138,
   "id": "c82e7196-57a6-4818-8d0e-70466e5e05d2",
   "metadata": {},
   "outputs": [],
   "source": [
    "loan = loan.reset_index().iloc[:,1:]"
   ]
  },
  {
   "cell_type": "code",
   "execution_count": 139,
   "id": "q_uGhXyAB9hp",
   "metadata": {
    "id": "q_uGhXyAB9hp"
   },
   "outputs": [
    {
     "name": "stdout",
     "output_type": "stream",
     "text": [
      "<class 'pandas.core.frame.DataFrame'>\n",
      "RangeIndex: 535 entries, 0 to 534\n",
      "Data columns (total 13 columns):\n",
      " #   Column             Non-Null Count  Dtype  \n",
      "---  ------             --------------  -----  \n",
      " 0   Loan_ID            535 non-null    object \n",
      " 1   Gender             535 non-null    object \n",
      " 2   Married            535 non-null    object \n",
      " 3   Dependents         535 non-null    object \n",
      " 4   Education          535 non-null    object \n",
      " 5   Self_Employed      535 non-null    object \n",
      " 6   ApplicantIncome    535 non-null    int64  \n",
      " 7   CoapplicantIncome  535 non-null    float64\n",
      " 8   LoanAmount         535 non-null    float64\n",
      " 9   Loan_Amount_Term   535 non-null    float64\n",
      " 10  Credit_History     535 non-null    float64\n",
      " 11  Property_Area      535 non-null    object \n",
      " 12  Loan_Status        535 non-null    object \n",
      "dtypes: float64(4), int64(1), object(8)\n",
      "memory usage: 54.5+ KB\n"
     ]
    }
   ],
   "source": [
    "loan.info()"
   ]
  },
  {
   "cell_type": "markdown",
   "id": "-t_G6XnlC0qN",
   "metadata": {
    "id": "-t_G6XnlC0qN"
   },
   "source": [
    "## 실습6"
   ]
  },
  {
   "cell_type": "markdown",
   "id": "XVI4xUfpC3Ro",
   "metadata": {
    "id": "XVI4xUfpC3Ro"
   },
   "source": [
    "### 6. 인코딩 (20점)"
   ]
  },
  {
   "cell_type": "markdown",
   "id": "etiOOckgC56H",
   "metadata": {
    "id": "etiOOckgC56H"
   },
   "source": [
    "머신러닝 모델이 데이터를 학습할 수 있도록, Dtype이 **'object'** 인 컬럼들에 대하여 인코딩을 실행해줍니다."
   ]
  },
  {
   "cell_type": "markdown",
   "id": "SZCsYn6nC7v5",
   "metadata": {
    "id": "SZCsYn6nC7v5"
   },
   "source": [
    "**a)** 먼저, 부양가족의 수를 의미하는 'Dependent'열의 dtype을 **object**에서 **int**로 바꿔주세요. (`.astype` 이용) **(4점)**"
   ]
  },
  {
   "cell_type": "code",
   "execution_count": 179,
   "id": "7dQafnJbC787",
   "metadata": {
    "id": "7dQafnJbC787"
   },
   "outputs": [],
   "source": [
    "loan['Dependents'] = loan['Dependents'].astype(int)"
   ]
  },
  {
   "cell_type": "markdown",
   "id": "fAyXWCuXC9yF",
   "metadata": {
    "id": "fAyXWCuXC9yF"
   },
   "source": [
    "**b)** 'Yes/No'의 형태로 기록되어 있는 열들 ('Married', 'Education', 'Self_Employed', 'Loan_Status')에 대하여 **Label Encoding**을 시행하세요. **(6점)**"
   ]
  },
  {
   "cell_type": "code",
   "execution_count": 141,
   "id": "3142dab8-07c1-4368-9b10-3ee7f400f145",
   "metadata": {},
   "outputs": [
    {
     "data": {
      "text/plain": [
       "'No'"
      ]
     },
     "execution_count": 141,
     "metadata": {},
     "output_type": "execute_result"
    }
   ],
   "source": [
    "loan['Self_Employed'][9]"
   ]
  },
  {
   "cell_type": "code",
   "execution_count": 142,
   "id": "02fce665-4c2d-4c5f-9730-eb4bc86d2c81",
   "metadata": {},
   "outputs": [
    {
     "data": {
      "text/plain": [
       "array([0, 0, 1, 0, 0, 0, 0, 0, 0, 0, 0, 0, 0, 0, 0, 0, 0, 0, 0, 0, 0, 1,\n",
       "       0, 0, 0, 0, 0, 0, 1, 0, 0, 0, 0, 0, 0, 0, 0, 0, 1, 0, 0, 0, 0, 0,\n",
       "       0, 0, 0, 0, 0, 0, 0, 0, 0, 0, 0, 1, 0, 0, 0, 0, 1, 0, 0, 1, 0, 0,\n",
       "       1, 0, 0, 1, 0, 1, 0, 1, 0, 0, 0, 0, 0, 0, 0, 0, 0, 0, 0, 0, 0, 0,\n",
       "       0, 0, 0, 0, 0, 0, 0, 0, 0, 0, 0, 0, 0, 0, 1, 0, 0, 0, 0, 0, 0, 0,\n",
       "       0, 0, 0, 0, 0, 0, 1, 0, 0, 1, 0, 0, 0, 1, 0, 0, 0, 0, 0, 0, 1, 0,\n",
       "       0, 0, 0, 0, 0, 0, 0, 0, 0, 0, 0, 0, 0, 0, 0, 0, 0, 0, 1, 0, 0, 0,\n",
       "       0, 0, 0, 0, 1, 0, 1, 0, 0, 0, 0, 0, 0, 0, 0, 0, 0, 0, 0, 0, 0, 0,\n",
       "       0, 0, 0, 0, 0, 0, 1, 1, 0, 0, 0, 0, 0, 0, 0, 0, 0, 0, 0, 0, 1, 0,\n",
       "       0, 1, 0, 0, 0, 0, 0, 0, 1, 0, 0, 0, 0, 0, 1, 0, 1, 0, 0, 0, 0, 0,\n",
       "       0, 1, 0, 0, 0, 0, 0, 0, 0, 1, 0, 0, 0, 0, 0, 0, 0, 0, 0, 0, 0, 0,\n",
       "       0, 1, 0, 0, 0, 0, 1, 0, 0, 0, 0, 0, 0, 0, 0, 0, 0, 0, 0, 0, 0, 0,\n",
       "       0, 0, 0, 0, 0, 0, 0, 0, 0, 0, 1, 0, 0, 0, 0, 0, 1, 0, 0, 0, 0, 0,\n",
       "       1, 0, 0, 0, 0, 0, 1, 1, 0, 1, 0, 0, 0, 0, 0, 0, 0, 0, 0, 0, 0, 0,\n",
       "       0, 1, 0, 0, 0, 0, 0, 0, 0, 0, 0, 0, 1, 0, 0, 0, 0, 0, 0, 0, 0, 0,\n",
       "       0, 0, 0, 0, 0, 1, 0, 0, 0, 0, 0, 0, 0, 0, 0, 0, 0, 0, 0, 0, 0, 0,\n",
       "       0, 0, 1, 0, 0, 0, 0, 1, 0, 0, 0, 0, 0, 0, 0, 0, 0, 0, 0, 0, 0, 0,\n",
       "       0, 0, 0, 1, 0, 0, 0, 0, 0, 0, 1, 0, 0, 0, 1, 0, 0, 0, 1, 0, 0, 0,\n",
       "       0, 1, 0, 0, 0, 0, 0, 1, 0, 0, 0, 0, 0, 0, 0, 0, 1, 0, 0, 1, 0, 0,\n",
       "       0, 0, 0, 0, 0, 0, 0, 0, 1, 0, 0, 0, 0, 0, 0, 0, 0, 1, 0, 0, 0, 0,\n",
       "       0, 0, 0, 0, 1, 0, 0, 0, 0, 0, 0, 0, 0, 0, 0, 1, 0, 0, 0, 0, 0, 0,\n",
       "       0, 0, 0, 0, 0, 0, 0, 0, 0, 0, 0, 0, 0, 0, 0, 0, 1, 0, 0, 0, 0, 0,\n",
       "       0, 1, 0, 0, 0, 0, 1, 0, 0, 0, 0, 0, 0, 0, 0, 0, 0, 0, 0, 0, 0, 0,\n",
       "       0, 0, 0, 0, 0, 0, 0, 0, 1, 0, 1, 0, 0, 1, 0, 1, 0, 0, 0, 0, 0, 0,\n",
       "       0, 0, 0, 0, 0, 0, 1])"
      ]
     },
     "execution_count": 142,
     "metadata": {},
     "output_type": "execute_result"
    }
   ],
   "source": [
    "encoder = LabelEncoder()\n",
    "encoder.fit_transform(loan['Self_Employed'].astype(str))"
   ]
  },
  {
   "cell_type": "code",
   "execution_count": 146,
   "id": "80af0a4a-f41d-4c67-8c35-b4a6beb84336",
   "metadata": {},
   "outputs": [],
   "source": [
    "label = ['Married', 'Education', 'Self_Employed', 'Loan_Status']\n",
    "for i in label:\n",
    "    encoder = LabelEncoder()\n",
    "    loan[i+'encoder'] = encoder.fit_transform(loan[i].astype(str))"
   ]
  },
  {
   "cell_type": "code",
   "execution_count": 147,
   "id": "7c01a69e-dba1-41eb-8d8f-80cf434fe7cc",
   "metadata": {},
   "outputs": [
    {
     "data": {
      "text/html": [
       "<div>\n",
       "<style scoped>\n",
       "    .dataframe tbody tr th:only-of-type {\n",
       "        vertical-align: middle;\n",
       "    }\n",
       "\n",
       "    .dataframe tbody tr th {\n",
       "        vertical-align: top;\n",
       "    }\n",
       "\n",
       "    .dataframe thead th {\n",
       "        text-align: right;\n",
       "    }\n",
       "</style>\n",
       "<table border=\"1\" class=\"dataframe\">\n",
       "  <thead>\n",
       "    <tr style=\"text-align: right;\">\n",
       "      <th></th>\n",
       "      <th>Loan_ID</th>\n",
       "      <th>Gender</th>\n",
       "      <th>Married</th>\n",
       "      <th>Dependents</th>\n",
       "      <th>Education</th>\n",
       "      <th>Self_Employed</th>\n",
       "      <th>ApplicantIncome</th>\n",
       "      <th>CoapplicantIncome</th>\n",
       "      <th>LoanAmount</th>\n",
       "      <th>Loan_Amount_Term</th>\n",
       "      <th>Credit_History</th>\n",
       "      <th>Property_Area</th>\n",
       "      <th>Loan_Status</th>\n",
       "      <th>Marriedencoder</th>\n",
       "      <th>Educationencoder</th>\n",
       "      <th>Self_Employedencoder</th>\n",
       "      <th>Loan_Statusencoder</th>\n",
       "    </tr>\n",
       "  </thead>\n",
       "  <tbody>\n",
       "    <tr>\n",
       "      <th>0</th>\n",
       "      <td>LP001002</td>\n",
       "      <td>Male</td>\n",
       "      <td>0</td>\n",
       "      <td>0</td>\n",
       "      <td>0</td>\n",
       "      <td>0</td>\n",
       "      <td>5849</td>\n",
       "      <td>0.0</td>\n",
       "      <td>146.412162</td>\n",
       "      <td>360.0</td>\n",
       "      <td>1.0</td>\n",
       "      <td>Urban</td>\n",
       "      <td>1</td>\n",
       "      <td>0</td>\n",
       "      <td>0</td>\n",
       "      <td>0</td>\n",
       "      <td>1</td>\n",
       "    </tr>\n",
       "    <tr>\n",
       "      <th>1</th>\n",
       "      <td>LP001003</td>\n",
       "      <td>Male</td>\n",
       "      <td>1</td>\n",
       "      <td>1</td>\n",
       "      <td>0</td>\n",
       "      <td>0</td>\n",
       "      <td>4583</td>\n",
       "      <td>1508.0</td>\n",
       "      <td>128.000000</td>\n",
       "      <td>360.0</td>\n",
       "      <td>1.0</td>\n",
       "      <td>Rural</td>\n",
       "      <td>0</td>\n",
       "      <td>1</td>\n",
       "      <td>0</td>\n",
       "      <td>0</td>\n",
       "      <td>0</td>\n",
       "    </tr>\n",
       "    <tr>\n",
       "      <th>2</th>\n",
       "      <td>LP001005</td>\n",
       "      <td>Male</td>\n",
       "      <td>1</td>\n",
       "      <td>0</td>\n",
       "      <td>0</td>\n",
       "      <td>1</td>\n",
       "      <td>3000</td>\n",
       "      <td>0.0</td>\n",
       "      <td>66.000000</td>\n",
       "      <td>360.0</td>\n",
       "      <td>1.0</td>\n",
       "      <td>Urban</td>\n",
       "      <td>1</td>\n",
       "      <td>1</td>\n",
       "      <td>0</td>\n",
       "      <td>1</td>\n",
       "      <td>1</td>\n",
       "    </tr>\n",
       "    <tr>\n",
       "      <th>3</th>\n",
       "      <td>LP001006</td>\n",
       "      <td>Male</td>\n",
       "      <td>1</td>\n",
       "      <td>0</td>\n",
       "      <td>1</td>\n",
       "      <td>0</td>\n",
       "      <td>2583</td>\n",
       "      <td>2358.0</td>\n",
       "      <td>120.000000</td>\n",
       "      <td>360.0</td>\n",
       "      <td>1.0</td>\n",
       "      <td>Urban</td>\n",
       "      <td>1</td>\n",
       "      <td>1</td>\n",
       "      <td>1</td>\n",
       "      <td>0</td>\n",
       "      <td>1</td>\n",
       "    </tr>\n",
       "    <tr>\n",
       "      <th>4</th>\n",
       "      <td>LP001008</td>\n",
       "      <td>Male</td>\n",
       "      <td>0</td>\n",
       "      <td>0</td>\n",
       "      <td>0</td>\n",
       "      <td>0</td>\n",
       "      <td>6000</td>\n",
       "      <td>0.0</td>\n",
       "      <td>141.000000</td>\n",
       "      <td>360.0</td>\n",
       "      <td>1.0</td>\n",
       "      <td>Urban</td>\n",
       "      <td>1</td>\n",
       "      <td>0</td>\n",
       "      <td>0</td>\n",
       "      <td>0</td>\n",
       "      <td>1</td>\n",
       "    </tr>\n",
       "  </tbody>\n",
       "</table>\n",
       "</div>"
      ],
      "text/plain": [
       "    Loan_ID Gender  Married Dependents  Education  Self_Employed  \\\n",
       "0  LP001002   Male        0          0          0              0   \n",
       "1  LP001003   Male        1          1          0              0   \n",
       "2  LP001005   Male        1          0          0              1   \n",
       "3  LP001006   Male        1          0          1              0   \n",
       "4  LP001008   Male        0          0          0              0   \n",
       "\n",
       "   ApplicantIncome  CoapplicantIncome  LoanAmount  Loan_Amount_Term  \\\n",
       "0             5849                0.0  146.412162             360.0   \n",
       "1             4583             1508.0  128.000000             360.0   \n",
       "2             3000                0.0   66.000000             360.0   \n",
       "3             2583             2358.0  120.000000             360.0   \n",
       "4             6000                0.0  141.000000             360.0   \n",
       "\n",
       "   Credit_History Property_Area  Loan_Status  Marriedencoder  \\\n",
       "0             1.0         Urban            1               0   \n",
       "1             1.0         Rural            0               1   \n",
       "2             1.0         Urban            1               1   \n",
       "3             1.0         Urban            1               1   \n",
       "4             1.0         Urban            1               0   \n",
       "\n",
       "   Educationencoder  Self_Employedencoder  Loan_Statusencoder  \n",
       "0                 0                     0                   1  \n",
       "1                 0                     0                   0  \n",
       "2                 0                     1                   1  \n",
       "3                 1                     0                   1  \n",
       "4                 0                     0                   1  "
      ]
     },
     "execution_count": 147,
     "metadata": {},
     "output_type": "execute_result"
    }
   ],
   "source": [
    "loan.head()"
   ]
  },
  {
   "cell_type": "markdown",
   "id": "0MJYWkv-C_xw",
   "metadata": {
    "id": "0MJYWkv-C_xw"
   },
   "source": [
    "**c)** 머신러닝 알고리즘에 불필요한 열을 제거해주세요. (*힌트 : 1개의 열만 제거하면 됩니다.*  ) **(3점)**"
   ]
  },
  {
   "cell_type": "code",
   "execution_count": 149,
   "id": "tpi8ZOuBDBBN",
   "metadata": {
    "id": "tpi8ZOuBDBBN"
   },
   "outputs": [],
   "source": [
    "loan.drop(['Loan_ID'],axis=1,inplace=True)"
   ]
  },
  {
   "cell_type": "code",
   "execution_count": 150,
   "id": "e875c42e-0890-4be8-974c-7fe3473bbf9e",
   "metadata": {},
   "outputs": [
    {
     "data": {
      "text/html": [
       "<div>\n",
       "<style scoped>\n",
       "    .dataframe tbody tr th:only-of-type {\n",
       "        vertical-align: middle;\n",
       "    }\n",
       "\n",
       "    .dataframe tbody tr th {\n",
       "        vertical-align: top;\n",
       "    }\n",
       "\n",
       "    .dataframe thead th {\n",
       "        text-align: right;\n",
       "    }\n",
       "</style>\n",
       "<table border=\"1\" class=\"dataframe\">\n",
       "  <thead>\n",
       "    <tr style=\"text-align: right;\">\n",
       "      <th></th>\n",
       "      <th>Gender</th>\n",
       "      <th>Married</th>\n",
       "      <th>Dependents</th>\n",
       "      <th>Education</th>\n",
       "      <th>Self_Employed</th>\n",
       "      <th>ApplicantIncome</th>\n",
       "      <th>CoapplicantIncome</th>\n",
       "      <th>LoanAmount</th>\n",
       "      <th>Loan_Amount_Term</th>\n",
       "      <th>Credit_History</th>\n",
       "      <th>Property_Area</th>\n",
       "      <th>Loan_Status</th>\n",
       "      <th>Marriedencoder</th>\n",
       "      <th>Educationencoder</th>\n",
       "      <th>Self_Employedencoder</th>\n",
       "      <th>Loan_Statusencoder</th>\n",
       "    </tr>\n",
       "  </thead>\n",
       "  <tbody>\n",
       "    <tr>\n",
       "      <th>0</th>\n",
       "      <td>Male</td>\n",
       "      <td>0</td>\n",
       "      <td>0</td>\n",
       "      <td>0</td>\n",
       "      <td>0</td>\n",
       "      <td>5849</td>\n",
       "      <td>0.0</td>\n",
       "      <td>146.412162</td>\n",
       "      <td>360.0</td>\n",
       "      <td>1.0</td>\n",
       "      <td>Urban</td>\n",
       "      <td>1</td>\n",
       "      <td>0</td>\n",
       "      <td>0</td>\n",
       "      <td>0</td>\n",
       "      <td>1</td>\n",
       "    </tr>\n",
       "    <tr>\n",
       "      <th>1</th>\n",
       "      <td>Male</td>\n",
       "      <td>1</td>\n",
       "      <td>1</td>\n",
       "      <td>0</td>\n",
       "      <td>0</td>\n",
       "      <td>4583</td>\n",
       "      <td>1508.0</td>\n",
       "      <td>128.000000</td>\n",
       "      <td>360.0</td>\n",
       "      <td>1.0</td>\n",
       "      <td>Rural</td>\n",
       "      <td>0</td>\n",
       "      <td>1</td>\n",
       "      <td>0</td>\n",
       "      <td>0</td>\n",
       "      <td>0</td>\n",
       "    </tr>\n",
       "    <tr>\n",
       "      <th>2</th>\n",
       "      <td>Male</td>\n",
       "      <td>1</td>\n",
       "      <td>0</td>\n",
       "      <td>0</td>\n",
       "      <td>1</td>\n",
       "      <td>3000</td>\n",
       "      <td>0.0</td>\n",
       "      <td>66.000000</td>\n",
       "      <td>360.0</td>\n",
       "      <td>1.0</td>\n",
       "      <td>Urban</td>\n",
       "      <td>1</td>\n",
       "      <td>1</td>\n",
       "      <td>0</td>\n",
       "      <td>1</td>\n",
       "      <td>1</td>\n",
       "    </tr>\n",
       "    <tr>\n",
       "      <th>3</th>\n",
       "      <td>Male</td>\n",
       "      <td>1</td>\n",
       "      <td>0</td>\n",
       "      <td>1</td>\n",
       "      <td>0</td>\n",
       "      <td>2583</td>\n",
       "      <td>2358.0</td>\n",
       "      <td>120.000000</td>\n",
       "      <td>360.0</td>\n",
       "      <td>1.0</td>\n",
       "      <td>Urban</td>\n",
       "      <td>1</td>\n",
       "      <td>1</td>\n",
       "      <td>1</td>\n",
       "      <td>0</td>\n",
       "      <td>1</td>\n",
       "    </tr>\n",
       "    <tr>\n",
       "      <th>4</th>\n",
       "      <td>Male</td>\n",
       "      <td>0</td>\n",
       "      <td>0</td>\n",
       "      <td>0</td>\n",
       "      <td>0</td>\n",
       "      <td>6000</td>\n",
       "      <td>0.0</td>\n",
       "      <td>141.000000</td>\n",
       "      <td>360.0</td>\n",
       "      <td>1.0</td>\n",
       "      <td>Urban</td>\n",
       "      <td>1</td>\n",
       "      <td>0</td>\n",
       "      <td>0</td>\n",
       "      <td>0</td>\n",
       "      <td>1</td>\n",
       "    </tr>\n",
       "    <tr>\n",
       "      <th>...</th>\n",
       "      <td>...</td>\n",
       "      <td>...</td>\n",
       "      <td>...</td>\n",
       "      <td>...</td>\n",
       "      <td>...</td>\n",
       "      <td>...</td>\n",
       "      <td>...</td>\n",
       "      <td>...</td>\n",
       "      <td>...</td>\n",
       "      <td>...</td>\n",
       "      <td>...</td>\n",
       "      <td>...</td>\n",
       "      <td>...</td>\n",
       "      <td>...</td>\n",
       "      <td>...</td>\n",
       "      <td>...</td>\n",
       "    </tr>\n",
       "    <tr>\n",
       "      <th>530</th>\n",
       "      <td>Female</td>\n",
       "      <td>0</td>\n",
       "      <td>0</td>\n",
       "      <td>0</td>\n",
       "      <td>0</td>\n",
       "      <td>2900</td>\n",
       "      <td>0.0</td>\n",
       "      <td>71.000000</td>\n",
       "      <td>360.0</td>\n",
       "      <td>1.0</td>\n",
       "      <td>Rural</td>\n",
       "      <td>1</td>\n",
       "      <td>0</td>\n",
       "      <td>0</td>\n",
       "      <td>0</td>\n",
       "      <td>1</td>\n",
       "    </tr>\n",
       "    <tr>\n",
       "      <th>531</th>\n",
       "      <td>Male</td>\n",
       "      <td>1</td>\n",
       "      <td>3</td>\n",
       "      <td>0</td>\n",
       "      <td>0</td>\n",
       "      <td>4106</td>\n",
       "      <td>0.0</td>\n",
       "      <td>40.000000</td>\n",
       "      <td>180.0</td>\n",
       "      <td>1.0</td>\n",
       "      <td>Rural</td>\n",
       "      <td>1</td>\n",
       "      <td>1</td>\n",
       "      <td>0</td>\n",
       "      <td>0</td>\n",
       "      <td>1</td>\n",
       "    </tr>\n",
       "    <tr>\n",
       "      <th>532</th>\n",
       "      <td>Male</td>\n",
       "      <td>1</td>\n",
       "      <td>1</td>\n",
       "      <td>0</td>\n",
       "      <td>0</td>\n",
       "      <td>8072</td>\n",
       "      <td>240.0</td>\n",
       "      <td>253.000000</td>\n",
       "      <td>360.0</td>\n",
       "      <td>1.0</td>\n",
       "      <td>Urban</td>\n",
       "      <td>1</td>\n",
       "      <td>1</td>\n",
       "      <td>0</td>\n",
       "      <td>0</td>\n",
       "      <td>1</td>\n",
       "    </tr>\n",
       "    <tr>\n",
       "      <th>533</th>\n",
       "      <td>Male</td>\n",
       "      <td>1</td>\n",
       "      <td>2</td>\n",
       "      <td>0</td>\n",
       "      <td>0</td>\n",
       "      <td>7583</td>\n",
       "      <td>0.0</td>\n",
       "      <td>187.000000</td>\n",
       "      <td>360.0</td>\n",
       "      <td>1.0</td>\n",
       "      <td>Urban</td>\n",
       "      <td>1</td>\n",
       "      <td>1</td>\n",
       "      <td>0</td>\n",
       "      <td>0</td>\n",
       "      <td>1</td>\n",
       "    </tr>\n",
       "    <tr>\n",
       "      <th>534</th>\n",
       "      <td>Female</td>\n",
       "      <td>0</td>\n",
       "      <td>0</td>\n",
       "      <td>0</td>\n",
       "      <td>1</td>\n",
       "      <td>4583</td>\n",
       "      <td>0.0</td>\n",
       "      <td>133.000000</td>\n",
       "      <td>360.0</td>\n",
       "      <td>0.0</td>\n",
       "      <td>Semiurban</td>\n",
       "      <td>0</td>\n",
       "      <td>0</td>\n",
       "      <td>0</td>\n",
       "      <td>1</td>\n",
       "      <td>0</td>\n",
       "    </tr>\n",
       "  </tbody>\n",
       "</table>\n",
       "<p>535 rows × 16 columns</p>\n",
       "</div>"
      ],
      "text/plain": [
       "     Gender  Married Dependents  Education  Self_Employed  ApplicantIncome  \\\n",
       "0      Male        0          0          0              0             5849   \n",
       "1      Male        1          1          0              0             4583   \n",
       "2      Male        1          0          0              1             3000   \n",
       "3      Male        1          0          1              0             2583   \n",
       "4      Male        0          0          0              0             6000   \n",
       "..      ...      ...        ...        ...            ...              ...   \n",
       "530  Female        0          0          0              0             2900   \n",
       "531    Male        1          3          0              0             4106   \n",
       "532    Male        1          1          0              0             8072   \n",
       "533    Male        1          2          0              0             7583   \n",
       "534  Female        0          0          0              1             4583   \n",
       "\n",
       "     CoapplicantIncome  LoanAmount  Loan_Amount_Term  Credit_History  \\\n",
       "0                  0.0  146.412162             360.0             1.0   \n",
       "1               1508.0  128.000000             360.0             1.0   \n",
       "2                  0.0   66.000000             360.0             1.0   \n",
       "3               2358.0  120.000000             360.0             1.0   \n",
       "4                  0.0  141.000000             360.0             1.0   \n",
       "..                 ...         ...               ...             ...   \n",
       "530                0.0   71.000000             360.0             1.0   \n",
       "531                0.0   40.000000             180.0             1.0   \n",
       "532              240.0  253.000000             360.0             1.0   \n",
       "533                0.0  187.000000             360.0             1.0   \n",
       "534                0.0  133.000000             360.0             0.0   \n",
       "\n",
       "    Property_Area  Loan_Status  Marriedencoder  Educationencoder  \\\n",
       "0           Urban            1               0                 0   \n",
       "1           Rural            0               1                 0   \n",
       "2           Urban            1               1                 0   \n",
       "3           Urban            1               1                 1   \n",
       "4           Urban            1               0                 0   \n",
       "..            ...          ...             ...               ...   \n",
       "530         Rural            1               0                 0   \n",
       "531         Rural            1               1                 0   \n",
       "532         Urban            1               1                 0   \n",
       "533         Urban            1               1                 0   \n",
       "534     Semiurban            0               0                 0   \n",
       "\n",
       "     Self_Employedencoder  Loan_Statusencoder  \n",
       "0                       0                   1  \n",
       "1                       0                   0  \n",
       "2                       1                   1  \n",
       "3                       0                   1  \n",
       "4                       0                   1  \n",
       "..                    ...                 ...  \n",
       "530                     0                   1  \n",
       "531                     0                   1  \n",
       "532                     0                   1  \n",
       "533                     0                   1  \n",
       "534                     1                   0  \n",
       "\n",
       "[535 rows x 16 columns]"
      ]
     },
     "execution_count": 150,
     "metadata": {},
     "output_type": "execute_result"
    }
   ],
   "source": [
    "loan"
   ]
  },
  {
   "cell_type": "markdown",
   "id": "skENNWosDCnq",
   "metadata": {
    "id": "skENNWosDCnq"
   },
   "source": [
    "**d)** 나머지 문자형 변수 ('Gender'와 'Property_Area')에 대해서는 **OneHotEncoding**을 시행하세요. **(6점)**\n",
    "\n",
    "(`OneHotEncoder` 또는 `pd.get_dummies` 모두 이용 가능)"
   ]
  },
  {
   "cell_type": "code",
   "execution_count": 165,
   "id": "SHuUdWwfDC0c",
   "metadata": {
    "id": "SHuUdWwfDC0c"
   },
   "outputs": [],
   "source": [
    "loan[['Gender_Female','Gender_Male','Property_Area_Rural','Property_Area_Semiurban','Property_Area_Urban']] = pd.get_dummies(loan[['Gender', 'Property_Area']]).astype(int)"
   ]
  },
  {
   "cell_type": "code",
   "execution_count": 168,
   "id": "de022c48-8355-410a-a216-387eb8684cff",
   "metadata": {},
   "outputs": [],
   "source": [
    "loan.drop(['Married', 'Education', 'Self_Employed', 'Loan_Status'],axis=1,inplace=True)"
   ]
  },
  {
   "cell_type": "code",
   "execution_count": 171,
   "id": "43a44aec-3095-4e92-8798-7958e4d9666c",
   "metadata": {},
   "outputs": [],
   "source": [
    "loan.drop(['Gender', 'Property_Area'],axis=1,inplace=True)"
   ]
  },
  {
   "cell_type": "code",
   "execution_count": 172,
   "id": "6e63713a-8f9b-4595-ba5c-a03d6bf2bf97",
   "metadata": {},
   "outputs": [
    {
     "data": {
      "text/html": [
       "<div>\n",
       "<style scoped>\n",
       "    .dataframe tbody tr th:only-of-type {\n",
       "        vertical-align: middle;\n",
       "    }\n",
       "\n",
       "    .dataframe tbody tr th {\n",
       "        vertical-align: top;\n",
       "    }\n",
       "\n",
       "    .dataframe thead th {\n",
       "        text-align: right;\n",
       "    }\n",
       "</style>\n",
       "<table border=\"1\" class=\"dataframe\">\n",
       "  <thead>\n",
       "    <tr style=\"text-align: right;\">\n",
       "      <th></th>\n",
       "      <th>Dependents</th>\n",
       "      <th>ApplicantIncome</th>\n",
       "      <th>CoapplicantIncome</th>\n",
       "      <th>LoanAmount</th>\n",
       "      <th>Loan_Amount_Term</th>\n",
       "      <th>Credit_History</th>\n",
       "      <th>Marriedencoder</th>\n",
       "      <th>Educationencoder</th>\n",
       "      <th>Self_Employedencoder</th>\n",
       "      <th>Loan_Statusencoder</th>\n",
       "      <th>Gender_Female</th>\n",
       "      <th>Gender_Male</th>\n",
       "      <th>Property_Area_Rural</th>\n",
       "      <th>Property_Area_Semiurban</th>\n",
       "      <th>Property_Area_Urban</th>\n",
       "    </tr>\n",
       "  </thead>\n",
       "  <tbody>\n",
       "    <tr>\n",
       "      <th>0</th>\n",
       "      <td>0</td>\n",
       "      <td>5849</td>\n",
       "      <td>0.0</td>\n",
       "      <td>146.412162</td>\n",
       "      <td>360.0</td>\n",
       "      <td>1.0</td>\n",
       "      <td>0</td>\n",
       "      <td>0</td>\n",
       "      <td>0</td>\n",
       "      <td>1</td>\n",
       "      <td>0</td>\n",
       "      <td>1</td>\n",
       "      <td>0</td>\n",
       "      <td>0</td>\n",
       "      <td>1</td>\n",
       "    </tr>\n",
       "    <tr>\n",
       "      <th>1</th>\n",
       "      <td>1</td>\n",
       "      <td>4583</td>\n",
       "      <td>1508.0</td>\n",
       "      <td>128.000000</td>\n",
       "      <td>360.0</td>\n",
       "      <td>1.0</td>\n",
       "      <td>1</td>\n",
       "      <td>0</td>\n",
       "      <td>0</td>\n",
       "      <td>0</td>\n",
       "      <td>0</td>\n",
       "      <td>1</td>\n",
       "      <td>1</td>\n",
       "      <td>0</td>\n",
       "      <td>0</td>\n",
       "    </tr>\n",
       "    <tr>\n",
       "      <th>2</th>\n",
       "      <td>0</td>\n",
       "      <td>3000</td>\n",
       "      <td>0.0</td>\n",
       "      <td>66.000000</td>\n",
       "      <td>360.0</td>\n",
       "      <td>1.0</td>\n",
       "      <td>1</td>\n",
       "      <td>0</td>\n",
       "      <td>1</td>\n",
       "      <td>1</td>\n",
       "      <td>0</td>\n",
       "      <td>1</td>\n",
       "      <td>0</td>\n",
       "      <td>0</td>\n",
       "      <td>1</td>\n",
       "    </tr>\n",
       "    <tr>\n",
       "      <th>3</th>\n",
       "      <td>0</td>\n",
       "      <td>2583</td>\n",
       "      <td>2358.0</td>\n",
       "      <td>120.000000</td>\n",
       "      <td>360.0</td>\n",
       "      <td>1.0</td>\n",
       "      <td>1</td>\n",
       "      <td>1</td>\n",
       "      <td>0</td>\n",
       "      <td>1</td>\n",
       "      <td>0</td>\n",
       "      <td>1</td>\n",
       "      <td>0</td>\n",
       "      <td>0</td>\n",
       "      <td>1</td>\n",
       "    </tr>\n",
       "    <tr>\n",
       "      <th>4</th>\n",
       "      <td>0</td>\n",
       "      <td>6000</td>\n",
       "      <td>0.0</td>\n",
       "      <td>141.000000</td>\n",
       "      <td>360.0</td>\n",
       "      <td>1.0</td>\n",
       "      <td>0</td>\n",
       "      <td>0</td>\n",
       "      <td>0</td>\n",
       "      <td>1</td>\n",
       "      <td>0</td>\n",
       "      <td>1</td>\n",
       "      <td>0</td>\n",
       "      <td>0</td>\n",
       "      <td>1</td>\n",
       "    </tr>\n",
       "  </tbody>\n",
       "</table>\n",
       "</div>"
      ],
      "text/plain": [
       "  Dependents  ApplicantIncome  CoapplicantIncome  LoanAmount  \\\n",
       "0          0             5849                0.0  146.412162   \n",
       "1          1             4583             1508.0  128.000000   \n",
       "2          0             3000                0.0   66.000000   \n",
       "3          0             2583             2358.0  120.000000   \n",
       "4          0             6000                0.0  141.000000   \n",
       "\n",
       "   Loan_Amount_Term  Credit_History  Marriedencoder  Educationencoder  \\\n",
       "0             360.0             1.0               0                 0   \n",
       "1             360.0             1.0               1                 0   \n",
       "2             360.0             1.0               1                 0   \n",
       "3             360.0             1.0               1                 1   \n",
       "4             360.0             1.0               0                 0   \n",
       "\n",
       "   Self_Employedencoder  Loan_Statusencoder  Gender_Female  Gender_Male  \\\n",
       "0                     0                   1              0            1   \n",
       "1                     0                   0              0            1   \n",
       "2                     1                   1              0            1   \n",
       "3                     0                   1              0            1   \n",
       "4                     0                   1              0            1   \n",
       "\n",
       "   Property_Area_Rural  Property_Area_Semiurban  Property_Area_Urban  \n",
       "0                    0                        0                    1  \n",
       "1                    1                        0                    0  \n",
       "2                    0                        0                    1  \n",
       "3                    0                        0                    1  \n",
       "4                    0                        0                    1  "
      ]
     },
     "execution_count": 172,
     "metadata": {},
     "output_type": "execute_result"
    }
   ],
   "source": [
    "loan.head()"
   ]
  },
  {
   "cell_type": "markdown",
   "id": "oFaIjtT8DEbj",
   "metadata": {
    "id": "oFaIjtT8DEbj"
   },
   "source": [
    "**e)** 마지막으로 `.info()`를 이용하여 object type, null값 확인 등을 통해 모델링에 쓰일 수 있는 data인지 최종 검토합니다! **(1점)**"
   ]
  },
  {
   "cell_type": "code",
   "execution_count": 180,
   "id": "1XZDzUhwDEns",
   "metadata": {
    "id": "1XZDzUhwDEns"
   },
   "outputs": [
    {
     "name": "stdout",
     "output_type": "stream",
     "text": [
      "<class 'pandas.core.frame.DataFrame'>\n",
      "RangeIndex: 535 entries, 0 to 534\n",
      "Data columns (total 15 columns):\n",
      " #   Column                   Non-Null Count  Dtype  \n",
      "---  ------                   --------------  -----  \n",
      " 0   Dependents               535 non-null    int64  \n",
      " 1   ApplicantIncome          535 non-null    int64  \n",
      " 2   CoapplicantIncome        535 non-null    float64\n",
      " 3   LoanAmount               535 non-null    float64\n",
      " 4   Loan_Amount_Term         535 non-null    float64\n",
      " 5   Credit_History           535 non-null    float64\n",
      " 6   Marriedencoder           535 non-null    int64  \n",
      " 7   Educationencoder         535 non-null    int64  \n",
      " 8   Self_Employedencoder     535 non-null    int64  \n",
      " 9   Loan_Statusencoder       535 non-null    int64  \n",
      " 10  Gender_Female            535 non-null    int64  \n",
      " 11  Gender_Male              535 non-null    int64  \n",
      " 12  Property_Area_Rural      535 non-null    int64  \n",
      " 13  Property_Area_Semiurban  535 non-null    int64  \n",
      " 14  Property_Area_Urban      535 non-null    int64  \n",
      "dtypes: float64(4), int64(11)\n",
      "memory usage: 62.8 KB\n"
     ]
    }
   ],
   "source": [
    "loan.info()"
   ]
  },
  {
   "cell_type": "markdown",
   "id": "qpY0RoOODHkq",
   "metadata": {
    "id": "qpY0RoOODHkq"
   },
   "source": [
    "## 실습7"
   ]
  },
  {
   "cell_type": "markdown",
   "id": "AXG7ntqUDIvS",
   "metadata": {
    "id": "AXG7ntqUDIvS"
   },
   "source": [
    "### 7. Train Test Split (15점)"
   ]
  },
  {
   "cell_type": "markdown",
   "id": "MkQpOfxaDMZh",
   "metadata": {
    "id": "MkQpOfxaDMZh"
   },
   "source": [
    "**a)** feature 데이터를 x라는 새로운 데이터프레임으로 불러오고, 테스트용 데이터셋의 사이즈는 0.25로 설정하여 train_test_split을 실행하세요. **(10점)**"
   ]
  },
  {
   "cell_type": "code",
   "execution_count": 185,
   "id": "3wKohQkXDM1g",
   "metadata": {
    "id": "3wKohQkXDM1g"
   },
   "outputs": [],
   "source": [
    "#Spliting the dataset into features and target\n",
    "target = loan['Loan_Statusencoder']\n",
    "x = loan.drop(['Loan_Statusencoder'],axis=1)"
   ]
  },
  {
   "cell_type": "code",
   "execution_count": 187,
   "id": "VlGIUZmnDKHa",
   "metadata": {
    "id": "VlGIUZmnDKHa"
   },
   "outputs": [],
   "source": [
    "#Train & Test data split\n",
    "from sklearn.model_selection import train_test_split\n",
    "X_train,X_test,y_train,y_test = train_test_split(x,target,test_size = 0.25)"
   ]
  },
  {
   "cell_type": "markdown",
   "id": "PfeqnsMrDQBO",
   "metadata": {
    "id": "PfeqnsMrDQBO"
   },
   "source": [
    "**b)** 아래 코드를 실행해주세요."
   ]
  },
  {
   "cell_type": "code",
   "execution_count": 188,
   "id": "Y0bX45-2DQP3",
   "metadata": {
    "id": "Y0bX45-2DQP3"
   },
   "outputs": [],
   "source": [
    "from sklearn.tree import DecisionTreeClassifier\n",
    "from sklearn.metrics import accuracy_score\n",
    "dt=DecisionTreeClassifier(random_state=10)"
   ]
  },
  {
   "cell_type": "markdown",
   "id": "xxBUQQN_DSt6",
   "metadata": {
    "id": "xxBUQQN_DSt6"
   },
   "source": [
    "**c)** DecisionTreeClassifier를 이용하여 학습/예측/평가를 해주세요. (`.fit()`, `.predict()`, `accuracy_score()` 이용)  **(5점)**"
   ]
  },
  {
   "cell_type": "code",
   "execution_count": 190,
   "id": "N-CiN17QDTBb",
   "metadata": {
    "id": "N-CiN17QDTBb"
   },
   "outputs": [
    {
     "name": "stdout",
     "output_type": "stream",
     "text": [
      "예측 정확도: 0.7015\n"
     ]
    }
   ],
   "source": [
    "dt.fit(X_train,y_train)\n",
    "y_pred = dt.predict(X_test)\n",
    "print('예측 정확도: {0:.4f}'.format(accuracy_score(y_test,y_pred)))"
   ]
  },
  {
   "cell_type": "markdown",
   "id": "JD0SaU42DV1g",
   "metadata": {
    "id": "JD0SaU42DV1g"
   },
   "source": [
    "## 실습8"
   ]
  },
  {
   "cell_type": "markdown",
   "id": "ZusXf_fTDXDC",
   "metadata": {
    "id": "ZusXf_fTDXDC"
   },
   "source": [
    "### 8.1. Stratified KFold  (20점)"
   ]
  },
  {
   "cell_type": "markdown",
   "id": "On9arzZjDZyY",
   "metadata": {
    "id": "On9arzZjDZyY"
   },
   "source": [
    "**a)** 아래 코드를 실행 후 진행해주세요."
   ]
  },
  {
   "cell_type": "code",
   "execution_count": 192,
   "id": "KZLGxGHIDaFG",
   "metadata": {
    "id": "KZLGxGHIDaFG"
   },
   "outputs": [],
   "source": [
    "from sklearn.tree import DecisionTreeClassifier\n",
    "from sklearn.model_selection import KFold\n",
    "from sklearn.metrics import accuracy_score\n",
    "from sklearn.model_selection import StratifiedKFold\n",
    "dt=DecisionTreeClassifier(random_state=10)"
   ]
  },
  {
   "cell_type": "markdown",
   "id": "bf479798-5144-44e0-9537-e2e5c4c6b741",
   "metadata": {},
   "source": [
    "**b)** loan data의 index를 재정렬하고 변수 **x**에 loan의 \"Loan_Status\"열을 제외한 모든 데이터를, 변수 **y**에 loan의 \"Loan_Status\"열의 데이터를 저장한 다음 x,y의 길이를 확인해주세요.**(4점, `shape`사용)**"
   ]
  },
  {
   "cell_type": "code",
   "execution_count": 196,
   "id": "cbbfa2a9-31f8-42bd-91bc-6b0d39a6e93e",
   "metadata": {},
   "outputs": [],
   "source": [
    "loan.reset_index(inplace=True)"
   ]
  },
  {
   "cell_type": "code",
   "execution_count": 201,
   "id": "a7279436-6a4a-42f9-ae25-d8458ca5b596",
   "metadata": {},
   "outputs": [],
   "source": [
    "loan = loan.iloc[:,1:]"
   ]
  },
  {
   "cell_type": "code",
   "execution_count": 202,
   "id": "AFAGYP_FDc7S",
   "metadata": {
    "id": "AFAGYP_FDc7S"
   },
   "outputs": [
    {
     "name": "stdout",
     "output_type": "stream",
     "text": [
      "(535, 14)\n",
      "(535,)\n"
     ]
    }
   ],
   "source": [
    "x = loan.drop(['Loan_Statusencoder'],axis=1)\n",
    "y = loan['Loan_Statusencoder']\n",
    "print(x.shape)\n",
    "print(y.shape)"
   ]
  },
  {
   "cell_type": "markdown",
   "id": "lcDUStMLDeKp",
   "metadata": {
    "id": "lcDUStMLDeKp"
   },
   "source": [
    "**c)** 변수 **kfold**에 k=4인 KFold 객체를 만들어 주고 **cv_accuracy_1** 리스트에 각 반복의 정확도를 소수점 5째 자리에서 반올림 한 다음 저장한 후 평균을 출력해주세요. **(6점, `split` 이용)**"
   ]
  },
  {
   "cell_type": "code",
   "execution_count": 218,
   "id": "FS61MDDzDeWy",
   "metadata": {
    "id": "FS61MDDzDeWy"
   },
   "outputs": [
    {
     "name": "stdout",
     "output_type": "stream",
     "text": [
      "\n",
      "평균 검증 정확도: 0.74769\n"
     ]
    }
   ],
   "source": [
    "dt_clf = DecisionTreeClassifier(random_state=124)\n",
    "\n",
    "kfold = KFold(n_splits=4)\n",
    "cv_accuracy_1 =[]\n",
    "n_iter =0\n",
    "for train_index, test_index  in kfold.split(x):\n",
    "    n_iter += 1\n",
    "    X_train, X_test = x.iloc[train_index], x.iloc[test_index]\n",
    "    y_train, y_test = y.iloc[train_index], y.iloc[test_index]\n",
    "    dt_clf.fit(X_train , y_train)    \n",
    "    y_pred = dt_clf.predict(X_test)\n",
    "    n_iter += 1\n",
    "\n",
    "    accuracy = accuracy_score(y_test,y_pred)\n",
    "    cv_accuracy_1.append(accuracy)\n",
    "    \n",
    "print('\\n평균 검증 정확도:', np.round(np.mean(cv_accuracy_2), 5)) "
   ]
  },
  {
   "cell_type": "markdown",
   "id": "GnALpryFDgW4",
   "metadata": {
    "id": "GnALpryFDgW4"
   },
   "source": [
    "**d)** 레이블 값의 분포도를 확인해 주세요. **(2점)**"
   ]
  },
  {
   "cell_type": "code",
   "execution_count": 209,
   "id": "SdMJtedmDgka",
   "metadata": {
    "id": "SdMJtedmDgka"
   },
   "outputs": [
    {
     "data": {
      "text/plain": [
       "Loan_Statusencoder\n",
       "1    372\n",
       "0    163\n",
       "Name: count, dtype: int64"
      ]
     },
     "execution_count": 209,
     "metadata": {},
     "output_type": "execute_result"
    }
   ],
   "source": [
    "y.value_counts()"
   ]
  },
  {
   "cell_type": "markdown",
   "id": "IkLX1Ez-DjfR",
   "metadata": {
    "id": "IkLX1Ez-DjfR"
   },
   "source": [
    "**e)** 변수 **skf**에 k=4인 StratifedKFold 객체를 만들어 주고 **cv_accuracy_2**리스트에 각 반복의 정확도를 소수점 5째 자리에서 반올림 한 다음 저장한 후 평균을 출력해주세요. **(8점, `split` 이용)**"
   ]
  },
  {
   "cell_type": "code",
   "execution_count": 214,
   "id": "Gy2oAZYkDjt7",
   "metadata": {
    "id": "Gy2oAZYkDjt7"
   },
   "outputs": [
    {
     "name": "stdout",
     "output_type": "stream",
     "text": [
      "\n",
      "평균 검증 정확도: 0.74769\n"
     ]
    }
   ],
   "source": [
    "dt_clf = DecisionTreeClassifier(random_state=124)\n",
    "\n",
    "skf = StratifiedKFold(n_splits=4)\n",
    "cv_accuracy_2 =[]\n",
    "n_iter =0\n",
    "for train_index, test_index  in skf.split(x,y):\n",
    "    n_iter += 1\n",
    "    X_train, X_test = x.iloc[train_index], x.iloc[test_index]\n",
    "    y_train, y_test = y.iloc[train_index], y.iloc[test_index]\n",
    "    dt_clf.fit(X_train , y_train)    \n",
    "    y_pred = dt_clf.predict(X_test)\n",
    "    n_iter += 1\n",
    "\n",
    "    accuracy = accuracy_score(y_test,y_pred)\n",
    "    cv_accuracy_2.append(accuracy)\n",
    "    \n",
    "print('\\n평균 검증 정확도:', np.round(np.mean(cv_accuracy_2), 5)) "
   ]
  },
  {
   "cell_type": "markdown",
   "id": "-T7DI0LNDlvA",
   "metadata": {
    "id": "-T7DI0LNDlvA"
   },
   "source": [
    "## 8.2. Cross val score  (10점)"
   ]
  },
  {
   "cell_type": "markdown",
   "id": "JnzttNi6DodK",
   "metadata": {
    "id": "JnzttNi6DodK"
   },
   "source": [
    "위에서 진행한 교차검증을 cross_val_score API를 이용하여 같은 결과를 내세요, 평가지표는 accuaracy를 사용하세요. **(10점)**"
   ]
  },
  {
   "cell_type": "code",
   "execution_count": 217,
   "id": "xAcqJqf8DowD",
   "metadata": {
    "id": "xAcqJqf8DowD"
   },
   "outputs": [
    {
     "name": "stdout",
     "output_type": "stream",
     "text": [
      "평균 검증 정확도: 0.74769\n"
     ]
    }
   ],
   "source": [
    "dt_clf = DecisionTreeClassifier(random_state=124)\n",
    "scores = cross_val_score(dt_clf , x , y , scoring='accuracy',cv=4)\n",
    "print('평균 검증 정확도:', np.round(np.mean(scores), 5))"
   ]
  },
  {
   "cell_type": "markdown",
   "id": "TFCgz6vhDq1E",
   "metadata": {
    "id": "TFCgz6vhDq1E"
   },
   "source": [
    "## 실습9"
   ]
  },
  {
   "cell_type": "markdown",
   "id": "GiEb0xyoDsUM",
   "metadata": {
    "id": "GiEb0xyoDsUM"
   },
   "source": [
    "### 9. GridSearchCV  (25점)"
   ]
  },
  {
   "cell_type": "markdown",
   "id": "MulpvE8KDvjG",
   "metadata": {
    "id": "MulpvE8KDvjG"
   },
   "source": [
    "**a)** 결정트리 모델(dt)의 하이퍼 파라미터를 찾는 코드를 작성하세요.(max_depth 값 3개(값은 자유), min_samples_split 값 3개(값은 자유), cv=3, refit=True 으로 설정) **(15점)**"
   ]
  },
  {
   "cell_type": "markdown",
   "id": "I1ahzIRlDxor",
   "metadata": {
    "id": "I1ahzIRlDxor"
   },
   "source": [
    "fitting은 **6번 문제** 에서 train_test_split을 통해 만든 **train dataset**에 대하여 적용해주시면 됩니다."
   ]
  },
  {
   "cell_type": "code",
   "execution_count": 219,
   "id": "dVboyX7FDx2Q",
   "metadata": {
    "id": "dVboyX7FDx2Q"
   },
   "outputs": [],
   "source": [
    "parameters = {'max_depth':[1,2,3], 'min_samples_split':[2,3,5]}"
   ]
  },
  {
   "cell_type": "code",
   "execution_count": 220,
   "id": "4c42a0cc-4a2d-44a1-9a2d-5a83a920e9bd",
   "metadata": {},
   "outputs": [],
   "source": [
    "dtree = DecisionTreeClassifier()\n",
    "grid_dtree = GridSearchCV(dtree, param_grid=parameters, cv=3, refit=True)"
   ]
  },
  {
   "cell_type": "code",
   "execution_count": 221,
   "id": "c73d8cf6-7a57-4562-9bc2-60da8462a1ab",
   "metadata": {},
   "outputs": [
    {
     "data": {
      "text/html": [
       "<style>#sk-container-id-3 {color: black;}#sk-container-id-3 pre{padding: 0;}#sk-container-id-3 div.sk-toggleable {background-color: white;}#sk-container-id-3 label.sk-toggleable__label {cursor: pointer;display: block;width: 100%;margin-bottom: 0;padding: 0.3em;box-sizing: border-box;text-align: center;}#sk-container-id-3 label.sk-toggleable__label-arrow:before {content: \"▸\";float: left;margin-right: 0.25em;color: #696969;}#sk-container-id-3 label.sk-toggleable__label-arrow:hover:before {color: black;}#sk-container-id-3 div.sk-estimator:hover label.sk-toggleable__label-arrow:before {color: black;}#sk-container-id-3 div.sk-toggleable__content {max-height: 0;max-width: 0;overflow: hidden;text-align: left;background-color: #f0f8ff;}#sk-container-id-3 div.sk-toggleable__content pre {margin: 0.2em;color: black;border-radius: 0.25em;background-color: #f0f8ff;}#sk-container-id-3 input.sk-toggleable__control:checked~div.sk-toggleable__content {max-height: 200px;max-width: 100%;overflow: auto;}#sk-container-id-3 input.sk-toggleable__control:checked~label.sk-toggleable__label-arrow:before {content: \"▾\";}#sk-container-id-3 div.sk-estimator input.sk-toggleable__control:checked~label.sk-toggleable__label {background-color: #d4ebff;}#sk-container-id-3 div.sk-label input.sk-toggleable__control:checked~label.sk-toggleable__label {background-color: #d4ebff;}#sk-container-id-3 input.sk-hidden--visually {border: 0;clip: rect(1px 1px 1px 1px);clip: rect(1px, 1px, 1px, 1px);height: 1px;margin: -1px;overflow: hidden;padding: 0;position: absolute;width: 1px;}#sk-container-id-3 div.sk-estimator {font-family: monospace;background-color: #f0f8ff;border: 1px dotted black;border-radius: 0.25em;box-sizing: border-box;margin-bottom: 0.5em;}#sk-container-id-3 div.sk-estimator:hover {background-color: #d4ebff;}#sk-container-id-3 div.sk-parallel-item::after {content: \"\";width: 100%;border-bottom: 1px solid gray;flex-grow: 1;}#sk-container-id-3 div.sk-label:hover label.sk-toggleable__label {background-color: #d4ebff;}#sk-container-id-3 div.sk-serial::before {content: \"\";position: absolute;border-left: 1px solid gray;box-sizing: border-box;top: 0;bottom: 0;left: 50%;z-index: 0;}#sk-container-id-3 div.sk-serial {display: flex;flex-direction: column;align-items: center;background-color: white;padding-right: 0.2em;padding-left: 0.2em;position: relative;}#sk-container-id-3 div.sk-item {position: relative;z-index: 1;}#sk-container-id-3 div.sk-parallel {display: flex;align-items: stretch;justify-content: center;background-color: white;position: relative;}#sk-container-id-3 div.sk-item::before, #sk-container-id-3 div.sk-parallel-item::before {content: \"\";position: absolute;border-left: 1px solid gray;box-sizing: border-box;top: 0;bottom: 0;left: 50%;z-index: -1;}#sk-container-id-3 div.sk-parallel-item {display: flex;flex-direction: column;z-index: 1;position: relative;background-color: white;}#sk-container-id-3 div.sk-parallel-item:first-child::after {align-self: flex-end;width: 50%;}#sk-container-id-3 div.sk-parallel-item:last-child::after {align-self: flex-start;width: 50%;}#sk-container-id-3 div.sk-parallel-item:only-child::after {width: 0;}#sk-container-id-3 div.sk-dashed-wrapped {border: 1px dashed gray;margin: 0 0.4em 0.5em 0.4em;box-sizing: border-box;padding-bottom: 0.4em;background-color: white;}#sk-container-id-3 div.sk-label label {font-family: monospace;font-weight: bold;display: inline-block;line-height: 1.2em;}#sk-container-id-3 div.sk-label-container {text-align: center;}#sk-container-id-3 div.sk-container {/* jupyter's `normalize.less` sets `[hidden] { display: none; }` but bootstrap.min.css set `[hidden] { display: none !important; }` so we also need the `!important` here to be able to override the default hidden behavior on the sphinx rendered scikit-learn.org. See: https://github.com/scikit-learn/scikit-learn/issues/21755 */display: inline-block !important;position: relative;}#sk-container-id-3 div.sk-text-repr-fallback {display: none;}</style><div id=\"sk-container-id-3\" class=\"sk-top-container\"><div class=\"sk-text-repr-fallback\"><pre>GridSearchCV(cv=3, estimator=DecisionTreeClassifier(),\n",
       "             param_grid={&#x27;max_depth&#x27;: [1, 2, 3],\n",
       "                         &#x27;min_samples_split&#x27;: [2, 3, 5]})</pre><b>In a Jupyter environment, please rerun this cell to show the HTML representation or trust the notebook. <br />On GitHub, the HTML representation is unable to render, please try loading this page with nbviewer.org.</b></div><div class=\"sk-container\" hidden><div class=\"sk-item sk-dashed-wrapped\"><div class=\"sk-label-container\"><div class=\"sk-label sk-toggleable\"><input class=\"sk-toggleable__control sk-hidden--visually\" id=\"sk-estimator-id-3\" type=\"checkbox\" ><label for=\"sk-estimator-id-3\" class=\"sk-toggleable__label sk-toggleable__label-arrow\">GridSearchCV</label><div class=\"sk-toggleable__content\"><pre>GridSearchCV(cv=3, estimator=DecisionTreeClassifier(),\n",
       "             param_grid={&#x27;max_depth&#x27;: [1, 2, 3],\n",
       "                         &#x27;min_samples_split&#x27;: [2, 3, 5]})</pre></div></div></div><div class=\"sk-parallel\"><div class=\"sk-parallel-item\"><div class=\"sk-item\"><div class=\"sk-label-container\"><div class=\"sk-label sk-toggleable\"><input class=\"sk-toggleable__control sk-hidden--visually\" id=\"sk-estimator-id-4\" type=\"checkbox\" ><label for=\"sk-estimator-id-4\" class=\"sk-toggleable__label sk-toggleable__label-arrow\">estimator: DecisionTreeClassifier</label><div class=\"sk-toggleable__content\"><pre>DecisionTreeClassifier()</pre></div></div></div><div class=\"sk-serial\"><div class=\"sk-item\"><div class=\"sk-estimator sk-toggleable\"><input class=\"sk-toggleable__control sk-hidden--visually\" id=\"sk-estimator-id-5\" type=\"checkbox\" ><label for=\"sk-estimator-id-5\" class=\"sk-toggleable__label sk-toggleable__label-arrow\">DecisionTreeClassifier</label><div class=\"sk-toggleable__content\"><pre>DecisionTreeClassifier()</pre></div></div></div></div></div></div></div></div></div></div>"
      ],
      "text/plain": [
       "GridSearchCV(cv=3, estimator=DecisionTreeClassifier(),\n",
       "             param_grid={'max_depth': [1, 2, 3],\n",
       "                         'min_samples_split': [2, 3, 5]})"
      ]
     },
     "execution_count": 221,
     "metadata": {},
     "output_type": "execute_result"
    }
   ],
   "source": [
    "grid_dtree.fit(X_train, y_train)"
   ]
  },
  {
   "cell_type": "markdown",
   "id": "XIDaG7YTDz4h",
   "metadata": {
    "id": "XIDaG7YTDz4h"
   },
   "source": [
    "**b)** 위에서 진행한 GridSearchCV의 결과를 출력하고 그를 해석하세요.\n",
    "\n",
    "(최적의 하이퍼파라미터가 무엇인지, 출력되는 정확도의 개수 및 어떻게 그 개수가 나오는지 등..) **(10점)**"
   ]
  },
  {
   "cell_type": "code",
   "execution_count": 222,
   "id": "P242P82TD0eT",
   "metadata": {
    "id": "P242P82TD0eT"
   },
   "outputs": [
    {
     "data": {
      "text/html": [
       "<div>\n",
       "<style scoped>\n",
       "    .dataframe tbody tr th:only-of-type {\n",
       "        vertical-align: middle;\n",
       "    }\n",
       "\n",
       "    .dataframe tbody tr th {\n",
       "        vertical-align: top;\n",
       "    }\n",
       "\n",
       "    .dataframe thead th {\n",
       "        text-align: right;\n",
       "    }\n",
       "</style>\n",
       "<table border=\"1\" class=\"dataframe\">\n",
       "  <thead>\n",
       "    <tr style=\"text-align: right;\">\n",
       "      <th></th>\n",
       "      <th>params</th>\n",
       "      <th>mean_test_score</th>\n",
       "      <th>rank_test_score</th>\n",
       "      <th>split0_test_score</th>\n",
       "      <th>split1_test_score</th>\n",
       "      <th>split2_test_score</th>\n",
       "    </tr>\n",
       "  </thead>\n",
       "  <tbody>\n",
       "    <tr>\n",
       "      <th>0</th>\n",
       "      <td>{'max_depth': 1, 'min_samples_split': 2}</td>\n",
       "      <td>0.815920</td>\n",
       "      <td>1</td>\n",
       "      <td>0.820896</td>\n",
       "      <td>0.791045</td>\n",
       "      <td>0.835821</td>\n",
       "    </tr>\n",
       "    <tr>\n",
       "      <th>1</th>\n",
       "      <td>{'max_depth': 1, 'min_samples_split': 3}</td>\n",
       "      <td>0.815920</td>\n",
       "      <td>1</td>\n",
       "      <td>0.820896</td>\n",
       "      <td>0.791045</td>\n",
       "      <td>0.835821</td>\n",
       "    </tr>\n",
       "    <tr>\n",
       "      <th>2</th>\n",
       "      <td>{'max_depth': 1, 'min_samples_split': 5}</td>\n",
       "      <td>0.815920</td>\n",
       "      <td>1</td>\n",
       "      <td>0.820896</td>\n",
       "      <td>0.791045</td>\n",
       "      <td>0.835821</td>\n",
       "    </tr>\n",
       "    <tr>\n",
       "      <th>3</th>\n",
       "      <td>{'max_depth': 2, 'min_samples_split': 2}</td>\n",
       "      <td>0.815920</td>\n",
       "      <td>1</td>\n",
       "      <td>0.820896</td>\n",
       "      <td>0.791045</td>\n",
       "      <td>0.835821</td>\n",
       "    </tr>\n",
       "    <tr>\n",
       "      <th>4</th>\n",
       "      <td>{'max_depth': 2, 'min_samples_split': 3}</td>\n",
       "      <td>0.815920</td>\n",
       "      <td>1</td>\n",
       "      <td>0.820896</td>\n",
       "      <td>0.791045</td>\n",
       "      <td>0.835821</td>\n",
       "    </tr>\n",
       "    <tr>\n",
       "      <th>5</th>\n",
       "      <td>{'max_depth': 2, 'min_samples_split': 5}</td>\n",
       "      <td>0.815920</td>\n",
       "      <td>1</td>\n",
       "      <td>0.820896</td>\n",
       "      <td>0.791045</td>\n",
       "      <td>0.835821</td>\n",
       "    </tr>\n",
       "    <tr>\n",
       "      <th>6</th>\n",
       "      <td>{'max_depth': 3, 'min_samples_split': 2}</td>\n",
       "      <td>0.793532</td>\n",
       "      <td>9</td>\n",
       "      <td>0.805970</td>\n",
       "      <td>0.768657</td>\n",
       "      <td>0.805970</td>\n",
       "    </tr>\n",
       "    <tr>\n",
       "      <th>7</th>\n",
       "      <td>{'max_depth': 3, 'min_samples_split': 3}</td>\n",
       "      <td>0.798507</td>\n",
       "      <td>7</td>\n",
       "      <td>0.805970</td>\n",
       "      <td>0.783582</td>\n",
       "      <td>0.805970</td>\n",
       "    </tr>\n",
       "    <tr>\n",
       "      <th>8</th>\n",
       "      <td>{'max_depth': 3, 'min_samples_split': 5}</td>\n",
       "      <td>0.798507</td>\n",
       "      <td>7</td>\n",
       "      <td>0.805970</td>\n",
       "      <td>0.783582</td>\n",
       "      <td>0.805970</td>\n",
       "    </tr>\n",
       "  </tbody>\n",
       "</table>\n",
       "</div>"
      ],
      "text/plain": [
       "                                     params  mean_test_score  rank_test_score  \\\n",
       "0  {'max_depth': 1, 'min_samples_split': 2}         0.815920                1   \n",
       "1  {'max_depth': 1, 'min_samples_split': 3}         0.815920                1   \n",
       "2  {'max_depth': 1, 'min_samples_split': 5}         0.815920                1   \n",
       "3  {'max_depth': 2, 'min_samples_split': 2}         0.815920                1   \n",
       "4  {'max_depth': 2, 'min_samples_split': 3}         0.815920                1   \n",
       "5  {'max_depth': 2, 'min_samples_split': 5}         0.815920                1   \n",
       "6  {'max_depth': 3, 'min_samples_split': 2}         0.793532                9   \n",
       "7  {'max_depth': 3, 'min_samples_split': 3}         0.798507                7   \n",
       "8  {'max_depth': 3, 'min_samples_split': 5}         0.798507                7   \n",
       "\n",
       "   split0_test_score  split1_test_score  split2_test_score  \n",
       "0           0.820896           0.791045           0.835821  \n",
       "1           0.820896           0.791045           0.835821  \n",
       "2           0.820896           0.791045           0.835821  \n",
       "3           0.820896           0.791045           0.835821  \n",
       "4           0.820896           0.791045           0.835821  \n",
       "5           0.820896           0.791045           0.835821  \n",
       "6           0.805970           0.768657           0.805970  \n",
       "7           0.805970           0.783582           0.805970  \n",
       "8           0.805970           0.783582           0.805970  "
      ]
     },
     "execution_count": 222,
     "metadata": {},
     "output_type": "execute_result"
    }
   ],
   "source": [
    "scores_df = pd.DataFrame(grid_dtree.cv_results_)\n",
    "scores_df[['params', 'mean_test_score', 'rank_test_score', \\\n",
    "           'split0_test_score', 'split1_test_score', 'split2_test_score']]"
   ]
  },
  {
   "cell_type": "code",
   "execution_count": 223,
   "id": "3914e271-0e0c-4a8f-af39-5b3c178c90ec",
   "metadata": {},
   "outputs": [
    {
     "name": "stdout",
     "output_type": "stream",
     "text": [
      "GridSearchCV 최적 파라미터: {'max_depth': 1, 'min_samples_split': 2}\n"
     ]
    }
   ],
   "source": [
    "print('GridSearchCV 최적 파라미터:', grid_dtree.best_params_)"
   ]
  },
  {
   "cell_type": "code",
   "execution_count": 224,
   "id": "0012504f-23c6-48a6-b167-4bd1ccbf368e",
   "metadata": {},
   "outputs": [
    {
     "name": "stdout",
     "output_type": "stream",
     "text": [
      "GridSearchCV 최고 정확도: 0.8159\n"
     ]
    }
   ],
   "source": [
    "print('GridSearchCV 최고 정확도: {0:.4f}'.format(grid_dtree.best_score_))"
   ]
  },
  {
   "cell_type": "markdown",
   "id": "3422fa4d-025c-4f06-b223-bc873f755edc",
   "metadata": {},
   "source": [
    "max_depth가 1, min_samples_split이 2일 때, test_score가 0.8159로 GridSearchCV에서 가장 높은 정확도를 달성했다. 따라서 최적의 parameter는 {max_depth: 1, min_samples_split: 2}이다.\n",
    "출력된 정확도의 개수는 3 * 3 = 9이다.\n",
    "출력된 결과를 살펴보면 (1,3),(1,5),(2,2),(2,3),(2,5)의 조합 또한 0.8159의 정확도를 가지고 있기 때문에 이들을 사용해도 된다."
   ]
  },
  {
   "cell_type": "code",
   "execution_count": 225,
   "id": "d1bf48f0-8c20-497f-80f7-50de9f1b1094",
   "metadata": {},
   "outputs": [
    {
     "name": "stdout",
     "output_type": "stream",
     "text": [
      "테스트 데이터 세트 정확도: 0.8421\n"
     ]
    }
   ],
   "source": [
    "estimator = grid_dtree.best_estimator_\n",
    "pred = estimator.predict(X_test)\n",
    "print('테스트 데이터 세트 정확도: {0:.4f}'.format(accuracy_score(y_test,pred)))"
   ]
  }
 ],
 "metadata": {
  "colab": {
   "provenance": []
  },
  "kernelspec": {
   "display_name": "Python 3 (ipykernel)",
   "language": "python",
   "name": "python3"
  },
  "language_info": {
   "codemirror_mode": {
    "name": "ipython",
    "version": 3
   },
   "file_extension": ".py",
   "mimetype": "text/x-python",
   "name": "python",
   "nbconvert_exporter": "python",
   "pygments_lexer": "ipython3",
   "version": "3.7.16"
  }
 },
 "nbformat": 4,
 "nbformat_minor": 5
}
