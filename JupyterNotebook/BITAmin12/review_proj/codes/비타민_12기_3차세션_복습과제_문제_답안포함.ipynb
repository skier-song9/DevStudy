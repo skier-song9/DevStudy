{
 "cells": [
  {
   "cell_type": "code",
   "execution_count": 37,
   "id": "83184f71",
   "metadata": {},
   "outputs": [],
   "source": [
    "import pandas as pd\n",
    "import numpy as np\n",
    "from sklearn.model_selection import train_test_split\n",
    "from sklearn.tree import DecisionTreeClassifier\n",
    "from sklearn.preprocessing import LabelEncoder\n",
    "from sklearn.metrics import accuracy_score,confusion_matrix,classification_report"
   ]
  },
  {
   "cell_type": "markdown",
   "id": "fcb1b157",
   "metadata": {},
   "source": [
    "### 문제 1\n",
    "호주 멜버른의 주택 가격 데이터셋 melb_data.csv으로 주택 가격을 예측하고,   \n",
    "각종 평가지표를 사용하여 결정트리 모델을 평가하세요."
   ]
  },
  {
   "cell_type": "markdown",
   "id": "4430a667",
   "metadata": {},
   "source": [
    "#### Data Description \n",
    "\n",
    "* `Rooms`: 방 개수\n",
    "\n",
    "* `Price`: 가격(단위: $ 달러)\n",
    "\n",
    "* `Type`: 주택 유형   \n",
    "br - bedroom(s); h - house,cottage,villa, semi,terrace; u - unit, duplex; t - townhouse; dev site - development site; o res - other residential.\n",
    "\n",
    "* `Distance`: Distance from CBD(Central Business District : 도심 지역)\n",
    "\n",
    "* `Bedroom2` : Scraped # of Bedrooms (from different source) (주요 침실 개수)\n",
    "\n",
    "* `Bathroom`: Number of Bathrooms\n",
    "\n",
    "* `Car`: Number of carspots\n",
    "\n",
    "* `Landsize`: Land Size\n",
    "\n",
    "* `BuildingArea`: Building Size\n",
    "\n",
    "* `CouncilArea`: Governing council for the area\n"
   ]
  },
  {
   "cell_type": "markdown",
   "id": "f6f28d3b",
   "metadata": {},
   "source": [
    "우선 다음 코드들을 실행하여 melb_data변수명으로 데이터를 로드하고   \n",
    "결정트리 분석에 필요한 컬럼만 남기고 결손값을 처리합니다.      \n",
    "<span style='color:green'>(로컬 환경에 알맞게 file_path를 변경하세요)</span>\n",
    "      \n",
    "* feature 데이터 = [Rooms, Type, Distance, Bedroom2, Bathroom, Car, Landsize, BuildingArea, CouncilArea]   \n",
    "* label 데이터 = Price      \n",
    "   \n",
    "(Price 값이 양적 자료이기 때문에 분류보단 회귀방식의 모델이 더 적합하지만, 결정트리를 사용하기 위해 편의상 Price값을 사분위수에 따라 범주형 자료로 변환하여 사용합니다.)"
   ]
  },
  {
   "cell_type": "code",
   "execution_count": 38,
   "id": "7243bf4a",
   "metadata": {},
   "outputs": [],
   "source": [
    "#(문제 아님)\n",
    "file_path = '../data/melb_data.csv'\n",
    "drop_columns=['Date','YearBuilt','Suburb','SellerG','Postcode','Address','Method','Lattitude','Longtitude','Propertycount']\n",
    "melb_data = pd.read_csv(file_path).drop(columns=drop_columns,axis=1)\n",
    "melb_data['CouncilArea'] = melb_data['CouncilArea'].fillna('Moreland')\n",
    "melb_data['BuildingArea'] = melb_data['BuildingArea'].fillna(melb_data['BuildingArea'].mean())\n",
    "melb_data['Car'] = melb_data['Car'].fillna(melb_data['Car'].median())"
   ]
  },
  {
   "cell_type": "code",
   "execution_count": 39,
   "id": "a2d93a04",
   "metadata": {},
   "outputs": [
    {
     "name": "stdout",
     "output_type": "stream",
     "text": [
      "<class 'pandas.core.frame.DataFrame'>\n",
      "RangeIndex: 13580 entries, 0 to 13579\n",
      "Data columns (total 11 columns):\n",
      " #   Column        Non-Null Count  Dtype  \n",
      "---  ------        --------------  -----  \n",
      " 0   Rooms         13580 non-null  int64  \n",
      " 1   Type          13580 non-null  object \n",
      " 2   Price         13580 non-null  float64\n",
      " 3   Distance      13580 non-null  float64\n",
      " 4   Bedroom2      13580 non-null  float64\n",
      " 5   Bathroom      13580 non-null  float64\n",
      " 6   Car           13580 non-null  float64\n",
      " 7   Landsize      13580 non-null  float64\n",
      " 8   BuildingArea  13580 non-null  float64\n",
      " 9   CouncilArea   13580 non-null  object \n",
      " 10  Regionname    13580 non-null  object \n",
      "dtypes: float64(7), int64(1), object(3)\n",
      "memory usage: 1.1+ MB\n"
     ]
    }
   ],
   "source": [
    "melb_data.info()"
   ]
  },
  {
   "cell_type": "markdown",
   "id": "d4334a1f",
   "metadata": {},
   "source": [
    "LabelEncoder를 사용하여 인코딩을 합니다."
   ]
  },
  {
   "cell_type": "code",
   "execution_count": 40,
   "id": "938fd676",
   "metadata": {},
   "outputs": [],
   "source": [
    "#(문제 아님)\n",
    "categorical_features = [ 'Type', 'CouncilArea','Regionname']\n",
    "for col in categorical_features:\n",
    "    le = LabelEncoder()\n",
    "    melb_data[col] = le.fit_transform(melb_data[col])"
   ]
  },
  {
   "cell_type": "markdown",
   "id": "9e2d4f00",
   "metadata": {},
   "source": [
    "### 1-1 (5점) - 전처리\n",
    "label 데이터(target)로 Price 를 사용할 것입니다.   \n",
    "그러나 양적 자료인 Price를 결정트리에 알맞게 범주형 자료로 변형하기 위해서 사분위수(quartile)와 2차세션 복습과제 때 학습했던 Tukey Fences 개념을 활용할 것입니다.   \n",
    "아래 규칙과 같이 Price값을 바꾸세요.\n",
    "   \n",
    "   <span style='color:red'>[ 규칙 ]</span>\n",
    "* 0 이상, Q1 미만 : '0' \n",
    "* Q1 이상, Q2 미만 : '1' \n",
    "* Q2 이상, Q3 미만 : '2' \n",
    "* Q3 이상 : '3' \n",
    "      \n",
    "다음은 커스텀 함수 price_to_level()입니다. 위의 규칙에 맞게 빈칸을 알맞게 채우세요.   \n",
    "   (문제에 적힌 대로 함수를 작성하지 않아도 됩니다. 아래 함수 출력 결과(0 1 2 3)가 일치하기만 하면 됩니다.)"
   ]
  },
  {
   "cell_type": "code",
   "execution_count": null,
   "id": "f28aaf8a",
   "metadata": {},
   "outputs": [],
   "source": [
    "def price_to_level(prices): # prices : pd.Series객체로 전달해주세요\n",
    "    # 문제) 사분위수(Q1,Q2,Q3) 구하기\n",
    "    \n",
    "    # 문제) 위의 규칙에 맞게 Price값에 따라 레벨로 변환하도록 코드를 작성하세요\n",
    "    p_levels = []\n",
    "    \n",
    "    # Price_Level 데이터를 반환하세요.\n",
    "    return p_levels    \n",
    "\n",
    "# price_to_level() 커스텀 함수를 사용하여 Price컬럼값을 변경합니다.\n",
    "melb_data['Price'] = price_to_level(melb_data['Price'])\n",
    "# 문제) Price 컬럼명을 PriceLevel로 변경하세요. (힌트: pandas의 rename() 사용)\n"
   ]
  },
  {
   "cell_type": "code",
   "execution_count": 41,
   "id": "0f5f6ca1",
   "metadata": {},
   "outputs": [],
   "source": [
    "# 답)\n",
    "\n",
    "def price_to_level(prices): # prices : pd.Series객체로 전달해주세요\n",
    "    # 사분위수와 LF, UF\n",
    "    Q1,Q2,Q3 = np.percentile(prices,[25,50,75])\n",
    "    # 문제) 위의 규칙에 맞게 Price값에 따라 레벨로 변환하도록 코드를 작성하세요\n",
    "    intervals = [(0,Q1),(Q1,Q2),(Q2,Q3),(Q3,prices.max()+1)]\n",
    "    p_levels = []\n",
    "    for p in prices:\n",
    "        for i,interval in enumerate(intervals):\n",
    "            if interval[0] <= p < interval[1]:\n",
    "                p_levels.append(f'{i}')\n",
    "    # Price_Level 데이터를 반환하세요.\n",
    "    return p_levels    \n",
    "\n",
    "# price_to_level() 커스텀 함수를 사용하여 Price컬럼값을 변경합니다.\n",
    "melb_data['Price'] = price_to_level(melb_data['Price'])\n",
    "# 문제) Price 컬럼명을 PriceLevel로 변경하세요. (힌트: pandas의 rename() 사용)\n",
    "melb_data = melb_data.rename(columns={'Price':'PriceLevel'})\n"
   ]
  },
  {
   "cell_type": "markdown",
   "id": "a47e79c3",
   "metadata": {},
   "source": [
    "아래 코드를 실행하여 데이터 변환이 제대로 이루어졌는지 확인하세요."
   ]
  },
  {
   "cell_type": "code",
   "execution_count": 42,
   "id": "dc3be5ea",
   "metadata": {},
   "outputs": [
    {
     "name": "stdout",
     "output_type": "stream",
     "text": [
      "0 1 2 3\n"
     ]
    }
   ],
   "source": [
    "#(문제아님)\n",
    "### 간단하게 price_to_level() 커스텀 함수를 확인하세요 ###\n",
    "print(melb_data.loc[8,'PriceLevel'],melb_data.loc[3,'PriceLevel'],\n",
    "      melb_data.loc[1,'PriceLevel'],melb_data.loc[0,'PriceLevel'])\n",
    "### 출력 결과가 0 1 2 3 이면, 커스텀 함수를 올바르게 작성한 것입니다. ###"
   ]
  },
  {
   "cell_type": "markdown",
   "id": "9f1ef9ac",
   "metadata": {},
   "source": [
    "### 1-2 (5점) - 정확도\n",
    "melb_data 를 train_test_split() 함수로 학습/테스트용 데이터로 분리하고, 간단하게 DecisionTreeClassifier 를 사용하여 모델을 학습하고 PriceLevel을 예측해보세요. 그리고 예측 결과의 정확도(accuracy)를 평가해서 소수점 5번째 자리에서 반올림하여 출력해보세요.   \n",
    "<span style='color:green'>(DecisionTreeClassfier 생성자 함수와 train_test_split의 random_state 파라미터값은 모두 10을 전달해주세요, test_size는 0.25로 설정해주세요.)</span>\n",
    "* features 데이터 : PriceLevel을 제외한 나머지 컬럼   \n",
    "* label 데이터 : PriceLevel 컬럼"
   ]
  },
  {
   "cell_type": "code",
   "execution_count": 43,
   "id": "e3b83d72",
   "metadata": {},
   "outputs": [],
   "source": [
    "# features 변수명에 해당 데이터를, label 변수명에 해당 데이터를 저장하고,\n",
    "# train_test_split()으로 데이터를 분리하세요.\n",
    "\n",
    "\n",
    "# 결정트리 객체를 생성하고 학습, 예측을 수행하세요. (예측값은 'pred' 변수명으로 저장하세요.)\n",
    "\n",
    "\n",
    "# 예측 결과를 정확도로 평가하고 평가 결과를 위의 조건대로 반올림하여 출력하세요\n"
   ]
  },
  {
   "cell_type": "code",
   "execution_count": 44,
   "id": "2d0cf19e",
   "metadata": {},
   "outputs": [
    {
     "data": {
      "text/plain": [
       "0.6236"
      ]
     },
     "execution_count": 44,
     "metadata": {},
     "output_type": "execute_result"
    }
   ],
   "source": [
    "# 답)\n",
    "\n",
    "# features 변수명에 해당 데이터를, label 변수명에 해당 데이터를 저장하고,\n",
    "# train_test_split()으로 데이터를 분리하세요.\n",
    "features = melb_data.drop('PriceLevel',axis=1)\n",
    "label = melb_data['PriceLevel']\n",
    "X_train,X_test,y_train,y_test = train_test_split(features,label,test_size=0.25,random_state=10)\n",
    "\n",
    "# 결정트리 객체를 생성하고 학습, 예측을 수행하세요. (예측값은 'pred' 변수명으로 저장하세요.)\n",
    "dt_clf = DecisionTreeClassifier(random_state=10)\n",
    "dt_clf.fit(X_train,y_train)\n",
    "pred = dt_clf.predict(X_test)\n",
    "\n",
    "# 예측 결과를 정확도로 평가하고 평가 결과를 위의 조건대로 반올림하여 출력하세요\n",
    "np.round(accuracy_score(y_test,pred),4)\n"
   ]
  },
  {
   "cell_type": "markdown",
   "id": "3d60a76e",
   "metadata": {},
   "source": [
    "### 1-3 (40점) - 정밀도와 재현율\n",
    "위의 예측값(pred)과 실제값(y_test)을 토대로 confusion matrix를 구현해보세요.   (다중 분류일 때의 confusion matrix를 학습해봅시다)   \n",
    "다음과 같은 모양으로 DataFrame객체를 생성해서 출력해보세요.   \n",
    "   (개수는 해당 경우의 수를 의미)\n",
    "|          | 0 | 1 | 2 | 3 |\n",
    "|----------|----------|----------|----------|----------|\n",
    "| 0 | 개수 | 개수 |개수  |개수  |\n",
    "| 1 | 개수 | 개수 | 개수 | 개수 |\n",
    "| 2 | 개수 | 개수 | 개수 | 개수 |\n",
    "| 3 | 개수 | 개수 | 개수 | 개수 |"
   ]
  },
  {
   "cell_type": "markdown",
   "id": "51a3af1f",
   "metadata": {},
   "source": [
    "**a)**\n",
    "sklearn.metrics의 confusion_matrix() 함수로 생성한 오차행렬을 cm 변수에 저장하고,\n",
    "이를 DataFrame객체로 변환해 위의 예시처럼 예쁘게 출력하세요.   \n",
    "**(5점)**"
   ]
  },
  {
   "cell_type": "code",
   "execution_count": null,
   "id": "e94d9eee",
   "metadata": {},
   "outputs": [],
   "source": [
    "classes = ['0', '1', '2', '3'] # 레이블 클래스\n",
    "# 변수 cm에 confusion_matrix를 저장하세요\n",
    "\n",
    "# pandas DataFrame으로 변환하여 예쁘게 출력하세요\n"
   ]
  },
  {
   "cell_type": "code",
   "execution_count": 45,
   "id": "a2b5361a",
   "metadata": {},
   "outputs": [
    {
     "data": {
      "text/html": [
       "<div>\n",
       "<style scoped>\n",
       "    .dataframe tbody tr th:only-of-type {\n",
       "        vertical-align: middle;\n",
       "    }\n",
       "\n",
       "    .dataframe tbody tr th {\n",
       "        vertical-align: top;\n",
       "    }\n",
       "\n",
       "    .dataframe thead th {\n",
       "        text-align: right;\n",
       "    }\n",
       "</style>\n",
       "<table border=\"1\" class=\"dataframe\">\n",
       "  <thead>\n",
       "    <tr style=\"text-align: right;\">\n",
       "      <th></th>\n",
       "      <th>0</th>\n",
       "      <th>1</th>\n",
       "      <th>2</th>\n",
       "      <th>3</th>\n",
       "    </tr>\n",
       "  </thead>\n",
       "  <tbody>\n",
       "    <tr>\n",
       "      <th>0</th>\n",
       "      <td>649</td>\n",
       "      <td>183</td>\n",
       "      <td>22</td>\n",
       "      <td>4</td>\n",
       "    </tr>\n",
       "    <tr>\n",
       "      <th>1</th>\n",
       "      <td>175</td>\n",
       "      <td>434</td>\n",
       "      <td>186</td>\n",
       "      <td>45</td>\n",
       "    </tr>\n",
       "    <tr>\n",
       "      <th>2</th>\n",
       "      <td>32</td>\n",
       "      <td>186</td>\n",
       "      <td>450</td>\n",
       "      <td>196</td>\n",
       "    </tr>\n",
       "    <tr>\n",
       "      <th>3</th>\n",
       "      <td>8</td>\n",
       "      <td>31</td>\n",
       "      <td>210</td>\n",
       "      <td>584</td>\n",
       "    </tr>\n",
       "  </tbody>\n",
       "</table>\n",
       "</div>"
      ],
      "text/plain": [
       "     0    1    2    3\n",
       "0  649  183   22    4\n",
       "1  175  434  186   45\n",
       "2   32  186  450  196\n",
       "3    8   31  210  584"
      ]
     },
     "execution_count": 45,
     "metadata": {},
     "output_type": "execute_result"
    }
   ],
   "source": [
    "# 답)\n",
    "\n",
    "classes = ['0', '1', '2', '3'] # 레이블 클래스\n",
    "# 변수 cm에 confusion_matrix를 저장하세요\n",
    "cm = (confusion_matrix(y_test,pred))\n",
    "# pandas DataFrame으로 변환하여 예쁘게 출력하세요\n",
    "pd.DataFrame(cm,index=classes,columns=classes)"
   ]
  },
  {
   "cell_type": "markdown",
   "id": "0cdbe7ee",
   "metadata": {},
   "source": [
    "####  직접 재현율(recall)과 정밀도(precision)를 구해서 확인해보세요\n",
    "힌트: 다중분류의 confusion matrix를 학습하고 macro-averaging과 micro-averaging을 학습하세요."
   ]
  },
  {
   "cell_type": "markdown",
   "id": "7a66f53a",
   "metadata": {},
   "source": [
    "**b)** macro-averaging(macro-mean) 방식을 사용하여 macro_precision과 macro_recall 값을 구하고 출력하세요.   \n",
    "(반복문을 사용하여 해결하세요, 변수명도 각각 macro_precision과 macro_recall을 사용하세요.)      \n",
    "**(13점)**"
   ]
  },
  {
   "cell_type": "code",
   "execution_count": 46,
   "id": "80fab987",
   "metadata": {},
   "outputs": [
    {
     "name": "stdout",
     "output_type": "stream",
     "text": [
      "macro_precision: 0.623609372215409\n",
      "macro_recall: 0.6237476721457814\n"
     ]
    }
   ],
   "source": [
    "# 답)\n",
    "macro_precisions = []\n",
    "macro_recalls = []\n",
    "TPS = []\n",
    "FPS = []\n",
    "FNS = []\n",
    "for i in range(cm.shape[0]):\n",
    "    TP = cm[i][i]\n",
    "    FP = 0\n",
    "    FN = 0\n",
    "    for j in range(cm.shape[0]):\n",
    "        if i == j :\n",
    "            continue\n",
    "        FP += cm[j][i]\n",
    "        FN += cm[i][j]\n",
    "    macro_precisions.append(TP/(TP+FP))\n",
    "    macro_recalls.append(TP/(TP+FN))\n",
    "    TPS.append(TP)\n",
    "    FPS.append(FP)\n",
    "    FNS.append(FN)\n",
    "macro_precision = np.mean(macro_precisions)\n",
    "print('macro_precision:',macro_precision)\n",
    "macro_recall = np.mean(macro_recalls)\n",
    "print('macro_recall:',macro_recall) "
   ]
  },
  {
   "cell_type": "markdown",
   "id": "6a764bec",
   "metadata": {},
   "source": [
    "**c)** micro-averaging 방식을 사용하여 micro_precision과 micro_recall 값을 구하고 출력하세요.   \n",
    "(변수명도 각각 micro_precision과 micro_recall을 사용하세요.)   \n",
    "(힌트: 위의 반복문에서 미리 TP,FP,FN들을 저장하면 여기선 계산만 하면 됩니다.)   \n",
    "**(13점)**"
   ]
  },
  {
   "cell_type": "code",
   "execution_count": 47,
   "id": "facb9612",
   "metadata": {},
   "outputs": [
    {
     "name": "stdout",
     "output_type": "stream",
     "text": [
      "micro_precision: 0.6235640648011782\n",
      "micro_recall: 0.6235640648011782\n"
     ]
    }
   ],
   "source": [
    "# 답)\n",
    "micro_precision = sum(TPS)/(sum(TPS)+sum(FPS))\n",
    "micro_recall = sum(TPS)/(sum(TPS)+sum(FNS))\n",
    "print('micro_precision:',micro_precision)\n",
    "print('micro_recall:',micro_recall)"
   ]
  },
  {
   "cell_type": "markdown",
   "id": "d1a80ddb",
   "metadata": {},
   "source": [
    "**d)** sklearn.metrics의 classification_report() 함수를 사용하여 구한 평가지표 결과를 clf_report 변수에 저장하세요  \n",
    "그리고 해당 변수를 DataFrame 객체로 변환하여 출력하세요.   \n",
    "(힌트 : classification_report()함수의 파라미터들을 학습하고 데이터프레임 객체로 쉽게 변환하는 방법을 찾아보세요)   \n",
    "**(4점)**"
   ]
  },
  {
   "cell_type": "code",
   "execution_count": null,
   "id": "da0dc993",
   "metadata": {},
   "outputs": [],
   "source": [
    "# classification_report를 변수에 저장하고 DataFrame으로 변환하여 출력하세요.\n"
   ]
  },
  {
   "cell_type": "code",
   "execution_count": 48,
   "id": "2bc202ed",
   "metadata": {},
   "outputs": [
    {
     "data": {
      "text/html": [
       "<div>\n",
       "<style scoped>\n",
       "    .dataframe tbody tr th:only-of-type {\n",
       "        vertical-align: middle;\n",
       "    }\n",
       "\n",
       "    .dataframe tbody tr th {\n",
       "        vertical-align: top;\n",
       "    }\n",
       "\n",
       "    .dataframe thead th {\n",
       "        text-align: right;\n",
       "    }\n",
       "</style>\n",
       "<table border=\"1\" class=\"dataframe\">\n",
       "  <thead>\n",
       "    <tr style=\"text-align: right;\">\n",
       "      <th></th>\n",
       "      <th>0</th>\n",
       "      <th>1</th>\n",
       "      <th>2</th>\n",
       "      <th>3</th>\n",
       "      <th>accuracy</th>\n",
       "      <th>macro avg</th>\n",
       "      <th>weighted avg</th>\n",
       "    </tr>\n",
       "  </thead>\n",
       "  <tbody>\n",
       "    <tr>\n",
       "      <th>precision</th>\n",
       "      <td>0.751157</td>\n",
       "      <td>0.520384</td>\n",
       "      <td>0.518433</td>\n",
       "      <td>0.704463</td>\n",
       "      <td>0.623564</td>\n",
       "      <td>0.623609</td>\n",
       "      <td>0.623375</td>\n",
       "    </tr>\n",
       "    <tr>\n",
       "      <th>recall</th>\n",
       "      <td>0.756410</td>\n",
       "      <td>0.516667</td>\n",
       "      <td>0.520833</td>\n",
       "      <td>0.701080</td>\n",
       "      <td>0.623564</td>\n",
       "      <td>0.623748</td>\n",
       "      <td>0.623564</td>\n",
       "    </tr>\n",
       "    <tr>\n",
       "      <th>f1-score</th>\n",
       "      <td>0.753775</td>\n",
       "      <td>0.518519</td>\n",
       "      <td>0.519630</td>\n",
       "      <td>0.702768</td>\n",
       "      <td>0.623564</td>\n",
       "      <td>0.623673</td>\n",
       "      <td>0.623464</td>\n",
       "    </tr>\n",
       "    <tr>\n",
       "      <th>support</th>\n",
       "      <td>858.000000</td>\n",
       "      <td>840.000000</td>\n",
       "      <td>864.000000</td>\n",
       "      <td>833.000000</td>\n",
       "      <td>0.623564</td>\n",
       "      <td>3395.000000</td>\n",
       "      <td>3395.000000</td>\n",
       "    </tr>\n",
       "  </tbody>\n",
       "</table>\n",
       "</div>"
      ],
      "text/plain": [
       "                    0           1           2           3  accuracy  \\\n",
       "precision    0.751157    0.520384    0.518433    0.704463  0.623564   \n",
       "recall       0.756410    0.516667    0.520833    0.701080  0.623564   \n",
       "f1-score     0.753775    0.518519    0.519630    0.702768  0.623564   \n",
       "support    858.000000  840.000000  864.000000  833.000000  0.623564   \n",
       "\n",
       "             macro avg  weighted avg  \n",
       "precision     0.623609      0.623375  \n",
       "recall        0.623748      0.623564  \n",
       "f1-score      0.623673      0.623464  \n",
       "support    3395.000000   3395.000000  "
      ]
     },
     "execution_count": 48,
     "metadata": {},
     "output_type": "execute_result"
    }
   ],
   "source": [
    "# 답)\n",
    "clf_report = classification_report(y_test,pred,labels=classes,target_names=classes,output_dict=True)\n",
    "clf_report_df = pd.DataFrame(clf_report)\n",
    "clf_report_df"
   ]
  },
  {
   "cell_type": "markdown",
   "id": "7ea60c15",
   "metadata": {},
   "source": [
    "**e)** 위에서 직접 구한 macro_precision, macro_recall, micro_precision, micro_recall값이 clf_report의 내용과 같은지 소수점 4번째 자리까지 비교하여 출력하세요.\n",
    "* 출력용 코드 예시   \n",
    "<code>print('[Macro_P] my_score:{:.4f}, report_score:{:.4f}'.format(macro_precision,report_mac_precision))</code>   \n",
    "<code>print('[Macro_R] my_score:{:.4f}, report_score:{:.4f}'.format(macro_recall,report_mac_recall))</code>   \n",
    "<code>print('[Micro_P] my_score:{:.4f}, report_score:{:.4f}'.format(micro_precision,report_mic_precision))</code>   \n",
    "<code>print('[Micro_R] my_score:{:.4f}, report_score:{:.4f}'.format(micro_recall,report_mic_recall))</code>\n",
    "      \n",
    "(힌트: classification_report를 출력해보면 micro averaging한 데이터가 없다! 그러나 micro averaging의 수식을 잘 살펴보면 어떤 평가지표와 의미가 같다는 사실을 알 수 있다.)   \n",
    "**(5점)**"
   ]
  },
  {
   "cell_type": "code",
   "execution_count": 49,
   "id": "446a840c",
   "metadata": {},
   "outputs": [],
   "source": [
    "# 위의 출력 코드 예시를 활용해서 각 평가 결과값들을 비교하여 출력하세요\n"
   ]
  },
  {
   "cell_type": "code",
   "execution_count": 50,
   "id": "298d7eba",
   "metadata": {},
   "outputs": [
    {
     "name": "stdout",
     "output_type": "stream",
     "text": [
      "[Macro_P] my_score:0.6236, report_score:0.6236\n",
      "[Macro_R] my_score:0.6237, report_score:0.6237\n",
      "[Micro_P] my_score:0.6236, report_score:0.6236\n",
      "[Micro_R] my_score:0.6236, report_score:0.6236\n"
     ]
    }
   ],
   "source": [
    "# 답)\n",
    "report_mac_precision,report_mac_recall = clf_report_df['macro avg'][[0,1]]\n",
    "report_mic_precision,report_mic_recall = clf_report_df['accuracy'][[0,1]]\n",
    "print('[Macro_P] my_score:{:.4f}, report_score:{:.4f}'.format(macro_precision,report_mac_precision))\n",
    "print('[Macro_R] my_score:{:.4f}, report_score:{:.4f}'.format(macro_recall,report_mac_recall))\n",
    "print('[Micro_P] my_score:{:.4f}, report_score:{:.4f}'.format(micro_precision,report_mic_precision))\n",
    "print('[Micro_R] my_score:{:.4f}, report_score:{:.4f}'.format(micro_recall,report_mic_recall))"
   ]
  },
  {
   "cell_type": "markdown",
   "id": "e3538fe9",
   "metadata": {},
   "source": [
    "### 문제2 (50점)\n",
    "위스콘신 유방암 데이터 세트는 종양의 크기, 모양 등의 다양한 속성 값을 기반으로 해당 종양이 악성인지 양성인지를 분류한 데이터 세트입니다. 종양의 양성 여부는 class 컬럼에서 확인할 수 있으며, 양성은 2, 악성은 4로 표시되어 있습니다.  "
   ]
  },
  {
   "cell_type": "markdown",
   "id": "8757f879",
   "metadata": {},
   "source": [
    "아래의 코드를 실행해주세요."
   ]
  },
  {
   "cell_type": "code",
   "execution_count": 1,
   "id": "bf61b561",
   "metadata": {},
   "outputs": [],
   "source": [
    "import numpy as np\n",
    "import pandas as pd\n",
    "import matplotlib.pyplot as plt\n",
    "%matplotlib inline\n",
    "from sklearn import model_selection\n",
    "from sklearn.linear_model import LogisticRegression\n",
    "from sklearn.preprocessing import StandardScaler\n",
    "from sklearn import metrics\n",
    "from sklearn.model_selection import train_test_split\n",
    "from sklearn.metrics import accuracy_score, precision_score, recall_score, roc_auc_score\n",
    "from sklearn.metrics import f1_score, confusion_matrix, precision_recall_curve, roc_curve\n",
    "from sklearn.metrics import roc_auc_score"
   ]
  },
  {
   "attachments": {
    "image-2.png": {
     "image/png": "[encoded data removed]"
    }
   },
   "cell_type": "markdown",
   "id": "6c5aa844",
   "metadata": {},
   "source": [
    "2-1. *breast_cancer* 데이터셋을 데이터프레임으로 불러온 후 df 변수에 저장해주세요. 상위 5개의 행을 확인할 수 있도록 출력해주세요.  **(3점)**  \n",
    "(데이터셋의 첫 번째, 두 번째 열을 삭제한 후, 아래의 사진과 같은 결과가 나오도록 출력해주세요.)\n",
    "![image-2.png](attachment:image-2.png)"
   ]
  },
  {
   "cell_type": "code",
   "execution_count": null,
   "id": "c8247b67",
   "metadata": {},
   "outputs": [],
   "source": []
  },
  {
   "cell_type": "code",
   "execution_count": 2,
   "id": "63b90ca9",
   "metadata": {},
   "outputs": [
    {
     "data": {
      "text/html": [
       "<div>\n",
       "<style scoped>\n",
       "    .dataframe tbody tr th:only-of-type {\n",
       "        vertical-align: middle;\n",
       "    }\n",
       "\n",
       "    .dataframe tbody tr th {\n",
       "        vertical-align: top;\n",
       "    }\n",
       "\n",
       "    .dataframe thead th {\n",
       "        text-align: right;\n",
       "    }\n",
       "</style>\n",
       "<table border=\"1\" class=\"dataframe\">\n",
       "  <thead>\n",
       "    <tr style=\"text-align: right;\">\n",
       "      <th></th>\n",
       "      <th>Unnamed: 0</th>\n",
       "      <th>0</th>\n",
       "      <th>1</th>\n",
       "      <th>2</th>\n",
       "      <th>3</th>\n",
       "      <th>4</th>\n",
       "      <th>5</th>\n",
       "      <th>6</th>\n",
       "      <th>7</th>\n",
       "      <th>8</th>\n",
       "      <th>9</th>\n",
       "      <th>10</th>\n",
       "    </tr>\n",
       "  </thead>\n",
       "  <tbody>\n",
       "    <tr>\n",
       "      <th>0</th>\n",
       "      <td>0</td>\n",
       "      <td>1000025</td>\n",
       "      <td>5</td>\n",
       "      <td>1</td>\n",
       "      <td>1</td>\n",
       "      <td>1</td>\n",
       "      <td>2</td>\n",
       "      <td>1</td>\n",
       "      <td>3</td>\n",
       "      <td>1</td>\n",
       "      <td>1</td>\n",
       "      <td>2</td>\n",
       "    </tr>\n",
       "    <tr>\n",
       "      <th>1</th>\n",
       "      <td>1</td>\n",
       "      <td>1002945</td>\n",
       "      <td>5</td>\n",
       "      <td>4</td>\n",
       "      <td>4</td>\n",
       "      <td>5</td>\n",
       "      <td>7</td>\n",
       "      <td>10</td>\n",
       "      <td>3</td>\n",
       "      <td>2</td>\n",
       "      <td>1</td>\n",
       "      <td>2</td>\n",
       "    </tr>\n",
       "    <tr>\n",
       "      <th>2</th>\n",
       "      <td>2</td>\n",
       "      <td>1015425</td>\n",
       "      <td>3</td>\n",
       "      <td>1</td>\n",
       "      <td>1</td>\n",
       "      <td>1</td>\n",
       "      <td>2</td>\n",
       "      <td>2</td>\n",
       "      <td>3</td>\n",
       "      <td>1</td>\n",
       "      <td>1</td>\n",
       "      <td>2</td>\n",
       "    </tr>\n",
       "    <tr>\n",
       "      <th>3</th>\n",
       "      <td>3</td>\n",
       "      <td>1016277</td>\n",
       "      <td>6</td>\n",
       "      <td>8</td>\n",
       "      <td>8</td>\n",
       "      <td>1</td>\n",
       "      <td>3</td>\n",
       "      <td>4</td>\n",
       "      <td>3</td>\n",
       "      <td>7</td>\n",
       "      <td>1</td>\n",
       "      <td>2</td>\n",
       "    </tr>\n",
       "    <tr>\n",
       "      <th>4</th>\n",
       "      <td>4</td>\n",
       "      <td>1017023</td>\n",
       "      <td>4</td>\n",
       "      <td>1</td>\n",
       "      <td>1</td>\n",
       "      <td>3</td>\n",
       "      <td>2</td>\n",
       "      <td>1</td>\n",
       "      <td>3</td>\n",
       "      <td>1</td>\n",
       "      <td>1</td>\n",
       "      <td>2</td>\n",
       "    </tr>\n",
       "  </tbody>\n",
       "</table>\n",
       "</div>"
      ],
      "text/plain": [
       "   Unnamed: 0        0  1  2  3  4  5   6  7  8  9  10\n",
       "0           0  1000025  5  1  1  1  2   1  3  1  1   2\n",
       "1           1  1002945  5  4  4  5  7  10  3  2  1   2\n",
       "2           2  1015425  3  1  1  1  2   2  3  1  1   2\n",
       "3           3  1016277  6  8  8  1  3   4  3  7  1   2\n",
       "4           4  1017023  4  1  1  3  2   1  3  1  1   2"
      ]
     },
     "execution_count": 2,
     "metadata": {},
     "output_type": "execute_result"
    }
   ],
   "source": [
    "# 답)\n",
    "df = pd.read_csv('breast_cancer.csv')\n",
    "df.head()"
   ]
  },
  {
   "cell_type": "code",
   "execution_count": null,
   "id": "0dab5f34",
   "metadata": {},
   "outputs": [],
   "source": [
    "# df 데이터셋의 첫 번째, 두 번째 열을 삭제해주세요.\n"
   ]
  },
  {
   "cell_type": "code",
   "execution_count": 3,
   "id": "6c6ab769",
   "metadata": {},
   "outputs": [],
   "source": [
    "# 답)\n",
    "# df 데이터셋의 첫 번째, 두 번째 열을 삭제해주세요.\n",
    "df.drop(df.columns[0:2], axis = 1, inplace = True)"
   ]
  },
  {
   "attachments": {
    "image.png": {
     "image/png": "[encoded data removed]"
    }
   },
   "cell_type": "markdown",
   "id": "c26d3376",
   "metadata": {},
   "source": [
    "2-2. 아래의 colums_name 변수를 활용하여 0~10까지의 숫자로 되어 있는 컬럼명을 변경해주세요. **(3점)**  \n",
    "(각각의 컬럼과 columns_name 변수 안의 컬럼명의 순서는 동일합니다. 아래의 사진과 같은 데이터셋의 형태를 띌 수 있도록 컬럼명을 변경해주세요. 아래의 columns_name 변수를 복사해서 코드를 작성해주세요.)\n",
    "\n",
    "columns_name = ['clump', 'cell_size', 'cell_shape', 'adhesion', 'epithlial', 'bare_nuclei', \n",
    "                'chromatin', 'normal_nucleoli', 'mitoses', 'class']\n",
    "![image.png](attachment:image.png)"
   ]
  },
  {
   "cell_type": "code",
   "execution_count": null,
   "id": "d46d9f5d",
   "metadata": {},
   "outputs": [],
   "source": []
  },
  {
   "cell_type": "code",
   "execution_count": 4,
   "id": "93be2e83",
   "metadata": {},
   "outputs": [],
   "source": [
    "# 답)\n",
    "columns_name = ['clump', 'cell_size', 'cell_shape', 'adhesion', 'epithlial', 'bare_nuclei', \n",
    "                'chromatin', 'normal_nucleoli', 'mitoses', 'class']"
   ]
  },
  {
   "cell_type": "code",
   "execution_count": null,
   "id": "99239e4d",
   "metadata": {},
   "outputs": [],
   "source": []
  },
  {
   "cell_type": "code",
   "execution_count": 5,
   "id": "78557147",
   "metadata": {},
   "outputs": [],
   "source": [
    "# 답)\n",
    "df.columns = columns_name"
   ]
  },
  {
   "cell_type": "markdown",
   "id": "568e6250",
   "metadata": {},
   "source": [
    "2-3. 다음의 설명에 따라 전처리를 진행해주세요. **(6점)**"
   ]
  },
  {
   "cell_type": "code",
   "execution_count": null,
   "id": "8c66f338",
   "metadata": {},
   "outputs": [],
   "source": [
    "# info를 활용하여 데이터타입을 확인해주세요.\n"
   ]
  },
  {
   "cell_type": "code",
   "execution_count": 6,
   "id": "3635e869",
   "metadata": {},
   "outputs": [
    {
     "name": "stdout",
     "output_type": "stream",
     "text": [
      "<class 'pandas.core.frame.DataFrame'>\n",
      "RangeIndex: 699 entries, 0 to 698\n",
      "Data columns (total 10 columns):\n",
      " #   Column           Non-Null Count  Dtype \n",
      "---  ------           --------------  ----- \n",
      " 0   clump            699 non-null    int64 \n",
      " 1   cell_size        699 non-null    int64 \n",
      " 2   cell_shape       699 non-null    int64 \n",
      " 3   adhesion         699 non-null    int64 \n",
      " 4   epithlial        699 non-null    int64 \n",
      " 5   bare_nuclei      699 non-null    object\n",
      " 6   chromatin        699 non-null    int64 \n",
      " 7   normal_nucleoli  699 non-null    int64 \n",
      " 8   mitoses          699 non-null    int64 \n",
      " 9   class            699 non-null    int64 \n",
      "dtypes: int64(9), object(1)\n",
      "memory usage: 54.7+ KB\n"
     ]
    }
   ],
   "source": [
    "# 답)\n",
    "# info를 활용하여 데이터타입을 확인해주세요.\n",
    "df.info()"
   ]
  },
  {
   "cell_type": "code",
   "execution_count": null,
   "id": "8be7244c",
   "metadata": {},
   "outputs": [],
   "source": [
    "# df 데이터 중 bare_nuclei 컬럼의 값 분포를 확인해주세요. (value_counts 활용)\n"
   ]
  },
  {
   "cell_type": "code",
   "execution_count": 7,
   "id": "75ceef02",
   "metadata": {},
   "outputs": [
    {
     "data": {
      "text/plain": [
       "1     402\n",
       "10    132\n",
       "2      30\n",
       "5      30\n",
       "3      28\n",
       "8      21\n",
       "4      19\n",
       "?      16\n",
       "9       9\n",
       "7       8\n",
       "6       4\n",
       "Name: bare_nuclei, dtype: int64"
      ]
     },
     "execution_count": 7,
     "metadata": {},
     "output_type": "execute_result"
    }
   ],
   "source": [
    "# 답)\n",
    "# df 데이터 중 bare_nuclei 컬럼의 값 분포를 확인해주세요. (value_counts 활용)\n",
    "df['bare_nuclei'].value_counts()"
   ]
  },
  {
   "cell_type": "code",
   "execution_count": null,
   "id": "43d08b25",
   "metadata": {},
   "outputs": [],
   "source": [
    "# 'bare_nuclei'컬럼에 있는 값 중'?'를 'bare_nuclei' 컬럼의 최빈값으로 바꿔주세요.\n"
   ]
  },
  {
   "cell_type": "code",
   "execution_count": 8,
   "id": "4cff9f55",
   "metadata": {},
   "outputs": [],
   "source": [
    "# 답)\n",
    "# 'bare_nuclei'컬럼에 있는 값 중'?'를 'bare_nuclei' 컬럼의 최빈값으로 바꿔주세요.\n",
    "df['bare_nuclei'].replace('?', df['bare_nuclei'].mode()[0], inplace=True)"
   ]
  },
  {
   "cell_type": "code",
   "execution_count": null,
   "id": "c4e80750",
   "metadata": {},
   "outputs": [],
   "source": [
    "# 'bare_nuclei'컬럼의 데이터 타입을 숫자형(int)으로 바꿔주세요.\n"
   ]
  },
  {
   "cell_type": "code",
   "execution_count": 9,
   "id": "fc061b00",
   "metadata": {},
   "outputs": [],
   "source": [
    "# 답)\n",
    "# 'bare_nuclei'컬럼의 데이터 타입을 숫자형(int)으로 바꿔주세요.\n",
    "df['bare_nuclei'] = df['bare_nuclei'].astype('int')"
   ]
  },
  {
   "cell_type": "code",
   "execution_count": null,
   "id": "1d739a43",
   "metadata": {},
   "outputs": [],
   "source": [
    "# 양성은 2, 악성은 4로 표시되어 있는 df['class'] 값 중 2(양성)는 숫자 0으로, 4(음성)는 숫자 1로 바꿔주세요.\n"
   ]
  },
  {
   "cell_type": "code",
   "execution_count": 10,
   "id": "e4ad30f3",
   "metadata": {},
   "outputs": [],
   "source": [
    "# 답)\n",
    "# 양성은 2, 악성은 4로 표시되어 있는 df['class'] 값 중 2(양성)는 숫자 0으로, 4(음성)는 숫자 1로 바꿔주세요.\n",
    "df['class'] = df['class'].replace(2, 0)\n",
    "df['class'] = df['class'].replace(4, 1)"
   ]
  },
  {
   "cell_type": "markdown",
   "id": "00404afd",
   "metadata": {},
   "source": [
    "2-4. 아래의 설명에 따라 데이터를 분리해주세요. **(6점)**"
   ]
  },
  {
   "cell_type": "code",
   "execution_count": null,
   "id": "f47e3781",
   "metadata": {},
   "outputs": [],
   "source": [
    "# 피처 데이터 세트 x, 레이블 데이터 세트 y를 추출해주세요. (레이블 데이터는 class컬럼에 담겨있습니다.)\n",
    "\n"
   ]
  },
  {
   "cell_type": "code",
   "execution_count": 11,
   "id": "e9eba063",
   "metadata": {},
   "outputs": [],
   "source": [
    "# 답)\n",
    "# 피처 데이터 세트 x, 레이블 데이터 세트 y를 추출해주세요. (레이블 데이터는 class컬럼에 담겨있습니다.)\n",
    "x = df.drop(['class'], axis = 1)\n",
    "y = df['class']"
   ]
  },
  {
   "cell_type": "code",
   "execution_count": null,
   "id": "a4448d56",
   "metadata": {},
   "outputs": [],
   "source": [
    "# 이진 분류 로지스틱 회귀분석이 가능하도록 y의 데이터 타입을 변경해주세요. (데이터타입만 변경해주세요.)\n"
   ]
  },
  {
   "cell_type": "code",
   "execution_count": 12,
   "id": "79ad7442",
   "metadata": {},
   "outputs": [],
   "source": [
    "# 답)\n",
    "# 이진 분류 로지스틱 회귀분석이 가능하도록 y의 데이터 타입을 변경해주세요. (데이터타입만 변경해주세요.)\n",
    "y = y.astype('int')"
   ]
  },
  {
   "cell_type": "markdown",
   "id": "2a3b525d",
   "metadata": {},
   "source": [
    "2-5. StandardScaler를 활용하여 개별 피처의 평균이 0이고, 분산이 1인 값으로 변환해주세요. 또한, 변환된 데이터 세트를 DataFrame으로 변환해 data_df라는 변수에 저장해주세요. data_df 데이터프레임의 컬럼명은 아래의 columns_name2 변수를 그대로 활용하여 설정해주세요. **(6점)**  \n",
    "columns_name2 = ['clump', 'cell_size', 'cell_shape', 'adhesion', 'epithlial', 'bare_nuclei', \n",
    "                'chromatin', 'normal_nucleoli', 'mitoses']\n",
    "\n",
    "(columns_name2 변수에 담겨있는 컬럼명의 순서와 데이터프레임 각 열의 순서는 동일하기 때문에 columns_name2 변수를 수정할 필요는 없습니다.)"
   ]
  },
  {
   "cell_type": "code",
   "execution_count": null,
   "id": "c6762f3f",
   "metadata": {},
   "outputs": [],
   "source": [
    "# StandardScaler 객체 생성\n",
    "\n",
    "# StandardScaler로 데이터 세트 변환. fit()과 transform() 호출\n",
    "\n"
   ]
  },
  {
   "cell_type": "code",
   "execution_count": 13,
   "id": "d18ff7e8",
   "metadata": {},
   "outputs": [],
   "source": [
    "#답)\n",
    "# StandardScaler 객체 생성\n",
    "scaler = StandardScaler()\n",
    "# StandardScaler로 데이터 세트 변환. fit()과 transform() 호출\n",
    "scaler.fit(x)\n",
    "x = scaler.transform(x)"
   ]
  },
  {
   "cell_type": "code",
   "execution_count": null,
   "id": "fad86cea",
   "metadata": {},
   "outputs": [],
   "source": [
    "# columns_name2 변수를 생성해주세요.\n",
    "\n",
    "\n",
    "# data_df 변수에 변환된 데이터프레임을 저장해주세요.\n",
    "\n",
    "# data_df 데이터프레임의 하위 5개 행을 출력해주세요.\n"
   ]
  },
  {
   "cell_type": "code",
   "execution_count": 14,
   "id": "8505f3d2",
   "metadata": {},
   "outputs": [
    {
     "data": {
      "text/html": [
       "<div>\n",
       "<style scoped>\n",
       "    .dataframe tbody tr th:only-of-type {\n",
       "        vertical-align: middle;\n",
       "    }\n",
       "\n",
       "    .dataframe tbody tr th {\n",
       "        vertical-align: top;\n",
       "    }\n",
       "\n",
       "    .dataframe thead th {\n",
       "        text-align: right;\n",
       "    }\n",
       "</style>\n",
       "<table border=\"1\" class=\"dataframe\">\n",
       "  <thead>\n",
       "    <tr style=\"text-align: right;\">\n",
       "      <th></th>\n",
       "      <th>clump</th>\n",
       "      <th>cell_size</th>\n",
       "      <th>cell_shape</th>\n",
       "      <th>adhesion</th>\n",
       "      <th>epithlial</th>\n",
       "      <th>bare_nuclei</th>\n",
       "      <th>chromatin</th>\n",
       "      <th>normal_nucleoli</th>\n",
       "      <th>mitoses</th>\n",
       "    </tr>\n",
       "  </thead>\n",
       "  <tbody>\n",
       "    <tr>\n",
       "      <th>694</th>\n",
       "      <td>-0.503866</td>\n",
       "      <td>-0.699995</td>\n",
       "      <td>-0.743299</td>\n",
       "      <td>-0.633247</td>\n",
       "      <td>-0.097628</td>\n",
       "      <td>-0.410685</td>\n",
       "      <td>-1.000471</td>\n",
       "      <td>-0.611825</td>\n",
       "      <td>-0.343912</td>\n",
       "    </tr>\n",
       "    <tr>\n",
       "      <th>695</th>\n",
       "      <td>-0.859266</td>\n",
       "      <td>-0.699995</td>\n",
       "      <td>-0.743299</td>\n",
       "      <td>-0.633247</td>\n",
       "      <td>-0.549561</td>\n",
       "      <td>-0.686979</td>\n",
       "      <td>-1.000471</td>\n",
       "      <td>-0.611825</td>\n",
       "      <td>-0.343912</td>\n",
       "    </tr>\n",
       "    <tr>\n",
       "      <th>696</th>\n",
       "      <td>0.206936</td>\n",
       "      <td>2.251526</td>\n",
       "      <td>2.287222</td>\n",
       "      <td>0.067687</td>\n",
       "      <td>1.710106</td>\n",
       "      <td>-0.134392</td>\n",
       "      <td>1.872361</td>\n",
       "      <td>2.337594</td>\n",
       "      <td>0.239570</td>\n",
       "    </tr>\n",
       "    <tr>\n",
       "      <th>697</th>\n",
       "      <td>-0.148465</td>\n",
       "      <td>1.595632</td>\n",
       "      <td>0.940324</td>\n",
       "      <td>0.418154</td>\n",
       "      <td>-0.097628</td>\n",
       "      <td>0.141902</td>\n",
       "      <td>2.693171</td>\n",
       "      <td>1.026741</td>\n",
       "      <td>-0.343912</td>\n",
       "    </tr>\n",
       "    <tr>\n",
       "      <th>698</th>\n",
       "      <td>-0.148465</td>\n",
       "      <td>1.595632</td>\n",
       "      <td>1.613773</td>\n",
       "      <td>0.768621</td>\n",
       "      <td>0.354305</td>\n",
       "      <td>0.418196</td>\n",
       "      <td>2.693171</td>\n",
       "      <td>0.371315</td>\n",
       "      <td>-0.343912</td>\n",
       "    </tr>\n",
       "  </tbody>\n",
       "</table>\n",
       "</div>"
      ],
      "text/plain": [
       "        clump  cell_size  cell_shape  adhesion  epithlial  bare_nuclei  \\\n",
       "694 -0.503866  -0.699995   -0.743299 -0.633247  -0.097628    -0.410685   \n",
       "695 -0.859266  -0.699995   -0.743299 -0.633247  -0.549561    -0.686979   \n",
       "696  0.206936   2.251526    2.287222  0.067687   1.710106    -0.134392   \n",
       "697 -0.148465   1.595632    0.940324  0.418154  -0.097628     0.141902   \n",
       "698 -0.148465   1.595632    1.613773  0.768621   0.354305     0.418196   \n",
       "\n",
       "     chromatin  normal_nucleoli   mitoses  \n",
       "694  -1.000471        -0.611825 -0.343912  \n",
       "695  -1.000471        -0.611825 -0.343912  \n",
       "696   1.872361         2.337594  0.239570  \n",
       "697   2.693171         1.026741 -0.343912  \n",
       "698   2.693171         0.371315 -0.343912  "
      ]
     },
     "execution_count": 14,
     "metadata": {},
     "output_type": "execute_result"
    }
   ],
   "source": [
    "#답)\n",
    "# columns_name2 변수를 생성해주세요.\n",
    "columns_name2 = ['clump', 'cell_size', 'cell_shape', \n",
    "                 'adhesion', 'epithlial', 'bare_nuclei', 'chromatin', 'normal_nucleoli', 'mitoses']\n",
    "# data_df 변수에 변환된 데이터프레임을 저장해주세요.\n",
    "x = pd.DataFrame(x, columns = columns_name2)\n",
    "# data_df 데이터프레임의 하위 5개 행을 출력해주세요.\n",
    "x.tail()"
   ]
  },
  {
   "cell_type": "markdown",
   "id": "b34f8bd7",
   "metadata": {},
   "source": [
    "2-6. 아래의 설명에 따라 데이터를 분리해주세요. **(3점)**"
   ]
  },
  {
   "cell_type": "code",
   "execution_count": null,
   "id": "9029d94b",
   "metadata": {},
   "outputs": [],
   "source": [
    "# 학습데이터와 테스트 데이터를 나눠주세요. (random_state는 11로 설정해주세요.)\n"
   ]
  },
  {
   "cell_type": "code",
   "execution_count": 15,
   "id": "dc78ac63",
   "metadata": {},
   "outputs": [],
   "source": [
    "#답)\n",
    "# 학습데이터와 테스트 데이터를 나눠주세요. (random_state는 11로 설정해주세요.)\n",
    "x_train, x_test, y_train, y_test = train_test_split(x, y, test_size=0.2, random_state=11)"
   ]
  },
  {
   "cell_type": "code",
   "execution_count": null,
   "id": "34ff2d2d",
   "metadata": {},
   "outputs": [],
   "source": [
    "# 분리한 데이터의 형태를 출력해주세요. (shape 활용)\n"
   ]
  },
  {
   "cell_type": "code",
   "execution_count": 16,
   "id": "dd501aff",
   "metadata": {},
   "outputs": [
    {
     "name": "stdout",
     "output_type": "stream",
     "text": [
      "(559, 9) (140, 9) (559,) (140,)\n"
     ]
    }
   ],
   "source": [
    "#답)\n",
    "# 분리한 데이터의 형태를 출력해주세요. (shape 활용)\n",
    "print(x_train.shape, x_test.shape, y_train.shape, y_test.shape)"
   ]
  },
  {
   "cell_type": "markdown",
   "id": "da0c5bfe",
   "metadata": {},
   "source": [
    "2-7. 로지스틱 회귀로 학습, 예측 및 평가 수행 **(13점)**"
   ]
  },
  {
   "cell_type": "code",
   "execution_count": null,
   "id": "ec6844dc",
   "metadata": {},
   "outputs": [],
   "source": [
    "# LogisticRegression 객체를 생성해주세요. 해당 객체의 파라미터 중 solver는 'liblinear'로 설정하고 random_state는 11로 설정해주세요.\n",
    "\n",
    "# LogisticRegression 객체를 활용한 학습\n",
    "\n",
    "# LogisticRegression 객체를 활용한 예측 (LogisticRegression 객체의 predict 메서드 활용)\n"
   ]
  },
  {
   "cell_type": "code",
   "execution_count": 17,
   "id": "6894085a",
   "metadata": {},
   "outputs": [],
   "source": [
    "#답)\n",
    "# LogisticRegression 객체를 생성해주세요. 해당 객체의 파라미터 중 solver는 'liblinear'로 설정하고 random_state는 11로 설정해주세요.\n",
    "lr_clf = LogisticRegression(solver='liblinear', random_state=11)\n",
    "# LogisticRegression 객체를 활용한 학습\n",
    "lr_clf.fit(x_train, y_train)\n",
    "# LogisticRegression 객체를 활용한 예측 (LogisticRegression 객체의 predict 메서드 활용)\n",
    "lr_pred = lr_clf.predict(x_test)\n"
   ]
  },
  {
   "cell_type": "code",
   "execution_count": null,
   "id": "07738357",
   "metadata": {},
   "outputs": [],
   "source": [
    "# pred_proba 변수를 생성하고 이 변수에 클래스별 확률값을 저장하세요. (LogisticRegression 객체의 predict_proba() 메서드를 활용)\n",
    "\n",
    "# pred_proba_class1 변수를 만들고 이 변수에 레이블 값이 1일때의 예측 확률을 저장해주세요.(LogisticRegression 객체의 predict_proba() 메서드를 활용)\n",
    "\n"
   ]
  },
  {
   "cell_type": "code",
   "execution_count": 18,
   "id": "0f82e598",
   "metadata": {},
   "outputs": [],
   "source": [
    "#답)\n",
    "# pred_proba 변수를 생성하고 이 변수에 클래스별 확률값을 저장하세요. (LogisticRegression 객체의 predict_proba() 메서드를 활용)\n",
    "pred_proba = lr_clf.predict_proba(x_test)\n",
    "# pred_proba_class1 변수를 만들고 이 변수에 레이블 값이 1일때의 예측 확률을 저장해주세요.(LogisticRegression 객체의 predict_proba() 메서드를 활용)\n",
    "pred_proba_class1 = lr_clf.predict_proba(x_test)[:,1]"
   ]
  },
  {
   "cell_type": "code",
   "execution_count": null,
   "id": "e49ca706",
   "metadata": {},
   "outputs": [],
   "source": [
    "#roc_curve API를 이용해 예측 모델의 FPR, TPR, 임계값을 구해주세요.\n",
    "\n",
    "\n",
    "# 반환된 임곗값 배열에서 샘플로 데이터를 추출하되, 임곗값을 4 Step으로 추출해주세요. np.arange는 1부터 시작할 수 있도록 설정해주세요.\n",
    "\n",
    "\n",
    "# '샘플 추출을 위한 임곗값 배열의 index'과 '샘플 index로 추출한 임곗값'을 출력해주세요. 각각의 값은 소수점 넷째 자리에서 반올림하여 출력해주세요.\n",
    "\n",
    "\n",
    "\n",
    "# 4 Step 단위로 추출된 임곗값에 따른 FPR, TPR 값을 출력해주세요. 각각의 값은 소수점 넷째 자리에서 반올림하여 출력해주세요.\n",
    "\n",
    "\n"
   ]
  },
  {
   "cell_type": "code",
   "execution_count": 24,
   "id": "26ec99ee",
   "metadata": {},
   "outputs": [
    {
     "name": "stdout",
     "output_type": "stream",
     "text": [
      "샘플 추출을 위한 임곗값 배열의 index:  [ 1  5  9 13 17 21 25]\n",
      "샘플 index로 추출한 임곗값:  [1.    0.642 0.178 0.015 0.007 0.004 0.003]\n",
      "샘플 임곗값별 FPR:  [0.    0.024 0.048 0.262 0.524 0.714 0.881]\n",
      "샘플 임곗값별 TPR:  [0.018 0.911 0.964 1.    1.    1.    1.   ]\n"
     ]
    }
   ],
   "source": [
    "#답)\n",
    "#roc_curve API를 이용해 예측 모델의 FPR, TPR, 임계값을 구해주세요.\n",
    "fprs, tprs, thresholds = roc_curve(y_test, pred_proba_class1)\n",
    "\n",
    "# 반환된 임곗값 배열에서 샘플로 데이터를 추출하되, 임곗값을 4 Step으로 추출해주세요. np.arange는 1부터 시작할 수 있도록 설정해주세요.\n",
    "thr_index = np.arange(1, thresholds.shape[0], 4)\n",
    "\n",
    "# '샘플 추출을 위한 임곗값 배열의 index'과 '샘플 index로 추출한 임곗값'을 출력해주세요. 각각의 값은 소수점 넷째 자리에서 반올림하여 출력해주세요.\n",
    "print('샘플 추출을 위한 임곗값 배열의 index: ', thr_index)\n",
    "print('샘플 index로 추출한 임곗값: ', np.round(thresholds[thr_index], 3))\n",
    "\n",
    "# 4 Step 단위로 추출된 임곗값에 따른 FPR, TPR 값을 출력해주세요. 각각의 값은 소수점 넷째 자리에서 반올림하여 출력해주세요.\n",
    "print('샘플 임곗값별 FPR: ', np.round(fprs[thr_index], 3))\n",
    "print('샘플 임곗값별 TPR: ', np.round(tprs[thr_index], 3))"
   ]
  },
  {
   "cell_type": "code",
   "execution_count": null,
   "id": "317ee9e0",
   "metadata": {},
   "outputs": [],
   "source": [
    "# roc_auc_score API를 활용하여 roc auc 값을 출력해주세요.(소수점 넷째 자리에서 반올림하여 출력)\n",
    "\n"
   ]
  },
  {
   "cell_type": "code",
   "execution_count": 25,
   "id": "161b154f",
   "metadata": {},
   "outputs": [
    {
     "name": "stdout",
     "output_type": "stream",
     "text": [
      "ROC AUC 값:  0.994\n"
     ]
    }
   ],
   "source": [
    "#답)\n",
    "# roc_auc_score API를 활용하여 roc auc 값을 출력해주세요.(소수점 넷째 자리에서 반올림하여 출력)\n",
    "roc_score = roc_auc_score(y_test, pred_proba_class1)\n",
    "print('ROC AUC 값: ', np.round(roc_score,3))"
   ]
  },
  {
   "attachments": {
    "image.png": {
     "image/png": "[encoded data removed]"
    }
   },
   "cell_type": "markdown",
   "id": "684f38fa",
   "metadata": {},
   "source": [
    "2-8. 이전 문제에서 LogisticRegression 객체의 solver 파라미터를 'lbfgs'로만 설정했던 것과 달리 이번에는 서로 다른 solver 값으로 LogisticRegression을 학습해보고 얻은 성능 평가를 비교해보려고 합니다. 아래의 코드를 완성해주세요.   **(10점)**  \n",
    "(아래의 사진과 같은 형태로 출력될 수 있도록 코드를 작성해주세요.)\n",
    "\n",
    "![image.png](attachment:image.png)  \n",
    "(성능 평가 결과값은 사진 속 값과 다르게 나올 수 있습니다.)"
   ]
  },
  {
   "cell_type": "code",
   "execution_count": null,
   "id": "2205baf2",
   "metadata": {},
   "outputs": [],
   "source": [
    "solver_list = ['lbfgs','liblinear','newton-cg', 'sag', 'saga']\n",
    "\n",
    "# solver_list에 담겨있는 각각의 solver 값을 한 번씩 적용하여 LogisticRegression을 학습하고 성능을 평가해주세요. (힌트: for 구문 활용)\n",
    "# 출력 결과에서 5가지 solver 값에 대한 성능 평과 결과를 각각 얻을 수 있도록 for 구문을 활용하여 코드를 완성해주세요.\n",
    "# LogisticRegression 객체의 파라미터는 solver, max_iter, random_state만 설정해주세요. max_iter는 300으로 설정하고 random_state는 11로 설정해주세요.\n",
    "\n",
    "#for구문 작성\n",
    "\n",
    "    # 로지스틱 회귀 객체를 생성해주세요.\n",
    "    \n",
    "    # fit을 사용하여 학습해주세요.\n",
    "    lr_clf.fit(x_train, y_train)\n",
    "    # 예측\n",
    "    lr_preds = lr_clf.predict(x_test)\n",
    "    # accuracy와 roc_auc 측정\n",
    "    \n",
    "    "
   ]
  },
  {
   "cell_type": "code",
   "execution_count": 22,
   "id": "189a8811",
   "metadata": {},
   "outputs": [
    {
     "name": "stdout",
     "output_type": "stream",
     "text": [
      "solver:lbfgs, accuracy: 0.964, roc_auc:0.961\n",
      "solver:liblinear, accuracy: 0.964, roc_auc:0.961\n",
      "solver:newton-cg, accuracy: 0.964, roc_auc:0.961\n",
      "solver:sag, accuracy: 0.964, roc_auc:0.961\n",
      "solver:saga, accuracy: 0.964, roc_auc:0.961\n"
     ]
    }
   ],
   "source": [
    "#답)\n",
    "solver_list = ['lbfgs','liblinear','newton-cg', 'sag', 'saga']\n",
    "\n",
    "# solver_list에 담겨있는 각각의 solver 값을 한 번씩 적용하여 LogisticRegression을 학습하고 성능을 평가해주세요. (힌트: for 구문 활용)\n",
    "# 출력 결과에서 5가지 solver 값에 대한 성능 평과 결과를 각각 얻을 수 있도록 for 구문을 활용하여 코드를 완성해주세요.\n",
    "# LogisticRegression 객체의 파라미터는 solver, max_iter, random_state만 설정해주세요. max_iter는 300으로 설정하고 random_state는 11로 설정해주세요.\n",
    "\n",
    "#for구문 작성\n",
    "for i in solver_list:\n",
    "    # 로지스틱 회귀 객체를 생성해주세요.\n",
    "    lr_clf = LogisticRegression(solver = i, max_iter=300, random_state=11)\n",
    "    # fit을 사용하여 학습해주세요.\n",
    "    lr_clf.fit(x_train, y_train)\n",
    "    # 예측\n",
    "    lr_preds = lr_clf.predict(x_test)\n",
    "    # accuracy와 roc_auc 측정\n",
    "    print('solver:{0}, accuracy: {1:.3f}, roc_auc:{2:.3f}'.format(i, accuracy_score(y_test, lr_preds), \n",
    "                                                                  roc_auc_score(y_test, lr_preds)))"
   ]
  },
  {
   "cell_type": "code",
   "execution_count": null,
   "id": "b2e4a50c",
   "metadata": {},
   "outputs": [],
   "source": []
  }
 ],
 "metadata": {
  "kernelspec": {
   "display_name": "Python 3 (ipykernel)",
   "language": "python",
   "name": "python3"
  },
  "language_info": {
   "codemirror_mode": {
    "name": "ipython",
    "version": 3
   },
   "file_extension": ".py",
   "mimetype": "text/x-python",
   "name": "python",
   "nbconvert_exporter": "python",
   "pygments_lexer": "ipython3",
   "version": "3.11.4"
  }
 },
 "nbformat": 4,
 "nbformat_minor": 5
}
