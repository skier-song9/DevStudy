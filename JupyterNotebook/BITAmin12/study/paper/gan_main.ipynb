{
 "cells": [
  {
   "cell_type": "markdown",
   "metadata": {},
   "source": [
    "# GAN 실험해보기\n",
    "- Pytorch로 GAN 구조를 짜보고, MNIST digit으로 학습하여, gan 의 generator 가 제대로 동작하는지 확인해보겠습니다."
   ]
  },
  {
   "cell_type": "markdown",
   "metadata": {},
   "source": [
    "### 1. Imports"
   ]
  },
  {
   "cell_type": "code",
   "execution_count": 1,
   "metadata": {
    "ExecuteTime": {
     "end_time": "2023-11-05T14:16:18.242859Z",
     "start_time": "2023-11-05T14:16:14.477254Z"
    }
   },
   "outputs": [
    {
     "name": "stdout",
     "output_type": "stream",
     "text": [
      "device:  cuda\n"
     ]
    }
   ],
   "source": [
    "import torch\n",
    "import torch.nn as nn\n",
    "import torch.optim as optim\n",
    "import torch.nn.functional as F\n",
    "\n",
    "from torchvision import datasets\n",
    "from torchvision import transforms\n",
    "from torch.utils.data import DataLoader\n",
    "\n",
    "from generator import Generator\n",
    "from discriminator import Discriminator\n",
    "from train import train_model\n",
    "\n",
    "import matplotlib.pyplot as plt\n",
    "\n",
    "# device setting for gpu users\n",
    "device = torch.device(\"cuda\" if torch.cuda.is_available() else \"cpu\")\n",
    "print(\"device: \", device)\n",
    "torch.backends.cudnn.enabled = False"
   ]
  },
  {
   "cell_type": "markdown",
   "metadata": {},
   "source": [
    "### 2. Data Preparation\n",
    "MNIST digit data 를 활용하겠습니다."
   ]
  },
  {
   "cell_type": "code",
   "execution_count": 2,
   "metadata": {
    "ExecuteTime": {
     "end_time": "2023-11-05T14:16:18.319040Z",
     "start_time": "2023-11-05T14:16:18.245339Z"
    }
   },
   "outputs": [],
   "source": [
    "epochs = 300\n",
    "batch_size = 128\n",
    "z_dim = 100\n",
    "\n",
    "transform = transforms.Compose([transforms.ToTensor(),\n",
    "                               transforms.Normalize(\n",
    "                                   mean=(0.5,),\n",
    "                                   std=(0.5,))])\n",
    "\n",
    "mnist_dataset = datasets.MNIST(root='./data/', train=True, transform=transform, download=True)\n",
    "\n",
    "dataloader = DataLoader(mnist_dataset, batch_size=batch_size, shuffle=True, drop_last=True)"
   ]
  },
  {
   "cell_type": "markdown",
   "metadata": {},
   "source": [
    "### 3. Modeling\n",
    "깔끔한 노트북을 위해, `discriminator.py` 와 `generator.py` 에 각 Discriminator 와 Generator를 정의해 두었습니다. 이 노트북에서는 초기화 선언만 하겠습니다."
   ]
  },
  {
   "cell_type": "code",
   "execution_count": 3,
   "metadata": {
    "ExecuteTime": {
     "end_time": "2023-11-05T14:16:18.584523Z",
     "start_time": "2023-11-05T14:16:18.320540Z"
    },
    "scrolled": true
   },
   "outputs": [
    {
     "name": "stdout",
     "output_type": "stream",
     "text": [
      "GENERATOR :  Generator(\n",
      "  (fc1): Linear(in_features=100, out_features=128, bias=True)\n",
      "  (fc1_bn): BatchNorm1d(128, eps=1e-05, momentum=0.8, affine=True, track_running_stats=True)\n",
      "  (fc2): Linear(in_features=128, out_features=256, bias=True)\n",
      "  (fc2_bn): BatchNorm1d(256, eps=1e-05, momentum=0.8, affine=True, track_running_stats=True)\n",
      "  (fc3): Linear(in_features=256, out_features=512, bias=True)\n",
      "  (fc3_bn): BatchNorm1d(512, eps=1e-05, momentum=0.8, affine=True, track_running_stats=True)\n",
      "  (fc4): Linear(in_features=512, out_features=1024, bias=True)\n",
      "  (fc4_bn): BatchNorm1d(1024, eps=1e-05, momentum=0.8, affine=True, track_running_stats=True)\n",
      "  (fc5): Linear(in_features=1024, out_features=784, bias=True)\n",
      ")\n",
      "DISCRIMINATOR :  Discriminator(\n",
      "  (fc1): Linear(in_features=784, out_features=256, bias=True)\n",
      "  (fc2): Linear(in_features=256, out_features=128, bias=True)\n",
      "  (fc3): Linear(in_features=128, out_features=1, bias=True)\n",
      ")\n"
     ]
    }
   ],
   "source": [
    "generator = Generator(latent_dims=z_dim).to(device)\n",
    "discriminator = Discriminator().to(device)\n",
    "print(\"GENERATOR : \", generator)\n",
    "print(\"DISCRIMINATOR : \", discriminator)"
   ]
  },
  {
   "cell_type": "markdown",
   "metadata": {},
   "source": [
    "### 4. Train\n",
    "#### 4-1. Loss & Optimizer\n",
    "- GAN 의 구조에서부터 알 수 있듯이, 지금 네트워크는 discriminator 가 generator 로 부터 받은 생성된 사진과 실제 사진이 각각 진짜인지, 가짜인지 맞추는 loss 로 부터 역전파 되어 각 구조가 학습하게 됩니다. 따라서 discriminator 의 마지막 layer의 크기와 Bincary Cross Entropy Loss 가 구조로부터 정해지게 됩니다.\n",
    "- Optimizer 의 경우, 우리는 discriminator 와 generator 가 순차적으로 학습하는 구조를 가질 수 밖에 없습니다. 따라서, 각 구조를 update 시켜주기위한 optimizer 는 따로 선언해 줍니다."
   ]
  },
  {
   "cell_type": "code",
   "execution_count": 4,
   "metadata": {
    "ExecuteTime": {
     "end_time": "2023-11-05T14:16:18.600354Z",
     "start_time": "2023-11-05T14:16:18.586942Z"
    }
   },
   "outputs": [],
   "source": [
    "# Loss & Optimizer\n",
    "criterion = nn.BCELoss()\n",
    "generator_optim = optim.Adam(generator.parameters(), lr=0.0002, weight_decay=8e-9)\n",
    "discriminator_optim = optim.Adam(discriminator.parameters(), lr=0.0002, weight_decay=8e-9)"
   ]
  },
  {
   "cell_type": "markdown",
   "metadata": {},
   "source": [
    "#### 4-2. Train Model\n",
    "- discriminator 의 학습을 위해 train 단계에서, 진짜(1)와 가짜(0) 이미지의 label을 붙여줍니다."
   ]
  },
  {
   "cell_type": "code",
   "execution_count": 5,
   "metadata": {
    "ExecuteTime": {
     "end_time": "2023-11-05T15:52:00.011741Z",
     "start_time": "2023-11-05T14:16:18.602355Z"
    }
   },
   "outputs": [
    {
     "name": "stdout",
     "output_type": "stream",
     "text": [
      "EPOCH 0: BATCH: 467, discrim_loss: 0.12506286799907684, generator_loss: 3.440580368041992\n",
      "EPOCH 20: BATCH: 467, discrim_loss: 1.41682767868042, generator_loss: 2.9967875480651855\n",
      "EPOCH 40: BATCH: 467, discrim_loss: 0.8488105535507202, generator_loss: 2.2675833702087402\n",
      "EPOCH 60: BATCH: 467, discrim_loss: 1.3603236675262451, generator_loss: 2.0868096351623535\n",
      "EPOCH 80: BATCH: 467, discrim_loss: 0.8660893440246582, generator_loss: 3.3595690727233887\n",
      "EPOCH 100: BATCH: 467, discrim_loss: 1.0487098693847656, generator_loss: 1.2499107122421265\n",
      "EPOCH 120: BATCH: 467, discrim_loss: 1.1544331312179565, generator_loss: 2.6048731803894043\n",
      "EPOCH 140: BATCH: 467, discrim_loss: 0.9980860352516174, generator_loss: 1.420907735824585\n",
      "EPOCH 160: BATCH: 467, discrim_loss: 1.3974876403808594, generator_loss: 2.2171359062194824\n",
      "EPOCH 180: BATCH: 467, discrim_loss: 1.286292314529419, generator_loss: 1.0285342931747437\n",
      "EPOCH 200: BATCH: 467, discrim_loss: 1.2533783912658691, generator_loss: 1.0856432914733887\n",
      "EPOCH 220: BATCH: 467, discrim_loss: 1.162507176399231, generator_loss: 0.9788445234298706\n",
      "EPOCH 240: BATCH: 467, discrim_loss: 1.2390532493591309, generator_loss: 1.6274998188018799\n",
      "EPOCH 260: BATCH: 467, discrim_loss: 1.426297664642334, generator_loss: 0.8329593539237976\n",
      "EPOCH 280: BATCH: 467, discrim_loss: 1.3968524932861328, generator_loss: 1.0462591648101807\n"
     ]
    },
    {
     "data": {
      "text/plain": [
       "(Discriminator(\n",
       "   (fc1): Linear(in_features=784, out_features=256, bias=True)\n",
       "   (fc2): Linear(in_features=256, out_features=128, bias=True)\n",
       "   (fc3): Linear(in_features=128, out_features=1, bias=True)\n",
       " ),\n",
       " Generator(\n",
       "   (fc1): Linear(in_features=100, out_features=128, bias=True)\n",
       "   (fc1_bn): BatchNorm1d(128, eps=1e-05, momentum=0.8, affine=True, track_running_stats=True)\n",
       "   (fc2): Linear(in_features=128, out_features=256, bias=True)\n",
       "   (fc2_bn): BatchNorm1d(256, eps=1e-05, momentum=0.8, affine=True, track_running_stats=True)\n",
       "   (fc3): Linear(in_features=256, out_features=512, bias=True)\n",
       "   (fc3_bn): BatchNorm1d(512, eps=1e-05, momentum=0.8, affine=True, track_running_stats=True)\n",
       "   (fc4): Linear(in_features=512, out_features=1024, bias=True)\n",
       "   (fc4_bn): BatchNorm1d(1024, eps=1e-05, momentum=0.8, affine=True, track_running_stats=True)\n",
       "   (fc5): Linear(in_features=1024, out_features=784, bias=True)\n",
       " ))"
      ]
     },
     "execution_count": 5,
     "metadata": {},
     "output_type": "execute_result"
    }
   ],
   "source": [
    "train_model(z_dim, discriminator, generator, batch_size, discriminator_optim, generator_optim, criterion, dataloader, epochs, device)"
   ]
  },
  {
   "cell_type": "code",
   "execution_count": null,
   "metadata": {},
   "outputs": [],
   "source": []
  }
 ],
 "metadata": {
  "kernelspec": {
   "display_name": "Python 3 (ipykernel)",
   "language": "python",
   "name": "python3"
  },
  "language_info": {
   "codemirror_mode": {
    "name": "ipython",
    "version": 3
   },
   "file_extension": ".py",
   "mimetype": "text/x-python",
   "name": "python",
   "nbconvert_exporter": "python",
   "pygments_lexer": "ipython3",
   "version": "3.9.0"
  },
  "toc": {
   "base_numbering": 1,
   "nav_menu": {},
   "number_sections": false,
   "sideBar": true,
   "skip_h1_title": false,
   "title_cell": "Table of Contents",
   "title_sidebar": "Contents",
   "toc_cell": false,
   "toc_position": {},
   "toc_section_display": true,
   "toc_window_display": false
  }
 },
 "nbformat": 4,
 "nbformat_minor": 4
}
