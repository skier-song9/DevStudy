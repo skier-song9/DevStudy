{
 "cells": [
  {
   "cell_type": "markdown",
   "id": "be272b61",
   "metadata": {},
   "source": [
    "# 1. 인구 피라미드"
   ]
  },
  {
   "cell_type": "markdown",
   "id": "216967fa",
   "metadata": {},
   "source": [
    "## 남자 데이터 정의"
   ]
  },
  {
   "cell_type": "code",
   "execution_count": 8,
   "id": "1a51611f",
   "metadata": {},
   "outputs": [
    {
     "name": "stderr",
     "output_type": "stream",
     "text": [
      "C:\\Users\\songkyu\\anaconda3\\envs\\ITConsulting\\lib\\site-packages\\openpyxl\\styles\\stylesheet.py:226: UserWarning: Workbook contains no default style, apply openpyxl's default\n",
      "  warn(\"Workbook contains no default style, apply openpyxl's default\")\n"
     ]
    },
    {
     "data": {
      "text/html": [
       "<div>\n",
       "<style scoped>\n",
       "    .dataframe tbody tr th:only-of-type {\n",
       "        vertical-align: middle;\n",
       "    }\n",
       "\n",
       "    .dataframe tbody tr th {\n",
       "        vertical-align: top;\n",
       "    }\n",
       "\n",
       "    .dataframe thead th {\n",
       "        text-align: right;\n",
       "    }\n",
       "</style>\n",
       "<table border=\"1\" class=\"dataframe\">\n",
       "  <thead>\n",
       "    <tr style=\"text-align: right;\">\n",
       "      <th></th>\n",
       "      <th>0~4세</th>\n",
       "      <th>5~9세</th>\n",
       "      <th>10~14세</th>\n",
       "      <th>15~19세</th>\n",
       "      <th>20~24세</th>\n",
       "      <th>25~29세</th>\n",
       "      <th>30~34세</th>\n",
       "      <th>35~39세</th>\n",
       "      <th>40~44세</th>\n",
       "      <th>45~49세</th>\n",
       "      <th>...</th>\n",
       "      <th>55~59세</th>\n",
       "      <th>60~64세</th>\n",
       "      <th>65~69세</th>\n",
       "      <th>70~74세</th>\n",
       "      <th>75~79세</th>\n",
       "      <th>80~84세</th>\n",
       "      <th>85~89세</th>\n",
       "      <th>90~94세</th>\n",
       "      <th>95~99세</th>\n",
       "      <th>100세 이상</th>\n",
       "    </tr>\n",
       "    <tr>\n",
       "      <th>행정기관</th>\n",
       "      <th></th>\n",
       "      <th></th>\n",
       "      <th></th>\n",
       "      <th></th>\n",
       "      <th></th>\n",
       "      <th></th>\n",
       "      <th></th>\n",
       "      <th></th>\n",
       "      <th></th>\n",
       "      <th></th>\n",
       "      <th></th>\n",
       "      <th></th>\n",
       "      <th></th>\n",
       "      <th></th>\n",
       "      <th></th>\n",
       "      <th></th>\n",
       "      <th></th>\n",
       "      <th></th>\n",
       "      <th></th>\n",
       "      <th></th>\n",
       "      <th></th>\n",
       "    </tr>\n",
       "  </thead>\n",
       "  <tbody>\n",
       "    <tr>\n",
       "      <th>전국</th>\n",
       "      <td>1,187,484</td>\n",
       "      <td>1,262,621</td>\n",
       "      <td>1,694,607</td>\n",
       "      <td>1,885,555</td>\n",
       "      <td>1,646,421</td>\n",
       "      <td>1,899,944</td>\n",
       "      <td>2,025,178</td>\n",
       "      <td>2,243,381</td>\n",
       "      <td>2,308,728</td>\n",
       "      <td>2,204,496</td>\n",
       "      <td>...</td>\n",
       "      <td>1,491,566</td>\n",
       "      <td>1,126,225</td>\n",
       "      <td>879,472</td>\n",
       "      <td>682,524</td>\n",
       "      <td>402,549</td>\n",
       "      <td>181,949</td>\n",
       "      <td>75,055</td>\n",
       "      <td>21,493</td>\n",
       "      <td>4,844</td>\n",
       "      <td>2,802</td>\n",
       "    </tr>\n",
       "    <tr>\n",
       "      <th>서울특별시</th>\n",
       "      <td>218,641</td>\n",
       "      <td>221,186</td>\n",
       "      <td>297,243</td>\n",
       "      <td>352,652</td>\n",
       "      <td>333,274</td>\n",
       "      <td>449,787</td>\n",
       "      <td>472,219</td>\n",
       "      <td>477,230</td>\n",
       "      <td>454,191</td>\n",
       "      <td>423,102</td>\n",
       "      <td>...</td>\n",
       "      <td>315,308</td>\n",
       "      <td>244,160</td>\n",
       "      <td>189,701</td>\n",
       "      <td>129,226</td>\n",
       "      <td>67,349</td>\n",
       "      <td>30,203</td>\n",
       "      <td>13,045</td>\n",
       "      <td>4,545</td>\n",
       "      <td>1,277</td>\n",
       "      <td>1,013</td>\n",
       "    </tr>\n",
       "    <tr>\n",
       "      <th>부산광역시</th>\n",
       "      <td>66,448</td>\n",
       "      <td>72,913</td>\n",
       "      <td>106,181</td>\n",
       "      <td>131,945</td>\n",
       "      <td>121,874</td>\n",
       "      <td>136,474</td>\n",
       "      <td>135,336</td>\n",
       "      <td>140,551</td>\n",
       "      <td>147,867</td>\n",
       "      <td>150,978</td>\n",
       "      <td>...</td>\n",
       "      <td>130,652</td>\n",
       "      <td>98,157</td>\n",
       "      <td>72,960</td>\n",
       "      <td>51,502</td>\n",
       "      <td>27,251</td>\n",
       "      <td>11,271</td>\n",
       "      <td>4,179</td>\n",
       "      <td>1,031</td>\n",
       "      <td>289</td>\n",
       "      <td>241</td>\n",
       "    </tr>\n",
       "  </tbody>\n",
       "</table>\n",
       "<p>3 rows × 21 columns</p>\n",
       "</div>"
      ],
      "text/plain": [
       "              0~4세       5~9세     10~14세     15~19세     20~24세     25~29세  \\\n",
       "행정기관                                                                        \n",
       "전국       1,187,484  1,262,621  1,694,607  1,885,555  1,646,421  1,899,944   \n",
       "서울특별시      218,641    221,186    297,243    352,652    333,274    449,787   \n",
       "부산광역시       66,448     72,913    106,181    131,945    121,874    136,474   \n",
       "\n",
       "            30~34세     35~39세     40~44세     45~49세  ...     55~59세  \\\n",
       "행정기관                                                 ...              \n",
       "전국       2,025,178  2,243,381  2,308,728  2,204,496  ...  1,491,566   \n",
       "서울특별시      472,219    477,230    454,191    423,102  ...    315,308   \n",
       "부산광역시      135,336    140,551    147,867    150,978  ...    130,652   \n",
       "\n",
       "            60~64세   65~69세   70~74세   75~79세   80~84세  85~89세  90~94세 95~99세  \\\n",
       "행정기관                                                                            \n",
       "전국       1,126,225  879,472  682,524  402,549  181,949  75,055  21,493  4,844   \n",
       "서울특별시      244,160  189,701  129,226   67,349   30,203  13,045   4,545  1,277   \n",
       "부산광역시       98,157   72,960   51,502   27,251   11,271   4,179   1,031    289   \n",
       "\n",
       "        100세 이상  \n",
       "행정기관             \n",
       "전국        2,802  \n",
       "서울특별시     1,013  \n",
       "부산광역시       241  \n",
       "\n",
       "[3 rows x 21 columns]"
      ]
     },
     "execution_count": 8,
     "metadata": {},
     "output_type": "execute_result"
    }
   ],
   "source": [
    "import pandas as pd\n",
    "df_m = pd.read_excel('201102_201102_연령별인구현황_월간.xlsx',skiprows=3,index_col='행정기관',usecols='B,E:Y')\n",
    "# 처음 3개 row는 쓸모없기 때문에 skiprows로 무시한다.\n",
    "# 행정기관을 index로 지정, 행정기관코드, 남인구수, 연령구긴인구수는 제외시킨다.\n",
    "# usecols : 엑셀파일을 불러오는 경우, 가져올 열을 엑셀형식(알파벳형식)으로 지정 가능하다\n",
    "df_m.head(3)"
   ]
  },
  {
   "cell_type": "code",
   "execution_count": 11,
   "id": "68b9d1ac",
   "metadata": {},
   "outputs": [
    {
     "data": {
      "text/plain": [
       "0~4세       1187484\n",
       "5~9세       1262621\n",
       "10~14세     1694607\n",
       "15~19세     1885555\n",
       "20~24세     1646421\n",
       "25~29세     1899944\n",
       "30~34세     2025178\n",
       "35~39세     2243381\n",
       "40~44세     2308728\n",
       "45~49세     2204496\n",
       "50~54세     2101405\n",
       "55~59세     1491566\n",
       "60~64세     1126225\n",
       "65~69세      879472\n",
       "70~74세      682524\n",
       "75~79세      402549\n",
       "80~84세      181949\n",
       "85~89세       75055\n",
       "90~94세       21493\n",
       "95~99세        4844\n",
       "100세 이상       2802\n",
       "Name: 전국  , dtype: object"
      ]
     },
     "execution_count": 11,
     "metadata": {},
     "output_type": "execute_result"
    }
   ],
   "source": [
    "df_m.iloc[0] = df_m.iloc[0].str.replace(',','').astype(int)\n",
    "# 숫자형식의 문자열을 int 타입으로 변환\n",
    "df_m.iloc[0]"
   ]
  },
  {
   "cell_type": "markdown",
   "id": "13e979ca",
   "metadata": {},
   "source": [
    "## 여자 데이터 정의"
   ]
  },
  {
   "cell_type": "code",
   "execution_count": 12,
   "id": "8d63ac52",
   "metadata": {},
   "outputs": [
    {
     "name": "stderr",
     "output_type": "stream",
     "text": [
      "C:\\Users\\songkyu\\anaconda3\\envs\\ITConsulting\\lib\\site-packages\\openpyxl\\styles\\stylesheet.py:226: UserWarning: Workbook contains no default style, apply openpyxl's default\n",
      "  warn(\"Workbook contains no default style, apply openpyxl's default\")\n"
     ]
    },
    {
     "data": {
      "text/html": [
       "<div>\n",
       "<style scoped>\n",
       "    .dataframe tbody tr th:only-of-type {\n",
       "        vertical-align: middle;\n",
       "    }\n",
       "\n",
       "    .dataframe tbody tr th {\n",
       "        vertical-align: top;\n",
       "    }\n",
       "\n",
       "    .dataframe thead th {\n",
       "        text-align: right;\n",
       "    }\n",
       "</style>\n",
       "<table border=\"1\" class=\"dataframe\">\n",
       "  <thead>\n",
       "    <tr style=\"text-align: right;\">\n",
       "      <th></th>\n",
       "      <th>0~4세.1</th>\n",
       "      <th>5~9세.1</th>\n",
       "      <th>10~14세.1</th>\n",
       "      <th>15~19세.1</th>\n",
       "      <th>20~24세.1</th>\n",
       "      <th>25~29세.1</th>\n",
       "      <th>30~34세.1</th>\n",
       "      <th>35~39세.1</th>\n",
       "      <th>40~44세.1</th>\n",
       "      <th>45~49세.1</th>\n",
       "      <th>...</th>\n",
       "      <th>55~59세.1</th>\n",
       "      <th>60~64세.1</th>\n",
       "      <th>65~69세.1</th>\n",
       "      <th>70~74세.1</th>\n",
       "      <th>75~79세.1</th>\n",
       "      <th>80~84세.1</th>\n",
       "      <th>85~89세.1</th>\n",
       "      <th>90~94세.1</th>\n",
       "      <th>95~99세.1</th>\n",
       "      <th>100세 이상.1</th>\n",
       "    </tr>\n",
       "    <tr>\n",
       "      <th>행정기관</th>\n",
       "      <th></th>\n",
       "      <th></th>\n",
       "      <th></th>\n",
       "      <th></th>\n",
       "      <th></th>\n",
       "      <th></th>\n",
       "      <th></th>\n",
       "      <th></th>\n",
       "      <th></th>\n",
       "      <th></th>\n",
       "      <th></th>\n",
       "      <th></th>\n",
       "      <th></th>\n",
       "      <th></th>\n",
       "      <th></th>\n",
       "      <th></th>\n",
       "      <th></th>\n",
       "      <th></th>\n",
       "      <th></th>\n",
       "      <th></th>\n",
       "      <th></th>\n",
       "    </tr>\n",
       "  </thead>\n",
       "  <tbody>\n",
       "    <tr>\n",
       "      <th>전국</th>\n",
       "      <td>1,116,107</td>\n",
       "      <td>1,166,239</td>\n",
       "      <td>1,547,609</td>\n",
       "      <td>1,665,258</td>\n",
       "      <td>1,489,397</td>\n",
       "      <td>1,792,713</td>\n",
       "      <td>1,939,971</td>\n",
       "      <td>2,153,691</td>\n",
       "      <td>2,223,783</td>\n",
       "      <td>2,104,940</td>\n",
       "      <td>...</td>\n",
       "      <td>1,510,013</td>\n",
       "      <td>1,176,213</td>\n",
       "      <td>1,017,435</td>\n",
       "      <td>898,519</td>\n",
       "      <td>663,734</td>\n",
       "      <td>405,844</td>\n",
       "      <td>198,868</td>\n",
       "      <td>67,666</td>\n",
       "      <td>17,905</td>\n",
       "      <td>8,575</td>\n",
       "    </tr>\n",
       "    <tr>\n",
       "      <th>서울특별시</th>\n",
       "      <td>206,825</td>\n",
       "      <td>207,103</td>\n",
       "      <td>273,353</td>\n",
       "      <td>316,555</td>\n",
       "      <td>330,832</td>\n",
       "      <td>458,724</td>\n",
       "      <td>461,389</td>\n",
       "      <td>457,905</td>\n",
       "      <td>448,805</td>\n",
       "      <td>424,763</td>\n",
       "      <td>...</td>\n",
       "      <td>338,961</td>\n",
       "      <td>262,372</td>\n",
       "      <td>201,802</td>\n",
       "      <td>151,448</td>\n",
       "      <td>102,542</td>\n",
       "      <td>65,174</td>\n",
       "      <td>33,286</td>\n",
       "      <td>12,256</td>\n",
       "      <td>3,738</td>\n",
       "      <td>2,621</td>\n",
       "    </tr>\n",
       "    <tr>\n",
       "      <th>부산광역시</th>\n",
       "      <td>62,637</td>\n",
       "      <td>67,307</td>\n",
       "      <td>94,303</td>\n",
       "      <td>111,596</td>\n",
       "      <td>108,980</td>\n",
       "      <td>128,746</td>\n",
       "      <td>129,061</td>\n",
       "      <td>137,382</td>\n",
       "      <td>150,865</td>\n",
       "      <td>157,167</td>\n",
       "      <td>...</td>\n",
       "      <td>135,949</td>\n",
       "      <td>102,442</td>\n",
       "      <td>79,632</td>\n",
       "      <td>65,073</td>\n",
       "      <td>44,732</td>\n",
       "      <td>27,279</td>\n",
       "      <td>12,562</td>\n",
       "      <td>3,768</td>\n",
       "      <td>1,122</td>\n",
       "      <td>827</td>\n",
       "    </tr>\n",
       "  </tbody>\n",
       "</table>\n",
       "<p>3 rows × 21 columns</p>\n",
       "</div>"
      ],
      "text/plain": [
       "            0~4세.1     5~9세.1   10~14세.1   15~19세.1   20~24세.1   25~29세.1  \\\n",
       "행정기관                                                                        \n",
       "전국       1,116,107  1,166,239  1,547,609  1,665,258  1,489,397  1,792,713   \n",
       "서울특별시      206,825    207,103    273,353    316,555    330,832    458,724   \n",
       "부산광역시       62,637     67,307     94,303    111,596    108,980    128,746   \n",
       "\n",
       "          30~34세.1   35~39세.1   40~44세.1   45~49세.1  ...   55~59세.1  \\\n",
       "행정기관                                                 ...              \n",
       "전국       1,939,971  2,153,691  2,223,783  2,104,940  ...  1,510,013   \n",
       "서울특별시      461,389    457,905    448,805    424,763  ...    338,961   \n",
       "부산광역시      129,061    137,382    150,865    157,167  ...    135,949   \n",
       "\n",
       "          60~64세.1   65~69세.1 70~74세.1 75~79세.1 80~84세.1 85~89세.1 90~94세.1  \\\n",
       "행정기관                                                                         \n",
       "전국       1,176,213  1,017,435  898,519  663,734  405,844  198,868   67,666   \n",
       "서울특별시      262,372    201,802  151,448  102,542   65,174   33,286   12,256   \n",
       "부산광역시      102,442     79,632   65,073   44,732   27,279   12,562    3,768   \n",
       "\n",
       "        95~99세.1 100세 이상.1  \n",
       "행정기관                        \n",
       "전국        17,905     8,575  \n",
       "서울특별시      3,738     2,621  \n",
       "부산광역시      1,122       827  \n",
       "\n",
       "[3 rows x 21 columns]"
      ]
     },
     "execution_count": 12,
     "metadata": {},
     "output_type": "execute_result"
    }
   ],
   "source": [
    "df_w = pd.read_excel('201102_201102_연령별인구현황_월간.xlsx',skiprows=3,index_col='행정기관',usecols='B,AB:AV')\n",
    "df_w.head(3)"
   ]
  },
  {
   "cell_type": "code",
   "execution_count": 13,
   "id": "4b082f44",
   "metadata": {},
   "outputs": [
    {
     "data": {
      "text/plain": [
       "Index(['0~4세.1', '5~9세.1', '10~14세.1', '15~19세.1', '20~24세.1', '25~29세.1',\n",
       "       '30~34세.1', '35~39세.1', '40~44세.1', '45~49세.1', '50~54세.1', '55~59세.1',\n",
       "       '60~64세.1', '65~69세.1', '70~74세.1', '75~79세.1', '80~84세.1', '85~89세.1',\n",
       "       '90~94세.1', '95~99세.1', '100세 이상.1'],\n",
       "      dtype='object')"
      ]
     },
     "execution_count": 13,
     "metadata": {},
     "output_type": "execute_result"
    }
   ],
   "source": [
    "df_m.columns"
   ]
  },
  {
   "cell_type": "code",
   "execution_count": 17,
   "id": "596da544",
   "metadata": {},
   "outputs": [
    {
     "data": {
      "text/plain": [
       "Index(['0~4세', '5~9세', '10~14세', '15~19세', '20~24세', '25~29세', '30~34세',\n",
       "       '35~39세', '40~44세', '45~49세', '50~54세', '55~59세', '60~64세', '65~69세',\n",
       "       '70~74세', '75~79세', '80~84세', '85~89세', '90~94세', '95~99세', '100세 이상'],\n",
       "      dtype='object')"
      ]
     },
     "execution_count": 17,
     "metadata": {},
     "output_type": "execute_result"
    }
   ],
   "source": [
    "df_w.columns\n",
    "# 컬럼명에 .1들이 붙어있음."
   ]
  },
  {
   "cell_type": "code",
   "execution_count": 16,
   "id": "d65781cb",
   "metadata": {},
   "outputs": [
    {
     "data": {
      "text/plain": [
       "Index(['0~4세', '5~9세', '10~14세', '15~19세', '20~24세', '25~29세', '30~34세',\n",
       "       '35~39세', '40~44세', '45~49세', '50~54세', '55~59세', '60~64세', '65~69세',\n",
       "       '70~74세', '75~79세', '80~84세', '85~89세', '90~94세', '95~99세', '100세 이상'],\n",
       "      dtype='object')"
      ]
     },
     "execution_count": 16,
     "metadata": {},
     "output_type": "execute_result"
    }
   ],
   "source": [
    "df_w.columns = df_m.columns\n",
    "df_w.columns"
   ]
  },
  {
   "cell_type": "code",
   "execution_count": 20,
   "id": "17913c36",
   "metadata": {},
   "outputs": [
    {
     "data": {
      "text/html": [
       "<div>\n",
       "<style scoped>\n",
       "    .dataframe tbody tr th:only-of-type {\n",
       "        vertical-align: middle;\n",
       "    }\n",
       "\n",
       "    .dataframe tbody tr th {\n",
       "        vertical-align: top;\n",
       "    }\n",
       "\n",
       "    .dataframe thead th {\n",
       "        text-align: right;\n",
       "    }\n",
       "</style>\n",
       "<table border=\"1\" class=\"dataframe\">\n",
       "  <thead>\n",
       "    <tr style=\"text-align: right;\">\n",
       "      <th></th>\n",
       "      <th>0~4세</th>\n",
       "      <th>5~9세</th>\n",
       "      <th>10~14세</th>\n",
       "      <th>15~19세</th>\n",
       "      <th>20~24세</th>\n",
       "      <th>25~29세</th>\n",
       "      <th>30~34세</th>\n",
       "      <th>35~39세</th>\n",
       "      <th>40~44세</th>\n",
       "      <th>45~49세</th>\n",
       "      <th>...</th>\n",
       "      <th>55~59세</th>\n",
       "      <th>60~64세</th>\n",
       "      <th>65~69세</th>\n",
       "      <th>70~74세</th>\n",
       "      <th>75~79세</th>\n",
       "      <th>80~84세</th>\n",
       "      <th>85~89세</th>\n",
       "      <th>90~94세</th>\n",
       "      <th>95~99세</th>\n",
       "      <th>100세 이상</th>\n",
       "    </tr>\n",
       "    <tr>\n",
       "      <th>행정기관</th>\n",
       "      <th></th>\n",
       "      <th></th>\n",
       "      <th></th>\n",
       "      <th></th>\n",
       "      <th></th>\n",
       "      <th></th>\n",
       "      <th></th>\n",
       "      <th></th>\n",
       "      <th></th>\n",
       "      <th></th>\n",
       "      <th></th>\n",
       "      <th></th>\n",
       "      <th></th>\n",
       "      <th></th>\n",
       "      <th></th>\n",
       "      <th></th>\n",
       "      <th></th>\n",
       "      <th></th>\n",
       "      <th></th>\n",
       "      <th></th>\n",
       "      <th></th>\n",
       "    </tr>\n",
       "  </thead>\n",
       "  <tbody>\n",
       "    <tr>\n",
       "      <th>전국</th>\n",
       "      <td>1116107</td>\n",
       "      <td>1166239</td>\n",
       "      <td>1547609</td>\n",
       "      <td>1665258</td>\n",
       "      <td>1489397</td>\n",
       "      <td>1792713</td>\n",
       "      <td>1939971</td>\n",
       "      <td>2153691</td>\n",
       "      <td>2223783</td>\n",
       "      <td>2104940</td>\n",
       "      <td>...</td>\n",
       "      <td>1510013</td>\n",
       "      <td>1176213</td>\n",
       "      <td>1017435</td>\n",
       "      <td>898519</td>\n",
       "      <td>663734</td>\n",
       "      <td>405844</td>\n",
       "      <td>198868</td>\n",
       "      <td>67666</td>\n",
       "      <td>17905</td>\n",
       "      <td>8575</td>\n",
       "    </tr>\n",
       "    <tr>\n",
       "      <th>서울특별시</th>\n",
       "      <td>206,825</td>\n",
       "      <td>207,103</td>\n",
       "      <td>273,353</td>\n",
       "      <td>316,555</td>\n",
       "      <td>330,832</td>\n",
       "      <td>458,724</td>\n",
       "      <td>461,389</td>\n",
       "      <td>457,905</td>\n",
       "      <td>448,805</td>\n",
       "      <td>424,763</td>\n",
       "      <td>...</td>\n",
       "      <td>338,961</td>\n",
       "      <td>262,372</td>\n",
       "      <td>201,802</td>\n",
       "      <td>151,448</td>\n",
       "      <td>102,542</td>\n",
       "      <td>65,174</td>\n",
       "      <td>33,286</td>\n",
       "      <td>12,256</td>\n",
       "      <td>3,738</td>\n",
       "      <td>2,621</td>\n",
       "    </tr>\n",
       "  </tbody>\n",
       "</table>\n",
       "<p>2 rows × 21 columns</p>\n",
       "</div>"
      ],
      "text/plain": [
       "            0~4세     5~9세   10~14세   15~19세   20~24세   25~29세   30~34세  \\\n",
       "행정기관                                                                     \n",
       "전국       1116107  1166239  1547609  1665258  1489397  1792713  1939971   \n",
       "서울특별시    206,825  207,103  273,353  316,555  330,832  458,724  461,389   \n",
       "\n",
       "          35~39세   40~44세   45~49세  ...   55~59세   60~64세   65~69세   70~74세  \\\n",
       "행정기관                                ...                                       \n",
       "전국       2153691  2223783  2104940  ...  1510013  1176213  1017435   898519   \n",
       "서울특별시    457,905  448,805  424,763  ...  338,961  262,372  201,802  151,448   \n",
       "\n",
       "          75~79세  80~84세  85~89세  90~94세 95~99세 100세 이상  \n",
       "행정기관                                                     \n",
       "전국        663734  405844  198868   67666  17905    8575  \n",
       "서울특별시    102,542  65,174  33,286  12,256  3,738   2,621  \n",
       "\n",
       "[2 rows x 21 columns]"
      ]
     },
     "execution_count": 20,
     "metadata": {},
     "output_type": "execute_result"
    }
   ],
   "source": [
    "df_w.iloc[0] = df_w.iloc[0].str.replace(',','').astype(int)\n",
    "df_w.head(2)"
   ]
  },
  {
   "cell_type": "markdown",
   "id": "929fdd0d",
   "metadata": {},
   "source": [
    "## 그래프 그리기"
   ]
  },
  {
   "cell_type": "code",
   "execution_count": 22,
   "id": "8e2a49ce",
   "metadata": {},
   "outputs": [],
   "source": [
    "import matplotlib.pyplot as plt\n",
    "import matplotlib\n",
    "matplotlib.rcParams['font.family'] = 'Malgun Gothic'\n",
    "matplotlib.rcParams['font.size']=15\n",
    "matplotlib.rcParams['axes.unicode_minus']=False"
   ]
  },
  {
   "cell_type": "code",
   "execution_count": 32,
   "id": "15017a71",
   "metadata": {},
   "outputs": [
    {
     "data": {
      "image/png": "[encoded data removed]",
      "text/plain": [
       "<Figure size 1000x700 with 1 Axes>"
      ]
     },
     "metadata": {},
     "output_type": "display_data"
    }
   ],
   "source": [
    "plt.figure(figsize=(10,7))\n",
    "plt.barh(df_m.columns,-df_m.iloc[0] // 1000) # >> 단위 천 명으로 변경\n",
    "# 2개의 데이터를 0을 기준으로 대칭형으로 표현하고 싶을 때, 하나의 데이터에 음수부호를 붙여줌\n",
    "plt.barh(df_w.columns,df_w.iloc[0] // 1000) \n",
    "plt.title('2011 대한민국 인구 피라미드')\n",
    "plt.savefig('2011 대한민국 인구 피라미드.png',dpi=100)\n",
    "plt.show()"
   ]
  },
  {
   "cell_type": "markdown",
   "id": "9b920b2a",
   "metadata": {},
   "source": [
    "## 2023년 인구 피라미드"
   ]
  },
  {
   "cell_type": "code",
   "execution_count": 33,
   "id": "b9217751",
   "metadata": {},
   "outputs": [
    {
     "name": "stderr",
     "output_type": "stream",
     "text": [
      "C:\\Users\\songkyu\\anaconda3\\envs\\ITConsulting\\lib\\site-packages\\openpyxl\\styles\\stylesheet.py:226: UserWarning: Workbook contains no default style, apply openpyxl's default\n",
      "  warn(\"Workbook contains no default style, apply openpyxl's default\")\n",
      "C:\\Users\\songkyu\\anaconda3\\envs\\ITConsulting\\lib\\site-packages\\openpyxl\\styles\\stylesheet.py:226: UserWarning: Workbook contains no default style, apply openpyxl's default\n",
      "  warn(\"Workbook contains no default style, apply openpyxl's default\")\n"
     ]
    }
   ],
   "source": [
    "file_name='202302_202302_연령별인구현황_월간.xlsx'\n",
    "df2_m = pd.read_excel(file_name,skiprows=3,index_col='행정기관',usecols='B,E:Y')\n",
    "df2_w = pd.read_excel(file_name,skiprows=3,index_col='행정기관',usecols='B,AB:AV')"
   ]
  },
  {
   "cell_type": "code",
   "execution_count": 35,
   "id": "78102cd7",
   "metadata": {},
   "outputs": [],
   "source": [
    "df2_m.iloc[0] = df2_m.iloc[0].str.replace(',','').astype(int)\n",
    "df2_w.columns = df2_m.columns\n",
    "df2_w.iloc[0] = df2_w.iloc[0].str.replace(',','').astype(int)"
   ]
  },
  {
   "cell_type": "code",
   "execution_count": 36,
   "id": "41885fde",
   "metadata": {},
   "outputs": [
    {
     "data": {
      "image/png": "[encoded data removed]",
      "text/plain": [
       "<Figure size 1000x700 with 1 Axes>"
      ]
     },
     "metadata": {},
     "output_type": "display_data"
    }
   ],
   "source": [
    "plt.figure(figsize=(10,7))\n",
    "plt.barh(df2_m.columns,-df2_m.iloc[0] // 1000) # >> 단위 천 명으로 변경\n",
    "plt.barh(df2_w.columns,df2_w.iloc[0] // 1000) \n",
    "plt.title('2023 대한민국 인구 피라미드')\n",
    "plt.savefig('2023 대한민국 인구 피라미드.png',dpi=100)\n",
    "plt.show()"
   ]
  }
 ],
 "metadata": {
  "kernelspec": {
   "display_name": "Python 3 (ipykernel)",
   "language": "python",
   "name": "python3"
  },
  "language_info": {
   "codemirror_mode": {
    "name": "ipython",
    "version": 3
   },
   "file_extension": ".py",
   "mimetype": "text/x-python",
   "name": "python",
   "nbconvert_exporter": "python",
   "pygments_lexer": "ipython3",
   "version": "3.10.9"
  }
 },
 "nbformat": 4,
 "nbformat_minor": 5
}
